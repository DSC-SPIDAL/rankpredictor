{
 "cells": [
  {
   "cell_type": "markdown",
   "metadata": {},
   "source": [
    "### laptime analysis\n",
    "\n",
    "answer the questions:\n",
    "\n",
    "1. any trend in the lap time over laps observable?\n"
   ]
  },
  {
   "cell_type": "markdown",
   "metadata": {},
   "source": [
    "# Imports"
   ]
  },
  {
   "cell_type": "code",
   "execution_count": 1,
   "metadata": {},
   "outputs": [],
   "source": [
    "%matplotlib inline\n",
    "\n",
    "import pandas as pd\n",
    "import numpy as np\n",
    "import matplotlib.pyplot as plt\n",
    "\n",
    "\n",
    "# to use only one GPU.\n",
    "# use this on r-001\n",
    "# otherwise comment\n",
    "import os\n",
    "os.environ[\"CUDA_VISIBLE_DEVICES\"]=\"7\"\n"
   ]
  },
  {
   "cell_type": "markdown",
   "metadata": {},
   "source": [
    "## Load Data"
   ]
  },
  {
   "cell_type": "code",
   "execution_count": 2,
   "metadata": {},
   "outputs": [
    {
     "data": {
      "text/plain": [
       "'/scratch/hpda/indycar/predictor/notebook/DataAnalysis'"
      ]
     },
     "execution_count": 2,
     "metadata": {},
     "output_type": "execute_result"
    }
   ],
   "source": [
    "import os\n",
    "os.getcwd()\n"
   ]
  },
  {
   "cell_type": "code",
   "execution_count": 3,
   "metadata": {},
   "outputs": [
    {
     "name": "stdout",
     "output_type": "stream",
     "text": [
      "<class 'pandas.core.frame.DataFrame'>\n",
      "RangeIndex: 18500 entries, 0 to 18499\n",
      "Data columns (total 21 columns):\n",
      "rank                    18500 non-null int64\n",
      "car_number              18500 non-null int64\n",
      "unique_id               18500 non-null object\n",
      "completed_laps          18500 non-null int64\n",
      "elapsed_time            18500 non-null float64\n",
      "last_laptime            18500 non-null float64\n",
      "lap_status              18500 non-null object\n",
      "best_laptime            18500 non-null float64\n",
      "best_lap                18500 non-null object\n",
      "time_behind_leader      18500 non-null float64\n",
      "laps_behind_leade       18500 non-null object\n",
      "time_behind_prec        18500 non-null float64\n",
      "laps_behind_prec        18500 non-null object\n",
      "overall_rank            18500 non-null object\n",
      "overall_best_laptime    18500 non-null float64\n",
      "current_status          18500 non-null object\n",
      "track_status            18500 non-null object\n",
      "pit_stop_count          18500 non-null object\n",
      "last_pitted_lap         18500 non-null object\n",
      "start_position          18500 non-null object\n",
      "laps_led                18500 non-null object\n",
      "dtypes: float64(6), int64(3), object(12)\n",
      "memory usage: 3.0+ MB\n"
     ]
    }
   ],
   "source": [
    "#\n",
    "# parameters\n",
    "#\n",
    "#year = '2017'\n",
    "year = '2018'\n",
    "#event = 'Toronto'\n",
    "event = 'Indy500'\n",
    "\n",
    "inputfile = '../C_'+ event +'-' + year + '-final.csv'\n",
    "outputprefix = year +'-' + event + '-'\n",
    "dataset = pd.read_csv(inputfile)\n",
    "dataset.info(verbose=True)"
   ]
  },
  {
   "cell_type": "code",
   "execution_count": null,
   "metadata": {},
   "outputs": [],
   "source": []
  },
  {
   "cell_type": "code",
   "execution_count": 4,
   "metadata": {},
   "outputs": [],
   "source": [
    "# make indy car completed_laps dataset\n",
    "# car_number, completed_laps, rank, elapsed_time, rank_diff, elapsed_time_diff \n",
    "def make_cl_data(dataset):\n",
    "\n",
    "    # pick up data with valid rank\n",
    "    rankdata = dataset.rename_axis('MyIdx').sort_values(by=['elapsed_time','MyIdx'], ascending=True)\n",
    "    rankdata = rankdata.drop_duplicates(subset=['car_number', 'completed_laps'], keep='first')\n",
    "\n",
    "    # resort by car_number, lap\n",
    "    uni_ds = rankdata.sort_values(by=['car_number', 'completed_laps', 'elapsed_time'], ascending=True)    \n",
    "    uni_ds = uni_ds.drop([\"unique_id\", \"best_lap\", \"current_status\", \"track_status\", \"lap_status\",\n",
    "                      \"laps_behind_leade\",\"laps_behind_prec\",\"overall_rank\",\"pit_stop_count\",\n",
    "                      \"last_pitted_lap\",\"start_position\",\"laps_led\"], axis=1)\n",
    "    \n",
    "    carnumber = set(uni_ds['car_number'])\n",
    "    print('cars:', carnumber)\n",
    "    print('#cars=', len(carnumber))\n",
    "   \n",
    "    # faster solution , uni_ds already sorted by car_number and lap\n",
    "    uni_ds['rank_diff'] = uni_ds['rank'].diff()\n",
    "    mask = uni_ds.car_number != uni_ds.car_number.shift(1)\n",
    "    uni_ds['rank_diff'][mask] = 0\n",
    "    \n",
    "    uni_ds['time_diff'] = uni_ds['elapsed_time'].diff()\n",
    "    mask = uni_ds.car_number != uni_ds.car_number.shift(1)\n",
    "    uni_ds['time_diff'][mask] = 0\n",
    "    \n",
    "    df = uni_ds[['car_number','completed_laps','rank','elapsed_time','rank_diff','time_diff']]\n",
    "    \n",
    "    return df\n",
    "\n",
    "def make_lapstatus_data(dataset):\n",
    "    final_lap = max(dataset.completed_laps)\n",
    "    total_laps = final_lap + 1\n",
    "\n",
    "    # get records for the cars that finish the race\n",
    "    completed_car_numbers= dataset[dataset.completed_laps == final_lap].car_number.values\n",
    "    completed_car_count = len(completed_car_numbers)\n",
    "\n",
    "    print('count of completed cars:', completed_car_count)\n",
    "    print('completed cars:', completed_car_numbers)\n",
    "    \n",
    "    #pick up one of them\n",
    "    onecar = dataset[dataset['car_number']==completed_car_numbers[0]]\n",
    "    onecar = onecar.drop_duplicates(subset=['car_number', 'completed_laps'], keep='first')\n",
    "    return onecar[['completed_laps','track_status']]\n",
    "    "
   ]
  },
  {
   "cell_type": "code",
   "execution_count": 5,
   "metadata": {},
   "outputs": [
    {
     "name": "stdout",
     "output_type": "stream",
     "text": [
      "count of completed cars: 18\n",
      "completed cars: [12 20  9 27 28 22 29  1  6 15 66 98  4 88 25 60 64 23]\n"
     ]
    }
   ],
   "source": [
    "final_lap = max(dataset.completed_laps)\n",
    "total_laps = final_lap + 1\n",
    "\n",
    "# get records for the cars that finish the race\n",
    "completed_car_numbers= dataset[dataset.completed_laps == final_lap].car_number.values\n",
    "completed_car_count = len(completed_car_numbers)\n",
    "\n",
    "print('count of completed cars:', completed_car_count)\n",
    "print('completed cars:', completed_car_numbers)\n",
    "\n",
    "#make a copy\n",
    "alldata = dataset.copy()\n",
    "dataset = dataset[dataset['car_number'].isin(completed_car_numbers)]\n",
    "rankdata = alldata.rename_axis('MyIdx').sort_values(by=['elapsed_time','MyIdx'], ascending=True)\n",
    "rankdata = rankdata.drop_duplicates(subset=['car_number', 'completed_laps'], keep='first')"
   ]
  },
  {
   "cell_type": "code",
   "execution_count": 6,
   "metadata": {},
   "outputs": [
    {
     "name": "stdout",
     "output_type": "stream",
     "text": [
      "cars: {64, 1, 66, 98, 4, 6, 9, 12, 60, 15, 20, 22, 23, 88, 25, 27, 28, 29}\n",
      "#cars= 18\n",
      "count of completed cars: 18\n",
      "completed cars: [12 20  9 27 28 22 29  1  6 15 66 98  4 88 25 60 64 23]\n",
      "cars: {1, 3, 4, 6, 7, 9, 10, 12, 13, 14, 15, 17, 18, 19, 20, 21, 22, 23, 24, 25, 26, 27, 28, 29, 30, 32, 33, 59, 60, 64, 66, 88, 98}\n",
      "#cars= 33\n"
     ]
    },
    {
     "name": "stderr",
     "output_type": "stream",
     "text": [
      "/scratch/hpda/anaconda3/envs/predictor/lib/python3.7/site-packages/ipykernel_launcher.py:22: SettingWithCopyWarning: \n",
      "A value is trying to be set on a copy of a slice from a DataFrame\n",
      "\n",
      "See the caveats in the documentation: http://pandas.pydata.org/pandas-docs/stable/indexing.html#indexing-view-versus-copy\n",
      "/scratch/hpda/anaconda3/envs/predictor/lib/python3.7/site-packages/ipykernel_launcher.py:26: SettingWithCopyWarning: \n",
      "A value is trying to be set on a copy of a slice from a DataFrame\n",
      "\n",
      "See the caveats in the documentation: http://pandas.pydata.org/pandas-docs/stable/indexing.html#indexing-view-versus-copy\n"
     ]
    }
   ],
   "source": [
    "cldata = make_cl_data(dataset)\n",
    "#cldata.to_csv(outputprefix + 'completed_laps_diff.csv')\n",
    "\n",
    "flagdata = make_lapstatus_data(dataset)\n",
    "#flagdata.to_csv(outputprefix + 'flagstatus.csv')\n",
    "\n",
    "acldata = make_cl_data(alldata)\n",
    "#cldata.to_csv(outputprefix + 'all_completed_laps_diff.csv')"
   ]
  },
  {
   "cell_type": "markdown",
   "metadata": {},
   "source": [
    "### overall view of laptime scatter plots\n",
    "\n"
   ]
  },
  {
   "cell_type": "code",
   "execution_count": 100,
   "metadata": {},
   "outputs": [
    {
     "name": "stdout",
     "output_type": "stream",
     "text": [
      "count    201.000000\n",
      "mean      53.643840\n",
      "std       23.085979\n",
      "min        0.000000\n",
      "25%       41.181000\n",
      "50%       41.526500\n",
      "75%       52.474600\n",
      "max      117.870100\n",
      "Name: time_diff, dtype: float64\n"
     ]
    }
   ],
   "source": [
    "curcarno = 12\n",
    "car = acldata[acldata['car_number']==curcarno]\n",
    "print(car['time_diff'].describe())\n",
    "#car['time_diff'][:total_laps].plot(marker='.')\n",
    "\n",
    "\n"
   ]
  },
  {
   "cell_type": "code",
   "execution_count": 101,
   "metadata": {},
   "outputs": [],
   "source": [
    "cols=['completed_laps','rank','car_number','lap_status','track_status',\n",
    "    'pit_stop_count','current_status','start_position']\n",
    "colid={key:idx for idx, key in enumerate(cols)}\n",
    "\n",
    "cardata = rankdata[rankdata['car_number'] == curcarno]\n",
    "\n",
    "carstatus = [[row[0], row[1],row[2],row[3],row[4],row[5],row[6],row[7]] for row in cardata[\n",
    "    ['completed_laps','rank','car_number','lap_status','track_status',\n",
    "    'pit_stop_count','current_status','start_position']].values]"
   ]
  },
  {
   "cell_type": "code",
   "execution_count": 102,
   "metadata": {},
   "outputs": [
    {
     "data": {
      "image/png": "[encoded data removed]",
      "text/plain": [
       "<Figure size 1152x432 with 2 Axes>"
      ]
     },
     "metadata": {
      "needs_background": "light"
     },
     "output_type": "display_data"
    }
   ],
   "source": [
    "fig, axes = plt.subplots(2,sharex=True,figsize=(16,6))\n",
    "#fig.set_size_inches(15,8)\n",
    "\n",
    "\n",
    "\n",
    "x = car['completed_laps'][1:].values\n",
    "y = car['time_diff'][1:].values\n",
    "\n",
    "\n",
    "\n",
    "pits=[]\n",
    "yellowflags=[]\n",
    "lastflag = 'x'\n",
    "for row in carstatus:\n",
    "    lap = int(row[colid['completed_laps']])\n",
    "    \n",
    "    if row[colid['lap_status']]=='P':\n",
    "        pits.append(lap)\n",
    "        \n",
    "    if row[colid['track_status']]=='Y':\n",
    "        if lastflag != 'Y':       \n",
    "            #start\n",
    "            yellowflags.append(lap)\n",
    "    else:\n",
    "        if lastflag == 'Y':       \n",
    "            #end\n",
    "            yellowflags.append(lap)        \n",
    "    lastflag = row[colid['track_status']]\n",
    "        \n",
    "#pit lap\n",
    "pits = np.array(pits)\n",
    "#start, end lap\n",
    "yellowflags = np.array(yellowflags).reshape((-1,2))\n",
    "        \n",
    "def draw_laptime(ax):\n",
    "    #yellow flags\n",
    "    for yflag in yellowflags:\n",
    "        ax.bar(yflag[0],120, width = yflag[1] - yflag[0], align='edge', color = 'y', zorder=-100)\n",
    "\n",
    "    #plt.plot(np.arange(laptime.shape[0]), laptime, marker='.')\n",
    "    ax.scatter(x, y, marker='.')    \n",
    "\n",
    "    #pit stops    \n",
    "    ax.scatter(pits, y[pits-1], marker='x', color='r')\n",
    "    for pit in pits:\n",
    "        ax.bar(pit,height = y[pits-1], width = .8, align='center', color = 'r', zorder=-100)\n",
    "    \n",
    "    #ax.set_xlim((0, 33))\n",
    "    #ax.set_ylim((0, 201))\n",
    "    ax.set_xlabel('Lap')\n",
    "    ax.set_ylabel('Lap Time')\n",
    "\n",
    "draw_laptime(axes[0])\n",
    "axes[1].set_ylim((40, 45))\n",
    "draw_laptime(axes[1])\n",
    "\n",
    "\n",
    "#ax.set_aspect('equal')\n",
    "axes[0].set_title('Car_Number:%d'%curcarno)\n",
    "fig.tight_layout()\n",
    "fig.savefig(outputprefix + '_laptime-%d.pdf'%curcarno)"
   ]
  },
  {
   "cell_type": "code",
   "execution_count": 103,
   "metadata": {},
   "outputs": [
    {
     "data": {
      "text/plain": [
       "array([[ 48,  55],\n",
       "       [ 58,  63],\n",
       "       [ 68,  73],\n",
       "       [139, 145],\n",
       "       [146, 153],\n",
       "       [154, 161],\n",
       "       [188, 193]])"
      ]
     },
     "execution_count": 103,
     "metadata": {},
     "output_type": "execute_result"
    }
   ],
   "source": [
    "yellowflags"
   ]
  },
  {
   "cell_type": "code",
   "execution_count": 104,
   "metadata": {},
   "outputs": [
    {
     "data": {
      "text/plain": [
       "array([ 32,  50,  94, 129, 171])"
      ]
     },
     "execution_count": 104,
     "metadata": {},
     "output_type": "execute_result"
    }
   ],
   "source": [
    "pits"
   ]
  },
  {
   "cell_type": "code",
   "execution_count": 106,
   "metadata": {},
   "outputs": [
    {
     "data": {
      "text/html": [
       "<div>\n",
       "<style scoped>\n",
       "    .dataframe tbody tr th:only-of-type {\n",
       "        vertical-align: middle;\n",
       "    }\n",
       "\n",
       "    .dataframe tbody tr th {\n",
       "        vertical-align: top;\n",
       "    }\n",
       "\n",
       "    .dataframe thead th {\n",
       "        text-align: right;\n",
       "    }\n",
       "</style>\n",
       "<table border=\"1\" class=\"dataframe\">\n",
       "  <thead>\n",
       "    <tr style=\"text-align: right;\">\n",
       "      <th></th>\n",
       "      <th>rank</th>\n",
       "      <th>car_number</th>\n",
       "      <th>unique_id</th>\n",
       "      <th>completed_laps</th>\n",
       "      <th>elapsed_time</th>\n",
       "      <th>last_laptime</th>\n",
       "      <th>lap_status</th>\n",
       "      <th>best_laptime</th>\n",
       "      <th>best_lap</th>\n",
       "      <th>time_behind_leader</th>\n",
       "      <th>...</th>\n",
       "      <th>time_behind_prec</th>\n",
       "      <th>laps_behind_prec</th>\n",
       "      <th>overall_rank</th>\n",
       "      <th>overall_best_laptime</th>\n",
       "      <th>current_status</th>\n",
       "      <th>track_status</th>\n",
       "      <th>pit_stop_count</th>\n",
       "      <th>last_pitted_lap</th>\n",
       "      <th>start_position</th>\n",
       "      <th>laps_led</th>\n",
       "    </tr>\n",
       "    <tr>\n",
       "      <th>MyIdx</th>\n",
       "      <th></th>\n",
       "      <th></th>\n",
       "      <th></th>\n",
       "      <th></th>\n",
       "      <th></th>\n",
       "      <th></th>\n",
       "      <th></th>\n",
       "      <th></th>\n",
       "      <th></th>\n",
       "      <th></th>\n",
       "      <th></th>\n",
       "      <th></th>\n",
       "      <th></th>\n",
       "      <th></th>\n",
       "      <th></th>\n",
       "      <th></th>\n",
       "      <th></th>\n",
       "      <th></th>\n",
       "      <th></th>\n",
       "      <th></th>\n",
       "      <th></th>\n",
       "    </tr>\n",
       "  </thead>\n",
       "  <tbody>\n",
       "    <tr>\n",
       "      <th>2242</th>\n",
       "      <td>3</td>\n",
       "      <td>12</td>\n",
       "      <td>2</td>\n",
       "      <td>26</td>\n",
       "      <td>1073.0892</td>\n",
       "      <td>41.3980</td>\n",
       "      <td>T</td>\n",
       "      <td>40.7903</td>\n",
       "      <td>5</td>\n",
       "      <td>2.4153</td>\n",
       "      <td>...</td>\n",
       "      <td>1.3802</td>\n",
       "      <td>0</td>\n",
       "      <td>3</td>\n",
       "      <td>40.7903</td>\n",
       "      <td>Active</td>\n",
       "      <td>G</td>\n",
       "      <td>0</td>\n",
       "      <td>0</td>\n",
       "      <td>3</td>\n",
       "      <td>0</td>\n",
       "    </tr>\n",
       "    <tr>\n",
       "      <th>2332</th>\n",
       "      <td>3</td>\n",
       "      <td>12</td>\n",
       "      <td>2</td>\n",
       "      <td>27</td>\n",
       "      <td>1115.0069</td>\n",
       "      <td>41.9177</td>\n",
       "      <td>T</td>\n",
       "      <td>40.7903</td>\n",
       "      <td>5</td>\n",
       "      <td>2.3900</td>\n",
       "      <td>...</td>\n",
       "      <td>1.3798</td>\n",
       "      <td>0</td>\n",
       "      <td>3</td>\n",
       "      <td>40.7903</td>\n",
       "      <td>Active</td>\n",
       "      <td>G</td>\n",
       "      <td>0</td>\n",
       "      <td>0</td>\n",
       "      <td>3</td>\n",
       "      <td>0</td>\n",
       "    </tr>\n",
       "    <tr>\n",
       "      <th>2424</th>\n",
       "      <td>3</td>\n",
       "      <td>12</td>\n",
       "      <td>2</td>\n",
       "      <td>28</td>\n",
       "      <td>1156.9452</td>\n",
       "      <td>41.9383</td>\n",
       "      <td>T</td>\n",
       "      <td>40.7903</td>\n",
       "      <td>5</td>\n",
       "      <td>1.9214</td>\n",
       "      <td>...</td>\n",
       "      <td>0.8658</td>\n",
       "      <td>0</td>\n",
       "      <td>3</td>\n",
       "      <td>40.7903</td>\n",
       "      <td>Active</td>\n",
       "      <td>G</td>\n",
       "      <td>0</td>\n",
       "      <td>0</td>\n",
       "      <td>3</td>\n",
       "      <td>0</td>\n",
       "    </tr>\n",
       "    <tr>\n",
       "      <th>2516</th>\n",
       "      <td>3</td>\n",
       "      <td>12</td>\n",
       "      <td>2</td>\n",
       "      <td>29</td>\n",
       "      <td>1199.1295</td>\n",
       "      <td>42.1843</td>\n",
       "      <td>T</td>\n",
       "      <td>40.7903</td>\n",
       "      <td>5</td>\n",
       "      <td>1.9555</td>\n",
       "      <td>...</td>\n",
       "      <td>0.8838</td>\n",
       "      <td>0</td>\n",
       "      <td>3</td>\n",
       "      <td>40.7903</td>\n",
       "      <td>Active</td>\n",
       "      <td>G</td>\n",
       "      <td>0</td>\n",
       "      <td>0</td>\n",
       "      <td>3</td>\n",
       "      <td>0</td>\n",
       "    </tr>\n",
       "    <tr>\n",
       "      <th>2610</th>\n",
       "      <td>4</td>\n",
       "      <td>12</td>\n",
       "      <td>2</td>\n",
       "      <td>30</td>\n",
       "      <td>1243.1682</td>\n",
       "      <td>44.0387</td>\n",
       "      <td>T</td>\n",
       "      <td>40.7903</td>\n",
       "      <td>5</td>\n",
       "      <td>1.1264</td>\n",
       "      <td>...</td>\n",
       "      <td>0.4850</td>\n",
       "      <td>0</td>\n",
       "      <td>4</td>\n",
       "      <td>40.7903</td>\n",
       "      <td>Active</td>\n",
       "      <td>G</td>\n",
       "      <td>0</td>\n",
       "      <td>0</td>\n",
       "      <td>3</td>\n",
       "      <td>0</td>\n",
       "    </tr>\n",
       "    <tr>\n",
       "      <th>2700</th>\n",
       "      <td>2</td>\n",
       "      <td>12</td>\n",
       "      <td>2</td>\n",
       "      <td>31</td>\n",
       "      <td>1288.8561</td>\n",
       "      <td>45.6879</td>\n",
       "      <td>T</td>\n",
       "      <td>40.7903</td>\n",
       "      <td>5</td>\n",
       "      <td>1.6026</td>\n",
       "      <td>...</td>\n",
       "      <td>1.6026</td>\n",
       "      <td>0</td>\n",
       "      <td>2</td>\n",
       "      <td>40.7903</td>\n",
       "      <td>Active</td>\n",
       "      <td>G</td>\n",
       "      <td>0</td>\n",
       "      <td>0</td>\n",
       "      <td>3</td>\n",
       "      <td>0</td>\n",
       "    </tr>\n",
       "    <tr>\n",
       "      <th>2836</th>\n",
       "      <td>4</td>\n",
       "      <td>12</td>\n",
       "      <td>2</td>\n",
       "      <td>32</td>\n",
       "      <td>1345.0213</td>\n",
       "      <td>56.1652</td>\n",
       "      <td>P</td>\n",
       "      <td>40.7903</td>\n",
       "      <td>5</td>\n",
       "      <td>12.3354</td>\n",
       "      <td>...</td>\n",
       "      <td>2.4475</td>\n",
       "      <td>0</td>\n",
       "      <td>4</td>\n",
       "      <td>40.7903</td>\n",
       "      <td>Active</td>\n",
       "      <td>G</td>\n",
       "      <td>1</td>\n",
       "      <td>20</td>\n",
       "      <td>3</td>\n",
       "      <td>0</td>\n",
       "    </tr>\n",
       "    <tr>\n",
       "      <th>3094</th>\n",
       "      <td>18</td>\n",
       "      <td>12</td>\n",
       "      <td>2</td>\n",
       "      <td>33</td>\n",
       "      <td>1412.5610</td>\n",
       "      <td>67.5397</td>\n",
       "      <td>T</td>\n",
       "      <td>40.7903</td>\n",
       "      <td>5</td>\n",
       "      <td>37.0525</td>\n",
       "      <td>...</td>\n",
       "      <td>0.0355</td>\n",
       "      <td>0</td>\n",
       "      <td>12</td>\n",
       "      <td>40.7903</td>\n",
       "      <td>Active</td>\n",
       "      <td>G</td>\n",
       "      <td>1</td>\n",
       "      <td>20</td>\n",
       "      <td>3</td>\n",
       "      <td>0</td>\n",
       "    </tr>\n",
       "    <tr>\n",
       "      <th>3219</th>\n",
       "      <td>10</td>\n",
       "      <td>12</td>\n",
       "      <td>2</td>\n",
       "      <td>34</td>\n",
       "      <td>1454.1976</td>\n",
       "      <td>41.6366</td>\n",
       "      <td>T</td>\n",
       "      <td>40.7903</td>\n",
       "      <td>5</td>\n",
       "      <td>23.9824</td>\n",
       "      <td>...</td>\n",
       "      <td>0.4734</td>\n",
       "      <td>0</td>\n",
       "      <td>A</td>\n",
       "      <td>40.7903</td>\n",
       "      <td>Active</td>\n",
       "      <td>G</td>\n",
       "      <td>1</td>\n",
       "      <td>20</td>\n",
       "      <td>3</td>\n",
       "      <td>0</td>\n",
       "    </tr>\n",
       "    <tr>\n",
       "      <th>3368</th>\n",
       "      <td>6</td>\n",
       "      <td>12</td>\n",
       "      <td>2</td>\n",
       "      <td>35</td>\n",
       "      <td>1495.1092</td>\n",
       "      <td>40.9116</td>\n",
       "      <td>T</td>\n",
       "      <td>40.7903</td>\n",
       "      <td>5</td>\n",
       "      <td>6.6659</td>\n",
       "      <td>...</td>\n",
       "      <td>2.4087</td>\n",
       "      <td>0</td>\n",
       "      <td>6</td>\n",
       "      <td>40.7903</td>\n",
       "      <td>Active</td>\n",
       "      <td>G</td>\n",
       "      <td>1</td>\n",
       "      <td>20</td>\n",
       "      <td>3</td>\n",
       "      <td>0</td>\n",
       "    </tr>\n",
       "  </tbody>\n",
       "</table>\n",
       "<p>10 rows × 21 columns</p>\n",
       "</div>"
      ],
      "text/plain": [
       "       rank  car_number unique_id  completed_laps  elapsed_time  last_laptime  \\\n",
       "MyIdx                                                                           \n",
       "2242      3          12         2              26     1073.0892       41.3980   \n",
       "2332      3          12         2              27     1115.0069       41.9177   \n",
       "2424      3          12         2              28     1156.9452       41.9383   \n",
       "2516      3          12         2              29     1199.1295       42.1843   \n",
       "2610      4          12         2              30     1243.1682       44.0387   \n",
       "2700      2          12         2              31     1288.8561       45.6879   \n",
       "2836      4          12         2              32     1345.0213       56.1652   \n",
       "3094     18          12         2              33     1412.5610       67.5397   \n",
       "3219     10          12         2              34     1454.1976       41.6366   \n",
       "3368      6          12         2              35     1495.1092       40.9116   \n",
       "\n",
       "      lap_status  best_laptime best_lap  time_behind_leader  ...  \\\n",
       "MyIdx                                                        ...   \n",
       "2242           T       40.7903        5              2.4153  ...   \n",
       "2332           T       40.7903        5              2.3900  ...   \n",
       "2424           T       40.7903        5              1.9214  ...   \n",
       "2516           T       40.7903        5              1.9555  ...   \n",
       "2610           T       40.7903        5              1.1264  ...   \n",
       "2700           T       40.7903        5              1.6026  ...   \n",
       "2836           P       40.7903        5             12.3354  ...   \n",
       "3094           T       40.7903        5             37.0525  ...   \n",
       "3219           T       40.7903        5             23.9824  ...   \n",
       "3368           T       40.7903        5              6.6659  ...   \n",
       "\n",
       "      time_behind_prec  laps_behind_prec overall_rank overall_best_laptime  \\\n",
       "MyIdx                                                                        \n",
       "2242            1.3802                 0            3              40.7903   \n",
       "2332            1.3798                 0            3              40.7903   \n",
       "2424            0.8658                 0            3              40.7903   \n",
       "2516            0.8838                 0            3              40.7903   \n",
       "2610            0.4850                 0            4              40.7903   \n",
       "2700            1.6026                 0            2              40.7903   \n",
       "2836            2.4475                 0            4              40.7903   \n",
       "3094            0.0355                 0           12              40.7903   \n",
       "3219            0.4734                 0            A              40.7903   \n",
       "3368            2.4087                 0            6              40.7903   \n",
       "\n",
       "       current_status track_status pit_stop_count last_pitted_lap  \\\n",
       "MyIdx                                                               \n",
       "2242           Active            G              0               0   \n",
       "2332           Active            G              0               0   \n",
       "2424           Active            G              0               0   \n",
       "2516           Active            G              0               0   \n",
       "2610           Active            G              0               0   \n",
       "2700           Active            G              0               0   \n",
       "2836           Active            G              1              20   \n",
       "3094           Active            G              1              20   \n",
       "3219           Active            G              1              20   \n",
       "3368           Active            G              1              20   \n",
       "\n",
       "      start_position laps_led  \n",
       "MyIdx                          \n",
       "2242               3        0  \n",
       "2332               3        0  \n",
       "2424               3        0  \n",
       "2516               3        0  \n",
       "2610               3        0  \n",
       "2700               3        0  \n",
       "2836               3        0  \n",
       "3094               3        0  \n",
       "3219               3        0  \n",
       "3368               3        0  \n",
       "\n",
       "[10 rows x 21 columns]"
      ]
     },
     "execution_count": 106,
     "metadata": {},
     "output_type": "execute_result"
    }
   ],
   "source": [
    "cardata[(cardata['completed_laps']>25) & (cardata['completed_laps']<36)]"
   ]
  },
  {
   "cell_type": "code",
   "execution_count": 18,
   "metadata": {},
   "outputs": [
    {
     "data": {
      "text/plain": [
       "<matplotlib.collections.PathCollection at 0x7f8a080bc9b0>"
      ]
     },
     "execution_count": 18,
     "metadata": {},
     "output_type": "execute_result"
    },
    {
     "data": {
      "image/png": "[encoded data removed]",
      "text/plain": [
       "<Figure size 1152x216 with 1 Axes>"
      ]
     },
     "metadata": {
      "needs_background": "light"
     },
     "output_type": "display_data"
    }
   ],
   "source": [
    "fig, ax = plt.subplots(1,1,figsize=(16,3))\n",
    "#fig.set_size_inches(15,8)\n",
    "\n",
    "#ax.set_xlim((0, 33))\n",
    "ax.set_ylim((40, 43))\n",
    "ax.set_xlabel('Lap')\n",
    "ax.set_ylabel('Lap Time')\n",
    "\n",
    "x = car['completed_laps'][1:].values\n",
    "y = car['time_diff'][1:].values\n",
    "\n",
    "#plt.plot(np.arange(laptime.shape[0]), laptime, marker='.')\n",
    "plt.scatter(x, y, marker='.')"
   ]
  },
  {
   "cell_type": "code",
   "execution_count": 8,
   "metadata": {},
   "outputs": [
    {
     "data": {
      "text/plain": [
       "(40, 43)"
      ]
     },
     "execution_count": 8,
     "metadata": {},
     "output_type": "execute_result"
    },
    {
     "data": {
      "image/png": "[encoded data removed]",
      "text/plain": [
       "<Figure size 432x288 with 1 Axes>"
      ]
     },
     "metadata": {
      "needs_background": "light"
     },
     "output_type": "display_data"
    }
   ],
   "source": [
    "car = cldata[cldata['car_number']==1]\n",
    "laps = total_laps\n",
    "laps = 150\n",
    "laptime = car['time_diff'][70:100]\n",
    "\n",
    "plt.plot(np.arange(laptime.shape[0]), laptime, marker='.')\n",
    "plt.ylim(40,43)"
   ]
  },
  {
   "cell_type": "code",
   "execution_count": null,
   "metadata": {},
   "outputs": [],
   "source": []
  },
  {
   "cell_type": "code",
   "execution_count": 9,
   "metadata": {},
   "outputs": [
    {
     "data": {
      "text/plain": [
       "'2018-Indy500-'"
      ]
     },
     "execution_count": 9,
     "metadata": {},
     "output_type": "execute_result"
    }
   ],
   "source": [
    "outputprefix"
   ]
  },
  {
   "cell_type": "code",
   "execution_count": null,
   "metadata": {},
   "outputs": [],
   "source": []
  }
 ],
 "metadata": {
  "kernelspec": {
   "display_name": "Python 3",
   "language": "python",
   "name": "python3"
  },
  "language_info": {
   "codemirror_mode": {
    "name": "ipython",
    "version": 3
   },
   "file_extension": ".py",
   "mimetype": "text/x-python",
   "name": "python",
   "nbconvert_exporter": "python",
   "pygments_lexer": "ipython3",
   "version": "3.7.3"
  }
 },
 "nbformat": 4,
 "nbformat_minor": 2
}
