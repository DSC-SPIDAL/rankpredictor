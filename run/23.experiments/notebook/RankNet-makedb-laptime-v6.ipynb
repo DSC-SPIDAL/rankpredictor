{
 "cells": [
  {
   "cell_type": "markdown",
   "metadata": {},
   "source": [
    "### RankNet-makedb-laptime\n",
    "\n",
    "build laptime dataset from raw log files\n",
    "functions of draw figures moved to PaperFigs\n",
    "\n",
    "base: 18./laptime_rank_timediff_dataset\n",
    "\n",
    "create laptime dataset only, no gluonts.\n",
    "\n",
    "+ add lap2nextpit as target, this is as the same as a stacked lstm model when set prediction_length=1\n",
    "+ add lap_instint to dynamic features(pitage)\n",
    "+ add support for historical data, indy500 for different years\n",
    "+ add track and lap status as target, preparing for StatusModel with deepAR\n",
    "\n",
    "this notebook focuses on create the training set, while laptime2rank-evaluate will have testset codes specified for rank calculation\n",
    "\n",
    "+ add new features, caution_laps_instint,lap_instint\n",
    "\n",
    "Build a time series dataset across all the oval races, including laptime, rank. When this dataset aims to be used in forecasting, covariates of the racing status can not be included, such as track_status and lap_status. However, they can be used in oracle test to tell the upper bound of performance of the predictor.\n",
    "\n",
    "Change to a new dataset format that following telemetry dataset.\n",
    "\n",
    "raw:\n",
    "+  [(eventid, carids: carno -> rowid, datalist)]\n",
    "\n",
    "datalist := [datalist_entry] in shape of #car_number\n",
    "\n",
    "datalist_entry := [[laptime, rank, track_status, lap_status]], in shape of #totallaps x #featureCnt (padded by nan)"
   ]
  },
  {
   "cell_type": "code",
   "execution_count": 1,
   "metadata": {},
   "outputs": [
    {
     "name": "stderr",
     "output_type": "stream",
     "text": [
      "INFO:root:Using GPU\n",
      "INFO:root:Using GPU\n",
      "INFO:root:Using GPU\n",
      "INFO:root:Using GPU\n",
      "INFO:root:Using GPU\n",
      "INFO:root:Using GPU\n",
      "INFO:root:Using GPU\n",
      "INFO:root:Using GPU\n",
      "INFO:root:Using GPU\n",
      "INFO:root:Using GPU\n",
      "INFO:root:Using GPU\n"
     ]
    }
   ],
   "source": [
    "%load_ext autoreload\n",
    "%autoreload 2\n",
    "%matplotlib inline\n",
    "import pandas as pd\n",
    "import numpy as np\n",
    "import matplotlib.pyplot as plt\n",
    "import os,sys\n",
    "import random\n",
    "import mxnet as mx\n",
    "from mxnet import gluon\n",
    "import pickle\n",
    "import json\n",
    "from gluonts.dataset.common import ListDataset\n",
    "from gluonts.dataset.util import to_pandas\n",
    "from pandas.plotting import register_matplotlib_converters\n",
    "\n",
    "import indycar.model.global_variables as gvar\n",
    "from indycar.model.quicktest_modules import *\n",
    "\n",
    "register_matplotlib_converters()"
   ]
  },
  {
   "cell_type": "markdown",
   "metadata": {},
   "source": [
    "## Load Data"
   ]
  },
  {
   "cell_type": "code",
   "execution_count": 2,
   "metadata": {},
   "outputs": [],
   "source": [
    "outputRoot = 'data/'\n",
    "os.makedirs(outputRoot, exist_ok=True)\n",
    "\n",
    "stagedata = {}\n",
    "global_carids = {}\n",
    "traindata = None\n",
    "cur_carid = 0\n",
    "\n",
    "#inlap status = \n",
    "# 0 , no inlap\n",
    "# 1 , set previous lap\n",
    "# 2 , set the next lap\n",
    "_inlap_status = 0\n",
    "_featureCnt = 9\n",
    "#\n",
    "# input data parameters\n",
    "#\n",
    "#events = ['Phoenix','Indy500','Texas','Iowa','Pocono','Gateway']\n",
    "#events_totalmiles=[256,500,372,268,500,310]\n",
    "#events_laplen = [1.022,2.5,1.5,0.894,2.5,1.25]\n",
    "events_info = {\n",
    "    'Phoenix':(256, 1.022, 250),'Indy500':(500,2.5,200),'Texas':(372,1.5,248),\n",
    "    'Iowa':(268,0.894,300),'Pocono':(500,2.5,200),'Gateway':(310,1.25,248)\n",
    "}\n",
    "\n",
    "# event -> car#, maxlap\n",
    "_race_info = {}\n",
    "\n",
    "# the races have 7 years data \n",
    "races = ['Indy500', 'Texas','Iowa','Pocono']\n",
    "years = ['2013','2014','2015','2016','2017','2018','2019']\n",
    "\n",
    "#_race = 'Indy500'\n",
    "\n",
    "events = []\n",
    "for race in races:\n",
    "    events.extend([f'{race}-{x}' for x in years])\n",
    "\n",
    "#events.extend(['Phoenix-2018','Texas-2018','Texas-2019','Pocono-2018','Pocono-2019','Iowa-2018','Iowa-2019',\n",
    "#              'Gateway-2018','Gateway-2019'])\n",
    "events.extend(['Phoenix-2018','Gateway-2018','Gateway-2019'])\n",
    "\n",
    "events_id={key:idx for idx, key in enumerate(events)}\n",
    "\n",
    "#version = f'IndyCar-d{len(events)}'\n",
    "covergap = 1\n",
    "\n",
    "#dbid = f'Indy500_{years[0]}_{years[-1]}_v{_featureCnt}_p{_inlap_status}'\n",
    "dbid = f'IndyCar_d{len(events)}_v{_featureCnt}_p{_inlap_status}'\n",
    "\n",
    "LAPTIME_DATASET = f'{outputRoot}/laptime_rank_timediff_pit-oracle-{dbid}.pickle' \n",
    "STAGE_DATASET = f'{outputRoot}/stagedata-{dbid}.pickle' \n",
    "PITCOVERED_DATASET = f'{outputRoot}/pitcoveredlaps-{dbid}-g{covergap}.pickle' \n",
    "\n",
    "#\n",
    "_test_race = 'xxx'\n",
    "_test_event = 'Phoenix-2018'"
   ]
  },
  {
   "cell_type": "code",
   "execution_count": 3,
   "metadata": {},
   "outputs": [
    {
     "ename": "AttributeError",
     "evalue": "module 'indycar.model.global_variables' has no attribute '_race_info'",
     "output_type": "error",
     "traceback": [
      "\u001b[0;31m---------------------------------------------------------------------------\u001b[0m",
      "\u001b[0;31mAttributeError\u001b[0m                            Traceback (most recent call last)",
      "\u001b[0;32m<ipython-input-3-3d7bbb68260f>\u001b[0m in \u001b[0;36m<module>\u001b[0;34m\u001b[0m\n\u001b[1;32m      4\u001b[0m \u001b[0;34m\u001b[0m\u001b[0m\n\u001b[1;32m      5\u001b[0m \u001b[0;34m\u001b[0m\u001b[0m\n\u001b[0;32m----> 6\u001b[0;31m \u001b[0mgvar\u001b[0m\u001b[0;34m.\u001b[0m\u001b[0mmaxlap\u001b[0m \u001b[0;34m=\u001b[0m \u001b[0mget_event_info\u001b[0m\u001b[0;34m(\u001b[0m\u001b[0m_test_event\u001b[0m\u001b[0;34m)\u001b[0m\u001b[0;34m[\u001b[0m\u001b[0;36m2\u001b[0m\u001b[0;34m]\u001b[0m\u001b[0;34m\u001b[0m\u001b[0;34m\u001b[0m\u001b[0m\n\u001b[0m\u001b[1;32m      7\u001b[0m \u001b[0mgvar\u001b[0m\u001b[0;34m.\u001b[0m\u001b[0mdbid\u001b[0m \u001b[0;34m=\u001b[0m \u001b[0mdbid\u001b[0m\u001b[0;34m\u001b[0m\u001b[0;34m\u001b[0m\u001b[0m\n\u001b[1;32m      8\u001b[0m \u001b[0mgvar\u001b[0m\u001b[0;34m.\u001b[0m\u001b[0mLAPTIME_DATASET\u001b[0m \u001b[0;34m=\u001b[0m \u001b[0mLAPTIME_DATASET\u001b[0m\u001b[0;34m\u001b[0m\u001b[0;34m\u001b[0m\u001b[0m\n",
      "\u001b[0;32m~/hpda/indycar/predictor/src/indycar/model/quicktest_modules.py\u001b[0m in \u001b[0;36mget_event_info\u001b[0;34m(event)\u001b[0m\n\u001b[1;32m   3163\u001b[0m \u001b[0;32mdef\u001b[0m \u001b[0mget_event_info\u001b[0m\u001b[0;34m(\u001b[0m\u001b[0mevent\u001b[0m\u001b[0;34m)\u001b[0m\u001b[0;34m:\u001b[0m\u001b[0;34m\u001b[0m\u001b[0;34m\u001b[0m\u001b[0m\n\u001b[1;32m   3164\u001b[0m     \u001b[0;31m#eid = event.split('-')[0]\u001b[0m\u001b[0;34m\u001b[0m\u001b[0;34m\u001b[0m\u001b[0;34m\u001b[0m\u001b[0m\n\u001b[0;32m-> 3165\u001b[0;31m     \u001b[0;32mreturn\u001b[0m \u001b[0mgvar\u001b[0m\u001b[0;34m.\u001b[0m\u001b[0m_race_info\u001b[0m\u001b[0;34m[\u001b[0m\u001b[0mevent\u001b[0m\u001b[0;34m]\u001b[0m\u001b[0;34m\u001b[0m\u001b[0;34m\u001b[0m\u001b[0m\n\u001b[0m\u001b[1;32m   3166\u001b[0m \u001b[0;34m\u001b[0m\u001b[0m\n",
      "\u001b[0;31mAttributeError\u001b[0m: module 'indycar.model.global_variables' has no attribute '_race_info'"
     ]
    }
   ],
   "source": [
    "gvar.events = events\n",
    "gvar.events_id  = events_id\n",
    "gvar.events_info = events_info\n",
    "\n",
    "\n",
    "gvar.maxlap = get_event_info(_test_event)[2]\n",
    "gvar.dbid = dbid\n",
    "gvar.LAPTIME_DATASET = LAPTIME_DATASET"
   ]
  },
  {
   "cell_type": "code",
   "execution_count": null,
   "metadata": {},
   "outputs": [],
   "source": [
    "for event in events:\n",
    "    #dataid = f'{event}-{year}'\n",
    "    #alldata, rankdata, acldata, flagdata\n",
    "    stagedata[event] = load_data(event)\n",
    "\n",
    "    alldata, rankdata, acldata, flagdata = stagedata[event]\n",
    "    carlist = set(acldata['car_number'])\n",
    "    laplist = set(acldata['completed_laps'])\n",
    "    print('%s: carno=%d, lapnum=%d'%(event, len(carlist), len(laplist)-1))\n",
    "    \n",
    "    _race_info[event] = (len(carlist), len(laplist)-1, max(laplist))\n",
    "\n",
    "    #build the carid map\n",
    "    for car in carlist:\n",
    "        if car not in global_carids:\n",
    "            global_carids[car] = cur_carid\n",
    "            cur_carid += 1\n"
   ]
  },
  {
   "cell_type": "code",
   "execution_count": null,
   "metadata": {},
   "outputs": [],
   "source": [
    "laptime_data = get_laptime_dataset(stagedata,inlap_status = _inlap_status)"
   ]
  },
  {
   "cell_type": "code",
   "execution_count": null,
   "metadata": {},
   "outputs": [],
   "source": [
    "import pickle\n",
    "#stintdf.to_csv('laptime-%s.csv'%year)\n",
    "savefile = LAPTIME_DATASET\n",
    "print(savefile)\n",
    "with open(savefile, 'wb') as f:\n",
    "    #pack [global_carids, laptime_data]\n",
    "    savedata = [global_carids, laptime_data]\n",
    "    # Pickle the 'data' dictionary using the highest protocol available.\n",
    "    pickle.dump(savedata, f, pickle.HIGHEST_PROTOCOL)"
   ]
  },
  {
   "cell_type": "code",
   "execution_count": null,
   "metadata": {},
   "outputs": [],
   "source": [
    "savefile = STAGE_DATASET \n",
    "print(savefile)\n",
    "with open(savefile, 'wb') as f:\n",
    "    #pack [global_carids, laptime_data]\n",
    "    savedata = [stagedata, _race_info, events, events_id]\n",
    "    # Pickle the 'data' dictionary using the highest protocol available.\n",
    "    pickle.dump(savedata, f, pickle.HIGHEST_PROTOCOL)"
   ]
  },
  {
   "cell_type": "markdown",
   "metadata": {},
   "source": [
    "## Get pit-covered-laps"
   ]
  },
  {
   "cell_type": "code",
   "execution_count": null,
   "metadata": {},
   "outputs": [],
   "source": [
    "### check the inlap\n",
    "pitdata = {}\n",
    "for event in events:    \n",
    "    alldata, rankdata, acldata, flagdata = stagedata[event]\n",
    "\n",
    "    totallaps = np.max(rankdata.completed_laps.to_numpy())\n",
    "    #pitlaps = rankdata[rankdata['lap_status']=='P'][['completed_laps']].to_numpy()\n",
    "    pitlaps = rankdata[rankdata['lap_status']=='P'].completed_laps.to_numpy()\n",
    "\n",
    "    pitlaps = set(sorted(pitlaps))\n",
    "\n",
    "    pitcoveredlaps = []\n",
    "    for lap in pitlaps:\n",
    "        gap = range(lap - covergap, lap + covergap+1)\n",
    "        #pitcoveredlaps.extend([lap -2,lap-1,lap,lap+1,lap+2])\n",
    "        pitcoveredlaps.extend(gap)\n",
    "\n",
    "    pitcoveredlaps = set(sorted(pitcoveredlaps))\n",
    "    \n",
    "    print(event, 'total:', totallaps, 'pitlaps:', len(pitlaps), 'pitcoveredlaps:', len(pitcoveredlaps))\n",
    "    \n",
    "    #save\n",
    "    pitdata[event] = [pitlaps, pitcoveredlaps]"
   ]
  },
  {
   "cell_type": "code",
   "execution_count": null,
   "metadata": {},
   "outputs": [],
   "source": [
    "print('pitlaps:', len(pitdata[_test_event][0]), 'coveredlaps:', len(pitdata[_test_event][1]))"
   ]
  },
  {
   "cell_type": "code",
   "execution_count": null,
   "metadata": {},
   "outputs": [],
   "source": [
    "import pickle\n",
    "with open(PITCOVERED_DATASET, 'wb') as f:\n",
    "    #pack [global_carids, laptime_data]\n",
    "    savedata = pitdata\n",
    "    # Pickle the 'data' dictionary using the highest protocol available.\n",
    "    pickle.dump(savedata, f, pickle.HIGHEST_PROTOCOL)"
   ]
  },
  {
   "cell_type": "markdown",
   "metadata": {},
   "source": [
    "## test"
   ]
  },
  {
   "cell_type": "code",
   "execution_count": null,
   "metadata": {},
   "outputs": [],
   "source": [
    "alldata, rankdata, acldata, flagdata = stagedata['Pocono-2019']\n",
    "np.max(rankdata.completed_laps.values)"
   ]
  },
  {
   "cell_type": "code",
   "execution_count": null,
   "metadata": {},
   "outputs": [],
   "source": [
    "_race_info"
   ]
  },
  {
   "cell_type": "code",
   "execution_count": null,
   "metadata": {},
   "outputs": [],
   "source": []
  }
 ],
 "metadata": {
  "kernelspec": {
   "display_name": "Python 3",
   "language": "python",
   "name": "python3"
  },
  "language_info": {
   "codemirror_mode": {
    "name": "ipython",
    "version": 3
   },
   "file_extension": ".py",
   "mimetype": "text/x-python",
   "name": "python",
   "nbconvert_exporter": "python",
   "pygments_lexer": "ipython3",
   "version": "3.6.10"
  }
 },
 "nbformat": 4,
 "nbformat_minor": 2
}
