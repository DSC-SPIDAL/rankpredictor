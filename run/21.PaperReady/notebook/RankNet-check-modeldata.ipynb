{
 "cells": [
  {
   "cell_type": "markdown",
   "metadata": {},
   "source": [
    "### RankNet-check-modeldata\n",
    "\n",
    "Check the intermediate data in the network.\n",
    "\n",
    "testset for car12, 188 records in total\n",
    "\n",
    "model intermediate data for the last three layers:\n",
    "\n",
    "    target       ; 1\n",
    "    theta        ; 3\n",
    "    rnnoutput    ; 40\n"
   ]
  },
  {
   "cell_type": "code",
   "execution_count": 5,
   "metadata": {},
   "outputs": [
    {
     "name": "stderr",
     "output_type": "stream",
     "text": [
      "INFO:root:Using GPU\n",
      "INFO:root:Using GPU\n",
      "INFO:root:Using GPU\n",
      "INFO:root:Using GPU\n",
      "INFO:root:Using GPU\n"
     ]
    }
   ],
   "source": [
    "%load_ext autoreload\n",
    "%autoreload 2\n",
    "\n",
    "%matplotlib inline\n",
    "import pandas as pd\n",
    "import numpy as np\n",
    "import matplotlib.pyplot as plt\n",
    "import os,sys\n",
    "import mxnet as mx\n",
    "from mxnet import gluon\n",
    "import pickle\n",
    "import json\n",
    "import random\n",
    "import inspect\n",
    "from scipy import stats\n",
    "from sklearn.metrics import mean_squared_error\n",
    "from gluonts.dataset.common import ListDataset\n",
    "from gluonts.dataset.util import to_pandas\n",
    "from pathlib import Path\n",
    "from pandas.plotting import register_matplotlib_converters\n",
    "register_matplotlib_converters()\n",
    "\n",
    "import indycar.model.stint_simulator_shortterm_pitmodel as stint"
   ]
  },
  {
   "cell_type": "code",
   "execution_count": 145,
   "metadata": {},
   "outputs": [],
   "source": [
    "### load test_ds and model saved data\n",
    "prediction_length = 2\n",
    "freq = \"1T\"\n",
    "cardinality = [0]\n",
    "\n",
    "def load_dataset(inputfile):\n",
    "    global freq, prediction_length, cardinality\n",
    "\n",
    "    with open(inputfile, 'rb') as f:\n",
    "        # have to specify it.\n",
    "        freq, prediction_length, cardinality,train_ds, test_ds = pickle.load(f, encoding='latin1')\n",
    "    \n",
    "    print(f\"number of cars: {cardinality}\")\n",
    "    \n",
    "    return train_ds, test_ds\n",
    "\n",
    "def load_modeldata(inputfile):\n",
    "    with open(inputfile, 'rb') as f:\n",
    "        # have to specify it.\n",
    "        savedata = pickle.load(f, encoding='latin1')\n",
    "    \n",
    "    #print(f\"columns of data: {savedata.keys()}\")\n",
    "    print(f\"size of data: {len(savedata)}\")\n",
    "    \n",
    "    return savedata\n"
   ]
  },
  {
   "cell_type": "code",
   "execution_count": 80,
   "metadata": {},
   "outputs": [],
   "source": [
    "testfile = 'testset-car12-f1min-t2-rIndy500-2018-gluonts-indy-2018.pickle'\n",
    "#100 samples\n",
    "#modelfile = 'ranknet_savedata_multilayers.pickle'\n",
    "#1 sample\n",
    "modelfile = 'ranknet_savedata_multilayers_b1_s1.pickle'\n"
   ]
  },
  {
   "cell_type": "code",
   "execution_count": 81,
   "metadata": {},
   "outputs": [
    {
     "name": "stdout",
     "output_type": "stream",
     "text": [
      "number of cars: [58]\n",
      "columns of data: dict_keys(['input', 'target', 'lags', 'theta', 'hstate', 'rnnoutput'])\n"
     ]
    }
   ],
   "source": [
    "_, test_ds = load_dataset(testfile)\n",
    "savedata = load_modeldata(modelfile)"
   ]
  },
  {
   "cell_type": "code",
   "execution_count": 21,
   "metadata": {},
   "outputs": [
    {
     "name": "stdout",
     "output_type": "stream",
     "text": [
      "testset predict laps start: (13,) end: (200,)\n"
     ]
    }
   ],
   "source": [
    "### iter through the test set\n",
    "testset = list(test_ds)\n",
    "print('testset predict laps start:', testset[-1]['target'].shape,\n",
    "     'end:', testset[0]['target'].shape\n",
    "     )"
   ]
  },
  {
   "cell_type": "code",
   "execution_count": 25,
   "metadata": {},
   "outputs": [
    {
     "data": {
      "text/plain": [
       "(array([ 31,  49,  93, 128, 170]),)"
      ]
     },
     "execution_count": 25,
     "metadata": {},
     "output_type": "execute_result"
    }
   ],
   "source": [
    "# lap id start from 0\n",
    "pitstops = np.where(testset[0]['feat_dynamic_real'][1]==1)\n",
    "pitstops"
   ]
  },
  {
   "cell_type": "code",
   "execution_count": 82,
   "metadata": {},
   "outputs": [
    {
     "data": {
      "text/plain": [
       "188"
      ]
     },
     "execution_count": 82,
     "metadata": {},
     "output_type": "execute_result"
    }
   ],
   "source": [
    "### go through the model intermediate data\n",
    "len(savedata['target'])"
   ]
  },
  {
   "cell_type": "code",
   "execution_count": null,
   "metadata": {},
   "outputs": [],
   "source": [
    "savedata['target'][-1].shape"
   ]
  },
  {
   "cell_type": "code",
   "execution_count": 91,
   "metadata": {},
   "outputs": [],
   "source": [
    "target = np.array([x.reshape(-1)[0] for x in savedata['target']])"
   ]
  },
  {
   "cell_type": "code",
   "execution_count": 93,
   "metadata": {},
   "outputs": [
    {
     "data": {
      "text/plain": [
       "array([-0.44145054,  1.5119362 ,  1.0326842 ,  2.927995  ,  3.0142956 ,\n",
       "        3.967255  ,  4.0858655 ,  4.033666  ,  4.2060766 ,  3.8572142 ,\n",
       "        3.8496976 ,  4.01355   ,  3.8975718 ,  4.279505  ,  5.468411  ,\n",
       "        4.1787167 , -6.724894  ,  5.610863  ,  5.424944  ,  6.261024  ,\n",
       "        4.6065817 ,  5.95868   ,  7.468332  ,  3.2264085 ,  5.393872  ,\n",
       "        6.082346  ,  7.0473547 ,  4.6004095 ,  0.6277979 ,  3.5979862 ,\n",
       "        1.0074111 ,  1.0023022 ,  0.90134317,  0.78475326,  0.69376236,\n",
       "        0.994295  ,  1.0061753 ,  1.0110877 ,  1.0533919 ,  0.92796665,\n",
       "        0.9562135 ,  0.99053484,  0.60095453,  1.1205821 ,  1.0505611 ,\n",
       "        1.166578  ,  0.1438639 ,  2.4977386 ,  1.2265257 ,  0.97292167,\n",
       "        0.9915894 ,  0.9755446 ,  0.98881054,  0.9777511 ,  0.9292344 ,\n",
       "        0.99056536,  0.985283  ,  1.0932226 ,  2.0129857 ,  2.0398622 ,\n",
       "        2.0394232 ,  3.0486848 ,  4.0562363 ,  4.0398755 ,  4.74736   ,\n",
       "        5.658873  ,  5.087961  ,  3.6991258 , 11.792514  , 11.9248    ,\n",
       "        4.6997056 , -5.064347  ,  1.0269029 ,  0.9391217 ,  1.0213457 ,\n",
       "        1.0394948 ,  1.2181523 ,  1.2056836 ,  0.939816  ,  0.8860496 ,\n",
       "        0.6695975 ,  0.92878795,  1.0249965 ,  1.0450171 ,  1.0424474 ,\n",
       "        0.9658532 ,  1.0219822 ,  0.9825788 ,  1.0603461 ,  0.9465266 ,\n",
       "        1.0460652 ,  2.0488873 ,  1.9825315 ,  4.9916444 ,  5.1118803 ,\n",
       "        6.001454  ,  6.0235586 ,  5.81732   ,  7.713975  ,  7.98898   ,\n",
       "        8.150709  ,  7.0016785 ,  1.9475573 , 17.53576   ,  0.07159143,\n",
       "       -4.636854  , -7.757321  ,  1.8675687 ,  2.1143522 ,  3.0936654 ,\n",
       "        3.0097904 ,  3.005732  ,  3.0118318 ,  2.9447467 ,  3.0109093 ,\n",
       "        3.0085027 ,  3.0072887 ,  2.960956  ,  2.9938712 ,  3.0055761 ,\n",
       "        2.9910314 ,  3.0126913 ,  3.1030023 ,  3.0161421 ,  2.92914   ,\n",
       "        2.9786756 ,  3.9939322 ,  4.0101647 ,  4.01737   ,  5.0131555 ,\n",
       "        5.0214586 ,  5.0126824 ,  4.9945107 ,  5.0043354 ,  5.0396366 ,\n",
       "        6.0008664 ,  5.918092  ,  6.082949  ,  6.011401  ,  6.021474  ,\n",
       "        5.968833  ,  6.0059633 ,  6.054631  ,  4.019731  ,  4.0237055 ,\n",
       "        3.9863544 ,  4.0164247 ,  4.006489  ,  5.744283  ,  4.6715465 ,\n",
       "        7.6466446 ,  6.010075  ,  6.004622  ,  5.99499   ,  6.0132856 ,\n",
       "        6.0053306 ,  6.0594773 ,  6.0297537 ,  5.9295278 ,  5.6895742 ,\n",
       "        5.463315  ,  5.6748614 ,  5.3194838 ,  3.5219965 ,  4.207916  ,\n",
       "        8.026481  ,  3.8264084 ,  9.006372  ,  2.3228495 ,  3.0048652 ,\n",
       "        3.0336595 ,  3.0024152 ,  3.0052018 ,  3.0019045 ,  3.0022418 ,\n",
       "        3.0042636 ,  2.9951305 ,  3.0112543 ,  3.0050595 ,  2.998507  ,\n",
       "        3.003783  ,  2.9938793 ,  2.9961817 ,  3.005115  ,  2.9981294 ,\n",
       "        2.9995122 ,  3.009018  ,  3.0036626 ], dtype=float32)"
      ]
     },
     "execution_count": 93,
     "metadata": {},
     "output_type": "execute_result"
    }
   ],
   "source": [
    "target"
   ]
  },
  {
   "cell_type": "code",
   "execution_count": 94,
   "metadata": {},
   "outputs": [
    {
     "data": {
      "text/plain": [
       "188"
      ]
     },
     "execution_count": 94,
     "metadata": {},
     "output_type": "execute_result"
    }
   ],
   "source": [
    "len(savedata['input'])"
   ]
  },
  {
   "cell_type": "code",
   "execution_count": 95,
   "metadata": {},
   "outputs": [
    {
     "data": {
      "text/plain": [
       "(1, 40, 33)"
      ]
     },
     "execution_count": 95,
     "metadata": {},
     "output_type": "execute_result"
    }
   ],
   "source": [
    "savedata['input'][0].shape"
   ]
  },
  {
   "cell_type": "code",
   "execution_count": 96,
   "metadata": {},
   "outputs": [
    {
     "data": {
      "text/plain": [
       "3"
      ]
     },
     "execution_count": 96,
     "metadata": {},
     "output_type": "execute_result"
    }
   ],
   "source": [
    "len(savedata['theta'][0])"
   ]
  },
  {
   "cell_type": "code",
   "execution_count": 113,
   "metadata": {},
   "outputs": [
    {
     "data": {
      "text/plain": [
       "array([[ 2.11339802e-01,  8.36189538e-02,  2.01433063e+00],\n",
       "       [ 3.04522395e-01,  6.54837042e-02,  2.01155996e+00],\n",
       "       [ 2.69080788e-01,  5.64465076e-02,  2.00873518e+00],\n",
       "       [ 7.14797914e-01,  1.93236656e-02,  2.00145078e+00],\n",
       "       [ 7.16342509e-01,  1.77412890e-02,  2.00108171e+00],\n",
       "       [ 9.65214550e-01,  1.53534384e-02,  2.00046992e+00],\n",
       "       [ 9.99411941e-01,  1.20753273e-02,  2.00037050e+00],\n",
       "       [ 1.00660443e+00,  6.87769474e-03,  2.00011659e+00],\n",
       "       [ 1.02198780e+00,  3.84728587e-03,  2.00003433e+00],\n",
       "       [ 1.02356279e+00,  4.56581404e-03,  2.00006270e+00],\n",
       "       [ 1.01667428e+00,  6.77775638e-03,  2.00017738e+00],\n",
       "       [ 1.09427059e+00,  1.07547492e-02,  2.00023317e+00],\n",
       "       [ 1.08035624e+00,  1.49546228e-02,  2.00057006e+00],\n",
       "       [ 1.22744310e+00,  2.68170051e-02,  2.00146604e+00],\n",
       "       [ 1.53181064e+00,  4.94227819e-02,  2.00278783e+00],\n",
       "       [ 1.28005981e+00,  5.65492921e-02,  2.00535607e+00],\n",
       "       [-1.90894353e+00,  7.49290049e-01,  2.14268708e+00],\n",
       "       [ 1.80156529e+00,  1.18444271e-01,  2.01778412e+00],\n",
       "       [ 1.83425999e+00,  1.73280299e-01,  2.03568864e+00],\n",
       "       [ 2.04366994e+00,  2.20410168e-01,  2.06195951e+00],\n",
       "       [ 1.57406390e+00,  3.37596059e-01,  2.15739584e+00],\n",
       "       [ 1.88616645e+00,  3.78377885e-01,  2.44616699e+00],\n",
       "       [ 2.25510049e+00,  3.57207447e-01,  2.55504274e+00],\n",
       "       [ 1.58592021e+00,  3.96836460e-01,  2.23468900e+00],\n",
       "       [ 2.56889963e+00,  3.03423107e-01,  2.06477737e+00],\n",
       "       [ 2.64256597e+00,  6.71676397e-01,  2.15460706e+00],\n",
       "       [ 3.08680725e+00,  9.68538642e-01,  2.67260790e+00],\n",
       "       [ 1.77067399e+00,  1.95764041e+00,  3.33867598e+00],\n",
       "       [-1.41509265e-01,  1.94788373e+00,  4.45872307e+00],\n",
       "       [ 8.50285888e-01,  1.46729934e+00,  5.16883993e+00],\n",
       "       [ 4.90509212e-01,  5.04510943e-03,  2.00003171e+00],\n",
       "       [ 4.95298624e-01,  9.17013269e-03,  2.00011706e+00],\n",
       "       [ 4.68943417e-01,  1.73267759e-02,  2.00030470e+00],\n",
       "       [ 4.52462912e-01,  4.01125364e-02,  2.00208640e+00],\n",
       "       [ 3.60921919e-01,  5.93512841e-02,  2.00452876e+00],\n",
       "       [ 4.70801532e-01,  5.67133762e-02,  2.00704598e+00],\n",
       "       [ 4.49617147e-01,  3.31183001e-02,  2.00116181e+00],\n",
       "       [ 4.76456285e-01,  2.80082859e-02,  2.00076389e+00],\n",
       "       [ 5.07453442e-01,  2.27485336e-02,  2.00041556e+00],\n",
       "       [ 4.48874354e-01,  1.61148775e-02,  2.00013733e+00],\n",
       "       [ 4.74677086e-01,  7.13484501e-03,  2.00003028e+00],\n",
       "       [ 4.70534861e-01,  6.49143150e-03,  2.00001812e+00],\n",
       "       [ 3.47517967e-01,  1.43721178e-02,  2.00009036e+00],\n",
       "       [ 5.32592654e-01,  3.20810601e-02,  2.00153565e+00],\n",
       "       [ 4.86916542e-01,  8.29265118e-02,  2.00927258e+00],\n",
       "       [ 4.81431723e-01,  1.20651849e-01,  2.05392194e+00],\n",
       "       [ 1.45578325e-01,  3.87643605e-01,  2.03840590e+00],\n",
       "       [ 3.93922210e-01,  1.88858896e-01,  2.03041172e+00],\n",
       "       [ 4.74986076e-01,  7.55991861e-02,  2.00186872e+00],\n",
       "       [ 4.74836588e-01,  3.09422538e-02,  2.00017715e+00],\n",
       "       [ 4.84992385e-01,  3.35659669e-03,  2.00000215e+00],\n",
       "       [ 4.70535100e-01,  3.89522593e-03,  2.00000358e+00],\n",
       "       [ 4.79217768e-01,  3.79189663e-03,  2.00000334e+00],\n",
       "       [ 4.71228063e-01,  4.35163220e-03,  2.00000525e+00],\n",
       "       [ 4.26229060e-01,  6.95819827e-03,  2.00001383e+00],\n",
       "       [ 4.33450162e-01,  9.23940074e-03,  2.00002527e+00],\n",
       "       [ 4.02444601e-01,  3.62540595e-03,  2.00000429e+00],\n",
       "       [ 4.17980552e-01,  3.97168659e-03,  2.00000572e+00],\n",
       "       [ 7.51272857e-01,  2.25676293e-03,  2.00000572e+00],\n",
       "       [ 7.14154601e-01,  2.35283282e-03,  2.00000858e+00],\n",
       "       [ 6.86857343e-01,  2.92004342e-03,  2.00001526e+00],\n",
       "       [ 9.67465281e-01,  3.07289767e-03,  2.00002861e+00],\n",
       "       [ 1.24761641e+00,  5.06059360e-03,  2.00008512e+00],\n",
       "       [ 1.17348528e+00,  9.43662040e-03,  2.00037289e+00],\n",
       "       [ 1.30916715e+00,  1.29184835e-02,  2.00060320e+00],\n",
       "       [ 1.66787875e+00,  3.07898074e-02,  2.00091720e+00],\n",
       "       [ 1.53242290e+00,  3.93781476e-02,  2.00092101e+00],\n",
       "       [ 1.09192753e+00,  2.47442424e-01,  2.01032805e+00],\n",
       "       [ 3.10895658e+00,  9.93491948e-01,  2.31475210e+00],\n",
       "       [ 2.49830317e+00,  5.02385259e-01,  2.05630469e+00],\n",
       "       [ 2.01406550e+00,  2.27424717e+00,  3.98057032e+00],\n",
       "       [ 6.74771905e-01,  1.82943964e+00,  6.32880449e+00],\n",
       "       [ 3.40353906e-01,  1.06966635e-02,  2.00004125e+00],\n",
       "       [ 3.27897966e-01,  1.34947207e-02,  2.00006270e+00],\n",
       "       [ 2.61004865e-01,  1.88898090e-02,  2.00011683e+00],\n",
       "       [ 2.65079349e-01,  2.47211102e-02,  2.00020432e+00],\n",
       "       [ 3.02438378e-01,  3.06342710e-02,  2.00030971e+00],\n",
       "       [ 3.60437453e-01,  3.23041789e-02,  2.00035167e+00],\n",
       "       [ 3.75828087e-01,  3.40461805e-02,  2.00026822e+00],\n",
       "       [ 3.48992407e-01,  2.88353097e-02,  2.00018787e+00],\n",
       "       [ 2.90187120e-01,  2.06452813e-02,  2.00007701e+00],\n",
       "       [ 2.92309850e-01,  1.65502317e-02,  2.00004697e+00],\n",
       "       [ 3.01096439e-01,  1.51149053e-02,  2.00003767e+00],\n",
       "       [ 2.85641342e-01,  1.41528985e-02,  2.00003195e+00],\n",
       "       [ 2.73373842e-01,  1.21263769e-02,  2.00002384e+00],\n",
       "       [ 2.54594505e-01,  9.21339169e-03,  2.00001383e+00],\n",
       "       [ 2.75521755e-01,  7.90739898e-03,  2.00001478e+00],\n",
       "       [ 2.55734384e-01,  8.02109018e-03,  2.00002170e+00],\n",
       "       [ 2.80240655e-01,  9.91213787e-03,  2.00005364e+00],\n",
       "       [ 2.49144539e-01,  1.57967340e-02,  2.00020885e+00],\n",
       "       [ 2.61872321e-01,  1.60923600e-02,  2.00038052e+00],\n",
       "       [ 4.98303652e-01,  6.24872837e-03,  2.00007868e+00],\n",
       "       [ 4.90257144e-01,  5.56268170e-03,  2.00005412e+00],\n",
       "       [ 1.15827942e+00,  2.47525494e-03,  2.00001764e+00],\n",
       "       [ 1.18950725e+00,  3.52885388e-03,  2.00003171e+00],\n",
       "       [ 1.39565682e+00,  6.73666876e-03,  2.00006700e+00],\n",
       "       [ 1.40373707e+00,  8.27466045e-03,  2.00009966e+00],\n",
       "       [ 1.41789615e+00,  1.28013259e-02,  2.00017452e+00],\n",
       "       [ 1.81119907e+00,  3.50465924e-02,  2.00071907e+00],\n",
       "       [ 1.85850477e+00,  3.28993276e-02,  2.00094271e+00],\n",
       "       [ 1.88412273e+00,  3.58154625e-02,  2.00095487e+00],\n",
       "       [ 1.74653506e+00,  4.92118411e-02,  2.00098133e+00],\n",
       "       [ 6.02068961e-01,  2.02196375e-01,  2.00616193e+00],\n",
       "       [ 3.45822001e+00,  8.27721953e-01,  2.21782804e+00],\n",
       "       [-2.13359445e-02,  3.71379733e-01,  2.16311026e+00],\n",
       "       [-5.32017231e-01,  2.19496346e+00,  5.40738392e+00],\n",
       "       [ 5.38986444e-01,  1.61655116e+00,  7.00778151e+00],\n",
       "       [ 4.48254526e-01,  4.95753475e-02,  2.00233674e+00],\n",
       "       [ 5.03501177e-01,  2.26307828e-02,  2.00013065e+00],\n",
       "       [ 7.31837153e-01,  7.34362053e-03,  2.00003576e+00],\n",
       "       [ 7.09149122e-01,  1.59012771e-03,  2.00000286e+00],\n",
       "       [ 6.97158515e-01,  1.45124900e-03,  2.00000191e+00],\n",
       "       [ 6.85336590e-01,  1.56349211e-03,  2.00000215e+00],\n",
       "       [ 6.67119145e-01,  1.50665711e-03,  2.00000215e+00],\n",
       "       [ 6.59719706e-01,  1.53608050e-03,  2.00000215e+00],\n",
       "       [ 6.50256336e-01,  1.58437563e-03,  2.00000215e+00],\n",
       "       [ 6.38102651e-01,  1.66045118e-03,  2.00000238e+00],\n",
       "       [ 6.23488247e-01,  1.77569897e-03,  2.00000262e+00],\n",
       "       [ 6.18647218e-01,  1.91607932e-03,  2.00000310e+00],\n",
       "       [ 6.07117891e-01,  2.14805268e-03,  2.00000381e+00],\n",
       "       [ 6.02097213e-01,  2.43580504e-03,  2.00000501e+00],\n",
       "       [ 5.92482626e-01,  2.89385766e-03,  2.00000739e+00],\n",
       "       [ 6.03671849e-01,  3.69736296e-03,  2.00001240e+00],\n",
       "       [ 5.71381390e-01,  4.71763546e-03,  2.00002217e+00],\n",
       "       [ 5.67834377e-01,  5.58042154e-03,  2.00003290e+00],\n",
       "       [ 5.53946376e-01,  6.55335048e-03,  2.00004053e+00],\n",
       "       [ 6.92110240e-01,  4.34424076e-03,  2.00002146e+00],\n",
       "       [ 6.87356234e-01,  2.76945252e-03,  2.00000739e+00],\n",
       "       [ 6.93714082e-01,  1.50626665e-03,  2.00000238e+00],\n",
       "       [ 8.64945590e-01,  1.21597643e-03,  2.00000262e+00],\n",
       "       [ 8.72029006e-01,  1.26967870e-03,  2.00000310e+00],\n",
       "       [ 8.79324317e-01,  1.58773386e-03,  2.00000572e+00],\n",
       "       [ 8.85168552e-01,  2.45908438e-03,  2.00001764e+00],\n",
       "       [ 8.92766297e-01,  4.44851210e-03,  2.00007153e+00],\n",
       "       [ 9.07868683e-01,  6.52929349e-03,  2.00013709e+00],\n",
       "       [ 1.09385955e+00,  8.96986946e-03,  2.00018883e+00],\n",
       "       [ 1.11017001e+00,  9.13216546e-03,  2.00017214e+00],\n",
       "       [ 1.12407291e+00,  7.09959771e-03,  2.00007987e+00],\n",
       "       [ 1.13176656e+00,  4.86947782e-03,  2.00003481e+00],\n",
       "       [ 1.15347409e+00,  5.59208589e-03,  2.00004244e+00],\n",
       "       [ 1.16510153e+00,  4.92918398e-03,  2.00002646e+00],\n",
       "       [ 1.18957853e+00,  6.29985007e-03,  2.00003767e+00],\n",
       "       [ 1.21006334e+00,  6.87526073e-03,  2.00005698e+00],\n",
       "       [ 8.26662779e-01,  8.27345904e-03,  2.00009584e+00],\n",
       "       [ 8.27405214e-01,  8.00647587e-03,  2.00008774e+00],\n",
       "       [ 8.30953360e-01,  5.41083748e-03,  2.00004601e+00],\n",
       "       [ 8.34422708e-01,  3.53828655e-03,  2.00002503e+00],\n",
       "       [ 8.27103138e-01,  7.16463430e-03,  2.00009537e+00],\n",
       "       [ 1.20326185e+00,  2.76107509e-02,  2.00075150e+00],\n",
       "       [ 1.56719506e+00,  2.64646500e-01,  2.01690531e+00],\n",
       "       [ 1.40375686e+00,  1.58451349e-01,  2.06604052e+00],\n",
       "       [ 1.31957936e+00,  1.77583611e-03,  2.00000429e+00],\n",
       "       [ 1.34127176e+00,  1.70617143e-03,  2.00000429e+00],\n",
       "       [ 1.36371863e+00,  1.53273554e-03,  2.00000453e+00],\n",
       "       [ 1.39195991e+00,  1.76608958e-03,  2.00000548e+00],\n",
       "       [ 1.41636729e+00,  2.13457481e-03,  2.00000739e+00],\n",
       "       [ 1.44696712e+00,  2.78368662e-03,  2.00001097e+00],\n",
       "       [ 1.48030388e+00,  4.15199529e-03,  2.00002098e+00],\n",
       "       [ 1.49049485e+00,  6.37260219e-03,  2.00004673e+00],\n",
       "       [ 1.43499446e+00,  9.96252801e-03,  2.00012136e+00],\n",
       "       [ 1.42087817e+00,  2.70541906e-02,  2.00134397e+00],\n",
       "       [ 1.57383955e+00,  4.71470393e-02,  2.01176167e+00],\n",
       "       [ 1.46399069e+00,  5.23891076e-02,  2.01087022e+00],\n",
       "       [ 1.00102901e+00,  3.75157110e-02,  2.00304008e+00],\n",
       "       [ 1.10532701e+00,  4.83214557e-01,  2.04192543e+00],\n",
       "       [ 3.33960772e+00,  1.25616968e+00,  2.80003881e+00],\n",
       "       [ 2.93557477e+00,  5.22792697e-01,  2.06464028e+00],\n",
       "       [ 1.81592929e+00,  1.40997016e+00,  2.69727683e+00],\n",
       "       [ 1.59934235e+00,  5.49563825e-01,  2.45307851e+00],\n",
       "       [ 1.02441716e+00,  6.42356987e-04,  2.00000048e+00],\n",
       "       [ 1.03536642e+00,  6.38858939e-04,  2.00000048e+00],\n",
       "       [ 1.02647877e+00,  6.39538164e-04,  2.00000048e+00],\n",
       "       [ 1.02767718e+00,  6.39034668e-04,  2.00000048e+00],\n",
       "       [ 1.02771688e+00,  6.39418315e-04,  2.00000048e+00],\n",
       "       [ 1.02865779e+00,  6.40378857e-04,  2.00000048e+00],\n",
       "       [ 1.03109288e+00,  6.41911582e-04,  2.00000048e+00],\n",
       "       [ 1.02940416e+00,  6.45143329e-04,  2.00000048e+00],\n",
       "       [ 1.03394055e+00,  6.48448709e-04,  2.00000072e+00],\n",
       "       [ 1.03534591e+00,  6.53731986e-04,  2.00000072e+00],\n",
       "       [ 1.03590584e+00,  6.60957943e-04,  2.00000072e+00],\n",
       "       [ 1.03940117e+00,  6.70044217e-04,  2.00000072e+00],\n",
       "       [ 1.03849947e+00,  6.82913582e-04,  2.00000072e+00],\n",
       "       [ 1.04415166e+00,  6.98922551e-04,  2.00000072e+00],\n",
       "       [ 1.04718709e+00,  7.21046410e-04,  2.00000072e+00],\n",
       "       [ 1.05086446e+00,  7.51037267e-04,  2.00000072e+00],\n",
       "       [ 1.05474627e+00,  7.92317674e-04,  2.00000095e+00],\n",
       "       [ 1.05994141e+00,  8.49879056e-04,  2.00000095e+00],\n",
       "       [ 1.06537902e+00,  9.32238530e-04,  2.00000119e+00]], dtype=float32)"
      ]
     },
     "execution_count": 113,
     "metadata": {},
     "output_type": "execute_result"
    }
   ],
   "source": [
    "theta = np.array([[x.asnumpy().reshape(-1)[0] for x in savedata['theta'][id]] for id in range(len(savedata['theta']))])\n",
    "theta"
   ]
  },
  {
   "cell_type": "code",
   "execution_count": 107,
   "metadata": {},
   "outputs": [
    {
     "data": {
      "text/plain": [
       "1.065379"
      ]
     },
     "execution_count": 107,
     "metadata": {},
     "output_type": "execute_result"
    }
   ],
   "source": [
    "savedata['theta'][-1][0].asnumpy().reshape(-1)[0]"
   ]
  },
  {
   "cell_type": "code",
   "execution_count": 114,
   "metadata": {},
   "outputs": [
    {
     "data": {
      "text/plain": [
       "(1, 1, 40)"
      ]
     },
     "execution_count": 114,
     "metadata": {},
     "output_type": "execute_result"
    }
   ],
   "source": [
    "savedata['rnnoutput'][0].shape"
   ]
  },
  {
   "cell_type": "code",
   "execution_count": 119,
   "metadata": {},
   "outputs": [
    {
     "data": {
      "text/plain": [
       "(188, 40)"
      ]
     },
     "execution_count": 119,
     "metadata": {},
     "output_type": "execute_result"
    }
   ],
   "source": [
    "rnnoutput = np.array([x.reshape(-1) for x in savedata['rnnoutput']])\n",
    "rnnoutput.shape"
   ]
  },
  {
   "cell_type": "code",
   "execution_count": 120,
   "metadata": {},
   "outputs": [
    {
     "data": {
      "text/plain": [
       "array([ 0.37186566, -0.2355668 ,  0.03524104,  0.31859934,  0.10533482,\n",
       "        0.01034961,  0.1531219 , -0.06566571, -0.17070529,  0.06987295,\n",
       "       -0.2244168 ,  0.03112466, -0.0458408 , -0.23805694, -0.09133456,\n",
       "       -0.08574518, -0.06131275, -0.03852127,  0.2119589 , -0.29207027,\n",
       "        0.0055407 ,  0.04884779, -0.3250793 ,  0.00214675, -0.04041871,\n",
       "       -0.22301802, -0.09570426,  0.02288404, -0.07174075, -0.221968  ,\n",
       "        0.08084089, -0.33736727,  0.33693063, -0.20730151,  0.44099346,\n",
       "        0.30486134,  0.13770637, -0.06217545, -0.07174944, -0.28200722],\n",
       "      dtype=float32)"
      ]
     },
     "execution_count": 120,
     "metadata": {},
     "output_type": "execute_result"
    }
   ],
   "source": [
    "rnnoutput[0]"
   ]
  },
  {
   "cell_type": "code",
   "execution_count": 126,
   "metadata": {},
   "outputs": [
    {
     "data": {
      "text/plain": [
       "array([ 0.07159143, -4.636854  , -7.757321  ,  1.8675687 ,  2.1143522 ],\n",
       "      dtype=float32)"
      ]
     },
     "execution_count": 126,
     "metadata": {},
     "output_type": "execute_result"
    }
   ],
   "source": [
    "### final 3 layers\n",
    "### target, theta, rnnoutput\n",
    "\n",
    "#id=0 -> lap 200\n",
    "#id=  -> lap 94, pit stop\n",
    "id = 200-94\n",
    "\n",
    "#it is in the center of uncertainty\n",
    "target[id-2:id+3]"
   ]
  },
  {
   "cell_type": "code",
   "execution_count": 123,
   "metadata": {},
   "outputs": [
    {
     "data": {
      "text/plain": [
       "array([0.53898644, 1.6165512 , 7.0077815 ], dtype=float32)"
      ]
     },
     "execution_count": 123,
     "metadata": {},
     "output_type": "execute_result"
    }
   ],
   "source": [
    "theta[id]"
   ]
  },
  {
   "cell_type": "code",
   "execution_count": 124,
   "metadata": {},
   "outputs": [
    {
     "data": {
      "text/plain": [
       "array([ 0.3853559 , -0.42747563,  0.49426314,  0.28006268,  0.41069704,\n",
       "       -0.02163856, -0.12062053, -0.1193699 , -0.12209579, -0.05988751,\n",
       "       -0.348947  ,  0.07152105,  0.64503443, -0.16567425,  0.36619002,\n",
       "       -0.1102424 ,  0.07747326,  0.06775997, -0.05031077, -0.2942695 ,\n",
       "        0.04359036,  0.00119089, -0.31879818,  0.24713482,  0.22637439,\n",
       "       -0.19594297, -0.00248465,  0.70728713, -0.20905301, -0.24483114,\n",
       "        0.07092818, -0.49214923,  0.32881126, -0.481456  ,  0.3418061 ,\n",
       "        0.06407523,  0.3439141 , -0.07951942,  0.10768818,  0.2573191 ],\n",
       "      dtype=float32)"
      ]
     },
     "execution_count": 124,
     "metadata": {},
     "output_type": "execute_result"
    }
   ],
   "source": [
    "rnnoutput[id]"
   ]
  },
  {
   "cell_type": "code",
   "execution_count": 133,
   "metadata": {},
   "outputs": [
    {
     "name": "stdout",
     "output_type": "stream",
     "text": [
      "columns of data: dict_keys(['input', 'target', 'lags', 'theta', 'hstate', 'rnnoutput'])\n"
     ]
    },
    {
     "data": {
      "text/plain": [
       "array([1.078691  , 1.0311098 , 0.9845628 , 0.98414487, 0.98873556],\n",
       "      dtype=float32)"
      ]
     },
     "execution_count": 133,
     "metadata": {},
     "output_type": "execute_result"
    }
   ],
   "source": [
    "### check RankNet\n",
    "modelfile = 'RankNet-MLP_savedata_multilayers_b1_s1_t0.pickle'\n",
    "ranknet = load_modeldata(modelfile)\n",
    "\n",
    "target = np.array([x.reshape(-1)[0] for x in ranknet['target']])\n",
    "id = 200-94\n",
    "\n",
    "#it is in the center of uncertainty\n",
    "target[id-2:id+3]"
   ]
  },
  {
   "cell_type": "code",
   "execution_count": 134,
   "metadata": {},
   "outputs": [
    {
     "data": {
      "text/plain": [
       "(array([ 20,  22,  79,  81,  82,  83, 101, 114, 117, 140, 164]),)"
      ]
     },
     "execution_count": 134,
     "metadata": {},
     "output_type": "execute_result"
    }
   ],
   "source": [
    "np.where(target<0)"
   ]
  },
  {
   "cell_type": "code",
   "execution_count": 130,
   "metadata": {},
   "outputs": [
    {
     "data": {
      "text/plain": [
       "(array([  0,  16,  71, 105, 106]),)"
      ]
     },
     "execution_count": 130,
     "metadata": {},
     "output_type": "execute_result"
    }
   ],
   "source": [
    "target_o = np.array([x.reshape(-1)[0] for x in savedata['target']])\n",
    "\n",
    "np.where(target_o<0)"
   ]
  },
  {
   "cell_type": "code",
   "execution_count": 137,
   "metadata": {},
   "outputs": [
    {
     "name": "stdout",
     "output_type": "stream",
     "text": [
      "columns of data: dict_keys(['input', 'target', 'lags', 'theta', 'hstate', 'rnnoutput'])\n"
     ]
    },
    {
     "data": {
      "text/plain": [
       "(array([ 19,  20,  22, 112, 116, 117, 140, 141, 187]),)"
      ]
     },
     "execution_count": 137,
     "metadata": {},
     "output_type": "execute_result"
    }
   ],
   "source": [
    "modelfile = 'RankNet-MLP_savedata_multilayers_b1_s1_t1.pickle'\n",
    "ranknet1 = load_modeldata(modelfile)\n",
    "\n",
    "target1 = np.array([x.reshape(-1)[0] for x in ranknet1['target']])\n",
    "np.where(target1<0)"
   ]
  },
  {
   "cell_type": "code",
   "execution_count": 138,
   "metadata": {},
   "outputs": [
    {
     "data": {
      "text/plain": [
       "(188, 40)"
      ]
     },
     "execution_count": 138,
     "metadata": {},
     "output_type": "execute_result"
    }
   ],
   "source": [
    "rnnoutput = np.array([x.reshape(-1) for x in ranknet['rnnoutput']])\n",
    "rnnoutput.shape"
   ]
  },
  {
   "cell_type": "code",
   "execution_count": 140,
   "metadata": {},
   "outputs": [
    {
     "data": {
      "text/plain": [
       "(188, 3)"
      ]
     },
     "execution_count": 140,
     "metadata": {},
     "output_type": "execute_result"
    }
   ],
   "source": [
    "theta = np.array([[x.asnumpy().reshape(-1)[0] for x in savedata['theta'][id]] for id in range(len(ranknet['theta']))])\n",
    "theta.shape"
   ]
  },
  {
   "cell_type": "markdown",
   "metadata": {},
   "source": [
    "### 100 samples, test on the average model data"
   ]
  },
  {
   "cell_type": "code",
   "execution_count": 155,
   "metadata": {},
   "outputs": [
    {
     "name": "stdout",
     "output_type": "stream",
     "text": [
      "size of data: 100\n"
     ]
    }
   ],
   "source": [
    "modelfile = 'RankNet-MLP_savedata_multilayers_b1_s100_t0.pickle'\n",
    "ranknet = load_modeldata(modelfile)"
   ]
  },
  {
   "cell_type": "code",
   "execution_count": 156,
   "metadata": {},
   "outputs": [
    {
     "data": {
      "text/plain": [
       "100"
      ]
     },
     "execution_count": 156,
     "metadata": {},
     "output_type": "execute_result"
    }
   ],
   "source": [
    "len(ranknet)"
   ]
  },
  {
   "cell_type": "code",
   "execution_count": 157,
   "metadata": {},
   "outputs": [
    {
     "data": {
      "text/plain": [
       "dict_keys(['input', 'target', 'lags', 'theta', 'hstate', 'rnnoutput'])"
      ]
     },
     "execution_count": 157,
     "metadata": {},
     "output_type": "execute_result"
    }
   ],
   "source": [
    "ranknet[0].keys()"
   ]
  },
  {
   "cell_type": "code",
   "execution_count": 158,
   "metadata": {},
   "outputs": [
    {
     "data": {
      "text/plain": [
       "array([ 0.56904113, -0.6019372 , -0.26216808,  0.5077025 ,  0.12048921,\n",
       "        0.08039901,  0.12102704, -0.19108155, -0.39448035,  0.01646979,\n",
       "       -0.23147646,  0.07274219, -0.27615643, -0.51665825,  0.01381567,\n",
       "       -0.22633345, -0.09604313,  0.15158312,  0.20746446, -0.2075398 ,\n",
       "       -0.07896389,  0.02502082, -0.15783079, -0.16771129,  0.28573942,\n",
       "        0.08723599, -0.02885644, -0.4371242 ,  0.20509085, -0.39072007,\n",
       "        0.33336955, -0.20196714,  0.3357562 , -0.22202078,  0.558727  ,\n",
       "        0.7034129 ,  0.1746498 , -0.02207406,  0.05980825, -0.00549192],\n",
       "      dtype=float32)"
      ]
     },
     "execution_count": 158,
     "metadata": {},
     "output_type": "execute_result"
    }
   ],
   "source": [
    "np.array([x.reshape(-1) for x in ranknet[0]['rnnoutput']])[0]"
   ]
  },
  {
   "cell_type": "code",
   "execution_count": 159,
   "metadata": {},
   "outputs": [
    {
     "data": {
      "text/plain": [
       "array([ 0.5690333 , -0.6019297 , -0.26216802,  0.50770587,  0.12048061,\n",
       "        0.08040307,  0.12104224, -0.19107008, -0.39446583,  0.01648019,\n",
       "       -0.2314671 ,  0.0727394 , -0.27615148, -0.5166325 ,  0.01378983,\n",
       "       -0.22630051, -0.09605829,  0.15157767,  0.2074795 , -0.20756161,\n",
       "       -0.07895461,  0.02502225, -0.15784803, -0.16768648,  0.2857059 ,\n",
       "        0.08719096, -0.02885197, -0.43714333,  0.20507383, -0.39070898,\n",
       "        0.33334357, -0.20197152,  0.33576122, -0.22203383,  0.5587191 ,\n",
       "        0.7033926 ,  0.1746312 , -0.02204334,  0.05979649, -0.00550865],\n",
       "      dtype=float32)"
      ]
     },
     "execution_count": 159,
     "metadata": {},
     "output_type": "execute_result"
    }
   ],
   "source": [
    "np.array([x.reshape(-1) for x in ranknet[1]['rnnoutput']])[0]"
   ]
  },
  {
   "cell_type": "code",
   "execution_count": 160,
   "metadata": {},
   "outputs": [],
   "source": [
    "\n",
    "datax = ranknet[0] \n",
    "\n",
    "theta = np.array([[x.asnumpy().reshape(-1)[0] for x in datax['theta'][id]] for id in range(len(datax['theta']))])\n",
    "theta.shape\n",
    "rnnoutput = np.array([x.reshape(-1) for x in datax['rnnoutput']])\n",
    "rnnoutput.shape\n",
    "\n",
    "all_theta = np.zeros((len(ranknet), theta.shape[0], theta.shape[1]))\n",
    "all_rnnoutput = np.zeros((len(ranknet), rnnoutput.shape[0], rnnoutput.shape[1]))\n",
    "\n",
    "for id, datax in enumerate(ranknet):\n",
    "    theta = np.array([[x.asnumpy().reshape(-1)[0] for x in datax['theta'][id]] for id in range(len(datax['theta']))])\n",
    "    all_theta[id] = theta\n",
    "    \n",
    "    rnnoutput = np.array([x.reshape(-1) for x in datax['rnnoutput']])\n",
    "    all_rnnoutput[id] = rnnoutput\n",
    "\n",
    "#get average\n",
    "theta =np.mean(all_theta,axis=0)\n",
    "rnnoutput =np.mean(all_rnnoutput,axis=0)\n",
    "\n"
   ]
  },
  {
   "cell_type": "code",
   "execution_count": 161,
   "metadata": {},
   "outputs": [
    {
     "data": {
      "text/plain": [
       "array([ 0.56909108, -0.6019855 , -0.26216841,  0.50768122,  0.12054382,\n",
       "        0.08037323,  0.12093048, -0.19115473, -0.39457212,  0.01640366,\n",
       "       -0.2315362 ,  0.07275982, -0.27618817, -0.5168222 ,  0.01397981,\n",
       "       -0.22654288, -0.09594673,  0.15161772,  0.20736882, -0.207401  ,\n",
       "       -0.07902292,  0.0250117 , -0.15772112, -0.16786905,  0.28595243,\n",
       "        0.08752265, -0.02888487, -0.43700207,  0.20519894, -0.39079029,\n",
       "        0.333535  , -0.20193943,  0.33572411, -0.2219379 ,  0.55877734,\n",
       "        0.70354207,  0.17476839, -0.02226995,  0.05988316, -0.00538551])"
      ]
     },
     "execution_count": 161,
     "metadata": {},
     "output_type": "execute_result"
    }
   ],
   "source": [
    "rnnoutput[0]"
   ]
  },
  {
   "cell_type": "code",
   "execution_count": 162,
   "metadata": {},
   "outputs": [
    {
     "data": {
      "text/plain": [
       "array([ 0.37793113, -0.39036793,  0.14719297,  0.22188395,  0.17394874,\n",
       "        0.04322035,  0.0386532 , -0.11205912, -0.19484319,  0.04279242,\n",
       "       -0.22100024,  0.02399967, -0.02248291, -0.28822577, -0.08447922,\n",
       "       -0.06851802, -0.09908401,  0.01193149,  0.12491202, -0.18044853,\n",
       "       -0.0974895 ,  0.04102266, -0.34642028,  0.06488668, -0.18015351,\n",
       "       -0.1905333 , -0.06151238,  0.32847175, -0.06691681, -0.18921025,\n",
       "        0.12492408, -0.20279896,  0.20427127, -0.05627926,  0.34672294,\n",
       "        0.18773277,  0.10734997, -0.13083964, -0.02075649, -0.09673294])"
      ]
     },
     "execution_count": 162,
     "metadata": {},
     "output_type": "execute_result"
    }
   ],
   "source": [
    "rnnoutput[-1]"
   ]
  },
  {
   "cell_type": "code",
   "execution_count": null,
   "metadata": {},
   "outputs": [],
   "source": []
  }
 ],
 "metadata": {
  "kernelspec": {
   "display_name": "Python 3",
   "language": "python",
   "name": "python3"
  },
  "language_info": {
   "codemirror_mode": {
    "name": "ipython",
    "version": 3
   },
   "file_extension": ".py",
   "mimetype": "text/x-python",
   "name": "python",
   "nbconvert_exporter": "python",
   "pygments_lexer": "ipython3",
   "version": "3.6.10"
  }
 },
 "nbformat": 4,
 "nbformat_minor": 4
}
