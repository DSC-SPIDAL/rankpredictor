{
 "cells": [
  {
   "cell_type": "code",
   "execution_count": 2,
   "metadata": {},
   "outputs": [
    {
     "name": "stderr",
     "output_type": "stream",
     "text": [
      "INFO:root:Using GPU\n",
      "INFO:root:Using GPU\n",
      "INFO:root:Using GPU\n",
      "INFO:root:Using GPU\n"
     ]
    }
   ],
   "source": [
    "%load_ext autoreload\n",
    "%autoreload 2\n",
    "\n",
    "%matplotlib inline\n",
    "import pandas as pd\n",
    "import numpy as np\n",
    "import matplotlib.pyplot as plt\n",
    "import os,sys\n",
    "import mxnet as mx\n",
    "from mxnet import gluon\n",
    "import pickle\n",
    "import json\n",
    "import random\n",
    "import inspect\n",
    "from scipy import stats\n",
    "from sklearn.metrics import mean_squared_error\n",
    "from gluonts.dataset.common import ListDataset\n",
    "from gluonts.dataset.util import to_pandas\n",
    "from pathlib import Path\n",
    "from gluonts.model.deepar import DeepAREstimator\n",
    "from gluonts.model.deep_factor import DeepFactorEstimator\n",
    "from gluonts.model.deepstate import DeepStateEstimator\n",
    "from gluonts.trainer import Trainer\n",
    "from gluonts.model.simple_feedforward import SimpleFeedForwardEstimator\n",
    "from gluonts.evaluation.backtest import make_evaluation_predictions\n",
    "from gluonts.evaluation import Evaluator, MultivariateEvaluator\n",
    "from gluonts.distribution.multivariate_gaussian import MultivariateGaussianOutput\n",
    "from gluonts.model.predictor import Predictor\n",
    "from gluonts.model.prophet import ProphetPredictor\n",
    "from gluonts.model.r_forecast import RForecastPredictor\n",
    "from indycar.model.NaivePredictor import NaivePredictor\n",
    "from indycar.model.ZeroPredictor import ZeroPredictor\n",
    "from pandas.plotting import register_matplotlib_converters\n",
    "register_matplotlib_converters()\n",
    "\n",
    "#from indycar.model.stint_predictor_fastrun import *\n",
    "import indycar.model.stint_simulator_shortterm as stint"
   ]
  },
  {
   "cell_type": "code",
   "execution_count": 3,
   "metadata": {},
   "outputs": [],
   "source": [
    "def simulation(datasetid, testevent, taskid, runts, expid, predictionlen, datamode, loopcnt, featuremode = stint.FEATURE_STATUS):\n",
    "    #\n",
    "    # configurataion\n",
    "    #\n",
    "    # model path:  <_dataset_id>/<_task_id>-<trainid>/\n",
    "    #_dataset_id = 'indy2013-2018-nocarid'\n",
    "    stint.init()\n",
    "    stint._dataset_id = datasetid\n",
    "    stint._test_event = testevent\n",
    "    #_test_event = 'Indy500-2019'\n",
    "\n",
    "    stint._feature_mode = featuremode\n",
    "    stint._context_ratio = 0.\n",
    "\n",
    "    stint._task_id = taskid  # rank,laptime, the trained model's task\n",
    "    stint._run_ts = runts   #COL_LAPTIME,COL_RANK\n",
    "    stint._exp_id=expid  #rank, laptime, laptim2rank, timediff2rank... \n",
    "\n",
    "    stint._train_len = 40\n",
    "    predictor = stint.load_model(predictionlen, 'oracle',trainid='2018')\n",
    "\n",
    "    ret2 = {}\n",
    "    for i in range(loopcnt):\n",
    "        ret2[i] = stint.run_simulation_shortterm(predictor, predictionlen, stint.freq, datamode=datamode)\n",
    "\n",
    "    acc = []\n",
    "    for i in ret2.keys():\n",
    "        df = ret2[i]\n",
    "        _x = stint.get_evalret_shortterm(df)\n",
    "        acc.append(_x)\n",
    "\n",
    "    b = np.array(acc)\n",
    "    print(np.mean(b, axis=0))\n",
    "    \n",
    "    return b, ret2"
   ]
  },
  {
   "cell_type": "markdown",
   "metadata": {},
   "source": [
    "### test low mode"
   ]
  },
  {
   "cell_type": "code",
   "execution_count": 29,
   "metadata": {},
   "outputs": [
    {
     "name": "stderr",
     "output_type": "stream",
     "text": [
      "/N/u/pengb/hpda/indycar/predictor/src/indycar/model/stint_simulator_shortterm.py:196: SettingWithCopyWarning: \n",
      "A value is trying to be set on a copy of a slice from a DataFrame\n",
      "\n",
      "See the caveats in the documentation: http://pandas.pydata.org/pandas-docs/stable/user_guide/indexing.html#returning-a-view-versus-a-copy\n",
      "  uni_ds['rank_diff'][mask] = 0\n",
      "/N/u/pengb/hpda/indycar/predictor/src/indycar/model/stint_simulator_shortterm.py:200: SettingWithCopyWarning: \n",
      "A value is trying to be set on a copy of a slice from a DataFrame\n",
      "\n",
      "See the caveats in the documentation: http://pandas.pydata.org/pandas-docs/stable/user_guide/indexing.html#returning-a-view-versus-a-copy\n",
      "  uni_ds['time_diff'][mask] = 0\n",
      "INFO:root:Using GPU\n"
     ]
    },
    {
     "name": "stdout",
     "output_type": "stream",
     "text": [
      "init: load dataset with 7 races, 58 cars\n",
      "predicting model=oracle, plen=2\n",
      "loading model...done!, ctx:gpu(0)\n",
      "pred: acc=0.7074468085106383, mae=1.5666666666666667, rmse=10.982771535580524,r2=0.8466624982619189, acc_naive=0.7180851063829787, mae_naive=1.3393258426966292\n",
      "pred: acc=0.7021276595744681, mae=1.5857677902621723, rmse=11.110486891385769,r2=0.8448793824491824, acc_naive=0.7180851063829787, mae_naive=1.3393258426966292\n",
      "pred: acc=0.7180851063829787, mae=1.5801498127340825, rmse=10.99063670411985,r2=0.8465526876106946, acc_naive=0.7180851063829787, mae_naive=1.3393258426966292\n",
      "pred: acc=0.6968085106382979, mae=1.5704119850187266, rmse=11.265168539325842,r2=0.8427197729751056, acc_naive=0.7180851063829787, mae_naive=1.3393258426966292\n",
      "pred: acc=0.7074468085106383, mae=1.546441947565543, rmse=10.67940074906367,r2=0.8508980519519969, acc_naive=0.7180851063829787, mae_naive=1.3393258426966292\n",
      "pred: acc=0.7127659574468085, mae=1.5760299625468164, rmse=11.097378277153558,r2=0.8450624002012228, acc_naive=0.7180851063829787, mae_naive=1.3393258426966292\n",
      "pred: acc=0.7021276595744681, mae=1.5756554307116104, rmse=11.084644194756555,r2=0.8452401888746335, acc_naive=0.7180851063829787, mae_naive=1.3393258426966292\n",
      "pred: acc=0.7287234042553191, mae=1.5565543071161048, rmse=10.957677902621723,r2=0.8470128465301106, acc_naive=0.7180851063829787, mae_naive=1.3393258426966292\n",
      "pred: acc=0.6968085106382979, mae=1.5734082397003746, rmse=11.023220973782772,r2=0.8460977577699085, acc_naive=0.7180851063829787, mae_naive=1.3393258426966292\n",
      "pred: acc=0.7180851063829787, mae=1.5423220973782772, rmse=10.756179775280899,r2=0.8498260908329031, acc_naive=0.7180851063829787, mae_naive=1.3393258426966292\n",
      "[ 0.70904255  1.56734082 10.99475655  0.84649517]\n"
     ]
    },
    {
     "ename": "TypeError",
     "evalue": "'int' object is not subscriptable",
     "output_type": "error",
     "traceback": [
      "\u001b[0;31m---------------------------------------------------------------------------\u001b[0m",
      "\u001b[0;31mTypeError\u001b[0m                                 Traceback (most recent call last)",
      "\u001b[0;32m<ipython-input-29-0ec9c0fbecce>\u001b[0m in \u001b[0;36m<module>\u001b[0;34m\u001b[0m\n\u001b[1;32m      3\u001b[0m                    2, stint.MODE_ORACLE_LAPONLY,10)\n\u001b[1;32m      4\u001b[0m \u001b[0;32mfor\u001b[0m \u001b[0mdf\u001b[0m \u001b[0;32min\u001b[0m \u001b[0mret\u001b[0m\u001b[0;34m:\u001b[0m\u001b[0;34m\u001b[0m\u001b[0;34m\u001b[0m\u001b[0m\n\u001b[0;32m----> 5\u001b[0;31m     \u001b[0mstint\u001b[0m\u001b[0;34m.\u001b[0m\u001b[0mget_evalret_shortterm\u001b[0m\u001b[0;34m(\u001b[0m\u001b[0mdf\u001b[0m\u001b[0;34m)\u001b[0m\u001b[0;34m\u001b[0m\u001b[0;34m\u001b[0m\u001b[0m\n\u001b[0m",
      "\u001b[0;32m~/hpda/indycar/predictor/src/indycar/model/stint_simulator_shortterm.py\u001b[0m in \u001b[0;36mget_evalret_shortterm\u001b[0;34m(df)\u001b[0m\n\u001b[1;32m   3660\u001b[0m \u001b[0;34m\u001b[0m\u001b[0m\n\u001b[1;32m   3661\u001b[0m \u001b[0;32mdef\u001b[0m \u001b[0mget_evalret_shortterm\u001b[0m\u001b[0;34m(\u001b[0m\u001b[0mdf\u001b[0m\u001b[0;34m)\u001b[0m\u001b[0;34m:\u001b[0m\u001b[0;34m\u001b[0m\u001b[0;34m\u001b[0m\u001b[0m\n\u001b[0;32m-> 3662\u001b[0;31m     \u001b[0mmaxlap\u001b[0m \u001b[0;34m=\u001b[0m \u001b[0mnp\u001b[0m\u001b[0;34m.\u001b[0m\u001b[0mmax\u001b[0m\u001b[0;34m(\u001b[0m\u001b[0mdf\u001b[0m\u001b[0;34m[\u001b[0m\u001b[0;34m'startlap'\u001b[0m\u001b[0;34m]\u001b[0m\u001b[0;34m.\u001b[0m\u001b[0mvalues\u001b[0m\u001b[0;34m)\u001b[0m\u001b[0;34m\u001b[0m\u001b[0;34m\u001b[0m\u001b[0m\n\u001b[0m\u001b[1;32m   3663\u001b[0m     \u001b[0mminlap\u001b[0m \u001b[0;34m=\u001b[0m \u001b[0mnp\u001b[0m\u001b[0;34m.\u001b[0m\u001b[0mmin\u001b[0m\u001b[0;34m(\u001b[0m\u001b[0mdf\u001b[0m\u001b[0;34m[\u001b[0m\u001b[0;34m'startlap'\u001b[0m\u001b[0;34m]\u001b[0m\u001b[0;34m.\u001b[0m\u001b[0mvalues\u001b[0m\u001b[0;34m)\u001b[0m\u001b[0;34m\u001b[0m\u001b[0;34m\u001b[0m\u001b[0m\n\u001b[1;32m   3664\u001b[0m \u001b[0;34m\u001b[0m\u001b[0m\n",
      "\u001b[0;31mTypeError\u001b[0m: 'int' object is not subscriptable"
     ]
    }
   ],
   "source": [
    "acc, ret = simulation('indy2013-2018', 'Indy500-2018', \n",
    "                    'timediff',stint.COL_TIMEDIFF,'timediff2rank',\n",
    "                   2, stint.MODE_ORACLE_LAPONLY,10)\n",
    "for df in ret:\n",
    "    stint.get_evalret_shortterm(df)"
   ]
  },
  {
   "cell_type": "markdown",
   "metadata": {},
   "source": [
    "### test"
   ]
  },
  {
   "cell_type": "code",
   "execution_count": 36,
   "metadata": {},
   "outputs": [
    {
     "data": {
      "text/plain": [
       "array([ 0.70904255,  1.56734082, 10.99475655,  0.84649517])"
      ]
     },
     "execution_count": 36,
     "metadata": {},
     "output_type": "execute_result"
    }
   ],
   "source": [
    "np.mean(acc, axis=0)"
   ]
  },
  {
   "cell_type": "code",
   "execution_count": 12,
   "metadata": {},
   "outputs": [
    {
     "data": {
      "text/plain": [
       "0.7393617021276596"
      ]
     },
     "execution_count": 12,
     "metadata": {},
     "output_type": "execute_result"
    }
   ],
   "source": [
    "139./188"
   ]
  },
  {
   "cell_type": "code",
   "execution_count": 27,
   "metadata": {},
   "outputs": [
    {
     "name": "stdout",
     "output_type": "stream",
     "text": [
      "pred: acc=0.6968085106382979, mae=1.5872659176029962,45.08510638297872, rmse=11.434831460674157,r2=0.8403510003558398, acc_naive=0.7180851063829787, mae_naive=1.3393258426966292, 38.04255319148936\n"
     ]
    },
    {
     "data": {
      "text/plain": [
       "(0.6968085106382979,\n",
       " 1.5872659176029962,\n",
       " 11.434831460674157,\n",
       " 0.8403510003558398)"
      ]
     },
     "execution_count": 27,
     "metadata": {},
     "output_type": "execute_result"
    }
   ],
   "source": [
    "stint.get_evalret_shortterm(df)"
   ]
  },
  {
   "cell_type": "code",
   "execution_count": 15,
   "metadata": {},
   "outputs": [
    {
     "data": {
      "text/html": [
       "<div>\n",
       "<style scoped>\n",
       "    .dataframe tbody tr th:only-of-type {\n",
       "        vertical-align: middle;\n",
       "    }\n",
       "\n",
       "    .dataframe tbody tr th {\n",
       "        vertical-align: top;\n",
       "    }\n",
       "\n",
       "    .dataframe thead th {\n",
       "        text-align: right;\n",
       "    }\n",
       "</style>\n",
       "<table border=\"1\" class=\"dataframe\">\n",
       "  <thead>\n",
       "    <tr style=\"text-align: right;\">\n",
       "      <th></th>\n",
       "      <th>carno</th>\n",
       "      <th>startlap</th>\n",
       "      <th>startrank</th>\n",
       "      <th>endrank</th>\n",
       "      <th>diff</th>\n",
       "      <th>sign</th>\n",
       "      <th>pred_endrank</th>\n",
       "      <th>pred_diff</th>\n",
       "      <th>pred_sign</th>\n",
       "    </tr>\n",
       "  </thead>\n",
       "  <tbody>\n",
       "    <tr>\n",
       "      <th>0</th>\n",
       "      <td>1</td>\n",
       "      <td>10</td>\n",
       "      <td>3.0</td>\n",
       "      <td>3.0</td>\n",
       "      <td>0.0</td>\n",
       "      <td>0</td>\n",
       "      <td>3.0</td>\n",
       "      <td>0.0</td>\n",
       "      <td>0</td>\n",
       "    </tr>\n",
       "    <tr>\n",
       "      <th>1</th>\n",
       "      <td>3</td>\n",
       "      <td>10</td>\n",
       "      <td>7.0</td>\n",
       "      <td>7.0</td>\n",
       "      <td>0.0</td>\n",
       "      <td>0</td>\n",
       "      <td>7.0</td>\n",
       "      <td>0.0</td>\n",
       "      <td>0</td>\n",
       "    </tr>\n",
       "    <tr>\n",
       "      <th>2</th>\n",
       "      <td>4</td>\n",
       "      <td>10</td>\n",
       "      <td>12.0</td>\n",
       "      <td>12.0</td>\n",
       "      <td>0.0</td>\n",
       "      <td>0</td>\n",
       "      <td>12.0</td>\n",
       "      <td>0.0</td>\n",
       "      <td>0</td>\n",
       "    </tr>\n",
       "    <tr>\n",
       "      <th>3</th>\n",
       "      <td>6</td>\n",
       "      <td>10</td>\n",
       "      <td>15.0</td>\n",
       "      <td>15.0</td>\n",
       "      <td>0.0</td>\n",
       "      <td>0</td>\n",
       "      <td>15.0</td>\n",
       "      <td>0.0</td>\n",
       "      <td>0</td>\n",
       "    </tr>\n",
       "    <tr>\n",
       "      <th>4</th>\n",
       "      <td>7</td>\n",
       "      <td>10</td>\n",
       "      <td>28.0</td>\n",
       "      <td>28.0</td>\n",
       "      <td>0.0</td>\n",
       "      <td>0</td>\n",
       "      <td>29.0</td>\n",
       "      <td>1.0</td>\n",
       "      <td>1</td>\n",
       "    </tr>\n",
       "    <tr>\n",
       "      <th>...</th>\n",
       "      <td>...</td>\n",
       "      <td>...</td>\n",
       "      <td>...</td>\n",
       "      <td>...</td>\n",
       "      <td>...</td>\n",
       "      <td>...</td>\n",
       "      <td>...</td>\n",
       "      <td>...</td>\n",
       "      <td>...</td>\n",
       "    </tr>\n",
       "    <tr>\n",
       "      <th>5335</th>\n",
       "      <td>60</td>\n",
       "      <td>197</td>\n",
       "      <td>15.0</td>\n",
       "      <td>15.0</td>\n",
       "      <td>0.0</td>\n",
       "      <td>0</td>\n",
       "      <td>15.0</td>\n",
       "      <td>0.0</td>\n",
       "      <td>0</td>\n",
       "    </tr>\n",
       "    <tr>\n",
       "      <th>5336</th>\n",
       "      <td>64</td>\n",
       "      <td>197</td>\n",
       "      <td>16.0</td>\n",
       "      <td>16.0</td>\n",
       "      <td>0.0</td>\n",
       "      <td>0</td>\n",
       "      <td>14.0</td>\n",
       "      <td>-2.0</td>\n",
       "      <td>-1</td>\n",
       "    </tr>\n",
       "    <tr>\n",
       "      <th>5337</th>\n",
       "      <td>66</td>\n",
       "      <td>197</td>\n",
       "      <td>10.0</td>\n",
       "      <td>10.0</td>\n",
       "      <td>0.0</td>\n",
       "      <td>0</td>\n",
       "      <td>16.0</td>\n",
       "      <td>6.0</td>\n",
       "      <td>1</td>\n",
       "    </tr>\n",
       "    <tr>\n",
       "      <th>5338</th>\n",
       "      <td>88</td>\n",
       "      <td>197</td>\n",
       "      <td>13.0</td>\n",
       "      <td>13.0</td>\n",
       "      <td>0.0</td>\n",
       "      <td>0</td>\n",
       "      <td>12.0</td>\n",
       "      <td>-1.0</td>\n",
       "      <td>-1</td>\n",
       "    </tr>\n",
       "    <tr>\n",
       "      <th>5339</th>\n",
       "      <td>98</td>\n",
       "      <td>197</td>\n",
       "      <td>11.0</td>\n",
       "      <td>11.0</td>\n",
       "      <td>0.0</td>\n",
       "      <td>0</td>\n",
       "      <td>10.0</td>\n",
       "      <td>-1.0</td>\n",
       "      <td>-1</td>\n",
       "    </tr>\n",
       "  </tbody>\n",
       "</table>\n",
       "<p>5340 rows × 9 columns</p>\n",
       "</div>"
      ],
      "text/plain": [
       "      carno  startlap  startrank  endrank  diff  sign  pred_endrank  \\\n",
       "0         1        10        3.0      3.0   0.0     0           3.0   \n",
       "1         3        10        7.0      7.0   0.0     0           7.0   \n",
       "2         4        10       12.0     12.0   0.0     0          12.0   \n",
       "3         6        10       15.0     15.0   0.0     0          15.0   \n",
       "4         7        10       28.0     28.0   0.0     0          29.0   \n",
       "...     ...       ...        ...      ...   ...   ...           ...   \n",
       "5335     60       197       15.0     15.0   0.0     0          15.0   \n",
       "5336     64       197       16.0     16.0   0.0     0          14.0   \n",
       "5337     66       197       10.0     10.0   0.0     0          16.0   \n",
       "5338     88       197       13.0     13.0   0.0     0          12.0   \n",
       "5339     98       197       11.0     11.0   0.0     0          10.0   \n",
       "\n",
       "      pred_diff  pred_sign  \n",
       "0           0.0          0  \n",
       "1           0.0          0  \n",
       "2           0.0          0  \n",
       "3           0.0          0  \n",
       "4           1.0          1  \n",
       "...         ...        ...  \n",
       "5335        0.0          0  \n",
       "5336       -2.0         -1  \n",
       "5337        6.0          1  \n",
       "5338       -1.0         -1  \n",
       "5339       -1.0         -1  \n",
       "\n",
       "[5340 rows x 9 columns]"
      ]
     },
     "execution_count": 15,
     "metadata": {},
     "output_type": "execute_result"
    }
   ],
   "source": [
    "df"
   ]
  },
  {
   "cell_type": "code",
   "execution_count": 23,
   "metadata": {},
   "outputs": [
    {
     "name": "stderr",
     "output_type": "stream",
     "text": [
      "[autoreload of indycar.model.stint_simulator_shortterm failed: Traceback (most recent call last):\n",
      "  File \"/scratch_ssd/hpda/anaconda3/envs/gluonts/lib/python3.6/site-packages/IPython/extensions/autoreload.py\", line 245, in check\n",
      "    superreload(m, reload, self.old_objects)\n",
      "  File \"/scratch_ssd/hpda/anaconda3/envs/gluonts/lib/python3.6/site-packages/IPython/extensions/autoreload.py\", line 394, in superreload\n",
      "    module = reload(module)\n",
      "  File \"/scratch_ssd/hpda/anaconda3/envs/gluonts/lib/python3.6/imp.py\", line 315, in reload\n",
      "    return importlib.reload(module)\n",
      "  File \"/scratch_ssd/hpda/anaconda3/envs/gluonts/lib/python3.6/importlib/__init__.py\", line 166, in reload\n",
      "    _bootstrap._exec(spec, module)\n",
      "  File \"<frozen importlib._bootstrap>\", line 618, in _exec\n",
      "  File \"<frozen importlib._bootstrap_external>\", line 674, in exec_module\n",
      "  File \"<frozen importlib._bootstrap_external>\", line 781, in get_code\n",
      "  File \"<frozen importlib._bootstrap_external>\", line 741, in source_to_code\n",
      "  File \"<frozen importlib._bootstrap>\", line 219, in _call_with_frames_removed\n",
      "  File \"/N/u/pengb/hpda/indycar/predictor/src/indycar/model/stint_simulator_shortterm.py\", line 3675\n",
      "    n_correct = top1_naive[top1_naive['startrank']==top1_naive['endrank']]\n",
      "            ^\n",
      "SyntaxError: invalid syntax\n",
      "]\n"
     ]
    },
    {
     "data": {
      "text/plain": [
       "0.0"
      ]
     },
     "execution_count": 23,
     "metadata": {},
     "output_type": "execute_result"
    }
   ],
   "source": [
    "np.sum(df[['diff']].values.reshape(-1))"
   ]
  },
  {
   "cell_type": "code",
   "execution_count": null,
   "metadata": {},
   "outputs": [],
   "source": []
  }
 ],
 "metadata": {
  "kernelspec": {
   "display_name": "Python 3",
   "language": "python",
   "name": "python3"
  },
  "language_info": {
   "codemirror_mode": {
    "name": "ipython",
    "version": 3
   },
   "file_extension": ".py",
   "mimetype": "text/x-python",
   "name": "python",
   "nbconvert_exporter": "python",
   "pygments_lexer": "ipython3",
   "version": "3.6.10"
  }
 },
 "nbformat": 4,
 "nbformat_minor": 4
}
