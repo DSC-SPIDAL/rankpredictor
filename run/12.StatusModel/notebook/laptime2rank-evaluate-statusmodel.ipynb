{
 "cells": [
  {
   "cell_type": "markdown",
   "metadata": {},
   "source": [
    "## Laptime2Rank-evaluate-statusmodel\n",
    "\n",
    "based on: Laptime2Rank-evaluate\n",
    "\n",
    "go beyond curtrack and zerotrack by modeling the track status\n",
    "\n",
    "rank prediction by laptime forecasting models\n",
    "\n",
    "support:\n",
    "+ train/test split by ratio or event\n",
    "+ incremental training evaluation(adjust ratio)\n"
   ]
  },
  {
   "cell_type": "code",
   "execution_count": 1,
   "metadata": {},
   "outputs": [
    {
     "name": "stderr",
     "output_type": "stream",
     "text": [
      "INFO:root:Using GPU\n",
      "INFO:root:Using GPU\n",
      "INFO:root:Using GPU\n",
      "INFO:root:Using GPU\n",
      "ERROR:fbprophet:Importing plotly failed. Interactive plots will not work.\n"
     ]
    }
   ],
   "source": [
    "%matplotlib inline\n",
    "import pandas as pd\n",
    "import numpy as np\n",
    "import matplotlib.pyplot as plt\n",
    "import os\n",
    "import mxnet as mx\n",
    "from mxnet import gluon\n",
    "import pickle\n",
    "import json\n",
    "import random\n",
    "from scipy import stats\n",
    "from sklearn.metrics import mean_squared_error\n",
    "from gluonts.dataset.common import ListDataset\n",
    "from gluonts.dataset.util import to_pandas\n",
    "from pathlib import Path\n",
    "from gluonts.model.deepar import DeepAREstimator\n",
    "from gluonts.model.deep_factor import DeepFactorEstimator\n",
    "from gluonts.model.deepstate import DeepStateEstimator\n",
    "from gluonts.trainer import Trainer\n",
    "from gluonts.model.simple_feedforward import SimpleFeedForwardEstimator\n",
    "from gluonts.evaluation.backtest import make_evaluation_predictions\n",
    "from gluonts.evaluation import Evaluator, MultivariateEvaluator\n",
    "from gluonts.distribution.multivariate_gaussian import MultivariateGaussianOutput\n",
    "from gluonts.model.predictor import Predictor\n",
    "from gluonts.model.prophet import ProphetPredictor\n",
    "from gluonts.model.r_forecast import RForecastPredictor\n",
    "from indycar.model.NaivePredictor import NaivePredictor\n",
    "from pandas.plotting import register_matplotlib_converters\n",
    "register_matplotlib_converters()"
   ]
  },
  {
   "cell_type": "code",
   "execution_count": 2,
   "metadata": {},
   "outputs": [
    {
     "data": {
      "text/plain": [
       "'/scratch/hpda/indycar/notebook/12.StatusModel'"
      ]
     },
     "execution_count": 2,
     "metadata": {},
     "output_type": "execute_result"
    }
   ],
   "source": [
    "import os\n",
    "random.seed()\n",
    "os.getcwd()\n",
    "#GPUID = 1"
   ]
  },
  {
   "cell_type": "code",
   "execution_count": 3,
   "metadata": {},
   "outputs": [],
   "source": [
    "def load_data(event, year):\n",
    "    inputfile = '../data/final/C_'+ event +'-' + year + '-final.csv'\n",
    "    outputprefix = year +'-' + event + '-'\n",
    "    dataset = pd.read_csv(inputfile)\n",
    "    #dataset.info(verbose=True)    \n",
    "    \n",
    "    final_lap = max(dataset.completed_laps)\n",
    "    total_laps = final_lap + 1\n",
    "\n",
    "    # get records for the cars that finish the race\n",
    "    completed_car_numbers= dataset[dataset.completed_laps == final_lap].car_number.values\n",
    "    completed_car_count = len(completed_car_numbers)\n",
    "\n",
    "    print('count of completed cars:', completed_car_count)\n",
    "    print('completed cars:', completed_car_numbers)\n",
    "\n",
    "    #make a copy\n",
    "    alldata = dataset.copy()\n",
    "    dataset = dataset[dataset['car_number'].isin(completed_car_numbers)]\n",
    "    rankdata = alldata.rename_axis('MyIdx').sort_values(by=['elapsed_time','MyIdx'], ascending=True)\n",
    "    rankdata = rankdata.drop_duplicates(subset=['car_number', 'completed_laps'], keep='first')\n",
    "    \n",
    "    cldata = make_cl_data(dataset)\n",
    "    acldata = make_cl_data(alldata)\n",
    "\n",
    "    return alldata, rankdata, acldata\n",
    "\n",
    "# make indy car completed_laps dataset\n",
    "# car_number, completed_laps, rank, elapsed_time, rank_diff, elapsed_time_diff \n",
    "def make_cl_data(dataset):\n",
    "\n",
    "    # pick up data with valid rank\n",
    "    rankdata = dataset.rename_axis('MyIdx').sort_values(by=['elapsed_time','MyIdx'], ascending=True)\n",
    "    rankdata = rankdata.drop_duplicates(subset=['car_number', 'completed_laps'], keep='first')\n",
    "\n",
    "    # resort by car_number, lap\n",
    "    uni_ds = rankdata.sort_values(by=['car_number', 'completed_laps', 'elapsed_time'], ascending=True)    \n",
    "    #uni_ds = uni_ds.drop([\"unique_id\", \"best_lap\", \"current_status\", \"track_status\", \"lap_status\",\n",
    "    #                  \"laps_behind_leade\",\"laps_behind_prec\",\"overall_rank\",\"pit_stop_count\",\n",
    "    #                  \"last_pitted_lap\",\"start_position\",\"laps_led\"], axis=1)\n",
    "    \n",
    "    uni_ds = uni_ds.drop([\"unique_id\", \"best_lap\", \n",
    "                      \"laps_behind_leade\",\"laps_behind_prec\",\"overall_rank\",\"pit_stop_count\",\n",
    "                      \"last_pitted_lap\",\"start_position\",\"laps_led\"], axis=1)\n",
    "        \n",
    "    carnumber = set(uni_ds['car_number'])\n",
    "    print('cars:', carnumber)\n",
    "    print('#cars=', len(carnumber))\n",
    "   \n",
    "    # faster solution , uni_ds already sorted by car_number and lap\n",
    "    uni_ds['rank_diff'] = uni_ds['rank'].diff()\n",
    "    mask = uni_ds.car_number != uni_ds.car_number.shift(1)\n",
    "    uni_ds['rank_diff'][mask] = 0\n",
    "    \n",
    "    uni_ds['time_diff'] = uni_ds['elapsed_time'].diff()\n",
    "    mask = uni_ds.car_number != uni_ds.car_number.shift(1)\n",
    "    uni_ds['time_diff'][mask] = 0\n",
    "    \n",
    "    #df = uni_ds[['car_number','completed_laps','rank','elapsed_time','rank_diff','time_diff']]\n",
    "    df = uni_ds[['car_number','completed_laps','rank','elapsed_time',\n",
    "                 'rank_diff','time_diff',\"current_status\", \"track_status\", \"lap_status\"]]\n",
    "    \n",
    "    return df"
   ]
  },
  {
   "cell_type": "code",
   "execution_count": 20,
   "metadata": {},
   "outputs": [],
   "source": [
    "def nan_helper(y):\n",
    "    \"\"\"Helper to handle indices and logical indices of NaNs.\n",
    "\n",
    "    Input:\n",
    "        - y, 1d numpy array with possible NaNs\n",
    "    Output:\n",
    "        - nans, logical indices of NaNs\n",
    "        - index, a function, with signature indices= index(logical_indices),\n",
    "          to convert logical indices of NaNs to 'equivalent' indices\n",
    "    Example:\n",
    "        >>> # linear interpolation of NaNs\n",
    "        >>> nans, x= nan_helper(y)\n",
    "        >>> y[nans]= np.interp(x(nans), x(~nans), y[~nans])\n",
    "    \"\"\"\n",
    "\n",
    "    return np.isnan(y), lambda z: z.nonzero()[0]\n",
    "\n",
    "def test_flag(a, bitflag):\n",
    "    return (a & bitflag) ==  bitflag\n",
    "\n",
    "#\n",
    "# remove NaN at the tail\n",
    "# there should be no nans in the middle of the ts\n",
    "COL_LAPTIME=0\n",
    "COL_RANK=1\n",
    "COL_TRACKSTATUS=2\n",
    "COL_LAPSTATUS=3\n",
    "COL_TIMEDIFF=4\n",
    "COL_CAUTION_LAPS_INSTINT=5\n",
    "COL_LAPS_INSTINT= 6\n",
    "MODE_ORACLE = 0\n",
    "MODE_NOLAP = 1\n",
    "MODE_NOTRACK = 2\n",
    "MODE_TESTZERO = 4\n",
    "MODE_TESTCURTRACK = 8\n",
    "\n",
    "MODE_PREDTRACK = 16\n",
    "MODE_PREDPIT = 32\n",
    "#MODE_STR={MODE_ORACLE:'oracle', MODE_NOLAP:'nolap',MODE_NOTRACK:'notrack',MODE_TEST:'test'}\n",
    "\n",
    "def make_dataset(runs, prediction_length, freq, \n",
    "                       useeid = False,\n",
    "                       run_ts=COL_LAPTIME, \n",
    "                       train_ratio = 0.8,\n",
    "                       use_global_dict = True,\n",
    "                       oracle_mode = MODE_ORACLE,\n",
    "                       test_cars = [],\n",
    "                       half_moving_win = True \n",
    "                ):\n",
    "    \"\"\"\n",
    "    split the ts to train and test part by the ratio\n",
    "    \n",
    "    oracle_mode: false to simulate prediction in real by \n",
    "        set the covariates of track and lap status as nan in the testset\n",
    "            \n",
    "    \n",
    "    \"\"\"    \n",
    "    start = pd.Timestamp(\"01-01-2019\", freq=freq)  # can be different for each time series\n",
    "\n",
    "    train_set = []\n",
    "    test_set = []\n",
    "    \n",
    "    #select run\n",
    "    if runs>=0:\n",
    "        _laptime_data = [laptime_data[runs].copy()]\n",
    "    else:\n",
    "        _laptime_data = laptime_data.copy()\n",
    "    \n",
    "   \n",
    "    #_data: eventid, carids, datalist[carnumbers, features, lapnumber]->[laptime, rank, track, lap]]\n",
    "    for _data in _laptime_data:\n",
    "        _train = []\n",
    "        _test = []\n",
    "        \n",
    "        #statistics on the ts length\n",
    "        ts_len = [ _entry.shape[1] for _entry in _data[2]]\n",
    "        max_len = int(np.max(ts_len))\n",
    "        train_len = int(np.max(ts_len) * train_ratio)\n",
    "        \n",
    "        print(f'====event:{events[_data[0]]}, train_len={train_len}, max_len={np.max(ts_len)}, min_len={np.min(ts_len)}')\n",
    "                \n",
    "        # process for each ts\n",
    "        for rowid in range(_data[2].shape[0]):\n",
    "            # rec[features, lapnumber] -> [laptime, rank, track_status, lap_status,timediff]]\n",
    "            rec = _data[2][rowid].copy()\n",
    "            \n",
    "            #remove nan(only tails)\n",
    "            nans, x= nan_helper(rec[run_ts,:])\n",
    "            nan_count = np.sum(nans)             \n",
    "            rec = rec[:, ~np.isnan(rec[run_ts,:])]\n",
    "            \n",
    "            # remove short ts\n",
    "            totallen = rec.shape[1]\n",
    "            if ( totallen < train_len + prediction_length):\n",
    "                print(f'a short ts: carid={_data[1][rowid]}，len={totallen}')\n",
    "                continue                \n",
    "            \n",
    "            if use_global_dict:\n",
    "                carno = _data[1][rowid]\n",
    "                carid = global_carids[_data[1][rowid]]\n",
    "            else:\n",
    "                #simulation dataset, todo, fix the carids as decoder\n",
    "                carno = rowid\n",
    "                carid = rowid\n",
    "\n",
    "            #eval on carids\n",
    "            if test_cars and (carno not in test_cars):\n",
    "                continue                \n",
    "            \n",
    "            if useeid:\n",
    "                static_cat = [carid, _data[0]]    \n",
    "            else:\n",
    "                static_cat = [carid]    \n",
    "                \n",
    "            # selection of features\n",
    "            if test_flag(oracle_mode, MODE_NOTRACK):                \n",
    "                rec[COL_TRACKSTATUS, :] = 0\n",
    "            if test_flag(oracle_mode, MODE_NOLAP):                \n",
    "                rec[COL_LAPSTATUS, :] = 0\n",
    "                \n",
    "            # split and add to dataset record\n",
    "            _train.append({'target': rec[run_ts,:train_len].astype(np.float32), \n",
    "                            'start': start, \n",
    "                            'feat_static_cat': static_cat,\n",
    "                            'feat_dynamic_real': [rec[COL_TRACKSTATUS,:train_len],\n",
    "                                   rec[COL_LAPSTATUS,:train_len]]\n",
    "                          }\n",
    "                          )\n",
    "            \n",
    "            # multiple test ts(rolling window as half of the prediction_length)\n",
    "            test_rec_cnt = 0\n",
    "            step = -int(prediction_length/2) if half_moving_win else -prediction_length\n",
    "            for endpos in range(max_len, train_len+prediction_length, step):\n",
    "                \n",
    "                \n",
    "                #check if enough for this ts\n",
    "                if endpos > totallen:\n",
    "                    continue\n",
    "                        \n",
    "                track_rec = rec[COL_TRACKSTATUS, :endpos].copy()\n",
    "                lap_rec = rec[COL_LAPSTATUS, :endpos].copy()\n",
    "                \n",
    "                # test mode\n",
    "                if test_flag(oracle_mode, MODE_TESTCURTRACK):\n",
    "                    # since nan does not work, use cur-val instead\n",
    "                    track_rec[-prediction_length:] = track_rec[-prediction_length - 1]\n",
    "                    #track_rec[-prediction_length:] = random.randint(0,1)\n",
    "                    #lap_rec[-prediction_length:] = lap_rec[-prediction_length - 1]\n",
    "                    lap_rec[-prediction_length:] = 0\n",
    "                elif test_flag(oracle_mode, MODE_TESTZERO):\n",
    "                    #set prediction part as nan\n",
    "                    #track_rec[-prediction_length:] = np.nan\n",
    "                    #lap_rec[-prediction_length:] = np.nan\n",
    "                    track_rec[-prediction_length:] = 0\n",
    "                    lap_rec[-prediction_length:] = 0                    \n",
    "                \n",
    "                _test.append({'target': rec[run_ts,:endpos].astype(np.float32), \n",
    "                            'start': start, \n",
    "                            'feat_static_cat': static_cat,\n",
    "                            'feat_dynamic_real': [track_rec,lap_rec]\n",
    "                            #'feat_dynamic_real': [rec[COL_TRACKSTATUS,:endpos],\n",
    "                            #       rec[COL_LAPSTATUS,:endpos]] \n",
    "                             }\n",
    "                          )   \n",
    "                test_rec_cnt += 1\n",
    "            \n",
    "            #add one ts\n",
    "            print(f'carno:{carno}, totallen:{totallen}, nancount:{nan_count}, test_reccnt:{test_rec_cnt}')\n",
    "\n",
    "        train_set.extend(_train)\n",
    "        test_set.extend(_test)\n",
    "\n",
    "    print(f'prediction_length:{prediction_length},train len:{len(train_set)}, test len:{len(test_set)}')\n",
    "    \n",
    "    train_ds = ListDataset(train_set, freq=freq)\n",
    "    test_ds = ListDataset(test_set, freq=freq)    \n",
    "    \n",
    "    return train_ds, test_ds, train_set, test_set\n",
    "\n",
    "\n",
    "\n",
    "# endpos -> vector of prediction_length\n",
    "_track_pred  = {}\n",
    "_track_true  = {}\n",
    "def init_track_model():\n",
    "    global _track_pred,_track_true\n",
    "    _track_pred = {}\n",
    "    _track_true  = {}\n",
    "    \n",
    "def get_track_model(track_rec, endpos, prediction_length, context_len=10):\n",
    "    \"\"\"\n",
    "    return the predicted track status\n",
    "    \"\"\"\n",
    "    global _track_pred,_track_true\n",
    "    # this is the perfect track model for Indy500 2018\n",
    "    track_model = [6,4,4,5,6,6,4]\n",
    "    if endpos in _track_pred:\n",
    "        return _track_pred[endpos]\n",
    "    else:\n",
    "        #get yflag lap count from the start pred point\n",
    "        yflaplen = 0\n",
    "        for i in range(1, context_len):\n",
    "            if track_rec[- prediction_length - i] == 1:\n",
    "                yflaplen += 1\n",
    "            else:\n",
    "                break\n",
    "                \n",
    "        #laps remain, fill into the future\n",
    "        trackpred = np.array([0 for x in range(prediction_length)])\n",
    "        \n",
    "        yflap_pred = random.choice(track_model)\n",
    "        if yflaplen > 0 and yflap_pred > yflaplen:\n",
    "            trackpred[:(yflap_pred - yflaplen)] = 1\n",
    "        _track_pred[endpos] = trackpred\n",
    "        \n",
    "        _track_true[endpos]  = track_rec[- prediction_length:].copy()\n",
    "        \n",
    "        return trackpred\n",
    "\n",
    "# pit model is separate for each car\n",
    "def get_pit_model(cuation_laps_instint, laps_instint, prediction_length):\n",
    "    \"\"\"\n",
    "    return the predicted pit status\n",
    "    \"\"\"\n",
    "    # this is the perfect empirical pit model for Indy500 2018\n",
    "    pit_model_all = [[33, 32, 35, 32, 35, 34, 35, 34, 37, 32, 37, 30, 33, 36, 35, 33, 36, 30, 31, 33, 36, 37, 35, 34, 34, 33, 37, 35, 39, 32, 36, 35, 34, 32, 36, 32, 31, 36, 33, 33, 35, 37, 40, 32, 32, 34, 35, 36, 33, 37, 35, 37, 34, 35, 39, 32, 31, 37, 32, 35, 36, 39, 35, 36, 34, 35, 33, 33, 34, 32, 33, 34],\n",
    "                [45, 44, 46, 44, 43, 46, 45, 43, 41, 48, 46, 43, 47, 45, 49, 44, 48, 42, 44, 46, 45, 45, 43, 44, 44, 43, 46]]\n",
    "    pit_model_top8 = [[33, 32, 35, 33, 36, 33, 36, 33, 37, 35, 36, 33, 37, 34],\n",
    "                 [46, 45, 43, 48, 46, 45, 45, 43]]\n",
    "    \n",
    "    pit_model = pit_model_all\n",
    "    \n",
    "    if cuation_laps_instint>10:\n",
    "        #use low model\n",
    "        pred_pit_laps = random.choice(pit_model[0])\n",
    "    else:\n",
    "        pred_pit_laps = random.choice(pit_model[1])\n",
    "                \n",
    "    #laps remain, fill into the future\n",
    "    pitpred = np.array([0 for x in range(prediction_length)])\n",
    "    \n",
    "    if (pred_pit_laps > laps_instint) and (pred_pit_laps <= laps_instint + prediction_length):\n",
    "        pitpred[pred_pit_laps - laps_instint - 1] = 1\n",
    "         \n",
    "    return pitpred    \n",
    "    \n",
    "def make_dataset_byevent(runs, prediction_length, freq, \n",
    "                       useeid = False,\n",
    "                       run_ts=COL_LAPTIME, \n",
    "                       test_event = 'Indy500',\n",
    "                       test_cars = [],  \n",
    "                       use_global_dict = True,\n",
    "                       oracle_mode = MODE_ORACLE,\n",
    "                       half_moving_win = True,\n",
    "                       train_ratio=0.8\n",
    "                ):\n",
    "    \"\"\"\n",
    "    split the ts to train and test part by the ratio\n",
    "    \n",
    "    oracle_mode: false to simulate prediction in real by \n",
    "        set the covariates of track and lap status as nan in the testset\n",
    "            \n",
    "    \n",
    "    \"\"\"    \n",
    "    init_track_model()\n",
    "    \n",
    "    start = pd.Timestamp(\"01-01-2019\", freq=freq)  # can be different for each time series\n",
    "\n",
    "    train_set = []\n",
    "    test_set = []\n",
    "    \n",
    "    #select run\n",
    "    if runs>=0:\n",
    "        _laptime_data = [laptime_data[runs].copy()]\n",
    "    else:\n",
    "        _laptime_data = laptime_data.copy()\n",
    "    \n",
    "   \n",
    "    #_data: eventid, carids, datalist[carnumbers, features, lapnumber]->[laptime, rank, track, lap]]\n",
    "    for _data in _laptime_data:\n",
    "        _train = []\n",
    "        _test = []\n",
    "        \n",
    "        if events[_data[0]] == test_event:\n",
    "            test_mode = True\n",
    "        \n",
    "        else:\n",
    "            test_mode = False\n",
    "            \n",
    "            \n",
    "        #statistics on the ts length\n",
    "        ts_len = [ _entry.shape[1] for _entry in _data[2]]\n",
    "        max_len = int(np.max(ts_len))\n",
    "        train_len = int(np.max(ts_len) * train_ratio)\n",
    "        \n",
    "        \n",
    "        print(f'====event:{events[_data[0]]}, train_len={train_len}, max_len={np.max(ts_len)}, min_len={np.min(ts_len)}')\n",
    "                \n",
    "        # process for each ts\n",
    "        for rowid in range(_data[2].shape[0]):\n",
    "            # rec[features, lapnumber] -> [laptime, rank, track_status, lap_status,timediff]]\n",
    "            rec = _data[2][rowid].copy()\n",
    "            \n",
    "            #remove nan(only tails)\n",
    "            nans, x= nan_helper(rec[run_ts,:])\n",
    "            nan_count = np.sum(nans)             \n",
    "            rec = rec[:, ~np.isnan(rec[run_ts,:])]\n",
    "            \n",
    "            # remove short ts\n",
    "            totallen = rec.shape[1]\n",
    "            if ( totallen < train_len + prediction_length):\n",
    "                print(f'a short ts: carid={_data[1][rowid]}，len={totallen}')\n",
    "                continue                \n",
    "            \n",
    "            if use_global_dict:\n",
    "                carno = _data[1][rowid]\n",
    "                carid = global_carids[_data[1][rowid]]\n",
    "            else:\n",
    "                #simulation dataset, todo, fix the carids as decoder\n",
    "                carno = rowid\n",
    "                carid = rowid\n",
    "                \n",
    "            \n",
    "            if useeid:\n",
    "                static_cat = [carid, _data[0]]    \n",
    "            else:\n",
    "                static_cat = [carid]    \n",
    "                \n",
    "            # selection of features\n",
    "            if test_flag(oracle_mode, MODE_NOTRACK):                \n",
    "                rec[COL_TRACKSTATUS, :] = 0\n",
    "            if test_flag(oracle_mode, MODE_NOLAP):                \n",
    "                rec[COL_LAPSTATUS, :] = 0\n",
    "\n",
    "            test_rec_cnt = 0\n",
    "            if not test_mode:\n",
    "                \n",
    "                # all go to train set\n",
    "                _train.append({'target': rec[run_ts,:].astype(np.float32), \n",
    "                                'start': start, \n",
    "                                'feat_static_cat': static_cat,\n",
    "                                'feat_dynamic_real': [rec[COL_TRACKSTATUS,:],\n",
    "                                       rec[COL_LAPSTATUS,:]]\n",
    "                              }\n",
    "                              )\n",
    "            else:\n",
    "                # reset train_len\n",
    "                #context_len = prediction_length*2\n",
    "                #if context_len < 10:\n",
    "                #    context_len = 10\n",
    "                \n",
    "                context_len = train_len\n",
    "                \n",
    "                # multiple test ts(rolling window as half of the prediction_length)\n",
    "\n",
    "                step = -int(prediction_length/2) if half_moving_win else -prediction_length\n",
    "                \n",
    "                #bug fix, fixed the split point for all cars/ts\n",
    "                for endpos in range(max_len, context_len+prediction_length, \n",
    "                                    step):\n",
    "\n",
    "                    #check if enough for this ts\n",
    "                    if endpos > totallen:\n",
    "                        continue\n",
    "                    \n",
    "                    track_rec = rec[COL_TRACKSTATUS, :endpos].copy()\n",
    "                    lap_rec = rec[COL_LAPSTATUS, :endpos].copy()\n",
    "                    \n",
    "                    caution_laps_instint = int(rec[COL_CAUTION_LAPS_INSTINT, endpos -prediction_length - 1])\n",
    "                    laps_instint = int(rec[COL_LAPS_INSTINT, endpos -prediction_length - 1])\n",
    "                    \n",
    "\n",
    "                    # test mode\n",
    "                    if test_flag(oracle_mode, MODE_TESTCURTRACK):\n",
    "                        # since nan does not work, use cur-val instead\n",
    "                        track_rec[-prediction_length:] = track_rec[-prediction_length - 1]\n",
    "                        #track_rec[-prediction_length:] = random.randint(0,1)\n",
    "                        #lap_rec[-prediction_length:] = lap_rec[-prediction_length - 1]\n",
    "                        lap_rec[-prediction_length:] = 0\n",
    "                    elif test_flag(oracle_mode, MODE_PREDTRACK):\n",
    "                        predrec = get_track_model(track_rec, endpos, prediction_length)\n",
    "                        track_rec[-prediction_length:] = predrec\n",
    "                        lap_rec[-prediction_length:] = 0\n",
    "                    elif test_flag(oracle_mode, MODE_PREDPIT):\n",
    "                        predrec = get_track_model(track_rec, endpos, prediction_length)\n",
    "                        track_rec[-prediction_length:] = predrec\n",
    "                        lap_rec[-prediction_length:] = get_pit_model(caution_laps_instint,\n",
    "                                                                    laps_instint,prediction_length)\n",
    "                    elif test_flag(oracle_mode, MODE_TESTZERO):\n",
    "                        #set prediction part as nan\n",
    "                        #track_rec[-prediction_length:] = np.nan\n",
    "                        #lap_rec[-prediction_length:] = np.nan\n",
    "                        track_rec[-prediction_length:] = 0\n",
    "                        lap_rec[-prediction_length:] = 0                    \n",
    "\n",
    "                    _test.append({'target': rec[run_ts,:endpos].astype(np.float32), \n",
    "                                'start': start, \n",
    "                                'feat_static_cat': static_cat,\n",
    "                                'feat_dynamic_real': [track_rec,lap_rec]\n",
    "                                #'feat_dynamic_real': [rec[COL_TRACKSTATUS,:endpos],\n",
    "                                #       rec[COL_LAPSTATUS,:endpos]] \n",
    "                                 }\n",
    "                              )   \n",
    "                    test_rec_cnt += 1\n",
    "            \n",
    "            #add one ts\n",
    "            print(f'carno:{carno}, totallen:{totallen}, nancount:{nan_count}, test_reccnt:{test_rec_cnt}')\n",
    "\n",
    "        train_set.extend(_train)\n",
    "        test_set.extend(_test)\n",
    "\n",
    "    print(f'train len:{len(train_set)}, test len:{len(test_set)}')\n",
    "    \n",
    "    train_ds = ListDataset(train_set, freq=freq)\n",
    "    test_ds = ListDataset(test_set, freq=freq)    \n",
    "    \n",
    "    return train_ds, test_ds, train_set, test_set\n",
    "\n",
    "def save_dataset(datafile,freq, prediction_length, cardinality, train_ds, test_ds):\n",
    "    with open(datafile, 'wb') as f:\n",
    "        #pack [global_carids, laptime_data]\n",
    "        savedata = [freq, prediction_length, cardinality, train_ds, test_ds]\n",
    "        #savedata = [freq, train_set, test_set]\n",
    "        # Pickle the 'data' dictionary using the highest protocol available.\n",
    "        pickle.dump(savedata, f, pickle.HIGHEST_PROTOCOL)        "
   ]
  },
  {
   "cell_type": "markdown",
   "metadata": {},
   "source": [
    "### test for Indy500"
   ]
  },
  {
   "cell_type": "code",
   "execution_count": 5,
   "metadata": {},
   "outputs": [],
   "source": [
    "def predict(test_ds,predictor):\n",
    "    forecast_it, ts_it = make_evaluation_predictions(\n",
    "        dataset=test_ds,  # test dataset\n",
    "        predictor=predictor,  # predictor\n",
    "        num_samples=100,  # number of sample paths we want for evaluation\n",
    "    )\n",
    "\n",
    "    forecasts = list(forecast_it)\n",
    "    tss = list(ts_it)\n",
    "    print(f'tss len={len(tss)}, forecasts len={len(forecasts)}')\n",
    "    \n",
    "    return tss, forecasts\n",
    "\n",
    "   \n",
    "def run_prediction(test_ds, prediction_length, trainid):\n",
    "    with mx.Context(mx.gpu(7)):    \n",
    "        pred_ret = {}\n",
    "\n",
    "        rootdir = f'../models/remote/laptime-{trainid}/'\n",
    "        # deepAR-Oracle\n",
    "        model_name = 'deepAR-Oracle-curtrack'\n",
    "        model=f'deepAR-Oracle-laptime-curtrack-indy-f1min-t{prediction_length}-e1000-r1_curtrack_t{prediction_length}'\n",
    "        modeldir = rootdir + model\n",
    "        print(f'predicting model={model_name}, plen={prediction_length}')\n",
    "        predictor =  Predictor.deserialize(Path(modeldir))\n",
    "        print(f'loading model...done!, ctx:{predictor.ctx}')\n",
    "        tss, forecasts = predict(test_ds,predictor)\n",
    "        pred_ret[model_name] = [tss, forecasts]\n",
    "\n",
    "        # deepAR-Oracle\n",
    "        model_name = 'deepAR-Oracle'\n",
    "        model=f'deepAR-Oracle-laptime-all-indy-f1min-t{prediction_length}-e1000-r1_oracle_t{prediction_length}'\n",
    "        modeldir = rootdir + model\n",
    "        print(f'predicting model={model_name}, plen={prediction_length}')\n",
    "        predictor =  Predictor.deserialize(Path(modeldir))\n",
    "        print(f'loading model...done!, ctx:{predictor.ctx}')\n",
    "        tss, forecasts = predict(test_ds,predictor)\n",
    "        pred_ret[model_name] = [tss, forecasts]\n",
    "\n",
    "        # deepAR\n",
    "        model_name = 'deepAR'\n",
    "        model=f'deepAR-laptime-all-indy-f1min-t{prediction_length}-e1000-r1_deepar_t{prediction_length}'\n",
    "        modeldir = rootdir + model\n",
    "        print(f'predicting model={model_name}, plen={prediction_length}')\n",
    "        predictor =  Predictor.deserialize(Path(modeldir))\n",
    "        print(f'loading model...done!, ctx:{predictor.ctx}')\n",
    "        tss, forecasts = predict(test_ds,predictor)\n",
    "        pred_ret[model_name] = [tss, forecasts]\n",
    "\n",
    "        # naive\n",
    "        model_name = 'naive'\n",
    "        print(f'predicting model={model_name}, plen={prediction_length}')\n",
    "        predictor =  NaivePredictor(freq= freq, prediction_length = prediction_length)\n",
    "        tss, forecasts = predict(test_ds,predictor)\n",
    "        pred_ret[model_name] = [tss, forecasts]\n",
    "\n",
    "        # arima\n",
    "        model_name = 'arima'\n",
    "        print(f'predicting model={model_name}, plen={prediction_length}')\n",
    "        predictor =  RForecastPredictor(method_name='arima',freq= freq, \n",
    "                                        prediction_length = prediction_length,trunc_length=60)\n",
    "        #tss, forecasts = predict(test_ds,predictor)\n",
    "        pred_ret[model_name] = [tss, forecasts]\n",
    "\n",
    "        return pred_ret    \n",
    "    \n",
    "def run_prediction_ex(test_ds, prediction_length, model_name,trainid):\n",
    "    with mx.Context(mx.gpu(7)):    \n",
    "        pred_ret = []\n",
    "\n",
    "        rootdir = f'../models/remote/laptime-{trainid}/'\n",
    "        # deepAR-Oracle\n",
    "        if model_name == 'curtrack':\n",
    "            model=f'deepAR-Oracle-laptime-curtrack-indy-f1min-t{prediction_length}-e1000-r1_curtrack_t{prediction_length}'\n",
    "            modeldir = rootdir + model\n",
    "            print(f'predicting model={model_name}, plen={prediction_length}')\n",
    "            predictor =  Predictor.deserialize(Path(modeldir))\n",
    "            print(f'loading model...done!, ctx:{predictor.ctx}')\n",
    "            tss, forecasts = predict(test_ds,predictor)\n",
    "            pred_ret = [tss, forecasts]\n",
    "\n",
    "        elif model_name == 'zerotrack':\n",
    "            model=f'deepAR-Oracle-laptime-nolap-zerotrack-indy-f1min-t{prediction_length}-e1000-r1_zerotrack_t{prediction_length}'\n",
    "            modeldir = rootdir + model\n",
    "            print(f'predicting model={model_name}, plen={prediction_length}')\n",
    "            predictor =  Predictor.deserialize(Path(modeldir))\n",
    "            print(f'loading model...done!, ctx:{predictor.ctx}')\n",
    "            tss, forecasts = predict(test_ds,predictor)\n",
    "            pred_ret = [tss, forecasts]\n",
    "            \n",
    "        # deepAR-Oracle\n",
    "        elif model_name == 'oracle':\n",
    "            model=f'deepAR-Oracle-laptime-all-indy-f1min-t{prediction_length}-e1000-r1_oracle_t{prediction_length}'\n",
    "            modeldir = rootdir + model\n",
    "            print(f'predicting model={model_name}, plen={prediction_length}')\n",
    "            predictor =  Predictor.deserialize(Path(modeldir))\n",
    "            print(f'loading model...done!, ctx:{predictor.ctx}')\n",
    "            tss, forecasts = predict(test_ds,predictor)\n",
    "            pred_ret = [tss, forecasts]\n",
    "\n",
    "        # deepAR\n",
    "        elif model_name == 'deepAR':\n",
    "            model=f'deepAR-laptime-all-indy-f1min-t{prediction_length}-e1000-r1_deepar_t{prediction_length}'\n",
    "            modeldir = rootdir + model\n",
    "            print(f'predicting model={model_name}, plen={prediction_length}')\n",
    "            predictor =  Predictor.deserialize(Path(modeldir))\n",
    "            print(f'loading model...done!, ctx:{predictor.ctx}')\n",
    "            tss, forecasts = predict(test_ds,predictor)\n",
    "            pred_ret = [tss, forecasts]\n",
    "\n",
    "        # naive\n",
    "        elif model_name == 'naive':\n",
    "            print(f'predicting model={model_name}, plen={prediction_length}')\n",
    "            predictor =  NaivePredictor(freq= freq, prediction_length = prediction_length)\n",
    "            tss, forecasts = predict(test_ds,predictor)\n",
    "            pred_ret = [tss, forecasts]\n",
    "\n",
    "        # arima\n",
    "        elif model_name == 'arima':\n",
    "            print(f'predicting model={model_name}, plen={prediction_length}')\n",
    "            predictor =  RForecastPredictor(method_name='arima',freq= freq, \n",
    "                                            prediction_length = prediction_length,trunc_length=60)\n",
    "            tss, forecasts = predict(test_ds,predictor)\n",
    "            pred_ret = [tss, forecasts]\n",
    "        else:\n",
    "            print(f'error: model {model_name} not support yet!')\n",
    "\n",
    "        return pred_ret     "
   ]
  },
  {
   "cell_type": "code",
   "execution_count": 6,
   "metadata": {},
   "outputs": [],
   "source": [
    "#calc rank\n",
    "def eval_rank_bytimediff(test_ds,tss,forecasts,prediction_length):\n",
    "    \"\"\"\n",
    "    timediff models\n",
    "    \n",
    "    works for one event only\n",
    "    \n",
    "    \"\"\"\n",
    "\n",
    "    carlist = []\n",
    "\n",
    "    # carno-lap# -> elapsed_time[] array\n",
    "    forecasts_et = dict()\n",
    "\n",
    "    ds_iter =  iter(test_ds)\n",
    "    for idx in range(len(test_ds)):\n",
    "        test_rec = next(ds_iter)\n",
    "        #global carid\n",
    "        carno = decode_carids[test_rec['feat_static_cat'][0]]\n",
    "        #print('car no:', carno)\n",
    "\n",
    "        if carno not in carlist:\n",
    "            carlist.append(carno)\n",
    "\n",
    "        # calc elapsed time\n",
    "        prediction_len = forecasts[idx].samples.shape[1]\n",
    "        if prediction_length != prediction_len:\n",
    "            print('error: prediction_len does not match, {prediction_length}:{prediction_len}')\n",
    "            return []\n",
    "        \n",
    "        #forecast_laptime_mean = np.mean(forecasts[idx].samples, axis=0).reshape((prediction_len,1))\n",
    "        forecast_laptime_mean = np.median(forecasts[idx].samples, axis=0).reshape((prediction_len,1))\n",
    "        \n",
    "        timediff_array = tss[idx].values.copy()\n",
    "\n",
    "        #save the prediction\n",
    "        completed_laps = len(tss[idx]) - prediction_len + 1\n",
    "        #print('car no:', carno, 'completed_laps:', completed_laps)\n",
    "        #key = '%s-%s'%(carno, completed_laps)\n",
    "        #forecasts_et[key] = elapsed_time[-prediction_len:].copy()\n",
    "        if completed_laps not in forecasts_et:\n",
    "            forecasts_et[completed_laps] = {}\n",
    "        forecasts_et[completed_laps][carno] = [timediff_array[-prediction_len:].copy(),\n",
    "                                                   forecast_laptime_mean.copy()]\n",
    "\n",
    "\n",
    "    # calc rank\n",
    "    rank_ret = []\n",
    "    for lap in forecasts_et.keys():\n",
    "        #get car list for this lap\n",
    "        carlist = list(forecasts_et[lap].keys())\n",
    "        #print('carlist:', carlist)\n",
    "\n",
    "        caridmap={key:idx for idx, key in enumerate(carlist)}\n",
    "\n",
    "        #fill in data\n",
    "        time_diff = np.zeros((2, len(carlist), prediction_len))\n",
    "        for carno in carlist:\n",
    "            carid = caridmap[carno]\n",
    "            time_diff[0, carid, :] = forecasts_et[lap][carno][0].reshape((prediction_len))\n",
    "            time_diff[1, carid, :] = forecasts_et[lap][carno][1].reshape((prediction_len))\n",
    "\n",
    "        #calculate rank    \n",
    "        idx = np.argsort(time_diff[0], axis=0)\n",
    "        true_rank = np.argsort(idx, axis=0)\n",
    "\n",
    "        idx = np.argsort(time_diff[1], axis=0)\n",
    "        pred_rank = np.argsort(idx, axis=0)\n",
    "\n",
    "        rank_ret.append([lap, time_diff, true_rank, pred_rank])\n",
    "        \n",
    "    return rank_ret,forecasts_et\n",
    "    \n",
    "#calc rank\n",
    "def eval_rank(test_ds,tss,forecasts,prediction_length):\n",
    "    \"\"\"\n",
    "    dependency:\n",
    "        start_offset[]; for one specific event\n",
    "    \"\"\"\n",
    "\n",
    "    carlist = []\n",
    "\n",
    "    # carno-lap# -> elapsed_time[] array\n",
    "    forecasts_et = dict()\n",
    "\n",
    "    ds_iter =  iter(test_ds)\n",
    "    for idx in range(len(test_ds)):\n",
    "        test_rec = next(ds_iter)\n",
    "        #global carid\n",
    "        carno = decode_carids[test_rec['feat_static_cat'][0]]\n",
    "        #print('car no:', carno)\n",
    "\n",
    "        if carno not in carlist:\n",
    "            carlist.append(carno)\n",
    "\n",
    "        #start_offset is global var\n",
    "        offset = start_offset[(start_offset['car_number']==carno)].elapsed_time.values[0] \n",
    "        #print('start_offset:', offset)\n",
    "\n",
    "        # calc elapsed time\n",
    "        prediction_len = forecasts[idx].samples.shape[1]\n",
    "        if prediction_length != prediction_len:\n",
    "            print('error: prediction_len does not match, {prediction_length}:{prediction_len}')\n",
    "            return []\n",
    "        \n",
    "        forecast_laptime_mean = np.mean(forecasts[idx].samples, axis=0).reshape((prediction_len,1))\n",
    "        #forecast_laptime_mean = np.median(forecasts[idx].samples, axis=0).reshape((prediction_len,1))\n",
    "\n",
    "        laptime_array = tss[idx].values.copy()\n",
    "        elapsed_time = np.cumsum(laptime_array) + offset\n",
    "\n",
    "        laptime_array = tss[idx].values.copy()\n",
    "        laptime_array[-prediction_len:] = forecast_laptime_mean \n",
    "        elapsed_time_hat = np.cumsum(laptime_array) + offset\n",
    "\n",
    "        #save the prediction\n",
    "        completed_laps = len(tss[idx]) - prediction_len + 1\n",
    "        #print('car no:', carno, 'completed_laps:', completed_laps)\n",
    "        #key = '%s-%s'%(carno, completed_laps)\n",
    "        #forecasts_et[key] = elapsed_time[-prediction_len:].copy()\n",
    "        if completed_laps not in forecasts_et:\n",
    "            forecasts_et[completed_laps] = {}\n",
    "        #forecasts_et[completed_laps][carno] = [elapsed_time[-prediction_len-1:].copy(),\n",
    "        #                                           elapsed_time_hat[-prediction_len-1:].copy()]\n",
    "        forecasts_et[completed_laps][carno] = [elapsed_time[-prediction_len:].copy(),\n",
    "                                                   elapsed_time_hat[-prediction_len:].copy()]\n",
    "\n",
    "\n",
    "    # calc rank\n",
    "    rank_ret = []\n",
    "    for lap in forecasts_et.keys():\n",
    "        #get car list for this lap\n",
    "        carlist = list(forecasts_et[lap].keys())\n",
    "        #print('carlist:', carlist)\n",
    "\n",
    "        caridmap={key:idx for idx, key in enumerate(carlist)}\n",
    "\n",
    "        #fill in data\n",
    "        #elapsed_time = np.zeros((2, len(carlist), prediction_len+1))\n",
    "        elapsed_time = np.zeros((2, len(carlist), prediction_len))\n",
    "        for carno in carlist:\n",
    "            carid = caridmap[carno]\n",
    "            elapsed_time[0, carid, :] = forecasts_et[lap][carno][0]\n",
    "            elapsed_time[1, carid, :] = forecasts_et[lap][carno][1]\n",
    "\n",
    "        #calculate rank    \n",
    "        idx = np.argsort(elapsed_time[0], axis=0)\n",
    "        true_rank = np.argsort(idx, axis=0)\n",
    "\n",
    "        idx = np.argsort(elapsed_time[1], axis=0)\n",
    "        pred_rank = np.argsort(idx, axis=0)\n",
    "\n",
    "        rank_ret.append([lap, elapsed_time, true_rank, pred_rank])\n",
    "        \n",
    "    return rank_ret,forecasts_et\n",
    "   \n",
    "def get_acc(rank_ret,prediction_length):    \n",
    "    # evaluate\n",
    "    #top1 accuracy\n",
    "    top1acc = 0\n",
    "    top1acc_farmost = 0\n",
    "    top5acc = 0\n",
    "    top5acc_farmost = 0\n",
    "    tau = 0\n",
    "    rmse = 0.\n",
    "    \n",
    "    for rec in rank_ret:\n",
    "        trueRank = rec[2]\n",
    "        predRank = rec[3]\n",
    "\n",
    "        #top1 , rank = 0, first col is not prediction\n",
    "        top1acc += np.sum((trueRank==0) & (predRank==0)) \n",
    "        \n",
    "        top1acc_farmost += np.sum((trueRank[:,-1]==0) & (predRank[:,-1]==0))\n",
    "        \n",
    "        #top5\n",
    "        top5acc += np.sum((trueRank<5) & (predRank<5)) \n",
    "        \n",
    "        top5acc_farmost += np.sum((trueRank[:,-1]<5) & (predRank[:,-1]<5))\n",
    "        \n",
    "        # tau\n",
    "        tao, _ = stats.kendalltau(trueRank, predRank)\n",
    "        tau += tao\n",
    "        \n",
    "        #rmse\n",
    "        rmse += mean_squared_error(predRank,trueRank)\n",
    "        \n",
    "\n",
    "    top1acc = top1acc *1.0/ (len(rank_ret)*prediction_length)\n",
    "    top1acc_farmost = top1acc_farmost *1.0/ (len(rank_ret))\n",
    "    top5acc = top5acc *1.0/ (5*len(rank_ret)*prediction_length)\n",
    "    top5acc_farmost = top5acc_farmost *1.0/ (5*len(rank_ret))\n",
    "    tau = tau/len(rank_ret)\n",
    "    rmse = rmse/len(rank_ret)\n",
    "    \n",
    "        \n",
    "    print(f'total:{len(rank_ret)}, prediction_length:{prediction_length}') \n",
    "    print('top1acc=', top1acc,\n",
    "          'top1acc_farmost=', top1acc_farmost,\n",
    "          'top5acc=', top5acc,\n",
    "          'top5acc_farmost=', top5acc_farmost,\n",
    "         )\n",
    "    print('tau = ', tau,\n",
    "         'rmse = ', rmse)\n",
    "    \n",
    "    return (top1acc,top1acc_farmost,top5acc,top5acc_farmost,tau,rmse)\n",
    "    \n",
    "def get_top1acc_farmost(rank_ret,prediction_len):    \n",
    "    # evaluate\n",
    "    #top1 accuracy\n",
    "    hitcnt = 0\n",
    "    for rec in rank_ret:\n",
    "        trueRank = rec[2]\n",
    "        predRank = rec[3]\n",
    "\n",
    "        #top1 , rank = 0, first col is not prediction\n",
    "        hitcnt += np.sum((trueRank[:,-1]==0) & (predRank[:,-1]==0)) \n",
    "\n",
    "    print('total:', hitcnt, 'top1acc_farmost=', hitcnt *1.0/ (len(rank_ret)*prediction_length))    \n",
    "\n"
   ]
  },
  {
   "cell_type": "code",
   "execution_count": 7,
   "metadata": {},
   "outputs": [],
   "source": [
    "def run_exp_old(prediction_length, half_moving_win, train_ratio=0.8):\n",
    "    ### create test dataset\n",
    "    test_cars = []\n",
    "    train_ds, test_ds,_,_ = make_dataset_byevent(events_id[test_event], prediction_length,freq, \n",
    "                                         oracle_mode=MODE_TESTCURTRACK,\n",
    "                                         run_ts = COL_LAPTIME,\n",
    "                                         test_cars=test_cars,\n",
    "                                         half_moving_win= half_moving_win,\n",
    "                                         train_ratio=train_ratio)\n",
    "    pred_ret = run_prediction(test_ds, prediction_length)\n",
    "\n",
    "    models = ['deepAR-Oracle','deepAR-Oracle-curtrack','deepAR','naive','arima']\n",
    "    retdf = []\n",
    "    for model in models:\n",
    "        print('model:', model)\n",
    "        tss, forecasts = pred_ret[model]\n",
    "\n",
    "        rank_ret,_ = eval_rank(test_ds,tss,forecasts,prediction_length)\n",
    "        metrics = get_acc(rank_ret,prediction_length)\n",
    "        ret = [model, prediction_length, half_moving_win]\n",
    "        ret.extend(metrics)\n",
    "        retdf.append(ret)\n",
    "        \n",
    "    return pred_ret, test_ds, retdf\n",
    "\n",
    "def run_exp(prediction_length, half_moving_win, train_ratio=0.8, trainid=\"r0.8\"):\n",
    "    \"\"\"\n",
    "    dependency: test_event, test on one event only\n",
    "    \n",
    "    \"\"\"\n",
    "    \n",
    "    test_cars = []\n",
    "    models = ['oracle','deepAR','naive']\n",
    "    #,'arima']\n",
    "    retdf = []\n",
    "    pred_ret = {}\n",
    "    ds_ret = {}\n",
    "    \n",
    "    ### create test dataset\n",
    "    train_ds, test_ds,_,_ = make_dataset_byevent(events_id[test_event], prediction_length,freq, \n",
    "                                         oracle_mode=MODE_ORACLE,\n",
    "                                         run_ts = COL_LAPTIME,\n",
    "                                         test_cars=test_cars,\n",
    "                                         half_moving_win= half_moving_win,\n",
    "                                         train_ratio=train_ratio)\n",
    "    \n",
    "    for model in models:\n",
    "        print('model:', model)\n",
    "        tss, forecasts = run_prediction_ex(test_ds, prediction_length, model,trainid=trainid)\n",
    "        pred_ret[model] = [tss, forecasts]\n",
    "        ds_ret[model] = test_ds\n",
    "\n",
    "        rank_ret,_ = eval_rank(test_ds,tss,forecasts,prediction_length)\n",
    "        metrics = get_acc(rank_ret,prediction_length)\n",
    "        ret = [model, prediction_length, half_moving_win,trainid]\n",
    "        ret.extend(metrics)\n",
    "        retdf.append(ret)\n",
    "    \n",
    "    # special model with test_ds\n",
    "    models = ['curtrack']        \n",
    "    train_ds, test_ds,_,_ = make_dataset_byevent(events_id[test_event], prediction_length,freq, \n",
    "                                         oracle_mode=MODE_TESTCURTRACK,\n",
    "                                         run_ts = COL_LAPTIME,\n",
    "                                         test_cars=test_cars,\n",
    "                                         half_moving_win= half_moving_win,\n",
    "                                         train_ratio=train_ratio)\n",
    "    \n",
    "    for model in models:\n",
    "        print('model:', model)\n",
    "        tss, forecasts = run_prediction_ex(test_ds, prediction_length, model,trainid=trainid)\n",
    "        pred_ret[model] = [tss, forecasts]\n",
    "        ds_ret[model] = test_ds\n",
    "        \n",
    "        rank_ret,_ = eval_rank(test_ds,tss,forecasts,prediction_length)\n",
    "        metrics = get_acc(rank_ret,prediction_length)\n",
    "        ret = [model, prediction_length, half_moving_win,trainid]\n",
    "        ret.extend(metrics)\n",
    "        retdf.append(ret)\n",
    "\n",
    "    # zerotrack\n",
    "    models = ['zerotrack']        \n",
    "    train_ds, test_ds,_,_ = make_dataset_byevent(events_id[test_event], prediction_length,freq, \n",
    "                                         oracle_mode=MODE_TESTZERO,\n",
    "                                         run_ts = COL_LAPTIME,\n",
    "                                         test_cars=test_cars,\n",
    "                                         half_moving_win= half_moving_win,\n",
    "                                         train_ratio=train_ratio)\n",
    "    \n",
    "    for model in models:\n",
    "        print('model:', model)\n",
    "        tss, forecasts = run_prediction_ex(test_ds, prediction_length, model,trainid=trainid)\n",
    "        pred_ret[model] = [tss, forecasts]\n",
    "        ds_ret[model] = test_ds\n",
    "        \n",
    "        rank_ret,_ = eval_rank(test_ds,tss,forecasts,prediction_length)\n",
    "        metrics = get_acc(rank_ret,prediction_length)\n",
    "        ret = [model, prediction_length, half_moving_win,trainid]\n",
    "        ret.extend(metrics)\n",
    "        retdf.append(ret)\n",
    "    \n",
    "        \n",
    "    return pred_ret, ds_ret, retdf\n",
    "\n",
    "\n",
    "\n",
    "def run_exp_predtrack(prediction_length, half_moving_win, train_ratio=0.8, trainid=\"r0.8\"):\n",
    "    \"\"\"\n",
    "    dependency: test_event, test on one event only\n",
    "    \n",
    "    \"\"\"\n",
    "    \n",
    "    test_cars = []\n",
    "    models = ['oracle','curtrack','zerotrack']\n",
    "    #,'arima']\n",
    "    retdf = []\n",
    "    pred_ret = {}\n",
    "    ds_ret = {}\n",
    "    \n",
    "    ### create test dataset\n",
    "    train_ds, test_ds,_,_ = make_dataset_byevent(events_id[test_event], prediction_length,freq, \n",
    "                                         oracle_mode=MODE_PREDTRACK,\n",
    "                                         run_ts = COL_LAPTIME,\n",
    "                                         test_cars=test_cars,\n",
    "                                         half_moving_win= half_moving_win,\n",
    "                                         train_ratio=train_ratio)\n",
    "    \n",
    "    for model in models:\n",
    "        print('model:', model)\n",
    "        tss, forecasts = run_prediction_ex(test_ds, prediction_length, model,trainid=trainid)\n",
    "        pred_ret[model] = [tss, forecasts]\n",
    "        ds_ret[model] = test_ds\n",
    "\n",
    "        rank_ret,_ = eval_rank(test_ds,tss,forecasts,prediction_length)\n",
    "        metrics = get_acc(rank_ret,prediction_length)\n",
    "        ret = [model, prediction_length, half_moving_win,trainid]\n",
    "        ret.extend(metrics)\n",
    "        retdf.append(ret)\n",
    "    \n",
    "    return pred_ret, ds_ret, retdf\n",
    "\n",
    "def run_exp_predpit(prediction_length, half_moving_win, train_ratio=0.8, trainid=\"r0.8\"):\n",
    "    \"\"\"\n",
    "    dependency: test_event, test on one event only\n",
    "    \n",
    "    \"\"\"\n",
    "    \n",
    "    test_cars = []\n",
    "    models = ['oracle','curtrack','zerotrack']\n",
    "    #,'arima']\n",
    "    retdf = []\n",
    "    pred_ret = {}\n",
    "    ds_ret = {}\n",
    "    \n",
    "    ### create test dataset\n",
    "    train_ds, test_ds,_,_ = make_dataset_byevent(events_id[test_event], prediction_length,freq, \n",
    "                                         oracle_mode=MODE_PREDPIT,\n",
    "                                         run_ts = COL_LAPTIME,\n",
    "                                         test_cars=test_cars,\n",
    "                                         half_moving_win= half_moving_win,\n",
    "                                         train_ratio=train_ratio)\n",
    "    \n",
    "    for model in models:\n",
    "        print('model:', model)\n",
    "        tss, forecasts = run_prediction_ex(test_ds, prediction_length, model,trainid=trainid)\n",
    "        pred_ret[model] = [tss, forecasts]\n",
    "        ds_ret[model] = test_ds\n",
    "\n",
    "        rank_ret,_ = eval_rank(test_ds,tss,forecasts,prediction_length)\n",
    "        metrics = get_acc(rank_ret,prediction_length)\n",
    "        ret = [model, prediction_length, half_moving_win,trainid]\n",
    "        ret.extend(metrics)\n",
    "        retdf.append(ret)\n",
    "    \n",
    "    return pred_ret, ds_ret, retdf"
   ]
  },
  {
   "cell_type": "markdown",
   "metadata": {},
   "source": [
    "### init"
   ]
  },
  {
   "cell_type": "code",
   "execution_count": 8,
   "metadata": {},
   "outputs": [],
   "source": [
    "#\n",
    "# parameters\n",
    "#\n",
    "#year = '2017'\n",
    "year = '2018'\n",
    "#event = 'Toronto'\n",
    "#https://www.racing-reference.info/season-stats/2018/O/#\n",
    "events_totalmiles=[256,500,372,268,500,310]\n",
    "events_laplen = [1.022,2.5,1.5,0.894,2.5,1.25]\n",
    "events = ['Phoenix','Indy500','Texas','Iowa','Pocono','Gateway']\n",
    "#events = ['Gateway']\n",
    "\n",
    "#events = ['Indy500']\n",
    "#events = ['Phoenix']\n",
    "events_id={key:idx for idx, key in enumerate(events)}\n",
    "#works for only one event\n"
   ]
  },
  {
   "cell_type": "code",
   "execution_count": 9,
   "metadata": {},
   "outputs": [
    {
     "name": "stdout",
     "output_type": "stream",
     "text": [
      "count of completed cars: 11\n",
      "completed cars: [ 1  6 27  9 28  5 20 14 15 22 30]\n",
      "cars: {1, 5, 6, 9, 14, 15, 20, 22, 27, 28, 30}\n",
      "#cars= 11\n",
      "cars: {1, 4, 5, 6, 9, 10, 12, 14, 15, 18, 19, 20, 21, 22, 23, 26, 27, 28, 30, 32, 59, 88, 98}\n",
      "#cars= 23\n",
      "Phoenix: carno=23, lapnum=251\n",
      "count of completed cars: 18\n",
      "completed cars: [12 20  9 27 28 22 29  1  6 15 66 98  4 88 25 60 64 23]\n",
      "cars: {64, 1, 66, 98, 4, 6, 9, 12, 60, 15, 20, 22, 23, 88, 25, 27, 28, 29}\n",
      "#cars= 18\n",
      "cars: {1, 3, 4, 6, 7, 9, 10, 12, 13, 14, 15, 17, 18, 19, 20, 21, 22, 23, 24, 25, 26, 27, 28, 29, 30, 32, 33, 59, 60, 64, 66, 88, 98}\n",
      "#cars= 33\n",
      "Indy500: carno=33, lapnum=201\n"
     ]
    },
    {
     "name": "stderr",
     "output_type": "stream",
     "text": [
      "/scratch/hpda/anaconda3/envs/gluonts/lib/python3.6/site-packages/ipykernel_launcher.py:53: SettingWithCopyWarning: \n",
      "A value is trying to be set on a copy of a slice from a DataFrame\n",
      "\n",
      "See the caveats in the documentation: http://pandas.pydata.org/pandas-docs/stable/user_guide/indexing.html#returning-a-view-versus-a-copy\n",
      "/scratch/hpda/anaconda3/envs/gluonts/lib/python3.6/site-packages/ipykernel_launcher.py:57: SettingWithCopyWarning: \n",
      "A value is trying to be set on a copy of a slice from a DataFrame\n",
      "\n",
      "See the caveats in the documentation: http://pandas.pydata.org/pandas-docs/stable/user_guide/indexing.html#returning-a-view-versus-a-copy\n"
     ]
    },
    {
     "name": "stdout",
     "output_type": "stream",
     "text": [
      "count of completed cars: 9\n",
      "completed cars: [ 9 22 27  5 28 15 30 18 10]\n",
      "cars: {5, 9, 10, 15, 18, 22, 27, 28, 30}\n",
      "#cars= 9\n",
      "cars: {1, 3, 4, 5, 6, 7, 9, 10, 12, 14, 15, 18, 19, 20, 21, 22, 23, 25, 26, 27, 28, 30, 47, 55, 57, 59, 60, 68, 73, 83, 88, 98}\n",
      "#cars= 32\n",
      "Texas: carno=32, lapnum=249\n",
      "count of completed cars: 5\n",
      "completed cars: [ 5 21 30  1  6]\n",
      "cars: {1, 5, 6, 21, 30}\n",
      "#cars= 5\n",
      "cars: {1, 4, 5, 6, 9, 10, 12, 14, 15, 18, 19, 20, 21, 22, 23, 26, 27, 28, 30, 59, 88, 98}\n",
      "#cars= 22\n",
      "Iowa: carno=22, lapnum=301\n",
      "count of completed cars: 4\n",
      "completed cars: [27 12  9 18]\n",
      "cars: {9, 18, 27, 12}\n",
      "#cars= 4\n",
      "cars: {1, 4, 5, 6, 9, 10, 12, 14, 15, 18, 19, 20, 21, 22, 23, 26, 27, 28, 30, 59, 88, 98}\n",
      "#cars= 22\n",
      "Pocono: carno=22, lapnum=201\n",
      "count of completed cars: 8\n",
      "completed cars: [12 27  9 22 26 21  1 10]\n",
      "cars: {1, 9, 10, 12, 21, 22, 26, 27}\n",
      "#cars= 8\n",
      "cars: {1, 4, 5, 9, 10, 12, 14, 15, 18, 19, 20, 21, 22, 23, 26, 27, 28, 30, 59, 88, 98}\n",
      "#cars= 21\n",
      "Gateway: carno=21, lapnum=249\n"
     ]
    }
   ],
   "source": [
    "stagedata = {}\n",
    "global_carids = {}\n",
    "traindata = None\n",
    "cur_carid = 0\n",
    "for event in events:\n",
    "    #alldata, rankdata, acldata, flagdata\n",
    "    stagedata[event] = load_data(event, year)\n",
    "    \n",
    "    alldata, rankdata, acldata = stagedata[event]\n",
    "    carlist = set(acldata['car_number'])\n",
    "    laplist = set(acldata['completed_laps'])\n",
    "    print('%s: carno=%d, lapnum=%d'%(event, len(carlist), len(laplist)))\n",
    "\n",
    "    #build the carid map\n",
    "    for car in carlist:\n",
    "        if car not in global_carids:\n",
    "            global_carids[car] = cur_carid\n",
    "            cur_carid += 1"
   ]
  },
  {
   "cell_type": "code",
   "execution_count": 10,
   "metadata": {},
   "outputs": [],
   "source": [
    "event='Indy500'\n",
    "test_event = event\n",
    "alldata, rankdata, acldata = stagedata[event]\n",
    "final_lap = max(rankdata.completed_laps)\n",
    "completed_car_numbers= rankdata[rankdata.completed_laps == final_lap].car_number.values\n",
    "\n",
    "start_offset = rankdata[rankdata['completed_laps']==0][['car_number','elapsed_time']]"
   ]
  },
  {
   "cell_type": "code",
   "execution_count": 11,
   "metadata": {},
   "outputs": [],
   "source": [
    "# start from here\n",
    "import pickle\n",
    "with open('laptime_rank_timediff_pit-oracle-%s.pickle'%year, 'rb') as f:\n",
    "    # The protocol version used is detected automatically, so we do not\n",
    "    # have to specify it.\n",
    "    global_carids, laptime_data = pickle.load(f, encoding='latin1')"
   ]
  },
  {
   "cell_type": "code",
   "execution_count": 12,
   "metadata": {},
   "outputs": [],
   "source": [
    "freq = \"1min\"\n",
    "#decode global_carids\n",
    "decode_carids={carid:carno for carno, carid in global_carids.items()}\n",
    "    \n",
    "#useeid = False\n",
    "#interpolate = False\n",
    "#ipstr = '-ip' if interpolate else '-noip'\n",
    "#ipstr = '%s-%s'%('ip' if interpolate else 'noip', 'eid' if useeid else 'noeid')\n",
    "#if useeid:\n",
    "#    cardinality = [len(global_carids), len(laptime_data)]\n",
    "#else:\n",
    "#    cardinality = [len(global_carids)]"
   ]
  },
  {
   "cell_type": "code",
   "execution_count": null,
   "metadata": {},
   "outputs": [],
   "source": [
    "def "
   ]
  },
  {
   "cell_type": "markdown",
   "metadata": {},
   "source": [
    "### loop test"
   ]
  },
  {
   "cell_type": "code",
   "execution_count": 23,
   "metadata": {},
   "outputs": [
    {
     "name": "stderr",
     "output_type": "stream",
     "text": [
      "INFO:root:Using GPU\n"
     ]
    },
    {
     "name": "stdout",
     "output_type": "stream",
     "text": [
      "==============================\n",
      "====event:Indy500, train_len=80, max_len=200, min_len=200\n",
      "carno:1, totallen:200, nancount:0, test_reccnt:59\n",
      "carno:3, totallen:146, nancount:54, test_reccnt:32\n",
      "carno:4, totallen:200, nancount:0, test_reccnt:59\n",
      "carno:6, totallen:200, nancount:0, test_reccnt:59\n",
      "carno:7, totallen:193, nancount:7, test_reccnt:55\n",
      "carno:9, totallen:200, nancount:0, test_reccnt:59\n",
      "a short ts: carid=10，len=57\n",
      "carno:12, totallen:200, nancount:0, test_reccnt:59\n",
      "a short ts: carid=13，len=67\n",
      "carno:14, totallen:187, nancount:13, test_reccnt:52\n",
      "carno:15, totallen:200, nancount:0, test_reccnt:59\n",
      "carno:17, totallen:199, nancount:1, test_reccnt:58\n",
      "carno:18, totallen:137, nancount:63, test_reccnt:27\n",
      "carno:19, totallen:199, nancount:1, test_reccnt:58\n",
      "carno:20, totallen:200, nancount:0, test_reccnt:59\n",
      "carno:21, totallen:199, nancount:1, test_reccnt:58\n",
      "carno:22, totallen:200, nancount:0, test_reccnt:59\n",
      "carno:23, totallen:200, nancount:0, test_reccnt:59\n",
      "carno:24, totallen:154, nancount:46, test_reccnt:36\n",
      "carno:25, totallen:200, nancount:0, test_reccnt:59\n",
      "carno:26, totallen:198, nancount:2, test_reccnt:58\n",
      "carno:27, totallen:200, nancount:0, test_reccnt:59\n",
      "carno:28, totallen:200, nancount:0, test_reccnt:59\n",
      "carno:29, totallen:200, nancount:0, test_reccnt:59\n",
      "a short ts: carid=30，len=46\n",
      "carno:32, totallen:110, nancount:90, test_reccnt:14\n",
      "a short ts: carid=33，len=46\n",
      "carno:59, totallen:198, nancount:2, test_reccnt:58\n",
      "carno:60, totallen:200, nancount:0, test_reccnt:59\n",
      "carno:64, totallen:200, nancount:0, test_reccnt:59\n",
      "carno:66, totallen:200, nancount:0, test_reccnt:59\n",
      "carno:88, totallen:200, nancount:0, test_reccnt:59\n",
      "carno:98, totallen:200, nancount:0, test_reccnt:59\n",
      "train len:0, test len:1568\n",
      "model: oracle\n",
      "predicting model=oracle, plen=2\n",
      "loading model...done!, ctx:gpu(0)\n",
      "tss len=1568, forecasts len=1568\n"
     ]
    },
    {
     "name": "stderr",
     "output_type": "stream",
     "text": [
      "INFO:root:Using GPU\n"
     ]
    },
    {
     "name": "stdout",
     "output_type": "stream",
     "text": [
      "total:59, prediction_length:2\n",
      "top1acc= 0.6694915254237288 top1acc_farmost= 0.6101694915254238 top5acc= 0.7966101694915254 top5acc_farmost= 0.7254237288135593\n",
      "tau =  0.8059299858392047 rmse =  14.307602929563137\n",
      "model: curtrack\n",
      "predicting model=curtrack, plen=2\n",
      "loading model...done!, ctx:gpu(0)\n",
      "tss len=1568, forecasts len=1568\n"
     ]
    },
    {
     "name": "stderr",
     "output_type": "stream",
     "text": [
      "INFO:root:Using GPU\n"
     ]
    },
    {
     "name": "stdout",
     "output_type": "stream",
     "text": [
      "total:59, prediction_length:2\n",
      "top1acc= 0.652542372881356 top1acc_farmost= 0.559322033898305 top5acc= 0.8050847457627118 top5acc_farmost= 0.7457627118644068\n",
      "tau =  0.817207696768441 rmse =  13.63774672575552\n",
      "model: zerotrack\n",
      "predicting model=zerotrack, plen=2\n",
      "loading model...done!, ctx:gpu(0)\n",
      "tss len=1568, forecasts len=1568\n"
     ]
    },
    {
     "name": "stderr",
     "output_type": "stream",
     "text": [
      "INFO:root:Using GPU\n"
     ]
    },
    {
     "name": "stdout",
     "output_type": "stream",
     "text": [
      "total:59, prediction_length:2\n",
      "top1acc= 0.6186440677966102 top1acc_farmost= 0.559322033898305 top5acc= 0.8254237288135593 top5acc_farmost= 0.7728813559322034\n",
      "tau =  0.8292837357679675 rmse =  11.289140455537426\n",
      "==============================\n",
      "====event:Indy500, train_len=80, max_len=200, min_len=200\n",
      "carno:1, totallen:200, nancount:0, test_reccnt:59\n",
      "carno:3, totallen:146, nancount:54, test_reccnt:32\n",
      "carno:4, totallen:200, nancount:0, test_reccnt:59\n",
      "carno:6, totallen:200, nancount:0, test_reccnt:59\n",
      "carno:7, totallen:193, nancount:7, test_reccnt:55\n",
      "carno:9, totallen:200, nancount:0, test_reccnt:59\n",
      "a short ts: carid=10，len=57\n",
      "carno:12, totallen:200, nancount:0, test_reccnt:59\n",
      "a short ts: carid=13，len=67\n",
      "carno:14, totallen:187, nancount:13, test_reccnt:52\n",
      "carno:15, totallen:200, nancount:0, test_reccnt:59\n",
      "carno:17, totallen:199, nancount:1, test_reccnt:58\n",
      "carno:18, totallen:137, nancount:63, test_reccnt:27\n",
      "carno:19, totallen:199, nancount:1, test_reccnt:58\n",
      "carno:20, totallen:200, nancount:0, test_reccnt:59\n",
      "carno:21, totallen:199, nancount:1, test_reccnt:58\n",
      "carno:22, totallen:200, nancount:0, test_reccnt:59\n",
      "carno:23, totallen:200, nancount:0, test_reccnt:59\n",
      "carno:24, totallen:154, nancount:46, test_reccnt:36\n",
      "carno:25, totallen:200, nancount:0, test_reccnt:59\n",
      "carno:26, totallen:198, nancount:2, test_reccnt:58\n",
      "carno:27, totallen:200, nancount:0, test_reccnt:59\n",
      "carno:28, totallen:200, nancount:0, test_reccnt:59\n",
      "carno:29, totallen:200, nancount:0, test_reccnt:59\n",
      "a short ts: carid=30，len=46\n",
      "carno:32, totallen:110, nancount:90, test_reccnt:14\n",
      "a short ts: carid=33，len=46\n",
      "carno:59, totallen:198, nancount:2, test_reccnt:58\n",
      "carno:60, totallen:200, nancount:0, test_reccnt:59\n",
      "carno:64, totallen:200, nancount:0, test_reccnt:59\n",
      "carno:66, totallen:200, nancount:0, test_reccnt:59\n",
      "carno:88, totallen:200, nancount:0, test_reccnt:59\n",
      "carno:98, totallen:200, nancount:0, test_reccnt:59\n",
      "train len:0, test len:1568\n",
      "model: oracle\n",
      "predicting model=oracle, plen=2\n",
      "loading model...done!, ctx:gpu(0)\n",
      "tss len=1568, forecasts len=1568\n"
     ]
    },
    {
     "name": "stderr",
     "output_type": "stream",
     "text": [
      "INFO:root:Using GPU\n"
     ]
    },
    {
     "name": "stdout",
     "output_type": "stream",
     "text": [
      "total:59, prediction_length:2\n",
      "top1acc= 0.6101694915254238 top1acc_farmost= 0.5254237288135594 top5acc= 0.8 top5acc_farmost= 0.7491525423728813\n",
      "tau =  0.8092430102664128 rmse =  14.351757101985418\n",
      "model: curtrack\n",
      "predicting model=curtrack, plen=2\n",
      "loading model...done!, ctx:gpu(0)\n",
      "tss len=1568, forecasts len=1568\n"
     ]
    },
    {
     "name": "stderr",
     "output_type": "stream",
     "text": [
      "INFO:root:Using GPU\n"
     ]
    },
    {
     "name": "stdout",
     "output_type": "stream",
     "text": [
      "total:59, prediction_length:2\n",
      "top1acc= 0.6186440677966102 top1acc_farmost= 0.5423728813559322 top5acc= 0.7983050847457627 top5acc_farmost= 0.7389830508474576\n",
      "tau =  0.8136289457437034 rmse =  14.24039540529605\n",
      "model: zerotrack\n",
      "predicting model=zerotrack, plen=2\n",
      "loading model...done!, ctx:gpu(0)\n",
      "tss len=1568, forecasts len=1568\n"
     ]
    },
    {
     "name": "stderr",
     "output_type": "stream",
     "text": [
      "INFO:root:Using GPU\n"
     ]
    },
    {
     "name": "stdout",
     "output_type": "stream",
     "text": [
      "total:59, prediction_length:2\n",
      "top1acc= 0.5508474576271186 top1acc_farmost= 0.4406779661016949 top5acc= 0.7983050847457627 top5acc_farmost= 0.7457627118644068\n",
      "tau =  0.8338942177776537 rmse =  11.009084939225717\n",
      "==============================\n",
      "====event:Indy500, train_len=80, max_len=200, min_len=200\n",
      "carno:1, totallen:200, nancount:0, test_reccnt:59\n",
      "carno:3, totallen:146, nancount:54, test_reccnt:32\n",
      "carno:4, totallen:200, nancount:0, test_reccnt:59\n",
      "carno:6, totallen:200, nancount:0, test_reccnt:59\n",
      "carno:7, totallen:193, nancount:7, test_reccnt:55\n",
      "carno:9, totallen:200, nancount:0, test_reccnt:59\n",
      "a short ts: carid=10，len=57\n",
      "carno:12, totallen:200, nancount:0, test_reccnt:59\n",
      "a short ts: carid=13，len=67\n",
      "carno:14, totallen:187, nancount:13, test_reccnt:52\n",
      "carno:15, totallen:200, nancount:0, test_reccnt:59\n",
      "carno:17, totallen:199, nancount:1, test_reccnt:58\n",
      "carno:18, totallen:137, nancount:63, test_reccnt:27\n",
      "carno:19, totallen:199, nancount:1, test_reccnt:58\n",
      "carno:20, totallen:200, nancount:0, test_reccnt:59\n",
      "carno:21, totallen:199, nancount:1, test_reccnt:58\n",
      "carno:22, totallen:200, nancount:0, test_reccnt:59\n",
      "carno:23, totallen:200, nancount:0, test_reccnt:59\n",
      "carno:24, totallen:154, nancount:46, test_reccnt:36\n",
      "carno:25, totallen:200, nancount:0, test_reccnt:59\n",
      "carno:26, totallen:198, nancount:2, test_reccnt:58\n",
      "carno:27, totallen:200, nancount:0, test_reccnt:59\n",
      "carno:28, totallen:200, nancount:0, test_reccnt:59\n",
      "carno:29, totallen:200, nancount:0, test_reccnt:59\n",
      "a short ts: carid=30，len=46\n",
      "carno:32, totallen:110, nancount:90, test_reccnt:14\n",
      "a short ts: carid=33，len=46\n",
      "carno:59, totallen:198, nancount:2, test_reccnt:58\n",
      "carno:60, totallen:200, nancount:0, test_reccnt:59\n",
      "carno:64, totallen:200, nancount:0, test_reccnt:59\n",
      "carno:66, totallen:200, nancount:0, test_reccnt:59\n",
      "carno:88, totallen:200, nancount:0, test_reccnt:59\n",
      "carno:98, totallen:200, nancount:0, test_reccnt:59\n",
      "train len:0, test len:1568\n",
      "model: oracle\n",
      "predicting model=oracle, plen=2\n",
      "loading model...done!, ctx:gpu(0)\n",
      "tss len=1568, forecasts len=1568\n"
     ]
    },
    {
     "name": "stderr",
     "output_type": "stream",
     "text": [
      "INFO:root:Using GPU\n"
     ]
    },
    {
     "name": "stdout",
     "output_type": "stream",
     "text": [
      "total:59, prediction_length:2\n",
      "top1acc= 0.5932203389830508 top1acc_farmost= 0.5423728813559322 top5acc= 0.8016949152542373 top5acc_farmost= 0.7491525423728813\n",
      "tau =  0.8098343202491927 rmse =  14.04773384732066\n",
      "model: curtrack\n",
      "predicting model=curtrack, plen=2\n",
      "loading model...done!, ctx:gpu(0)\n",
      "tss len=1568, forecasts len=1568\n"
     ]
    },
    {
     "name": "stderr",
     "output_type": "stream",
     "text": [
      "INFO:root:Using GPU\n"
     ]
    },
    {
     "name": "stdout",
     "output_type": "stream",
     "text": [
      "total:59, prediction_length:2\n",
      "top1acc= 0.5932203389830508 top1acc_farmost= 0.5084745762711864 top5acc= 0.7932203389830509 top5acc_farmost= 0.735593220338983\n",
      "tau =  0.806143260896557 rmse =  14.011837266420905\n",
      "model: zerotrack\n",
      "predicting model=zerotrack, plen=2\n",
      "loading model...done!, ctx:gpu(0)\n",
      "tss len=1568, forecasts len=1568\n"
     ]
    },
    {
     "name": "stderr",
     "output_type": "stream",
     "text": [
      "INFO:root:Using GPU\n"
     ]
    },
    {
     "name": "stdout",
     "output_type": "stream",
     "text": [
      "total:59, prediction_length:2\n",
      "top1acc= 0.6016949152542372 top1acc_farmost= 0.5423728813559322 top5acc= 0.823728813559322 top5acc_farmost= 0.7728813559322034\n",
      "tau =  0.8347029188163169 rmse =  11.073162127417078\n",
      "==============================\n",
      "====event:Indy500, train_len=80, max_len=200, min_len=200\n",
      "carno:1, totallen:200, nancount:0, test_reccnt:23\n",
      "carno:3, totallen:146, nancount:54, test_reccnt:12\n",
      "carno:4, totallen:200, nancount:0, test_reccnt:23\n",
      "carno:6, totallen:200, nancount:0, test_reccnt:23\n",
      "carno:7, totallen:193, nancount:7, test_reccnt:21\n",
      "carno:9, totallen:200, nancount:0, test_reccnt:23\n",
      "a short ts: carid=10，len=57\n",
      "carno:12, totallen:200, nancount:0, test_reccnt:23\n",
      "a short ts: carid=13，len=67\n",
      "carno:14, totallen:187, nancount:13, test_reccnt:20\n",
      "carno:15, totallen:200, nancount:0, test_reccnt:23\n",
      "carno:17, totallen:199, nancount:1, test_reccnt:22\n",
      "carno:18, totallen:137, nancount:63, test_reccnt:10\n",
      "carno:19, totallen:199, nancount:1, test_reccnt:22\n",
      "carno:20, totallen:200, nancount:0, test_reccnt:23\n",
      "carno:21, totallen:199, nancount:1, test_reccnt:22\n",
      "carno:22, totallen:200, nancount:0, test_reccnt:23\n",
      "carno:23, totallen:200, nancount:0, test_reccnt:23\n",
      "carno:24, totallen:154, nancount:46, test_reccnt:13\n",
      "carno:25, totallen:200, nancount:0, test_reccnt:23\n",
      "carno:26, totallen:198, nancount:2, test_reccnt:22\n",
      "carno:27, totallen:200, nancount:0, test_reccnt:23\n",
      "carno:28, totallen:200, nancount:0, test_reccnt:23\n",
      "carno:29, totallen:200, nancount:0, test_reccnt:23\n",
      "a short ts: carid=30，len=46\n",
      "carno:32, totallen:110, nancount:90, test_reccnt:5\n",
      "a short ts: carid=33，len=46\n",
      "carno:59, totallen:198, nancount:2, test_reccnt:22\n",
      "carno:60, totallen:200, nancount:0, test_reccnt:23\n",
      "carno:64, totallen:200, nancount:0, test_reccnt:23\n",
      "carno:66, totallen:200, nancount:0, test_reccnt:23\n",
      "carno:88, totallen:200, nancount:0, test_reccnt:23\n",
      "carno:98, totallen:200, nancount:0, test_reccnt:23\n",
      "train len:0, test len:605\n",
      "model: oracle\n",
      "predicting model=oracle, plen=5\n",
      "loading model...done!, ctx:gpu(0)\n",
      "tss len=605, forecasts len=605\n"
     ]
    },
    {
     "name": "stderr",
     "output_type": "stream",
     "text": [
      "INFO:root:Using GPU\n"
     ]
    },
    {
     "name": "stdout",
     "output_type": "stream",
     "text": [
      "total:23, prediction_length:5\n",
      "top1acc= 0.4608695652173913 top1acc_farmost= 0.391304347826087 top5acc= 0.6208695652173913 top5acc_farmost= 0.5043478260869565\n",
      "tau =  0.6544453926925274 rmse =  30.00964102585327\n",
      "model: curtrack\n",
      "predicting model=curtrack, plen=5\n",
      "loading model...done!, ctx:gpu(0)\n",
      "tss len=605, forecasts len=605\n"
     ]
    },
    {
     "name": "stderr",
     "output_type": "stream",
     "text": [
      "INFO:root:Using GPU\n"
     ]
    },
    {
     "name": "stdout",
     "output_type": "stream",
     "text": [
      "total:23, prediction_length:5\n",
      "top1acc= 0.5130434782608696 top1acc_farmost= 0.391304347826087 top5acc= 0.6156521739130435 top5acc_farmost= 0.5043478260869565\n",
      "tau =  0.6563897812752255 rmse =  29.418501429011563\n",
      "model: zerotrack\n",
      "predicting model=zerotrack, plen=5\n",
      "loading model...done!, ctx:gpu(0)\n",
      "tss len=605, forecasts len=605\n"
     ]
    },
    {
     "name": "stderr",
     "output_type": "stream",
     "text": [
      "INFO:root:Using GPU\n"
     ]
    },
    {
     "name": "stdout",
     "output_type": "stream",
     "text": [
      "total:23, prediction_length:5\n",
      "top1acc= 0.4434782608695652 top1acc_farmost= 0.34782608695652173 top5acc= 0.6104347826086957 top5acc_farmost= 0.5043478260869565\n",
      "tau =  0.6549330113225065 rmse =  28.245550449015017\n",
      "==============================\n",
      "====event:Indy500, train_len=80, max_len=200, min_len=200\n",
      "carno:1, totallen:200, nancount:0, test_reccnt:23\n",
      "carno:3, totallen:146, nancount:54, test_reccnt:12\n",
      "carno:4, totallen:200, nancount:0, test_reccnt:23\n",
      "carno:6, totallen:200, nancount:0, test_reccnt:23\n",
      "carno:7, totallen:193, nancount:7, test_reccnt:21\n",
      "carno:9, totallen:200, nancount:0, test_reccnt:23\n",
      "a short ts: carid=10，len=57\n",
      "carno:12, totallen:200, nancount:0, test_reccnt:23\n",
      "a short ts: carid=13，len=67\n",
      "carno:14, totallen:187, nancount:13, test_reccnt:20\n",
      "carno:15, totallen:200, nancount:0, test_reccnt:23\n",
      "carno:17, totallen:199, nancount:1, test_reccnt:22\n",
      "carno:18, totallen:137, nancount:63, test_reccnt:10\n",
      "carno:19, totallen:199, nancount:1, test_reccnt:22\n",
      "carno:20, totallen:200, nancount:0, test_reccnt:23\n",
      "carno:21, totallen:199, nancount:1, test_reccnt:22\n",
      "carno:22, totallen:200, nancount:0, test_reccnt:23\n",
      "carno:23, totallen:200, nancount:0, test_reccnt:23\n",
      "carno:24, totallen:154, nancount:46, test_reccnt:13\n",
      "carno:25, totallen:200, nancount:0, test_reccnt:23\n",
      "carno:26, totallen:198, nancount:2, test_reccnt:22\n",
      "carno:27, totallen:200, nancount:0, test_reccnt:23\n",
      "carno:28, totallen:200, nancount:0, test_reccnt:23\n",
      "carno:29, totallen:200, nancount:0, test_reccnt:23\n",
      "a short ts: carid=30，len=46\n",
      "carno:32, totallen:110, nancount:90, test_reccnt:5\n",
      "a short ts: carid=33，len=46\n",
      "carno:59, totallen:198, nancount:2, test_reccnt:22\n",
      "carno:60, totallen:200, nancount:0, test_reccnt:23\n",
      "carno:64, totallen:200, nancount:0, test_reccnt:23\n",
      "carno:66, totallen:200, nancount:0, test_reccnt:23\n",
      "carno:88, totallen:200, nancount:0, test_reccnt:23\n",
      "carno:98, totallen:200, nancount:0, test_reccnt:23\n",
      "train len:0, test len:605\n",
      "model: oracle\n",
      "predicting model=oracle, plen=5\n",
      "loading model...done!, ctx:gpu(0)\n",
      "tss len=605, forecasts len=605\n"
     ]
    },
    {
     "name": "stderr",
     "output_type": "stream",
     "text": [
      "INFO:root:Using GPU\n"
     ]
    },
    {
     "name": "stdout",
     "output_type": "stream",
     "text": [
      "total:23, prediction_length:5\n",
      "top1acc= 0.40869565217391307 top1acc_farmost= 0.34782608695652173 top5acc= 0.6086956521739131 top5acc_farmost= 0.4956521739130435\n",
      "tau =  0.6597777038945505 rmse =  29.249153888151223\n",
      "model: curtrack\n",
      "predicting model=curtrack, plen=5\n",
      "loading model...done!, ctx:gpu(0)\n",
      "tss len=605, forecasts len=605\n"
     ]
    },
    {
     "name": "stderr",
     "output_type": "stream",
     "text": [
      "INFO:root:Using GPU\n"
     ]
    },
    {
     "name": "stdout",
     "output_type": "stream",
     "text": [
      "total:23, prediction_length:5\n",
      "top1acc= 0.3739130434782609 top1acc_farmost= 0.30434782608695654 top5acc= 0.5965217391304348 top5acc_farmost= 0.4782608695652174\n",
      "tau =  0.6508342963579795 rmse =  30.42793827967898\n",
      "model: zerotrack\n",
      "predicting model=zerotrack, plen=5\n",
      "loading model...done!, ctx:gpu(0)\n",
      "tss len=605, forecasts len=605\n"
     ]
    },
    {
     "name": "stderr",
     "output_type": "stream",
     "text": [
      "INFO:root:Using GPU\n"
     ]
    },
    {
     "name": "stdout",
     "output_type": "stream",
     "text": [
      "total:23, prediction_length:5\n",
      "top1acc= 0.391304347826087 top1acc_farmost= 0.30434782608695654 top5acc= 0.591304347826087 top5acc_farmost= 0.4782608695652174\n",
      "tau =  0.6383510366319094 rmse =  29.907941501829647\n",
      "==============================\n",
      "====event:Indy500, train_len=80, max_len=200, min_len=200\n",
      "carno:1, totallen:200, nancount:0, test_reccnt:23\n",
      "carno:3, totallen:146, nancount:54, test_reccnt:12\n",
      "carno:4, totallen:200, nancount:0, test_reccnt:23\n",
      "carno:6, totallen:200, nancount:0, test_reccnt:23\n",
      "carno:7, totallen:193, nancount:7, test_reccnt:21\n",
      "carno:9, totallen:200, nancount:0, test_reccnt:23\n",
      "a short ts: carid=10，len=57\n",
      "carno:12, totallen:200, nancount:0, test_reccnt:23\n",
      "a short ts: carid=13，len=67\n",
      "carno:14, totallen:187, nancount:13, test_reccnt:20\n",
      "carno:15, totallen:200, nancount:0, test_reccnt:23\n",
      "carno:17, totallen:199, nancount:1, test_reccnt:22\n",
      "carno:18, totallen:137, nancount:63, test_reccnt:10\n",
      "carno:19, totallen:199, nancount:1, test_reccnt:22\n",
      "carno:20, totallen:200, nancount:0, test_reccnt:23\n",
      "carno:21, totallen:199, nancount:1, test_reccnt:22\n",
      "carno:22, totallen:200, nancount:0, test_reccnt:23\n",
      "carno:23, totallen:200, nancount:0, test_reccnt:23\n",
      "carno:24, totallen:154, nancount:46, test_reccnt:13\n",
      "carno:25, totallen:200, nancount:0, test_reccnt:23\n",
      "carno:26, totallen:198, nancount:2, test_reccnt:22\n",
      "carno:27, totallen:200, nancount:0, test_reccnt:23\n",
      "carno:28, totallen:200, nancount:0, test_reccnt:23\n",
      "carno:29, totallen:200, nancount:0, test_reccnt:23\n",
      "a short ts: carid=30，len=46\n",
      "carno:32, totallen:110, nancount:90, test_reccnt:5\n",
      "a short ts: carid=33，len=46\n",
      "carno:59, totallen:198, nancount:2, test_reccnt:22\n",
      "carno:60, totallen:200, nancount:0, test_reccnt:23\n",
      "carno:64, totallen:200, nancount:0, test_reccnt:23\n",
      "carno:66, totallen:200, nancount:0, test_reccnt:23\n",
      "carno:88, totallen:200, nancount:0, test_reccnt:23\n",
      "carno:98, totallen:200, nancount:0, test_reccnt:23\n",
      "train len:0, test len:605\n",
      "model: oracle\n",
      "predicting model=oracle, plen=5\n",
      "loading model...done!, ctx:gpu(0)\n",
      "tss len=605, forecasts len=605\n"
     ]
    },
    {
     "name": "stderr",
     "output_type": "stream",
     "text": [
      "INFO:root:Using GPU\n"
     ]
    },
    {
     "name": "stdout",
     "output_type": "stream",
     "text": [
      "total:23, prediction_length:5\n",
      "top1acc= 0.4260869565217391 top1acc_farmost= 0.30434782608695654 top5acc= 0.6173913043478261 top5acc_farmost= 0.48695652173913045\n",
      "tau =  0.6429747545065804 rmse =  31.000825408604832\n",
      "model: curtrack\n",
      "predicting model=curtrack, plen=5\n",
      "loading model...done!, ctx:gpu(0)\n",
      "tss len=605, forecasts len=605\n"
     ]
    },
    {
     "name": "stderr",
     "output_type": "stream",
     "text": [
      "INFO:root:Using GPU\n"
     ]
    },
    {
     "name": "stdout",
     "output_type": "stream",
     "text": [
      "total:23, prediction_length:5\n",
      "top1acc= 0.43478260869565216 top1acc_farmost= 0.34782608695652173 top5acc= 0.5756521739130435 top5acc_farmost= 0.43478260869565216\n",
      "tau =  0.6269544724268543 rmse =  32.76413112167704\n",
      "model: zerotrack\n",
      "predicting model=zerotrack, plen=5\n",
      "loading model...done!, ctx:gpu(0)\n",
      "tss len=605, forecasts len=605\n"
     ]
    },
    {
     "name": "stderr",
     "output_type": "stream",
     "text": [
      "INFO:root:Using GPU\n"
     ]
    },
    {
     "name": "stdout",
     "output_type": "stream",
     "text": [
      "total:23, prediction_length:5\n",
      "top1acc= 0.46956521739130436 top1acc_farmost= 0.34782608695652173 top5acc= 0.6086956521739131 top5acc_farmost= 0.4608695652173913\n",
      "tau =  0.6425711995297122 rmse =  29.503265017170232\n",
      "==============================\n",
      "====event:Indy500, train_len=80, max_len=200, min_len=200\n",
      "carno:1, totallen:200, nancount:0, test_reccnt:11\n",
      "carno:3, totallen:146, nancount:54, test_reccnt:5\n",
      "carno:4, totallen:200, nancount:0, test_reccnt:11\n",
      "carno:6, totallen:200, nancount:0, test_reccnt:11\n",
      "carno:7, totallen:193, nancount:7, test_reccnt:10\n",
      "carno:9, totallen:200, nancount:0, test_reccnt:11\n",
      "a short ts: carid=10，len=57\n",
      "carno:12, totallen:200, nancount:0, test_reccnt:11\n",
      "a short ts: carid=13，len=67\n",
      "carno:14, totallen:187, nancount:13, test_reccnt:9\n",
      "carno:15, totallen:200, nancount:0, test_reccnt:11\n",
      "carno:17, totallen:199, nancount:1, test_reccnt:10\n",
      "carno:18, totallen:137, nancount:63, test_reccnt:4\n",
      "carno:19, totallen:199, nancount:1, test_reccnt:10\n",
      "carno:20, totallen:200, nancount:0, test_reccnt:11\n",
      "carno:21, totallen:199, nancount:1, test_reccnt:10\n",
      "carno:22, totallen:200, nancount:0, test_reccnt:11\n",
      "carno:23, totallen:200, nancount:0, test_reccnt:11\n",
      "carno:24, totallen:154, nancount:46, test_reccnt:6\n",
      "carno:25, totallen:200, nancount:0, test_reccnt:11\n",
      "carno:26, totallen:198, nancount:2, test_reccnt:10\n",
      "carno:27, totallen:200, nancount:0, test_reccnt:11\n",
      "carno:28, totallen:200, nancount:0, test_reccnt:11\n",
      "carno:29, totallen:200, nancount:0, test_reccnt:11\n",
      "a short ts: carid=30，len=46\n",
      "carno:32, totallen:110, nancount:90, test_reccnt:2\n",
      "a short ts: carid=33，len=46\n",
      "carno:59, totallen:198, nancount:2, test_reccnt:10\n",
      "carno:60, totallen:200, nancount:0, test_reccnt:11\n",
      "carno:64, totallen:200, nancount:0, test_reccnt:11\n",
      "carno:66, totallen:200, nancount:0, test_reccnt:11\n",
      "carno:88, totallen:200, nancount:0, test_reccnt:11\n",
      "carno:98, totallen:200, nancount:0, test_reccnt:11\n",
      "train len:0, test len:284\n",
      "model: oracle\n",
      "predicting model=oracle, plen=10\n",
      "loading model...done!, ctx:gpu(0)\n",
      "tss len=284, forecasts len=284\n"
     ]
    },
    {
     "name": "stderr",
     "output_type": "stream",
     "text": [
      "INFO:root:Using GPU\n"
     ]
    },
    {
     "name": "stdout",
     "output_type": "stream",
     "text": [
      "total:11, prediction_length:10\n",
      "top1acc= 0.32727272727272727 top1acc_farmost= 0.18181818181818182 top5acc= 0.5163636363636364 top5acc_farmost= 0.36363636363636365\n",
      "tau =  0.4853099810306531 rmse =  43.24981887333612\n",
      "model: curtrack\n",
      "predicting model=curtrack, plen=10\n",
      "loading model...done!, ctx:gpu(0)\n",
      "tss len=284, forecasts len=284\n"
     ]
    },
    {
     "name": "stderr",
     "output_type": "stream",
     "text": [
      "INFO:root:Using GPU\n"
     ]
    },
    {
     "name": "stdout",
     "output_type": "stream",
     "text": [
      "total:11, prediction_length:10\n",
      "top1acc= 0.32727272727272727 top1acc_farmost= 0.18181818181818182 top5acc= 0.4727272727272727 top5acc_farmost= 0.3090909090909091\n",
      "tau =  0.4749314177149083 rmse =  44.26193550510792\n",
      "model: zerotrack\n",
      "predicting model=zerotrack, plen=10\n",
      "loading model...done!, ctx:gpu(0)\n"
     ]
    },
    {
     "name": "stderr",
     "output_type": "stream",
     "text": [
      "INFO:root:Using GPU\n"
     ]
    },
    {
     "name": "stdout",
     "output_type": "stream",
     "text": [
      "tss len=284, forecasts len=284\n",
      "total:11, prediction_length:10\n",
      "top1acc= 0.3181818181818182 top1acc_farmost= 0.18181818181818182 top5acc= 0.4490909090909091 top5acc_farmost= 0.2909090909090909\n",
      "tau =  0.5011403929133095 rmse =  41.085743557846996\n",
      "==============================\n",
      "====event:Indy500, train_len=80, max_len=200, min_len=200\n",
      "carno:1, totallen:200, nancount:0, test_reccnt:11\n",
      "carno:3, totallen:146, nancount:54, test_reccnt:5\n",
      "carno:4, totallen:200, nancount:0, test_reccnt:11\n",
      "carno:6, totallen:200, nancount:0, test_reccnt:11\n",
      "carno:7, totallen:193, nancount:7, test_reccnt:10\n",
      "carno:9, totallen:200, nancount:0, test_reccnt:11\n",
      "a short ts: carid=10，len=57\n",
      "carno:12, totallen:200, nancount:0, test_reccnt:11\n",
      "a short ts: carid=13，len=67\n",
      "carno:14, totallen:187, nancount:13, test_reccnt:9\n",
      "carno:15, totallen:200, nancount:0, test_reccnt:11\n",
      "carno:17, totallen:199, nancount:1, test_reccnt:10\n",
      "carno:18, totallen:137, nancount:63, test_reccnt:4\n",
      "carno:19, totallen:199, nancount:1, test_reccnt:10\n",
      "carno:20, totallen:200, nancount:0, test_reccnt:11\n",
      "carno:21, totallen:199, nancount:1, test_reccnt:10\n",
      "carno:22, totallen:200, nancount:0, test_reccnt:11\n",
      "carno:23, totallen:200, nancount:0, test_reccnt:11\n",
      "carno:24, totallen:154, nancount:46, test_reccnt:6\n",
      "carno:25, totallen:200, nancount:0, test_reccnt:11\n",
      "carno:26, totallen:198, nancount:2, test_reccnt:10\n",
      "carno:27, totallen:200, nancount:0, test_reccnt:11\n",
      "carno:28, totallen:200, nancount:0, test_reccnt:11\n",
      "carno:29, totallen:200, nancount:0, test_reccnt:11\n",
      "a short ts: carid=30，len=46\n",
      "carno:32, totallen:110, nancount:90, test_reccnt:2\n",
      "a short ts: carid=33，len=46\n",
      "carno:59, totallen:198, nancount:2, test_reccnt:10\n",
      "carno:60, totallen:200, nancount:0, test_reccnt:11\n",
      "carno:64, totallen:200, nancount:0, test_reccnt:11\n",
      "carno:66, totallen:200, nancount:0, test_reccnt:11\n",
      "carno:88, totallen:200, nancount:0, test_reccnt:11\n",
      "carno:98, totallen:200, nancount:0, test_reccnt:11\n",
      "train len:0, test len:284\n",
      "model: oracle\n",
      "predicting model=oracle, plen=10\n",
      "loading model...done!, ctx:gpu(0)\n",
      "tss len=284, forecasts len=284\n"
     ]
    },
    {
     "name": "stderr",
     "output_type": "stream",
     "text": [
      "INFO:root:Using GPU\n"
     ]
    },
    {
     "name": "stdout",
     "output_type": "stream",
     "text": [
      "total:11, prediction_length:10\n",
      "top1acc= 0.33636363636363636 top1acc_farmost= 0.18181818181818182 top5acc= 0.49818181818181817 top5acc_farmost= 0.3090909090909091\n",
      "tau =  0.49551906972868254 rmse =  43.37475619144585\n",
      "model: curtrack\n",
      "predicting model=curtrack, plen=10\n",
      "loading model...done!, ctx:gpu(0)\n",
      "tss len=284, forecasts len=284\n"
     ]
    },
    {
     "name": "stderr",
     "output_type": "stream",
     "text": [
      "INFO:root:Using GPU\n"
     ]
    },
    {
     "name": "stdout",
     "output_type": "stream",
     "text": [
      "total:11, prediction_length:10\n",
      "top1acc= 0.32727272727272727 top1acc_farmost= 0.18181818181818182 top5acc= 0.4709090909090909 top5acc_farmost= 0.2909090909090909\n",
      "tau =  0.47608843617961705 rmse =  44.166308094204645\n",
      "model: zerotrack\n",
      "predicting model=zerotrack, plen=10\n",
      "loading model...done!, ctx:gpu(0)\n",
      "tss len=284, forecasts len=284\n"
     ]
    },
    {
     "name": "stderr",
     "output_type": "stream",
     "text": [
      "INFO:root:Using GPU\n"
     ]
    },
    {
     "name": "stdout",
     "output_type": "stream",
     "text": [
      "total:11, prediction_length:10\n",
      "top1acc= 0.2909090909090909 top1acc_farmost= 0.09090909090909091 top5acc= 0.45454545454545453 top5acc_farmost= 0.2909090909090909\n",
      "tau =  0.4919546960997442 rmse =  41.93300231186438\n",
      "==============================\n",
      "====event:Indy500, train_len=80, max_len=200, min_len=200\n",
      "carno:1, totallen:200, nancount:0, test_reccnt:11\n",
      "carno:3, totallen:146, nancount:54, test_reccnt:5\n",
      "carno:4, totallen:200, nancount:0, test_reccnt:11\n",
      "carno:6, totallen:200, nancount:0, test_reccnt:11\n",
      "carno:7, totallen:193, nancount:7, test_reccnt:10\n",
      "carno:9, totallen:200, nancount:0, test_reccnt:11\n",
      "a short ts: carid=10，len=57\n",
      "carno:12, totallen:200, nancount:0, test_reccnt:11\n",
      "a short ts: carid=13，len=67\n",
      "carno:14, totallen:187, nancount:13, test_reccnt:9\n",
      "carno:15, totallen:200, nancount:0, test_reccnt:11\n",
      "carno:17, totallen:199, nancount:1, test_reccnt:10\n",
      "carno:18, totallen:137, nancount:63, test_reccnt:4\n",
      "carno:19, totallen:199, nancount:1, test_reccnt:10\n",
      "carno:20, totallen:200, nancount:0, test_reccnt:11\n",
      "carno:21, totallen:199, nancount:1, test_reccnt:10\n",
      "carno:22, totallen:200, nancount:0, test_reccnt:11\n",
      "carno:23, totallen:200, nancount:0, test_reccnt:11\n",
      "carno:24, totallen:154, nancount:46, test_reccnt:6\n",
      "carno:25, totallen:200, nancount:0, test_reccnt:11\n",
      "carno:26, totallen:198, nancount:2, test_reccnt:10\n",
      "carno:27, totallen:200, nancount:0, test_reccnt:11\n",
      "carno:28, totallen:200, nancount:0, test_reccnt:11\n",
      "carno:29, totallen:200, nancount:0, test_reccnt:11\n",
      "a short ts: carid=30，len=46\n",
      "carno:32, totallen:110, nancount:90, test_reccnt:2\n",
      "a short ts: carid=33，len=46\n",
      "carno:59, totallen:198, nancount:2, test_reccnt:10\n",
      "carno:60, totallen:200, nancount:0, test_reccnt:11\n",
      "carno:64, totallen:200, nancount:0, test_reccnt:11\n",
      "carno:66, totallen:200, nancount:0, test_reccnt:11\n",
      "carno:88, totallen:200, nancount:0, test_reccnt:11\n",
      "carno:98, totallen:200, nancount:0, test_reccnt:11\n",
      "train len:0, test len:284\n",
      "model: oracle\n",
      "predicting model=oracle, plen=10\n",
      "loading model...done!, ctx:gpu(0)\n",
      "tss len=284, forecasts len=284\n"
     ]
    },
    {
     "name": "stderr",
     "output_type": "stream",
     "text": [
      "INFO:root:Using GPU\n"
     ]
    },
    {
     "name": "stdout",
     "output_type": "stream",
     "text": [
      "total:11, prediction_length:10\n",
      "top1acc= 0.4 top1acc_farmost= 0.2727272727272727 top5acc= 0.48 top5acc_farmost= 0.3090909090909091\n",
      "tau =  0.44792390172598306 rmse =  48.08892640565054\n",
      "model: curtrack\n",
      "predicting model=curtrack, plen=10\n",
      "loading model...done!, ctx:gpu(0)\n",
      "tss len=284, forecasts len=284\n"
     ]
    },
    {
     "name": "stderr",
     "output_type": "stream",
     "text": [
      "INFO:root:Using GPU\n"
     ]
    },
    {
     "name": "stdout",
     "output_type": "stream",
     "text": [
      "total:11, prediction_length:10\n",
      "top1acc= 0.3181818181818182 top1acc_farmost= 0.18181818181818182 top5acc= 0.4818181818181818 top5acc_farmost= 0.2909090909090909\n",
      "tau =  0.4761207199913523 rmse =  45.47826388809147\n",
      "model: zerotrack\n",
      "predicting model=zerotrack, plen=10\n",
      "loading model...done!, ctx:gpu(0)\n",
      "tss len=284, forecasts len=284\n"
     ]
    },
    {
     "name": "stderr",
     "output_type": "stream",
     "text": [
      "INFO:root:Using GPU\n"
     ]
    },
    {
     "name": "stdout",
     "output_type": "stream",
     "text": [
      "total:11, prediction_length:10\n",
      "top1acc= 0.33636363636363636 top1acc_farmost= 0.2727272727272727 top5acc= 0.5072727272727273 top5acc_farmost= 0.38181818181818183\n",
      "tau =  0.5333696739816415 rmse =  38.11796359834291\n",
      "==============================\n",
      "====event:Indy500, train_len=80, max_len=200, min_len=200\n",
      "carno:1, totallen:200, nancount:0, test_reccnt:59\n",
      "carno:3, totallen:146, nancount:54, test_reccnt:32\n",
      "carno:4, totallen:200, nancount:0, test_reccnt:59\n",
      "carno:6, totallen:200, nancount:0, test_reccnt:59\n",
      "carno:7, totallen:193, nancount:7, test_reccnt:55\n",
      "carno:9, totallen:200, nancount:0, test_reccnt:59\n",
      "a short ts: carid=10，len=57\n",
      "carno:12, totallen:200, nancount:0, test_reccnt:59\n",
      "a short ts: carid=13，len=67\n",
      "carno:14, totallen:187, nancount:13, test_reccnt:52\n",
      "carno:15, totallen:200, nancount:0, test_reccnt:59\n",
      "carno:17, totallen:199, nancount:1, test_reccnt:58\n",
      "carno:18, totallen:137, nancount:63, test_reccnt:27\n",
      "carno:19, totallen:199, nancount:1, test_reccnt:58\n",
      "carno:20, totallen:200, nancount:0, test_reccnt:59\n",
      "carno:21, totallen:199, nancount:1, test_reccnt:58\n",
      "carno:22, totallen:200, nancount:0, test_reccnt:59\n",
      "carno:23, totallen:200, nancount:0, test_reccnt:59\n",
      "carno:24, totallen:154, nancount:46, test_reccnt:36\n",
      "carno:25, totallen:200, nancount:0, test_reccnt:59\n",
      "carno:26, totallen:198, nancount:2, test_reccnt:58\n",
      "carno:27, totallen:200, nancount:0, test_reccnt:59\n",
      "carno:28, totallen:200, nancount:0, test_reccnt:59\n",
      "carno:29, totallen:200, nancount:0, test_reccnt:59\n",
      "a short ts: carid=30，len=46\n",
      "carno:32, totallen:110, nancount:90, test_reccnt:14\n",
      "a short ts: carid=33，len=46\n",
      "carno:59, totallen:198, nancount:2, test_reccnt:58\n",
      "carno:60, totallen:200, nancount:0, test_reccnt:59\n",
      "carno:64, totallen:200, nancount:0, test_reccnt:59\n",
      "carno:66, totallen:200, nancount:0, test_reccnt:59\n",
      "carno:88, totallen:200, nancount:0, test_reccnt:59\n",
      "carno:98, totallen:200, nancount:0, test_reccnt:59\n",
      "train len:0, test len:1568\n",
      "model: oracle\n",
      "predicting model=oracle, plen=2\n",
      "loading model...done!, ctx:gpu(0)\n",
      "tss len=1568, forecasts len=1568\n"
     ]
    },
    {
     "name": "stderr",
     "output_type": "stream",
     "text": [
      "INFO:root:Using GPU\n"
     ]
    },
    {
     "name": "stdout",
     "output_type": "stream",
     "text": [
      "total:59, prediction_length:2\n",
      "top1acc= 0.652542372881356 top1acc_farmost= 0.576271186440678 top5acc= 0.7728813559322034 top5acc_farmost= 0.7186440677966102\n",
      "tau =  0.8036650813834256 rmse =  14.604555517092559\n",
      "model: curtrack\n",
      "predicting model=curtrack, plen=2\n",
      "loading model...done!, ctx:gpu(0)\n",
      "tss len=1568, forecasts len=1568\n"
     ]
    },
    {
     "name": "stderr",
     "output_type": "stream",
     "text": [
      "INFO:root:Using GPU\n"
     ]
    },
    {
     "name": "stdout",
     "output_type": "stream",
     "text": [
      "total:59, prediction_length:2\n",
      "top1acc= 0.6186440677966102 top1acc_farmost= 0.5423728813559322 top5acc= 0.7847457627118644 top5acc_farmost= 0.7254237288135593\n",
      "tau =  0.8096509957576907 rmse =  14.275897453634474\n",
      "model: zerotrack\n",
      "predicting model=zerotrack, plen=2\n",
      "loading model...done!, ctx:gpu(0)\n",
      "tss len=1568, forecasts len=1568\n"
     ]
    },
    {
     "name": "stderr",
     "output_type": "stream",
     "text": [
      "INFO:root:Using GPU\n"
     ]
    },
    {
     "name": "stdout",
     "output_type": "stream",
     "text": [
      "total:59, prediction_length:2\n",
      "top1acc= 0.6101694915254238 top1acc_farmost= 0.5254237288135594 top5acc= 0.8203389830508474 top5acc_farmost= 0.7661016949152543\n",
      "tau =  0.8302881965993048 rmse =  11.396001840194529\n",
      "==============================\n",
      "====event:Indy500, train_len=80, max_len=200, min_len=200\n",
      "carno:1, totallen:200, nancount:0, test_reccnt:59\n",
      "carno:3, totallen:146, nancount:54, test_reccnt:32\n",
      "carno:4, totallen:200, nancount:0, test_reccnt:59\n",
      "carno:6, totallen:200, nancount:0, test_reccnt:59\n",
      "carno:7, totallen:193, nancount:7, test_reccnt:55\n",
      "carno:9, totallen:200, nancount:0, test_reccnt:59\n",
      "a short ts: carid=10，len=57\n",
      "carno:12, totallen:200, nancount:0, test_reccnt:59\n",
      "a short ts: carid=13，len=67\n",
      "carno:14, totallen:187, nancount:13, test_reccnt:52\n",
      "carno:15, totallen:200, nancount:0, test_reccnt:59\n",
      "carno:17, totallen:199, nancount:1, test_reccnt:58\n",
      "carno:18, totallen:137, nancount:63, test_reccnt:27\n",
      "carno:19, totallen:199, nancount:1, test_reccnt:58\n",
      "carno:20, totallen:200, nancount:0, test_reccnt:59\n",
      "carno:21, totallen:199, nancount:1, test_reccnt:58\n",
      "carno:22, totallen:200, nancount:0, test_reccnt:59\n",
      "carno:23, totallen:200, nancount:0, test_reccnt:59\n",
      "carno:24, totallen:154, nancount:46, test_reccnt:36\n",
      "carno:25, totallen:200, nancount:0, test_reccnt:59\n",
      "carno:26, totallen:198, nancount:2, test_reccnt:58\n",
      "carno:27, totallen:200, nancount:0, test_reccnt:59\n",
      "carno:28, totallen:200, nancount:0, test_reccnt:59\n",
      "carno:29, totallen:200, nancount:0, test_reccnt:59\n",
      "a short ts: carid=30，len=46\n",
      "carno:32, totallen:110, nancount:90, test_reccnt:14\n",
      "a short ts: carid=33，len=46\n",
      "carno:59, totallen:198, nancount:2, test_reccnt:58\n",
      "carno:60, totallen:200, nancount:0, test_reccnt:59\n",
      "carno:64, totallen:200, nancount:0, test_reccnt:59\n",
      "carno:66, totallen:200, nancount:0, test_reccnt:59\n",
      "carno:88, totallen:200, nancount:0, test_reccnt:59\n",
      "carno:98, totallen:200, nancount:0, test_reccnt:59\n",
      "train len:0, test len:1568\n",
      "model: oracle\n",
      "predicting model=oracle, plen=2\n",
      "loading model...done!, ctx:gpu(0)\n",
      "tss len=1568, forecasts len=1568\n"
     ]
    },
    {
     "name": "stderr",
     "output_type": "stream",
     "text": [
      "INFO:root:Using GPU\n"
     ]
    },
    {
     "name": "stdout",
     "output_type": "stream",
     "text": [
      "total:59, prediction_length:2\n",
      "top1acc= 0.6016949152542372 top1acc_farmost= 0.5423728813559322 top5acc= 0.8033898305084746 top5acc_farmost= 0.752542372881356\n",
      "tau =  0.8042526319284501 rmse =  14.959196951523202\n",
      "model: curtrack\n",
      "predicting model=curtrack, plen=2\n",
      "loading model...done!, ctx:gpu(0)\n",
      "tss len=1568, forecasts len=1568\n"
     ]
    },
    {
     "name": "stderr",
     "output_type": "stream",
     "text": [
      "INFO:root:Using GPU\n"
     ]
    },
    {
     "name": "stdout",
     "output_type": "stream",
     "text": [
      "total:59, prediction_length:2\n",
      "top1acc= 0.652542372881356 top1acc_farmost= 0.5932203389830508 top5acc= 0.8203389830508474 top5acc_farmost= 0.7728813559322034\n",
      "tau =  0.8094526147859327 rmse =  14.656857203990464\n",
      "model: zerotrack\n",
      "predicting model=zerotrack, plen=2\n",
      "loading model...done!, ctx:gpu(0)\n",
      "tss len=1568, forecasts len=1568\n"
     ]
    },
    {
     "name": "stderr",
     "output_type": "stream",
     "text": [
      "INFO:root:Using GPU\n"
     ]
    },
    {
     "name": "stdout",
     "output_type": "stream",
     "text": [
      "total:59, prediction_length:2\n",
      "top1acc= 0.5169491525423728 top1acc_farmost= 0.4067796610169492 top5acc= 0.8 top5acc_farmost= 0.7423728813559322\n",
      "tau =  0.835798855830784 rmse =  10.836234425367152\n",
      "==============================\n",
      "====event:Indy500, train_len=80, max_len=200, min_len=200\n",
      "carno:1, totallen:200, nancount:0, test_reccnt:59\n",
      "carno:3, totallen:146, nancount:54, test_reccnt:32\n",
      "carno:4, totallen:200, nancount:0, test_reccnt:59\n",
      "carno:6, totallen:200, nancount:0, test_reccnt:59\n",
      "carno:7, totallen:193, nancount:7, test_reccnt:55\n",
      "carno:9, totallen:200, nancount:0, test_reccnt:59\n",
      "a short ts: carid=10，len=57\n",
      "carno:12, totallen:200, nancount:0, test_reccnt:59\n",
      "a short ts: carid=13，len=67\n",
      "carno:14, totallen:187, nancount:13, test_reccnt:52\n",
      "carno:15, totallen:200, nancount:0, test_reccnt:59\n",
      "carno:17, totallen:199, nancount:1, test_reccnt:58\n",
      "carno:18, totallen:137, nancount:63, test_reccnt:27\n",
      "carno:19, totallen:199, nancount:1, test_reccnt:58\n",
      "carno:20, totallen:200, nancount:0, test_reccnt:59\n",
      "carno:21, totallen:199, nancount:1, test_reccnt:58\n",
      "carno:22, totallen:200, nancount:0, test_reccnt:59\n",
      "carno:23, totallen:200, nancount:0, test_reccnt:59\n",
      "carno:24, totallen:154, nancount:46, test_reccnt:36\n",
      "carno:25, totallen:200, nancount:0, test_reccnt:59\n",
      "carno:26, totallen:198, nancount:2, test_reccnt:58\n",
      "carno:27, totallen:200, nancount:0, test_reccnt:59\n",
      "carno:28, totallen:200, nancount:0, test_reccnt:59\n",
      "carno:29, totallen:200, nancount:0, test_reccnt:59\n",
      "a short ts: carid=30，len=46\n",
      "carno:32, totallen:110, nancount:90, test_reccnt:14\n",
      "a short ts: carid=33，len=46\n",
      "carno:59, totallen:198, nancount:2, test_reccnt:58\n",
      "carno:60, totallen:200, nancount:0, test_reccnt:59\n",
      "carno:64, totallen:200, nancount:0, test_reccnt:59\n",
      "carno:66, totallen:200, nancount:0, test_reccnt:59\n",
      "carno:88, totallen:200, nancount:0, test_reccnt:59\n",
      "carno:98, totallen:200, nancount:0, test_reccnt:59\n",
      "train len:0, test len:1568\n",
      "model: oracle\n",
      "predicting model=oracle, plen=2\n",
      "loading model...done!, ctx:gpu(0)\n",
      "tss len=1568, forecasts len=1568\n"
     ]
    },
    {
     "name": "stderr",
     "output_type": "stream",
     "text": [
      "INFO:root:Using GPU\n"
     ]
    },
    {
     "name": "stdout",
     "output_type": "stream",
     "text": [
      "total:59, prediction_length:2\n",
      "top1acc= 0.6440677966101694 top1acc_farmost= 0.559322033898305 top5acc= 0.8 top5acc_farmost= 0.752542372881356\n",
      "tau =  0.8062187323470046 rmse =  14.704161552426742\n",
      "model: curtrack\n",
      "predicting model=curtrack, plen=2\n",
      "loading model...done!, ctx:gpu(0)\n",
      "tss len=1568, forecasts len=1568\n"
     ]
    },
    {
     "name": "stderr",
     "output_type": "stream",
     "text": [
      "INFO:root:Using GPU\n"
     ]
    },
    {
     "name": "stdout",
     "output_type": "stream",
     "text": [
      "total:59, prediction_length:2\n",
      "top1acc= 0.6101694915254238 top1acc_farmost= 0.5423728813559322 top5acc= 0.7847457627118644 top5acc_farmost= 0.7254237288135593\n",
      "tau =  0.798963970523927 rmse =  14.815484012406987\n",
      "model: zerotrack\n",
      "predicting model=zerotrack, plen=2\n",
      "loading model...done!, ctx:gpu(0)\n",
      "tss len=1568, forecasts len=1568\n"
     ]
    },
    {
     "name": "stderr",
     "output_type": "stream",
     "text": [
      "INFO:root:Using GPU\n"
     ]
    },
    {
     "name": "stdout",
     "output_type": "stream",
     "text": [
      "total:59, prediction_length:2\n",
      "top1acc= 0.5932203389830508 top1acc_farmost= 0.5254237288135594 top5acc= 0.823728813559322 top5acc_farmost= 0.7661016949152543\n",
      "tau =  0.8335049963279515 rmse =  11.021652228665163\n",
      "==============================\n",
      "====event:Indy500, train_len=80, max_len=200, min_len=200\n",
      "carno:1, totallen:200, nancount:0, test_reccnt:23\n",
      "carno:3, totallen:146, nancount:54, test_reccnt:12\n",
      "carno:4, totallen:200, nancount:0, test_reccnt:23\n",
      "carno:6, totallen:200, nancount:0, test_reccnt:23\n",
      "carno:7, totallen:193, nancount:7, test_reccnt:21\n",
      "carno:9, totallen:200, nancount:0, test_reccnt:23\n",
      "a short ts: carid=10，len=57\n",
      "carno:12, totallen:200, nancount:0, test_reccnt:23\n",
      "a short ts: carid=13，len=67\n",
      "carno:14, totallen:187, nancount:13, test_reccnt:20\n",
      "carno:15, totallen:200, nancount:0, test_reccnt:23\n",
      "carno:17, totallen:199, nancount:1, test_reccnt:22\n",
      "carno:18, totallen:137, nancount:63, test_reccnt:10\n",
      "carno:19, totallen:199, nancount:1, test_reccnt:22\n",
      "carno:20, totallen:200, nancount:0, test_reccnt:23\n",
      "carno:21, totallen:199, nancount:1, test_reccnt:22\n",
      "carno:22, totallen:200, nancount:0, test_reccnt:23\n",
      "carno:23, totallen:200, nancount:0, test_reccnt:23\n",
      "carno:24, totallen:154, nancount:46, test_reccnt:13\n",
      "carno:25, totallen:200, nancount:0, test_reccnt:23\n",
      "carno:26, totallen:198, nancount:2, test_reccnt:22\n",
      "carno:27, totallen:200, nancount:0, test_reccnt:23\n",
      "carno:28, totallen:200, nancount:0, test_reccnt:23\n",
      "carno:29, totallen:200, nancount:0, test_reccnt:23\n",
      "a short ts: carid=30，len=46\n",
      "carno:32, totallen:110, nancount:90, test_reccnt:5\n",
      "a short ts: carid=33，len=46\n",
      "carno:59, totallen:198, nancount:2, test_reccnt:22\n",
      "carno:60, totallen:200, nancount:0, test_reccnt:23\n",
      "carno:64, totallen:200, nancount:0, test_reccnt:23\n",
      "carno:66, totallen:200, nancount:0, test_reccnt:23\n",
      "carno:88, totallen:200, nancount:0, test_reccnt:23\n",
      "carno:98, totallen:200, nancount:0, test_reccnt:23\n",
      "train len:0, test len:605\n",
      "model: oracle\n",
      "predicting model=oracle, plen=5\n",
      "loading model...done!, ctx:gpu(0)\n",
      "tss len=605, forecasts len=605\n"
     ]
    },
    {
     "name": "stderr",
     "output_type": "stream",
     "text": [
      "INFO:root:Using GPU\n"
     ]
    },
    {
     "name": "stdout",
     "output_type": "stream",
     "text": [
      "total:23, prediction_length:5\n",
      "top1acc= 0.43478260869565216 top1acc_farmost= 0.30434782608695654 top5acc= 0.6260869565217392 top5acc_farmost= 0.5043478260869565\n",
      "tau =  0.6569798581316258 rmse =  29.815539065738136\n",
      "model: curtrack\n",
      "predicting model=curtrack, plen=5\n",
      "loading model...done!, ctx:gpu(0)\n",
      "tss len=605, forecasts len=605\n"
     ]
    },
    {
     "name": "stderr",
     "output_type": "stream",
     "text": [
      "INFO:root:Using GPU\n"
     ]
    },
    {
     "name": "stdout",
     "output_type": "stream",
     "text": [
      "total:23, prediction_length:5\n",
      "top1acc= 0.4956521739130435 top1acc_farmost= 0.391304347826087 top5acc= 0.6313043478260869 top5acc_farmost= 0.5043478260869565\n",
      "tau =  0.6554945010792494 rmse =  29.792742250629736\n",
      "model: zerotrack\n",
      "predicting model=zerotrack, plen=5\n",
      "loading model...done!, ctx:gpu(0)\n",
      "tss len=605, forecasts len=605\n"
     ]
    },
    {
     "name": "stderr",
     "output_type": "stream",
     "text": [
      "INFO:root:Using GPU\n"
     ]
    },
    {
     "name": "stdout",
     "output_type": "stream",
     "text": [
      "total:23, prediction_length:5\n",
      "top1acc= 0.4608695652173913 top1acc_farmost= 0.34782608695652173 top5acc= 0.6 top5acc_farmost= 0.4782608695652174\n",
      "tau =  0.6458599201630831 rmse =  29.377163465408557\n",
      "==============================\n",
      "====event:Indy500, train_len=80, max_len=200, min_len=200\n",
      "carno:1, totallen:200, nancount:0, test_reccnt:23\n",
      "carno:3, totallen:146, nancount:54, test_reccnt:12\n",
      "carno:4, totallen:200, nancount:0, test_reccnt:23\n",
      "carno:6, totallen:200, nancount:0, test_reccnt:23\n",
      "carno:7, totallen:193, nancount:7, test_reccnt:21\n",
      "carno:9, totallen:200, nancount:0, test_reccnt:23\n",
      "a short ts: carid=10，len=57\n",
      "carno:12, totallen:200, nancount:0, test_reccnt:23\n",
      "a short ts: carid=13，len=67\n",
      "carno:14, totallen:187, nancount:13, test_reccnt:20\n",
      "carno:15, totallen:200, nancount:0, test_reccnt:23\n",
      "carno:17, totallen:199, nancount:1, test_reccnt:22\n",
      "carno:18, totallen:137, nancount:63, test_reccnt:10\n",
      "carno:19, totallen:199, nancount:1, test_reccnt:22\n",
      "carno:20, totallen:200, nancount:0, test_reccnt:23\n",
      "carno:21, totallen:199, nancount:1, test_reccnt:22\n",
      "carno:22, totallen:200, nancount:0, test_reccnt:23\n",
      "carno:23, totallen:200, nancount:0, test_reccnt:23\n",
      "carno:24, totallen:154, nancount:46, test_reccnt:13\n",
      "carno:25, totallen:200, nancount:0, test_reccnt:23\n",
      "carno:26, totallen:198, nancount:2, test_reccnt:22\n",
      "carno:27, totallen:200, nancount:0, test_reccnt:23\n",
      "carno:28, totallen:200, nancount:0, test_reccnt:23\n",
      "carno:29, totallen:200, nancount:0, test_reccnt:23\n",
      "a short ts: carid=30，len=46\n",
      "carno:32, totallen:110, nancount:90, test_reccnt:5\n",
      "a short ts: carid=33，len=46\n",
      "carno:59, totallen:198, nancount:2, test_reccnt:22\n",
      "carno:60, totallen:200, nancount:0, test_reccnt:23\n",
      "carno:64, totallen:200, nancount:0, test_reccnt:23\n",
      "carno:66, totallen:200, nancount:0, test_reccnt:23\n",
      "carno:88, totallen:200, nancount:0, test_reccnt:23\n",
      "carno:98, totallen:200, nancount:0, test_reccnt:23\n",
      "train len:0, test len:605\n",
      "model: oracle\n",
      "predicting model=oracle, plen=5\n",
      "loading model...done!, ctx:gpu(0)\n",
      "tss len=605, forecasts len=605\n"
     ]
    },
    {
     "name": "stderr",
     "output_type": "stream",
     "text": [
      "INFO:root:Using GPU\n"
     ]
    },
    {
     "name": "stdout",
     "output_type": "stream",
     "text": [
      "total:23, prediction_length:5\n",
      "top1acc= 0.46956521739130436 top1acc_farmost= 0.43478260869565216 top5acc= 0.6173913043478261 top5acc_farmost= 0.5130434782608696\n",
      "tau =  0.6582092431771315 rmse =  29.689095018398323\n",
      "model: curtrack\n",
      "predicting model=curtrack, plen=5\n",
      "loading model...done!, ctx:gpu(0)\n",
      "tss len=605, forecasts len=605\n"
     ]
    },
    {
     "name": "stderr",
     "output_type": "stream",
     "text": [
      "INFO:root:Using GPU\n"
     ]
    },
    {
     "name": "stdout",
     "output_type": "stream",
     "text": [
      "total:23, prediction_length:5\n",
      "top1acc= 0.40869565217391307 top1acc_farmost= 0.34782608695652173 top5acc= 0.6330434782608696 top5acc_farmost= 0.5391304347826087\n",
      "tau =  0.6552927671195612 rmse =  30.396453203721443\n",
      "model: zerotrack\n",
      "predicting model=zerotrack, plen=5\n",
      "loading model...done!, ctx:gpu(0)\n"
     ]
    },
    {
     "name": "stderr",
     "output_type": "stream",
     "text": [
      "INFO:root:Using GPU\n"
     ]
    },
    {
     "name": "stdout",
     "output_type": "stream",
     "text": [
      "tss len=605, forecasts len=605\n",
      "total:23, prediction_length:5\n",
      "top1acc= 0.40869565217391307 top1acc_farmost= 0.2608695652173913 top5acc= 0.6104347826086957 top5acc_farmost= 0.43478260869565216\n",
      "tau =  0.6432537162639919 rmse =  29.035273232205896\n",
      "==============================\n",
      "====event:Indy500, train_len=80, max_len=200, min_len=200\n",
      "carno:1, totallen:200, nancount:0, test_reccnt:23\n",
      "carno:3, totallen:146, nancount:54, test_reccnt:12\n",
      "carno:4, totallen:200, nancount:0, test_reccnt:23\n",
      "carno:6, totallen:200, nancount:0, test_reccnt:23\n",
      "carno:7, totallen:193, nancount:7, test_reccnt:21\n",
      "carno:9, totallen:200, nancount:0, test_reccnt:23\n",
      "a short ts: carid=10，len=57\n",
      "carno:12, totallen:200, nancount:0, test_reccnt:23\n",
      "a short ts: carid=13，len=67\n",
      "carno:14, totallen:187, nancount:13, test_reccnt:20\n",
      "carno:15, totallen:200, nancount:0, test_reccnt:23\n",
      "carno:17, totallen:199, nancount:1, test_reccnt:22\n",
      "carno:18, totallen:137, nancount:63, test_reccnt:10\n",
      "carno:19, totallen:199, nancount:1, test_reccnt:22\n",
      "carno:20, totallen:200, nancount:0, test_reccnt:23\n",
      "carno:21, totallen:199, nancount:1, test_reccnt:22\n",
      "carno:22, totallen:200, nancount:0, test_reccnt:23\n",
      "carno:23, totallen:200, nancount:0, test_reccnt:23\n",
      "carno:24, totallen:154, nancount:46, test_reccnt:13\n",
      "carno:25, totallen:200, nancount:0, test_reccnt:23\n",
      "carno:26, totallen:198, nancount:2, test_reccnt:22\n",
      "carno:27, totallen:200, nancount:0, test_reccnt:23\n",
      "carno:28, totallen:200, nancount:0, test_reccnt:23\n",
      "carno:29, totallen:200, nancount:0, test_reccnt:23\n",
      "a short ts: carid=30，len=46\n",
      "carno:32, totallen:110, nancount:90, test_reccnt:5\n",
      "a short ts: carid=33，len=46\n",
      "carno:59, totallen:198, nancount:2, test_reccnt:22\n",
      "carno:60, totallen:200, nancount:0, test_reccnt:23\n",
      "carno:64, totallen:200, nancount:0, test_reccnt:23\n",
      "carno:66, totallen:200, nancount:0, test_reccnt:23\n",
      "carno:88, totallen:200, nancount:0, test_reccnt:23\n",
      "carno:98, totallen:200, nancount:0, test_reccnt:23\n",
      "train len:0, test len:605\n",
      "model: oracle\n",
      "predicting model=oracle, plen=5\n",
      "loading model...done!, ctx:gpu(0)\n",
      "tss len=605, forecasts len=605\n"
     ]
    },
    {
     "name": "stderr",
     "output_type": "stream",
     "text": [
      "INFO:root:Using GPU\n"
     ]
    },
    {
     "name": "stdout",
     "output_type": "stream",
     "text": [
      "total:23, prediction_length:5\n",
      "top1acc= 0.40869565217391307 top1acc_farmost= 0.34782608695652173 top5acc= 0.6156521739130435 top5acc_farmost= 0.5217391304347826\n",
      "tau =  0.6397051674107928 rmse =  31.437787914451757\n",
      "model: curtrack\n",
      "predicting model=curtrack, plen=5\n",
      "loading model...done!, ctx:gpu(0)\n",
      "tss len=605, forecasts len=605\n"
     ]
    },
    {
     "name": "stderr",
     "output_type": "stream",
     "text": [
      "INFO:root:Using GPU\n"
     ]
    },
    {
     "name": "stdout",
     "output_type": "stream",
     "text": [
      "total:23, prediction_length:5\n",
      "top1acc= 0.40869565217391307 top1acc_farmost= 0.30434782608695654 top5acc= 0.5895652173913043 top5acc_farmost= 0.4608695652173913\n",
      "tau =  0.6328224087348863 rmse =  32.443544664361546\n",
      "model: zerotrack\n",
      "predicting model=zerotrack, plen=5\n",
      "loading model...done!, ctx:gpu(0)\n",
      "tss len=605, forecasts len=605\n"
     ]
    },
    {
     "name": "stderr",
     "output_type": "stream",
     "text": [
      "INFO:root:Using GPU\n"
     ]
    },
    {
     "name": "stdout",
     "output_type": "stream",
     "text": [
      "total:23, prediction_length:5\n",
      "top1acc= 0.391304347826087 top1acc_farmost= 0.2608695652173913 top5acc= 0.5965217391304348 top5acc_farmost= 0.45217391304347826\n",
      "tau =  0.6331417599604212 rmse =  30.533671969079954\n",
      "==============================\n",
      "====event:Indy500, train_len=80, max_len=200, min_len=200\n",
      "carno:1, totallen:200, nancount:0, test_reccnt:11\n",
      "carno:3, totallen:146, nancount:54, test_reccnt:5\n",
      "carno:4, totallen:200, nancount:0, test_reccnt:11\n",
      "carno:6, totallen:200, nancount:0, test_reccnt:11\n",
      "carno:7, totallen:193, nancount:7, test_reccnt:10\n",
      "carno:9, totallen:200, nancount:0, test_reccnt:11\n",
      "a short ts: carid=10，len=57\n",
      "carno:12, totallen:200, nancount:0, test_reccnt:11\n",
      "a short ts: carid=13，len=67\n",
      "carno:14, totallen:187, nancount:13, test_reccnt:9\n",
      "carno:15, totallen:200, nancount:0, test_reccnt:11\n",
      "carno:17, totallen:199, nancount:1, test_reccnt:10\n",
      "carno:18, totallen:137, nancount:63, test_reccnt:4\n",
      "carno:19, totallen:199, nancount:1, test_reccnt:10\n",
      "carno:20, totallen:200, nancount:0, test_reccnt:11\n",
      "carno:21, totallen:199, nancount:1, test_reccnt:10\n",
      "carno:22, totallen:200, nancount:0, test_reccnt:11\n",
      "carno:23, totallen:200, nancount:0, test_reccnt:11\n",
      "carno:24, totallen:154, nancount:46, test_reccnt:6\n",
      "carno:25, totallen:200, nancount:0, test_reccnt:11\n",
      "carno:26, totallen:198, nancount:2, test_reccnt:10\n",
      "carno:27, totallen:200, nancount:0, test_reccnt:11\n",
      "carno:28, totallen:200, nancount:0, test_reccnt:11\n",
      "carno:29, totallen:200, nancount:0, test_reccnt:11\n",
      "a short ts: carid=30，len=46\n",
      "carno:32, totallen:110, nancount:90, test_reccnt:2\n",
      "a short ts: carid=33，len=46\n",
      "carno:59, totallen:198, nancount:2, test_reccnt:10\n",
      "carno:60, totallen:200, nancount:0, test_reccnt:11\n",
      "carno:64, totallen:200, nancount:0, test_reccnt:11\n",
      "carno:66, totallen:200, nancount:0, test_reccnt:11\n",
      "carno:88, totallen:200, nancount:0, test_reccnt:11\n",
      "carno:98, totallen:200, nancount:0, test_reccnt:11\n",
      "train len:0, test len:284\n",
      "model: oracle\n",
      "predicting model=oracle, plen=10\n",
      "loading model...done!, ctx:gpu(0)\n",
      "tss len=284, forecasts len=284\n"
     ]
    },
    {
     "name": "stderr",
     "output_type": "stream",
     "text": [
      "INFO:root:Using GPU\n"
     ]
    },
    {
     "name": "stdout",
     "output_type": "stream",
     "text": [
      "total:11, prediction_length:10\n",
      "top1acc= 0.33636363636363636 top1acc_farmost= 0.18181818181818182 top5acc= 0.5254545454545455 top5acc_farmost= 0.38181818181818183\n",
      "tau =  0.4808685965737821 rmse =  44.087230076436974\n",
      "model: curtrack\n",
      "predicting model=curtrack, plen=10\n",
      "loading model...done!, ctx:gpu(0)\n",
      "tss len=284, forecasts len=284\n"
     ]
    },
    {
     "name": "stderr",
     "output_type": "stream",
     "text": [
      "INFO:root:Using GPU\n"
     ]
    },
    {
     "name": "stdout",
     "output_type": "stream",
     "text": [
      "total:11, prediction_length:10\n",
      "top1acc= 0.36363636363636365 top1acc_farmost= 0.18181818181818182 top5acc= 0.4890909090909091 top5acc_farmost= 0.32727272727272727\n",
      "tau =  0.4745948588792844 rmse =  44.90800376507273\n",
      "model: zerotrack\n",
      "predicting model=zerotrack, plen=10\n",
      "loading model...done!, ctx:gpu(0)\n",
      "tss len=284, forecasts len=284\n"
     ]
    },
    {
     "name": "stderr",
     "output_type": "stream",
     "text": [
      "INFO:root:Using GPU\n"
     ]
    },
    {
     "name": "stdout",
     "output_type": "stream",
     "text": [
      "total:11, prediction_length:10\n",
      "top1acc= 0.3090909090909091 top1acc_farmost= 0.18181818181818182 top5acc= 0.4709090909090909 top5acc_farmost= 0.34545454545454546\n",
      "tau =  0.48183142282162483 rmse =  42.709943424391696\n",
      "==============================\n",
      "====event:Indy500, train_len=80, max_len=200, min_len=200\n",
      "carno:1, totallen:200, nancount:0, test_reccnt:11\n",
      "carno:3, totallen:146, nancount:54, test_reccnt:5\n",
      "carno:4, totallen:200, nancount:0, test_reccnt:11\n",
      "carno:6, totallen:200, nancount:0, test_reccnt:11\n",
      "carno:7, totallen:193, nancount:7, test_reccnt:10\n",
      "carno:9, totallen:200, nancount:0, test_reccnt:11\n",
      "a short ts: carid=10，len=57\n",
      "carno:12, totallen:200, nancount:0, test_reccnt:11\n",
      "a short ts: carid=13，len=67\n",
      "carno:14, totallen:187, nancount:13, test_reccnt:9\n",
      "carno:15, totallen:200, nancount:0, test_reccnt:11\n",
      "carno:17, totallen:199, nancount:1, test_reccnt:10\n",
      "carno:18, totallen:137, nancount:63, test_reccnt:4\n",
      "carno:19, totallen:199, nancount:1, test_reccnt:10\n",
      "carno:20, totallen:200, nancount:0, test_reccnt:11\n",
      "carno:21, totallen:199, nancount:1, test_reccnt:10\n",
      "carno:22, totallen:200, nancount:0, test_reccnt:11\n",
      "carno:23, totallen:200, nancount:0, test_reccnt:11\n",
      "carno:24, totallen:154, nancount:46, test_reccnt:6\n",
      "carno:25, totallen:200, nancount:0, test_reccnt:11\n",
      "carno:26, totallen:198, nancount:2, test_reccnt:10\n",
      "carno:27, totallen:200, nancount:0, test_reccnt:11\n",
      "carno:28, totallen:200, nancount:0, test_reccnt:11\n",
      "carno:29, totallen:200, nancount:0, test_reccnt:11\n",
      "a short ts: carid=30，len=46\n",
      "carno:32, totallen:110, nancount:90, test_reccnt:2\n",
      "a short ts: carid=33，len=46\n",
      "carno:59, totallen:198, nancount:2, test_reccnt:10\n",
      "carno:60, totallen:200, nancount:0, test_reccnt:11\n",
      "carno:64, totallen:200, nancount:0, test_reccnt:11\n",
      "carno:66, totallen:200, nancount:0, test_reccnt:11\n",
      "carno:88, totallen:200, nancount:0, test_reccnt:11\n",
      "carno:98, totallen:200, nancount:0, test_reccnt:11\n",
      "train len:0, test len:284\n",
      "model: oracle\n",
      "predicting model=oracle, plen=10\n",
      "loading model...done!, ctx:gpu(0)\n",
      "tss len=284, forecasts len=284\n"
     ]
    },
    {
     "name": "stderr",
     "output_type": "stream",
     "text": [
      "INFO:root:Using GPU\n"
     ]
    },
    {
     "name": "stdout",
     "output_type": "stream",
     "text": [
      "total:11, prediction_length:10\n",
      "top1acc= 0.3181818181818182 top1acc_farmost= 0.18181818181818182 top5acc= 0.4909090909090909 top5acc_farmost= 0.2909090909090909\n",
      "tau =  0.48208982362520597 rmse =  44.63392343544067\n",
      "model: curtrack\n",
      "predicting model=curtrack, plen=10\n",
      "loading model...done!, ctx:gpu(0)\n"
     ]
    },
    {
     "name": "stderr",
     "output_type": "stream",
     "text": [
      "INFO:root:Using GPU\n"
     ]
    },
    {
     "name": "stdout",
     "output_type": "stream",
     "text": [
      "tss len=284, forecasts len=284\n",
      "total:11, prediction_length:10\n",
      "top1acc= 0.3181818181818182 top1acc_farmost= 0.18181818181818182 top5acc= 0.4781818181818182 top5acc_farmost= 0.2909090909090909\n",
      "tau =  0.4750946307288137 rmse =  44.958498117463634\n",
      "model: zerotrack\n",
      "predicting model=zerotrack, plen=10\n",
      "loading model...done!, ctx:gpu(0)\n",
      "tss len=284, forecasts len=284\n"
     ]
    },
    {
     "name": "stderr",
     "output_type": "stream",
     "text": [
      "INFO:root:Using GPU\n"
     ]
    },
    {
     "name": "stdout",
     "output_type": "stream",
     "text": [
      "total:11, prediction_length:10\n",
      "top1acc= 0.2909090909090909 top1acc_farmost= 0.18181818181818182 top5acc= 0.4672727272727273 top5acc_farmost= 0.2909090909090909\n",
      "tau =  0.49250224916173413 rmse =  41.95958644803472\n",
      "==============================\n",
      "====event:Indy500, train_len=80, max_len=200, min_len=200\n",
      "carno:1, totallen:200, nancount:0, test_reccnt:11\n",
      "carno:3, totallen:146, nancount:54, test_reccnt:5\n",
      "carno:4, totallen:200, nancount:0, test_reccnt:11\n",
      "carno:6, totallen:200, nancount:0, test_reccnt:11\n",
      "carno:7, totallen:193, nancount:7, test_reccnt:10\n",
      "carno:9, totallen:200, nancount:0, test_reccnt:11\n",
      "a short ts: carid=10，len=57\n",
      "carno:12, totallen:200, nancount:0, test_reccnt:11\n",
      "a short ts: carid=13，len=67\n",
      "carno:14, totallen:187, nancount:13, test_reccnt:9\n",
      "carno:15, totallen:200, nancount:0, test_reccnt:11\n",
      "carno:17, totallen:199, nancount:1, test_reccnt:10\n",
      "carno:18, totallen:137, nancount:63, test_reccnt:4\n",
      "carno:19, totallen:199, nancount:1, test_reccnt:10\n",
      "carno:20, totallen:200, nancount:0, test_reccnt:11\n",
      "carno:21, totallen:199, nancount:1, test_reccnt:10\n",
      "carno:22, totallen:200, nancount:0, test_reccnt:11\n",
      "carno:23, totallen:200, nancount:0, test_reccnt:11\n",
      "carno:24, totallen:154, nancount:46, test_reccnt:6\n",
      "carno:25, totallen:200, nancount:0, test_reccnt:11\n",
      "carno:26, totallen:198, nancount:2, test_reccnt:10\n",
      "carno:27, totallen:200, nancount:0, test_reccnt:11\n",
      "carno:28, totallen:200, nancount:0, test_reccnt:11\n",
      "carno:29, totallen:200, nancount:0, test_reccnt:11\n",
      "a short ts: carid=30，len=46\n",
      "carno:32, totallen:110, nancount:90, test_reccnt:2\n",
      "a short ts: carid=33，len=46\n",
      "carno:59, totallen:198, nancount:2, test_reccnt:10\n",
      "carno:60, totallen:200, nancount:0, test_reccnt:11\n",
      "carno:64, totallen:200, nancount:0, test_reccnt:11\n",
      "carno:66, totallen:200, nancount:0, test_reccnt:11\n",
      "carno:88, totallen:200, nancount:0, test_reccnt:11\n",
      "carno:98, totallen:200, nancount:0, test_reccnt:11\n",
      "train len:0, test len:284\n",
      "model: oracle\n",
      "predicting model=oracle, plen=10\n",
      "loading model...done!, ctx:gpu(0)\n",
      "tss len=284, forecasts len=284\n"
     ]
    },
    {
     "name": "stderr",
     "output_type": "stream",
     "text": [
      "INFO:root:Using GPU\n"
     ]
    },
    {
     "name": "stdout",
     "output_type": "stream",
     "text": [
      "total:11, prediction_length:10\n",
      "top1acc= 0.36363636363636365 top1acc_farmost= 0.18181818181818182 top5acc= 0.49454545454545457 top5acc_farmost= 0.2909090909090909\n",
      "tau =  0.4621566136365326 rmse =  46.37081352236524\n",
      "model: curtrack\n",
      "predicting model=curtrack, plen=10\n",
      "loading model...done!, ctx:gpu(0)\n",
      "tss len=284, forecasts len=284\n"
     ]
    },
    {
     "name": "stderr",
     "output_type": "stream",
     "text": [
      "INFO:root:Using GPU\n"
     ]
    },
    {
     "name": "stdout",
     "output_type": "stream",
     "text": [
      "total:11, prediction_length:10\n",
      "top1acc= 0.3090909090909091 top1acc_farmost= 0.18181818181818182 top5acc= 0.5163636363636364 top5acc_farmost= 0.3090909090909091\n",
      "tau =  0.500816310692799 rmse =  42.622895612688716\n",
      "model: zerotrack\n",
      "predicting model=zerotrack, plen=10\n",
      "loading model...done!, ctx:gpu(0)\n",
      "tss len=284, forecasts len=284\n",
      "total:11, prediction_length:10\n",
      "top1acc= 0.3 top1acc_farmost= 0.18181818181818182 top5acc= 0.5290909090909091 top5acc_farmost= 0.34545454545454546\n",
      "tau =  0.5292066900941935 rmse =  38.25345446762688\n",
      "==============================\n",
      "====event:Indy500, train_len=80, max_len=200, min_len=200\n",
      "carno:1, totallen:200, nancount:0, test_reccnt:59\n",
      "carno:3, totallen:146, nancount:54, test_reccnt:32\n",
      "carno:4, totallen:200, nancount:0, test_reccnt:59\n",
      "carno:6, totallen:200, nancount:0, test_reccnt:59\n",
      "carno:7, totallen:193, nancount:7, test_reccnt:55\n",
      "carno:9, totallen:200, nancount:0, test_reccnt:59\n",
      "a short ts: carid=10，len=57\n",
      "carno:12, totallen:200, nancount:0, test_reccnt:59\n",
      "a short ts: carid=13，len=67\n",
      "carno:14, totallen:187, nancount:13, test_reccnt:52\n",
      "carno:15, totallen:200, nancount:0, test_reccnt:59\n",
      "carno:17, totallen:199, nancount:1, test_reccnt:58\n",
      "carno:18, totallen:137, nancount:63, test_reccnt:27\n",
      "carno:19, totallen:199, nancount:1, test_reccnt:58\n",
      "carno:20, totallen:200, nancount:0, test_reccnt:59\n"
     ]
    },
    {
     "name": "stderr",
     "output_type": "stream",
     "text": [
      "INFO:root:Using GPU\n"
     ]
    },
    {
     "name": "stdout",
     "output_type": "stream",
     "text": [
      "carno:21, totallen:199, nancount:1, test_reccnt:58\n",
      "carno:22, totallen:200, nancount:0, test_reccnt:59\n",
      "carno:23, totallen:200, nancount:0, test_reccnt:59\n",
      "carno:24, totallen:154, nancount:46, test_reccnt:36\n",
      "carno:25, totallen:200, nancount:0, test_reccnt:59\n",
      "carno:26, totallen:198, nancount:2, test_reccnt:58\n",
      "carno:27, totallen:200, nancount:0, test_reccnt:59\n",
      "carno:28, totallen:200, nancount:0, test_reccnt:59\n",
      "carno:29, totallen:200, nancount:0, test_reccnt:59\n",
      "a short ts: carid=30，len=46\n",
      "carno:32, totallen:110, nancount:90, test_reccnt:14\n",
      "a short ts: carid=33，len=46\n",
      "carno:59, totallen:198, nancount:2, test_reccnt:58\n",
      "carno:60, totallen:200, nancount:0, test_reccnt:59\n",
      "carno:64, totallen:200, nancount:0, test_reccnt:59\n",
      "carno:66, totallen:200, nancount:0, test_reccnt:59\n",
      "carno:88, totallen:200, nancount:0, test_reccnt:59\n",
      "carno:98, totallen:200, nancount:0, test_reccnt:59\n",
      "train len:0, test len:1568\n",
      "model: oracle\n",
      "predicting model=oracle, plen=2\n",
      "loading model...done!, ctx:gpu(0)\n",
      "tss len=1568, forecasts len=1568\n"
     ]
    },
    {
     "name": "stderr",
     "output_type": "stream",
     "text": [
      "INFO:root:Using GPU\n"
     ]
    },
    {
     "name": "stdout",
     "output_type": "stream",
     "text": [
      "total:59, prediction_length:2\n",
      "top1acc= 0.6610169491525424 top1acc_farmost= 0.6101694915254238 top5acc= 0.7932203389830509 top5acc_farmost= 0.7423728813559322\n",
      "tau =  0.8030534757455196 rmse =  14.97113417195089\n",
      "model: curtrack\n",
      "predicting model=curtrack, plen=2\n",
      "loading model...done!, ctx:gpu(0)\n",
      "tss len=1568, forecasts len=1568\n"
     ]
    },
    {
     "name": "stderr",
     "output_type": "stream",
     "text": [
      "INFO:root:Using GPU\n"
     ]
    },
    {
     "name": "stdout",
     "output_type": "stream",
     "text": [
      "total:59, prediction_length:2\n",
      "top1acc= 0.6101694915254238 top1acc_farmost= 0.5254237288135594 top5acc= 0.7915254237288135 top5acc_farmost= 0.7389830508474576\n",
      "tau =  0.8117734197015845 rmse =  14.300531070736643\n",
      "model: zerotrack\n",
      "predicting model=zerotrack, plen=2\n",
      "loading model...done!, ctx:gpu(0)\n",
      "tss len=1568, forecasts len=1568\n"
     ]
    },
    {
     "name": "stderr",
     "output_type": "stream",
     "text": [
      "INFO:root:Using GPU\n"
     ]
    },
    {
     "name": "stdout",
     "output_type": "stream",
     "text": [
      "total:59, prediction_length:2\n",
      "top1acc= 0.652542372881356 top1acc_farmost= 0.5932203389830508 top5acc= 0.8288135593220339 top5acc_farmost= 0.7796610169491526\n",
      "tau =  0.8286290841089785 rmse =  11.608231026816014\n",
      "==============================\n",
      "====event:Indy500, train_len=80, max_len=200, min_len=200\n",
      "carno:1, totallen:200, nancount:0, test_reccnt:59\n",
      "carno:3, totallen:146, nancount:54, test_reccnt:32\n",
      "carno:4, totallen:200, nancount:0, test_reccnt:59\n",
      "carno:6, totallen:200, nancount:0, test_reccnt:59\n",
      "carno:7, totallen:193, nancount:7, test_reccnt:55\n",
      "carno:9, totallen:200, nancount:0, test_reccnt:59\n",
      "a short ts: carid=10，len=57\n",
      "carno:12, totallen:200, nancount:0, test_reccnt:59\n",
      "a short ts: carid=13，len=67\n",
      "carno:14, totallen:187, nancount:13, test_reccnt:52\n",
      "carno:15, totallen:200, nancount:0, test_reccnt:59\n",
      "carno:17, totallen:199, nancount:1, test_reccnt:58\n",
      "carno:18, totallen:137, nancount:63, test_reccnt:27\n",
      "carno:19, totallen:199, nancount:1, test_reccnt:58\n",
      "carno:20, totallen:200, nancount:0, test_reccnt:59\n",
      "carno:21, totallen:199, nancount:1, test_reccnt:58\n",
      "carno:22, totallen:200, nancount:0, test_reccnt:59\n",
      "carno:23, totallen:200, nancount:0, test_reccnt:59\n",
      "carno:24, totallen:154, nancount:46, test_reccnt:36\n",
      "carno:25, totallen:200, nancount:0, test_reccnt:59\n",
      "carno:26, totallen:198, nancount:2, test_reccnt:58\n",
      "carno:27, totallen:200, nancount:0, test_reccnt:59\n",
      "carno:28, totallen:200, nancount:0, test_reccnt:59\n",
      "carno:29, totallen:200, nancount:0, test_reccnt:59\n",
      "a short ts: carid=30，len=46\n",
      "carno:32, totallen:110, nancount:90, test_reccnt:14\n",
      "a short ts: carid=33，len=46\n",
      "carno:59, totallen:198, nancount:2, test_reccnt:58\n",
      "carno:60, totallen:200, nancount:0, test_reccnt:59\n",
      "carno:64, totallen:200, nancount:0, test_reccnt:59\n",
      "carno:66, totallen:200, nancount:0, test_reccnt:59\n",
      "carno:88, totallen:200, nancount:0, test_reccnt:59\n",
      "carno:98, totallen:200, nancount:0, test_reccnt:59\n",
      "train len:0, test len:1568\n",
      "model: oracle\n",
      "predicting model=oracle, plen=2\n",
      "loading model...done!, ctx:gpu(0)\n",
      "tss len=1568, forecasts len=1568\n"
     ]
    },
    {
     "name": "stderr",
     "output_type": "stream",
     "text": [
      "INFO:root:Using GPU\n"
     ]
    },
    {
     "name": "stdout",
     "output_type": "stream",
     "text": [
      "total:59, prediction_length:2\n",
      "top1acc= 0.576271186440678 top1acc_farmost= 0.4915254237288136 top5acc= 0.7898305084745763 top5acc_farmost= 0.7220338983050848\n",
      "tau =  0.8036044719376809 rmse =  15.101141917503824\n",
      "model: curtrack\n",
      "predicting model=curtrack, plen=2\n",
      "loading model...done!, ctx:gpu(0)\n",
      "tss len=1568, forecasts len=1568\n"
     ]
    },
    {
     "name": "stderr",
     "output_type": "stream",
     "text": [
      "INFO:root:Using GPU\n"
     ]
    },
    {
     "name": "stdout",
     "output_type": "stream",
     "text": [
      "total:59, prediction_length:2\n",
      "top1acc= 0.6440677966101694 top1acc_farmost= 0.559322033898305 top5acc= 0.8067796610169492 top5acc_farmost= 0.7423728813559322\n",
      "tau =  0.8113024833060305 rmse =  14.776529645454387\n",
      "model: zerotrack\n",
      "predicting model=zerotrack, plen=2\n",
      "loading model...done!, ctx:gpu(0)\n",
      "tss len=1568, forecasts len=1568\n"
     ]
    },
    {
     "name": "stderr",
     "output_type": "stream",
     "text": [
      "INFO:root:Using GPU\n"
     ]
    },
    {
     "name": "stdout",
     "output_type": "stream",
     "text": [
      "total:59, prediction_length:2\n",
      "top1acc= 0.5423728813559322 top1acc_farmost= 0.4067796610169492 top5acc= 0.8033898305084746 top5acc_farmost= 0.735593220338983\n",
      "tau =  0.8363628017123527 rmse =  10.770298312795966\n",
      "==============================\n",
      "====event:Indy500, train_len=80, max_len=200, min_len=200\n",
      "carno:1, totallen:200, nancount:0, test_reccnt:59\n",
      "carno:3, totallen:146, nancount:54, test_reccnt:32\n",
      "carno:4, totallen:200, nancount:0, test_reccnt:59\n",
      "carno:6, totallen:200, nancount:0, test_reccnt:59\n",
      "carno:7, totallen:193, nancount:7, test_reccnt:55\n",
      "carno:9, totallen:200, nancount:0, test_reccnt:59\n",
      "a short ts: carid=10，len=57\n",
      "carno:12, totallen:200, nancount:0, test_reccnt:59\n",
      "a short ts: carid=13，len=67\n",
      "carno:14, totallen:187, nancount:13, test_reccnt:52\n",
      "carno:15, totallen:200, nancount:0, test_reccnt:59\n",
      "carno:17, totallen:199, nancount:1, test_reccnt:58\n",
      "carno:18, totallen:137, nancount:63, test_reccnt:27\n",
      "carno:19, totallen:199, nancount:1, test_reccnt:58\n",
      "carno:20, totallen:200, nancount:0, test_reccnt:59\n",
      "carno:21, totallen:199, nancount:1, test_reccnt:58\n",
      "carno:22, totallen:200, nancount:0, test_reccnt:59\n",
      "carno:23, totallen:200, nancount:0, test_reccnt:59\n",
      "carno:24, totallen:154, nancount:46, test_reccnt:36\n",
      "carno:25, totallen:200, nancount:0, test_reccnt:59\n",
      "carno:26, totallen:198, nancount:2, test_reccnt:58\n",
      "carno:27, totallen:200, nancount:0, test_reccnt:59\n",
      "carno:28, totallen:200, nancount:0, test_reccnt:59\n",
      "carno:29, totallen:200, nancount:0, test_reccnt:59\n",
      "a short ts: carid=30，len=46\n",
      "carno:32, totallen:110, nancount:90, test_reccnt:14\n",
      "a short ts: carid=33，len=46\n",
      "carno:59, totallen:198, nancount:2, test_reccnt:58\n",
      "carno:60, totallen:200, nancount:0, test_reccnt:59\n",
      "carno:64, totallen:200, nancount:0, test_reccnt:59\n",
      "carno:66, totallen:200, nancount:0, test_reccnt:59\n",
      "carno:88, totallen:200, nancount:0, test_reccnt:59\n",
      "carno:98, totallen:200, nancount:0, test_reccnt:59\n",
      "train len:0, test len:1568\n",
      "model: oracle\n",
      "predicting model=oracle, plen=2\n",
      "loading model...done!, ctx:gpu(0)\n",
      "tss len=1568, forecasts len=1568\n"
     ]
    },
    {
     "name": "stderr",
     "output_type": "stream",
     "text": [
      "INFO:root:Using GPU\n"
     ]
    },
    {
     "name": "stdout",
     "output_type": "stream",
     "text": [
      "total:59, prediction_length:2\n",
      "top1acc= 0.6779661016949152 top1acc_farmost= 0.6271186440677966 top5acc= 0.811864406779661 top5acc_farmost= 0.7661016949152543\n",
      "tau =  0.8027723528729543 rmse =  14.763843441009978\n",
      "model: curtrack\n",
      "predicting model=curtrack, plen=2\n",
      "loading model...done!, ctx:gpu(0)\n",
      "tss len=1568, forecasts len=1568\n"
     ]
    },
    {
     "name": "stderr",
     "output_type": "stream",
     "text": [
      "INFO:root:Using GPU\n"
     ]
    },
    {
     "name": "stdout",
     "output_type": "stream",
     "text": [
      "total:59, prediction_length:2\n",
      "top1acc= 0.6101694915254238 top1acc_farmost= 0.5084745762711864 top5acc= 0.7966101694915254 top5acc_farmost= 0.7389830508474576\n",
      "tau =  0.7957384853751935 rmse =  14.97837490357489\n",
      "model: zerotrack\n",
      "predicting model=zerotrack, plen=2\n",
      "loading model...done!, ctx:gpu(0)\n",
      "tss len=1568, forecasts len=1568\n"
     ]
    },
    {
     "name": "stderr",
     "output_type": "stream",
     "text": [
      "INFO:root:Using GPU\n"
     ]
    },
    {
     "name": "stdout",
     "output_type": "stream",
     "text": [
      "total:59, prediction_length:2\n",
      "top1acc= 0.5677966101694916 top1acc_farmost= 0.4576271186440678 top5acc= 0.8322033898305085 top5acc_farmost= 0.7830508474576271\n",
      "tau =  0.8415631036877643 rmse =  10.249906186990527\n",
      "==============================\n",
      "====event:Indy500, train_len=80, max_len=200, min_len=200\n",
      "carno:1, totallen:200, nancount:0, test_reccnt:23\n",
      "carno:3, totallen:146, nancount:54, test_reccnt:12\n",
      "carno:4, totallen:200, nancount:0, test_reccnt:23\n",
      "carno:6, totallen:200, nancount:0, test_reccnt:23\n",
      "carno:7, totallen:193, nancount:7, test_reccnt:21\n",
      "carno:9, totallen:200, nancount:0, test_reccnt:23\n",
      "a short ts: carid=10，len=57\n",
      "carno:12, totallen:200, nancount:0, test_reccnt:23\n",
      "a short ts: carid=13，len=67\n",
      "carno:14, totallen:187, nancount:13, test_reccnt:20\n",
      "carno:15, totallen:200, nancount:0, test_reccnt:23\n",
      "carno:17, totallen:199, nancount:1, test_reccnt:22\n",
      "carno:18, totallen:137, nancount:63, test_reccnt:10\n",
      "carno:19, totallen:199, nancount:1, test_reccnt:22\n",
      "carno:20, totallen:200, nancount:0, test_reccnt:23\n",
      "carno:21, totallen:199, nancount:1, test_reccnt:22\n",
      "carno:22, totallen:200, nancount:0, test_reccnt:23\n",
      "carno:23, totallen:200, nancount:0, test_reccnt:23\n",
      "carno:24, totallen:154, nancount:46, test_reccnt:13\n",
      "carno:25, totallen:200, nancount:0, test_reccnt:23\n",
      "carno:26, totallen:198, nancount:2, test_reccnt:22\n",
      "carno:27, totallen:200, nancount:0, test_reccnt:23\n",
      "carno:28, totallen:200, nancount:0, test_reccnt:23\n",
      "carno:29, totallen:200, nancount:0, test_reccnt:23\n",
      "a short ts: carid=30，len=46\n",
      "carno:32, totallen:110, nancount:90, test_reccnt:5\n",
      "a short ts: carid=33，len=46\n",
      "carno:59, totallen:198, nancount:2, test_reccnt:22\n",
      "carno:60, totallen:200, nancount:0, test_reccnt:23\n",
      "carno:64, totallen:200, nancount:0, test_reccnt:23\n",
      "carno:66, totallen:200, nancount:0, test_reccnt:23\n",
      "carno:88, totallen:200, nancount:0, test_reccnt:23\n",
      "carno:98, totallen:200, nancount:0, test_reccnt:23\n",
      "train len:0, test len:605\n",
      "model: oracle\n",
      "predicting model=oracle, plen=5\n",
      "loading model...done!, ctx:gpu(0)\n",
      "tss len=605, forecasts len=605\n"
     ]
    },
    {
     "name": "stderr",
     "output_type": "stream",
     "text": [
      "INFO:root:Using GPU\n"
     ]
    },
    {
     "name": "stdout",
     "output_type": "stream",
     "text": [
      "total:23, prediction_length:5\n",
      "top1acc= 0.46956521739130436 top1acc_farmost= 0.34782608695652173 top5acc= 0.6278260869565218 top5acc_farmost= 0.5130434782608696\n",
      "tau =  0.658051746492552 rmse =  29.368070738639275\n",
      "model: curtrack\n",
      "predicting model=curtrack, plen=5\n",
      "loading model...done!, ctx:gpu(0)\n",
      "tss len=605, forecasts len=605\n"
     ]
    },
    {
     "name": "stderr",
     "output_type": "stream",
     "text": [
      "INFO:root:Using GPU\n"
     ]
    },
    {
     "name": "stdout",
     "output_type": "stream",
     "text": [
      "total:23, prediction_length:5\n",
      "top1acc= 0.5304347826086957 top1acc_farmost= 0.391304347826087 top5acc= 0.6330434782608696 top5acc_farmost= 0.5217391304347826\n",
      "tau =  0.661204529038222 rmse =  29.056781291575373\n",
      "model: zerotrack\n",
      "predicting model=zerotrack, plen=5\n",
      "loading model...done!, ctx:gpu(0)\n",
      "tss len=605, forecasts len=605\n"
     ]
    },
    {
     "name": "stderr",
     "output_type": "stream",
     "text": [
      "INFO:root:Using GPU\n"
     ]
    },
    {
     "name": "stdout",
     "output_type": "stream",
     "text": [
      "total:23, prediction_length:5\n",
      "top1acc= 0.4434782608695652 top1acc_farmost= 0.34782608695652173 top5acc= 0.591304347826087 top5acc_farmost= 0.4608695652173913\n",
      "tau =  0.6453921657038977 rmse =  29.366564704641366\n",
      "==============================\n",
      "====event:Indy500, train_len=80, max_len=200, min_len=200\n",
      "carno:1, totallen:200, nancount:0, test_reccnt:23\n",
      "carno:3, totallen:146, nancount:54, test_reccnt:12\n",
      "carno:4, totallen:200, nancount:0, test_reccnt:23\n",
      "carno:6, totallen:200, nancount:0, test_reccnt:23\n",
      "carno:7, totallen:193, nancount:7, test_reccnt:21\n",
      "carno:9, totallen:200, nancount:0, test_reccnt:23\n",
      "a short ts: carid=10，len=57\n",
      "carno:12, totallen:200, nancount:0, test_reccnt:23\n",
      "a short ts: carid=13，len=67\n",
      "carno:14, totallen:187, nancount:13, test_reccnt:20\n",
      "carno:15, totallen:200, nancount:0, test_reccnt:23\n",
      "carno:17, totallen:199, nancount:1, test_reccnt:22\n",
      "carno:18, totallen:137, nancount:63, test_reccnt:10\n",
      "carno:19, totallen:199, nancount:1, test_reccnt:22\n",
      "carno:20, totallen:200, nancount:0, test_reccnt:23\n",
      "carno:21, totallen:199, nancount:1, test_reccnt:22\n",
      "carno:22, totallen:200, nancount:0, test_reccnt:23\n",
      "carno:23, totallen:200, nancount:0, test_reccnt:23\n",
      "carno:24, totallen:154, nancount:46, test_reccnt:13\n",
      "carno:25, totallen:200, nancount:0, test_reccnt:23\n",
      "carno:26, totallen:198, nancount:2, test_reccnt:22\n",
      "carno:27, totallen:200, nancount:0, test_reccnt:23\n",
      "carno:28, totallen:200, nancount:0, test_reccnt:23\n",
      "carno:29, totallen:200, nancount:0, test_reccnt:23\n",
      "a short ts: carid=30，len=46\n",
      "carno:32, totallen:110, nancount:90, test_reccnt:5\n",
      "a short ts: carid=33，len=46\n",
      "carno:59, totallen:198, nancount:2, test_reccnt:22\n",
      "carno:60, totallen:200, nancount:0, test_reccnt:23\n",
      "carno:64, totallen:200, nancount:0, test_reccnt:23\n",
      "carno:66, totallen:200, nancount:0, test_reccnt:23\n",
      "carno:88, totallen:200, nancount:0, test_reccnt:23\n",
      "carno:98, totallen:200, nancount:0, test_reccnt:23\n",
      "train len:0, test len:605\n",
      "model: oracle\n",
      "predicting model=oracle, plen=5\n",
      "loading model...done!, ctx:gpu(0)\n",
      "tss len=605, forecasts len=605\n"
     ]
    },
    {
     "name": "stderr",
     "output_type": "stream",
     "text": [
      "INFO:root:Using GPU\n"
     ]
    },
    {
     "name": "stdout",
     "output_type": "stream",
     "text": [
      "total:23, prediction_length:5\n",
      "top1acc= 0.4260869565217391 top1acc_farmost= 0.34782608695652173 top5acc= 0.6017391304347826 top5acc_farmost= 0.48695652173913045\n",
      "tau =  0.661736122183049 rmse =  28.849712064655684\n",
      "model: curtrack\n",
      "predicting model=curtrack, plen=5\n",
      "loading model...done!, ctx:gpu(0)\n",
      "tss len=605, forecasts len=605\n"
     ]
    },
    {
     "name": "stderr",
     "output_type": "stream",
     "text": [
      "INFO:root:Using GPU\n"
     ]
    },
    {
     "name": "stdout",
     "output_type": "stream",
     "text": [
      "total:23, prediction_length:5\n",
      "top1acc= 0.4260869565217391 top1acc_farmost= 0.34782608695652173 top5acc= 0.6034782608695652 top5acc_farmost= 0.4956521739130435\n",
      "tau =  0.6533254705452577 rmse =  29.98070734054855\n",
      "model: zerotrack\n",
      "predicting model=zerotrack, plen=5\n",
      "loading model...done!, ctx:gpu(0)\n",
      "tss len=605, forecasts len=605\n"
     ]
    },
    {
     "name": "stderr",
     "output_type": "stream",
     "text": [
      "INFO:root:Using GPU\n"
     ]
    },
    {
     "name": "stdout",
     "output_type": "stream",
     "text": [
      "total:23, prediction_length:5\n",
      "top1acc= 0.4260869565217391 top1acc_farmost= 0.30434782608695654 top5acc= 0.5982608695652174 top5acc_farmost= 0.46956521739130436\n",
      "tau =  0.6477519615044678 rmse =  28.71878295178471\n",
      "==============================\n",
      "====event:Indy500, train_len=80, max_len=200, min_len=200\n",
      "carno:1, totallen:200, nancount:0, test_reccnt:23\n",
      "carno:3, totallen:146, nancount:54, test_reccnt:12\n",
      "carno:4, totallen:200, nancount:0, test_reccnt:23\n",
      "carno:6, totallen:200, nancount:0, test_reccnt:23\n",
      "carno:7, totallen:193, nancount:7, test_reccnt:21\n",
      "carno:9, totallen:200, nancount:0, test_reccnt:23\n",
      "a short ts: carid=10，len=57\n",
      "carno:12, totallen:200, nancount:0, test_reccnt:23\n",
      "a short ts: carid=13，len=67\n",
      "carno:14, totallen:187, nancount:13, test_reccnt:20\n",
      "carno:15, totallen:200, nancount:0, test_reccnt:23\n",
      "carno:17, totallen:199, nancount:1, test_reccnt:22\n",
      "carno:18, totallen:137, nancount:63, test_reccnt:10\n",
      "carno:19, totallen:199, nancount:1, test_reccnt:22\n",
      "carno:20, totallen:200, nancount:0, test_reccnt:23\n",
      "carno:21, totallen:199, nancount:1, test_reccnt:22\n",
      "carno:22, totallen:200, nancount:0, test_reccnt:23\n",
      "carno:23, totallen:200, nancount:0, test_reccnt:23\n",
      "carno:24, totallen:154, nancount:46, test_reccnt:13\n",
      "carno:25, totallen:200, nancount:0, test_reccnt:23\n",
      "carno:26, totallen:198, nancount:2, test_reccnt:22\n",
      "carno:27, totallen:200, nancount:0, test_reccnt:23\n",
      "carno:28, totallen:200, nancount:0, test_reccnt:23\n",
      "carno:29, totallen:200, nancount:0, test_reccnt:23\n",
      "a short ts: carid=30，len=46\n",
      "carno:32, totallen:110, nancount:90, test_reccnt:5\n",
      "a short ts: carid=33，len=46\n",
      "carno:59, totallen:198, nancount:2, test_reccnt:22\n",
      "carno:60, totallen:200, nancount:0, test_reccnt:23\n",
      "carno:64, totallen:200, nancount:0, test_reccnt:23\n",
      "carno:66, totallen:200, nancount:0, test_reccnt:23\n",
      "carno:88, totallen:200, nancount:0, test_reccnt:23\n",
      "carno:98, totallen:200, nancount:0, test_reccnt:23\n",
      "train len:0, test len:605\n",
      "model: oracle\n",
      "predicting model=oracle, plen=5\n",
      "loading model...done!, ctx:gpu(0)\n",
      "tss len=605, forecasts len=605\n"
     ]
    },
    {
     "name": "stderr",
     "output_type": "stream",
     "text": [
      "INFO:root:Using GPU\n"
     ]
    },
    {
     "name": "stdout",
     "output_type": "stream",
     "text": [
      "total:23, prediction_length:5\n",
      "top1acc= 0.4 top1acc_farmost= 0.34782608695652173 top5acc= 0.6139130434782609 top5acc_farmost= 0.5043478260869565\n",
      "tau =  0.6500921708836647 rmse =  30.38018944182949\n",
      "model: curtrack\n",
      "predicting model=curtrack, plen=5\n",
      "loading model...done!, ctx:gpu(0)\n",
      "tss len=605, forecasts len=605\n"
     ]
    },
    {
     "name": "stderr",
     "output_type": "stream",
     "text": [
      "INFO:root:Using GPU\n"
     ]
    },
    {
     "name": "stdout",
     "output_type": "stream",
     "text": [
      "total:23, prediction_length:5\n",
      "top1acc= 0.43478260869565216 top1acc_farmost= 0.30434782608695654 top5acc= 0.5895652173913043 top5acc_farmost= 0.45217391304347826\n",
      "tau =  0.6332447126622166 rmse =  32.077532707182534\n",
      "model: zerotrack\n",
      "predicting model=zerotrack, plen=5\n",
      "loading model...done!, ctx:gpu(0)\n",
      "tss len=605, forecasts len=605\n"
     ]
    },
    {
     "name": "stderr",
     "output_type": "stream",
     "text": [
      "INFO:root:Using GPU\n"
     ]
    },
    {
     "name": "stdout",
     "output_type": "stream",
     "text": [
      "total:23, prediction_length:5\n",
      "top1acc= 0.40869565217391307 top1acc_farmost= 0.2608695652173913 top5acc= 0.5982608695652174 top5acc_farmost= 0.45217391304347826\n",
      "tau =  0.6314253674360486 rmse =  30.341451104675404\n",
      "==============================\n",
      "====event:Indy500, train_len=80, max_len=200, min_len=200\n",
      "carno:1, totallen:200, nancount:0, test_reccnt:11\n",
      "carno:3, totallen:146, nancount:54, test_reccnt:5\n",
      "carno:4, totallen:200, nancount:0, test_reccnt:11\n",
      "carno:6, totallen:200, nancount:0, test_reccnt:11\n",
      "carno:7, totallen:193, nancount:7, test_reccnt:10\n",
      "carno:9, totallen:200, nancount:0, test_reccnt:11\n",
      "a short ts: carid=10，len=57\n",
      "carno:12, totallen:200, nancount:0, test_reccnt:11\n",
      "a short ts: carid=13，len=67\n",
      "carno:14, totallen:187, nancount:13, test_reccnt:9\n",
      "carno:15, totallen:200, nancount:0, test_reccnt:11\n",
      "carno:17, totallen:199, nancount:1, test_reccnt:10\n",
      "carno:18, totallen:137, nancount:63, test_reccnt:4\n",
      "carno:19, totallen:199, nancount:1, test_reccnt:10\n",
      "carno:20, totallen:200, nancount:0, test_reccnt:11\n",
      "carno:21, totallen:199, nancount:1, test_reccnt:10\n",
      "carno:22, totallen:200, nancount:0, test_reccnt:11\n",
      "carno:23, totallen:200, nancount:0, test_reccnt:11\n",
      "carno:24, totallen:154, nancount:46, test_reccnt:6\n",
      "carno:25, totallen:200, nancount:0, test_reccnt:11\n",
      "carno:26, totallen:198, nancount:2, test_reccnt:10\n",
      "carno:27, totallen:200, nancount:0, test_reccnt:11\n",
      "carno:28, totallen:200, nancount:0, test_reccnt:11\n",
      "carno:29, totallen:200, nancount:0, test_reccnt:11\n",
      "a short ts: carid=30，len=46\n",
      "carno:32, totallen:110, nancount:90, test_reccnt:2\n",
      "a short ts: carid=33，len=46\n",
      "carno:59, totallen:198, nancount:2, test_reccnt:10\n",
      "carno:60, totallen:200, nancount:0, test_reccnt:11\n",
      "carno:64, totallen:200, nancount:0, test_reccnt:11\n",
      "carno:66, totallen:200, nancount:0, test_reccnt:11\n",
      "carno:88, totallen:200, nancount:0, test_reccnt:11\n",
      "carno:98, totallen:200, nancount:0, test_reccnt:11\n",
      "train len:0, test len:284\n",
      "model: oracle\n",
      "predicting model=oracle, plen=10\n",
      "loading model...done!, ctx:gpu(0)\n",
      "tss len=284, forecasts len=284\n"
     ]
    },
    {
     "name": "stderr",
     "output_type": "stream",
     "text": [
      "INFO:root:Using GPU\n"
     ]
    },
    {
     "name": "stdout",
     "output_type": "stream",
     "text": [
      "total:11, prediction_length:10\n",
      "top1acc= 0.36363636363636365 top1acc_farmost= 0.18181818181818182 top5acc= 0.5163636363636364 top5acc_farmost= 0.36363636363636365\n",
      "tau =  0.47833613127293345 rmse =  44.00809988606541\n",
      "model: curtrack\n",
      "predicting model=curtrack, plen=10\n",
      "loading model...done!, ctx:gpu(0)\n",
      "tss len=284, forecasts len=284\n"
     ]
    },
    {
     "name": "stderr",
     "output_type": "stream",
     "text": [
      "INFO:root:Using GPU\n"
     ]
    },
    {
     "name": "stdout",
     "output_type": "stream",
     "text": [
      "total:11, prediction_length:10\n",
      "top1acc= 0.33636363636363636 top1acc_farmost= 0.18181818181818182 top5acc= 0.49454545454545457 top5acc_farmost= 0.32727272727272727\n",
      "tau =  0.4773683432695515 rmse =  44.090776439397125\n",
      "model: zerotrack\n",
      "predicting model=zerotrack, plen=10\n",
      "loading model...done!, ctx:gpu(0)\n",
      "tss len=284, forecasts len=284\n"
     ]
    },
    {
     "name": "stderr",
     "output_type": "stream",
     "text": [
      "INFO:root:Using GPU\n"
     ]
    },
    {
     "name": "stdout",
     "output_type": "stream",
     "text": [
      "total:11, prediction_length:10\n",
      "top1acc= 0.3090909090909091 top1acc_farmost= 0.18181818181818182 top5acc= 0.4690909090909091 top5acc_farmost= 0.3090909090909091\n",
      "tau =  0.4975098394561574 rmse =  41.87032352066835\n",
      "==============================\n",
      "====event:Indy500, train_len=80, max_len=200, min_len=200\n",
      "carno:1, totallen:200, nancount:0, test_reccnt:11\n",
      "carno:3, totallen:146, nancount:54, test_reccnt:5\n",
      "carno:4, totallen:200, nancount:0, test_reccnt:11\n",
      "carno:6, totallen:200, nancount:0, test_reccnt:11\n",
      "carno:7, totallen:193, nancount:7, test_reccnt:10\n",
      "carno:9, totallen:200, nancount:0, test_reccnt:11\n",
      "a short ts: carid=10，len=57\n",
      "carno:12, totallen:200, nancount:0, test_reccnt:11\n",
      "a short ts: carid=13，len=67\n",
      "carno:14, totallen:187, nancount:13, test_reccnt:9\n",
      "carno:15, totallen:200, nancount:0, test_reccnt:11\n",
      "carno:17, totallen:199, nancount:1, test_reccnt:10\n",
      "carno:18, totallen:137, nancount:63, test_reccnt:4\n",
      "carno:19, totallen:199, nancount:1, test_reccnt:10\n",
      "carno:20, totallen:200, nancount:0, test_reccnt:11\n",
      "carno:21, totallen:199, nancount:1, test_reccnt:10\n",
      "carno:22, totallen:200, nancount:0, test_reccnt:11\n",
      "carno:23, totallen:200, nancount:0, test_reccnt:11\n",
      "carno:24, totallen:154, nancount:46, test_reccnt:6\n",
      "carno:25, totallen:200, nancount:0, test_reccnt:11\n",
      "carno:26, totallen:198, nancount:2, test_reccnt:10\n",
      "carno:27, totallen:200, nancount:0, test_reccnt:11\n",
      "carno:28, totallen:200, nancount:0, test_reccnt:11\n",
      "carno:29, totallen:200, nancount:0, test_reccnt:11\n",
      "a short ts: carid=30，len=46\n",
      "carno:32, totallen:110, nancount:90, test_reccnt:2\n",
      "a short ts: carid=33，len=46\n",
      "carno:59, totallen:198, nancount:2, test_reccnt:10\n",
      "carno:60, totallen:200, nancount:0, test_reccnt:11\n",
      "carno:64, totallen:200, nancount:0, test_reccnt:11\n",
      "carno:66, totallen:200, nancount:0, test_reccnt:11\n",
      "carno:88, totallen:200, nancount:0, test_reccnt:11\n",
      "carno:98, totallen:200, nancount:0, test_reccnt:11\n",
      "train len:0, test len:284\n",
      "model: oracle\n",
      "predicting model=oracle, plen=10\n",
      "loading model...done!, ctx:gpu(0)\n",
      "tss len=284, forecasts len=284\n"
     ]
    },
    {
     "name": "stderr",
     "output_type": "stream",
     "text": [
      "INFO:root:Using GPU\n"
     ]
    },
    {
     "name": "stdout",
     "output_type": "stream",
     "text": [
      "total:11, prediction_length:10\n",
      "top1acc= 0.3181818181818182 top1acc_farmost= 0.18181818181818182 top5acc= 0.48363636363636364 top5acc_farmost= 0.2545454545454545\n",
      "tau =  0.48057864931056576 rmse =  44.54954381506105\n",
      "model: curtrack\n",
      "predicting model=curtrack, plen=10\n",
      "loading model...done!, ctx:gpu(0)\n",
      "tss len=284, forecasts len=284\n"
     ]
    },
    {
     "name": "stderr",
     "output_type": "stream",
     "text": [
      "INFO:root:Using GPU\n"
     ]
    },
    {
     "name": "stdout",
     "output_type": "stream",
     "text": [
      "total:11, prediction_length:10\n",
      "top1acc= 0.2909090909090909 top1acc_farmost= 0.18181818181818182 top5acc= 0.47454545454545455 top5acc_farmost= 0.2909090909090909\n",
      "tau =  0.485119877819084 rmse =  43.68626686085306\n",
      "model: zerotrack\n",
      "predicting model=zerotrack, plen=10\n",
      "loading model...done!, ctx:gpu(0)\n",
      "tss len=284, forecasts len=284\n"
     ]
    },
    {
     "name": "stderr",
     "output_type": "stream",
     "text": [
      "INFO:root:Using GPU\n"
     ]
    },
    {
     "name": "stdout",
     "output_type": "stream",
     "text": [
      "total:11, prediction_length:10\n",
      "top1acc= 0.3090909090909091 top1acc_farmost= 0.18181818181818182 top5acc= 0.4709090909090909 top5acc_farmost= 0.3090909090909091\n",
      "tau =  0.4798979774071229 rmse =  42.9337528933391\n",
      "==============================\n",
      "====event:Indy500, train_len=80, max_len=200, min_len=200\n",
      "carno:1, totallen:200, nancount:0, test_reccnt:11\n",
      "carno:3, totallen:146, nancount:54, test_reccnt:5\n",
      "carno:4, totallen:200, nancount:0, test_reccnt:11\n",
      "carno:6, totallen:200, nancount:0, test_reccnt:11\n",
      "carno:7, totallen:193, nancount:7, test_reccnt:10\n",
      "carno:9, totallen:200, nancount:0, test_reccnt:11\n",
      "a short ts: carid=10，len=57\n",
      "carno:12, totallen:200, nancount:0, test_reccnt:11\n",
      "a short ts: carid=13，len=67\n",
      "carno:14, totallen:187, nancount:13, test_reccnt:9\n",
      "carno:15, totallen:200, nancount:0, test_reccnt:11\n",
      "carno:17, totallen:199, nancount:1, test_reccnt:10\n",
      "carno:18, totallen:137, nancount:63, test_reccnt:4\n",
      "carno:19, totallen:199, nancount:1, test_reccnt:10\n",
      "carno:20, totallen:200, nancount:0, test_reccnt:11\n",
      "carno:21, totallen:199, nancount:1, test_reccnt:10\n",
      "carno:22, totallen:200, nancount:0, test_reccnt:11\n",
      "carno:23, totallen:200, nancount:0, test_reccnt:11\n",
      "carno:24, totallen:154, nancount:46, test_reccnt:6\n",
      "carno:25, totallen:200, nancount:0, test_reccnt:11\n",
      "carno:26, totallen:198, nancount:2, test_reccnt:10\n",
      "carno:27, totallen:200, nancount:0, test_reccnt:11\n",
      "carno:28, totallen:200, nancount:0, test_reccnt:11\n",
      "carno:29, totallen:200, nancount:0, test_reccnt:11\n",
      "a short ts: carid=30，len=46\n",
      "carno:32, totallen:110, nancount:90, test_reccnt:2\n",
      "a short ts: carid=33，len=46\n",
      "carno:59, totallen:198, nancount:2, test_reccnt:10\n",
      "carno:60, totallen:200, nancount:0, test_reccnt:11\n",
      "carno:64, totallen:200, nancount:0, test_reccnt:11\n",
      "carno:66, totallen:200, nancount:0, test_reccnt:11\n",
      "carno:88, totallen:200, nancount:0, test_reccnt:11\n",
      "carno:98, totallen:200, nancount:0, test_reccnt:11\n",
      "train len:0, test len:284\n",
      "model: oracle\n",
      "predicting model=oracle, plen=10\n",
      "loading model...done!, ctx:gpu(0)\n",
      "tss len=284, forecasts len=284\n"
     ]
    },
    {
     "name": "stderr",
     "output_type": "stream",
     "text": [
      "INFO:root:Using GPU\n"
     ]
    },
    {
     "name": "stdout",
     "output_type": "stream",
     "text": [
      "total:11, prediction_length:10\n",
      "top1acc= 0.39090909090909093 top1acc_farmost= 0.2727272727272727 top5acc= 0.5109090909090909 top5acc_farmost= 0.3090909090909091\n",
      "tau =  0.4826886624828594 rmse =  44.30716360395672\n",
      "model: curtrack\n",
      "predicting model=curtrack, plen=10\n",
      "loading model...done!, ctx:gpu(0)\n",
      "tss len=284, forecasts len=284\n"
     ]
    },
    {
     "name": "stderr",
     "output_type": "stream",
     "text": [
      "INFO:root:Using GPU\n"
     ]
    },
    {
     "name": "stdout",
     "output_type": "stream",
     "text": [
      "total:11, prediction_length:10\n",
      "top1acc= 0.39090909090909093 top1acc_farmost= 0.2727272727272727 top5acc= 0.48545454545454547 top5acc_farmost= 0.32727272727272727\n",
      "tau =  0.5003067144932035 rmse =  42.50927063230511\n",
      "model: zerotrack\n",
      "predicting model=zerotrack, plen=10\n",
      "loading model...done!, ctx:gpu(0)\n",
      "tss len=284, forecasts len=284\n",
      "total:11, prediction_length:10\n",
      "top1acc= 0.3 top1acc_farmost= 0.18181818181818182 top5acc= 0.5163636363636364 top5acc_farmost= 0.36363636363636365\n",
      "tau =  0.5453635100812277 rmse =  37.09305972061144\n"
     ]
    },
    {
     "name": "stderr",
     "output_type": "stream",
     "text": [
      "INFO:root:Using GPU\n"
     ]
    },
    {
     "name": "stdout",
     "output_type": "stream",
     "text": [
      "==============================\n",
      "====event:Indy500, train_len=80, max_len=200, min_len=200\n",
      "carno:1, totallen:200, nancount:0, test_reccnt:59\n",
      "carno:3, totallen:146, nancount:54, test_reccnt:32\n",
      "carno:4, totallen:200, nancount:0, test_reccnt:59\n",
      "carno:6, totallen:200, nancount:0, test_reccnt:59\n",
      "carno:7, totallen:193, nancount:7, test_reccnt:55\n",
      "carno:9, totallen:200, nancount:0, test_reccnt:59\n",
      "a short ts: carid=10，len=57\n",
      "carno:12, totallen:200, nancount:0, test_reccnt:59\n",
      "a short ts: carid=13，len=67\n",
      "carno:14, totallen:187, nancount:13, test_reccnt:52\n",
      "carno:15, totallen:200, nancount:0, test_reccnt:59\n",
      "carno:17, totallen:199, nancount:1, test_reccnt:58\n",
      "carno:18, totallen:137, nancount:63, test_reccnt:27\n",
      "carno:19, totallen:199, nancount:1, test_reccnt:58\n",
      "carno:20, totallen:200, nancount:0, test_reccnt:59\n",
      "carno:21, totallen:199, nancount:1, test_reccnt:58\n",
      "carno:22, totallen:200, nancount:0, test_reccnt:59\n",
      "carno:23, totallen:200, nancount:0, test_reccnt:59\n",
      "carno:24, totallen:154, nancount:46, test_reccnt:36\n",
      "carno:25, totallen:200, nancount:0, test_reccnt:59\n",
      "carno:26, totallen:198, nancount:2, test_reccnt:58\n",
      "carno:27, totallen:200, nancount:0, test_reccnt:59\n",
      "carno:28, totallen:200, nancount:0, test_reccnt:59\n",
      "carno:29, totallen:200, nancount:0, test_reccnt:59\n",
      "a short ts: carid=30，len=46\n",
      "carno:32, totallen:110, nancount:90, test_reccnt:14\n",
      "a short ts: carid=33，len=46\n",
      "carno:59, totallen:198, nancount:2, test_reccnt:58\n",
      "carno:60, totallen:200, nancount:0, test_reccnt:59\n",
      "carno:64, totallen:200, nancount:0, test_reccnt:59\n",
      "carno:66, totallen:200, nancount:0, test_reccnt:59\n",
      "carno:88, totallen:200, nancount:0, test_reccnt:59\n",
      "carno:98, totallen:200, nancount:0, test_reccnt:59\n",
      "train len:0, test len:1568\n",
      "model: oracle\n",
      "predicting model=oracle, plen=2\n",
      "loading model...done!, ctx:gpu(0)\n",
      "tss len=1568, forecasts len=1568\n"
     ]
    },
    {
     "name": "stderr",
     "output_type": "stream",
     "text": [
      "INFO:root:Using GPU\n"
     ]
    },
    {
     "name": "stdout",
     "output_type": "stream",
     "text": [
      "total:59, prediction_length:2\n",
      "top1acc= 0.6271186440677966 top1acc_farmost= 0.5254237288135594 top5acc= 0.7864406779661017 top5acc_farmost= 0.7254237288135593\n",
      "tau =  0.7971808558226366 rmse =  15.796220560535737\n",
      "model: curtrack\n",
      "predicting model=curtrack, plen=2\n",
      "loading model...done!, ctx:gpu(0)\n",
      "tss len=1568, forecasts len=1568\n"
     ]
    },
    {
     "name": "stderr",
     "output_type": "stream",
     "text": [
      "INFO:root:Using GPU\n"
     ]
    },
    {
     "name": "stdout",
     "output_type": "stream",
     "text": [
      "total:59, prediction_length:2\n",
      "top1acc= 0.5847457627118644 top1acc_farmost= 0.4915254237288136 top5acc= 0.7915254237288135 top5acc_farmost= 0.7389830508474576\n",
      "tau =  0.8049324425706265 rmse =  15.162468496976029\n",
      "model: zerotrack\n",
      "predicting model=zerotrack, plen=2\n",
      "loading model...done!, ctx:gpu(0)\n",
      "tss len=1568, forecasts len=1568\n"
     ]
    },
    {
     "name": "stderr",
     "output_type": "stream",
     "text": [
      "INFO:root:Using GPU\n"
     ]
    },
    {
     "name": "stdout",
     "output_type": "stream",
     "text": [
      "total:59, prediction_length:2\n",
      "top1acc= 0.5847457627118644 top1acc_farmost= 0.5254237288135594 top5acc= 0.8169491525423729 top5acc_farmost= 0.7661016949152543\n",
      "tau =  0.8283531836943713 rmse =  11.323380967573781\n",
      "==============================\n",
      "====event:Indy500, train_len=80, max_len=200, min_len=200\n",
      "carno:1, totallen:200, nancount:0, test_reccnt:59\n",
      "carno:3, totallen:146, nancount:54, test_reccnt:32\n",
      "carno:4, totallen:200, nancount:0, test_reccnt:59\n",
      "carno:6, totallen:200, nancount:0, test_reccnt:59\n",
      "carno:7, totallen:193, nancount:7, test_reccnt:55\n",
      "carno:9, totallen:200, nancount:0, test_reccnt:59\n",
      "a short ts: carid=10，len=57\n",
      "carno:12, totallen:200, nancount:0, test_reccnt:59\n",
      "a short ts: carid=13，len=67\n",
      "carno:14, totallen:187, nancount:13, test_reccnt:52\n",
      "carno:15, totallen:200, nancount:0, test_reccnt:59\n",
      "carno:17, totallen:199, nancount:1, test_reccnt:58\n",
      "carno:18, totallen:137, nancount:63, test_reccnt:27\n",
      "carno:19, totallen:199, nancount:1, test_reccnt:58\n",
      "carno:20, totallen:200, nancount:0, test_reccnt:59\n",
      "carno:21, totallen:199, nancount:1, test_reccnt:58\n",
      "carno:22, totallen:200, nancount:0, test_reccnt:59\n",
      "carno:23, totallen:200, nancount:0, test_reccnt:59\n",
      "carno:24, totallen:154, nancount:46, test_reccnt:36\n",
      "carno:25, totallen:200, nancount:0, test_reccnt:59\n",
      "carno:26, totallen:198, nancount:2, test_reccnt:58\n",
      "carno:27, totallen:200, nancount:0, test_reccnt:59\n",
      "carno:28, totallen:200, nancount:0, test_reccnt:59\n",
      "carno:29, totallen:200, nancount:0, test_reccnt:59\n",
      "a short ts: carid=30，len=46\n",
      "carno:32, totallen:110, nancount:90, test_reccnt:14\n",
      "a short ts: carid=33，len=46\n",
      "carno:59, totallen:198, nancount:2, test_reccnt:58\n",
      "carno:60, totallen:200, nancount:0, test_reccnt:59\n",
      "carno:64, totallen:200, nancount:0, test_reccnt:59\n",
      "carno:66, totallen:200, nancount:0, test_reccnt:59\n",
      "carno:88, totallen:200, nancount:0, test_reccnt:59\n",
      "carno:98, totallen:200, nancount:0, test_reccnt:59\n",
      "train len:0, test len:1568\n",
      "model: oracle\n",
      "predicting model=oracle, plen=2\n",
      "loading model...done!, ctx:gpu(0)\n",
      "tss len=1568, forecasts len=1568\n"
     ]
    },
    {
     "name": "stderr",
     "output_type": "stream",
     "text": [
      "INFO:root:Using GPU\n"
     ]
    },
    {
     "name": "stdout",
     "output_type": "stream",
     "text": [
      "total:59, prediction_length:2\n",
      "top1acc= 0.559322033898305 top1acc_farmost= 0.4915254237288136 top5acc= 0.7745762711864407 top5acc_farmost= 0.7152542372881356\n",
      "tau =  0.7998421827722644 rmse =  15.891120095619499\n",
      "model: curtrack\n",
      "predicting model=curtrack, plen=2\n",
      "loading model...done!, ctx:gpu(0)\n",
      "tss len=1568, forecasts len=1568\n"
     ]
    },
    {
     "name": "stderr",
     "output_type": "stream",
     "text": [
      "INFO:root:Using GPU\n"
     ]
    },
    {
     "name": "stdout",
     "output_type": "stream",
     "text": [
      "total:59, prediction_length:2\n",
      "top1acc= 0.576271186440678 top1acc_farmost= 0.4915254237288136 top5acc= 0.7983050847457627 top5acc_farmost= 0.735593220338983\n",
      "tau =  0.8072656965904063 rmse =  15.35859188098052\n",
      "model: zerotrack\n",
      "predicting model=zerotrack, plen=2\n",
      "loading model...done!, ctx:gpu(0)\n",
      "tss len=1568, forecasts len=1568\n"
     ]
    },
    {
     "name": "stderr",
     "output_type": "stream",
     "text": [
      "INFO:root:Using GPU\n"
     ]
    },
    {
     "name": "stdout",
     "output_type": "stream",
     "text": [
      "total:59, prediction_length:2\n",
      "top1acc= 0.5254237288135594 top1acc_farmost= 0.3728813559322034 top5acc= 0.8033898305084746 top5acc_farmost= 0.7491525423728813\n",
      "tau =  0.8327485333897617 rmse =  11.044980032334363\n",
      "==============================\n",
      "====event:Indy500, train_len=80, max_len=200, min_len=200\n",
      "carno:1, totallen:200, nancount:0, test_reccnt:59\n",
      "carno:3, totallen:146, nancount:54, test_reccnt:32\n",
      "carno:4, totallen:200, nancount:0, test_reccnt:59\n",
      "carno:6, totallen:200, nancount:0, test_reccnt:59\n",
      "carno:7, totallen:193, nancount:7, test_reccnt:55\n",
      "carno:9, totallen:200, nancount:0, test_reccnt:59\n",
      "a short ts: carid=10，len=57\n",
      "carno:12, totallen:200, nancount:0, test_reccnt:59\n",
      "a short ts: carid=13，len=67\n",
      "carno:14, totallen:187, nancount:13, test_reccnt:52\n",
      "carno:15, totallen:200, nancount:0, test_reccnt:59\n",
      "carno:17, totallen:199, nancount:1, test_reccnt:58\n",
      "carno:18, totallen:137, nancount:63, test_reccnt:27\n",
      "carno:19, totallen:199, nancount:1, test_reccnt:58\n",
      "carno:20, totallen:200, nancount:0, test_reccnt:59\n",
      "carno:21, totallen:199, nancount:1, test_reccnt:58\n",
      "carno:22, totallen:200, nancount:0, test_reccnt:59\n",
      "carno:23, totallen:200, nancount:0, test_reccnt:59\n",
      "carno:24, totallen:154, nancount:46, test_reccnt:36\n",
      "carno:25, totallen:200, nancount:0, test_reccnt:59\n",
      "carno:26, totallen:198, nancount:2, test_reccnt:58\n",
      "carno:27, totallen:200, nancount:0, test_reccnt:59\n",
      "carno:28, totallen:200, nancount:0, test_reccnt:59\n",
      "carno:29, totallen:200, nancount:0, test_reccnt:59\n",
      "a short ts: carid=30，len=46\n",
      "carno:32, totallen:110, nancount:90, test_reccnt:14\n",
      "a short ts: carid=33，len=46\n",
      "carno:59, totallen:198, nancount:2, test_reccnt:58\n",
      "carno:60, totallen:200, nancount:0, test_reccnt:59\n",
      "carno:64, totallen:200, nancount:0, test_reccnt:59\n",
      "carno:66, totallen:200, nancount:0, test_reccnt:59\n",
      "carno:88, totallen:200, nancount:0, test_reccnt:59\n",
      "carno:98, totallen:200, nancount:0, test_reccnt:59\n",
      "train len:0, test len:1568\n",
      "model: oracle\n",
      "predicting model=oracle, plen=2\n",
      "loading model...done!, ctx:gpu(0)\n",
      "tss len=1568, forecasts len=1568\n"
     ]
    },
    {
     "name": "stderr",
     "output_type": "stream",
     "text": [
      "INFO:root:Using GPU\n"
     ]
    },
    {
     "name": "stdout",
     "output_type": "stream",
     "text": [
      "total:59, prediction_length:2\n",
      "top1acc= 0.6101694915254238 top1acc_farmost= 0.559322033898305 top5acc= 0.8220338983050848 top5acc_farmost= 0.7627118644067796\n",
      "tau =  0.8146350676357097 rmse =  13.526773830391976\n",
      "model: curtrack\n",
      "predicting model=curtrack, plen=2\n",
      "loading model...done!, ctx:gpu(0)\n",
      "tss len=1568, forecasts len=1568\n"
     ]
    },
    {
     "name": "stderr",
     "output_type": "stream",
     "text": [
      "INFO:root:Using GPU\n"
     ]
    },
    {
     "name": "stdout",
     "output_type": "stream",
     "text": [
      "total:59, prediction_length:2\n",
      "top1acc= 0.576271186440678 top1acc_farmost= 0.4745762711864407 top5acc= 0.8016949152542373 top5acc_farmost= 0.7389830508474576\n",
      "tau =  0.8033667853274661 rmse =  14.154169479797261\n",
      "model: zerotrack\n",
      "predicting model=zerotrack, plen=2\n",
      "loading model...done!, ctx:gpu(0)\n",
      "tss len=1568, forecasts len=1568\n"
     ]
    },
    {
     "name": "stderr",
     "output_type": "stream",
     "text": [
      "INFO:root:Using GPU\n"
     ]
    },
    {
     "name": "stdout",
     "output_type": "stream",
     "text": [
      "total:59, prediction_length:2\n",
      "top1acc= 0.576271186440678 top1acc_farmost= 0.4915254237288136 top5acc= 0.8220338983050848 top5acc_farmost= 0.7728813559322034\n",
      "tau =  0.8346923499204587 rmse =  10.950570901817569\n",
      "==============================\n",
      "====event:Indy500, train_len=80, max_len=200, min_len=200\n",
      "carno:1, totallen:200, nancount:0, test_reccnt:23\n",
      "carno:3, totallen:146, nancount:54, test_reccnt:12\n",
      "carno:4, totallen:200, nancount:0, test_reccnt:23\n",
      "carno:6, totallen:200, nancount:0, test_reccnt:23\n",
      "carno:7, totallen:193, nancount:7, test_reccnt:21\n",
      "carno:9, totallen:200, nancount:0, test_reccnt:23\n",
      "a short ts: carid=10，len=57\n",
      "carno:12, totallen:200, nancount:0, test_reccnt:23\n",
      "a short ts: carid=13，len=67\n",
      "carno:14, totallen:187, nancount:13, test_reccnt:20\n",
      "carno:15, totallen:200, nancount:0, test_reccnt:23\n",
      "carno:17, totallen:199, nancount:1, test_reccnt:22\n",
      "carno:18, totallen:137, nancount:63, test_reccnt:10\n",
      "carno:19, totallen:199, nancount:1, test_reccnt:22\n",
      "carno:20, totallen:200, nancount:0, test_reccnt:23\n",
      "carno:21, totallen:199, nancount:1, test_reccnt:22\n",
      "carno:22, totallen:200, nancount:0, test_reccnt:23\n",
      "carno:23, totallen:200, nancount:0, test_reccnt:23\n",
      "carno:24, totallen:154, nancount:46, test_reccnt:13\n",
      "carno:25, totallen:200, nancount:0, test_reccnt:23\n",
      "carno:26, totallen:198, nancount:2, test_reccnt:22\n",
      "carno:27, totallen:200, nancount:0, test_reccnt:23\n",
      "carno:28, totallen:200, nancount:0, test_reccnt:23\n",
      "carno:29, totallen:200, nancount:0, test_reccnt:23\n",
      "a short ts: carid=30，len=46\n",
      "carno:32, totallen:110, nancount:90, test_reccnt:5\n",
      "a short ts: carid=33，len=46\n",
      "carno:59, totallen:198, nancount:2, test_reccnt:22\n",
      "carno:60, totallen:200, nancount:0, test_reccnt:23\n",
      "carno:64, totallen:200, nancount:0, test_reccnt:23\n",
      "carno:66, totallen:200, nancount:0, test_reccnt:23\n",
      "carno:88, totallen:200, nancount:0, test_reccnt:23\n",
      "carno:98, totallen:200, nancount:0, test_reccnt:23\n",
      "train len:0, test len:605\n",
      "model: oracle\n",
      "predicting model=oracle, plen=5\n",
      "loading model...done!, ctx:gpu(0)\n",
      "tss len=605, forecasts len=605\n"
     ]
    },
    {
     "name": "stderr",
     "output_type": "stream",
     "text": [
      "INFO:root:Using GPU\n"
     ]
    },
    {
     "name": "stdout",
     "output_type": "stream",
     "text": [
      "total:23, prediction_length:5\n",
      "top1acc= 0.45217391304347826 top1acc_farmost= 0.34782608695652173 top5acc= 0.6139130434782609 top5acc_farmost= 0.5130434782608696\n",
      "tau =  0.6648771926637408 rmse =  29.167051389100806\n",
      "model: curtrack\n",
      "predicting model=curtrack, plen=5\n",
      "loading model...done!, ctx:gpu(0)\n",
      "tss len=605, forecasts len=605\n"
     ]
    },
    {
     "name": "stderr",
     "output_type": "stream",
     "text": [
      "INFO:root:Using GPU\n"
     ]
    },
    {
     "name": "stdout",
     "output_type": "stream",
     "text": [
      "total:23, prediction_length:5\n",
      "top1acc= 0.5043478260869565 top1acc_farmost= 0.43478260869565216 top5acc= 0.6417391304347826 top5acc_farmost= 0.5217391304347826\n",
      "tau =  0.6692312855868664 rmse =  28.512855745721662\n",
      "model: zerotrack\n",
      "predicting model=zerotrack, plen=5\n",
      "loading model...done!, ctx:gpu(0)\n",
      "tss len=605, forecasts len=605\n"
     ]
    },
    {
     "name": "stderr",
     "output_type": "stream",
     "text": [
      "INFO:root:Using GPU\n"
     ]
    },
    {
     "name": "stdout",
     "output_type": "stream",
     "text": [
      "total:23, prediction_length:5\n",
      "top1acc= 0.4434782608695652 top1acc_farmost= 0.34782608695652173 top5acc= 0.5878260869565217 top5acc_farmost= 0.4782608695652174\n",
      "tau =  0.6464535164635933 rmse =  29.204580100457814\n",
      "==============================\n",
      "====event:Indy500, train_len=80, max_len=200, min_len=200\n",
      "carno:1, totallen:200, nancount:0, test_reccnt:23\n",
      "carno:3, totallen:146, nancount:54, test_reccnt:12\n",
      "carno:4, totallen:200, nancount:0, test_reccnt:23\n",
      "carno:6, totallen:200, nancount:0, test_reccnt:23\n",
      "carno:7, totallen:193, nancount:7, test_reccnt:21\n",
      "carno:9, totallen:200, nancount:0, test_reccnt:23\n",
      "a short ts: carid=10，len=57\n",
      "carno:12, totallen:200, nancount:0, test_reccnt:23\n",
      "a short ts: carid=13，len=67\n",
      "carno:14, totallen:187, nancount:13, test_reccnt:20\n",
      "carno:15, totallen:200, nancount:0, test_reccnt:23\n",
      "carno:17, totallen:199, nancount:1, test_reccnt:22\n",
      "carno:18, totallen:137, nancount:63, test_reccnt:10\n",
      "carno:19, totallen:199, nancount:1, test_reccnt:22\n",
      "carno:20, totallen:200, nancount:0, test_reccnt:23\n",
      "carno:21, totallen:199, nancount:1, test_reccnt:22\n",
      "carno:22, totallen:200, nancount:0, test_reccnt:23\n",
      "carno:23, totallen:200, nancount:0, test_reccnt:23\n",
      "carno:24, totallen:154, nancount:46, test_reccnt:13\n",
      "carno:25, totallen:200, nancount:0, test_reccnt:23\n",
      "carno:26, totallen:198, nancount:2, test_reccnt:22\n",
      "carno:27, totallen:200, nancount:0, test_reccnt:23\n",
      "carno:28, totallen:200, nancount:0, test_reccnt:23\n",
      "carno:29, totallen:200, nancount:0, test_reccnt:23\n",
      "a short ts: carid=30，len=46\n",
      "carno:32, totallen:110, nancount:90, test_reccnt:5\n",
      "a short ts: carid=33，len=46\n",
      "carno:59, totallen:198, nancount:2, test_reccnt:22\n",
      "carno:60, totallen:200, nancount:0, test_reccnt:23\n",
      "carno:64, totallen:200, nancount:0, test_reccnt:23\n",
      "carno:66, totallen:200, nancount:0, test_reccnt:23\n",
      "carno:88, totallen:200, nancount:0, test_reccnt:23\n",
      "carno:98, totallen:200, nancount:0, test_reccnt:23\n",
      "train len:0, test len:605\n",
      "model: oracle\n",
      "predicting model=oracle, plen=5\n",
      "loading model...done!, ctx:gpu(0)\n",
      "tss len=605, forecasts len=605\n"
     ]
    },
    {
     "name": "stderr",
     "output_type": "stream",
     "text": [
      "INFO:root:Using GPU\n"
     ]
    },
    {
     "name": "stdout",
     "output_type": "stream",
     "text": [
      "total:23, prediction_length:5\n",
      "top1acc= 0.4260869565217391 top1acc_farmost= 0.30434782608695654 top5acc= 0.6156521739130435 top5acc_farmost= 0.4956521739130435\n",
      "tau =  0.6630509485004821 rmse =  28.652614119706616\n",
      "model: curtrack\n",
      "predicting model=curtrack, plen=5\n",
      "loading model...done!, ctx:gpu(0)\n",
      "tss len=605, forecasts len=605\n"
     ]
    },
    {
     "name": "stderr",
     "output_type": "stream",
     "text": [
      "INFO:root:Using GPU\n"
     ]
    },
    {
     "name": "stdout",
     "output_type": "stream",
     "text": [
      "total:23, prediction_length:5\n",
      "top1acc= 0.41739130434782606 top1acc_farmost= 0.34782608695652173 top5acc= 0.6226086956521739 top5acc_farmost= 0.4956521739130435\n",
      "tau =  0.6629157616072956 rmse =  28.98097376342354\n",
      "model: zerotrack\n",
      "predicting model=zerotrack, plen=5\n",
      "loading model...done!, ctx:gpu(0)\n",
      "tss len=605, forecasts len=605\n"
     ]
    },
    {
     "name": "stderr",
     "output_type": "stream",
     "text": [
      "INFO:root:Using GPU\n"
     ]
    },
    {
     "name": "stdout",
     "output_type": "stream",
     "text": [
      "total:23, prediction_length:5\n",
      "top1acc= 0.4260869565217391 top1acc_farmost= 0.30434782608695654 top5acc= 0.6052173913043478 top5acc_farmost= 0.4782608695652174\n",
      "tau =  0.6529650087031055 rmse =  28.49910556692775\n",
      "==============================\n",
      "====event:Indy500, train_len=80, max_len=200, min_len=200\n",
      "carno:1, totallen:200, nancount:0, test_reccnt:23\n",
      "carno:3, totallen:146, nancount:54, test_reccnt:12\n",
      "carno:4, totallen:200, nancount:0, test_reccnt:23\n",
      "carno:6, totallen:200, nancount:0, test_reccnt:23\n",
      "carno:7, totallen:193, nancount:7, test_reccnt:21\n",
      "carno:9, totallen:200, nancount:0, test_reccnt:23\n",
      "a short ts: carid=10，len=57\n",
      "carno:12, totallen:200, nancount:0, test_reccnt:23\n",
      "a short ts: carid=13，len=67\n",
      "carno:14, totallen:187, nancount:13, test_reccnt:20\n",
      "carno:15, totallen:200, nancount:0, test_reccnt:23\n",
      "carno:17, totallen:199, nancount:1, test_reccnt:22\n",
      "carno:18, totallen:137, nancount:63, test_reccnt:10\n",
      "carno:19, totallen:199, nancount:1, test_reccnt:22\n",
      "carno:20, totallen:200, nancount:0, test_reccnt:23\n",
      "carno:21, totallen:199, nancount:1, test_reccnt:22\n",
      "carno:22, totallen:200, nancount:0, test_reccnt:23\n",
      "carno:23, totallen:200, nancount:0, test_reccnt:23\n",
      "carno:24, totallen:154, nancount:46, test_reccnt:13\n",
      "carno:25, totallen:200, nancount:0, test_reccnt:23\n",
      "carno:26, totallen:198, nancount:2, test_reccnt:22\n",
      "carno:27, totallen:200, nancount:0, test_reccnt:23\n",
      "carno:28, totallen:200, nancount:0, test_reccnt:23\n",
      "carno:29, totallen:200, nancount:0, test_reccnt:23\n",
      "a short ts: carid=30，len=46\n",
      "carno:32, totallen:110, nancount:90, test_reccnt:5\n",
      "a short ts: carid=33，len=46\n",
      "carno:59, totallen:198, nancount:2, test_reccnt:22\n",
      "carno:60, totallen:200, nancount:0, test_reccnt:23\n",
      "carno:64, totallen:200, nancount:0, test_reccnt:23\n",
      "carno:66, totallen:200, nancount:0, test_reccnt:23\n",
      "carno:88, totallen:200, nancount:0, test_reccnt:23\n",
      "carno:98, totallen:200, nancount:0, test_reccnt:23\n",
      "train len:0, test len:605\n",
      "model: oracle\n",
      "predicting model=oracle, plen=5\n",
      "loading model...done!, ctx:gpu(0)\n",
      "tss len=605, forecasts len=605\n"
     ]
    },
    {
     "name": "stderr",
     "output_type": "stream",
     "text": [
      "INFO:root:Using GPU\n"
     ]
    },
    {
     "name": "stdout",
     "output_type": "stream",
     "text": [
      "total:23, prediction_length:5\n",
      "top1acc= 0.391304347826087 top1acc_farmost= 0.30434782608695654 top5acc= 0.6052173913043478 top5acc_farmost= 0.46956521739130436\n",
      "tau =  0.6384891579837764 rmse =  31.757641259425494\n",
      "model: curtrack\n",
      "predicting model=curtrack, plen=5\n",
      "loading model...done!, ctx:gpu(0)\n",
      "tss len=605, forecasts len=605\n"
     ]
    },
    {
     "name": "stderr",
     "output_type": "stream",
     "text": [
      "INFO:root:Using GPU\n"
     ]
    },
    {
     "name": "stdout",
     "output_type": "stream",
     "text": [
      "total:23, prediction_length:5\n",
      "top1acc= 0.4 top1acc_farmost= 0.30434782608695654 top5acc= 0.5739130434782609 top5acc_farmost= 0.4260869565217391\n",
      "tau =  0.6230722909417926 rmse =  33.38715710812641\n",
      "model: zerotrack\n",
      "predicting model=zerotrack, plen=5\n",
      "loading model...done!, ctx:gpu(0)\n",
      "tss len=605, forecasts len=605\n"
     ]
    },
    {
     "name": "stderr",
     "output_type": "stream",
     "text": [
      "INFO:root:Using GPU\n"
     ]
    },
    {
     "name": "stdout",
     "output_type": "stream",
     "text": [
      "total:23, prediction_length:5\n",
      "top1acc= 0.43478260869565216 top1acc_farmost= 0.30434782608695654 top5acc= 0.6260869565217392 top5acc_farmost= 0.4956521739130435\n",
      "tau =  0.6447193779808987 rmse =  29.252428939270345\n",
      "==============================\n",
      "====event:Indy500, train_len=80, max_len=200, min_len=200\n",
      "carno:1, totallen:200, nancount:0, test_reccnt:11\n",
      "carno:3, totallen:146, nancount:54, test_reccnt:5\n",
      "carno:4, totallen:200, nancount:0, test_reccnt:11\n",
      "carno:6, totallen:200, nancount:0, test_reccnt:11\n",
      "carno:7, totallen:193, nancount:7, test_reccnt:10\n",
      "carno:9, totallen:200, nancount:0, test_reccnt:11\n",
      "a short ts: carid=10，len=57\n",
      "carno:12, totallen:200, nancount:0, test_reccnt:11\n",
      "a short ts: carid=13，len=67\n",
      "carno:14, totallen:187, nancount:13, test_reccnt:9\n",
      "carno:15, totallen:200, nancount:0, test_reccnt:11\n",
      "carno:17, totallen:199, nancount:1, test_reccnt:10\n",
      "carno:18, totallen:137, nancount:63, test_reccnt:4\n",
      "carno:19, totallen:199, nancount:1, test_reccnt:10\n",
      "carno:20, totallen:200, nancount:0, test_reccnt:11\n",
      "carno:21, totallen:199, nancount:1, test_reccnt:10\n",
      "carno:22, totallen:200, nancount:0, test_reccnt:11\n",
      "carno:23, totallen:200, nancount:0, test_reccnt:11\n",
      "carno:24, totallen:154, nancount:46, test_reccnt:6\n",
      "carno:25, totallen:200, nancount:0, test_reccnt:11\n",
      "carno:26, totallen:198, nancount:2, test_reccnt:10\n",
      "carno:27, totallen:200, nancount:0, test_reccnt:11\n",
      "carno:28, totallen:200, nancount:0, test_reccnt:11\n",
      "carno:29, totallen:200, nancount:0, test_reccnt:11\n",
      "a short ts: carid=30，len=46\n",
      "carno:32, totallen:110, nancount:90, test_reccnt:2\n",
      "a short ts: carid=33，len=46\n",
      "carno:59, totallen:198, nancount:2, test_reccnt:10\n",
      "carno:60, totallen:200, nancount:0, test_reccnt:11\n",
      "carno:64, totallen:200, nancount:0, test_reccnt:11\n",
      "carno:66, totallen:200, nancount:0, test_reccnt:11\n",
      "carno:88, totallen:200, nancount:0, test_reccnt:11\n",
      "carno:98, totallen:200, nancount:0, test_reccnt:11\n",
      "train len:0, test len:284\n",
      "model: oracle\n",
      "predicting model=oracle, plen=10\n",
      "loading model...done!, ctx:gpu(0)\n",
      "tss len=284, forecasts len=284\n"
     ]
    },
    {
     "name": "stderr",
     "output_type": "stream",
     "text": [
      "INFO:root:Using GPU\n"
     ]
    },
    {
     "name": "stdout",
     "output_type": "stream",
     "text": [
      "total:11, prediction_length:10\n",
      "top1acc= 0.32727272727272727 top1acc_farmost= 0.18181818181818182 top5acc= 0.49636363636363634 top5acc_farmost= 0.34545454545454546\n",
      "tau =  0.46548265146415774 rmse =  46.164770361184154\n",
      "model: curtrack\n",
      "predicting model=curtrack, plen=10\n",
      "loading model...done!, ctx:gpu(0)\n",
      "tss len=284, forecasts len=284\n"
     ]
    },
    {
     "name": "stderr",
     "output_type": "stream",
     "text": [
      "INFO:root:Using GPU\n"
     ]
    },
    {
     "name": "stdout",
     "output_type": "stream",
     "text": [
      "total:11, prediction_length:10\n",
      "top1acc= 0.3090909090909091 top1acc_farmost= 0.18181818181818182 top5acc= 0.4709090909090909 top5acc_farmost= 0.32727272727272727\n",
      "tau =  0.4546825637288112 rmse =  47.13479227668882\n",
      "model: zerotrack\n",
      "predicting model=zerotrack, plen=10\n",
      "loading model...done!, ctx:gpu(0)\n",
      "tss len=284, forecasts len=284\n"
     ]
    },
    {
     "name": "stderr",
     "output_type": "stream",
     "text": [
      "INFO:root:Using GPU\n"
     ]
    },
    {
     "name": "stdout",
     "output_type": "stream",
     "text": [
      "total:11, prediction_length:10\n",
      "top1acc= 0.3181818181818182 top1acc_farmost= 0.18181818181818182 top5acc= 0.4909090909090909 top5acc_farmost= 0.34545454545454546\n",
      "tau =  0.5182282348874728 rmse =  40.31999684351408\n",
      "==============================\n",
      "====event:Indy500, train_len=80, max_len=200, min_len=200\n",
      "carno:1, totallen:200, nancount:0, test_reccnt:11\n",
      "carno:3, totallen:146, nancount:54, test_reccnt:5\n",
      "carno:4, totallen:200, nancount:0, test_reccnt:11\n",
      "carno:6, totallen:200, nancount:0, test_reccnt:11\n",
      "carno:7, totallen:193, nancount:7, test_reccnt:10\n",
      "carno:9, totallen:200, nancount:0, test_reccnt:11\n",
      "a short ts: carid=10，len=57\n",
      "carno:12, totallen:200, nancount:0, test_reccnt:11\n",
      "a short ts: carid=13，len=67\n",
      "carno:14, totallen:187, nancount:13, test_reccnt:9\n",
      "carno:15, totallen:200, nancount:0, test_reccnt:11\n",
      "carno:17, totallen:199, nancount:1, test_reccnt:10\n",
      "carno:18, totallen:137, nancount:63, test_reccnt:4\n",
      "carno:19, totallen:199, nancount:1, test_reccnt:10\n",
      "carno:20, totallen:200, nancount:0, test_reccnt:11\n",
      "carno:21, totallen:199, nancount:1, test_reccnt:10\n",
      "carno:22, totallen:200, nancount:0, test_reccnt:11\n",
      "carno:23, totallen:200, nancount:0, test_reccnt:11\n",
      "carno:24, totallen:154, nancount:46, test_reccnt:6\n",
      "carno:25, totallen:200, nancount:0, test_reccnt:11\n",
      "carno:26, totallen:198, nancount:2, test_reccnt:10\n",
      "carno:27, totallen:200, nancount:0, test_reccnt:11\n",
      "carno:28, totallen:200, nancount:0, test_reccnt:11\n",
      "carno:29, totallen:200, nancount:0, test_reccnt:11\n",
      "a short ts: carid=30，len=46\n",
      "carno:32, totallen:110, nancount:90, test_reccnt:2\n",
      "a short ts: carid=33，len=46\n",
      "carno:59, totallen:198, nancount:2, test_reccnt:10\n",
      "carno:60, totallen:200, nancount:0, test_reccnt:11\n",
      "carno:64, totallen:200, nancount:0, test_reccnt:11\n",
      "carno:66, totallen:200, nancount:0, test_reccnt:11\n",
      "carno:88, totallen:200, nancount:0, test_reccnt:11\n",
      "carno:98, totallen:200, nancount:0, test_reccnt:11\n",
      "train len:0, test len:284\n",
      "model: oracle\n",
      "predicting model=oracle, plen=10\n",
      "loading model...done!, ctx:gpu(0)\n",
      "tss len=284, forecasts len=284\n"
     ]
    },
    {
     "name": "stderr",
     "output_type": "stream",
     "text": [
      "INFO:root:Using GPU\n"
     ]
    },
    {
     "name": "stdout",
     "output_type": "stream",
     "text": [
      "total:11, prediction_length:10\n",
      "top1acc= 0.3181818181818182 top1acc_farmost= 0.18181818181818182 top5acc= 0.5181818181818182 top5acc_farmost= 0.3090909090909091\n",
      "tau =  0.5021145555003215 rmse =  42.51223115326564\n",
      "model: curtrack\n",
      "predicting model=curtrack, plen=10\n",
      "loading model...done!, ctx:gpu(0)\n",
      "tss len=284, forecasts len=284\n"
     ]
    },
    {
     "name": "stderr",
     "output_type": "stream",
     "text": [
      "INFO:root:Using GPU\n"
     ]
    },
    {
     "name": "stdout",
     "output_type": "stream",
     "text": [
      "total:11, prediction_length:10\n",
      "top1acc= 0.3181818181818182 top1acc_farmost= 0.18181818181818182 top5acc= 0.4763636363636364 top5acc_farmost= 0.3090909090909091\n",
      "tau =  0.47711884941155597 rmse =  43.95510488617385\n",
      "model: zerotrack\n",
      "predicting model=zerotrack, plen=10\n",
      "loading model...done!, ctx:gpu(0)\n",
      "tss len=284, forecasts len=284\n"
     ]
    },
    {
     "name": "stderr",
     "output_type": "stream",
     "text": [
      "INFO:root:Using GPU\n"
     ]
    },
    {
     "name": "stdout",
     "output_type": "stream",
     "text": [
      "total:11, prediction_length:10\n",
      "top1acc= 0.2818181818181818 top1acc_farmost= 0.09090909090909091 top5acc= 0.4709090909090909 top5acc_farmost= 0.3090909090909091\n",
      "tau =  0.4971460142069896 rmse =  41.48012425888288\n",
      "==============================\n",
      "====event:Indy500, train_len=80, max_len=200, min_len=200\n",
      "carno:1, totallen:200, nancount:0, test_reccnt:11\n",
      "carno:3, totallen:146, nancount:54, test_reccnt:5\n",
      "carno:4, totallen:200, nancount:0, test_reccnt:11\n",
      "carno:6, totallen:200, nancount:0, test_reccnt:11\n",
      "carno:7, totallen:193, nancount:7, test_reccnt:10\n",
      "carno:9, totallen:200, nancount:0, test_reccnt:11\n",
      "a short ts: carid=10，len=57\n",
      "carno:12, totallen:200, nancount:0, test_reccnt:11\n",
      "a short ts: carid=13，len=67\n",
      "carno:14, totallen:187, nancount:13, test_reccnt:9\n",
      "carno:15, totallen:200, nancount:0, test_reccnt:11\n",
      "carno:17, totallen:199, nancount:1, test_reccnt:10\n",
      "carno:18, totallen:137, nancount:63, test_reccnt:4\n",
      "carno:19, totallen:199, nancount:1, test_reccnt:10\n",
      "carno:20, totallen:200, nancount:0, test_reccnt:11\n",
      "carno:21, totallen:199, nancount:1, test_reccnt:10\n",
      "carno:22, totallen:200, nancount:0, test_reccnt:11\n",
      "carno:23, totallen:200, nancount:0, test_reccnt:11\n",
      "carno:24, totallen:154, nancount:46, test_reccnt:6\n",
      "carno:25, totallen:200, nancount:0, test_reccnt:11\n",
      "carno:26, totallen:198, nancount:2, test_reccnt:10\n",
      "carno:27, totallen:200, nancount:0, test_reccnt:11\n",
      "carno:28, totallen:200, nancount:0, test_reccnt:11\n",
      "carno:29, totallen:200, nancount:0, test_reccnt:11\n",
      "a short ts: carid=30，len=46\n",
      "carno:32, totallen:110, nancount:90, test_reccnt:2\n",
      "a short ts: carid=33，len=46\n",
      "carno:59, totallen:198, nancount:2, test_reccnt:10\n",
      "carno:60, totallen:200, nancount:0, test_reccnt:11\n",
      "carno:64, totallen:200, nancount:0, test_reccnt:11\n",
      "carno:66, totallen:200, nancount:0, test_reccnt:11\n",
      "carno:88, totallen:200, nancount:0, test_reccnt:11\n",
      "carno:98, totallen:200, nancount:0, test_reccnt:11\n",
      "train len:0, test len:284\n",
      "model: oracle\n",
      "predicting model=oracle, plen=10\n",
      "loading model...done!, ctx:gpu(0)\n",
      "tss len=284, forecasts len=284\n"
     ]
    },
    {
     "name": "stderr",
     "output_type": "stream",
     "text": [
      "INFO:root:Using GPU\n"
     ]
    },
    {
     "name": "stdout",
     "output_type": "stream",
     "text": [
      "total:11, prediction_length:10\n",
      "top1acc= 0.4 top1acc_farmost= 0.2727272727272727 top5acc= 0.49818181818181817 top5acc_farmost= 0.34545454545454546\n",
      "tau =  0.468748671279203 rmse =  46.16622212142902\n",
      "model: curtrack\n",
      "predicting model=curtrack, plen=10\n",
      "loading model...done!, ctx:gpu(0)\n",
      "tss len=284, forecasts len=284\n"
     ]
    },
    {
     "name": "stderr",
     "output_type": "stream",
     "text": [
      "INFO:root:Using GPU\n"
     ]
    },
    {
     "name": "stdout",
     "output_type": "stream",
     "text": [
      "total:11, prediction_length:10\n",
      "top1acc= 0.34545454545454546 top1acc_farmost= 0.18181818181818182 top5acc= 0.48363636363636364 top5acc_farmost= 0.2909090909090909\n",
      "tau =  0.48945467872581366 rmse =  44.3693838192459\n",
      "model: zerotrack\n",
      "predicting model=zerotrack, plen=10\n",
      "loading model...done!, ctx:gpu(0)\n",
      "tss len=284, forecasts len=284\n",
      "total:11, prediction_length:10\n",
      "top1acc= 0.3 top1acc_farmost= 0.18181818181818182 top5acc= 0.49454545454545457 top5acc_farmost= 0.32727272727272727\n",
      "tau =  0.5150585486865847 rmse =  39.666028074097035\n",
      "==============================\n",
      "====event:Indy500, train_len=80, max_len=200, min_len=200\n",
      "carno:1, totallen:200, nancount:0, test_reccnt:59\n",
      "carno:3, totallen:146, nancount:54, test_reccnt:32\n",
      "carno:4, totallen:200, nancount:0, test_reccnt:59\n",
      "carno:6, totallen:200, nancount:0, test_reccnt:59\n",
      "carno:7, totallen:193, nancount:7, test_reccnt:55\n",
      "carno:9, totallen:200, nancount:0, test_reccnt:59\n",
      "a short ts: carid=10，len=57\n",
      "carno:12, totallen:200, nancount:0, test_reccnt:59\n",
      "a short ts: carid=13，len=67\n",
      "carno:14, totallen:187, nancount:13, test_reccnt:52\n",
      "carno:15, totallen:200, nancount:0, test_reccnt:59\n",
      "carno:17, totallen:199, nancount:1, test_reccnt:58\n",
      "carno:18, totallen:137, nancount:63, test_reccnt:27\n",
      "carno:19, totallen:199, nancount:1, test_reccnt:58\n",
      "carno:20, totallen:200, nancount:0, test_reccnt:59\n",
      "carno:21, totallen:199, nancount:1, test_reccnt:58\n",
      "carno:22, totallen:200, nancount:0, test_reccnt:59\n",
      "carno:23, totallen:200, nancount:0, test_reccnt:59\n",
      "carno:24, totallen:154, nancount:46, test_reccnt:36\n",
      "carno:25, totallen:200, nancount:0, test_reccnt:59\n",
      "carno:26, totallen:198, nancount:2, test_reccnt:58\n",
      "carno:27, totallen:200, nancount:0, test_reccnt:59\n",
      "carno:28, totallen:200, nancount:0, test_reccnt:59\n",
      "carno:29, totallen:200, nancount:0, test_reccnt:59\n",
      "a short ts: carid=30，len=46\n",
      "carno:32, totallen:110, nancount:90, test_reccnt:14\n",
      "a short ts: carid=33，len=46\n",
      "carno:59, totallen:198, nancount:2, test_reccnt:58\n",
      "carno:60, totallen:200, nancount:0, test_reccnt:59\n",
      "carno:64, totallen:200, nancount:0, test_reccnt:59\n",
      "carno:66, totallen:200, nancount:0, test_reccnt:59\n",
      "carno:88, totallen:200, nancount:0, test_reccnt:59\n",
      "carno:98, totallen:200, nancount:0, test_reccnt:59\n",
      "train len:0, test len:1568\n"
     ]
    },
    {
     "name": "stderr",
     "output_type": "stream",
     "text": [
      "INFO:root:Using GPU\n"
     ]
    },
    {
     "name": "stdout",
     "output_type": "stream",
     "text": [
      "model: oracle\n",
      "predicting model=oracle, plen=2\n",
      "loading model...done!, ctx:gpu(0)\n",
      "tss len=1568, forecasts len=1568\n"
     ]
    },
    {
     "name": "stderr",
     "output_type": "stream",
     "text": [
      "INFO:root:Using GPU\n"
     ]
    },
    {
     "name": "stdout",
     "output_type": "stream",
     "text": [
      "total:59, prediction_length:2\n",
      "top1acc= 0.6440677966101694 top1acc_farmost= 0.559322033898305 top5acc= 0.7779661016949152 top5acc_farmost= 0.7186440677966102\n",
      "tau =  0.7987663128307428 rmse =  15.41500001825416\n",
      "model: curtrack\n",
      "predicting model=curtrack, plen=2\n",
      "loading model...done!, ctx:gpu(0)\n",
      "tss len=1568, forecasts len=1568\n"
     ]
    },
    {
     "name": "stderr",
     "output_type": "stream",
     "text": [
      "INFO:root:Using GPU\n"
     ]
    },
    {
     "name": "stdout",
     "output_type": "stream",
     "text": [
      "total:59, prediction_length:2\n",
      "top1acc= 0.6271186440677966 top1acc_farmost= 0.5423728813559322 top5acc= 0.7932203389830509 top5acc_farmost= 0.7389830508474576\n",
      "tau =  0.8088199868027516 rmse =  14.637012110808895\n",
      "model: zerotrack\n",
      "predicting model=zerotrack, plen=2\n",
      "loading model...done!, ctx:gpu(0)\n",
      "tss len=1568, forecasts len=1568\n"
     ]
    },
    {
     "name": "stderr",
     "output_type": "stream",
     "text": [
      "INFO:root:Using GPU\n"
     ]
    },
    {
     "name": "stdout",
     "output_type": "stream",
     "text": [
      "total:59, prediction_length:2\n",
      "top1acc= 0.6186440677966102 top1acc_farmost= 0.5423728813559322 top5acc= 0.8305084745762712 top5acc_farmost= 0.7796610169491526\n",
      "tau =  0.8271022608235035 rmse =  11.69034931562591\n",
      "==============================\n",
      "====event:Indy500, train_len=80, max_len=200, min_len=200\n",
      "carno:1, totallen:200, nancount:0, test_reccnt:59\n",
      "carno:3, totallen:146, nancount:54, test_reccnt:32\n",
      "carno:4, totallen:200, nancount:0, test_reccnt:59\n",
      "carno:6, totallen:200, nancount:0, test_reccnt:59\n",
      "carno:7, totallen:193, nancount:7, test_reccnt:55\n",
      "carno:9, totallen:200, nancount:0, test_reccnt:59\n",
      "a short ts: carid=10，len=57\n",
      "carno:12, totallen:200, nancount:0, test_reccnt:59\n",
      "a short ts: carid=13，len=67\n",
      "carno:14, totallen:187, nancount:13, test_reccnt:52\n",
      "carno:15, totallen:200, nancount:0, test_reccnt:59\n",
      "carno:17, totallen:199, nancount:1, test_reccnt:58\n",
      "carno:18, totallen:137, nancount:63, test_reccnt:27\n",
      "carno:19, totallen:199, nancount:1, test_reccnt:58\n",
      "carno:20, totallen:200, nancount:0, test_reccnt:59\n",
      "carno:21, totallen:199, nancount:1, test_reccnt:58\n",
      "carno:22, totallen:200, nancount:0, test_reccnt:59\n",
      "carno:23, totallen:200, nancount:0, test_reccnt:59\n",
      "carno:24, totallen:154, nancount:46, test_reccnt:36\n",
      "carno:25, totallen:200, nancount:0, test_reccnt:59\n",
      "carno:26, totallen:198, nancount:2, test_reccnt:58\n",
      "carno:27, totallen:200, nancount:0, test_reccnt:59\n",
      "carno:28, totallen:200, nancount:0, test_reccnt:59\n",
      "carno:29, totallen:200, nancount:0, test_reccnt:59\n",
      "a short ts: carid=30，len=46\n",
      "carno:32, totallen:110, nancount:90, test_reccnt:14\n",
      "a short ts: carid=33，len=46\n",
      "carno:59, totallen:198, nancount:2, test_reccnt:58\n",
      "carno:60, totallen:200, nancount:0, test_reccnt:59\n",
      "carno:64, totallen:200, nancount:0, test_reccnt:59\n",
      "carno:66, totallen:200, nancount:0, test_reccnt:59\n",
      "carno:88, totallen:200, nancount:0, test_reccnt:59\n",
      "carno:98, totallen:200, nancount:0, test_reccnt:59\n",
      "train len:0, test len:1568\n",
      "model: oracle\n",
      "predicting model=oracle, plen=2\n",
      "loading model...done!, ctx:gpu(0)\n",
      "tss len=1568, forecasts len=1568\n"
     ]
    },
    {
     "name": "stderr",
     "output_type": "stream",
     "text": [
      "INFO:root:Using GPU\n"
     ]
    },
    {
     "name": "stdout",
     "output_type": "stream",
     "text": [
      "total:59, prediction_length:2\n",
      "top1acc= 0.6016949152542372 top1acc_farmost= 0.5423728813559322 top5acc= 0.7813559322033898 top5acc_farmost= 0.7220338983050848\n",
      "tau =  0.803497076583219 rmse =  15.149738125546191\n",
      "model: curtrack\n",
      "predicting model=curtrack, plen=2\n",
      "loading model...done!, ctx:gpu(0)\n",
      "tss len=1568, forecasts len=1568\n"
     ]
    },
    {
     "name": "stderr",
     "output_type": "stream",
     "text": [
      "INFO:root:Using GPU\n"
     ]
    },
    {
     "name": "stdout",
     "output_type": "stream",
     "text": [
      "total:59, prediction_length:2\n",
      "top1acc= 0.6694915254237288 top1acc_farmost= 0.6101694915254238 top5acc= 0.7983050847457627 top5acc_farmost= 0.735593220338983\n",
      "tau =  0.8109528831118185 rmse =  14.689559072722494\n",
      "model: zerotrack\n",
      "predicting model=zerotrack, plen=2\n",
      "loading model...done!, ctx:gpu(0)\n",
      "tss len=1568, forecasts len=1568\n"
     ]
    },
    {
     "name": "stderr",
     "output_type": "stream",
     "text": [
      "INFO:root:Using GPU\n"
     ]
    },
    {
     "name": "stdout",
     "output_type": "stream",
     "text": [
      "total:59, prediction_length:2\n",
      "top1acc= 0.5423728813559322 top1acc_farmost= 0.423728813559322 top5acc= 0.7966101694915254 top5acc_farmost= 0.735593220338983\n",
      "tau =  0.8317080496621819 rmse =  11.38700081241844\n",
      "==============================\n",
      "====event:Indy500, train_len=80, max_len=200, min_len=200\n",
      "carno:1, totallen:200, nancount:0, test_reccnt:59\n",
      "carno:3, totallen:146, nancount:54, test_reccnt:32\n",
      "carno:4, totallen:200, nancount:0, test_reccnt:59\n",
      "carno:6, totallen:200, nancount:0, test_reccnt:59\n",
      "carno:7, totallen:193, nancount:7, test_reccnt:55\n",
      "carno:9, totallen:200, nancount:0, test_reccnt:59\n",
      "a short ts: carid=10，len=57\n",
      "carno:12, totallen:200, nancount:0, test_reccnt:59\n",
      "a short ts: carid=13，len=67\n",
      "carno:14, totallen:187, nancount:13, test_reccnt:52\n",
      "carno:15, totallen:200, nancount:0, test_reccnt:59\n",
      "carno:17, totallen:199, nancount:1, test_reccnt:58\n",
      "carno:18, totallen:137, nancount:63, test_reccnt:27\n",
      "carno:19, totallen:199, nancount:1, test_reccnt:58\n",
      "carno:20, totallen:200, nancount:0, test_reccnt:59\n",
      "carno:21, totallen:199, nancount:1, test_reccnt:58\n",
      "carno:22, totallen:200, nancount:0, test_reccnt:59\n",
      "carno:23, totallen:200, nancount:0, test_reccnt:59\n",
      "carno:24, totallen:154, nancount:46, test_reccnt:36\n",
      "carno:25, totallen:200, nancount:0, test_reccnt:59\n",
      "carno:26, totallen:198, nancount:2, test_reccnt:58\n",
      "carno:27, totallen:200, nancount:0, test_reccnt:59\n",
      "carno:28, totallen:200, nancount:0, test_reccnt:59\n",
      "carno:29, totallen:200, nancount:0, test_reccnt:59\n",
      "a short ts: carid=30，len=46\n",
      "carno:32, totallen:110, nancount:90, test_reccnt:14\n",
      "a short ts: carid=33，len=46\n",
      "carno:59, totallen:198, nancount:2, test_reccnt:58\n",
      "carno:60, totallen:200, nancount:0, test_reccnt:59\n",
      "carno:64, totallen:200, nancount:0, test_reccnt:59\n",
      "carno:66, totallen:200, nancount:0, test_reccnt:59\n",
      "carno:88, totallen:200, nancount:0, test_reccnt:59\n",
      "carno:98, totallen:200, nancount:0, test_reccnt:59\n",
      "train len:0, test len:1568\n",
      "model: oracle\n",
      "predicting model=oracle, plen=2\n",
      "loading model...done!, ctx:gpu(0)\n",
      "tss len=1568, forecasts len=1568\n"
     ]
    },
    {
     "name": "stderr",
     "output_type": "stream",
     "text": [
      "INFO:root:Using GPU\n"
     ]
    },
    {
     "name": "stdout",
     "output_type": "stream",
     "text": [
      "total:59, prediction_length:2\n",
      "top1acc= 0.635593220338983 top1acc_farmost= 0.5932203389830508 top5acc= 0.811864406779661 top5acc_farmost= 0.7593220338983051\n",
      "tau =  0.8072972403327441 rmse =  14.505495050430127\n",
      "model: curtrack\n",
      "predicting model=curtrack, plen=2\n",
      "loading model...done!, ctx:gpu(0)\n",
      "tss len=1568, forecasts len=1568\n"
     ]
    },
    {
     "name": "stderr",
     "output_type": "stream",
     "text": [
      "INFO:root:Using GPU\n"
     ]
    },
    {
     "name": "stdout",
     "output_type": "stream",
     "text": [
      "total:59, prediction_length:2\n",
      "top1acc= 0.6271186440677966 top1acc_farmost= 0.5423728813559322 top5acc= 0.8084745762711865 top5acc_farmost= 0.7389830508474576\n",
      "tau =  0.7976312011776641 rmse =  14.832476921035353\n",
      "model: zerotrack\n",
      "predicting model=zerotrack, plen=2\n",
      "loading model...done!, ctx:gpu(0)\n",
      "tss len=1568, forecasts len=1568\n"
     ]
    },
    {
     "name": "stderr",
     "output_type": "stream",
     "text": [
      "INFO:root:Using GPU\n"
     ]
    },
    {
     "name": "stdout",
     "output_type": "stream",
     "text": [
      "total:59, prediction_length:2\n",
      "top1acc= 0.5847457627118644 top1acc_farmost= 0.4915254237288136 top5acc= 0.8254237288135593 top5acc_farmost= 0.7593220338983051\n",
      "tau =  0.8340293831941938 rmse =  10.97800532764805\n",
      "==============================\n",
      "====event:Indy500, train_len=80, max_len=200, min_len=200\n",
      "carno:1, totallen:200, nancount:0, test_reccnt:23\n",
      "carno:3, totallen:146, nancount:54, test_reccnt:12\n",
      "carno:4, totallen:200, nancount:0, test_reccnt:23\n",
      "carno:6, totallen:200, nancount:0, test_reccnt:23\n",
      "carno:7, totallen:193, nancount:7, test_reccnt:21\n",
      "carno:9, totallen:200, nancount:0, test_reccnt:23\n",
      "a short ts: carid=10，len=57\n",
      "carno:12, totallen:200, nancount:0, test_reccnt:23\n",
      "a short ts: carid=13，len=67\n",
      "carno:14, totallen:187, nancount:13, test_reccnt:20\n",
      "carno:15, totallen:200, nancount:0, test_reccnt:23\n",
      "carno:17, totallen:199, nancount:1, test_reccnt:22\n",
      "carno:18, totallen:137, nancount:63, test_reccnt:10\n",
      "carno:19, totallen:199, nancount:1, test_reccnt:22\n",
      "carno:20, totallen:200, nancount:0, test_reccnt:23\n",
      "carno:21, totallen:199, nancount:1, test_reccnt:22\n",
      "carno:22, totallen:200, nancount:0, test_reccnt:23\n",
      "carno:23, totallen:200, nancount:0, test_reccnt:23\n",
      "carno:24, totallen:154, nancount:46, test_reccnt:13\n",
      "carno:25, totallen:200, nancount:0, test_reccnt:23\n",
      "carno:26, totallen:198, nancount:2, test_reccnt:22\n",
      "carno:27, totallen:200, nancount:0, test_reccnt:23\n",
      "carno:28, totallen:200, nancount:0, test_reccnt:23\n",
      "carno:29, totallen:200, nancount:0, test_reccnt:23\n",
      "a short ts: carid=30，len=46\n",
      "carno:32, totallen:110, nancount:90, test_reccnt:5\n",
      "a short ts: carid=33，len=46\n",
      "carno:59, totallen:198, nancount:2, test_reccnt:22\n",
      "carno:60, totallen:200, nancount:0, test_reccnt:23\n",
      "carno:64, totallen:200, nancount:0, test_reccnt:23\n",
      "carno:66, totallen:200, nancount:0, test_reccnt:23\n",
      "carno:88, totallen:200, nancount:0, test_reccnt:23\n",
      "carno:98, totallen:200, nancount:0, test_reccnt:23\n",
      "train len:0, test len:605\n",
      "model: oracle\n",
      "predicting model=oracle, plen=5\n",
      "loading model...done!, ctx:gpu(0)\n",
      "tss len=605, forecasts len=605\n"
     ]
    },
    {
     "name": "stderr",
     "output_type": "stream",
     "text": [
      "INFO:root:Using GPU\n"
     ]
    },
    {
     "name": "stdout",
     "output_type": "stream",
     "text": [
      "total:23, prediction_length:5\n",
      "top1acc= 0.5130434782608696 top1acc_farmost= 0.391304347826087 top5acc= 0.6086956521739131 top5acc_farmost= 0.4956521739130435\n",
      "tau =  0.6551047725494319 rmse =  30.58246885852609\n",
      "model: curtrack\n",
      "predicting model=curtrack, plen=5\n",
      "loading model...done!, ctx:gpu(0)\n",
      "tss len=605, forecasts len=605\n"
     ]
    },
    {
     "name": "stderr",
     "output_type": "stream",
     "text": [
      "INFO:root:Using GPU\n"
     ]
    },
    {
     "name": "stdout",
     "output_type": "stream",
     "text": [
      "total:23, prediction_length:5\n",
      "top1acc= 0.5304347826086957 top1acc_farmost= 0.391304347826087 top5acc= 0.6121739130434782 top5acc_farmost= 0.5130434782608696\n",
      "tau =  0.6501803775147241 rmse =  30.65690881283358\n",
      "model: zerotrack\n",
      "predicting model=zerotrack, plen=5\n",
      "loading model...done!, ctx:gpu(0)\n",
      "tss len=605, forecasts len=605\n"
     ]
    },
    {
     "name": "stderr",
     "output_type": "stream",
     "text": [
      "INFO:root:Using GPU\n"
     ]
    },
    {
     "name": "stdout",
     "output_type": "stream",
     "text": [
      "total:23, prediction_length:5\n",
      "top1acc= 0.45217391304347826 top1acc_farmost= 0.34782608695652173 top5acc= 0.6052173913043478 top5acc_farmost= 0.46956521739130436\n",
      "tau =  0.6497059483398328 rmse =  28.98384919490141\n",
      "==============================\n",
      "====event:Indy500, train_len=80, max_len=200, min_len=200\n",
      "carno:1, totallen:200, nancount:0, test_reccnt:23\n",
      "carno:3, totallen:146, nancount:54, test_reccnt:12\n",
      "carno:4, totallen:200, nancount:0, test_reccnt:23\n",
      "carno:6, totallen:200, nancount:0, test_reccnt:23\n",
      "carno:7, totallen:193, nancount:7, test_reccnt:21\n",
      "carno:9, totallen:200, nancount:0, test_reccnt:23\n",
      "a short ts: carid=10，len=57\n",
      "carno:12, totallen:200, nancount:0, test_reccnt:23\n",
      "a short ts: carid=13，len=67\n",
      "carno:14, totallen:187, nancount:13, test_reccnt:20\n",
      "carno:15, totallen:200, nancount:0, test_reccnt:23\n",
      "carno:17, totallen:199, nancount:1, test_reccnt:22\n",
      "carno:18, totallen:137, nancount:63, test_reccnt:10\n",
      "carno:19, totallen:199, nancount:1, test_reccnt:22\n",
      "carno:20, totallen:200, nancount:0, test_reccnt:23\n",
      "carno:21, totallen:199, nancount:1, test_reccnt:22\n",
      "carno:22, totallen:200, nancount:0, test_reccnt:23\n",
      "carno:23, totallen:200, nancount:0, test_reccnt:23\n",
      "carno:24, totallen:154, nancount:46, test_reccnt:13\n",
      "carno:25, totallen:200, nancount:0, test_reccnt:23\n",
      "carno:26, totallen:198, nancount:2, test_reccnt:22\n",
      "carno:27, totallen:200, nancount:0, test_reccnt:23\n",
      "carno:28, totallen:200, nancount:0, test_reccnt:23\n",
      "carno:29, totallen:200, nancount:0, test_reccnt:23\n",
      "a short ts: carid=30，len=46\n",
      "carno:32, totallen:110, nancount:90, test_reccnt:5\n",
      "a short ts: carid=33，len=46\n",
      "carno:59, totallen:198, nancount:2, test_reccnt:22\n",
      "carno:60, totallen:200, nancount:0, test_reccnt:23\n",
      "carno:64, totallen:200, nancount:0, test_reccnt:23\n",
      "carno:66, totallen:200, nancount:0, test_reccnt:23\n",
      "carno:88, totallen:200, nancount:0, test_reccnt:23\n",
      "carno:98, totallen:200, nancount:0, test_reccnt:23\n",
      "train len:0, test len:605\n",
      "model: oracle\n",
      "predicting model=oracle, plen=5\n",
      "loading model...done!, ctx:gpu(0)\n",
      "tss len=605, forecasts len=605\n"
     ]
    },
    {
     "name": "stderr",
     "output_type": "stream",
     "text": [
      "INFO:root:Using GPU\n"
     ]
    },
    {
     "name": "stdout",
     "output_type": "stream",
     "text": [
      "total:23, prediction_length:5\n",
      "top1acc= 0.4260869565217391 top1acc_farmost= 0.30434782608695654 top5acc= 0.6121739130434782 top5acc_farmost= 0.4956521739130435\n",
      "tau =  0.6529240438464057 rmse =  29.845117984990097\n",
      "model: curtrack\n",
      "predicting model=curtrack, plen=5\n",
      "loading model...done!, ctx:gpu(0)\n",
      "tss len=605, forecasts len=605\n"
     ]
    },
    {
     "name": "stderr",
     "output_type": "stream",
     "text": [
      "INFO:root:Using GPU\n"
     ]
    },
    {
     "name": "stdout",
     "output_type": "stream",
     "text": [
      "total:23, prediction_length:5\n",
      "top1acc= 0.3739130434782609 top1acc_farmost= 0.34782608695652173 top5acc= 0.6052173913043478 top5acc_farmost= 0.48695652173913045\n",
      "tau =  0.6385895209010122 rmse =  31.47306273640268\n",
      "model: zerotrack\n",
      "predicting model=zerotrack, plen=5\n",
      "loading model...done!, ctx:gpu(0)\n"
     ]
    },
    {
     "name": "stderr",
     "output_type": "stream",
     "text": [
      "INFO:root:Using GPU\n"
     ]
    },
    {
     "name": "stdout",
     "output_type": "stream",
     "text": [
      "tss len=605, forecasts len=605\n",
      "total:23, prediction_length:5\n",
      "top1acc= 0.4260869565217391 top1acc_farmost= 0.30434782608695654 top5acc= 0.591304347826087 top5acc_farmost= 0.45217391304347826\n",
      "tau =  0.6432176691022322 rmse =  28.843168338854408\n",
      "==============================\n",
      "====event:Indy500, train_len=80, max_len=200, min_len=200\n",
      "carno:1, totallen:200, nancount:0, test_reccnt:23\n",
      "carno:3, totallen:146, nancount:54, test_reccnt:12\n",
      "carno:4, totallen:200, nancount:0, test_reccnt:23\n",
      "carno:6, totallen:200, nancount:0, test_reccnt:23\n",
      "carno:7, totallen:193, nancount:7, test_reccnt:21\n",
      "carno:9, totallen:200, nancount:0, test_reccnt:23\n",
      "a short ts: carid=10，len=57\n",
      "carno:12, totallen:200, nancount:0, test_reccnt:23\n",
      "a short ts: carid=13，len=67\n",
      "carno:14, totallen:187, nancount:13, test_reccnt:20\n",
      "carno:15, totallen:200, nancount:0, test_reccnt:23\n",
      "carno:17, totallen:199, nancount:1, test_reccnt:22\n",
      "carno:18, totallen:137, nancount:63, test_reccnt:10\n",
      "carno:19, totallen:199, nancount:1, test_reccnt:22\n",
      "carno:20, totallen:200, nancount:0, test_reccnt:23\n",
      "carno:21, totallen:199, nancount:1, test_reccnt:22\n",
      "carno:22, totallen:200, nancount:0, test_reccnt:23\n",
      "carno:23, totallen:200, nancount:0, test_reccnt:23\n",
      "carno:24, totallen:154, nancount:46, test_reccnt:13\n",
      "carno:25, totallen:200, nancount:0, test_reccnt:23\n",
      "carno:26, totallen:198, nancount:2, test_reccnt:22\n",
      "carno:27, totallen:200, nancount:0, test_reccnt:23\n",
      "carno:28, totallen:200, nancount:0, test_reccnt:23\n",
      "carno:29, totallen:200, nancount:0, test_reccnt:23\n",
      "a short ts: carid=30，len=46\n",
      "carno:32, totallen:110, nancount:90, test_reccnt:5\n",
      "a short ts: carid=33，len=46\n",
      "carno:59, totallen:198, nancount:2, test_reccnt:22\n",
      "carno:60, totallen:200, nancount:0, test_reccnt:23\n",
      "carno:64, totallen:200, nancount:0, test_reccnt:23\n",
      "carno:66, totallen:200, nancount:0, test_reccnt:23\n",
      "carno:88, totallen:200, nancount:0, test_reccnt:23\n",
      "carno:98, totallen:200, nancount:0, test_reccnt:23\n",
      "train len:0, test len:605\n",
      "model: oracle\n",
      "predicting model=oracle, plen=5\n",
      "loading model...done!, ctx:gpu(0)\n",
      "tss len=605, forecasts len=605\n"
     ]
    },
    {
     "name": "stderr",
     "output_type": "stream",
     "text": [
      "INFO:root:Using GPU\n"
     ]
    },
    {
     "name": "stdout",
     "output_type": "stream",
     "text": [
      "total:23, prediction_length:5\n",
      "top1acc= 0.4434782608695652 top1acc_farmost= 0.34782608695652173 top5acc= 0.6260869565217392 top5acc_farmost= 0.48695652173913045\n",
      "tau =  0.6536181106440181 rmse =  29.678355539329658\n",
      "model: curtrack\n",
      "predicting model=curtrack, plen=5\n",
      "loading model...done!, ctx:gpu(0)\n",
      "tss len=605, forecasts len=605\n"
     ]
    },
    {
     "name": "stderr",
     "output_type": "stream",
     "text": [
      "INFO:root:Using GPU\n"
     ]
    },
    {
     "name": "stdout",
     "output_type": "stream",
     "text": [
      "total:23, prediction_length:5\n",
      "top1acc= 0.4782608695652174 top1acc_farmost= 0.30434782608695654 top5acc= 0.5965217391304348 top5acc_farmost= 0.4434782608695652\n",
      "tau =  0.637813547544118 rmse =  31.12651502024112\n",
      "model: zerotrack\n",
      "predicting model=zerotrack, plen=5\n",
      "loading model...done!, ctx:gpu(0)\n",
      "tss len=605, forecasts len=605\n"
     ]
    },
    {
     "name": "stderr",
     "output_type": "stream",
     "text": [
      "INFO:root:Using GPU\n"
     ]
    },
    {
     "name": "stdout",
     "output_type": "stream",
     "text": [
      "total:23, prediction_length:5\n",
      "top1acc= 0.4608695652173913 top1acc_farmost= 0.34782608695652173 top5acc= 0.6121739130434782 top5acc_farmost= 0.4608695652173913\n",
      "tau =  0.6398000096843319 rmse =  29.895573712957713\n",
      "==============================\n",
      "====event:Indy500, train_len=80, max_len=200, min_len=200\n",
      "carno:1, totallen:200, nancount:0, test_reccnt:11\n",
      "carno:3, totallen:146, nancount:54, test_reccnt:5\n",
      "carno:4, totallen:200, nancount:0, test_reccnt:11\n",
      "carno:6, totallen:200, nancount:0, test_reccnt:11\n",
      "carno:7, totallen:193, nancount:7, test_reccnt:10\n",
      "carno:9, totallen:200, nancount:0, test_reccnt:11\n",
      "a short ts: carid=10，len=57\n",
      "carno:12, totallen:200, nancount:0, test_reccnt:11\n",
      "a short ts: carid=13，len=67\n",
      "carno:14, totallen:187, nancount:13, test_reccnt:9\n",
      "carno:15, totallen:200, nancount:0, test_reccnt:11\n",
      "carno:17, totallen:199, nancount:1, test_reccnt:10\n",
      "carno:18, totallen:137, nancount:63, test_reccnt:4\n",
      "carno:19, totallen:199, nancount:1, test_reccnt:10\n",
      "carno:20, totallen:200, nancount:0, test_reccnt:11\n",
      "carno:21, totallen:199, nancount:1, test_reccnt:10\n",
      "carno:22, totallen:200, nancount:0, test_reccnt:11\n",
      "carno:23, totallen:200, nancount:0, test_reccnt:11\n",
      "carno:24, totallen:154, nancount:46, test_reccnt:6\n",
      "carno:25, totallen:200, nancount:0, test_reccnt:11\n",
      "carno:26, totallen:198, nancount:2, test_reccnt:10\n",
      "carno:27, totallen:200, nancount:0, test_reccnt:11\n",
      "carno:28, totallen:200, nancount:0, test_reccnt:11\n",
      "carno:29, totallen:200, nancount:0, test_reccnt:11\n",
      "a short ts: carid=30，len=46\n",
      "carno:32, totallen:110, nancount:90, test_reccnt:2\n",
      "a short ts: carid=33，len=46\n",
      "carno:59, totallen:198, nancount:2, test_reccnt:10\n",
      "carno:60, totallen:200, nancount:0, test_reccnt:11\n",
      "carno:64, totallen:200, nancount:0, test_reccnt:11\n",
      "carno:66, totallen:200, nancount:0, test_reccnt:11\n",
      "carno:88, totallen:200, nancount:0, test_reccnt:11\n",
      "carno:98, totallen:200, nancount:0, test_reccnt:11\n",
      "train len:0, test len:284\n",
      "model: oracle\n",
      "predicting model=oracle, plen=10\n",
      "loading model...done!, ctx:gpu(0)\n",
      "tss len=284, forecasts len=284\n"
     ]
    },
    {
     "name": "stderr",
     "output_type": "stream",
     "text": [
      "INFO:root:Using GPU\n"
     ]
    },
    {
     "name": "stdout",
     "output_type": "stream",
     "text": [
      "total:11, prediction_length:10\n",
      "top1acc= 0.33636363636363636 top1acc_farmost= 0.18181818181818182 top5acc= 0.5218181818181818 top5acc_farmost= 0.36363636363636365\n",
      "tau =  0.4855782389074214 rmse =  43.292715317887726\n",
      "model: curtrack\n",
      "predicting model=curtrack, plen=10\n",
      "loading model...done!, ctx:gpu(0)\n",
      "tss len=284, forecasts len=284\n"
     ]
    },
    {
     "name": "stderr",
     "output_type": "stream",
     "text": [
      "INFO:root:Using GPU\n"
     ]
    },
    {
     "name": "stdout",
     "output_type": "stream",
     "text": [
      "total:11, prediction_length:10\n",
      "top1acc= 0.32727272727272727 top1acc_farmost= 0.18181818181818182 top5acc= 0.4909090909090909 top5acc_farmost= 0.32727272727272727\n",
      "tau =  0.47831430607784786 rmse =  43.99930935986109\n",
      "model: zerotrack\n",
      "predicting model=zerotrack, plen=10\n",
      "loading model...done!, ctx:gpu(0)\n",
      "tss len=284, forecasts len=284\n"
     ]
    },
    {
     "name": "stderr",
     "output_type": "stream",
     "text": [
      "INFO:root:Using GPU\n"
     ]
    },
    {
     "name": "stdout",
     "output_type": "stream",
     "text": [
      "total:11, prediction_length:10\n",
      "top1acc= 0.32727272727272727 top1acc_farmost= 0.2727272727272727 top5acc= 0.49818181818181817 top5acc_farmost= 0.34545454545454546\n",
      "tau =  0.5144116458303336 rmse =  40.34213189620086\n",
      "==============================\n",
      "====event:Indy500, train_len=80, max_len=200, min_len=200\n",
      "carno:1, totallen:200, nancount:0, test_reccnt:11\n",
      "carno:3, totallen:146, nancount:54, test_reccnt:5\n",
      "carno:4, totallen:200, nancount:0, test_reccnt:11\n",
      "carno:6, totallen:200, nancount:0, test_reccnt:11\n",
      "carno:7, totallen:193, nancount:7, test_reccnt:10\n",
      "carno:9, totallen:200, nancount:0, test_reccnt:11\n",
      "a short ts: carid=10，len=57\n",
      "carno:12, totallen:200, nancount:0, test_reccnt:11\n",
      "a short ts: carid=13，len=67\n",
      "carno:14, totallen:187, nancount:13, test_reccnt:9\n",
      "carno:15, totallen:200, nancount:0, test_reccnt:11\n",
      "carno:17, totallen:199, nancount:1, test_reccnt:10\n",
      "carno:18, totallen:137, nancount:63, test_reccnt:4\n",
      "carno:19, totallen:199, nancount:1, test_reccnt:10\n",
      "carno:20, totallen:200, nancount:0, test_reccnt:11\n",
      "carno:21, totallen:199, nancount:1, test_reccnt:10\n",
      "carno:22, totallen:200, nancount:0, test_reccnt:11\n",
      "carno:23, totallen:200, nancount:0, test_reccnt:11\n",
      "carno:24, totallen:154, nancount:46, test_reccnt:6\n",
      "carno:25, totallen:200, nancount:0, test_reccnt:11\n",
      "carno:26, totallen:198, nancount:2, test_reccnt:10\n",
      "carno:27, totallen:200, nancount:0, test_reccnt:11\n",
      "carno:28, totallen:200, nancount:0, test_reccnt:11\n",
      "carno:29, totallen:200, nancount:0, test_reccnt:11\n",
      "a short ts: carid=30，len=46\n",
      "carno:32, totallen:110, nancount:90, test_reccnt:2\n",
      "a short ts: carid=33，len=46\n",
      "carno:59, totallen:198, nancount:2, test_reccnt:10\n",
      "carno:60, totallen:200, nancount:0, test_reccnt:11\n",
      "carno:64, totallen:200, nancount:0, test_reccnt:11\n",
      "carno:66, totallen:200, nancount:0, test_reccnt:11\n",
      "carno:88, totallen:200, nancount:0, test_reccnt:11\n",
      "carno:98, totallen:200, nancount:0, test_reccnt:11\n",
      "train len:0, test len:284\n",
      "model: oracle\n",
      "predicting model=oracle, plen=10\n",
      "loading model...done!, ctx:gpu(0)\n",
      "tss len=284, forecasts len=284\n"
     ]
    },
    {
     "name": "stderr",
     "output_type": "stream",
     "text": [
      "INFO:root:Using GPU\n"
     ]
    },
    {
     "name": "stdout",
     "output_type": "stream",
     "text": [
      "total:11, prediction_length:10\n",
      "top1acc= 0.35454545454545455 top1acc_farmost= 0.2727272727272727 top5acc= 0.5018181818181818 top5acc_farmost= 0.2909090909090909\n",
      "tau =  0.48841405843864616 rmse =  43.78791411015549\n",
      "model: curtrack\n",
      "predicting model=curtrack, plen=10\n",
      "loading model...done!, ctx:gpu(0)\n",
      "tss len=284, forecasts len=284\n"
     ]
    },
    {
     "name": "stderr",
     "output_type": "stream",
     "text": [
      "INFO:root:Using GPU\n"
     ]
    },
    {
     "name": "stdout",
     "output_type": "stream",
     "text": [
      "total:11, prediction_length:10\n",
      "top1acc= 0.3090909090909091 top1acc_farmost= 0.18181818181818182 top5acc= 0.4909090909090909 top5acc_farmost= 0.32727272727272727\n",
      "tau =  0.4856028524052601 rmse =  43.22200171731206\n",
      "model: zerotrack\n",
      "predicting model=zerotrack, plen=10\n",
      "loading model...done!, ctx:gpu(0)\n",
      "tss len=284, forecasts len=284\n"
     ]
    },
    {
     "name": "stderr",
     "output_type": "stream",
     "text": [
      "INFO:root:Using GPU\n"
     ]
    },
    {
     "name": "stdout",
     "output_type": "stream",
     "text": [
      "total:11, prediction_length:10\n",
      "top1acc= 0.2909090909090909 top1acc_farmost= 0.09090909090909091 top5acc= 0.46545454545454545 top5acc_farmost= 0.3090909090909091\n",
      "tau =  0.4688248686329821 rmse =  44.04196713376024\n",
      "==============================\n",
      "====event:Indy500, train_len=80, max_len=200, min_len=200\n",
      "carno:1, totallen:200, nancount:0, test_reccnt:11\n",
      "carno:3, totallen:146, nancount:54, test_reccnt:5\n",
      "carno:4, totallen:200, nancount:0, test_reccnt:11\n",
      "carno:6, totallen:200, nancount:0, test_reccnt:11\n",
      "carno:7, totallen:193, nancount:7, test_reccnt:10\n",
      "carno:9, totallen:200, nancount:0, test_reccnt:11\n",
      "a short ts: carid=10，len=57\n",
      "carno:12, totallen:200, nancount:0, test_reccnt:11\n",
      "a short ts: carid=13，len=67\n",
      "carno:14, totallen:187, nancount:13, test_reccnt:9\n",
      "carno:15, totallen:200, nancount:0, test_reccnt:11\n",
      "carno:17, totallen:199, nancount:1, test_reccnt:10\n",
      "carno:18, totallen:137, nancount:63, test_reccnt:4\n",
      "carno:19, totallen:199, nancount:1, test_reccnt:10\n",
      "carno:20, totallen:200, nancount:0, test_reccnt:11\n",
      "carno:21, totallen:199, nancount:1, test_reccnt:10\n",
      "carno:22, totallen:200, nancount:0, test_reccnt:11\n",
      "carno:23, totallen:200, nancount:0, test_reccnt:11\n",
      "carno:24, totallen:154, nancount:46, test_reccnt:6\n",
      "carno:25, totallen:200, nancount:0, test_reccnt:11\n",
      "carno:26, totallen:198, nancount:2, test_reccnt:10\n",
      "carno:27, totallen:200, nancount:0, test_reccnt:11\n",
      "carno:28, totallen:200, nancount:0, test_reccnt:11\n",
      "carno:29, totallen:200, nancount:0, test_reccnt:11\n",
      "a short ts: carid=30，len=46\n",
      "carno:32, totallen:110, nancount:90, test_reccnt:2\n",
      "a short ts: carid=33，len=46\n",
      "carno:59, totallen:198, nancount:2, test_reccnt:10\n",
      "carno:60, totallen:200, nancount:0, test_reccnt:11\n",
      "carno:64, totallen:200, nancount:0, test_reccnt:11\n",
      "carno:66, totallen:200, nancount:0, test_reccnt:11\n",
      "carno:88, totallen:200, nancount:0, test_reccnt:11\n",
      "carno:98, totallen:200, nancount:0, test_reccnt:11\n",
      "train len:0, test len:284\n",
      "model: oracle\n",
      "predicting model=oracle, plen=10\n",
      "loading model...done!, ctx:gpu(0)\n",
      "tss len=284, forecasts len=284\n"
     ]
    },
    {
     "name": "stderr",
     "output_type": "stream",
     "text": [
      "INFO:root:Using GPU\n"
     ]
    },
    {
     "name": "stdout",
     "output_type": "stream",
     "text": [
      "total:11, prediction_length:10\n",
      "top1acc= 0.32727272727272727 top1acc_farmost= 0.18181818181818182 top5acc= 0.5 top5acc_farmost= 0.3090909090909091\n",
      "tau =  0.4781781635358758 rmse =  44.60908578012026\n",
      "model: curtrack\n",
      "predicting model=curtrack, plen=10\n",
      "loading model...done!, ctx:gpu(0)\n",
      "tss len=284, forecasts len=284\n"
     ]
    },
    {
     "name": "stderr",
     "output_type": "stream",
     "text": [
      "INFO:root:Using GPU\n"
     ]
    },
    {
     "name": "stdout",
     "output_type": "stream",
     "text": [
      "total:11, prediction_length:10\n",
      "top1acc= 0.4 top1acc_farmost= 0.2727272727272727 top5acc= 0.48 top5acc_farmost= 0.2909090909090909\n",
      "tau =  0.49364913122141263 rmse =  43.22325478608238\n",
      "model: zerotrack\n",
      "predicting model=zerotrack, plen=10\n",
      "loading model...done!, ctx:gpu(0)\n",
      "tss len=284, forecasts len=284\n",
      "total:11, prediction_length:10\n",
      "top1acc= 0.4090909090909091 top1acc_farmost= 0.2727272727272727 top5acc= 0.5381818181818182 top5acc_farmost= 0.38181818181818183\n",
      "tau =  0.5296862710476785 rmse =  37.96041397044846\n"
     ]
    },
    {
     "ename": "ValueError",
     "evalue": "could not convert string to float: 'indy500'",
     "output_type": "error",
     "traceback": [
      "\u001b[0;31m---------------------------------------------------------------------------\u001b[0m",
      "\u001b[0;31mValueError\u001b[0m                                Traceback (most recent call last)",
      "\u001b[0;32m<ipython-input-23-7efa67ec93e4>\u001b[0m in \u001b[0;36m<module>\u001b[0;34m\u001b[0m\n\u001b[1;32m     48\u001b[0m                                        \u001b[0;34m'trainid'\u001b[0m\u001b[0;34m,\u001b[0m\u001b[0;34m\u001b[0m\u001b[0;34m\u001b[0m\u001b[0m\n\u001b[1;32m     49\u001b[0m                                \u001b[0;34m'top1acc'\u001b[0m\u001b[0;34m,\u001b[0m\u001b[0;34m'top1acc_farmost'\u001b[0m\u001b[0;34m,\u001b[0m\u001b[0;34m'top5acc'\u001b[0m\u001b[0;34m,\u001b[0m\u001b[0;34m\u001b[0m\u001b[0;34m\u001b[0m\u001b[0m\n\u001b[0;32m---> 50\u001b[0;31m                                        'top5acc_farmost','tau','rmse']].values.astype(np.float)\n\u001b[0m\u001b[1;32m     51\u001b[0m \u001b[0;34m\u001b[0m\u001b[0m\n\u001b[1;32m     52\u001b[0m \u001b[0;34m\u001b[0m\u001b[0m\n",
      "\u001b[0;31mValueError\u001b[0m: could not convert string to float: 'indy500'"
     ]
    }
   ],
   "source": [
    "half=[True, False]\n",
    "#plens=[2,5,10,20,30]\n",
    "plens=[2,5,10]\n",
    "half=[False]\n",
    "trainids = [\"indy500-r0.2\",\"indy500-r0.4\",\"indy500\"]\n",
    "#trainids = [\"r0.5\",\"r0.6\"]\n",
    "#half=[True,False]\n",
    "#plens=[2]\n",
    "runs = 5\n",
    "\n",
    "#exp_id='median-r0.8'\n",
    "exp_id='mean-splitbyevent-predpit'\n",
    "\n",
    "\n",
    "\n",
    "allret = []\n",
    "for runid in range(runs):\n",
    "    exp_data = []\n",
    "    exp_result = []\n",
    "    \n",
    "    for halfmode in half:\n",
    "        for plen in plens:\n",
    "            for trainid in trainids:\n",
    "                print('='*30)\n",
    "                pred_ret, test_ds, metric_ret = run_exp_predpit(plen, halfmode, \n",
    "                                                        train_ratio=0.4,\n",
    "                                                        trainid=trainid)\n",
    "\n",
    "                #save \n",
    "                exp_data.append((pred_ret, test_ds))\n",
    "                exp_result.extend(metric_ret)\n",
    "\n",
    "    #save result\n",
    "    result = pd.DataFrame(exp_result, columns = ['model' , 'prediction_length', 'halfmode',\n",
    "                                       'trainid',\n",
    "                                       'top1acc','top1acc_farmost','top5acc',\n",
    "                                       'top5acc_farmost','tau','rmse'])\n",
    "    \n",
    "    #result['runid'] = [runid for x in range(len(result))]\n",
    "    allret.append(result)\n",
    "\n",
    "\n",
    "#final\n",
    "rowcnt = len(allret[0])\n",
    "metrics = np.empty((runs, rowcnt, 6))\n",
    "for runid, ret in enumerate(allret):\n",
    "    metrics[runid, :,:] = ret[['top1acc','top1acc_farmost','top5acc',\n",
    "                                       'top5acc_farmost','tau','rmse']].values\n",
    "    \n",
    "\n",
    "#average\n",
    "average = np.mean(metrics[:,:,:], axis=0)\n",
    "result = allret[0][['model' , 'prediction_length', 'halfmode',\n",
    "                                       'trainid',\n",
    "                               'top1acc','top1acc_farmost','top5acc',\n",
    "                                       'top5acc_farmost','tau','rmse']].values\n",
    "result[:,4:] = average\n",
    "\n",
    "dfret = pd.DataFrame(result, columns = ['model' , 'prediction_length', 'halfmode',\n",
    "                                   'trainid',\n",
    "                                   'top1acc','top1acc_farmost','top5acc',\n",
    "                                   'top5acc_farmost','tau','rmse'])\n",
    "\n",
    "dfret.to_csv(f'laptime2rank-evaluate-indy500-{exp_id}-r{runs}-result.csv')"
   ]
  },
  {
   "cell_type": "code",
   "execution_count": 41,
   "metadata": {},
   "outputs": [
    {
     "name": "stderr",
     "output_type": "stream",
     "text": [
      "INFO:root:Using GPU\n"
     ]
    },
    {
     "name": "stdout",
     "output_type": "stream",
     "text": [
      "==============================\n",
      "====event:Indy500, train_len=160, max_len=200, min_len=200\n",
      "carno:1, totallen:200, nancount:0, test_reccnt:19\n",
      "a short ts: carid=3，len=146\n",
      "carno:4, totallen:200, nancount:0, test_reccnt:19\n",
      "carno:6, totallen:200, nancount:0, test_reccnt:19\n",
      "carno:7, totallen:193, nancount:7, test_reccnt:15\n",
      "carno:9, totallen:200, nancount:0, test_reccnt:19\n",
      "a short ts: carid=10，len=57\n",
      "carno:12, totallen:200, nancount:0, test_reccnt:19\n",
      "a short ts: carid=13，len=67\n",
      "carno:14, totallen:187, nancount:13, test_reccnt:12\n",
      "carno:15, totallen:200, nancount:0, test_reccnt:19\n",
      "carno:17, totallen:199, nancount:1, test_reccnt:18\n",
      "a short ts: carid=18，len=137\n",
      "carno:19, totallen:199, nancount:1, test_reccnt:18\n",
      "carno:20, totallen:200, nancount:0, test_reccnt:19\n",
      "carno:21, totallen:199, nancount:1, test_reccnt:18\n",
      "carno:22, totallen:200, nancount:0, test_reccnt:19\n",
      "carno:23, totallen:200, nancount:0, test_reccnt:19\n",
      "a short ts: carid=24，len=154\n",
      "carno:25, totallen:200, nancount:0, test_reccnt:19\n",
      "carno:26, totallen:198, nancount:2, test_reccnt:18\n",
      "carno:27, totallen:200, nancount:0, test_reccnt:19\n",
      "carno:28, totallen:200, nancount:0, test_reccnt:19\n",
      "carno:29, totallen:200, nancount:0, test_reccnt:19\n",
      "a short ts: carid=30，len=46\n",
      "a short ts: carid=32，len=110\n",
      "a short ts: carid=33，len=46\n",
      "carno:59, totallen:198, nancount:2, test_reccnt:18\n",
      "carno:60, totallen:200, nancount:0, test_reccnt:19\n",
      "carno:64, totallen:200, nancount:0, test_reccnt:19\n",
      "carno:66, totallen:200, nancount:0, test_reccnt:19\n",
      "carno:88, totallen:200, nancount:0, test_reccnt:19\n",
      "carno:98, totallen:200, nancount:0, test_reccnt:19\n",
      "train len:0, test len:459\n",
      "model: oracle\n",
      "predicting model=oracle, plen=2\n",
      "loading model...done!, ctx:gpu(0)\n",
      "tss len=459, forecasts len=459\n"
     ]
    },
    {
     "name": "stderr",
     "output_type": "stream",
     "text": [
      "INFO:root:Using GPU\n"
     ]
    },
    {
     "name": "stdout",
     "output_type": "stream",
     "text": [
      "total:19, prediction_length:2\n",
      "top1acc= 0.631578947368421 top1acc_farmost= 0.5789473684210527 top5acc= 0.7947368421052632 top5acc_farmost= 0.7157894736842105\n",
      "tau =  0.8172866707184919 rmse =  11.172209509280448\n",
      "model: curtrack\n",
      "predicting model=curtrack, plen=2\n",
      "loading model...done!, ctx:gpu(0)\n"
     ]
    },
    {
     "name": "stderr",
     "output_type": "stream",
     "text": [
      "INFO:root:Using GPU\n"
     ]
    },
    {
     "name": "stdout",
     "output_type": "stream",
     "text": [
      "tss len=459, forecasts len=459\n",
      "total:19, prediction_length:2\n",
      "top1acc= 0.6578947368421053 top1acc_farmost= 0.631578947368421 top5acc= 0.7894736842105263 top5acc_farmost= 0.7263157894736842\n",
      "tau =  0.8121463592718134 rmse =  12.093489702517163\n",
      "model: zerotrack\n",
      "predicting model=zerotrack, plen=2\n",
      "loading model...done!, ctx:gpu(0)\n",
      "tss len=459, forecasts len=459\n"
     ]
    },
    {
     "name": "stderr",
     "output_type": "stream",
     "text": [
      "INFO:root:Using GPU\n"
     ]
    },
    {
     "name": "stdout",
     "output_type": "stream",
     "text": [
      "total:19, prediction_length:2\n",
      "top1acc= 0.6842105263157895 top1acc_farmost= 0.6842105263157895 top5acc= 0.8263157894736842 top5acc_farmost= 0.7789473684210526\n",
      "tau =  0.8512816582842831 rmse =  7.819767353165524\n",
      "==============================\n",
      "====event:Indy500, train_len=160, max_len=200, min_len=200\n",
      "carno:1, totallen:200, nancount:0, test_reccnt:7\n",
      "a short ts: carid=3，len=146\n",
      "carno:4, totallen:200, nancount:0, test_reccnt:7\n",
      "carno:6, totallen:200, nancount:0, test_reccnt:7\n",
      "carno:7, totallen:193, nancount:7, test_reccnt:5\n",
      "carno:9, totallen:200, nancount:0, test_reccnt:7\n",
      "a short ts: carid=10，len=57\n",
      "carno:12, totallen:200, nancount:0, test_reccnt:7\n",
      "a short ts: carid=13，len=67\n",
      "carno:14, totallen:187, nancount:13, test_reccnt:4\n",
      "carno:15, totallen:200, nancount:0, test_reccnt:7\n",
      "carno:17, totallen:199, nancount:1, test_reccnt:6\n",
      "a short ts: carid=18，len=137\n",
      "carno:19, totallen:199, nancount:1, test_reccnt:6\n",
      "carno:20, totallen:200, nancount:0, test_reccnt:7\n",
      "carno:21, totallen:199, nancount:1, test_reccnt:6\n",
      "carno:22, totallen:200, nancount:0, test_reccnt:7\n",
      "carno:23, totallen:200, nancount:0, test_reccnt:7\n",
      "a short ts: carid=24，len=154\n",
      "carno:25, totallen:200, nancount:0, test_reccnt:7\n",
      "carno:26, totallen:198, nancount:2, test_reccnt:6\n",
      "carno:27, totallen:200, nancount:0, test_reccnt:7\n",
      "carno:28, totallen:200, nancount:0, test_reccnt:7\n",
      "carno:29, totallen:200, nancount:0, test_reccnt:7\n",
      "a short ts: carid=30，len=46\n",
      "a short ts: carid=32，len=110\n",
      "a short ts: carid=33，len=46\n",
      "carno:59, totallen:198, nancount:2, test_reccnt:6\n",
      "carno:60, totallen:200, nancount:0, test_reccnt:7\n",
      "carno:64, totallen:200, nancount:0, test_reccnt:7\n",
      "carno:66, totallen:200, nancount:0, test_reccnt:7\n",
      "carno:88, totallen:200, nancount:0, test_reccnt:7\n",
      "carno:98, totallen:200, nancount:0, test_reccnt:7\n",
      "train len:0, test len:165\n",
      "model: oracle\n",
      "predicting model=oracle, plen=5\n",
      "loading model...done!, ctx:gpu(0)\n",
      "tss len=165, forecasts len=165\n"
     ]
    },
    {
     "name": "stderr",
     "output_type": "stream",
     "text": [
      "INFO:root:Using GPU\n"
     ]
    },
    {
     "name": "stdout",
     "output_type": "stream",
     "text": [
      "total:7, prediction_length:5\n",
      "top1acc= 0.42857142857142855 top1acc_farmost= 0.42857142857142855 top5acc= 0.6171428571428571 top5acc_farmost= 0.5428571428571428\n",
      "tau =  0.6277640120606873 rmse =  24.82398757763975\n",
      "model: curtrack\n",
      "predicting model=curtrack, plen=5\n",
      "loading model...done!, ctx:gpu(0)\n",
      "tss len=165, forecasts len=165\n"
     ]
    },
    {
     "name": "stderr",
     "output_type": "stream",
     "text": [
      "INFO:root:Using GPU\n"
     ]
    },
    {
     "name": "stdout",
     "output_type": "stream",
     "text": [
      "total:7, prediction_length:5\n",
      "top1acc= 0.37142857142857144 top1acc_farmost= 0.2857142857142857 top5acc= 0.6228571428571429 top5acc_farmost= 0.5142857142857142\n",
      "tau =  0.6536603964378901 rmse =  22.24736507936508\n",
      "model: zerotrack\n",
      "predicting model=zerotrack, plen=5\n",
      "loading model...done!, ctx:gpu(0)\n",
      "tss len=165, forecasts len=165\n"
     ]
    },
    {
     "name": "stderr",
     "output_type": "stream",
     "text": [
      "INFO:root:Using GPU\n"
     ]
    },
    {
     "name": "stdout",
     "output_type": "stream",
     "text": [
      "total:7, prediction_length:5\n",
      "top1acc= 0.42857142857142855 top1acc_farmost= 0.42857142857142855 top5acc= 0.6171428571428571 top5acc_farmost= 0.5428571428571428\n",
      "tau =  0.6212533666958221 rmse =  24.989057280883365\n",
      "==============================\n",
      "====event:Indy500, train_len=160, max_len=200, min_len=200\n",
      "carno:1, totallen:200, nancount:0, test_reccnt:3\n",
      "a short ts: carid=3，len=146\n",
      "carno:4, totallen:200, nancount:0, test_reccnt:3\n",
      "carno:6, totallen:200, nancount:0, test_reccnt:3\n",
      "carno:7, totallen:193, nancount:7, test_reccnt:2\n",
      "carno:9, totallen:200, nancount:0, test_reccnt:3\n",
      "a short ts: carid=10，len=57\n",
      "carno:12, totallen:200, nancount:0, test_reccnt:3\n",
      "a short ts: carid=13，len=67\n",
      "carno:14, totallen:187, nancount:13, test_reccnt:1\n",
      "carno:15, totallen:200, nancount:0, test_reccnt:3\n",
      "carno:17, totallen:199, nancount:1, test_reccnt:2\n",
      "a short ts: carid=18，len=137\n",
      "carno:19, totallen:199, nancount:1, test_reccnt:2\n",
      "carno:20, totallen:200, nancount:0, test_reccnt:3\n",
      "carno:21, totallen:199, nancount:1, test_reccnt:2\n",
      "carno:22, totallen:200, nancount:0, test_reccnt:3\n",
      "carno:23, totallen:200, nancount:0, test_reccnt:3\n",
      "a short ts: carid=24，len=154\n",
      "carno:25, totallen:200, nancount:0, test_reccnt:3\n",
      "carno:26, totallen:198, nancount:2, test_reccnt:2\n",
      "carno:27, totallen:200, nancount:0, test_reccnt:3\n",
      "carno:28, totallen:200, nancount:0, test_reccnt:3\n",
      "carno:29, totallen:200, nancount:0, test_reccnt:3\n",
      "a short ts: carid=30，len=46\n",
      "a short ts: carid=32，len=110\n",
      "a short ts: carid=33，len=46\n",
      "carno:59, totallen:198, nancount:2, test_reccnt:2\n",
      "carno:60, totallen:200, nancount:0, test_reccnt:3\n",
      "carno:64, totallen:200, nancount:0, test_reccnt:3\n",
      "carno:66, totallen:200, nancount:0, test_reccnt:3\n",
      "carno:88, totallen:200, nancount:0, test_reccnt:3\n",
      "carno:98, totallen:200, nancount:0, test_reccnt:3\n",
      "train len:0, test len:67\n",
      "model: oracle\n",
      "predicting model=oracle, plen=10\n",
      "loading model...done!, ctx:gpu(0)\n",
      "tss len=67, forecasts len=67\n"
     ]
    },
    {
     "name": "stderr",
     "output_type": "stream",
     "text": [
      "INFO:root:Using GPU\n"
     ]
    },
    {
     "name": "stdout",
     "output_type": "stream",
     "text": [
      "total:3, prediction_length:10\n",
      "top1acc= 0.26666666666666666 top1acc_farmost= 0.0 top5acc= 0.44666666666666666 top5acc_farmost= 0.4\n",
      "tau =  0.3771364876385337 rmse =  38.84755555555556\n",
      "model: curtrack\n",
      "predicting model=curtrack, plen=10\n",
      "loading model...done!, ctx:gpu(0)\n",
      "tss len=67, forecasts len=67\n"
     ]
    },
    {
     "name": "stderr",
     "output_type": "stream",
     "text": [
      "INFO:root:Using GPU\n"
     ]
    },
    {
     "name": "stdout",
     "output_type": "stream",
     "text": [
      "total:3, prediction_length:10\n",
      "top1acc= 0.1 top1acc_farmost= 0.0 top5acc= 0.36666666666666664 top5acc_farmost= 0.2\n",
      "tau =  0.2938214265416312 rmse =  43.507740740740736\n",
      "model: zerotrack\n",
      "predicting model=zerotrack, plen=10\n",
      "loading model...done!, ctx:gpu(0)\n",
      "tss len=67, forecasts len=67\n"
     ]
    },
    {
     "name": "stderr",
     "output_type": "stream",
     "text": [
      "INFO:root:Using GPU\n"
     ]
    },
    {
     "name": "stdout",
     "output_type": "stream",
     "text": [
      "total:3, prediction_length:10\n",
      "top1acc= 0.3333333333333333 top1acc_farmost= 0.3333333333333333 top5acc= 0.4266666666666667 top5acc_farmost= 0.3333333333333333\n",
      "tau =  0.39826418490101356 rmse =  37.18977777777778\n",
      "==============================\n",
      "====event:Indy500, train_len=160, max_len=200, min_len=200\n",
      "carno:1, totallen:200, nancount:0, test_reccnt:19\n",
      "a short ts: carid=3，len=146\n",
      "carno:4, totallen:200, nancount:0, test_reccnt:19\n",
      "carno:6, totallen:200, nancount:0, test_reccnt:19\n",
      "carno:7, totallen:193, nancount:7, test_reccnt:15\n",
      "carno:9, totallen:200, nancount:0, test_reccnt:19\n",
      "a short ts: carid=10，len=57\n",
      "carno:12, totallen:200, nancount:0, test_reccnt:19\n",
      "a short ts: carid=13，len=67\n",
      "carno:14, totallen:187, nancount:13, test_reccnt:12\n",
      "carno:15, totallen:200, nancount:0, test_reccnt:19\n",
      "carno:17, totallen:199, nancount:1, test_reccnt:18\n",
      "a short ts: carid=18，len=137\n",
      "carno:19, totallen:199, nancount:1, test_reccnt:18\n",
      "carno:20, totallen:200, nancount:0, test_reccnt:19\n",
      "carno:21, totallen:199, nancount:1, test_reccnt:18\n",
      "carno:22, totallen:200, nancount:0, test_reccnt:19\n",
      "carno:23, totallen:200, nancount:0, test_reccnt:19\n",
      "a short ts: carid=24，len=154\n",
      "carno:25, totallen:200, nancount:0, test_reccnt:19\n",
      "carno:26, totallen:198, nancount:2, test_reccnt:18\n",
      "carno:27, totallen:200, nancount:0, test_reccnt:19\n",
      "carno:28, totallen:200, nancount:0, test_reccnt:19\n",
      "carno:29, totallen:200, nancount:0, test_reccnt:19\n",
      "a short ts: carid=30，len=46\n",
      "a short ts: carid=32，len=110\n",
      "a short ts: carid=33，len=46\n",
      "carno:59, totallen:198, nancount:2, test_reccnt:18\n",
      "carno:60, totallen:200, nancount:0, test_reccnt:19\n",
      "carno:64, totallen:200, nancount:0, test_reccnt:19\n",
      "carno:66, totallen:200, nancount:0, test_reccnt:19\n",
      "carno:88, totallen:200, nancount:0, test_reccnt:19\n",
      "carno:98, totallen:200, nancount:0, test_reccnt:19\n",
      "train len:0, test len:459\n",
      "model: oracle\n",
      "predicting model=oracle, plen=2\n",
      "loading model...done!, ctx:gpu(0)\n",
      "tss len=459, forecasts len=459\n"
     ]
    },
    {
     "name": "stderr",
     "output_type": "stream",
     "text": [
      "INFO:root:Using GPU\n"
     ]
    },
    {
     "name": "stdout",
     "output_type": "stream",
     "text": [
      "total:19, prediction_length:2\n",
      "top1acc= 0.6052631578947368 top1acc_farmost= 0.5263157894736842 top5acc= 0.8 top5acc_farmost= 0.7263157894736842\n",
      "tau =  0.8306325402361205 rmse =  10.128541825578436\n",
      "model: curtrack\n",
      "predicting model=curtrack, plen=2\n",
      "loading model...done!, ctx:gpu(0)\n",
      "tss len=459, forecasts len=459\n"
     ]
    },
    {
     "name": "stderr",
     "output_type": "stream",
     "text": [
      "INFO:root:Using GPU\n"
     ]
    },
    {
     "name": "stdout",
     "output_type": "stream",
     "text": [
      "total:19, prediction_length:2\n",
      "top1acc= 0.6052631578947368 top1acc_farmost= 0.5263157894736842 top5acc= 0.8 top5acc_farmost= 0.7473684210526316\n",
      "tau =  0.8260990474131541 rmse =  10.869849987287054\n",
      "model: zerotrack\n",
      "predicting model=zerotrack, plen=2\n",
      "loading model...done!, ctx:gpu(0)\n",
      "tss len=459, forecasts len=459\n"
     ]
    },
    {
     "name": "stderr",
     "output_type": "stream",
     "text": [
      "INFO:root:Using GPU\n"
     ]
    },
    {
     "name": "stdout",
     "output_type": "stream",
     "text": [
      "total:19, prediction_length:2\n",
      "top1acc= 0.6052631578947368 top1acc_farmost= 0.5263157894736842 top5acc= 0.8263157894736842 top5acc_farmost= 0.7578947368421053\n",
      "tau =  0.8395551184207126 rmse =  9.044087210780575\n",
      "==============================\n",
      "====event:Indy500, train_len=160, max_len=200, min_len=200\n",
      "carno:1, totallen:200, nancount:0, test_reccnt:7\n",
      "a short ts: carid=3，len=146\n",
      "carno:4, totallen:200, nancount:0, test_reccnt:7\n",
      "carno:6, totallen:200, nancount:0, test_reccnt:7\n",
      "carno:7, totallen:193, nancount:7, test_reccnt:5\n",
      "carno:9, totallen:200, nancount:0, test_reccnt:7\n",
      "a short ts: carid=10，len=57\n",
      "carno:12, totallen:200, nancount:0, test_reccnt:7\n",
      "a short ts: carid=13，len=67\n",
      "carno:14, totallen:187, nancount:13, test_reccnt:4\n",
      "carno:15, totallen:200, nancount:0, test_reccnt:7\n",
      "carno:17, totallen:199, nancount:1, test_reccnt:6\n",
      "a short ts: carid=18，len=137\n",
      "carno:19, totallen:199, nancount:1, test_reccnt:6\n",
      "carno:20, totallen:200, nancount:0, test_reccnt:7\n",
      "carno:21, totallen:199, nancount:1, test_reccnt:6\n",
      "carno:22, totallen:200, nancount:0, test_reccnt:7\n",
      "carno:23, totallen:200, nancount:0, test_reccnt:7\n",
      "a short ts: carid=24，len=154\n",
      "carno:25, totallen:200, nancount:0, test_reccnt:7\n",
      "carno:26, totallen:198, nancount:2, test_reccnt:6\n",
      "carno:27, totallen:200, nancount:0, test_reccnt:7\n",
      "carno:28, totallen:200, nancount:0, test_reccnt:7\n",
      "carno:29, totallen:200, nancount:0, test_reccnt:7\n",
      "a short ts: carid=30，len=46\n",
      "a short ts: carid=32，len=110\n",
      "a short ts: carid=33，len=46\n",
      "carno:59, totallen:198, nancount:2, test_reccnt:6\n",
      "carno:60, totallen:200, nancount:0, test_reccnt:7\n",
      "carno:64, totallen:200, nancount:0, test_reccnt:7\n",
      "carno:66, totallen:200, nancount:0, test_reccnt:7\n",
      "carno:88, totallen:200, nancount:0, test_reccnt:7\n",
      "carno:98, totallen:200, nancount:0, test_reccnt:7\n",
      "train len:0, test len:165\n",
      "model: oracle\n",
      "predicting model=oracle, plen=5\n",
      "loading model...done!, ctx:gpu(0)\n",
      "tss len=165, forecasts len=165\n"
     ]
    },
    {
     "name": "stderr",
     "output_type": "stream",
     "text": [
      "INFO:root:Using GPU\n"
     ]
    },
    {
     "name": "stdout",
     "output_type": "stream",
     "text": [
      "total:7, prediction_length:5\n",
      "top1acc= 0.5142857142857142 top1acc_farmost= 0.5714285714285714 top5acc= 0.5885714285714285 top5acc_farmost= 0.4857142857142857\n",
      "tau =  0.6009706565102986 rmse =  27.769902001380263\n",
      "model: curtrack\n",
      "predicting model=curtrack, plen=5\n",
      "loading model...done!, ctx:gpu(0)\n",
      "tss len=165, forecasts len=165\n"
     ]
    },
    {
     "name": "stderr",
     "output_type": "stream",
     "text": [
      "INFO:root:Using GPU\n"
     ]
    },
    {
     "name": "stdout",
     "output_type": "stream",
     "text": [
      "total:7, prediction_length:5\n",
      "top1acc= 0.5142857142857142 top1acc_farmost= 0.5714285714285714 top5acc= 0.6171428571428571 top5acc_farmost= 0.5142857142857142\n",
      "tau =  0.6314508770570152 rmse =  24.61289993098689\n",
      "model: zerotrack\n",
      "predicting model=zerotrack, plen=5\n",
      "loading model...done!, ctx:gpu(0)\n",
      "tss len=165, forecasts len=165\n"
     ]
    },
    {
     "name": "stderr",
     "output_type": "stream",
     "text": [
      "INFO:root:Using GPU\n"
     ]
    },
    {
     "name": "stdout",
     "output_type": "stream",
     "text": [
      "total:7, prediction_length:5\n",
      "top1acc= 0.42857142857142855 top1acc_farmost= 0.42857142857142855 top5acc= 0.6114285714285714 top5acc_farmost= 0.5428571428571428\n",
      "tau =  0.6187746445086599 rmse =  25.463743271221524\n",
      "==============================\n",
      "====event:Indy500, train_len=160, max_len=200, min_len=200\n",
      "carno:1, totallen:200, nancount:0, test_reccnt:3\n",
      "a short ts: carid=3，len=146\n",
      "carno:4, totallen:200, nancount:0, test_reccnt:3\n",
      "carno:6, totallen:200, nancount:0, test_reccnt:3\n",
      "carno:7, totallen:193, nancount:7, test_reccnt:2\n",
      "carno:9, totallen:200, nancount:0, test_reccnt:3\n",
      "a short ts: carid=10，len=57\n",
      "carno:12, totallen:200, nancount:0, test_reccnt:3\n",
      "a short ts: carid=13，len=67\n",
      "carno:14, totallen:187, nancount:13, test_reccnt:1\n",
      "carno:15, totallen:200, nancount:0, test_reccnt:3\n",
      "carno:17, totallen:199, nancount:1, test_reccnt:2\n",
      "a short ts: carid=18，len=137\n",
      "carno:19, totallen:199, nancount:1, test_reccnt:2\n",
      "carno:20, totallen:200, nancount:0, test_reccnt:3\n",
      "carno:21, totallen:199, nancount:1, test_reccnt:2\n",
      "carno:22, totallen:200, nancount:0, test_reccnt:3\n",
      "carno:23, totallen:200, nancount:0, test_reccnt:3\n",
      "a short ts: carid=24，len=154\n",
      "carno:25, totallen:200, nancount:0, test_reccnt:3\n",
      "carno:26, totallen:198, nancount:2, test_reccnt:2\n",
      "carno:27, totallen:200, nancount:0, test_reccnt:3\n",
      "carno:28, totallen:200, nancount:0, test_reccnt:3\n",
      "carno:29, totallen:200, nancount:0, test_reccnt:3\n",
      "a short ts: carid=30，len=46\n",
      "a short ts: carid=32，len=110\n",
      "a short ts: carid=33，len=46\n",
      "carno:59, totallen:198, nancount:2, test_reccnt:2\n",
      "carno:60, totallen:200, nancount:0, test_reccnt:3\n",
      "carno:64, totallen:200, nancount:0, test_reccnt:3\n",
      "carno:66, totallen:200, nancount:0, test_reccnt:3\n",
      "carno:88, totallen:200, nancount:0, test_reccnt:3\n",
      "carno:98, totallen:200, nancount:0, test_reccnt:3\n",
      "train len:0, test len:67\n",
      "model: oracle\n",
      "predicting model=oracle, plen=10\n",
      "loading model...done!, ctx:gpu(0)\n",
      "tss len=67, forecasts len=67\n"
     ]
    },
    {
     "name": "stderr",
     "output_type": "stream",
     "text": [
      "INFO:root:Using GPU\n"
     ]
    },
    {
     "name": "stdout",
     "output_type": "stream",
     "text": [
      "total:3, prediction_length:10\n",
      "top1acc= 0.2 top1acc_farmost= 0.0 top5acc= 0.4533333333333333 top5acc_farmost= 0.3333333333333333\n",
      "tau =  0.3662849673202615 rmse =  40.13755555555556\n",
      "model: curtrack\n",
      "predicting model=curtrack, plen=10\n",
      "loading model...done!, ctx:gpu(0)\n",
      "tss len=67, forecasts len=67\n"
     ]
    },
    {
     "name": "stderr",
     "output_type": "stream",
     "text": [
      "INFO:root:Using GPU\n"
     ]
    },
    {
     "name": "stdout",
     "output_type": "stream",
     "text": [
      "total:3, prediction_length:10\n",
      "top1acc= 0.1 top1acc_farmost= 0.0 top5acc= 0.36666666666666664 top5acc_farmost= 0.2\n",
      "tau =  0.30176726342711 rmse =  44.45077777777777\n",
      "model: zerotrack\n",
      "predicting model=zerotrack, plen=10\n",
      "loading model...done!, ctx:gpu(0)\n",
      "tss len=67, forecasts len=67\n"
     ]
    },
    {
     "name": "stderr",
     "output_type": "stream",
     "text": [
      "INFO:root:Using GPU\n"
     ]
    },
    {
     "name": "stdout",
     "output_type": "stream",
     "text": [
      "total:3, prediction_length:10\n",
      "top1acc= 0.26666666666666666 top1acc_farmost= 0.0 top5acc= 0.4266666666666667 top5acc_farmost= 0.3333333333333333\n",
      "tau =  0.3787881500426258 rmse =  38.657333333333334\n",
      "==============================\n",
      "====event:Indy500, train_len=160, max_len=200, min_len=200\n",
      "carno:1, totallen:200, nancount:0, test_reccnt:19\n",
      "a short ts: carid=3，len=146\n",
      "carno:4, totallen:200, nancount:0, test_reccnt:19\n",
      "carno:6, totallen:200, nancount:0, test_reccnt:19\n",
      "carno:7, totallen:193, nancount:7, test_reccnt:15\n",
      "carno:9, totallen:200, nancount:0, test_reccnt:19\n",
      "a short ts: carid=10，len=57\n",
      "carno:12, totallen:200, nancount:0, test_reccnt:19\n",
      "a short ts: carid=13，len=67\n",
      "carno:14, totallen:187, nancount:13, test_reccnt:12\n",
      "carno:15, totallen:200, nancount:0, test_reccnt:19\n",
      "carno:17, totallen:199, nancount:1, test_reccnt:18\n",
      "a short ts: carid=18，len=137\n",
      "carno:19, totallen:199, nancount:1, test_reccnt:18\n",
      "carno:20, totallen:200, nancount:0, test_reccnt:19\n",
      "carno:21, totallen:199, nancount:1, test_reccnt:18\n",
      "carno:22, totallen:200, nancount:0, test_reccnt:19\n",
      "carno:23, totallen:200, nancount:0, test_reccnt:19\n",
      "a short ts: carid=24，len=154\n",
      "carno:25, totallen:200, nancount:0, test_reccnt:19\n",
      "carno:26, totallen:198, nancount:2, test_reccnt:18\n",
      "carno:27, totallen:200, nancount:0, test_reccnt:19\n",
      "carno:28, totallen:200, nancount:0, test_reccnt:19\n",
      "carno:29, totallen:200, nancount:0, test_reccnt:19\n",
      "a short ts: carid=30，len=46\n",
      "a short ts: carid=32，len=110\n",
      "a short ts: carid=33，len=46\n",
      "carno:59, totallen:198, nancount:2, test_reccnt:18\n",
      "carno:60, totallen:200, nancount:0, test_reccnt:19\n",
      "carno:64, totallen:200, nancount:0, test_reccnt:19\n",
      "carno:66, totallen:200, nancount:0, test_reccnt:19\n",
      "carno:88, totallen:200, nancount:0, test_reccnt:19\n",
      "carno:98, totallen:200, nancount:0, test_reccnt:19\n",
      "train len:0, test len:459\n",
      "model: oracle\n",
      "predicting model=oracle, plen=2\n",
      "loading model...done!, ctx:gpu(0)\n",
      "tss len=459, forecasts len=459\n"
     ]
    },
    {
     "name": "stderr",
     "output_type": "stream",
     "text": [
      "INFO:root:Using GPU\n"
     ]
    },
    {
     "name": "stdout",
     "output_type": "stream",
     "text": [
      "total:19, prediction_length:2\n",
      "top1acc= 0.5789473684210527 top1acc_farmost= 0.5263157894736842 top5acc= 0.7842105263157895 top5acc_farmost= 0.7157894736842105\n",
      "tau =  0.8266613673414721 rmse =  10.991889143147727\n",
      "model: curtrack\n",
      "predicting model=curtrack, plen=2\n",
      "loading model...done!, ctx:gpu(0)\n",
      "tss len=459, forecasts len=459\n"
     ]
    },
    {
     "name": "stderr",
     "output_type": "stream",
     "text": [
      "INFO:root:Using GPU\n"
     ]
    },
    {
     "name": "stdout",
     "output_type": "stream",
     "text": [
      "total:19, prediction_length:2\n",
      "top1acc= 0.5789473684210527 top1acc_farmost= 0.5263157894736842 top5acc= 0.7894736842105263 top5acc_farmost= 0.7368421052631579\n",
      "tau =  0.8225234781520957 rmse =  11.605863208746504\n",
      "model: zerotrack\n",
      "predicting model=zerotrack, plen=2\n",
      "loading model...done!, ctx:gpu(0)\n",
      "tss len=459, forecasts len=459\n"
     ]
    },
    {
     "name": "stderr",
     "output_type": "stream",
     "text": [
      "INFO:root:Using GPU\n"
     ]
    },
    {
     "name": "stdout",
     "output_type": "stream",
     "text": [
      "total:19, prediction_length:2\n",
      "top1acc= 0.5526315789473685 top1acc_farmost= 0.47368421052631576 top5acc= 0.8473684210526315 top5acc_farmost= 0.8\n",
      "tau =  0.85492235587807 rmse =  7.4954576659038885\n",
      "==============================\n",
      "====event:Indy500, train_len=160, max_len=200, min_len=200\n",
      "carno:1, totallen:200, nancount:0, test_reccnt:7\n",
      "a short ts: carid=3，len=146\n",
      "carno:4, totallen:200, nancount:0, test_reccnt:7\n",
      "carno:6, totallen:200, nancount:0, test_reccnt:7\n",
      "carno:7, totallen:193, nancount:7, test_reccnt:5\n",
      "carno:9, totallen:200, nancount:0, test_reccnt:7\n",
      "a short ts: carid=10，len=57\n",
      "carno:12, totallen:200, nancount:0, test_reccnt:7\n",
      "a short ts: carid=13，len=67\n",
      "carno:14, totallen:187, nancount:13, test_reccnt:4\n",
      "carno:15, totallen:200, nancount:0, test_reccnt:7\n",
      "carno:17, totallen:199, nancount:1, test_reccnt:6\n",
      "a short ts: carid=18，len=137\n",
      "carno:19, totallen:199, nancount:1, test_reccnt:6\n",
      "carno:20, totallen:200, nancount:0, test_reccnt:7\n",
      "carno:21, totallen:199, nancount:1, test_reccnt:6\n",
      "carno:22, totallen:200, nancount:0, test_reccnt:7\n",
      "carno:23, totallen:200, nancount:0, test_reccnt:7\n",
      "a short ts: carid=24，len=154\n",
      "carno:25, totallen:200, nancount:0, test_reccnt:7\n",
      "carno:26, totallen:198, nancount:2, test_reccnt:6\n",
      "carno:27, totallen:200, nancount:0, test_reccnt:7\n",
      "carno:28, totallen:200, nancount:0, test_reccnt:7\n",
      "carno:29, totallen:200, nancount:0, test_reccnt:7\n",
      "a short ts: carid=30，len=46\n",
      "a short ts: carid=32，len=110\n",
      "a short ts: carid=33，len=46\n",
      "carno:59, totallen:198, nancount:2, test_reccnt:6\n",
      "carno:60, totallen:200, nancount:0, test_reccnt:7\n",
      "carno:64, totallen:200, nancount:0, test_reccnt:7\n",
      "carno:66, totallen:200, nancount:0, test_reccnt:7\n",
      "carno:88, totallen:200, nancount:0, test_reccnt:7\n",
      "carno:98, totallen:200, nancount:0, test_reccnt:7\n",
      "train len:0, test len:165\n",
      "model: oracle\n",
      "predicting model=oracle, plen=5\n",
      "loading model...done!, ctx:gpu(0)\n",
      "tss len=165, forecasts len=165\n"
     ]
    },
    {
     "name": "stderr",
     "output_type": "stream",
     "text": [
      "INFO:root:Using GPU\n"
     ]
    },
    {
     "name": "stdout",
     "output_type": "stream",
     "text": [
      "total:7, prediction_length:5\n",
      "top1acc= 0.42857142857142855 top1acc_farmost= 0.42857142857142855 top5acc= 0.6228571428571429 top5acc_farmost= 0.5428571428571428\n",
      "tau =  0.6192222952949294 rmse =  26.00591856452726\n",
      "model: curtrack\n",
      "predicting model=curtrack, plen=5\n",
      "loading model...done!, ctx:gpu(0)\n"
     ]
    },
    {
     "name": "stderr",
     "output_type": "stream",
     "text": [
      "INFO:root:Using GPU\n"
     ]
    },
    {
     "name": "stdout",
     "output_type": "stream",
     "text": [
      "tss len=165, forecasts len=165\n",
      "total:7, prediction_length:5\n",
      "top1acc= 0.37142857142857144 top1acc_farmost= 0.2857142857142857 top5acc= 0.6285714285714286 top5acc_farmost= 0.5142857142857142\n",
      "tau =  0.6454788203555467 rmse =  23.416285714285717\n",
      "model: zerotrack\n",
      "predicting model=zerotrack, plen=5\n",
      "loading model...done!, ctx:gpu(0)\n",
      "tss len=165, forecasts len=165\n"
     ]
    },
    {
     "name": "stderr",
     "output_type": "stream",
     "text": [
      "INFO:root:Using GPU\n"
     ]
    },
    {
     "name": "stdout",
     "output_type": "stream",
     "text": [
      "total:7, prediction_length:5\n",
      "top1acc= 0.42857142857142855 top1acc_farmost= 0.42857142857142855 top5acc= 0.6057142857142858 top5acc_farmost= 0.5142857142857142\n",
      "tau =  0.6111922203400465 rmse =  25.47297032436163\n",
      "==============================\n",
      "====event:Indy500, train_len=160, max_len=200, min_len=200\n",
      "carno:1, totallen:200, nancount:0, test_reccnt:3\n",
      "a short ts: carid=3，len=146\n",
      "carno:4, totallen:200, nancount:0, test_reccnt:3\n",
      "carno:6, totallen:200, nancount:0, test_reccnt:3\n",
      "carno:7, totallen:193, nancount:7, test_reccnt:2\n",
      "carno:9, totallen:200, nancount:0, test_reccnt:3\n",
      "a short ts: carid=10，len=57\n",
      "carno:12, totallen:200, nancount:0, test_reccnt:3\n",
      "a short ts: carid=13，len=67\n",
      "carno:14, totallen:187, nancount:13, test_reccnt:1\n",
      "carno:15, totallen:200, nancount:0, test_reccnt:3\n",
      "carno:17, totallen:199, nancount:1, test_reccnt:2\n",
      "a short ts: carid=18，len=137\n",
      "carno:19, totallen:199, nancount:1, test_reccnt:2\n",
      "carno:20, totallen:200, nancount:0, test_reccnt:3\n",
      "carno:21, totallen:199, nancount:1, test_reccnt:2\n",
      "carno:22, totallen:200, nancount:0, test_reccnt:3\n",
      "carno:23, totallen:200, nancount:0, test_reccnt:3\n",
      "a short ts: carid=24，len=154\n",
      "carno:25, totallen:200, nancount:0, test_reccnt:3\n",
      "carno:26, totallen:198, nancount:2, test_reccnt:2\n",
      "carno:27, totallen:200, nancount:0, test_reccnt:3\n",
      "carno:28, totallen:200, nancount:0, test_reccnt:3\n",
      "carno:29, totallen:200, nancount:0, test_reccnt:3\n",
      "a short ts: carid=30，len=46\n",
      "a short ts: carid=32，len=110\n",
      "a short ts: carid=33，len=46\n",
      "carno:59, totallen:198, nancount:2, test_reccnt:2\n",
      "carno:60, totallen:200, nancount:0, test_reccnt:3\n",
      "carno:64, totallen:200, nancount:0, test_reccnt:3\n",
      "carno:66, totallen:200, nancount:0, test_reccnt:3\n",
      "carno:88, totallen:200, nancount:0, test_reccnt:3\n",
      "carno:98, totallen:200, nancount:0, test_reccnt:3\n",
      "train len:0, test len:67\n",
      "model: oracle\n",
      "predicting model=oracle, plen=10\n",
      "loading model...done!, ctx:gpu(0)\n",
      "tss len=67, forecasts len=67\n"
     ]
    },
    {
     "name": "stderr",
     "output_type": "stream",
     "text": [
      "INFO:root:Using GPU\n"
     ]
    },
    {
     "name": "stdout",
     "output_type": "stream",
     "text": [
      "total:3, prediction_length:10\n",
      "top1acc= 0.23333333333333334 top1acc_farmost= 0.0 top5acc= 0.4533333333333333 top5acc_farmost= 0.4666666666666667\n",
      "tau =  0.38525582078241927 rmse =  36.01411111111111\n",
      "model: curtrack\n",
      "predicting model=curtrack, plen=10\n",
      "loading model...done!, ctx:gpu(0)\n",
      "tss len=67, forecasts len=67\n"
     ]
    },
    {
     "name": "stderr",
     "output_type": "stream",
     "text": [
      "INFO:root:Using GPU\n"
     ]
    },
    {
     "name": "stdout",
     "output_type": "stream",
     "text": [
      "total:3, prediction_length:10\n",
      "top1acc= 0.1 top1acc_farmost= 0.0 top5acc= 0.36666666666666664 top5acc_farmost= 0.2\n",
      "tau =  0.3268113100312589 rmse =  40.08133333333333\n",
      "model: zerotrack\n",
      "predicting model=zerotrack, plen=10\n",
      "loading model...done!, ctx:gpu(0)\n",
      "tss len=67, forecasts len=67\n"
     ]
    },
    {
     "name": "stderr",
     "output_type": "stream",
     "text": [
      "INFO:root:Using GPU\n"
     ]
    },
    {
     "name": "stdout",
     "output_type": "stream",
     "text": [
      "total:3, prediction_length:10\n",
      "top1acc= 0.3333333333333333 top1acc_farmost= 0.3333333333333333 top5acc= 0.4266666666666667 top5acc_farmost= 0.3333333333333333\n",
      "tau =  0.4059558776167472 rmse =  37.09485185185185\n",
      "==============================\n",
      "====event:Indy500, train_len=160, max_len=200, min_len=200\n",
      "carno:1, totallen:200, nancount:0, test_reccnt:19\n",
      "a short ts: carid=3，len=146\n",
      "carno:4, totallen:200, nancount:0, test_reccnt:19\n",
      "carno:6, totallen:200, nancount:0, test_reccnt:19\n",
      "carno:7, totallen:193, nancount:7, test_reccnt:15\n",
      "carno:9, totallen:200, nancount:0, test_reccnt:19\n",
      "a short ts: carid=10，len=57\n",
      "carno:12, totallen:200, nancount:0, test_reccnt:19\n",
      "a short ts: carid=13，len=67\n",
      "carno:14, totallen:187, nancount:13, test_reccnt:12\n",
      "carno:15, totallen:200, nancount:0, test_reccnt:19\n",
      "carno:17, totallen:199, nancount:1, test_reccnt:18\n",
      "a short ts: carid=18，len=137\n",
      "carno:19, totallen:199, nancount:1, test_reccnt:18\n",
      "carno:20, totallen:200, nancount:0, test_reccnt:19\n",
      "carno:21, totallen:199, nancount:1, test_reccnt:18\n",
      "carno:22, totallen:200, nancount:0, test_reccnt:19\n",
      "carno:23, totallen:200, nancount:0, test_reccnt:19\n",
      "a short ts: carid=24，len=154\n",
      "carno:25, totallen:200, nancount:0, test_reccnt:19\n",
      "carno:26, totallen:198, nancount:2, test_reccnt:18\n",
      "carno:27, totallen:200, nancount:0, test_reccnt:19\n",
      "carno:28, totallen:200, nancount:0, test_reccnt:19\n",
      "carno:29, totallen:200, nancount:0, test_reccnt:19\n",
      "a short ts: carid=30，len=46\n",
      "a short ts: carid=32，len=110\n",
      "a short ts: carid=33，len=46\n",
      "carno:59, totallen:198, nancount:2, test_reccnt:18\n",
      "carno:60, totallen:200, nancount:0, test_reccnt:19\n",
      "carno:64, totallen:200, nancount:0, test_reccnt:19\n",
      "carno:66, totallen:200, nancount:0, test_reccnt:19\n",
      "carno:88, totallen:200, nancount:0, test_reccnt:19\n",
      "carno:98, totallen:200, nancount:0, test_reccnt:19\n",
      "train len:0, test len:459\n",
      "model: oracle\n",
      "predicting model=oracle, plen=2\n",
      "loading model...done!, ctx:gpu(0)\n",
      "tss len=459, forecasts len=459\n"
     ]
    },
    {
     "name": "stderr",
     "output_type": "stream",
     "text": [
      "INFO:root:Using GPU\n"
     ]
    },
    {
     "name": "stdout",
     "output_type": "stream",
     "text": [
      "total:19, prediction_length:2\n",
      "top1acc= 0.6052631578947368 top1acc_farmost= 0.5263157894736842 top5acc= 0.8157894736842105 top5acc_farmost= 0.7473684210526316\n",
      "tau =  0.8298383314909764 rmse =  10.274082125603863\n",
      "model: curtrack\n",
      "predicting model=curtrack, plen=2\n",
      "loading model...done!, ctx:gpu(0)\n",
      "tss len=459, forecasts len=459\n"
     ]
    },
    {
     "name": "stderr",
     "output_type": "stream",
     "text": [
      "INFO:root:Using GPU\n"
     ]
    },
    {
     "name": "stdout",
     "output_type": "stream",
     "text": [
      "total:19, prediction_length:2\n",
      "top1acc= 0.5526315789473685 top1acc_farmost= 0.42105263157894735 top5acc= 0.7947368421052632 top5acc_farmost= 0.7473684210526316\n",
      "tau =  0.8201743542573399 rmse =  11.352111619628781\n",
      "model: zerotrack\n",
      "predicting model=zerotrack, plen=2\n",
      "loading model...done!, ctx:gpu(0)\n",
      "tss len=459, forecasts len=459\n"
     ]
    },
    {
     "name": "stderr",
     "output_type": "stream",
     "text": [
      "INFO:root:Using GPU\n"
     ]
    },
    {
     "name": "stdout",
     "output_type": "stream",
     "text": [
      "total:19, prediction_length:2\n",
      "top1acc= 0.6578947368421053 top1acc_farmost= 0.5789473684210527 top5acc= 0.8315789473684211 top5acc_farmost= 0.7684210526315789\n",
      "tau =  0.8511505994118053 rmse =  7.779466056445461\n",
      "==============================\n",
      "====event:Indy500, train_len=160, max_len=200, min_len=200\n",
      "carno:1, totallen:200, nancount:0, test_reccnt:7\n",
      "a short ts: carid=3，len=146\n",
      "carno:4, totallen:200, nancount:0, test_reccnt:7\n",
      "carno:6, totallen:200, nancount:0, test_reccnt:7\n",
      "carno:7, totallen:193, nancount:7, test_reccnt:5\n",
      "carno:9, totallen:200, nancount:0, test_reccnt:7\n",
      "a short ts: carid=10，len=57\n",
      "carno:12, totallen:200, nancount:0, test_reccnt:7\n",
      "a short ts: carid=13，len=67\n",
      "carno:14, totallen:187, nancount:13, test_reccnt:4\n",
      "carno:15, totallen:200, nancount:0, test_reccnt:7\n",
      "carno:17, totallen:199, nancount:1, test_reccnt:6\n",
      "a short ts: carid=18，len=137\n",
      "carno:19, totallen:199, nancount:1, test_reccnt:6\n",
      "carno:20, totallen:200, nancount:0, test_reccnt:7\n",
      "carno:21, totallen:199, nancount:1, test_reccnt:6\n",
      "carno:22, totallen:200, nancount:0, test_reccnt:7\n",
      "carno:23, totallen:200, nancount:0, test_reccnt:7\n",
      "a short ts: carid=24，len=154\n",
      "carno:25, totallen:200, nancount:0, test_reccnt:7\n",
      "carno:26, totallen:198, nancount:2, test_reccnt:6\n",
      "carno:27, totallen:200, nancount:0, test_reccnt:7\n",
      "carno:28, totallen:200, nancount:0, test_reccnt:7\n",
      "carno:29, totallen:200, nancount:0, test_reccnt:7\n",
      "a short ts: carid=30，len=46\n",
      "a short ts: carid=32，len=110\n",
      "a short ts: carid=33，len=46\n",
      "carno:59, totallen:198, nancount:2, test_reccnt:6\n",
      "carno:60, totallen:200, nancount:0, test_reccnt:7\n",
      "carno:64, totallen:200, nancount:0, test_reccnt:7\n",
      "carno:66, totallen:200, nancount:0, test_reccnt:7\n",
      "carno:88, totallen:200, nancount:0, test_reccnt:7\n",
      "carno:98, totallen:200, nancount:0, test_reccnt:7\n",
      "train len:0, test len:165\n",
      "model: oracle\n",
      "predicting model=oracle, plen=5\n",
      "loading model...done!, ctx:gpu(0)\n",
      "tss len=165, forecasts len=165\n"
     ]
    },
    {
     "name": "stderr",
     "output_type": "stream",
     "text": [
      "INFO:root:Using GPU\n"
     ]
    },
    {
     "name": "stdout",
     "output_type": "stream",
     "text": [
      "total:7, prediction_length:5\n",
      "top1acc= 0.37142857142857144 top1acc_farmost= 0.42857142857142855 top5acc= 0.5828571428571429 top5acc_farmost= 0.5428571428571428\n",
      "tau =  0.6131860143266793 rmse =  27.639095928226368\n",
      "model: curtrack\n",
      "predicting model=curtrack, plen=5\n",
      "loading model...done!, ctx:gpu(0)\n",
      "tss len=165, forecasts len=165\n"
     ]
    },
    {
     "name": "stderr",
     "output_type": "stream",
     "text": [
      "INFO:root:Using GPU\n"
     ]
    },
    {
     "name": "stdout",
     "output_type": "stream",
     "text": [
      "total:7, prediction_length:5\n",
      "top1acc= 0.37142857142857144 top1acc_farmost= 0.42857142857142855 top5acc= 0.6171428571428571 top5acc_farmost= 0.5428571428571428\n",
      "tau =  0.6248094773087101 rmse =  26.307246376811595\n",
      "model: zerotrack\n",
      "predicting model=zerotrack, plen=5\n",
      "loading model...done!, ctx:gpu(0)\n",
      "tss len=165, forecasts len=165\n"
     ]
    },
    {
     "name": "stderr",
     "output_type": "stream",
     "text": [
      "INFO:root:Using GPU\n"
     ]
    },
    {
     "name": "stdout",
     "output_type": "stream",
     "text": [
      "total:7, prediction_length:5\n",
      "top1acc= 0.45714285714285713 top1acc_farmost= 0.5714285714285714 top5acc= 0.6285714285714286 top5acc_farmost= 0.5714285714285714\n",
      "tau =  0.6537171554787925 rmse =  22.169091787439616\n",
      "==============================\n",
      "====event:Indy500, train_len=160, max_len=200, min_len=200\n",
      "carno:1, totallen:200, nancount:0, test_reccnt:3\n",
      "a short ts: carid=3，len=146\n",
      "carno:4, totallen:200, nancount:0, test_reccnt:3\n",
      "carno:6, totallen:200, nancount:0, test_reccnt:3\n",
      "carno:7, totallen:193, nancount:7, test_reccnt:2\n",
      "carno:9, totallen:200, nancount:0, test_reccnt:3\n",
      "a short ts: carid=10，len=57\n",
      "carno:12, totallen:200, nancount:0, test_reccnt:3\n",
      "a short ts: carid=13，len=67\n",
      "carno:14, totallen:187, nancount:13, test_reccnt:1\n",
      "carno:15, totallen:200, nancount:0, test_reccnt:3\n",
      "carno:17, totallen:199, nancount:1, test_reccnt:2\n",
      "a short ts: carid=18，len=137\n",
      "carno:19, totallen:199, nancount:1, test_reccnt:2\n",
      "carno:20, totallen:200, nancount:0, test_reccnt:3\n",
      "carno:21, totallen:199, nancount:1, test_reccnt:2\n",
      "carno:22, totallen:200, nancount:0, test_reccnt:3\n",
      "carno:23, totallen:200, nancount:0, test_reccnt:3\n",
      "a short ts: carid=24，len=154\n",
      "carno:25, totallen:200, nancount:0, test_reccnt:3\n",
      "carno:26, totallen:198, nancount:2, test_reccnt:2\n",
      "carno:27, totallen:200, nancount:0, test_reccnt:3\n",
      "carno:28, totallen:200, nancount:0, test_reccnt:3\n",
      "carno:29, totallen:200, nancount:0, test_reccnt:3\n",
      "a short ts: carid=30，len=46\n",
      "a short ts: carid=32，len=110\n",
      "a short ts: carid=33，len=46\n",
      "carno:59, totallen:198, nancount:2, test_reccnt:2\n",
      "carno:60, totallen:200, nancount:0, test_reccnt:3\n",
      "carno:64, totallen:200, nancount:0, test_reccnt:3\n",
      "carno:66, totallen:200, nancount:0, test_reccnt:3\n",
      "carno:88, totallen:200, nancount:0, test_reccnt:3\n",
      "carno:98, totallen:200, nancount:0, test_reccnt:3\n",
      "train len:0, test len:67\n",
      "model: oracle\n",
      "predicting model=oracle, plen=10\n",
      "loading model...done!, ctx:gpu(0)\n",
      "tss len=67, forecasts len=67\n"
     ]
    },
    {
     "name": "stderr",
     "output_type": "stream",
     "text": [
      "INFO:root:Using GPU\n"
     ]
    },
    {
     "name": "stdout",
     "output_type": "stream",
     "text": [
      "total:3, prediction_length:10\n",
      "top1acc= 0.26666666666666666 top1acc_farmost= 0.0 top5acc= 0.46 top5acc_farmost= 0.3333333333333333\n",
      "tau =  0.3661428341384864 rmse =  39.22729629629629\n",
      "model: curtrack\n",
      "predicting model=curtrack, plen=10\n",
      "loading model...done!, ctx:gpu(0)\n",
      "tss len=67, forecasts len=67\n",
      "total:3, prediction_length:10\n",
      "top1acc= 0.06666666666666667"
     ]
    },
    {
     "name": "stderr",
     "output_type": "stream",
     "text": [
      "INFO:root:Using GPU\n"
     ]
    },
    {
     "name": "stdout",
     "output_type": "stream",
     "text": [
      " top1acc_farmost= 0.0 top5acc= 0.36666666666666664 top5acc_farmost= 0.2\n",
      "tau =  0.30790238704177325 rmse =  42.34437037037037\n",
      "model: zerotrack\n",
      "predicting model=zerotrack, plen=10\n",
      "loading model...done!, ctx:gpu(0)\n",
      "tss len=67, forecasts len=67\n"
     ]
    },
    {
     "name": "stderr",
     "output_type": "stream",
     "text": [
      "INFO:root:Using GPU\n"
     ]
    },
    {
     "name": "stdout",
     "output_type": "stream",
     "text": [
      "total:3, prediction_length:10\n",
      "top1acc= 0.3333333333333333 top1acc_farmost= 0.3333333333333333 top5acc= 0.42 top5acc_farmost= 0.3333333333333333\n",
      "tau =  0.39272011935208867 rmse =  38.00862962962963\n",
      "==============================\n",
      "====event:Indy500, train_len=160, max_len=200, min_len=200\n",
      "carno:1, totallen:200, nancount:0, test_reccnt:19\n",
      "a short ts: carid=3，len=146\n",
      "carno:4, totallen:200, nancount:0, test_reccnt:19\n",
      "carno:6, totallen:200, nancount:0, test_reccnt:19\n",
      "carno:7, totallen:193, nancount:7, test_reccnt:15\n",
      "carno:9, totallen:200, nancount:0, test_reccnt:19\n",
      "a short ts: carid=10，len=57\n",
      "carno:12, totallen:200, nancount:0, test_reccnt:19\n",
      "a short ts: carid=13，len=67\n",
      "carno:14, totallen:187, nancount:13, test_reccnt:12\n",
      "carno:15, totallen:200, nancount:0, test_reccnt:19\n",
      "carno:17, totallen:199, nancount:1, test_reccnt:18\n",
      "a short ts: carid=18，len=137\n",
      "carno:19, totallen:199, nancount:1, test_reccnt:18\n",
      "carno:20, totallen:200, nancount:0, test_reccnt:19\n",
      "carno:21, totallen:199, nancount:1, test_reccnt:18\n",
      "carno:22, totallen:200, nancount:0, test_reccnt:19\n",
      "carno:23, totallen:200, nancount:0, test_reccnt:19\n",
      "a short ts: carid=24，len=154\n",
      "carno:25, totallen:200, nancount:0, test_reccnt:19\n",
      "carno:26, totallen:198, nancount:2, test_reccnt:18\n",
      "carno:27, totallen:200, nancount:0, test_reccnt:19\n",
      "carno:28, totallen:200, nancount:0, test_reccnt:19\n",
      "carno:29, totallen:200, nancount:0, test_reccnt:19\n",
      "a short ts: carid=30，len=46\n",
      "a short ts: carid=32，len=110\n",
      "a short ts: carid=33，len=46\n",
      "carno:59, totallen:198, nancount:2, test_reccnt:18\n",
      "carno:60, totallen:200, nancount:0, test_reccnt:19\n",
      "carno:64, totallen:200, nancount:0, test_reccnt:19\n",
      "carno:66, totallen:200, nancount:0, test_reccnt:19\n",
      "carno:88, totallen:200, nancount:0, test_reccnt:19\n",
      "carno:98, totallen:200, nancount:0, test_reccnt:19\n",
      "train len:0, test len:459\n",
      "model: oracle\n",
      "predicting model=oracle, plen=2\n",
      "loading model...done!, ctx:gpu(0)\n",
      "tss len=459, forecasts len=459\n"
     ]
    },
    {
     "name": "stderr",
     "output_type": "stream",
     "text": [
      "INFO:root:Using GPU\n"
     ]
    },
    {
     "name": "stdout",
     "output_type": "stream",
     "text": [
      "total:19, prediction_length:2\n",
      "top1acc= 0.5789473684210527 top1acc_farmost= 0.5263157894736842 top5acc= 0.8157894736842105 top5acc_farmost= 0.7578947368421053\n",
      "tau =  0.8237643768415069 rmse =  10.889577930333079\n",
      "model: curtrack\n",
      "predicting model=curtrack, plen=2\n",
      "loading model...done!, ctx:gpu(0)\n",
      "tss len=459, forecasts len=459\n"
     ]
    },
    {
     "name": "stderr",
     "output_type": "stream",
     "text": [
      "INFO:root:Using GPU\n"
     ]
    },
    {
     "name": "stdout",
     "output_type": "stream",
     "text": [
      "total:19, prediction_length:2\n",
      "top1acc= 0.5789473684210527 top1acc_farmost= 0.5263157894736842 top5acc= 0.8052631578947368 top5acc_farmost= 0.7473684210526316\n",
      "tau =  0.8188202526000343 rmse =  11.941169590643273\n",
      "model: zerotrack\n",
      "predicting model=zerotrack, plen=2\n",
      "loading model...done!, ctx:gpu(0)\n",
      "tss len=459, forecasts len=459\n"
     ]
    },
    {
     "name": "stderr",
     "output_type": "stream",
     "text": [
      "INFO:root:Using GPU\n"
     ]
    },
    {
     "name": "stdout",
     "output_type": "stream",
     "text": [
      "total:19, prediction_length:2\n",
      "top1acc= 0.631578947368421 top1acc_farmost= 0.631578947368421 top5acc= 0.8368421052631579 top5acc_farmost= 0.7894736842105263\n",
      "tau =  0.8430406059518321 rmse =  8.750157640478008\n",
      "==============================\n",
      "====event:Indy500, train_len=160, max_len=200, min_len=200\n",
      "carno:1, totallen:200, nancount:0, test_reccnt:7\n",
      "a short ts: carid=3，len=146\n",
      "carno:4, totallen:200, nancount:0, test_reccnt:7\n",
      "carno:6, totallen:200, nancount:0, test_reccnt:7\n",
      "carno:7, totallen:193, nancount:7, test_reccnt:5\n",
      "carno:9, totallen:200, nancount:0, test_reccnt:7\n",
      "a short ts: carid=10，len=57\n",
      "carno:12, totallen:200, nancount:0, test_reccnt:7\n",
      "a short ts: carid=13，len=67\n",
      "carno:14, totallen:187, nancount:13, test_reccnt:4\n",
      "carno:15, totallen:200, nancount:0, test_reccnt:7\n",
      "carno:17, totallen:199, nancount:1, test_reccnt:6\n",
      "a short ts: carid=18，len=137\n",
      "carno:19, totallen:199, nancount:1, test_reccnt:6\n",
      "carno:20, totallen:200, nancount:0, test_reccnt:7\n",
      "carno:21, totallen:199, nancount:1, test_reccnt:6\n",
      "carno:22, totallen:200, nancount:0, test_reccnt:7\n",
      "carno:23, totallen:200, nancount:0, test_reccnt:7\n",
      "a short ts: carid=24，len=154\n",
      "carno:25, totallen:200, nancount:0, test_reccnt:7\n",
      "carno:26, totallen:198, nancount:2, test_reccnt:6\n",
      "carno:27, totallen:200, nancount:0, test_reccnt:7\n",
      "carno:28, totallen:200, nancount:0, test_reccnt:7\n",
      "carno:29, totallen:200, nancount:0, test_reccnt:7\n",
      "a short ts: carid=30，len=46\n",
      "a short ts: carid=32，len=110\n",
      "a short ts: carid=33，len=46\n",
      "carno:59, totallen:198, nancount:2, test_reccnt:6\n",
      "carno:60, totallen:200, nancount:0, test_reccnt:7\n",
      "carno:64, totallen:200, nancount:0, test_reccnt:7\n",
      "carno:66, totallen:200, nancount:0, test_reccnt:7\n",
      "carno:88, totallen:200, nancount:0, test_reccnt:7\n",
      "carno:98, totallen:200, nancount:0, test_reccnt:7\n",
      "train len:0, test len:165\n",
      "model: oracle\n",
      "predicting model=oracle, plen=5\n",
      "loading model...done!, ctx:gpu(0)\n",
      "tss len=165, forecasts len=165\n"
     ]
    },
    {
     "name": "stderr",
     "output_type": "stream",
     "text": [
      "INFO:root:Using GPU\n"
     ]
    },
    {
     "name": "stdout",
     "output_type": "stream",
     "text": [
      "total:7, prediction_length:5\n",
      "top1acc= 0.37142857142857144 top1acc_farmost= 0.2857142857142857 top5acc= 0.5885714285714285 top5acc_farmost= 0.4857142857142857\n",
      "tau =  0.5995017061370004 rmse =  27.912147688060735\n",
      "model: curtrack\n",
      "predicting model=curtrack, plen=5\n",
      "loading model...done!, ctx:gpu(0)\n",
      "tss len=165, forecasts len=165\n"
     ]
    },
    {
     "name": "stderr",
     "output_type": "stream",
     "text": [
      "INFO:root:Using GPU\n"
     ]
    },
    {
     "name": "stdout",
     "output_type": "stream",
     "text": [
      "total:7, prediction_length:5\n",
      "top1acc= 0.37142857142857144 top1acc_farmost= 0.2857142857142857 top5acc= 0.6114285714285714 top5acc_farmost= 0.4857142857142857\n",
      "tau =  0.6211293674782167 rmse =  25.856981366459628\n",
      "model: zerotrack\n",
      "predicting model=zerotrack, plen=5\n",
      "loading model...done!, ctx:gpu(0)\n",
      "tss len=165, forecasts len=165\n"
     ]
    },
    {
     "name": "stderr",
     "output_type": "stream",
     "text": [
      "INFO:root:Using GPU\n"
     ]
    },
    {
     "name": "stdout",
     "output_type": "stream",
     "text": [
      "total:7, prediction_length:5\n",
      "top1acc= 0.42857142857142855 top1acc_farmost= 0.42857142857142855 top5acc= 0.6114285714285714 top5acc_farmost= 0.5428571428571428\n",
      "tau =  0.6278372663426373 rmse =  24.92719254658385\n",
      "==============================\n",
      "====event:Indy500, train_len=160, max_len=200, min_len=200\n",
      "carno:1, totallen:200, nancount:0, test_reccnt:3\n",
      "a short ts: carid=3，len=146\n",
      "carno:4, totallen:200, nancount:0, test_reccnt:3\n",
      "carno:6, totallen:200, nancount:0, test_reccnt:3\n",
      "carno:7, totallen:193, nancount:7, test_reccnt:2\n",
      "carno:9, totallen:200, nancount:0, test_reccnt:3\n",
      "a short ts: carid=10，len=57\n",
      "carno:12, totallen:200, nancount:0, test_reccnt:3\n",
      "a short ts: carid=13，len=67\n",
      "carno:14, totallen:187, nancount:13, test_reccnt:1\n",
      "carno:15, totallen:200, nancount:0, test_reccnt:3\n",
      "carno:17, totallen:199, nancount:1, test_reccnt:2\n",
      "a short ts: carid=18，len=137\n",
      "carno:19, totallen:199, nancount:1, test_reccnt:2\n",
      "carno:20, totallen:200, nancount:0, test_reccnt:3\n",
      "carno:21, totallen:199, nancount:1, test_reccnt:2\n",
      "carno:22, totallen:200, nancount:0, test_reccnt:3\n",
      "carno:23, totallen:200, nancount:0, test_reccnt:3\n",
      "a short ts: carid=24，len=154\n",
      "carno:25, totallen:200, nancount:0, test_reccnt:3\n",
      "carno:26, totallen:198, nancount:2, test_reccnt:2\n",
      "carno:27, totallen:200, nancount:0, test_reccnt:3\n",
      "carno:28, totallen:200, nancount:0, test_reccnt:3\n",
      "carno:29, totallen:200, nancount:0, test_reccnt:3\n",
      "a short ts: carid=30，len=46\n",
      "a short ts: carid=32，len=110\n",
      "a short ts: carid=33，len=46\n",
      "carno:59, totallen:198, nancount:2, test_reccnt:2\n",
      "carno:60, totallen:200, nancount:0, test_reccnt:3\n",
      "carno:64, totallen:200, nancount:0, test_reccnt:3\n",
      "carno:66, totallen:200, nancount:0, test_reccnt:3\n",
      "carno:88, totallen:200, nancount:0, test_reccnt:3\n",
      "carno:98, totallen:200, nancount:0, test_reccnt:3\n",
      "train len:0, test len:67\n",
      "model: oracle\n",
      "predicting model=oracle, plen=10\n",
      "loading model...done!, ctx:gpu(0)\n"
     ]
    },
    {
     "name": "stderr",
     "output_type": "stream",
     "text": [
      "INFO:root:Using GPU\n"
     ]
    },
    {
     "name": "stdout",
     "output_type": "stream",
     "text": [
      "tss len=67, forecasts len=67\n",
      "total:3, prediction_length:10\n",
      "top1acc= 0.26666666666666666 top1acc_farmost= 0.0 top5acc= 0.4666666666666667 top5acc_farmost= 0.4\n",
      "tau =  0.38166375864355406 rmse =  38.27374074074074\n",
      "model: curtrack\n",
      "predicting model=curtrack, plen=10\n",
      "loading model...done!, ctx:gpu(0)\n",
      "tss len=67, forecasts len=67\n"
     ]
    },
    {
     "name": "stderr",
     "output_type": "stream",
     "text": [
      "INFO:root:Using GPU\n"
     ]
    },
    {
     "name": "stdout",
     "output_type": "stream",
     "text": [
      "total:3, prediction_length:10\n",
      "top1acc= 0.1 top1acc_farmost= 0.0 top5acc= 0.36666666666666664 top5acc_farmost= 0.2\n",
      "tau =  0.3222085251491902 rmse =  41.659333333333336\n",
      "model: zerotrack\n",
      "predicting model=zerotrack, plen=10\n",
      "loading model...done!, ctx:gpu(0)\n",
      "tss len=67, forecasts len=67\n",
      "total:3, prediction_length:10\n",
      "top1acc= 0.3 top1acc_farmost= 0.0 top5acc= 0.47333333333333333 top5acc_farmost= 0.4666666666666667\n",
      "tau =  0.41607126077484136 rmse =  36.13562962962963\n"
     ]
    }
   ],
   "source": []
  },
  {
   "cell_type": "code",
   "execution_count": 39,
   "metadata": {},
   "outputs": [],
   "source": [
    "train_ratio=0.8\n",
    "dfret.to_csv(f'laptime2rank-evaluate-indy500-{exp_id}-r{runs}-t{train_ratio}-result.csv')"
   ]
  },
  {
   "cell_type": "code",
   "execution_count": 35,
   "metadata": {},
   "outputs": [
    {
     "name": "stderr",
     "output_type": "stream",
     "text": [
      "INFO:root:Using GPU\n"
     ]
    },
    {
     "name": "stdout",
     "output_type": "stream",
     "text": [
      "==============================\n",
      "====event:Indy500, train_len=80, max_len=200, min_len=200\n",
      "carno:1, totallen:200, nancount:0, test_reccnt:59\n",
      "carno:3, totallen:146, nancount:54, test_reccnt:32\n",
      "carno:4, totallen:200, nancount:0, test_reccnt:59\n",
      "carno:6, totallen:200, nancount:0, test_reccnt:59\n",
      "carno:7, totallen:193, nancount:7, test_reccnt:55\n",
      "carno:9, totallen:200, nancount:0, test_reccnt:59\n",
      "a short ts: carid=10，len=57\n",
      "carno:12, totallen:200, nancount:0, test_reccnt:59\n",
      "a short ts: carid=13，len=67\n",
      "carno:14, totallen:187, nancount:13, test_reccnt:52\n",
      "carno:15, totallen:200, nancount:0, test_reccnt:59\n",
      "carno:17, totallen:199, nancount:1, test_reccnt:58\n",
      "carno:18, totallen:137, nancount:63, test_reccnt:27\n",
      "carno:19, totallen:199, nancount:1, test_reccnt:58\n",
      "carno:20, totallen:200, nancount:0, test_reccnt:59\n",
      "carno:21, totallen:199, nancount:1, test_reccnt:58\n",
      "carno:22, totallen:200, nancount:0, test_reccnt:59\n",
      "carno:23, totallen:200, nancount:0, test_reccnt:59\n",
      "carno:24, totallen:154, nancount:46, test_reccnt:36\n",
      "carno:25, totallen:200, nancount:0, test_reccnt:59\n",
      "carno:26, totallen:198, nancount:2, test_reccnt:58\n",
      "carno:27, totallen:200, nancount:0, test_reccnt:59\n",
      "carno:28, totallen:200, nancount:0, test_reccnt:59\n",
      "carno:29, totallen:200, nancount:0, test_reccnt:59\n",
      "a short ts: carid=30，len=46\n",
      "carno:32, totallen:110, nancount:90, test_reccnt:14\n",
      "a short ts: carid=33，len=46\n",
      "carno:59, totallen:198, nancount:2, test_reccnt:58\n",
      "carno:60, totallen:200, nancount:0, test_reccnt:59\n",
      "carno:64, totallen:200, nancount:0, test_reccnt:59\n",
      "carno:66, totallen:200, nancount:0, test_reccnt:59\n",
      "carno:88, totallen:200, nancount:0, test_reccnt:59\n",
      "carno:98, totallen:200, nancount:0, test_reccnt:59\n",
      "train len:0, test len:1568\n",
      "model: oracle\n",
      "predicting model=oracle, plen=2\n",
      "loading model...done!, ctx:gpu(0)\n",
      "tss len=1568, forecasts len=1568\n"
     ]
    },
    {
     "name": "stderr",
     "output_type": "stream",
     "text": [
      "INFO:root:Using GPU\n"
     ]
    },
    {
     "name": "stdout",
     "output_type": "stream",
     "text": [
      "total:59, prediction_length:2\n",
      "top1acc= 0.652542372881356 top1acc_farmost= 0.576271186440678 top5acc= 0.7983050847457627 top5acc_farmost= 0.7389830508474576\n",
      "tau =  0.8272684733685166 rmse =  12.23668552367305\n",
      "model: curtrack\n",
      "predicting model=curtrack, plen=2\n",
      "loading model...done!, ctx:gpu(0)\n",
      "tss len=1568, forecasts len=1568\n"
     ]
    },
    {
     "name": "stderr",
     "output_type": "stream",
     "text": [
      "INFO:root:Using GPU\n"
     ]
    },
    {
     "name": "stdout",
     "output_type": "stream",
     "text": [
      "total:59, prediction_length:2\n",
      "top1acc= 0.6101694915254238 top1acc_farmost= 0.5423728813559322 top5acc= 0.7983050847457627 top5acc_farmost= 0.7457627118644068\n",
      "tau =  0.8307407435971781 rmse =  11.988896023677487\n",
      "model: zerotrack\n",
      "predicting model=zerotrack, plen=2\n",
      "loading model...done!, ctx:gpu(0)\n",
      "tss len=1568, forecasts len=1568\n"
     ]
    },
    {
     "name": "stderr",
     "output_type": "stream",
     "text": [
      "INFO:root:Using GPU\n"
     ]
    },
    {
     "name": "stdout",
     "output_type": "stream",
     "text": [
      "total:59, prediction_length:2\n",
      "top1acc= 0.6016949152542372 top1acc_farmost= 0.559322033898305 top5acc= 0.8135593220338984 top5acc_farmost= 0.7627118644067796\n",
      "tau =  0.829868731491771 rmse =  11.176647383609367\n",
      "==============================\n",
      "====event:Indy500, train_len=80, max_len=200, min_len=200\n",
      "carno:1, totallen:200, nancount:0, test_reccnt:59\n",
      "carno:3, totallen:146, nancount:54, test_reccnt:32\n",
      "carno:4, totallen:200, nancount:0, test_reccnt:59\n",
      "carno:6, totallen:200, nancount:0, test_reccnt:59\n",
      "carno:7, totallen:193, nancount:7, test_reccnt:55\n",
      "carno:9, totallen:200, nancount:0, test_reccnt:59\n",
      "a short ts: carid=10，len=57\n",
      "carno:12, totallen:200, nancount:0, test_reccnt:59\n",
      "a short ts: carid=13，len=67\n",
      "carno:14, totallen:187, nancount:13, test_reccnt:52\n",
      "carno:15, totallen:200, nancount:0, test_reccnt:59\n",
      "carno:17, totallen:199, nancount:1, test_reccnt:58\n",
      "carno:18, totallen:137, nancount:63, test_reccnt:27\n",
      "carno:19, totallen:199, nancount:1, test_reccnt:58\n",
      "carno:20, totallen:200, nancount:0, test_reccnt:59\n",
      "carno:21, totallen:199, nancount:1, test_reccnt:58\n",
      "carno:22, totallen:200, nancount:0, test_reccnt:59\n",
      "carno:23, totallen:200, nancount:0, test_reccnt:59\n",
      "carno:24, totallen:154, nancount:46, test_reccnt:36\n",
      "carno:25, totallen:200, nancount:0, test_reccnt:59\n",
      "carno:26, totallen:198, nancount:2, test_reccnt:58\n",
      "carno:27, totallen:200, nancount:0, test_reccnt:59\n",
      "carno:28, totallen:200, nancount:0, test_reccnt:59\n",
      "carno:29, totallen:200, nancount:0, test_reccnt:59\n",
      "a short ts: carid=30，len=46\n",
      "carno:32, totallen:110, nancount:90, test_reccnt:14\n",
      "a short ts: carid=33，len=46\n",
      "carno:59, totallen:198, nancount:2, test_reccnt:58\n",
      "carno:60, totallen:200, nancount:0, test_reccnt:59\n",
      "carno:64, totallen:200, nancount:0, test_reccnt:59\n",
      "carno:66, totallen:200, nancount:0, test_reccnt:59\n",
      "carno:88, totallen:200, nancount:0, test_reccnt:59\n",
      "carno:98, totallen:200, nancount:0, test_reccnt:59\n",
      "train len:0, test len:1568\n",
      "model: oracle\n",
      "predicting model=oracle, plen=2\n",
      "loading model...done!, ctx:gpu(0)\n",
      "tss len=1568, forecasts len=1568\n"
     ]
    },
    {
     "name": "stderr",
     "output_type": "stream",
     "text": [
      "INFO:root:Using GPU\n"
     ]
    },
    {
     "name": "stdout",
     "output_type": "stream",
     "text": [
      "total:59, prediction_length:2\n",
      "top1acc= 0.6101694915254238 top1acc_farmost= 0.5084745762711864 top5acc= 0.8152542372881356 top5acc_farmost= 0.7627118644067796\n",
      "tau =  0.8317299156569538 rmse =  11.837685724613525\n",
      "model: curtrack\n",
      "predicting model=curtrack, plen=2\n",
      "loading model...done!, ctx:gpu(0)\n",
      "tss len=1568, forecasts len=1568\n"
     ]
    },
    {
     "name": "stderr",
     "output_type": "stream",
     "text": [
      "INFO:root:Using GPU\n"
     ]
    },
    {
     "name": "stdout",
     "output_type": "stream",
     "text": [
      "total:59, prediction_length:2\n",
      "top1acc= 0.6271186440677966 top1acc_farmost= 0.559322033898305 top5acc= 0.811864406779661 top5acc_farmost= 0.7627118644067796\n",
      "tau =  0.8357174740972819 rmse =  11.785549232533832\n",
      "model: zerotrack\n",
      "predicting model=zerotrack, plen=2\n",
      "loading model...done!, ctx:gpu(0)\n",
      "tss len=1568, forecasts len=1568\n"
     ]
    },
    {
     "name": "stderr",
     "output_type": "stream",
     "text": [
      "INFO:root:Using GPU\n"
     ]
    },
    {
     "name": "stdout",
     "output_type": "stream",
     "text": [
      "total:59, prediction_length:2\n",
      "top1acc= 0.5508474576271186 top1acc_farmost= 0.4067796610169492 top5acc= 0.8050847457627118 top5acc_farmost= 0.7423728813559322\n",
      "tau =  0.8371430654953399 rmse =  10.684388153442994\n",
      "==============================\n",
      "====event:Indy500, train_len=80, max_len=200, min_len=200\n",
      "carno:1, totallen:200, nancount:0, test_reccnt:59\n",
      "carno:3, totallen:146, nancount:54, test_reccnt:32\n",
      "carno:4, totallen:200, nancount:0, test_reccnt:59\n",
      "carno:6, totallen:200, nancount:0, test_reccnt:59\n",
      "carno:7, totallen:193, nancount:7, test_reccnt:55\n",
      "carno:9, totallen:200, nancount:0, test_reccnt:59\n",
      "a short ts: carid=10，len=57\n",
      "carno:12, totallen:200, nancount:0, test_reccnt:59\n",
      "a short ts: carid=13，len=67\n",
      "carno:14, totallen:187, nancount:13, test_reccnt:52\n",
      "carno:15, totallen:200, nancount:0, test_reccnt:59\n",
      "carno:17, totallen:199, nancount:1, test_reccnt:58\n",
      "carno:18, totallen:137, nancount:63, test_reccnt:27\n",
      "carno:19, totallen:199, nancount:1, test_reccnt:58\n",
      "carno:20, totallen:200, nancount:0, test_reccnt:59\n",
      "carno:21, totallen:199, nancount:1, test_reccnt:58\n",
      "carno:22, totallen:200, nancount:0, test_reccnt:59\n",
      "carno:23, totallen:200, nancount:0, test_reccnt:59\n",
      "carno:24, totallen:154, nancount:46, test_reccnt:36\n",
      "carno:25, totallen:200, nancount:0, test_reccnt:59\n",
      "carno:26, totallen:198, nancount:2, test_reccnt:58\n",
      "carno:27, totallen:200, nancount:0, test_reccnt:59\n",
      "carno:28, totallen:200, nancount:0, test_reccnt:59\n",
      "carno:29, totallen:200, nancount:0, test_reccnt:59\n",
      "a short ts: carid=30，len=46\n",
      "carno:32, totallen:110, nancount:90, test_reccnt:14\n",
      "a short ts: carid=33，len=46\n",
      "carno:59, totallen:198, nancount:2, test_reccnt:58\n",
      "carno:60, totallen:200, nancount:0, test_reccnt:59\n",
      "carno:64, totallen:200, nancount:0, test_reccnt:59\n",
      "carno:66, totallen:200, nancount:0, test_reccnt:59\n",
      "carno:88, totallen:200, nancount:0, test_reccnt:59\n",
      "carno:98, totallen:200, nancount:0, test_reccnt:59\n",
      "train len:0, test len:1568\n",
      "model: oracle\n",
      "predicting model=oracle, plen=2\n",
      "loading model...done!, ctx:gpu(0)\n",
      "tss len=1568, forecasts len=1568\n"
     ]
    },
    {
     "name": "stderr",
     "output_type": "stream",
     "text": [
      "INFO:root:Using GPU\n"
     ]
    },
    {
     "name": "stdout",
     "output_type": "stream",
     "text": [
      "total:59, prediction_length:2\n",
      "top1acc= 0.6440677966101694 top1acc_farmost= 0.6101694915254238 top5acc= 0.8084745762711865 top5acc_farmost= 0.7661016949152543\n",
      "tau =  0.8277074106946483 rmse =  11.856555676136395\n",
      "model: curtrack\n",
      "predicting model=curtrack, plen=2\n",
      "loading model...done!, ctx:gpu(0)\n",
      "tss len=1568, forecasts len=1568\n"
     ]
    },
    {
     "name": "stderr",
     "output_type": "stream",
     "text": [
      "INFO:root:Using GPU\n"
     ]
    },
    {
     "name": "stdout",
     "output_type": "stream",
     "text": [
      "total:59, prediction_length:2\n",
      "top1acc= 0.6016949152542372 top1acc_farmost= 0.5084745762711864 top5acc= 0.811864406779661 top5acc_farmost= 0.752542372881356\n",
      "tau =  0.8247358857102711 rmse =  11.617851269828757\n",
      "model: zerotrack\n",
      "predicting model=zerotrack, plen=2\n",
      "loading model...done!, ctx:gpu(0)\n",
      "tss len=1568, forecasts len=1568\n"
     ]
    },
    {
     "name": "stderr",
     "output_type": "stream",
     "text": [
      "INFO:root:Using GPU\n"
     ]
    },
    {
     "name": "stdout",
     "output_type": "stream",
     "text": [
      "total:59, prediction_length:2\n",
      "top1acc= 0.576271186440678 top1acc_farmost= 0.4915254237288136 top5acc= 0.8355932203389831 top5acc_farmost= 0.7830508474576271\n",
      "tau =  0.8405851717979503 rmse =  10.427709870722223\n",
      "==============================\n",
      "====event:Indy500, train_len=80, max_len=200, min_len=200\n",
      "carno:1, totallen:200, nancount:0, test_reccnt:23\n",
      "carno:3, totallen:146, nancount:54, test_reccnt:12\n",
      "carno:4, totallen:200, nancount:0, test_reccnt:23\n",
      "carno:6, totallen:200, nancount:0, test_reccnt:23\n",
      "carno:7, totallen:193, nancount:7, test_reccnt:21\n",
      "carno:9, totallen:200, nancount:0, test_reccnt:23\n",
      "a short ts: carid=10，len=57\n",
      "carno:12, totallen:200, nancount:0, test_reccnt:23\n",
      "a short ts: carid=13，len=67\n",
      "carno:14, totallen:187, nancount:13, test_reccnt:20\n",
      "carno:15, totallen:200, nancount:0, test_reccnt:23\n",
      "carno:17, totallen:199, nancount:1, test_reccnt:22\n",
      "carno:18, totallen:137, nancount:63, test_reccnt:10\n",
      "carno:19, totallen:199, nancount:1, test_reccnt:22\n",
      "carno:20, totallen:200, nancount:0, test_reccnt:23\n",
      "carno:21, totallen:199, nancount:1, test_reccnt:22\n",
      "carno:22, totallen:200, nancount:0, test_reccnt:23\n",
      "carno:23, totallen:200, nancount:0, test_reccnt:23\n",
      "carno:24, totallen:154, nancount:46, test_reccnt:13\n",
      "carno:25, totallen:200, nancount:0, test_reccnt:23\n",
      "carno:26, totallen:198, nancount:2, test_reccnt:22\n",
      "carno:27, totallen:200, nancount:0, test_reccnt:23\n",
      "carno:28, totallen:200, nancount:0, test_reccnt:23\n",
      "carno:29, totallen:200, nancount:0, test_reccnt:23\n",
      "a short ts: carid=30，len=46\n",
      "carno:32, totallen:110, nancount:90, test_reccnt:5\n",
      "a short ts: carid=33，len=46\n",
      "carno:59, totallen:198, nancount:2, test_reccnt:22\n",
      "carno:60, totallen:200, nancount:0, test_reccnt:23\n",
      "carno:64, totallen:200, nancount:0, test_reccnt:23\n",
      "carno:66, totallen:200, nancount:0, test_reccnt:23\n",
      "carno:88, totallen:200, nancount:0, test_reccnt:23\n",
      "carno:98, totallen:200, nancount:0, test_reccnt:23\n",
      "train len:0, test len:605\n",
      "model: oracle\n",
      "predicting model=oracle, plen=5\n",
      "loading model...done!, ctx:gpu(0)\n",
      "tss len=605, forecasts len=605\n"
     ]
    },
    {
     "name": "stderr",
     "output_type": "stream",
     "text": [
      "INFO:root:Using GPU\n"
     ]
    },
    {
     "name": "stdout",
     "output_type": "stream",
     "text": [
      "total:23, prediction_length:5\n",
      "top1acc= 0.5043478260869565 top1acc_farmost= 0.34782608695652173 top5acc= 0.6608695652173913 top5acc_farmost= 0.5391304347826087\n",
      "tau =  0.7005740960545195 rmse =  24.651132258259043\n",
      "model: curtrack\n",
      "predicting model=curtrack, plen=5\n",
      "loading model...done!, ctx:gpu(0)\n",
      "tss len=605, forecasts len=605\n"
     ]
    },
    {
     "name": "stderr",
     "output_type": "stream",
     "text": [
      "INFO:root:Using GPU\n"
     ]
    },
    {
     "name": "stdout",
     "output_type": "stream",
     "text": [
      "total:23, prediction_length:5\n",
      "top1acc= 0.5478260869565217 top1acc_farmost= 0.43478260869565216 top5acc= 0.6417391304347826 top5acc_farmost= 0.5217391304347826\n",
      "tau =  0.6983311352494894 rmse =  24.61087998979753\n",
      "model: zerotrack\n",
      "predicting model=zerotrack, plen=5\n",
      "loading model...done!, ctx:gpu(0)\n",
      "tss len=605, forecasts len=605\n"
     ]
    },
    {
     "name": "stderr",
     "output_type": "stream",
     "text": [
      "INFO:root:Using GPU\n"
     ]
    },
    {
     "name": "stdout",
     "output_type": "stream",
     "text": [
      "total:23, prediction_length:5\n",
      "top1acc= 0.45217391304347826 top1acc_farmost= 0.34782608695652173 top5acc= 0.6034782608695652 top5acc_farmost= 0.4956521739130435\n",
      "tau =  0.6542064055514993 rmse =  28.239486840430715\n",
      "==============================\n",
      "====event:Indy500, train_len=80, max_len=200, min_len=200\n",
      "carno:1, totallen:200, nancount:0, test_reccnt:23\n",
      "carno:3, totallen:146, nancount:54, test_reccnt:12\n",
      "carno:4, totallen:200, nancount:0, test_reccnt:23\n",
      "carno:6, totallen:200, nancount:0, test_reccnt:23\n",
      "carno:7, totallen:193, nancount:7, test_reccnt:21\n",
      "carno:9, totallen:200, nancount:0, test_reccnt:23\n",
      "a short ts: carid=10，len=57\n",
      "carno:12, totallen:200, nancount:0, test_reccnt:23\n",
      "a short ts: carid=13，len=67\n",
      "carno:14, totallen:187, nancount:13, test_reccnt:20\n",
      "carno:15, totallen:200, nancount:0, test_reccnt:23\n",
      "carno:17, totallen:199, nancount:1, test_reccnt:22\n",
      "carno:18, totallen:137, nancount:63, test_reccnt:10\n",
      "carno:19, totallen:199, nancount:1, test_reccnt:22\n",
      "carno:20, totallen:200, nancount:0, test_reccnt:23\n",
      "carno:21, totallen:199, nancount:1, test_reccnt:22\n",
      "carno:22, totallen:200, nancount:0, test_reccnt:23\n",
      "carno:23, totallen:200, nancount:0, test_reccnt:23\n",
      "carno:24, totallen:154, nancount:46, test_reccnt:13\n",
      "carno:25, totallen:200, nancount:0, test_reccnt:23\n",
      "carno:26, totallen:198, nancount:2, test_reccnt:22\n",
      "carno:27, totallen:200, nancount:0, test_reccnt:23\n",
      "carno:28, totallen:200, nancount:0, test_reccnt:23\n",
      "carno:29, totallen:200, nancount:0, test_reccnt:23\n",
      "a short ts: carid=30，len=46\n",
      "carno:32, totallen:110, nancount:90, test_reccnt:5\n",
      "a short ts: carid=33，len=46\n",
      "carno:59, totallen:198, nancount:2, test_reccnt:22\n",
      "carno:60, totallen:200, nancount:0, test_reccnt:23\n",
      "carno:64, totallen:200, nancount:0, test_reccnt:23\n",
      "carno:66, totallen:200, nancount:0, test_reccnt:23\n",
      "carno:88, totallen:200, nancount:0, test_reccnt:23\n",
      "carno:98, totallen:200, nancount:0, test_reccnt:23\n",
      "train len:0, test len:605\n",
      "model: oracle\n",
      "predicting model=oracle, plen=5\n",
      "loading model...done!, ctx:gpu(0)\n",
      "tss len=605, forecasts len=605\n"
     ]
    },
    {
     "name": "stderr",
     "output_type": "stream",
     "text": [
      "INFO:root:Using GPU\n"
     ]
    },
    {
     "name": "stdout",
     "output_type": "stream",
     "text": [
      "total:23, prediction_length:5\n",
      "top1acc= 0.4260869565217391 top1acc_farmost= 0.2608695652173913 top5acc= 0.6295652173913043 top5acc_farmost= 0.5217391304347826\n",
      "tau =  0.6892860279773673 rmse =  25.22473302484502\n",
      "model: curtrack\n",
      "predicting model=curtrack, plen=5\n",
      "loading model...done!, ctx:gpu(0)\n",
      "tss len=605, forecasts len=605\n"
     ]
    },
    {
     "name": "stderr",
     "output_type": "stream",
     "text": [
      "INFO:root:Using GPU\n"
     ]
    },
    {
     "name": "stdout",
     "output_type": "stream",
     "text": [
      "total:23, prediction_length:5\n",
      "top1acc= 0.4 top1acc_farmost= 0.30434782608695654 top5acc= 0.6521739130434783 top5acc_farmost= 0.5304347826086957\n",
      "tau =  0.6850935759535614 rmse =  25.74892824220156\n",
      "model: zerotrack\n",
      "predicting model=zerotrack, plen=5\n",
      "loading model...done!, ctx:gpu(0)\n",
      "tss len=605, forecasts len=605\n"
     ]
    },
    {
     "name": "stderr",
     "output_type": "stream",
     "text": [
      "INFO:root:Using GPU\n"
     ]
    },
    {
     "name": "stdout",
     "output_type": "stream",
     "text": [
      "total:23, prediction_length:5\n",
      "top1acc= 0.46956521739130436 top1acc_farmost= 0.391304347826087 top5acc= 0.6121739130434782 top5acc_farmost= 0.45217391304347826\n",
      "tau =  0.649601462523131 rmse =  28.89920050231295\n",
      "==============================\n",
      "====event:Indy500, train_len=80, max_len=200, min_len=200\n",
      "carno:1, totallen:200, nancount:0, test_reccnt:23\n",
      "carno:3, totallen:146, nancount:54, test_reccnt:12\n",
      "carno:4, totallen:200, nancount:0, test_reccnt:23\n",
      "carno:6, totallen:200, nancount:0, test_reccnt:23\n",
      "carno:7, totallen:193, nancount:7, test_reccnt:21\n",
      "carno:9, totallen:200, nancount:0, test_reccnt:23\n",
      "a short ts: carid=10，len=57\n",
      "carno:12, totallen:200, nancount:0, test_reccnt:23\n",
      "a short ts: carid=13，len=67\n",
      "carno:14, totallen:187, nancount:13, test_reccnt:20\n",
      "carno:15, totallen:200, nancount:0, test_reccnt:23\n",
      "carno:17, totallen:199, nancount:1, test_reccnt:22\n",
      "carno:18, totallen:137, nancount:63, test_reccnt:10\n",
      "carno:19, totallen:199, nancount:1, test_reccnt:22\n",
      "carno:20, totallen:200, nancount:0, test_reccnt:23\n",
      "carno:21, totallen:199, nancount:1, test_reccnt:22\n",
      "carno:22, totallen:200, nancount:0, test_reccnt:23\n",
      "carno:23, totallen:200, nancount:0, test_reccnt:23\n",
      "carno:24, totallen:154, nancount:46, test_reccnt:13\n",
      "carno:25, totallen:200, nancount:0, test_reccnt:23\n",
      "carno:26, totallen:198, nancount:2, test_reccnt:22\n",
      "carno:27, totallen:200, nancount:0, test_reccnt:23\n",
      "carno:28, totallen:200, nancount:0, test_reccnt:23\n",
      "carno:29, totallen:200, nancount:0, test_reccnt:23\n",
      "a short ts: carid=30，len=46\n",
      "carno:32, totallen:110, nancount:90, test_reccnt:5\n",
      "a short ts: carid=33，len=46\n",
      "carno:59, totallen:198, nancount:2, test_reccnt:22\n",
      "carno:60, totallen:200, nancount:0, test_reccnt:23\n",
      "carno:64, totallen:200, nancount:0, test_reccnt:23\n",
      "carno:66, totallen:200, nancount:0, test_reccnt:23\n",
      "carno:88, totallen:200, nancount:0, test_reccnt:23\n",
      "carno:98, totallen:200, nancount:0, test_reccnt:23\n",
      "train len:0, test len:605\n",
      "model: oracle\n",
      "predicting model=oracle, plen=5\n",
      "loading model...done!, ctx:gpu(0)\n",
      "tss len=605, forecasts len=605\n"
     ]
    },
    {
     "name": "stderr",
     "output_type": "stream",
     "text": [
      "INFO:root:Using GPU\n"
     ]
    },
    {
     "name": "stdout",
     "output_type": "stream",
     "text": [
      "total:23, prediction_length:5\n",
      "top1acc= 0.41739130434782606 top1acc_farmost= 0.30434782608695654 top5acc= 0.6260869565217392 top5acc_farmost= 0.48695652173913045\n",
      "tau =  0.6806172552954426 rmse =  26.48739954198725\n",
      "model: curtrack\n",
      "predicting model=curtrack, plen=5\n",
      "loading model...done!, ctx:gpu(0)\n",
      "tss len=605, forecasts len=605\n"
     ]
    },
    {
     "name": "stderr",
     "output_type": "stream",
     "text": [
      "INFO:root:Using GPU\n"
     ]
    },
    {
     "name": "stdout",
     "output_type": "stream",
     "text": [
      "total:23, prediction_length:5\n",
      "top1acc= 0.45217391304347826 top1acc_farmost= 0.30434782608695654 top5acc= 0.6034782608695652 top5acc_farmost= 0.4608695652173913\n",
      "tau =  0.6650861725342305 rmse =  27.75355913352981\n",
      "model: zerotrack\n",
      "predicting model=zerotrack, plen=5\n",
      "loading model...done!, ctx:gpu(0)\n",
      "tss len=605, forecasts len=605\n"
     ]
    },
    {
     "name": "stderr",
     "output_type": "stream",
     "text": [
      "INFO:root:Using GPU\n"
     ]
    },
    {
     "name": "stdout",
     "output_type": "stream",
     "text": [
      "total:23, prediction_length:5\n",
      "top1acc= 0.4782608695652174 top1acc_farmost= 0.30434782608695654 top5acc= 0.6086956521739131 top5acc_farmost= 0.46956521739130436\n",
      "tau =  0.6365460107446372 rmse =  30.253946758796637\n",
      "==============================\n",
      "====event:Indy500, train_len=80, max_len=200, min_len=200\n",
      "carno:1, totallen:200, nancount:0, test_reccnt:11\n",
      "carno:3, totallen:146, nancount:54, test_reccnt:5\n",
      "carno:4, totallen:200, nancount:0, test_reccnt:11\n",
      "carno:6, totallen:200, nancount:0, test_reccnt:11\n",
      "carno:7, totallen:193, nancount:7, test_reccnt:10\n",
      "carno:9, totallen:200, nancount:0, test_reccnt:11\n",
      "a short ts: carid=10，len=57\n",
      "carno:12, totallen:200, nancount:0, test_reccnt:11\n",
      "a short ts: carid=13，len=67\n",
      "carno:14, totallen:187, nancount:13, test_reccnt:9\n",
      "carno:15, totallen:200, nancount:0, test_reccnt:11\n",
      "carno:17, totallen:199, nancount:1, test_reccnt:10\n",
      "carno:18, totallen:137, nancount:63, test_reccnt:4\n",
      "carno:19, totallen:199, nancount:1, test_reccnt:10\n",
      "carno:20, totallen:200, nancount:0, test_reccnt:11\n",
      "carno:21, totallen:199, nancount:1, test_reccnt:10\n",
      "carno:22, totallen:200, nancount:0, test_reccnt:11\n",
      "carno:23, totallen:200, nancount:0, test_reccnt:11\n",
      "carno:24, totallen:154, nancount:46, test_reccnt:6\n",
      "carno:25, totallen:200, nancount:0, test_reccnt:11\n",
      "carno:26, totallen:198, nancount:2, test_reccnt:10\n",
      "carno:27, totallen:200, nancount:0, test_reccnt:11\n",
      "carno:28, totallen:200, nancount:0, test_reccnt:11\n",
      "carno:29, totallen:200, nancount:0, test_reccnt:11\n",
      "a short ts: carid=30，len=46\n",
      "carno:32, totallen:110, nancount:90, test_reccnt:2\n",
      "a short ts: carid=33，len=46\n",
      "carno:59, totallen:198, nancount:2, test_reccnt:10\n",
      "carno:60, totallen:200, nancount:0, test_reccnt:11\n",
      "carno:64, totallen:200, nancount:0, test_reccnt:11\n",
      "carno:66, totallen:200, nancount:0, test_reccnt:11\n",
      "carno:88, totallen:200, nancount:0, test_reccnt:11\n",
      "carno:98, totallen:200, nancount:0, test_reccnt:11\n",
      "train len:0, test len:284\n",
      "model: oracle\n",
      "predicting model=oracle, plen=10\n",
      "loading model...done!, ctx:gpu(0)\n",
      "tss len=284, forecasts len=284\n"
     ]
    },
    {
     "name": "stderr",
     "output_type": "stream",
     "text": [
      "INFO:root:Using GPU\n"
     ]
    },
    {
     "name": "stdout",
     "output_type": "stream",
     "text": [
      "total:11, prediction_length:10\n",
      "top1acc= 0.32727272727272727 top1acc_farmost= 0.18181818181818182 top5acc= 0.56 top5acc_farmost= 0.38181818181818183\n",
      "tau =  0.5165695377860031 rmse =  39.3247862597173\n",
      "model: curtrack\n",
      "predicting model=curtrack, plen=10\n",
      "loading model...done!, ctx:gpu(0)\n",
      "tss len=284, forecasts len=284\n"
     ]
    },
    {
     "name": "stderr",
     "output_type": "stream",
     "text": [
      "INFO:root:Using GPU\n"
     ]
    },
    {
     "name": "stdout",
     "output_type": "stream",
     "text": [
      "total:11, prediction_length:10\n",
      "top1acc= 0.3181818181818182 top1acc_farmost= 0.18181818181818182 top5acc= 0.5418181818181819 top5acc_farmost= 0.38181818181818183\n",
      "tau =  0.5060602599006074 rmse =  40.7316725726381\n",
      "model: zerotrack\n",
      "predicting model=zerotrack, plen=10\n",
      "loading model...done!, ctx:gpu(0)\n",
      "tss len=284, forecasts len=284\n"
     ]
    },
    {
     "name": "stderr",
     "output_type": "stream",
     "text": [
      "INFO:root:Using GPU\n"
     ]
    },
    {
     "name": "stdout",
     "output_type": "stream",
     "text": [
      "total:11, prediction_length:10\n",
      "top1acc= 0.2909090909090909 top1acc_farmost= 0.18181818181818182 top5acc= 0.49636363636363634 top5acc_farmost= 0.36363636363636365\n",
      "tau =  0.49785128108116905 rmse =  41.755151977014044\n",
      "==============================\n",
      "====event:Indy500, train_len=80, max_len=200, min_len=200\n",
      "carno:1, totallen:200, nancount:0, test_reccnt:11\n",
      "carno:3, totallen:146, nancount:54, test_reccnt:5\n",
      "carno:4, totallen:200, nancount:0, test_reccnt:11\n",
      "carno:6, totallen:200, nancount:0, test_reccnt:11\n",
      "carno:7, totallen:193, nancount:7, test_reccnt:10\n",
      "carno:9, totallen:200, nancount:0, test_reccnt:11\n",
      "a short ts: carid=10，len=57\n",
      "carno:12, totallen:200, nancount:0, test_reccnt:11\n",
      "a short ts: carid=13，len=67\n",
      "carno:14, totallen:187, nancount:13, test_reccnt:9\n",
      "carno:15, totallen:200, nancount:0, test_reccnt:11\n",
      "carno:17, totallen:199, nancount:1, test_reccnt:10\n",
      "carno:18, totallen:137, nancount:63, test_reccnt:4\n",
      "carno:19, totallen:199, nancount:1, test_reccnt:10\n",
      "carno:20, totallen:200, nancount:0, test_reccnt:11\n",
      "carno:21, totallen:199, nancount:1, test_reccnt:10\n",
      "carno:22, totallen:200, nancount:0, test_reccnt:11\n",
      "carno:23, totallen:200, nancount:0, test_reccnt:11\n",
      "carno:24, totallen:154, nancount:46, test_reccnt:6\n",
      "carno:25, totallen:200, nancount:0, test_reccnt:11\n",
      "carno:26, totallen:198, nancount:2, test_reccnt:10\n",
      "carno:27, totallen:200, nancount:0, test_reccnt:11\n",
      "carno:28, totallen:200, nancount:0, test_reccnt:11\n",
      "carno:29, totallen:200, nancount:0, test_reccnt:11\n",
      "a short ts: carid=30，len=46\n",
      "carno:32, totallen:110, nancount:90, test_reccnt:2\n",
      "a short ts: carid=33，len=46\n",
      "carno:59, totallen:198, nancount:2, test_reccnt:10\n",
      "carno:60, totallen:200, nancount:0, test_reccnt:11\n",
      "carno:64, totallen:200, nancount:0, test_reccnt:11\n",
      "carno:66, totallen:200, nancount:0, test_reccnt:11\n",
      "carno:88, totallen:200, nancount:0, test_reccnt:11\n",
      "carno:98, totallen:200, nancount:0, test_reccnt:11\n",
      "train len:0, test len:284\n",
      "model: oracle\n",
      "predicting model=oracle, plen=10\n",
      "loading model...done!, ctx:gpu(0)\n",
      "tss len=284, forecasts len=284\n"
     ]
    },
    {
     "name": "stderr",
     "output_type": "stream",
     "text": [
      "INFO:root:Using GPU\n"
     ]
    },
    {
     "name": "stdout",
     "output_type": "stream",
     "text": [
      "total:11, prediction_length:10\n",
      "top1acc= 0.37272727272727274 top1acc_farmost= 0.18181818181818182 top5acc= 0.5 top5acc_farmost= 0.3090909090909091\n",
      "tau =  0.5177087207524195 rmse =  40.145447228378266\n",
      "model: curtrack\n",
      "predicting model=curtrack, plen=10\n",
      "loading model...done!, ctx:gpu(0)\n",
      "tss len=284, forecasts len=284\n"
     ]
    },
    {
     "name": "stderr",
     "output_type": "stream",
     "text": [
      "INFO:root:Using GPU\n"
     ]
    },
    {
     "name": "stdout",
     "output_type": "stream",
     "text": [
      "total:11, prediction_length:10\n",
      "top1acc= 0.32727272727272727 top1acc_farmost= 0.18181818181818182 top5acc= 0.5290909090909091 top5acc_farmost= 0.34545454545454546\n",
      "tau =  0.5184355442674605 rmse =  39.47065565979359\n",
      "model: zerotrack\n",
      "predicting model=zerotrack, plen=10\n",
      "loading model...done!, ctx:gpu(0)\n",
      "tss len=284, forecasts len=284\n"
     ]
    },
    {
     "name": "stderr",
     "output_type": "stream",
     "text": [
      "INFO:root:Using GPU\n"
     ]
    },
    {
     "name": "stdout",
     "output_type": "stream",
     "text": [
      "total:11, prediction_length:10\n",
      "top1acc= 0.21818181818181817 top1acc_farmost= 0.09090909090909091 top5acc= 0.4509090909090909 top5acc_farmost= 0.2727272727272727\n",
      "tau =  0.47833372966151866 rmse =  42.916469276572734\n",
      "==============================\n",
      "====event:Indy500, train_len=80, max_len=200, min_len=200\n",
      "carno:1, totallen:200, nancount:0, test_reccnt:11\n",
      "carno:3, totallen:146, nancount:54, test_reccnt:5\n",
      "carno:4, totallen:200, nancount:0, test_reccnt:11\n",
      "carno:6, totallen:200, nancount:0, test_reccnt:11\n",
      "carno:7, totallen:193, nancount:7, test_reccnt:10\n",
      "carno:9, totallen:200, nancount:0, test_reccnt:11\n",
      "a short ts: carid=10，len=57\n",
      "carno:12, totallen:200, nancount:0, test_reccnt:11\n",
      "a short ts: carid=13，len=67\n",
      "carno:14, totallen:187, nancount:13, test_reccnt:9\n",
      "carno:15, totallen:200, nancount:0, test_reccnt:11\n",
      "carno:17, totallen:199, nancount:1, test_reccnt:10\n",
      "carno:18, totallen:137, nancount:63, test_reccnt:4\n",
      "carno:19, totallen:199, nancount:1, test_reccnt:10\n",
      "carno:20, totallen:200, nancount:0, test_reccnt:11\n",
      "carno:21, totallen:199, nancount:1, test_reccnt:10\n",
      "carno:22, totallen:200, nancount:0, test_reccnt:11\n",
      "carno:23, totallen:200, nancount:0, test_reccnt:11\n",
      "carno:24, totallen:154, nancount:46, test_reccnt:6\n",
      "carno:25, totallen:200, nancount:0, test_reccnt:11\n",
      "carno:26, totallen:198, nancount:2, test_reccnt:10\n",
      "carno:27, totallen:200, nancount:0, test_reccnt:11\n",
      "carno:28, totallen:200, nancount:0, test_reccnt:11\n",
      "carno:29, totallen:200, nancount:0, test_reccnt:11\n",
      "a short ts: carid=30，len=46\n",
      "carno:32, totallen:110, nancount:90, test_reccnt:2\n",
      "a short ts: carid=33，len=46\n",
      "carno:59, totallen:198, nancount:2, test_reccnt:10\n",
      "carno:60, totallen:200, nancount:0, test_reccnt:11\n",
      "carno:64, totallen:200, nancount:0, test_reccnt:11\n",
      "carno:66, totallen:200, nancount:0, test_reccnt:11\n",
      "carno:88, totallen:200, nancount:0, test_reccnt:11\n",
      "carno:98, totallen:200, nancount:0, test_reccnt:11\n",
      "train len:0, test len:284\n",
      "model: oracle\n",
      "predicting model=oracle, plen=10\n",
      "loading model...done!, ctx:gpu(0)\n",
      "tss len=284, forecasts len=284\n"
     ]
    },
    {
     "name": "stderr",
     "output_type": "stream",
     "text": [
      "INFO:root:Using GPU\n"
     ]
    },
    {
     "name": "stdout",
     "output_type": "stream",
     "text": [
      "total:11, prediction_length:10\n",
      "top1acc= 0.3181818181818182 top1acc_farmost= 0.18181818181818182 top5acc= 0.5363636363636364 top5acc_farmost= 0.38181818181818183\n",
      "tau =  0.5035924223565286 rmse =  41.166834560075934\n",
      "model: curtrack\n",
      "predicting model=curtrack, plen=10\n",
      "loading model...done!, ctx:gpu(0)\n",
      "tss len=284, forecasts len=284\n"
     ]
    },
    {
     "name": "stderr",
     "output_type": "stream",
     "text": [
      "INFO:root:Using GPU\n"
     ]
    },
    {
     "name": "stdout",
     "output_type": "stream",
     "text": [
      "total:11, prediction_length:10\n",
      "top1acc= 0.32727272727272727 top1acc_farmost= 0.18181818181818182 top5acc= 0.4909090909090909 top5acc_farmost= 0.2909090909090909\n",
      "tau =  0.5074882511428856 rmse =  40.65827000075276\n",
      "model: zerotrack\n",
      "predicting model=zerotrack, plen=10\n",
      "loading model...done!, ctx:gpu(0)\n",
      "tss len=284, forecasts len=284\n",
      "total:11, prediction_length:10\n",
      "top1acc= 0.35454545454545455 top1acc_farmost= 0.18181818181818182 top5acc= 0.47454545454545455 top5acc_farmost= 0.32727272727272727\n",
      "tau =  0.5322255977954101 rmse =  37.98426182119285\n",
      "==============================\n",
      "====event:Indy500, train_len=80, max_len=200, min_len=200\n",
      "carno:1, totallen:200, nancount:0, test_reccnt:59\n",
      "carno:3, totallen:146, nancount:54, test_reccnt:32\n",
      "carno:4, totallen:200, nancount:0, test_reccnt:59\n",
      "carno:6, totallen:200, nancount:0, test_reccnt:59\n",
      "carno:7, totallen:193, nancount:7, test_reccnt:55\n",
      "carno:9, totallen:200, nancount:0, test_reccnt:59\n",
      "a short ts: carid=10，len=57\n",
      "carno:12, totallen:200, nancount:0, test_reccnt:59\n",
      "a short ts: carid=13，len=67\n",
      "carno:14, totallen:187, nancount:13, test_reccnt:52\n",
      "carno:15, totallen:200, nancount:0, test_reccnt:59\n",
      "carno:17, totallen:199, nancount:1, test_reccnt:58\n",
      "carno:18, totallen:137, nancount:63, test_reccnt:27\n",
      "carno:19, totallen:199, nancount:1, test_reccnt:58\n",
      "carno:20, totallen:200, nancount:0, test_reccnt:59\n",
      "carno:21, totallen:199, nancount:1, test_reccnt:58\n",
      "carno:22, totallen:200, nancount:0, test_reccnt:59\n",
      "carno:23, totallen:200, nancount:0, test_reccnt:59\n",
      "carno:24, totallen:154, nancount:46, test_reccnt:36\n",
      "carno:25, totallen:200, nancount:0, test_reccnt:59\n",
      "carno:26, totallen:198, nancount:2, test_reccnt:58\n",
      "carno:27, totallen:200, nancount:0, test_reccnt:59\n",
      "carno:28, totallen:200, nancount:0, test_reccnt:59\n",
      "carno:29, totallen:200, nancount:0, test_reccnt:59\n",
      "a short ts: carid=30，len=46\n",
      "carno:32, totallen:110, nancount:90, test_reccnt:14\n",
      "a short ts: carid=33，len=46\n",
      "carno:59, totallen:198, nancount:2, test_reccnt:58\n"
     ]
    },
    {
     "name": "stderr",
     "output_type": "stream",
     "text": [
      "INFO:root:Using GPU\n"
     ]
    },
    {
     "name": "stdout",
     "output_type": "stream",
     "text": [
      "carno:60, totallen:200, nancount:0, test_reccnt:59\n",
      "carno:64, totallen:200, nancount:0, test_reccnt:59\n",
      "carno:66, totallen:200, nancount:0, test_reccnt:59\n",
      "carno:88, totallen:200, nancount:0, test_reccnt:59\n",
      "carno:98, totallen:200, nancount:0, test_reccnt:59\n",
      "train len:0, test len:1568\n",
      "model: oracle\n",
      "predicting model=oracle, plen=2\n",
      "loading model...done!, ctx:gpu(0)\n",
      "tss len=1568, forecasts len=1568\n"
     ]
    },
    {
     "name": "stderr",
     "output_type": "stream",
     "text": [
      "INFO:root:Using GPU\n"
     ]
    },
    {
     "name": "stdout",
     "output_type": "stream",
     "text": [
      "total:59, prediction_length:2\n",
      "top1acc= 0.652542372881356 top1acc_farmost= 0.576271186440678 top5acc= 0.8033898305084746 top5acc_farmost= 0.7559322033898305\n",
      "tau =  0.8264925211563408 rmse =  12.495123670858439\n",
      "model: curtrack\n",
      "predicting model=curtrack, plen=2\n",
      "loading model...done!, ctx:gpu(0)\n",
      "tss len=1568, forecasts len=1568\n"
     ]
    },
    {
     "name": "stderr",
     "output_type": "stream",
     "text": [
      "INFO:root:Using GPU\n"
     ]
    },
    {
     "name": "stdout",
     "output_type": "stream",
     "text": [
      "total:59, prediction_length:2\n",
      "top1acc= 0.635593220338983 top1acc_farmost= 0.559322033898305 top5acc= 0.8050847457627118 top5acc_farmost= 0.752542372881356\n",
      "tau =  0.8302107803619311 rmse =  12.062371915850811\n",
      "model: zerotrack\n",
      "predicting model=zerotrack, plen=2\n",
      "loading model...done!, ctx:gpu(0)\n",
      "tss len=1568, forecasts len=1568\n"
     ]
    },
    {
     "name": "stderr",
     "output_type": "stream",
     "text": [
      "INFO:root:Using GPU\n"
     ]
    },
    {
     "name": "stdout",
     "output_type": "stream",
     "text": [
      "total:59, prediction_length:2\n",
      "top1acc= 0.6016949152542372 top1acc_farmost= 0.5423728813559322 top5acc= 0.8254237288135593 top5acc_farmost= 0.7762711864406779\n",
      "tau =  0.8282714651948067 rmse =  11.558335518091827\n",
      "==============================\n",
      "====event:Indy500, train_len=80, max_len=200, min_len=200\n",
      "carno:1, totallen:200, nancount:0, test_reccnt:59\n",
      "carno:3, totallen:146, nancount:54, test_reccnt:32\n",
      "carno:4, totallen:200, nancount:0, test_reccnt:59\n",
      "carno:6, totallen:200, nancount:0, test_reccnt:59\n",
      "carno:7, totallen:193, nancount:7, test_reccnt:55\n",
      "carno:9, totallen:200, nancount:0, test_reccnt:59\n",
      "a short ts: carid=10，len=57\n",
      "carno:12, totallen:200, nancount:0, test_reccnt:59\n",
      "a short ts: carid=13，len=67\n",
      "carno:14, totallen:187, nancount:13, test_reccnt:52\n",
      "carno:15, totallen:200, nancount:0, test_reccnt:59\n",
      "carno:17, totallen:199, nancount:1, test_reccnt:58\n",
      "carno:18, totallen:137, nancount:63, test_reccnt:27\n",
      "carno:19, totallen:199, nancount:1, test_reccnt:58\n",
      "carno:20, totallen:200, nancount:0, test_reccnt:59\n",
      "carno:21, totallen:199, nancount:1, test_reccnt:58\n",
      "carno:22, totallen:200, nancount:0, test_reccnt:59\n",
      "carno:23, totallen:200, nancount:0, test_reccnt:59\n",
      "carno:24, totallen:154, nancount:46, test_reccnt:36\n",
      "carno:25, totallen:200, nancount:0, test_reccnt:59\n",
      "carno:26, totallen:198, nancount:2, test_reccnt:58\n",
      "carno:27, totallen:200, nancount:0, test_reccnt:59\n",
      "carno:28, totallen:200, nancount:0, test_reccnt:59\n",
      "carno:29, totallen:200, nancount:0, test_reccnt:59\n",
      "a short ts: carid=30，len=46\n",
      "carno:32, totallen:110, nancount:90, test_reccnt:14\n",
      "a short ts: carid=33，len=46\n",
      "carno:59, totallen:198, nancount:2, test_reccnt:58\n",
      "carno:60, totallen:200, nancount:0, test_reccnt:59\n",
      "carno:64, totallen:200, nancount:0, test_reccnt:59\n",
      "carno:66, totallen:200, nancount:0, test_reccnt:59\n",
      "carno:88, totallen:200, nancount:0, test_reccnt:59\n",
      "carno:98, totallen:200, nancount:0, test_reccnt:59\n",
      "train len:0, test len:1568\n",
      "model: oracle\n",
      "predicting model=oracle, plen=2\n",
      "loading model...done!, ctx:gpu(0)\n",
      "tss len=1568, forecasts len=1568\n"
     ]
    },
    {
     "name": "stderr",
     "output_type": "stream",
     "text": [
      "INFO:root:Using GPU\n"
     ]
    },
    {
     "name": "stdout",
     "output_type": "stream",
     "text": [
      "total:59, prediction_length:2\n",
      "top1acc= 0.6016949152542372 top1acc_farmost= 0.5254237288135594 top5acc= 0.8084745762711865 top5acc_farmost= 0.7559322033898305\n",
      "tau =  0.8270095165239344 rmse =  12.432971257174747\n",
      "model: curtrack\n",
      "predicting model=curtrack, plen=2\n",
      "loading model...done!, ctx:gpu(0)\n",
      "tss len=1568, forecasts len=1568\n"
     ]
    },
    {
     "name": "stderr",
     "output_type": "stream",
     "text": [
      "INFO:root:Using GPU\n"
     ]
    },
    {
     "name": "stdout",
     "output_type": "stream",
     "text": [
      "total:59, prediction_length:2\n",
      "top1acc= 0.6271186440677966 top1acc_farmost= 0.559322033898305 top5acc= 0.8203389830508474 top5acc_farmost= 0.7694915254237288\n",
      "tau =  0.8318961957402069 rmse =  12.16793832544004\n",
      "model: zerotrack\n",
      "predicting model=zerotrack, plen=2\n",
      "loading model...done!, ctx:gpu(0)\n",
      "tss len=1568, forecasts len=1568\n"
     ]
    },
    {
     "name": "stderr",
     "output_type": "stream",
     "text": [
      "INFO:root:Using GPU\n"
     ]
    },
    {
     "name": "stdout",
     "output_type": "stream",
     "text": [
      "total:59, prediction_length:2\n",
      "top1acc= 0.5508474576271186 top1acc_farmost= 0.423728813559322 top5acc= 0.8152542372881356 top5acc_farmost= 0.7661016949152543\n",
      "tau =  0.8352512293898329 rmse =  10.703698088560486\n",
      "==============================\n",
      "====event:Indy500, train_len=80, max_len=200, min_len=200\n",
      "carno:1, totallen:200, nancount:0, test_reccnt:59\n",
      "carno:3, totallen:146, nancount:54, test_reccnt:32\n",
      "carno:4, totallen:200, nancount:0, test_reccnt:59\n",
      "carno:6, totallen:200, nancount:0, test_reccnt:59\n",
      "carno:7, totallen:193, nancount:7, test_reccnt:55\n",
      "carno:9, totallen:200, nancount:0, test_reccnt:59\n",
      "a short ts: carid=10，len=57\n",
      "carno:12, totallen:200, nancount:0, test_reccnt:59\n",
      "a short ts: carid=13，len=67\n",
      "carno:14, totallen:187, nancount:13, test_reccnt:52\n",
      "carno:15, totallen:200, nancount:0, test_reccnt:59\n",
      "carno:17, totallen:199, nancount:1, test_reccnt:58\n",
      "carno:18, totallen:137, nancount:63, test_reccnt:27\n",
      "carno:19, totallen:199, nancount:1, test_reccnt:58\n",
      "carno:20, totallen:200, nancount:0, test_reccnt:59\n",
      "carno:21, totallen:199, nancount:1, test_reccnt:58\n",
      "carno:22, totallen:200, nancount:0, test_reccnt:59\n",
      "carno:23, totallen:200, nancount:0, test_reccnt:59\n",
      "carno:24, totallen:154, nancount:46, test_reccnt:36\n",
      "carno:25, totallen:200, nancount:0, test_reccnt:59\n",
      "carno:26, totallen:198, nancount:2, test_reccnt:58\n",
      "carno:27, totallen:200, nancount:0, test_reccnt:59\n",
      "carno:28, totallen:200, nancount:0, test_reccnt:59\n",
      "carno:29, totallen:200, nancount:0, test_reccnt:59\n",
      "a short ts: carid=30，len=46\n",
      "carno:32, totallen:110, nancount:90, test_reccnt:14\n",
      "a short ts: carid=33，len=46\n",
      "carno:59, totallen:198, nancount:2, test_reccnt:58\n",
      "carno:60, totallen:200, nancount:0, test_reccnt:59\n",
      "carno:64, totallen:200, nancount:0, test_reccnt:59\n",
      "carno:66, totallen:200, nancount:0, test_reccnt:59\n",
      "carno:88, totallen:200, nancount:0, test_reccnt:59\n",
      "carno:98, totallen:200, nancount:0, test_reccnt:59\n",
      "train len:0, test len:1568\n",
      "model: oracle\n",
      "predicting model=oracle, plen=2\n",
      "loading model...done!, ctx:gpu(0)\n",
      "tss len=1568, forecasts len=1568\n"
     ]
    },
    {
     "name": "stderr",
     "output_type": "stream",
     "text": [
      "INFO:root:Using GPU\n"
     ]
    },
    {
     "name": "stdout",
     "output_type": "stream",
     "text": [
      "total:59, prediction_length:2\n",
      "top1acc= 0.6186440677966102 top1acc_farmost= 0.576271186440678 top5acc= 0.8203389830508474 top5acc_farmost= 0.7661016949152543\n",
      "tau =  0.8347486206084247 rmse =  11.196173143018113\n",
      "model: curtrack\n",
      "predicting model=curtrack, plen=2\n",
      "loading model...done!, ctx:gpu(0)\n",
      "tss len=1568, forecasts len=1568\n"
     ]
    },
    {
     "name": "stderr",
     "output_type": "stream",
     "text": [
      "INFO:root:Using GPU\n"
     ]
    },
    {
     "name": "stdout",
     "output_type": "stream",
     "text": [
      "total:59, prediction_length:2\n",
      "top1acc= 0.6186440677966102 top1acc_farmost= 0.5423728813559322 top5acc= 0.8135593220338984 top5acc_farmost= 0.7593220338983051\n",
      "tau =  0.8212038642584601 rmse =  12.274375906095086\n",
      "model: zerotrack\n",
      "predicting model=zerotrack, plen=2\n",
      "loading model...done!, ctx:gpu(0)\n",
      "tss len=1568, forecasts len=1568\n"
     ]
    },
    {
     "name": "stderr",
     "output_type": "stream",
     "text": [
      "INFO:root:Using GPU\n"
     ]
    },
    {
     "name": "stdout",
     "output_type": "stream",
     "text": [
      "total:59, prediction_length:2\n",
      "top1acc= 0.559322033898305 top1acc_farmost= 0.4915254237288136 top5acc= 0.8254237288135593 top5acc_farmost= 0.7661016949152543\n",
      "tau =  0.8369347606586639 rmse =  10.88419760055404\n",
      "==============================\n",
      "====event:Indy500, train_len=80, max_len=200, min_len=200\n",
      "carno:1, totallen:200, nancount:0, test_reccnt:23\n",
      "carno:3, totallen:146, nancount:54, test_reccnt:12\n",
      "carno:4, totallen:200, nancount:0, test_reccnt:23\n",
      "carno:6, totallen:200, nancount:0, test_reccnt:23\n",
      "carno:7, totallen:193, nancount:7, test_reccnt:21\n",
      "carno:9, totallen:200, nancount:0, test_reccnt:23\n",
      "a short ts: carid=10，len=57\n",
      "carno:12, totallen:200, nancount:0, test_reccnt:23\n",
      "a short ts: carid=13，len=67\n",
      "carno:14, totallen:187, nancount:13, test_reccnt:20\n",
      "carno:15, totallen:200, nancount:0, test_reccnt:23\n",
      "carno:17, totallen:199, nancount:1, test_reccnt:22\n",
      "carno:18, totallen:137, nancount:63, test_reccnt:10\n",
      "carno:19, totallen:199, nancount:1, test_reccnt:22\n",
      "carno:20, totallen:200, nancount:0, test_reccnt:23\n",
      "carno:21, totallen:199, nancount:1, test_reccnt:22\n",
      "carno:22, totallen:200, nancount:0, test_reccnt:23\n",
      "carno:23, totallen:200, nancount:0, test_reccnt:23\n",
      "carno:24, totallen:154, nancount:46, test_reccnt:13\n",
      "carno:25, totallen:200, nancount:0, test_reccnt:23\n",
      "carno:26, totallen:198, nancount:2, test_reccnt:22\n",
      "carno:27, totallen:200, nancount:0, test_reccnt:23\n",
      "carno:28, totallen:200, nancount:0, test_reccnt:23\n",
      "carno:29, totallen:200, nancount:0, test_reccnt:23\n",
      "a short ts: carid=30，len=46\n",
      "carno:32, totallen:110, nancount:90, test_reccnt:5\n",
      "a short ts: carid=33，len=46\n",
      "carno:59, totallen:198, nancount:2, test_reccnt:22\n",
      "carno:60, totallen:200, nancount:0, test_reccnt:23\n",
      "carno:64, totallen:200, nancount:0, test_reccnt:23\n",
      "carno:66, totallen:200, nancount:0, test_reccnt:23\n",
      "carno:88, totallen:200, nancount:0, test_reccnt:23\n",
      "carno:98, totallen:200, nancount:0, test_reccnt:23\n",
      "train len:0, test len:605\n",
      "model: oracle\n",
      "predicting model=oracle, plen=5\n",
      "loading model...done!, ctx:gpu(0)\n",
      "tss len=605, forecasts len=605\n"
     ]
    },
    {
     "name": "stderr",
     "output_type": "stream",
     "text": [
      "INFO:root:Using GPU\n"
     ]
    },
    {
     "name": "stdout",
     "output_type": "stream",
     "text": [
      "total:23, prediction_length:5\n",
      "top1acc= 0.4782608695652174 top1acc_farmost= 0.34782608695652173 top5acc= 0.6504347826086957 top5acc_farmost= 0.5478260869565217\n",
      "tau =  0.6916596695585242 rmse =  25.383931237969694\n",
      "model: curtrack\n",
      "predicting model=curtrack, plen=5\n",
      "loading model...done!, ctx:gpu(0)\n",
      "tss len=605, forecasts len=605\n"
     ]
    },
    {
     "name": "stderr",
     "output_type": "stream",
     "text": [
      "INFO:root:Using GPU\n"
     ]
    },
    {
     "name": "stdout",
     "output_type": "stream",
     "text": [
      "total:23, prediction_length:5\n",
      "top1acc= 0.5478260869565217 top1acc_farmost= 0.43478260869565216 top5acc= 0.6452173913043479 top5acc_farmost= 0.5043478260869565\n",
      "tau =  0.6845703749371752 rmse =  25.874490617832777\n",
      "model: zerotrack\n",
      "predicting model=zerotrack, plen=5\n",
      "loading model...done!, ctx:gpu(0)\n",
      "tss len=605, forecasts len=605\n"
     ]
    },
    {
     "name": "stderr",
     "output_type": "stream",
     "text": [
      "INFO:root:Using GPU\n"
     ]
    },
    {
     "name": "stdout",
     "output_type": "stream",
     "text": [
      "total:23, prediction_length:5\n",
      "top1acc= 0.4608695652173913 top1acc_farmost= 0.34782608695652173 top5acc= 0.5843478260869566 top5acc_farmost= 0.48695652173913045\n",
      "tau =  0.6418972990350512 rmse =  29.5396425700724\n",
      "==============================\n",
      "====event:Indy500, train_len=80, max_len=200, min_len=200\n",
      "carno:1, totallen:200, nancount:0, test_reccnt:23\n",
      "carno:3, totallen:146, nancount:54, test_reccnt:12\n",
      "carno:4, totallen:200, nancount:0, test_reccnt:23\n",
      "carno:6, totallen:200, nancount:0, test_reccnt:23\n",
      "carno:7, totallen:193, nancount:7, test_reccnt:21\n",
      "carno:9, totallen:200, nancount:0, test_reccnt:23\n",
      "a short ts: carid=10，len=57\n",
      "carno:12, totallen:200, nancount:0, test_reccnt:23\n",
      "a short ts: carid=13，len=67\n",
      "carno:14, totallen:187, nancount:13, test_reccnt:20\n",
      "carno:15, totallen:200, nancount:0, test_reccnt:23\n",
      "carno:17, totallen:199, nancount:1, test_reccnt:22\n",
      "carno:18, totallen:137, nancount:63, test_reccnt:10\n",
      "carno:19, totallen:199, nancount:1, test_reccnt:22\n",
      "carno:20, totallen:200, nancount:0, test_reccnt:23\n",
      "carno:21, totallen:199, nancount:1, test_reccnt:22\n",
      "carno:22, totallen:200, nancount:0, test_reccnt:23\n",
      "carno:23, totallen:200, nancount:0, test_reccnt:23\n",
      "carno:24, totallen:154, nancount:46, test_reccnt:13\n",
      "carno:25, totallen:200, nancount:0, test_reccnt:23\n",
      "carno:26, totallen:198, nancount:2, test_reccnt:22\n",
      "carno:27, totallen:200, nancount:0, test_reccnt:23\n",
      "carno:28, totallen:200, nancount:0, test_reccnt:23\n",
      "carno:29, totallen:200, nancount:0, test_reccnt:23\n",
      "a short ts: carid=30，len=46\n",
      "carno:32, totallen:110, nancount:90, test_reccnt:5\n",
      "a short ts: carid=33，len=46\n",
      "carno:59, totallen:198, nancount:2, test_reccnt:22\n",
      "carno:60, totallen:200, nancount:0, test_reccnt:23\n",
      "carno:64, totallen:200, nancount:0, test_reccnt:23\n",
      "carno:66, totallen:200, nancount:0, test_reccnt:23\n",
      "carno:88, totallen:200, nancount:0, test_reccnt:23\n",
      "carno:98, totallen:200, nancount:0, test_reccnt:23\n",
      "train len:0, test len:605\n",
      "model: oracle\n",
      "predicting model=oracle, plen=5\n",
      "loading model...done!, ctx:gpu(0)\n",
      "tss len=605, forecasts len=605\n"
     ]
    },
    {
     "name": "stderr",
     "output_type": "stream",
     "text": [
      "INFO:root:Using GPU\n"
     ]
    },
    {
     "name": "stdout",
     "output_type": "stream",
     "text": [
      "total:23, prediction_length:5\n",
      "top1acc= 0.43478260869565216 top1acc_farmost= 0.34782608695652173 top5acc= 0.6313043478260869 top5acc_farmost= 0.5217391304347826\n",
      "tau =  0.6897694205255641 rmse =  25.020205540856477\n",
      "model: curtrack\n",
      "predicting model=curtrack, plen=5\n",
      "loading model...done!, ctx:gpu(0)\n",
      "tss len=605, forecasts len=605\n"
     ]
    },
    {
     "name": "stderr",
     "output_type": "stream",
     "text": [
      "INFO:root:Using GPU\n"
     ]
    },
    {
     "name": "stdout",
     "output_type": "stream",
     "text": [
      "total:23, prediction_length:5\n",
      "top1acc= 0.41739130434782606 top1acc_farmost= 0.30434782608695654 top5acc= 0.6452173913043479 top5acc_farmost= 0.5304347826086957\n",
      "tau =  0.6810736345977028 rmse =  26.003427921384638\n",
      "model: zerotrack\n",
      "predicting model=zerotrack, plen=5\n",
      "loading model...done!, ctx:gpu(0)\n",
      "tss len=605, forecasts len=605\n"
     ]
    },
    {
     "name": "stderr",
     "output_type": "stream",
     "text": [
      "INFO:root:Using GPU\n"
     ]
    },
    {
     "name": "stdout",
     "output_type": "stream",
     "text": [
      "total:23, prediction_length:5\n",
      "top1acc= 0.4260869565217391 top1acc_farmost= 0.2608695652173913 top5acc= 0.5982608695652174 top5acc_farmost= 0.45217391304347826\n",
      "tau =  0.6508044767998679 rmse =  28.25906879925223\n",
      "==============================\n",
      "====event:Indy500, train_len=80, max_len=200, min_len=200\n",
      "carno:1, totallen:200, nancount:0, test_reccnt:23\n",
      "carno:3, totallen:146, nancount:54, test_reccnt:12\n",
      "carno:4, totallen:200, nancount:0, test_reccnt:23\n",
      "carno:6, totallen:200, nancount:0, test_reccnt:23\n",
      "carno:7, totallen:193, nancount:7, test_reccnt:21\n",
      "carno:9, totallen:200, nancount:0, test_reccnt:23\n",
      "a short ts: carid=10，len=57\n",
      "carno:12, totallen:200, nancount:0, test_reccnt:23\n",
      "a short ts: carid=13，len=67\n",
      "carno:14, totallen:187, nancount:13, test_reccnt:20\n",
      "carno:15, totallen:200, nancount:0, test_reccnt:23\n",
      "carno:17, totallen:199, nancount:1, test_reccnt:22\n",
      "carno:18, totallen:137, nancount:63, test_reccnt:10\n",
      "carno:19, totallen:199, nancount:1, test_reccnt:22\n",
      "carno:20, totallen:200, nancount:0, test_reccnt:23\n",
      "carno:21, totallen:199, nancount:1, test_reccnt:22\n",
      "carno:22, totallen:200, nancount:0, test_reccnt:23\n",
      "carno:23, totallen:200, nancount:0, test_reccnt:23\n",
      "carno:24, totallen:154, nancount:46, test_reccnt:13\n",
      "carno:25, totallen:200, nancount:0, test_reccnt:23\n",
      "carno:26, totallen:198, nancount:2, test_reccnt:22\n",
      "carno:27, totallen:200, nancount:0, test_reccnt:23\n",
      "carno:28, totallen:200, nancount:0, test_reccnt:23\n",
      "carno:29, totallen:200, nancount:0, test_reccnt:23\n",
      "a short ts: carid=30，len=46\n",
      "carno:32, totallen:110, nancount:90, test_reccnt:5\n",
      "a short ts: carid=33，len=46\n",
      "carno:59, totallen:198, nancount:2, test_reccnt:22\n",
      "carno:60, totallen:200, nancount:0, test_reccnt:23\n",
      "carno:64, totallen:200, nancount:0, test_reccnt:23\n",
      "carno:66, totallen:200, nancount:0, test_reccnt:23\n",
      "carno:88, totallen:200, nancount:0, test_reccnt:23\n",
      "carno:98, totallen:200, nancount:0, test_reccnt:23\n",
      "train len:0, test len:605\n",
      "model: oracle\n",
      "predicting model=oracle, plen=5\n",
      "loading model...done!, ctx:gpu(0)\n",
      "tss len=605, forecasts len=605\n"
     ]
    },
    {
     "name": "stderr",
     "output_type": "stream",
     "text": [
      "INFO:root:Using GPU\n"
     ]
    },
    {
     "name": "stdout",
     "output_type": "stream",
     "text": [
      "total:23, prediction_length:5\n",
      "top1acc= 0.4608695652173913 top1acc_farmost= 0.30434782608695654 top5acc= 0.6330434782608696 top5acc_farmost= 0.5043478260869565\n",
      "tau =  0.6762697573823299 rmse =  27.086717733929124\n",
      "model: curtrack\n",
      "predicting model=curtrack, plen=5\n",
      "loading model...done!, ctx:gpu(0)\n",
      "tss len=605, forecasts len=605\n"
     ]
    },
    {
     "name": "stderr",
     "output_type": "stream",
     "text": [
      "INFO:root:Using GPU\n"
     ]
    },
    {
     "name": "stdout",
     "output_type": "stream",
     "text": [
      "total:23, prediction_length:5\n",
      "top1acc= 0.45217391304347826 top1acc_farmost= 0.30434782608695654 top5acc= 0.6086956521739131 top5acc_farmost= 0.4434782608695652\n",
      "tau =  0.6685830560484686 rmse =  27.467256608516895\n",
      "model: zerotrack\n",
      "predicting model=zerotrack, plen=5\n",
      "loading model...done!, ctx:gpu(0)\n",
      "tss len=605, forecasts len=605\n"
     ]
    },
    {
     "name": "stderr",
     "output_type": "stream",
     "text": [
      "INFO:root:Using GPU\n"
     ]
    },
    {
     "name": "stdout",
     "output_type": "stream",
     "text": [
      "total:23, prediction_length:5\n",
      "top1acc= 0.40869565217391307 top1acc_farmost= 0.2608695652173913 top5acc= 0.6034782608695652 top5acc_farmost= 0.4608695652173913\n",
      "tau =  0.6393417924950359 rmse =  29.957404788023787\n",
      "==============================\n",
      "====event:Indy500, train_len=80, max_len=200, min_len=200\n",
      "carno:1, totallen:200, nancount:0, test_reccnt:11\n",
      "carno:3, totallen:146, nancount:54, test_reccnt:5\n",
      "carno:4, totallen:200, nancount:0, test_reccnt:11\n",
      "carno:6, totallen:200, nancount:0, test_reccnt:11\n",
      "carno:7, totallen:193, nancount:7, test_reccnt:10\n",
      "carno:9, totallen:200, nancount:0, test_reccnt:11\n",
      "a short ts: carid=10，len=57\n",
      "carno:12, totallen:200, nancount:0, test_reccnt:11\n",
      "a short ts: carid=13，len=67\n",
      "carno:14, totallen:187, nancount:13, test_reccnt:9\n",
      "carno:15, totallen:200, nancount:0, test_reccnt:11\n",
      "carno:17, totallen:199, nancount:1, test_reccnt:10\n",
      "carno:18, totallen:137, nancount:63, test_reccnt:4\n",
      "carno:19, totallen:199, nancount:1, test_reccnt:10\n",
      "carno:20, totallen:200, nancount:0, test_reccnt:11\n",
      "carno:21, totallen:199, nancount:1, test_reccnt:10\n",
      "carno:22, totallen:200, nancount:0, test_reccnt:11\n",
      "carno:23, totallen:200, nancount:0, test_reccnt:11\n",
      "carno:24, totallen:154, nancount:46, test_reccnt:6\n",
      "carno:25, totallen:200, nancount:0, test_reccnt:11\n",
      "carno:26, totallen:198, nancount:2, test_reccnt:10\n",
      "carno:27, totallen:200, nancount:0, test_reccnt:11\n",
      "carno:28, totallen:200, nancount:0, test_reccnt:11\n",
      "carno:29, totallen:200, nancount:0, test_reccnt:11\n",
      "a short ts: carid=30，len=46\n",
      "carno:32, totallen:110, nancount:90, test_reccnt:2\n",
      "a short ts: carid=33，len=46\n",
      "carno:59, totallen:198, nancount:2, test_reccnt:10\n",
      "carno:60, totallen:200, nancount:0, test_reccnt:11\n",
      "carno:64, totallen:200, nancount:0, test_reccnt:11\n",
      "carno:66, totallen:200, nancount:0, test_reccnt:11\n",
      "carno:88, totallen:200, nancount:0, test_reccnt:11\n",
      "carno:98, totallen:200, nancount:0, test_reccnt:11\n",
      "train len:0, test len:284\n",
      "model: oracle\n",
      "predicting model=oracle, plen=10\n",
      "loading model...done!, ctx:gpu(0)\n",
      "tss len=284, forecasts len=284\n"
     ]
    },
    {
     "name": "stderr",
     "output_type": "stream",
     "text": [
      "INFO:root:Using GPU\n"
     ]
    },
    {
     "name": "stdout",
     "output_type": "stream",
     "text": [
      "total:11, prediction_length:10\n",
      "top1acc= 0.3181818181818182 top1acc_farmost= 0.18181818181818182 top5acc= 0.5709090909090909 top5acc_farmost= 0.43636363636363634\n",
      "tau =  0.5311514274850195 rmse =  38.38515389463666\n",
      "model: curtrack\n",
      "predicting model=curtrack, plen=10\n",
      "loading model...done!, ctx:gpu(0)\n",
      "tss len=284, forecasts len=284\n"
     ]
    },
    {
     "name": "stderr",
     "output_type": "stream",
     "text": [
      "INFO:root:Using GPU\n"
     ]
    },
    {
     "name": "stdout",
     "output_type": "stream",
     "text": [
      "total:11, prediction_length:10\n",
      "top1acc= 0.3181818181818182 top1acc_farmost= 0.18181818181818182 top5acc= 0.5145454545454545 top5acc_farmost= 0.32727272727272727\n",
      "tau =  0.5041975149441857 rmse =  41.09791243749865\n",
      "model: zerotrack\n",
      "predicting model=zerotrack, plen=10\n",
      "loading model...done!, ctx:gpu(0)\n",
      "tss len=284, forecasts len=284\n"
     ]
    },
    {
     "name": "stderr",
     "output_type": "stream",
     "text": [
      "INFO:root:Using GPU\n"
     ]
    },
    {
     "name": "stdout",
     "output_type": "stream",
     "text": [
      "total:11, prediction_length:10\n",
      "top1acc= 0.3090909090909091 top1acc_farmost= 0.18181818181818182 top5acc= 0.48727272727272725 top5acc_farmost= 0.36363636363636365\n",
      "tau =  0.506590375892607 rmse =  41.09573452856212\n",
      "==============================\n",
      "====event:Indy500, train_len=80, max_len=200, min_len=200\n",
      "carno:1, totallen:200, nancount:0, test_reccnt:11\n",
      "carno:3, totallen:146, nancount:54, test_reccnt:5\n",
      "carno:4, totallen:200, nancount:0, test_reccnt:11\n",
      "carno:6, totallen:200, nancount:0, test_reccnt:11\n",
      "carno:7, totallen:193, nancount:7, test_reccnt:10\n",
      "carno:9, totallen:200, nancount:0, test_reccnt:11\n",
      "a short ts: carid=10，len=57\n",
      "carno:12, totallen:200, nancount:0, test_reccnt:11\n",
      "a short ts: carid=13，len=67\n",
      "carno:14, totallen:187, nancount:13, test_reccnt:9\n",
      "carno:15, totallen:200, nancount:0, test_reccnt:11\n",
      "carno:17, totallen:199, nancount:1, test_reccnt:10\n",
      "carno:18, totallen:137, nancount:63, test_reccnt:4\n",
      "carno:19, totallen:199, nancount:1, test_reccnt:10\n",
      "carno:20, totallen:200, nancount:0, test_reccnt:11\n",
      "carno:21, totallen:199, nancount:1, test_reccnt:10\n",
      "carno:22, totallen:200, nancount:0, test_reccnt:11\n",
      "carno:23, totallen:200, nancount:0, test_reccnt:11\n",
      "carno:24, totallen:154, nancount:46, test_reccnt:6\n",
      "carno:25, totallen:200, nancount:0, test_reccnt:11\n",
      "carno:26, totallen:198, nancount:2, test_reccnt:10\n",
      "carno:27, totallen:200, nancount:0, test_reccnt:11\n",
      "carno:28, totallen:200, nancount:0, test_reccnt:11\n",
      "carno:29, totallen:200, nancount:0, test_reccnt:11\n",
      "a short ts: carid=30，len=46\n",
      "carno:32, totallen:110, nancount:90, test_reccnt:2\n",
      "a short ts: carid=33，len=46\n",
      "carno:59, totallen:198, nancount:2, test_reccnt:10\n",
      "carno:60, totallen:200, nancount:0, test_reccnt:11\n",
      "carno:64, totallen:200, nancount:0, test_reccnt:11\n",
      "carno:66, totallen:200, nancount:0, test_reccnt:11\n",
      "carno:88, totallen:200, nancount:0, test_reccnt:11\n",
      "carno:98, totallen:200, nancount:0, test_reccnt:11\n",
      "train len:0, test len:284\n",
      "model: oracle\n",
      "predicting model=oracle, plen=10\n",
      "loading model...done!, ctx:gpu(0)\n"
     ]
    },
    {
     "name": "stderr",
     "output_type": "stream",
     "text": [
      "INFO:root:Using GPU\n"
     ]
    },
    {
     "name": "stdout",
     "output_type": "stream",
     "text": [
      "tss len=284, forecasts len=284\n",
      "total:11, prediction_length:10\n",
      "top1acc= 0.3 top1acc_farmost= 0.18181818181818182 top5acc= 0.5327272727272727 top5acc_farmost= 0.32727272727272727\n",
      "tau =  0.5208356420322026 rmse =  39.80134523331075\n",
      "model: curtrack\n",
      "predicting model=curtrack, plen=10\n",
      "loading model...done!, ctx:gpu(0)\n",
      "tss len=284, forecasts len=284\n"
     ]
    },
    {
     "name": "stderr",
     "output_type": "stream",
     "text": [
      "INFO:root:Using GPU\n"
     ]
    },
    {
     "name": "stdout",
     "output_type": "stream",
     "text": [
      "total:11, prediction_length:10\n",
      "top1acc= 0.34545454545454546 top1acc_farmost= 0.18181818181818182 top5acc= 0.52 top5acc_farmost= 0.32727272727272727\n",
      "tau =  0.5018125220123545 rmse =  40.77480267880267\n",
      "model: zerotrack\n",
      "predicting model=zerotrack, plen=10\n",
      "loading model...done!, ctx:gpu(0)\n",
      "tss len=284, forecasts len=284\n"
     ]
    },
    {
     "name": "stderr",
     "output_type": "stream",
     "text": [
      "INFO:root:Using GPU\n"
     ]
    },
    {
     "name": "stdout",
     "output_type": "stream",
     "text": [
      "total:11, prediction_length:10\n",
      "top1acc= 0.3 top1acc_farmost= 0.09090909090909091 top5acc= 0.48363636363636364 top5acc_farmost= 0.3090909090909091\n",
      "tau =  0.4807531159544123 rmse =  42.794778675985576\n",
      "==============================\n",
      "====event:Indy500, train_len=80, max_len=200, min_len=200\n",
      "carno:1, totallen:200, nancount:0, test_reccnt:11\n",
      "carno:3, totallen:146, nancount:54, test_reccnt:5\n",
      "carno:4, totallen:200, nancount:0, test_reccnt:11\n",
      "carno:6, totallen:200, nancount:0, test_reccnt:11\n",
      "carno:7, totallen:193, nancount:7, test_reccnt:10\n",
      "carno:9, totallen:200, nancount:0, test_reccnt:11\n",
      "a short ts: carid=10，len=57\n",
      "carno:12, totallen:200, nancount:0, test_reccnt:11\n",
      "a short ts: carid=13，len=67\n",
      "carno:14, totallen:187, nancount:13, test_reccnt:9\n",
      "carno:15, totallen:200, nancount:0, test_reccnt:11\n",
      "carno:17, totallen:199, nancount:1, test_reccnt:10\n",
      "carno:18, totallen:137, nancount:63, test_reccnt:4\n",
      "carno:19, totallen:199, nancount:1, test_reccnt:10\n",
      "carno:20, totallen:200, nancount:0, test_reccnt:11\n",
      "carno:21, totallen:199, nancount:1, test_reccnt:10\n",
      "carno:22, totallen:200, nancount:0, test_reccnt:11\n",
      "carno:23, totallen:200, nancount:0, test_reccnt:11\n",
      "carno:24, totallen:154, nancount:46, test_reccnt:6\n",
      "carno:25, totallen:200, nancount:0, test_reccnt:11\n",
      "carno:26, totallen:198, nancount:2, test_reccnt:10\n",
      "carno:27, totallen:200, nancount:0, test_reccnt:11\n",
      "carno:28, totallen:200, nancount:0, test_reccnt:11\n",
      "carno:29, totallen:200, nancount:0, test_reccnt:11\n",
      "a short ts: carid=30，len=46\n",
      "carno:32, totallen:110, nancount:90, test_reccnt:2\n",
      "a short ts: carid=33，len=46\n",
      "carno:59, totallen:198, nancount:2, test_reccnt:10\n",
      "carno:60, totallen:200, nancount:0, test_reccnt:11\n",
      "carno:64, totallen:200, nancount:0, test_reccnt:11\n",
      "carno:66, totallen:200, nancount:0, test_reccnt:11\n",
      "carno:88, totallen:200, nancount:0, test_reccnt:11\n",
      "carno:98, totallen:200, nancount:0, test_reccnt:11\n",
      "train len:0, test len:284\n",
      "model: oracle\n",
      "predicting model=oracle, plen=10\n",
      "loading model...done!, ctx:gpu(0)\n"
     ]
    },
    {
     "name": "stderr",
     "output_type": "stream",
     "text": [
      "INFO:root:Using GPU\n"
     ]
    },
    {
     "name": "stdout",
     "output_type": "stream",
     "text": [
      "tss len=284, forecasts len=284\n",
      "total:11, prediction_length:10\n",
      "top1acc= 0.3181818181818182 top1acc_farmost= 0.18181818181818182 top5acc= 0.5254545454545455 top5acc_farmost= 0.32727272727272727\n",
      "tau =  0.5033216196521956 rmse =  41.43110933510933\n",
      "model: curtrack\n",
      "predicting model=curtrack, plen=10\n",
      "loading model...done!, ctx:gpu(0)\n",
      "tss len=284, forecasts len=284\n"
     ]
    },
    {
     "name": "stderr",
     "output_type": "stream",
     "text": [
      "INFO:root:Using GPU\n"
     ]
    },
    {
     "name": "stdout",
     "output_type": "stream",
     "text": [
      "total:11, prediction_length:10\n",
      "top1acc= 0.33636363636363636 top1acc_farmost= 0.18181818181818182 top5acc= 0.49636363636363634 top5acc_farmost= 0.3090909090909091\n",
      "tau =  0.5228092250568219 rmse =  39.0336937213489\n",
      "model: zerotrack\n",
      "predicting model=zerotrack, plen=10\n",
      "loading model...done!, ctx:gpu(0)\n"
     ]
    },
    {
     "name": "stderr",
     "output_type": "stream",
     "text": [
      "INFO:root:Using GPU\n"
     ]
    },
    {
     "name": "stdout",
     "output_type": "stream",
     "text": [
      "tss len=284, forecasts len=284\n",
      "total:11, prediction_length:10\n",
      "top1acc= 0.36363636363636365 top1acc_farmost= 0.18181818181818182 top5acc= 0.5418181818181819 top5acc_farmost= 0.34545454545454546\n",
      "tau =  0.5368382435962029 rmse =  37.9866772639876\n",
      "==============================\n",
      "====event:Indy500, train_len=80, max_len=200, min_len=200\n",
      "carno:1, totallen:200, nancount:0, test_reccnt:59\n",
      "carno:3, totallen:146, nancount:54, test_reccnt:32\n",
      "carno:4, totallen:200, nancount:0, test_reccnt:59\n",
      "carno:6, totallen:200, nancount:0, test_reccnt:59\n",
      "carno:7, totallen:193, nancount:7, test_reccnt:55\n",
      "carno:9, totallen:200, nancount:0, test_reccnt:59\n",
      "a short ts: carid=10，len=57\n",
      "carno:12, totallen:200, nancount:0, test_reccnt:59\n",
      "a short ts: carid=13，len=67\n",
      "carno:14, totallen:187, nancount:13, test_reccnt:52\n",
      "carno:15, totallen:200, nancount:0, test_reccnt:59\n",
      "carno:17, totallen:199, nancount:1, test_reccnt:58\n",
      "carno:18, totallen:137, nancount:63, test_reccnt:27\n",
      "carno:19, totallen:199, nancount:1, test_reccnt:58\n",
      "carno:20, totallen:200, nancount:0, test_reccnt:59\n",
      "carno:21, totallen:199, nancount:1, test_reccnt:58\n",
      "carno:22, totallen:200, nancount:0, test_reccnt:59\n",
      "carno:23, totallen:200, nancount:0, test_reccnt:59\n",
      "carno:24, totallen:154, nancount:46, test_reccnt:36\n",
      "carno:25, totallen:200, nancount:0, test_reccnt:59\n",
      "carno:26, totallen:198, nancount:2, test_reccnt:58\n",
      "carno:27, totallen:200, nancount:0, test_reccnt:59\n",
      "carno:28, totallen:200, nancount:0, test_reccnt:59\n",
      "carno:29, totallen:200, nancount:0, test_reccnt:59\n",
      "a short ts: carid=30，len=46\n",
      "carno:32, totallen:110, nancount:90, test_reccnt:14\n",
      "a short ts: carid=33，len=46\n",
      "carno:59, totallen:198, nancount:2, test_reccnt:58\n",
      "carno:60, totallen:200, nancount:0, test_reccnt:59\n",
      "carno:64, totallen:200, nancount:0, test_reccnt:59\n",
      "carno:66, totallen:200, nancount:0, test_reccnt:59\n",
      "carno:88, totallen:200, nancount:0, test_reccnt:59\n",
      "carno:98, totallen:200, nancount:0, test_reccnt:59\n",
      "train len:0, test len:1568\n",
      "model: oracle\n",
      "predicting model=oracle, plen=2\n",
      "loading model...done!, ctx:gpu(0)\n",
      "tss len=1568, forecasts len=1568\n"
     ]
    },
    {
     "name": "stderr",
     "output_type": "stream",
     "text": [
      "INFO:root:Using GPU\n"
     ]
    },
    {
     "name": "stdout",
     "output_type": "stream",
     "text": [
      "total:59, prediction_length:2\n",
      "top1acc= 0.635593220338983 top1acc_farmost= 0.559322033898305 top5acc= 0.8 top5acc_farmost= 0.7491525423728813\n",
      "tau =  0.8229380721947996 rmse =  12.634485975126713\n",
      "model: curtrack\n",
      "predicting model=curtrack, plen=2\n",
      "loading model...done!, ctx:gpu(0)\n",
      "tss len=1568, forecasts len=1568\n"
     ]
    },
    {
     "name": "stderr",
     "output_type": "stream",
     "text": [
      "INFO:root:Using GPU\n"
     ]
    },
    {
     "name": "stdout",
     "output_type": "stream",
     "text": [
      "total:59, prediction_length:2\n",
      "top1acc= 0.6186440677966102 top1acc_farmost= 0.5423728813559322 top5acc= 0.811864406779661 top5acc_farmost= 0.7593220338983051\n",
      "tau =  0.8310870076830628 rmse =  11.96971484451893\n",
      "model: zerotrack\n",
      "predicting model=zerotrack, plen=2\n",
      "loading model...done!, ctx:gpu(0)\n",
      "tss len=1568, forecasts len=1568\n"
     ]
    },
    {
     "name": "stderr",
     "output_type": "stream",
     "text": [
      "INFO:root:Using GPU\n"
     ]
    },
    {
     "name": "stdout",
     "output_type": "stream",
     "text": [
      "total:59, prediction_length:2\n",
      "top1acc= 0.6016949152542372 top1acc_farmost= 0.559322033898305 top5acc= 0.8152542372881356 top5acc_farmost= 0.7694915254237288\n",
      "tau =  0.8281825426280478 rmse =  11.751942444890629\n",
      "==============================\n",
      "====event:Indy500, train_len=80, max_len=200, min_len=200\n",
      "carno:1, totallen:200, nancount:0, test_reccnt:59\n",
      "carno:3, totallen:146, nancount:54, test_reccnt:32\n",
      "carno:4, totallen:200, nancount:0, test_reccnt:59\n",
      "carno:6, totallen:200, nancount:0, test_reccnt:59\n",
      "carno:7, totallen:193, nancount:7, test_reccnt:55\n",
      "carno:9, totallen:200, nancount:0, test_reccnt:59\n",
      "a short ts: carid=10，len=57\n",
      "carno:12, totallen:200, nancount:0, test_reccnt:59\n",
      "a short ts: carid=13，len=67\n",
      "carno:14, totallen:187, nancount:13, test_reccnt:52\n",
      "carno:15, totallen:200, nancount:0, test_reccnt:59\n",
      "carno:17, totallen:199, nancount:1, test_reccnt:58\n",
      "carno:18, totallen:137, nancount:63, test_reccnt:27\n",
      "carno:19, totallen:199, nancount:1, test_reccnt:58\n",
      "carno:20, totallen:200, nancount:0, test_reccnt:59\n",
      "carno:21, totallen:199, nancount:1, test_reccnt:58\n",
      "carno:22, totallen:200, nancount:0, test_reccnt:59\n",
      "carno:23, totallen:200, nancount:0, test_reccnt:59\n",
      "carno:24, totallen:154, nancount:46, test_reccnt:36\n",
      "carno:25, totallen:200, nancount:0, test_reccnt:59\n",
      "carno:26, totallen:198, nancount:2, test_reccnt:58\n",
      "carno:27, totallen:200, nancount:0, test_reccnt:59\n",
      "carno:28, totallen:200, nancount:0, test_reccnt:59\n",
      "carno:29, totallen:200, nancount:0, test_reccnt:59\n",
      "a short ts: carid=30，len=46\n",
      "carno:32, totallen:110, nancount:90, test_reccnt:14\n",
      "a short ts: carid=33，len=46\n",
      "carno:59, totallen:198, nancount:2, test_reccnt:58\n",
      "carno:60, totallen:200, nancount:0, test_reccnt:59\n",
      "carno:64, totallen:200, nancount:0, test_reccnt:59\n",
      "carno:66, totallen:200, nancount:0, test_reccnt:59\n",
      "carno:88, totallen:200, nancount:0, test_reccnt:59\n",
      "carno:98, totallen:200, nancount:0, test_reccnt:59\n",
      "train len:0, test len:1568\n",
      "model: oracle\n",
      "predicting model=oracle, plen=2\n",
      "loading model...done!, ctx:gpu(0)\n",
      "tss len=1568, forecasts len=1568\n"
     ]
    },
    {
     "name": "stderr",
     "output_type": "stream",
     "text": [
      "INFO:root:Using GPU\n"
     ]
    },
    {
     "name": "stdout",
     "output_type": "stream",
     "text": [
      "total:59, prediction_length:2\n",
      "top1acc= 0.6271186440677966 top1acc_farmost= 0.5254237288135594 top5acc= 0.8101694915254237 top5acc_farmost= 0.7559322033898305\n",
      "tau =  0.8319663396498446 rmse =  11.834982234467914\n",
      "model: curtrack\n",
      "predicting model=curtrack, plen=2\n",
      "loading model...done!, ctx:gpu(0)\n",
      "tss len=1568, forecasts len=1568\n"
     ]
    },
    {
     "name": "stderr",
     "output_type": "stream",
     "text": [
      "INFO:root:Using GPU\n"
     ]
    },
    {
     "name": "stdout",
     "output_type": "stream",
     "text": [
      "total:59, prediction_length:2\n",
      "top1acc= 0.6186440677966102 top1acc_farmost= 0.559322033898305 top5acc= 0.8169491525423729 top5acc_farmost= 0.7627118644067796\n",
      "tau =  0.8392786550206305 rmse =  11.194426508988421\n",
      "model: zerotrack\n",
      "predicting model=zerotrack, plen=2\n",
      "loading model...done!, ctx:gpu(0)\n",
      "tss len=1568, forecasts len=1568\n"
     ]
    },
    {
     "name": "stderr",
     "output_type": "stream",
     "text": [
      "INFO:root:Using GPU\n"
     ]
    },
    {
     "name": "stdout",
     "output_type": "stream",
     "text": [
      "total:59, prediction_length:2\n",
      "top1acc= 0.5677966101694916 top1acc_farmost= 0.4406779661016949 top5acc= 0.8152542372881356 top5acc_farmost= 0.7559322033898305\n",
      "tau =  0.8378844087615633 rmse =  10.722213430080552\n",
      "==============================\n",
      "====event:Indy500, train_len=80, max_len=200, min_len=200\n",
      "carno:1, totallen:200, nancount:0, test_reccnt:59\n",
      "carno:3, totallen:146, nancount:54, test_reccnt:32\n",
      "carno:4, totallen:200, nancount:0, test_reccnt:59\n",
      "carno:6, totallen:200, nancount:0, test_reccnt:59\n",
      "carno:7, totallen:193, nancount:7, test_reccnt:55\n",
      "carno:9, totallen:200, nancount:0, test_reccnt:59\n",
      "a short ts: carid=10，len=57\n",
      "carno:12, totallen:200, nancount:0, test_reccnt:59\n",
      "a short ts: carid=13，len=67\n",
      "carno:14, totallen:187, nancount:13, test_reccnt:52\n",
      "carno:15, totallen:200, nancount:0, test_reccnt:59\n",
      "carno:17, totallen:199, nancount:1, test_reccnt:58\n",
      "carno:18, totallen:137, nancount:63, test_reccnt:27\n",
      "carno:19, totallen:199, nancount:1, test_reccnt:58\n",
      "carno:20, totallen:200, nancount:0, test_reccnt:59\n",
      "carno:21, totallen:199, nancount:1, test_reccnt:58\n",
      "carno:22, totallen:200, nancount:0, test_reccnt:59\n",
      "carno:23, totallen:200, nancount:0, test_reccnt:59\n",
      "carno:24, totallen:154, nancount:46, test_reccnt:36\n",
      "carno:25, totallen:200, nancount:0, test_reccnt:59\n",
      "carno:26, totallen:198, nancount:2, test_reccnt:58\n",
      "carno:27, totallen:200, nancount:0, test_reccnt:59\n",
      "carno:28, totallen:200, nancount:0, test_reccnt:59\n",
      "carno:29, totallen:200, nancount:0, test_reccnt:59\n",
      "a short ts: carid=30，len=46\n",
      "carno:32, totallen:110, nancount:90, test_reccnt:14\n",
      "a short ts: carid=33，len=46\n",
      "carno:59, totallen:198, nancount:2, test_reccnt:58\n",
      "carno:60, totallen:200, nancount:0, test_reccnt:59\n",
      "carno:64, totallen:200, nancount:0, test_reccnt:59\n",
      "carno:66, totallen:200, nancount:0, test_reccnt:59\n",
      "carno:88, totallen:200, nancount:0, test_reccnt:59\n",
      "carno:98, totallen:200, nancount:0, test_reccnt:59\n",
      "train len:0, test len:1568\n",
      "model: oracle\n",
      "predicting model=oracle, plen=2\n",
      "loading model...done!, ctx:gpu(0)\n",
      "tss len=1568, forecasts len=1568\n"
     ]
    },
    {
     "name": "stderr",
     "output_type": "stream",
     "text": [
      "INFO:root:Using GPU\n"
     ]
    },
    {
     "name": "stdout",
     "output_type": "stream",
     "text": [
      "total:59, prediction_length:2\n",
      "top1acc= 0.6440677966101694 top1acc_farmost= 0.576271186440678 top5acc= 0.8220338983050848 top5acc_farmost= 0.7694915254237288\n",
      "tau =  0.8246797456857495 rmse =  12.167362127745962\n",
      "model: curtrack\n",
      "predicting model=curtrack, plen=2\n",
      "loading model...done!, ctx:gpu(0)\n",
      "tss len=1568, forecasts len=1568\n"
     ]
    },
    {
     "name": "stderr",
     "output_type": "stream",
     "text": [
      "INFO:root:Using GPU\n"
     ]
    },
    {
     "name": "stdout",
     "output_type": "stream",
     "text": [
      "total:59, prediction_length:2\n",
      "top1acc= 0.5847457627118644 top1acc_farmost= 0.5254237288135594 top5acc= 0.8033898305084746 top5acc_farmost= 0.7423728813559322\n",
      "tau =  0.8167136295768802 rmse =  12.480151663991265\n",
      "model: zerotrack\n",
      "predicting model=zerotrack, plen=2\n",
      "loading model...done!, ctx:gpu(0)\n",
      "tss len=1568, forecasts len=1568\n"
     ]
    },
    {
     "name": "stderr",
     "output_type": "stream",
     "text": [
      "INFO:root:Using GPU\n"
     ]
    },
    {
     "name": "stdout",
     "output_type": "stream",
     "text": [
      "total:59, prediction_length:2\n",
      "top1acc= 0.6271186440677966 top1acc_farmost= 0.559322033898305 top5acc= 0.8220338983050848 top5acc_farmost= 0.7661016949152543\n",
      "tau =  0.8349861914916568 rmse =  10.913269026224455\n",
      "==============================\n",
      "====event:Indy500, train_len=80, max_len=200, min_len=200\n",
      "carno:1, totallen:200, nancount:0, test_reccnt:23\n",
      "carno:3, totallen:146, nancount:54, test_reccnt:12\n",
      "carno:4, totallen:200, nancount:0, test_reccnt:23\n",
      "carno:6, totallen:200, nancount:0, test_reccnt:23\n",
      "carno:7, totallen:193, nancount:7, test_reccnt:21\n",
      "carno:9, totallen:200, nancount:0, test_reccnt:23\n",
      "a short ts: carid=10，len=57\n",
      "carno:12, totallen:200, nancount:0, test_reccnt:23\n",
      "a short ts: carid=13，len=67\n",
      "carno:14, totallen:187, nancount:13, test_reccnt:20\n",
      "carno:15, totallen:200, nancount:0, test_reccnt:23\n",
      "carno:17, totallen:199, nancount:1, test_reccnt:22\n",
      "carno:18, totallen:137, nancount:63, test_reccnt:10\n",
      "carno:19, totallen:199, nancount:1, test_reccnt:22\n",
      "carno:20, totallen:200, nancount:0, test_reccnt:23\n",
      "carno:21, totallen:199, nancount:1, test_reccnt:22\n",
      "carno:22, totallen:200, nancount:0, test_reccnt:23\n",
      "carno:23, totallen:200, nancount:0, test_reccnt:23\n",
      "carno:24, totallen:154, nancount:46, test_reccnt:13\n",
      "carno:25, totallen:200, nancount:0, test_reccnt:23\n",
      "carno:26, totallen:198, nancount:2, test_reccnt:22\n",
      "carno:27, totallen:200, nancount:0, test_reccnt:23\n",
      "carno:28, totallen:200, nancount:0, test_reccnt:23\n",
      "carno:29, totallen:200, nancount:0, test_reccnt:23\n",
      "a short ts: carid=30，len=46\n",
      "carno:32, totallen:110, nancount:90, test_reccnt:5\n",
      "a short ts: carid=33，len=46\n",
      "carno:59, totallen:198, nancount:2, test_reccnt:22\n",
      "carno:60, totallen:200, nancount:0, test_reccnt:23\n",
      "carno:64, totallen:200, nancount:0, test_reccnt:23\n",
      "carno:66, totallen:200, nancount:0, test_reccnt:23\n",
      "carno:88, totallen:200, nancount:0, test_reccnt:23\n",
      "carno:98, totallen:200, nancount:0, test_reccnt:23\n",
      "train len:0, test len:605\n",
      "model: oracle\n",
      "predicting model=oracle, plen=5\n",
      "loading model...done!, ctx:gpu(0)\n",
      "tss len=605, forecasts len=605\n"
     ]
    },
    {
     "name": "stderr",
     "output_type": "stream",
     "text": [
      "INFO:root:Using GPU\n"
     ]
    },
    {
     "name": "stdout",
     "output_type": "stream",
     "text": [
      "total:23, prediction_length:5\n",
      "top1acc= 0.4434782608695652 top1acc_farmost= 0.30434782608695654 top5acc= 0.6469565217391304 top5acc_farmost= 0.5391304347826087\n",
      "tau =  0.6845417119398646 rmse =  26.27530423003182\n",
      "model: curtrack\n",
      "predicting model=curtrack, plen=5\n",
      "loading model...done!, ctx:gpu(0)\n",
      "tss len=605, forecasts len=605\n"
     ]
    },
    {
     "name": "stderr",
     "output_type": "stream",
     "text": [
      "INFO:root:Using GPU\n"
     ]
    },
    {
     "name": "stdout",
     "output_type": "stream",
     "text": [
      "total:23, prediction_length:5\n",
      "top1acc= 0.5739130434782609 top1acc_farmost= 0.43478260869565216 top5acc= 0.6313043478260869 top5acc_farmost= 0.5130434782608696\n",
      "tau =  0.6865827247619892 rmse =  25.68845951982866\n",
      "model: zerotrack\n",
      "predicting model=zerotrack, plen=5\n",
      "loading model...done!, ctx:gpu(0)\n",
      "tss len=605, forecasts len=605\n"
     ]
    },
    {
     "name": "stderr",
     "output_type": "stream",
     "text": [
      "INFO:root:Using GPU\n"
     ]
    },
    {
     "name": "stdout",
     "output_type": "stream",
     "text": [
      "total:23, prediction_length:5\n",
      "top1acc= 0.4434782608695652 top1acc_farmost= 0.30434782608695654 top5acc= 0.6052173913043478 top5acc_farmost= 0.48695652173913045\n",
      "tau =  0.6418913978179323 rmse =  29.62938094752592\n",
      "==============================\n",
      "====event:Indy500, train_len=80, max_len=200, min_len=200\n",
      "carno:1, totallen:200, nancount:0, test_reccnt:23\n",
      "carno:3, totallen:146, nancount:54, test_reccnt:12\n",
      "carno:4, totallen:200, nancount:0, test_reccnt:23\n",
      "carno:6, totallen:200, nancount:0, test_reccnt:23\n",
      "carno:7, totallen:193, nancount:7, test_reccnt:21\n",
      "carno:9, totallen:200, nancount:0, test_reccnt:23\n",
      "a short ts: carid=10，len=57\n",
      "carno:12, totallen:200, nancount:0, test_reccnt:23\n",
      "a short ts: carid=13，len=67\n",
      "carno:14, totallen:187, nancount:13, test_reccnt:20\n",
      "carno:15, totallen:200, nancount:0, test_reccnt:23\n",
      "carno:17, totallen:199, nancount:1, test_reccnt:22\n",
      "carno:18, totallen:137, nancount:63, test_reccnt:10\n",
      "carno:19, totallen:199, nancount:1, test_reccnt:22\n",
      "carno:20, totallen:200, nancount:0, test_reccnt:23\n",
      "carno:21, totallen:199, nancount:1, test_reccnt:22\n",
      "carno:22, totallen:200, nancount:0, test_reccnt:23\n",
      "carno:23, totallen:200, nancount:0, test_reccnt:23\n",
      "carno:24, totallen:154, nancount:46, test_reccnt:13\n",
      "carno:25, totallen:200, nancount:0, test_reccnt:23\n",
      "carno:26, totallen:198, nancount:2, test_reccnt:22\n",
      "carno:27, totallen:200, nancount:0, test_reccnt:23\n",
      "carno:28, totallen:200, nancount:0, test_reccnt:23\n",
      "carno:29, totallen:200, nancount:0, test_reccnt:23\n",
      "a short ts: carid=30，len=46\n",
      "carno:32, totallen:110, nancount:90, test_reccnt:5\n",
      "a short ts: carid=33，len=46\n",
      "carno:59, totallen:198, nancount:2, test_reccnt:22\n",
      "carno:60, totallen:200, nancount:0, test_reccnt:23\n",
      "carno:64, totallen:200, nancount:0, test_reccnt:23\n",
      "carno:66, totallen:200, nancount:0, test_reccnt:23\n",
      "carno:88, totallen:200, nancount:0, test_reccnt:23\n",
      "carno:98, totallen:200, nancount:0, test_reccnt:23\n",
      "train len:0, test len:605\n",
      "model: oracle\n",
      "predicting model=oracle, plen=5\n",
      "loading model...done!, ctx:gpu(0)\n",
      "tss len=605, forecasts len=605\n"
     ]
    },
    {
     "name": "stderr",
     "output_type": "stream",
     "text": [
      "INFO:root:Using GPU\n"
     ]
    },
    {
     "name": "stdout",
     "output_type": "stream",
     "text": [
      "total:23, prediction_length:5\n",
      "top1acc= 0.4434782608695652 top1acc_farmost= 0.391304347826087 top5acc= 0.6347826086956522 top5acc_farmost= 0.5304347826086957\n",
      "tau =  0.6906282824383307 rmse =  24.955858279916693\n",
      "model: curtrack\n",
      "predicting model=curtrack, plen=5\n",
      "loading model...done!, ctx:gpu(0)\n",
      "tss len=605, forecasts len=605\n"
     ]
    },
    {
     "name": "stderr",
     "output_type": "stream",
     "text": [
      "INFO:root:Using GPU\n"
     ]
    },
    {
     "name": "stdout",
     "output_type": "stream",
     "text": [
      "total:23, prediction_length:5\n",
      "top1acc= 0.45217391304347826 top1acc_farmost= 0.34782608695652173 top5acc= 0.6591304347826087 top5acc_farmost= 0.5391304347826087\n",
      "tau =  0.6930470481406958 rmse =  24.873044342881382\n",
      "model: zerotrack\n",
      "predicting model=zerotrack, plen=5\n",
      "loading model...done!, ctx:gpu(0)\n",
      "tss len=605, forecasts len=605\n"
     ]
    },
    {
     "name": "stderr",
     "output_type": "stream",
     "text": [
      "INFO:root:Using GPU\n"
     ]
    },
    {
     "name": "stdout",
     "output_type": "stream",
     "text": [
      "total:23, prediction_length:5\n",
      "top1acc= 0.4260869565217391 top1acc_farmost= 0.2608695652173913 top5acc= 0.5965217391304348 top5acc_farmost= 0.46956521739130436\n",
      "tau =  0.6459949895625491 rmse =  29.299319271085913\n",
      "==============================\n",
      "====event:Indy500, train_len=80, max_len=200, min_len=200\n",
      "carno:1, totallen:200, nancount:0, test_reccnt:23\n",
      "carno:3, totallen:146, nancount:54, test_reccnt:12\n",
      "carno:4, totallen:200, nancount:0, test_reccnt:23\n",
      "carno:6, totallen:200, nancount:0, test_reccnt:23\n",
      "carno:7, totallen:193, nancount:7, test_reccnt:21\n",
      "carno:9, totallen:200, nancount:0, test_reccnt:23\n",
      "a short ts: carid=10，len=57\n",
      "carno:12, totallen:200, nancount:0, test_reccnt:23\n",
      "a short ts: carid=13，len=67\n",
      "carno:14, totallen:187, nancount:13, test_reccnt:20\n",
      "carno:15, totallen:200, nancount:0, test_reccnt:23\n",
      "carno:17, totallen:199, nancount:1, test_reccnt:22\n",
      "carno:18, totallen:137, nancount:63, test_reccnt:10\n",
      "carno:19, totallen:199, nancount:1, test_reccnt:22\n",
      "carno:20, totallen:200, nancount:0, test_reccnt:23\n",
      "carno:21, totallen:199, nancount:1, test_reccnt:22\n",
      "carno:22, totallen:200, nancount:0, test_reccnt:23\n",
      "carno:23, totallen:200, nancount:0, test_reccnt:23\n",
      "carno:24, totallen:154, nancount:46, test_reccnt:13\n",
      "carno:25, totallen:200, nancount:0, test_reccnt:23\n",
      "carno:26, totallen:198, nancount:2, test_reccnt:22\n",
      "carno:27, totallen:200, nancount:0, test_reccnt:23\n",
      "carno:28, totallen:200, nancount:0, test_reccnt:23\n",
      "carno:29, totallen:200, nancount:0, test_reccnt:23\n",
      "a short ts: carid=30，len=46\n",
      "carno:32, totallen:110, nancount:90, test_reccnt:5\n",
      "a short ts: carid=33，len=46\n",
      "carno:59, totallen:198, nancount:2, test_reccnt:22\n",
      "carno:60, totallen:200, nancount:0, test_reccnt:23\n",
      "carno:64, totallen:200, nancount:0, test_reccnt:23\n",
      "carno:66, totallen:200, nancount:0, test_reccnt:23\n",
      "carno:88, totallen:200, nancount:0, test_reccnt:23\n",
      "carno:98, totallen:200, nancount:0, test_reccnt:23\n",
      "train len:0, test len:605\n",
      "model: oracle\n",
      "predicting model=oracle, plen=5\n",
      "loading model...done!, ctx:gpu(0)\n",
      "tss len=605, forecasts len=605\n"
     ]
    },
    {
     "name": "stderr",
     "output_type": "stream",
     "text": [
      "INFO:root:Using GPU\n"
     ]
    },
    {
     "name": "stdout",
     "output_type": "stream",
     "text": [
      "total:23, prediction_length:5\n",
      "top1acc= 0.41739130434782606 top1acc_farmost= 0.30434782608695654 top5acc= 0.6330434782608696 top5acc_farmost= 0.48695652173913045\n",
      "tau =  0.6754001718350005 rmse =  26.89568164603795\n",
      "model: curtrack\n",
      "predicting model=curtrack, plen=5\n",
      "loading model...done!, ctx:gpu(0)\n",
      "tss len=605, forecasts len=605\n"
     ]
    },
    {
     "name": "stderr",
     "output_type": "stream",
     "text": [
      "INFO:root:Using GPU\n"
     ]
    },
    {
     "name": "stdout",
     "output_type": "stream",
     "text": [
      "total:23, prediction_length:5\n",
      "top1acc= 0.43478260869565216 top1acc_farmost= 0.30434782608695654 top5acc= 0.6121739130434782 top5acc_farmost= 0.46956521739130436\n",
      "tau =  0.6623198135892746 rmse =  28.062897607362373\n",
      "model: zerotrack\n",
      "predicting model=zerotrack, plen=5\n",
      "loading model...done!, ctx:gpu(0)\n",
      "tss len=605, forecasts len=605\n"
     ]
    },
    {
     "name": "stderr",
     "output_type": "stream",
     "text": [
      "INFO:root:Using GPU\n"
     ]
    },
    {
     "name": "stdout",
     "output_type": "stream",
     "text": [
      "total:23, prediction_length:5\n",
      "top1acc= 0.4 top1acc_farmost= 0.2608695652173913 top5acc= 0.6034782608695652 top5acc_farmost= 0.4608695652173913\n",
      "tau =  0.6387725430343008 rmse =  29.70444971929282\n",
      "==============================\n",
      "====event:Indy500, train_len=80, max_len=200, min_len=200\n",
      "carno:1, totallen:200, nancount:0, test_reccnt:11\n",
      "carno:3, totallen:146, nancount:54, test_reccnt:5\n",
      "carno:4, totallen:200, nancount:0, test_reccnt:11\n",
      "carno:6, totallen:200, nancount:0, test_reccnt:11\n",
      "carno:7, totallen:193, nancount:7, test_reccnt:10\n",
      "carno:9, totallen:200, nancount:0, test_reccnt:11\n",
      "a short ts: carid=10，len=57\n",
      "carno:12, totallen:200, nancount:0, test_reccnt:11\n",
      "a short ts: carid=13，len=67\n",
      "carno:14, totallen:187, nancount:13, test_reccnt:9\n",
      "carno:15, totallen:200, nancount:0, test_reccnt:11\n",
      "carno:17, totallen:199, nancount:1, test_reccnt:10\n",
      "carno:18, totallen:137, nancount:63, test_reccnt:4\n",
      "carno:19, totallen:199, nancount:1, test_reccnt:10\n",
      "carno:20, totallen:200, nancount:0, test_reccnt:11\n",
      "carno:21, totallen:199, nancount:1, test_reccnt:10\n",
      "carno:22, totallen:200, nancount:0, test_reccnt:11\n",
      "carno:23, totallen:200, nancount:0, test_reccnt:11\n",
      "carno:24, totallen:154, nancount:46, test_reccnt:6\n",
      "carno:25, totallen:200, nancount:0, test_reccnt:11\n",
      "carno:26, totallen:198, nancount:2, test_reccnt:10\n",
      "carno:27, totallen:200, nancount:0, test_reccnt:11\n",
      "carno:28, totallen:200, nancount:0, test_reccnt:11\n",
      "carno:29, totallen:200, nancount:0, test_reccnt:11\n",
      "a short ts: carid=30，len=46\n",
      "carno:32, totallen:110, nancount:90, test_reccnt:2\n",
      "a short ts: carid=33，len=46\n",
      "carno:59, totallen:198, nancount:2, test_reccnt:10\n",
      "carno:60, totallen:200, nancount:0, test_reccnt:11\n",
      "carno:64, totallen:200, nancount:0, test_reccnt:11\n",
      "carno:66, totallen:200, nancount:0, test_reccnt:11\n",
      "carno:88, totallen:200, nancount:0, test_reccnt:11\n",
      "carno:98, totallen:200, nancount:0, test_reccnt:11\n",
      "train len:0, test len:284\n",
      "model: oracle\n",
      "predicting model=oracle, plen=10\n",
      "loading model...done!, ctx:gpu(0)\n",
      "tss len=284, forecasts len=284\n"
     ]
    },
    {
     "name": "stderr",
     "output_type": "stream",
     "text": [
      "INFO:root:Using GPU\n"
     ]
    },
    {
     "name": "stdout",
     "output_type": "stream",
     "text": [
      "total:11, prediction_length:10\n",
      "top1acc= 0.33636363636363636 top1acc_farmost= 0.18181818181818182 top5acc= 0.5436363636363636 top5acc_farmost= 0.38181818181818183\n",
      "tau =  0.510324556349929 rmse =  40.07127274003137\n",
      "model: curtrack\n",
      "predicting model=curtrack, plen=10\n",
      "loading model...done!, ctx:gpu(0)\n",
      "tss len=284, forecasts len=284\n"
     ]
    },
    {
     "name": "stderr",
     "output_type": "stream",
     "text": [
      "INFO:root:Using GPU\n"
     ]
    },
    {
     "name": "stdout",
     "output_type": "stream",
     "text": [
      "total:11, prediction_length:10\n",
      "top1acc= 0.32727272727272727 top1acc_farmost= 0.18181818181818182 top5acc= 0.49454545454545457 top5acc_farmost= 0.34545454545454546\n",
      "tau =  0.5079781905114122 rmse =  40.69149028621443\n",
      "model: zerotrack\n",
      "predicting model=zerotrack, plen=10\n",
      "loading model...done!, ctx:gpu(0)\n",
      "tss len=284, forecasts len=284\n"
     ]
    },
    {
     "name": "stderr",
     "output_type": "stream",
     "text": [
      "INFO:root:Using GPU\n"
     ]
    },
    {
     "name": "stdout",
     "output_type": "stream",
     "text": [
      "total:11, prediction_length:10\n",
      "top1acc= 0.38181818181818183 top1acc_farmost= 0.18181818181818182 top5acc= 0.49636363636363634 top5acc_farmost= 0.34545454545454546\n",
      "tau =  0.5193201431758183 rmse =  39.77519509098819\n",
      "==============================\n",
      "====event:Indy500, train_len=80, max_len=200, min_len=200\n",
      "carno:1, totallen:200, nancount:0, test_reccnt:11\n",
      "carno:3, totallen:146, nancount:54, test_reccnt:5\n",
      "carno:4, totallen:200, nancount:0, test_reccnt:11\n",
      "carno:6, totallen:200, nancount:0, test_reccnt:11\n",
      "carno:7, totallen:193, nancount:7, test_reccnt:10\n",
      "carno:9, totallen:200, nancount:0, test_reccnt:11\n",
      "a short ts: carid=10，len=57\n",
      "carno:12, totallen:200, nancount:0, test_reccnt:11\n",
      "a short ts: carid=13，len=67\n",
      "carno:14, totallen:187, nancount:13, test_reccnt:9\n",
      "carno:15, totallen:200, nancount:0, test_reccnt:11\n",
      "carno:17, totallen:199, nancount:1, test_reccnt:10\n",
      "carno:18, totallen:137, nancount:63, test_reccnt:4\n",
      "carno:19, totallen:199, nancount:1, test_reccnt:10\n",
      "carno:20, totallen:200, nancount:0, test_reccnt:11\n",
      "carno:21, totallen:199, nancount:1, test_reccnt:10\n",
      "carno:22, totallen:200, nancount:0, test_reccnt:11\n",
      "carno:23, totallen:200, nancount:0, test_reccnt:11\n",
      "carno:24, totallen:154, nancount:46, test_reccnt:6\n",
      "carno:25, totallen:200, nancount:0, test_reccnt:11\n",
      "carno:26, totallen:198, nancount:2, test_reccnt:10\n",
      "carno:27, totallen:200, nancount:0, test_reccnt:11\n",
      "carno:28, totallen:200, nancount:0, test_reccnt:11\n",
      "carno:29, totallen:200, nancount:0, test_reccnt:11\n",
      "a short ts: carid=30，len=46\n",
      "carno:32, totallen:110, nancount:90, test_reccnt:2\n",
      "a short ts: carid=33，len=46\n",
      "carno:59, totallen:198, nancount:2, test_reccnt:10\n",
      "carno:60, totallen:200, nancount:0, test_reccnt:11\n",
      "carno:64, totallen:200, nancount:0, test_reccnt:11\n",
      "carno:66, totallen:200, nancount:0, test_reccnt:11\n",
      "carno:88, totallen:200, nancount:0, test_reccnt:11\n",
      "carno:98, totallen:200, nancount:0, test_reccnt:11\n",
      "train len:0, test len:284\n",
      "model: oracle\n",
      "predicting model=oracle, plen=10\n",
      "loading model...done!, ctx:gpu(0)\n",
      "tss len=284, forecasts len=284\n"
     ]
    },
    {
     "name": "stderr",
     "output_type": "stream",
     "text": [
      "INFO:root:Using GPU\n"
     ]
    },
    {
     "name": "stdout",
     "output_type": "stream",
     "text": [
      "total:11, prediction_length:10\n",
      "top1acc= 0.3090909090909091 top1acc_farmost= 0.18181818181818182 top5acc= 0.54 top5acc_farmost= 0.36363636363636365\n",
      "tau =  0.5315226039510721 rmse =  39.305639258570295\n",
      "model: curtrack\n",
      "predicting model=curtrack, plen=10\n",
      "loading model...done!, ctx:gpu(0)\n",
      "tss len=284, forecasts len=284\n"
     ]
    },
    {
     "name": "stderr",
     "output_type": "stream",
     "text": [
      "INFO:root:Using GPU\n"
     ]
    },
    {
     "name": "stdout",
     "output_type": "stream",
     "text": [
      "total:11, prediction_length:10\n",
      "top1acc= 0.3181818181818182 top1acc_farmost= 0.18181818181818182 top5acc= 0.5109090909090909 top5acc_farmost= 0.3090909090909091\n",
      "tau =  0.506256296592649 rmse =  40.41246269311787\n",
      "model: zerotrack\n",
      "predicting model=zerotrack, plen=10\n",
      "loading model...done!, ctx:gpu(0)\n",
      "tss len=284, forecasts len=284\n"
     ]
    },
    {
     "name": "stderr",
     "output_type": "stream",
     "text": [
      "INFO:root:Using GPU\n"
     ]
    },
    {
     "name": "stdout",
     "output_type": "stream",
     "text": [
      "total:11, prediction_length:10\n",
      "top1acc= 0.22727272727272727 top1acc_farmost= 0.09090909090909091 top5acc= 0.4581818181818182 top5acc_farmost= 0.2909090909090909\n",
      "tau =  0.48113705851852956 rmse =  42.3027226770675\n",
      "==============================\n",
      "====event:Indy500, train_len=80, max_len=200, min_len=200\n",
      "carno:1, totallen:200, nancount:0, test_reccnt:11\n",
      "carno:3, totallen:146, nancount:54, test_reccnt:5\n",
      "carno:4, totallen:200, nancount:0, test_reccnt:11\n",
      "carno:6, totallen:200, nancount:0, test_reccnt:11\n",
      "carno:7, totallen:193, nancount:7, test_reccnt:10\n",
      "carno:9, totallen:200, nancount:0, test_reccnt:11\n",
      "a short ts: carid=10，len=57\n",
      "carno:12, totallen:200, nancount:0, test_reccnt:11\n",
      "a short ts: carid=13，len=67\n",
      "carno:14, totallen:187, nancount:13, test_reccnt:9\n",
      "carno:15, totallen:200, nancount:0, test_reccnt:11\n",
      "carno:17, totallen:199, nancount:1, test_reccnt:10\n",
      "carno:18, totallen:137, nancount:63, test_reccnt:4\n",
      "carno:19, totallen:199, nancount:1, test_reccnt:10\n",
      "carno:20, totallen:200, nancount:0, test_reccnt:11\n",
      "carno:21, totallen:199, nancount:1, test_reccnt:10\n",
      "carno:22, totallen:200, nancount:0, test_reccnt:11\n",
      "carno:23, totallen:200, nancount:0, test_reccnt:11\n",
      "carno:24, totallen:154, nancount:46, test_reccnt:6\n",
      "carno:25, totallen:200, nancount:0, test_reccnt:11\n",
      "carno:26, totallen:198, nancount:2, test_reccnt:10\n",
      "carno:27, totallen:200, nancount:0, test_reccnt:11\n",
      "carno:28, totallen:200, nancount:0, test_reccnt:11\n",
      "carno:29, totallen:200, nancount:0, test_reccnt:11\n",
      "a short ts: carid=30，len=46\n",
      "carno:32, totallen:110, nancount:90, test_reccnt:2\n",
      "a short ts: carid=33，len=46\n",
      "carno:59, totallen:198, nancount:2, test_reccnt:10\n",
      "carno:60, totallen:200, nancount:0, test_reccnt:11\n",
      "carno:64, totallen:200, nancount:0, test_reccnt:11\n",
      "carno:66, totallen:200, nancount:0, test_reccnt:11\n",
      "carno:88, totallen:200, nancount:0, test_reccnt:11\n",
      "carno:98, totallen:200, nancount:0, test_reccnt:11\n",
      "train len:0, test len:284\n",
      "model: oracle\n",
      "predicting model=oracle, plen=10\n",
      "loading model...done!, ctx:gpu(0)\n",
      "tss len=284, forecasts len=284\n"
     ]
    },
    {
     "name": "stderr",
     "output_type": "stream",
     "text": [
      "INFO:root:Using GPU\n"
     ]
    },
    {
     "name": "stdout",
     "output_type": "stream",
     "text": [
      "total:11, prediction_length:10\n",
      "top1acc= 0.43636363636363634 top1acc_farmost= 0.2727272727272727 top5acc= 0.5218181818181818 top5acc_farmost= 0.34545454545454546\n",
      "tau =  0.5039903442352072 rmse =  41.19289141765004\n",
      "model: curtrack\n",
      "predicting model=curtrack, plen=10\n",
      "loading model...done!, ctx:gpu(0)\n",
      "tss len=284, forecasts len=284\n"
     ]
    },
    {
     "name": "stderr",
     "output_type": "stream",
     "text": [
      "INFO:root:Using GPU\n"
     ]
    },
    {
     "name": "stdout",
     "output_type": "stream",
     "text": [
      "total:11, prediction_length:10\n",
      "top1acc= 0.4636363636363636 top1acc_farmost= 0.2727272727272727 top5acc= 0.5127272727272727 top5acc_farmost= 0.32727272727272727\n",
      "tau =  0.5334943921120215 rmse =  38.273803310355035\n",
      "model: zerotrack\n",
      "predicting model=zerotrack, plen=10\n",
      "loading model...done!, ctx:gpu(0)\n",
      "tss len=284, forecasts len=284\n",
      "total:11, prediction_length:10\n",
      "top1acc= 0.41818181818181815 top1acc_farmost= 0.2727272727272727 top5acc= 0.52 top5acc_farmost= 0.38181818181818183\n",
      "tau =  0.521595175227806 rmse =  38.71907717569786\n",
      "==============================\n",
      "====event:Indy500, train_len=80, max_len=200, min_len=200\n",
      "carno:1, totallen:200, nancount:0, test_reccnt:59\n",
      "carno:3, totallen:146, nancount:54, test_reccnt:32\n",
      "carno:4, totallen:200, nancount:0, test_reccnt:59\n",
      "carno:6, totallen:200, nancount:0, test_reccnt:59\n",
      "carno:7, totallen:193, nancount:7, test_reccnt:55\n",
      "carno:9, totallen:200, nancount:0, test_reccnt:59\n",
      "a short ts: carid=10，len=57\n",
      "carno:12, totallen:200, nancount:0, test_reccnt:59\n",
      "a short ts: carid=13，len=67\n",
      "carno:14, totallen:187, nancount:13, test_reccnt:52\n",
      "carno:15, totallen:200, nancount:0, test_reccnt:59\n",
      "carno:17, totallen:199, nancount:1, test_reccnt:58\n",
      "carno:18, totallen:137, nancount:63, test_reccnt:27\n",
      "carno:19, totallen:199, nancount:1, test_reccnt:58\n",
      "carno:20, totallen:200, nancount:0, test_reccnt:59\n",
      "carno:21, totallen:199, nancount:1, test_reccnt:58\n",
      "carno:22, totallen:200, nancount:0, test_reccnt:59\n",
      "carno:23, totallen:200, nancount:0, test_reccnt:59\n",
      "carno:24, totallen:154, nancount:46, test_reccnt:36\n",
      "carno:25, totallen:200, nancount:0, test_reccnt:59\n",
      "carno:26, totallen:198, nancount:2, test_reccnt:58\n",
      "carno:27, totallen:200, nancount:0, test_reccnt:59\n",
      "carno:28, totallen:200, nancount:0, test_reccnt:59\n",
      "carno:29, totallen:200, nancount:0, test_reccnt:59\n",
      "a short ts: carid=30，len=46\n",
      "carno:32, totallen:110, nancount:90, test_reccnt:14\n",
      "a short ts: carid=33，len=46\n",
      "carno:59, totallen:198, nancount:2, test_reccnt:58\n",
      "carno:60, totallen:200, nancount:0, test_reccnt:59\n",
      "carno:64, totallen:200, nancount:0, test_reccnt:59\n",
      "carno:66, totallen:200, nancount:0, test_reccnt:59\n",
      "carno:88, totallen:200, nancount:0, test_reccnt:59\n",
      "carno:98, totallen:200, nancount:0, test_reccnt:59\n",
      "train len:0, test len:1568\n"
     ]
    },
    {
     "name": "stderr",
     "output_type": "stream",
     "text": [
      "INFO:root:Using GPU\n"
     ]
    },
    {
     "name": "stdout",
     "output_type": "stream",
     "text": [
      "model: oracle\n",
      "predicting model=oracle, plen=2\n",
      "loading model...done!, ctx:gpu(0)\n",
      "tss len=1568, forecasts len=1568\n"
     ]
    },
    {
     "name": "stderr",
     "output_type": "stream",
     "text": [
      "INFO:root:Using GPU\n"
     ]
    },
    {
     "name": "stdout",
     "output_type": "stream",
     "text": [
      "total:59, prediction_length:2\n",
      "top1acc= 0.652542372881356 top1acc_farmost= 0.576271186440678 top5acc= 0.7932203389830509 top5acc_farmost= 0.7389830508474576\n",
      "tau =  0.8243519339897369 rmse =  12.43652447347858\n",
      "model: curtrack\n",
      "predicting model=curtrack, plen=2\n",
      "loading model...done!, ctx:gpu(0)\n",
      "tss len=1568, forecasts len=1568\n"
     ]
    },
    {
     "name": "stderr",
     "output_type": "stream",
     "text": [
      "INFO:root:Using GPU\n"
     ]
    },
    {
     "name": "stdout",
     "output_type": "stream",
     "text": [
      "total:59, prediction_length:2\n",
      "top1acc= 0.6440677966101694 top1acc_farmost= 0.5932203389830508 top5acc= 0.8067796610169492 top5acc_farmost= 0.7627118644067796\n",
      "tau =  0.8355020671643105 rmse =  11.607688317841038\n",
      "model: zerotrack\n",
      "predicting model=zerotrack, plen=2\n",
      "loading model...done!, ctx:gpu(0)\n",
      "tss len=1568, forecasts len=1568\n"
     ]
    },
    {
     "name": "stderr",
     "output_type": "stream",
     "text": [
      "INFO:root:Using GPU\n"
     ]
    },
    {
     "name": "stdout",
     "output_type": "stream",
     "text": [
      "total:59, prediction_length:2\n",
      "top1acc= 0.635593220338983 top1acc_farmost= 0.576271186440678 top5acc= 0.823728813559322 top5acc_farmost= 0.7627118644067796\n",
      "tau =  0.8287132467283355 rmse =  11.456703779688558\n",
      "==============================\n",
      "====event:Indy500, train_len=80, max_len=200, min_len=200\n",
      "carno:1, totallen:200, nancount:0, test_reccnt:59\n",
      "carno:3, totallen:146, nancount:54, test_reccnt:32\n",
      "carno:4, totallen:200, nancount:0, test_reccnt:59\n",
      "carno:6, totallen:200, nancount:0, test_reccnt:59\n",
      "carno:7, totallen:193, nancount:7, test_reccnt:55\n",
      "carno:9, totallen:200, nancount:0, test_reccnt:59\n",
      "a short ts: carid=10，len=57\n",
      "carno:12, totallen:200, nancount:0, test_reccnt:59\n",
      "a short ts: carid=13，len=67\n",
      "carno:14, totallen:187, nancount:13, test_reccnt:52\n",
      "carno:15, totallen:200, nancount:0, test_reccnt:59\n",
      "carno:17, totallen:199, nancount:1, test_reccnt:58\n",
      "carno:18, totallen:137, nancount:63, test_reccnt:27\n",
      "carno:19, totallen:199, nancount:1, test_reccnt:58\n",
      "carno:20, totallen:200, nancount:0, test_reccnt:59\n",
      "carno:21, totallen:199, nancount:1, test_reccnt:58\n",
      "carno:22, totallen:200, nancount:0, test_reccnt:59\n",
      "carno:23, totallen:200, nancount:0, test_reccnt:59\n",
      "carno:24, totallen:154, nancount:46, test_reccnt:36\n",
      "carno:25, totallen:200, nancount:0, test_reccnt:59\n",
      "carno:26, totallen:198, nancount:2, test_reccnt:58\n",
      "carno:27, totallen:200, nancount:0, test_reccnt:59\n",
      "carno:28, totallen:200, nancount:0, test_reccnt:59\n",
      "carno:29, totallen:200, nancount:0, test_reccnt:59\n",
      "a short ts: carid=30，len=46\n",
      "carno:32, totallen:110, nancount:90, test_reccnt:14\n",
      "a short ts: carid=33，len=46\n",
      "carno:59, totallen:198, nancount:2, test_reccnt:58\n",
      "carno:60, totallen:200, nancount:0, test_reccnt:59\n",
      "carno:64, totallen:200, nancount:0, test_reccnt:59\n",
      "carno:66, totallen:200, nancount:0, test_reccnt:59\n",
      "carno:88, totallen:200, nancount:0, test_reccnt:59\n",
      "carno:98, totallen:200, nancount:0, test_reccnt:59\n",
      "train len:0, test len:1568\n",
      "model: oracle\n",
      "predicting model=oracle, plen=2\n",
      "loading model...done!, ctx:gpu(0)\n",
      "tss len=1568, forecasts len=1568\n"
     ]
    },
    {
     "name": "stderr",
     "output_type": "stream",
     "text": [
      "INFO:root:Using GPU\n"
     ]
    },
    {
     "name": "stdout",
     "output_type": "stream",
     "text": [
      "total:59, prediction_length:2\n",
      "top1acc= 0.559322033898305 top1acc_farmost= 0.4745762711864407 top5acc= 0.8050847457627118 top5acc_farmost= 0.7491525423728813\n",
      "tau =  0.8315004846290786 rmse =  11.979004357478548\n",
      "model: curtrack\n",
      "predicting model=curtrack, plen=2\n",
      "loading model...done!, ctx:gpu(0)\n",
      "tss len=1568, forecasts len=1568\n"
     ]
    },
    {
     "name": "stderr",
     "output_type": "stream",
     "text": [
      "INFO:root:Using GPU\n"
     ]
    },
    {
     "name": "stdout",
     "output_type": "stream",
     "text": [
      "total:59, prediction_length:2\n",
      "top1acc= 0.652542372881356 top1acc_farmost= 0.559322033898305 top5acc= 0.8169491525423729 top5acc_farmost= 0.7559322033898305\n",
      "tau =  0.8362125511430594 rmse =  11.649041867799777\n",
      "model: zerotrack\n",
      "predicting model=zerotrack, plen=2\n",
      "loading model...done!, ctx:gpu(0)\n",
      "tss len=1568, forecasts len=1568\n",
      "total:59, prediction_length:2\n",
      "top1acc= 0.5677966101694916 top1acc_farmost= 0.4576271186440678 top5acc= 0.8067796610169492 top5acc_farmost= 0.7457627118644068\n",
      "tau =  0.8357522760216444 rmse =  10.853575033947815\n",
      "==============================\n",
      "====event:Indy500, train_len=80, max_len=200, min_len=200\n",
      "carno:1, totallen:200, nancount:0, test_reccnt:59\n",
      "carno:3, totallen:146, nancount:54, test_reccnt:32\n",
      "carno:4, totallen:200, nancount:0, test_reccnt:59\n",
      "carno:6, totallen:200, nancount:0, test_reccnt:59\n",
      "carno:7, totallen:193, nancount:7, test_reccnt:55\n",
      "carno:9, totallen:200, nancount:0, test_reccnt:59\n",
      "a short ts: carid=10，len=57\n",
      "carno:12, totallen:200, nancount:0, test_reccnt:59\n",
      "a short ts: carid=13，len=67\n",
      "carno:14, totallen:187, nancount:13, test_reccnt:52\n",
      "carno:15, totallen:200, nancount:0, test_reccnt:59\n",
      "carno:17, totallen:199, nancount:1, test_reccnt:58\n",
      "carno:18, totallen:137, nancount:63, test_reccnt:27\n",
      "carno:19, totallen:199, nancount:1, test_reccnt:58\n",
      "carno:20, totallen:200, nancount:0, test_reccnt:59\n",
      "carno:21, totallen:199, nancount:1, test_reccnt:58\n",
      "carno:22, totallen:200, nancount:0, test_reccnt:59\n",
      "carno:23, totallen:200, nancount:0, test_reccnt:59\n",
      "carno:24, totallen:154, nancount:46, test_reccnt:36\n",
      "carno:25, totallen:200, nancount:0, test_reccnt:59\n",
      "carno:26, totallen:198, nancount:2, test_reccnt:58\n",
      "carno:27, totallen:200, nancount:0, test_reccnt:59\n",
      "carno:28, totallen:200, nancount:0, test_reccnt:59\n",
      "carno:29, totallen:200, nancount:0, test_reccnt:59\n",
      "a short ts: carid=30，len=46\n",
      "carno:32, totallen:110, nancount:90, test_reccnt:14\n",
      "a short ts: carid=33，len=46\n",
      "carno:59, totallen:198, nancount:2, test_reccnt:58\n",
      "carno:60, totallen:200, nancount:0, test_reccnt:59\n",
      "carno:64, totallen:200, nancount:0, test_reccnt:59\n",
      "carno:66, totallen:200, nancount:0, test_reccnt:59\n",
      "carno:88, totallen:200, nancount:0, test_reccnt:59\n",
      "carno:98, totallen:200, nancount:0, test_reccnt:59\n",
      "train len:0, test len:1568\n"
     ]
    },
    {
     "name": "stderr",
     "output_type": "stream",
     "text": [
      "INFO:root:Using GPU\n"
     ]
    },
    {
     "name": "stdout",
     "output_type": "stream",
     "text": [
      "model: oracle\n",
      "predicting model=oracle, plen=2\n",
      "loading model...done!, ctx:gpu(0)\n",
      "tss len=1568, forecasts len=1568\n"
     ]
    },
    {
     "name": "stderr",
     "output_type": "stream",
     "text": [
      "INFO:root:Using GPU\n"
     ]
    },
    {
     "name": "stdout",
     "output_type": "stream",
     "text": [
      "total:59, prediction_length:2\n",
      "top1acc= 0.6440677966101694 top1acc_farmost= 0.5932203389830508 top5acc= 0.8067796610169492 top5acc_farmost= 0.7491525423728813\n",
      "tau =  0.8216594534524854 rmse =  12.511917974292382\n",
      "model: curtrack\n",
      "predicting model=curtrack, plen=2\n",
      "loading model...done!, ctx:gpu(0)\n",
      "tss len=1568, forecasts len=1568\n"
     ]
    },
    {
     "name": "stderr",
     "output_type": "stream",
     "text": [
      "INFO:root:Using GPU\n"
     ]
    },
    {
     "name": "stdout",
     "output_type": "stream",
     "text": [
      "total:59, prediction_length:2\n",
      "top1acc= 0.6101694915254238 top1acc_farmost= 0.5254237288135594 top5acc= 0.8152542372881356 top5acc_farmost= 0.752542372881356\n",
      "tau =  0.825630760791549 rmse =  11.821563708894915\n",
      "model: zerotrack\n",
      "predicting model=zerotrack, plen=2\n",
      "loading model...done!, ctx:gpu(0)\n",
      "tss len=1568, forecasts len=1568\n"
     ]
    },
    {
     "name": "stderr",
     "output_type": "stream",
     "text": [
      "INFO:root:Using GPU\n"
     ]
    },
    {
     "name": "stdout",
     "output_type": "stream",
     "text": [
      "total:59, prediction_length:2\n",
      "top1acc= 0.6016949152542372 top1acc_farmost= 0.5084745762711864 top5acc= 0.8288135593220339 top5acc_farmost= 0.7661016949152543\n",
      "tau =  0.8349730166707721 rmse =  11.161965160090842\n",
      "==============================\n",
      "====event:Indy500, train_len=80, max_len=200, min_len=200\n",
      "carno:1, totallen:200, nancount:0, test_reccnt:23\n",
      "carno:3, totallen:146, nancount:54, test_reccnt:12\n",
      "carno:4, totallen:200, nancount:0, test_reccnt:23\n",
      "carno:6, totallen:200, nancount:0, test_reccnt:23\n",
      "carno:7, totallen:193, nancount:7, test_reccnt:21\n",
      "carno:9, totallen:200, nancount:0, test_reccnt:23\n",
      "a short ts: carid=10，len=57\n",
      "carno:12, totallen:200, nancount:0, test_reccnt:23\n",
      "a short ts: carid=13，len=67\n",
      "carno:14, totallen:187, nancount:13, test_reccnt:20\n",
      "carno:15, totallen:200, nancount:0, test_reccnt:23\n",
      "carno:17, totallen:199, nancount:1, test_reccnt:22\n",
      "carno:18, totallen:137, nancount:63, test_reccnt:10\n",
      "carno:19, totallen:199, nancount:1, test_reccnt:22\n",
      "carno:20, totallen:200, nancount:0, test_reccnt:23\n",
      "carno:21, totallen:199, nancount:1, test_reccnt:22\n",
      "carno:22, totallen:200, nancount:0, test_reccnt:23\n",
      "carno:23, totallen:200, nancount:0, test_reccnt:23\n",
      "carno:24, totallen:154, nancount:46, test_reccnt:13\n",
      "carno:25, totallen:200, nancount:0, test_reccnt:23\n",
      "carno:26, totallen:198, nancount:2, test_reccnt:22\n",
      "carno:27, totallen:200, nancount:0, test_reccnt:23\n",
      "carno:28, totallen:200, nancount:0, test_reccnt:23\n",
      "carno:29, totallen:200, nancount:0, test_reccnt:23\n",
      "a short ts: carid=30，len=46\n",
      "carno:32, totallen:110, nancount:90, test_reccnt:5\n",
      "a short ts: carid=33，len=46\n",
      "carno:59, totallen:198, nancount:2, test_reccnt:22\n",
      "carno:60, totallen:200, nancount:0, test_reccnt:23\n",
      "carno:64, totallen:200, nancount:0, test_reccnt:23\n",
      "carno:66, totallen:200, nancount:0, test_reccnt:23\n",
      "carno:88, totallen:200, nancount:0, test_reccnt:23\n",
      "carno:98, totallen:200, nancount:0, test_reccnt:23\n",
      "train len:0, test len:605\n",
      "model: oracle\n",
      "predicting model=oracle, plen=5\n",
      "loading model...done!, ctx:gpu(0)\n",
      "tss len=605, forecasts len=605\n"
     ]
    },
    {
     "name": "stderr",
     "output_type": "stream",
     "text": [
      "INFO:root:Using GPU\n"
     ]
    },
    {
     "name": "stdout",
     "output_type": "stream",
     "text": [
      "total:23, prediction_length:5\n",
      "top1acc= 0.46956521739130436 top1acc_farmost= 0.34782608695652173 top5acc= 0.6695652173913044 top5acc_farmost= 0.5652173913043478\n",
      "tau =  0.6982301681595308 rmse =  24.854107624851903\n",
      "model: curtrack\n",
      "predicting model=curtrack, plen=5\n",
      "loading model...done!, ctx:gpu(0)\n",
      "tss len=605, forecasts len=605\n"
     ]
    },
    {
     "name": "stderr",
     "output_type": "stream",
     "text": [
      "INFO:root:Using GPU\n"
     ]
    },
    {
     "name": "stdout",
     "output_type": "stream",
     "text": [
      "total:23, prediction_length:5\n",
      "top1acc= 0.5391304347826087 top1acc_farmost= 0.4782608695652174 top5acc= 0.6365217391304347 top5acc_farmost= 0.5304347826086957\n",
      "tau =  0.6896302759567751 rmse =  25.473645807822844\n",
      "model: zerotrack\n",
      "predicting model=zerotrack, plen=5\n",
      "loading model...done!, ctx:gpu(0)\n",
      "tss len=605, forecasts len=605\n"
     ]
    },
    {
     "name": "stderr",
     "output_type": "stream",
     "text": [
      "INFO:root:Using GPU\n"
     ]
    },
    {
     "name": "stdout",
     "output_type": "stream",
     "text": [
      "total:23, prediction_length:5\n",
      "top1acc= 0.4260869565217391 top1acc_farmost= 0.30434782608695654 top5acc= 0.6017391304347826 top5acc_farmost= 0.4956521739130435\n",
      "tau =  0.647548246442516 rmse =  29.426006179794854\n",
      "==============================\n",
      "====event:Indy500, train_len=80, max_len=200, min_len=200\n",
      "carno:1, totallen:200, nancount:0, test_reccnt:23\n",
      "carno:3, totallen:146, nancount:54, test_reccnt:12\n",
      "carno:4, totallen:200, nancount:0, test_reccnt:23\n",
      "carno:6, totallen:200, nancount:0, test_reccnt:23\n",
      "carno:7, totallen:193, nancount:7, test_reccnt:21\n",
      "carno:9, totallen:200, nancount:0, test_reccnt:23\n",
      "a short ts: carid=10，len=57\n",
      "carno:12, totallen:200, nancount:0, test_reccnt:23\n",
      "a short ts: carid=13，len=67\n",
      "carno:14, totallen:187, nancount:13, test_reccnt:20\n",
      "carno:15, totallen:200, nancount:0, test_reccnt:23\n",
      "carno:17, totallen:199, nancount:1, test_reccnt:22\n",
      "carno:18, totallen:137, nancount:63, test_reccnt:10\n",
      "carno:19, totallen:199, nancount:1, test_reccnt:22\n",
      "carno:20, totallen:200, nancount:0, test_reccnt:23\n",
      "carno:21, totallen:199, nancount:1, test_reccnt:22\n",
      "carno:22, totallen:200, nancount:0, test_reccnt:23\n",
      "carno:23, totallen:200, nancount:0, test_reccnt:23\n",
      "carno:24, totallen:154, nancount:46, test_reccnt:13\n",
      "carno:25, totallen:200, nancount:0, test_reccnt:23\n",
      "carno:26, totallen:198, nancount:2, test_reccnt:22\n",
      "carno:27, totallen:200, nancount:0, test_reccnt:23\n",
      "carno:28, totallen:200, nancount:0, test_reccnt:23\n",
      "carno:29, totallen:200, nancount:0, test_reccnt:23\n",
      "a short ts: carid=30，len=46\n",
      "carno:32, totallen:110, nancount:90, test_reccnt:5\n",
      "a short ts: carid=33，len=46\n",
      "carno:59, totallen:198, nancount:2, test_reccnt:22\n",
      "carno:60, totallen:200, nancount:0, test_reccnt:23\n",
      "carno:64, totallen:200, nancount:0, test_reccnt:23\n",
      "carno:66, totallen:200, nancount:0, test_reccnt:23\n",
      "carno:88, totallen:200, nancount:0, test_reccnt:23\n",
      "carno:98, totallen:200, nancount:0, test_reccnt:23\n",
      "train len:0, test len:605\n",
      "model: oracle\n",
      "predicting model=oracle, plen=5\n",
      "loading model...done!, ctx:gpu(0)\n",
      "tss len=605, forecasts len=605\n"
     ]
    },
    {
     "name": "stderr",
     "output_type": "stream",
     "text": [
      "INFO:root:Using GPU\n"
     ]
    },
    {
     "name": "stdout",
     "output_type": "stream",
     "text": [
      "total:23, prediction_length:5\n",
      "top1acc= 0.40869565217391307 top1acc_farmost= 0.30434782608695654 top5acc= 0.6191304347826087 top5acc_farmost= 0.5043478260869565\n",
      "tau =  0.6802788337806992 rmse =  26.041875392239643\n",
      "model: curtrack\n",
      "predicting model=curtrack, plen=5\n",
      "loading model...done!, ctx:gpu(0)\n",
      "tss len=605, forecasts len=605\n"
     ]
    },
    {
     "name": "stderr",
     "output_type": "stream",
     "text": [
      "INFO:root:Using GPU\n"
     ]
    },
    {
     "name": "stdout",
     "output_type": "stream",
     "text": [
      "total:23, prediction_length:5\n",
      "top1acc= 0.4 top1acc_farmost= 0.30434782608695654 top5acc= 0.6347826086956522 top5acc_farmost= 0.5130434782608696\n",
      "tau =  0.6803620854006602 rmse =  26.168517538066972\n",
      "model: zerotrack\n",
      "predicting model=zerotrack, plen=5\n",
      "loading model...done!, ctx:gpu(0)\n",
      "tss len=605, forecasts len=605\n"
     ]
    },
    {
     "name": "stderr",
     "output_type": "stream",
     "text": [
      "INFO:root:Using GPU\n"
     ]
    },
    {
     "name": "stdout",
     "output_type": "stream",
     "text": [
      "total:23, prediction_length:5\n",
      "top1acc= 0.43478260869565216 top1acc_farmost= 0.30434782608695654 top5acc= 0.6104347826086957 top5acc_farmost= 0.46956521739130436\n",
      "tau =  0.6469932465890487 rmse =  28.83116135705041\n",
      "==============================\n",
      "====event:Indy500, train_len=80, max_len=200, min_len=200\n",
      "carno:1, totallen:200, nancount:0, test_reccnt:23\n",
      "carno:3, totallen:146, nancount:54, test_reccnt:12\n",
      "carno:4, totallen:200, nancount:0, test_reccnt:23\n",
      "carno:6, totallen:200, nancount:0, test_reccnt:23\n",
      "carno:7, totallen:193, nancount:7, test_reccnt:21\n",
      "carno:9, totallen:200, nancount:0, test_reccnt:23\n",
      "a short ts: carid=10，len=57\n",
      "carno:12, totallen:200, nancount:0, test_reccnt:23\n",
      "a short ts: carid=13，len=67\n",
      "carno:14, totallen:187, nancount:13, test_reccnt:20\n",
      "carno:15, totallen:200, nancount:0, test_reccnt:23\n",
      "carno:17, totallen:199, nancount:1, test_reccnt:22\n",
      "carno:18, totallen:137, nancount:63, test_reccnt:10\n",
      "carno:19, totallen:199, nancount:1, test_reccnt:22\n",
      "carno:20, totallen:200, nancount:0, test_reccnt:23\n",
      "carno:21, totallen:199, nancount:1, test_reccnt:22\n",
      "carno:22, totallen:200, nancount:0, test_reccnt:23\n",
      "carno:23, totallen:200, nancount:0, test_reccnt:23\n",
      "carno:24, totallen:154, nancount:46, test_reccnt:13\n",
      "carno:25, totallen:200, nancount:0, test_reccnt:23\n",
      "carno:26, totallen:198, nancount:2, test_reccnt:22\n",
      "carno:27, totallen:200, nancount:0, test_reccnt:23\n",
      "carno:28, totallen:200, nancount:0, test_reccnt:23\n",
      "carno:29, totallen:200, nancount:0, test_reccnt:23\n",
      "a short ts: carid=30，len=46\n",
      "carno:32, totallen:110, nancount:90, test_reccnt:5\n",
      "a short ts: carid=33，len=46\n",
      "carno:59, totallen:198, nancount:2, test_reccnt:22\n",
      "carno:60, totallen:200, nancount:0, test_reccnt:23\n",
      "carno:64, totallen:200, nancount:0, test_reccnt:23\n",
      "carno:66, totallen:200, nancount:0, test_reccnt:23\n",
      "carno:88, totallen:200, nancount:0, test_reccnt:23\n",
      "carno:98, totallen:200, nancount:0, test_reccnt:23\n",
      "train len:0, test len:605\n",
      "model: oracle\n",
      "predicting model=oracle, plen=5\n",
      "loading model...done!, ctx:gpu(0)\n",
      "tss len=605, forecasts len=605\n"
     ]
    },
    {
     "name": "stderr",
     "output_type": "stream",
     "text": [
      "INFO:root:Using GPU\n"
     ]
    },
    {
     "name": "stdout",
     "output_type": "stream",
     "text": [
      "total:23, prediction_length:5\n",
      "top1acc= 0.43478260869565216 top1acc_farmost= 0.34782608695652173 top5acc= 0.6278260869565218 top5acc_farmost= 0.48695652173913045\n",
      "tau =  0.6685274052558078 rmse =  27.51910159078766\n",
      "model: curtrack\n",
      "predicting model=curtrack, plen=5\n",
      "loading model...done!, ctx:gpu(0)\n",
      "tss len=605, forecasts len=605\n"
     ]
    },
    {
     "name": "stderr",
     "output_type": "stream",
     "text": [
      "INFO:root:Using GPU\n"
     ]
    },
    {
     "name": "stdout",
     "output_type": "stream",
     "text": [
      "total:23, prediction_length:5\n",
      "top1acc= 0.45217391304347826 top1acc_farmost= 0.30434782608695654 top5acc= 0.6034782608695652 top5acc_farmost= 0.4434782608695652\n",
      "tau =  0.6586731570427764 rmse =  28.452410593662663\n",
      "model: zerotrack\n",
      "predicting model=zerotrack, plen=5\n",
      "loading model...done!, ctx:gpu(0)\n",
      "tss len=605, forecasts len=605\n"
     ]
    },
    {
     "name": "stderr",
     "output_type": "stream",
     "text": [
      "INFO:root:Using GPU\n"
     ]
    },
    {
     "name": "stdout",
     "output_type": "stream",
     "text": [
      "total:23, prediction_length:5\n",
      "top1acc= 0.45217391304347826 top1acc_farmost= 0.34782608695652173 top5acc= 0.6226086956521739 top5acc_farmost= 0.4608695652173913\n",
      "tau =  0.6417771435358233 rmse =  29.731629566116236\n",
      "==============================\n",
      "====event:Indy500, train_len=80, max_len=200, min_len=200\n",
      "carno:1, totallen:200, nancount:0, test_reccnt:11\n",
      "carno:3, totallen:146, nancount:54, test_reccnt:5\n",
      "carno:4, totallen:200, nancount:0, test_reccnt:11\n",
      "carno:6, totallen:200, nancount:0, test_reccnt:11\n",
      "carno:7, totallen:193, nancount:7, test_reccnt:10\n",
      "carno:9, totallen:200, nancount:0, test_reccnt:11\n",
      "a short ts: carid=10，len=57\n",
      "carno:12, totallen:200, nancount:0, test_reccnt:11\n",
      "a short ts: carid=13，len=67\n",
      "carno:14, totallen:187, nancount:13, test_reccnt:9\n",
      "carno:15, totallen:200, nancount:0, test_reccnt:11\n",
      "carno:17, totallen:199, nancount:1, test_reccnt:10\n",
      "carno:18, totallen:137, nancount:63, test_reccnt:4\n",
      "carno:19, totallen:199, nancount:1, test_reccnt:10\n",
      "carno:20, totallen:200, nancount:0, test_reccnt:11\n",
      "carno:21, totallen:199, nancount:1, test_reccnt:10\n",
      "carno:22, totallen:200, nancount:0, test_reccnt:11\n",
      "carno:23, totallen:200, nancount:0, test_reccnt:11\n",
      "carno:24, totallen:154, nancount:46, test_reccnt:6\n",
      "carno:25, totallen:200, nancount:0, test_reccnt:11\n",
      "carno:26, totallen:198, nancount:2, test_reccnt:10\n",
      "carno:27, totallen:200, nancount:0, test_reccnt:11\n",
      "carno:28, totallen:200, nancount:0, test_reccnt:11\n",
      "carno:29, totallen:200, nancount:0, test_reccnt:11\n",
      "a short ts: carid=30，len=46\n",
      "carno:32, totallen:110, nancount:90, test_reccnt:2\n",
      "a short ts: carid=33，len=46\n",
      "carno:59, totallen:198, nancount:2, test_reccnt:10\n",
      "carno:60, totallen:200, nancount:0, test_reccnt:11\n",
      "carno:64, totallen:200, nancount:0, test_reccnt:11\n",
      "carno:66, totallen:200, nancount:0, test_reccnt:11\n",
      "carno:88, totallen:200, nancount:0, test_reccnt:11\n",
      "carno:98, totallen:200, nancount:0, test_reccnt:11\n",
      "train len:0, test len:284\n",
      "model: oracle\n",
      "predicting model=oracle, plen=10\n",
      "loading model...done!, ctx:gpu(0)\n",
      "tss len=284, forecasts len=284\n"
     ]
    },
    {
     "name": "stderr",
     "output_type": "stream",
     "text": [
      "INFO:root:Using GPU\n"
     ]
    },
    {
     "name": "stdout",
     "output_type": "stream",
     "text": [
      "total:11, prediction_length:10\n",
      "top1acc= 0.39090909090909093 top1acc_farmost= 0.2727272727272727 top5acc= 0.5654545454545454 top5acc_farmost= 0.45454545454545453\n",
      "tau =  0.5321914897673166 rmse =  38.44750030174168\n",
      "model: curtrack\n",
      "predicting model=curtrack, plen=10\n",
      "loading model...done!, ctx:gpu(0)\n",
      "tss len=284, forecasts len=284\n"
     ]
    },
    {
     "name": "stderr",
     "output_type": "stream",
     "text": [
      "INFO:root:Using GPU\n"
     ]
    },
    {
     "name": "stdout",
     "output_type": "stream",
     "text": [
      "total:11, prediction_length:10\n",
      "top1acc= 0.3181818181818182 top1acc_farmost= 0.18181818181818182 top5acc= 0.5218181818181818 top5acc_farmost= 0.36363636363636365\n",
      "tau =  0.4966280098238736 rmse =  41.810617429824326\n",
      "model: zerotrack\n",
      "predicting model=zerotrack, plen=10\n",
      "loading model...done!, ctx:gpu(0)\n",
      "tss len=284, forecasts len=284\n"
     ]
    },
    {
     "name": "stderr",
     "output_type": "stream",
     "text": [
      "INFO:root:Using GPU\n"
     ]
    },
    {
     "name": "stdout",
     "output_type": "stream",
     "text": [
      "total:11, prediction_length:10\n",
      "top1acc= 0.2727272727272727 top1acc_farmost= 0.09090909090909091 top5acc= 0.5109090909090909 top5acc_farmost= 0.36363636363636365\n",
      "tau =  0.5187385931073822 rmse =  40.741350533247086\n",
      "==============================\n",
      "====event:Indy500, train_len=80, max_len=200, min_len=200\n",
      "carno:1, totallen:200, nancount:0, test_reccnt:11\n",
      "carno:3, totallen:146, nancount:54, test_reccnt:5\n",
      "carno:4, totallen:200, nancount:0, test_reccnt:11\n",
      "carno:6, totallen:200, nancount:0, test_reccnt:11\n",
      "carno:7, totallen:193, nancount:7, test_reccnt:10\n",
      "carno:9, totallen:200, nancount:0, test_reccnt:11\n",
      "a short ts: carid=10，len=57\n",
      "carno:12, totallen:200, nancount:0, test_reccnt:11\n",
      "a short ts: carid=13，len=67\n",
      "carno:14, totallen:187, nancount:13, test_reccnt:9\n",
      "carno:15, totallen:200, nancount:0, test_reccnt:11\n",
      "carno:17, totallen:199, nancount:1, test_reccnt:10\n",
      "carno:18, totallen:137, nancount:63, test_reccnt:4\n",
      "carno:19, totallen:199, nancount:1, test_reccnt:10\n",
      "carno:20, totallen:200, nancount:0, test_reccnt:11\n",
      "carno:21, totallen:199, nancount:1, test_reccnt:10\n",
      "carno:22, totallen:200, nancount:0, test_reccnt:11\n",
      "carno:23, totallen:200, nancount:0, test_reccnt:11\n",
      "carno:24, totallen:154, nancount:46, test_reccnt:6\n",
      "carno:25, totallen:200, nancount:0, test_reccnt:11\n",
      "carno:26, totallen:198, nancount:2, test_reccnt:10\n",
      "carno:27, totallen:200, nancount:0, test_reccnt:11\n",
      "carno:28, totallen:200, nancount:0, test_reccnt:11\n",
      "carno:29, totallen:200, nancount:0, test_reccnt:11\n",
      "a short ts: carid=30，len=46\n",
      "carno:32, totallen:110, nancount:90, test_reccnt:2\n",
      "a short ts: carid=33，len=46\n",
      "carno:59, totallen:198, nancount:2, test_reccnt:10\n",
      "carno:60, totallen:200, nancount:0, test_reccnt:11\n",
      "carno:64, totallen:200, nancount:0, test_reccnt:11\n",
      "carno:66, totallen:200, nancount:0, test_reccnt:11\n",
      "carno:88, totallen:200, nancount:0, test_reccnt:11\n",
      "carno:98, totallen:200, nancount:0, test_reccnt:11\n",
      "train len:0, test len:284\n",
      "model: oracle\n",
      "predicting model=oracle, plen=10\n",
      "loading model...done!, ctx:gpu(0)\n",
      "tss len=284, forecasts len=284\n"
     ]
    },
    {
     "name": "stderr",
     "output_type": "stream",
     "text": [
      "INFO:root:Using GPU\n"
     ]
    },
    {
     "name": "stdout",
     "output_type": "stream",
     "text": [
      "total:11, prediction_length:10\n",
      "top1acc= 0.3090909090909091 top1acc_farmost= 0.18181818181818182 top5acc= 0.5072727272727273 top5acc_farmost= 0.2909090909090909\n",
      "tau =  0.4960272861414585 rmse =  41.577702256874666\n",
      "model: curtrack\n",
      "predicting model=curtrack, plen=10\n",
      "loading model...done!, ctx:gpu(0)\n",
      "tss len=284, forecasts len=284\n"
     ]
    },
    {
     "name": "stderr",
     "output_type": "stream",
     "text": [
      "INFO:root:Using GPU\n"
     ]
    },
    {
     "name": "stdout",
     "output_type": "stream",
     "text": [
      "total:11, prediction_length:10\n",
      "top1acc= 0.3 top1acc_farmost= 0.18181818181818182 top5acc= 0.5072727272727273 top5acc_farmost= 0.34545454545454546\n",
      "tau =  0.5213344513531303 rmse =  39.47430941982666\n",
      "model: zerotrack\n",
      "predicting model=zerotrack, plen=10\n",
      "loading model...done!, ctx:gpu(0)\n",
      "tss len=284, forecasts len=284\n"
     ]
    },
    {
     "name": "stderr",
     "output_type": "stream",
     "text": [
      "INFO:root:Using GPU\n"
     ]
    },
    {
     "name": "stdout",
     "output_type": "stream",
     "text": [
      "total:11, prediction_length:10\n",
      "top1acc= 0.2818181818181818 top1acc_farmost= 0.09090909090909091 top5acc= 0.48727272727272725 top5acc_farmost= 0.32727272727272727\n",
      "tau =  0.5078697663394638 rmse =  40.09270789363893\n",
      "==============================\n",
      "====event:Indy500, train_len=80, max_len=200, min_len=200\n",
      "carno:1, totallen:200, nancount:0, test_reccnt:11\n",
      "carno:3, totallen:146, nancount:54, test_reccnt:5\n",
      "carno:4, totallen:200, nancount:0, test_reccnt:11\n",
      "carno:6, totallen:200, nancount:0, test_reccnt:11\n",
      "carno:7, totallen:193, nancount:7, test_reccnt:10\n",
      "carno:9, totallen:200, nancount:0, test_reccnt:11\n",
      "a short ts: carid=10，len=57\n",
      "carno:12, totallen:200, nancount:0, test_reccnt:11\n",
      "a short ts: carid=13，len=67\n",
      "carno:14, totallen:187, nancount:13, test_reccnt:9\n",
      "carno:15, totallen:200, nancount:0, test_reccnt:11\n",
      "carno:17, totallen:199, nancount:1, test_reccnt:10\n",
      "carno:18, totallen:137, nancount:63, test_reccnt:4\n",
      "carno:19, totallen:199, nancount:1, test_reccnt:10\n",
      "carno:20, totallen:200, nancount:0, test_reccnt:11\n",
      "carno:21, totallen:199, nancount:1, test_reccnt:10\n",
      "carno:22, totallen:200, nancount:0, test_reccnt:11\n",
      "carno:23, totallen:200, nancount:0, test_reccnt:11\n",
      "carno:24, totallen:154, nancount:46, test_reccnt:6\n",
      "carno:25, totallen:200, nancount:0, test_reccnt:11\n",
      "carno:26, totallen:198, nancount:2, test_reccnt:10\n",
      "carno:27, totallen:200, nancount:0, test_reccnt:11\n",
      "carno:28, totallen:200, nancount:0, test_reccnt:11\n",
      "carno:29, totallen:200, nancount:0, test_reccnt:11\n",
      "a short ts: carid=30，len=46\n",
      "carno:32, totallen:110, nancount:90, test_reccnt:2\n",
      "a short ts: carid=33，len=46\n",
      "carno:59, totallen:198, nancount:2, test_reccnt:10\n",
      "carno:60, totallen:200, nancount:0, test_reccnt:11\n",
      "carno:64, totallen:200, nancount:0, test_reccnt:11\n",
      "carno:66, totallen:200, nancount:0, test_reccnt:11\n",
      "carno:88, totallen:200, nancount:0, test_reccnt:11\n",
      "carno:98, totallen:200, nancount:0, test_reccnt:11\n",
      "train len:0, test len:284\n",
      "model: oracle\n",
      "predicting model=oracle, plen=10\n",
      "loading model...done!, ctx:gpu(0)\n",
      "tss len=284, forecasts len=284\n"
     ]
    },
    {
     "name": "stderr",
     "output_type": "stream",
     "text": [
      "INFO:root:Using GPU\n"
     ]
    },
    {
     "name": "stdout",
     "output_type": "stream",
     "text": [
      "total:11, prediction_length:10\n",
      "top1acc= 0.4090909090909091 top1acc_farmost= 0.2727272727272727 top5acc= 0.54 top5acc_farmost= 0.36363636363636365\n",
      "tau =  0.5059335651632503 rmse =  40.72845548066238\n",
      "model: curtrack\n",
      "predicting model=curtrack, plen=10\n",
      "loading model...done!, ctx:gpu(0)\n",
      "tss len=284, forecasts len=284\n"
     ]
    },
    {
     "name": "stderr",
     "output_type": "stream",
     "text": [
      "INFO:root:Using GPU\n"
     ]
    },
    {
     "name": "stdout",
     "output_type": "stream",
     "text": [
      "total:11, prediction_length:10\n",
      "top1acc= 0.32727272727272727 top1acc_farmost= 0.18181818181818182 top5acc= 0.5127272727272727 top5acc_farmost= 0.2909090909090909\n",
      "tau =  0.5412192829179424 rmse =  37.61981883123263\n",
      "model: zerotrack\n",
      "predicting model=zerotrack, plen=10\n",
      "loading model...done!, ctx:gpu(0)\n",
      "tss len=284, forecasts len=284\n",
      "total:11, prediction_length:10\n",
      "top1acc= 0.34545454545454546 top1acc_farmost= 0.18181818181818182 top5acc= 0.5345454545454545 top5acc_farmost= 0.38181818181818183\n",
      "tau =  0.5255577208232382 rmse =  38.053261341468236\n"
     ]
    },
    {
     "name": "stderr",
     "output_type": "stream",
     "text": [
      "INFO:root:Using GPU\n"
     ]
    },
    {
     "name": "stdout",
     "output_type": "stream",
     "text": [
      "==============================\n",
      "====event:Indy500, train_len=80, max_len=200, min_len=200\n",
      "carno:1, totallen:200, nancount:0, test_reccnt:59\n",
      "carno:3, totallen:146, nancount:54, test_reccnt:32\n",
      "carno:4, totallen:200, nancount:0, test_reccnt:59\n",
      "carno:6, totallen:200, nancount:0, test_reccnt:59\n",
      "carno:7, totallen:193, nancount:7, test_reccnt:55\n",
      "carno:9, totallen:200, nancount:0, test_reccnt:59\n",
      "a short ts: carid=10，len=57\n",
      "carno:12, totallen:200, nancount:0, test_reccnt:59\n",
      "a short ts: carid=13，len=67\n",
      "carno:14, totallen:187, nancount:13, test_reccnt:52\n",
      "carno:15, totallen:200, nancount:0, test_reccnt:59\n",
      "carno:17, totallen:199, nancount:1, test_reccnt:58\n",
      "carno:18, totallen:137, nancount:63, test_reccnt:27\n",
      "carno:19, totallen:199, nancount:1, test_reccnt:58\n",
      "carno:20, totallen:200, nancount:0, test_reccnt:59\n",
      "carno:21, totallen:199, nancount:1, test_reccnt:58\n",
      "carno:22, totallen:200, nancount:0, test_reccnt:59\n",
      "carno:23, totallen:200, nancount:0, test_reccnt:59\n",
      "carno:24, totallen:154, nancount:46, test_reccnt:36\n",
      "carno:25, totallen:200, nancount:0, test_reccnt:59\n",
      "carno:26, totallen:198, nancount:2, test_reccnt:58\n",
      "carno:27, totallen:200, nancount:0, test_reccnt:59\n",
      "carno:28, totallen:200, nancount:0, test_reccnt:59\n",
      "carno:29, totallen:200, nancount:0, test_reccnt:59\n",
      "a short ts: carid=30，len=46\n",
      "carno:32, totallen:110, nancount:90, test_reccnt:14\n",
      "a short ts: carid=33，len=46\n",
      "carno:59, totallen:198, nancount:2, test_reccnt:58\n",
      "carno:60, totallen:200, nancount:0, test_reccnt:59\n",
      "carno:64, totallen:200, nancount:0, test_reccnt:59\n",
      "carno:66, totallen:200, nancount:0, test_reccnt:59\n",
      "carno:88, totallen:200, nancount:0, test_reccnt:59\n",
      "carno:98, totallen:200, nancount:0, test_reccnt:59\n",
      "train len:0, test len:1568\n",
      "model: oracle\n",
      "predicting model=oracle, plen=2\n",
      "loading model...done!, ctx:gpu(0)\n",
      "tss len=1568, forecasts len=1568\n"
     ]
    },
    {
     "name": "stderr",
     "output_type": "stream",
     "text": [
      "INFO:root:Using GPU\n"
     ]
    },
    {
     "name": "stdout",
     "output_type": "stream",
     "text": [
      "total:59, prediction_length:2\n",
      "top1acc= 0.6186440677966102 top1acc_farmost= 0.5423728813559322 top5acc= 0.7898305084745763 top5acc_farmost= 0.7389830508474576\n",
      "tau =  0.8195343672096135 rmse =  12.99053421836297\n",
      "model: curtrack\n",
      "predicting model=curtrack, plen=2\n",
      "loading model...done!, ctx:gpu(0)\n",
      "tss len=1568, forecasts len=1568\n"
     ]
    },
    {
     "name": "stderr",
     "output_type": "stream",
     "text": [
      "INFO:root:Using GPU\n"
     ]
    },
    {
     "name": "stdout",
     "output_type": "stream",
     "text": [
      "total:59, prediction_length:2\n",
      "top1acc= 0.6271186440677966 top1acc_farmost= 0.559322033898305 top5acc= 0.811864406779661 top5acc_farmost= 0.7627118644067796\n",
      "tau =  0.8305836041911323 rmse =  11.888241481843876\n",
      "model: zerotrack\n",
      "predicting model=zerotrack, plen=2\n",
      "loading model...done!, ctx:gpu(0)\n",
      "tss len=1568, forecasts len=1568\n",
      "total:59, prediction_length:2\n",
      "top1acc= 0.5847457627118644 top1acc_farmost= 0.5423728813559322 top5acc= 0.8220338983050848 top5acc_farmost= 0.7694915254237288\n",
      "tau =  0.8297894715747599 rmse =  11.48494670392086\n",
      "==============================\n",
      "====event:Indy500, train_len=80, max_len=200, min_len=200\n",
      "carno:1, totallen:200, nancount:0, test_reccnt:59\n",
      "carno:3, totallen:146, nancount:54, test_reccnt:32\n",
      "carno:4, totallen:200, nancount:0, test_reccnt:59\n",
      "carno:6, totallen:200, nancount:0, test_reccnt:59\n",
      "carno:7, totallen:193, nancount:7, test_reccnt:55\n",
      "carno:9, totallen:200, nancount:0, test_reccnt:59\n",
      "a short ts: carid=10，len=57\n",
      "carno:12, totallen:200, nancount:0, test_reccnt:59\n",
      "a short ts: carid=13，len=67\n",
      "carno:14, totallen:187, nancount:13, test_reccnt:52\n",
      "carno:15, totallen:200, nancount:0, test_reccnt:59\n",
      "carno:17, totallen:199, nancount:1, test_reccnt:58\n",
      "carno:18, totallen:137, nancount:63, test_reccnt:27\n",
      "carno:19, totallen:199, nancount:1, test_reccnt:58\n",
      "carno:20, totallen:200, nancount:0, test_reccnt:59\n",
      "carno:21, totallen:199, nancount:1, test_reccnt:58\n",
      "carno:22, totallen:200, nancount:0, test_reccnt:59\n",
      "carno:23, totallen:200, nancount:0, test_reccnt:59\n",
      "carno:24, totallen:154, nancount:46, test_reccnt:36\n",
      "carno:25, totallen:200, nancount:0, test_reccnt:59\n",
      "carno:26, totallen:198, nancount:2, test_reccnt:58\n",
      "carno:27, totallen:200, nancount:0, test_reccnt:59\n",
      "carno:28, totallen:200, nancount:0, test_reccnt:59\n",
      "carno:29, totallen:200, nancount:0, test_reccnt:59\n",
      "a short ts: carid=30，len=46\n",
      "carno:32, totallen:110, nancount:90, test_reccnt:14\n",
      "a short ts: carid=33，len=46\n",
      "carno:59, totallen:198, nancount:2, test_reccnt:58\n",
      "carno:60, totallen:200, nancount:0, test_reccnt:59\n",
      "carno:64, totallen:200, nancount:0, test_reccnt:59\n",
      "carno:66, totallen:200, nancount:0, test_reccnt:59\n",
      "carno:88, totallen:200, nancount:0, test_reccnt:59\n",
      "carno:98, totallen:200, nancount:0, test_reccnt:59\n",
      "train len:0, test len:1568\n"
     ]
    },
    {
     "name": "stderr",
     "output_type": "stream",
     "text": [
      "INFO:root:Using GPU\n"
     ]
    },
    {
     "name": "stdout",
     "output_type": "stream",
     "text": [
      "model: oracle\n",
      "predicting model=oracle, plen=2\n",
      "loading model...done!, ctx:gpu(0)\n",
      "tss len=1568, forecasts len=1568\n"
     ]
    },
    {
     "name": "stderr",
     "output_type": "stream",
     "text": [
      "INFO:root:Using GPU\n"
     ]
    },
    {
     "name": "stdout",
     "output_type": "stream",
     "text": [
      "total:59, prediction_length:2\n",
      "top1acc= 0.6101694915254238 top1acc_farmost= 0.5084745762711864 top5acc= 0.8101694915254237 top5acc_farmost= 0.7491525423728813\n",
      "tau =  0.8265106874026517 rmse =  12.419972678599331\n",
      "model: curtrack\n",
      "predicting model=curtrack, plen=2\n",
      "loading model...done!, ctx:gpu(0)\n",
      "tss len=1568, forecasts len=1568\n"
     ]
    },
    {
     "name": "stderr",
     "output_type": "stream",
     "text": [
      "INFO:root:Using GPU\n"
     ]
    },
    {
     "name": "stdout",
     "output_type": "stream",
     "text": [
      "total:59, prediction_length:2\n",
      "top1acc= 0.6271186440677966 top1acc_farmost= 0.576271186440678 top5acc= 0.8271186440677966 top5acc_farmost= 0.7661016949152543\n",
      "tau =  0.837338127633863 rmse =  11.533079201122929\n",
      "model: zerotrack\n",
      "predicting model=zerotrack, plen=2\n",
      "loading model...done!, ctx:gpu(0)\n",
      "tss len=1568, forecasts len=1568\n",
      "total:59, prediction_length:2\n",
      "top1acc= 0.559322033898305 top1acc_farmost= 0.423728813559322 top5acc= 0.8101694915254237 top5acc_farmost= 0.752542372881356\n",
      "tau =  0.8342495600171373 rmse =  10.889238704564855\n",
      "==============================\n",
      "====event:Indy500, train_len=80, max_len=200, min_len=200\n",
      "carno:1, totallen:200, nancount:0, test_reccnt:59\n",
      "carno:3, totallen:146, nancount:54, test_reccnt:32\n",
      "carno:4, totallen:200, nancount:0, test_reccnt:59\n",
      "carno:6, totallen:200, nancount:0, test_reccnt:59\n",
      "carno:7, totallen:193, nancount:7, test_reccnt:55\n",
      "carno:9, totallen:200, nancount:0, test_reccnt:59\n",
      "a short ts: carid=10，len=57\n",
      "carno:12, totallen:200, nancount:0, test_reccnt:59\n",
      "a short ts: carid=13，len=67\n",
      "carno:14, totallen:187, nancount:13, test_reccnt:52\n",
      "carno:15, totallen:200, nancount:0, test_reccnt:59\n",
      "carno:17, totallen:199, nancount:1, test_reccnt:58\n",
      "carno:18, totallen:137, nancount:63, test_reccnt:27\n",
      "carno:19, totallen:199, nancount:1, test_reccnt:58\n",
      "carno:20, totallen:200, nancount:0, test_reccnt:59\n",
      "carno:21, totallen:199, nancount:1, test_reccnt:58\n",
      "carno:22, totallen:200, nancount:0, test_reccnt:59\n",
      "carno:23, totallen:200, nancount:0, test_reccnt:59\n",
      "carno:24, totallen:154, nancount:46, test_reccnt:36\n",
      "carno:25, totallen:200, nancount:0, test_reccnt:59\n",
      "carno:26, totallen:198, nancount:2, test_reccnt:58\n",
      "carno:27, totallen:200, nancount:0, test_reccnt:59\n",
      "carno:28, totallen:200, nancount:0, test_reccnt:59\n",
      "carno:29, totallen:200, nancount:0, test_reccnt:59\n",
      "a short ts: carid=30，len=46\n",
      "carno:32, totallen:110, nancount:90, test_reccnt:14\n",
      "a short ts: carid=33，len=46\n",
      "carno:59, totallen:198, nancount:2, test_reccnt:58\n",
      "carno:60, totallen:200, nancount:0, test_reccnt:59\n",
      "carno:64, totallen:200, nancount:0, test_reccnt:59\n",
      "carno:66, totallen:200, nancount:0, test_reccnt:59\n",
      "carno:88, totallen:200, nancount:0, test_reccnt:59\n",
      "carno:98, totallen:200, nancount:0, test_reccnt:59\n",
      "train len:0, test len:1568\n",
      "model:"
     ]
    },
    {
     "name": "stderr",
     "output_type": "stream",
     "text": [
      "INFO:root:Using GPU\n"
     ]
    },
    {
     "name": "stdout",
     "output_type": "stream",
     "text": [
      " oracle\n",
      "predicting model=oracle, plen=2\n",
      "loading model...done!, ctx:gpu(0)\n",
      "tss len=1568, forecasts len=1568\n"
     ]
    },
    {
     "name": "stderr",
     "output_type": "stream",
     "text": [
      "INFO:root:Using GPU\n"
     ]
    },
    {
     "name": "stdout",
     "output_type": "stream",
     "text": [
      "total:59, prediction_length:2\n",
      "top1acc= 0.6440677966101694 top1acc_farmost= 0.5932203389830508 top5acc= 0.8152542372881356 top5acc_farmost= 0.7728813559322034\n",
      "tau =  0.8244213708355316 rmse =  12.271618907956666\n",
      "model: curtrack\n",
      "predicting model=curtrack, plen=2\n",
      "loading model...done!, ctx:gpu(0)\n",
      "tss len=1568, forecasts len=1568\n"
     ]
    },
    {
     "name": "stderr",
     "output_type": "stream",
     "text": [
      "INFO:root:Using GPU\n"
     ]
    },
    {
     "name": "stdout",
     "output_type": "stream",
     "text": [
      "total:59, prediction_length:2\n",
      "top1acc= 0.6016949152542372 top1acc_farmost= 0.5084745762711864 top5acc= 0.8084745762711865 top5acc_farmost= 0.7491525423728813\n",
      "tau =  0.8182570602904504 rmse =  12.46046040637304\n",
      "model: zerotrack\n",
      "predicting model=zerotrack, plen=2\n",
      "loading model...done!, ctx:gpu(0)\n",
      "tss len=1568, forecasts len=1568\n"
     ]
    },
    {
     "name": "stderr",
     "output_type": "stream",
     "text": [
      "INFO:root:Using GPU\n"
     ]
    },
    {
     "name": "stdout",
     "output_type": "stream",
     "text": [
      "total:59, prediction_length:2\n",
      "top1acc= 0.6440677966101694 top1acc_farmost= 0.5423728813559322 top5acc= 0.8271186440677966 top5acc_farmost= 0.7728813559322034\n",
      "tau =  0.8370399896821719 rmse =  10.847547948516995\n",
      "==============================\n",
      "====event:Indy500, train_len=80, max_len=200, min_len=200\n",
      "carno:1, totallen:200, nancount:0, test_reccnt:23\n",
      "carno:3, totallen:146, nancount:54, test_reccnt:12\n",
      "carno:4, totallen:200, nancount:0, test_reccnt:23\n",
      "carno:6, totallen:200, nancount:0, test_reccnt:23\n",
      "carno:7, totallen:193, nancount:7, test_reccnt:21\n",
      "carno:9, totallen:200, nancount:0, test_reccnt:23\n",
      "a short ts: carid=10，len=57\n",
      "carno:12, totallen:200, nancount:0, test_reccnt:23\n",
      "a short ts: carid=13，len=67\n",
      "carno:14, totallen:187, nancount:13, test_reccnt:20\n",
      "carno:15, totallen:200, nancount:0, test_reccnt:23\n",
      "carno:17, totallen:199, nancount:1, test_reccnt:22\n",
      "carno:18, totallen:137, nancount:63, test_reccnt:10\n",
      "carno:19, totallen:199, nancount:1, test_reccnt:22\n",
      "carno:20, totallen:200, nancount:0, test_reccnt:23\n",
      "carno:21, totallen:199, nancount:1, test_reccnt:22\n",
      "carno:22, totallen:200, nancount:0, test_reccnt:23\n",
      "carno:23, totallen:200, nancount:0, test_reccnt:23\n",
      "carno:24, totallen:154, nancount:46, test_reccnt:13\n",
      "carno:25, totallen:200, nancount:0, test_reccnt:23\n",
      "carno:26, totallen:198, nancount:2, test_reccnt:22\n",
      "carno:27, totallen:200, nancount:0, test_reccnt:23\n",
      "carno:28, totallen:200, nancount:0, test_reccnt:23\n",
      "carno:29, totallen:200, nancount:0, test_reccnt:23\n",
      "a short ts: carid=30，len=46\n",
      "carno:32, totallen:110, nancount:90, test_reccnt:5\n",
      "a short ts: carid=33，len=46\n",
      "carno:59, totallen:198, nancount:2, test_reccnt:22\n",
      "carno:60, totallen:200, nancount:0, test_reccnt:23\n",
      "carno:64, totallen:200, nancount:0, test_reccnt:23\n",
      "carno:66, totallen:200, nancount:0, test_reccnt:23\n",
      "carno:88, totallen:200, nancount:0, test_reccnt:23\n",
      "carno:98, totallen:200, nancount:0, test_reccnt:23\n",
      "train len:0, test len:605\n",
      "model: oracle\n",
      "predicting model=oracle, plen=5\n",
      "loading model...done!, ctx:gpu(0)\n",
      "tss len=605, forecasts len=605\n"
     ]
    },
    {
     "name": "stderr",
     "output_type": "stream",
     "text": [
      "INFO:root:Using GPU\n"
     ]
    },
    {
     "name": "stdout",
     "output_type": "stream",
     "text": [
      "total:23, prediction_length:5\n",
      "top1acc= 0.5043478260869565 top1acc_farmost= 0.391304347826087 top5acc= 0.6643478260869565 top5acc_farmost= 0.5565217391304348\n",
      "tau =  0.6968936424070449 rmse =  25.056748010716202\n",
      "model: curtrack\n",
      "predicting model=curtrack, plen=5\n",
      "loading model...done!, ctx:gpu(0)\n",
      "tss len=605, forecasts len=605\n"
     ]
    },
    {
     "name": "stderr",
     "output_type": "stream",
     "text": [
      "INFO:root:Using GPU\n"
     ]
    },
    {
     "name": "stdout",
     "output_type": "stream",
     "text": [
      "total:23, prediction_length:5\n",
      "top1acc= 0.5739130434782609 top1acc_farmost= 0.4782608695652174 top5acc= 0.6417391304347826 top5acc_farmost= 0.5130434782608696\n",
      "tau =  0.692465861070661 rmse =  25.27400216953688\n",
      "model: zerotrack\n",
      "predicting model=zerotrack, plen=5\n",
      "loading model...done!, ctx:gpu(0)\n",
      "tss len=605, forecasts len=605\n"
     ]
    },
    {
     "name": "stderr",
     "output_type": "stream",
     "text": [
      "INFO:root:Using GPU\n"
     ]
    },
    {
     "name": "stdout",
     "output_type": "stream",
     "text": [
      "total:23, prediction_length:5\n",
      "top1acc= 0.4434782608695652 top1acc_farmost= 0.34782608695652173 top5acc= 0.5895652173913043 top5acc_farmost= 0.46956521739130436\n",
      "tau =  0.6513725694481762 rmse =  29.036407956238477\n",
      "==============================\n",
      "====event:Indy500, train_len=80, max_len=200, min_len=200\n",
      "carno:1, totallen:200, nancount:0, test_reccnt:23\n",
      "carno:3, totallen:146, nancount:54, test_reccnt:12\n",
      "carno:4, totallen:200, nancount:0, test_reccnt:23\n",
      "carno:6, totallen:200, nancount:0, test_reccnt:23\n",
      "carno:7, totallen:193, nancount:7, test_reccnt:21\n",
      "carno:9, totallen:200, nancount:0, test_reccnt:23\n",
      "a short ts: carid=10，len=57\n",
      "carno:12, totallen:200, nancount:0, test_reccnt:23\n",
      "a short ts: carid=13，len=67\n",
      "carno:14, totallen:187, nancount:13, test_reccnt:20\n",
      "carno:15, totallen:200, nancount:0, test_reccnt:23\n",
      "carno:17, totallen:199, nancount:1, test_reccnt:22\n",
      "carno:18, totallen:137, nancount:63, test_reccnt:10\n",
      "carno:19, totallen:199, nancount:1, test_reccnt:22\n",
      "carno:20, totallen:200, nancount:0, test_reccnt:23\n",
      "carno:21, totallen:199, nancount:1, test_reccnt:22\n",
      "carno:22, totallen:200, nancount:0, test_reccnt:23\n",
      "carno:23, totallen:200, nancount:0, test_reccnt:23\n",
      "carno:24, totallen:154, nancount:46, test_reccnt:13\n",
      "carno:25, totallen:200, nancount:0, test_reccnt:23\n",
      "carno:26, totallen:198, nancount:2, test_reccnt:22\n",
      "carno:27, totallen:200, nancount:0, test_reccnt:23\n",
      "carno:28, totallen:200, nancount:0, test_reccnt:23\n",
      "carno:29, totallen:200, nancount:0, test_reccnt:23\n",
      "a short ts: carid=30，len=46\n",
      "carno:32, totallen:110, nancount:90, test_reccnt:5\n",
      "a short ts: carid=33，len=46\n",
      "carno:59, totallen:198, nancount:2, test_reccnt:22\n",
      "carno:60, totallen:200, nancount:0, test_reccnt:23\n",
      "carno:64, totallen:200, nancount:0, test_reccnt:23\n",
      "carno:66, totallen:200, nancount:0, test_reccnt:23\n",
      "carno:88, totallen:200, nancount:0, test_reccnt:23\n",
      "carno:98, totallen:200, nancount:0, test_reccnt:23\n",
      "train len:0, test len:605\n",
      "model: oracle\n",
      "predicting model=oracle, plen=5\n",
      "loading model...done!, ctx:gpu(0)\n",
      "tss len=605, forecasts len=605\n"
     ]
    },
    {
     "name": "stderr",
     "output_type": "stream",
     "text": [
      "INFO:root:Using GPU\n"
     ]
    },
    {
     "name": "stdout",
     "output_type": "stream",
     "text": [
      "total:23, prediction_length:5\n",
      "top1acc= 0.4434782608695652 top1acc_farmost= 0.30434782608695654 top5acc= 0.6347826086956522 top5acc_farmost= 0.5043478260869565\n",
      "tau =  0.6879670585878389 rmse =  25.173883787787048\n",
      "model: curtrack\n",
      "predicting model=curtrack, plen=5\n",
      "loading model...done!, ctx:gpu(0)\n",
      "tss len=605, forecasts len=605\n"
     ]
    },
    {
     "name": "stderr",
     "output_type": "stream",
     "text": [
      "INFO:root:Using GPU\n"
     ]
    },
    {
     "name": "stdout",
     "output_type": "stream",
     "text": [
      "total:23, prediction_length:5\n",
      "top1acc= 0.4260869565217391 top1acc_farmost= 0.2608695652173913 top5acc= 0.6382608695652174 top5acc_farmost= 0.5304347826086957\n",
      "tau =  0.6855927843396303 rmse =  25.56689409613821\n",
      "model: zerotrack\n",
      "predicting model=zerotrack, plen=5\n",
      "loading model...done!, ctx:gpu(0)\n",
      "tss len=605, forecasts len=605\n"
     ]
    },
    {
     "name": "stderr",
     "output_type": "stream",
     "text": [
      "INFO:root:Using GPU\n"
     ]
    },
    {
     "name": "stdout",
     "output_type": "stream",
     "text": [
      "total:23, prediction_length:5\n",
      "top1acc= 0.4 top1acc_farmost= 0.30434782608695654 top5acc= 0.6121739130434782 top5acc_farmost= 0.4608695652173913\n",
      "tau =  0.6490689539663155 rmse =  28.916549576355845\n",
      "==============================\n",
      "====event:Indy500, train_len=80, max_len=200, min_len=200\n",
      "carno:1, totallen:200, nancount:0, test_reccnt:23\n",
      "carno:3, totallen:146, nancount:54, test_reccnt:12\n",
      "carno:4, totallen:200, nancount:0, test_reccnt:23\n",
      "carno:6, totallen:200, nancount:0, test_reccnt:23\n",
      "carno:7, totallen:193, nancount:7, test_reccnt:21\n",
      "carno:9, totallen:200, nancount:0, test_reccnt:23\n",
      "a short ts: carid=10，len=57\n",
      "carno:12, totallen:200, nancount:0, test_reccnt:23\n",
      "a short ts: carid=13，len=67\n",
      "carno:14, totallen:187, nancount:13, test_reccnt:20\n",
      "carno:15, totallen:200, nancount:0, test_reccnt:23\n",
      "carno:17, totallen:199, nancount:1, test_reccnt:22\n",
      "carno:18, totallen:137, nancount:63, test_reccnt:10\n",
      "carno:19, totallen:199, nancount:1, test_reccnt:22\n",
      "carno:20, totallen:200, nancount:0, test_reccnt:23\n",
      "carno:21, totallen:199, nancount:1, test_reccnt:22\n",
      "carno:22, totallen:200, nancount:0, test_reccnt:23\n",
      "carno:23, totallen:200, nancount:0, test_reccnt:23\n",
      "carno:24, totallen:154, nancount:46, test_reccnt:13\n",
      "carno:25, totallen:200, nancount:0, test_reccnt:23\n",
      "carno:26, totallen:198, nancount:2, test_reccnt:22\n",
      "carno:27, totallen:200, nancount:0, test_reccnt:23\n",
      "carno:28, totallen:200, nancount:0, test_reccnt:23\n",
      "carno:29, totallen:200, nancount:0, test_reccnt:23\n",
      "a short ts: carid=30，len=46\n",
      "carno:32, totallen:110, nancount:90, test_reccnt:5\n",
      "a short ts: carid=33，len=46\n",
      "carno:59, totallen:198, nancount:2, test_reccnt:22\n",
      "carno:60, totallen:200, nancount:0, test_reccnt:23\n",
      "carno:64, totallen:200, nancount:0, test_reccnt:23\n",
      "carno:66, totallen:200, nancount:0, test_reccnt:23\n",
      "carno:88, totallen:200, nancount:0, test_reccnt:23\n",
      "carno:98, totallen:200, nancount:0, test_reccnt:23\n",
      "train len:0, test len:605\n",
      "model: oracle\n",
      "predicting model=oracle, plen=5\n",
      "loading model...done!, ctx:gpu(0)\n",
      "tss len=605, forecasts len=605\n"
     ]
    },
    {
     "name": "stderr",
     "output_type": "stream",
     "text": [
      "INFO:root:Using GPU\n"
     ]
    },
    {
     "name": "stdout",
     "output_type": "stream",
     "text": [
      "total:23, prediction_length:5\n",
      "top1acc= 0.41739130434782606 top1acc_farmost= 0.30434782608695654 top5acc= 0.6382608695652174 top5acc_farmost= 0.4782608695652174\n",
      "tau =  0.6760667149636486 rmse =  26.839769126001308\n",
      "model: curtrack\n",
      "predicting model=curtrack, plen=5\n",
      "loading model...done!, ctx:gpu(0)\n",
      "tss len=605, forecasts len=605\n"
     ]
    },
    {
     "name": "stderr",
     "output_type": "stream",
     "text": [
      "INFO:root:Using GPU\n"
     ]
    },
    {
     "name": "stdout",
     "output_type": "stream",
     "text": [
      "total:23, prediction_length:5\n",
      "top1acc= 0.4434782608695652 top1acc_farmost= 0.30434782608695654 top5acc= 0.6086956521739131 top5acc_farmost= 0.4608695652173913\n",
      "tau =  0.6678013295848669 rmse =  27.351158970443112\n",
      "model: zerotrack\n",
      "predicting model=zerotrack, plen=5\n",
      "loading model...done!, ctx:gpu(0)\n",
      "tss len=605, forecasts len=605\n"
     ]
    },
    {
     "name": "stderr",
     "output_type": "stream",
     "text": [
      "INFO:root:Using GPU\n"
     ]
    },
    {
     "name": "stdout",
     "output_type": "stream",
     "text": [
      "total:23, prediction_length:5\n",
      "top1acc= 0.46956521739130436 top1acc_farmost= 0.34782608695652173 top5acc= 0.5895652173913043 top5acc_farmost= 0.4434782608695652\n",
      "tau =  0.6253112731059179 rmse =  31.176380351630197\n",
      "==============================\n",
      "====event:Indy500, train_len=80, max_len=200, min_len=200\n",
      "carno:1, totallen:200, nancount:0, test_reccnt:11\n",
      "carno:3, totallen:146, nancount:54, test_reccnt:5\n",
      "carno:4, totallen:200, nancount:0, test_reccnt:11\n",
      "carno:6, totallen:200, nancount:0, test_reccnt:11\n",
      "carno:7, totallen:193, nancount:7, test_reccnt:10\n",
      "carno:9, totallen:200, nancount:0, test_reccnt:11\n",
      "a short ts: carid=10，len=57\n",
      "carno:12, totallen:200, nancount:0, test_reccnt:11\n",
      "a short ts: carid=13，len=67\n",
      "carno:14, totallen:187, nancount:13, test_reccnt:9\n",
      "carno:15, totallen:200, nancount:0, test_reccnt:11\n",
      "carno:17, totallen:199, nancount:1, test_reccnt:10\n",
      "carno:18, totallen:137, nancount:63, test_reccnt:4\n",
      "carno:19, totallen:199, nancount:1, test_reccnt:10\n",
      "carno:20, totallen:200, nancount:0, test_reccnt:11\n",
      "carno:21, totallen:199, nancount:1, test_reccnt:10\n",
      "carno:22, totallen:200, nancount:0, test_reccnt:11\n",
      "carno:23, totallen:200, nancount:0, test_reccnt:11\n",
      "carno:24, totallen:154, nancount:46, test_reccnt:6\n",
      "carno:25, totallen:200, nancount:0, test_reccnt:11\n",
      "carno:26, totallen:198, nancount:2, test_reccnt:10\n",
      "carno:27, totallen:200, nancount:0, test_reccnt:11\n",
      "carno:28, totallen:200, nancount:0, test_reccnt:11\n",
      "carno:29, totallen:200, nancount:0, test_reccnt:11\n",
      "a short ts: carid=30，len=46\n",
      "carno:32, totallen:110, nancount:90, test_reccnt:2\n",
      "a short ts: carid=33，len=46\n",
      "carno:59, totallen:198, nancount:2, test_reccnt:10\n",
      "carno:60, totallen:200, nancount:0, test_reccnt:11\n",
      "carno:64, totallen:200, nancount:0, test_reccnt:11\n",
      "carno:66, totallen:200, nancount:0, test_reccnt:11\n",
      "carno:88, totallen:200, nancount:0, test_reccnt:11\n",
      "carno:98, totallen:200, nancount:0, test_reccnt:11\n",
      "train len:0, test len:284\n",
      "model: oracle\n",
      "predicting model=oracle, plen=10\n",
      "loading model...done!, ctx:gpu(0)\n",
      "tss len=284, forecasts len=284\n"
     ]
    },
    {
     "name": "stderr",
     "output_type": "stream",
     "text": [
      "INFO:root:Using GPU\n"
     ]
    },
    {
     "name": "stdout",
     "output_type": "stream",
     "text": [
      "total:11, prediction_length:10\n",
      "top1acc= 0.3090909090909091 top1acc_farmost= 0.18181818181818182 top5acc= 0.5418181818181819 top5acc_farmost= 0.36363636363636365\n",
      "tau =  0.516486343605146 rmse =  39.49769427890117\n",
      "model: curtrack\n",
      "predicting model=curtrack, plen=10\n",
      "loading model...done!, ctx:gpu(0)\n",
      "tss len=284, forecasts len=284\n"
     ]
    },
    {
     "name": "stderr",
     "output_type": "stream",
     "text": [
      "INFO:root:Using GPU\n"
     ]
    },
    {
     "name": "stdout",
     "output_type": "stream",
     "text": [
      "total:11, prediction_length:10\n",
      "top1acc= 0.3090909090909091 top1acc_farmost= 0.18181818181818182 top5acc= 0.5163636363636364 top5acc_farmost= 0.38181818181818183\n",
      "tau =  0.5029786158304105 rmse =  40.950160193573986\n",
      "model: zerotrack\n",
      "predicting model=zerotrack, plen=10\n",
      "loading model...done!, ctx:gpu(0)\n",
      "tss len=284, forecasts len=284\n"
     ]
    },
    {
     "name": "stderr",
     "output_type": "stream",
     "text": [
      "INFO:root:Using GPU\n"
     ]
    },
    {
     "name": "stdout",
     "output_type": "stream",
     "text": [
      "total:11, prediction_length:10\n",
      "top1acc= 0.33636363636363636 top1acc_farmost= 0.2727272727272727 top5acc= 0.5 top5acc_farmost= 0.36363636363636365\n",
      "tau =  0.515382239199754 rmse =  40.03328015917671\n",
      "==============================\n",
      "====event:Indy500, train_len=80, max_len=200, min_len=200\n",
      "carno:1, totallen:200, nancount:0, test_reccnt:11\n",
      "carno:3, totallen:146, nancount:54, test_reccnt:5\n",
      "carno:4, totallen:200, nancount:0, test_reccnt:11\n",
      "carno:6, totallen:200, nancount:0, test_reccnt:11\n",
      "carno:7, totallen:193, nancount:7, test_reccnt:10\n",
      "carno:9, totallen:200, nancount:0, test_reccnt:11\n",
      "a short ts: carid=10，len=57\n",
      "carno:12, totallen:200, nancount:0, test_reccnt:11\n",
      "a short ts: carid=13，len=67\n",
      "carno:14, totallen:187, nancount:13, test_reccnt:9\n",
      "carno:15, totallen:200, nancount:0, test_reccnt:11\n",
      "carno:17, totallen:199, nancount:1, test_reccnt:10\n",
      "carno:18, totallen:137, nancount:63, test_reccnt:4\n",
      "carno:19, totallen:199, nancount:1, test_reccnt:10\n",
      "carno:20, totallen:200, nancount:0, test_reccnt:11\n",
      "carno:21, totallen:199, nancount:1, test_reccnt:10\n",
      "carno:22, totallen:200, nancount:0, test_reccnt:11\n",
      "carno:23, totallen:200, nancount:0, test_reccnt:11\n",
      "carno:24, totallen:154, nancount:46, test_reccnt:6\n",
      "carno:25, totallen:200, nancount:0, test_reccnt:11\n",
      "carno:26, totallen:198, nancount:2, test_reccnt:10\n",
      "carno:27, totallen:200, nancount:0, test_reccnt:11\n",
      "carno:28, totallen:200, nancount:0, test_reccnt:11\n",
      "carno:29, totallen:200, nancount:0, test_reccnt:11\n",
      "a short ts: carid=30，len=46\n",
      "carno:32, totallen:110, nancount:90, test_reccnt:2\n",
      "a short ts: carid=33，len=46\n",
      "carno:59, totallen:198, nancount:2, test_reccnt:10\n",
      "carno:60, totallen:200, nancount:0, test_reccnt:11\n",
      "carno:64, totallen:200, nancount:0, test_reccnt:11\n",
      "carno:66, totallen:200, nancount:0, test_reccnt:11\n",
      "carno:88, totallen:200, nancount:0, test_reccnt:11\n",
      "carno:98, totallen:200, nancount:0, test_reccnt:11\n",
      "train len:0, test len:284\n",
      "model: oracle\n",
      "predicting model=oracle, plen=10\n",
      "loading model...done!, ctx:gpu(0)\n",
      "tss len=284, forecasts len=284\n"
     ]
    },
    {
     "name": "stderr",
     "output_type": "stream",
     "text": [
      "INFO:root:Using GPU\n"
     ]
    },
    {
     "name": "stdout",
     "output_type": "stream",
     "text": [
      "total:11, prediction_length:10\n",
      "top1acc= 0.33636363636363636 top1acc_farmost= 0.18181818181818182 top5acc= 0.49636363636363634 top5acc_farmost= 0.2727272727272727\n",
      "tau =  0.518409000875885 rmse =  40.4508521146797\n",
      "model: curtrack\n",
      "predicting model=curtrack, plen=10\n",
      "loading model...done!, ctx:gpu(0)\n",
      "tss len=284, forecasts len=284\n"
     ]
    },
    {
     "name": "stderr",
     "output_type": "stream",
     "text": [
      "INFO:root:Using GPU\n"
     ]
    },
    {
     "name": "stdout",
     "output_type": "stream",
     "text": [
      "total:11, prediction_length:10\n",
      "top1acc= 0.32727272727272727 top1acc_farmost= 0.18181818181818182 top5acc= 0.49818181818181817 top5acc_farmost= 0.3090909090909091\n",
      "tau =  0.5059309343555486 rmse =  40.49762721569618\n",
      "model: zerotrack\n",
      "predicting model=zerotrack, plen=10\n",
      "loading model...done!, ctx:gpu(0)\n",
      "tss len=284, forecasts len=284\n"
     ]
    },
    {
     "name": "stderr",
     "output_type": "stream",
     "text": [
      "INFO:root:Using GPU\n"
     ]
    },
    {
     "name": "stdout",
     "output_type": "stream",
     "text": [
      "total:11, prediction_length:10\n",
      "top1acc= 0.2545454545454545 top1acc_farmost= 0.18181818181818182 top5acc= 0.48363636363636364 top5acc_farmost= 0.32727272727272727\n",
      "tau =  0.49449145100423875 rmse =  41.857777502191304\n",
      "==============================\n",
      "====event:Indy500, train_len=80, max_len=200, min_len=200\n",
      "carno:1, totallen:200, nancount:0, test_reccnt:11\n",
      "carno:3, totallen:146, nancount:54, test_reccnt:5\n",
      "carno:4, totallen:200, nancount:0, test_reccnt:11\n",
      "carno:6, totallen:200, nancount:0, test_reccnt:11\n",
      "carno:7, totallen:193, nancount:7, test_reccnt:10\n",
      "carno:9, totallen:200, nancount:0, test_reccnt:11\n",
      "a short ts: carid=10，len=57\n",
      "carno:12, totallen:200, nancount:0, test_reccnt:11\n",
      "a short ts: carid=13，len=67\n",
      "carno:14, totallen:187, nancount:13, test_reccnt:9\n",
      "carno:15, totallen:200, nancount:0, test_reccnt:11\n",
      "carno:17, totallen:199, nancount:1, test_reccnt:10\n",
      "carno:18, totallen:137, nancount:63, test_reccnt:4\n",
      "carno:19, totallen:199, nancount:1, test_reccnt:10\n",
      "carno:20, totallen:200, nancount:0, test_reccnt:11\n",
      "carno:21, totallen:199, nancount:1, test_reccnt:10\n",
      "carno:22, totallen:200, nancount:0, test_reccnt:11\n",
      "carno:23, totallen:200, nancount:0, test_reccnt:11\n",
      "carno:24, totallen:154, nancount:46, test_reccnt:6\n",
      "carno:25, totallen:200, nancount:0, test_reccnt:11\n",
      "carno:26, totallen:198, nancount:2, test_reccnt:10\n",
      "carno:27, totallen:200, nancount:0, test_reccnt:11\n",
      "carno:28, totallen:200, nancount:0, test_reccnt:11\n",
      "carno:29, totallen:200, nancount:0, test_reccnt:11\n",
      "a short ts: carid=30，len=46\n",
      "carno:32, totallen:110, nancount:90, test_reccnt:2\n",
      "a short ts: carid=33，len=46\n",
      "carno:59, totallen:198, nancount:2, test_reccnt:10\n",
      "carno:60, totallen:200, nancount:0, test_reccnt:11\n",
      "carno:64, totallen:200, nancount:0, test_reccnt:11\n",
      "carno:66, totallen:200, nancount:0, test_reccnt:11\n",
      "carno:88, totallen:200, nancount:0, test_reccnt:11\n",
      "carno:98, totallen:200, nancount:0, test_reccnt:11\n",
      "train len:0, test len:284\n",
      "model: oracle\n",
      "predicting model=oracle, plen=10\n",
      "loading model...done!, ctx:gpu(0)\n",
      "tss len=284, forecasts len=284\n"
     ]
    },
    {
     "name": "stderr",
     "output_type": "stream",
     "text": [
      "INFO:root:Using GPU\n"
     ]
    },
    {
     "name": "stdout",
     "output_type": "stream",
     "text": [
      "total:11, prediction_length:10\n",
      "top1acc= 0.35454545454545455 top1acc_farmost= 0.18181818181818182 top5acc= 0.52 top5acc_farmost= 0.36363636363636365\n",
      "tau =  0.5024937283765841 rmse =  41.515462634428154\n",
      "model: curtrack\n",
      "predicting model=curtrack, plen=10\n",
      "loading model...done!, ctx:gpu(0)\n",
      "tss len=284, forecasts len=284\n"
     ]
    },
    {
     "name": "stderr",
     "output_type": "stream",
     "text": [
      "INFO:root:Using GPU\n"
     ]
    },
    {
     "name": "stdout",
     "output_type": "stream",
     "text": [
      "total:11, prediction_length:10\n",
      "top1acc= 0.33636363636363636 top1acc_farmost= 0.18181818181818182 top5acc= 0.5581818181818182 top5acc_farmost= 0.36363636363636365\n",
      "tau =  0.525489138909811 rmse =  39.18131677262711\n",
      "model: zerotrack\n",
      "predicting model=zerotrack, plen=10\n",
      "loading model...done!, ctx:gpu(0)\n",
      "tss len=284, forecasts len=284\n",
      "total:11, prediction_length:10\n",
      "top1acc= 0.33636363636363636 top1acc_farmost= 0.18181818181818182 top5acc= 0.5781818181818181 top5acc_farmost= 0.4\n",
      "tau =  0.535314610031243 rmse =  37.20564726588864\n"
     ]
    }
   ],
   "source": [
    "half=[True, False]\n",
    "#plens=[2,5,10,20,30]\n",
    "plens=[2,5,10]\n",
    "half=[False]\n",
    "trainids = [\"indy500-r0.2\",\"indy500-r0.4\",\"indy500\"]\n",
    "#trainids = [\"r0.5\",\"r0.6\"]\n",
    "#half=[True,False]\n",
    "#plens=[2]\n",
    "runs = 5\n",
    "\n",
    "#exp_id='median-r0.8'\n",
    "exp_id='mean-splitbyevent-predtrack'\n",
    "\n",
    "\n",
    "\n",
    "allret = []\n",
    "for runid in range(runs):\n",
    "    exp_data = []\n",
    "    exp_result = []\n",
    "    \n",
    "    for halfmode in half:\n",
    "        for plen in plens:\n",
    "            for trainid in trainids:\n",
    "                print('='*30)\n",
    "                pred_ret, test_ds, metric_ret = run_exp_predtrack(plen, halfmode, \n",
    "                                                        train_ratio=0.4,\n",
    "                                                        trainid=trainid)\n",
    "\n",
    "                #save \n",
    "                exp_data.append((pred_ret, test_ds))\n",
    "                exp_result.extend(metric_ret)\n",
    "\n",
    "    #save result\n",
    "    result = pd.DataFrame(exp_result, columns = ['model' , 'prediction_length', 'halfmode',\n",
    "                                       'trainid',\n",
    "                                       'top1acc','top1acc_farmost','top5acc',\n",
    "                                       'top5acc_farmost','tau','rmse'])\n",
    "    \n",
    "    #result['runid'] = [runid for x in range(len(result))]\n",
    "    allret.append(result)\n",
    "\n",
    "\n",
    "#final\n",
    "rowcnt = len(allret[0])\n",
    "metrics = np.empty((runs, rowcnt, 6))\n",
    "for runid, ret in enumerate(allret):\n",
    "    metrics[runid, :,:] = ret[['top1acc','top1acc_farmost','top5acc',\n",
    "                                       'top5acc_farmost','tau','rmse']].values\n",
    "    \n",
    "\n",
    "#average\n",
    "average = np.mean(metrics[:,:,:], axis=0)\n",
    "result = allret[0][['model' , 'prediction_length', 'halfmode',\n",
    "                                       'trainid',\n",
    "                               'top1acc','top1acc_farmost','top5acc',\n",
    "                                       'top5acc_farmost','tau','rmse']].values\n",
    "result[:,4:] = average\n",
    "\n",
    "dfret = pd.DataFrame(result, columns = ['model' , 'prediction_length', 'halfmode',\n",
    "                                   'trainid',\n",
    "                                   'top1acc','top1acc_farmost','top5acc',\n",
    "                                   'top5acc_farmost','tau','rmse'])\n",
    "\n",
    "dfret.to_csv(f'laptime2rank-evaluate-indy500-{exp_id}-r{runs}-result.csv')\n",
    "\n"
   ]
  },
  {
   "cell_type": "code",
   "execution_count": 43,
   "metadata": {},
   "outputs": [
    {
     "name": "stdout",
     "output_type": "stream",
     "text": [
      "==============================\n",
      "====event:Indy500, train_len=100, max_len=200, min_len=200\n",
      "carno:1, totallen:200, nancount:0, test_reccnt:49\n",
      "carno:3, totallen:146, nancount:54, test_reccnt:22\n",
      "carno:4, totallen:200, nancount:0, test_reccnt:49\n",
      "carno:6, totallen:200, nancount:0, test_reccnt:49\n",
      "carno:7, totallen:193, nancount:7, test_reccnt:45\n",
      "carno:9, totallen:200, nancount:0, test_reccnt:49\n",
      "a short ts: carid=10，len=57\n",
      "carno:12, totallen:200, nancount:0, test_reccnt:49\n",
      "a short ts: carid=13，len=67\n",
      "carno:14, totallen:187, nancount:13, test_reccnt:42\n",
      "carno:15, totallen:200, nancount:0, test_reccnt:49\n",
      "carno:17, totallen:199, nancount:1, test_reccnt:48\n",
      "carno:18, totallen:137, nancount:63, test_reccnt:17\n",
      "carno:19, totallen:199, nancount:1, test_reccnt:48\n",
      "carno:20, totallen:200, nancount:0, test_reccnt:49\n",
      "carno:21, totallen:199, nancount:1, test_reccnt:48\n",
      "carno:22, totallen:200, nancount:0, test_reccnt:49\n",
      "carno:23, totallen:200, nancount:0, test_reccnt:49\n",
      "carno:24, totallen:154, nancount:46, test_reccnt:26\n",
      "carno:25, totallen:200, nancount:0, test_reccnt:49\n",
      "carno:26, totallen:198, nancount:2, test_reccnt:48\n",
      "carno:27, totallen:200, nancount:0, test_reccnt:49\n",
      "carno:28, totallen:200, nancount:0, test_reccnt:49\n",
      "carno:29, totallen:200, nancount:0, test_reccnt:49\n",
      "a short ts: carid=30，len=46\n",
      "carno:32, totallen:110, nancount:90, test_reccnt:4\n",
      "a short ts: carid=33，len=46\n",
      "carno:59, totallen:198, nancount:2, test_reccnt:48\n",
      "carno:60, totallen:200, nancount:0, test_reccnt:49\n",
      "carno:64, totallen:200, nancount:0, test_reccnt:49\n",
      "carno:66, totallen:200, nancount:0, test_reccnt:49\n",
      "carno:88, totallen:200, nancount:0, test_reccnt:49\n",
      "carno:98, totallen:200, nancount:0, test_reccnt:49\n",
      "train len:0, test len:1278\n"
     ]
    },
    {
     "name": "stderr",
     "output_type": "stream",
     "text": [
      "INFO:root:Using GPU\n"
     ]
    },
    {
     "name": "stdout",
     "output_type": "stream",
     "text": [
      "model: oracle\n",
      "predicting model=oracle, plen=2\n",
      "loading model...done!, ctx:gpu(0)\n",
      "tss len=1278, forecasts len=1278\n"
     ]
    },
    {
     "name": "stderr",
     "output_type": "stream",
     "text": [
      "INFO:root:Using GPU\n"
     ]
    },
    {
     "name": "stdout",
     "output_type": "stream",
     "text": [
      "total:49, prediction_length:2\n",
      "top1acc= 0.6020408163265306 top1acc_farmost= 0.5510204081632653 top5acc= 0.7938775510204081 top5acc_farmost= 0.7306122448979592\n",
      "tau =  0.8105315228319764 rmse =  12.42844865760785\n",
      "model: curtrack\n",
      "predicting model=curtrack, plen=2\n",
      "loading model...done!, ctx:gpu(0)\n",
      "tss len=1278, forecasts len=1278\n"
     ]
    },
    {
     "name": "stderr",
     "output_type": "stream",
     "text": [
      "INFO:root:Using GPU\n"
     ]
    },
    {
     "name": "stdout",
     "output_type": "stream",
     "text": [
      "total:49, prediction_length:2\n",
      "top1acc= 0.5510204081632653 top1acc_farmost= 0.42857142857142855 top5acc= 0.8122448979591836 top5acc_farmost= 0.746938775510204\n",
      "tau =  0.815262582482913 rmse =  12.47665350804949\n",
      "model: zerotrack\n",
      "predicting model=zerotrack, plen=2\n",
      "loading model...done!, ctx:gpu(0)\n",
      "tss len=1278, forecasts len=1278\n"
     ]
    },
    {
     "name": "stderr",
     "output_type": "stream",
     "text": [
      "INFO:root:Using GPU\n"
     ]
    },
    {
     "name": "stdout",
     "output_type": "stream",
     "text": [
      "total:49, prediction_length:2\n",
      "top1acc= 0.5102040816326531 top1acc_farmost= 0.40816326530612246 top5acc= 0.7918367346938775 top5acc_farmost= 0.746938775510204\n",
      "tau =  0.8058964099948259 rmse =  12.470756621701609\n",
      "==============================\n",
      "====event:Indy500, train_len=100, max_len=200, min_len=200\n",
      "carno:1, totallen:200, nancount:0, test_reccnt:19\n",
      "carno:3, totallen:146, nancount:54, test_reccnt:8\n",
      "carno:4, totallen:200, nancount:0, test_reccnt:19\n",
      "carno:6, totallen:200, nancount:0, test_reccnt:19\n",
      "carno:7, totallen:193, nancount:7, test_reccnt:17\n",
      "carno:9, totallen:200, nancount:0, test_reccnt:19\n",
      "a short ts: carid=10，len=57\n",
      "carno:12, totallen:200, nancount:0, test_reccnt:19\n",
      "a short ts: carid=13，len=67\n",
      "carno:14, totallen:187, nancount:13, test_reccnt:16\n",
      "carno:15, totallen:200, nancount:0, test_reccnt:19\n",
      "carno:17, totallen:199, nancount:1, test_reccnt:18\n",
      "carno:18, totallen:137, nancount:63, test_reccnt:6\n",
      "carno:19, totallen:199, nancount:1, test_reccnt:18\n",
      "carno:20, totallen:200, nancount:0, test_reccnt:19\n",
      "carno:21, totallen:199, nancount:1, test_reccnt:18\n",
      "carno:22, totallen:200, nancount:0, test_reccnt:19\n",
      "carno:23, totallen:200, nancount:0, test_reccnt:19\n",
      "carno:24, totallen:154, nancount:46, test_reccnt:9\n",
      "carno:25, totallen:200, nancount:0, test_reccnt:19\n",
      "carno:26, totallen:198, nancount:2, test_reccnt:18\n",
      "carno:27, totallen:200, nancount:0, test_reccnt:19\n",
      "carno:28, totallen:200, nancount:0, test_reccnt:19\n",
      "carno:29, totallen:200, nancount:0, test_reccnt:19\n",
      "a short ts: carid=30，len=46\n",
      "carno:32, totallen:110, nancount:90, test_reccnt:1\n",
      "a short ts: carid=33，len=46\n",
      "carno:59, totallen:198, nancount:2, test_reccnt:18\n",
      "carno:60, totallen:200, nancount:0, test_reccnt:19\n",
      "carno:64, totallen:200, nancount:0, test_reccnt:19\n",
      "carno:66, totallen:200, nancount:0, test_reccnt:19\n",
      "carno:88, totallen:200, nancount:0, test_reccnt:19\n",
      "carno:98, totallen:200, nancount:0, test_reccnt:19\n",
      "train len:0, test len:489\n",
      "model: oracle\n",
      "predicting model=oracle, plen=5\n",
      "loading model...done!, ctx:gpu(0)\n",
      "tss len=489, forecasts len=489\n"
     ]
    },
    {
     "name": "stderr",
     "output_type": "stream",
     "text": [
      "INFO:root:Using GPU\n"
     ]
    },
    {
     "name": "stdout",
     "output_type": "stream",
     "text": [
      "total:19, prediction_length:5\n",
      "top1acc= 0.4105263157894737 top1acc_farmost= 0.3684210526315789 top5acc= 0.5810526315789474 top5acc_farmost= 0.4631578947368421\n",
      "tau =  0.6297901124302095 rmse =  28.801240187437926\n",
      "model: curtrack\n",
      "predicting model=curtrack, plen=5\n",
      "loading model...done!, ctx:gpu(0)\n",
      "tss len=489, forecasts len=489\n"
     ]
    },
    {
     "name": "stderr",
     "output_type": "stream",
     "text": [
      "INFO:root:Using GPU\n"
     ]
    },
    {
     "name": "stdout",
     "output_type": "stream",
     "text": [
      "total:19, prediction_length:5\n",
      "top1acc= 0.42105263157894735 top1acc_farmost= 0.3684210526315789 top5acc= 0.5726315789473684 top5acc_farmost= 0.47368421052631576\n",
      "tau =  0.6396777923331477 rmse =  28.202404220677398\n",
      "model: zerotrack\n",
      "predicting model=zerotrack, plen=5\n",
      "loading model...done!, ctx:gpu(0)\n",
      "tss len=489, forecasts len=489\n"
     ]
    },
    {
     "name": "stderr",
     "output_type": "stream",
     "text": [
      "INFO:root:Using GPU\n"
     ]
    },
    {
     "name": "stdout",
     "output_type": "stream",
     "text": [
      "total:19, prediction_length:5\n",
      "top1acc= 0.43157894736842106 top1acc_farmost= 0.2631578947368421 top5acc= 0.5831578947368421 top5acc_farmost= 0.4842105263157895\n",
      "tau =  0.6357006941608369 rmse =  28.398171136332742\n",
      "==============================\n",
      "====event:Indy500, train_len=100, max_len=200, min_len=200\n",
      "carno:1, totallen:200, nancount:0, test_reccnt:9\n",
      "carno:3, totallen:146, nancount:54, test_reccnt:3\n",
      "carno:4, totallen:200, nancount:0, test_reccnt:9\n",
      "carno:6, totallen:200, nancount:0, test_reccnt:9\n",
      "carno:7, totallen:193, nancount:7, test_reccnt:8\n",
      "carno:9, totallen:200, nancount:0, test_reccnt:9\n",
      "a short ts: carid=10，len=57\n",
      "carno:12, totallen:200, nancount:0, test_reccnt:9\n",
      "a short ts: carid=13，len=67\n",
      "carno:14, totallen:187, nancount:13, test_reccnt:7\n",
      "carno:15, totallen:200, nancount:0, test_reccnt:9\n",
      "carno:17, totallen:199, nancount:1, test_reccnt:8\n",
      "carno:18, totallen:137, nancount:63, test_reccnt:2\n",
      "carno:19, totallen:199, nancount:1, test_reccnt:8\n",
      "carno:20, totallen:200, nancount:0, test_reccnt:9\n",
      "carno:21, totallen:199, nancount:1, test_reccnt:8\n",
      "carno:22, totallen:200, nancount:0, test_reccnt:9\n",
      "carno:23, totallen:200, nancount:0, test_reccnt:9\n",
      "carno:24, totallen:154, nancount:46, test_reccnt:4\n",
      "carno:25, totallen:200, nancount:0, test_reccnt:9\n",
      "carno:26, totallen:198, nancount:2, test_reccnt:8\n",
      "carno:27, totallen:200, nancount:0, test_reccnt:9\n",
      "carno:28, totallen:200, nancount:0, test_reccnt:9\n",
      "carno:29, totallen:200, nancount:0, test_reccnt:9\n",
      "a short ts: carid=30，len=46\n",
      "carno:32, totallen:110, nancount:90, test_reccnt:0\n",
      "a short ts: carid=33，len=46\n",
      "carno:59, totallen:198, nancount:2, test_reccnt:8\n",
      "carno:60, totallen:200, nancount:0, test_reccnt:9\n",
      "carno:64, totallen:200, nancount:0, test_reccnt:9\n",
      "carno:66, totallen:200, nancount:0, test_reccnt:9\n",
      "carno:88, totallen:200, nancount:0, test_reccnt:9\n",
      "carno:98, totallen:200, nancount:0, test_reccnt:9\n",
      "train len:0, test len:226\n",
      "model: oracle\n",
      "predicting model=oracle, plen=10\n",
      "loading model...done!, ctx:gpu(0)\n",
      "tss len=226, forecasts len=226\n"
     ]
    },
    {
     "name": "stderr",
     "output_type": "stream",
     "text": [
      "INFO:root:Using GPU\n"
     ]
    },
    {
     "name": "stdout",
     "output_type": "stream",
     "text": [
      "total:9, prediction_length:10\n",
      "top1acc= 0.28888888888888886 top1acc_farmost= 0.2222222222222222 top5acc= 0.5022222222222222 top5acc_farmost= 0.3333333333333333\n",
      "tau =  0.4659939075312193 rmse =  41.005292000180894\n",
      "model: curtrack\n",
      "predicting model=curtrack, plen=10\n",
      "loading model...done!, ctx:gpu(0)\n",
      "tss len=226, forecasts len=226\n"
     ]
    },
    {
     "name": "stderr",
     "output_type": "stream",
     "text": [
      "INFO:root:Using GPU\n"
     ]
    },
    {
     "name": "stdout",
     "output_type": "stream",
     "text": [
      "total:9, prediction_length:10\n",
      "top1acc= 0.3333333333333333 top1acc_farmost= 0.2222222222222222 top5acc= 0.5044444444444445 top5acc_farmost= 0.3333333333333333\n",
      "tau =  0.5035841611610581 rmse =  36.867372948039616\n",
      "model: zerotrack\n",
      "predicting model=zerotrack, plen=10\n",
      "loading model...done!, ctx:gpu(0)\n",
      "tss len=226, forecasts len=226\n",
      "total:9, prediction_length:10\n",
      "top1acc= 0.2222222222222222 top1acc_farmost= 0.1111111111111111 top5acc= 0.5022222222222222 top5acc_farmost= 0.4\n",
      "tau =  0.5060529409567205 rmse =  35.51424257224257\n",
      "==============================\n",
      "====event:Indy500, train_len=100, max_len=200, min_len=200\n",
      "carno:1, totallen:200, nancount:0, test_reccnt:49\n",
      "carno:3, totallen:146, nancount:54, test_reccnt:22\n",
      "carno:4, totallen:200, nancount:0, test_reccnt:49\n",
      "carno:6, totallen:200, nancount:0, test_reccnt:49\n",
      "carno:7, totallen:193, nancount:7, test_reccnt:45\n",
      "carno:9, totallen:200, nancount:0, test_reccnt:49\n",
      "a short ts: carid=10，len=57\n",
      "carno:12, totallen:200, nancount:0, test_reccnt:49\n",
      "a short ts: carid=13，len=67\n",
      "carno:14, totallen:187, nancount:13, test_reccnt:42\n",
      "carno:15, totallen:200, nancount:0, test_reccnt:49\n",
      "carno:17, totallen:199, nancount:1, test_reccnt:48\n",
      "carno:18, totallen:137, nancount:63, test_reccnt:17\n",
      "carno:19, totallen:199, nancount:1, test_reccnt:48\n",
      "carno:20, totallen:200, nancount:0, test_reccnt:49\n",
      "carno:21, totallen:199, nancount:1, test_reccnt:48\n",
      "carno:22, totallen:200, nancount:0, test_reccnt:49\n",
      "carno:23, totallen:200, nancount:0, test_reccnt:49\n",
      "carno:24, totallen:154, nancount:46, test_reccnt:26\n",
      "carno:25, totallen:200, nancount:0, test_reccnt:49\n",
      "carno:26, totallen:198, nancount:2, test_reccnt:48\n",
      "carno:27, totallen:200, nancount:0, test_reccnt:49\n",
      "carno:28, totallen:200, nancount:0, test_reccnt:49\n",
      "carno:29, totallen:200, nancount:0, test_reccnt:49\n",
      "a short ts: carid=30，len=46\n",
      "carno:32, totallen:110, nancount:90, test_reccnt:4\n",
      "a short ts: carid=33，len=46\n"
     ]
    },
    {
     "name": "stderr",
     "output_type": "stream",
     "text": [
      "INFO:root:Using GPU\n"
     ]
    },
    {
     "name": "stdout",
     "output_type": "stream",
     "text": [
      "carno:59, totallen:198, nancount:2, test_reccnt:48\n",
      "carno:60, totallen:200, nancount:0, test_reccnt:49\n",
      "carno:64, totallen:200, nancount:0, test_reccnt:49\n",
      "carno:66, totallen:200, nancount:0, test_reccnt:49\n",
      "carno:88, totallen:200, nancount:0, test_reccnt:49\n",
      "carno:98, totallen:200, nancount:0, test_reccnt:49\n",
      "train len:0, test len:1278\n",
      "model: oracle\n",
      "predicting model=oracle, plen=2\n",
      "loading model...done!, ctx:gpu(0)\n",
      "tss len=1278, forecasts len=1278\n"
     ]
    },
    {
     "name": "stderr",
     "output_type": "stream",
     "text": [
      "INFO:root:Using GPU\n"
     ]
    },
    {
     "name": "stdout",
     "output_type": "stream",
     "text": [
      "total:49, prediction_length:2\n",
      "top1acc= 0.6326530612244898 top1acc_farmost= 0.5510204081632653 top5acc= 0.7979591836734694 top5acc_farmost= 0.7428571428571429\n",
      "tau =  0.8201739518833581 rmse =  11.505751194012518\n",
      "model: curtrack\n",
      "predicting model=curtrack, plen=2\n",
      "loading model...done!, ctx:gpu(0)\n",
      "tss len=1278, forecasts len=1278\n"
     ]
    },
    {
     "name": "stderr",
     "output_type": "stream",
     "text": [
      "INFO:root:Using GPU\n"
     ]
    },
    {
     "name": "stdout",
     "output_type": "stream",
     "text": [
      "total:49, prediction_length:2\n",
      "top1acc= 0.6020408163265306 top1acc_farmost= 0.5306122448979592 top5acc= 0.8122448979591836 top5acc_farmost= 0.746938775510204\n",
      "tau =  0.8196258945197097 rmse =  11.97798378619616\n",
      "model: zerotrack\n",
      "predicting model=zerotrack, plen=2\n",
      "loading model...done!, ctx:gpu(0)\n",
      "tss len=1278, forecasts len=1278\n"
     ]
    },
    {
     "name": "stderr",
     "output_type": "stream",
     "text": [
      "INFO:root:Using GPU\n"
     ]
    },
    {
     "name": "stdout",
     "output_type": "stream",
     "text": [
      "total:49, prediction_length:2\n",
      "top1acc= 0.5714285714285714 top1acc_farmost= 0.46938775510204084 top5acc= 0.8040816326530612 top5acc_farmost= 0.7387755102040816\n",
      "tau =  0.8142263218153136 rmse =  11.649894812380504\n",
      "==============================\n",
      "====event:Indy500, train_len=100, max_len=200, min_len=200\n",
      "carno:1, totallen:200, nancount:0, test_reccnt:19\n",
      "carno:3, totallen:146, nancount:54, test_reccnt:8\n",
      "carno:4, totallen:200, nancount:0, test_reccnt:19\n",
      "carno:6, totallen:200, nancount:0, test_reccnt:19\n",
      "carno:7, totallen:193, nancount:7, test_reccnt:17\n",
      "carno:9, totallen:200, nancount:0, test_reccnt:19\n",
      "a short ts: carid=10，len=57\n",
      "carno:12, totallen:200, nancount:0, test_reccnt:19\n",
      "a short ts: carid=13，len=67\n",
      "carno:14, totallen:187, nancount:13, test_reccnt:16\n",
      "carno:15, totallen:200, nancount:0, test_reccnt:19\n",
      "carno:17, totallen:199, nancount:1, test_reccnt:18\n",
      "carno:18, totallen:137, nancount:63, test_reccnt:6\n",
      "carno:19, totallen:199, nancount:1, test_reccnt:18\n",
      "carno:20, totallen:200, nancount:0, test_reccnt:19\n",
      "carno:21, totallen:199, nancount:1, test_reccnt:18\n",
      "carno:22, totallen:200, nancount:0, test_reccnt:19\n",
      "carno:23, totallen:200, nancount:0, test_reccnt:19\n",
      "carno:24, totallen:154, nancount:46, test_reccnt:9\n",
      "carno:25, totallen:200, nancount:0, test_reccnt:19\n",
      "carno:26, totallen:198, nancount:2, test_reccnt:18\n",
      "carno:27, totallen:200, nancount:0, test_reccnt:19\n",
      "carno:28, totallen:200, nancount:0, test_reccnt:19\n",
      "carno:29, totallen:200, nancount:0, test_reccnt:19\n",
      "a short ts: carid=30，len=46\n",
      "carno:32, totallen:110, nancount:90, test_reccnt:1\n",
      "a short ts: carid=33，len=46\n",
      "carno:59, totallen:198, nancount:2, test_reccnt:18\n",
      "carno:60, totallen:200, nancount:0, test_reccnt:19\n",
      "carno:64, totallen:200, nancount:0, test_reccnt:19\n",
      "carno:66, totallen:200, nancount:0, test_reccnt:19\n",
      "carno:88, totallen:200, nancount:0, test_reccnt:19\n",
      "carno:98, totallen:200, nancount:0, test_reccnt:19\n",
      "train len:0, test len:489\n",
      "model: oracle\n",
      "predicting model=oracle, plen=5\n",
      "loading model...done!, ctx:gpu(0)\n",
      "tss len=489, forecasts len=489\n"
     ]
    },
    {
     "name": "stderr",
     "output_type": "stream",
     "text": [
      "INFO:root:Using GPU\n"
     ]
    },
    {
     "name": "stdout",
     "output_type": "stream",
     "text": [
      "total:19, prediction_length:5\n",
      "top1acc= 0.4105263157894737 top1acc_farmost= 0.3157894736842105 top5acc= 0.5831578947368421 top5acc_farmost= 0.4631578947368421\n",
      "tau =  0.6349018373069839 rmse =  28.40555686895322\n",
      "model: curtrack\n",
      "predicting model=curtrack, plen=5\n",
      "loading model...done!, ctx:gpu(0)\n",
      "tss len=489, forecasts len=489\n"
     ]
    },
    {
     "name": "stderr",
     "output_type": "stream",
     "text": [
      "INFO:root:Using GPU\n"
     ]
    },
    {
     "name": "stdout",
     "output_type": "stream",
     "text": [
      "total:19, prediction_length:5\n",
      "top1acc= 0.4 top1acc_farmost= 0.3157894736842105 top5acc= 0.5810526315789474 top5acc_farmost= 0.4842105263157895\n",
      "tau =  0.6463058711026739 rmse =  27.334286354284462\n",
      "model: zerotrack\n",
      "predicting model=zerotrack, plen=5\n",
      "loading model...done!, ctx:gpu(0)\n",
      "tss len=489, forecasts len=489\n"
     ]
    },
    {
     "name": "stderr",
     "output_type": "stream",
     "text": [
      "INFO:root:Using GPU\n"
     ]
    },
    {
     "name": "stdout",
     "output_type": "stream",
     "text": [
      "total:19, prediction_length:5\n",
      "top1acc= 0.42105263157894735 top1acc_farmost= 0.3157894736842105 top5acc= 0.5810526315789474 top5acc_farmost= 0.5052631578947369\n",
      "tau =  0.6270116589729625 rmse =  29.25632651028769\n",
      "==============================\n",
      "====event:Indy500, train_len=100, max_len=200, min_len=200\n",
      "carno:1, totallen:200, nancount:0, test_reccnt:9\n",
      "carno:3, totallen:146, nancount:54, test_reccnt:3\n",
      "carno:4, totallen:200, nancount:0, test_reccnt:9\n",
      "carno:6, totallen:200, nancount:0, test_reccnt:9\n",
      "carno:7, totallen:193, nancount:7, test_reccnt:8\n",
      "carno:9, totallen:200, nancount:0, test_reccnt:9\n",
      "a short ts: carid=10，len=57\n",
      "carno:12, totallen:200, nancount:0, test_reccnt:9\n",
      "a short ts: carid=13，len=67\n",
      "carno:14, totallen:187, nancount:13, test_reccnt:7\n",
      "carno:15, totallen:200, nancount:0, test_reccnt:9\n",
      "carno:17, totallen:199, nancount:1, test_reccnt:8\n",
      "carno:18, totallen:137, nancount:63, test_reccnt:2\n",
      "carno:19, totallen:199, nancount:1, test_reccnt:8\n",
      "carno:20, totallen:200, nancount:0, test_reccnt:9\n",
      "carno:21, totallen:199, nancount:1, test_reccnt:8\n",
      "carno:22, totallen:200, nancount:0, test_reccnt:9\n",
      "carno:23, totallen:200, nancount:0, test_reccnt:9\n",
      "carno:24, totallen:154, nancount:46, test_reccnt:4\n",
      "carno:25, totallen:200, nancount:0, test_reccnt:9\n",
      "carno:26, totallen:198, nancount:2, test_reccnt:8\n",
      "carno:27, totallen:200, nancount:0, test_reccnt:9\n",
      "carno:28, totallen:200, nancount:0, test_reccnt:9\n",
      "carno:29, totallen:200, nancount:0, test_reccnt:9\n",
      "a short ts: carid=30，len=46\n",
      "carno:32, totallen:110, nancount:90, test_reccnt:0\n",
      "a short ts: carid=33，len=46\n",
      "carno:59, totallen:198, nancount:2, test_reccnt:8\n",
      "carno:60, totallen:200, nancount:0, test_reccnt:9\n",
      "carno:64, totallen:200, nancount:0, test_reccnt:9\n",
      "carno:66, totallen:200, nancount:0, test_reccnt:9\n",
      "carno:88, totallen:200, nancount:0, test_reccnt:9\n",
      "carno:98, totallen:200, nancount:0, test_reccnt:9\n",
      "train len:0, test len:226\n",
      "model: oracle\n",
      "predicting model=oracle, plen=10\n",
      "loading model...done!, ctx:gpu(0)\n",
      "tss len=226, forecasts len=226\n"
     ]
    },
    {
     "name": "stderr",
     "output_type": "stream",
     "text": [
      "INFO:root:Using GPU\n"
     ]
    },
    {
     "name": "stdout",
     "output_type": "stream",
     "text": [
      "total:9, prediction_length:10\n",
      "top1acc= 0.28888888888888886 top1acc_farmost= 0.2222222222222222 top5acc= 0.5022222222222222 top5acc_farmost= 0.3333333333333333\n",
      "tau =  0.46259816765386536 rmse =  40.85895771717995\n",
      "model: curtrack\n",
      "predicting model=curtrack, plen=10\n",
      "loading model...done!, ctx:gpu(0)\n",
      "tss len=226, forecasts len=226\n"
     ]
    },
    {
     "name": "stderr",
     "output_type": "stream",
     "text": [
      "INFO:root:Using GPU\n"
     ]
    },
    {
     "name": "stdout",
     "output_type": "stream",
     "text": [
      "total:9, prediction_length:10\n",
      "top1acc= 0.26666666666666666 top1acc_farmost= 0.2222222222222222 top5acc= 0.5288888888888889 top5acc_farmost= 0.4222222222222222\n",
      "tau =  0.5004723975770581 rmse =  36.797382489938045\n",
      "model: zerotrack\n",
      "predicting model=zerotrack, plen=10\n",
      "loading model...done!, ctx:gpu(0)\n"
     ]
    },
    {
     "name": "stderr",
     "output_type": "stream",
     "text": [
      "INFO:root:Using GPU\n"
     ]
    },
    {
     "name": "stdout",
     "output_type": "stream",
     "text": [
      "tss len=226, forecasts len=226\n",
      "total:9, prediction_length:10\n",
      "top1acc= 0.23333333333333334 top1acc_farmost= 0.1111111111111111 top5acc= 0.4888888888888889 top5acc_farmost= 0.37777777777777777\n",
      "tau =  0.49825042519918905 rmse =  36.10364197530865\n",
      "==============================\n",
      "====event:Indy500, train_len=100, max_len=200, min_len=200\n",
      "carno:1, totallen:200, nancount:0, test_reccnt:49\n",
      "carno:3, totallen:146, nancount:54, test_reccnt:22\n",
      "carno:4, totallen:200, nancount:0, test_reccnt:49\n",
      "carno:6, totallen:200, nancount:0, test_reccnt:49\n",
      "carno:7, totallen:193, nancount:7, test_reccnt:45\n",
      "carno:9, totallen:200, nancount:0, test_reccnt:49\n",
      "a short ts: carid=10，len=57\n",
      "carno:12, totallen:200, nancount:0, test_reccnt:49\n",
      "a short ts: carid=13，len=67\n",
      "carno:14, totallen:187, nancount:13, test_reccnt:42\n",
      "carno:15, totallen:200, nancount:0, test_reccnt:49\n",
      "carno:17, totallen:199, nancount:1, test_reccnt:48\n",
      "carno:18, totallen:137, nancount:63, test_reccnt:17\n",
      "carno:19, totallen:199, nancount:1, test_reccnt:48\n",
      "carno:20, totallen:200, nancount:0, test_reccnt:49\n",
      "carno:21, totallen:199, nancount:1, test_reccnt:48\n",
      "carno:22, totallen:200, nancount:0, test_reccnt:49\n",
      "carno:23, totallen:200, nancount:0, test_reccnt:49\n",
      "carno:24, totallen:154, nancount:46, test_reccnt:26\n",
      "carno:25, totallen:200, nancount:0, test_reccnt:49\n",
      "carno:26, totallen:198, nancount:2, test_reccnt:48\n",
      "carno:27, totallen:200, nancount:0, test_reccnt:49\n",
      "carno:28, totallen:200, nancount:0, test_reccnt:49\n",
      "carno:29, totallen:200, nancount:0, test_reccnt:49\n",
      "a short ts: carid=30，len=46\n",
      "carno:32, totallen:110, nancount:90, test_reccnt:4\n",
      "a short ts: carid=33，len=46\n",
      "carno:59, totallen:198, nancount:2, test_reccnt:48\n",
      "carno:60, totallen:200, nancount:0, test_reccnt:49\n",
      "carno:64, totallen:200, nancount:0, test_reccnt:49\n",
      "carno:66, totallen:200, nancount:0, test_reccnt:49\n",
      "carno:88, totallen:200, nancount:0, test_reccnt:49\n",
      "carno:98, totallen:200, nancount:0, test_reccnt:49\n",
      "train len:0, test len:1278\n",
      "model: oracle\n",
      "predicting model=oracle, plen=2\n",
      "loading model...done!, ctx:gpu(0)\n",
      "tss len=1278, forecasts len=1278\n"
     ]
    },
    {
     "name": "stderr",
     "output_type": "stream",
     "text": [
      "INFO:root:Using GPU\n"
     ]
    },
    {
     "name": "stdout",
     "output_type": "stream",
     "text": [
      "total:49, prediction_length:2\n",
      "top1acc= 0.5918367346938775 top1acc_farmost= 0.4897959183673469 top5acc= 0.8122448979591836 top5acc_farmost= 0.7551020408163265\n",
      "tau =  0.8248142902086621 rmse =  10.754147228483886\n",
      "model: curtrack\n",
      "predicting model=curtrack, plen=2\n",
      "loading model...done!, ctx:gpu(0)\n",
      "tss len=1278, forecasts len=1278\n"
     ]
    },
    {
     "name": "stderr",
     "output_type": "stream",
     "text": [
      "INFO:root:Using GPU\n"
     ]
    },
    {
     "name": "stdout",
     "output_type": "stream",
     "text": [
      "total:49, prediction_length:2\n",
      "top1acc= 0.5816326530612245 top1acc_farmost= 0.4897959183673469 top5acc= 0.8183673469387756 top5acc_farmost= 0.7551020408163265\n",
      "tau =  0.8268603309966421 rmse =  11.308332245068318\n",
      "model: zerotrack\n",
      "predicting model=zerotrack, plen=2\n",
      "loading model...done!, ctx:gpu(0)\n",
      "tss len=1278, forecasts len=1278\n"
     ]
    },
    {
     "name": "stderr",
     "output_type": "stream",
     "text": [
      "INFO:root:Using GPU\n"
     ]
    },
    {
     "name": "stdout",
     "output_type": "stream",
     "text": [
      "total:49, prediction_length:2\n",
      "top1acc= 0.5102040816326531 top1acc_farmost= 0.42857142857142855 top5acc= 0.7877551020408163 top5acc_farmost= 0.7346938775510204\n",
      "tau =  0.8124255850336725 rmse =  11.850371745489541\n",
      "==============================\n",
      "====event:Indy500, train_len=100, max_len=200, min_len=200\n",
      "carno:1, totallen:200, nancount:0, test_reccnt:19\n",
      "carno:3, totallen:146, nancount:54, test_reccnt:8\n",
      "carno:4, totallen:200, nancount:0, test_reccnt:19\n",
      "carno:6, totallen:200, nancount:0, test_reccnt:19\n",
      "carno:7, totallen:193, nancount:7, test_reccnt:17\n",
      "carno:9, totallen:200, nancount:0, test_reccnt:19\n",
      "a short ts: carid=10，len=57\n",
      "carno:12, totallen:200, nancount:0, test_reccnt:19\n",
      "a short ts: carid=13，len=67\n",
      "carno:14, totallen:187, nancount:13, test_reccnt:16\n",
      "carno:15, totallen:200, nancount:0, test_reccnt:19\n",
      "carno:17, totallen:199, nancount:1, test_reccnt:18\n",
      "carno:18, totallen:137, nancount:63, test_reccnt:6\n",
      "carno:19, totallen:199, nancount:1, test_reccnt:18\n",
      "carno:20, totallen:200, nancount:0, test_reccnt:19\n",
      "carno:21, totallen:199, nancount:1, test_reccnt:18\n",
      "carno:22, totallen:200, nancount:0, test_reccnt:19\n",
      "carno:23, totallen:200, nancount:0, test_reccnt:19\n",
      "carno:24, totallen:154, nancount:46, test_reccnt:9\n",
      "carno:25, totallen:200, nancount:0, test_reccnt:19\n",
      "carno:26, totallen:198, nancount:2, test_reccnt:18\n",
      "carno:27, totallen:200, nancount:0, test_reccnt:19\n",
      "carno:28, totallen:200, nancount:0, test_reccnt:19\n",
      "carno:29, totallen:200, nancount:0, test_reccnt:19\n",
      "a short ts: carid=30，len=46\n",
      "carno:32, totallen:110, nancount:90, test_reccnt:1\n",
      "a short ts: carid=33，len=46\n",
      "carno:59, totallen:198, nancount:2, test_reccnt:18\n",
      "carno:60, totallen:200, nancount:0, test_reccnt:19\n",
      "carno:64, totallen:200, nancount:0, test_reccnt:19\n",
      "carno:66, totallen:200, nancount:0, test_reccnt:19\n",
      "carno:88, totallen:200, nancount:0, test_reccnt:19\n",
      "carno:98, totallen:200, nancount:0, test_reccnt:19\n",
      "train len:0, test len:489\n",
      "model: oracle\n",
      "predicting model=oracle, plen=5\n",
      "loading model...done!, ctx:gpu(0)\n",
      "tss len=489, forecasts len=489\n"
     ]
    },
    {
     "name": "stderr",
     "output_type": "stream",
     "text": [
      "INFO:root:Using GPU\n"
     ]
    },
    {
     "name": "stdout",
     "output_type": "stream",
     "text": [
      "total:19, prediction_length:5\n",
      "top1acc= 0.35789473684210527 top1acc_farmost= 0.2631578947368421 top5acc= 0.5789473684210527 top5acc_farmost= 0.4842105263157895\n",
      "tau =  0.619844460873834 rmse =  29.775096652945944\n",
      "model: curtrack\n",
      "predicting model=curtrack, plen=5\n",
      "loading model...done!, ctx:gpu(0)\n",
      "tss len=489, forecasts len=489\n"
     ]
    },
    {
     "name": "stderr",
     "output_type": "stream",
     "text": [
      "INFO:root:Using GPU\n"
     ]
    },
    {
     "name": "stdout",
     "output_type": "stream",
     "text": [
      "total:19, prediction_length:5\n",
      "top1acc= 0.37894736842105264 top1acc_farmost= 0.3684210526315789 top5acc= 0.5873684210526315 top5acc_farmost= 0.5052631578947369\n",
      "tau =  0.6376119081751269 rmse =  28.48358081077705\n",
      "model: zerotrack\n",
      "predicting model=zerotrack, plen=5\n",
      "loading model...done!, ctx:gpu(0)\n",
      "tss len=489, forecasts len=489\n"
     ]
    },
    {
     "name": "stderr",
     "output_type": "stream",
     "text": [
      "INFO:root:Using GPU\n"
     ]
    },
    {
     "name": "stdout",
     "output_type": "stream",
     "text": [
      "total:19, prediction_length:5\n",
      "top1acc= 0.4421052631578947 top1acc_farmost= 0.3157894736842105 top5acc= 0.5789473684210527 top5acc_farmost= 0.5263157894736842\n",
      "tau =  0.6204497928204447 rmse =  29.80586614744809\n",
      "==============================\n",
      "====event:Indy500, train_len=100, max_len=200, min_len=200\n",
      "carno:1, totallen:200, nancount:0, test_reccnt:9\n",
      "carno:3, totallen:146, nancount:54, test_reccnt:3\n",
      "carno:4, totallen:200, nancount:0, test_reccnt:9\n",
      "carno:6, totallen:200, nancount:0, test_reccnt:9\n",
      "carno:7, totallen:193, nancount:7, test_reccnt:8\n",
      "carno:9, totallen:200, nancount:0, test_reccnt:9\n",
      "a short ts: carid=10，len=57\n",
      "carno:12, totallen:200, nancount:0, test_reccnt:9\n",
      "a short ts: carid=13，len=67\n",
      "carno:14, totallen:187, nancount:13, test_reccnt:7\n",
      "carno:15, totallen:200, nancount:0, test_reccnt:9\n",
      "carno:17, totallen:199, nancount:1, test_reccnt:8\n",
      "carno:18, totallen:137, nancount:63, test_reccnt:2\n",
      "carno:19, totallen:199, nancount:1, test_reccnt:8\n",
      "carno:20, totallen:200, nancount:0, test_reccnt:9\n",
      "carno:21, totallen:199, nancount:1, test_reccnt:8\n",
      "carno:22, totallen:200, nancount:0, test_reccnt:9\n",
      "carno:23, totallen:200, nancount:0, test_reccnt:9\n",
      "carno:24, totallen:154, nancount:46, test_reccnt:4\n",
      "carno:25, totallen:200, nancount:0, test_reccnt:9\n",
      "carno:26, totallen:198, nancount:2, test_reccnt:8\n",
      "carno:27, totallen:200, nancount:0, test_reccnt:9\n",
      "carno:28, totallen:200, nancount:0, test_reccnt:9\n",
      "carno:29, totallen:200, nancount:0, test_reccnt:9\n",
      "a short ts: carid=30，len=46\n",
      "carno:32, totallen:110, nancount:90, test_reccnt:0\n",
      "a short ts: carid=33，len=46\n",
      "carno:59, totallen:198, nancount:2, test_reccnt:8\n",
      "carno:60, totallen:200, nancount:0, test_reccnt:9\n",
      "carno:64, totallen:200, nancount:0, test_reccnt:9\n",
      "carno:66, totallen:200, nancount:0, test_reccnt:9\n",
      "carno:88, totallen:200, nancount:0, test_reccnt:9\n",
      "carno:98, totallen:200, nancount:0, test_reccnt:9\n",
      "train len:0, test len:226\n",
      "model: oracle\n",
      "predicting model=oracle, plen=10\n",
      "loading model...done!, ctx:gpu(0)\n",
      "tss len=226, forecasts len=226\n"
     ]
    },
    {
     "name": "stderr",
     "output_type": "stream",
     "text": [
      "INFO:root:Using GPU\n"
     ]
    },
    {
     "name": "stdout",
     "output_type": "stream",
     "text": [
      "total:9, prediction_length:10\n",
      "top1acc= 0.3 top1acc_farmost= 0.2222222222222222 top5acc= 0.5044444444444445 top5acc_farmost= 0.37777777777777777\n",
      "tau =  0.48147502812512755 rmse =  38.500682449238006\n",
      "model: curtrack\n",
      "predicting model=curtrack, plen=10\n",
      "loading model...done!, ctx:gpu(0)\n",
      "tss len=226, forecasts len=226\n"
     ]
    },
    {
     "name": "stderr",
     "output_type": "stream",
     "text": [
      "INFO:root:Using GPU\n"
     ]
    },
    {
     "name": "stdout",
     "output_type": "stream",
     "text": [
      "total:9, prediction_length:10\n",
      "top1acc= 0.28888888888888886 top1acc_farmost= 0.1111111111111111 top5acc= 0.5111111111111111 top5acc_farmost= 0.37777777777777777\n",
      "tau =  0.5085299609087617 rmse =  35.89482919549586\n",
      "model: zerotrack\n",
      "predicting model=zerotrack, plen=10\n",
      "loading model...done!, ctx:gpu(0)\n",
      "tss len=226, forecasts len=226\n",
      "total:9, prediction_length:10\n",
      "top1acc= 0.23333333333333334 top1acc_farmost= 0.1111111111111111 top5acc= 0.4666666666666667 top5acc_farmost= 0.3111111111111111\n",
      "tau =  0.49799793726318303 rmse =  36.256521367521366\n",
      "==============================\n",
      "====event:Indy500, train_len=100, max_len=200, min_len=200\n",
      "carno:1, totallen:200, nancount:0, test_reccnt:49\n",
      "carno:3, totallen:146, nancount:54, test_reccnt:22\n",
      "carno:4, totallen:200, nancount:0, test_reccnt:49\n",
      "carno:6, totallen:200, nancount:0, test_reccnt:49\n",
      "carno:7, totallen:193, nancount:7, test_reccnt:45\n",
      "carno:9, totallen:200, nancount:0, test_reccnt:49\n",
      "a short ts: carid=10，len=57\n",
      "carno:12, totallen:200, nancount:0, test_reccnt:49\n",
      "a short ts: carid=13，len=67\n",
      "carno:14, totallen:187, nancount:13, test_reccnt:42\n",
      "carno:15, totallen:200, nancount:0, test_reccnt:49\n",
      "carno:17, totallen:199, nancount:1, test_reccnt:48\n",
      "carno:18, totallen:137, nancount:63, test_reccnt:17\n",
      "carno:19, totallen:199, nancount:1, test_reccnt:48\n",
      "carno:20, totallen:200, nancount:0, test_reccnt:49\n",
      "carno:21, totallen:199, nancount:1, test_reccnt:48\n",
      "carno:22, totallen:200, nancount:0, test_reccnt:49\n",
      "carno:23, totallen:200, nancount:0, test_reccnt:49\n",
      "carno:24, totallen:154, nancount:46, test_reccnt:26\n",
      "carno:25, totallen:200, nancount:0, test_reccnt:49\n",
      "carno:26, totallen:198, nancount:2, test_reccnt:48\n",
      "carno:27, totallen:200, nancount:0, test_reccnt:49\n",
      "carno:28, totallen:200, nancount:0, test_reccnt:49\n",
      "carno:29, totallen:200, nancount:0, test_reccnt:49\n",
      "a short ts: carid=30，len=46\n",
      "carno:32, totallen:110, nancount:90, test_reccnt:4\n",
      "a short ts: carid=33，len=46\n",
      "carno:59, totallen:198, nancount:2, test_reccnt:48\n",
      "carno:60, totallen:200, nancount:0, test_reccnt:49\n",
      "carno:64, totallen:200, nancount:0, test_reccnt:49\n",
      "carno:66, totallen:200, nancount:0, test_reccnt:49\n",
      "carno:88, totallen:200, nancount:0, test_reccnt:49\n",
      "carno:98, totallen:200, nancount:0, test_reccnt:49\n",
      "train len:0, test len:1278\n",
      "model:"
     ]
    },
    {
     "name": "stderr",
     "output_type": "stream",
     "text": [
      "INFO:root:Using GPU\n"
     ]
    },
    {
     "name": "stdout",
     "output_type": "stream",
     "text": [
      " oracle\n",
      "predicting model=oracle, plen=2\n",
      "loading model...done!, ctx:gpu(0)\n",
      "tss len=1278, forecasts len=1278\n"
     ]
    },
    {
     "name": "stderr",
     "output_type": "stream",
     "text": [
      "INFO:root:Using GPU\n"
     ]
    },
    {
     "name": "stdout",
     "output_type": "stream",
     "text": [
      "total:49, prediction_length:2\n",
      "top1acc= 0.6530612244897959 top1acc_farmost= 0.5714285714285714 top5acc= 0.8 top5acc_farmost= 0.7428571428571429\n",
      "tau =  0.8257125495743656 rmse =  10.87979863323926\n",
      "model: curtrack\n",
      "predicting model=curtrack, plen=2\n",
      "loading model...done!, ctx:gpu(0)\n",
      "tss len=1278, forecasts len=1278\n"
     ]
    },
    {
     "name": "stderr",
     "output_type": "stream",
     "text": [
      "INFO:root:Using GPU\n"
     ]
    },
    {
     "name": "stdout",
     "output_type": "stream",
     "text": [
      "total:49, prediction_length:2\n",
      "top1acc= 0.5612244897959183 top1acc_farmost= 0.4489795918367347 top5acc= 0.8122448979591836 top5acc_farmost= 0.7428571428571429\n",
      "tau =  0.8172065524550624 rmse =  12.265460674200535\n",
      "model: zerotrack\n",
      "predicting model=zerotrack, plen=2\n",
      "loading model...done!, ctx:gpu(0)\n",
      "tss len=1278, forecasts len=1278\n"
     ]
    },
    {
     "name": "stderr",
     "output_type": "stream",
     "text": [
      "INFO:root:Using GPU\n"
     ]
    },
    {
     "name": "stdout",
     "output_type": "stream",
     "text": [
      "total:49, prediction_length:2\n",
      "top1acc= 0.5 top1acc_farmost= 0.46938775510204084 top5acc= 0.7775510204081633 top5acc_farmost= 0.7183673469387755\n",
      "tau =  0.809024279661938 rmse =  11.975231952063638\n",
      "==============================\n",
      "====event:Indy500, train_len=100, max_len=200, min_len=200\n",
      "carno:1, totallen:200, nancount:0, test_reccnt:19\n",
      "carno:3, totallen:146, nancount:54, test_reccnt:8\n",
      "carno:4, totallen:200, nancount:0, test_reccnt:19\n",
      "carno:6, totallen:200, nancount:0, test_reccnt:19\n",
      "carno:7, totallen:193, nancount:7, test_reccnt:17\n",
      "carno:9, totallen:200, nancount:0, test_reccnt:19\n",
      "a short ts: carid=10，len=57\n",
      "carno:12, totallen:200, nancount:0, test_reccnt:19\n",
      "a short ts: carid=13，len=67\n",
      "carno:14, totallen:187, nancount:13, test_reccnt:16\n",
      "carno:15, totallen:200, nancount:0, test_reccnt:19\n",
      "carno:17, totallen:199, nancount:1, test_reccnt:18\n",
      "carno:18, totallen:137, nancount:63, test_reccnt:6\n",
      "carno:19, totallen:199, nancount:1, test_reccnt:18\n",
      "carno:20, totallen:200, nancount:0, test_reccnt:19\n",
      "carno:21, totallen:199, nancount:1, test_reccnt:18\n",
      "carno:22, totallen:200, nancount:0, test_reccnt:19\n",
      "carno:23, totallen:200, nancount:0, test_reccnt:19\n",
      "carno:24, totallen:154, nancount:46, test_reccnt:9\n",
      "carno:25, totallen:200, nancount:0, test_reccnt:19\n",
      "carno:26, totallen:198, nancount:2, test_reccnt:18\n",
      "carno:27, totallen:200, nancount:0, test_reccnt:19\n",
      "carno:28, totallen:200, nancount:0, test_reccnt:19\n",
      "carno:29, totallen:200, nancount:0, test_reccnt:19\n",
      "a short ts: carid=30，len=46\n",
      "carno:32, totallen:110, nancount:90, test_reccnt:1\n",
      "a short ts: carid=33，len=46\n",
      "carno:59, totallen:198, nancount:2, test_reccnt:18\n",
      "carno:60, totallen:200, nancount:0, test_reccnt:19\n",
      "carno:64, totallen:200, nancount:0, test_reccnt:19\n",
      "carno:66, totallen:200, nancount:0, test_reccnt:19\n",
      "carno:88, totallen:200, nancount:0, test_reccnt:19\n",
      "carno:98, totallen:200, nancount:0, test_reccnt:19\n",
      "train len:0, test len:489\n",
      "model: oracle\n",
      "predicting model=oracle, plen=5\n",
      "loading model...done!, ctx:gpu(0)\n",
      "tss len=489, forecasts len=489\n"
     ]
    },
    {
     "name": "stderr",
     "output_type": "stream",
     "text": [
      "INFO:root:Using GPU\n"
     ]
    },
    {
     "name": "stdout",
     "output_type": "stream",
     "text": [
      "total:19, prediction_length:5\n",
      "top1acc= 0.3894736842105263 top1acc_farmost= 0.3157894736842105 top5acc= 0.5663157894736842 top5acc_farmost= 0.4631578947368421\n",
      "tau =  0.6336952520242516 rmse =  28.28833732487911\n",
      "model: curtrack\n",
      "predicting model=curtrack, plen=5\n",
      "loading model...done!, ctx:gpu(0)\n",
      "tss len=489, forecasts len=489\n"
     ]
    },
    {
     "name": "stderr",
     "output_type": "stream",
     "text": [
      "INFO:root:Using GPU\n"
     ]
    },
    {
     "name": "stdout",
     "output_type": "stream",
     "text": [
      "total:19, prediction_length:5\n",
      "top1acc= 0.4105263157894737 top1acc_farmost= 0.3684210526315789 top5acc= 0.5873684210526315 top5acc_farmost= 0.5052631578947369\n",
      "tau =  0.6498517473268204 rmse =  27.144815588928115\n",
      "model: zerotrack\n",
      "predicting model=zerotrack, plen=5\n",
      "loading model...done!, ctx:gpu(0)\n",
      "tss len=489, forecasts len=489\n"
     ]
    },
    {
     "name": "stderr",
     "output_type": "stream",
     "text": [
      "INFO:root:Using GPU\n"
     ]
    },
    {
     "name": "stdout",
     "output_type": "stream",
     "text": [
      "total:19, prediction_length:5\n",
      "top1acc= 0.4105263157894737 top1acc_farmost= 0.2631578947368421 top5acc= 0.6063157894736843 top5acc_farmost= 0.5263157894736842\n",
      "tau =  0.6317607894073898 rmse =  28.39655544877134\n",
      "==============================\n",
      "====event:Indy500, train_len=100, max_len=200, min_len=200\n",
      "carno:1, totallen:200, nancount:0, test_reccnt:9\n",
      "carno:3, totallen:146, nancount:54, test_reccnt:3\n",
      "carno:4, totallen:200, nancount:0, test_reccnt:9\n",
      "carno:6, totallen:200, nancount:0, test_reccnt:9\n",
      "carno:7, totallen:193, nancount:7, test_reccnt:8\n",
      "carno:9, totallen:200, nancount:0, test_reccnt:9\n",
      "a short ts: carid=10，len=57\n",
      "carno:12, totallen:200, nancount:0, test_reccnt:9\n",
      "a short ts: carid=13，len=67\n",
      "carno:14, totallen:187, nancount:13, test_reccnt:7\n",
      "carno:15, totallen:200, nancount:0, test_reccnt:9\n",
      "carno:17, totallen:199, nancount:1, test_reccnt:8\n",
      "carno:18, totallen:137, nancount:63, test_reccnt:2\n",
      "carno:19, totallen:199, nancount:1, test_reccnt:8\n",
      "carno:20, totallen:200, nancount:0, test_reccnt:9\n",
      "carno:21, totallen:199, nancount:1, test_reccnt:8\n",
      "carno:22, totallen:200, nancount:0, test_reccnt:9\n",
      "carno:23, totallen:200, nancount:0, test_reccnt:9\n",
      "carno:24, totallen:154, nancount:46, test_reccnt:4\n",
      "carno:25, totallen:200, nancount:0, test_reccnt:9\n",
      "carno:26, totallen:198, nancount:2, test_reccnt:8\n",
      "carno:27, totallen:200, nancount:0, test_reccnt:9\n",
      "carno:28, totallen:200, nancount:0, test_reccnt:9\n",
      "carno:29, totallen:200, nancount:0, test_reccnt:9\n",
      "a short ts: carid=30，len=46\n",
      "carno:32, totallen:110, nancount:90, test_reccnt:0\n",
      "a short ts: carid=33，len=46\n",
      "carno:59, totallen:198, nancount:2, test_reccnt:8\n",
      "carno:60, totallen:200, nancount:0, test_reccnt:9\n",
      "carno:64, totallen:200, nancount:0, test_reccnt:9\n",
      "carno:66, totallen:200, nancount:0, test_reccnt:9\n",
      "carno:88, totallen:200, nancount:0, test_reccnt:9\n",
      "carno:98, totallen:200, nancount:0, test_reccnt:9\n",
      "train len:0, test len:226\n",
      "model: oracle\n",
      "predicting model=oracle, plen=10\n",
      "loading model...done!, ctx:gpu(0)\n",
      "tss len=226, forecasts len=226\n"
     ]
    },
    {
     "name": "stderr",
     "output_type": "stream",
     "text": [
      "INFO:root:Using GPU\n"
     ]
    },
    {
     "name": "stdout",
     "output_type": "stream",
     "text": [
      "total:9, prediction_length:10\n",
      "top1acc= 0.3111111111111111 top1acc_farmost= 0.2222222222222222 top5acc= 0.5 top5acc_farmost= 0.3111111111111111\n",
      "tau =  0.45349833957944213 rmse =  41.8553293537738\n",
      "model: curtrack\n",
      "predicting model=curtrack, plen=10\n",
      "loading model...done!, ctx:gpu(0)\n",
      "tss len=226, forecasts len=226\n"
     ]
    },
    {
     "name": "stderr",
     "output_type": "stream",
     "text": [
      "INFO:root:Using GPU\n"
     ]
    },
    {
     "name": "stdout",
     "output_type": "stream",
     "text": [
      "total:9, prediction_length:10\n",
      "top1acc= 0.3888888888888889 top1acc_farmost= 0.2222222222222222 top5acc= 0.52 top5acc_farmost= 0.35555555555555557\n",
      "tau =  0.506800649778058 rmse =  37.09030724008502\n",
      "model: zerotrack\n",
      "predicting model=zerotrack, plen=10\n",
      "loading model...done!, ctx:gpu(0)\n"
     ]
    },
    {
     "name": "stderr",
     "output_type": "stream",
     "text": [
      "INFO:root:Using GPU\n"
     ]
    },
    {
     "name": "stdout",
     "output_type": "stream",
     "text": [
      "tss len=226, forecasts len=226\n",
      "total:9, prediction_length:10\n",
      "top1acc= 0.2111111111111111 top1acc_farmost= 0.0 top5acc= 0.4911111111111111 top5acc_farmost= 0.4\n",
      "tau =  0.5289407524337618 rmse =  33.870298466965124\n",
      "==============================\n",
      "====event:Indy500, train_len=100, max_len=200, min_len=200\n",
      "carno:1, totallen:200, nancount:0, test_reccnt:49\n",
      "carno:3, totallen:146, nancount:54, test_reccnt:22\n",
      "carno:4, totallen:200, nancount:0, test_reccnt:49\n",
      "carno:6, totallen:200, nancount:0, test_reccnt:49\n",
      "carno:7, totallen:193, nancount:7, test_reccnt:45\n",
      "carno:9, totallen:200, nancount:0, test_reccnt:49\n",
      "a short ts: carid=10，len=57\n",
      "carno:12, totallen:200, nancount:0, test_reccnt:49\n",
      "a short ts: carid=13，len=67\n",
      "carno:14, totallen:187, nancount:13, test_reccnt:42\n",
      "carno:15, totallen:200, nancount:0, test_reccnt:49\n",
      "carno:17, totallen:199, nancount:1, test_reccnt:48\n",
      "carno:18, totallen:137, nancount:63, test_reccnt:17\n",
      "carno:19, totallen:199, nancount:1, test_reccnt:48\n",
      "carno:20, totallen:200, nancount:0, test_reccnt:49\n",
      "carno:21, totallen:199, nancount:1, test_reccnt:48\n",
      "carno:22, totallen:200, nancount:0, test_reccnt:49\n",
      "carno:23, totallen:200, nancount:0, test_reccnt:49\n",
      "carno:24, totallen:154, nancount:46, test_reccnt:26\n",
      "carno:25, totallen:200, nancount:0, test_reccnt:49\n",
      "carno:26, totallen:198, nancount:2, test_reccnt:48\n",
      "carno:27, totallen:200, nancount:0, test_reccnt:49\n",
      "carno:28, totallen:200, nancount:0, test_reccnt:49\n",
      "carno:29, totallen:200, nancount:0, test_reccnt:49\n",
      "a short ts: carid=30，len=46\n",
      "carno:32, totallen:110, nancount:90, test_reccnt:4\n",
      "a short ts: carid=33，len=46\n",
      "carno:59, totallen:198, nancount:2, test_reccnt:48\n",
      "carno:60, totallen:200, nancount:0, test_reccnt:49\n",
      "carno:64, totallen:200, nancount:0, test_reccnt:49\n",
      "carno:66, totallen:200, nancount:0, test_reccnt:49\n",
      "carno:88, totallen:200, nancount:0, test_reccnt:49\n",
      "carno:98, totallen:200, nancount:0, test_reccnt:49\n",
      "train len:0, test len:1278\n",
      "model: oracle\n",
      "predicting model=oracle, plen=2\n",
      "loading model...done!, ctx:gpu(0)\n",
      "tss len=1278, forecasts len=1278\n"
     ]
    },
    {
     "name": "stderr",
     "output_type": "stream",
     "text": [
      "INFO:root:Using GPU\n"
     ]
    },
    {
     "name": "stdout",
     "output_type": "stream",
     "text": [
      "total:49, prediction_length:2\n",
      "top1acc= 0.5612244897959183 top1acc_farmost= 0.4897959183673469 top5acc= 0.8 top5acc_farmost= 0.746938775510204\n",
      "tau =  0.8141326534927498 rmse =  12.029707335973441\n",
      "model: curtrack\n",
      "predicting model=curtrack, plen=2\n",
      "loading model...done!, ctx:gpu(0)\n",
      "tss len=1278, forecasts len=1278\n"
     ]
    },
    {
     "name": "stderr",
     "output_type": "stream",
     "text": [
      "INFO:root:Using GPU\n"
     ]
    },
    {
     "name": "stdout",
     "output_type": "stream",
     "text": [
      "total:49, prediction_length:2\n",
      "top1acc= 0.5816326530612245 top1acc_farmost= 0.4897959183673469 top5acc= 0.8142857142857143 top5acc_farmost= 0.7387755102040816\n",
      "tau =  0.8146294648928233 rmse =  12.795929603101065\n",
      "model: zerotrack\n",
      "predicting model=zerotrack, plen=2\n",
      "loading model...done!, ctx:gpu(0)\n",
      "tss len=1278, forecasts len=1278\n"
     ]
    },
    {
     "name": "stderr",
     "output_type": "stream",
     "text": [
      "INFO:root:Using GPU\n"
     ]
    },
    {
     "name": "stdout",
     "output_type": "stream",
     "text": [
      "total:49, prediction_length:2\n",
      "top1acc= 0.5306122448979592 top1acc_farmost= 0.4489795918367347 top5acc= 0.789795918367347 top5acc_farmost= 0.7346938775510204\n",
      "tau =  0.8079532234050008 rmse =  12.36361625720742\n",
      "==============================\n",
      "====event:Indy500, train_len=100, max_len=200, min_len=200\n",
      "carno:1, totallen:200, nancount:0, test_reccnt:19\n",
      "carno:3, totallen:146, nancount:54, test_reccnt:8\n",
      "carno:4, totallen:200, nancount:0, test_reccnt:19\n",
      "carno:6, totallen:200, nancount:0, test_reccnt:19\n",
      "carno:7, totallen:193, nancount:7, test_reccnt:17\n",
      "carno:9, totallen:200, nancount:0, test_reccnt:19\n",
      "a short ts: carid=10，len=57\n",
      "carno:12, totallen:200, nancount:0, test_reccnt:19\n",
      "a short ts: carid=13，len=67\n",
      "carno:14, totallen:187, nancount:13, test_reccnt:16\n",
      "carno:15, totallen:200, nancount:0, test_reccnt:19\n",
      "carno:17, totallen:199, nancount:1, test_reccnt:18\n",
      "carno:18, totallen:137, nancount:63, test_reccnt:6\n",
      "carno:19, totallen:199, nancount:1, test_reccnt:18\n",
      "carno:20, totallen:200, nancount:0, test_reccnt:19\n",
      "carno:21, totallen:199, nancount:1, test_reccnt:18\n",
      "carno:22, totallen:200, nancount:0, test_reccnt:19\n",
      "carno:23, totallen:200, nancount:0, test_reccnt:19\n",
      "carno:24, totallen:154, nancount:46, test_reccnt:9\n",
      "carno:25, totallen:200, nancount:0, test_reccnt:19\n",
      "carno:26, totallen:198, nancount:2, test_reccnt:18\n",
      "carno:27, totallen:200, nancount:0, test_reccnt:19\n",
      "carno:28, totallen:200, nancount:0, test_reccnt:19\n",
      "carno:29, totallen:200, nancount:0, test_reccnt:19\n",
      "a short ts: carid=30，len=46\n",
      "carno:32, totallen:110, nancount:90, test_reccnt:1\n",
      "a short ts: carid=33，len=46\n",
      "carno:59, totallen:198, nancount:2, test_reccnt:18\n",
      "carno:60, totallen:200, nancount:0, test_reccnt:19\n",
      "carno:64, totallen:200, nancount:0, test_reccnt:19\n",
      "carno:66, totallen:200, nancount:0, test_reccnt:19\n",
      "carno:88, totallen:200, nancount:0, test_reccnt:19\n",
      "carno:98, totallen:200, nancount:0, test_reccnt:19\n",
      "train len:0, test len:489\n",
      "model: oracle\n",
      "predicting model=oracle, plen=5\n",
      "loading model...done!, ctx:gpu(0)\n",
      "tss len=489, forecasts len=489\n"
     ]
    },
    {
     "name": "stderr",
     "output_type": "stream",
     "text": [
      "INFO:root:Using GPU\n"
     ]
    },
    {
     "name": "stdout",
     "output_type": "stream",
     "text": [
      "total:19, prediction_length:5\n",
      "top1acc= 0.3894736842105263 top1acc_farmost= 0.3157894736842105 top5acc= 0.6063157894736843 top5acc_farmost= 0.49473684210526314\n",
      "tau =  0.6438867256621927 rmse =  27.25457206645055\n",
      "model: curtrack\n",
      "predicting model=curtrack, plen=5\n",
      "loading model...done!, ctx:gpu(0)\n",
      "tss len=489, forecasts len=489\n"
     ]
    },
    {
     "name": "stderr",
     "output_type": "stream",
     "text": [
      "INFO:root:Using GPU\n"
     ]
    },
    {
     "name": "stdout",
     "output_type": "stream",
     "text": [
      "total:19, prediction_length:5\n",
      "top1acc= 0.3684210526315789 top1acc_farmost= 0.3684210526315789 top5acc= 0.6021052631578947 top5acc_farmost= 0.5157894736842106\n",
      "tau =  0.6526731116589072 rmse =  26.870247261177582\n",
      "model: zerotrack\n",
      "predicting model=zerotrack, plen=5\n",
      "loading model...done!, ctx:gpu(0)\n",
      "tss len=489, forecasts len=489\n"
     ]
    },
    {
     "name": "stderr",
     "output_type": "stream",
     "text": [
      "INFO:root:Using GPU\n"
     ]
    },
    {
     "name": "stdout",
     "output_type": "stream",
     "text": [
      "total:19, prediction_length:5\n",
      "top1acc= 0.43157894736842106 top1acc_farmost= 0.3157894736842105 top5acc= 0.5894736842105263 top5acc_farmost= 0.49473684210526314\n",
      "tau =  0.629581903230089 rmse =  28.424905232044345\n",
      "==============================\n",
      "====event:Indy500, train_len=100, max_len=200, min_len=200\n",
      "carno:1, totallen:200, nancount:0, test_reccnt:9\n",
      "carno:3, totallen:146, nancount:54, test_reccnt:3\n",
      "carno:4, totallen:200, nancount:0, test_reccnt:9\n",
      "carno:6, totallen:200, nancount:0, test_reccnt:9\n",
      "carno:7, totallen:193, nancount:7, test_reccnt:8\n",
      "carno:9, totallen:200, nancount:0, test_reccnt:9\n",
      "a short ts: carid=10，len=57\n",
      "carno:12, totallen:200, nancount:0, test_reccnt:9\n",
      "a short ts: carid=13，len=67\n",
      "carno:14, totallen:187, nancount:13, test_reccnt:7\n",
      "carno:15, totallen:200, nancount:0, test_reccnt:9\n",
      "carno:17, totallen:199, nancount:1, test_reccnt:8\n",
      "carno:18, totallen:137, nancount:63, test_reccnt:2\n",
      "carno:19, totallen:199, nancount:1, test_reccnt:8\n",
      "carno:20, totallen:200, nancount:0, test_reccnt:9\n",
      "carno:21, totallen:199, nancount:1, test_reccnt:8\n",
      "carno:22, totallen:200, nancount:0, test_reccnt:9\n",
      "carno:23, totallen:200, nancount:0, test_reccnt:9\n",
      "carno:24, totallen:154, nancount:46, test_reccnt:4\n",
      "carno:25, totallen:200, nancount:0, test_reccnt:9\n",
      "carno:26, totallen:198, nancount:2, test_reccnt:8\n",
      "carno:27, totallen:200, nancount:0, test_reccnt:9\n",
      "carno:28, totallen:200, nancount:0, test_reccnt:9\n",
      "carno:29, totallen:200, nancount:0, test_reccnt:9\n",
      "a short ts: carid=30，len=46\n",
      "carno:32, totallen:110, nancount:90, test_reccnt:0\n",
      "a short ts: carid=33，len=46\n",
      "carno:59, totallen:198, nancount:2, test_reccnt:8\n",
      "carno:60, totallen:200, nancount:0, test_reccnt:9\n",
      "carno:64, totallen:200, nancount:0, test_reccnt:9\n",
      "carno:66, totallen:200, nancount:0, test_reccnt:9\n",
      "carno:88, totallen:200, nancount:0, test_reccnt:9\n",
      "carno:98, totallen:200, nancount:0, test_reccnt:9\n",
      "train len:0, test len:226\n",
      "model: oracle\n",
      "predicting model=oracle, plen=10\n",
      "loading model...done!, ctx:gpu(0)\n",
      "tss len=226, forecasts len=226\n"
     ]
    },
    {
     "name": "stderr",
     "output_type": "stream",
     "text": [
      "INFO:root:Using GPU\n"
     ]
    },
    {
     "name": "stdout",
     "output_type": "stream",
     "text": [
      "total:9, prediction_length:10\n",
      "top1acc= 0.28888888888888886 top1acc_farmost= 0.2222222222222222 top5acc= 0.4777777777777778 top5acc_farmost= 0.35555555555555557\n",
      "tau =  0.45799834558209107 rmse =  41.89720146520147\n",
      "model: curtrack\n",
      "predicting model=curtrack, plen=10\n",
      "loading model...done!, ctx:gpu(0)\n",
      "tss len=226, forecasts len=226\n"
     ]
    },
    {
     "name": "stderr",
     "output_type": "stream",
     "text": [
      "INFO:root:Using GPU\n"
     ]
    },
    {
     "name": "stdout",
     "output_type": "stream",
     "text": [
      "total:9, prediction_length:10\n",
      "top1acc= 0.34444444444444444 top1acc_farmost= 0.2222222222222222 top5acc= 0.5177777777777778 top5acc_farmost= 0.3333333333333333\n",
      "tau =  0.5123908122347167 rmse =  37.15918830552163\n",
      "model: zerotrack\n",
      "predicting model=zerotrack, plen=10\n",
      "loading model...done!, ctx:gpu(0)\n",
      "tss len=226, forecasts len=226\n",
      "total:9, prediction_length:10\n",
      "top1acc= 0.2777777777777778 top1acc_farmost= 0.1111111111111111 top5acc= 0.48444444444444446 top5acc_farmost= 0.37777777777777777\n",
      "tau =  0.5168992496457686 rmse =  34.522448424003976\n"
     ]
    }
   ],
   "source": [
    "#plens=[2,5,10,20,30]\n",
    "plens=[2,5,10]\n",
    "half=[False]\n",
    "#trainids = [\"indy500-r0.2\",\"indy500-r0.4\",\"indy500\"]\n",
    "trainids = [\"r0.5\"]\n",
    "#half=[True,False]\n",
    "#plens=[2]\n",
    "runs = 5\n",
    "train_ratio=0.5 \n",
    "\n",
    "#exp_id='median-r0.8'\n",
    "exp_id='mean-splitbystage-predpit'\n",
    "\n",
    "allret = []\n",
    "for runid in range(runs):\n",
    "    exp_data = []\n",
    "    exp_result = []\n",
    "    \n",
    "    for halfmode in half:\n",
    "        for plen in plens:\n",
    "            for trainid in trainids:\n",
    "                print('='*30)\n",
    "                pred_ret, test_ds, metric_ret = run_exp_predpit(plen, halfmode, \n",
    "                                                        train_ratio=train_ratio,\n",
    "                                                        trainid=trainid)\n",
    "\n",
    "                #save \n",
    "                exp_data.append((pred_ret, test_ds))\n",
    "                exp_result.extend(metric_ret)\n",
    "\n",
    "    #save result\n",
    "    result = pd.DataFrame(exp_result, columns = ['model' , 'prediction_length', 'halfmode',\n",
    "                                       'trainid',\n",
    "                                       'top1acc','top1acc_farmost','top5acc',\n",
    "                                       'top5acc_farmost','tau','rmse'])\n",
    "    \n",
    "    #result['runid'] = [runid for x in range(len(result))]\n",
    "    allret.append(result)\n",
    "\n",
    "\n",
    "#final\n",
    "rowcnt = len(allret[0])\n",
    "metrics = np.empty((runs, rowcnt, 6))\n",
    "for runid, ret in enumerate(allret):\n",
    "    metrics[runid, :,:] = ret[['top1acc','top1acc_farmost','top5acc',\n",
    "                                       'top5acc_farmost','tau','rmse']].values\n",
    "    \n",
    "\n",
    "#average\n",
    "average = np.mean(metrics[:,:,:], axis=0)\n",
    "result = allret[0][['model' , 'prediction_length', 'halfmode',\n",
    "                                       'trainid',\n",
    "                               'top1acc','top1acc_farmost','top5acc',\n",
    "                                       'top5acc_farmost','tau','rmse']].values\n",
    "result[:,4:] = average\n",
    "\n",
    "dfret = pd.DataFrame(result, columns = ['model' , 'prediction_length', 'halfmode',\n",
    "                                   'trainid',\n",
    "                                   'top1acc','top1acc_farmost','top5acc',\n",
    "                                   'top5acc_farmost','tau','rmse'])\n",
    "\n",
    "dfret.to_csv(f'laptime2rank-evaluate-indy500-{exp_id}-r{runs}-t{train_ratio}-result.csv')"
   ]
  },
  {
   "cell_type": "code",
   "execution_count": 44,
   "metadata": {},
   "outputs": [
    {
     "name": "stderr",
     "output_type": "stream",
     "text": [
      "INFO:root:Using GPU\n"
     ]
    },
    {
     "name": "stdout",
     "output_type": "stream",
     "text": [
      "==============================\n",
      "====event:Indy500, train_len=100, max_len=200, min_len=200\n",
      "carno:1, totallen:200, nancount:0, test_reccnt:49\n",
      "carno:3, totallen:146, nancount:54, test_reccnt:22\n",
      "carno:4, totallen:200, nancount:0, test_reccnt:49\n",
      "carno:6, totallen:200, nancount:0, test_reccnt:49\n",
      "carno:7, totallen:193, nancount:7, test_reccnt:45\n",
      "carno:9, totallen:200, nancount:0, test_reccnt:49\n",
      "a short ts: carid=10，len=57\n",
      "carno:12, totallen:200, nancount:0, test_reccnt:49\n",
      "a short ts: carid=13，len=67\n",
      "carno:14, totallen:187, nancount:13, test_reccnt:42\n",
      "carno:15, totallen:200, nancount:0, test_reccnt:49\n",
      "carno:17, totallen:199, nancount:1, test_reccnt:48\n",
      "carno:18, totallen:137, nancount:63, test_reccnt:17\n",
      "carno:19, totallen:199, nancount:1, test_reccnt:48\n",
      "carno:20, totallen:200, nancount:0, test_reccnt:49\n",
      "carno:21, totallen:199, nancount:1, test_reccnt:48\n",
      "carno:22, totallen:200, nancount:0, test_reccnt:49\n",
      "carno:23, totallen:200, nancount:0, test_reccnt:49\n",
      "carno:24, totallen:154, nancount:46, test_reccnt:26\n",
      "carno:25, totallen:200, nancount:0, test_reccnt:49\n",
      "carno:26, totallen:198, nancount:2, test_reccnt:48\n",
      "carno:27, totallen:200, nancount:0, test_reccnt:49\n",
      "carno:28, totallen:200, nancount:0, test_reccnt:49\n",
      "carno:29, totallen:200, nancount:0, test_reccnt:49\n",
      "a short ts: carid=30，len=46\n",
      "carno:32, totallen:110, nancount:90, test_reccnt:4\n",
      "a short ts: carid=33，len=46\n",
      "carno:59, totallen:198, nancount:2, test_reccnt:48\n",
      "carno:60, totallen:200, nancount:0, test_reccnt:49\n",
      "carno:64, totallen:200, nancount:0, test_reccnt:49\n",
      "carno:66, totallen:200, nancount:0, test_reccnt:49\n",
      "carno:88, totallen:200, nancount:0, test_reccnt:49\n",
      "carno:98, totallen:200, nancount:0, test_reccnt:49\n",
      "train len:0, test len:1278\n",
      "model: oracle\n",
      "predicting model=oracle, plen=2\n",
      "loading model...done!, ctx:gpu(0)\n",
      "tss len=1278, forecasts len=1278\n"
     ]
    },
    {
     "name": "stderr",
     "output_type": "stream",
     "text": [
      "INFO:root:Using GPU\n"
     ]
    },
    {
     "name": "stdout",
     "output_type": "stream",
     "text": [
      "total:49, prediction_length:2\n",
      "top1acc= 0.6020408163265306 top1acc_farmost= 0.5510204081632653 top5acc= 0.8061224489795918 top5acc_farmost= 0.7551020408163265\n",
      "tau =  0.8283667707906474 rmse =  10.829043207520856\n",
      "model: curtrack\n",
      "predicting model=curtrack, plen=2\n",
      "loading model...done!, ctx:gpu(0)\n",
      "tss len=1278, forecasts len=1278\n"
     ]
    },
    {
     "name": "stderr",
     "output_type": "stream",
     "text": [
      "INFO:root:Using GPU\n"
     ]
    },
    {
     "name": "stdout",
     "output_type": "stream",
     "text": [
      "total:49, prediction_length:2\n",
      "top1acc= 0.5918367346938775 top1acc_farmost= 0.4897959183673469 top5acc= 0.8204081632653061 top5acc_farmost= 0.7551020408163265\n",
      "tau =  0.8313531961729667 rmse =  11.088275800364501\n",
      "model: zerotrack\n",
      "predicting model=zerotrack, plen=2\n",
      "loading model...done!, ctx:gpu(0)\n",
      "tss len=1278, forecasts len=1278\n"
     ]
    },
    {
     "name": "stderr",
     "output_type": "stream",
     "text": [
      "INFO:root:Using GPU\n"
     ]
    },
    {
     "name": "stdout",
     "output_type": "stream",
     "text": [
      "total:49, prediction_length:2\n",
      "top1acc= 0.5 top1acc_farmost= 0.3877551020408163 top5acc= 0.7795918367346939 top5acc_farmost= 0.7061224489795919\n",
      "tau =  0.806726977213442 rmse =  12.237542431657264\n",
      "==============================\n",
      "====event:Indy500, train_len=100, max_len=200, min_len=200\n",
      "carno:1, totallen:200, nancount:0, test_reccnt:19\n",
      "carno:3, totallen:146, nancount:54, test_reccnt:8\n",
      "carno:4, totallen:200, nancount:0, test_reccnt:19\n",
      "carno:6, totallen:200, nancount:0, test_reccnt:19\n",
      "carno:7, totallen:193, nancount:7, test_reccnt:17\n",
      "carno:9, totallen:200, nancount:0, test_reccnt:19\n",
      "a short ts: carid=10，len=57\n",
      "carno:12, totallen:200, nancount:0, test_reccnt:19\n",
      "a short ts: carid=13，len=67\n",
      "carno:14, totallen:187, nancount:13, test_reccnt:16\n",
      "carno:15, totallen:200, nancount:0, test_reccnt:19\n",
      "carno:17, totallen:199, nancount:1, test_reccnt:18\n",
      "carno:18, totallen:137, nancount:63, test_reccnt:6\n",
      "carno:19, totallen:199, nancount:1, test_reccnt:18\n",
      "carno:20, totallen:200, nancount:0, test_reccnt:19\n",
      "carno:21, totallen:199, nancount:1, test_reccnt:18\n",
      "carno:22, totallen:200, nancount:0, test_reccnt:19\n",
      "carno:23, totallen:200, nancount:0, test_reccnt:19\n",
      "carno:24, totallen:154, nancount:46, test_reccnt:9\n",
      "carno:25, totallen:200, nancount:0, test_reccnt:19\n",
      "carno:26, totallen:198, nancount:2, test_reccnt:18\n",
      "carno:27, totallen:200, nancount:0, test_reccnt:19\n",
      "carno:28, totallen:200, nancount:0, test_reccnt:19\n",
      "carno:29, totallen:200, nancount:0, test_reccnt:19\n",
      "a short ts: carid=30，len=46\n",
      "carno:32, totallen:110, nancount:90, test_reccnt:1\n",
      "a short ts: carid=33，len=46\n",
      "carno:59, totallen:198, nancount:2, test_reccnt:18\n",
      "carno:60, totallen:200, nancount:0, test_reccnt:19\n",
      "carno:64, totallen:200, nancount:0, test_reccnt:19\n",
      "carno:66, totallen:200, nancount:0, test_reccnt:19\n",
      "carno:88, totallen:200, nancount:0, test_reccnt:19\n",
      "carno:98, totallen:200, nancount:0, test_reccnt:19\n",
      "train len:0, test len:489\n",
      "model: oracle\n",
      "predicting model=oracle, plen=5\n",
      "loading model...done!, ctx:gpu(0)\n",
      "tss len=489, forecasts len=489\n"
     ]
    },
    {
     "name": "stderr",
     "output_type": "stream",
     "text": [
      "INFO:root:Using GPU\n"
     ]
    },
    {
     "name": "stdout",
     "output_type": "stream",
     "text": [
      "total:19, prediction_length:5\n",
      "top1acc= 0.4 top1acc_farmost= 0.3157894736842105 top5acc= 0.6063157894736843 top5acc_farmost= 0.5052631578947369\n",
      "tau =  0.658809135896747 rmse =  25.56877710967792\n",
      "model: curtrack\n",
      "predicting model=curtrack, plen=5\n",
      "loading model...done!, ctx:gpu(0)\n",
      "tss len=489, forecasts len=489\n"
     ]
    },
    {
     "name": "stderr",
     "output_type": "stream",
     "text": [
      "INFO:root:Using GPU\n"
     ]
    },
    {
     "name": "stdout",
     "output_type": "stream",
     "text": [
      "total:19, prediction_length:5\n",
      "top1acc= 0.4 top1acc_farmost= 0.3157894736842105 top5acc= 0.6042105263157894 top5acc_farmost= 0.5052631578947369\n",
      "tau =  0.6641457130102597 rmse =  25.23362341205851\n",
      "model: zerotrack\n",
      "predicting model=zerotrack, plen=5\n",
      "loading model...done!, ctx:gpu(0)\n",
      "tss len=489, forecasts len=489\n"
     ]
    },
    {
     "name": "stderr",
     "output_type": "stream",
     "text": [
      "INFO:root:Using GPU\n"
     ]
    },
    {
     "name": "stdout",
     "output_type": "stream",
     "text": [
      "total:19, prediction_length:5\n",
      "top1acc= 0.4421052631578947 top1acc_farmost= 0.2631578947368421 top5acc= 0.608421052631579 top5acc_farmost= 0.5263157894736842\n",
      "tau =  0.6375590669870997 rmse =  28.11847777358027\n",
      "==============================\n",
      "====event:Indy500, train_len=100, max_len=200, min_len=200\n",
      "carno:1, totallen:200, nancount:0, test_reccnt:9\n",
      "carno:3, totallen:146, nancount:54, test_reccnt:3\n",
      "carno:4, totallen:200, nancount:0, test_reccnt:9\n",
      "carno:6, totallen:200, nancount:0, test_reccnt:9\n",
      "carno:7, totallen:193, nancount:7, test_reccnt:8\n",
      "carno:9, totallen:200, nancount:0, test_reccnt:9\n",
      "a short ts: carid=10，len=57\n",
      "carno:12, totallen:200, nancount:0, test_reccnt:9\n",
      "a short ts: carid=13，len=67\n",
      "carno:14, totallen:187, nancount:13, test_reccnt:7\n",
      "carno:15, totallen:200, nancount:0, test_reccnt:9\n",
      "carno:17, totallen:199, nancount:1, test_reccnt:8\n",
      "carno:18, totallen:137, nancount:63, test_reccnt:2\n",
      "carno:19, totallen:199, nancount:1, test_reccnt:8\n",
      "carno:20, totallen:200, nancount:0, test_reccnt:9\n",
      "carno:21, totallen:199, nancount:1, test_reccnt:8\n",
      "carno:22, totallen:200, nancount:0, test_reccnt:9\n",
      "carno:23, totallen:200, nancount:0, test_reccnt:9\n",
      "carno:24, totallen:154, nancount:46, test_reccnt:4\n",
      "carno:25, totallen:200, nancount:0, test_reccnt:9\n",
      "carno:26, totallen:198, nancount:2, test_reccnt:8\n",
      "carno:27, totallen:200, nancount:0, test_reccnt:9\n",
      "carno:28, totallen:200, nancount:0, test_reccnt:9\n",
      "carno:29, totallen:200, nancount:0, test_reccnt:9\n",
      "a short ts: carid=30，len=46\n",
      "carno:32, totallen:110, nancount:90, test_reccnt:0\n",
      "a short ts: carid=33，len=46\n",
      "carno:59, totallen:198, nancount:2, test_reccnt:8\n",
      "carno:60, totallen:200, nancount:0, test_reccnt:9\n",
      "carno:64, totallen:200, nancount:0, test_reccnt:9\n",
      "carno:66, totallen:200, nancount:0, test_reccnt:9\n",
      "carno:88, totallen:200, nancount:0, test_reccnt:9\n",
      "carno:98, totallen:200, nancount:0, test_reccnt:9\n",
      "train len:0, test len:226\n",
      "model: oracle\n",
      "predicting model=oracle, plen=10\n",
      "loading model...done!, ctx:gpu(0)\n",
      "tss len=226, forecasts len=226\n"
     ]
    },
    {
     "name": "stderr",
     "output_type": "stream",
     "text": [
      "INFO:root:Using GPU\n"
     ]
    },
    {
     "name": "stdout",
     "output_type": "stream",
     "text": [
      "total:9, prediction_length:10\n",
      "top1acc= 0.3111111111111111 top1acc_farmost= 0.2222222222222222 top5acc= 0.54 top5acc_farmost= 0.3333333333333333\n",
      "tau =  0.49563397575554446 rmse =  36.125874055985165\n",
      "model: curtrack\n",
      "predicting model=curtrack, plen=10\n",
      "loading model...done!, ctx:gpu(0)\n",
      "tss len=226, forecasts len=226\n"
     ]
    },
    {
     "name": "stderr",
     "output_type": "stream",
     "text": [
      "INFO:root:Using GPU\n"
     ]
    },
    {
     "name": "stdout",
     "output_type": "stream",
     "text": [
      "total:9, prediction_length:10\n",
      "top1acc= 0.32222222222222224 top1acc_farmost= 0.1111111111111111 top5acc= 0.5288888888888889 top5acc_farmost= 0.37777777777777777\n",
      "tau =  0.5204823584927591 rmse =  33.205420838420835\n",
      "model: zerotrack\n",
      "predicting model=zerotrack, plen=10\n",
      "loading model...done!, ctx:gpu(0)\n",
      "tss len=226, forecasts len=226\n"
     ]
    },
    {
     "name": "stderr",
     "output_type": "stream",
     "text": [
      "INFO:root:Using GPU\n"
     ]
    },
    {
     "name": "stdout",
     "output_type": "stream",
     "text": [
      "total:9, prediction_length:10\n",
      "top1acc= 0.23333333333333334 top1acc_farmost= 0.1111111111111111 top5acc= 0.4688888888888889 top5acc_farmost= 0.3333333333333333\n",
      "tau =  0.5038533278557717 rmse =  35.20970465337132\n",
      "==============================\n",
      "====event:Indy500, train_len=100, max_len=200, min_len=200\n",
      "carno:1, totallen:200, nancount:0, test_reccnt:49\n",
      "carno:3, totallen:146, nancount:54, test_reccnt:22\n",
      "carno:4, totallen:200, nancount:0, test_reccnt:49\n",
      "carno:6, totallen:200, nancount:0, test_reccnt:49\n",
      "carno:7, totallen:193, nancount:7, test_reccnt:45\n",
      "carno:9, totallen:200, nancount:0, test_reccnt:49\n",
      "a short ts: carid=10，len=57\n",
      "carno:12, totallen:200, nancount:0, test_reccnt:49\n",
      "a short ts: carid=13，len=67\n",
      "carno:14, totallen:187, nancount:13, test_reccnt:42\n",
      "carno:15, totallen:200, nancount:0, test_reccnt:49\n",
      "carno:17, totallen:199, nancount:1, test_reccnt:48\n",
      "carno:18, totallen:137, nancount:63, test_reccnt:17\n",
      "carno:19, totallen:199, nancount:1, test_reccnt:48\n",
      "carno:20, totallen:200, nancount:0, test_reccnt:49\n",
      "carno:21, totallen:199, nancount:1, test_reccnt:48\n",
      "carno:22, totallen:200, nancount:0, test_reccnt:49\n",
      "carno:23, totallen:200, nancount:0, test_reccnt:49\n",
      "carno:24, totallen:154, nancount:46, test_reccnt:26\n",
      "carno:25, totallen:200, nancount:0, test_reccnt:49\n",
      "carno:26, totallen:198, nancount:2, test_reccnt:48\n",
      "carno:27, totallen:200, nancount:0, test_reccnt:49\n",
      "carno:28, totallen:200, nancount:0, test_reccnt:49\n",
      "carno:29, totallen:200, nancount:0, test_reccnt:49\n",
      "a short ts: carid=30，len=46\n",
      "carno:32, totallen:110, nancount:90, test_reccnt:4\n",
      "a short ts: carid=33，len=46\n",
      "carno:59, totallen:198, nancount:2, test_reccnt:48\n",
      "carno:60, totallen:200, nancount:0, test_reccnt:49\n",
      "carno:64, totallen:200, nancount:0, test_reccnt:49\n",
      "carno:66, totallen:200, nancount:0, test_reccnt:49\n",
      "carno:88, totallen:200, nancount:0, test_reccnt:49\n",
      "carno:98, totallen:200, nancount:0, test_reccnt:49\n",
      "train len:0, test len:1278\n",
      "model: oracle\n",
      "predicting model=oracle, plen=2\n",
      "loading model...done!, ctx:gpu(0)\n",
      "tss len=1278, forecasts len=1278\n"
     ]
    },
    {
     "name": "stderr",
     "output_type": "stream",
     "text": [
      "INFO:root:Using GPU\n"
     ]
    },
    {
     "name": "stdout",
     "output_type": "stream",
     "text": [
      "total:49, prediction_length:2\n",
      "top1acc= 0.6326530612244898 top1acc_farmost= 0.5714285714285714 top5acc= 0.8122448979591836 top5acc_farmost= 0.7591836734693878\n",
      "tau =  0.8322157652166146 rmse =  10.546240187635863\n",
      "model: curtrack\n",
      "predicting model=curtrack, plen=2\n",
      "loading model...done!, ctx:gpu(0)\n",
      "tss len=1278, forecasts len=1278\n"
     ]
    },
    {
     "name": "stderr",
     "output_type": "stream",
     "text": [
      "INFO:root:Using GPU\n"
     ]
    },
    {
     "name": "stdout",
     "output_type": "stream",
     "text": [
      "total:49, prediction_length:2\n",
      "top1acc= 0.5714285714285714 top1acc_farmost= 0.46938775510204084 top5acc= 0.8183673469387756 top5acc_farmost= 0.746938775510204\n",
      "tau =  0.8300614096400493 rmse =  11.027213490635758\n",
      "model: zerotrack\n",
      "predicting model=zerotrack, plen=2\n",
      "loading model...done!, ctx:gpu(0)\n",
      "tss len=1278, forecasts len=1278\n"
     ]
    },
    {
     "name": "stderr",
     "output_type": "stream",
     "text": [
      "INFO:root:Using GPU\n"
     ]
    },
    {
     "name": "stdout",
     "output_type": "stream",
     "text": [
      "total:49, prediction_length:2\n",
      "top1acc= 0.5408163265306123 top1acc_farmost= 0.4489795918367347 top5acc= 0.7877551020408163 top5acc_farmost= 0.726530612244898\n",
      "tau =  0.8103871826934992 rmse =  12.02935271020392\n",
      "==============================\n",
      "====event:Indy500, train_len=100, max_len=200, min_len=200\n",
      "carno:1, totallen:200, nancount:0, test_reccnt:19\n",
      "carno:3, totallen:146, nancount:54, test_reccnt:8\n",
      "carno:4, totallen:200, nancount:0, test_reccnt:19\n",
      "carno:6, totallen:200, nancount:0, test_reccnt:19\n",
      "carno:7, totallen:193, nancount:7, test_reccnt:17\n",
      "carno:9, totallen:200, nancount:0, test_reccnt:19\n",
      "a short ts: carid=10，len=57\n",
      "carno:12, totallen:200, nancount:0, test_reccnt:19\n",
      "a short ts: carid=13，len=67\n",
      "carno:14, totallen:187, nancount:13, test_reccnt:16\n",
      "carno:15, totallen:200, nancount:0, test_reccnt:19\n",
      "carno:17, totallen:199, nancount:1, test_reccnt:18\n",
      "carno:18, totallen:137, nancount:63, test_reccnt:6\n",
      "carno:19, totallen:199, nancount:1, test_reccnt:18\n",
      "carno:20, totallen:200, nancount:0, test_reccnt:19\n",
      "carno:21, totallen:199, nancount:1, test_reccnt:18\n",
      "carno:22, totallen:200, nancount:0, test_reccnt:19\n",
      "carno:23, totallen:200, nancount:0, test_reccnt:19\n",
      "carno:24, totallen:154, nancount:46, test_reccnt:9\n",
      "carno:25, totallen:200, nancount:0, test_reccnt:19\n",
      "carno:26, totallen:198, nancount:2, test_reccnt:18\n",
      "carno:27, totallen:200, nancount:0, test_reccnt:19\n",
      "carno:28, totallen:200, nancount:0, test_reccnt:19\n",
      "carno:29, totallen:200, nancount:0, test_reccnt:19\n",
      "a short ts: carid=30，len=46\n",
      "carno:32, totallen:110, nancount:90, test_reccnt:1\n",
      "a short ts: carid=33，len=46\n",
      "carno:59, totallen:198, nancount:2, test_reccnt:18\n",
      "carno:60, totallen:200, nancount:0, test_reccnt:19\n",
      "carno:64, totallen:200, nancount:0, test_reccnt:19\n",
      "carno:66, totallen:200, nancount:0, test_reccnt:19\n",
      "carno:88, totallen:200, nancount:0, test_reccnt:19\n",
      "carno:98, totallen:200, nancount:0, test_reccnt:19\n",
      "train len:0, test len:489\n",
      "model: oracle\n",
      "predicting model=oracle, plen=5\n",
      "loading model...done!, ctx:gpu(0)\n",
      "tss len=489, forecasts len=489\n"
     ]
    },
    {
     "name": "stderr",
     "output_type": "stream",
     "text": [
      "INFO:root:Using GPU\n"
     ]
    },
    {
     "name": "stdout",
     "output_type": "stream",
     "text": [
      "total:19, prediction_length:5\n",
      "top1acc= 0.4105263157894737 top1acc_farmost= 0.3157894736842105 top5acc= 0.6 top5acc_farmost= 0.5157894736842106\n",
      "tau =  0.6546005037127377 rmse =  26.17283777872005\n",
      "model: curtrack\n",
      "predicting model=curtrack, plen=5\n",
      "loading model...done!, ctx:gpu(0)\n",
      "tss len=489, forecasts len=489\n"
     ]
    },
    {
     "name": "stderr",
     "output_type": "stream",
     "text": [
      "INFO:root:Using GPU\n"
     ]
    },
    {
     "name": "stdout",
     "output_type": "stream",
     "text": [
      "total:19, prediction_length:5\n",
      "top1acc= 0.3894736842105263 top1acc_farmost= 0.3157894736842105 top5acc= 0.5915789473684211 top5acc_farmost= 0.49473684210526314\n",
      "tau =  0.6655232193225128 rmse =  25.192218155237022\n",
      "model: zerotrack\n",
      "predicting model=zerotrack, plen=5\n",
      "loading model...done!, ctx:gpu(0)\n",
      "tss len=489, forecasts len=489\n"
     ]
    },
    {
     "name": "stderr",
     "output_type": "stream",
     "text": [
      "INFO:root:Using GPU\n"
     ]
    },
    {
     "name": "stdout",
     "output_type": "stream",
     "text": [
      "total:19, prediction_length:5\n",
      "top1acc= 0.45263157894736844 top1acc_farmost= 0.3157894736842105 top5acc= 0.5894736842105263 top5acc_farmost= 0.49473684210526314\n",
      "tau =  0.6253031408622479 rmse =  29.743402445747112\n",
      "==============================\n",
      "====event:Indy500, train_len=100, max_len=200, min_len=200\n",
      "carno:1, totallen:200, nancount:0, test_reccnt:9\n",
      "carno:3, totallen:146, nancount:54, test_reccnt:3\n",
      "carno:4, totallen:200, nancount:0, test_reccnt:9\n",
      "carno:6, totallen:200, nancount:0, test_reccnt:9\n",
      "carno:7, totallen:193, nancount:7, test_reccnt:8\n",
      "carno:9, totallen:200, nancount:0, test_reccnt:9\n",
      "a short ts: carid=10，len=57\n",
      "carno:12, totallen:200, nancount:0, test_reccnt:9\n",
      "a short ts: carid=13，len=67\n",
      "carno:14, totallen:187, nancount:13, test_reccnt:7\n",
      "carno:15, totallen:200, nancount:0, test_reccnt:9\n",
      "carno:17, totallen:199, nancount:1, test_reccnt:8\n",
      "carno:18, totallen:137, nancount:63, test_reccnt:2\n",
      "carno:19, totallen:199, nancount:1, test_reccnt:8\n",
      "carno:20, totallen:200, nancount:0, test_reccnt:9\n",
      "carno:21, totallen:199, nancount:1, test_reccnt:8\n",
      "carno:22, totallen:200, nancount:0, test_reccnt:9\n",
      "carno:23, totallen:200, nancount:0, test_reccnt:9\n",
      "carno:24, totallen:154, nancount:46, test_reccnt:4\n",
      "carno:25, totallen:200, nancount:0, test_reccnt:9\n",
      "carno:26, totallen:198, nancount:2, test_reccnt:8\n",
      "carno:27, totallen:200, nancount:0, test_reccnt:9\n",
      "carno:28, totallen:200, nancount:0, test_reccnt:9\n",
      "carno:29, totallen:200, nancount:0, test_reccnt:9\n",
      "a short ts: carid=30，len=46\n",
      "carno:32, totallen:110, nancount:90, test_reccnt:0\n",
      "a short ts: carid=33，len=46\n",
      "carno:59, totallen:198, nancount:2, test_reccnt:8\n",
      "carno:60, totallen:200, nancount:0, test_reccnt:9\n",
      "carno:64, totallen:200, nancount:0, test_reccnt:9\n",
      "carno:66, totallen:200, nancount:0, test_reccnt:9\n",
      "carno:88, totallen:200, nancount:0, test_reccnt:9\n",
      "carno:98, totallen:200, nancount:0, test_reccnt:9\n",
      "train len:0, test len:226\n",
      "model: oracle\n",
      "predicting model=oracle, plen=10\n",
      "loading model...done!, ctx:gpu(0)\n",
      "tss len=226, forecasts len=226\n"
     ]
    },
    {
     "name": "stderr",
     "output_type": "stream",
     "text": [
      "INFO:root:Using GPU\n"
     ]
    },
    {
     "name": "stdout",
     "output_type": "stream",
     "text": [
      "total:9, prediction_length:10\n",
      "top1acc= 0.3111111111111111 top1acc_farmost= 0.2222222222222222 top5acc= 0.5311111111111111 top5acc_farmost= 0.3111111111111111\n",
      "tau =  0.5091239179415934 rmse =  35.35797725319947\n",
      "model: curtrack\n",
      "predicting model=curtrack, plen=10\n",
      "loading model...done!, ctx:gpu(0)\n",
      "tss len=226, forecasts len=226\n"
     ]
    },
    {
     "name": "stderr",
     "output_type": "stream",
     "text": [
      "INFO:root:Using GPU\n"
     ]
    },
    {
     "name": "stdout",
     "output_type": "stream",
     "text": [
      "total:9, prediction_length:10\n",
      "top1acc= 0.4222222222222222 top1acc_farmost= 0.2222222222222222 top5acc= 0.5288888888888889 top5acc_farmost= 0.35555555555555557\n",
      "tau =  0.5519862212493074 rmse =  31.302847329625106\n",
      "model: zerotrack\n",
      "predicting model=zerotrack, plen=10\n",
      "loading model...done!, ctx:gpu(0)\n",
      "tss len=226, forecasts len=226\n"
     ]
    },
    {
     "name": "stderr",
     "output_type": "stream",
     "text": [
      "INFO:root:Using GPU\n"
     ]
    },
    {
     "name": "stdout",
     "output_type": "stream",
     "text": [
      "total:9, prediction_length:10\n",
      "top1acc= 0.24444444444444444 top1acc_farmost= 0.1111111111111111 top5acc= 0.4688888888888889 top5acc_farmost= 0.35555555555555557\n",
      "tau =  0.5157310128411577 rmse =  34.826000678334005\n",
      "==============================\n",
      "====event:Indy500, train_len=100, max_len=200, min_len=200\n",
      "carno:1, totallen:200, nancount:0, test_reccnt:49\n",
      "carno:3, totallen:146, nancount:54, test_reccnt:22\n",
      "carno:4, totallen:200, nancount:0, test_reccnt:49\n",
      "carno:6, totallen:200, nancount:0, test_reccnt:49\n",
      "carno:7, totallen:193, nancount:7, test_reccnt:45\n",
      "carno:9, totallen:200, nancount:0, test_reccnt:49\n",
      "a short ts: carid=10，len=57\n",
      "carno:12, totallen:200, nancount:0, test_reccnt:49\n",
      "a short ts: carid=13，len=67\n",
      "carno:14, totallen:187, nancount:13, test_reccnt:42\n",
      "carno:15, totallen:200, nancount:0, test_reccnt:49\n",
      "carno:17, totallen:199, nancount:1, test_reccnt:48\n",
      "carno:18, totallen:137, nancount:63, test_reccnt:17\n",
      "carno:19, totallen:199, nancount:1, test_reccnt:48\n",
      "carno:20, totallen:200, nancount:0, test_reccnt:49\n",
      "carno:21, totallen:199, nancount:1, test_reccnt:48\n",
      "carno:22, totallen:200, nancount:0, test_reccnt:49\n",
      "carno:23, totallen:200, nancount:0, test_reccnt:49\n",
      "carno:24, totallen:154, nancount:46, test_reccnt:26\n",
      "carno:25, totallen:200, nancount:0, test_reccnt:49\n",
      "carno:26, totallen:198, nancount:2, test_reccnt:48\n",
      "carno:27, totallen:200, nancount:0, test_reccnt:49\n",
      "carno:28, totallen:200, nancount:0, test_reccnt:49\n",
      "carno:29, totallen:200, nancount:0, test_reccnt:49\n",
      "a short ts: carid=30，len=46\n",
      "carno:32, totallen:110, nancount:90, test_reccnt:4\n",
      "a short ts: carid=33，len=46\n",
      "carno:59, totallen:198, nancount:2, test_reccnt:48\n",
      "carno:60, totallen:200, nancount:0, test_reccnt:49\n",
      "carno:64, totallen:200, nancount:0, test_reccnt:49\n",
      "carno:66, totallen:200, nancount:0, test_reccnt:49\n",
      "carno:88, totallen:200, nancount:0, test_reccnt:49\n",
      "carno:98, totallen:200, nancount:0, test_reccnt:49\n",
      "train len:0, test len:1278\n",
      "model: oracle\n",
      "predicting model=oracle, plen=2\n",
      "loading model...done!, ctx:gpu(0)\n",
      "tss len=1278, forecasts len=1278\n"
     ]
    },
    {
     "name": "stderr",
     "output_type": "stream",
     "text": [
      "INFO:root:Using GPU\n"
     ]
    },
    {
     "name": "stdout",
     "output_type": "stream",
     "text": [
      "total:49, prediction_length:2\n",
      "top1acc= 0.6632653061224489 top1acc_farmost= 0.5918367346938775 top5acc= 0.7979591836734694 top5acc_farmost= 0.7387755102040816\n",
      "tau =  0.8256232559698834 rmse =  10.757178918825952\n",
      "model: curtrack\n",
      "predicting model=curtrack, plen=2\n",
      "loading model...done!, ctx:gpu(0)\n",
      "tss len=1278, forecasts len=1278\n"
     ]
    },
    {
     "name": "stderr",
     "output_type": "stream",
     "text": [
      "INFO:root:Using GPU\n"
     ]
    },
    {
     "name": "stdout",
     "output_type": "stream",
     "text": [
      "total:49, prediction_length:2\n",
      "top1acc= 0.5612244897959183 top1acc_farmost= 0.4489795918367347 top5acc= 0.8122448979591836 top5acc_farmost= 0.7428571428571429\n",
      "tau =  0.8266165819659852 rmse =  11.406220187543962\n",
      "model: zerotrack\n",
      "predicting model=zerotrack, plen=2\n",
      "loading model...done!, ctx:gpu(0)\n",
      "tss len=1278, forecasts len=1278\n"
     ]
    },
    {
     "name": "stderr",
     "output_type": "stream",
     "text": [
      "INFO:root:Using GPU\n"
     ]
    },
    {
     "name": "stdout",
     "output_type": "stream",
     "text": [
      "total:49, prediction_length:2\n",
      "top1acc= 0.5612244897959183 top1acc_farmost= 0.5102040816326531 top5acc= 0.7959183673469388 top5acc_farmost= 0.7346938775510204\n",
      "tau =  0.8114847029683353 rmse =  12.041020665566148\n",
      "==============================\n",
      "====event:Indy500, train_len=100, max_len=200, min_len=200\n",
      "carno:1, totallen:200, nancount:0, test_reccnt:19\n",
      "carno:3, totallen:146, nancount:54, test_reccnt:8\n",
      "carno:4, totallen:200, nancount:0, test_reccnt:19\n",
      "carno:6, totallen:200, nancount:0, test_reccnt:19\n",
      "carno:7, totallen:193, nancount:7, test_reccnt:17\n",
      "carno:9, totallen:200, nancount:0, test_reccnt:19\n",
      "a short ts: carid=10，len=57\n",
      "carno:12, totallen:200, nancount:0, test_reccnt:19\n",
      "a short ts: carid=13，len=67\n",
      "carno:14, totallen:187, nancount:13, test_reccnt:16\n",
      "carno:15, totallen:200, nancount:0, test_reccnt:19\n",
      "carno:17, totallen:199, nancount:1, test_reccnt:18\n",
      "carno:18, totallen:137, nancount:63, test_reccnt:6\n",
      "carno:19, totallen:199, nancount:1, test_reccnt:18\n",
      "carno:20, totallen:200, nancount:0, test_reccnt:19\n",
      "carno:21, totallen:199, nancount:1, test_reccnt:18\n",
      "carno:22, totallen:200, nancount:0, test_reccnt:19\n",
      "carno:23, totallen:200, nancount:0, test_reccnt:19\n",
      "carno:24, totallen:154, nancount:46, test_reccnt:9\n",
      "carno:25, totallen:200, nancount:0, test_reccnt:19\n",
      "carno:26, totallen:198, nancount:2, test_reccnt:18\n",
      "carno:27, totallen:200, nancount:0, test_reccnt:19\n",
      "carno:28, totallen:200, nancount:0, test_reccnt:19\n",
      "carno:29, totallen:200, nancount:0, test_reccnt:19\n",
      "a short ts: carid=30，len=46\n",
      "carno:32, totallen:110, nancount:90, test_reccnt:1\n",
      "a short ts: carid=33，len=46\n",
      "carno:59, totallen:198, nancount:2, test_reccnt:18\n",
      "carno:60, totallen:200, nancount:0, test_reccnt:19\n",
      "carno:64, totallen:200, nancount:0, test_reccnt:19\n",
      "carno:66, totallen:200, nancount:0, test_reccnt:19\n",
      "carno:88, totallen:200, nancount:0, test_reccnt:19\n",
      "carno:98, totallen:200, nancount:0, test_reccnt:19\n",
      "train len:0, test len:489\n",
      "model: oracle\n",
      "predicting model=oracle, plen=5\n",
      "loading model...done!, ctx:gpu(0)\n",
      "tss len=489, forecasts len=489\n"
     ]
    },
    {
     "name": "stderr",
     "output_type": "stream",
     "text": [
      "INFO:root:Using GPU\n"
     ]
    },
    {
     "name": "stdout",
     "output_type": "stream",
     "text": [
      "total:19, prediction_length:5\n",
      "top1acc= 0.4421052631578947 top1acc_farmost= 0.3157894736842105 top5acc= 0.5810526315789474 top5acc_farmost= 0.4842105263157895\n",
      "tau =  0.6502460167468147 rmse =  26.593299300545734\n",
      "model: curtrack\n",
      "predicting model=curtrack, plen=5\n",
      "loading model...done!, ctx:gpu(0)\n",
      "tss len=489, forecasts len=489\n"
     ]
    },
    {
     "name": "stderr",
     "output_type": "stream",
     "text": [
      "INFO:root:Using GPU\n"
     ]
    },
    {
     "name": "stdout",
     "output_type": "stream",
     "text": [
      "total:19, prediction_length:5\n",
      "top1acc= 0.4 top1acc_farmost= 0.3157894736842105 top5acc= 0.6042105263157894 top5acc_farmost= 0.49473684210526314\n",
      "tau =  0.6643639263169343 rmse =  25.39481140626268\n",
      "model: zerotrack\n",
      "predicting model=zerotrack, plen=5\n",
      "loading model...done!, ctx:gpu(0)\n",
      "tss len=489, forecasts len=489\n"
     ]
    },
    {
     "name": "stderr",
     "output_type": "stream",
     "text": [
      "INFO:root:Using GPU\n"
     ]
    },
    {
     "name": "stdout",
     "output_type": "stream",
     "text": [
      "total:19, prediction_length:5\n",
      "top1acc= 0.4421052631578947 top1acc_farmost= 0.2631578947368421 top5acc= 0.5789473684210527 top5acc_farmost= 0.49473684210526314\n",
      "tau =  0.6392907898465466 rmse =  27.74345410740424\n",
      "==============================\n",
      "====event:Indy500, train_len=100, max_len=200, min_len=200\n",
      "carno:1, totallen:200, nancount:0, test_reccnt:9\n",
      "carno:3, totallen:146, nancount:54, test_reccnt:3\n",
      "carno:4, totallen:200, nancount:0, test_reccnt:9\n",
      "carno:6, totallen:200, nancount:0, test_reccnt:9\n",
      "carno:7, totallen:193, nancount:7, test_reccnt:8\n",
      "carno:9, totallen:200, nancount:0, test_reccnt:9\n",
      "a short ts: carid=10，len=57\n",
      "carno:12, totallen:200, nancount:0, test_reccnt:9\n",
      "a short ts: carid=13，len=67\n",
      "carno:14, totallen:187, nancount:13, test_reccnt:7\n",
      "carno:15, totallen:200, nancount:0, test_reccnt:9\n",
      "carno:17, totallen:199, nancount:1, test_reccnt:8\n",
      "carno:18, totallen:137, nancount:63, test_reccnt:2\n",
      "carno:19, totallen:199, nancount:1, test_reccnt:8\n",
      "carno:20, totallen:200, nancount:0, test_reccnt:9\n",
      "carno:21, totallen:199, nancount:1, test_reccnt:8\n",
      "carno:22, totallen:200, nancount:0, test_reccnt:9\n",
      "carno:23, totallen:200, nancount:0, test_reccnt:9\n",
      "carno:24, totallen:154, nancount:46, test_reccnt:4\n",
      "carno:25, totallen:200, nancount:0, test_reccnt:9\n",
      "carno:26, totallen:198, nancount:2, test_reccnt:8\n",
      "carno:27, totallen:200, nancount:0, test_reccnt:9\n",
      "carno:28, totallen:200, nancount:0, test_reccnt:9\n",
      "carno:29, totallen:200, nancount:0, test_reccnt:9\n",
      "a short ts: carid=30，len=46\n",
      "carno:32, totallen:110, nancount:90, test_reccnt:0\n",
      "a short ts: carid=33，len=46\n",
      "carno:59, totallen:198, nancount:2, test_reccnt:8\n",
      "carno:60, totallen:200, nancount:0, test_reccnt:9\n",
      "carno:64, totallen:200, nancount:0, test_reccnt:9\n",
      "carno:66, totallen:200, nancount:0, test_reccnt:9\n",
      "carno:88, totallen:200, nancount:0, test_reccnt:9\n",
      "carno:98, totallen:200, nancount:0, test_reccnt:9\n",
      "train len:0, test len:226\n",
      "model: oracle\n",
      "predicting model=oracle, plen=10\n",
      "loading model...done!, ctx:gpu(0)\n",
      "tss len=226, forecasts len=226\n"
     ]
    },
    {
     "name": "stderr",
     "output_type": "stream",
     "text": [
      "INFO:root:Using GPU\n"
     ]
    },
    {
     "name": "stdout",
     "output_type": "stream",
     "text": [
      "total:9, prediction_length:10\n",
      "top1acc= 0.3111111111111111 top1acc_farmost= 0.2222222222222222 top5acc= 0.5222222222222223 top5acc_farmost= 0.3111111111111111\n",
      "tau =  0.4975701110651949 rmse =  36.00677226066115\n",
      "model: curtrack\n",
      "predicting model=curtrack, plen=10\n",
      "loading model...done!, ctx:gpu(0)\n",
      "tss len=226, forecasts len=226\n"
     ]
    },
    {
     "name": "stderr",
     "output_type": "stream",
     "text": [
      "INFO:root:Using GPU\n"
     ]
    },
    {
     "name": "stdout",
     "output_type": "stream",
     "text": [
      "total:9, prediction_length:10\n",
      "top1acc= 0.5222222222222223 top1acc_farmost= 0.4444444444444444 top5acc= 0.5311111111111111 top5acc_farmost= 0.37777777777777777\n",
      "tau =  0.5239518152808009 rmse =  33.700357798580015\n",
      "model: zerotrack\n",
      "predicting model=zerotrack, plen=10\n",
      "loading model...done!, ctx:gpu(0)\n",
      "tss len=226, forecasts len=226\n",
      "total:9, prediction_length:10\n",
      "top1acc= 0.25555555555555554 top1acc_farmost= 0.1111111111111111 top5acc= 0.4288888888888889 top5acc_farmost= 0.28888888888888886\n",
      "tau =  0.4717900156057303 rmse =  37.97200850178628\n",
      "==============================\n",
      "====event:Indy500, train_len=100, max_len=200, min_len=200\n",
      "carno:1, totallen:200, nancount:0, test_reccnt:49\n"
     ]
    },
    {
     "name": "stderr",
     "output_type": "stream",
     "text": [
      "INFO:root:Using GPU\n"
     ]
    },
    {
     "name": "stdout",
     "output_type": "stream",
     "text": [
      "carno:3, totallen:146, nancount:54, test_reccnt:22\n",
      "carno:4, totallen:200, nancount:0, test_reccnt:49\n",
      "carno:6, totallen:200, nancount:0, test_reccnt:49\n",
      "carno:7, totallen:193, nancount:7, test_reccnt:45\n",
      "carno:9, totallen:200, nancount:0, test_reccnt:49\n",
      "a short ts: carid=10，len=57\n",
      "carno:12, totallen:200, nancount:0, test_reccnt:49\n",
      "a short ts: carid=13，len=67\n",
      "carno:14, totallen:187, nancount:13, test_reccnt:42\n",
      "carno:15, totallen:200, nancount:0, test_reccnt:49\n",
      "carno:17, totallen:199, nancount:1, test_reccnt:48\n",
      "carno:18, totallen:137, nancount:63, test_reccnt:17\n",
      "carno:19, totallen:199, nancount:1, test_reccnt:48\n",
      "carno:20, totallen:200, nancount:0, test_reccnt:49\n",
      "carno:21, totallen:199, nancount:1, test_reccnt:48\n",
      "carno:22, totallen:200, nancount:0, test_reccnt:49\n",
      "carno:23, totallen:200, nancount:0, test_reccnt:49\n",
      "carno:24, totallen:154, nancount:46, test_reccnt:26\n",
      "carno:25, totallen:200, nancount:0, test_reccnt:49\n",
      "carno:26, totallen:198, nancount:2, test_reccnt:48\n",
      "carno:27, totallen:200, nancount:0, test_reccnt:49\n",
      "carno:28, totallen:200, nancount:0, test_reccnt:49\n",
      "carno:29, totallen:200, nancount:0, test_reccnt:49\n",
      "a short ts: carid=30，len=46\n",
      "carno:32, totallen:110, nancount:90, test_reccnt:4\n",
      "a short ts: carid=33，len=46\n",
      "carno:59, totallen:198, nancount:2, test_reccnt:48\n",
      "carno:60, totallen:200, nancount:0, test_reccnt:49\n",
      "carno:64, totallen:200, nancount:0, test_reccnt:49\n",
      "carno:66, totallen:200, nancount:0, test_reccnt:49\n",
      "carno:88, totallen:200, nancount:0, test_reccnt:49\n",
      "carno:98, totallen:200, nancount:0, test_reccnt:49\n",
      "train len:0, test len:1278\n",
      "model: oracle\n",
      "predicting model=oracle, plen=2\n",
      "loading model...done!, ctx:gpu(0)\n",
      "tss len=1278, forecasts len=1278\n"
     ]
    },
    {
     "name": "stderr",
     "output_type": "stream",
     "text": [
      "INFO:root:Using GPU\n"
     ]
    },
    {
     "name": "stdout",
     "output_type": "stream",
     "text": [
      "total:49, prediction_length:2\n",
      "top1acc= 0.5918367346938775 top1acc_farmost= 0.4897959183673469 top5acc= 0.8122448979591836 top5acc_farmost= 0.7551020408163265\n",
      "tau =  0.8289248516046718 rmse =  10.648791964063815\n",
      "model: curtrack\n",
      "predicting model=curtrack, plen=2\n",
      "loading model...done!, ctx:gpu(0)\n",
      "tss len=1278, forecasts len=1278\n"
     ]
    },
    {
     "name": "stderr",
     "output_type": "stream",
     "text": [
      "INFO:root:Using GPU\n"
     ]
    },
    {
     "name": "stdout",
     "output_type": "stream",
     "text": [
      "total:49, prediction_length:2\n",
      "top1acc= 0.6020408163265306 top1acc_farmost= 0.4897959183673469 top5acc= 0.8163265306122449 top5acc_farmost= 0.7428571428571429\n",
      "tau =  0.831930026101677 rmse =  10.91496648432655\n",
      "model: zerotrack\n",
      "predicting model=zerotrack, plen=2\n",
      "loading model...done!, ctx:gpu(0)\n",
      "tss len=1278, forecasts len=1278\n"
     ]
    },
    {
     "name": "stderr",
     "output_type": "stream",
     "text": [
      "INFO:root:Using GPU\n"
     ]
    },
    {
     "name": "stdout",
     "output_type": "stream",
     "text": [
      "total:49, prediction_length:2\n",
      "top1acc= 0.5306122448979592 top1acc_farmost= 0.4897959183673469 top5acc= 0.8061224489795918 top5acc_farmost= 0.746938775510204\n",
      "tau =  0.8160700529284981 rmse =  11.455935665518009\n",
      "==============================\n",
      "====event:Indy500, train_len=100, max_len=200, min_len=200\n",
      "carno:1, totallen:200, nancount:0, test_reccnt:19\n",
      "carno:3, totallen:146, nancount:54, test_reccnt:8\n",
      "carno:4, totallen:200, nancount:0, test_reccnt:19\n",
      "carno:6, totallen:200, nancount:0, test_reccnt:19\n",
      "carno:7, totallen:193, nancount:7, test_reccnt:17\n",
      "carno:9, totallen:200, nancount:0, test_reccnt:19\n",
      "a short ts: carid=10，len=57\n",
      "carno:12, totallen:200, nancount:0, test_reccnt:19\n",
      "a short ts: carid=13，len=67\n",
      "carno:14, totallen:187, nancount:13, test_reccnt:16\n",
      "carno:15, totallen:200, nancount:0, test_reccnt:19\n",
      "carno:17, totallen:199, nancount:1, test_reccnt:18\n",
      "carno:18, totallen:137, nancount:63, test_reccnt:6\n",
      "carno:19, totallen:199, nancount:1, test_reccnt:18\n",
      "carno:20, totallen:200, nancount:0, test_reccnt:19\n",
      "carno:21, totallen:199, nancount:1, test_reccnt:18\n",
      "carno:22, totallen:200, nancount:0, test_reccnt:19\n",
      "carno:23, totallen:200, nancount:0, test_reccnt:19\n",
      "carno:24, totallen:154, nancount:46, test_reccnt:9\n",
      "carno:25, totallen:200, nancount:0, test_reccnt:19\n",
      "carno:26, totallen:198, nancount:2, test_reccnt:18\n",
      "carno:27, totallen:200, nancount:0, test_reccnt:19\n",
      "carno:28, totallen:200, nancount:0, test_reccnt:19\n",
      "carno:29, totallen:200, nancount:0, test_reccnt:19\n",
      "a short ts: carid=30，len=46\n",
      "carno:32, totallen:110, nancount:90, test_reccnt:1\n",
      "a short ts: carid=33，len=46\n",
      "carno:59, totallen:198, nancount:2, test_reccnt:18\n",
      "carno:60, totallen:200, nancount:0, test_reccnt:19\n",
      "carno:64, totallen:200, nancount:0, test_reccnt:19\n",
      "carno:66, totallen:200, nancount:0, test_reccnt:19\n",
      "carno:88, totallen:200, nancount:0, test_reccnt:19\n",
      "carno:98, totallen:200, nancount:0, test_reccnt:19\n",
      "train len:0, test len:489\n",
      "model: oracle\n",
      "predicting model=oracle, plen=5\n",
      "loading model...done!, ctx:gpu(0)\n",
      "tss len=489, forecasts len=489\n"
     ]
    },
    {
     "name": "stderr",
     "output_type": "stream",
     "text": [
      "INFO:root:Using GPU\n"
     ]
    },
    {
     "name": "stdout",
     "output_type": "stream",
     "text": [
      "total:19, prediction_length:5\n",
      "top1acc= 0.4 top1acc_farmost= 0.3157894736842105 top5acc= 0.5894736842105263 top5acc_farmost= 0.49473684210526314\n",
      "tau =  0.6524913322362685 rmse =  26.111233953616335\n",
      "model: curtrack\n",
      "predicting model=curtrack, plen=5\n",
      "loading model...done!, ctx:gpu(0)\n",
      "tss len=489, forecasts len=489\n"
     ]
    },
    {
     "name": "stderr",
     "output_type": "stream",
     "text": [
      "INFO:root:Using GPU\n"
     ]
    },
    {
     "name": "stdout",
     "output_type": "stream",
     "text": [
      "total:19, prediction_length:5\n",
      "top1acc= 0.3894736842105263 top1acc_farmost= 0.3157894736842105 top5acc= 0.5831578947368421 top5acc_farmost= 0.4842105263157895\n",
      "tau =  0.6629018217046644 rmse =  25.199990212977827\n",
      "model: zerotrack\n",
      "predicting model=zerotrack, plen=5\n",
      "loading model...done!, ctx:gpu(0)\n",
      "tss len=489, forecasts len=489\n"
     ]
    },
    {
     "name": "stderr",
     "output_type": "stream",
     "text": [
      "INFO:root:Using GPU\n"
     ]
    },
    {
     "name": "stdout",
     "output_type": "stream",
     "text": [
      "total:19, prediction_length:5\n",
      "top1acc= 0.45263157894736844 top1acc_farmost= 0.3157894736842105 top5acc= 0.6042105263157894 top5acc_farmost= 0.5473684210526316\n",
      "tau =  0.6446022049553448 rmse =  27.241271876303987\n",
      "==============================\n",
      "====event:Indy500, train_len=100, max_len=200, min_len=200\n",
      "carno:1, totallen:200, nancount:0, test_reccnt:9\n",
      "carno:3, totallen:146, nancount:54, test_reccnt:3\n",
      "carno:4, totallen:200, nancount:0, test_reccnt:9\n",
      "carno:6, totallen:200, nancount:0, test_reccnt:9\n",
      "carno:7, totallen:193, nancount:7, test_reccnt:8\n",
      "carno:9, totallen:200, nancount:0, test_reccnt:9\n",
      "a short ts: carid=10，len=57\n",
      "carno:12, totallen:200, nancount:0, test_reccnt:9\n",
      "a short ts: carid=13，len=67\n",
      "carno:14, totallen:187, nancount:13, test_reccnt:7\n",
      "carno:15, totallen:200, nancount:0, test_reccnt:9\n",
      "carno:17, totallen:199, nancount:1, test_reccnt:8\n",
      "carno:18, totallen:137, nancount:63, test_reccnt:2\n",
      "carno:19, totallen:199, nancount:1, test_reccnt:8\n",
      "carno:20, totallen:200, nancount:0, test_reccnt:9\n",
      "carno:21, totallen:199, nancount:1, test_reccnt:8\n",
      "carno:22, totallen:200, nancount:0, test_reccnt:9\n",
      "carno:23, totallen:200, nancount:0, test_reccnt:9\n",
      "carno:24, totallen:154, nancount:46, test_reccnt:4\n",
      "carno:25, totallen:200, nancount:0, test_reccnt:9\n",
      "carno:26, totallen:198, nancount:2, test_reccnt:8\n",
      "carno:27, totallen:200, nancount:0, test_reccnt:9\n",
      "carno:28, totallen:200, nancount:0, test_reccnt:9\n",
      "carno:29, totallen:200, nancount:0, test_reccnt:9\n",
      "a short ts: carid=30，len=46\n",
      "carno:32, totallen:110, nancount:90, test_reccnt:0\n",
      "a short ts: carid=33，len=46\n",
      "carno:59, totallen:198, nancount:2, test_reccnt:8\n",
      "carno:60, totallen:200, nancount:0, test_reccnt:9\n",
      "carno:64, totallen:200, nancount:0, test_reccnt:9\n",
      "carno:66, totallen:200, nancount:0, test_reccnt:9\n",
      "carno:88, totallen:200, nancount:0, test_reccnt:9\n",
      "carno:98, totallen:200, nancount:0, test_reccnt:9\n",
      "train len:0, test len:226\n",
      "model: oracle\n",
      "predicting model=oracle, plen=10\n",
      "loading model...done!, ctx:gpu(0)\n",
      "tss len=226, forecasts len=226\n"
     ]
    },
    {
     "name": "stderr",
     "output_type": "stream",
     "text": [
      "INFO:root:Using GPU\n"
     ]
    },
    {
     "name": "stdout",
     "output_type": "stream",
     "text": [
      "total:9, prediction_length:10\n",
      "top1acc= 0.3111111111111111 top1acc_farmost= 0.2222222222222222 top5acc= 0.5311111111111111 top5acc_farmost= 0.3333333333333333\n",
      "tau =  0.5059980513250761 rmse =  35.43869312169312\n",
      "model: curtrack\n",
      "predicting model=curtrack, plen=10\n",
      "loading model...done!, ctx:gpu(0)\n",
      "tss len=226, forecasts len=226\n"
     ]
    },
    {
     "name": "stderr",
     "output_type": "stream",
     "text": [
      "INFO:root:Using GPU\n"
     ]
    },
    {
     "name": "stdout",
     "output_type": "stream",
     "text": [
      "total:9, prediction_length:10\n",
      "top1acc= 0.45555555555555555 top1acc_farmost= 0.3333333333333333 top5acc= 0.5577777777777778 top5acc_farmost= 0.4\n",
      "tau =  0.5486344767164887 rmse =  31.169203047980822\n",
      "model: zerotrack\n",
      "predicting model=zerotrack, plen=10\n",
      "loading model...done!, ctx:gpu(0)\n",
      "tss len=226, forecasts len=226\n",
      "total:9, prediction_length:10\n",
      "top1acc= 0.23333333333333334 top1acc_farmost= 0.1111111111111111 top5acc= 0.4444444444444444 top5acc_farmost= 0.3111111111111111\n",
      "tau =  0.4965391522941396 rmse =  36.28143490254601\n",
      "==============================\n",
      "====event:Indy500, train_len=100, max_len=200, min_len=200\n",
      "carno:1, totallen:200, nancount:0, test_reccnt:49\n",
      "carno:3, totallen:146, nancount:54, test_reccnt:22\n",
      "carno:4, totallen:200, nancount:0, test_reccnt:49\n",
      "carno:6, totallen:200, nancount:0, test_reccnt:49\n",
      "carno:7, totallen:193, nancount:7, test_reccnt:45\n",
      "carno:9, totallen:200, nancount:0, test_reccnt:49\n",
      "a short ts: carid=10，len=57\n",
      "carno:12, totallen:200, nancount:0, test_reccnt:49\n",
      "a short ts: carid=13，len=67\n",
      "carno:14, totallen:187, nancount:13, test_reccnt:42\n",
      "carno:15, totallen:200, nancount:0, test_reccnt:49\n",
      "carno:17, totallen:199, nancount:1, test_reccnt:48\n",
      "carno:18, totallen:137, nancount:63, test_reccnt:17\n",
      "carno:19, totallen:199, nancount:1, test_reccnt:48"
     ]
    },
    {
     "name": "stderr",
     "output_type": "stream",
     "text": [
      "INFO:root:Using GPU\n"
     ]
    },
    {
     "name": "stdout",
     "output_type": "stream",
     "text": [
      "\n",
      "carno:20, totallen:200, nancount:0, test_reccnt:49\n",
      "carno:21, totallen:199, nancount:1, test_reccnt:48\n",
      "carno:22, totallen:200, nancount:0, test_reccnt:49\n",
      "carno:23, totallen:200, nancount:0, test_reccnt:49\n",
      "carno:24, totallen:154, nancount:46, test_reccnt:26\n",
      "carno:25, totallen:200, nancount:0, test_reccnt:49\n",
      "carno:26, totallen:198, nancount:2, test_reccnt:48\n",
      "carno:27, totallen:200, nancount:0, test_reccnt:49\n",
      "carno:28, totallen:200, nancount:0, test_reccnt:49\n",
      "carno:29, totallen:200, nancount:0, test_reccnt:49\n",
      "a short ts: carid=30，len=46\n",
      "carno:32, totallen:110, nancount:90, test_reccnt:4\n",
      "a short ts: carid=33，len=46\n",
      "carno:59, totallen:198, nancount:2, test_reccnt:48\n",
      "carno:60, totallen:200, nancount:0, test_reccnt:49\n",
      "carno:64, totallen:200, nancount:0, test_reccnt:49\n",
      "carno:66, totallen:200, nancount:0, test_reccnt:49\n",
      "carno:88, totallen:200, nancount:0, test_reccnt:49\n",
      "carno:98, totallen:200, nancount:0, test_reccnt:49\n",
      "train len:0, test len:1278\n",
      "model: oracle\n",
      "predicting model=oracle, plen=2\n",
      "loading model...done!, ctx:gpu(0)\n",
      "tss len=1278, forecasts len=1278\n"
     ]
    },
    {
     "name": "stderr",
     "output_type": "stream",
     "text": [
      "INFO:root:Using GPU\n"
     ]
    },
    {
     "name": "stdout",
     "output_type": "stream",
     "text": [
      "total:49, prediction_length:2\n",
      "top1acc= 0.6122448979591837 top1acc_farmost= 0.5306122448979592 top5acc= 0.810204081632653 top5acc_farmost= 0.7551020408163265\n",
      "tau =  0.829243091420928 rmse =  10.646346637675157\n",
      "model: curtrack\n",
      "predicting model=curtrack, plen=2\n",
      "loading model...done!, ctx:gpu(0)\n",
      "tss len=1278, forecasts len=1278\n"
     ]
    },
    {
     "name": "stderr",
     "output_type": "stream",
     "text": [
      "INFO:root:Using GPU\n"
     ]
    },
    {
     "name": "stdout",
     "output_type": "stream",
     "text": [
      "total:49, prediction_length:2\n",
      "top1acc= 0.5918367346938775 top1acc_farmost= 0.4897959183673469 top5acc= 0.8183673469387756 top5acc_farmost= 0.7551020408163265\n",
      "tau =  0.8306341819800337 rmse =  10.99792339987839\n",
      "model: zerotrack\n",
      "predicting model=zerotrack, plen=2\n",
      "loading model...done!, ctx:gpu(0)\n",
      "tss len=1278, forecasts len=1278\n"
     ]
    },
    {
     "name": "stderr",
     "output_type": "stream",
     "text": [
      "INFO:root:Using GPU\n"
     ]
    },
    {
     "name": "stdout",
     "output_type": "stream",
     "text": [
      "total:49, prediction_length:2\n",
      "top1acc= 0.5 top1acc_farmost= 0.4489795918367347 top5acc= 0.8122448979591836 top5acc_farmost= 0.763265306122449\n",
      "tau =  0.8162581106012345 rmse =  11.494159403067398\n",
      "==============================\n",
      "====event:Indy500, train_len=100, max_len=200, min_len=200\n",
      "carno:1, totallen:200, nancount:0, test_reccnt:19\n",
      "carno:3, totallen:146, nancount:54, test_reccnt:8\n",
      "carno:4, totallen:200, nancount:0, test_reccnt:19\n",
      "carno:6, totallen:200, nancount:0, test_reccnt:19\n",
      "carno:7, totallen:193, nancount:7, test_reccnt:17\n",
      "carno:9, totallen:200, nancount:0, test_reccnt:19\n",
      "a short ts: carid=10，len=57\n",
      "carno:12, totallen:200, nancount:0, test_reccnt:19\n",
      "a short ts: carid=13，len=67\n",
      "carno:14, totallen:187, nancount:13, test_reccnt:16\n",
      "carno:15, totallen:200, nancount:0, test_reccnt:19\n",
      "carno:17, totallen:199, nancount:1, test_reccnt:18\n",
      "carno:18, totallen:137, nancount:63, test_reccnt:6\n",
      "carno:19, totallen:199, nancount:1, test_reccnt:18\n",
      "carno:20, totallen:200, nancount:0, test_reccnt:19\n",
      "carno:21, totallen:199, nancount:1, test_reccnt:18\n",
      "carno:22, totallen:200, nancount:0, test_reccnt:19\n",
      "carno:23, totallen:200, nancount:0, test_reccnt:19\n",
      "carno:24, totallen:154, nancount:46, test_reccnt:9\n",
      "carno:25, totallen:200, nancount:0, test_reccnt:19\n",
      "carno:26, totallen:198, nancount:2, test_reccnt:18\n",
      "carno:27, totallen:200, nancount:0, test_reccnt:19\n",
      "carno:28, totallen:200, nancount:0, test_reccnt:19\n",
      "carno:29, totallen:200, nancount:0, test_reccnt:19\n",
      "a short ts: carid=30，len=46\n",
      "carno:32, totallen:110, nancount:90, test_reccnt:1\n",
      "a short ts: carid=33，len=46\n",
      "carno:59, totallen:198, nancount:2, test_reccnt:18\n",
      "carno:60, totallen:200, nancount:0, test_reccnt:19\n",
      "carno:64, totallen:200, nancount:0, test_reccnt:19\n",
      "carno:66, totallen:200, nancount:0, test_reccnt:19\n",
      "carno:88, totallen:200, nancount:0, test_reccnt:19\n",
      "carno:98, totallen:200, nancount:0, test_reccnt:19\n",
      "train len:0, test len:489\n",
      "model: oracle\n",
      "predicting model=oracle, plen=5\n",
      "loading model...done!, ctx:gpu(0)\n",
      "tss len=489, forecasts len=489\n"
     ]
    },
    {
     "name": "stderr",
     "output_type": "stream",
     "text": [
      "INFO:root:Using GPU\n"
     ]
    },
    {
     "name": "stdout",
     "output_type": "stream",
     "text": [
      "total:19, prediction_length:5\n",
      "top1acc= 0.3894736842105263 top1acc_farmost= 0.3157894736842105 top5acc= 0.6063157894736843 top5acc_farmost= 0.5157894736842106\n",
      "tau =  0.6598573533302169 rmse =  25.701864680923467\n",
      "model: curtrack\n",
      "predicting model=curtrack, plen=5\n",
      "loading model...done!, ctx:gpu(0)\n",
      "tss len=489, forecasts len=489\n"
     ]
    },
    {
     "name": "stderr",
     "output_type": "stream",
     "text": [
      "INFO:root:Using GPU\n"
     ]
    },
    {
     "name": "stdout",
     "output_type": "stream",
     "text": [
      "total:19, prediction_length:5\n",
      "top1acc= 0.37894736842105264 top1acc_farmost= 0.3157894736842105 top5acc= 0.5936842105263158 top5acc_farmost= 0.49473684210526314\n",
      "tau =  0.6664257322034143 rmse =  24.987946931938566\n",
      "model: zerotrack\n",
      "predicting model=zerotrack, plen=5\n",
      "loading model...done!, ctx:gpu(0)\n",
      "tss len=489, forecasts len=489\n"
     ]
    },
    {
     "name": "stderr",
     "output_type": "stream",
     "text": [
      "INFO:root:Using GPU\n"
     ]
    },
    {
     "name": "stdout",
     "output_type": "stream",
     "text": [
      "total:19, prediction_length:5\n",
      "top1acc= 0.4421052631578947 top1acc_farmost= 0.2631578947368421 top5acc= 0.5705263157894737 top5acc_farmost= 0.4842105263157895\n",
      "tau =  0.6235236122028274 rmse =  30.08152451934177\n",
      "==============================\n",
      "====event:Indy500, train_len=100, max_len=200, min_len=200\n",
      "carno:1, totallen:200, nancount:0, test_reccnt:9\n",
      "carno:3, totallen:146, nancount:54, test_reccnt:3\n",
      "carno:4, totallen:200, nancount:0, test_reccnt:9\n",
      "carno:6, totallen:200, nancount:0, test_reccnt:9\n",
      "carno:7, totallen:193, nancount:7, test_reccnt:8\n",
      "carno:9, totallen:200, nancount:0, test_reccnt:9\n",
      "a short ts: carid=10，len=57\n",
      "carno:12, totallen:200, nancount:0, test_reccnt:9\n",
      "a short ts: carid=13，len=67\n",
      "carno:14, totallen:187, nancount:13, test_reccnt:7\n",
      "carno:15, totallen:200, nancount:0, test_reccnt:9\n",
      "carno:17, totallen:199, nancount:1, test_reccnt:8\n",
      "carno:18, totallen:137, nancount:63, test_reccnt:2\n",
      "carno:19, totallen:199, nancount:1, test_reccnt:8\n",
      "carno:20, totallen:200, nancount:0, test_reccnt:9\n",
      "carno:21, totallen:199, nancount:1, test_reccnt:8\n",
      "carno:22, totallen:200, nancount:0, test_reccnt:9\n",
      "carno:23, totallen:200, nancount:0, test_reccnt:9\n",
      "carno:24, totallen:154, nancount:46, test_reccnt:4\n",
      "carno:25, totallen:200, nancount:0, test_reccnt:9\n",
      "carno:26, totallen:198, nancount:2, test_reccnt:8\n",
      "carno:27, totallen:200, nancount:0, test_reccnt:9\n",
      "carno:28, totallen:200, nancount:0, test_reccnt:9\n",
      "carno:29, totallen:200, nancount:0, test_reccnt:9\n",
      "a short ts: carid=30，len=46\n",
      "carno:32, totallen:110, nancount:90, test_reccnt:0\n",
      "a short ts: carid=33，len=46\n",
      "carno:59, totallen:198, nancount:2, test_reccnt:8\n",
      "carno:60, totallen:200, nancount:0, test_reccnt:9\n",
      "carno:64, totallen:200, nancount:0, test_reccnt:9\n",
      "carno:66, totallen:200, nancount:0, test_reccnt:9\n",
      "carno:88, totallen:200, nancount:0, test_reccnt:9\n",
      "carno:98, totallen:200, nancount:0, test_reccnt:9\n",
      "train len:0, test len:226\n",
      "model: oracle\n",
      "predicting model=oracle, plen=10\n",
      "loading model...done!, ctx:gpu(0)\n",
      "tss len=226, forecasts len=226\n"
     ]
    },
    {
     "name": "stderr",
     "output_type": "stream",
     "text": [
      "INFO:root:Using GPU\n"
     ]
    },
    {
     "name": "stdout",
     "output_type": "stream",
     "text": [
      "total:9, prediction_length:10\n",
      "top1acc= 0.28888888888888886 top1acc_farmost= 0.2222222222222222 top5acc= 0.5377777777777778 top5acc_farmost= 0.35555555555555557\n",
      "tau =  0.5093979387551708 rmse =  35.403856645412205\n",
      "model: curtrack\n",
      "predicting model=curtrack, plen=10\n",
      "loading model...done!, ctx:gpu(0)\n",
      "tss len=226, forecasts len=226\n"
     ]
    },
    {
     "name": "stderr",
     "output_type": "stream",
     "text": [
      "INFO:root:Using GPU\n"
     ]
    },
    {
     "name": "stdout",
     "output_type": "stream",
     "text": [
      "total:9, prediction_length:10\n",
      "top1acc= 0.36666666666666664 top1acc_farmost= 0.2222222222222222 top5acc= 0.56 top5acc_farmost= 0.4222222222222222\n",
      "tau =  0.5401926667293533 rmse =  31.764083073305294\n",
      "model: zerotrack\n",
      "predicting model=zerotrack, plen=10\n",
      "loading model...done!, ctx:gpu(0)\n",
      "tss len=226, forecasts len=226\n",
      "total:9, prediction_length:10\n",
      "top1acc= 0.2777777777777778 top1acc_farmost= 0.1111111111111111 top5acc= 0.48 top5acc_farmost= 0.3333333333333333\n",
      "tau =  0.5088503261381352 rmse =  35.690177361732914\n"
     ]
    }
   ],
   "source": [
    "half=[True, False]\n",
    "#plens=[2,5,10,20,30]\n",
    "plens=[2,5,10]\n",
    "half=[False]\n",
    "#trainids = [\"indy500-r0.2\",\"indy500-r0.4\",\"indy500\"]\n",
    "trainids = [\"r0.5\"]\n",
    "#half=[True,False]\n",
    "#plens=[2]\n",
    "runs = 5\n",
    "\n",
    "#exp_id='median-r0.8'\n",
    "exp_id='mean-splitbystage-predtrack'\n",
    "\n",
    "\n",
    "\n",
    "allret = []\n",
    "for runid in range(runs):\n",
    "    exp_data = []\n",
    "    exp_result = []\n",
    "    \n",
    "    for halfmode in half:\n",
    "        for plen in plens:\n",
    "            for trainid in trainids:\n",
    "                print('='*30)\n",
    "                pred_ret, test_ds, metric_ret = run_exp_predtrack(plen, halfmode, \n",
    "                                                        train_ratio=train_ratio,\n",
    "                                                        trainid=trainid)\n",
    "\n",
    "                #save \n",
    "                exp_data.append((pred_ret, test_ds))\n",
    "                exp_result.extend(metric_ret)\n",
    "\n",
    "    #save result\n",
    "    result = pd.DataFrame(exp_result, columns = ['model' , 'prediction_length', 'halfmode',\n",
    "                                       'trainid',\n",
    "                                       'top1acc','top1acc_farmost','top5acc',\n",
    "                                       'top5acc_farmost','tau','rmse'])\n",
    "    \n",
    "    #result['runid'] = [runid for x in range(len(result))]\n",
    "    allret.append(result)\n",
    "\n",
    "\n",
    "#final\n",
    "rowcnt = len(allret[0])\n",
    "metrics = np.empty((runs, rowcnt, 6))\n",
    "for runid, ret in enumerate(allret):\n",
    "    metrics[runid, :,:] = ret[['top1acc','top1acc_farmost','top5acc',\n",
    "                                       'top5acc_farmost','tau','rmse']].values\n",
    "    \n",
    "\n",
    "#average\n",
    "average = np.mean(metrics[:,:,:], axis=0)\n",
    "result = allret[0][['model' , 'prediction_length', 'halfmode',\n",
    "                                       'trainid',\n",
    "                               'top1acc','top1acc_farmost','top5acc',\n",
    "                                       'top5acc_farmost','tau','rmse']].values\n",
    "result[:,4:] = average\n",
    "\n",
    "dfret = pd.DataFrame(result, columns = ['model' , 'prediction_length', 'halfmode',\n",
    "                                   'trainid',\n",
    "                                   'top1acc','top1acc_farmost','top5acc',\n",
    "                                   'top5acc_farmost','tau','rmse'])\n",
    "\n",
    "dfret.to_csv(f'laptime2rank-evaluate-indy500-{exp_id}-r{runs}-t{train_ratio}-result.csv')"
   ]
  },
  {
   "cell_type": "code",
   "execution_count": 45,
   "metadata": {},
   "outputs": [
    {
     "name": "stderr",
     "output_type": "stream",
     "text": [
      "INFO:root:Using GPU\n"
     ]
    },
    {
     "name": "stdout",
     "output_type": "stream",
     "text": [
      "==============================\n",
      "====event:Indy500, train_len=100, max_len=200, min_len=200\n",
      "carno:1, totallen:200, nancount:0, test_reccnt:49\n",
      "carno:3, totallen:146, nancount:54, test_reccnt:22\n",
      "carno:4, totallen:200, nancount:0, test_reccnt:49\n",
      "carno:6, totallen:200, nancount:0, test_reccnt:49\n",
      "carno:7, totallen:193, nancount:7, test_reccnt:45\n",
      "carno:9, totallen:200, nancount:0, test_reccnt:49\n",
      "a short ts: carid=10，len=57\n",
      "carno:12, totallen:200, nancount:0, test_reccnt:49\n",
      "a short ts: carid=13，len=67\n",
      "carno:14, totallen:187, nancount:13, test_reccnt:42\n",
      "carno:15, totallen:200, nancount:0, test_reccnt:49\n",
      "carno:17, totallen:199, nancount:1, test_reccnt:48\n",
      "carno:18, totallen:137, nancount:63, test_reccnt:17\n",
      "carno:19, totallen:199, nancount:1, test_reccnt:48\n",
      "carno:20, totallen:200, nancount:0, test_reccnt:49\n",
      "carno:21, totallen:199, nancount:1, test_reccnt:48\n",
      "carno:22, totallen:200, nancount:0, test_reccnt:49\n",
      "carno:23, totallen:200, nancount:0, test_reccnt:49\n",
      "carno:24, totallen:154, nancount:46, test_reccnt:26\n",
      "carno:25, totallen:200, nancount:0, test_reccnt:49\n",
      "carno:26, totallen:198, nancount:2, test_reccnt:48\n",
      "carno:27, totallen:200, nancount:0, test_reccnt:49\n",
      "carno:28, totallen:200, nancount:0, test_reccnt:49\n",
      "carno:29, totallen:200, nancount:0, test_reccnt:49\n",
      "a short ts: carid=30，len=46\n",
      "carno:32, totallen:110, nancount:90, test_reccnt:4\n",
      "a short ts: carid=33，len=46\n",
      "carno:59, totallen:198, nancount:2, test_reccnt:48\n",
      "carno:60, totallen:200, nancount:0, test_reccnt:49\n",
      "carno:64, totallen:200, nancount:0, test_reccnt:49\n",
      "carno:66, totallen:200, nancount:0, test_reccnt:49\n",
      "carno:88, totallen:200, nancount:0, test_reccnt:49\n",
      "carno:98, totallen:200, nancount:0, test_reccnt:49\n",
      "train len:0, test len:1278\n",
      "model: oracle\n",
      "predicting model=oracle, plen=2\n",
      "loading model...done!, ctx:gpu(0)\n",
      "tss len=1278, forecasts len=1278\n"
     ]
    },
    {
     "name": "stderr",
     "output_type": "stream",
     "text": [
      "INFO:root:Using GPU\n"
     ]
    },
    {
     "name": "stdout",
     "output_type": "stream",
     "text": [
      "total:49, prediction_length:2\n",
      "top1acc= 0.7448979591836735 top1acc_farmost= 0.6938775510204082 top5acc= 0.8571428571428571 top5acc_farmost= 0.8204081632653061\n",
      "tau =  0.8732123728695564 rmse =  6.169249661319697\n",
      "model: deepAR\n",
      "predicting model=deepAR, plen=2\n",
      "loading model...done!, ctx:gpu(0)\n",
      "tss len=1278, forecasts len=1278\n",
      "total:49, prediction_length:2\n",
      "top1acc= 0.5 top1acc_farmost= 0.42857142857142855 top5acc= 0.7387755102040816 top5acc_farmost= 0.6571428571428571\n",
      "tau =  0.7614259279269916 rmse =  15.335019059083251\n",
      "model: naive\n",
      "predicting model=naive, plen=2\n"
     ]
    },
    {
     "name": "stderr",
     "output_type": "stream",
     "text": [
      "/N/u/pengb/hpda/indycar/predictor/src/indycar/model/NaivePredictor.py:60: FutureWarning: Addition/subtraction of integers and integer-arrays to Timestamp is deprecated, will be removed in a future version.  Instead of adding/subtracting `n`, use `n * self.freq`\n",
      "  start_date=start + target_len,\n"
     ]
    },
    {
     "name": "stdout",
     "output_type": "stream",
     "text": [
      "tss len=1278, forecasts len=1278\n",
      "total:49, prediction_length:2\n",
      "top1acc= 0.7142857142857143 top1acc_farmost= 0.6326530612244898 top5acc= 0.8387755102040816 top5acc_farmost= 0.7714285714285715\n",
      "tau =  0.8336333931477701 rmse =  12.048809962278582\n",
      "====event:Indy500, train_len=100, max_len=200, min_len=200\n",
      "carno:1, totallen:200, nancount:0, test_reccnt:49\n",
      "carno:3, totallen:146, nancount:54, test_reccnt:22\n",
      "carno:4, totallen:200, nancount:0, test_reccnt:49\n",
      "carno:6, totallen:200, nancount:0, test_reccnt:49\n",
      "carno:7, totallen:193, nancount:7, test_reccnt:45\n",
      "carno:9, totallen:200, nancount:0, test_reccnt:49\n",
      "a short ts: carid=10，len=57\n",
      "carno:12, totallen:200, nancount:0, test_reccnt:49\n",
      "a short ts: carid=13，len=67\n",
      "carno:14, totallen:187, nancount:13, test_reccnt:42\n",
      "carno:15, totallen:200, nancount:0, test_reccnt:49\n",
      "carno:17, totallen:199, nancount:1, test_reccnt:48\n",
      "carno:18, totallen:137, nancount:63, test_reccnt:17\n",
      "carno:19, totallen:199, nancount:1, test_reccnt:48\n",
      "carno:20, totallen:200, nancount:0, test_reccnt:49\n",
      "carno:21, totallen:199, nancount:1, test_reccnt:48\n",
      "carno:22, totallen:200, nancount:0, test_reccnt:49\n",
      "carno:23, totallen:200, nancount:0, test_reccnt:49\n",
      "carno:24, totallen:154, nancount:46, test_reccnt:26\n",
      "carno:25, totallen:200, nancount:0, test_reccnt:49\n",
      "carno:26, totallen:198, nancount:2, test_reccnt:48\n",
      "carno:27, totallen:200, nancount:0, test_reccnt:49\n",
      "carno:28, totallen:200, nancount:0, test_reccnt:49\n",
      "carno:29, totallen:200, nancount:0, test_reccnt:49\n",
      "a short ts: carid=30，len=46\n",
      "carno:32, totallen:110, nancount:90, test_reccnt:4\n",
      "a short ts: carid=33，len=46\n",
      "carno:59, totallen:198, nancount:2, test_reccnt:48\n",
      "carno:60, totallen:200, nancount:0, test_reccnt:49\n",
      "carno:64, totallen:200, nancount:0, test_reccnt:49\n",
      "carno:66, totallen:200, nancount:0, test_reccnt:49\n",
      "carno:88, totallen:200, nancount:0, test_reccnt:49\n",
      "carno:98, totallen:200, nancount:0, test_reccnt:49\n",
      "train len:0, test len:1278\n"
     ]
    },
    {
     "name": "stderr",
     "output_type": "stream",
     "text": [
      "INFO:root:Using GPU\n"
     ]
    },
    {
     "name": "stdout",
     "output_type": "stream",
     "text": [
      "model: curtrack\n",
      "predicting model=curtrack, plen=2\n",
      "loading model...done!, ctx:gpu(0)\n",
      "tss len=1278, forecasts len=1278\n",
      "total:49, prediction_length:2\n",
      "top1acc= 0.5816326530612245 top1acc_farmost= 0.5102040816326531 top5acc= 0.8 top5acc_farmost= 0.726530612244898\n",
      "tau =  0.8264957474561719 rmse =  11.284931157617725\n",
      "====event:Indy500, train_len=100, max_len=200, min_len=200\n",
      "carno:1, totallen:200, nancount:0, test_reccnt:49\n",
      "carno:3, totallen:146, nancount:54, test_reccnt:22\n",
      "carno:4, totallen:200, nancount:0, test_reccnt:49\n",
      "carno:6, totallen:200, nancount:0, test_reccnt:49\n",
      "carno:7, totallen:193, nancount:7, test_reccnt:45\n",
      "carno:9, totallen:200, nancount:0, test_reccnt:49\n",
      "a short ts: carid=10，len=57\n",
      "carno:12, totallen:200, nancount:0, test_reccnt:49\n",
      "a short ts: carid=13，len=67\n",
      "carno:14, totallen:187, nancount:13, test_reccnt:42\n",
      "carno:15, totallen:200, nancount:0, test_reccnt:49\n",
      "carno:17, totallen:199, nancount:1, test_reccnt:48\n",
      "carno:18, totallen:137, nancount:63, test_reccnt:17\n",
      "carno:19, totallen:199, nancount:1, test_reccnt:48\n",
      "carno:20, totallen:200, nancount:0, test_reccnt:49\n",
      "carno:21, totallen:199, nancount:1, test_reccnt:48\n",
      "carno:22, totallen:200, nancount:0, test_reccnt:49\n",
      "carno:23, totallen:200, nancount:0, test_reccnt:49\n",
      "carno:24, totallen:154, nancount:46, test_reccnt:26\n",
      "carno:25, totallen:200, nancount:0, test_reccnt:49\n",
      "carno:26, totallen:198, nancount:2, test_reccnt:48\n",
      "carno:27, totallen:200, nancount:0, test_reccnt:49\n",
      "carno:28, totallen:200, nancount:0, test_reccnt:49\n",
      "carno:29, totallen:200, nancount:0, test_reccnt:49\n",
      "a short ts: carid=30，len=46\n",
      "carno:32, totallen:110, nancount:90, test_reccnt:4\n",
      "a short ts: carid=33，len=46\n",
      "carno:59, totallen:198, nancount:2, test_reccnt:48\n",
      "carno:60, totallen:200, nancount:0, test_reccnt:49\n",
      "carno:64, totallen:200, nancount:0, test_reccnt:49\n",
      "carno:66, totallen:200, nancount:0, test_reccnt:49\n",
      "carno:88, totallen:200, nancount:0, test_reccnt:49\n",
      "carno:98, totallen:200, nancount:0, test_reccnt:49\n",
      "train len:0, test len:1278\n",
      "model:"
     ]
    },
    {
     "name": "stderr",
     "output_type": "stream",
     "text": [
      "INFO:root:Using GPU\n"
     ]
    },
    {
     "name": "stdout",
     "output_type": "stream",
     "text": [
      " zerotrack\n",
      "predicting model=zerotrack, plen=2\n",
      "loading model...done!, ctx:gpu(0)\n",
      "tss len=1278, forecasts len=1278\n"
     ]
    },
    {
     "name": "stderr",
     "output_type": "stream",
     "text": [
      "INFO:root:Using GPU\n"
     ]
    },
    {
     "name": "stdout",
     "output_type": "stream",
     "text": [
      "total:49, prediction_length:2\n",
      "top1acc= 0.5306122448979592 top1acc_farmost= 0.46938775510204084 top5acc= 0.7714285714285715 top5acc_farmost= 0.726530612244898\n",
      "tau =  0.8127256001975545 rmse =  12.005960025021007\n",
      "==============================\n",
      "====event:Indy500, train_len=100, max_len=200, min_len=200\n",
      "carno:1, totallen:200, nancount:0, test_reccnt:19\n",
      "carno:3, totallen:146, nancount:54, test_reccnt:8\n",
      "carno:4, totallen:200, nancount:0, test_reccnt:19\n",
      "carno:6, totallen:200, nancount:0, test_reccnt:19\n",
      "carno:7, totallen:193, nancount:7, test_reccnt:17\n",
      "carno:9, totallen:200, nancount:0, test_reccnt:19\n",
      "a short ts: carid=10，len=57\n",
      "carno:12, totallen:200, nancount:0, test_reccnt:19\n",
      "a short ts: carid=13，len=67\n",
      "carno:14, totallen:187, nancount:13, test_reccnt:16\n",
      "carno:15, totallen:200, nancount:0, test_reccnt:19\n",
      "carno:17, totallen:199, nancount:1, test_reccnt:18\n",
      "carno:18, totallen:137, nancount:63, test_reccnt:6\n",
      "carno:19, totallen:199, nancount:1, test_reccnt:18\n",
      "carno:20, totallen:200, nancount:0, test_reccnt:19\n",
      "carno:21, totallen:199, nancount:1, test_reccnt:18\n",
      "carno:22, totallen:200, nancount:0, test_reccnt:19\n",
      "carno:23, totallen:200, nancount:0, test_reccnt:19\n",
      "carno:24, totallen:154, nancount:46, test_reccnt:9\n",
      "carno:25, totallen:200, nancount:0, test_reccnt:19\n",
      "carno:26, totallen:198, nancount:2, test_reccnt:18\n",
      "carno:27, totallen:200, nancount:0, test_reccnt:19\n",
      "carno:28, totallen:200, nancount:0, test_reccnt:19\n",
      "carno:29, totallen:200, nancount:0, test_reccnt:19\n",
      "a short ts: carid=30，len=46\n",
      "carno:32, totallen:110, nancount:90, test_reccnt:1\n",
      "a short ts: carid=33，len=46\n",
      "carno:59, totallen:198, nancount:2, test_reccnt:18\n",
      "carno:60, totallen:200, nancount:0, test_reccnt:19\n",
      "carno:64, totallen:200, nancount:0, test_reccnt:19\n",
      "carno:66, totallen:200, nancount:0, test_reccnt:19\n",
      "carno:88, totallen:200, nancount:0, test_reccnt:19\n",
      "carno:98, totallen:200, nancount:0, test_reccnt:19\n",
      "train len:0, test len:489\n",
      "model: oracle\n",
      "predicting model=oracle, plen=5\n",
      "loading model...done!, ctx:gpu(0)\n",
      "tss len=489, forecasts len=489\n"
     ]
    },
    {
     "name": "stderr",
     "output_type": "stream",
     "text": [
      "INFO:root:Using GPU\n"
     ]
    },
    {
     "name": "stdout",
     "output_type": "stream",
     "text": [
      "total:19, prediction_length:5\n",
      "top1acc= 0.631578947368421 top1acc_farmost= 0.5263157894736842 top5acc= 0.7326315789473684 top5acc_farmost= 0.6947368421052632\n",
      "tau =  0.7850627994213774 rmse =  11.938443195470574\n",
      "model: deepAR\n",
      "predicting model=deepAR, plen=5\n",
      "loading model...done!, ctx:gpu(0)\n",
      "tss len=489, forecasts len=489\n",
      "total:19, prediction_length:5\n",
      "top1acc= 0.2631578947368421 top1acc_farmost= 0.05263157894736842 top5acc= 0.5494736842105263 top5acc_farmost= 0.4\n",
      "tau =  0.6148636733214079 rmse =  28.24434179767645\n",
      "model: naive\n",
      "predicting model=naive, plen=5\n"
     ]
    },
    {
     "name": "stderr",
     "output_type": "stream",
     "text": [
      "/N/u/pengb/hpda/indycar/predictor/src/indycar/model/NaivePredictor.py:60: FutureWarning: Addition/subtraction of integers and integer-arrays to Timestamp is deprecated, will be removed in a future version.  Instead of adding/subtracting `n`, use `n * self.freq`\n",
      "  start_date=start + target_len,\n"
     ]
    },
    {
     "name": "stdout",
     "output_type": "stream",
     "text": [
      "tss len=489, forecasts len=489\n"
     ]
    },
    {
     "name": "stderr",
     "output_type": "stream",
     "text": [
      "INFO:root:Using GPU\n"
     ]
    },
    {
     "name": "stdout",
     "output_type": "stream",
     "text": [
      "total:19, prediction_length:5\n",
      "top1acc= 0.4631578947368421 top1acc_farmost= 0.3684210526315789 top5acc= 0.5726315789473684 top5acc_farmost= 0.4631578947368421\n",
      "tau =  0.5905404467830971 rmse =  34.88247980745826\n",
      "====event:Indy500, train_len=100, max_len=200, min_len=200\n",
      "carno:1, totallen:200, nancount:0, test_reccnt:19\n",
      "carno:3, totallen:146, nancount:54, test_reccnt:8\n",
      "carno:4, totallen:200, nancount:0, test_reccnt:19\n",
      "carno:6, totallen:200, nancount:0, test_reccnt:19\n",
      "carno:7, totallen:193, nancount:7, test_reccnt:17\n",
      "carno:9, totallen:200, nancount:0, test_reccnt:19\n",
      "a short ts: carid=10，len=57\n",
      "carno:12, totallen:200, nancount:0, test_reccnt:19\n",
      "a short ts: carid=13，len=67\n",
      "carno:14, totallen:187, nancount:13, test_reccnt:16\n",
      "carno:15, totallen:200, nancount:0, test_reccnt:19\n",
      "carno:17, totallen:199, nancount:1, test_reccnt:18\n",
      "carno:18, totallen:137, nancount:63, test_reccnt:6\n",
      "carno:19, totallen:199, nancount:1, test_reccnt:18\n",
      "carno:20, totallen:200, nancount:0, test_reccnt:19\n",
      "carno:21, totallen:199, nancount:1, test_reccnt:18\n",
      "carno:22, totallen:200, nancount:0, test_reccnt:19\n",
      "carno:23, totallen:200, nancount:0, test_reccnt:19\n",
      "carno:24, totallen:154, nancount:46, test_reccnt:9\n",
      "carno:25, totallen:200, nancount:0, test_reccnt:19\n",
      "carno:26, totallen:198, nancount:2, test_reccnt:18\n",
      "carno:27, totallen:200, nancount:0, test_reccnt:19\n",
      "carno:28, totallen:200, nancount:0, test_reccnt:19\n",
      "carno:29, totallen:200, nancount:0, test_reccnt:19\n",
      "a short ts: carid=30，len=46\n",
      "carno:32, totallen:110, nancount:90, test_reccnt:1\n",
      "a short ts: carid=33，len=46\n",
      "carno:59, totallen:198, nancount:2, test_reccnt:18\n",
      "carno:60, totallen:200, nancount:0, test_reccnt:19\n",
      "carno:64, totallen:200, nancount:0, test_reccnt:19\n",
      "carno:66, totallen:200, nancount:0, test_reccnt:19\n",
      "carno:88, totallen:200, nancount:0, test_reccnt:19\n",
      "carno:98, totallen:200, nancount:0, test_reccnt:19\n",
      "train len:0, test len:489\n",
      "model: curtrack\n",
      "predicting model=curtrack, plen=5\n",
      "loading model...done!, ctx:gpu(0)\n",
      "tss len=489, forecasts len=489\n"
     ]
    },
    {
     "name": "stderr",
     "output_type": "stream",
     "text": [
      "INFO:root:Using GPU\n"
     ]
    },
    {
     "name": "stdout",
     "output_type": "stream",
     "text": [
      "total:19, prediction_length:5\n",
      "top1acc= 0.4105263157894737 top1acc_farmost= 0.3157894736842105 top5acc= 0.5936842105263158 top5acc_farmost= 0.47368421052631576\n",
      "tau =  0.6448424407342589 rmse =  27.69036476877556\n",
      "====event:Indy500, train_len=100, max_len=200, min_len=200\n",
      "carno:1, totallen:200, nancount:0, test_reccnt:19\n",
      "carno:3, totallen:146, nancount:54, test_reccnt:8\n",
      "carno:4, totallen:200, nancount:0, test_reccnt:19\n",
      "carno:6, totallen:200, nancount:0, test_reccnt:19\n",
      "carno:7, totallen:193, nancount:7, test_reccnt:17\n",
      "carno:9, totallen:200, nancount:0, test_reccnt:19\n",
      "a short ts: carid=10，len=57\n",
      "carno:12, totallen:200, nancount:0, test_reccnt:19\n",
      "a short ts: carid=13，len=67\n",
      "carno:14, totallen:187, nancount:13, test_reccnt:16\n",
      "carno:15, totallen:200, nancount:0, test_reccnt:19\n",
      "carno:17, totallen:199, nancount:1, test_reccnt:18\n",
      "carno:18, totallen:137, nancount:63, test_reccnt:6\n",
      "carno:19, totallen:199, nancount:1, test_reccnt:18\n",
      "carno:20, totallen:200, nancount:0, test_reccnt:19\n",
      "carno:21, totallen:199, nancount:1, test_reccnt:18\n",
      "carno:22, totallen:200, nancount:0, test_reccnt:19\n",
      "carno:23, totallen:200, nancount:0, test_reccnt:19\n",
      "carno:24, totallen:154, nancount:46, test_reccnt:9\n",
      "carno:25, totallen:200, nancount:0, test_reccnt:19\n",
      "carno:26, totallen:198, nancount:2, test_reccnt:18\n",
      "carno:27, totallen:200, nancount:0, test_reccnt:19\n",
      "carno:28, totallen:200, nancount:0, test_reccnt:19\n",
      "carno:29, totallen:200, nancount:0, test_reccnt:19\n",
      "a short ts: carid=30，len=46\n",
      "carno:32, totallen:110, nancount:90, test_reccnt:1\n",
      "a short ts: carid=33，len=46\n",
      "carno:59, totallen:198, nancount:2, test_reccnt:18\n",
      "carno:60, totallen:200, nancount:0, test_reccnt:19\n",
      "carno:64, totallen:200, nancount:0, test_reccnt:19\n",
      "carno:66, totallen:200, nancount:0, test_reccnt:19\n",
      "carno:88, totallen:200, nancount:0, test_reccnt:19\n",
      "carno:98, totallen:200, nancount:0, test_reccnt:19\n",
      "train len:0, test len:489\n",
      "model: zerotrack\n",
      "predicting model=zerotrack, plen=5\n",
      "loading model...done!, ctx:gpu(0)\n",
      "tss len=489, forecasts len=489\n"
     ]
    },
    {
     "name": "stderr",
     "output_type": "stream",
     "text": [
      "INFO:root:Using GPU\n"
     ]
    },
    {
     "name": "stdout",
     "output_type": "stream",
     "text": [
      "total:19, prediction_length:5\n",
      "top1acc= 0.4421052631578947 top1acc_farmost= 0.3157894736842105 top5acc= 0.5936842105263158 top5acc_farmost= 0.5263157894736842\n",
      "tau =  0.6434481418136729 rmse =  27.193755825062855\n",
      "==============================\n",
      "====event:Indy500, train_len=100, max_len=200, min_len=200\n",
      "carno:1, totallen:200, nancount:0, test_reccnt:9\n",
      "carno:3, totallen:146, nancount:54, test_reccnt:3\n",
      "carno:4, totallen:200, nancount:0, test_reccnt:9\n",
      "carno:6, totallen:200, nancount:0, test_reccnt:9\n",
      "carno:7, totallen:193, nancount:7, test_reccnt:8\n",
      "carno:9, totallen:200, nancount:0, test_reccnt:9\n",
      "a short ts: carid=10，len=57\n",
      "carno:12, totallen:200, nancount:0, test_reccnt:9\n",
      "a short ts: carid=13，len=67\n",
      "carno:14, totallen:187, nancount:13, test_reccnt:7\n",
      "carno:15, totallen:200, nancount:0, test_reccnt:9\n",
      "carno:17, totallen:199, nancount:1, test_reccnt:8\n",
      "carno:18, totallen:137, nancount:63, test_reccnt:2\n",
      "carno:19, totallen:199, nancount:1, test_reccnt:8\n",
      "carno:20, totallen:200, nancount:0, test_reccnt:9\n",
      "carno:21, totallen:199, nancount:1, test_reccnt:8\n",
      "carno:22, totallen:200, nancount:0, test_reccnt:9\n",
      "carno:23, totallen:200, nancount:0, test_reccnt:9\n",
      "carno:24, totallen:154, nancount:46, test_reccnt:4\n",
      "carno:25, totallen:200, nancount:0, test_reccnt:9\n",
      "carno:26, totallen:198, nancount:2, test_reccnt:8\n",
      "carno:27, totallen:200, nancount:0, test_reccnt:9\n",
      "carno:28, totallen:200, nancount:0, test_reccnt:9\n",
      "carno:29, totallen:200, nancount:0, test_reccnt:9\n",
      "a short ts: carid=30，len=46\n",
      "carno:32, totallen:110, nancount:90, test_reccnt:0\n",
      "a short ts: carid=33，len=46\n",
      "carno:59, totallen:198, nancount:2, test_reccnt:8\n",
      "carno:60, totallen:200, nancount:0, test_reccnt:9\n",
      "carno:64, totallen:200, nancount:0, test_reccnt:9\n",
      "carno:66, totallen:200, nancount:0, test_reccnt:9\n",
      "carno:88, totallen:200, nancount:0, test_reccnt:9\n",
      "carno:98, totallen:200, nancount:0, test_reccnt:9\n",
      "train len:0, test len:226\n",
      "model: oracle\n",
      "predicting model=oracle, plen=10\n",
      "loading model...done!, ctx:gpu(0)\n",
      "tss len=226, forecasts len=226\n"
     ]
    },
    {
     "name": "stderr",
     "output_type": "stream",
     "text": [
      "INFO:root:Using GPU\n"
     ]
    },
    {
     "name": "stdout",
     "output_type": "stream",
     "text": [
      "total:9, prediction_length:10\n",
      "top1acc= 0.4666666666666667 top1acc_farmost= 0.2222222222222222 top5acc= 0.6711111111111111 top5acc_farmost= 0.6222222222222222\n",
      "tau =  0.6232021889543629 rmse =  23.233812191923302\n",
      "model: deepAR\n",
      "predicting model=deepAR, plen=10\n",
      "loading model...done!, ctx:gpu(0)\n",
      "tss len=226, forecasts len=226\n",
      "total:9, prediction_length:10\n",
      "top1acc= 0.3 top1acc_farmost= 0.2222222222222222 top5acc= 0.5288888888888889 top5acc_farmost= 0.35555555555555557\n",
      "tau =  0.48429695784833604 rmse =  37.49128453850676\n",
      "model: naive\n",
      "predicting model=naive, plen=10\n"
     ]
    },
    {
     "name": "stderr",
     "output_type": "stream",
     "text": [
      "/N/u/pengb/hpda/indycar/predictor/src/indycar/model/NaivePredictor.py:60: FutureWarning: Addition/subtraction of integers and integer-arrays to Timestamp is deprecated, will be removed in a future version.  Instead of adding/subtracting `n`, use `n * self.freq`\n",
      "  start_date=start + target_len,\n"
     ]
    },
    {
     "name": "stdout",
     "output_type": "stream",
     "text": [
      "tss len=226, forecasts len=226\n"
     ]
    },
    {
     "name": "stderr",
     "output_type": "stream",
     "text": [
      "INFO:root:Using GPU\n"
     ]
    },
    {
     "name": "stdout",
     "output_type": "stream",
     "text": [
      "total:9, prediction_length:10\n",
      "top1acc= 0.3 top1acc_farmost= 0.2222222222222222 top5acc= 0.4444444444444444 top5acc_farmost= 0.28888888888888886\n",
      "tau =  0.4102774175725867 rmse =  46.28773694207028\n",
      "====event:Indy500, train_len=100, max_len=200, min_len=200\n",
      "carno:1, totallen:200, nancount:0, test_reccnt:9\n",
      "carno:3, totallen:146, nancount:54, test_reccnt:3\n",
      "carno:4, totallen:200, nancount:0, test_reccnt:9\n",
      "carno:6, totallen:200, nancount:0, test_reccnt:9\n",
      "carno:7, totallen:193, nancount:7, test_reccnt:8\n",
      "carno:9, totallen:200, nancount:0, test_reccnt:9\n",
      "a short ts: carid=10，len=57\n",
      "carno:12, totallen:200, nancount:0, test_reccnt:9\n",
      "a short ts: carid=13，len=67\n",
      "carno:14, totallen:187, nancount:13, test_reccnt:7\n",
      "carno:15, totallen:200, nancount:0, test_reccnt:9\n",
      "carno:17, totallen:199, nancount:1, test_reccnt:8\n",
      "carno:18, totallen:137, nancount:63, test_reccnt:2\n",
      "carno:19, totallen:199, nancount:1, test_reccnt:8\n",
      "carno:20, totallen:200, nancount:0, test_reccnt:9\n",
      "carno:21, totallen:199, nancount:1, test_reccnt:8\n",
      "carno:22, totallen:200, nancount:0, test_reccnt:9\n",
      "carno:23, totallen:200, nancount:0, test_reccnt:9\n",
      "carno:24, totallen:154, nancount:46, test_reccnt:4\n",
      "carno:25, totallen:200, nancount:0, test_reccnt:9\n",
      "carno:26, totallen:198, nancount:2, test_reccnt:8\n",
      "carno:27, totallen:200, nancount:0, test_reccnt:9\n",
      "carno:28, totallen:200, nancount:0, test_reccnt:9\n",
      "carno:29, totallen:200, nancount:0, test_reccnt:9\n",
      "a short ts: carid=30，len=46\n",
      "carno:32, totallen:110, nancount:90, test_reccnt:0\n",
      "a short ts: carid=33，len=46\n",
      "carno:59, totallen:198, nancount:2, test_reccnt:8\n",
      "carno:60, totallen:200, nancount:0, test_reccnt:9\n",
      "carno:64, totallen:200, nancount:0, test_reccnt:9\n",
      "carno:66, totallen:200, nancount:0, test_reccnt:9\n",
      "carno:88, totallen:200, nancount:0, test_reccnt:9\n",
      "carno:98, totallen:200, nancount:0, test_reccnt:9\n",
      "train len:0, test len:226\n",
      "model: curtrack\n",
      "predicting model=curtrack, plen=10\n",
      "loading model...done!, ctx:gpu(0)\n",
      "tss len=226, forecasts len=226\n"
     ]
    },
    {
     "name": "stderr",
     "output_type": "stream",
     "text": [
      "INFO:root:Using GPU\n"
     ]
    },
    {
     "name": "stdout",
     "output_type": "stream",
     "text": [
      "total:9, prediction_length:10\n",
      "top1acc= 0.32222222222222224 top1acc_farmost= 0.2222222222222222 top5acc= 0.5022222222222222 top5acc_farmost= 0.37777777777777777\n",
      "tau =  0.500251590800241 rmse =  38.54470044770045\n",
      "====event:Indy500, train_len=100, max_len=200, min_len=200\n",
      "carno:1, totallen:200, nancount:0, test_reccnt:9\n",
      "carno:3, totallen:146, nancount:54, test_reccnt:3\n",
      "carno:4, totallen:200, nancount:0, test_reccnt:9\n",
      "carno:6, totallen:200, nancount:0, test_reccnt:9\n",
      "carno:7, totallen:193, nancount:7, test_reccnt:8\n",
      "carno:9, totallen:200, nancount:0, test_reccnt:9\n",
      "a short ts: carid=10，len=57\n",
      "carno:12, totallen:200, nancount:0, test_reccnt:9\n",
      "a short ts: carid=13，len=67\n",
      "carno:14, totallen:187, nancount:13, test_reccnt:7\n",
      "carno:15, totallen:200, nancount:0, test_reccnt:9\n",
      "carno:17, totallen:199, nancount:1, test_reccnt:8\n",
      "carno:18, totallen:137, nancount:63, test_reccnt:2\n",
      "carno:19, totallen:199, nancount:1, test_reccnt:8\n",
      "carno:20, totallen:200, nancount:0, test_reccnt:9\n",
      "carno:21, totallen:199, nancount:1, test_reccnt:8\n",
      "carno:22, totallen:200, nancount:0, test_reccnt:9\n",
      "carno:23, totallen:200, nancount:0, test_reccnt:9\n",
      "carno:24, totallen:154, nancount:46, test_reccnt:4\n",
      "carno:25, totallen:200, nancount:0, test_reccnt:9\n",
      "carno:26, totallen:198, nancount:2, test_reccnt:8\n",
      "carno:27, totallen:200, nancount:0, test_reccnt:9\n",
      "carno:28, totallen:200, nancount:0, test_reccnt:9\n",
      "carno:29, totallen:200, nancount:0, test_reccnt:9\n",
      "a short ts: carid=30，len=46\n",
      "carno:32, totallen:110, nancount:90, test_reccnt:0\n",
      "a short ts: carid=33，len=46\n",
      "carno:59, totallen:198, nancount:2, test_reccnt:8\n",
      "carno:60, totallen:200, nancount:0, test_reccnt:9\n",
      "carno:64, totallen:200, nancount:0, test_reccnt:9\n",
      "carno:66, totallen:200, nancount:0, test_reccnt:9\n",
      "carno:88, totallen:200, nancount:0, test_reccnt:9\n",
      "carno:98, totallen:200, nancount:0, test_reccnt:9\n",
      "train len:0, test len:226\n",
      "model: zerotrack\n",
      "predicting model=zerotrack, plen=10\n",
      "loading model...done!, ctx:gpu(0)\n",
      "tss len=226, forecasts len=226\n",
      "total:9, prediction_length:10\n",
      "top1acc= 0.2111111111111111 top1acc_farmost= 0.1111111111111111 top5acc= 0.5111111111111111 top5acc_farmost= 0.37777777777777777\n",
      "tau =  0.5072363200616966 rmse =  35.24478166689278\n",
      "==============================\n",
      "====event:Indy500, train_len=100, max_len=200, min_len=200\n",
      "carno:1, totallen:200, nancount:0, test_reccnt:49\n",
      "carno:3, totallen:146, nancount:54, test_reccnt:22\n",
      "carno:4, totallen:200, nancount:0, test_reccnt:49\n",
      "carno:6, totallen:200, nancount:0, test_reccnt:49\n",
      "carno:7, totallen:193, nancount:7, test_reccnt:45\n",
      "carno:9, totallen:200, nancount:0, test_reccnt:49\n",
      "a short ts: carid=10，len=57\n",
      "carno:12, totallen:200, nancount:0, test_reccnt:49\n",
      "a short ts: carid=13，len=67\n",
      "carno:14, totallen:187, nancount:13, test_reccnt:42\n",
      "carno:15, totallen:200, nancount:0, test_reccnt:49\n",
      "carno:17, totallen:199, nancount:1, test_reccnt:48\n",
      "carno:18, totallen:137, nancount:63, test_reccnt:17\n",
      "carno:19, totallen:199, nancount:1, test_reccnt:48\n",
      "carno:20, totallen:200, nancount:0, test_reccnt:49\n",
      "carno:21, totallen:199, nancount:1, test_reccnt:48\n",
      "carno:22, totallen:200, nancount:0, test_reccnt:49\n",
      "carno:23, totallen:200, nancount:0, test_reccnt:49\n",
      "carno:24, totallen:154, nancount:46, test_reccnt:26\n",
      "carno:25, totallen:200, nancount:0, test_reccnt:49\n",
      "carno:26, totallen:198, nancount:2, test_reccnt:48\n",
      "carno:27, totallen:200, nancount:0, test_reccnt:49\n",
      "carno:28, totallen:200, nancount:0, test_reccnt:49\n",
      "carno:29, totallen:200, nancount:0, test_reccnt:49\n",
      "a short ts: carid=30，len=46\n",
      "carno:32, totallen:110, nancount:90, test_reccnt:4\n",
      "a short ts: carid=33，len=46\n",
      "carno:59, totallen:198, nancount:2, test_reccnt:48\n",
      "carno:60, totallen:200, nancount:0, test_reccnt:49\n",
      "carno:64, totallen:200, nancount:0, test_reccnt:49\n",
      "carno:66, totallen:200, nancount:0, test_reccnt:49\n",
      "carno:88, totallen:200, nancount:0, test_reccnt:49\n",
      "carno:98, totallen:200, nancount:0, test_reccnt:49\n",
      "train len:0, test len:1278\n"
     ]
    },
    {
     "name": "stderr",
     "output_type": "stream",
     "text": [
      "INFO:root:Using GPU\n"
     ]
    },
    {
     "name": "stdout",
     "output_type": "stream",
     "text": [
      "model: oracle\n",
      "predicting model=oracle, plen=2\n",
      "loading model...done!, ctx:gpu(0)\n",
      "tss len=1278, forecasts len=1278\n"
     ]
    },
    {
     "name": "stderr",
     "output_type": "stream",
     "text": [
      "INFO:root:Using GPU\n"
     ]
    },
    {
     "name": "stdout",
     "output_type": "stream",
     "text": [
      "total:49, prediction_length:2\n",
      "top1acc= 0.7040816326530612 top1acc_farmost= 0.673469387755102 top5acc= 0.8551020408163266 top5acc_farmost= 0.8081632653061225\n",
      "tau =  0.8725310294959965 rmse =  6.353003515809561\n",
      "model: deepAR\n",
      "predicting model=deepAR, plen=2\n",
      "loading model...done!, ctx:gpu(0)\n",
      "tss len=1278, forecasts len=1278\n",
      "total:49, prediction_length:2\n",
      "top1acc= 0.5 top1acc_farmost= 0.4489795918367347 top5acc= 0.7122448979591837 top5acc_farmost= 0.6489795918367347\n",
      "tau =  0.7502062944724177 rmse =  16.973507646391102\n",
      "model: naive\n",
      "predicting model=naive, plen=2\n"
     ]
    },
    {
     "name": "stderr",
     "output_type": "stream",
     "text": [
      "/N/u/pengb/hpda/indycar/predictor/src/indycar/model/NaivePredictor.py:60: FutureWarning: Addition/subtraction of integers and integer-arrays to Timestamp is deprecated, will be removed in a future version.  Instead of adding/subtracting `n`, use `n * self.freq`\n",
      "  start_date=start + target_len,\n"
     ]
    },
    {
     "name": "stdout",
     "output_type": "stream",
     "text": [
      "tss len=1278, forecasts len=1278\n",
      "total:49, prediction_length:2\n",
      "top1acc= 0.7142857142857143 top1acc_farmost= 0.6326530612244898 top5acc= 0.8387755102040816 top5acc_farmost= 0.7714285714285715\n",
      "tau =  0.8336333931477701 rmse =  12.048809962278582\n",
      "====event:Indy500, train_len=100, max_len=200, min_len=200\n",
      "carno:1, totallen:200, nancount:0, test_reccnt:49\n",
      "carno:3, totallen:146, nancount:54, test_reccnt:22\n",
      "carno:4, totallen:200, nancount:0, test_reccnt:49\n",
      "carno:6, totallen:200, nancount:0, test_reccnt:49\n",
      "carno:7, totallen:193, nancount:7, test_reccnt:45\n",
      "carno:9, totallen:200, nancount:0, test_reccnt:49\n",
      "a short ts: carid=10，len=57\n",
      "carno:12, totallen:200, nancount:0, test_reccnt:49\n",
      "a short ts: carid=13，len=67\n",
      "carno:14, totallen:187, nancount:13, test_reccnt:42\n",
      "carno:15, totallen:200, nancount:0, test_reccnt:49\n",
      "carno:17, totallen:199, nancount:1, test_reccnt:48\n",
      "carno:18, totallen:137, nancount:63, test_reccnt:17\n",
      "carno:19, totallen:199, nancount:1, test_reccnt:48\n",
      "carno:20, totallen:200, nancount:0, test_reccnt:49\n",
      "carno:21, totallen:199, nancount:1, test_reccnt:48\n",
      "carno:22, totallen:200, nancount:0, test_reccnt:49\n",
      "carno:23, totallen:200, nancount:0, test_reccnt:49\n",
      "carno:24, totallen:154, nancount:46, test_reccnt:26\n",
      "carno:25, totallen:200, nancount:0, test_reccnt:49\n",
      "carno:26, totallen:198, nancount:2, test_reccnt:48\n",
      "carno:27, totallen:200, nancount:0, test_reccnt:49\n",
      "carno:28, totallen:200, nancount:0, test_reccnt:49\n",
      "carno:29, totallen:200, nancount:0, test_reccnt:49\n",
      "a short ts: carid=30，len=46\n",
      "carno:32, totallen:110, nancount:90, test_reccnt:4\n",
      "a short ts: carid=33，len=46\n",
      "carno:59, totallen:198, nancount:2, test_reccnt:48\n",
      "carno:60, totallen:200, nancount:0, test_reccnt:49\n",
      "carno:64, totallen:200, nancount:0, test_reccnt:49\n",
      "carno:66, totallen:200, nancount:0, test_reccnt:49\n",
      "carno:88, totallen:200, nancount:0, test_reccnt:49\n",
      "carno:98, totallen:200, nancount:0, test_reccnt:49\n",
      "train len:0, test len:1278\n"
     ]
    },
    {
     "name": "stderr",
     "output_type": "stream",
     "text": [
      "INFO:root:Using GPU\n"
     ]
    },
    {
     "name": "stdout",
     "output_type": "stream",
     "text": [
      "model: curtrack\n",
      "predicting model=curtrack, plen=2\n",
      "loading model...done!, ctx:gpu(0)\n",
      "tss len=1278, forecasts len=1278\n"
     ]
    },
    {
     "name": "stderr",
     "output_type": "stream",
     "text": [
      "INFO:root:Using GPU\n"
     ]
    },
    {
     "name": "stdout",
     "output_type": "stream",
     "text": [
      "total:49, prediction_length:2\n",
      "top1acc= 0.5918367346938775 top1acc_farmost= 0.46938775510204084 top5acc= 0.8122448979591836 top5acc_farmost= 0.7346938775510204\n",
      "tau =  0.8307625534754182 rmse =  10.999276783327206\n",
      "====event:Indy500, train_len=100, max_len=200, min_len=200\n",
      "carno:1, totallen:200, nancount:0, test_reccnt:49\n",
      "carno:3, totallen:146, nancount:54, test_reccnt:22\n",
      "carno:4, totallen:200, nancount:0, test_reccnt:49\n",
      "carno:6, totallen:200, nancount:0, test_reccnt:49\n",
      "carno:7, totallen:193, nancount:7, test_reccnt:45\n",
      "carno:9, totallen:200, nancount:0, test_reccnt:49\n",
      "a short ts: carid=10，len=57\n",
      "carno:12, totallen:200, nancount:0, test_reccnt:49\n",
      "a short ts: carid=13，len=67\n",
      "carno:14, totallen:187, nancount:13, test_reccnt:42\n",
      "carno:15, totallen:200, nancount:0, test_reccnt:49\n",
      "carno:17, totallen:199, nancount:1, test_reccnt:48\n",
      "carno:18, totallen:137, nancount:63, test_reccnt:17\n",
      "carno:19, totallen:199, nancount:1, test_reccnt:48\n",
      "carno:20, totallen:200, nancount:0, test_reccnt:49\n",
      "carno:21, totallen:199, nancount:1, test_reccnt:48\n",
      "carno:22, totallen:200, nancount:0, test_reccnt:49\n",
      "carno:23, totallen:200, nancount:0, test_reccnt:49\n",
      "carno:24, totallen:154, nancount:46, test_reccnt:26\n",
      "carno:25, totallen:200, nancount:0, test_reccnt:49\n",
      "carno:26, totallen:198, nancount:2, test_reccnt:48\n",
      "carno:27, totallen:200, nancount:0, test_reccnt:49\n",
      "carno:28, totallen:200, nancount:0, test_reccnt:49\n",
      "carno:29, totallen:200, nancount:0, test_reccnt:49\n",
      "a short ts: carid=30，len=46\n",
      "carno:32, totallen:110, nancount:90, test_reccnt:4\n",
      "a short ts: carid=33，len=46\n",
      "carno:59, totallen:198, nancount:2, test_reccnt:48\n",
      "carno:60, totallen:200, nancount:0, test_reccnt:49\n",
      "carno:64, totallen:200, nancount:0, test_reccnt:49\n",
      "carno:66, totallen:200, nancount:0, test_reccnt:49\n",
      "carno:88, totallen:200, nancount:0, test_reccnt:49\n",
      "carno:98, totallen:200, nancount:0, test_reccnt:49\n",
      "train len:0, test len:1278\n",
      "model: zerotrack\n",
      "predicting model=zerotrack, plen=2\n",
      "loading model...done!, ctx:gpu(0)\n",
      "tss len=1278, forecasts len=1278\n"
     ]
    },
    {
     "name": "stderr",
     "output_type": "stream",
     "text": [
      "INFO:root:Using GPU\n"
     ]
    },
    {
     "name": "stdout",
     "output_type": "stream",
     "text": [
      "total:49, prediction_length:2\n",
      "top1acc= 0.5306122448979592 top1acc_farmost= 0.4897959183673469 top5acc= 0.7836734693877551 top5acc_farmost= 0.7346938775510204\n",
      "tau =  0.8190989776599584 rmse =  11.479910501627907\n",
      "==============================\n",
      "====event:Indy500, train_len=100, max_len=200, min_len=200\n",
      "carno:1, totallen:200, nancount:0, test_reccnt:19\n",
      "carno:3, totallen:146, nancount:54, test_reccnt:8\n",
      "carno:4, totallen:200, nancount:0, test_reccnt:19\n",
      "carno:6, totallen:200, nancount:0, test_reccnt:19\n",
      "carno:7, totallen:193, nancount:7, test_reccnt:17\n",
      "carno:9, totallen:200, nancount:0, test_reccnt:19\n",
      "a short ts: carid=10，len=57\n",
      "carno:12, totallen:200, nancount:0, test_reccnt:19\n",
      "a short ts: carid=13，len=67\n",
      "carno:14, totallen:187, nancount:13, test_reccnt:16\n",
      "carno:15, totallen:200, nancount:0, test_reccnt:19\n",
      "carno:17, totallen:199, nancount:1, test_reccnt:18\n",
      "carno:18, totallen:137, nancount:63, test_reccnt:6\n",
      "carno:19, totallen:199, nancount:1, test_reccnt:18\n",
      "carno:20, totallen:200, nancount:0, test_reccnt:19\n",
      "carno:21, totallen:199, nancount:1, test_reccnt:18\n",
      "carno:22, totallen:200, nancount:0, test_reccnt:19\n",
      "carno:23, totallen:200, nancount:0, test_reccnt:19\n",
      "carno:24, totallen:154, nancount:46, test_reccnt:9\n",
      "carno:25, totallen:200, nancount:0, test_reccnt:19\n",
      "carno:26, totallen:198, nancount:2, test_reccnt:18\n",
      "carno:27, totallen:200, nancount:0, test_reccnt:19\n",
      "carno:28, totallen:200, nancount:0, test_reccnt:19\n",
      "carno:29, totallen:200, nancount:0, test_reccnt:19\n",
      "a short ts: carid=30，len=46\n",
      "carno:32, totallen:110, nancount:90, test_reccnt:1\n",
      "a short ts: carid=33，len=46\n",
      "carno:59, totallen:198, nancount:2, test_reccnt:18\n",
      "carno:60, totallen:200, nancount:0, test_reccnt:19\n",
      "carno:64, totallen:200, nancount:0, test_reccnt:19\n",
      "carno:66, totallen:200, nancount:0, test_reccnt:19\n",
      "carno:88, totallen:200, nancount:0, test_reccnt:19\n",
      "carno:98, totallen:200, nancount:0, test_reccnt:19\n",
      "train len:0, test len:489\n",
      "model: oracle\n",
      "predicting model=oracle, plen=5\n",
      "loading model...done!, ctx:gpu(0)\n",
      "tss len=489, forecasts len=489\n"
     ]
    },
    {
     "name": "stderr",
     "output_type": "stream",
     "text": [
      "INFO:root:Using GPU\n"
     ]
    },
    {
     "name": "stdout",
     "output_type": "stream",
     "text": [
      "total:19, prediction_length:5\n",
      "top1acc= 0.631578947368421 top1acc_farmost= 0.47368421052631576 top5acc= 0.7326315789473684 top5acc_farmost= 0.7052631578947368\n",
      "tau =  0.7793794593492477 rmse =  12.436384639310699\n",
      "model: deepAR\n",
      "predicting model=deepAR, plen=5\n",
      "loading model...done!, ctx:gpu(0)\n",
      "tss len=489, forecasts len=489\n",
      "total:19, prediction_length:5\n",
      "top1acc= 0.30526315789473685 top1acc_farmost= 0.15789473684210525 top5acc= 0.5178947368421053 top5acc_farmost= 0.3684210526315789\n",
      "tau =  0.59856348341285 rmse =  29.88320089759118\n",
      "model: naive\n",
      "predicting model=naive, plen=5\n"
     ]
    },
    {
     "name": "stderr",
     "output_type": "stream",
     "text": [
      "/N/u/pengb/hpda/indycar/predictor/src/indycar/model/NaivePredictor.py:60: FutureWarning: Addition/subtraction of integers and integer-arrays to Timestamp is deprecated, will be removed in a future version.  Instead of adding/subtracting `n`, use `n * self.freq`\n",
      "  start_date=start + target_len,\n"
     ]
    },
    {
     "name": "stdout",
     "output_type": "stream",
     "text": [
      "tss len=489, forecasts len=489\n"
     ]
    },
    {
     "name": "stderr",
     "output_type": "stream",
     "text": [
      "INFO:root:Using GPU\n"
     ]
    },
    {
     "name": "stdout",
     "output_type": "stream",
     "text": [
      "total:19, prediction_length:5\n",
      "top1acc= 0.4631578947368421 top1acc_farmost= 0.3684210526315789 top5acc= 0.5726315789473684 top5acc_farmost= 0.4631578947368421\n",
      "tau =  0.5905404467830971 rmse =  34.88247980745826\n",
      "====event:Indy500, train_len=100, max_len=200, min_len=200\n",
      "carno:1, totallen:200, nancount:0, test_reccnt:19\n",
      "carno:3, totallen:146, nancount:54, test_reccnt:8\n",
      "carno:4, totallen:200, nancount:0, test_reccnt:19\n",
      "carno:6, totallen:200, nancount:0, test_reccnt:19\n",
      "carno:7, totallen:193, nancount:7, test_reccnt:17\n",
      "carno:9, totallen:200, nancount:0, test_reccnt:19\n",
      "a short ts: carid=10，len=57\n",
      "carno:12, totallen:200, nancount:0, test_reccnt:19\n",
      "a short ts: carid=13，len=67\n",
      "carno:14, totallen:187, nancount:13, test_reccnt:16\n",
      "carno:15, totallen:200, nancount:0, test_reccnt:19\n",
      "carno:17, totallen:199, nancount:1, test_reccnt:18\n",
      "carno:18, totallen:137, nancount:63, test_reccnt:6\n",
      "carno:19, totallen:199, nancount:1, test_reccnt:18\n",
      "carno:20, totallen:200, nancount:0, test_reccnt:19\n",
      "carno:21, totallen:199, nancount:1, test_reccnt:18\n",
      "carno:22, totallen:200, nancount:0, test_reccnt:19\n",
      "carno:23, totallen:200, nancount:0, test_reccnt:19\n",
      "carno:24, totallen:154, nancount:46, test_reccnt:9\n",
      "carno:25, totallen:200, nancount:0, test_reccnt:19\n",
      "carno:26, totallen:198, nancount:2, test_reccnt:18\n",
      "carno:27, totallen:200, nancount:0, test_reccnt:19\n",
      "carno:28, totallen:200, nancount:0, test_reccnt:19\n",
      "carno:29, totallen:200, nancount:0, test_reccnt:19\n",
      "a short ts: carid=30，len=46\n",
      "carno:32, totallen:110, nancount:90, test_reccnt:1\n",
      "a short ts: carid=33，len=46\n",
      "carno:59, totallen:198, nancount:2, test_reccnt:18\n",
      "carno:60, totallen:200, nancount:0, test_reccnt:19\n",
      "carno:64, totallen:200, nancount:0, test_reccnt:19\n",
      "carno:66, totallen:200, nancount:0, test_reccnt:19\n",
      "carno:88, totallen:200, nancount:0, test_reccnt:19\n",
      "carno:98, totallen:200, nancount:0, test_reccnt:19\n",
      "train len:0, test len:489\n",
      "model: curtrack\n",
      "predicting model=curtrack, plen=5\n",
      "loading model...done!, ctx:gpu(0)\n",
      "tss len=489, forecasts len=489\n"
     ]
    },
    {
     "name": "stderr",
     "output_type": "stream",
     "text": [
      "INFO:root:Using GPU\n"
     ]
    },
    {
     "name": "stdout",
     "output_type": "stream",
     "text": [
      "total:19, prediction_length:5\n",
      "top1acc= 0.3894736842105263 top1acc_farmost= 0.3157894736842105 top5acc= 0.5810526315789474 top5acc_farmost= 0.4421052631578947\n",
      "tau =  0.6386108869346395 rmse =  28.306562938182605\n",
      "====event:Indy500, train_len=100, max_len=200, min_len=200\n",
      "carno:1, totallen:200, nancount:0, test_reccnt:19\n",
      "carno:3, totallen:146, nancount:54, test_reccnt:8\n",
      "carno:4, totallen:200, nancount:0, test_reccnt:19\n",
      "carno:6, totallen:200, nancount:0, test_reccnt:19\n",
      "carno:7, totallen:193, nancount:7, test_reccnt:17\n",
      "carno:9, totallen:200, nancount:0, test_reccnt:19\n",
      "a short ts: carid=10，len=57\n",
      "carno:12, totallen:200, nancount:0, test_reccnt:19\n",
      "a short ts: carid=13，len=67\n",
      "carno:14, totallen:187, nancount:13, test_reccnt:16\n",
      "carno:15, totallen:200, nancount:0, test_reccnt:19\n",
      "carno:17, totallen:199, nancount:1, test_reccnt:18\n",
      "carno:18, totallen:137, nancount:63, test_reccnt:6\n",
      "carno:19, totallen:199, nancount:1, test_reccnt:18\n",
      "carno:20, totallen:200, nancount:0, test_reccnt:19\n",
      "carno:21, totallen:199, nancount:1, test_reccnt:18\n",
      "carno:22, totallen:200, nancount:0, test_reccnt:19\n",
      "carno:23, totallen:200, nancount:0, test_reccnt:19\n",
      "carno:24, totallen:154, nancount:46, test_reccnt:9\n",
      "carno:25, totallen:200, nancount:0, test_reccnt:19\n",
      "carno:26, totallen:198, nancount:2, test_reccnt:18\n",
      "carno:27, totallen:200, nancount:0, test_reccnt:19\n",
      "carno:28, totallen:200, nancount:0, test_reccnt:19\n",
      "carno:29, totallen:200, nancount:0, test_reccnt:19\n",
      "a short ts: carid=30，len=46\n",
      "carno:32, totallen:110, nancount:90, test_reccnt:1\n",
      "a short ts: carid=33，len=46\n",
      "carno:59, totallen:198, nancount:2, test_reccnt:18\n",
      "carno:60, totallen:200, nancount:0, test_reccnt:19\n",
      "carno:64, totallen:200, nancount:0, test_reccnt:19\n",
      "carno:66, totallen:200, nancount:0, test_reccnt:19\n",
      "carno:88, totallen:200, nancount:0, test_reccnt:19\n",
      "carno:98, totallen:200, nancount:0, test_reccnt:19\n",
      "train len:0, test len:489\n",
      "model: zerotrack\n",
      "predicting model=zerotrack, plen=5\n",
      "loading model...done!, ctx:gpu(0)\n",
      "tss len=489, forecasts len=489\n"
     ]
    },
    {
     "name": "stderr",
     "output_type": "stream",
     "text": [
      "INFO:root:Using GPU\n"
     ]
    },
    {
     "name": "stdout",
     "output_type": "stream",
     "text": [
      "total:19, prediction_length:5\n",
      "top1acc= 0.43157894736842106 top1acc_farmost= 0.3157894736842105 top5acc= 0.6063157894736843 top5acc_farmost= 0.5473684210526316\n",
      "tau =  0.6438687135487428 rmse =  27.586788659394355\n",
      "==============================\n",
      "====event:Indy500, train_len=100, max_len=200, min_len=200\n",
      "carno:1, totallen:200, nancount:0, test_reccnt:9\n",
      "carno:3, totallen:146, nancount:54, test_reccnt:3\n",
      "carno:4, totallen:200, nancount:0, test_reccnt:9\n",
      "carno:6, totallen:200, nancount:0, test_reccnt:9\n",
      "carno:7, totallen:193, nancount:7, test_reccnt:8\n",
      "carno:9, totallen:200, nancount:0, test_reccnt:9\n",
      "a short ts: carid=10，len=57\n",
      "carno:12, totallen:200, nancount:0, test_reccnt:9\n",
      "a short ts: carid=13，len=67\n",
      "carno:14, totallen:187, nancount:13, test_reccnt:7\n",
      "carno:15, totallen:200, nancount:0, test_reccnt:9\n",
      "carno:17, totallen:199, nancount:1, test_reccnt:8\n",
      "carno:18, totallen:137, nancount:63, test_reccnt:2\n",
      "carno:19, totallen:199, nancount:1, test_reccnt:8\n",
      "carno:20, totallen:200, nancount:0, test_reccnt:9\n",
      "carno:21, totallen:199, nancount:1, test_reccnt:8\n",
      "carno:22, totallen:200, nancount:0, test_reccnt:9\n",
      "carno:23, totallen:200, nancount:0, test_reccnt:9\n",
      "carno:24, totallen:154, nancount:46, test_reccnt:4\n",
      "carno:25, totallen:200, nancount:0, test_reccnt:9\n",
      "carno:26, totallen:198, nancount:2, test_reccnt:8\n",
      "carno:27, totallen:200, nancount:0, test_reccnt:9\n",
      "carno:28, totallen:200, nancount:0, test_reccnt:9\n",
      "carno:29, totallen:200, nancount:0, test_reccnt:9\n",
      "a short ts: carid=30，len=46\n",
      "carno:32, totallen:110, nancount:90, test_reccnt:0\n",
      "a short ts: carid=33，len=46\n",
      "carno:59, totallen:198, nancount:2, test_reccnt:8\n",
      "carno:60, totallen:200, nancount:0, test_reccnt:9\n",
      "carno:64, totallen:200, nancount:0, test_reccnt:9\n",
      "carno:66, totallen:200, nancount:0, test_reccnt:9\n",
      "carno:88, totallen:200, nancount:0, test_reccnt:9\n",
      "carno:98, totallen:200, nancount:0, test_reccnt:9\n",
      "train len:0, test len:226\n",
      "model: oracle\n",
      "predicting model=oracle, plen=10\n",
      "loading model...done!, ctx:gpu(0)\n",
      "tss len=226, forecasts len=226\n"
     ]
    },
    {
     "name": "stderr",
     "output_type": "stream",
     "text": [
      "INFO:root:Using GPU\n"
     ]
    },
    {
     "name": "stdout",
     "output_type": "stream",
     "text": [
      "total:9, prediction_length:10\n",
      "top1acc= 0.4777777777777778 top1acc_farmost= 0.2222222222222222 top5acc= 0.6577777777777778 top5acc_farmost= 0.6\n",
      "tau =  0.6230810474286745 rmse =  23.17051422240311\n",
      "model: deepAR\n",
      "predicting model=deepAR, plen=10\n",
      "loading model...done!, ctx:gpu(0)\n",
      "tss len=226, forecasts len=226\n",
      "total:9, prediction_length:10\n",
      "top1acc= 0.3111111111111111 top1acc_farmost= 0.2222222222222222 top5acc= 0.5088888888888888 top5acc_farmost= 0.37777777777777777\n",
      "tau =  0.4719952448034005 rmse =  38.792275222719674\n",
      "model: naive\n",
      "predicting model=naive, plen=10\n"
     ]
    },
    {
     "name": "stderr",
     "output_type": "stream",
     "text": [
      "/N/u/pengb/hpda/indycar/predictor/src/indycar/model/NaivePredictor.py:60: FutureWarning: Addition/subtraction of integers and integer-arrays to Timestamp is deprecated, will be removed in a future version.  Instead of adding/subtracting `n`, use `n * self.freq`\n",
      "  start_date=start + target_len,\n"
     ]
    },
    {
     "name": "stdout",
     "output_type": "stream",
     "text": [
      "tss len=226, forecasts len=226\n"
     ]
    },
    {
     "name": "stderr",
     "output_type": "stream",
     "text": [
      "INFO:root:Using GPU\n"
     ]
    },
    {
     "name": "stdout",
     "output_type": "stream",
     "text": [
      "total:9, prediction_length:10\n",
      "top1acc= 0.3 top1acc_farmost= 0.2222222222222222 top5acc= 0.4444444444444444 top5acc_farmost= 0.28888888888888886\n",
      "tau =  0.4102774175725867 rmse =  46.28773694207028\n",
      "====event:Indy500, train_len=100, max_len=200, min_len=200\n",
      "carno:1, totallen:200, nancount:0, test_reccnt:9\n",
      "carno:3, totallen:146, nancount:54, test_reccnt:3\n",
      "carno:4, totallen:200, nancount:0, test_reccnt:9\n",
      "carno:6, totallen:200, nancount:0, test_reccnt:9\n",
      "carno:7, totallen:193, nancount:7, test_reccnt:8\n",
      "carno:9, totallen:200, nancount:0, test_reccnt:9\n",
      "a short ts: carid=10，len=57\n",
      "carno:12, totallen:200, nancount:0, test_reccnt:9\n",
      "a short ts: carid=13，len=67\n",
      "carno:14, totallen:187, nancount:13, test_reccnt:7\n",
      "carno:15, totallen:200, nancount:0, test_reccnt:9\n",
      "carno:17, totallen:199, nancount:1, test_reccnt:8\n",
      "carno:18, totallen:137, nancount:63, test_reccnt:2\n",
      "carno:19, totallen:199, nancount:1, test_reccnt:8\n",
      "carno:20, totallen:200, nancount:0, test_reccnt:9\n",
      "carno:21, totallen:199, nancount:1, test_reccnt:8\n",
      "carno:22, totallen:200, nancount:0, test_reccnt:9\n",
      "carno:23, totallen:200, nancount:0, test_reccnt:9\n",
      "carno:24, totallen:154, nancount:46, test_reccnt:4\n",
      "carno:25, totallen:200, nancount:0, test_reccnt:9\n",
      "carno:26, totallen:198, nancount:2, test_reccnt:8\n",
      "carno:27, totallen:200, nancount:0, test_reccnt:9\n",
      "carno:28, totallen:200, nancount:0, test_reccnt:9\n",
      "carno:29, totallen:200, nancount:0, test_reccnt:9\n",
      "a short ts: carid=30，len=46\n",
      "carno:32, totallen:110, nancount:90, test_reccnt:0\n",
      "a short ts: carid=33，len=46\n",
      "carno:59, totallen:198, nancount:2, test_reccnt:8\n",
      "carno:60, totallen:200, nancount:0, test_reccnt:9\n",
      "carno:64, totallen:200, nancount:0, test_reccnt:9\n",
      "carno:66, totallen:200, nancount:0, test_reccnt:9\n",
      "carno:88, totallen:200, nancount:0, test_reccnt:9\n",
      "carno:98, totallen:200, nancount:0, test_reccnt:9\n",
      "train len:0, test len:226\n",
      "model: curtrack\n",
      "predicting model=curtrack, plen=10\n",
      "loading model...done!, ctx:gpu(0)\n",
      "tss len=226, forecasts len=226\n"
     ]
    },
    {
     "name": "stderr",
     "output_type": "stream",
     "text": [
      "INFO:root:Using GPU\n"
     ]
    },
    {
     "name": "stdout",
     "output_type": "stream",
     "text": [
      "total:9, prediction_length:10\n",
      "top1acc= 0.3 top1acc_farmost= 0.1111111111111111 top5acc= 0.4911111111111111 top5acc_farmost= 0.35555555555555557\n",
      "tau =  0.47787060152439526 rmse =  40.32968620268621\n",
      "====event:Indy500, train_len=100, max_len=200, min_len=200\n",
      "carno:1, totallen:200, nancount:0, test_reccnt:9\n",
      "carno:3, totallen:146, nancount:54, test_reccnt:3\n",
      "carno:4, totallen:200, nancount:0, test_reccnt:9\n",
      "carno:6, totallen:200, nancount:0, test_reccnt:9\n",
      "carno:7, totallen:193, nancount:7, test_reccnt:8\n",
      "carno:9, totallen:200, nancount:0, test_reccnt:9\n",
      "a short ts: carid=10，len=57\n",
      "carno:12, totallen:200, nancount:0, test_reccnt:9\n",
      "a short ts: carid=13，len=67\n",
      "carno:14, totallen:187, nancount:13, test_reccnt:7\n",
      "carno:15, totallen:200, nancount:0, test_reccnt:9\n",
      "carno:17, totallen:199, nancount:1, test_reccnt:8\n",
      "carno:18, totallen:137, nancount:63, test_reccnt:2\n",
      "carno:19, totallen:199, nancount:1, test_reccnt:8\n",
      "carno:20, totallen:200, nancount:0, test_reccnt:9\n",
      "carno:21, totallen:199, nancount:1, test_reccnt:8\n",
      "carno:22, totallen:200, nancount:0, test_reccnt:9\n",
      "carno:23, totallen:200, nancount:0, test_reccnt:9\n",
      "carno:24, totallen:154, nancount:46, test_reccnt:4\n",
      "carno:25, totallen:200, nancount:0, test_reccnt:9\n",
      "carno:26, totallen:198, nancount:2, test_reccnt:8\n",
      "carno:27, totallen:200, nancount:0, test_reccnt:9\n",
      "carno:28, totallen:200, nancount:0, test_reccnt:9\n",
      "carno:29, totallen:200, nancount:0, test_reccnt:9\n",
      "a short ts: carid=30，len=46\n",
      "carno:32, totallen:110, nancount:90, test_reccnt:0\n",
      "a short ts: carid=33，len=46\n",
      "carno:59, totallen:198, nancount:2, test_reccnt:8\n",
      "carno:60, totallen:200, nancount:0, test_reccnt:9\n",
      "carno:64, totallen:200, nancount:0, test_reccnt:9\n",
      "carno:66, totallen:200, nancount:0, test_reccnt:9\n",
      "carno:88, totallen:200, nancount:0, test_reccnt:9\n",
      "carno:98, totallen:200, nancount:0, test_reccnt:9\n",
      "train len:0, test len:226\n",
      "model: zerotrack\n",
      "predicting model=zerotrack, plen=10\n",
      "loading model...done!, ctx:gpu(0)\n",
      "tss len=226, forecasts len=226\n",
      "total:9, prediction_length:10\n",
      "top1acc= 0.32222222222222224 top1acc_farmost= 0.2222222222222222 top5acc= 0.5288888888888889 top5acc_farmost= 0.37777777777777777\n",
      "tau =  0.5338085561570927 rmse =  32.897524985302766\n"
     ]
    },
    {
     "name": "stderr",
     "output_type": "stream",
     "text": [
      "INFO:root:Using GPU\n"
     ]
    },
    {
     "name": "stdout",
     "output_type": "stream",
     "text": [
      "==============================\n",
      "====event:Indy500, train_len=100, max_len=200, min_len=200\n",
      "carno:1, totallen:200, nancount:0, test_reccnt:49\n",
      "carno:3, totallen:146, nancount:54, test_reccnt:22\n",
      "carno:4, totallen:200, nancount:0, test_reccnt:49\n",
      "carno:6, totallen:200, nancount:0, test_reccnt:49\n",
      "carno:7, totallen:193, nancount:7, test_reccnt:45\n",
      "carno:9, totallen:200, nancount:0, test_reccnt:49\n",
      "a short ts: carid=10，len=57\n",
      "carno:12, totallen:200, nancount:0, test_reccnt:49\n",
      "a short ts: carid=13，len=67\n",
      "carno:14, totallen:187, nancount:13, test_reccnt:42\n",
      "carno:15, totallen:200, nancount:0, test_reccnt:49\n",
      "carno:17, totallen:199, nancount:1, test_reccnt:48\n",
      "carno:18, totallen:137, nancount:63, test_reccnt:17\n",
      "carno:19, totallen:199, nancount:1, test_reccnt:48\n",
      "carno:20, totallen:200, nancount:0, test_reccnt:49\n",
      "carno:21, totallen:199, nancount:1, test_reccnt:48\n",
      "carno:22, totallen:200, nancount:0, test_reccnt:49\n",
      "carno:23, totallen:200, nancount:0, test_reccnt:49\n",
      "carno:24, totallen:154, nancount:46, test_reccnt:26\n",
      "carno:25, totallen:200, nancount:0, test_reccnt:49\n",
      "carno:26, totallen:198, nancount:2, test_reccnt:48\n",
      "carno:27, totallen:200, nancount:0, test_reccnt:49\n",
      "carno:28, totallen:200, nancount:0, test_reccnt:49\n",
      "carno:29, totallen:200, nancount:0, test_reccnt:49\n",
      "a short ts: carid=30，len=46\n",
      "carno:32, totallen:110, nancount:90, test_reccnt:4\n",
      "a short ts: carid=33，len=46\n",
      "carno:59, totallen:198, nancount:2, test_reccnt:48\n",
      "carno:60, totallen:200, nancount:0, test_reccnt:49\n",
      "carno:64, totallen:200, nancount:0, test_reccnt:49\n",
      "carno:66, totallen:200, nancount:0, test_reccnt:49\n",
      "carno:88, totallen:200, nancount:0, test_reccnt:49\n",
      "carno:98, totallen:200, nancount:0, test_reccnt:49\n",
      "train len:0, test len:1278\n",
      "model: oracle\n",
      "predicting model=oracle, plen=2\n",
      "loading model...done!, ctx:gpu(0)\n",
      "tss len=1278, forecasts len=1278\n"
     ]
    },
    {
     "name": "stderr",
     "output_type": "stream",
     "text": [
      "INFO:root:Using GPU\n"
     ]
    },
    {
     "name": "stdout",
     "output_type": "stream",
     "text": [
      "total:49, prediction_length:2\n",
      "top1acc= 0.7346938775510204 top1acc_farmost= 0.673469387755102 top5acc= 0.8408163265306122 top5acc_farmost= 0.7959183673469388\n",
      "tau =  0.866093141686011 rmse =  6.829564157519054\n",
      "model: deepAR\n",
      "predicting model=deepAR, plen=2\n",
      "loading model...done!, ctx:gpu(0)\n",
      "tss len=1278, forecasts len=1278\n",
      "total:49, prediction_length:2\n",
      "top1acc= 0.47959183673469385 top1acc_farmost= 0.4489795918367347 top5acc= 0.7408163265306122 top5acc_farmost= 0.6693877551020408\n",
      "tau =  0.7658392713995554 rmse =  15.462397128352668\n",
      "model: naive\n",
      "predicting model=naive, plen=2\n"
     ]
    },
    {
     "name": "stderr",
     "output_type": "stream",
     "text": [
      "/N/u/pengb/hpda/indycar/predictor/src/indycar/model/NaivePredictor.py:60: FutureWarning: Addition/subtraction of integers and integer-arrays to Timestamp is deprecated, will be removed in a future version.  Instead of adding/subtracting `n`, use `n * self.freq`\n",
      "  start_date=start + target_len,\n"
     ]
    },
    {
     "name": "stdout",
     "output_type": "stream",
     "text": [
      "tss len=1278, forecasts len=1278\n",
      "total:49, prediction_length:2\n",
      "top1acc= 0.7142857142857143 top1acc_farmost= 0.6326530612244898 top5acc= 0.8387755102040816 top5acc_farmost= 0.7714285714285715\n",
      "tau =  0.8336333931477701 rmse =  12.048809962278582\n",
      "====event:Indy500, train_len=100, max_len=200, min_len=200\n",
      "carno:1, totallen:200, nancount:0, test_reccnt:49\n",
      "carno:3, totallen:146, nancount:54, test_reccnt:22\n",
      "carno:4, totallen:200, nancount:0, test_reccnt:49\n",
      "carno:6, totallen:200, nancount:0, test_reccnt:49\n",
      "carno:7, totallen:193, nancount:7, test_reccnt:45\n",
      "carno:9, totallen:200, nancount:0, test_reccnt:49\n",
      "a short ts: carid=10，len=57\n",
      "carno:12, totallen:200, nancount:0, test_reccnt:49\n",
      "a short ts: carid=13，len=67\n",
      "carno:14, totallen:187, nancount:13, test_reccnt:42\n",
      "carno:15, totallen:200, nancount:0, test_reccnt:49\n",
      "carno:17, totallen:199, nancount:1, test_reccnt:48\n",
      "carno:18, totallen:137, nancount:63, test_reccnt:17\n",
      "carno:19, totallen:199, nancount:1, test_reccnt:48\n",
      "carno:20, totallen:200, nancount:0, test_reccnt:49\n",
      "carno:21, totallen:199, nancount:1, test_reccnt:48\n",
      "carno:22, totallen:200, nancount:0, test_reccnt:49\n",
      "carno:23, totallen:200, nancount:0, test_reccnt:49\n",
      "carno:24, totallen:154, nancount:46, test_reccnt:26\n",
      "carno:25, totallen:200, nancount:0, test_reccnt:49\n",
      "carno:26, totallen:198, nancount:2, test_reccnt:48\n",
      "carno:27, totallen:200, nancount:0, test_reccnt:49\n",
      "carno:28, totallen:200, nancount:0, test_reccnt:49\n",
      "carno:29, totallen:200, nancount:0, test_reccnt:49\n",
      "a short ts: carid=30，len=46\n",
      "carno:32, totallen:110, nancount:90, test_reccnt:4\n",
      "a short ts: carid=33，len=46\n",
      "carno:59, totallen:198, nancount:2, test_reccnt:48\n",
      "carno:60, totallen:200, nancount:0, test_reccnt:49\n",
      "carno:64, totallen:200, nancount:0, test_reccnt:49\n",
      "carno:66, totallen:200, nancount:0, test_reccnt:49\n",
      "carno:88, totallen:200, nancount:0, test_reccnt:49\n",
      "carno:98, totallen:200, nancount:0, test_reccnt:49\n",
      "train len:0, test len:1278\n",
      "model: "
     ]
    },
    {
     "name": "stderr",
     "output_type": "stream",
     "text": [
      "INFO:root:Using GPU\n"
     ]
    },
    {
     "name": "stdout",
     "output_type": "stream",
     "text": [
      "curtrack\n",
      "predicting model=curtrack, plen=2\n",
      "loading model...done!, ctx:gpu(0)\n",
      "tss len=1278, forecasts len=1278\n"
     ]
    },
    {
     "name": "stderr",
     "output_type": "stream",
     "text": [
      "INFO:root:Using GPU\n"
     ]
    },
    {
     "name": "stdout",
     "output_type": "stream",
     "text": [
      "total:49, prediction_length:2\n",
      "top1acc= 0.5714285714285714 top1acc_farmost= 0.46938775510204084 top5acc= 0.8081632653061225 top5acc_farmost= 0.7224489795918367\n",
      "tau =  0.8251245088056228 rmse =  11.232394204831252\n",
      "====event:Indy500, train_len=100, max_len=200, min_len=200\n",
      "carno:1, totallen:200, nancount:0, test_reccnt:49\n",
      "carno:3, totallen:146, nancount:54, test_reccnt:22\n",
      "carno:4, totallen:200, nancount:0, test_reccnt:49\n",
      "carno:6, totallen:200, nancount:0, test_reccnt:49\n",
      "carno:7, totallen:193, nancount:7, test_reccnt:45\n",
      "carno:9, totallen:200, nancount:0, test_reccnt:49\n",
      "a short ts: carid=10，len=57\n",
      "carno:12, totallen:200, nancount:0, test_reccnt:49\n",
      "a short ts: carid=13，len=67\n",
      "carno:14, totallen:187, nancount:13, test_reccnt:42\n",
      "carno:15, totallen:200, nancount:0, test_reccnt:49\n",
      "carno:17, totallen:199, nancount:1, test_reccnt:48\n",
      "carno:18, totallen:137, nancount:63, test_reccnt:17\n",
      "carno:19, totallen:199, nancount:1, test_reccnt:48\n",
      "carno:20, totallen:200, nancount:0, test_reccnt:49\n",
      "carno:21, totallen:199, nancount:1, test_reccnt:48\n",
      "carno:22, totallen:200, nancount:0, test_reccnt:49\n",
      "carno:23, totallen:200, nancount:0, test_reccnt:49\n",
      "carno:24, totallen:154, nancount:46, test_reccnt:26\n",
      "carno:25, totallen:200, nancount:0, test_reccnt:49\n",
      "carno:26, totallen:198, nancount:2, test_reccnt:48\n",
      "carno:27, totallen:200, nancount:0, test_reccnt:49\n",
      "carno:28, totallen:200, nancount:0, test_reccnt:49\n",
      "carno:29, totallen:200, nancount:0, test_reccnt:49\n",
      "a short ts: carid=30，len=46\n",
      "carno:32, totallen:110, nancount:90, test_reccnt:4\n",
      "a short ts: carid=33，len=46\n",
      "carno:59, totallen:198, nancount:2, test_reccnt:48\n",
      "carno:60, totallen:200, nancount:0, test_reccnt:49\n",
      "carno:64, totallen:200, nancount:0, test_reccnt:49\n",
      "carno:66, totallen:200, nancount:0, test_reccnt:49\n",
      "carno:88, totallen:200, nancount:0, test_reccnt:49\n",
      "carno:98, totallen:200, nancount:0, test_reccnt:49\n",
      "train len:0, test len:1278\n",
      "model: zerotrack\n",
      "predicting model=zerotrack, plen=2\n",
      "loading model...done!, ctx:gpu(0)\n",
      "tss len=1278, forecasts len=1278\n"
     ]
    },
    {
     "name": "stderr",
     "output_type": "stream",
     "text": [
      "INFO:root:Using GPU\n"
     ]
    },
    {
     "name": "stdout",
     "output_type": "stream",
     "text": [
      "total:49, prediction_length:2\n",
      "top1acc= 0.5102040816326531 top1acc_farmost= 0.40816326530612246 top5acc= 0.7571428571428571 top5acc_farmost= 0.710204081632653\n",
      "tau =  0.8068251229056811 rmse =  12.770995523207223\n",
      "==============================\n",
      "====event:Indy500, train_len=100, max_len=200, min_len=200\n",
      "carno:1, totallen:200, nancount:0, test_reccnt:19\n",
      "carno:3, totallen:146, nancount:54, test_reccnt:8\n",
      "carno:4, totallen:200, nancount:0, test_reccnt:19\n",
      "carno:6, totallen:200, nancount:0, test_reccnt:19\n",
      "carno:7, totallen:193, nancount:7, test_reccnt:17\n",
      "carno:9, totallen:200, nancount:0, test_reccnt:19\n",
      "a short ts: carid=10，len=57\n",
      "carno:12, totallen:200, nancount:0, test_reccnt:19\n",
      "a short ts: carid=13，len=67\n",
      "carno:14, totallen:187, nancount:13, test_reccnt:16\n",
      "carno:15, totallen:200, nancount:0, test_reccnt:19\n",
      "carno:17, totallen:199, nancount:1, test_reccnt:18\n",
      "carno:18, totallen:137, nancount:63, test_reccnt:6\n",
      "carno:19, totallen:199, nancount:1, test_reccnt:18\n",
      "carno:20, totallen:200, nancount:0, test_reccnt:19\n",
      "carno:21, totallen:199, nancount:1, test_reccnt:18\n",
      "carno:22, totallen:200, nancount:0, test_reccnt:19\n",
      "carno:23, totallen:200, nancount:0, test_reccnt:19\n",
      "carno:24, totallen:154, nancount:46, test_reccnt:9\n",
      "carno:25, totallen:200, nancount:0, test_reccnt:19\n",
      "carno:26, totallen:198, nancount:2, test_reccnt:18\n",
      "carno:27, totallen:200, nancount:0, test_reccnt:19\n",
      "carno:28, totallen:200, nancount:0, test_reccnt:19\n",
      "carno:29, totallen:200, nancount:0, test_reccnt:19\n",
      "a short ts: carid=30，len=46\n",
      "carno:32, totallen:110, nancount:90, test_reccnt:1\n",
      "a short ts: carid=33，len=46\n",
      "carno:59, totallen:198, nancount:2, test_reccnt:18\n",
      "carno:60, totallen:200, nancount:0, test_reccnt:19\n",
      "carno:64, totallen:200, nancount:0, test_reccnt:19\n",
      "carno:66, totallen:200, nancount:0, test_reccnt:19\n",
      "carno:88, totallen:200, nancount:0, test_reccnt:19\n",
      "carno:98, totallen:200, nancount:0, test_reccnt:19\n",
      "train len:0, test len:489\n",
      "model: oracle\n",
      "predicting model=oracle, plen=5\n",
      "loading model...done!, ctx:gpu(0)\n",
      "tss len=489, forecasts len=489\n"
     ]
    },
    {
     "name": "stderr",
     "output_type": "stream",
     "text": [
      "INFO:root:Using GPU\n"
     ]
    },
    {
     "name": "stdout",
     "output_type": "stream",
     "text": [
      "total:19, prediction_length:5\n",
      "top1acc= 0.6105263157894737 top1acc_farmost= 0.42105263157894735 top5acc= 0.7242105263157895 top5acc_farmost= 0.6842105263157895\n",
      "tau =  0.7810778301255283 rmse =  12.392360670895192\n",
      "model: deepAR\n",
      "predicting model=deepAR, plen=5\n",
      "loading model...done!, ctx:gpu(0)\n",
      "tss len=489, forecasts len=489\n",
      "total:19, prediction_length:5\n",
      "top1acc= 0.3263157894736842 top1acc_farmost= 0.2631578947368421 top5acc= 0.5684210526315789 top5acc_farmost= 0.4631578947368421\n",
      "tau =  0.599433294736638 rmse =  30.05552036448841\n",
      "model: naive\n",
      "predicting model=naive, plen=5\n"
     ]
    },
    {
     "name": "stderr",
     "output_type": "stream",
     "text": [
      "/N/u/pengb/hpda/indycar/predictor/src/indycar/model/NaivePredictor.py:60: FutureWarning: Addition/subtraction of integers and integer-arrays to Timestamp is deprecated, will be removed in a future version.  Instead of adding/subtracting `n`, use `n * self.freq`\n",
      "  start_date=start + target_len,\n"
     ]
    },
    {
     "name": "stdout",
     "output_type": "stream",
     "text": [
      "tss len=489, forecasts len=489\n"
     ]
    },
    {
     "name": "stderr",
     "output_type": "stream",
     "text": [
      "INFO:root:Using GPU\n"
     ]
    },
    {
     "name": "stdout",
     "output_type": "stream",
     "text": [
      "total:19, prediction_length:5\n",
      "top1acc= 0.4631578947368421 top1acc_farmost= 0.3684210526315789 top5acc= 0.5726315789473684 top5acc_farmost= 0.4631578947368421\n",
      "tau =  0.5905404467830971 rmse =  34.88247980745826\n",
      "====event:Indy500, train_len=100, max_len=200, min_len=200\n",
      "carno:1, totallen:200, nancount:0, test_reccnt:19\n",
      "carno:3, totallen:146, nancount:54, test_reccnt:8\n",
      "carno:4, totallen:200, nancount:0, test_reccnt:19\n",
      "carno:6, totallen:200, nancount:0, test_reccnt:19\n",
      "carno:7, totallen:193, nancount:7, test_reccnt:17\n",
      "carno:9, totallen:200, nancount:0, test_reccnt:19\n",
      "a short ts: carid=10，len=57\n",
      "carno:12, totallen:200, nancount:0, test_reccnt:19\n",
      "a short ts: carid=13，len=67\n",
      "carno:14, totallen:187, nancount:13, test_reccnt:16\n",
      "carno:15, totallen:200, nancount:0, test_reccnt:19\n",
      "carno:17, totallen:199, nancount:1, test_reccnt:18\n",
      "carno:18, totallen:137, nancount:63, test_reccnt:6\n",
      "carno:19, totallen:199, nancount:1, test_reccnt:18\n",
      "carno:20, totallen:200, nancount:0, test_reccnt:19\n",
      "carno:21, totallen:199, nancount:1, test_reccnt:18\n",
      "carno:22, totallen:200, nancount:0, test_reccnt:19\n",
      "carno:23, totallen:200, nancount:0, test_reccnt:19\n",
      "carno:24, totallen:154, nancount:46, test_reccnt:9\n",
      "carno:25, totallen:200, nancount:0, test_reccnt:19\n",
      "carno:26, totallen:198, nancount:2, test_reccnt:18\n",
      "carno:27, totallen:200, nancount:0, test_reccnt:19\n",
      "carno:28, totallen:200, nancount:0, test_reccnt:19\n",
      "carno:29, totallen:200, nancount:0, test_reccnt:19\n",
      "a short ts: carid=30，len=46\n",
      "carno:32, totallen:110, nancount:90, test_reccnt:1\n",
      "a short ts: carid=33，len=46\n",
      "carno:59, totallen:198, nancount:2, test_reccnt:18\n",
      "carno:60, totallen:200, nancount:0, test_reccnt:19\n",
      "carno:64, totallen:200, nancount:0, test_reccnt:19\n",
      "carno:66, totallen:200, nancount:0, test_reccnt:19\n",
      "carno:88, totallen:200, nancount:0, test_reccnt:19\n",
      "carno:98, totallen:200, nancount:0, test_reccnt:19\n",
      "train len:0, test len:489\n",
      "model: curtrack\n",
      "predicting model=curtrack, plen=5\n",
      "loading model...done!, ctx:gpu(0)\n",
      "tss len=489, forecasts len=489\n"
     ]
    },
    {
     "name": "stderr",
     "output_type": "stream",
     "text": [
      "INFO:root:Using GPU\n"
     ]
    },
    {
     "name": "stdout",
     "output_type": "stream",
     "text": [
      "total:19, prediction_length:5\n",
      "top1acc= 0.3894736842105263 top1acc_farmost= 0.3157894736842105 top5acc= 0.5894736842105263 top5acc_farmost= 0.45263157894736844\n",
      "tau =  0.6447899942715248 rmse =  27.66290676678241\n",
      "====event:Indy500, train_len=100, max_len=200, min_len=200\n",
      "carno:1, totallen:200, nancount:0, test_reccnt:19\n",
      "carno:3, totallen:146, nancount:54, test_reccnt:8\n",
      "carno:4, totallen:200, nancount:0, test_reccnt:19\n",
      "carno:6, totallen:200, nancount:0, test_reccnt:19\n",
      "carno:7, totallen:193, nancount:7, test_reccnt:17\n",
      "carno:9, totallen:200, nancount:0, test_reccnt:19\n",
      "a short ts: carid=10，len=57\n",
      "carno:12, totallen:200, nancount:0, test_reccnt:19\n",
      "a short ts: carid=13，len=67\n",
      "carno:14, totallen:187, nancount:13, test_reccnt:16\n",
      "carno:15, totallen:200, nancount:0, test_reccnt:19\n",
      "carno:17, totallen:199, nancount:1, test_reccnt:18\n",
      "carno:18, totallen:137, nancount:63, test_reccnt:6\n",
      "carno:19, totallen:199, nancount:1, test_reccnt:18\n",
      "carno:20, totallen:200, nancount:0, test_reccnt:19\n",
      "carno:21, totallen:199, nancount:1, test_reccnt:18\n",
      "carno:22, totallen:200, nancount:0, test_reccnt:19\n",
      "carno:23, totallen:200, nancount:0, test_reccnt:19\n",
      "carno:24, totallen:154, nancount:46, test_reccnt:9\n",
      "carno:25, totallen:200, nancount:0, test_reccnt:19\n",
      "carno:26, totallen:198, nancount:2, test_reccnt:18\n",
      "carno:27, totallen:200, nancount:0, test_reccnt:19\n",
      "carno:28, totallen:200, nancount:0, test_reccnt:19\n",
      "carno:29, totallen:200, nancount:0, test_reccnt:19\n",
      "a short ts: carid=30，len=46\n",
      "carno:32, totallen:110, nancount:90, test_reccnt:1\n",
      "a short ts: carid=33，len=46\n",
      "carno:59, totallen:198, nancount:2, test_reccnt:18\n",
      "carno:60, totallen:200, nancount:0, test_reccnt:19\n",
      "carno:64, totallen:200, nancount:0, test_reccnt:19\n",
      "carno:66, totallen:200, nancount:0, test_reccnt:19\n",
      "carno:88, totallen:200, nancount:0, test_reccnt:19\n",
      "carno:98, totallen:200, nancount:0, test_reccnt:19\n",
      "train len:0, test len:489\n",
      "model: zerotrack\n",
      "predicting model=zerotrack, plen=5\n",
      "loading model...done!, ctx:gpu(0)\n",
      "tss len=489, forecasts len=489\n"
     ]
    },
    {
     "name": "stderr",
     "output_type": "stream",
     "text": [
      "INFO:root:Using GPU\n"
     ]
    },
    {
     "name": "stdout",
     "output_type": "stream",
     "text": [
      "total:19, prediction_length:5\n",
      "top1acc= 0.43157894736842106 top1acc_farmost= 0.3157894736842105 top5acc= 0.5873684210526315 top5acc_farmost= 0.5157894736842106\n",
      "tau =  0.6286225054509011 rmse =  28.898420617273132\n",
      "==============================\n",
      "====event:Indy500, train_len=100, max_len=200, min_len=200\n",
      "carno:1, totallen:200, nancount:0, test_reccnt:9\n",
      "carno:3, totallen:146, nancount:54, test_reccnt:3\n",
      "carno:4, totallen:200, nancount:0, test_reccnt:9\n",
      "carno:6, totallen:200, nancount:0, test_reccnt:9\n",
      "carno:7, totallen:193, nancount:7, test_reccnt:8\n",
      "carno:9, totallen:200, nancount:0, test_reccnt:9\n",
      "a short ts: carid=10，len=57\n",
      "carno:12, totallen:200, nancount:0, test_reccnt:9\n",
      "a short ts: carid=13，len=67\n",
      "carno:14, totallen:187, nancount:13, test_reccnt:7\n",
      "carno:15, totallen:200, nancount:0, test_reccnt:9\n",
      "carno:17, totallen:199, nancount:1, test_reccnt:8\n",
      "carno:18, totallen:137, nancount:63, test_reccnt:2\n",
      "carno:19, totallen:199, nancount:1, test_reccnt:8\n",
      "carno:20, totallen:200, nancount:0, test_reccnt:9\n",
      "carno:21, totallen:199, nancount:1, test_reccnt:8\n",
      "carno:22, totallen:200, nancount:0, test_reccnt:9\n",
      "carno:23, totallen:200, nancount:0, test_reccnt:9\n",
      "carno:24, totallen:154, nancount:46, test_reccnt:4\n",
      "carno:25, totallen:200, nancount:0, test_reccnt:9\n",
      "carno:26, totallen:198, nancount:2, test_reccnt:8\n",
      "carno:27, totallen:200, nancount:0, test_reccnt:9\n",
      "carno:28, totallen:200, nancount:0, test_reccnt:9\n",
      "carno:29, totallen:200, nancount:0, test_reccnt:9\n",
      "a short ts: carid=30，len=46\n",
      "carno:32, totallen:110, nancount:90, test_reccnt:0\n",
      "a short ts: carid=33，len=46\n",
      "carno:59, totallen:198, nancount:2, test_reccnt:8\n",
      "carno:60, totallen:200, nancount:0, test_reccnt:9\n",
      "carno:64, totallen:200, nancount:0, test_reccnt:9\n",
      "carno:66, totallen:200, nancount:0, test_reccnt:9\n",
      "carno:88, totallen:200, nancount:0, test_reccnt:9\n",
      "carno:98, totallen:200, nancount:0, test_reccnt:9\n",
      "train len:0, test len:226\n",
      "model: oracle\n",
      "predicting model=oracle, plen=10\n",
      "loading model...done!, ctx:gpu(0)\n",
      "tss len=226, forecasts len=226\n"
     ]
    },
    {
     "name": "stderr",
     "output_type": "stream",
     "text": [
      "INFO:root:Using GPU\n"
     ]
    },
    {
     "name": "stdout",
     "output_type": "stream",
     "text": [
      "total:9, prediction_length:10\n",
      "top1acc= 0.4666666666666667 top1acc_farmost= 0.2222222222222222 top5acc= 0.6711111111111111 top5acc_farmost= 0.6222222222222222\n",
      "tau =  0.6279488976118134 rmse =  22.83870157825713\n",
      "model: deepAR\n",
      "predicting model=deepAR, plen=10\n",
      "loading model...done!, ctx:gpu(0)\n",
      "tss len=226, forecasts len=226\n",
      "total:9, prediction_length:10\n",
      "top1acc= 0.3 top1acc_farmost= 0.3333333333333333 top5acc= 0.49777777777777776 top5acc_farmost= 0.35555555555555557\n",
      "tau =  0.47544372812835445 rmse =  38.663745036856156\n",
      "model: naive\n",
      "predicting model=naive, plen=10\n"
     ]
    },
    {
     "name": "stderr",
     "output_type": "stream",
     "text": [
      "/N/u/pengb/hpda/indycar/predictor/src/indycar/model/NaivePredictor.py:60: FutureWarning: Addition/subtraction of integers and integer-arrays to Timestamp is deprecated, will be removed in a future version.  Instead of adding/subtracting `n`, use `n * self.freq`\n",
      "  start_date=start + target_len,\n"
     ]
    },
    {
     "name": "stdout",
     "output_type": "stream",
     "text": [
      "tss len=226, forecasts len=226\n"
     ]
    },
    {
     "name": "stderr",
     "output_type": "stream",
     "text": [
      "INFO:root:Using GPU\n"
     ]
    },
    {
     "name": "stdout",
     "output_type": "stream",
     "text": [
      "total:9, prediction_length:10\n",
      "top1acc= 0.3 top1acc_farmost= 0.2222222222222222 top5acc= 0.4444444444444444 top5acc_farmost= 0.28888888888888886\n",
      "tau =  0.4102774175725867 rmse =  46.28773694207028\n",
      "====event:Indy500, train_len=100, max_len=200, min_len=200\n",
      "carno:1, totallen:200, nancount:0, test_reccnt:9\n",
      "carno:3, totallen:146, nancount:54, test_reccnt:3\n",
      "carno:4, totallen:200, nancount:0, test_reccnt:9\n",
      "carno:6, totallen:200, nancount:0, test_reccnt:9\n",
      "carno:7, totallen:193, nancount:7, test_reccnt:8\n",
      "carno:9, totallen:200, nancount:0, test_reccnt:9\n",
      "a short ts: carid=10，len=57\n",
      "carno:12, totallen:200, nancount:0, test_reccnt:9\n",
      "a short ts: carid=13，len=67\n",
      "carno:14, totallen:187, nancount:13, test_reccnt:7\n",
      "carno:15, totallen:200, nancount:0, test_reccnt:9\n",
      "carno:17, totallen:199, nancount:1, test_reccnt:8\n",
      "carno:18, totallen:137, nancount:63, test_reccnt:2\n",
      "carno:19, totallen:199, nancount:1, test_reccnt:8\n",
      "carno:20, totallen:200, nancount:0, test_reccnt:9\n",
      "carno:21, totallen:199, nancount:1, test_reccnt:8\n",
      "carno:22, totallen:200, nancount:0, test_reccnt:9\n",
      "carno:23, totallen:200, nancount:0, test_reccnt:9\n",
      "carno:24, totallen:154, nancount:46, test_reccnt:4\n",
      "carno:25, totallen:200, nancount:0, test_reccnt:9\n",
      "carno:26, totallen:198, nancount:2, test_reccnt:8\n",
      "carno:27, totallen:200, nancount:0, test_reccnt:9\n",
      "carno:28, totallen:200, nancount:0, test_reccnt:9\n",
      "carno:29, totallen:200, nancount:0, test_reccnt:9\n",
      "a short ts: carid=30，len=46\n",
      "carno:32, totallen:110, nancount:90, test_reccnt:0\n",
      "a short ts: carid=33，len=46\n",
      "carno:59, totallen:198, nancount:2, test_reccnt:8\n",
      "carno:60, totallen:200, nancount:0, test_reccnt:9\n",
      "carno:64, totallen:200, nancount:0, test_reccnt:9\n",
      "carno:66, totallen:200, nancount:0, test_reccnt:9\n",
      "carno:88, totallen:200, nancount:0, test_reccnt:9\n",
      "carno:98, totallen:200, nancount:0, test_reccnt:9\n",
      "train len:0, test len:226\n",
      "model: curtrack\n",
      "predicting model=curtrack, plen=10\n",
      "loading model...done!, ctx:gpu(0)\n",
      "tss len=226, forecasts len=226\n"
     ]
    },
    {
     "name": "stderr",
     "output_type": "stream",
     "text": [
      "INFO:root:Using GPU\n"
     ]
    },
    {
     "name": "stdout",
     "output_type": "stream",
     "text": [
      "total:9, prediction_length:10\n",
      "top1acc= 0.3111111111111111 top1acc_farmost= 0.1111111111111111 top5acc= 0.49777777777777776 top5acc_farmost= 0.35555555555555557\n",
      "tau =  0.48991247507715247 rmse =  39.236249807805365\n",
      "====event:Indy500, train_len=100, max_len=200, min_len=200\n",
      "carno:1, totallen:200, nancount:0, test_reccnt:9\n",
      "carno:3, totallen:146, nancount:54, test_reccnt:3\n",
      "carno:4, totallen:200, nancount:0, test_reccnt:9\n",
      "carno:6, totallen:200, nancount:0, test_reccnt:9\n",
      "carno:7, totallen:193, nancount:7, test_reccnt:8\n",
      "carno:9, totallen:200, nancount:0, test_reccnt:9\n",
      "a short ts: carid=10，len=57\n",
      "carno:12, totallen:200, nancount:0, test_reccnt:9\n",
      "a short ts: carid=13，len=67\n",
      "carno:14, totallen:187, nancount:13, test_reccnt:7\n",
      "carno:15, totallen:200, nancount:0, test_reccnt:9\n",
      "carno:17, totallen:199, nancount:1, test_reccnt:8\n",
      "carno:18, totallen:137, nancount:63, test_reccnt:2\n",
      "carno:19, totallen:199, nancount:1, test_reccnt:8\n",
      "carno:20, totallen:200, nancount:0, test_reccnt:9\n",
      "carno:21, totallen:199, nancount:1, test_reccnt:8\n",
      "carno:22, totallen:200, nancount:0, test_reccnt:9\n",
      "carno:23, totallen:200, nancount:0, test_reccnt:9\n",
      "carno:24, totallen:154, nancount:46, test_reccnt:4\n",
      "carno:25, totallen:200, nancount:0, test_reccnt:9\n",
      "carno:26, totallen:198, nancount:2, test_reccnt:8\n",
      "carno:27, totallen:200, nancount:0, test_reccnt:9\n",
      "carno:28, totallen:200, nancount:0, test_reccnt:9\n",
      "carno:29, totallen:200, nancount:0, test_reccnt:9\n",
      "a short ts: carid=30，len=46\n",
      "carno:32, totallen:110, nancount:90, test_reccnt:0\n",
      "a short ts: carid=33，len=46\n",
      "carno:59, totallen:198, nancount:2, test_reccnt:8\n",
      "carno:60, totallen:200, nancount:0, test_reccnt:9\n",
      "carno:64, totallen:200, nancount:0, test_reccnt:9\n",
      "carno:66, totallen:200, nancount:0, test_reccnt:9\n",
      "carno:88, totallen:200, nancount:0, test_reccnt:9\n",
      "carno:98, totallen:200, nancount:0, test_reccnt:9\n",
      "train len:0, test len:226\n",
      "model: zerotrack\n",
      "predicting model=zerotrack, plen=10\n",
      "loading model...done!, ctx:gpu(0)\n",
      "tss len=226, forecasts len=226\n",
      "total:9, prediction_length:10\n",
      "top1acc= 0.3333333333333333 top1acc_farmost= 0.1111111111111111 top5acc= 0.5666666666666667 top5acc_farmost= 0.4888888888888889\n",
      "tau =  0.5532878771476385 rmse =  30.909820829376386\n",
      "==============================\n",
      "====event:Indy500, train_len=100, max_len=200, min_len=200\n",
      "carno:1, totallen:200, nancount:0, test_reccnt:49\n",
      "carno:3, totallen:146, nancount:54, test_reccnt:22\n",
      "carno:4, totallen:200, nancount:0, test_reccnt:49\n",
      "carno:6, totallen:200, nancount:0, test_reccnt:49\n",
      "carno:7, totallen:193, nancount:7, test_reccnt:45\n",
      "carno:9, totallen:200, nancount:0, test_reccnt:49\n",
      "a short ts: carid=10，len=57\n",
      "carno:12, totallen:200, nancount:0, test_reccnt:49\n",
      "a short ts: carid=13，len=67\n",
      "carno:14, totallen:187, nancount:13, test_reccnt:42\n",
      "carno:15, totallen:200, nancount:0, test_reccnt:49\n",
      "carno:17, totallen:199, nancount:1, test_reccnt:48\n",
      "carno:18, totallen:137, nancount:63, test_reccnt:17\n",
      "carno:19, totallen:199, nancount:1, test_reccnt:48\n",
      "carno:20, totallen:200, nancount:0, test_reccnt:49\n",
      "carno:21, totallen:199, nancount:1, test_reccnt:48\n",
      "carno:22, totallen:200, nancount:0, test_reccnt:49\n",
      "carno:23, totallen:200, nancount:0, test_reccnt:49\n",
      "carno:24, totallen:154, nancount:46, test_reccnt:26\n",
      "carno:25, totallen:200, nancount:0, test_reccnt:49\n",
      "carno:26, totallen:198, nancount:2, test_reccnt:48\n",
      "carno:27, totallen:200, nancount:0, test_reccnt:49\n",
      "carno:28, totallen:200, nancount:0, test_reccnt:49\n",
      "carno:29, totallen:200, nancount:0, test_reccnt:49\n",
      "a short ts: carid=30，len=46\n",
      "carno:32, totallen:110, nancount:90, test_reccnt:4\n",
      "a short ts: carid=33，len=46\n",
      "carno:59, totallen:198, nancount:2, test_reccnt:48\n",
      "carno:60, totallen:200, nancount:0, test_reccnt:49\n",
      "carno:64, totallen:200, nancount:0, test_reccnt:49\n",
      "carno:66, totallen:200, nancount:0, test_reccnt:49\n",
      "carno:88, totallen:200, nancount:0, test_reccnt:49\n",
      "carno:98, totallen:200, nancount:0, test_reccnt:49\n",
      "train len:0, test len:1278\n"
     ]
    },
    {
     "name": "stderr",
     "output_type": "stream",
     "text": [
      "INFO:root:Using GPU\n"
     ]
    },
    {
     "name": "stdout",
     "output_type": "stream",
     "text": [
      "model: oracle\n",
      "predicting model=oracle, plen=2\n",
      "loading model...done!, ctx:gpu(0)\n",
      "tss len=1278, forecasts len=1278\n"
     ]
    },
    {
     "name": "stderr",
     "output_type": "stream",
     "text": [
      "INFO:root:Using GPU\n"
     ]
    },
    {
     "name": "stdout",
     "output_type": "stream",
     "text": [
      "total:49, prediction_length:2\n",
      "top1acc= 0.7551020408163265 top1acc_farmost= 0.673469387755102 top5acc= 0.8530612244897959 top5acc_farmost= 0.8040816326530612\n",
      "tau =  0.8708302296294297 rmse =  6.641368670963413\n",
      "model: deepAR\n",
      "predicting model=deepAR, plen=2\n",
      "loading model...done!, ctx:gpu(0)\n",
      "tss len=1278, forecasts len=1278\n",
      "total:49, prediction_length:2\n",
      "top1acc= 0.4897959183673469 top1acc_farmost= 0.42857142857142855 top5acc= 0.736734693877551 top5acc_farmost= 0.6612244897959184\n",
      "tau =  0.7633343280797119 rmse =  15.538556347215739\n",
      "model: naive\n",
      "predicting model=naive, plen=2\n"
     ]
    },
    {
     "name": "stderr",
     "output_type": "stream",
     "text": [
      "/N/u/pengb/hpda/indycar/predictor/src/indycar/model/NaivePredictor.py:60: FutureWarning: Addition/subtraction of integers and integer-arrays to Timestamp is deprecated, will be removed in a future version.  Instead of adding/subtracting `n`, use `n * self.freq`\n",
      "  start_date=start + target_len,\n"
     ]
    },
    {
     "name": "stdout",
     "output_type": "stream",
     "text": [
      "tss len=1278, forecasts len=1278\n"
     ]
    },
    {
     "name": "stderr",
     "output_type": "stream",
     "text": [
      "INFO:root:Using GPU\n"
     ]
    },
    {
     "name": "stdout",
     "output_type": "stream",
     "text": [
      "total:49, prediction_length:2\n",
      "top1acc= 0.7142857142857143 top1acc_farmost= 0.6326530612244898 top5acc= 0.8387755102040816 top5acc_farmost= 0.7714285714285715\n",
      "tau =  0.8336333931477701 rmse =  12.048809962278582\n",
      "====event:Indy500, train_len=100, max_len=200, min_len=200\n",
      "carno:1, totallen:200, nancount:0, test_reccnt:49\n",
      "carno:3, totallen:146, nancount:54, test_reccnt:22\n",
      "carno:4, totallen:200, nancount:0, test_reccnt:49\n",
      "carno:6, totallen:200, nancount:0, test_reccnt:49\n",
      "carno:7, totallen:193, nancount:7, test_reccnt:45\n",
      "carno:9, totallen:200, nancount:0, test_reccnt:49\n",
      "a short ts: carid=10，len=57\n",
      "carno:12, totallen:200, nancount:0, test_reccnt:49\n",
      "a short ts: carid=13，len=67\n",
      "carno:14, totallen:187, nancount:13, test_reccnt:42\n",
      "carno:15, totallen:200, nancount:0, test_reccnt:49\n",
      "carno:17, totallen:199, nancount:1, test_reccnt:48\n",
      "carno:18, totallen:137, nancount:63, test_reccnt:17\n",
      "carno:19, totallen:199, nancount:1, test_reccnt:48\n",
      "carno:20, totallen:200, nancount:0, test_reccnt:49\n",
      "carno:21, totallen:199, nancount:1, test_reccnt:48\n",
      "carno:22, totallen:200, nancount:0, test_reccnt:49\n",
      "carno:23, totallen:200, nancount:0, test_reccnt:49\n",
      "carno:24, totallen:154, nancount:46, test_reccnt:26\n",
      "carno:25, totallen:200, nancount:0, test_reccnt:49\n",
      "carno:26, totallen:198, nancount:2, test_reccnt:48\n",
      "carno:27, totallen:200, nancount:0, test_reccnt:49\n",
      "carno:28, totallen:200, nancount:0, test_reccnt:49\n",
      "carno:29, totallen:200, nancount:0, test_reccnt:49\n",
      "a short ts: carid=30，len=46\n",
      "carno:32, totallen:110, nancount:90, test_reccnt:4\n",
      "a short ts: carid=33，len=46\n",
      "carno:59, totallen:198, nancount:2, test_reccnt:48\n",
      "carno:60, totallen:200, nancount:0, test_reccnt:49\n",
      "carno:64, totallen:200, nancount:0, test_reccnt:49\n",
      "carno:66, totallen:200, nancount:0, test_reccnt:49\n",
      "carno:88, totallen:200, nancount:0, test_reccnt:49\n",
      "carno:98, totallen:200, nancount:0, test_reccnt:49\n",
      "train len:0, test len:1278\n",
      "model: curtrack\n",
      "predicting model=curtrack, plen=2\n",
      "loading model...done!, ctx:gpu(0)\n",
      "tss len=1278, forecasts len=1278\n"
     ]
    },
    {
     "name": "stderr",
     "output_type": "stream",
     "text": [
      "INFO:root:Using GPU\n"
     ]
    },
    {
     "name": "stdout",
     "output_type": "stream",
     "text": [
      "total:49, prediction_length:2\n",
      "top1acc= 0.5714285714285714 top1acc_farmost= 0.4897959183673469 top5acc= 0.810204081632653 top5acc_farmost= 0.7346938775510204\n",
      "tau =  0.8287406665312971 rmse =  11.083228312708163\n",
      "====event:Indy500, train_len=100, max_len=200, min_len=200\n",
      "carno:1, totallen:200, nancount:0, test_reccnt:49\n",
      "carno:3, totallen:146, nancount:54, test_reccnt:22\n",
      "carno:4, totallen:200, nancount:0, test_reccnt:49\n",
      "carno:6, totallen:200, nancount:0, test_reccnt:49\n",
      "carno:7, totallen:193, nancount:7, test_reccnt:45\n",
      "carno:9, totallen:200, nancount:0, test_reccnt:49\n",
      "a short ts: carid=10，len=57\n",
      "carno:12, totallen:200, nancount:0, test_reccnt:49\n",
      "a short ts: carid=13，len=67\n",
      "carno:14, totallen:187, nancount:13, test_reccnt:42\n",
      "carno:15, totallen:200, nancount:0, test_reccnt:49\n",
      "carno:17, totallen:199, nancount:1, test_reccnt:48\n",
      "carno:18, totallen:137, nancount:63, test_reccnt:17\n",
      "carno:19, totallen:199, nancount:1, test_reccnt:48\n",
      "carno:20, totallen:200, nancount:0, test_reccnt:49\n",
      "carno:21, totallen:199, nancount:1, test_reccnt:48\n",
      "carno:22, totallen:200, nancount:0, test_reccnt:49\n",
      "carno:23, totallen:200, nancount:0, test_reccnt:49\n",
      "carno:24, totallen:154, nancount:46, test_reccnt:26\n",
      "carno:25, totallen:200, nancount:0, test_reccnt:49\n",
      "carno:26, totallen:198, nancount:2, test_reccnt:48\n",
      "carno:27, totallen:200, nancount:0, test_reccnt:49\n",
      "carno:28, totallen:200, nancount:0, test_reccnt:49\n",
      "carno:29, totallen:200, nancount:0, test_reccnt:49\n",
      "a short ts: carid=30，len=46\n",
      "carno:32, totallen:110, nancount:90, test_reccnt:4\n",
      "a short ts: carid=33，len=46\n",
      "carno:59, totallen:198, nancount:2, test_reccnt:48\n",
      "carno:60, totallen:200, nancount:0, test_reccnt:49\n",
      "carno:64, totallen:200, nancount:0, test_reccnt:49\n",
      "carno:66, totallen:200, nancount:0, test_reccnt:49\n",
      "carno:88, totallen:200, nancount:0, test_reccnt:49\n",
      "carno:98, totallen:200, nancount:0, test_reccnt:49\n",
      "train len:0, test len:1278\n",
      "model: zerotrack\n",
      "predicting model=zerotrack, plen=2\n",
      "loading model...done!, ctx:gpu(0)\n",
      "tss len=1278, forecasts len=1278\n"
     ]
    },
    {
     "name": "stderr",
     "output_type": "stream",
     "text": [
      "INFO:root:Using GPU\n"
     ]
    },
    {
     "name": "stdout",
     "output_type": "stream",
     "text": [
      "total:49, prediction_length:2\n",
      "top1acc= 0.5408163265306123 top1acc_farmost= 0.4897959183673469 top5acc= 0.8122448979591836 top5acc_farmost= 0.7673469387755102\n",
      "tau =  0.8236666646822491 rmse =  11.09004225728456\n",
      "==============================\n",
      "====event:Indy500, train_len=100, max_len=200, min_len=200\n",
      "carno:1, totallen:200, nancount:0, test_reccnt:19\n",
      "carno:3, totallen:146, nancount:54, test_reccnt:8\n",
      "carno:4, totallen:200, nancount:0, test_reccnt:19\n",
      "carno:6, totallen:200, nancount:0, test_reccnt:19\n",
      "carno:7, totallen:193, nancount:7, test_reccnt:17\n",
      "carno:9, totallen:200, nancount:0, test_reccnt:19\n",
      "a short ts: carid=10，len=57\n",
      "carno:12, totallen:200, nancount:0, test_reccnt:19\n",
      "a short ts: carid=13，len=67\n",
      "carno:14, totallen:187, nancount:13, test_reccnt:16\n",
      "carno:15, totallen:200, nancount:0, test_reccnt:19\n",
      "carno:17, totallen:199, nancount:1, test_reccnt:18\n",
      "carno:18, totallen:137, nancount:63, test_reccnt:6\n",
      "carno:19, totallen:199, nancount:1, test_reccnt:18\n",
      "carno:20, totallen:200, nancount:0, test_reccnt:19\n",
      "carno:21, totallen:199, nancount:1, test_reccnt:18\n",
      "carno:22, totallen:200, nancount:0, test_reccnt:19\n",
      "carno:23, totallen:200, nancount:0, test_reccnt:19\n",
      "carno:24, totallen:154, nancount:46, test_reccnt:9\n",
      "carno:25, totallen:200, nancount:0, test_reccnt:19\n",
      "carno:26, totallen:198, nancount:2, test_reccnt:18\n",
      "carno:27, totallen:200, nancount:0, test_reccnt:19\n",
      "carno:28, totallen:200, nancount:0, test_reccnt:19\n",
      "carno:29, totallen:200, nancount:0, test_reccnt:19\n",
      "a short ts: carid=30，len=46\n",
      "carno:32, totallen:110, nancount:90, test_reccnt:1\n",
      "a short ts: carid=33，len=46\n",
      "carno:59, totallen:198, nancount:2, test_reccnt:18\n",
      "carno:60, totallen:200, nancount:0, test_reccnt:19\n",
      "carno:64, totallen:200, nancount:0, test_reccnt:19\n",
      "carno:66, totallen:200, nancount:0, test_reccnt:19\n",
      "carno:88, totallen:200, nancount:0, test_reccnt:19\n",
      "carno:98, totallen:200, nancount:0, test_reccnt:19\n",
      "train len:0, test len:489\n",
      "model: oracle\n",
      "predicting model=oracle, plen=5\n",
      "loading model...done!, ctx:gpu(0)\n",
      "tss len=489, forecasts len=489\n"
     ]
    },
    {
     "name": "stderr",
     "output_type": "stream",
     "text": [
      "INFO:root:Using GPU\n"
     ]
    },
    {
     "name": "stdout",
     "output_type": "stream",
     "text": [
      "total:19, prediction_length:5\n",
      "top1acc= 0.631578947368421 top1acc_farmost= 0.5263157894736842 top5acc= 0.7305263157894737 top5acc_farmost= 0.6842105263157895\n",
      "tau =  0.7812339796162003 rmse =  12.395965841704816\n",
      "model: deepAR\n",
      "predicting model=deepAR, plen=5\n",
      "loading model...done!, ctx:gpu(0)\n",
      "tss len=489, forecasts len=489\n",
      "total:19, prediction_length:5\n",
      "top1acc= 0.2736842105263158 top1acc_farmost= 0.15789473684210525 top5acc= 0.5557894736842105 top5acc_farmost= 0.4105263157894737\n",
      "tau =  0.6031931304775157 rmse =  29.880808534361442\n",
      "model: naive\n",
      "predicting model=naive, plen=5\n"
     ]
    },
    {
     "name": "stderr",
     "output_type": "stream",
     "text": [
      "/N/u/pengb/hpda/indycar/predictor/src/indycar/model/NaivePredictor.py:60: FutureWarning: Addition/subtraction of integers and integer-arrays to Timestamp is deprecated, will be removed in a future version.  Instead of adding/subtracting `n`, use `n * self.freq`\n",
      "  start_date=start + target_len,\n"
     ]
    },
    {
     "name": "stdout",
     "output_type": "stream",
     "text": [
      "tss len=489, forecasts len=489\n"
     ]
    },
    {
     "name": "stderr",
     "output_type": "stream",
     "text": [
      "INFO:root:Using GPU\n"
     ]
    },
    {
     "name": "stdout",
     "output_type": "stream",
     "text": [
      "total:19, prediction_length:5\n",
      "top1acc= 0.4631578947368421 top1acc_farmost= 0.3684210526315789 top5acc= 0.5726315789473684 top5acc_farmost= 0.4631578947368421\n",
      "tau =  0.5905404467830971 rmse =  34.88247980745826\n",
      "====event:Indy500, train_len=100, max_len=200, min_len=200\n",
      "carno:1, totallen:200, nancount:0, test_reccnt:19\n",
      "carno:3, totallen:146, nancount:54, test_reccnt:8\n",
      "carno:4, totallen:200, nancount:0, test_reccnt:19\n",
      "carno:6, totallen:200, nancount:0, test_reccnt:19\n",
      "carno:7, totallen:193, nancount:7, test_reccnt:17\n",
      "carno:9, totallen:200, nancount:0, test_reccnt:19\n",
      "a short ts: carid=10，len=57\n",
      "carno:12, totallen:200, nancount:0, test_reccnt:19\n",
      "a short ts: carid=13，len=67\n",
      "carno:14, totallen:187, nancount:13, test_reccnt:16\n",
      "carno:15, totallen:200, nancount:0, test_reccnt:19\n",
      "carno:17, totallen:199, nancount:1, test_reccnt:18\n",
      "carno:18, totallen:137, nancount:63, test_reccnt:6\n",
      "carno:19, totallen:199, nancount:1, test_reccnt:18\n",
      "carno:20, totallen:200, nancount:0, test_reccnt:19\n",
      "carno:21, totallen:199, nancount:1, test_reccnt:18\n",
      "carno:22, totallen:200, nancount:0, test_reccnt:19\n",
      "carno:23, totallen:200, nancount:0, test_reccnt:19\n",
      "carno:24, totallen:154, nancount:46, test_reccnt:9\n",
      "carno:25, totallen:200, nancount:0, test_reccnt:19\n",
      "carno:26, totallen:198, nancount:2, test_reccnt:18\n",
      "carno:27, totallen:200, nancount:0, test_reccnt:19\n",
      "carno:28, totallen:200, nancount:0, test_reccnt:19\n",
      "carno:29, totallen:200, nancount:0, test_reccnt:19\n",
      "a short ts: carid=30，len=46\n",
      "carno:32, totallen:110, nancount:90, test_reccnt:1\n",
      "a short ts: carid=33，len=46\n",
      "carno:59, totallen:198, nancount:2, test_reccnt:18\n",
      "carno:60, totallen:200, nancount:0, test_reccnt:19\n",
      "carno:64, totallen:200, nancount:0, test_reccnt:19\n",
      "carno:66, totallen:200, nancount:0, test_reccnt:19\n",
      "carno:88, totallen:200, nancount:0, test_reccnt:19\n",
      "carno:98, totallen:200, nancount:0, test_reccnt:19\n",
      "train len:0, test len:489\n",
      "model: curtrack\n",
      "predicting model=curtrack, plen=5\n",
      "loading model...done!, ctx:gpu(0)\n",
      "tss len=489, forecasts len=489\n"
     ]
    },
    {
     "name": "stderr",
     "output_type": "stream",
     "text": [
      "INFO:root:Using GPU\n"
     ]
    },
    {
     "name": "stdout",
     "output_type": "stream",
     "text": [
      "total:19, prediction_length:5\n",
      "top1acc= 0.4 top1acc_farmost= 0.3157894736842105 top5acc= 0.5852631578947368 top5acc_farmost= 0.4421052631578947\n",
      "tau =  0.6446511962685784 rmse =  27.730191132696614\n",
      "====event:Indy500, train_len=100, max_len=200, min_len=200\n",
      "carno:1, totallen:200, nancount:0, test_reccnt:19\n",
      "carno:3, totallen:146, nancount:54, test_reccnt:8\n",
      "carno:4, totallen:200, nancount:0, test_reccnt:19\n",
      "carno:6, totallen:200, nancount:0, test_reccnt:19\n",
      "carno:7, totallen:193, nancount:7, test_reccnt:17\n",
      "carno:9, totallen:200, nancount:0, test_reccnt:19\n",
      "a short ts: carid=10，len=57\n",
      "carno:12, totallen:200, nancount:0, test_reccnt:19\n",
      "a short ts: carid=13，len=67\n",
      "carno:14, totallen:187, nancount:13, test_reccnt:16\n",
      "carno:15, totallen:200, nancount:0, test_reccnt:19\n",
      "carno:17, totallen:199, nancount:1, test_reccnt:18\n",
      "carno:18, totallen:137, nancount:63, test_reccnt:6\n",
      "carno:19, totallen:199, nancount:1, test_reccnt:18\n",
      "carno:20, totallen:200, nancount:0, test_reccnt:19\n",
      "carno:21, totallen:199, nancount:1, test_reccnt:18\n",
      "carno:22, totallen:200, nancount:0, test_reccnt:19\n",
      "carno:23, totallen:200, nancount:0, test_reccnt:19\n",
      "carno:24, totallen:154, nancount:46, test_reccnt:9\n",
      "carno:25, totallen:200, nancount:0, test_reccnt:19\n",
      "carno:26, totallen:198, nancount:2, test_reccnt:18\n",
      "carno:27, totallen:200, nancount:0, test_reccnt:19\n",
      "carno:28, totallen:200, nancount:0, test_reccnt:19\n",
      "carno:29, totallen:200, nancount:0, test_reccnt:19\n",
      "a short ts: carid=30，len=46\n",
      "carno:32, totallen:110, nancount:90, test_reccnt:1\n",
      "a short ts: carid=33，len=46\n",
      "carno:59, totallen:198, nancount:2, test_reccnt:18\n",
      "carno:60, totallen:200, nancount:0, test_reccnt:19\n",
      "carno:64, totallen:200, nancount:0, test_reccnt:19\n",
      "carno:66, totallen:200, nancount:0, test_reccnt:19\n",
      "carno:88, totallen:200, nancount:0, test_reccnt:19\n",
      "carno:98, totallen:200, nancount:0, test_reccnt:19\n",
      "train len:0, test len:489\n",
      "model: zerotrack\n",
      "predicting model=zerotrack, plen=5\n",
      "loading model...done!, ctx:gpu(0)\n",
      "tss len=489, forecasts len=489\n"
     ]
    },
    {
     "name": "stderr",
     "output_type": "stream",
     "text": [
      "INFO:root:Using GPU\n"
     ]
    },
    {
     "name": "stdout",
     "output_type": "stream",
     "text": [
      "total:19, prediction_length:5\n",
      "top1acc= 0.43157894736842106 top1acc_farmost= 0.3684210526315789 top5acc= 0.5978947368421053 top5acc_farmost= 0.5263157894736842\n",
      "tau =  0.6416412335327305 rmse =  27.392215691781388\n",
      "==============================\n",
      "====event:Indy500, train_len=100, max_len=200, min_len=200\n",
      "carno:1, totallen:200, nancount:0, test_reccnt:9\n",
      "carno:3, totallen:146, nancount:54, test_reccnt:3\n",
      "carno:4, totallen:200, nancount:0, test_reccnt:9\n",
      "carno:6, totallen:200, nancount:0, test_reccnt:9\n",
      "carno:7, totallen:193, nancount:7, test_reccnt:8\n",
      "carno:9, totallen:200, nancount:0, test_reccnt:9\n",
      "a short ts: carid=10，len=57\n",
      "carno:12, totallen:200, nancount:0, test_reccnt:9\n",
      "a short ts: carid=13，len=67\n",
      "carno:14, totallen:187, nancount:13, test_reccnt:7\n",
      "carno:15, totallen:200, nancount:0, test_reccnt:9\n",
      "carno:17, totallen:199, nancount:1, test_reccnt:8\n",
      "carno:18, totallen:137, nancount:63, test_reccnt:2\n",
      "carno:19, totallen:199, nancount:1, test_reccnt:8\n",
      "carno:20, totallen:200, nancount:0, test_reccnt:9\n",
      "carno:21, totallen:199, nancount:1, test_reccnt:8\n",
      "carno:22, totallen:200, nancount:0, test_reccnt:9\n",
      "carno:23, totallen:200, nancount:0, test_reccnt:9\n",
      "carno:24, totallen:154, nancount:46, test_reccnt:4\n",
      "carno:25, totallen:200, nancount:0, test_reccnt:9\n",
      "carno:26, totallen:198, nancount:2, test_reccnt:8\n",
      "carno:27, totallen:200, nancount:0, test_reccnt:9\n",
      "carno:28, totallen:200, nancount:0, test_reccnt:9\n",
      "carno:29, totallen:200, nancount:0, test_reccnt:9\n",
      "a short ts: carid=30，len=46\n",
      "carno:32, totallen:110, nancount:90, test_reccnt:0\n",
      "a short ts: carid=33，len=46\n",
      "carno:59, totallen:198, nancount:2, test_reccnt:8\n",
      "carno:60, totallen:200, nancount:0, test_reccnt:9\n",
      "carno:64, totallen:200, nancount:0, test_reccnt:9\n",
      "carno:66, totallen:200, nancount:0, test_reccnt:9\n",
      "carno:88, totallen:200, nancount:0, test_reccnt:9\n",
      "carno:98, totallen:200, nancount:0, test_reccnt:9\n",
      "train len:0, test len:226\n",
      "model: oracle\n",
      "predicting model=oracle, plen=10\n",
      "loading model...done!, ctx:gpu(0)\n",
      "tss len=226, forecasts len=226\n"
     ]
    },
    {
     "name": "stderr",
     "output_type": "stream",
     "text": [
      "INFO:root:Using GPU\n"
     ]
    },
    {
     "name": "stdout",
     "output_type": "stream",
     "text": [
      "total:9, prediction_length:10\n",
      "top1acc= 0.45555555555555555 top1acc_farmost= 0.2222222222222222 top5acc= 0.6733333333333333 top5acc_farmost= 0.6222222222222222\n",
      "tau =  0.6254276262716161 rmse =  22.999643693754805\n",
      "model: deepAR\n",
      "predicting model=deepAR, plen=10\n",
      "loading model...done!, ctx:gpu(0)\n",
      "tss len=226, forecasts len=226\n",
      "total:9, prediction_length:10\n",
      "top1acc= 0.35555555555555557 top1acc_farmost= 0.3333333333333333 top5acc= 0.5355555555555556 top5acc_farmost= 0.4\n",
      "tau =  0.47216258108346776 rmse =  39.181494234160894\n",
      "model: naive\n",
      "predicting model=naive, plen=10\n"
     ]
    },
    {
     "name": "stderr",
     "output_type": "stream",
     "text": [
      "/N/u/pengb/hpda/indycar/predictor/src/indycar/model/NaivePredictor.py:60: FutureWarning: Addition/subtraction of integers and integer-arrays to Timestamp is deprecated, will be removed in a future version.  Instead of adding/subtracting `n`, use `n * self.freq`\n",
      "  start_date=start + target_len,\n"
     ]
    },
    {
     "name": "stdout",
     "output_type": "stream",
     "text": [
      "tss len=226, forecasts len=226\n"
     ]
    },
    {
     "name": "stderr",
     "output_type": "stream",
     "text": [
      "INFO:root:Using GPU\n"
     ]
    },
    {
     "name": "stdout",
     "output_type": "stream",
     "text": [
      "total:9, prediction_length:10\n",
      "top1acc= 0.3 top1acc_farmost= 0.2222222222222222 top5acc= 0.4444444444444444 top5acc_farmost= 0.28888888888888886\n",
      "tau =  0.4102774175725867 rmse =  46.28773694207028\n",
      "====event:Indy500, train_len=100, max_len=200, min_len=200\n",
      "carno:1, totallen:200, nancount:0, test_reccnt:9\n",
      "carno:3, totallen:146, nancount:54, test_reccnt:3\n",
      "carno:4, totallen:200, nancount:0, test_reccnt:9\n",
      "carno:6, totallen:200, nancount:0, test_reccnt:9\n",
      "carno:7, totallen:193, nancount:7, test_reccnt:8\n",
      "carno:9, totallen:200, nancount:0, test_reccnt:9\n",
      "a short ts: carid=10，len=57\n",
      "carno:12, totallen:200, nancount:0, test_reccnt:9\n",
      "a short ts: carid=13，len=67\n",
      "carno:14, totallen:187, nancount:13, test_reccnt:7\n",
      "carno:15, totallen:200, nancount:0, test_reccnt:9\n",
      "carno:17, totallen:199, nancount:1, test_reccnt:8\n",
      "carno:18, totallen:137, nancount:63, test_reccnt:2\n",
      "carno:19, totallen:199, nancount:1, test_reccnt:8\n",
      "carno:20, totallen:200, nancount:0, test_reccnt:9\n",
      "carno:21, totallen:199, nancount:1, test_reccnt:8\n",
      "carno:22, totallen:200, nancount:0, test_reccnt:9\n",
      "carno:23, totallen:200, nancount:0, test_reccnt:9\n",
      "carno:24, totallen:154, nancount:46, test_reccnt:4\n",
      "carno:25, totallen:200, nancount:0, test_reccnt:9\n",
      "carno:26, totallen:198, nancount:2, test_reccnt:8\n",
      "carno:27, totallen:200, nancount:0, test_reccnt:9\n",
      "carno:28, totallen:200, nancount:0, test_reccnt:9\n",
      "carno:29, totallen:200, nancount:0, test_reccnt:9\n",
      "a short ts: carid=30，len=46\n",
      "carno:32, totallen:110, nancount:90, test_reccnt:0\n",
      "a short ts: carid=33，len=46\n",
      "carno:59, totallen:198, nancount:2, test_reccnt:8\n",
      "carno:60, totallen:200, nancount:0, test_reccnt:9\n",
      "carno:64, totallen:200, nancount:0, test_reccnt:9\n",
      "carno:66, totallen:200, nancount:0, test_reccnt:9\n",
      "carno:88, totallen:200, nancount:0, test_reccnt:9\n",
      "carno:98, totallen:200, nancount:0, test_reccnt:9\n",
      "train len:0, test len:226\n",
      "model: curtrack\n",
      "predicting model=curtrack, plen=10\n",
      "loading model...done!, ctx:gpu(0)\n",
      "tss len=226, forecasts len=226\n"
     ]
    },
    {
     "name": "stderr",
     "output_type": "stream",
     "text": [
      "INFO:root:Using GPU\n"
     ]
    },
    {
     "name": "stdout",
     "output_type": "stream",
     "text": [
      "total:9, prediction_length:10\n",
      "top1acc= 0.3333333333333333 top1acc_farmost= 0.2222222222222222 top5acc= 0.49777777777777776 top5acc_farmost= 0.37777777777777777\n",
      "tau =  0.48392236038723674 rmse =  39.86059128114684\n",
      "====event:Indy500, train_len=100, max_len=200, min_len=200\n",
      "carno:1, totallen:200, nancount:0, test_reccnt:9\n",
      "carno:3, totallen:146, nancount:54, test_reccnt:3\n",
      "carno:4, totallen:200, nancount:0, test_reccnt:9\n",
      "carno:6, totallen:200, nancount:0, test_reccnt:9\n",
      "carno:7, totallen:193, nancount:7, test_reccnt:8\n",
      "carno:9, totallen:200, nancount:0, test_reccnt:9\n",
      "a short ts: carid=10，len=57\n",
      "carno:12, totallen:200, nancount:0, test_reccnt:9\n",
      "a short ts: carid=13，len=67\n",
      "carno:14, totallen:187, nancount:13, test_reccnt:7\n",
      "carno:15, totallen:200, nancount:0, test_reccnt:9\n",
      "carno:17, totallen:199, nancount:1, test_reccnt:8\n",
      "carno:18, totallen:137, nancount:63, test_reccnt:2\n",
      "carno:19, totallen:199, nancount:1, test_reccnt:8\n",
      "carno:20, totallen:200, nancount:0, test_reccnt:9\n",
      "carno:21, totallen:199, nancount:1, test_reccnt:8\n",
      "carno:22, totallen:200, nancount:0, test_reccnt:9\n",
      "carno:23, totallen:200, nancount:0, test_reccnt:9\n",
      "carno:24, totallen:154, nancount:46, test_reccnt:4\n",
      "carno:25, totallen:200, nancount:0, test_reccnt:9\n",
      "carno:26, totallen:198, nancount:2, test_reccnt:8\n",
      "carno:27, totallen:200, nancount:0, test_reccnt:9\n",
      "carno:28, totallen:200, nancount:0, test_reccnt:9\n",
      "carno:29, totallen:200, nancount:0, test_reccnt:9\n",
      "a short ts: carid=30，len=46\n",
      "carno:32, totallen:110, nancount:90, test_reccnt:0\n",
      "a short ts: carid=33，len=46\n",
      "carno:59, totallen:198, nancount:2, test_reccnt:8\n",
      "carno:60, totallen:200, nancount:0, test_reccnt:9\n",
      "carno:64, totallen:200, nancount:0, test_reccnt:9\n",
      "carno:66, totallen:200, nancount:0, test_reccnt:9\n",
      "carno:88, totallen:200, nancount:0, test_reccnt:9\n",
      "carno:98, totallen:200, nancount:0, test_reccnt:9\n",
      "train len:0, test len:226\n",
      "model: zerotrack\n",
      "predicting model=zerotrack, plen=10\n",
      "loading model...done!, ctx:gpu(0)\n",
      "tss len=226, forecasts len=226\n",
      "total:9, prediction_length:10\n",
      "top1acc= 0.23333333333333334 top1acc_farmost= 0.1111111111111111 top5acc= 0.4955555555555556 top5acc_farmost= 0.3111111111111111\n",
      "tau =  0.5212757285035489 rmse =  33.157942070275396\n"
     ]
    },
    {
     "name": "stderr",
     "output_type": "stream",
     "text": [
      "INFO:root:Using GPU\n"
     ]
    },
    {
     "name": "stdout",
     "output_type": "stream",
     "text": [
      "==============================\n",
      "====event:Indy500, train_len=100, max_len=200, min_len=200\n",
      "carno:1, totallen:200, nancount:0, test_reccnt:49\n",
      "carno:3, totallen:146, nancount:54, test_reccnt:22\n",
      "carno:4, totallen:200, nancount:0, test_reccnt:49\n",
      "carno:6, totallen:200, nancount:0, test_reccnt:49\n",
      "carno:7, totallen:193, nancount:7, test_reccnt:45\n",
      "carno:9, totallen:200, nancount:0, test_reccnt:49\n",
      "a short ts: carid=10，len=57\n",
      "carno:12, totallen:200, nancount:0, test_reccnt:49\n",
      "a short ts: carid=13，len=67\n",
      "carno:14, totallen:187, nancount:13, test_reccnt:42\n",
      "carno:15, totallen:200, nancount:0, test_reccnt:49\n",
      "carno:17, totallen:199, nancount:1, test_reccnt:48\n",
      "carno:18, totallen:137, nancount:63, test_reccnt:17\n",
      "carno:19, totallen:199, nancount:1, test_reccnt:48\n",
      "carno:20, totallen:200, nancount:0, test_reccnt:49\n",
      "carno:21, totallen:199, nancount:1, test_reccnt:48\n",
      "carno:22, totallen:200, nancount:0, test_reccnt:49\n",
      "carno:23, totallen:200, nancount:0, test_reccnt:49\n",
      "carno:24, totallen:154, nancount:46, test_reccnt:26\n",
      "carno:25, totallen:200, nancount:0, test_reccnt:49\n",
      "carno:26, totallen:198, nancount:2, test_reccnt:48\n",
      "carno:27, totallen:200, nancount:0, test_reccnt:49\n",
      "carno:28, totallen:200, nancount:0, test_reccnt:49\n",
      "carno:29, totallen:200, nancount:0, test_reccnt:49\n",
      "a short ts: carid=30，len=46\n",
      "carno:32, totallen:110, nancount:90, test_reccnt:4\n",
      "a short ts: carid=33，len=46\n",
      "carno:59, totallen:198, nancount:2, test_reccnt:48\n",
      "carno:60, totallen:200, nancount:0, test_reccnt:49\n",
      "carno:64, totallen:200, nancount:0, test_reccnt:49\n",
      "carno:66, totallen:200, nancount:0, test_reccnt:49\n",
      "carno:88, totallen:200, nancount:0, test_reccnt:49\n",
      "carno:98, totallen:200, nancount:0, test_reccnt:49\n",
      "train len:0, test len:1278\n",
      "model: oracle\n",
      "predicting model=oracle, plen=2\n",
      "loading model...done!, ctx:gpu(0)\n",
      "tss len=1278, forecasts len=1278\n"
     ]
    },
    {
     "name": "stderr",
     "output_type": "stream",
     "text": [
      "INFO:root:Using GPU\n"
     ]
    },
    {
     "name": "stdout",
     "output_type": "stream",
     "text": [
      "total:49, prediction_length:2\n",
      "top1acc= 0.7653061224489796 top1acc_farmost= 0.6938775510204082 top5acc= 0.8469387755102041 top5acc_farmost= 0.8040816326530612\n",
      "tau =  0.8715297632998191 rmse =  6.401014237343217\n",
      "model: deepAR\n",
      "predicting model=deepAR, plen=2\n",
      "loading model...done!, ctx:gpu(0)\n",
      "tss len=1278, forecasts len=1278\n",
      "total:49, prediction_length:2\n",
      "top1acc= 0.5612244897959183 top1acc_farmost= 0.4897959183673469 top5acc= 0.7387755102040816 top5acc_farmost= 0.6489795918367347\n",
      "tau =  0.7605917342619369 rmse =  15.684093446100457\n",
      "model: naive\n",
      "predicting model=naive, plen=2\n"
     ]
    },
    {
     "name": "stderr",
     "output_type": "stream",
     "text": [
      "/N/u/pengb/hpda/indycar/predictor/src/indycar/model/NaivePredictor.py:60: FutureWarning: Addition/subtraction of integers and integer-arrays to Timestamp is deprecated, will be removed in a future version.  Instead of adding/subtracting `n`, use `n * self.freq`\n",
      "  start_date=start + target_len,\n"
     ]
    },
    {
     "name": "stdout",
     "output_type": "stream",
     "text": [
      "tss len=1278, forecasts len=1278\n"
     ]
    },
    {
     "name": "stderr",
     "output_type": "stream",
     "text": [
      "INFO:root:Using GPU\n"
     ]
    },
    {
     "name": "stdout",
     "output_type": "stream",
     "text": [
      "total:49, prediction_length:2\n",
      "top1acc= 0.7142857142857143 top1acc_farmost= 0.6326530612244898 top5acc= 0.8387755102040816 top5acc_farmost= 0.7714285714285715\n",
      "tau =  0.8336333931477701 rmse =  12.048809962278582\n",
      "====event:Indy500, train_len=100, max_len=200, min_len=200\n",
      "carno:1, totallen:200, nancount:0, test_reccnt:49\n",
      "carno:3, totallen:146, nancount:54, test_reccnt:22\n",
      "carno:4, totallen:200, nancount:0, test_reccnt:49\n",
      "carno:6, totallen:200, nancount:0, test_reccnt:49\n",
      "carno:7, totallen:193, nancount:7, test_reccnt:45\n",
      "carno:9, totallen:200, nancount:0, test_reccnt:49\n",
      "a short ts: carid=10，len=57\n",
      "carno:12, totallen:200, nancount:0, test_reccnt:49\n",
      "a short ts: carid=13，len=67\n",
      "carno:14, totallen:187, nancount:13, test_reccnt:42\n",
      "carno:15, totallen:200, nancount:0, test_reccnt:49\n",
      "carno:17, totallen:199, nancount:1, test_reccnt:48\n",
      "carno:18, totallen:137, nancount:63, test_reccnt:17\n",
      "carno:19, totallen:199, nancount:1, test_reccnt:48\n",
      "carno:20, totallen:200, nancount:0, test_reccnt:49\n",
      "carno:21, totallen:199, nancount:1, test_reccnt:48\n",
      "carno:22, totallen:200, nancount:0, test_reccnt:49\n",
      "carno:23, totallen:200, nancount:0, test_reccnt:49\n",
      "carno:24, totallen:154, nancount:46, test_reccnt:26\n",
      "carno:25, totallen:200, nancount:0, test_reccnt:49\n",
      "carno:26, totallen:198, nancount:2, test_reccnt:48\n",
      "carno:27, totallen:200, nancount:0, test_reccnt:49\n",
      "carno:28, totallen:200, nancount:0, test_reccnt:49\n",
      "carno:29, totallen:200, nancount:0, test_reccnt:49\n",
      "a short ts: carid=30，len=46\n",
      "carno:32, totallen:110, nancount:90, test_reccnt:4\n",
      "a short ts: carid=33，len=46\n",
      "carno:59, totallen:198, nancount:2, test_reccnt:48\n",
      "carno:60, totallen:200, nancount:0, test_reccnt:49\n",
      "carno:64, totallen:200, nancount:0, test_reccnt:49\n",
      "carno:66, totallen:200, nancount:0, test_reccnt:49\n",
      "carno:88, totallen:200, nancount:0, test_reccnt:49\n",
      "carno:98, totallen:200, nancount:0, test_reccnt:49\n",
      "train len:0, test len:1278\n",
      "model: curtrack\n",
      "predicting model=curtrack, plen=2\n",
      "loading model...done!, ctx:gpu(0)\n",
      "tss len=1278, forecasts len=1278\n"
     ]
    },
    {
     "name": "stderr",
     "output_type": "stream",
     "text": [
      "INFO:root:Using GPU\n"
     ]
    },
    {
     "name": "stdout",
     "output_type": "stream",
     "text": [
      "total:49, prediction_length:2\n",
      "top1acc= 0.5612244897959183 top1acc_farmost= 0.4897959183673469 top5acc= 0.8183673469387756 top5acc_farmost= 0.7387755102040816\n",
      "tau =  0.8282812099594884 rmse =  10.994954784886097\n",
      "====event:Indy500, train_len=100, max_len=200, min_len=200\n",
      "carno:1, totallen:200, nancount:0, test_reccnt:49\n",
      "carno:3, totallen:146, nancount:54, test_reccnt:22\n",
      "carno:4, totallen:200, nancount:0, test_reccnt:49\n",
      "carno:6, totallen:200, nancount:0, test_reccnt:49\n",
      "carno:7, totallen:193, nancount:7, test_reccnt:45\n",
      "carno:9, totallen:200, nancount:0, test_reccnt:49\n",
      "a short ts: carid=10，len=57\n",
      "carno:12, totallen:200, nancount:0, test_reccnt:49\n",
      "a short ts: carid=13，len=67\n",
      "carno:14, totallen:187, nancount:13, test_reccnt:42\n",
      "carno:15, totallen:200, nancount:0, test_reccnt:49\n",
      "carno:17, totallen:199, nancount:1, test_reccnt:48\n",
      "carno:18, totallen:137, nancount:63, test_reccnt:17\n",
      "carno:19, totallen:199, nancount:1, test_reccnt:48\n",
      "carno:20, totallen:200, nancount:0, test_reccnt:49\n",
      "carno:21, totallen:199, nancount:1, test_reccnt:48\n",
      "carno:22, totallen:200, nancount:0, test_reccnt:49\n",
      "carno:23, totallen:200, nancount:0, test_reccnt:49\n",
      "carno:24, totallen:154, nancount:46, test_reccnt:26\n",
      "carno:25, totallen:200, nancount:0, test_reccnt:49\n",
      "carno:26, totallen:198, nancount:2, test_reccnt:48\n",
      "carno:27, totallen:200, nancount:0, test_reccnt:49\n",
      "carno:28, totallen:200, nancount:0, test_reccnt:49\n",
      "carno:29, totallen:200, nancount:0, test_reccnt:49\n",
      "a short ts: carid=30，len=46\n",
      "carno:32, totallen:110, nancount:90, test_reccnt:4\n",
      "a short ts: carid=33，len=46\n",
      "carno:59, totallen:198, nancount:2, test_reccnt:48\n",
      "carno:60, totallen:200, nancount:0, test_reccnt:49\n",
      "carno:64, totallen:200, nancount:0, test_reccnt:49\n",
      "carno:66, totallen:200, nancount:0, test_reccnt:49\n",
      "carno:88, totallen:200, nancount:0, test_reccnt:49\n",
      "carno:98, totallen:200, nancount:0, test_reccnt:49\n",
      "train len:0, test len:1278\n",
      "model: zerotrack\n",
      "predicting model=zerotrack, plen=2\n",
      "loading model...done!, ctx:gpu(0)\n",
      "tss len=1278, forecasts len=1278\n"
     ]
    },
    {
     "name": "stderr",
     "output_type": "stream",
     "text": [
      "INFO:root:Using GPU\n"
     ]
    },
    {
     "name": "stdout",
     "output_type": "stream",
     "text": [
      "total:49, prediction_length:2\n",
      "top1acc= 0.5204081632653061 top1acc_farmost= 0.42857142857142855 top5acc= 0.8 top5acc_farmost= 0.746938775510204\n",
      "tau =  0.8161226317279204 rmse =  11.602470273547285\n",
      "==============================\n",
      "====event:Indy500, train_len=100, max_len=200, min_len=200\n",
      "carno:1, totallen:200, nancount:0, test_reccnt:19\n",
      "carno:3, totallen:146, nancount:54, test_reccnt:8\n",
      "carno:4, totallen:200, nancount:0, test_reccnt:19\n",
      "carno:6, totallen:200, nancount:0, test_reccnt:19\n",
      "carno:7, totallen:193, nancount:7, test_reccnt:17\n",
      "carno:9, totallen:200, nancount:0, test_reccnt:19\n",
      "a short ts: carid=10，len=57\n",
      "carno:12, totallen:200, nancount:0, test_reccnt:19\n",
      "a short ts: carid=13，len=67\n",
      "carno:14, totallen:187, nancount:13, test_reccnt:16\n",
      "carno:15, totallen:200, nancount:0, test_reccnt:19\n",
      "carno:17, totallen:199, nancount:1, test_reccnt:18\n",
      "carno:18, totallen:137, nancount:63, test_reccnt:6\n",
      "carno:19, totallen:199, nancount:1, test_reccnt:18\n",
      "carno:20, totallen:200, nancount:0, test_reccnt:19\n",
      "carno:21, totallen:199, nancount:1, test_reccnt:18\n",
      "carno:22, totallen:200, nancount:0, test_reccnt:19\n",
      "carno:23, totallen:200, nancount:0, test_reccnt:19\n",
      "carno:24, totallen:154, nancount:46, test_reccnt:9\n",
      "carno:25, totallen:200, nancount:0, test_reccnt:19\n",
      "carno:26, totallen:198, nancount:2, test_reccnt:18\n",
      "carno:27, totallen:200, nancount:0, test_reccnt:19\n",
      "carno:28, totallen:200, nancount:0, test_reccnt:19\n",
      "carno:29, totallen:200, nancount:0, test_reccnt:19\n",
      "a short ts: carid=30，len=46\n",
      "carno:32, totallen:110, nancount:90, test_reccnt:1\n",
      "a short ts: carid=33，len=46\n",
      "carno:59, totallen:198, nancount:2, test_reccnt:18\n",
      "carno:60, totallen:200, nancount:0, test_reccnt:19\n",
      "carno:64, totallen:200, nancount:0, test_reccnt:19\n",
      "carno:66, totallen:200, nancount:0, test_reccnt:19\n",
      "carno:88, totallen:200, nancount:0, test_reccnt:19\n",
      "carno:98, totallen:200, nancount:0, test_reccnt:19\n",
      "train len:0, test len:489\n",
      "model: oracle\n",
      "predicting model=oracle, plen=5\n",
      "loading model...done!, ctx:gpu(0)\n",
      "tss len=489, forecasts len=489\n"
     ]
    },
    {
     "name": "stderr",
     "output_type": "stream",
     "text": [
      "INFO:root:Using GPU\n"
     ]
    },
    {
     "name": "stdout",
     "output_type": "stream",
     "text": [
      "total:19, prediction_length:5\n",
      "top1acc= 0.6 top1acc_farmost= 0.47368421052631576 top5acc= 0.7347368421052631 top5acc_farmost= 0.6947368421052632\n",
      "tau =  0.7799498897283367 rmse =  12.438478285566427\n",
      "model: deepAR\n",
      "predicting model=deepAR, plen=5\n",
      "loading model...done!, ctx:gpu(0)\n",
      "tss len=489, forecasts len=489\n",
      "total:19, prediction_length:5\n",
      "top1acc= 0.25263157894736843 top1acc_farmost= 0.10526315789473684 top5acc= 0.5326315789473685 top5acc_farmost= 0.3894736842105263\n",
      "tau =  0.6086443200899652 rmse =  29.246219897891166\n",
      "model: naive\n",
      "predicting model=naive, plen=5\n"
     ]
    },
    {
     "name": "stderr",
     "output_type": "stream",
     "text": [
      "/N/u/pengb/hpda/indycar/predictor/src/indycar/model/NaivePredictor.py:60: FutureWarning: Addition/subtraction of integers and integer-arrays to Timestamp is deprecated, will be removed in a future version.  Instead of adding/subtracting `n`, use `n * self.freq`\n",
      "  start_date=start + target_len,\n"
     ]
    },
    {
     "name": "stdout",
     "output_type": "stream",
     "text": [
      "tss len=489, forecasts len=489\n"
     ]
    },
    {
     "name": "stderr",
     "output_type": "stream",
     "text": [
      "INFO:root:Using GPU\n"
     ]
    },
    {
     "name": "stdout",
     "output_type": "stream",
     "text": [
      "total:19, prediction_length:5\n",
      "top1acc= 0.4631578947368421 top1acc_farmost= 0.3684210526315789 top5acc= 0.5726315789473684 top5acc_farmost= 0.4631578947368421\n",
      "tau =  0.5905404467830971 rmse =  34.88247980745826\n",
      "====event:Indy500, train_len=100, max_len=200, min_len=200\n",
      "carno:1, totallen:200, nancount:0, test_reccnt:19\n",
      "carno:3, totallen:146, nancount:54, test_reccnt:8\n",
      "carno:4, totallen:200, nancount:0, test_reccnt:19\n",
      "carno:6, totallen:200, nancount:0, test_reccnt:19\n",
      "carno:7, totallen:193, nancount:7, test_reccnt:17\n",
      "carno:9, totallen:200, nancount:0, test_reccnt:19\n",
      "a short ts: carid=10，len=57\n",
      "carno:12, totallen:200, nancount:0, test_reccnt:19\n",
      "a short ts: carid=13，len=67\n",
      "carno:14, totallen:187, nancount:13, test_reccnt:16\n",
      "carno:15, totallen:200, nancount:0, test_reccnt:19\n",
      "carno:17, totallen:199, nancount:1, test_reccnt:18\n",
      "carno:18, totallen:137, nancount:63, test_reccnt:6\n",
      "carno:19, totallen:199, nancount:1, test_reccnt:18\n",
      "carno:20, totallen:200, nancount:0, test_reccnt:19\n",
      "carno:21, totallen:199, nancount:1, test_reccnt:18\n",
      "carno:22, totallen:200, nancount:0, test_reccnt:19\n",
      "carno:23, totallen:200, nancount:0, test_reccnt:19\n",
      "carno:24, totallen:154, nancount:46, test_reccnt:9\n",
      "carno:25, totallen:200, nancount:0, test_reccnt:19\n",
      "carno:26, totallen:198, nancount:2, test_reccnt:18\n",
      "carno:27, totallen:200, nancount:0, test_reccnt:19\n",
      "carno:28, totallen:200, nancount:0, test_reccnt:19\n",
      "carno:29, totallen:200, nancount:0, test_reccnt:19\n",
      "a short ts: carid=30，len=46\n",
      "carno:32, totallen:110, nancount:90, test_reccnt:1\n",
      "a short ts: carid=33，len=46\n",
      "carno:59, totallen:198, nancount:2, test_reccnt:18\n",
      "carno:60, totallen:200, nancount:0, test_reccnt:19\n",
      "carno:64, totallen:200, nancount:0, test_reccnt:19\n",
      "carno:66, totallen:200, nancount:0, test_reccnt:19\n",
      "carno:88, totallen:200, nancount:0, test_reccnt:19\n",
      "carno:98, totallen:200, nancount:0, test_reccnt:19\n",
      "train len:0, test len:489\n",
      "model: curtrack\n",
      "predicting model=curtrack, plen=5\n",
      "loading model...done!, ctx:gpu(0)\n",
      "tss len=489, forecasts len=489\n"
     ]
    },
    {
     "name": "stderr",
     "output_type": "stream",
     "text": [
      "INFO:root:Using GPU\n"
     ]
    },
    {
     "name": "stdout",
     "output_type": "stream",
     "text": [
      "total:19, prediction_length:5\n",
      "top1acc= 0.4 top1acc_farmost= 0.3157894736842105 top5acc= 0.5831578947368421 top5acc_farmost= 0.45263157894736844\n",
      "tau =  0.637729765018515 rmse =  28.369317194561248\n",
      "====event:Indy500, train_len=100, max_len=200, min_len=200\n",
      "carno:1, totallen:200, nancount:0, test_reccnt:19\n",
      "carno:3, totallen:146, nancount:54, test_reccnt:8\n",
      "carno:4, totallen:200, nancount:0, test_reccnt:19\n",
      "carno:6, totallen:200, nancount:0, test_reccnt:19\n",
      "carno:7, totallen:193, nancount:7, test_reccnt:17\n",
      "carno:9, totallen:200, nancount:0, test_reccnt:19\n",
      "a short ts: carid=10，len=57\n",
      "carno:12, totallen:200, nancount:0, test_reccnt:19\n",
      "a short ts: carid=13，len=67\n",
      "carno:14, totallen:187, nancount:13, test_reccnt:16\n",
      "carno:15, totallen:200, nancount:0, test_reccnt:19\n",
      "carno:17, totallen:199, nancount:1, test_reccnt:18\n",
      "carno:18, totallen:137, nancount:63, test_reccnt:6\n",
      "carno:19, totallen:199, nancount:1, test_reccnt:18\n",
      "carno:20, totallen:200, nancount:0, test_reccnt:19\n",
      "carno:21, totallen:199, nancount:1, test_reccnt:18\n",
      "carno:22, totallen:200, nancount:0, test_reccnt:19\n",
      "carno:23, totallen:200, nancount:0, test_reccnt:19\n",
      "carno:24, totallen:154, nancount:46, test_reccnt:9\n",
      "carno:25, totallen:200, nancount:0, test_reccnt:19\n",
      "carno:26, totallen:198, nancount:2, test_reccnt:18\n",
      "carno:27, totallen:200, nancount:0, test_reccnt:19\n",
      "carno:28, totallen:200, nancount:0, test_reccnt:19\n",
      "carno:29, totallen:200, nancount:0, test_reccnt:19\n",
      "a short ts: carid=30，len=46\n",
      "carno:32, totallen:110, nancount:90, test_reccnt:1\n",
      "a short ts: carid=33，len=46\n",
      "carno:59, totallen:198, nancount:2, test_reccnt:18\n",
      "carno:60, totallen:200, nancount:0, test_reccnt:19\n",
      "carno:64, totallen:200, nancount:0, test_reccnt:19\n",
      "carno:66, totallen:200, nancount:0, test_reccnt:19\n",
      "carno:88, totallen:200, nancount:0, test_reccnt:19\n",
      "carno:98, totallen:200, nancount:0, test_reccnt:19\n",
      "train len:0, test len:489\n",
      "model: zerotrack\n",
      "predicting model=zerotrack, plen=5\n",
      "loading model...done!, ctx:gpu(0)\n",
      "tss len=489, forecasts len=489\n"
     ]
    },
    {
     "name": "stderr",
     "output_type": "stream",
     "text": [
      "INFO:root:Using GPU\n"
     ]
    },
    {
     "name": "stdout",
     "output_type": "stream",
     "text": [
      "total:19, prediction_length:5\n",
      "top1acc= 0.43157894736842106 top1acc_farmost= 0.3157894736842105 top5acc= 0.6021052631578947 top5acc_farmost= 0.5263157894736842\n",
      "tau =  0.6549206403935374 rmse =  25.77044224497866\n",
      "==============================\n",
      "====event:Indy500, train_len=100, max_len=200, min_len=200\n",
      "carno:1, totallen:200, nancount:0, test_reccnt:9\n",
      "carno:3, totallen:146, nancount:54, test_reccnt:3\n",
      "carno:4, totallen:200, nancount:0, test_reccnt:9\n",
      "carno:6, totallen:200, nancount:0, test_reccnt:9\n",
      "carno:7, totallen:193, nancount:7, test_reccnt:8\n",
      "carno:9, totallen:200, nancount:0, test_reccnt:9\n",
      "a short ts: carid=10，len=57\n",
      "carno:12, totallen:200, nancount:0, test_reccnt:9\n",
      "a short ts: carid=13，len=67\n",
      "carno:14, totallen:187, nancount:13, test_reccnt:7\n",
      "carno:15, totallen:200, nancount:0, test_reccnt:9\n",
      "carno:17, totallen:199, nancount:1, test_reccnt:8\n",
      "carno:18, totallen:137, nancount:63, test_reccnt:2\n",
      "carno:19, totallen:199, nancount:1, test_reccnt:8\n",
      "carno:20, totallen:200, nancount:0, test_reccnt:9\n",
      "carno:21, totallen:199, nancount:1, test_reccnt:8\n",
      "carno:22, totallen:200, nancount:0, test_reccnt:9\n",
      "carno:23, totallen:200, nancount:0, test_reccnt:9\n",
      "carno:24, totallen:154, nancount:46, test_reccnt:4\n",
      "carno:25, totallen:200, nancount:0, test_reccnt:9\n",
      "carno:26, totallen:198, nancount:2, test_reccnt:8\n",
      "carno:27, totallen:200, nancount:0, test_reccnt:9\n",
      "carno:28, totallen:200, nancount:0, test_reccnt:9\n",
      "carno:29, totallen:200, nancount:0, test_reccnt:9\n",
      "a short ts: carid=30，len=46\n",
      "carno:32, totallen:110, nancount:90, test_reccnt:0\n",
      "a short ts: carid=33，len=46\n",
      "carno:59, totallen:198, nancount:2, test_reccnt:8\n",
      "carno:60, totallen:200, nancount:0, test_reccnt:9\n",
      "carno:64, totallen:200, nancount:0, test_reccnt:9\n",
      "carno:66, totallen:200, nancount:0, test_reccnt:9\n",
      "carno:88, totallen:200, nancount:0, test_reccnt:9\n",
      "carno:98, totallen:200, nancount:0, test_reccnt:9\n",
      "train len:0, test len:226\n",
      "model: oracle\n",
      "predicting model=oracle, plen=10\n",
      "loading model...done!, ctx:gpu(0)\n",
      "tss len=226, forecasts len=226\n"
     ]
    },
    {
     "name": "stderr",
     "output_type": "stream",
     "text": [
      "INFO:root:Using GPU\n"
     ]
    },
    {
     "name": "stdout",
     "output_type": "stream",
     "text": [
      "total:9, prediction_length:10\n",
      "top1acc= 0.4888888888888889 top1acc_farmost= 0.2222222222222222 top5acc= 0.6666666666666666 top5acc_farmost= 0.6\n",
      "tau =  0.6229215253829348 rmse =  23.39419680730792\n",
      "model: deepAR\n",
      "predicting model=deepAR, plen=10\n",
      "loading model...done!, ctx:gpu(0)\n",
      "tss len=226, forecasts len=226\n",
      "total:9, prediction_length:10\n",
      "top1acc= 0.3888888888888889 top1acc_farmost= 0.2222222222222222 top5acc= 0.49777777777777776 top5acc_farmost= 0.3333333333333333\n",
      "tau =  0.4687992445799493 rmse =  39.18656283634061\n",
      "model: naive\n",
      "predicting model=naive, plen=10\n"
     ]
    },
    {
     "name": "stderr",
     "output_type": "stream",
     "text": [
      "/N/u/pengb/hpda/indycar/predictor/src/indycar/model/NaivePredictor.py:60: FutureWarning: Addition/subtraction of integers and integer-arrays to Timestamp is deprecated, will be removed in a future version.  Instead of adding/subtracting `n`, use `n * self.freq`\n",
      "  start_date=start + target_len,\n"
     ]
    },
    {
     "name": "stdout",
     "output_type": "stream",
     "text": [
      "tss len=226, forecasts len=226\n"
     ]
    },
    {
     "name": "stderr",
     "output_type": "stream",
     "text": [
      "INFO:root:Using GPU\n"
     ]
    },
    {
     "name": "stdout",
     "output_type": "stream",
     "text": [
      "total:9, prediction_length:10\n",
      "top1acc= 0.3 top1acc_farmost= 0.2222222222222222 top5acc= 0.4444444444444444 top5acc_farmost= 0.28888888888888886\n",
      "tau =  0.4102774175725867 rmse =  46.28773694207028\n",
      "====event:Indy500, train_len=100, max_len=200, min_len=200\n",
      "carno:1, totallen:200, nancount:0, test_reccnt:9\n",
      "carno:3, totallen:146, nancount:54, test_reccnt:3\n",
      "carno:4, totallen:200, nancount:0, test_reccnt:9\n",
      "carno:6, totallen:200, nancount:0, test_reccnt:9\n",
      "carno:7, totallen:193, nancount:7, test_reccnt:8\n",
      "carno:9, totallen:200, nancount:0, test_reccnt:9\n",
      "a short ts: carid=10，len=57\n",
      "carno:12, totallen:200, nancount:0, test_reccnt:9\n",
      "a short ts: carid=13，len=67\n",
      "carno:14, totallen:187, nancount:13, test_reccnt:7\n",
      "carno:15, totallen:200, nancount:0, test_reccnt:9\n",
      "carno:17, totallen:199, nancount:1, test_reccnt:8\n",
      "carno:18, totallen:137, nancount:63, test_reccnt:2\n",
      "carno:19, totallen:199, nancount:1, test_reccnt:8\n",
      "carno:20, totallen:200, nancount:0, test_reccnt:9\n",
      "carno:21, totallen:199, nancount:1, test_reccnt:8\n",
      "carno:22, totallen:200, nancount:0, test_reccnt:9\n",
      "carno:23, totallen:200, nancount:0, test_reccnt:9\n",
      "carno:24, totallen:154, nancount:46, test_reccnt:4\n",
      "carno:25, totallen:200, nancount:0, test_reccnt:9\n",
      "carno:26, totallen:198, nancount:2, test_reccnt:8\n",
      "carno:27, totallen:200, nancount:0, test_reccnt:9\n",
      "carno:28, totallen:200, nancount:0, test_reccnt:9\n",
      "carno:29, totallen:200, nancount:0, test_reccnt:9\n",
      "a short ts: carid=30，len=46\n",
      "carno:32, totallen:110, nancount:90, test_reccnt:0\n",
      "a short ts: carid=33，len=46\n",
      "carno:59, totallen:198, nancount:2, test_reccnt:8\n",
      "carno:60, totallen:200, nancount:0, test_reccnt:9\n",
      "carno:64, totallen:200, nancount:0, test_reccnt:9\n",
      "carno:66, totallen:200, nancount:0, test_reccnt:9\n",
      "carno:88, totallen:200, nancount:0, test_reccnt:9\n",
      "carno:98, totallen:200, nancount:0, test_reccnt:9\n",
      "train len:0, test len:226\n",
      "model: curtrack\n",
      "predicting model=curtrack, plen=10\n",
      "loading model...done!, ctx:gpu(0)\n",
      "tss len=226, forecasts len=226\n"
     ]
    },
    {
     "name": "stderr",
     "output_type": "stream",
     "text": [
      "INFO:root:Using GPU\n"
     ]
    },
    {
     "name": "stdout",
     "output_type": "stream",
     "text": [
      "total:9, prediction_length:10\n",
      "top1acc= 0.3 top1acc_farmost= 0.1111111111111111 top5acc= 0.5244444444444445 top5acc_farmost= 0.4\n",
      "tau =  0.5055291147897285 rmse =  38.16860548093881\n",
      "====event:Indy500, train_len=100, max_len=200, min_len=200\n",
      "carno:1, totallen:200, nancount:0, test_reccnt:9\n",
      "carno:3, totallen:146, nancount:54, test_reccnt:3\n",
      "carno:4, totallen:200, nancount:0, test_reccnt:9\n",
      "carno:6, totallen:200, nancount:0, test_reccnt:9\n",
      "carno:7, totallen:193, nancount:7, test_reccnt:8\n",
      "carno:9, totallen:200, nancount:0, test_reccnt:9\n",
      "a short ts: carid=10，len=57\n",
      "carno:12, totallen:200, nancount:0, test_reccnt:9\n",
      "a short ts: carid=13，len=67\n",
      "carno:14, totallen:187, nancount:13, test_reccnt:7\n",
      "carno:15, totallen:200, nancount:0, test_reccnt:9\n",
      "carno:17, totallen:199, nancount:1, test_reccnt:8\n",
      "carno:18, totallen:137, nancount:63, test_reccnt:2\n",
      "carno:19, totallen:199, nancount:1, test_reccnt:8\n",
      "carno:20, totallen:200, nancount:0, test_reccnt:9\n",
      "carno:21, totallen:199, nancount:1, test_reccnt:8\n",
      "carno:22, totallen:200, nancount:0, test_reccnt:9\n",
      "carno:23, totallen:200, nancount:0, test_reccnt:9\n",
      "carno:24, totallen:154, nancount:46, test_reccnt:4\n",
      "carno:25, totallen:200, nancount:0, test_reccnt:9\n",
      "carno:26, totallen:198, nancount:2, test_reccnt:8\n",
      "carno:27, totallen:200, nancount:0, test_reccnt:9\n",
      "carno:28, totallen:200, nancount:0, test_reccnt:9\n",
      "carno:29, totallen:200, nancount:0, test_reccnt:9\n",
      "a short ts: carid=30，len=46\n",
      "carno:32, totallen:110, nancount:90, test_reccnt:0\n",
      "a short ts: carid=33，len=46\n",
      "carno:59, totallen:198, nancount:2, test_reccnt:8\n",
      "carno:60, totallen:200, nancount:0, test_reccnt:9\n",
      "carno:64, totallen:200, nancount:0, test_reccnt:9\n",
      "carno:66, totallen:200, nancount:0, test_reccnt:9\n",
      "carno:88, totallen:200, nancount:0, test_reccnt:9\n",
      "carno:98, totallen:200, nancount:0, test_reccnt:9\n",
      "train len:0, test len:226\n",
      "model: zerotrack\n",
      "predicting model=zerotrack, plen=10\n",
      "loading model...done!, ctx:gpu(0)\n",
      "tss len=226, forecasts len=226\n",
      "total:9, prediction_length:10\n",
      "top1acc= 0.3 top1acc_farmost= 0.1111111111111111 top5acc= 0.5155555555555555 top5acc_farmost= 0.4\n",
      "tau =  0.5552305331150174 rmse =  31.330690544023874\n"
     ]
    }
   ],
   "source": [
    "#\n",
    "# baselines\n",
    "#\n",
    "\n",
    "half=[True, False]\n",
    "#plens=[2,5,10,20,30]\n",
    "plens=[2,5,10]\n",
    "half=[False]\n",
    "#trainids = [\"indy500-r0.2\",\"indy500-r0.4\",\"indy500\"]\n",
    "trainids = [\"r0.5\"]\n",
    "#half=[True,False]\n",
    "#plens=[2]\n",
    "runs = 5\n",
    "\n",
    "#exp_id='median-r0.8'\n",
    "exp_id='mean-splitbystage-baseline'\n",
    "\n",
    "\n",
    "\n",
    "allret = []\n",
    "for runid in range(runs):\n",
    "    exp_data = []\n",
    "    exp_result = []\n",
    "    \n",
    "    for halfmode in half:\n",
    "        for plen in plens:\n",
    "            for trainid in trainids:\n",
    "                print('='*30)\n",
    "                pred_ret, test_ds, metric_ret = run_exp(plen, halfmode, \n",
    "                                                        train_ratio=train_ratio,\n",
    "                                                        trainid=trainid)\n",
    "\n",
    "                #save \n",
    "                exp_data.append((pred_ret, test_ds))\n",
    "                exp_result.extend(metric_ret)\n",
    "\n",
    "    #save result\n",
    "    result = pd.DataFrame(exp_result, columns = ['model' , 'prediction_length', 'halfmode',\n",
    "                                       'trainid',\n",
    "                                       'top1acc','top1acc_farmost','top5acc',\n",
    "                                       'top5acc_farmost','tau','rmse'])\n",
    "    \n",
    "    #result['runid'] = [runid for x in range(len(result))]\n",
    "    allret.append(result)\n",
    "\n",
    "\n",
    "#final\n",
    "rowcnt = len(allret[0])\n",
    "metrics = np.empty((runs, rowcnt, 6))\n",
    "for runid, ret in enumerate(allret):\n",
    "    metrics[runid, :,:] = ret[['top1acc','top1acc_farmost','top5acc',\n",
    "                                       'top5acc_farmost','tau','rmse']].values\n",
    "    \n",
    "\n",
    "#average\n",
    "average = np.mean(metrics[:,:,:], axis=0)\n",
    "result = allret[0][['model' , 'prediction_length', 'halfmode',\n",
    "                                       'trainid',\n",
    "                               'top1acc','top1acc_farmost','top5acc',\n",
    "                                       'top5acc_farmost','tau','rmse']].values\n",
    "result[:,4:] = average\n",
    "\n",
    "dfret = pd.DataFrame(result, columns = ['model' , 'prediction_length', 'halfmode',\n",
    "                                   'trainid',\n",
    "                                   'top1acc','top1acc_farmost','top5acc',\n",
    "                                   'top5acc_farmost','tau','rmse'])\n",
    "\n",
    "dfret.to_csv(f'laptime2rank-evaluate-indy500-{exp_id}-r{runs}-t{train_ratio}-result.csv')"
   ]
  },
  {
   "cell_type": "markdown",
   "metadata": {},
   "source": [
    "### test"
   ]
  },
  {
   "cell_type": "code",
   "execution_count": 16,
   "metadata": {},
   "outputs": [
    {
     "data": {
      "text/html": [
       "<div>\n",
       "<style scoped>\n",
       "    .dataframe tbody tr th:only-of-type {\n",
       "        vertical-align: middle;\n",
       "    }\n",
       "\n",
       "    .dataframe tbody tr th {\n",
       "        vertical-align: top;\n",
       "    }\n",
       "\n",
       "    .dataframe thead th {\n",
       "        text-align: right;\n",
       "    }\n",
       "</style>\n",
       "<table border=\"1\" class=\"dataframe\">\n",
       "  <thead>\n",
       "    <tr style=\"text-align: right;\">\n",
       "      <th></th>\n",
       "      <th>model</th>\n",
       "      <th>prediction_length</th>\n",
       "      <th>halfmode</th>\n",
       "      <th>trainid</th>\n",
       "      <th>top1acc</th>\n",
       "      <th>top1acc_farmost</th>\n",
       "      <th>top5acc</th>\n",
       "      <th>top5acc_farmost</th>\n",
       "      <th>tau</th>\n",
       "      <th>rmse</th>\n",
       "    </tr>\n",
       "  </thead>\n",
       "  <tbody>\n",
       "    <tr>\n",
       "      <th>0</th>\n",
       "      <td>oracle</td>\n",
       "      <td>2</td>\n",
       "      <td>True</td>\n",
       "      <td>r0.5</td>\n",
       "      <td>0.697368</td>\n",
       "      <td>0.631579</td>\n",
       "      <td>0.810526</td>\n",
       "      <td>0.784211</td>\n",
       "      <td>0.856538</td>\n",
       "      <td>6.495403</td>\n",
       "    </tr>\n",
       "    <tr>\n",
       "      <th>1</th>\n",
       "      <td>deepAR</td>\n",
       "      <td>2</td>\n",
       "      <td>True</td>\n",
       "      <td>r0.5</td>\n",
       "      <td>0.381579</td>\n",
       "      <td>0.315789</td>\n",
       "      <td>0.681579</td>\n",
       "      <td>0.615789</td>\n",
       "      <td>0.713712</td>\n",
       "      <td>16.446900</td>\n",
       "    </tr>\n",
       "    <tr>\n",
       "      <th>2</th>\n",
       "      <td>naive</td>\n",
       "      <td>2</td>\n",
       "      <td>True</td>\n",
       "      <td>r0.5</td>\n",
       "      <td>0.618421</td>\n",
       "      <td>0.578947</td>\n",
       "      <td>0.813158</td>\n",
       "      <td>0.768421</td>\n",
       "      <td>0.795573</td>\n",
       "      <td>14.307786</td>\n",
       "    </tr>\n",
       "    <tr>\n",
       "      <th>3</th>\n",
       "      <td>curtrack</td>\n",
       "      <td>2</td>\n",
       "      <td>True</td>\n",
       "      <td>r0.5</td>\n",
       "      <td>0.473684</td>\n",
       "      <td>0.368421</td>\n",
       "      <td>0.789474</td>\n",
       "      <td>0.742105</td>\n",
       "      <td>0.812070</td>\n",
       "      <td>10.850776</td>\n",
       "    </tr>\n",
       "    <tr>\n",
       "      <th>4</th>\n",
       "      <td>zerotrack</td>\n",
       "      <td>2</td>\n",
       "      <td>True</td>\n",
       "      <td>r0.5</td>\n",
       "      <td>0.473684</td>\n",
       "      <td>0.447368</td>\n",
       "      <td>0.802632</td>\n",
       "      <td>0.752632</td>\n",
       "      <td>0.808004</td>\n",
       "      <td>10.236402</td>\n",
       "    </tr>\n",
       "    <tr>\n",
       "      <th>5</th>\n",
       "      <td>oracle</td>\n",
       "      <td>2</td>\n",
       "      <td>True</td>\n",
       "      <td>r0.6</td>\n",
       "      <td>0.789474</td>\n",
       "      <td>0.789474</td>\n",
       "      <td>0.868421</td>\n",
       "      <td>0.831579</td>\n",
       "      <td>0.887596</td>\n",
       "      <td>5.271319</td>\n",
       "    </tr>\n",
       "    <tr>\n",
       "      <th>6</th>\n",
       "      <td>deepAR</td>\n",
       "      <td>2</td>\n",
       "      <td>True</td>\n",
       "      <td>r0.6</td>\n",
       "      <td>0.473684</td>\n",
       "      <td>0.368421</td>\n",
       "      <td>0.739474</td>\n",
       "      <td>0.678947</td>\n",
       "      <td>0.782108</td>\n",
       "      <td>13.329318</td>\n",
       "    </tr>\n",
       "    <tr>\n",
       "      <th>7</th>\n",
       "      <td>naive</td>\n",
       "      <td>2</td>\n",
       "      <td>True</td>\n",
       "      <td>r0.6</td>\n",
       "      <td>0.618421</td>\n",
       "      <td>0.578947</td>\n",
       "      <td>0.813158</td>\n",
       "      <td>0.768421</td>\n",
       "      <td>0.795573</td>\n",
       "      <td>14.307786</td>\n",
       "    </tr>\n",
       "    <tr>\n",
       "      <th>8</th>\n",
       "      <td>curtrack</td>\n",
       "      <td>2</td>\n",
       "      <td>True</td>\n",
       "      <td>r0.6</td>\n",
       "      <td>0.605263</td>\n",
       "      <td>0.552632</td>\n",
       "      <td>0.807895</td>\n",
       "      <td>0.757895</td>\n",
       "      <td>0.837663</td>\n",
       "      <td>9.677535</td>\n",
       "    </tr>\n",
       "    <tr>\n",
       "      <th>9</th>\n",
       "      <td>zerotrack</td>\n",
       "      <td>2</td>\n",
       "      <td>True</td>\n",
       "      <td>r0.6</td>\n",
       "      <td>0.605263</td>\n",
       "      <td>0.526316</td>\n",
       "      <td>0.797368</td>\n",
       "      <td>0.742105</td>\n",
       "      <td>0.826675</td>\n",
       "      <td>9.016000</td>\n",
       "    </tr>\n",
       "    <tr>\n",
       "      <th>10</th>\n",
       "      <td>oracle</td>\n",
       "      <td>2</td>\n",
       "      <td>True</td>\n",
       "      <td>r0.7</td>\n",
       "      <td>0.815789</td>\n",
       "      <td>0.815789</td>\n",
       "      <td>0.871053</td>\n",
       "      <td>0.831579</td>\n",
       "      <td>0.890680</td>\n",
       "      <td>4.975437</td>\n",
       "    </tr>\n",
       "    <tr>\n",
       "      <th>11</th>\n",
       "      <td>deepAR</td>\n",
       "      <td>2</td>\n",
       "      <td>True</td>\n",
       "      <td>r0.7</td>\n",
       "      <td>0.526316</td>\n",
       "      <td>0.500000</td>\n",
       "      <td>0.765789</td>\n",
       "      <td>0.705263</td>\n",
       "      <td>0.781314</td>\n",
       "      <td>13.357267</td>\n",
       "    </tr>\n",
       "    <tr>\n",
       "      <th>12</th>\n",
       "      <td>naive</td>\n",
       "      <td>2</td>\n",
       "      <td>True</td>\n",
       "      <td>r0.7</td>\n",
       "      <td>0.618421</td>\n",
       "      <td>0.578947</td>\n",
       "      <td>0.813158</td>\n",
       "      <td>0.768421</td>\n",
       "      <td>0.795573</td>\n",
       "      <td>14.307786</td>\n",
       "    </tr>\n",
       "    <tr>\n",
       "      <th>13</th>\n",
       "      <td>curtrack</td>\n",
       "      <td>2</td>\n",
       "      <td>True</td>\n",
       "      <td>r0.7</td>\n",
       "      <td>0.605263</td>\n",
       "      <td>0.552632</td>\n",
       "      <td>0.818421</td>\n",
       "      <td>0.778947</td>\n",
       "      <td>0.840565</td>\n",
       "      <td>9.501687</td>\n",
       "    </tr>\n",
       "    <tr>\n",
       "      <th>14</th>\n",
       "      <td>zerotrack</td>\n",
       "      <td>2</td>\n",
       "      <td>True</td>\n",
       "      <td>r0.7</td>\n",
       "      <td>0.644737</td>\n",
       "      <td>0.605263</td>\n",
       "      <td>0.823684</td>\n",
       "      <td>0.784211</td>\n",
       "      <td>0.839182</td>\n",
       "      <td>8.700128</td>\n",
       "    </tr>\n",
       "    <tr>\n",
       "      <th>45</th>\n",
       "      <td>oracle</td>\n",
       "      <td>2</td>\n",
       "      <td>False</td>\n",
       "      <td>r0.5</td>\n",
       "      <td>0.710526</td>\n",
       "      <td>0.631579</td>\n",
       "      <td>0.821053</td>\n",
       "      <td>0.789474</td>\n",
       "      <td>0.856033</td>\n",
       "      <td>6.706011</td>\n",
       "    </tr>\n",
       "    <tr>\n",
       "      <th>46</th>\n",
       "      <td>deepAR</td>\n",
       "      <td>2</td>\n",
       "      <td>False</td>\n",
       "      <td>r0.5</td>\n",
       "      <td>0.447368</td>\n",
       "      <td>0.421053</td>\n",
       "      <td>0.694737</td>\n",
       "      <td>0.642105</td>\n",
       "      <td>0.738440</td>\n",
       "      <td>14.081988</td>\n",
       "    </tr>\n",
       "    <tr>\n",
       "      <th>47</th>\n",
       "      <td>naive</td>\n",
       "      <td>2</td>\n",
       "      <td>False</td>\n",
       "      <td>r0.5</td>\n",
       "      <td>0.684211</td>\n",
       "      <td>0.631579</td>\n",
       "      <td>0.842105</td>\n",
       "      <td>0.789474</td>\n",
       "      <td>0.824563</td>\n",
       "      <td>11.420042</td>\n",
       "    </tr>\n",
       "    <tr>\n",
       "      <th>48</th>\n",
       "      <td>curtrack</td>\n",
       "      <td>2</td>\n",
       "      <td>False</td>\n",
       "      <td>r0.5</td>\n",
       "      <td>0.500000</td>\n",
       "      <td>0.421053</td>\n",
       "      <td>0.810526</td>\n",
       "      <td>0.757895</td>\n",
       "      <td>0.825068</td>\n",
       "      <td>9.683077</td>\n",
       "    </tr>\n",
       "    <tr>\n",
       "      <th>49</th>\n",
       "      <td>zerotrack</td>\n",
       "      <td>2</td>\n",
       "      <td>False</td>\n",
       "      <td>r0.5</td>\n",
       "      <td>0.526316</td>\n",
       "      <td>0.421053</td>\n",
       "      <td>0.778947</td>\n",
       "      <td>0.715789</td>\n",
       "      <td>0.802881</td>\n",
       "      <td>11.173911</td>\n",
       "    </tr>\n",
       "    <tr>\n",
       "      <th>50</th>\n",
       "      <td>oracle</td>\n",
       "      <td>2</td>\n",
       "      <td>False</td>\n",
       "      <td>r0.6</td>\n",
       "      <td>0.842105</td>\n",
       "      <td>0.842105</td>\n",
       "      <td>0.857895</td>\n",
       "      <td>0.821053</td>\n",
       "      <td>0.881331</td>\n",
       "      <td>6.006470</td>\n",
       "    </tr>\n",
       "    <tr>\n",
       "      <th>51</th>\n",
       "      <td>deepAR</td>\n",
       "      <td>2</td>\n",
       "      <td>False</td>\n",
       "      <td>r0.6</td>\n",
       "      <td>0.526316</td>\n",
       "      <td>0.473684</td>\n",
       "      <td>0.763158</td>\n",
       "      <td>0.684211</td>\n",
       "      <td>0.807284</td>\n",
       "      <td>11.205414</td>\n",
       "    </tr>\n",
       "    <tr>\n",
       "      <th>52</th>\n",
       "      <td>naive</td>\n",
       "      <td>2</td>\n",
       "      <td>False</td>\n",
       "      <td>r0.6</td>\n",
       "      <td>0.684211</td>\n",
       "      <td>0.631579</td>\n",
       "      <td>0.842105</td>\n",
       "      <td>0.789474</td>\n",
       "      <td>0.824563</td>\n",
       "      <td>11.420042</td>\n",
       "    </tr>\n",
       "    <tr>\n",
       "      <th>53</th>\n",
       "      <td>curtrack</td>\n",
       "      <td>2</td>\n",
       "      <td>False</td>\n",
       "      <td>r0.6</td>\n",
       "      <td>0.684211</td>\n",
       "      <td>0.684211</td>\n",
       "      <td>0.805263</td>\n",
       "      <td>0.747368</td>\n",
       "      <td>0.825563</td>\n",
       "      <td>11.239180</td>\n",
       "    </tr>\n",
       "    <tr>\n",
       "      <th>54</th>\n",
       "      <td>zerotrack</td>\n",
       "      <td>2</td>\n",
       "      <td>False</td>\n",
       "      <td>r0.6</td>\n",
       "      <td>0.684211</td>\n",
       "      <td>0.684211</td>\n",
       "      <td>0.805263</td>\n",
       "      <td>0.757895</td>\n",
       "      <td>0.829707</td>\n",
       "      <td>8.822554</td>\n",
       "    </tr>\n",
       "    <tr>\n",
       "      <th>55</th>\n",
       "      <td>oracle</td>\n",
       "      <td>2</td>\n",
       "      <td>False</td>\n",
       "      <td>r0.7</td>\n",
       "      <td>0.842105</td>\n",
       "      <td>0.842105</td>\n",
       "      <td>0.868421</td>\n",
       "      <td>0.821053</td>\n",
       "      <td>0.883376</td>\n",
       "      <td>5.689193</td>\n",
       "    </tr>\n",
       "    <tr>\n",
       "      <th>56</th>\n",
       "      <td>deepAR</td>\n",
       "      <td>2</td>\n",
       "      <td>False</td>\n",
       "      <td>r0.7</td>\n",
       "      <td>0.631579</td>\n",
       "      <td>0.526316</td>\n",
       "      <td>0.778947</td>\n",
       "      <td>0.705263</td>\n",
       "      <td>0.794600</td>\n",
       "      <td>12.063610</td>\n",
       "    </tr>\n",
       "    <tr>\n",
       "      <th>57</th>\n",
       "      <td>naive</td>\n",
       "      <td>2</td>\n",
       "      <td>False</td>\n",
       "      <td>r0.7</td>\n",
       "      <td>0.684211</td>\n",
       "      <td>0.631579</td>\n",
       "      <td>0.842105</td>\n",
       "      <td>0.789474</td>\n",
       "      <td>0.824563</td>\n",
       "      <td>11.420042</td>\n",
       "    </tr>\n",
       "    <tr>\n",
       "      <th>58</th>\n",
       "      <td>curtrack</td>\n",
       "      <td>2</td>\n",
       "      <td>False</td>\n",
       "      <td>r0.7</td>\n",
       "      <td>0.657895</td>\n",
       "      <td>0.631579</td>\n",
       "      <td>0.800000</td>\n",
       "      <td>0.747368</td>\n",
       "      <td>0.830884</td>\n",
       "      <td>10.256241</td>\n",
       "    </tr>\n",
       "    <tr>\n",
       "      <th>59</th>\n",
       "      <td>zerotrack</td>\n",
       "      <td>2</td>\n",
       "      <td>False</td>\n",
       "      <td>r0.7</td>\n",
       "      <td>0.657895</td>\n",
       "      <td>0.578947</td>\n",
       "      <td>0.842105</td>\n",
       "      <td>0.789474</td>\n",
       "      <td>0.855688</td>\n",
       "      <td>7.182846</td>\n",
       "    </tr>\n",
       "  </tbody>\n",
       "</table>\n",
       "</div>"
      ],
      "text/plain": [
       "        model  prediction_length  halfmode trainid   top1acc  top1acc_farmost  \\\n",
       "0      oracle                  2      True    r0.5  0.697368         0.631579   \n",
       "1      deepAR                  2      True    r0.5  0.381579         0.315789   \n",
       "2       naive                  2      True    r0.5  0.618421         0.578947   \n",
       "3    curtrack                  2      True    r0.5  0.473684         0.368421   \n",
       "4   zerotrack                  2      True    r0.5  0.473684         0.447368   \n",
       "5      oracle                  2      True    r0.6  0.789474         0.789474   \n",
       "6      deepAR                  2      True    r0.6  0.473684         0.368421   \n",
       "7       naive                  2      True    r0.6  0.618421         0.578947   \n",
       "8    curtrack                  2      True    r0.6  0.605263         0.552632   \n",
       "9   zerotrack                  2      True    r0.6  0.605263         0.526316   \n",
       "10     oracle                  2      True    r0.7  0.815789         0.815789   \n",
       "11     deepAR                  2      True    r0.7  0.526316         0.500000   \n",
       "12      naive                  2      True    r0.7  0.618421         0.578947   \n",
       "13   curtrack                  2      True    r0.7  0.605263         0.552632   \n",
       "14  zerotrack                  2      True    r0.7  0.644737         0.605263   \n",
       "45     oracle                  2     False    r0.5  0.710526         0.631579   \n",
       "46     deepAR                  2     False    r0.5  0.447368         0.421053   \n",
       "47      naive                  2     False    r0.5  0.684211         0.631579   \n",
       "48   curtrack                  2     False    r0.5  0.500000         0.421053   \n",
       "49  zerotrack                  2     False    r0.5  0.526316         0.421053   \n",
       "50     oracle                  2     False    r0.6  0.842105         0.842105   \n",
       "51     deepAR                  2     False    r0.6  0.526316         0.473684   \n",
       "52      naive                  2     False    r0.6  0.684211         0.631579   \n",
       "53   curtrack                  2     False    r0.6  0.684211         0.684211   \n",
       "54  zerotrack                  2     False    r0.6  0.684211         0.684211   \n",
       "55     oracle                  2     False    r0.7  0.842105         0.842105   \n",
       "56     deepAR                  2     False    r0.7  0.631579         0.526316   \n",
       "57      naive                  2     False    r0.7  0.684211         0.631579   \n",
       "58   curtrack                  2     False    r0.7  0.657895         0.631579   \n",
       "59  zerotrack                  2     False    r0.7  0.657895         0.578947   \n",
       "\n",
       "     top5acc  top5acc_farmost       tau       rmse  \n",
       "0   0.810526         0.784211  0.856538   6.495403  \n",
       "1   0.681579         0.615789  0.713712  16.446900  \n",
       "2   0.813158         0.768421  0.795573  14.307786  \n",
       "3   0.789474         0.742105  0.812070  10.850776  \n",
       "4   0.802632         0.752632  0.808004  10.236402  \n",
       "5   0.868421         0.831579  0.887596   5.271319  \n",
       "6   0.739474         0.678947  0.782108  13.329318  \n",
       "7   0.813158         0.768421  0.795573  14.307786  \n",
       "8   0.807895         0.757895  0.837663   9.677535  \n",
       "9   0.797368         0.742105  0.826675   9.016000  \n",
       "10  0.871053         0.831579  0.890680   4.975437  \n",
       "11  0.765789         0.705263  0.781314  13.357267  \n",
       "12  0.813158         0.768421  0.795573  14.307786  \n",
       "13  0.818421         0.778947  0.840565   9.501687  \n",
       "14  0.823684         0.784211  0.839182   8.700128  \n",
       "45  0.821053         0.789474  0.856033   6.706011  \n",
       "46  0.694737         0.642105  0.738440  14.081988  \n",
       "47  0.842105         0.789474  0.824563  11.420042  \n",
       "48  0.810526         0.757895  0.825068   9.683077  \n",
       "49  0.778947         0.715789  0.802881  11.173911  \n",
       "50  0.857895         0.821053  0.881331   6.006470  \n",
       "51  0.763158         0.684211  0.807284  11.205414  \n",
       "52  0.842105         0.789474  0.824563  11.420042  \n",
       "53  0.805263         0.747368  0.825563  11.239180  \n",
       "54  0.805263         0.757895  0.829707   8.822554  \n",
       "55  0.868421         0.821053  0.883376   5.689193  \n",
       "56  0.778947         0.705263  0.794600  12.063610  \n",
       "57  0.842105         0.789474  0.824563  11.420042  \n",
       "58  0.800000         0.747368  0.830884  10.256241  \n",
       "59  0.842105         0.789474  0.855688   7.182846  "
      ]
     },
     "execution_count": 16,
     "metadata": {},
     "output_type": "execute_result"
    }
   ],
   "source": [
    "result[result[\"prediction_length\"]==2]"
   ]
  },
  {
   "cell_type": "code",
   "execution_count": null,
   "metadata": {},
   "outputs": [],
   "source": [
    "tss, forecasts = exp_data[0][0]['naive']"
   ]
  },
  {
   "cell_type": "code",
   "execution_count": null,
   "metadata": {},
   "outputs": [],
   "source": [
    "forecasts[0].samples.shape"
   ]
  },
  {
   "cell_type": "code",
   "execution_count": null,
   "metadata": {},
   "outputs": [],
   "source": [
    "[x[3][:,:].shape for x in rank_ret]"
   ]
  },
  {
   "cell_type": "code",
   "execution_count": null,
   "metadata": {},
   "outputs": [],
   "source": [
    "rank_ret[x][2][:,:]"
   ]
  },
  {
   "cell_type": "code",
   "execution_count": null,
   "metadata": {},
   "outputs": [],
   "source": [
    "rank_ret[1][3][:,:]"
   ]
  },
  {
   "cell_type": "code",
   "execution_count": null,
   "metadata": {},
   "outputs": [],
   "source": [
    "pred_ret.keys()"
   ]
  },
  {
   "cell_type": "code",
   "execution_count": null,
   "metadata": {},
   "outputs": [],
   "source": [
    "forecasts[0].samples.shape"
   ]
  },
  {
   "cell_type": "code",
   "execution_count": null,
   "metadata": {},
   "outputs": [],
   "source": [
    "start_offset"
   ]
  },
  {
   "cell_type": "code",
   "execution_count": null,
   "metadata": {},
   "outputs": [],
   "source": [
    "result[result['prediction_length']==10]"
   ]
  },
  {
   "cell_type": "code",
   "execution_count": 27,
   "metadata": {},
   "outputs": [
    {
     "data": {
      "text/plain": [
       "{200: array([1, 1, 0, 0, 0, 0, 0, 0, 0, 0]),\n",
       " 190: array([1, 1, 1, 1, 1, 1, 0, 0, 0, 0]),\n",
       " 180: array([1, 1, 1, 1, 1, 1, 0, 0, 0, 0])}"
      ]
     },
     "execution_count": 27,
     "metadata": {},
     "output_type": "execute_result"
    }
   ],
   "source": [
    "_track_pred"
   ]
  },
  {
   "cell_type": "code",
   "execution_count": 26,
   "metadata": {},
   "outputs": [
    {
     "data": {
      "text/plain": [
       "{200: array([1., 1., 0., 0., 0., 0., 0., 0., 0., 0.]),\n",
       " 190: array([1., 1., 1., 1., 1., 1., 0., 0., 0., 0.]),\n",
       " 180: array([1., 1., 1., 1., 1., 1., 0., 0., 0., 0.])}"
      ]
     },
     "execution_count": 26,
     "metadata": {},
     "output_type": "execute_result"
    }
   ],
   "source": [
    "_track_true"
   ]
  },
  {
   "cell_type": "code",
   "execution_count": 15,
   "metadata": {},
   "outputs": [
    {
     "data": {
      "text/plain": [
       "(10,)"
      ]
     },
     "execution_count": 15,
     "metadata": {},
     "output_type": "execute_result"
    }
   ],
   "source": [
    "pitpred = np.array([0 for x in range(10)])\n",
    "pitpred.shape"
   ]
  },
  {
   "cell_type": "code",
   "execution_count": 16,
   "metadata": {},
   "outputs": [
    {
     "data": {
      "text/plain": [
       "0"
      ]
     },
     "execution_count": 16,
     "metadata": {},
     "output_type": "execute_result"
    }
   ],
   "source": [
    "pitpred[0] "
   ]
  },
  {
   "cell_type": "code",
   "execution_count": null,
   "metadata": {},
   "outputs": [],
   "source": []
  }
 ],
 "metadata": {
  "kernelspec": {
   "display_name": "Python 3",
   "language": "python",
   "name": "python3"
  },
  "language_info": {
   "codemirror_mode": {
    "name": "ipython",
    "version": 3
   },
   "file_extension": ".py",
   "mimetype": "text/x-python",
   "name": "python",
   "nbconvert_exporter": "python",
   "pygments_lexer": "ipython3",
   "version": "3.6.10"
  }
 },
 "nbformat": 4,
 "nbformat_minor": 4
}
