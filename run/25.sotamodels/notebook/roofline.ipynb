{
 "cells": [
  {
   "cell_type": "markdown",
   "metadata": {},
   "source": [
    "### analysis roofline results of advisor"
   ]
  },
  {
   "cell_type": "code",
   "execution_count": 56,
   "metadata": {},
   "outputs": [],
   "source": [
    "%matplotlib inline\n",
    "import os, sys\n",
    "import re\n",
    "import numpy\n",
    "import math\n",
    "import pandas as pd\n",
    "\n",
    "import matplotlib.pyplot as plt"
   ]
  },
  {
   "cell_type": "code",
   "execution_count": 50,
   "metadata": {},
   "outputs": [],
   "source": [
    "#{id:'140328587898464',name:'[loop in Eigen::internal::general_matrix_vector_product<long, float, Eigen::internal::const_blas_data_mapper<float, long, (int)1>, (int)1, (bool)0, float, Eigen::internal::const_blas_data_mapper<float, long, (int)0>, (bool)0, (int)0>::run]',\n",
    "# selfGbPerSec:69.1285,selfTime:0.03,totalTime:1.055,type:'4',x:-0.690995,y:1.14866},\n",
    "\n",
    "def read_roofline(datafile):\n",
    "    \"\"\"\n",
    "    read roofline result file\n",
    "    return:\n",
    "        [name, AI, GFlops]\n",
    "    \"\"\"\n",
    "    f =open(datafile,'r')\n",
    "    data = f.read()\n",
    "    #.split('{id:')\n",
    "    \n",
    "    sdata = re.sub('{id:', '\\n{id:', data)\n",
    "    \n",
    "    ret = []\n",
    "    for rec in sdata.split('\\n')[1:]:\n",
    "        mo = re.search(\",name:'([^']*)'.*,x:([^,]*),y:([^,}]*)\", rec)\n",
    "        if mo:\n",
    "            name = mo.group(1)\n",
    "            ai = math.pow(10, float(mo.group(2)))\n",
    "            gflops = math.pow(10, float(mo.group(3)))\n",
    "            #ret.append([mo.group(1),mo.group(2),mo.group(3)])\n",
    "            ret.append([name, ai, gflops])\n",
    "        \n",
    "    return ret \n",
    "\n",
    "def select_data(data, filters):\n",
    "    \"\"\"\n",
    "    get subset of data by name filtering\n",
    "    \n",
    "    \"\"\"\n",
    "    ret = []\n",
    "    for f in filters:\n",
    "        for rec in data:\n",
    "            if rec[0].find(f) >= 0:\n",
    "                ret.append([f, rec[1], rec[2]])\n",
    "                \n",
    "    return ret"
   ]
  },
  {
   "cell_type": "code",
   "execution_count": 63,
   "metadata": {},
   "outputs": [],
   "source": [
    "data_3200 = read_roofline('data/roofline_b3200_c16.data')\n",
    "data_32 = read_roofline('data/roofline_b32_c1.data')\n",
    "data_32_c16 = read_roofline('data/roofline_b32_c16.data')\n"
   ]
  },
  {
   "cell_type": "code",
   "execution_count": 64,
   "metadata": {},
   "outputs": [],
   "source": [
    "filters=[\"matrix_vector_product\",\"scalar_product_op\",\"scalar_sum_op\",\"scalar_logistic_op\",\"_tanh_\"]\n",
    "\n",
    "db32k = select_data(data_3200, filters)\n",
    "db32 = select_data(data_32, filters)\n",
    "data32_c16 = select_data(data_32_c16, filters)"
   ]
  },
  {
   "cell_type": "code",
   "execution_count": 52,
   "metadata": {},
   "outputs": [
    {
     "data": {
      "text/plain": [
       "[['matrix_vector_product', 0.4444439512937877, 27.935085182946292],\n",
       " ['matrix_vector_product', 0.484848437090877, 21.505522565666755],\n",
       " ['matrix_vector_product', 0.4444439512937877, 21.505027388410955],\n",
       " ['matrix_vector_product', 0.20370655301543306, 14.081859276764895],\n",
       " ['matrix_vector_product', 0.3333335288379565, 7.679996108995958],\n",
       " ['scalar_product_op', 0.08333357242790017, 9.035100755781755],\n",
       " ['scalar_product_op', 0.12499999625598048, 2.7173401140680395],\n",
       " ['scalar_product_op', 0.12499999625598048, 1.8091725928585223],\n",
       " ['scalar_product_op', 1.2503453980348857e-06, 1e-05],\n",
       " ['scalar_sum_op', 0.08333357242790017, 14.336066273453069],\n",
       " ['scalar_sum_op', 0.08333357242790017, 14.330785644241692],\n",
       " ['scalar_sum_op', 0.08333357242790017, 14.19024847058319],\n",
       " ['scalar_sum_op', 0.08333357242790017, 10.092296474377246],\n",
       " ['scalar_sum_op', 0.20000000199681048, 9.920007488540403],\n",
       " ['scalar_sum_op', 0.08333357242790017, 6.719995774937963],\n",
       " ['scalar_sum_op', 0.12499999625598048, 4.705231545304576],\n",
       " ['scalar_sum_op', 0.1499999105253642, 4.032004424419973],\n",
       " ['scalar_sum_op', 0.12499999625598048, 2.6879983636494167],\n",
       " ['scalar_sum_op', 0.12499999625598048, 2.016002192082115],\n",
       " ['scalar_sum_op', 4.1423806079608344e-08, 1e-07],\n",
       " ['scalar_logistic_op', 0.9583203267863771, 211.97273335075113],\n",
       " ['_tanh_', 0.32857158290793026, 170.5493230771552],\n",
       " ['_tanh_', 0.2499999950079739, 30.719914314105505]]"
      ]
     },
     "execution_count": 52,
     "metadata": {},
     "output_type": "execute_result"
    }
   ],
   "source": [
    "db32k"
   ]
  },
  {
   "cell_type": "code",
   "execution_count": 65,
   "metadata": {},
   "outputs": [
    {
     "data": {
      "text/plain": [
       "[['matrix_vector_product', 0.484848437090877, 4.306108812913846],\n",
       " ['matrix_vector_product', 0.4444439512937877, 15.447208197209916],\n",
       " ['scalar_product_op', 0.08333357242790017, 3.167816379220401],\n",
       " ['scalar_product_op', 8.7086332233912e-06, 5.000460488301987e-05],\n",
       " ['scalar_sum_op', 0.08333357242790017, 4.300609401618022],\n",
       " ['scalar_sum_op', 0.20000000199681048, 9.932738456162832],\n",
       " ['scalar_sum_op', 0.08333357242790017, 6.559790960139684],\n",
       " ['scalar_sum_op', 0.08333357242790017, 7.168033065160517],\n",
       " ['scalar_sum_op', 0.08333357242790017, 5.935195106469209],\n",
       " ['scalar_sum_op', 9.527303494695147e-08, 5.0005756294853743e-08],\n",
       " ['scalar_sum_op', 0.12499999625598048, 5.779203668803263],\n",
       " ['scalar_logistic_op', 0.9583293739468873, 37.09454086485759],\n",
       " ['_tanh_', 0.32857158290793026, 13.738205234600647],\n",
       " ['_tanh_', 0.2499999950079739, 32.25596208931465]]"
      ]
     },
     "execution_count": 65,
     "metadata": {},
     "output_type": "execute_result"
    }
   ],
   "source": [
    "data32_c16"
   ]
  },
  {
   "cell_type": "code",
   "execution_count": 55,
   "metadata": {},
   "outputs": [
    {
     "data": {
      "text/plain": [
       "[['matrix_vector_product', 0.4444439512937877, 7.722768206711722],\n",
       " ['matrix_vector_product', 0.484848437090877, 12.916950640121762],\n",
       " ['scalar_product_op', 0.08333357242790017, 2.587182113052963],\n",
       " ['scalar_product_op', 8.7086332233912e-06, 2.5003453616964294e-05],\n",
       " ['scalar_sum_op', 0.08333357242790017, 3.5841237809414035],\n",
       " ['scalar_sum_op', 0.08333357242790017, 2.374039824684168],\n",
       " ['scalar_sum_op', 0.20000000199681048, 10.472973388344275],\n",
       " ['scalar_sum_op', 0.08333357242790017, 6.559639917109859],\n",
       " ['scalar_sum_op', 0.08333357242790017, 5.375773969169624],\n",
       " ['scalar_sum_op', 0.12499999625598048, 2.8893556345386346],\n",
       " ['scalar_sum_op', 0.01829279215932264, 0.03779984334660242],\n",
       " ['scalar_sum_op', 0.12499999625598048, 0.1344157005968505],\n",
       " ['scalar_logistic_op', 0.9583304772649878, 18.454827919161378],\n",
       " ['_tanh_', 0.32857158290793026, 41.21829280111726],\n",
       " ['_tanh_', 0.2499999950079739, 10.751770855180236]]"
      ]
     },
     "execution_count": 55,
     "metadata": {},
     "output_type": "execute_result"
    }
   ],
   "source": [
    "db32"
   ]
  },
  {
   "cell_type": "markdown",
   "metadata": {},
   "source": [
    "### draw fig"
   ]
  },
  {
   "cell_type": "code",
   "execution_count": 62,
   "metadata": {},
   "outputs": [
    {
     "data": {
      "image/png": "[encoded data removed]",
      "text/plain": [
       "<Figure size 288x216 with 1 Axes>"
      ]
     },
     "metadata": {
      "needs_background": "light"
     },
     "output_type": "display_data"
    }
   ],
   "source": [
    "fig, axs = plt.subplots(1, 1, figsize=(4,3))\n",
    "\n",
    "#colors = ['r','g','m']\n",
    "#plabels = ['observed','svr','arima','ranknet']\n",
    "\n",
    "ax = plt.subplot(1, 1, 1)\n",
    "markers=[\"*\",'o','+','s','v']\n",
    "markers = {f:markers[idx] for idx,f in enumerate(filters)}\n",
    "\n",
    "db=db32\n",
    "color='r'\n",
    "for pt in db:\n",
    "    ax.scatter(pt[1],pt[2], marker=markers[pt[0]], color=color)    \n",
    "\n",
    "    \n",
    "db=db32k\n",
    "color='g'\n",
    "for pt in db:\n",
    "    ax.scatter(pt[1],pt[2], marker=markers[pt[0]], color=color)    \n",
    "    \n",
    "    \n",
    "ax.set_xlim((0.01, 10))\n",
    "ax.set_ylim((1, 2000))\n",
    "ax.set_xlabel('OP/Byte (Arithmetic Intensity)')\n",
    "ax.set_ylabel('GFLOPS')\n",
    "\n",
    "ax.set_yscale('log')\n",
    "ax.set_xscale('log')"
   ]
  },
  {
   "cell_type": "markdown",
   "metadata": {},
   "source": [
    "### test"
   ]
  },
  {
   "cell_type": "code",
   "execution_count": 27,
   "metadata": {},
   "outputs": [],
   "source": [
    "rec=\"{id:'140328587898464',name:'[loop in Eigen::internal::general_matrix_vector_product<long, float, Eigen::internal::const_blas_data_mapper<float, long, (int)1>, (int)1, (bool)0, float, Eigen::internal::const_blas_data_mapper<float, long, (int)0>, (bool)0, (int)0>::run]',selfGbPerSec:69.1285,selfTime:0.03,totalTime:1.055,type:'4',x:-0.690995,y:1.14866}\""
   ]
  },
  {
   "cell_type": "code",
   "execution_count": 30,
   "metadata": {},
   "outputs": [],
   "source": [
    "mo = re.match(\".*name:'([^']*)'.*,x:([^,]*),y:([^,]*).*\", rec)"
   ]
  },
  {
   "cell_type": "code",
   "execution_count": 31,
   "metadata": {},
   "outputs": [
    {
     "data": {
      "text/plain": [
       "<_sre.SRE_Match object; span=(0, 351), match=\"{id:'140328587898464',name:'[loop in Eigen::inter>"
      ]
     },
     "execution_count": 31,
     "metadata": {},
     "output_type": "execute_result"
    }
   ],
   "source": [
    "mo"
   ]
  },
  {
   "cell_type": "code",
   "execution_count": 32,
   "metadata": {},
   "outputs": [],
   "source": [
    "mo = re.search(\"name:'([^']*)'.*,x:([^,]*),y:([^,]*)\", rec)"
   ]
  },
  {
   "cell_type": "code",
   "execution_count": 33,
   "metadata": {},
   "outputs": [
    {
     "data": {
      "text/plain": [
       "<_sre.SRE_Match object; span=(22, 351), match=\"name:'[loop in Eigen::internal::general_matrix_ve>"
      ]
     },
     "execution_count": 33,
     "metadata": {},
     "output_type": "execute_result"
    }
   ],
   "source": [
    "mo"
   ]
  },
  {
   "cell_type": "code",
   "execution_count": 34,
   "metadata": {},
   "outputs": [
    {
     "data": {
      "text/plain": [
       "'[loop in Eigen::internal::general_matrix_vector_product<long, float, Eigen::internal::const_blas_data_mapper<float, long, (int)1>, (int)1, (bool)0, float, Eigen::internal::const_blas_data_mapper<float, long, (int)0>, (bool)0, (int)0>::run]'"
      ]
     },
     "execution_count": 34,
     "metadata": {},
     "output_type": "execute_result"
    }
   ],
   "source": [
    "mo.group(1)"
   ]
  },
  {
   "cell_type": "code",
   "execution_count": null,
   "metadata": {},
   "outputs": [],
   "source": []
  }
 ],
 "metadata": {
  "kernelspec": {
   "display_name": "Python 3",
   "language": "python",
   "name": "python3"
  },
  "language_info": {
   "codemirror_mode": {
    "name": "ipython",
    "version": 3
   },
   "file_extension": ".py",
   "mimetype": "text/x-python",
   "name": "python",
   "nbconvert_exporter": "python",
   "pygments_lexer": "ipython3",
   "version": "3.6.10"
  }
 },
 "nbformat": 4,
 "nbformat_minor": 4
}
