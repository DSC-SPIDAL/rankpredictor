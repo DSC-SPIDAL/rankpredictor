{
 "cells": [
  {
   "cell_type": "code",
   "execution_count": 45,
   "metadata": {},
   "outputs": [],
   "source": [
    "%load_ext autoreload\n",
    "%autoreload 2\n",
    "\n",
    "import pandas as pd\n",
    "import os"
   ]
  },
  {
   "cell_type": "code",
   "execution_count": 5,
   "metadata": {},
   "outputs": [],
   "source": [
    "drivers = pd.read_csv('../data/final/drivers.csv')"
   ]
  },
  {
   "cell_type": "code",
   "execution_count": 7,
   "metadata": {},
   "outputs": [
    {
     "data": {
      "text/html": [
       "<div>\n",
       "<style scoped>\n",
       "    .dataframe tbody tr th:only-of-type {\n",
       "        vertical-align: middle;\n",
       "    }\n",
       "\n",
       "    .dataframe tbody tr th {\n",
       "        vertical-align: top;\n",
       "    }\n",
       "\n",
       "    .dataframe thead th {\n",
       "        text-align: right;\n",
       "    }\n",
       "</style>\n",
       "<table border=\"1\" class=\"dataframe\">\n",
       "  <thead>\n",
       "    <tr style=\"text-align: right;\">\n",
       "      <th></th>\n",
       "      <th>race</th>\n",
       "      <th>year</th>\n",
       "      <th>carid</th>\n",
       "      <th>drivername</th>\n",
       "      <th>driverid</th>\n",
       "    </tr>\n",
       "  </thead>\n",
       "  <tbody>\n",
       "    <tr>\n",
       "      <th>0</th>\n",
       "      <td>Gateway</td>\n",
       "      <td>2017</td>\n",
       "      <td>10</td>\n",
       "      <td>Tony Kanaan</td>\n",
       "      <td>294</td>\n",
       "    </tr>\n",
       "    <tr>\n",
       "      <th>1</th>\n",
       "      <td>Gateway</td>\n",
       "      <td>2017</td>\n",
       "      <td>12</td>\n",
       "      <td>Will Power</td>\n",
       "      <td>461</td>\n",
       "    </tr>\n",
       "    <tr>\n",
       "      <th>2</th>\n",
       "      <td>Gateway</td>\n",
       "      <td>2017</td>\n",
       "      <td>14</td>\n",
       "      <td>Carlos Munoz</td>\n",
       "      <td>704</td>\n",
       "    </tr>\n",
       "    <tr>\n",
       "      <th>3</th>\n",
       "      <td>Gateway</td>\n",
       "      <td>2017</td>\n",
       "      <td>15</td>\n",
       "      <td>Graham Rahal</td>\n",
       "      <td>400</td>\n",
       "    </tr>\n",
       "    <tr>\n",
       "      <th>4</th>\n",
       "      <td>Gateway</td>\n",
       "      <td>2017</td>\n",
       "      <td>18</td>\n",
       "      <td>Sebastien Bourdais</td>\n",
       "      <td>371</td>\n",
       "    </tr>\n",
       "    <tr>\n",
       "      <th>...</th>\n",
       "      <td>...</td>\n",
       "      <td>...</td>\n",
       "      <td>...</td>\n",
       "      <td>...</td>\n",
       "      <td>...</td>\n",
       "    </tr>\n",
       "    <tr>\n",
       "      <th>986</th>\n",
       "      <td>Texas</td>\n",
       "      <td>2019</td>\n",
       "      <td>5</td>\n",
       "      <td>James Hinchcliffe</td>\n",
       "      <td>480</td>\n",
       "    </tr>\n",
       "    <tr>\n",
       "      <th>987</th>\n",
       "      <td>Texas</td>\n",
       "      <td>2019</td>\n",
       "      <td>7</td>\n",
       "      <td>Marcus Ericsson</td>\n",
       "      <td>1087</td>\n",
       "    </tr>\n",
       "    <tr>\n",
       "      <th>988</th>\n",
       "      <td>Texas</td>\n",
       "      <td>2019</td>\n",
       "      <td>88</td>\n",
       "      <td>Colton Herta</td>\n",
       "      <td>879</td>\n",
       "    </tr>\n",
       "    <tr>\n",
       "      <th>989</th>\n",
       "      <td>Texas</td>\n",
       "      <td>2019</td>\n",
       "      <td>98</td>\n",
       "      <td>Marco Andretti</td>\n",
       "      <td>369</td>\n",
       "    </tr>\n",
       "    <tr>\n",
       "      <th>990</th>\n",
       "      <td>Texas</td>\n",
       "      <td>2019</td>\n",
       "      <td>9</td>\n",
       "      <td>Scott Dixon</td>\n",
       "      <td>326</td>\n",
       "    </tr>\n",
       "  </tbody>\n",
       "</table>\n",
       "<p>991 rows × 5 columns</p>\n",
       "</div>"
      ],
      "text/plain": [
       "        race  year carid          drivername  driverid\n",
       "0    Gateway  2017    10         Tony Kanaan       294\n",
       "1    Gateway  2017    12          Will Power       461\n",
       "2    Gateway  2017    14        Carlos Munoz       704\n",
       "3    Gateway  2017    15        Graham Rahal       400\n",
       "4    Gateway  2017    18  Sebastien Bourdais       371\n",
       "..       ...   ...   ...                 ...       ...\n",
       "986    Texas  2019     5   James Hinchcliffe       480\n",
       "987    Texas  2019     7     Marcus Ericsson      1087\n",
       "988    Texas  2019    88        Colton Herta       879\n",
       "989    Texas  2019    98      Marco Andretti       369\n",
       "990    Texas  2019     9         Scott Dixon       326\n",
       "\n",
       "[991 rows x 5 columns]"
      ]
     },
     "execution_count": 7,
     "metadata": {},
     "output_type": "execute_result"
    }
   ],
   "source": [
    "drivers"
   ]
  },
  {
   "cell_type": "code",
   "execution_count": 9,
   "metadata": {},
   "outputs": [],
   "source": [
    "races = ['Indy500', 'Texas','Iowa','Pocono'] \n",
    "years = ['2013','2014','2015','2016','2017','2018','2019'] \n",
    "\n",
    "events = [] \n",
    "for race in races:\n",
    "    events.extend([f'{race}-{x}' for x in years])\n",
    "events.extend(['Phoenix-2018','Gateway-2018','Gateway-2019'])                                        \n",
    "events_id={key:idx for idx, key in enumerate(events)}\n",
    "    \n"
   ]
  },
  {
   "cell_type": "code",
   "execution_count": 40,
   "metadata": {},
   "outputs": [
    {
     "name": "stdout",
     "output_type": "stream",
     "text": [
      "event:Indy500-2013, race=Indy500,year=2013, size=33\n",
      "event:Indy500-2014, race=Indy500,year=2014, size=33\n",
      "event:Indy500-2015, race=Indy500,year=2015, size=33\n",
      "event:Indy500-2016, race=Indy500,year=2016, size=33\n",
      "event:Indy500-2017, race=Indy500,year=2017, size=33\n",
      "event:Indy500-2018, race=Indy500,year=2018, size=33\n",
      "event:Indy500-2019, race=Indy500,year=2019, size=33\n",
      "event:Texas-2013, race=Texas,year=2013, size=24\n",
      "event:Texas-2014, race=Texas,year=2014, size=22\n",
      "event:Texas-2015, race=Texas,year=2015, size=23\n",
      "event:Texas-2016, race=Texas,year=2016, size=22\n",
      "event:Texas-2017, race=Texas,year=2017, size=22\n",
      "event:Texas-2018, race=Texas,year=2018, size=22\n",
      "event:Texas-2019, race=Texas,year=2019, size=22\n",
      "event:Iowa-2013, race=Iowa,year=2013, size=24\n",
      "{inputfile} does not exist\n",
      "event:Iowa-2015, race=Iowa,year=2015, size=24\n",
      "event:Iowa-2016, race=Iowa,year=2016, size=22\n",
      "event:Iowa-2017, race=Iowa,year=2017, size=21\n",
      "event:Iowa-2018, race=Iowa,year=2018, size=22\n",
      "event:Iowa-2019, race=Iowa,year=2019, size=22\n",
      "event:Pocono-2013, race=Pocono,year=2013, size=24\n",
      "{inputfile} does not exist\n",
      "event:Pocono-2015, race=Pocono,year=2015, size=24\n",
      "event:Pocono-2016, race=Pocono,year=2016, size=22\n",
      "event:Pocono-2017, race=Pocono,year=2017, size=22\n",
      "event:Pocono-2018, race=Pocono,year=2018, size=22\n",
      "event:Pocono-2019, race=Pocono,year=2019, size=22\n",
      "event:Phoenix-2018, race=Phoenix,year=2018, size=23\n",
      "event:Gateway-2018, race=Gateway,year=2018, size=21\n",
      "event:Gateway-2019, race=Gateway,year=2019, size=22\n"
     ]
    }
   ],
   "source": [
    "for event in events:\n",
    "    inputfile = '../data/final/C_'+ event +'.csv'\n",
    "    outputfile = '../data/final/driverid/C_'+ event +'.csv'\n",
    "    \n",
    "    if not os.path.exists(inputfile):\n",
    "        print(f'{inputfile} does not exist')\n",
    "        continue\n",
    "    \n",
    "    dataset = pd.read_csv(inputfile)\n",
    "    \n",
    "    #replace 'car_num' with driverid\n",
    "    race,year = event.split('-')\n",
    "    year = int(year)\n",
    "    driverset = drivers[(drivers['race']==race) & (drivers['year']==year)]\n",
    "    print(f'event:{event}, race={race},year={year}, size={len(driverset)}')\n",
    "    \n",
    "    driverset = driverset[['carid','driverid']].to_numpy()\n",
    "    carid2driverid = {carid:driverid for carid, driverid in driverset}\n",
    "    \n",
    "    dataset['car_number'] = dataset['car_number'].apply(lambda x:carid2driverid[str(x)])\n",
    "\n",
    "    dataset.to_csv(outputfile)"
   ]
  },
  {
   "cell_type": "markdown",
   "metadata": {},
   "source": [
    "### verify result"
   ]
  },
  {
   "cell_type": "code",
   "execution_count": 1,
   "metadata": {},
   "outputs": [
    {
     "name": "stdout",
     "output_type": "stream",
     "text": [
      "count of completed cars: 18\n",
      "completed cars: [ 461  300  326  522  442  658  704  606 1026  400  443  369 1003  747\n",
      "  500  850  285  477]\n",
      "cars: {477, 704, 1026, 326, 522, 747, 300, 461, 1003, 400, 369, 658, 850, 500, 442, 443, 285, 606}\n",
      "#cars= 18\n",
      "count of completed cars: 18\n",
      "completed cars: [ 461  300  326  522  442  658  704  606 1026  400  443  369 1003  747\n",
      "  500  850  285  477]\n",
      "cars: {385, 1026, 522, 400, 658, 918, 538, 922, 285, 543, 294, 300, 564, 948, 442, 443, 704, 580, 326, 457, 461, 850, 477, 606, 608, 358, 747, 1003, 752, 369, 371, 500, 254}\n",
      "#cars= 33\n"
     ]
    },
    {
     "name": "stderr",
     "output_type": "stream",
     "text": [
      "/N/u/pengb/hpda/indycar/predictor/src/indycar/model/quicktest_modules_sota.py:116: SettingWithCopyWarning: \n",
      "A value is trying to be set on a copy of a slice from a DataFrame\n",
      "\n",
      "See the caveats in the documentation: https://pandas.pydata.org/pandas-docs/stable/user_guide/indexing.html#returning-a-view-versus-a-copy\n",
      "  uni_ds['rank_diff'][mask] = 0\n",
      "/N/u/pengb/hpda/indycar/predictor/src/indycar/model/quicktest_modules_sota.py:120: SettingWithCopyWarning: \n",
      "A value is trying to be set on a copy of a slice from a DataFrame\n",
      "\n",
      "See the caveats in the documentation: https://pandas.pydata.org/pandas-docs/stable/user_guide/indexing.html#returning-a-view-versus-a-copy\n",
      "  uni_ds['time_diff'][mask] = 0\n"
     ]
    }
   ],
   "source": [
    "from indycar.model.quicktest_modules_sota import *\n",
    "\n",
    "alldata, rankdata, acldata, flagdata = load_data('Indy500-2018')"
   ]
  },
  {
   "cell_type": "code",
   "execution_count": 2,
   "metadata": {},
   "outputs": [
    {
     "data": {
      "text/html": [
       "<div>\n",
       "<style scoped>\n",
       "    .dataframe tbody tr th:only-of-type {\n",
       "        vertical-align: middle;\n",
       "    }\n",
       "\n",
       "    .dataframe tbody tr th {\n",
       "        vertical-align: top;\n",
       "    }\n",
       "\n",
       "    .dataframe thead th {\n",
       "        text-align: right;\n",
       "    }\n",
       "</style>\n",
       "<table border=\"1\" class=\"dataframe\">\n",
       "  <thead>\n",
       "    <tr style=\"text-align: right;\">\n",
       "      <th></th>\n",
       "      <th>Unnamed: 0</th>\n",
       "      <th>rank</th>\n",
       "      <th>car_number</th>\n",
       "      <th>unique_id</th>\n",
       "      <th>completed_laps</th>\n",
       "      <th>elapsed_time</th>\n",
       "      <th>last_laptime</th>\n",
       "      <th>lap_status</th>\n",
       "      <th>best_laptime</th>\n",
       "      <th>best_lap</th>\n",
       "      <th>...</th>\n",
       "      <th>time_behind_prec</th>\n",
       "      <th>laps_behind_prec</th>\n",
       "      <th>overall_rank</th>\n",
       "      <th>overall_best_laptime</th>\n",
       "      <th>current_status</th>\n",
       "      <th>track_status</th>\n",
       "      <th>pit_stop_count</th>\n",
       "      <th>last_pitted_lap</th>\n",
       "      <th>start_position</th>\n",
       "      <th>laps_led</th>\n",
       "    </tr>\n",
       "    <tr>\n",
       "      <th>MyIdx</th>\n",
       "      <th></th>\n",
       "      <th></th>\n",
       "      <th></th>\n",
       "      <th></th>\n",
       "      <th></th>\n",
       "      <th></th>\n",
       "      <th></th>\n",
       "      <th></th>\n",
       "      <th></th>\n",
       "      <th></th>\n",
       "      <th></th>\n",
       "      <th></th>\n",
       "      <th></th>\n",
       "      <th></th>\n",
       "      <th></th>\n",
       "      <th></th>\n",
       "      <th></th>\n",
       "      <th></th>\n",
       "      <th></th>\n",
       "      <th></th>\n",
       "      <th></th>\n",
       "    </tr>\n",
       "  </thead>\n",
       "  <tbody>\n",
       "    <tr>\n",
       "      <th>0</th>\n",
       "      <td>0</td>\n",
       "      <td>1</td>\n",
       "      <td>300</td>\n",
       "      <td>0</td>\n",
       "      <td>0</td>\n",
       "      <td>0.000</td>\n",
       "      <td>91.4880</td>\n",
       "      <td>T</td>\n",
       "      <td>0.0</td>\n",
       "      <td>0</td>\n",
       "      <td>...</td>\n",
       "      <td>0.000</td>\n",
       "      <td>0</td>\n",
       "      <td>1</td>\n",
       "      <td>0.0</td>\n",
       "      <td>Active</td>\n",
       "      <td>G</td>\n",
       "      <td>0</td>\n",
       "      <td>0</td>\n",
       "      <td>1</td>\n",
       "      <td>0</td>\n",
       "    </tr>\n",
       "    <tr>\n",
       "      <th>1</th>\n",
       "      <td>1</td>\n",
       "      <td>2</td>\n",
       "      <td>658</td>\n",
       "      <td>1</td>\n",
       "      <td>0</td>\n",
       "      <td>0.112</td>\n",
       "      <td>91.0722</td>\n",
       "      <td>T</td>\n",
       "      <td>0.0</td>\n",
       "      <td>0</td>\n",
       "      <td>...</td>\n",
       "      <td>0.112</td>\n",
       "      <td>0</td>\n",
       "      <td>2</td>\n",
       "      <td>0.0</td>\n",
       "      <td>Active</td>\n",
       "      <td>G</td>\n",
       "      <td>0</td>\n",
       "      <td>0</td>\n",
       "      <td>2</td>\n",
       "      <td>0</td>\n",
       "    </tr>\n",
       "  </tbody>\n",
       "</table>\n",
       "<p>2 rows × 22 columns</p>\n",
       "</div>"
      ],
      "text/plain": [
       "       Unnamed: 0  rank  car_number unique_id  completed_laps  elapsed_time  \\\n",
       "MyIdx                                                                         \n",
       "0               0     1         300         0               0         0.000   \n",
       "1               1     2         658         1               0         0.112   \n",
       "\n",
       "       last_laptime lap_status  best_laptime best_lap  ...  time_behind_prec  \\\n",
       "MyIdx                                                  ...                     \n",
       "0           91.4880          T           0.0        0  ...             0.000   \n",
       "1           91.0722          T           0.0        0  ...             0.112   \n",
       "\n",
       "      laps_behind_prec  overall_rank overall_best_laptime current_status  \\\n",
       "MyIdx                                                                      \n",
       "0                    0             1                  0.0         Active   \n",
       "1                    0             2                  0.0         Active   \n",
       "\n",
       "       track_status pit_stop_count last_pitted_lap start_position laps_led  \n",
       "MyIdx                                                                       \n",
       "0                 G              0               0              1        0  \n",
       "1                 G              0               0              2        0  \n",
       "\n",
       "[2 rows x 22 columns]"
      ]
     },
     "execution_count": 2,
     "metadata": {},
     "output_type": "execute_result"
    }
   ],
   "source": [
    "rankdata.head(2)"
   ]
  },
  {
   "cell_type": "markdown",
   "metadata": {},
   "source": [
    "### test"
   ]
  },
  {
   "cell_type": "code",
   "execution_count": 32,
   "metadata": {},
   "outputs": [],
   "source": [
    "race='Indy500'\n",
    "year=2013\n",
    "driverset = drivers[(drivers['race']==race) & (drivers['year']==year)]"
   ]
  },
  {
   "cell_type": "code",
   "execution_count": 33,
   "metadata": {},
   "outputs": [],
   "source": [
    "driverset = driverset[['carid','driverid']].to_numpy()"
   ]
  },
  {
   "cell_type": "code",
   "execution_count": 34,
   "metadata": {},
   "outputs": [
    {
     "data": {
      "text/plain": [
       "array([['10', 296],\n",
       "       ['11', 294],\n",
       "       ['12', 461],\n",
       "       ['14', 543],\n",
       "       ['15', 400],\n",
       "       ['16', 653],\n",
       "       ['18', 459],\n",
       "       ['19', 466],\n",
       "       ['1', 442],\n",
       "       ['20', 300],\n",
       "       ['21', 606],\n",
       "       ['22', 285],\n",
       "       ['25', 369],\n",
       "       ['26', 704],\n",
       "       ['27', 480],\n",
       "       ['2', 820],\n",
       "       ['3', 254],\n",
       "       ['41', 580],\n",
       "       ['4', 443],\n",
       "       ['55', 630],\n",
       "       ['5', 465],\n",
       "       ['60', 354],\n",
       "       ['63', 483],\n",
       "       ['6', 491],\n",
       "       ['77', 658],\n",
       "       ['78', 529],\n",
       "       ['7', 371],\n",
       "       ['81', 611],\n",
       "       ['83', 477],\n",
       "       ['8', 361],\n",
       "       ['91', 77],\n",
       "       ['98', 474],\n",
       "       ['9', 326]], dtype=object)"
      ]
     },
     "execution_count": 34,
     "metadata": {},
     "output_type": "execute_result"
    }
   ],
   "source": [
    "driverset"
   ]
  },
  {
   "cell_type": "code",
   "execution_count": 35,
   "metadata": {},
   "outputs": [
    {
     "data": {
      "text/plain": [
       "{'10': 296,\n",
       " '11': 294,\n",
       " '12': 461,\n",
       " '14': 543,\n",
       " '15': 400,\n",
       " '16': 653,\n",
       " '18': 459,\n",
       " '19': 466,\n",
       " '1': 442,\n",
       " '20': 300,\n",
       " '21': 606,\n",
       " '22': 285,\n",
       " '25': 369,\n",
       " '26': 704,\n",
       " '27': 480,\n",
       " '2': 820,\n",
       " '3': 254,\n",
       " '41': 580,\n",
       " '4': 443,\n",
       " '55': 630,\n",
       " '5': 465,\n",
       " '60': 354,\n",
       " '63': 483,\n",
       " '6': 491,\n",
       " '77': 658,\n",
       " '78': 529,\n",
       " '7': 371,\n",
       " '81': 611,\n",
       " '83': 477,\n",
       " '8': 361,\n",
       " '91': 77,\n",
       " '98': 474,\n",
       " '9': 326}"
      ]
     },
     "execution_count": 35,
     "metadata": {},
     "output_type": "execute_result"
    }
   ],
   "source": [
    "{carid:driverid for carid, driverid in driverset}"
   ]
  },
  {
   "cell_type": "code",
   "execution_count": 27,
   "metadata": {},
   "outputs": [
    {
     "data": {
      "text/plain": [
       "{2008, 2009, 2011, 2012, 2013, 2014, 2015, 2016, 2017, 2018, 2019}"
      ]
     },
     "execution_count": 27,
     "metadata": {},
     "output_type": "execute_result"
    }
   ],
   "source": [
    "set(list(drivers.year.to_numpy()))"
   ]
  },
  {
   "cell_type": "code",
   "execution_count": 28,
   "metadata": {},
   "outputs": [
    {
     "data": {
      "text/plain": [
       "'2013'"
      ]
     },
     "execution_count": 28,
     "metadata": {},
     "output_type": "execute_result"
    }
   ],
   "source": [
    "year"
   ]
  },
  {
   "cell_type": "code",
   "execution_count": null,
   "metadata": {},
   "outputs": [],
   "source": []
  }
 ],
 "metadata": {
  "kernelspec": {
   "display_name": "Python 3",
   "language": "python",
   "name": "python3"
  },
  "language_info": {
   "codemirror_mode": {
    "name": "ipython",
    "version": 3
   },
   "file_extension": ".py",
   "mimetype": "text/x-python",
   "name": "python",
   "nbconvert_exporter": "python",
   "pygments_lexer": "ipython3",
   "version": "3.6.10"
  }
 },
 "nbformat": 4,
 "nbformat_minor": 4
}
