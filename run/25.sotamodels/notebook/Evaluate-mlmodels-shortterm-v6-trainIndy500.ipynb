{
 "cells": [
  {
   "cell_type": "markdown",
   "metadata": {},
   "source": [
    "### evaluating the output forecastings\n",
    "\n",
    "based on: Evaluate-forecasts-paper-v5.ipynb\n",
    "\n",
    "output of forecastings format:\n",
    "\n",
    "    carno\tstartlap\tstartrank\tendrank\tdiff\tsign\tpred_endrank\tpred_diff\tpred_sign\tendlap\tpred_endlap\n",
    "      11\t12\t31\t3.0\t5.0\t2.0\t1\t1.0\t-2.0\t-1\t49\t58\n",
    "    \n",
    "refer to:\n",
    "    19.RankNet/stage_model_regressor.ipynb\n",
    "    19.RankNet/RankForecasting-stint-paper-1kpitmodel.ipynb"
   ]
  },
  {
   "cell_type": "code",
   "execution_count": 1,
   "metadata": {},
   "outputs": [
    {
     "name": "stderr",
     "output_type": "stream",
     "text": [
      "INFO:root:Using GPU\n",
      "INFO:root:Using GPU\n",
      "INFO:root:Using GPU\n",
      "INFO:root:Using GPU\n",
      "INFO:root:Using GPU\n",
      "INFO:root:Using GPU\n",
      "INFO:root:Using GPU\n"
     ]
    }
   ],
   "source": [
    "%load_ext autoreload\n",
    "%autoreload 2\n",
    "\n",
    "%matplotlib inline\n",
    "import pandas as pd\n",
    "import numpy as np\n",
    "import matplotlib.pyplot as plt\n",
    "import os,sys\n",
    "import mxnet as mx\n",
    "from mxnet import gluon\n",
    "import pickle\n",
    "import json\n",
    "import random\n",
    "import inspect\n",
    "from scipy import stats\n",
    "from sklearn.metrics import mean_squared_error\n",
    "from gluonts.dataset.common import ListDataset\n",
    "from gluonts.dataset.util import to_pandas\n",
    "from pathlib import Path\n",
    "from pandas.plotting import register_matplotlib_converters\n",
    "register_matplotlib_converters()\n",
    "\n",
    "#from indycar.model.stint_predictor_fastrun import *\n",
    "#import indycar.model.stint_simulator as stint\n",
    "#import indycar.model.stint_simulator_shortterm_pitmodel as stint\n",
    "#import indycar.model.stint_simulator_paper as stint\n",
    "\n",
    "import indycar.model.quicktest_simulator as stint\n",
    "\n",
    "# import all functions \n",
    "#from indycar.model.global_variables import _hi\n",
    "import indycar.model.global_variables as gvar\n",
    "from indycar.model.quicktest_modules import *"
   ]
  },
  {
   "cell_type": "code",
   "execution_count": 2,
   "metadata": {},
   "outputs": [],
   "source": [
    "def load_dfout(datafile, basedir = '../result/22.PaperFinal/'):\n",
    "    datafile = basedir + datafile  \n",
    "    #with open('laptime_rank_timediff_fulltest-oracle-%s.pickle'%year, 'rb') as f:\n",
    "    with open(datafile, 'rb') as f:\n",
    "        # The protocol version used is detected automatically, so we do not\n",
    "        # have to specify it.\n",
    "        dfout = pickle.load(f, encoding='latin1') \n",
    "        \n",
    "        return dfout[0]\n",
    "    \n",
    "def load_dfout_all(datafile):\n",
    "    #with open('laptime_rank_timediff_fulltest-oracle-%s.pickle'%year, 'rb') as f:\n",
    "    datafile = '../result/22.PaperFinal/' + datafile  \n",
    "    with open(datafile, 'rb') as f:\n",
    "        # The protocol version used is detected automatically, so we do not\n",
    "        # have to specify it.\n",
    "        dfout = pickle.load(f, encoding='latin1') \n",
    "        \n",
    "        return dfout"
   ]
  },
  {
   "cell_type": "markdown",
   "metadata": {},
   "source": [
    "## 1. evalute stint restuls"
   ]
  },
  {
   "cell_type": "code",
   "execution_count": 81,
   "metadata": {},
   "outputs": [],
   "source": [
    "events_info = {\n",
    "    'Phoenix':(256, 1.022, 250),'Indy500':(500,2.5,200),'Texas':(372,1.5,248), \n",
    "    'Iowa':(268,0.894,300),'Pocono':(500,2.5,200),'Gateway':(310,1.25,248)\n",
    "}\n",
    "\n",
    "years = ['2013','2014','2015','2016','2017','2018','2019']\n",
    "events = [f'Indy500-{x}' for x in years]\n",
    "\n",
    "events.extend(['Phoenix-2018','Texas-2018','Texas-2019','Pocono-2018','Pocono-2019','Iowa-2018','Iowa-2019',\n",
    "              'Gateway-2018','Gateway-2019'])\n",
    "\n",
    "events_id={key:idx for idx, key in enumerate(events)}\n",
    "\n",
    "dataroot = 'test/'\n",
    "\n",
    "_train_events = [events_id[x] for x in [f'Indy500-{x}' for x in ['2013','2014','2015','2016','2017']]]\n",
    "_test_event = 'Gateway-2018'\n",
    "_test_events = ['Indy500-2018', 'Indy500-2019', 'Phoenix-2018','Texas-2018','Texas-2019','Pocono-2018','Pocono-2019','Iowa-2018','Iowa-2019',\n",
    "              'Gateway-2018','Gateway-2019']"
   ]
  },
  {
   "cell_type": "code",
   "execution_count": 56,
   "metadata": {},
   "outputs": [],
   "source": [
    "gvar.events = events\n",
    "gvar.events_id  = events_id\n",
    "gvar.events_info = events_info\n",
    "\n",
    "\n",
    "gvar.maxlap = get_event_info(_test_event)[2]\n",
    "#gvar.LAPTIME_DATASET = LAPTIME_DATASET"
   ]
  },
  {
   "cell_type": "code",
   "execution_count": 57,
   "metadata": {},
   "outputs": [],
   "source": [
    "### load ml models\n",
    "_trim = 0\n",
    "plen = 2\n",
    "_context_len = 60\n",
    "\n",
    "_include_final = True\n",
    "_include_stintlen = True\n",
    "#_include_stintlen = False\n",
    "include_str = '1' if _include_final else '0'\n",
    "stint_str = '1' if _include_stintlen else ''\n",
    "#outfile=f'stint-dfout-mlmodels-indy500-tr2013_2017-te2018_2019-end{include_str}-normal-t{_trim}.pickle'\n",
    "#preddf = load_dfout(outfile)\n",
    "#outfile=f'stint-dfout-mlmodels-indy500-tr2013_2017-te2018_2019-end{include_str}-oracle-t{_trim}.pickle'\n",
    "#preddf_oracle = load_dfout(outfile)\n",
    "version = f'IndyCar-d{len(events)}'\n",
    "outfile=f'{dataroot}/shortterm-dfout-mlmodels-{version}-end{include_str}-rerank-t{plen}-c{_context_len}.pickle'"
   ]
  },
  {
   "cell_type": "code",
   "execution_count": 23,
   "metadata": {},
   "outputs": [],
   "source": [
    "#outfile=f'stint-dfout-mlmodels-indy500-tr2013_2017-te2018_2019-end{include_str}-normal-t{_trim}-newtry-tuned.pickle'\n",
    "#preddf = load_dfout(outfile)\n",
    "#outfile=f'stint-dfout-mlmodels-indy500-tr2013_2017-te2018_2019-end{include_str}-oracle-t{_trim}-newtry-tuned.pickle'\n",
    "#preddf_oracle = load_dfout(outfile)"
   ]
  },
  {
   "cell_type": "markdown",
   "metadata": {},
   "source": [
    "## 2. Evaluation shortterm forecasting results"
   ]
  },
  {
   "cell_type": "code",
   "execution_count": 82,
   "metadata": {},
   "outputs": [],
   "source": [
    "#\n",
    "# Model,SignAcc,MAE,50-Risk,90-Risk\n",
    "# \n",
    "cols = ['Year','Model','Top1Acc','SignAcc','MAE','50-Risk','90-Risk']\n",
    "models = {'currank':'CurRank','rf':'RandomForest','svr':'SVM','xgb':'XGBoost'}\n",
    "#plen=2\n",
    "#usemeanstr='median'\n",
    "usemeanstr='mean'\n",
    "stint_result = {}\n",
    "\n",
    "_context_len = 60"
   ]
  },
  {
   "cell_type": "code",
   "execution_count": 86,
   "metadata": {},
   "outputs": [],
   "source": [
    "_test_events = ['Indy500-2018', 'Indy500-2019']"
   ]
  },
  {
   "cell_type": "code",
   "execution_count": 87,
   "metadata": {},
   "outputs": [
    {
     "name": "stdout",
     "output_type": "stream",
     "text": [
      "year: Indy500-2018 clf: currank\n",
      "testset size: 5340 minlap: 9 maxlap: 196\n",
      "model: acc={0.72}, mae={1.34}, rmse={3.25},r2={0.85}, top1_pred: {188}, top1_naive: {188}\n",
      "            naive: acc={0.72}, mae={1.36}, rmse={3.25},r2={0.85}, top1: {188}\n"
     ]
    },
    {
     "name": "stderr",
     "output_type": "stream",
     "text": [
      "/N/u/pengb/hpda/indycar/predictor/src/indycar/model/quicktest_modules.py:1703: RuntimeWarning: invalid value encountered in less_equal\n",
      "  * ((target <= quantile_forecast) - q)\n"
     ]
    },
    {
     "name": "stdout",
     "output_type": "stream",
     "text": [
      "dict_values([0.09733723382543032, 0.0973263487312062, 0.0973154636369821])\n",
      "year: Indy500-2018 clf: rf\n",
      "testset size: 5340 minlap: 9.0 maxlap: 196.0\n",
      "model: acc={0.52}, mae={1.76}, rmse={3.38},r2={0.84}, top1_pred: {188}, top1_naive: {188}\n",
      "            naive: acc={0.72}, mae={1.36}, rmse={3.25},r2={0.85}, top1: {188}\n"
     ]
    },
    {
     "name": "stderr",
     "output_type": "stream",
     "text": [
      "/N/u/pengb/hpda/indycar/predictor/src/indycar/model/quicktest_modules.py:1703: RuntimeWarning: invalid value encountered in less_equal\n",
      "  * ((target <= quantile_forecast) - q)\n"
     ]
    },
    {
     "name": "stdout",
     "output_type": "stream",
     "text": [
      "dict_values([0.12765222123954015, 0.127641336145316, 0.12763045105109186])\n",
      "year: Indy500-2018 clf: svr\n",
      "testset size: 5340 minlap: 9.0 maxlap: 196.0\n",
      "model: acc={0.72}, mae={1.34}, rmse={3.25},r2={0.85}, top1_pred: {188}, top1_naive: {188}\n",
      "            naive: acc={0.72}, mae={1.36}, rmse={3.25},r2={0.85}, top1: {188}\n"
     ]
    },
    {
     "name": "stderr",
     "output_type": "stream",
     "text": [
      "/N/u/pengb/hpda/indycar/predictor/src/indycar/model/quicktest_modules.py:1703: RuntimeWarning: invalid value encountered in less_equal\n",
      "  * ((target <= quantile_forecast) - q)\n"
     ]
    },
    {
     "name": "stdout",
     "output_type": "stream",
     "text": [
      "dict_values([0.09733723382543032, 0.0973263487312062, 0.0973154636369821])\n",
      "year: Indy500-2018 clf: xgb\n",
      "testset size: 5340 minlap: 9.0 maxlap: 196.0\n",
      "model: acc={0.46}, mae={1.63}, rmse={3.32},r2={0.85}, top1_pred: {188}, top1_naive: {188}\n",
      "            naive: acc={0.72}, mae={1.36}, rmse={3.25},r2={0.85}, top1: {188}\n"
     ]
    },
    {
     "name": "stderr",
     "output_type": "stream",
     "text": [
      "/N/u/pengb/hpda/indycar/predictor/src/indycar/model/quicktest_modules.py:1703: RuntimeWarning: invalid value encountered in less_equal\n",
      "  * ((target <= quantile_forecast) - q)\n"
     ]
    },
    {
     "name": "stdout",
     "output_type": "stream",
     "text": [
      "dict_values([0.11848152935573845, 0.1184706442615144, 0.11845975916729033])\n",
      "year: Indy500-2019 clf: currank\n",
      "testset size: 5629 minlap: 9 maxlap: 196\n",
      "model: acc={0.73}, mae={1.16}, rmse={3.05},r2={0.88}, top1_pred: {188}, top1_naive: {188}\n",
      "            naive: acc={0.73}, mae={1.18}, rmse={3.07},r2={0.88}, top1: {188}\n"
     ]
    },
    {
     "name": "stderr",
     "output_type": "stream",
     "text": [
      "/N/u/pengb/hpda/indycar/predictor/src/indycar/model/quicktest_modules.py:1703: RuntimeWarning: invalid value encountered in less_equal\n",
      "  * ((target <= quantile_forecast) - q)\n"
     ]
    },
    {
     "name": "stdout",
     "output_type": "stream",
     "text": [
      "dict_values([0.080397193103194, 0.08039719310319401, 0.08039719310319403])\n",
      "year: Indy500-2019 clf: rf\n",
      "testset size: 5629 minlap: 9.0 maxlap: 196.0\n",
      "model: acc={0.61}, mae={1.31}, rmse={2.88},r2={0.89}, top1_pred: {188}, top1_naive: {188}\n",
      "            naive: acc={0.73}, mae={1.18}, rmse={3.07},r2={0.88}, top1: {188}\n"
     ]
    },
    {
     "name": "stderr",
     "output_type": "stream",
     "text": [
      "/N/u/pengb/hpda/indycar/predictor/src/indycar/model/quicktest_modules.py:1703: RuntimeWarning: invalid value encountered in less_equal\n",
      "  * ((target <= quantile_forecast) - q)\n"
     ]
    },
    {
     "name": "stdout",
     "output_type": "stream",
     "text": [
      "dict_values([0.09076943874353269, 0.0907694387435327, 0.09076943874353272])\n",
      "year: Indy500-2019 clf: svr\n",
      "testset size: 5629 minlap: 9.0 maxlap: 196.0\n",
      "model: acc={0.73}, mae={1.16}, rmse={3.05},r2={0.88}, top1_pred: {188}, top1_naive: {188}\n",
      "            naive: acc={0.73}, mae={1.18}, rmse={3.07},r2={0.88}, top1: {188}\n"
     ]
    },
    {
     "name": "stderr",
     "output_type": "stream",
     "text": [
      "/N/u/pengb/hpda/indycar/predictor/src/indycar/model/quicktest_modules.py:1703: RuntimeWarning: invalid value encountered in less_equal\n",
      "  * ((target <= quantile_forecast) - q)\n"
     ]
    },
    {
     "name": "stdout",
     "output_type": "stream",
     "text": [
      "dict_values([0.080397193103194, 0.08039719310319401, 0.08039719310319403])\n",
      "year: Indy500-2019 clf: xgb\n",
      "testset size: 5629 minlap: 9.0 maxlap: 196.0\n",
      "model: acc={0.64}, mae={1.25}, rmse={2.88},r2={0.89}, top1_pred: {188}, top1_naive: {188}\n",
      "            naive: acc={0.73}, mae={1.18}, rmse={3.07},r2={0.88}, top1: {188}\n",
      "dict_values([0.08622236423295768, 0.08622236423295769, 0.08622236423295769])\n",
      "           Year         Model   Top1Acc   SignAcc       MAE   50-Risk  \\\n",
      "0  Indy500-2018       CurRank  0.718085  0.594944  1.339513  0.097326   \n",
      "1  Indy500-2018  RandomForest  0.515957  0.564981  1.761610  0.127641   \n",
      "2  Indy500-2018           SVM  0.718085  0.594944  1.339513  0.097326   \n",
      "3  Indy500-2018       XGBoost  0.462766  0.626030  1.630899  0.118471   \n",
      "4  Indy500-2019       CurRank  0.734043  0.643631  1.162551  0.080397   \n",
      "5  Indy500-2019  RandomForest  0.606383  0.642388  1.313910  0.090769   \n",
      "6  Indy500-2019           SVM  0.734043  0.643631  1.162551  0.080397   \n",
      "7  Indy500-2019       XGBoost  0.643617  0.685202  1.247113  0.086222   \n",
      "\n",
      "    90-Risk  \n",
      "0  0.097315  \n",
      "1  0.127630  \n",
      "2  0.097315  \n",
      "3  0.118460  \n",
      "4  0.080397  \n",
      "5  0.090769  \n",
      "6  0.080397  \n",
      "7  0.086222  \n"
     ]
    },
    {
     "name": "stderr",
     "output_type": "stream",
     "text": [
      "/N/u/pengb/hpda/indycar/predictor/src/indycar/model/quicktest_modules.py:1703: RuntimeWarning: invalid value encountered in less_equal\n",
      "  * ((target <= quantile_forecast) - q)\n"
     ]
    }
   ],
   "source": [
    "for plen in [2]:\n",
    "    outfile=f'{dataroot}/shortterm-dfout-mlmodels-{version}-end{include_str}-rerank-t{plen}-c{_context_len}.pickle'\n",
    "    shortterm_df = load_dfout(outfile, basedir = './')\n",
    "\n",
    "    retdata = []\n",
    "    #for year in ['Indy500-2018','Indy500-2019','Phoenix-2018']:\n",
    "    #for year in [_test_event]:\n",
    "    for year in _test_events:\n",
    "        \n",
    "        testevent = year\n",
    "        gvar.maxlap = get_event_info(testevent)[2]\n",
    "        \n",
    "        for clf in ['currank','rf','svr','xgb']:\n",
    "            print('year:',year,'clf:',clf)\n",
    "            #dfout, accret = eval_sync(preddf[year][clf],errlist[year])\n",
    "            dfout = shortterm_df[year][clf]\n",
    "            accret = stint.get_evalret_shortterm(dfout)[0]\n",
    "\n",
    "            fsamples, ftss = df2samples(dfout)\n",
    "            _, prisk_vals = prisk_direct_bysamples(fsamples, ftss)\n",
    "\n",
    "            retdata.append([year,models[clf],accret[0], accret[4], accret[1], prisk_vals[1], prisk_vals[2]])\n",
    "            \n",
    "        if False:\n",
    "            #oracle\n",
    "            outfile=f'shortterm-dfout-ranknet-indy500-rank-inlap-nopitage-20182019-oracle-l10-alldata.pickle'\n",
    "            _all = load_dfout_all(outfile)[0]\n",
    "            ranknetdf, acc, ret, pret = _all[0],_all[1],_all[2],_all[3]\n",
    "            allsamples, alltss = get_allsamples(year=year, model='oracle')\n",
    "            #_, pret[mid]= prisk_direct_bysamples(ret[mid][0][1], ret[mid][0][2])\n",
    "            _, prisk_vals = prisk_direct_bysamples(allsamples, alltss)\n",
    "\n",
    "            dfout = do_rerank(ranknetdf[year]['oracle_mean'])\n",
    "            accret = stint.get_evalret_shortterm(dfout)[0]\n",
    "            #fsamples, ftss = runs2samples_ex(ranknet_ret[f'oracle-RANK-{year}-inlap-nopitage'],[])\n",
    "            #_, prisk_vals = prisk_direct_bysamples(fsamples, ftss)\n",
    "            retdata.append([year,'RankNet-Oracle',accret[0], accret[1], prisk_vals[1], prisk_vals[2]])\n",
    "\n",
    "            #pitmodel\n",
    "            outfile=f'shortterm-dfout-ranknet-indy500-rank-inlap-nopitage-20182019-alldata.pickle'\n",
    "            _all = load_dfout_all(outfile)[0]\n",
    "            ranknetdf, acc, ret = _all[0],_all[1],_all[2]\n",
    "\n",
    "            dfout = do_rerank(ranknetdf[year]['pitmodel_mean'])\n",
    "            accret = stint.get_evalret_shortterm(dfout)[0]\n",
    "            #fsamples, ftss = runs2samples_ex(ranknet_ret[f'pitmodel-RANK-{year}-inlap-nopitage'],[])\n",
    "            #_, prisk_vals = prisk_direct_bysamples(fsamples, ftss)\n",
    "            allsamples, alltss = get_allsamples(year=year, model='pitmodel')\n",
    "            #_, pret[mid]= prisk_direct_bysamples(ret[mid][0][1], ret[mid][0][2])\n",
    "            _, prisk_vals = prisk_direct_bysamples(allsamples, alltss)        \n",
    "            retdata.append([year,'RankNet-MLP',accret[0], accret[1], prisk_vals[1], prisk_vals[2]])\n",
    "\n",
    "            #print('oracle:', ranknet_pret[f'oracle-RANK-2018-inlap-nopitage'])\n",
    "            #print('pitmodel:', ranknet_pret[f'pitmodel-RANK-2018-inlap-nopitage'])\n",
    "\n",
    "    stint_result[plen] = pd.DataFrame(data=retdata, columns=cols)\n",
    "    \n",
    "    print(stint_result[plen])"
   ]
  },
  {
   "cell_type": "code",
   "execution_count": 85,
   "metadata": {
    "scrolled": true
   },
   "outputs": [
    {
     "data": {
      "text/html": [
       "<div>\n",
       "<style scoped>\n",
       "    .dataframe tbody tr th:only-of-type {\n",
       "        vertical-align: middle;\n",
       "    }\n",
       "\n",
       "    .dataframe tbody tr th {\n",
       "        vertical-align: top;\n",
       "    }\n",
       "\n",
       "    .dataframe thead th {\n",
       "        text-align: right;\n",
       "    }\n",
       "</style>\n",
       "<table border=\"1\" class=\"dataframe\">\n",
       "  <thead>\n",
       "    <tr style=\"text-align: right;\">\n",
       "      <th></th>\n",
       "      <th>Year</th>\n",
       "      <th>Model</th>\n",
       "      <th>Top1Acc</th>\n",
       "      <th>SignAcc</th>\n",
       "      <th>MAE</th>\n",
       "      <th>50-Risk</th>\n",
       "      <th>90-Risk</th>\n",
       "    </tr>\n",
       "  </thead>\n",
       "  <tbody>\n",
       "    <tr>\n",
       "      <th>0</th>\n",
       "      <td>Phoenix-2018</td>\n",
       "      <td>CurRank</td>\n",
       "      <td>0.903361</td>\n",
       "      <td>0.834917</td>\n",
       "      <td>0.409343</td>\n",
       "      <td>0.040474</td>\n",
       "      <td>0.040443</td>\n",
       "    </tr>\n",
       "    <tr>\n",
       "      <th>1</th>\n",
       "      <td>Phoenix-2018</td>\n",
       "      <td>RandomForest</td>\n",
       "      <td>0.504202</td>\n",
       "      <td>0.403207</td>\n",
       "      <td>1.766429</td>\n",
       "      <td>0.174110</td>\n",
       "      <td>0.174079</td>\n",
       "    </tr>\n",
       "    <tr>\n",
       "      <th>2</th>\n",
       "      <td>Phoenix-2018</td>\n",
       "      <td>SVM</td>\n",
       "      <td>0.903361</td>\n",
       "      <td>0.835313</td>\n",
       "      <td>0.408947</td>\n",
       "      <td>0.040435</td>\n",
       "      <td>0.040404</td>\n",
       "    </tr>\n",
       "    <tr>\n",
       "      <th>3</th>\n",
       "      <td>Phoenix-2018</td>\n",
       "      <td>XGBoost</td>\n",
       "      <td>0.155462</td>\n",
       "      <td>0.267023</td>\n",
       "      <td>3.458828</td>\n",
       "      <td>0.341645</td>\n",
       "      <td>0.341613</td>\n",
       "    </tr>\n",
       "    <tr>\n",
       "      <th>4</th>\n",
       "      <td>Texas-2018</td>\n",
       "      <td>CurRank</td>\n",
       "      <td>0.932203</td>\n",
       "      <td>0.790640</td>\n",
       "      <td>0.446485</td>\n",
       "      <td>0.049508</td>\n",
       "      <td>0.049508</td>\n",
       "    </tr>\n",
       "    <tr>\n",
       "      <th>5</th>\n",
       "      <td>Texas-2018</td>\n",
       "      <td>RandomForest</td>\n",
       "      <td>0.470339</td>\n",
       "      <td>0.348634</td>\n",
       "      <td>2.195701</td>\n",
       "      <td>0.242825</td>\n",
       "      <td>0.242825</td>\n",
       "    </tr>\n",
       "    <tr>\n",
       "      <th>6</th>\n",
       "      <td>Texas-2018</td>\n",
       "      <td>SVM</td>\n",
       "      <td>0.932203</td>\n",
       "      <td>0.790640</td>\n",
       "      <td>0.446485</td>\n",
       "      <td>0.049508</td>\n",
       "      <td>0.049508</td>\n",
       "    </tr>\n",
       "    <tr>\n",
       "      <th>7</th>\n",
       "      <td>Texas-2018</td>\n",
       "      <td>XGBoost</td>\n",
       "      <td>0.148305</td>\n",
       "      <td>0.268473</td>\n",
       "      <td>3.947604</td>\n",
       "      <td>0.437581</td>\n",
       "      <td>0.437581</td>\n",
       "    </tr>\n",
       "    <tr>\n",
       "      <th>8</th>\n",
       "      <td>Texas-2019</td>\n",
       "      <td>CurRank</td>\n",
       "      <td>0.898305</td>\n",
       "      <td>0.823818</td>\n",
       "      <td>0.356625</td>\n",
       "      <td>0.037584</td>\n",
       "      <td>0.037584</td>\n",
       "    </tr>\n",
       "    <tr>\n",
       "      <th>9</th>\n",
       "      <td>Texas-2019</td>\n",
       "      <td>RandomForest</td>\n",
       "      <td>0.207627</td>\n",
       "      <td>0.361099</td>\n",
       "      <td>1.971879</td>\n",
       "      <td>0.207499</td>\n",
       "      <td>0.207499</td>\n",
       "    </tr>\n",
       "    <tr>\n",
       "      <th>10</th>\n",
       "      <td>Texas-2019</td>\n",
       "      <td>SVM</td>\n",
       "      <td>0.898305</td>\n",
       "      <td>0.823818</td>\n",
       "      <td>0.356625</td>\n",
       "      <td>0.037584</td>\n",
       "      <td>0.037584</td>\n",
       "    </tr>\n",
       "    <tr>\n",
       "      <th>11</th>\n",
       "      <td>Texas-2019</td>\n",
       "      <td>XGBoost</td>\n",
       "      <td>0.300847</td>\n",
       "      <td>0.262250</td>\n",
       "      <td>3.803153</td>\n",
       "      <td>0.400808</td>\n",
       "      <td>0.400808</td>\n",
       "    </tr>\n",
       "    <tr>\n",
       "      <th>12</th>\n",
       "      <td>Pocono-2018</td>\n",
       "      <td>CurRank</td>\n",
       "      <td>0.914894</td>\n",
       "      <td>0.872832</td>\n",
       "      <td>0.260116</td>\n",
       "      <td>0.037297</td>\n",
       "      <td>0.037297</td>\n",
       "    </tr>\n",
       "    <tr>\n",
       "      <th>13</th>\n",
       "      <td>Pocono-2018</td>\n",
       "      <td>RandomForest</td>\n",
       "      <td>0.702128</td>\n",
       "      <td>0.452312</td>\n",
       "      <td>1.393064</td>\n",
       "      <td>0.200917</td>\n",
       "      <td>0.200917</td>\n",
       "    </tr>\n",
       "    <tr>\n",
       "      <th>14</th>\n",
       "      <td>Pocono-2018</td>\n",
       "      <td>SVM</td>\n",
       "      <td>0.914894</td>\n",
       "      <td>0.872832</td>\n",
       "      <td>0.260116</td>\n",
       "      <td>0.037297</td>\n",
       "      <td>0.037297</td>\n",
       "    </tr>\n",
       "    <tr>\n",
       "      <th>15</th>\n",
       "      <td>Pocono-2018</td>\n",
       "      <td>XGBoost</td>\n",
       "      <td>0.356383</td>\n",
       "      <td>0.589595</td>\n",
       "      <td>0.996387</td>\n",
       "      <td>0.142970</td>\n",
       "      <td>0.142970</td>\n",
       "    </tr>\n",
       "    <tr>\n",
       "      <th>16</th>\n",
       "      <td>Pocono-2019</td>\n",
       "      <td>CurRank</td>\n",
       "      <td>0.570175</td>\n",
       "      <td>0.508396</td>\n",
       "      <td>1.198031</td>\n",
       "      <td>0.152811</td>\n",
       "      <td>0.219021</td>\n",
       "    </tr>\n",
       "    <tr>\n",
       "      <th>17</th>\n",
       "      <td>Pocono-2019</td>\n",
       "      <td>RandomForest</td>\n",
       "      <td>0.394737</td>\n",
       "      <td>0.352635</td>\n",
       "      <td>2.182397</td>\n",
       "      <td>0.276993</td>\n",
       "      <td>0.343203</td>\n",
       "    </tr>\n",
       "    <tr>\n",
       "      <th>18</th>\n",
       "      <td>Pocono-2019</td>\n",
       "      <td>SVM</td>\n",
       "      <td>0.570175</td>\n",
       "      <td>0.510712</td>\n",
       "      <td>1.195715</td>\n",
       "      <td>0.152513</td>\n",
       "      <td>0.218724</td>\n",
       "    </tr>\n",
       "    <tr>\n",
       "      <th>19</th>\n",
       "      <td>Pocono-2019</td>\n",
       "      <td>XGBoost</td>\n",
       "      <td>0.491228</td>\n",
       "      <td>0.402432</td>\n",
       "      <td>1.675159</td>\n",
       "      <td>0.212597</td>\n",
       "      <td>0.278807</td>\n",
       "    </tr>\n",
       "    <tr>\n",
       "      <th>20</th>\n",
       "      <td>Iowa-2018</td>\n",
       "      <td>CurRank</td>\n",
       "      <td>0.972222</td>\n",
       "      <td>0.853760</td>\n",
       "      <td>0.262230</td>\n",
       "      <td>0.027367</td>\n",
       "      <td>0.027353</td>\n",
       "    </tr>\n",
       "    <tr>\n",
       "      <th>21</th>\n",
       "      <td>Iowa-2018</td>\n",
       "      <td>RandomForest</td>\n",
       "      <td>0.513889</td>\n",
       "      <td>0.305099</td>\n",
       "      <td>2.071046</td>\n",
       "      <td>0.215168</td>\n",
       "      <td>0.215154</td>\n",
       "    </tr>\n",
       "    <tr>\n",
       "      <th>22</th>\n",
       "      <td>Iowa-2018</td>\n",
       "      <td>SVM</td>\n",
       "      <td>0.972222</td>\n",
       "      <td>0.853760</td>\n",
       "      <td>0.262230</td>\n",
       "      <td>0.027367</td>\n",
       "      <td>0.027353</td>\n",
       "    </tr>\n",
       "    <tr>\n",
       "      <th>23</th>\n",
       "      <td>Iowa-2018</td>\n",
       "      <td>XGBoost</td>\n",
       "      <td>0.055556</td>\n",
       "      <td>0.179775</td>\n",
       "      <td>4.170959</td>\n",
       "      <td>0.434973</td>\n",
       "      <td>0.434959</td>\n",
       "    </tr>\n",
       "    <tr>\n",
       "      <th>24</th>\n",
       "      <td>Iowa-2019</td>\n",
       "      <td>CurRank</td>\n",
       "      <td>0.958333</td>\n",
       "      <td>0.824799</td>\n",
       "      <td>0.385542</td>\n",
       "      <td>0.038708</td>\n",
       "      <td>0.038708</td>\n",
       "    </tr>\n",
       "    <tr>\n",
       "      <th>25</th>\n",
       "      <td>Iowa-2019</td>\n",
       "      <td>RandomForest</td>\n",
       "      <td>0.406250</td>\n",
       "      <td>0.343373</td>\n",
       "      <td>1.846386</td>\n",
       "      <td>0.185650</td>\n",
       "      <td>0.185650</td>\n",
       "    </tr>\n",
       "    <tr>\n",
       "      <th>26</th>\n",
       "      <td>Iowa-2019</td>\n",
       "      <td>SVM</td>\n",
       "      <td>0.958333</td>\n",
       "      <td>0.824799</td>\n",
       "      <td>0.385542</td>\n",
       "      <td>0.038708</td>\n",
       "      <td>0.038708</td>\n",
       "    </tr>\n",
       "    <tr>\n",
       "      <th>27</th>\n",
       "      <td>Iowa-2019</td>\n",
       "      <td>XGBoost</td>\n",
       "      <td>0.125000</td>\n",
       "      <td>0.285475</td>\n",
       "      <td>3.411647</td>\n",
       "      <td>0.343550</td>\n",
       "      <td>0.343550</td>\n",
       "    </tr>\n",
       "    <tr>\n",
       "      <th>28</th>\n",
       "      <td>Gateway-2018</td>\n",
       "      <td>CurRank</td>\n",
       "      <td>0.915254</td>\n",
       "      <td>0.839913</td>\n",
       "      <td>0.334490</td>\n",
       "      <td>0.036132</td>\n",
       "      <td>0.036094</td>\n",
       "    </tr>\n",
       "    <tr>\n",
       "      <th>29</th>\n",
       "      <td>Gateway-2018</td>\n",
       "      <td>RandomForest</td>\n",
       "      <td>0.495763</td>\n",
       "      <td>0.418221</td>\n",
       "      <td>1.827332</td>\n",
       "      <td>0.197155</td>\n",
       "      <td>0.197118</td>\n",
       "    </tr>\n",
       "    <tr>\n",
       "      <th>30</th>\n",
       "      <td>Gateway-2018</td>\n",
       "      <td>SVM</td>\n",
       "      <td>0.915254</td>\n",
       "      <td>0.839479</td>\n",
       "      <td>0.334924</td>\n",
       "      <td>0.036179</td>\n",
       "      <td>0.036141</td>\n",
       "    </tr>\n",
       "    <tr>\n",
       "      <th>31</th>\n",
       "      <td>Gateway-2018</td>\n",
       "      <td>XGBoost</td>\n",
       "      <td>0.139831</td>\n",
       "      <td>0.215618</td>\n",
       "      <td>3.662039</td>\n",
       "      <td>0.395529</td>\n",
       "      <td>0.395492</td>\n",
       "    </tr>\n",
       "    <tr>\n",
       "      <th>32</th>\n",
       "      <td>Gateway-2019</td>\n",
       "      <td>CurRank</td>\n",
       "      <td>0.915254</td>\n",
       "      <td>0.802008</td>\n",
       "      <td>0.468817</td>\n",
       "      <td>0.049633</td>\n",
       "      <td>0.049614</td>\n",
       "    </tr>\n",
       "    <tr>\n",
       "      <th>33</th>\n",
       "      <td>Gateway-2019</td>\n",
       "      <td>RandomForest</td>\n",
       "      <td>0.322034</td>\n",
       "      <td>0.296455</td>\n",
       "      <td>2.740068</td>\n",
       "      <td>0.289497</td>\n",
       "      <td>0.289479</td>\n",
       "    </tr>\n",
       "    <tr>\n",
       "      <th>34</th>\n",
       "      <td>Gateway-2019</td>\n",
       "      <td>SVM</td>\n",
       "      <td>0.915254</td>\n",
       "      <td>0.802008</td>\n",
       "      <td>0.468817</td>\n",
       "      <td>0.049633</td>\n",
       "      <td>0.049614</td>\n",
       "    </tr>\n",
       "    <tr>\n",
       "      <th>35</th>\n",
       "      <td>Gateway-2019</td>\n",
       "      <td>XGBoost</td>\n",
       "      <td>0.237288</td>\n",
       "      <td>0.260786</td>\n",
       "      <td>4.402606</td>\n",
       "      <td>0.466049</td>\n",
       "      <td>0.466031</td>\n",
       "    </tr>\n",
       "  </tbody>\n",
       "</table>\n",
       "</div>"
      ],
      "text/plain": [
       "            Year         Model   Top1Acc   SignAcc       MAE   50-Risk  \\\n",
       "0   Phoenix-2018       CurRank  0.903361  0.834917  0.409343  0.040474   \n",
       "1   Phoenix-2018  RandomForest  0.504202  0.403207  1.766429  0.174110   \n",
       "2   Phoenix-2018           SVM  0.903361  0.835313  0.408947  0.040435   \n",
       "3   Phoenix-2018       XGBoost  0.155462  0.267023  3.458828  0.341645   \n",
       "4     Texas-2018       CurRank  0.932203  0.790640  0.446485  0.049508   \n",
       "5     Texas-2018  RandomForest  0.470339  0.348634  2.195701  0.242825   \n",
       "6     Texas-2018           SVM  0.932203  0.790640  0.446485  0.049508   \n",
       "7     Texas-2018       XGBoost  0.148305  0.268473  3.947604  0.437581   \n",
       "8     Texas-2019       CurRank  0.898305  0.823818  0.356625  0.037584   \n",
       "9     Texas-2019  RandomForest  0.207627  0.361099  1.971879  0.207499   \n",
       "10    Texas-2019           SVM  0.898305  0.823818  0.356625  0.037584   \n",
       "11    Texas-2019       XGBoost  0.300847  0.262250  3.803153  0.400808   \n",
       "12   Pocono-2018       CurRank  0.914894  0.872832  0.260116  0.037297   \n",
       "13   Pocono-2018  RandomForest  0.702128  0.452312  1.393064  0.200917   \n",
       "14   Pocono-2018           SVM  0.914894  0.872832  0.260116  0.037297   \n",
       "15   Pocono-2018       XGBoost  0.356383  0.589595  0.996387  0.142970   \n",
       "16   Pocono-2019       CurRank  0.570175  0.508396  1.198031  0.152811   \n",
       "17   Pocono-2019  RandomForest  0.394737  0.352635  2.182397  0.276993   \n",
       "18   Pocono-2019           SVM  0.570175  0.510712  1.195715  0.152513   \n",
       "19   Pocono-2019       XGBoost  0.491228  0.402432  1.675159  0.212597   \n",
       "20     Iowa-2018       CurRank  0.972222  0.853760  0.262230  0.027367   \n",
       "21     Iowa-2018  RandomForest  0.513889  0.305099  2.071046  0.215168   \n",
       "22     Iowa-2018           SVM  0.972222  0.853760  0.262230  0.027367   \n",
       "23     Iowa-2018       XGBoost  0.055556  0.179775  4.170959  0.434973   \n",
       "24     Iowa-2019       CurRank  0.958333  0.824799  0.385542  0.038708   \n",
       "25     Iowa-2019  RandomForest  0.406250  0.343373  1.846386  0.185650   \n",
       "26     Iowa-2019           SVM  0.958333  0.824799  0.385542  0.038708   \n",
       "27     Iowa-2019       XGBoost  0.125000  0.285475  3.411647  0.343550   \n",
       "28  Gateway-2018       CurRank  0.915254  0.839913  0.334490  0.036132   \n",
       "29  Gateway-2018  RandomForest  0.495763  0.418221  1.827332  0.197155   \n",
       "30  Gateway-2018           SVM  0.915254  0.839479  0.334924  0.036179   \n",
       "31  Gateway-2018       XGBoost  0.139831  0.215618  3.662039  0.395529   \n",
       "32  Gateway-2019       CurRank  0.915254  0.802008  0.468817  0.049633   \n",
       "33  Gateway-2019  RandomForest  0.322034  0.296455  2.740068  0.289497   \n",
       "34  Gateway-2019           SVM  0.915254  0.802008  0.468817  0.049633   \n",
       "35  Gateway-2019       XGBoost  0.237288  0.260786  4.402606  0.466049   \n",
       "\n",
       "     90-Risk  \n",
       "0   0.040443  \n",
       "1   0.174079  \n",
       "2   0.040404  \n",
       "3   0.341613  \n",
       "4   0.049508  \n",
       "5   0.242825  \n",
       "6   0.049508  \n",
       "7   0.437581  \n",
       "8   0.037584  \n",
       "9   0.207499  \n",
       "10  0.037584  \n",
       "11  0.400808  \n",
       "12  0.037297  \n",
       "13  0.200917  \n",
       "14  0.037297  \n",
       "15  0.142970  \n",
       "16  0.219021  \n",
       "17  0.343203  \n",
       "18  0.218724  \n",
       "19  0.278807  \n",
       "20  0.027353  \n",
       "21  0.215154  \n",
       "22  0.027353  \n",
       "23  0.434959  \n",
       "24  0.038708  \n",
       "25  0.185650  \n",
       "26  0.038708  \n",
       "27  0.343550  \n",
       "28  0.036094  \n",
       "29  0.197118  \n",
       "30  0.036141  \n",
       "31  0.395492  \n",
       "32  0.049614  \n",
       "33  0.289479  \n",
       "34  0.049614  \n",
       "35  0.466031  "
      ]
     },
     "execution_count": 85,
     "metadata": {},
     "output_type": "execute_result"
    }
   ],
   "source": [
    "stint_result[2]"
   ]
  },
  {
   "cell_type": "code",
   "execution_count": 63,
   "metadata": {},
   "outputs": [],
   "source": [
    "dfs = []\n",
    "for plen in stint_result:\n",
    "    df = stint_result[plen]\n",
    "    df['plen'] = plen\n",
    "    \n",
    "    dfs.append(df)\n",
    "    \n",
    "alldf = pd.concat(dfs)\n",
    "    "
   ]
  },
  {
   "cell_type": "code",
   "execution_count": 64,
   "metadata": {},
   "outputs": [
    {
     "data": {
      "text/html": [
       "<div>\n",
       "<style scoped>\n",
       "    .dataframe tbody tr th:only-of-type {\n",
       "        vertical-align: middle;\n",
       "    }\n",
       "\n",
       "    .dataframe tbody tr th {\n",
       "        vertical-align: top;\n",
       "    }\n",
       "\n",
       "    .dataframe thead th {\n",
       "        text-align: right;\n",
       "    }\n",
       "</style>\n",
       "<table border=\"1\" class=\"dataframe\">\n",
       "  <thead>\n",
       "    <tr style=\"text-align: right;\">\n",
       "      <th></th>\n",
       "      <th>Year</th>\n",
       "      <th>Model</th>\n",
       "      <th>SignAcc</th>\n",
       "      <th>MAE</th>\n",
       "      <th>50-Risk</th>\n",
       "      <th>90-Risk</th>\n",
       "      <th>plen</th>\n",
       "    </tr>\n",
       "  </thead>\n",
       "  <tbody>\n",
       "    <tr>\n",
       "      <th>0</th>\n",
       "      <td>Phoenix-2018</td>\n",
       "      <td>CurRank</td>\n",
       "      <td>0.903361</td>\n",
       "      <td>0.409343</td>\n",
       "      <td>0.040474</td>\n",
       "      <td>0.040443</td>\n",
       "      <td>2</td>\n",
       "    </tr>\n",
       "    <tr>\n",
       "      <th>1</th>\n",
       "      <td>Phoenix-2018</td>\n",
       "      <td>RandomForest</td>\n",
       "      <td>0.504202</td>\n",
       "      <td>1.766429</td>\n",
       "      <td>0.174110</td>\n",
       "      <td>0.174079</td>\n",
       "      <td>2</td>\n",
       "    </tr>\n",
       "    <tr>\n",
       "      <th>2</th>\n",
       "      <td>Phoenix-2018</td>\n",
       "      <td>SVM</td>\n",
       "      <td>0.903361</td>\n",
       "      <td>0.408947</td>\n",
       "      <td>0.040435</td>\n",
       "      <td>0.040404</td>\n",
       "      <td>2</td>\n",
       "    </tr>\n",
       "    <tr>\n",
       "      <th>3</th>\n",
       "      <td>Phoenix-2018</td>\n",
       "      <td>XGBoost</td>\n",
       "      <td>0.155462</td>\n",
       "      <td>3.458828</td>\n",
       "      <td>0.341645</td>\n",
       "      <td>0.341613</td>\n",
       "      <td>2</td>\n",
       "    </tr>\n",
       "    <tr>\n",
       "      <th>4</th>\n",
       "      <td>Texas-2018</td>\n",
       "      <td>CurRank</td>\n",
       "      <td>0.932203</td>\n",
       "      <td>0.446485</td>\n",
       "      <td>0.049508</td>\n",
       "      <td>0.049508</td>\n",
       "      <td>2</td>\n",
       "    </tr>\n",
       "    <tr>\n",
       "      <th>5</th>\n",
       "      <td>Texas-2018</td>\n",
       "      <td>RandomForest</td>\n",
       "      <td>0.470339</td>\n",
       "      <td>2.195701</td>\n",
       "      <td>0.242825</td>\n",
       "      <td>0.242825</td>\n",
       "      <td>2</td>\n",
       "    </tr>\n",
       "    <tr>\n",
       "      <th>6</th>\n",
       "      <td>Texas-2018</td>\n",
       "      <td>SVM</td>\n",
       "      <td>0.932203</td>\n",
       "      <td>0.446485</td>\n",
       "      <td>0.049508</td>\n",
       "      <td>0.049508</td>\n",
       "      <td>2</td>\n",
       "    </tr>\n",
       "    <tr>\n",
       "      <th>7</th>\n",
       "      <td>Texas-2018</td>\n",
       "      <td>XGBoost</td>\n",
       "      <td>0.148305</td>\n",
       "      <td>3.947604</td>\n",
       "      <td>0.437581</td>\n",
       "      <td>0.437581</td>\n",
       "      <td>2</td>\n",
       "    </tr>\n",
       "    <tr>\n",
       "      <th>8</th>\n",
       "      <td>Texas-2019</td>\n",
       "      <td>CurRank</td>\n",
       "      <td>0.898305</td>\n",
       "      <td>0.356625</td>\n",
       "      <td>0.037584</td>\n",
       "      <td>0.037584</td>\n",
       "      <td>2</td>\n",
       "    </tr>\n",
       "    <tr>\n",
       "      <th>9</th>\n",
       "      <td>Texas-2019</td>\n",
       "      <td>RandomForest</td>\n",
       "      <td>0.207627</td>\n",
       "      <td>1.971879</td>\n",
       "      <td>0.207499</td>\n",
       "      <td>0.207499</td>\n",
       "      <td>2</td>\n",
       "    </tr>\n",
       "    <tr>\n",
       "      <th>10</th>\n",
       "      <td>Texas-2019</td>\n",
       "      <td>SVM</td>\n",
       "      <td>0.898305</td>\n",
       "      <td>0.356625</td>\n",
       "      <td>0.037584</td>\n",
       "      <td>0.037584</td>\n",
       "      <td>2</td>\n",
       "    </tr>\n",
       "    <tr>\n",
       "      <th>11</th>\n",
       "      <td>Texas-2019</td>\n",
       "      <td>XGBoost</td>\n",
       "      <td>0.300847</td>\n",
       "      <td>3.803153</td>\n",
       "      <td>0.400808</td>\n",
       "      <td>0.400808</td>\n",
       "      <td>2</td>\n",
       "    </tr>\n",
       "    <tr>\n",
       "      <th>12</th>\n",
       "      <td>Pocono-2018</td>\n",
       "      <td>CurRank</td>\n",
       "      <td>0.914894</td>\n",
       "      <td>0.260116</td>\n",
       "      <td>0.037297</td>\n",
       "      <td>0.037297</td>\n",
       "      <td>2</td>\n",
       "    </tr>\n",
       "    <tr>\n",
       "      <th>13</th>\n",
       "      <td>Pocono-2018</td>\n",
       "      <td>RandomForest</td>\n",
       "      <td>0.702128</td>\n",
       "      <td>1.393064</td>\n",
       "      <td>0.200917</td>\n",
       "      <td>0.200917</td>\n",
       "      <td>2</td>\n",
       "    </tr>\n",
       "    <tr>\n",
       "      <th>14</th>\n",
       "      <td>Pocono-2018</td>\n",
       "      <td>SVM</td>\n",
       "      <td>0.914894</td>\n",
       "      <td>0.260116</td>\n",
       "      <td>0.037297</td>\n",
       "      <td>0.037297</td>\n",
       "      <td>2</td>\n",
       "    </tr>\n",
       "    <tr>\n",
       "      <th>15</th>\n",
       "      <td>Pocono-2018</td>\n",
       "      <td>XGBoost</td>\n",
       "      <td>0.356383</td>\n",
       "      <td>0.996387</td>\n",
       "      <td>0.142970</td>\n",
       "      <td>0.142970</td>\n",
       "      <td>2</td>\n",
       "    </tr>\n",
       "    <tr>\n",
       "      <th>16</th>\n",
       "      <td>Pocono-2019</td>\n",
       "      <td>CurRank</td>\n",
       "      <td>0.570175</td>\n",
       "      <td>1.198031</td>\n",
       "      <td>0.152811</td>\n",
       "      <td>0.219021</td>\n",
       "      <td>2</td>\n",
       "    </tr>\n",
       "    <tr>\n",
       "      <th>17</th>\n",
       "      <td>Pocono-2019</td>\n",
       "      <td>RandomForest</td>\n",
       "      <td>0.394737</td>\n",
       "      <td>2.182397</td>\n",
       "      <td>0.276993</td>\n",
       "      <td>0.343203</td>\n",
       "      <td>2</td>\n",
       "    </tr>\n",
       "    <tr>\n",
       "      <th>18</th>\n",
       "      <td>Pocono-2019</td>\n",
       "      <td>SVM</td>\n",
       "      <td>0.570175</td>\n",
       "      <td>1.195715</td>\n",
       "      <td>0.152513</td>\n",
       "      <td>0.218724</td>\n",
       "      <td>2</td>\n",
       "    </tr>\n",
       "    <tr>\n",
       "      <th>19</th>\n",
       "      <td>Pocono-2019</td>\n",
       "      <td>XGBoost</td>\n",
       "      <td>0.491228</td>\n",
       "      <td>1.675159</td>\n",
       "      <td>0.212597</td>\n",
       "      <td>0.278807</td>\n",
       "      <td>2</td>\n",
       "    </tr>\n",
       "    <tr>\n",
       "      <th>20</th>\n",
       "      <td>Iowa-2018</td>\n",
       "      <td>CurRank</td>\n",
       "      <td>0.972222</td>\n",
       "      <td>0.262230</td>\n",
       "      <td>0.027367</td>\n",
       "      <td>0.027353</td>\n",
       "      <td>2</td>\n",
       "    </tr>\n",
       "    <tr>\n",
       "      <th>21</th>\n",
       "      <td>Iowa-2018</td>\n",
       "      <td>RandomForest</td>\n",
       "      <td>0.513889</td>\n",
       "      <td>2.071046</td>\n",
       "      <td>0.215168</td>\n",
       "      <td>0.215154</td>\n",
       "      <td>2</td>\n",
       "    </tr>\n",
       "    <tr>\n",
       "      <th>22</th>\n",
       "      <td>Iowa-2018</td>\n",
       "      <td>SVM</td>\n",
       "      <td>0.972222</td>\n",
       "      <td>0.262230</td>\n",
       "      <td>0.027367</td>\n",
       "      <td>0.027353</td>\n",
       "      <td>2</td>\n",
       "    </tr>\n",
       "    <tr>\n",
       "      <th>23</th>\n",
       "      <td>Iowa-2018</td>\n",
       "      <td>XGBoost</td>\n",
       "      <td>0.055556</td>\n",
       "      <td>4.170959</td>\n",
       "      <td>0.434973</td>\n",
       "      <td>0.434959</td>\n",
       "      <td>2</td>\n",
       "    </tr>\n",
       "    <tr>\n",
       "      <th>24</th>\n",
       "      <td>Iowa-2019</td>\n",
       "      <td>CurRank</td>\n",
       "      <td>0.958333</td>\n",
       "      <td>0.385542</td>\n",
       "      <td>0.038708</td>\n",
       "      <td>0.038708</td>\n",
       "      <td>2</td>\n",
       "    </tr>\n",
       "    <tr>\n",
       "      <th>25</th>\n",
       "      <td>Iowa-2019</td>\n",
       "      <td>RandomForest</td>\n",
       "      <td>0.406250</td>\n",
       "      <td>1.846386</td>\n",
       "      <td>0.185650</td>\n",
       "      <td>0.185650</td>\n",
       "      <td>2</td>\n",
       "    </tr>\n",
       "    <tr>\n",
       "      <th>26</th>\n",
       "      <td>Iowa-2019</td>\n",
       "      <td>SVM</td>\n",
       "      <td>0.958333</td>\n",
       "      <td>0.385542</td>\n",
       "      <td>0.038708</td>\n",
       "      <td>0.038708</td>\n",
       "      <td>2</td>\n",
       "    </tr>\n",
       "    <tr>\n",
       "      <th>27</th>\n",
       "      <td>Iowa-2019</td>\n",
       "      <td>XGBoost</td>\n",
       "      <td>0.125000</td>\n",
       "      <td>3.411647</td>\n",
       "      <td>0.343550</td>\n",
       "      <td>0.343550</td>\n",
       "      <td>2</td>\n",
       "    </tr>\n",
       "    <tr>\n",
       "      <th>28</th>\n",
       "      <td>Gateway-2018</td>\n",
       "      <td>CurRank</td>\n",
       "      <td>0.915254</td>\n",
       "      <td>0.334490</td>\n",
       "      <td>0.036132</td>\n",
       "      <td>0.036094</td>\n",
       "      <td>2</td>\n",
       "    </tr>\n",
       "    <tr>\n",
       "      <th>29</th>\n",
       "      <td>Gateway-2018</td>\n",
       "      <td>RandomForest</td>\n",
       "      <td>0.495763</td>\n",
       "      <td>1.827332</td>\n",
       "      <td>0.197155</td>\n",
       "      <td>0.197118</td>\n",
       "      <td>2</td>\n",
       "    </tr>\n",
       "    <tr>\n",
       "      <th>30</th>\n",
       "      <td>Gateway-2018</td>\n",
       "      <td>SVM</td>\n",
       "      <td>0.915254</td>\n",
       "      <td>0.334924</td>\n",
       "      <td>0.036179</td>\n",
       "      <td>0.036141</td>\n",
       "      <td>2</td>\n",
       "    </tr>\n",
       "    <tr>\n",
       "      <th>31</th>\n",
       "      <td>Gateway-2018</td>\n",
       "      <td>XGBoost</td>\n",
       "      <td>0.139831</td>\n",
       "      <td>3.662039</td>\n",
       "      <td>0.395529</td>\n",
       "      <td>0.395492</td>\n",
       "      <td>2</td>\n",
       "    </tr>\n",
       "    <tr>\n",
       "      <th>32</th>\n",
       "      <td>Gateway-2019</td>\n",
       "      <td>CurRank</td>\n",
       "      <td>0.915254</td>\n",
       "      <td>0.468817</td>\n",
       "      <td>0.049633</td>\n",
       "      <td>0.049614</td>\n",
       "      <td>2</td>\n",
       "    </tr>\n",
       "    <tr>\n",
       "      <th>33</th>\n",
       "      <td>Gateway-2019</td>\n",
       "      <td>RandomForest</td>\n",
       "      <td>0.322034</td>\n",
       "      <td>2.740068</td>\n",
       "      <td>0.289497</td>\n",
       "      <td>0.289479</td>\n",
       "      <td>2</td>\n",
       "    </tr>\n",
       "    <tr>\n",
       "      <th>34</th>\n",
       "      <td>Gateway-2019</td>\n",
       "      <td>SVM</td>\n",
       "      <td>0.915254</td>\n",
       "      <td>0.468817</td>\n",
       "      <td>0.049633</td>\n",
       "      <td>0.049614</td>\n",
       "      <td>2</td>\n",
       "    </tr>\n",
       "    <tr>\n",
       "      <th>35</th>\n",
       "      <td>Gateway-2019</td>\n",
       "      <td>XGBoost</td>\n",
       "      <td>0.237288</td>\n",
       "      <td>4.402606</td>\n",
       "      <td>0.466049</td>\n",
       "      <td>0.466031</td>\n",
       "      <td>2</td>\n",
       "    </tr>\n",
       "  </tbody>\n",
       "</table>\n",
       "</div>"
      ],
      "text/plain": [
       "            Year         Model   SignAcc       MAE   50-Risk   90-Risk  plen\n",
       "0   Phoenix-2018       CurRank  0.903361  0.409343  0.040474  0.040443     2\n",
       "1   Phoenix-2018  RandomForest  0.504202  1.766429  0.174110  0.174079     2\n",
       "2   Phoenix-2018           SVM  0.903361  0.408947  0.040435  0.040404     2\n",
       "3   Phoenix-2018       XGBoost  0.155462  3.458828  0.341645  0.341613     2\n",
       "4     Texas-2018       CurRank  0.932203  0.446485  0.049508  0.049508     2\n",
       "5     Texas-2018  RandomForest  0.470339  2.195701  0.242825  0.242825     2\n",
       "6     Texas-2018           SVM  0.932203  0.446485  0.049508  0.049508     2\n",
       "7     Texas-2018       XGBoost  0.148305  3.947604  0.437581  0.437581     2\n",
       "8     Texas-2019       CurRank  0.898305  0.356625  0.037584  0.037584     2\n",
       "9     Texas-2019  RandomForest  0.207627  1.971879  0.207499  0.207499     2\n",
       "10    Texas-2019           SVM  0.898305  0.356625  0.037584  0.037584     2\n",
       "11    Texas-2019       XGBoost  0.300847  3.803153  0.400808  0.400808     2\n",
       "12   Pocono-2018       CurRank  0.914894  0.260116  0.037297  0.037297     2\n",
       "13   Pocono-2018  RandomForest  0.702128  1.393064  0.200917  0.200917     2\n",
       "14   Pocono-2018           SVM  0.914894  0.260116  0.037297  0.037297     2\n",
       "15   Pocono-2018       XGBoost  0.356383  0.996387  0.142970  0.142970     2\n",
       "16   Pocono-2019       CurRank  0.570175  1.198031  0.152811  0.219021     2\n",
       "17   Pocono-2019  RandomForest  0.394737  2.182397  0.276993  0.343203     2\n",
       "18   Pocono-2019           SVM  0.570175  1.195715  0.152513  0.218724     2\n",
       "19   Pocono-2019       XGBoost  0.491228  1.675159  0.212597  0.278807     2\n",
       "20     Iowa-2018       CurRank  0.972222  0.262230  0.027367  0.027353     2\n",
       "21     Iowa-2018  RandomForest  0.513889  2.071046  0.215168  0.215154     2\n",
       "22     Iowa-2018           SVM  0.972222  0.262230  0.027367  0.027353     2\n",
       "23     Iowa-2018       XGBoost  0.055556  4.170959  0.434973  0.434959     2\n",
       "24     Iowa-2019       CurRank  0.958333  0.385542  0.038708  0.038708     2\n",
       "25     Iowa-2019  RandomForest  0.406250  1.846386  0.185650  0.185650     2\n",
       "26     Iowa-2019           SVM  0.958333  0.385542  0.038708  0.038708     2\n",
       "27     Iowa-2019       XGBoost  0.125000  3.411647  0.343550  0.343550     2\n",
       "28  Gateway-2018       CurRank  0.915254  0.334490  0.036132  0.036094     2\n",
       "29  Gateway-2018  RandomForest  0.495763  1.827332  0.197155  0.197118     2\n",
       "30  Gateway-2018           SVM  0.915254  0.334924  0.036179  0.036141     2\n",
       "31  Gateway-2018       XGBoost  0.139831  3.662039  0.395529  0.395492     2\n",
       "32  Gateway-2019       CurRank  0.915254  0.468817  0.049633  0.049614     2\n",
       "33  Gateway-2019  RandomForest  0.322034  2.740068  0.289497  0.289479     2\n",
       "34  Gateway-2019           SVM  0.915254  0.468817  0.049633  0.049614     2\n",
       "35  Gateway-2019       XGBoost  0.237288  4.402606  0.466049  0.466031     2"
      ]
     },
     "execution_count": 64,
     "metadata": {},
     "output_type": "execute_result"
    }
   ],
   "source": [
    "alldf"
   ]
  },
  {
   "cell_type": "code",
   "execution_count": 65,
   "metadata": {},
   "outputs": [],
   "source": [
    "alldf.to_csv(f'{dataroot}/evaluation_result_shortterm_plen2-8_all_v4-c{_context_len}.csv')"
   ]
  },
  {
   "cell_type": "markdown",
   "metadata": {},
   "source": [
    "## 3. Split by pit-covered-laps and normal laps\n",
    "\n",
    "define pit covered laps := two laps before and after a pit\n",
    "\n",
    "split shortterm-results only"
   ]
  },
  {
   "cell_type": "code",
   "execution_count": 66,
   "metadata": {},
   "outputs": [],
   "source": [
    "# get pit laps, pit-covered-laps\n",
    "# pitdata[year] = [pitlaps, pitcoveredlaps]\n",
    "covergap = 1\n",
    "with open(f'{dataroot}/pitcoveredlaps-alldata-g{covergap}.pickle', 'rb') as f:\n",
    "    # The protocol version used is detected automatically, so we do not\n",
    "    # have to specify it.\n",
    "    pitdata = pickle.load(f, encoding='latin1') "
   ]
  },
  {
   "cell_type": "code",
   "execution_count": 67,
   "metadata": {},
   "outputs": [],
   "source": [
    "def clear_samples(full_samples, full_tss, clearidx):\n",
    "    \"\"\"\n",
    "    clear the laps in clearidx\n",
    "    \"\"\"\n",
    "    \n",
    "    carlist = full_tss.keys()\n",
    "    \n",
    "    for carid, carno in enumerate(carlist):\n",
    "        forecast = full_samples[carno]\n",
    "        target = full_tss[carno]\n",
    "        \n",
    "        forecast[:, clearidx] = np.nan\n",
    "        target[clearidx] = np.nan\n",
    "        \n",
    "        full_samples[carno] = forecast\n",
    "        full_tss[carno] = target\n",
    "        \n",
    "    return full_samples, full_tss"
   ]
  },
  {
   "cell_type": "code",
   "execution_count": 88,
   "metadata": {},
   "outputs": [],
   "source": [
    "#\n",
    "# Model,SignAcc,MAE,50-Risk,90-Risk\n",
    "# \n",
    "cols = ['Year','Model','ExpID', 'LapType', 'Top1Acc','SignAcc','MAE','50-Risk','90-Risk']\n",
    "models = {'currank':'CurRank','rf':'RandomForest','svr':'SVM','xgb':'XGBoost'}\n",
    "\n",
    "#plen=2\n",
    "#usemeanstr='median'\n",
    "usemeanstr='mean'\n",
    "#stint_split_result = {}"
   ]
  },
  {
   "cell_type": "code",
   "execution_count": 90,
   "metadata": {},
   "outputs": [
    {
     "name": "stdout",
     "output_type": "stream",
     "text": [
      "year: Indy500-2018 clf: currank\n",
      "testset size: 5340 minlap: 9 maxlap: 196\n",
      "model: acc={0.72}, mae={1.34}, rmse={3.25},r2={0.85}, top1_pred: {188}, top1_naive: {188}\n",
      "            naive: acc={0.72}, mae={1.36}, rmse={3.25},r2={0.85}, top1: {188}\n"
     ]
    },
    {
     "name": "stderr",
     "output_type": "stream",
     "text": [
      "/N/u/pengb/hpda/indycar/predictor/src/indycar/model/quicktest_modules.py:1703: RuntimeWarning: invalid value encountered in less_equal\n",
      "  * ((target <= quantile_forecast) - q)\n"
     ]
    },
    {
     "name": "stdout",
     "output_type": "stream",
     "text": [
      "dict_values([0.09733723382543032, 0.0973263487312062, 0.0973154636369821])\n",
      "year: Indy500-2018 clf: rf\n",
      "testset size: 5340 minlap: 9.0 maxlap: 196.0\n",
      "model: acc={0.52}, mae={1.76}, rmse={3.38},r2={0.84}, top1_pred: {188}, top1_naive: {188}\n",
      "            naive: acc={0.72}, mae={1.36}, rmse={3.25},r2={0.85}, top1: {188}\n"
     ]
    },
    {
     "name": "stderr",
     "output_type": "stream",
     "text": [
      "/N/u/pengb/hpda/indycar/predictor/src/indycar/model/quicktest_modules.py:1703: RuntimeWarning: invalid value encountered in less_equal\n",
      "  * ((target <= quantile_forecast) - q)\n"
     ]
    },
    {
     "name": "stdout",
     "output_type": "stream",
     "text": [
      "dict_values([0.12765222123954015, 0.127641336145316, 0.12763045105109186])\n",
      "year: Indy500-2018 clf: svr\n",
      "testset size: 5340 minlap: 9.0 maxlap: 196.0\n",
      "model: acc={0.72}, mae={1.34}, rmse={3.25},r2={0.85}, top1_pred: {188}, top1_naive: {188}\n",
      "            naive: acc={0.72}, mae={1.36}, rmse={3.25},r2={0.85}, top1: {188}\n"
     ]
    },
    {
     "name": "stderr",
     "output_type": "stream",
     "text": [
      "/N/u/pengb/hpda/indycar/predictor/src/indycar/model/quicktest_modules.py:1703: RuntimeWarning: invalid value encountered in less_equal\n",
      "  * ((target <= quantile_forecast) - q)\n"
     ]
    },
    {
     "name": "stdout",
     "output_type": "stream",
     "text": [
      "dict_values([0.09733723382543032, 0.0973263487312062, 0.0973154636369821])\n",
      "year: Indy500-2018 clf: xgb\n",
      "testset size: 5340 minlap: 9.0 maxlap: 196.0\n",
      "model: acc={0.46}, mae={1.63}, rmse={3.32},r2={0.85}, top1_pred: {188}, top1_naive: {188}\n",
      "            naive: acc={0.72}, mae={1.36}, rmse={3.25},r2={0.85}, top1: {188}\n"
     ]
    },
    {
     "name": "stderr",
     "output_type": "stream",
     "text": [
      "/N/u/pengb/hpda/indycar/predictor/src/indycar/model/quicktest_modules.py:1703: RuntimeWarning: invalid value encountered in less_equal\n",
      "  * ((target <= quantile_forecast) - q)\n"
     ]
    },
    {
     "name": "stdout",
     "output_type": "stream",
     "text": [
      "dict_values([0.11848152935573845, 0.1184706442615144, 0.11845975916729033])\n",
      "year: Indy500-2019 clf: currank\n",
      "testset size: 5629 minlap: 9 maxlap: 196\n",
      "model: acc={0.73}, mae={1.16}, rmse={3.05},r2={0.88}, top1_pred: {188}, top1_naive: {188}\n",
      "            naive: acc={0.73}, mae={1.18}, rmse={3.07},r2={0.88}, top1: {188}\n"
     ]
    },
    {
     "name": "stderr",
     "output_type": "stream",
     "text": [
      "/N/u/pengb/hpda/indycar/predictor/src/indycar/model/quicktest_modules.py:1703: RuntimeWarning: invalid value encountered in less_equal\n",
      "  * ((target <= quantile_forecast) - q)\n"
     ]
    },
    {
     "name": "stdout",
     "output_type": "stream",
     "text": [
      "dict_values([0.080397193103194, 0.08039719310319401, 0.08039719310319403])\n",
      "year: Indy500-2019 clf: rf\n",
      "testset size: 5629 minlap: 9.0 maxlap: 196.0\n",
      "model: acc={0.61}, mae={1.31}, rmse={2.88},r2={0.89}, top1_pred: {188}, top1_naive: {188}\n",
      "            naive: acc={0.73}, mae={1.18}, rmse={3.07},r2={0.88}, top1: {188}\n"
     ]
    },
    {
     "name": "stderr",
     "output_type": "stream",
     "text": [
      "/N/u/pengb/hpda/indycar/predictor/src/indycar/model/quicktest_modules.py:1703: RuntimeWarning: invalid value encountered in less_equal\n",
      "  * ((target <= quantile_forecast) - q)\n"
     ]
    },
    {
     "name": "stdout",
     "output_type": "stream",
     "text": [
      "dict_values([0.09076943874353269, 0.0907694387435327, 0.09076943874353272])\n",
      "year: Indy500-2019 clf: svr\n",
      "testset size: 5629 minlap: 9.0 maxlap: 196.0\n",
      "model: acc={0.73}, mae={1.16}, rmse={3.05},r2={0.88}, top1_pred: {188}, top1_naive: {188}\n",
      "            naive: acc={0.73}, mae={1.18}, rmse={3.07},r2={0.88}, top1: {188}\n"
     ]
    },
    {
     "name": "stderr",
     "output_type": "stream",
     "text": [
      "/N/u/pengb/hpda/indycar/predictor/src/indycar/model/quicktest_modules.py:1703: RuntimeWarning: invalid value encountered in less_equal\n",
      "  * ((target <= quantile_forecast) - q)\n"
     ]
    },
    {
     "name": "stdout",
     "output_type": "stream",
     "text": [
      "dict_values([0.080397193103194, 0.08039719310319401, 0.08039719310319403])\n",
      "year: Indy500-2019 clf: xgb\n",
      "testset size: 5629 minlap: 9.0 maxlap: 196.0\n",
      "model: acc={0.64}, mae={1.25}, rmse={2.88},r2={0.89}, top1_pred: {188}, top1_naive: {188}\n",
      "            naive: acc={0.73}, mae={1.18}, rmse={3.07},r2={0.88}, top1: {188}\n"
     ]
    },
    {
     "name": "stderr",
     "output_type": "stream",
     "text": [
      "/N/u/pengb/hpda/indycar/predictor/src/indycar/model/quicktest_modules.py:1703: RuntimeWarning: invalid value encountered in less_equal\n",
      "  * ((target <= quantile_forecast) - q)\n"
     ]
    },
    {
     "name": "stdout",
     "output_type": "stream",
     "text": [
      "dict_values([0.08622236423295768, 0.08622236423295769, 0.08622236423295769])\n",
      "year: Phoenix-2018 clf: currank\n",
      "testset size: 5052 minlap: 9 maxlap: 246\n",
      "model: acc={0.90}, mae={0.41}, rmse={1.51},r2={0.94}, top1_pred: {238}, top1_naive: {238}\n",
      "            naive: acc={0.90}, mae={0.42}, rmse={1.52},r2={0.94}, top1: {238}\n"
     ]
    },
    {
     "name": "stderr",
     "output_type": "stream",
     "text": [
      "/N/u/pengb/hpda/indycar/predictor/src/indycar/model/quicktest_modules.py:1703: RuntimeWarning: invalid value encountered in less_equal\n",
      "  * ((target <= quantile_forecast) - q)\n"
     ]
    },
    {
     "name": "stdout",
     "output_type": "stream",
     "text": [
      "dict_values([0.04050573452851607, 0.04047441969702901, 0.04044310486554194])\n",
      "year: Phoenix-2018 clf: rf\n",
      "testset size: 5052 minlap: 9.0 maxlap: 246.0\n",
      "model: acc={0.50}, mae={1.77}, rmse={2.99},r2={0.77}, top1_pred: {238}, top1_naive: {238}\n",
      "            naive: acc={0.90}, mae={0.42}, rmse={1.52},r2={0.94}, top1: {238}\n"
     ]
    },
    {
     "name": "stderr",
     "output_type": "stream",
     "text": [
      "/N/u/pengb/hpda/indycar/predictor/src/indycar/model/quicktest_modules.py:1703: RuntimeWarning: invalid value encountered in less_equal\n",
      "  * ((target <= quantile_forecast) - q)\n"
     ]
    },
    {
     "name": "stdout",
     "output_type": "stream",
     "text": [
      "dict_values([0.17414177789955768, 0.17411046306807063, 0.17407914823658352])\n",
      "year: Phoenix-2018 clf: svr\n",
      "testset size: 5052 minlap: 9.0 maxlap: 246.0\n",
      "model: acc={0.90}, mae={0.41}, rmse={1.51},r2={0.94}, top1_pred: {238}, top1_naive: {238}\n",
      "            naive: acc={0.90}, mae={0.42}, rmse={1.52},r2={0.94}, top1: {238}\n"
     ]
    },
    {
     "name": "stderr",
     "output_type": "stream",
     "text": [
      "/N/u/pengb/hpda/indycar/predictor/src/indycar/model/quicktest_modules.py:1703: RuntimeWarning: invalid value encountered in less_equal\n",
      "  * ((target <= quantile_forecast) - q)\n"
     ]
    },
    {
     "name": "stdout",
     "output_type": "stream",
     "text": [
      "dict_values([0.04046659098915724, 0.040435276157670175, 0.04040396132618312])\n",
      "year: Phoenix-2018 clf: xgb\n",
      "testset size: 5052 minlap: 9.0 maxlap: 246.0\n",
      "model: acc={0.16}, mae={3.46}, rmse={5.08},r2={0.33}, top1_pred: {238}, top1_naive: {238}\n",
      "            naive: acc={0.90}, mae={0.42}, rmse={1.52},r2={0.94}, top1: {238}\n"
     ]
    },
    {
     "name": "stderr",
     "output_type": "stream",
     "text": [
      "/N/u/pengb/hpda/indycar/predictor/src/indycar/model/quicktest_modules.py:1703: RuntimeWarning: invalid value encountered in less_equal\n",
      "  * ((target <= quantile_forecast) - q)\n"
     ]
    },
    {
     "name": "stdout",
     "output_type": "stream",
     "text": [
      "dict_values([0.3416761263553451, 0.341644811523858, 0.34161349669237095])\n",
      "year: Texas-2018 clf: currank\n",
      "testset size: 4466 minlap: 9 maxlap: 244\n",
      "model: acc={0.93}, mae={0.45}, rmse={1.49},r2={0.93}, top1_pred: {236}, top1_naive: {236}\n",
      "            naive: acc={0.93}, mae={0.46}, rmse={1.50},r2={0.93}, top1: {236}\n"
     ]
    },
    {
     "name": "stderr",
     "output_type": "stream",
     "text": [
      "/N/u/pengb/hpda/indycar/predictor/src/indycar/model/quicktest_modules.py:1703: RuntimeWarning: invalid value encountered in less_equal\n",
      "  * ((target <= quantile_forecast) - q)\n"
     ]
    },
    {
     "name": "stdout",
     "output_type": "stream",
     "text": [
      "dict_values([0.04950839209454763, 0.04950839209454762, 0.04950839209454762])\n",
      "year: Texas-2018 clf: rf\n",
      "testset size: 4466 minlap: 9.0 maxlap: 244.0\n",
      "model: acc={0.47}, mae={2.20}, rmse={3.40},r2={0.63}, top1_pred: {236}, top1_naive: {236}\n",
      "            naive: acc={0.93}, mae={0.46}, rmse={1.50},r2={0.93}, top1: {236}\n"
     ]
    },
    {
     "name": "stderr",
     "output_type": "stream",
     "text": [
      "/N/u/pengb/hpda/indycar/predictor/src/indycar/model/quicktest_modules.py:1703: RuntimeWarning: invalid value encountered in less_equal\n",
      "  * ((target <= quantile_forecast) - q)\n"
     ]
    },
    {
     "name": "stdout",
     "output_type": "stream",
     "text": [
      "dict_values([0.2428245108749628, 0.24282451087496276, 0.24282451087496276])\n",
      "year: Texas-2018 clf: svr\n",
      "testset size: 4466 minlap: 9.0 maxlap: 244.0\n",
      "model: acc={0.93}, mae={0.45}, rmse={1.49},r2={0.93}, top1_pred: {236}, top1_naive: {236}\n",
      "            naive: acc={0.93}, mae={0.46}, rmse={1.50},r2={0.93}, top1: {236}\n"
     ]
    },
    {
     "name": "stderr",
     "output_type": "stream",
     "text": [
      "/N/u/pengb/hpda/indycar/predictor/src/indycar/model/quicktest_modules.py:1703: RuntimeWarning: invalid value encountered in less_equal\n",
      "  * ((target <= quantile_forecast) - q)\n"
     ]
    },
    {
     "name": "stdout",
     "output_type": "stream",
     "text": [
      "dict_values([0.04950839209454763, 0.04950839209454762, 0.04950839209454762])\n",
      "year: Texas-2018 clf: xgb\n",
      "testset size: 4466 minlap: 9.0 maxlap: 244.0\n",
      "model: acc={0.15}, mae={3.95}, rmse={5.79},r2={-0.06}, top1_pred: {236}, top1_naive: {236}\n",
      "            naive: acc={0.93}, mae={0.46}, rmse={1.50},r2={0.93}, top1: {236}\n"
     ]
    },
    {
     "name": "stderr",
     "output_type": "stream",
     "text": [
      "/N/u/pengb/hpda/indycar/predictor/src/indycar/model/quicktest_modules.py:1703: RuntimeWarning: invalid value encountered in less_equal\n",
      "  * ((target <= quantile_forecast) - q)\n"
     ]
    },
    {
     "name": "stdout",
     "output_type": "stream",
     "text": [
      "dict_values([0.4375806932168042, 0.43758069321680404, 0.437580693216804])\n",
      "year: Texas-2019 clf: currank\n",
      "testset size: 4694 minlap: 9 maxlap: 244\n",
      "model: acc={0.90}, mae={0.36}, rmse={1.29},r2={0.95}, top1_pred: {236}, top1_naive: {236}\n",
      "            naive: acc={0.90}, mae={0.38}, rmse={1.30},r2={0.95}, top1: {236}\n"
     ]
    },
    {
     "name": "stderr",
     "output_type": "stream",
     "text": [
      "/N/u/pengb/hpda/indycar/predictor/src/indycar/model/quicktest_modules.py:1703: RuntimeWarning: invalid value encountered in less_equal\n",
      "  * ((target <= quantile_forecast) - q)\n"
     ]
    },
    {
     "name": "stdout",
     "output_type": "stream",
     "text": [
      "dict_values([0.03758419398293669, 0.037584193982936685, 0.03758419398293668])\n",
      "year: Texas-2019 clf: rf\n",
      "testset size: 4694 minlap: 9.0 maxlap: 244.0\n",
      "model: acc={0.21}, mae={1.97}, rmse={3.09},r2={0.72}, top1_pred: {236}, top1_naive: {236}\n",
      "            naive: acc={0.90}, mae={0.38}, rmse={1.30},r2={0.95}, top1: {236}\n"
     ]
    },
    {
     "name": "stderr",
     "output_type": "stream",
     "text": [
      "/N/u/pengb/hpda/indycar/predictor/src/indycar/model/quicktest_modules.py:1703: RuntimeWarning: invalid value encountered in less_equal\n",
      "  * ((target <= quantile_forecast) - q)\n"
     ]
    },
    {
     "name": "stdout",
     "output_type": "stream",
     "text": [
      "dict_values([0.20749887741356085, 0.20749887741356085, 0.20749887741356085])\n",
      "year: Texas-2019 clf: svr\n",
      "testset size: 4694 minlap: 9.0 maxlap: 244.0\n",
      "model: acc={0.90}, mae={0.36}, rmse={1.29},r2={0.95}, top1_pred: {236}, top1_naive: {236}\n",
      "            naive: acc={0.90}, mae={0.38}, rmse={1.30},r2={0.95}, top1: {236}\n"
     ]
    },
    {
     "name": "stderr",
     "output_type": "stream",
     "text": [
      "/N/u/pengb/hpda/indycar/predictor/src/indycar/model/quicktest_modules.py:1703: RuntimeWarning: invalid value encountered in less_equal\n",
      "  * ((target <= quantile_forecast) - q)\n"
     ]
    },
    {
     "name": "stdout",
     "output_type": "stream",
     "text": [
      "dict_values([0.03758419398293669, 0.037584193982936685, 0.03758419398293668])\n",
      "year: Texas-2019 clf: xgb\n",
      "testset size: 4694 minlap: 9.0 maxlap: 244.0\n",
      "model: acc={0.30}, mae={3.80}, rmse={5.46},r2={0.13}, top1_pred: {236}, top1_naive: {236}\n",
      "            naive: acc={0.90}, mae={0.38}, rmse={1.30},r2={0.95}, top1: {236}\n"
     ]
    },
    {
     "name": "stderr",
     "output_type": "stream",
     "text": [
      "/N/u/pengb/hpda/indycar/predictor/src/indycar/model/quicktest_modules.py:1703: RuntimeWarning: invalid value encountered in less_equal\n",
      "  * ((target <= quantile_forecast) - q)\n"
     ]
    },
    {
     "name": "stdout",
     "output_type": "stream",
     "text": [
      "dict_values([0.4008082622361922, 0.4008082622361922, 0.4008082622361922])\n",
      "year: Pocono-2018 clf: currank\n",
      "testset size: 2768 minlap: 9 maxlap: 196\n",
      "model: acc={0.91}, mae={0.26}, rmse={0.95},r2={0.95}, top1_pred: {188}, top1_naive: {188}\n",
      "            naive: acc={0.91}, mae={0.26}, rmse={0.95},r2={0.95}, top1: {188}\n"
     ]
    },
    {
     "name": "stderr",
     "output_type": "stream",
     "text": [
      "/N/u/pengb/hpda/indycar/predictor/src/indycar/model/quicktest_modules.py:1703: RuntimeWarning: invalid value encountered in less_equal\n",
      "  * ((target <= quantile_forecast) - q)\n"
     ]
    },
    {
     "name": "stdout",
     "output_type": "stream",
     "text": [
      "dict_values([0.03729652847284412, 0.03729652847284412, 0.03729652847284413])\n",
      "year: Pocono-2018 clf: rf\n",
      "testset size: 2768 minlap: 9.0 maxlap: 196.0\n",
      "model: acc={0.70}, mae={1.39}, rmse={2.24},r2={0.73}, top1_pred: {188}, top1_naive: {188}\n",
      "            naive: acc={0.91}, mae={0.26}, rmse={0.95},r2={0.95}, top1: {188}\n"
     ]
    },
    {
     "name": "stderr",
     "output_type": "stream",
     "text": [
      "/N/u/pengb/hpda/indycar/predictor/src/indycar/model/quicktest_modules.py:1703: RuntimeWarning: invalid value encountered in less_equal\n",
      "  * ((target <= quantile_forecast) - q)\n"
     ]
    },
    {
     "name": "stdout",
     "output_type": "stream",
     "text": [
      "dict_values([0.20091660959806146, 0.20091660959806143, 0.2009166095980614])\n",
      "year: Pocono-2018 clf: svr\n",
      "testset size: 2768 minlap: 9.0 maxlap: 196.0\n",
      "model: acc={0.91}, mae={0.26}, rmse={0.95},r2={0.95}, top1_pred: {188}, top1_naive: {188}\n",
      "            naive: acc={0.91}, mae={0.26}, rmse={0.95},r2={0.95}, top1: {188}\n"
     ]
    },
    {
     "name": "stderr",
     "output_type": "stream",
     "text": [
      "/N/u/pengb/hpda/indycar/predictor/src/indycar/model/quicktest_modules.py:1703: RuntimeWarning: invalid value encountered in less_equal\n",
      "  * ((target <= quantile_forecast) - q)\n"
     ]
    },
    {
     "name": "stdout",
     "output_type": "stream",
     "text": [
      "dict_values([0.03729652847284412, 0.03729652847284412, 0.03729652847284413])\n",
      "year: Pocono-2018 clf: xgb\n",
      "testset size: 2768 minlap: 9.0 maxlap: 196.0\n",
      "model: acc={0.36}, mae={1.00}, rmse={1.87},r2={0.81}, top1_pred: {188}, top1_naive: {188}\n",
      "            naive: acc={0.91}, mae={0.26}, rmse={0.95},r2={0.95}, top1: {188}\n"
     ]
    },
    {
     "name": "stderr",
     "output_type": "stream",
     "text": [
      "/N/u/pengb/hpda/indycar/predictor/src/indycar/model/quicktest_modules.py:1703: RuntimeWarning: invalid value encountered in less_equal\n",
      "  * ((target <= quantile_forecast) - q)\n"
     ]
    },
    {
     "name": "stdout",
     "output_type": "stream",
     "text": [
      "dict_values([0.14297002581256915, 0.14297002581256915, 0.14297002581256915])\n",
      "year: Pocono-2019 clf: currank\n",
      "testset size: 1727 minlap: 9 maxlap: 122\n",
      "model: acc={0.57}, mae={1.20}, rmse={1.99},r2={0.81}, top1_pred: {114}, top1_naive: {78}\n",
      "            naive: acc={0.78}, mae={0.66}, rmse={1.61},r2={0.88}, top1: {78}\n"
     ]
    },
    {
     "name": "stderr",
     "output_type": "stream",
     "text": [
      "/N/u/pengb/hpda/indycar/predictor/src/indycar/model/quicktest_modules.py:1703: RuntimeWarning: invalid value encountered in less_equal\n",
      "  * ((target <= quantile_forecast) - q)\n"
     ]
    },
    {
     "name": "stdout",
     "output_type": "stream",
     "text": [
      "dict_values([0.08660023795359906, 0.1528108268887567, 0.21902141582391427])\n",
      "year: Pocono-2019 clf: rf\n",
      "testset size: 1727 minlap: 9.0 maxlap: 122.0\n",
      "model: acc={0.39}, mae={2.18}, rmse={3.27},r2={0.50}, top1_pred: {114}, top1_naive: {78}\n",
      "            naive: acc={0.78}, mae={0.66}, rmse={1.61},r2={0.88}, top1: {78}\n"
     ]
    },
    {
     "name": "stderr",
     "output_type": "stream",
     "text": [
      "/N/u/pengb/hpda/indycar/predictor/src/indycar/model/quicktest_modules.py:1703: RuntimeWarning: invalid value encountered in less_equal\n",
      "  * ((target <= quantile_forecast) - q)\n"
     ]
    },
    {
     "name": "stdout",
     "output_type": "stream",
     "text": [
      "dict_values([0.21078227245687098, 0.27699286139202856, 0.34320345032718624])\n",
      "year: Pocono-2019 clf: svr\n",
      "testset size: 1727 minlap: 9.0 maxlap: 122.0\n",
      "model: acc={0.57}, mae={1.20}, rmse={2.00},r2={0.81}, top1_pred: {114}, top1_naive: {78}\n",
      "            naive: acc={0.78}, mae={0.66}, rmse={1.61},r2={0.88}, top1: {78}\n"
     ]
    },
    {
     "name": "stderr",
     "output_type": "stream",
     "text": [
      "/N/u/pengb/hpda/indycar/predictor/src/indycar/model/quicktest_modules.py:1703: RuntimeWarning: invalid value encountered in less_equal\n",
      "  * ((target <= quantile_forecast) - q)\n"
     ]
    },
    {
     "name": "stdout",
     "output_type": "stream",
     "text": [
      "dict_values([0.0863027959547888, 0.15251338488994645, 0.2187239738251041])\n",
      "year: Pocono-2019 clf: xgb\n",
      "testset size: 1727 minlap: 9.0 maxlap: 122.0\n",
      "model: acc={0.49}, mae={1.68}, rmse={2.50},r2={0.71}, top1_pred: {114}, top1_naive: {78}\n",
      "            naive: acc={0.78}, mae={0.66}, rmse={1.61},r2={0.88}, top1: {78}\n"
     ]
    },
    {
     "name": "stderr",
     "output_type": "stream",
     "text": [
      "/N/u/pengb/hpda/indycar/predictor/src/indycar/model/quicktest_modules.py:1703: RuntimeWarning: invalid value encountered in less_equal\n",
      "  * ((target <= quantile_forecast) - q)\n"
     ]
    },
    {
     "name": "stdout",
     "output_type": "stream",
     "text": [
      "dict_values([0.1463860797144557, 0.21259666864961332, 0.278807257584771])\n",
      "year: Iowa-2018 clf: currank\n",
      "testset size: 5785 minlap: 9 maxlap: 296\n",
      "model: acc={0.97}, mae={0.26}, rmse={0.99},r2={0.97}, top1_pred: {288}, top1_naive: {288}\n",
      "            naive: acc={0.97}, mae={0.26}, rmse={0.99},r2={0.97}, top1: {288}\n"
     ]
    },
    {
     "name": "stderr",
     "output_type": "stream",
     "text": [
      "/N/u/pengb/hpda/indycar/predictor/src/indycar/model/quicktest_modules.py:1703: RuntimeWarning: invalid value encountered in less_equal\n",
      "  * ((target <= quantile_forecast) - q)\n"
     ]
    },
    {
     "name": "stdout",
     "output_type": "stream",
     "text": [
      "dict_values([0.027381789973119734, 0.027367357615774565, 0.027352925258429396])\n",
      "year: Iowa-2018 clf: rf\n",
      "testset size: 5785 minlap: 9.0 maxlap: 296.0\n",
      "model: acc={0.51}, mae={2.07}, rmse={3.10},r2={0.72}, top1_pred: {288}, top1_naive: {288}\n",
      "            naive: acc={0.97}, mae={0.26}, rmse={0.99},r2={0.97}, top1: {288}\n"
     ]
    },
    {
     "name": "stderr",
     "output_type": "stream",
     "text": [
      "/N/u/pengb/hpda/indycar/predictor/src/indycar/model/quicktest_modules.py:1703: RuntimeWarning: invalid value encountered in less_equal\n",
      "  * ((target <= quantile_forecast) - q)\n"
     ]
    },
    {
     "name": "stdout",
     "output_type": "stream",
     "text": [
      "dict_values([0.2151828399271166, 0.21516840756977143, 0.21515397521242627])\n",
      "year: Iowa-2018 clf: svr\n",
      "testset size: 5785 minlap: 9.0 maxlap: 296.0\n",
      "model: acc={0.97}, mae={0.26}, rmse={0.99},r2={0.97}, top1_pred: {288}, top1_naive: {288}\n",
      "            naive: acc={0.97}, mae={0.26}, rmse={0.99},r2={0.97}, top1: {288}\n"
     ]
    },
    {
     "name": "stderr",
     "output_type": "stream",
     "text": [
      "/N/u/pengb/hpda/indycar/predictor/src/indycar/model/quicktest_modules.py:1703: RuntimeWarning: invalid value encountered in less_equal\n",
      "  * ((target <= quantile_forecast) - q)\n"
     ]
    },
    {
     "name": "stdout",
     "output_type": "stream",
     "text": [
      "dict_values([0.027381789973119734, 0.027367357615774565, 0.027352925258429396])\n",
      "year: Iowa-2018 clf: xgb\n",
      "testset size: 5785 minlap: 9.0 maxlap: 296.0\n",
      "model: acc={0.06}, mae={4.17}, rmse={5.84},r2={0.02}, top1_pred: {288}, top1_naive: {288}\n",
      "            naive: acc={0.97}, mae={0.26}, rmse={0.99},r2={0.97}, top1: {288}\n"
     ]
    },
    {
     "name": "stderr",
     "output_type": "stream",
     "text": [
      "/N/u/pengb/hpda/indycar/predictor/src/indycar/model/quicktest_modules.py:1703: RuntimeWarning: invalid value encountered in less_equal\n",
      "  * ((target <= quantile_forecast) - q)\n"
     ]
    },
    {
     "name": "stdout",
     "output_type": "stream",
     "text": [
      "dict_values([0.43498764229402315, 0.43497320993667804, 0.4349587775793329])\n",
      "year: Iowa-2019 clf: currank\n",
      "testset size: 5976 minlap: 9 maxlap: 296\n",
      "model: acc={0.96}, mae={0.39}, rmse={1.34},r2={0.95}, top1_pred: {288}, top1_naive: {288}\n",
      "            naive: acc={0.96}, mae={0.39}, rmse={1.34},r2={0.95}, top1: {288}\n"
     ]
    },
    {
     "name": "stderr",
     "output_type": "stream",
     "text": [
      "/N/u/pengb/hpda/indycar/predictor/src/indycar/model/quicktest_modules.py:1703: RuntimeWarning: invalid value encountered in less_equal\n",
      "  * ((target <= quantile_forecast) - q)\n"
     ]
    },
    {
     "name": "stdout",
     "output_type": "stream",
     "text": [
      "dict_values([0.0387079371501787, 0.0387079371501787, 0.038707937150178715])\n",
      "year: Iowa-2019 clf: rf\n",
      "testset size: 5976 minlap: 9.0 maxlap: 296.0\n",
      "model: acc={0.41}, mae={1.85}, rmse={2.91},r2={0.77}, top1_pred: {288}, top1_naive: {288}\n",
      "            naive: acc={0.96}, mae={0.39}, rmse={1.34},r2={0.95}, top1: {288}\n"
     ]
    },
    {
     "name": "stderr",
     "output_type": "stream",
     "text": [
      "/N/u/pengb/hpda/indycar/predictor/src/indycar/model/quicktest_modules.py:1703: RuntimeWarning: invalid value encountered in less_equal\n",
      "  * ((target <= quantile_forecast) - q)\n"
     ]
    },
    {
     "name": "stdout",
     "output_type": "stream",
     "text": [
      "dict_values([0.18564974037359225, 0.18564974037359228, 0.1856497403735923])\n",
      "year: Iowa-2019 clf: svr\n",
      "testset size: 5976 minlap: 9.0 maxlap: 296.0\n",
      "model: acc={0.96}, mae={0.39}, rmse={1.34},r2={0.95}, top1_pred: {288}, top1_naive: {288}\n",
      "            naive: acc={0.96}, mae={0.39}, rmse={1.34},r2={0.95}, top1: {288}\n"
     ]
    },
    {
     "name": "stderr",
     "output_type": "stream",
     "text": [
      "/N/u/pengb/hpda/indycar/predictor/src/indycar/model/quicktest_modules.py:1703: RuntimeWarning: invalid value encountered in less_equal\n",
      "  * ((target <= quantile_forecast) - q)\n"
     ]
    },
    {
     "name": "stdout",
     "output_type": "stream",
     "text": [
      "dict_values([0.0387079371501787, 0.0387079371501787, 0.038707937150178715])\n",
      "year: Iowa-2019 clf: xgb\n",
      "testset size: 5976 minlap: 9.0 maxlap: 296.0\n",
      "model: acc={0.12}, mae={3.41}, rmse={5.15},r2={0.29}, top1_pred: {288}, top1_naive: {288}\n",
      "            naive: acc={0.96}, mae={0.39}, rmse={1.34},r2={0.95}, top1: {288}\n"
     ]
    },
    {
     "name": "stderr",
     "output_type": "stream",
     "text": [
      "/N/u/pengb/hpda/indycar/predictor/src/indycar/model/quicktest_modules.py:1703: RuntimeWarning: invalid value encountered in less_equal\n",
      "  * ((target <= quantile_forecast) - q)\n"
     ]
    },
    {
     "name": "stdout",
     "output_type": "stream",
     "text": [
      "dict_values([0.3435498010654798, 0.3435498010654798, 0.3435498010654797])\n",
      "year: Gateway-2018 clf: currank\n",
      "testset size: 4610 minlap: 9 maxlap: 244\n",
      "model: acc={0.92}, mae={0.33}, rmse={1.17},r2={0.96}, top1_pred: {236}, top1_naive: {236}\n",
      "            naive: acc={0.92}, mae={0.33}, rmse={1.17},r2={0.96}, top1: {236}\n"
     ]
    },
    {
     "name": "stderr",
     "output_type": "stream",
     "text": [
      "/N/u/pengb/hpda/indycar/predictor/src/indycar/model/quicktest_modules.py:1703: RuntimeWarning: invalid value encountered in less_equal\n",
      "  * ((target <= quantile_forecast) - q)\n"
     ]
    },
    {
     "name": "stdout",
     "output_type": "stream",
     "text": [
      "dict_values([0.03616936523185792, 0.03613187431169014, 0.03609438339152236])\n",
      "year: Gateway-2018 clf: rf\n",
      "testset size: 4610 minlap: 9.0 maxlap: 244.0\n",
      "model: acc={0.50}, mae={1.83}, rmse={2.96},r2={0.73}, top1_pred: {236}, top1_naive: {236}\n",
      "            naive: acc={0.92}, mae={0.33}, rmse={1.17},r2={0.96}, top1: {236}\n"
     ]
    },
    {
     "name": "stderr",
     "output_type": "stream",
     "text": [
      "/N/u/pengb/hpda/indycar/predictor/src/indycar/model/quicktest_modules.py:1703: RuntimeWarning: invalid value encountered in less_equal\n",
      "  * ((target <= quantile_forecast) - q)\n"
     ]
    },
    {
     "name": "stdout",
     "output_type": "stream",
     "text": [
      "dict_values([0.1971928673524381, 0.1971553764322703, 0.19711788551210252])\n",
      "year: Gateway-2018 clf: svr\n",
      "testset size: 4610 minlap: 9.0 maxlap: 244.0\n",
      "model: acc={0.92}, mae={0.33}, rmse={1.17},r2={0.96}, top1_pred: {236}, top1_naive: {236}\n",
      "            naive: acc={0.92}, mae={0.33}, rmse={1.17},r2={0.96}, top1: {236}\n"
     ]
    },
    {
     "name": "stderr",
     "output_type": "stream",
     "text": [
      "/N/u/pengb/hpda/indycar/predictor/src/indycar/model/quicktest_modules.py:1703: RuntimeWarning: invalid value encountered in less_equal\n",
      "  * ((target <= quantile_forecast) - q)\n"
     ]
    },
    {
     "name": "stdout",
     "output_type": "stream",
     "text": [
      "dict_values([0.03621622888206763, 0.036178737961899854, 0.03614124704173208])\n",
      "year: Gateway-2018 clf: xgb\n",
      "testset size: 4610 minlap: 9.0 maxlap: 244.0\n",
      "model: acc={0.14}, mae={3.66}, rmse={5.30},r2={0.13}, top1_pred: {236}, top1_naive: {236}\n",
      "            naive: acc={0.92}, mae={0.33}, rmse={1.17},r2={0.96}, top1: {236}\n"
     ]
    },
    {
     "name": "stderr",
     "output_type": "stream",
     "text": [
      "/N/u/pengb/hpda/indycar/predictor/src/indycar/model/quicktest_modules.py:1703: RuntimeWarning: invalid value encountered in less_equal\n",
      "  * ((target <= quantile_forecast) - q)\n"
     ]
    },
    {
     "name": "stdout",
     "output_type": "stream",
     "text": [
      "dict_values([0.3955666986901609, 0.39552920776999323, 0.3954917168498255])\n",
      "year: Gateway-2019 clf: currank\n",
      "testset size: 4682 minlap: 9 maxlap: 244\n",
      "model: acc={0.92}, mae={0.47}, rmse={1.47},r2={0.94}, top1_pred: {236}, top1_naive: {236}\n",
      "            naive: acc={0.92}, mae={0.48}, rmse={1.48},r2={0.94}, top1: {236}\n"
     ]
    },
    {
     "name": "stderr",
     "output_type": "stream",
     "text": [
      "/N/u/pengb/hpda/indycar/predictor/src/indycar/model/quicktest_modules.py:1703: RuntimeWarning: invalid value encountered in less_equal\n",
      "  * ((target <= quantile_forecast) - q)\n"
     ]
    },
    {
     "name": "stdout",
     "output_type": "stream",
     "text": [
      "dict_values([0.04965065008479367, 0.04963256076879593, 0.04961447145279819])\n",
      "year: Gateway-2019 clf: rf\n",
      "testset size: 4682 minlap: 9.0 maxlap: 244.0\n",
      "model: acc={0.32}, mae={2.74}, rmse={4.00},r2={0.53}, top1_pred: {236}, top1_naive: {236}\n",
      "            naive: acc={0.92}, mae={0.48}, rmse={1.48},r2={0.94}, top1: {236}\n"
     ]
    },
    {
     "name": "stderr",
     "output_type": "stream",
     "text": [
      "/N/u/pengb/hpda/indycar/predictor/src/indycar/model/quicktest_modules.py:1703: RuntimeWarning: invalid value encountered in less_equal\n",
      "  * ((target <= quantile_forecast) - q)\n"
     ]
    },
    {
     "name": "stdout",
     "output_type": "stream",
     "text": [
      "dict_values([0.28951498021481065, 0.28949689089881286, 0.2894788015828152])\n",
      "year: Gateway-2019 clf: svr\n",
      "testset size: 4682 minlap: 9.0 maxlap: 244.0\n",
      "model: acc={0.92}, mae={0.47}, rmse={1.47},r2={0.94}, top1_pred: {236}, top1_naive: {236}\n",
      "            naive: acc={0.92}, mae={0.48}, rmse={1.48},r2={0.94}, top1: {236}\n"
     ]
    },
    {
     "name": "stderr",
     "output_type": "stream",
     "text": [
      "/N/u/pengb/hpda/indycar/predictor/src/indycar/model/quicktest_modules.py:1703: RuntimeWarning: invalid value encountered in less_equal\n",
      "  * ((target <= quantile_forecast) - q)\n"
     ]
    },
    {
     "name": "stdout",
     "output_type": "stream",
     "text": [
      "dict_values([0.04965065008479367, 0.04963256076879593, 0.04961447145279819])\n",
      "year: Gateway-2019 clf: xgb\n",
      "testset size: 4682 minlap: 9.0 maxlap: 244.0\n",
      "model: acc={0.24}, mae={4.40}, rmse={6.13},r2={-0.10}, top1_pred: {236}, top1_naive: {236}\n",
      "            naive: acc={0.92}, mae={0.48}, rmse={1.48},r2={0.94}, top1: {236}\n"
     ]
    },
    {
     "name": "stderr",
     "output_type": "stream",
     "text": [
      "/N/u/pengb/hpda/indycar/predictor/src/indycar/model/quicktest_modules.py:1703: RuntimeWarning: invalid value encountered in less_equal\n",
      "  * ((target <= quantile_forecast) - q)\n"
     ]
    },
    {
     "name": "stdout",
     "output_type": "stream",
     "text": [
      "dict_values([0.4660667043527417, 0.46604861503674394, 0.4660305257207462])\n",
      "year: Indy500-2018 clf: currank\n",
      "dict_values([0.015032726749622381, 0.015032726749622383, 0.015032726749622388])\n",
      "testset size: 1956 minlap: 9 maxlap: 196\n",
      "model: acc={0.91}, mae={0.21}, rmse={0.69},r2={0.99}, top1_pred: {66}, top1_naive: {66}\n",
      "            naive: acc={0.91}, mae={0.24}, rmse={0.72},r2={0.99}, top1: {66}\n",
      "year: Indy500-2018 clf: rf\n"
     ]
    },
    {
     "name": "stderr",
     "output_type": "stream",
     "text": [
      "/N/u/pengb/hpda/indycar/predictor/src/indycar/model/quicktest_modules.py:1703: RuntimeWarning: invalid value encountered in less_equal\n",
      "  * ((target <= quantile_forecast) - q)\n"
     ]
    },
    {
     "name": "stdout",
     "output_type": "stream",
     "text": [
      "dict_values([0.06753937998993025, 0.06753937998993023, 0.06753937998993022])\n",
      "testset size: 1956 minlap: 9.0 maxlap: 196.0\n",
      "model: acc={0.67}, mae={0.97}, rmse={2.06},r2={0.95}, top1_pred: {66}, top1_naive: {66}\n",
      "            naive: acc={0.91}, mae={0.24}, rmse={0.72},r2={0.99}, top1: {66}\n",
      "year: Indy500-2018 clf: svr\n"
     ]
    },
    {
     "name": "stderr",
     "output_type": "stream",
     "text": [
      "/N/u/pengb/hpda/indycar/predictor/src/indycar/model/quicktest_modules.py:1703: RuntimeWarning: invalid value encountered in less_equal\n",
      "  * ((target <= quantile_forecast) - q)\n"
     ]
    },
    {
     "name": "stdout",
     "output_type": "stream",
     "text": [
      "dict_values([0.015032726749622381, 0.015032726749622383, 0.015032726749622388])\n",
      "testset size: 1956 minlap: 9.0 maxlap: 196.0\n",
      "model: acc={0.91}, mae={0.21}, rmse={0.69},r2={0.99}, top1_pred: {66}, top1_naive: {66}\n",
      "            naive: acc={0.91}, mae={0.24}, rmse={0.72},r2={0.99}, top1: {66}\n",
      "year: Indy500-2018 clf: xgb\n"
     ]
    },
    {
     "name": "stderr",
     "output_type": "stream",
     "text": [
      "/N/u/pengb/hpda/indycar/predictor/src/indycar/model/quicktest_modules.py:1703: RuntimeWarning: invalid value encountered in less_equal\n",
      "  * ((target <= quantile_forecast) - q)\n"
     ]
    },
    {
     "name": "stdout",
     "output_type": "stream",
     "text": [
      "dict_values([0.04603323023807812, 0.046033230238078114, 0.04603323023807811])\n",
      "testset size: 1956 minlap: 9.0 maxlap: 196.0\n",
      "model: acc={0.56}, mae={0.66}, rmse={1.60},r2={0.97}, top1_pred: {66}, top1_naive: {66}\n",
      "            naive: acc={0.91}, mae={0.24}, rmse={0.72},r2={0.99}, top1: {66}\n",
      "year: Indy500-2019 clf: currank\n"
     ]
    },
    {
     "name": "stderr",
     "output_type": "stream",
     "text": [
      "/N/u/pengb/hpda/indycar/predictor/src/indycar/model/quicktest_modules.py:1703: RuntimeWarning: invalid value encountered in less_equal\n",
      "  * ((target <= quantile_forecast) - q)\n"
     ]
    },
    {
     "name": "stdout",
     "output_type": "stream",
     "text": [
      "dict_values([0.009054984166862942, 0.009054984166862946, 0.009054984166862947])\n",
      "testset size: 2660 minlap: 9 maxlap: 196\n",
      "model: acc={0.94}, mae={0.13}, rmse={0.49},r2={1.00}, top1_pred: {89}, top1_naive: {89}\n",
      "            naive: acc={0.94}, mae={0.13}, rmse={0.49},r2={1.00}, top1: {89}\n",
      "year: Indy500-2019 clf: rf\n"
     ]
    },
    {
     "name": "stderr",
     "output_type": "stream",
     "text": [
      "/N/u/pengb/hpda/indycar/predictor/src/indycar/model/quicktest_modules.py:1703: RuntimeWarning: invalid value encountered in less_equal\n",
      "  * ((target <= quantile_forecast) - q)\n"
     ]
    },
    {
     "name": "stdout",
     "output_type": "stream",
     "text": [
      "dict_values([0.02637983826646777, 0.02637983826646777, 0.026379838266467767])\n",
      "testset size: 2660 minlap: 9.0 maxlap: 196.0\n",
      "model: acc={0.74}, mae={0.38}, rmse={0.88},r2={0.99}, top1_pred: {89}, top1_naive: {89}\n",
      "            naive: acc={0.94}, mae={0.13}, rmse={0.49},r2={1.00}, top1: {89}\n",
      "year: Indy500-2019 clf: svr\n"
     ]
    },
    {
     "name": "stderr",
     "output_type": "stream",
     "text": [
      "/N/u/pengb/hpda/indycar/predictor/src/indycar/model/quicktest_modules.py:1703: RuntimeWarning: invalid value encountered in less_equal\n",
      "  * ((target <= quantile_forecast) - q)\n"
     ]
    },
    {
     "name": "stdout",
     "output_type": "stream",
     "text": [
      "dict_values([0.009054984166862942, 0.009054984166862946, 0.009054984166862947])\n",
      "testset size: 2660 minlap: 9.0 maxlap: 196.0\n",
      "model: acc={0.94}, mae={0.13}, rmse={0.49},r2={1.00}, top1_pred: {89}, top1_naive: {89}\n",
      "            naive: acc={0.94}, mae={0.13}, rmse={0.49},r2={1.00}, top1: {89}\n",
      "year: Indy500-2019 clf: xgb\n"
     ]
    },
    {
     "name": "stderr",
     "output_type": "stream",
     "text": [
      "/N/u/pengb/hpda/indycar/predictor/src/indycar/model/quicktest_modules.py:1703: RuntimeWarning: invalid value encountered in less_equal\n",
      "  * ((target <= quantile_forecast) - q)\n"
     ]
    },
    {
     "name": "stdout",
     "output_type": "stream",
     "text": [
      "dict_values([0.018528695925257122, 0.018528695925257126, 0.018528695925257126])\n",
      "testset size: 2660 minlap: 9.0 maxlap: 196.0\n",
      "model: acc={0.76}, mae={0.27}, rmse={0.72},r2={0.99}, top1_pred: {89}, top1_naive: {89}\n",
      "            naive: acc={0.94}, mae={0.13}, rmse={0.49},r2={1.00}, top1: {89}\n",
      "year: Phoenix-2018 clf: currank\n"
     ]
    },
    {
     "name": "stderr",
     "output_type": "stream",
     "text": [
      "/N/u/pengb/hpda/indycar/predictor/src/indycar/model/quicktest_modules.py:1703: RuntimeWarning: invalid value encountered in less_equal\n",
      "  * ((target <= quantile_forecast) - q)\n"
     ]
    },
    {
     "name": "stdout",
     "output_type": "stream",
     "text": [
      "dict_values([0.0036542132533406053, 0.0036542132533406053, 0.0036542132533406053])\n",
      "testset size: 3025 minlap: 9 maxlap: 197\n",
      "model: acc={0.99}, mae={0.03}, rmse={0.18},r2={1.00}, top1_pred: {138}, top1_naive: {138}\n",
      "            naive: acc={0.99}, mae={0.03}, rmse={0.20},r2={1.00}, top1: {138}\n",
      "year: Phoenix-2018 clf: rf\n"
     ]
    },
    {
     "name": "stderr",
     "output_type": "stream",
     "text": [
      "/N/u/pengb/hpda/indycar/predictor/src/indycar/model/quicktest_modules.py:1703: RuntimeWarning: invalid value encountered in less_equal\n",
      "  * ((target <= quantile_forecast) - q)\n"
     ]
    },
    {
     "name": "stdout",
     "output_type": "stream",
     "text": [
      "dict_values([0.12091628033815108, 0.12091628033815108, 0.12091628033815108])\n",
      "testset size: 3025 minlap: 9.0 maxlap: 197.0\n",
      "model: acc={0.61}, mae={0.99}, rmse={1.73},r2={0.93}, top1_pred: {138}, top1_naive: {138}\n",
      "            naive: acc={0.99}, mae={0.03}, rmse={0.20},r2={1.00}, top1: {138}\n",
      "year: Phoenix-2018 clf: svr\n"
     ]
    },
    {
     "name": "stderr",
     "output_type": "stream",
     "text": [
      "/N/u/pengb/hpda/indycar/predictor/src/indycar/model/quicktest_modules.py:1703: RuntimeWarning: invalid value encountered in less_equal\n",
      "  * ((target <= quantile_forecast) - q)\n"
     ]
    },
    {
     "name": "stdout",
     "output_type": "stream",
     "text": [
      "dict_values([0.0036542132533406053, 0.0036542132533406053, 0.0036542132533406053])\n",
      "testset size: 3025 minlap: 9.0 maxlap: 197.0\n",
      "model: acc={0.99}, mae={0.03}, rmse={0.18},r2={1.00}, top1_pred: {138}, top1_naive: {138}\n",
      "            naive: acc={0.99}, mae={0.03}, rmse={0.20},r2={1.00}, top1: {138}\n",
      "year: Phoenix-2018 clf: xgb\n"
     ]
    },
    {
     "name": "stderr",
     "output_type": "stream",
     "text": [
      "/N/u/pengb/hpda/indycar/predictor/src/indycar/model/quicktest_modules.py:1703: RuntimeWarning: invalid value encountered in less_equal\n",
      "  * ((target <= quantile_forecast) - q)\n"
     ]
    },
    {
     "name": "stdout",
     "output_type": "stream",
     "text": [
      "dict_values([0.29097354785928553, 0.29097354785928553, 0.2909735478592856])\n",
      "testset size: 3025 minlap: 9.0 maxlap: 197.0\n",
      "model: acc={0.21}, mae={2.66}, rmse={4.15},r2={0.57}, top1_pred: {138}, top1_naive: {138}\n",
      "            naive: acc={0.99}, mae={0.03}, rmse={0.20},r2={1.00}, top1: {138}\n",
      "year: Texas-2018 clf: currank\n"
     ]
    },
    {
     "name": "stderr",
     "output_type": "stream",
     "text": [
      "/N/u/pengb/hpda/indycar/predictor/src/indycar/model/quicktest_modules.py:1703: RuntimeWarning: invalid value encountered in less_equal\n",
      "  * ((target <= quantile_forecast) - q)\n"
     ]
    },
    {
     "name": "stdout",
     "output_type": "stream",
     "text": [
      "dict_values([0.01024256250290982, 0.010242562502909818, 0.010242562502909818])\n",
      "testset size: 1982 minlap: 9 maxlap: 197\n",
      "model: acc={1.00}, mae={0.10}, rmse={0.36},r2={1.00}, top1_pred: {100}, top1_naive: {100}\n",
      "            naive: acc={1.00}, mae={0.12}, rmse={0.38},r2={1.00}, top1: {100}\n",
      "year: Texas-2018 clf: rf\n"
     ]
    },
    {
     "name": "stderr",
     "output_type": "stream",
     "text": [
      "/N/u/pengb/hpda/indycar/predictor/src/indycar/model/quicktest_modules.py:1703: RuntimeWarning: invalid value encountered in less_equal\n",
      "  * ((target <= quantile_forecast) - q)\n"
     ]
    },
    {
     "name": "stdout",
     "output_type": "stream",
     "text": [
      "dict_values([0.1970296568741562, 0.19702965687415616, 0.19702965687415608])\n",
      "testset size: 1982 minlap: 9.0 maxlap: 197.0\n",
      "model: acc={0.42}, mae={1.88}, rmse={2.93},r2={0.74}, top1_pred: {100}, top1_naive: {100}\n",
      "            naive: acc={1.00}, mae={0.12}, rmse={0.38},r2={1.00}, top1: {100}\n",
      "year: Texas-2018 clf: svr\n"
     ]
    },
    {
     "name": "stderr",
     "output_type": "stream",
     "text": [
      "/N/u/pengb/hpda/indycar/predictor/src/indycar/model/quicktest_modules.py:1703: RuntimeWarning: invalid value encountered in less_equal\n",
      "  * ((target <= quantile_forecast) - q)\n"
     ]
    },
    {
     "name": "stdout",
     "output_type": "stream",
     "text": [
      "dict_values([0.01024256250290982, 0.010242562502909818, 0.010242562502909818])\n",
      "testset size: 1982 minlap: 9.0 maxlap: 197.0\n",
      "model: acc={1.00}, mae={0.10}, rmse={0.36},r2={1.00}, top1_pred: {100}, top1_naive: {100}\n",
      "            naive: acc={1.00}, mae={0.12}, rmse={0.38},r2={1.00}, top1: {100}\n",
      "year: Texas-2018 clf: xgb\n"
     ]
    },
    {
     "name": "stderr",
     "output_type": "stream",
     "text": [
      "/N/u/pengb/hpda/indycar/predictor/src/indycar/model/quicktest_modules.py:1703: RuntimeWarning: invalid value encountered in less_equal\n",
      "  * ((target <= quantile_forecast) - q)\n"
     ]
    },
    {
     "name": "stdout",
     "output_type": "stream",
     "text": [
      "dict_values([0.35793100237441217, 0.3579310023744122, 0.3579310023744122])\n",
      "testset size: 1982 minlap: 9.0 maxlap: 197.0\n",
      "model: acc={0.28}, mae={3.47}, rmse={5.38},r2={0.12}, top1_pred: {100}, top1_naive: {100}\n",
      "            naive: acc={1.00}, mae={0.12}, rmse={0.38},r2={1.00}, top1: {100}\n",
      "year: Texas-2019 clf: currank\n"
     ]
    },
    {
     "name": "stderr",
     "output_type": "stream",
     "text": [
      "/N/u/pengb/hpda/indycar/predictor/src/indycar/model/quicktest_modules.py:1703: RuntimeWarning: invalid value encountered in less_equal\n",
      "  * ((target <= quantile_forecast) - q)\n"
     ]
    },
    {
     "name": "stdout",
     "output_type": "stream",
     "text": [
      "dict_values([0.005668268067604464, 0.005668268067604465, 0.005668268067604465])\n",
      "testset size: 2474 minlap: 9 maxlap: 189\n",
      "model: acc={0.95}, mae={0.04}, rmse={0.23},r2={1.00}, top1_pred: {119}, top1_naive: {119}\n",
      "            naive: acc={0.95}, mae={0.04}, rmse={0.23},r2={1.00}, top1: {119}\n",
      "year: Texas-2019 clf: rf\n"
     ]
    },
    {
     "name": "stderr",
     "output_type": "stream",
     "text": [
      "/N/u/pengb/hpda/indycar/predictor/src/indycar/model/quicktest_modules.py:1703: RuntimeWarning: invalid value encountered in less_equal\n",
      "  * ((target <= quantile_forecast) - q)\n"
     ]
    },
    {
     "name": "stdout",
     "output_type": "stream",
     "text": [
      "dict_values([0.18228320602771922, 0.18228320602771922, 0.18228320602771922])\n",
      "testset size: 2474 minlap: 9.0 maxlap: 189.0\n",
      "model: acc={0.24}, mae={1.40}, rmse={2.28},r2={0.86}, top1_pred: {119}, top1_naive: {119}\n",
      "            naive: acc={0.95}, mae={0.04}, rmse={0.23},r2={1.00}, top1: {119}\n",
      "year: Texas-2019 clf: svr\n"
     ]
    },
    {
     "name": "stderr",
     "output_type": "stream",
     "text": [
      "/N/u/pengb/hpda/indycar/predictor/src/indycar/model/quicktest_modules.py:1703: RuntimeWarning: invalid value encountered in less_equal\n",
      "  * ((target <= quantile_forecast) - q)\n"
     ]
    },
    {
     "name": "stdout",
     "output_type": "stream",
     "text": [
      "dict_values([0.005668268067604464, 0.005668268067604465, 0.005668268067604465])\n",
      "testset size: 2474 minlap: 9.0 maxlap: 189.0\n",
      "model: acc={0.95}, mae={0.04}, rmse={0.23},r2={1.00}, top1_pred: {119}, top1_naive: {119}\n",
      "            naive: acc={0.95}, mae={0.04}, rmse={0.23},r2={1.00}, top1: {119}\n",
      "year: Texas-2019 clf: xgb\n"
     ]
    },
    {
     "name": "stderr",
     "output_type": "stream",
     "text": [
      "/N/u/pengb/hpda/indycar/predictor/src/indycar/model/quicktest_modules.py:1703: RuntimeWarning: invalid value encountered in less_equal\n",
      "  * ((target <= quantile_forecast) - q)\n"
     ]
    },
    {
     "name": "stdout",
     "output_type": "stream",
     "text": [
      "dict_values([0.3700273044620329, 0.37002730446203297, 0.37002730446203297])\n",
      "testset size: 2474 minlap: 9.0 maxlap: 189.0\n",
      "model: acc={0.31}, mae={3.37}, rmse={5.09},r2={0.29}, top1_pred: {119}, top1_naive: {119}\n",
      "            naive: acc={0.95}, mae={0.04}, rmse={0.23},r2={1.00}, top1: {119}\n",
      "year: Pocono-2018 clf: currank\n"
     ]
    },
    {
     "name": "stderr",
     "output_type": "stream",
     "text": [
      "/N/u/pengb/hpda/indycar/predictor/src/indycar/model/quicktest_modules.py:1703: RuntimeWarning: invalid value encountered in less_equal\n",
      "  * ((target <= quantile_forecast) - q)\n"
     ]
    },
    {
     "name": "stdout",
     "output_type": "stream",
     "text": [
      "dict_values([0.0023890784982935156, 0.002389078498293515, 0.002389078498293515])\n",
      "testset size: 1717 minlap: 9 maxlap: 196\n",
      "model: acc={1.00}, mae={0.02}, rmse={0.21},r2={1.00}, top1_pred: {117}, top1_naive: {117}\n",
      "            naive: acc={1.00}, mae={0.02}, rmse={0.21},r2={1.00}, top1: {117}\n",
      "year: Pocono-2018 clf: rf\n"
     ]
    },
    {
     "name": "stderr",
     "output_type": "stream",
     "text": [
      "/N/u/pengb/hpda/indycar/predictor/src/indycar/model/quicktest_modules.py:1703: RuntimeWarning: invalid value encountered in less_equal\n",
      "  * ((target <= quantile_forecast) - q)\n"
     ]
    },
    {
     "name": "stdout",
     "output_type": "stream",
     "text": [
      "dict_values([0.13686006825938565, 0.13686006825938565, 0.13686006825938568])\n",
      "testset size: 1717 minlap: 9.0 maxlap: 196.0\n",
      "model: acc={0.91}, mae={0.96}, rmse={1.60},r2={0.86}, top1_pred: {117}, top1_naive: {117}\n",
      "            naive: acc={1.00}, mae={0.02}, rmse={0.21},r2={1.00}, top1: {117}\n",
      "year: Pocono-2018 clf: svr\n"
     ]
    },
    {
     "name": "stderr",
     "output_type": "stream",
     "text": [
      "/N/u/pengb/hpda/indycar/predictor/src/indycar/model/quicktest_modules.py:1703: RuntimeWarning: invalid value encountered in less_equal\n",
      "  * ((target <= quantile_forecast) - q)\n"
     ]
    },
    {
     "name": "stdout",
     "output_type": "stream",
     "text": [
      "dict_values([0.0023890784982935156, 0.002389078498293515, 0.002389078498293515])\n",
      "testset size: 1717 minlap: 9.0 maxlap: 196.0\n",
      "model: acc={1.00}, mae={0.02}, rmse={0.21},r2={1.00}, top1_pred: {117}, top1_naive: {117}\n",
      "            naive: acc={1.00}, mae={0.02}, rmse={0.21},r2={1.00}, top1: {117}\n",
      "year: Pocono-2018 clf: xgb\n"
     ]
    },
    {
     "name": "stderr",
     "output_type": "stream",
     "text": [
      "/N/u/pengb/hpda/indycar/predictor/src/indycar/model/quicktest_modules.py:1703: RuntimeWarning: invalid value encountered in less_equal\n",
      "  * ((target <= quantile_forecast) - q)\n"
     ]
    },
    {
     "name": "stdout",
     "output_type": "stream",
     "text": [
      "dict_values([0.09590443686006826, 0.09590443686006826, 0.09590443686006826])\n",
      "testset size: 1717 minlap: 9.0 maxlap: 196.0\n",
      "model: acc={0.41}, mae={0.68}, rmse={1.44},r2={0.89}, top1_pred: {117}, top1_naive: {117}\n",
      "            naive: acc={1.00}, mae={0.02}, rmse={0.21},r2={1.00}, top1: {117}\n",
      "year: Pocono-2019 clf: currank\n"
     ]
    },
    {
     "name": "stderr",
     "output_type": "stream",
     "text": [
      "/N/u/pengb/hpda/indycar/predictor/src/indycar/model/quicktest_modules.py:1703: RuntimeWarning: invalid value encountered in less_equal\n",
      "  * ((target <= quantile_forecast) - q)\n"
     ]
    },
    {
     "name": "stdout",
     "output_type": "stream",
     "text": [
      "dict_values([0.0445611156685808, 0.1479901558654635, 0.25141919606234614])\n",
      "testset size: 776 minlap: 11 maxlap: 121\n",
      "model: acc={0.50}, mae={1.16}, rmse={1.82},r2={0.83}, top1_pred: {54}, top1_naive: {32}\n",
      "            naive: acc={0.84}, mae={0.27}, rmse={0.95},r2={0.95}, top1: {30}\n",
      "year: Pocono-2019 clf: rf\n"
     ]
    },
    {
     "name": "stderr",
     "output_type": "stream",
     "text": [
      "/N/u/pengb/hpda/indycar/predictor/src/indycar/model/quicktest_modules.py:1703: RuntimeWarning: invalid value encountered in less_equal\n",
      "  * ((target <= quantile_forecast) - q)\n"
     ]
    },
    {
     "name": "stdout",
     "output_type": "stream",
     "text": [
      "dict_values([0.10854799015586544, 0.21197703035274815, 0.3154060705496309])\n",
      "testset size: 776 minlap: 11.0 maxlap: 121.0\n",
      "model: acc={0.44}, mae={1.66}, rmse={2.45},r2={0.69}, top1_pred: {54}, top1_naive: {32}\n",
      "            naive: acc={0.84}, mae={0.27}, rmse={0.95},r2={0.95}, top1: {30}\n",
      "year: Pocono-2019 clf: svr\n"
     ]
    },
    {
     "name": "stderr",
     "output_type": "stream",
     "text": [
      "/N/u/pengb/hpda/indycar/predictor/src/indycar/model/quicktest_modules.py:1703: RuntimeWarning: invalid value encountered in less_equal\n",
      "  * ((target <= quantile_forecast) - q)\n"
     ]
    },
    {
     "name": "stdout",
     "output_type": "stream",
     "text": [
      "dict_values([0.04390484003281377, 0.14733388022969648, 0.2507629204265791])\n",
      "testset size: 776 minlap: 11.0 maxlap: 121.0\n",
      "model: acc={0.50}, mae={1.16}, rmse={1.83},r2={0.83}, top1_pred: {54}, top1_naive: {32}\n",
      "            naive: acc={0.84}, mae={0.27}, rmse={0.95},r2={0.95}, top1: {30}\n",
      "year: Pocono-2019 clf: xgb\n"
     ]
    },
    {
     "name": "stderr",
     "output_type": "stream",
     "text": [
      "/N/u/pengb/hpda/indycar/predictor/src/indycar/model/quicktest_modules.py:1703: RuntimeWarning: invalid value encountered in less_equal\n",
      "  * ((target <= quantile_forecast) - q)\n"
     ]
    },
    {
     "name": "stdout",
     "output_type": "stream",
     "text": [
      "dict_values([0.06818703855619361, 0.1716160787530763, 0.275045118949959])\n",
      "testset size: 776 minlap: 11.0 maxlap: 121.0\n",
      "model: acc={0.48}, mae={1.35}, rmse={2.01},r2={0.79}, top1_pred: {54}, top1_naive: {32}\n",
      "            naive: acc={0.84}, mae={0.27}, rmse={0.95},r2={0.95}, top1: {30}\n",
      "year: Iowa-2018 clf: currank\n"
     ]
    },
    {
     "name": "stderr",
     "output_type": "stream",
     "text": [
      "/N/u/pengb/hpda/indycar/predictor/src/indycar/model/quicktest_modules.py:1703: RuntimeWarning: invalid value encountered in less_equal\n",
      "  * ((target <= quantile_forecast) - q)\n"
     ]
    },
    {
     "name": "stdout",
     "output_type": "stream",
     "text": [
      "dict_values([0.00869637054579501, 0.008674340474748032, 0.008652310403701052])\n",
      "testset size: 2843 minlap: 9 maxlap: 197\n",
      "model: acc={0.99}, mae={0.10}, rmse={0.35},r2={1.00}, top1_pred: {138}, top1_naive: {138}\n",
      "            naive: acc={0.99}, mae={0.10}, rmse={0.35},r2={1.00}, top1: {138}\n",
      "year: Iowa-2018 clf: rf\n"
     ]
    },
    {
     "name": "stderr",
     "output_type": "stream",
     "text": [
      "/N/u/pengb/hpda/indycar/predictor/src/indycar/model/quicktest_modules.py:1703: RuntimeWarning: invalid value encountered in less_equal\n",
      "  * ((target <= quantile_forecast) - q)\n"
     ]
    },
    {
     "name": "stdout",
     "output_type": "stream",
     "text": [
      "dict_values([0.19633750068843975, 0.19631547061739274, 0.19629344054634573])\n",
      "testset size: 2843 minlap: 9.0 maxlap: 197.0\n",
      "model: acc={0.53}, mae={1.71}, rmse={2.61},r2={0.81}, top1_pred: {138}, top1_naive: {138}\n",
      "            naive: acc={0.99}, mae={0.10}, rmse={0.35},r2={1.00}, top1: {138}\n",
      "year: Iowa-2018 clf: svr\n"
     ]
    },
    {
     "name": "stderr",
     "output_type": "stream",
     "text": [
      "/N/u/pengb/hpda/indycar/predictor/src/indycar/model/quicktest_modules.py:1703: RuntimeWarning: invalid value encountered in less_equal\n",
      "  * ((target <= quantile_forecast) - q)\n"
     ]
    },
    {
     "name": "stdout",
     "output_type": "stream",
     "text": [
      "dict_values([0.00869637054579501, 0.008674340474748032, 0.008652310403701052])\n",
      "testset size: 2843 minlap: 9.0 maxlap: 197.0\n",
      "model: acc={0.99}, mae={0.10}, rmse={0.35},r2={1.00}, top1_pred: {138}, top1_naive: {138}\n",
      "            naive: acc={0.99}, mae={0.10}, rmse={0.35},r2={1.00}, top1: {138}\n",
      "year: Iowa-2018 clf: xgb\n"
     ]
    },
    {
     "name": "stderr",
     "output_type": "stream",
     "text": [
      "/N/u/pengb/hpda/indycar/predictor/src/indycar/model/quicktest_modules.py:1703: RuntimeWarning: invalid value encountered in less_equal\n",
      "  * ((target <= quantile_forecast) - q)\n"
     ]
    },
    {
     "name": "stdout",
     "output_type": "stream",
     "text": [
      "dict_values([0.4089276862917883, 0.4089056562207413, 0.40888362614969437])\n",
      "testset size: 2843 minlap: 9.0 maxlap: 197.0\n",
      "model: acc={0.06}, mae={3.87}, rmse={5.65},r2={0.10}, top1_pred: {138}, top1_naive: {138}\n",
      "            naive: acc={0.99}, mae={0.10}, rmse={0.35},r2={1.00}, top1: {138}\n",
      "year: Iowa-2019 clf: currank\n"
     ]
    },
    {
     "name": "stderr",
     "output_type": "stream",
     "text": [
      "/N/u/pengb/hpda/indycar/predictor/src/indycar/model/quicktest_modules.py:1703: RuntimeWarning: invalid value encountered in less_equal\n",
      "  * ((target <= quantile_forecast) - q)\n"
     ]
    },
    {
     "name": "stdout",
     "output_type": "stream",
     "text": [
      "dict_values([0.009990561911558206, 0.009990561911558206, 0.009990561911558206])\n",
      "testset size: 3143 minlap: 9 maxlap: 197\n",
      "model: acc={0.99}, mae={0.11}, rmse={0.39},r2={1.00}, top1_pred: {143}, top1_naive: {143}\n",
      "            naive: acc={0.99}, mae={0.11}, rmse={0.39},r2={1.00}, top1: {143}\n",
      "year: Iowa-2019 clf: rf\n"
     ]
    },
    {
     "name": "stderr",
     "output_type": "stream",
     "text": [
      "/N/u/pengb/hpda/indycar/predictor/src/indycar/model/quicktest_modules.py:1703: RuntimeWarning: invalid value encountered in less_equal\n",
      "  * ((target <= quantile_forecast) - q)\n"
     ]
    },
    {
     "name": "stdout",
     "output_type": "stream",
     "text": [
      "dict_values([0.16647867222209436, 0.16647867222209434, 0.16647867222209434])\n",
      "testset size: 3143 minlap: 9.0 maxlap: 197.0\n",
      "model: acc={0.48}, mae={1.45}, rmse={2.32},r2={0.87}, top1_pred: {143}, top1_naive: {143}\n",
      "            naive: acc={0.99}, mae={0.11}, rmse={0.39},r2={1.00}, top1: {143}\n",
      "year: Iowa-2019 clf: svr\n"
     ]
    },
    {
     "name": "stderr",
     "output_type": "stream",
     "text": [
      "/N/u/pengb/hpda/indycar/predictor/src/indycar/model/quicktest_modules.py:1703: RuntimeWarning: invalid value encountered in less_equal\n",
      "  * ((target <= quantile_forecast) - q)\n"
     ]
    },
    {
     "name": "stdout",
     "output_type": "stream",
     "text": [
      "dict_values([0.009990561911558206, 0.009990561911558206, 0.009990561911558206])\n",
      "testset size: 3143 minlap: 9.0 maxlap: 197.0\n",
      "model: acc={0.99}, mae={0.11}, rmse={0.39},r2={1.00}, top1_pred: {143}, top1_naive: {143}\n",
      "            naive: acc={0.99}, mae={0.11}, rmse={0.39},r2={1.00}, top1: {143}\n",
      "year: Iowa-2019 clf: xgb\n"
     ]
    },
    {
     "name": "stderr",
     "output_type": "stream",
     "text": [
      "/N/u/pengb/hpda/indycar/predictor/src/indycar/model/quicktest_modules.py:1703: RuntimeWarning: invalid value encountered in less_equal\n",
      "  * ((target <= quantile_forecast) - q)\n"
     ]
    },
    {
     "name": "stdout",
     "output_type": "stream",
     "text": [
      "dict_values([0.31979006008148986, 0.31979006008148986, 0.31979006008148986])\n",
      "testset size: 3143 minlap: 9.0 maxlap: 197.0\n",
      "model: acc={0.20}, mae={3.04}, rmse={4.91},r2={0.40}, top1_pred: {143}, top1_naive: {143}\n",
      "            naive: acc={0.99}, mae={0.11}, rmse={0.39},r2={1.00}, top1: {143}\n",
      "year: Gateway-2018 clf: currank\n"
     ]
    },
    {
     "name": "stderr",
     "output_type": "stream",
     "text": [
      "/N/u/pengb/hpda/indycar/predictor/src/indycar/model/quicktest_modules.py:1703: RuntimeWarning: invalid value encountered in less_equal\n",
      "  * ((target <= quantile_forecast) - q)\n"
     ]
    },
    {
     "name": "stdout",
     "output_type": "stream",
     "text": [
      "dict_values([0.004852312550544923, 0.004852312550544922, 0.004852312550544922])\n",
      "testset size: 2405 minlap: 9 maxlap: 197\n",
      "model: acc={1.00}, mae={0.04}, rmse={0.25},r2={1.00}, top1_pred: {121}, top1_naive: {121}\n",
      "            naive: acc={1.00}, mae={0.04}, rmse={0.25},r2={1.00}, top1: {121}\n",
      "year: Gateway-2018 clf: rf\n"
     ]
    },
    {
     "name": "stderr",
     "output_type": "stream",
     "text": [
      "/N/u/pengb/hpda/indycar/predictor/src/indycar/model/quicktest_modules.py:1703: RuntimeWarning: invalid value encountered in less_equal\n",
      "  * ((target <= quantile_forecast) - q)\n"
     ]
    },
    {
     "name": "stdout",
     "output_type": "stream",
     "text": [
      "dict_values([0.1245426887973197, 0.12454268879731968, 0.12454268879731968])\n",
      "testset size: 2405 minlap: 9.0 maxlap: 197.0\n",
      "model: acc={0.42}, mae={0.98}, rmse={1.64},r2={0.92}, top1_pred: {121}, top1_naive: {121}\n",
      "            naive: acc={1.00}, mae={0.04}, rmse={0.25},r2={1.00}, top1: {121}\n",
      "year: Gateway-2018 clf: svr\n"
     ]
    },
    {
     "name": "stderr",
     "output_type": "stream",
     "text": [
      "/N/u/pengb/hpda/indycar/predictor/src/indycar/model/quicktest_modules.py:1703: RuntimeWarning: invalid value encountered in less_equal\n",
      "  * ((target <= quantile_forecast) - q)\n"
     ]
    },
    {
     "name": "stdout",
     "output_type": "stream",
     "text": [
      "dict_values([0.004852312550544923, 0.004852312550544922, 0.004852312550544922])\n",
      "testset size: 2405 minlap: 9.0 maxlap: 197.0\n",
      "model: acc={1.00}, mae={0.04}, rmse={0.25},r2={1.00}, top1_pred: {121}, top1_naive: {121}\n",
      "            naive: acc={1.00}, mae={0.04}, rmse={0.25},r2={1.00}, top1: {121}\n",
      "year: Gateway-2018 clf: xgb\n"
     ]
    },
    {
     "name": "stderr",
     "output_type": "stream",
     "text": [
      "/N/u/pengb/hpda/indycar/predictor/src/indycar/model/quicktest_modules.py:1703: RuntimeWarning: invalid value encountered in less_equal\n",
      "  * ((target <= quantile_forecast) - q)\n"
     ]
    },
    {
     "name": "stdout",
     "output_type": "stream",
     "text": [
      "dict_values([0.2549389609889475, 0.2549389609889475, 0.2549389609889475])\n",
      "testset size: 2405 minlap: 9.0 maxlap: 197.0\n",
      "model: acc={0.12}, mae={2.18}, rmse={3.28},r2={0.67}, top1_pred: {121}, top1_naive: {121}\n",
      "            naive: acc={1.00}, mae={0.04}, rmse={0.25},r2={1.00}, top1: {121}\n",
      "year: Gateway-2019 clf: currank\n"
     ]
    },
    {
     "name": "stderr",
     "output_type": "stream",
     "text": [
      "/N/u/pengb/hpda/indycar/predictor/src/indycar/model/quicktest_modules.py:1703: RuntimeWarning: invalid value encountered in less_equal\n",
      "  * ((target <= quantile_forecast) - q)\n"
     ]
    },
    {
     "name": "stdout",
     "output_type": "stream",
     "text": [
      "dict_values([0.009814969923094495, 0.009784512297266429, 0.009754054671438363])\n",
      "testset size: 2189 minlap: 9 maxlap: 196\n",
      "model: acc={0.98}, mae={0.08}, rmse={0.42},r2={1.00}, top1_pred: {107}, top1_naive: {107}\n",
      "            naive: acc={0.98}, mae={0.08}, rmse={0.42},r2={1.00}, top1: {107}\n",
      "year: Gateway-2019 clf: rf\n"
     ]
    },
    {
     "name": "stderr",
     "output_type": "stream",
     "text": [
      "/N/u/pengb/hpda/indycar/predictor/src/indycar/model/quicktest_modules.py:1703: RuntimeWarning: invalid value encountered in less_equal\n",
      "  * ((target <= quantile_forecast) - q)\n"
     ]
    },
    {
     "name": "stdout",
     "output_type": "stream",
     "text": [
      "dict_values([0.2664204675245565, 0.2663900098987284, 0.2663595522729003])\n",
      "testset size: 2189 minlap: 9.0 maxlap: 196.0\n",
      "model: acc={0.16}, mae={2.45}, rmse={3.65},r2={0.63}, top1_pred: {107}, top1_naive: {107}\n",
      "            naive: acc={0.98}, mae={0.08}, rmse={0.42},r2={1.00}, top1: {107}\n",
      "year: Gateway-2019 clf: svr\n"
     ]
    },
    {
     "name": "stderr",
     "output_type": "stream",
     "text": [
      "/N/u/pengb/hpda/indycar/predictor/src/indycar/model/quicktest_modules.py:1703: RuntimeWarning: invalid value encountered in less_equal\n",
      "  * ((target <= quantile_forecast) - q)\n"
     ]
    },
    {
     "name": "stdout",
     "output_type": "stream",
     "text": [
      "dict_values([0.009814969923094495, 0.009784512297266429, 0.009754054671438363])\n",
      "testset size: 2189 minlap: 9.0 maxlap: 196.0\n",
      "model: acc={0.98}, mae={0.08}, rmse={0.42},r2={1.00}, top1_pred: {107}, top1_naive: {107}\n",
      "            naive: acc={0.98}, mae={0.08}, rmse={0.42},r2={1.00}, top1: {107}\n",
      "year: Gateway-2019 clf: xgb\n"
     ]
    },
    {
     "name": "stderr",
     "output_type": "stream",
     "text": [
      "/N/u/pengb/hpda/indycar/predictor/src/indycar/model/quicktest_modules.py:1703: RuntimeWarning: invalid value encountered in less_equal\n",
      "  * ((target <= quantile_forecast) - q)\n"
     ]
    },
    {
     "name": "stdout",
     "output_type": "stream",
     "text": [
      "dict_values([0.43492728241833556, 0.4348968247925074, 0.4348663671666793])\n",
      "testset size: 2189 minlap: 9.0 maxlap: 196.0\n",
      "model: acc={0.14}, mae={4.24}, rmse={6.02},r2={-0.02}, top1_pred: {107}, top1_naive: {107}\n",
      "            naive: acc={0.98}, mae={0.08}, rmse={0.42},r2={1.00}, top1: {107}\n",
      "year: Indy500-2018 clf: currank\n"
     ]
    },
    {
     "name": "stderr",
     "output_type": "stream",
     "text": [
      "/N/u/pengb/hpda/indycar/predictor/src/indycar/model/quicktest_modules.py:1703: RuntimeWarning: invalid value encountered in less_equal\n",
      "  * ((target <= quantile_forecast) - q)\n"
     ]
    },
    {
     "name": "stdout",
     "output_type": "stream",
     "text": [
      "dict_values([0.14742717065376787, 0.14740966096872332, 0.1473921512836788])\n",
      "testset size: 3384 minlap: 25 maxlap: 195\n",
      "model: acc={0.61}, mae={1.99}, rmse={4.05},r2={0.76}, top1_pred: {122}, top1_naive: {122}\n",
      "            naive: acc={0.61}, mae={2.02}, rmse={4.05},r2={0.76}, top1: {122}\n",
      "year: Indy500-2018 clf: rf\n"
     ]
    },
    {
     "name": "stderr",
     "output_type": "stream",
     "text": [
      "/N/u/pengb/hpda/indycar/predictor/src/indycar/model/quicktest_modules.py:1703: RuntimeWarning: invalid value encountered in less_equal\n",
      "  * ((target <= quantile_forecast) - q)\n"
     ]
    },
    {
     "name": "stdout",
     "output_type": "stream",
     "text": [
      "dict_values([0.16423646829652652, 0.16421895861148197, 0.16420144892643745])\n",
      "testset size: 3384 minlap: 25.0 maxlap: 195.0\n",
      "model: acc={0.43}, mae={2.22}, rmse={3.94},r2={0.77}, top1_pred: {122}, top1_naive: {122}\n",
      "            naive: acc={0.61}, mae={2.02}, rmse={4.05},r2={0.76}, top1: {122}\n",
      "year: Indy500-2018 clf: svr\n"
     ]
    },
    {
     "name": "stderr",
     "output_type": "stream",
     "text": [
      "/N/u/pengb/hpda/indycar/predictor/src/indycar/model/quicktest_modules.py:1703: RuntimeWarning: invalid value encountered in less_equal\n",
      "  * ((target <= quantile_forecast) - q)\n"
     ]
    },
    {
     "name": "stdout",
     "output_type": "stream",
     "text": [
      "dict_values([0.14742717065376787, 0.14740966096872332, 0.1473921512836788])\n",
      "testset size: 3384 minlap: 25.0 maxlap: 195.0\n",
      "model: acc={0.61}, mae={1.99}, rmse={4.05},r2={0.76}, top1_pred: {122}, top1_naive: {122}\n",
      "            naive: acc={0.61}, mae={2.02}, rmse={4.05},r2={0.76}, top1: {122}\n",
      "year: Indy500-2018 clf: xgb\n"
     ]
    },
    {
     "name": "stderr",
     "output_type": "stream",
     "text": [
      "/N/u/pengb/hpda/indycar/predictor/src/indycar/model/quicktest_modules.py:1703: RuntimeWarning: invalid value encountered in less_equal\n",
      "  * ((target <= quantile_forecast) - q)\n"
     ]
    },
    {
     "name": "stdout",
     "output_type": "stream",
     "text": [
      "dict_values([0.1625730482172952, 0.16255553853225066, 0.16253802884720608])\n",
      "testset size: 3384 minlap: 25.0 maxlap: 195.0\n",
      "model: acc={0.41}, mae={2.19}, rmse={3.99},r2={0.76}, top1_pred: {122}, top1_naive: {122}\n",
      "            naive: acc={0.61}, mae={2.02}, rmse={4.05},r2={0.76}, top1: {122}\n",
      "year: Indy500-2019 clf: currank\n"
     ]
    },
    {
     "name": "stderr",
     "output_type": "stream",
     "text": [
      "/N/u/pengb/hpda/indycar/predictor/src/indycar/model/quicktest_modules.py:1703: RuntimeWarning: invalid value encountered in less_equal\n",
      "  * ((target <= quantile_forecast) - q)\n"
     ]
    },
    {
     "name": "stdout",
     "output_type": "stream",
     "text": [
      "dict_values([0.14355885078776645, 0.14355885078776645, 0.14355885078776645])\n",
      "testset size: 2969 minlap: 28 maxlap: 183\n",
      "model: acc={0.55}, mae={2.09}, rmse={4.17},r2={0.77}, top1_pred: {99}, top1_naive: {99}\n",
      "            naive: acc={0.55}, mae={2.13}, rmse={4.20},r2={0.77}, top1: {99}\n",
      "year: Indy500-2019 clf: rf\n"
     ]
    },
    {
     "name": "stderr",
     "output_type": "stream",
     "text": [
      "/N/u/pengb/hpda/indycar/predictor/src/indycar/model/quicktest_modules.py:1703: RuntimeWarning: invalid value encountered in less_equal\n",
      "  * ((target <= quantile_forecast) - q)\n"
     ]
    },
    {
     "name": "stdout",
     "output_type": "stream",
     "text": [
      "dict_values([0.14777571825764596, 0.14777571825764596, 0.14777571825764596])\n",
      "testset size: 2969 minlap: 28.0 maxlap: 183.0\n",
      "model: acc={0.48}, mae={2.15}, rmse={3.88},r2={0.80}, top1_pred: {99}, top1_naive: {99}\n",
      "            naive: acc={0.55}, mae={2.13}, rmse={4.20},r2={0.77}, top1: {99}\n",
      "year: Indy500-2019 clf: svr\n"
     ]
    },
    {
     "name": "stderr",
     "output_type": "stream",
     "text": [
      "/N/u/pengb/hpda/indycar/predictor/src/indycar/model/quicktest_modules.py:1703: RuntimeWarning: invalid value encountered in less_equal\n",
      "  * ((target <= quantile_forecast) - q)\n"
     ]
    },
    {
     "name": "stdout",
     "output_type": "stream",
     "text": [
      "dict_values([0.14355885078776645, 0.14355885078776645, 0.14355885078776645])\n",
      "testset size: 2969 minlap: 28.0 maxlap: 183.0\n",
      "model: acc={0.55}, mae={2.09}, rmse={4.17},r2={0.77}, top1_pred: {99}, top1_naive: {99}\n",
      "            naive: acc={0.55}, mae={2.13}, rmse={4.20},r2={0.77}, top1: {99}\n",
      "year: Indy500-2019 clf: xgb\n"
     ]
    },
    {
     "name": "stderr",
     "output_type": "stream",
     "text": [
      "/N/u/pengb/hpda/indycar/predictor/src/indycar/model/quicktest_modules.py:1703: RuntimeWarning: invalid value encountered in less_equal\n",
      "  * ((target <= quantile_forecast) - q)\n"
     ]
    },
    {
     "name": "stdout",
     "output_type": "stream",
     "text": [
      "dict_values([0.14615384615384613, 0.14615384615384616, 0.14615384615384616])\n",
      "testset size: 2969 minlap: 28.0 maxlap: 183.0\n",
      "model: acc={0.54}, mae={2.12}, rmse={3.91},r2={0.80}, top1_pred: {99}, top1_naive: {99}\n",
      "            naive: acc={0.55}, mae={2.13}, rmse={4.20},r2={0.77}, top1: {99}\n",
      "year: Phoenix-2018 clf: currank\n"
     ]
    },
    {
     "name": "stderr",
     "output_type": "stream",
     "text": [
      "/N/u/pengb/hpda/indycar/predictor/src/indycar/model/quicktest_modules.py:1703: RuntimeWarning: invalid value encountered in less_equal\n",
      "  * ((target <= quantile_forecast) - q)\n"
     ]
    },
    {
     "name": "stdout",
     "output_type": "stream",
     "text": [
      "dict_values([0.1010935354254616, 0.10101215604496211, 0.10093077666446265])\n",
      "testset size: 1454 minlap: 39 maxlap: 238\n",
      "model: acc={0.73}, mae={1.33}, rmse={2.80},r2={0.79}, top1_pred: {70}, top1_naive: {70}\n",
      "            naive: acc={0.73}, mae={1.35}, rmse={2.80},r2={0.79}, top1: {70}\n",
      "year: Phoenix-2018 clf: rf\n"
     ]
    },
    {
     "name": "stderr",
     "output_type": "stream",
     "text": [
      "/N/u/pengb/hpda/indycar/predictor/src/indycar/model/quicktest_modules.py:1703: RuntimeWarning: invalid value encountered in less_equal\n",
      "  * ((target <= quantile_forecast) - q)\n"
     ]
    },
    {
     "name": "stdout",
     "output_type": "stream",
     "text": [
      "dict_values([0.3009816387772748, 0.30090025939677534, 0.3008188800162759])\n",
      "testset size: 1454 minlap: 39.0 maxlap: 238.0\n",
      "model: acc={0.34}, mae={3.07}, rmse={4.42},r2={0.47}, top1_pred: {70}, top1_naive: {70}\n",
      "            naive: acc={0.73}, mae={1.35}, rmse={2.80},r2={0.79}, top1: {70}\n",
      "year: Phoenix-2018 clf: svr\n"
     ]
    },
    {
     "name": "stderr",
     "output_type": "stream",
     "text": [
      "/N/u/pengb/hpda/indycar/predictor/src/indycar/model/quicktest_modules.py:1703: RuntimeWarning: invalid value encountered in less_equal\n",
      "  * ((target <= quantile_forecast) - q)\n"
     ]
    },
    {
     "name": "stdout",
     "output_type": "stream",
     "text": [
      "dict_values([0.10099181119983724, 0.10091043181933777, 0.1008290524388383])\n",
      "testset size: 1454 minlap: 39.0 maxlap: 238.0\n",
      "model: acc={0.73}, mae={1.33}, rmse={2.80},r2={0.79}, top1_pred: {70}, top1_naive: {70}\n",
      "            naive: acc={0.73}, mae={1.35}, rmse={2.80},r2={0.79}, top1: {70}\n",
      "year: Phoenix-2018 clf: xgb\n"
     ]
    },
    {
     "name": "stderr",
     "output_type": "stream",
     "text": [
      "/N/u/pengb/hpda/indycar/predictor/src/indycar/model/quicktest_modules.py:1703: RuntimeWarning: invalid value encountered in less_equal\n",
      "  * ((target <= quantile_forecast) - q)\n"
     ]
    },
    {
     "name": "stdout",
     "output_type": "stream",
     "text": [
      "dict_values([0.47950765474797824, 0.4794262753674788, 0.4793448959869792])\n",
      "testset size: 1454 minlap: 39.0 maxlap: 238.0\n",
      "model: acc={0.11}, mae={4.67}, rmse={6.26},r2={-0.07}, top1_pred: {70}, top1_naive: {70}\n",
      "            naive: acc={0.73}, mae={1.35}, rmse={2.80},r2={0.79}, top1: {70}\n",
      "year: Texas-2018 clf: currank\n"
     ]
    },
    {
     "name": "stderr",
     "output_type": "stream",
     "text": [
      "/N/u/pengb/hpda/indycar/predictor/src/indycar/model/quicktest_modules.py:1703: RuntimeWarning: invalid value encountered in less_equal\n",
      "  * ((target <= quantile_forecast) - q)\n"
     ]
    },
    {
     "name": "stdout",
     "output_type": "stream",
     "text": [
      "dict_values([0.08202587393338841, 0.08202587393338838, 0.08202587393338838])\n",
      "testset size: 2063 minlap: 23 maxlap: 229\n",
      "model: acc={0.85}, mae={0.86}, rmse={2.17},r2={0.85}, top1_pred: {108}, top1_naive: {108}\n",
      "            naive: acc={0.85}, mae={0.88}, rmse={2.17},r2={0.85}, top1: {108}\n",
      "year: Texas-2018 clf: rf\n"
     ]
    },
    {
     "name": "stderr",
     "output_type": "stream",
     "text": [
      "/N/u/pengb/hpda/indycar/predictor/src/indycar/model/quicktest_modules.py:1703: RuntimeWarning: invalid value encountered in less_equal\n",
      "  * ((target <= quantile_forecast) - q)\n"
     ]
    },
    {
     "name": "stdout",
     "output_type": "stream",
     "text": [
      "dict_values([0.2784659143040646, 0.2784659143040646, 0.2784659143040646])\n",
      "testset size: 2063 minlap: 23.0 maxlap: 229.0\n",
      "model: acc={0.44}, mae={2.69}, rmse={3.98},r2={0.50}, top1_pred: {108}, top1_naive: {108}\n",
      "            naive: acc={0.85}, mae={0.88}, rmse={2.17},r2={0.85}, top1: {108}\n",
      "year: Texas-2018 clf: svr\n"
     ]
    },
    {
     "name": "stderr",
     "output_type": "stream",
     "text": [
      "/N/u/pengb/hpda/indycar/predictor/src/indycar/model/quicktest_modules.py:1703: RuntimeWarning: invalid value encountered in less_equal\n",
      "  * ((target <= quantile_forecast) - q)\n"
     ]
    },
    {
     "name": "stdout",
     "output_type": "stream",
     "text": [
      "dict_values([0.08202587393338841, 0.08202587393338838, 0.08202587393338838])\n",
      "testset size: 2063 minlap: 23.0 maxlap: 229.0\n",
      "model: acc={0.85}, mae={0.86}, rmse={2.17},r2={0.85}, top1_pred: {108}, top1_naive: {108}\n",
      "            naive: acc={0.85}, mae={0.88}, rmse={2.17},r2={0.85}, top1: {108}\n",
      "year: Texas-2018 clf: xgb\n"
     ]
    },
    {
     "name": "stderr",
     "output_type": "stream",
     "text": [
      "/N/u/pengb/hpda/indycar/predictor/src/indycar/model/quicktest_modules.py:1703: RuntimeWarning: invalid value encountered in less_equal\n",
      "  * ((target <= quantile_forecast) - q)\n"
     ]
    },
    {
     "name": "stdout",
     "output_type": "stream",
     "text": [
      "dict_values([0.4928892558950362, 0.49288925589503624, 0.4928892558950362])\n",
      "testset size: 2063 minlap: 23.0 maxlap: 229.0\n",
      "model: acc={0.06}, mae={4.82}, rmse={6.55},r2={-0.37}, top1_pred: {108}, top1_naive: {108}\n",
      "            naive: acc={0.85}, mae={0.88}, rmse={2.17},r2={0.85}, top1: {108}\n",
      "year: Texas-2019 clf: currank\n"
     ]
    },
    {
     "name": "stderr",
     "output_type": "stream",
     "text": [
      "/N/u/pengb/hpda/indycar/predictor/src/indycar/model/quicktest_modules.py:1703: RuntimeWarning: invalid value encountered in less_equal\n",
      "  * ((target <= quantile_forecast) - q)\n"
     ]
    },
    {
     "name": "stdout",
     "output_type": "stream",
     "text": [
      "dict_values([0.07771790181440649, 0.07771790181440649, 0.07771790181440649])\n",
      "testset size: 1657 minlap: 36 maxlap: 230\n",
      "model: acc={0.79}, mae={0.91}, rmse={2.14},r2={0.86}, top1_pred: {84}, top1_naive: {84}\n",
      "            naive: acc={0.79}, mae={0.94}, rmse={2.15},r2={0.86}, top1: {84}\n",
      "year: Texas-2019 clf: rf\n"
     ]
    },
    {
     "name": "stderr",
     "output_type": "stream",
     "text": [
      "/N/u/pengb/hpda/indycar/predictor/src/indycar/model/quicktest_modules.py:1703: RuntimeWarning: invalid value encountered in less_equal\n",
      "  * ((target <= quantile_forecast) - q)\n"
     ]
    },
    {
     "name": "stdout",
     "output_type": "stream",
     "text": [
      "dict_values([0.2867454392643497, 0.28674543926434964, 0.2867454392643496])\n",
      "testset size: 1657 minlap: 36.0 maxlap: 230.0\n",
      "model: acc={0.25}, mae={2.39}, rmse={3.58},r2={0.62}, top1_pred: {84}, top1_naive: {84}\n",
      "            naive: acc={0.79}, mae={0.94}, rmse={2.15},r2={0.86}, top1: {84}\n",
      "year: Texas-2019 clf: svr\n"
     ]
    },
    {
     "name": "stderr",
     "output_type": "stream",
     "text": [
      "/N/u/pengb/hpda/indycar/predictor/src/indycar/model/quicktest_modules.py:1703: RuntimeWarning: invalid value encountered in less_equal\n",
      "  * ((target <= quantile_forecast) - q)\n"
     ]
    },
    {
     "name": "stdout",
     "output_type": "stream",
     "text": [
      "dict_values([0.07771790181440649, 0.07771790181440649, 0.07771790181440649])\n",
      "testset size: 1657 minlap: 36.0 maxlap: 230.0\n",
      "model: acc={0.79}, mae={0.91}, rmse={2.14},r2={0.86}, top1_pred: {84}, top1_naive: {84}\n",
      "            naive: acc={0.79}, mae={0.94}, rmse={2.15},r2={0.86}, top1: {84}\n",
      "year: Texas-2019 clf: xgb\n"
     ]
    },
    {
     "name": "stderr",
     "output_type": "stream",
     "text": [
      "/N/u/pengb/hpda/indycar/predictor/src/indycar/model/quicktest_modules.py:1703: RuntimeWarning: invalid value encountered in less_equal\n",
      "  * ((target <= quantile_forecast) - q)\n"
     ]
    },
    {
     "name": "stdout",
     "output_type": "stream",
     "text": [
      "dict_values([0.4709546645572749, 0.4709546645572749, 0.470954664557275])\n",
      "testset size: 1657 minlap: 36.0 maxlap: 230.0\n",
      "model: acc={0.30}, mae={4.31}, rmse={5.96},r2={-0.06}, top1_pred: {84}, top1_naive: {84}\n",
      "            naive: acc={0.79}, mae={0.94}, rmse={2.15},r2={0.86}, top1: {84}\n",
      "year: Pocono-2018 clf: currank\n"
     ]
    },
    {
     "name": "stderr",
     "output_type": "stream",
     "text": [
      "/N/u/pengb/hpda/indycar/predictor/src/indycar/model/quicktest_modules.py:1703: RuntimeWarning: invalid value encountered in less_equal\n",
      "  * ((target <= quantile_forecast) - q)\n"
     ]
    },
    {
     "name": "stdout",
     "output_type": "stream",
     "text": [
      "dict_values([0.09362522373674792, 0.0936252237367479, 0.09362522373674788])\n",
      "testset size: 1051 minlap: 12 maxlap: 182\n",
      "model: acc={0.77}, mae={0.65}, rmse={1.52},r2={0.87}, top1_pred: {71}, top1_naive: {71}\n",
      "            naive: acc={0.77}, mae={0.66}, rmse={1.52},r2={0.87}, top1: {71}\n",
      "year: Pocono-2018 clf: rf\n"
     ]
    },
    {
     "name": "stderr",
     "output_type": "stream",
     "text": [
      "/N/u/pengb/hpda/indycar/predictor/src/indycar/model/quicktest_modules.py:1703: RuntimeWarning: invalid value encountered in less_equal\n",
      "  * ((target <= quantile_forecast) - q)\n"
     ]
    },
    {
     "name": "stdout",
     "output_type": "stream",
     "text": [
      "dict_values([0.3042819771444307, 0.30428197714443067, 0.30428197714443067])\n",
      "testset size: 1051 minlap: 12.0 maxlap: 182.0\n",
      "model: acc={0.35}, mae={2.10}, rmse={3.01},r2={0.51}, top1_pred: {71}, top1_naive: {71}\n",
      "            naive: acc={0.77}, mae={0.66}, rmse={1.52},r2={0.87}, top1: {71}\n",
      "year: Pocono-2018 clf: svr\n"
     ]
    },
    {
     "name": "stderr",
     "output_type": "stream",
     "text": [
      "/N/u/pengb/hpda/indycar/predictor/src/indycar/model/quicktest_modules.py:1703: RuntimeWarning: invalid value encountered in less_equal\n",
      "  * ((target <= quantile_forecast) - q)\n"
     ]
    },
    {
     "name": "stdout",
     "output_type": "stream",
     "text": [
      "dict_values([0.09362522373674792, 0.0936252237367479, 0.09362522373674788])\n",
      "testset size: 1051 minlap: 12.0 maxlap: 182.0\n",
      "model: acc={0.77}, mae={0.65}, rmse={1.52},r2={0.87}, top1_pred: {71}, top1_naive: {71}\n",
      "            naive: acc={0.77}, mae={0.66}, rmse={1.52},r2={0.87}, top1: {71}\n",
      "year: Pocono-2018 clf: xgb\n"
     ]
    },
    {
     "name": "stderr",
     "output_type": "stream",
     "text": [
      "/N/u/pengb/hpda/indycar/predictor/src/indycar/model/quicktest_modules.py:1703: RuntimeWarning: invalid value encountered in less_equal\n",
      "  * ((target <= quantile_forecast) - q)\n"
     ]
    },
    {
     "name": "stdout",
     "output_type": "stream",
     "text": [
      "dict_values([0.21891780256092525, 0.21891780256092525, 0.21891780256092525])\n",
      "testset size: 1051 minlap: 12.0 maxlap: 182.0\n",
      "model: acc={0.27}, mae={1.51}, rmse={2.41},r2={0.68}, top1_pred: {71}, top1_naive: {71}\n",
      "            naive: acc={0.77}, mae={0.66}, rmse={1.52},r2={0.87}, top1: {71}\n",
      "year: Pocono-2019 clf: currank\n"
     ]
    },
    {
     "name": "stderr",
     "output_type": "stream",
     "text": [
      "/N/u/pengb/hpda/indycar/predictor/src/indycar/model/quicktest_modules.py:1703: RuntimeWarning: invalid value encountered in less_equal\n",
      "  * ((target <= quantile_forecast) - q)\n"
     ]
    },
    {
     "name": "stdout",
     "output_type": "stream",
     "text": [
      "dict_values([0.12144702842377263, 0.15680674554603563, 0.19216646266829865])\n",
      "testset size: 951 minlap: 9 maxlap: 122\n",
      "model: acc={0.63}, mae={1.23}, rmse={2.12},r2={0.80}, top1_pred: {60}, top1_naive: {46}\n",
      "            naive: acc={0.74}, mae={0.98}, rmse={1.99},r2={0.84}, top1: {48}\n",
      "year: Pocono-2019 clf: rf\n"
     ]
    },
    {
     "name": "stderr",
     "output_type": "stream",
     "text": [
      "/N/u/pengb/hpda/indycar/predictor/src/indycar/model/quicktest_modules.py:1703: RuntimeWarning: invalid value encountered in less_equal\n",
      "  * ((target <= quantile_forecast) - q)\n"
     ]
    },
    {
     "name": "stdout",
     "output_type": "stream",
     "text": [
      "dict_values([0.29552563579491364, 0.3308853529171767, 0.36624507003943974])\n",
      "testset size: 951 minlap: 9.0 maxlap: 122.0\n",
      "model: acc={0.35}, mae={2.60}, rmse={3.82},r2={0.36}, top1_pred: {60}, top1_naive: {46}\n",
      "            naive: acc={0.74}, mae={0.98}, rmse={1.99},r2={0.84}, top1: {48}\n",
      "year: Pocono-2019 clf: svr\n"
     ]
    },
    {
     "name": "stderr",
     "output_type": "stream",
     "text": [
      "/N/u/pengb/hpda/indycar/predictor/src/indycar/model/quicktest_modules.py:1703: RuntimeWarning: invalid value encountered in less_equal\n",
      "  * ((target <= quantile_forecast) - q)\n"
     ]
    },
    {
     "name": "stdout",
     "output_type": "stream",
     "text": [
      "dict_values([0.12144702842377261, 0.15680674554603563, 0.19216646266829865])\n",
      "testset size: 951 minlap: 9.0 maxlap: 122.0\n",
      "model: acc={0.63}, mae={1.23}, rmse={2.12},r2={0.80}, top1_pred: {60}, top1_naive: {46}\n",
      "            naive: acc={0.74}, mae={0.98}, rmse={1.99},r2={0.84}, top1: {48}\n",
      "year: Pocono-2019 clf: xgb\n"
     ]
    },
    {
     "name": "stderr",
     "output_type": "stream",
     "text": [
      "/N/u/pengb/hpda/indycar/predictor/src/indycar/model/quicktest_modules.py:1703: RuntimeWarning: invalid value encountered in less_equal\n",
      "  * ((target <= quantile_forecast) - q)\n"
     ]
    },
    {
     "name": "stdout",
     "output_type": "stream",
     "text": [
      "dict_values([0.2112063103495172, 0.24656602747178022, 0.28192574459404324])\n",
      "testset size: 951 minlap: 9.0 maxlap: 122.0\n",
      "model: acc={0.50}, mae={1.94}, rmse={2.84},r2={0.64}, top1_pred: {60}, top1_naive: {46}\n",
      "            naive: acc={0.74}, mae={0.98}, rmse={1.99},r2={0.84}, top1: {48}\n",
      "year: Iowa-2018 clf: currank\n"
     ]
    },
    {
     "name": "stderr",
     "output_type": "stream",
     "text": [
      "/N/u/pengb/hpda/indycar/predictor/src/indycar/model/quicktest_modules.py:1703: RuntimeWarning: invalid value encountered in less_equal\n",
      "  * ((target <= quantile_forecast) - q)\n"
     ]
    },
    {
     "name": "stdout",
     "output_type": "stream",
     "text": [
      "dict_values([0.04481913820435221, 0.04481913820435221, 0.04481913820435221])\n",
      "testset size: 2023 minlap: 36 maxlap: 295\n",
      "model: acc={0.96}, mae={0.59}, rmse={1.61},r2={0.92}, top1_pred: {103}, top1_naive: {103}\n",
      "            naive: acc={0.96}, mae={0.59}, rmse={1.61},r2={0.92}, top1: {103}\n",
      "year: Iowa-2018 clf: rf\n"
     ]
    },
    {
     "name": "stderr",
     "output_type": "stream",
     "text": [
      "/N/u/pengb/hpda/indycar/predictor/src/indycar/model/quicktest_modules.py:1703: RuntimeWarning: invalid value encountered in less_equal\n",
      "  * ((target <= quantile_forecast) - q)\n"
     ]
    },
    {
     "name": "stdout",
     "output_type": "stream",
     "text": [
      "dict_values([0.2565211125522409, 0.25652111255224097, 0.256521112552241])\n",
      "testset size: 2023 minlap: 36.0 maxlap: 295.0\n",
      "model: acc={0.50}, mae={2.37}, rmse={3.48},r2={0.64}, top1_pred: {103}, top1_naive: {103}\n",
      "            naive: acc={0.96}, mae={0.59}, rmse={1.61},r2={0.92}, top1: {103}\n",
      "year: Iowa-2018 clf: svr\n"
     ]
    },
    {
     "name": "stderr",
     "output_type": "stream",
     "text": [
      "/N/u/pengb/hpda/indycar/predictor/src/indycar/model/quicktest_modules.py:1703: RuntimeWarning: invalid value encountered in less_equal\n",
      "  * ((target <= quantile_forecast) - q)\n"
     ]
    },
    {
     "name": "stdout",
     "output_type": "stream",
     "text": [
      "dict_values([0.04481913820435221, 0.04481913820435221, 0.04481913820435221])\n",
      "testset size: 2023 minlap: 36.0 maxlap: 295.0\n",
      "model: acc={0.96}, mae={0.59}, rmse={1.61},r2={0.92}, top1_pred: {103}, top1_naive: {103}\n",
      "            naive: acc={0.96}, mae={0.59}, rmse={1.61},r2={0.92}, top1: {103}\n",
      "year: Iowa-2018 clf: xgb\n"
     ]
    },
    {
     "name": "stderr",
     "output_type": "stream",
     "text": [
      "/N/u/pengb/hpda/indycar/predictor/src/indycar/model/quicktest_modules.py:1703: RuntimeWarning: invalid value encountered in less_equal\n",
      "  * ((target <= quantile_forecast) - q)\n"
     ]
    },
    {
     "name": "stdout",
     "output_type": "stream",
     "text": [
      "dict_values([0.47333909785271655, 0.47333909785271655, 0.4733390978527166])\n",
      "testset size: 2023 minlap: 36.0 maxlap: 295.0\n",
      "model: acc={0.08}, mae={4.58}, rmse={6.18},r2={-0.13}, top1_pred: {103}, top1_naive: {103}\n",
      "            naive: acc={0.96}, mae={0.59}, rmse={1.61},r2={0.92}, top1: {103}\n",
      "year: Iowa-2019 clf: currank\n"
     ]
    },
    {
     "name": "stderr",
     "output_type": "stream",
     "text": [
      "/N/u/pengb/hpda/indycar/predictor/src/indycar/model/quicktest_modules.py:1703: RuntimeWarning: invalid value encountered in less_equal\n",
      "  * ((target <= quantile_forecast) - q)\n"
     ]
    },
    {
     "name": "stdout",
     "output_type": "stream",
     "text": [
      "dict_values([0.0735222184595703, 0.0735222184595703, 0.07352221845957031])\n",
      "testset size: 1608 minlap: 14 maxlap: 274\n",
      "model: acc={0.90}, mae={1.16}, rmse={2.51},r2={0.83}, top1_pred: {78}, top1_naive: {78}\n",
      "            naive: acc={0.90}, mae={1.17}, rmse={2.52},r2={0.83}, top1: {78}\n",
      "year: Iowa-2019 clf: rf\n"
     ]
    },
    {
     "name": "stderr",
     "output_type": "stream",
     "text": [
      "/N/u/pengb/hpda/indycar/predictor/src/indycar/model/quicktest_modules.py:1703: RuntimeWarning: invalid value encountered in less_equal\n",
      "  * ((target <= quantile_forecast) - q)\n"
     ]
    },
    {
     "name": "stdout",
     "output_type": "stream",
     "text": [
      "dict_values([0.2441208563795763, 0.2441208563795763, 0.2441208563795763])\n",
      "testset size: 1608 minlap: 14.0 maxlap: 274.0\n",
      "model: acc={0.38}, mae={2.35}, rmse={3.54},r2={0.66}, top1_pred: {78}, top1_naive: {78}\n",
      "            naive: acc={0.90}, mae={1.17}, rmse={2.52},r2={0.83}, top1: {78}\n",
      "year: Iowa-2019 clf: svr\n"
     ]
    },
    {
     "name": "stderr",
     "output_type": "stream",
     "text": [
      "/N/u/pengb/hpda/indycar/predictor/src/indycar/model/quicktest_modules.py:1703: RuntimeWarning: invalid value encountered in less_equal\n",
      "  * ((target <= quantile_forecast) - q)\n"
     ]
    },
    {
     "name": "stdout",
     "output_type": "stream",
     "text": [
      "dict_values([0.0735222184595703, 0.0735222184595703, 0.07352221845957031])\n",
      "testset size: 1608 minlap: 14.0 maxlap: 274.0\n",
      "model: acc={0.90}, mae={1.16}, rmse={2.51},r2={0.83}, top1_pred: {78}, top1_naive: {78}\n",
      "            naive: acc={0.90}, mae={1.17}, rmse={2.52},r2={0.83}, top1: {78}\n",
      "year: Iowa-2019 clf: xgb\n"
     ]
    },
    {
     "name": "stderr",
     "output_type": "stream",
     "text": [
      "/N/u/pengb/hpda/indycar/predictor/src/indycar/model/quicktest_modules.py:1703: RuntimeWarning: invalid value encountered in less_equal\n",
      "  * ((target <= quantile_forecast) - q)\n"
     ]
    },
    {
     "name": "stdout",
     "output_type": "stream",
     "text": [
      "dict_values([0.4071189374270986, 0.4071189374270986, 0.4071189374270986])\n",
      "testset size: 1608 minlap: 14.0 maxlap: 274.0\n",
      "model: acc={0.09}, mae={4.03}, rmse={5.83},r2={0.07}, top1_pred: {78}, top1_naive: {78}\n",
      "            naive: acc={0.90}, mae={1.17}, rmse={2.52},r2={0.83}, top1: {78}\n",
      "year: Gateway-2018 clf: currank\n"
     ]
    },
    {
     "name": "stderr",
     "output_type": "stream",
     "text": [
      "/N/u/pengb/hpda/indycar/predictor/src/indycar/model/quicktest_modules.py:1703: RuntimeWarning: invalid value encountered in less_equal\n",
      "  * ((target <= quantile_forecast) - q)\n"
     ]
    },
    {
     "name": "stdout",
     "output_type": "stream",
     "text": [
      "dict_values([0.07219521872830076, 0.07211586152167444, 0.07203650431504811])\n",
      "testset size: 1814 minlap: 50 maxlap: 244\n",
      "model: acc={0.79}, mae={0.78}, rmse={1.83},r2={0.89}, top1_pred: {94}, top1_naive: {94}\n",
      "            naive: acc={0.79}, mae={0.78}, rmse={1.83},r2={0.89}, top1: {94}\n",
      "year: Gateway-2018 clf: rf\n"
     ]
    },
    {
     "name": "stderr",
     "output_type": "stream",
     "text": [
      "/N/u/pengb/hpda/indycar/predictor/src/indycar/model/quicktest_modules.py:1703: RuntimeWarning: invalid value encountered in less_equal\n",
      "  * ((target <= quantile_forecast) - q)\n"
     ]
    },
    {
     "name": "stdout",
     "output_type": "stream",
     "text": [
      "dict_values([0.30153754587838505, 0.3014581886717588, 0.30137883146513245])\n",
      "testset size: 1814 minlap: 50.0 maxlap: 244.0\n",
      "model: acc={0.54}, mae={2.86}, rmse={4.06},r2={0.48}, top1_pred: {94}, top1_naive: {94}\n",
      "            naive: acc={0.79}, mae={0.78}, rmse={1.83},r2={0.89}, top1: {94}\n",
      "year: Gateway-2018 clf: svr\n"
     ]
    },
    {
     "name": "stderr",
     "output_type": "stream",
     "text": [
      "/N/u/pengb/hpda/indycar/predictor/src/indycar/model/quicktest_modules.py:1703: RuntimeWarning: invalid value encountered in less_equal\n",
      "  * ((target <= quantile_forecast) - q)\n"
     ]
    },
    {
     "name": "stdout",
     "output_type": "stream",
     "text": [
      "dict_values([0.07229441523658367, 0.07221505802995734, 0.07213570082333103])\n",
      "testset size: 1814 minlap: 50.0 maxlap: 244.0\n",
      "model: acc={0.79}, mae={0.78}, rmse={1.83},r2={0.89}, top1_pred: {94}, top1_naive: {94}\n",
      "            naive: acc={0.79}, mae={0.78}, rmse={1.83},r2={0.89}, top1: {94}\n",
      "year: Gateway-2018 clf: xgb\n"
     ]
    },
    {
     "name": "stderr",
     "output_type": "stream",
     "text": [
      "/N/u/pengb/hpda/indycar/predictor/src/indycar/model/quicktest_modules.py:1703: RuntimeWarning: invalid value encountered in less_equal\n",
      "  * ((target <= quantile_forecast) - q)\n"
     ]
    },
    {
     "name": "stdout",
     "output_type": "stream",
     "text": [
      "dict_values([0.5773038389048706, 0.5772244816982443, 0.5771451244916179])\n",
      "testset size: 1814 minlap: 50.0 maxlap: 244.0\n",
      "model: acc={0.16}, mae={5.66}, rmse={7.23},r2={-0.64}, top1_pred: {94}, top1_naive: {94}\n",
      "            naive: acc={0.79}, mae={0.78}, rmse={1.83},r2={0.89}, top1: {94}\n",
      "year: Gateway-2019 clf: currank\n"
     ]
    },
    {
     "name": "stderr",
     "output_type": "stream",
     "text": [
      "/N/u/pengb/hpda/indycar/predictor/src/indycar/model/quicktest_modules.py:1703: RuntimeWarning: invalid value encountered in less_equal\n",
      "  * ((target <= quantile_forecast) - q)\n"
     ]
    },
    {
     "name": "stdout",
     "output_type": "stream",
     "text": [
      "dict_values([0.08766909469302811, 0.0876690946930281, 0.08766909469302808])\n",
      "testset size: 1870 minlap: 40 maxlap: 226\n",
      "model: acc={0.81}, mae={1.04}, rmse={2.26},r2={0.85}, top1_pred: {93}, top1_naive: {93}\n",
      "            naive: acc={0.81}, mae={1.06}, rmse={2.28},r2={0.85}, top1: {93}\n",
      "year: Gateway-2019 clf: rf\n"
     ]
    },
    {
     "name": "stderr",
     "output_type": "stream",
     "text": [
      "/N/u/pengb/hpda/indycar/predictor/src/indycar/model/quicktest_modules.py:1703: RuntimeWarning: invalid value encountered in less_equal\n",
      "  * ((target <= quantile_forecast) - q)\n"
     ]
    },
    {
     "name": "stdout",
     "output_type": "stream",
     "text": [
      "dict_values([0.3232743669788415, 0.3232743669788415, 0.32327436697884154])\n",
      "testset size: 1870 minlap: 40.0 maxlap: 226.0\n",
      "model: acc={0.34}, mae={3.10}, rmse={4.42},r2={0.43}, top1_pred: {93}, top1_naive: {93}\n",
      "            naive: acc={0.81}, mae={1.06}, rmse={2.28},r2={0.85}, top1: {93}\n",
      "year: Gateway-2019 clf: svr\n"
     ]
    },
    {
     "name": "stderr",
     "output_type": "stream",
     "text": [
      "/N/u/pengb/hpda/indycar/predictor/src/indycar/model/quicktest_modules.py:1703: RuntimeWarning: invalid value encountered in less_equal\n",
      "  * ((target <= quantile_forecast) - q)\n"
     ]
    },
    {
     "name": "stdout",
     "output_type": "stream",
     "text": [
      "dict_values([0.08766909469302811, 0.0876690946930281, 0.08766909469302808])\n",
      "testset size: 1870 minlap: 40.0 maxlap: 226.0\n",
      "model: acc={0.81}, mae={1.04}, rmse={2.26},r2={0.85}, top1_pred: {93}, top1_naive: {93}\n",
      "            naive: acc={0.81}, mae={1.06}, rmse={2.28},r2={0.85}, top1: {93}\n",
      "year: Gateway-2019 clf: xgb\n",
      "dict_values([0.490894901144641, 0.490894901144641, 0.490894901144641])\n",
      "testset size: 1870 minlap: 40.0 maxlap: 226.0\n",
      "model: acc={0.25}, mae={4.91}, rmse={6.64},r2={-0.28}, top1_pred: {93}, top1_naive: {93}\n",
      "            naive: acc={0.81}, mae={1.06}, rmse={2.28},r2={0.85}, top1: {93}\n"
     ]
    },
    {
     "name": "stderr",
     "output_type": "stream",
     "text": [
      "/N/u/pengb/hpda/indycar/predictor/src/indycar/model/quicktest_modules.py:1703: RuntimeWarning: invalid value encountered in less_equal\n",
      "  * ((target <= quantile_forecast) - q)\n"
     ]
    }
   ],
   "source": [
    "retdata = []\n",
    "_test_events = ['Indy500-2018', 'Indy500-2019', 'Phoenix-2018','Texas-2018','Texas-2019','Pocono-2018','Pocono-2019','Iowa-2018','Iowa-2019',\n",
    "              'Gateway-2018','Gateway-2019']\n",
    "    \n",
    "for plen in [2]:\n",
    "    outfile=f'{dataroot}/shortterm-dfout-mlmodels-{version}-end{include_str}-rerank-t{plen}-c{_context_len}.pickle'\n",
    "    shortterm_df = load_dfout(outfile, basedir = './')\n",
    "\n",
    "    #for year in ['Indy500-2018','Indy500-2019','Phoenix-2018']:\n",
    "    #for year in [_test_event]:\n",
    "    for year in _test_events:\n",
    "        \n",
    "        testevent = year\n",
    "        gvar.maxlap = get_event_info(testevent)[2]\n",
    "        \n",
    "        for clf in ['currank','rf','svr','xgb']:\n",
    "            print('year:',year,'clf:',clf)\n",
    "            #dfout, accret = eval_sync(preddf[year][clf],errlist[year])\n",
    "            dfout = shortterm_df[year][clf]\n",
    "            accret = stint.get_evalret_shortterm(dfout)[0]\n",
    "\n",
    "            fsamples, ftss = df2samples(dfout)\n",
    "            _, prisk_vals = prisk_direct_bysamples(fsamples, ftss)\n",
    "\n",
    "            retdata.append([year,models[clf],'MLMODELS','all', accret[0], accret[4], accret[1], prisk_vals[1], prisk_vals[2]])\n",
    "            \n",
    "for laptype in ['normal','pit']:\n",
    "    \n",
    "    plen = 2\n",
    "    \n",
    "    outfile=f'{dataroot}/shortterm-dfout-mlmodels-{version}-end{include_str}-rerank-t{plen}-c{_context_len}.pickle'\n",
    "    shortterm_df = load_dfout(outfile, basedir = './')\n",
    "\n",
    "\n",
    "    #for year in ['2018','2019']:\n",
    "    #for year in [_test_event]:\n",
    "    for year in _test_events:\n",
    "        \n",
    "        \n",
    "        testevent = year\n",
    "        gvar.maxlap = get_event_info(testevent)[2]\n",
    "        \n",
    "        # select the set\n",
    "        pitcoveredlaps = pitdata[year][1]\n",
    "        normallaps = set([x for x in range(1,201)]) - pitcoveredlaps\n",
    "        \n",
    "        if laptype == 'normal':\n",
    "            sellaps = normallaps\n",
    "            clearlaps = pitcoveredlaps\n",
    "        else:\n",
    "            sellaps = pitcoveredlaps\n",
    "            clearlaps = normallaps\n",
    "        \n",
    "        \n",
    "        # pitcoveredlaps start idx = 1\n",
    "        startlaps = [x-plen-1 for x in sellaps]\n",
    "        #sellapidx = np.array([x-1 for x in sellaps])\n",
    "        clearidx = np.array([x-1 for x in clearlaps])\n",
    "        \n",
    "        for clf in ['currank','rf','svr','xgb']:\n",
    "            print('year:',year,'clf:',clf)\n",
    "            \n",
    "            dfout = shortterm_df[year][clf]\n",
    "            fsamples, ftss = df2samples(dfout)\n",
    "            \n",
    "            fsamples, ftss = clear_samples(fsamples, ftss,clearidx)\n",
    "            _, prisk_vals = prisk_direct_bysamples(fsamples, ftss)\n",
    "            \n",
    "            # split dfout by startlap\n",
    "            # curlap = int(dfrec.startlap.values[0] + prediction_len)\n",
    "            dfout = dfout[dfout['startlap'].isin(startlaps)]\n",
    "            accret = stint.get_evalret_shortterm(dfout)[0]\n",
    "\n",
    "            retdata.append([year,models[clf],'MLMODELS',laptype, accret[0], accret[4], accret[1], prisk_vals[1], prisk_vals[2]])\n",
    "            \n",
    "        if False:\n",
    "            #oracle\n",
    "            outfile=f'shortterm-dfout-ranknet-indy500-rank-inlap-nopitage-20182019-oracle-l10-alldata.pickle'\n",
    "            _all = load_dfout_all(outfile)[0]\n",
    "            ranknetdf, acc, ret, pret = _all[0],_all[1],_all[2],_all[3]\n",
    "\n",
    "            dfout = do_rerank(ranknetdf[year]['oracle_mean'])\n",
    "\n",
    "            allsamples, alltss = get_allsamples(year=year, model='oracle')\n",
    "\n",
    "            allsamples, alltss = clear_samples(allsamples, alltss,clearidx)\n",
    "            _, prisk_vals = prisk_direct_bysamples(allsamples, alltss)\n",
    "\n",
    "            dfout = dfout[dfout['startlap'].isin(startlaps)]\n",
    "            accret = stint.get_evalret_shortterm(dfout)[0]\n",
    "\n",
    "            retdata.append([year,'RankNet-Oracle',accret[0], accret[1], prisk_vals[1], prisk_vals[2]])\n",
    "\n",
    "            #pitmodel\n",
    "            outfile=f'shortterm-dfout-ranknet-indy500-rank-inlap-nopitage-20182019-alldata.pickle'\n",
    "            _all = load_dfout_all(outfile)[0]\n",
    "            ranknetdf, acc, ret = _all[0],_all[1],_all[2]\n",
    "\n",
    "            dfout = do_rerank(ranknetdf[year]['pitmodel_mean'])\n",
    "\n",
    "            allsamples, alltss = get_allsamples(year=year, model='pitmodel')\n",
    "            allsamples, alltss = clear_samples(allsamples, alltss,clearidx)\n",
    "            _, prisk_vals = prisk_direct_bysamples(allsamples, alltss)        \n",
    "\n",
    "            dfout = dfout[dfout['startlap'].isin(startlaps)]\n",
    "            accret = stint.get_evalret_shortterm(dfout)[0]\n",
    "\n",
    "            retdata.append([year,'RankNet-MLP',accret[0], accret[1], prisk_vals[1], prisk_vals[2]])\n",
    "\n",
    "            #print('oracle:', ranknet_pret[f'oracle-RANK-2018-inlap-nopitage'])\n",
    "            #print('pitmodel:', ranknet_pret[f'pitmodel-RANK-2018-inlap-nopitage'])\n",
    "\n",
    "    #stint_split_result[laptype] = pd.DataFrame(data=retdata, columns=cols)\n",
    "    \n",
    "    #print(stint_split_result[laptype])\n",
    "retdf = pd.DataFrame(data=retdata, columns=cols) \n",
    "retdf.to_csv(f'{dataroot}/evaluation_result_shortterm_plen2-split-g{covergap}_v5-c{_context_len}.csv')"
   ]
  },
  {
   "cell_type": "code",
   "execution_count": 91,
   "metadata": {},
   "outputs": [
    {
     "data": {
      "text/html": [
       "<div>\n",
       "<style scoped>\n",
       "    .dataframe tbody tr th:only-of-type {\n",
       "        vertical-align: middle;\n",
       "    }\n",
       "\n",
       "    .dataframe tbody tr th {\n",
       "        vertical-align: top;\n",
       "    }\n",
       "\n",
       "    .dataframe thead th {\n",
       "        text-align: right;\n",
       "    }\n",
       "</style>\n",
       "<table border=\"1\" class=\"dataframe\">\n",
       "  <thead>\n",
       "    <tr style=\"text-align: right;\">\n",
       "      <th></th>\n",
       "      <th>Year</th>\n",
       "      <th>Model</th>\n",
       "      <th>ExpID</th>\n",
       "      <th>LapType</th>\n",
       "      <th>Top1Acc</th>\n",
       "      <th>SignAcc</th>\n",
       "      <th>MAE</th>\n",
       "      <th>50-Risk</th>\n",
       "      <th>90-Risk</th>\n",
       "    </tr>\n",
       "  </thead>\n",
       "  <tbody>\n",
       "    <tr>\n",
       "      <th>0</th>\n",
       "      <td>Indy500-2018</td>\n",
       "      <td>CurRank</td>\n",
       "      <td>MLMODELS</td>\n",
       "      <td>all</td>\n",
       "      <td>0.718085</td>\n",
       "      <td>0.594944</td>\n",
       "      <td>1.339513</td>\n",
       "      <td>0.097326</td>\n",
       "      <td>0.097315</td>\n",
       "    </tr>\n",
       "    <tr>\n",
       "      <th>1</th>\n",
       "      <td>Indy500-2018</td>\n",
       "      <td>RandomForest</td>\n",
       "      <td>MLMODELS</td>\n",
       "      <td>all</td>\n",
       "      <td>0.515957</td>\n",
       "      <td>0.564981</td>\n",
       "      <td>1.761610</td>\n",
       "      <td>0.127641</td>\n",
       "      <td>0.127630</td>\n",
       "    </tr>\n",
       "    <tr>\n",
       "      <th>2</th>\n",
       "      <td>Indy500-2018</td>\n",
       "      <td>SVM</td>\n",
       "      <td>MLMODELS</td>\n",
       "      <td>all</td>\n",
       "      <td>0.718085</td>\n",
       "      <td>0.594944</td>\n",
       "      <td>1.339513</td>\n",
       "      <td>0.097326</td>\n",
       "      <td>0.097315</td>\n",
       "    </tr>\n",
       "    <tr>\n",
       "      <th>3</th>\n",
       "      <td>Indy500-2018</td>\n",
       "      <td>XGBoost</td>\n",
       "      <td>MLMODELS</td>\n",
       "      <td>all</td>\n",
       "      <td>0.462766</td>\n",
       "      <td>0.626030</td>\n",
       "      <td>1.630899</td>\n",
       "      <td>0.118471</td>\n",
       "      <td>0.118460</td>\n",
       "    </tr>\n",
       "    <tr>\n",
       "      <th>4</th>\n",
       "      <td>Indy500-2019</td>\n",
       "      <td>CurRank</td>\n",
       "      <td>MLMODELS</td>\n",
       "      <td>all</td>\n",
       "      <td>0.734043</td>\n",
       "      <td>0.643631</td>\n",
       "      <td>1.162551</td>\n",
       "      <td>0.080397</td>\n",
       "      <td>0.080397</td>\n",
       "    </tr>\n",
       "    <tr>\n",
       "      <th>...</th>\n",
       "      <td>...</td>\n",
       "      <td>...</td>\n",
       "      <td>...</td>\n",
       "      <td>...</td>\n",
       "      <td>...</td>\n",
       "      <td>...</td>\n",
       "      <td>...</td>\n",
       "      <td>...</td>\n",
       "      <td>...</td>\n",
       "    </tr>\n",
       "    <tr>\n",
       "      <th>127</th>\n",
       "      <td>Gateway-2018</td>\n",
       "      <td>XGBoost</td>\n",
       "      <td>MLMODELS</td>\n",
       "      <td>pit</td>\n",
       "      <td>0.159574</td>\n",
       "      <td>0.244212</td>\n",
       "      <td>5.656009</td>\n",
       "      <td>0.577224</td>\n",
       "      <td>0.577145</td>\n",
       "    </tr>\n",
       "    <tr>\n",
       "      <th>128</th>\n",
       "      <td>Gateway-2019</td>\n",
       "      <td>CurRank</td>\n",
       "      <td>MLMODELS</td>\n",
       "      <td>pit</td>\n",
       "      <td>0.806452</td>\n",
       "      <td>0.608556</td>\n",
       "      <td>1.036364</td>\n",
       "      <td>0.087669</td>\n",
       "      <td>0.087669</td>\n",
       "    </tr>\n",
       "    <tr>\n",
       "      <th>129</th>\n",
       "      <td>Gateway-2019</td>\n",
       "      <td>RandomForest</td>\n",
       "      <td>MLMODELS</td>\n",
       "      <td>pit</td>\n",
       "      <td>0.344086</td>\n",
       "      <td>0.377540</td>\n",
       "      <td>3.104813</td>\n",
       "      <td>0.323274</td>\n",
       "      <td>0.323274</td>\n",
       "    </tr>\n",
       "    <tr>\n",
       "      <th>130</th>\n",
       "      <td>Gateway-2019</td>\n",
       "      <td>SVM</td>\n",
       "      <td>MLMODELS</td>\n",
       "      <td>pit</td>\n",
       "      <td>0.806452</td>\n",
       "      <td>0.608556</td>\n",
       "      <td>1.036364</td>\n",
       "      <td>0.087669</td>\n",
       "      <td>0.087669</td>\n",
       "    </tr>\n",
       "    <tr>\n",
       "      <th>131</th>\n",
       "      <td>Gateway-2019</td>\n",
       "      <td>XGBoost</td>\n",
       "      <td>MLMODELS</td>\n",
       "      <td>pit</td>\n",
       "      <td>0.247312</td>\n",
       "      <td>0.325668</td>\n",
       "      <td>4.913369</td>\n",
       "      <td>0.490895</td>\n",
       "      <td>0.490895</td>\n",
       "    </tr>\n",
       "  </tbody>\n",
       "</table>\n",
       "<p>132 rows × 9 columns</p>\n",
       "</div>"
      ],
      "text/plain": [
       "             Year         Model     ExpID LapType   Top1Acc   SignAcc  \\\n",
       "0    Indy500-2018       CurRank  MLMODELS     all  0.718085  0.594944   \n",
       "1    Indy500-2018  RandomForest  MLMODELS     all  0.515957  0.564981   \n",
       "2    Indy500-2018           SVM  MLMODELS     all  0.718085  0.594944   \n",
       "3    Indy500-2018       XGBoost  MLMODELS     all  0.462766  0.626030   \n",
       "4    Indy500-2019       CurRank  MLMODELS     all  0.734043  0.643631   \n",
       "..            ...           ...       ...     ...       ...       ...   \n",
       "127  Gateway-2018       XGBoost  MLMODELS     pit  0.159574  0.244212   \n",
       "128  Gateway-2019       CurRank  MLMODELS     pit  0.806452  0.608556   \n",
       "129  Gateway-2019  RandomForest  MLMODELS     pit  0.344086  0.377540   \n",
       "130  Gateway-2019           SVM  MLMODELS     pit  0.806452  0.608556   \n",
       "131  Gateway-2019       XGBoost  MLMODELS     pit  0.247312  0.325668   \n",
       "\n",
       "          MAE   50-Risk   90-Risk  \n",
       "0    1.339513  0.097326  0.097315  \n",
       "1    1.761610  0.127641  0.127630  \n",
       "2    1.339513  0.097326  0.097315  \n",
       "3    1.630899  0.118471  0.118460  \n",
       "4    1.162551  0.080397  0.080397  \n",
       "..        ...       ...       ...  \n",
       "127  5.656009  0.577224  0.577145  \n",
       "128  1.036364  0.087669  0.087669  \n",
       "129  3.104813  0.323274  0.323274  \n",
       "130  1.036364  0.087669  0.087669  \n",
       "131  4.913369  0.490895  0.490895  \n",
       "\n",
       "[132 rows x 9 columns]"
      ]
     },
     "execution_count": 91,
     "metadata": {},
     "output_type": "execute_result"
    }
   ],
   "source": [
    "retdf"
   ]
  },
  {
   "cell_type": "code",
   "execution_count": 70,
   "metadata": {},
   "outputs": [
    {
     "data": {
      "text/html": [
       "<div>\n",
       "<style scoped>\n",
       "    .dataframe tbody tr th:only-of-type {\n",
       "        vertical-align: middle;\n",
       "    }\n",
       "\n",
       "    .dataframe tbody tr th {\n",
       "        vertical-align: top;\n",
       "    }\n",
       "\n",
       "    .dataframe thead th {\n",
       "        text-align: right;\n",
       "    }\n",
       "</style>\n",
       "<table border=\"1\" class=\"dataframe\">\n",
       "  <thead>\n",
       "    <tr style=\"text-align: right;\">\n",
       "      <th></th>\n",
       "      <th>Year</th>\n",
       "      <th>Model</th>\n",
       "      <th>SignAcc</th>\n",
       "      <th>MAE</th>\n",
       "      <th>50-Risk</th>\n",
       "      <th>90-Risk</th>\n",
       "    </tr>\n",
       "  </thead>\n",
       "  <tbody>\n",
       "    <tr>\n",
       "      <th>0</th>\n",
       "      <td>Phoenix-2018</td>\n",
       "      <td>CurRank</td>\n",
       "      <td>0.985507</td>\n",
       "      <td>0.027107</td>\n",
       "      <td>0.003654</td>\n",
       "      <td>0.003654</td>\n",
       "    </tr>\n",
       "    <tr>\n",
       "      <th>1</th>\n",
       "      <td>Phoenix-2018</td>\n",
       "      <td>RandomForest</td>\n",
       "      <td>0.608696</td>\n",
       "      <td>0.994380</td>\n",
       "      <td>0.120916</td>\n",
       "      <td>0.120916</td>\n",
       "    </tr>\n",
       "    <tr>\n",
       "      <th>2</th>\n",
       "      <td>Phoenix-2018</td>\n",
       "      <td>SVM</td>\n",
       "      <td>0.985507</td>\n",
       "      <td>0.027107</td>\n",
       "      <td>0.003654</td>\n",
       "      <td>0.003654</td>\n",
       "    </tr>\n",
       "    <tr>\n",
       "      <th>3</th>\n",
       "      <td>Phoenix-2018</td>\n",
       "      <td>XGBoost</td>\n",
       "      <td>0.210145</td>\n",
       "      <td>2.660496</td>\n",
       "      <td>0.290974</td>\n",
       "      <td>0.290974</td>\n",
       "    </tr>\n",
       "    <tr>\n",
       "      <th>4</th>\n",
       "      <td>Texas-2018</td>\n",
       "      <td>CurRank</td>\n",
       "      <td>1.000000</td>\n",
       "      <td>0.103935</td>\n",
       "      <td>0.010243</td>\n",
       "      <td>0.010243</td>\n",
       "    </tr>\n",
       "    <tr>\n",
       "      <th>5</th>\n",
       "      <td>Texas-2018</td>\n",
       "      <td>RandomForest</td>\n",
       "      <td>0.420000</td>\n",
       "      <td>1.884965</td>\n",
       "      <td>0.197030</td>\n",
       "      <td>0.197030</td>\n",
       "    </tr>\n",
       "    <tr>\n",
       "      <th>6</th>\n",
       "      <td>Texas-2018</td>\n",
       "      <td>SVM</td>\n",
       "      <td>1.000000</td>\n",
       "      <td>0.103935</td>\n",
       "      <td>0.010243</td>\n",
       "      <td>0.010243</td>\n",
       "    </tr>\n",
       "    <tr>\n",
       "      <th>7</th>\n",
       "      <td>Texas-2018</td>\n",
       "      <td>XGBoost</td>\n",
       "      <td>0.280000</td>\n",
       "      <td>3.474268</td>\n",
       "      <td>0.357931</td>\n",
       "      <td>0.357931</td>\n",
       "    </tr>\n",
       "    <tr>\n",
       "      <th>8</th>\n",
       "      <td>Texas-2019</td>\n",
       "      <td>CurRank</td>\n",
       "      <td>0.949580</td>\n",
       "      <td>0.041229</td>\n",
       "      <td>0.005668</td>\n",
       "      <td>0.005668</td>\n",
       "    </tr>\n",
       "    <tr>\n",
       "      <th>9</th>\n",
       "      <td>Texas-2019</td>\n",
       "      <td>RandomForest</td>\n",
       "      <td>0.235294</td>\n",
       "      <td>1.396928</td>\n",
       "      <td>0.182283</td>\n",
       "      <td>0.182283</td>\n",
       "    </tr>\n",
       "    <tr>\n",
       "      <th>10</th>\n",
       "      <td>Texas-2019</td>\n",
       "      <td>SVM</td>\n",
       "      <td>0.949580</td>\n",
       "      <td>0.041229</td>\n",
       "      <td>0.005668</td>\n",
       "      <td>0.005668</td>\n",
       "    </tr>\n",
       "    <tr>\n",
       "      <th>11</th>\n",
       "      <td>Texas-2019</td>\n",
       "      <td>XGBoost</td>\n",
       "      <td>0.310924</td>\n",
       "      <td>3.365400</td>\n",
       "      <td>0.370027</td>\n",
       "      <td>0.370027</td>\n",
       "    </tr>\n",
       "    <tr>\n",
       "      <th>12</th>\n",
       "      <td>Pocono-2018</td>\n",
       "      <td>CurRank</td>\n",
       "      <td>1.000000</td>\n",
       "      <td>0.023296</td>\n",
       "      <td>0.002389</td>\n",
       "      <td>0.002389</td>\n",
       "    </tr>\n",
       "    <tr>\n",
       "      <th>13</th>\n",
       "      <td>Pocono-2018</td>\n",
       "      <td>RandomForest</td>\n",
       "      <td>0.914530</td>\n",
       "      <td>0.958649</td>\n",
       "      <td>0.136860</td>\n",
       "      <td>0.136860</td>\n",
       "    </tr>\n",
       "    <tr>\n",
       "      <th>14</th>\n",
       "      <td>Pocono-2018</td>\n",
       "      <td>SVM</td>\n",
       "      <td>1.000000</td>\n",
       "      <td>0.023296</td>\n",
       "      <td>0.002389</td>\n",
       "      <td>0.002389</td>\n",
       "    </tr>\n",
       "    <tr>\n",
       "      <th>15</th>\n",
       "      <td>Pocono-2018</td>\n",
       "      <td>XGBoost</td>\n",
       "      <td>0.410256</td>\n",
       "      <td>0.680256</td>\n",
       "      <td>0.095904</td>\n",
       "      <td>0.095904</td>\n",
       "    </tr>\n",
       "    <tr>\n",
       "      <th>16</th>\n",
       "      <td>Pocono-2019</td>\n",
       "      <td>CurRank</td>\n",
       "      <td>0.500000</td>\n",
       "      <td>1.162371</td>\n",
       "      <td>0.147990</td>\n",
       "      <td>0.251419</td>\n",
       "    </tr>\n",
       "    <tr>\n",
       "      <th>17</th>\n",
       "      <td>Pocono-2019</td>\n",
       "      <td>RandomForest</td>\n",
       "      <td>0.444444</td>\n",
       "      <td>1.664948</td>\n",
       "      <td>0.211977</td>\n",
       "      <td>0.315406</td>\n",
       "    </tr>\n",
       "    <tr>\n",
       "      <th>18</th>\n",
       "      <td>Pocono-2019</td>\n",
       "      <td>SVM</td>\n",
       "      <td>0.500000</td>\n",
       "      <td>1.157216</td>\n",
       "      <td>0.147334</td>\n",
       "      <td>0.250763</td>\n",
       "    </tr>\n",
       "    <tr>\n",
       "      <th>19</th>\n",
       "      <td>Pocono-2019</td>\n",
       "      <td>XGBoost</td>\n",
       "      <td>0.481481</td>\n",
       "      <td>1.347938</td>\n",
       "      <td>0.171616</td>\n",
       "      <td>0.275045</td>\n",
       "    </tr>\n",
       "    <tr>\n",
       "      <th>20</th>\n",
       "      <td>Iowa-2018</td>\n",
       "      <td>CurRank</td>\n",
       "      <td>0.985507</td>\n",
       "      <td>0.096025</td>\n",
       "      <td>0.008674</td>\n",
       "      <td>0.008652</td>\n",
       "    </tr>\n",
       "    <tr>\n",
       "      <th>21</th>\n",
       "      <td>Iowa-2018</td>\n",
       "      <td>RandomForest</td>\n",
       "      <td>0.528986</td>\n",
       "      <td>1.709814</td>\n",
       "      <td>0.196315</td>\n",
       "      <td>0.196293</td>\n",
       "    </tr>\n",
       "    <tr>\n",
       "      <th>22</th>\n",
       "      <td>Iowa-2018</td>\n",
       "      <td>SVM</td>\n",
       "      <td>0.985507</td>\n",
       "      <td>0.096025</td>\n",
       "      <td>0.008674</td>\n",
       "      <td>0.008652</td>\n",
       "    </tr>\n",
       "    <tr>\n",
       "      <th>23</th>\n",
       "      <td>Iowa-2018</td>\n",
       "      <td>XGBoost</td>\n",
       "      <td>0.057971</td>\n",
       "      <td>3.865987</td>\n",
       "      <td>0.408906</td>\n",
       "      <td>0.408884</td>\n",
       "    </tr>\n",
       "    <tr>\n",
       "      <th>24</th>\n",
       "      <td>Iowa-2019</td>\n",
       "      <td>CurRank</td>\n",
       "      <td>0.986014</td>\n",
       "      <td>0.111359</td>\n",
       "      <td>0.009991</td>\n",
       "      <td>0.009991</td>\n",
       "    </tr>\n",
       "    <tr>\n",
       "      <th>25</th>\n",
       "      <td>Iowa-2019</td>\n",
       "      <td>RandomForest</td>\n",
       "      <td>0.482517</td>\n",
       "      <td>1.446389</td>\n",
       "      <td>0.166479</td>\n",
       "      <td>0.166479</td>\n",
       "    </tr>\n",
       "    <tr>\n",
       "      <th>26</th>\n",
       "      <td>Iowa-2019</td>\n",
       "      <td>SVM</td>\n",
       "      <td>0.986014</td>\n",
       "      <td>0.111359</td>\n",
       "      <td>0.009991</td>\n",
       "      <td>0.009991</td>\n",
       "    </tr>\n",
       "    <tr>\n",
       "      <th>27</th>\n",
       "      <td>Iowa-2019</td>\n",
       "      <td>XGBoost</td>\n",
       "      <td>0.202797</td>\n",
       "      <td>3.044225</td>\n",
       "      <td>0.319790</td>\n",
       "      <td>0.319790</td>\n",
       "    </tr>\n",
       "    <tr>\n",
       "      <th>28</th>\n",
       "      <td>Gateway-2018</td>\n",
       "      <td>CurRank</td>\n",
       "      <td>1.000000</td>\n",
       "      <td>0.036590</td>\n",
       "      <td>0.004852</td>\n",
       "      <td>0.004852</td>\n",
       "    </tr>\n",
       "    <tr>\n",
       "      <th>29</th>\n",
       "      <td>Gateway-2018</td>\n",
       "      <td>RandomForest</td>\n",
       "      <td>0.421488</td>\n",
       "      <td>0.975468</td>\n",
       "      <td>0.124543</td>\n",
       "      <td>0.124543</td>\n",
       "    </tr>\n",
       "    <tr>\n",
       "      <th>30</th>\n",
       "      <td>Gateway-2018</td>\n",
       "      <td>SVM</td>\n",
       "      <td>1.000000</td>\n",
       "      <td>0.036590</td>\n",
       "      <td>0.004852</td>\n",
       "      <td>0.004852</td>\n",
       "    </tr>\n",
       "    <tr>\n",
       "      <th>31</th>\n",
       "      <td>Gateway-2018</td>\n",
       "      <td>XGBoost</td>\n",
       "      <td>0.115702</td>\n",
       "      <td>2.180457</td>\n",
       "      <td>0.254939</td>\n",
       "      <td>0.254939</td>\n",
       "    </tr>\n",
       "    <tr>\n",
       "      <th>32</th>\n",
       "      <td>Gateway-2019</td>\n",
       "      <td>CurRank</td>\n",
       "      <td>0.981308</td>\n",
       "      <td>0.079032</td>\n",
       "      <td>0.009785</td>\n",
       "      <td>0.009754</td>\n",
       "    </tr>\n",
       "    <tr>\n",
       "      <th>33</th>\n",
       "      <td>Gateway-2019</td>\n",
       "      <td>RandomForest</td>\n",
       "      <td>0.158879</td>\n",
       "      <td>2.454545</td>\n",
       "      <td>0.266390</td>\n",
       "      <td>0.266360</td>\n",
       "    </tr>\n",
       "    <tr>\n",
       "      <th>34</th>\n",
       "      <td>Gateway-2019</td>\n",
       "      <td>SVM</td>\n",
       "      <td>0.981308</td>\n",
       "      <td>0.079032</td>\n",
       "      <td>0.009785</td>\n",
       "      <td>0.009754</td>\n",
       "    </tr>\n",
       "    <tr>\n",
       "      <th>35</th>\n",
       "      <td>Gateway-2019</td>\n",
       "      <td>XGBoost</td>\n",
       "      <td>0.140187</td>\n",
       "      <td>4.244404</td>\n",
       "      <td>0.434897</td>\n",
       "      <td>0.434866</td>\n",
       "    </tr>\n",
       "  </tbody>\n",
       "</table>\n",
       "</div>"
      ],
      "text/plain": [
       "            Year         Model   SignAcc       MAE   50-Risk   90-Risk\n",
       "0   Phoenix-2018       CurRank  0.985507  0.027107  0.003654  0.003654\n",
       "1   Phoenix-2018  RandomForest  0.608696  0.994380  0.120916  0.120916\n",
       "2   Phoenix-2018           SVM  0.985507  0.027107  0.003654  0.003654\n",
       "3   Phoenix-2018       XGBoost  0.210145  2.660496  0.290974  0.290974\n",
       "4     Texas-2018       CurRank  1.000000  0.103935  0.010243  0.010243\n",
       "5     Texas-2018  RandomForest  0.420000  1.884965  0.197030  0.197030\n",
       "6     Texas-2018           SVM  1.000000  0.103935  0.010243  0.010243\n",
       "7     Texas-2018       XGBoost  0.280000  3.474268  0.357931  0.357931\n",
       "8     Texas-2019       CurRank  0.949580  0.041229  0.005668  0.005668\n",
       "9     Texas-2019  RandomForest  0.235294  1.396928  0.182283  0.182283\n",
       "10    Texas-2019           SVM  0.949580  0.041229  0.005668  0.005668\n",
       "11    Texas-2019       XGBoost  0.310924  3.365400  0.370027  0.370027\n",
       "12   Pocono-2018       CurRank  1.000000  0.023296  0.002389  0.002389\n",
       "13   Pocono-2018  RandomForest  0.914530  0.958649  0.136860  0.136860\n",
       "14   Pocono-2018           SVM  1.000000  0.023296  0.002389  0.002389\n",
       "15   Pocono-2018       XGBoost  0.410256  0.680256  0.095904  0.095904\n",
       "16   Pocono-2019       CurRank  0.500000  1.162371  0.147990  0.251419\n",
       "17   Pocono-2019  RandomForest  0.444444  1.664948  0.211977  0.315406\n",
       "18   Pocono-2019           SVM  0.500000  1.157216  0.147334  0.250763\n",
       "19   Pocono-2019       XGBoost  0.481481  1.347938  0.171616  0.275045\n",
       "20     Iowa-2018       CurRank  0.985507  0.096025  0.008674  0.008652\n",
       "21     Iowa-2018  RandomForest  0.528986  1.709814  0.196315  0.196293\n",
       "22     Iowa-2018           SVM  0.985507  0.096025  0.008674  0.008652\n",
       "23     Iowa-2018       XGBoost  0.057971  3.865987  0.408906  0.408884\n",
       "24     Iowa-2019       CurRank  0.986014  0.111359  0.009991  0.009991\n",
       "25     Iowa-2019  RandomForest  0.482517  1.446389  0.166479  0.166479\n",
       "26     Iowa-2019           SVM  0.986014  0.111359  0.009991  0.009991\n",
       "27     Iowa-2019       XGBoost  0.202797  3.044225  0.319790  0.319790\n",
       "28  Gateway-2018       CurRank  1.000000  0.036590  0.004852  0.004852\n",
       "29  Gateway-2018  RandomForest  0.421488  0.975468  0.124543  0.124543\n",
       "30  Gateway-2018           SVM  1.000000  0.036590  0.004852  0.004852\n",
       "31  Gateway-2018       XGBoost  0.115702  2.180457  0.254939  0.254939\n",
       "32  Gateway-2019       CurRank  0.981308  0.079032  0.009785  0.009754\n",
       "33  Gateway-2019  RandomForest  0.158879  2.454545  0.266390  0.266360\n",
       "34  Gateway-2019           SVM  0.981308  0.079032  0.009785  0.009754\n",
       "35  Gateway-2019       XGBoost  0.140187  4.244404  0.434897  0.434866"
      ]
     },
     "execution_count": 70,
     "metadata": {},
     "output_type": "execute_result"
    }
   ],
   "source": [
    "stint_split_result['normal']"
   ]
  },
  {
   "cell_type": "code",
   "execution_count": 71,
   "metadata": {},
   "outputs": [
    {
     "data": {
      "text/html": [
       "<div>\n",
       "<style scoped>\n",
       "    .dataframe tbody tr th:only-of-type {\n",
       "        vertical-align: middle;\n",
       "    }\n",
       "\n",
       "    .dataframe tbody tr th {\n",
       "        vertical-align: top;\n",
       "    }\n",
       "\n",
       "    .dataframe thead th {\n",
       "        text-align: right;\n",
       "    }\n",
       "</style>\n",
       "<table border=\"1\" class=\"dataframe\">\n",
       "  <thead>\n",
       "    <tr style=\"text-align: right;\">\n",
       "      <th></th>\n",
       "      <th>Year</th>\n",
       "      <th>Model</th>\n",
       "      <th>SignAcc</th>\n",
       "      <th>MAE</th>\n",
       "      <th>50-Risk</th>\n",
       "      <th>90-Risk</th>\n",
       "    </tr>\n",
       "  </thead>\n",
       "  <tbody>\n",
       "    <tr>\n",
       "      <th>0</th>\n",
       "      <td>Phoenix-2018</td>\n",
       "      <td>CurRank</td>\n",
       "      <td>0.728571</td>\n",
       "      <td>1.330124</td>\n",
       "      <td>0.101012</td>\n",
       "      <td>0.100931</td>\n",
       "    </tr>\n",
       "    <tr>\n",
       "      <th>1</th>\n",
       "      <td>Phoenix-2018</td>\n",
       "      <td>RandomForest</td>\n",
       "      <td>0.342857</td>\n",
       "      <td>3.068776</td>\n",
       "      <td>0.300900</td>\n",
       "      <td>0.300819</td>\n",
       "    </tr>\n",
       "    <tr>\n",
       "      <th>2</th>\n",
       "      <td>Phoenix-2018</td>\n",
       "      <td>SVM</td>\n",
       "      <td>0.728571</td>\n",
       "      <td>1.328748</td>\n",
       "      <td>0.100910</td>\n",
       "      <td>0.100829</td>\n",
       "    </tr>\n",
       "    <tr>\n",
       "      <th>3</th>\n",
       "      <td>Phoenix-2018</td>\n",
       "      <td>XGBoost</td>\n",
       "      <td>0.114286</td>\n",
       "      <td>4.667125</td>\n",
       "      <td>0.479426</td>\n",
       "      <td>0.479345</td>\n",
       "    </tr>\n",
       "    <tr>\n",
       "      <th>4</th>\n",
       "      <td>Texas-2018</td>\n",
       "      <td>CurRank</td>\n",
       "      <td>0.851852</td>\n",
       "      <td>0.859913</td>\n",
       "      <td>0.082026</td>\n",
       "      <td>0.082026</td>\n",
       "    </tr>\n",
       "    <tr>\n",
       "      <th>5</th>\n",
       "      <td>Texas-2018</td>\n",
       "      <td>RandomForest</td>\n",
       "      <td>0.444444</td>\n",
       "      <td>2.689287</td>\n",
       "      <td>0.278466</td>\n",
       "      <td>0.278466</td>\n",
       "    </tr>\n",
       "    <tr>\n",
       "      <th>6</th>\n",
       "      <td>Texas-2018</td>\n",
       "      <td>SVM</td>\n",
       "      <td>0.851852</td>\n",
       "      <td>0.859913</td>\n",
       "      <td>0.082026</td>\n",
       "      <td>0.082026</td>\n",
       "    </tr>\n",
       "    <tr>\n",
       "      <th>7</th>\n",
       "      <td>Texas-2018</td>\n",
       "      <td>XGBoost</td>\n",
       "      <td>0.064815</td>\n",
       "      <td>4.816287</td>\n",
       "      <td>0.492889</td>\n",
       "      <td>0.492889</td>\n",
       "    </tr>\n",
       "    <tr>\n",
       "      <th>8</th>\n",
       "      <td>Texas-2019</td>\n",
       "      <td>CurRank</td>\n",
       "      <td>0.785714</td>\n",
       "      <td>0.911285</td>\n",
       "      <td>0.077718</td>\n",
       "      <td>0.077718</td>\n",
       "    </tr>\n",
       "    <tr>\n",
       "      <th>9</th>\n",
       "      <td>Texas-2019</td>\n",
       "      <td>RandomForest</td>\n",
       "      <td>0.250000</td>\n",
       "      <td>2.394689</td>\n",
       "      <td>0.286745</td>\n",
       "      <td>0.286745</td>\n",
       "    </tr>\n",
       "    <tr>\n",
       "      <th>10</th>\n",
       "      <td>Texas-2019</td>\n",
       "      <td>SVM</td>\n",
       "      <td>0.785714</td>\n",
       "      <td>0.911285</td>\n",
       "      <td>0.077718</td>\n",
       "      <td>0.077718</td>\n",
       "    </tr>\n",
       "    <tr>\n",
       "      <th>11</th>\n",
       "      <td>Texas-2019</td>\n",
       "      <td>XGBoost</td>\n",
       "      <td>0.297619</td>\n",
       "      <td>4.312613</td>\n",
       "      <td>0.470955</td>\n",
       "      <td>0.470955</td>\n",
       "    </tr>\n",
       "    <tr>\n",
       "      <th>12</th>\n",
       "      <td>Pocono-2018</td>\n",
       "      <td>CurRank</td>\n",
       "      <td>0.774648</td>\n",
       "      <td>0.647003</td>\n",
       "      <td>0.093625</td>\n",
       "      <td>0.093625</td>\n",
       "    </tr>\n",
       "    <tr>\n",
       "      <th>13</th>\n",
       "      <td>Pocono-2018</td>\n",
       "      <td>RandomForest</td>\n",
       "      <td>0.352113</td>\n",
       "      <td>2.102759</td>\n",
       "      <td>0.304282</td>\n",
       "      <td>0.304282</td>\n",
       "    </tr>\n",
       "    <tr>\n",
       "      <th>14</th>\n",
       "      <td>Pocono-2018</td>\n",
       "      <td>SVM</td>\n",
       "      <td>0.774648</td>\n",
       "      <td>0.647003</td>\n",
       "      <td>0.093625</td>\n",
       "      <td>0.093625</td>\n",
       "    </tr>\n",
       "    <tr>\n",
       "      <th>15</th>\n",
       "      <td>Pocono-2018</td>\n",
       "      <td>XGBoost</td>\n",
       "      <td>0.267606</td>\n",
       "      <td>1.512845</td>\n",
       "      <td>0.218918</td>\n",
       "      <td>0.218918</td>\n",
       "    </tr>\n",
       "    <tr>\n",
       "      <th>16</th>\n",
       "      <td>Pocono-2019</td>\n",
       "      <td>CurRank</td>\n",
       "      <td>0.633333</td>\n",
       "      <td>1.227129</td>\n",
       "      <td>0.156807</td>\n",
       "      <td>0.192166</td>\n",
       "    </tr>\n",
       "    <tr>\n",
       "      <th>17</th>\n",
       "      <td>Pocono-2019</td>\n",
       "      <td>RandomForest</td>\n",
       "      <td>0.350000</td>\n",
       "      <td>2.604627</td>\n",
       "      <td>0.330885</td>\n",
       "      <td>0.366245</td>\n",
       "    </tr>\n",
       "    <tr>\n",
       "      <th>18</th>\n",
       "      <td>Pocono-2019</td>\n",
       "      <td>SVM</td>\n",
       "      <td>0.633333</td>\n",
       "      <td>1.227129</td>\n",
       "      <td>0.156807</td>\n",
       "      <td>0.192166</td>\n",
       "    </tr>\n",
       "    <tr>\n",
       "      <th>19</th>\n",
       "      <td>Pocono-2019</td>\n",
       "      <td>XGBoost</td>\n",
       "      <td>0.500000</td>\n",
       "      <td>1.942166</td>\n",
       "      <td>0.246566</td>\n",
       "      <td>0.281926</td>\n",
       "    </tr>\n",
       "    <tr>\n",
       "      <th>20</th>\n",
       "      <td>Iowa-2018</td>\n",
       "      <td>CurRank</td>\n",
       "      <td>0.961165</td>\n",
       "      <td>0.594167</td>\n",
       "      <td>0.044819</td>\n",
       "      <td>0.044819</td>\n",
       "    </tr>\n",
       "    <tr>\n",
       "      <th>21</th>\n",
       "      <td>Iowa-2018</td>\n",
       "      <td>RandomForest</td>\n",
       "      <td>0.504854</td>\n",
       "      <td>2.371725</td>\n",
       "      <td>0.256521</td>\n",
       "      <td>0.256521</td>\n",
       "    </tr>\n",
       "    <tr>\n",
       "      <th>22</th>\n",
       "      <td>Iowa-2018</td>\n",
       "      <td>SVM</td>\n",
       "      <td>0.961165</td>\n",
       "      <td>0.594167</td>\n",
       "      <td>0.044819</td>\n",
       "      <td>0.044819</td>\n",
       "    </tr>\n",
       "    <tr>\n",
       "      <th>23</th>\n",
       "      <td>Iowa-2018</td>\n",
       "      <td>XGBoost</td>\n",
       "      <td>0.077670</td>\n",
       "      <td>4.578349</td>\n",
       "      <td>0.473339</td>\n",
       "      <td>0.473339</td>\n",
       "    </tr>\n",
       "    <tr>\n",
       "      <th>24</th>\n",
       "      <td>Iowa-2019</td>\n",
       "      <td>CurRank</td>\n",
       "      <td>0.897436</td>\n",
       "      <td>1.157960</td>\n",
       "      <td>0.073522</td>\n",
       "      <td>0.073522</td>\n",
       "    </tr>\n",
       "    <tr>\n",
       "      <th>25</th>\n",
       "      <td>Iowa-2019</td>\n",
       "      <td>RandomForest</td>\n",
       "      <td>0.384615</td>\n",
       "      <td>2.350746</td>\n",
       "      <td>0.244121</td>\n",
       "      <td>0.244121</td>\n",
       "    </tr>\n",
       "    <tr>\n",
       "      <th>26</th>\n",
       "      <td>Iowa-2019</td>\n",
       "      <td>SVM</td>\n",
       "      <td>0.897436</td>\n",
       "      <td>1.157960</td>\n",
       "      <td>0.073522</td>\n",
       "      <td>0.073522</td>\n",
       "    </tr>\n",
       "    <tr>\n",
       "      <th>27</th>\n",
       "      <td>Iowa-2019</td>\n",
       "      <td>XGBoost</td>\n",
       "      <td>0.089744</td>\n",
       "      <td>4.033582</td>\n",
       "      <td>0.407119</td>\n",
       "      <td>0.407119</td>\n",
       "    </tr>\n",
       "    <tr>\n",
       "      <th>28</th>\n",
       "      <td>Gateway-2018</td>\n",
       "      <td>CurRank</td>\n",
       "      <td>0.787234</td>\n",
       "      <td>0.780595</td>\n",
       "      <td>0.072116</td>\n",
       "      <td>0.072037</td>\n",
       "    </tr>\n",
       "    <tr>\n",
       "      <th>29</th>\n",
       "      <td>Gateway-2018</td>\n",
       "      <td>RandomForest</td>\n",
       "      <td>0.542553</td>\n",
       "      <td>2.855568</td>\n",
       "      <td>0.301458</td>\n",
       "      <td>0.301379</td>\n",
       "    </tr>\n",
       "    <tr>\n",
       "      <th>30</th>\n",
       "      <td>Gateway-2018</td>\n",
       "      <td>SVM</td>\n",
       "      <td>0.787234</td>\n",
       "      <td>0.781698</td>\n",
       "      <td>0.072215</td>\n",
       "      <td>0.072136</td>\n",
       "    </tr>\n",
       "    <tr>\n",
       "      <th>31</th>\n",
       "      <td>Gateway-2018</td>\n",
       "      <td>XGBoost</td>\n",
       "      <td>0.159574</td>\n",
       "      <td>5.656009</td>\n",
       "      <td>0.577224</td>\n",
       "      <td>0.577145</td>\n",
       "    </tr>\n",
       "    <tr>\n",
       "      <th>32</th>\n",
       "      <td>Gateway-2019</td>\n",
       "      <td>CurRank</td>\n",
       "      <td>0.806452</td>\n",
       "      <td>1.036364</td>\n",
       "      <td>0.087669</td>\n",
       "      <td>0.087669</td>\n",
       "    </tr>\n",
       "    <tr>\n",
       "      <th>33</th>\n",
       "      <td>Gateway-2019</td>\n",
       "      <td>RandomForest</td>\n",
       "      <td>0.344086</td>\n",
       "      <td>3.104813</td>\n",
       "      <td>0.323274</td>\n",
       "      <td>0.323274</td>\n",
       "    </tr>\n",
       "    <tr>\n",
       "      <th>34</th>\n",
       "      <td>Gateway-2019</td>\n",
       "      <td>SVM</td>\n",
       "      <td>0.806452</td>\n",
       "      <td>1.036364</td>\n",
       "      <td>0.087669</td>\n",
       "      <td>0.087669</td>\n",
       "    </tr>\n",
       "    <tr>\n",
       "      <th>35</th>\n",
       "      <td>Gateway-2019</td>\n",
       "      <td>XGBoost</td>\n",
       "      <td>0.247312</td>\n",
       "      <td>4.913369</td>\n",
       "      <td>0.490895</td>\n",
       "      <td>0.490895</td>\n",
       "    </tr>\n",
       "  </tbody>\n",
       "</table>\n",
       "</div>"
      ],
      "text/plain": [
       "            Year         Model   SignAcc       MAE   50-Risk   90-Risk\n",
       "0   Phoenix-2018       CurRank  0.728571  1.330124  0.101012  0.100931\n",
       "1   Phoenix-2018  RandomForest  0.342857  3.068776  0.300900  0.300819\n",
       "2   Phoenix-2018           SVM  0.728571  1.328748  0.100910  0.100829\n",
       "3   Phoenix-2018       XGBoost  0.114286  4.667125  0.479426  0.479345\n",
       "4     Texas-2018       CurRank  0.851852  0.859913  0.082026  0.082026\n",
       "5     Texas-2018  RandomForest  0.444444  2.689287  0.278466  0.278466\n",
       "6     Texas-2018           SVM  0.851852  0.859913  0.082026  0.082026\n",
       "7     Texas-2018       XGBoost  0.064815  4.816287  0.492889  0.492889\n",
       "8     Texas-2019       CurRank  0.785714  0.911285  0.077718  0.077718\n",
       "9     Texas-2019  RandomForest  0.250000  2.394689  0.286745  0.286745\n",
       "10    Texas-2019           SVM  0.785714  0.911285  0.077718  0.077718\n",
       "11    Texas-2019       XGBoost  0.297619  4.312613  0.470955  0.470955\n",
       "12   Pocono-2018       CurRank  0.774648  0.647003  0.093625  0.093625\n",
       "13   Pocono-2018  RandomForest  0.352113  2.102759  0.304282  0.304282\n",
       "14   Pocono-2018           SVM  0.774648  0.647003  0.093625  0.093625\n",
       "15   Pocono-2018       XGBoost  0.267606  1.512845  0.218918  0.218918\n",
       "16   Pocono-2019       CurRank  0.633333  1.227129  0.156807  0.192166\n",
       "17   Pocono-2019  RandomForest  0.350000  2.604627  0.330885  0.366245\n",
       "18   Pocono-2019           SVM  0.633333  1.227129  0.156807  0.192166\n",
       "19   Pocono-2019       XGBoost  0.500000  1.942166  0.246566  0.281926\n",
       "20     Iowa-2018       CurRank  0.961165  0.594167  0.044819  0.044819\n",
       "21     Iowa-2018  RandomForest  0.504854  2.371725  0.256521  0.256521\n",
       "22     Iowa-2018           SVM  0.961165  0.594167  0.044819  0.044819\n",
       "23     Iowa-2018       XGBoost  0.077670  4.578349  0.473339  0.473339\n",
       "24     Iowa-2019       CurRank  0.897436  1.157960  0.073522  0.073522\n",
       "25     Iowa-2019  RandomForest  0.384615  2.350746  0.244121  0.244121\n",
       "26     Iowa-2019           SVM  0.897436  1.157960  0.073522  0.073522\n",
       "27     Iowa-2019       XGBoost  0.089744  4.033582  0.407119  0.407119\n",
       "28  Gateway-2018       CurRank  0.787234  0.780595  0.072116  0.072037\n",
       "29  Gateway-2018  RandomForest  0.542553  2.855568  0.301458  0.301379\n",
       "30  Gateway-2018           SVM  0.787234  0.781698  0.072215  0.072136\n",
       "31  Gateway-2018       XGBoost  0.159574  5.656009  0.577224  0.577145\n",
       "32  Gateway-2019       CurRank  0.806452  1.036364  0.087669  0.087669\n",
       "33  Gateway-2019  RandomForest  0.344086  3.104813  0.323274  0.323274\n",
       "34  Gateway-2019           SVM  0.806452  1.036364  0.087669  0.087669\n",
       "35  Gateway-2019       XGBoost  0.247312  4.913369  0.490895  0.490895"
      ]
     },
     "execution_count": 71,
     "metadata": {},
     "output_type": "execute_result"
    }
   ],
   "source": [
    "stint_split_result['pit']"
   ]
  },
  {
   "cell_type": "code",
   "execution_count": 72,
   "metadata": {},
   "outputs": [],
   "source": [
    "dfs = []\n",
    "for laptype in ['normal','pit']:\n",
    "    df = stint_split_result[laptype]\n",
    "    df['laptype'] = laptype\n",
    "    \n",
    "    dfs.append(df)\n",
    "    \n",
    "alldf = pd.concat(dfs)"
   ]
  },
  {
   "cell_type": "code",
   "execution_count": 73,
   "metadata": {},
   "outputs": [],
   "source": [
    "alldf.to_csv(f'{dataroot}/evaluation_result_shortterm_plen2-split-g{covergap}_v4-c{_context_len}.csv')"
   ]
  },
  {
   "cell_type": "code",
   "execution_count": null,
   "metadata": {},
   "outputs": [],
   "source": [
    "alldf"
   ]
  }
 ],
 "metadata": {
  "kernelspec": {
   "display_name": "Python 3",
   "language": "python",
   "name": "python3"
  },
  "language_info": {
   "codemirror_mode": {
    "name": "ipython",
    "version": 3
   },
   "file_extension": ".py",
   "mimetype": "text/x-python",
   "name": "python",
   "nbconvert_exporter": "python",
   "pygments_lexer": "ipython3",
   "version": "3.6.10"
  }
 },
 "nbformat": 4,
 "nbformat_minor": 4
}
