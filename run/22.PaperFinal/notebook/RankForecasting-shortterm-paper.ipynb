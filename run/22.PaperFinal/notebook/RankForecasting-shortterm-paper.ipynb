{
 "cells": [
  {
   "cell_type": "markdown",
   "metadata": {},
   "source": [
    "### RankForecasting-shortterm-paper\n",
    "basedon :stint-test-strategy-shortterm\n",
    "    \n",
    "+ comparing models: naive, deepar, oracle, pitmodel"
   ]
  },
  {
   "cell_type": "code",
   "execution_count": 1,
   "metadata": {},
   "outputs": [
    {
     "name": "stderr",
     "output_type": "stream",
     "text": [
      "INFO:root:Using GPU\n",
      "INFO:root:Using GPU\n",
      "INFO:root:Using GPU\n",
      "INFO:root:Using GPU\n",
      "INFO:root:Using GPU\n"
     ]
    }
   ],
   "source": [
    "%load_ext autoreload\n",
    "%autoreload 2\n",
    "\n",
    "%matplotlib inline\n",
    "import pandas as pd\n",
    "import numpy as np\n",
    "import matplotlib.pyplot as plt\n",
    "import os,sys\n",
    "import mxnet as mx\n",
    "from mxnet import gluon\n",
    "import pickle\n",
    "import json\n",
    "import random\n",
    "import inspect\n",
    "from scipy import stats\n",
    "from sklearn.metrics import mean_squared_error\n",
    "from gluonts.dataset.common import ListDataset\n",
    "from gluonts.dataset.util import to_pandas\n",
    "from pathlib import Path\n",
    "from gluonts.model.deepar import DeepAREstimator\n",
    "from gluonts.model.deep_factor import DeepFactorEstimator\n",
    "from gluonts.model.deepstate import DeepStateEstimator\n",
    "from gluonts.trainer import Trainer\n",
    "from gluonts.model.simple_feedforward import SimpleFeedForwardEstimator\n",
    "from gluonts.evaluation.backtest import make_evaluation_predictions\n",
    "from gluonts.evaluation import Evaluator, MultivariateEvaluator\n",
    "from gluonts.distribution.multivariate_gaussian import MultivariateGaussianOutput\n",
    "from gluonts.model.predictor import Predictor\n",
    "from gluonts.model.prophet import ProphetPredictor\n",
    "from gluonts.model.r_forecast import RForecastPredictor\n",
    "from indycar.model.NaivePredictor import NaivePredictor\n",
    "from indycar.model.ZeroPredictor import ZeroPredictor\n",
    "from pandas.plotting import register_matplotlib_converters\n",
    "from gluonts.model.forecast import SampleForecast\n",
    "register_matplotlib_converters()\n",
    "\n",
    "#from indycar.model.stint_predictor_fastrun import *\n",
    "import indycar.model.stint_simulator_shortterm_pitmodel as stint"
   ]
  },
  {
   "cell_type": "code",
   "execution_count": 2,
   "metadata": {},
   "outputs": [],
   "source": [
    "def simulation(datasetid, testevent, taskid, runts, expid, predictionlen, \n",
    "               datamode, loopcnt, featuremode = stint.FEATURE_STATUS,\n",
    "              pitmodel = 0, model = 'oracle', inlapmode=0):\n",
    "    #\n",
    "    # configurataion\n",
    "    #\n",
    "    # model path:  <_dataset_id>/<_task_id>-<trainid>/\n",
    "    #_dataset_id = 'indy2013-2018-nocarid'\n",
    "    \n",
    "    stint._inlap_status = inlapmode\n",
    "    \n",
    "    stint.init(pitmodel)\n",
    "    stint._dataset_id = datasetid\n",
    "    stint._test_event = testevent\n",
    "    #_test_event = 'Indy500-2019'\n",
    "\n",
    "    stint._feature_mode = featuremode\n",
    "    stint._context_ratio = 0.\n",
    "\n",
    "    stint._task_id = taskid  # rank,laptime, the trained model's task\n",
    "    stint._run_ts = runts   #COL_LAPTIME,COL_RANK\n",
    "    stint._exp_id=expid  #rank, laptime, laptim2rank, timediff2rank... \n",
    "\n",
    "    stint._train_len = 40\n",
    "    predictor = stint.load_model(predictionlen, model,trainid='2018')\n",
    "\n",
    "    ret2 = {}\n",
    "    for i in range(loopcnt):\n",
    "        #df, full_samples, full_tss\n",
    "        ret2[i] = stint.run_simulation_shortterm(predictor, predictionlen, stint.freq, datamode=datamode)\n",
    "\n",
    "    acc = []\n",
    "    for i in ret2.keys():\n",
    "        df = ret2[i][0]\n",
    "        _x = stint.get_evalret_shortterm(df)\n",
    "        acc.append(_x)\n",
    "\n",
    "    b = np.array(acc)\n",
    "    print(np.mean(b, axis=0))\n",
    "    \n",
    "    #save keys\n",
    "    #stint._pitmodel.save_keys('pitmodel-keys.pickle')\n",
    "    \n",
    "    return b, ret2"
   ]
  },
  {
   "cell_type": "code",
   "execution_count": 3,
   "metadata": {},
   "outputs": [],
   "source": [
    "def test_pitmodel(modelfile, testevent, runts, loopcnt=10, model='oracle', inlapmode=0,featuremode = stint.FEATURE_PITAGE):\n",
    "    #pitmodel-m60-mlp-e500-l10-10-5-student-d0.1.pickle\n",
    "    \n",
    "    lapmode = {0:'noinlap', 1:'inlap',2:'outlap'}\n",
    "    \n",
    "    #dataset = 'indy2013-2018%s-nocarid-context40'%('' if inlapmode==0 else '-inlapstatus')\n",
    "    dataset = 'indy2013-2018-%s-%s-nocarid-context40'%(\n",
    "                lapmode[inlapmode],\n",
    "                'pitage' if featuremode==stint.FEATURE_PITAGE else 'nopitage'\n",
    "                )\n",
    "    try:\n",
    "        if runts == 'RANK':\n",
    "            acc, ret = simulation(dataset, testevent, \n",
    "                        'rank',stint.COL_RANK,'rank',\n",
    "                       2, stint.MODE_ORACLE_LAPONLY,loopcnt, \n",
    "                          pitmodel=modelfile, model=model, inlapmode=inlapmode,featuremode =featuremode)        \n",
    "        else:\n",
    "            acc, ret = simulation(dataset, testevent, \n",
    "                            'timediff',stint.COL_TIMEDIFF,'timediff2rank',\n",
    "                           2, stint.MODE_ORACLE_LAPONLY,loopcnt, \n",
    "                              pitmodel=modelfile, model=model, inlapmode=inlapmode,featuremode =featuremode)\n",
    "    except:\n",
    "        acc, ret = [],[]\n",
    "        \n",
    "    #print(np.mean(acc, axis=0))\n",
    "    return acc, ret"
   ]
  },
  {
   "cell_type": "code",
   "execution_count": 4,
   "metadata": {},
   "outputs": [],
   "source": [
    "def plot_prob_forecasts_ex(ts_entry, forecast_entry, ts2, outputfile):\n",
    "\n",
    "    plot_length = int(forecast_entry[0].samples.shape[1] *1.2) \n",
    "    prediction_intervals = (50.0, 90.0)\n",
    "    legend = [\"observations\", \"median prediction\"] + [f\"{k}% prediction interval\" for k in prediction_intervals][::-1]\n",
    "\n",
    "    figcnt = len(ts_entry)\n",
    "    for idx in range(figcnt):\n",
    "        fig, axs = plt.subplots(1, 1, figsize=(20, 7))\n",
    "        #ts_entry[idx][-plot_length:].plot(ax=axs)  # plot the time series\n",
    "        #forecast_entry[idx].plot(prediction_intervals=prediction_intervals, color='g')\n",
    "        ts_entry[idx].iloc[-plot_length:,0].plot(ax=axs, linewidth=1)  # plot the time series\n",
    "        \n",
    "        ts2.iloc[-plot_length:,0].plot(ax=axs, linewidth=1, label='CurRank')  # plot the time series\n",
    "        \n",
    "        forecast_entry[idx].copy_dim(0).plot(prediction_intervals=prediction_intervals, color='g')\n",
    "        \n",
    "        plt.ylabel('Rank position')\n",
    "        plt.xlabel('Lap')\n",
    "        \n",
    "        laps = range(1, 200, 20)\n",
    "        \n",
    "        #axs.set_xticks(laps)\n",
    "        #axs.set_xticklabels([1+x*30 for x in range(7)])\n",
    "        #axs.set_xticklabels(laps)\n",
    "        \n",
    "        plt.grid(which=\"both\")\n",
    "        plt.legend(legend, loc=\"upper left\")\n",
    "        plt.savefig(outputfile + '-%d.pdf'%idx)\n",
    "        plt.show()"
   ]
  },
  {
   "cell_type": "code",
   "execution_count": 5,
   "metadata": {},
   "outputs": [],
   "source": [
    "def prisk(full_samples, full_tss, verbose = False):\n",
    "    carlist = full_tss.keys()\n",
    "    tss = []\n",
    "    forecasts = []\n",
    "    forecasts_mean = []\n",
    "    freq = '1min'\n",
    "    start = pd.Timestamp(\"01-01-2019\", freq=freq) \n",
    "\n",
    "    for car in carlist:\n",
    "        testcar = car\n",
    "        fc = SampleForecast(samples = full_samples[testcar][:, 12:], freq=freq, start_date=start + 12)\n",
    "\n",
    "        samples = np.mean(full_samples[testcar][:, 12:], axis =0, keepdims=True)\n",
    "        fc_mean = SampleForecast(samples = samples, freq=freq, start_date=start + 12)\n",
    "\n",
    "        index = pd.date_range(start='2019-01-01 00:00:00', freq = 'T', periods = len(full_tss[testcar]))\n",
    "        ts = pd.DataFrame(index = index, data = full_tss[testcar])    \n",
    "\n",
    "        tss.append(ts)\n",
    "        forecasts.append(fc)\n",
    "        forecasts_mean.append(fc_mean)\n",
    "\n",
    "    evaluator = Evaluator(quantiles=[0.1, 0.5, 0.9]) \n",
    "    agg_metrics, item_metrics = evaluator(iter(tss), iter(forecasts), num_series=len(tss))\n",
    "    if verbose:\n",
    "        print(json.dumps(agg_metrics, indent=4))  \n",
    "    \n",
    "    print(agg_metrics[\"wQuantileLoss[0.1]\"], agg_metrics[\"wQuantileLoss[0.5]\"],agg_metrics[\"wQuantileLoss[0.9]\"])\n",
    "    \n",
    "    return agg_metrics"
   ]
  },
  {
   "cell_type": "markdown",
   "metadata": {},
   "source": [
    "### test low mode"
   ]
  },
  {
   "cell_type": "code",
   "execution_count": 6,
   "metadata": {},
   "outputs": [],
   "source": [
    "acc, ret, pret = {}, {}, {}"
   ]
  },
  {
   "cell_type": "code",
   "execution_count": 9,
   "metadata": {},
   "outputs": [
    {
     "name": "stderr",
     "output_type": "stream",
     "text": [
      "INFO:root:Using GPU\n"
     ]
    },
    {
     "name": "stdout",
     "output_type": "stream",
     "text": [
      "init: load dataset with 7 races, 58 cars\n",
      "predicting model=oracle, plen=2\n",
      "loading model...done!, ctx:gpu(0)\n"
     ]
    },
    {
     "name": "stderr",
     "output_type": "stream",
     "text": [
      "/scratch_ssd/hpda/anaconda3/envs/gluonts/lib/python3.6/site-packages/ipykernel_launcher.py:9: DeprecationWarning: elementwise comparison failed; this will raise an error in the future.\n",
      "  if __name__ == '__main__':\n",
      "/scratch_ssd/hpda/anaconda3/envs/gluonts/lib/python3.6/site-packages/ipykernel_launcher.py:11: FutureWarning: Addition/subtraction of integers and integer-arrays to Timestamp is deprecated, will be removed in a future version.  Instead of adding/subtracting `n`, use `n * self.freq`\n",
      "  # This is added back by InteractiveShellApp.init_path()\n",
      "/scratch_ssd/hpda/anaconda3/envs/gluonts/lib/python3.6/site-packages/ipykernel_launcher.py:14: FutureWarning: Addition/subtraction of integers and integer-arrays to Timestamp is deprecated, will be removed in a future version.  Instead of adding/subtracting `n`, use `n * self.freq`\n",
      "  \n",
      "\r",
      "Running evaluation:   0%|          | 0/33 [00:00<?, ?it/s]"
     ]
    },
    {
     "name": "stdout",
     "output_type": "stream",
     "text": [
      "model: acc={0.78}, mae={1.12}, rmse={2.46},r2={0.92}, \n",
      "            naive: acc={0.72}, mae={1.34}, rmse={3.25},r2={0.85}\n",
      "[[0.78191489 1.12322097 2.4613872  0.91541442]\n",
      " [0.71808511 1.33932584 3.24896987 0.85262365]]\n"
     ]
    },
    {
     "name": "stderr",
     "output_type": "stream",
     "text": [
      "Running evaluation: 100%|██████████| 33/33 [00:00<00:00, 133.96it/s]\n",
      "/N/u/pengb/hpda/indycar/predictor/src/indycar/model/stint_simulator_shortterm_pitmodel.py:196: SettingWithCopyWarning: \n",
      "A value is trying to be set on a copy of a slice from a DataFrame\n",
      "\n",
      "See the caveats in the documentation: http://pandas.pydata.org/pandas-docs/stable/user_guide/indexing.html#returning-a-view-versus-a-copy\n",
      "  uni_ds['rank_diff'][mask] = 0\n",
      "/N/u/pengb/hpda/indycar/predictor/src/indycar/model/stint_simulator_shortterm_pitmodel.py:200: SettingWithCopyWarning: \n",
      "A value is trying to be set on a copy of a slice from a DataFrame\n",
      "\n",
      "See the caveats in the documentation: http://pandas.pydata.org/pandas-docs/stable/user_guide/indexing.html#returning-a-view-versus-a-copy\n",
      "  uni_ds['time_diff'][mask] = 0\n"
     ]
    },
    {
     "name": "stdout",
     "output_type": "stream",
     "text": [
      "0.05719496379552578 0.0835539824921647 0.04120285312871501\n"
     ]
    },
    {
     "name": "stderr",
     "output_type": "stream",
     "text": [
      "INFO:root:Using GPU\n"
     ]
    },
    {
     "name": "stdout",
     "output_type": "stream",
     "text": [
      "init: load dataset with 7 races, 58 cars\n",
      "predicting model=oracle, plen=2\n",
      "loading model...done!, ctx:gpu(0)\n"
     ]
    },
    {
     "name": "stderr",
     "output_type": "stream",
     "text": [
      "/scratch_ssd/hpda/anaconda3/envs/gluonts/lib/python3.6/site-packages/ipykernel_launcher.py:9: DeprecationWarning: elementwise comparison failed; this will raise an error in the future.\n",
      "  if __name__ == '__main__':\n",
      "/scratch_ssd/hpda/anaconda3/envs/gluonts/lib/python3.6/site-packages/ipykernel_launcher.py:11: FutureWarning: Addition/subtraction of integers and integer-arrays to Timestamp is deprecated, will be removed in a future version.  Instead of adding/subtracting `n`, use `n * self.freq`\n",
      "  # This is added back by InteractiveShellApp.init_path()\n",
      "/scratch_ssd/hpda/anaconda3/envs/gluonts/lib/python3.6/site-packages/ipykernel_launcher.py:14: FutureWarning: Addition/subtraction of integers and integer-arrays to Timestamp is deprecated, will be removed in a future version.  Instead of adding/subtracting `n`, use `n * self.freq`\n",
      "  \n",
      "\r",
      "Running evaluation:   0%|          | 0/33 [00:00<?, ?it/s]"
     ]
    },
    {
     "name": "stdout",
     "output_type": "stream",
     "text": [
      "model: acc={0.82}, mae={0.97}, rmse={2.20},r2={0.93}, \n",
      "            naive: acc={0.72}, mae={1.34}, rmse={3.25},r2={0.85}\n",
      "[[0.82446809 0.97378277 2.1990805  0.93248214]\n",
      " [0.71808511 1.33932584 3.24896987 0.85262365]]\n"
     ]
    },
    {
     "name": "stderr",
     "output_type": "stream",
     "text": [
      "Running evaluation: 100%|██████████| 33/33 [00:00<00:00, 105.29it/s]\n",
      "/N/u/pengb/hpda/indycar/predictor/src/indycar/model/stint_simulator_shortterm_pitmodel.py:196: SettingWithCopyWarning: \n",
      "A value is trying to be set on a copy of a slice from a DataFrame\n",
      "\n",
      "See the caveats in the documentation: http://pandas.pydata.org/pandas-docs/stable/user_guide/indexing.html#returning-a-view-versus-a-copy\n",
      "  uni_ds['rank_diff'][mask] = 0\n",
      "/N/u/pengb/hpda/indycar/predictor/src/indycar/model/stint_simulator_shortterm_pitmodel.py:200: SettingWithCopyWarning: \n",
      "A value is trying to be set on a copy of a slice from a DataFrame\n",
      "\n",
      "See the caveats in the documentation: http://pandas.pydata.org/pandas-docs/stable/user_guide/indexing.html#returning-a-view-versus-a-copy\n",
      "  uni_ds['time_diff'][mask] = 0\n"
     ]
    },
    {
     "name": "stdout",
     "output_type": "stream",
     "text": [
      "0.04659299686588135 0.0728952772073922 0.03773100616016427\n",
      "init: load dataset with 7 races, 58 cars\n",
      "predicting model=oracle, plen=2\n"
     ]
    },
    {
     "name": "stderr",
     "output_type": "stream",
     "text": [
      "INFO:root:Using GPU\n"
     ]
    },
    {
     "name": "stdout",
     "output_type": "stream",
     "text": [
      "init: load dataset with 7 races, 58 cars\n",
      "predicting model=oracle, plen=2\n",
      "loading model...done!, ctx:gpu(0)\n",
      "a short ts: carid=88，len=4\n"
     ]
    },
    {
     "name": "stderr",
     "output_type": "stream",
     "text": [
      "/scratch_ssd/hpda/anaconda3/envs/gluonts/lib/python3.6/site-packages/ipykernel_launcher.py:9: DeprecationWarning: elementwise comparison failed; this will raise an error in the future.\n",
      "  if __name__ == '__main__':\n",
      "/scratch_ssd/hpda/anaconda3/envs/gluonts/lib/python3.6/site-packages/ipykernel_launcher.py:11: FutureWarning: Addition/subtraction of integers and integer-arrays to Timestamp is deprecated, will be removed in a future version.  Instead of adding/subtracting `n`, use `n * self.freq`\n",
      "  # This is added back by InteractiveShellApp.init_path()\n",
      "/scratch_ssd/hpda/anaconda3/envs/gluonts/lib/python3.6/site-packages/ipykernel_launcher.py:14: FutureWarning: Addition/subtraction of integers and integer-arrays to Timestamp is deprecated, will be removed in a future version.  Instead of adding/subtracting `n`, use `n * self.freq`\n",
      "  \n",
      "\r",
      "Running evaluation:   0%|          | 0/32 [00:00<?, ?it/s]"
     ]
    },
    {
     "name": "stdout",
     "output_type": "stream",
     "text": [
      "model: acc={0.74}, mae={1.07}, rmse={2.42},r2={0.92}, \n",
      "            naive: acc={0.73}, mae={1.16}, rmse={3.05},r2={0.88}\n",
      "[[0.7393617  1.07159353 2.41942456 0.9235528 ]\n",
      " [0.73404255 1.16255107 3.05012312 0.87850116]]\n"
     ]
    },
    {
     "name": "stderr",
     "output_type": "stream",
     "text": [
      "Running evaluation: 100%|██████████| 32/32 [00:00<00:00, 132.50it/s]\n",
      "/N/u/pengb/hpda/indycar/predictor/src/indycar/model/stint_simulator_shortterm_pitmodel.py:196: SettingWithCopyWarning: \n",
      "A value is trying to be set on a copy of a slice from a DataFrame\n",
      "\n",
      "See the caveats in the documentation: http://pandas.pydata.org/pandas-docs/stable/user_guide/indexing.html#returning-a-view-versus-a-copy\n",
      "  uni_ds['rank_diff'][mask] = 0\n",
      "/N/u/pengb/hpda/indycar/predictor/src/indycar/model/stint_simulator_shortterm_pitmodel.py:200: SettingWithCopyWarning: \n",
      "A value is trying to be set on a copy of a slice from a DataFrame\n",
      "\n",
      "See the caveats in the documentation: http://pandas.pydata.org/pandas-docs/stable/user_guide/indexing.html#returning-a-view-versus-a-copy\n",
      "  uni_ds['time_diff'][mask] = 0\n"
     ]
    },
    {
     "name": "stdout",
     "output_type": "stream",
     "text": [
      "0.04756983888502083 0.07552493678771666 0.03637607338732334\n"
     ]
    },
    {
     "name": "stderr",
     "output_type": "stream",
     "text": [
      "INFO:root:Using GPU\n"
     ]
    },
    {
     "name": "stdout",
     "output_type": "stream",
     "text": [
      "init: load dataset with 7 races, 58 cars\n",
      "predicting model=oracle, plen=2\n",
      "loading model...done!, ctx:gpu(0)\n",
      "a short ts: carid=88，len=4\n"
     ]
    },
    {
     "name": "stderr",
     "output_type": "stream",
     "text": [
      "/scratch_ssd/hpda/anaconda3/envs/gluonts/lib/python3.6/site-packages/ipykernel_launcher.py:9: DeprecationWarning: elementwise comparison failed; this will raise an error in the future.\n",
      "  if __name__ == '__main__':\n",
      "/scratch_ssd/hpda/anaconda3/envs/gluonts/lib/python3.6/site-packages/ipykernel_launcher.py:11: FutureWarning: Addition/subtraction of integers and integer-arrays to Timestamp is deprecated, will be removed in a future version.  Instead of adding/subtracting `n`, use `n * self.freq`\n",
      "  # This is added back by InteractiveShellApp.init_path()\n",
      "/scratch_ssd/hpda/anaconda3/envs/gluonts/lib/python3.6/site-packages/ipykernel_launcher.py:14: FutureWarning: Addition/subtraction of integers and integer-arrays to Timestamp is deprecated, will be removed in a future version.  Instead of adding/subtracting `n`, use `n * self.freq`\n",
      "  \n",
      "\r",
      "Running evaluation:   0%|          | 0/32 [00:00<?, ?it/s]"
     ]
    },
    {
     "name": "stdout",
     "output_type": "stream",
     "text": [
      "model: acc={0.84}, mae={0.96}, rmse={2.26},r2={0.93}, \n",
      "            naive: acc={0.73}, mae={1.16}, rmse={3.05},r2={0.88}\n",
      "[[0.83510638 0.95505418 2.26225173 0.93316264]\n",
      " [0.73404255 1.16255107 3.05012312 0.87850116]]\n"
     ]
    },
    {
     "name": "stderr",
     "output_type": "stream",
     "text": [
      "Running evaluation: 100%|██████████| 32/32 [00:00<00:00, 99.77it/s]\n",
      "/N/u/pengb/hpda/indycar/predictor/src/indycar/model/stint_simulator_shortterm_pitmodel.py:196: SettingWithCopyWarning: \n",
      "A value is trying to be set on a copy of a slice from a DataFrame\n",
      "\n",
      "See the caveats in the documentation: http://pandas.pydata.org/pandas-docs/stable/user_guide/indexing.html#returning-a-view-versus-a-copy\n",
      "  uni_ds['rank_diff'][mask] = 0\n",
      "/N/u/pengb/hpda/indycar/predictor/src/indycar/model/stint_simulator_shortterm_pitmodel.py:200: SettingWithCopyWarning: \n",
      "A value is trying to be set on a copy of a slice from a DataFrame\n",
      "\n",
      "See the caveats in the documentation: http://pandas.pydata.org/pandas-docs/stable/user_guide/indexing.html#returning-a-view-versus-a-copy\n",
      "  uni_ds['time_diff'][mask] = 0\n"
     ]
    },
    {
     "name": "stdout",
     "output_type": "stream",
     "text": [
      "0.03985244359754236 0.06833034067450866 0.03528894426325625\n",
      "init: load dataset with 7 races, 58 cars\n",
      "predicting model=oracle, plen=2\n"
     ]
    },
    {
     "name": "stderr",
     "output_type": "stream",
     "text": [
      "INFO:root:Using GPU\n"
     ]
    },
    {
     "name": "stdout",
     "output_type": "stream",
     "text": [
      "init: load dataset with 7 races, 58 cars\n",
      "predicting model=oracle, plen=2\n",
      "loading model...done!, ctx:gpu(0)\n"
     ]
    },
    {
     "name": "stderr",
     "output_type": "stream",
     "text": [
      "/scratch_ssd/hpda/anaconda3/envs/gluonts/lib/python3.6/site-packages/ipykernel_launcher.py:9: DeprecationWarning: elementwise comparison failed; this will raise an error in the future.\n",
      "  if __name__ == '__main__':\n",
      "/scratch_ssd/hpda/anaconda3/envs/gluonts/lib/python3.6/site-packages/ipykernel_launcher.py:11: FutureWarning: Addition/subtraction of integers and integer-arrays to Timestamp is deprecated, will be removed in a future version.  Instead of adding/subtracting `n`, use `n * self.freq`\n",
      "  # This is added back by InteractiveShellApp.init_path()\n",
      "/scratch_ssd/hpda/anaconda3/envs/gluonts/lib/python3.6/site-packages/ipykernel_launcher.py:14: FutureWarning: Addition/subtraction of integers and integer-arrays to Timestamp is deprecated, will be removed in a future version.  Instead of adding/subtracting `n`, use `n * self.freq`\n",
      "  \n",
      "\r",
      "Running evaluation:   0%|          | 0/33 [00:00<?, ?it/s]"
     ]
    },
    {
     "name": "stdout",
     "output_type": "stream",
     "text": [
      "model: acc={0.78}, mae={1.21}, rmse={2.72},r2={0.90}, \n",
      "            naive: acc={0.72}, mae={1.34}, rmse={3.25},r2={0.85}\n",
      "[[0.77659574 1.20973783 2.72462759 0.89635443]\n",
      " [0.71808511 1.33932584 3.24896987 0.85262365]]\n"
     ]
    },
    {
     "name": "stderr",
     "output_type": "stream",
     "text": [
      "Running evaluation: 100%|██████████| 33/33 [00:00<00:00, 140.36it/s]\n",
      "/N/u/pengb/hpda/indycar/predictor/src/indycar/model/stint_simulator_shortterm_pitmodel.py:196: SettingWithCopyWarning: \n",
      "A value is trying to be set on a copy of a slice from a DataFrame\n",
      "\n",
      "See the caveats in the documentation: http://pandas.pydata.org/pandas-docs/stable/user_guide/indexing.html#returning-a-view-versus-a-copy\n",
      "  uni_ds['rank_diff'][mask] = 0\n",
      "/N/u/pengb/hpda/indycar/predictor/src/indycar/model/stint_simulator_shortterm_pitmodel.py:200: SettingWithCopyWarning: \n",
      "A value is trying to be set on a copy of a slice from a DataFrame\n",
      "\n",
      "See the caveats in the documentation: http://pandas.pydata.org/pandas-docs/stable/user_guide/indexing.html#returning-a-view-versus-a-copy\n",
      "  uni_ds['time_diff'][mask] = 0\n"
     ]
    },
    {
     "name": "stdout",
     "output_type": "stream",
     "text": [
      "0.0560466875607911 0.0902815303144926 0.04480979141899924\n"
     ]
    },
    {
     "name": "stderr",
     "output_type": "stream",
     "text": [
      "INFO:root:Using GPU\n"
     ]
    },
    {
     "name": "stdout",
     "output_type": "stream",
     "text": [
      "init: load dataset with 7 races, 58 cars\n",
      "predicting model=oracle, plen=2\n",
      "loading model...done!, ctx:gpu(0)\n"
     ]
    },
    {
     "name": "stderr",
     "output_type": "stream",
     "text": [
      "/scratch_ssd/hpda/anaconda3/envs/gluonts/lib/python3.6/site-packages/ipykernel_launcher.py:9: DeprecationWarning: elementwise comparison failed; this will raise an error in the future.\n",
      "  if __name__ == '__main__':\n",
      "/scratch_ssd/hpda/anaconda3/envs/gluonts/lib/python3.6/site-packages/ipykernel_launcher.py:11: FutureWarning: Addition/subtraction of integers and integer-arrays to Timestamp is deprecated, will be removed in a future version.  Instead of adding/subtracting `n`, use `n * self.freq`\n",
      "  # This is added back by InteractiveShellApp.init_path()\n",
      "/scratch_ssd/hpda/anaconda3/envs/gluonts/lib/python3.6/site-packages/ipykernel_launcher.py:14: FutureWarning: Addition/subtraction of integers and integer-arrays to Timestamp is deprecated, will be removed in a future version.  Instead of adding/subtracting `n`, use `n * self.freq`\n",
      "  \n",
      "\r",
      "Running evaluation:   0%|          | 0/33 [00:00<?, ?it/s]"
     ]
    },
    {
     "name": "stdout",
     "output_type": "stream",
     "text": [
      "model: acc={0.85}, mae={0.88}, rmse={2.09},r2={0.94}, \n",
      "            naive: acc={0.72}, mae={1.34}, rmse={3.25},r2={0.85}\n",
      "[[0.85106383 0.87827715 2.09440131 0.93875703]\n",
      " [0.71808511 1.33932584 3.24896987 0.85262365]]\n"
     ]
    },
    {
     "name": "stderr",
     "output_type": "stream",
     "text": [
      "Running evaluation: 100%|██████████| 33/33 [00:00<00:00, 113.06it/s]\n",
      "/N/u/pengb/hpda/indycar/predictor/src/indycar/model/stint_simulator_shortterm_pitmodel.py:196: SettingWithCopyWarning: \n",
      "A value is trying to be set on a copy of a slice from a DataFrame\n",
      "\n",
      "See the caveats in the documentation: http://pandas.pydata.org/pandas-docs/stable/user_guide/indexing.html#returning-a-view-versus-a-copy\n",
      "  uni_ds['rank_diff'][mask] = 0\n",
      "/N/u/pengb/hpda/indycar/predictor/src/indycar/model/stint_simulator_shortterm_pitmodel.py:200: SettingWithCopyWarning: \n",
      "A value is trying to be set on a copy of a slice from a DataFrame\n",
      "\n",
      "See the caveats in the documentation: http://pandas.pydata.org/pandas-docs/stable/user_guide/indexing.html#returning-a-view-versus-a-copy\n",
      "  uni_ds['time_diff'][mask] = 0\n"
     ]
    },
    {
     "name": "stdout",
     "output_type": "stream",
     "text": [
      "0.04387225764616881 0.06604614719550415 0.03654760618177888\n"
     ]
    },
    {
     "name": "stderr",
     "output_type": "stream",
     "text": [
      "INFO:root:Using GPU\n"
     ]
    },
    {
     "name": "stdout",
     "output_type": "stream",
     "text": [
      "init: load dataset with 7 races, 58 cars\n",
      "predicting model=oracle, plen=2\n",
      "loading model...done!, ctx:gpu(0)\n"
     ]
    },
    {
     "name": "stderr",
     "output_type": "stream",
     "text": [
      "/scratch_ssd/hpda/anaconda3/envs/gluonts/lib/python3.6/site-packages/ipykernel_launcher.py:9: DeprecationWarning: elementwise comparison failed; this will raise an error in the future.\n",
      "  if __name__ == '__main__':\n",
      "/scratch_ssd/hpda/anaconda3/envs/gluonts/lib/python3.6/site-packages/ipykernel_launcher.py:11: FutureWarning: Addition/subtraction of integers and integer-arrays to Timestamp is deprecated, will be removed in a future version.  Instead of adding/subtracting `n`, use `n * self.freq`\n",
      "  # This is added back by InteractiveShellApp.init_path()\n",
      "/scratch_ssd/hpda/anaconda3/envs/gluonts/lib/python3.6/site-packages/ipykernel_launcher.py:14: FutureWarning: Addition/subtraction of integers and integer-arrays to Timestamp is deprecated, will be removed in a future version.  Instead of adding/subtracting `n`, use `n * self.freq`\n",
      "  \n",
      "\r",
      "Running evaluation:   0%|          | 0/33 [00:00<?, ?it/s]"
     ]
    },
    {
     "name": "stdout",
     "output_type": "stream",
     "text": [
      "model: acc={0.77}, mae={1.21}, rmse={2.70},r2={0.90}, \n",
      "            naive: acc={0.72}, mae={1.34}, rmse={3.25},r2={0.85}\n",
      "[[0.7712766  1.20749064 2.70074203 0.89816369]\n",
      " [0.71808511 1.33932584 3.24896987 0.85262365]]\n"
     ]
    },
    {
     "name": "stderr",
     "output_type": "stream",
     "text": [
      "Running evaluation: 100%|██████████| 33/33 [00:00<00:00, 135.88it/s]\n",
      "/N/u/pengb/hpda/indycar/predictor/src/indycar/model/stint_simulator_shortterm_pitmodel.py:196: SettingWithCopyWarning: \n",
      "A value is trying to be set on a copy of a slice from a DataFrame\n",
      "\n",
      "See the caveats in the documentation: http://pandas.pydata.org/pandas-docs/stable/user_guide/indexing.html#returning-a-view-versus-a-copy\n",
      "  uni_ds['rank_diff'][mask] = 0\n",
      "/N/u/pengb/hpda/indycar/predictor/src/indycar/model/stint_simulator_shortterm_pitmodel.py:200: SettingWithCopyWarning: \n",
      "A value is trying to be set on a copy of a slice from a DataFrame\n",
      "\n",
      "See the caveats in the documentation: http://pandas.pydata.org/pandas-docs/stable/user_guide/indexing.html#returning-a-view-versus-a-copy\n",
      "  uni_ds['time_diff'][mask] = 0\n"
     ]
    },
    {
     "name": "stdout",
     "output_type": "stream",
     "text": [
      "0.05774073273532908 0.09134875175618719 0.0445531179077056\n"
     ]
    },
    {
     "name": "stderr",
     "output_type": "stream",
     "text": [
      "INFO:root:Using GPU\n"
     ]
    },
    {
     "name": "stdout",
     "output_type": "stream",
     "text": [
      "init: load dataset with 7 races, 58 cars\n",
      "predicting model=oracle, plen=2\n",
      "loading model...done!, ctx:gpu(0)\n",
      "a short ts: carid=88，len=4\n"
     ]
    },
    {
     "name": "stderr",
     "output_type": "stream",
     "text": [
      "/scratch_ssd/hpda/anaconda3/envs/gluonts/lib/python3.6/site-packages/ipykernel_launcher.py:9: DeprecationWarning: elementwise comparison failed; this will raise an error in the future.\n",
      "  if __name__ == '__main__':\n",
      "/scratch_ssd/hpda/anaconda3/envs/gluonts/lib/python3.6/site-packages/ipykernel_launcher.py:11: FutureWarning: Addition/subtraction of integers and integer-arrays to Timestamp is deprecated, will be removed in a future version.  Instead of adding/subtracting `n`, use `n * self.freq`\n",
      "  # This is added back by InteractiveShellApp.init_path()\n",
      "/scratch_ssd/hpda/anaconda3/envs/gluonts/lib/python3.6/site-packages/ipykernel_launcher.py:14: FutureWarning: Addition/subtraction of integers and integer-arrays to Timestamp is deprecated, will be removed in a future version.  Instead of adding/subtracting `n`, use `n * self.freq`\n",
      "  \n",
      "\r",
      "Running evaluation:   0%|          | 0/32 [00:00<?, ?it/s]"
     ]
    },
    {
     "name": "stdout",
     "output_type": "stream",
     "text": [
      "model: acc={0.71}, mae={1.19}, rmse={2.68},r2={0.91}, \n",
      "            naive: acc={0.73}, mae={1.16}, rmse={3.05},r2={0.88}\n",
      "[[0.71276596 1.19097531 2.6837847  0.90593399]\n",
      " [0.73404255 1.16255107 3.05012312 0.87850116]]\n"
     ]
    },
    {
     "name": "stderr",
     "output_type": "stream",
     "text": [
      "Running evaluation: 100%|██████████| 32/32 [00:00<00:00, 148.62it/s]\n",
      "/N/u/pengb/hpda/indycar/predictor/src/indycar/model/stint_simulator_shortterm_pitmodel.py:196: SettingWithCopyWarning: \n",
      "A value is trying to be set on a copy of a slice from a DataFrame\n",
      "\n",
      "See the caveats in the documentation: http://pandas.pydata.org/pandas-docs/stable/user_guide/indexing.html#returning-a-view-versus-a-copy\n",
      "  uni_ds['rank_diff'][mask] = 0\n",
      "/N/u/pengb/hpda/indycar/predictor/src/indycar/model/stint_simulator_shortterm_pitmodel.py:200: SettingWithCopyWarning: \n",
      "A value is trying to be set on a copy of a slice from a DataFrame\n",
      "\n",
      "See the caveats in the documentation: http://pandas.pydata.org/pandas-docs/stable/user_guide/indexing.html#returning-a-view-versus-a-copy\n",
      "  uni_ds['time_diff'][mask] = 0\n"
     ]
    },
    {
     "name": "stdout",
     "output_type": "stream",
     "text": [
      "0.04624818302857073 0.08152246937105305 0.038379322559761564\n"
     ]
    },
    {
     "name": "stderr",
     "output_type": "stream",
     "text": [
      "INFO:root:Using GPU\n"
     ]
    },
    {
     "name": "stdout",
     "output_type": "stream",
     "text": [
      "init: load dataset with 7 races, 58 cars\n",
      "predicting model=oracle, plen=2\n",
      "loading model...done!, ctx:gpu(0)\n",
      "a short ts: carid=88，len=4\n"
     ]
    },
    {
     "name": "stderr",
     "output_type": "stream",
     "text": [
      "/scratch_ssd/hpda/anaconda3/envs/gluonts/lib/python3.6/site-packages/ipykernel_launcher.py:9: DeprecationWarning: elementwise comparison failed; this will raise an error in the future.\n",
      "  if __name__ == '__main__':\n",
      "/scratch_ssd/hpda/anaconda3/envs/gluonts/lib/python3.6/site-packages/ipykernel_launcher.py:11: FutureWarning: Addition/subtraction of integers and integer-arrays to Timestamp is deprecated, will be removed in a future version.  Instead of adding/subtracting `n`, use `n * self.freq`\n",
      "  # This is added back by InteractiveShellApp.init_path()\n",
      "/scratch_ssd/hpda/anaconda3/envs/gluonts/lib/python3.6/site-packages/ipykernel_launcher.py:14: FutureWarning: Addition/subtraction of integers and integer-arrays to Timestamp is deprecated, will be removed in a future version.  Instead of adding/subtracting `n`, use `n * self.freq`\n",
      "  \n",
      "\r",
      "Running evaluation:   0%|          | 0/32 [00:00<?, ?it/s]"
     ]
    },
    {
     "name": "stdout",
     "output_type": "stream",
     "text": [
      "model: acc={0.82}, mae={0.81}, rmse={1.98},r2={0.95}, \n",
      "            naive: acc={0.73}, mae={1.16}, rmse={3.05},r2={0.88}\n",
      "[[0.82446809 0.80760348 1.97883633 0.94886042]\n",
      " [0.73404255 1.16255107 3.05012312 0.87850116]]\n"
     ]
    },
    {
     "name": "stderr",
     "output_type": "stream",
     "text": [
      "Running evaluation: 100%|██████████| 32/32 [00:00<00:00, 136.75it/s]\n",
      "/N/u/pengb/hpda/indycar/predictor/src/indycar/model/stint_simulator_shortterm_pitmodel.py:196: SettingWithCopyWarning: \n",
      "A value is trying to be set on a copy of a slice from a DataFrame\n",
      "\n",
      "See the caveats in the documentation: http://pandas.pydata.org/pandas-docs/stable/user_guide/indexing.html#returning-a-view-versus-a-copy\n",
      "  uni_ds['rank_diff'][mask] = 0\n",
      "/N/u/pengb/hpda/indycar/predictor/src/indycar/model/stint_simulator_shortterm_pitmodel.py:200: SettingWithCopyWarning: \n",
      "A value is trying to be set on a copy of a slice from a DataFrame\n",
      "\n",
      "See the caveats in the documentation: http://pandas.pydata.org/pandas-docs/stable/user_guide/indexing.html#returning-a-view-versus-a-copy\n",
      "  uni_ds['time_diff'][mask] = 0\n"
     ]
    },
    {
     "name": "stdout",
     "output_type": "stream",
     "text": [
      "0.03519366777822567 0.0593523642004715 0.03145345499407575\n"
     ]
    },
    {
     "name": "stderr",
     "output_type": "stream",
     "text": [
      "INFO:root:Using GPU\n"
     ]
    },
    {
     "name": "stdout",
     "output_type": "stream",
     "text": [
      "init: load dataset with 7 races, 58 cars\n",
      "predicting model=oracle, plen=2\n",
      "loading model...done!, ctx:gpu(0)\n",
      "a short ts: carid=88，len=4\n"
     ]
    },
    {
     "name": "stderr",
     "output_type": "stream",
     "text": [
      "/scratch_ssd/hpda/anaconda3/envs/gluonts/lib/python3.6/site-packages/ipykernel_launcher.py:9: DeprecationWarning: elementwise comparison failed; this will raise an error in the future.\n",
      "  if __name__ == '__main__':\n",
      "/scratch_ssd/hpda/anaconda3/envs/gluonts/lib/python3.6/site-packages/ipykernel_launcher.py:11: FutureWarning: Addition/subtraction of integers and integer-arrays to Timestamp is deprecated, will be removed in a future version.  Instead of adding/subtracting `n`, use `n * self.freq`\n",
      "  # This is added back by InteractiveShellApp.init_path()\n",
      "/scratch_ssd/hpda/anaconda3/envs/gluonts/lib/python3.6/site-packages/ipykernel_launcher.py:14: FutureWarning: Addition/subtraction of integers and integer-arrays to Timestamp is deprecated, will be removed in a future version.  Instead of adding/subtracting `n`, use `n * self.freq`\n",
      "  \n",
      "\r",
      "Running evaluation:   0%|          | 0/32 [00:00<?, ?it/s]"
     ]
    },
    {
     "name": "stdout",
     "output_type": "stream",
     "text": [
      "model: acc={0.71}, mae={1.16}, rmse={2.66},r2={0.91}, \n",
      "            naive: acc={0.73}, mae={1.16}, rmse={3.05},r2={0.88}\n",
      "[[0.70744681 1.16397229 2.66465252 0.90727036]\n",
      " [0.73404255 1.16255107 3.05012312 0.87850116]]\n"
     ]
    },
    {
     "name": "stderr",
     "output_type": "stream",
     "text": [
      "Running evaluation: 100%|██████████| 32/32 [00:00<00:00, 137.52it/s]\n",
      "/N/u/pengb/hpda/indycar/predictor/src/indycar/model/stint_simulator_shortterm_pitmodel.py:196: SettingWithCopyWarning: \n",
      "A value is trying to be set on a copy of a slice from a DataFrame\n",
      "\n",
      "See the caveats in the documentation: http://pandas.pydata.org/pandas-docs/stable/user_guide/indexing.html#returning-a-view-versus-a-copy\n",
      "  uni_ds['rank_diff'][mask] = 0\n",
      "/N/u/pengb/hpda/indycar/predictor/src/indycar/model/stint_simulator_shortterm_pitmodel.py:200: SettingWithCopyWarning: \n",
      "A value is trying to be set on a copy of a slice from a DataFrame\n",
      "\n",
      "See the caveats in the documentation: http://pandas.pydata.org/pandas-docs/stable/user_guide/indexing.html#returning-a-view-versus-a-copy\n",
      "  uni_ds['time_diff'][mask] = 0\n"
     ]
    },
    {
     "name": "stdout",
     "output_type": "stream",
     "text": [
      "0.04789964210243444 0.08153468430503133 0.038499028912748715\n"
     ]
    },
    {
     "name": "stderr",
     "output_type": "stream",
     "text": [
      "INFO:root:Using GPU\n"
     ]
    },
    {
     "name": "stdout",
     "output_type": "stream",
     "text": [
      "init: load dataset with 7 races, 58 cars\n",
      "predicting model=oracle, plen=2\n",
      "loading model...done!, ctx:gpu(0)\n"
     ]
    },
    {
     "name": "stderr",
     "output_type": "stream",
     "text": [
      "/scratch_ssd/hpda/anaconda3/envs/gluonts/lib/python3.6/site-packages/ipykernel_launcher.py:9: DeprecationWarning: elementwise comparison failed; this will raise an error in the future.\n",
      "  if __name__ == '__main__':\n",
      "/scratch_ssd/hpda/anaconda3/envs/gluonts/lib/python3.6/site-packages/ipykernel_launcher.py:11: FutureWarning: Addition/subtraction of integers and integer-arrays to Timestamp is deprecated, will be removed in a future version.  Instead of adding/subtracting `n`, use `n * self.freq`\n",
      "  # This is added back by InteractiveShellApp.init_path()\n",
      "/scratch_ssd/hpda/anaconda3/envs/gluonts/lib/python3.6/site-packages/ipykernel_launcher.py:14: FutureWarning: Addition/subtraction of integers and integer-arrays to Timestamp is deprecated, will be removed in a future version.  Instead of adding/subtracting `n`, use `n * self.freq`\n",
      "  \n",
      "\r",
      "Running evaluation:   0%|          | 0/33 [00:00<?, ?it/s]"
     ]
    },
    {
     "name": "stdout",
     "output_type": "stream",
     "text": [
      "model: acc={0.85}, mae={0.98}, rmse={2.27},r2={0.93}, \n",
      "            naive: acc={0.72}, mae={1.34}, rmse={3.25},r2={0.85}\n",
      "[[0.85106383 0.97602996 2.27261832 0.92789101]\n",
      " [0.71808511 1.33932584 3.24896987 0.85262365]]\n"
     ]
    },
    {
     "name": "stderr",
     "output_type": "stream",
     "text": [
      "Running evaluation: 100%|██████████| 33/33 [00:00<00:00, 120.40it/s]\n",
      "/N/u/pengb/hpda/indycar/predictor/src/indycar/model/stint_simulator_shortterm_pitmodel.py:196: SettingWithCopyWarning: \n",
      "A value is trying to be set on a copy of a slice from a DataFrame\n",
      "\n",
      "See the caveats in the documentation: http://pandas.pydata.org/pandas-docs/stable/user_guide/indexing.html#returning-a-view-versus-a-copy\n",
      "  uni_ds['rank_diff'][mask] = 0\n",
      "/N/u/pengb/hpda/indycar/predictor/src/indycar/model/stint_simulator_shortterm_pitmodel.py:200: SettingWithCopyWarning: \n",
      "A value is trying to be set on a copy of a slice from a DataFrame\n",
      "\n",
      "See the caveats in the documentation: http://pandas.pydata.org/pandas-docs/stable/user_guide/indexing.html#returning-a-view-versus-a-copy\n",
      "  uni_ds['time_diff'][mask] = 0\n"
     ]
    },
    {
     "name": "stdout",
     "output_type": "stream",
     "text": [
      "0.04413703663676646 0.07244947584567167 0.04097589970820274\n"
     ]
    },
    {
     "name": "stderr",
     "output_type": "stream",
     "text": [
      "INFO:root:Using GPU\n"
     ]
    },
    {
     "name": "stdout",
     "output_type": "stream",
     "text": [
      "init: load dataset with 7 races, 58 cars\n",
      "predicting model=oracle, plen=2\n",
      "loading model...done!, ctx:gpu(0)\n"
     ]
    },
    {
     "name": "stderr",
     "output_type": "stream",
     "text": [
      "/scratch_ssd/hpda/anaconda3/envs/gluonts/lib/python3.6/site-packages/ipykernel_launcher.py:9: DeprecationWarning: elementwise comparison failed; this will raise an error in the future.\n",
      "  if __name__ == '__main__':\n",
      "/scratch_ssd/hpda/anaconda3/envs/gluonts/lib/python3.6/site-packages/ipykernel_launcher.py:11: FutureWarning: Addition/subtraction of integers and integer-arrays to Timestamp is deprecated, will be removed in a future version.  Instead of adding/subtracting `n`, use `n * self.freq`\n",
      "  # This is added back by InteractiveShellApp.init_path()\n",
      "/scratch_ssd/hpda/anaconda3/envs/gluonts/lib/python3.6/site-packages/ipykernel_launcher.py:14: FutureWarning: Addition/subtraction of integers and integer-arrays to Timestamp is deprecated, will be removed in a future version.  Instead of adding/subtracting `n`, use `n * self.freq`\n",
      "  \n",
      "\r",
      "Running evaluation:   0%|          | 0/33 [00:00<?, ?it/s]"
     ]
    },
    {
     "name": "stdout",
     "output_type": "stream",
     "text": [
      "model: acc={0.85}, mae={1.00}, rmse={2.43},r2={0.92}, \n",
      "            naive: acc={0.72}, mae={1.34}, rmse={3.25},r2={0.85}\n",
      "[[0.85106383 1.00411985 2.43307423 0.91734918]\n",
      " [0.71808511 1.33932584 3.24896987 0.85262365]]\n"
     ]
    },
    {
     "name": "stderr",
     "output_type": "stream",
     "text": [
      "Running evaluation: 100%|██████████| 33/33 [00:00<00:00, 155.67it/s]\n",
      "/N/u/pengb/hpda/indycar/predictor/src/indycar/model/stint_simulator_shortterm_pitmodel.py:196: SettingWithCopyWarning: \n",
      "A value is trying to be set on a copy of a slice from a DataFrame\n",
      "\n",
      "See the caveats in the documentation: http://pandas.pydata.org/pandas-docs/stable/user_guide/indexing.html#returning-a-view-versus-a-copy\n",
      "  uni_ds['rank_diff'][mask] = 0\n",
      "/N/u/pengb/hpda/indycar/predictor/src/indycar/model/stint_simulator_shortterm_pitmodel.py:200: SettingWithCopyWarning: \n",
      "A value is trying to be set on a copy of a slice from a DataFrame\n",
      "\n",
      "See the caveats in the documentation: http://pandas.pydata.org/pandas-docs/stable/user_guide/indexing.html#returning-a-view-versus-a-copy\n",
      "  uni_ds['time_diff'][mask] = 0\n"
     ]
    },
    {
     "name": "stdout",
     "output_type": "stream",
     "text": [
      "0.04582837998486977 0.07338160596563277 0.040611153139522314\n",
      "init: load dataset with 7 races, 58 cars\n",
      "predicting model=oracle, plen=2\n"
     ]
    },
    {
     "name": "stderr",
     "output_type": "stream",
     "text": [
      "INFO:root:Using GPU\n"
     ]
    },
    {
     "name": "stdout",
     "output_type": "stream",
     "text": [
      "init: load dataset with 7 races, 58 cars\n",
      "predicting model=oracle, plen=2\n",
      "loading model...done!, ctx:gpu(0)\n",
      "a short ts: carid=88，len=4\n"
     ]
    },
    {
     "name": "stderr",
     "output_type": "stream",
     "text": [
      "/scratch_ssd/hpda/anaconda3/envs/gluonts/lib/python3.6/site-packages/ipykernel_launcher.py:9: DeprecationWarning: elementwise comparison failed; this will raise an error in the future.\n",
      "  if __name__ == '__main__':\n",
      "/scratch_ssd/hpda/anaconda3/envs/gluonts/lib/python3.6/site-packages/ipykernel_launcher.py:11: FutureWarning: Addition/subtraction of integers and integer-arrays to Timestamp is deprecated, will be removed in a future version.  Instead of adding/subtracting `n`, use `n * self.freq`\n",
      "  # This is added back by InteractiveShellApp.init_path()\n",
      "/scratch_ssd/hpda/anaconda3/envs/gluonts/lib/python3.6/site-packages/ipykernel_launcher.py:14: FutureWarning: Addition/subtraction of integers and integer-arrays to Timestamp is deprecated, will be removed in a future version.  Instead of adding/subtracting `n`, use `n * self.freq`\n",
      "  \n",
      "\r",
      "Running evaluation:   0%|          | 0/32 [00:00<?, ?it/s]"
     ]
    },
    {
     "name": "stdout",
     "output_type": "stream",
     "text": [
      "model: acc={0.89}, mae={0.90}, rmse={2.27},r2={0.93}, \n",
      "            naive: acc={0.73}, mae={1.16}, rmse={3.05},r2={0.88}\n",
      "[[0.88829787 0.89820572 2.27407864 0.93246198]\n",
      " [0.73404255 1.16255107 3.05012312 0.87850116]]\n"
     ]
    },
    {
     "name": "stderr",
     "output_type": "stream",
     "text": [
      "Running evaluation: 100%|██████████| 32/32 [00:00<00:00, 136.74it/s]\n",
      "/N/u/pengb/hpda/indycar/predictor/src/indycar/model/stint_simulator_shortterm_pitmodel.py:196: SettingWithCopyWarning: \n",
      "A value is trying to be set on a copy of a slice from a DataFrame\n",
      "\n",
      "See the caveats in the documentation: http://pandas.pydata.org/pandas-docs/stable/user_guide/indexing.html#returning-a-view-versus-a-copy\n",
      "  uni_ds['rank_diff'][mask] = 0\n",
      "/N/u/pengb/hpda/indycar/predictor/src/indycar/model/stint_simulator_shortterm_pitmodel.py:200: SettingWithCopyWarning: \n",
      "A value is trying to be set on a copy of a slice from a DataFrame\n",
      "\n",
      "See the caveats in the documentation: http://pandas.pydata.org/pandas-docs/stable/user_guide/indexing.html#returning-a-view-versus-a-copy\n",
      "  uni_ds['time_diff'][mask] = 0\n"
     ]
    },
    {
     "name": "stdout",
     "output_type": "stream",
     "text": [
      "0.03547949723331746 0.06294355479008636 0.033991718274762724\n"
     ]
    },
    {
     "name": "stderr",
     "output_type": "stream",
     "text": [
      "INFO:root:Using GPU\n"
     ]
    },
    {
     "name": "stdout",
     "output_type": "stream",
     "text": [
      "init: load dataset with 7 races, 58 cars\n",
      "predicting model=oracle, plen=2\n",
      "loading model...done!, ctx:gpu(0)\n",
      "a short ts: carid=88，len=4\n"
     ]
    },
    {
     "name": "stderr",
     "output_type": "stream",
     "text": [
      "/scratch_ssd/hpda/anaconda3/envs/gluonts/lib/python3.6/site-packages/ipykernel_launcher.py:9: DeprecationWarning: elementwise comparison failed; this will raise an error in the future.\n",
      "  if __name__ == '__main__':\n",
      "/scratch_ssd/hpda/anaconda3/envs/gluonts/lib/python3.6/site-packages/ipykernel_launcher.py:11: FutureWarning: Addition/subtraction of integers and integer-arrays to Timestamp is deprecated, will be removed in a future version.  Instead of adding/subtracting `n`, use `n * self.freq`\n",
      "  # This is added back by InteractiveShellApp.init_path()\n",
      "/scratch_ssd/hpda/anaconda3/envs/gluonts/lib/python3.6/site-packages/ipykernel_launcher.py:14: FutureWarning: Addition/subtraction of integers and integer-arrays to Timestamp is deprecated, will be removed in a future version.  Instead of adding/subtracting `n`, use `n * self.freq`\n",
      "  \n",
      "\r",
      "Running evaluation:   0%|          | 0/32 [00:00<?, ?it/s]"
     ]
    },
    {
     "name": "stdout",
     "output_type": "stream",
     "text": [
      "model: acc={0.87}, mae={0.89}, rmse={2.34},r2={0.93}, \n",
      "            naive: acc={0.73}, mae={1.16}, rmse={3.05},r2={0.88}\n",
      "[[0.86702128 0.89109966 2.342119   0.92836004]\n",
      " [0.73404255 1.16255107 3.05012312 0.87850116]]\n"
     ]
    },
    {
     "name": "stderr",
     "output_type": "stream",
     "text": [
      "Running evaluation: 100%|██████████| 32/32 [00:00<00:00, 147.45it/s]\n",
      "/N/u/pengb/hpda/indycar/predictor/src/indycar/model/stint_simulator_shortterm_pitmodel.py:196: SettingWithCopyWarning: \n",
      "A value is trying to be set on a copy of a slice from a DataFrame\n",
      "\n",
      "See the caveats in the documentation: http://pandas.pydata.org/pandas-docs/stable/user_guide/indexing.html#returning-a-view-versus-a-copy\n",
      "  uni_ds['rank_diff'][mask] = 0\n",
      "/N/u/pengb/hpda/indycar/predictor/src/indycar/model/stint_simulator_shortterm_pitmodel.py:200: SettingWithCopyWarning: \n",
      "A value is trying to be set on a copy of a slice from a DataFrame\n",
      "\n",
      "See the caveats in the documentation: http://pandas.pydata.org/pandas-docs/stable/user_guide/indexing.html#returning-a-view-versus-a-copy\n",
      "  uni_ds['time_diff'][mask] = 0\n"
     ]
    },
    {
     "name": "stdout",
     "output_type": "stream",
     "text": [
      "0.03619040639085346 0.06152662244860566 0.03474660119462054\n",
      "init: load dataset with 7 races, 58 cars\n",
      "predicting model=oracle, plen=2\n"
     ]
    },
    {
     "name": "stderr",
     "output_type": "stream",
     "text": [
      "INFO:root:Using GPU\n"
     ]
    },
    {
     "name": "stdout",
     "output_type": "stream",
     "text": [
      "init: load dataset with 7 races, 58 cars\n",
      "predicting model=oracle, plen=2\n",
      "loading model...done!, ctx:gpu(0)\n"
     ]
    },
    {
     "name": "stderr",
     "output_type": "stream",
     "text": [
      "/scratch_ssd/hpda/anaconda3/envs/gluonts/lib/python3.6/site-packages/ipykernel_launcher.py:9: DeprecationWarning: elementwise comparison failed; this will raise an error in the future.\n",
      "  if __name__ == '__main__':\n",
      "/scratch_ssd/hpda/anaconda3/envs/gluonts/lib/python3.6/site-packages/ipykernel_launcher.py:11: FutureWarning: Addition/subtraction of integers and integer-arrays to Timestamp is deprecated, will be removed in a future version.  Instead of adding/subtracting `n`, use `n * self.freq`\n",
      "  # This is added back by InteractiveShellApp.init_path()\n",
      "/scratch_ssd/hpda/anaconda3/envs/gluonts/lib/python3.6/site-packages/ipykernel_launcher.py:14: FutureWarning: Addition/subtraction of integers and integer-arrays to Timestamp is deprecated, will be removed in a future version.  Instead of adding/subtracting `n`, use `n * self.freq`\n",
      "  \n",
      "\r",
      "Running evaluation:   0%|          | 0/33 [00:00<?, ?it/s]"
     ]
    },
    {
     "name": "stdout",
     "output_type": "stream",
     "text": [
      "model: acc={0.77}, mae={1.26}, rmse={2.96},r2={0.88}, \n",
      "            naive: acc={0.72}, mae={1.34}, rmse={3.25},r2={0.85}\n",
      "[[0.76595745 1.26067416 2.95781831 0.87785395]\n",
      " [0.71808511 1.33932584 3.24896987 0.85262365]]\n"
     ]
    },
    {
     "name": "stderr",
     "output_type": "stream",
     "text": [
      "Running evaluation: 100%|██████████| 33/33 [00:00<00:00, 125.22it/s]\n",
      "/N/u/pengb/hpda/indycar/predictor/src/indycar/model/stint_simulator_shortterm_pitmodel.py:196: SettingWithCopyWarning: \n",
      "A value is trying to be set on a copy of a slice from a DataFrame\n",
      "\n",
      "See the caveats in the documentation: http://pandas.pydata.org/pandas-docs/stable/user_guide/indexing.html#returning-a-view-versus-a-copy\n",
      "  uni_ds['rank_diff'][mask] = 0\n",
      "/N/u/pengb/hpda/indycar/predictor/src/indycar/model/stint_simulator_shortterm_pitmodel.py:200: SettingWithCopyWarning: \n",
      "A value is trying to be set on a copy of a slice from a DataFrame\n",
      "\n",
      "See the caveats in the documentation: http://pandas.pydata.org/pandas-docs/stable/user_guide/indexing.html#returning-a-view-versus-a-copy\n",
      "  uni_ds['time_diff'][mask] = 0\n"
     ]
    },
    {
     "name": "stdout",
     "output_type": "stream",
     "text": [
      "0.04689830325299903 0.0827839619582838 0.04128120609532043\n"
     ]
    },
    {
     "name": "stderr",
     "output_type": "stream",
     "text": [
      "INFO:root:Using GPU\n"
     ]
    },
    {
     "name": "stdout",
     "output_type": "stream",
     "text": [
      "init: load dataset with 7 races, 58 cars\n",
      "predicting model=oracle, plen=2\n",
      "loading model...done!, ctx:gpu(0)\n"
     ]
    },
    {
     "name": "stderr",
     "output_type": "stream",
     "text": [
      "/scratch_ssd/hpda/anaconda3/envs/gluonts/lib/python3.6/site-packages/ipykernel_launcher.py:9: DeprecationWarning: elementwise comparison failed; this will raise an error in the future.\n",
      "  if __name__ == '__main__':\n",
      "/scratch_ssd/hpda/anaconda3/envs/gluonts/lib/python3.6/site-packages/ipykernel_launcher.py:11: FutureWarning: Addition/subtraction of integers and integer-arrays to Timestamp is deprecated, will be removed in a future version.  Instead of adding/subtracting `n`, use `n * self.freq`\n",
      "  # This is added back by InteractiveShellApp.init_path()\n",
      "/scratch_ssd/hpda/anaconda3/envs/gluonts/lib/python3.6/site-packages/ipykernel_launcher.py:14: FutureWarning: Addition/subtraction of integers and integer-arrays to Timestamp is deprecated, will be removed in a future version.  Instead of adding/subtracting `n`, use `n * self.freq`\n",
      "  \n",
      "\r",
      "Running evaluation:   0%|          | 0/33 [00:00<?, ?it/s]"
     ]
    },
    {
     "name": "stdout",
     "output_type": "stream",
     "text": [
      "model: acc={0.82}, mae={1.14}, rmse={2.72},r2={0.90}, \n",
      "            naive: acc={0.72}, mae={1.34}, rmse={3.25},r2={0.85}\n",
      "[[0.82446809 1.13595506 2.72469632 0.8963492 ]\n",
      " [0.71808511 1.33932584 3.24896987 0.85262365]]\n"
     ]
    },
    {
     "name": "stderr",
     "output_type": "stream",
     "text": [
      "Running evaluation: 100%|██████████| 33/33 [00:00<00:00, 145.60it/s]\n",
      "/N/u/pengb/hpda/indycar/predictor/src/indycar/model/stint_simulator_shortterm_pitmodel.py:196: SettingWithCopyWarning: \n",
      "A value is trying to be set on a copy of a slice from a DataFrame\n",
      "\n",
      "See the caveats in the documentation: http://pandas.pydata.org/pandas-docs/stable/user_guide/indexing.html#returning-a-view-versus-a-copy\n",
      "  uni_ds['rank_diff'][mask] = 0\n",
      "/N/u/pengb/hpda/indycar/predictor/src/indycar/model/stint_simulator_shortterm_pitmodel.py:200: SettingWithCopyWarning: \n",
      "A value is trying to be set on a copy of a slice from a DataFrame\n",
      "\n",
      "See the caveats in the documentation: http://pandas.pydata.org/pandas-docs/stable/user_guide/indexing.html#returning-a-view-versus-a-copy\n",
      "  uni_ds['time_diff'][mask] = 0\n"
     ]
    },
    {
     "name": "stdout",
     "output_type": "stream",
     "text": [
      "0.04926780503620448 0.07897438668539933 0.03766075867286285\n"
     ]
    },
    {
     "name": "stderr",
     "output_type": "stream",
     "text": [
      "INFO:root:Using GPU\n"
     ]
    },
    {
     "name": "stdout",
     "output_type": "stream",
     "text": [
      "init: load dataset with 7 races, 58 cars\n",
      "predicting model=oracle, plen=2\n",
      "loading model...done!, ctx:gpu(0)\n"
     ]
    },
    {
     "name": "stderr",
     "output_type": "stream",
     "text": [
      "/scratch_ssd/hpda/anaconda3/envs/gluonts/lib/python3.6/site-packages/ipykernel_launcher.py:9: DeprecationWarning: elementwise comparison failed; this will raise an error in the future.\n",
      "  if __name__ == '__main__':\n",
      "/scratch_ssd/hpda/anaconda3/envs/gluonts/lib/python3.6/site-packages/ipykernel_launcher.py:11: FutureWarning: Addition/subtraction of integers and integer-arrays to Timestamp is deprecated, will be removed in a future version.  Instead of adding/subtracting `n`, use `n * self.freq`\n",
      "  # This is added back by InteractiveShellApp.init_path()\n",
      "/scratch_ssd/hpda/anaconda3/envs/gluonts/lib/python3.6/site-packages/ipykernel_launcher.py:14: FutureWarning: Addition/subtraction of integers and integer-arrays to Timestamp is deprecated, will be removed in a future version.  Instead of adding/subtracting `n`, use `n * self.freq`\n",
      "  \n",
      "\r",
      "Running evaluation:   0%|          | 0/33 [00:00<?, ?it/s]"
     ]
    },
    {
     "name": "stdout",
     "output_type": "stream",
     "text": [
      "model: acc={0.79}, mae={1.29}, rmse={3.04},r2={0.87}, \n",
      "            naive: acc={0.72}, mae={1.34}, rmse={3.25},r2={0.85}\n",
      "[[0.79255319 1.28501873 3.04153519 0.87084176]\n",
      " [0.71808511 1.33932584 3.24896987 0.85262365]]\n"
     ]
    },
    {
     "name": "stderr",
     "output_type": "stream",
     "text": [
      "Running evaluation: 100%|██████████| 33/33 [00:00<00:00, 142.30it/s]\n",
      "/N/u/pengb/hpda/indycar/predictor/src/indycar/model/stint_simulator_shortterm_pitmodel.py:196: SettingWithCopyWarning: \n",
      "A value is trying to be set on a copy of a slice from a DataFrame\n",
      "\n",
      "See the caveats in the documentation: http://pandas.pydata.org/pandas-docs/stable/user_guide/indexing.html#returning-a-view-versus-a-copy\n",
      "  uni_ds['rank_diff'][mask] = 0\n",
      "/N/u/pengb/hpda/indycar/predictor/src/indycar/model/stint_simulator_shortterm_pitmodel.py:200: SettingWithCopyWarning: \n",
      "A value is trying to be set on a copy of a slice from a DataFrame\n",
      "\n",
      "See the caveats in the documentation: http://pandas.pydata.org/pandas-docs/stable/user_guide/indexing.html#returning-a-view-versus-a-copy\n",
      "  uni_ds['time_diff'][mask] = 0\n"
     ]
    },
    {
     "name": "stdout",
     "output_type": "stream",
     "text": [
      "0.04781692424078677 0.08404031125040527 0.042105263157894736\n"
     ]
    },
    {
     "name": "stderr",
     "output_type": "stream",
     "text": [
      "INFO:root:Using GPU\n"
     ]
    },
    {
     "name": "stdout",
     "output_type": "stream",
     "text": [
      "init: load dataset with 7 races, 58 cars\n",
      "predicting model=oracle, plen=2\n",
      "loading model...done!, ctx:gpu(0)\n",
      "a short ts: carid=88，len=4\n"
     ]
    },
    {
     "name": "stderr",
     "output_type": "stream",
     "text": [
      "/scratch_ssd/hpda/anaconda3/envs/gluonts/lib/python3.6/site-packages/ipykernel_launcher.py:9: DeprecationWarning: elementwise comparison failed; this will raise an error in the future.\n",
      "  if __name__ == '__main__':\n",
      "/scratch_ssd/hpda/anaconda3/envs/gluonts/lib/python3.6/site-packages/ipykernel_launcher.py:11: FutureWarning: Addition/subtraction of integers and integer-arrays to Timestamp is deprecated, will be removed in a future version.  Instead of adding/subtracting `n`, use `n * self.freq`\n",
      "  # This is added back by InteractiveShellApp.init_path()\n",
      "/scratch_ssd/hpda/anaconda3/envs/gluonts/lib/python3.6/site-packages/ipykernel_launcher.py:14: FutureWarning: Addition/subtraction of integers and integer-arrays to Timestamp is deprecated, will be removed in a future version.  Instead of adding/subtracting `n`, use `n * self.freq`\n",
      "  \n",
      "\r",
      "Running evaluation:   0%|          | 0/32 [00:00<?, ?it/s]"
     ]
    },
    {
     "name": "stdout",
     "output_type": "stream",
     "text": [
      "model: acc={0.78}, mae={1.17}, rmse={2.94},r2={0.89}, \n",
      "            naive: acc={0.73}, mae={1.16}, rmse={3.05},r2={0.88}\n",
      "[[0.78191489 1.16859122 2.93810128 0.88726184]\n",
      " [0.73404255 1.16255107 3.05012312 0.87850116]]\n"
     ]
    },
    {
     "name": "stderr",
     "output_type": "stream",
     "text": [
      "Running evaluation: 100%|██████████| 32/32 [00:00<00:00, 136.36it/s]\n",
      "/N/u/pengb/hpda/indycar/predictor/src/indycar/model/stint_simulator_shortterm_pitmodel.py:196: SettingWithCopyWarning: \n",
      "A value is trying to be set on a copy of a slice from a DataFrame\n",
      "\n",
      "See the caveats in the documentation: http://pandas.pydata.org/pandas-docs/stable/user_guide/indexing.html#returning-a-view-versus-a-copy\n",
      "  uni_ds['rank_diff'][mask] = 0\n",
      "/N/u/pengb/hpda/indycar/predictor/src/indycar/model/stint_simulator_shortterm_pitmodel.py:200: SettingWithCopyWarning: \n",
      "A value is trying to be set on a copy of a slice from a DataFrame\n",
      "\n",
      "See the caveats in the documentation: http://pandas.pydata.org/pandas-docs/stable/user_guide/indexing.html#returning-a-view-versus-a-copy\n",
      "  uni_ds['time_diff'][mask] = 0\n"
     ]
    },
    {
     "name": "stdout",
     "output_type": "stream",
     "text": [
      "0.038994955232266974 0.0728742961144295 0.03593389277730954\n"
     ]
    },
    {
     "name": "stderr",
     "output_type": "stream",
     "text": [
      "INFO:root:Using GPU\n"
     ]
    },
    {
     "name": "stdout",
     "output_type": "stream",
     "text": [
      "init: load dataset with 7 races, 58 cars\n",
      "predicting model=oracle, plen=2\n",
      "loading model...done!, ctx:gpu(0)\n",
      "a short ts: carid=88，len=4\n"
     ]
    },
    {
     "name": "stderr",
     "output_type": "stream",
     "text": [
      "/scratch_ssd/hpda/anaconda3/envs/gluonts/lib/python3.6/site-packages/ipykernel_launcher.py:9: DeprecationWarning: elementwise comparison failed; this will raise an error in the future.\n",
      "  if __name__ == '__main__':\n",
      "/scratch_ssd/hpda/anaconda3/envs/gluonts/lib/python3.6/site-packages/ipykernel_launcher.py:11: FutureWarning: Addition/subtraction of integers and integer-arrays to Timestamp is deprecated, will be removed in a future version.  Instead of adding/subtracting `n`, use `n * self.freq`\n",
      "  # This is added back by InteractiveShellApp.init_path()\n",
      "/scratch_ssd/hpda/anaconda3/envs/gluonts/lib/python3.6/site-packages/ipykernel_launcher.py:14: FutureWarning: Addition/subtraction of integers and integer-arrays to Timestamp is deprecated, will be removed in a future version.  Instead of adding/subtracting `n`, use `n * self.freq`\n",
      "  \n",
      "\r",
      "Running evaluation:   0%|          | 0/32 [00:00<?, ?it/s]"
     ]
    },
    {
     "name": "stdout",
     "output_type": "stream",
     "text": [
      "model: acc={0.86}, mae={1.00}, rmse={2.59},r2={0.91}, \n",
      "            naive: acc={0.73}, mae={1.16}, rmse={3.05},r2={0.88}\n",
      "[[0.85638298 0.99626932 2.58815098 0.91251842]\n",
      " [0.73404255 1.16255107 3.05012312 0.87850116]]\n"
     ]
    },
    {
     "name": "stderr",
     "output_type": "stream",
     "text": [
      "Running evaluation: 100%|██████████| 32/32 [00:00<00:00, 119.84it/s]\n",
      "/N/u/pengb/hpda/indycar/predictor/src/indycar/model/stint_simulator_shortterm_pitmodel.py:196: SettingWithCopyWarning: \n",
      "A value is trying to be set on a copy of a slice from a DataFrame\n",
      "\n",
      "See the caveats in the documentation: http://pandas.pydata.org/pandas-docs/stable/user_guide/indexing.html#returning-a-view-versus-a-copy\n",
      "  uni_ds['rank_diff'][mask] = 0\n",
      "/N/u/pengb/hpda/indycar/predictor/src/indycar/model/stint_simulator_shortterm_pitmodel.py:200: SettingWithCopyWarning: \n",
      "A value is trying to be set on a copy of a slice from a DataFrame\n",
      "\n",
      "See the caveats in the documentation: http://pandas.pydata.org/pandas-docs/stable/user_guide/indexing.html#returning-a-view-versus-a-copy\n",
      "  uni_ds['time_diff'][mask] = 0\n"
     ]
    },
    {
     "name": "stdout",
     "output_type": "stream",
     "text": [
      "0.04068794508165683 0.06570412986917806 0.03156583238667595\n"
     ]
    },
    {
     "name": "stderr",
     "output_type": "stream",
     "text": [
      "INFO:root:Using GPU\n"
     ]
    },
    {
     "name": "stdout",
     "output_type": "stream",
     "text": [
      "init: load dataset with 7 races, 58 cars\n",
      "predicting model=oracle, plen=2\n",
      "loading model...done!, ctx:gpu(0)\n",
      "a short ts: carid=88，len=4\n"
     ]
    },
    {
     "name": "stderr",
     "output_type": "stream",
     "text": [
      "/scratch_ssd/hpda/anaconda3/envs/gluonts/lib/python3.6/site-packages/ipykernel_launcher.py:9: DeprecationWarning: elementwise comparison failed; this will raise an error in the future.\n",
      "  if __name__ == '__main__':\n",
      "/scratch_ssd/hpda/anaconda3/envs/gluonts/lib/python3.6/site-packages/ipykernel_launcher.py:11: FutureWarning: Addition/subtraction of integers and integer-arrays to Timestamp is deprecated, will be removed in a future version.  Instead of adding/subtracting `n`, use `n * self.freq`\n",
      "  # This is added back by InteractiveShellApp.init_path()\n",
      "/scratch_ssd/hpda/anaconda3/envs/gluonts/lib/python3.6/site-packages/ipykernel_launcher.py:14: FutureWarning: Addition/subtraction of integers and integer-arrays to Timestamp is deprecated, will be removed in a future version.  Instead of adding/subtracting `n`, use `n * self.freq`\n",
      "  \n",
      "\r",
      "Running evaluation:   0%|          | 0/32 [00:00<?, ?it/s]"
     ]
    },
    {
     "name": "stdout",
     "output_type": "stream",
     "text": [
      "model: acc={0.78}, mae={1.15}, rmse={2.95},r2={0.89}, \n",
      "            naive: acc={0.73}, mae={1.16}, rmse={3.05},r2={0.88}\n",
      "[[0.77659574 1.14904956 2.94504652 0.88672822]\n",
      " [0.73404255 1.16255107 3.05012312 0.87850116]]\n"
     ]
    },
    {
     "name": "stderr",
     "output_type": "stream",
     "text": [
      "\r",
      "Running evaluation: 100%|██████████| 32/32 [00:00<00:00, 152.88it/s]"
     ]
    },
    {
     "name": "stdout",
     "output_type": "stream",
     "text": [
      "0.03934674533084148 0.07320409933184312 0.03580685746393541\n"
     ]
    },
    {
     "name": "stderr",
     "output_type": "stream",
     "text": [
      "\n"
     ]
    }
   ],
   "source": [
    "fmodestr = {stint.FEATURE_PITAGE:'pitage',stint.FEATURE_STATUS:'nopitage'}\n",
    "lapstr = {0:'noinlap',1:'inlap',2:'outlap'}\n",
    "for runts in ['TIMEDIFF','RANK']:\n",
    "    for fmode in [stint.FEATURE_PITAGE, stint.FEATURE_STATUS]:\n",
    "        for year in ['2018','2019']:\n",
    "            for lapmode in [0,1,2]:\n",
    "                mid = 'oracle-%s-%s-%s-%s'%(runts, year, lapstr[lapmode], fmodestr[fmode])\n",
    "                acc[mid], ret[mid] = test_pitmodel('oracle', 'Indy500-%s'%year, runts, loopcnt=1,inlapmode=lapmode,featuremode = fmode)\n",
    "                if acc[mid] != []:\n",
    "                    pret[mid] = prisk(ret[mid][0][1], ret[mid][0][2])\n",
    "                else:\n",
    "                    pret[mid] = []\n"
   ]
  },
  {
   "cell_type": "code",
   "execution_count": 10,
   "metadata": {},
   "outputs": [
    {
     "data": {
      "text/plain": [
       "{'oracle-TIMEDIFF-2018-noinlap-pitage': array([[[0.78191489, 1.12322097, 2.4613872 , 0.91541442],\n",
       "         [0.71808511, 1.33932584, 3.24896987, 0.85262365]]]),\n",
       " 'oracle-TIMEDIFF-2018-inlap-pitage': array([[[0.82446809, 0.97378277, 2.1990805 , 0.93248214],\n",
       "         [0.71808511, 1.33932584, 3.24896987, 0.85262365]]]),\n",
       " 'oracle-TIMEDIFF-2018-outlap-pitage': [],\n",
       " 'oracle-TIMEDIFF-2019-noinlap-pitage': array([[[0.7393617 , 1.07159353, 2.41942456, 0.9235528 ],\n",
       "         [0.73404255, 1.16255107, 3.05012312, 0.87850116]]]),\n",
       " 'oracle-TIMEDIFF-2019-inlap-pitage': array([[[0.83510638, 0.95505418, 2.26225173, 0.93316264],\n",
       "         [0.73404255, 1.16255107, 3.05012312, 0.87850116]]]),\n",
       " 'oracle-TIMEDIFF-2019-outlap-pitage': [],\n",
       " 'oracle-TIMEDIFF-2018-noinlap-nopitage': array([[[0.77659574, 1.20973783, 2.72462759, 0.89635443],\n",
       "         [0.71808511, 1.33932584, 3.24896987, 0.85262365]]]),\n",
       " 'oracle-TIMEDIFF-2018-inlap-nopitage': array([[[0.85106383, 0.87827715, 2.09440131, 0.93875703],\n",
       "         [0.71808511, 1.33932584, 3.24896987, 0.85262365]]]),\n",
       " 'oracle-TIMEDIFF-2018-outlap-nopitage': array([[[0.7712766 , 1.20749064, 2.70074203, 0.89816369],\n",
       "         [0.71808511, 1.33932584, 3.24896987, 0.85262365]]]),\n",
       " 'oracle-TIMEDIFF-2019-noinlap-nopitage': array([[[0.71276596, 1.19097531, 2.6837847 , 0.90593399],\n",
       "         [0.73404255, 1.16255107, 3.05012312, 0.87850116]]]),\n",
       " 'oracle-TIMEDIFF-2019-inlap-nopitage': array([[[0.82446809, 0.80760348, 1.97883633, 0.94886042],\n",
       "         [0.73404255, 1.16255107, 3.05012312, 0.87850116]]]),\n",
       " 'oracle-TIMEDIFF-2019-outlap-nopitage': array([[[0.70744681, 1.16397229, 2.66465252, 0.90727036],\n",
       "         [0.73404255, 1.16255107, 3.05012312, 0.87850116]]]),\n",
       " 'oracle-RANK-2018-noinlap-pitage': array([[[0.85106383, 0.97602996, 2.27261832, 0.92789101],\n",
       "         [0.71808511, 1.33932584, 3.24896987, 0.85262365]]]),\n",
       " 'oracle-RANK-2018-inlap-pitage': array([[[0.85106383, 1.00411985, 2.43307423, 0.91734918],\n",
       "         [0.71808511, 1.33932584, 3.24896987, 0.85262365]]]),\n",
       " 'oracle-RANK-2018-outlap-pitage': [],\n",
       " 'oracle-RANK-2019-noinlap-pitage': array([[[0.88829787, 0.89820572, 2.27407864, 0.93246198],\n",
       "         [0.73404255, 1.16255107, 3.05012312, 0.87850116]]]),\n",
       " 'oracle-RANK-2019-inlap-pitage': array([[[0.86702128, 0.89109966, 2.342119  , 0.92836004],\n",
       "         [0.73404255, 1.16255107, 3.05012312, 0.87850116]]]),\n",
       " 'oracle-RANK-2019-outlap-pitage': [],\n",
       " 'oracle-RANK-2018-noinlap-nopitage': array([[[0.76595745, 1.26067416, 2.95781831, 0.87785395],\n",
       "         [0.71808511, 1.33932584, 3.24896987, 0.85262365]]]),\n",
       " 'oracle-RANK-2018-inlap-nopitage': array([[[0.82446809, 1.13595506, 2.72469632, 0.8963492 ],\n",
       "         [0.71808511, 1.33932584, 3.24896987, 0.85262365]]]),\n",
       " 'oracle-RANK-2018-outlap-nopitage': array([[[0.79255319, 1.28501873, 3.04153519, 0.87084176],\n",
       "         [0.71808511, 1.33932584, 3.24896987, 0.85262365]]]),\n",
       " 'oracle-RANK-2019-noinlap-nopitage': array([[[0.78191489, 1.16859122, 2.93810128, 0.88726184],\n",
       "         [0.73404255, 1.16255107, 3.05012312, 0.87850116]]]),\n",
       " 'oracle-RANK-2019-inlap-nopitage': array([[[0.85638298, 0.99626932, 2.58815098, 0.91251842],\n",
       "         [0.73404255, 1.16255107, 3.05012312, 0.87850116]]]),\n",
       " 'oracle-RANK-2019-outlap-nopitage': array([[[0.77659574, 1.14904956, 2.94504652, 0.88672822],\n",
       "         [0.73404255, 1.16255107, 3.05012312, 0.87850116]]])}"
      ]
     },
     "execution_count": 10,
     "metadata": {},
     "output_type": "execute_result"
    }
   ],
   "source": [
    "acc"
   ]
  },
  {
   "cell_type": "code",
   "execution_count": 11,
   "metadata": {},
   "outputs": [
    {
     "name": "stderr",
     "output_type": "stream",
     "text": [
      "/N/u/pengb/hpda/indycar/predictor/src/indycar/model/stint_simulator_shortterm_pitmodel.py:196: SettingWithCopyWarning: \n",
      "A value is trying to be set on a copy of a slice from a DataFrame\n",
      "\n",
      "See the caveats in the documentation: http://pandas.pydata.org/pandas-docs/stable/user_guide/indexing.html#returning-a-view-versus-a-copy\n",
      "  uni_ds['rank_diff'][mask] = 0\n",
      "/N/u/pengb/hpda/indycar/predictor/src/indycar/model/stint_simulator_shortterm_pitmodel.py:200: SettingWithCopyWarning: \n",
      "A value is trying to be set on a copy of a slice from a DataFrame\n",
      "\n",
      "See the caveats in the documentation: http://pandas.pydata.org/pandas-docs/stable/user_guide/indexing.html#returning-a-view-versus-a-copy\n",
      "  uni_ds['time_diff'][mask] = 0\n",
      "INFO:root:Using GPU\n"
     ]
    },
    {
     "name": "stdout",
     "output_type": "stream",
     "text": [
      "init: load dataset with 7 races, 58 cars\n",
      "init model:pitmodel-m65-mlp-dsel-e500-l10-10-5-student-d0.1.pickle\n",
      "init pitmodel as PitModelMLP(pitmodel)\n",
      "predicting model=oracle, plen=2\n",
      "loading model...done!, ctx:gpu(0)\n",
      "ERROR: key 14-45 not found in model\n",
      "ERROR: key 14-45 not found in model\n",
      "ERROR: key 14-45 not found in model\n"
     ]
    },
    {
     "name": "stderr",
     "output_type": "stream",
     "text": [
      "/scratch_ssd/hpda/anaconda3/envs/gluonts/lib/python3.6/site-packages/ipykernel_launcher.py:10: DeprecationWarning: elementwise comparison failed; this will raise an error in the future.\n",
      "  # Remove the CWD from sys.path while we load stuff.\n",
      "/scratch_ssd/hpda/anaconda3/envs/gluonts/lib/python3.6/site-packages/ipykernel_launcher.py:11: FutureWarning: Addition/subtraction of integers and integer-arrays to Timestamp is deprecated, will be removed in a future version.  Instead of adding/subtracting `n`, use `n * self.freq`\n",
      "  # This is added back by InteractiveShellApp.init_path()\n",
      "/scratch_ssd/hpda/anaconda3/envs/gluonts/lib/python3.6/site-packages/ipykernel_launcher.py:14: FutureWarning: Addition/subtraction of integers and integer-arrays to Timestamp is deprecated, will be removed in a future version.  Instead of adding/subtracting `n`, use `n * self.freq`\n",
      "  \n",
      "\r",
      "Running evaluation:   0%|          | 0/33 [00:00<?, ?it/s]"
     ]
    },
    {
     "name": "stdout",
     "output_type": "stream",
     "text": [
      "model: acc={0.71}, mae={1.56}, rmse={3.49},r2={0.83}, \n",
      "            naive: acc={0.72}, mae={1.34}, rmse={3.25},r2={0.85}\n",
      "model: acc={0.71}, mae={1.52}, rmse={3.40},r2={0.84}, \n",
      "            naive: acc={0.72}, mae={1.34}, rmse={3.25},r2={0.85}\n",
      "model: acc={0.74}, mae={1.56}, rmse={3.47},r2={0.83}, \n",
      "            naive: acc={0.72}, mae={1.34}, rmse={3.25},r2={0.85}\n",
      "[[0.72340426 1.54606742 3.45355023 0.83345733]\n",
      " [0.71808511 1.33932584 3.24896987 0.85262365]]\n"
     ]
    },
    {
     "name": "stderr",
     "output_type": "stream",
     "text": [
      "Running evaluation: 100%|██████████| 33/33 [00:00<00:00, 161.85it/s]\n",
      "/N/u/pengb/hpda/indycar/predictor/src/indycar/model/stint_simulator_shortterm_pitmodel.py:196: SettingWithCopyWarning: \n",
      "A value is trying to be set on a copy of a slice from a DataFrame\n",
      "\n",
      "See the caveats in the documentation: http://pandas.pydata.org/pandas-docs/stable/user_guide/indexing.html#returning-a-view-versus-a-copy\n",
      "  uni_ds['rank_diff'][mask] = 0\n",
      "/N/u/pengb/hpda/indycar/predictor/src/indycar/model/stint_simulator_shortterm_pitmodel.py:200: SettingWithCopyWarning: \n",
      "A value is trying to be set on a copy of a slice from a DataFrame\n",
      "\n",
      "See the caveats in the documentation: http://pandas.pydata.org/pandas-docs/stable/user_guide/indexing.html#returning-a-view-versus-a-copy\n",
      "  uni_ds['time_diff'][mask] = 0\n"
     ]
    },
    {
     "name": "stdout",
     "output_type": "stream",
     "text": [
      "0.06613530746784826 0.11211228790662488 0.06825083756619475\n"
     ]
    },
    {
     "name": "stderr",
     "output_type": "stream",
     "text": [
      "INFO:root:Using GPU\n"
     ]
    },
    {
     "name": "stdout",
     "output_type": "stream",
     "text": [
      "init: load dataset with 7 races, 58 cars\n",
      "init model:pitmodel-m65-mlp-dsel-e500-l10-10-5-student-d0.1.pickle\n",
      "init pitmodel as PitModelMLP(pitmodel)\n",
      "predicting model=oracle, plen=2\n",
      "loading model...done!, ctx:gpu(0)\n",
      "ERROR: key 14-45 not found in model\n",
      "ERROR: key 14-45 not found in model\n",
      "ERROR: key 14-45 not found in model\n"
     ]
    },
    {
     "name": "stderr",
     "output_type": "stream",
     "text": [
      "/scratch_ssd/hpda/anaconda3/envs/gluonts/lib/python3.6/site-packages/ipykernel_launcher.py:10: DeprecationWarning: elementwise comparison failed; this will raise an error in the future.\n",
      "  # Remove the CWD from sys.path while we load stuff.\n",
      "/scratch_ssd/hpda/anaconda3/envs/gluonts/lib/python3.6/site-packages/ipykernel_launcher.py:11: FutureWarning: Addition/subtraction of integers and integer-arrays to Timestamp is deprecated, will be removed in a future version.  Instead of adding/subtracting `n`, use `n * self.freq`\n",
      "  # This is added back by InteractiveShellApp.init_path()\n",
      "/scratch_ssd/hpda/anaconda3/envs/gluonts/lib/python3.6/site-packages/ipykernel_launcher.py:14: FutureWarning: Addition/subtraction of integers and integer-arrays to Timestamp is deprecated, will be removed in a future version.  Instead of adding/subtracting `n`, use `n * self.freq`\n",
      "  \n",
      "\r",
      "Running evaluation:   0%|          | 0/33 [00:00<?, ?it/s]"
     ]
    },
    {
     "name": "stdout",
     "output_type": "stream",
     "text": [
      "model: acc={0.78}, mae={1.41}, rmse={3.17},r2={0.86}, \n",
      "            naive: acc={0.72}, mae={1.34}, rmse={3.25},r2={0.85}\n",
      "model: acc={0.73}, mae={1.46}, rmse={3.28},r2={0.85}, \n",
      "            naive: acc={0.72}, mae={1.34}, rmse={3.25},r2={0.85}\n",
      "model: acc={0.77}, mae={1.44}, rmse={3.22},r2={0.85}, \n",
      "            naive: acc={0.72}, mae={1.34}, rmse={3.25},r2={0.85}\n",
      "[[0.7606383  1.43583021 3.22443275 0.85481637]\n",
      " [0.71808511 1.33932584 3.24896987 0.85262365]]\n"
     ]
    },
    {
     "name": "stderr",
     "output_type": "stream",
     "text": [
      "Running evaluation: 100%|██████████| 33/33 [00:00<00:00, 157.39it/s]\n",
      "/N/u/pengb/hpda/indycar/predictor/src/indycar/model/stint_simulator_shortterm_pitmodel.py:196: SettingWithCopyWarning: \n",
      "A value is trying to be set on a copy of a slice from a DataFrame\n",
      "\n",
      "See the caveats in the documentation: http://pandas.pydata.org/pandas-docs/stable/user_guide/indexing.html#returning-a-view-versus-a-copy\n",
      "  uni_ds['rank_diff'][mask] = 0\n",
      "/N/u/pengb/hpda/indycar/predictor/src/indycar/model/stint_simulator_shortterm_pitmodel.py:200: SettingWithCopyWarning: \n",
      "A value is trying to be set on a copy of a slice from a DataFrame\n",
      "\n",
      "See the caveats in the documentation: http://pandas.pydata.org/pandas-docs/stable/user_guide/indexing.html#returning-a-view-versus-a-copy\n",
      "  uni_ds['time_diff'][mask] = 0\n"
     ]
    },
    {
     "name": "stdout",
     "output_type": "stream",
     "text": [
      "0.058167621312006916 0.10233167621312007 0.06528153031449259\n",
      "init: load dataset with 7 races, 58 cars\n",
      "init model:pitmodel-m65-mlp-dsel-e500-l10-10-5-student-d0.1.pickle\n",
      "init pitmodel as PitModelMLP(pitmodel)\n",
      "predicting model=oracle, plen=2\n"
     ]
    },
    {
     "name": "stderr",
     "output_type": "stream",
     "text": [
      "INFO:root:Using GPU\n"
     ]
    },
    {
     "name": "stdout",
     "output_type": "stream",
     "text": [
      "init: load dataset with 7 races, 58 cars\n",
      "init model:pitmodel-m65-mlp-dsel-e500-l10-10-5-student-d0.1.pickle\n",
      "init pitmodel as PitModelMLP(pitmodel)\n",
      "predicting model=oracle, plen=2\n",
      "loading model...done!, ctx:gpu(0)\n",
      "a short ts: carid=88，len=4\n",
      "a short ts: carid=88，len=4\n",
      "a short ts: carid=88，len=4\n"
     ]
    },
    {
     "name": "stderr",
     "output_type": "stream",
     "text": [
      "/scratch_ssd/hpda/anaconda3/envs/gluonts/lib/python3.6/site-packages/ipykernel_launcher.py:10: DeprecationWarning: elementwise comparison failed; this will raise an error in the future.\n",
      "  # Remove the CWD from sys.path while we load stuff.\n",
      "/scratch_ssd/hpda/anaconda3/envs/gluonts/lib/python3.6/site-packages/ipykernel_launcher.py:11: FutureWarning: Addition/subtraction of integers and integer-arrays to Timestamp is deprecated, will be removed in a future version.  Instead of adding/subtracting `n`, use `n * self.freq`\n",
      "  # This is added back by InteractiveShellApp.init_path()\n",
      "/scratch_ssd/hpda/anaconda3/envs/gluonts/lib/python3.6/site-packages/ipykernel_launcher.py:14: FutureWarning: Addition/subtraction of integers and integer-arrays to Timestamp is deprecated, will be removed in a future version.  Instead of adding/subtracting `n`, use `n * self.freq`\n",
      "  \n",
      "\r",
      "Running evaluation:   0%|          | 0/32 [00:00<?, ?it/s]"
     ]
    },
    {
     "name": "stdout",
     "output_type": "stream",
     "text": [
      "model: acc={0.71}, mae={1.38}, rmse={3.19},r2={0.87}, \n",
      "            naive: acc={0.73}, mae={1.16}, rmse={3.05},r2={0.88}\n",
      "model: acc={0.71}, mae={1.36}, rmse={3.11},r2={0.87}, \n",
      "            naive: acc={0.73}, mae={1.16}, rmse={3.05},r2={0.88}\n",
      "model: acc={0.65}, mae={1.38}, rmse={3.21},r2={0.87}, \n",
      "            naive: acc={0.73}, mae={1.16}, rmse={3.05},r2={0.88}\n",
      "[[0.69326241 1.37478534 3.17148321 0.868616  ]\n",
      " [0.73404255 1.16255107 3.05012312 0.87850116]]\n"
     ]
    },
    {
     "name": "stderr",
     "output_type": "stream",
     "text": [
      "Running evaluation: 100%|██████████| 32/32 [00:00<00:00, 154.47it/s]\n",
      "/N/u/pengb/hpda/indycar/predictor/src/indycar/model/stint_simulator_shortterm_pitmodel.py:196: SettingWithCopyWarning: \n",
      "A value is trying to be set on a copy of a slice from a DataFrame\n",
      "\n",
      "See the caveats in the documentation: http://pandas.pydata.org/pandas-docs/stable/user_guide/indexing.html#returning-a-view-versus-a-copy\n",
      "  uni_ds['rank_diff'][mask] = 0\n",
      "/N/u/pengb/hpda/indycar/predictor/src/indycar/model/stint_simulator_shortterm_pitmodel.py:200: SettingWithCopyWarning: \n",
      "A value is trying to be set on a copy of a slice from a DataFrame\n",
      "\n",
      "See the caveats in the documentation: http://pandas.pydata.org/pandas-docs/stable/user_guide/indexing.html#returning-a-view-versus-a-copy\n",
      "  uni_ds['time_diff'][mask] = 0\n"
     ]
    },
    {
     "name": "stdout",
     "output_type": "stream",
     "text": [
      "0.05403642493312324 0.09528869996457669 0.06071555083244774\n"
     ]
    },
    {
     "name": "stderr",
     "output_type": "stream",
     "text": [
      "INFO:root:Using GPU\n"
     ]
    },
    {
     "name": "stdout",
     "output_type": "stream",
     "text": [
      "init: load dataset with 7 races, 58 cars\n",
      "init model:pitmodel-m65-mlp-dsel-e500-l10-10-5-student-d0.1.pickle\n",
      "init pitmodel as PitModelMLP(pitmodel)\n",
      "predicting model=oracle, plen=2\n",
      "loading model...done!, ctx:gpu(0)\n",
      "a short ts: carid=88，len=4\n",
      "a short ts: carid=88，len=4\n",
      "a short ts: carid=88，len=4\n"
     ]
    },
    {
     "name": "stderr",
     "output_type": "stream",
     "text": [
      "/scratch_ssd/hpda/anaconda3/envs/gluonts/lib/python3.6/site-packages/ipykernel_launcher.py:10: DeprecationWarning: elementwise comparison failed; this will raise an error in the future.\n",
      "  # Remove the CWD from sys.path while we load stuff.\n",
      "/scratch_ssd/hpda/anaconda3/envs/gluonts/lib/python3.6/site-packages/ipykernel_launcher.py:11: FutureWarning: Addition/subtraction of integers and integer-arrays to Timestamp is deprecated, will be removed in a future version.  Instead of adding/subtracting `n`, use `n * self.freq`\n",
      "  # This is added back by InteractiveShellApp.init_path()\n",
      "/scratch_ssd/hpda/anaconda3/envs/gluonts/lib/python3.6/site-packages/ipykernel_launcher.py:14: FutureWarning: Addition/subtraction of integers and integer-arrays to Timestamp is deprecated, will be removed in a future version.  Instead of adding/subtracting `n`, use `n * self.freq`\n",
      "  \n",
      "\r",
      "Running evaluation:   0%|          | 0/32 [00:00<?, ?it/s]"
     ]
    },
    {
     "name": "stdout",
     "output_type": "stream",
     "text": [
      "model: acc={0.70}, mae={1.36}, rmse={3.16},r2={0.87}, \n",
      "            naive: acc={0.73}, mae={1.16}, rmse={3.05},r2={0.88}\n",
      "model: acc={0.70}, mae={1.37}, rmse={3.07},r2={0.88}, \n",
      "            naive: acc={0.73}, mae={1.16}, rmse={3.05},r2={0.88}\n",
      "model: acc={0.69}, mae={1.37}, rmse={3.18},r2={0.87}, \n",
      "            naive: acc={0.73}, mae={1.16}, rmse={3.05},r2={0.88}\n",
      "[[0.69680851 1.36531059 3.13498363 0.8716213 ]\n",
      " [0.73404255 1.16255107 3.05012312 0.87850116]]\n"
     ]
    },
    {
     "name": "stderr",
     "output_type": "stream",
     "text": [
      "Running evaluation: 100%|██████████| 32/32 [00:00<00:00, 116.02it/s]\n",
      "/N/u/pengb/hpda/indycar/predictor/src/indycar/model/stint_simulator_shortterm_pitmodel.py:196: SettingWithCopyWarning: \n",
      "A value is trying to be set on a copy of a slice from a DataFrame\n",
      "\n",
      "See the caveats in the documentation: http://pandas.pydata.org/pandas-docs/stable/user_guide/indexing.html#returning-a-view-versus-a-copy\n",
      "  uni_ds['rank_diff'][mask] = 0\n",
      "/N/u/pengb/hpda/indycar/predictor/src/indycar/model/stint_simulator_shortterm_pitmodel.py:200: SettingWithCopyWarning: \n",
      "A value is trying to be set on a copy of a slice from a DataFrame\n",
      "\n",
      "See the caveats in the documentation: http://pandas.pydata.org/pandas-docs/stable/user_guide/indexing.html#returning-a-view-versus-a-copy\n",
      "  uni_ds['time_diff'][mask] = 0\n"
     ]
    },
    {
     "name": "stdout",
     "output_type": "stream",
     "text": [
      "0.05106086701601379 0.0936030390755738 0.06100138028753955\n",
      "init: load dataset with 7 races, 58 cars\n",
      "init model:pitmodel-m65-mlp-dsel-e500-l10-10-5-student-d0.1.pickle\n",
      "init pitmodel as PitModelMLP(pitmodel)\n",
      "predicting model=oracle, plen=2\n"
     ]
    },
    {
     "name": "stderr",
     "output_type": "stream",
     "text": [
      "INFO:root:Using GPU\n"
     ]
    },
    {
     "name": "stdout",
     "output_type": "stream",
     "text": [
      "init: load dataset with 7 races, 58 cars\n",
      "init model:pitmodel-m65-mlp-dsel-e500-l10-10-5-student-d0.1.pickle\n",
      "init pitmodel as PitModelMLP(pitmodel)\n",
      "predicting model=oracle, plen=2\n",
      "loading model...done!, ctx:gpu(0)\n",
      "ERROR: key 14-45 not found in model\n",
      "ERROR: key 14-45 not found in model\n",
      "ERROR: key 14-45 not found in model\n"
     ]
    },
    {
     "name": "stderr",
     "output_type": "stream",
     "text": [
      "/scratch_ssd/hpda/anaconda3/envs/gluonts/lib/python3.6/site-packages/ipykernel_launcher.py:10: DeprecationWarning: elementwise comparison failed; this will raise an error in the future.\n",
      "  # Remove the CWD from sys.path while we load stuff.\n",
      "/scratch_ssd/hpda/anaconda3/envs/gluonts/lib/python3.6/site-packages/ipykernel_launcher.py:11: FutureWarning: Addition/subtraction of integers and integer-arrays to Timestamp is deprecated, will be removed in a future version.  Instead of adding/subtracting `n`, use `n * self.freq`\n",
      "  # This is added back by InteractiveShellApp.init_path()\n",
      "/scratch_ssd/hpda/anaconda3/envs/gluonts/lib/python3.6/site-packages/ipykernel_launcher.py:14: FutureWarning: Addition/subtraction of integers and integer-arrays to Timestamp is deprecated, will be removed in a future version.  Instead of adding/subtracting `n`, use `n * self.freq`\n",
      "  \n",
      "\r",
      "Running evaluation:   0%|          | 0/33 [00:00<?, ?it/s]"
     ]
    },
    {
     "name": "stdout",
     "output_type": "stream",
     "text": [
      "model: acc={0.73}, mae={1.59}, rmse={3.59},r2={0.82}, \n",
      "            naive: acc={0.72}, mae={1.34}, rmse={3.25},r2={0.85}\n",
      "model: acc={0.74}, mae={1.54}, rmse={3.54},r2={0.83}, \n",
      "            naive: acc={0.72}, mae={1.34}, rmse={3.25},r2={0.85}\n",
      "model: acc={0.75}, mae={1.58}, rmse={3.56},r2={0.82}, \n",
      "            naive: acc={0.72}, mae={1.34}, rmse={3.25},r2={0.85}\n",
      "[[0.74113475 1.57041199 3.56245733 0.8228057 ]\n",
      " [0.71808511 1.33932584 3.24896987 0.85262365]]\n"
     ]
    },
    {
     "name": "stderr",
     "output_type": "stream",
     "text": [
      "Running evaluation: 100%|██████████| 33/33 [00:00<00:00, 161.09it/s]\n",
      "/N/u/pengb/hpda/indycar/predictor/src/indycar/model/stint_simulator_shortterm_pitmodel.py:196: SettingWithCopyWarning: \n",
      "A value is trying to be set on a copy of a slice from a DataFrame\n",
      "\n",
      "See the caveats in the documentation: http://pandas.pydata.org/pandas-docs/stable/user_guide/indexing.html#returning-a-view-versus-a-copy\n",
      "  uni_ds['rank_diff'][mask] = 0\n",
      "/N/u/pengb/hpda/indycar/predictor/src/indycar/model/stint_simulator_shortterm_pitmodel.py:200: SettingWithCopyWarning: \n",
      "A value is trying to be set on a copy of a slice from a DataFrame\n",
      "\n",
      "See the caveats in the documentation: http://pandas.pydata.org/pandas-docs/stable/user_guide/indexing.html#returning-a-view-versus-a-copy\n",
      "  uni_ds['time_diff'][mask] = 0\n"
     ]
    },
    {
     "name": "stdout",
     "output_type": "stream",
     "text": [
      "0.05185885658705286 0.11045066464930293 0.05706257430022694\n"
     ]
    },
    {
     "name": "stderr",
     "output_type": "stream",
     "text": [
      "INFO:root:Using GPU\n"
     ]
    },
    {
     "name": "stdout",
     "output_type": "stream",
     "text": [
      "init: load dataset with 7 races, 58 cars\n",
      "init model:pitmodel-m65-mlp-dsel-e500-l10-10-5-student-d0.1.pickle\n",
      "init pitmodel as PitModelMLP(pitmodel)\n",
      "predicting model=oracle, plen=2\n",
      "loading model...done!, ctx:gpu(0)\n",
      "ERROR: key 14-45 not found in model\n",
      "ERROR: key 14-45 not found in model\n",
      "ERROR: key 14-45 not found in model\n"
     ]
    },
    {
     "name": "stderr",
     "output_type": "stream",
     "text": [
      "/scratch_ssd/hpda/anaconda3/envs/gluonts/lib/python3.6/site-packages/ipykernel_launcher.py:10: DeprecationWarning: elementwise comparison failed; this will raise an error in the future.\n",
      "  # Remove the CWD from sys.path while we load stuff.\n",
      "/scratch_ssd/hpda/anaconda3/envs/gluonts/lib/python3.6/site-packages/ipykernel_launcher.py:11: FutureWarning: Addition/subtraction of integers and integer-arrays to Timestamp is deprecated, will be removed in a future version.  Instead of adding/subtracting `n`, use `n * self.freq`\n",
      "  # This is added back by InteractiveShellApp.init_path()\n",
      "/scratch_ssd/hpda/anaconda3/envs/gluonts/lib/python3.6/site-packages/ipykernel_launcher.py:14: FutureWarning: Addition/subtraction of integers and integer-arrays to Timestamp is deprecated, will be removed in a future version.  Instead of adding/subtracting `n`, use `n * self.freq`\n",
      "  \n",
      "\r",
      "Running evaluation:   0%|          | 0/33 [00:00<?, ?it/s]"
     ]
    },
    {
     "name": "stdout",
     "output_type": "stream",
     "text": [
      "model: acc={0.78}, mae={1.29}, rmse={3.08},r2={0.87}, \n",
      "            naive: acc={0.72}, mae={1.34}, rmse={3.25},r2={0.85}\n",
      "model: acc={0.76}, mae={1.28}, rmse={2.98},r2={0.88}, \n",
      "            naive: acc={0.72}, mae={1.34}, rmse={3.25},r2={0.85}\n",
      "model: acc={0.76}, mae={1.29}, rmse={3.02},r2={0.87}, \n",
      "            naive: acc={0.72}, mae={1.34}, rmse={3.25},r2={0.85}\n",
      "[[0.76595745 1.28676654 3.02615006 0.87212463]\n",
      " [0.71808511 1.33932584 3.24896987 0.85262365]]\n"
     ]
    },
    {
     "name": "stderr",
     "output_type": "stream",
     "text": [
      "Running evaluation: 100%|██████████| 33/33 [00:00<00:00, 135.29it/s]\n",
      "/N/u/pengb/hpda/indycar/predictor/src/indycar/model/stint_simulator_shortterm_pitmodel.py:196: SettingWithCopyWarning: \n",
      "A value is trying to be set on a copy of a slice from a DataFrame\n",
      "\n",
      "See the caveats in the documentation: http://pandas.pydata.org/pandas-docs/stable/user_guide/indexing.html#returning-a-view-versus-a-copy\n",
      "  uni_ds['rank_diff'][mask] = 0\n",
      "/N/u/pengb/hpda/indycar/predictor/src/indycar/model/stint_simulator_shortterm_pitmodel.py:200: SettingWithCopyWarning: \n",
      "A value is trying to be set on a copy of a slice from a DataFrame\n",
      "\n",
      "See the caveats in the documentation: http://pandas.pydata.org/pandas-docs/stable/user_guide/indexing.html#returning-a-view-versus-a-copy\n",
      "  uni_ds['time_diff'][mask] = 0\n"
     ]
    },
    {
     "name": "stdout",
     "output_type": "stream",
     "text": [
      "0.0516751323894953 0.09306441154220253 0.05656814006268237\n"
     ]
    },
    {
     "name": "stderr",
     "output_type": "stream",
     "text": [
      "INFO:root:Using GPU\n"
     ]
    },
    {
     "name": "stdout",
     "output_type": "stream",
     "text": [
      "init: load dataset with 7 races, 58 cars\n",
      "init model:pitmodel-m65-mlp-dsel-e500-l10-10-5-student-d0.1.pickle\n",
      "init pitmodel as PitModelMLP(pitmodel)\n",
      "predicting model=oracle, plen=2\n",
      "loading model...done!, ctx:gpu(0)\n",
      "ERROR: key 14-45 not found in model\n",
      "ERROR: key 14-45 not found in model\n",
      "ERROR: key 14-45 not found in model\n"
     ]
    },
    {
     "name": "stderr",
     "output_type": "stream",
     "text": [
      "/scratch_ssd/hpda/anaconda3/envs/gluonts/lib/python3.6/site-packages/ipykernel_launcher.py:10: DeprecationWarning: elementwise comparison failed; this will raise an error in the future.\n",
      "  # Remove the CWD from sys.path while we load stuff.\n",
      "/scratch_ssd/hpda/anaconda3/envs/gluonts/lib/python3.6/site-packages/ipykernel_launcher.py:11: FutureWarning: Addition/subtraction of integers and integer-arrays to Timestamp is deprecated, will be removed in a future version.  Instead of adding/subtracting `n`, use `n * self.freq`\n",
      "  # This is added back by InteractiveShellApp.init_path()\n",
      "/scratch_ssd/hpda/anaconda3/envs/gluonts/lib/python3.6/site-packages/ipykernel_launcher.py:14: FutureWarning: Addition/subtraction of integers and integer-arrays to Timestamp is deprecated, will be removed in a future version.  Instead of adding/subtracting `n`, use `n * self.freq`\n",
      "  \n",
      "\r",
      "Running evaluation:   0%|          | 0/33 [00:00<?, ?it/s]"
     ]
    },
    {
     "name": "stdout",
     "output_type": "stream",
     "text": [
      "model: acc={0.72}, mae={1.54}, rmse={3.46},r2={0.83}, \n",
      "            naive: acc={0.72}, mae={1.34}, rmse={3.25},r2={0.85}\n",
      "model: acc={0.73}, mae={1.57}, rmse={3.49},r2={0.83}, \n",
      "            naive: acc={0.72}, mae={1.34}, rmse={3.25},r2={0.85}\n",
      "model: acc={0.76}, mae={1.50}, rmse={3.40},r2={0.84}, \n",
      "            naive: acc={0.72}, mae={1.34}, rmse={3.25},r2={0.85}\n",
      "[[0.73758865 1.53632959 3.45001507 0.83379896]\n",
      " [0.71808511 1.33932584 3.24896987 0.85262365]]\n"
     ]
    },
    {
     "name": "stderr",
     "output_type": "stream",
     "text": [
      "Running evaluation: 100%|██████████| 33/33 [00:00<00:00, 146.03it/s]\n",
      "/N/u/pengb/hpda/indycar/predictor/src/indycar/model/stint_simulator_shortterm_pitmodel.py:196: SettingWithCopyWarning: \n",
      "A value is trying to be set on a copy of a slice from a DataFrame\n",
      "\n",
      "See the caveats in the documentation: http://pandas.pydata.org/pandas-docs/stable/user_guide/indexing.html#returning-a-view-versus-a-copy\n",
      "  uni_ds['rank_diff'][mask] = 0\n",
      "/N/u/pengb/hpda/indycar/predictor/src/indycar/model/stint_simulator_shortterm_pitmodel.py:200: SettingWithCopyWarning: \n",
      "A value is trying to be set on a copy of a slice from a DataFrame\n",
      "\n",
      "See the caveats in the documentation: http://pandas.pydata.org/pandas-docs/stable/user_guide/indexing.html#returning-a-view-versus-a-copy\n",
      "  uni_ds['time_diff'][mask] = 0\n"
     ]
    },
    {
     "name": "stdout",
     "output_type": "stream",
     "text": [
      "0.057813682049065174 0.11041013725278288 0.05621149897330594\n"
     ]
    },
    {
     "name": "stderr",
     "output_type": "stream",
     "text": [
      "INFO:root:Using GPU\n"
     ]
    },
    {
     "name": "stdout",
     "output_type": "stream",
     "text": [
      "init: load dataset with 7 races, 58 cars\n",
      "init model:pitmodel-m65-mlp-dsel-e500-l10-10-5-student-d0.1.pickle\n",
      "init pitmodel as PitModelMLP(pitmodel)\n",
      "predicting model=oracle, plen=2\n",
      "loading model...done!, ctx:gpu(0)\n",
      "a short ts: carid=88，len=4\n",
      "a short ts: carid=88，len=4\n",
      "a short ts: carid=88，len=4\n"
     ]
    },
    {
     "name": "stderr",
     "output_type": "stream",
     "text": [
      "/scratch_ssd/hpda/anaconda3/envs/gluonts/lib/python3.6/site-packages/ipykernel_launcher.py:10: DeprecationWarning: elementwise comparison failed; this will raise an error in the future.\n",
      "  # Remove the CWD from sys.path while we load stuff.\n",
      "/scratch_ssd/hpda/anaconda3/envs/gluonts/lib/python3.6/site-packages/ipykernel_launcher.py:11: FutureWarning: Addition/subtraction of integers and integer-arrays to Timestamp is deprecated, will be removed in a future version.  Instead of adding/subtracting `n`, use `n * self.freq`\n",
      "  # This is added back by InteractiveShellApp.init_path()\n",
      "/scratch_ssd/hpda/anaconda3/envs/gluonts/lib/python3.6/site-packages/ipykernel_launcher.py:14: FutureWarning: Addition/subtraction of integers and integer-arrays to Timestamp is deprecated, will be removed in a future version.  Instead of adding/subtracting `n`, use `n * self.freq`\n",
      "  \n",
      "\r",
      "Running evaluation:   0%|          | 0/32 [00:00<?, ?it/s]"
     ]
    },
    {
     "name": "stdout",
     "output_type": "stream",
     "text": [
      "model: acc={0.75}, mae={1.26}, rmse={3.01},r2={0.88}, \n",
      "            naive: acc={0.73}, mae={1.16}, rmse={3.05},r2={0.88}\n",
      "model: acc={0.71}, mae={1.31}, rmse={3.07},r2={0.88}, \n",
      "            naive: acc={0.73}, mae={1.16}, rmse={3.05},r2={0.88}\n",
      "model: acc={0.69}, mae={1.36}, rmse={3.14},r2={0.87}, \n",
      "            naive: acc={0.73}, mae={1.16}, rmse={3.05},r2={0.88}\n",
      "[[0.71631206 1.30786996 3.07356893 0.87659249]\n",
      " [0.73404255 1.16255107 3.05012312 0.87850116]]\n"
     ]
    },
    {
     "name": "stderr",
     "output_type": "stream",
     "text": [
      "Running evaluation: 100%|██████████| 32/32 [00:00<00:00, 148.17it/s]\n",
      "/N/u/pengb/hpda/indycar/predictor/src/indycar/model/stint_simulator_shortterm_pitmodel.py:196: SettingWithCopyWarning: \n",
      "A value is trying to be set on a copy of a slice from a DataFrame\n",
      "\n",
      "See the caveats in the documentation: http://pandas.pydata.org/pandas-docs/stable/user_guide/indexing.html#returning-a-view-versus-a-copy\n",
      "  uni_ds['rank_diff'][mask] = 0\n",
      "/N/u/pengb/hpda/indycar/predictor/src/indycar/model/stint_simulator_shortterm_pitmodel.py:200: SettingWithCopyWarning: \n",
      "A value is trying to be set on a copy of a slice from a DataFrame\n",
      "\n",
      "See the caveats in the documentation: http://pandas.pydata.org/pandas-docs/stable/user_guide/indexing.html#returning-a-view-versus-a-copy\n",
      "  uni_ds['time_diff'][mask] = 0\n"
     ]
    },
    {
     "name": "stdout",
     "output_type": "stream",
     "text": [
      "0.043773437404570834 0.08706804939719301 0.04719361891848974\n"
     ]
    },
    {
     "name": "stderr",
     "output_type": "stream",
     "text": [
      "INFO:root:Using GPU\n"
     ]
    },
    {
     "name": "stdout",
     "output_type": "stream",
     "text": [
      "init: load dataset with 7 races, 58 cars\n",
      "init model:pitmodel-m65-mlp-dsel-e500-l10-10-5-student-d0.1.pickle\n",
      "init pitmodel as PitModelMLP(pitmodel)\n",
      "predicting model=oracle, plen=2\n",
      "loading model...done!, ctx:gpu(0)\n",
      "a short ts: carid=88，len=4\n",
      "a short ts: carid=88，len=4\n",
      "a short ts: carid=88，len=4\n"
     ]
    },
    {
     "name": "stderr",
     "output_type": "stream",
     "text": [
      "/scratch_ssd/hpda/anaconda3/envs/gluonts/lib/python3.6/site-packages/ipykernel_launcher.py:10: DeprecationWarning: elementwise comparison failed; this will raise an error in the future.\n",
      "  # Remove the CWD from sys.path while we load stuff.\n",
      "/scratch_ssd/hpda/anaconda3/envs/gluonts/lib/python3.6/site-packages/ipykernel_launcher.py:11: FutureWarning: Addition/subtraction of integers and integer-arrays to Timestamp is deprecated, will be removed in a future version.  Instead of adding/subtracting `n`, use `n * self.freq`\n",
      "  # This is added back by InteractiveShellApp.init_path()\n",
      "/scratch_ssd/hpda/anaconda3/envs/gluonts/lib/python3.6/site-packages/ipykernel_launcher.py:14: FutureWarning: Addition/subtraction of integers and integer-arrays to Timestamp is deprecated, will be removed in a future version.  Instead of adding/subtracting `n`, use `n * self.freq`\n",
      "  \n",
      "\r",
      "Running evaluation:   0%|          | 0/32 [00:00<?, ?it/s]"
     ]
    },
    {
     "name": "stdout",
     "output_type": "stream",
     "text": [
      "model: acc={0.72}, mae={1.15}, rmse={2.79},r2={0.90}, \n",
      "            naive: acc={0.73}, mae={1.16}, rmse={3.05},r2={0.88}\n",
      "model: acc={0.74}, mae={1.15}, rmse={2.74},r2={0.90}, \n",
      "            naive: acc={0.73}, mae={1.16}, rmse={3.05},r2={0.88}\n",
      "model: acc={0.74}, mae={1.16}, rmse={2.78},r2={0.90}, \n",
      "            naive: acc={0.73}, mae={1.16}, rmse={3.05},r2={0.88}\n",
      "[[0.7322695  1.15402381 2.7691987  0.89984605]\n",
      " [0.73404255 1.16255107 3.05012312 0.87850116]]\n"
     ]
    },
    {
     "name": "stderr",
     "output_type": "stream",
     "text": [
      "Running evaluation: 100%|██████████| 32/32 [00:00<00:00, 150.95it/s]\n",
      "/N/u/pengb/hpda/indycar/predictor/src/indycar/model/stint_simulator_shortterm_pitmodel.py:196: SettingWithCopyWarning: \n",
      "A value is trying to be set on a copy of a slice from a DataFrame\n",
      "\n",
      "See the caveats in the documentation: http://pandas.pydata.org/pandas-docs/stable/user_guide/indexing.html#returning-a-view-versus-a-copy\n",
      "  uni_ds['rank_diff'][mask] = 0\n",
      "/N/u/pengb/hpda/indycar/predictor/src/indycar/model/stint_simulator_shortterm_pitmodel.py:200: SettingWithCopyWarning: \n",
      "A value is trying to be set on a copy of a slice from a DataFrame\n",
      "\n",
      "See the caveats in the documentation: http://pandas.pydata.org/pandas-docs/stable/user_guide/indexing.html#returning-a-view-versus-a-copy\n",
      "  uni_ds['time_diff'][mask] = 0\n"
     ]
    },
    {
     "name": "stdout",
     "output_type": "stream",
     "text": [
      "0.04523190052157769 0.08137589016331366 0.050203378650738394\n"
     ]
    },
    {
     "name": "stderr",
     "output_type": "stream",
     "text": [
      "INFO:root:Using GPU\n"
     ]
    },
    {
     "name": "stdout",
     "output_type": "stream",
     "text": [
      "init: load dataset with 7 races, 58 cars\n",
      "init model:pitmodel-m65-mlp-dsel-e500-l10-10-5-student-d0.1.pickle\n",
      "init pitmodel as PitModelMLP(pitmodel)\n",
      "predicting model=oracle, plen=2\n",
      "loading model...done!, ctx:gpu(0)\n",
      "a short ts: carid=88，len=4\n",
      "a short ts: carid=88，len=4\n",
      "a short ts: carid=88，len=4\n"
     ]
    },
    {
     "name": "stderr",
     "output_type": "stream",
     "text": [
      "/scratch_ssd/hpda/anaconda3/envs/gluonts/lib/python3.6/site-packages/ipykernel_launcher.py:10: DeprecationWarning: elementwise comparison failed; this will raise an error in the future.\n",
      "  # Remove the CWD from sys.path while we load stuff.\n",
      "/scratch_ssd/hpda/anaconda3/envs/gluonts/lib/python3.6/site-packages/ipykernel_launcher.py:11: FutureWarning: Addition/subtraction of integers and integer-arrays to Timestamp is deprecated, will be removed in a future version.  Instead of adding/subtracting `n`, use `n * self.freq`\n",
      "  # This is added back by InteractiveShellApp.init_path()\n",
      "/scratch_ssd/hpda/anaconda3/envs/gluonts/lib/python3.6/site-packages/ipykernel_launcher.py:14: FutureWarning: Addition/subtraction of integers and integer-arrays to Timestamp is deprecated, will be removed in a future version.  Instead of adding/subtracting `n`, use `n * self.freq`\n",
      "  \n",
      "\r",
      "Running evaluation:   0%|          | 0/32 [00:00<?, ?it/s]"
     ]
    },
    {
     "name": "stdout",
     "output_type": "stream",
     "text": [
      "model: acc={0.71}, mae={1.26}, rmse={2.94},r2={0.89}, \n",
      "            naive: acc={0.73}, mae={1.16}, rmse={3.05},r2={0.88}\n",
      "model: acc={0.69}, mae={1.34}, rmse={3.12},r2={0.87}, \n",
      "            naive: acc={0.73}, mae={1.16}, rmse={3.05},r2={0.88}\n",
      "model: acc={0.69}, mae={1.28}, rmse={3.00},r2={0.88}, \n",
      "            naive: acc={0.73}, mae={1.16}, rmse={3.05},r2={0.88}\n",
      "[[0.69680851 1.29259193 3.02197311 0.8806573 ]\n",
      " [0.73404255 1.16255107 3.05012312 0.87850116]]\n"
     ]
    },
    {
     "name": "stderr",
     "output_type": "stream",
     "text": [
      "Running evaluation: 100%|██████████| 32/32 [00:00<00:00, 157.34it/s]\n",
      "/N/u/pengb/hpda/indycar/predictor/src/indycar/model/stint_simulator_shortterm_pitmodel.py:196: SettingWithCopyWarning: \n",
      "A value is trying to be set on a copy of a slice from a DataFrame\n",
      "\n",
      "See the caveats in the documentation: http://pandas.pydata.org/pandas-docs/stable/user_guide/indexing.html#returning-a-view-versus-a-copy\n",
      "  uni_ds['rank_diff'][mask] = 0\n",
      "/N/u/pengb/hpda/indycar/predictor/src/indycar/model/stint_simulator_shortterm_pitmodel.py:200: SettingWithCopyWarning: \n",
      "A value is trying to be set on a copy of a slice from a DataFrame\n",
      "\n",
      "See the caveats in the documentation: http://pandas.pydata.org/pandas-docs/stable/user_guide/indexing.html#returning-a-view-versus-a-copy\n",
      "  uni_ds['time_diff'][mask] = 0\n"
     ]
    },
    {
     "name": "stdout",
     "output_type": "stream",
     "text": [
      "0.046350788473988304 0.08736120781267177 0.04474330316244641\n"
     ]
    },
    {
     "name": "stderr",
     "output_type": "stream",
     "text": [
      "INFO:root:Using GPU\n"
     ]
    },
    {
     "name": "stdout",
     "output_type": "stream",
     "text": [
      "init: load dataset with 7 races, 58 cars\n",
      "init model:pitmodel-m65-mlp-dsel-e500-l10-10-5-student-d0.1.pickle\n",
      "init pitmodel as PitModelMLP(pitmodel)\n",
      "predicting model=oracle, plen=2\n",
      "loading model...done!, ctx:gpu(0)\n",
      "ERROR: key 14-45 not found in model\n",
      "ERROR: key 14-45 not found in model\n",
      "ERROR: key 14-45 not found in model\n"
     ]
    },
    {
     "name": "stderr",
     "output_type": "stream",
     "text": [
      "/scratch_ssd/hpda/anaconda3/envs/gluonts/lib/python3.6/site-packages/ipykernel_launcher.py:10: DeprecationWarning: elementwise comparison failed; this will raise an error in the future.\n",
      "  # Remove the CWD from sys.path while we load stuff.\n",
      "/scratch_ssd/hpda/anaconda3/envs/gluonts/lib/python3.6/site-packages/ipykernel_launcher.py:11: FutureWarning: Addition/subtraction of integers and integer-arrays to Timestamp is deprecated, will be removed in a future version.  Instead of adding/subtracting `n`, use `n * self.freq`\n",
      "  # This is added back by InteractiveShellApp.init_path()\n",
      "/scratch_ssd/hpda/anaconda3/envs/gluonts/lib/python3.6/site-packages/ipykernel_launcher.py:14: FutureWarning: Addition/subtraction of integers and integer-arrays to Timestamp is deprecated, will be removed in a future version.  Instead of adding/subtracting `n`, use `n * self.freq`\n",
      "  \n",
      "\r",
      "Running evaluation:   0%|          | 0/33 [00:00<?, ?it/s]"
     ]
    },
    {
     "name": "stdout",
     "output_type": "stream",
     "text": [
      "model: acc={0.77}, mae={1.27}, rmse={3.00},r2={0.87}, \n",
      "            naive: acc={0.72}, mae={1.34}, rmse={3.25},r2={0.85}\n",
      "model: acc={0.78}, mae={1.27}, rmse={3.02},r2={0.87}, \n",
      "            naive: acc={0.72}, mae={1.34}, rmse={3.25},r2={0.85}\n",
      "model: acc={0.78}, mae={1.28}, rmse={3.04},r2={0.87}, \n",
      "            naive: acc={0.72}, mae={1.34}, rmse={3.25},r2={0.85}\n",
      "[[0.77659574 1.27240949 3.02259411 0.87244186]\n",
      " [0.71808511 1.33932584 3.24896987 0.85262365]]\n"
     ]
    },
    {
     "name": "stderr",
     "output_type": "stream",
     "text": [
      "Running evaluation: 100%|██████████| 33/33 [00:00<00:00, 157.85it/s]\n",
      "/N/u/pengb/hpda/indycar/predictor/src/indycar/model/stint_simulator_shortterm_pitmodel.py:196: SettingWithCopyWarning: \n",
      "A value is trying to be set on a copy of a slice from a DataFrame\n",
      "\n",
      "See the caveats in the documentation: http://pandas.pydata.org/pandas-docs/stable/user_guide/indexing.html#returning-a-view-versus-a-copy\n",
      "  uni_ds['rank_diff'][mask] = 0\n",
      "/N/u/pengb/hpda/indycar/predictor/src/indycar/model/stint_simulator_shortterm_pitmodel.py:200: SettingWithCopyWarning: \n",
      "A value is trying to be set on a copy of a slice from a DataFrame\n",
      "\n",
      "See the caveats in the documentation: http://pandas.pydata.org/pandas-docs/stable/user_guide/indexing.html#returning-a-view-versus-a-copy\n",
      "  uni_ds['time_diff'][mask] = 0\n"
     ]
    },
    {
     "name": "stdout",
     "output_type": "stream",
     "text": [
      "0.05361504376958824 0.09045714903274614 0.06415486869123528\n"
     ]
    },
    {
     "name": "stderr",
     "output_type": "stream",
     "text": [
      "INFO:root:Using GPU\n"
     ]
    },
    {
     "name": "stdout",
     "output_type": "stream",
     "text": [
      "init: load dataset with 7 races, 58 cars\n",
      "init model:pitmodel-m65-mlp-dsel-e500-l10-10-5-student-d0.1.pickle\n",
      "init pitmodel as PitModelMLP(pitmodel)\n",
      "predicting model=oracle, plen=2\n",
      "loading model...done!, ctx:gpu(0)\n",
      "ERROR: key 14-45 not found in model\n",
      "ERROR: key 14-45 not found in model\n",
      "ERROR: key 14-45 not found in model\n"
     ]
    },
    {
     "name": "stderr",
     "output_type": "stream",
     "text": [
      "/scratch_ssd/hpda/anaconda3/envs/gluonts/lib/python3.6/site-packages/ipykernel_launcher.py:10: DeprecationWarning: elementwise comparison failed; this will raise an error in the future.\n",
      "  # Remove the CWD from sys.path while we load stuff.\n",
      "/scratch_ssd/hpda/anaconda3/envs/gluonts/lib/python3.6/site-packages/ipykernel_launcher.py:11: FutureWarning: Addition/subtraction of integers and integer-arrays to Timestamp is deprecated, will be removed in a future version.  Instead of adding/subtracting `n`, use `n * self.freq`\n",
      "  # This is added back by InteractiveShellApp.init_path()\n",
      "/scratch_ssd/hpda/anaconda3/envs/gluonts/lib/python3.6/site-packages/ipykernel_launcher.py:14: FutureWarning: Addition/subtraction of integers and integer-arrays to Timestamp is deprecated, will be removed in a future version.  Instead of adding/subtracting `n`, use `n * self.freq`\n",
      "  \n",
      "\r",
      "Running evaluation:   0%|          | 0/33 [00:00<?, ?it/s]"
     ]
    },
    {
     "name": "stdout",
     "output_type": "stream",
     "text": [
      "model: acc={0.77}, mae={1.24}, rmse={2.98},r2={0.88}, \n",
      "            naive: acc={0.72}, mae={1.34}, rmse={3.25},r2={0.85}\n",
      "model: acc={0.75}, mae={1.26}, rmse={3.02},r2={0.87}, \n",
      "            naive: acc={0.72}, mae={1.34}, rmse={3.25},r2={0.85}\n",
      "model: acc={0.73}, mae={1.24}, rmse={2.97},r2={0.88}, \n",
      "            naive: acc={0.72}, mae={1.34}, rmse={3.25},r2={0.85}\n",
      "[[0.75       1.24644195 2.99218259 0.8749919 ]\n",
      " [0.71808511 1.33932584 3.24896987 0.85262365]]\n"
     ]
    },
    {
     "name": "stderr",
     "output_type": "stream",
     "text": [
      "Running evaluation: 100%|██████████| 33/33 [00:00<00:00, 137.17it/s]\n",
      "/N/u/pengb/hpda/indycar/predictor/src/indycar/model/stint_simulator_shortterm_pitmodel.py:196: SettingWithCopyWarning: \n",
      "A value is trying to be set on a copy of a slice from a DataFrame\n",
      "\n",
      "See the caveats in the documentation: http://pandas.pydata.org/pandas-docs/stable/user_guide/indexing.html#returning-a-view-versus-a-copy\n",
      "  uni_ds['rank_diff'][mask] = 0\n",
      "/N/u/pengb/hpda/indycar/predictor/src/indycar/model/stint_simulator_shortterm_pitmodel.py:200: SettingWithCopyWarning: \n",
      "A value is trying to be set on a copy of a slice from a DataFrame\n",
      "\n",
      "See the caveats in the documentation: http://pandas.pydata.org/pandas-docs/stable/user_guide/indexing.html#returning-a-view-versus-a-copy\n",
      "  uni_ds['time_diff'][mask] = 0\n"
     ]
    },
    {
     "name": "stdout",
     "output_type": "stream",
     "text": [
      "0.0544336971792932 0.08845779747109046 0.06317950934831947\n",
      "init: load dataset with 7 races, 58 cars\n",
      "init model:pitmodel-m65-mlp-dsel-e500-l10-10-5-student-d0.1.pickle\n",
      "init pitmodel as PitModelMLP(pitmodel)\n",
      "predicting model=oracle, plen=2\n"
     ]
    },
    {
     "name": "stderr",
     "output_type": "stream",
     "text": [
      "INFO:root:Using GPU\n"
     ]
    },
    {
     "name": "stdout",
     "output_type": "stream",
     "text": [
      "init: load dataset with 7 races, 58 cars\n",
      "init model:pitmodel-m65-mlp-dsel-e500-l10-10-5-student-d0.1.pickle\n",
      "init pitmodel as PitModelMLP(pitmodel)\n",
      "predicting model=oracle, plen=2\n",
      "loading model...done!, ctx:gpu(0)\n",
      "a short ts: carid=88，len=4\n",
      "a short ts: carid=88，len=4\n",
      "a short ts: carid=88，len=4\n"
     ]
    },
    {
     "name": "stderr",
     "output_type": "stream",
     "text": [
      "/scratch_ssd/hpda/anaconda3/envs/gluonts/lib/python3.6/site-packages/ipykernel_launcher.py:10: DeprecationWarning: elementwise comparison failed; this will raise an error in the future.\n",
      "  # Remove the CWD from sys.path while we load stuff.\n",
      "/scratch_ssd/hpda/anaconda3/envs/gluonts/lib/python3.6/site-packages/ipykernel_launcher.py:11: FutureWarning: Addition/subtraction of integers and integer-arrays to Timestamp is deprecated, will be removed in a future version.  Instead of adding/subtracting `n`, use `n * self.freq`\n",
      "  # This is added back by InteractiveShellApp.init_path()\n",
      "/scratch_ssd/hpda/anaconda3/envs/gluonts/lib/python3.6/site-packages/ipykernel_launcher.py:14: FutureWarning: Addition/subtraction of integers and integer-arrays to Timestamp is deprecated, will be removed in a future version.  Instead of adding/subtracting `n`, use `n * self.freq`\n",
      "  \n",
      "\r",
      "Running evaluation:   0%|          | 0/32 [00:00<?, ?it/s]"
     ]
    },
    {
     "name": "stdout",
     "output_type": "stream",
     "text": [
      "model: acc={0.77}, mae={1.17}, rmse={2.93},r2={0.89}, \n",
      "            naive: acc={0.73}, mae={1.16}, rmse={3.05},r2={0.88}\n",
      "model: acc={0.76}, mae={1.14}, rmse={2.89},r2={0.89}, \n",
      "            naive: acc={0.73}, mae={1.16}, rmse={3.05},r2={0.88}\n",
      "model: acc={0.76}, mae={1.17}, rmse={2.97},r2={0.88}, \n",
      "            naive: acc={0.73}, mae={1.16}, rmse={3.05},r2={0.88}\n",
      "[[0.7641844  1.1574584  2.9286372  0.88797179]\n",
      " [0.73404255 1.16255107 3.05012312 0.87850116]]\n"
     ]
    },
    {
     "name": "stderr",
     "output_type": "stream",
     "text": [
      "Running evaluation: 100%|██████████| 32/32 [00:00<00:00, 147.45it/s]\n",
      "/N/u/pengb/hpda/indycar/predictor/src/indycar/model/stint_simulator_shortterm_pitmodel.py:196: SettingWithCopyWarning: \n",
      "A value is trying to be set on a copy of a slice from a DataFrame\n",
      "\n",
      "See the caveats in the documentation: http://pandas.pydata.org/pandas-docs/stable/user_guide/indexing.html#returning-a-view-versus-a-copy\n",
      "  uni_ds['rank_diff'][mask] = 0\n",
      "/N/u/pengb/hpda/indycar/predictor/src/indycar/model/stint_simulator_shortterm_pitmodel.py:200: SettingWithCopyWarning: \n",
      "A value is trying to be set on a copy of a slice from a DataFrame\n",
      "\n",
      "See the caveats in the documentation: http://pandas.pydata.org/pandas-docs/stable/user_guide/indexing.html#returning-a-view-versus-a-copy\n",
      "  uni_ds['time_diff'][mask] = 0\n"
     ]
    },
    {
     "name": "stdout",
     "output_type": "stream",
     "text": [
      "0.045649651263634926 0.07921384684915778 0.05773754992854264\n"
     ]
    },
    {
     "name": "stderr",
     "output_type": "stream",
     "text": [
      "INFO:root:Using GPU\n"
     ]
    },
    {
     "name": "stdout",
     "output_type": "stream",
     "text": [
      "init: load dataset with 7 races, 58 cars\n",
      "init model:pitmodel-m65-mlp-dsel-e500-l10-10-5-student-d0.1.pickle\n",
      "init pitmodel as PitModelMLP(pitmodel)\n",
      "predicting model=oracle, plen=2\n",
      "loading model...done!, ctx:gpu(0)\n",
      "a short ts: carid=88，len=4\n",
      "a short ts: carid=88，len=4\n",
      "a short ts: carid=88，len=4\n"
     ]
    },
    {
     "name": "stderr",
     "output_type": "stream",
     "text": [
      "/scratch_ssd/hpda/anaconda3/envs/gluonts/lib/python3.6/site-packages/ipykernel_launcher.py:10: DeprecationWarning: elementwise comparison failed; this will raise an error in the future.\n",
      "  # Remove the CWD from sys.path while we load stuff.\n",
      "/scratch_ssd/hpda/anaconda3/envs/gluonts/lib/python3.6/site-packages/ipykernel_launcher.py:11: FutureWarning: Addition/subtraction of integers and integer-arrays to Timestamp is deprecated, will be removed in a future version.  Instead of adding/subtracting `n`, use `n * self.freq`\n",
      "  # This is added back by InteractiveShellApp.init_path()\n",
      "/scratch_ssd/hpda/anaconda3/envs/gluonts/lib/python3.6/site-packages/ipykernel_launcher.py:14: FutureWarning: Addition/subtraction of integers and integer-arrays to Timestamp is deprecated, will be removed in a future version.  Instead of adding/subtracting `n`, use `n * self.freq`\n",
      "  \n",
      "\r",
      "Running evaluation:   0%|          | 0/32 [00:00<?, ?it/s]"
     ]
    },
    {
     "name": "stdout",
     "output_type": "stream",
     "text": [
      "model: acc={0.78}, mae={1.13}, rmse={2.90},r2={0.89}, \n",
      "            naive: acc={0.73}, mae={1.16}, rmse={3.05},r2={0.88}\n",
      "model: acc={0.78}, mae={1.10}, rmse={2.82},r2={0.90}, \n",
      "            naive: acc={0.73}, mae={1.16}, rmse={3.05},r2={0.88}\n",
      "model: acc={0.80}, mae={1.11}, rmse={2.86},r2={0.89}, \n",
      "            naive: acc={0.73}, mae={1.16}, rmse={3.05},r2={0.88}\n",
      "[[0.78546099 1.11115059 2.8610458  0.89308374]\n",
      " [0.73404255 1.16255107 3.05012312 0.87850116]]\n"
     ]
    },
    {
     "name": "stderr",
     "output_type": "stream",
     "text": [
      "Running evaluation: 100%|██████████| 32/32 [00:00<00:00, 126.68it/s]\n",
      "/N/u/pengb/hpda/indycar/predictor/src/indycar/model/stint_simulator_shortterm_pitmodel.py:196: SettingWithCopyWarning: \n",
      "A value is trying to be set on a copy of a slice from a DataFrame\n",
      "\n",
      "See the caveats in the documentation: http://pandas.pydata.org/pandas-docs/stable/user_guide/indexing.html#returning-a-view-versus-a-copy\n",
      "  uni_ds['rank_diff'][mask] = 0\n",
      "/N/u/pengb/hpda/indycar/predictor/src/indycar/model/stint_simulator_shortterm_pitmodel.py:200: SettingWithCopyWarning: \n",
      "A value is trying to be set on a copy of a slice from a DataFrame\n",
      "\n",
      "See the caveats in the documentation: http://pandas.pydata.org/pandas-docs/stable/user_guide/indexing.html#returning-a-view-versus-a-copy\n",
      "  uni_ds['time_diff'][mask] = 0\n"
     ]
    },
    {
     "name": "stdout",
     "output_type": "stream",
     "text": [
      "0.045366264795338784 0.0754272173158904 0.05540938351228211\n",
      "init: load dataset with 7 races, 58 cars\n",
      "init model:pitmodel-m65-mlp-dsel-e500-l10-10-5-student-d0.1.pickle\n",
      "init pitmodel as PitModelMLP(pitmodel)\n",
      "predicting model=oracle, plen=2\n"
     ]
    },
    {
     "name": "stderr",
     "output_type": "stream",
     "text": [
      "INFO:root:Using GPU\n"
     ]
    },
    {
     "name": "stdout",
     "output_type": "stream",
     "text": [
      "init: load dataset with 7 races, 58 cars\n",
      "init model:pitmodel-m65-mlp-dsel-e500-l10-10-5-student-d0.1.pickle\n",
      "init pitmodel as PitModelMLP(pitmodel)\n",
      "predicting model=oracle, plen=2\n",
      "loading model...done!, ctx:gpu(0)\n",
      "ERROR: key 14-45 not found in model\n",
      "ERROR: key 14-45 not found in model\n",
      "ERROR: key 14-45 not found in model\n"
     ]
    },
    {
     "name": "stderr",
     "output_type": "stream",
     "text": [
      "/scratch_ssd/hpda/anaconda3/envs/gluonts/lib/python3.6/site-packages/ipykernel_launcher.py:10: DeprecationWarning: elementwise comparison failed; this will raise an error in the future.\n",
      "  # Remove the CWD from sys.path while we load stuff.\n",
      "/scratch_ssd/hpda/anaconda3/envs/gluonts/lib/python3.6/site-packages/ipykernel_launcher.py:11: FutureWarning: Addition/subtraction of integers and integer-arrays to Timestamp is deprecated, will be removed in a future version.  Instead of adding/subtracting `n`, use `n * self.freq`\n",
      "  # This is added back by InteractiveShellApp.init_path()\n",
      "/scratch_ssd/hpda/anaconda3/envs/gluonts/lib/python3.6/site-packages/ipykernel_launcher.py:14: FutureWarning: Addition/subtraction of integers and integer-arrays to Timestamp is deprecated, will be removed in a future version.  Instead of adding/subtracting `n`, use `n * self.freq`\n",
      "  \n",
      "\r",
      "Running evaluation:   0%|          | 0/33 [00:00<?, ?it/s]"
     ]
    },
    {
     "name": "stdout",
     "output_type": "stream",
     "text": [
      "model: acc={0.72}, mae={1.31}, rmse={3.10},r2={0.87}, \n",
      "            naive: acc={0.72}, mae={1.34}, rmse={3.25},r2={0.85}\n",
      "model: acc={0.76}, mae={1.31}, rmse={3.07},r2={0.87}, \n",
      "            naive: acc={0.72}, mae={1.34}, rmse={3.25},r2={0.85}\n",
      "model: acc={0.71}, mae={1.33}, rmse={3.14},r2={0.86}, \n",
      "            naive: acc={0.72}, mae={1.34}, rmse={3.25},r2={0.85}\n",
      "[[0.72695035 1.317603   3.10518734 0.86536691]\n",
      " [0.71808511 1.33932584 3.24896987 0.85262365]]\n"
     ]
    },
    {
     "name": "stderr",
     "output_type": "stream",
     "text": [
      "Running evaluation: 100%|██████████| 33/33 [00:00<00:00, 158.32it/s]\n",
      "/N/u/pengb/hpda/indycar/predictor/src/indycar/model/stint_simulator_shortterm_pitmodel.py:196: SettingWithCopyWarning: \n",
      "A value is trying to be set on a copy of a slice from a DataFrame\n",
      "\n",
      "See the caveats in the documentation: http://pandas.pydata.org/pandas-docs/stable/user_guide/indexing.html#returning-a-view-versus-a-copy\n",
      "  uni_ds['rank_diff'][mask] = 0\n",
      "/N/u/pengb/hpda/indycar/predictor/src/indycar/model/stint_simulator_shortterm_pitmodel.py:200: SettingWithCopyWarning: \n",
      "A value is trying to be set on a copy of a slice from a DataFrame\n",
      "\n",
      "See the caveats in the documentation: http://pandas.pydata.org/pandas-docs/stable/user_guide/indexing.html#returning-a-view-versus-a-copy\n",
      "  uni_ds['time_diff'][mask] = 0\n"
     ]
    },
    {
     "name": "stdout",
     "output_type": "stream",
     "text": [
      "0.04905436074786556 0.08824165135631687 0.05372311682697503\n"
     ]
    },
    {
     "name": "stderr",
     "output_type": "stream",
     "text": [
      "INFO:root:Using GPU\n"
     ]
    },
    {
     "name": "stdout",
     "output_type": "stream",
     "text": [
      "init: load dataset with 7 races, 58 cars\n",
      "init model:pitmodel-m65-mlp-dsel-e500-l10-10-5-student-d0.1.pickle\n",
      "init pitmodel as PitModelMLP(pitmodel)\n",
      "predicting model=oracle, plen=2\n",
      "loading model...done!, ctx:gpu(0)\n",
      "ERROR: key 14-45 not found in model\n",
      "ERROR: key 14-45 not found in model\n",
      "ERROR: key 14-45 not found in model\n"
     ]
    },
    {
     "name": "stderr",
     "output_type": "stream",
     "text": [
      "/scratch_ssd/hpda/anaconda3/envs/gluonts/lib/python3.6/site-packages/ipykernel_launcher.py:10: DeprecationWarning: elementwise comparison failed; this will raise an error in the future.\n",
      "  # Remove the CWD from sys.path while we load stuff.\n",
      "/scratch_ssd/hpda/anaconda3/envs/gluonts/lib/python3.6/site-packages/ipykernel_launcher.py:11: FutureWarning: Addition/subtraction of integers and integer-arrays to Timestamp is deprecated, will be removed in a future version.  Instead of adding/subtracting `n`, use `n * self.freq`\n",
      "  # This is added back by InteractiveShellApp.init_path()\n",
      "/scratch_ssd/hpda/anaconda3/envs/gluonts/lib/python3.6/site-packages/ipykernel_launcher.py:14: FutureWarning: Addition/subtraction of integers and integer-arrays to Timestamp is deprecated, will be removed in a future version.  Instead of adding/subtracting `n`, use `n * self.freq`\n",
      "  \n",
      "\r",
      "Running evaluation:   0%|          | 0/33 [00:00<?, ?it/s]"
     ]
    },
    {
     "name": "stdout",
     "output_type": "stream",
     "text": [
      "model: acc={0.77}, mae={1.24}, rmse={2.95},r2={0.88}, \n",
      "            naive: acc={0.72}, mae={1.34}, rmse={3.25},r2={0.85}\n",
      "model: acc={0.76}, mae={1.26}, rmse={2.96},r2={0.88}, \n",
      "            naive: acc={0.72}, mae={1.34}, rmse={3.25},r2={0.85}\n",
      "model: acc={0.78}, mae={1.23}, rmse={2.94},r2={0.88}, \n",
      "            naive: acc={0.72}, mae={1.34}, rmse={3.25},r2={0.85}\n",
      "[[0.7712766  1.23932584 2.9481795  0.87864703]\n",
      " [0.71808511 1.33932584 3.24896987 0.85262365]]\n"
     ]
    },
    {
     "name": "stderr",
     "output_type": "stream",
     "text": [
      "Running evaluation: 100%|██████████| 33/33 [00:00<00:00, 110.63it/s]\n",
      "/N/u/pengb/hpda/indycar/predictor/src/indycar/model/stint_simulator_shortterm_pitmodel.py:196: SettingWithCopyWarning: \n",
      "A value is trying to be set on a copy of a slice from a DataFrame\n",
      "\n",
      "See the caveats in the documentation: http://pandas.pydata.org/pandas-docs/stable/user_guide/indexing.html#returning-a-view-versus-a-copy\n",
      "  uni_ds['rank_diff'][mask] = 0\n",
      "/N/u/pengb/hpda/indycar/predictor/src/indycar/model/stint_simulator_shortterm_pitmodel.py:200: SettingWithCopyWarning: \n",
      "A value is trying to be set on a copy of a slice from a DataFrame\n",
      "\n",
      "See the caveats in the documentation: http://pandas.pydata.org/pandas-docs/stable/user_guide/indexing.html#returning-a-view-versus-a-copy\n",
      "  uni_ds['time_diff'][mask] = 0\n"
     ]
    },
    {
     "name": "stdout",
     "output_type": "stream",
     "text": [
      "0.05332865016751324 0.08576948016859397 0.05681400626823732\n"
     ]
    },
    {
     "name": "stderr",
     "output_type": "stream",
     "text": [
      "INFO:root:Using GPU\n"
     ]
    },
    {
     "name": "stdout",
     "output_type": "stream",
     "text": [
      "init: load dataset with 7 races, 58 cars\n",
      "init model:pitmodel-m65-mlp-dsel-e500-l10-10-5-student-d0.1.pickle\n",
      "init pitmodel as PitModelMLP(pitmodel)\n",
      "predicting model=oracle, plen=2\n",
      "loading model...done!, ctx:gpu(0)\n",
      "ERROR: key 14-45 not found in model\n",
      "ERROR: key 14-45 not found in model\n",
      "ERROR: key 14-45 not found in model\n"
     ]
    },
    {
     "name": "stderr",
     "output_type": "stream",
     "text": [
      "/scratch_ssd/hpda/anaconda3/envs/gluonts/lib/python3.6/site-packages/ipykernel_launcher.py:10: DeprecationWarning: elementwise comparison failed; this will raise an error in the future.\n",
      "  # Remove the CWD from sys.path while we load stuff.\n",
      "/scratch_ssd/hpda/anaconda3/envs/gluonts/lib/python3.6/site-packages/ipykernel_launcher.py:11: FutureWarning: Addition/subtraction of integers and integer-arrays to Timestamp is deprecated, will be removed in a future version.  Instead of adding/subtracting `n`, use `n * self.freq`\n",
      "  # This is added back by InteractiveShellApp.init_path()\n",
      "/scratch_ssd/hpda/anaconda3/envs/gluonts/lib/python3.6/site-packages/ipykernel_launcher.py:14: FutureWarning: Addition/subtraction of integers and integer-arrays to Timestamp is deprecated, will be removed in a future version.  Instead of adding/subtracting `n`, use `n * self.freq`\n",
      "  \n",
      "\r",
      "Running evaluation:   0%|          | 0/33 [00:00<?, ?it/s]"
     ]
    },
    {
     "name": "stdout",
     "output_type": "stream",
     "text": [
      "model: acc={0.74}, mae={1.35}, rmse={3.18},r2={0.86}, \n",
      "            naive: acc={0.72}, mae={1.34}, rmse={3.25},r2={0.85}\n",
      "model: acc={0.72}, mae={1.36}, rmse={3.18},r2={0.86}, \n",
      "            naive: acc={0.72}, mae={1.34}, rmse={3.25},r2={0.85}\n",
      "model: acc={0.72}, mae={1.36}, rmse={3.17},r2={0.86}, \n",
      "            naive: acc={0.72}, mae={1.34}, rmse={3.25},r2={0.85}\n",
      "[[0.72695035 1.35555556 3.17861431 0.85893689]\n",
      " [0.71808511 1.33932584 3.24896987 0.85262365]]\n"
     ]
    },
    {
     "name": "stderr",
     "output_type": "stream",
     "text": [
      "Running evaluation: 100%|██████████| 33/33 [00:00<00:00, 147.81it/s]\n",
      "/N/u/pengb/hpda/indycar/predictor/src/indycar/model/stint_simulator_shortterm_pitmodel.py:196: SettingWithCopyWarning: \n",
      "A value is trying to be set on a copy of a slice from a DataFrame\n",
      "\n",
      "See the caveats in the documentation: http://pandas.pydata.org/pandas-docs/stable/user_guide/indexing.html#returning-a-view-versus-a-copy\n",
      "  uni_ds['rank_diff'][mask] = 0\n",
      "/N/u/pengb/hpda/indycar/predictor/src/indycar/model/stint_simulator_shortterm_pitmodel.py:200: SettingWithCopyWarning: \n",
      "A value is trying to be set on a copy of a slice from a DataFrame\n",
      "\n",
      "See the caveats in the documentation: http://pandas.pydata.org/pandas-docs/stable/user_guide/indexing.html#returning-a-view-versus-a-copy\n",
      "  uni_ds['time_diff'][mask] = 0\n"
     ]
    },
    {
     "name": "stdout",
     "output_type": "stream",
     "text": [
      "0.0494812493245434 0.08991678374581216 0.05453906841024532\n"
     ]
    },
    {
     "name": "stderr",
     "output_type": "stream",
     "text": [
      "INFO:root:Using GPU\n"
     ]
    },
    {
     "name": "stdout",
     "output_type": "stream",
     "text": [
      "init: load dataset with 7 races, 58 cars\n",
      "init model:pitmodel-m65-mlp-dsel-e500-l10-10-5-student-d0.1.pickle\n",
      "init pitmodel as PitModelMLP(pitmodel)\n",
      "predicting model=oracle, plen=2\n",
      "loading model...done!, ctx:gpu(0)\n",
      "a short ts: carid=88，len=4\n",
      "a short ts: carid=88，len=4\n",
      "a short ts: carid=88，len=4\n"
     ]
    },
    {
     "name": "stderr",
     "output_type": "stream",
     "text": [
      "/scratch_ssd/hpda/anaconda3/envs/gluonts/lib/python3.6/site-packages/ipykernel_launcher.py:10: DeprecationWarning: elementwise comparison failed; this will raise an error in the future.\n",
      "  # Remove the CWD from sys.path while we load stuff.\n",
      "/scratch_ssd/hpda/anaconda3/envs/gluonts/lib/python3.6/site-packages/ipykernel_launcher.py:11: FutureWarning: Addition/subtraction of integers and integer-arrays to Timestamp is deprecated, will be removed in a future version.  Instead of adding/subtracting `n`, use `n * self.freq`\n",
      "  # This is added back by InteractiveShellApp.init_path()\n",
      "/scratch_ssd/hpda/anaconda3/envs/gluonts/lib/python3.6/site-packages/ipykernel_launcher.py:14: FutureWarning: Addition/subtraction of integers and integer-arrays to Timestamp is deprecated, will be removed in a future version.  Instead of adding/subtracting `n`, use `n * self.freq`\n",
      "  \n",
      "\r",
      "Running evaluation:   0%|          | 0/32 [00:00<?, ?it/s]"
     ]
    },
    {
     "name": "stdout",
     "output_type": "stream",
     "text": [
      "model: acc={0.80}, mae={1.17}, rmse={3.00},r2={0.88}, \n",
      "            naive: acc={0.73}, mae={1.16}, rmse={3.05},r2={0.88}\n",
      "model: acc={0.79}, mae={1.17}, rmse={3.00},r2={0.88}, \n",
      "            naive: acc={0.73}, mae={1.16}, rmse={3.05},r2={0.88}\n",
      "model: acc={0.74}, mae={1.19}, rmse={3.03},r2={0.88}, \n",
      "            naive: acc={0.73}, mae={1.16}, rmse={3.05},r2={0.88}\n",
      "[[0.77836879 1.1774738  3.00759183 0.88186375]\n",
      " [0.73404255 1.16255107 3.05012312 0.87850116]]\n"
     ]
    },
    {
     "name": "stderr",
     "output_type": "stream",
     "text": [
      "Running evaluation: 100%|██████████| 32/32 [00:00<00:00, 148.28it/s]\n",
      "/N/u/pengb/hpda/indycar/predictor/src/indycar/model/stint_simulator_shortterm_pitmodel.py:196: SettingWithCopyWarning: \n",
      "A value is trying to be set on a copy of a slice from a DataFrame\n",
      "\n",
      "See the caveats in the documentation: http://pandas.pydata.org/pandas-docs/stable/user_guide/indexing.html#returning-a-view-versus-a-copy\n",
      "  uni_ds['rank_diff'][mask] = 0\n",
      "/N/u/pengb/hpda/indycar/predictor/src/indycar/model/stint_simulator_shortterm_pitmodel.py:200: SettingWithCopyWarning: \n",
      "A value is trying to be set on a copy of a slice from a DataFrame\n",
      "\n",
      "See the caveats in the documentation: http://pandas.pydata.org/pandas-docs/stable/user_guide/indexing.html#returning-a-view-versus-a-copy\n",
      "  uni_ds['time_diff'][mask] = 0\n"
     ]
    },
    {
     "name": "stdout",
     "output_type": "stream",
     "text": [
      "0.041574749288480095 0.0761723282885656 0.04484590860786397\n"
     ]
    },
    {
     "name": "stderr",
     "output_type": "stream",
     "text": [
      "INFO:root:Using GPU\n"
     ]
    },
    {
     "name": "stdout",
     "output_type": "stream",
     "text": [
      "init: load dataset with 7 races, 58 cars\n",
      "init model:pitmodel-m65-mlp-dsel-e500-l10-10-5-student-d0.1.pickle\n",
      "init pitmodel as PitModelMLP(pitmodel)\n",
      "predicting model=oracle, plen=2\n",
      "loading model...done!, ctx:gpu(0)\n",
      "a short ts: carid=88，len=4\n",
      "a short ts: carid=88，len=4\n",
      "a short ts: carid=88，len=4\n"
     ]
    },
    {
     "name": "stderr",
     "output_type": "stream",
     "text": [
      "/scratch_ssd/hpda/anaconda3/envs/gluonts/lib/python3.6/site-packages/ipykernel_launcher.py:10: DeprecationWarning: elementwise comparison failed; this will raise an error in the future.\n",
      "  # Remove the CWD from sys.path while we load stuff.\n",
      "/scratch_ssd/hpda/anaconda3/envs/gluonts/lib/python3.6/site-packages/ipykernel_launcher.py:11: FutureWarning: Addition/subtraction of integers and integer-arrays to Timestamp is deprecated, will be removed in a future version.  Instead of adding/subtracting `n`, use `n * self.freq`\n",
      "  # This is added back by InteractiveShellApp.init_path()\n",
      "/scratch_ssd/hpda/anaconda3/envs/gluonts/lib/python3.6/site-packages/ipykernel_launcher.py:14: FutureWarning: Addition/subtraction of integers and integer-arrays to Timestamp is deprecated, will be removed in a future version.  Instead of adding/subtracting `n`, use `n * self.freq`\n",
      "  \n",
      "\r",
      "Running evaluation:   0%|          | 0/32 [00:00<?, ?it/s]"
     ]
    },
    {
     "name": "stdout",
     "output_type": "stream",
     "text": [
      "model: acc={0.81}, mae={1.10}, rmse={2.82},r2={0.90}, \n",
      "            naive: acc={0.73}, mae={1.16}, rmse={3.05},r2={0.88}\n",
      "model: acc={0.80}, mae={1.11}, rmse={2.85},r2={0.89}, \n",
      "            naive: acc={0.73}, mae={1.16}, rmse={3.05},r2={0.88}\n",
      "model: acc={0.80}, mae={1.09}, rmse={2.80},r2={0.90}, \n",
      "            naive: acc={0.73}, mae={1.16}, rmse={3.05},r2={0.88}\n",
      "[[0.80496454 1.10001777 2.82318742 0.89590343]\n",
      " [0.73404255 1.16255107 3.05012312 0.87850116]]\n"
     ]
    },
    {
     "name": "stderr",
     "output_type": "stream",
     "text": [
      "Running evaluation: 100%|██████████| 32/32 [00:00<00:00, 147.19it/s]\n",
      "/N/u/pengb/hpda/indycar/predictor/src/indycar/model/stint_simulator_shortterm_pitmodel.py:196: SettingWithCopyWarning: \n",
      "A value is trying to be set on a copy of a slice from a DataFrame\n",
      "\n",
      "See the caveats in the documentation: http://pandas.pydata.org/pandas-docs/stable/user_guide/indexing.html#returning-a-view-versus-a-copy\n",
      "  uni_ds['rank_diff'][mask] = 0\n",
      "/N/u/pengb/hpda/indycar/predictor/src/indycar/model/stint_simulator_shortterm_pitmodel.py:200: SettingWithCopyWarning: \n",
      "A value is trying to be set on a copy of a slice from a DataFrame\n",
      "\n",
      "See the caveats in the documentation: http://pandas.pydata.org/pandas-docs/stable/user_guide/indexing.html#returning-a-view-versus-a-copy\n",
      "  uni_ds['time_diff'][mask] = 0\n"
     ]
    },
    {
     "name": "stdout",
     "output_type": "stream",
     "text": [
      "0.04506333443267739 0.07298423052023403 0.04639231924951445\n"
     ]
    },
    {
     "name": "stderr",
     "output_type": "stream",
     "text": [
      "INFO:root:Using GPU\n"
     ]
    },
    {
     "name": "stdout",
     "output_type": "stream",
     "text": [
      "init: load dataset with 7 races, 58 cars\n",
      "init model:pitmodel-m65-mlp-dsel-e500-l10-10-5-student-d0.1.pickle\n",
      "init pitmodel as PitModelMLP(pitmodel)\n",
      "predicting model=oracle, plen=2\n",
      "loading model...done!, ctx:gpu(0)\n",
      "a short ts: carid=88，len=4\n",
      "a short ts: carid=88，len=4\n",
      "a short ts: carid=88，len=4\n"
     ]
    },
    {
     "name": "stderr",
     "output_type": "stream",
     "text": [
      "/scratch_ssd/hpda/anaconda3/envs/gluonts/lib/python3.6/site-packages/ipykernel_launcher.py:10: DeprecationWarning: elementwise comparison failed; this will raise an error in the future.\n",
      "  # Remove the CWD from sys.path while we load stuff.\n",
      "/scratch_ssd/hpda/anaconda3/envs/gluonts/lib/python3.6/site-packages/ipykernel_launcher.py:11: FutureWarning: Addition/subtraction of integers and integer-arrays to Timestamp is deprecated, will be removed in a future version.  Instead of adding/subtracting `n`, use `n * self.freq`\n",
      "  # This is added back by InteractiveShellApp.init_path()\n",
      "/scratch_ssd/hpda/anaconda3/envs/gluonts/lib/python3.6/site-packages/ipykernel_launcher.py:14: FutureWarning: Addition/subtraction of integers and integer-arrays to Timestamp is deprecated, will be removed in a future version.  Instead of adding/subtracting `n`, use `n * self.freq`\n",
      "  \n",
      "\r",
      "Running evaluation:   0%|          | 0/32 [00:00<?, ?it/s]"
     ]
    },
    {
     "name": "stdout",
     "output_type": "stream",
     "text": [
      "model: acc={0.75}, mae={1.20}, rmse={3.04},r2={0.88}, \n",
      "            naive: acc={0.73}, mae={1.16}, rmse={3.05},r2={0.88}\n",
      "model: acc={0.73}, mae={1.23}, rmse={3.14},r2={0.87}, \n",
      "            naive: acc={0.73}, mae={1.16}, rmse={3.05},r2={0.88}\n",
      "model: acc={0.74}, mae={1.20}, rmse={3.05},r2={0.88}, \n",
      "            naive: acc={0.73}, mae={1.16}, rmse={3.05},r2={0.88}\n",
      "[[0.74113475 1.2109907  3.07686982 0.87633264]\n",
      " [0.73404255 1.16255107 3.05012312 0.87850116]]\n"
     ]
    },
    {
     "name": "stderr",
     "output_type": "stream",
     "text": [
      "\r",
      "Running evaluation: 100%|██████████| 32/32 [00:00<00:00, 159.70it/s]"
     ]
    },
    {
     "name": "stdout",
     "output_type": "stream",
     "text": [
      "0.04142084112035375 0.0752928530421293 0.0451244091025688\n"
     ]
    },
    {
     "name": "stderr",
     "output_type": "stream",
     "text": [
      "\n"
     ]
    }
   ],
   "source": [
    "fmodestr = {stint.FEATURE_PITAGE:'pitage',stint.FEATURE_STATUS:'nopitage'}\n",
    "lapstr = {0:'noinlap',1:'inlap',2:'outlap'}\n",
    "for runts in ['TIMEDIFF','RANK']:\n",
    "    for fmode in [stint.FEATURE_PITAGE, stint.FEATURE_STATUS]:\n",
    "        for year in ['2018','2019']:\n",
    "            for lapmode in [0,1,2]:\n",
    "                mid = 'pitmodel-%s-%s-%s-%s'%(runts, year, lapstr[lapmode], fmodestr[fmode])\n",
    "                acc[mid], ret[mid] = test_pitmodel('pitmodel-m65-mlp-dsel-e500-l10-10-5-student-d0.1.pickle', \n",
    "                                    'Indy500-%s'%year, runts, loopcnt=3,inlapmode=lapmode,featuremode = fmode)\n",
    "                if acc[mid] != []:\n",
    "                    pret[mid] = prisk(ret[mid][0][1], ret[mid][0][2])\n",
    "                else:\n",
    "                    pret[mid] = []"
   ]
  },
  {
   "cell_type": "code",
   "execution_count": null,
   "metadata": {},
   "outputs": [],
   "source": [
    "sys.exit(0)"
   ]
  },
  {
   "cell_type": "code",
   "execution_count": 12,
   "metadata": {},
   "outputs": [
    {
     "data": {
      "text/plain": [
       "{'oracle-TIMEDIFF-2018-noinlap-pitage': array([[[0.78191489, 1.12322097, 2.4613872 , 0.91541442],\n",
       "         [0.71808511, 1.33932584, 3.24896987, 0.85262365]]]),\n",
       " 'oracle-TIMEDIFF-2018-inlap-pitage': array([[[0.82446809, 0.97378277, 2.1990805 , 0.93248214],\n",
       "         [0.71808511, 1.33932584, 3.24896987, 0.85262365]]]),\n",
       " 'oracle-TIMEDIFF-2018-outlap-pitage': [],\n",
       " 'oracle-TIMEDIFF-2019-noinlap-pitage': array([[[0.7393617 , 1.07159353, 2.41942456, 0.9235528 ],\n",
       "         [0.73404255, 1.16255107, 3.05012312, 0.87850116]]]),\n",
       " 'oracle-TIMEDIFF-2019-inlap-pitage': array([[[0.83510638, 0.95505418, 2.26225173, 0.93316264],\n",
       "         [0.73404255, 1.16255107, 3.05012312, 0.87850116]]]),\n",
       " 'oracle-TIMEDIFF-2019-outlap-pitage': [],\n",
       " 'oracle-TIMEDIFF-2018-noinlap-nopitage': array([[[0.77659574, 1.20973783, 2.72462759, 0.89635443],\n",
       "         [0.71808511, 1.33932584, 3.24896987, 0.85262365]]]),\n",
       " 'oracle-TIMEDIFF-2018-inlap-nopitage': array([[[0.85106383, 0.87827715, 2.09440131, 0.93875703],\n",
       "         [0.71808511, 1.33932584, 3.24896987, 0.85262365]]]),\n",
       " 'oracle-TIMEDIFF-2018-outlap-nopitage': array([[[0.7712766 , 1.20749064, 2.70074203, 0.89816369],\n",
       "         [0.71808511, 1.33932584, 3.24896987, 0.85262365]]]),\n",
       " 'oracle-TIMEDIFF-2019-noinlap-nopitage': array([[[0.71276596, 1.19097531, 2.6837847 , 0.90593399],\n",
       "         [0.73404255, 1.16255107, 3.05012312, 0.87850116]]]),\n",
       " 'oracle-TIMEDIFF-2019-inlap-nopitage': array([[[0.82446809, 0.80760348, 1.97883633, 0.94886042],\n",
       "         [0.73404255, 1.16255107, 3.05012312, 0.87850116]]]),\n",
       " 'oracle-TIMEDIFF-2019-outlap-nopitage': array([[[0.70744681, 1.16397229, 2.66465252, 0.90727036],\n",
       "         [0.73404255, 1.16255107, 3.05012312, 0.87850116]]]),\n",
       " 'oracle-RANK-2018-noinlap-pitage': array([[[0.85106383, 0.97602996, 2.27261832, 0.92789101],\n",
       "         [0.71808511, 1.33932584, 3.24896987, 0.85262365]]]),\n",
       " 'oracle-RANK-2018-inlap-pitage': array([[[0.85106383, 1.00411985, 2.43307423, 0.91734918],\n",
       "         [0.71808511, 1.33932584, 3.24896987, 0.85262365]]]),\n",
       " 'oracle-RANK-2018-outlap-pitage': [],\n",
       " 'oracle-RANK-2019-noinlap-pitage': array([[[0.88829787, 0.89820572, 2.27407864, 0.93246198],\n",
       "         [0.73404255, 1.16255107, 3.05012312, 0.87850116]]]),\n",
       " 'oracle-RANK-2019-inlap-pitage': array([[[0.86702128, 0.89109966, 2.342119  , 0.92836004],\n",
       "         [0.73404255, 1.16255107, 3.05012312, 0.87850116]]]),\n",
       " 'oracle-RANK-2019-outlap-pitage': [],\n",
       " 'oracle-RANK-2018-noinlap-nopitage': array([[[0.76595745, 1.26067416, 2.95781831, 0.87785395],\n",
       "         [0.71808511, 1.33932584, 3.24896987, 0.85262365]]]),\n",
       " 'oracle-RANK-2018-inlap-nopitage': array([[[0.82446809, 1.13595506, 2.72469632, 0.8963492 ],\n",
       "         [0.71808511, 1.33932584, 3.24896987, 0.85262365]]]),\n",
       " 'oracle-RANK-2018-outlap-nopitage': array([[[0.79255319, 1.28501873, 3.04153519, 0.87084176],\n",
       "         [0.71808511, 1.33932584, 3.24896987, 0.85262365]]]),\n",
       " 'oracle-RANK-2019-noinlap-nopitage': array([[[0.78191489, 1.16859122, 2.93810128, 0.88726184],\n",
       "         [0.73404255, 1.16255107, 3.05012312, 0.87850116]]]),\n",
       " 'oracle-RANK-2019-inlap-nopitage': array([[[0.85638298, 0.99626932, 2.58815098, 0.91251842],\n",
       "         [0.73404255, 1.16255107, 3.05012312, 0.87850116]]]),\n",
       " 'oracle-RANK-2019-outlap-nopitage': array([[[0.77659574, 1.14904956, 2.94504652, 0.88672822],\n",
       "         [0.73404255, 1.16255107, 3.05012312, 0.87850116]]]),\n",
       " 'pitmodel-TIMEDIFF-2018-noinlap-pitage': array([[[0.71276596, 1.5576779 , 3.48791386, 0.83014907],\n",
       "         [0.71808511, 1.33932584, 3.24896987, 0.85262365]],\n",
       " \n",
       "        [[0.71276596, 1.52247191, 3.39784025, 0.83880842],\n",
       "         [0.71808511, 1.33932584, 3.24896987, 0.85262365]],\n",
       " \n",
       "        [[0.74468085, 1.55805243, 3.4748966 , 0.8314145 ],\n",
       "         [0.71808511, 1.33932584, 3.24896987, 0.85262365]]]),\n",
       " 'pitmodel-TIMEDIFF-2018-inlap-pitage': array([[[0.78191489, 1.40861423, 3.17303716, 0.85943191],\n",
       "         [0.71808511, 1.33932584, 3.24896987, 0.85262365]],\n",
       " \n",
       "        [[0.73404255, 1.45992509, 3.27651957, 0.85011369],\n",
       "         [0.71808511, 1.33932584, 3.24896987, 0.85262365]],\n",
       " \n",
       "        [[0.76595745, 1.43895131, 3.22374152, 0.85490353],\n",
       "         [0.71808511, 1.33932584, 3.24896987, 0.85262365]]]),\n",
       " 'pitmodel-TIMEDIFF-2018-outlap-pitage': [],\n",
       " 'pitmodel-TIMEDIFF-2019-noinlap-pitage': array([[[0.71276596, 1.38319417, 3.18990903, 0.86710948],\n",
       "         [0.73404255, 1.16255107, 3.05012312, 0.87850116]],\n",
       " \n",
       "        [[0.71276596, 1.35903358, 3.1119344 , 0.87352687],\n",
       "         [0.73404255, 1.16255107, 3.05012312, 0.87850116]],\n",
       " \n",
       "        [[0.65425532, 1.38212826, 3.21260619, 0.86521164],\n",
       "         [0.73404255, 1.16255107, 3.05012312, 0.87850116]]]),\n",
       " 'pitmodel-TIMEDIFF-2019-inlap-pitage': array([[[0.70212766, 1.36009948, 3.15547276, 0.8699632 ],\n",
       "         [0.73404255, 1.16255107, 3.05012312, 0.87850116]],\n",
       " \n",
       "        [[0.69680851, 1.36507373, 3.07402599, 0.8765894 ],\n",
       "         [0.73404255, 1.16255107, 3.05012312, 0.87850116]],\n",
       " \n",
       "        [[0.69148936, 1.37075857, 3.17545212, 0.86831129],\n",
       "         [0.73404255, 1.16255107, 3.05012312, 0.87850116]]]),\n",
       " 'pitmodel-TIMEDIFF-2019-outlap-pitage': [],\n",
       " 'pitmodel-TIMEDIFF-2018-noinlap-nopitage': array([[[0.73404255, 1.59250936, 3.58826635, 0.82023473],\n",
       "         [0.71808511, 1.33932584, 3.24896987, 0.85262365]],\n",
       " \n",
       "        [[0.7393617 , 1.5423221 , 3.53892216, 0.82514484],\n",
       "         [0.71808511, 1.33932584, 3.24896987, 0.85262365]],\n",
       " \n",
       "        [[0.75      , 1.57640449, 3.56018347, 0.82303752],\n",
       "         [0.71808511, 1.33932584, 3.24896987, 0.85262365]]]),\n",
       " 'pitmodel-TIMEDIFF-2018-inlap-nopitage': array([[[0.77659574, 1.28651685, 3.07649053, 0.86785595],\n",
       "         [0.71808511, 1.33932584, 3.24896987, 0.85262365]],\n",
       " \n",
       "        [[0.7606383 , 1.28277154, 2.98366338, 0.87571003],\n",
       "         [0.71808511, 1.33932584, 3.24896987, 0.85262365]],\n",
       " \n",
       "        [[0.7606383 , 1.29101124, 3.01829627, 0.87280789],\n",
       "         [0.71808511, 1.33932584, 3.24896987, 0.85262365]]]),\n",
       " 'pitmodel-TIMEDIFF-2018-outlap-nopitage': array([[[0.72340426, 1.54082397, 3.46053188, 0.83280544],\n",
       "         [0.71808511, 1.33932584, 3.24896987, 0.85262365]],\n",
       " \n",
       "        [[0.7287234 , 1.57228464, 3.49156286, 0.82979349],\n",
       "         [0.71808511, 1.33932584, 3.24896987, 0.85262365]],\n",
       " \n",
       "        [[0.7606383 , 1.49588015, 3.39795047, 0.83879796],\n",
       "         [0.71808511, 1.33932584, 3.24896987, 0.85262365]]]),\n",
       " 'pitmodel-TIMEDIFF-2019-noinlap-nopitage': array([[[0.75      , 1.25848286, 3.01414914, 0.88135024],\n",
       "         [0.73404255, 1.16255107, 3.05012312, 0.87850116]],\n",
       " \n",
       "        [[0.70744681, 1.30573814, 3.06847303, 0.87703486],\n",
       "         [0.73404255, 1.16255107, 3.05012312, 0.87850116]],\n",
       " \n",
       "        [[0.69148936, 1.35938888, 3.13808462, 0.87139238],\n",
       "         [0.73404255, 1.16255107, 3.05012312, 0.87850116]]]),\n",
       " 'pitmodel-TIMEDIFF-2019-inlap-nopitage': array([[[0.71808511, 1.15402381, 2.79004142, 0.89833799],\n",
       "         [0.73404255, 1.16255107, 3.05012312, 0.87850116]],\n",
       " \n",
       "        [[0.7393617 , 1.15260259, 2.74238881, 0.90178101],\n",
       "         [0.73404255, 1.16255107, 3.05012312, 0.87850116]],\n",
       " \n",
       "        [[0.7393617 , 1.15544502, 2.77516586, 0.89941915],\n",
       "         [0.73404255, 1.16255107, 3.05012312, 0.87850116]]]),\n",
       " 'pitmodel-TIMEDIFF-2019-outlap-nopitage': array([[[0.71276596, 1.26061467, 2.94160615, 0.88699271],\n",
       "         [0.73404255, 1.16255107, 3.05012312, 0.87850116]],\n",
       " \n",
       "        [[0.68617021, 1.34162373, 3.1246389 , 0.87249211],\n",
       "         [0.73404255, 1.16255107, 3.05012312, 0.87850116]],\n",
       " \n",
       "        [[0.69148936, 1.2755374 , 2.99967429, 0.88248709],\n",
       "         [0.73404255, 1.16255107, 3.05012312, 0.87850116]]]),\n",
       " 'pitmodel-RANK-2018-noinlap-pitage': array([[[0.7712766 , 1.27303371, 3.00199684, 0.87417791],\n",
       "         [0.71808511, 1.33932584, 3.24896987, 0.85262365]],\n",
       " \n",
       "        [[0.77659574, 1.2670412 , 3.02492765, 0.87224838],\n",
       "         [0.71808511, 1.33932584, 3.24896987, 0.85262365]],\n",
       " \n",
       "        [[0.78191489, 1.27715356, 3.04085785, 0.87089928],\n",
       "         [0.71808511, 1.33932584, 3.24896987, 0.85262365]]]),\n",
       " 'pitmodel-RANK-2018-inlap-pitage': array([[[0.7712766 , 1.23932584, 2.98429096, 0.87565774],\n",
       "         [0.71808511, 1.33932584, 3.24896987, 0.85262365]],\n",
       " \n",
       "        [[0.75      , 1.26404494, 3.02337956, 0.87237911],\n",
       "         [0.71808511, 1.33932584, 3.24896987, 0.85262365]],\n",
       " \n",
       "        [[0.7287234 , 1.23595506, 2.96887726, 0.87693886],\n",
       "         [0.71808511, 1.33932584, 3.24896987, 0.85262365]]]),\n",
       " 'pitmodel-RANK-2018-outlap-pitage': [],\n",
       " 'pitmodel-RANK-2019-noinlap-pitage': array([[[0.7712766 , 1.1650382 , 2.92689394, 0.88812028],\n",
       "         [0.73404255, 1.16255107, 3.05012312, 0.87850116]],\n",
       " \n",
       "        [[0.7606383 , 1.13625866, 2.88778709, 0.89109001],\n",
       "         [0.73404255, 1.16255107, 3.05012312, 0.87850116]],\n",
       " \n",
       "        [[0.7606383 , 1.17107834, 2.97123056, 0.8847051 ],\n",
       "         [0.73404255, 1.16255107, 3.05012312, 0.87850116]]]),\n",
       " 'pitmodel-RANK-2019-inlap-pitage': array([[[0.78191489, 1.13057381, 2.90104459, 0.89008772],\n",
       "         [0.73404255, 1.16255107, 3.05012312, 0.87850116]],\n",
       " \n",
       "        [[0.77659574, 1.09717534, 2.82094292, 0.89607357],\n",
       "         [0.73404255, 1.16255107, 3.05012312, 0.87850116]],\n",
       " \n",
       "        [[0.79787234, 1.10570261, 2.86114989, 0.89308993],\n",
       "         [0.73404255, 1.16255107, 3.05012312, 0.87850116]]]),\n",
       " 'pitmodel-RANK-2019-outlap-pitage': [],\n",
       " 'pitmodel-RANK-2018-noinlap-nopitage': array([[[0.71808511, 1.31385768, 3.09880973, 0.86593165],\n",
       "         [0.71808511, 1.33932584, 3.24896987, 0.85262365]],\n",
       " \n",
       "        [[0.75531915, 1.3082397 , 3.07240954, 0.8682063 ],\n",
       "         [0.71808511, 1.33932584, 3.24896987, 0.85262365]],\n",
       " \n",
       "        [[0.70744681, 1.33071161, 3.14434276, 0.86196278],\n",
       "         [0.71808511, 1.33932584, 3.24896987, 0.85262365]]]),\n",
       " 'pitmodel-RANK-2018-inlap-nopitage': array([[[0.7712766 , 1.23595506, 2.94652719, 0.87878473],\n",
       "         [0.71808511, 1.33932584, 3.24896987, 0.85262365]],\n",
       " \n",
       "        [[0.7606383 , 1.25580524, 2.9624997 , 0.877467  ],\n",
       "         [0.71808511, 1.33932584, 3.24896987, 0.85262365]],\n",
       " \n",
       "        [[0.78191489, 1.22621723, 2.93551162, 0.87968936],\n",
       "         [0.71808511, 1.33932584, 3.24896987, 0.85262365]]]),\n",
       " 'pitmodel-RANK-2018-outlap-nopitage': array([[[0.7393617 , 1.34756554, 3.18287788, 0.85855865],\n",
       "         [0.71808511, 1.33932584, 3.24896987, 0.85262365]],\n",
       " \n",
       "        [[0.72340426, 1.36367041, 3.18228947, 0.85861094],\n",
       "         [0.71808511, 1.33932584, 3.24896987, 0.85262365]],\n",
       " \n",
       "        [[0.71808511, 1.35543071, 3.17067556, 0.85964107],\n",
       "         [0.71808511, 1.33932584, 3.24896987, 0.85262365]]]),\n",
       " 'pitmodel-RANK-2019-noinlap-nopitage': array([[[0.79787234, 1.16930183, 2.99760075, 0.88264949],\n",
       "         [0.73404255, 1.16255107, 3.05012312, 0.87850116]],\n",
       " \n",
       "        [[0.79255319, 1.17392077, 2.99937816, 0.88251029],\n",
       "         [0.73404255, 1.16255107, 3.05012312, 0.87850116]],\n",
       " \n",
       "        [[0.74468085, 1.18919879, 3.02579659, 0.88043148],\n",
       "         [0.73404255, 1.16255107, 3.05012312, 0.87850116]]]),\n",
       " 'pitmodel-RANK-2019-inlap-nopitage': array([[[0.81382979, 1.09895186, 2.81886395, 0.8962267 ],\n",
       "         [0.73404255, 1.16255107, 3.05012312, 0.87850116]],\n",
       " \n",
       "        [[0.80319149, 1.11103215, 2.84826807, 0.89405045],\n",
       "         [0.73404255, 1.16255107, 3.05012312, 0.87850116]],\n",
       " \n",
       "        [[0.79787234, 1.09006928, 2.80243023, 0.89743315],\n",
       "         [0.73404255, 1.16255107, 3.05012312, 0.87850116]]]),\n",
       " 'pitmodel-RANK-2019-outlap-nopitage': array([[[0.75      , 1.19985788, 3.04073137, 0.87924823],\n",
       "         [0.73404255, 1.16255107, 3.05012312, 0.87850116]],\n",
       " \n",
       "        [[0.7287234 , 1.22934802, 3.14261027, 0.87102117],\n",
       "         [0.73404255, 1.16255107, 3.05012312, 0.87850116]],\n",
       " \n",
       "        [[0.74468085, 1.20376621, 3.04726782, 0.87872853],\n",
       "         [0.73404255, 1.16255107, 3.05012312, 0.87850116]]])}"
      ]
     },
     "execution_count": 12,
     "metadata": {},
     "output_type": "execute_result"
    }
   ],
   "source": [
    "acc"
   ]
  },
  {
   "cell_type": "code",
   "execution_count": 19,
   "metadata": {},
   "outputs": [
    {
     "name": "stdout",
     "output_type": "stream",
     "text": [
      "[[0.7712766  1.23932584 2.9481795  0.87864703]\n",
      " [0.71808511 1.33932584 3.24896987 0.85262365]]\n",
      "[[0.80496454 1.10001777 2.82318742 0.89590343]\n",
      " [0.73404255 1.16255107 3.05012312 0.87850116]]\n",
      "[[0.75       1.24644195 2.99218259 0.8749919 ]\n",
      " [0.71808511 1.33932584 3.24896987 0.85262365]]\n",
      "[[0.78546099 1.11115059 2.8610458  0.89308374]\n",
      " [0.73404255 1.16255107 3.05012312 0.87850116]]\n"
     ]
    }
   ],
   "source": [
    "for year in [2018,2019]:\n",
    "    print(np.mean(acc[f'pitmodel-RANK-{year}-inlap-nopitage'], axis=0))\n",
    "    \n",
    "for year in [2018,2019]:\n",
    "    print(np.mean(acc[f'pitmodel-RANK-{year}-inlap-pitage'], axis=0))\n",
    "    "
   ]
  },
  {
   "cell_type": "code",
   "execution_count": 22,
   "metadata": {},
   "outputs": [
    {
     "name": "stdout",
     "output_type": "stream",
     "text": [
      "[[0.76595745 1.28676654 3.02615006 0.87212463]\n",
      " [0.71808511 1.33932584 3.24896987 0.85262365]]\n",
      "[[0.7322695  1.15402381 2.7691987  0.89984605]\n",
      " [0.73404255 1.16255107 3.05012312 0.87850116]]\n",
      "[[0.7606383  1.43583021 3.22443275 0.85481637]\n",
      " [0.71808511 1.33932584 3.24896987 0.85262365]]\n",
      "[[0.69680851 1.36531059 3.13498363 0.8716213 ]\n",
      " [0.73404255 1.16255107 3.05012312 0.87850116]]\n"
     ]
    }
   ],
   "source": [
    "for year in [2018,2019]:\n",
    "    print(np.mean(acc[f'pitmodel-TIMEDIFF-{year}-inlap-nopitage'], axis=0))\n",
    "    \n",
    "for year in [2018,2019]:\n",
    "    print(np.mean(acc[f'pitmodel-TIMEDIFF-{year}-inlap-pitage'], axis=0))"
   ]
  },
  {
   "cell_type": "code",
   "execution_count": 20,
   "metadata": {},
   "outputs": [
    {
     "name": "stdout",
     "output_type": "stream",
     "text": [
      "[[0.82446809 1.13595506 2.72469632 0.8963492 ]\n",
      " [0.71808511 1.33932584 3.24896987 0.85262365]]\n",
      "[[0.85638298 0.99626932 2.58815098 0.91251842]\n",
      " [0.73404255 1.16255107 3.05012312 0.87850116]]\n",
      "[[0.85106383 1.00411985 2.43307423 0.91734918]\n",
      " [0.71808511 1.33932584 3.24896987 0.85262365]]\n",
      "[[0.86702128 0.89109966 2.342119   0.92836004]\n",
      " [0.73404255 1.16255107 3.05012312 0.87850116]]\n"
     ]
    }
   ],
   "source": [
    "for year in [2018,2019]:\n",
    "    print(np.mean(acc[f'oracle-RANK-{year}-inlap-nopitage'], axis=0))\n",
    "    \n",
    "for year in [2018,2019]:\n",
    "    print(np.mean(acc[f'oracle-RANK-{year}-inlap-pitage'], axis=0))    "
   ]
  },
  {
   "cell_type": "code",
   "execution_count": 21,
   "metadata": {},
   "outputs": [
    {
     "name": "stdout",
     "output_type": "stream",
     "text": [
      "[[0.85106383 0.87827715 2.09440131 0.93875703]\n",
      " [0.71808511 1.33932584 3.24896987 0.85262365]]\n",
      "[[0.82446809 0.80760348 1.97883633 0.94886042]\n",
      " [0.73404255 1.16255107 3.05012312 0.87850116]]\n",
      "[[0.82446809 0.97378277 2.1990805  0.93248214]\n",
      " [0.71808511 1.33932584 3.24896987 0.85262365]]\n",
      "[[0.83510638 0.95505418 2.26225173 0.93316264]\n",
      " [0.73404255 1.16255107 3.05012312 0.87850116]]\n"
     ]
    }
   ],
   "source": [
    "for year in [2018,2019]:\n",
    "    print(np.mean(acc[f'oracle-TIMEDIFF-{year}-inlap-nopitage'], axis=0))\n",
    "    \n",
    "for year in [2018,2019]:\n",
    "    print(np.mean(acc[f'oracle-TIMEDIFF-{year}-inlap-pitage'], axis=0)) "
   ]
  },
  {
   "cell_type": "markdown",
   "metadata": {},
   "source": [
    "### conclusion\n",
    "\n",
    "best model:\n",
    "\n",
    "  oracle : \n",
    "  \n",
    "     oracle-TIMEDIFF-{year}-inlap-nopitage  ; best mae\n",
    "     oracle-RANK-{year}-inlap-pitage        ; best top1acc\n",
    "     \n",
    "  pitmodel:\n",
    "  \n",
    "     pitmodel-RANK-{year}-inlap-nopitage    ; best mae & top1acc (pitage a little bit less)"
   ]
  },
  {
   "cell_type": "markdown",
   "metadata": {},
   "source": [
    "### test pred models"
   ]
  },
  {
   "cell_type": "code",
   "execution_count": null,
   "metadata": {},
   "outputs": [],
   "source": [
    "mid = 'oracle-2019'\n",
    "_ = prisk(ret[mid][0][1], ret[mid][0][2])"
   ]
  },
  {
   "cell_type": "code",
   "execution_count": null,
   "metadata": {},
   "outputs": [],
   "source": [
    "mid = 'deepar-2019'\n",
    "_ = prisk(ret[mid][0][1], ret[mid][0][2])"
   ]
  },
  {
   "cell_type": "code",
   "execution_count": 34,
   "metadata": {},
   "outputs": [
    {
     "name": "stderr",
     "output_type": "stream",
     "text": [
      "/N/u/pengb/hpda/indycar/predictor/src/indycar/model/stint_simulator_shortterm_pitmodel.py:196: SettingWithCopyWarning: \n",
      "A value is trying to be set on a copy of a slice from a DataFrame\n",
      "\n",
      "See the caveats in the documentation: http://pandas.pydata.org/pandas-docs/stable/user_guide/indexing.html#returning-a-view-versus-a-copy\n",
      "  uni_ds['rank_diff'][mask] = 0\n",
      "/N/u/pengb/hpda/indycar/predictor/src/indycar/model/stint_simulator_shortterm_pitmodel.py:200: SettingWithCopyWarning: \n",
      "A value is trying to be set on a copy of a slice from a DataFrame\n",
      "\n",
      "See the caveats in the documentation: http://pandas.pydata.org/pandas-docs/stable/user_guide/indexing.html#returning-a-view-versus-a-copy\n",
      "  uni_ds['time_diff'][mask] = 0\n",
      "INFO:root:Using GPU\n"
     ]
    },
    {
     "name": "stdout",
     "output_type": "stream",
     "text": [
      "init: load dataset laptime_rank_timediff_pit-oracle-Indy500_2013_2019_v9_p1.pickle with 7 races, 58 cars\n",
      "init model:pitmodel-m65-mlp-dsel-e500-l10-10-5-student-d0.1.pickle\n",
      "init pitmodel as PitModelMLP(pitmodel)\n",
      "predicting model=oracle, plen=2\n",
      "loading model...done!, ctx:gpu(0)\n",
      "a short ts: carid=88，len=4\n"
     ]
    },
    {
     "name": "stderr",
     "output_type": "stream",
     "text": [
      "/scratch_ssd/hpda/anaconda3/envs/gluonts/lib/python3.6/site-packages/ipykernel_launcher.py:11: FutureWarning: Addition/subtraction of integers and integer-arrays to Timestamp is deprecated, will be removed in a future version.  Instead of adding/subtracting `n`, use `n * self.freq`\n",
      "  # This is added back by InteractiveShellApp.init_path()\n",
      "/scratch_ssd/hpda/anaconda3/envs/gluonts/lib/python3.6/site-packages/ipykernel_launcher.py:14: FutureWarning: Addition/subtraction of integers and integer-arrays to Timestamp is deprecated, will be removed in a future version.  Instead of adding/subtracting `n`, use `n * self.freq`\n",
      "  \n",
      "\r",
      "Running evaluation:   0%|          | 0/32 [00:00<?, ?it/s]"
     ]
    },
    {
     "name": "stdout",
     "output_type": "stream",
     "text": [
      "model: acc={0.78}, mae={1.16}, rmse={2.93},r2={0.89}, \n",
      "            naive: acc={0.73}, mae={1.16}, rmse={3.05},r2={0.88}\n",
      "[[0.77659574 1.16361698 2.93459224 0.88753098]\n",
      " [0.73404255 1.16255107 3.05012312 0.87850116]]\n"
     ]
    },
    {
     "name": "stderr",
     "output_type": "stream",
     "text": [
      "\r",
      "Running evaluation: 100%|██████████| 32/32 [00:00<00:00, 137.08it/s]"
     ]
    },
    {
     "name": "stdout",
     "output_type": "stream",
     "text": [
      "0.043922459599105866 0.07895733323561387 0.05508446626845982\n"
     ]
    },
    {
     "name": "stderr",
     "output_type": "stream",
     "text": [
      "\n"
     ]
    }
   ],
   "source": [
    "mid = 'pitmodel-2019-test'\n",
    "acc[mid], ret[mid] = test_pitmodel('pitmodel-m65-mlp-dsel-e500-l10-10-5-student-d0.1.pickle', 'Indy500-2019', 'RANK',loopcnt=1)\n",
    "_ = prisk(ret[mid][0][1], ret[mid][0][2])"
   ]
  },
  {
   "cell_type": "code",
   "execution_count": null,
   "metadata": {},
   "outputs": [],
   "source": []
  },
  {
   "cell_type": "code",
   "execution_count": null,
   "metadata": {},
   "outputs": [],
   "source": [
    "mid = 'currank-2019'\n",
    "acc[mid], ret[mid] = test_pitmodel('pitmodel-m65-mlp-dsel-e500-l10-10-5-student-d0.1.pickle', 'Indy500-2019', 'RANK',loopcnt=1,model='naive')\n",
    "_ = prisk(ret[mid][0][1], ret[mid][0][2])"
   ]
  },
  {
   "cell_type": "code",
   "execution_count": null,
   "metadata": {},
   "outputs": [],
   "source": [
    "_ = prisk(ret[mid][0][1], ret[mid][0][2])"
   ]
  },
  {
   "cell_type": "code",
   "execution_count": null,
   "metadata": {},
   "outputs": [],
   "source": [
    "mid = 'pitmodel-2018'\n",
    "full_samples,full_tss = ret[mid][0][1], ret[mid][0][2]\n",
    "testcar = 12\n",
    "freq = '1min'\n",
    "start = pd.Timestamp(\"01-01-2019\", freq=freq) \n",
    "fc = SampleForecast(samples = full_samples[testcar][:, 12:], freq=freq, start_date=start + 12)\n",
    "index = pd.date_range(start='2019-01-01 00:00:00', freq = 'T', periods = len(full_tss[testcar]))\n",
    "ts = pd.DataFrame(index = index, data = full_tss[testcar])\n",
    "\n",
    "tss2 = np.zeros_like(full_tss[testcar])\n",
    "tss2[2:] = full_tss[testcar][:-2]\n",
    "index2 = pd.date_range(start='2019-01-01 00:00:00', freq = 'T', periods = len(full_tss[testcar]))\n",
    "\n",
    "ts2 = pd.DataFrame(index = index2, data = tss2)\n",
    "\n",
    "plot_prob_forecasts_ex([ts], [fc], ts2,'output-car12')"
   ]
  },
  {
   "cell_type": "code",
   "execution_count": null,
   "metadata": {},
   "outputs": [],
   "source": [
    "%debug"
   ]
  },
  {
   "cell_type": "code",
   "execution_count": null,
   "metadata": {},
   "outputs": [],
   "source": [
    "ret.keys()"
   ]
  },
  {
   "cell_type": "code",
   "execution_count": 31,
   "metadata": {},
   "outputs": [
    {
     "data": {
      "text/plain": [
       "array([[0.7712766 , 1.23932584, 2.9481795 , 0.87864703],\n",
       "       [0.71808511, 1.33932584, 3.24896987, 0.85262365]])"
      ]
     },
     "execution_count": 31,
     "metadata": {},
     "output_type": "execute_result"
    }
   ],
   "source": [
    "np.mean(acc['pitmodel-RANK-2018-inlap-nopitage'],axis=0)"
   ]
  },
  {
   "cell_type": "code",
   "execution_count": 32,
   "metadata": {},
   "outputs": [
    {
     "data": {
      "text/plain": [
       "array([[0.80496454, 1.10001777, 2.82318742, 0.89590343],\n",
       "       [0.73404255, 1.16255107, 3.05012312, 0.87850116]])"
      ]
     },
     "execution_count": 32,
     "metadata": {},
     "output_type": "execute_result"
    }
   ],
   "source": [
    "np.mean(acc['pitmodel-RANK-2019-inlap-nopitage'],axis=0)"
   ]
  },
  {
   "cell_type": "code",
   "execution_count": 29,
   "metadata": {},
   "outputs": [
    {
     "data": {
      "text/plain": [
       "{'MSE': 7.433081818341665,\n",
       " 'abs_error': 6349.0,\n",
       " 'abs_target_sum': 74024.0,\n",
       " 'abs_target_mean': 14.542421627584766,\n",
       " 'seasonal_error': 0.12121212121212122,\n",
       " 'MASE': 6.509095414793535,\n",
       " 'sMAPE': 0.1280380038798953,\n",
       " 'MSIS': 140.7532852512412,\n",
       " 'QuantileLoss[0.1]': 3947.6,\n",
       " 'Coverage[0.1]': 0.13283142347159207,\n",
       " 'QuantileLoss[0.5]': 6349.0,\n",
       " 'Coverage[0.5]': 0.26016328596758065,\n",
       " 'QuantileLoss[0.9]': 4205.599999999999,\n",
       " 'Coverage[0.9]': 0.42102991553219293,\n",
       " 'RMSE': 2.7263678802285036,\n",
       " 'NRMSE': 0.18747688315245914,\n",
       " 'ND': 0.08576948016859397,\n",
       " 'wQuantileLoss[0.1]': 0.05332865016751324,\n",
       " 'wQuantileLoss[0.5]': 0.08576948016859397,\n",
       " 'wQuantileLoss[0.9]': 0.05681400626823732,\n",
       " 'mean_wQuantileLoss': 0.06530404553478152,\n",
       " 'MAE_Coverage': 0.2505460739906062}"
      ]
     },
     "execution_count": 29,
     "metadata": {},
     "output_type": "execute_result"
    }
   ],
   "source": [
    "pret['pitmodel-RANK-2018-inlap-nopitage']"
   ]
  },
  {
   "cell_type": "code",
   "execution_count": 33,
   "metadata": {},
   "outputs": [
    {
     "data": {
      "text/plain": [
       "{'MSE': 6.629626312300543,\n",
       " 'abs_error': 5975.0,\n",
       " 'abs_target_sum': 81867.0,\n",
       " 'abs_target_mean': 15.07702315972322,\n",
       " 'seasonal_error': 0.32386363636363635,\n",
       " 'MASE': 4.798131863921299,\n",
       " 'sMAPE': 0.12299058549828731,\n",
       " 'MSIS': 95.23739095432254,\n",
       " 'QuantileLoss[0.1]': 3689.2,\n",
       " 'Coverage[0.1]': 0.12652186645930968,\n",
       " 'QuantileLoss[0.5]': 5975.0,\n",
       " 'Coverage[0.5]': 0.2398422867051834,\n",
       " 'QuantileLoss[0.9]': 3797.9999999999995,\n",
       " 'Coverage[0.9]': 0.40100707260808066,\n",
       " 'RMSE': 2.574806072755877,\n",
       " 'NRMSE': 0.17077682016395765,\n",
       " 'ND': 0.07298423052023403,\n",
       " 'wQuantileLoss[0.1]': 0.04506333443267739,\n",
       " 'wQuantileLoss[0.5]': 0.07298423052023403,\n",
       " 'wQuantileLoss[0.9]': 0.04639231924951445,\n",
       " 'mean_wQuantileLoss': 0.05481329473414196,\n",
       " 'MAE_Coverage': 0.26189083571534855}"
      ]
     },
     "execution_count": 33,
     "metadata": {},
     "output_type": "execute_result"
    }
   ],
   "source": [
    "pret['pitmodel-RANK-2019-inlap-nopitage']"
   ]
  },
  {
   "cell_type": "markdown",
   "metadata": {},
   "source": [
    "### save result df"
   ]
  },
  {
   "cell_type": "code",
   "execution_count": null,
   "metadata": {},
   "outputs": [],
   "source": [
    "df = ret['oracle-2018'][0][0]\n",
    "df.to_csv('result-shorterm_l2_2018_oracle.csv')"
   ]
  },
  {
   "cell_type": "code",
   "execution_count": null,
   "metadata": {},
   "outputs": [],
   "source": [
    "df = ret['pitmodel-2018'][0][0]\n",
    "df.to_csv('result-shorterm_l2_2018_pitmodel.csv')"
   ]
  },
  {
   "cell_type": "code",
   "execution_count": null,
   "metadata": {},
   "outputs": [],
   "source": [
    "df = ret['pitmodel-2018'][0][0]\n",
    "df.to_csv('result-shorterm_l2_2018_pitmodel.csv')"
   ]
  }
 ],
 "metadata": {
  "kernelspec": {
   "display_name": "Python 3",
   "language": "python",
   "name": "python3"
  },
  "language_info": {
   "codemirror_mode": {
    "name": "ipython",
    "version": 3
   },
   "file_extension": ".py",
   "mimetype": "text/x-python",
   "name": "python",
   "nbconvert_exporter": "python",
   "pygments_lexer": "ipython3",
   "version": "3.6.10"
  }
 },
 "nbformat": 4,
 "nbformat_minor": 4
}
