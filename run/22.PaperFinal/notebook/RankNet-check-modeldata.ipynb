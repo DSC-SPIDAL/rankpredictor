{
 "cells": [
  {
   "cell_type": "markdown",
   "metadata": {},
   "source": [
    "### RankNet-check-modeldata\n",
    "\n",
    "Check the intermediate data in the network.\n",
    "\n",
    "testset for car12, 188 records in total\n",
    "\n",
    "model intermediate data for the last three layers:\n",
    "\n",
    "    target       ; 1\n",
    "    theta        ; 3\n",
    "    rnnoutput    ; 40\n"
   ]
  },
  {
   "cell_type": "code",
   "execution_count": 6,
   "metadata": {},
   "outputs": [
    {
     "name": "stderr",
     "output_type": "stream",
     "text": [
      "INFO:root:Using GPU\n",
      "INFO:root:Using GPU\n",
      "INFO:root:Using GPU\n",
      "INFO:root:Using GPU\n",
      "INFO:root:Using GPU\n"
     ]
    }
   ],
   "source": [
    "%load_ext autoreload\n",
    "%autoreload 2\n",
    "\n",
    "%matplotlib inline\n",
    "import pandas as pd\n",
    "import numpy as np\n",
    "import matplotlib.pyplot as plt\n",
    "import os,sys\n",
    "import mxnet as mx\n",
    "from mxnet import gluon\n",
    "import pickle\n",
    "import json\n",
    "import random\n",
    "import inspect\n",
    "from scipy import stats\n",
    "from sklearn.metrics import mean_squared_error\n",
    "from gluonts.dataset.common import ListDataset\n",
    "from gluonts.dataset.util import to_pandas\n",
    "from pathlib import Path\n",
    "from pandas.plotting import register_matplotlib_converters\n",
    "register_matplotlib_converters()\n",
    "\n",
    "import indycar.model.stint_simulator_shortterm_pitmodel as stint"
   ]
  },
  {
   "cell_type": "code",
   "execution_count": 145,
   "metadata": {},
   "outputs": [],
   "source": [
    "### load test_ds and model saved data\n",
    "prediction_length = 2\n",
    "freq = \"1T\"\n",
    "cardinality = [0]\n",
    "\n",
    "def load_dataset(inputfile):\n",
    "    global freq, prediction_length, cardinality\n",
    "\n",
    "    with open(inputfile, 'rb') as f:\n",
    "        # have to specify it.\n",
    "        freq, prediction_length, cardinality,train_ds, test_ds = pickle.load(f, encoding='latin1')\n",
    "    \n",
    "    print(f\"number of cars: {cardinality}\")\n",
    "    \n",
    "    return train_ds, test_ds\n",
    "\n",
    "def load_modeldata(inputfile):\n",
    "    with open(inputfile, 'rb') as f:\n",
    "        # have to specify it.\n",
    "        savedata = pickle.load(f, encoding='latin1')\n",
    "    \n",
    "    #print(f\"columns of data: {savedata.keys()}\")\n",
    "    print(f\"size of data: {len(savedata)}\")\n",
    "    \n",
    "    return savedata\n"
   ]
  },
  {
   "cell_type": "code",
   "execution_count": 80,
   "metadata": {},
   "outputs": [],
   "source": [
    "testfile = 'testset-car12-f1min-t2-rIndy500-2018-gluonts-indy-2018.pickle'\n",
    "#100 samples\n",
    "#modelfile = 'ranknet_savedata_multilayers.pickle'\n",
    "#1 sample\n",
    "modelfile = 'ranknet_savedata_multilayers_b1_s1.pickle'\n"
   ]
  },
  {
   "cell_type": "code",
   "execution_count": 81,
   "metadata": {},
   "outputs": [
    {
     "name": "stdout",
     "output_type": "stream",
     "text": [
      "number of cars: [58]\n",
      "columns of data: dict_keys(['input', 'target', 'lags', 'theta', 'hstate', 'rnnoutput'])\n"
     ]
    }
   ],
   "source": [
    "_, test_ds = load_dataset(testfile)\n",
    "savedata = load_modeldata(modelfile)"
   ]
  },
  {
   "cell_type": "code",
   "execution_count": 21,
   "metadata": {},
   "outputs": [
    {
     "name": "stdout",
     "output_type": "stream",
     "text": [
      "testset predict laps start: (13,) end: (200,)\n"
     ]
    }
   ],
   "source": [
    "### iter through the test set\n",
    "testset = list(test_ds)\n",
    "print('testset predict laps start:', testset[-1]['target'].shape,\n",
    "     'end:', testset[0]['target'].shape\n",
    "     )"
   ]
  },
  {
   "cell_type": "code",
   "execution_count": 25,
   "metadata": {},
   "outputs": [
    {
     "data": {
      "text/plain": [
       "(array([ 31,  49,  93, 128, 170]),)"
      ]
     },
     "execution_count": 25,
     "metadata": {},
     "output_type": "execute_result"
    }
   ],
   "source": [
    "# lap id start from 0\n",
    "pitstops = np.where(testset[0]['feat_dynamic_real'][1]==1)\n",
    "pitstops"
   ]
  },
  {
   "cell_type": "code",
   "execution_count": 82,
   "metadata": {},
   "outputs": [
    {
     "data": {
      "text/plain": [
       "188"
      ]
     },
     "execution_count": 82,
     "metadata": {},
     "output_type": "execute_result"
    }
   ],
   "source": [
    "### go through the model intermediate data\n",
    "len(savedata['target'])"
   ]
  },
  {
   "cell_type": "code",
   "execution_count": null,
   "metadata": {},
   "outputs": [],
   "source": [
    "savedata['target'][-1].shape"
   ]
  },
  {
   "cell_type": "code",
   "execution_count": 91,
   "metadata": {},
   "outputs": [],
   "source": [
    "target = np.array([x.reshape(-1)[0] for x in savedata['target']])"
   ]
  },
  {
   "cell_type": "code",
   "execution_count": 93,
   "metadata": {},
   "outputs": [
    {
     "data": {
      "text/plain": [
       "array([-0.44145054,  1.5119362 ,  1.0326842 ,  2.927995  ,  3.0142956 ,\n",
       "        3.967255  ,  4.0858655 ,  4.033666  ,  4.2060766 ,  3.8572142 ,\n",
       "        3.8496976 ,  4.01355   ,  3.8975718 ,  4.279505  ,  5.468411  ,\n",
       "        4.1787167 , -6.724894  ,  5.610863  ,  5.424944  ,  6.261024  ,\n",
       "        4.6065817 ,  5.95868   ,  7.468332  ,  3.2264085 ,  5.393872  ,\n",
       "        6.082346  ,  7.0473547 ,  4.6004095 ,  0.6277979 ,  3.5979862 ,\n",
       "        1.0074111 ,  1.0023022 ,  0.90134317,  0.78475326,  0.69376236,\n",
       "        0.994295  ,  1.0061753 ,  1.0110877 ,  1.0533919 ,  0.92796665,\n",
       "        0.9562135 ,  0.99053484,  0.60095453,  1.1205821 ,  1.0505611 ,\n",
       "        1.166578  ,  0.1438639 ,  2.4977386 ,  1.2265257 ,  0.97292167,\n",
       "        0.9915894 ,  0.9755446 ,  0.98881054,  0.9777511 ,  0.9292344 ,\n",
       "        0.99056536,  0.985283  ,  1.0932226 ,  2.0129857 ,  2.0398622 ,\n",
       "        2.0394232 ,  3.0486848 ,  4.0562363 ,  4.0398755 ,  4.74736   ,\n",
       "        5.658873  ,  5.087961  ,  3.6991258 , 11.792514  , 11.9248    ,\n",
       "        4.6997056 , -5.064347  ,  1.0269029 ,  0.9391217 ,  1.0213457 ,\n",
       "        1.0394948 ,  1.2181523 ,  1.2056836 ,  0.939816  ,  0.8860496 ,\n",
       "        0.6695975 ,  0.92878795,  1.0249965 ,  1.0450171 ,  1.0424474 ,\n",
       "        0.9658532 ,  1.0219822 ,  0.9825788 ,  1.0603461 ,  0.9465266 ,\n",
       "        1.0460652 ,  2.0488873 ,  1.9825315 ,  4.9916444 ,  5.1118803 ,\n",
       "        6.001454  ,  6.0235586 ,  5.81732   ,  7.713975  ,  7.98898   ,\n",
       "        8.150709  ,  7.0016785 ,  1.9475573 , 17.53576   ,  0.07159143,\n",
       "       -4.636854  , -7.757321  ,  1.8675687 ,  2.1143522 ,  3.0936654 ,\n",
       "        3.0097904 ,  3.005732  ,  3.0118318 ,  2.9447467 ,  3.0109093 ,\n",
       "        3.0085027 ,  3.0072887 ,  2.960956  ,  2.9938712 ,  3.0055761 ,\n",
       "        2.9910314 ,  3.0126913 ,  3.1030023 ,  3.0161421 ,  2.92914   ,\n",
       "        2.9786756 ,  3.9939322 ,  4.0101647 ,  4.01737   ,  5.0131555 ,\n",
       "        5.0214586 ,  5.0126824 ,  4.9945107 ,  5.0043354 ,  5.0396366 ,\n",
       "        6.0008664 ,  5.918092  ,  6.082949  ,  6.011401  ,  6.021474  ,\n",
       "        5.968833  ,  6.0059633 ,  6.054631  ,  4.019731  ,  4.0237055 ,\n",
       "        3.9863544 ,  4.0164247 ,  4.006489  ,  5.744283  ,  4.6715465 ,\n",
       "        7.6466446 ,  6.010075  ,  6.004622  ,  5.99499   ,  6.0132856 ,\n",
       "        6.0053306 ,  6.0594773 ,  6.0297537 ,  5.9295278 ,  5.6895742 ,\n",
       "        5.463315  ,  5.6748614 ,  5.3194838 ,  3.5219965 ,  4.207916  ,\n",
       "        8.026481  ,  3.8264084 ,  9.006372  ,  2.3228495 ,  3.0048652 ,\n",
       "        3.0336595 ,  3.0024152 ,  3.0052018 ,  3.0019045 ,  3.0022418 ,\n",
       "        3.0042636 ,  2.9951305 ,  3.0112543 ,  3.0050595 ,  2.998507  ,\n",
       "        3.003783  ,  2.9938793 ,  2.9961817 ,  3.005115  ,  2.9981294 ,\n",
       "        2.9995122 ,  3.009018  ,  3.0036626 ], dtype=float32)"
      ]
     },
     "execution_count": 93,
     "metadata": {},
     "output_type": "execute_result"
    }
   ],
   "source": [
    "target"
   ]
  },
  {
   "cell_type": "code",
   "execution_count": 94,
   "metadata": {},
   "outputs": [
    {
     "data": {
      "text/plain": [
       "188"
      ]
     },
     "execution_count": 94,
     "metadata": {},
     "output_type": "execute_result"
    }
   ],
   "source": [
    "len(savedata['input'])"
   ]
  },
  {
   "cell_type": "code",
   "execution_count": 95,
   "metadata": {},
   "outputs": [
    {
     "data": {
      "text/plain": [
       "(1, 40, 33)"
      ]
     },
     "execution_count": 95,
     "metadata": {},
     "output_type": "execute_result"
    }
   ],
   "source": [
    "savedata['input'][0].shape"
   ]
  },
  {
   "cell_type": "code",
   "execution_count": 96,
   "metadata": {},
   "outputs": [
    {
     "data": {
      "text/plain": [
       "3"
      ]
     },
     "execution_count": 96,
     "metadata": {},
     "output_type": "execute_result"
    }
   ],
   "source": [
    "len(savedata['theta'][0])"
   ]
  },
  {
   "cell_type": "code",
   "execution_count": 113,
   "metadata": {},
   "outputs": [
    {
     "data": {
      "text/plain": [
       "array([[ 2.11339802e-01,  8.36189538e-02,  2.01433063e+00],\n",
       "       [ 3.04522395e-01,  6.54837042e-02,  2.01155996e+00],\n",
       "       [ 2.69080788e-01,  5.64465076e-02,  2.00873518e+00],\n",
       "       [ 7.14797914e-01,  1.93236656e-02,  2.00145078e+00],\n",
       "       [ 7.16342509e-01,  1.77412890e-02,  2.00108171e+00],\n",
       "       [ 9.65214550e-01,  1.53534384e-02,  2.00046992e+00],\n",
       "       [ 9.99411941e-01,  1.20753273e-02,  2.00037050e+00],\n",
       "       [ 1.00660443e+00,  6.87769474e-03,  2.00011659e+00],\n",
       "       [ 1.02198780e+00,  3.84728587e-03,  2.00003433e+00],\n",
       "       [ 1.02356279e+00,  4.56581404e-03,  2.00006270e+00],\n",
       "       [ 1.01667428e+00,  6.77775638e-03,  2.00017738e+00],\n",
       "       [ 1.09427059e+00,  1.07547492e-02,  2.00023317e+00],\n",
       "       [ 1.08035624e+00,  1.49546228e-02,  2.00057006e+00],\n",
       "       [ 1.22744310e+00,  2.68170051e-02,  2.00146604e+00],\n",
       "       [ 1.53181064e+00,  4.94227819e-02,  2.00278783e+00],\n",
       "       [ 1.28005981e+00,  5.65492921e-02,  2.00535607e+00],\n",
       "       [-1.90894353e+00,  7.49290049e-01,  2.14268708e+00],\n",
       "       [ 1.80156529e+00,  1.18444271e-01,  2.01778412e+00],\n",
       "       [ 1.83425999e+00,  1.73280299e-01,  2.03568864e+00],\n",
       "       [ 2.04366994e+00,  2.20410168e-01,  2.06195951e+00],\n",
       "       [ 1.57406390e+00,  3.37596059e-01,  2.15739584e+00],\n",
       "       [ 1.88616645e+00,  3.78377885e-01,  2.44616699e+00],\n",
       "       [ 2.25510049e+00,  3.57207447e-01,  2.55504274e+00],\n",
       "       [ 1.58592021e+00,  3.96836460e-01,  2.23468900e+00],\n",
       "       [ 2.56889963e+00,  3.03423107e-01,  2.06477737e+00],\n",
       "       [ 2.64256597e+00,  6.71676397e-01,  2.15460706e+00],\n",
       "       [ 3.08680725e+00,  9.68538642e-01,  2.67260790e+00],\n",
       "       [ 1.77067399e+00,  1.95764041e+00,  3.33867598e+00],\n",
       "       [-1.41509265e-01,  1.94788373e+00,  4.45872307e+00],\n",
       "       [ 8.50285888e-01,  1.46729934e+00,  5.16883993e+00],\n",
       "       [ 4.90509212e-01,  5.04510943e-03,  2.00003171e+00],\n",
       "       [ 4.95298624e-01,  9.17013269e-03,  2.00011706e+00],\n",
       "       [ 4.68943417e-01,  1.73267759e-02,  2.00030470e+00],\n",
       "       [ 4.52462912e-01,  4.01125364e-02,  2.00208640e+00],\n",
       "       [ 3.60921919e-01,  5.93512841e-02,  2.00452876e+00],\n",
       "       [ 4.70801532e-01,  5.67133762e-02,  2.00704598e+00],\n",
       "       [ 4.49617147e-01,  3.31183001e-02,  2.00116181e+00],\n",
       "       [ 4.76456285e-01,  2.80082859e-02,  2.00076389e+00],\n",
       "       [ 5.07453442e-01,  2.27485336e-02,  2.00041556e+00],\n",
       "       [ 4.48874354e-01,  1.61148775e-02,  2.00013733e+00],\n",
       "       [ 4.74677086e-01,  7.13484501e-03,  2.00003028e+00],\n",
       "       [ 4.70534861e-01,  6.49143150e-03,  2.00001812e+00],\n",
       "       [ 3.47517967e-01,  1.43721178e-02,  2.00009036e+00],\n",
       "       [ 5.32592654e-01,  3.20810601e-02,  2.00153565e+00],\n",
       "       [ 4.86916542e-01,  8.29265118e-02,  2.00927258e+00],\n",
       "       [ 4.81431723e-01,  1.20651849e-01,  2.05392194e+00],\n",
       "       [ 1.45578325e-01,  3.87643605e-01,  2.03840590e+00],\n",
       "       [ 3.93922210e-01,  1.88858896e-01,  2.03041172e+00],\n",
       "       [ 4.74986076e-01,  7.55991861e-02,  2.00186872e+00],\n",
       "       [ 4.74836588e-01,  3.09422538e-02,  2.00017715e+00],\n",
       "       [ 4.84992385e-01,  3.35659669e-03,  2.00000215e+00],\n",
       "       [ 4.70535100e-01,  3.89522593e-03,  2.00000358e+00],\n",
       "       [ 4.79217768e-01,  3.79189663e-03,  2.00000334e+00],\n",
       "       [ 4.71228063e-01,  4.35163220e-03,  2.00000525e+00],\n",
       "       [ 4.26229060e-01,  6.95819827e-03,  2.00001383e+00],\n",
       "       [ 4.33450162e-01,  9.23940074e-03,  2.00002527e+00],\n",
       "       [ 4.02444601e-01,  3.62540595e-03,  2.00000429e+00],\n",
       "       [ 4.17980552e-01,  3.97168659e-03,  2.00000572e+00],\n",
       "       [ 7.51272857e-01,  2.25676293e-03,  2.00000572e+00],\n",
       "       [ 7.14154601e-01,  2.35283282e-03,  2.00000858e+00],\n",
       "       [ 6.86857343e-01,  2.92004342e-03,  2.00001526e+00],\n",
       "       [ 9.67465281e-01,  3.07289767e-03,  2.00002861e+00],\n",
       "       [ 1.24761641e+00,  5.06059360e-03,  2.00008512e+00],\n",
       "       [ 1.17348528e+00,  9.43662040e-03,  2.00037289e+00],\n",
       "       [ 1.30916715e+00,  1.29184835e-02,  2.00060320e+00],\n",
       "       [ 1.66787875e+00,  3.07898074e-02,  2.00091720e+00],\n",
       "       [ 1.53242290e+00,  3.93781476e-02,  2.00092101e+00],\n",
       "       [ 1.09192753e+00,  2.47442424e-01,  2.01032805e+00],\n",
       "       [ 3.10895658e+00,  9.93491948e-01,  2.31475210e+00],\n",
       "       [ 2.49830317e+00,  5.02385259e-01,  2.05630469e+00],\n",
       "       [ 2.01406550e+00,  2.27424717e+00,  3.98057032e+00],\n",
       "       [ 6.74771905e-01,  1.82943964e+00,  6.32880449e+00],\n",
       "       [ 3.40353906e-01,  1.06966635e-02,  2.00004125e+00],\n",
       "       [ 3.27897966e-01,  1.34947207e-02,  2.00006270e+00],\n",
       "       [ 2.61004865e-01,  1.88898090e-02,  2.00011683e+00],\n",
       "       [ 2.65079349e-01,  2.47211102e-02,  2.00020432e+00],\n",
       "       [ 3.02438378e-01,  3.06342710e-02,  2.00030971e+00],\n",
       "       [ 3.60437453e-01,  3.23041789e-02,  2.00035167e+00],\n",
       "       [ 3.75828087e-01,  3.40461805e-02,  2.00026822e+00],\n",
       "       [ 3.48992407e-01,  2.88353097e-02,  2.00018787e+00],\n",
       "       [ 2.90187120e-01,  2.06452813e-02,  2.00007701e+00],\n",
       "       [ 2.92309850e-01,  1.65502317e-02,  2.00004697e+00],\n",
       "       [ 3.01096439e-01,  1.51149053e-02,  2.00003767e+00],\n",
       "       [ 2.85641342e-01,  1.41528985e-02,  2.00003195e+00],\n",
       "       [ 2.73373842e-01,  1.21263769e-02,  2.00002384e+00],\n",
       "       [ 2.54594505e-01,  9.21339169e-03,  2.00001383e+00],\n",
       "       [ 2.75521755e-01,  7.90739898e-03,  2.00001478e+00],\n",
       "       [ 2.55734384e-01,  8.02109018e-03,  2.00002170e+00],\n",
       "       [ 2.80240655e-01,  9.91213787e-03,  2.00005364e+00],\n",
       "       [ 2.49144539e-01,  1.57967340e-02,  2.00020885e+00],\n",
       "       [ 2.61872321e-01,  1.60923600e-02,  2.00038052e+00],\n",
       "       [ 4.98303652e-01,  6.24872837e-03,  2.00007868e+00],\n",
       "       [ 4.90257144e-01,  5.56268170e-03,  2.00005412e+00],\n",
       "       [ 1.15827942e+00,  2.47525494e-03,  2.00001764e+00],\n",
       "       [ 1.18950725e+00,  3.52885388e-03,  2.00003171e+00],\n",
       "       [ 1.39565682e+00,  6.73666876e-03,  2.00006700e+00],\n",
       "       [ 1.40373707e+00,  8.27466045e-03,  2.00009966e+00],\n",
       "       [ 1.41789615e+00,  1.28013259e-02,  2.00017452e+00],\n",
       "       [ 1.81119907e+00,  3.50465924e-02,  2.00071907e+00],\n",
       "       [ 1.85850477e+00,  3.28993276e-02,  2.00094271e+00],\n",
       "       [ 1.88412273e+00,  3.58154625e-02,  2.00095487e+00],\n",
       "       [ 1.74653506e+00,  4.92118411e-02,  2.00098133e+00],\n",
       "       [ 6.02068961e-01,  2.02196375e-01,  2.00616193e+00],\n",
       "       [ 3.45822001e+00,  8.27721953e-01,  2.21782804e+00],\n",
       "       [-2.13359445e-02,  3.71379733e-01,  2.16311026e+00],\n",
       "       [-5.32017231e-01,  2.19496346e+00,  5.40738392e+00],\n",
       "       [ 5.38986444e-01,  1.61655116e+00,  7.00778151e+00],\n",
       "       [ 4.48254526e-01,  4.95753475e-02,  2.00233674e+00],\n",
       "       [ 5.03501177e-01,  2.26307828e-02,  2.00013065e+00],\n",
       "       [ 7.31837153e-01,  7.34362053e-03,  2.00003576e+00],\n",
       "       [ 7.09149122e-01,  1.59012771e-03,  2.00000286e+00],\n",
       "       [ 6.97158515e-01,  1.45124900e-03,  2.00000191e+00],\n",
       "       [ 6.85336590e-01,  1.56349211e-03,  2.00000215e+00],\n",
       "       [ 6.67119145e-01,  1.50665711e-03,  2.00000215e+00],\n",
       "       [ 6.59719706e-01,  1.53608050e-03,  2.00000215e+00],\n",
       "       [ 6.50256336e-01,  1.58437563e-03,  2.00000215e+00],\n",
       "       [ 6.38102651e-01,  1.66045118e-03,  2.00000238e+00],\n",
       "       [ 6.23488247e-01,  1.77569897e-03,  2.00000262e+00],\n",
       "       [ 6.18647218e-01,  1.91607932e-03,  2.00000310e+00],\n",
       "       [ 6.07117891e-01,  2.14805268e-03,  2.00000381e+00],\n",
       "       [ 6.02097213e-01,  2.43580504e-03,  2.00000501e+00],\n",
       "       [ 5.92482626e-01,  2.89385766e-03,  2.00000739e+00],\n",
       "       [ 6.03671849e-01,  3.69736296e-03,  2.00001240e+00],\n",
       "       [ 5.71381390e-01,  4.71763546e-03,  2.00002217e+00],\n",
       "       [ 5.67834377e-01,  5.58042154e-03,  2.00003290e+00],\n",
       "       [ 5.53946376e-01,  6.55335048e-03,  2.00004053e+00],\n",
       "       [ 6.92110240e-01,  4.34424076e-03,  2.00002146e+00],\n",
       "       [ 6.87356234e-01,  2.76945252e-03,  2.00000739e+00],\n",
       "       [ 6.93714082e-01,  1.50626665e-03,  2.00000238e+00],\n",
       "       [ 8.64945590e-01,  1.21597643e-03,  2.00000262e+00],\n",
       "       [ 8.72029006e-01,  1.26967870e-03,  2.00000310e+00],\n",
       "       [ 8.79324317e-01,  1.58773386e-03,  2.00000572e+00],\n",
       "       [ 8.85168552e-01,  2.45908438e-03,  2.00001764e+00],\n",
       "       [ 8.92766297e-01,  4.44851210e-03,  2.00007153e+00],\n",
       "       [ 9.07868683e-01,  6.52929349e-03,  2.00013709e+00],\n",
       "       [ 1.09385955e+00,  8.96986946e-03,  2.00018883e+00],\n",
       "       [ 1.11017001e+00,  9.13216546e-03,  2.00017214e+00],\n",
       "       [ 1.12407291e+00,  7.09959771e-03,  2.00007987e+00],\n",
       "       [ 1.13176656e+00,  4.86947782e-03,  2.00003481e+00],\n",
       "       [ 1.15347409e+00,  5.59208589e-03,  2.00004244e+00],\n",
       "       [ 1.16510153e+00,  4.92918398e-03,  2.00002646e+00],\n",
       "       [ 1.18957853e+00,  6.29985007e-03,  2.00003767e+00],\n",
       "       [ 1.21006334e+00,  6.87526073e-03,  2.00005698e+00],\n",
       "       [ 8.26662779e-01,  8.27345904e-03,  2.00009584e+00],\n",
       "       [ 8.27405214e-01,  8.00647587e-03,  2.00008774e+00],\n",
       "       [ 8.30953360e-01,  5.41083748e-03,  2.00004601e+00],\n",
       "       [ 8.34422708e-01,  3.53828655e-03,  2.00002503e+00],\n",
       "       [ 8.27103138e-01,  7.16463430e-03,  2.00009537e+00],\n",
       "       [ 1.20326185e+00,  2.76107509e-02,  2.00075150e+00],\n",
       "       [ 1.56719506e+00,  2.64646500e-01,  2.01690531e+00],\n",
       "       [ 1.40375686e+00,  1.58451349e-01,  2.06604052e+00],\n",
       "       [ 1.31957936e+00,  1.77583611e-03,  2.00000429e+00],\n",
       "       [ 1.34127176e+00,  1.70617143e-03,  2.00000429e+00],\n",
       "       [ 1.36371863e+00,  1.53273554e-03,  2.00000453e+00],\n",
       "       [ 1.39195991e+00,  1.76608958e-03,  2.00000548e+00],\n",
       "       [ 1.41636729e+00,  2.13457481e-03,  2.00000739e+00],\n",
       "       [ 1.44696712e+00,  2.78368662e-03,  2.00001097e+00],\n",
       "       [ 1.48030388e+00,  4.15199529e-03,  2.00002098e+00],\n",
       "       [ 1.49049485e+00,  6.37260219e-03,  2.00004673e+00],\n",
       "       [ 1.43499446e+00,  9.96252801e-03,  2.00012136e+00],\n",
       "       [ 1.42087817e+00,  2.70541906e-02,  2.00134397e+00],\n",
       "       [ 1.57383955e+00,  4.71470393e-02,  2.01176167e+00],\n",
       "       [ 1.46399069e+00,  5.23891076e-02,  2.01087022e+00],\n",
       "       [ 1.00102901e+00,  3.75157110e-02,  2.00304008e+00],\n",
       "       [ 1.10532701e+00,  4.83214557e-01,  2.04192543e+00],\n",
       "       [ 3.33960772e+00,  1.25616968e+00,  2.80003881e+00],\n",
       "       [ 2.93557477e+00,  5.22792697e-01,  2.06464028e+00],\n",
       "       [ 1.81592929e+00,  1.40997016e+00,  2.69727683e+00],\n",
       "       [ 1.59934235e+00,  5.49563825e-01,  2.45307851e+00],\n",
       "       [ 1.02441716e+00,  6.42356987e-04,  2.00000048e+00],\n",
       "       [ 1.03536642e+00,  6.38858939e-04,  2.00000048e+00],\n",
       "       [ 1.02647877e+00,  6.39538164e-04,  2.00000048e+00],\n",
       "       [ 1.02767718e+00,  6.39034668e-04,  2.00000048e+00],\n",
       "       [ 1.02771688e+00,  6.39418315e-04,  2.00000048e+00],\n",
       "       [ 1.02865779e+00,  6.40378857e-04,  2.00000048e+00],\n",
       "       [ 1.03109288e+00,  6.41911582e-04,  2.00000048e+00],\n",
       "       [ 1.02940416e+00,  6.45143329e-04,  2.00000048e+00],\n",
       "       [ 1.03394055e+00,  6.48448709e-04,  2.00000072e+00],\n",
       "       [ 1.03534591e+00,  6.53731986e-04,  2.00000072e+00],\n",
       "       [ 1.03590584e+00,  6.60957943e-04,  2.00000072e+00],\n",
       "       [ 1.03940117e+00,  6.70044217e-04,  2.00000072e+00],\n",
       "       [ 1.03849947e+00,  6.82913582e-04,  2.00000072e+00],\n",
       "       [ 1.04415166e+00,  6.98922551e-04,  2.00000072e+00],\n",
       "       [ 1.04718709e+00,  7.21046410e-04,  2.00000072e+00],\n",
       "       [ 1.05086446e+00,  7.51037267e-04,  2.00000072e+00],\n",
       "       [ 1.05474627e+00,  7.92317674e-04,  2.00000095e+00],\n",
       "       [ 1.05994141e+00,  8.49879056e-04,  2.00000095e+00],\n",
       "       [ 1.06537902e+00,  9.32238530e-04,  2.00000119e+00]], dtype=float32)"
      ]
     },
     "execution_count": 113,
     "metadata": {},
     "output_type": "execute_result"
    }
   ],
   "source": [
    "theta = np.array([[x.asnumpy().reshape(-1)[0] for x in savedata['theta'][id]] for id in range(len(savedata['theta']))])\n",
    "theta"
   ]
  },
  {
   "cell_type": "code",
   "execution_count": 107,
   "metadata": {},
   "outputs": [
    {
     "data": {
      "text/plain": [
       "1.065379"
      ]
     },
     "execution_count": 107,
     "metadata": {},
     "output_type": "execute_result"
    }
   ],
   "source": [
    "savedata['theta'][-1][0].asnumpy().reshape(-1)[0]"
   ]
  },
  {
   "cell_type": "code",
   "execution_count": 114,
   "metadata": {},
   "outputs": [
    {
     "data": {
      "text/plain": [
       "(1, 1, 40)"
      ]
     },
     "execution_count": 114,
     "metadata": {},
     "output_type": "execute_result"
    }
   ],
   "source": [
    "savedata['rnnoutput'][0].shape"
   ]
  },
  {
   "cell_type": "code",
   "execution_count": 119,
   "metadata": {},
   "outputs": [
    {
     "data": {
      "text/plain": [
       "(188, 40)"
      ]
     },
     "execution_count": 119,
     "metadata": {},
     "output_type": "execute_result"
    }
   ],
   "source": [
    "rnnoutput = np.array([x.reshape(-1) for x in savedata['rnnoutput']])\n",
    "rnnoutput.shape"
   ]
  },
  {
   "cell_type": "code",
   "execution_count": 120,
   "metadata": {},
   "outputs": [
    {
     "data": {
      "text/plain": [
       "array([ 0.37186566, -0.2355668 ,  0.03524104,  0.31859934,  0.10533482,\n",
       "        0.01034961,  0.1531219 , -0.06566571, -0.17070529,  0.06987295,\n",
       "       -0.2244168 ,  0.03112466, -0.0458408 , -0.23805694, -0.09133456,\n",
       "       -0.08574518, -0.06131275, -0.03852127,  0.2119589 , -0.29207027,\n",
       "        0.0055407 ,  0.04884779, -0.3250793 ,  0.00214675, -0.04041871,\n",
       "       -0.22301802, -0.09570426,  0.02288404, -0.07174075, -0.221968  ,\n",
       "        0.08084089, -0.33736727,  0.33693063, -0.20730151,  0.44099346,\n",
       "        0.30486134,  0.13770637, -0.06217545, -0.07174944, -0.28200722],\n",
       "      dtype=float32)"
      ]
     },
     "execution_count": 120,
     "metadata": {},
     "output_type": "execute_result"
    }
   ],
   "source": [
    "rnnoutput[0]"
   ]
  },
  {
   "cell_type": "code",
   "execution_count": 126,
   "metadata": {},
   "outputs": [
    {
     "data": {
      "text/plain": [
       "array([ 0.07159143, -4.636854  , -7.757321  ,  1.8675687 ,  2.1143522 ],\n",
       "      dtype=float32)"
      ]
     },
     "execution_count": 126,
     "metadata": {},
     "output_type": "execute_result"
    }
   ],
   "source": [
    "### final 3 layers\n",
    "### target, theta, rnnoutput\n",
    "\n",
    "#id=0 -> lap 200\n",
    "#id=  -> lap 94, pit stop\n",
    "id = 200-94\n",
    "\n",
    "#it is in the center of uncertainty\n",
    "target[id-2:id+3]"
   ]
  },
  {
   "cell_type": "code",
   "execution_count": 123,
   "metadata": {},
   "outputs": [
    {
     "data": {
      "text/plain": [
       "array([0.53898644, 1.6165512 , 7.0077815 ], dtype=float32)"
      ]
     },
     "execution_count": 123,
     "metadata": {},
     "output_type": "execute_result"
    }
   ],
   "source": [
    "theta[id]"
   ]
  },
  {
   "cell_type": "code",
   "execution_count": 124,
   "metadata": {},
   "outputs": [
    {
     "data": {
      "text/plain": [
       "array([ 0.3853559 , -0.42747563,  0.49426314,  0.28006268,  0.41069704,\n",
       "       -0.02163856, -0.12062053, -0.1193699 , -0.12209579, -0.05988751,\n",
       "       -0.348947  ,  0.07152105,  0.64503443, -0.16567425,  0.36619002,\n",
       "       -0.1102424 ,  0.07747326,  0.06775997, -0.05031077, -0.2942695 ,\n",
       "        0.04359036,  0.00119089, -0.31879818,  0.24713482,  0.22637439,\n",
       "       -0.19594297, -0.00248465,  0.70728713, -0.20905301, -0.24483114,\n",
       "        0.07092818, -0.49214923,  0.32881126, -0.481456  ,  0.3418061 ,\n",
       "        0.06407523,  0.3439141 , -0.07951942,  0.10768818,  0.2573191 ],\n",
       "      dtype=float32)"
      ]
     },
     "execution_count": 124,
     "metadata": {},
     "output_type": "execute_result"
    }
   ],
   "source": [
    "rnnoutput[id]"
   ]
  },
  {
   "cell_type": "code",
   "execution_count": 133,
   "metadata": {},
   "outputs": [
    {
     "name": "stdout",
     "output_type": "stream",
     "text": [
      "columns of data: dict_keys(['input', 'target', 'lags', 'theta', 'hstate', 'rnnoutput'])\n"
     ]
    },
    {
     "data": {
      "text/plain": [
       "array([1.078691  , 1.0311098 , 0.9845628 , 0.98414487, 0.98873556],\n",
       "      dtype=float32)"
      ]
     },
     "execution_count": 133,
     "metadata": {},
     "output_type": "execute_result"
    }
   ],
   "source": [
    "### check RankNet\n",
    "modelfile = 'RankNet-MLP_savedata_multilayers_b1_s1_t0.pickle'\n",
    "ranknet = load_modeldata(modelfile)\n",
    "\n",
    "target = np.array([x.reshape(-1)[0] for x in ranknet['target']])\n",
    "id = 200-94\n",
    "\n",
    "#it is in the center of uncertainty\n",
    "target[id-2:id+3]"
   ]
  },
  {
   "cell_type": "code",
   "execution_count": 134,
   "metadata": {},
   "outputs": [
    {
     "data": {
      "text/plain": [
       "(array([ 20,  22,  79,  81,  82,  83, 101, 114, 117, 140, 164]),)"
      ]
     },
     "execution_count": 134,
     "metadata": {},
     "output_type": "execute_result"
    }
   ],
   "source": [
    "np.where(target<0)"
   ]
  },
  {
   "cell_type": "code",
   "execution_count": 130,
   "metadata": {},
   "outputs": [
    {
     "data": {
      "text/plain": [
       "(array([  0,  16,  71, 105, 106]),)"
      ]
     },
     "execution_count": 130,
     "metadata": {},
     "output_type": "execute_result"
    }
   ],
   "source": [
    "target_o = np.array([x.reshape(-1)[0] for x in savedata['target']])\n",
    "\n",
    "np.where(target_o<0)"
   ]
  },
  {
   "cell_type": "code",
   "execution_count": 137,
   "metadata": {},
   "outputs": [
    {
     "name": "stdout",
     "output_type": "stream",
     "text": [
      "columns of data: dict_keys(['input', 'target', 'lags', 'theta', 'hstate', 'rnnoutput'])\n"
     ]
    },
    {
     "data": {
      "text/plain": [
       "(array([ 19,  20,  22, 112, 116, 117, 140, 141, 187]),)"
      ]
     },
     "execution_count": 137,
     "metadata": {},
     "output_type": "execute_result"
    }
   ],
   "source": [
    "modelfile = 'RankNet-MLP_savedata_multilayers_b1_s1_t1.pickle'\n",
    "ranknet1 = load_modeldata(modelfile)\n",
    "\n",
    "target1 = np.array([x.reshape(-1)[0] for x in ranknet1['target']])\n",
    "np.where(target1<0)"
   ]
  },
  {
   "cell_type": "code",
   "execution_count": 138,
   "metadata": {},
   "outputs": [
    {
     "data": {
      "text/plain": [
       "(188, 40)"
      ]
     },
     "execution_count": 138,
     "metadata": {},
     "output_type": "execute_result"
    }
   ],
   "source": [
    "rnnoutput = np.array([x.reshape(-1) for x in ranknet['rnnoutput']])\n",
    "rnnoutput.shape"
   ]
  },
  {
   "cell_type": "code",
   "execution_count": 140,
   "metadata": {},
   "outputs": [
    {
     "data": {
      "text/plain": [
       "(188, 3)"
      ]
     },
     "execution_count": 140,
     "metadata": {},
     "output_type": "execute_result"
    }
   ],
   "source": [
    "theta = np.array([[x.asnumpy().reshape(-1)[0] for x in savedata['theta'][id]] for id in range(len(ranknet['theta']))])\n",
    "theta.shape"
   ]
  },
  {
   "cell_type": "markdown",
   "metadata": {},
   "source": [
    "### 100 samples, test on the average model data"
   ]
  },
  {
   "cell_type": "code",
   "execution_count": 155,
   "metadata": {},
   "outputs": [
    {
     "name": "stdout",
     "output_type": "stream",
     "text": [
      "size of data: 100\n"
     ]
    }
   ],
   "source": [
    "modelfile = 'RankNet-MLP_savedata_multilayers_b1_s100_t0.pickle'\n",
    "ranknet = load_modeldata(modelfile)"
   ]
  },
  {
   "cell_type": "code",
   "execution_count": 156,
   "metadata": {},
   "outputs": [
    {
     "data": {
      "text/plain": [
       "100"
      ]
     },
     "execution_count": 156,
     "metadata": {},
     "output_type": "execute_result"
    }
   ],
   "source": [
    "len(ranknet)"
   ]
  },
  {
   "cell_type": "code",
   "execution_count": 157,
   "metadata": {},
   "outputs": [
    {
     "data": {
      "text/plain": [
       "dict_keys(['input', 'target', 'lags', 'theta', 'hstate', 'rnnoutput'])"
      ]
     },
     "execution_count": 157,
     "metadata": {},
     "output_type": "execute_result"
    }
   ],
   "source": [
    "ranknet[0].keys()"
   ]
  },
  {
   "cell_type": "code",
   "execution_count": 158,
   "metadata": {},
   "outputs": [
    {
     "data": {
      "text/plain": [
       "array([ 0.56904113, -0.6019372 , -0.26216808,  0.5077025 ,  0.12048921,\n",
       "        0.08039901,  0.12102704, -0.19108155, -0.39448035,  0.01646979,\n",
       "       -0.23147646,  0.07274219, -0.27615643, -0.51665825,  0.01381567,\n",
       "       -0.22633345, -0.09604313,  0.15158312,  0.20746446, -0.2075398 ,\n",
       "       -0.07896389,  0.02502082, -0.15783079, -0.16771129,  0.28573942,\n",
       "        0.08723599, -0.02885644, -0.4371242 ,  0.20509085, -0.39072007,\n",
       "        0.33336955, -0.20196714,  0.3357562 , -0.22202078,  0.558727  ,\n",
       "        0.7034129 ,  0.1746498 , -0.02207406,  0.05980825, -0.00549192],\n",
       "      dtype=float32)"
      ]
     },
     "execution_count": 158,
     "metadata": {},
     "output_type": "execute_result"
    }
   ],
   "source": [
    "np.array([x.reshape(-1) for x in ranknet[0]['rnnoutput']])[0]"
   ]
  },
  {
   "cell_type": "code",
   "execution_count": 159,
   "metadata": {},
   "outputs": [
    {
     "data": {
      "text/plain": [
       "array([ 0.5690333 , -0.6019297 , -0.26216802,  0.50770587,  0.12048061,\n",
       "        0.08040307,  0.12104224, -0.19107008, -0.39446583,  0.01648019,\n",
       "       -0.2314671 ,  0.0727394 , -0.27615148, -0.5166325 ,  0.01378983,\n",
       "       -0.22630051, -0.09605829,  0.15157767,  0.2074795 , -0.20756161,\n",
       "       -0.07895461,  0.02502225, -0.15784803, -0.16768648,  0.2857059 ,\n",
       "        0.08719096, -0.02885197, -0.43714333,  0.20507383, -0.39070898,\n",
       "        0.33334357, -0.20197152,  0.33576122, -0.22203383,  0.5587191 ,\n",
       "        0.7033926 ,  0.1746312 , -0.02204334,  0.05979649, -0.00550865],\n",
       "      dtype=float32)"
      ]
     },
     "execution_count": 159,
     "metadata": {},
     "output_type": "execute_result"
    }
   ],
   "source": [
    "np.array([x.reshape(-1) for x in ranknet[1]['rnnoutput']])[0]"
   ]
  },
  {
   "cell_type": "code",
   "execution_count": 160,
   "metadata": {},
   "outputs": [],
   "source": [
    "\n",
    "datax = ranknet[0] \n",
    "\n",
    "theta = np.array([[x.asnumpy().reshape(-1)[0] for x in datax['theta'][id]] for id in range(len(datax['theta']))])\n",
    "theta.shape\n",
    "rnnoutput = np.array([x.reshape(-1) for x in datax['rnnoutput']])\n",
    "rnnoutput.shape\n",
    "\n",
    "all_theta = np.zeros((len(ranknet), theta.shape[0], theta.shape[1]))\n",
    "all_rnnoutput = np.zeros((len(ranknet), rnnoutput.shape[0], rnnoutput.shape[1]))\n",
    "\n",
    "for id, datax in enumerate(ranknet):\n",
    "    theta = np.array([[x.asnumpy().reshape(-1)[0] for x in datax['theta'][id]] for id in range(len(datax['theta']))])\n",
    "    all_theta[id] = theta\n",
    "    \n",
    "    rnnoutput = np.array([x.reshape(-1) for x in datax['rnnoutput']])\n",
    "    all_rnnoutput[id] = rnnoutput\n",
    "\n",
    "#get average\n",
    "theta =np.mean(all_theta,axis=0)\n",
    "rnnoutput =np.mean(all_rnnoutput,axis=0)\n",
    "\n"
   ]
  },
  {
   "cell_type": "code",
   "execution_count": 161,
   "metadata": {},
   "outputs": [
    {
     "data": {
      "text/plain": [
       "array([ 0.56909108, -0.6019855 , -0.26216841,  0.50768122,  0.12054382,\n",
       "        0.08037323,  0.12093048, -0.19115473, -0.39457212,  0.01640366,\n",
       "       -0.2315362 ,  0.07275982, -0.27618817, -0.5168222 ,  0.01397981,\n",
       "       -0.22654288, -0.09594673,  0.15161772,  0.20736882, -0.207401  ,\n",
       "       -0.07902292,  0.0250117 , -0.15772112, -0.16786905,  0.28595243,\n",
       "        0.08752265, -0.02888487, -0.43700207,  0.20519894, -0.39079029,\n",
       "        0.333535  , -0.20193943,  0.33572411, -0.2219379 ,  0.55877734,\n",
       "        0.70354207,  0.17476839, -0.02226995,  0.05988316, -0.00538551])"
      ]
     },
     "execution_count": 161,
     "metadata": {},
     "output_type": "execute_result"
    }
   ],
   "source": [
    "rnnoutput[0]"
   ]
  },
  {
   "cell_type": "code",
   "execution_count": 162,
   "metadata": {},
   "outputs": [
    {
     "data": {
      "text/plain": [
       "array([ 0.37793113, -0.39036793,  0.14719297,  0.22188395,  0.17394874,\n",
       "        0.04322035,  0.0386532 , -0.11205912, -0.19484319,  0.04279242,\n",
       "       -0.22100024,  0.02399967, -0.02248291, -0.28822577, -0.08447922,\n",
       "       -0.06851802, -0.09908401,  0.01193149,  0.12491202, -0.18044853,\n",
       "       -0.0974895 ,  0.04102266, -0.34642028,  0.06488668, -0.18015351,\n",
       "       -0.1905333 , -0.06151238,  0.32847175, -0.06691681, -0.18921025,\n",
       "        0.12492408, -0.20279896,  0.20427127, -0.05627926,  0.34672294,\n",
       "        0.18773277,  0.10734997, -0.13083964, -0.02075649, -0.09673294])"
      ]
     },
     "execution_count": 162,
     "metadata": {},
     "output_type": "execute_result"
    }
   ],
   "source": [
    "rnnoutput[-1]"
   ]
  },
  {
   "cell_type": "code",
   "execution_count": 163,
   "metadata": {},
   "outputs": [
    {
     "data": {
      "text/plain": [
       "(188, 40)"
      ]
     },
     "execution_count": 163,
     "metadata": {},
     "output_type": "execute_result"
    }
   ],
   "source": [
    "rnnoutput.shape"
   ]
  },
  {
   "cell_type": "markdown",
   "metadata": {},
   "source": [
    "### model data of pitmodel"
   ]
  },
  {
   "cell_type": "code",
   "execution_count": 3,
   "metadata": {},
   "outputs": [],
   "source": [
    "import pickle\n",
    "savefile = 'PitModel-savedata_dsel-e500-l10-10-5-student-d0.1.pickle'\n",
    "with open(savefile, 'rb') as f: \n",
    "    alldata = pickle.load(f, encoding='latin1') "
   ]
  },
  {
   "cell_type": "code",
   "execution_count": 4,
   "metadata": {},
   "outputs": [
    {
     "name": "stdout",
     "output_type": "stream",
     "text": [
      "alldata is a dict, model data for each car: dict_keys([1, 3, 4, 6, 7, 9, 10, 12, 13, 14, 15, 17, 18, 19, 20, 21, 22, 23, 24, 25, 26, 27, 28, 29, 32, 33, 59, 60, 64, 66, 88, 98])\n"
     ]
    }
   ],
   "source": [
    "print('alldata is a dict, model data for each car:', alldata.keys())"
   ]
  },
  {
   "cell_type": "code",
   "execution_count": 7,
   "metadata": {},
   "outputs": [
    {
     "name": "stdout",
     "output_type": "stream",
     "text": [
      "170\n"
     ]
    },
    {
     "data": {
      "text/plain": [
       "array([[ 1.23615313e+00,  2.54198104e-01,  3.67092848e+00],\n",
       "       [ 1.13235927e+00,  2.43951127e-01,  3.74481869e+00],\n",
       "       [ 1.02856517e+00,  2.34070629e-01,  3.81988335e+00],\n",
       "       [ 9.24771309e-01,  2.24546850e-01,  3.89605451e+00],\n",
       "       [ 8.20977449e-01,  2.15370238e-01,  3.97326517e+00],\n",
       "       [ 7.17183471e-01,  2.06531227e-01,  4.05145073e+00],\n",
       "       [ 6.36848867e-01,  2.09689304e-01,  4.08367348e+00],\n",
       "       [ 5.49282670e-01,  2.13657677e-01,  4.15266800e+00],\n",
       "       [ 4.54483688e-01,  2.13643044e-01,  4.25413370e+00],\n",
       "       [ 3.59684885e-01,  2.13628381e-01,  4.35682201e+00],\n",
       "       [ 2.64885902e-01,  2.13613704e-01,  4.46062660e+00],\n",
       "       [ 1.70086935e-01,  2.13599026e-01,  4.56544828e+00],\n",
       "       [ 7.52880424e-02,  2.13584349e-01,  4.67119360e+00],\n",
       "       [-1.95109248e-02,  2.13569671e-01,  4.77777767e+00],\n",
       "       [-1.10752173e-01,  2.13712960e-01,  4.87988472e+00],\n",
       "       [-2.03185767e-01,  2.17365474e-01,  4.98375034e+00],\n",
       "       [-2.99104959e-01,  2.29087815e-01,  5.10039711e+00],\n",
       "       [-4.06374872e-01,  2.39319369e-01,  5.23786497e+00],\n",
       "       [-4.95453119e-01,  2.27788970e-01,  5.44221687e+00],\n",
       "       [-6.16553783e-01,  2.32855409e-01,  5.61743069e+00],\n",
       "       [-7.42382705e-01,  2.40492165e-01,  5.78904152e+00],\n",
       "       [-8.22333872e-01,  2.27785736e-01,  5.97808075e+00],\n",
       "       [-9.05608773e-01,  2.19314724e-01,  6.16299820e+00],\n",
       "       [-9.81001914e-01,  2.10158825e-01,  6.34667253e+00],\n",
       "       [-1.05245185e+00,  2.00421661e-01,  6.53081226e+00],\n",
       "       [-1.12390184e+00,  1.91093773e-01,  6.71532297e+00],\n",
       "       [-1.19535184e+00,  1.82161510e-01,  6.90014315e+00],\n",
       "       [-1.26680195e+00,  1.73611537e-01,  7.08522129e+00],\n",
       "       [-1.33825195e+00,  1.65430456e-01,  7.27051258e+00],\n",
       "       [-1.40970182e+00,  1.57605246e-01,  7.45598173e+00],\n",
       "       [-1.48115218e+00,  1.50123015e-01,  7.64159966e+00],\n",
       "       [ 1.34997916e+00,  2.58699507e-01,  3.60328460e+00],\n",
       "       [ 1.23615313e+00,  2.54198104e-01,  3.67092848e+00],\n",
       "       [ 1.13235927e+00,  2.43951127e-01,  3.74481869e+00],\n",
       "       [ 1.02856517e+00,  2.34070629e-01,  3.81988335e+00],\n",
       "       [ 9.24771309e-01,  2.24546850e-01,  3.89605451e+00],\n",
       "       [ 8.20977449e-01,  2.15370238e-01,  3.97326517e+00],\n",
       "       [ 7.17183471e-01,  2.06531227e-01,  4.05145073e+00],\n",
       "       [ 6.36848867e-01,  2.09689304e-01,  4.08367348e+00],\n",
       "       [ 5.49282670e-01,  2.13657677e-01,  4.15266800e+00],\n",
       "       [ 4.54483688e-01,  2.13643044e-01,  4.25413370e+00],\n",
       "       [ 3.59684885e-01,  2.13628381e-01,  4.35682201e+00],\n",
       "       [ 2.64885902e-01,  2.13613704e-01,  4.46062660e+00],\n",
       "       [ 1.70086935e-01,  2.13599026e-01,  4.56544828e+00],\n",
       "       [ 7.52880424e-02,  2.13584349e-01,  4.67119360e+00],\n",
       "       [-1.95109248e-02,  2.13569671e-01,  4.77777767e+00],\n",
       "       [-1.10752173e-01,  2.13712960e-01,  4.87988472e+00],\n",
       "       [-7.85453022e-02,  2.28430569e-01,  4.80854893e+00],\n",
       "       [-1.33882597e-01,  2.33859345e-01,  4.87882233e+00],\n",
       "       [ 1.34997916e+00,  2.58699507e-01,  3.60328460e+00],\n",
       "       [ 1.41100764e+00,  2.54173487e-01,  3.61720824e+00],\n",
       "       [ 1.36420548e+00,  2.51051843e-01,  3.65567303e+00],\n",
       "       [ 1.31740308e+00,  2.47963995e-01,  3.69449019e+00],\n",
       "       [ 1.27060068e+00,  2.44909704e-01,  3.73364925e+00],\n",
       "       [ 1.15545559e+00,  2.47734606e-01,  3.79224372e+00],\n",
       "       [ 1.04031038e+00,  2.50588119e-01,  3.85153246e+00],\n",
       "       [ 9.25165176e-01,  2.53470600e-01,  3.91148329e+00],\n",
       "       [ 8.78362954e-01,  2.50356525e-01,  3.95232677e+00],\n",
       "       [ 8.31560671e-01,  2.47276202e-01,  3.99344826e+00],\n",
       "       [ 7.84758270e-01,  2.44229361e-01,  4.03483820e+00],\n",
       "       [ 7.37955987e-01,  2.41215706e-01,  4.07648754e+00],\n",
       "       [ 6.91153586e-01,  2.38234922e-01,  4.11838627e+00],\n",
       "       [ 5.76110125e-01,  2.41026282e-01,  4.18071365e+00],\n",
       "       [ 4.88144577e-01,  2.53156185e-01,  4.20400715e+00],\n",
       "       [ 3.85777056e-01,  2.51151800e-01,  4.31951714e+00],\n",
       "       [ 2.88407981e-01,  2.50742167e-01,  4.43060589e+00],\n",
       "       [ 1.91038921e-01,  2.50333011e-01,  4.54289913e+00],\n",
       "       [ 1.55450985e-01,  2.45824069e-01,  4.61062431e+00],\n",
       "       [ 1.28055558e-01,  2.46775791e-01,  4.63443375e+00],\n",
       "       [ 1.00660205e-01,  2.47730792e-01,  4.65828705e+00],\n",
       "       [ 7.32649565e-02,  2.48689011e-01,  4.68218327e+00],\n",
       "       [ 4.58696038e-02,  2.49650553e-01,  4.70612144e+00],\n",
       "       [-4.26858440e-02,  2.55210429e-01,  4.77277088e+00],\n",
       "       [-1.02139018e-01,  2.48814017e-01,  4.84950829e+00],\n",
       "       [-2.16243565e-01,  2.27804169e-01,  5.07086945e+00],\n",
       "       [-3.30348074e-01,  2.08388790e-01,  5.29464912e+00],\n",
       "       [-4.43760693e-01,  1.90553501e-01,  5.51953077e+00],\n",
       "       [-5.77894151e-01,  1.95432022e-01,  5.65949488e+00],\n",
       "       [-7.20519662e-01,  2.03079715e-01,  5.79138708e+00],\n",
       "       [-8.01081181e-01,  1.92467257e-01,  5.95828533e+00],\n",
       "       [-8.79023731e-01,  1.85295925e-01,  6.12572432e+00],\n",
       "       [-9.58245039e-01,  1.79088101e-01,  6.29263115e+00],\n",
       "       [-1.03746641e+00,  1.73070744e-01,  6.45992565e+00],\n",
       "       [-1.11668777e+00,  1.67239144e-01,  6.62754869e+00],\n",
       "       [-1.18634713e+00,  1.59756556e-01,  6.79550219e+00],\n",
       "       [-1.25257289e+00,  1.51957780e-01,  6.96370983e+00],\n",
       "       [-1.31879878e+00,  1.44512847e-01,  7.13211823e+00],\n",
       "       [-1.38502455e+00,  1.37408137e-01,  7.30069447e+00],\n",
       "       [-1.45125043e+00,  1.30630344e-01,  7.46941423e+00],\n",
       "       [-1.51747596e+00,  1.24166541e-01,  7.63825369e+00],\n",
       "       [-1.58370197e+00,  1.18003950e-01,  7.80719709e+00],\n",
       "       [-1.64992762e+00,  1.12130389e-01,  7.97622585e+00],\n",
       "       [-1.71615362e+00,  1.06533885e-01,  8.14532757e+00],\n",
       "       [ 1.34997916e+00,  2.58699507e-01,  3.60328460e+00],\n",
       "       [ 1.23615313e+00,  2.54198104e-01,  3.67092848e+00],\n",
       "       [ 1.13235927e+00,  2.43951127e-01,  3.74481869e+00],\n",
       "       [ 1.02856517e+00,  2.34070629e-01,  3.81988335e+00],\n",
       "       [ 9.24771309e-01,  2.24546850e-01,  3.89605451e+00],\n",
       "       [ 8.20977449e-01,  2.15370238e-01,  3.97326517e+00],\n",
       "       [ 7.17183471e-01,  2.06531227e-01,  4.05145073e+00],\n",
       "       [ 6.36848867e-01,  2.09689304e-01,  4.08367348e+00],\n",
       "       [ 5.49282670e-01,  2.13657677e-01,  4.15266800e+00],\n",
       "       [ 4.54483688e-01,  2.13643044e-01,  4.25413370e+00],\n",
       "       [ 3.59684885e-01,  2.13628381e-01,  4.35682201e+00],\n",
       "       [ 2.64885902e-01,  2.13613704e-01,  4.46062660e+00],\n",
       "       [ 1.70086935e-01,  2.13599026e-01,  4.56544828e+00],\n",
       "       [ 7.52880424e-02,  2.13584349e-01,  4.67119360e+00],\n",
       "       [-1.95109248e-02,  2.13569671e-01,  4.77777767e+00],\n",
       "       [-1.10752173e-01,  2.13712960e-01,  4.87988472e+00],\n",
       "       [-2.03185767e-01,  2.17365474e-01,  4.98375034e+00],\n",
       "       [-2.99104959e-01,  2.29087815e-01,  5.10039711e+00],\n",
       "       [-4.06374872e-01,  2.39319369e-01,  5.23786497e+00],\n",
       "       [-4.95453119e-01,  2.27788970e-01,  5.44221687e+00],\n",
       "       [-6.16553783e-01,  2.32855409e-01,  5.61743069e+00],\n",
       "       [-7.42382705e-01,  2.40492165e-01,  5.78904152e+00],\n",
       "       [-8.22333872e-01,  2.27785736e-01,  5.97808075e+00],\n",
       "       [-9.05608773e-01,  2.19314724e-01,  6.16299820e+00],\n",
       "       [-9.81001914e-01,  2.10158825e-01,  6.34667253e+00],\n",
       "       [-1.05245185e+00,  2.00421661e-01,  6.53081226e+00],\n",
       "       [-1.12390184e+00,  1.91093773e-01,  6.71532297e+00],\n",
       "       [-1.19535184e+00,  1.82161510e-01,  6.90014315e+00],\n",
       "       [-1.26680195e+00,  1.73611537e-01,  7.08522129e+00],\n",
       "       [-1.33825195e+00,  1.65430456e-01,  7.27051258e+00],\n",
       "       [-1.40970182e+00,  1.57605246e-01,  7.45598173e+00],\n",
       "       [-1.48115218e+00,  1.50123015e-01,  7.64159966e+00],\n",
       "       [-1.55260205e+00,  1.42971143e-01,  7.82734060e+00],\n",
       "       [-1.62405205e+00,  1.36137262e-01,  8.01318359e+00],\n",
       "       [-1.69550204e+00,  1.29609331e-01,  8.19911194e+00],\n",
       "       [ 1.34997916e+00,  2.58699507e-01,  3.60328460e+00],\n",
       "       [ 1.23615313e+00,  2.54198104e-01,  3.67092848e+00],\n",
       "       [ 1.13235927e+00,  2.43951127e-01,  3.74481869e+00],\n",
       "       [ 1.02856517e+00,  2.34070629e-01,  3.81988335e+00],\n",
       "       [ 9.24771309e-01,  2.24546850e-01,  3.89605451e+00],\n",
       "       [ 8.20977449e-01,  2.15370238e-01,  3.97326517e+00],\n",
       "       [ 7.17183471e-01,  2.06531227e-01,  4.05145073e+00],\n",
       "       [ 6.36848867e-01,  2.09689304e-01,  4.08367348e+00],\n",
       "       [ 5.49282670e-01,  2.13657677e-01,  4.15266800e+00],\n",
       "       [ 4.54483688e-01,  2.13643044e-01,  4.25413370e+00],\n",
       "       [ 5.19988596e-01,  2.55028129e-01,  4.08641148e+00],\n",
       "       [ 4.74131942e-01,  2.72090882e-01,  4.11264229e+00],\n",
       "       [ 3.98260832e-01,  2.74868757e-01,  4.18867683e+00],\n",
       "       [ 3.26165795e-01,  2.75809109e-01,  4.26992130e+00],\n",
       "       [ 2.55767405e-01,  2.76847005e-01,  4.34954166e+00],\n",
       "       [ 2.06836209e-01,  2.67050683e-01,  4.43711996e+00],\n",
       "       [ 1.04751691e-01,  2.64631569e-01,  4.55698061e+00],\n",
       "       [ 6.86013550e-02,  2.59506434e-01,  4.62781572e+00],\n",
       "       [ 3.31306905e-02,  2.54932582e-01,  4.69536018e+00],\n",
       "       [ 5.73536754e-03,  2.55915225e-01,  4.71932125e+00],\n",
       "       [-2.16599479e-02,  2.56901234e-01,  4.74332333e+00],\n",
       "       [-4.90553305e-02,  2.57890642e-01,  4.76736450e+00],\n",
       "       [-7.35432357e-02,  2.57482737e-01,  4.79245949e+00],\n",
       "       [-8.51340592e-02,  2.51935035e-01,  4.81911945e+00],\n",
       "       [-1.72271878e-01,  2.36108348e-01,  4.97858906e+00],\n",
       "       [-2.16243565e-01,  2.27804169e-01,  5.07086945e+00],\n",
       "       [-2.60215163e-01,  2.19761044e-01,  5.16356659e+00],\n",
       "       [-3.04186821e-01,  2.11972803e-01,  5.25664425e+00],\n",
       "       [-3.48158538e-01,  2.04433218e-01,  5.35007143e+00],\n",
       "       [-3.92130017e-01,  1.97136298e-01,  5.44381666e+00],\n",
       "       [-4.36101735e-01,  1.90075696e-01,  5.53785324e+00],\n",
       "       [-5.04192531e-01,  1.90892458e-01,  5.61348820e+00],\n",
       "       [-6.77049398e-01,  1.97209507e-01,  5.77498913e+00],\n",
       "       [-7.84004211e-01,  1.93738326e-01,  5.92745304e+00],\n",
       "       [-8.60236049e-01,  1.85525879e-01,  6.09612465e+00],\n",
       "       [-9.39457417e-01,  1.79311022e-01,  6.26295519e+00],\n",
       "       [-1.01867878e+00,  1.73286796e-01,  6.43018579e+00],\n",
       "       [-1.09790027e+00,  1.67448476e-01,  6.59775496e+00],\n",
       "       [-1.17299306e+00,  1.60997033e-01,  6.76563311e+00],\n",
       "       [-1.23921895e+00,  1.53142288e-01,  6.93380165e+00],\n",
       "       [-1.30544448e+00,  1.45643488e-01,  7.10217619e+00],\n",
       "       [-1.37167025e+00,  1.38486966e-01,  7.27072477e+00]], dtype=float32)"
      ]
     },
     "execution_count": 7,
     "metadata": {},
     "output_type": "execute_result"
    }
   ],
   "source": [
    "theta = np.array([[x.asnumpy().reshape(-1)[0] for x in alldata[12]['theta'][id]] \n",
    "                  for id in range(len(alldata[12]['theta']))])\n",
    "\n",
    "print(len(theta))\n",
    "\n",
    "theta"
   ]
  },
  {
   "cell_type": "code",
   "execution_count": 32,
   "metadata": {},
   "outputs": [
    {
     "data": {
      "text/plain": [
       "array([0.4544837 , 0.21364304, 4.2541337 ], dtype=float32)"
      ]
     },
     "execution_count": 32,
     "metadata": {},
     "output_type": "execute_result"
    }
   ],
   "source": [
    "theta[40]"
   ]
  },
  {
   "cell_type": "code",
   "execution_count": 30,
   "metadata": {},
   "outputs": [
    {
     "data": {
      "text/plain": [
       "array([-0.9056088 ,  0.21931472,  6.162998  ], dtype=float32)"
      ]
     },
     "execution_count": 30,
     "metadata": {},
     "output_type": "execute_result"
    }
   ],
   "source": [
    "theta[22]"
   ]
  },
  {
   "cell_type": "code",
   "execution_count": 8,
   "metadata": {},
   "outputs": [
    {
     "name": "stdout",
     "output_type": "stream",
     "text": [
      "170\n"
     ]
    },
    {
     "data": {
      "text/plain": [
       "array([[[-0.6255078 , -0.68457186, -0.46825197, -0.518488  ,\n",
       "         -0.9469865 ]]], dtype=float32)"
      ]
     },
     "execution_count": 8,
     "metadata": {},
     "output_type": "execute_result"
    }
   ],
   "source": [
    "mlpoutput = alldata[12]['mlpoutput']\n",
    "print(len(mlpoutput))\n",
    "\n",
    "mlpoutput[0]"
   ]
  },
  {
   "cell_type": "code",
   "execution_count": 11,
   "metadata": {},
   "outputs": [
    {
     "name": "stdout",
     "output_type": "stream",
     "text": [
      "row id is the lap number\n"
     ]
    }
   ],
   "source": [
    "print('row id is the lap number')"
   ]
  },
  {
   "cell_type": "code",
   "execution_count": 10,
   "metadata": {},
   "outputs": [
    {
     "data": {
      "text/html": [
       "<div>\n",
       "<style scoped>\n",
       "    .dataframe tbody tr th:only-of-type {\n",
       "        vertical-align: middle;\n",
       "    }\n",
       "\n",
       "    .dataframe tbody tr th {\n",
       "        vertical-align: top;\n",
       "    }\n",
       "\n",
       "    .dataframe thead th {\n",
       "        text-align: right;\n",
       "    }\n",
       "</style>\n",
       "<table border=\"1\" class=\"dataframe\">\n",
       "  <thead>\n",
       "    <tr style=\"text-align: right;\">\n",
       "      <th></th>\n",
       "      <th>Unnamed: 0</th>\n",
       "      <th>lap2nextpit</th>\n",
       "      <th>caution_laps</th>\n",
       "      <th>pitage</th>\n",
       "      <th>pit_oncaution</th>\n",
       "      <th>carno</th>\n",
       "      <th>eid</th>\n",
       "      <th>lap</th>\n",
       "      <th>stint_len</th>\n",
       "    </tr>\n",
       "  </thead>\n",
       "  <tbody>\n",
       "    <tr>\n",
       "      <th>1028</th>\n",
       "      <td>1028</td>\n",
       "      <td>31.0</td>\n",
       "      <td>0.0</td>\n",
       "      <td>1.0</td>\n",
       "      <td>0.0</td>\n",
       "      <td>12</td>\n",
       "      <td>5</td>\n",
       "      <td>0</td>\n",
       "      <td>31.0</td>\n",
       "    </tr>\n",
       "    <tr>\n",
       "      <th>1029</th>\n",
       "      <td>1029</td>\n",
       "      <td>30.0</td>\n",
       "      <td>0.0</td>\n",
       "      <td>2.0</td>\n",
       "      <td>0.0</td>\n",
       "      <td>12</td>\n",
       "      <td>5</td>\n",
       "      <td>1</td>\n",
       "      <td>31.0</td>\n",
       "    </tr>\n",
       "    <tr>\n",
       "      <th>1030</th>\n",
       "      <td>1030</td>\n",
       "      <td>29.0</td>\n",
       "      <td>0.0</td>\n",
       "      <td>3.0</td>\n",
       "      <td>0.0</td>\n",
       "      <td>12</td>\n",
       "      <td>5</td>\n",
       "      <td>2</td>\n",
       "      <td>31.0</td>\n",
       "    </tr>\n",
       "    <tr>\n",
       "      <th>1031</th>\n",
       "      <td>1031</td>\n",
       "      <td>28.0</td>\n",
       "      <td>0.0</td>\n",
       "      <td>4.0</td>\n",
       "      <td>0.0</td>\n",
       "      <td>12</td>\n",
       "      <td>5</td>\n",
       "      <td>3</td>\n",
       "      <td>31.0</td>\n",
       "    </tr>\n",
       "    <tr>\n",
       "      <th>1032</th>\n",
       "      <td>1032</td>\n",
       "      <td>27.0</td>\n",
       "      <td>0.0</td>\n",
       "      <td>5.0</td>\n",
       "      <td>0.0</td>\n",
       "      <td>12</td>\n",
       "      <td>5</td>\n",
       "      <td>4</td>\n",
       "      <td>31.0</td>\n",
       "    </tr>\n",
       "    <tr>\n",
       "      <th>...</th>\n",
       "      <td>...</td>\n",
       "      <td>...</td>\n",
       "      <td>...</td>\n",
       "      <td>...</td>\n",
       "      <td>...</td>\n",
       "      <td>...</td>\n",
       "      <td>...</td>\n",
       "      <td>...</td>\n",
       "      <td>...</td>\n",
       "    </tr>\n",
       "    <tr>\n",
       "      <th>1193</th>\n",
       "      <td>1193</td>\n",
       "      <td>5.0</td>\n",
       "      <td>20.0</td>\n",
       "      <td>37.0</td>\n",
       "      <td>0.0</td>\n",
       "      <td>12</td>\n",
       "      <td>5</td>\n",
       "      <td>165</td>\n",
       "      <td>42.0</td>\n",
       "    </tr>\n",
       "    <tr>\n",
       "      <th>1194</th>\n",
       "      <td>1194</td>\n",
       "      <td>4.0</td>\n",
       "      <td>20.0</td>\n",
       "      <td>38.0</td>\n",
       "      <td>0.0</td>\n",
       "      <td>12</td>\n",
       "      <td>5</td>\n",
       "      <td>166</td>\n",
       "      <td>42.0</td>\n",
       "    </tr>\n",
       "    <tr>\n",
       "      <th>1195</th>\n",
       "      <td>1195</td>\n",
       "      <td>3.0</td>\n",
       "      <td>20.0</td>\n",
       "      <td>39.0</td>\n",
       "      <td>0.0</td>\n",
       "      <td>12</td>\n",
       "      <td>5</td>\n",
       "      <td>167</td>\n",
       "      <td>42.0</td>\n",
       "    </tr>\n",
       "    <tr>\n",
       "      <th>1196</th>\n",
       "      <td>1196</td>\n",
       "      <td>2.0</td>\n",
       "      <td>20.0</td>\n",
       "      <td>40.0</td>\n",
       "      <td>0.0</td>\n",
       "      <td>12</td>\n",
       "      <td>5</td>\n",
       "      <td>168</td>\n",
       "      <td>42.0</td>\n",
       "    </tr>\n",
       "    <tr>\n",
       "      <th>1197</th>\n",
       "      <td>1197</td>\n",
       "      <td>1.0</td>\n",
       "      <td>20.0</td>\n",
       "      <td>41.0</td>\n",
       "      <td>0.0</td>\n",
       "      <td>12</td>\n",
       "      <td>5</td>\n",
       "      <td>169</td>\n",
       "      <td>42.0</td>\n",
       "    </tr>\n",
       "  </tbody>\n",
       "</table>\n",
       "<p>170 rows × 9 columns</p>\n",
       "</div>"
      ],
      "text/plain": [
       "      Unnamed: 0  lap2nextpit  caution_laps  pitage  pit_oncaution  carno  \\\n",
       "1028        1028         31.0           0.0     1.0            0.0     12   \n",
       "1029        1029         30.0           0.0     2.0            0.0     12   \n",
       "1030        1030         29.0           0.0     3.0            0.0     12   \n",
       "1031        1031         28.0           0.0     4.0            0.0     12   \n",
       "1032        1032         27.0           0.0     5.0            0.0     12   \n",
       "...          ...          ...           ...     ...            ...    ...   \n",
       "1193        1193          5.0          20.0    37.0            0.0     12   \n",
       "1194        1194          4.0          20.0    38.0            0.0     12   \n",
       "1195        1195          3.0          20.0    39.0            0.0     12   \n",
       "1196        1196          2.0          20.0    40.0            0.0     12   \n",
       "1197        1197          1.0          20.0    41.0            0.0     12   \n",
       "\n",
       "      eid  lap  stint_len  \n",
       "1028    5    0       31.0  \n",
       "1029    5    1       31.0  \n",
       "1030    5    2       31.0  \n",
       "1031    5    3       31.0  \n",
       "1032    5    4       31.0  \n",
       "...   ...  ...        ...  \n",
       "1193    5  165       42.0  \n",
       "1194    5  166       42.0  \n",
       "1195    5  167       42.0  \n",
       "1196    5  168       42.0  \n",
       "1197    5  169       42.0  \n",
       "\n",
       "[170 rows x 9 columns]"
      ]
     },
     "execution_count": 10,
     "metadata": {},
     "output_type": "execute_result"
    }
   ],
   "source": [
    "df_test = pd.read_csv('PitModel-savedata_testset.csv')\n",
    "df_test[df_test['carno']==12]"
   ]
  },
  {
   "cell_type": "code",
   "execution_count": 15,
   "metadata": {},
   "outputs": [
    {
     "data": {
      "text/html": [
       "<div>\n",
       "<style scoped>\n",
       "    .dataframe tbody tr th:only-of-type {\n",
       "        vertical-align: middle;\n",
       "    }\n",
       "\n",
       "    .dataframe tbody tr th {\n",
       "        vertical-align: top;\n",
       "    }\n",
       "\n",
       "    .dataframe thead th {\n",
       "        text-align: right;\n",
       "    }\n",
       "</style>\n",
       "<table border=\"1\" class=\"dataframe\">\n",
       "  <thead>\n",
       "    <tr style=\"text-align: right;\">\n",
       "      <th></th>\n",
       "      <th>Unnamed: 0</th>\n",
       "      <th>lap2nextpit</th>\n",
       "      <th>caution_laps</th>\n",
       "      <th>pitage</th>\n",
       "      <th>pit_oncaution</th>\n",
       "      <th>carno</th>\n",
       "      <th>eid</th>\n",
       "      <th>lap</th>\n",
       "      <th>stint_len</th>\n",
       "    </tr>\n",
       "  </thead>\n",
       "  <tbody>\n",
       "    <tr>\n",
       "      <th>1058</th>\n",
       "      <td>1058</td>\n",
       "      <td>1.0</td>\n",
       "      <td>0.0</td>\n",
       "      <td>31.0</td>\n",
       "      <td>0.0</td>\n",
       "      <td>12</td>\n",
       "      <td>5</td>\n",
       "      <td>30</td>\n",
       "      <td>31.0</td>\n",
       "    </tr>\n",
       "  </tbody>\n",
       "</table>\n",
       "</div>"
      ],
      "text/plain": [
       "      Unnamed: 0  lap2nextpit  caution_laps  pitage  pit_oncaution  carno  \\\n",
       "1058        1058          1.0           0.0    31.0            0.0     12   \n",
       "\n",
       "      eid  lap  stint_len  \n",
       "1058    5   30       31.0  "
      ]
     },
     "execution_count": 15,
     "metadata": {},
     "output_type": "execute_result"
    }
   ],
   "source": [
    "df12 = df_test[df_test['carno']==12]\n",
    "df12[df12['lap']==30]"
   ]
  },
  {
   "cell_type": "code",
   "execution_count": 16,
   "metadata": {},
   "outputs": [
    {
     "data": {
      "text/html": [
       "<div>\n",
       "<style scoped>\n",
       "    .dataframe tbody tr th:only-of-type {\n",
       "        vertical-align: middle;\n",
       "    }\n",
       "\n",
       "    .dataframe tbody tr th {\n",
       "        vertical-align: top;\n",
       "    }\n",
       "\n",
       "    .dataframe thead th {\n",
       "        text-align: right;\n",
       "    }\n",
       "</style>\n",
       "<table border=\"1\" class=\"dataframe\">\n",
       "  <thead>\n",
       "    <tr style=\"text-align: right;\">\n",
       "      <th></th>\n",
       "      <th>Unnamed: 0</th>\n",
       "      <th>lap2nextpit</th>\n",
       "      <th>caution_laps</th>\n",
       "      <th>pitage</th>\n",
       "      <th>pit_oncaution</th>\n",
       "      <th>carno</th>\n",
       "      <th>eid</th>\n",
       "      <th>lap</th>\n",
       "      <th>stint_len</th>\n",
       "    </tr>\n",
       "  </thead>\n",
       "  <tbody>\n",
       "    <tr>\n",
       "      <th>1057</th>\n",
       "      <td>1057</td>\n",
       "      <td>2.0</td>\n",
       "      <td>0.0</td>\n",
       "      <td>30.0</td>\n",
       "      <td>0.0</td>\n",
       "      <td>12</td>\n",
       "      <td>5</td>\n",
       "      <td>29</td>\n",
       "      <td>31.0</td>\n",
       "    </tr>\n",
       "    <tr>\n",
       "      <th>1075</th>\n",
       "      <td>1075</td>\n",
       "      <td>2.0</td>\n",
       "      <td>1.0</td>\n",
       "      <td>16.0</td>\n",
       "      <td>1.0</td>\n",
       "      <td>12</td>\n",
       "      <td>5</td>\n",
       "      <td>47</td>\n",
       "      <td>18.0</td>\n",
       "    </tr>\n",
       "    <tr>\n",
       "      <th>1119</th>\n",
       "      <td>1119</td>\n",
       "      <td>2.0</td>\n",
       "      <td>14.0</td>\n",
       "      <td>42.0</td>\n",
       "      <td>0.0</td>\n",
       "      <td>12</td>\n",
       "      <td>5</td>\n",
       "      <td>91</td>\n",
       "      <td>44.0</td>\n",
       "    </tr>\n",
       "    <tr>\n",
       "      <th>1154</th>\n",
       "      <td>1154</td>\n",
       "      <td>2.0</td>\n",
       "      <td>0.0</td>\n",
       "      <td>33.0</td>\n",
       "      <td>0.0</td>\n",
       "      <td>12</td>\n",
       "      <td>5</td>\n",
       "      <td>126</td>\n",
       "      <td>35.0</td>\n",
       "    </tr>\n",
       "    <tr>\n",
       "      <th>1196</th>\n",
       "      <td>1196</td>\n",
       "      <td>2.0</td>\n",
       "      <td>20.0</td>\n",
       "      <td>40.0</td>\n",
       "      <td>0.0</td>\n",
       "      <td>12</td>\n",
       "      <td>5</td>\n",
       "      <td>168</td>\n",
       "      <td>42.0</td>\n",
       "    </tr>\n",
       "  </tbody>\n",
       "</table>\n",
       "</div>"
      ],
      "text/plain": [
       "      Unnamed: 0  lap2nextpit  caution_laps  pitage  pit_oncaution  carno  \\\n",
       "1057        1057          2.0           0.0    30.0            0.0     12   \n",
       "1075        1075          2.0           1.0    16.0            1.0     12   \n",
       "1119        1119          2.0          14.0    42.0            0.0     12   \n",
       "1154        1154          2.0           0.0    33.0            0.0     12   \n",
       "1196        1196          2.0          20.0    40.0            0.0     12   \n",
       "\n",
       "      eid  lap  stint_len  \n",
       "1057    5   29       31.0  \n",
       "1075    5   47       18.0  \n",
       "1119    5   91       44.0  \n",
       "1154    5  126       35.0  \n",
       "1196    5  168       42.0  "
      ]
     },
     "execution_count": 16,
     "metadata": {},
     "output_type": "execute_result"
    }
   ],
   "source": [
    "df12[df12['lap2nextpit']==2]"
   ]
  },
  {
   "cell_type": "code",
   "execution_count": 25,
   "metadata": {},
   "outputs": [
    {
     "data": {
      "text/html": [
       "<div>\n",
       "<style scoped>\n",
       "    .dataframe tbody tr th:only-of-type {\n",
       "        vertical-align: middle;\n",
       "    }\n",
       "\n",
       "    .dataframe tbody tr th {\n",
       "        vertical-align: top;\n",
       "    }\n",
       "\n",
       "    .dataframe thead th {\n",
       "        text-align: right;\n",
       "    }\n",
       "</style>\n",
       "<table border=\"1\" class=\"dataframe\">\n",
       "  <thead>\n",
       "    <tr style=\"text-align: right;\">\n",
       "      <th></th>\n",
       "      <th>Unnamed: 0</th>\n",
       "      <th>lap2nextpit</th>\n",
       "      <th>caution_laps</th>\n",
       "      <th>pitage</th>\n",
       "      <th>pit_oncaution</th>\n",
       "      <th>carno</th>\n",
       "      <th>eid</th>\n",
       "      <th>lap</th>\n",
       "      <th>stint_len</th>\n",
       "    </tr>\n",
       "  </thead>\n",
       "  <tbody>\n",
       "    <tr>\n",
       "      <th>1245</th>\n",
       "      <td>1245</td>\n",
       "      <td>10.0</td>\n",
       "      <td>0.0</td>\n",
       "      <td>20.0</td>\n",
       "      <td>0.0</td>\n",
       "      <td>14</td>\n",
       "      <td>5</td>\n",
       "      <td>19</td>\n",
       "      <td>29.0</td>\n",
       "    </tr>\n",
       "    <tr>\n",
       "      <th>1265</th>\n",
       "      <td>1265</td>\n",
       "      <td>10.0</td>\n",
       "      <td>0.0</td>\n",
       "      <td>10.0</td>\n",
       "      <td>1.0</td>\n",
       "      <td>14</td>\n",
       "      <td>5</td>\n",
       "      <td>39</td>\n",
       "      <td>20.0</td>\n",
       "    </tr>\n",
       "    <tr>\n",
       "      <th>1305</th>\n",
       "      <td>1305</td>\n",
       "      <td>10.0</td>\n",
       "      <td>14.0</td>\n",
       "      <td>30.0</td>\n",
       "      <td>0.0</td>\n",
       "      <td>14</td>\n",
       "      <td>5</td>\n",
       "      <td>79</td>\n",
       "      <td>40.0</td>\n",
       "    </tr>\n",
       "    <tr>\n",
       "      <th>1345</th>\n",
       "      <td>1345</td>\n",
       "      <td>10.0</td>\n",
       "      <td>0.0</td>\n",
       "      <td>22.0</td>\n",
       "      <td>0.0</td>\n",
       "      <td>14</td>\n",
       "      <td>5</td>\n",
       "      <td>119</td>\n",
       "      <td>32.0</td>\n",
       "    </tr>\n",
       "    <tr>\n",
       "      <th>1358</th>\n",
       "      <td>1358</td>\n",
       "      <td>10.0</td>\n",
       "      <td>0.0</td>\n",
       "      <td>3.0</td>\n",
       "      <td>1.0</td>\n",
       "      <td>14</td>\n",
       "      <td>5</td>\n",
       "      <td>132</td>\n",
       "      <td>13.0</td>\n",
       "    </tr>\n",
       "  </tbody>\n",
       "</table>\n",
       "</div>"
      ],
      "text/plain": [
       "      Unnamed: 0  lap2nextpit  caution_laps  pitage  pit_oncaution  carno  \\\n",
       "1245        1245         10.0           0.0    20.0            0.0     14   \n",
       "1265        1265         10.0           0.0    10.0            1.0     14   \n",
       "1305        1305         10.0          14.0    30.0            0.0     14   \n",
       "1345        1345         10.0           0.0    22.0            0.0     14   \n",
       "1358        1358         10.0           0.0     3.0            1.0     14   \n",
       "\n",
       "      eid  lap  stint_len  \n",
       "1245    5   19       29.0  \n",
       "1265    5   39       20.0  \n",
       "1305    5   79       40.0  \n",
       "1345    5  119       32.0  \n",
       "1358    5  132       13.0  "
      ]
     },
     "execution_count": 25,
     "metadata": {},
     "output_type": "execute_result"
    }
   ],
   "source": [
    "df_test[(df_test['carno']==14) & (df_test['lap2nextpit']==10)]"
   ]
  },
  {
   "cell_type": "code",
   "execution_count": 28,
   "metadata": {},
   "outputs": [
    {
     "data": {
      "text/html": [
       "<div>\n",
       "<style scoped>\n",
       "    .dataframe tbody tr th:only-of-type {\n",
       "        vertical-align: middle;\n",
       "    }\n",
       "\n",
       "    .dataframe tbody tr th {\n",
       "        vertical-align: top;\n",
       "    }\n",
       "\n",
       "    .dataframe thead th {\n",
       "        text-align: right;\n",
       "    }\n",
       "</style>\n",
       "<table border=\"1\" class=\"dataframe\">\n",
       "  <thead>\n",
       "    <tr style=\"text-align: right;\">\n",
       "      <th></th>\n",
       "      <th>Unnamed: 0</th>\n",
       "      <th>lap2nextpit</th>\n",
       "      <th>caution_laps</th>\n",
       "      <th>pitage</th>\n",
       "      <th>pit_oncaution</th>\n",
       "      <th>carno</th>\n",
       "      <th>eid</th>\n",
       "      <th>lap</th>\n",
       "      <th>stint_len</th>\n",
       "    </tr>\n",
       "  </thead>\n",
       "  <tbody>\n",
       "    <tr>\n",
       "      <th>682</th>\n",
       "      <td>682</td>\n",
       "      <td>10.0</td>\n",
       "      <td>0.0</td>\n",
       "      <td>26.0</td>\n",
       "      <td>0.0</td>\n",
       "      <td>7</td>\n",
       "      <td>5</td>\n",
       "      <td>25</td>\n",
       "      <td>35.0</td>\n",
       "    </tr>\n",
       "    <tr>\n",
       "      <th>699</th>\n",
       "      <td>699</td>\n",
       "      <td>10.0</td>\n",
       "      <td>0.0</td>\n",
       "      <td>7.0</td>\n",
       "      <td>1.0</td>\n",
       "      <td>7</td>\n",
       "      <td>5</td>\n",
       "      <td>42</td>\n",
       "      <td>17.0</td>\n",
       "    </tr>\n",
       "    <tr>\n",
       "      <th>735</th>\n",
       "      <td>735</td>\n",
       "      <td>10.0</td>\n",
       "      <td>7.0</td>\n",
       "      <td>19.0</td>\n",
       "      <td>0.0</td>\n",
       "      <td>7</td>\n",
       "      <td>5</td>\n",
       "      <td>78</td>\n",
       "      <td>29.0</td>\n",
       "    </tr>\n",
       "    <tr>\n",
       "      <th>753</th>\n",
       "      <td>753</td>\n",
       "      <td>10.0</td>\n",
       "      <td>0.0</td>\n",
       "      <td>1.0</td>\n",
       "      <td>0.0</td>\n",
       "      <td>7</td>\n",
       "      <td>5</td>\n",
       "      <td>96</td>\n",
       "      <td>11.0</td>\n",
       "    </tr>\n",
       "    <tr>\n",
       "      <th>766</th>\n",
       "      <td>766</td>\n",
       "      <td>10.0</td>\n",
       "      <td>0.0</td>\n",
       "      <td>3.0</td>\n",
       "      <td>0.0</td>\n",
       "      <td>7</td>\n",
       "      <td>5</td>\n",
       "      <td>109</td>\n",
       "      <td>13.0</td>\n",
       "    </tr>\n",
       "    <tr>\n",
       "      <th>784</th>\n",
       "      <td>784</td>\n",
       "      <td>10.0</td>\n",
       "      <td>0.0</td>\n",
       "      <td>8.0</td>\n",
       "      <td>1.0</td>\n",
       "      <td>7</td>\n",
       "      <td>5</td>\n",
       "      <td>127</td>\n",
       "      <td>18.0</td>\n",
       "    </tr>\n",
       "    <tr>\n",
       "      <th>826</th>\n",
       "      <td>826</td>\n",
       "      <td>10.0</td>\n",
       "      <td>15.0</td>\n",
       "      <td>32.0</td>\n",
       "      <td>0.0</td>\n",
       "      <td>7</td>\n",
       "      <td>5</td>\n",
       "      <td>169</td>\n",
       "      <td>42.0</td>\n",
       "    </tr>\n",
       "  </tbody>\n",
       "</table>\n",
       "</div>"
      ],
      "text/plain": [
       "     Unnamed: 0  lap2nextpit  caution_laps  pitage  pit_oncaution  carno  eid  \\\n",
       "682         682         10.0           0.0    26.0            0.0      7    5   \n",
       "699         699         10.0           0.0     7.0            1.0      7    5   \n",
       "735         735         10.0           7.0    19.0            0.0      7    5   \n",
       "753         753         10.0           0.0     1.0            0.0      7    5   \n",
       "766         766         10.0           0.0     3.0            0.0      7    5   \n",
       "784         784         10.0           0.0     8.0            1.0      7    5   \n",
       "826         826         10.0          15.0    32.0            0.0      7    5   \n",
       "\n",
       "     lap  stint_len  \n",
       "682   25       35.0  \n",
       "699   42       17.0  \n",
       "735   78       29.0  \n",
       "753   96       11.0  \n",
       "766  109       13.0  \n",
       "784  127       18.0  \n",
       "826  169       42.0  "
      ]
     },
     "execution_count": 28,
     "metadata": {},
     "output_type": "execute_result"
    }
   ],
   "source": [
    "df_test[(df_test['carno']==7) & (df_test['lap2nextpit']==10)]"
   ]
  },
  {
   "cell_type": "code",
   "execution_count": 24,
   "metadata": {},
   "outputs": [
    {
     "data": {
      "text/html": [
       "<div>\n",
       "<style scoped>\n",
       "    .dataframe tbody tr th:only-of-type {\n",
       "        vertical-align: middle;\n",
       "    }\n",
       "\n",
       "    .dataframe tbody tr th {\n",
       "        vertical-align: top;\n",
       "    }\n",
       "\n",
       "    .dataframe thead th {\n",
       "        text-align: right;\n",
       "    }\n",
       "</style>\n",
       "<table border=\"1\" class=\"dataframe\">\n",
       "  <thead>\n",
       "    <tr style=\"text-align: right;\">\n",
       "      <th></th>\n",
       "      <th>Unnamed: 0</th>\n",
       "      <th>lap2nextpit</th>\n",
       "      <th>caution_laps</th>\n",
       "      <th>pitage</th>\n",
       "      <th>pit_oncaution</th>\n",
       "      <th>carno</th>\n",
       "      <th>eid</th>\n",
       "      <th>lap</th>\n",
       "      <th>stint_len</th>\n",
       "    </tr>\n",
       "  </thead>\n",
       "  <tbody>\n",
       "    <tr>\n",
       "      <th>1049</th>\n",
       "      <td>1049</td>\n",
       "      <td>10.0</td>\n",
       "      <td>0.0</td>\n",
       "      <td>22.0</td>\n",
       "      <td>0.0</td>\n",
       "      <td>12</td>\n",
       "      <td>5</td>\n",
       "      <td>21</td>\n",
       "      <td>31.0</td>\n",
       "    </tr>\n",
       "    <tr>\n",
       "      <th>1067</th>\n",
       "      <td>1067</td>\n",
       "      <td>10.0</td>\n",
       "      <td>0.0</td>\n",
       "      <td>8.0</td>\n",
       "      <td>1.0</td>\n",
       "      <td>12</td>\n",
       "      <td>5</td>\n",
       "      <td>39</td>\n",
       "      <td>18.0</td>\n",
       "    </tr>\n",
       "    <tr>\n",
       "      <th>1111</th>\n",
       "      <td>1111</td>\n",
       "      <td>10.0</td>\n",
       "      <td>14.0</td>\n",
       "      <td>34.0</td>\n",
       "      <td>0.0</td>\n",
       "      <td>12</td>\n",
       "      <td>5</td>\n",
       "      <td>83</td>\n",
       "      <td>44.0</td>\n",
       "    </tr>\n",
       "    <tr>\n",
       "      <th>1146</th>\n",
       "      <td>1146</td>\n",
       "      <td>10.0</td>\n",
       "      <td>0.0</td>\n",
       "      <td>25.0</td>\n",
       "      <td>0.0</td>\n",
       "      <td>12</td>\n",
       "      <td>5</td>\n",
       "      <td>118</td>\n",
       "      <td>35.0</td>\n",
       "    </tr>\n",
       "    <tr>\n",
       "      <th>1188</th>\n",
       "      <td>1188</td>\n",
       "      <td>10.0</td>\n",
       "      <td>20.0</td>\n",
       "      <td>32.0</td>\n",
       "      <td>0.0</td>\n",
       "      <td>12</td>\n",
       "      <td>5</td>\n",
       "      <td>160</td>\n",
       "      <td>42.0</td>\n",
       "    </tr>\n",
       "  </tbody>\n",
       "</table>\n",
       "</div>"
      ],
      "text/plain": [
       "      Unnamed: 0  lap2nextpit  caution_laps  pitage  pit_oncaution  carno  \\\n",
       "1049        1049         10.0           0.0    22.0            0.0     12   \n",
       "1067        1067         10.0           0.0     8.0            1.0     12   \n",
       "1111        1111         10.0          14.0    34.0            0.0     12   \n",
       "1146        1146         10.0           0.0    25.0            0.0     12   \n",
       "1188        1188         10.0          20.0    32.0            0.0     12   \n",
       "\n",
       "      eid  lap  stint_len  \n",
       "1049    5   21       31.0  \n",
       "1067    5   39       18.0  \n",
       "1111    5   83       44.0  \n",
       "1146    5  118       35.0  \n",
       "1188    5  160       42.0  "
      ]
     },
     "execution_count": 24,
     "metadata": {},
     "output_type": "execute_result"
    }
   ],
   "source": [
    "df_test[(df_test['carno']==12) & (df_test['lap2nextpit']==10)]"
   ]
  },
  {
   "cell_type": "code",
   "execution_count": 31,
   "metadata": {},
   "outputs": [
    {
     "data": {
      "text/html": [
       "<div>\n",
       "<style scoped>\n",
       "    .dataframe tbody tr th:only-of-type {\n",
       "        vertical-align: middle;\n",
       "    }\n",
       "\n",
       "    .dataframe tbody tr th {\n",
       "        vertical-align: top;\n",
       "    }\n",
       "\n",
       "    .dataframe thead th {\n",
       "        text-align: right;\n",
       "    }\n",
       "</style>\n",
       "<table border=\"1\" class=\"dataframe\">\n",
       "  <thead>\n",
       "    <tr style=\"text-align: right;\">\n",
       "      <th></th>\n",
       "      <th>Unnamed: 0</th>\n",
       "      <th>lap2nextpit</th>\n",
       "      <th>caution_laps</th>\n",
       "      <th>pitage</th>\n",
       "      <th>pit_oncaution</th>\n",
       "      <th>carno</th>\n",
       "      <th>eid</th>\n",
       "      <th>lap</th>\n",
       "      <th>stint_len</th>\n",
       "    </tr>\n",
       "  </thead>\n",
       "  <tbody>\n",
       "    <tr>\n",
       "      <th>1050</th>\n",
       "      <td>1050</td>\n",
       "      <td>9.0</td>\n",
       "      <td>0.0</td>\n",
       "      <td>23.0</td>\n",
       "      <td>0.0</td>\n",
       "      <td>12</td>\n",
       "      <td>5</td>\n",
       "      <td>22</td>\n",
       "      <td>31.0</td>\n",
       "    </tr>\n",
       "    <tr>\n",
       "      <th>1068</th>\n",
       "      <td>1068</td>\n",
       "      <td>9.0</td>\n",
       "      <td>0.0</td>\n",
       "      <td>9.0</td>\n",
       "      <td>1.0</td>\n",
       "      <td>12</td>\n",
       "      <td>5</td>\n",
       "      <td>40</td>\n",
       "      <td>18.0</td>\n",
       "    </tr>\n",
       "    <tr>\n",
       "      <th>1112</th>\n",
       "      <td>1112</td>\n",
       "      <td>9.0</td>\n",
       "      <td>14.0</td>\n",
       "      <td>35.0</td>\n",
       "      <td>0.0</td>\n",
       "      <td>12</td>\n",
       "      <td>5</td>\n",
       "      <td>84</td>\n",
       "      <td>44.0</td>\n",
       "    </tr>\n",
       "    <tr>\n",
       "      <th>1147</th>\n",
       "      <td>1147</td>\n",
       "      <td>9.0</td>\n",
       "      <td>0.0</td>\n",
       "      <td>26.0</td>\n",
       "      <td>0.0</td>\n",
       "      <td>12</td>\n",
       "      <td>5</td>\n",
       "      <td>119</td>\n",
       "      <td>35.0</td>\n",
       "    </tr>\n",
       "    <tr>\n",
       "      <th>1189</th>\n",
       "      <td>1189</td>\n",
       "      <td>9.0</td>\n",
       "      <td>20.0</td>\n",
       "      <td>33.0</td>\n",
       "      <td>0.0</td>\n",
       "      <td>12</td>\n",
       "      <td>5</td>\n",
       "      <td>161</td>\n",
       "      <td>42.0</td>\n",
       "    </tr>\n",
       "  </tbody>\n",
       "</table>\n",
       "</div>"
      ],
      "text/plain": [
       "      Unnamed: 0  lap2nextpit  caution_laps  pitage  pit_oncaution  carno  \\\n",
       "1050        1050          9.0           0.0    23.0            0.0     12   \n",
       "1068        1068          9.0           0.0     9.0            1.0     12   \n",
       "1112        1112          9.0          14.0    35.0            0.0     12   \n",
       "1147        1147          9.0           0.0    26.0            0.0     12   \n",
       "1189        1189          9.0          20.0    33.0            0.0     12   \n",
       "\n",
       "      eid  lap  stint_len  \n",
       "1050    5   22       31.0  \n",
       "1068    5   40       18.0  \n",
       "1112    5   84       44.0  \n",
       "1147    5  119       35.0  \n",
       "1189    5  161       42.0  "
      ]
     },
     "execution_count": 31,
     "metadata": {},
     "output_type": "execute_result"
    }
   ],
   "source": [
    "df_test[(df_test['carno']==12) & (df_test['lap2nextpit']==9)]"
   ]
  },
  {
   "cell_type": "code",
   "execution_count": 26,
   "metadata": {},
   "outputs": [
    {
     "data": {
      "text/html": [
       "<div>\n",
       "<style scoped>\n",
       "    .dataframe tbody tr th:only-of-type {\n",
       "        vertical-align: middle;\n",
       "    }\n",
       "\n",
       "    .dataframe tbody tr th {\n",
       "        vertical-align: top;\n",
       "    }\n",
       "\n",
       "    .dataframe thead th {\n",
       "        text-align: right;\n",
       "    }\n",
       "</style>\n",
       "<table border=\"1\" class=\"dataframe\">\n",
       "  <thead>\n",
       "    <tr style=\"text-align: right;\">\n",
       "      <th></th>\n",
       "      <th>Unnamed: 0</th>\n",
       "      <th>lap2nextpit</th>\n",
       "      <th>caution_laps</th>\n",
       "      <th>pitage</th>\n",
       "      <th>pit_oncaution</th>\n",
       "      <th>carno</th>\n",
       "      <th>eid</th>\n",
       "      <th>lap</th>\n",
       "      <th>stint_len</th>\n",
       "    </tr>\n",
       "  </thead>\n",
       "  <tbody>\n",
       "    <tr>\n",
       "      <th>9</th>\n",
       "      <td>9</td>\n",
       "      <td>22.0</td>\n",
       "      <td>0.0</td>\n",
       "      <td>10.0</td>\n",
       "      <td>0.0</td>\n",
       "      <td>1</td>\n",
       "      <td>5</td>\n",
       "      <td>9</td>\n",
       "      <td>31.0</td>\n",
       "    </tr>\n",
       "    <tr>\n",
       "      <th>41</th>\n",
       "      <td>41</td>\n",
       "      <td>8.0</td>\n",
       "      <td>0.0</td>\n",
       "      <td>10.0</td>\n",
       "      <td>1.0</td>\n",
       "      <td>1</td>\n",
       "      <td>5</td>\n",
       "      <td>41</td>\n",
       "      <td>18.0</td>\n",
       "    </tr>\n",
       "    <tr>\n",
       "      <th>110</th>\n",
       "      <td>110</td>\n",
       "      <td>24.0</td>\n",
       "      <td>0.0</td>\n",
       "      <td>10.0</td>\n",
       "      <td>0.0</td>\n",
       "      <td>1</td>\n",
       "      <td>5</td>\n",
       "      <td>110</td>\n",
       "      <td>34.0</td>\n",
       "    </tr>\n",
       "    <tr>\n",
       "      <th>178</th>\n",
       "      <td>178</td>\n",
       "      <td>21.0</td>\n",
       "      <td>0.0</td>\n",
       "      <td>10.0</td>\n",
       "      <td>0.0</td>\n",
       "      <td>3</td>\n",
       "      <td>5</td>\n",
       "      <td>9</td>\n",
       "      <td>30.0</td>\n",
       "    </tr>\n",
       "    <tr>\n",
       "      <th>209</th>\n",
       "      <td>209</td>\n",
       "      <td>9.0</td>\n",
       "      <td>0.0</td>\n",
       "      <td>10.0</td>\n",
       "      <td>1.0</td>\n",
       "      <td>3</td>\n",
       "      <td>5</td>\n",
       "      <td>40</td>\n",
       "      <td>19.0</td>\n",
       "    </tr>\n",
       "    <tr>\n",
       "      <th>...</th>\n",
       "      <td>...</td>\n",
       "      <td>...</td>\n",
       "      <td>...</td>\n",
       "      <td>...</td>\n",
       "      <td>...</td>\n",
       "      <td>...</td>\n",
       "      <td>...</td>\n",
       "      <td>...</td>\n",
       "      <td>...</td>\n",
       "    </tr>\n",
       "    <tr>\n",
       "      <th>4741</th>\n",
       "      <td>4741</td>\n",
       "      <td>10.0</td>\n",
       "      <td>0.0</td>\n",
       "      <td>10.0</td>\n",
       "      <td>1.0</td>\n",
       "      <td>88</td>\n",
       "      <td>5</td>\n",
       "      <td>180</td>\n",
       "      <td>20.0</td>\n",
       "    </tr>\n",
       "    <tr>\n",
       "      <th>4760</th>\n",
       "      <td>4760</td>\n",
       "      <td>22.0</td>\n",
       "      <td>0.0</td>\n",
       "      <td>10.0</td>\n",
       "      <td>0.0</td>\n",
       "      <td>98</td>\n",
       "      <td>5</td>\n",
       "      <td>9</td>\n",
       "      <td>31.0</td>\n",
       "    </tr>\n",
       "    <tr>\n",
       "      <th>4792</th>\n",
       "      <td>4792</td>\n",
       "      <td>8.0</td>\n",
       "      <td>0.0</td>\n",
       "      <td>10.0</td>\n",
       "      <td>1.0</td>\n",
       "      <td>98</td>\n",
       "      <td>5</td>\n",
       "      <td>41</td>\n",
       "      <td>18.0</td>\n",
       "    </tr>\n",
       "    <tr>\n",
       "      <th>4852</th>\n",
       "      <td>4852</td>\n",
       "      <td>23.0</td>\n",
       "      <td>0.0</td>\n",
       "      <td>10.0</td>\n",
       "      <td>0.0</td>\n",
       "      <td>98</td>\n",
       "      <td>5</td>\n",
       "      <td>101</td>\n",
       "      <td>33.0</td>\n",
       "    </tr>\n",
       "    <tr>\n",
       "      <th>4885</th>\n",
       "      <td>4885</td>\n",
       "      <td>35.0</td>\n",
       "      <td>0.0</td>\n",
       "      <td>10.0</td>\n",
       "      <td>0.0</td>\n",
       "      <td>98</td>\n",
       "      <td>5</td>\n",
       "      <td>134</td>\n",
       "      <td>45.0</td>\n",
       "    </tr>\n",
       "  </tbody>\n",
       "</table>\n",
       "<p>95 rows × 9 columns</p>\n",
       "</div>"
      ],
      "text/plain": [
       "      Unnamed: 0  lap2nextpit  caution_laps  pitage  pit_oncaution  carno  \\\n",
       "9              9         22.0           0.0    10.0            0.0      1   \n",
       "41            41          8.0           0.0    10.0            1.0      1   \n",
       "110          110         24.0           0.0    10.0            0.0      1   \n",
       "178          178         21.0           0.0    10.0            0.0      3   \n",
       "209          209          9.0           0.0    10.0            1.0      3   \n",
       "...          ...          ...           ...     ...            ...    ...   \n",
       "4741        4741         10.0           0.0    10.0            1.0     88   \n",
       "4760        4760         22.0           0.0    10.0            0.0     98   \n",
       "4792        4792          8.0           0.0    10.0            1.0     98   \n",
       "4852        4852         23.0           0.0    10.0            0.0     98   \n",
       "4885        4885         35.0           0.0    10.0            0.0     98   \n",
       "\n",
       "      eid  lap  stint_len  \n",
       "9       5    9       31.0  \n",
       "41      5   41       18.0  \n",
       "110     5  110       34.0  \n",
       "178     5    9       30.0  \n",
       "209     5   40       19.0  \n",
       "...   ...  ...        ...  \n",
       "4741    5  180       20.0  \n",
       "4760    5    9       31.0  \n",
       "4792    5   41       18.0  \n",
       "4852    5  101       33.0  \n",
       "4885    5  134       45.0  \n",
       "\n",
       "[95 rows x 9 columns]"
      ]
     },
     "execution_count": 26,
     "metadata": {},
     "output_type": "execute_result"
    }
   ],
   "source": [
    "df_test[(df_test['caution_laps']==0) & (df_test['pitage']==10)]"
   ]
  },
  {
   "cell_type": "code",
   "execution_count": 27,
   "metadata": {},
   "outputs": [
    {
     "data": {
      "text/html": [
       "<div>\n",
       "<style scoped>\n",
       "    .dataframe tbody tr th:only-of-type {\n",
       "        vertical-align: middle;\n",
       "    }\n",
       "\n",
       "    .dataframe tbody tr th {\n",
       "        vertical-align: top;\n",
       "    }\n",
       "\n",
       "    .dataframe thead th {\n",
       "        text-align: right;\n",
       "    }\n",
       "</style>\n",
       "<table border=\"1\" class=\"dataframe\">\n",
       "  <thead>\n",
       "    <tr style=\"text-align: right;\">\n",
       "      <th></th>\n",
       "      <th>Unnamed: 0</th>\n",
       "      <th>lap2nextpit</th>\n",
       "      <th>caution_laps</th>\n",
       "      <th>pitage</th>\n",
       "      <th>pit_oncaution</th>\n",
       "      <th>carno</th>\n",
       "      <th>eid</th>\n",
       "      <th>lap</th>\n",
       "      <th>stint_len</th>\n",
       "    </tr>\n",
       "  </thead>\n",
       "  <tbody>\n",
       "    <tr>\n",
       "      <th>4570</th>\n",
       "      <td>4570</td>\n",
       "      <td>22.0</td>\n",
       "      <td>0.0</td>\n",
       "      <td>10.0</td>\n",
       "      <td>0.0</td>\n",
       "      <td>88</td>\n",
       "      <td>5</td>\n",
       "      <td>9</td>\n",
       "      <td>31.0</td>\n",
       "    </tr>\n",
       "    <tr>\n",
       "      <th>4602</th>\n",
       "      <td>4602</td>\n",
       "      <td>8.0</td>\n",
       "      <td>0.0</td>\n",
       "      <td>10.0</td>\n",
       "      <td>1.0</td>\n",
       "      <td>88</td>\n",
       "      <td>5</td>\n",
       "      <td>41</td>\n",
       "      <td>18.0</td>\n",
       "    </tr>\n",
       "    <tr>\n",
       "      <th>4663</th>\n",
       "      <td>4663</td>\n",
       "      <td>21.0</td>\n",
       "      <td>0.0</td>\n",
       "      <td>10.0</td>\n",
       "      <td>0.0</td>\n",
       "      <td>88</td>\n",
       "      <td>5</td>\n",
       "      <td>102</td>\n",
       "      <td>31.0</td>\n",
       "    </tr>\n",
       "    <tr>\n",
       "      <th>4694</th>\n",
       "      <td>4694</td>\n",
       "      <td>7.0</td>\n",
       "      <td>0.0</td>\n",
       "      <td>10.0</td>\n",
       "      <td>1.0</td>\n",
       "      <td>88</td>\n",
       "      <td>5</td>\n",
       "      <td>133</td>\n",
       "      <td>17.0</td>\n",
       "    </tr>\n",
       "    <tr>\n",
       "      <th>4741</th>\n",
       "      <td>4741</td>\n",
       "      <td>10.0</td>\n",
       "      <td>0.0</td>\n",
       "      <td>10.0</td>\n",
       "      <td>1.0</td>\n",
       "      <td>88</td>\n",
       "      <td>5</td>\n",
       "      <td>180</td>\n",
       "      <td>20.0</td>\n",
       "    </tr>\n",
       "  </tbody>\n",
       "</table>\n",
       "</div>"
      ],
      "text/plain": [
       "      Unnamed: 0  lap2nextpit  caution_laps  pitage  pit_oncaution  carno  \\\n",
       "4570        4570         22.0           0.0    10.0            0.0     88   \n",
       "4602        4602          8.0           0.0    10.0            1.0     88   \n",
       "4663        4663         21.0           0.0    10.0            0.0     88   \n",
       "4694        4694          7.0           0.0    10.0            1.0     88   \n",
       "4741        4741         10.0           0.0    10.0            1.0     88   \n",
       "\n",
       "      eid  lap  stint_len  \n",
       "4570    5    9       31.0  \n",
       "4602    5   41       18.0  \n",
       "4663    5  102       31.0  \n",
       "4694    5  133       17.0  \n",
       "4741    5  180       20.0  "
      ]
     },
     "execution_count": 27,
     "metadata": {},
     "output_type": "execute_result"
    }
   ],
   "source": [
    "df_test[(df_test['carno']==88) &(df_test['caution_laps']==0) & (df_test['pitage']==10)]"
   ]
  },
  {
   "cell_type": "code",
   "execution_count": null,
   "metadata": {},
   "outputs": [],
   "source": []
  }
 ],
 "metadata": {
  "kernelspec": {
   "display_name": "Python 3",
   "language": "python",
   "name": "python3"
  },
  "language_info": {
   "codemirror_mode": {
    "name": "ipython",
    "version": 3
   },
   "file_extension": ".py",
   "mimetype": "text/x-python",
   "name": "python",
   "nbconvert_exporter": "python",
   "pygments_lexer": "ipython3",
   "version": "3.6.10"
  }
 },
 "nbformat": 4,
 "nbformat_minor": 4
}
