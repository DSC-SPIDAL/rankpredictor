{
 "cells": [
  {
   "cell_type": "markdown",
   "metadata": {},
   "source": [
    "### evaluating the output forecastings\n",
    "\n",
    "output of forecastings format:\n",
    "\n",
    "    carno\tstartlap\tstartrank\tendrank\tdiff\tsign\tpred_endrank\tpred_diff\tpred_sign\tendlap\tpred_endlap\n",
    "      11\t12\t31\t3.0\t5.0\t2.0\t1\t1.0\t-2.0\t-1\t49\t58\n",
    "    \n",
    "refer to:\n",
    "    19.RankNet/stage_model_regressor.ipynb\n",
    "    19.RankNet/RankForecasting-stint-paper-1kpitmodel.ipynb"
   ]
  },
  {
   "cell_type": "code",
   "execution_count": 1,
   "metadata": {},
   "outputs": [
    {
     "name": "stderr",
     "output_type": "stream",
     "text": [
      "INFO:root:Using GPU\n",
      "INFO:root:Using GPU\n",
      "INFO:root:Using GPU\n",
      "INFO:root:Using GPU\n",
      "INFO:root:Using GPU\n"
     ]
    }
   ],
   "source": [
    "%load_ext autoreload\n",
    "%autoreload 2\n",
    "\n",
    "%matplotlib inline\n",
    "import pandas as pd\n",
    "import numpy as np\n",
    "import matplotlib.pyplot as plt\n",
    "import os,sys\n",
    "import mxnet as mx\n",
    "from mxnet import gluon\n",
    "import pickle\n",
    "import json\n",
    "import random\n",
    "import inspect\n",
    "from scipy import stats\n",
    "from sklearn.metrics import mean_squared_error\n",
    "from gluonts.dataset.common import ListDataset\n",
    "from gluonts.dataset.util import to_pandas\n",
    "from pathlib import Path\n",
    "from pandas.plotting import register_matplotlib_converters\n",
    "register_matplotlib_converters()\n",
    "\n",
    "#from indycar.model.stint_predictor_fastrun import *\n",
    "#import indycar.model.stint_simulator as stint\n",
    "#import indycar.model.stint_simulator_shortterm_pitmodel as stint\n",
    "import indycar.model.stint_simulator_paper as stint"
   ]
  },
  {
   "cell_type": "code",
   "execution_count": 2,
   "metadata": {},
   "outputs": [],
   "source": [
    "#straight implementation of prisk\n",
    "def quantile_loss(target, quantile_forecast, q):\n",
    "    return 2.0 * np.nansum(\n",
    "        np.abs(\n",
    "            (quantile_forecast - target)\n",
    "            * ((target <= quantile_forecast) - q)\n",
    "        )\n",
    "    )\n",
    "\n",
    "def abs_target_sum(target): \n",
    "    return np.nansum(np.abs(target)) \n",
    "\n",
    "def prisk(full_samples, full_tss, verbose = False):\n",
    "    \"\"\"\n",
    "    calculate prisk by convert <samples, tss> into gluonts format\n",
    "    \n",
    "    \"\"\"\n",
    "    carlist = full_tss.keys()\n",
    "    tss = []\n",
    "    forecasts = []\n",
    "    forecasts_mean = []\n",
    "    freq = '1min'\n",
    "    start = pd.Timestamp(\"01-01-2019\", freq=freq) \n",
    "\n",
    "    for car in carlist:\n",
    "        testcar = car\n",
    "        fc = SampleForecast(samples = full_samples[testcar][:, 12:], freq=freq, start_date=start + 12)\n",
    "\n",
    "        samples = np.mean(full_samples[testcar][:, 12:], axis =0, keepdims=True)\n",
    "        fc_mean = SampleForecast(samples = samples, freq=freq, start_date=start + 12)\n",
    "\n",
    "        index = pd.date_range(start='2019-01-01 00:00:00', freq = 'T', periods = len(full_tss[testcar]))\n",
    "        ts = pd.DataFrame(index = index, data = full_tss[testcar])    \n",
    "\n",
    "        tss.append(ts)\n",
    "        forecasts.append(fc)\n",
    "        forecasts_mean.append(fc_mean)\n",
    "\n",
    "    evaluator = Evaluator(quantiles=[0.1, 0.5, 0.9]) \n",
    "    agg_metrics, item_metrics = evaluator(iter(tss), iter(forecasts), num_series=len(tss))\n",
    "    if verbose:\n",
    "        print(json.dumps(agg_metrics, indent=4))  \n",
    "    \n",
    "    print(agg_metrics[\"wQuantileLoss[0.1]\"], agg_metrics[\"wQuantileLoss[0.5]\"],agg_metrics[\"wQuantileLoss[0.9]\"])\n",
    "    \n",
    "    return agg_metrics\n",
    "\n",
    "def prisk_direct_bysamples(full_samples, full_tss, quantiles=[0.1,0.5,0.9], startid = 12, verbose=False):\n",
    "    \"\"\"\n",
    "    calculate prisk by <samples, tss> directly (equal to gluonts implementation)\n",
    "    \n",
    "    target: endrank\n",
    "    forecast: pred_endrank\n",
    "    item_id: <carno, startlap>\n",
    "    \"\"\"\n",
    "    \n",
    "    carlist = full_tss.keys()\n",
    "    \n",
    "    prisk = np.zeros((len(carlist), len(quantiles)))\n",
    "    target_sum = np.zeros((len(carlist)))\n",
    "    aggrisk = np.zeros((len(quantiles)))\n",
    "    \n",
    "    for carid, carno in enumerate(carlist):\n",
    "\n",
    "        # for this car\n",
    "        forecast = full_samples[carno]\n",
    "        target = full_tss[carno]\n",
    "        \n",
    "        #calc quantiles\n",
    "        # len(quantiles) x 1\n",
    "        quantile_forecasts = np.quantile(forecast, quantiles, axis=0)\n",
    "        \n",
    "        for idx, q in enumerate(quantiles):\n",
    "            q_forecast = quantile_forecasts[idx]\n",
    "            prisk[carid, idx] = quantile_loss(target[startid:], q_forecast[startid:], q)\n",
    "            target_sum[carid] = abs_target_sum(target[startid:])\n",
    "            \n",
    "        if verbose==True and carno==3:\n",
    "            print('target:', target[startid:])\n",
    "            print('forecast:', q_forecast[startid:])\n",
    "            print('target_sum:', target_sum[carid])\n",
    "            \n",
    "            print('quantile_forecasts:', quantile_forecasts[:,startid:])\n",
    "        \n",
    "    #agg\n",
    "    #aggrisk = np.mean(prisk, axis=0)\n",
    "    prisk_sum = np.nansum(prisk, axis=0)\n",
    "    if verbose==True:\n",
    "        print('prisk:',prisk)\n",
    "        print('prisk_sum:',prisk_sum)\n",
    "        print('target_sum:',target_sum)\n",
    "    for idx, q in enumerate(quantiles):\n",
    "        aggrisk[idx] = np.divide(prisk_sum[idx], np.sum(target_sum))\n",
    "    \n",
    "    agg_metrics = {}\n",
    "    for idx, q in enumerate(quantiles):\n",
    "        agg_metrics[f'wQuantileLoss[{q}]'] = aggrisk[idx]\n",
    "        \n",
    "    print(agg_metrics.values())\n",
    "    \n",
    "    return agg_metrics, aggrisk\n",
    "\n",
    "def df2samples(dfall, prediction_len=2, samplecnt=1):\n",
    "    \"\"\"\n",
    "    convert a df into <samples, tss> format\n",
    "    \n",
    "    this version works for the output of ml modles which contains only 1 sample\n",
    "    \"\"\"\n",
    "    carlist = set(dfall.carno.values)\n",
    "    full_samples = {}\n",
    "    full_tss = {}\n",
    "\n",
    "    startlaps = {}\n",
    "    for car in carlist:\n",
    "        startlaps[car] = set(dfall[dfall['carno']==car].startlap.values)\n",
    "        \n",
    "    #empty samples\n",
    "    for carid, carno in enumerate(carlist):\n",
    "        full_tss[carno] = np.zeros((200))\n",
    "        full_tss[carno][:] = np.nan\n",
    "        full_samples[carno] = np.zeros((samplecnt,200))\n",
    "        full_samples[carno][:] = np.nan\n",
    "        \n",
    "        for startlap in startlaps[carno]:\n",
    "            dfrec = dfall[(dfall['carno']==carno) & (dfall['startlap']==startlap)]\n",
    "            \n",
    "            curlap = int(dfrec.startlap.values[0] + prediction_len)\n",
    "            target = dfrec.endrank.values[0]\n",
    "            forecast = dfrec.pred_endrank.values[0]\n",
    "            \n",
    "            for idx in range(samplecnt):\n",
    "                full_samples[carno][idx,curlap] = forecast\n",
    "                \n",
    "            full_tss[carno][curlap] = target\n",
    "    \n",
    "    return full_samples, full_tss\n",
    "            \n",
    "def df2samples(dfall, prediction_len=2, samplecnt=1):\n",
    "    \"\"\"\n",
    "    convert a df into <samples, tss> format\n",
    "    \n",
    "    this version works for the output of ml modles which contains only 1 sample\n",
    "    \"\"\"\n",
    "    carlist = set(dfall.carno.values)\n",
    "    full_samples = {}\n",
    "    full_tss = {}\n",
    "\n",
    "    startlaps = {}\n",
    "    for car in carlist:\n",
    "        startlaps[car] = set(dfall[dfall['carno']==car].startlap.values)\n",
    "        \n",
    "    #empty samples\n",
    "    for carid, carno in enumerate(carlist):\n",
    "        full_tss[carno] = np.zeros((200))\n",
    "        full_tss[carno][:] = np.nan\n",
    "        full_samples[carno] = np.zeros((samplecnt,200))\n",
    "        full_samples[carno][:] = np.nan\n",
    "        \n",
    "        for startlap in startlaps[carno]:\n",
    "            dfrec = dfall[(dfall['carno']==carno) & (dfall['startlap']==startlap)]\n",
    "            \n",
    "            curlap = int(dfrec.startlap.values[0] + prediction_len)\n",
    "            target = dfrec.endrank.values[0]\n",
    "            forecast = dfrec.pred_endrank.values[0]\n",
    "            \n",
    "            for idx in range(samplecnt):\n",
    "                full_samples[carno][idx,curlap] = forecast\n",
    "                \n",
    "            full_tss[carno][curlap] = target\n",
    "    \n",
    "    return full_samples, full_tss\n",
    "    \n",
    "    \n",
    "def runs2samples(runret, errlist):\n",
    "    \"\"\"\n",
    "    for stint results only\n",
    "    \n",
    "    get samples from the runs\n",
    "    \n",
    "    input:\n",
    "        runret  ; list of result df <carno,startlap,startrank,endrank,diff,sign,pred_endrank,pred_diff,pred_sign,endlap,pred_endlap>\n",
    "        errlist ; <car, startlap> list\n",
    "    return:\n",
    "        samples, tss\n",
    "    \"\"\"\n",
    "    samplecnt = len(runret)\n",
    "    carlist = set(runret[0].carno.values)\n",
    "    full_samples = {}\n",
    "    full_tss = {}\n",
    "    \n",
    "    #concat all dfs\n",
    "    dfall = pd.concat(runret)\n",
    "    \n",
    "    \n",
    "    startlaps = {}\n",
    "    for car in carlist:\n",
    "        startlaps[car] = set(dfall[dfall['carno']==car].startlap.values)\n",
    "        \n",
    "    #empty samples\n",
    "    for carid, carno in enumerate(carlist):\n",
    "        full_tss[carno] = np.zeros((200))\n",
    "        full_tss[carno][:] = np.nan\n",
    "        full_samples[carno] = np.zeros((samplecnt,200))\n",
    "        full_samples[carno][:] = np.nan\n",
    "        \n",
    "        for startlap in startlaps[carno]:\n",
    "            \n",
    "            thisrec = [carno,startlap]\n",
    "            if thisrec in errlist:\n",
    "                continue\n",
    "            \n",
    "            dfrec = dfall[(dfall['carno']==carno) & (dfall['startlap']==startlap)]\n",
    "            \n",
    "            curlap = int(dfrec.startlap.values[0])\n",
    "            target = dfrec.endrank.values[0]\n",
    "            forecast = dfrec.pred_endrank.to_numpy()\n",
    "            \n",
    "            #if carno==12:\n",
    "            #    print('forecast.shape', forecast.shape)\n",
    "            \n",
    "            full_samples[carno][:,curlap] = forecast\n",
    "                \n",
    "            full_tss[carno][curlap] = target\n",
    "    \n",
    "    return full_samples, full_tss    \n",
    "\n",
    "\n",
    "\n",
    "def runs2samples_ex(runret, errlist):\n",
    "    \"\"\"\n",
    "    for stint results only\n",
    "    \n",
    "    get samples from the runs\n",
    "    \n",
    "    input:\n",
    "        runret  ; list of result df <carno,startlap,startrank,endrank,diff,sign,pred_endrank,pred_diff,pred_sign,endlap,pred_endlap>\n",
    "        errlist ; <car, startlap> list\n",
    "    return:\n",
    "        samples, tss\n",
    "    \"\"\"\n",
    "    samplecnt = len(runret)\n",
    "    print('run2samples_ex, samplecnt:', samplecnt)\n",
    "    \n",
    "    full_samples = {}\n",
    "    full_tss = {}\n",
    "    \n",
    "    #concat all dfs\n",
    "    dfs = []\n",
    "    for run in runret:\n",
    "        dfs.append(runret[run][0])\n",
    "    dfall = pd.concat(dfs)\n",
    "    \n",
    "    carlist = set(dfall.carno.values)\n",
    "    \n",
    "    startlaps = {}\n",
    "    for car in carlist:\n",
    "        startlaps[car] = set(dfall[dfall['carno']==car].startlap.values)\n",
    "        \n",
    "    #empty samples\n",
    "    for carid, carno in enumerate(carlist):\n",
    "        full_tss[carno] = np.zeros((200))\n",
    "        full_tss[carno][:] = np.nan\n",
    "        full_samples[carno] = np.zeros((samplecnt,200))\n",
    "        full_samples[carno][:] = np.nan\n",
    "        \n",
    "        for startlap in startlaps[carno]:\n",
    "            \n",
    "            thisrec = [carno,startlap]\n",
    "            if thisrec in errlist:\n",
    "                continue\n",
    "            \n",
    "            dfrec = dfall[(dfall['carno']==carno) & (dfall['startlap']==startlap)]\n",
    "            \n",
    "            curlap = int(dfrec.startlap.values[0])\n",
    "            target = dfrec.endrank.values[0]\n",
    "            forecast = dfrec.pred_endrank.to_numpy()\n",
    "            \n",
    "            #if carno==12:\n",
    "            #    print('forecast.shape', forecast.shape)\n",
    "            \n",
    "            full_samples[carno][:,curlap] = forecast\n",
    "                \n",
    "            full_tss[carno][curlap] = target\n",
    "    \n",
    "    return full_samples, full_tss  \n",
    "\n",
    "def df2samples_ex(dfall, samplecnt=100,errlist=[]):\n",
    "    \"\"\"\n",
    "    for stint results only\n",
    "    \n",
    "    get samples from the runs\n",
    "    \n",
    "    input:\n",
    "        runret  ; list of result df <carno,startlap,startrank,endrank,diff,sign,pred_endrank,pred_diff,pred_sign,endlap,pred_endlap>\n",
    "        errlist ; <car, startlap> list\n",
    "    return:\n",
    "        samples, tss\n",
    "    \"\"\"\n",
    "    #samplecnt = len(runret)\n",
    "    full_samples = {}\n",
    "    full_tss = {}\n",
    "    \n",
    "    carlist = set(dfall.carno.values)\n",
    "    \n",
    "    startlaps = {}\n",
    "    for car in carlist:\n",
    "        startlaps[car] = set(dfall[dfall['carno']==car].startlap.values)\n",
    "        \n",
    "    #empty samples\n",
    "    for carid, carno in enumerate(carlist):\n",
    "        full_tss[carno] = np.zeros((200))\n",
    "        full_tss[carno][:] = np.nan\n",
    "        full_samples[carno] = np.zeros((samplecnt,200))\n",
    "        full_samples[carno][:] = np.nan\n",
    "        \n",
    "        for startlap in startlaps[carno]:\n",
    "            \n",
    "            thisrec = [carno,startlap]\n",
    "            if thisrec in errlist:\n",
    "                continue\n",
    "            \n",
    "            dfrec = dfall[(dfall['carno']==carno) & (dfall['startlap']==startlap)]\n",
    "            \n",
    "            curlap = int(dfrec.startlap.values[0])\n",
    "            target = dfrec.endrank.values[0]\n",
    "            forecast = dfrec.pred_endrank.to_numpy()\n",
    "            \n",
    "            #if carno==12:\n",
    "            #    print('forecast.shape', forecast.shape)\n",
    "            \n",
    "            full_samples[carno][:,curlap] = forecast\n",
    "                \n",
    "            full_tss[carno][curlap] = target\n",
    "    \n",
    "    return full_samples, full_tss   "
   ]
  },
  {
   "cell_type": "code",
   "execution_count": 3,
   "metadata": {},
   "outputs": [],
   "source": [
    "\n",
    "#\n",
    "# following functions works for short-term results only\n",
    "# \n",
    "\n",
    "#def get_allsamples(year=2018, model='pitmodel'):\n",
    "def get_allsamples_ex(dfx):\n",
    "    \"\"\"\n",
    "    dfx is the results of multiple runs, ret of test_model call\n",
    "    dfx[runid] -> < df, samples, tss>\n",
    "    \"\"\"\n",
    "    runs = list(dfx.keys())\n",
    "    runcnt = len(runs)\n",
    "    \n",
    "    full_samples = {}\n",
    "    full_tss = dfx[runs[0]][2]\n",
    "    carlist = list(full_tss.keys())\n",
    "    samplecnt, lapcnt = dfx[runs[0]][1][carlist[0]].shape\n",
    "    \n",
    "    print('sacmplecnt:', samplecnt, 'lapcnt:',lapcnt,'runcnt:', runcnt)\n",
    "    \n",
    "    #empty samples\n",
    "    for carid, carno in enumerate(carlist):\n",
    "        full_samples[carno] = np.zeros((runcnt, lapcnt))\n",
    "    \n",
    "    for runid in runs:\n",
    "        #one run\n",
    "        tss = dfx[runid][2]\n",
    "        forecast = dfx[runid][1]\n",
    "        \n",
    "        for carid, carno in enumerate(carlist):\n",
    "            #get mean for this run\n",
    "            forecast_mean = np.nanmean(forecast[carno], axis=0)\n",
    "            full_samples[carno][runid, :] = forecast_mean\n",
    "            \n",
    "            #if carno==3 and runid == 0:\n",
    "            #    print('forecast:',forecast_mean)\n",
    "            \n",
    "    return full_samples, full_tss\n",
    "\n",
    "   \n",
    "def get_allsamples(year=2018, model='pitmodel'):    \n",
    "    dfx = ret[f'{model}-RANK-{year}-inlap-nopitage']\n",
    "    return get_allsamples_ex(dfx)\n",
    "\n",
    "def do_rerank(dfout, short=True):\n",
    "    \"\"\"\n",
    "    carno','startlap','startrank','endrank','diff','sign','pred_endrank','pred_diff','pred_sign','endlap','pred_endlap\n",
    "    \n",
    "    output of prediction of target can be float\n",
    "    \n",
    "    resort the endrank globally\n",
    "    \n",
    "    \"\"\"\n",
    "    \n",
    "    cols=['carno','startlap','startrank','endrank','diff','sign','pred_endrank','pred_diff','pred_sign','endlap','pred_endlap']\n",
    "    colid={x:id for id,x in enumerate(cols)}\n",
    "    \n",
    "    #df = dfout.sort_values(by=['startlap','carno'])\n",
    "    print('rerank...')\n",
    "    laps = set(dfout.startlap.values)\n",
    "    \n",
    "    dfs = []\n",
    "    for lap in laps:\n",
    "        df = dfout[dfout['startlap']==lap].to_numpy()\n",
    "        \n",
    "        #print('in',df)\n",
    "        \n",
    "        idx = np.argsort(df[:,colid['pred_endrank']], axis=0)\n",
    "        true_rank = np.argsort(idx, axis=0)\n",
    "    \n",
    "        df[:,colid['pred_endrank']] = true_rank\n",
    "        \n",
    "        #reset preds \n",
    "        df[:,colid['pred_diff']] = df[:,colid['pred_endrank']] - df[:,colid['endrank']]\n",
    "\n",
    "        for rec in df:\n",
    "            if rec[colid['pred_diff']] == 0:\n",
    "                rec[colid['pred_sign']] = 0\n",
    "            elif rec[colid['pred_diff']] > 0:\n",
    "                rec[colid['pred_sign']] = 1\n",
    "            else:\n",
    "                rec[colid['pred_sign']] = -1        \n",
    "        \n",
    "        #print('out',df)\n",
    "        if len(dfs) == 0:\n",
    "            dfs = df\n",
    "        else:\n",
    "            dfs = np.vstack((dfs, df))\n",
    "        #dfs.append(df)\n",
    "        #np.vstack(df)\n",
    "        \n",
    "    #dfret = pd.concat(dfs)\n",
    "    #data = np.array(dfs)\n",
    "    if short:\n",
    "        dfret = pd.DataFrame(dfs.astype(int), columns = cols[:-2])\n",
    "    else:\n",
    "        dfret = pd.DataFrame(dfs.astype(int), columns = cols)\n",
    "    return dfret"
   ]
  },
  {
   "cell_type": "code",
   "execution_count": 4,
   "metadata": {},
   "outputs": [],
   "source": [
    "def load_dfout(datafile):\n",
    "    datafile = '../result/22.PaperFinal/' + datafile  \n",
    "    #with open('laptime_rank_timediff_fulltest-oracle-%s.pickle'%year, 'rb') as f:\n",
    "    with open(datafile, 'rb') as f:\n",
    "        # The protocol version used is detected automatically, so we do not\n",
    "        # have to specify it.\n",
    "        dfout = pickle.load(f, encoding='latin1') \n",
    "        \n",
    "        return dfout[0]\n",
    "    \n",
    "def load_dfout_all(datafile):\n",
    "    #with open('laptime_rank_timediff_fulltest-oracle-%s.pickle'%year, 'rb') as f:\n",
    "    datafile = '../result/22.PaperFinal/' + datafile  \n",
    "    with open(datafile, 'rb') as f:\n",
    "        # The protocol version used is detected automatically, so we do not\n",
    "        # have to specify it.\n",
    "        dfout = pickle.load(f, encoding='latin1') \n",
    "        \n",
    "        return dfout"
   ]
  },
  {
   "cell_type": "markdown",
   "metadata": {},
   "source": [
    "## 1. evalute stint restuls"
   ]
  },
  {
   "cell_type": "code",
   "execution_count": 5,
   "metadata": {},
   "outputs": [],
   "source": [
    "### load ml models\n",
    "_trim = 0\n",
    "_include_final = True\n",
    "_include_stintlen = True\n",
    "#_include_stintlen = False\n",
    "include_str = '1' if _include_final else '0'\n",
    "stint_str = '1' if _include_stintlen else ''\n",
    "#outfile=f'stint-dfout-mlmodels-indy500-tr2013_2017-te2018_2019-end{include_str}-normal-t{_trim}.pickle'\n",
    "#preddf = load_dfout(outfile)\n",
    "#outfile=f'stint-dfout-mlmodels-indy500-tr2013_2017-te2018_2019-end{include_str}-oracle-t{_trim}.pickle'\n",
    "#preddf_oracle = load_dfout(outfile)"
   ]
  },
  {
   "cell_type": "code",
   "execution_count": 6,
   "metadata": {},
   "outputs": [],
   "source": [
    "#outfile=f'stint-dfout-mlmodels-indy500-tr2013_2017-te2018_2019-end{include_str}-normal-t{_trim}-newtry-tuned.pickle'\n",
    "#preddf = load_dfout(outfile)\n",
    "#outfile=f'stint-dfout-mlmodels-indy500-tr2013_2017-te2018_2019-end{include_str}-oracle-t{_trim}-newtry-tuned.pickle'\n",
    "#preddf_oracle = load_dfout(outfile)"
   ]
  },
  {
   "cell_type": "code",
   "execution_count": 7,
   "metadata": {},
   "outputs": [],
   "source": [
    "outfile=f'stint-dfout-mlmodels-indy500-tr2013_2017-te2018_2019-end{include_str}-normal-t{_trim}-tuned.pickle'\n",
    "preddf = load_dfout(outfile)\n",
    "outfile=f'stint-dfout-mlmodels-indy500-tr2013_2017-te2018_2019-end{include_str}-oracle-t{_trim}-tuned.pickle'\n",
    "preddf_oracle = load_dfout(outfile)"
   ]
  },
  {
   "cell_type": "code",
   "execution_count": 8,
   "metadata": {},
   "outputs": [
    {
     "name": "stdout",
     "output_type": "stream",
     "text": [
      "model: currank\n",
      "model: acc={0.10}, mae={4.10}, rmse={5.50},r2={0.00}, {189}\n",
      "            naive: acc={0.10}, mae={4.10}, rmse={5.50},r2={0.57}\n",
      "model: avgrank\n",
      "model: acc={0.32}, mae={7.21}, rmse={9.38},r2={-1.66}, {189}\n",
      "            naive: acc={0.10}, mae={4.10}, rmse={5.50},r2={0.57}\n",
      "model: dice\n",
      "model: acc={0.38}, mae={6.56}, rmse={8.57},r2={-0.94}, {189}\n",
      "            naive: acc={0.10}, mae={4.10}, rmse={5.50},r2={0.57}\n",
      "model: lasso\n",
      "model: acc={0.57}, mae={3.56}, rmse={4.79},r2={-3.90}, {189}\n",
      "            naive: acc={0.10}, mae={4.10}, rmse={5.50},r2={0.57}\n",
      "model: ridge\n",
      "model: acc={0.59}, mae={3.41}, rmse={4.63},r2={-2.00}, {189}\n",
      "            naive: acc={0.10}, mae={4.10}, rmse={5.50},r2={0.57}\n",
      "model: rf\n",
      "model: acc={0.56}, mae={3.52}, rmse={4.81},r2={-3.89}, {189}\n",
      "            naive: acc={0.10}, mae={4.10}, rmse={5.50},r2={0.57}\n",
      "model: svr_rbf\n",
      "model: acc={0.10}, mae={4.10}, rmse={5.50},r2={0.00}, {189}\n",
      "            naive: acc={0.10}, mae={4.10}, rmse={5.50},r2={0.57}\n",
      "model: svr_lin\n",
      "model: acc={0.60}, mae={3.39}, rmse={4.70},r2={-2.75}, {189}\n",
      "            naive: acc={0.10}, mae={4.10}, rmse={5.50},r2={0.57}\n",
      "model: xgb\n",
      "model: acc={0.49}, mae={4.09}, rmse={5.21},r2={-1.30}, {189}\n",
      "            naive: acc={0.10}, mae={4.10}, rmse={5.50},r2={0.57}\n"
     ]
    }
   ],
   "source": [
    "dfout = preddf['2018']\n",
    "for clf in dfout:\n",
    "    df = dfout[clf]\n",
    "    print('model:', clf)\n",
    "    stint.get_evalret(df)\n"
   ]
  },
  {
   "cell_type": "code",
   "execution_count": 9,
   "metadata": {},
   "outputs": [
    {
     "data": {
      "text/html": [
       "<div>\n",
       "<style scoped>\n",
       "    .dataframe tbody tr th:only-of-type {\n",
       "        vertical-align: middle;\n",
       "    }\n",
       "\n",
       "    .dataframe tbody tr th {\n",
       "        vertical-align: top;\n",
       "    }\n",
       "\n",
       "    .dataframe thead th {\n",
       "        text-align: right;\n",
       "    }\n",
       "</style>\n",
       "<table border=\"1\" class=\"dataframe\">\n",
       "  <thead>\n",
       "    <tr style=\"text-align: right;\">\n",
       "      <th></th>\n",
       "      <th>carno</th>\n",
       "      <th>startlap</th>\n",
       "      <th>startrank</th>\n",
       "      <th>endrank</th>\n",
       "      <th>diff</th>\n",
       "      <th>sign</th>\n",
       "      <th>pred_endrank</th>\n",
       "      <th>pred_diff</th>\n",
       "      <th>pred_sign</th>\n",
       "    </tr>\n",
       "  </thead>\n",
       "  <tbody>\n",
       "    <tr>\n",
       "      <th>39</th>\n",
       "      <td>12</td>\n",
       "      <td>31</td>\n",
       "      <td>3</td>\n",
       "      <td>5</td>\n",
       "      <td>2</td>\n",
       "      <td>1</td>\n",
       "      <td>4</td>\n",
       "      <td>1</td>\n",
       "      <td>1</td>\n",
       "    </tr>\n",
       "    <tr>\n",
       "      <th>40</th>\n",
       "      <td>12</td>\n",
       "      <td>49</td>\n",
       "      <td>5</td>\n",
       "      <td>0</td>\n",
       "      <td>-5</td>\n",
       "      <td>-1</td>\n",
       "      <td>4</td>\n",
       "      <td>-1</td>\n",
       "      <td>-1</td>\n",
       "    </tr>\n",
       "    <tr>\n",
       "      <th>41</th>\n",
       "      <td>12</td>\n",
       "      <td>93</td>\n",
       "      <td>0</td>\n",
       "      <td>1</td>\n",
       "      <td>1</td>\n",
       "      <td>1</td>\n",
       "      <td>3</td>\n",
       "      <td>3</td>\n",
       "      <td>1</td>\n",
       "    </tr>\n",
       "    <tr>\n",
       "      <th>42</th>\n",
       "      <td>12</td>\n",
       "      <td>128</td>\n",
       "      <td>1</td>\n",
       "      <td>7</td>\n",
       "      <td>6</td>\n",
       "      <td>1</td>\n",
       "      <td>3</td>\n",
       "      <td>2</td>\n",
       "      <td>1</td>\n",
       "    </tr>\n",
       "    <tr>\n",
       "      <th>43</th>\n",
       "      <td>12</td>\n",
       "      <td>170</td>\n",
       "      <td>7</td>\n",
       "      <td>0</td>\n",
       "      <td>-7</td>\n",
       "      <td>-1</td>\n",
       "      <td>6</td>\n",
       "      <td>-1</td>\n",
       "      <td>-1</td>\n",
       "    </tr>\n",
       "  </tbody>\n",
       "</table>\n",
       "</div>"
      ],
      "text/plain": [
       "    carno  startlap  startrank  endrank  diff  sign  pred_endrank  pred_diff  \\\n",
       "39     12        31          3        5     2     1             4          1   \n",
       "40     12        49          5        0    -5    -1             4         -1   \n",
       "41     12        93          0        1     1     1             3          3   \n",
       "42     12       128          1        7     6     1             3          2   \n",
       "43     12       170          7        0    -7    -1             6         -1   \n",
       "\n",
       "    pred_sign  \n",
       "39          1  \n",
       "40         -1  \n",
       "41          1  \n",
       "42          1  \n",
       "43         -1  "
      ]
     },
     "execution_count": 9,
     "metadata": {},
     "output_type": "execute_result"
    }
   ],
   "source": [
    "df = preddf['2018']['svr_lin']\n",
    "df[df['carno']==12]"
   ]
  },
  {
   "cell_type": "code",
   "execution_count": 10,
   "metadata": {},
   "outputs": [
    {
     "name": "stdout",
     "output_type": "stream",
     "text": [
      "model: currank\n",
      "model: acc={0.15}, mae={4.29}, rmse={6.46},r2={0.00}, {216}\n",
      "            naive: acc={0.15}, mae={4.29}, rmse={6.46},r2={0.44}\n",
      "model: avgrank\n",
      "model: acc={0.37}, mae={7.93}, rmse={11.07},r2={-1.32}, {216}\n",
      "            naive: acc={0.15}, mae={4.29}, rmse={6.46},r2={0.44}\n",
      "model: dice\n",
      "model: acc={0.48}, mae={6.20}, rmse={8.64},r2={-1.08}, {216}\n",
      "            naive: acc={0.15}, mae={4.29}, rmse={6.46},r2={0.44}\n",
      "model: lasso\n",
      "model: acc={0.51}, mae={4.14}, rmse={5.75},r2={-3.07}, {216}\n",
      "            naive: acc={0.15}, mae={4.29}, rmse={6.46},r2={0.44}\n",
      "model: ridge\n",
      "model: acc={0.51}, mae={4.25}, rmse={5.78},r2={-1.65}, {216}\n",
      "            naive: acc={0.15}, mae={4.29}, rmse={6.46},r2={0.44}\n",
      "model: rf\n",
      "model: acc={0.52}, mae={4.24}, rmse={5.84},r2={-2.67}, {216}\n",
      "            naive: acc={0.15}, mae={4.29}, rmse={6.46},r2={0.44}\n",
      "model: svr_rbf\n",
      "model: acc={0.15}, mae={4.29}, rmse={6.46},r2={0.00}, {216}\n",
      "            naive: acc={0.15}, mae={4.29}, rmse={6.46},r2={0.44}\n",
      "model: svr_lin\n",
      "model: acc={0.52}, mae={4.15}, rmse={5.87},r2={-2.06}, {216}\n",
      "            naive: acc={0.15}, mae={4.29}, rmse={6.46},r2={0.44}\n",
      "model: xgb\n",
      "model: acc={0.46}, mae={4.78}, rmse={6.46},r2={-1.13}, {216}\n",
      "            naive: acc={0.15}, mae={4.29}, rmse={6.46},r2={0.44}\n"
     ]
    }
   ],
   "source": [
    "dfout = preddf['2019']\n",
    "for clf in dfout:\n",
    "    df = dfout[clf]\n",
    "    print('model:', clf)\n",
    "    stint.get_evalret(df)"
   ]
  },
  {
   "cell_type": "code",
   "execution_count": 11,
   "metadata": {},
   "outputs": [],
   "source": [
    "# load ranknet results\n",
    "# outfile=f'stint-dfout-ranknet-indy500-tr2013_2017-te2018_2019-end{include_str}-normal-t{_trim}.pickle'\n",
    "outfile = 'stint-dfout-ranknet-indy500-timediff-noinlap-nopitage-20182019-alldata.pickle'\n",
    "ranknetdf, ranknet_acc, ranknet_ret  = load_dfout(outfile)"
   ]
  },
  {
   "cell_type": "code",
   "execution_count": 12,
   "metadata": {},
   "outputs": [
    {
     "data": {
      "text/plain": [
       "dict_keys(['pitmodel_mode', 'pitmodel_mean', 'pitmodel_median', 'oracle_mode', 'oracle_mean', 'oracle_median'])"
      ]
     },
     "execution_count": 12,
     "metadata": {},
     "output_type": "execute_result"
    }
   ],
   "source": [
    "ranknetdf['2018'].keys()"
   ]
  },
  {
   "cell_type": "code",
   "execution_count": 13,
   "metadata": {},
   "outputs": [
    {
     "data": {
      "text/plain": [
       "10"
      ]
     },
     "execution_count": 13,
     "metadata": {},
     "output_type": "execute_result"
    }
   ],
   "source": [
    "len(ranknet_ret['oracle-TIMEDIFF-2018-noinlap-nopitage'])"
   ]
  },
  {
   "cell_type": "code",
   "execution_count": 14,
   "metadata": {},
   "outputs": [
    {
     "data": {
      "text/html": [
       "<div>\n",
       "<style scoped>\n",
       "    .dataframe tbody tr th:only-of-type {\n",
       "        vertical-align: middle;\n",
       "    }\n",
       "\n",
       "    .dataframe tbody tr th {\n",
       "        vertical-align: top;\n",
       "    }\n",
       "\n",
       "    .dataframe thead th {\n",
       "        text-align: right;\n",
       "    }\n",
       "</style>\n",
       "<table border=\"1\" class=\"dataframe\">\n",
       "  <thead>\n",
       "    <tr style=\"text-align: right;\">\n",
       "      <th></th>\n",
       "      <th>carno</th>\n",
       "      <th>startlap</th>\n",
       "      <th>startrank</th>\n",
       "      <th>endrank</th>\n",
       "      <th>diff</th>\n",
       "      <th>sign</th>\n",
       "      <th>pred_endrank</th>\n",
       "      <th>pred_diff</th>\n",
       "      <th>pred_sign</th>\n",
       "      <th>endlap</th>\n",
       "      <th>pred_endlap</th>\n",
       "    </tr>\n",
       "  </thead>\n",
       "  <tbody>\n",
       "    <tr>\n",
       "      <th>0</th>\n",
       "      <td>13</td>\n",
       "      <td>28</td>\n",
       "      <td>20.0</td>\n",
       "      <td>12.0</td>\n",
       "      <td>-8.0</td>\n",
       "      <td>-1</td>\n",
       "      <td>13.0</td>\n",
       "      <td>-7.0</td>\n",
       "      <td>-1</td>\n",
       "      <td>49</td>\n",
       "      <td>49</td>\n",
       "    </tr>\n",
       "    <tr>\n",
       "      <th>1</th>\n",
       "      <td>14</td>\n",
       "      <td>29</td>\n",
       "      <td>10.0</td>\n",
       "      <td>1.0</td>\n",
       "      <td>-9.0</td>\n",
       "      <td>-1</td>\n",
       "      <td>6.0</td>\n",
       "      <td>-4.0</td>\n",
       "      <td>-1</td>\n",
       "      <td>49</td>\n",
       "      <td>49</td>\n",
       "    </tr>\n",
       "    <tr>\n",
       "      <th>2</th>\n",
       "      <td>59</td>\n",
       "      <td>29</td>\n",
       "      <td>32.0</td>\n",
       "      <td>22.0</td>\n",
       "      <td>-10.0</td>\n",
       "      <td>-1</td>\n",
       "      <td>26.0</td>\n",
       "      <td>-6.0</td>\n",
       "      <td>-1</td>\n",
       "      <td>52</td>\n",
       "      <td>52</td>\n",
       "    </tr>\n",
       "    <tr>\n",
       "      <th>3</th>\n",
       "      <td>3</td>\n",
       "      <td>30</td>\n",
       "      <td>10.0</td>\n",
       "      <td>4.0</td>\n",
       "      <td>-6.0</td>\n",
       "      <td>-1</td>\n",
       "      <td>6.0</td>\n",
       "      <td>-4.0</td>\n",
       "      <td>-1</td>\n",
       "      <td>49</td>\n",
       "      <td>49</td>\n",
       "    </tr>\n",
       "    <tr>\n",
       "      <th>4</th>\n",
       "      <td>20</td>\n",
       "      <td>30</td>\n",
       "      <td>7.0</td>\n",
       "      <td>0.0</td>\n",
       "      <td>-7.0</td>\n",
       "      <td>-1</td>\n",
       "      <td>0.0</td>\n",
       "      <td>-7.0</td>\n",
       "      <td>-1</td>\n",
       "      <td>49</td>\n",
       "      <td>49</td>\n",
       "    </tr>\n",
       "    <tr>\n",
       "      <th>...</th>\n",
       "      <td>...</td>\n",
       "      <td>...</td>\n",
       "      <td>...</td>\n",
       "      <td>...</td>\n",
       "      <td>...</td>\n",
       "      <td>...</td>\n",
       "      <td>...</td>\n",
       "      <td>...</td>\n",
       "      <td>...</td>\n",
       "      <td>...</td>\n",
       "      <td>...</td>\n",
       "    </tr>\n",
       "    <tr>\n",
       "      <th>184</th>\n",
       "      <td>25</td>\n",
       "      <td>195</td>\n",
       "      <td>16.0</td>\n",
       "      <td>14.0</td>\n",
       "      <td>-2.0</td>\n",
       "      <td>-1</td>\n",
       "      <td>15.0</td>\n",
       "      <td>-1.0</td>\n",
       "      <td>-1</td>\n",
       "      <td>199</td>\n",
       "      <td>199</td>\n",
       "    </tr>\n",
       "    <tr>\n",
       "      <th>185</th>\n",
       "      <td>59</td>\n",
       "      <td>195</td>\n",
       "      <td>21.0</td>\n",
       "      <td>21.0</td>\n",
       "      <td>0.0</td>\n",
       "      <td>0</td>\n",
       "      <td>21.0</td>\n",
       "      <td>0.0</td>\n",
       "      <td>0</td>\n",
       "      <td>197</td>\n",
       "      <td>197</td>\n",
       "    </tr>\n",
       "    <tr>\n",
       "      <th>186</th>\n",
       "      <td>60</td>\n",
       "      <td>195</td>\n",
       "      <td>17.0</td>\n",
       "      <td>15.0</td>\n",
       "      <td>-2.0</td>\n",
       "      <td>-1</td>\n",
       "      <td>16.0</td>\n",
       "      <td>-1.0</td>\n",
       "      <td>-1</td>\n",
       "      <td>199</td>\n",
       "      <td>199</td>\n",
       "    </tr>\n",
       "    <tr>\n",
       "      <th>187</th>\n",
       "      <td>19</td>\n",
       "      <td>196</td>\n",
       "      <td>15.0</td>\n",
       "      <td>18.0</td>\n",
       "      <td>3.0</td>\n",
       "      <td>1</td>\n",
       "      <td>17.0</td>\n",
       "      <td>2.0</td>\n",
       "      <td>1</td>\n",
       "      <td>198</td>\n",
       "      <td>198</td>\n",
       "    </tr>\n",
       "    <tr>\n",
       "      <th>188</th>\n",
       "      <td>64</td>\n",
       "      <td>196</td>\n",
       "      <td>14.0</td>\n",
       "      <td>16.0</td>\n",
       "      <td>2.0</td>\n",
       "      <td>1</td>\n",
       "      <td>16.0</td>\n",
       "      <td>2.0</td>\n",
       "      <td>1</td>\n",
       "      <td>199</td>\n",
       "      <td>199</td>\n",
       "    </tr>\n",
       "  </tbody>\n",
       "</table>\n",
       "<p>189 rows × 11 columns</p>\n",
       "</div>"
      ],
      "text/plain": [
       "     carno  startlap  startrank  endrank  diff  sign  pred_endrank  pred_diff  \\\n",
       "0       13        28       20.0     12.0  -8.0    -1          13.0       -7.0   \n",
       "1       14        29       10.0      1.0  -9.0    -1           6.0       -4.0   \n",
       "2       59        29       32.0     22.0 -10.0    -1          26.0       -6.0   \n",
       "3        3        30       10.0      4.0  -6.0    -1           6.0       -4.0   \n",
       "4       20        30        7.0      0.0  -7.0    -1           0.0       -7.0   \n",
       "..     ...       ...        ...      ...   ...   ...           ...        ...   \n",
       "184     25       195       16.0     14.0  -2.0    -1          15.0       -1.0   \n",
       "185     59       195       21.0     21.0   0.0     0          21.0        0.0   \n",
       "186     60       195       17.0     15.0  -2.0    -1          16.0       -1.0   \n",
       "187     19       196       15.0     18.0   3.0     1          17.0        2.0   \n",
       "188     64       196       14.0     16.0   2.0     1          16.0        2.0   \n",
       "\n",
       "     pred_sign  endlap  pred_endlap  \n",
       "0           -1      49           49  \n",
       "1           -1      49           49  \n",
       "2           -1      52           52  \n",
       "3           -1      49           49  \n",
       "4           -1      49           49  \n",
       "..         ...     ...          ...  \n",
       "184         -1     199          199  \n",
       "185          0     197          197  \n",
       "186         -1     199          199  \n",
       "187          1     198          198  \n",
       "188          1     199          199  \n",
       "\n",
       "[189 rows x 11 columns]"
      ]
     },
     "execution_count": 14,
     "metadata": {},
     "output_type": "execute_result"
    }
   ],
   "source": [
    "ranknet_ret['oracle-TIMEDIFF-2018-noinlap-nopitage'][0]"
   ]
  },
  {
   "cell_type": "code",
   "execution_count": 15,
   "metadata": {},
   "outputs": [
    {
     "name": "stdout",
     "output_type": "stream",
     "text": [
      "model: pitmodel_mode\n",
      "model: acc={0.54}, mae={3.95}, rmse={5.73},r2={-1.42}, {189}\n",
      "            naive: acc={0.10}, mae={4.10}, rmse={5.50},r2={0.57}\n",
      "model: pitmodel_mean\n",
      "model: acc={0.67}, mae={3.74}, rmse={5.49},r2={-1.48}, {189}\n",
      "            naive: acc={0.10}, mae={4.10}, rmse={5.50},r2={0.57}\n",
      "model: pitmodel_median\n",
      "model: acc={0.57}, mae={3.81}, rmse={5.60},r2={-1.38}, {189}\n",
      "            naive: acc={0.10}, mae={4.10}, rmse={5.50},r2={0.57}\n",
      "model: oracle_mode\n",
      "model: acc={0.69}, mae={3.29}, rmse={4.94},r2={-0.37}, {189}\n",
      "            naive: acc={0.10}, mae={4.10}, rmse={5.50},r2={0.57}\n",
      "model: oracle_mean\n",
      "model: acc={0.72}, mae={3.22}, rmse={4.84},r2={-0.40}, {189}\n",
      "            naive: acc={0.10}, mae={4.10}, rmse={5.50},r2={0.57}\n",
      "model: oracle_median\n",
      "model: acc={0.70}, mae={3.25}, rmse={4.88},r2={-0.40}, {189}\n",
      "            naive: acc={0.10}, mae={4.10}, rmse={5.50},r2={0.57}\n"
     ]
    }
   ],
   "source": [
    "dfout = ranknetdf['2018']\n",
    "for clf in dfout:\n",
    "    df = dfout[clf]\n",
    "    print('model:', clf)\n",
    "    stint.get_evalret(df)"
   ]
  },
  {
   "cell_type": "code",
   "execution_count": 16,
   "metadata": {},
   "outputs": [
    {
     "name": "stdout",
     "output_type": "stream",
     "text": [
      "model: pitmodel_mode\n",
      "model: acc={0.51}, mae={4.49}, rmse={6.37},r2={-1.23}, {215}\n",
      "            naive: acc={0.16}, mae={4.26}, rmse={6.46},r2={0.43}\n",
      "model: pitmodel_mean\n",
      "model: acc={0.61}, mae={4.36}, rmse={6.17},r2={-0.87}, {215}\n",
      "            naive: acc={0.16}, mae={4.26}, rmse={6.46},r2={0.43}\n",
      "model: pitmodel_median\n",
      "model: acc={0.54}, mae={4.41}, rmse={6.26},r2={-0.97}, {215}\n",
      "            naive: acc={0.16}, mae={4.26}, rmse={6.46},r2={0.43}\n",
      "model: oracle_mode\n",
      "model: acc={0.64}, mae={3.62}, rmse={5.41},r2={-0.08}, {215}\n",
      "            naive: acc={0.16}, mae={4.26}, rmse={6.46},r2={0.43}\n",
      "model: oracle_mean\n",
      "model: acc={0.66}, mae={3.58}, rmse={5.34},r2={-0.11}, {215}\n",
      "            naive: acc={0.16}, mae={4.26}, rmse={6.46},r2={0.43}\n",
      "model: oracle_median\n",
      "model: acc={0.64}, mae={3.58}, rmse={5.35},r2={-0.08}, {215}\n",
      "            naive: acc={0.16}, mae={4.26}, rmse={6.46},r2={0.43}\n"
     ]
    }
   ],
   "source": [
    "dfout = ranknetdf['2019']\n",
    "for clf in dfout:\n",
    "    df = dfout[clf]\n",
    "    print('model:', clf)\n",
    "    stint.get_evalret(df)"
   ]
  },
  {
   "cell_type": "code",
   "execution_count": 17,
   "metadata": {},
   "outputs": [
    {
     "data": {
      "text/html": [
       "<div>\n",
       "<style scoped>\n",
       "    .dataframe tbody tr th:only-of-type {\n",
       "        vertical-align: middle;\n",
       "    }\n",
       "\n",
       "    .dataframe tbody tr th {\n",
       "        vertical-align: top;\n",
       "    }\n",
       "\n",
       "    .dataframe thead th {\n",
       "        text-align: right;\n",
       "    }\n",
       "</style>\n",
       "<table border=\"1\" class=\"dataframe\">\n",
       "  <thead>\n",
       "    <tr style=\"text-align: right;\">\n",
       "      <th></th>\n",
       "      <th>carno</th>\n",
       "      <th>startlap</th>\n",
       "      <th>startrank</th>\n",
       "      <th>endrank</th>\n",
       "      <th>diff</th>\n",
       "      <th>sign</th>\n",
       "      <th>pred_endrank</th>\n",
       "      <th>pred_diff</th>\n",
       "      <th>pred_sign</th>\n",
       "      <th>endlap</th>\n",
       "      <th>pred_endlap</th>\n",
       "    </tr>\n",
       "  </thead>\n",
       "  <tbody>\n",
       "    <tr>\n",
       "      <th>0</th>\n",
       "      <td>1.0</td>\n",
       "      <td>100.0</td>\n",
       "      <td>8.0</td>\n",
       "      <td>7.0</td>\n",
       "      <td>-1.0</td>\n",
       "      <td>-1.0</td>\n",
       "      <td>10.75</td>\n",
       "      <td>2.75</td>\n",
       "      <td>1.0</td>\n",
       "      <td>134.0</td>\n",
       "      <td>126.0</td>\n",
       "    </tr>\n",
       "    <tr>\n",
       "      <th>1</th>\n",
       "      <td>1.0</td>\n",
       "      <td>69.0</td>\n",
       "      <td>8.0</td>\n",
       "      <td>8.0</td>\n",
       "      <td>0.0</td>\n",
       "      <td>0.0</td>\n",
       "      <td>5.98</td>\n",
       "      <td>-2.02</td>\n",
       "      <td>-1.0</td>\n",
       "      <td>100.0</td>\n",
       "      <td>97.0</td>\n",
       "    </tr>\n",
       "    <tr>\n",
       "      <th>2</th>\n",
       "      <td>1.0</td>\n",
       "      <td>134.0</td>\n",
       "      <td>7.0</td>\n",
       "      <td>16.0</td>\n",
       "      <td>9.0</td>\n",
       "      <td>1.0</td>\n",
       "      <td>7.45</td>\n",
       "      <td>0.45</td>\n",
       "      <td>1.0</td>\n",
       "      <td>169.0</td>\n",
       "      <td>164.0</td>\n",
       "    </tr>\n",
       "    <tr>\n",
       "      <th>3</th>\n",
       "      <td>1.0</td>\n",
       "      <td>169.0</td>\n",
       "      <td>16.0</td>\n",
       "      <td>7.0</td>\n",
       "      <td>-9.0</td>\n",
       "      <td>-1.0</td>\n",
       "      <td>14.81</td>\n",
       "      <td>-1.19</td>\n",
       "      <td>-1.0</td>\n",
       "      <td>199.0</td>\n",
       "      <td>198.0</td>\n",
       "    </tr>\n",
       "    <tr>\n",
       "      <th>4</th>\n",
       "      <td>1.0</td>\n",
       "      <td>49.0</td>\n",
       "      <td>2.0</td>\n",
       "      <td>8.0</td>\n",
       "      <td>6.0</td>\n",
       "      <td>1.0</td>\n",
       "      <td>5.17</td>\n",
       "      <td>3.17</td>\n",
       "      <td>1.0</td>\n",
       "      <td>69.0</td>\n",
       "      <td>84.0</td>\n",
       "    </tr>\n",
       "    <tr>\n",
       "      <th>...</th>\n",
       "      <td>...</td>\n",
       "      <td>...</td>\n",
       "      <td>...</td>\n",
       "      <td>...</td>\n",
       "      <td>...</td>\n",
       "      <td>...</td>\n",
       "      <td>...</td>\n",
       "      <td>...</td>\n",
       "      <td>...</td>\n",
       "      <td>...</td>\n",
       "      <td>...</td>\n",
       "    </tr>\n",
       "    <tr>\n",
       "      <th>184</th>\n",
       "      <td>98.0</td>\n",
       "      <td>169.0</td>\n",
       "      <td>13.0</td>\n",
       "      <td>11.0</td>\n",
       "      <td>-2.0</td>\n",
       "      <td>-1.0</td>\n",
       "      <td>11.81</td>\n",
       "      <td>-1.19</td>\n",
       "      <td>-1.0</td>\n",
       "      <td>199.0</td>\n",
       "      <td>199.0</td>\n",
       "    </tr>\n",
       "    <tr>\n",
       "      <th>185</th>\n",
       "      <td>98.0</td>\n",
       "      <td>49.0</td>\n",
       "      <td>9.0</td>\n",
       "      <td>14.0</td>\n",
       "      <td>5.0</td>\n",
       "      <td>1.0</td>\n",
       "      <td>9.26</td>\n",
       "      <td>0.26</td>\n",
       "      <td>1.0</td>\n",
       "      <td>91.0</td>\n",
       "      <td>78.0</td>\n",
       "    </tr>\n",
       "    <tr>\n",
       "      <th>186</th>\n",
       "      <td>98.0</td>\n",
       "      <td>91.0</td>\n",
       "      <td>14.0</td>\n",
       "      <td>9.0</td>\n",
       "      <td>-5.0</td>\n",
       "      <td>-1.0</td>\n",
       "      <td>17.33</td>\n",
       "      <td>3.33</td>\n",
       "      <td>1.0</td>\n",
       "      <td>124.0</td>\n",
       "      <td>116.0</td>\n",
       "    </tr>\n",
       "    <tr>\n",
       "      <th>187</th>\n",
       "      <td>98.0</td>\n",
       "      <td>124.0</td>\n",
       "      <td>9.0</td>\n",
       "      <td>13.0</td>\n",
       "      <td>4.0</td>\n",
       "      <td>1.0</td>\n",
       "      <td>10.90</td>\n",
       "      <td>1.90</td>\n",
       "      <td>1.0</td>\n",
       "      <td>169.0</td>\n",
       "      <td>155.0</td>\n",
       "    </tr>\n",
       "    <tr>\n",
       "      <th>188</th>\n",
       "      <td>98.0</td>\n",
       "      <td>31.0</td>\n",
       "      <td>6.0</td>\n",
       "      <td>9.0</td>\n",
       "      <td>3.0</td>\n",
       "      <td>1.0</td>\n",
       "      <td>8.63</td>\n",
       "      <td>2.63</td>\n",
       "      <td>1.0</td>\n",
       "      <td>49.0</td>\n",
       "      <td>61.0</td>\n",
       "    </tr>\n",
       "  </tbody>\n",
       "</table>\n",
       "<p>189 rows × 11 columns</p>\n",
       "</div>"
      ],
      "text/plain": [
       "     carno  startlap  startrank  endrank  diff  sign  pred_endrank  pred_diff  \\\n",
       "0      1.0     100.0        8.0      7.0  -1.0  -1.0         10.75       2.75   \n",
       "1      1.0      69.0        8.0      8.0   0.0   0.0          5.98      -2.02   \n",
       "2      1.0     134.0        7.0     16.0   9.0   1.0          7.45       0.45   \n",
       "3      1.0     169.0       16.0      7.0  -9.0  -1.0         14.81      -1.19   \n",
       "4      1.0      49.0        2.0      8.0   6.0   1.0          5.17       3.17   \n",
       "..     ...       ...        ...      ...   ...   ...           ...        ...   \n",
       "184   98.0     169.0       13.0     11.0  -2.0  -1.0         11.81      -1.19   \n",
       "185   98.0      49.0        9.0     14.0   5.0   1.0          9.26       0.26   \n",
       "186   98.0      91.0       14.0      9.0  -5.0  -1.0         17.33       3.33   \n",
       "187   98.0     124.0        9.0     13.0   4.0   1.0         10.90       1.90   \n",
       "188   98.0      31.0        6.0      9.0   3.0   1.0          8.63       2.63   \n",
       "\n",
       "     pred_sign  endlap  pred_endlap  \n",
       "0          1.0   134.0        126.0  \n",
       "1         -1.0   100.0         97.0  \n",
       "2          1.0   169.0        164.0  \n",
       "3         -1.0   199.0        198.0  \n",
       "4          1.0    69.0         84.0  \n",
       "..         ...     ...          ...  \n",
       "184       -1.0   199.0        199.0  \n",
       "185        1.0    91.0         78.0  \n",
       "186        1.0   124.0        116.0  \n",
       "187        1.0   169.0        155.0  \n",
       "188        1.0    49.0         61.0  \n",
       "\n",
       "[189 rows x 11 columns]"
      ]
     },
     "execution_count": 17,
     "metadata": {},
     "output_type": "execute_result"
    }
   ],
   "source": [
    "ranknetdf['2018']['pitmodel_mean']"
   ]
  },
  {
   "cell_type": "code",
   "execution_count": 18,
   "metadata": {},
   "outputs": [
    {
     "name": "stdout",
     "output_type": "stream",
     "text": [
      "rerank...\n",
      "model: acc={0.49}, mae={14.27}, rmse={16.83},r2={-3.43}, {189}\n",
      "            naive: acc={0.10}, mae={4.10}, rmse={5.50},r2={0.57}\n"
     ]
    },
    {
     "data": {
      "text/plain": [
       "array([[ 0.48677249, 14.26984127, 16.83046494, -3.43386337],\n",
       "       [ 0.1005291 ,  4.1005291 ,  5.50276506,  0.57198262]])"
      ]
     },
     "execution_count": 18,
     "metadata": {},
     "output_type": "execute_result"
    }
   ],
   "source": [
    "### stint result, just cannot do rerank, \n",
    "### instead use int()\n",
    "df = do_rerank(ranknetdf['2018']['pitmodel_mean'],short=False)\n",
    "stint.get_evalret(df)"
   ]
  },
  {
   "cell_type": "markdown",
   "metadata": {},
   "source": [
    "### sync with the dataset"
   ]
  },
  {
   "cell_type": "code",
   "execution_count": 19,
   "metadata": {},
   "outputs": [],
   "source": [
    "def eval_bydf(testdf, bydf, forcematch=True, force2int=False):\n",
    "    #collect only records in bydf <carno and startlap>\n",
    "    cars = set(bydf.carno.values)\n",
    "    startlaps = {}\n",
    "    for car in cars:\n",
    "        startlaps[car] = set(bydf[bydf['carno']==car].startlap.values)\n",
    "        \n",
    "    retdf = []\n",
    "    for car in cars:\n",
    "        for startlap in startlaps[car]:    \n",
    "            dfrec = testdf[(testdf['carno']==car) & (testdf['startlap']==startlap)]\n",
    "            \n",
    "            #check match\n",
    "            if forcematch:\n",
    "                a = testdf[(testdf['carno']==car) & (testdf['startlap']==startlap)].to_numpy().astype(int)\n",
    "                b = bydf[(bydf['carno']==car) & (bydf['startlap']==startlap)].to_numpy().astype(int)\n",
    "\n",
    "                if len(a)!=0 and len(b)!=0:\n",
    "                    #compare \n",
    "                    #startrank, endrank\n",
    "                    if not ((a[0][2] == b[0][2]) and (a[0][3] == b[0][3])):\n",
    "                        #print('mismatch:', a, b)            \n",
    "                        continue\n",
    "            \n",
    "            retdf.append(dfrec)\n",
    "        \n",
    "    dfout = pd.concat(retdf)\n",
    "    \n",
    "    if force2int:\n",
    "        dfdata = dfout.to_numpy().astype(int)\n",
    "        dfout = pd.DataFrame(dfdata, columns =['carno', 'startlap', 'startrank',    \n",
    "                                         'endrank', 'diff', 'sign',\n",
    "                                         'pred_endrank', 'pred_diff', 'pred_sign',\n",
    "                                         'endlap','pred_endlap'\n",
    "                                        ])\n",
    "    \n",
    "    dfout = dfout.sort_values(by=['carno','startlap'])\n",
    "    \n",
    "    print('df size:', len(dfout))\n",
    "    #return acc\n",
    "    accret = stint.get_evalret(dfout)[0]\n",
    "    \n",
    "    return dfout  , accret\n",
    "\n",
    "\n",
    "def eval_sync(testdf, errlist, force2int=False):\n",
    "    \"\"\"\n",
    "    eval df result by sync with the errlist detected\n",
    "    remove the records in errlist\n",
    "    \n",
    "    \"\"\"\n",
    "    #collect only records in bydf <carno and startlap>\n",
    "    cars = set(testdf.carno.values)\n",
    "    startlaps = {}\n",
    "    for car in cars:\n",
    "        startlaps[car] = set(testdf[testdf['carno']==car].startlap.values)\n",
    "        \n",
    "    retdf = []\n",
    "    for car in cars:\n",
    "        for startlap in startlaps[car]:    \n",
    "            dfrec = testdf[(testdf['carno']==car) & (testdf['startlap']==startlap)]\n",
    "            \n",
    "            #check match\n",
    "            this_rec = [car, startlap]\n",
    "            if this_rec in errlist:\n",
    "                continue\n",
    "            \n",
    "            retdf.append(dfrec)\n",
    "        \n",
    "    dfout = pd.concat(retdf)\n",
    "    \n",
    "    if force2int:\n",
    "        dfdata = dfout.to_numpy().astype(int)\n",
    "        dfout = pd.DataFrame(dfdata, columns =['carno', 'startlap', 'startrank',    \n",
    "                                         'endrank', 'diff', 'sign',\n",
    "                                         'pred_endrank', 'pred_diff', 'pred_sign',\n",
    "                                         'endlap','pred_endlap'\n",
    "                                        ])\n",
    "    \n",
    "    dfout = dfout.sort_values(by=['carno','startlap'])\n",
    "    \n",
    "    print('df size:', len(dfout))\n",
    "    #return acc\n",
    "    accret = stint.get_evalret(dfout)[0]\n",
    "    \n",
    "    return dfout  , accret\n",
    "\n",
    "def cmp_df(testdf, bydf):\n",
    "    \"\"\"\n",
    "    df can be different, minor difference for the rank when RankNet removes short ts\n",
    "    \"\"\"\n",
    "    #collect only records in bydf <carno and startlap>\n",
    "    cars = set(bydf.carno.values)\n",
    "    startlaps = {}\n",
    "    for car in cars:\n",
    "        startlaps[car] = set(bydf[bydf['carno']==car].startlap.values)\n",
    "        \n",
    "    err_list = []\n",
    "    retdf = []\n",
    "    errcnt = 0\n",
    "    for car in cars:\n",
    "        for startlap in startlaps[car]:    \n",
    "            a = testdf[(testdf['carno']==car) & (testdf['startlap']==startlap)].to_numpy().astype(int)\n",
    "            b = bydf[(bydf['carno']==car) & (bydf['startlap']==startlap)].to_numpy().astype(int)\n",
    "            \n",
    "            if len(a)!=0 and len(b)!=0:\n",
    "                #compare \n",
    "                #startrank, endrank\n",
    "                if not ((a[0][2] == b[0][2]) and (a[0][3] == b[0][3])):\n",
    "                    print('mismatch:', a, b)\n",
    "                    errcnt += 1\n",
    "                    err_list.append([car, startlap])\n",
    "            else:\n",
    "                errcnt += 1\n",
    "                print('mismatch empty:', a, b)\n",
    "                err_list.append([car, startlap])\n",
    "                \n",
    "                \n",
    "    print('errcnt:', errcnt)\n",
    "    return errcnt, err_list"
   ]
  },
  {
   "cell_type": "markdown",
   "metadata": {},
   "source": [
    "#### problem of df mismatch"
   ]
  },
  {
   "cell_type": "code",
   "execution_count": 20,
   "metadata": {},
   "outputs": [],
   "source": [
    "errlist = {}"
   ]
  },
  {
   "cell_type": "code",
   "execution_count": 21,
   "metadata": {},
   "outputs": [
    {
     "name": "stdout",
     "output_type": "stream",
     "text": [
      "mismatch: [[ 24 175  18  18   0   0  12  -5  -1 178 198]] [[ 24 175  22  18  -4  -1  21  -1  -1]]\n",
      "mismatch: [[ 48 174  20  21   1   1  17  -2  -1 178 198]] [[ 48 174  24  21  -3  -1  21  -3  -1]]\n",
      "mismatch: [[ 60 174  18  19   1   1  11  -6  -1 178 198]] [[ 60 174  22  19  -3  -1  18  -4  -1]]\n",
      "mismatch empty: [] [[81 53 31 31  0  0 28 -3 -1]]\n",
      "mismatch: [[ 98 174  25  25   0   0  25   0   0 176 194]] [[ 98 174  29  25  -4  -1  26  -3  -1]]\n",
      "errcnt: 5\n"
     ]
    },
    {
     "data": {
      "text/plain": [
       "(5, [[24, 175], [48, 174], [60, 174], [81, 53], [98, 174]])"
      ]
     },
     "execution_count": 21,
     "metadata": {},
     "output_type": "execute_result"
    }
   ],
   "source": [
    "errcnt, errlist['2019'] = cmp_df(ranknetdf['2019']['pitmodel_mean'], preddf['2019']['lasso'])\n",
    "errcnt, errlist['2019']"
   ]
  },
  {
   "cell_type": "code",
   "execution_count": 22,
   "metadata": {},
   "outputs": [
    {
     "name": "stdout",
     "output_type": "stream",
     "text": [
      "mismatch: [[  6 136  14  10  -4  -1  15   1   1 179 168]] [[  6 136  15  10  -5  -1  14  -1  -1]]\n",
      "mismatch: [[ 17 135  24  25   1   1  22  -1  -1 139 163]] [[ 17 135  25  25   0   0  23  -2  -1]]\n",
      "mismatch: [[ 17 186  19  19   0   0  19   0   1 190 198]] [[ 17 186  20  19  -1  -1  20   0   0]]\n",
      "mismatch: [[ 66 135  16  19   3   1  17   1   1 167 165]] [[ 66 135  17  19   2   1  17   0   0]]\n",
      "errcnt: 4\n"
     ]
    },
    {
     "data": {
      "text/plain": [
       "(4, [[6, 136], [17, 135], [17, 186], [66, 135]])"
      ]
     },
     "execution_count": 22,
     "metadata": {},
     "output_type": "execute_result"
    }
   ],
   "source": [
    "errcnt, errlist['2018'] = cmp_df(ranknetdf['2018']['pitmodel_mean'], preddf['2018']['lasso'])\n",
    "errcnt, errlist['2018']"
   ]
  },
  {
   "cell_type": "code",
   "execution_count": 23,
   "metadata": {},
   "outputs": [],
   "source": [
    "#\n",
    "# Model,SignAcc,MAE,50-Risk,90-Risk\n",
    "# \n",
    "cols = ['Year','Model','SignAcc','MAE','50-Risk','90-Risk']\n",
    "models = {'currank':'CurRank','rf':'RandomForest','svr_lin':'SVM','xgb':'XGBoost'}"
   ]
  },
  {
   "cell_type": "code",
   "execution_count": 24,
   "metadata": {},
   "outputs": [
    {
     "name": "stdout",
     "output_type": "stream",
     "text": [
      "year: 2018 clf: currank\n",
      "df size: 185\n",
      "model: acc={0.10}, mae={4.15}, rmse={5.55},r2={0.00}, {185}\n",
      "            naive: acc={0.10}, mae={4.15}, rmse={5.55},r2={0.57}\n"
     ]
    },
    {
     "name": "stderr",
     "output_type": "stream",
     "text": [
      "/scratch_ssd/hpda/anaconda3/envs/gluonts/lib/python3.6/site-packages/ipykernel_launcher.py:6: RuntimeWarning: invalid value encountered in less_equal\n",
      "  \n"
     ]
    },
    {
     "name": "stdout",
     "output_type": "stream",
     "text": [
      "dict_values([0.28425675675675666, 0.2591216216216216, 0.23398648648648657])\n",
      "year: 2018 clf: rf\n",
      "df size: 185\n",
      "model: acc={0.57}, mae={3.55}, rmse={4.84},r2={-3.86}, {185}\n",
      "            naive: acc={0.10}, mae={4.15}, rmse={5.55},r2={0.57}\n"
     ]
    },
    {
     "name": "stderr",
     "output_type": "stream",
     "text": [
      "/scratch_ssd/hpda/anaconda3/envs/gluonts/lib/python3.6/site-packages/ipykernel_launcher.py:6: RuntimeWarning: invalid value encountered in less_equal\n",
      "  \n"
     ]
    },
    {
     "name": "stdout",
     "output_type": "stream",
     "text": [
      "dict_values([0.22270270270270268, 0.22162162162162163, 0.22054054054054056])\n",
      "year: 2018 clf: svr_lin\n",
      "df size: 185\n",
      "model: acc={0.61}, mae={3.42}, rmse={4.74},r2={-2.72}, {185}\n",
      "            naive: acc={0.10}, mae={4.15}, rmse={5.55},r2={0.57}\n"
     ]
    },
    {
     "name": "stderr",
     "output_type": "stream",
     "text": [
      "/scratch_ssd/hpda/anaconda3/envs/gluonts/lib/python3.6/site-packages/ipykernel_launcher.py:6: RuntimeWarning: invalid value encountered in less_equal\n",
      "  \n"
     ]
    },
    {
     "name": "stdout",
     "output_type": "stream",
     "text": [
      "dict_values([0.21513513513513516, 0.21351351351351353, 0.21189189189189186])\n",
      "year: 2018 clf: xgb\n",
      "df size: 185\n",
      "model: acc={0.49}, mae={4.10}, rmse={5.23},r2={-1.29}, {185}\n",
      "            naive: acc={0.10}, mae={4.15}, rmse={5.55},r2={0.57}\n"
     ]
    },
    {
     "name": "stderr",
     "output_type": "stream",
     "text": [
      "/scratch_ssd/hpda/anaconda3/envs/gluonts/lib/python3.6/site-packages/ipykernel_launcher.py:6: RuntimeWarning: invalid value encountered in less_equal\n",
      "  \n"
     ]
    },
    {
     "name": "stdout",
     "output_type": "stream",
     "text": [
      "dict_values([0.27885135135135136, 0.25641891891891894, 0.23398648648648648])\n",
      "year: 2018 clf: rf\n",
      "df size: 185\n",
      "model: acc={0.59}, mae={3.33}, rmse={4.57},r2={-2.76}, {185}\n",
      "            naive: acc={0.10}, mae={4.15}, rmse={5.55},r2={0.57}\n"
     ]
    },
    {
     "name": "stderr",
     "output_type": "stream",
     "text": [
      "/scratch_ssd/hpda/anaconda3/envs/gluonts/lib/python3.6/site-packages/ipykernel_launcher.py:6: RuntimeWarning: invalid value encountered in less_equal\n",
      "  \n"
     ]
    },
    {
     "name": "stdout",
     "output_type": "stream",
     "text": [
      "dict_values([0.20594594594594592, 0.20810810810810812, 0.2102702702702703])\n",
      "year: 2018 clf: svr_lin\n",
      "df size: 185\n",
      "model: acc={0.65}, mae={3.39}, rmse={4.72},r2={-1.57}, {185}\n",
      "            naive: acc={0.10}, mae={4.15}, rmse={5.55},r2={0.57}\n"
     ]
    },
    {
     "name": "stderr",
     "output_type": "stream",
     "text": [
      "/scratch_ssd/hpda/anaconda3/envs/gluonts/lib/python3.6/site-packages/ipykernel_launcher.py:6: RuntimeWarning: invalid value encountered in less_equal\n",
      "  \n"
     ]
    },
    {
     "name": "stdout",
     "output_type": "stream",
     "text": [
      "dict_values([0.13101351351351348, 0.21182432432432433, 0.29263513513513517])\n",
      "year: 2018 clf: xgb\n",
      "df size: 185\n",
      "model: acc={0.55}, mae={3.58}, rmse={4.83},r2={-1.30}, {185}\n",
      "            naive: acc={0.10}, mae={4.15}, rmse={5.55},r2={0.57}\n"
     ]
    },
    {
     "name": "stderr",
     "output_type": "stream",
     "text": [
      "/scratch_ssd/hpda/anaconda3/envs/gluonts/lib/python3.6/site-packages/ipykernel_launcher.py:6: RuntimeWarning: invalid value encountered in less_equal\n",
      "  \n"
     ]
    },
    {
     "name": "stdout",
     "output_type": "stream",
     "text": [
      "dict_values([0.24858108108108115, 0.22398648648648647, 0.19939189189189183])\n",
      "df size: 185\n",
      "model: acc={0.68}, mae={3.83}, rmse={5.52},r2={-1.90}, {185}\n",
      "            naive: acc={0.10}, mae={4.15}, rmse={5.55},r2={0.57}\n"
     ]
    },
    {
     "name": "stderr",
     "output_type": "stream",
     "text": [
      "/scratch_ssd/hpda/anaconda3/envs/gluonts/lib/python3.6/site-packages/ipykernel_launcher.py:6: RuntimeWarning: invalid value encountered in less_equal\n",
      "  \n"
     ]
    },
    {
     "name": "stdout",
     "output_type": "stream",
     "text": [
      "dict_values([0.16137162162162164, 0.2402027027027027, 0.16349999999999995])\n",
      "df size: 185\n",
      "model: acc={0.71}, mae={3.28}, rmse={4.86},r2={-0.54}, {185}\n",
      "            naive: acc={0.10}, mae={4.15}, rmse={5.55},r2={0.57}\n"
     ]
    },
    {
     "name": "stderr",
     "output_type": "stream",
     "text": [
      "/scratch_ssd/hpda/anaconda3/envs/gluonts/lib/python3.6/site-packages/ipykernel_launcher.py:6: RuntimeWarning: invalid value encountered in less_equal\n",
      "  \n"
     ]
    },
    {
     "name": "stdout",
     "output_type": "stream",
     "text": [
      "dict_values([0.1690067567567568, 0.20658783783783785, 0.18866216216216217])\n",
      "year: 2019 clf: currank\n",
      "df size: 211\n",
      "model: acc={0.15}, mae={4.33}, rmse={6.52},r2={0.00}, {211}\n",
      "            naive: acc={0.15}, mae={4.33}, rmse={6.52},r2={0.43}\n"
     ]
    },
    {
     "name": "stderr",
     "output_type": "stream",
     "text": [
      "/scratch_ssd/hpda/anaconda3/envs/gluonts/lib/python3.6/site-packages/ipykernel_launcher.py:6: RuntimeWarning: invalid value encountered in less_equal\n",
      "  \n"
     ]
    },
    {
     "name": "stdout",
     "output_type": "stream",
     "text": [
      "dict_values([0.29794368870610566, 0.2799746915533059, 0.26200569440050614])\n",
      "year: 2019 clf: rf\n",
      "df size: 211\n",
      "model: acc={0.51}, mae={4.31}, rmse={5.91},r2={-2.70}, {211}\n",
      "            naive: acc={0.15}, mae={4.33}, rmse={6.52},r2={0.43}\n"
     ]
    },
    {
     "name": "stderr",
     "output_type": "stream",
     "text": [
      "/scratch_ssd/hpda/anaconda3/envs/gluonts/lib/python3.6/site-packages/ipykernel_launcher.py:6: RuntimeWarning: invalid value encountered in less_equal\n",
      "  \n"
     ]
    },
    {
     "name": "stdout",
     "output_type": "stream",
     "text": [
      "dict_values([0.2787092692186018, 0.2774438468838975, 0.2761784245491933])\n",
      "year: 2019 clf: svr_lin\n",
      "df size: 211\n",
      "model: acc={0.51}, mae={4.22}, rmse={5.94},r2={-2.08}, {211}\n",
      "            naive: acc={0.15}, mae={4.33}, rmse={6.52},r2={0.43}\n"
     ]
    },
    {
     "name": "stderr",
     "output_type": "stream",
     "text": [
      "/scratch_ssd/hpda/anaconda3/envs/gluonts/lib/python3.6/site-packages/ipykernel_launcher.py:6: RuntimeWarning: invalid value encountered in less_equal\n",
      "  \n"
     ]
    },
    {
     "name": "stdout",
     "output_type": "stream",
     "text": [
      "dict_values([0.29085732363176214, 0.26985131287567227, 0.24884530211958242])\n",
      "year: 2019 clf: xgb\n",
      "df size: 211\n",
      "model: acc={0.45}, mae={4.86}, rmse={6.52},r2={-1.14}, {211}\n",
      "            naive: acc={0.15}, mae={4.33}, rmse={6.52},r2={0.43}\n"
     ]
    },
    {
     "name": "stderr",
     "output_type": "stream",
     "text": [
      "/scratch_ssd/hpda/anaconda3/envs/gluonts/lib/python3.6/site-packages/ipykernel_launcher.py:6: RuntimeWarning: invalid value encountered in less_equal\n",
      "  \n"
     ]
    },
    {
     "name": "stdout",
     "output_type": "stream",
     "text": [
      "dict_values([0.3222397975324265, 0.3128756722556153, 0.3035115469788041])\n",
      "year: 2019 clf: rf\n",
      "df size: 211\n",
      "model: acc={0.53}, mae={3.92}, rmse={5.51},r2={-2.24}, {211}\n",
      "            naive: acc={0.15}, mae={4.33}, rmse={6.52},r2={0.43}\n"
     ]
    },
    {
     "name": "stderr",
     "output_type": "stream",
     "text": [
      "/scratch_ssd/hpda/anaconda3/envs/gluonts/lib/python3.6/site-packages/ipykernel_launcher.py:6: RuntimeWarning: invalid value encountered in less_equal\n",
      "  \n"
     ]
    },
    {
     "name": "stdout",
     "output_type": "stream",
     "text": [
      "dict_values([0.2506801645049035, 0.2537171781081936, 0.2567541917114837])\n",
      "year: 2019 clf: svr_lin\n",
      "df size: 211\n",
      "model: acc={0.60}, mae={4.18}, rmse={5.81},r2={-1.27}, {211}\n",
      "            naive: acc={0.15}, mae={4.33}, rmse={6.52},r2={0.43}\n"
     ]
    },
    {
     "name": "stderr",
     "output_type": "stream",
     "text": [
      "/scratch_ssd/hpda/anaconda3/envs/gluonts/lib/python3.6/site-packages/ipykernel_launcher.py:6: RuntimeWarning: invalid value encountered in less_equal\n",
      "  \n"
     ]
    },
    {
     "name": "stdout",
     "output_type": "stream",
     "text": [
      "dict_values([0.17880417589370454, 0.2689022461246441, 0.3590003163555837])\n",
      "year: 2019 clf: xgb\n",
      "df size: 211\n",
      "model: acc={0.51}, mae={4.36}, rmse={5.95},r2={-0.92}, {211}\n",
      "            naive: acc={0.15}, mae={4.33}, rmse={6.52},r2={0.43}\n"
     ]
    },
    {
     "name": "stderr",
     "output_type": "stream",
     "text": [
      "/scratch_ssd/hpda/anaconda3/envs/gluonts/lib/python3.6/site-packages/ipykernel_launcher.py:6: RuntimeWarning: invalid value encountered in less_equal\n",
      "  \n"
     ]
    },
    {
     "name": "stdout",
     "output_type": "stream",
     "text": [
      "dict_values([0.24150585257829807, 0.2837709585574185, 0.32603606453653905])\n",
      "df size: 211\n",
      "model: acc={0.62}, mae={4.33}, rmse={6.19},r2={-1.13}, {211}\n",
      "            naive: acc={0.15}, mae={4.33}, rmse={6.52},r2={0.43}\n"
     ]
    },
    {
     "name": "stderr",
     "output_type": "stream",
     "text": [
      "/scratch_ssd/hpda/anaconda3/envs/gluonts/lib/python3.6/site-packages/ipykernel_launcher.py:6: RuntimeWarning: invalid value encountered in less_equal\n",
      "  \n"
     ]
    },
    {
     "name": "stdout",
     "output_type": "stream",
     "text": [
      "dict_values([0.1862954761151534, 0.28630180322682697, 0.2231066118316988])\n",
      "df size: 211\n",
      "model: acc={0.66}, mae={3.62}, rmse={5.44},r2={-0.24}, {211}\n",
      "            naive: acc={0.15}, mae={4.33}, rmse={6.52},r2={0.43}\n",
      "dict_values([0.18913634925656445, 0.2336285985447643, 0.21491300221448903])\n"
     ]
    },
    {
     "name": "stderr",
     "output_type": "stream",
     "text": [
      "/scratch_ssd/hpda/anaconda3/envs/gluonts/lib/python3.6/site-packages/ipykernel_launcher.py:6: RuntimeWarning: invalid value encountered in less_equal\n",
      "  \n"
     ]
    }
   ],
   "source": [
    "retdata = []\n",
    "for year in ['2018','2019']:\n",
    "    for clf in ['currank','rf','svr_lin','xgb']:\n",
    "        print('year:',year,'clf:',clf)\n",
    "        dfout, accret = eval_sync(preddf[year][clf],errlist[year])\n",
    "        fsamples, ftss = df2samples(dfout)\n",
    "        _, prisk_vals = prisk_direct_bysamples(fsamples, ftss)\n",
    "        \n",
    "        retdata.append([year,models[clf],accret[0], accret[1], prisk_vals[1], prisk_vals[2]])\n",
    "        \n",
    "    #ml models -oracle\n",
    "    for clf in ['rf','svr_lin','xgb']:\n",
    "        print('year:',year,'clf:',clf)\n",
    "        dfout, accret = eval_sync(preddf_oracle[year][clf],errlist[year])\n",
    "        fsamples, ftss = df2samples(dfout)\n",
    "        _, prisk_vals = prisk_direct_bysamples(fsamples, ftss)\n",
    "        \n",
    "        retdata.append([year,models[clf]+'-Oracle',accret[0], accret[1], prisk_vals[1], prisk_vals[2]])\n",
    "        \n",
    "    dfout, accret = eval_sync(ranknetdf[year]['pitmodel_mean'], errlist[year],force2int=True)\n",
    "    #fsamples, ftss = df2samples(dfout)\n",
    "    fsamples, ftss = runs2samples(ranknet_ret[f'pitmodel-TIMEDIFF-{year}-noinlap-nopitage'],errlist[f'{year}'])\n",
    "    _, prisk_vals = prisk_direct_bysamples(fsamples, ftss)\n",
    "    retdata.append([year,'RankNet-MLP',accret[0], accret[1], prisk_vals[1], prisk_vals[2]])\n",
    "    \n",
    "    dfout, accret = eval_sync(ranknetdf[year]['oracle_mean'], errlist[year],force2int=True)\n",
    "    #fsamples, ftss = df2samples(dfout)\n",
    "    fsamples, ftss = runs2samples(ranknet_ret[f'oracle-TIMEDIFF-{year}-noinlap-nopitage'],errlist[f'{year}'])\n",
    "    _, prisk_vals = prisk_direct_bysamples(fsamples, ftss)\n",
    "    retdata.append([year,'RankNet-Oracle',accret[0], accret[1], prisk_vals[1], prisk_vals[2]])\n",
    "        \n",
    "        \n",
    "stint_result = pd.DataFrame(data=retdata, columns=cols)\n",
    "    "
   ]
  },
  {
   "cell_type": "code",
   "execution_count": 25,
   "metadata": {},
   "outputs": [
    {
     "data": {
      "text/html": [
       "<div>\n",
       "<style scoped>\n",
       "    .dataframe tbody tr th:only-of-type {\n",
       "        vertical-align: middle;\n",
       "    }\n",
       "\n",
       "    .dataframe tbody tr th {\n",
       "        vertical-align: top;\n",
       "    }\n",
       "\n",
       "    .dataframe thead th {\n",
       "        text-align: right;\n",
       "    }\n",
       "</style>\n",
       "<table border=\"1\" class=\"dataframe\">\n",
       "  <thead>\n",
       "    <tr style=\"text-align: right;\">\n",
       "      <th></th>\n",
       "      <th>Year</th>\n",
       "      <th>Model</th>\n",
       "      <th>SignAcc</th>\n",
       "      <th>MAE</th>\n",
       "      <th>50-Risk</th>\n",
       "      <th>90-Risk</th>\n",
       "    </tr>\n",
       "  </thead>\n",
       "  <tbody>\n",
       "    <tr>\n",
       "      <th>0</th>\n",
       "      <td>2018</td>\n",
       "      <td>CurRank</td>\n",
       "      <td>0.097297</td>\n",
       "      <td>4.145946</td>\n",
       "      <td>0.259122</td>\n",
       "      <td>0.233986</td>\n",
       "    </tr>\n",
       "    <tr>\n",
       "      <th>1</th>\n",
       "      <td>2018</td>\n",
       "      <td>RandomForest</td>\n",
       "      <td>0.572973</td>\n",
       "      <td>3.545946</td>\n",
       "      <td>0.221622</td>\n",
       "      <td>0.220541</td>\n",
       "    </tr>\n",
       "    <tr>\n",
       "      <th>2</th>\n",
       "      <td>2018</td>\n",
       "      <td>SVM</td>\n",
       "      <td>0.605405</td>\n",
       "      <td>3.416216</td>\n",
       "      <td>0.213514</td>\n",
       "      <td>0.211892</td>\n",
       "    </tr>\n",
       "    <tr>\n",
       "      <th>3</th>\n",
       "      <td>2018</td>\n",
       "      <td>XGBoost</td>\n",
       "      <td>0.491892</td>\n",
       "      <td>4.102703</td>\n",
       "      <td>0.256419</td>\n",
       "      <td>0.233986</td>\n",
       "    </tr>\n",
       "    <tr>\n",
       "      <th>4</th>\n",
       "      <td>2018</td>\n",
       "      <td>RandomForest-Oracle</td>\n",
       "      <td>0.589189</td>\n",
       "      <td>3.329730</td>\n",
       "      <td>0.208108</td>\n",
       "      <td>0.210270</td>\n",
       "    </tr>\n",
       "    <tr>\n",
       "      <th>5</th>\n",
       "      <td>2018</td>\n",
       "      <td>SVM-Oracle</td>\n",
       "      <td>0.654054</td>\n",
       "      <td>3.389189</td>\n",
       "      <td>0.211824</td>\n",
       "      <td>0.292635</td>\n",
       "    </tr>\n",
       "    <tr>\n",
       "      <th>6</th>\n",
       "      <td>2018</td>\n",
       "      <td>XGBoost-Oracle</td>\n",
       "      <td>0.551351</td>\n",
       "      <td>3.583784</td>\n",
       "      <td>0.223986</td>\n",
       "      <td>0.199392</td>\n",
       "    </tr>\n",
       "    <tr>\n",
       "      <th>7</th>\n",
       "      <td>2018</td>\n",
       "      <td>RankNet-MLP</td>\n",
       "      <td>0.681081</td>\n",
       "      <td>3.832432</td>\n",
       "      <td>0.240203</td>\n",
       "      <td>0.163500</td>\n",
       "    </tr>\n",
       "    <tr>\n",
       "      <th>8</th>\n",
       "      <td>2018</td>\n",
       "      <td>RankNet-Oracle</td>\n",
       "      <td>0.713514</td>\n",
       "      <td>3.275676</td>\n",
       "      <td>0.206588</td>\n",
       "      <td>0.188662</td>\n",
       "    </tr>\n",
       "    <tr>\n",
       "      <th>9</th>\n",
       "      <td>2019</td>\n",
       "      <td>CurRank</td>\n",
       "      <td>0.151659</td>\n",
       "      <td>4.327014</td>\n",
       "      <td>0.279975</td>\n",
       "      <td>0.262006</td>\n",
       "    </tr>\n",
       "    <tr>\n",
       "      <th>10</th>\n",
       "      <td>2019</td>\n",
       "      <td>RandomForest</td>\n",
       "      <td>0.511848</td>\n",
       "      <td>4.308057</td>\n",
       "      <td>0.277444</td>\n",
       "      <td>0.276178</td>\n",
       "    </tr>\n",
       "    <tr>\n",
       "      <th>11</th>\n",
       "      <td>2019</td>\n",
       "      <td>SVM</td>\n",
       "      <td>0.511848</td>\n",
       "      <td>4.218009</td>\n",
       "      <td>0.269851</td>\n",
       "      <td>0.248845</td>\n",
       "    </tr>\n",
       "    <tr>\n",
       "      <th>12</th>\n",
       "      <td>2019</td>\n",
       "      <td>XGBoost</td>\n",
       "      <td>0.454976</td>\n",
       "      <td>4.857820</td>\n",
       "      <td>0.312876</td>\n",
       "      <td>0.303512</td>\n",
       "    </tr>\n",
       "    <tr>\n",
       "      <th>13</th>\n",
       "      <td>2019</td>\n",
       "      <td>RandomForest-Oracle</td>\n",
       "      <td>0.526066</td>\n",
       "      <td>3.924171</td>\n",
       "      <td>0.253717</td>\n",
       "      <td>0.256754</td>\n",
       "    </tr>\n",
       "    <tr>\n",
       "      <th>14</th>\n",
       "      <td>2019</td>\n",
       "      <td>SVM-Oracle</td>\n",
       "      <td>0.597156</td>\n",
       "      <td>4.175355</td>\n",
       "      <td>0.268902</td>\n",
       "      <td>0.359000</td>\n",
       "    </tr>\n",
       "    <tr>\n",
       "      <th>15</th>\n",
       "      <td>2019</td>\n",
       "      <td>XGBoost-Oracle</td>\n",
       "      <td>0.507109</td>\n",
       "      <td>4.364929</td>\n",
       "      <td>0.283771</td>\n",
       "      <td>0.326036</td>\n",
       "    </tr>\n",
       "    <tr>\n",
       "      <th>16</th>\n",
       "      <td>2019</td>\n",
       "      <td>RankNet-MLP</td>\n",
       "      <td>0.616114</td>\n",
       "      <td>4.331754</td>\n",
       "      <td>0.286302</td>\n",
       "      <td>0.223107</td>\n",
       "    </tr>\n",
       "    <tr>\n",
       "      <th>17</th>\n",
       "      <td>2019</td>\n",
       "      <td>RankNet-Oracle</td>\n",
       "      <td>0.663507</td>\n",
       "      <td>3.616114</td>\n",
       "      <td>0.233629</td>\n",
       "      <td>0.214913</td>\n",
       "    </tr>\n",
       "  </tbody>\n",
       "</table>\n",
       "</div>"
      ],
      "text/plain": [
       "    Year                Model   SignAcc       MAE   50-Risk   90-Risk\n",
       "0   2018              CurRank  0.097297  4.145946  0.259122  0.233986\n",
       "1   2018         RandomForest  0.572973  3.545946  0.221622  0.220541\n",
       "2   2018                  SVM  0.605405  3.416216  0.213514  0.211892\n",
       "3   2018              XGBoost  0.491892  4.102703  0.256419  0.233986\n",
       "4   2018  RandomForest-Oracle  0.589189  3.329730  0.208108  0.210270\n",
       "5   2018           SVM-Oracle  0.654054  3.389189  0.211824  0.292635\n",
       "6   2018       XGBoost-Oracle  0.551351  3.583784  0.223986  0.199392\n",
       "7   2018          RankNet-MLP  0.681081  3.832432  0.240203  0.163500\n",
       "8   2018       RankNet-Oracle  0.713514  3.275676  0.206588  0.188662\n",
       "9   2019              CurRank  0.151659  4.327014  0.279975  0.262006\n",
       "10  2019         RandomForest  0.511848  4.308057  0.277444  0.276178\n",
       "11  2019                  SVM  0.511848  4.218009  0.269851  0.248845\n",
       "12  2019              XGBoost  0.454976  4.857820  0.312876  0.303512\n",
       "13  2019  RandomForest-Oracle  0.526066  3.924171  0.253717  0.256754\n",
       "14  2019           SVM-Oracle  0.597156  4.175355  0.268902  0.359000\n",
       "15  2019       XGBoost-Oracle  0.507109  4.364929  0.283771  0.326036\n",
       "16  2019          RankNet-MLP  0.616114  4.331754  0.286302  0.223107\n",
       "17  2019       RankNet-Oracle  0.663507  3.616114  0.233629  0.214913"
      ]
     },
     "execution_count": 25,
     "metadata": {},
     "output_type": "execute_result"
    }
   ],
   "source": [
    "stint_result"
   ]
  },
  {
   "cell_type": "code",
   "execution_count": 26,
   "metadata": {},
   "outputs": [],
   "source": [
    "stint_result.to_csv('stint_experiment_result_v4.csv')"
   ]
  },
  {
   "cell_type": "markdown",
   "metadata": {},
   "source": [
    "#### analysis of car12, pitstop=94"
   ]
  },
  {
   "cell_type": "code",
   "execution_count": 27,
   "metadata": {},
   "outputs": [],
   "source": [
    "dfxs = ranknet_ret[f'pitmodel-TIMEDIFF-2018-noinlap-nopitage']\n",
    "dfx = pd.concat(dfxs)\n",
    "df12 = dfx[dfx['carno']==12]\n"
   ]
  },
  {
   "cell_type": "code",
   "execution_count": 28,
   "metadata": {},
   "outputs": [
    {
     "data": {
      "text/plain": [
       "(array([ 1.,  0.,  0.,  0.,  1.,  0.,  0.,  0.,  1.,  1.,  1.,  1.,  2.,\n",
       "         5.,  8.,  8., 23., 14., 12.,  9.,  7.,  3.,  3.,  1.,  0.,  0.,\n",
       "         0.,  0.,  1.,  0.,  2.,  7.,  8., 11., 16., 16., 10., 11.,  9.,\n",
       "         3.,  1.,  4.,  0.,  0.,  0.,  0.,  0.,  0.,  0.,  0.,  0.,  0.,\n",
       "         0.,  0.,  0.,  0.,  0.,  0.,  0.,  0.,  0.,  0.,  0.,  0.,  0.,\n",
       "         0.,  0.,  0.,  0.,  0.,  1.,  0.,  0.,  2.,  2.,  6., 10., 11.,\n",
       "        15., 16., 13., 10.,  4.,  5.,  1.,  3.,  0.,  1.,  0.,  0.,  0.,\n",
       "         0.,  0.,  0.,  0.,  0.,  0.,  0.,  0.,  0.,  0.,  1.,  0.,  0.,\n",
       "         0.,  1.,  0.,  1.,  2.,  2.,  4., 10.,  7., 18., 21., 10.,  6.,\n",
       "         5.,  3.,  3.,  4.,  1.,  0.,  0.,  1.,  0.,  0.,  0.,  0.,  0.,\n",
       "         0.,  0.,  0.,  0.,  0.,  0.,  0.,  0.,  0.,  0.,  0.,  0.,  0.,\n",
       "         0.,  0.,  0.,  0.,  1.,  0.,  0.,  2.,  0.,  4.,  7., 10., 76.]),\n",
       " array([ 43,  44,  45,  46,  47,  48,  49,  50,  51,  52,  53,  54,  55,\n",
       "         56,  57,  58,  59,  60,  61,  62,  63,  64,  65,  66,  67,  68,\n",
       "         69,  70,  71,  72,  73,  74,  75,  76,  77,  78,  79,  80,  81,\n",
       "         82,  83,  84,  85,  86,  87,  88,  89,  90,  91,  92,  93,  94,\n",
       "         95,  96,  97,  98,  99, 100, 101, 102, 103, 104, 105, 106, 107,\n",
       "        108, 109, 110, 111, 112, 113, 114, 115, 116, 117, 118, 119, 120,\n",
       "        121, 122, 123, 124, 125, 126, 127, 128, 129, 130, 131, 132, 133,\n",
       "        134, 135, 136, 137, 138, 139, 140, 141, 142, 143, 144, 145, 146,\n",
       "        147, 148, 149, 150, 151, 152, 153, 154, 155, 156, 157, 158, 159,\n",
       "        160, 161, 162, 163, 164, 165, 166, 167, 168, 169, 170, 171, 172,\n",
       "        173, 174, 175, 176, 177, 178, 179, 180, 181, 182, 183, 184, 185,\n",
       "        186, 187, 188, 189, 190, 191, 192, 193, 194, 195, 196, 197, 198,\n",
       "        199]),\n",
       " <a list of 156 Patch objects>)"
      ]
     },
     "execution_count": 28,
     "metadata": {},
     "output_type": "execute_result"
    },
    {
     "data": {
      "image/png": "[encoded data removed]",
      "text/plain": [
       "<Figure size 432x288 with 1 Axes>"
      ]
     },
     "metadata": {
      "needs_background": "light"
     },
     "output_type": "display_data"
    }
   ],
   "source": [
    "hdata = df12.pred_endlap\n",
    "plt.hist(hdata, bins=range(min(hdata),max(hdata)+1))"
   ]
  },
  {
   "cell_type": "code",
   "execution_count": 29,
   "metadata": {},
   "outputs": [
    {
     "name": "stdout",
     "output_type": "stream",
     "text": [
      "pitstops: {128, 170, 49, 93, 31}\n"
     ]
    }
   ],
   "source": [
    "print('pitstops:', set(df12.startlap.values))\n",
    "pit94 = df12[df12['startlap']==93]\n",
    "observed = pit94[['endlap','endrank']].values\n"
   ]
  },
  {
   "cell_type": "code",
   "execution_count": 30,
   "metadata": {},
   "outputs": [
    {
     "name": "stdout",
     "output_type": "stream",
     "text": [
      "[128.   1.]\n"
     ]
    }
   ],
   "source": [
    "print(observed[0])"
   ]
  },
  {
   "cell_type": "code",
   "execution_count": 31,
   "metadata": {},
   "outputs": [],
   "source": [
    "def bins_labels(bins, **kwargs):\n",
    "    bin_w = (max(bins) - min(bins)) / (len(bins) - 1)\n",
    "    #plt.xticks(np.arange(min(bins)+bin_w/2, max(bins), bin_w), bins, **kwargs)\n",
    "    plt.xticks(np.arange(min(bins)+bin_w/2, max(bins), bin_w), bins, **kwargs)\n",
    "    plt.xlim(bins[0], bins[-1])"
   ]
  },
  {
   "cell_type": "code",
   "execution_count": 32,
   "metadata": {},
   "outputs": [
    {
     "data": {
      "image/png": "[encoded data removed]",
      "text/plain": [
       "<Figure size 576x504 with 2 Axes>"
      ]
     },
     "metadata": {
      "needs_background": "light"
     },
     "output_type": "display_data"
    }
   ],
   "source": [
    "#fig, axs = plt.subplots(1, 2, figsize=(8, 4))\n",
    "# https://stackoverflow.com/questions/27083051/matplotlib-xticks-not-lining-up-with-histogram\n",
    "fig, axs = plt.subplots(2, 1, figsize=(8, 7))\n",
    "hdata = pit94.pred_endlap.astype(int)\n",
    "\n",
    "bins = np.arange(min(hdata),max(hdata))\n",
    "axs[0].hist(hdata, bins - 0.5, align='mid')\n",
    "axs[0].set_xticks(bins)\n",
    "axs[0].plot(observed[0][0],2,'*',color='r')\n",
    "axs[0].set_xlabel('Predicted Lap of Next PitStop')\n",
    "axs[0].set_ylabel('Probability(%)')\n",
    "\n",
    "\n",
    "hdata = pit94.pred_endrank\n",
    "axs[1].hist(hdata, bins=np.arange(0,10)-0.5,label='forecast')\n",
    "axs[1].set_xticks(np.arange(0,10))\n",
    "axs[1].plot(observed[0][1],10,'*',color='r',label='observed')\n",
    "axs[1].set_xlabel('Predicted Rank Posisiton of Next PitStop')\n",
    "axs[1].set_ylabel('Probability(%)')\n",
    "\n",
    "plt.legend(prop={'size': 10})\n",
    "plt.tight_layout()\n",
    "plt.savefig('pit94_stint_forecast.pdf')"
   ]
  },
  {
   "cell_type": "code",
   "execution_count": 33,
   "metadata": {},
   "outputs": [
    {
     "data": {
      "image/png": "[encoded data removed]",
      "text/plain": [
       "<Figure size 864x216 with 2 Axes>"
      ]
     },
     "metadata": {
      "needs_background": "light"
     },
     "output_type": "display_data"
    }
   ],
   "source": [
    "#fig, axs = plt.subplots(1, 2, figsize=(8, 4))\n",
    "# https://stackoverflow.com/questions/27083051/matplotlib-xticks-not-lining-up-with-histogram\n",
    "fig, axs = plt.subplots(1,2, figsize=(12, 3))\n",
    "hdata = pit94.pred_endlap.astype(int)\n",
    "\n",
    "bins = np.arange(min(hdata),max(hdata))\n",
    "axs[0].hist(hdata, bins - 0.5, align='mid')\n",
    "axs[0].set_xticks(bins)\n",
    "axs[0].plot(observed[0][0],2,'*',color='r')\n",
    "axs[0].set_xlabel('Predicted Lap of Next PitStop')\n",
    "axs[0].set_ylabel('Probability(%)')\n",
    "\n",
    "\n",
    "hdata = pit94.pred_endrank\n",
    "axs[1].hist(hdata, bins=np.arange(0,10)-0.5,label='forecast')\n",
    "axs[1].set_xticks(np.arange(0,10))\n",
    "axs[1].plot(observed[0][1],10,'*',color='r',label='observed')\n",
    "axs[1].set_xlabel('Predicted Rank Posisiton of Next PitStop')\n",
    "axs[1].set_ylabel('Probability(%)')\n",
    "\n",
    "plt.legend(prop={'size': 10})\n",
    "plt.tight_layout()\n",
    "plt.savefig('pit94_stint_forecast_h.pdf')"
   ]
  },
  {
   "cell_type": "code",
   "execution_count": 34,
   "metadata": {},
   "outputs": [
    {
     "data": {
      "text/plain": [
       "array([ 0,  1,  2,  3,  4,  5,  6,  7,  8,  9, 10])"
      ]
     },
     "execution_count": 34,
     "metadata": {},
     "output_type": "execute_result"
    }
   ],
   "source": [
    "np.arange(11)"
   ]
  },
  {
   "cell_type": "code",
   "execution_count": 35,
   "metadata": {},
   "outputs": [
    {
     "data": {
      "text/plain": [
       "array([113, 114, 115, 116, 117, 118, 119, 120, 121, 122, 123, 124, 125,\n",
       "       126, 127, 128, 129])"
      ]
     },
     "execution_count": 35,
     "metadata": {},
     "output_type": "execute_result"
    }
   ],
   "source": [
    "bins"
   ]
  },
  {
   "cell_type": "code",
   "execution_count": 36,
   "metadata": {},
   "outputs": [
    {
     "data": {
      "text/plain": [
       "(array([78., 22.,  0.,  0.,  0.,  0.,  0.,  0.,  0.]),\n",
       " array([0, 1, 2, 3, 4, 5, 6, 7, 8, 9]),\n",
       " <a list of 9 Patch objects>)"
      ]
     },
     "execution_count": 36,
     "metadata": {},
     "output_type": "execute_result"
    },
    {
     "data": {
      "image/png": "[encoded data removed]",
      "text/plain": [
       "<Figure size 432x288 with 1 Axes>"
      ]
     },
     "metadata": {
      "needs_background": "light"
     },
     "output_type": "display_data"
    }
   ],
   "source": [
    "hdata = pit94.pred_endrank\n",
    "plt.hist(hdata, bins=range(0,10))"
   ]
  },
  {
   "cell_type": "code",
   "execution_count": 37,
   "metadata": {},
   "outputs": [
    {
     "data": {
      "text/html": [
       "<div>\n",
       "<style scoped>\n",
       "    .dataframe tbody tr th:only-of-type {\n",
       "        vertical-align: middle;\n",
       "    }\n",
       "\n",
       "    .dataframe tbody tr th {\n",
       "        vertical-align: top;\n",
       "    }\n",
       "\n",
       "    .dataframe thead th {\n",
       "        text-align: right;\n",
       "    }\n",
       "</style>\n",
       "<table border=\"1\" class=\"dataframe\">\n",
       "  <thead>\n",
       "    <tr style=\"text-align: right;\">\n",
       "      <th></th>\n",
       "      <th></th>\n",
       "      <th>carno</th>\n",
       "      <th>startlap</th>\n",
       "      <th>startrank</th>\n",
       "      <th>endrank</th>\n",
       "      <th>diff</th>\n",
       "      <th>sign</th>\n",
       "      <th>pred_endrank</th>\n",
       "      <th>pred_diff</th>\n",
       "      <th>pred_sign</th>\n",
       "      <th>endlap</th>\n",
       "      <th>pred_endlap</th>\n",
       "    </tr>\n",
       "  </thead>\n",
       "  <tbody>\n",
       "    <tr>\n",
       "      <th>0</th>\n",
       "      <th>89</th>\n",
       "      <td>12</td>\n",
       "      <td>93</td>\n",
       "      <td>0.0</td>\n",
       "      <td>1.0</td>\n",
       "      <td>1.0</td>\n",
       "      <td>1</td>\n",
       "      <td>0.0</td>\n",
       "      <td>0.0</td>\n",
       "      <td>0</td>\n",
       "      <td>128</td>\n",
       "      <td>124</td>\n",
       "    </tr>\n",
       "    <tr>\n",
       "      <th>1</th>\n",
       "      <th>89</th>\n",
       "      <td>12</td>\n",
       "      <td>93</td>\n",
       "      <td>0.0</td>\n",
       "      <td>1.0</td>\n",
       "      <td>1.0</td>\n",
       "      <td>1</td>\n",
       "      <td>0.0</td>\n",
       "      <td>0.0</td>\n",
       "      <td>0</td>\n",
       "      <td>128</td>\n",
       "      <td>125</td>\n",
       "    </tr>\n",
       "  </tbody>\n",
       "</table>\n",
       "</div>"
      ],
      "text/plain": [
       "      carno  startlap  startrank  endrank  diff  sign  pred_endrank  \\\n",
       "0 89     12        93        0.0      1.0   1.0     1           0.0   \n",
       "1 89     12        93        0.0      1.0   1.0     1           0.0   \n",
       "\n",
       "      pred_diff  pred_sign  endlap  pred_endlap  \n",
       "0 89        0.0          0     128          124  \n",
       "1 89        0.0          0     128          125  "
      ]
     },
     "execution_count": 37,
     "metadata": {},
     "output_type": "execute_result"
    }
   ],
   "source": [
    "pit94.head(2)"
   ]
  },
  {
   "cell_type": "markdown",
   "metadata": {},
   "source": [
    "## 2. Evaluation shortterm forecasting results"
   ]
  },
  {
   "cell_type": "code",
   "execution_count": 38,
   "metadata": {},
   "outputs": [],
   "source": [
    "#\n",
    "# Model,SignAcc,MAE,50-Risk,90-Risk\n",
    "# \n",
    "cols = ['Year','Model','SignAcc','MAE','50-Risk','90-Risk']\n",
    "models = {'currank':'CurRank','rf':'RandomForest','svr':'SVM','xgb':'XGBoost'}\n",
    "#plen=2\n",
    "#usemeanstr='median'\n",
    "usemeanstr='mean'\n",
    "stint_result = {}"
   ]
  },
  {
   "cell_type": "code",
   "execution_count": 39,
   "metadata": {},
   "outputs": [
    {
     "name": "stdout",
     "output_type": "stream",
     "text": [
      "year: 2018 clf: currank\n",
      "model: acc={0.72}, mae={1.34}, rmse={3.25},r2={0.85}, {188}\n",
      "            naive: acc={0.72}, mae={1.36}, rmse={3.25},r2={0.85}\n"
     ]
    },
    {
     "name": "stderr",
     "output_type": "stream",
     "text": [
      "/scratch_ssd/hpda/anaconda3/envs/gluonts/lib/python3.6/site-packages/ipykernel_launcher.py:6: RuntimeWarning: invalid value encountered in less_equal\n",
      "  \n"
     ]
    },
    {
     "name": "stdout",
     "output_type": "stream",
     "text": [
      "dict_values([0.09733723382543032, 0.0973263487312062, 0.0973154636369821])\n",
      "year: 2018 clf: rf\n",
      "model: acc={0.47}, mae={1.69}, rmse={3.27},r2={0.85}, {188}\n",
      "            naive: acc={0.72}, mae={1.36}, rmse={3.25},r2={0.85}\n"
     ]
    },
    {
     "name": "stderr",
     "output_type": "stream",
     "text": [
      "/scratch_ssd/hpda/anaconda3/envs/gluonts/lib/python3.6/site-packages/ipykernel_launcher.py:6: RuntimeWarning: invalid value encountered in less_equal\n",
      "  \n"
     ]
    },
    {
     "name": "stdout",
     "output_type": "stream",
     "text": [
      "dict_values([0.1224273760119736, 0.1224164909177495, 0.1224056058235254])\n",
      "year: 2018 clf: svr\n",
      "model: acc={0.72}, mae={1.34}, rmse={3.25},r2={0.85}, {188}\n",
      "            naive: acc={0.72}, mae={1.36}, rmse={3.25},r2={0.85}\n"
     ]
    },
    {
     "name": "stderr",
     "output_type": "stream",
     "text": [
      "/scratch_ssd/hpda/anaconda3/envs/gluonts/lib/python3.6/site-packages/ipykernel_launcher.py:6: RuntimeWarning: invalid value encountered in less_equal\n",
      "  \n"
     ]
    },
    {
     "name": "stdout",
     "output_type": "stream",
     "text": [
      "dict_values([0.09733723382543032, 0.0973263487312062, 0.0973154636369821])\n",
      "year: 2018 clf: xgb\n",
      "model: acc={0.46}, mae={1.63}, rmse={3.32},r2={0.85}, {188}\n",
      "            naive: acc={0.72}, mae={1.36}, rmse={3.25},r2={0.85}\n"
     ]
    },
    {
     "name": "stderr",
     "output_type": "stream",
     "text": [
      "/scratch_ssd/hpda/anaconda3/envs/gluonts/lib/python3.6/site-packages/ipykernel_launcher.py:6: RuntimeWarning: invalid value encountered in less_equal\n",
      "  \n",
      "/scratch_ssd/hpda/anaconda3/envs/gluonts/lib/python3.6/site-packages/ipykernel_launcher.py:32: RuntimeWarning: Mean of empty slice\n"
     ]
    },
    {
     "name": "stdout",
     "output_type": "stream",
     "text": [
      "dict_values([0.11848152935573845, 0.1184706442615144, 0.11845975916729033])\n",
      "sacmplecnt: 100 lapcnt: 200 runcnt: 10\n",
      "dict_values([0.07416067221441695, 0.07966321733491842, 0.07335211012644548])\n",
      "rerank...\n",
      "model: acc={0.86}, mae={1.11}, rmse={2.67},r2={0.90}, {188}\n",
      "            naive: acc={0.72}, mae={1.34}, rmse={3.25},r2={0.85}\n",
      "rerank...\n",
      "model: acc={0.78}, mae={1.21}, rmse={2.87},r2={0.88}, {188}\n",
      "            naive: acc={0.72}, mae={1.34}, rmse={3.25},r2={0.85}\n",
      "sacmplecnt: 100 lapcnt: 200 runcnt: 100\n"
     ]
    },
    {
     "name": "stderr",
     "output_type": "stream",
     "text": [
      "/scratch_ssd/hpda/anaconda3/envs/gluonts/lib/python3.6/site-packages/ipykernel_launcher.py:32: RuntimeWarning: Mean of empty slice\n",
      "/scratch_ssd/hpda/anaconda3/envs/gluonts/lib/python3.6/site-packages/ipykernel_launcher.py:6: RuntimeWarning: invalid value encountered in less_equal\n",
      "  \n"
     ]
    },
    {
     "name": "stdout",
     "output_type": "stream",
     "text": [
      "dict_values([0.06751312547281964, 0.08580771101264455, 0.0768863071436291])\n",
      "year: 2019 clf: currank\n",
      "model: acc={0.73}, mae={1.16}, rmse={3.05},r2={0.88}, {188}\n",
      "            naive: acc={0.73}, mae={1.18}, rmse={3.07},r2={0.88}\n"
     ]
    },
    {
     "name": "stderr",
     "output_type": "stream",
     "text": [
      "/scratch_ssd/hpda/anaconda3/envs/gluonts/lib/python3.6/site-packages/ipykernel_launcher.py:6: RuntimeWarning: invalid value encountered in less_equal\n",
      "  \n"
     ]
    },
    {
     "name": "stdout",
     "output_type": "stream",
     "text": [
      "dict_values([0.080397193103194, 0.08039719310319401, 0.08039719310319403])\n",
      "year: 2019 clf: rf\n",
      "model: acc={0.63}, mae={1.32}, rmse={2.88},r2={0.89}, {188}\n",
      "            naive: acc={0.73}, mae={1.18}, rmse={3.07},r2={0.88}\n"
     ]
    },
    {
     "name": "stderr",
     "output_type": "stream",
     "text": [
      "/scratch_ssd/hpda/anaconda3/envs/gluonts/lib/python3.6/site-packages/ipykernel_launcher.py:6: RuntimeWarning: invalid value encountered in less_equal\n",
      "  \n"
     ]
    },
    {
     "name": "stdout",
     "output_type": "stream",
     "text": [
      "dict_values([0.09094149021150043, 0.09094149021150041, 0.09094149021150039])\n",
      "year: 2019 clf: svr\n",
      "model: acc={0.73}, mae={1.16}, rmse={3.05},r2={0.88}, {188}\n",
      "            naive: acc={0.73}, mae={1.18}, rmse={3.07},r2={0.88}\n"
     ]
    },
    {
     "name": "stderr",
     "output_type": "stream",
     "text": [
      "/scratch_ssd/hpda/anaconda3/envs/gluonts/lib/python3.6/site-packages/ipykernel_launcher.py:6: RuntimeWarning: invalid value encountered in less_equal\n",
      "  \n"
     ]
    },
    {
     "name": "stdout",
     "output_type": "stream",
     "text": [
      "dict_values([0.080397193103194, 0.08039719310319401, 0.08039719310319403])\n",
      "year: 2019 clf: xgb\n",
      "model: acc={0.64}, mae={1.25}, rmse={2.88},r2={0.89}, {188}\n",
      "            naive: acc={0.73}, mae={1.18}, rmse={3.07},r2={0.88}\n"
     ]
    },
    {
     "name": "stderr",
     "output_type": "stream",
     "text": [
      "/scratch_ssd/hpda/anaconda3/envs/gluonts/lib/python3.6/site-packages/ipykernel_launcher.py:6: RuntimeWarning: invalid value encountered in less_equal\n",
      "  \n",
      "/scratch_ssd/hpda/anaconda3/envs/gluonts/lib/python3.6/site-packages/ipykernel_launcher.py:32: RuntimeWarning: Mean of empty slice\n"
     ]
    },
    {
     "name": "stdout",
     "output_type": "stream",
     "text": [
      "dict_values([0.08622236423295768, 0.08622236423295769, 0.08622236423295769])\n",
      "sacmplecnt: 100 lapcnt: 200 runcnt: 10\n",
      "dict_values([0.06158775575018017, 0.06656809214946192, 0.060559658959043326])\n",
      "rerank...\n",
      "model: acc={0.86}, mae={0.97}, rmse={2.55},r2={0.92}, {188}\n",
      "            naive: acc={0.73}, mae={1.16}, rmse={3.05},r2={0.88}\n",
      "rerank...\n",
      "model: acc={0.78}, mae={1.07}, rmse={2.74},r2={0.90}, {188}\n",
      "            naive: acc={0.73}, mae={1.16}, rmse={3.05},r2={0.88}\n",
      "sacmplecnt: 100 lapcnt: 200 runcnt: 100\n"
     ]
    },
    {
     "name": "stderr",
     "output_type": "stream",
     "text": [
      "/scratch_ssd/hpda/anaconda3/envs/gluonts/lib/python3.6/site-packages/ipykernel_launcher.py:32: RuntimeWarning: Mean of empty slice\n"
     ]
    },
    {
     "name": "stdout",
     "output_type": "stream",
     "text": [
      "dict_values([0.0560034299534611, 0.07171949625612273, 0.060852226171717545])\n",
      "    Year           Model   SignAcc       MAE   50-Risk   90-Risk\n",
      "0   2018         CurRank  0.718085  1.339513  0.097326  0.097315\n",
      "1   2018    RandomForest  0.473404  1.688951  0.122416  0.122406\n",
      "2   2018             SVM  0.718085  1.339513  0.097326  0.097315\n",
      "3   2018         XGBoost  0.462766  1.630899  0.118471  0.118460\n",
      "4   2018  RankNet-Oracle  0.861702  1.108989  0.079663  0.073352\n",
      "5   2018     RankNet-MLP  0.781915  1.213858  0.085808  0.076886\n",
      "6   2019         CurRank  0.734043  1.162551  0.080397  0.080397\n",
      "7   2019    RandomForest  0.627660  1.317108  0.090941  0.090941\n",
      "8   2019             SVM  0.734043  1.162551  0.080397  0.080397\n",
      "9   2019         XGBoost  0.643617  1.247113  0.086222  0.086222\n",
      "10  2019  RankNet-Oracle  0.856383  0.973530  0.066568  0.060560\n",
      "11  2019     RankNet-MLP  0.776596  1.074081  0.071719  0.060852\n"
     ]
    },
    {
     "name": "stderr",
     "output_type": "stream",
     "text": [
      "/scratch_ssd/hpda/anaconda3/envs/gluonts/lib/python3.6/site-packages/ipykernel_launcher.py:6: RuntimeWarning: invalid value encountered in less_equal\n",
      "  \n"
     ]
    }
   ],
   "source": [
    "for plen in [2]:\n",
    "    outfile=f'shortterm-dfout-mlmodels-indy500-tr2013_2017-te2018_2019-end{include_str}-rerank-t{plen}.pickle'\n",
    "    shortterm_df = load_dfout(outfile)\n",
    "\n",
    "    retdata = []\n",
    "    for year in ['2018','2019']:\n",
    "        for clf in ['currank','rf','svr','xgb']:\n",
    "            print('year:',year,'clf:',clf)\n",
    "            #dfout, accret = eval_sync(preddf[year][clf],errlist[year])\n",
    "            dfout = shortterm_df[year][clf]\n",
    "            accret = stint.get_evalret_shortterm(dfout)[0]\n",
    "\n",
    "            fsamples, ftss = df2samples(dfout)\n",
    "            _, prisk_vals = prisk_direct_bysamples(fsamples, ftss)\n",
    "\n",
    "            retdata.append([year,models[clf],accret[0], accret[1], prisk_vals[1], prisk_vals[2]])\n",
    "            \n",
    "        #oracle\n",
    "        outfile=f'shortterm-dfout-ranknet-indy500-rank-inlap-nopitage-20182019-oracle-l10-alldata.pickle'\n",
    "        _all = load_dfout_all(outfile)[0]\n",
    "        ranknetdf, acc, ret, pret = _all[0],_all[1],_all[2],_all[3]\n",
    "        allsamples, alltss = get_allsamples(year=year, model='oracle')\n",
    "        #_, pret[mid]= prisk_direct_bysamples(ret[mid][0][1], ret[mid][0][2])\n",
    "        _, prisk_vals = prisk_direct_bysamples(allsamples, alltss)\n",
    "        \n",
    "        dfout = do_rerank(ranknetdf[year]['oracle_mean'])\n",
    "        accret = stint.get_evalret_shortterm(dfout)[0]\n",
    "        #fsamples, ftss = runs2samples_ex(ranknet_ret[f'oracle-RANK-{year}-inlap-nopitage'],[])\n",
    "        #_, prisk_vals = prisk_direct_bysamples(fsamples, ftss)\n",
    "        retdata.append([year,'RankNet-Oracle',accret[0], accret[1], prisk_vals[1], prisk_vals[2]])\n",
    "        \n",
    "        #pitmodel\n",
    "        outfile=f'shortterm-dfout-ranknet-indy500-rank-inlap-nopitage-20182019-alldata.pickle'\n",
    "        _all = load_dfout_all(outfile)[0]\n",
    "        ranknetdf, acc, ret = _all[0],_all[1],_all[2]\n",
    "        \n",
    "        dfout = do_rerank(ranknetdf[year]['pitmodel_mean'])\n",
    "        accret = stint.get_evalret_shortterm(dfout)[0]\n",
    "        #fsamples, ftss = runs2samples_ex(ranknet_ret[f'pitmodel-RANK-{year}-inlap-nopitage'],[])\n",
    "        #_, prisk_vals = prisk_direct_bysamples(fsamples, ftss)\n",
    "        allsamples, alltss = get_allsamples(year=year, model='pitmodel')\n",
    "        #_, pret[mid]= prisk_direct_bysamples(ret[mid][0][1], ret[mid][0][2])\n",
    "        _, prisk_vals = prisk_direct_bysamples(allsamples, alltss)        \n",
    "        retdata.append([year,'RankNet-MLP',accret[0], accret[1], prisk_vals[1], prisk_vals[2]])\n",
    "\n",
    "        #print('oracle:', ranknet_pret[f'oracle-RANK-2018-inlap-nopitage'])\n",
    "        #print('pitmodel:', ranknet_pret[f'pitmodel-RANK-2018-inlap-nopitage'])\n",
    "\n",
    "    stint_result[plen] = pd.DataFrame(data=retdata, columns=cols)\n",
    "    \n",
    "    print(stint_result[plen])"
   ]
  },
  {
   "cell_type": "code",
   "execution_count": 40,
   "metadata": {},
   "outputs": [
    {
     "name": "stdout",
     "output_type": "stream",
     "text": [
      "year: 2018 clf: currank\n",
      "model: acc={0.60}, mae={2.27}, rmse={4.44},r2={0.72}, {186}\n",
      "            naive: acc={0.60}, mae={2.32}, rmse={4.45},r2={0.73}\n"
     ]
    },
    {
     "name": "stderr",
     "output_type": "stream",
     "text": [
      "/scratch_ssd/hpda/anaconda3/envs/gluonts/lib/python3.6/site-packages/ipykernel_launcher.py:6: RuntimeWarning: invalid value encountered in less_equal\n",
      "  \n"
     ]
    },
    {
     "name": "stdout",
     "output_type": "stream",
     "text": [
      "dict_values([0.1654053755573655, 0.1653943317826033, 0.16538328800784108])\n",
      "year: 2018 clf: rf\n",
      "model: acc={0.47}, mae={2.39}, rmse={4.07},r2={0.77}, {186}\n",
      "            naive: acc={0.60}, mae={2.32}, rmse={4.45},r2={0.73}\n"
     ]
    },
    {
     "name": "stderr",
     "output_type": "stream",
     "text": [
      "/scratch_ssd/hpda/anaconda3/envs/gluonts/lib/python3.6/site-packages/ipykernel_launcher.py:6: RuntimeWarning: invalid value encountered in less_equal\n",
      "  \n"
     ]
    },
    {
     "name": "stdout",
     "output_type": "stream",
     "text": [
      "dict_values([0.1739643009980811, 0.17395325722331892, 0.17394221344855673])\n",
      "year: 2018 clf: svr\n",
      "model: acc={0.60}, mae={2.27}, rmse={4.43},r2={0.72}, {186}\n",
      "            naive: acc={0.60}, mae={2.32}, rmse={4.45},r2={0.73}\n"
     ]
    },
    {
     "name": "stderr",
     "output_type": "stream",
     "text": [
      "/scratch_ssd/hpda/anaconda3/envs/gluonts/lib/python3.6/site-packages/ipykernel_launcher.py:6: RuntimeWarning: invalid value encountered in less_equal\n",
      "  \n"
     ]
    },
    {
     "name": "stdout",
     "output_type": "stream",
     "text": [
      "dict_values([0.16537776612045993, 0.16536672234569777, 0.16535567857093558])\n",
      "year: 2018 clf: xgb\n",
      "model: acc={0.52}, mae={2.16}, rmse={3.83},r2={0.79}, {186}\n",
      "            naive: acc={0.60}, mae={2.32}, rmse={4.45},r2={0.73}\n"
     ]
    },
    {
     "name": "stderr",
     "output_type": "stream",
     "text": [
      "/scratch_ssd/hpda/anaconda3/envs/gluonts/lib/python3.6/site-packages/ipykernel_launcher.py:6: RuntimeWarning: invalid value encountered in less_equal\n",
      "  \n"
     ]
    },
    {
     "name": "stdout",
     "output_type": "stream",
     "text": [
      "dict_values([0.15720537279642186, 0.1571943290216596, 0.15718328524689734])\n",
      "rerank...\n",
      "model: acc={0.75}, mae={2.01}, rmse={3.86},r2={0.79}, {186}\n",
      "            naive: acc={0.60}, mae={2.27}, rmse={4.44},r2={0.72}\n",
      "run2samples_ex, samplecnt: 10\n"
     ]
    },
    {
     "name": "stderr",
     "output_type": "stream",
     "text": [
      "/scratch_ssd/hpda/anaconda3/envs/gluonts/lib/python3.6/site-packages/ipykernel_launcher.py:6: RuntimeWarning: invalid value encountered in less_equal\n",
      "  \n"
     ]
    },
    {
     "name": "stdout",
     "output_type": "stream",
     "text": [
      "dict_values([0.1340950050061186, 0.14757620424963844, 0.1234266881744354])\n",
      "rerank...\n",
      "model: acc={0.69}, mae={2.11}, rmse={4.04},r2={0.77}, {186}\n",
      "            naive: acc={0.60}, mae={2.27}, rmse={4.44},r2={0.72}\n",
      "run2samples_ex, samplecnt: 100\n"
     ]
    },
    {
     "name": "stderr",
     "output_type": "stream",
     "text": [
      "/scratch_ssd/hpda/anaconda3/envs/gluonts/lib/python3.6/site-packages/ipykernel_launcher.py:6: RuntimeWarning: invalid value encountered in less_equal\n",
      "  \n"
     ]
    },
    {
     "name": "stdout",
     "output_type": "stream",
     "text": [
      "dict_values([0.13111886750472804, 0.15338191122483036, 0.12946017354544442])\n",
      "year: 2019 clf: currank\n",
      "model: acc={0.58}, mae={1.90}, rmse={4.12},r2={0.78}, {186}\n",
      "            naive: acc={0.58}, mae={1.94}, rmse={4.15},r2={0.78}\n"
     ]
    },
    {
     "name": "stderr",
     "output_type": "stream",
     "text": [
      "/scratch_ssd/hpda/anaconda3/envs/gluonts/lib/python3.6/site-packages/ipykernel_launcher.py:6: RuntimeWarning: invalid value encountered in less_equal\n",
      "  \n"
     ]
    },
    {
     "name": "stdout",
     "output_type": "stream",
     "text": [
      "dict_values([0.13112877741698703, 0.13112877741698703, 0.13112877741698703])\n",
      "year: 2019 clf: rf\n",
      "model: acc={0.51}, mae={1.97}, rmse={3.68},r2={0.82}, {186}\n",
      "            naive: acc={0.58}, mae={1.94}, rmse={4.15},r2={0.78}\n"
     ]
    },
    {
     "name": "stderr",
     "output_type": "stream",
     "text": [
      "/scratch_ssd/hpda/anaconda3/envs/gluonts/lib/python3.6/site-packages/ipykernel_launcher.py:6: RuntimeWarning: invalid value encountered in less_equal\n",
      "  \n"
     ]
    },
    {
     "name": "stdout",
     "output_type": "stream",
     "text": [
      "dict_values([0.13620473009119297, 0.13620473009119297, 0.13620473009119294])\n",
      "year: 2019 clf: svr\n",
      "model: acc={0.58}, mae={1.90}, rmse={4.12},r2={0.78}, {186}\n",
      "            naive: acc={0.58}, mae={1.94}, rmse={4.15},r2={0.78}\n"
     ]
    },
    {
     "name": "stderr",
     "output_type": "stream",
     "text": [
      "/scratch_ssd/hpda/anaconda3/envs/gluonts/lib/python3.6/site-packages/ipykernel_launcher.py:6: RuntimeWarning: invalid value encountered in less_equal\n",
      "  \n"
     ]
    },
    {
     "name": "stdout",
     "output_type": "stream",
     "text": [
      "dict_values([0.13112877741698703, 0.13112877741698703, 0.13112877741698703])\n",
      "year: 2019 clf: xgb\n",
      "model: acc={0.46}, mae={1.70}, rmse={3.43},r2={0.85}, {186}\n",
      "            naive: acc={0.58}, mae={1.94}, rmse={4.15},r2={0.78}\n"
     ]
    },
    {
     "name": "stderr",
     "output_type": "stream",
     "text": [
      "/scratch_ssd/hpda/anaconda3/envs/gluonts/lib/python3.6/site-packages/ipykernel_launcher.py:6: RuntimeWarning: invalid value encountered in less_equal\n",
      "  \n"
     ]
    },
    {
     "name": "stdout",
     "output_type": "stream",
     "text": [
      "dict_values([0.11766754998196044, 0.11766754998196047, 0.11766754998196048])\n",
      "rerank...\n",
      "model: acc={0.75}, mae={1.66}, rmse={3.55},r2={0.84}, {186}\n",
      "            naive: acc={0.58}, mae={1.90}, rmse={4.12},r2={0.78}\n",
      "run2samples_ex, samplecnt: 10\n"
     ]
    },
    {
     "name": "stderr",
     "output_type": "stream",
     "text": [
      "/scratch_ssd/hpda/anaconda3/envs/gluonts/lib/python3.6/site-packages/ipykernel_launcher.py:6: RuntimeWarning: invalid value encountered in less_equal\n",
      "  \n"
     ]
    },
    {
     "name": "stdout",
     "output_type": "stream",
     "text": [
      "dict_values([0.10105754666199317, 0.11493684513601142, 0.09331447241590828])\n",
      "rerank...\n",
      "model: acc={0.67}, mae={1.73}, rmse={3.69},r2={0.82}, {186}\n",
      "            naive: acc={0.58}, mae={1.90}, rmse={4.12},r2={0.78}\n",
      "run2samples_ex, samplecnt: 100\n"
     ]
    },
    {
     "name": "stderr",
     "output_type": "stream",
     "text": [
      "/scratch_ssd/hpda/anaconda3/envs/gluonts/lib/python3.6/site-packages/ipykernel_launcher.py:6: RuntimeWarning: invalid value encountered in less_equal\n",
      "  \n"
     ]
    },
    {
     "name": "stdout",
     "output_type": "stream",
     "text": [
      "dict_values([0.09626203322358952, 0.11911796001652417, 0.09437201907790142])\n",
      "    Year           Model   SignAcc       MAE   50-Risk   90-Risk\n",
      "0   2018         CurRank  0.596774  2.271710  0.165394  0.165383\n",
      "1   2018    RandomForest  0.473118  2.391923  0.173953  0.173942\n",
      "2   2018             SVM  0.596774  2.271331  0.165367  0.165356\n",
      "3   2018         XGBoost  0.516129  2.161737  0.157194  0.157183\n",
      "4   2018  RankNet-Oracle  0.752688  2.011756  0.147576  0.123427\n",
      "5   2018     RankNet-MLP  0.693548  2.110732  0.153382  0.129460\n",
      "6   2019         CurRank  0.575269  1.895777  0.131129  0.131129\n",
      "7   2019    RandomForest  0.505376  1.970171  0.136205  0.136205\n",
      "8   2019             SVM  0.575269  1.895777  0.131129  0.131129\n",
      "9   2019         XGBoost  0.462366  1.703145  0.117668  0.117668\n",
      "10  2019  RankNet-Oracle  0.747312  1.658221  0.114937  0.093314\n",
      "11  2019     RankNet-MLP  0.672043  1.729021  0.119118  0.094372\n",
      "year: 2018 clf: currank\n",
      "model: acc={0.52}, mae={2.98}, rmse={5.17},r2={0.62}, {184}\n",
      "            naive: acc={0.52}, mae={3.05}, rmse={5.20},r2={0.63}\n"
     ]
    },
    {
     "name": "stderr",
     "output_type": "stream",
     "text": [
      "/scratch_ssd/hpda/anaconda3/envs/gluonts/lib/python3.6/site-packages/ipykernel_launcher.py:6: RuntimeWarning: invalid value encountered in less_equal\n",
      "  \n"
     ]
    },
    {
     "name": "stdout",
     "output_type": "stream",
     "text": [
      "dict_values([0.21761203647927377, 0.21760082932911198, 0.21758962217895017])\n",
      "year: 2018 clf: rf\n",
      "model: acc={0.47}, mae={2.81}, rmse={4.56},r2={0.71}, {184}\n",
      "            naive: acc={0.52}, mae={3.05}, rmse={5.20},r2={0.63}\n"
     ]
    },
    {
     "name": "stderr",
     "output_type": "stream",
     "text": [
      "/scratch_ssd/hpda/anaconda3/envs/gluonts/lib/python3.6/site-packages/ipykernel_launcher.py:6: RuntimeWarning: invalid value encountered in less_equal\n",
      "  \n"
     ]
    },
    {
     "name": "stdout",
     "output_type": "stream",
     "text": [
      "dict_values([0.2052001176750767, 0.2051889105249149, 0.20517770337475308])\n",
      "year: 2018 clf: svr\n",
      "model: acc={0.52}, mae={2.97}, rmse={5.15},r2={0.63}, {184}\n",
      "            naive: acc={0.52}, mae={3.05}, rmse={5.20},r2={0.63}\n"
     ]
    },
    {
     "name": "stderr",
     "output_type": "stream",
     "text": [
      "/scratch_ssd/hpda/anaconda3/envs/gluonts/lib/python3.6/site-packages/ipykernel_launcher.py:6: RuntimeWarning: invalid value encountered in less_equal\n",
      "  \n"
     ]
    },
    {
     "name": "stdout",
     "output_type": "stream",
     "text": [
      "dict_values([0.216911589594161, 0.21690038244399928, 0.21688917529383756])\n",
      "year: 2018 clf: xgb\n",
      "model: acc={0.40}, mae={2.66}, rmse={4.32},r2={0.74}, {184}\n",
      "            naive: acc={0.52}, mae={3.05}, rmse={5.20},r2={0.63}\n"
     ]
    },
    {
     "name": "stderr",
     "output_type": "stream",
     "text": [
      "/scratch_ssd/hpda/anaconda3/envs/gluonts/lib/python3.6/site-packages/ipykernel_launcher.py:6: RuntimeWarning: invalid value encountered in less_equal\n",
      "  \n"
     ]
    },
    {
     "name": "stdout",
     "output_type": "stream",
     "text": [
      "dict_values([0.19379684238544195, 0.1937856352352801, 0.19377442808511827])\n",
      "rerank...\n",
      "model: acc={0.72}, mae={2.36}, rmse={4.15},r2={0.76}, {184}\n",
      "            naive: acc={0.52}, mae={2.98}, rmse={5.17},r2={0.62}\n",
      "run2samples_ex, samplecnt: 10\n"
     ]
    },
    {
     "name": "stderr",
     "output_type": "stream",
     "text": [
      "/scratch_ssd/hpda/anaconda3/envs/gluonts/lib/python3.6/site-packages/ipykernel_launcher.py:6: RuntimeWarning: invalid value encountered in less_equal\n",
      "  \n"
     ]
    },
    {
     "name": "stdout",
     "output_type": "stream",
     "text": [
      "dict_values([0.15816218809980803, 0.17387377215761546, 0.14802303262955854])\n",
      "rerank...\n",
      "model: acc={0.63}, mae={2.62}, rmse={4.52},r2={0.71}, {184}\n",
      "            naive: acc={0.52}, mae={2.98}, rmse={5.17},r2={0.62}\n",
      "run2samples_ex, samplecnt: 100\n"
     ]
    },
    {
     "name": "stderr",
     "output_type": "stream",
     "text": [
      "/scratch_ssd/hpda/anaconda3/envs/gluonts/lib/python3.6/site-packages/ipykernel_launcher.py:6: RuntimeWarning: invalid value encountered in less_equal\n",
      "  \n"
     ]
    },
    {
     "name": "stdout",
     "output_type": "stream",
     "text": [
      "dict_values([0.15793835384441687, 0.19009681607767867, 0.1620040645816868])\n",
      "year: 2019 clf: currank\n",
      "model: acc={0.47}, mae={2.37}, rmse={4.66},r2={0.72}, {184}\n",
      "            naive: acc={0.47}, mae={2.42}, rmse={4.71},r2={0.71}\n"
     ]
    },
    {
     "name": "stderr",
     "output_type": "stream",
     "text": [
      "/scratch_ssd/hpda/anaconda3/envs/gluonts/lib/python3.6/site-packages/ipykernel_launcher.py:6: RuntimeWarning: invalid value encountered in less_equal\n",
      "  \n"
     ]
    },
    {
     "name": "stdout",
     "output_type": "stream",
     "text": [
      "dict_values([0.16390592918235983, 0.16390592918235983, 0.16390592918235983])\n",
      "year: 2019 clf: rf\n",
      "model: acc={0.43}, mae={2.35}, rmse={4.08},r2={0.78}, {184}\n",
      "            naive: acc={0.47}, mae={2.42}, rmse={4.71},r2={0.71}\n"
     ]
    },
    {
     "name": "stderr",
     "output_type": "stream",
     "text": [
      "/scratch_ssd/hpda/anaconda3/envs/gluonts/lib/python3.6/site-packages/ipykernel_launcher.py:6: RuntimeWarning: invalid value encountered in less_equal\n",
      "  \n"
     ]
    },
    {
     "name": "stdout",
     "output_type": "stream",
     "text": [
      "dict_values([0.1623187675564009, 0.16231876755640093, 0.16231876755640098])\n",
      "year: 2019 clf: svr\n",
      "model: acc={0.49}, mae={2.35}, rmse={4.63},r2={0.72}, {184}\n",
      "            naive: acc={0.47}, mae={2.42}, rmse={4.71},r2={0.71}\n"
     ]
    },
    {
     "name": "stderr",
     "output_type": "stream",
     "text": [
      "/scratch_ssd/hpda/anaconda3/envs/gluonts/lib/python3.6/site-packages/ipykernel_launcher.py:6: RuntimeWarning: invalid value encountered in less_equal\n",
      "  \n"
     ]
    },
    {
     "name": "stdout",
     "output_type": "stream",
     "text": [
      "dict_values([0.16267147013994737, 0.16267147013994734, 0.16267147013994732])\n",
      "year: 2019 clf: xgb\n",
      "model: acc={0.40}, mae={2.15}, rmse={3.87},r2={0.80}, {184}\n",
      "            naive: acc={0.47}, mae={2.42}, rmse={4.71},r2={0.71}\n"
     ]
    },
    {
     "name": "stderr",
     "output_type": "stream",
     "text": [
      "/scratch_ssd/hpda/anaconda3/envs/gluonts/lib/python3.6/site-packages/ipykernel_launcher.py:6: RuntimeWarning: invalid value encountered in less_equal\n",
      "  \n"
     ]
    },
    {
     "name": "stdout",
     "output_type": "stream",
     "text": [
      "dict_values([0.14879010417322736, 0.14879010417322736, 0.14879010417322736])\n",
      "rerank...\n",
      "model: acc={0.64}, mae={1.90}, rmse={3.79},r2={0.81}, {184}\n",
      "            naive: acc={0.47}, mae={2.37}, rmse={4.66},r2={0.72}\n",
      "run2samples_ex, samplecnt: 10\n"
     ]
    },
    {
     "name": "stderr",
     "output_type": "stream",
     "text": [
      "/scratch_ssd/hpda/anaconda3/envs/gluonts/lib/python3.6/site-packages/ipykernel_launcher.py:6: RuntimeWarning: invalid value encountered in less_equal\n",
      "  \n"
     ]
    },
    {
     "name": "stdout",
     "output_type": "stream",
     "text": [
      "dict_values([0.11701461510184938, 0.13182112027987983, 0.11034186409096096])\n",
      "rerank...\n",
      "model: acc={0.59}, mae={1.99}, rmse={3.97},r2={0.79}, {184}\n",
      "            naive: acc={0.47}, mae={2.37}, rmse={4.66},r2={0.72}\n",
      "run2samples_ex, samplecnt: 100\n"
     ]
    },
    {
     "name": "stderr",
     "output_type": "stream",
     "text": [
      "/scratch_ssd/hpda/anaconda3/envs/gluonts/lib/python3.6/site-packages/ipykernel_launcher.py:6: RuntimeWarning: invalid value encountered in less_equal\n",
      "  \n"
     ]
    },
    {
     "name": "stdout",
     "output_type": "stream",
     "text": [
      "dict_values([0.10708014855940477, 0.13741744939219935, 0.11265290083786489])\n",
      "    Year           Model   SignAcc       MAE   50-Risk   90-Risk\n",
      "0   2018         CurRank  0.521739  2.982527  0.217601  0.217590\n",
      "1   2018    RandomForest  0.467391  2.814708  0.205189  0.205178\n",
      "2   2018             SVM  0.521739  2.972926  0.216900  0.216889\n",
      "3   2018         XGBoost  0.396739  2.659562  0.193786  0.193774\n",
      "4   2018  RankNet-Oracle  0.717391  2.360215  0.173874  0.148023\n",
      "5   2018     RankNet-MLP  0.630435  2.617896  0.190097  0.162004\n",
      "6   2019         CurRank  0.472826  2.367570  0.163906  0.163906\n",
      "7   2019    RandomForest  0.429348  2.346846  0.162319  0.162319\n",
      "8   2019             SVM  0.494565  2.349755  0.162671  0.162671\n",
      "9   2019         XGBoost  0.396739  2.151972  0.148790  0.148790\n",
      "10  2019  RankNet-Oracle  0.635870  1.897110  0.131821  0.110342\n",
      "11  2019     RankNet-MLP  0.586957  1.986548  0.137417  0.112653\n",
      "year: 2018 clf: currank\n",
      "model: acc={0.47}, mae={3.53}, rmse={5.70},r2={0.54}, {182}\n",
      "            naive: acc={0.47}, mae={3.61}, rmse={5.73},r2={0.55}\n"
     ]
    },
    {
     "name": "stderr",
     "output_type": "stream",
     "text": [
      "/scratch_ssd/hpda/anaconda3/envs/gluonts/lib/python3.6/site-packages/ipykernel_launcher.py:6: RuntimeWarning: invalid value encountered in less_equal\n",
      "  \n"
     ]
    },
    {
     "name": "stdout",
     "output_type": "stream",
     "text": [
      "dict_values([0.2582194605201416, 0.2582080850882307, 0.2581967096563198])\n",
      "year: 2018 clf: rf\n",
      "model: acc={0.43}, mae={3.23}, rmse={5.02},r2={0.64}, {182}\n",
      "            naive: acc={0.47}, mae={3.61}, rmse={5.73},r2={0.55}\n"
     ]
    },
    {
     "name": "stderr",
     "output_type": "stream",
     "text": [
      "/scratch_ssd/hpda/anaconda3/envs/gluonts/lib/python3.6/site-packages/ipykernel_launcher.py:6: RuntimeWarning: invalid value encountered in less_equal\n",
      "  \n"
     ]
    },
    {
     "name": "stdout",
     "output_type": "stream",
     "text": [
      "dict_values([0.23626487693204606, 0.23625350150013508, 0.23624212606822417])\n",
      "year: 2018 clf: svr\n",
      "model: acc={0.52}, mae={3.50}, rmse={5.65},r2={0.55}, {182}\n",
      "            naive: acc={0.47}, mae={3.61}, rmse={5.73},r2={0.55}\n"
     ]
    },
    {
     "name": "stderr",
     "output_type": "stream",
     "text": [
      "/scratch_ssd/hpda/anaconda3/envs/gluonts/lib/python3.6/site-packages/ipykernel_launcher.py:6: RuntimeWarning: invalid value encountered in less_equal\n",
      "  \n"
     ]
    },
    {
     "name": "stdout",
     "output_type": "stream",
     "text": [
      "dict_values([0.2560296898772875, 0.2560183144453766, 0.25600693901346566])\n",
      "year: 2018 clf: xgb\n",
      "model: acc={0.41}, mae={3.23}, rmse={5.04},r2={0.64}, {182}\n",
      "            naive: acc={0.47}, mae={3.61}, rmse={5.73},r2={0.55}\n"
     ]
    },
    {
     "name": "stderr",
     "output_type": "stream",
     "text": [
      "/scratch_ssd/hpda/anaconda3/envs/gluonts/lib/python3.6/site-packages/ipykernel_launcher.py:6: RuntimeWarning: invalid value encountered in less_equal\n",
      "  \n"
     ]
    },
    {
     "name": "stdout",
     "output_type": "stream",
     "text": [
      "dict_values([0.23598049113427275, 0.23596911570236181, 0.23595774027045086])\n",
      "rerank...\n",
      "model: acc={0.64}, mae={3.13}, rmse={5.09},r2={0.62}, {182}\n",
      "            naive: acc={0.47}, mae={3.51}, rmse={5.66},r2={0.53}\n",
      "run2samples_ex, samplecnt: 10\n"
     ]
    },
    {
     "name": "stderr",
     "output_type": "stream",
     "text": [
      "/scratch_ssd/hpda/anaconda3/envs/gluonts/lib/python3.6/site-packages/ipykernel_launcher.py:6: RuntimeWarning: invalid value encountered in less_equal\n",
      "  \n"
     ]
    },
    {
     "name": "stdout",
     "output_type": "stream",
     "text": [
      "dict_values([0.21725829641149028, 0.23342918341597957, 0.19943428889997353])\n",
      "rerank...\n",
      "model: acc={0.59}, mae={3.29}, rmse={5.29},r2={0.59}, {182}\n",
      "            naive: acc={0.47}, mae={3.51}, rmse={5.66},r2={0.53}\n",
      "run2samples_ex, samplecnt: 100\n"
     ]
    },
    {
     "name": "stderr",
     "output_type": "stream",
     "text": [
      "/scratch_ssd/hpda/anaconda3/envs/gluonts/lib/python3.6/site-packages/ipykernel_launcher.py:6: RuntimeWarning: invalid value encountered in less_equal\n",
      "  \n"
     ]
    },
    {
     "name": "stdout",
     "output_type": "stream",
     "text": [
      "dict_values([0.21718112731433942, 0.2448505032129339, 0.2098849799008245])\n",
      "year: 2019 clf: currank\n",
      "model: acc={0.39}, mae={2.69}, rmse={5.00},r2={0.67}, {182}\n",
      "            naive: acc={0.39}, mae={2.76}, rmse={5.06},r2={0.67}\n"
     ]
    },
    {
     "name": "stderr",
     "output_type": "stream",
     "text": [
      "/scratch_ssd/hpda/anaconda3/envs/gluonts/lib/python3.6/site-packages/ipykernel_launcher.py:6: RuntimeWarning: invalid value encountered in less_equal\n",
      "  \n"
     ]
    },
    {
     "name": "stdout",
     "output_type": "stream",
     "text": [
      "dict_values([0.18605778429746792, 0.18605778429746794, 0.186057784297468])\n",
      "year: 2019 clf: rf\n",
      "model: acc={0.34}, mae={2.73}, rmse={4.47},r2={0.74}, {182}\n",
      "            naive: acc={0.39}, mae={2.76}, rmse={5.06},r2={0.67}\n"
     ]
    },
    {
     "name": "stderr",
     "output_type": "stream",
     "text": [
      "/scratch_ssd/hpda/anaconda3/envs/gluonts/lib/python3.6/site-packages/ipykernel_launcher.py:6: RuntimeWarning: invalid value encountered in less_equal\n",
      "  \n"
     ]
    },
    {
     "name": "stdout",
     "output_type": "stream",
     "text": [
      "dict_values([0.18906818036864595, 0.18906818036864595, 0.18906818036864595])\n",
      "year: 2019 clf: svr\n",
      "model: acc={0.42}, mae={2.65}, rmse={4.95},r2={0.68}, {182}\n",
      "            naive: acc={0.39}, mae={2.76}, rmse={5.06},r2={0.67}\n"
     ]
    },
    {
     "name": "stderr",
     "output_type": "stream",
     "text": [
      "/scratch_ssd/hpda/anaconda3/envs/gluonts/lib/python3.6/site-packages/ipykernel_launcher.py:6: RuntimeWarning: invalid value encountered in less_equal\n",
      "  \n"
     ]
    },
    {
     "name": "stdout",
     "output_type": "stream",
     "text": [
      "dict_values([0.1836851840040819, 0.1836851840040819, 0.18368518400408188])\n",
      "year: 2019 clf: xgb\n",
      "model: acc={0.33}, mae={2.62}, rmse={4.37},r2={0.75}, {182}\n",
      "            naive: acc={0.39}, mae={2.76}, rmse={5.06},r2={0.67}\n"
     ]
    },
    {
     "name": "stderr",
     "output_type": "stream",
     "text": [
      "/scratch_ssd/hpda/anaconda3/envs/gluonts/lib/python3.6/site-packages/ipykernel_launcher.py:6: RuntimeWarning: invalid value encountered in less_equal\n",
      "  \n"
     ]
    },
    {
     "name": "stdout",
     "output_type": "stream",
     "text": [
      "dict_values([0.18154219019070097, 0.18154219019070095, 0.1815421901907009])\n",
      "rerank...\n",
      "model: acc={0.53}, mae={2.36}, rmse={4.35},r2={0.75}, {182}\n",
      "            naive: acc={0.39}, mae={2.69}, rmse={5.00},r2={0.67}\n",
      "run2samples_ex, samplecnt: 10\n"
     ]
    },
    {
     "name": "stderr",
     "output_type": "stream",
     "text": [
      "/scratch_ssd/hpda/anaconda3/envs/gluonts/lib/python3.6/site-packages/ipykernel_launcher.py:6: RuntimeWarning: invalid value encountered in less_equal\n",
      "  \n"
     ]
    },
    {
     "name": "stdout",
     "output_type": "stream",
     "text": [
      "dict_values([0.14614025853990423, 0.16390454306217025, 0.1372641497323457])\n",
      "rerank...\n",
      "model: acc={0.51}, mae={2.43}, rmse={4.47},r2={0.74}, {182}\n",
      "            naive: acc={0.39}, mae={2.69}, rmse={5.00},r2={0.67}\n",
      "run2samples_ex, samplecnt: 100\n",
      "dict_values([0.1406947457605361, 0.16813437913195292, 0.13932605039859303])\n",
      "    Year           Model   SignAcc       MAE   50-Risk   90-Risk\n",
      "0   2018         CurRank  0.467033  3.531505  0.258208  0.258197\n",
      "1   2018    RandomForest  0.428571  3.234345  0.236254  0.236242\n",
      "2   2018             SVM  0.516484  3.501556  0.256018  0.256007\n",
      "3   2018         XGBoost  0.412088  3.230844  0.235969  0.235958\n",
      "4   2018  RankNet-Oracle  0.642857  3.132914  0.233429  0.199434\n",
      "5   2018     RankNet-MLP  0.593407  3.289422  0.244851  0.209885\n",
      "6   2019         CurRank  0.390110  2.686040  0.186058  0.186058\n",
      "7   2019    RandomForest  0.335165  2.733493  0.189068  0.189068\n",
      "8   2019             SVM  0.423077  2.651830  0.183685  0.183685\n",
      "9   2019         XGBoost  0.329670  2.624241  0.181542  0.181542\n",
      "10  2019  RankNet-Oracle  0.527473  2.361596  0.163905  0.137264\n",
      "11  2019     RankNet-MLP  0.505495  2.425602  0.168134  0.139326\n"
     ]
    },
    {
     "name": "stderr",
     "output_type": "stream",
     "text": [
      "/scratch_ssd/hpda/anaconda3/envs/gluonts/lib/python3.6/site-packages/ipykernel_launcher.py:6: RuntimeWarning: invalid value encountered in less_equal\n",
      "  \n"
     ]
    }
   ],
   "source": [
    "for plen in [4,6,8]:\n",
    "#for plen in [2,4,6]:\n",
    "\n",
    "    outfile=f'shortterm-dfout-mlmodels-indy500-tr2013_2017-te2018_2019-end{include_str}-rerank-t{plen}.pickle'\n",
    "    shortterm_df = load_dfout(outfile)\n",
    "    outfile=f'shortterm-dfout-ranknet-indy500-rank-inlap-nopitage-20182019-{usemeanstr}-t{plen}-alldata.pickle'\n",
    "    _all = load_dfout_all(outfile)[0]\n",
    "    ranknetdf, ranknet_acc, ranknet_ret,ranknet_pret = _all[0],_all[1],_all[2],_all[3]\n",
    "\n",
    "    retdata = []\n",
    "    for year in ['2018','2019']:\n",
    "        for clf in ['currank','rf','svr','xgb']:\n",
    "            print('year:',year,'clf:',clf)\n",
    "            #dfout, accret = eval_sync(preddf[year][clf],errlist[year])\n",
    "            dfout = shortterm_df[year][clf]\n",
    "            accret = stint.get_evalret_shortterm(dfout)[0]\n",
    "\n",
    "            fsamples, ftss = df2samples(dfout)\n",
    "            _, prisk_vals = prisk_direct_bysamples(fsamples, ftss)\n",
    "\n",
    "            retdata.append([year,models[clf],accret[0], accret[1], prisk_vals[1], prisk_vals[2]])\n",
    "\n",
    "        #oracle\n",
    "        dfout = do_rerank(ranknetdf[year]['oracle_mean'])\n",
    "        accret = stint.get_evalret_shortterm(dfout)[0]\n",
    "        fsamples, ftss = runs2samples_ex(ranknet_ret[f'oracle-RANK-{year}-inlap-nopitage'],[])\n",
    "        _, prisk_vals = prisk_direct_bysamples(fsamples, ftss)\n",
    "        retdata.append([year,'RankNet-Oracle',accret[0], accret[1], prisk_vals[1], prisk_vals[2]])\n",
    "        \n",
    "        #raw_prisk = ranknet_pret[f'oracle-RANK-{year}-inlap-nopitage']\n",
    "        #retdata.append([year,'RankNet-Oracle',accret[0], accret[1], raw_prisk[1], raw_prisk[2]])\n",
    "\n",
    "        #pitmodel\n",
    "        dfout = do_rerank(ranknetdf[year]['pitmodel_mean'])\n",
    "        accret = stint.get_evalret_shortterm(dfout)[0]\n",
    "        fsamples, ftss = runs2samples_ex(ranknet_ret[f'pitmodel-RANK-{year}-inlap-nopitage'],[])\n",
    "        _, prisk_vals = prisk_direct_bysamples(fsamples, ftss)\n",
    "        retdata.append([year,'RankNet-MLP',accret[0], accret[1], prisk_vals[1], prisk_vals[2]])\n",
    "\n",
    "        #raw_prisk = ranknet_pret[f'pitmodel-RANK-{year}-inlap-nopitage']\n",
    "        #retdata.append([year,'RankNet-MLP',accret[0], accret[1], raw_prisk[1], raw_prisk[2]])\n",
    "\n",
    "        #print('oracle:', ranknet_pret[f'oracle-RANK-2018-inlap-nopitage'])\n",
    "        #print('pitmodel:', ranknet_pret[f'pitmodel-RANK-2018-inlap-nopitage'])\n",
    "\n",
    "    stint_result[plen] = pd.DataFrame(data=retdata, columns=cols)\n",
    "    \n",
    "    print(stint_result[plen])\n"
   ]
  },
  {
   "cell_type": "code",
   "execution_count": 41,
   "metadata": {},
   "outputs": [
    {
     "data": {
      "text/html": [
       "<div>\n",
       "<style scoped>\n",
       "    .dataframe tbody tr th:only-of-type {\n",
       "        vertical-align: middle;\n",
       "    }\n",
       "\n",
       "    .dataframe tbody tr th {\n",
       "        vertical-align: top;\n",
       "    }\n",
       "\n",
       "    .dataframe thead th {\n",
       "        text-align: right;\n",
       "    }\n",
       "</style>\n",
       "<table border=\"1\" class=\"dataframe\">\n",
       "  <thead>\n",
       "    <tr style=\"text-align: right;\">\n",
       "      <th></th>\n",
       "      <th>Year</th>\n",
       "      <th>Model</th>\n",
       "      <th>SignAcc</th>\n",
       "      <th>MAE</th>\n",
       "      <th>50-Risk</th>\n",
       "      <th>90-Risk</th>\n",
       "    </tr>\n",
       "  </thead>\n",
       "  <tbody>\n",
       "    <tr>\n",
       "      <th>0</th>\n",
       "      <td>2018</td>\n",
       "      <td>CurRank</td>\n",
       "      <td>0.718085</td>\n",
       "      <td>1.339513</td>\n",
       "      <td>0.097326</td>\n",
       "      <td>0.097315</td>\n",
       "    </tr>\n",
       "    <tr>\n",
       "      <th>1</th>\n",
       "      <td>2018</td>\n",
       "      <td>RandomForest</td>\n",
       "      <td>0.473404</td>\n",
       "      <td>1.688951</td>\n",
       "      <td>0.122416</td>\n",
       "      <td>0.122406</td>\n",
       "    </tr>\n",
       "    <tr>\n",
       "      <th>2</th>\n",
       "      <td>2018</td>\n",
       "      <td>SVM</td>\n",
       "      <td>0.718085</td>\n",
       "      <td>1.339513</td>\n",
       "      <td>0.097326</td>\n",
       "      <td>0.097315</td>\n",
       "    </tr>\n",
       "    <tr>\n",
       "      <th>3</th>\n",
       "      <td>2018</td>\n",
       "      <td>XGBoost</td>\n",
       "      <td>0.462766</td>\n",
       "      <td>1.630899</td>\n",
       "      <td>0.118471</td>\n",
       "      <td>0.118460</td>\n",
       "    </tr>\n",
       "    <tr>\n",
       "      <th>4</th>\n",
       "      <td>2018</td>\n",
       "      <td>RankNet-Oracle</td>\n",
       "      <td>0.861702</td>\n",
       "      <td>1.108989</td>\n",
       "      <td>0.079663</td>\n",
       "      <td>0.073352</td>\n",
       "    </tr>\n",
       "    <tr>\n",
       "      <th>5</th>\n",
       "      <td>2018</td>\n",
       "      <td>RankNet-MLP</td>\n",
       "      <td>0.781915</td>\n",
       "      <td>1.213858</td>\n",
       "      <td>0.085808</td>\n",
       "      <td>0.076886</td>\n",
       "    </tr>\n",
       "    <tr>\n",
       "      <th>6</th>\n",
       "      <td>2019</td>\n",
       "      <td>CurRank</td>\n",
       "      <td>0.734043</td>\n",
       "      <td>1.162551</td>\n",
       "      <td>0.080397</td>\n",
       "      <td>0.080397</td>\n",
       "    </tr>\n",
       "    <tr>\n",
       "      <th>7</th>\n",
       "      <td>2019</td>\n",
       "      <td>RandomForest</td>\n",
       "      <td>0.627660</td>\n",
       "      <td>1.317108</td>\n",
       "      <td>0.090941</td>\n",
       "      <td>0.090941</td>\n",
       "    </tr>\n",
       "    <tr>\n",
       "      <th>8</th>\n",
       "      <td>2019</td>\n",
       "      <td>SVM</td>\n",
       "      <td>0.734043</td>\n",
       "      <td>1.162551</td>\n",
       "      <td>0.080397</td>\n",
       "      <td>0.080397</td>\n",
       "    </tr>\n",
       "    <tr>\n",
       "      <th>9</th>\n",
       "      <td>2019</td>\n",
       "      <td>XGBoost</td>\n",
       "      <td>0.643617</td>\n",
       "      <td>1.247113</td>\n",
       "      <td>0.086222</td>\n",
       "      <td>0.086222</td>\n",
       "    </tr>\n",
       "    <tr>\n",
       "      <th>10</th>\n",
       "      <td>2019</td>\n",
       "      <td>RankNet-Oracle</td>\n",
       "      <td>0.856383</td>\n",
       "      <td>0.973530</td>\n",
       "      <td>0.066568</td>\n",
       "      <td>0.060560</td>\n",
       "    </tr>\n",
       "    <tr>\n",
       "      <th>11</th>\n",
       "      <td>2019</td>\n",
       "      <td>RankNet-MLP</td>\n",
       "      <td>0.776596</td>\n",
       "      <td>1.074081</td>\n",
       "      <td>0.071719</td>\n",
       "      <td>0.060852</td>\n",
       "    </tr>\n",
       "  </tbody>\n",
       "</table>\n",
       "</div>"
      ],
      "text/plain": [
       "    Year           Model   SignAcc       MAE   50-Risk   90-Risk\n",
       "0   2018         CurRank  0.718085  1.339513  0.097326  0.097315\n",
       "1   2018    RandomForest  0.473404  1.688951  0.122416  0.122406\n",
       "2   2018             SVM  0.718085  1.339513  0.097326  0.097315\n",
       "3   2018         XGBoost  0.462766  1.630899  0.118471  0.118460\n",
       "4   2018  RankNet-Oracle  0.861702  1.108989  0.079663  0.073352\n",
       "5   2018     RankNet-MLP  0.781915  1.213858  0.085808  0.076886\n",
       "6   2019         CurRank  0.734043  1.162551  0.080397  0.080397\n",
       "7   2019    RandomForest  0.627660  1.317108  0.090941  0.090941\n",
       "8   2019             SVM  0.734043  1.162551  0.080397  0.080397\n",
       "9   2019         XGBoost  0.643617  1.247113  0.086222  0.086222\n",
       "10  2019  RankNet-Oracle  0.856383  0.973530  0.066568  0.060560\n",
       "11  2019     RankNet-MLP  0.776596  1.074081  0.071719  0.060852"
      ]
     },
     "execution_count": 41,
     "metadata": {},
     "output_type": "execute_result"
    }
   ],
   "source": [
    "stint_result[2]"
   ]
  },
  {
   "cell_type": "code",
   "execution_count": 42,
   "metadata": {},
   "outputs": [
    {
     "data": {
      "text/html": [
       "<div>\n",
       "<style scoped>\n",
       "    .dataframe tbody tr th:only-of-type {\n",
       "        vertical-align: middle;\n",
       "    }\n",
       "\n",
       "    .dataframe tbody tr th {\n",
       "        vertical-align: top;\n",
       "    }\n",
       "\n",
       "    .dataframe thead th {\n",
       "        text-align: right;\n",
       "    }\n",
       "</style>\n",
       "<table border=\"1\" class=\"dataframe\">\n",
       "  <thead>\n",
       "    <tr style=\"text-align: right;\">\n",
       "      <th></th>\n",
       "      <th>Year</th>\n",
       "      <th>Model</th>\n",
       "      <th>SignAcc</th>\n",
       "      <th>MAE</th>\n",
       "      <th>50-Risk</th>\n",
       "      <th>90-Risk</th>\n",
       "    </tr>\n",
       "  </thead>\n",
       "  <tbody>\n",
       "    <tr>\n",
       "      <th>0</th>\n",
       "      <td>2018</td>\n",
       "      <td>CurRank</td>\n",
       "      <td>0.596774</td>\n",
       "      <td>2.271710</td>\n",
       "      <td>0.165394</td>\n",
       "      <td>0.165383</td>\n",
       "    </tr>\n",
       "    <tr>\n",
       "      <th>1</th>\n",
       "      <td>2018</td>\n",
       "      <td>RandomForest</td>\n",
       "      <td>0.473118</td>\n",
       "      <td>2.391923</td>\n",
       "      <td>0.173953</td>\n",
       "      <td>0.173942</td>\n",
       "    </tr>\n",
       "    <tr>\n",
       "      <th>2</th>\n",
       "      <td>2018</td>\n",
       "      <td>SVM</td>\n",
       "      <td>0.596774</td>\n",
       "      <td>2.271331</td>\n",
       "      <td>0.165367</td>\n",
       "      <td>0.165356</td>\n",
       "    </tr>\n",
       "    <tr>\n",
       "      <th>3</th>\n",
       "      <td>2018</td>\n",
       "      <td>XGBoost</td>\n",
       "      <td>0.516129</td>\n",
       "      <td>2.161737</td>\n",
       "      <td>0.157194</td>\n",
       "      <td>0.157183</td>\n",
       "    </tr>\n",
       "    <tr>\n",
       "      <th>4</th>\n",
       "      <td>2018</td>\n",
       "      <td>RankNet-Oracle</td>\n",
       "      <td>0.752688</td>\n",
       "      <td>2.011756</td>\n",
       "      <td>0.147576</td>\n",
       "      <td>0.123427</td>\n",
       "    </tr>\n",
       "    <tr>\n",
       "      <th>5</th>\n",
       "      <td>2018</td>\n",
       "      <td>RankNet-MLP</td>\n",
       "      <td>0.693548</td>\n",
       "      <td>2.110732</td>\n",
       "      <td>0.153382</td>\n",
       "      <td>0.129460</td>\n",
       "    </tr>\n",
       "    <tr>\n",
       "      <th>6</th>\n",
       "      <td>2019</td>\n",
       "      <td>CurRank</td>\n",
       "      <td>0.575269</td>\n",
       "      <td>1.895777</td>\n",
       "      <td>0.131129</td>\n",
       "      <td>0.131129</td>\n",
       "    </tr>\n",
       "    <tr>\n",
       "      <th>7</th>\n",
       "      <td>2019</td>\n",
       "      <td>RandomForest</td>\n",
       "      <td>0.505376</td>\n",
       "      <td>1.970171</td>\n",
       "      <td>0.136205</td>\n",
       "      <td>0.136205</td>\n",
       "    </tr>\n",
       "    <tr>\n",
       "      <th>8</th>\n",
       "      <td>2019</td>\n",
       "      <td>SVM</td>\n",
       "      <td>0.575269</td>\n",
       "      <td>1.895777</td>\n",
       "      <td>0.131129</td>\n",
       "      <td>0.131129</td>\n",
       "    </tr>\n",
       "    <tr>\n",
       "      <th>9</th>\n",
       "      <td>2019</td>\n",
       "      <td>XGBoost</td>\n",
       "      <td>0.462366</td>\n",
       "      <td>1.703145</td>\n",
       "      <td>0.117668</td>\n",
       "      <td>0.117668</td>\n",
       "    </tr>\n",
       "    <tr>\n",
       "      <th>10</th>\n",
       "      <td>2019</td>\n",
       "      <td>RankNet-Oracle</td>\n",
       "      <td>0.747312</td>\n",
       "      <td>1.658221</td>\n",
       "      <td>0.114937</td>\n",
       "      <td>0.093314</td>\n",
       "    </tr>\n",
       "    <tr>\n",
       "      <th>11</th>\n",
       "      <td>2019</td>\n",
       "      <td>RankNet-MLP</td>\n",
       "      <td>0.672043</td>\n",
       "      <td>1.729021</td>\n",
       "      <td>0.119118</td>\n",
       "      <td>0.094372</td>\n",
       "    </tr>\n",
       "  </tbody>\n",
       "</table>\n",
       "</div>"
      ],
      "text/plain": [
       "    Year           Model   SignAcc       MAE   50-Risk   90-Risk\n",
       "0   2018         CurRank  0.596774  2.271710  0.165394  0.165383\n",
       "1   2018    RandomForest  0.473118  2.391923  0.173953  0.173942\n",
       "2   2018             SVM  0.596774  2.271331  0.165367  0.165356\n",
       "3   2018         XGBoost  0.516129  2.161737  0.157194  0.157183\n",
       "4   2018  RankNet-Oracle  0.752688  2.011756  0.147576  0.123427\n",
       "5   2018     RankNet-MLP  0.693548  2.110732  0.153382  0.129460\n",
       "6   2019         CurRank  0.575269  1.895777  0.131129  0.131129\n",
       "7   2019    RandomForest  0.505376  1.970171  0.136205  0.136205\n",
       "8   2019             SVM  0.575269  1.895777  0.131129  0.131129\n",
       "9   2019         XGBoost  0.462366  1.703145  0.117668  0.117668\n",
       "10  2019  RankNet-Oracle  0.747312  1.658221  0.114937  0.093314\n",
       "11  2019     RankNet-MLP  0.672043  1.729021  0.119118  0.094372"
      ]
     },
     "execution_count": 42,
     "metadata": {},
     "output_type": "execute_result"
    }
   ],
   "source": [
    "stint_result[4]"
   ]
  },
  {
   "cell_type": "code",
   "execution_count": 43,
   "metadata": {},
   "outputs": [
    {
     "data": {
      "text/html": [
       "<div>\n",
       "<style scoped>\n",
       "    .dataframe tbody tr th:only-of-type {\n",
       "        vertical-align: middle;\n",
       "    }\n",
       "\n",
       "    .dataframe tbody tr th {\n",
       "        vertical-align: top;\n",
       "    }\n",
       "\n",
       "    .dataframe thead th {\n",
       "        text-align: right;\n",
       "    }\n",
       "</style>\n",
       "<table border=\"1\" class=\"dataframe\">\n",
       "  <thead>\n",
       "    <tr style=\"text-align: right;\">\n",
       "      <th></th>\n",
       "      <th>Year</th>\n",
       "      <th>Model</th>\n",
       "      <th>SignAcc</th>\n",
       "      <th>MAE</th>\n",
       "      <th>50-Risk</th>\n",
       "      <th>90-Risk</th>\n",
       "    </tr>\n",
       "  </thead>\n",
       "  <tbody>\n",
       "    <tr>\n",
       "      <th>0</th>\n",
       "      <td>2018</td>\n",
       "      <td>CurRank</td>\n",
       "      <td>0.521739</td>\n",
       "      <td>2.982527</td>\n",
       "      <td>0.217601</td>\n",
       "      <td>0.217590</td>\n",
       "    </tr>\n",
       "    <tr>\n",
       "      <th>1</th>\n",
       "      <td>2018</td>\n",
       "      <td>RandomForest</td>\n",
       "      <td>0.467391</td>\n",
       "      <td>2.814708</td>\n",
       "      <td>0.205189</td>\n",
       "      <td>0.205178</td>\n",
       "    </tr>\n",
       "    <tr>\n",
       "      <th>2</th>\n",
       "      <td>2018</td>\n",
       "      <td>SVM</td>\n",
       "      <td>0.521739</td>\n",
       "      <td>2.972926</td>\n",
       "      <td>0.216900</td>\n",
       "      <td>0.216889</td>\n",
       "    </tr>\n",
       "    <tr>\n",
       "      <th>3</th>\n",
       "      <td>2018</td>\n",
       "      <td>XGBoost</td>\n",
       "      <td>0.396739</td>\n",
       "      <td>2.659562</td>\n",
       "      <td>0.193786</td>\n",
       "      <td>0.193774</td>\n",
       "    </tr>\n",
       "    <tr>\n",
       "      <th>4</th>\n",
       "      <td>2018</td>\n",
       "      <td>RankNet-Oracle</td>\n",
       "      <td>0.717391</td>\n",
       "      <td>2.360215</td>\n",
       "      <td>0.173874</td>\n",
       "      <td>0.148023</td>\n",
       "    </tr>\n",
       "    <tr>\n",
       "      <th>5</th>\n",
       "      <td>2018</td>\n",
       "      <td>RankNet-MLP</td>\n",
       "      <td>0.630435</td>\n",
       "      <td>2.617896</td>\n",
       "      <td>0.190097</td>\n",
       "      <td>0.162004</td>\n",
       "    </tr>\n",
       "    <tr>\n",
       "      <th>6</th>\n",
       "      <td>2019</td>\n",
       "      <td>CurRank</td>\n",
       "      <td>0.472826</td>\n",
       "      <td>2.367570</td>\n",
       "      <td>0.163906</td>\n",
       "      <td>0.163906</td>\n",
       "    </tr>\n",
       "    <tr>\n",
       "      <th>7</th>\n",
       "      <td>2019</td>\n",
       "      <td>RandomForest</td>\n",
       "      <td>0.429348</td>\n",
       "      <td>2.346846</td>\n",
       "      <td>0.162319</td>\n",
       "      <td>0.162319</td>\n",
       "    </tr>\n",
       "    <tr>\n",
       "      <th>8</th>\n",
       "      <td>2019</td>\n",
       "      <td>SVM</td>\n",
       "      <td>0.494565</td>\n",
       "      <td>2.349755</td>\n",
       "      <td>0.162671</td>\n",
       "      <td>0.162671</td>\n",
       "    </tr>\n",
       "    <tr>\n",
       "      <th>9</th>\n",
       "      <td>2019</td>\n",
       "      <td>XGBoost</td>\n",
       "      <td>0.396739</td>\n",
       "      <td>2.151972</td>\n",
       "      <td>0.148790</td>\n",
       "      <td>0.148790</td>\n",
       "    </tr>\n",
       "    <tr>\n",
       "      <th>10</th>\n",
       "      <td>2019</td>\n",
       "      <td>RankNet-Oracle</td>\n",
       "      <td>0.635870</td>\n",
       "      <td>1.897110</td>\n",
       "      <td>0.131821</td>\n",
       "      <td>0.110342</td>\n",
       "    </tr>\n",
       "    <tr>\n",
       "      <th>11</th>\n",
       "      <td>2019</td>\n",
       "      <td>RankNet-MLP</td>\n",
       "      <td>0.586957</td>\n",
       "      <td>1.986548</td>\n",
       "      <td>0.137417</td>\n",
       "      <td>0.112653</td>\n",
       "    </tr>\n",
       "  </tbody>\n",
       "</table>\n",
       "</div>"
      ],
      "text/plain": [
       "    Year           Model   SignAcc       MAE   50-Risk   90-Risk\n",
       "0   2018         CurRank  0.521739  2.982527  0.217601  0.217590\n",
       "1   2018    RandomForest  0.467391  2.814708  0.205189  0.205178\n",
       "2   2018             SVM  0.521739  2.972926  0.216900  0.216889\n",
       "3   2018         XGBoost  0.396739  2.659562  0.193786  0.193774\n",
       "4   2018  RankNet-Oracle  0.717391  2.360215  0.173874  0.148023\n",
       "5   2018     RankNet-MLP  0.630435  2.617896  0.190097  0.162004\n",
       "6   2019         CurRank  0.472826  2.367570  0.163906  0.163906\n",
       "7   2019    RandomForest  0.429348  2.346846  0.162319  0.162319\n",
       "8   2019             SVM  0.494565  2.349755  0.162671  0.162671\n",
       "9   2019         XGBoost  0.396739  2.151972  0.148790  0.148790\n",
       "10  2019  RankNet-Oracle  0.635870  1.897110  0.131821  0.110342\n",
       "11  2019     RankNet-MLP  0.586957  1.986548  0.137417  0.112653"
      ]
     },
     "execution_count": 43,
     "metadata": {},
     "output_type": "execute_result"
    }
   ],
   "source": [
    "stint_result[6]"
   ]
  },
  {
   "cell_type": "code",
   "execution_count": 44,
   "metadata": {},
   "outputs": [
    {
     "data": {
      "text/html": [
       "<div>\n",
       "<style scoped>\n",
       "    .dataframe tbody tr th:only-of-type {\n",
       "        vertical-align: middle;\n",
       "    }\n",
       "\n",
       "    .dataframe tbody tr th {\n",
       "        vertical-align: top;\n",
       "    }\n",
       "\n",
       "    .dataframe thead th {\n",
       "        text-align: right;\n",
       "    }\n",
       "</style>\n",
       "<table border=\"1\" class=\"dataframe\">\n",
       "  <thead>\n",
       "    <tr style=\"text-align: right;\">\n",
       "      <th></th>\n",
       "      <th>Year</th>\n",
       "      <th>Model</th>\n",
       "      <th>SignAcc</th>\n",
       "      <th>MAE</th>\n",
       "      <th>50-Risk</th>\n",
       "      <th>90-Risk</th>\n",
       "    </tr>\n",
       "  </thead>\n",
       "  <tbody>\n",
       "    <tr>\n",
       "      <th>0</th>\n",
       "      <td>2018</td>\n",
       "      <td>CurRank</td>\n",
       "      <td>0.467033</td>\n",
       "      <td>3.531505</td>\n",
       "      <td>0.258208</td>\n",
       "      <td>0.258197</td>\n",
       "    </tr>\n",
       "    <tr>\n",
       "      <th>1</th>\n",
       "      <td>2018</td>\n",
       "      <td>RandomForest</td>\n",
       "      <td>0.428571</td>\n",
       "      <td>3.234345</td>\n",
       "      <td>0.236254</td>\n",
       "      <td>0.236242</td>\n",
       "    </tr>\n",
       "    <tr>\n",
       "      <th>2</th>\n",
       "      <td>2018</td>\n",
       "      <td>SVM</td>\n",
       "      <td>0.516484</td>\n",
       "      <td>3.501556</td>\n",
       "      <td>0.256018</td>\n",
       "      <td>0.256007</td>\n",
       "    </tr>\n",
       "    <tr>\n",
       "      <th>3</th>\n",
       "      <td>2018</td>\n",
       "      <td>XGBoost</td>\n",
       "      <td>0.412088</td>\n",
       "      <td>3.230844</td>\n",
       "      <td>0.235969</td>\n",
       "      <td>0.235958</td>\n",
       "    </tr>\n",
       "    <tr>\n",
       "      <th>4</th>\n",
       "      <td>2018</td>\n",
       "      <td>RankNet-Oracle</td>\n",
       "      <td>0.642857</td>\n",
       "      <td>3.132914</td>\n",
       "      <td>0.233429</td>\n",
       "      <td>0.199434</td>\n",
       "    </tr>\n",
       "    <tr>\n",
       "      <th>5</th>\n",
       "      <td>2018</td>\n",
       "      <td>RankNet-MLP</td>\n",
       "      <td>0.593407</td>\n",
       "      <td>3.289422</td>\n",
       "      <td>0.244851</td>\n",
       "      <td>0.209885</td>\n",
       "    </tr>\n",
       "    <tr>\n",
       "      <th>6</th>\n",
       "      <td>2019</td>\n",
       "      <td>CurRank</td>\n",
       "      <td>0.390110</td>\n",
       "      <td>2.686040</td>\n",
       "      <td>0.186058</td>\n",
       "      <td>0.186058</td>\n",
       "    </tr>\n",
       "    <tr>\n",
       "      <th>7</th>\n",
       "      <td>2019</td>\n",
       "      <td>RandomForest</td>\n",
       "      <td>0.335165</td>\n",
       "      <td>2.733493</td>\n",
       "      <td>0.189068</td>\n",
       "      <td>0.189068</td>\n",
       "    </tr>\n",
       "    <tr>\n",
       "      <th>8</th>\n",
       "      <td>2019</td>\n",
       "      <td>SVM</td>\n",
       "      <td>0.423077</td>\n",
       "      <td>2.651830</td>\n",
       "      <td>0.183685</td>\n",
       "      <td>0.183685</td>\n",
       "    </tr>\n",
       "    <tr>\n",
       "      <th>9</th>\n",
       "      <td>2019</td>\n",
       "      <td>XGBoost</td>\n",
       "      <td>0.329670</td>\n",
       "      <td>2.624241</td>\n",
       "      <td>0.181542</td>\n",
       "      <td>0.181542</td>\n",
       "    </tr>\n",
       "    <tr>\n",
       "      <th>10</th>\n",
       "      <td>2019</td>\n",
       "      <td>RankNet-Oracle</td>\n",
       "      <td>0.527473</td>\n",
       "      <td>2.361596</td>\n",
       "      <td>0.163905</td>\n",
       "      <td>0.137264</td>\n",
       "    </tr>\n",
       "    <tr>\n",
       "      <th>11</th>\n",
       "      <td>2019</td>\n",
       "      <td>RankNet-MLP</td>\n",
       "      <td>0.505495</td>\n",
       "      <td>2.425602</td>\n",
       "      <td>0.168134</td>\n",
       "      <td>0.139326</td>\n",
       "    </tr>\n",
       "  </tbody>\n",
       "</table>\n",
       "</div>"
      ],
      "text/plain": [
       "    Year           Model   SignAcc       MAE   50-Risk   90-Risk\n",
       "0   2018         CurRank  0.467033  3.531505  0.258208  0.258197\n",
       "1   2018    RandomForest  0.428571  3.234345  0.236254  0.236242\n",
       "2   2018             SVM  0.516484  3.501556  0.256018  0.256007\n",
       "3   2018         XGBoost  0.412088  3.230844  0.235969  0.235958\n",
       "4   2018  RankNet-Oracle  0.642857  3.132914  0.233429  0.199434\n",
       "5   2018     RankNet-MLP  0.593407  3.289422  0.244851  0.209885\n",
       "6   2019         CurRank  0.390110  2.686040  0.186058  0.186058\n",
       "7   2019    RandomForest  0.335165  2.733493  0.189068  0.189068\n",
       "8   2019             SVM  0.423077  2.651830  0.183685  0.183685\n",
       "9   2019         XGBoost  0.329670  2.624241  0.181542  0.181542\n",
       "10  2019  RankNet-Oracle  0.527473  2.361596  0.163905  0.137264\n",
       "11  2019     RankNet-MLP  0.505495  2.425602  0.168134  0.139326"
      ]
     },
     "execution_count": 44,
     "metadata": {},
     "output_type": "execute_result"
    }
   ],
   "source": [
    "stint_result[8]"
   ]
  },
  {
   "cell_type": "code",
   "execution_count": 45,
   "metadata": {},
   "outputs": [
    {
     "data": {
      "text/plain": [
       "{2:     Year           Model   SignAcc       MAE   50-Risk   90-Risk\n",
       " 0   2018         CurRank  0.718085  1.339513  0.097326  0.097315\n",
       " 1   2018    RandomForest  0.473404  1.688951  0.122416  0.122406\n",
       " 2   2018             SVM  0.718085  1.339513  0.097326  0.097315\n",
       " 3   2018         XGBoost  0.462766  1.630899  0.118471  0.118460\n",
       " 4   2018  RankNet-Oracle  0.861702  1.108989  0.079663  0.073352\n",
       " 5   2018     RankNet-MLP  0.781915  1.213858  0.085808  0.076886\n",
       " 6   2019         CurRank  0.734043  1.162551  0.080397  0.080397\n",
       " 7   2019    RandomForest  0.627660  1.317108  0.090941  0.090941\n",
       " 8   2019             SVM  0.734043  1.162551  0.080397  0.080397\n",
       " 9   2019         XGBoost  0.643617  1.247113  0.086222  0.086222\n",
       " 10  2019  RankNet-Oracle  0.856383  0.973530  0.066568  0.060560\n",
       " 11  2019     RankNet-MLP  0.776596  1.074081  0.071719  0.060852,\n",
       " 4:     Year           Model   SignAcc       MAE   50-Risk   90-Risk\n",
       " 0   2018         CurRank  0.596774  2.271710  0.165394  0.165383\n",
       " 1   2018    RandomForest  0.473118  2.391923  0.173953  0.173942\n",
       " 2   2018             SVM  0.596774  2.271331  0.165367  0.165356\n",
       " 3   2018         XGBoost  0.516129  2.161737  0.157194  0.157183\n",
       " 4   2018  RankNet-Oracle  0.752688  2.011756  0.147576  0.123427\n",
       " 5   2018     RankNet-MLP  0.693548  2.110732  0.153382  0.129460\n",
       " 6   2019         CurRank  0.575269  1.895777  0.131129  0.131129\n",
       " 7   2019    RandomForest  0.505376  1.970171  0.136205  0.136205\n",
       " 8   2019             SVM  0.575269  1.895777  0.131129  0.131129\n",
       " 9   2019         XGBoost  0.462366  1.703145  0.117668  0.117668\n",
       " 10  2019  RankNet-Oracle  0.747312  1.658221  0.114937  0.093314\n",
       " 11  2019     RankNet-MLP  0.672043  1.729021  0.119118  0.094372,\n",
       " 6:     Year           Model   SignAcc       MAE   50-Risk   90-Risk\n",
       " 0   2018         CurRank  0.521739  2.982527  0.217601  0.217590\n",
       " 1   2018    RandomForest  0.467391  2.814708  0.205189  0.205178\n",
       " 2   2018             SVM  0.521739  2.972926  0.216900  0.216889\n",
       " 3   2018         XGBoost  0.396739  2.659562  0.193786  0.193774\n",
       " 4   2018  RankNet-Oracle  0.717391  2.360215  0.173874  0.148023\n",
       " 5   2018     RankNet-MLP  0.630435  2.617896  0.190097  0.162004\n",
       " 6   2019         CurRank  0.472826  2.367570  0.163906  0.163906\n",
       " 7   2019    RandomForest  0.429348  2.346846  0.162319  0.162319\n",
       " 8   2019             SVM  0.494565  2.349755  0.162671  0.162671\n",
       " 9   2019         XGBoost  0.396739  2.151972  0.148790  0.148790\n",
       " 10  2019  RankNet-Oracle  0.635870  1.897110  0.131821  0.110342\n",
       " 11  2019     RankNet-MLP  0.586957  1.986548  0.137417  0.112653,\n",
       " 8:     Year           Model   SignAcc       MAE   50-Risk   90-Risk\n",
       " 0   2018         CurRank  0.467033  3.531505  0.258208  0.258197\n",
       " 1   2018    RandomForest  0.428571  3.234345  0.236254  0.236242\n",
       " 2   2018             SVM  0.516484  3.501556  0.256018  0.256007\n",
       " 3   2018         XGBoost  0.412088  3.230844  0.235969  0.235958\n",
       " 4   2018  RankNet-Oracle  0.642857  3.132914  0.233429  0.199434\n",
       " 5   2018     RankNet-MLP  0.593407  3.289422  0.244851  0.209885\n",
       " 6   2019         CurRank  0.390110  2.686040  0.186058  0.186058\n",
       " 7   2019    RandomForest  0.335165  2.733493  0.189068  0.189068\n",
       " 8   2019             SVM  0.423077  2.651830  0.183685  0.183685\n",
       " 9   2019         XGBoost  0.329670  2.624241  0.181542  0.181542\n",
       " 10  2019  RankNet-Oracle  0.527473  2.361596  0.163905  0.137264\n",
       " 11  2019     RankNet-MLP  0.505495  2.425602  0.168134  0.139326}"
      ]
     },
     "execution_count": 45,
     "metadata": {},
     "output_type": "execute_result"
    }
   ],
   "source": [
    "stint_result"
   ]
  },
  {
   "cell_type": "code",
   "execution_count": 46,
   "metadata": {},
   "outputs": [],
   "source": [
    "dfs = []\n",
    "for plen in stint_result:\n",
    "    df = stint_result[plen]\n",
    "    df['plen'] = plen\n",
    "    \n",
    "    dfs.append(df)\n",
    "    \n",
    "alldf = pd.concat(dfs)\n",
    "    "
   ]
  },
  {
   "cell_type": "code",
   "execution_count": 47,
   "metadata": {},
   "outputs": [
    {
     "data": {
      "text/html": [
       "<div>\n",
       "<style scoped>\n",
       "    .dataframe tbody tr th:only-of-type {\n",
       "        vertical-align: middle;\n",
       "    }\n",
       "\n",
       "    .dataframe tbody tr th {\n",
       "        vertical-align: top;\n",
       "    }\n",
       "\n",
       "    .dataframe thead th {\n",
       "        text-align: right;\n",
       "    }\n",
       "</style>\n",
       "<table border=\"1\" class=\"dataframe\">\n",
       "  <thead>\n",
       "    <tr style=\"text-align: right;\">\n",
       "      <th></th>\n",
       "      <th>Year</th>\n",
       "      <th>Model</th>\n",
       "      <th>SignAcc</th>\n",
       "      <th>MAE</th>\n",
       "      <th>50-Risk</th>\n",
       "      <th>90-Risk</th>\n",
       "      <th>plen</th>\n",
       "    </tr>\n",
       "  </thead>\n",
       "  <tbody>\n",
       "    <tr>\n",
       "      <th>0</th>\n",
       "      <td>2018</td>\n",
       "      <td>CurRank</td>\n",
       "      <td>0.718085</td>\n",
       "      <td>1.339513</td>\n",
       "      <td>0.097326</td>\n",
       "      <td>0.097315</td>\n",
       "      <td>2</td>\n",
       "    </tr>\n",
       "    <tr>\n",
       "      <th>1</th>\n",
       "      <td>2018</td>\n",
       "      <td>RandomForest</td>\n",
       "      <td>0.473404</td>\n",
       "      <td>1.688951</td>\n",
       "      <td>0.122416</td>\n",
       "      <td>0.122406</td>\n",
       "      <td>2</td>\n",
       "    </tr>\n",
       "    <tr>\n",
       "      <th>2</th>\n",
       "      <td>2018</td>\n",
       "      <td>SVM</td>\n",
       "      <td>0.718085</td>\n",
       "      <td>1.339513</td>\n",
       "      <td>0.097326</td>\n",
       "      <td>0.097315</td>\n",
       "      <td>2</td>\n",
       "    </tr>\n",
       "    <tr>\n",
       "      <th>3</th>\n",
       "      <td>2018</td>\n",
       "      <td>XGBoost</td>\n",
       "      <td>0.462766</td>\n",
       "      <td>1.630899</td>\n",
       "      <td>0.118471</td>\n",
       "      <td>0.118460</td>\n",
       "      <td>2</td>\n",
       "    </tr>\n",
       "    <tr>\n",
       "      <th>4</th>\n",
       "      <td>2018</td>\n",
       "      <td>RankNet-Oracle</td>\n",
       "      <td>0.861702</td>\n",
       "      <td>1.108989</td>\n",
       "      <td>0.079663</td>\n",
       "      <td>0.073352</td>\n",
       "      <td>2</td>\n",
       "    </tr>\n",
       "    <tr>\n",
       "      <th>5</th>\n",
       "      <td>2018</td>\n",
       "      <td>RankNet-MLP</td>\n",
       "      <td>0.781915</td>\n",
       "      <td>1.213858</td>\n",
       "      <td>0.085808</td>\n",
       "      <td>0.076886</td>\n",
       "      <td>2</td>\n",
       "    </tr>\n",
       "    <tr>\n",
       "      <th>6</th>\n",
       "      <td>2019</td>\n",
       "      <td>CurRank</td>\n",
       "      <td>0.734043</td>\n",
       "      <td>1.162551</td>\n",
       "      <td>0.080397</td>\n",
       "      <td>0.080397</td>\n",
       "      <td>2</td>\n",
       "    </tr>\n",
       "    <tr>\n",
       "      <th>7</th>\n",
       "      <td>2019</td>\n",
       "      <td>RandomForest</td>\n",
       "      <td>0.627660</td>\n",
       "      <td>1.317108</td>\n",
       "      <td>0.090941</td>\n",
       "      <td>0.090941</td>\n",
       "      <td>2</td>\n",
       "    </tr>\n",
       "    <tr>\n",
       "      <th>8</th>\n",
       "      <td>2019</td>\n",
       "      <td>SVM</td>\n",
       "      <td>0.734043</td>\n",
       "      <td>1.162551</td>\n",
       "      <td>0.080397</td>\n",
       "      <td>0.080397</td>\n",
       "      <td>2</td>\n",
       "    </tr>\n",
       "    <tr>\n",
       "      <th>9</th>\n",
       "      <td>2019</td>\n",
       "      <td>XGBoost</td>\n",
       "      <td>0.643617</td>\n",
       "      <td>1.247113</td>\n",
       "      <td>0.086222</td>\n",
       "      <td>0.086222</td>\n",
       "      <td>2</td>\n",
       "    </tr>\n",
       "    <tr>\n",
       "      <th>10</th>\n",
       "      <td>2019</td>\n",
       "      <td>RankNet-Oracle</td>\n",
       "      <td>0.856383</td>\n",
       "      <td>0.973530</td>\n",
       "      <td>0.066568</td>\n",
       "      <td>0.060560</td>\n",
       "      <td>2</td>\n",
       "    </tr>\n",
       "    <tr>\n",
       "      <th>11</th>\n",
       "      <td>2019</td>\n",
       "      <td>RankNet-MLP</td>\n",
       "      <td>0.776596</td>\n",
       "      <td>1.074081</td>\n",
       "      <td>0.071719</td>\n",
       "      <td>0.060852</td>\n",
       "      <td>2</td>\n",
       "    </tr>\n",
       "    <tr>\n",
       "      <th>0</th>\n",
       "      <td>2018</td>\n",
       "      <td>CurRank</td>\n",
       "      <td>0.596774</td>\n",
       "      <td>2.271710</td>\n",
       "      <td>0.165394</td>\n",
       "      <td>0.165383</td>\n",
       "      <td>4</td>\n",
       "    </tr>\n",
       "    <tr>\n",
       "      <th>1</th>\n",
       "      <td>2018</td>\n",
       "      <td>RandomForest</td>\n",
       "      <td>0.473118</td>\n",
       "      <td>2.391923</td>\n",
       "      <td>0.173953</td>\n",
       "      <td>0.173942</td>\n",
       "      <td>4</td>\n",
       "    </tr>\n",
       "    <tr>\n",
       "      <th>2</th>\n",
       "      <td>2018</td>\n",
       "      <td>SVM</td>\n",
       "      <td>0.596774</td>\n",
       "      <td>2.271331</td>\n",
       "      <td>0.165367</td>\n",
       "      <td>0.165356</td>\n",
       "      <td>4</td>\n",
       "    </tr>\n",
       "    <tr>\n",
       "      <th>3</th>\n",
       "      <td>2018</td>\n",
       "      <td>XGBoost</td>\n",
       "      <td>0.516129</td>\n",
       "      <td>2.161737</td>\n",
       "      <td>0.157194</td>\n",
       "      <td>0.157183</td>\n",
       "      <td>4</td>\n",
       "    </tr>\n",
       "    <tr>\n",
       "      <th>4</th>\n",
       "      <td>2018</td>\n",
       "      <td>RankNet-Oracle</td>\n",
       "      <td>0.752688</td>\n",
       "      <td>2.011756</td>\n",
       "      <td>0.147576</td>\n",
       "      <td>0.123427</td>\n",
       "      <td>4</td>\n",
       "    </tr>\n",
       "    <tr>\n",
       "      <th>5</th>\n",
       "      <td>2018</td>\n",
       "      <td>RankNet-MLP</td>\n",
       "      <td>0.693548</td>\n",
       "      <td>2.110732</td>\n",
       "      <td>0.153382</td>\n",
       "      <td>0.129460</td>\n",
       "      <td>4</td>\n",
       "    </tr>\n",
       "    <tr>\n",
       "      <th>6</th>\n",
       "      <td>2019</td>\n",
       "      <td>CurRank</td>\n",
       "      <td>0.575269</td>\n",
       "      <td>1.895777</td>\n",
       "      <td>0.131129</td>\n",
       "      <td>0.131129</td>\n",
       "      <td>4</td>\n",
       "    </tr>\n",
       "    <tr>\n",
       "      <th>7</th>\n",
       "      <td>2019</td>\n",
       "      <td>RandomForest</td>\n",
       "      <td>0.505376</td>\n",
       "      <td>1.970171</td>\n",
       "      <td>0.136205</td>\n",
       "      <td>0.136205</td>\n",
       "      <td>4</td>\n",
       "    </tr>\n",
       "    <tr>\n",
       "      <th>8</th>\n",
       "      <td>2019</td>\n",
       "      <td>SVM</td>\n",
       "      <td>0.575269</td>\n",
       "      <td>1.895777</td>\n",
       "      <td>0.131129</td>\n",
       "      <td>0.131129</td>\n",
       "      <td>4</td>\n",
       "    </tr>\n",
       "    <tr>\n",
       "      <th>9</th>\n",
       "      <td>2019</td>\n",
       "      <td>XGBoost</td>\n",
       "      <td>0.462366</td>\n",
       "      <td>1.703145</td>\n",
       "      <td>0.117668</td>\n",
       "      <td>0.117668</td>\n",
       "      <td>4</td>\n",
       "    </tr>\n",
       "    <tr>\n",
       "      <th>10</th>\n",
       "      <td>2019</td>\n",
       "      <td>RankNet-Oracle</td>\n",
       "      <td>0.747312</td>\n",
       "      <td>1.658221</td>\n",
       "      <td>0.114937</td>\n",
       "      <td>0.093314</td>\n",
       "      <td>4</td>\n",
       "    </tr>\n",
       "    <tr>\n",
       "      <th>11</th>\n",
       "      <td>2019</td>\n",
       "      <td>RankNet-MLP</td>\n",
       "      <td>0.672043</td>\n",
       "      <td>1.729021</td>\n",
       "      <td>0.119118</td>\n",
       "      <td>0.094372</td>\n",
       "      <td>4</td>\n",
       "    </tr>\n",
       "    <tr>\n",
       "      <th>0</th>\n",
       "      <td>2018</td>\n",
       "      <td>CurRank</td>\n",
       "      <td>0.521739</td>\n",
       "      <td>2.982527</td>\n",
       "      <td>0.217601</td>\n",
       "      <td>0.217590</td>\n",
       "      <td>6</td>\n",
       "    </tr>\n",
       "    <tr>\n",
       "      <th>1</th>\n",
       "      <td>2018</td>\n",
       "      <td>RandomForest</td>\n",
       "      <td>0.467391</td>\n",
       "      <td>2.814708</td>\n",
       "      <td>0.205189</td>\n",
       "      <td>0.205178</td>\n",
       "      <td>6</td>\n",
       "    </tr>\n",
       "    <tr>\n",
       "      <th>2</th>\n",
       "      <td>2018</td>\n",
       "      <td>SVM</td>\n",
       "      <td>0.521739</td>\n",
       "      <td>2.972926</td>\n",
       "      <td>0.216900</td>\n",
       "      <td>0.216889</td>\n",
       "      <td>6</td>\n",
       "    </tr>\n",
       "    <tr>\n",
       "      <th>3</th>\n",
       "      <td>2018</td>\n",
       "      <td>XGBoost</td>\n",
       "      <td>0.396739</td>\n",
       "      <td>2.659562</td>\n",
       "      <td>0.193786</td>\n",
       "      <td>0.193774</td>\n",
       "      <td>6</td>\n",
       "    </tr>\n",
       "    <tr>\n",
       "      <th>4</th>\n",
       "      <td>2018</td>\n",
       "      <td>RankNet-Oracle</td>\n",
       "      <td>0.717391</td>\n",
       "      <td>2.360215</td>\n",
       "      <td>0.173874</td>\n",
       "      <td>0.148023</td>\n",
       "      <td>6</td>\n",
       "    </tr>\n",
       "    <tr>\n",
       "      <th>5</th>\n",
       "      <td>2018</td>\n",
       "      <td>RankNet-MLP</td>\n",
       "      <td>0.630435</td>\n",
       "      <td>2.617896</td>\n",
       "      <td>0.190097</td>\n",
       "      <td>0.162004</td>\n",
       "      <td>6</td>\n",
       "    </tr>\n",
       "    <tr>\n",
       "      <th>6</th>\n",
       "      <td>2019</td>\n",
       "      <td>CurRank</td>\n",
       "      <td>0.472826</td>\n",
       "      <td>2.367570</td>\n",
       "      <td>0.163906</td>\n",
       "      <td>0.163906</td>\n",
       "      <td>6</td>\n",
       "    </tr>\n",
       "    <tr>\n",
       "      <th>7</th>\n",
       "      <td>2019</td>\n",
       "      <td>RandomForest</td>\n",
       "      <td>0.429348</td>\n",
       "      <td>2.346846</td>\n",
       "      <td>0.162319</td>\n",
       "      <td>0.162319</td>\n",
       "      <td>6</td>\n",
       "    </tr>\n",
       "    <tr>\n",
       "      <th>8</th>\n",
       "      <td>2019</td>\n",
       "      <td>SVM</td>\n",
       "      <td>0.494565</td>\n",
       "      <td>2.349755</td>\n",
       "      <td>0.162671</td>\n",
       "      <td>0.162671</td>\n",
       "      <td>6</td>\n",
       "    </tr>\n",
       "    <tr>\n",
       "      <th>9</th>\n",
       "      <td>2019</td>\n",
       "      <td>XGBoost</td>\n",
       "      <td>0.396739</td>\n",
       "      <td>2.151972</td>\n",
       "      <td>0.148790</td>\n",
       "      <td>0.148790</td>\n",
       "      <td>6</td>\n",
       "    </tr>\n",
       "    <tr>\n",
       "      <th>10</th>\n",
       "      <td>2019</td>\n",
       "      <td>RankNet-Oracle</td>\n",
       "      <td>0.635870</td>\n",
       "      <td>1.897110</td>\n",
       "      <td>0.131821</td>\n",
       "      <td>0.110342</td>\n",
       "      <td>6</td>\n",
       "    </tr>\n",
       "    <tr>\n",
       "      <th>11</th>\n",
       "      <td>2019</td>\n",
       "      <td>RankNet-MLP</td>\n",
       "      <td>0.586957</td>\n",
       "      <td>1.986548</td>\n",
       "      <td>0.137417</td>\n",
       "      <td>0.112653</td>\n",
       "      <td>6</td>\n",
       "    </tr>\n",
       "    <tr>\n",
       "      <th>0</th>\n",
       "      <td>2018</td>\n",
       "      <td>CurRank</td>\n",
       "      <td>0.467033</td>\n",
       "      <td>3.531505</td>\n",
       "      <td>0.258208</td>\n",
       "      <td>0.258197</td>\n",
       "      <td>8</td>\n",
       "    </tr>\n",
       "    <tr>\n",
       "      <th>1</th>\n",
       "      <td>2018</td>\n",
       "      <td>RandomForest</td>\n",
       "      <td>0.428571</td>\n",
       "      <td>3.234345</td>\n",
       "      <td>0.236254</td>\n",
       "      <td>0.236242</td>\n",
       "      <td>8</td>\n",
       "    </tr>\n",
       "    <tr>\n",
       "      <th>2</th>\n",
       "      <td>2018</td>\n",
       "      <td>SVM</td>\n",
       "      <td>0.516484</td>\n",
       "      <td>3.501556</td>\n",
       "      <td>0.256018</td>\n",
       "      <td>0.256007</td>\n",
       "      <td>8</td>\n",
       "    </tr>\n",
       "    <tr>\n",
       "      <th>3</th>\n",
       "      <td>2018</td>\n",
       "      <td>XGBoost</td>\n",
       "      <td>0.412088</td>\n",
       "      <td>3.230844</td>\n",
       "      <td>0.235969</td>\n",
       "      <td>0.235958</td>\n",
       "      <td>8</td>\n",
       "    </tr>\n",
       "    <tr>\n",
       "      <th>4</th>\n",
       "      <td>2018</td>\n",
       "      <td>RankNet-Oracle</td>\n",
       "      <td>0.642857</td>\n",
       "      <td>3.132914</td>\n",
       "      <td>0.233429</td>\n",
       "      <td>0.199434</td>\n",
       "      <td>8</td>\n",
       "    </tr>\n",
       "    <tr>\n",
       "      <th>5</th>\n",
       "      <td>2018</td>\n",
       "      <td>RankNet-MLP</td>\n",
       "      <td>0.593407</td>\n",
       "      <td>3.289422</td>\n",
       "      <td>0.244851</td>\n",
       "      <td>0.209885</td>\n",
       "      <td>8</td>\n",
       "    </tr>\n",
       "    <tr>\n",
       "      <th>6</th>\n",
       "      <td>2019</td>\n",
       "      <td>CurRank</td>\n",
       "      <td>0.390110</td>\n",
       "      <td>2.686040</td>\n",
       "      <td>0.186058</td>\n",
       "      <td>0.186058</td>\n",
       "      <td>8</td>\n",
       "    </tr>\n",
       "    <tr>\n",
       "      <th>7</th>\n",
       "      <td>2019</td>\n",
       "      <td>RandomForest</td>\n",
       "      <td>0.335165</td>\n",
       "      <td>2.733493</td>\n",
       "      <td>0.189068</td>\n",
       "      <td>0.189068</td>\n",
       "      <td>8</td>\n",
       "    </tr>\n",
       "    <tr>\n",
       "      <th>8</th>\n",
       "      <td>2019</td>\n",
       "      <td>SVM</td>\n",
       "      <td>0.423077</td>\n",
       "      <td>2.651830</td>\n",
       "      <td>0.183685</td>\n",
       "      <td>0.183685</td>\n",
       "      <td>8</td>\n",
       "    </tr>\n",
       "    <tr>\n",
       "      <th>9</th>\n",
       "      <td>2019</td>\n",
       "      <td>XGBoost</td>\n",
       "      <td>0.329670</td>\n",
       "      <td>2.624241</td>\n",
       "      <td>0.181542</td>\n",
       "      <td>0.181542</td>\n",
       "      <td>8</td>\n",
       "    </tr>\n",
       "    <tr>\n",
       "      <th>10</th>\n",
       "      <td>2019</td>\n",
       "      <td>RankNet-Oracle</td>\n",
       "      <td>0.527473</td>\n",
       "      <td>2.361596</td>\n",
       "      <td>0.163905</td>\n",
       "      <td>0.137264</td>\n",
       "      <td>8</td>\n",
       "    </tr>\n",
       "    <tr>\n",
       "      <th>11</th>\n",
       "      <td>2019</td>\n",
       "      <td>RankNet-MLP</td>\n",
       "      <td>0.505495</td>\n",
       "      <td>2.425602</td>\n",
       "      <td>0.168134</td>\n",
       "      <td>0.139326</td>\n",
       "      <td>8</td>\n",
       "    </tr>\n",
       "  </tbody>\n",
       "</table>\n",
       "</div>"
      ],
      "text/plain": [
       "    Year           Model   SignAcc       MAE   50-Risk   90-Risk  plen\n",
       "0   2018         CurRank  0.718085  1.339513  0.097326  0.097315     2\n",
       "1   2018    RandomForest  0.473404  1.688951  0.122416  0.122406     2\n",
       "2   2018             SVM  0.718085  1.339513  0.097326  0.097315     2\n",
       "3   2018         XGBoost  0.462766  1.630899  0.118471  0.118460     2\n",
       "4   2018  RankNet-Oracle  0.861702  1.108989  0.079663  0.073352     2\n",
       "5   2018     RankNet-MLP  0.781915  1.213858  0.085808  0.076886     2\n",
       "6   2019         CurRank  0.734043  1.162551  0.080397  0.080397     2\n",
       "7   2019    RandomForest  0.627660  1.317108  0.090941  0.090941     2\n",
       "8   2019             SVM  0.734043  1.162551  0.080397  0.080397     2\n",
       "9   2019         XGBoost  0.643617  1.247113  0.086222  0.086222     2\n",
       "10  2019  RankNet-Oracle  0.856383  0.973530  0.066568  0.060560     2\n",
       "11  2019     RankNet-MLP  0.776596  1.074081  0.071719  0.060852     2\n",
       "0   2018         CurRank  0.596774  2.271710  0.165394  0.165383     4\n",
       "1   2018    RandomForest  0.473118  2.391923  0.173953  0.173942     4\n",
       "2   2018             SVM  0.596774  2.271331  0.165367  0.165356     4\n",
       "3   2018         XGBoost  0.516129  2.161737  0.157194  0.157183     4\n",
       "4   2018  RankNet-Oracle  0.752688  2.011756  0.147576  0.123427     4\n",
       "5   2018     RankNet-MLP  0.693548  2.110732  0.153382  0.129460     4\n",
       "6   2019         CurRank  0.575269  1.895777  0.131129  0.131129     4\n",
       "7   2019    RandomForest  0.505376  1.970171  0.136205  0.136205     4\n",
       "8   2019             SVM  0.575269  1.895777  0.131129  0.131129     4\n",
       "9   2019         XGBoost  0.462366  1.703145  0.117668  0.117668     4\n",
       "10  2019  RankNet-Oracle  0.747312  1.658221  0.114937  0.093314     4\n",
       "11  2019     RankNet-MLP  0.672043  1.729021  0.119118  0.094372     4\n",
       "0   2018         CurRank  0.521739  2.982527  0.217601  0.217590     6\n",
       "1   2018    RandomForest  0.467391  2.814708  0.205189  0.205178     6\n",
       "2   2018             SVM  0.521739  2.972926  0.216900  0.216889     6\n",
       "3   2018         XGBoost  0.396739  2.659562  0.193786  0.193774     6\n",
       "4   2018  RankNet-Oracle  0.717391  2.360215  0.173874  0.148023     6\n",
       "5   2018     RankNet-MLP  0.630435  2.617896  0.190097  0.162004     6\n",
       "6   2019         CurRank  0.472826  2.367570  0.163906  0.163906     6\n",
       "7   2019    RandomForest  0.429348  2.346846  0.162319  0.162319     6\n",
       "8   2019             SVM  0.494565  2.349755  0.162671  0.162671     6\n",
       "9   2019         XGBoost  0.396739  2.151972  0.148790  0.148790     6\n",
       "10  2019  RankNet-Oracle  0.635870  1.897110  0.131821  0.110342     6\n",
       "11  2019     RankNet-MLP  0.586957  1.986548  0.137417  0.112653     6\n",
       "0   2018         CurRank  0.467033  3.531505  0.258208  0.258197     8\n",
       "1   2018    RandomForest  0.428571  3.234345  0.236254  0.236242     8\n",
       "2   2018             SVM  0.516484  3.501556  0.256018  0.256007     8\n",
       "3   2018         XGBoost  0.412088  3.230844  0.235969  0.235958     8\n",
       "4   2018  RankNet-Oracle  0.642857  3.132914  0.233429  0.199434     8\n",
       "5   2018     RankNet-MLP  0.593407  3.289422  0.244851  0.209885     8\n",
       "6   2019         CurRank  0.390110  2.686040  0.186058  0.186058     8\n",
       "7   2019    RandomForest  0.335165  2.733493  0.189068  0.189068     8\n",
       "8   2019             SVM  0.423077  2.651830  0.183685  0.183685     8\n",
       "9   2019         XGBoost  0.329670  2.624241  0.181542  0.181542     8\n",
       "10  2019  RankNet-Oracle  0.527473  2.361596  0.163905  0.137264     8\n",
       "11  2019     RankNet-MLP  0.505495  2.425602  0.168134  0.139326     8"
      ]
     },
     "execution_count": 47,
     "metadata": {},
     "output_type": "execute_result"
    }
   ],
   "source": [
    "alldf"
   ]
  },
  {
   "cell_type": "code",
   "execution_count": 48,
   "metadata": {},
   "outputs": [],
   "source": [
    "alldf.to_csv('evaluation_result_shortterm_plen2-8_all_v4.csv')"
   ]
  },
  {
   "cell_type": "markdown",
   "metadata": {},
   "source": [
    "## 3. Split by pit-covered-laps and normal laps\n",
    "\n",
    "define pit covered laps := two laps before and after a pit\n",
    "\n",
    "split shortterm-results only"
   ]
  },
  {
   "cell_type": "code",
   "execution_count": 52,
   "metadata": {},
   "outputs": [],
   "source": [
    "# get pit laps, pit-covered-laps\n",
    "# pitdata[year] = [pitlaps, pitcoveredlaps]\n",
    "with open('pitcoveredlaps.pickle', 'rb') as f:\n",
    "    # The protocol version used is detected automatically, so we do not\n",
    "    # have to specify it.\n",
    "    pitdata = pickle.load(f, encoding='latin1') "
   ]
  },
  {
   "cell_type": "code",
   "execution_count": 53,
   "metadata": {},
   "outputs": [],
   "source": [
    "def clear_samples(full_samples, full_tss, clearidx):\n",
    "    \"\"\"\n",
    "    clear the laps in clearidx\n",
    "    \"\"\"\n",
    "    \n",
    "    carlist = full_tss.keys()\n",
    "    \n",
    "    for carid, carno in enumerate(carlist):\n",
    "        forecast = full_samples[carno]\n",
    "        target = full_tss[carno]\n",
    "        \n",
    "        forecast[:, clearidx] = np.nan\n",
    "        target[clearidx] = np.nan\n",
    "        \n",
    "        full_samples[carno] = forecast\n",
    "        full_tss[carno] = target\n",
    "        \n",
    "    return full_samples, full_tss"
   ]
  },
  {
   "cell_type": "code",
   "execution_count": 57,
   "metadata": {},
   "outputs": [],
   "source": [
    "#\n",
    "# Model,SignAcc,MAE,50-Risk,90-Risk\n",
    "# \n",
    "cols = ['Year','Model','SignAcc','MAE','50-Risk','90-Risk']\n",
    "models = {'currank':'CurRank','rf':'RandomForest','svr':'SVM','xgb':'XGBoost'}\n",
    "#plen=2\n",
    "#usemeanstr='median'\n",
    "usemeanstr='mean'\n",
    "stint_split_result = {}"
   ]
  },
  {
   "cell_type": "code",
   "execution_count": 58,
   "metadata": {},
   "outputs": [
    {
     "name": "stdout",
     "output_type": "stream",
     "text": [
      "year: 2018 clf: currank\n"
     ]
    },
    {
     "name": "stderr",
     "output_type": "stream",
     "text": [
      "/scratch_ssd/hpda/anaconda3/envs/gluonts/lib/python3.6/site-packages/ipykernel_launcher.py:6: RuntimeWarning: invalid value encountered in less_equal\n",
      "  \n"
     ]
    },
    {
     "name": "stdout",
     "output_type": "stream",
     "text": [
      "dict_values([0.01157441756937231, 0.01157441756937231, 0.01157441756937231])\n",
      "model: acc={0.96}, mae={0.17}, rmse={0.58},r2={1.00}, {46}\n",
      "            naive: acc={0.96}, mae={0.18}, rmse={0.59},r2={1.00}\n",
      "year: 2018 clf: rf\n"
     ]
    },
    {
     "name": "stderr",
     "output_type": "stream",
     "text": [
      "/scratch_ssd/hpda/anaconda3/envs/gluonts/lib/python3.6/site-packages/ipykernel_launcher.py:6: RuntimeWarning: invalid value encountered in less_equal\n",
      "  \n"
     ]
    },
    {
     "name": "stdout",
     "output_type": "stream",
     "text": [
      "dict_values([0.06182915368254438, 0.061829153682544394, 0.061829153682544415])\n",
      "model: acc={0.57}, mae={0.91}, rmse={1.98},r2={0.95}, {46}\n",
      "            naive: acc={0.96}, mae={0.18}, rmse={0.59},r2={1.00}\n",
      "year: 2018 clf: svr\n"
     ]
    },
    {
     "name": "stderr",
     "output_type": "stream",
     "text": [
      "/scratch_ssd/hpda/anaconda3/envs/gluonts/lib/python3.6/site-packages/ipykernel_launcher.py:6: RuntimeWarning: invalid value encountered in less_equal\n",
      "  \n"
     ]
    },
    {
     "name": "stdout",
     "output_type": "stream",
     "text": [
      "dict_values([0.01157441756937231, 0.01157441756937231, 0.01157441756937231])\n",
      "model: acc={0.96}, mae={0.17}, rmse={0.58},r2={1.00}, {46}\n",
      "            naive: acc={0.96}, mae={0.18}, rmse={0.59},r2={1.00}\n",
      "year: 2018 clf: xgb\n"
     ]
    },
    {
     "name": "stderr",
     "output_type": "stream",
     "text": [
      "/scratch_ssd/hpda/anaconda3/envs/gluonts/lib/python3.6/site-packages/ipykernel_launcher.py:6: RuntimeWarning: invalid value encountered in less_equal\n",
      "  \n"
     ]
    },
    {
     "name": "stdout",
     "output_type": "stream",
     "text": [
      "dict_values([0.03729534550131078, 0.03729534550131078, 0.037295345501310785])\n",
      "model: acc={0.52}, mae={0.54}, rmse={1.44},r2={0.97}, {46}\n",
      "            naive: acc={0.96}, mae={0.18}, rmse={0.59},r2={1.00}\n",
      "rerank...\n",
      "sacmplecnt: 100 lapcnt: 200 runcnt: 10\n",
      "dict_values([0.017115815752117087, 0.017972734837730688, 0.016956718390523276])\n",
      "model: acc={0.89}, mae={0.24}, rmse={0.78},r2={0.99}, {46}\n",
      "            naive: acc={0.89}, mae={0.21}, rmse={0.69},r2={0.99}\n"
     ]
    },
    {
     "name": "stderr",
     "output_type": "stream",
     "text": [
      "/scratch_ssd/hpda/anaconda3/envs/gluonts/lib/python3.6/site-packages/ipykernel_launcher.py:32: RuntimeWarning: Mean of empty slice\n",
      "/scratch_ssd/hpda/anaconda3/envs/gluonts/lib/python3.6/site-packages/ipykernel_launcher.py:6: RuntimeWarning: invalid value encountered in less_equal\n",
      "  \n"
     ]
    },
    {
     "name": "stdout",
     "output_type": "stream",
     "text": [
      "rerank...\n",
      "sacmplecnt: 100 lapcnt: 200 runcnt: 100\n"
     ]
    },
    {
     "name": "stderr",
     "output_type": "stream",
     "text": [
      "/scratch_ssd/hpda/anaconda3/envs/gluonts/lib/python3.6/site-packages/ipykernel_launcher.py:32: RuntimeWarning: Mean of empty slice\n",
      "/scratch_ssd/hpda/anaconda3/envs/gluonts/lib/python3.6/site-packages/ipykernel_launcher.py:6: RuntimeWarning: invalid value encountered in less_equal\n",
      "  \n"
     ]
    },
    {
     "name": "stdout",
     "output_type": "stream",
     "text": [
      "dict_values([0.01747619560428802, 0.018503597826619027, 0.01734479416515737])\n",
      "model: acc={0.89}, mae={0.25}, rmse={0.80},r2={0.99}, {46}\n",
      "            naive: acc={0.89}, mae={0.21}, rmse={0.69},r2={0.99}\n",
      "year: 2019 clf: currank\n"
     ]
    },
    {
     "name": "stderr",
     "output_type": "stream",
     "text": [
      "/scratch_ssd/hpda/anaconda3/envs/gluonts/lib/python3.6/site-packages/ipykernel_launcher.py:6: RuntimeWarning: invalid value encountered in less_equal\n",
      "  \n"
     ]
    },
    {
     "name": "stdout",
     "output_type": "stream",
     "text": [
      "dict_values([0.007440290108790795, 0.007440290108790796, 0.007440290108790797])\n",
      "model: acc={0.95}, mae={0.11}, rmse={0.37},r2={1.00}, {75}\n",
      "            naive: acc={0.95}, mae={0.11}, rmse={0.37},r2={1.00}\n",
      "year: 2019 clf: rf\n"
     ]
    },
    {
     "name": "stderr",
     "output_type": "stream",
     "text": [
      "/scratch_ssd/hpda/anaconda3/envs/gluonts/lib/python3.6/site-packages/ipykernel_launcher.py:6: RuntimeWarning: invalid value encountered in less_equal\n",
      "  \n"
     ]
    },
    {
     "name": "stdout",
     "output_type": "stream",
     "text": [
      "dict_values([0.02619732399649868, 0.026197323996498687, 0.02619732399649869])\n",
      "model: acc={0.80}, mae={0.38}, rmse={0.87},r2={0.99}, {75}\n",
      "            naive: acc={0.95}, mae={0.11}, rmse={0.37},r2={1.00}\n",
      "year: 2019 clf: svr\n"
     ]
    },
    {
     "name": "stderr",
     "output_type": "stream",
     "text": [
      "/scratch_ssd/hpda/anaconda3/envs/gluonts/lib/python3.6/site-packages/ipykernel_launcher.py:6: RuntimeWarning: invalid value encountered in less_equal\n",
      "  \n"
     ]
    },
    {
     "name": "stdout",
     "output_type": "stream",
     "text": [
      "dict_values([0.007440290108790795, 0.007440290108790796, 0.007440290108790797])\n",
      "model: acc={0.95}, mae={0.11}, rmse={0.37},r2={1.00}, {75}\n",
      "            naive: acc={0.95}, mae={0.11}, rmse={0.37},r2={1.00}\n",
      "year: 2019 clf: xgb\n"
     ]
    },
    {
     "name": "stderr",
     "output_type": "stream",
     "text": [
      "/scratch_ssd/hpda/anaconda3/envs/gluonts/lib/python3.6/site-packages/ipykernel_launcher.py:6: RuntimeWarning: invalid value encountered in less_equal\n",
      "  \n"
     ]
    },
    {
     "name": "stdout",
     "output_type": "stream",
     "text": [
      "dict_values([0.015880955358259348, 0.015880955358259348, 0.015880955358259348])\n",
      "model: acc={0.79}, mae={0.23}, rmse={0.59},r2={1.00}, {75}\n",
      "            naive: acc={0.95}, mae={0.11}, rmse={0.37},r2={1.00}\n",
      "rerank...\n",
      "sacmplecnt: 100 lapcnt: 200 runcnt: 10\n",
      "dict_values([0.013180521771423266, 0.01416767245381116, 0.013212558413022627])\n",
      "model: acc={0.93}, mae={0.17}, rmse={0.60},r2={1.00}, {75}\n",
      "            naive: acc={0.93}, mae={0.14}, rmse={0.52},r2={1.00}\n"
     ]
    },
    {
     "name": "stderr",
     "output_type": "stream",
     "text": [
      "/scratch_ssd/hpda/anaconda3/envs/gluonts/lib/python3.6/site-packages/ipykernel_launcher.py:32: RuntimeWarning: Mean of empty slice\n",
      "/scratch_ssd/hpda/anaconda3/envs/gluonts/lib/python3.6/site-packages/ipykernel_launcher.py:6: RuntimeWarning: invalid value encountered in less_equal\n",
      "  \n"
     ]
    },
    {
     "name": "stdout",
     "output_type": "stream",
     "text": [
      "rerank...\n",
      "sacmplecnt: 100 lapcnt: 200 runcnt: 100\n"
     ]
    },
    {
     "name": "stderr",
     "output_type": "stream",
     "text": [
      "/scratch_ssd/hpda/anaconda3/envs/gluonts/lib/python3.6/site-packages/ipykernel_launcher.py:32: RuntimeWarning: Mean of empty slice\n",
      "/scratch_ssd/hpda/anaconda3/envs/gluonts/lib/python3.6/site-packages/ipykernel_launcher.py:6: RuntimeWarning: invalid value encountered in less_equal\n",
      "  \n"
     ]
    },
    {
     "name": "stdout",
     "output_type": "stream",
     "text": [
      "dict_values([0.013078309039705385, 0.01406028533407607, 0.013060019187323989])\n",
      "model: acc={0.93}, mae={0.17}, rmse={0.60},r2={1.00}, {75}\n",
      "            naive: acc={0.93}, mae={0.14}, rmse={0.52},r2={1.00}\n",
      "    Year           Model   SignAcc       MAE   50-Risk   90-Risk\n",
      "0   2018         CurRank  0.956522  0.167143  0.011574  0.011574\n",
      "1   2018    RandomForest  0.565217  0.908571  0.061829  0.061829\n",
      "2   2018             SVM  0.956522  0.167143  0.011574  0.011574\n",
      "3   2018         XGBoost  0.521739  0.540000  0.037295  0.037295\n",
      "4   2018  RankNet-Oracle  0.891304  0.243691  0.017973  0.016957\n",
      "5   2018     RankNet-MLP  0.891304  0.252343  0.018504  0.017345\n",
      "6   2019         CurRank  0.946667  0.107335  0.007440  0.007440\n",
      "7   2019    RandomForest  0.800000  0.381038  0.026197  0.026197\n",
      "8   2019             SVM  0.946667  0.107335  0.007440  0.007440\n",
      "9   2019         XGBoost  0.786667  0.228980  0.015881  0.015881\n",
      "10  2019  RankNet-Oracle  0.933333  0.169507  0.014168  0.013213\n",
      "11  2019     RankNet-MLP  0.933333  0.169507  0.014060  0.013060\n",
      "year: 2018 clf: currank\n"
     ]
    },
    {
     "name": "stderr",
     "output_type": "stream",
     "text": [
      "/scratch_ssd/hpda/anaconda3/envs/gluonts/lib/python3.6/site-packages/ipykernel_launcher.py:6: RuntimeWarning: invalid value encountered in less_equal\n",
      "  \n"
     ]
    },
    {
     "name": "stdout",
     "output_type": "stream",
     "text": [
      "dict_values([0.12988100153909676, 0.12986598596043394, 0.12985097038177112])\n",
      "model: acc={0.64}, mae={1.76}, rmse={3.77},r2={0.79}, {142}\n",
      "            naive: acc={0.64}, mae={1.79}, rmse={3.77},r2={0.79}\n",
      "year: 2018 clf: rf\n"
     ]
    },
    {
     "name": "stderr",
     "output_type": "stream",
     "text": [
      "/scratch_ssd/hpda/anaconda3/envs/gluonts/lib/python3.6/site-packages/ipykernel_launcher.py:6: RuntimeWarning: invalid value encountered in less_equal\n",
      "  \n"
     ]
    },
    {
     "name": "stdout",
     "output_type": "stream",
     "text": [
      "dict_values([0.14542212545515976, 0.14540710987649685, 0.14539209429783395])\n",
      "model: acc={0.44}, mae={1.97}, rmse={3.62},r2={0.81}, {142}\n",
      "            naive: acc={0.64}, mae={1.79}, rmse={3.77},r2={0.79}\n",
      "year: 2018 clf: svr\n"
     ]
    },
    {
     "name": "stderr",
     "output_type": "stream",
     "text": [
      "/scratch_ssd/hpda/anaconda3/envs/gluonts/lib/python3.6/site-packages/ipykernel_launcher.py:6: RuntimeWarning: invalid value encountered in less_equal\n",
      "  \n"
     ]
    },
    {
     "name": "stdout",
     "output_type": "stream",
     "text": [
      "dict_values([0.12988100153909676, 0.12986598596043394, 0.12985097038177112])\n",
      "model: acc={0.64}, mae={1.76}, rmse={3.77},r2={0.79}, {142}\n",
      "            naive: acc={0.64}, mae={1.79}, rmse={3.77},r2={0.79}\n",
      "year: 2018 clf: xgb\n"
     ]
    },
    {
     "name": "stderr",
     "output_type": "stream",
     "text": [
      "/scratch_ssd/hpda/anaconda3/envs/gluonts/lib/python3.6/site-packages/ipykernel_launcher.py:6: RuntimeWarning: invalid value encountered in less_equal\n",
      "  \n"
     ]
    },
    {
     "name": "stdout",
     "output_type": "stream",
     "text": [
      "dict_values([0.14928863696084688, 0.14927362138218403, 0.14925860580352115])\n",
      "model: acc={0.44}, mae={2.02}, rmse={3.77},r2={0.79}, {142}\n",
      "            naive: acc={0.64}, mae={1.79}, rmse={3.77},r2={0.79}\n",
      "rerank...\n",
      "sacmplecnt: 100 lapcnt: 200 runcnt: 10\n",
      "dict_values([0.09590466648008208, 0.10317800167926112, 0.0948485455732811])\n",
      "model: acc={0.85}, mae={1.41}, rmse={3.07},r2={0.86}, {142}\n",
      "            naive: acc={0.66}, mae={1.74}, rmse={3.75},r2={0.79}\n"
     ]
    },
    {
     "name": "stderr",
     "output_type": "stream",
     "text": [
      "/scratch_ssd/hpda/anaconda3/envs/gluonts/lib/python3.6/site-packages/ipykernel_launcher.py:32: RuntimeWarning: Mean of empty slice\n",
      "/scratch_ssd/hpda/anaconda3/envs/gluonts/lib/python3.6/site-packages/ipykernel_launcher.py:6: RuntimeWarning: invalid value encountered in less_equal\n",
      "  \n"
     ]
    },
    {
     "name": "stdout",
     "output_type": "stream",
     "text": [
      "rerank...\n",
      "sacmplecnt: 100 lapcnt: 200 runcnt: 100\n"
     ]
    },
    {
     "name": "stderr",
     "output_type": "stream",
     "text": [
      "/scratch_ssd/hpda/anaconda3/envs/gluonts/lib/python3.6/site-packages/ipykernel_launcher.py:32: RuntimeWarning: Mean of empty slice\n",
      "/scratch_ssd/hpda/anaconda3/envs/gluonts/lib/python3.6/site-packages/ipykernel_launcher.py:6: RuntimeWarning: invalid value encountered in less_equal\n",
      "  \n"
     ]
    },
    {
     "name": "stdout",
     "output_type": "stream",
     "text": [
      "dict_values([0.08658588301147496, 0.11146226327082752, 0.09958196100382498])\n",
      "model: acc={0.75}, mae={1.55}, rmse={3.30},r2={0.84}, {142}\n",
      "            naive: acc={0.66}, mae={1.74}, rmse={3.75},r2={0.79}\n",
      "year: 2019 clf: currank\n"
     ]
    },
    {
     "name": "stderr",
     "output_type": "stream",
     "text": [
      "/scratch_ssd/hpda/anaconda3/envs/gluonts/lib/python3.6/site-packages/ipykernel_launcher.py:6: RuntimeWarning: invalid value encountered in less_equal\n",
      "  \n"
     ]
    },
    {
     "name": "stdout",
     "output_type": "stream",
     "text": [
      "dict_values([0.12765526598222054, 0.1276552659822206, 0.12765526598222066])\n",
      "model: acc={0.59}, mae={1.86}, rmse={3.92},r2={0.80}, {113}\n",
      "            naive: acc={0.59}, mae={1.89}, rmse={3.94},r2={0.80}\n",
      "year: 2019 clf: rf\n"
     ]
    },
    {
     "name": "stderr",
     "output_type": "stream",
     "text": [
      "/scratch_ssd/hpda/anaconda3/envs/gluonts/lib/python3.6/site-packages/ipykernel_launcher.py:6: RuntimeWarning: invalid value encountered in less_equal\n",
      "  \n"
     ]
    },
    {
     "name": "stdout",
     "output_type": "stream",
     "text": [
      "dict_values([0.13287973594151833, 0.13287973594151833, 0.13287973594151833])\n",
      "model: acc={0.51}, mae={1.93}, rmse={3.64},r2={0.83}, {113}\n",
      "            naive: acc={0.59}, mae={1.89}, rmse={3.94},r2={0.80}\n",
      "year: 2019 clf: svr\n"
     ]
    },
    {
     "name": "stderr",
     "output_type": "stream",
     "text": [
      "/scratch_ssd/hpda/anaconda3/envs/gluonts/lib/python3.6/site-packages/ipykernel_launcher.py:6: RuntimeWarning: invalid value encountered in less_equal\n",
      "  \n"
     ]
    },
    {
     "name": "stdout",
     "output_type": "stream",
     "text": [
      "dict_values([0.12765526598222054, 0.1276552659822206, 0.12765526598222066])\n",
      "model: acc={0.59}, mae={1.86}, rmse={3.92},r2={0.80}, {113}\n",
      "            naive: acc={0.59}, mae={1.89}, rmse={3.94},r2={0.80}\n",
      "year: 2019 clf: xgb\n"
     ]
    },
    {
     "name": "stderr",
     "output_type": "stream",
     "text": [
      "/scratch_ssd/hpda/anaconda3/envs/gluonts/lib/python3.6/site-packages/ipykernel_launcher.py:6: RuntimeWarning: invalid value encountered in less_equal\n",
      "  \n"
     ]
    },
    {
     "name": "stdout",
     "output_type": "stream",
     "text": [
      "dict_values([0.13178624222910718, 0.13178624222910718, 0.13178624222910718])\n",
      "model: acc={0.55}, mae={1.92}, rmse={3.68},r2={0.82}, {113}\n",
      "            naive: acc={0.59}, mae={1.89}, rmse={3.94},r2={0.80}\n",
      "rerank...\n",
      "sacmplecnt: 100 lapcnt: 200 runcnt: 10\n"
     ]
    },
    {
     "name": "stderr",
     "output_type": "stream",
     "text": [
      "/scratch_ssd/hpda/anaconda3/envs/gluonts/lib/python3.6/site-packages/ipykernel_launcher.py:32: RuntimeWarning: Mean of empty slice\n",
      "/scratch_ssd/hpda/anaconda3/envs/gluonts/lib/python3.6/site-packages/ipykernel_launcher.py:6: RuntimeWarning: invalid value encountered in less_equal\n",
      "  \n"
     ]
    },
    {
     "name": "stdout",
     "output_type": "stream",
     "text": [
      "dict_values([0.09315297655083346, 0.10073717560640917, 0.09143359163740566])\n",
      "model: acc={0.81}, mae={1.50}, rmse={3.24},r2={0.86}, {113}\n",
      "            naive: acc={0.60}, mae={1.83}, rmse={3.90},r2={0.80}\n",
      "rerank...\n",
      "sacmplecnt: 100 lapcnt: 200 runcnt: 100\n"
     ]
    },
    {
     "name": "stderr",
     "output_type": "stream",
     "text": [
      "/scratch_ssd/hpda/anaconda3/envs/gluonts/lib/python3.6/site-packages/ipykernel_launcher.py:32: RuntimeWarning: Mean of empty slice\n"
     ]
    },
    {
     "name": "stdout",
     "output_type": "stream",
     "text": [
      "dict_values([0.08399389353029019, 0.10931771400895994, 0.09201640230859268])\n",
      "model: acc={0.67}, mae={1.67}, rmse={3.49},r2={0.84}, {113}\n",
      "            naive: acc={0.60}, mae={1.83}, rmse={3.90},r2={0.80}\n",
      "    Year           Model   SignAcc       MAE   50-Risk   90-Risk\n",
      "0   2018         CurRank  0.640845  1.756091  0.129866  0.129851\n",
      "1   2018    RandomForest  0.443662  1.966244  0.145407  0.145392\n",
      "2   2018             SVM  0.640845  1.756091  0.129866  0.129851\n",
      "3   2018         XGBoost  0.443662  2.018528  0.149274  0.149259\n",
      "4   2018  RankNet-Oracle  0.852113  1.412598  0.103178  0.094849\n",
      "5   2018     RankNet-MLP  0.746479  1.551227  0.111462  0.099582\n",
      "6   2019         CurRank  0.592920  1.857943  0.127655  0.127655\n",
      "7   2019    RandomForest  0.513274  1.933982  0.132880  0.132880\n",
      "8   2019             SVM  0.592920  1.857943  0.127655  0.127655\n",
      "9   2019         XGBoost  0.548673  1.918067  0.131786  0.131786\n",
      "10  2019  RankNet-Oracle  0.805310  1.501030  0.100737  0.091434\n",
      "11  2019     RankNet-MLP  0.672566  1.667549  0.109318  0.092016\n"
     ]
    },
    {
     "name": "stderr",
     "output_type": "stream",
     "text": [
      "/scratch_ssd/hpda/anaconda3/envs/gluonts/lib/python3.6/site-packages/ipykernel_launcher.py:6: RuntimeWarning: invalid value encountered in less_equal\n",
      "  \n"
     ]
    }
   ],
   "source": [
    "for laptype in ['normal','pit']:\n",
    "    \n",
    "    plen = 2\n",
    "    \n",
    "    outfile=f'shortterm-dfout-mlmodels-indy500-tr2013_2017-te2018_2019-end{include_str}-rerank-t{plen}.pickle'\n",
    "    shortterm_df = load_dfout(outfile)\n",
    "\n",
    "    retdata = []\n",
    "    for year in ['2018','2019']:\n",
    "        \n",
    "        # select the set\n",
    "        pitcoveredlaps = pitdata[year][1]\n",
    "        normallaps = set([x for x in range(1,201)]) - pitcoveredlaps\n",
    "        \n",
    "        if laptype == 'normal':\n",
    "            sellaps = normallaps\n",
    "            clearlaps = pitcoveredlaps\n",
    "        else:\n",
    "            sellaps = pitcoveredlaps\n",
    "            clearlaps = normallaps\n",
    "        \n",
    "        \n",
    "        # pitcoveredlaps start idx = 1\n",
    "        startlaps = [x-plen-1 for x in sellaps]\n",
    "        #sellapidx = np.array([x-1 for x in sellaps])\n",
    "        clearidx = np.array([x-1 for x in clearlaps])\n",
    "        \n",
    "        for clf in ['currank','rf','svr','xgb']:\n",
    "            print('year:',year,'clf:',clf)\n",
    "            \n",
    "            dfout = shortterm_df[year][clf]\n",
    "            fsamples, ftss = df2samples(dfout)\n",
    "            \n",
    "            fsamples, ftss = clear_samples(fsamples, ftss,clearidx)\n",
    "            _, prisk_vals = prisk_direct_bysamples(fsamples, ftss)\n",
    "            \n",
    "            # split dfout by startlap\n",
    "            # curlap = int(dfrec.startlap.values[0] + prediction_len)\n",
    "            dfout = dfout[dfout['startlap'].isin(startlaps)]\n",
    "            accret = stint.get_evalret_shortterm(dfout)[0]\n",
    "\n",
    "            retdata.append([year,models[clf],accret[0], accret[1], prisk_vals[1], prisk_vals[2]])\n",
    "            \n",
    "        #oracle\n",
    "        outfile=f'shortterm-dfout-ranknet-indy500-rank-inlap-nopitage-20182019-oracle-l10-alldata.pickle'\n",
    "        _all = load_dfout_all(outfile)[0]\n",
    "        ranknetdf, acc, ret, pret = _all[0],_all[1],_all[2],_all[3]\n",
    "        \n",
    "        dfout = do_rerank(ranknetdf[year]['oracle_mean'])\n",
    "        \n",
    "        allsamples, alltss = get_allsamples(year=year, model='oracle')\n",
    "        \n",
    "        allsamples, alltss = clear_samples(allsamples, alltss,clearidx)\n",
    "        _, prisk_vals = prisk_direct_bysamples(allsamples, alltss)\n",
    "\n",
    "        dfout = dfout[dfout['startlap'].isin(startlaps)]\n",
    "        accret = stint.get_evalret_shortterm(dfout)[0]\n",
    "        \n",
    "        retdata.append([year,'RankNet-Oracle',accret[0], accret[1], prisk_vals[1], prisk_vals[2]])\n",
    "        \n",
    "        #pitmodel\n",
    "        outfile=f'shortterm-dfout-ranknet-indy500-rank-inlap-nopitage-20182019-alldata.pickle'\n",
    "        _all = load_dfout_all(outfile)[0]\n",
    "        ranknetdf, acc, ret = _all[0],_all[1],_all[2]\n",
    "        \n",
    "        dfout = do_rerank(ranknetdf[year]['pitmodel_mean'])\n",
    "        \n",
    "        allsamples, alltss = get_allsamples(year=year, model='pitmodel')\n",
    "        allsamples, alltss = clear_samples(allsamples, alltss,clearidx)\n",
    "        _, prisk_vals = prisk_direct_bysamples(allsamples, alltss)        \n",
    "\n",
    "        dfout = dfout[dfout['startlap'].isin(startlaps)]\n",
    "        accret = stint.get_evalret_shortterm(dfout)[0]\n",
    "        \n",
    "        retdata.append([year,'RankNet-MLP',accret[0], accret[1], prisk_vals[1], prisk_vals[2]])\n",
    "\n",
    "        #print('oracle:', ranknet_pret[f'oracle-RANK-2018-inlap-nopitage'])\n",
    "        #print('pitmodel:', ranknet_pret[f'pitmodel-RANK-2018-inlap-nopitage'])\n",
    "\n",
    "    stint_split_result[laptype] = pd.DataFrame(data=retdata, columns=cols)\n",
    "    \n",
    "    print(stint_split_result[laptype])"
   ]
  },
  {
   "cell_type": "code",
   "execution_count": 59,
   "metadata": {},
   "outputs": [
    {
     "data": {
      "text/html": [
       "<div>\n",
       "<style scoped>\n",
       "    .dataframe tbody tr th:only-of-type {\n",
       "        vertical-align: middle;\n",
       "    }\n",
       "\n",
       "    .dataframe tbody tr th {\n",
       "        vertical-align: top;\n",
       "    }\n",
       "\n",
       "    .dataframe thead th {\n",
       "        text-align: right;\n",
       "    }\n",
       "</style>\n",
       "<table border=\"1\" class=\"dataframe\">\n",
       "  <thead>\n",
       "    <tr style=\"text-align: right;\">\n",
       "      <th></th>\n",
       "      <th>Year</th>\n",
       "      <th>Model</th>\n",
       "      <th>SignAcc</th>\n",
       "      <th>MAE</th>\n",
       "      <th>50-Risk</th>\n",
       "      <th>90-Risk</th>\n",
       "    </tr>\n",
       "  </thead>\n",
       "  <tbody>\n",
       "    <tr>\n",
       "      <th>0</th>\n",
       "      <td>2018</td>\n",
       "      <td>CurRank</td>\n",
       "      <td>0.956522</td>\n",
       "      <td>0.167143</td>\n",
       "      <td>0.011574</td>\n",
       "      <td>0.011574</td>\n",
       "    </tr>\n",
       "    <tr>\n",
       "      <th>1</th>\n",
       "      <td>2018</td>\n",
       "      <td>RandomForest</td>\n",
       "      <td>0.565217</td>\n",
       "      <td>0.908571</td>\n",
       "      <td>0.061829</td>\n",
       "      <td>0.061829</td>\n",
       "    </tr>\n",
       "    <tr>\n",
       "      <th>2</th>\n",
       "      <td>2018</td>\n",
       "      <td>SVM</td>\n",
       "      <td>0.956522</td>\n",
       "      <td>0.167143</td>\n",
       "      <td>0.011574</td>\n",
       "      <td>0.011574</td>\n",
       "    </tr>\n",
       "    <tr>\n",
       "      <th>3</th>\n",
       "      <td>2018</td>\n",
       "      <td>XGBoost</td>\n",
       "      <td>0.521739</td>\n",
       "      <td>0.540000</td>\n",
       "      <td>0.037295</td>\n",
       "      <td>0.037295</td>\n",
       "    </tr>\n",
       "    <tr>\n",
       "      <th>4</th>\n",
       "      <td>2018</td>\n",
       "      <td>RankNet-Oracle</td>\n",
       "      <td>0.891304</td>\n",
       "      <td>0.243691</td>\n",
       "      <td>0.017973</td>\n",
       "      <td>0.016957</td>\n",
       "    </tr>\n",
       "    <tr>\n",
       "      <th>5</th>\n",
       "      <td>2018</td>\n",
       "      <td>RankNet-MLP</td>\n",
       "      <td>0.891304</td>\n",
       "      <td>0.252343</td>\n",
       "      <td>0.018504</td>\n",
       "      <td>0.017345</td>\n",
       "    </tr>\n",
       "    <tr>\n",
       "      <th>6</th>\n",
       "      <td>2019</td>\n",
       "      <td>CurRank</td>\n",
       "      <td>0.946667</td>\n",
       "      <td>0.107335</td>\n",
       "      <td>0.007440</td>\n",
       "      <td>0.007440</td>\n",
       "    </tr>\n",
       "    <tr>\n",
       "      <th>7</th>\n",
       "      <td>2019</td>\n",
       "      <td>RandomForest</td>\n",
       "      <td>0.800000</td>\n",
       "      <td>0.381038</td>\n",
       "      <td>0.026197</td>\n",
       "      <td>0.026197</td>\n",
       "    </tr>\n",
       "    <tr>\n",
       "      <th>8</th>\n",
       "      <td>2019</td>\n",
       "      <td>SVM</td>\n",
       "      <td>0.946667</td>\n",
       "      <td>0.107335</td>\n",
       "      <td>0.007440</td>\n",
       "      <td>0.007440</td>\n",
       "    </tr>\n",
       "    <tr>\n",
       "      <th>9</th>\n",
       "      <td>2019</td>\n",
       "      <td>XGBoost</td>\n",
       "      <td>0.786667</td>\n",
       "      <td>0.228980</td>\n",
       "      <td>0.015881</td>\n",
       "      <td>0.015881</td>\n",
       "    </tr>\n",
       "    <tr>\n",
       "      <th>10</th>\n",
       "      <td>2019</td>\n",
       "      <td>RankNet-Oracle</td>\n",
       "      <td>0.933333</td>\n",
       "      <td>0.169507</td>\n",
       "      <td>0.014168</td>\n",
       "      <td>0.013213</td>\n",
       "    </tr>\n",
       "    <tr>\n",
       "      <th>11</th>\n",
       "      <td>2019</td>\n",
       "      <td>RankNet-MLP</td>\n",
       "      <td>0.933333</td>\n",
       "      <td>0.169507</td>\n",
       "      <td>0.014060</td>\n",
       "      <td>0.013060</td>\n",
       "    </tr>\n",
       "  </tbody>\n",
       "</table>\n",
       "</div>"
      ],
      "text/plain": [
       "    Year           Model   SignAcc       MAE   50-Risk   90-Risk\n",
       "0   2018         CurRank  0.956522  0.167143  0.011574  0.011574\n",
       "1   2018    RandomForest  0.565217  0.908571  0.061829  0.061829\n",
       "2   2018             SVM  0.956522  0.167143  0.011574  0.011574\n",
       "3   2018         XGBoost  0.521739  0.540000  0.037295  0.037295\n",
       "4   2018  RankNet-Oracle  0.891304  0.243691  0.017973  0.016957\n",
       "5   2018     RankNet-MLP  0.891304  0.252343  0.018504  0.017345\n",
       "6   2019         CurRank  0.946667  0.107335  0.007440  0.007440\n",
       "7   2019    RandomForest  0.800000  0.381038  0.026197  0.026197\n",
       "8   2019             SVM  0.946667  0.107335  0.007440  0.007440\n",
       "9   2019         XGBoost  0.786667  0.228980  0.015881  0.015881\n",
       "10  2019  RankNet-Oracle  0.933333  0.169507  0.014168  0.013213\n",
       "11  2019     RankNet-MLP  0.933333  0.169507  0.014060  0.013060"
      ]
     },
     "execution_count": 59,
     "metadata": {},
     "output_type": "execute_result"
    }
   ],
   "source": [
    "stint_split_result['normal']"
   ]
  },
  {
   "cell_type": "code",
   "execution_count": 60,
   "metadata": {},
   "outputs": [
    {
     "data": {
      "text/html": [
       "<div>\n",
       "<style scoped>\n",
       "    .dataframe tbody tr th:only-of-type {\n",
       "        vertical-align: middle;\n",
       "    }\n",
       "\n",
       "    .dataframe tbody tr th {\n",
       "        vertical-align: top;\n",
       "    }\n",
       "\n",
       "    .dataframe thead th {\n",
       "        text-align: right;\n",
       "    }\n",
       "</style>\n",
       "<table border=\"1\" class=\"dataframe\">\n",
       "  <thead>\n",
       "    <tr style=\"text-align: right;\">\n",
       "      <th></th>\n",
       "      <th>Year</th>\n",
       "      <th>Model</th>\n",
       "      <th>SignAcc</th>\n",
       "      <th>MAE</th>\n",
       "      <th>50-Risk</th>\n",
       "      <th>90-Risk</th>\n",
       "    </tr>\n",
       "  </thead>\n",
       "  <tbody>\n",
       "    <tr>\n",
       "      <th>0</th>\n",
       "      <td>2018</td>\n",
       "      <td>CurRank</td>\n",
       "      <td>0.640845</td>\n",
       "      <td>1.756091</td>\n",
       "      <td>0.129866</td>\n",
       "      <td>0.129851</td>\n",
       "    </tr>\n",
       "    <tr>\n",
       "      <th>1</th>\n",
       "      <td>2018</td>\n",
       "      <td>RandomForest</td>\n",
       "      <td>0.443662</td>\n",
       "      <td>1.966244</td>\n",
       "      <td>0.145407</td>\n",
       "      <td>0.145392</td>\n",
       "    </tr>\n",
       "    <tr>\n",
       "      <th>2</th>\n",
       "      <td>2018</td>\n",
       "      <td>SVM</td>\n",
       "      <td>0.640845</td>\n",
       "      <td>1.756091</td>\n",
       "      <td>0.129866</td>\n",
       "      <td>0.129851</td>\n",
       "    </tr>\n",
       "    <tr>\n",
       "      <th>3</th>\n",
       "      <td>2018</td>\n",
       "      <td>XGBoost</td>\n",
       "      <td>0.443662</td>\n",
       "      <td>2.018528</td>\n",
       "      <td>0.149274</td>\n",
       "      <td>0.149259</td>\n",
       "    </tr>\n",
       "    <tr>\n",
       "      <th>4</th>\n",
       "      <td>2018</td>\n",
       "      <td>RankNet-Oracle</td>\n",
       "      <td>0.852113</td>\n",
       "      <td>1.412598</td>\n",
       "      <td>0.103178</td>\n",
       "      <td>0.094849</td>\n",
       "    </tr>\n",
       "    <tr>\n",
       "      <th>5</th>\n",
       "      <td>2018</td>\n",
       "      <td>RankNet-MLP</td>\n",
       "      <td>0.746479</td>\n",
       "      <td>1.551227</td>\n",
       "      <td>0.111462</td>\n",
       "      <td>0.099582</td>\n",
       "    </tr>\n",
       "    <tr>\n",
       "      <th>6</th>\n",
       "      <td>2019</td>\n",
       "      <td>CurRank</td>\n",
       "      <td>0.592920</td>\n",
       "      <td>1.857943</td>\n",
       "      <td>0.127655</td>\n",
       "      <td>0.127655</td>\n",
       "    </tr>\n",
       "    <tr>\n",
       "      <th>7</th>\n",
       "      <td>2019</td>\n",
       "      <td>RandomForest</td>\n",
       "      <td>0.513274</td>\n",
       "      <td>1.933982</td>\n",
       "      <td>0.132880</td>\n",
       "      <td>0.132880</td>\n",
       "    </tr>\n",
       "    <tr>\n",
       "      <th>8</th>\n",
       "      <td>2019</td>\n",
       "      <td>SVM</td>\n",
       "      <td>0.592920</td>\n",
       "      <td>1.857943</td>\n",
       "      <td>0.127655</td>\n",
       "      <td>0.127655</td>\n",
       "    </tr>\n",
       "    <tr>\n",
       "      <th>9</th>\n",
       "      <td>2019</td>\n",
       "      <td>XGBoost</td>\n",
       "      <td>0.548673</td>\n",
       "      <td>1.918067</td>\n",
       "      <td>0.131786</td>\n",
       "      <td>0.131786</td>\n",
       "    </tr>\n",
       "    <tr>\n",
       "      <th>10</th>\n",
       "      <td>2019</td>\n",
       "      <td>RankNet-Oracle</td>\n",
       "      <td>0.805310</td>\n",
       "      <td>1.501030</td>\n",
       "      <td>0.100737</td>\n",
       "      <td>0.091434</td>\n",
       "    </tr>\n",
       "    <tr>\n",
       "      <th>11</th>\n",
       "      <td>2019</td>\n",
       "      <td>RankNet-MLP</td>\n",
       "      <td>0.672566</td>\n",
       "      <td>1.667549</td>\n",
       "      <td>0.109318</td>\n",
       "      <td>0.092016</td>\n",
       "    </tr>\n",
       "  </tbody>\n",
       "</table>\n",
       "</div>"
      ],
      "text/plain": [
       "    Year           Model   SignAcc       MAE   50-Risk   90-Risk\n",
       "0   2018         CurRank  0.640845  1.756091  0.129866  0.129851\n",
       "1   2018    RandomForest  0.443662  1.966244  0.145407  0.145392\n",
       "2   2018             SVM  0.640845  1.756091  0.129866  0.129851\n",
       "3   2018         XGBoost  0.443662  2.018528  0.149274  0.149259\n",
       "4   2018  RankNet-Oracle  0.852113  1.412598  0.103178  0.094849\n",
       "5   2018     RankNet-MLP  0.746479  1.551227  0.111462  0.099582\n",
       "6   2019         CurRank  0.592920  1.857943  0.127655  0.127655\n",
       "7   2019    RandomForest  0.513274  1.933982  0.132880  0.132880\n",
       "8   2019             SVM  0.592920  1.857943  0.127655  0.127655\n",
       "9   2019         XGBoost  0.548673  1.918067  0.131786  0.131786\n",
       "10  2019  RankNet-Oracle  0.805310  1.501030  0.100737  0.091434\n",
       "11  2019     RankNet-MLP  0.672566  1.667549  0.109318  0.092016"
      ]
     },
     "execution_count": 60,
     "metadata": {},
     "output_type": "execute_result"
    }
   ],
   "source": [
    "stint_split_result['pit']"
   ]
  },
  {
   "cell_type": "code",
   "execution_count": 61,
   "metadata": {},
   "outputs": [],
   "source": [
    "dfs = []\n",
    "for laptype in ['normal','pit']:\n",
    "    df = stint_split_result[laptype]\n",
    "    df['laptype'] = laptype\n",
    "    \n",
    "    dfs.append(df)\n",
    "    \n",
    "alldf = pd.concat(dfs)"
   ]
  },
  {
   "cell_type": "code",
   "execution_count": 62,
   "metadata": {},
   "outputs": [],
   "source": [
    "alldf.to_csv('evaluation_result_shortterm_plen2-split_v4.csv')"
   ]
  },
  {
   "cell_type": "code",
   "execution_count": 63,
   "metadata": {},
   "outputs": [
    {
     "data": {
      "text/html": [
       "<div>\n",
       "<style scoped>\n",
       "    .dataframe tbody tr th:only-of-type {\n",
       "        vertical-align: middle;\n",
       "    }\n",
       "\n",
       "    .dataframe tbody tr th {\n",
       "        vertical-align: top;\n",
       "    }\n",
       "\n",
       "    .dataframe thead th {\n",
       "        text-align: right;\n",
       "    }\n",
       "</style>\n",
       "<table border=\"1\" class=\"dataframe\">\n",
       "  <thead>\n",
       "    <tr style=\"text-align: right;\">\n",
       "      <th></th>\n",
       "      <th>Year</th>\n",
       "      <th>Model</th>\n",
       "      <th>SignAcc</th>\n",
       "      <th>MAE</th>\n",
       "      <th>50-Risk</th>\n",
       "      <th>90-Risk</th>\n",
       "      <th>laptype</th>\n",
       "    </tr>\n",
       "  </thead>\n",
       "  <tbody>\n",
       "    <tr>\n",
       "      <th>0</th>\n",
       "      <td>2018</td>\n",
       "      <td>CurRank</td>\n",
       "      <td>0.956522</td>\n",
       "      <td>0.167143</td>\n",
       "      <td>0.011574</td>\n",
       "      <td>0.011574</td>\n",
       "      <td>normal</td>\n",
       "    </tr>\n",
       "    <tr>\n",
       "      <th>1</th>\n",
       "      <td>2018</td>\n",
       "      <td>RandomForest</td>\n",
       "      <td>0.565217</td>\n",
       "      <td>0.908571</td>\n",
       "      <td>0.061829</td>\n",
       "      <td>0.061829</td>\n",
       "      <td>normal</td>\n",
       "    </tr>\n",
       "    <tr>\n",
       "      <th>2</th>\n",
       "      <td>2018</td>\n",
       "      <td>SVM</td>\n",
       "      <td>0.956522</td>\n",
       "      <td>0.167143</td>\n",
       "      <td>0.011574</td>\n",
       "      <td>0.011574</td>\n",
       "      <td>normal</td>\n",
       "    </tr>\n",
       "    <tr>\n",
       "      <th>3</th>\n",
       "      <td>2018</td>\n",
       "      <td>XGBoost</td>\n",
       "      <td>0.521739</td>\n",
       "      <td>0.540000</td>\n",
       "      <td>0.037295</td>\n",
       "      <td>0.037295</td>\n",
       "      <td>normal</td>\n",
       "    </tr>\n",
       "    <tr>\n",
       "      <th>4</th>\n",
       "      <td>2018</td>\n",
       "      <td>RankNet-Oracle</td>\n",
       "      <td>0.891304</td>\n",
       "      <td>0.243691</td>\n",
       "      <td>0.017973</td>\n",
       "      <td>0.016957</td>\n",
       "      <td>normal</td>\n",
       "    </tr>\n",
       "    <tr>\n",
       "      <th>5</th>\n",
       "      <td>2018</td>\n",
       "      <td>RankNet-MLP</td>\n",
       "      <td>0.891304</td>\n",
       "      <td>0.252343</td>\n",
       "      <td>0.018504</td>\n",
       "      <td>0.017345</td>\n",
       "      <td>normal</td>\n",
       "    </tr>\n",
       "    <tr>\n",
       "      <th>6</th>\n",
       "      <td>2019</td>\n",
       "      <td>CurRank</td>\n",
       "      <td>0.946667</td>\n",
       "      <td>0.107335</td>\n",
       "      <td>0.007440</td>\n",
       "      <td>0.007440</td>\n",
       "      <td>normal</td>\n",
       "    </tr>\n",
       "    <tr>\n",
       "      <th>7</th>\n",
       "      <td>2019</td>\n",
       "      <td>RandomForest</td>\n",
       "      <td>0.800000</td>\n",
       "      <td>0.381038</td>\n",
       "      <td>0.026197</td>\n",
       "      <td>0.026197</td>\n",
       "      <td>normal</td>\n",
       "    </tr>\n",
       "    <tr>\n",
       "      <th>8</th>\n",
       "      <td>2019</td>\n",
       "      <td>SVM</td>\n",
       "      <td>0.946667</td>\n",
       "      <td>0.107335</td>\n",
       "      <td>0.007440</td>\n",
       "      <td>0.007440</td>\n",
       "      <td>normal</td>\n",
       "    </tr>\n",
       "    <tr>\n",
       "      <th>9</th>\n",
       "      <td>2019</td>\n",
       "      <td>XGBoost</td>\n",
       "      <td>0.786667</td>\n",
       "      <td>0.228980</td>\n",
       "      <td>0.015881</td>\n",
       "      <td>0.015881</td>\n",
       "      <td>normal</td>\n",
       "    </tr>\n",
       "    <tr>\n",
       "      <th>10</th>\n",
       "      <td>2019</td>\n",
       "      <td>RankNet-Oracle</td>\n",
       "      <td>0.933333</td>\n",
       "      <td>0.169507</td>\n",
       "      <td>0.014168</td>\n",
       "      <td>0.013213</td>\n",
       "      <td>normal</td>\n",
       "    </tr>\n",
       "    <tr>\n",
       "      <th>11</th>\n",
       "      <td>2019</td>\n",
       "      <td>RankNet-MLP</td>\n",
       "      <td>0.933333</td>\n",
       "      <td>0.169507</td>\n",
       "      <td>0.014060</td>\n",
       "      <td>0.013060</td>\n",
       "      <td>normal</td>\n",
       "    </tr>\n",
       "    <tr>\n",
       "      <th>0</th>\n",
       "      <td>2018</td>\n",
       "      <td>CurRank</td>\n",
       "      <td>0.640845</td>\n",
       "      <td>1.756091</td>\n",
       "      <td>0.129866</td>\n",
       "      <td>0.129851</td>\n",
       "      <td>pit</td>\n",
       "    </tr>\n",
       "    <tr>\n",
       "      <th>1</th>\n",
       "      <td>2018</td>\n",
       "      <td>RandomForest</td>\n",
       "      <td>0.443662</td>\n",
       "      <td>1.966244</td>\n",
       "      <td>0.145407</td>\n",
       "      <td>0.145392</td>\n",
       "      <td>pit</td>\n",
       "    </tr>\n",
       "    <tr>\n",
       "      <th>2</th>\n",
       "      <td>2018</td>\n",
       "      <td>SVM</td>\n",
       "      <td>0.640845</td>\n",
       "      <td>1.756091</td>\n",
       "      <td>0.129866</td>\n",
       "      <td>0.129851</td>\n",
       "      <td>pit</td>\n",
       "    </tr>\n",
       "    <tr>\n",
       "      <th>3</th>\n",
       "      <td>2018</td>\n",
       "      <td>XGBoost</td>\n",
       "      <td>0.443662</td>\n",
       "      <td>2.018528</td>\n",
       "      <td>0.149274</td>\n",
       "      <td>0.149259</td>\n",
       "      <td>pit</td>\n",
       "    </tr>\n",
       "    <tr>\n",
       "      <th>4</th>\n",
       "      <td>2018</td>\n",
       "      <td>RankNet-Oracle</td>\n",
       "      <td>0.852113</td>\n",
       "      <td>1.412598</td>\n",
       "      <td>0.103178</td>\n",
       "      <td>0.094849</td>\n",
       "      <td>pit</td>\n",
       "    </tr>\n",
       "    <tr>\n",
       "      <th>5</th>\n",
       "      <td>2018</td>\n",
       "      <td>RankNet-MLP</td>\n",
       "      <td>0.746479</td>\n",
       "      <td>1.551227</td>\n",
       "      <td>0.111462</td>\n",
       "      <td>0.099582</td>\n",
       "      <td>pit</td>\n",
       "    </tr>\n",
       "    <tr>\n",
       "      <th>6</th>\n",
       "      <td>2019</td>\n",
       "      <td>CurRank</td>\n",
       "      <td>0.592920</td>\n",
       "      <td>1.857943</td>\n",
       "      <td>0.127655</td>\n",
       "      <td>0.127655</td>\n",
       "      <td>pit</td>\n",
       "    </tr>\n",
       "    <tr>\n",
       "      <th>7</th>\n",
       "      <td>2019</td>\n",
       "      <td>RandomForest</td>\n",
       "      <td>0.513274</td>\n",
       "      <td>1.933982</td>\n",
       "      <td>0.132880</td>\n",
       "      <td>0.132880</td>\n",
       "      <td>pit</td>\n",
       "    </tr>\n",
       "    <tr>\n",
       "      <th>8</th>\n",
       "      <td>2019</td>\n",
       "      <td>SVM</td>\n",
       "      <td>0.592920</td>\n",
       "      <td>1.857943</td>\n",
       "      <td>0.127655</td>\n",
       "      <td>0.127655</td>\n",
       "      <td>pit</td>\n",
       "    </tr>\n",
       "    <tr>\n",
       "      <th>9</th>\n",
       "      <td>2019</td>\n",
       "      <td>XGBoost</td>\n",
       "      <td>0.548673</td>\n",
       "      <td>1.918067</td>\n",
       "      <td>0.131786</td>\n",
       "      <td>0.131786</td>\n",
       "      <td>pit</td>\n",
       "    </tr>\n",
       "    <tr>\n",
       "      <th>10</th>\n",
       "      <td>2019</td>\n",
       "      <td>RankNet-Oracle</td>\n",
       "      <td>0.805310</td>\n",
       "      <td>1.501030</td>\n",
       "      <td>0.100737</td>\n",
       "      <td>0.091434</td>\n",
       "      <td>pit</td>\n",
       "    </tr>\n",
       "    <tr>\n",
       "      <th>11</th>\n",
       "      <td>2019</td>\n",
       "      <td>RankNet-MLP</td>\n",
       "      <td>0.672566</td>\n",
       "      <td>1.667549</td>\n",
       "      <td>0.109318</td>\n",
       "      <td>0.092016</td>\n",
       "      <td>pit</td>\n",
       "    </tr>\n",
       "  </tbody>\n",
       "</table>\n",
       "</div>"
      ],
      "text/plain": [
       "    Year           Model   SignAcc       MAE   50-Risk   90-Risk laptype\n",
       "0   2018         CurRank  0.956522  0.167143  0.011574  0.011574  normal\n",
       "1   2018    RandomForest  0.565217  0.908571  0.061829  0.061829  normal\n",
       "2   2018             SVM  0.956522  0.167143  0.011574  0.011574  normal\n",
       "3   2018         XGBoost  0.521739  0.540000  0.037295  0.037295  normal\n",
       "4   2018  RankNet-Oracle  0.891304  0.243691  0.017973  0.016957  normal\n",
       "5   2018     RankNet-MLP  0.891304  0.252343  0.018504  0.017345  normal\n",
       "6   2019         CurRank  0.946667  0.107335  0.007440  0.007440  normal\n",
       "7   2019    RandomForest  0.800000  0.381038  0.026197  0.026197  normal\n",
       "8   2019             SVM  0.946667  0.107335  0.007440  0.007440  normal\n",
       "9   2019         XGBoost  0.786667  0.228980  0.015881  0.015881  normal\n",
       "10  2019  RankNet-Oracle  0.933333  0.169507  0.014168  0.013213  normal\n",
       "11  2019     RankNet-MLP  0.933333  0.169507  0.014060  0.013060  normal\n",
       "0   2018         CurRank  0.640845  1.756091  0.129866  0.129851     pit\n",
       "1   2018    RandomForest  0.443662  1.966244  0.145407  0.145392     pit\n",
       "2   2018             SVM  0.640845  1.756091  0.129866  0.129851     pit\n",
       "3   2018         XGBoost  0.443662  2.018528  0.149274  0.149259     pit\n",
       "4   2018  RankNet-Oracle  0.852113  1.412598  0.103178  0.094849     pit\n",
       "5   2018     RankNet-MLP  0.746479  1.551227  0.111462  0.099582     pit\n",
       "6   2019         CurRank  0.592920  1.857943  0.127655  0.127655     pit\n",
       "7   2019    RandomForest  0.513274  1.933982  0.132880  0.132880     pit\n",
       "8   2019             SVM  0.592920  1.857943  0.127655  0.127655     pit\n",
       "9   2019         XGBoost  0.548673  1.918067  0.131786  0.131786     pit\n",
       "10  2019  RankNet-Oracle  0.805310  1.501030  0.100737  0.091434     pit\n",
       "11  2019     RankNet-MLP  0.672566  1.667549  0.109318  0.092016     pit"
      ]
     },
     "execution_count": 63,
     "metadata": {},
     "output_type": "execute_result"
    }
   ],
   "source": [
    "alldf"
   ]
  },
  {
   "cell_type": "markdown",
   "metadata": {},
   "source": [
    "## test new oracle"
   ]
  },
  {
   "cell_type": "code",
   "execution_count": 74,
   "metadata": {},
   "outputs": [
    {
     "name": "stdout",
     "output_type": "stream",
     "text": [
      "rerank...\n",
      "sacmplecnt: 100 lapcnt: 200 runcnt: 10\n"
     ]
    },
    {
     "name": "stderr",
     "output_type": "stream",
     "text": [
      "/scratch_ssd/hpda/anaconda3/envs/gluonts/lib/python3.6/site-packages/ipykernel_launcher.py:32: RuntimeWarning: Mean of empty slice\n",
      "/scratch_ssd/hpda/anaconda3/envs/gluonts/lib/python3.6/site-packages/ipykernel_launcher.py:6: RuntimeWarning: invalid value encountered in less_equal\n",
      "  \n"
     ]
    },
    {
     "name": "stdout",
     "output_type": "stream",
     "text": [
      "dict_values([0.025872260022517017, 0.031835381075921494, 0.027615938127172165])\n",
      "model: acc={0.89}, mae={0.38}, rmse={0.96},r2={0.99}, {46}\n",
      "            naive: acc={0.89}, mae={0.21}, rmse={0.69},r2={0.99}\n",
      "2018 normal RankNet-Oracle 0.8913043478241494 0.3835616438356164 0.031835381075921494 0.027615938127172165\n",
      "rerank...\n",
      "sacmplecnt: 100 lapcnt: 200 runcnt: 10\n",
      "dict_values([0.09257791585035918, 0.10361134434182291, 0.09418231924619828])\n",
      "model: acc={0.89}, mae={1.33}, rmse={2.65},r2={0.90}, {142}\n",
      "            naive: acc={0.66}, mae={1.74}, rmse={3.75},r2={0.79}\n",
      "2018 pit RankNet-Oracle 0.887323943661347 1.3255755122691626 0.10361134434182291 0.09418231924619828\n"
     ]
    },
    {
     "name": "stderr",
     "output_type": "stream",
     "text": [
      "/scratch_ssd/hpda/anaconda3/envs/gluonts/lib/python3.6/site-packages/ipykernel_launcher.py:32: RuntimeWarning: Mean of empty slice\n",
      "/scratch_ssd/hpda/anaconda3/envs/gluonts/lib/python3.6/site-packages/ipykernel_launcher.py:6: RuntimeWarning: invalid value encountered in less_equal\n",
      "  \n"
     ]
    }
   ],
   "source": [
    "oracle_split_result = {}\n",
    "for laptype in ['normal','pit']:\n",
    "    \n",
    "    plen = 2\n",
    "    \n",
    "    retdata = []\n",
    "    for year in ['2018']:\n",
    "        \n",
    "        # select the set\n",
    "        pitcoveredlaps = pitdata[year][1]\n",
    "        normallaps = set([x for x in range(1,201)]) - pitcoveredlaps\n",
    "        \n",
    "        if laptype == 'normal':\n",
    "            sellaps = normallaps\n",
    "            clearlaps = pitcoveredlaps\n",
    "        else:\n",
    "            sellaps = pitcoveredlaps\n",
    "            clearlaps = normallaps\n",
    "        \n",
    "        \n",
    "        # pitcoveredlaps start idx = 1\n",
    "        startlaps = [x-plen-1 for x in sellaps]\n",
    "        #sellapidx = np.array([x-1 for x in sellaps])\n",
    "        clearidx = np.array([x-1 for x in clearlaps])\n",
    "        \n",
    "        #oracle\n",
    "        outfile=f'shortterm-dfout-ranknet-indy500-rank-inlap-nopitage-20182019-oracle-l10-alldata-weighted.pickle'\n",
    "        _all = load_dfout_all(outfile)[0]\n",
    "        ranknetdf, acc, ret, pret = _all[0],_all[1],_all[2],_all[3]\n",
    "\n",
    "        dfout = do_rerank(ranknetdf[year]['oracle_mean'])\n",
    "\n",
    "        allsamples, alltss = get_allsamples(year=year, model='oracle')\n",
    "\n",
    "        allsamples, alltss = clear_samples(allsamples, alltss,clearidx)\n",
    "        _, prisk_vals = prisk_direct_bysamples(allsamples, alltss)\n",
    "\n",
    "        dfout = dfout[dfout['startlap'].isin(startlaps)]\n",
    "        accret = stint.get_evalret_shortterm(dfout)[0]\n",
    "\n",
    "        print(year, laptype,'RankNet-Oracle',accret[0], accret[1], prisk_vals[1], prisk_vals[2])\n",
    "        retdata.append([year, 'RankNet-Oracle',accret[0], accret[1], prisk_vals[1], prisk_vals[2]])\n",
    "        \n",
    "    oracle_split_result[laptype] = pd.DataFrame(data=retdata, columns=cols)"
   ]
  },
  {
   "cell_type": "code",
   "execution_count": 75,
   "metadata": {},
   "outputs": [
    {
     "data": {
      "text/plain": [
       "{'normal':    Year           Model   SignAcc       MAE   50-Risk   90-Risk\n",
       " 0  2018  RankNet-Oracle  0.891304  0.383562  0.031835  0.027616,\n",
       " 'pit':    Year           Model   SignAcc       MAE   50-Risk   90-Risk\n",
       " 0  2018  RankNet-Oracle  0.887324  1.325576  0.103611  0.094182}"
      ]
     },
     "execution_count": 75,
     "metadata": {},
     "output_type": "execute_result"
    }
   ],
   "source": [
    "oracle_split_result"
   ]
  },
  {
   "cell_type": "code",
   "execution_count": 76,
   "metadata": {},
   "outputs": [
    {
     "data": {
      "text/html": [
       "<div>\n",
       "<style scoped>\n",
       "    .dataframe tbody tr th:only-of-type {\n",
       "        vertical-align: middle;\n",
       "    }\n",
       "\n",
       "    .dataframe tbody tr th {\n",
       "        vertical-align: top;\n",
       "    }\n",
       "\n",
       "    .dataframe thead th {\n",
       "        text-align: right;\n",
       "    }\n",
       "</style>\n",
       "<table border=\"1\" class=\"dataframe\">\n",
       "  <thead>\n",
       "    <tr style=\"text-align: right;\">\n",
       "      <th></th>\n",
       "      <th>Year</th>\n",
       "      <th>Model</th>\n",
       "      <th>SignAcc</th>\n",
       "      <th>MAE</th>\n",
       "      <th>50-Risk</th>\n",
       "      <th>90-Risk</th>\n",
       "      <th>laptype</th>\n",
       "    </tr>\n",
       "  </thead>\n",
       "  <tbody>\n",
       "    <tr>\n",
       "      <th>0</th>\n",
       "      <td>2018</td>\n",
       "      <td>RankNet-Oracle</td>\n",
       "      <td>0.891304</td>\n",
       "      <td>0.383562</td>\n",
       "      <td>0.031835</td>\n",
       "      <td>0.027616</td>\n",
       "      <td>normal</td>\n",
       "    </tr>\n",
       "    <tr>\n",
       "      <th>0</th>\n",
       "      <td>2018</td>\n",
       "      <td>RankNet-Oracle</td>\n",
       "      <td>0.887324</td>\n",
       "      <td>1.325576</td>\n",
       "      <td>0.103611</td>\n",
       "      <td>0.094182</td>\n",
       "      <td>pit</td>\n",
       "    </tr>\n",
       "  </tbody>\n",
       "</table>\n",
       "</div>"
      ],
      "text/plain": [
       "   Year           Model   SignAcc       MAE   50-Risk   90-Risk laptype\n",
       "0  2018  RankNet-Oracle  0.891304  0.383562  0.031835  0.027616  normal\n",
       "0  2018  RankNet-Oracle  0.887324  1.325576  0.103611  0.094182     pit"
      ]
     },
     "execution_count": 76,
     "metadata": {},
     "output_type": "execute_result"
    }
   ],
   "source": [
    "dfs = []\n",
    "for laptype in ['normal','pit']:\n",
    "    df = oracle_split_result[laptype]\n",
    "    df['laptype'] = laptype\n",
    "    \n",
    "    dfs.append(df)\n",
    "    \n",
    "alldf = pd.concat(dfs)\n",
    "alldf"
   ]
  },
  {
   "cell_type": "code",
   "execution_count": null,
   "metadata": {},
   "outputs": [],
   "source": []
  }
 ],
 "metadata": {
  "kernelspec": {
   "display_name": "Python 3",
   "language": "python",
   "name": "python3"
  },
  "language_info": {
   "codemirror_mode": {
    "name": "ipython",
    "version": 3
   },
   "file_extension": ".py",
   "mimetype": "text/x-python",
   "name": "python",
   "nbconvert_exporter": "python",
   "pygments_lexer": "ipython3",
   "version": "3.6.10"
  }
 },
 "nbformat": 4,
 "nbformat_minor": 4
}
