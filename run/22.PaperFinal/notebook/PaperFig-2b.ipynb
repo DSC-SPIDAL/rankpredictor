{
 "cells": [
  {
   "cell_type": "markdown",
   "metadata": {},
   "source": [
    "### Fig 2b\n"
   ]
  },
  {
   "cell_type": "code",
   "execution_count": 1,
   "metadata": {},
   "outputs": [],
   "source": [
    "%load_ext autoreload\n",
    "%autoreload 2\n",
    "%matplotlib inline\n",
    "import pandas as pd\n",
    "import numpy as np\n",
    "import matplotlib.pyplot as plt\n",
    "import os,sys\n",
    "import random\n",
    "import pickle\n",
    "import json\n",
    "from pandas.plotting import register_matplotlib_converters\n",
    "register_matplotlib_converters()"
   ]
  },
  {
   "cell_type": "markdown",
   "metadata": {},
   "source": [
    "## Load Data"
   ]
  },
  {
   "cell_type": "code",
   "execution_count": 8,
   "metadata": {},
   "outputs": [],
   "source": [
    "def drawacar(test_event, carno=12):\n",
    "    alldata, rankdata, acldata, flagdata = stagedata[test_event]\n",
    "    \n",
    "    #maxlap = get_event_info(test_event)[0]\n",
    "    print('carno:', set(list(rankdata['car_number'].values)))\n",
    "    print('laps:', set(list(rankdata['completed_laps'].values)))\n",
    "    \n",
    "    \n",
    "    maxlap = max(list(rankdata['completed_laps'].values))\n",
    "    \n",
    "    a = rankdata[rankdata['completed_laps']>=maxlap-1]\n",
    "    print(set(list(a['car_number'].values)))\n",
    "    \n",
    "    df12 = rankdata[rankdata['car_number']==carno]\n",
    "\n",
    "    data = df12[['completed_laps','rank','last_laptime','time_behind_leader']].values\n",
    "    pitstop = df12[['lap_status']].values\n",
    "    caution = df12[['track_status']].values\n",
    "    pitstop = np.array([1 if x=='P' else 0 for x in pitstop])\n",
    "    caution = np.array([1 if x=='Y' else 0 for x in caution])\n",
    "    pitidx = np.where(pitstop == 1)\n",
    "    pits = data[pitidx]\n",
    "    yidx = np.where(caution == 1)\n",
    "    cautions = data[yidx]\n",
    "    \n",
    "\n",
    "    data = data[1:,:]\n",
    "    \n",
    "    #red = '#ff8080'\n",
    "    red = 'red'\n",
    "    #yellow = '#8080ff'\n",
    "    yellow = 'yellow'\n",
    "    #green = '#80ff80'\n",
    "    green = 'green'\n",
    "    \n",
    "    \n",
    "    print('maxlap:', maxlap)\n",
    "    def add_status(axs,y=-1, height=1):\n",
    "        for lap in range(maxlap):\n",
    "            fc = green\n",
    "            if caution[lap] == 1:\n",
    "                fc = yellow\n",
    "            if pitstop[lap] == 1:\n",
    "                fc = red\n",
    "            ec = fc\n",
    "            rectangle = plt.Rectangle((lap,y), 1, height, fc=fc,ec=ec)\n",
    "            #plt.gca().add_patch(rectangle)\n",
    "            axs.add_patch(rectangle)\n",
    "\n",
    "    lw=2\n",
    "\n",
    "    fig, axs = plt.subplots(2, 1, figsize=(10, 4))\n",
    "    axs[0].plot(data[:,0],data[:,1],'.-', linewidth=lw)\n",
    "    #axs[0].plot(cautions[:,0],cautions[:,1],'.',color='y', label='CautionLap', linewidth=2)\n",
    "    axs[0].plot(pits[:,0],pits[:,1],'^',color='r', label='PitStop', linewidth=lw)\n",
    "    add_status(axs[0])\n",
    "    axs[0].set_ylim((-1,19))\n",
    "    axs[0].set_ylabel('Rank')\n",
    "\n",
    "    axs[1].plot(data[:,0],data[:,2],'.-', linewidth=lw)\n",
    "    #axs[1].plot(cautions[:,0],cautions[:,2],'.',color='y', label='CautionLap', linewidth=2)\n",
    "    axs[1].plot(pits[:,0],pits[:,2],'^',color='r', label='PitStop', linewidth=lw)\n",
    "    add_status(axs[1],13,4)\n",
    "    axs[1].set_ylim((13,120))    \n",
    "\n",
    "    axs[1].set_ylabel('LapTime(s)')\n",
    "    axs[1].set_xlabel('Lap')\n",
    "\n",
    "    axs[1].plot([0],[0],'s',color=green, label='NoramlLap', linewidth=lw)\n",
    "    axs[1].plot([0],[0],'s',color=yellow, label='CautionLap', linewidth=lw)\n",
    "    plt.legend(prop={'size': 10})    \n",
    "    \n",
    "    plt.tight_layout()\n",
    "    plt.savefig('Fig2b-%s-car%d.pdf'%(test_event, carno))"
   ]
  },
  {
   "cell_type": "code",
   "execution_count": 9,
   "metadata": {},
   "outputs": [],
   "source": [
    "def loaddata(datafile):\n",
    "    with open(datafile, 'rb') as f:\n",
    "        alldata = pickle.load(f, encoding='latin1') \n",
    "        return alldata\n",
    "    \n"
   ]
  },
  {
   "cell_type": "code",
   "execution_count": 10,
   "metadata": {},
   "outputs": [
    {
     "name": "stdout",
     "output_type": "stream",
     "text": [
      "carno: {1, 3, 4, 6, 7, 9, 10, 12, 13, 14, 15, 17, 18, 19, 20, 21, 22, 23, 24, 25, 26, 27, 28, 29, 30, 32, 33, 59, 60, 64, 66, 88, 98}\n",
      "laps: {0, 1, 2, 3, 4, 5, 6, 7, 8, 9, 10, 11, 12, 13, 14, 15, 16, 17, 18, 19, 20, 21, 22, 23, 24, 25, 26, 27, 28, 29, 30, 31, 32, 33, 34, 35, 36, 37, 38, 39, 40, 41, 42, 43, 44, 45, 46, 47, 48, 49, 50, 51, 52, 53, 54, 55, 56, 57, 58, 59, 60, 61, 62, 63, 64, 65, 66, 67, 68, 69, 70, 71, 72, 73, 74, 75, 76, 77, 78, 79, 80, 81, 82, 83, 84, 85, 86, 87, 88, 89, 90, 91, 92, 93, 94, 95, 96, 97, 98, 99, 100, 101, 102, 103, 104, 105, 106, 107, 108, 109, 110, 111, 112, 113, 114, 115, 116, 117, 118, 119, 120, 121, 122, 123, 124, 125, 126, 127, 128, 129, 130, 131, 132, 133, 134, 135, 136, 137, 138, 139, 140, 141, 142, 143, 144, 145, 146, 147, 148, 149, 150, 151, 152, 153, 154, 155, 156, 157, 158, 159, 160, 161, 162, 163, 164, 165, 166, 167, 168, 169, 170, 171, 172, 173, 174, 175, 176, 177, 178, 179, 180, 181, 182, 183, 184, 185, 186, 187, 188, 189, 190, 191, 192, 193, 194, 195, 196, 197, 198, 199, 200}\n",
      "{1, 4, 6, 9, 12, 15, 17, 19, 20, 21, 22, 23, 25, 27, 28, 29, 60, 64, 66, 88, 98}\n",
      "maxlap: 200\n"
     ]
    },
    {
     "data": {
      "image/png": "[encoded data removed]",
      "text/plain": [
       "<Figure size 720x288 with 2 Axes>"
      ]
     },
     "metadata": {
      "needs_background": "light"
     },
     "output_type": "display_data"
    }
   ],
   "source": [
    "#data, pits, caution, pitstop = loaddata('Fig2-b.pickle')\n",
    "STAGE_DATASET = 'stagedata-IndyCar_d16_v9_p0.pickle'\n",
    "\n",
    "with open(STAGE_DATASET, 'rb') as f:\n",
    "    stagedata = pickle.load(f, encoding='latin1') \n",
    "    \n",
    "drawacar('Indy500-2018', carno=12)"
   ]
  },
  {
   "cell_type": "code",
   "execution_count": null,
   "metadata": {},
   "outputs": [],
   "source": [
    "#drawacar('Texas-2018', carno=5)"
   ]
  },
  {
   "cell_type": "code",
   "execution_count": null,
   "metadata": {},
   "outputs": [],
   "source": [
    "#drawacar('Pocono-2018', carno=1)"
   ]
  },
  {
   "cell_type": "code",
   "execution_count": null,
   "metadata": {},
   "outputs": [],
   "source": [
    "#drawacar('Gateway-2018', carno=1)"
   ]
  },
  {
   "cell_type": "code",
   "execution_count": null,
   "metadata": {},
   "outputs": [],
   "source": [
    "#drawacar('Phoenix-2018', carno=1)"
   ]
  },
  {
   "cell_type": "code",
   "execution_count": null,
   "metadata": {},
   "outputs": [],
   "source": [
    "#drawacar('Texas-2019', carno=2)"
   ]
  },
  {
   "cell_type": "code",
   "execution_count": null,
   "metadata": {},
   "outputs": [],
   "source": [
    "#drawacar('Indy500-2019', carno=12)"
   ]
  }
 ],
 "metadata": {
  "kernelspec": {
   "display_name": "Python 3",
   "language": "python",
   "name": "python3"
  },
  "language_info": {
   "codemirror_mode": {
    "name": "ipython",
    "version": 3
   },
   "file_extension": ".py",
   "mimetype": "text/x-python",
   "name": "python",
   "nbconvert_exporter": "python",
   "pygments_lexer": "ipython3",
   "version": "3.6.10"
  }
 },
 "nbformat": 4,
 "nbformat_minor": 2
}
