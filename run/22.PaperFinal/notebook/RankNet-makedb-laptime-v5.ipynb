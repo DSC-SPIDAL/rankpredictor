{
 "cells": [
  {
   "cell_type": "markdown",
   "metadata": {},
   "source": [
    "### RankNet-makedb-laptime\n",
    "\n",
    "build laptime dataset from raw log files\n",
    "\n",
    "base: 18./laptime_rank_timediff_dataset\n",
    "\n",
    "create laptime dataset only, no gluonts.\n",
    "\n",
    "+ add lap2nextpit as target, this is as the same as a stacked lstm model when set prediction_length=1\n",
    "+ add lap_instint to dynamic features(pitage)\n",
    "+ add support for historical data, indy500 for different years\n",
    "+ add track and lap status as target, preparing for StatusModel with deepAR\n",
    "\n",
    "this notebook focuses on create the training set, while laptime2rank-evaluate will have testset codes specified for rank calculation\n",
    "\n",
    "+ add new features, caution_laps_instint,lap_instint\n",
    "\n",
    "Build a time series dataset across all the oval races, including laptime, rank. When this dataset aims to be used in forecasting, covariates of the racing status can not be included, such as track_status and lap_status. However, they can be used in oracle test to tell the upper bound of performance of the predictor.\n",
    "\n",
    "Change to a new dataset format that following telemetry dataset.\n",
    "\n",
    "raw:\n",
    "+  [(eventid, carids: carno -> rowid, datalist)]\n",
    "\n",
    "datalist := [datalist_entry] in shape of #car_number\n",
    "\n",
    "datalist_entry := [[laptime, rank, track_status, lap_status]], in shape of #totallaps x #featureCnt (padded by nan)"
   ]
  },
  {
   "cell_type": "code",
   "execution_count": 9,
   "metadata": {},
   "outputs": [
    {
     "name": "stdout",
     "output_type": "stream",
     "text": [
      "The autoreload extension is already loaded. To reload it, use:\n",
      "  %reload_ext autoreload\n"
     ]
    }
   ],
   "source": [
    "%load_ext autoreload\n",
    "%autoreload 2\n",
    "%matplotlib inline\n",
    "import pandas as pd\n",
    "import numpy as np\n",
    "import matplotlib.pyplot as plt\n",
    "import os,sys\n",
    "import random\n",
    "import mxnet as mx\n",
    "from mxnet import gluon\n",
    "import pickle\n",
    "import json\n",
    "from gluonts.dataset.common import ListDataset\n",
    "from gluonts.dataset.util import to_pandas\n",
    "from pandas.plotting import register_matplotlib_converters\n",
    "\n",
    "import indycar.model.global_variables as gvar\n",
    "from indycar.model.quicktest_modules import *\n",
    "\n",
    "register_matplotlib_converters()"
   ]
  },
  {
   "cell_type": "markdown",
   "metadata": {},
   "source": [
    "## Load Data"
   ]
  },
  {
   "cell_type": "code",
   "execution_count": 10,
   "metadata": {},
   "outputs": [],
   "source": [
    "outputRoot = 'test/'\n",
    "stagedata = {}\n",
    "global_carids = {}\n",
    "traindata = None\n",
    "cur_carid = 0\n",
    "\n",
    "#inlap status = \n",
    "# 0 , no inlap\n",
    "# 1 , set previous lap\n",
    "# 2 , set the next lap\n",
    "_inlap_status = 0\n",
    "_featureCnt = 9\n",
    "#\n",
    "# input data parameters\n",
    "#\n",
    "#events = ['Phoenix','Indy500','Texas','Iowa','Pocono','Gateway']\n",
    "#events_totalmiles=[256,500,372,268,500,310]\n",
    "#events_laplen = [1.022,2.5,1.5,0.894,2.5,1.25]\n",
    "events_info = {\n",
    "    'Phoenix':(256, 1.022),'Indy500':(500,2.5),'Texas':(372,1.5),\n",
    "    'Iowa':(268,0.894),'Pocono':(500,2.5),'Gateway':(310,1.25)\n",
    "}\n",
    "\n",
    "years = ['2013','2014','2015','2016','2017','2018','2019']\n",
    "events = [f'Indy500-{x}' for x in years]\n",
    "\n",
    "events.extend(['Phoenix-2018','Texas-2018','Texas-2019','Pocono-2018','Pocono-2019','Iowa-2018','Iowa-2019',\n",
    "              'Gateway-2018','Gateway-2019'])\n",
    "\n",
    "events_id={key:idx for idx, key in enumerate(events)}\n",
    "\n",
    "#version = f'IndyCar-d{len(events)}'\n",
    "\n",
    "#dbid = f'Indy500_{years[0]}_{years[-1]}_v{_featureCnt}_p{_inlap_status}'\n",
    "dbid = f'IndyCar_d{len(events)}_v{_featureCnt}_p{_inlap_status}'\n",
    "\n",
    "LAPTIME_DATASET = f'{outputRoot}/laptime_rank_timediff_pit-oracle-{dbid}.pickle' \n",
    "STAGE_DATASET = f'{outputRoot}/stagedata-{dbid}.pickle' \n",
    "\n",
    "_test_event = 'Phoenix-2018'"
   ]
  },
  {
   "cell_type": "code",
   "execution_count": 11,
   "metadata": {},
   "outputs": [],
   "source": [
    "gvar.events = events\n",
    "gvar.events_id  = events_id\n",
    "gvar.events_info = events_info\n",
    "\n",
    "\n",
    "gvar.maxlap = get_event_info(_test_event)[0]\n",
    "gvar.dbid = dbid\n",
    "gvar.LAPTIME_DATASET = LAPTIME_DATASET"
   ]
  },
  {
   "cell_type": "code",
   "execution_count": 12,
   "metadata": {},
   "outputs": [
    {
     "name": "stdout",
     "output_type": "stream",
     "text": [
      "count of completed cars: 19\n",
      "completed cars: [11 26  1 25 19  3  2 77 83 20 22  8 14  9 18 55 78  5 12]\n",
      "cars: {1, 2, 3, 5, 8, 9, 11, 12, 77, 14, 78, 18, 19, 20, 83, 22, 55, 25, 26}\n",
      "#cars= 19\n",
      "count of completed cars: 19\n",
      "completed cars: [11 26  1 25 19  3  2 77 83 20 22  8 14  9 18 55 78  5 12]\n",
      "cars: {1, 2, 3, 4, 5, 6, 7, 8, 9, 10, 11, 12, 14, 15, 16, 18, 19, 20, 21, 22, 25, 26, 27, 41, 55, 60, 63, 77, 78, 81, 83, 91, 98}\n",
      "#cars= 33\n",
      "Indy500-2013: carno=33, lapnum=201\n",
      "count of completed cars: 20\n",
      "completed cars: [28  3 25 34  2 26 11 12 22 21 16 77 68  5 17 33 18  8 14 98]\n",
      "cars: {33, 2, 3, 34, 5, 68, 98, 8, 11, 12, 77, 14, 16, 17, 18, 21, 22, 25, 26, 28}\n",
      "#cars= 20\n",
      "count of completed cars: 20\n",
      "completed cars: [28  3 25 34  2 26 11 12 22 21 16 77 68  5 17 33 18  8 14 98]\n",
      "cars: {2, 3, 5, 6, 7, 8, 9, 10, 11, 12, 14, 15, 16, 17, 18, 19, 20, 21, 22, 25, 26, 27, 28, 33, 34, 41, 63, 67, 68, 77, 83, 91, 98}\n",
      "#cars= 33\n",
      "Indy500-2014: carno=33, lapnum=201\n",
      "count of completed cars: 20\n",
      "completed cars: [ 2  1 83  9 15 27  3  6 21 22 11  5 14 24 28 98 48  7 29 26]\n",
      "cars: {1, 2, 3, 98, 5, 6, 7, 9, 11, 14, 15, 48, 83, 21, 22, 24, 26, 27, 28, 29}\n",
      "#cars= 20\n",
      "count of completed cars: 20\n",
      "completed cars: [ 2  1 83  9 15 27  3  6 21 22 11  5 14 24 28 98 48  7 29 26]\n",
      "cars: {1, 2, 3, 4, 5, 6, 7, 8, 9, 10, 11, 14, 15, 17, 18, 19, 20, 21, 22, 24, 25, 26, 27, 28, 29, 32, 41, 43, 48, 63, 83, 88, 98}\n",
      "#cars= 33\n",
      "Indy500-2015: carno=33, lapnum=201\n",
      "count of completed cars: 17\n",
      "completed cars: [98 26 21 10 42  6  5  9 11 12  3 77 27 15  8 41 35]\n",
      "cars: {98, 3, 35, 5, 6, 8, 9, 10, 11, 12, 41, 42, 15, 77, 21, 26, 27}\n",
      "#cars= 17\n",
      "count of completed cars: 17\n",
      "completed cars: [98 26 21 10 42  6  5  9 11 12  3 77 27 15  8 41 35]\n",
      "cars: {2, 3, 4, 5, 6, 7, 8, 9, 10, 11, 12, 14, 15, 16, 18, 19, 20, 21, 22, 24, 25, 26, 27, 28, 29, 35, 41, 42, 61, 63, 77, 88, 98}\n",
      "#cars= 33\n",
      "Indy500-2016: carno=33, lapnum=201\n",
      "count of completed cars: 16\n",
      "completed cars: [26  3 19  8 10 22 98 27 88 14 20 15  7  1 17 21]\n",
      "cars: {1, 98, 3, 7, 8, 10, 14, 15, 17, 19, 20, 21, 22, 88, 26, 27}\n",
      "#cars= 16\n",
      "count of completed cars: 16\n",
      "completed cars: [26  3 19  8 10 22 98 27 88 14 20 15  7  1 17 21]\n",
      "cars: {1, 2, 3, 4, 5, 7, 8, 9, 10, 11, 12, 14, 15, 16, 17, 18, 19, 20, 21, 22, 24, 26, 27, 28, 29, 40, 44, 50, 63, 77, 83, 88, 98}\n",
      "#cars= 33\n",
      "Indy500-2017: carno=33, lapnum=201\n",
      "count of completed cars: 18\n",
      "completed cars: [12 20  9 27 28 22 29  1  6 15 66 98  4 88 25 60 64 23]\n",
      "cars: {64, 1, 66, 98, 4, 6, 9, 12, 60, 15, 20, 22, 23, 88, 25, 27, 28, 29}\n",
      "#cars= 18\n",
      "count of completed cars: 18\n",
      "completed cars: [12 20  9 27 28 22 29  1  6 15 66 98  4 88 25 60 64 23]\n",
      "cars: {1, 3, 4, 6, 7, 9, 10, 12, 13, 14, 15, 17, 18, 19, 20, 21, 22, 23, 24, 25, 26, 27, 28, 29, 30, 32, 33, 59, 60, 64, 66, 88, 98}\n",
      "#cars= 33\n",
      "Indy500-2018: carno=33, lapnum=201\n",
      "count of completed cars: 17\n",
      "completed cars: [22 27 30  2 12 20 19 28 14 25  5 33 63 21  4 39  9]\n",
      "cars: {33, 2, 4, 5, 39, 9, 12, 14, 19, 20, 21, 22, 25, 27, 28, 30, 63}\n",
      "#cars= 17\n",
      "count of completed cars: 17\n",
      "completed cars: [22 27 30  2 12 20 19 28 14 25  5 33 63 21  4 39  9]\n",
      "cars: {2, 3, 4, 5, 7, 9, 10, 12, 14, 15, 18, 19, 20, 21, 22, 23, 24, 25, 26, 27, 28, 30, 32, 33, 39, 42, 48, 60, 63, 77, 81, 88, 98}\n",
      "#cars= 33\n",
      "Indy500-2019: carno=33, lapnum=201\n",
      "count of completed cars: 11\n",
      "completed cars: [ 1  6 27  9 28  5 20 14 15 22 30]\n",
      "cars: {1, 5, 6, 9, 14, 15, 20, 22, 27, 28, 30}\n",
      "#cars= 11\n",
      "count of completed cars: 11\n",
      "completed cars: [ 1  6 27  9 28  5 20 14 15 22 30]\n",
      "cars: {1, 4, 5, 6, 9, 10, 12, 14, 15, 18, 19, 20, 21, 22, 23, 26, 27, 28, 30, 32, 59, 88, 98}\n",
      "#cars= 23\n",
      "Phoenix-2018: carno=23, lapnum=251\n",
      "count of completed cars: 9\n",
      "completed cars: [ 9 22 27  5 28 15 30 18 10]\n",
      "cars: {5, 9, 10, 15, 18, 22, 27, 28, 30}\n",
      "#cars= 9\n",
      "count of completed cars: 9\n",
      "completed cars: [ 9 22 27  5 28 15 30 18 10]\n",
      "cars: {1, 4, 5, 6, 9, 10, 12, 14, 15, 18, 19, 20, 21, 22, 23, 26, 27, 28, 30, 59, 88, 98}\n",
      "#cars= 22\n",
      "Texas-2018: carno=22, lapnum=249\n",
      "count of completed cars: 8\n",
      "completed cars: [ 2 27 15 19 28 22  7 18]\n",
      "cars: {2, 7, 15, 18, 19, 22, 27, 28}\n",
      "#cars= 8\n",
      "count of completed cars: 8\n",
      "completed cars: [ 2 27 15 19 28 22  7 18]\n",
      "cars: {2, 4, 5, 7, 9, 10, 12, 14, 15, 18, 19, 20, 21, 22, 23, 26, 27, 28, 30, 59, 88, 98}\n",
      "#cars= 22\n",
      "Texas-2019: carno=22, lapnum=249\n",
      "count of completed cars: 4\n",
      "completed cars: [27 12  9 18]\n",
      "cars: {9, 18, 27, 12}\n",
      "#cars= 4\n",
      "count of completed cars: 4\n",
      "completed cars: [27 12  9 18]\n",
      "cars: {1, 4, 5, 6, 9, 10, 12, 14, 15, 18, 19, 20, 21, 22, 23, 26, 27, 28, 30, 59, 88, 98}\n",
      "#cars= 22\n",
      "Pocono-2018: carno=22, lapnum=201\n",
      "count of completed cars: 616\n",
      "completed cars: [12  9 22 19  2 20 18 14 15 23 59  7 12 19  2 22  9 12 15 18 19 20  7 14\n",
      " 23 59  2 22  9 12 15 18 19 20  7 14 23 59  2 22  9 12 15 18 19 20  7 14\n",
      " 23 59  2 22  9 12 15 18 19 20  7 14 23 59  2 22  9 12 15 18 19 20  7 14\n",
      " 23 59  2 22  9 12 15 18 19 20  7 14 23 59  2 22  9 12 15 18 19 20  7 14\n",
      " 23 59  2 22  9 12 15 18 19 20  7 14 23 59  2 22  9 12 15 18 19 20  7 14\n",
      " 23 59  2 22  9 12 15 18 19 20  7 14 23 59  2 22  9 12 15 18 19 20  7 14\n",
      " 23 59  2 22  9 12 15 18 19 20  7 14 23 59  2 22  9 12 15 18 19 20  7 14\n",
      " 23 59  2 22  9 12 15 18 19 20  7 14 23 59  2 22  9 12 15 18 19 20  7 14\n",
      " 23 59  2 22  9 12 15 18 19 20  7 14 23 59  2 22  9 12 15 18 19 20  7 14\n",
      " 23 59  2 22  9 12 15 18 19 20  7 14 23 59  2 22  9 12 15 18 19 20  7 14\n",
      " 23 59  2 22  9 12 15 18 19 20  7 14 23 59  2 22  9 12 15 18 19 20  7 14\n",
      " 59  2 22  9 12 18 19 20 23 15 14  2 22  9 12 19  7 18 20 14  2 22  9 12\n",
      " 19 59  7 23 22  9 12 19 59 15  7 14 23 12 18 59 15  7 14 20 23  2 18 59\n",
      " 19 15  7 22 20  9 12 23  2 59 19 15  7 14 22 23 18  9 12 59 15  7 14 20\n",
      " 23 18 12  2 59 19 15  7 14 22  9 20 23 18  2 59 19 15  7 14 22 20 23 18\n",
      "  9 12  2 59 19 15  7 14 22 20 23 18  9 12  2 59 19 15  7 14 22 20 23 18\n",
      "  9 12  2 59 19 15  7 14 22 20 23 18  9 12  2 59 19 15  7 14 22 20 23 18\n",
      "  9 12  2 59 19 15  7 14 22 20 23 18  9 12  2 59 19 15  7 14 22 20 23 18\n",
      "  9 12  2 59 19 15  7 14 22 20 23 18  9 12  2 59 19 15  7 14 22 20 23 18\n",
      "  9 12  2 59 19 15  7 14 22 20 23 18  9 12  2 59 19 15  7 14 22 20 23 18\n",
      "  9 12  2 59 19 15  7 14 22 20 23 18  9 12  2 59 19 15  7 14 22 20 23 18\n",
      "  9 12  2 59 19 15  7 14 22 20 23 18  9 12  2 59 19 15  7 14 22 20 23 18\n",
      "  9 12  2 59 19 15  7 14 22 20 23 18  9 12  2 59 19 15  7 14 22 20 23 18\n",
      "  9 12  2 59 19 15  7 14 22 20 23 18  9 12  2 59 19 15  7 14 22 20 23 18\n",
      "  9 12  2 59 19 15  7 14 22 20 23 18  9 12  2 59 19 15  7 14 22 20 23 18\n",
      "  9 12  2 59 19 15  7 14 22 20 23 18  9 12  2 59]\n",
      "cars: {2, 7, 9, 12, 14, 15, 18, 19, 20, 22, 23, 59}\n",
      "#cars= 12\n",
      "count of completed cars: 616\n",
      "completed cars: [12  9 22 19  2 20 18 14 15 23 59  7 12 19  2 22  9 12 15 18 19 20  7 14\n",
      " 23 59  2 22  9 12 15 18 19 20  7 14 23 59  2 22  9 12 15 18 19 20  7 14\n",
      " 23 59  2 22  9 12 15 18 19 20  7 14 23 59  2 22  9 12 15 18 19 20  7 14\n",
      " 23 59  2 22  9 12 15 18 19 20  7 14 23 59  2 22  9 12 15 18 19 20  7 14\n",
      " 23 59  2 22  9 12 15 18 19 20  7 14 23 59  2 22  9 12 15 18 19 20  7 14\n",
      " 23 59  2 22  9 12 15 18 19 20  7 14 23 59  2 22  9 12 15 18 19 20  7 14\n",
      " 23 59  2 22  9 12 15 18 19 20  7 14 23 59  2 22  9 12 15 18 19 20  7 14\n",
      " 23 59  2 22  9 12 15 18 19 20  7 14 23 59  2 22  9 12 15 18 19 20  7 14\n",
      " 23 59  2 22  9 12 15 18 19 20  7 14 23 59  2 22  9 12 15 18 19 20  7 14\n",
      " 23 59  2 22  9 12 15 18 19 20  7 14 23 59  2 22  9 12 15 18 19 20  7 14\n",
      " 23 59  2 22  9 12 15 18 19 20  7 14 23 59  2 22  9 12 15 18 19 20  7 14\n",
      " 59  2 22  9 12 18 19 20 23 15 14  2 22  9 12 19  7 18 20 14  2 22  9 12\n",
      " 19 59  7 23 22  9 12 19 59 15  7 14 23 12 18 59 15  7 14 20 23  2 18 59\n",
      " 19 15  7 22 20  9 12 23  2 59 19 15  7 14 22 23 18  9 12 59 15  7 14 20\n",
      " 23 18 12  2 59 19 15  7 14 22  9 20 23 18  2 59 19 15  7 14 22 20 23 18\n",
      "  9 12  2 59 19 15  7 14 22 20 23 18  9 12  2 59 19 15  7 14 22 20 23 18\n",
      "  9 12  2 59 19 15  7 14 22 20 23 18  9 12  2 59 19 15  7 14 22 20 23 18\n",
      "  9 12  2 59 19 15  7 14 22 20 23 18  9 12  2 59 19 15  7 14 22 20 23 18\n",
      "  9 12  2 59 19 15  7 14 22 20 23 18  9 12  2 59 19 15  7 14 22 20 23 18\n",
      "  9 12  2 59 19 15  7 14 22 20 23 18  9 12  2 59 19 15  7 14 22 20 23 18\n",
      "  9 12  2 59 19 15  7 14 22 20 23 18  9 12  2 59 19 15  7 14 22 20 23 18\n",
      "  9 12  2 59 19 15  7 14 22 20 23 18  9 12  2 59 19 15  7 14 22 20 23 18\n",
      "  9 12  2 59 19 15  7 14 22 20 23 18  9 12  2 59 19 15  7 14 22 20 23 18\n",
      "  9 12  2 59 19 15  7 14 22 20 23 18  9 12  2 59 19 15  7 14 22 20 23 18\n",
      "  9 12  2 59 19 15  7 14 22 20 23 18  9 12  2 59 19 15  7 14 22 20 23 18\n",
      "  9 12  2 59 19 15  7 14 22 20 23 18  9 12  2 59]\n",
      "cars: {2, 4, 5, 7, 9, 10, 12, 14, 15, 18, 19, 20, 21, 22, 23, 26, 27, 28, 30, 59, 88, 98}\n",
      "#cars= 22\n",
      "Pocono-2019: carno=22, lapnum=129\n",
      "count of completed cars: 5\n",
      "completed cars: [ 5 21 30  1  6]\n",
      "cars: {1, 5, 6, 21, 30}\n",
      "#cars= 5\n",
      "count of completed cars: 5\n",
      "completed cars: [ 5 21 30  1  6]\n",
      "cars: {1, 4, 5, 6, 9, 10, 12, 14, 15, 18, 19, 20, 21, 22, 23, 26, 27, 28, 30, 59, 88, 98}\n",
      "#cars= 22\n"
     ]
    },
    {
     "name": "stdout",
     "output_type": "stream",
     "text": [
      "Iowa-2018: carno=22, lapnum=301\n",
      "count of completed cars: 7\n",
      "completed cars: [ 2  9  5 22 21 27 26]\n",
      "cars: {2, 5, 9, 21, 22, 26, 27}\n",
      "#cars= 7\n",
      "count of completed cars: 7\n",
      "completed cars: [ 2  9  5 22 21 27 26]\n",
      "cars: {2, 4, 5, 7, 9, 10, 12, 14, 15, 18, 19, 20, 21, 22, 26, 27, 28, 30, 31, 59, 88, 98}\n",
      "#cars= 22\n",
      "Iowa-2019: carno=22, lapnum=301\n",
      "count of completed cars: 8\n",
      "completed cars: [12 27  9 22 26 21  1 10]\n",
      "cars: {1, 9, 10, 12, 21, 22, 26, 27}\n",
      "#cars= 8\n",
      "count of completed cars: 8\n",
      "completed cars: [12 27  9 22 26 21  1 10]\n",
      "cars: {1, 4, 5, 9, 10, 12, 14, 15, 18, 19, 20, 21, 22, 23, 26, 27, 28, 30, 59, 88, 98}\n",
      "#cars= 21\n",
      "Gateway-2018: carno=21, lapnum=249\n",
      "count of completed cars: 11\n",
      "completed cars: [30 20 14 19 22 59  2 28 88 98 10]\n",
      "cars: {2, 98, 10, 14, 19, 20, 22, 88, 59, 28, 30}\n",
      "#cars= 11\n",
      "count of completed cars: 11\n",
      "completed cars: [30 20 14 19 22 59  2 28 88 98 10]\n",
      "cars: {2, 4, 5, 7, 9, 10, 12, 14, 15, 18, 19, 20, 21, 22, 23, 26, 27, 28, 30, 59, 88, 98}\n",
      "#cars= 22\n",
      "Gateway-2019: carno=22, lapnum=249\n"
     ]
    }
   ],
   "source": [
    "for event in events:\n",
    "    #dataid = f'{event}-{year}'\n",
    "    #alldata, rankdata, acldata, flagdata\n",
    "    stagedata[event] = load_data(event)\n",
    "\n",
    "    alldata, rankdata, acldata, flagdata = stagedata[event]\n",
    "    carlist = set(acldata['car_number'])\n",
    "    laplist = set(acldata['completed_laps'])\n",
    "    print('%s: carno=%d, lapnum=%d'%(event, len(carlist), len(laplist)))\n",
    "\n",
    "    #build the carid map\n",
    "    for car in carlist:\n",
    "        if car not in global_carids:\n",
    "            global_carids[car] = cur_carid\n",
    "            cur_carid += 1\n"
   ]
  },
  {
   "cell_type": "code",
   "execution_count": 13,
   "metadata": {},
   "outputs": [
    {
     "name": "stdout",
     "output_type": "stream",
     "text": [
      "start event: Indy500-2013\n",
      "event=Indy500-2013, records=(33, 9, 200)\n",
      "start event: Indy500-2014\n",
      "event=Indy500-2014, records=(33, 9, 200)\n",
      "start event: Indy500-2015\n",
      "event=Indy500-2015, records=(33, 9, 200)\n",
      "start event: Indy500-2016\n",
      "event=Indy500-2016, records=(33, 9, 200)\n",
      "start event: Indy500-2017\n",
      "event=Indy500-2017, records=(33, 9, 200)\n",
      "start event: Indy500-2018\n",
      "event=Indy500-2018, records=(33, 9, 200)\n",
      "start event: Indy500-2019\n",
      "event=Indy500-2019, records=(33, 9, 200)\n",
      "start event: Phoenix-2018\n",
      "event=Phoenix-2018, records=(23, 9, 250)\n",
      "start event: Texas-2018\n",
      "event=Texas-2018, records=(22, 9, 248)\n",
      "start event: Texas-2019\n",
      "event=Texas-2019, records=(22, 9, 248)\n",
      "start event: Pocono-2018\n",
      "event=Pocono-2018, records=(22, 9, 200)\n",
      "start event: Pocono-2019\n",
      "event=Pocono-2019, records=(22, 9, 128)\n",
      "start event: Iowa-2018\n",
      "event=Iowa-2018, records=(22, 9, 300)\n",
      "start event: Iowa-2019\n",
      "event=Iowa-2019, records=(22, 9, 300)\n",
      "start event: Gateway-2018\n",
      "event=Gateway-2018, records=(21, 9, 248)\n",
      "start event: Gateway-2019\n",
      "event=Gateway-2019, records=(22, 9, 248)\n"
     ]
    }
   ],
   "source": [
    "laptime_data = get_laptime_dataset(stagedata,inlap_status = _inlap_status)"
   ]
  },
  {
   "cell_type": "code",
   "execution_count": 6,
   "metadata": {},
   "outputs": [
    {
     "name": "stdout",
     "output_type": "stream",
     "text": [
      "test//laptime_rank_timediff_pit-oracle-IndyCar_d16_v9_p0.pickle\n"
     ]
    }
   ],
   "source": [
    "import pickle\n",
    "#stintdf.to_csv('laptime-%s.csv'%year)\n",
    "savefile = LAPTIME_DATASET\n",
    "print(savefile)\n",
    "with open(savefile, 'wb') as f:\n",
    "    #pack [global_carids, laptime_data]\n",
    "    savedata = [global_carids, laptime_data]\n",
    "    # Pickle the 'data' dictionary using the highest protocol available.\n",
    "    pickle.dump(savedata, f, pickle.HIGHEST_PROTOCOL)"
   ]
  },
  {
   "cell_type": "code",
   "execution_count": 7,
   "metadata": {},
   "outputs": [
    {
     "name": "stdout",
     "output_type": "stream",
     "text": [
      "test//stagedata-IndyCar_d16_v9_p0.pickle\n"
     ]
    }
   ],
   "source": [
    "savefile = STAGE_DATASET \n",
    "print(savefile)\n",
    "with open(savefile, 'wb') as f:\n",
    "    #pack [global_carids, laptime_data]\n",
    "    savedata = stagedata\n",
    "    # Pickle the 'data' dictionary using the highest protocol available.\n",
    "    pickle.dump(savedata, f, pickle.HIGHEST_PROTOCOL)"
   ]
  },
  {
   "cell_type": "markdown",
   "metadata": {},
   "source": [
    "### test"
   ]
  },
  {
   "cell_type": "code",
   "execution_count": 8,
   "metadata": {},
   "outputs": [
    {
     "ename": "SystemExit",
     "evalue": "0",
     "output_type": "error",
     "traceback": [
      "An exception has occurred, use %tb to see the full traceback.\n",
      "\u001b[0;31mSystemExit\u001b[0m\u001b[0;31m:\u001b[0m 0\n"
     ]
    },
    {
     "name": "stderr",
     "output_type": "stream",
     "text": [
      "/scratch_ssd/hpda/anaconda3/envs/gluonts/lib/python3.6/site-packages/IPython/core/interactiveshell.py:3339: UserWarning: To exit: use 'exit', 'quit', or Ctrl-D.\n",
      "  warn(\"To exit: use 'exit', 'quit', or Ctrl-D.\", stacklevel=1)\n"
     ]
    }
   ],
   "source": [
    "sys.exit(0)"
   ]
  },
  {
   "cell_type": "code",
   "execution_count": null,
   "metadata": {},
   "outputs": [],
   "source": [
    "lapstatusA = laptime_data[-1][2][1,3,:]\n",
    "#lapstatusA = laptime_data[-1][2][0,3,:]\n",
    "lapstatusA"
   ]
  },
  {
   "cell_type": "code",
   "execution_count": null,
   "metadata": {},
   "outputs": [],
   "source": [
    "lap2nextpit = laptime_data[-1][2][1,8,:]\n",
    "#lap2nextpit = laptime_data[-1][2][0,8,:]\n",
    "lap2nextpit"
   ]
  },
  {
   "cell_type": "code",
   "execution_count": null,
   "metadata": {},
   "outputs": [],
   "source": [
    "#with open('laptime_rank_timediff_fulltest-oracle-%s.pickle'%year, 'rb') as f:\n",
    "with open(f'laptime_rank_timediff_pit-oracle-{dbid}.pickle', 'rb') as f:\n",
    "    # The protocol version used is detected automatically, so we do not\n",
    "    # have to specify it.\n",
    "    global_carids, laptime_data = pickle.load(f, encoding='latin1') "
   ]
  },
  {
   "cell_type": "code",
   "execution_count": null,
   "metadata": {},
   "outputs": [],
   "source": []
  },
  {
   "cell_type": "code",
   "execution_count": null,
   "metadata": {},
   "outputs": [],
   "source": [
    "def test_a(a, bitflag):\n",
    "    return (a & bitflag) ==  bitflag\n",
    "\n",
    "test_a(5, 4)\n"
   ]
  },
  {
   "cell_type": "code",
   "execution_count": null,
   "metadata": {},
   "outputs": [],
   "source": [
    "mat = np.random.randint(5, size=(10,2, 5)).astype(np.float)\n",
    "mat[2,1,0] = np.nan\n",
    "_idx = np.array([0,1,2,8])\n",
    "selmat = mat[_idx]\n",
    "selmat[:,1,:]"
   ]
  },
  {
   "cell_type": "code",
   "execution_count": null,
   "metadata": {},
   "outputs": [],
   "source": [
    "mask = np.isnan(selmat[:,1,:])\n",
    "mask"
   ]
  },
  {
   "cell_type": "code",
   "execution_count": null,
   "metadata": {},
   "outputs": [],
   "source": [
    "true_rank.shape"
   ]
  },
  {
   "cell_type": "code",
   "execution_count": null,
   "metadata": {},
   "outputs": [],
   "source": [
    "idx = np.argsort(selmat[:,1,:], axis=0)\n",
    "true_rank = np.argsort(idx, axis=0).astype(np.float)\n",
    "true_rank[mask] = np.nan\n",
    "true_rank"
   ]
  },
  {
   "cell_type": "code",
   "execution_count": null,
   "metadata": {},
   "outputs": [],
   "source": [
    "selmat[:,1,:] = true_rank\n",
    "selmat"
   ]
  },
  {
   "cell_type": "code",
   "execution_count": null,
   "metadata": {},
   "outputs": [],
   "source": [
    "mat[_idx]"
   ]
  },
  {
   "cell_type": "code",
   "execution_count": null,
   "metadata": {},
   "outputs": [],
   "source": [
    "mat[_idx] = selmat"
   ]
  },
  {
   "cell_type": "code",
   "execution_count": null,
   "metadata": {},
   "outputs": [],
   "source": [
    "mat[_idx]"
   ]
  },
  {
   "cell_type": "code",
   "execution_count": null,
   "metadata": {},
   "outputs": [],
   "source": [
    "freq, prediction_length, cardinality = 0,0,0\n",
    "\n",
    "def load_dataset(inputfile):\n",
    "    global freq, prediction_length, cardinality\n",
    "\n",
    "    with open(inputfile, 'rb') as f:\n",
    "        # have to specify it.\n",
    "        freq, prediction_length, cardinality,train_ds, test_ds = pickle.load(f, encoding='latin1')\n",
    "    \n",
    "    print(f\"number of cars: {cardinality}\")\n",
    "    \n",
    "    return train_ds, test_ds\n",
    "\n",
    "train_ds, test_ds = load_dataset('rank-oracle-noip-eid-all-all-f1min-t30-rIndy500-gluonts-indy-2018.pickle')"
   ]
  },
  {
   "cell_type": "code",
   "execution_count": null,
   "metadata": {},
   "outputs": [],
   "source": [
    "ds_iter =  iter(test_ds)\n",
    "rec = next(ds_iter)\n",
    "rec"
   ]
  },
  {
   "cell_type": "code",
   "execution_count": null,
   "metadata": {},
   "outputs": [],
   "source": [
    "def debug_get_ranklist(train_ds):\n",
    "    ds_iter =  iter(train_ds)\n",
    "    ranklist = []\n",
    "    for idx in range(len(train_ds)):\n",
    "        rec = next(ds_iter)\n",
    "\n",
    "        if rec['feat_static_cat'][1] == 0:\n",
    "            ranklist.append(rec['target'][0])\n",
    "\n",
    "    return np.array(sorted(ranklist))"
   ]
  },
  {
   "cell_type": "code",
   "execution_count": null,
   "metadata": {},
   "outputs": [],
   "source": [
    "len(ranklist)"
   ]
  },
  {
   "cell_type": "code",
   "execution_count": null,
   "metadata": {},
   "outputs": [],
   "source": [
    "rank_train, rank_ds = get_testds(True)"
   ]
  },
  {
   "cell_type": "code",
   "execution_count": null,
   "metadata": {},
   "outputs": [],
   "source": [
    "rawrank_train, rawrank_ds = get_testds(False)"
   ]
  },
  {
   "cell_type": "code",
   "execution_count": null,
   "metadata": {},
   "outputs": [],
   "source": [
    "debug_get_ranklist(rank_train)"
   ]
  },
  {
   "cell_type": "code",
   "execution_count": null,
   "metadata": {},
   "outputs": [],
   "source": [
    "debug_get_ranklist(rawrank_train)"
   ]
  },
  {
   "cell_type": "code",
   "execution_count": null,
   "metadata": {},
   "outputs": [],
   "source": [
    "debug_get_ranklist(train_ds)"
   ]
  },
  {
   "cell_type": "code",
   "execution_count": null,
   "metadata": {},
   "outputs": [],
   "source": [
    " #alldata, rankdata, acldata, flagdata = stagedata['Indy500-2011']"
   ]
  },
  {
   "cell_type": "code",
   "execution_count": null,
   "metadata": {},
   "outputs": [],
   "source": [
    "set(acldata.car_number.values)"
   ]
  },
  {
   "cell_type": "code",
   "execution_count": null,
   "metadata": {},
   "outputs": [],
   "source": [
    "acldata"
   ]
  },
  {
   "cell_type": "code",
   "execution_count": null,
   "metadata": {},
   "outputs": [],
   "source": [
    "acldata[acldata['completed_laps']==187]"
   ]
  },
  {
   "cell_type": "code",
   "execution_count": null,
   "metadata": {},
   "outputs": [],
   "source": [
    "print(','.join(list(sorted(rankdata[rankdata['completed_laps']==186].car_number.values))))\n",
    "print(','.join(list(sorted(rankdata[rankdata['completed_laps']==187].car_number.values))))\n",
    "print(','.join(list(sorted(rankdata[rankdata['completed_laps']==188].car_number.values))))\n",
    "print(','.join(list(sorted(rankdata[rankdata['completed_laps']==189].car_number.values))))\n"
   ]
  },
  {
   "cell_type": "code",
   "execution_count": null,
   "metadata": {},
   "outputs": [],
   "source": [
    "alldata, rankdata, acldata, flagdata = stagedata['Indy500-2014']"
   ]
  },
  {
   "cell_type": "code",
   "execution_count": null,
   "metadata": {},
   "outputs": [],
   "source": [
    "kannan = rankdata[rankdata['car_number']==10]\n",
    "kannan[(kannan['completed_laps'] > 60) & (kannan['completed_laps']<70)]"
   ]
  },
  {
   "cell_type": "code",
   "execution_count": null,
   "metadata": {},
   "outputs": [],
   "source": [
    "alldata, rankdata, acldata, flagdata = stagedata['Indy500-2013']\n",
    "rankdata[(rankdata['car_number']==16) & (rankdata['completed_laps']<10)]"
   ]
  },
  {
   "cell_type": "code",
   "execution_count": null,
   "metadata": {},
   "outputs": [],
   "source": [
    "rankdata[(rankdata['car_number']==16) & (rankdata['completed_laps']>88)& (rankdata['completed_laps']<97)]"
   ]
  },
  {
   "cell_type": "code",
   "execution_count": null,
   "metadata": {},
   "outputs": [],
   "source": [
    "car16 = acldata[acldata['car_number']==16]\n"
   ]
  },
  {
   "cell_type": "code",
   "execution_count": null,
   "metadata": {},
   "outputs": [],
   "source": [
    "for idx in range(len(car16)):\n",
    "    if(car16.iloc[idx].lap_status == 'P'):\n",
    "        print(car16.iloc[idx].completed_laps)"
   ]
  },
  {
   "cell_type": "code",
   "execution_count": null,
   "metadata": {},
   "outputs": [],
   "source": [
    "for idx in range(len(car16)):\n",
    "    if(car16.iloc[idx].track_status == 'Y'):\n",
    "        print(car16.iloc[idx].completed_laps)"
   ]
  },
  {
   "cell_type": "code",
   "execution_count": null,
   "metadata": {},
   "outputs": [],
   "source": [
    "### check the inlap\n",
    "alldata, rankdata, acldata, flagdata = stagedata['Indy500-2018']\n",
    "car12 = acldata[acldata['car_number']==12]\n",
    "for idx in range(len(car12)):\n",
    "    if(car12.iloc[idx].lap_status == 'P'):\n",
    "        print(car12.iloc[idx].completed_laps)"
   ]
  },
  {
   "cell_type": "code",
   "execution_count": null,
   "metadata": {},
   "outputs": [],
   "source": [
    "rankdata[(rankdata['car_number']==12)]"
   ]
  },
  {
   "cell_type": "code",
   "execution_count": null,
   "metadata": {},
   "outputs": [],
   "source": [
    "pitlap = 94\n",
    "rankdata[(rankdata['car_number']==12) & (rankdata['completed_laps']>=pitlap -2) & ((rankdata['completed_laps']<=pitlap+2))]"
   ]
  },
  {
   "cell_type": "code",
   "execution_count": null,
   "metadata": {},
   "outputs": [],
   "source": [
    "pitlap = 50\n",
    "rankdata[(rankdata['car_number']==12) & (rankdata['completed_laps']>=pitlap -2) & ((rankdata['completed_laps']<=pitlap+2))]"
   ]
  },
  {
   "cell_type": "code",
   "execution_count": null,
   "metadata": {},
   "outputs": [],
   "source": [
    "pitlap = 94\n",
    "rankdata[(rankdata['car_number']==12) & (rankdata['completed_laps']>=pitlap -2) & ((rankdata['completed_laps']<=pitlap+2))]"
   ]
  },
  {
   "cell_type": "code",
   "execution_count": null,
   "metadata": {},
   "outputs": [],
   "source": [
    "rankdata[(rankdata['completed_laps']==200)]"
   ]
  },
  {
   "cell_type": "code",
   "execution_count": null,
   "metadata": {},
   "outputs": [],
   "source": [
    "rankdata[(rankdata['completed_laps']==0)]"
   ]
  },
  {
   "cell_type": "code",
   "execution_count": null,
   "metadata": {},
   "outputs": [],
   "source": [
    "### top cars\n",
    "top10 = rankdata[(rankdata['completed_laps']==200) & (rankdata['rank']<10)]\n",
    "list(top10.car_number)"
   ]
  },
  {
   "cell_type": "code",
   "execution_count": null,
   "metadata": {},
   "outputs": [],
   "source": [
    "### show the data\n",
    "dfx = rankdata\n",
    "dfx.info()"
   ]
  },
  {
   "cell_type": "code",
   "execution_count": null,
   "metadata": {},
   "outputs": [],
   "source": [
    "dfx = rankdata[['rank','car_number','completed_laps','last_laptime','time_behind_leader','lap_status','track_status']]\n",
    "#dfx.drop('index')\n",
    "dfx[(dfx['completed_laps']>30) & (dfx['completed_laps']<50)]"
   ]
  },
  {
   "cell_type": "markdown",
   "metadata": {},
   "source": [
    "### draw timeline"
   ]
  },
  {
   "cell_type": "code",
   "execution_count": null,
   "metadata": {},
   "outputs": [],
   "source": [
    "### draw timeline\n",
    "df12 = rankdata[rankdata['car_number']==12]\n",
    "df12"
   ]
  },
  {
   "cell_type": "code",
   "execution_count": null,
   "metadata": {},
   "outputs": [],
   "source": [
    "df12[df12['lap_status']=='P']"
   ]
  },
  {
   "cell_type": "code",
   "execution_count": null,
   "metadata": {},
   "outputs": [],
   "source": [
    "df12[df12['completed_laps'].isin([30,31,32,33,34])]"
   ]
  },
  {
   "cell_type": "code",
   "execution_count": null,
   "metadata": {},
   "outputs": [],
   "source": [
    "data = df12[['completed_laps','rank','last_laptime','time_behind_leader']].values\n",
    "pitstop = df12[['lap_status']].values\n",
    "caution = df12[['track_status']].values\n",
    "pitstop = np.array([1 if x=='P' else 0 for x in pitstop])\n",
    "caution = np.array([1 if x=='Y' else 0 for x in caution])\n",
    "pitidx = np.where(pitstop == 1)\n",
    "pits = data[pitidx]\n",
    "yidx = np.where(caution == 1)\n",
    "cautions = data[yidx]"
   ]
  },
  {
   "cell_type": "code",
   "execution_count": null,
   "metadata": {},
   "outputs": [],
   "source": [
    "np.sum(caution)"
   ]
  },
  {
   "cell_type": "code",
   "execution_count": null,
   "metadata": {},
   "outputs": [],
   "source": [
    "np.sum(pitstop)"
   ]
  },
  {
   "cell_type": "code",
   "execution_count": null,
   "metadata": {},
   "outputs": [],
   "source": [
    "data.shape"
   ]
  },
  {
   "cell_type": "code",
   "execution_count": null,
   "metadata": {},
   "outputs": [],
   "source": [
    "pitidx = np.where(pitstop == 1)\n",
    "pits = data[pitidx]\n"
   ]
  },
  {
   "cell_type": "code",
   "execution_count": null,
   "metadata": {},
   "outputs": [],
   "source": [
    "yidx = np.where(caution == 1)\n",
    "cautions = data[yidx]"
   ]
  },
  {
   "cell_type": "code",
   "execution_count": null,
   "metadata": {},
   "outputs": [],
   "source": [
    "pits"
   ]
  },
  {
   "cell_type": "code",
   "execution_count": null,
   "metadata": {},
   "outputs": [],
   "source": [
    "plt.plot(pits[:,0],pits[:,1],'+',color='r', label='PitStop', linewidth=2)"
   ]
  },
  {
   "cell_type": "code",
   "execution_count": null,
   "metadata": {},
   "outputs": [],
   "source": [
    "fig, axs = plt.subplots(2, 1, figsize=(20, 7))\n",
    "axs[0].plot(data[:,0],data[:,1],'.-',label='RANK', linewidth=2)\n",
    "axs[0].plot(cautions[:,0],cautions[:,1],'.',color='y', label='CautionLap', linewidth=2)\n",
    "axs[0].plot(pits[:,0],pits[:,1],'+',color='r', label='PitStop', linewidth=2)\n",
    "\n",
    "axs[1].plot(data[:,0],data[:,2],'.-',label='LapTime', linewidth=2)\n",
    "axs[1].plot(cautions[:,0],cautions[:,2],'.',color='y', label='CautionLap', linewidth=2)\n",
    "axs[1].plot(pits[:,0],pits[:,2],'+',color='r', label='PitStop', linewidth=2)"
   ]
  },
  {
   "cell_type": "code",
   "execution_count": null,
   "metadata": {},
   "outputs": [],
   "source": [
    "fig, axs = plt.subplots(1, 1, figsize=(20, 7))\n",
    "axs.plot(data[:,0],data[:,1],'.-',label='RANK', linewidth=2)\n",
    "axs.plot(cautions[:,0],cautions[:,1],'.',color='y', label='CautionLap', linewidth=2)\n",
    "axs.plot(pits[:,0],pits[:,1],'+',color='r', label='PitStop', linewidth=2)\n",
    "\n",
    "for lap in range(200):\n",
    "    fc = 'green'\n",
    "    if caution[lap] == 1:\n",
    "        fc = 'yellow'\n",
    "    if pitstop[lap] == 1:\n",
    "        fc = 'red'\n",
    "    ec = fc\n",
    "    rectangle = plt.Rectangle((lap,0), 1, 1, fc=fc,ec=ec)\n",
    "    #plt.gca().add_patch(rectangle)\n",
    "    axs.add_patch(rectangle)\n"
   ]
  },
  {
   "cell_type": "code",
   "execution_count": null,
   "metadata": {},
   "outputs": [],
   "source": [
    "red = ''#ff8080'\n",
    "yellow = '#8080ff'\n",
    "green = '#80ff80'\n",
    "\n",
    "def add_status(axs):\n",
    "    for lap in range(200):\n",
    "        fc = green\n",
    "        if caution[lap] == 1:\n",
    "            fc = yellow\n",
    "        if pitstop[lap] == 1:\n",
    "            fc = red\n",
    "        ec = fc\n",
    "        rectangle = plt.Rectangle((lap,-1), 1, 1, fc=fc,ec=ec)\n",
    "        #plt.gca().add_patch(rectangle)\n",
    "        axs.add_patch(rectangle)\n",
    "\n",
    "fig, axs = plt.subplots(2, 1, figsize=(20, 7))\n",
    "axs[0].plot(data[:,0],data[:,1],'.-',label='RANK', linewidth=2)\n",
    "#axs[0].plot(cautions[:,0],cautions[:,1],'.',color='y', label='CautionLap', linewidth=2)\n",
    "axs[0].plot(pits[:,0],pits[:,1],'^',color='r', label='PitStop', linewidth=2)\n",
    "for lap in range(200):\n",
    "    fc = 'green'\n",
    "    if caution[lap] == 1:\n",
    "        fc = 'yellow'\n",
    "    if pitstop[lap] == 1:\n",
    "        fc = 'red'\n",
    "    ec = fc\n",
    "    rectangle = plt.Rectangle((lap,-1), 1, 1, fc=fc,ec=ec)\n",
    "    #plt.gca().add_patch(rectangle)\n",
    "    axs[0].add_patch(rectangle)\n",
    "axs[0].set_ylim((-1,17.5))\n",
    "axs[0].set_ylabel('Rank')\n",
    "\n",
    "axs[1].plot(data[:,0],data[:,2],'.-',label='LapTime', linewidth=2)\n",
    "#axs[1].plot(cautions[:,0],cautions[:,2],'.',color='y', label='CautionLap', linewidth=2)\n",
    "axs[1].plot(pits[:,0],pits[:,2],'^',color='r', label='PitStop', linewidth=2)\n",
    "for lap in range(200):\n",
    "    fc = 'green'\n",
    "    if caution[lap] == 1:\n",
    "        fc = 'yellow'\n",
    "    if pitstop[lap] == 1:\n",
    "        fc = 'red'\n",
    "    ec = fc\n",
    "    rectangle = plt.Rectangle((lap,35), 1, 4, fc=fc,ec=ec)\n",
    "    #plt.gca().add_patch(rectangle)\n",
    "    axs[1].add_patch(rectangle)\n",
    "axs[1].set_ylim((35,120))    \n",
    "\n",
    "axs[1].set_ylabel('LapTime(s)')\n",
    "axs[1].set_xlabel('Lap')"
   ]
  },
  {
   "cell_type": "code",
   "execution_count": null,
   "metadata": {},
   "outputs": [],
   "source": [
    "data = data[1:,:]\n",
    "#pits = pits[1:]\n"
   ]
  },
  {
   "cell_type": "code",
   "execution_count": null,
   "metadata": {},
   "outputs": [],
   "source": [
    "\n",
    "#red = '#ff8080'\n",
    "red = 'red'\n",
    "#yellow = '#8080ff'\n",
    "yellow = 'yellow'\n",
    "#green = '#80ff80'\n",
    "green = 'green'\n",
    "\n",
    "def add_status(axs,y=-1, height=1):\n",
    "    for lap in range(200):\n",
    "        fc = green\n",
    "        if caution[lap] == 1:\n",
    "            fc = yellow\n",
    "        if pitstop[lap] == 1:\n",
    "            fc = red\n",
    "        ec = fc\n",
    "        rectangle = plt.Rectangle((lap,y), 1, height, fc=fc,ec=ec)\n",
    "        #plt.gca().add_patch(rectangle)\n",
    "        axs.add_patch(rectangle)\n",
    "\n",
    "lw=2\n",
    "        \n",
    "fig, axs = plt.subplots(2, 1, figsize=(10, 4))\n",
    "axs[0].plot(data[:,0],data[:,1],'.-', linewidth=lw)\n",
    "#axs[0].plot(cautions[:,0],cautions[:,1],'.',color='y', label='CautionLap', linewidth=2)\n",
    "axs[0].plot(pits[:,0],pits[:,1],'^',color='r', label='PitStop', linewidth=lw)\n",
    "add_status(axs[0])\n",
    "axs[0].set_ylim((-1,19))\n",
    "axs[0].set_ylabel('Rank')\n",
    "\n",
    "axs[1].plot(data[:,0],data[:,2],'.-', linewidth=lw)\n",
    "#axs[1].plot(cautions[:,0],cautions[:,2],'.',color='y', label='CautionLap', linewidth=2)\n",
    "axs[1].plot(pits[:,0],pits[:,2],'^',color='r', label='PitStop', linewidth=lw)\n",
    "add_status(axs[1],33,4)\n",
    "axs[1].set_ylim((33,120))    \n",
    "\n",
    "axs[1].set_ylabel('LapTime(s)')\n",
    "axs[1].set_xlabel('Lap')\n",
    "\n",
    "axs[1].plot([0],[0],'s',color=green, label='NoramlLap', linewidth=lw)\n",
    "axs[1].plot([0],[0],'s',color=yellow, label='CautionLap', linewidth=lw)\n",
    "plt.legend(prop={'size': 10})\n",
    "plt.savefig('laptime_rank.pdf')"
   ]
  },
  {
   "cell_type": "code",
   "execution_count": null,
   "metadata": {},
   "outputs": [],
   "source": [
    "plt.savefig('laptime_rank.pdf')"
   ]
  },
  {
   "cell_type": "code",
   "execution_count": null,
   "metadata": {},
   "outputs": [],
   "source": [
    "savedata('Fig2-b.pickle',[data, pits, caution, pitstop])"
   ]
  },
  {
   "cell_type": "markdown",
   "metadata": {},
   "source": [
    "## rank change distribution\n",
    "\n",
    "pits"
   ]
  },
  {
   "cell_type": "code",
   "execution_count": null,
   "metadata": {},
   "outputs": [],
   "source": [
    "rankdata.completed_laps.values"
   ]
  },
  {
   "cell_type": "code",
   "execution_count": 57,
   "metadata": {},
   "outputs": [
    {
     "name": "stderr",
     "output_type": "stream",
     "text": [
      "INFO:root:Using GPU\n",
      "INFO:root:Using GPU\n",
      "INFO:root:Using GPU\n",
      "INFO:root:Using GPU\n"
     ]
    }
   ],
   "source": [
    "#low, high = 0, 1\n",
    "low, high = 1, 1"
   ]
  },
  {
   "cell_type": "code",
   "execution_count": 58,
   "metadata": {},
   "outputs": [],
   "source": [
    "### check the rank change\n",
    "\n",
    "\n",
    "alldata, rankdata, acldata, flagdata = stagedata['Indy500-2018']\n",
    "\n",
    "\n",
    "carlist = set(list(rankdata.car_number.values))\n",
    "\n",
    "rankchg_df = []\n",
    "rankchg_cols = ['carno', 'normalpit', 'rankchange']\n",
    "for carno in carlist:\n",
    "    df = rankdata[rankdata['car_number']==carno]\n",
    "    \n",
    "    pits = df[df['lap_status']=='P']\n",
    "    \n",
    "    for pitlap in pits.completed_laps.values:\n",
    "        pitdf = df[(df['completed_laps']>=pitlap-low) & (df['completed_laps']<=pitlap+high)]\n",
    "        \n",
    "        rankchange = np.max(pitdf[['rank']].values) - np.min(pitdf[['rank']].values)\n",
    "        \n",
    "        trackstatus = df[df['completed_laps']==pitlap].track_status.values[0]\n",
    "        normalpit = 0 if trackstatus == 'Y' else 1\n",
    "                          \n",
    "        rankchg_df.append([carno, normalpit, rankchange])\n",
    "                          \n",
    "rankchg_df = pd.DataFrame(data=rankchg_df, columns=rankchg_cols)        "
   ]
  },
  {
   "cell_type": "code",
   "execution_count": 59,
   "metadata": {},
   "outputs": [
    {
     "name": "stdout",
     "output_type": "stream",
     "text": [
      "normalpit .vs. cautionpit: 115 77\n"
     ]
    }
   ],
   "source": [
    "print('normalpit .vs. cautionpit:', len(rankchg_df[rankchg_df['normalpit']==1]), len(rankchg_df[rankchg_df['normalpit']==0]))"
   ]
  },
  {
   "cell_type": "code",
   "execution_count": 60,
   "metadata": {},
   "outputs": [
    {
     "name": "stdout",
     "output_type": "stream",
     "text": [
      "min: 0 28\n"
     ]
    }
   ],
   "source": [
    "print('min:', np.min(rankchg_df.rankchange.values),np.max(rankchg_df.rankchange.values))"
   ]
  },
  {
   "cell_type": "code",
   "execution_count": 61,
   "metadata": {},
   "outputs": [
    {
     "data": {
      "text/html": [
       "<div>\n",
       "<style scoped>\n",
       "    .dataframe tbody tr th:only-of-type {\n",
       "        vertical-align: middle;\n",
       "    }\n",
       "\n",
       "    .dataframe tbody tr th {\n",
       "        vertical-align: top;\n",
       "    }\n",
       "\n",
       "    .dataframe thead th {\n",
       "        text-align: right;\n",
       "    }\n",
       "</style>\n",
       "<table border=\"1\" class=\"dataframe\">\n",
       "  <thead>\n",
       "    <tr style=\"text-align: right;\">\n",
       "      <th></th>\n",
       "      <th>carno</th>\n",
       "      <th>normalpit</th>\n",
       "      <th>rankchange</th>\n",
       "    </tr>\n",
       "  </thead>\n",
       "  <tbody>\n",
       "    <tr>\n",
       "      <th>0</th>\n",
       "      <td>1</td>\n",
       "      <td>1</td>\n",
       "      <td>12</td>\n",
       "    </tr>\n",
       "    <tr>\n",
       "      <th>1</th>\n",
       "      <td>1</td>\n",
       "      <td>0</td>\n",
       "      <td>2</td>\n",
       "    </tr>\n",
       "    <tr>\n",
       "      <th>2</th>\n",
       "      <td>1</td>\n",
       "      <td>0</td>\n",
       "      <td>17</td>\n",
       "    </tr>\n",
       "    <tr>\n",
       "      <th>3</th>\n",
       "      <td>1</td>\n",
       "      <td>1</td>\n",
       "      <td>19</td>\n",
       "    </tr>\n",
       "    <tr>\n",
       "      <th>4</th>\n",
       "      <td>1</td>\n",
       "      <td>1</td>\n",
       "      <td>19</td>\n",
       "    </tr>\n",
       "    <tr>\n",
       "      <th>5</th>\n",
       "      <td>1</td>\n",
       "      <td>1</td>\n",
       "      <td>10</td>\n",
       "    </tr>\n",
       "    <tr>\n",
       "      <th>6</th>\n",
       "      <td>3</td>\n",
       "      <td>1</td>\n",
       "      <td>16</td>\n",
       "    </tr>\n",
       "    <tr>\n",
       "      <th>7</th>\n",
       "      <td>3</td>\n",
       "      <td>0</td>\n",
       "      <td>4</td>\n",
       "    </tr>\n",
       "    <tr>\n",
       "      <th>8</th>\n",
       "      <td>3</td>\n",
       "      <td>1</td>\n",
       "      <td>17</td>\n",
       "    </tr>\n",
       "    <tr>\n",
       "      <th>9</th>\n",
       "      <td>3</td>\n",
       "      <td>1</td>\n",
       "      <td>14</td>\n",
       "    </tr>\n",
       "  </tbody>\n",
       "</table>\n",
       "</div>"
      ],
      "text/plain": [
       "   carno  normalpit  rankchange\n",
       "0      1          1          12\n",
       "1      1          0           2\n",
       "2      1          0          17\n",
       "3      1          1          19\n",
       "4      1          1          19\n",
       "5      1          1          10\n",
       "6      3          1          16\n",
       "7      3          0           4\n",
       "8      3          1          17\n",
       "9      3          1          14"
      ]
     },
     "execution_count": 61,
     "metadata": {},
     "output_type": "execute_result"
    }
   ],
   "source": [
    "rankchg_df.head(10)"
   ]
  },
  {
   "cell_type": "code",
   "execution_count": 62,
   "metadata": {},
   "outputs": [
    {
     "name": "stderr",
     "output_type": "stream",
     "text": [
      "/scratch_ssd/hpda/anaconda3/envs/gluonts/lib/python3.6/site-packages/ipykernel_launcher.py:7: MatplotlibDeprecationWarning: \n",
      "The 'normed' kwarg was deprecated in Matplotlib 2.1 and will be removed in 3.1. Use 'density' instead.\n",
      "  import sys\n",
      "/scratch_ssd/hpda/anaconda3/envs/gluonts/lib/python3.6/site-packages/ipykernel_launcher.py:8: MatplotlibDeprecationWarning: \n",
      "The 'normed' kwarg was deprecated in Matplotlib 2.1 and will be removed in 3.1. Use 'density' instead.\n",
      "  \n"
     ]
    },
    {
     "data": {
      "image/png": "[encoded data removed]",
      "text/plain": [
       "<Figure size 288x216 with 1 Axes>"
      ]
     },
     "metadata": {
      "needs_background": "light"
     },
     "output_type": "display_data"
    }
   ],
   "source": [
    "# car 12, will power\n",
    "bins=np.arange(30)\n",
    "cautionpits = rankchg_df[rankchg_df['normalpit']==0].rankchange\n",
    "normalpits = rankchg_df[(rankchg_df['normalpit']==1)].rankchange\n",
    "\n",
    "fig, axs = plt.subplots(1, 1, figsize=(4, 3))\n",
    "axs.hist(normalpits,bins= bins,normed=1,  alpha=0.7,label='normal pit')\n",
    "axs.hist(cautionpits,bins= bins,normed=1,  alpha=0.7,label='caution pit')\n",
    "axs.set_xlabel('Rank Changes')\n",
    "axs.set_ylabel('Frequence')\n",
    "axs.set_title('Rank Changes Distribution')\n",
    "axs.legend(prop={'size': 10})\n",
    "plt.tight_layout()\n",
    "plt.savefig('rankchange_distribution-%d%d.pdf'%(low, high))"
   ]
  },
  {
   "cell_type": "code",
   "execution_count": null,
   "metadata": {},
   "outputs": [],
   "source": [
    "import pickle\n",
    "def savedata(datafile,dfs):\n",
    "    with open(datafile, 'wb') as f:\n",
    "        #pack [global_carids, laptime_data]\n",
    "        savedata = dfs\n",
    "        #savedata = [freq, train_set, test_set]\n",
    "        # Pickle the 'data' dictionary using the highest protocol available.\n",
    "        pickle.dump(savedata, f, pickle.HIGHEST_PROTOCOL)"
   ]
  },
  {
   "cell_type": "code",
   "execution_count": null,
   "metadata": {},
   "outputs": [],
   "source": [
    "df12[df12['track_status']=='Y'].completed_laps.values"
   ]
  },
  {
   "cell_type": "code",
   "execution_count": null,
   "metadata": {},
   "outputs": [],
   "source": [
    "df12[df12['lap_status']=='P'].completed_laps.values"
   ]
  },
  {
   "cell_type": "markdown",
   "metadata": {},
   "source": [
    "## Get pit-covered-laps"
   ]
  },
  {
   "cell_type": "code",
   "execution_count": 52,
   "metadata": {},
   "outputs": [
    {
     "name": "stdout",
     "output_type": "stream",
     "text": [
      "Indy500-2013 total: 200 pitlaps: 70 pitcoveredlaps: 119\n",
      "Indy500-2014 total: 200 pitlaps: 75 pitcoveredlaps: 126\n",
      "Indy500-2015 total: 200 pitlaps: 48 pitcoveredlaps: 80\n",
      "Indy500-2016 total: 200 pitlaps: 70 pitcoveredlaps: 120\n",
      "Indy500-2017 total: 200 pitlaps: 70 pitcoveredlaps: 124\n",
      "Indy500-2018 total: 200 pitlaps: 76 pitcoveredlaps: 122\n",
      "Indy500-2019 total: 200 pitlaps: 74 pitcoveredlaps: 102\n",
      "Phoenix-2018 total: 250 pitlaps: 42 pitcoveredlaps: 70\n",
      "Texas-2018 total: 248 pitlaps: 53 pitcoveredlaps: 112\n",
      "Texas-2019 total: 248 pitlaps: 49 pitcoveredlaps: 84\n",
      "Pocono-2018 total: 200 pitlaps: 47 pitcoveredlaps: 79\n",
      "Pocono-2019 total: 128 pitlaps: 42 pitcoveredlaps: 72\n",
      "Iowa-2018 total: 300 pitlaps: 49 pitcoveredlaps: 103\n",
      "Iowa-2019 total: 300 pitlaps: 40 pitcoveredlaps: 78\n",
      "Gateway-2018 total: 248 pitlaps: 48 pitcoveredlaps: 97\n",
      "Gateway-2019 total: 248 pitlaps: 53 pitcoveredlaps: 96\n"
     ]
    }
   ],
   "source": [
    "### check the inlap\n",
    "covergap = 1\n",
    "pitdata = {}\n",
    "for event in events:    \n",
    "    alldata, rankdata, acldata, flagdata = stagedata[event]\n",
    "\n",
    "    totallaps = np.max(rankdata.completed_laps.to_numpy())\n",
    "    #pitlaps = rankdata[rankdata['lap_status']=='P'][['completed_laps']].to_numpy()\n",
    "    pitlaps = rankdata[rankdata['lap_status']=='P'].completed_laps.to_numpy()\n",
    "\n",
    "    pitlaps = set(sorted(pitlaps))\n",
    "\n",
    "    pitcoveredlaps = []\n",
    "    for lap in pitlaps:\n",
    "        gap = range(lap - covergap, lap + covergap+1)\n",
    "        #pitcoveredlaps.extend([lap -2,lap-1,lap,lap+1,lap+2])\n",
    "        pitcoveredlaps.extend(gap)\n",
    "\n",
    "    pitcoveredlaps = set(sorted(pitcoveredlaps))\n",
    "    \n",
    "    print(event, 'total:', totallaps, 'pitlaps:', len(pitlaps), 'pitcoveredlaps:', len(pitcoveredlaps))\n",
    "    \n",
    "    #save\n",
    "    pitdata[event] = [pitlaps, pitcoveredlaps]"
   ]
  },
  {
   "cell_type": "code",
   "execution_count": 53,
   "metadata": {},
   "outputs": [
    {
     "name": "stdout",
     "output_type": "stream",
     "text": [
      "pitlaps: 42 coveredlaps: 70\n"
     ]
    }
   ],
   "source": [
    "print('pitlaps:', len(pitdata[_test_event][0]), 'coveredlaps:', len(pitdata[_test_event][1]))"
   ]
  },
  {
   "cell_type": "code",
   "execution_count": 54,
   "metadata": {},
   "outputs": [
    {
     "name": "stdout",
     "output_type": "stream",
     "text": [
      "pitcoveredlaps-alldata-g1.pickle\n"
     ]
    }
   ],
   "source": [
    "import pickle\n",
    "#stintdf.to_csv('laptime-%s.csv'%year)\n",
    "savefile = f'pitcoveredlaps-alldata-g{covergap}.pickle' \n",
    "print(savefile)\n",
    "with open(savefile, 'wb') as f:\n",
    "    #pack [global_carids, laptime_data]\n",
    "    savedata = pitdata\n",
    "    # Pickle the 'data' dictionary using the highest protocol available.\n",
    "    pickle.dump(savedata, f, pickle.HIGHEST_PROTOCOL)"
   ]
  },
  {
   "cell_type": "markdown",
   "metadata": {},
   "source": [
    "## check df12"
   ]
  },
  {
   "cell_type": "code",
   "execution_count": null,
   "metadata": {},
   "outputs": [],
   "source": [
    "alldata, rankdata, acldata, flagdata = stagedata['Indy500-2018']\n",
    "df12 = rankdata[rankdata['car_number']==12]"
   ]
  },
  {
   "cell_type": "code",
   "execution_count": null,
   "metadata": {},
   "outputs": [],
   "source": [
    "df12[df12['completed_laps']>190]"
   ]
  },
  {
   "cell_type": "code",
   "execution_count": null,
   "metadata": {},
   "outputs": [],
   "source": [
    "df3 = rankdata[rankdata['car_number']==12]\n",
    "df3[(df3['completed_laps']>25) & (df3['completed_laps']<35)]"
   ]
  },
  {
   "cell_type": "markdown",
   "metadata": {},
   "source": [
    "## draw "
   ]
  },
  {
   "cell_type": "code",
   "execution_count": 43,
   "metadata": {},
   "outputs": [],
   "source": [
    "def drawacar(test_event, carno=12):\n",
    "    alldata, rankdata, acldata, flagdata = stagedata[test_event]\n",
    "    \n",
    "    #maxlap = get_event_info(test_event)[0]\n",
    "    print('carno:', set(list(rankdata['car_number'].values)))\n",
    "    print('laps:', set(list(rankdata['completed_laps'].values)))\n",
    "    \n",
    "    \n",
    "    maxlap = max(list(rankdata['completed_laps'].values))\n",
    "    \n",
    "    a = rankdata[rankdata['completed_laps']>=maxlap-1]\n",
    "    print(set(list(a['car_number'].values)))\n",
    "    \n",
    "    df12 = rankdata[rankdata['car_number']==carno]\n",
    "\n",
    "    data = df12[['completed_laps','rank','last_laptime','time_behind_leader']].values\n",
    "    pitstop = df12[['lap_status']].values\n",
    "    caution = df12[['track_status']].values\n",
    "    pitstop = np.array([1 if x=='P' else 0 for x in pitstop])\n",
    "    caution = np.array([1 if x=='Y' else 0 for x in caution])\n",
    "    pitidx = np.where(pitstop == 1)\n",
    "    pits = data[pitidx]\n",
    "    yidx = np.where(caution == 1)\n",
    "    cautions = data[yidx]\n",
    "    \n",
    "\n",
    "    data = data[1:,:]\n",
    "    \n",
    "    #red = '#ff8080'\n",
    "    red = 'red'\n",
    "    #yellow = '#8080ff'\n",
    "    yellow = 'yellow'\n",
    "    #green = '#80ff80'\n",
    "    green = 'green'\n",
    "    \n",
    "    \n",
    "    print('maxlap:', maxlap)\n",
    "    def add_status(axs,y=-1, height=1):\n",
    "        for lap in range(maxlap):\n",
    "            fc = green\n",
    "            if caution[lap] == 1:\n",
    "                fc = yellow\n",
    "            if pitstop[lap] == 1:\n",
    "                fc = red\n",
    "            ec = fc\n",
    "            rectangle = plt.Rectangle((lap,y), 1, height, fc=fc,ec=ec)\n",
    "            #plt.gca().add_patch(rectangle)\n",
    "            axs.add_patch(rectangle)\n",
    "\n",
    "    lw=2\n",
    "\n",
    "    fig, axs = plt.subplots(2, 1, figsize=(10, 4))\n",
    "    axs[0].plot(data[:,0],data[:,1],'.-', linewidth=lw)\n",
    "    #axs[0].plot(cautions[:,0],cautions[:,1],'.',color='y', label='CautionLap', linewidth=2)\n",
    "    axs[0].plot(pits[:,0],pits[:,1],'^',color='r', label='PitStop', linewidth=lw)\n",
    "    add_status(axs[0])\n",
    "    axs[0].set_ylim((-1,19))\n",
    "    axs[0].set_ylabel('Rank')\n",
    "\n",
    "    axs[1].plot(data[:,0],data[:,2],'.-', linewidth=lw)\n",
    "    #axs[1].plot(cautions[:,0],cautions[:,2],'.',color='y', label='CautionLap', linewidth=2)\n",
    "    axs[1].plot(pits[:,0],pits[:,2],'^',color='r', label='PitStop', linewidth=lw)\n",
    "    add_status(axs[1],13,4)\n",
    "    axs[1].set_ylim((13,120))    \n",
    "\n",
    "    axs[1].set_ylabel('LapTime(s)')\n",
    "    axs[1].set_xlabel('Lap')\n",
    "\n",
    "    axs[1].plot([0],[0],'s',color=green, label='NoramlLap', linewidth=lw)\n",
    "    axs[1].plot([0],[0],'s',color=yellow, label='CautionLap', linewidth=lw)\n",
    "    plt.legend(prop={'size': 10})    "
   ]
  },
  {
   "cell_type": "code",
   "execution_count": null,
   "metadata": {},
   "outputs": [],
   "source": [
    "#events.extend(['Phoenix-2018','Texas-2018','Texas-2019','Pocono-2018','Pocono-2019','Iowa-2018','Iowa-2019',\n",
    "#              'Gateway-2018','Gateway-2019'])"
   ]
  },
  {
   "cell_type": "code",
   "execution_count": 56,
   "metadata": {},
   "outputs": [
    {
     "name": "stdout",
     "output_type": "stream",
     "text": [
      "carno: {1, 4, 5, 6, 9, 10, 12, 14, 15, 18, 19, 20, 21, 22, 23, 26, 27, 28, 30, 59, 88, 98}\n",
      "laps: {0, 1, 2, 3, 4, 5, 6, 7, 8, 9, 10, 11, 12, 13, 14, 15, 16, 17, 18, 19, 20, 21, 22, 23, 24, 25, 26, 27, 28, 29, 30, 31, 32, 33, 34, 35, 36, 37, 38, 39, 40, 41, 42, 43, 44, 45, 46, 47, 48, 49, 50, 51, 52, 53, 54, 55, 56, 57, 58, 59, 60, 61, 62, 63, 64, 65, 66, 67, 68, 69, 70, 71, 72, 73, 74, 75, 76, 77, 78, 79, 80, 81, 82, 83, 84, 85, 86, 87, 88, 89, 90, 91, 92, 93, 94, 95, 96, 97, 98, 99, 100, 101, 102, 103, 104, 105, 106, 107, 108, 109, 110, 111, 112, 113, 114, 115, 116, 117, 118, 119, 120, 121, 122, 123, 124, 125, 126, 127, 128, 129, 130, 131, 132, 133, 134, 135, 136, 137, 138, 139, 140, 141, 142, 143, 144, 145, 146, 147, 148, 149, 150, 151, 152, 153, 154, 155, 156, 157, 158, 159, 160, 161, 162, 163, 164, 165, 166, 167, 168, 169, 170, 171, 172, 173, 174, 175, 176, 177, 178, 179, 180, 181, 182, 183, 184, 185, 186, 187, 188, 189, 190, 191, 192, 193, 194, 195, 196, 197, 198, 199, 200, 201, 202, 203, 204, 205, 206, 207, 208, 209, 210, 211, 212, 213, 214, 215, 216, 217, 218, 219, 220, 221, 222, 223, 224, 225, 226, 227, 228, 229, 230, 231, 232, 233, 234, 235, 236, 237, 238, 239, 240, 241, 242, 243, 244, 245, 246, 247, 248, 249, 250, 251, 252, 253, 254, 255, 256, 257, 258, 259, 260, 261, 262, 263, 264, 265, 266, 267, 268, 269, 270, 271, 272, 273, 274, 275, 276, 277, 278, 279, 280, 281, 282, 283, 284, 285, 286, 287, 288, 289, 290, 291, 292, 293, 294, 295, 296, 297, 298, 299, 300}\n",
      "{1, 5, 6, 12, 15, 21, 22, 30}\n",
      "maxlap: 300\n"
     ]
    },
    {
     "data": {
      "image/png": "[encoded data removed]",
      "text/plain": [
       "<Figure size 720x288 with 2 Axes>"
      ]
     },
     "metadata": {
      "needs_background": "light"
     },
     "output_type": "display_data"
    }
   ],
   "source": [
    "drawacar('Iowa-2018')"
   ]
  },
  {
   "cell_type": "code",
   "execution_count": 45,
   "metadata": {},
   "outputs": [
    {
     "name": "stdout",
     "output_type": "stream",
     "text": [
      "carno: {1, 4, 5, 6, 9, 10, 12, 14, 15, 18, 19, 20, 21, 22, 23, 26, 27, 28, 30, 59, 88, 98}\n",
      "laps: {0, 1, 2, 3, 4, 5, 6, 7, 8, 9, 10, 11, 12, 13, 14, 15, 16, 17, 18, 19, 20, 21, 22, 23, 24, 25, 26, 27, 28, 29, 30, 31, 32, 33, 34, 35, 36, 37, 38, 39, 40, 41, 42, 43, 44, 45, 46, 47, 48, 49, 50, 51, 52, 53, 54, 55, 56, 57, 58, 59, 60, 61, 62, 63, 64, 65, 66, 67, 68, 69, 70, 71, 72, 73, 74, 75, 76, 77, 78, 79, 80, 81, 82, 83, 84, 85, 86, 87, 88, 89, 90, 91, 92, 93, 94, 95, 96, 97, 98, 99, 100, 101, 102, 103, 104, 105, 106, 107, 108, 109, 110, 111, 112, 113, 114, 115, 116, 117, 118, 119, 120, 121, 122, 123, 124, 125, 126, 127, 128, 129, 130, 131, 132, 133, 134, 135, 136, 137, 138, 139, 140, 141, 142, 143, 144, 145, 146, 147, 148, 149, 150, 151, 152, 153, 154, 155, 156, 157, 158, 159, 160, 161, 162, 163, 164, 165, 166, 167, 168, 169, 170, 171, 172, 173, 174, 175, 176, 177, 178, 179, 180, 181, 182, 183, 184, 185, 186, 187, 188, 189, 190, 191, 192, 193, 194, 195, 196, 197, 198, 199, 200, 201, 202, 203, 204, 205, 206, 207, 208, 209, 210, 211, 212, 213, 214, 215, 216, 217, 218, 219, 220, 221, 222, 223, 224, 225, 226, 227, 228, 229, 230, 231, 232, 233, 234, 235, 236, 237, 238, 239, 240, 241, 242, 243, 244, 245, 246, 247, 248}\n",
      "{5, 9, 10, 59, 15, 18, 21, 22, 23, 27, 28, 30}\n",
      "maxlap: 248\n"
     ]
    },
    {
     "data": {
      "image/png": "[encoded data removed]",
      "text/plain": [
       "<Figure size 720x288 with 2 Axes>"
      ]
     },
     "metadata": {
      "needs_background": "light"
     },
     "output_type": "display_data"
    }
   ],
   "source": [
    "drawacar('Texas-2018', carno=5)"
   ]
  },
  {
   "cell_type": "code",
   "execution_count": 47,
   "metadata": {},
   "outputs": [
    {
     "name": "stdout",
     "output_type": "stream",
     "text": [
      "carno: {1, 4, 5, 6, 9, 10, 12, 14, 15, 18, 19, 20, 21, 22, 23, 26, 27, 28, 30, 59, 88, 98}\n",
      "laps: {0, 1, 2, 3, 4, 5, 6, 7, 8, 9, 10, 11, 12, 13, 14, 15, 16, 17, 18, 19, 20, 21, 22, 23, 24, 25, 26, 27, 28, 29, 30, 31, 32, 33, 34, 35, 36, 37, 38, 39, 40, 41, 42, 43, 44, 45, 46, 47, 48, 49, 50, 51, 52, 53, 54, 55, 56, 57, 58, 59, 60, 61, 62, 63, 64, 65, 66, 67, 68, 69, 70, 71, 72, 73, 74, 75, 76, 77, 78, 79, 80, 81, 82, 83, 84, 85, 86, 87, 88, 89, 90, 91, 92, 93, 94, 95, 96, 97, 98, 99, 100, 101, 102, 103, 104, 105, 106, 107, 108, 109, 110, 111, 112, 113, 114, 115, 116, 117, 118, 119, 120, 121, 122, 123, 124, 125, 126, 127, 128, 129, 130, 131, 132, 133, 134, 135, 136, 137, 138, 139, 140, 141, 142, 143, 144, 145, 146, 147, 148, 149, 150, 151, 152, 153, 154, 155, 156, 157, 158, 159, 160, 161, 162, 163, 164, 165, 166, 167, 168, 169, 170, 171, 172, 173, 174, 175, 176, 177, 178, 179, 180, 181, 182, 183, 184, 185, 186, 187, 188, 189, 190, 191, 192, 193, 194, 195, 196, 197, 198, 199, 200}\n",
      "{1, 98, 9, 12, 18, 22, 26, 27}\n",
      "maxlap: 200\n"
     ]
    },
    {
     "data": {
      "image/png": "[encoded data removed]",
      "text/plain": [
       "<Figure size 720x288 with 2 Axes>"
      ]
     },
     "metadata": {
      "needs_background": "light"
     },
     "output_type": "display_data"
    }
   ],
   "source": [
    "drawacar('Pocono-2018', carno=1)"
   ]
  },
  {
   "cell_type": "code",
   "execution_count": 48,
   "metadata": {},
   "outputs": [
    {
     "name": "stdout",
     "output_type": "stream",
     "text": [
      "carno: {1, 4, 5, 9, 10, 12, 14, 15, 18, 19, 20, 21, 22, 23, 26, 27, 28, 30, 59, 88, 98}\n",
      "laps: {0, 1, 2, 3, 4, 5, 6, 7, 8, 9, 10, 11, 12, 13, 14, 15, 16, 17, 18, 19, 20, 21, 22, 23, 24, 25, 26, 27, 28, 29, 30, 31, 32, 33, 34, 35, 36, 37, 38, 39, 40, 41, 42, 43, 44, 45, 46, 47, 48, 49, 50, 51, 52, 53, 54, 55, 56, 57, 58, 59, 60, 61, 62, 63, 64, 65, 66, 67, 68, 69, 70, 71, 72, 73, 74, 75, 76, 77, 78, 79, 80, 81, 82, 83, 84, 85, 86, 87, 88, 89, 90, 91, 92, 93, 94, 95, 96, 97, 98, 99, 100, 101, 102, 103, 104, 105, 106, 107, 108, 109, 110, 111, 112, 113, 114, 115, 116, 117, 118, 119, 120, 121, 122, 123, 124, 125, 126, 127, 128, 129, 130, 131, 132, 133, 134, 135, 136, 137, 138, 139, 140, 141, 142, 143, 144, 145, 146, 147, 148, 149, 150, 151, 152, 153, 154, 155, 156, 157, 158, 159, 160, 161, 162, 163, 164, 165, 166, 167, 168, 169, 170, 171, 172, 173, 174, 175, 176, 177, 178, 179, 180, 181, 182, 183, 184, 185, 186, 187, 188, 189, 190, 191, 192, 193, 194, 195, 196, 197, 198, 199, 200, 201, 202, 203, 204, 205, 206, 207, 208, 209, 210, 211, 212, 213, 214, 215, 216, 217, 218, 219, 220, 221, 222, 223, 224, 225, 226, 227, 228, 229, 230, 231, 232, 233, 234, 235, 236, 237, 238, 239, 240, 241, 242, 243, 244, 245, 246, 247, 248}\n",
      "{1, 9, 10, 12, 15, 19, 20, 21, 22, 26, 27, 30}\n",
      "maxlap: 248\n"
     ]
    },
    {
     "data": {
      "image/png": "[encoded data removed]",
      "text/plain": [
       "<Figure size 720x288 with 2 Axes>"
      ]
     },
     "metadata": {
      "needs_background": "light"
     },
     "output_type": "display_data"
    }
   ],
   "source": [
    "drawacar('Gateway-2018', carno=1)"
   ]
  },
  {
   "cell_type": "code",
   "execution_count": 49,
   "metadata": {},
   "outputs": [
    {
     "name": "stdout",
     "output_type": "stream",
     "text": [
      "carno: {1, 4, 5, 6, 9, 10, 12, 14, 15, 18, 19, 20, 21, 22, 23, 26, 27, 28, 30, 32, 59, 88, 98}\n",
      "laps: {0, 1, 2, 3, 4, 5, 6, 7, 8, 9, 10, 11, 12, 13, 14, 15, 16, 17, 18, 19, 20, 21, 22, 23, 24, 25, 26, 27, 28, 29, 30, 31, 32, 33, 34, 35, 36, 37, 38, 39, 40, 41, 42, 43, 44, 45, 46, 47, 48, 49, 50, 51, 52, 53, 54, 55, 56, 57, 58, 59, 60, 61, 62, 63, 64, 65, 66, 67, 68, 69, 70, 71, 72, 73, 74, 75, 76, 77, 78, 79, 80, 81, 82, 83, 84, 85, 86, 87, 88, 89, 90, 91, 92, 93, 94, 95, 96, 97, 98, 99, 100, 101, 102, 103, 104, 105, 106, 107, 108, 109, 110, 111, 112, 113, 114, 115, 116, 117, 118, 119, 120, 121, 122, 123, 124, 125, 126, 127, 128, 129, 130, 131, 132, 133, 134, 135, 136, 137, 138, 139, 140, 141, 142, 143, 144, 145, 146, 147, 148, 149, 150, 151, 152, 153, 154, 155, 156, 157, 158, 159, 160, 161, 162, 163, 164, 165, 166, 167, 168, 169, 170, 171, 172, 173, 174, 175, 176, 177, 178, 179, 180, 181, 182, 183, 184, 185, 186, 187, 188, 189, 190, 191, 192, 193, 194, 195, 196, 197, 198, 199, 200, 201, 202, 203, 204, 205, 206, 207, 208, 209, 210, 211, 212, 213, 214, 215, 216, 217, 218, 219, 220, 221, 222, 223, 224, 225, 226, 227, 228, 229, 230, 231, 232, 233, 234, 235, 236, 237, 238, 239, 240, 241, 242, 243, 244, 245, 246, 247, 248, 249, 250}\n",
      "{1, 98, 5, 6, 9, 14, 15, 18, 20, 21, 22, 88, 26, 27, 28, 30}\n",
      "maxlap: 250\n"
     ]
    },
    {
     "data": {
      "image/png": "[encoded data removed]",
      "text/plain": [
       "<Figure size 720x288 with 2 Axes>"
      ]
     },
     "metadata": {
      "needs_background": "light"
     },
     "output_type": "display_data"
    }
   ],
   "source": [
    "drawacar('Phoenix-2018', carno=1)"
   ]
  },
  {
   "cell_type": "code",
   "execution_count": 51,
   "metadata": {},
   "outputs": [
    {
     "name": "stdout",
     "output_type": "stream",
     "text": [
      "carno: {2, 4, 5, 7, 9, 10, 12, 14, 15, 18, 19, 20, 21, 22, 23, 26, 27, 28, 30, 59, 88, 98}\n",
      "laps: {0, 1, 2, 3, 4, 5, 6, 7, 8, 9, 10, 11, 12, 13, 14, 15, 16, 17, 18, 19, 20, 21, 22, 23, 24, 25, 26, 27, 28, 29, 30, 31, 32, 33, 34, 35, 36, 37, 38, 39, 40, 41, 42, 43, 44, 45, 46, 47, 48, 49, 50, 51, 52, 53, 54, 55, 56, 57, 58, 59, 60, 61, 62, 63, 64, 65, 66, 67, 68, 69, 70, 71, 72, 73, 74, 75, 76, 77, 78, 79, 80, 81, 82, 83, 84, 85, 86, 87, 88, 89, 90, 91, 92, 93, 94, 95, 96, 97, 98, 99, 100, 101, 102, 103, 104, 105, 106, 107, 108, 109, 110, 111, 112, 113, 114, 115, 116, 117, 118, 119, 120, 121, 122, 123, 124, 125, 126, 127, 128, 129, 130, 131, 132, 133, 134, 135, 136, 137, 138, 139, 140, 141, 142, 143, 144, 145, 146, 147, 148, 149, 150, 151, 152, 153, 154, 155, 156, 157, 158, 159, 160, 161, 162, 163, 164, 165, 166, 167, 168, 169, 170, 171, 172, 173, 174, 175, 176, 177, 178, 179, 180, 181, 182, 183, 184, 185, 186, 187, 188, 189, 190, 191, 192, 193, 194, 195, 196, 197, 198, 199, 200, 201, 202, 203, 204, 205, 206, 207, 208, 209, 210, 211, 212, 213, 214, 215, 216, 217, 218, 219, 220, 221, 222, 223, 224, 225, 226, 227, 228, 229, 230, 231, 232, 233, 234, 235, 236, 237, 238, 239, 240, 241, 242, 243, 244, 245, 246, 247, 248}\n",
      "{2, 98, 7, 59, 12, 15, 18, 19, 22, 27, 28}\n",
      "maxlap: 248\n"
     ]
    },
    {
     "data": {
      "image/png": "[encoded data removed]",
      "text/plain": [
       "<Figure size 720x288 with 2 Axes>"
      ]
     },
     "metadata": {
      "needs_background": "light"
     },
     "output_type": "display_data"
    }
   ],
   "source": [
    "drawacar('Texas-2019', carno=2)"
   ]
  },
  {
   "cell_type": "code",
   "execution_count": 55,
   "metadata": {},
   "outputs": [
    {
     "name": "stdout",
     "output_type": "stream",
     "text": [
      "carno: {2, 3, 4, 5, 7, 9, 10, 12, 14, 15, 18, 19, 20, 21, 22, 23, 24, 25, 26, 27, 28, 30, 32, 33, 39, 42, 48, 60, 63, 77, 81, 88, 98}\n",
      "laps: {0, 1, 2, 3, 4, 5, 6, 7, 8, 9, 10, 11, 12, 13, 14, 15, 16, 17, 18, 19, 20, 21, 22, 23, 24, 25, 26, 27, 28, 29, 30, 31, 32, 33, 34, 35, 36, 37, 38, 39, 40, 41, 42, 43, 44, 45, 46, 47, 48, 49, 50, 51, 52, 53, 54, 55, 56, 57, 58, 59, 60, 61, 62, 63, 64, 65, 66, 67, 68, 69, 70, 71, 72, 73, 74, 75, 76, 77, 78, 79, 80, 81, 82, 83, 84, 85, 86, 87, 88, 89, 90, 91, 92, 93, 94, 95, 96, 97, 98, 99, 100, 101, 102, 103, 104, 105, 106, 107, 108, 109, 110, 111, 112, 113, 114, 115, 116, 117, 118, 119, 120, 121, 122, 123, 124, 125, 126, 127, 128, 129, 130, 131, 132, 133, 134, 135, 136, 137, 138, 139, 140, 141, 142, 143, 144, 145, 146, 147, 148, 149, 150, 151, 152, 153, 154, 155, 156, 157, 158, 159, 160, 161, 162, 163, 164, 165, 166, 167, 168, 169, 170, 171, 172, 173, 174, 175, 176, 177, 178, 179, 180, 181, 182, 183, 184, 185, 186, 187, 188, 189, 190, 191, 192, 193, 194, 195, 196, 197, 198, 199, 200}\n",
      "{2, 3, 4, 5, 9, 12, 14, 19, 20, 21, 22, 24, 25, 27, 28, 30, 33, 39, 48, 60, 63, 77}\n",
      "maxlap: 200\n"
     ]
    },
    {
     "data": {
      "image/png": "[encoded data removed]",
      "text/plain": [
       "<Figure size 720x288 with 2 Axes>"
      ]
     },
     "metadata": {
      "needs_background": "light"
     },
     "output_type": "display_data"
    }
   ],
   "source": [
    "drawacar('Indy500-2019', carno=12)"
   ]
  },
  {
   "cell_type": "code",
   "execution_count": null,
   "metadata": {},
   "outputs": [],
   "source": []
  }
 ],
 "metadata": {
  "kernelspec": {
   "display_name": "Python 3",
   "language": "python",
   "name": "python3"
  },
  "language_info": {
   "codemirror_mode": {
    "name": "ipython",
    "version": 3
   },
   "file_extension": ".py",
   "mimetype": "text/x-python",
   "name": "python",
   "nbconvert_exporter": "python",
   "pygments_lexer": "ipython3",
   "version": "3.6.10"
  }
 },
 "nbformat": 4,
 "nbformat_minor": 2
}
