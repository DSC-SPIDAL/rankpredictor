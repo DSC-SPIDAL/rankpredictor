{
 "cells": [
  {
   "cell_type": "code",
   "execution_count": 36,
   "metadata": {},
   "outputs": [],
   "source": [
    "from mxnet import nd\n",
    "import mxnet.symbol as F"
   ]
  },
  {
   "cell_type": "code",
   "execution_count": 12,
   "metadata": {},
   "outputs": [],
   "source": [
    "a = nd.ones((32,12,1))"
   ]
  },
  {
   "cell_type": "code",
   "execution_count": 13,
   "metadata": {},
   "outputs": [],
   "source": [
    "a[:,5,0] = 3\n",
    "a[0,12,0] = 4\n"
   ]
  },
  {
   "cell_type": "code",
   "execution_count": 14,
   "metadata": {},
   "outputs": [],
   "source": [
    "c = a[:,2:,0] - a[:,:-2,0]"
   ]
  },
  {
   "cell_type": "code",
   "execution_count": 17,
   "metadata": {},
   "outputs": [
    {
     "data": {
      "text/plain": [
       "\n",
       "[3. 3. 3. 3. 3. 3. 3. 3. 3. 3. 3. 3. 3. 3. 3. 3. 3. 3. 3. 3. 3. 3. 3. 3.\n",
       " 3. 3. 3. 3. 3. 3. 3. 3.]\n",
       "<NDArray 32 @cpu(0)>"
      ]
     },
     "execution_count": 17,
     "metadata": {},
     "output_type": "execute_result"
    }
   ],
   "source": [
    "a[:,5,0]"
   ]
  },
  {
   "cell_type": "code",
   "execution_count": 19,
   "metadata": {},
   "outputs": [
    {
     "data": {
      "text/plain": [
       "(32, 10)"
      ]
     },
     "execution_count": 19,
     "metadata": {},
     "output_type": "execute_result"
    }
   ],
   "source": [
    "c.shape"
   ]
  },
  {
   "cell_type": "code",
   "execution_count": 20,
   "metadata": {},
   "outputs": [
    {
     "data": {
      "text/plain": [
       "\n",
       "[[1. 1. 1. 3. 1. 1. 1. 1. 1. 1.]\n",
       " [1. 1. 1. 3. 1. 1. 1. 1. 1. 1.]\n",
       " [1. 1. 1. 3. 1. 1. 1. 1. 1. 1.]\n",
       " [1. 1. 1. 3. 1. 1. 1. 1. 1. 1.]\n",
       " [1. 1. 1. 3. 1. 1. 1. 1. 1. 1.]\n",
       " [1. 1. 1. 3. 1. 1. 1. 1. 1. 1.]\n",
       " [1. 1. 1. 3. 1. 1. 1. 1. 1. 1.]\n",
       " [1. 1. 1. 3. 1. 1. 1. 1. 1. 1.]\n",
       " [1. 1. 1. 3. 1. 1. 1. 1. 1. 1.]\n",
       " [1. 1. 1. 3. 1. 1. 1. 1. 1. 1.]\n",
       " [1. 1. 1. 3. 1. 1. 1. 1. 1. 1.]\n",
       " [1. 1. 1. 3. 1. 1. 1. 1. 1. 1.]\n",
       " [1. 1. 1. 3. 1. 1. 1. 1. 1. 1.]\n",
       " [1. 1. 1. 3. 1. 1. 1. 1. 1. 1.]\n",
       " [1. 1. 1. 3. 1. 1. 1. 1. 1. 1.]\n",
       " [1. 1. 1. 3. 1. 1. 1. 1. 1. 1.]\n",
       " [1. 1. 1. 3. 1. 1. 1. 1. 1. 1.]\n",
       " [1. 1. 1. 3. 1. 1. 1. 1. 1. 1.]\n",
       " [1. 1. 1. 3. 1. 1. 1. 1. 1. 1.]\n",
       " [1. 1. 1. 3. 1. 1. 1. 1. 1. 1.]\n",
       " [1. 1. 1. 3. 1. 1. 1. 1. 1. 1.]\n",
       " [1. 1. 1. 3. 1. 1. 1. 1. 1. 1.]\n",
       " [1. 1. 1. 3. 1. 1. 1. 1. 1. 1.]\n",
       " [1. 1. 1. 3. 1. 1. 1. 1. 1. 1.]\n",
       " [1. 1. 1. 3. 1. 1. 1. 1. 1. 1.]\n",
       " [1. 1. 1. 3. 1. 1. 1. 1. 1. 1.]\n",
       " [1. 1. 1. 3. 1. 1. 1. 1. 1. 1.]\n",
       " [1. 1. 1. 3. 1. 1. 1. 1. 1. 1.]\n",
       " [1. 1. 1. 3. 1. 1. 1. 1. 1. 1.]\n",
       " [1. 1. 1. 3. 1. 1. 1. 1. 1. 1.]\n",
       " [1. 1. 1. 3. 1. 1. 1. 1. 1. 1.]\n",
       " [1. 1. 1. 3. 1. 1. 1. 1. 1. 1.]]\n",
       "<NDArray 32x10 @cpu(0)>"
      ]
     },
     "execution_count": 20,
     "metadata": {},
     "output_type": "execute_result"
    }
   ],
   "source": [
    "a[:,2:,0]"
   ]
  },
  {
   "cell_type": "code",
   "execution_count": 21,
   "metadata": {},
   "outputs": [
    {
     "data": {
      "text/plain": [
       "\n",
       "[[1. 1. 1. 1. 1. 3. 1. 1. 1. 1.]\n",
       " [1. 1. 1. 1. 1. 3. 1. 1. 1. 1.]\n",
       " [1. 1. 1. 1. 1. 3. 1. 1. 1. 1.]\n",
       " [1. 1. 1. 1. 1. 3. 1. 1. 1. 1.]\n",
       " [1. 1. 1. 1. 1. 3. 1. 1. 1. 1.]\n",
       " [1. 1. 1. 1. 1. 3. 1. 1. 1. 1.]\n",
       " [1. 1. 1. 1. 1. 3. 1. 1. 1. 1.]\n",
       " [1. 1. 1. 1. 1. 3. 1. 1. 1. 1.]\n",
       " [1. 1. 1. 1. 1. 3. 1. 1. 1. 1.]\n",
       " [1. 1. 1. 1. 1. 3. 1. 1. 1. 1.]\n",
       " [1. 1. 1. 1. 1. 3. 1. 1. 1. 1.]\n",
       " [1. 1. 1. 1. 1. 3. 1. 1. 1. 1.]\n",
       " [1. 1. 1. 1. 1. 3. 1. 1. 1. 1.]\n",
       " [1. 1. 1. 1. 1. 3. 1. 1. 1. 1.]\n",
       " [1. 1. 1. 1. 1. 3. 1. 1. 1. 1.]\n",
       " [1. 1. 1. 1. 1. 3. 1. 1. 1. 1.]\n",
       " [1. 1. 1. 1. 1. 3. 1. 1. 1. 1.]\n",
       " [1. 1. 1. 1. 1. 3. 1. 1. 1. 1.]\n",
       " [1. 1. 1. 1. 1. 3. 1. 1. 1. 1.]\n",
       " [1. 1. 1. 1. 1. 3. 1. 1. 1. 1.]\n",
       " [1. 1. 1. 1. 1. 3. 1. 1. 1. 1.]\n",
       " [1. 1. 1. 1. 1. 3. 1. 1. 1. 1.]\n",
       " [1. 1. 1. 1. 1. 3. 1. 1. 1. 1.]\n",
       " [1. 1. 1. 1. 1. 3. 1. 1. 1. 1.]\n",
       " [1. 1. 1. 1. 1. 3. 1. 1. 1. 1.]\n",
       " [1. 1. 1. 1. 1. 3. 1. 1. 1. 1.]\n",
       " [1. 1. 1. 1. 1. 3. 1. 1. 1. 1.]\n",
       " [1. 1. 1. 1. 1. 3. 1. 1. 1. 1.]\n",
       " [1. 1. 1. 1. 1. 3. 1. 1. 1. 1.]\n",
       " [1. 1. 1. 1. 1. 3. 1. 1. 1. 1.]\n",
       " [1. 1. 1. 1. 1. 3. 1. 1. 1. 1.]\n",
       " [1. 1. 1. 1. 1. 3. 1. 1. 1. 1.]]\n",
       "<NDArray 32x10 @cpu(0)>"
      ]
     },
     "execution_count": 21,
     "metadata": {},
     "output_type": "execute_result"
    }
   ],
   "source": [
    " a[:,:-2,0]"
   ]
  },
  {
   "cell_type": "code",
   "execution_count": 33,
   "metadata": {},
   "outputs": [
    {
     "data": {
      "text/plain": [
       "\n",
       "[[ 0.  0.  0.  2.  0. -2.  0.  0.  0.  0.]\n",
       " [ 0.  0.  0.  2.  0. -2.  0.  0.  0.  0.]\n",
       " [ 0.  0.  0.  2.  0. -2.  0.  0.  0.  0.]\n",
       " [ 0.  0.  0.  2.  0. -2.  0.  0.  0.  0.]\n",
       " [ 0.  0.  0.  2.  0. -2.  0.  0.  0.  0.]\n",
       " [ 0.  0.  0.  2.  0. -2.  0.  0.  0.  0.]\n",
       " [ 0.  0.  0.  2.  0. -2.  0.  0.  0.  0.]\n",
       " [ 0.  0.  0.  2.  0. -2.  0.  0.  0.  0.]\n",
       " [ 0.  0.  0.  2.  0. -2.  0.  0.  0.  0.]\n",
       " [ 0.  0.  0.  2.  0. -2.  0.  0.  0.  0.]\n",
       " [ 0.  0.  0.  2.  0. -2.  0.  0.  0.  0.]\n",
       " [ 0.  0.  0.  2.  0. -2.  0.  0.  0.  0.]\n",
       " [ 0.  0.  0.  2.  0. -2.  0.  0.  0.  0.]\n",
       " [ 0.  0.  0.  2.  0. -2.  0.  0.  0.  0.]\n",
       " [ 0.  0.  0.  2.  0. -2.  0.  0.  0.  0.]\n",
       " [ 0.  0.  0.  2.  0. -2.  0.  0.  0.  0.]\n",
       " [ 0.  0.  0.  2.  0. -2.  0.  0.  0.  0.]\n",
       " [ 0.  0.  0.  2.  0. -2.  0.  0.  0.  0.]\n",
       " [ 0.  0.  0.  2.  0. -2.  0.  0.  0.  0.]\n",
       " [ 0.  0.  0.  2.  0. -2.  0.  0.  0.  0.]\n",
       " [ 0.  0.  0.  2.  0. -2.  0.  0.  0.  0.]\n",
       " [ 0.  0.  0.  2.  0. -2.  0.  0.  0.  0.]\n",
       " [ 0.  0.  0.  2.  0. -2.  0.  0.  0.  0.]\n",
       " [ 0.  0.  0.  2.  0. -2.  0.  0.  0.  0.]\n",
       " [ 0.  0.  0.  2.  0. -2.  0.  0.  0.  0.]\n",
       " [ 0.  0.  0.  2.  0. -2.  0.  0.  0.  0.]\n",
       " [ 0.  0.  0.  2.  0. -2.  0.  0.  0.  0.]\n",
       " [ 0.  0.  0.  2.  0. -2.  0.  0.  0.  0.]\n",
       " [ 0.  0.  0.  2.  0. -2.  0.  0.  0.  0.]\n",
       " [ 0.  0.  0.  2.  0. -2.  0.  0.  0.  0.]\n",
       " [ 0.  0.  0.  2.  0. -2.  0.  0.  0.  0.]\n",
       " [ 0.  0.  0.  2.  0. -2.  0.  0.  0.  0.]]\n",
       "<NDArray 32x10 @cpu(0)>"
      ]
     },
     "execution_count": 33,
     "metadata": {},
     "output_type": "execute_result"
    }
   ],
   "source": [
    "c = a[:,2:,0] - a[:,:-2,0]\n",
    "c"
   ]
  },
  {
   "cell_type": "code",
   "execution_count": 34,
   "metadata": {},
   "outputs": [
    {
     "data": {
      "text/plain": [
       "\n",
       "[[1. 1. 1. 9. 1. 9. 1. 1. 1. 1.]\n",
       " [1. 1. 1. 9. 1. 9. 1. 1. 1. 1.]\n",
       " [1. 1. 1. 9. 1. 9. 1. 1. 1. 1.]\n",
       " [1. 1. 1. 9. 1. 9. 1. 1. 1. 1.]\n",
       " [1. 1. 1. 9. 1. 9. 1. 1. 1. 1.]\n",
       " [1. 1. 1. 9. 1. 9. 1. 1. 1. 1.]\n",
       " [1. 1. 1. 9. 1. 9. 1. 1. 1. 1.]\n",
       " [1. 1. 1. 9. 1. 9. 1. 1. 1. 1.]\n",
       " [1. 1. 1. 9. 1. 9. 1. 1. 1. 1.]\n",
       " [1. 1. 1. 9. 1. 9. 1. 1. 1. 1.]\n",
       " [1. 1. 1. 9. 1. 9. 1. 1. 1. 1.]\n",
       " [1. 1. 1. 9. 1. 9. 1. 1. 1. 1.]\n",
       " [1. 1. 1. 9. 1. 9. 1. 1. 1. 1.]\n",
       " [1. 1. 1. 9. 1. 9. 1. 1. 1. 1.]\n",
       " [1. 1. 1. 9. 1. 9. 1. 1. 1. 1.]\n",
       " [1. 1. 1. 9. 1. 9. 1. 1. 1. 1.]\n",
       " [1. 1. 1. 9. 1. 9. 1. 1. 1. 1.]\n",
       " [1. 1. 1. 9. 1. 9. 1. 1. 1. 1.]\n",
       " [1. 1. 1. 9. 1. 9. 1. 1. 1. 1.]\n",
       " [1. 1. 1. 9. 1. 9. 1. 1. 1. 1.]\n",
       " [1. 1. 1. 9. 1. 9. 1. 1. 1. 1.]\n",
       " [1. 1. 1. 9. 1. 9. 1. 1. 1. 1.]\n",
       " [1. 1. 1. 9. 1. 9. 1. 1. 1. 1.]\n",
       " [1. 1. 1. 9. 1. 9. 1. 1. 1. 1.]\n",
       " [1. 1. 1. 9. 1. 9. 1. 1. 1. 1.]\n",
       " [1. 1. 1. 9. 1. 9. 1. 1. 1. 1.]\n",
       " [1. 1. 1. 9. 1. 9. 1. 1. 1. 1.]\n",
       " [1. 1. 1. 9. 1. 9. 1. 1. 1. 1.]\n",
       " [1. 1. 1. 9. 1. 9. 1. 1. 1. 1.]\n",
       " [1. 1. 1. 9. 1. 9. 1. 1. 1. 1.]\n",
       " [1. 1. 1. 9. 1. 9. 1. 1. 1. 1.]\n",
       " [1. 1. 1. 9. 1. 9. 1. 1. 1. 1.]]\n",
       "<NDArray 32x10 @cpu(0)>"
      ]
     },
     "execution_count": 34,
     "metadata": {},
     "output_type": "execute_result"
    }
   ],
   "source": [
    "w1 = nd.ones_like(c)\n",
    "w9 = nd.ones_like(c)*9\n",
    "nd.where(c==0,w1,w9)"
   ]
  },
  {
   "cell_type": "code",
   "execution_count": 37,
   "metadata": {},
   "outputs": [
    {
     "data": {
      "text/plain": [
       "(32, 10)"
      ]
     },
     "execution_count": 37,
     "metadata": {},
     "output_type": "execute_result"
    }
   ],
   "source": [
    "c.shape"
   ]
  },
  {
   "cell_type": "markdown",
   "metadata": {},
   "source": [
    "## symbol api"
   ]
  },
  {
   "cell_type": "code",
   "execution_count": 46,
   "metadata": {},
   "outputs": [
    {
     "ename": "TypeError",
     "evalue": "Expect a string for variable `name`",
     "output_type": "error",
     "traceback": [
      "\u001b[0;31m---------------------------------------------------------------------------\u001b[0m",
      "\u001b[0;31mTypeError\u001b[0m                                 Traceback (most recent call last)",
      "\u001b[0;32m<ipython-input-46-2f9bb86a24d5>\u001b[0m in \u001b[0;36m<module>\u001b[0;34m\u001b[0m\n\u001b[1;32m      3\u001b[0m \u001b[0mb\u001b[0m \u001b[0;34m=\u001b[0m \u001b[0mnd\u001b[0m\u001b[0;34m.\u001b[0m\u001b[0mones\u001b[0m\u001b[0;34m(\u001b[0m\u001b[0;34m(\u001b[0m\u001b[0;36m12\u001b[0m\u001b[0;34m)\u001b[0m\u001b[0;34m)\u001b[0m\u001b[0;34m\u001b[0m\u001b[0;34m\u001b[0m\u001b[0m\n\u001b[1;32m      4\u001b[0m \u001b[0mb\u001b[0m\u001b[0;34m[\u001b[0m\u001b[0;36m3\u001b[0m\u001b[0;34m]\u001b[0m \u001b[0;34m=\u001b[0m \u001b[0;36m0\u001b[0m\u001b[0;34m\u001b[0m\u001b[0;34m\u001b[0m\u001b[0m\n\u001b[0;32m----> 5\u001b[0;31m \u001b[0md\u001b[0m \u001b[0;34m=\u001b[0m \u001b[0mF\u001b[0m\u001b[0;34m.\u001b[0m\u001b[0mVariable\u001b[0m\u001b[0;34m(\u001b[0m\u001b[0mb\u001b[0m\u001b[0;34m)\u001b[0m\u001b[0;34m\u001b[0m\u001b[0;34m\u001b[0m\u001b[0m\n\u001b[0m",
      "\u001b[0;32m/scratch_ssd/hpda/anaconda3/envs/gluonts/lib/python3.6/site-packages/mxnet/symbol/symbol.py\u001b[0m in \u001b[0;36mvar\u001b[0;34m(name, attr, shape, lr_mult, wd_mult, dtype, init, stype, **kwargs)\u001b[0m\n\u001b[1;32m   2523\u001b[0m     \"\"\"\n\u001b[1;32m   2524\u001b[0m     \u001b[0;32mif\u001b[0m \u001b[0;32mnot\u001b[0m \u001b[0misinstance\u001b[0m\u001b[0;34m(\u001b[0m\u001b[0mname\u001b[0m\u001b[0;34m,\u001b[0m \u001b[0mstring_types\u001b[0m\u001b[0;34m)\u001b[0m\u001b[0;34m:\u001b[0m\u001b[0;34m\u001b[0m\u001b[0;34m\u001b[0m\u001b[0m\n\u001b[0;32m-> 2525\u001b[0;31m         \u001b[0;32mraise\u001b[0m \u001b[0mTypeError\u001b[0m\u001b[0;34m(\u001b[0m\u001b[0;34m'Expect a string for variable `name`'\u001b[0m\u001b[0;34m)\u001b[0m\u001b[0;34m\u001b[0m\u001b[0;34m\u001b[0m\u001b[0m\n\u001b[0m\u001b[1;32m   2526\u001b[0m     \u001b[0mhandle\u001b[0m \u001b[0;34m=\u001b[0m \u001b[0mSymbolHandle\u001b[0m\u001b[0;34m(\u001b[0m\u001b[0;34m)\u001b[0m\u001b[0;34m\u001b[0m\u001b[0;34m\u001b[0m\u001b[0m\n\u001b[1;32m   2527\u001b[0m     \u001b[0mcheck_call\u001b[0m\u001b[0;34m(\u001b[0m\u001b[0m_LIB\u001b[0m\u001b[0;34m.\u001b[0m\u001b[0mMXSymbolCreateVariable\u001b[0m\u001b[0;34m(\u001b[0m\u001b[0mc_str\u001b[0m\u001b[0;34m(\u001b[0m\u001b[0mname\u001b[0m\u001b[0;34m)\u001b[0m\u001b[0;34m,\u001b[0m \u001b[0mctypes\u001b[0m\u001b[0;34m.\u001b[0m\u001b[0mbyref\u001b[0m\u001b[0;34m(\u001b[0m\u001b[0mhandle\u001b[0m\u001b[0;34m)\u001b[0m\u001b[0;34m)\u001b[0m\u001b[0;34m)\u001b[0m\u001b[0;34m\u001b[0m\u001b[0;34m\u001b[0m\u001b[0m\n",
      "\u001b[0;31mTypeError\u001b[0m: Expect a string for variable `name`"
     ]
    }
   ],
   "source": [
    "a = F.ones((3,12))\n",
    "c = F.ones((3,12))*9\n",
    "b = nd.ones((12))\n",
    "b[3] = 0\n",
    "d = F.Variable(b)"
   ]
  },
  {
   "cell_type": "code",
   "execution_count": 44,
   "metadata": {},
   "outputs": [
    {
     "ename": "AssertionError",
     "evalue": "Argument condition must be Symbol instances, but got \n[0. 0. 0. 1. 0. 0. 0. 0. 0. 0. 0. 0.]\n<NDArray 12 @cpu(0)>",
     "output_type": "error",
     "traceback": [
      "\u001b[0;31m---------------------------------------------------------------------------\u001b[0m",
      "\u001b[0;31mAssertionError\u001b[0m                            Traceback (most recent call last)",
      "\u001b[0;32m<ipython-input-44-e6e68401eec1>\u001b[0m in \u001b[0;36m<module>\u001b[0;34m\u001b[0m\n\u001b[0;32m----> 1\u001b[0;31m \u001b[0mF\u001b[0m\u001b[0;34m.\u001b[0m\u001b[0mwhere\u001b[0m\u001b[0;34m(\u001b[0m\u001b[0mb\u001b[0m\u001b[0;34m==\u001b[0m\u001b[0;36m0\u001b[0m\u001b[0;34m,\u001b[0m \u001b[0mc\u001b[0m\u001b[0;34m,\u001b[0m\u001b[0ma\u001b[0m\u001b[0;34m)\u001b[0m\u001b[0;34m\u001b[0m\u001b[0;34m\u001b[0m\u001b[0m\n\u001b[0m",
      "\u001b[0;32m/scratch_ssd/hpda/anaconda3/envs/gluonts/lib/python3.6/site-packages/mxnet/symbol/register.py\u001b[0m in \u001b[0;36mwhere\u001b[0;34m(condition, x, y, name, attr, out, **kwargs)\u001b[0m\n",
      "\u001b[0;31mAssertionError\u001b[0m: Argument condition must be Symbol instances, but got \n[0. 0. 0. 1. 0. 0. 0. 0. 0. 0. 0. 0.]\n<NDArray 12 @cpu(0)>"
     ]
    }
   ],
   "source": [
    "F.where(b==0, c,a)"
   ]
  },
  {
   "cell_type": "code",
   "execution_count": 47,
   "metadata": {},
   "outputs": [
    {
     "ename": "AssertionError",
     "evalue": "Argument data must be Symbol instances, but got [[1.0, 2.0, 3.0, 4.0], [5.0, 6.0, 7.0, 8.0], [9.0, 10.0, 11.0, 12.0]]",
     "output_type": "error",
     "traceback": [
      "\u001b[0;31m---------------------------------------------------------------------------\u001b[0m",
      "\u001b[0;31mAssertionError\u001b[0m                            Traceback (most recent call last)",
      "\u001b[0;32m<ipython-input-47-4401d10b6e2b>\u001b[0m in \u001b[0;36m<module>\u001b[0;34m\u001b[0m\n\u001b[1;32m      2\u001b[0m      \u001b[0;34m[\u001b[0m  \u001b[0;36m5.\u001b[0m\u001b[0;34m,\u001b[0m   \u001b[0;36m6.\u001b[0m\u001b[0;34m,\u001b[0m   \u001b[0;36m7.\u001b[0m\u001b[0;34m,\u001b[0m   \u001b[0;36m8.\u001b[0m\u001b[0;34m]\u001b[0m\u001b[0;34m,\u001b[0m\u001b[0;34m\u001b[0m\u001b[0;34m\u001b[0m\u001b[0m\n\u001b[1;32m      3\u001b[0m      [  9.,  10.,  11.,  12.]]\n\u001b[0;32m----> 4\u001b[0;31m \u001b[0mF\u001b[0m\u001b[0;34m.\u001b[0m\u001b[0mslice_axis\u001b[0m\u001b[0;34m(\u001b[0m\u001b[0mx\u001b[0m\u001b[0;34m,\u001b[0m \u001b[0maxis\u001b[0m\u001b[0;34m=\u001b[0m\u001b[0;36m0\u001b[0m\u001b[0;34m,\u001b[0m \u001b[0mbegin\u001b[0m\u001b[0;34m=\u001b[0m\u001b[0;36m1\u001b[0m\u001b[0;34m,\u001b[0m \u001b[0mend\u001b[0m\u001b[0;34m=\u001b[0m\u001b[0;36m3\u001b[0m\u001b[0;34m)\u001b[0m\u001b[0;34m\u001b[0m\u001b[0;34m\u001b[0m\u001b[0m\n\u001b[0m",
      "\u001b[0;32m/scratch_ssd/hpda/anaconda3/envs/gluonts/lib/python3.6/site-packages/mxnet/symbol/register.py\u001b[0m in \u001b[0;36mslice_axis\u001b[0;34m(data, axis, begin, end, name, attr, out, **kwargs)\u001b[0m\n",
      "\u001b[0;31mAssertionError\u001b[0m: Argument data must be Symbol instances, but got [[1.0, 2.0, 3.0, 4.0], [5.0, 6.0, 7.0, 8.0], [9.0, 10.0, 11.0, 12.0]]"
     ]
    }
   ],
   "source": [
    "x = [[  1.,   2.,   3.,   4.],\n",
    "     [  5.,   6.,   7.,   8.],\n",
    "     [  9.,  10.,  11.,  12.]]\n",
    "F.slice_axis(x, axis=0, begin=1, end=3)"
   ]
  },
  {
   "cell_type": "code",
   "execution_count": 61,
   "metadata": {},
   "outputs": [
    {
     "data": {
      "text/plain": [
       "[\n",
       " [[ 1.  1.  3.  4.]\n",
       "  [ 5.  5.  5.  8.]\n",
       "  [ 9. 10. 10. 10.]]\n",
       " <NDArray 3x4 @cpu(0)>]"
      ]
     },
     "execution_count": 61,
     "metadata": {},
     "output_type": "execute_result"
    }
   ],
   "source": [
    "import mxnet as mx\n",
    "import numpy as np\n",
    "\n",
    "x = np.array([[  1.,   1.,   3.,   4.],\n",
    "     [  5.,   5.,   5.,   8.],\n",
    "     [  9.,  10.,  10.,  10.]])\n",
    "\n",
    "a = mx.sym.Variable('A')\n",
    "w1 = mx.sym.Variable('w1')\n",
    "w9  = mx.sym.Variable('w9')\n",
    "executor = a.simple_bind(ctx=mx.cpu(), A=(3,4))\n",
    "#executor.forward(A=np.ones((3,12)))\n",
    "executor.forward(A=x)"
   ]
  },
  {
   "cell_type": "code",
   "execution_count": 62,
   "metadata": {},
   "outputs": [],
   "source": [
    "r = F.slice_axis(a, axis=1, begin=2, end=None)\n",
    "l = F.slice_axis(a, axis=1, begin=0, end=-2)\n",
    "w1 = F.ones_like(r)\n",
    "w9 = F.ones_like(r)*9\n",
    "w = F.where(r==l, w1, w9)"
   ]
  },
  {
   "cell_type": "code",
   "execution_count": 71,
   "metadata": {},
   "outputs": [
    {
     "data": {
      "text/plain": [
       "[\n",
       " [[1. 1. 9. 9.]\n",
       "  [1. 1. 1. 9.]\n",
       "  [1. 1. 9. 1.]]\n",
       " <NDArray 3x4 @cpu(0)>]"
      ]
     },
     "execution_count": 71,
     "metadata": {},
     "output_type": "execute_result"
    }
   ],
   "source": [
    "executor = w0.simple_bind(ctx=mx.cpu(), A=(3,4))\n",
    "#executor.forward(A=np.ones((3,12)))\n",
    "executor.forward(A=x)"
   ]
  },
  {
   "cell_type": "code",
   "execution_count": 70,
   "metadata": {},
   "outputs": [],
   "source": [
    "s = F.slice_axis(a, axis=1, begin=0, end=2)\n",
    "z = F.ones_like(s)\n",
    "w0 = F.concat(z, w)"
   ]
  },
  {
   "cell_type": "code",
   "execution_count": null,
   "metadata": {},
   "outputs": [],
   "source": []
  }
 ],
 "metadata": {
  "kernelspec": {
   "display_name": "Python 3",
   "language": "python",
   "name": "python3"
  },
  "language_info": {
   "codemirror_mode": {
    "name": "ipython",
    "version": 3
   },
   "file_extension": ".py",
   "mimetype": "text/x-python",
   "name": "python",
   "nbconvert_exporter": "python",
   "pygments_lexer": "ipython3",
   "version": "3.6.10"
  }
 },
 "nbformat": 4,
 "nbformat_minor": 4
}
