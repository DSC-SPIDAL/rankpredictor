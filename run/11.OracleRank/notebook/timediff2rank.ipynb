{
 "cells": [
  {
   "cell_type": "markdown",
   "metadata": {},
   "source": [
    "## timediff2Rank\n",
    "\n",
    "basedon: 11.OracleRank/laptime_rank_timediff_dataset-oracle.ipynb\n",
    "\n",
    "rank prediction by timediff forecasting models"
   ]
  },
  {
   "cell_type": "code",
   "execution_count": 1,
   "metadata": {},
   "outputs": [
    {
     "name": "stderr",
     "output_type": "stream",
     "text": [
      "INFO:root:Using GPU\n",
      "INFO:root:Using GPU\n",
      "INFO:root:Using GPU\n",
      "INFO:root:Using GPU\n",
      "ERROR:fbprophet:Importing plotly failed. Interactive plots will not work.\n"
     ]
    }
   ],
   "source": [
    "%matplotlib inline\n",
    "import pandas as pd\n",
    "import numpy as np\n",
    "import matplotlib.pyplot as plt\n",
    "import os\n",
    "import mxnet as mx\n",
    "from mxnet import gluon\n",
    "import pickle\n",
    "import json\n",
    "from gluonts.dataset.common import ListDataset\n",
    "from gluonts.dataset.util import to_pandas\n",
    "from pathlib import Path\n",
    "from gluonts.model.deepar import DeepAREstimator\n",
    "from gluonts.model.deep_factor import DeepFactorEstimator\n",
    "from gluonts.model.deepstate import DeepStateEstimator\n",
    "from gluonts.trainer import Trainer\n",
    "from gluonts.model.simple_feedforward import SimpleFeedForwardEstimator\n",
    "from gluonts.evaluation.backtest import make_evaluation_predictions\n",
    "from gluonts.evaluation import Evaluator, MultivariateEvaluator\n",
    "from gluonts.distribution.multivariate_gaussian import MultivariateGaussianOutput\n",
    "from gluonts.model.predictor import Predictor\n",
    "from gluonts.model.prophet import ProphetPredictor\n",
    "from gluonts.model.r_forecast import RForecastPredictor\n",
    "from indycar.model.NaivePredictor import NaivePredictor\n",
    "from pandas.plotting import register_matplotlib_converters\n",
    "register_matplotlib_converters()"
   ]
  },
  {
   "cell_type": "code",
   "execution_count": 2,
   "metadata": {},
   "outputs": [],
   "source": [
    "import os\n",
    "os.getcwd()\n",
    "GPUID = 1"
   ]
  },
  {
   "cell_type": "markdown",
   "metadata": {},
   "source": [
    "### load time&score data"
   ]
  },
  {
   "cell_type": "code",
   "execution_count": 3,
   "metadata": {},
   "outputs": [],
   "source": [
    "#\n",
    "# parameters\n",
    "#\n",
    "#year = '2017'\n",
    "year = '2018'\n",
    "#event = 'Toronto'\n",
    "#https://www.racing-reference.info/season-stats/2018/O/#\n",
    "events_totalmiles=[256,500,372,268,500,310]\n",
    "events_laplen = [1.022,2.5,1.5,0.894,2.5,1.25]\n",
    "events = ['Phoenix','Indy500','Texas','Iowa','Pocono','Gateway']\n",
    "#events = ['Gateway']\n",
    "\n",
    "#events = ['Indy500']\n",
    "#events = ['Phoenix']\n",
    "events_id={key:idx for idx, key in enumerate(events)}"
   ]
  },
  {
   "cell_type": "code",
   "execution_count": 4,
   "metadata": {},
   "outputs": [],
   "source": [
    "def load_data(event, year):\n",
    "    inputfile = '../data/final/C_'+ event +'-' + year + '-final.csv'\n",
    "    outputprefix = year +'-' + event + '-'\n",
    "    dataset = pd.read_csv(inputfile)\n",
    "    #dataset.info(verbose=True)    \n",
    "    \n",
    "    final_lap = max(dataset.completed_laps)\n",
    "    total_laps = final_lap + 1\n",
    "\n",
    "    # get records for the cars that finish the race\n",
    "    completed_car_numbers= dataset[dataset.completed_laps == final_lap].car_number.values\n",
    "    completed_car_count = len(completed_car_numbers)\n",
    "\n",
    "    print('count of completed cars:', completed_car_count)\n",
    "    print('completed cars:', completed_car_numbers)\n",
    "\n",
    "    #make a copy\n",
    "    alldata = dataset.copy()\n",
    "    dataset = dataset[dataset['car_number'].isin(completed_car_numbers)]\n",
    "    rankdata = alldata.rename_axis('MyIdx').sort_values(by=['elapsed_time','MyIdx'], ascending=True)\n",
    "    rankdata = rankdata.drop_duplicates(subset=['car_number', 'completed_laps'], keep='first')\n",
    "    \n",
    "    cldata = make_cl_data(dataset)\n",
    "    acldata = make_cl_data(alldata)\n",
    "\n",
    "    return alldata, rankdata, acldata\n",
    "\n",
    "# make indy car completed_laps dataset\n",
    "# car_number, completed_laps, rank, elapsed_time, rank_diff, elapsed_time_diff \n",
    "def make_cl_data(dataset):\n",
    "\n",
    "    # pick up data with valid rank\n",
    "    rankdata = dataset.rename_axis('MyIdx').sort_values(by=['elapsed_time','MyIdx'], ascending=True)\n",
    "    rankdata = rankdata.drop_duplicates(subset=['car_number', 'completed_laps'], keep='first')\n",
    "\n",
    "    # resort by car_number, lap\n",
    "    uni_ds = rankdata.sort_values(by=['car_number', 'completed_laps', 'elapsed_time'], ascending=True)    \n",
    "    #uni_ds = uni_ds.drop([\"unique_id\", \"best_lap\", \"current_status\", \"track_status\", \"lap_status\",\n",
    "    #                  \"laps_behind_leade\",\"laps_behind_prec\",\"overall_rank\",\"pit_stop_count\",\n",
    "    #                  \"last_pitted_lap\",\"start_position\",\"laps_led\"], axis=1)\n",
    "    \n",
    "    uni_ds = uni_ds.drop([\"unique_id\", \"best_lap\", \n",
    "                      \"laps_behind_leade\",\"laps_behind_prec\",\"overall_rank\",\"pit_stop_count\",\n",
    "                      \"last_pitted_lap\",\"start_position\",\"laps_led\"], axis=1)\n",
    "        \n",
    "    carnumber = set(uni_ds['car_number'])\n",
    "    print('cars:', carnumber)\n",
    "    print('#cars=', len(carnumber))\n",
    "   \n",
    "    # faster solution , uni_ds already sorted by car_number and lap\n",
    "    uni_ds['rank_diff'] = uni_ds['rank'].diff()\n",
    "    mask = uni_ds.car_number != uni_ds.car_number.shift(1)\n",
    "    uni_ds['rank_diff'][mask] = 0\n",
    "    \n",
    "    uni_ds['time_diff'] = uni_ds['elapsed_time'].diff()\n",
    "    mask = uni_ds.car_number != uni_ds.car_number.shift(1)\n",
    "    uni_ds['time_diff'][mask] = 0\n",
    "    \n",
    "    #df = uni_ds[['car_number','completed_laps','rank','elapsed_time','rank_diff','time_diff']]\n",
    "    #df = uni_ds[['car_number','completed_laps','rank',\n",
    "    #             'rank_diff','time_diff',\"current_status\", \"track_status\", \"lap_status\",'elapsed_time']]\n",
    "    \n",
    "    df = uni_ds[['car_number','completed_laps','time_diff','rank','track_status', 'lap_status','elapsed_time']]\n",
    "    \n",
    "    return df"
   ]
  },
  {
   "cell_type": "code",
   "execution_count": 5,
   "metadata": {},
   "outputs": [
    {
     "name": "stdout",
     "output_type": "stream",
     "text": [
      "count of completed cars: 11\n",
      "completed cars: [ 1  6 27  9 28  5 20 14 15 22 30]\n",
      "cars: {1, 5, 6, 9, 14, 15, 20, 22, 27, 28, 30}\n",
      "#cars= 11\n",
      "cars: {1, 4, 5, 6, 9, 10, 12, 14, 15, 18, 19, 20, 21, 22, 23, 26, 27, 28, 30, 32, 59, 88, 98}\n",
      "#cars= 23\n"
     ]
    },
    {
     "name": "stderr",
     "output_type": "stream",
     "text": [
      "/scratch/hpda/anaconda3/envs/gluonts/lib/python3.6/site-packages/ipykernel_launcher.py:53: SettingWithCopyWarning: \n",
      "A value is trying to be set on a copy of a slice from a DataFrame\n",
      "\n",
      "See the caveats in the documentation: http://pandas.pydata.org/pandas-docs/stable/user_guide/indexing.html#returning-a-view-versus-a-copy\n",
      "/scratch/hpda/anaconda3/envs/gluonts/lib/python3.6/site-packages/ipykernel_launcher.py:57: SettingWithCopyWarning: \n",
      "A value is trying to be set on a copy of a slice from a DataFrame\n",
      "\n",
      "See the caveats in the documentation: http://pandas.pydata.org/pandas-docs/stable/user_guide/indexing.html#returning-a-view-versus-a-copy\n"
     ]
    },
    {
     "name": "stdout",
     "output_type": "stream",
     "text": [
      "Phoenix: carno=23, lapnum=251\n",
      "count of completed cars: 18\n",
      "completed cars: [12 20  9 27 28 22 29  1  6 15 66 98  4 88 25 60 64 23]\n",
      "cars: {64, 1, 66, 98, 4, 6, 9, 12, 60, 15, 20, 22, 23, 88, 25, 27, 28, 29}\n",
      "#cars= 18\n",
      "cars: {1, 3, 4, 6, 7, 9, 10, 12, 13, 14, 15, 17, 18, 19, 20, 21, 22, 23, 24, 25, 26, 27, 28, 29, 30, 32, 33, 59, 60, 64, 66, 88, 98}\n",
      "#cars= 33\n",
      "Indy500: carno=33, lapnum=201\n",
      "count of completed cars: 9\n",
      "completed cars: [ 9 22 27  5 28 15 30 18 10]\n",
      "cars: {5, 9, 10, 15, 18, 22, 27, 28, 30}\n",
      "#cars= 9\n",
      "cars: {1, 3, 4, 5, 6, 7, 9, 10, 12, 14, 15, 18, 19, 20, 21, 22, 23, 25, 26, 27, 28, 30, 47, 55, 57, 59, 60, 68, 73, 83, 88, 98}\n",
      "#cars= 32\n",
      "Texas: carno=32, lapnum=249\n",
      "count of completed cars: 5\n",
      "completed cars: [ 5 21 30  1  6]\n",
      "cars: {1, 5, 6, 21, 30}\n",
      "#cars= 5\n",
      "cars: {1, 4, 5, 6, 9, 10, 12, 14, 15, 18, 19, 20, 21, 22, 23, 26, 27, 28, 30, 59, 88, 98}\n",
      "#cars= 22\n",
      "Iowa: carno=22, lapnum=301\n",
      "count of completed cars: 4\n",
      "completed cars: [27 12  9 18]\n",
      "cars: {9, 18, 27, 12}\n",
      "#cars= 4\n",
      "cars: {1, 4, 5, 6, 9, 10, 12, 14, 15, 18, 19, 20, 21, 22, 23, 26, 27, 28, 30, 59, 88, 98}\n",
      "#cars= 22\n",
      "Pocono: carno=22, lapnum=201\n",
      "count of completed cars: 8\n",
      "completed cars: [12 27  9 22 26 21  1 10]\n",
      "cars: {1, 9, 10, 12, 21, 22, 26, 27}\n",
      "#cars= 8\n",
      "cars: {1, 4, 5, 9, 10, 12, 14, 15, 18, 19, 20, 21, 22, 23, 26, 27, 28, 30, 59, 88, 98}\n",
      "#cars= 21\n",
      "Gateway: carno=21, lapnum=249\n"
     ]
    }
   ],
   "source": [
    "stagedata = {}\n",
    "global_carids = {}\n",
    "traindata = None\n",
    "cur_carid = 0\n",
    "for event in events:\n",
    "    #alldata, rankdata, acldata, flagdata\n",
    "    stagedata[event] = load_data(event, year)\n",
    "    \n",
    "    alldata, rankdata, acldata = stagedata[event]\n",
    "    carlist = set(acldata['car_number'])\n",
    "    laplist = set(acldata['completed_laps'])\n",
    "    print('%s: carno=%d, lapnum=%d'%(event, len(carlist), len(laplist)))\n",
    "\n",
    "    #build the carid map\n",
    "    for car in carlist:\n",
    "        if car not in global_carids:\n",
    "            global_carids[car] = cur_carid\n",
    "            cur_carid += 1"
   ]
  },
  {
   "cell_type": "code",
   "execution_count": 6,
   "metadata": {},
   "outputs": [],
   "source": [
    "event='Indy500'\n",
    "alldata, rankdata, acldata = stagedata[event]"
   ]
  },
  {
   "cell_type": "markdown",
   "metadata": {},
   "source": [
    "### load prediction data"
   ]
  },
  {
   "cell_type": "code",
   "execution_count": 4,
   "metadata": {},
   "outputs": [],
   "source": [
    "# start from here\n",
    "import pickle\n",
    "with open('laptime_rank_timediff-oracle-%s.pickle'%year, 'rb') as f:\n",
    "    # The protocol version used is detected automatically, so we do not\n",
    "    # have to specify it.\n",
    "    global_carids, laptime_data = pickle.load(f, encoding='latin1') "
   ]
  },
  {
   "cell_type": "code",
   "execution_count": 5,
   "metadata": {},
   "outputs": [],
   "source": [
    "def nan_helper(y):\n",
    "    \"\"\"Helper to handle indices and logical indices of NaNs.\n",
    "\n",
    "    Input:\n",
    "        - y, 1d numpy array with possible NaNs\n",
    "    Output:\n",
    "        - nans, logical indices of NaNs\n",
    "        - index, a function, with signature indices= index(logical_indices),\n",
    "          to convert logical indices of NaNs to 'equivalent' indices\n",
    "    Example:\n",
    "        >>> # linear interpolation of NaNs\n",
    "        >>> nans, x= nan_helper(y)\n",
    "        >>> y[nans]= np.interp(x(nans), x(~nans), y[~nans])\n",
    "    \"\"\"\n",
    "\n",
    "    return np.isnan(y), lambda z: z.nonzero()[0]\n",
    "\n",
    "def test_flag(a, bitflag):\n",
    "    return (a & bitflag) ==  bitflag\n",
    "\n",
    "#\n",
    "# remove NaN at the tail\n",
    "# there should be no nans in the middle of the ts\n",
    "COL_LAPTIME=0\n",
    "COL_RANK=1\n",
    "COL_TRACKSTATUS=2\n",
    "COL_LAPSTATUS=3\n",
    "COL_TIMEDIFF=4\n",
    "MODE_ORACLE = 0\n",
    "MODE_NOLAP = 1\n",
    "MODE_NOTRACK = 2\n",
    "MODE_TESTZERO = 4\n",
    "MODE_TESTCURTRACK = 8\n",
    "#MODE_STR={MODE_ORACLE:'oracle', MODE_NOLAP:'nolap',MODE_NOTRACK:'notrack',MODE_TEST:'test'}\n",
    "\n",
    "def make_dataset(runs, prediction_length, freq, \n",
    "                       useeid = False,\n",
    "                       run_ts=COL_LAPTIME, \n",
    "                       train_ratio = 0.8,\n",
    "                       use_global_dict = True,\n",
    "                       oracle_mode = MODE_ORACLE,\n",
    "                       test_cars = [],\n",
    "                       half_moving_win = True \n",
    "                ):\n",
    "    \"\"\"\n",
    "    split the ts to train and test part by the ratio\n",
    "    \n",
    "    oracle_mode: false to simulate prediction in real by \n",
    "        set the covariates of track and lap status as nan in the testset\n",
    "            \n",
    "    \n",
    "    \"\"\"    \n",
    "    start = pd.Timestamp(\"01-01-2019\", freq=freq)  # can be different for each time series\n",
    "\n",
    "    train_set = []\n",
    "    test_set = []\n",
    "    \n",
    "    #select run\n",
    "    if runs>=0:\n",
    "        _laptime_data = [laptime_data[runs].copy()]\n",
    "    else:\n",
    "        _laptime_data = laptime_data.copy()\n",
    "    \n",
    "   \n",
    "    #_data: eventid, carids, datalist[carnumbers, features, lapnumber]->[laptime, rank, track, lap]]\n",
    "    for _data in _laptime_data:\n",
    "        _train = []\n",
    "        _test = []\n",
    "        \n",
    "        #statistics on the ts length\n",
    "        ts_len = [ _entry.shape[1] for _entry in _data[2]]\n",
    "        train_len = int(np.max(ts_len) * train_ratio)\n",
    "        \n",
    "        print(f'====event:{events[_data[0]]}, train_len={train_len}, max_len={np.max(ts_len)}, min_len={np.min(ts_len)}')\n",
    "                \n",
    "        # process for each ts\n",
    "        for rowid in range(_data[2].shape[0]):\n",
    "            # rec[features, lapnumber] -> [laptime, rank, track_status, lap_status,timediff]]\n",
    "            rec = _data[2][rowid].copy()\n",
    "            \n",
    "            #remove nan(only tails)\n",
    "            nans, x= nan_helper(rec[run_ts,:])\n",
    "            nan_count = np.sum(nans)             \n",
    "            rec = rec[:, ~np.isnan(rec[run_ts,:])]\n",
    "            \n",
    "            # remove short ts\n",
    "            totallen = rec.shape[1]\n",
    "            if ( totallen < train_len + prediction_length):\n",
    "                print(f'a short ts: carid={_data[1][rowid]}，len={totallen}')\n",
    "                continue                \n",
    "            \n",
    "            if use_global_dict:\n",
    "                carno = _data[1][rowid]\n",
    "                carid = global_carids[_data[1][rowid]]\n",
    "            else:\n",
    "                #simulation dataset, todo, fix the carids as decoder\n",
    "                carno = rowid\n",
    "                carid = rowid\n",
    "\n",
    "            #eval on carids\n",
    "            if test_cars and (carno not in test_cars):\n",
    "                continue                \n",
    "            \n",
    "            if useeid:\n",
    "                static_cat = [carid, _data[0]]    \n",
    "            else:\n",
    "                static_cat = [carid]    \n",
    "                \n",
    "            # selection of features\n",
    "            if test_flag(oracle_mode, MODE_NOTRACK):                \n",
    "                rec[COL_TRACKSTATUS, :] = 0\n",
    "            if test_flag(oracle_mode, MODE_NOLAP):                \n",
    "                rec[COL_LAPSTATUS, :] = 0\n",
    "                \n",
    "            # split and add to dataset record\n",
    "            _train.append({'target': rec[run_ts,:train_len].astype(np.float32), \n",
    "                            'start': start, \n",
    "                            'feat_static_cat': static_cat,\n",
    "                            'feat_dynamic_real': [rec[COL_TRACKSTATUS,:train_len],\n",
    "                                   rec[COL_LAPSTATUS,:train_len]]\n",
    "                          }\n",
    "                          )\n",
    "            \n",
    "            # multiple test ts(rolling window as half of the prediction_length)\n",
    "            test_rec_cnt = 0\n",
    "            step = -int(prediction_length/2) if half_moving_win else -prediction_length\n",
    "            for endpos in range(totallen, train_len+prediction_length, step):\n",
    "                \n",
    "                track_rec = rec[COL_TRACKSTATUS, :endpos].copy()\n",
    "                lap_rec = rec[COL_LAPSTATUS, :endpos].copy()\n",
    "                \n",
    "                # test mode\n",
    "                if test_flag(oracle_mode, MODE_TESTCURTRACK):\n",
    "                    # since nan does not work, use cur-val instead\n",
    "                    track_rec[-prediction_length:] = track_rec[-prediction_length - 1]\n",
    "                    #track_rec[-prediction_length:] = random.randint(0,1)\n",
    "                    #lap_rec[-prediction_length:] = lap_rec[-prediction_length - 1]\n",
    "                    lap_rec[-prediction_length:] = 0\n",
    "                elif test_flag(oracle_mode, MODE_TESTZERO):\n",
    "                    #set prediction part as nan\n",
    "                    #track_rec[-prediction_length:] = np.nan\n",
    "                    #lap_rec[-prediction_length:] = np.nan\n",
    "                    track_rec[-prediction_length:] = 0\n",
    "                    lap_rec[-prediction_length:] = 0                    \n",
    "                \n",
    "                _test.append({'target': rec[run_ts,:endpos].astype(np.float32), \n",
    "                            'start': start, \n",
    "                            'feat_static_cat': static_cat,\n",
    "                            'feat_dynamic_real': [track_rec,lap_rec]\n",
    "                            #'feat_dynamic_real': [rec[COL_TRACKSTATUS,:endpos],\n",
    "                            #       rec[COL_LAPSTATUS,:endpos]] \n",
    "                             }\n",
    "                          )   \n",
    "                test_rec_cnt += 1\n",
    "            \n",
    "            #add one ts\n",
    "            print(f'carno:{carno}, totallen:{totallen}, nancount:{nan_count}, test_reccnt:{test_rec_cnt}')\n",
    "\n",
    "        train_set.extend(_train)\n",
    "        test_set.extend(_test)\n",
    "\n",
    "    print(f'prediction_length:{prediction_length},train len:{len(train_set)}, test len:{len(test_set)}')\n",
    "    \n",
    "    train_ds = ListDataset(train_set, freq=freq)\n",
    "    test_ds = ListDataset(test_set, freq=freq)    \n",
    "    \n",
    "    return train_ds, test_ds, train_set, test_set\n",
    "\n",
    "def save_dataset(datafile,freq, prediction_length, cardinality, train_ds, test_ds):\n",
    "    with open(datafile, 'wb') as f:\n",
    "        #pack [global_carids, laptime_data]\n",
    "        savedata = [freq, prediction_length, cardinality, train_ds, test_ds]\n",
    "        #savedata = [freq, train_set, test_set]\n",
    "        # Pickle the 'data' dictionary using the highest protocol available.\n",
    "        pickle.dump(savedata, f, pickle.HIGHEST_PROTOCOL)        "
   ]
  },
  {
   "cell_type": "code",
   "execution_count": 6,
   "metadata": {},
   "outputs": [],
   "source": [
    "# construct long prediction result\n",
    "def plot_prob_forecasts_ex(ts_entry, forecast_entry, outputfile):\n",
    "\n",
    "    plot_length = int(forecast_entry[0].samples.shape[1] *2) \n",
    "    prediction_intervals = (50.0, 90.0)\n",
    "    legend = [\"observations\", \"median prediction\"] + [f\"{k}% prediction interval\" for k in prediction_intervals][::-1]\n",
    "\n",
    "    figcnt = len(ts_entry)\n",
    "    for idx in range(figcnt):\n",
    "        fig, axs = plt.subplots(1, 1, figsize=(20, 7))\n",
    "        #ts_entry[idx][-plot_length:].plot(ax=axs)  # plot the time series\n",
    "        #forecast_entry[idx].plot(prediction_intervals=prediction_intervals, color='g')\n",
    "        ts_entry[idx].iloc[-plot_length:,0].plot(ax=axs, linewidth=1, marker='.')  # plot the time series\n",
    "        forecast_entry[idx].copy_dim(0).plot(prediction_intervals=prediction_intervals, color='g')\n",
    "        \n",
    "        plt.grid(which=\"both\")\n",
    "        plt.legend(legend, loc=\"upper left\")\n",
    "        plt.savefig(outputfile + '-%d.pdf'%idx)\n",
    "        plt.show()\n",
    "        \n",
    "\n",
    "\n",
    "def long_predict(output):\n",
    "    \n",
    "    def get_start(idx):\n",
    "        td = forecasts[idx].start_date - start_time\n",
    "        return td.days*24*60 + td.seconds//60\n",
    "    \n",
    "    forecast_it, ts_it = make_evaluation_predictions(\n",
    "        dataset=test_ds,  # test dataset\n",
    "        predictor=predictor,  # predictor\n",
    "        num_samples=100,  # number of sample paths we want for evaluation\n",
    "    )\n",
    "\n",
    "    forecasts = list(forecast_it)\n",
    "    tss = list(ts_it)\n",
    "    print(f'tss len={len(tss)}, forecasts len={len(forecasts)}')\n",
    "    \n",
    "    start_time, row = next(tss[0].iterrows())\n",
    "\n",
    "    first_start = get_start(-1)\n",
    "    last_start = get_start(0)\n",
    "    print(first_start, last_start)    \n",
    "    \n",
    "    import copy\n",
    "    target = copy.deepcopy(forecasts[-1])\n",
    "\n",
    "    #100, 10\n",
    "    nsample, npredict = target.samples.shape\n",
    "    print('sampel# x predictlen: ', nsample, npredict)\n",
    "    newsamples = np.zeros((2*nsample, last_start - first_start + npredict))\n",
    "\n",
    "    blockid = 0\n",
    "    for idx in range(len(forecasts)):\n",
    "        #copy samples\n",
    "        start_pos = get_start(idx)\n",
    "\n",
    "        pos = start_pos - first_start\n",
    "        #copy sample to block\n",
    "        newsamples[nsample*blockid: nsample*blockid + nsample, pos:pos + npredict] = forecasts[idx].samples\n",
    "\n",
    "        blockid = (blockid + 1) % 2\n",
    "\n",
    "    #first block\n",
    "    newsamples[nsample*blockid: nsample*blockid + nsample, 0:0 + npredict] = forecasts[-1].samples\n",
    "\n",
    "    #last block\n",
    "    blockid = 1\n",
    "    newsamples[nsample*blockid: nsample*blockid + nsample, last_start- first_start:last_start- first_start + npredict] = forecasts[0].samples\n",
    "\n",
    "    target.samples = newsamples\n",
    "\n",
    "    plot_prob_forecasts_ex([tss[0]],[target],output)\n",
    "    \n",
    "    #evaluator = MultivariateEvaluator(quantiles=[0.1, 0.5, 0.9])\n",
    "    agg_metrics, item_metrics = evaluator(iter(tss), iter(forecasts), num_series=len(test_ds))\n",
    "    \n",
    "    \n",
    "    print(json.dumps(agg_metrics, indent=4))    \n",
    "    \n",
    "    return target"
   ]
  },
  {
   "cell_type": "markdown",
   "metadata": {},
   "source": [
    "### long prediction"
   ]
  },
  {
   "cell_type": "code",
   "execution_count": 14,
   "metadata": {},
   "outputs": [
    {
     "name": "stdout",
     "output_type": "stream",
     "text": [
      "====event:Indy500, train_len=160, max_len=200, min_len=200\n",
      "a short ts: carid=3，len=146\n",
      "a short ts: carid=10，len=57\n",
      "carno:12, totallen:200, nancount:0, test_reccnt:6\n",
      "a short ts: carid=13，len=67\n",
      "a short ts: carid=18，len=137\n",
      "a short ts: carid=24，len=154\n",
      "a short ts: carid=30，len=46\n",
      "a short ts: carid=32，len=110\n",
      "a short ts: carid=33，len=46\n",
      "train len:1, test len:6\n"
     ]
    }
   ],
   "source": [
    "cardinality = [len(global_carids)]\n",
    "test_cars = [12]\n",
    "test_event = 'Indy500'\n",
    "save_prefix = 'test-' + test_event + '_'.join([str(x) for x in test_cars])\n",
    "outputfile = 'output'\n",
    "\n",
    "#model configure\n",
    "ueseid = False\n",
    "interpolate = False\n",
    "ipstr = '' if interpolate else '-noip'\n",
    "prediction_length = 10\n",
    "freq = \"1min\"\n",
    "\n",
    "evaluator = Evaluator(quantiles=[0.1, 0.5, 0.9])\n",
    "\n",
    "train_ds, test_ds,_,_ = make_dataset(events_id[test_event], prediction_length,freq, \n",
    "                                     oracle_mode=MODE_TESTCURTRACK,\n",
    "                                     run_ts = COL_TIMEDIFF,\n",
    "                                     test_cars=test_cars)"
   ]
  },
  {
   "cell_type": "code",
   "execution_count": 15,
   "metadata": {},
   "outputs": [
    {
     "name": "stderr",
     "output_type": "stream",
     "text": [
      "INFO:root:Using GPU\n"
     ]
    },
    {
     "name": "stdout",
     "output_type": "stream",
     "text": [
      "tss len=6, forecasts len=6\n",
      "165 190\n",
      "sampel# x predictlen:  100 10\n"
     ]
    },
    {
     "data": {
      "image/png": "[encoded data removed]",
      "text/plain": [
       "<Figure size 1440x504 with 1 Axes>"
      ]
     },
     "metadata": {
      "needs_background": "light"
     },
     "output_type": "display_data"
    },
    {
     "name": "stderr",
     "output_type": "stream",
     "text": [
      "Running evaluation: 100%|██████████| 6/6 [00:00<00:00, 15.98it/s]"
     ]
    },
    {
     "name": "stdout",
     "output_type": "stream",
     "text": [
      "{\n",
      "    \"MSE\": 211.3145212173462,\n",
      "    \"abs_error\": 619.3373718261719,\n",
      "    \"abs_target_sum\": 754.6316108703613,\n",
      "    \"abs_target_mean\": 12.577193514506023,\n",
      "    \"seasonal_error\": 1.3924166628559826,\n",
      "    \"MASE\": 7.879813560014202,\n",
      "    \"sMAPE\": 1.2124134606967993,\n",
      "    \"MSIS\": 250.36884870127622,\n",
      "    \"QuantileLoss[0.1]\": 244.9174921862781,\n",
      "    \"Coverage[0.1]\": 0.3833333333333333,\n",
      "    \"QuantileLoss[0.5]\": 619.3373879403807,\n",
      "    \"Coverage[0.5]\": 0.5666666666666668,\n",
      "    \"QuantileLoss[0.9]\": 766.9330940306187,\n",
      "    \"Coverage[0.9]\": 0.6166666666666666,\n",
      "    \"RMSE\": 14.536661281647385,\n",
      "    \"NRMSE\": 1.1557953103672447,\n",
      "    \"ND\": 0.8207148533200901,\n",
      "    \"wQuantileLoss[0.1]\": 0.32455238908399325,\n",
      "    \"wQuantileLoss[0.5]\": 0.8207148746738322,\n",
      "    \"wQuantileLoss[0.9]\": 1.0163013091196502,\n",
      "    \"mean_wQuantileLoss\": 0.7205228576258252,\n",
      "    \"MAE_Coverage\": 0.21111111111111117\n",
      "}\n"
     ]
    },
    {
     "name": "stderr",
     "output_type": "stream",
     "text": [
      "\n"
     ]
    }
   ],
   "source": [
    "#load predictor\n",
    "model='deepAR-Oracle-timediff-curtrack-indy-f1min-t10-e1000-r1'\n",
    "modeldir = '../models/' + model\n",
    "predictor =  Predictor.deserialize(Path(modeldir))\n",
    "\n",
    "target = long_predict('deepAR-Oracle-timediff-curtrack-t10')"
   ]
  },
  {
   "cell_type": "code",
   "execution_count": 16,
   "metadata": {},
   "outputs": [
    {
     "name": "stderr",
     "output_type": "stream",
     "text": [
      "INFO:root:Using GPU\n"
     ]
    },
    {
     "name": "stdout",
     "output_type": "stream",
     "text": [
      "tss len=6, forecasts len=6\n",
      "165 190\n",
      "sampel# x predictlen:  100 10\n"
     ]
    },
    {
     "data": {
      "image/png": "[encoded data removed]",
      "text/plain": [
       "<Figure size 1440x504 with 1 Axes>"
      ]
     },
     "metadata": {
      "needs_background": "light"
     },
     "output_type": "display_data"
    },
    {
     "name": "stderr",
     "output_type": "stream",
     "text": [
      "Running evaluation: 100%|██████████| 6/6 [00:00<00:00, 16.34it/s]"
     ]
    },
    {
     "name": "stdout",
     "output_type": "stream",
     "text": [
      "{\n",
      "    \"MSE\": 211.5328582763672,\n",
      "    \"abs_error\": 640.4404487609863,\n",
      "    \"abs_target_sum\": 754.6316108703613,\n",
      "    \"abs_target_mean\": 12.577193514506023,\n",
      "    \"seasonal_error\": 1.3924166628559826,\n",
      "    \"MASE\": 8.10752828328206,\n",
      "    \"sMAPE\": 1.2247663577924897,\n",
      "    \"MSIS\": 246.36942579634925,\n",
      "    \"QuantileLoss[0.1]\": 258.61647613234817,\n",
      "    \"Coverage[0.1]\": 0.45,\n",
      "    \"QuantileLoss[0.5]\": 640.4404432997108,\n",
      "    \"Coverage[0.5]\": 0.5833333333333334,\n",
      "    \"QuantileLoss[0.9]\": 747.464780831337,\n",
      "    \"Coverage[0.9]\": 0.6666666666666666,\n",
      "    \"RMSE\": 14.544169219187708,\n",
      "    \"NRMSE\": 1.1563922589258928,\n",
      "    \"ND\": 0.848679593506994,\n",
      "    \"wQuantileLoss[0.1]\": 0.34270559622339497,\n",
      "    \"wQuantileLoss[0.5]\": 0.8486795862699853,\n",
      "    \"wQuantileLoss[0.9]\": 0.9905028759254354,\n",
      "    \"mean_wQuantileLoss\": 0.7272960194729386,\n",
      "    \"MAE_Coverage\": 0.22222222222222224\n",
      "}\n"
     ]
    },
    {
     "name": "stderr",
     "output_type": "stream",
     "text": [
      "\n"
     ]
    }
   ],
   "source": [
    "#load predictor\n",
    "model='deepAR-Oracle-timediff-all-indy-f1min-t10-e1000-r1'\n",
    "modeldir = '../models/' + model\n",
    "predictor =  Predictor.deserialize(Path(modeldir))\n",
    "\n",
    "target = long_predict('deepAR-Oracle-timediff-all-t10')"
   ]
  },
  {
   "cell_type": "code",
   "execution_count": 17,
   "metadata": {},
   "outputs": [
    {
     "name": "stderr",
     "output_type": "stream",
     "text": [
      "INFO:root:Using GPU\n"
     ]
    },
    {
     "name": "stdout",
     "output_type": "stream",
     "text": [
      "tss len=6, forecasts len=6\n",
      "165 190\n",
      "sampel# x predictlen:  100 10\n"
     ]
    },
    {
     "data": {
      "image/png": "[encoded data removed]",
      "text/plain": [
       "<Figure size 1440x504 with 1 Axes>"
      ]
     },
     "metadata": {
      "needs_background": "light"
     },
     "output_type": "display_data"
    },
    {
     "name": "stderr",
     "output_type": "stream",
     "text": [
      "Running evaluation: 100%|██████████| 6/6 [00:00<00:00, 29.88it/s]"
     ]
    },
    {
     "name": "stdout",
     "output_type": "stream",
     "text": [
      "{\n",
      "    \"MSE\": 224.33876190185546,\n",
      "    \"abs_error\": 651.3909950256348,\n",
      "    \"abs_target_sum\": 754.6316108703613,\n",
      "    \"abs_target_mean\": 12.577193514506023,\n",
      "    \"seasonal_error\": 1.3924166628559826,\n",
      "    \"MASE\": 8.176464475765025,\n",
      "    \"sMAPE\": 1.2397657121600194,\n",
      "    \"MSIS\": 249.29321615238294,\n",
      "    \"QuantileLoss[0.1]\": 253.3766143467277,\n",
      "    \"Coverage[0.1]\": 0.2833333333333334,\n",
      "    \"QuantileLoss[0.5]\": 651.3909947164357,\n",
      "    \"Coverage[0.5]\": 0.5499999999999999,\n",
      "    \"QuantileLoss[0.9]\": 797.8200382694602,\n",
      "    \"Coverage[0.9]\": 0.6333333333333333,\n",
      "    \"RMSE\": 14.977942512303066,\n",
      "    \"NRMSE\": 1.1908811369585843,\n",
      "    \"ND\": 0.8631907087411127,\n",
      "    \"wQuantileLoss[0.1]\": 0.33576199392773043,\n",
      "    \"wQuantileLoss[0.5]\": 0.8631907083313776,\n",
      "    \"wQuantileLoss[0.9]\": 1.0572311400383654,\n",
      "    \"mean_wQuantileLoss\": 0.7520612807658246,\n",
      "    \"MAE_Coverage\": 0.16666666666666666\n",
      "}\n"
     ]
    },
    {
     "name": "stderr",
     "output_type": "stream",
     "text": [
      "\n"
     ]
    }
   ],
   "source": [
    "#load predictor\n",
    "model='deepAR-timediff-all-indy-f1min-t10-e1000-r1'\n",
    "modeldir = '../models/' + model\n",
    "predictor =  Predictor.deserialize(Path(modeldir))\n",
    "\n",
    "target = long_predict('deepAR-timediff-all-t10')"
   ]
  },
  {
   "cell_type": "code",
   "execution_count": 18,
   "metadata": {},
   "outputs": [
    {
     "name": "stderr",
     "output_type": "stream",
     "text": [
      "/scratch/hpda/anaconda3/envs/gluonts/lib/python3.6/site-packages/rpy2/rinterface/__init__.py:146: RRuntimeWarning: Registered S3 method overwritten by 'quantmod':\n",
      "  method            from\n",
      "  as.zoo.data.frame zoo \n",
      "\n",
      "  warnings.warn(x, RRuntimeWarning)\n",
      "/scratch/hpda/anaconda3/envs/gluonts/lib/python3.6/site-packages/gluonts/model/r_forecast/_predictor.py:191: FutureWarning: Addition/subtraction of integers and integer-arrays to Timestamp is deprecated, will be removed in a future version.  Instead of adding/subtracting `n`, use `n * self.freq`\n",
      "  + data[\"target\"].shape[0]\n"
     ]
    },
    {
     "name": "stdout",
     "output_type": "stream",
     "text": [
      "tss len=6, forecasts len=6\n",
      "165 190\n",
      "sampel# x predictlen:  100 10\n"
     ]
    },
    {
     "data": {
      "image/png": "[encoded data removed]",
      "text/plain": [
       "<Figure size 1440x504 with 1 Axes>"
      ]
     },
     "metadata": {
      "needs_background": "light"
     },
     "output_type": "display_data"
    },
    {
     "name": "stderr",
     "output_type": "stream",
     "text": [
      "Running evaluation: 100%|██████████| 6/6 [00:00<00:00, 21.04it/s]"
     ]
    },
    {
     "name": "stdout",
     "output_type": "stream",
     "text": [
      "{\n",
      "    \"MSE\": 179.5346331581737,\n",
      "    \"abs_error\": 562.9926958325314,\n",
      "    \"abs_target_sum\": 754.6316108703613,\n",
      "    \"abs_target_mean\": 12.577193514506023,\n",
      "    \"seasonal_error\": 1.3924166628559826,\n",
      "    \"MASE\": 7.169428774727721,\n",
      "    \"sMAPE\": 1.2101864760857561,\n",
      "    \"MSIS\": 156.2221108970657,\n",
      "    \"QuantileLoss[0.1]\": 172.72239406442012,\n",
      "    \"Coverage[0.1]\": 0.0,\n",
      "    \"QuantileLoss[0.5]\": 562.9926958325314,\n",
      "    \"Coverage[0.5]\": 0.3666666666666667,\n",
      "    \"QuantileLoss[0.9]\": 547.2790539467067,\n",
      "    \"Coverage[0.9]\": 0.6333333333333334,\n",
      "    \"RMSE\": 13.39905344261951,\n",
      "    \"NRMSE\": 1.0653452558526342,\n",
      "    \"ND\": 0.7460497118364794,\n",
      "    \"wQuantileLoss[0.1]\": 0.22888306237954856,\n",
      "    \"wQuantileLoss[0.5]\": 0.7460497118364794,\n",
      "    \"wQuantileLoss[0.9]\": 0.7252267809395068,\n",
      "    \"mean_wQuantileLoss\": 0.5667198517185116,\n",
      "    \"MAE_Coverage\": 0.16666666666666663\n",
      "}\n"
     ]
    },
    {
     "name": "stderr",
     "output_type": "stream",
     "text": [
      "\n"
     ]
    }
   ],
   "source": [
    "predictor =  RForecastPredictor(method_name='arima',freq= freq, \n",
    "                                prediction_length = prediction_length,trunc_length=200)\n",
    "\n",
    "target = long_predict('arima-timediff')"
   ]
  },
  {
   "cell_type": "markdown",
   "metadata": {},
   "source": [
    "### test for Indy500"
   ]
  },
  {
   "cell_type": "code",
   "execution_count": 22,
   "metadata": {},
   "outputs": [],
   "source": [
    "def predict(test_ds,predictor):\n",
    "    forecast_it, ts_it = make_evaluation_predictions(\n",
    "        dataset=test_ds,  # test dataset\n",
    "        predictor=predictor,  # predictor\n",
    "        num_samples=100,  # number of sample paths we want for evaluation\n",
    "    )\n",
    "\n",
    "    forecasts = list(forecast_it)\n",
    "    tss = list(ts_it)\n",
    "    print(f'tss len={len(tss)}, forecasts len={len(forecasts)}')\n",
    "    \n",
    "    return tss, forecasts\n",
    "\n",
    "def run_prediction(test_ds, prediction_length):\n",
    "    with mx.Context(mx.gpu(1)):    \n",
    "        pred_ret = {}\n",
    "\n",
    "        # deepAR-Oracle\n",
    "        model_name = 'deepAR-Oracle-curtrack'\n",
    "        model=f'deepAR-Oracle-timediff-curtrack-indy-f1min-t{prediction_length}-e1000-r1'\n",
    "        modeldir = '../models/' + model\n",
    "        print(f'predicting model={model_name}, plen={prediction_length}')\n",
    "        predictor =  Predictor.deserialize(Path(modeldir))\n",
    "        print(f'loading model...done!, ctx:{predictor.ctx}')\n",
    "        tss, forecasts = predict(test_ds,predictor)\n",
    "        pred_ret[model_name] = [tss, forecasts]\n",
    "\n",
    "        # deepAR-Oracle\n",
    "        model_name = 'deepAR-Oracle'\n",
    "        model=f'deepAR-Oracle-timediff-all-indy-f1min-t{prediction_length}-e1000-r1'\n",
    "        modeldir = '../models/' + model\n",
    "        print(f'predicting model={model_name}, plen={prediction_length}')\n",
    "        predictor =  Predictor.deserialize(Path(modeldir))\n",
    "        print(f'loading model...done!, ctx:{predictor.ctx}')\n",
    "        tss, forecasts = predict(test_ds,predictor)\n",
    "        pred_ret[model_name] = [tss, forecasts]\n",
    "\n",
    "        # deepAR\n",
    "        model_name = 'deepAR'\n",
    "        model=f'deepAR-timediff-all-indy-f1min-t{prediction_length}-e1000-r1'\n",
    "        modeldir = '../models/' + model\n",
    "        print(f'predicting model={model_name}, plen={prediction_length}')\n",
    "        predictor =  Predictor.deserialize(Path(modeldir))\n",
    "        print(f'loading model...done!, ctx:{predictor.ctx}')\n",
    "        tss, forecasts = predict(test_ds,predictor)\n",
    "        pred_ret[model_name] = [tss, forecasts]\n",
    "\n",
    "        # naive\n",
    "        model_name = 'naive'\n",
    "        print(f'predicting model={model_name}, plen={prediction_length}')\n",
    "        predictor =  NaivePredictor(freq= freq, prediction_length = prediction_length)\n",
    "        tss, forecasts = predict(test_ds,predictor)\n",
    "        pred_ret[model_name] = [tss, forecasts]\n",
    "\n",
    "        # arima\n",
    "        model_name = 'arima'\n",
    "        print(f'predicting model={model_name}, plen={prediction_length}')\n",
    "        predictor =  RForecastPredictor(method_name='arima',freq= freq, \n",
    "                                        prediction_length = prediction_length,trunc_length=60)\n",
    "        #tss, forecasts = predict(test_ds,predictor)\n",
    "        pred_ret[model_name] = [tss, forecasts]\n",
    "\n",
    "        return pred_ret"
   ]
  },
  {
   "cell_type": "code",
   "execution_count": 33,
   "metadata": {},
   "outputs": [],
   "source": [
    "#calc rank\n",
    "def eval_rank_bytimediff(test_ds,tss,forecasts,prediction_len):\n",
    "    \"\"\"\n",
    "    timediff models\n",
    "    \n",
    "    works for one event only\n",
    "    \n",
    "    \"\"\"\n",
    "\n",
    "    carlist = []\n",
    "\n",
    "    # carno-lap# -> elapsed_time[] array\n",
    "    forecasts_et = dict()\n",
    "\n",
    "    ds_iter =  iter(test_ds)\n",
    "    for idx in range(len(test_ds)):\n",
    "        test_rec = next(ds_iter)\n",
    "        #global carid\n",
    "        carno = decode_carids[test_rec['feat_static_cat'][0]]\n",
    "        #print('car no:', carno)\n",
    "\n",
    "        if carno not in carlist:\n",
    "            carlist.append(carno)\n",
    "\n",
    "        # calc elapsed time\n",
    "        prediction_len = forecasts[idx].samples.shape[1]\n",
    "        #forecast_laptime_mean = np.mean(forecasts[idx].samples, axis=0).reshape((prediction_len,1))\n",
    "        forecast_laptime_mean = np.median(forecasts[idx].samples, axis=0).reshape((prediction_len,1))\n",
    "        \n",
    "        timediff_array = tss[idx].values.copy()\n",
    "\n",
    "        #save the prediction\n",
    "        completed_laps = len(tss[idx]) - prediction_len + 1\n",
    "        #print('car no:', carno, 'completed_laps:', completed_laps)\n",
    "        #key = '%s-%s'%(carno, completed_laps)\n",
    "        #forecasts_et[key] = elapsed_time[-prediction_len:].copy()\n",
    "        if completed_laps not in forecasts_et:\n",
    "            forecasts_et[completed_laps] = {}\n",
    "        forecasts_et[completed_laps][carno] = [timediff_array[-prediction_len:].copy(),\n",
    "                                                   forecast_laptime_mean.copy()]\n",
    "\n",
    "\n",
    "    # calc rank\n",
    "    rank_ret = []\n",
    "    for lap in forecasts_et.keys():\n",
    "        #get car list for this lap\n",
    "        carlist = list(forecasts_et[lap].keys())\n",
    "        #print('carlist:', carlist)\n",
    "\n",
    "        caridmap={key:idx for idx, key in enumerate(carlist)}\n",
    "\n",
    "        #fill in data\n",
    "        time_diff = np.zeros((2, len(carlist), prediction_len))\n",
    "        for carno in carlist:\n",
    "            carid = caridmap[carno]\n",
    "            time_diff[0, carid, :] = forecasts_et[lap][carno][0].reshape((prediction_len))\n",
    "            time_diff[1, carid, :] = forecasts_et[lap][carno][1].reshape((prediction_len))\n",
    "\n",
    "        #calculate rank    \n",
    "        idx = np.argsort(time_diff[0], axis=0)\n",
    "        true_rank = np.argsort(idx, axis=0)\n",
    "\n",
    "        idx = np.argsort(time_diff[1], axis=0)\n",
    "        pred_rank = np.argsort(idx, axis=0)\n",
    "\n",
    "        rank_ret.append([lap, time_diff, true_rank, pred_rank])\n",
    "        \n",
    "    return rank_ret\n",
    "    \n",
    "   \n",
    "   \n",
    "def get_acc(rank_ret,prediction_len):    \n",
    "    # evaluate\n",
    "    #top1 accuracy\n",
    "    top1acc = 0\n",
    "    top1acc_farmost = 0\n",
    "    top5acc = 0\n",
    "    top5acc_farmost = 0\n",
    "    \n",
    "    for rec in rank_ret:\n",
    "        trueRank = rec[2]\n",
    "        predRank = rec[3]\n",
    "\n",
    "        #top1 , rank = 0, first col is not prediction\n",
    "        top1acc += np.sum((trueRank==0) & (predRank==0)) \n",
    "        \n",
    "        top1acc_farmost += np.sum((trueRank[:,-1]==0) & (predRank[:,-1]==0))\n",
    "        \n",
    "        #top5\n",
    "        top5acc += np.sum((trueRank<5) & (predRank<5)) \n",
    "        \n",
    "        top5acc_farmost += np.sum((trueRank[:,-1]<5) & (predRank[:,-1]<5))\n",
    "        \n",
    "\n",
    "    print(f'total:{len(rank_ret)}, prediction_length:{prediction_length}') \n",
    "    print('top1acc=', top1acc *1.0/ (len(rank_ret)*prediction_length),\n",
    "          'top1acc_farmost=', top1acc_farmost *1.0/ (len(rank_ret)*prediction_length),\n",
    "          'top5acc=', top5acc *1.0/ (5*len(rank_ret)*prediction_length),\n",
    "          'top5acc_farmost=', top5acc_farmost *1.0/ (5*len(rank_ret)*prediction_length),\n",
    "         )    \n",
    "    \n",
    "def get_top1acc_farmost(rank_ret,prediction_len):    \n",
    "    # evaluate\n",
    "    #top1 accuracy\n",
    "    hitcnt = 0\n",
    "    for rec in rank_ret:\n",
    "        trueRank = rec[2]\n",
    "        predRank = rec[3]\n",
    "\n",
    "        #top1 , rank = 0, first col is not prediction\n",
    "        hitcnt += np.sum((trueRank[:,-1]==0) & (predRank[:,-1]==0)) \n",
    "\n",
    "    print('total:', hitcnt, 'top1acc_farmost=', hitcnt *1.0/ (len(rank_ret)*prediction_length))    \n",
    "\n"
   ]
  },
  {
   "cell_type": "code",
   "execution_count": 24,
   "metadata": {},
   "outputs": [],
   "source": [
    "def run_exp(prediction_length, half_moving_win):\n",
    "    ### create test dataset\n",
    "    test_cars = []\n",
    "    train_ds, test_ds,_,_ = make_dataset(-1, prediction_length,freq, \n",
    "                                         oracle_mode=MODE_TESTCURTRACK,\n",
    "                                         run_ts = COL_TIMEDIFF,\n",
    "                                         test_cars=test_cars,\n",
    "                                         half_moving_win= half_moving_win)\n",
    "    pred_ret = run_prediction(test_ds, prediction_length)\n",
    "    #decode global_carids\n",
    "    decode_carids={carid:carno for carno, carid in global_carids.items()}\n",
    "    models = ['deepAR-Oracle','deepAR-Oracle-curtrack','deepAR','naive','arima']\n",
    "    for model in models:\n",
    "        print('model:', model)\n",
    "        tss, forecasts = pred_ret[model]\n",
    "\n",
    "        rank_ret = eval_rank_bytimediff(test_ds,tss,forecasts,prediction_length)\n",
    "        get_acc(rank_ret,prediction_length)\n",
    "        \n",
    "    return pred_ret"
   ]
  },
  {
   "cell_type": "markdown",
   "metadata": {},
   "source": [
    "#### test 10"
   ]
  },
  {
   "cell_type": "code",
   "execution_count": 27,
   "metadata": {},
   "outputs": [
    {
     "name": "stderr",
     "output_type": "stream",
     "text": [
      "INFO:root:Using GPU\n",
      "/scratch/hpda/anaconda3/envs/gluonts/lib/python3.6/site-packages/gluonts/model/r_forecast/_predictor.py:191: FutureWarning: Addition/subtraction of integers and integer-arrays to Timestamp is deprecated, will be removed in a future version.  Instead of adding/subtracting `n`, use `n * self.freq`\n",
      "  + data[\"target\"].shape[0]\n",
      "INFO:root:Using GPU\n"
     ]
    },
    {
     "name": "stdout",
     "output_type": "stream",
     "text": [
      "tss len=108, forecasts len=108\n"
     ]
    },
    {
     "name": "stderr",
     "output_type": "stream",
     "text": [
      "INFO:root:Using GPU\n"
     ]
    },
    {
     "name": "stdout",
     "output_type": "stream",
     "text": [
      "tss len=108, forecasts len=108\n",
      "tss len=108, forecasts len=108\n",
      "tss len=108, forecasts len=108\n",
      "tss len=108, forecasts len=108\n"
     ]
    }
   ],
   "source": [
    "prediction_length = 10\n",
    "### create test dataset\n",
    "test_cars = list(completed_car_numbers)\n",
    "train_ds, test_ds,_,_ = make_dataset(events_id[event], prediction_length,freq, \n",
    "                                     oracle_mode=MODE_TESTCURTRACK,\n",
    "                                     run_ts = COL_TIMEDIFF,\n",
    "                                     test_cars=test_cars)\n",
    "pred_ret10 = run_prediction(prediction_length)"
   ]
  },
  {
   "cell_type": "code",
   "execution_count": 34,
   "metadata": {},
   "outputs": [
    {
     "name": "stdout",
     "output_type": "stream",
     "text": [
      "model: deepAR-Oracle\n",
      "total: 6 top1acc= 0.25 top1acc_farmost= 0.0 top5acc= 0.53 top5acc_farmost= 0.02666666666666667\n",
      "model: deepAR-Oracle-curtrack\n",
      "total: 6 top1acc= 0.21666666666666667 top1acc_farmost= 0.016666666666666666 top5acc= 0.55 top5acc_farmost= 0.03666666666666667\n",
      "model: deepAR\n",
      "total: 6 top1acc= 0.31666666666666665 top1acc_farmost= 0.0 top5acc= 0.55 top5acc_farmost= 0.03666666666666667\n",
      "model: naive\n",
      "total: 6 top1acc= 0.23333333333333334 top1acc_farmost= 0.016666666666666666 top5acc= 0.54 top5acc_farmost= 0.03666666666666667\n",
      "model: arima\n",
      "total: 6 top1acc= 0.26666666666666666 top1acc_farmost= 0.0 top5acc= 0.5233333333333333 top5acc_farmost= 0.03\n"
     ]
    }
   ],
   "source": [
    "#decode global_carids\n",
    "decode_carids={carid:carno for carno, carid in global_carids.items()}\n",
    "models = ['deepAR-Oracle','deepAR-Oracle-curtrack','deepAR','naive','arima']\n",
    "for model in models:\n",
    "    print('model:', model)\n",
    "    tss, forecasts = pred_ret10[model]\n",
    "    \n",
    "    rank_ret = eval_rank_bytimediff()\n",
    "    get_acc()\n"
   ]
  },
  {
   "cell_type": "markdown",
   "metadata": {},
   "source": [
    "#### test t5"
   ]
  },
  {
   "cell_type": "code",
   "execution_count": 67,
   "metadata": {},
   "outputs": [
    {
     "name": "stdout",
     "output_type": "stream",
     "text": [
      "====event:Indy500, train_len=160, max_len=200, min_len=200\n",
      "carno:1, totallen:200, nancount:0, test_reccnt:18\n",
      "a short ts: carid=3，len=146\n",
      "carno:4, totallen:200, nancount:0, test_reccnt:18\n",
      "carno:6, totallen:200, nancount:0, test_reccnt:18\n",
      "carno:9, totallen:200, nancount:0, test_reccnt:18\n",
      "a short ts: carid=10，len=57\n",
      "carno:12, totallen:200, nancount:0, test_reccnt:18\n",
      "a short ts: carid=13，len=67\n",
      "carno:15, totallen:200, nancount:0, test_reccnt:18\n",
      "a short ts: carid=18，len=137\n",
      "carno:20, totallen:200, nancount:0, test_reccnt:18\n",
      "carno:22, totallen:200, nancount:0, test_reccnt:18\n",
      "carno:23, totallen:200, nancount:0, test_reccnt:18\n",
      "a short ts: carid=24，len=154\n",
      "carno:25, totallen:200, nancount:0, test_reccnt:18\n",
      "carno:27, totallen:200, nancount:0, test_reccnt:18\n",
      "carno:28, totallen:200, nancount:0, test_reccnt:18\n",
      "carno:29, totallen:200, nancount:0, test_reccnt:18\n",
      "a short ts: carid=30，len=46\n",
      "a short ts: carid=32，len=110\n",
      "a short ts: carid=33，len=46\n",
      "carno:60, totallen:200, nancount:0, test_reccnt:18\n",
      "carno:64, totallen:200, nancount:0, test_reccnt:18\n",
      "carno:66, totallen:200, nancount:0, test_reccnt:18\n",
      "carno:88, totallen:200, nancount:0, test_reccnt:18\n",
      "carno:98, totallen:200, nancount:0, test_reccnt:18\n",
      "prediction_length:5,train len:18, test len:324\n"
     ]
    }
   ],
   "source": [
    "prediction_length = 5\n",
    "### create test dataset\n",
    "test_cars = list(completed_car_numbers)\n",
    "train_ds, test_ds,_,_ = make_dataset(events_id[event], prediction_length,freq, \n",
    "                                     oracle_mode=MODE_TESTCURTRACK,\n",
    "                                     run_ts = COL_TIMEDIFF,\n",
    "                                     test_cars=test_cars)\n"
   ]
  },
  {
   "cell_type": "code",
   "execution_count": 68,
   "metadata": {},
   "outputs": [
    {
     "name": "stderr",
     "output_type": "stream",
     "text": [
      "INFO:root:Using GPU\n"
     ]
    },
    {
     "name": "stdout",
     "output_type": "stream",
     "text": [
      "predicting model=deepAR-Oracle-curtrack, plen=5\n"
     ]
    },
    {
     "name": "stderr",
     "output_type": "stream",
     "text": [
      "INFO:root:Using GPU\n"
     ]
    },
    {
     "name": "stdout",
     "output_type": "stream",
     "text": [
      "tss len=324, forecasts len=324\n",
      "predicting model=deepAR-Oracle, plen=5\n"
     ]
    },
    {
     "name": "stderr",
     "output_type": "stream",
     "text": [
      "INFO:root:Using GPU\n"
     ]
    },
    {
     "name": "stdout",
     "output_type": "stream",
     "text": [
      "tss len=324, forecasts len=324\n",
      "predicting model=deepAR, plen=5\n",
      "tss len=324, forecasts len=324\n",
      "predicting model=naive, plen=5\n",
      "tss len=324, forecasts len=324\n",
      "predicting model=arima, plen=5\n",
      "tss len=324, forecasts len=324\n"
     ]
    }
   ],
   "source": [
    "pred_ret5 = run_prediction(prediction_length)"
   ]
  },
  {
   "cell_type": "code",
   "execution_count": 69,
   "metadata": {},
   "outputs": [
    {
     "name": "stdout",
     "output_type": "stream",
     "text": [
      "model: deepAR-Oracle\n",
      "total: 18 top1acc= 0.5888888888888889 top1acc_farmost= 0.03333333333333333 top5acc= 1.2977777777777777 top5acc_farmost= 0.08888888888888889\n",
      "model: deepAR-Oracle-curtrack\n",
      "total: 18 top1acc= 0.6111111111111112 top1acc_farmost= 0.011111111111111112 top5acc= 1.2977777777777777 top5acc_farmost= 0.08888888888888889\n",
      "model: deepAR\n",
      "total: 18 top1acc= 0.6111111111111112 top1acc_farmost= 0.011111111111111112 top5acc= 1.2866666666666666 top5acc_farmost= 0.08444444444444445\n",
      "model: naive\n",
      "total: 18 top1acc= 0.5555555555555556 top1acc_farmost= 0.011111111111111112 top5acc= 1.2955555555555556 top5acc_farmost= 0.09555555555555556\n",
      "model: arima\n",
      "total: 18 top1acc= 0.6 top1acc_farmost= 0.022222222222222223 top5acc= 1.288888888888889 top5acc_farmost= 0.08444444444444445\n"
     ]
    }
   ],
   "source": [
    "#decode global_carids\n",
    "decode_carids={carid:carno for carno, carid in global_carids.items()}\n",
    "models = ['deepAR-Oracle','deepAR-Oracle-curtrack','deepAR','naive','arima']\n",
    "for model in models:\n",
    "    print('model:', model)\n",
    "    tss, forecasts = pred_ret5[model]\n",
    "    \n",
    "    rank_ret = eval_rank_bytimediff()\n",
    "    get_acc()"
   ]
  },
  {
   "cell_type": "markdown",
   "metadata": {},
   "source": [
    "#### test 2"
   ]
  },
  {
   "cell_type": "code",
   "execution_count": 10,
   "metadata": {},
   "outputs": [
    {
     "name": "stdout",
     "output_type": "stream",
     "text": [
      "====event:Phoenix, train_len=200, max_len=250, min_len=250\n",
      "carno:1, totallen:250, nancount:0, test_reccnt:48\n",
      "carno:4, totallen:241, nancount:9, test_reccnt:39\n",
      "carno:5, totallen:250, nancount:0, test_reccnt:48\n",
      "carno:6, totallen:250, nancount:0, test_reccnt:48\n",
      "carno:9, totallen:250, nancount:0, test_reccnt:48\n",
      "carno:10, totallen:229, nancount:21, test_reccnt:27\n",
      "a short ts: carid=12，len=154\n",
      "carno:14, totallen:250, nancount:0, test_reccnt:48\n",
      "carno:15, totallen:250, nancount:0, test_reccnt:48\n",
      "carno:18, totallen:249, nancount:1, test_reccnt:47\n",
      "a short ts: carid=19，len=40\n",
      "carno:20, totallen:250, nancount:0, test_reccnt:48\n",
      "carno:21, totallen:249, nancount:1, test_reccnt:47\n",
      "carno:22, totallen:250, nancount:0, test_reccnt:48\n",
      "carno:23, totallen:248, nancount:2, test_reccnt:46\n",
      "carno:26, totallen:249, nancount:1, test_reccnt:47\n",
      "carno:27, totallen:250, nancount:0, test_reccnt:48\n",
      "carno:28, totallen:250, nancount:0, test_reccnt:48\n",
      "carno:30, totallen:250, nancount:0, test_reccnt:48\n",
      "a short ts: carid=32，len=174\n",
      "carno:59, totallen:247, nancount:3, test_reccnt:45\n",
      "carno:88, totallen:249, nancount:1, test_reccnt:47\n",
      "carno:98, totallen:249, nancount:1, test_reccnt:47\n",
      "====event:Indy500, train_len=160, max_len=200, min_len=200\n",
      "carno:1, totallen:200, nancount:0, test_reccnt:38\n",
      "a short ts: carid=3，len=146\n",
      "carno:4, totallen:200, nancount:0, test_reccnt:38\n",
      "carno:6, totallen:200, nancount:0, test_reccnt:38\n",
      "carno:7, totallen:193, nancount:7, test_reccnt:31\n",
      "carno:9, totallen:200, nancount:0, test_reccnt:38\n",
      "a short ts: carid=10，len=57\n",
      "carno:12, totallen:200, nancount:0, test_reccnt:38\n",
      "a short ts: carid=13，len=67\n",
      "carno:14, totallen:187, nancount:13, test_reccnt:25\n",
      "carno:15, totallen:200, nancount:0, test_reccnt:38\n",
      "carno:17, totallen:199, nancount:1, test_reccnt:37\n",
      "a short ts: carid=18，len=137\n",
      "carno:19, totallen:199, nancount:1, test_reccnt:37\n",
      "carno:20, totallen:200, nancount:0, test_reccnt:38\n",
      "carno:21, totallen:199, nancount:1, test_reccnt:37\n",
      "carno:22, totallen:200, nancount:0, test_reccnt:38\n",
      "carno:23, totallen:200, nancount:0, test_reccnt:38\n",
      "a short ts: carid=24，len=154\n",
      "carno:25, totallen:200, nancount:0, test_reccnt:38\n",
      "carno:26, totallen:198, nancount:2, test_reccnt:36\n",
      "carno:27, totallen:200, nancount:0, test_reccnt:38\n",
      "carno:28, totallen:200, nancount:0, test_reccnt:38\n",
      "carno:29, totallen:200, nancount:0, test_reccnt:38\n",
      "a short ts: carid=30，len=46\n",
      "a short ts: carid=32，len=110\n",
      "a short ts: carid=33，len=46\n",
      "carno:59, totallen:198, nancount:2, test_reccnt:36\n",
      "carno:60, totallen:200, nancount:0, test_reccnt:38\n",
      "carno:64, totallen:200, nancount:0, test_reccnt:38\n",
      "carno:66, totallen:200, nancount:0, test_reccnt:38\n",
      "carno:88, totallen:200, nancount:0, test_reccnt:38\n",
      "carno:98, totallen:200, nancount:0, test_reccnt:38\n",
      "====event:Texas, train_len=198, max_len=248, min_len=248\n",
      "carno:1, totallen:244, nancount:4, test_reccnt:44\n",
      "a short ts: carid=3，len=2\n",
      "a short ts: carid=4，len=5\n",
      "carno:5, totallen:248, nancount:0, test_reccnt:48\n",
      "a short ts: carid=6，len=171\n",
      "a short ts: carid=7，len=2\n",
      "carno:9, totallen:248, nancount:0, test_reccnt:48\n",
      "carno:10, totallen:248, nancount:0, test_reccnt:48\n",
      "carno:12, totallen:204, nancount:44, test_reccnt:4\n",
      "a short ts: carid=14，len=31\n",
      "carno:15, totallen:248, nancount:0, test_reccnt:48\n",
      "carno:18, totallen:248, nancount:0, test_reccnt:48\n",
      "carno:19, totallen:205, nancount:43, test_reccnt:5\n",
      "a short ts: carid=20，len=168\n",
      "carno:21, totallen:247, nancount:1, test_reccnt:47\n",
      "carno:22, totallen:248, nancount:0, test_reccnt:48\n",
      "carno:23, totallen:247, nancount:1, test_reccnt:47\n",
      "a short ts: carid=25，len=2\n",
      "carno:26, totallen:238, nancount:10, test_reccnt:38\n",
      "carno:27, totallen:248, nancount:0, test_reccnt:48\n",
      "carno:28, totallen:248, nancount:0, test_reccnt:48\n",
      "carno:30, totallen:248, nancount:0, test_reccnt:48\n",
      "a short ts: carid=47，len=2\n",
      "a short ts: carid=55，len=2\n",
      "a short ts: carid=57，len=2\n",
      "carno:59, totallen:247, nancount:1, test_reccnt:47\n",
      "a short ts: carid=60，len=2\n",
      "a short ts: carid=68，len=2\n",
      "a short ts: carid=73，len=2\n",
      "a short ts: carid=83，len=2\n",
      "carno:88, totallen:240, nancount:8, test_reccnt:40\n",
      "carno:98, totallen:244, nancount:4, test_reccnt:44\n",
      "====event:Iowa, train_len=240, max_len=300, min_len=300\n",
      "carno:1, totallen:300, nancount:0, test_reccnt:58\n",
      "a short ts: carid=4，len=41\n",
      "carno:5, totallen:300, nancount:0, test_reccnt:58\n",
      "carno:6, totallen:300, nancount:0, test_reccnt:58\n",
      "carno:9, totallen:296, nancount:4, test_reccnt:54\n",
      "carno:10, totallen:295, nancount:5, test_reccnt:53\n",
      "carno:12, totallen:299, nancount:1, test_reccnt:57\n",
      "carno:14, totallen:292, nancount:8, test_reccnt:50\n",
      "carno:15, totallen:299, nancount:1, test_reccnt:57\n",
      "carno:18, totallen:297, nancount:3, test_reccnt:55\n",
      "carno:19, totallen:291, nancount:9, test_reccnt:49\n",
      "carno:20, totallen:298, nancount:2, test_reccnt:56\n",
      "carno:21, totallen:300, nancount:0, test_reccnt:58\n",
      "carno:22, totallen:299, nancount:1, test_reccnt:57\n",
      "carno:23, totallen:295, nancount:5, test_reccnt:53\n",
      "carno:26, totallen:279, nancount:21, test_reccnt:37\n",
      "carno:27, totallen:298, nancount:2, test_reccnt:56\n",
      "carno:28, totallen:283, nancount:17, test_reccnt:41\n",
      "carno:30, totallen:300, nancount:0, test_reccnt:58\n",
      "carno:59, totallen:294, nancount:6, test_reccnt:52\n",
      "a short ts: carid=88，len=100\n",
      "carno:98, totallen:293, nancount:7, test_reccnt:51\n",
      "====event:Pocono, train_len=160, max_len=200, min_len=200\n",
      "carno:1, totallen:199, nancount:1, test_reccnt:37\n",
      "carno:4, totallen:197, nancount:3, test_reccnt:35\n",
      "a short ts: carid=5，len=6\n",
      "a short ts: carid=6，len=6\n",
      "carno:9, totallen:200, nancount:0, test_reccnt:38\n",
      "carno:10, totallen:197, nancount:3, test_reccnt:35\n",
      "carno:12, totallen:200, nancount:0, test_reccnt:38\n",
      "a short ts: carid=14，len=16\n",
      "carno:15, totallen:196, nancount:4, test_reccnt:34\n",
      "carno:18, totallen:200, nancount:0, test_reccnt:38\n",
      "a short ts: carid=19，len=6\n",
      "carno:20, totallen:197, nancount:3, test_reccnt:35\n",
      "a short ts: carid=21，len=17\n",
      "carno:22, totallen:199, nancount:1, test_reccnt:37\n",
      "carno:23, totallen:198, nancount:2, test_reccnt:36\n",
      "carno:26, totallen:199, nancount:1, test_reccnt:37\n",
      "carno:27, totallen:200, nancount:0, test_reccnt:38\n",
      "a short ts: carid=28，len=6\n",
      "a short ts: carid=30，len=6\n",
      "carno:59, totallen:196, nancount:4, test_reccnt:34\n",
      "carno:88, totallen:162, nancount:38, test_reccnt:0\n",
      "carno:98, totallen:199, nancount:1, test_reccnt:37\n",
      "====event:Gateway, train_len=198, max_len=248, min_len=248\n",
      "carno:1, totallen:248, nancount:0, test_reccnt:48\n",
      "carno:4, totallen:246, nancount:2, test_reccnt:46\n",
      "carno:5, totallen:246, nancount:2, test_reccnt:46\n",
      "carno:9, totallen:248, nancount:0, test_reccnt:48\n",
      "carno:10, totallen:248, nancount:0, test_reccnt:48\n",
      "carno:12, totallen:248, nancount:0, test_reccnt:48\n",
      "carno:14, totallen:246, nancount:2, test_reccnt:46\n",
      "carno:15, totallen:247, nancount:1, test_reccnt:47\n",
      "a short ts: carid=18，len=0\n",
      "carno:19, totallen:247, nancount:1, test_reccnt:47\n",
      "carno:20, totallen:247, nancount:1, test_reccnt:47\n",
      "carno:21, totallen:248, nancount:0, test_reccnt:48\n",
      "carno:22, totallen:248, nancount:0, test_reccnt:48\n",
      "carno:23, totallen:235, nancount:13, test_reccnt:35\n",
      "carno:26, totallen:248, nancount:0, test_reccnt:48\n",
      "carno:27, totallen:248, nancount:0, test_reccnt:48\n",
      "a short ts: carid=28，len=173\n",
      "carno:30, totallen:247, nancount:1, test_reccnt:47\n",
      "carno:59, totallen:244, nancount:4, test_reccnt:44\n",
      "carno:88, totallen:242, nancount:6, test_reccnt:42\n",
      "carno:98, totallen:246, nancount:2, test_reccnt:46\n",
      "prediction_length:2,train len:117, test len:5045\n"
     ]
    }
   ],
   "source": [
    "prediction_length = 2\n",
    "freq='1min'\n",
    "test_cars = []\n",
    "### create test dataset\n",
    "train_ds, test_ds,_,_ = make_dataset(-1, prediction_length,freq, \n",
    "                                     oracle_mode=MODE_TESTCURTRACK,\n",
    "                                     run_ts = COL_TIMEDIFF,\n",
    "                                     test_cars=test_cars)"
   ]
  },
  {
   "cell_type": "code",
   "execution_count": 11,
   "metadata": {},
   "outputs": [
    {
     "name": "stderr",
     "output_type": "stream",
     "text": [
      "INFO:root:Using GPU\n"
     ]
    },
    {
     "name": "stdout",
     "output_type": "stream",
     "text": [
      "predicting model=deepAR-Oracle-curtrack, plen=2\n",
      "loading model...done!, ctx:gpu(0)\n"
     ]
    },
    {
     "name": "stderr",
     "output_type": "stream",
     "text": [
      "INFO:root:Using GPU\n"
     ]
    },
    {
     "name": "stdout",
     "output_type": "stream",
     "text": [
      "tss len=5045, forecasts len=5045\n",
      "predicting model=deepAR-Oracle, plen=2\n",
      "loading model...done!, ctx:gpu(0)\n"
     ]
    },
    {
     "name": "stderr",
     "output_type": "stream",
     "text": [
      "INFO:root:Using GPU\n"
     ]
    },
    {
     "name": "stdout",
     "output_type": "stream",
     "text": [
      "tss len=5045, forecasts len=5045\n",
      "predicting model=deepAR, plen=2\n",
      "loading model...done!, ctx:gpu(0)\n",
      "tss len=5045, forecasts len=5045\n",
      "predicting model=naive, plen=2\n"
     ]
    },
    {
     "name": "stderr",
     "output_type": "stream",
     "text": [
      "/N/u/pengb/hpda/indycar/predictor/src/indycar/model/NaivePredictor.py:60: FutureWarning: Addition/subtraction of integers and integer-arrays to Timestamp is deprecated, will be removed in a future version.  Instead of adding/subtracting `n`, use `n * self.freq`\n",
      "  start_date=start + target_len,\n"
     ]
    },
    {
     "name": "stdout",
     "output_type": "stream",
     "text": [
      "tss len=5045, forecasts len=5045\n",
      "predicting model=arima, plen=2\n"
     ]
    },
    {
     "name": "stderr",
     "output_type": "stream",
     "text": [
      "/scratch/hpda/anaconda3/envs/gluonts/lib/python3.6/site-packages/rpy2/rinterface/__init__.py:146: RRuntimeWarning: Registered S3 method overwritten by 'quantmod':\n",
      "  method            from\n",
      "  as.zoo.data.frame zoo \n",
      "\n",
      "  warnings.warn(x, RRuntimeWarning)\n"
     ]
    }
   ],
   "source": [
    "pred_ret2 = run_prediction(prediction_length)"
   ]
  },
  {
   "cell_type": "code",
   "execution_count": 12,
   "metadata": {},
   "outputs": [
    {
     "name": "stdout",
     "output_type": "stream",
     "text": [
      "model: deepAR-Oracle\n",
      "total:138, prediction_length:2\n",
      "top1acc= 0.7427536231884058 top1acc_farmost= 0.36231884057971014 top5acc= 0.9326086956521739 top5acc_farmost= 0.4572463768115942\n",
      "model: deepAR-Oracle-curtrack\n",
      "total:138, prediction_length:2\n",
      "top1acc= 0.7644927536231884 top1acc_farmost= 0.37318840579710144 top5acc= 0.9384057971014492 top5acc_farmost= 0.4601449275362319\n",
      "model: deepAR\n",
      "total:138, prediction_length:2\n",
      "top1acc= 0.75 top1acc_farmost= 0.3695652173913043 top5acc= 0.9376811594202898 top5acc_farmost= 0.4601449275362319\n",
      "model: naive\n",
      "total:138, prediction_length:2\n",
      "top1acc= 0.8876811594202898 top1acc_farmost= 0.427536231884058 top5acc= 0.9485507246376812 top5acc_farmost= 0.4673913043478261\n",
      "model: arima\n",
      "total:138, prediction_length:2\n",
      "top1acc= 0.8876811594202898 top1acc_farmost= 0.427536231884058 top5acc= 0.9485507246376812 top5acc_farmost= 0.4673913043478261\n"
     ]
    }
   ],
   "source": [
    "#decode global_carids\n",
    "decode_carids={carid:carno for carno, carid in global_carids.items()}\n",
    "models = ['deepAR-Oracle','deepAR-Oracle-curtrack','deepAR','naive','arima']\n",
    "for model in models:\n",
    "    print('model:', model)\n",
    "    tss, forecasts = pred_ret2[model]\n",
    "    \n",
    "    rank_ret = eval_rank_bytimediff()\n",
    "    get_acc()"
   ]
  },
  {
   "cell_type": "code",
   "execution_count": 15,
   "metadata": {},
   "outputs": [
    {
     "name": "stdout",
     "output_type": "stream",
     "text": [
      "====event:Phoenix, train_len=200, max_len=250, min_len=250\n",
      "carno:1, totallen:250, nancount:0, test_reccnt:24\n",
      "carno:4, totallen:241, nancount:9, test_reccnt:20\n",
      "carno:5, totallen:250, nancount:0, test_reccnt:24\n",
      "carno:6, totallen:250, nancount:0, test_reccnt:24\n",
      "carno:9, totallen:250, nancount:0, test_reccnt:24\n",
      "carno:10, totallen:229, nancount:21, test_reccnt:14\n",
      "a short ts: carid=12，len=154\n",
      "carno:14, totallen:250, nancount:0, test_reccnt:24\n",
      "carno:15, totallen:250, nancount:0, test_reccnt:24\n",
      "carno:18, totallen:249, nancount:1, test_reccnt:24\n",
      "a short ts: carid=19，len=40\n",
      "carno:20, totallen:250, nancount:0, test_reccnt:24\n",
      "carno:21, totallen:249, nancount:1, test_reccnt:24\n",
      "carno:22, totallen:250, nancount:0, test_reccnt:24\n",
      "carno:23, totallen:248, nancount:2, test_reccnt:23\n",
      "carno:26, totallen:249, nancount:1, test_reccnt:24\n",
      "carno:27, totallen:250, nancount:0, test_reccnt:24\n",
      "carno:28, totallen:250, nancount:0, test_reccnt:24\n",
      "carno:30, totallen:250, nancount:0, test_reccnt:24\n",
      "a short ts: carid=32，len=174\n",
      "carno:59, totallen:247, nancount:3, test_reccnt:23\n",
      "carno:88, totallen:249, nancount:1, test_reccnt:24\n",
      "carno:98, totallen:249, nancount:1, test_reccnt:24\n",
      "====event:Indy500, train_len=160, max_len=200, min_len=200\n",
      "carno:1, totallen:200, nancount:0, test_reccnt:19\n",
      "a short ts: carid=3，len=146\n",
      "carno:4, totallen:200, nancount:0, test_reccnt:19\n",
      "carno:6, totallen:200, nancount:0, test_reccnt:19\n",
      "carno:7, totallen:193, nancount:7, test_reccnt:16\n",
      "carno:9, totallen:200, nancount:0, test_reccnt:19\n",
      "a short ts: carid=10，len=57\n",
      "carno:12, totallen:200, nancount:0, test_reccnt:19\n",
      "a short ts: carid=13，len=67\n",
      "carno:14, totallen:187, nancount:13, test_reccnt:13\n",
      "carno:15, totallen:200, nancount:0, test_reccnt:19\n",
      "carno:17, totallen:199, nancount:1, test_reccnt:19\n",
      "a short ts: carid=18，len=137\n",
      "carno:19, totallen:199, nancount:1, test_reccnt:19\n",
      "carno:20, totallen:200, nancount:0, test_reccnt:19\n",
      "carno:21, totallen:199, nancount:1, test_reccnt:19\n",
      "carno:22, totallen:200, nancount:0, test_reccnt:19\n",
      "carno:23, totallen:200, nancount:0, test_reccnt:19\n",
      "a short ts: carid=24，len=154\n",
      "carno:25, totallen:200, nancount:0, test_reccnt:19\n",
      "carno:26, totallen:198, nancount:2, test_reccnt:18\n",
      "carno:27, totallen:200, nancount:0, test_reccnt:19\n",
      "carno:28, totallen:200, nancount:0, test_reccnt:19\n",
      "carno:29, totallen:200, nancount:0, test_reccnt:19\n",
      "a short ts: carid=30，len=46\n",
      "a short ts: carid=32，len=110\n",
      "a short ts: carid=33，len=46\n",
      "carno:59, totallen:198, nancount:2, test_reccnt:18\n",
      "carno:60, totallen:200, nancount:0, test_reccnt:19\n",
      "carno:64, totallen:200, nancount:0, test_reccnt:19\n",
      "carno:66, totallen:200, nancount:0, test_reccnt:19\n",
      "carno:88, totallen:200, nancount:0, test_reccnt:19\n",
      "carno:98, totallen:200, nancount:0, test_reccnt:19\n",
      "====event:Texas, train_len=198, max_len=248, min_len=248\n",
      "carno:1, totallen:244, nancount:4, test_reccnt:22\n",
      "a short ts: carid=3，len=2\n",
      "a short ts: carid=4，len=5\n",
      "carno:5, totallen:248, nancount:0, test_reccnt:24\n",
      "a short ts: carid=6，len=171\n",
      "a short ts: carid=7，len=2\n",
      "carno:9, totallen:248, nancount:0, test_reccnt:24\n",
      "carno:10, totallen:248, nancount:0, test_reccnt:24\n",
      "carno:12, totallen:204, nancount:44, test_reccnt:2\n",
      "a short ts: carid=14，len=31\n",
      "carno:15, totallen:248, nancount:0, test_reccnt:24\n",
      "carno:18, totallen:248, nancount:0, test_reccnt:24\n",
      "carno:19, totallen:205, nancount:43, test_reccnt:3\n",
      "a short ts: carid=20，len=168\n",
      "carno:21, totallen:247, nancount:1, test_reccnt:24\n",
      "carno:22, totallen:248, nancount:0, test_reccnt:24\n",
      "carno:23, totallen:247, nancount:1, test_reccnt:24\n",
      "a short ts: carid=25，len=2\n",
      "carno:26, totallen:238, nancount:10, test_reccnt:19\n",
      "carno:27, totallen:248, nancount:0, test_reccnt:24\n",
      "carno:28, totallen:248, nancount:0, test_reccnt:24\n",
      "carno:30, totallen:248, nancount:0, test_reccnt:24\n",
      "a short ts: carid=47，len=2\n",
      "a short ts: carid=55，len=2\n",
      "a short ts: carid=57，len=2\n",
      "carno:59, totallen:247, nancount:1, test_reccnt:24\n",
      "a short ts: carid=60，len=2\n",
      "a short ts: carid=68，len=2\n",
      "a short ts: carid=73，len=2\n",
      "a short ts: carid=83，len=2\n",
      "carno:88, totallen:240, nancount:8, test_reccnt:20\n",
      "carno:98, totallen:244, nancount:4, test_reccnt:22\n",
      "====event:Iowa, train_len=240, max_len=300, min_len=300\n",
      "carno:1, totallen:300, nancount:0, test_reccnt:29\n",
      "a short ts: carid=4，len=41\n",
      "carno:5, totallen:300, nancount:0, test_reccnt:29\n",
      "carno:6, totallen:300, nancount:0, test_reccnt:29\n",
      "carno:9, totallen:296, nancount:4, test_reccnt:27\n",
      "carno:10, totallen:295, nancount:5, test_reccnt:27\n",
      "carno:12, totallen:299, nancount:1, test_reccnt:29\n",
      "carno:14, totallen:292, nancount:8, test_reccnt:25\n",
      "carno:15, totallen:299, nancount:1, test_reccnt:29\n",
      "carno:18, totallen:297, nancount:3, test_reccnt:28\n",
      "carno:19, totallen:291, nancount:9, test_reccnt:25\n",
      "carno:20, totallen:298, nancount:2, test_reccnt:28\n",
      "carno:21, totallen:300, nancount:0, test_reccnt:29\n",
      "carno:22, totallen:299, nancount:1, test_reccnt:29\n",
      "carno:23, totallen:295, nancount:5, test_reccnt:27\n",
      "carno:26, totallen:279, nancount:21, test_reccnt:19\n",
      "carno:27, totallen:298, nancount:2, test_reccnt:28\n",
      "carno:28, totallen:283, nancount:17, test_reccnt:21\n",
      "carno:30, totallen:300, nancount:0, test_reccnt:29\n",
      "carno:59, totallen:294, nancount:6, test_reccnt:26\n",
      "a short ts: carid=88，len=100\n",
      "carno:98, totallen:293, nancount:7, test_reccnt:26\n",
      "====event:Pocono, train_len=160, max_len=200, min_len=200\n",
      "carno:1, totallen:199, nancount:1, test_reccnt:19\n",
      "carno:4, totallen:197, nancount:3, test_reccnt:18\n",
      "a short ts: carid=5，len=6\n",
      "a short ts: carid=6，len=6\n",
      "carno:9, totallen:200, nancount:0, test_reccnt:19\n",
      "carno:10, totallen:197, nancount:3, test_reccnt:18\n",
      "carno:12, totallen:200, nancount:0, test_reccnt:19\n",
      "a short ts: carid=14，len=16\n",
      "carno:15, totallen:196, nancount:4, test_reccnt:17\n",
      "carno:18, totallen:200, nancount:0, test_reccnt:19\n",
      "a short ts: carid=19，len=6\n",
      "carno:20, totallen:197, nancount:3, test_reccnt:18\n",
      "a short ts: carid=21，len=17\n",
      "carno:22, totallen:199, nancount:1, test_reccnt:19\n",
      "carno:23, totallen:198, nancount:2, test_reccnt:18\n",
      "carno:26, totallen:199, nancount:1, test_reccnt:19\n",
      "carno:27, totallen:200, nancount:0, test_reccnt:19\n",
      "a short ts: carid=28，len=6\n",
      "a short ts: carid=30，len=6\n",
      "carno:59, totallen:196, nancount:4, test_reccnt:17\n",
      "carno:88, totallen:162, nancount:38, test_reccnt:0\n",
      "carno:98, totallen:199, nancount:1, test_reccnt:19\n",
      "====event:Gateway, train_len=198, max_len=248, min_len=248\n",
      "carno:1, totallen:248, nancount:0, test_reccnt:24\n",
      "carno:4, totallen:246, nancount:2, test_reccnt:23\n",
      "carno:5, totallen:246, nancount:2, test_reccnt:23\n",
      "carno:9, totallen:248, nancount:0, test_reccnt:24\n",
      "carno:10, totallen:248, nancount:0, test_reccnt:24\n",
      "carno:12, totallen:248, nancount:0, test_reccnt:24\n",
      "carno:14, totallen:246, nancount:2, test_reccnt:23\n",
      "carno:15, totallen:247, nancount:1, test_reccnt:24\n",
      "a short ts: carid=18，len=0\n",
      "carno:19, totallen:247, nancount:1, test_reccnt:24\n",
      "carno:20, totallen:247, nancount:1, test_reccnt:24\n",
      "carno:21, totallen:248, nancount:0, test_reccnt:24\n",
      "carno:22, totallen:248, nancount:0, test_reccnt:24\n",
      "carno:23, totallen:235, nancount:13, test_reccnt:18\n",
      "carno:26, totallen:248, nancount:0, test_reccnt:24\n",
      "carno:27, totallen:248, nancount:0, test_reccnt:24\n",
      "a short ts: carid=28，len=173\n",
      "carno:30, totallen:247, nancount:1, test_reccnt:24\n",
      "carno:59, totallen:244, nancount:4, test_reccnt:22\n",
      "carno:88, totallen:242, nancount:6, test_reccnt:21\n",
      "carno:98, totallen:246, nancount:2, test_reccnt:23\n",
      "prediction_length:2,train len:117, test len:2542\n"
     ]
    },
    {
     "name": "stderr",
     "output_type": "stream",
     "text": [
      "INFO:root:Using GPU\n"
     ]
    },
    {
     "name": "stdout",
     "output_type": "stream",
     "text": [
      "predicting model=deepAR-Oracle-curtrack, plen=2\n",
      "loading model...done!, ctx:gpu(0)\n"
     ]
    },
    {
     "name": "stderr",
     "output_type": "stream",
     "text": [
      "INFO:root:Using GPU\n"
     ]
    },
    {
     "name": "stdout",
     "output_type": "stream",
     "text": [
      "tss len=5045, forecasts len=5045\n",
      "predicting model=deepAR-Oracle, plen=2\n",
      "loading model...done!, ctx:gpu(0)\n"
     ]
    },
    {
     "name": "stderr",
     "output_type": "stream",
     "text": [
      "INFO:root:Using GPU\n"
     ]
    },
    {
     "name": "stdout",
     "output_type": "stream",
     "text": [
      "tss len=5045, forecasts len=5045\n",
      "predicting model=deepAR, plen=2\n",
      "loading model...done!, ctx:gpu(0)\n",
      "tss len=5045, forecasts len=5045\n",
      "predicting model=naive, plen=2\n"
     ]
    },
    {
     "name": "stderr",
     "output_type": "stream",
     "text": [
      "/N/u/pengb/hpda/indycar/predictor/src/indycar/model/NaivePredictor.py:60: FutureWarning: Addition/subtraction of integers and integer-arrays to Timestamp is deprecated, will be removed in a future version.  Instead of adding/subtracting `n`, use `n * self.freq`\n",
      "  start_date=start + target_len,\n"
     ]
    },
    {
     "name": "stdout",
     "output_type": "stream",
     "text": [
      "tss len=5045, forecasts len=5045\n",
      "predicting model=arima, plen=2\n",
      "model: deepAR-Oracle\n",
      "total:138, prediction_length:2\n",
      "top1acc= 0.8876811594202898 top1acc_farmost= 0.427536231884058 top5acc= 0.9485507246376812 top5acc_farmost= 0.4673913043478261\n",
      "model: deepAR-Oracle-curtrack\n",
      "total:138, prediction_length:2\n",
      "top1acc= 0.8876811594202898 top1acc_farmost= 0.427536231884058 top5acc= 0.9485507246376812 top5acc_farmost= 0.4673913043478261\n",
      "model: deepAR\n",
      "total:138, prediction_length:2\n",
      "top1acc= 0.8876811594202898 top1acc_farmost= 0.427536231884058 top5acc= 0.9485507246376812 top5acc_farmost= 0.4673913043478261\n",
      "model: naive\n",
      "total:138, prediction_length:2\n",
      "top1acc= 0.8876811594202898 top1acc_farmost= 0.427536231884058 top5acc= 0.9485507246376812 top5acc_farmost= 0.4673913043478261\n",
      "model: arima\n",
      "total:138, prediction_length:2\n",
      "top1acc= 0.8876811594202898 top1acc_farmost= 0.427536231884058 top5acc= 0.9485507246376812 top5acc_farmost= 0.4673913043478261\n"
     ]
    }
   ],
   "source": [
    "# test half moving win\n",
    "pred_ret2_nohalfwin = run_exp(2, False)"
   ]
  },
  {
   "cell_type": "code",
   "execution_count": 25,
   "metadata": {},
   "outputs": [
    {
     "name": "stdout",
     "output_type": "stream",
     "text": [
      "====event:Phoenix, train_len=200, max_len=250, min_len=250\n",
      "carno:1, totallen:250, nancount:0, test_reccnt:23\n",
      "carno:4, totallen:241, nancount:9, test_reccnt:18\n",
      "carno:5, totallen:250, nancount:0, test_reccnt:23\n",
      "carno:6, totallen:250, nancount:0, test_reccnt:23\n",
      "carno:9, totallen:250, nancount:0, test_reccnt:23\n",
      "carno:10, totallen:229, nancount:21, test_reccnt:12\n",
      "a short ts: carid=12，len=154\n",
      "carno:14, totallen:250, nancount:0, test_reccnt:23\n",
      "carno:15, totallen:250, nancount:0, test_reccnt:23\n",
      "carno:18, totallen:249, nancount:1, test_reccnt:22\n",
      "a short ts: carid=19，len=40\n",
      "carno:20, totallen:250, nancount:0, test_reccnt:23\n",
      "carno:21, totallen:249, nancount:1, test_reccnt:22\n",
      "carno:22, totallen:250, nancount:0, test_reccnt:23\n",
      "carno:23, totallen:248, nancount:2, test_reccnt:22\n",
      "carno:26, totallen:249, nancount:1, test_reccnt:22\n",
      "carno:27, totallen:250, nancount:0, test_reccnt:23\n",
      "carno:28, totallen:250, nancount:0, test_reccnt:23\n",
      "carno:30, totallen:250, nancount:0, test_reccnt:23\n",
      "a short ts: carid=32，len=174\n",
      "carno:59, totallen:247, nancount:3, test_reccnt:21\n",
      "carno:88, totallen:249, nancount:1, test_reccnt:22\n",
      "carno:98, totallen:249, nancount:1, test_reccnt:22\n",
      "====event:Indy500, train_len=160, max_len=200, min_len=200\n",
      "carno:1, totallen:200, nancount:0, test_reccnt:18\n",
      "a short ts: carid=3，len=146\n",
      "carno:4, totallen:200, nancount:0, test_reccnt:18\n",
      "carno:6, totallen:200, nancount:0, test_reccnt:18\n",
      "carno:7, totallen:193, nancount:7, test_reccnt:14\n",
      "carno:9, totallen:200, nancount:0, test_reccnt:18\n",
      "a short ts: carid=10，len=57\n",
      "carno:12, totallen:200, nancount:0, test_reccnt:18\n",
      "a short ts: carid=13，len=67\n",
      "carno:14, totallen:187, nancount:13, test_reccnt:11\n",
      "carno:15, totallen:200, nancount:0, test_reccnt:18\n",
      "carno:17, totallen:199, nancount:1, test_reccnt:17\n",
      "a short ts: carid=18，len=137\n",
      "carno:19, totallen:199, nancount:1, test_reccnt:17\n",
      "carno:20, totallen:200, nancount:0, test_reccnt:18\n",
      "carno:21, totallen:199, nancount:1, test_reccnt:17\n",
      "carno:22, totallen:200, nancount:0, test_reccnt:18\n",
      "carno:23, totallen:200, nancount:0, test_reccnt:18\n",
      "a short ts: carid=24，len=154\n",
      "carno:25, totallen:200, nancount:0, test_reccnt:18\n",
      "carno:26, totallen:198, nancount:2, test_reccnt:17\n",
      "carno:27, totallen:200, nancount:0, test_reccnt:18\n",
      "carno:28, totallen:200, nancount:0, test_reccnt:18\n",
      "carno:29, totallen:200, nancount:0, test_reccnt:18\n",
      "a short ts: carid=30，len=46\n",
      "a short ts: carid=32，len=110\n",
      "a short ts: carid=33，len=46\n",
      "carno:59, totallen:198, nancount:2, test_reccnt:17\n",
      "carno:60, totallen:200, nancount:0, test_reccnt:18\n",
      "carno:64, totallen:200, nancount:0, test_reccnt:18\n",
      "carno:66, totallen:200, nancount:0, test_reccnt:18\n",
      "carno:88, totallen:200, nancount:0, test_reccnt:18\n",
      "carno:98, totallen:200, nancount:0, test_reccnt:18\n",
      "====event:Texas, train_len=198, max_len=248, min_len=248\n",
      "carno:1, totallen:244, nancount:4, test_reccnt:21\n",
      "a short ts: carid=3，len=2\n",
      "a short ts: carid=4，len=5\n",
      "carno:5, totallen:248, nancount:0, test_reccnt:23\n",
      "a short ts: carid=6，len=171\n",
      "a short ts: carid=7，len=2\n",
      "carno:9, totallen:248, nancount:0, test_reccnt:23\n",
      "carno:10, totallen:248, nancount:0, test_reccnt:23\n",
      "carno:12, totallen:204, nancount:44, test_reccnt:1\n",
      "a short ts: carid=14，len=31\n",
      "carno:15, totallen:248, nancount:0, test_reccnt:23\n",
      "carno:18, totallen:248, nancount:0, test_reccnt:23\n",
      "carno:19, totallen:205, nancount:43, test_reccnt:1\n",
      "a short ts: carid=20，len=168\n",
      "carno:21, totallen:247, nancount:1, test_reccnt:22\n",
      "carno:22, totallen:248, nancount:0, test_reccnt:23\n",
      "carno:23, totallen:247, nancount:1, test_reccnt:22\n",
      "a short ts: carid=25，len=2\n",
      "carno:26, totallen:238, nancount:10, test_reccnt:18\n",
      "carno:27, totallen:248, nancount:0, test_reccnt:23\n",
      "carno:28, totallen:248, nancount:0, test_reccnt:23\n",
      "carno:30, totallen:248, nancount:0, test_reccnt:23\n",
      "a short ts: carid=47，len=2\n",
      "a short ts: carid=55，len=2\n",
      "a short ts: carid=57，len=2\n",
      "carno:59, totallen:247, nancount:1, test_reccnt:22\n",
      "a short ts: carid=60，len=2\n",
      "a short ts: carid=68，len=2\n",
      "a short ts: carid=73，len=2\n",
      "a short ts: carid=83，len=2\n",
      "carno:88, totallen:240, nancount:8, test_reccnt:19\n",
      "carno:98, totallen:244, nancount:4, test_reccnt:21\n",
      "====event:Iowa, train_len=240, max_len=300, min_len=300\n",
      "carno:1, totallen:300, nancount:0, test_reccnt:28\n",
      "a short ts: carid=4，len=41\n",
      "carno:5, totallen:300, nancount:0, test_reccnt:28\n",
      "carno:6, totallen:300, nancount:0, test_reccnt:28\n",
      "carno:9, totallen:296, nancount:4, test_reccnt:26\n",
      "carno:10, totallen:295, nancount:5, test_reccnt:25\n",
      "carno:12, totallen:299, nancount:1, test_reccnt:27\n",
      "carno:14, totallen:292, nancount:8, test_reccnt:24\n",
      "carno:15, totallen:299, nancount:1, test_reccnt:27\n",
      "carno:18, totallen:297, nancount:3, test_reccnt:26\n",
      "carno:19, totallen:291, nancount:9, test_reccnt:23\n",
      "carno:20, totallen:298, nancount:2, test_reccnt:27\n",
      "carno:21, totallen:300, nancount:0, test_reccnt:28\n",
      "carno:22, totallen:299, nancount:1, test_reccnt:27\n",
      "carno:23, totallen:295, nancount:5, test_reccnt:25\n",
      "carno:26, totallen:279, nancount:21, test_reccnt:17\n",
      "carno:27, totallen:298, nancount:2, test_reccnt:27\n",
      "carno:28, totallen:283, nancount:17, test_reccnt:19\n",
      "carno:30, totallen:300, nancount:0, test_reccnt:28\n",
      "carno:59, totallen:294, nancount:6, test_reccnt:25\n",
      "a short ts: carid=88，len=100\n",
      "carno:98, totallen:293, nancount:7, test_reccnt:24\n",
      "====event:Pocono, train_len=160, max_len=200, min_len=200\n",
      "carno:1, totallen:199, nancount:1, test_reccnt:17\n",
      "carno:4, totallen:197, nancount:3, test_reccnt:16\n",
      "a short ts: carid=5，len=6\n",
      "a short ts: carid=6，len=6\n",
      "carno:9, totallen:200, nancount:0, test_reccnt:18\n",
      "carno:10, totallen:197, nancount:3, test_reccnt:16\n",
      "carno:12, totallen:200, nancount:0, test_reccnt:18\n",
      "a short ts: carid=14，len=16\n",
      "carno:15, totallen:196, nancount:4, test_reccnt:16\n",
      "carno:18, totallen:200, nancount:0, test_reccnt:18\n",
      "a short ts: carid=19，len=6\n",
      "carno:20, totallen:197, nancount:3, test_reccnt:16\n",
      "a short ts: carid=21，len=17\n",
      "carno:22, totallen:199, nancount:1, test_reccnt:17\n",
      "carno:23, totallen:198, nancount:2, test_reccnt:17\n",
      "carno:26, totallen:199, nancount:1, test_reccnt:17\n",
      "carno:27, totallen:200, nancount:0, test_reccnt:18\n",
      "a short ts: carid=28，len=6\n",
      "a short ts: carid=30，len=6\n",
      "carno:59, totallen:196, nancount:4, test_reccnt:16\n",
      "a short ts: carid=88，len=162\n",
      "carno:98, totallen:199, nancount:1, test_reccnt:17\n",
      "====event:Gateway, train_len=198, max_len=248, min_len=248\n",
      "carno:1, totallen:248, nancount:0, test_reccnt:23\n",
      "carno:4, totallen:246, nancount:2, test_reccnt:22\n",
      "carno:5, totallen:246, nancount:2, test_reccnt:22\n",
      "carno:9, totallen:248, nancount:0, test_reccnt:23\n",
      "carno:10, totallen:248, nancount:0, test_reccnt:23\n",
      "carno:12, totallen:248, nancount:0, test_reccnt:23\n",
      "carno:14, totallen:246, nancount:2, test_reccnt:22\n",
      "carno:15, totallen:247, nancount:1, test_reccnt:22\n",
      "a short ts: carid=18，len=0\n",
      "carno:19, totallen:247, nancount:1, test_reccnt:22\n",
      "carno:20, totallen:247, nancount:1, test_reccnt:22\n",
      "carno:21, totallen:248, nancount:0, test_reccnt:23\n",
      "carno:22, totallen:248, nancount:0, test_reccnt:23\n",
      "carno:23, totallen:235, nancount:13, test_reccnt:16\n",
      "carno:26, totallen:248, nancount:0, test_reccnt:23\n",
      "carno:27, totallen:248, nancount:0, test_reccnt:23\n",
      "a short ts: carid=28，len=173\n",
      "carno:30, totallen:247, nancount:1, test_reccnt:22\n",
      "carno:59, totallen:244, nancount:4, test_reccnt:21\n",
      "carno:88, totallen:242, nancount:6, test_reccnt:20\n",
      "carno:98, totallen:246, nancount:2, test_reccnt:22\n",
      "prediction_length:5,train len:116, test len:2387\n"
     ]
    },
    {
     "name": "stderr",
     "output_type": "stream",
     "text": [
      "INFO:root:Using GPU\n"
     ]
    },
    {
     "name": "stdout",
     "output_type": "stream",
     "text": [
      "predicting model=deepAR-Oracle-curtrack, plen=5\n",
      "loading model...done!, ctx:gpu(0)\n"
     ]
    },
    {
     "name": "stderr",
     "output_type": "stream",
     "text": [
      "INFO:root:Using GPU\n"
     ]
    },
    {
     "name": "stdout",
     "output_type": "stream",
     "text": [
      "tss len=2387, forecasts len=2387\n",
      "predicting model=deepAR-Oracle, plen=5\n",
      "loading model...done!, ctx:gpu(0)\n"
     ]
    },
    {
     "name": "stderr",
     "output_type": "stream",
     "text": [
      "INFO:root:Using GPU\n"
     ]
    },
    {
     "name": "stdout",
     "output_type": "stream",
     "text": [
      "tss len=2387, forecasts len=2387\n",
      "predicting model=deepAR, plen=5\n",
      "loading model...done!, ctx:gpu(0)\n",
      "tss len=2387, forecasts len=2387\n",
      "predicting model=naive, plen=5\n",
      "tss len=2387, forecasts len=2387\n",
      "predicting model=arima, plen=5\n",
      "model: deepAR-Oracle\n",
      "total:132, prediction_length:0\n",
      "top1acc= inf top1acc_farmost= inf top5acc= inf top5acc_farmost= inf\n",
      "model: deepAR-Oracle-curtrack\n"
     ]
    },
    {
     "name": "stderr",
     "output_type": "stream",
     "text": [
      "/scratch/hpda/anaconda3/envs/gluonts/lib/python3.6/site-packages/ipykernel_launcher.py:96: RuntimeWarning: divide by zero encountered in double_scalars\n",
      "/scratch/hpda/anaconda3/envs/gluonts/lib/python3.6/site-packages/ipykernel_launcher.py:97: RuntimeWarning: divide by zero encountered in double_scalars\n",
      "/scratch/hpda/anaconda3/envs/gluonts/lib/python3.6/site-packages/ipykernel_launcher.py:98: RuntimeWarning: divide by zero encountered in double_scalars\n",
      "/scratch/hpda/anaconda3/envs/gluonts/lib/python3.6/site-packages/ipykernel_launcher.py:99: RuntimeWarning: divide by zero encountered in double_scalars\n"
     ]
    },
    {
     "name": "stdout",
     "output_type": "stream",
     "text": [
      "total:132, prediction_length:0\n",
      "top1acc= inf top1acc_farmost= inf top5acc= inf top5acc_farmost= inf\n",
      "model: deepAR\n",
      "total:132, prediction_length:0\n",
      "top1acc= inf top1acc_farmost= inf top5acc= inf top5acc_farmost= inf\n",
      "model: naive\n",
      "total:132, prediction_length:0\n",
      "top1acc= inf top1acc_farmost= inf top5acc= inf top5acc_farmost= inf\n",
      "model: arima\n",
      "total:132, prediction_length:0\n",
      "top1acc= inf top1acc_farmost= inf top5acc= inf top5acc_farmost= inf\n"
     ]
    }
   ],
   "source": [
    "# test half moving win\n",
    "prediction_length = 0\n",
    "pred_ret5_halfwin = run_exp(5, True)"
   ]
  },
  {
   "cell_type": "code",
   "execution_count": 17,
   "metadata": {},
   "outputs": [
    {
     "name": "stderr",
     "output_type": "stream",
     "text": [
      "INFO:root:Using GPU\n"
     ]
    },
    {
     "name": "stdout",
     "output_type": "stream",
     "text": [
      "====event:Phoenix, train_len=200, max_len=250, min_len=250\n",
      "carno:1, totallen:250, nancount:0, test_reccnt:9\n",
      "carno:4, totallen:241, nancount:9, test_reccnt:8\n",
      "carno:5, totallen:250, nancount:0, test_reccnt:9\n",
      "carno:6, totallen:250, nancount:0, test_reccnt:9\n",
      "carno:9, totallen:250, nancount:0, test_reccnt:9\n",
      "carno:10, totallen:229, nancount:21, test_reccnt:5\n",
      "a short ts: carid=12，len=154\n",
      "carno:14, totallen:250, nancount:0, test_reccnt:9\n",
      "carno:15, totallen:250, nancount:0, test_reccnt:9\n",
      "carno:18, totallen:249, nancount:1, test_reccnt:9\n",
      "a short ts: carid=19，len=40\n",
      "carno:20, totallen:250, nancount:0, test_reccnt:9\n",
      "carno:21, totallen:249, nancount:1, test_reccnt:9\n",
      "carno:22, totallen:250, nancount:0, test_reccnt:9\n",
      "carno:23, totallen:248, nancount:2, test_reccnt:9\n",
      "carno:26, totallen:249, nancount:1, test_reccnt:9\n",
      "carno:27, totallen:250, nancount:0, test_reccnt:9\n",
      "carno:28, totallen:250, nancount:0, test_reccnt:9\n",
      "carno:30, totallen:250, nancount:0, test_reccnt:9\n",
      "a short ts: carid=32，len=174\n",
      "carno:59, totallen:247, nancount:3, test_reccnt:9\n",
      "carno:88, totallen:249, nancount:1, test_reccnt:9\n",
      "carno:98, totallen:249, nancount:1, test_reccnt:9\n",
      "====event:Indy500, train_len=160, max_len=200, min_len=200\n",
      "carno:1, totallen:200, nancount:0, test_reccnt:7\n",
      "a short ts: carid=3，len=146\n",
      "carno:4, totallen:200, nancount:0, test_reccnt:7\n",
      "carno:6, totallen:200, nancount:0, test_reccnt:7\n",
      "carno:7, totallen:193, nancount:7, test_reccnt:6\n",
      "carno:9, totallen:200, nancount:0, test_reccnt:7\n",
      "a short ts: carid=10，len=57\n",
      "carno:12, totallen:200, nancount:0, test_reccnt:7\n",
      "a short ts: carid=13，len=67\n",
      "carno:14, totallen:187, nancount:13, test_reccnt:5\n",
      "carno:15, totallen:200, nancount:0, test_reccnt:7\n",
      "carno:17, totallen:199, nancount:1, test_reccnt:7\n",
      "a short ts: carid=18，len=137\n",
      "carno:19, totallen:199, nancount:1, test_reccnt:7\n",
      "carno:20, totallen:200, nancount:0, test_reccnt:7\n",
      "carno:21, totallen:199, nancount:1, test_reccnt:7\n",
      "carno:22, totallen:200, nancount:0, test_reccnt:7\n",
      "carno:23, totallen:200, nancount:0, test_reccnt:7\n",
      "a short ts: carid=24，len=154\n",
      "carno:25, totallen:200, nancount:0, test_reccnt:7\n",
      "carno:26, totallen:198, nancount:2, test_reccnt:7\n",
      "carno:27, totallen:200, nancount:0, test_reccnt:7\n",
      "carno:28, totallen:200, nancount:0, test_reccnt:7\n",
      "carno:29, totallen:200, nancount:0, test_reccnt:7\n",
      "a short ts: carid=30，len=46\n",
      "a short ts: carid=32，len=110\n",
      "a short ts: carid=33，len=46\n",
      "carno:59, totallen:198, nancount:2, test_reccnt:7\n",
      "carno:60, totallen:200, nancount:0, test_reccnt:7\n",
      "carno:64, totallen:200, nancount:0, test_reccnt:7\n",
      "carno:66, totallen:200, nancount:0, test_reccnt:7\n",
      "carno:88, totallen:200, nancount:0, test_reccnt:7\n",
      "carno:98, totallen:200, nancount:0, test_reccnt:7\n",
      "====event:Texas, train_len=198, max_len=248, min_len=248\n",
      "carno:1, totallen:244, nancount:4, test_reccnt:9\n",
      "a short ts: carid=3，len=2\n",
      "a short ts: carid=4，len=5\n",
      "carno:5, totallen:248, nancount:0, test_reccnt:9\n",
      "a short ts: carid=6，len=171\n",
      "a short ts: carid=7，len=2\n",
      "carno:9, totallen:248, nancount:0, test_reccnt:9\n",
      "carno:10, totallen:248, nancount:0, test_reccnt:9\n",
      "carno:12, totallen:204, nancount:44, test_reccnt:1\n",
      "a short ts: carid=14，len=31\n",
      "carno:15, totallen:248, nancount:0, test_reccnt:9\n",
      "carno:18, totallen:248, nancount:0, test_reccnt:9\n",
      "carno:19, totallen:205, nancount:43, test_reccnt:1\n",
      "a short ts: carid=20，len=168\n",
      "carno:21, totallen:247, nancount:1, test_reccnt:9\n",
      "carno:22, totallen:248, nancount:0, test_reccnt:9\n",
      "carno:23, totallen:247, nancount:1, test_reccnt:9\n",
      "a short ts: carid=25，len=2\n",
      "carno:26, totallen:238, nancount:10, test_reccnt:7\n",
      "carno:27, totallen:248, nancount:0, test_reccnt:9\n",
      "carno:28, totallen:248, nancount:0, test_reccnt:9\n",
      "carno:30, totallen:248, nancount:0, test_reccnt:9\n",
      "a short ts: carid=47，len=2\n",
      "a short ts: carid=55，len=2\n",
      "a short ts: carid=57，len=2\n",
      "carno:59, totallen:247, nancount:1, test_reccnt:9\n",
      "a short ts: carid=60，len=2\n",
      "a short ts: carid=68，len=2\n",
      "a short ts: carid=73，len=2\n",
      "a short ts: carid=83，len=2\n",
      "carno:88, totallen:240, nancount:8, test_reccnt:8\n",
      "carno:98, totallen:244, nancount:4, test_reccnt:9\n",
      "====event:Iowa, train_len=240, max_len=300, min_len=300\n",
      "carno:1, totallen:300, nancount:0, test_reccnt:11\n",
      "a short ts: carid=4，len=41\n",
      "carno:5, totallen:300, nancount:0, test_reccnt:11\n",
      "carno:6, totallen:300, nancount:0, test_reccnt:11\n",
      "carno:9, totallen:296, nancount:4, test_reccnt:11\n",
      "carno:10, totallen:295, nancount:5, test_reccnt:10\n",
      "carno:12, totallen:299, nancount:1, test_reccnt:11\n",
      "carno:14, totallen:292, nancount:8, test_reccnt:10\n",
      "carno:15, totallen:299, nancount:1, test_reccnt:11\n",
      "carno:18, totallen:297, nancount:3, test_reccnt:11\n",
      "carno:19, totallen:291, nancount:9, test_reccnt:10\n",
      "carno:20, totallen:298, nancount:2, test_reccnt:11\n",
      "carno:21, totallen:300, nancount:0, test_reccnt:11\n",
      "carno:22, totallen:299, nancount:1, test_reccnt:11\n",
      "carno:23, totallen:295, nancount:5, test_reccnt:10\n",
      "carno:26, totallen:279, nancount:21, test_reccnt:7\n",
      "carno:27, totallen:298, nancount:2, test_reccnt:11\n",
      "carno:28, totallen:283, nancount:17, test_reccnt:8\n",
      "carno:30, totallen:300, nancount:0, test_reccnt:11\n",
      "carno:59, totallen:294, nancount:6, test_reccnt:10\n",
      "a short ts: carid=88，len=100\n",
      "carno:98, totallen:293, nancount:7, test_reccnt:10\n",
      "====event:Pocono, train_len=160, max_len=200, min_len=200\n",
      "carno:1, totallen:199, nancount:1, test_reccnt:7\n",
      "carno:4, totallen:197, nancount:3, test_reccnt:7\n",
      "a short ts: carid=5，len=6\n",
      "a short ts: carid=6，len=6\n",
      "carno:9, totallen:200, nancount:0, test_reccnt:7\n",
      "carno:10, totallen:197, nancount:3, test_reccnt:7\n",
      "carno:12, totallen:200, nancount:0, test_reccnt:7\n",
      "a short ts: carid=14，len=16\n",
      "carno:15, totallen:196, nancount:4, test_reccnt:7\n",
      "carno:18, totallen:200, nancount:0, test_reccnt:7\n",
      "a short ts: carid=19，len=6\n",
      "carno:20, totallen:197, nancount:3, test_reccnt:7\n",
      "a short ts: carid=21，len=17\n",
      "carno:22, totallen:199, nancount:1, test_reccnt:7\n",
      "carno:23, totallen:198, nancount:2, test_reccnt:7\n",
      "carno:26, totallen:199, nancount:1, test_reccnt:7\n",
      "carno:27, totallen:200, nancount:0, test_reccnt:7\n",
      "a short ts: carid=28，len=6\n",
      "a short ts: carid=30，len=6\n",
      "carno:59, totallen:196, nancount:4, test_reccnt:7\n",
      "a short ts: carid=88，len=162\n",
      "carno:98, totallen:199, nancount:1, test_reccnt:7\n",
      "====event:Gateway, train_len=198, max_len=248, min_len=248\n",
      "carno:1, totallen:248, nancount:0, test_reccnt:9\n",
      "carno:4, totallen:246, nancount:2, test_reccnt:9\n",
      "carno:5, totallen:246, nancount:2, test_reccnt:9\n",
      "carno:9, totallen:248, nancount:0, test_reccnt:9\n",
      "carno:10, totallen:248, nancount:0, test_reccnt:9\n",
      "carno:12, totallen:248, nancount:0, test_reccnt:9\n",
      "carno:14, totallen:246, nancount:2, test_reccnt:9\n",
      "carno:15, totallen:247, nancount:1, test_reccnt:9\n",
      "a short ts: carid=18，len=0\n",
      "carno:19, totallen:247, nancount:1, test_reccnt:9\n",
      "carno:20, totallen:247, nancount:1, test_reccnt:9\n",
      "carno:21, totallen:248, nancount:0, test_reccnt:9\n",
      "carno:22, totallen:248, nancount:0, test_reccnt:9\n",
      "carno:23, totallen:235, nancount:13, test_reccnt:7\n",
      "carno:26, totallen:248, nancount:0, test_reccnt:9\n",
      "carno:27, totallen:248, nancount:0, test_reccnt:9\n",
      "a short ts: carid=28，len=173\n",
      "carno:30, totallen:247, nancount:1, test_reccnt:9\n",
      "carno:59, totallen:244, nancount:4, test_reccnt:9\n",
      "carno:88, totallen:242, nancount:6, test_reccnt:8\n",
      "carno:98, totallen:246, nancount:2, test_reccnt:9\n",
      "prediction_length:5,train len:116, test len:963\n",
      "predicting model=deepAR-Oracle-curtrack, plen=5\n",
      "loading model...done!, ctx:gpu(0)\n"
     ]
    },
    {
     "name": "stderr",
     "output_type": "stream",
     "text": [
      "INFO:root:Using GPU\n"
     ]
    },
    {
     "name": "stdout",
     "output_type": "stream",
     "text": [
      "tss len=5045, forecasts len=5045\n",
      "predicting model=deepAR-Oracle, plen=5\n",
      "loading model...done!, ctx:gpu(0)\n"
     ]
    },
    {
     "name": "stderr",
     "output_type": "stream",
     "text": [
      "INFO:root:Using GPU\n"
     ]
    },
    {
     "name": "stdout",
     "output_type": "stream",
     "text": [
      "tss len=5045, forecasts len=5045\n",
      "predicting model=deepAR, plen=5\n",
      "loading model...done!, ctx:gpu(0)\n",
      "tss len=5045, forecasts len=5045\n",
      "predicting model=naive, plen=5\n",
      "tss len=5045, forecasts len=5045\n",
      "predicting model=arima, plen=5\n",
      "model: deepAR-Oracle\n",
      "total:138, prediction_length:2\n",
      "top1acc= 0.8876811594202898 top1acc_farmost= 0.427536231884058 top5acc= 0.9485507246376812 top5acc_farmost= 0.4673913043478261\n",
      "model: deepAR-Oracle-curtrack\n",
      "total:138, prediction_length:2\n",
      "top1acc= 0.8876811594202898 top1acc_farmost= 0.427536231884058 top5acc= 0.9485507246376812 top5acc_farmost= 0.4673913043478261\n",
      "model: deepAR\n",
      "total:138, prediction_length:2\n",
      "top1acc= 0.8876811594202898 top1acc_farmost= 0.427536231884058 top5acc= 0.9485507246376812 top5acc_farmost= 0.4673913043478261\n",
      "model: naive\n",
      "total:138, prediction_length:2\n",
      "top1acc= 0.8876811594202898 top1acc_farmost= 0.427536231884058 top5acc= 0.9485507246376812 top5acc_farmost= 0.4673913043478261\n",
      "model: arima\n",
      "total:138, prediction_length:2\n",
      "top1acc= 0.8876811594202898 top1acc_farmost= 0.427536231884058 top5acc= 0.9485507246376812 top5acc_farmost= 0.4673913043478261\n"
     ]
    }
   ],
   "source": [
    "# test half moving win\n",
    "pred_ret5_nohalfwin = run_exp(5, False)"
   ]
  },
  {
   "cell_type": "markdown",
   "metadata": {},
   "source": [
    "### test"
   ]
  },
  {
   "cell_type": "code",
   "execution_count": 96,
   "metadata": {},
   "outputs": [],
   "source": [
    "pred_ret = pred_ret2_halfwin\n",
    "model = 'deepAR-Oracle'\n",
    "tss, forecasts = pred_ret[model]\n",
    "rank_ret = eval_rank_bytimediff()"
   ]
  },
  {
   "cell_type": "code",
   "execution_count": 26,
   "metadata": {},
   "outputs": [
    {
     "ename": "IndexError",
     "evalue": "list index out of range",
     "output_type": "error",
     "traceback": [
      "\u001b[0;31m---------------------------------------------------------------------------\u001b[0m",
      "\u001b[0;31mIndexError\u001b[0m                                Traceback (most recent call last)",
      "\u001b[0;32m<ipython-input-26-e026f6acb17b>\u001b[0m in \u001b[0;36m<module>\u001b[0;34m\u001b[0m\n\u001b[1;32m      1\u001b[0m \u001b[0mtss\u001b[0m\u001b[0;34m,\u001b[0m \u001b[0mforecasts\u001b[0m \u001b[0;34m=\u001b[0m \u001b[0mpred_ret5_halfwin\u001b[0m\u001b[0;34m[\u001b[0m\u001b[0;34m'deepAR-Oracle'\u001b[0m\u001b[0;34m]\u001b[0m\u001b[0;34m\u001b[0m\u001b[0;34m\u001b[0m\u001b[0m\n\u001b[0;32m----> 2\u001b[0;31m \u001b[0mrank_ret\u001b[0m \u001b[0;34m=\u001b[0m \u001b[0meval_rank_bytimediff\u001b[0m\u001b[0;34m(\u001b[0m\u001b[0mtest_ds\u001b[0m\u001b[0;34m,\u001b[0m\u001b[0mtss\u001b[0m\u001b[0;34m,\u001b[0m\u001b[0mforecasts\u001b[0m\u001b[0;34m,\u001b[0m\u001b[0;36m5\u001b[0m\u001b[0;34m)\u001b[0m\u001b[0;34m\u001b[0m\u001b[0;34m\u001b[0m\u001b[0m\n\u001b[0m\u001b[1;32m      3\u001b[0m \u001b[0mget_acc\u001b[0m\u001b[0;34m(\u001b[0m\u001b[0mrank_ret\u001b[0m\u001b[0;34m,\u001b[0m\u001b[0;36m5\u001b[0m\u001b[0;34m)\u001b[0m\u001b[0;34m\u001b[0m\u001b[0;34m\u001b[0m\u001b[0m\n",
      "\u001b[0;32m<ipython-input-23-87bad99779e9>\u001b[0m in \u001b[0;36meval_rank_bytimediff\u001b[0;34m(test_ds, tss, forecasts, prediction_len)\u001b[0m\n\u001b[1;32m     24\u001b[0m \u001b[0;34m\u001b[0m\u001b[0m\n\u001b[1;32m     25\u001b[0m         \u001b[0;31m# calc elapsed time\u001b[0m\u001b[0;34m\u001b[0m\u001b[0;34m\u001b[0m\u001b[0;34m\u001b[0m\u001b[0m\n\u001b[0;32m---> 26\u001b[0;31m         \u001b[0mprediction_len\u001b[0m \u001b[0;34m=\u001b[0m \u001b[0mforecasts\u001b[0m\u001b[0;34m[\u001b[0m\u001b[0midx\u001b[0m\u001b[0;34m]\u001b[0m\u001b[0;34m.\u001b[0m\u001b[0msamples\u001b[0m\u001b[0;34m.\u001b[0m\u001b[0mshape\u001b[0m\u001b[0;34m[\u001b[0m\u001b[0;36m1\u001b[0m\u001b[0;34m]\u001b[0m\u001b[0;34m\u001b[0m\u001b[0;34m\u001b[0m\u001b[0m\n\u001b[0m\u001b[1;32m     27\u001b[0m         \u001b[0;31m#forecast_laptime_mean = np.mean(forecasts[idx].samples, axis=0).reshape((prediction_len,1))\u001b[0m\u001b[0;34m\u001b[0m\u001b[0;34m\u001b[0m\u001b[0;34m\u001b[0m\u001b[0m\n\u001b[1;32m     28\u001b[0m         \u001b[0mforecast_laptime_mean\u001b[0m \u001b[0;34m=\u001b[0m \u001b[0mnp\u001b[0m\u001b[0;34m.\u001b[0m\u001b[0mmedian\u001b[0m\u001b[0;34m(\u001b[0m\u001b[0mforecasts\u001b[0m\u001b[0;34m[\u001b[0m\u001b[0midx\u001b[0m\u001b[0;34m]\u001b[0m\u001b[0;34m.\u001b[0m\u001b[0msamples\u001b[0m\u001b[0;34m,\u001b[0m \u001b[0maxis\u001b[0m\u001b[0;34m=\u001b[0m\u001b[0;36m0\u001b[0m\u001b[0;34m)\u001b[0m\u001b[0;34m.\u001b[0m\u001b[0mreshape\u001b[0m\u001b[0;34m(\u001b[0m\u001b[0;34m(\u001b[0m\u001b[0mprediction_len\u001b[0m\u001b[0;34m,\u001b[0m\u001b[0;36m1\u001b[0m\u001b[0;34m)\u001b[0m\u001b[0;34m)\u001b[0m\u001b[0;34m\u001b[0m\u001b[0;34m\u001b[0m\u001b[0m\n",
      "\u001b[0;31mIndexError\u001b[0m: list index out of range"
     ]
    }
   ],
   "source": [
    "tss, forecasts = pred_ret5_halfwin['deepAR-Oracle']\n",
    "rank_ret = eval_rank_bytimediff(test_ds,tss,forecasts,5)\n",
    "get_acc(rank_ret,5)"
   ]
  },
  {
   "cell_type": "code",
   "execution_count": 29,
   "metadata": {},
   "outputs": [
    {
     "name": "stdout",
     "output_type": "stream",
     "text": [
      "> \u001b[0;32m<ipython-input-23-87bad99779e9>\u001b[0m(26)\u001b[0;36meval_rank_bytimediff\u001b[0;34m()\u001b[0m\n",
      "\u001b[0;32m     24 \u001b[0;31m\u001b[0;34m\u001b[0m\u001b[0m\n",
      "\u001b[0m\u001b[0;32m     25 \u001b[0;31m        \u001b[0;31m# calc elapsed time\u001b[0m\u001b[0;34m\u001b[0m\u001b[0;34m\u001b[0m\u001b[0;34m\u001b[0m\u001b[0m\n",
      "\u001b[0m\u001b[0;32m---> 26 \u001b[0;31m        \u001b[0mprediction_len\u001b[0m \u001b[0;34m=\u001b[0m \u001b[0mforecasts\u001b[0m\u001b[0;34m[\u001b[0m\u001b[0midx\u001b[0m\u001b[0;34m]\u001b[0m\u001b[0;34m.\u001b[0m\u001b[0msamples\u001b[0m\u001b[0;34m.\u001b[0m\u001b[0mshape\u001b[0m\u001b[0;34m[\u001b[0m\u001b[0;36m1\u001b[0m\u001b[0;34m]\u001b[0m\u001b[0;34m\u001b[0m\u001b[0;34m\u001b[0m\u001b[0m\n",
      "\u001b[0m\u001b[0;32m     27 \u001b[0;31m        \u001b[0;31m#forecast_laptime_mean = np.mean(forecasts[idx].samples, axis=0).reshape((prediction_len,1))\u001b[0m\u001b[0;34m\u001b[0m\u001b[0;34m\u001b[0m\u001b[0;34m\u001b[0m\u001b[0m\n",
      "\u001b[0m\u001b[0;32m     28 \u001b[0;31m        \u001b[0mforecast_laptime_mean\u001b[0m \u001b[0;34m=\u001b[0m \u001b[0mnp\u001b[0m\u001b[0;34m.\u001b[0m\u001b[0mmedian\u001b[0m\u001b[0;34m(\u001b[0m\u001b[0mforecasts\u001b[0m\u001b[0;34m[\u001b[0m\u001b[0midx\u001b[0m\u001b[0;34m]\u001b[0m\u001b[0;34m.\u001b[0m\u001b[0msamples\u001b[0m\u001b[0;34m,\u001b[0m \u001b[0maxis\u001b[0m\u001b[0;34m=\u001b[0m\u001b[0;36m0\u001b[0m\u001b[0;34m)\u001b[0m\u001b[0;34m.\u001b[0m\u001b[0mreshape\u001b[0m\u001b[0;34m(\u001b[0m\u001b[0;34m(\u001b[0m\u001b[0mprediction_len\u001b[0m\u001b[0;34m,\u001b[0m\u001b[0;36m1\u001b[0m\u001b[0;34m)\u001b[0m\u001b[0;34m)\u001b[0m\u001b[0;34m\u001b[0m\u001b[0;34m\u001b[0m\u001b[0m\n",
      "\u001b[0m\n",
      "ipdb> p idx\n",
      "2387\n",
      "ipdb> quit\n"
     ]
    }
   ],
   "source": [
    "%debug"
   ]
  },
  {
   "cell_type": "code",
   "execution_count": 32,
   "metadata": {},
   "outputs": [
    {
     "data": {
      "text/plain": [
       "5045"
      ]
     },
     "execution_count": 32,
     "metadata": {},
     "output_type": "execute_result"
    }
   ],
   "source": [
    "len(test_ds)"
   ]
  },
  {
   "cell_type": "code",
   "execution_count": 97,
   "metadata": {},
   "outputs": [
    {
     "data": {
      "text/plain": [
       "array([[11, 10, 10, 10],\n",
       "       [16, 15, 15, 15],\n",
       "       [17, 17, 17, 16],\n",
       "       [ 4,  4,  4,  4],\n",
       "       [ 3,  3,  3,  3],\n",
       "       [12, 12, 12, 12],\n",
       "       [ 5,  5,  5,  5],\n",
       "       [ 8,  8,  8,  8],\n",
       "       [ 9,  9,  9,  9],\n",
       "       [ 1,  1,  1,  0],\n",
       "       [ 6,  6,  6,  6],\n",
       "       [ 7,  7,  7,  7],\n",
       "       [10, 11, 11, 11],\n",
       "       [ 2,  2,  2,  2],\n",
       "       [ 0,  0,  0,  1],\n",
       "       [14, 14, 14, 14],\n",
       "       [15, 16, 16, 17],\n",
       "       [13, 13, 13, 13]])"
      ]
     },
     "execution_count": 97,
     "metadata": {},
     "output_type": "execute_result"
    }
   ],
   "source": [
    "rank_ret[1][2][:,0:4]"
   ]
  },
  {
   "cell_type": "code",
   "execution_count": 98,
   "metadata": {},
   "outputs": [
    {
     "data": {
      "text/plain": [
       "array([[10, 10, 10, 10, 11, 10, 10, 11, 11, 11],\n",
       "       [16, 16, 15, 15, 15, 16, 16, 16, 16, 16],\n",
       "       [15, 13, 11, 11,  9,  8,  7,  7,  5,  5],\n",
       "       [ 2,  3,  3,  4,  3,  4,  4,  4,  4,  4],\n",
       "       [ 3,  2,  2,  2,  2,  2,  2,  2,  2,  2],\n",
       "       [14, 15, 16, 16, 16, 15, 15, 15, 15, 15],\n",
       "       [ 7,  7,  6,  7,  7,  7,  8,  8,  8,  8],\n",
       "       [ 8,  6,  7,  6,  6,  6,  6,  5,  7,  7],\n",
       "       [ 9,  9,  9,  9, 10, 11, 12, 13, 12, 13],\n",
       "       [ 1,  1,  1,  1,  1,  1,  1,  1,  0,  1],\n",
       "       [ 6,  8,  8,  8,  8,  9,  9,  9, 10, 10],\n",
       "       [ 5,  5,  5,  5,  4,  3,  3,  3,  3,  3],\n",
       "       [11, 11, 12, 12, 12, 12, 11, 10,  9,  9],\n",
       "       [ 4,  4,  4,  3,  5,  5,  5,  6,  6,  6],\n",
       "       [ 0,  0,  0,  0,  0,  0,  0,  0,  1,  0],\n",
       "       [17, 17, 17, 17, 17, 17, 17, 17, 17, 17],\n",
       "       [13, 14, 14, 14, 14, 14, 13, 12, 13, 12],\n",
       "       [12, 12, 13, 13, 13, 13, 14, 14, 14, 14]])"
      ]
     },
     "execution_count": 98,
     "metadata": {},
     "output_type": "execute_result"
    }
   ],
   "source": [
    "rank_ret[1][3][:,:]"
   ]
  },
  {
   "cell_type": "code",
   "execution_count": 99,
   "metadata": {},
   "outputs": [
    {
     "data": {
      "text/plain": [
       "10"
      ]
     },
     "execution_count": 99,
     "metadata": {},
     "output_type": "execute_result"
    }
   ],
   "source": [
    "tss, forecasts = pred_ret['deepAR-Oracle-curtrack']\n",
    "forecasts[0].samples.shape[1]"
   ]
  },
  {
   "cell_type": "code",
   "execution_count": 80,
   "metadata": {},
   "outputs": [
    {
     "data": {
      "text/plain": [
       "2"
      ]
     },
     "execution_count": 80,
     "metadata": {},
     "output_type": "execute_result"
    }
   ],
   "source": [
    "prediction_length"
   ]
  },
  {
   "cell_type": "code",
   "execution_count": 61,
   "metadata": {},
   "outputs": [
    {
     "data": {
      "text/plain": [
       "dict_keys(['deepAR-Oracle-curtrack', 'deepAR-Oracle', 'deepAR', 'naive', 'arima'])"
      ]
     },
     "execution_count": 61,
     "metadata": {},
     "output_type": "execute_result"
    }
   ],
   "source": [
    "pred_ret.keys()"
   ]
  },
  {
   "cell_type": "code",
   "execution_count": 87,
   "metadata": {},
   "outputs": [
    {
     "name": "stdout",
     "output_type": "stream",
     "text": [
      "total:38, prediction_length:2\n",
      "top1acc= 1.4342105263157894 top1acc_farmost= 0.06578947368421052 top5acc= 3.1447368421052633 top5acc_farmost= 0.23157894736842105\n"
     ]
    }
   ],
   "source": [
    "tss, forecasts = 0, 0\n",
    "model = 'deepAR-Oracle-curtrack'\n",
    "\n",
    "tss, forecasts = pred_ret2[model]\n",
    "\n",
    "rank_ret = eval_rank_bytimediff()\n",
    "get_acc()"
   ]
  },
  {
   "cell_type": "code",
   "execution_count": 81,
   "metadata": {},
   "outputs": [
    {
     "data": {
      "text/plain": [
       "[191, array([[[ 1.07908001e+01,  9.40999985e+00,  2.19849992e+00,\n",
       "           4.95380020e+00,  6.79769993e+00,  5.86180019e+00,\n",
       "           6.27470016e+00,  7.25129986e+00,  8.30270004e+00,\n",
       "           8.69169998e+00],\n",
       "         [ 1.34540005e+01,  1.37714996e+01,  6.71460009e+00,\n",
       "           7.73729992e+00,  8.90089989e+00,  9.32170010e+00,\n",
       "           1.10153999e+01,  1.24775000e+01,  1.41831999e+01,\n",
       "           1.47798004e+01],\n",
       "         [ 2.25741997e+01,  1.51399002e+01,  7.21670008e+00,\n",
       "           7.74730015e+00,  7.61590004e+00,  7.68660021e+00,\n",
       "           8.75629997e+00,  8.77779961e+00,  9.19769955e+00,\n",
       "           9.31120014e+00],\n",
       "         [ 3.13089991e+00,  3.04380012e+00,  2.89099991e-01,\n",
       "           2.31369996e+00,  2.88319993e+00,  2.03360009e+00,\n",
       "           2.75620008e+00,  3.35999990e+00,  4.38660002e+00,\n",
       "           4.59280014e+00],\n",
       "         [ 2.13310003e+00,  1.97790003e+00,  1.97899997e-01,\n",
       "           1.04449999e+00,  7.76700020e-01,  0.00000000e+00,\n",
       "           0.00000000e+00,  0.00000000e+00,  0.00000000e+00,\n",
       "           0.00000000e+00],\n",
       "         [ 1.13305998e+01,  1.07613001e+01,  3.07870007e+00,\n",
       "           5.23890018e+00,  7.19899988e+00,  7.29500008e+00,\n",
       "           8.70950031e+00,  9.73989964e+00,  1.05334997e+01,\n",
       "           1.13367996e+01],\n",
       "         [ 3.56250000e+00,  3.93790007e+00,  8.34299982e-01,\n",
       "           1.70710003e+00,  2.25780010e+00,  1.28170002e+00,\n",
       "           2.03769994e+00,  2.19829988e+00,  2.73379993e+00,\n",
       "           3.15890002e+00],\n",
       "         [ 6.90129995e+00,  6.41370010e+00,  1.46000004e+00,\n",
       "           3.47020006e+00,  4.09520006e+00,  3.45539999e+00,\n",
       "           4.25239992e+00,  5.13479996e+00,  6.35659981e+00,\n",
       "           7.23570013e+00],\n",
       "         [ 9.89029980e+00,  7.79279995e+00,  1.75929999e+00,\n",
       "           4.11439991e+00,  1.61805992e+01,  3.80056992e+01,\n",
       "           3.88151016e+01,  3.96968994e+01,  4.08151016e+01,\n",
       "           4.15145988e+01],\n",
       "         [ 1.30350006e+00,  8.08200002e-01,  0.00000000e+00,\n",
       "           0.00000000e+00,  0.00000000e+00,  1.70848999e+01,\n",
       "           3.18040009e+01,  3.21651001e+01,  3.31524010e+01,\n",
       "           3.36747017e+01],\n",
       "         [ 4.92959976e+00,  4.74749994e+00,  9.74699974e-01,\n",
       "           2.76950002e+00,  3.24410009e+00,  2.45140004e+00,\n",
       "           3.37369990e+00,  3.98480010e+00,  5.04510021e+00,\n",
       "           5.22370005e+00],\n",
       "         [ 5.63439989e+00,  5.12309980e+00,  1.14629996e+00,\n",
       "           3.15269995e+00,  3.73810005e+00,  2.87350011e+00,\n",
       "           3.73760009e+00,  4.56879997e+00,  6.03719997e+00,\n",
       "           6.71869993e+00],\n",
       "         [ 1.12234001e+01,  1.03661003e+01,  2.55789995e+00,\n",
       "           4.57789993e+00,  5.94250011e+00,  4.64349985e+00,\n",
       "           4.91260004e+00,  5.58690023e+00,  6.96759987e+00,\n",
       "           7.83769989e+00],\n",
       "         [ 1.65810001e+00,  1.37119997e+00,  8.10000002e-02,\n",
       "           3.52200001e-01,  6.17200017e-01,  1.86951008e+01,\n",
       "           3.29238014e+01,  3.35891991e+01,  3.45923996e+01,\n",
       "           3.47970009e+01],\n",
       "         [ 0.00000000e+00,  0.00000000e+00,  1.62000004e-02,\n",
       "           1.05780005e+00,  1.98950005e+00,  1.02520001e+00,\n",
       "           2.05310993e+01,  3.63637009e+01,  3.76666985e+01,\n",
       "           3.82324982e+01],\n",
       "         [ 1.26823997e+01,  1.30303001e+01,  4.17320013e+00,\n",
       "           5.59679985e+00,  7.60629988e+00,  8.12080002e+00,\n",
       "           9.46679974e+00,  1.10005999e+01,  1.23411999e+01,\n",
       "           1.27354002e+01],\n",
       "         [ 2.13416004e+01,  1.47887001e+01,  7.26429987e+00,\n",
       "           8.10999966e+00,  9.09049988e+00,  9.56299973e+00,\n",
       "           1.13536997e+01,  1.28871002e+01,  1.45831003e+01,\n",
       "           1.51173000e+01],\n",
       "         [ 1.18629999e+01,  1.23017998e+01,  3.74780011e+00,\n",
       "           6.29360008e+00,  8.64970016e+00,  8.77000046e+00,\n",
       "           1.01919003e+01,  1.19010000e+01,  1.35644999e+01,\n",
       "           1.40745001e+01]],\n",
       " \n",
       "        [[ 2.65276699e+00,  1.26273529e+01,  1.24124460e+01,\n",
       "           1.60237643e+01,  2.23613084e+01,  2.34804443e+01,\n",
       "           2.35494592e+01,  1.97601072e+01,  1.96127206e+01,\n",
       "           1.94447151e+01],\n",
       "         [ 1.27205962e+01,  2.46344798e+01,  2.73673397e+01,\n",
       "           2.43187175e+01,  2.51189079e+01,  2.31572289e+01,\n",
       "           2.49186735e+01,  2.38165112e+01,  2.49554599e+01,\n",
       "           2.35545645e+01],\n",
       "         [ 1.12544065e+01,  1.27067862e+01,  1.47113190e+01,\n",
       "           1.58446478e+01,  1.61616308e+01,  1.69265382e+01,\n",
       "           1.77563722e+01,  1.77741258e+01,  1.76391434e+01,\n",
       "           1.72266385e+01],\n",
       "         [ 3.70811477e+00,  9.97261241e+00,  1.10851068e+01,\n",
       "           1.05248442e+01,  1.00449362e+01,  9.70868063e+00,\n",
       "           1.05386147e+01,  1.22335436e+01,  1.14570527e+01,\n",
       "           1.14211297e+01],\n",
       "         [-2.24295146e+00, -1.19995074e+00,  7.89569329e-01,\n",
       "           2.41839267e+00,  3.76710856e+00,  3.33096681e+00,\n",
       "           4.32407386e+00,  3.41481446e+00,  2.54170138e+00,\n",
       "           4.23724935e+00],\n",
       "         [ 1.23147095e+01,  1.25550125e+01,  1.05755347e+01,\n",
       "           1.11974274e+01,  1.24341375e+01,  1.32171476e+01,\n",
       "           1.32068762e+01,  1.34369522e+01,  1.56524296e+01,\n",
       "           1.51125440e+01],\n",
       "         [-4.70484049e+00, -1.23538097e+00,  2.56943355e+00,\n",
       "           6.31583818e+00,  5.90012038e+00,  6.77936357e+00,\n",
       "           6.71827643e+00,  5.92066866e+00,  6.97834194e+00,\n",
       "           6.53192203e+00],\n",
       "         [ 8.43641316e+00,  8.17002558e+00,  9.00580869e+00,\n",
       "           9.15319044e+00,  9.25766842e+00,  9.65864985e+00,\n",
       "           9.77975604e+00,  8.79078121e+00,  9.34273883e+00,\n",
       "           1.02184262e+01],\n",
       "         [ 1.04737362e+01,  9.19333347e+00,  1.05076270e+01,\n",
       "           1.01251585e+01,  1.03035893e+01,  8.42163042e+00,\n",
       "           9.02658643e+00,  1.01715507e+01,  1.08280542e+01,\n",
       "           1.08484712e+01],\n",
       "         [ 3.18374741e+00,  3.08167517e+00,  5.30432335e+00,\n",
       "           4.92904442e+00,  4.70894208e+00,  3.58312984e+00,\n",
       "           3.35218622e+00,  2.46796118e+00,  2.53849643e+00,\n",
       "           2.50530274e+00],\n",
       "         [ 6.57901605e+00,  7.13473067e+00,  7.09004806e+00,\n",
       "           7.50274934e+00,  6.91520959e+00,  8.32059157e+00,\n",
       "           7.03831390e+00,  6.04038320e+00,  4.49803066e+00,\n",
       "           6.30044601e+00],\n",
       "         [ 3.60516953e+00,  5.05302145e+00,  7.25587079e+00,\n",
       "           7.11553268e+00,  8.21657905e+00,  9.03642818e+00,\n",
       "           8.25891492e+00,  8.79814044e+00,  8.36085459e+00,\n",
       "           9.05266816e+00],\n",
       "         [ 1.16586940e+01,  1.25307774e+01,  1.32380787e+01,\n",
       "           1.36968838e+01,  1.39123286e+01,  1.70721842e+01,\n",
       "           1.58801629e+01,  1.48159787e+01,  1.48138988e+01,\n",
       "           1.50457043e+01],\n",
       "         [-1.42543148e+00,  2.54285068e+00,  6.80903521e+00,\n",
       "           7.87196678e+00,  8.95311104e+00,  8.76655318e+00,\n",
       "           6.53991584e+00,  8.10792794e+00,  9.73221007e+00,\n",
       "           7.94823871e+00],\n",
       "         [ 1.31560005e+00,  3.00416544e+00, -1.56178803e+00,\n",
       "          -4.94178373e+00, -3.00639781e-01,  2.42260668e-01,\n",
       "          -2.68301534e+00, -1.80689363e+00, -1.44823272e+00,\n",
       "           9.54289628e-01],\n",
       "         [ 3.41346758e+00,  3.08415327e+00,  2.14615171e+00,\n",
       "           1.18673221e+00,  3.91056828e+00,  1.20866848e+00,\n",
       "           3.58564630e+00,  2.34767902e+00,  4.27325203e+00,\n",
       "           2.29530222e+00],\n",
       "         [ 1.86529420e+01,  1.91384913e+01,  2.16846683e+01,\n",
       "           2.30490435e+01,  2.26604639e+01,  2.18659188e+01,\n",
       "           2.20069796e+01,  2.24055488e+01,  2.20814851e+01,\n",
       "           2.43790893e+01],\n",
       "         [ 7.00545675e+00,  1.97125889e+01,  2.52593111e+01,\n",
       "           2.31597030e+01,  2.20668571e+01,  2.27437747e+01,\n",
       "           2.35663401e+01,  2.26687831e+01,  2.28487102e+01,\n",
       "           2.25062477e+01]]]), array([[10, 10, 10, 11, 10,  8,  7,  7,  7,  7],\n",
       "        [15, 15, 15, 15, 15, 13, 12, 12, 12, 12],\n",
       "        [17, 17, 16, 16, 13, 10,  9,  8,  8,  8],\n",
       "        [ 4,  4,  4,  5,  5,  3,  2,  2,  2,  2],\n",
       "        [ 3,  3,  3,  2,  2,  0,  0,  0,  0,  0],\n",
       "        [12, 12, 12, 12, 11,  9,  8,  9,  9,  9],\n",
       "        [ 5,  5,  5,  4,  4,  2,  1,  1,  1,  1],\n",
       "        [ 8,  8,  8,  8,  8,  6,  5,  5,  5,  5],\n",
       "        [ 9,  9,  9,  9, 17, 17, 17, 17, 17, 17],\n",
       "        [ 1,  1,  0,  0,  0, 15, 15, 14, 14, 14],\n",
       "        [ 6,  6,  6,  6,  6,  4,  3,  3,  3,  3],\n",
       "        [ 7,  7,  7,  7,  7,  5,  4,  4,  4,  4],\n",
       "        [11, 11, 11, 10,  9,  7,  6,  6,  6,  6],\n",
       "        [ 2,  2,  2,  1,  1, 16, 16, 15, 15, 15],\n",
       "        [ 0,  0,  1,  3,  3,  1, 14, 16, 16, 16],\n",
       "        [14, 14, 14, 13, 12, 11, 10, 10, 10, 10],\n",
       "        [16, 16, 17, 17, 16, 14, 13, 13, 13, 13],\n",
       "        [13, 13, 13, 14, 14, 12, 11, 11, 11, 11]]), array([[ 4, 13, 12, 14, 15, 17, 15, 14, 14, 14],\n",
       "        [16, 17, 17, 17, 17, 16, 17, 17, 17, 16],\n",
       "        [13, 14, 14, 13, 13, 12, 13, 13, 13, 13],\n",
       "        [ 8, 10, 11, 10,  9, 10, 10, 10, 10, 10],\n",
       "        [ 1,  1,  1,  2,  1,  2,  3,  3,  2,  3],\n",
       "        [15, 12, 10, 11, 11, 11, 11, 11, 12, 12],\n",
       "        [ 0,  0,  3,  4,  4,  4,  5,  4,  5,  5],\n",
       "        [11,  8,  8,  8,  8,  9,  9,  7,  7,  8],\n",
       "        [12,  9,  9,  9, 10,  6,  8,  9,  9,  9],\n",
       "        [ 5,  4,  4,  3,  3,  3,  1,  2,  1,  2],\n",
       "        [ 9,  7,  6,  6,  5,  5,  6,  5,  4,  4],\n",
       "        [ 7,  6,  7,  5,  6,  8,  7,  8,  6,  7],\n",
       "        [14, 11, 13, 12, 12, 13, 12, 12, 11, 11],\n",
       "        [ 2,  2,  5,  7,  7,  7,  4,  6,  8,  6],\n",
       "        [ 3,  3,  0,  0,  0,  0,  0,  0,  0,  0],\n",
       "        [ 6,  5,  2,  1,  2,  1,  2,  1,  3,  1],\n",
       "        [17, 15, 15, 15, 16, 14, 14, 15, 15, 17],\n",
       "        [10, 16, 16, 16, 14, 15, 16, 16, 16, 15]])]"
      ]
     },
     "execution_count": 81,
     "metadata": {},
     "output_type": "execute_result"
    }
   ],
   "source": [
    "rank_ret[0]"
   ]
  },
  {
   "cell_type": "code",
   "execution_count": 88,
   "metadata": {},
   "outputs": [
    {
     "data": {
      "text/plain": [
       "(100, 10)"
      ]
     },
     "execution_count": 88,
     "metadata": {},
     "output_type": "execute_result"
    }
   ],
   "source": [
    "forecasts[0].samples.shape"
   ]
  },
  {
   "cell_type": "code",
   "execution_count": 86,
   "metadata": {},
   "outputs": [
    {
     "data": {
      "text/plain": [
       "{'target': array([ 0.8457,  1.1695,  1.4571,  1.7348,  1.9046,  2.2024,  2.5373,\n",
       "         2.9428,  3.1394,  3.4255,  3.3099,  3.3574,  3.3771,  3.4335,\n",
       "         3.5343,  3.7273,  4.0755,  4.4987,  4.7892,  5.254 ,  5.4827,\n",
       "         5.6939,  5.937 ,  6.2284,  5.6873,  4.545 ,  3.9387,  3.0526,\n",
       "         2.6946,  0.6026,  0.    ,  9.8879, 33.9997, 20.399 ,  2.9675,\n",
       "         3.3547,  3.6985,  4.0173,  4.3862,  4.3794,  4.0448,  3.7866,\n",
       "         3.9373,  3.8756,  3.7387,  3.5924,  3.4381,  4.3645,  2.9646,\n",
       "         1.1763,  3.3169,  2.5181,  2.6911,  3.7606,  1.1717,  2.3381,\n",
       "         2.5709,  2.889 ,  1.5054,  1.2679,  2.1801,  2.2516,  0.2976,\n",
       "         0.8706,  1.044 ,  1.1731,  1.5736,  2.4794,  1.6835,  5.1985,\n",
       "        16.6342, 17.5929,  3.189 ,  6.6302,  8.855 , 10.24  , 11.9785,\n",
       "        13.3738, 14.5056, 15.3947, 16.1128, 16.9743, 17.7534, 18.4969,\n",
       "        19.4187, 20.3536, 22.0253, 22.4716, 22.8629, 22.6139, 24.0865,\n",
       "        24.0472, 25.5406, 15.3921,  4.9092,  4.2708,  1.9713,  2.0626,\n",
       "         3.5092,  4.4989, 16.4345, 40.7941, 40.1528, 39.0569, 38.1097,\n",
       "        27.6717, 27.2346, 25.3009, 24.951 , 24.9758, 25.0322, 24.7098,\n",
       "        24.8984, 25.4912, 25.9261, 26.1719, 26.2924, 26.0979, 26.1713,\n",
       "        25.8588, 23.869 , 23.2504, 23.1155, 23.5635, 24.2074, 25.0243,\n",
       "        25.6094, 26.1482, 21.5358,  6.6273,  7.2409,  6.4296,  0.    ,\n",
       "         0.    ,  7.0015, 30.3786, 28.0981, 34.155 , 37.3323, 16.7891,\n",
       "        11.6905, 13.2469, 12.1126, 13.7822,  2.9915, 12.0349, 12.7752,\n",
       "         9.4238, 12.2222, 11.509 , 11.3614, 11.7774,  2.5885,  8.0998,\n",
       "         7.9733, 10.7826,  7.281 ,  8.705 ,  9.4179,  7.2949,  2.0417,\n",
       "         4.0824,  4.3102,  4.5731,  4.8508,  4.7499,  5.1268,  5.0922,\n",
       "         5.6733, 18.2675, 41.04  , 41.0905, 39.7418, 37.8368, 35.4872,\n",
       "        24.8509, 23.5971, 23.1997, 23.4816, 23.2708, 23.9885, 24.8668,\n",
       "        25.056 , 25.4492, 25.8508, 26.589 , 28.0022, 40.5326, 47.6891,\n",
       "        11.9381, 10.7908,  9.41  ,  2.1985,  4.9538,  6.7977,  5.8618,\n",
       "         6.2747,  7.2513,  8.3027,  8.6917], dtype=float32),\n",
       " 'start': Timestamp('2019-01-01 00:00:00', freq='T'),\n",
       " 'feat_static_cat': array([0], dtype=int32),\n",
       " 'feat_dynamic_real': array([[0., 0., 0., 0., 0., 0., 0., 0., 0., 0., 0., 0., 0., 0., 0., 0.,\n",
       "         0., 0., 0., 0., 0., 0., 0., 0., 0., 0., 0., 0., 0., 0., 0., 0.,\n",
       "         0., 0., 0., 0., 0., 0., 0., 0., 0., 0., 0., 0., 0., 0., 0., 1.,\n",
       "         1., 1., 1., 1., 1., 1., 0., 0., 0., 1., 1., 1., 1., 1., 0., 0.,\n",
       "         0., 0., 0., 1., 1., 1., 1., 1., 0., 0., 0., 0., 0., 0., 0., 0.,\n",
       "         0., 0., 0., 0., 0., 0., 0., 0., 0., 0., 0., 0., 0., 0., 0., 0.,\n",
       "         0., 0., 0., 0., 0., 0., 0., 0., 0., 0., 0., 0., 0., 0., 0., 0.,\n",
       "         0., 0., 0., 0., 0., 0., 0., 0., 0., 0., 0., 0., 0., 0., 0., 0.,\n",
       "         0., 0., 0., 0., 0., 0., 0., 0., 0., 1., 1., 1., 1., 1., 1., 1.,\n",
       "         0., 1., 1., 1., 1., 1., 1., 1., 0., 1., 1., 1., 1., 1., 1., 1.,\n",
       "         0., 0., 0., 0., 0., 0., 0., 0., 0., 0., 0., 0., 0., 0., 0., 0.,\n",
       "         0., 0., 0., 0., 0., 0., 0., 0., 0., 0., 0., 1., 1., 1., 1., 1.,\n",
       "         0., 0., 0., 0., 0., 0., 0., 0.],\n",
       "        [0., 0., 0., 0., 0., 0., 0., 0., 0., 0., 0., 0., 0., 0., 0., 0.,\n",
       "         0., 0., 0., 0., 0., 0., 0., 0., 0., 0., 0., 0., 0., 0., 0., 1.,\n",
       "         0., 0., 0., 0., 0., 0., 0., 0., 0., 0., 0., 0., 0., 0., 0., 0.,\n",
       "         0., 1., 0., 0., 0., 0., 0., 0., 0., 0., 0., 0., 0., 0., 0., 0.,\n",
       "         0., 0., 0., 0., 0., 1., 0., 0., 0., 0., 0., 0., 0., 0., 0., 0.,\n",
       "         0., 0., 0., 0., 0., 0., 0., 0., 0., 0., 0., 0., 0., 0., 0., 0.,\n",
       "         0., 0., 0., 0., 1., 0., 0., 0., 0., 0., 0., 0., 0., 0., 0., 0.,\n",
       "         0., 0., 0., 0., 0., 0., 0., 0., 0., 0., 0., 0., 0., 0., 0., 0.,\n",
       "         0., 0., 0., 0., 0., 0., 1., 0., 0., 0., 0., 0., 0., 0., 0., 0.,\n",
       "         0., 0., 0., 0., 0., 0., 0., 0., 0., 0., 0., 0., 0., 0., 0., 0.,\n",
       "         0., 0., 0., 0., 0., 0., 0., 0., 0., 1., 0., 0., 0., 0., 0., 0.,\n",
       "         0., 0., 0., 0., 0., 0., 0., 0., 0., 0., 0., 0., 0., 0., 0., 0.,\n",
       "         0., 0., 0., 0., 0., 0., 0., 0.]], dtype=float32),\n",
       " 'source': SourceContext(source='list_data', row=1)}"
      ]
     },
     "execution_count": 86,
     "metadata": {},
     "output_type": "execute_result"
    }
   ],
   "source": [
    "next(iter(test_ds))"
   ]
  },
  {
   "cell_type": "code",
   "execution_count": null,
   "metadata": {},
   "outputs": [],
   "source": []
  }
 ],
 "metadata": {
  "kernelspec": {
   "display_name": "Python 3",
   "language": "python",
   "name": "python3"
  },
  "language_info": {
   "codemirror_mode": {
    "name": "ipython",
    "version": 3
   },
   "file_extension": ".py",
   "mimetype": "text/x-python",
   "name": "python",
   "nbconvert_exporter": "python",
   "pygments_lexer": "ipython3",
   "version": "3.6.10"
  }
 },
 "nbformat": 4,
 "nbformat_minor": 4
}
