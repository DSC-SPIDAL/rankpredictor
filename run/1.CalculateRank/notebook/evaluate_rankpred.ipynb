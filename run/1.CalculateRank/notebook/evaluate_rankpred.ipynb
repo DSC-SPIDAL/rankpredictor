{
 "cells": [
  {
   "cell_type": "markdown",
   "metadata": {},
   "source": [
    "## evalution on rank prediction by lap time \n",
    "\n",
    "### The Problem\n",
    "\n",
    "Rank is calculated by the elapsed time when car crosses the start-finish line. The order of the cars for the same lap number is its rank.\n",
    "\n",
    "This experiment evaluates the performance of a model which predicts the lap time of the next lap.\n",
    "\n",
    "\n",
    "\n"
   ]
  },
  {
   "cell_type": "code",
   "execution_count": 2,
   "metadata": {},
   "outputs": [
    {
     "name": "stderr",
     "output_type": "stream",
     "text": [
      "Using TensorFlow backend.\n"
     ]
    }
   ],
   "source": [
    "%matplotlib inline\n",
    "\n",
    "import pandas as pd\n",
    "import numpy as np\n",
    "import matplotlib.pyplot as plt\n",
    "import os\n",
    "\n",
    "%load_ext autoreload\n",
    "%autoreload 2\n",
    "\n",
    "from indycar.notebook import *"
   ]
  },
  {
   "cell_type": "markdown",
   "metadata": {},
   "source": [
    "## Load Data"
   ]
  },
  {
   "cell_type": "code",
   "execution_count": 3,
   "metadata": {},
   "outputs": [
    {
     "data": {
      "text/plain": [
       "'/scratch/hpda/indycar/predictor/notebook/CalculateRank'"
      ]
     },
     "execution_count": 3,
     "metadata": {},
     "output_type": "execute_result"
    }
   ],
   "source": [
    "import os\n",
    "os.getcwd()\n"
   ]
  },
  {
   "cell_type": "code",
   "execution_count": 4,
   "metadata": {},
   "outputs": [
    {
     "name": "stdout",
     "output_type": "stream",
     "text": [
      "load 2017-Indy500-completed_laps_diff.csv, len=3216\n",
      "load 2018-Indy500-completed_laps_diff.csv, len=3618\n",
      "<class 'pandas.core.frame.DataFrame'>\n",
      "Int64Index: 6834 entries, 0 to 3617\n",
      "Data columns (total 10 columns):\n",
      "MyIdx             6834 non-null int64\n",
      "car_number        6834 non-null int64\n",
      "completed_laps    6834 non-null int64\n",
      "rank              6834 non-null int64\n",
      "elapsed_time      6834 non-null float64\n",
      "rank_diff         6834 non-null float64\n",
      "time_diff         6834 non-null float64\n",
      "dbid              6834 non-null int64\n",
      "rank_diff_raw     6834 non-null float64\n",
      "time_diff_raw     6834 non-null float64\n",
      "dtypes: float64(5), int64(5)\n",
      "memory usage: 587.3 KB\n",
      "dataset shape (6834, 10)\n",
      "carNumber = 34, max T =201\n",
      "train=16, val=9, test=9\n",
      "train shape: (16, 200, 1)\n"
     ]
    }
   ],
   "source": [
    "D=1\n",
    "\n",
    "#datalist = ['2017-all_completed_laps_diff.csv','2018-all_completed_laps_diff.csv' ]\n",
    "datalist = ['2017-Indy500-completed_laps_diff.csv','2018-Indy500-completed_laps_diff.csv' ]\n",
    "#datalist = read_list('train_all.list')\n",
    "#datalist = read_list('train_completed.list')\n",
    "\n",
    "output_prefix = 'indy500-2018-completed_laps-rank'\n",
    "\n",
    "scaler, dataset, dblens = load_data(datalist)\n",
    "\n",
    "dataset.info(verbose=True)\n",
    "print('dataset shape', dataset.shape)\n",
    "# generate train/test dataset\n",
    "\n",
    "# post-padding with 0\n",
    "#X, y, w = generate_data(dataset, D=D, target='time')\n",
    "X, y, w = generate_data(dataset, D=D, target='time')\n",
    "\n",
    "total = np.sum(dblens)\n",
    "ntrain = np.sum(dblens[:-1])\n",
    "nval = int(dblens[-1] / 2)\n",
    "print('train=%d, val=%d, test=%d'%(ntrain, nval, total-ntrain-nval))\n",
    "\n",
    "X_train, X_val, X_test = X[:ntrain], X[ntrain:ntrain + nval], X[ntrain + nval:]\n",
    "y_train, y_val, y_test = y[:ntrain], y[ntrain:ntrain + nval], y[ntrain + nval:]\n",
    "#weights\n",
    "w_train, w_val, w_test = w[:ntrain], w[ntrain:ntrain + nval], w[ntrain+nval:]\n",
    "print('train shape:', X_train.shape)"
   ]
  },
  {
   "cell_type": "code",
   "execution_count": 5,
   "metadata": {},
   "outputs": [],
   "source": [
    "#\n",
    "# parameters\n",
    "#\n",
    "#year = '2017'\n",
    "year = '2018'\n",
    "#event = 'Toronto'\n",
    "event = 'indy500'\n",
    "#'indy500-2018-completed_laps'\n",
    "inputfile = event +'-' + year + '-completed_laps-pred.csv'\n",
    "outputprefix = year +'-' + event + '-eval-'\n",
    "pred = pd.read_csv(inputfile)\n"
   ]
  },
  {
   "cell_type": "code",
   "execution_count": 6,
   "metadata": {},
   "outputs": [
    {
     "name": "stdout",
     "output_type": "stream",
     "text": [
      "pred shape (1800,)\n"
     ]
    },
    {
     "data": {
      "text/plain": [
       "0    13.519837\n",
       "1    34.504074\n",
       "2    42.128110\n",
       "3    43.503527\n",
       "Name: pred, dtype: float64"
      ]
     },
     "execution_count": 6,
     "metadata": {},
     "output_type": "execute_result"
    }
   ],
   "source": [
    "#rankdiff, timediff\n",
    "pred_timediff = pred['pred']\n",
    "print('pred shape',pred_timediff.shape)\n",
    "pred_timediff[:4]"
   ]
  },
  {
   "cell_type": "code",
   "execution_count": 7,
   "metadata": {},
   "outputs": [
    {
     "name": "stdout",
     "output_type": "stream",
     "text": [
      "testset car number 9\n",
      "rankdata shape (1809, 10)\n"
     ]
    }
   ],
   "source": [
    "n = pred_timediff.shape[0]\n",
    "\n",
    "cars = []\n",
    "groups = []\n",
    "for car, group in dataset.groupby('car_number'):\n",
    "    cars.append(car)\n",
    "    groups.append(groups)\n",
    "\n",
    "testset = cars[ntrain+nval:]\n",
    "rankdata = dataset[dataset['car_number'].isin(testset)]\n",
    "carnum = len(testset)\n",
    "print('testset car number', carnum)\n",
    "    \n",
    "#print('testset shape', testset.shape)\n",
    "#groups[ntrain+nval:]\n",
    "\n",
    "#carnumbers=set()\n",
    "#rankdata = dataset[-n:]\n",
    "print('rankdata shape', rankdata.shape)\n",
    "rankdata[:4]\n",
    "\n",
    "# reshape to <carno, data>\n",
    "true_elapsedtime = np.array(rankdata['elapsed_time']).reshape((carnum, -1))\n",
    "pred_laptime = np.array(pred_timediff).reshape((carnum, -1))\n"
   ]
  },
  {
   "cell_type": "code",
   "execution_count": 8,
   "metadata": {},
   "outputs": [
    {
     "name": "stdout",
     "output_type": "stream",
     "text": [
      "[[  3.746   48.7191  91.5864 133.604  175.6    218.2643 259.9555 301.6315\n",
      "  343.4915 385.7495]\n",
      " [  4.5005  49.7731  94.0066 136.8631 178.8544 220.6823 262.7334 304.7834\n",
      "  346.7412 388.8808]]\n",
      "[[  0.          17.26583725  83.22317407 133.71450951 177.10752671\n",
      "  218.55476863 260.75466708 301.42276706 342.69711784 384.62290794]\n",
      " [  0.          18.02033725  84.41342218 136.845663   181.04056763\n",
      "  221.99963327 262.72852831 304.26394874 346.09242374 387.9832787 ]]\n"
     ]
    }
   ],
   "source": [
    "# calculate rank\n",
    "pred_elapsedtime = np.zeros_like(true_elapsedtime)\n",
    "pred_elapsedtime[:,1:] = true_elapsedtime[:,0:-1]\n",
    "pred_elapsedtime[:,1:] += pred_laptime\n",
    "\n",
    "print(true_elapsedtime[0:2,:10])\n",
    "print(pred_elapsedtime[0:2,:10])"
   ]
  },
  {
   "cell_type": "code",
   "execution_count": 9,
   "metadata": {},
   "outputs": [
    {
     "data": {
      "text/plain": [
       "array([[23, 22, 21, 21, 21, 21, 21],\n",
       "       [32, 28, 27, 27, 26, 26, 26],\n",
       "       [14, 11, 11, 11, 11, 11, 11],\n",
       "       [21, 20, 20, 20, 19, 19, 19],\n",
       "       [31, 32, 31, 30, 31, 31, 31],\n",
       "       [26, 27, 24, 24, 24, 24, 24],\n",
       "       [27, 26, 28, 28, 28, 28, 28],\n",
       "       [22, 23, 22, 22, 22, 22, 22],\n",
       "       [12, 10, 10, 10, 10, 10, 10]])"
      ]
     },
     "execution_count": 9,
     "metadata": {},
     "output_type": "execute_result"
    }
   ],
   "source": [
    "np.array(rankdata[rankdata['completed_laps']<7]['rank']).reshape((9,-1))"
   ]
  },
  {
   "cell_type": "code",
   "execution_count": 10,
   "metadata": {},
   "outputs": [],
   "source": [
    "# evalutate rank after 5 laps\n",
    "idx = np.argsort(true_elapsedtime, axis=0)\n",
    "true_rank = np.argsort(idx, axis=0)\n",
    "idx = np.argsort(pred_elapsedtime, axis=0)\n",
    "pred_rank = np.argsort(idx, axis=0)"
   ]
  },
  {
   "cell_type": "code",
   "execution_count": 11,
   "metadata": {},
   "outputs": [
    {
     "data": {
      "text/plain": [
       "array([[3, 3, 3, 3, 3, 2, 1],\n",
       "       [5, 5, 5, 5, 5, 3, 2],\n",
       "       [1, 1, 1, 1, 1, 4, 6],\n",
       "       [2, 2, 2, 2, 2, 1, 0],\n",
       "       [8, 8, 8, 7, 7, 6, 4],\n",
       "       [6, 6, 6, 6, 6, 5, 3],\n",
       "       [7, 7, 7, 8, 8, 7, 8],\n",
       "       [4, 4, 4, 4, 4, 8, 7],\n",
       "       [0, 0, 0, 0, 0, 0, 5]])"
      ]
     },
     "execution_count": 11,
     "metadata": {},
     "output_type": "execute_result"
    }
   ],
   "source": [
    "# simple model\n",
    "simple_rank = np.zeros_like(true_rank)\n",
    "simple_rank[:,1:] = true_rank[:,0:-1] \n",
    "simple_rank[:,28:35]"
   ]
  },
  {
   "cell_type": "code",
   "execution_count": 12,
   "metadata": {},
   "outputs": [
    {
     "data": {
      "text/plain": [
       "array([[3, 3, 3, 3, 2, 1, 3],\n",
       "       [5, 5, 5, 5, 3, 2, 4],\n",
       "       [1, 1, 1, 1, 4, 6, 1],\n",
       "       [2, 2, 2, 2, 1, 0, 2],\n",
       "       [8, 8, 7, 7, 6, 4, 6],\n",
       "       [6, 6, 6, 6, 5, 3, 5],\n",
       "       [7, 7, 8, 8, 7, 8, 8],\n",
       "       [4, 4, 4, 4, 8, 7, 7],\n",
       "       [0, 0, 0, 0, 0, 5, 0]])"
      ]
     },
     "execution_count": 12,
     "metadata": {},
     "output_type": "execute_result"
    }
   ],
   "source": [
    "true_rank[:,28:35]"
   ]
  },
  {
   "cell_type": "code",
   "execution_count": 13,
   "metadata": {},
   "outputs": [
    {
     "data": {
      "text/plain": [
       "array([[3, 3, 3, 3, 3, 1, 1],\n",
       "       [5, 5, 5, 5, 5, 2, 2],\n",
       "       [1, 1, 1, 1, 1, 7, 5],\n",
       "       [2, 2, 2, 2, 2, 0, 0],\n",
       "       [8, 6, 7, 7, 7, 5, 4],\n",
       "       [7, 8, 6, 6, 6, 4, 3],\n",
       "       [6, 7, 8, 8, 8, 6, 8],\n",
       "       [4, 4, 4, 4, 4, 8, 7],\n",
       "       [0, 0, 0, 0, 0, 3, 6]])"
      ]
     },
     "execution_count": 13,
     "metadata": {},
     "output_type": "execute_result"
    }
   ],
   "source": [
    "pred_rank[:,28:35]"
   ]
  },
  {
   "cell_type": "markdown",
   "metadata": {},
   "source": [
    "### evluate the rank"
   ]
  },
  {
   "cell_type": "code",
   "execution_count": 25,
   "metadata": {},
   "outputs": [
    {
     "name": "stdout",
     "output_type": "stream",
     "text": [
      "eval on model:  lstmts\n",
      "accuracy: 0.7103372028745163\n",
      "top1 accuracy: 0.826530612244898\n",
      "top5 accuracy: 0.7510204081632653\n",
      "top5 precision: 0.9102040816326531\n",
      "eval on model:  simple\n",
      "accuracy: 0.8413488114980652\n",
      "top1 accuracy: 0.923469387755102\n",
      "top5 accuracy: 0.8581632653061224\n",
      "top5 precision: 0.9561224489795919\n"
     ]
    }
   ],
   "source": [
    "# \n",
    "def eval_model(name, trueth, pred, startlap = 5):\n",
    "    match_mask = (trueth == pred)\n",
    "    print('eval on model: ', name)\n",
    "    print('accuracy:', np.sum(match_mask)/(match_mask.shape[1]*match_mask.shape[0]))\n",
    "\n",
    "    top1 = np.logical_and((trueth==0),match_mask)[:,startlap:]\n",
    "    print('top1 accuracy:', np.sum(top1)/top1.shape[1])\n",
    "    \n",
    "    top5 = np.logical_and((trueth < 5),match_mask)[:,startlap:]\n",
    "    print('top5 accuracy:', np.sum(top5)/top5.shape[1]/5)\n",
    "    # precision is more useful\n",
    "    top5 = np.logical_and((trueth < 5),(pred < 5))[:,startlap:]\n",
    "    print('top5 precision:', np.sum(top5)/top5.shape[1]/5)\n",
    "    \n",
    "    \n",
    "eval_model('lstmts', true_rank, pred_rank)\n",
    "eval_model('simple', true_rank, simple_rank)\n",
    "\n",
    "\n"
   ]
  },
  {
   "cell_type": "code",
   "execution_count": null,
   "metadata": {},
   "outputs": [],
   "source": []
  }
 ],
 "metadata": {
  "kernelspec": {
   "display_name": "Python 3",
   "language": "python",
   "name": "python3"
  }
 },
 "nbformat": 4,
 "nbformat_minor": 2
}
