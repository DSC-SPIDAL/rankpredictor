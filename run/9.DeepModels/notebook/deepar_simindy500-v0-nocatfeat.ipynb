{
 "cells": [
  {
   "cell_type": "markdown",
   "metadata": {},
   "source": [
    "# DeepAR on simulation indy500 laptime dataset\n",
    "\n",
    "laptime dataset\n",
    "<eventid, carids, laptime (totalcars x totallaps)>"
   ]
  },
  {
   "cell_type": "code",
   "execution_count": 1,
   "metadata": {},
   "outputs": [],
   "source": [
    "# Third-party imports\n",
    "%matplotlib inline\n",
    "import mxnet as mx\n",
    "from mxnet import gluon\n",
    "import numpy as np\n",
    "import pandas as pd\n",
    "import matplotlib.pyplot as plt\n",
    "import json"
   ]
  },
  {
   "cell_type": "markdown",
   "metadata": {},
   "source": [
    "## Datasets\n"
   ]
  },
  {
   "cell_type": "code",
   "execution_count": 2,
   "metadata": {},
   "outputs": [],
   "source": [
    "import pickle\n",
    "with open('sim-indy500-laptime-2018.pickle', 'rb') as f:\n",
    "    # The protocol version used is detected automatically, so we do not\n",
    "    # have to specify it.\n",
    "    laptime_data = pickle.load(f, encoding='latin1')"
   ]
  },
  {
   "cell_type": "code",
   "execution_count": 3,
   "metadata": {},
   "outputs": [
    {
     "name": "stdout",
     "output_type": "stream",
     "text": [
      "number of runs: 120\n"
     ]
    }
   ],
   "source": [
    "print(f\"number of runs: {len(laptime_data)}\")"
   ]
  },
  {
   "cell_type": "markdown",
   "metadata": {},
   "source": [
    "To download one of the built-in datasets, simply call get_dataset with one of the above names. GluonTS can re-use the saved dataset so that it does not need to be downloaded again: simply set `regenerate=False`."
   ]
  },
  {
   "cell_type": "code",
   "execution_count": 5,
   "metadata": {},
   "outputs": [
    {
     "data": {
      "text/plain": [
       "array([[42.3679, 41.0984, 41.0943, ..., 41.5412, 41.3549, 41.7541],\n",
       "       [43.295 , 41.2297, 41.2107, ...,  0.    ,  0.    ,  0.    ],\n",
       "       [45.5445, 41.6044, 41.5238, ..., 42.0267, 42.0092, 41.9617],\n",
       "       ...,\n",
       "       [45.0093, 45.0862, 42.926 , ..., 42.0984, 41.6441, 41.7593],\n",
       "       [44.9733, 43.1084, 42.004 , ..., 42.098 , 41.9995, 41.8993],\n",
       "       [43.7392, 41.1911, 41.799 , ..., 42.2737, 41.967 , 41.8751]],\n",
       "      dtype=float32)"
      ]
     },
     "execution_count": 5,
     "metadata": {},
     "output_type": "execute_result"
    }
   ],
   "source": [
    "laptime_data[2][2].astype(np.float32)"
   ]
  },
  {
   "cell_type": "code",
   "execution_count": 39,
   "metadata": {},
   "outputs": [
    {
     "data": {
      "text/plain": [
       "[0,\n",
       " 1,\n",
       " 2,\n",
       " 3,\n",
       " 4,\n",
       " 5,\n",
       " 6,\n",
       " 7,\n",
       " 8,\n",
       " 9,\n",
       " 10,\n",
       " 11,\n",
       " 12,\n",
       " 13,\n",
       " 14,\n",
       " 15,\n",
       " 16,\n",
       " 17,\n",
       " 18,\n",
       " 19,\n",
       " 20,\n",
       " 21,\n",
       " 22,\n",
       " 23,\n",
       " 24,\n",
       " 25,\n",
       " 26,\n",
       " 27,\n",
       " 28,\n",
       " 29,\n",
       " 30,\n",
       " 31,\n",
       " 32]"
      ]
     },
     "execution_count": 39,
     "metadata": {},
     "output_type": "execute_result"
    }
   ],
   "source": [
    "list(laptime_data[1][1].values())"
   ]
  },
  {
   "cell_type": "code",
   "execution_count": 4,
   "metadata": {},
   "outputs": [],
   "source": [
    "from gluonts.dataset.common import ListDataset\n",
    "prediction_length = 50\n",
    "freq = \"1H\"\n",
    "start = pd.Timestamp(\"01-01-2019\", freq=freq)  # can be different for each time series\n",
    "\n",
    "train_set = []\n",
    "test_set = []\n",
    "cardinality = []\n",
    "#_data: eventid, carids, laptime array\n",
    "for _data in laptime_data:\n",
    "    #_train = [{'target': x.astype(np.float32), 'start': start} \n",
    "    #        for x in _data[2][:, :-prediction_length]]\n",
    "    #_test = [{'target': x.astype(np.float32), 'start': start} \n",
    "    #        for x in _data[2]]\n",
    "    carids = _data[1][1].values()\n",
    "    _train = [{'target': x.astype(np.float32), 'start': start, 'feat_static_cat': carids} \n",
    "            for x in _data[2][:, :-prediction_length]]\n",
    "    _test = [{'target': x.astype(np.float32), 'start': start, 'feat_static_cat': carids} \n",
    "            for x in _data[2]]\n",
    "    \n",
    "    train_set.extend(_train)\n",
    "    test_set.extend(_test)\n",
    "    cardinality.append(len(carids))\n",
    "\n",
    "\n"
   ]
  },
  {
   "cell_type": "code",
   "execution_count": 5,
   "metadata": {},
   "outputs": [],
   "source": [
    "# train dataset: cut the last window of length \"prediction_length\", add \"target\" and \"start\" fields\n",
    "train_ds = ListDataset(train_set, freq=freq)\n",
    "# test dataset: use the whole dataset, add \"target\" and \"start\" fields\n",
    "test_ds = ListDataset(test_set, freq=freq)"
   ]
  },
  {
   "cell_type": "markdown",
   "metadata": {},
   "source": [
    "In general, the datasets provided by GluonTS are objects that consists of three main members:\n",
    "\n",
    "- `dataset.train` is an iterable collection of data entries used for training. Each entry corresponds to one time series\n",
    "- `dataset.test` is an iterable collection of data entries used for inference. The test dataset is an extended version of the train dataset that contains a window in the end of each time series that was not seen during training. This window has length equal to the recommended prediction length.\n",
    "- `dataset.metadata` contains metadata of the dataset such as the frequency of the time series, a recommended prediction horizon, associated features, etc."
   ]
  },
  {
   "cell_type": "code",
   "execution_count": 6,
   "metadata": {},
   "outputs": [
    {
     "data": {
      "image/png": "[encoded data removed]",
      "text/plain": [
       "<Figure size 432x288 with 1 Axes>"
      ]
     },
     "metadata": {
      "needs_background": "light"
     },
     "output_type": "display_data"
    }
   ],
   "source": [
    "from gluonts.dataset.util import to_pandas\n",
    "entry = next(iter(train_ds))\n",
    "train_series = to_pandas(entry)\n",
    "train_series.plot()\n",
    "plt.grid(which=\"both\")\n",
    "plt.legend([\"train series\"], loc=\"upper left\")\n",
    "plt.show()"
   ]
  },
  {
   "cell_type": "code",
   "execution_count": 7,
   "metadata": {},
   "outputs": [
    {
     "data": {
      "image/png": "[encoded data removed]",
      "text/plain": [
       "<Figure size 432x288 with 1 Axes>"
      ]
     },
     "metadata": {
      "needs_background": "light"
     },
     "output_type": "display_data"
    }
   ],
   "source": [
    "entry = next(iter(test_ds))\n",
    "test_series = to_pandas(entry)\n",
    "test_series.plot()\n",
    "plt.axvline(train_series.index[-1], color='r') # end of train dataset\n",
    "plt.grid(which=\"both\")\n",
    "plt.legend([\"test series\", \"end of train series\"], loc=\"upper left\")\n",
    "plt.show()"
   ]
  },
  {
   "cell_type": "code",
   "execution_count": 8,
   "metadata": {},
   "outputs": [
    {
     "name": "stdout",
     "output_type": "stream",
     "text": [
      "Length of forecasting window in test dataset: 50\n",
      "Recommended prediction horizon: 50\n",
      "Frequency of the time series: 1H\n"
     ]
    }
   ],
   "source": [
    "print(f\"Length of forecasting window in test dataset: {len(test_series) - len(train_series)}\")\n",
    "print(f\"Recommended prediction horizon: {prediction_length}\")\n",
    "print(f\"Frequency of the time series: {freq}\")"
   ]
  },
  {
   "cell_type": "markdown",
   "metadata": {},
   "source": [
    "## Training an existing model (`Estimator`)\n",
    "\n",
    "GluonTS comes with a number of pre-built models. All the user needs to do is configure some hyperparameters. The existing models focus on (but are not limited to) probabilistic forecasting. Probabilistic forecasts are predictions in the form of a probability distribution, rather than simply a single point estimate.\n",
    "\n",
    "We will begin with GulonTS's pre-built feedforward neural network estimator, a simple but powerful forecasting model. We will use this model to demonstrate the process of training a model, producing forecasts, and evaluating the results.\n",
    "\n",
    "GluonTS's built-in feedforward neural network (`SimpleFeedForwardEstimator`) accepts an input window of length `context_length` and predicts the distribution of the values of the subsequent `prediction_length` values. In GluonTS parlance, the feedforward neural network model is an example of `Estimator`. In GluonTS, `Estimator` objects represent a forecasting model as well as details such as its coefficients, weights, etc.\n",
    "\n",
    "In general, each estimator (pre-built or custom) is configured by a number of hyperparameters that can be either common (but not binding) among all estimators (e.g., the `prediction_length`) or specific for the particular estimator (e.g., number of layers for a neural network or the stride in a CNN).\n",
    "\n",
    "Finally, each estimator is configured by a `Trainer`, which defines how the model will be trained i.e., the number of epochs, the learning rate, etc."
   ]
  },
  {
   "cell_type": "code",
   "execution_count": 9,
   "metadata": {},
   "outputs": [
    {
     "name": "stderr",
     "output_type": "stream",
     "text": [
      "INFO:root:Using GPU\n"
     ]
    }
   ],
   "source": [
    "from gluonts.model.deepar import DeepAREstimator\n",
    "from gluonts.trainer import Trainer"
   ]
  },
  {
   "cell_type": "code",
   "execution_count": 10,
   "metadata": {},
   "outputs": [],
   "source": [
    "estimator = DeepAREstimator(\n",
    "    prediction_length=prediction_length,\n",
    "    context_length=100,\n",
    "    use_feat_static_cat=True,\n",
    "    cardinality=cardinality,\n",
    "    freq=freq,\n",
    "    trainer=Trainer(ctx=\"gpu\", \n",
    "                    epochs=100, \n",
    "                    learning_rate=1e-3, \n",
    "                    num_batches_per_epoch=64\n",
    "                   )\n",
    ")"
   ]
  },
  {
   "cell_type": "markdown",
   "metadata": {},
   "source": [
    "After specifying our estimator with all the necessary hyperparameters we can train it using our training dataset `dataset.train` by invoking the `train` method of the estimator. The training algorithm returns a fitted model (or a `Predictor` in GluonTS parlance) that can be used to construct forecasts."
   ]
  },
  {
   "cell_type": "code",
   "execution_count": 11,
   "metadata": {},
   "outputs": [
    {
     "name": "stderr",
     "output_type": "stream",
     "text": [
      "INFO:root:Start model training\n",
      "INFO:root:Epoch[0] Learning rate is 0.001\n",
      "  0%|          | 0/64 [00:00<?, ?it/s]INFO:root:Number of parameters in DeepARTrainingNetwork: 27644\n",
      "100%|██████████| 64/64 [00:16<00:00,  3.83it/s, avg_epoch_loss=2.71]\n",
      "INFO:root:Epoch[0] Elapsed time 16.715 seconds\n",
      "INFO:root:Epoch[0] Evaluation metric 'epoch_loss'=2.713318\n",
      "INFO:root:Epoch[1] Learning rate is 0.001\n",
      "100%|██████████| 64/64 [00:12<00:00,  4.96it/s, avg_epoch_loss=2.03]\n",
      "INFO:root:Epoch[1] Elapsed time 12.918 seconds\n",
      "INFO:root:Epoch[1] Evaluation metric 'epoch_loss'=2.034428\n",
      "INFO:root:Epoch[2] Learning rate is 0.001\n",
      "100%|██████████| 64/64 [00:12<00:00,  4.94it/s, avg_epoch_loss=1.92]\n",
      "INFO:root:Epoch[2] Elapsed time 12.949 seconds\n",
      "INFO:root:Epoch[2] Evaluation metric 'epoch_loss'=1.924344\n",
      "INFO:root:Epoch[3] Learning rate is 0.001\n",
      "100%|██████████| 64/64 [00:12<00:00,  4.94it/s, avg_epoch_loss=1.94]\n",
      "INFO:root:Epoch[3] Elapsed time 12.949 seconds\n",
      "INFO:root:Epoch[3] Evaluation metric 'epoch_loss'=1.935103\n",
      "INFO:root:Epoch[4] Learning rate is 0.001\n",
      "100%|██████████| 64/64 [00:12<00:00,  4.95it/s, avg_epoch_loss=1.92]\n",
      "INFO:root:Epoch[4] Elapsed time 12.926 seconds\n",
      "INFO:root:Epoch[4] Evaluation metric 'epoch_loss'=1.917384\n",
      "INFO:root:Epoch[5] Learning rate is 0.001\n",
      "100%|██████████| 64/64 [00:12<00:00,  4.95it/s, avg_epoch_loss=1.89]\n",
      "INFO:root:Epoch[5] Elapsed time 12.944 seconds\n",
      "INFO:root:Epoch[5] Evaluation metric 'epoch_loss'=1.887819\n",
      "INFO:root:Epoch[6] Learning rate is 0.001\n",
      "100%|██████████| 64/64 [00:12<00:00,  4.95it/s, avg_epoch_loss=1.86]\n",
      "INFO:root:Epoch[6] Elapsed time 12.931 seconds\n",
      "INFO:root:Epoch[6] Evaluation metric 'epoch_loss'=1.861760\n",
      "INFO:root:Epoch[7] Learning rate is 0.001\n",
      "100%|██████████| 64/64 [00:12<00:00,  4.96it/s, avg_epoch_loss=1.91]\n",
      "INFO:root:Epoch[7] Elapsed time 12.901 seconds\n",
      "INFO:root:Epoch[7] Evaluation metric 'epoch_loss'=1.909416\n",
      "INFO:root:Epoch[8] Learning rate is 0.001\n",
      "100%|██████████| 64/64 [00:12<00:00,  4.96it/s, avg_epoch_loss=1.88]\n",
      "INFO:root:Epoch[8] Elapsed time 12.899 seconds\n",
      "INFO:root:Epoch[8] Evaluation metric 'epoch_loss'=1.880478\n",
      "INFO:root:Epoch[9] Learning rate is 0.001\n",
      "100%|██████████| 64/64 [00:12<00:00,  4.97it/s, avg_epoch_loss=1.9] \n",
      "INFO:root:Epoch[9] Elapsed time 12.890 seconds\n",
      "INFO:root:Epoch[9] Evaluation metric 'epoch_loss'=1.902413\n",
      "INFO:root:Epoch[10] Learning rate is 0.001\n",
      "100%|██████████| 64/64 [00:12<00:00,  4.97it/s, avg_epoch_loss=1.85]\n",
      "INFO:root:Epoch[10] Elapsed time 12.874 seconds\n",
      "INFO:root:Epoch[10] Evaluation metric 'epoch_loss'=1.853752\n",
      "INFO:root:Epoch[11] Learning rate is 0.001\n",
      "100%|██████████| 64/64 [00:12<00:00,  4.97it/s, avg_epoch_loss=1.87]\n",
      "INFO:root:Epoch[11] Elapsed time 12.890 seconds\n",
      "INFO:root:Epoch[11] Evaluation metric 'epoch_loss'=1.873384\n",
      "INFO:root:Epoch[12] Learning rate is 0.001\n",
      "100%|██████████| 64/64 [00:12<00:00,  4.96it/s, avg_epoch_loss=1.88]\n",
      "INFO:root:Epoch[12] Elapsed time 12.916 seconds\n",
      "INFO:root:Epoch[12] Evaluation metric 'epoch_loss'=1.884214\n",
      "INFO:root:Epoch[13] Learning rate is 0.001\n",
      "100%|██████████| 64/64 [00:12<00:00,  4.95it/s, avg_epoch_loss=1.9]\n",
      "INFO:root:Epoch[13] Elapsed time 12.930 seconds\n",
      "INFO:root:Epoch[13] Evaluation metric 'epoch_loss'=1.904231\n",
      "INFO:root:Epoch[14] Learning rate is 0.001\n",
      "100%|██████████| 64/64 [00:12<00:00,  4.97it/s, avg_epoch_loss=1.85]\n",
      "INFO:root:Epoch[14] Elapsed time 12.888 seconds\n",
      "INFO:root:Epoch[14] Evaluation metric 'epoch_loss'=1.848663\n",
      "INFO:root:Epoch[15] Learning rate is 0.001\n",
      "100%|██████████| 64/64 [00:12<00:00,  4.97it/s, avg_epoch_loss=1.85]\n",
      "INFO:root:Epoch[15] Elapsed time 12.887 seconds\n",
      "INFO:root:Epoch[15] Evaluation metric 'epoch_loss'=1.852612\n",
      "INFO:root:Epoch[16] Learning rate is 0.001\n",
      "100%|██████████| 64/64 [00:12<00:00,  4.93it/s, avg_epoch_loss=1.84]\n",
      "INFO:root:Epoch[16] Elapsed time 12.986 seconds\n",
      "INFO:root:Epoch[16] Evaluation metric 'epoch_loss'=1.841727\n",
      "INFO:root:Epoch[17] Learning rate is 0.001\n",
      "100%|██████████| 64/64 [00:12<00:00,  4.93it/s, avg_epoch_loss=1.86]\n",
      "INFO:root:Epoch[17] Elapsed time 12.974 seconds\n",
      "INFO:root:Epoch[17] Evaluation metric 'epoch_loss'=1.855918\n",
      "INFO:root:Epoch[18] Learning rate is 0.001\n",
      "100%|██████████| 64/64 [00:12<00:00,  4.97it/s, avg_epoch_loss=1.83]\n",
      "INFO:root:Epoch[18] Elapsed time 12.887 seconds\n",
      "INFO:root:Epoch[18] Evaluation metric 'epoch_loss'=1.831791\n",
      "INFO:root:Epoch[19] Learning rate is 0.001\n",
      "100%|██████████| 64/64 [00:12<00:00,  4.97it/s, avg_epoch_loss=1.85]\n",
      "INFO:root:Epoch[19] Elapsed time 12.883 seconds\n",
      "INFO:root:Epoch[19] Evaluation metric 'epoch_loss'=1.848287\n",
      "INFO:root:Epoch[20] Learning rate is 0.001\n",
      "100%|██████████| 64/64 [00:12<00:00,  4.97it/s, avg_epoch_loss=1.83]\n",
      "INFO:root:Epoch[20] Elapsed time 12.891 seconds\n",
      "INFO:root:Epoch[20] Evaluation metric 'epoch_loss'=1.832302\n",
      "INFO:root:Epoch[21] Learning rate is 0.001\n",
      "100%|██████████| 64/64 [00:12<00:00,  4.97it/s, avg_epoch_loss=1.85]\n",
      "INFO:root:Epoch[21] Elapsed time 12.885 seconds\n",
      "INFO:root:Epoch[21] Evaluation metric 'epoch_loss'=1.850337\n",
      "INFO:root:Epoch[22] Learning rate is 0.001\n",
      "100%|██████████| 64/64 [00:13<00:00,  4.92it/s, avg_epoch_loss=1.85]\n",
      "INFO:root:Epoch[22] Elapsed time 13.003 seconds\n",
      "INFO:root:Epoch[22] Evaluation metric 'epoch_loss'=1.845505\n",
      "INFO:root:Epoch[23] Learning rate is 0.001\n",
      "100%|██████████| 64/64 [00:12<00:00,  4.94it/s, avg_epoch_loss=1.83]\n",
      "INFO:root:Epoch[23] Elapsed time 12.956 seconds\n",
      "INFO:root:Epoch[23] Evaluation metric 'epoch_loss'=1.829191\n",
      "INFO:root:Epoch[24] Learning rate is 0.001\n",
      "100%|██████████| 64/64 [00:12<00:00,  4.97it/s, avg_epoch_loss=1.82]\n",
      "INFO:root:Epoch[24] Elapsed time 12.868 seconds\n",
      "INFO:root:Epoch[24] Evaluation metric 'epoch_loss'=1.824357\n",
      "INFO:root:Epoch[25] Learning rate is 0.001\n",
      "100%|██████████| 64/64 [00:12<00:00,  4.97it/s, avg_epoch_loss=1.84]\n",
      "INFO:root:Epoch[25] Elapsed time 12.881 seconds\n",
      "INFO:root:Epoch[25] Evaluation metric 'epoch_loss'=1.841588\n",
      "INFO:root:Epoch[26] Learning rate is 0.001\n",
      "100%|██████████| 64/64 [00:12<00:00,  4.97it/s, avg_epoch_loss=1.82]\n",
      "INFO:root:Epoch[26] Elapsed time 12.892 seconds\n",
      "INFO:root:Epoch[26] Evaluation metric 'epoch_loss'=1.822151\n",
      "INFO:root:Epoch[27] Learning rate is 0.001\n",
      "100%|██████████| 64/64 [00:12<00:00,  4.98it/s, avg_epoch_loss=1.81]\n",
      "INFO:root:Epoch[27] Elapsed time 12.863 seconds\n",
      "INFO:root:Epoch[27] Evaluation metric 'epoch_loss'=1.805694\n",
      "INFO:root:Epoch[28] Learning rate is 0.001\n",
      "100%|██████████| 64/64 [00:12<00:00,  4.94it/s, avg_epoch_loss=1.84]\n",
      "INFO:root:Epoch[28] Elapsed time 12.968 seconds\n",
      "INFO:root:Epoch[28] Evaluation metric 'epoch_loss'=1.844727\n",
      "INFO:root:Epoch[29] Learning rate is 0.001\n",
      "100%|██████████| 64/64 [00:12<00:00,  4.96it/s, avg_epoch_loss=1.83]\n",
      "INFO:root:Epoch[29] Elapsed time 12.908 seconds\n",
      "INFO:root:Epoch[29] Evaluation metric 'epoch_loss'=1.825431\n",
      "INFO:root:Epoch[30] Learning rate is 0.001\n",
      "100%|██████████| 64/64 [00:12<00:00,  4.97it/s, avg_epoch_loss=1.83]\n",
      "INFO:root:Epoch[30] Elapsed time 12.884 seconds\n",
      "INFO:root:Epoch[30] Evaluation metric 'epoch_loss'=1.833645\n",
      "INFO:root:Epoch[31] Learning rate is 0.001\n",
      "100%|██████████| 64/64 [00:12<00:00,  4.95it/s, avg_epoch_loss=1.8]\n",
      "INFO:root:Epoch[31] Elapsed time 12.920 seconds\n",
      "INFO:root:Epoch[31] Evaluation metric 'epoch_loss'=1.798101\n",
      "INFO:root:Epoch[32] Learning rate is 0.001\n",
      "100%|██████████| 64/64 [00:12<00:00,  4.98it/s, avg_epoch_loss=1.81]\n",
      "INFO:root:Epoch[32] Elapsed time 12.860 seconds\n",
      "INFO:root:Epoch[32] Evaluation metric 'epoch_loss'=1.806127\n",
      "INFO:root:Epoch[33] Learning rate is 0.001\n",
      "100%|██████████| 64/64 [00:12<00:00,  4.97it/s, avg_epoch_loss=1.81]\n",
      "INFO:root:Epoch[33] Elapsed time 12.891 seconds\n",
      "INFO:root:Epoch[33] Evaluation metric 'epoch_loss'=1.808838\n",
      "INFO:root:Epoch[34] Learning rate is 0.001\n",
      "100%|██████████| 64/64 [00:12<00:00,  4.95it/s, avg_epoch_loss=1.83]\n",
      "INFO:root:Epoch[34] Elapsed time 12.925 seconds\n",
      "INFO:root:Epoch[34] Evaluation metric 'epoch_loss'=1.829641\n",
      "INFO:root:Epoch[35] Learning rate is 0.001\n",
      "100%|██████████| 64/64 [00:12<00:00,  4.95it/s, avg_epoch_loss=1.82]\n",
      "INFO:root:Epoch[35] Elapsed time 12.940 seconds\n",
      "INFO:root:Epoch[35] Evaluation metric 'epoch_loss'=1.817216\n",
      "INFO:root:Epoch[36] Learning rate is 0.001\n",
      "100%|██████████| 64/64 [00:12<00:00,  4.95it/s, avg_epoch_loss=1.8] \n",
      "INFO:root:Epoch[36] Elapsed time 12.925 seconds\n",
      "INFO:root:Epoch[36] Evaluation metric 'epoch_loss'=1.802145\n"
     ]
    },
    {
     "name": "stderr",
     "output_type": "stream",
     "text": [
      "INFO:root:Epoch[37] Learning rate is 0.001\n",
      "100%|██████████| 64/64 [00:12<00:00,  4.97it/s, avg_epoch_loss=1.79]\n",
      "INFO:root:Epoch[37] Elapsed time 12.872 seconds\n",
      "INFO:root:Epoch[37] Evaluation metric 'epoch_loss'=1.788865\n",
      "INFO:root:Epoch[38] Learning rate is 0.001\n",
      "100%|██████████| 64/64 [00:12<00:00,  4.94it/s, avg_epoch_loss=1.8]\n",
      "INFO:root:Epoch[38] Elapsed time 12.944 seconds\n",
      "INFO:root:Epoch[38] Evaluation metric 'epoch_loss'=1.800712\n",
      "INFO:root:Epoch[39] Learning rate is 0.001\n",
      "100%|██████████| 64/64 [00:12<00:00,  4.96it/s, avg_epoch_loss=1.79]\n",
      "INFO:root:Epoch[39] Elapsed time 12.893 seconds\n",
      "INFO:root:Epoch[39] Evaluation metric 'epoch_loss'=1.786305\n",
      "INFO:root:Epoch[40] Learning rate is 0.001\n",
      "100%|██████████| 64/64 [00:12<00:00,  4.98it/s, avg_epoch_loss=1.77]\n",
      "INFO:root:Epoch[40] Elapsed time 12.859 seconds\n",
      "INFO:root:Epoch[40] Evaluation metric 'epoch_loss'=1.769710\n",
      "INFO:root:Epoch[41] Learning rate is 0.001\n",
      "100%|██████████| 64/64 [00:12<00:00,  4.95it/s, avg_epoch_loss=1.76]\n",
      "INFO:root:Epoch[41] Elapsed time 12.944 seconds\n",
      "INFO:root:Epoch[41] Evaluation metric 'epoch_loss'=1.756610\n",
      "INFO:root:Epoch[42] Learning rate is 0.001\n",
      "100%|██████████| 64/64 [00:12<00:00,  4.95it/s, avg_epoch_loss=1.76]\n",
      "INFO:root:Epoch[42] Elapsed time 12.935 seconds\n",
      "INFO:root:Epoch[42] Evaluation metric 'epoch_loss'=1.760894\n",
      "INFO:root:Epoch[43] Learning rate is 0.001\n",
      "100%|██████████| 64/64 [00:12<00:00,  4.94it/s, avg_epoch_loss=1.76]\n",
      "INFO:root:Epoch[43] Elapsed time 12.947 seconds\n",
      "INFO:root:Epoch[43] Evaluation metric 'epoch_loss'=1.763245\n",
      "INFO:root:Epoch[44] Learning rate is 0.001\n",
      "100%|██████████| 64/64 [00:12<00:00,  4.96it/s, avg_epoch_loss=1.78]\n",
      "INFO:root:Epoch[44] Elapsed time 12.900 seconds\n",
      "INFO:root:Epoch[44] Evaluation metric 'epoch_loss'=1.776553\n",
      "INFO:root:Epoch[45] Learning rate is 0.001\n",
      "100%|██████████| 64/64 [00:12<00:00,  4.93it/s, avg_epoch_loss=1.74]\n",
      "INFO:root:Epoch[45] Elapsed time 12.978 seconds\n",
      "INFO:root:Epoch[45] Evaluation metric 'epoch_loss'=1.743506\n",
      "INFO:root:Epoch[46] Learning rate is 0.001\n",
      "100%|██████████| 64/64 [00:12<00:00,  4.95it/s, avg_epoch_loss=1.76]\n",
      "INFO:root:Epoch[46] Elapsed time 12.938 seconds\n",
      "INFO:root:Epoch[46] Evaluation metric 'epoch_loss'=1.764786\n",
      "INFO:root:Epoch[47] Learning rate is 0.001\n",
      "100%|██████████| 64/64 [00:12<00:00,  4.94it/s, avg_epoch_loss=1.75]\n",
      "INFO:root:Epoch[47] Elapsed time 12.954 seconds\n",
      "INFO:root:Epoch[47] Evaluation metric 'epoch_loss'=1.748690\n",
      "INFO:root:Epoch[48] Learning rate is 0.001\n",
      "100%|██████████| 64/64 [00:12<00:00,  4.97it/s, avg_epoch_loss=1.75]\n",
      "INFO:root:Epoch[48] Elapsed time 12.892 seconds\n",
      "INFO:root:Epoch[48] Evaluation metric 'epoch_loss'=1.751282\n",
      "INFO:root:Epoch[49] Learning rate is 0.001\n",
      "100%|██████████| 64/64 [00:12<00:00,  4.96it/s, avg_epoch_loss=1.73]\n",
      "INFO:root:Epoch[49] Elapsed time 12.900 seconds\n",
      "INFO:root:Epoch[49] Evaluation metric 'epoch_loss'=1.733655\n",
      "INFO:root:Epoch[50] Learning rate is 0.001\n",
      "100%|██████████| 64/64 [00:12<00:00,  4.96it/s, avg_epoch_loss=1.74]\n",
      "INFO:root:Epoch[50] Elapsed time 12.918 seconds\n",
      "INFO:root:Epoch[50] Evaluation metric 'epoch_loss'=1.738064\n",
      "INFO:root:Epoch[51] Learning rate is 0.001\n",
      "100%|██████████| 64/64 [00:12<00:00,  4.94it/s, avg_epoch_loss=1.73]\n",
      "INFO:root:Epoch[51] Elapsed time 12.946 seconds\n",
      "INFO:root:Epoch[51] Evaluation metric 'epoch_loss'=1.733028\n",
      "INFO:root:Epoch[52] Learning rate is 0.001\n",
      "100%|██████████| 64/64 [00:12<00:00,  4.97it/s, avg_epoch_loss=1.74]\n",
      "INFO:root:Epoch[52] Elapsed time 12.874 seconds\n",
      "INFO:root:Epoch[52] Evaluation metric 'epoch_loss'=1.739978\n",
      "INFO:root:Epoch[53] Learning rate is 0.001\n",
      "100%|██████████| 64/64 [00:12<00:00,  4.97it/s, avg_epoch_loss=1.73]\n",
      "INFO:root:Epoch[53] Elapsed time 12.879 seconds\n",
      "INFO:root:Epoch[53] Evaluation metric 'epoch_loss'=1.729496\n",
      "INFO:root:Epoch[54] Learning rate is 0.001\n",
      "100%|██████████| 64/64 [00:12<00:00,  4.98it/s, avg_epoch_loss=1.72]\n",
      "INFO:root:Epoch[54] Elapsed time 12.866 seconds\n",
      "INFO:root:Epoch[54] Evaluation metric 'epoch_loss'=1.722023\n",
      "INFO:root:Epoch[55] Learning rate is 0.001\n",
      "100%|██████████| 64/64 [00:12<00:00,  4.94it/s, avg_epoch_loss=1.73]\n",
      "INFO:root:Epoch[55] Elapsed time 12.952 seconds\n",
      "INFO:root:Epoch[55] Evaluation metric 'epoch_loss'=1.727519\n",
      "INFO:root:Epoch[56] Learning rate is 0.001\n",
      "100%|██████████| 64/64 [00:12<00:00,  4.96it/s, avg_epoch_loss=1.72]\n",
      "INFO:root:Epoch[56] Elapsed time 12.915 seconds\n",
      "INFO:root:Epoch[56] Evaluation metric 'epoch_loss'=1.716477\n",
      "INFO:root:Epoch[57] Learning rate is 0.001\n",
      "100%|██████████| 64/64 [00:12<00:00,  4.98it/s, avg_epoch_loss=1.71]\n",
      "INFO:root:Epoch[57] Elapsed time 12.863 seconds\n",
      "INFO:root:Epoch[57] Evaluation metric 'epoch_loss'=1.714491\n",
      "INFO:root:Epoch[58] Learning rate is 0.001\n",
      "100%|██████████| 64/64 [00:12<00:00,  4.98it/s, avg_epoch_loss=1.73]\n",
      "INFO:root:Epoch[58] Elapsed time 12.859 seconds\n",
      "INFO:root:Epoch[58] Evaluation metric 'epoch_loss'=1.725264\n",
      "INFO:root:Epoch[59] Learning rate is 0.001\n",
      "100%|██████████| 64/64 [00:12<00:00,  4.97it/s, avg_epoch_loss=1.71]\n",
      "INFO:root:Epoch[59] Elapsed time 12.873 seconds\n",
      "INFO:root:Epoch[59] Evaluation metric 'epoch_loss'=1.712257\n",
      "INFO:root:Epoch[60] Learning rate is 0.001\n",
      "100%|██████████| 64/64 [00:12<00:00,  4.96it/s, avg_epoch_loss=1.73]\n",
      "INFO:root:Epoch[60] Elapsed time 12.899 seconds\n",
      "INFO:root:Epoch[60] Evaluation metric 'epoch_loss'=1.727909\n",
      "INFO:root:Epoch[61] Learning rate is 0.001\n",
      "100%|██████████| 64/64 [00:12<00:00,  4.95it/s, avg_epoch_loss=1.72]\n",
      "INFO:root:Epoch[61] Elapsed time 12.919 seconds\n",
      "INFO:root:Epoch[61] Evaluation metric 'epoch_loss'=1.723549\n",
      "INFO:root:Epoch[62] Learning rate is 0.001\n",
      "100%|██████████| 64/64 [00:12<00:00,  4.95it/s, avg_epoch_loss=1.72]\n",
      "INFO:root:Epoch[62] Elapsed time 12.931 seconds\n",
      "INFO:root:Epoch[62] Evaluation metric 'epoch_loss'=1.721803\n",
      "INFO:root:Epoch[63] Learning rate is 0.001\n",
      "100%|██████████| 64/64 [00:12<00:00,  4.97it/s, avg_epoch_loss=1.71]\n",
      "INFO:root:Epoch[63] Elapsed time 12.888 seconds\n",
      "INFO:root:Epoch[63] Evaluation metric 'epoch_loss'=1.713847\n",
      "INFO:root:Epoch[64] Learning rate is 0.001\n",
      "100%|██████████| 64/64 [00:12<00:00,  4.95it/s, avg_epoch_loss=1.71]\n",
      "INFO:root:Epoch[64] Elapsed time 12.937 seconds\n",
      "INFO:root:Epoch[64] Evaluation metric 'epoch_loss'=1.708572\n",
      "INFO:root:Epoch[65] Learning rate is 0.001\n",
      "100%|██████████| 64/64 [00:12<00:00,  4.94it/s, avg_epoch_loss=1.7]\n",
      "INFO:root:Epoch[65] Elapsed time 12.946 seconds\n",
      "INFO:root:Epoch[65] Evaluation metric 'epoch_loss'=1.698050\n",
      "INFO:root:Epoch[66] Learning rate is 0.001\n",
      "100%|██████████| 64/64 [00:12<00:00,  4.98it/s, avg_epoch_loss=1.73]\n",
      "INFO:root:Epoch[66] Elapsed time 12.864 seconds\n",
      "INFO:root:Epoch[66] Evaluation metric 'epoch_loss'=1.730641\n",
      "INFO:root:Epoch[67] Learning rate is 0.001\n",
      "100%|██████████| 64/64 [00:12<00:00,  4.94it/s, avg_epoch_loss=1.7]\n",
      "INFO:root:Epoch[67] Elapsed time 12.954 seconds\n",
      "INFO:root:Epoch[67] Evaluation metric 'epoch_loss'=1.696464\n",
      "INFO:root:Epoch[68] Learning rate is 0.001\n",
      "100%|██████████| 64/64 [00:12<00:00,  4.96it/s, avg_epoch_loss=1.69]\n",
      "INFO:root:Epoch[68] Elapsed time 12.908 seconds\n",
      "INFO:root:Epoch[68] Evaluation metric 'epoch_loss'=1.692781\n",
      "INFO:root:Epoch[69] Learning rate is 0.001\n",
      "100%|██████████| 64/64 [00:12<00:00,  4.95it/s, avg_epoch_loss=1.69]\n",
      "INFO:root:Epoch[69] Elapsed time 12.939 seconds\n",
      "INFO:root:Epoch[69] Evaluation metric 'epoch_loss'=1.687047\n",
      "INFO:root:Epoch[70] Learning rate is 0.001\n",
      "100%|██████████| 64/64 [00:12<00:00,  4.97it/s, avg_epoch_loss=1.7]\n",
      "INFO:root:Epoch[70] Elapsed time 12.888 seconds\n",
      "INFO:root:Epoch[70] Evaluation metric 'epoch_loss'=1.695823\n",
      "INFO:root:Epoch[71] Learning rate is 0.001\n",
      "100%|██████████| 64/64 [00:12<00:00,  4.97it/s, avg_epoch_loss=1.67]\n",
      "INFO:root:Epoch[71] Elapsed time 12.868 seconds\n",
      "INFO:root:Epoch[71] Evaluation metric 'epoch_loss'=1.669461\n",
      "INFO:root:Epoch[72] Learning rate is 0.001\n",
      "100%|██████████| 64/64 [00:12<00:00,  4.95it/s, avg_epoch_loss=1.67]\n",
      "INFO:root:Epoch[72] Elapsed time 12.922 seconds\n",
      "INFO:root:Epoch[72] Evaluation metric 'epoch_loss'=1.672523\n",
      "INFO:root:Epoch[73] Learning rate is 0.001\n",
      "100%|██████████| 64/64 [00:12<00:00,  4.93it/s, avg_epoch_loss=1.66]\n",
      "INFO:root:Epoch[73] Elapsed time 12.986 seconds\n",
      "INFO:root:Epoch[73] Evaluation metric 'epoch_loss'=1.664794\n",
      "INFO:root:Epoch[74] Learning rate is 0.001\n",
      "100%|██████████| 64/64 [00:12<00:00,  4.95it/s, avg_epoch_loss=1.68]\n",
      "INFO:root:Epoch[74] Elapsed time 12.942 seconds\n",
      "INFO:root:Epoch[74] Evaluation metric 'epoch_loss'=1.675349\n",
      "INFO:root:Epoch[75] Learning rate is 0.001\n",
      "100%|██████████| 64/64 [00:13<00:00,  4.92it/s, avg_epoch_loss=1.66]\n",
      "INFO:root:Epoch[75] Elapsed time 13.014 seconds\n",
      "INFO:root:Epoch[75] Evaluation metric 'epoch_loss'=1.656538\n",
      "INFO:root:Epoch[76] Learning rate is 0.001\n",
      "100%|██████████| 64/64 [00:12<00:00,  4.95it/s, avg_epoch_loss=1.66]\n",
      "INFO:root:Epoch[76] Elapsed time 12.921 seconds\n",
      "INFO:root:Epoch[76] Evaluation metric 'epoch_loss'=1.655637\n",
      "INFO:root:Epoch[77] Learning rate is 0.001\n",
      "100%|██████████| 64/64 [00:12<00:00,  4.96it/s, avg_epoch_loss=1.67]\n",
      "INFO:root:Epoch[77] Elapsed time 12.917 seconds\n",
      "INFO:root:Epoch[77] Evaluation metric 'epoch_loss'=1.668292\n",
      "INFO:root:Epoch[78] Learning rate is 0.001\n",
      "100%|██████████| 64/64 [00:12<00:00,  4.95it/s, avg_epoch_loss=1.64]\n",
      "INFO:root:Epoch[78] Elapsed time 12.933 seconds\n",
      "INFO:root:Epoch[78] Evaluation metric 'epoch_loss'=1.638358\n",
      "INFO:root:Epoch[79] Learning rate is 0.001\n",
      "100%|██████████| 64/64 [00:12<00:00,  4.98it/s, avg_epoch_loss=1.65]\n",
      "INFO:root:Epoch[79] Elapsed time 12.854 seconds\n",
      "INFO:root:Epoch[79] Evaluation metric 'epoch_loss'=1.652628\n",
      "INFO:root:Epoch[80] Learning rate is 0.001\n",
      "100%|██████████| 64/64 [00:12<00:00,  4.94it/s, avg_epoch_loss=1.67]\n",
      "INFO:root:Epoch[80] Elapsed time 12.946 seconds\n",
      "INFO:root:Epoch[80] Evaluation metric 'epoch_loss'=1.666637\n",
      "INFO:root:Epoch[81] Learning rate is 0.001\n",
      "100%|██████████| 64/64 [00:12<00:00,  4.96it/s, avg_epoch_loss=1.65]\n",
      "INFO:root:Epoch[81] Elapsed time 12.914 seconds\n",
      "INFO:root:Epoch[81] Evaluation metric 'epoch_loss'=1.645561\n",
      "INFO:root:Epoch[82] Learning rate is 0.001\n",
      "100%|██████████| 64/64 [00:12<00:00,  4.98it/s, avg_epoch_loss=1.65]\n",
      "INFO:root:Epoch[82] Elapsed time 12.858 seconds\n",
      "INFO:root:Epoch[82] Evaluation metric 'epoch_loss'=1.645753\n",
      "INFO:root:Epoch[83] Learning rate is 0.001\n",
      "100%|██████████| 64/64 [00:12<00:00,  4.93it/s, avg_epoch_loss=1.65]\n",
      "INFO:root:Epoch[83] Elapsed time 12.986 seconds\n",
      "INFO:root:Epoch[83] Evaluation metric 'epoch_loss'=1.647164\n",
      "INFO:root:Epoch[84] Learning rate is 0.001\n",
      "100%|██████████| 64/64 [00:12<00:00,  4.98it/s, avg_epoch_loss=1.64]\n",
      "INFO:root:Epoch[84] Elapsed time 12.853 seconds\n",
      "INFO:root:Epoch[84] Evaluation metric 'epoch_loss'=1.638947\n",
      "INFO:root:Epoch[85] Learning rate is 0.001\n",
      "100%|██████████| 64/64 [00:12<00:00,  5.00it/s, avg_epoch_loss=1.64]\n",
      "INFO:root:Epoch[85] Elapsed time 12.814 seconds\n",
      "INFO:root:Epoch[85] Evaluation metric 'epoch_loss'=1.635366\n",
      "INFO:root:Epoch[86] Learning rate is 0.001\n",
      "100%|██████████| 64/64 [00:12<00:00,  4.93it/s, avg_epoch_loss=1.64]\n",
      "INFO:root:Epoch[86] Elapsed time 12.977 seconds\n",
      "INFO:root:Epoch[86] Evaluation metric 'epoch_loss'=1.637355\n",
      "INFO:root:Epoch[87] Learning rate is 0.001\n",
      "100%|██████████| 64/64 [00:12<00:00,  4.96it/s, avg_epoch_loss=1.63]\n",
      "INFO:root:Epoch[87] Elapsed time 12.897 seconds\n",
      "INFO:root:Epoch[87] Evaluation metric 'epoch_loss'=1.629974\n",
      "INFO:root:Epoch[88] Learning rate is 0.001\n",
      "100%|██████████| 64/64 [00:12<00:00,  4.97it/s, avg_epoch_loss=1.63]\n",
      "INFO:root:Epoch[88] Elapsed time 12.878 seconds\n",
      "INFO:root:Epoch[88] Evaluation metric 'epoch_loss'=1.628401\n",
      "INFO:root:Epoch[89] Learning rate is 0.001\n",
      "100%|██████████| 64/64 [00:12<00:00,  4.96it/s, avg_epoch_loss=1.64]\n",
      "INFO:root:Epoch[89] Elapsed time 12.897 seconds\n",
      "INFO:root:Epoch[89] Evaluation metric 'epoch_loss'=1.636931\n",
      "INFO:root:Epoch[90] Learning rate is 0.001\n",
      "100%|██████████| 64/64 [00:12<00:00,  4.97it/s, avg_epoch_loss=1.63]\n",
      "INFO:root:Epoch[90] Elapsed time 12.890 seconds\n",
      "INFO:root:Epoch[90] Evaluation metric 'epoch_loss'=1.626490\n",
      "INFO:root:Epoch[91] Learning rate is 0.001\n",
      "100%|██████████| 64/64 [00:12<00:00,  4.97it/s, avg_epoch_loss=1.61]\n",
      "INFO:root:Epoch[91] Elapsed time 12.885 seconds\n",
      "INFO:root:Epoch[91] Evaluation metric 'epoch_loss'=1.611920\n",
      "INFO:root:Epoch[92] Learning rate is 0.001\n",
      "100%|██████████| 64/64 [00:12<00:00,  4.97it/s, avg_epoch_loss=1.62]\n",
      "INFO:root:Epoch[92] Elapsed time 12.866 seconds\n",
      "INFO:root:Epoch[92] Evaluation metric 'epoch_loss'=1.617664\n",
      "INFO:root:Epoch[93] Learning rate is 0.001\n",
      "100%|██████████| 64/64 [00:12<00:00,  4.94it/s, avg_epoch_loss=1.61]\n",
      "INFO:root:Epoch[93] Elapsed time 12.959 seconds\n",
      "INFO:root:Epoch[93] Evaluation metric 'epoch_loss'=1.613516\n",
      "INFO:root:Epoch[94] Learning rate is 0.001\n",
      "100%|██████████| 64/64 [00:12<00:00,  4.93it/s, avg_epoch_loss=1.62]\n",
      "INFO:root:Epoch[94] Elapsed time 12.979 seconds\n",
      "INFO:root:Epoch[94] Evaluation metric 'epoch_loss'=1.618126\n",
      "INFO:root:Epoch[95] Learning rate is 0.001\n",
      "100%|██████████| 64/64 [00:12<00:00,  4.96it/s, avg_epoch_loss=1.61]\n",
      "INFO:root:Epoch[95] Elapsed time 12.916 seconds\n",
      "INFO:root:Epoch[95] Evaluation metric 'epoch_loss'=1.606958\n",
      "INFO:root:Epoch[96] Learning rate is 0.001\n",
      "100%|██████████| 64/64 [00:12<00:00,  4.98it/s, avg_epoch_loss=1.63]\n",
      "INFO:root:Epoch[96] Elapsed time 12.867 seconds\n",
      "INFO:root:Epoch[96] Evaluation metric 'epoch_loss'=1.626599\n",
      "INFO:root:Epoch[97] Learning rate is 0.001\n",
      "100%|██████████| 64/64 [00:12<00:00,  4.97it/s, avg_epoch_loss=1.62]\n",
      "INFO:root:Epoch[97] Elapsed time 12.890 seconds\n",
      "INFO:root:Epoch[97] Evaluation metric 'epoch_loss'=1.620385\n",
      "INFO:root:Epoch[98] Learning rate is 0.001\n",
      "100%|██████████| 64/64 [00:12<00:00,  4.95it/s, avg_epoch_loss=1.63]\n",
      "INFO:root:Epoch[98] Elapsed time 12.920 seconds\n",
      "INFO:root:Epoch[98] Evaluation metric 'epoch_loss'=1.626790\n",
      "INFO:root:Epoch[99] Learning rate is 0.001\n",
      "100%|██████████| 64/64 [00:13<00:00,  4.92it/s, avg_epoch_loss=1.6]\n",
      "INFO:root:Epoch[99] Elapsed time 13.021 seconds\n",
      "INFO:root:Epoch[99] Evaluation metric 'epoch_loss'=1.602133\n",
      "INFO:root:Loading parameters from best epoch (99)\n",
      "INFO:root:Final loss: 1.6021327450871468 (occurred at epoch 99)\n",
      "INFO:root:End model training\n"
     ]
    }
   ],
   "source": [
    "predictor = estimator.train(train_ds)"
   ]
  },
  {
   "cell_type": "markdown",
   "metadata": {},
   "source": [
    "With a predictor in hand, we can now predict the last window of the `dataset.test` and evaluate our model's performance.\n",
    "\n",
    "GluonTS comes with the `make_evaluation_predictions` function that automates the process of prediction and model evaluation. Roughly, this function performs the following steps:\n",
    "\n",
    "- Removes the final window of length `prediction_length` of the `dataset.test` that we want to predict\n",
    "- The estimator uses the remaining data to predict (in the form of sample paths) the \"future\" window that was just removed\n",
    "- The module outputs the forecast sample paths and the `dataset.test` (as python generator objects)"
   ]
  },
  {
   "cell_type": "code",
   "execution_count": 12,
   "metadata": {},
   "outputs": [],
   "source": [
    "from gluonts.evaluation.backtest import make_evaluation_predictions"
   ]
  },
  {
   "cell_type": "code",
   "execution_count": 13,
   "metadata": {},
   "outputs": [],
   "source": [
    "forecast_it, ts_it = make_evaluation_predictions(\n",
    "    dataset=test_ds,  # test dataset\n",
    "    predictor=predictor,  # predictor\n",
    "    num_samples=100,  # number of sample paths we want for evaluation\n",
    ")"
   ]
  },
  {
   "cell_type": "markdown",
   "metadata": {},
   "source": [
    "First, we can convert these generators to lists to ease the subsequent computations."
   ]
  },
  {
   "cell_type": "code",
   "execution_count": 14,
   "metadata": {},
   "outputs": [],
   "source": [
    "forecasts = list(forecast_it)\n",
    "tss = list(ts_it)"
   ]
  },
  {
   "cell_type": "markdown",
   "metadata": {},
   "source": [
    "We can examine the first element of these lists (that corresponds to the first time series of the dataset). Let's start with the list containing the time series, i.e., `tss`. We expect the first entry of `tss` to contain the (target of the) first time series of `dataset.test`."
   ]
  },
  {
   "cell_type": "code",
   "execution_count": 15,
   "metadata": {},
   "outputs": [],
   "source": [
    "# first entry of the time series list\n",
    "ts_entry = tss[0]"
   ]
  },
  {
   "cell_type": "code",
   "execution_count": 16,
   "metadata": {},
   "outputs": [
    {
     "data": {
      "text/plain": [
       "200"
      ]
     },
     "execution_count": 16,
     "metadata": {},
     "output_type": "execute_result"
    }
   ],
   "source": [
    "len(ts_entry)"
   ]
  },
  {
   "cell_type": "code",
   "execution_count": 17,
   "metadata": {},
   "outputs": [
    {
     "data": {
      "text/plain": [
       "array([41.5407  , 42.300125, 41.14965 , 41.35346 , 41.292854, 41.716145,\n",
       "       43.252876, 40.36934 , 42.038216, 41.179314], dtype=float32)"
      ]
     },
     "execution_count": 17,
     "metadata": {},
     "output_type": "execute_result"
    }
   ],
   "source": [
    "# first 5 values of the time series (convert from pandas to numpy)\n",
    "np.array(ts_entry[-10:]).reshape(-1,)"
   ]
  },
  {
   "cell_type": "code",
   "execution_count": 18,
   "metadata": {},
   "outputs": [],
   "source": [
    "# first entry of dataset.test\n",
    "dataset_test_entry = next(iter(test_ds))"
   ]
  },
  {
   "cell_type": "code",
   "execution_count": 19,
   "metadata": {},
   "outputs": [
    {
     "data": {
      "text/plain": [
       "array([41.5407  , 42.300125, 41.14965 , 41.35346 , 41.292854, 41.716145,\n",
       "       43.252876, 40.36934 , 42.038216, 41.179314], dtype=float32)"
      ]
     },
     "execution_count": 19,
     "metadata": {},
     "output_type": "execute_result"
    }
   ],
   "source": [
    "# first 5 values\n",
    "dataset_test_entry['target'][-10:]"
   ]
  },
  {
   "cell_type": "code",
   "execution_count": 20,
   "metadata": {},
   "outputs": [
    {
     "data": {
      "text/plain": [
       "200"
      ]
     },
     "execution_count": 20,
     "metadata": {},
     "output_type": "execute_result"
    }
   ],
   "source": [
    "len(tss[0])"
   ]
  },
  {
   "cell_type": "code",
   "execution_count": 3,
   "metadata": {},
   "outputs": [
    {
     "ename": "NameError",
     "evalue": "name 'tss' is not defined",
     "output_type": "error",
     "traceback": [
      "\u001b[0;31m---------------------------------------------------------------------------\u001b[0m",
      "\u001b[0;31mNameError\u001b[0m                                 Traceback (most recent call last)",
      "\u001b[0;32m<ipython-input-3-0cef218889be>\u001b[0m in \u001b[0;36m<module>\u001b[0;34m\u001b[0m\n\u001b[1;32m      1\u001b[0m \u001b[0;31m# Indy500 Car 12 WillPower\u001b[0m\u001b[0;34m\u001b[0m\u001b[0;34m\u001b[0m\u001b[0;34m\u001b[0m\u001b[0m\n\u001b[0;32m----> 2\u001b[0;31m \u001b[0mts_entry\u001b[0m \u001b[0;34m=\u001b[0m \u001b[0mtss\u001b[0m\u001b[0;34m[\u001b[0m\u001b[0;36m52\u001b[0m\u001b[0;34m]\u001b[0m\u001b[0;34m\u001b[0m\u001b[0;34m\u001b[0m\u001b[0m\n\u001b[0m\u001b[1;32m      3\u001b[0m \u001b[0mts_entry\u001b[0m\u001b[0;34m\u001b[0m\u001b[0;34m\u001b[0m\u001b[0m\n",
      "\u001b[0;31mNameError\u001b[0m: name 'tss' is not defined"
     ]
    }
   ],
   "source": [
    "# Indy500 Car 12 WillPower\n",
    "ts_entry = tss[52]\n",
    "ts_entry"
   ]
  },
  {
   "cell_type": "markdown",
   "metadata": {},
   "source": [
    "The entries in the `forecast` list are a bit more complex. They are objects that contain all the sample paths in the form of `numpy.ndarray` with dimension `(num_samples, prediction_length)`, the start date of the forecast, the frequency of the time series, etc. We can access all these information by simply invoking the corresponding attribute of the forecast object."
   ]
  },
  {
   "cell_type": "code",
   "execution_count": 23,
   "metadata": {},
   "outputs": [],
   "source": [
    "# first entry of the forecast list\n",
    "forecast_entry = forecasts[52]"
   ]
  },
  {
   "cell_type": "code",
   "execution_count": 24,
   "metadata": {},
   "outputs": [
    {
     "data": {
      "text/plain": [
       "array([42.158695, 43.179485, 42.133892, 44.5483  , 43.362453, 43.71313 ,\n",
       "       43.37671 , 42.3173  , 43.06187 , 41.976013, 42.99156 , 43.04412 ,\n",
       "       41.16733 , 43.477287, 43.309208, 43.001003, 42.2888  , 45.117966,\n",
       "       43.73459 , 42.886765, 43.41842 , 42.906197, 43.080715, 42.908894,\n",
       "       42.162243, 43.84459 , 45.09659 , 41.697052, 42.66063 , 42.79704 ,\n",
       "       41.116676, 43.21243 , 43.029743, 44.361904, 44.347202, 43.304195,\n",
       "       44.27366 , 43.0212  , 43.244846, 44.076767, 44.058327, 41.733643,\n",
       "       43.51992 , 42.67892 , 43.452263, 42.777397, 44.58146 , 42.04611 ,\n",
       "       42.036606, 42.30914 ], dtype=float32)"
      ]
     },
     "execution_count": 24,
     "metadata": {},
     "output_type": "execute_result"
    }
   ],
   "source": [
    "forecast_entry.samples[0,:]"
   ]
  },
  {
   "cell_type": "code",
   "execution_count": 25,
   "metadata": {},
   "outputs": [
    {
     "name": "stdout",
     "output_type": "stream",
     "text": [
      "Number of sample paths: 100\n",
      "Dimension of samples: (100, 50)\n",
      "Start date of the forecast window: 2019-01-07 06:00:00\n",
      "Frequency of the time series: 1H\n"
     ]
    }
   ],
   "source": [
    "print(f\"Number of sample paths: {forecast_entry.num_samples}\")\n",
    "print(f\"Dimension of samples: {forecast_entry.samples.shape}\")\n",
    "print(f\"Start date of the forecast window: {forecast_entry.start_date}\")\n",
    "print(f\"Frequency of the time series: {forecast_entry.freq}\")"
   ]
  },
  {
   "cell_type": "markdown",
   "metadata": {},
   "source": [
    "We can also do calculations to summarize the sample paths, such computing the mean or a quantile for each of the 48 time steps in the forecast window."
   ]
  },
  {
   "cell_type": "code",
   "execution_count": 26,
   "metadata": {},
   "outputs": [
    {
     "name": "stdout",
     "output_type": "stream",
     "text": [
      "Mean of the future window:\n",
      " [42.253838 42.406857 42.325737 42.358032 42.620487 42.515087 42.903072\n",
      " 42.820503 42.6767   42.783134 42.892094 43.045624 42.860073 42.983658\n",
      " 43.16626  43.136574 43.090134 43.195953 42.915314 42.700443 42.73994\n",
      " 42.88785  43.266914 42.82445  42.97857  42.857838 43.021538 42.188507\n",
      " 42.6694   43.24675  42.898537 42.915844 42.84709  43.062057 43.092743\n",
      " 42.893646 43.02167  43.025623 42.81439  43.16591  43.095055 43.12997\n",
      " 42.636368 42.46769  42.691776 42.74499  42.683903 42.83849  42.714596\n",
      " 42.607506]\n",
      "0.5-quantile (median) of the future window:\n",
      " [42.199245 42.30815  42.316063 42.31478  42.57473  42.431267 42.93907\n",
      " 42.83465  42.827538 42.703793 42.915825 43.04412  42.931667 42.96842\n",
      " 43.290607 43.132732 43.20366  43.065556 42.850956 42.72324  42.88414\n",
      " 42.845993 43.30271  42.952633 42.97699  42.751835 43.017254 42.18728\n",
      " 42.72888  43.38325  42.958744 43.023182 43.019794 43.102932 43.116528\n",
      " 42.91168  42.971306 43.0212   42.76022  43.109108 43.279133 43.03838\n",
      " 42.632084 42.494835 42.687626 42.78964  42.6601   42.95967  42.684605\n",
      " 42.64263 ]\n"
     ]
    }
   ],
   "source": [
    "print(f\"Mean of the future window:\\n {forecast_entry.mean}\")\n",
    "print(f\"0.5-quantile (median) of the future window:\\n {forecast_entry.quantile(0.5)}\")"
   ]
  },
  {
   "cell_type": "markdown",
   "metadata": {},
   "source": [
    "`Forecast` objects have a `plot` method that can summarize the forecast paths as the mean, prediction intervals, etc. The prediction intervals are shaded in different colors as a \"fan chart\"."
   ]
  },
  {
   "cell_type": "code",
   "execution_count": 27,
   "metadata": {},
   "outputs": [],
   "source": [
    "def plot_prob_forecasts(ts_entry, forecast_entry):\n",
    "    plot_length = 150 \n",
    "    prediction_intervals = (50.0, 90.0)\n",
    "    legend = [\"observations\", \"median prediction\"] + [f\"{k}% prediction interval\" for k in prediction_intervals][::-1]\n",
    "\n",
    "    fig, ax = plt.subplots(1, 1, figsize=(10, 7))\n",
    "    ts_entry[-plot_length:].plot(ax=ax)  # plot the time series\n",
    "    forecast_entry.plot(prediction_intervals=prediction_intervals, color='g')\n",
    "    plt.grid(which=\"both\")\n",
    "    plt.legend(legend, loc=\"upper left\")\n",
    "    plt.show()"
   ]
  },
  {
   "cell_type": "code",
   "execution_count": 28,
   "metadata": {},
   "outputs": [
    {
     "data": {
      "image/png": "[encoded data removed]",
      "text/plain": [
       "<Figure size 720x504 with 1 Axes>"
      ]
     },
     "metadata": {
      "needs_background": "light"
     },
     "output_type": "display_data"
    }
   ],
   "source": [
    "plot_prob_forecasts(ts_entry, forecast_entry)"
   ]
  },
  {
   "cell_type": "markdown",
   "metadata": {},
   "source": [
    "We can also evaluate the quality of our forecasts numerically. In GluonTS, the `Evaluator` class can compute aggregate performance metrics, as well as metrics per time series (which can be useful for analyzing performance across heterogeneous time series)."
   ]
  },
  {
   "cell_type": "code",
   "execution_count": 29,
   "metadata": {},
   "outputs": [],
   "source": [
    "from gluonts.evaluation import Evaluator"
   ]
  },
  {
   "cell_type": "code",
   "execution_count": 30,
   "metadata": {},
   "outputs": [
    {
     "name": "stderr",
     "output_type": "stream",
     "text": [
      "Running evaluation: 100%|██████████| 3960/3960 [00:29<00:00, 134.69it/s]\n"
     ]
    }
   ],
   "source": [
    "evaluator = Evaluator(quantiles=[0.1, 0.5, 0.9])\n",
    "agg_metrics, item_metrics = evaluator(iter(tss), iter(forecasts), num_series=len(test_ds))"
   ]
  },
  {
   "cell_type": "markdown",
   "metadata": {},
   "source": [
    "Aggregate metrics aggregate both across time-steps and across time series."
   ]
  },
  {
   "cell_type": "code",
   "execution_count": 31,
   "metadata": {},
   "outputs": [
    {
     "name": "stdout",
     "output_type": "stream",
     "text": [
      "{\n",
      "    \"MSE\": 20.36154080585518,\n",
      "    \"abs_error\": 346140.7423362732,\n",
      "    \"abs_target_sum\": 8510522.005615234,\n",
      "    \"abs_target_mean\": 42.98243437179411,\n",
      "    \"seasonal_error\": 3.031913744602445,\n",
      "    \"MASE\": 0.5759419213585566,\n",
      "    \"sMAPE\": 0.03702774465830029,\n",
      "    \"MSIS\": 13.99487277443013,\n",
      "    \"QuantileLoss[0.1]\": 120847.78777389527,\n",
      "    \"Coverage[0.1]\": 0.2826969696969697,\n",
      "    \"QuantileLoss[0.5]\": 346140.74265289307,\n",
      "    \"Coverage[0.5]\": 0.7374646464646464,\n",
      "    \"QuantileLoss[0.9]\": 367558.1781021118,\n",
      "    \"Coverage[0.9]\": 0.9261313131313131,\n",
      "    \"RMSE\": 4.512376403388261,\n",
      "    \"NRMSE\": 0.1049818715328364,\n",
      "    \"ND\": 0.040672092981827654,\n",
      "    \"wQuantileLoss[0.1]\": 0.014199809094455076,\n",
      "    \"wQuantileLoss[0.5]\": 0.040672093019031,\n",
      "    \"wQuantileLoss[0.9]\": 0.043188676071761196,\n",
      "    \"mean_wQuantileLoss\": 0.032686859395082424,\n",
      "    \"MAE_Coverage\": 0.14876430976430974\n",
      "}\n"
     ]
    }
   ],
   "source": [
    "print(json.dumps(agg_metrics, indent=4))"
   ]
  },
  {
   "cell_type": "markdown",
   "metadata": {},
   "source": [
    "Individual metrics are aggregated only across time-steps."
   ]
  },
  {
   "cell_type": "code",
   "execution_count": 32,
   "metadata": {},
   "outputs": [
    {
     "data": {
      "text/html": [
       "<div>\n",
       "<style scoped>\n",
       "    .dataframe tbody tr th:only-of-type {\n",
       "        vertical-align: middle;\n",
       "    }\n",
       "\n",
       "    .dataframe tbody tr th {\n",
       "        vertical-align: top;\n",
       "    }\n",
       "\n",
       "    .dataframe thead th {\n",
       "        text-align: right;\n",
       "    }\n",
       "</style>\n",
       "<table border=\"1\" class=\"dataframe\">\n",
       "  <thead>\n",
       "    <tr style=\"text-align: right;\">\n",
       "      <th></th>\n",
       "      <th>item_id</th>\n",
       "      <th>MSE</th>\n",
       "      <th>abs_error</th>\n",
       "      <th>abs_target_sum</th>\n",
       "      <th>abs_target_mean</th>\n",
       "      <th>seasonal_error</th>\n",
       "      <th>MASE</th>\n",
       "      <th>sMAPE</th>\n",
       "      <th>MSIS</th>\n",
       "      <th>QuantileLoss[0.1]</th>\n",
       "      <th>Coverage[0.1]</th>\n",
       "      <th>QuantileLoss[0.5]</th>\n",
       "      <th>Coverage[0.5]</th>\n",
       "      <th>QuantileLoss[0.9]</th>\n",
       "      <th>Coverage[0.9]</th>\n",
       "    </tr>\n",
       "  </thead>\n",
       "  <tbody>\n",
       "    <tr>\n",
       "      <th>0</th>\n",
       "      <td>NaN</td>\n",
       "      <td>15.275533</td>\n",
       "      <td>77.780525</td>\n",
       "      <td>2118.346680</td>\n",
       "      <td>42.366934</td>\n",
       "      <td>2.790739</td>\n",
       "      <td>0.557419</td>\n",
       "      <td>0.033758</td>\n",
       "      <td>12.238897</td>\n",
       "      <td>24.181662</td>\n",
       "      <td>0.26</td>\n",
       "      <td>77.780525</td>\n",
       "      <td>0.84</td>\n",
       "      <td>78.321673</td>\n",
       "      <td>0.96</td>\n",
       "    </tr>\n",
       "    <tr>\n",
       "      <th>1</th>\n",
       "      <td>NaN</td>\n",
       "      <td>16.487853</td>\n",
       "      <td>86.104568</td>\n",
       "      <td>2110.306641</td>\n",
       "      <td>42.206133</td>\n",
       "      <td>2.798099</td>\n",
       "      <td>0.615450</td>\n",
       "      <td>0.037658</td>\n",
       "      <td>13.894376</td>\n",
       "      <td>31.854276</td>\n",
       "      <td>0.40</td>\n",
       "      <td>86.104565</td>\n",
       "      <td>0.92</td>\n",
       "      <td>81.596807</td>\n",
       "      <td>0.96</td>\n",
       "    </tr>\n",
       "    <tr>\n",
       "      <th>2</th>\n",
       "      <td>NaN</td>\n",
       "      <td>16.428485</td>\n",
       "      <td>75.469299</td>\n",
       "      <td>2136.522705</td>\n",
       "      <td>42.730454</td>\n",
       "      <td>2.955661</td>\n",
       "      <td>0.510676</td>\n",
       "      <td>0.032140</td>\n",
       "      <td>11.617000</td>\n",
       "      <td>21.620537</td>\n",
       "      <td>0.22</td>\n",
       "      <td>75.469299</td>\n",
       "      <td>0.76</td>\n",
       "      <td>81.343304</td>\n",
       "      <td>0.96</td>\n",
       "    </tr>\n",
       "    <tr>\n",
       "      <th>3</th>\n",
       "      <td>NaN</td>\n",
       "      <td>23.663965</td>\n",
       "      <td>97.554909</td>\n",
       "      <td>2160.721680</td>\n",
       "      <td>43.214434</td>\n",
       "      <td>2.666542</td>\n",
       "      <td>0.731696</td>\n",
       "      <td>0.041004</td>\n",
       "      <td>19.308225</td>\n",
       "      <td>31.020592</td>\n",
       "      <td>0.24</td>\n",
       "      <td>97.554916</td>\n",
       "      <td>0.74</td>\n",
       "      <td>114.403182</td>\n",
       "      <td>0.90</td>\n",
       "    </tr>\n",
       "    <tr>\n",
       "      <th>4</th>\n",
       "      <td>NaN</td>\n",
       "      <td>25.448552</td>\n",
       "      <td>99.715836</td>\n",
       "      <td>2213.656738</td>\n",
       "      <td>44.273135</td>\n",
       "      <td>3.864950</td>\n",
       "      <td>0.516001</td>\n",
       "      <td>0.040886</td>\n",
       "      <td>12.661133</td>\n",
       "      <td>40.521577</td>\n",
       "      <td>0.38</td>\n",
       "      <td>99.715843</td>\n",
       "      <td>0.80</td>\n",
       "      <td>99.532407</td>\n",
       "      <td>0.92</td>\n",
       "    </tr>\n",
       "  </tbody>\n",
       "</table>\n",
       "</div>"
      ],
      "text/plain": [
       "   item_id        MSE  abs_error  abs_target_sum  abs_target_mean  \\\n",
       "0      NaN  15.275533  77.780525     2118.346680        42.366934   \n",
       "1      NaN  16.487853  86.104568     2110.306641        42.206133   \n",
       "2      NaN  16.428485  75.469299     2136.522705        42.730454   \n",
       "3      NaN  23.663965  97.554909     2160.721680        43.214434   \n",
       "4      NaN  25.448552  99.715836     2213.656738        44.273135   \n",
       "\n",
       "   seasonal_error      MASE     sMAPE       MSIS  QuantileLoss[0.1]  \\\n",
       "0        2.790739  0.557419  0.033758  12.238897          24.181662   \n",
       "1        2.798099  0.615450  0.037658  13.894376          31.854276   \n",
       "2        2.955661  0.510676  0.032140  11.617000          21.620537   \n",
       "3        2.666542  0.731696  0.041004  19.308225          31.020592   \n",
       "4        3.864950  0.516001  0.040886  12.661133          40.521577   \n",
       "\n",
       "   Coverage[0.1]  QuantileLoss[0.5]  Coverage[0.5]  QuantileLoss[0.9]  \\\n",
       "0           0.26          77.780525           0.84          78.321673   \n",
       "1           0.40          86.104565           0.92          81.596807   \n",
       "2           0.22          75.469299           0.76          81.343304   \n",
       "3           0.24          97.554916           0.74         114.403182   \n",
       "4           0.38          99.715843           0.80          99.532407   \n",
       "\n",
       "   Coverage[0.9]  \n",
       "0           0.96  \n",
       "1           0.96  \n",
       "2           0.96  \n",
       "3           0.90  \n",
       "4           0.92  "
      ]
     },
     "execution_count": 32,
     "metadata": {},
     "output_type": "execute_result"
    }
   ],
   "source": [
    "item_metrics.head()"
   ]
  },
  {
   "cell_type": "code",
   "execution_count": 33,
   "metadata": {},
   "outputs": [
    {
     "data": {
      "image/png": "[encoded data removed]",
      "text/plain": [
       "<Figure size 432x288 with 1 Axes>"
      ]
     },
     "metadata": {
      "needs_background": "light"
     },
     "output_type": "display_data"
    }
   ],
   "source": [
    "item_metrics.plot(x='MSIS', y='MASE', kind='scatter')\n",
    "plt.grid(which=\"both\")\n",
    "plt.show()"
   ]
  },
  {
   "cell_type": "code",
   "execution_count": null,
   "metadata": {},
   "outputs": [],
   "source": []
  }
 ],
 "metadata": {
  "kernelspec": {
   "display_name": "Python 3",
   "language": "python",
   "name": "python3"
  },
  "language_info": {
   "codemirror_mode": {
    "name": "ipython",
    "version": 3
   },
   "file_extension": ".py",
   "mimetype": "text/x-python",
   "name": "python",
   "nbconvert_exporter": "python",
   "pygments_lexer": "ipython3",
   "version": "3.6.10"
  }
 },
 "nbformat": 4,
 "nbformat_minor": 2
}
