{
 "cells": [
  {
   "cell_type": "markdown",
   "metadata": {},
   "source": [
    "# Rank1 baseline model\n",
    "\n",
    "input: laptime&rank dataset\n",
    "<eventid, carids, laptime (totalcars x totallaps), rank (totalcars x totallaps)>; filled with NaN\n",
    "\n",
    "evaluate the rank1 prediction task on baseline\n",
    "\n",
    "1. predict the car number of rank1 2 laps later\n",
    "2. CurRank model\n",
    "\n"
   ]
  },
  {
   "cell_type": "code",
   "execution_count": 6,
   "metadata": {},
   "outputs": [],
   "source": [
    "# Third-party imports\n",
    "%matplotlib inline\n",
    "import mxnet as mx\n",
    "from mxnet import gluon\n",
    "import numpy as np\n",
    "import pandas as pd\n",
    "import matplotlib.pyplot as plt\n",
    "import json"
   ]
  },
  {
   "cell_type": "markdown",
   "metadata": {},
   "source": [
    "## Datasets\n"
   ]
  },
  {
   "cell_type": "code",
   "execution_count": 7,
   "metadata": {},
   "outputs": [],
   "source": [
    "import pickle\n",
    "with open('laptime_rank-2018.pickle', 'rb') as f:\n",
    "    # The protocol version used is detected automatically, so we do not\n",
    "    # have to specify it.\n",
    "    global_carids, laptime_data = pickle.load(f, encoding='latin1')"
   ]
  },
  {
   "cell_type": "code",
   "execution_count": 8,
   "metadata": {},
   "outputs": [],
   "source": [
    "events = ['Phoenix','Indy500','Texas','Iowa','Pocono','Gateway']\n",
    "events_id={key:idx for idx, key in enumerate(events)}"
   ]
  },
  {
   "cell_type": "code",
   "execution_count": 9,
   "metadata": {},
   "outputs": [
    {
     "name": "stdout",
     "output_type": "stream",
     "text": [
      "events: ['Phoenix', 'Indy500', 'Texas', 'Iowa', 'Pocono', 'Gateway']\n"
     ]
    }
   ],
   "source": [
    "print(f\"events: {events}\")"
   ]
  },
  {
   "cell_type": "code",
   "execution_count": 29,
   "metadata": {},
   "outputs": [
    {
     "name": "stdout",
     "output_type": "stream",
     "text": [
      "(33, 200)\n",
      "200 7\n",
      "[14 14 14 14 14 14 14 14 14 14 14 14 14 14 14 14 14 14 14 14 14 14 14 14\n",
      " 14 14 14 14 14 14  0 15 15 15 14 14 14 14 14 14 14 14 14 14 14 14 14 14\n",
      " 14 14 13 13 13 13 13 14 14 14 14 14 14 14  9  9 14 14 14 14 14 14 14 14\n",
      "  9  9  9  9  9  9  9  9  9  9  9  9  9  9  9  9  9 14 14  7  7  7 29 12\n",
      " 10 10 10 10 10 10 10 10 10 13 13  7  7  7  7  7  7  7  7  7  7  7  7  7\n",
      "  7  7  7  7  7  7  7  7 22 12 12 12  0  0 10 10 10 23 23 23  7  7  7  7\n",
      "  7  7  7  7  7  7  7  7  7  7  7  7  7  7  7  7  7  7  7  7  7  7  7  7\n",
      "  7  7 14 14 21 16 23 29 29  3  3 29 29 29 29 29 29 29 29 29 29 29 29 29\n",
      " 19 19 19  7  7  7  7  7]\n"
     ]
    },
    {
     "data": {
      "text/plain": [
       "array([20, 20, 20, 20, 20, 20, 20, 20, 20, 20, 20, 20, 20, 20, 20, 20, 20,\n",
       "       20, 20, 20, 20, 20, 20, 20, 20, 20, 20, 20, 20, 20,  1, 21, 21, 21,\n",
       "       20, 20, 20, 20, 20, 20, 20, 20, 20, 20, 20, 20, 20, 20, 20, 20, 19,\n",
       "       19, 19, 19, 19, 20, 20, 20, 20, 20, 20, 20, 14, 14, 20, 20, 20, 20,\n",
       "       20, 20, 20, 20, 14, 14, 14, 14, 14, 14, 14, 14, 14, 14, 14, 14, 14,\n",
       "       14, 14, 14, 14, 20, 20, 12, 12, 12, 64, 18, 15, 15, 15, 15, 15, 15,\n",
       "       15, 15, 15, 19, 19, 12, 12, 12, 12, 12, 12, 12, 12, 12, 12, 12, 12,\n",
       "       12, 12, 12, 12, 12, 12, 12, 12, 12, 28, 18, 18, 18,  1,  1, 15, 15,\n",
       "       15, 29, 29, 29, 12, 12, 12, 12, 12, 12, 12, 12, 12, 12, 12, 12, 12,\n",
       "       12, 12, 12, 12, 12, 12, 12, 12, 12, 12, 12, 12, 12, 12, 12, 12, 12,\n",
       "       20, 20, 27, 22, 29, 64, 64,  6,  6, 64, 64, 64, 64, 64, 64, 64, 64,\n",
       "       64, 64, 64, 64, 64, 25, 25, 25, 12, 12, 12, 12, 12])"
      ]
     },
     "execution_count": 29,
     "metadata": {},
     "output_type": "execute_result"
    }
   ],
   "source": [
    "print(laptime_data[1][3].shape)\n",
    "rank1 = np.nanargmin(laptime_data[1][3],axis=0)\n",
    "print(len(rank1), rank1[-1])\n",
    "print(np.array(rank1))\n",
    "np.array([laptime_data[1][1][x] for x in rank1])"
   ]
  },
  {
   "cell_type": "code",
   "execution_count": 31,
   "metadata": {},
   "outputs": [],
   "source": [
    "TS_RANK=3\n",
    "rank1_ts = []\n",
    "#_data: eventid, carids, laptime array\n",
    "for _data in laptime_data:\n",
    "    #rank data\n",
    "    rank1_index = np.nanargmin(_data[TS_RANK],axis=0)\n",
    "    rank1_ts.append([_data[1][x] for x in rank1_index])\n"
   ]
  },
  {
   "cell_type": "code",
   "execution_count": 38,
   "metadata": {},
   "outputs": [
    {
     "name": "stdout",
     "output_type": "stream",
     "text": [
      "evaluate for Phoenix\n",
      "predict_len= 2 accuracy= 0.8581081081081081\n",
      "predict_len= 3 accuracy= 0.7959183673469388\n",
      "predict_len= 4 accuracy= 0.7397260273972602\n",
      "predict_len= 5 accuracy= 0.6896551724137931\n",
      "predict_len= 6 accuracy= 0.6527777777777778\n",
      "predict_len= 7 accuracy= 0.6153846153846154\n",
      "predict_len= 8 accuracy= 0.5774647887323944\n",
      "predict_len= 9 accuracy= 0.5390070921985816\n",
      "evaluate for Indy500\n",
      "predict_len= 2 accuracy= 0.6938775510204082\n",
      "predict_len= 3 accuracy= 0.6185567010309279\n",
      "predict_len= 4 accuracy= 0.5833333333333334\n",
      "predict_len= 5 accuracy= 0.5368421052631579\n",
      "predict_len= 6 accuracy= 0.5106382978723404\n",
      "predict_len= 7 accuracy= 0.4838709677419355\n",
      "predict_len= 8 accuracy= 0.45652173913043476\n",
      "predict_len= 9 accuracy= 0.42857142857142855\n",
      "evaluate for Texas\n",
      "predict_len= 2 accuracy= 0.958904109589041\n",
      "predict_len= 3 accuracy= 0.9517241379310345\n",
      "predict_len= 4 accuracy= 0.9444444444444444\n",
      "predict_len= 5 accuracy= 0.9370629370629371\n",
      "predict_len= 6 accuracy= 0.9295774647887324\n",
      "predict_len= 7 accuracy= 0.9219858156028369\n",
      "predict_len= 8 accuracy= 0.9142857142857143\n",
      "predict_len= 9 accuracy= 0.9064748201438849\n",
      "evaluate for Iowa\n",
      "predict_len= 2 accuracy= 0.9696969696969697\n",
      "predict_len= 3 accuracy= 0.9543147208121827\n",
      "predict_len= 4 accuracy= 0.9489795918367347\n",
      "predict_len= 5 accuracy= 0.9435897435897436\n",
      "predict_len= 6 accuracy= 0.9381443298969072\n",
      "predict_len= 7 accuracy= 0.9326424870466321\n",
      "predict_len= 8 accuracy= 0.9270833333333334\n",
      "predict_len= 9 accuracy= 0.9214659685863874\n",
      "evaluate for Pocono\n",
      "predict_len= 2 accuracy= 0.9183673469387755\n",
      "predict_len= 3 accuracy= 0.8762886597938144\n",
      "predict_len= 4 accuracy= 0.8541666666666666\n",
      "predict_len= 5 accuracy= 0.8315789473684211\n",
      "predict_len= 6 accuracy= 0.8297872340425532\n",
      "predict_len= 7 accuracy= 0.8279569892473119\n",
      "predict_len= 8 accuracy= 0.8260869565217391\n",
      "predict_len= 9 accuracy= 0.8241758241758241\n",
      "evaluate for Gateway\n",
      "predict_len= 2 accuracy= 0.9041095890410958\n",
      "predict_len= 3 accuracy= 0.8689655172413793\n",
      "predict_len= 4 accuracy= 0.8333333333333334\n",
      "predict_len= 5 accuracy= 0.8041958041958042\n",
      "predict_len= 6 accuracy= 0.7746478873239436\n",
      "predict_len= 7 accuracy= 0.75177304964539\n",
      "predict_len= 8 accuracy= 0.7357142857142858\n",
      "predict_len= 9 accuracy= 0.7194244604316546\n"
     ]
    }
   ],
   "source": [
    "#task: predict 2 laps later\n",
    "#predict_len = 2\n",
    "def eval_curmodel(eventid, predict_len = 2):\n",
    "    indy_ts = rank1_ts[eventid]\n",
    "\n",
    "    #start lap 100 \n",
    "    y = np.array(indy_ts[100 + predict_len:])\n",
    "    y_pred = np.array(indy_ts[100:-predict_len])\n",
    "\n",
    "    #evaluate\n",
    "    accuracy = np.sum(y_pred == y)*1.0 / len(y)\n",
    "    print('predict_len=', predict_len, 'accuracy=', accuracy)\n",
    "\n",
    "#test\n",
    "for eventid in range(len(events)):\n",
    "    print('evaluate for', events[eventid])\n",
    "    for tlen in range(2,10):\n",
    "        eval_curmodel(eventid, tlen)      \n",
    "\n"
   ]
  },
  {
   "cell_type": "code",
   "execution_count": null,
   "metadata": {},
   "outputs": [],
   "source": []
  }
 ],
 "metadata": {
  "kernelspec": {
   "display_name": "Python 3",
   "language": "python",
   "name": "python3"
  },
  "language_info": {
   "codemirror_mode": {
    "name": "ipython",
    "version": 3
   },
   "file_extension": ".py",
   "mimetype": "text/x-python",
   "name": "python",
   "nbconvert_exporter": "python",
   "pygments_lexer": "ipython3",
   "version": "3.6.10"
  }
 },
 "nbformat": 4,
 "nbformat_minor": 2
}
