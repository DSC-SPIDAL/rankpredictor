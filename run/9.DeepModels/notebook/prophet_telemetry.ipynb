{
 "cells": [
  {
   "cell_type": "markdown",
   "metadata": {},
   "source": [
    "# Prophet on telemetry dataset\n",
    "\n",
    "https://gluon-ts.mxnet.io/api/gluonts/gluonts.model.prophet.html\n",
    "\n",
    "laptime&rank dataset\n",
    "<eventid, carids, ts[carid][second_seqid, vspeed, distance])>; filled with NaN"
   ]
  },
  {
   "cell_type": "code",
   "execution_count": 1,
   "metadata": {},
   "outputs": [],
   "source": [
    "# Third-party imports\n",
    "%matplotlib inline\n",
    "import mxnet as mx\n",
    "from mxnet import gluon\n",
    "import numpy as np\n",
    "import pandas as pd\n",
    "import matplotlib.pyplot as plt\n",
    "import json"
   ]
  },
  {
   "cell_type": "code",
   "execution_count": 2,
   "metadata": {},
   "outputs": [
    {
     "name": "stderr",
     "output_type": "stream",
     "text": [
      "ERROR:fbprophet:Importing plotly failed. Interactive plots will not work.\n"
     ]
    }
   ],
   "source": [
    "### test on one run\n",
    "from gluonts.dataset.common import ListDataset\n",
    "from gluonts.evaluation.backtest import make_evaluation_predictions\n",
    "from gluonts.evaluation import Evaluator\n",
    "from gluonts.model.prophet import ProphetPredictor\n",
    "\n",
    "#\n",
    "# remove NaN at the tail\n",
    "#\n",
    "def make_dataset(prediction_length, freq, run_ts=2):\n",
    "    start = pd.Timestamp(\"01-01-2019\", freq=freq)  # can be different for each time series\n",
    "\n",
    "    train_set = []\n",
    "    test_set = []\n",
    "    #_data: eventid, carids, laptime array\n",
    "    for _data in telemetry_data:\n",
    "        _train = []\n",
    "        _test = []\n",
    "        for rowid in range(len(_data[2])):\n",
    "            rec = _data[2][rowid]\n",
    "            \n",
    "            if (len(rec) < prediction_length):\n",
    "                print('a short ts: carid=', _data[1][rowid])\n",
    "                continue\n",
    "            \n",
    "            ##remove all nan\n",
    "            #rec = rec[~np.isnan(rec)]\n",
    "            # remove nan at tail\n",
    "            idx = 1\n",
    "            while idx < rec.shape[0]:\n",
    "                if rec[-idx,0] == np.nan or rec[-idx,1] == np.nan or rec[-idx,2] == np.nan:\n",
    "                    idx += 1\n",
    "                    continue\n",
    "                break\n",
    "            if idx > 1:\n",
    "                rec = rec[:-idx]\n",
    "            \n",
    "            _train.append({'target': rec[:-prediction_length,run_ts].astype(np.float32), \n",
    "                            'start': start, \n",
    "                            'feat_static_cat': global_carids[_data[1][rowid]]}\n",
    "                          )\n",
    "            _test.append({'target': rec[:,run_ts].astype(np.float32), \n",
    "                            'start': start, \n",
    "                            'feat_static_cat': global_carids[_data[1][rowid]]}\n",
    "                          )    \n",
    "            #add one ts\n",
    "            print(f'carno:{_data[1][rowid]}, len:{len(rec)}')\n",
    "            \n",
    "        train_set.extend(_train)\n",
    "        test_set.extend(_test)\n",
    "\n",
    "    # train dataset: cut the last window of length \"prediction_length\", add \"target\" and \"start\" fields\n",
    "    train_ds = ListDataset(train_set, freq=freq)\n",
    "    # test dataset: use the whole dataset, add \"target\" and \"start\" fields\n",
    "    test_ds = ListDataset(test_set, freq=freq)    \n",
    "    return train_ds, test_ds\n",
    "\n",
    "def nan_helper(y):\n",
    "    \"\"\"Helper to handle indices and logical indices of NaNs.\n",
    "\n",
    "    Input:\n",
    "        - y, 1d numpy array with possible NaNs\n",
    "    Output:\n",
    "        - nans, logical indices of NaNs\n",
    "        - index, a function, with signature indices= index(logical_indices),\n",
    "          to convert logical indices of NaNs to 'equivalent' indices\n",
    "    Example:\n",
    "        >>> # linear interpolation of NaNs\n",
    "        >>> nans, x= nan_helper(y)\n",
    "        >>> y[nans]= np.interp(x(nans), x(~nans), y[~nans])\n",
    "    \"\"\"\n",
    "\n",
    "    return np.isnan(y), lambda z: z.nonzero()[0]\n",
    "\n",
    "#\n",
    "# remove nan with interpolate\n",
    "# https://pandas.pydata.org/pandas-docs/stable/user_guide/missing_data.html\n",
    "# https://stackoverflow.com/questions/6518811/interpolate-nan-values-in-a-numpy-array\n",
    "def make_dataset_interpolate(prediction_length, freq, run_ts=2):\n",
    "    start = pd.Timestamp(\"01-01-2019\", freq=freq)  # can be different for each time series\n",
    "\n",
    "    train_set = []\n",
    "    test_set = []\n",
    "    #_data: eventid, carids, laptime array\n",
    "    for _data in telemetry_data:\n",
    "        _train = []\n",
    "        _test = []\n",
    "        for rowid in range(len(_data[2])):\n",
    "            rec = _data[2][rowid].copy()\n",
    "            \n",
    "            if (len(rec) < prediction_length):\n",
    "                print('a short ts: carid=', _data[1][rowid])\n",
    "                continue\n",
    "            \n",
    "            ##remove all nan\n",
    "            #rec = rec[~np.isnan(rec)]\n",
    "            # remove nan at tail\n",
    "            idx = 1\n",
    "            while idx < rec.shape[0]:\n",
    "                if rec[-idx,0] == np.nan or rec[-idx,1] == np.nan or rec[-idx,2] == np.nan:\n",
    "                    idx += 1\n",
    "                    continue\n",
    "                break\n",
    "            if idx > 1:\n",
    "                rec = rec[:-idx]\n",
    "            \n",
    "            # nan interpolate\n",
    "            _checker = rec[:, run_ts]\n",
    "            nans, x= nan_helper(_checker)\n",
    "            nan_count = np.sum(nans) \n",
    "            if nan_count > 0:\n",
    "                rec[nans,run_ts]= np.interp(x(nans), x(~nans), _checker[~nans])\n",
    "                \n",
    "            \n",
    "            # \n",
    "            _train.append({'target': rec[:-prediction_length,run_ts].astype(np.float32), \n",
    "                            'start': start, \n",
    "                            'feat_static_cat': global_carids[_data[1][rowid]]}\n",
    "                          )\n",
    "            _test.append({'target': rec[:,run_ts].astype(np.float32), \n",
    "                            'start': start, \n",
    "                            'feat_static_cat': global_carids[_data[1][rowid]]}\n",
    "                          )    \n",
    "            #add one ts\n",
    "            print(f'carno:{_data[1][rowid]}, len:{len(rec)}, nancount:{nan_count}')\n",
    "            \n",
    "        train_set.extend(_train)\n",
    "        test_set.extend(_test)\n",
    "\n",
    "    # train dataset: cut the last window of length \"prediction_length\", add \"target\" and \"start\" fields\n",
    "    train_ds = ListDataset(train_set, freq=freq)\n",
    "    # test dataset: use the whole dataset, add \"target\" and \"start\" fields\n",
    "    test_ds = ListDataset(test_set, freq=freq)    \n",
    "    return train_ds, test_ds, train_set, test_set\n",
    "\n",
    "def evaluate_model(test_ds,predictor):\n",
    "    forecast_it, ts_it = make_evaluation_predictions(\n",
    "        dataset=test_ds,  # test dataset\n",
    "        predictor=predictor,  # predictor\n",
    "        num_samples=100,  # number of sample paths we want for evaluation\n",
    "    )\n",
    "    forecasts = list(forecast_it)\n",
    "    tss = list(ts_it)   \n",
    "\n",
    "    # evaluation\n",
    "    evaluator = Evaluator(quantiles=[0.1, 0.5, 0.9])\n",
    "    agg_metrics, item_metrics = evaluator(iter(tss), iter(forecasts), num_series=len(test_ds))\n",
    "    print(json.dumps(agg_metrics, indent=4))     \n",
    "    \n",
    "    #plot a example\n",
    "    #ts_entry = tss[7]\n",
    "    #forecast_entry = forecasts[7]\n",
    "    #plot_prob_forecasts(ts_entry, forecast_entry) \n",
    "    \n",
    "    return tss, forecasts\n",
    " \n",
    "    \n",
    "def plot_prob_forecasts(ts_entry, forecast_entry):\n",
    "    plot_length = 2000 \n",
    "    prediction_intervals = (50.0, 90.0)\n",
    "    legend = [\"observations\", \"median prediction\"] + [f\"{k}% prediction interval\" for k in prediction_intervals][::-1]\n",
    "\n",
    "    fig, ax = plt.subplots(1, 1, figsize=(10, 7))\n",
    "    ts_entry[-plot_length:].dropna().plot(ax=ax)  # plot the time series\n",
    "    forecast_entry.plot(prediction_intervals=prediction_intervals, color='g')\n",
    "    plt.grid(which=\"both\")\n",
    "    plt.legend(legend, loc=\"upper left\")\n",
    "    plt.show() \n",
    "    \n",
    "# prophet\n",
    "def evaluate_prophet(test_ds,prediction_length,freq):\n",
    "    predictor = ProphetPredictor(freq= freq, prediction_length = prediction_length)\n",
    "    return evaluate_model(test_ds, predictor)\n",
    "  \n",
    "    \n",
    "def run_prophet(prediction_length,freq):\n",
    "    train_ds, test_ds = make_dataset(runs, prediction_length,freq)\n",
    "    evaluate_prophet(test_ds,prediction_length,freq)\n",
    "\n",
    "def run_prophet_nonan(prediction_length,freq):\n",
    "    train_ds, test_ds = make_dataset_nonan(prediction_length,freq)\n",
    "    evaluate_prophet(test_ds,prediction_length,freq)\n",
    "    \n",
    "   "
   ]
  },
  {
   "cell_type": "markdown",
   "metadata": {},
   "source": [
    "## Datasets\n"
   ]
  },
  {
   "cell_type": "code",
   "execution_count": 3,
   "metadata": {},
   "outputs": [],
   "source": [
    "import pickle\n",
    "### load indy\n",
    "with open('telemetry-2018.pickle', 'rb') as f:\n",
    "    # The protocol version used is detected automatically, so we do not\n",
    "    # have to specify it.\n",
    "    global_carids, telemetry_data_indy = pickle.load(f, encoding='latin1')"
   ]
  },
  {
   "cell_type": "code",
   "execution_count": 4,
   "metadata": {},
   "outputs": [],
   "source": [
    "events = ['Phoenix','Indy500','Texas','Iowa','Pocono','Gateway']\n",
    "events_id={key:idx for idx, key in enumerate(events)}"
   ]
  },
  {
   "cell_type": "code",
   "execution_count": 5,
   "metadata": {},
   "outputs": [
    {
     "name": "stdout",
     "output_type": "stream",
     "text": [
      "events: ['Phoenix', 'Indy500', 'Texas', 'Iowa', 'Pocono', 'Gateway']\n"
     ]
    }
   ],
   "source": [
    "print(f\"events: {events}\")"
   ]
  },
  {
   "cell_type": "code",
   "execution_count": 6,
   "metadata": {},
   "outputs": [
    {
     "data": {
      "text/plain": [
       "array([[0.00000e+00, 3.70516e+03, 1.53780e+02],\n",
       "       [1.00000e+00, 3.77614e+03, 1.63080e+02],\n",
       "       [2.00000e+00, 3.85074e+03, 1.70090e+02],\n",
       "       ...,\n",
       "       [1.07790e+04, 3.19900e+03, 2.14210e+02],\n",
       "       [1.07800e+04, 3.28500e+03, 2.13690e+02],\n",
       "       [1.07810e+04, 3.38081e+03, 2.15530e+02]], dtype=float32)"
      ]
     },
     "execution_count": 6,
     "metadata": {},
     "output_type": "execute_result"
    }
   ],
   "source": [
    "telemetry_data_indy[1][2][7].astype(np.float32)"
   ]
  },
  {
   "cell_type": "code",
   "execution_count": 9,
   "metadata": {},
   "outputs": [],
   "source": [
    "# global configuration\n",
    "prediction_length = 500\n",
    "freq = \"1min\"\n",
    "cardinality = [len(global_carids)]\n",
    "TS_VSPEED=1\n",
    "TS_DISTANCE=2\n",
    "run_ts = TS_VSPEED"
   ]
  },
  {
   "cell_type": "code",
   "execution_count": 7,
   "metadata": {},
   "outputs": [],
   "source": [
    "#run on indy500 dataset\n",
    "telemetry_data = [telemetry_data_indy[1]].copy()\n",
    "#run_prophet_nonan(500, '1s')"
   ]
  },
  {
   "cell_type": "code",
   "execution_count": 45,
   "metadata": {},
   "outputs": [
    {
     "name": "stdout",
     "output_type": "stream",
     "text": [
      "carno:1, len:10791\n",
      "carno:3, len:7918\n",
      "carno:4, len:10797\n",
      "carno:6, len:10791\n",
      "carno:7, len:10806\n",
      "carno:9, len:10787\n",
      "carno:10, len:2868\n",
      "carno:12, len:10782\n",
      "carno:13, len:3557\n",
      "carno:14, len:9993\n",
      "carno:15, len:10793\n",
      "carno:17, len:10799\n",
      "carno:18, len:6851\n",
      "carno:19, len:10789\n",
      "carno:20, len:10785\n",
      "carno:21, len:10799\n",
      "carno:22, len:10789\n",
      "carno:23, len:10824\n",
      "carno:24, len:8246\n",
      "carno:25, len:10816\n",
      "carno:26, len:10798\n",
      "carno:27, len:10787\n",
      "carno:28, len:10789\n",
      "carno:29, len:10790\n",
      "carno:30, len:1969\n",
      "carno:32, len:6069\n",
      "carno:33, len:2394\n",
      "carno:59, len:10785\n",
      "carno:60, len:10817\n",
      "carno:64, len:10820\n",
      "carno:66, len:10795\n",
      "carno:88, len:10797\n",
      "carno:98, len:10796\n"
     ]
    }
   ],
   "source": [
    "train_ds, test_ds = make_dataset_nonan(prediction_length,freq)\n"
   ]
  },
  {
   "cell_type": "code",
   "execution_count": 10,
   "metadata": {},
   "outputs": [
    {
     "name": "stderr",
     "output_type": "stream",
     "text": [
      "INFO:fbprophet:Disabling yearly seasonality. Run prophet with yearly_seasonality=True to override this.\n",
      "INFO:fbprophet:Disabling weekly seasonality. Run prophet with weekly_seasonality=True to override this.\n",
      "INFO:fbprophet:Disabling daily seasonality. Run prophet with daily_seasonality=True to override this.\n",
      "INFO:fbprophet:Disabling yearly seasonality. Run prophet with yearly_seasonality=True to override this.\n",
      "INFO:fbprophet:Disabling weekly seasonality. Run prophet with weekly_seasonality=True to override this.\n",
      "INFO:fbprophet:Disabling daily seasonality. Run prophet with daily_seasonality=True to override this.\n",
      "INFO:fbprophet:Disabling yearly seasonality. Run prophet with yearly_seasonality=True to override this.\n",
      "INFO:fbprophet:Disabling weekly seasonality. Run prophet with weekly_seasonality=True to override this.\n",
      "INFO:fbprophet:Disabling daily seasonality. Run prophet with daily_seasonality=True to override this.\n",
      "INFO:fbprophet:Disabling yearly seasonality. Run prophet with yearly_seasonality=True to override this.\n",
      "INFO:fbprophet:Disabling weekly seasonality. Run prophet with weekly_seasonality=True to override this.\n",
      "INFO:fbprophet:Disabling daily seasonality. Run prophet with daily_seasonality=True to override this.\n",
      "INFO:fbprophet:Disabling yearly seasonality. Run prophet with yearly_seasonality=True to override this.\n",
      "INFO:fbprophet:Disabling weekly seasonality. Run prophet with weekly_seasonality=True to override this.\n",
      "INFO:fbprophet:Disabling daily seasonality. Run prophet with daily_seasonality=True to override this.\n",
      "INFO:fbprophet:Disabling yearly seasonality. Run prophet with yearly_seasonality=True to override this.\n",
      "INFO:fbprophet:Disabling weekly seasonality. Run prophet with weekly_seasonality=True to override this.\n",
      "INFO:fbprophet:Disabling daily seasonality. Run prophet with daily_seasonality=True to override this.\n",
      "INFO:fbprophet:Disabling yearly seasonality. Run prophet with yearly_seasonality=True to override this.\n",
      "INFO:fbprophet:Disabling weekly seasonality. Run prophet with weekly_seasonality=True to override this.\n",
      "INFO:fbprophet:Disabling daily seasonality. Run prophet with daily_seasonality=True to override this.\n",
      "INFO:fbprophet:Disabling yearly seasonality. Run prophet with yearly_seasonality=True to override this.\n",
      "INFO:fbprophet:Disabling weekly seasonality. Run prophet with weekly_seasonality=True to override this.\n",
      "INFO:fbprophet:Disabling daily seasonality. Run prophet with daily_seasonality=True to override this.\n",
      "INFO:fbprophet:Disabling yearly seasonality. Run prophet with yearly_seasonality=True to override this.\n",
      "INFO:fbprophet:Disabling weekly seasonality. Run prophet with weekly_seasonality=True to override this.\n",
      "INFO:fbprophet:Disabling daily seasonality. Run prophet with daily_seasonality=True to override this.\n",
      "INFO:fbprophet:Disabling yearly seasonality. Run prophet with yearly_seasonality=True to override this.\n",
      "INFO:fbprophet:Disabling weekly seasonality. Run prophet with weekly_seasonality=True to override this.\n",
      "INFO:fbprophet:Disabling daily seasonality. Run prophet with daily_seasonality=True to override this.\n",
      "INFO:fbprophet:Disabling yearly seasonality. Run prophet with yearly_seasonality=True to override this.\n",
      "INFO:fbprophet:Disabling weekly seasonality. Run prophet with weekly_seasonality=True to override this.\n",
      "INFO:fbprophet:Disabling daily seasonality. Run prophet with daily_seasonality=True to override this.\n",
      "INFO:fbprophet:Disabling yearly seasonality. Run prophet with yearly_seasonality=True to override this.\n",
      "INFO:fbprophet:Disabling weekly seasonality. Run prophet with weekly_seasonality=True to override this.\n",
      "INFO:fbprophet:Disabling daily seasonality. Run prophet with daily_seasonality=True to override this.\n",
      "INFO:fbprophet:Disabling yearly seasonality. Run prophet with yearly_seasonality=True to override this.\n",
      "INFO:fbprophet:Disabling weekly seasonality. Run prophet with weekly_seasonality=True to override this.\n",
      "INFO:fbprophet:Disabling daily seasonality. Run prophet with daily_seasonality=True to override this.\n",
      "INFO:fbprophet:Disabling yearly seasonality. Run prophet with yearly_seasonality=True to override this.\n",
      "INFO:fbprophet:Disabling weekly seasonality. Run prophet with weekly_seasonality=True to override this.\n",
      "INFO:fbprophet:Disabling daily seasonality. Run prophet with daily_seasonality=True to override this.\n",
      "INFO:fbprophet:Disabling yearly seasonality. Run prophet with yearly_seasonality=True to override this.\n",
      "INFO:fbprophet:Disabling weekly seasonality. Run prophet with weekly_seasonality=True to override this.\n",
      "INFO:fbprophet:Disabling daily seasonality. Run prophet with daily_seasonality=True to override this.\n",
      "INFO:fbprophet:Disabling yearly seasonality. Run prophet with yearly_seasonality=True to override this.\n",
      "INFO:fbprophet:Disabling weekly seasonality. Run prophet with weekly_seasonality=True to override this.\n",
      "INFO:fbprophet:Disabling daily seasonality. Run prophet with daily_seasonality=True to override this.\n",
      "INFO:fbprophet:Disabling yearly seasonality. Run prophet with yearly_seasonality=True to override this.\n",
      "INFO:fbprophet:Disabling weekly seasonality. Run prophet with weekly_seasonality=True to override this.\n",
      "INFO:fbprophet:Disabling daily seasonality. Run prophet with daily_seasonality=True to override this.\n",
      "INFO:fbprophet:Disabling yearly seasonality. Run prophet with yearly_seasonality=True to override this.\n",
      "INFO:fbprophet:Disabling weekly seasonality. Run prophet with weekly_seasonality=True to override this.\n",
      "INFO:fbprophet:Disabling daily seasonality. Run prophet with daily_seasonality=True to override this.\n",
      "INFO:fbprophet:Disabling yearly seasonality. Run prophet with yearly_seasonality=True to override this.\n",
      "INFO:fbprophet:Disabling weekly seasonality. Run prophet with weekly_seasonality=True to override this.\n",
      "INFO:fbprophet:Disabling daily seasonality. Run prophet with daily_seasonality=True to override this.\n",
      "INFO:fbprophet:Disabling yearly seasonality. Run prophet with yearly_seasonality=True to override this.\n",
      "INFO:fbprophet:Disabling weekly seasonality. Run prophet with weekly_seasonality=True to override this.\n",
      "INFO:fbprophet:Disabling daily seasonality. Run prophet with daily_seasonality=True to override this.\n",
      "INFO:fbprophet:Disabling yearly seasonality. Run prophet with yearly_seasonality=True to override this.\n",
      "INFO:fbprophet:Disabling weekly seasonality. Run prophet with weekly_seasonality=True to override this.\n",
      "INFO:fbprophet:Disabling daily seasonality. Run prophet with daily_seasonality=True to override this.\n",
      "INFO:fbprophet:Disabling yearly seasonality. Run prophet with yearly_seasonality=True to override this.\n",
      "INFO:fbprophet:Disabling weekly seasonality. Run prophet with weekly_seasonality=True to override this.\n",
      "INFO:fbprophet:Disabling daily seasonality. Run prophet with daily_seasonality=True to override this.\n",
      "INFO:fbprophet:Disabling yearly seasonality. Run prophet with yearly_seasonality=True to override this.\n",
      "INFO:fbprophet:Disabling weekly seasonality. Run prophet with weekly_seasonality=True to override this.\n",
      "INFO:fbprophet:Disabling daily seasonality. Run prophet with daily_seasonality=True to override this.\n",
      "INFO:fbprophet:Disabling yearly seasonality. Run prophet with yearly_seasonality=True to override this.\n",
      "INFO:fbprophet:Disabling weekly seasonality. Run prophet with weekly_seasonality=True to override this.\n",
      "INFO:fbprophet:Disabling daily seasonality. Run prophet with daily_seasonality=True to override this.\n",
      "INFO:fbprophet:Disabling yearly seasonality. Run prophet with yearly_seasonality=True to override this.\n",
      "INFO:fbprophet:Disabling weekly seasonality. Run prophet with weekly_seasonality=True to override this.\n",
      "INFO:fbprophet:Disabling daily seasonality. Run prophet with daily_seasonality=True to override this.\n",
      "INFO:fbprophet:Disabling yearly seasonality. Run prophet with yearly_seasonality=True to override this.\n",
      "INFO:fbprophet:Disabling weekly seasonality. Run prophet with weekly_seasonality=True to override this.\n",
      "INFO:fbprophet:Disabling daily seasonality. Run prophet with daily_seasonality=True to override this.\n",
      "INFO:fbprophet:Disabling yearly seasonality. Run prophet with yearly_seasonality=True to override this.\n",
      "INFO:fbprophet:Disabling weekly seasonality. Run prophet with weekly_seasonality=True to override this.\n"
     ]
    },
    {
     "name": "stderr",
     "output_type": "stream",
     "text": [
      "INFO:fbprophet:Disabling daily seasonality. Run prophet with daily_seasonality=True to override this.\n",
      "INFO:fbprophet:Disabling yearly seasonality. Run prophet with yearly_seasonality=True to override this.\n",
      "INFO:fbprophet:Disabling weekly seasonality. Run prophet with weekly_seasonality=True to override this.\n",
      "INFO:fbprophet:Disabling daily seasonality. Run prophet with daily_seasonality=True to override this.\n",
      "INFO:fbprophet:Disabling yearly seasonality. Run prophet with yearly_seasonality=True to override this.\n",
      "INFO:fbprophet:Disabling weekly seasonality. Run prophet with weekly_seasonality=True to override this.\n",
      "INFO:fbprophet:Disabling daily seasonality. Run prophet with daily_seasonality=True to override this.\n",
      "INFO:fbprophet:Disabling yearly seasonality. Run prophet with yearly_seasonality=True to override this.\n",
      "INFO:fbprophet:Disabling weekly seasonality. Run prophet with weekly_seasonality=True to override this.\n",
      "INFO:fbprophet:Disabling daily seasonality. Run prophet with daily_seasonality=True to override this.\n",
      "INFO:fbprophet:Disabling yearly seasonality. Run prophet with yearly_seasonality=True to override this.\n",
      "INFO:fbprophet:Disabling weekly seasonality. Run prophet with weekly_seasonality=True to override this.\n",
      "INFO:fbprophet:Disabling daily seasonality. Run prophet with daily_seasonality=True to override this.\n",
      "INFO:fbprophet:Disabling yearly seasonality. Run prophet with yearly_seasonality=True to override this.\n",
      "INFO:fbprophet:Disabling weekly seasonality. Run prophet with weekly_seasonality=True to override this.\n",
      "INFO:fbprophet:Disabling daily seasonality. Run prophet with daily_seasonality=True to override this.\n",
      "INFO:fbprophet:Disabling yearly seasonality. Run prophet with yearly_seasonality=True to override this.\n",
      "INFO:fbprophet:Disabling weekly seasonality. Run prophet with weekly_seasonality=True to override this.\n",
      "INFO:fbprophet:Disabling daily seasonality. Run prophet with daily_seasonality=True to override this.\n",
      "Running evaluation: 100%|██████████| 33/33 [00:00<00:00, 74.02it/s]"
     ]
    },
    {
     "name": "stdout",
     "output_type": "stream",
     "text": [
      "{\n",
      "    \"MSE\": 8739.718869144419,\n",
      "    \"abs_error\": 1012300.9801451925,\n",
      "    \"abs_target_sum\": 2428020.197265625,\n",
      "    \"abs_target_mean\": 153.7611862034535,\n",
      "    \"seasonal_error\": 2.929936713693926,\n",
      "    \"MASE\": 22.26671513720314,\n",
      "    \"sMAPE\": 0.5156797731139724,\n",
      "    \"MSIS\": 512.0733116656866,\n",
      "    \"QuantileLoss[0.1]\": 881469.6317186848,\n",
      "    \"Coverage[0.1]\": 0.3727263205484749,\n",
      "    \"QuantileLoss[0.5]\": 1012300.9801451925,\n",
      "    \"Coverage[0.5]\": 0.6291150603242049,\n",
      "    \"QuantileLoss[0.9]\": 530789.6360560906,\n",
      "    \"Coverage[0.9]\": 0.9309696969696969,\n",
      "    \"RMSE\": 93.48646356101197,\n",
      "    \"NRMSE\": 0.6079978040577334,\n",
      "    \"ND\": 0.41692444786300387,\n",
      "    \"wQuantileLoss[0.1]\": 0.3630404857057506,\n",
      "    \"wQuantileLoss[0.5]\": 0.41692444786300387,\n",
      "    \"wQuantileLoss[0.9]\": 0.21861005796156574,\n",
      "    \"mean_wQuantileLoss\": 0.3328583305101067,\n",
      "    \"MAE_Coverage\": 0.14427035928079224\n",
      "}\n"
     ]
    },
    {
     "name": "stderr",
     "output_type": "stream",
     "text": [
      "\n"
     ]
    }
   ],
   "source": [
    "tss, forecast =evaluate_prophet(test_ds,prediction_length,freq)"
   ]
  },
  {
   "cell_type": "code",
   "execution_count": 11,
   "metadata": {},
   "outputs": [
    {
     "data": {
      "image/png": "[encoded data removed]",
      "text/plain": [
       "<Figure size 720x504 with 1 Axes>"
      ]
     },
     "metadata": {
      "needs_background": "light"
     },
     "output_type": "display_data"
    }
   ],
   "source": [
    "ts_entry = tss[7]\n",
    "forecast_entry = forecast[7]\n",
    "plot_prob_forecasts(ts_entry, forecast_entry) "
   ]
  },
  {
   "cell_type": "code",
   "execution_count": 12,
   "metadata": {},
   "outputs": [],
   "source": [
    "# test all \n",
    "#run_prophet_nonan(-1, 50, '1D')"
   ]
  },
  {
   "cell_type": "code",
   "execution_count": 13,
   "metadata": {},
   "outputs": [
    {
     "data": {
      "image/png": "[encoded data removed]",
      "text/plain": [
       "<Figure size 432x288 with 1 Axes>"
      ]
     },
     "metadata": {
      "needs_background": "light"
     },
     "output_type": "display_data"
    }
   ],
   "source": [
    "from gluonts.dataset.util import to_pandas\n",
    "entry = next(iter(train_ds))\n",
    "train_series = to_pandas(entry)\n",
    "entry = next(iter(test_ds))\n",
    "test_series = to_pandas(entry)\n",
    "test_series.dropna().plot()\n",
    "plt.axvline(train_series.index[-1], color='r') # end of train dataset\n",
    "plt.grid(which=\"both\")\n",
    "plt.legend([\"test series\", \"end of train series\"], loc=\"upper left\")\n",
    "plt.show()"
   ]
  },
  {
   "cell_type": "code",
   "execution_count": 14,
   "metadata": {},
   "outputs": [
    {
     "name": "stderr",
     "output_type": "stream",
     "text": [
      "/scratch/hpda/anaconda3/envs/gluonts/lib/python3.6/site-packages/numpy/core/_methods.py:29: RuntimeWarning: invalid value encountered in reduce\n",
      "  return umr_minimum(a, axis, None, out, keepdims)\n"
     ]
    },
    {
     "data": {
      "text/plain": [
       "nan"
      ]
     },
     "execution_count": 14,
     "metadata": {},
     "output_type": "execute_result"
    }
   ],
   "source": [
    "np.min(test_series.to_numpy())"
   ]
  },
  {
   "cell_type": "code",
   "execution_count": 15,
   "metadata": {},
   "outputs": [
    {
     "name": "stdout",
     "output_type": "stream",
     "text": [
      "Length of forecasting window in test dataset: 500\n",
      "Recommended prediction horizon: 500\n",
      "Frequency of the time series: 1s\n"
     ]
    }
   ],
   "source": [
    "print(f\"Length of forecasting window in test dataset: {len(test_series) - len(train_series)}\")\n",
    "print(f\"Recommended prediction horizon: {prediction_length}\")\n",
    "print(f\"Frequency of the time series: {freq}\")"
   ]
  },
  {
   "cell_type": "code",
   "execution_count": 16,
   "metadata": {},
   "outputs": [
    {
     "name": "stdout",
     "output_type": "stream",
     "text": [
      "Mean of the future window:\n",
      " [202.6409194  201.21480495 192.21147613 194.22862198 199.26674688\n",
      " 203.40506547 186.14428067 203.75539907 205.46478366 205.36931869\n",
      " 197.35452511 206.12769964 213.4798851  197.38019638 204.99545704\n",
      " 204.80726332 204.97367224 199.64950299 203.04957928 208.43726389\n",
      " 208.72409002 202.16590398 215.5598285  199.71159264 200.91580326\n",
      " 205.90245475 208.95270696 200.89261231 206.74162726 209.98829406\n",
      " 200.28585668 200.67696224 208.53336065 204.35816777 195.87413984\n",
      " 206.5796682  203.67079722 202.20802288 210.32777967 208.06169571\n",
      " 203.36577605 194.25379252 211.00665732 195.79952109 199.57393678\n",
      " 205.37863757 205.40997374 208.4400336  206.56141451 210.34779127\n",
      " 212.2100535  210.62116283 202.94139438 209.88199091 200.6312752\n",
      " 201.27617642 205.5725864  207.61788109 191.31355397 204.84878281\n",
      " 220.38241525 199.7373865  212.85732863 209.44281289 208.45895546\n",
      " 208.18500073 203.59093238 209.17624061 194.80265164 206.1613887\n",
      " 204.43473247 201.68867575 204.11832329 199.71185584 215.86738981\n",
      " 207.49030938 212.24753445 204.41548522 209.38156185 205.67726753\n",
      " 199.57080849 211.65405108 206.83741159 198.66924637 202.84790154\n",
      " 199.43301767 201.90213982 205.04492767 202.34676376 208.93576386\n",
      " 205.40153459 203.5927629  218.68166916 198.91402645 202.5450575\n",
      " 209.20765904 204.81726091 208.07559038 203.77281497 199.61593538\n",
      " 203.66672651 201.7775596  208.0874099  204.46233398 200.82837903\n",
      " 209.23833267 201.90879388 203.74505009 209.24539885 200.56397113\n",
      " 203.63726648 201.98518566 201.90692309 207.94181613 209.19894254\n",
      " 206.0602234  199.92956775 207.9354777  206.30156172 216.65041473\n",
      " 210.82841411 195.98765539 203.77025137 209.45527971 209.35091933\n",
      " 216.67611851 204.42282886 209.15717594 209.10178963 217.82427575\n",
      " 208.10528208 200.72369707 207.68183372 204.80072861 208.62923025\n",
      " 210.89666747 212.22908168 204.78921905 200.17330701 203.54000978\n",
      " 204.65747252 209.5655293  207.20270638 217.07818932 208.11434445\n",
      " 202.49337664 208.45711921 203.29219126 209.49102244 207.03732513\n",
      " 215.73860732 211.04369997 206.63135581 205.52899062 210.61488528\n",
      " 211.35870985 210.81607629 209.5784972  206.59945666 212.20138746\n",
      " 203.58425934 213.06387997 213.69493022 209.63765717 199.37127793\n",
      " 205.48891328 209.43081376 209.39915951 210.31756379 206.33221351\n",
      " 209.37283302 209.55782061 213.39997122 210.4150477  209.7060115\n",
      " 213.19966704 209.23273577 198.08568516 204.32009195 208.85829893\n",
      " 206.70338183 210.97774104 213.09815846 209.22663572 215.80372985\n",
      " 209.78411576 210.63185592 210.55738609 208.36066875 206.36461405\n",
      " 208.12877617 211.26017292 208.92684469 206.65869143 208.05106353\n",
      " 212.9609299  205.29934515 212.15010422 207.17898976 208.38611917\n",
      " 208.07471801 207.02311323 214.65210015 209.87407113 214.85312586\n",
      " 207.29214344 203.4248974  205.15281182 207.04934983 211.4440828\n",
      " 204.08662503 215.21189921 215.99003679 208.83930199 212.9917149\n",
      " 209.91388575 216.39166778 206.89723404 215.61214579 215.26340233\n",
      " 210.6663175  206.3907151  210.68196393 206.80144553 220.6678062\n",
      " 220.98837547 208.60748944 208.38208722 208.89011749 216.78282857\n",
      " 217.17854506 207.90630442 206.00063353 220.62886837 211.66262879\n",
      " 212.38572785 209.9050774  209.11316636 213.27538358 217.43044068\n",
      " 209.66042706 200.21881902 211.29151062 204.32421658 209.39674186\n",
      " 211.14465928 213.38822095 210.42998348 221.80784955 212.20683569\n",
      " 215.74574101 212.05862755 215.09968923 207.29102054 216.79453438\n",
      " 210.74976925 217.81053335 210.74554184 219.63720336 215.93046216\n",
      " 222.89278567 215.79544746 220.70741365 215.18339308 213.83207911\n",
      " 213.9307042  210.62721074 204.61602084 214.45387119 207.16974295\n",
      " 210.88836025 211.21793343 213.94790248 214.04844551 216.07345504\n",
      " 207.92858697 213.17886486 217.2929329  217.03509066 208.4466173\n",
      " 216.75211873 212.76924116 214.82431893 220.27571218 216.90557266\n",
      " 214.25173814 212.12651943 200.84094054 208.82946028 218.33976356\n",
      " 212.19061529 209.45104059 216.10681559 215.64880511 212.24341384\n",
      " 221.75777324 212.21101507 208.33965212 215.54492863 210.74411276\n",
      " 214.72934209 204.64700796 222.97274138 211.96561588 216.85274546\n",
      " 211.59552031 216.38717901 214.09627561 214.90959257 212.22336846\n",
      " 215.435974   212.95236579 215.07674359 214.29325852 219.19457486\n",
      " 218.66830113 226.97227202 216.19414379 206.32194684 209.02401128\n",
      " 215.41272778 208.28354614 208.31982857 221.43904679 221.56464681\n",
      " 224.18454434 212.69035113 221.25046632 212.77875587 207.91530552\n",
      " 222.38983654 209.07709236 218.3371505  214.81945613 211.01323795\n",
      " 212.37547041 221.82429836 213.83347829 219.76221531 217.80842882\n",
      " 217.95950297 215.98158384 213.22453629 222.01871538 218.53146538\n",
      " 217.03909558 223.03671823 213.69417245 213.85364689 214.11964021\n",
      " 212.69582904 219.37068559 217.5799759  221.73039492 210.70604447\n",
      " 211.55369346 217.89285778 209.63967849 214.18637475 221.05995038\n",
      " 219.67838115 213.84978402 214.56035624 210.7097994  212.91975562\n",
      " 221.75750599 219.83256306 217.49545228 224.68306484 213.67557585\n",
      " 209.76823567 216.63655582 219.60057774 214.16525509 217.5720845\n",
      " 218.68254842 210.48191814 216.39406296 215.07798486 214.76313286\n",
      " 214.70685027 220.45716576 216.77693905 212.70680807 215.22425441\n",
      " 212.95749683 219.09584241 223.51621607 221.5988298  226.37013745\n",
      " 217.92182198 216.92441863 223.27906176 212.31061565 214.48300557\n",
      " 228.69312046 213.1359946  219.05304937 219.03329017 213.16904444\n",
      " 222.59546533 214.49730441 221.05357363 216.60670842 218.48559463\n",
      " 220.32470051 214.44968641 223.56286632 216.13811599 218.67549319\n",
      " 218.73980473 223.14637201 222.95081697 221.51432676 215.99455451\n",
      " 227.78512728 219.61175399 215.21879968 222.56140207 217.1454105\n",
      " 218.04552794 223.13034315 217.32939678 222.02892968 207.99312679\n",
      " 207.47767308 215.33390422 216.69754095 221.6509958  220.67348859\n",
      " 216.37902762 223.20823077 232.17571628 217.52660611 216.20460363\n",
      " 220.49527919 222.12846914 216.48514461 224.00389482 216.95705522\n",
      " 227.16781549 220.64484053 218.67617821 227.9272361  210.56588642\n",
      " 220.1949897  217.07224194 226.02941782 226.70583313 216.61430775\n",
      " 218.73458939 216.6828467  221.40403442 223.8388842  226.35992602\n",
      " 225.94449538 221.75680727 217.36722665 219.64244505 217.46564766\n",
      " 218.01538314 216.8427815  220.67641393 224.44216108 217.30274833\n",
      " 222.07413476 222.04392982 217.0173683  221.71111862 220.86290719\n",
      " 214.1024823  227.12141087 225.2720217  223.44381524 223.11498968\n",
      " 211.87170647 220.84225693 228.01197885 215.51390806 222.38930468\n",
      " 223.36349473 222.27621616 224.90044993 219.35109774 227.44225568\n",
      " 218.35811337 228.23259806 221.91232606 225.55595405 225.58356708\n",
      " 212.54585521 219.72306478 219.32795238 219.49245845 227.59644203\n",
      " 222.65014199 227.0268775  223.96506197 212.5061165  218.76401708]\n",
      "0.5-quantile (median) of the future window:\n",
      " [200.27605758 203.52562399 199.32423606 191.53831976 198.90212897\n",
      " 203.71129114 185.26888181 198.74099068 204.52751493 205.84545408\n",
      " 196.24181259 207.82585094 214.2362406  195.1811493  209.5928467\n",
      " 203.72413956 205.09682448 199.91152481 209.35853395 203.98100063\n",
      " 209.40811913 210.95509341 216.31983288 199.29660105 190.91367091\n",
      " 205.45945679 209.23751579 195.91547879 210.16688435 206.21256503\n",
      " 201.21713775 203.15352055 209.35028721 206.5959949  199.58676573\n",
      " 205.20732845 207.05005419 198.94493653 209.09743283 212.7407187\n",
      " 204.94282899 197.61374657 216.02398168 192.56861347 205.93866226\n",
      " 206.59341151 200.34154326 210.77193036 204.50135082 210.61200309\n",
      " 213.96987271 210.57281143 201.25101715 212.15913925 203.0883645\n",
      " 200.47878268 204.64137831 212.95333987 189.93148984 205.34570591\n",
      " 217.67645517 200.34034782 215.26945891 206.05016021 212.66093155\n",
      " 208.45213442 207.79123325 207.09038864 195.85762037 207.80115478\n",
      " 206.39376865 201.66965882 204.98346245 204.76734123 220.53928469\n",
      " 205.43880379 215.39354014 208.08864929 214.09892695 212.69503231\n",
      " 199.93562233 211.03856286 209.34834426 197.72062974 203.09164552\n",
      " 207.78807716 195.17383367 213.2043799  203.82085395 208.84212374\n",
      " 209.2156943  201.21219287 224.18238341 200.95507015 194.5633785\n",
      " 207.99787901 205.60196294 201.87970537 200.11859523 195.79487143\n",
      " 205.92547851 207.1435586  210.32985473 208.48059723 207.60163558\n",
      " 208.98951026 199.85888669 198.26312067 213.05029871 202.54903473\n",
      " 207.55468285 198.50947614 200.67145541 207.15049731 210.98749013\n",
      " 202.11606728 199.31310462 208.54712768 204.75941026 222.43113365\n",
      " 209.55919316 196.13447903 202.9834678  210.84091772 212.75953679\n",
      " 210.62370239 204.345197   207.48532106 204.65807011 217.98113591\n",
      " 222.21658231 203.97055189 210.13023414 209.08514068 207.89481584\n",
      " 213.54676119 212.4447575  205.26137074 198.57650089 210.02588138\n",
      " 201.1294408  209.50833416 205.98760689 219.12989099 205.93610641\n",
      " 201.77877096 212.23568634 203.07572044 208.09257983 211.84506836\n",
      " 215.83463341 211.5608272  207.36870635 198.15818863 212.49997451\n",
      " 213.89372762 216.21739444 211.43201077 207.78661397 218.6173384\n",
      " 210.49285576 212.14004864 218.32146599 213.90967766 204.42494357\n",
      " 208.79399428 208.52041806 205.24421513 208.79656055 210.10585872\n",
      " 212.45236047 210.49436601 211.56592013 217.10292239 212.12380245\n",
      " 213.50528034 209.28613949 201.24068581 201.52258028 212.30165836\n",
      " 207.80790702 205.02388184 212.88651034 211.11232288 208.35736015\n",
      " 204.93774287 207.47350336 215.12973628 212.89807559 210.36330432\n",
      " 202.89220137 217.0120328  209.20198503 202.0375102  206.44150377\n",
      " 215.97608358 210.40826595 215.51691306 209.11594652 208.02542867\n",
      " 211.99640055 214.14037414 213.1196644  209.02271279 216.90286054\n",
      " 206.18850769 201.57641093 206.43637465 208.05645623 215.16899739\n",
      " 200.08881253 212.30276961 216.22222019 202.91880047 214.71257669\n",
      " 215.76642934 214.13539174 209.0823863  218.19607926 216.35579676\n",
      " 211.97119508 211.8725832  212.48340615 210.33495426 219.35430639\n",
      " 226.21016127 208.44606991 213.32135939 210.83070101 218.92418738\n",
      " 214.49611474 208.12722137 209.20796295 216.49813322 212.95355207\n",
      " 208.71098642 212.72681407 214.14234769 218.33585255 220.028168\n",
      " 209.97555943 201.2608485  211.6200777  208.45466754 206.15666771\n",
      " 215.34872275 212.46684536 211.06075873 224.99586082 217.17298042\n",
      " 214.77731589 214.38669943 215.61794418 203.88171152 217.9551092\n",
      " 214.76084637 220.40540896 210.703333   221.12769148 217.20859446\n",
      " 223.48556952 214.552853   220.519532   214.75232633 211.98489578\n",
      " 215.90249549 210.01383447 197.05891345 221.30640291 211.6605499\n",
      " 209.86337564 208.15212119 212.83150612 211.28582966 211.85550254\n",
      " 213.88605025 217.9525312  217.1932596  218.23451222 206.83372088\n",
      " 220.6550646  215.14351618 210.06067589 223.57946973 212.39099093\n",
      " 216.29883628 213.4703753  204.26756734 203.02183114 217.3520045\n",
      " 219.89698019 207.00893246 216.18803436 218.94807672 215.16307305\n",
      " 228.45101281 211.42284476 209.1974176  219.10780223 213.03529623\n",
      " 216.05044794 208.22472076 226.78655173 214.70306976 221.30490275\n",
      " 212.99587877 223.46461071 211.31432627 214.08869015 212.46036158\n",
      " 216.89250893 216.13417518 215.00955529 217.95111713 222.27304631\n",
      " 213.09902841 229.8734167  213.40649257 206.46492196 208.81770293\n",
      " 216.92341555 213.01848224 210.45767888 220.87313262 222.00023587\n",
      " 221.13290417 209.16032489 225.29640759 218.46613801 211.43272433\n",
      " 221.68661336 212.88496101 213.14797125 220.05204081 214.7930059\n",
      " 214.24223699 220.51220827 215.04492766 218.65339876 221.11686641\n",
      " 218.38721314 220.60289734 215.77775025 218.50313167 224.39099651\n",
      " 216.75589451 220.1881104  217.93061502 219.00529693 219.69170265\n",
      " 215.79266717 219.43984385 213.56389204 224.54794942 212.70459725\n",
      " 205.31431716 222.02202514 209.1560928  211.41764495 224.96293434\n",
      " 223.89526905 209.67287966 219.08303927 205.28679974 214.29857902\n",
      " 225.1347353  222.43660573 217.89501211 223.07296378 216.24265756\n",
      " 207.90729229 215.69843971 224.5692061  215.34121302 210.65408093\n",
      " 219.89414358 213.48154305 215.09648101 218.67470401 218.72323324\n",
      " 217.16806185 217.68530436 214.56583583 212.47752906 216.94494608\n",
      " 215.69827757 218.99060579 221.25787921 230.10329023 230.11942876\n",
      " 220.91519922 218.95199674 224.53273957 211.44374901 215.68566145\n",
      " 230.22635605 213.70104563 220.16159721 223.46925395 216.24450062\n",
      " 220.00454641 221.39361297 218.48913968 218.32977294 223.84327951\n",
      " 215.2549262  215.45004194 224.00950525 218.25103956 217.88069039\n",
      " 215.74521786 228.1426709  224.7274222  219.14547276 224.05353832\n",
      " 221.4548387  219.83783635 214.03210324 224.50765609 219.54468194\n",
      " 219.87744275 227.77619309 217.37851152 220.38034561 203.90681042\n",
      " 208.321609   219.56956183 219.58210154 222.77542057 221.25507829\n",
      " 220.51964257 223.09961518 236.350121   221.45679247 216.9668903\n",
      " 221.36121075 221.65196476 215.60998311 225.85029562 219.04319287\n",
      " 232.26542235 227.27967881 213.54673351 223.59160612 213.97353236\n",
      " 216.54736436 212.19746412 226.28520241 234.04645244 211.97789511\n",
      " 223.78506908 222.32264338 225.38364482 225.35705539 222.5787974\n",
      " 227.21584041 221.73229162 216.14958845 219.85908416 217.1010424\n",
      " 212.99767267 221.04966277 214.98038529 220.98305666 216.40270785\n",
      " 215.0783382  217.46928929 215.57870963 223.74147476 225.27509253\n",
      " 220.2047481  226.45418799 221.60688409 223.84994668 223.5154999\n",
      " 211.86113382 223.74932219 223.72946246 214.03415319 226.55687016\n",
      " 227.20218665 218.68097805 228.72027727 219.69026732 228.56573328\n",
      " 214.53896882 229.23947443 222.56779704 225.65999476 229.31762669\n",
      " 215.32521483 219.59125068 216.65666448 222.27942826 229.34071595\n",
      " 221.5927563  221.49281727 221.17073625 213.92536006 217.75605178]\n"
     ]
    }
   ],
   "source": [
    "print(f\"Mean of the future window:\\n {forecast_entry.mean}\")\n",
    "print(f\"0.5-quantile (median) of the future window:\\n {forecast_entry.quantile(0.5)}\")"
   ]
  },
  {
   "cell_type": "markdown",
   "metadata": {},
   "source": [
    "`Forecast` objects have a `plot` method that can summarize the forecast paths as the mean, prediction intervals, etc. The prediction intervals are shaded in different colors as a \"fan chart\"."
   ]
  },
  {
   "cell_type": "markdown",
   "metadata": {},
   "source": [
    "Individual metrics are aggregated only across time-steps."
   ]
  },
  {
   "cell_type": "markdown",
   "metadata": {},
   "source": [
    "### R-predictor"
   ]
  },
  {
   "cell_type": "code",
   "execution_count": 17,
   "metadata": {},
   "outputs": [
    {
     "name": "stderr",
     "output_type": "stream",
     "text": [
      "/scratch/hpda/anaconda3/envs/gluonts/lib/python3.6/site-packages/rpy2/rinterface/__init__.py:146: RRuntimeWarning: Registered S3 method overwritten by 'quantmod':\n",
      "  method            from\n",
      "  as.zoo.data.frame zoo \n",
      "\n",
      "  warnings.warn(x, RRuntimeWarning)\n",
      "/scratch/hpda/anaconda3/envs/gluonts/lib/python3.6/site-packages/gluonts/model/r_forecast/_predictor.py:191: FutureWarning: Addition/subtraction of integers and integer-arrays to Timestamp is deprecated, will be removed in a future version.  Instead of adding/subtracting `n`, use `n * self.freq`\n",
      "  + data[\"target\"].shape[0]\n",
      "Running evaluation: 100%|██████████| 33/33 [00:00<00:00, 71.91it/s]"
     ]
    },
    {
     "name": "stdout",
     "output_type": "stream",
     "text": [
      "{\n",
      "    \"MSE\": 11165.014685055508,\n",
      "    \"abs_error\": 1313382.124735693,\n",
      "    \"abs_target_sum\": 2428020.197265625,\n",
      "    \"abs_target_mean\": 153.7611862034535,\n",
      "    \"seasonal_error\": 2.929936713693926,\n",
      "    \"MASE\": 29.275472695441803,\n",
      "    \"sMAPE\": 0.5948601062743109,\n",
      "    \"MSIS\": 244.0209906684032,\n",
      "    \"QuantileLoss[0.1]\": 924852.9005889257,\n",
      "    \"Coverage[0.1]\": 0.06933041413814055,\n",
      "    \"QuantileLoss[0.5]\": 1313382.124735693,\n",
      "    \"Coverage[0.5]\": 0.6621222723530807,\n",
      "    \"QuantileLoss[0.9]\": 990123.7085986618,\n",
      "    \"Coverage[0.9]\": 0.9978446677572643,\n",
      "    \"RMSE\": 105.66463308532097,\n",
      "    \"NRMSE\": 0.6871996483267748,\n",
      "    \"ND\": 0.5409271826547368,\n",
      "    \"wQuantileLoss[0.1]\": 0.38090824023229775,\n",
      "    \"wQuantileLoss[0.5]\": 0.5409271826547368,\n",
      "    \"wQuantileLoss[0.9]\": 0.407790556978774,\n",
      "    \"mean_wQuantileLoss\": 0.44320865995526953,\n",
      "    \"MAE_Coverage\": 0.09687884199073483\n",
      "}\n"
     ]
    },
    {
     "name": "stderr",
     "output_type": "stream",
     "text": [
      "\n"
     ]
    }
   ],
   "source": [
    "from gluonts.model.r_forecast import RForecastPredictor\n",
    "est = RForecastPredictor(method_name='ets',freq= freq, prediction_length = prediction_length)\n",
    "arima = RForecastPredictor(method_name='arima',freq= freq, prediction_length = prediction_length)\n",
    "\n",
    "#train_ds, test_ds = make_dataset_nonan(1, prediction_length,freq)\n",
    "#train_ds, test_ds = make_dataset(prediction_length,freq)\n",
    "\n",
    "tss, forecast = evaluate_model(test_ds, est)"
   ]
  },
  {
   "cell_type": "code",
   "execution_count": 18,
   "metadata": {},
   "outputs": [
    {
     "data": {
      "image/png": "[encoded data removed]",
      "text/plain": [
       "<Figure size 720x504 with 1 Axes>"
      ]
     },
     "metadata": {
      "needs_background": "light"
     },
     "output_type": "display_data"
    }
   ],
   "source": [
    "ts_entry = tss[7]\n",
    "forecast_entry = forecast[7]\n",
    "plot_prob_forecasts(ts_entry, forecast_entry)"
   ]
  },
  {
   "cell_type": "code",
   "execution_count": 19,
   "metadata": {},
   "outputs": [],
   "source": [
    "#tss, forecast = evaluate_model(test_ds, arima)\n",
    "ts_entry = tss[7]\n",
    "forecast_entry = forecast[7]\n",
    "#plot_prob_forecasts(ts_entry, forecast_entry)"
   ]
  },
  {
   "cell_type": "markdown",
   "metadata": {},
   "source": [
    "### DeepAR"
   ]
  },
  {
   "cell_type": "code",
   "execution_count": 10,
   "metadata": {},
   "outputs": [],
   "source": [
    "from gluonts.model.deepar import DeepAREstimator\n",
    "from gluonts.trainer import Trainer\n",
    "freq='1min'\n",
    "prediction_length = 100\n",
    "estimator = DeepAREstimator(\n",
    "    prediction_length=prediction_length,\n",
    "    context_length = 3*prediction_length,\n",
    "    use_feat_static_cat=True,\n",
    "    cardinality=cardinality,\n",
    "    freq=freq,\n",
    "    trainer=Trainer(ctx=\"gpu(2)\", \n",
    "                    epochs=1, \n",
    "                    learning_rate=1e-3, \n",
    "                    num_batches_per_epoch=64\n",
    "                   )\n",
    ")"
   ]
  },
  {
   "cell_type": "code",
   "execution_count": 11,
   "metadata": {},
   "outputs": [
    {
     "name": "stdout",
     "output_type": "stream",
     "text": [
      "carno:1, len:10791, nancount:184\n",
      "carno:3, len:7918, nancount:72\n",
      "carno:4, len:10797, nancount:249\n",
      "carno:6, len:10791, nancount:201\n",
      "carno:7, len:10806, nancount:279\n",
      "carno:9, len:10787, nancount:88\n",
      "carno:10, len:2868, nancount:46\n",
      "carno:12, len:10782, nancount:85\n",
      "carno:13, len:3557, nancount:46\n",
      "carno:14, len:9993, nancount:171\n",
      "carno:15, len:10793, nancount:193\n",
      "carno:17, len:10799, nancount:525\n",
      "carno:18, len:6851, nancount:66\n",
      "carno:19, len:10789, nancount:176\n",
      "carno:20, len:10785, nancount:207\n",
      "carno:21, len:10799, nancount:176\n",
      "carno:22, len:10789, nancount:384\n",
      "carno:23, len:10824, nancount:200\n",
      "carno:24, len:8246, nancount:789\n",
      "carno:25, len:10816, nancount:210\n",
      "carno:26, len:10798, nancount:259\n",
      "carno:27, len:10787, nancount:194\n",
      "carno:28, len:10789, nancount:203\n",
      "carno:29, len:10790, nancount:187\n",
      "carno:30, len:1969, nancount:46\n",
      "carno:32, len:6069, nancount:957\n",
      "carno:33, len:2394, nancount:323\n",
      "carno:59, len:10785, nancount:199\n",
      "carno:60, len:10817, nancount:213\n",
      "carno:64, len:10820, nancount:192\n",
      "carno:66, len:10795, nancount:97\n",
      "carno:88, len:10797, nancount:190\n",
      "carno:98, len:10796, nancount:319\n"
     ]
    }
   ],
   "source": [
    "train_ds, test_ds, train_set, test_set = make_dataset_interpolate(prediction_length,'1min')\n",
    "#train_ds, test_ds, train_set, test_set = make_dataset_interpolate(prediction_length,'1S')"
   ]
  },
  {
   "cell_type": "code",
   "execution_count": 12,
   "metadata": {},
   "outputs": [
    {
     "name": "stderr",
     "output_type": "stream",
     "text": [
      "INFO:root:Start model training\n",
      "INFO:root:Epoch[0] Learning rate is 0.001\n",
      "  0%|          | 0/64 [00:00<?, ?it/s]INFO:root:Number of parameters in DeepARTrainingNetwork: 28763\n",
      "100%|██████████| 64/64 [01:53<00:00,  1.78s/it, avg_epoch_loss=4.63] \n",
      "INFO:root:Epoch[0] Elapsed time 113.886 seconds\n",
      "INFO:root:Epoch[0] Evaluation metric 'epoch_loss'=4.630399\n",
      "INFO:root:Loading parameters from best epoch (0)\n",
      "INFO:root:Final loss: 4.630399204790592 (occurred at epoch 0)\n",
      "INFO:root:End model training\n"
     ]
    }
   ],
   "source": [
    "predictor = estimator.train(train_ds)"
   ]
  },
  {
   "cell_type": "code",
   "execution_count": 97,
   "metadata": {},
   "outputs": [],
   "source": [
    "from gluonts.evaluation.backtest import make_evaluation_predictions\n",
    "forecast_it, ts_it = make_evaluation_predictions(\n",
    "    dataset=test_ds,  # test dataset\n",
    "    predictor=predictor,  # predictor\n",
    "    num_samples=100,  # number of sample paths we want for evaluation\n",
    ")"
   ]
  },
  {
   "cell_type": "code",
   "execution_count": 98,
   "metadata": {},
   "outputs": [],
   "source": [
    "forecasts = list(forecast_it)\n"
   ]
  },
  {
   "cell_type": "code",
   "execution_count": 99,
   "metadata": {},
   "outputs": [
    {
     "ename": "AttributeError",
     "evalue": "'datetime.datetime' object has no attribute 'value'",
     "output_type": "error",
     "traceback": [
      "\u001b[0;31m---------------------------------------------------------------------------\u001b[0m",
      "\u001b[0;31mAttributeError\u001b[0m                            Traceback (most recent call last)",
      "\u001b[0;32m<ipython-input-99-7a5069d37fe5>\u001b[0m in \u001b[0;36m<module>\u001b[0;34m\u001b[0m\n\u001b[0;32m----> 1\u001b[0;31m \u001b[0mtss\u001b[0m \u001b[0;34m=\u001b[0m \u001b[0mlist\u001b[0m\u001b[0;34m(\u001b[0m\u001b[0mts_it\u001b[0m\u001b[0;34m)\u001b[0m\u001b[0;34m\u001b[0m\u001b[0;34m\u001b[0m\u001b[0m\n\u001b[0m",
      "\u001b[0;32m/scratch/hpda/anaconda3/envs/gluonts/lib/python3.6/site-packages/gluonts/evaluation/backtest.py\u001b[0m in \u001b[0;36mts_iter\u001b[0;34m(dataset)\u001b[0m\n\u001b[1;32m     79\u001b[0m \u001b[0;34m\u001b[0m\u001b[0m\n\u001b[1;32m     80\u001b[0m     \u001b[0;32mdef\u001b[0m \u001b[0mts_iter\u001b[0m\u001b[0;34m(\u001b[0m\u001b[0mdataset\u001b[0m\u001b[0;34m:\u001b[0m \u001b[0mDataset\u001b[0m\u001b[0;34m)\u001b[0m \u001b[0;34m->\u001b[0m \u001b[0mpd\u001b[0m\u001b[0;34m.\u001b[0m\u001b[0mDataFrame\u001b[0m\u001b[0;34m:\u001b[0m\u001b[0;34m\u001b[0m\u001b[0;34m\u001b[0m\u001b[0m\n\u001b[0;32m---> 81\u001b[0;31m         \u001b[0;32mfor\u001b[0m \u001b[0mdata_entry\u001b[0m \u001b[0;32min\u001b[0m \u001b[0madd_ts_dataframe\u001b[0m\u001b[0;34m(\u001b[0m\u001b[0miter\u001b[0m\u001b[0;34m(\u001b[0m\u001b[0mdataset\u001b[0m\u001b[0;34m)\u001b[0m\u001b[0;34m)\u001b[0m\u001b[0;34m:\u001b[0m\u001b[0;34m\u001b[0m\u001b[0;34m\u001b[0m\u001b[0m\n\u001b[0m\u001b[1;32m     82\u001b[0m             \u001b[0;32myield\u001b[0m \u001b[0mdata_entry\u001b[0m\u001b[0;34m[\u001b[0m\u001b[0;34m\"ts\"\u001b[0m\u001b[0;34m]\u001b[0m\u001b[0;34m\u001b[0m\u001b[0;34m\u001b[0m\u001b[0m\n\u001b[1;32m     83\u001b[0m \u001b[0;34m\u001b[0m\u001b[0m\n",
      "\u001b[0;32m/scratch/hpda/anaconda3/envs/gluonts/lib/python3.6/site-packages/gluonts/evaluation/backtest.py\u001b[0m in \u001b[0;36madd_ts_dataframe\u001b[0;34m(data_iterator)\u001b[0m\n\u001b[1;32m     71\u001b[0m                 \u001b[0mstart\u001b[0m\u001b[0;34m=\u001b[0m\u001b[0mdata\u001b[0m\u001b[0;34m[\u001b[0m\u001b[0;34m\"start\"\u001b[0m\u001b[0;34m]\u001b[0m\u001b[0;34m,\u001b[0m\u001b[0;34m\u001b[0m\u001b[0;34m\u001b[0m\u001b[0m\n\u001b[1;32m     72\u001b[0m                 \u001b[0mfreq\u001b[0m\u001b[0;34m=\u001b[0m\u001b[0mfreq\u001b[0m\u001b[0;34m,\u001b[0m\u001b[0;34m\u001b[0m\u001b[0;34m\u001b[0m\u001b[0m\n\u001b[0;32m---> 73\u001b[0;31m                 \u001b[0mperiods\u001b[0m\u001b[0;34m=\u001b[0m\u001b[0mdata\u001b[0m\u001b[0;34m[\u001b[0m\u001b[0;34m\"target\"\u001b[0m\u001b[0;34m]\u001b[0m\u001b[0;34m.\u001b[0m\u001b[0mshape\u001b[0m\u001b[0;34m[\u001b[0m\u001b[0;34m-\u001b[0m\u001b[0;36m1\u001b[0m\u001b[0;34m]\u001b[0m\u001b[0;34m,\u001b[0m\u001b[0;34m\u001b[0m\u001b[0;34m\u001b[0m\u001b[0m\n\u001b[0m\u001b[1;32m     74\u001b[0m             )\n\u001b[1;32m     75\u001b[0m             data[\"ts\"] = pd.DataFrame(\n",
      "\u001b[0;32m/scratch/hpda/anaconda3/envs/gluonts/lib/python3.6/site-packages/pandas/core/indexes/datetimes.py\u001b[0m in \u001b[0;36mdate_range\u001b[0;34m(start, end, periods, freq, tz, normalize, name, closed, **kwargs)\u001b[0m\n\u001b[1;32m   1522\u001b[0m         \u001b[0mstart\u001b[0m\u001b[0;34m=\u001b[0m\u001b[0mstart\u001b[0m\u001b[0;34m,\u001b[0m \u001b[0mend\u001b[0m\u001b[0;34m=\u001b[0m\u001b[0mend\u001b[0m\u001b[0;34m,\u001b[0m \u001b[0mperiods\u001b[0m\u001b[0;34m=\u001b[0m\u001b[0mperiods\u001b[0m\u001b[0;34m,\u001b[0m\u001b[0;34m\u001b[0m\u001b[0;34m\u001b[0m\u001b[0m\n\u001b[1;32m   1523\u001b[0m         \u001b[0mfreq\u001b[0m\u001b[0;34m=\u001b[0m\u001b[0mfreq\u001b[0m\u001b[0;34m,\u001b[0m \u001b[0mtz\u001b[0m\u001b[0;34m=\u001b[0m\u001b[0mtz\u001b[0m\u001b[0;34m,\u001b[0m \u001b[0mnormalize\u001b[0m\u001b[0;34m=\u001b[0m\u001b[0mnormalize\u001b[0m\u001b[0;34m,\u001b[0m\u001b[0;34m\u001b[0m\u001b[0;34m\u001b[0m\u001b[0m\n\u001b[0;32m-> 1524\u001b[0;31m         closed=closed, **kwargs)\n\u001b[0m\u001b[1;32m   1525\u001b[0m     return DatetimeIndex._simple_new(\n\u001b[1;32m   1526\u001b[0m         dtarr, tz=dtarr.tz, freq=dtarr.freq, name=name)\n",
      "\u001b[0;32m/scratch/hpda/anaconda3/envs/gluonts/lib/python3.6/site-packages/pandas/core/arrays/datetimes.py\u001b[0m in \u001b[0;36m_generate_range\u001b[0;34m(cls, start, end, periods, freq, tz, normalize, ambiguous, nonexistent, closed)\u001b[0m\n\u001b[1;32m    446\u001b[0m                     \u001b[0mend\u001b[0m \u001b[0;34m=\u001b[0m \u001b[0mend\u001b[0m\u001b[0;34m.\u001b[0m\u001b[0mtz_localize\u001b[0m\u001b[0;34m(\u001b[0m\u001b[0;32mNone\u001b[0m\u001b[0;34m)\u001b[0m\u001b[0;34m\u001b[0m\u001b[0;34m\u001b[0m\u001b[0m\n\u001b[1;32m    447\u001b[0m             \u001b[0;31m# TODO: consider re-implementing _cached_range; GH#17914\u001b[0m\u001b[0;34m\u001b[0m\u001b[0;34m\u001b[0m\u001b[0;34m\u001b[0m\u001b[0m\n\u001b[0;32m--> 448\u001b[0;31m             \u001b[0mvalues\u001b[0m\u001b[0;34m,\u001b[0m \u001b[0m_tz\u001b[0m \u001b[0;34m=\u001b[0m \u001b[0mgenerate_regular_range\u001b[0m\u001b[0;34m(\u001b[0m\u001b[0mstart\u001b[0m\u001b[0;34m,\u001b[0m \u001b[0mend\u001b[0m\u001b[0;34m,\u001b[0m \u001b[0mperiods\u001b[0m\u001b[0;34m,\u001b[0m \u001b[0mfreq\u001b[0m\u001b[0;34m)\u001b[0m\u001b[0;34m\u001b[0m\u001b[0;34m\u001b[0m\u001b[0m\n\u001b[0m\u001b[1;32m    449\u001b[0m             \u001b[0mindex\u001b[0m \u001b[0;34m=\u001b[0m \u001b[0mcls\u001b[0m\u001b[0;34m.\u001b[0m\u001b[0m_simple_new\u001b[0m\u001b[0;34m(\u001b[0m\u001b[0mvalues\u001b[0m\u001b[0;34m,\u001b[0m \u001b[0mfreq\u001b[0m\u001b[0;34m=\u001b[0m\u001b[0mfreq\u001b[0m\u001b[0;34m,\u001b[0m \u001b[0mdtype\u001b[0m\u001b[0;34m=\u001b[0m\u001b[0mtz_to_dtype\u001b[0m\u001b[0;34m(\u001b[0m\u001b[0m_tz\u001b[0m\u001b[0;34m)\u001b[0m\u001b[0;34m)\u001b[0m\u001b[0;34m\u001b[0m\u001b[0;34m\u001b[0m\u001b[0m\n\u001b[1;32m    450\u001b[0m \u001b[0;34m\u001b[0m\u001b[0m\n",
      "\u001b[0;32m/scratch/hpda/anaconda3/envs/gluonts/lib/python3.6/site-packages/pandas/core/arrays/_ranges.py\u001b[0m in \u001b[0;36mgenerate_regular_range\u001b[0;34m(start, end, periods, freq)\u001b[0m\n\u001b[1;32m     76\u001b[0m                              periods=periods, offset=freq)\n\u001b[1;32m     77\u001b[0m \u001b[0;34m\u001b[0m\u001b[0m\n\u001b[0;32m---> 78\u001b[0;31m         \u001b[0mvalues\u001b[0m \u001b[0;34m=\u001b[0m \u001b[0mnp\u001b[0m\u001b[0;34m.\u001b[0m\u001b[0marray\u001b[0m\u001b[0;34m(\u001b[0m\u001b[0;34m[\u001b[0m\u001b[0mx\u001b[0m\u001b[0;34m.\u001b[0m\u001b[0mvalue\u001b[0m \u001b[0;32mfor\u001b[0m \u001b[0mx\u001b[0m \u001b[0;32min\u001b[0m \u001b[0mxdr\u001b[0m\u001b[0;34m]\u001b[0m\u001b[0;34m,\u001b[0m \u001b[0mdtype\u001b[0m\u001b[0;34m=\u001b[0m\u001b[0mnp\u001b[0m\u001b[0;34m.\u001b[0m\u001b[0mint64\u001b[0m\u001b[0;34m)\u001b[0m\u001b[0;34m\u001b[0m\u001b[0;34m\u001b[0m\u001b[0m\n\u001b[0m\u001b[1;32m     79\u001b[0m \u001b[0;34m\u001b[0m\u001b[0m\n\u001b[1;32m     80\u001b[0m     \u001b[0;32mreturn\u001b[0m \u001b[0mvalues\u001b[0m\u001b[0;34m,\u001b[0m \u001b[0mtz\u001b[0m\u001b[0;34m\u001b[0m\u001b[0;34m\u001b[0m\u001b[0m\n",
      "\u001b[0;32m/scratch/hpda/anaconda3/envs/gluonts/lib/python3.6/site-packages/pandas/core/arrays/_ranges.py\u001b[0m in \u001b[0;36m<listcomp>\u001b[0;34m(.0)\u001b[0m\n\u001b[1;32m     76\u001b[0m                              periods=periods, offset=freq)\n\u001b[1;32m     77\u001b[0m \u001b[0;34m\u001b[0m\u001b[0m\n\u001b[0;32m---> 78\u001b[0;31m         \u001b[0mvalues\u001b[0m \u001b[0;34m=\u001b[0m \u001b[0mnp\u001b[0m\u001b[0;34m.\u001b[0m\u001b[0marray\u001b[0m\u001b[0;34m(\u001b[0m\u001b[0;34m[\u001b[0m\u001b[0mx\u001b[0m\u001b[0;34m.\u001b[0m\u001b[0mvalue\u001b[0m \u001b[0;32mfor\u001b[0m \u001b[0mx\u001b[0m \u001b[0;32min\u001b[0m \u001b[0mxdr\u001b[0m\u001b[0;34m]\u001b[0m\u001b[0;34m,\u001b[0m \u001b[0mdtype\u001b[0m\u001b[0;34m=\u001b[0m\u001b[0mnp\u001b[0m\u001b[0;34m.\u001b[0m\u001b[0mint64\u001b[0m\u001b[0;34m)\u001b[0m\u001b[0;34m\u001b[0m\u001b[0;34m\u001b[0m\u001b[0m\n\u001b[0m\u001b[1;32m     79\u001b[0m \u001b[0;34m\u001b[0m\u001b[0m\n\u001b[1;32m     80\u001b[0m     \u001b[0;32mreturn\u001b[0m \u001b[0mvalues\u001b[0m\u001b[0;34m,\u001b[0m \u001b[0mtz\u001b[0m\u001b[0;34m\u001b[0m\u001b[0;34m\u001b[0m\u001b[0m\n",
      "\u001b[0;31mAttributeError\u001b[0m: 'datetime.datetime' object has no attribute 'value'"
     ]
    }
   ],
   "source": [
    "tss = list(ts_it)\n"
   ]
  },
  {
   "cell_type": "code",
   "execution_count": null,
   "metadata": {},
   "outputs": [],
   "source": [
    "forecast_entry"
   ]
  },
  {
   "cell_type": "code",
   "execution_count": null,
   "metadata": {},
   "outputs": [],
   "source": [
    "ts_entry = tss[7]\n",
    "forecast_entry = forecast[7]\n",
    "plot_prob_forecasts(ts_entry, forecast_entry)"
   ]
  },
  {
   "cell_type": "code",
   "execution_count": 35,
   "metadata": {},
   "outputs": [
    {
     "data": {
      "text/plain": [
       "33"
      ]
     },
     "execution_count": 35,
     "metadata": {},
     "output_type": "execute_result"
    }
   ],
   "source": [
    "len(forecast)"
   ]
  },
  {
   "cell_type": "code",
   "execution_count": null,
   "metadata": {},
   "outputs": [],
   "source": [
    "#entry = next(iter(forecast_it))\n",
    "#train_series = to_pandas(entry)\n",
    "entry = next(ts_it)\n",
    "test_series = to_pandas(entry)\n",
    "test_series.plot()\n",
    "plt.axvline(train_series.index[-1], color='r') # end of train dataset\n",
    "plt.grid(which=\"both\")\n",
    "plt.legend([\"test series\", \"end of train series\"], loc=\"upper left\")\n",
    "plt.show()"
   ]
  },
  {
   "cell_type": "code",
   "execution_count": 57,
   "metadata": {},
   "outputs": [
    {
     "ename": "AttributeError",
     "evalue": "'datetime.datetime' object has no attribute 'value'",
     "output_type": "error",
     "traceback": [
      "\u001b[0;31m---------------------------------------------------------------------------\u001b[0m",
      "\u001b[0;31mAttributeError\u001b[0m                            Traceback (most recent call last)",
      "\u001b[0;32m<ipython-input-57-9f401af9e625>\u001b[0m in \u001b[0;36m<module>\u001b[0;34m\u001b[0m\n\u001b[1;32m      1\u001b[0m \u001b[0;31m#entry = next(iter(forecast_it))\u001b[0m\u001b[0;34m\u001b[0m\u001b[0;34m\u001b[0m\u001b[0;34m\u001b[0m\u001b[0m\n\u001b[1;32m      2\u001b[0m \u001b[0;31m#train_series = to_pandas(entry)\u001b[0m\u001b[0;34m\u001b[0m\u001b[0;34m\u001b[0m\u001b[0;34m\u001b[0m\u001b[0m\n\u001b[0;32m----> 3\u001b[0;31m \u001b[0mentry\u001b[0m \u001b[0;34m=\u001b[0m \u001b[0mnext\u001b[0m\u001b[0;34m(\u001b[0m\u001b[0mts_it\u001b[0m\u001b[0;34m)\u001b[0m\u001b[0;34m\u001b[0m\u001b[0;34m\u001b[0m\u001b[0m\n\u001b[0m\u001b[1;32m      4\u001b[0m \u001b[0mtest_series\u001b[0m \u001b[0;34m=\u001b[0m \u001b[0mto_pandas\u001b[0m\u001b[0;34m(\u001b[0m\u001b[0mentry\u001b[0m\u001b[0;34m)\u001b[0m\u001b[0;34m\u001b[0m\u001b[0;34m\u001b[0m\u001b[0m\n\u001b[1;32m      5\u001b[0m \u001b[0mtest_series\u001b[0m\u001b[0;34m.\u001b[0m\u001b[0mplot\u001b[0m\u001b[0;34m(\u001b[0m\u001b[0;34m)\u001b[0m\u001b[0;34m\u001b[0m\u001b[0;34m\u001b[0m\u001b[0m\n",
      "\u001b[0;32m/scratch/hpda/anaconda3/envs/gluonts/lib/python3.6/site-packages/gluonts/evaluation/backtest.py\u001b[0m in \u001b[0;36mts_iter\u001b[0;34m(dataset)\u001b[0m\n\u001b[1;32m     79\u001b[0m \u001b[0;34m\u001b[0m\u001b[0m\n\u001b[1;32m     80\u001b[0m     \u001b[0;32mdef\u001b[0m \u001b[0mts_iter\u001b[0m\u001b[0;34m(\u001b[0m\u001b[0mdataset\u001b[0m\u001b[0;34m:\u001b[0m \u001b[0mDataset\u001b[0m\u001b[0;34m)\u001b[0m \u001b[0;34m->\u001b[0m \u001b[0mpd\u001b[0m\u001b[0;34m.\u001b[0m\u001b[0mDataFrame\u001b[0m\u001b[0;34m:\u001b[0m\u001b[0;34m\u001b[0m\u001b[0;34m\u001b[0m\u001b[0m\n\u001b[0;32m---> 81\u001b[0;31m         \u001b[0;32mfor\u001b[0m \u001b[0mdata_entry\u001b[0m \u001b[0;32min\u001b[0m \u001b[0madd_ts_dataframe\u001b[0m\u001b[0;34m(\u001b[0m\u001b[0miter\u001b[0m\u001b[0;34m(\u001b[0m\u001b[0mdataset\u001b[0m\u001b[0;34m)\u001b[0m\u001b[0;34m)\u001b[0m\u001b[0;34m:\u001b[0m\u001b[0;34m\u001b[0m\u001b[0;34m\u001b[0m\u001b[0m\n\u001b[0m\u001b[1;32m     82\u001b[0m             \u001b[0;32myield\u001b[0m \u001b[0mdata_entry\u001b[0m\u001b[0;34m[\u001b[0m\u001b[0;34m\"ts\"\u001b[0m\u001b[0;34m]\u001b[0m\u001b[0;34m\u001b[0m\u001b[0;34m\u001b[0m\u001b[0m\n\u001b[1;32m     83\u001b[0m \u001b[0;34m\u001b[0m\u001b[0m\n",
      "\u001b[0;32m/scratch/hpda/anaconda3/envs/gluonts/lib/python3.6/site-packages/gluonts/evaluation/backtest.py\u001b[0m in \u001b[0;36madd_ts_dataframe\u001b[0;34m(data_iterator)\u001b[0m\n\u001b[1;32m     71\u001b[0m                 \u001b[0mstart\u001b[0m\u001b[0;34m=\u001b[0m\u001b[0mdata\u001b[0m\u001b[0;34m[\u001b[0m\u001b[0;34m\"start\"\u001b[0m\u001b[0;34m]\u001b[0m\u001b[0;34m,\u001b[0m\u001b[0;34m\u001b[0m\u001b[0;34m\u001b[0m\u001b[0m\n\u001b[1;32m     72\u001b[0m                 \u001b[0mfreq\u001b[0m\u001b[0;34m=\u001b[0m\u001b[0mfreq\u001b[0m\u001b[0;34m,\u001b[0m\u001b[0;34m\u001b[0m\u001b[0;34m\u001b[0m\u001b[0m\n\u001b[0;32m---> 73\u001b[0;31m                 \u001b[0mperiods\u001b[0m\u001b[0;34m=\u001b[0m\u001b[0mdata\u001b[0m\u001b[0;34m[\u001b[0m\u001b[0;34m\"target\"\u001b[0m\u001b[0;34m]\u001b[0m\u001b[0;34m.\u001b[0m\u001b[0mshape\u001b[0m\u001b[0;34m[\u001b[0m\u001b[0;34m-\u001b[0m\u001b[0;36m1\u001b[0m\u001b[0;34m]\u001b[0m\u001b[0;34m,\u001b[0m\u001b[0;34m\u001b[0m\u001b[0;34m\u001b[0m\u001b[0m\n\u001b[0m\u001b[1;32m     74\u001b[0m             )\n\u001b[1;32m     75\u001b[0m             data[\"ts\"] = pd.DataFrame(\n",
      "\u001b[0;32m/scratch/hpda/anaconda3/envs/gluonts/lib/python3.6/site-packages/pandas/core/indexes/datetimes.py\u001b[0m in \u001b[0;36mdate_range\u001b[0;34m(start, end, periods, freq, tz, normalize, name, closed, **kwargs)\u001b[0m\n\u001b[1;32m   1522\u001b[0m         \u001b[0mstart\u001b[0m\u001b[0;34m=\u001b[0m\u001b[0mstart\u001b[0m\u001b[0;34m,\u001b[0m \u001b[0mend\u001b[0m\u001b[0;34m=\u001b[0m\u001b[0mend\u001b[0m\u001b[0;34m,\u001b[0m \u001b[0mperiods\u001b[0m\u001b[0;34m=\u001b[0m\u001b[0mperiods\u001b[0m\u001b[0;34m,\u001b[0m\u001b[0;34m\u001b[0m\u001b[0;34m\u001b[0m\u001b[0m\n\u001b[1;32m   1523\u001b[0m         \u001b[0mfreq\u001b[0m\u001b[0;34m=\u001b[0m\u001b[0mfreq\u001b[0m\u001b[0;34m,\u001b[0m \u001b[0mtz\u001b[0m\u001b[0;34m=\u001b[0m\u001b[0mtz\u001b[0m\u001b[0;34m,\u001b[0m \u001b[0mnormalize\u001b[0m\u001b[0;34m=\u001b[0m\u001b[0mnormalize\u001b[0m\u001b[0;34m,\u001b[0m\u001b[0;34m\u001b[0m\u001b[0;34m\u001b[0m\u001b[0m\n\u001b[0;32m-> 1524\u001b[0;31m         closed=closed, **kwargs)\n\u001b[0m\u001b[1;32m   1525\u001b[0m     return DatetimeIndex._simple_new(\n\u001b[1;32m   1526\u001b[0m         dtarr, tz=dtarr.tz, freq=dtarr.freq, name=name)\n",
      "\u001b[0;32m/scratch/hpda/anaconda3/envs/gluonts/lib/python3.6/site-packages/pandas/core/arrays/datetimes.py\u001b[0m in \u001b[0;36m_generate_range\u001b[0;34m(cls, start, end, periods, freq, tz, normalize, ambiguous, nonexistent, closed)\u001b[0m\n\u001b[1;32m    446\u001b[0m                     \u001b[0mend\u001b[0m \u001b[0;34m=\u001b[0m \u001b[0mend\u001b[0m\u001b[0;34m.\u001b[0m\u001b[0mtz_localize\u001b[0m\u001b[0;34m(\u001b[0m\u001b[0;32mNone\u001b[0m\u001b[0;34m)\u001b[0m\u001b[0;34m\u001b[0m\u001b[0;34m\u001b[0m\u001b[0m\n\u001b[1;32m    447\u001b[0m             \u001b[0;31m# TODO: consider re-implementing _cached_range; GH#17914\u001b[0m\u001b[0;34m\u001b[0m\u001b[0;34m\u001b[0m\u001b[0;34m\u001b[0m\u001b[0m\n\u001b[0;32m--> 448\u001b[0;31m             \u001b[0mvalues\u001b[0m\u001b[0;34m,\u001b[0m \u001b[0m_tz\u001b[0m \u001b[0;34m=\u001b[0m \u001b[0mgenerate_regular_range\u001b[0m\u001b[0;34m(\u001b[0m\u001b[0mstart\u001b[0m\u001b[0;34m,\u001b[0m \u001b[0mend\u001b[0m\u001b[0;34m,\u001b[0m \u001b[0mperiods\u001b[0m\u001b[0;34m,\u001b[0m \u001b[0mfreq\u001b[0m\u001b[0;34m)\u001b[0m\u001b[0;34m\u001b[0m\u001b[0;34m\u001b[0m\u001b[0m\n\u001b[0m\u001b[1;32m    449\u001b[0m             \u001b[0mindex\u001b[0m \u001b[0;34m=\u001b[0m \u001b[0mcls\u001b[0m\u001b[0;34m.\u001b[0m\u001b[0m_simple_new\u001b[0m\u001b[0;34m(\u001b[0m\u001b[0mvalues\u001b[0m\u001b[0;34m,\u001b[0m \u001b[0mfreq\u001b[0m\u001b[0;34m=\u001b[0m\u001b[0mfreq\u001b[0m\u001b[0;34m,\u001b[0m \u001b[0mdtype\u001b[0m\u001b[0;34m=\u001b[0m\u001b[0mtz_to_dtype\u001b[0m\u001b[0;34m(\u001b[0m\u001b[0m_tz\u001b[0m\u001b[0;34m)\u001b[0m\u001b[0;34m)\u001b[0m\u001b[0;34m\u001b[0m\u001b[0;34m\u001b[0m\u001b[0m\n\u001b[1;32m    450\u001b[0m \u001b[0;34m\u001b[0m\u001b[0m\n",
      "\u001b[0;32m/scratch/hpda/anaconda3/envs/gluonts/lib/python3.6/site-packages/pandas/core/arrays/_ranges.py\u001b[0m in \u001b[0;36mgenerate_regular_range\u001b[0;34m(start, end, periods, freq)\u001b[0m\n\u001b[1;32m     76\u001b[0m                              periods=periods, offset=freq)\n\u001b[1;32m     77\u001b[0m \u001b[0;34m\u001b[0m\u001b[0m\n\u001b[0;32m---> 78\u001b[0;31m         \u001b[0mvalues\u001b[0m \u001b[0;34m=\u001b[0m \u001b[0mnp\u001b[0m\u001b[0;34m.\u001b[0m\u001b[0marray\u001b[0m\u001b[0;34m(\u001b[0m\u001b[0;34m[\u001b[0m\u001b[0mx\u001b[0m\u001b[0;34m.\u001b[0m\u001b[0mvalue\u001b[0m \u001b[0;32mfor\u001b[0m \u001b[0mx\u001b[0m \u001b[0;32min\u001b[0m \u001b[0mxdr\u001b[0m\u001b[0;34m]\u001b[0m\u001b[0;34m,\u001b[0m \u001b[0mdtype\u001b[0m\u001b[0;34m=\u001b[0m\u001b[0mnp\u001b[0m\u001b[0;34m.\u001b[0m\u001b[0mint64\u001b[0m\u001b[0;34m)\u001b[0m\u001b[0;34m\u001b[0m\u001b[0;34m\u001b[0m\u001b[0m\n\u001b[0m\u001b[1;32m     79\u001b[0m \u001b[0;34m\u001b[0m\u001b[0m\n\u001b[1;32m     80\u001b[0m     \u001b[0;32mreturn\u001b[0m \u001b[0mvalues\u001b[0m\u001b[0;34m,\u001b[0m \u001b[0mtz\u001b[0m\u001b[0;34m\u001b[0m\u001b[0;34m\u001b[0m\u001b[0m\n",
      "\u001b[0;32m/scratch/hpda/anaconda3/envs/gluonts/lib/python3.6/site-packages/pandas/core/arrays/_ranges.py\u001b[0m in \u001b[0;36m<listcomp>\u001b[0;34m(.0)\u001b[0m\n\u001b[1;32m     76\u001b[0m                              periods=periods, offset=freq)\n\u001b[1;32m     77\u001b[0m \u001b[0;34m\u001b[0m\u001b[0m\n\u001b[0;32m---> 78\u001b[0;31m         \u001b[0mvalues\u001b[0m \u001b[0;34m=\u001b[0m \u001b[0mnp\u001b[0m\u001b[0;34m.\u001b[0m\u001b[0marray\u001b[0m\u001b[0;34m(\u001b[0m\u001b[0;34m[\u001b[0m\u001b[0mx\u001b[0m\u001b[0;34m.\u001b[0m\u001b[0mvalue\u001b[0m \u001b[0;32mfor\u001b[0m \u001b[0mx\u001b[0m \u001b[0;32min\u001b[0m \u001b[0mxdr\u001b[0m\u001b[0;34m]\u001b[0m\u001b[0;34m,\u001b[0m \u001b[0mdtype\u001b[0m\u001b[0;34m=\u001b[0m\u001b[0mnp\u001b[0m\u001b[0;34m.\u001b[0m\u001b[0mint64\u001b[0m\u001b[0;34m)\u001b[0m\u001b[0;34m\u001b[0m\u001b[0;34m\u001b[0m\u001b[0m\n\u001b[0m\u001b[1;32m     79\u001b[0m \u001b[0;34m\u001b[0m\u001b[0m\n\u001b[1;32m     80\u001b[0m     \u001b[0;32mreturn\u001b[0m \u001b[0mvalues\u001b[0m\u001b[0;34m,\u001b[0m \u001b[0mtz\u001b[0m\u001b[0;34m\u001b[0m\u001b[0;34m\u001b[0m\u001b[0m\n",
      "\u001b[0;31mAttributeError\u001b[0m: 'datetime.datetime' object has no attribute 'value'"
     ]
    }
   ],
   "source": [
    "#entry = next(iter(forecast_it))\n",
    "#train_series = to_pandas(entry)\n",
    "entry = next(ts_it)\n",
    "test_series = to_pandas(entry)\n",
    "test_series.plot()\n",
    "plt.axvline(train_series.index[-1], color='r') # end of train dataset\n",
    "plt.grid(which=\"both\")\n",
    "plt.legend([\"test series\", \"end of train series\"], loc=\"upper left\")\n",
    "plt.show()"
   ]
  },
  {
   "cell_type": "code",
   "execution_count": 93,
   "metadata": {},
   "outputs": [
    {
     "data": {
      "image/png": "[encoded data removed]",
      "text/plain": [
       "<Figure size 432x288 with 1 Axes>"
      ]
     },
     "metadata": {
      "needs_background": "light"
     },
     "output_type": "display_data"
    }
   ],
   "source": [
    "from gluonts.dataset.util import to_pandas\n",
    "entry = next(iter(train_ds))\n",
    "train_series = to_pandas(entry)\n",
    "entry = next(iter(test_ds))\n",
    "test_series = to_pandas(entry)\n",
    "#test_series.plot()\n",
    "plt.plot(test_series.index, test_series.values)\n",
    "plt.axvline(train_series.index[-1], color='r') # end of train dataset\n",
    "plt.grid(which=\"both\")\n",
    "plt.legend([\"test series\", \"end of train series\"], loc=\"upper left\")\n",
    "plt.show()"
   ]
  },
  {
   "cell_type": "code",
   "execution_count": null,
   "metadata": {},
   "outputs": [],
   "source": [
    "#[np.sum(x['target'] == np.nan) for x in test_set]\n",
    "[x['target'].shape for x in test_set]"
   ]
  },
  {
   "cell_type": "code",
   "execution_count": 94,
   "metadata": {},
   "outputs": [
    {
     "data": {
      "text/plain": [
       "2019-01-01 00:00:00    156.669998\n",
       "2019-01-01 00:00:01    166.139999\n",
       "2019-01-01 00:00:02    173.779999\n",
       "2019-01-01 00:00:03    180.419998\n",
       "2019-01-01 00:00:04    188.149994\n",
       "2019-01-01 00:00:05    194.020004\n",
       "2019-01-01 00:00:06    201.100006\n",
       "2019-01-01 00:00:07    196.350006\n",
       "2019-01-01 00:00:08    190.250000\n",
       "2019-01-01 00:00:09    182.779999\n",
       "2019-01-01 00:00:10    182.350006\n",
       "2019-01-01 00:00:11    187.210007\n",
       "2019-01-01 00:00:12    190.729996\n",
       "2019-01-01 00:00:13    195.979996\n",
       "2019-01-01 00:00:14    200.669998\n",
       "2019-01-01 00:00:15    204.179993\n",
       "2019-01-01 00:00:16    210.149994\n",
       "2019-01-01 00:00:17    210.369995\n",
       "2019-01-01 00:00:18    212.779999\n",
       "2019-01-01 00:00:19    212.149994\n",
       "2019-01-01 00:00:20    214.000000\n",
       "2019-01-01 00:00:21    216.470001\n",
       "2019-01-01 00:00:22    219.800003\n",
       "2019-01-01 00:00:23    223.179993\n",
       "2019-01-01 00:00:24    225.910004\n",
       "2019-01-01 00:00:25    228.149994\n",
       "2019-01-01 00:00:26    232.259995\n",
       "2019-01-01 00:00:27    232.679993\n",
       "2019-01-01 00:00:28    233.639999\n",
       "2019-01-01 00:00:29    235.100006\n",
       "                          ...    \n",
       "2019-01-01 02:59:21    211.800003\n",
       "2019-01-01 02:59:22    212.550003\n",
       "2019-01-01 02:59:23    217.429993\n",
       "2019-01-01 02:59:24    218.529999\n",
       "2019-01-01 02:59:25    219.000000\n",
       "2019-01-01 02:59:26    210.559998\n",
       "2019-01-01 02:59:27    211.279999\n",
       "2019-01-01 02:59:28    211.289993\n",
       "2019-01-01 02:59:29    212.690002\n",
       "2019-01-01 02:59:30    215.429993\n",
       "2019-01-01 02:59:31    218.449997\n",
       "2019-01-01 02:59:32    223.100006\n",
       "2019-01-01 02:59:33    222.740005\n",
       "2019-01-01 02:59:34    225.089996\n",
       "2019-01-01 02:59:35    226.630005\n",
       "2019-01-01 02:59:36    227.600006\n",
       "2019-01-01 02:59:37    230.220001\n",
       "2019-01-01 02:59:38    228.339996\n",
       "2019-01-01 02:59:39    223.270004\n",
       "2019-01-01 02:59:40    218.979996\n",
       "2019-01-01 02:59:41    209.919998\n",
       "2019-01-01 02:59:42    202.220001\n",
       "2019-01-01 02:59:43    206.119995\n",
       "2019-01-01 02:59:44    212.279999\n",
       "2019-01-01 02:59:45    213.789993\n",
       "2019-01-01 02:59:46    214.220001\n",
       "2019-01-01 02:59:47    206.820007\n",
       "2019-01-01 02:59:48    206.880005\n",
       "2019-01-01 02:59:49    208.309998\n",
       "2019-01-01 02:59:50    211.860001\n",
       "Freq: S, Length: 10791, dtype: float32"
      ]
     },
     "execution_count": 94,
     "metadata": {},
     "output_type": "execute_result"
    }
   ],
   "source": [
    "test_series"
   ]
  },
  {
   "cell_type": "code",
   "execution_count": null,
   "metadata": {},
   "outputs": [],
   "source": []
  }
 ],
 "metadata": {
  "kernelspec": {
   "display_name": "Python 3",
   "language": "python",
   "name": "python3"
  },
  "language_info": {
   "codemirror_mode": {
    "name": "ipython",
    "version": 3
   },
   "file_extension": ".py",
   "mimetype": "text/x-python",
   "name": "python",
   "nbconvert_exporter": "python",
   "pygments_lexer": "ipython3",
   "version": "3.6.10"
  }
 },
 "nbformat": 4,
 "nbformat_minor": 2
}
