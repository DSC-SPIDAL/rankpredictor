{
 "cells": [
  {
   "cell_type": "markdown",
   "metadata": {},
   "source": [
    "# DeepAR on simulation indy500 laptime dataset\n",
    "\n",
    "laptime dataset\n",
    "<eventid, carids, laptime (totalcars x totallaps)>"
   ]
  },
  {
   "cell_type": "code",
   "execution_count": 1,
   "metadata": {},
   "outputs": [],
   "source": [
    "# Third-party imports\n",
    "%matplotlib inline\n",
    "import mxnet as mx\n",
    "from mxnet import gluon\n",
    "import numpy as np\n",
    "import pandas as pd\n",
    "import matplotlib.pyplot as plt\n",
    "import json"
   ]
  },
  {
   "cell_type": "markdown",
   "metadata": {},
   "source": [
    "## Datasets\n"
   ]
  },
  {
   "cell_type": "code",
   "execution_count": 2,
   "metadata": {},
   "outputs": [],
   "source": [
    "import pickle\n",
    "with open('sim-indy500-laptime-2018.pickle', 'rb') as f:\n",
    "    # The protocol version used is detected automatically, so we do not\n",
    "    # have to specify it.\n",
    "    laptime_data = pickle.load(f, encoding='latin1')"
   ]
  },
  {
   "cell_type": "code",
   "execution_count": 3,
   "metadata": {},
   "outputs": [
    {
     "name": "stdout",
     "output_type": "stream",
     "text": [
      "number of runs: 120\n"
     ]
    }
   ],
   "source": [
    "print(f\"number of runs: {len(laptime_data)}\")"
   ]
  },
  {
   "cell_type": "markdown",
   "metadata": {},
   "source": [
    "To download one of the built-in datasets, simply call get_dataset with one of the above names. GluonTS can re-use the saved dataset so that it does not need to be downloaded again: simply set `regenerate=False`."
   ]
  },
  {
   "cell_type": "code",
   "execution_count": 4,
   "metadata": {},
   "outputs": [
    {
     "data": {
      "text/plain": [
       "array([[40.352245, 43.218563, 41.9024  , ..., 42.820602, 41.368828,\n",
       "        42.138153],\n",
       "       [41.667377, 41.910473, 42.317444, ..., 41.966064, 41.074497,\n",
       "        41.592945],\n",
       "       [41.92382 , 41.59292 , 41.28393 , ..., 54.398525, 66.5002  ,\n",
       "        42.472385],\n",
       "       ...,\n",
       "       [43.10438 , 40.880608, 41.726143, ..., 42.130272, 41.089073,\n",
       "        43.263035],\n",
       "       [41.25949 , 42.590233, 43.083977, ..., 42.671246, 43.1373  ,\n",
       "        41.445827],\n",
       "       [41.704525, 42.149868, 42.95242 , ..., 42.41794 , 42.94077 ,\n",
       "        41.149597]], dtype=float32)"
      ]
     },
     "execution_count": 4,
     "metadata": {},
     "output_type": "execute_result"
    }
   ],
   "source": [
    "laptime_data[2][2].astype(np.float32)"
   ]
  },
  {
   "cell_type": "code",
   "execution_count": 6,
   "metadata": {},
   "outputs": [],
   "source": [
    "from gluonts.dataset.common import ListDataset\n",
    "prediction_length = 50\n",
    "freq = \"1H\"\n",
    "start = pd.Timestamp(\"01-01-2019\", freq=freq)  # can be different for each time series\n",
    "\n",
    "train_set = []\n",
    "test_set = []\n",
    "cardinality = []\n",
    "#_data: eventid, carids, laptime array\n",
    "for _data in laptime_data:\n",
    "    #_train = [{'target': x.astype(np.float32), 'start': start} \n",
    "    #        for x in _data[2][:, :-prediction_length]]\n",
    "    #_test = [{'target': x.astype(np.float32), 'start': start} \n",
    "    #        for x in _data[2]]\n",
    "    carids = list(_data[1].values())\n",
    "    _train = [{'target': _data[2][rowid, :-prediction_length].astype(np.float32), 'start': start, \n",
    "               'feat_static_cat': rowid}             \n",
    "            for rowid in range(_data[2].shape[0]) ]\n",
    "    _test = [{'target': _data[2][rowid, :].astype(np.float32), 'start': start, 'feat_static_cat': rowid} \n",
    "            for rowid in range(_data[2].shape[0]) ]\n",
    "    \n",
    "    train_set.extend(_train)\n",
    "    test_set.extend(_test)\n",
    "    cardinality.append(len(carids))\n",
    "\n",
    "\n"
   ]
  },
  {
   "cell_type": "code",
   "execution_count": 19,
   "metadata": {},
   "outputs": [
    {
     "data": {
      "text/plain": [
       "array([32], dtype=int32)"
      ]
     },
     "execution_count": 19,
     "metadata": {},
     "output_type": "execute_result"
    }
   ],
   "source": [
    "train_set[32]['feat_static_cat']"
   ]
  },
  {
   "cell_type": "code",
   "execution_count": 7,
   "metadata": {},
   "outputs": [],
   "source": [
    "# train dataset: cut the last window of length \"prediction_length\", add \"target\" and \"start\" fields\n",
    "train_ds = ListDataset(train_set, freq=freq)\n",
    "# test dataset: use the whole dataset, add \"target\" and \"start\" fields\n",
    "test_ds = ListDataset(test_set, freq=freq)"
   ]
  },
  {
   "cell_type": "markdown",
   "metadata": {},
   "source": [
    "In general, the datasets provided by GluonTS are objects that consists of three main members:\n",
    "\n",
    "- `dataset.train` is an iterable collection of data entries used for training. Each entry corresponds to one time series\n",
    "- `dataset.test` is an iterable collection of data entries used for inference. The test dataset is an extended version of the train dataset that contains a window in the end of each time series that was not seen during training. This window has length equal to the recommended prediction length.\n",
    "- `dataset.metadata` contains metadata of the dataset such as the frequency of the time series, a recommended prediction horizon, associated features, etc."
   ]
  },
  {
   "cell_type": "code",
   "execution_count": 8,
   "metadata": {},
   "outputs": [
    {
     "data": {
      "image/png": "[encoded data removed]",
      "text/plain": [
       "<Figure size 432x288 with 1 Axes>"
      ]
     },
     "metadata": {
      "needs_background": "light"
     },
     "output_type": "display_data"
    }
   ],
   "source": [
    "from gluonts.dataset.util import to_pandas\n",
    "entry = next(iter(train_ds))\n",
    "train_series = to_pandas(entry)\n",
    "train_series.plot()\n",
    "plt.grid(which=\"both\")\n",
    "plt.legend([\"train series\"], loc=\"upper left\")\n",
    "plt.show()"
   ]
  },
  {
   "cell_type": "code",
   "execution_count": 9,
   "metadata": {},
   "outputs": [
    {
     "data": {
      "image/png": "[encoded data removed]",
      "text/plain": [
       "<Figure size 432x288 with 1 Axes>"
      ]
     },
     "metadata": {
      "needs_background": "light"
     },
     "output_type": "display_data"
    }
   ],
   "source": [
    "entry = next(iter(test_ds))\n",
    "test_series = to_pandas(entry)\n",
    "test_series.plot()\n",
    "plt.axvline(train_series.index[-1], color='r') # end of train dataset\n",
    "plt.grid(which=\"both\")\n",
    "plt.legend([\"test series\", \"end of train series\"], loc=\"upper left\")\n",
    "plt.show()"
   ]
  },
  {
   "cell_type": "code",
   "execution_count": 10,
   "metadata": {},
   "outputs": [
    {
     "name": "stdout",
     "output_type": "stream",
     "text": [
      "Length of forecasting window in test dataset: 50\n",
      "Recommended prediction horizon: 50\n",
      "Frequency of the time series: 1H\n"
     ]
    }
   ],
   "source": [
    "print(f\"Length of forecasting window in test dataset: {len(test_series) - len(train_series)}\")\n",
    "print(f\"Recommended prediction horizon: {prediction_length}\")\n",
    "print(f\"Frequency of the time series: {freq}\")"
   ]
  },
  {
   "cell_type": "markdown",
   "metadata": {},
   "source": [
    "## Training an existing model (`Estimator`)\n",
    "\n",
    "GluonTS comes with a number of pre-built models. All the user needs to do is configure some hyperparameters. The existing models focus on (but are not limited to) probabilistic forecasting. Probabilistic forecasts are predictions in the form of a probability distribution, rather than simply a single point estimate.\n",
    "\n",
    "We will begin with GulonTS's pre-built feedforward neural network estimator, a simple but powerful forecasting model. We will use this model to demonstrate the process of training a model, producing forecasts, and evaluating the results.\n",
    "\n",
    "GluonTS's built-in feedforward neural network (`SimpleFeedForwardEstimator`) accepts an input window of length `context_length` and predicts the distribution of the values of the subsequent `prediction_length` values. In GluonTS parlance, the feedforward neural network model is an example of `Estimator`. In GluonTS, `Estimator` objects represent a forecasting model as well as details such as its coefficients, weights, etc.\n",
    "\n",
    "In general, each estimator (pre-built or custom) is configured by a number of hyperparameters that can be either common (but not binding) among all estimators (e.g., the `prediction_length`) or specific for the particular estimator (e.g., number of layers for a neural network or the stride in a CNN).\n",
    "\n",
    "Finally, each estimator is configured by a `Trainer`, which defines how the model will be trained i.e., the number of epochs, the learning rate, etc."
   ]
  },
  {
   "cell_type": "code",
   "execution_count": 11,
   "metadata": {},
   "outputs": [
    {
     "name": "stderr",
     "output_type": "stream",
     "text": [
      "INFO:root:Using GPU\n"
     ]
    }
   ],
   "source": [
    "from gluonts.model.deepar import DeepAREstimator\n",
    "from gluonts.trainer import Trainer"
   ]
  },
  {
   "cell_type": "code",
   "execution_count": 41,
   "metadata": {},
   "outputs": [],
   "source": [
    "estimator = DeepAREstimator(\n",
    "    prediction_length=prediction_length,\n",
    "    context_length=2*prediction_length,\n",
    "    use_feat_static_cat=True,\n",
    "    cardinality=[33],\n",
    "    freq=freq,\n",
    "    trainer=Trainer(ctx=\"cpu\", \n",
    "                    epochs=100, \n",
    "                    learning_rate=1e-3, \n",
    "                    num_batches_per_epoch=64\n",
    "                   )\n",
    ")"
   ]
  },
  {
   "cell_type": "code",
   "execution_count": 28,
   "metadata": {},
   "outputs": [
    {
     "name": "stderr",
     "output_type": "stream",
     "text": [
      "INFO:root:Using GPU\n"
     ]
    }
   ],
   "source": [
    "from gluonts.model.simple_feedforward import SimpleFeedForwardEstimator\n",
    "estimator = SimpleFeedForwardEstimator(\n",
    "    num_hidden_dimensions=[10],\n",
    "    prediction_length=prediction_length,\n",
    "    context_length=2*prediction_length,\n",
    "    freq=freq,\n",
    "    trainer=Trainer(ctx=\"cpu\",\n",
    "                    epochs=5,\n",
    "                    learning_rate=1e-3,\n",
    "                    hybridize=False,\n",
    "                    num_batches_per_epoch=100\n",
    "                   )\n",
    ")"
   ]
  },
  {
   "cell_type": "markdown",
   "metadata": {},
   "source": [
    "After specifying our estimator with all the necessary hyperparameters we can train it using our training dataset `dataset.train` by invoking the `train` method of the estimator. The training algorithm returns a fitted model (or a `Predictor` in GluonTS parlance) that can be used to construct forecasts."
   ]
  },
  {
   "cell_type": "code",
   "execution_count": 42,
   "metadata": {},
   "outputs": [
    {
     "name": "stderr",
     "output_type": "stream",
     "text": [
      "INFO:root:Start model training\n",
      "INFO:root:Epoch[0] Learning rate is 0.001\n",
      "  0%|          | 0/64 [00:00<?, ?it/s]INFO:root:Number of parameters in DeepARTrainingNetwork: 30764\n",
      "100%|██████████| 64/64 [00:12<00:00,  5.10it/s, avg_epoch_loss=3.24]\n",
      "INFO:root:Epoch[0] Elapsed time 12.559 seconds\n",
      "INFO:root:Epoch[0] Evaluation metric 'epoch_loss'=3.235555\n",
      "INFO:root:Epoch[1] Learning rate is 0.001\n",
      "100%|██████████| 64/64 [00:11<00:00,  5.42it/s, avg_epoch_loss=2.04]\n",
      "INFO:root:Epoch[1] Elapsed time 11.813 seconds\n",
      "INFO:root:Epoch[1] Evaluation metric 'epoch_loss'=2.040258\n",
      "INFO:root:Epoch[2] Learning rate is 0.001\n",
      "100%|██████████| 64/64 [00:11<00:00,  5.46it/s, avg_epoch_loss=1.94]\n",
      "INFO:root:Epoch[2] Elapsed time 11.727 seconds\n",
      "INFO:root:Epoch[2] Evaluation metric 'epoch_loss'=1.941721\n",
      "INFO:root:Epoch[3] Learning rate is 0.001\n",
      "100%|██████████| 64/64 [00:11<00:00,  5.45it/s, avg_epoch_loss=1.93]\n",
      "INFO:root:Epoch[3] Elapsed time 11.751 seconds\n",
      "INFO:root:Epoch[3] Evaluation metric 'epoch_loss'=1.925145\n",
      "INFO:root:Epoch[4] Learning rate is 0.001\n",
      "100%|██████████| 64/64 [00:11<00:00,  5.52it/s, avg_epoch_loss=1.93]\n",
      "INFO:root:Epoch[4] Elapsed time 11.591 seconds\n",
      "INFO:root:Epoch[4] Evaluation metric 'epoch_loss'=1.928647\n",
      "INFO:root:Epoch[5] Learning rate is 0.001\n",
      "100%|██████████| 64/64 [00:11<00:00,  5.49it/s, avg_epoch_loss=1.89]\n",
      "INFO:root:Epoch[5] Elapsed time 11.655 seconds\n",
      "INFO:root:Epoch[5] Evaluation metric 'epoch_loss'=1.885286\n",
      "INFO:root:Epoch[6] Learning rate is 0.001\n",
      "100%|██████████| 64/64 [00:11<00:00,  5.43it/s, avg_epoch_loss=1.9]\n",
      "INFO:root:Epoch[6] Elapsed time 11.786 seconds\n",
      "INFO:root:Epoch[6] Evaluation metric 'epoch_loss'=1.902772\n",
      "INFO:root:Epoch[7] Learning rate is 0.001\n",
      "100%|██████████| 64/64 [00:11<00:00,  5.46it/s, avg_epoch_loss=1.87]\n",
      "INFO:root:Epoch[7] Elapsed time 11.728 seconds\n",
      "INFO:root:Epoch[7] Evaluation metric 'epoch_loss'=1.871940\n",
      "INFO:root:Epoch[8] Learning rate is 0.001\n",
      "100%|██████████| 64/64 [00:11<00:00,  5.52it/s, avg_epoch_loss=1.88]\n",
      "INFO:root:Epoch[8] Elapsed time 11.601 seconds\n",
      "INFO:root:Epoch[8] Evaluation metric 'epoch_loss'=1.876575\n",
      "INFO:root:Epoch[9] Learning rate is 0.001\n",
      "100%|██████████| 64/64 [00:11<00:00,  5.39it/s, avg_epoch_loss=1.83]\n",
      "INFO:root:Epoch[9] Elapsed time 11.872 seconds\n",
      "INFO:root:Epoch[9] Evaluation metric 'epoch_loss'=1.831139\n",
      "INFO:root:Epoch[10] Learning rate is 0.001\n",
      "100%|██████████| 64/64 [00:11<00:00,  5.45it/s, avg_epoch_loss=1.87]\n",
      "INFO:root:Epoch[10] Elapsed time 11.738 seconds\n",
      "INFO:root:Epoch[10] Evaluation metric 'epoch_loss'=1.865224\n",
      "INFO:root:Epoch[11] Learning rate is 0.001\n",
      "100%|██████████| 64/64 [00:11<00:00,  5.46it/s, avg_epoch_loss=1.85]\n",
      "INFO:root:Epoch[11] Elapsed time 11.717 seconds\n",
      "INFO:root:Epoch[11] Evaluation metric 'epoch_loss'=1.850577\n",
      "INFO:root:Epoch[12] Learning rate is 0.001\n",
      "100%|██████████| 64/64 [00:11<00:00,  5.50it/s, avg_epoch_loss=1.87]\n",
      "INFO:root:Epoch[12] Elapsed time 11.644 seconds\n",
      "INFO:root:Epoch[12] Evaluation metric 'epoch_loss'=1.867616\n",
      "INFO:root:Epoch[13] Learning rate is 0.001\n",
      "100%|██████████| 64/64 [00:11<00:00,  5.47it/s, avg_epoch_loss=1.85]\n",
      "INFO:root:Epoch[13] Elapsed time 11.695 seconds\n",
      "INFO:root:Epoch[13] Evaluation metric 'epoch_loss'=1.849015\n",
      "INFO:root:Epoch[14] Learning rate is 0.001\n",
      "100%|██████████| 64/64 [00:11<00:00,  5.46it/s, avg_epoch_loss=1.84]\n",
      "INFO:root:Epoch[14] Elapsed time 11.726 seconds\n",
      "INFO:root:Epoch[14] Evaluation metric 'epoch_loss'=1.840966\n",
      "INFO:root:Epoch[15] Learning rate is 0.001\n",
      "100%|██████████| 64/64 [00:11<00:00,  5.46it/s, avg_epoch_loss=1.88]\n",
      "INFO:root:Epoch[15] Elapsed time 11.715 seconds\n",
      "INFO:root:Epoch[15] Evaluation metric 'epoch_loss'=1.884360\n",
      "INFO:root:Epoch[16] Learning rate is 0.001\n",
      "100%|██████████| 64/64 [00:11<00:00,  5.43it/s, avg_epoch_loss=1.86]\n",
      "INFO:root:Epoch[16] Elapsed time 11.782 seconds\n",
      "INFO:root:Epoch[16] Evaluation metric 'epoch_loss'=1.862809\n",
      "INFO:root:Epoch[17] Learning rate is 0.001\n",
      "100%|██████████| 64/64 [00:11<00:00,  5.43it/s, avg_epoch_loss=1.83]\n",
      "INFO:root:Epoch[17] Elapsed time 11.779 seconds\n",
      "INFO:root:Epoch[17] Evaluation metric 'epoch_loss'=1.828703\n",
      "INFO:root:Epoch[18] Learning rate is 0.001\n",
      "100%|██████████| 64/64 [00:11<00:00,  5.48it/s, avg_epoch_loss=1.83]\n",
      "INFO:root:Epoch[18] Elapsed time 11.690 seconds\n",
      "INFO:root:Epoch[18] Evaluation metric 'epoch_loss'=1.833642\n",
      "INFO:root:Epoch[19] Learning rate is 0.001\n",
      "100%|██████████| 64/64 [00:11<00:00,  5.48it/s, avg_epoch_loss=1.85]\n",
      "INFO:root:Epoch[19] Elapsed time 11.690 seconds\n",
      "INFO:root:Epoch[19] Evaluation metric 'epoch_loss'=1.847331\n",
      "INFO:root:Epoch[20] Learning rate is 0.001\n",
      "100%|██████████| 64/64 [00:11<00:00,  5.47it/s, avg_epoch_loss=1.85]\n",
      "INFO:root:Epoch[20] Elapsed time 11.695 seconds\n",
      "INFO:root:Epoch[20] Evaluation metric 'epoch_loss'=1.846526\n",
      "INFO:root:Epoch[21] Learning rate is 0.001\n",
      "100%|██████████| 64/64 [00:11<00:00,  5.45it/s, avg_epoch_loss=1.83]\n",
      "INFO:root:Epoch[21] Elapsed time 11.737 seconds\n",
      "INFO:root:Epoch[21] Evaluation metric 'epoch_loss'=1.829240\n",
      "INFO:root:Epoch[22] Learning rate is 0.001\n",
      "100%|██████████| 64/64 [00:11<00:00,  5.42it/s, avg_epoch_loss=1.82]\n",
      "INFO:root:Epoch[22] Elapsed time 11.800 seconds\n",
      "INFO:root:Epoch[22] Evaluation metric 'epoch_loss'=1.823897\n",
      "INFO:root:Epoch[23] Learning rate is 0.001\n",
      "100%|██████████| 64/64 [00:11<00:00,  5.47it/s, avg_epoch_loss=1.82]\n",
      "INFO:root:Epoch[23] Elapsed time 11.706 seconds\n",
      "INFO:root:Epoch[23] Evaluation metric 'epoch_loss'=1.816919\n",
      "INFO:root:Epoch[24] Learning rate is 0.001\n",
      "100%|██████████| 64/64 [00:11<00:00,  5.50it/s, avg_epoch_loss=1.8]\n",
      "INFO:root:Epoch[24] Elapsed time 11.635 seconds\n",
      "INFO:root:Epoch[24] Evaluation metric 'epoch_loss'=1.803201\n",
      "INFO:root:Epoch[25] Learning rate is 0.001\n",
      "100%|██████████| 64/64 [00:11<00:00,  5.50it/s, avg_epoch_loss=1.82]\n",
      "INFO:root:Epoch[25] Elapsed time 11.634 seconds\n",
      "INFO:root:Epoch[25] Evaluation metric 'epoch_loss'=1.822270\n",
      "INFO:root:Epoch[26] Learning rate is 0.001\n",
      "100%|██████████| 64/64 [00:11<00:00,  5.45it/s, avg_epoch_loss=1.82]\n",
      "INFO:root:Epoch[26] Elapsed time 11.753 seconds\n",
      "INFO:root:Epoch[26] Evaluation metric 'epoch_loss'=1.815782\n",
      "INFO:root:Epoch[27] Learning rate is 0.001\n",
      "100%|██████████| 64/64 [00:11<00:00,  5.42it/s, avg_epoch_loss=1.82]\n",
      "INFO:root:Epoch[27] Elapsed time 11.806 seconds\n",
      "INFO:root:Epoch[27] Evaluation metric 'epoch_loss'=1.818790\n",
      "INFO:root:Epoch[28] Learning rate is 0.001\n",
      "100%|██████████| 64/64 [00:11<00:00,  5.47it/s, avg_epoch_loss=1.86]\n",
      "INFO:root:Epoch[28] Elapsed time 11.692 seconds\n",
      "INFO:root:Epoch[28] Evaluation metric 'epoch_loss'=1.859956\n",
      "INFO:root:Epoch[29] Learning rate is 0.001\n",
      "100%|██████████| 64/64 [00:11<00:00,  5.46it/s, avg_epoch_loss=1.81]\n",
      "INFO:root:Epoch[29] Elapsed time 11.720 seconds\n",
      "INFO:root:Epoch[29] Evaluation metric 'epoch_loss'=1.811928\n",
      "INFO:root:Epoch[30] Learning rate is 0.001\n",
      "100%|██████████| 64/64 [00:11<00:00,  5.46it/s, avg_epoch_loss=1.84]\n",
      "INFO:root:Epoch[30] Elapsed time 11.730 seconds\n",
      "INFO:root:Epoch[30] Evaluation metric 'epoch_loss'=1.835859\n",
      "INFO:root:Epoch[31] Learning rate is 0.001\n",
      "100%|██████████| 64/64 [00:11<00:00,  5.45it/s, avg_epoch_loss=1.81]\n",
      "INFO:root:Epoch[31] Elapsed time 11.751 seconds\n",
      "INFO:root:Epoch[31] Evaluation metric 'epoch_loss'=1.810452\n",
      "INFO:root:Epoch[32] Learning rate is 0.001\n",
      "100%|██████████| 64/64 [00:11<00:00,  5.48it/s, avg_epoch_loss=1.81]\n",
      "INFO:root:Epoch[32] Elapsed time 11.690 seconds\n",
      "INFO:root:Epoch[32] Evaluation metric 'epoch_loss'=1.810101\n",
      "INFO:root:Epoch[33] Learning rate is 0.001\n",
      "100%|██████████| 64/64 [00:11<00:00,  5.48it/s, avg_epoch_loss=1.8] \n",
      "INFO:root:Epoch[33] Elapsed time 11.683 seconds\n",
      "INFO:root:Epoch[33] Evaluation metric 'epoch_loss'=1.796582\n",
      "INFO:root:Epoch[34] Learning rate is 0.001\n",
      "100%|██████████| 64/64 [00:11<00:00,  5.42it/s, avg_epoch_loss=1.81]\n",
      "INFO:root:Epoch[34] Elapsed time 11.801 seconds\n",
      "INFO:root:Epoch[34] Evaluation metric 'epoch_loss'=1.810549\n",
      "INFO:root:Epoch[35] Learning rate is 0.001\n",
      "100%|██████████| 64/64 [00:11<00:00,  5.45it/s, avg_epoch_loss=1.8] \n",
      "INFO:root:Epoch[35] Elapsed time 11.739 seconds\n",
      "INFO:root:Epoch[35] Evaluation metric 'epoch_loss'=1.804450\n",
      "INFO:root:Epoch[36] Learning rate is 0.001\n",
      "100%|██████████| 64/64 [00:11<00:00,  5.55it/s, avg_epoch_loss=1.8]\n",
      "INFO:root:Epoch[36] Elapsed time 11.525 seconds\n",
      "INFO:root:Epoch[36] Evaluation metric 'epoch_loss'=1.803810\n"
     ]
    },
    {
     "name": "stderr",
     "output_type": "stream",
     "text": [
      "INFO:root:Epoch[37] Learning rate is 0.001\n",
      "100%|██████████| 64/64 [00:11<00:00,  5.47it/s, avg_epoch_loss=1.8] \n",
      "INFO:root:Epoch[37] Elapsed time 11.705 seconds\n",
      "INFO:root:Epoch[37] Evaluation metric 'epoch_loss'=1.795867\n",
      "INFO:root:Epoch[38] Learning rate is 0.001\n",
      "100%|██████████| 64/64 [00:12<00:00,  5.24it/s, avg_epoch_loss=1.81]\n",
      "INFO:root:Epoch[38] Elapsed time 12.222 seconds\n",
      "INFO:root:Epoch[38] Evaluation metric 'epoch_loss'=1.810246\n",
      "INFO:root:Epoch[39] Learning rate is 0.001\n",
      "100%|██████████| 64/64 [00:12<00:00,  5.28it/s, avg_epoch_loss=1.78]\n",
      "INFO:root:Epoch[39] Elapsed time 12.115 seconds\n",
      "INFO:root:Epoch[39] Evaluation metric 'epoch_loss'=1.782837\n",
      "INFO:root:Epoch[40] Learning rate is 0.001\n",
      "100%|██████████| 64/64 [00:11<00:00,  5.52it/s, avg_epoch_loss=1.8]\n",
      "INFO:root:Epoch[40] Elapsed time 11.606 seconds\n",
      "INFO:root:Epoch[40] Evaluation metric 'epoch_loss'=1.798631\n",
      "INFO:root:Epoch[41] Learning rate is 0.001\n",
      "100%|██████████| 64/64 [00:11<00:00,  5.49it/s, avg_epoch_loss=1.78]\n",
      "INFO:root:Epoch[41] Elapsed time 11.668 seconds\n",
      "INFO:root:Epoch[41] Evaluation metric 'epoch_loss'=1.782099\n",
      "INFO:root:Epoch[42] Learning rate is 0.001\n",
      "100%|██████████| 64/64 [00:11<00:00,  5.48it/s, avg_epoch_loss=1.8]\n",
      "INFO:root:Epoch[42] Elapsed time 11.682 seconds\n",
      "INFO:root:Epoch[42] Evaluation metric 'epoch_loss'=1.795089\n",
      "INFO:root:Epoch[43] Learning rate is 0.001\n",
      "100%|██████████| 64/64 [00:11<00:00,  5.42it/s, avg_epoch_loss=1.78]\n",
      "INFO:root:Epoch[43] Elapsed time 11.814 seconds\n",
      "INFO:root:Epoch[43] Evaluation metric 'epoch_loss'=1.781895\n",
      "INFO:root:Epoch[44] Learning rate is 0.001\n",
      "100%|██████████| 64/64 [00:11<00:00,  5.41it/s, avg_epoch_loss=1.77]\n",
      "INFO:root:Epoch[44] Elapsed time 11.834 seconds\n",
      "INFO:root:Epoch[44] Evaluation metric 'epoch_loss'=1.772855\n",
      "INFO:root:Epoch[45] Learning rate is 0.001\n",
      "100%|██████████| 64/64 [00:11<00:00,  5.44it/s, avg_epoch_loss=1.75]\n",
      "INFO:root:Epoch[45] Elapsed time 11.774 seconds\n",
      "INFO:root:Epoch[45] Evaluation metric 'epoch_loss'=1.749011\n",
      "INFO:root:Epoch[46] Learning rate is 0.001\n",
      "100%|██████████| 64/64 [00:11<00:00,  5.52it/s, avg_epoch_loss=1.76]\n",
      "INFO:root:Epoch[46] Elapsed time 11.593 seconds\n",
      "INFO:root:Epoch[46] Evaluation metric 'epoch_loss'=1.764754\n",
      "INFO:root:Epoch[47] Learning rate is 0.001\n",
      "100%|██████████| 64/64 [00:11<00:00,  5.47it/s, avg_epoch_loss=1.74]\n",
      "INFO:root:Epoch[47] Elapsed time 11.694 seconds\n",
      "INFO:root:Epoch[47] Evaluation metric 'epoch_loss'=1.744242\n",
      "INFO:root:Epoch[48] Learning rate is 0.001\n",
      "100%|██████████| 64/64 [00:11<00:00,  5.42it/s, avg_epoch_loss=1.77]\n",
      "INFO:root:Epoch[48] Elapsed time 11.799 seconds\n",
      "INFO:root:Epoch[48] Evaluation metric 'epoch_loss'=1.766190\n",
      "INFO:root:Epoch[49] Learning rate is 0.001\n",
      "100%|██████████| 64/64 [00:11<00:00,  5.46it/s, avg_epoch_loss=1.74]\n",
      "INFO:root:Epoch[49] Elapsed time 11.719 seconds\n",
      "INFO:root:Epoch[49] Evaluation metric 'epoch_loss'=1.744580\n",
      "INFO:root:Epoch[50] Learning rate is 0.001\n",
      "100%|██████████| 64/64 [00:12<00:00,  5.33it/s, avg_epoch_loss=1.77]\n",
      "INFO:root:Epoch[50] Elapsed time 12.006 seconds\n",
      "INFO:root:Epoch[50] Evaluation metric 'epoch_loss'=1.765501\n",
      "INFO:root:Epoch[51] Learning rate is 0.001\n",
      "100%|██████████| 64/64 [00:11<00:00,  5.47it/s, avg_epoch_loss=1.78]\n",
      "INFO:root:Epoch[51] Elapsed time 11.712 seconds\n",
      "INFO:root:Epoch[51] Evaluation metric 'epoch_loss'=1.783662\n",
      "INFO:root:Epoch[52] Learning rate is 0.001\n",
      "100%|██████████| 64/64 [00:11<00:00,  5.48it/s, avg_epoch_loss=1.74]\n",
      "INFO:root:Epoch[52] Elapsed time 11.672 seconds\n",
      "INFO:root:Epoch[52] Evaluation metric 'epoch_loss'=1.735974\n",
      "INFO:root:Epoch[53] Learning rate is 0.001\n",
      "100%|██████████| 64/64 [00:11<00:00,  5.52it/s, avg_epoch_loss=1.71]\n",
      "INFO:root:Epoch[53] Elapsed time 11.588 seconds\n",
      "INFO:root:Epoch[53] Evaluation metric 'epoch_loss'=1.712269\n",
      "INFO:root:Epoch[54] Learning rate is 0.001\n",
      "100%|██████████| 64/64 [00:11<00:00,  5.49it/s, avg_epoch_loss=1.72]\n",
      "INFO:root:Epoch[54] Elapsed time 11.662 seconds\n",
      "INFO:root:Epoch[54] Evaluation metric 'epoch_loss'=1.716894\n",
      "INFO:root:Epoch[55] Learning rate is 0.001\n",
      "100%|██████████| 64/64 [00:11<00:00,  5.51it/s, avg_epoch_loss=1.72]\n",
      "INFO:root:Epoch[55] Elapsed time 11.613 seconds\n",
      "INFO:root:Epoch[55] Evaluation metric 'epoch_loss'=1.721264\n",
      "INFO:root:Epoch[56] Learning rate is 0.001\n",
      "100%|██████████| 64/64 [00:11<00:00,  5.52it/s, avg_epoch_loss=1.71]\n",
      "INFO:root:Epoch[56] Elapsed time 11.589 seconds\n",
      "INFO:root:Epoch[56] Evaluation metric 'epoch_loss'=1.714084\n",
      "INFO:root:Epoch[57] Learning rate is 0.001\n",
      "100%|██████████| 64/64 [00:11<00:00,  5.50it/s, avg_epoch_loss=1.7]\n",
      "INFO:root:Epoch[57] Elapsed time 11.636 seconds\n",
      "INFO:root:Epoch[57] Evaluation metric 'epoch_loss'=1.695782\n",
      "INFO:root:Epoch[58] Learning rate is 0.001\n",
      "100%|██████████| 64/64 [00:11<00:00,  5.50it/s, avg_epoch_loss=1.7]\n",
      "INFO:root:Epoch[58] Elapsed time 11.647 seconds\n",
      "INFO:root:Epoch[58] Evaluation metric 'epoch_loss'=1.700090\n",
      "INFO:root:Epoch[59] Learning rate is 0.001\n",
      "100%|██████████| 64/64 [00:11<00:00,  5.48it/s, avg_epoch_loss=1.7]\n",
      "INFO:root:Epoch[59] Elapsed time 11.676 seconds\n",
      "INFO:root:Epoch[59] Evaluation metric 'epoch_loss'=1.695441\n",
      "INFO:root:Epoch[60] Learning rate is 0.001\n",
      "100%|██████████| 64/64 [00:11<00:00,  5.52it/s, avg_epoch_loss=1.69]\n",
      "INFO:root:Epoch[60] Elapsed time 11.599 seconds\n",
      "INFO:root:Epoch[60] Evaluation metric 'epoch_loss'=1.687552\n",
      "INFO:root:Epoch[61] Learning rate is 0.001\n",
      "100%|██████████| 64/64 [00:11<00:00,  5.48it/s, avg_epoch_loss=1.7]\n",
      "INFO:root:Epoch[61] Elapsed time 11.683 seconds\n",
      "INFO:root:Epoch[61] Evaluation metric 'epoch_loss'=1.696787\n",
      "INFO:root:Epoch[62] Learning rate is 0.001\n",
      "100%|██████████| 64/64 [00:11<00:00,  5.52it/s, avg_epoch_loss=1.68]\n",
      "INFO:root:Epoch[62] Elapsed time 11.604 seconds\n",
      "INFO:root:Epoch[62] Evaluation metric 'epoch_loss'=1.679935\n",
      "INFO:root:Epoch[63] Learning rate is 0.001\n",
      "100%|██████████| 64/64 [00:11<00:00,  5.50it/s, avg_epoch_loss=1.69]\n",
      "INFO:root:Epoch[63] Elapsed time 11.646 seconds\n",
      "INFO:root:Epoch[63] Evaluation metric 'epoch_loss'=1.686947\n",
      "INFO:root:Epoch[64] Learning rate is 0.001\n",
      "100%|██████████| 64/64 [00:11<00:00,  5.44it/s, avg_epoch_loss=1.66]\n",
      "INFO:root:Epoch[64] Elapsed time 11.771 seconds\n",
      "INFO:root:Epoch[64] Evaluation metric 'epoch_loss'=1.664179\n",
      "INFO:root:Epoch[65] Learning rate is 0.001\n",
      "100%|██████████| 64/64 [00:11<00:00,  5.49it/s, avg_epoch_loss=1.66]\n",
      "INFO:root:Epoch[65] Elapsed time 11.662 seconds\n",
      "INFO:root:Epoch[65] Evaluation metric 'epoch_loss'=1.655722\n",
      "INFO:root:Epoch[66] Learning rate is 0.001\n",
      "100%|██████████| 64/64 [00:11<00:00,  5.49it/s, avg_epoch_loss=1.66]\n",
      "INFO:root:Epoch[66] Elapsed time 11.651 seconds\n",
      "INFO:root:Epoch[66] Evaluation metric 'epoch_loss'=1.657046\n",
      "INFO:root:Epoch[67] Learning rate is 0.001\n",
      "100%|██████████| 64/64 [00:11<00:00,  5.47it/s, avg_epoch_loss=1.66]\n",
      "INFO:root:Epoch[67] Elapsed time 11.691 seconds\n",
      "INFO:root:Epoch[67] Evaluation metric 'epoch_loss'=1.656031\n",
      "INFO:root:Epoch[68] Learning rate is 0.001\n",
      "100%|██████████| 64/64 [00:11<00:00,  5.46it/s, avg_epoch_loss=1.67]\n",
      "INFO:root:Epoch[68] Elapsed time 11.723 seconds\n",
      "INFO:root:Epoch[68] Evaluation metric 'epoch_loss'=1.673693\n",
      "INFO:root:Epoch[69] Learning rate is 0.001\n",
      "100%|██████████| 64/64 [00:11<00:00,  5.44it/s, avg_epoch_loss=1.65]\n",
      "INFO:root:Epoch[69] Elapsed time 11.774 seconds\n",
      "INFO:root:Epoch[69] Evaluation metric 'epoch_loss'=1.647853\n",
      "INFO:root:Epoch[70] Learning rate is 0.001\n",
      "100%|██████████| 64/64 [00:11<00:00,  5.53it/s, avg_epoch_loss=1.64]\n",
      "INFO:root:Epoch[70] Elapsed time 11.572 seconds\n",
      "INFO:root:Epoch[70] Evaluation metric 'epoch_loss'=1.640909\n",
      "INFO:root:Epoch[71] Learning rate is 0.001\n",
      "100%|██████████| 64/64 [00:11<00:00,  5.45it/s, avg_epoch_loss=1.68]\n",
      "INFO:root:Epoch[71] Elapsed time 11.754 seconds\n",
      "INFO:root:Epoch[71] Evaluation metric 'epoch_loss'=1.680390\n",
      "INFO:root:Epoch[72] Learning rate is 0.001\n",
      "100%|██████████| 64/64 [00:11<00:00,  5.48it/s, avg_epoch_loss=1.63]\n",
      "INFO:root:Epoch[72] Elapsed time 11.672 seconds\n",
      "INFO:root:Epoch[72] Evaluation metric 'epoch_loss'=1.631117\n",
      "INFO:root:Epoch[73] Learning rate is 0.001\n",
      "100%|██████████| 64/64 [00:11<00:00,  5.49it/s, avg_epoch_loss=1.63]\n",
      "INFO:root:Epoch[73] Elapsed time 11.657 seconds\n",
      "INFO:root:Epoch[73] Evaluation metric 'epoch_loss'=1.627017\n",
      "INFO:root:Epoch[74] Learning rate is 0.001\n"
     ]
    },
    {
     "name": "stderr",
     "output_type": "stream",
     "text": [
      "100%|██████████| 64/64 [00:11<00:00,  5.42it/s, avg_epoch_loss=1.61]\n",
      "INFO:root:Epoch[74] Elapsed time 11.802 seconds\n",
      "INFO:root:Epoch[74] Evaluation metric 'epoch_loss'=1.613442\n",
      "INFO:root:Epoch[75] Learning rate is 0.001\n",
      "100%|██████████| 64/64 [00:11<00:00,  5.45it/s, avg_epoch_loss=1.63]\n",
      "INFO:root:Epoch[75] Elapsed time 11.738 seconds\n",
      "INFO:root:Epoch[75] Evaluation metric 'epoch_loss'=1.630203\n",
      "INFO:root:Epoch[76] Learning rate is 0.001\n",
      "100%|██████████| 64/64 [00:11<00:00,  5.51it/s, avg_epoch_loss=1.62]\n",
      "INFO:root:Epoch[76] Elapsed time 11.623 seconds\n",
      "INFO:root:Epoch[76] Evaluation metric 'epoch_loss'=1.621834\n",
      "INFO:root:Epoch[77] Learning rate is 0.001\n",
      "100%|██████████| 64/64 [00:11<00:00,  5.50it/s, avg_epoch_loss=1.62]\n",
      "INFO:root:Epoch[77] Elapsed time 11.637 seconds\n",
      "INFO:root:Epoch[77] Evaluation metric 'epoch_loss'=1.617092\n",
      "INFO:root:Epoch[78] Learning rate is 0.001\n",
      "100%|██████████| 64/64 [00:11<00:00,  5.49it/s, avg_epoch_loss=1.62]\n",
      "INFO:root:Epoch[78] Elapsed time 11.666 seconds\n",
      "INFO:root:Epoch[78] Evaluation metric 'epoch_loss'=1.624014\n",
      "INFO:root:Epoch[79] Learning rate is 0.001\n",
      "100%|██████████| 64/64 [00:11<00:00,  5.51it/s, avg_epoch_loss=1.63]\n",
      "INFO:root:Epoch[79] Elapsed time 11.620 seconds\n",
      "INFO:root:Epoch[79] Evaluation metric 'epoch_loss'=1.625566\n",
      "INFO:root:Epoch[80] Learning rate is 0.001\n",
      "100%|██████████| 64/64 [00:11<00:00,  5.50it/s, avg_epoch_loss=1.62]\n",
      "INFO:root:Epoch[80] Elapsed time 11.629 seconds\n",
      "INFO:root:Epoch[80] Evaluation metric 'epoch_loss'=1.616963\n",
      "INFO:root:Epoch[81] Learning rate is 0.001\n",
      "100%|██████████| 64/64 [00:11<00:00,  5.50it/s, avg_epoch_loss=1.62]\n",
      "INFO:root:Epoch[81] Elapsed time 11.640 seconds\n",
      "INFO:root:Epoch[81] Evaluation metric 'epoch_loss'=1.616437\n",
      "INFO:root:Epoch[82] Learning rate is 0.001\n",
      "100%|██████████| 64/64 [00:11<00:00,  5.34it/s, avg_epoch_loss=1.61]\n",
      "INFO:root:Epoch[82] Elapsed time 11.993 seconds\n",
      "INFO:root:Epoch[82] Evaluation metric 'epoch_loss'=1.606389\n",
      "INFO:root:Epoch[83] Learning rate is 0.001\n",
      "100%|██████████| 64/64 [00:11<00:00,  5.46it/s, avg_epoch_loss=1.61]\n",
      "INFO:root:Epoch[83] Elapsed time 11.727 seconds\n",
      "INFO:root:Epoch[83] Evaluation metric 'epoch_loss'=1.610568\n",
      "INFO:root:Epoch[84] Learning rate is 0.001\n",
      "100%|██████████| 64/64 [00:11<00:00,  5.42it/s, avg_epoch_loss=1.62]\n",
      "INFO:root:Epoch[84] Elapsed time 11.816 seconds\n",
      "INFO:root:Epoch[84] Evaluation metric 'epoch_loss'=1.617672\n",
      "INFO:root:Epoch[85] Learning rate is 0.001\n",
      "100%|██████████| 64/64 [00:11<00:00,  5.43it/s, avg_epoch_loss=1.62]\n",
      "INFO:root:Epoch[85] Elapsed time 11.795 seconds\n",
      "INFO:root:Epoch[85] Evaluation metric 'epoch_loss'=1.621958\n",
      "INFO:root:Epoch[86] Learning rate is 0.001\n",
      "100%|██████████| 64/64 [00:12<00:00,  5.22it/s, avg_epoch_loss=1.6]\n",
      "INFO:root:Epoch[86] Elapsed time 12.258 seconds\n",
      "INFO:root:Epoch[86] Evaluation metric 'epoch_loss'=1.601391\n",
      "INFO:root:Epoch[87] Learning rate is 0.001\n",
      "100%|██████████| 64/64 [00:11<00:00,  5.40it/s, avg_epoch_loss=1.62]\n",
      "INFO:root:Epoch[87] Elapsed time 11.847 seconds\n",
      "INFO:root:Epoch[87] Evaluation metric 'epoch_loss'=1.621723\n",
      "INFO:root:Epoch[88] Learning rate is 0.001\n",
      "100%|██████████| 64/64 [00:11<00:00,  5.45it/s, avg_epoch_loss=1.61]\n",
      "INFO:root:Epoch[88] Elapsed time 11.748 seconds\n",
      "INFO:root:Epoch[88] Evaluation metric 'epoch_loss'=1.608480\n",
      "INFO:root:Epoch[89] Learning rate is 0.001\n",
      "100%|██████████| 64/64 [00:11<00:00,  5.47it/s, avg_epoch_loss=1.61]\n",
      "INFO:root:Epoch[89] Elapsed time 11.707 seconds\n",
      "INFO:root:Epoch[89] Evaluation metric 'epoch_loss'=1.609971\n",
      "INFO:root:Epoch[90] Learning rate is 0.001\n",
      "100%|██████████| 64/64 [00:11<00:00,  5.48it/s, avg_epoch_loss=1.61]\n",
      "INFO:root:Epoch[90] Elapsed time 11.674 seconds\n",
      "INFO:root:Epoch[90] Evaluation metric 'epoch_loss'=1.610763\n",
      "INFO:root:Epoch[91] Learning rate is 0.001\n",
      "100%|██████████| 64/64 [00:11<00:00,  5.48it/s, avg_epoch_loss=1.6]\n",
      "INFO:root:Epoch[91] Elapsed time 11.685 seconds\n",
      "INFO:root:Epoch[91] Evaluation metric 'epoch_loss'=1.599860\n",
      "INFO:root:Epoch[92] Learning rate is 0.001\n",
      "100%|██████████| 64/64 [00:11<00:00,  5.45it/s, avg_epoch_loss=1.59]\n",
      "INFO:root:Epoch[92] Elapsed time 11.748 seconds\n",
      "INFO:root:Epoch[92] Evaluation metric 'epoch_loss'=1.591907\n",
      "INFO:root:Epoch[93] Learning rate is 0.001\n",
      "100%|██████████| 64/64 [00:11<00:00,  5.49it/s, avg_epoch_loss=1.6]\n",
      "INFO:root:Epoch[93] Elapsed time 11.664 seconds\n",
      "INFO:root:Epoch[93] Evaluation metric 'epoch_loss'=1.600118\n",
      "INFO:root:Epoch[94] Learning rate is 0.001\n",
      "100%|██████████| 64/64 [00:11<00:00,  5.48it/s, avg_epoch_loss=1.6]\n",
      "INFO:root:Epoch[94] Elapsed time 11.683 seconds\n",
      "INFO:root:Epoch[94] Evaluation metric 'epoch_loss'=1.598839\n",
      "INFO:root:Epoch[95] Learning rate is 0.001\n",
      "100%|██████████| 64/64 [00:11<00:00,  5.40it/s, avg_epoch_loss=1.61]\n",
      "INFO:root:Epoch[95] Elapsed time 11.863 seconds\n",
      "INFO:root:Epoch[95] Evaluation metric 'epoch_loss'=1.610347\n",
      "INFO:root:Epoch[96] Learning rate is 0.001\n",
      "100%|██████████| 64/64 [00:11<00:00,  5.40it/s, avg_epoch_loss=1.62]\n",
      "INFO:root:Epoch[96] Elapsed time 11.847 seconds\n",
      "INFO:root:Epoch[96] Evaluation metric 'epoch_loss'=1.616089\n",
      "INFO:root:Epoch[97] Learning rate is 0.001\n",
      "100%|██████████| 64/64 [00:11<00:00,  5.35it/s, avg_epoch_loss=1.61]\n",
      "INFO:root:Epoch[97] Elapsed time 11.962 seconds\n",
      "INFO:root:Epoch[97] Evaluation metric 'epoch_loss'=1.607768\n",
      "INFO:root:Epoch[98] Learning rate is 0.001\n",
      "100%|██████████| 64/64 [00:11<00:00,  5.39it/s, avg_epoch_loss=1.6]\n",
      "INFO:root:Epoch[98] Elapsed time 11.876 seconds\n",
      "INFO:root:Epoch[98] Evaluation metric 'epoch_loss'=1.598816\n",
      "INFO:root:Epoch[99] Learning rate is 0.001\n",
      "100%|██████████| 64/64 [00:11<00:00,  5.40it/s, avg_epoch_loss=1.59]\n",
      "INFO:root:Epoch[99] Elapsed time 11.852 seconds\n",
      "INFO:root:Epoch[99] Evaluation metric 'epoch_loss'=1.589481\n",
      "INFO:root:Loading parameters from best epoch (99)\n",
      "INFO:root:Final loss: 1.589480509981513 (occurred at epoch 99)\n",
      "INFO:root:End model training\n"
     ]
    }
   ],
   "source": [
    "predictor = estimator.train(train_ds)"
   ]
  },
  {
   "cell_type": "markdown",
   "metadata": {},
   "source": [
    "With a predictor in hand, we can now predict the last window of the `dataset.test` and evaluate our model's performance.\n",
    "\n",
    "GluonTS comes with the `make_evaluation_predictions` function that automates the process of prediction and model evaluation. Roughly, this function performs the following steps:\n",
    "\n",
    "- Removes the final window of length `prediction_length` of the `dataset.test` that we want to predict\n",
    "- The estimator uses the remaining data to predict (in the form of sample paths) the \"future\" window that was just removed\n",
    "- The module outputs the forecast sample paths and the `dataset.test` (as python generator objects)"
   ]
  },
  {
   "cell_type": "code",
   "execution_count": 43,
   "metadata": {},
   "outputs": [],
   "source": [
    "from gluonts.evaluation.backtest import make_evaluation_predictions"
   ]
  },
  {
   "cell_type": "code",
   "execution_count": 44,
   "metadata": {},
   "outputs": [],
   "source": [
    "forecast_it, ts_it = make_evaluation_predictions(\n",
    "    dataset=test_ds,  # test dataset\n",
    "    predictor=predictor,  # predictor\n",
    "    num_samples=100,  # number of sample paths we want for evaluation\n",
    ")"
   ]
  },
  {
   "cell_type": "markdown",
   "metadata": {},
   "source": [
    "First, we can convert these generators to lists to ease the subsequent computations."
   ]
  },
  {
   "cell_type": "code",
   "execution_count": 45,
   "metadata": {},
   "outputs": [],
   "source": [
    "forecasts = list(forecast_it)\n",
    "tss = list(ts_it)"
   ]
  },
  {
   "cell_type": "markdown",
   "metadata": {},
   "source": [
    "We can examine the first element of these lists (that corresponds to the first time series of the dataset). Let's start with the list containing the time series, i.e., `tss`. We expect the first entry of `tss` to contain the (target of the) first time series of `dataset.test`."
   ]
  },
  {
   "cell_type": "code",
   "execution_count": null,
   "metadata": {},
   "outputs": [],
   "source": [
    "# first entry of the time series list\n",
    "ts_entry = tss[0]"
   ]
  },
  {
   "cell_type": "code",
   "execution_count": null,
   "metadata": {},
   "outputs": [],
   "source": [
    "len(ts_entry)"
   ]
  },
  {
   "cell_type": "code",
   "execution_count": null,
   "metadata": {},
   "outputs": [],
   "source": [
    "# first 5 values of the time series (convert from pandas to numpy)\n",
    "np.array(ts_entry[-10:]).reshape(-1,)"
   ]
  },
  {
   "cell_type": "code",
   "execution_count": null,
   "metadata": {},
   "outputs": [],
   "source": [
    "# first entry of dataset.test\n",
    "dataset_test_entry = next(iter(test_ds))"
   ]
  },
  {
   "cell_type": "code",
   "execution_count": null,
   "metadata": {},
   "outputs": [],
   "source": [
    "# first 5 values\n",
    "dataset_test_entry['target'][-10:]"
   ]
  },
  {
   "cell_type": "code",
   "execution_count": null,
   "metadata": {},
   "outputs": [],
   "source": [
    "len(tss[0])"
   ]
  },
  {
   "cell_type": "code",
   "execution_count": null,
   "metadata": {},
   "outputs": [],
   "source": [
    "forecasts[0].samples.shape"
   ]
  },
  {
   "cell_type": "code",
   "execution_count": 46,
   "metadata": {},
   "outputs": [],
   "source": []
  },
  {
   "cell_type": "markdown",
   "metadata": {},
   "source": [
    "The entries in the `forecast` list are a bit more complex. They are objects that contain all the sample paths in the form of `numpy.ndarray` with dimension `(num_samples, prediction_length)`, the start date of the forecast, the frequency of the time series, etc. We can access all these information by simply invoking the corresponding attribute of the forecast object."
   ]
  },
  {
   "cell_type": "code",
   "execution_count": 58,
   "metadata": {},
   "outputs": [],
   "source": [
    "# first entry of the forecast list\n",
    "# Indy500 Car 12 WillPower\n",
    "ts_entry = tss[7]\n",
    "forecast_entry = forecasts[7]"
   ]
  },
  {
   "cell_type": "code",
   "execution_count": 48,
   "metadata": {},
   "outputs": [
    {
     "data": {
      "text/plain": [
       "array([42.39224 , 42.71629 , 42.344505, 42.46224 , 44.38521 , 43.30208 ,\n",
       "       42.017925, 41.255768, 42.52207 , 43.82131 , 42.804413, 42.38063 ,\n",
       "       44.07478 , 42.561092, 41.068913, 40.8167  , 42.098568, 42.139366,\n",
       "       41.048523, 43.456436, 42.817253, 42.469288, 44.631557, 43.256348,\n",
       "       42.547028, 40.95539 , 41.740623, 41.293736, 41.51575 , 43.14943 ,\n",
       "       40.371307, 41.200756, 42.70724 , 41.512028, 40.814194, 41.590687,\n",
       "       41.625168, 41.748394, 38.425323, 40.18762 , 44.14611 , 39.490532,\n",
       "       42.82657 , 43.524334, 42.064606, 44.590836, 39.073338, 43.036736,\n",
       "       40.89927 , 42.304024], dtype=float32)"
      ]
     },
     "execution_count": 48,
     "metadata": {},
     "output_type": "execute_result"
    }
   ],
   "source": [
    "forecast_entry.samples[0,:]"
   ]
  },
  {
   "cell_type": "code",
   "execution_count": 49,
   "metadata": {},
   "outputs": [
    {
     "name": "stdout",
     "output_type": "stream",
     "text": [
      "Number of sample paths: 100\n",
      "Dimension of samples: (100, 50)\n",
      "Start date of the forecast window: 2019-01-07 06:00:00\n",
      "Frequency of the time series: 1H\n"
     ]
    }
   ],
   "source": [
    "print(f\"Number of sample paths: {forecast_entry.num_samples}\")\n",
    "print(f\"Dimension of samples: {forecast_entry.samples.shape}\")\n",
    "print(f\"Start date of the forecast window: {forecast_entry.start_date}\")\n",
    "print(f\"Frequency of the time series: {forecast_entry.freq}\")"
   ]
  },
  {
   "cell_type": "markdown",
   "metadata": {},
   "source": [
    "We can also do calculations to summarize the sample paths, such computing the mean or a quantile for each of the 48 time steps in the forecast window."
   ]
  },
  {
   "cell_type": "code",
   "execution_count": 50,
   "metadata": {},
   "outputs": [
    {
     "name": "stdout",
     "output_type": "stream",
     "text": [
      "Mean of the future window:\n",
      " [42.385937 42.624058 42.255836 42.658337 42.599087 42.611748 42.53383\n",
      " 42.46092  42.351383 42.119896 42.68523  42.749966 42.229115 42.043438\n",
      " 42.083824 42.5626   42.5718   42.22913  42.53733  42.417202 42.300846\n",
      " 41.94221  42.102814 41.85521  41.955456 42.062916 42.030006 41.019684\n",
      " 41.197792 42.147324 42.170708 41.87097  42.059273 41.862858 42.118008\n",
      " 41.854053 41.902607 41.749012 41.634907 41.770576 42.137943 42.335293\n",
      " 42.00937  41.891884 41.823963 41.435844 41.351128 41.419483 41.27005\n",
      " 41.383877]\n",
      "0.5-quantile (median) of the future window:\n",
      " [42.35027  42.698727 42.30153  42.663868 42.4594   42.634594 42.45551\n",
      " 42.488205 42.441948 42.234024 42.534863 42.59742  42.107037 42.355568\n",
      " 42.066563 42.41307  42.268005 42.29679  42.253487 42.325474 42.266037\n",
      " 41.790234 42.019432 41.83005  42.009064 42.027237 41.922073 41.009525\n",
      " 41.254303 41.965588 42.17046  41.920006 42.193897 41.92161  42.04187\n",
      " 41.689114 41.823616 41.748394 41.79965  41.89846  42.249043 41.97126\n",
      " 42.174942 41.77197  41.654842 41.542553 41.3598   41.38597  41.14727\n",
      " 41.472458]\n"
     ]
    }
   ],
   "source": [
    "print(f\"Mean of the future window:\\n {forecast_entry.mean}\")\n",
    "print(f\"0.5-quantile (median) of the future window:\\n {forecast_entry.quantile(0.5)}\")"
   ]
  },
  {
   "cell_type": "markdown",
   "metadata": {},
   "source": [
    "`Forecast` objects have a `plot` method that can summarize the forecast paths as the mean, prediction intervals, etc. The prediction intervals are shaded in different colors as a \"fan chart\"."
   ]
  },
  {
   "cell_type": "code",
   "execution_count": 51,
   "metadata": {},
   "outputs": [],
   "source": [
    "def plot_prob_forecasts(ts_entry, forecast_entry):\n",
    "    plot_length = 150 \n",
    "    prediction_intervals = (50.0, 90.0)\n",
    "    legend = [\"observations\", \"median prediction\"] + [f\"{k}% prediction interval\" for k in prediction_intervals][::-1]\n",
    "\n",
    "    fig, ax = plt.subplots(1, 1, figsize=(10, 7))\n",
    "    ts_entry[-plot_length:].plot(ax=ax)  # plot the time series\n",
    "    forecast_entry.plot(prediction_intervals=prediction_intervals, color='g')\n",
    "    plt.grid(which=\"both\")\n",
    "    plt.legend(legend, loc=\"upper left\")\n",
    "    plt.show()"
   ]
  },
  {
   "cell_type": "code",
   "execution_count": 59,
   "metadata": {},
   "outputs": [
    {
     "data": {
      "image/png": "[encoded data removed]",
      "text/plain": [
       "<Figure size 720x504 with 1 Axes>"
      ]
     },
     "metadata": {
      "needs_background": "light"
     },
     "output_type": "display_data"
    }
   ],
   "source": [
    "plot_prob_forecasts(ts_entry, forecast_entry)"
   ]
  },
  {
   "cell_type": "markdown",
   "metadata": {},
   "source": [
    "We can also evaluate the quality of our forecasts numerically. In GluonTS, the `Evaluator` class can compute aggregate performance metrics, as well as metrics per time series (which can be useful for analyzing performance across heterogeneous time series)."
   ]
  },
  {
   "cell_type": "code",
   "execution_count": 53,
   "metadata": {},
   "outputs": [],
   "source": [
    "from gluonts.evaluation import Evaluator"
   ]
  },
  {
   "cell_type": "code",
   "execution_count": 54,
   "metadata": {},
   "outputs": [
    {
     "name": "stderr",
     "output_type": "stream",
     "text": [
      "Running evaluation: 100%|██████████| 3960/3960 [00:29<00:00, 132.44it/s]\n"
     ]
    }
   ],
   "source": [
    "evaluator = Evaluator(quantiles=[0.1, 0.5, 0.9])\n",
    "agg_metrics, item_metrics = evaluator(iter(tss), iter(forecasts), num_series=len(test_ds))"
   ]
  },
  {
   "cell_type": "markdown",
   "metadata": {},
   "source": [
    "Aggregate metrics aggregate both across time-steps and across time series."
   ]
  },
  {
   "cell_type": "code",
   "execution_count": 55,
   "metadata": {},
   "outputs": [
    {
     "name": "stdout",
     "output_type": "stream",
     "text": [
      "{\n",
      "    \"MSE\": 21.89500751194809,\n",
      "    \"abs_error\": 332201.3260688782,\n",
      "    \"abs_target_sum\": 8510522.005615234,\n",
      "    \"abs_target_mean\": 42.98243437179411,\n",
      "    \"seasonal_error\": 3.031913744602445,\n",
      "    \"MASE\": 0.5538275090968439,\n",
      "    \"sMAPE\": 0.0354323911343418,\n",
      "    \"MSIS\": 12.621910914041486,\n",
      "    \"QuantileLoss[0.1]\": 121915.51224899292,\n",
      "    \"Coverage[0.1]\": 0.034656565656565656,\n",
      "    \"QuantileLoss[0.5]\": 332201.3261833191,\n",
      "    \"Coverage[0.5]\": 0.3784141414141414,\n",
      "    \"QuantileLoss[0.9]\": 360779.74413375853,\n",
      "    \"Coverage[0.9]\": 0.8627575757575758,\n",
      "    \"RMSE\": 4.679210137613835,\n",
      "    \"NRMSE\": 0.10886331139690919,\n",
      "    \"ND\": 0.039034189189534094,\n",
      "    \"wQuantileLoss[0.1]\": 0.014325268434598158,\n",
      "    \"wQuantileLoss[0.5]\": 0.03903418920298108,\n",
      "    \"wQuantileLoss[0.9]\": 0.042392199197148706,\n",
      "    \"mean_wQuantileLoss\": 0.031917218944909315,\n",
      "    \"MAE_Coverage\": 0.0747239057239057\n",
      "}\n"
     ]
    }
   ],
   "source": [
    "print(json.dumps(agg_metrics, indent=4))"
   ]
  },
  {
   "cell_type": "markdown",
   "metadata": {},
   "source": [
    "Individual metrics are aggregated only across time-steps."
   ]
  },
  {
   "cell_type": "code",
   "execution_count": 56,
   "metadata": {},
   "outputs": [
    {
     "data": {
      "text/html": [
       "<div>\n",
       "<style scoped>\n",
       "    .dataframe tbody tr th:only-of-type {\n",
       "        vertical-align: middle;\n",
       "    }\n",
       "\n",
       "    .dataframe tbody tr th {\n",
       "        vertical-align: top;\n",
       "    }\n",
       "\n",
       "    .dataframe thead th {\n",
       "        text-align: right;\n",
       "    }\n",
       "</style>\n",
       "<table border=\"1\" class=\"dataframe\">\n",
       "  <thead>\n",
       "    <tr style=\"text-align: right;\">\n",
       "      <th></th>\n",
       "      <th>item_id</th>\n",
       "      <th>MSE</th>\n",
       "      <th>abs_error</th>\n",
       "      <th>abs_target_sum</th>\n",
       "      <th>abs_target_mean</th>\n",
       "      <th>seasonal_error</th>\n",
       "      <th>MASE</th>\n",
       "      <th>sMAPE</th>\n",
       "      <th>MSIS</th>\n",
       "      <th>QuantileLoss[0.1]</th>\n",
       "      <th>Coverage[0.1]</th>\n",
       "      <th>QuantileLoss[0.5]</th>\n",
       "      <th>Coverage[0.5]</th>\n",
       "      <th>QuantileLoss[0.9]</th>\n",
       "      <th>Coverage[0.9]</th>\n",
       "    </tr>\n",
       "  </thead>\n",
       "  <tbody>\n",
       "    <tr>\n",
       "      <th>0</th>\n",
       "      <td>NaN</td>\n",
       "      <td>15.919058</td>\n",
       "      <td>62.044842</td>\n",
       "      <td>2118.346680</td>\n",
       "      <td>42.366934</td>\n",
       "      <td>2.790739</td>\n",
       "      <td>0.444648</td>\n",
       "      <td>0.026251</td>\n",
       "      <td>11.115599</td>\n",
       "      <td>23.448229</td>\n",
       "      <td>0.06</td>\n",
       "      <td>62.044842</td>\n",
       "      <td>0.50</td>\n",
       "      <td>75.895338</td>\n",
       "      <td>0.94</td>\n",
       "    </tr>\n",
       "    <tr>\n",
       "      <th>1</th>\n",
       "      <td>NaN</td>\n",
       "      <td>16.041115</td>\n",
       "      <td>63.462650</td>\n",
       "      <td>2110.306641</td>\n",
       "      <td>42.206133</td>\n",
       "      <td>2.798099</td>\n",
       "      <td>0.453613</td>\n",
       "      <td>0.026892</td>\n",
       "      <td>10.449544</td>\n",
       "      <td>23.216056</td>\n",
       "      <td>0.02</td>\n",
       "      <td>63.462650</td>\n",
       "      <td>0.54</td>\n",
       "      <td>71.187105</td>\n",
       "      <td>0.94</td>\n",
       "    </tr>\n",
       "    <tr>\n",
       "      <th>2</th>\n",
       "      <td>NaN</td>\n",
       "      <td>16.566250</td>\n",
       "      <td>67.948715</td>\n",
       "      <td>2136.522705</td>\n",
       "      <td>42.730454</td>\n",
       "      <td>2.955661</td>\n",
       "      <td>0.459787</td>\n",
       "      <td>0.028647</td>\n",
       "      <td>10.421807</td>\n",
       "      <td>28.778062</td>\n",
       "      <td>0.02</td>\n",
       "      <td>67.948711</td>\n",
       "      <td>0.38</td>\n",
       "      <td>74.353561</td>\n",
       "      <td>0.94</td>\n",
       "    </tr>\n",
       "    <tr>\n",
       "      <th>3</th>\n",
       "      <td>NaN</td>\n",
       "      <td>25.300801</td>\n",
       "      <td>96.008949</td>\n",
       "      <td>2160.721680</td>\n",
       "      <td>43.214434</td>\n",
       "      <td>2.666542</td>\n",
       "      <td>0.720101</td>\n",
       "      <td>0.040316</td>\n",
       "      <td>17.907152</td>\n",
       "      <td>30.928972</td>\n",
       "      <td>0.02</td>\n",
       "      <td>96.008953</td>\n",
       "      <td>0.34</td>\n",
       "      <td>112.537551</td>\n",
       "      <td>0.84</td>\n",
       "    </tr>\n",
       "    <tr>\n",
       "      <th>4</th>\n",
       "      <td>NaN</td>\n",
       "      <td>25.463774</td>\n",
       "      <td>93.479233</td>\n",
       "      <td>2213.656738</td>\n",
       "      <td>44.273135</td>\n",
       "      <td>3.864950</td>\n",
       "      <td>0.483728</td>\n",
       "      <td>0.038105</td>\n",
       "      <td>10.041734</td>\n",
       "      <td>35.248159</td>\n",
       "      <td>0.04</td>\n",
       "      <td>93.479229</td>\n",
       "      <td>0.40</td>\n",
       "      <td>96.990172</td>\n",
       "      <td>0.90</td>\n",
       "    </tr>\n",
       "  </tbody>\n",
       "</table>\n",
       "</div>"
      ],
      "text/plain": [
       "   item_id        MSE  abs_error  abs_target_sum  abs_target_mean  \\\n",
       "0      NaN  15.919058  62.044842     2118.346680        42.366934   \n",
       "1      NaN  16.041115  63.462650     2110.306641        42.206133   \n",
       "2      NaN  16.566250  67.948715     2136.522705        42.730454   \n",
       "3      NaN  25.300801  96.008949     2160.721680        43.214434   \n",
       "4      NaN  25.463774  93.479233     2213.656738        44.273135   \n",
       "\n",
       "   seasonal_error      MASE     sMAPE       MSIS  QuantileLoss[0.1]  \\\n",
       "0        2.790739  0.444648  0.026251  11.115599          23.448229   \n",
       "1        2.798099  0.453613  0.026892  10.449544          23.216056   \n",
       "2        2.955661  0.459787  0.028647  10.421807          28.778062   \n",
       "3        2.666542  0.720101  0.040316  17.907152          30.928972   \n",
       "4        3.864950  0.483728  0.038105  10.041734          35.248159   \n",
       "\n",
       "   Coverage[0.1]  QuantileLoss[0.5]  Coverage[0.5]  QuantileLoss[0.9]  \\\n",
       "0           0.06          62.044842           0.50          75.895338   \n",
       "1           0.02          63.462650           0.54          71.187105   \n",
       "2           0.02          67.948711           0.38          74.353561   \n",
       "3           0.02          96.008953           0.34         112.537551   \n",
       "4           0.04          93.479229           0.40          96.990172   \n",
       "\n",
       "   Coverage[0.9]  \n",
       "0           0.94  \n",
       "1           0.94  \n",
       "2           0.94  \n",
       "3           0.84  \n",
       "4           0.90  "
      ]
     },
     "execution_count": 56,
     "metadata": {},
     "output_type": "execute_result"
    }
   ],
   "source": [
    "item_metrics.head()"
   ]
  },
  {
   "cell_type": "code",
   "execution_count": 57,
   "metadata": {},
   "outputs": [
    {
     "data": {
      "image/png": "[encoded data removed]",
      "text/plain": [
       "<Figure size 432x288 with 1 Axes>"
      ]
     },
     "metadata": {
      "needs_background": "light"
     },
     "output_type": "display_data"
    }
   ],
   "source": [
    "item_metrics.plot(x='MSIS', y='MASE', kind='scatter')\n",
    "plt.grid(which=\"both\")\n",
    "plt.show()"
   ]
  },
  {
   "cell_type": "code",
   "execution_count": null,
   "metadata": {},
   "outputs": [],
   "source": []
  }
 ],
 "metadata": {
  "kernelspec": {
   "display_name": "Python 3",
   "language": "python",
   "name": "python3"
  },
  "language_info": {
   "codemirror_mode": {
    "name": "ipython",
    "version": 3
   },
   "file_extension": ".py",
   "mimetype": "text/x-python",
   "name": "python",
   "nbconvert_exporter": "python",
   "pygments_lexer": "ipython3",
   "version": "3.6.10"
  }
 },
 "nbformat": 4,
 "nbformat_minor": 2
}
