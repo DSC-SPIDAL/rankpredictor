{
 "cells": [
  {
   "cell_type": "markdown",
   "metadata": {},
   "source": [
    "# DeepAR on laptime&rank dataset\n",
    "\n",
    "laptime&rank dataset\n",
    "<eventid, carids, laptime (totalcars x totallaps), rank (totalcars x totallaps)>; filled with NaN"
   ]
  },
  {
   "cell_type": "code",
   "execution_count": 1,
   "metadata": {},
   "outputs": [],
   "source": [
    "# Third-party imports\n",
    "%matplotlib inline\n",
    "import mxnet as mx\n",
    "from mxnet import gluon\n",
    "import numpy as np\n",
    "import pandas as pd\n",
    "import matplotlib.pyplot as plt\n",
    "import json"
   ]
  },
  {
   "cell_type": "markdown",
   "metadata": {},
   "source": [
    "## Datasets\n"
   ]
  },
  {
   "cell_type": "code",
   "execution_count": 2,
   "metadata": {},
   "outputs": [],
   "source": [
    "import pickle\n",
    "with open('laptime_rank-2018.pickle', 'rb') as f:\n",
    "    # The protocol version used is detected automatically, so we do not\n",
    "    # have to specify it.\n",
    "    global_carids, laptime_data = pickle.load(f, encoding='latin1')"
   ]
  },
  {
   "cell_type": "code",
   "execution_count": 3,
   "metadata": {},
   "outputs": [],
   "source": [
    "events = ['Phoenix','Indy500','Texas','Iowa','Pocono','Gateway']\n",
    "events_id={key:idx for idx, key in enumerate(events)}"
   ]
  },
  {
   "cell_type": "code",
   "execution_count": 4,
   "metadata": {},
   "outputs": [
    {
     "name": "stdout",
     "output_type": "stream",
     "text": [
      "events: ['Phoenix', 'Indy500', 'Texas', 'Iowa', 'Pocono', 'Gateway']\n"
     ]
    }
   ],
   "source": [
    "print(f\"events: {events}\")"
   ]
  },
  {
   "cell_type": "markdown",
   "metadata": {},
   "source": [
    "To download one of the built-in datasets, simply call get_dataset with one of the above names. GluonTS can re-use the saved dataset so that it does not need to be downloaded again: simply set `regenerate=False`."
   ]
  },
  {
   "cell_type": "code",
   "execution_count": 5,
   "metadata": {},
   "outputs": [
    {
     "data": {
      "text/plain": [
       "array([[26.0364, 24.6531, 24.3582, ...,     nan,     nan,     nan],\n",
       "       [62.1349, 66.7862,     nan, ...,     nan,     nan,     nan],\n",
       "       [28.33  , 26.3849, 25.3203, ...,     nan,     nan,     nan],\n",
       "       ...,\n",
       "       [64.83  , 58.0034,     nan, ...,     nan,     nan,     nan],\n",
       "       [28.0383, 26.1015, 25.6888, ...,     nan,     nan,     nan],\n",
       "       [27.296 , 26.2981, 25.0074, ...,     nan,     nan,     nan]],\n",
       "      dtype=float32)"
      ]
     },
     "execution_count": 5,
     "metadata": {},
     "output_type": "execute_result"
    }
   ],
   "source": [
    "laptime_data[2][2].astype(np.float32)"
   ]
  },
  {
   "cell_type": "code",
   "execution_count": 6,
   "metadata": {},
   "outputs": [],
   "source": [
    "# global configuration\n",
    "prediction_length = 50\n",
    "freq = \"1H\"\n",
    "cardinality = [len(global_carids)]\n",
    "TS_LAPTIME=2\n",
    "TS_RANK=3\n",
    "run_ts = TS_RANK"
   ]
  },
  {
   "cell_type": "code",
   "execution_count": 7,
   "metadata": {},
   "outputs": [],
   "source": [
    "from gluonts.dataset.common import ListDataset\n",
    "start = pd.Timestamp(\"01-01-2019\", freq=freq)  # can be different for each time series\n",
    "\n",
    "train_set = []\n",
    "test_set = []\n",
    "\n",
    "#_data: eventid, carids, laptime array\n",
    "for _data in laptime_data:\n",
    "    #_train = [{'target': x.astype(np.float32), 'start': start} \n",
    "    #        for x in _data[2][:, :-prediction_length]]\n",
    "    #_test = [{'target': x.astype(np.float32), 'start': start} \n",
    "    #        for x in _data[2]]\n",
    "    \n",
    "    #map rowid -> carno -> global_carid\n",
    "    #carids = list(_data[1].values())\n",
    "    #global_carid = global_carids[_data[1][rowid]]\n",
    "    \n",
    "    _train = [{'target': _data[run_ts][rowid, :-prediction_length].astype(np.float32), 'start': start, \n",
    "               'feat_static_cat': global_carids[_data[1][rowid]]}             \n",
    "            for rowid in range(_data[run_ts].shape[0]) ]\n",
    "    _test = [{'target': _data[run_ts][rowid, :].astype(np.float32), 'start': start, \n",
    "              'feat_static_cat': global_carids[_data[1][rowid]]} \n",
    "            for rowid in range(_data[run_ts].shape[0]) ]\n",
    "    \n",
    "    train_set.extend(_train)\n",
    "    test_set.extend(_test)\n",
    "\n"
   ]
  },
  {
   "cell_type": "code",
   "execution_count": 8,
   "metadata": {},
   "outputs": [],
   "source": [
    "# train dataset: cut the last window of length \"prediction_length\", add \"target\" and \"start\" fields\n",
    "train_ds = ListDataset(train_set, freq=freq)\n",
    "# test dataset: use the whole dataset, add \"target\" and \"start\" fields\n",
    "test_ds = ListDataset(test_set, freq=freq)"
   ]
  },
  {
   "cell_type": "markdown",
   "metadata": {},
   "source": [
    "In general, the datasets provided by GluonTS are objects that consists of three main members:\n",
    "\n",
    "- `dataset.train` is an iterable collection of data entries used for training. Each entry corresponds to one time series\n",
    "- `dataset.test` is an iterable collection of data entries used for inference. The test dataset is an extended version of the train dataset that contains a window in the end of each time series that was not seen during training. This window has length equal to the recommended prediction length.\n",
    "- `dataset.metadata` contains metadata of the dataset such as the frequency of the time series, a recommended prediction horizon, associated features, etc."
   ]
  },
  {
   "cell_type": "code",
   "execution_count": 9,
   "metadata": {},
   "outputs": [
    {
     "data": {
      "image/png": "[encoded data removed]",
      "text/plain": [
       "<Figure size 432x288 with 1 Axes>"
      ]
     },
     "metadata": {
      "needs_background": "light"
     },
     "output_type": "display_data"
    }
   ],
   "source": [
    "from gluonts.dataset.util import to_pandas\n",
    "entry = next(iter(train_ds))\n",
    "train_series = to_pandas(entry)\n",
    "train_series.plot()\n",
    "plt.grid(which=\"both\")\n",
    "plt.legend([\"train series\"], loc=\"upper left\")\n",
    "plt.show()"
   ]
  },
  {
   "cell_type": "code",
   "execution_count": 10,
   "metadata": {},
   "outputs": [
    {
     "data": {
      "image/png": "[encoded data removed]",
      "text/plain": [
       "<Figure size 432x288 with 1 Axes>"
      ]
     },
     "metadata": {
      "needs_background": "light"
     },
     "output_type": "display_data"
    }
   ],
   "source": [
    "entry = next(iter(test_ds))\n",
    "test_series = to_pandas(entry)\n",
    "test_series.plot()\n",
    "plt.axvline(train_series.index[-1], color='r') # end of train dataset\n",
    "plt.grid(which=\"both\")\n",
    "plt.legend([\"test series\", \"end of train series\"], loc=\"upper left\")\n",
    "plt.show()"
   ]
  },
  {
   "cell_type": "code",
   "execution_count": 11,
   "metadata": {},
   "outputs": [
    {
     "name": "stdout",
     "output_type": "stream",
     "text": [
      "Length of forecasting window in test dataset: 50\n",
      "Recommended prediction horizon: 50\n",
      "Frequency of the time series: 1H\n"
     ]
    }
   ],
   "source": [
    "print(f\"Length of forecasting window in test dataset: {len(test_series) - len(train_series)}\")\n",
    "print(f\"Recommended prediction horizon: {prediction_length}\")\n",
    "print(f\"Frequency of the time series: {freq}\")"
   ]
  },
  {
   "cell_type": "markdown",
   "metadata": {},
   "source": [
    "## Training an existing model (`Estimator`)\n",
    "\n",
    "GluonTS comes with a number of pre-built models. All the user needs to do is configure some hyperparameters. The existing models focus on (but are not limited to) probabilistic forecasting. Probabilistic forecasts are predictions in the form of a probability distribution, rather than simply a single point estimate.\n",
    "\n",
    "We will begin with GulonTS's pre-built feedforward neural network estimator, a simple but powerful forecasting model. We will use this model to demonstrate the process of training a model, producing forecasts, and evaluating the results.\n",
    "\n",
    "GluonTS's built-in feedforward neural network (`SimpleFeedForwardEstimator`) accepts an input window of length `context_length` and predicts the distribution of the values of the subsequent `prediction_length` values. In GluonTS parlance, the feedforward neural network model is an example of `Estimator`. In GluonTS, `Estimator` objects represent a forecasting model as well as details such as its coefficients, weights, etc.\n",
    "\n",
    "In general, each estimator (pre-built or custom) is configured by a number of hyperparameters that can be either common (but not binding) among all estimators (e.g., the `prediction_length`) or specific for the particular estimator (e.g., number of layers for a neural network or the stride in a CNN).\n",
    "\n",
    "Finally, each estimator is configured by a `Trainer`, which defines how the model will be trained i.e., the number of epochs, the learning rate, etc."
   ]
  },
  {
   "cell_type": "code",
   "execution_count": 12,
   "metadata": {},
   "outputs": [
    {
     "name": "stderr",
     "output_type": "stream",
     "text": [
      "INFO:root:Using GPU\n"
     ]
    }
   ],
   "source": [
    "from gluonts.model.deepar import DeepAREstimator\n",
    "from gluonts.trainer import Trainer"
   ]
  },
  {
   "cell_type": "code",
   "execution_count": 13,
   "metadata": {},
   "outputs": [],
   "source": [
    "estimator = DeepAREstimator(\n",
    "    prediction_length=prediction_length,\n",
    "    context_length=2*prediction_length,\n",
    "    use_feat_static_cat=True,\n",
    "    cardinality=cardinality,\n",
    "    freq=freq,\n",
    "    trainer=Trainer(ctx=\"gpu(2)\", \n",
    "                    epochs=1, \n",
    "                    learning_rate=1e-3, \n",
    "                    num_batches_per_epoch=64\n",
    "                   )\n",
    ")"
   ]
  },
  {
   "cell_type": "markdown",
   "metadata": {},
   "source": [
    "After specifying our estimator with all the necessary hyperparameters we can train it using our training dataset `dataset.train` by invoking the `train` method of the estimator. The training algorithm returns a fitted model (or a `Predictor` in GluonTS parlance) that can be used to construct forecasts."
   ]
  },
  {
   "cell_type": "code",
   "execution_count": 14,
   "metadata": {},
   "outputs": [
    {
     "name": "stderr",
     "output_type": "stream",
     "text": [
      "INFO:root:Start model training\n",
      "INFO:root:Epoch[0] Learning rate is 0.001\n",
      "  0%|          | 0/64 [00:00<?, ?it/s]INFO:root:Number of parameters in DeepARTrainingNetwork: 31483\n",
      "100%|██████████| 64/64 [01:14<00:00,  1.16s/it, avg_epoch_loss=2.16]\n",
      "INFO:root:Epoch[0] Elapsed time 74.356 seconds\n",
      "INFO:root:Epoch[0] Evaluation metric 'epoch_loss'=2.156394\n",
      "INFO:root:Loading parameters from best epoch (0)\n",
      "INFO:root:Final loss: 2.156394312158227 (occurred at epoch 0)\n",
      "INFO:root:End model training\n"
     ]
    }
   ],
   "source": [
    "predictor = estimator.train(train_ds)"
   ]
  },
  {
   "cell_type": "markdown",
   "metadata": {},
   "source": [
    "With a predictor in hand, we can now predict the last window of the `dataset.test` and evaluate our model's performance.\n",
    "\n",
    "GluonTS comes with the `make_evaluation_predictions` function that automates the process of prediction and model evaluation. Roughly, this function performs the following steps:\n",
    "\n",
    "- Removes the final window of length `prediction_length` of the `dataset.test` that we want to predict\n",
    "- The estimator uses the remaining data to predict (in the form of sample paths) the \"future\" window that was just removed\n",
    "- The module outputs the forecast sample paths and the `dataset.test` (as python generator objects)"
   ]
  },
  {
   "cell_type": "code",
   "execution_count": 15,
   "metadata": {},
   "outputs": [],
   "source": [
    "from gluonts.evaluation.backtest import make_evaluation_predictions"
   ]
  },
  {
   "cell_type": "code",
   "execution_count": 16,
   "metadata": {},
   "outputs": [],
   "source": [
    "forecast_it, ts_it = make_evaluation_predictions(\n",
    "    dataset=test_ds,  # test dataset\n",
    "    predictor=predictor,  # predictor\n",
    "    num_samples=100,  # number of sample paths we want for evaluation\n",
    ")"
   ]
  },
  {
   "cell_type": "markdown",
   "metadata": {},
   "source": [
    "First, we can convert these generators to lists to ease the subsequent computations."
   ]
  },
  {
   "cell_type": "code",
   "execution_count": 17,
   "metadata": {},
   "outputs": [],
   "source": [
    "forecasts = list(forecast_it)\n",
    "tss = list(ts_it)"
   ]
  },
  {
   "cell_type": "markdown",
   "metadata": {},
   "source": [
    "We can examine the first element of these lists (that corresponds to the first time series of the dataset). Let's start with the list containing the time series, i.e., `tss`. We expect the first entry of `tss` to contain the (target of the) first time series of `dataset.test`."
   ]
  },
  {
   "cell_type": "code",
   "execution_count": 18,
   "metadata": {},
   "outputs": [],
   "source": [
    "# first entry of the time series list\n",
    "ts_entry = tss[0]"
   ]
  },
  {
   "cell_type": "code",
   "execution_count": 19,
   "metadata": {},
   "outputs": [
    {
     "data": {
      "text/plain": [
       "250"
      ]
     },
     "execution_count": 19,
     "metadata": {},
     "output_type": "execute_result"
    }
   ],
   "source": [
    "len(ts_entry)"
   ]
  },
  {
   "cell_type": "code",
   "execution_count": 20,
   "metadata": {},
   "outputs": [
    {
     "data": {
      "text/plain": [
       "array([4., 4., 4., 2., 2., 2., 1., 1., 1., 1.], dtype=float32)"
      ]
     },
     "execution_count": 20,
     "metadata": {},
     "output_type": "execute_result"
    }
   ],
   "source": [
    "# first 5 values of the time series (convert from pandas to numpy)\n",
    "np.array(ts_entry[-10:]).reshape(-1,)"
   ]
  },
  {
   "cell_type": "code",
   "execution_count": 21,
   "metadata": {},
   "outputs": [],
   "source": [
    "# first entry of dataset.test\n",
    "dataset_test_entry = next(iter(test_ds))"
   ]
  },
  {
   "cell_type": "code",
   "execution_count": 22,
   "metadata": {},
   "outputs": [
    {
     "data": {
      "text/plain": [
       "array([4., 4., 4., 2., 2., 2., 1., 1., 1., 1.], dtype=float32)"
      ]
     },
     "execution_count": 22,
     "metadata": {},
     "output_type": "execute_result"
    }
   ],
   "source": [
    "# first 5 values\n",
    "dataset_test_entry['target'][-10:]"
   ]
  },
  {
   "cell_type": "code",
   "execution_count": 23,
   "metadata": {},
   "outputs": [
    {
     "data": {
      "text/plain": [
       "250"
      ]
     },
     "execution_count": 23,
     "metadata": {},
     "output_type": "execute_result"
    }
   ],
   "source": [
    "len(tss[0])"
   ]
  },
  {
   "cell_type": "code",
   "execution_count": 24,
   "metadata": {},
   "outputs": [
    {
     "data": {
      "text/plain": [
       "(100, 50)"
      ]
     },
     "execution_count": 24,
     "metadata": {},
     "output_type": "execute_result"
    }
   ],
   "source": [
    "forecasts[0].samples.shape"
   ]
  },
  {
   "cell_type": "code",
   "execution_count": 25,
   "metadata": {},
   "outputs": [
    {
     "data": {
      "text/html": [
       "<div>\n",
       "<style scoped>\n",
       "    .dataframe tbody tr th:only-of-type {\n",
       "        vertical-align: middle;\n",
       "    }\n",
       "\n",
       "    .dataframe tbody tr th {\n",
       "        vertical-align: top;\n",
       "    }\n",
       "\n",
       "    .dataframe thead th {\n",
       "        text-align: right;\n",
       "    }\n",
       "</style>\n",
       "<table border=\"1\" class=\"dataframe\">\n",
       "  <thead>\n",
       "    <tr style=\"text-align: right;\">\n",
       "      <th></th>\n",
       "      <th>0</th>\n",
       "    </tr>\n",
       "  </thead>\n",
       "  <tbody>\n",
       "    <tr>\n",
       "      <th>2019-01-01 00:00:00</th>\n",
       "      <td>27.0</td>\n",
       "    </tr>\n",
       "    <tr>\n",
       "      <th>2019-01-01 01:00:00</th>\n",
       "      <td>24.0</td>\n",
       "    </tr>\n",
       "    <tr>\n",
       "      <th>2019-01-01 02:00:00</th>\n",
       "      <td>24.0</td>\n",
       "    </tr>\n",
       "    <tr>\n",
       "      <th>2019-01-01 03:00:00</th>\n",
       "      <td>24.0</td>\n",
       "    </tr>\n",
       "    <tr>\n",
       "      <th>2019-01-01 04:00:00</th>\n",
       "      <td>24.0</td>\n",
       "    </tr>\n",
       "    <tr>\n",
       "      <th>2019-01-01 05:00:00</th>\n",
       "      <td>24.0</td>\n",
       "    </tr>\n",
       "    <tr>\n",
       "      <th>2019-01-01 06:00:00</th>\n",
       "      <td>24.0</td>\n",
       "    </tr>\n",
       "    <tr>\n",
       "      <th>2019-01-01 07:00:00</th>\n",
       "      <td>24.0</td>\n",
       "    </tr>\n",
       "    <tr>\n",
       "      <th>2019-01-01 08:00:00</th>\n",
       "      <td>24.0</td>\n",
       "    </tr>\n",
       "    <tr>\n",
       "      <th>2019-01-01 09:00:00</th>\n",
       "      <td>24.0</td>\n",
       "    </tr>\n",
       "    <tr>\n",
       "      <th>2019-01-01 10:00:00</th>\n",
       "      <td>24.0</td>\n",
       "    </tr>\n",
       "    <tr>\n",
       "      <th>2019-01-01 11:00:00</th>\n",
       "      <td>24.0</td>\n",
       "    </tr>\n",
       "    <tr>\n",
       "      <th>2019-01-01 12:00:00</th>\n",
       "      <td>24.0</td>\n",
       "    </tr>\n",
       "    <tr>\n",
       "      <th>2019-01-01 13:00:00</th>\n",
       "      <td>24.0</td>\n",
       "    </tr>\n",
       "    <tr>\n",
       "      <th>2019-01-01 14:00:00</th>\n",
       "      <td>24.0</td>\n",
       "    </tr>\n",
       "    <tr>\n",
       "      <th>2019-01-01 15:00:00</th>\n",
       "      <td>24.0</td>\n",
       "    </tr>\n",
       "    <tr>\n",
       "      <th>2019-01-01 16:00:00</th>\n",
       "      <td>24.0</td>\n",
       "    </tr>\n",
       "    <tr>\n",
       "      <th>2019-01-01 17:00:00</th>\n",
       "      <td>24.0</td>\n",
       "    </tr>\n",
       "    <tr>\n",
       "      <th>2019-01-01 18:00:00</th>\n",
       "      <td>24.0</td>\n",
       "    </tr>\n",
       "    <tr>\n",
       "      <th>2019-01-01 19:00:00</th>\n",
       "      <td>24.0</td>\n",
       "    </tr>\n",
       "    <tr>\n",
       "      <th>2019-01-01 20:00:00</th>\n",
       "      <td>24.0</td>\n",
       "    </tr>\n",
       "    <tr>\n",
       "      <th>2019-01-01 21:00:00</th>\n",
       "      <td>24.0</td>\n",
       "    </tr>\n",
       "    <tr>\n",
       "      <th>2019-01-01 22:00:00</th>\n",
       "      <td>24.0</td>\n",
       "    </tr>\n",
       "    <tr>\n",
       "      <th>2019-01-01 23:00:00</th>\n",
       "      <td>24.0</td>\n",
       "    </tr>\n",
       "    <tr>\n",
       "      <th>2019-01-02 00:00:00</th>\n",
       "      <td>24.0</td>\n",
       "    </tr>\n",
       "    <tr>\n",
       "      <th>2019-01-02 01:00:00</th>\n",
       "      <td>24.0</td>\n",
       "    </tr>\n",
       "    <tr>\n",
       "      <th>2019-01-02 02:00:00</th>\n",
       "      <td>26.0</td>\n",
       "    </tr>\n",
       "    <tr>\n",
       "      <th>2019-01-02 03:00:00</th>\n",
       "      <td>26.0</td>\n",
       "    </tr>\n",
       "    <tr>\n",
       "      <th>2019-01-02 04:00:00</th>\n",
       "      <td>25.0</td>\n",
       "    </tr>\n",
       "    <tr>\n",
       "      <th>2019-01-02 05:00:00</th>\n",
       "      <td>24.0</td>\n",
       "    </tr>\n",
       "    <tr>\n",
       "      <th>...</th>\n",
       "      <td>...</td>\n",
       "    </tr>\n",
       "    <tr>\n",
       "      <th>2019-01-08 02:00:00</th>\n",
       "      <td>9.0</td>\n",
       "    </tr>\n",
       "    <tr>\n",
       "      <th>2019-01-08 03:00:00</th>\n",
       "      <td>6.0</td>\n",
       "    </tr>\n",
       "    <tr>\n",
       "      <th>2019-01-08 04:00:00</th>\n",
       "      <td>5.0</td>\n",
       "    </tr>\n",
       "    <tr>\n",
       "      <th>2019-01-08 05:00:00</th>\n",
       "      <td>3.0</td>\n",
       "    </tr>\n",
       "    <tr>\n",
       "      <th>2019-01-08 06:00:00</th>\n",
       "      <td>3.0</td>\n",
       "    </tr>\n",
       "    <tr>\n",
       "      <th>2019-01-08 07:00:00</th>\n",
       "      <td>1.0</td>\n",
       "    </tr>\n",
       "    <tr>\n",
       "      <th>2019-01-08 08:00:00</th>\n",
       "      <td>1.0</td>\n",
       "    </tr>\n",
       "    <tr>\n",
       "      <th>2019-01-08 09:00:00</th>\n",
       "      <td>2.0</td>\n",
       "    </tr>\n",
       "    <tr>\n",
       "      <th>2019-01-08 10:00:00</th>\n",
       "      <td>2.0</td>\n",
       "    </tr>\n",
       "    <tr>\n",
       "      <th>2019-01-08 11:00:00</th>\n",
       "      <td>1.0</td>\n",
       "    </tr>\n",
       "    <tr>\n",
       "      <th>2019-01-08 12:00:00</th>\n",
       "      <td>1.0</td>\n",
       "    </tr>\n",
       "    <tr>\n",
       "      <th>2019-01-08 13:00:00</th>\n",
       "      <td>1.0</td>\n",
       "    </tr>\n",
       "    <tr>\n",
       "      <th>2019-01-08 14:00:00</th>\n",
       "      <td>1.0</td>\n",
       "    </tr>\n",
       "    <tr>\n",
       "      <th>2019-01-08 15:00:00</th>\n",
       "      <td>1.0</td>\n",
       "    </tr>\n",
       "    <tr>\n",
       "      <th>2019-01-08 16:00:00</th>\n",
       "      <td>1.0</td>\n",
       "    </tr>\n",
       "    <tr>\n",
       "      <th>2019-01-08 17:00:00</th>\n",
       "      <td>1.0</td>\n",
       "    </tr>\n",
       "    <tr>\n",
       "      <th>2019-01-08 18:00:00</th>\n",
       "      <td>1.0</td>\n",
       "    </tr>\n",
       "    <tr>\n",
       "      <th>2019-01-08 19:00:00</th>\n",
       "      <td>1.0</td>\n",
       "    </tr>\n",
       "    <tr>\n",
       "      <th>2019-01-08 20:00:00</th>\n",
       "      <td>1.0</td>\n",
       "    </tr>\n",
       "    <tr>\n",
       "      <th>2019-01-08 21:00:00</th>\n",
       "      <td>1.0</td>\n",
       "    </tr>\n",
       "    <tr>\n",
       "      <th>2019-01-08 22:00:00</th>\n",
       "      <td>1.0</td>\n",
       "    </tr>\n",
       "    <tr>\n",
       "      <th>2019-01-08 23:00:00</th>\n",
       "      <td>1.0</td>\n",
       "    </tr>\n",
       "    <tr>\n",
       "      <th>2019-01-09 00:00:00</th>\n",
       "      <td>2.0</td>\n",
       "    </tr>\n",
       "    <tr>\n",
       "      <th>2019-01-09 01:00:00</th>\n",
       "      <td>4.0</td>\n",
       "    </tr>\n",
       "    <tr>\n",
       "      <th>2019-01-09 02:00:00</th>\n",
       "      <td>4.0</td>\n",
       "    </tr>\n",
       "    <tr>\n",
       "      <th>2019-01-09 03:00:00</th>\n",
       "      <td>2.0</td>\n",
       "    </tr>\n",
       "    <tr>\n",
       "      <th>2019-01-09 04:00:00</th>\n",
       "      <td>15.0</td>\n",
       "    </tr>\n",
       "    <tr>\n",
       "      <th>2019-01-09 05:00:00</th>\n",
       "      <td>17.0</td>\n",
       "    </tr>\n",
       "    <tr>\n",
       "      <th>2019-01-09 06:00:00</th>\n",
       "      <td>17.0</td>\n",
       "    </tr>\n",
       "    <tr>\n",
       "      <th>2019-01-09 07:00:00</th>\n",
       "      <td>17.0</td>\n",
       "    </tr>\n",
       "  </tbody>\n",
       "</table>\n",
       "<p>200 rows × 1 columns</p>\n",
       "</div>"
      ],
      "text/plain": [
       "                        0\n",
       "2019-01-01 00:00:00  27.0\n",
       "2019-01-01 01:00:00  24.0\n",
       "2019-01-01 02:00:00  24.0\n",
       "2019-01-01 03:00:00  24.0\n",
       "2019-01-01 04:00:00  24.0\n",
       "2019-01-01 05:00:00  24.0\n",
       "2019-01-01 06:00:00  24.0\n",
       "2019-01-01 07:00:00  24.0\n",
       "2019-01-01 08:00:00  24.0\n",
       "2019-01-01 09:00:00  24.0\n",
       "2019-01-01 10:00:00  24.0\n",
       "2019-01-01 11:00:00  24.0\n",
       "2019-01-01 12:00:00  24.0\n",
       "2019-01-01 13:00:00  24.0\n",
       "2019-01-01 14:00:00  24.0\n",
       "2019-01-01 15:00:00  24.0\n",
       "2019-01-01 16:00:00  24.0\n",
       "2019-01-01 17:00:00  24.0\n",
       "2019-01-01 18:00:00  24.0\n",
       "2019-01-01 19:00:00  24.0\n",
       "2019-01-01 20:00:00  24.0\n",
       "2019-01-01 21:00:00  24.0\n",
       "2019-01-01 22:00:00  24.0\n",
       "2019-01-01 23:00:00  24.0\n",
       "2019-01-02 00:00:00  24.0\n",
       "2019-01-02 01:00:00  24.0\n",
       "2019-01-02 02:00:00  26.0\n",
       "2019-01-02 03:00:00  26.0\n",
       "2019-01-02 04:00:00  25.0\n",
       "2019-01-02 05:00:00  24.0\n",
       "...                   ...\n",
       "2019-01-08 02:00:00   9.0\n",
       "2019-01-08 03:00:00   6.0\n",
       "2019-01-08 04:00:00   5.0\n",
       "2019-01-08 05:00:00   3.0\n",
       "2019-01-08 06:00:00   3.0\n",
       "2019-01-08 07:00:00   1.0\n",
       "2019-01-08 08:00:00   1.0\n",
       "2019-01-08 09:00:00   2.0\n",
       "2019-01-08 10:00:00   2.0\n",
       "2019-01-08 11:00:00   1.0\n",
       "2019-01-08 12:00:00   1.0\n",
       "2019-01-08 13:00:00   1.0\n",
       "2019-01-08 14:00:00   1.0\n",
       "2019-01-08 15:00:00   1.0\n",
       "2019-01-08 16:00:00   1.0\n",
       "2019-01-08 17:00:00   1.0\n",
       "2019-01-08 18:00:00   1.0\n",
       "2019-01-08 19:00:00   1.0\n",
       "2019-01-08 20:00:00   1.0\n",
       "2019-01-08 21:00:00   1.0\n",
       "2019-01-08 22:00:00   1.0\n",
       "2019-01-08 23:00:00   1.0\n",
       "2019-01-09 00:00:00   2.0\n",
       "2019-01-09 01:00:00   4.0\n",
       "2019-01-09 02:00:00   4.0\n",
       "2019-01-09 03:00:00   2.0\n",
       "2019-01-09 04:00:00  15.0\n",
       "2019-01-09 05:00:00  17.0\n",
       "2019-01-09 06:00:00  17.0\n",
       "2019-01-09 07:00:00  17.0\n",
       "\n",
       "[200 rows x 1 columns]"
      ]
     },
     "execution_count": 25,
     "metadata": {},
     "output_type": "execute_result"
    }
   ],
   "source": [
    "# Indy500 Car 12 WillPower\n",
    "ts_entry = tss[52]\n",
    "ts_entry"
   ]
  },
  {
   "cell_type": "markdown",
   "metadata": {},
   "source": [
    "The entries in the `forecast` list are a bit more complex. They are objects that contain all the sample paths in the form of `numpy.ndarray` with dimension `(num_samples, prediction_length)`, the start date of the forecast, the frequency of the time series, etc. We can access all these information by simply invoking the corresponding attribute of the forecast object."
   ]
  },
  {
   "cell_type": "code",
   "execution_count": 26,
   "metadata": {},
   "outputs": [],
   "source": [
    "# first entry of the forecast list\n",
    "forecast_entry = forecasts[52]"
   ]
  },
  {
   "cell_type": "code",
   "execution_count": 27,
   "metadata": {},
   "outputs": [
    {
     "data": {
      "text/plain": [
       "array([17.19493  , 13.658474 , 13.39533  , 10.613704 , 12.831403 ,\n",
       "        4.8761053, 10.988232 , 11.907407 , 11.161745 , 12.444239 ,\n",
       "        9.819384 ,  7.699889 , 10.793732 , 14.398579 , 13.965251 ,\n",
       "       10.957555 , 11.860864 , 11.479229 , 10.381001 , 15.298147 ,\n",
       "       14.154023 , 16.812628 , 13.087048 , 13.2998085, 18.92075  ,\n",
       "       12.182401 , 15.009954 , 14.004843 , 12.641296 , 14.6007395,\n",
       "       12.984819 , 13.325673 , 13.939358 , 13.460756 , 13.813211 ,\n",
       "       13.257079 , 12.79001  , 13.224098 , 14.052313 , 13.740417 ,\n",
       "       13.875024 , 11.582514 , 13.453945 , 16.617495 , 14.4036665,\n",
       "       12.893073 , 12.468197 , 14.383671 ,  5.8517613,  9.472049 ],\n",
       "      dtype=float32)"
      ]
     },
     "execution_count": 27,
     "metadata": {},
     "output_type": "execute_result"
    }
   ],
   "source": [
    "forecast_entry.samples[0,:]"
   ]
  },
  {
   "cell_type": "code",
   "execution_count": 28,
   "metadata": {},
   "outputs": [
    {
     "name": "stdout",
     "output_type": "stream",
     "text": [
      "Number of sample paths: 100\n",
      "Dimension of samples: (100, 50)\n",
      "Start date of the forecast window: 2019-01-07 06:00:00\n",
      "Frequency of the time series: 1H\n"
     ]
    }
   ],
   "source": [
    "print(f\"Number of sample paths: {forecast_entry.num_samples}\")\n",
    "print(f\"Dimension of samples: {forecast_entry.samples.shape}\")\n",
    "print(f\"Start date of the forecast window: {forecast_entry.start_date}\")\n",
    "print(f\"Frequency of the time series: {forecast_entry.freq}\")"
   ]
  },
  {
   "cell_type": "markdown",
   "metadata": {},
   "source": [
    "We can also do calculations to summarize the sample paths, such computing the mean or a quantile for each of the 48 time steps in the forecast window."
   ]
  },
  {
   "cell_type": "code",
   "execution_count": 29,
   "metadata": {},
   "outputs": [
    {
     "name": "stdout",
     "output_type": "stream",
     "text": [
      "Mean of the future window:\n",
      " [13.25134   13.188671  12.301085  11.400879  11.832672  12.465145\n",
      " 12.130824  11.862519  11.798097  11.7966795 11.655383  11.835288\n",
      " 11.194057  11.564204  11.163434  11.57277   11.79419   10.546431\n",
      " 10.285287  11.992748  12.922219  13.083044  12.950461  13.564143\n",
      " 12.761897  13.416644  13.603898  14.130904  13.810456  13.843468\n",
      " 13.902042  14.112338  13.990318  14.025995  14.605237  13.500705\n",
      " 13.995319  14.075117  13.971265  14.419281  13.84233   12.815552\n",
      " 11.955247  12.6789    12.363072  12.986917  12.894796  12.8935795\n",
      " 12.291887  12.850544 ]\n",
      "0.5-quantile (median) of the future window:\n",
      " [12.684715  13.19335   12.350619  11.901091  11.881944  11.994469\n",
      " 12.217533  12.026775  11.967686  11.848625  11.428482  11.84556\n",
      " 11.271478  11.568616  11.165359  11.662037  11.529533  10.747775\n",
      " 10.330145  12.259246  12.98476   12.953607  13.178564  13.641705\n",
      " 13.058712  13.241078  13.757511  13.958941  13.944904  14.022468\n",
      " 13.821525  13.628307  13.952502  13.804883  14.353607  14.07845\n",
      " 14.161396  14.025096  13.884738  14.585737  13.888929  12.879199\n",
      " 12.146981  12.949357  12.662779  13.0604515 13.001097  12.6891365\n",
      " 13.024419  13.023718 ]\n"
     ]
    }
   ],
   "source": [
    "print(f\"Mean of the future window:\\n {forecast_entry.mean}\")\n",
    "print(f\"0.5-quantile (median) of the future window:\\n {forecast_entry.quantile(0.5)}\")"
   ]
  },
  {
   "cell_type": "markdown",
   "metadata": {},
   "source": [
    "`Forecast` objects have a `plot` method that can summarize the forecast paths as the mean, prediction intervals, etc. The prediction intervals are shaded in different colors as a \"fan chart\"."
   ]
  },
  {
   "cell_type": "code",
   "execution_count": 30,
   "metadata": {},
   "outputs": [],
   "source": [
    "def plot_prob_forecasts(ts_entry, forecast_entry):\n",
    "    plot_length = 150 \n",
    "    prediction_intervals = (50.0, 90.0)\n",
    "    legend = [\"observations\", \"median prediction\"] + [f\"{k}% prediction interval\" for k in prediction_intervals][::-1]\n",
    "\n",
    "    fig, ax = plt.subplots(1, 1, figsize=(10, 7))\n",
    "    ts_entry[-plot_length:].plot(ax=ax)  # plot the time series\n",
    "    forecast_entry.plot(prediction_intervals=prediction_intervals, color='g')\n",
    "    plt.grid(which=\"both\")\n",
    "    plt.legend(legend, loc=\"upper left\")\n",
    "    plt.show()"
   ]
  },
  {
   "cell_type": "code",
   "execution_count": 31,
   "metadata": {},
   "outputs": [
    {
     "data": {
      "image/png": "[encoded data removed]",
      "text/plain": [
       "<Figure size 720x504 with 1 Axes>"
      ]
     },
     "metadata": {
      "needs_background": "light"
     },
     "output_type": "display_data"
    }
   ],
   "source": [
    "plot_prob_forecasts(ts_entry, forecast_entry)"
   ]
  },
  {
   "cell_type": "markdown",
   "metadata": {},
   "source": [
    "We can also evaluate the quality of our forecasts numerically. In GluonTS, the `Evaluator` class can compute aggregate performance metrics, as well as metrics per time series (which can be useful for analyzing performance across heterogeneous time series)."
   ]
  },
  {
   "cell_type": "code",
   "execution_count": 32,
   "metadata": {},
   "outputs": [],
   "source": [
    "from gluonts.evaluation import Evaluator"
   ]
  },
  {
   "cell_type": "code",
   "execution_count": 33,
   "metadata": {},
   "outputs": [
    {
     "name": "stderr",
     "output_type": "stream",
     "text": [
      "Running evaluation: 100%|██████████| 153/153 [00:01<00:00, 129.28it/s]\n",
      "/scratch/hpda/anaconda3/envs/gluonts/lib/python3.6/site-packages/pandas/core/dtypes/cast.py:1243: UserWarning: Warning: converting a masked element to nan.\n",
      "  subarr = np.array(values, dtype=dtype, copy=copy)\n"
     ]
    }
   ],
   "source": [
    "evaluator = Evaluator(quantiles=[0.1, 0.5, 0.9])\n",
    "agg_metrics, item_metrics = evaluator(iter(tss), iter(forecasts), num_series=len(test_ds))"
   ]
  },
  {
   "cell_type": "markdown",
   "metadata": {},
   "source": [
    "Aggregate metrics aggregate both across time-steps and across time series."
   ]
  },
  {
   "cell_type": "code",
   "execution_count": 34,
   "metadata": {},
   "outputs": [
    {
     "name": "stdout",
     "output_type": "stream",
     "text": [
      "{\n",
      "    \"MSE\": 9.011855003984504,\n",
      "    \"abs_error\": 11100.156173706055,\n",
      "    \"abs_target_sum\": 55147.0,\n",
      "    \"abs_target_mean\": 10.214919583363173,\n",
      "    \"seasonal_error\": 2.6918673177312615,\n",
      "    \"MASE\": 0.9693616692469743,\n",
      "    \"sMAPE\": 0.25291619610702537,\n",
      "    \"MSIS\": 15.690675444011747,\n",
      "    \"QuantileLoss[0.1]\": 6139.718761467934,\n",
      "    \"Coverage[0.1]\": 0.17805727972120713,\n",
      "    \"QuantileLoss[0.5]\": 11100.156185626984,\n",
      "    \"Coverage[0.5]\": 0.49030869745850575,\n",
      "    \"QuantileLoss[0.9]\": 6559.673312461377,\n",
      "    \"Coverage[0.9]\": 0.7912584535867538,\n",
      "    \"RMSE\": 3.0019751837722617,\n",
      "    \"NRMSE\": 0.2938814309083271,\n",
      "    \"ND\": 0.20128304665178623,\n",
      "    \"wQuantileLoss[0.1]\": 0.11133368563054988,\n",
      "    \"wQuantileLoss[0.5]\": 0.20128304686795262,\n",
      "    \"wQuantileLoss[0.9]\": 0.11894886961142721,\n",
      "    \"mean_wQuantileLoss\": 0.1438552007033099,\n",
      "    \"MAE_Coverage\": 0.06549670955864918\n",
      "}\n"
     ]
    }
   ],
   "source": [
    "print(json.dumps(agg_metrics, indent=4))"
   ]
  },
  {
   "cell_type": "markdown",
   "metadata": {},
   "source": [
    "Individual metrics are aggregated only across time-steps."
   ]
  },
  {
   "cell_type": "code",
   "execution_count": 35,
   "metadata": {},
   "outputs": [
    {
     "data": {
      "text/html": [
       "<div>\n",
       "<style scoped>\n",
       "    .dataframe tbody tr th:only-of-type {\n",
       "        vertical-align: middle;\n",
       "    }\n",
       "\n",
       "    .dataframe tbody tr th {\n",
       "        vertical-align: top;\n",
       "    }\n",
       "\n",
       "    .dataframe thead th {\n",
       "        text-align: right;\n",
       "    }\n",
       "</style>\n",
       "<table border=\"1\" class=\"dataframe\">\n",
       "  <thead>\n",
       "    <tr style=\"text-align: right;\">\n",
       "      <th></th>\n",
       "      <th>Coverage[0.1]</th>\n",
       "      <th>Coverage[0.5]</th>\n",
       "      <th>Coverage[0.9]</th>\n",
       "      <th>MASE</th>\n",
       "      <th>MSE</th>\n",
       "      <th>MSIS</th>\n",
       "      <th>QuantileLoss[0.1]</th>\n",
       "      <th>QuantileLoss[0.5]</th>\n",
       "      <th>QuantileLoss[0.9]</th>\n",
       "      <th>abs_error</th>\n",
       "      <th>abs_target_mean</th>\n",
       "      <th>abs_target_sum</th>\n",
       "      <th>item_id</th>\n",
       "      <th>sMAPE</th>\n",
       "      <th>seasonal_error</th>\n",
       "    </tr>\n",
       "  </thead>\n",
       "  <tbody>\n",
       "    <tr>\n",
       "      <th>0</th>\n",
       "      <td>0.76</td>\n",
       "      <td>0.76</td>\n",
       "      <td>1.00</td>\n",
       "      <td>1.028607</td>\n",
       "      <td>5.636545</td>\n",
       "      <td>22.465159</td>\n",
       "      <td>101.713431</td>\n",
       "      <td>104.906215</td>\n",
       "      <td>31.939626</td>\n",
       "      <td>104.906219</td>\n",
       "      <td>1.900000</td>\n",
       "      <td>95.0</td>\n",
       "      <td>NaN</td>\n",
       "      <td>0.822313</td>\n",
       "      <td>2.039773</td>\n",
       "    </tr>\n",
       "    <tr>\n",
       "      <th>1</th>\n",
       "      <td>0.00</td>\n",
       "      <td>0.00</td>\n",
       "      <td>1.00</td>\n",
       "      <td>0.511285</td>\n",
       "      <td>1.616421</td>\n",
       "      <td>2.608760</td>\n",
       "      <td>32.628976</td>\n",
       "      <td>45.260334</td>\n",
       "      <td>13.557941</td>\n",
       "      <td>45.260334</td>\n",
       "      <td>19.682927</td>\n",
       "      <td>807.0</td>\n",
       "      <td>NaN</td>\n",
       "      <td>0.057997</td>\n",
       "      <td>2.159091</td>\n",
       "    </tr>\n",
       "    <tr>\n",
       "      <th>2</th>\n",
       "      <td>0.38</td>\n",
       "      <td>0.86</td>\n",
       "      <td>0.88</td>\n",
       "      <td>0.533129</td>\n",
       "      <td>2.218419</td>\n",
       "      <td>7.459426</td>\n",
       "      <td>30.220699</td>\n",
       "      <td>61.643056</td>\n",
       "      <td>29.569938</td>\n",
       "      <td>61.643055</td>\n",
       "      <td>3.780000</td>\n",
       "      <td>189.0</td>\n",
       "      <td>NaN</td>\n",
       "      <td>0.328274</td>\n",
       "      <td>2.312500</td>\n",
       "    </tr>\n",
       "    <tr>\n",
       "      <th>3</th>\n",
       "      <td>0.64</td>\n",
       "      <td>0.96</td>\n",
       "      <td>1.00</td>\n",
       "      <td>0.918114</td>\n",
       "      <td>3.732843</td>\n",
       "      <td>16.384093</td>\n",
       "      <td>63.971389</td>\n",
       "      <td>84.247355</td>\n",
       "      <td>27.277121</td>\n",
       "      <td>84.247353</td>\n",
       "      <td>2.360000</td>\n",
       "      <td>118.0</td>\n",
       "      <td>NaN</td>\n",
       "      <td>0.593568</td>\n",
       "      <td>1.835227</td>\n",
       "    </tr>\n",
       "    <tr>\n",
       "      <th>4</th>\n",
       "      <td>1.00</td>\n",
       "      <td>1.00</td>\n",
       "      <td>1.00</td>\n",
       "      <td>1.833147</td>\n",
       "      <td>14.934911</td>\n",
       "      <td>37.687770</td>\n",
       "      <td>171.076288</td>\n",
       "      <td>193.730336</td>\n",
       "      <td>55.251762</td>\n",
       "      <td>193.730347</td>\n",
       "      <td>4.900000</td>\n",
       "      <td>245.0</td>\n",
       "      <td>NaN</td>\n",
       "      <td>0.568466</td>\n",
       "      <td>2.113636</td>\n",
       "    </tr>\n",
       "  </tbody>\n",
       "</table>\n",
       "</div>"
      ],
      "text/plain": [
       "   Coverage[0.1]  Coverage[0.5]  Coverage[0.9]      MASE        MSE  \\\n",
       "0           0.76           0.76           1.00  1.028607   5.636545   \n",
       "1           0.00           0.00           1.00  0.511285   1.616421   \n",
       "2           0.38           0.86           0.88  0.533129   2.218419   \n",
       "3           0.64           0.96           1.00  0.918114   3.732843   \n",
       "4           1.00           1.00           1.00  1.833147  14.934911   \n",
       "\n",
       "        MSIS  QuantileLoss[0.1]  QuantileLoss[0.5]  QuantileLoss[0.9]  \\\n",
       "0  22.465159         101.713431         104.906215          31.939626   \n",
       "1   2.608760          32.628976          45.260334          13.557941   \n",
       "2   7.459426          30.220699          61.643056          29.569938   \n",
       "3  16.384093          63.971389          84.247355          27.277121   \n",
       "4  37.687770         171.076288         193.730336          55.251762   \n",
       "\n",
       "    abs_error  abs_target_mean  abs_target_sum  item_id     sMAPE  \\\n",
       "0  104.906219         1.900000            95.0      NaN  0.822313   \n",
       "1   45.260334        19.682927           807.0      NaN  0.057997   \n",
       "2   61.643055         3.780000           189.0      NaN  0.328274   \n",
       "3   84.247353         2.360000           118.0      NaN  0.593568   \n",
       "4  193.730347         4.900000           245.0      NaN  0.568466   \n",
       "\n",
       "   seasonal_error  \n",
       "0        2.039773  \n",
       "1        2.159091  \n",
       "2        2.312500  \n",
       "3        1.835227  \n",
       "4        2.113636  "
      ]
     },
     "execution_count": 35,
     "metadata": {},
     "output_type": "execute_result"
    }
   ],
   "source": [
    "item_metrics.head()"
   ]
  },
  {
   "cell_type": "code",
   "execution_count": 36,
   "metadata": {},
   "outputs": [
    {
     "data": {
      "image/png": "[encoded data removed]",
      "text/plain": [
       "<Figure size 432x288 with 1 Axes>"
      ]
     },
     "metadata": {
      "needs_background": "light"
     },
     "output_type": "display_data"
    }
   ],
   "source": [
    "item_metrics.plot(x='MSIS', y='MASE', kind='scatter')\n",
    "plt.grid(which=\"both\")\n",
    "plt.show()"
   ]
  },
  {
   "cell_type": "code",
   "execution_count": 37,
   "metadata": {},
   "outputs": [
    {
     "data": {
      "text/plain": [
       "'0.24.1'"
      ]
     },
     "execution_count": 37,
     "metadata": {},
     "output_type": "execute_result"
    }
   ],
   "source": [
    "pd.__version__"
   ]
  },
  {
   "cell_type": "code",
   "execution_count": 38,
   "metadata": {},
   "outputs": [
    {
     "data": {
      "text/plain": [
       "gluonts.model.forecast.SampleForecast(freq=\"1H\", info=None, item_id=None, samples=numpy.array([[17.194929122924805, 13.65847396850586, 13.395330429077148, 10.613703727722168, 12.831402778625488, 4.876105308532715, 10.988231658935547, 11.9074068069458, 11.161745071411133, 12.444238662719727, 9.81938362121582, 7.699889183044434, 10.793731689453125, 14.398578643798828, 13.965250968933105, 10.957554817199707, 11.86086368560791, 11.479228973388672, 10.381001472473145, 15.298147201538086, 14.154023170471191, 16.8126277923584, 13.087047576904297, 13.299808502197266, 18.92074966430664, 12.182400703430176, 15.009954452514648, 14.004842758178711, 12.64129638671875, 14.600739479064941, 12.984819412231445, 13.32567310333252, 13.93935775756836, 13.460756301879883, 13.813211441040039, 13.257079124450684, 12.790010452270508, 13.224098205566406, 14.052312850952148, 13.740416526794434, 13.87502384185791, 11.582513809204102, 13.45394515991211, 16.617494583129883, 14.403666496276855, 12.893073081970215, 12.468196868896484, 14.383670806884766, 5.851761341094971, 9.47204875946045], [15.418331146240234, 12.164887428283691, 13.05705451965332, 14.428915023803711, 9.081395149230957, 12.29625129699707, 12.435722351074219, 12.60546875, 12.664454460144043, 14.115124702453613, 9.376787185668945, 11.398042678833008, 11.322428703308105, 12.740079879760742, 11.639368057250977, 10.504779815673828, 10.864725112915039, 16.320959091186523, 10.340312004089355, 12.225547790527344, 8.776304244995117, 13.201745986938477, 13.663264274597168, 14.210518836975098, 14.912518501281738, 12.911931991577148, 11.255497932434082, 12.369290351867676, 13.964117050170898, 13.050318717956543, 12.919364929199219, 14.201659202575684, 13.760930061340332, 13.520257949829102, 13.891335487365723, 12.708890914916992, 11.47185230255127, 12.37645435333252, 23.81501579284668, 12.747003555297852, 15.241327285766602, 13.686959266662598, 13.623150825500488, 14.5202054977417, 14.814962387084961, 15.982418060302734, 14.079739570617676, 14.493664741516113, 12.732114791870117, 14.1488037109375], [14.039848327636719, 16.280187606811523, 13.114812850952148, 12.747161865234375, 12.674671173095703, 11.812807083129883, 11.388223648071289, 12.802783966064453, 13.660321235656738, 12.542285919189453, 9.496320724487305, 11.866512298583984, 11.07718563079834, 11.118474006652832, 10.946782112121582, 10.692557334899902, 10.051466941833496, 9.778383255004883, 11.633593559265137, 10.982253074645996, 11.08116626739502, 9.652647018432617, 14.643529891967773, 13.007983207702637, 12.373420715332031, 11.211997032165527, 13.041650772094727, 14.285490036010742, 14.117326736450195, 10.917303085327148, 13.113372802734375, 14.413723945617676, 13.815728187561035, 13.605340003967285, 14.033926963806152, 14.307760238647461, 12.609442710876465, 15.424965858459473, 12.006688117980957, 15.262578964233398, 13.851678848266602, 8.543807029724121, 10.584738731384277, 11.343381881713867, 13.627568244934082, 11.623385429382324, 14.398758888244629, 12.165709495544434, 10.596674919128418, 12.56308650970459], [10.3023681640625, 12.242762565612793, 11.513002395629883, 12.098142623901367, 12.926236152648926, 13.742256164550781, 12.984563827514648, 10.56322956085205, 12.720171928405762, 12.561905860900879, 12.640836715698242, 10.074111938476562, 11.795965194702148, 12.689435958862305, 13.817317962646484, 12.484789848327637, 15.27234935760498, 11.142378807067871, 9.628142356872559, 13.045731544494629, 10.464661598205566, 12.66576862335205, 12.63009262084961, 13.257829666137695, 13.15467643737793, 12.519609451293945, 11.805344581604004, 13.105996131896973, 15.54859733581543, 13.501811981201172, 12.934148788452148, 15.158378601074219, 16.42429542541504, 14.16745376586914, 13.947908401489258, 12.795642852783203, 14.718554496765137, 11.996749877929688, 13.375728607177734, 14.703953742980957, 4.67516565322876, 11.083846092224121, 10.3836088180542, 12.705246925354004, 10.726868629455566, 11.473162651062012, 11.289031982421875, 10.767895698547363, 12.583656311035156, 11.811830520629883], [15.464605331420898, 12.298247337341309, 11.647689819335938, 11.774495124816895, 11.87227725982666, 12.277956008911133, 10.837549209594727, 11.783416748046875, 9.200087547302246, 7.324105262756348, 9.409196853637695, 12.077629089355469, 10.407665252685547, 10.555246353149414, 11.50437068939209, 10.848052024841309, 7.369594573974609, 13.07296085357666, 12.745835304260254, 12.735615730285645, 13.153437614440918, 13.416373252868652, 14.181282043457031, 12.946565628051758, 15.231677055358887, 13.85151195526123, 17.36777114868164, 17.25426483154297, 10.821998596191406, 14.931619644165039, 16.83629608154297, 18.113746643066406, 15.279329299926758, 12.958366394042969, 22.453632354736328, 10.719621658325195, 14.149408340454102, 14.93125057220459, 14.670745849609375, 14.280402183532715, 15.43942642211914, 13.927290916442871, 11.655062675476074, 14.960427284240723, 11.764069557189941, 23.27210235595703, 13.836278915405273, 17.947124481201172, 14.528477668762207, 14.20678424835205], [11.485898971557617, 13.123929977416992, 13.874277114868164, 10.960050582885742, 12.832269668579102, 14.209627151489258, 12.56594467163086, 13.579240798950195, 14.45444107055664, 13.739270210266113, 11.619016647338867, 12.870924949645996, 8.643038749694824, 11.719220161437988, 11.050479888916016, 9.375091552734375, 9.651449203491211, 9.56350040435791, 9.699493408203125, 11.726482391357422, 16.608407974243164, 12.042610168457031, 14.530885696411133, 12.160868644714355, 12.979023933410645, 14.85843563079834, 14.700698852539062, 14.122122764587402, 11.592838287353516, 16.057348251342773, 11.244349479675293, 13.313849449157715, 15.737434387207031, 15.311050415039062, 14.818411827087402, 15.62193775177002, 14.084922790527344, 14.351067543029785, 13.836966514587402, 14.833160400390625, 16.285552978515625, 12.089073181152344, -1.2928379774093628, 10.388687133789062, 13.084803581237793, 1.28954017162323, 10.587356567382812, 7.435920715332031, 9.722535133361816, 10.995726585388184], [9.912314414978027, 5.639166355133057, 10.127601623535156, 11.694662094116211, 7.810496807098389, 10.124823570251465, 13.30737018585205, 10.595279693603516, 9.255313873291016, 10.13631820678711, 10.385231971740723, 11.082956314086914, 10.763065338134766, 10.246938705444336, 9.671212196350098, 8.125632286071777, 8.588578224182129, 9.744861602783203, 9.59349250793457, 10.381316184997559, 12.514423370361328, 12.43910026550293, 11.533822059631348, 12.44847583770752, 10.950431823730469, 12.778100967407227, 12.700490951538086, 16.764883041381836, 14.674675941467285, 15.049688339233398, 13.510976791381836, 14.86189079284668, 16.178241729736328, 16.400588989257812, 14.611475944519043, 10.224629402160645, 14.181497573852539, 14.439351081848145, 14.565064430236816, 12.66483211517334, 15.781253814697266, 13.763394355773926, 12.430899620056152, 12.981399536132812, 14.200706481933594, 12.988577842712402, 12.166106224060059, 10.998051643371582, 12.476263046264648, 11.331609725952148], [13.5772066116333, 14.014399528503418, 9.846780776977539, 11.652376174926758, 11.676911354064941, 11.439099311828613, 11.151437759399414, 13.019166946411133, 12.945971488952637, 9.650385856628418, 11.753765106201172, 14.708703994750977, 11.449470520019531, 11.66778564453125, 10.326631546020508, 19.041074752807617, 11.68492603302002, 12.335095405578613, 10.65711784362793, 13.016887664794922, 9.778470039367676, 12.854307174682617, 12.07048225402832, 14.32101821899414, 13.72760009765625, 12.591861724853516, 13.395147323608398, 12.464645385742188, 13.246667861938477, 14.1895112991333, 10.682014465332031, 16.84309959411621, 18.07221031188965, 15.812585830688477, 15.877992630004883, 15.181564331054688, 17.11740493774414, 13.055374145507812, 15.964170455932617, 15.279759407043457, 15.965460777282715, 13.455769538879395, 13.313879013061523, 13.843944549560547, 15.132052421569824, 15.126482009887695, 15.54214096069336, 13.857613563537598, 14.114165306091309, 13.965995788574219], [12.047409057617188, 12.992424011230469, 12.138998985290527, 10.75238037109375, 11.456413269042969, 13.132415771484375, 12.499874114990234, 10.246280670166016, 10.067557334899902, 7.941162586212158, 11.275997161865234, 11.277854919433594, 6.968684673309326, 19.748262405395508, 8.901190757751465, 11.662036895751953, 11.264066696166992, 12.948174476623535, 12.460719108581543, 14.708821296691895, 9.374189376831055, 14.41891860961914, 14.296931266784668, 17.65557098388672, 13.276151657104492, 13.729710578918457, 15.268057823181152, 14.9418306350708, 15.660967826843262, 14.938230514526367, 13.71572208404541, 15.867012977600098, 15.949275016784668, 16.819150924682617, 16.427453994750977, 16.44254493713379, 14.91523551940918, 14.769878387451172, 5.820556163787842, 12.24467658996582, 15.549994468688965, 16.719755172729492, 13.742025375366211, 12.949357032775879, 13.228466033935547, 12.403743743896484, 11.312978744506836, 12.999444007873535, 9.606403350830078, 14.437575340270996], [11.909839630126953, 11.342093467712402, 10.876858711242676, 14.123425483703613, 11.535131454467773, 12.254576683044434, 11.665605545043945, 9.726058959960938, 11.428597450256348, 9.969401359558105, 9.589653968811035, 12.100906372070312, 11.202877044677734, 10.071694374084473, 8.467080116271973, 11.67691421508789, 10.439190864562988, 11.302635192871094, 8.132646560668945, 12.209789276123047, 9.082768440246582, 2.995360851287842, 12.060774803161621, 6.822055339813232, 0.22982706129550934, 8.600787162780762, 8.784671783447266, 9.544585227966309, 13.839163780212402, 13.767940521240234, 11.9663724899292, 11.767179489135742, 12.674430847167969, 11.541332244873047, 15.449407577514648, 13.164661407470703, 13.093863487243652, 13.15173625946045, 17.813257217407227, 14.240470886230469, 11.762656211853027, 11.307543754577637, 12.340057373046875, 8.98426628112793, 10.539077758789062, 16.592235565185547, 10.795194625854492, 8.311522483825684, 13.024418830871582, 10.095439910888672], [13.084454536437988, 13.317719459533691, 12.350619316101074, 12.089405059814453, 9.126840591430664, 12.143736839294434, 11.230024337768555, 10.108317375183105, 12.726386070251465, 11.430737495422363, 11.08375072479248, 11.061628341674805, 12.51443862915039, 10.533958435058594, 11.025249481201172, 11.771391868591309, 10.974160194396973, 10.423809051513672, 10.468557357788086, 13.256636619567871, 13.247278213500977, 12.877519607543945, 15.273045539855957, 15.092636108398438, 13.517324447631836, 14.719304084777832, 15.248186111450195, 13.796913146972656, 15.97436237335205, 16.363975524902344, 13.634442329406738, 13.339313507080078, 17.962156295776367, 14.605622291564941, 13.160368919372559, 13.972851753234863, 16.314716339111328, 10.708044052124023, 13.898786544799805, 14.00871467590332, 12.828681945800781, 13.524720191955566, 13.648625373840332, 12.789841651916504, 12.373381614685059, 11.25286865234375, 15.382085800170898, 15.045059204101562, 13.919916152954102, 15.543676376342773], [13.252612113952637, 13.969744682312012, 13.205020904541016, 10.678828239440918, 12.103789329528809, 14.44019603729248, 14.153961181640625, 9.313830375671387, 13.693442344665527, 11.740118026733398, 10.090621948242188, 12.831892967224121, 14.00672721862793, 11.969718933105469, 19.792713165283203, 12.81689453125, 13.433181762695312, 12.36804485321045, 12.893357276916504, 13.176826477050781, 12.882932662963867, 13.943319320678711, 13.546174049377441, 13.968794822692871, 14.233583450317383, 13.635985374450684, 16.75809669494629, 13.758699417114258, 14.93425464630127, 15.523005485534668, 16.670520782470703, 17.698699951171875, 15.789533615112305, 14.684996604919434, 15.049861907958984, 16.23391342163086, 14.974291801452637, 15.885568618774414, 15.174426078796387, 15.828773498535156, 14.462127685546875, 14.6851167678833, 11.568408012390137, 13.360323905944824, 14.801243782043457, 12.856879234313965, 14.829954147338867, 8.891497611999512, 9.215816497802734, 13.887184143066406], [19.63041877746582, 13.523186683654785, 10.8551025390625, 15.721858978271484, 10.56309700012207, 12.247045516967773, 12.616316795349121, 15.383060455322266, 14.151148796081543, 10.572758674621582, 11.479375839233398, 10.453369140625, 4.687813758850098, 11.979273796081543, 11.577972412109375, 11.258889198303223, 11.922863960266113, 9.250259399414062, 11.136213302612305, 9.863067626953125, 13.155521392822266, 11.577526092529297, 11.434006690979004, 14.984743118286133, 14.391426086425781, 12.478072166442871, 14.100339889526367, 10.997884750366211, 13.54071044921875, 14.210586547851562, 15.49510383605957, 14.02341079711914, 13.07681655883789, 23.29534912109375, 13.361952781677246, 11.885656356811523, 11.80033016204834, 14.405415534973145, 14.770452499389648, 22.595430374145508, 22.98937225341797, 15.078206062316895, 9.912687301635742, 12.475030899047852, 15.508403778076172, 14.990172386169434, 14.133703231811523, 12.429826736450195, 13.719428062438965, 16.608352661132812], [16.566261291503906, 10.531044006347656, 12.45447063446045, 12.127683639526367, 13.11014461517334, 9.563104629516602, 11.255899429321289, 11.773191452026367, 10.054821968078613, 11.417309761047363, 12.89012336730957, 10.591893196105957, 11.737396240234375, 12.107072830200195, 10.8729887008667, 14.051468849182129, 11.437056541442871, 11.169174194335938, 10.706581115722656, 13.356819152832031, 13.392145156860352, 15.469416618347168, 11.326431274414062, 13.464560508728027, 15.153166770935059, 14.684795379638672, 13.944068908691406, 13.485954284667969, 13.694194793701172, 15.417128562927246, 13.083988189697266, 13.591233253479004, 13.764432907104492, 12.507912635803223, 11.280360221862793, 12.366211891174316, 12.14350414276123, 11.977144241333008, 12.785840034484863, 10.791049003601074, 9.877572059631348, 11.549461364746094, 11.47465705871582, 11.507733345031738, 17.979942321777344, 11.258934020996094, 12.765785217285156, 12.687424659729004, 11.706741333007812, 12.633561134338379], [11.192669868469238, 16.54127311706543, 13.877485275268555, 9.523602485656738, 11.921525955200195, 11.966580390930176, 13.179292678833008, 10.955632209777832, 10.761283874511719, 12.248895645141602, 10.173561096191406, 10.103053092956543, 8.804793357849121, 11.650635719299316, 11.594353675842285, 11.721484184265137, 12.567095756530762, 9.317927360534668, 10.472381591796875, 13.487829208374023, 12.416126251220703, 15.740116119384766, 12.46990966796875, 13.56332015991211, 13.855377197265625, 12.930794715881348, 12.629106521606445, 11.834202766418457, 15.362786293029785, 11.13947582244873, 13.631421089172363, 13.376948356628418, 12.912254333496094, 13.934656143188477, 13.260412216186523, 14.874814987182617, 15.695277214050293, 9.32072639465332, 13.537886619567871, 14.172828674316406, 12.175857543945312, 13.471890449523926, 10.85335922241211, 11.886738777160645, 10.540313720703125, 15.267196655273438, 13.001096725463867, 11.15117359161377, 11.413081169128418, 12.802656173706055], [17.997854232788086, 14.395244598388672, 10.626202583312988, 13.94572925567627, 11.803640365600586, 14.472082138061523, 13.026899337768555, 12.446258544921875, 11.989989280700684, 13.138264656066895, 10.803751945495605, 14.325621604919434, 12.383389472961426, 11.782867431640625, 14.336078643798828, 11.070791244506836, 9.375967025756836, 11.162904739379883, 7.090366363525391, 12.766889572143555, 11.684324264526367, 12.603201866149902, 15.38115406036377, 18.722671508789062, 6.580514430999756, 12.067716598510742, 13.525982856750488, 14.696525573730469, 14.055863380432129, 15.279046058654785, 13.626265525817871, 13.411138534545898, 12.275739669799805, 17.402496337890625, 16.024473190307617, 15.22996711730957, 12.682761192321777, 14.603439331054688, 13.291789054870605, 15.640604019165039, 13.011564254760742, 11.079022407531738, 11.558343887329102, 14.101797103881836, 12.662778854370117, 11.443488121032715, 11.406682968139648, 11.262665748596191, 12.49012565612793, 13.229178428649902], [12.609728813171387, 13.055501937866211, 14.903173446655273, 11.954030990600586, 10.10704231262207, 11.708551406860352, 11.679924011230469, 12.435626983642578, 11.267345428466797, 8.967806816101074, 11.804168701171875, 11.94931697845459, 10.691073417663574, 10.68651294708252, 8.980609893798828, 11.693625450134277, 9.187556266784668, 9.807218551635742, 8.828359603881836, 12.316010475158691, 9.926326751708984, 2.8736588954925537, 12.615971565246582, 11.187935829162598, 11.726630210876465, 13.332231521606445, 13.523633003234863, 11.448333740234375, 12.539535522460938, 13.239323616027832, 12.489913940429688, 12.598849296569824, 12.804526329040527, 13.166329383850098, 14.996399879455566, 13.307672500610352, 13.777692794799805, 13.400639533996582, 14.461057662963867, 15.710577964782715, 12.095477104187012, 5.327286720275879, 10.535073280334473, 11.418045043945312, 9.194222450256348, 13.482745170593262, 11.884613990783691, 12.629878044128418, 11.867901802062988, 11.397834777832031], [10.901067733764648, 4.01402473449707, 11.986319541931152, 12.74320125579834, 7.780500888824463, 10.696563720703125, 9.884340286254883, 11.174070358276367, 9.014073371887207, 7.778064727783203, 8.899677276611328, 10.789111137390137, 10.471710205078125, 11.724907875061035, 9.602642059326172, 11.967137336730957, 10.421876907348633, 6.4521684646606445, 8.153682708740234, 12.695018768310547, 13.09486198425293, 11.328946113586426, 11.183955192565918, 10.27119255065918, 11.12843132019043, 12.992425918579102, 12.819692611694336, 13.474337577819824, 12.99536418914795, 12.528472900390625, 6.656686305999756, 12.226752281188965, 12.074469566345215, 10.674427032470703, 10.959183692932129, 15.374176979064941, 13.023412704467773, 12.34677505493164, 13.923256874084473, 12.982800483703613, 12.580504417419434, 15.104341506958008, 12.015617370605469, 17.584518432617188, 12.02092456817627, 13.529739379882812, 13.026315689086914, 13.673718452453613, 13.610250473022461, 12.645524024963379], [11.883588790893555, 17.00016212463379, 12.562602996826172, 12.730988502502441, 11.987519264221191, 10.699857711791992, 13.690441131591797, 13.879302978515625, 10.299996376037598, 14.667051315307617, 10.49679183959961, 11.41936206817627, 12.389516830444336, 14.929224014282227, 12.311079978942871, 11.092169761657715, 12.81472396850586, 12.580742835998535, 9.248666763305664, 12.821049690246582, 13.408824920654297, 17.266996383666992, 14.097443580627441, 15.219919204711914, 11.313333511352539, 12.307321548461914, 12.426545143127441, 15.8146333694458, 15.481746673583984, 20.239439010620117, 15.620407104492188, 12.656780242919922, 13.696640968322754, 16.12387466430664, 15.17473030090332, 6.636467933654785, 14.431305885314941, 17.712427139282227, 13.379537582397461, 15.852092742919922, 12.51235580444336, 12.580147743225098, 11.86816120147705, 12.661880493164062, 12.96895694732666, 13.446989059448242, 13.206218719482422, 12.670669555664062, 10.95291519165039, 12.739595413208008], [13.172758102416992, 10.318062782287598, 14.309598922729492, 11.483720779418945, 10.762887954711914, 12.204967498779297, 12.054180145263672, 10.477397918701172, 12.476415634155273, 13.616068840026855, 12.007611274719238, 13.110710144042969, 12.241031646728516, 11.589702606201172, 11.612458229064941, 12.644169807434082, 13.918194770812988, 10.693329811096191, 15.77449893951416, 13.09554386138916, 12.310935974121094, 13.28297233581543, 15.220100402832031, 14.880759239196777, 10.96723747253418, 21.375642776489258, 11.868731498718262, 17.308372497558594, 14.720938682556152, 17.421092987060547, 12.72802448272705, 16.242847442626953, 13.92335033416748, 16.5311279296875, 14.726815223693848, 16.088281631469727, 14.269086837768555, 15.143646240234375, 9.178057670593262, 13.721792221069336, 17.196319580078125, 13.554441452026367, 14.687287330627441, 15.075512886047363, 12.932140350341797, 14.15563678741455, 13.375203132629395, 15.164952278137207, 18.33256721496582, 14.756757736206055], [12.38645076751709, 11.324275970458984, 11.210369110107422, 9.692850112915039, 8.75442123413086, 11.760272026062012, 10.307747840881348, 13.772117614746094, 10.379321098327637, 10.858845710754395, 9.956754684448242, 10.406057357788086, 11.016523361206055, 11.197059631347656, 10.358593940734863, 7.150139808654785, 8.838213920593262, 11.96260929107666, 10.381863594055176, 9.389534950256348, 13.761247634887695, 12.042872428894043, 11.50748348236084, 12.155023574829102, 12.212069511413574, 13.549081802368164, 13.7711181640625, 12.107182502746582, 12.453869819641113, 14.018635749816895, 11.456587791442871, 13.51109504699707, 13.342524528503418, 14.126391410827637, 14.238795280456543, 18.434528350830078, 13.294010162353516, 16.931499481201172, 15.214709281921387, 14.555376052856445, 13.500879287719727, 14.181447982788086, 21.537981033325195, 19.033065795898438, 16.505722045898438, 15.305541038513184, 14.004406929016113, 14.923279762268066, 16.282236099243164, 15.051036834716797], [11.652947425842285, 8.108683586120605, 14.271646499633789, 14.264638900756836, 12.302000999450684, 11.427007675170898, 13.097177505493164, 13.483611106872559, 11.324395179748535, 11.070571899414062, 11.263625144958496, 11.845560073852539, 11.12250804901123, 10.8745698928833, 10.36631965637207, 13.5513277053833, 11.608129501342773, 9.77497673034668, 8.274765968322754, 14.676769256591797, 11.615623474121094, 14.837923049926758, 11.2166166305542, 13.641704559326172, 4.456958293914795, 12.12765884399414, 9.181419372558594, 12.348776817321777, 9.95600414276123, 11.921923637390137, 11.328094482421875, 13.628307342529297, 12.25496768951416, 12.375603675842285, 14.155083656311035, 14.025864601135254, 14.097041130065918, 14.159584999084473, 13.420677185058594, 19.475217819213867, 5.052398204803467, 13.69577407836914, 11.451896667480469, 13.566428184509277, 15.21082878112793, 15.116486549377441, 13.20827865600586, 15.83056926727295, 12.977212905883789, 13.184206008911133], [11.451207160949707, 13.779243469238281, 10.056796073913574, 12.960012435913086, 10.924738883972168, 11.412103652954102, 11.448288917541504, 6.595025539398193, 13.839771270751953, 10.181584358215332, 10.846927642822266, 11.923620223999023, 11.845672607421875, 13.012950897216797, 13.447875022888184, 11.803572654724121, 12.041441917419434, 12.45720100402832, 12.69072151184082, 12.080604553222656, 12.901214599609375, 12.953606605529785, 30.459794998168945, 15.307271957397461, 15.198419570922852, 15.491570472717285, 17.362585067749023, 16.379032135009766, 17.313512802124023, 15.272907257080078, 19.571271896362305, 17.130352020263672, 16.83281135559082, 15.769235610961914, 21.99370765686035, 18.340957641601562, 16.330297470092773, 20.352901458740234, 15.9380521774292, 17.436267852783203, 16.14802360534668, 16.213573455810547, 15.304743766784668, 17.40462303161621, 15.33867359161377, 10.079299926757812, 15.808850288391113, 15.496641159057617, 15.333311080932617, 14.24905776977539], [14.237919807434082, 13.174494743347168, 13.59150505065918, 10.493108749389648, 10.763916969299316, 13.688331604003906, 13.129717826843262, 11.7441987991333, 13.62088394165039, 12.34754467010498, 9.674309730529785, 10.964941024780273, 11.209056854248047, 11.233213424682617, 3.3738224506378174, 17.747085571289062, 12.193703651428223, 8.808967590332031, -4.9288859367370605, 11.669915199279785, 10.749593734741211, 12.298287391662598, 4.870000839233398, 12.05437183380127, 13.239770889282227, 12.156158447265625, 13.151888847351074, 13.167204856872559, 10.697286605834961, 11.815861701965332, 12.967950820922852, 14.916511535644531, 11.762413024902344, 13.140548706054688, 13.915243148803711, 13.112238883972168, 11.805001258850098, 13.630550384521484, 12.721940040588379, 15.91316032409668, 12.786674499511719, 14.104121208190918, 12.146981239318848, 15.415506362915039, 11.738160133361816, 12.839848518371582, 13.289459228515625, 12.640665054321289, 12.145034790039062, 12.538786888122559], [12.027186393737793, 12.366154670715332, 11.021050453186035, 11.65429401397705, 13.047628402709961, 11.128416061401367, 11.107022285461426, 11.948019981384277, 10.76979923248291, 10.500616073608398, 11.573628425598145, 11.190439224243164, 13.572097778320312, 10.42692756652832, 12.300836563110352, 10.731489181518555, 14.922008514404297, 10.958887100219727, 21.739171981811523, 13.37038516998291, 13.50093936920166, 15.101269721984863, 15.6007719039917, 12.325370788574219, 11.104843139648438, 14.335209846496582, 14.571491241455078, 20.64423179626465, 13.448406219482422, 13.227736473083496, 13.96953296661377, 12.46473217010498, 13.133227348327637, 17.063451766967773, 13.807265281677246, 14.646271705627441, 13.33824348449707, 14.141422271728516, 11.76063060760498, 12.596405029296875, 7.573969841003418, 14.056422233581543, 24.25927734375, 12.759199142456055, 13.78643798828125, 13.552655220031738, 14.82425594329834, 15.096663475036621, 16.03885841369629, 14.006684303283691], [20.931154251098633, 13.108445167541504, 11.722318649291992, 7.8454389572143555, 13.826047897338867, 13.73918628692627, 10.511407852172852, 12.660505294799805, 12.126630783081055, 6.814119815826416, 9.237870216369629, 10.687861442565918, 11.015546798706055, 9.051530838012695, 9.003432273864746, 9.39271354675293, 10.808547019958496, 7.93153190612793, 10.7748384475708, 10.51735782623291, 12.297872543334961, 11.358625411987305, 12.098623275756836, 15.569151878356934, 14.407747268676758, 12.490335464477539, 15.607748985290527, 15.543367385864258, 19.10378074645996, 17.21157455444336, 16.440603256225586, 14.61087417602539, 16.497901916503906, 15.521480560302734, 16.522123336791992, 13.769550323486328, 14.96922779083252, 12.3443021774292, 18.335224151611328, 14.744169235229492, 13.28095531463623, 12.899199485778809, 13.109902381896973, 13.58149528503418, 12.37193775177002, 12.778959274291992, 13.154609680175781, 15.403424263000488, 14.20610237121582, 13.803598403930664], [11.589982986450195, 15.074372291564941, 13.653088569641113, 12.345046043395996, 11.70751953125, 11.736715316772461, 14.046418190002441, 9.172322273254395, 10.623485565185547, 10.705840110778809, 11.750171661376953, 12.291998863220215, 9.675837516784668, 14.027425765991211, 9.816669464111328, 10.114677429199219, 13.107762336730957, 10.842711448669434, 8.117162704467773, 9.644728660583496, 12.987404823303223, 12.221428871154785, 10.797152519226074, 15.367189407348633, 8.454343795776367, 11.739535331726074, 13.500932693481445, 15.595763206481934, 12.921850204467773, 14.062850952148438, 13.991097450256348, 12.042675971984863, 14.079366683959961, 11.748711585998535, 11.766427040100098, 14.427408218383789, 14.674047470092773, 9.4559907913208, 13.217400550842285, -4.616091251373291, 11.81263256072998, 10.523137092590332, 2.07593035697937, -9.429747581481934, 5.489130973815918, 6.842039108276367, 8.06551742553711, 7.057858943939209, 5.722265720367432, 7.406866073608398], [11.894026756286621, 10.979663848876953, 11.04830551147461, 10.143304824829102, 11.800081253051758, 11.774249076843262, 10.760628700256348, 12.036972045898438, 10.955666542053223, 11.785242080688477, 10.158188819885254, 10.6834077835083, 4.17780876159668, 9.181806564331055, 10.866276741027832, 12.81239128112793, 10.325953483581543, 8.85707950592041, 9.086282730102539, 9.682899475097656, 15.553377151489258, 13.126208305358887, 11.43331241607666, 13.558943748474121, 12.746583938598633, 13.214273452758789, 13.298652648925781, 16.72261619567871, 14.76861572265625, 14.75735092163086, 14.032678604125977, 14.598556518554688, 14.459258079528809, 15.008037567138672, 14.562586784362793, 15.806025505065918, 13.571465492248535, 13.462923049926758, 16.089006423950195, 14.571229934692383, 15.874320983886719, 12.514248847961426, 11.978514671325684, 10.472909927368164, 12.045576095581055, 13.244895935058594, 14.211145401000977, 12.985331535339355, 9.419760704040527, 11.526185989379883], [12.87173843383789, 11.562272071838379, 12.082484245300293, 12.072929382324219, 11.82207202911377, 10.133259773254395, 11.81901741027832, 10.069482803344727, 10.141583442687988, 10.222329139709473, 10.621500015258789, 9.27619457244873, 10.566580772399902, 11.269773483276367, 11.679841995239258, 13.062854766845703, 10.232230186462402, 9.90669059753418, 9.511579513549805, 10.811931610107422, 9.791068077087402, 14.612940788269043, 11.408937454223633, 12.458781242370605, 14.545223236083984, 14.704170227050781, 13.74799633026123, 14.84345531463623, 14.38929271697998, 13.997228622436523, 12.592696189880371, 17.305875778198242, 11.652278900146484, 13.408556938171387, 12.861762046813965, 7.8886027336120605, 13.200944900512695, 13.439469337463379, 12.29855728149414, 12.210624694824219, 14.358357429504395, 12.890650749206543, 12.351655006408691, 12.63789176940918, 12.531524658203125, 10.05723762512207, 12.75628662109375, 14.528935432434082, 13.303394317626953, 12.567505836486816], [13.222502708435059, 12.952529907226562, 13.645885467529297, 11.594619750976562, 12.360886573791504, 12.849209785461426, 11.54792308807373, 11.788952827453613, 13.107484817504883, 12.235980987548828, 12.243117332458496, 10.994989395141602, 13.468498229980469, 10.422879219055176, 9.780210494995117, 11.853843688964844, 12.399518966674805, 10.375137329101562, 8.88718032836914, 10.954132080078125, 9.936589241027832, 14.356393814086914, 9.73487377166748, 12.686914443969727, 26.63414764404297, 13.66187858581543, 13.475152969360352, 19.088436126708984, 14.504316329956055, 16.14604949951172, 19.40934944152832, 15.646260261535645, 15.059906005859375, 10.770813941955566, 15.301054954528809, 12.62198543548584, 14.539042472839355, 14.157655715942383, 13.884737968444824, 14.273457527160645, 12.385748863220215, 11.541755676269531, 14.30734634399414, 12.516366958618164, 17.817285537719727, 11.12862777709961, 13.020113945007324, 23.77130699157715, 18.16853904724121, 19.561115264892578], [18.48052215576172, 13.061910629272461, 9.273792266845703, 10.854606628417969, 12.967157363891602, 14.223003387451172, 10.945613861083984, 12.688545227050781, 11.474098205566406, 19.98224639892578, 12.74747085571289, 14.462475776672363, 12.288544654846191, 4.241278648376465, 9.33102798461914, 11.791255950927734, 11.612065315246582, 9.130780220031738, 17.56832504272461, 13.48482894897461, 14.921748161315918, 14.874110221862793, 12.403146743774414, 15.256086349487305, 14.145500183105469, 13.17677116394043, 14.320363998413086, 9.799355506896973, 10.213728904724121, 13.573286056518555, 14.938549041748047, 16.848705291748047, 13.973828315734863, 14.603683471679688, 14.412049293518066, 17.793128967285156, 14.649128913879395, 15.640002250671387, 16.40074920654297, 17.606184005737305, 15.440231323242188, 17.999624252319336, 15.77920150756836, 13.480928421020508, 16.712770462036133, 15.527080535888672, 13.837841033935547, 15.123499870300293, 15.728005409240723, 16.0665340423584], [14.375109672546387, 33.089046478271484, 14.208434104919434, 14.14539909362793, 16.623685836791992, 15.89599895477295, 17.672964096069336, 15.429259300231934, 16.851722717285156, 13.460190773010254, 14.743561744689941, 13.861557960510254, 13.570149421691895, 11.568615913391113, 12.921319007873535, 11.99789047241211, 16.609182357788086, 11.352999687194824, 13.724295616149902, 12.904748916625977, 16.544448852539062, 13.914234161376953, 13.350224494934082, 17.350751876831055, 17.37038803100586, 16.595914840698242, 15.442620277404785, 16.24217414855957, 15.850671768188477, 16.39454460144043, 13.534181594848633, 15.968372344970703, 14.298115730285645, 15.390043258666992, 19.15106964111328, 17.77189064025879, 14.949581146240234, 15.907042503356934, 18.384607315063477, 16.801645278930664, 14.8864164352417, 16.17111587524414, 14.541947364807129, 13.509153366088867, 18.485485076904297, 16.4202823638916, 17.199230194091797, 15.078486442565918, 16.840774536132812, 13.99472427368164], [11.315017700195312, 10.283257484436035, 12.098751068115234, 6.446585178375244, 11.65211009979248, 11.994468688964844, 12.202594757080078, 8.115266799926758, 10.896408081054688, 22.620162963867188, 12.669146537780762, 13.360342979431152, 13.267537117004395, 15.898238182067871, 7.020693302154541, 9.993215560913086, 15.805612564086914, 10.865817070007324, 11.125028610229492, 12.421063423156738, 13.35195255279541, 12.418647766113281, 14.99667739868164, 14.880693435668945, 14.150047302246094, 13.346845626831055, 14.288167953491211, 15.866019248962402, 15.940225601196289, 13.814233779907227, 10.501241683959961, 14.049322128295898, 14.619956016540527, 14.294219970703125, 13.212115287780762, 14.937431335449219, 12.816030502319336, 11.743141174316406, 11.493176460266113, 14.59072208404541, 12.88174819946289, 12.475299835205078, 12.205997467041016, 18.90833282470703, 18.493694305419922, 13.248895645141602, 20.527015686035156, 15.446378707885742, 14.496694564819336, 12.44619083404541], [6.118539333343506, 13.193349838256836, 7.937640190124512, 10.175592422485352, 9.199223518371582, 10.785421371459961, 5.277175426483154, 7.63251256942749, 12.204611778259277, 10.940638542175293, 14.655867576599121, 11.206865310668945, 0.9081370234489441, 9.886800765991211, 10.59011459350586, 10.262718200683594, 8.381012916564941, 6.592397689819336, 11.533573150634766, 8.702783584594727, 12.292272567749023, 14.691926002502441, 13.822728157043457, 13.343992233276367, 15.697235107421875, 15.05019474029541, 13.496962547302246, 15.064736366271973, 16.593217849731445, 13.810361862182617, 10.828893661499023, 15.123780250549316, 14.574429512023926, 14.80516529083252, 14.135903358459473, 12.758332252502441, 11.267293930053711, 11.63739013671875, 13.400106430053711, 12.89299488067627, 15.95425796508789, 14.70263957977295, 10.466033935546875, 9.46139907836914, 10.98080825805664, 10.777835845947266, 12.226302146911621, 12.90809154510498, 11.721555709838867, 12.901603698730469], [12.833647727966309, 14.382927894592285, 11.646363258361816, 11.490777969360352, 12.034489631652832, 11.291167259216309, 11.425082206726074, 12.02830982208252, 12.698412895202637, 14.697138786315918, 8.03332805633545, 11.129768371582031, 11.895792007446289, 10.432430267333984, 3.712344169616699, 8.88020133972168, 10.525574684143066, 9.722593307495117, 12.325871467590332, 9.967145919799805, 14.200264930725098, 11.895262718200684, 12.50936222076416, 12.533370971679688, 12.750916481018066, 12.432731628417969, 13.691010475158691, 13.946744918823242, 13.516865730285645, 13.75084114074707, 14.764152526855469, 7.058407783508301, 16.490236282348633, 13.447568893432617, 14.758788108825684, 13.937302589416504, 12.941139221191406, 15.273340225219727, 13.951048851013184, 14.510186195373535, 12.315268516540527, 14.295084953308105, 14.667476654052734, 12.827629089355469, 13.463828086853027, 12.999350547790527, 15.020206451416016, 13.555486679077148, 13.720312118530273, 11.872554779052734], [10.824023246765137, 13.91836166381836, 12.461409568786621, 15.060616493225098, 14.431097030639648, 14.460803985595703, 13.161373138427734, 17.661237716674805, 12.597162246704102, 13.24252700805664, 13.351719856262207, 13.432055473327637, 12.071487426757812, 11.69984245300293, 13.405658721923828, 13.34994125366211, 13.413125038146973, 10.821222305297852, 8.817601203918457, 14.572513580322266, 15.339147567749023, 13.703173637390137, 14.513895988464355, 14.257759094238281, 14.299285888671875, 13.47026252746582, 14.65861701965332, 14.386433601379395, 12.797340393066406, 14.870007514953613, 15.950517654418945, 15.258975982666016, 10.884716987609863, 14.600255966186523, 14.6729097366333, 14.325220108032227, 15.264195442199707, 14.02509593963623, 13.302391052246094, 14.000105857849121, 15.640652656555176, 14.065053939819336, 13.061578750610352, 12.239598274230957, 12.549479484558105, 13.391826629638672, 9.859270095825195, 12.521318435668945, 9.762251853942871, 11.465082168579102], [11.168985366821289, 14.482906341552734, 18.184818267822266, 11.506643295288086, 12.197554588317871, 13.469459533691406, 11.989192008972168, 11.457144737243652, 13.023488998413086, 12.36086654663086, 9.976520538330078, 13.0343017578125, 10.485970497131348, 9.539310455322266, 11.520984649658203, 10.39004898071289, 10.912805557250977, 10.34811019897461, 8.34322738647461, 17.0368595123291, 15.023113250732422, 14.68814468383789, 12.738100051879883, 8.275444030761719, 12.448648452758789, 13.35562801361084, 12.302391052246094, 10.092241287231445, 14.247406005859375, 12.60489559173584, 12.465397834777832, 11.268153190612793, 9.953640937805176, 16.129911422729492, 13.751191139221191, 12.792304039001465, 13.00375747680664, 13.189278602600098, 15.180567741394043, 14.746485710144043, 13.084306716918945, 14.37089729309082, 12.096769332885742, 14.17365837097168, 13.049199104309082, 14.923324584960938, 12.149819374084473, 12.9371919631958, 14.927226066589355, 14.834209442138672], [12.900710105895996, 14.949061393737793, 13.950006484985352, 10.380786895751953, 11.023399353027344, 12.9767427444458, 12.976016998291016, 13.227317810058594, 13.013279914855957, 13.386161804199219, 14.14470386505127, 12.2288236618042, 11.18087100982666, 12.191898345947266, 12.216775894165039, 9.654102325439453, 13.097391128540039, 13.746589660644531, 14.667424201965332, 13.1455659866333, 15.450654029846191, 19.744945526123047, 14.347122192382812, 14.316238403320312, 16.7155704498291, 15.491652488708496, 14.537044525146484, 17.34134292602539, 14.892065048217773, 16.45267105102539, 16.372817993164062, 15.709488868713379, 17.1699161529541, 16.88646125793457, 15.057011604309082, 13.716737747192383, 15.334959983825684, 24.76749038696289, 17.89635467529297, 14.908305168151855, 15.863787651062012, 17.814544677734375, 15.080631256103516, 14.275921821594238, 15.119138717651367, 15.9376220703125, 16.207508087158203, 14.623319625854492, -30.292081832885742, 9.860320091247559], [12.481459617614746, 14.381684303283691, 11.298839569091797, 13.53091049194336, 12.092916488647461, 12.072434425354004, 13.545328140258789, 8.373462677001953, 12.665064811706543, 13.112154960632324, 10.859960556030273, 11.131327629089355, 12.612373352050781, 7.136176586151123, 10.128679275512695, 11.565009117126465, 9.817646026611328, 10.76175308227539, 9.470479965209961, 9.470020294189453, 13.074810028076172, 11.681336402893066, 11.908397674560547, 13.395907402038574, 11.178698539733887, 12.796191215515137, 20.58546257019043, 13.867450714111328, 13.2488431930542, 15.823766708374023, 14.602293014526367, 13.826886177062988, 15.131876945495605, 15.61441707611084, 11.760433197021484, 12.546082496643066, 15.09776496887207, 13.796976089477539, 14.2392578125, 14.804654121398926, 14.023147583007812, 13.289793968200684, 10.09388542175293, 11.0820894241333, 8.104084014892578, 12.228917121887207, 11.901077270507812, 11.357129096984863, 13.314325332641602, 11.5171537399292], [13.091435432434082, 14.928312301635742, 13.192737579345703, 12.87576961517334, 14.080942153930664, 11.823099136352539, 13.590778350830078, 13.673457145690918, 13.408849716186523, 12.57148265838623, 9.696427345275879, 17.15034294128418, 11.440709114074707, 13.060900688171387, 11.907732009887695, 12.867669105529785, 12.075523376464844, 11.675113677978516, 10.127753257751465, 12.596755027770996, 9.386343002319336, 13.762683868408203, 13.707740783691406, 13.726618766784668, 12.241523742675781, 12.773123741149902, 13.597061157226562, 15.897494316101074, 16.15323829650879, 14.450976371765137, 17.528545379638672, 15.789288520812988, 13.669178009033203, 14.954862594604492, 15.37932300567627, 15.283578872680664, 15.192530632019043, 13.217491149902344, 15.98554515838623, 14.282462120056152, 15.495461463928223, 13.436508178710938, 12.098941802978516, 11.520219802856445, 11.729225158691406, 12.434744834899902, 7.3131184577941895, 11.033056259155273, 12.236492156982422, 11.288803100585938], [12.223505973815918, 12.367021560668945, 11.78254508972168, 5.673903465270996, 9.095503807067871, 11.269306182861328, 11.009346008300781, 10.685487747192383, 10.61257553100586, 10.553516387939453, 9.439170837402344, 11.11589527130127, 11.27169132232666, 11.992244720458984, 11.234724044799805, 11.794050216674805, 11.840750694274902, 11.103985786437988, 10.330144882202148, 12.042500495910645, 15.025221824645996, 13.355331420898438, 11.400713920593262, 13.46774673461914, 11.63962459564209, 12.412467002868652, 12.730294227600098, 12.013821601867676, 14.613774299621582, 12.048844337463379, 13.1950101852417, 14.233943939208984, 14.08592700958252, 12.93532657623291, 11.675403594970703, 10.920077323913574, 14.800800323486328, 11.301407814025879, 13.048608779907227, 12.994101524353027, 14.462653160095215, 10.80296516418457, 12.967867851257324, 6.2117390632629395, 9.643213272094727, 12.571924209594727, 11.722311973571777, 11.868197441101074, 10.790606498718262, 11.227251052856445], [14.878573417663574, 14.558409690856934, 13.291891098022461, 11.793185234069824, 11.73851203918457, 12.904932022094727, 11.67612361907959, 10.669327735900879, 11.126871109008789, 10.940794944763184, 12.333539009094238, 11.824548721313477, 14.918024063110352, 10.322820663452148, 10.511981010437012, 11.402828216552734, 11.445942878723145, 12.808019638061523, 12.03305721282959, 14.28799057006836, 12.548392295837402, 8.665340423583984, 12.383549690246582, 13.485086441040039, 13.487340927124023, 14.091517448425293, 11.706067085266113, 13.87309741973877, 15.396848678588867, 14.832530975341797, 15.23269271850586, 12.253227233886719, 13.938316345214844, 13.549362182617188, 13.264887809753418, 14.478424072265625, 14.205395698547363, 12.340543746948242, 11.206558227539062, 13.9781494140625, 14.918214797973633, 9.75727653503418, 10.503591537475586, 12.930749893188477, 11.865104675292969, 13.13383674621582, 12.738612174987793, 12.29446792602539, 12.153051376342773, 13.243192672729492], [13.227211952209473, 12.983628273010254, 14.560510635375977, 14.12099838256836, 12.634157180786133, 12.21199893951416, 13.641487121582031, 12.50911808013916, 13.5322265625, 13.588274955749512, 10.969554901123047, 13.410642623901367, 12.561206817626953, 11.705682754516602, 7.562996864318848, 12.562582969665527, 13.062756538391113, 11.225919723510742, 3.8115100860595703, 10.480735778808594, 12.612874984741211, 19.370752334594727, 12.702888488769531, 11.757943153381348, 4.364658832550049, 11.458147048950195, 16.306020736694336, 13.130998611450195, 11.538134574890137, 12.780521392822266, 13.677101135253906, 13.108659744262695, 14.755682945251465, 14.149211883544922, 13.156930923461914, 13.744816780090332, 16.603723526000977, 19.347766876220703, 14.992358207702637, 14.60103702545166, 17.595151901245117, 13.163835525512695, 11.297587394714355, 12.12707805633545, 13.086036682128906, 13.596994400024414, 12.864078521728516, 11.525347709655762, 13.057937622070312, 14.882733345031738], [10.858619689941406, 12.99830150604248, 11.521330833435059, 10.094010353088379, 9.724432945251465, 11.013557434082031, 7.45138692855835, 15.395853042602539, 8.053115844726562, 9.447122573852539, 9.693469047546387, 10.272340774536133, 8.712872505187988, 7.382045269012451, 11.457988739013672, 11.616360664367676, 10.59892749786377, 11.756604194641113, 7.587018013000488, 12.85657787322998, 12.388683319091797, 11.715143203735352, 14.498498916625977, 15.224067687988281, 12.407033920288086, 15.55347728729248, 14.053632736206055, 14.55526065826416, 13.468742370605469, 13.826638221740723, 13.530356407165527, 13.75140380859375, 15.950603485107422, 14.176618576049805, 17.48049545288086, 14.140968322753906, 16.29696273803711, 11.61034107208252, 13.564722061157227, 11.298747062683105, 13.53409194946289, 11.539862632751465, 11.003868103027344, 12.468500137329102, 11.599615097045898, 11.023961067199707, 13.53274154663086, 15.093606948852539, 12.546865463256836, 12.462169647216797], [10.58753490447998, 12.556597709655762, 12.606232643127441, 12.00496768951416, 8.942946434020996, 10.243215560913086, 9.6434326171875, 10.134542465209961, 10.372968673706055, 13.282049179077148, 8.6431884765625, 11.521960258483887, 9.709120750427246, 8.817277908325195, 8.814042091369629, 10.757386207580566, 11.614871978759766, 11.116735458374023, 2.6064934730529785, 9.51585578918457, 9.924914360046387, 11.465681076049805, 4.990942001342773, 9.97166633605957, 11.675182342529297, 11.58056926727295, 9.682235717773438, 10.652265548706055, 7.255037784576416, 10.553669929504395, 12.608753204345703, 11.826311111450195, 11.822368621826172, 13.115579605102539, 11.839493751525879, 14.794672966003418, 13.310546875, 12.607625007629395, 12.76101016998291, 15.414396286010742, 13.445791244506836, 11.489108085632324, 11.40930461883545, 11.554448127746582, 12.24769401550293, 13.06045150756836, 10.072698593139648, 12.410186767578125, 14.081941604614258, 13.689526557922363], [12.17650318145752, 14.06484317779541, 12.645589828491211, 12.789061546325684, 12.482625961303711, 12.740553855895996, 12.39267635345459, 12.54128646850586, 12.173285484313965, 9.6817626953125, 11.077912330627441, 10.795745849609375, 10.656856536865234, 10.292691230773926, 11.084442138671875, 13.778841018676758, 12.017138481140137, 10.523955345153809, 9.923171997070312, 11.678376197814941, 9.727418899536133, 13.149085998535156, 13.408044815063477, 13.856090545654297, 12.843192100524902, 12.937379837036133, 15.83620548248291, 14.37849235534668, 12.672595977783203, 8.57115364074707, 14.360814094543457, 13.299737930297852, 13.242508888244629, 12.815573692321777, 12.372526168823242, 12.091781616210938, 15.333949089050293, 11.529085159301758, 15.008781433105469, 14.664055824279785, 13.764114379882812, 11.223020553588867, 11.92630672454834, 14.42322826385498, -48.36964797973633, 7.217339515686035, 6.826990604400635, 9.948667526245117, 8.020120620727539, 2.879568576812744], [9.464178085327148, 13.61846923828125, 14.397333145141602, 8.402606964111328, 11.09035873413086, 10.45734977722168, 14.937322616577148, 12.026775360107422, 11.306419372558594, 12.01828384399414, 14.012641906738281, 12.123157501220703, 11.421610832214355, 12.124849319458008, 11.821783065795898, 12.205989837646484, 8.53519058227539, 11.81589412689209, 12.818136215209961, 11.798211097717285, 12.468344688415527, 11.510591506958008, 12.449109077453613, 13.35543155670166, 15.550996780395508, 13.990333557128906, 13.683789253234863, 15.656953811645508, 12.310758590698242, 12.97287368774414, 14.963000297546387, 14.427724838256836, 13.738760948181152, 13.804883003234863, 12.657341003417969, 14.726621627807617, 13.877813339233398, 11.510053634643555, 12.863792419433594, 14.277217864990234, 14.360633850097656, 12.149097442626953, 15.028717041015625, 12.674896240234375, 8.018911361694336, 21.45223617553711, 14.372636795043945, 13.027846336364746, 11.155891418457031, 13.280287742614746], [12.68211555480957, 13.870129585266113, 11.699921607971191, 13.944855690002441, 12.585919380187988, 10.937376976013184, 9.458707809448242, 10.882340431213379, 10.298413276672363, 9.616843223571777, 7.899051666259766, 10.967085838317871, 10.225582122802734, 9.995448112487793, 10.93356704711914, 6.650249481201172, 9.567911148071289, 8.272211074829102, 8.745161056518555, 11.547005653381348, 13.915337562561035, 14.262580871582031, 13.249201774597168, 12.637029647827148, 13.908609390258789, 15.46129035949707, 17.941247940063477, 10.889103889465332, 18.523977279663086, 15.674907684326172, 15.062139511108398, 15.93863582611084, 13.582659721374512, 17.49892234802246, 14.402559280395508, 14.078450202941895, 14.955927848815918, 15.515899658203125, 16.041967391967773, 15.04744815826416, 14.330928802490234, 12.350663185119629, 12.679088592529297, 12.947497367858887, 15.133906364440918, 11.527057647705078, 19.124441146850586, 14.805963516235352, 13.933799743652344, 14.659672737121582], [13.316057205200195, 11.676970481872559, 11.540616989135742, 10.467426300048828, 10.434587478637695, 11.702542304992676, 12.217533111572266, 12.175298690795898, 11.65810775756836, 11.805007934570312, 5.393903732299805, 9.79434585571289, 10.473536491394043, 10.456210136413574, 11.289740562438965, 10.02731704711914, 10.588529586791992, 5.004297256469727, 6.957616806030273, 9.842239379882812, 9.741649627685547, 9.905866622924805, 11.505285263061523, 10.226333618164062, 11.949562072753906, 11.144282341003418, 12.246265411376953, 12.577020645141602, 2.838721513748169, 14.022467613220215, 10.871875762939453, 12.618281364440918, 15.453508377075195, 15.25394058227539, 12.371620178222656, 12.220847129821777, 16.07709503173828, 12.180866241455078, 11.263761520385742, 14.017520904541016, 12.604292869567871, 10.909006118774414, 10.617511749267578, 6.377857208251953, 7.579861640930176, 11.073434829711914, 10.092925071716309, 11.526834487915039, 11.172402381896973, 12.95594596862793], [11.470478057861328, 14.145380020141602, 9.624373435974121, 15.573132514953613, 12.02411937713623, 9.909610748291016, 11.979202270507812, 10.675773620605469, 12.112765312194824, 5.162993907928467, 11.450979232788086, 10.526626586914062, 9.679278373718262, 11.60476303100586, 10.756134986877441, 9.143891334533691, 10.974651336669922, 8.272882461547852, 11.809660911560059, 10.919002532958984, 13.867792129516602, 11.702374458312988, 13.257711410522461, 14.89276123046875, 13.419244766235352, 13.388978004455566, 12.68898868560791, 13.726322174072266, 14.308523178100586, 14.788092613220215, 16.029340744018555, 11.694204330444336, 13.805546760559082, 13.593120574951172, 13.15301513671875, 12.804766654968262, 14.708877563476562, 13.763874053955078, 12.74736213684082, 12.97356128692627, 13.262614250183105, 10.307173728942871, 8.50551986694336, 14.214814186096191, 8.722482681274414, 12.343002319335938, 12.473008155822754, 10.523927688598633, 16.108806610107422, 13.438275337219238], [20.958772659301758, 14.588994979858398, 13.254414558410645, 13.79454517364502, 15.054865837097168, 14.124232292175293, 15.558806419372559, 18.77434730529785, 12.136404037475586, 13.860834121704102, 13.679977416992188, 14.450994491577148, 13.100030899047852, 14.814384460449219, 15.82181453704834, 14.588600158691406, 13.323305130004883, 16.470256805419922, 11.276285171508789, 10.82839298248291, 14.15642261505127, 12.554287910461426, 14.62694263458252, 13.61062240600586, 13.424298286437988, 13.43412971496582, 7.421031951904297, 10.500578880310059, 12.971528053283691, 14.032258987426758, 13.22329044342041, 10.687277793884277, 13.616991996765137, 13.186358451843262, 12.87293529510498, 12.801740646362305, 11.791322708129883, 13.618152618408203, 11.87608814239502, 13.00309944152832, 12.698559761047363, 12.82630729675293, 12.11417293548584, 12.366458892822266, 12.168784141540527, 16.367910385131836, 13.515132904052734, 12.256811141967773, 12.474868774414062, 16.39324951171875], [14.978036880493164, 14.444999694824219, 11.844620704650879, 11.682334899902344, 14.848701477050781, 13.99178695678711, 12.020930290222168, 9.888984680175781, 12.499072074890137, 13.879658699035645, 11.629242897033691, 12.602655410766602, 11.986241340637207, 12.252429008483887, 10.41116714477539, 12.156082153320312, 11.694781303405762, 9.341646194458008, 10.656301498413086, 10.706799507141113, 15.63311767578125, 10.835704803466797, 14.365301132202148, 13.529250144958496, 11.662223815917969, 10.753411293029785, 13.727720260620117, 16.917137145996094, 13.521328926086426, 14.633346557617188, 13.202580451965332, 13.974595069885254, 14.833283424377441, 17.050308227539062, 18.96164321899414, 13.47518253326416, 16.082366943359375, 14.990784645080566, 15.483874320983887, 15.359687805175781, 15.923958778381348, 14.469953536987305, 12.373322486877441, 16.9008846282959, 13.285821914672852, 16.888206481933594, 13.284768104553223, 13.736954689025879, 11.131168365478516, 14.807729721069336], [15.024497985839844, 14.986664772033691, 13.187775611877441, 9.247648239135742, 11.97273063659668, 12.742751121520996, 13.392170906066895, 10.710527420043945, 10.119776725769043, 7.117072582244873, 19.04482650756836, 11.052088737487793, 10.365966796875, 13.223393440246582, 11.558185577392578, 10.264183044433594, 10.26248836517334, 10.14511489868164, 10.221465110778809, 11.675212860107422, 11.223311424255371, 11.189732551574707, 13.767186164855957, 12.795784950256348, 12.704130172729492, 13.041600227355957, 11.971626281738281, 14.730340957641602, 20.74416160583496, 15.229684829711914, 16.886838912963867, 13.688850402832031, 15.231565475463867, 17.29345703125, 16.8292293548584, 14.247692108154297, 15.333101272583008, 12.534528732299805, 14.80487060546875, 14.28536605834961, 14.153769493103027, 12.606494903564453, 10.800408363342285, 13.577226638793945, 12.420012474060059, 13.47173023223877, 11.038186073303223, 12.297861099243164, 11.013134002685547, 13.233705520629883], [40.28187942504883, 15.8040132522583, 13.915761947631836, 15.204487800598145, 15.668866157531738, 16.38192367553711, 15.42590045928955, 18.4490909576416, 13.556589126586914, 13.52347183227539, 15.507804870605469, 13.911813735961914, 12.70712661743164, 14.390449523925781, 14.030409812927246, 12.699932098388672, 13.220193862915039, 12.306697845458984, 12.741215705871582, 12.338111877441406, 13.862190246582031, 14.806177139282227, 13.807527542114258, 14.9955472946167, 15.490629196166992, 15.020828247070312, 14.841888427734375, 11.654570579528809, 16.131994247436523, 16.44089126586914, 13.80320930480957, 18.60521125793457, 15.27449893951416, 14.6018705368042, 15.087890625, 16.424083709716797, 17.335010528564453, 14.816662788391113, 15.106982231140137, 18.307191848754883, 17.199535369873047, 7.5207648277282715, 15.312640190124512, 14.031880378723145, 14.556187629699707, 13.174985885620117, 15.126362800598145, 12.740081787109375, 9.470937728881836, 13.858646392822266], [9.157666206359863, 15.3179292678833, 13.015089988708496, 11.982781410217285, 12.77247428894043, 11.439001083374023, 13.58079719543457, 12.619754791259766, 13.417617797851562, 12.018965721130371, 7.097572326660156, 12.12641716003418, 10.568158149719238, 9.645659446716309, 11.194011688232422, 12.770401954650879, 10.684488296508789, 10.515665054321289, 11.722381591796875, 11.278535842895508, 13.778563499450684, 12.17568302154541, 13.806901931762695, -4.095058441162109, 10.545595169067383, 12.158132553100586, 7.180014610290527, 7.126272678375244, 10.760716438293457, 10.272039413452148, 11.290608406066895, 12.290836334228516, 12.375773429870605, 9.381572723388672, 9.651701927185059, 16.96816062927246, 15.394743919372559, 13.876177787780762, 12.443889617919922, 14.186033248901367, 12.764745712280273, 13.675148010253906, 12.932848930358887, 14.91352367401123, 12.566064834594727, 14.381793022155762, 13.319279670715332, 11.514490127563477, 14.238478660583496, 12.729621887207031], [12.504281997680664, 12.670663833618164, 15.434176445007324, 14.03622817993164, 11.865676879882812, 13.752123832702637, 12.668609619140625, 11.803787231445312, 11.791107177734375, 12.801429748535156, 13.957477569580078, 11.547979354858398, 9.238149642944336, 10.597474098205566, 10.342771530151367, 10.354951858520508, 10.687774658203125, 14.786748886108398, 10.540104866027832, 11.95586109161377, 14.928604125976562, 17.357664108276367, 15.838038444519043, 15.686010360717773, 14.574080467224121, 12.959336280822754, 15.719659805297852, 16.937549591064453, 15.338129997253418, 14.924114227294922, 11.275656700134277, 11.770238876342773, 14.734641075134277, 17.003862380981445, 37.53254699707031, 14.704731941223145, 15.084249496459961, 20.90178108215332, 18.59723472595215, 17.42633628845215, 15.746941566467285, 17.35059356689453, 15.159424781799316, 17.392271041870117, 15.561927795410156, 14.915078163146973, 14.861050605773926, 15.814179420471191, 13.737643241882324, 11.998540878295898], [14.801060676574707, 12.438276290893555, 11.616628646850586, 6.1915154457092285, 11.024148941040039, 12.571775436401367, 11.093524932861328, 13.115362167358398, 10.706111907958984, 11.26131820678711, 10.029311180114746, 14.047286033630371, 11.810349464416504, 10.738554000854492, 8.755049705505371, 10.889786720275879, 10.919190406799316, 11.746878623962402, 10.90137767791748, 12.270684242248535, 13.568017959594727, 14.530271530151367, 11.93883991241455, 15.467489242553711, 11.100564002990723, 13.512638092041016, 13.7818603515625, 13.10655403137207, 14.733844757080078, 10.549454689025879, 18.105453491210938, 15.536781311035156, 12.3448486328125, 14.690677642822266, 14.800273895263672, 14.759312629699707, 14.942243576049805, 14.710271835327148, 10.863035202026367, 15.230132102966309, 11.731613159179688, 12.679362297058105, 14.647184371948242, 14.48663330078125, 8.621710777282715, 12.602953910827637, 9.26876449584961, 12.067499160766602, 13.320134162902832, 16.458520889282227], [14.990185737609863, 11.744943618774414, 8.935918807983398, 11.546931266784668, 10.299079895019531, 6.540948390960693, 9.935766220092773, 11.39372730255127, 9.909688949584961, 11.360265731811523, 9.5715970993042, 8.999898910522461, 8.803300857543945, 9.790205955505371, 9.792104721069336, 7.9125494956970215, 10.889982223510742, 9.796695709228516, 8.515584945678711, 9.098383903503418, 10.577155113220215, 12.260157585144043, 10.958927154541016, 13.297639846801758, 12.344834327697754, 13.244588851928711, 11.168753623962402, 12.812507629394531, 13.758488655090332, 12.094598770141602, 11.435898780822754, 11.739920616149902, 13.70846939086914, 11.134177207946777, 16.06438446044922, 11.164071083068848, 14.736278533935547, 10.829421043395996, 14.564706802368164, 14.089205741882324, 12.518338203430176, 11.248207092285156, 11.03096866607666, 11.051437377929688, 6.871644496917725, 10.776810646057129, 10.294371604919434, 14.818060874938965, 11.87999439239502, 14.420806884765625], [14.20617961883545, 14.4805269241333, 12.122193336486816, 14.57452392578125, 11.497276306152344, 13.651017189025879, 13.148014068603516, 12.822654724121094, 11.28334903717041, 13.354569435119629, 17.104080200195312, -2.484206438064575, 18.741901397705078, 11.729134559631348, 12.743597030639648, 10.748228073120117, 11.529533386230469, 9.709460258483887, 9.469125747680664, 12.338531494140625, 13.354670524597168, 12.636256217956543, 12.870580673217773, 15.859170913696289, 6.693976402282715, 18.606191635131836, 14.230464935302734, 12.735222816467285, 14.007485389709473, 15.392271041870117, 12.952187538146973, 12.686369895935059, 15.609024047851562, 12.223538398742676, 13.240593910217285, 5.916228294372559, 12.635766983032227, 6.965283393859863, 11.409274101257324, 12.08436393737793, 12.035050392150879, 9.927889823913574, 9.14945125579834, 11.671286582946777, 10.7398681640625, 8.913491249084473, 13.24934196472168, 11.304523468017578, 12.179428100585938, 13.460834503173828], [11.907651901245117, 13.366179466247559, 8.962510108947754, 13.420500755310059, 13.362470626831055, 11.859267234802246, 13.444807052612305, 13.280318260192871, 9.562332153320312, 10.928902626037598, 14.53984260559082, 12.20164680480957, 11.192126274108887, 11.01314926147461, 11.452885627746582, 12.285117149353027, 22.33397674560547, 11.064478874206543, -0.19764235615730286, 11.452911376953125, 13.789165496826172, 11.688507080078125, 12.485132217407227, 15.039287567138672, 10.409333229064941, 14.490899085998535, 15.906286239624023, 12.862564086914062, 16.60961151123047, 16.843801498413086, 13.280171394348145, 10.400700569152832, 14.298335075378418, 13.203485488891602, 16.450416564941406, 15.281109809875488, 7.655759334564209, 10.026806831359863, 12.984638214111328, 14.585737228393555, 13.100213050842285, 11.949292182922363, 10.303476333618164, 12.48032283782959, 12.151798248291016, 11.758627891540527, 10.873279571533203, 13.233014106750488, 13.872682571411133, 11.555384635925293], [11.76918888092041, 12.36253833770752, 15.0520601272583, 11.058481216430664, 11.03960132598877, 13.494908332824707, 12.788506507873535, 10.271702766418457, 11.788955688476562, 13.253338813781738, 10.951937675476074, 10.974384307861328, 9.655149459838867, 10.940710067749023, 12.075287818908691, 13.448454856872559, 16.636125564575195, 11.574962615966797, 10.43726921081543, 11.834976196289062, 15.360795974731445, 14.453413009643555, 13.842981338500977, 12.723228454589844, 13.811503410339355, 14.247054100036621, 14.724202156066895, 13.958941459655762, 15.336488723754883, 12.902446746826172, 13.67440414428711, 13.497251510620117, 16.34572982788086, 15.162508010864258, 14.684322357177734, 13.217721939086914, 13.36670207977295, 14.648600578308105, 13.063029289245605, 15.294118881225586, 13.849332809448242, 15.703076362609863, 13.726949691772461, 17.088687896728516, 14.901515007019043, 14.219525337219238, 14.910395622253418, 12.689136505126953, 12.592260360717773, 16.65298843383789], [15.771097183227539, 14.60486888885498, 12.75546932220459, 10.297758102416992, 12.212714195251465, 10.920788764953613, 14.108452796936035, 13.153650283813477, 11.979854583740234, 11.848625183105469, 13.877764701843262, 9.909163475036621, 17.073530197143555, 10.938841819763184, 12.050323486328125, 12.898098945617676, 10.640583992004395, 11.409980773925781, 10.20777702331543, 11.759212493896484, 13.281436920166016, 12.439347267150879, 13.669219970703125, 12.782278060913086, 11.670193672180176, 12.271321296691895, 18.475440979003906, 13.553240776062012, 14.025886535644531, 14.610065460205078, 12.525404930114746, 12.863325119018555, 10.365964889526367, 12.28635311126709, 11.95567798614502, 12.22849178314209, 13.570486068725586, 12.503148078918457, 16.431446075439453, 13.967076301574707, 13.955830574035645, 12.072613716125488, 10.139337539672852, 13.343977928161621, 9.487752914428711, 15.308706283569336, 11.681295394897461, 12.824483871459961, 11.098747253417969, 15.061967849731445], [13.054266929626465, 11.482333183288574, 11.445343017578125, 11.52720832824707, 11.996158599853516, 12.271553993225098, 14.386058807373047, 12.932680130004883, 11.366914749145508, 11.694292068481445, 10.344510078430176, 13.02502727508545, 11.171142578125, 11.364019393920898, 10.957303047180176, 11.775835037231445, 11.090250015258789, 10.91454792022705, 9.572562217712402, 13.103965759277344, 10.083944320678711, 12.680716514587402, 10.237764358520508, 12.490918159484863, 6.173972129821777, 7.948736190795898, 11.491122245788574, 12.688566207885742, 13.263708114624023, 12.470704078674316, 12.52446174621582, 13.347999572753906, 12.597311973571777, 13.169303894042969, 15.829957962036133, 16.716753005981445, 13.258753776550293, 14.124341011047363, 12.652382850646973, 16.11087989807129, 13.444886207580566, 15.311256408691406, 12.740594863891602, 12.96876049041748, 12.37073040008545, 9.928775787353516, 11.639384269714355, 10.249966621398926, 13.117181777954102, 12.721240043640137], [12.94614315032959, 12.569982528686523, 12.64880657196045, 19.21900177001953, 11.881943702697754, 17.387592315673828, 13.715015411376953, 13.521661758422852, 13.624635696411133, 13.317578315734863, 20.161108016967773, 14.595460891723633, 13.903660774230957, 13.516910552978516, 12.39139175415039, 13.168227195739746, 14.103313446044922, 12.978287696838379, 12.408576965332031, 13.244236946105957, 15.864622116088867, 14.577086448669434, 13.745196342468262, 14.876692771911621, 15.136964797973633, 13.750027656555176, 15.80081844329834, 18.985855102539062, 13.404284477233887, 17.893068313598633, 18.00920867919922, 15.462525367736816, 13.935920715332031, 16.6888484954834, 22.53350830078125, 15.752649307250977, 18.85593032836914, 16.62701416015625, 15.24131965637207, 17.513015747070312, 17.72632598876953, 16.07172393798828, 11.510589599609375, 15.051878929138184, 10.977425575256348, 14.012624740600586, 12.637645721435547, 14.974241256713867, 14.185959815979004, 16.143770217895508], [10.595080375671387, 12.468064308166504, 12.188530921936035, 11.901090621948242, 10.348596572875977, 12.116706848144531, 12.044286727905273, 11.49124813079834, 12.091338157653809, 10.519160270690918, 14.704030990600586, 10.660972595214844, 12.213265419006348, 11.691692352294922, 10.271520614624023, 13.349443435668945, 9.700033187866211, 12.133804321289062, 8.484434127807617, 15.288471221923828, 11.03399658203125, 13.627252578735352, 12.781962394714355, 14.177531242370605, 8.53285026550293, 13.249509811401367, 12.65140151977539, 16.90972328186035, 12.993908882141113, 10.648869514465332, 13.264951705932617, 12.180954933166504, 12.212267875671387, 13.430510520935059, 16.432767868041992, 10.459969520568848, 14.293069839477539, 13.160543441772461, 13.281494140625, 14.121597290039062, 12.929648399353027, 12.71275806427002, 11.765307426452637, 11.194108963012695, 12.32912826538086, 12.104962348937988, 13.334198951721191, 10.85484504699707, 11.255571365356445, 11.688215255737305], [12.885579109191895, 13.77713680267334, 11.37942886352539, 12.609842300415039, 10.053142547607422, 11.968778610229492, 8.66164779663086, 13.091584205627441, 10.807961463928223, 8.018534660339355, 11.003915786743164, 12.721515655517578, 10.5592041015625, 8.989289283752441, 11.55886459350586, 10.246330261230469, 12.481266021728516, 9.673373222351074, 9.436735153198242, 16.17296028137207, 11.516499519348145, 15.660452842712402, 13.82918930053711, 14.690658569335938, 16.050064086914062, 13.529438018798828, 14.48060417175293, 14.990660667419434, 12.235430717468262, 13.789681434631348, 14.705705642700195, 12.790714263916016, 13.826818466186523, 12.220256805419922, 13.778887748718262, 10.812736511230469, 13.696611404418945, 13.206533432006836, 13.24775218963623, 12.220443725585938, 17.76123046875, 13.043158531188965, 14.209165573120117, 12.766168594360352, 10.475520133972168, 12.184039115905762, 13.798789978027344, 11.63774585723877, 13.290672302246094, 13.023717880249023], [13.243997573852539, 14.275823593139648, 12.567307472229004, 12.593701362609863, 12.609576225280762, 11.095983505249023, 11.389025688171387, 13.210931777954102, 10.941433906555176, 11.355831146240234, 10.953418731689453, 18.134889602661133, 12.222662925720215, 16.778303146362305, 14.199373245239258, 11.797764778137207, 12.97563648223877, 10.3883638381958, 11.057924270629883, 11.619638442993164, 17.23752784729004, 12.601243019104004, 11.440206527709961, 13.920372009277344, 12.782201766967773, 15.950013160705566, 14.466684341430664, 14.490736961364746, 14.428391456604004, 11.184693336486816, 14.521601676940918, 15.454573631286621, 13.952502250671387, 15.57533073425293, 14.806683540344238, 5.907013416290283, 16.030031204223633, 15.151701927185059, 15.727883338928223, 15.802468299865723, 17.66405487060547, 12.10923957824707, 11.493863105773926, 14.040454864501953, 13.702577590942383, 13.56328296661377, 18.802108764648438, 14.838386535644531, 14.060680389404297, 14.981719970703125], [11.824708938598633, 11.057621955871582, 11.738082885742188, 11.406784057617188, 9.389913558959961, 11.072225570678711, 12.837631225585938, 13.809316635131836, 12.290360450744629, 12.873013496398926, 11.418980598449707, 12.031113624572754, 12.030913352966309, 11.84497356414795, 11.919909477233887, 12.33243179321289, 11.887055397033691, 7.208068370819092, 9.794367790222168, 12.259245872497559, 12.820274353027344, 15.15191650390625, 14.172539710998535, 11.678979873657227, 13.058712005615234, 12.82505989074707, 11.587655067443848, 14.946147918701172, 12.327123641967773, 12.266569137573242, 14.029084205627441, 14.25429916381836, 11.06806755065918, 13.888940811157227, 17.380151748657227, 18.809127807617188, 14.44155216217041, 14.455409049987793, 14.153824806213379, 14.173871040344238, 15.391611099243164, 12.315776824951172, 11.895798683166504, 12.888506889343262, 16.89116096496582, 12.624942779541016, 15.854839324951172, 12.784282684326172, 11.910722732543945, 14.16589641571045], [12.267678260803223, 13.137446403503418, 9.435912132263184, 17.511917114257812, 11.739060401916504, 10.689319610595703, 13.587160110473633, 12.116647720336914, 12.311086654663086, 11.188373565673828, 11.51991081237793, 13.160173416137695, 12.93795394897461, 10.6226224899292, 7.5126752853393555, 9.543294906616211, 11.326534271240234, -1.3614522218704224, 8.173036575317383, 11.864503860473633, 11.806192398071289, 11.930953979492188, 12.199995040893555, 11.705131530761719, 12.432125091552734, 12.795412063598633, 11.088634490966797, 10.485867500305176, 13.865010261535645, 12.108654022216797, 13.821524620056152, 12.506847381591797, 14.232084274291992, 14.376733779907227, 13.829878807067871, 12.576805114746094, 14.152475357055664, 12.607171058654785, 13.78307819366455, 14.4196138381958, 13.151857376098633, 8.722114562988281, 7.951144218444824, 13.560796737670898, 13.847020149230957, 14.412859916687012, 7.9514899253845215, 12.68939208984375, 13.764300346374512, 12.772128105163574], [8.809369087219238, 16.440364837646484, 12.401848793029785, 15.783442497253418, 8.426301002502441, 9.903852462768555, 13.040518760681152, 12.335432052612305, 11.10316276550293, 16.18231201171875, 12.146224021911621, 12.244482040405273, 10.206136703491211, 10.86119556427002, 10.69173812866211, 8.20543098449707, 11.90689754486084, 12.118639945983887, 9.636262893676758, 15.799055099487305, 12.515534400939941, 13.442710876464844, 12.473394393920898, 13.279537200927734, 11.47900390625, 12.10661792755127, 14.413018226623535, 22.234037399291992, 14.77132797241211, 16.435102462768555, 14.474332809448242, 13.132101058959961, 15.228381156921387, 17.70565414428711, 17.7821044921875, 14.079696655273438, 16.7792911529541, 16.11833953857422, 15.424395561218262, 15.389863014221191, 14.817493438720703, 14.171209335327148, 14.144333839416504, 15.110897064208984, 16.45297622680664, 14.135199546813965, 13.897088050842285, 15.464564323425293, 14.92435073852539, 12.453719139099121], [12.684715270996094, 13.525408744812012, 16.655794143676758, 14.031027793884277, 13.267971992492676, 14.14217758178711, 12.013810157775879, 11.512045860290527, 12.386449813842773, 11.804863929748535, 13.101899147033691, 12.331382751464844, 11.836724281311035, 11.128326416015625, 12.713553428649902, 14.915604591369629, 12.685532569885254, 8.437198638916016, 10.2592134475708, 13.19410514831543, 12.925209045410156, 11.80152702331543, 11.556527137756348, 14.03000545501709, 12.505765914916992, 13.063474655151367, 14.607410430908203, 14.50500202178955, 13.898078918457031, 16.771482467651367, 13.594621658325195, 11.570111274719238, 11.082108497619629, 13.702046394348145, 13.222125053405762, 14.7376127243042, 14.112951278686523, 12.932486534118652, 13.917573928833008, 12.006150245666504, 14.331585884094238, 14.212799072265625, 12.067716598510742, 11.107651710510254, 12.625151634216309, 13.554491996765137, 11.698821067810059, 11.042017936706543, 9.85643196105957, 14.659729957580566], [12.225037574768066, 12.088822364807129, 12.514142036437988, 11.10676097869873, 12.83633041381836, 14.774587631225586, 12.844819068908691, 12.199357986450195, 19.41553497314453, 13.573076248168945, 13.593785285949707, 11.531197547912598, 12.325032234191895, 12.834692001342773, 12.498828887939453, 13.352230072021484, 12.600057601928711, 7.727478981018066, 9.682929992675781, 12.932941436767578, 12.984760284423828, 11.63049030303955, 12.590582847595215, 13.696964263916016, 8.426281929016113, 15.965043067932129, 12.39511489868164, 13.515488624572754, 13.628191947937012, 14.516294479370117, 13.755697250366211, 13.11555004119873, 15.446239471435547, 10.879287719726562, 13.494352340698242, 14.448697090148926, 14.415191650390625, 15.776036262512207, 10.165522575378418, 14.187254905700684, 11.274811744689941, 12.484084129333496, 11.80941104888916, 14.718942642211914, 12.415963172912598, 13.576440811157227, 13.564233779907227, 16.249717712402344, 12.359421730041504, 13.681620597839355], [11.38321590423584, 12.499412536621094, 12.29610824584961, 11.811025619506836, 16.399669647216797, 11.691880226135254, 10.21492862701416, 7.9187116622924805, 12.458535194396973, 10.148564338684082, 12.836516380310059, 9.984983444213867, 10.905689239501953, 11.651354789733887, 10.40186595916748, 11.310935020446777, 12.339484214782715, 11.06312370300293, 10.071703910827637, -3.4724206924438477, 10.921120643615723, 9.86032772064209, 9.170886993408203, 10.713288307189941, 9.696285247802734, 11.094133377075195, 14.505634307861328, 13.307878494262695, 12.481861114501953, 14.37072467803955, 12.637922286987305, 15.276439666748047, 15.53090763092041, 12.872191429138184, 8.999866485595703, 12.517561912536621, 14.144082069396973, 13.965131759643555, 13.887750625610352, 19.73367691040039, 14.99532413482666, 14.207633972167969, 12.311197280883789, 12.10987663269043, 14.75950813293457, 11.690739631652832, 12.590015411376953, 13.364646911621094, 13.226388931274414, 12.154901504516602], [10.7986421585083, 6.577662944793701, 11.132330894470215, 10.44204330444336, 12.553730964660645, 57.6493034362793, 10.994951248168945, 15.295214653015137, 16.27135467529297, 16.25296401977539, 15.01991081237793, 15.249343872070312, 14.886786460876465, 15.778854370117188, 14.178648948669434, 14.821775436401367, 15.695228576660156, 13.539003372192383, 16.73362922668457, 14.218971252441406, 15.170455932617188, 14.99306869506836, 15.35128402709961, 14.346953392028809, 11.918399810791016, 12.664837837219238, 14.295055389404297, 15.734395980834961, 15.449010848999023, 15.695549011230469, 14.466815948486328, 19.239665985107422, 17.14120864868164, 17.995595932006836, 11.74970817565918, -13.271858215332031, 14.161396026611328, 14.2635498046875, 19.540401458740234, 15.675195693969727, 11.437898635864258, 9.554108619689941, -17.667577743530273, 9.776609420776367, 11.786957740783691, 10.908689498901367, 6.3845977783203125, 9.889046669006348, 7.997104644775391, 9.848872184753418], [18.176366806030273, 14.942154884338379, 14.742474555969238, 14.506416320800781, 24.077972412109375, 16.58968162536621, 15.735381126403809, 15.050689697265625, 19.302644729614258, 16.369970321655273, 16.534448623657227, 15.21269416809082, 14.913590431213379, 15.43072509765625, 16.383329391479492, 15.27060317993164, 13.339639663696289, 14.596731185913086, 15.138516426086426, 14.540343284606934, 16.020458221435547, 18.198150634765625, 16.3112850189209, 16.06031036376953, 16.192649841308594, 15.029417037963867, 16.7557373046875, 17.15365982055664, 13.494585990905762, 13.08556842803955, 16.8847599029541, 16.45869255065918, 20.43709373474121, 14.533098220825195, 16.67010498046875, 14.62188720703125, 19.114055633544922, 17.015207290649414, 17.24267578125, 16.033552169799805, 14.777149200439453, 14.614441871643066, 17.009164810180664, 16.79590606689453, 17.130250930786133, 16.081012725830078, 16.486387252807617, 18.41207504272461, 16.123403549194336, 17.218568801879883], [15.147418022155762, 11.886870384216309, 12.392601013183594, 9.602020263671875, 13.787022590637207, 12.16421127319336, 16.52641487121582, 11.993606567382812, 12.728189468383789, 12.912458419799805, 9.12252426147461, 11.31705379486084, 12.083063125610352, 12.110815048217773, 13.491903305053711, 11.559510231018066, 8.582182884216309, 9.50087833404541, 9.150543212890625, 10.471822738647461, 12.540231704711914, 13.614985466003418, 13.891629219055176, 13.111923217773438, 13.431084632873535, 12.945755004882812, 14.120665550231934, 13.219964981079102, 11.268461227416992, 13.431910514831543, 14.530404090881348, 17.811410903930664, 14.525534629821777, 15.935670852661133, 10.695484161376953, 14.306234359741211, 13.32387924194336, 14.538649559020996, 13.807019233703613, 15.777262687683105, 9.413681983947754, 12.917922019958496, 4.680628299713135, 11.582871437072754, 10.75243854522705, 12.555283546447754, 11.825926780700684, 11.798745155334473, 12.658927917480469, 10.838420867919922], [14.44743824005127, 12.433996200561523, 12.053910255432129, 11.22399616241455, 14.048219680786133, 14.062795639038086, 12.313725471496582, 7.652451515197754, 10.989408493041992, 11.787431716918945, 13.534608840942383, 10.514148712158203, 7.952232837677002, 10.276717185974121, 11.38155746459961, 8.911151885986328, 10.452276229858398, 6.15637731552124, 8.964852333068848, 11.98111343383789, 12.990803718566895, 11.458362579345703, 13.289958953857422, 12.768881797790527, 15.245600700378418, 12.164239883422852, 16.1539363861084, 15.85495376586914, 14.487626075744629, 17.915281295776367, 15.178202629089355, 14.090813636779785, 14.124618530273438, 14.84290885925293, 18.476289749145508, 15.007551193237305, 15.04629898071289, 16.220687866210938, 15.076168060302734, 15.241920471191406, 15.21334457397461, 12.115538597106934, 11.074414253234863, 13.130839347839355, 14.361885070800781, 10.681788444519043, 11.768211364746094, 10.585604667663574, 14.597251892089844, 11.985360145568848], [9.074546813964844, 13.538236618041992, 16.066104888916016, 11.133792877197266, 7.199895858764648, 12.836788177490234, 10.914295196533203, 9.23783016204834, 9.412694931030273, 11.893922805786133, 10.59433650970459, 19.505199432373047, 11.627301216125488, 11.393712043762207, 11.11098861694336, 10.95424747467041, 13.398781776428223, 10.06981372833252, 10.447630882263184, 9.697976112365723, 16.41037368774414, 13.447257995605469, 13.269289016723633, 14.797327995300293, 13.599125862121582, 14.892003059387207, 12.880576133728027, 15.989983558654785, 14.263198852539062, 13.760296821594238, 14.099100112915039, 14.1795015335083, 12.731951713562012, 13.21987247467041, 15.194206237792969, 14.73412799835205, 14.848309516906738, 13.855559349060059, 16.9345760345459, 11.618754386901855, 14.47337818145752, 13.09298038482666, 13.382678031921387, 13.495360374450684, 20.78604507446289, 14.697755813598633, 16.757234573364258, 13.585315704345703, 13.792243957519531, 12.215553283691406], [12.161008834838867, 14.169528007507324, 12.066043853759766, 13.047257423400879, 8.866632461547852, 13.077317237854004, 9.684598922729492, 11.84567642211914, 10.99128246307373, 8.336645126342773, 11.107952117919922, 12.67951488494873, 11.131339073181152, 11.72087574005127, 8.536018371582031, 11.09139633178711, 7.356752872467041, 10.637528419494629, 8.746353149414062, 13.775099754333496, 11.793685913085938, 12.968426704406738, 13.559938430786133, 15.405410766601562, 12.022689819335938, 14.158867835998535, 3.469395160675049, 12.667301177978516, 10.831999778747559, 11.539746284484863, 10.692434310913086, 11.368231773376465, 10.429035186767578, 26.058189392089844, 12.83942699432373, 15.024338722229004, 12.702643394470215, 17.579631805419922, 14.735822677612305, 14.501134872436523, 14.205265998840332, 15.059564590454102, 14.300745964050293, 14.4700927734375, 13.371321678161621, 13.628161430358887, 10.493958473205566, 14.356522560119629, 13.74971866607666, 12.548381805419922], [13.424544334411621, -3.7683069705963135, 10.835848808288574, 10.629447937011719, 9.649542808532715, 7.709036350250244, 12.165611267089844, 8.759622573852539, 9.693488121032715, 6.335567951202393, 11.833305358886719, 9.51879596710205, 11.36606502532959, 12.596290588378906, 5.583307266235352, 8.071931838989258, 9.715124130249023, 10.175352096557617, 7.642237663269043, 10.285841941833496, 12.434871673583984, 16.11028480529785, 13.208606719970703, 11.720230102539062, 15.38752555847168, 12.954357147216797, 13.470563888549805, 13.932158470153809, 11.93654727935791, 12.10688591003418, 10.278646469116211, 15.850976943969727, 13.877433776855469, 12.919904708862305, 16.17154312133789, 14.632295608520508, 13.375404357910156, 16.289701461791992, 13.755040168762207, 17.043209075927734, 13.832788467407227, 12.663688659667969, 13.462935447692871, 11.967780113220215, 12.29329776763916, 13.290550231933594, 14.580470085144043, 13.568838119506836, 13.234426498413086, 13.074094772338867], [12.351487159729004, 10.801111221313477, 13.259475708007812, 11.650958061218262, 9.82149600982666, 10.659123420715332, 11.383964538574219, 10.966773986816406, 10.431201934814453, 9.759597778320312, 12.426877975463867, 7.405206680297852, 10.505627632141113, 8.376496315002441, 10.747825622558594, 11.44907283782959, 11.200230598449707, 8.367658615112305, 8.236930847167969, 11.797856330871582, 12.362536430358887, 13.718968391418457, 13.178564071655273, 12.248822212219238, 13.336188316345215, 16.273601531982422, 13.375359535217285, 11.6749849319458, 14.351106643676758, 12.123407363891602, 14.913172721862793, 33.596275329589844, 8.438608169555664, -0.5323758125305176, 14.691509246826172, 12.47851276397705, 12.641929626464844, 11.042705535888672, 12.73580551147461, 12.123878479003906, 11.222039222717285, 10.415486335754395, 10.879535675048828, 11.968475341796875, 11.160832405090332, 11.594001770019531, 10.243562698364258, 11.10246467590332, 12.657081604003906, 6.951066970825195], [15.337947845458984, 13.294645309448242, 13.204861640930176, 12.735562324523926, 10.31929874420166, 12.609153747558594, 12.607412338256836, 13.057385444641113, 12.91171646118164, 11.461151123046875, 11.165011405944824, 11.694265365600586, 9.539894104003906, 12.31999397277832, 12.717292785644531, 12.352347373962402, 10.720595359802246, 9.822728157043457, 9.096298217773438, 12.818765640258789, 12.7820405960083, 10.75400161743164, 8.133081436157227, 14.376908302307129, 10.674083709716797, 12.333296775817871, 12.354569435119629, 13.969480514526367, 14.941656112670898, 14.197693824768066, 17.69040298461914, 13.023293495178223, 13.641388893127441, 12.581727981567383, 17.015518188476562, 16.124711990356445, 13.689292907714844, 17.89784812927246, 9.305882453918457, 14.895487785339355, 14.725653648376465, 12.879199028015137, 7.48419713973999, 14.515788078308105, 12.98598575592041, 12.683356285095215, 13.004430770874023, 12.28408432006836, 18.229101181030273, 13.267871856689453], [12.012899398803711, 12.838958740234375, 13.21212387084961, 14.22260856628418, 14.199037551879883, 11.824734687805176, 10.667105674743652, 13.738426208496094, 9.210445404052734, 11.838631629943848, 11.800640106201172, 13.247116088867188, 11.223238945007324, 12.479536056518555, 10.911758422851562, 13.416086196899414, 13.04776382446289, 12.303466796875, 13.824872016906738, 13.50165843963623, 11.270340919494629, 14.529850959777832, 14.465692520141602, 13.589226722717285, 9.965103149414062, 12.8092622756958, 16.004573822021484, 11.868629455566406, 13.532718658447266, 12.762430191040039, 15.64639663696289, 13.486674308776855, 12.570038795471191, 11.764145851135254, 12.589195251464844, 24.35796356201172, 12.804490089416504, 14.273439407348633, 12.259986877441406, 16.537609100341797, 17.097217559814453, 12.856659889221191, 12.747153282165527, 13.02686882019043, 14.126213073730469, 15.056167602539062, 15.59042739868164, 10.676215171813965, 13.040849685668945, 15.816703796386719], [11.933167457580566, 14.76209831237793, 13.412768363952637, 10.316801071166992, 12.588119506835938, 10.53075122833252, 9.349595069885254, 10.037290573120117, 13.126777648925781, 12.880711555480957, 10.49640941619873, 12.223695755004883, 13.97417163848877, 12.562501907348633, 8.129560470581055, 14.639114379882812, 11.518202781677246, 11.195771217346191, 12.790948867797852, 13.212383270263672, 13.664399147033691, 11.062103271484375, 15.321840286254883, 12.426065444946289, 17.077207565307617, 14.639641761779785, 16.74803924560547, 14.592940330505371, 15.411635398864746, 10.149242401123047, 15.274792671203613, 14.547521591186523, 15.323914527893066, 7.856512069702148, 13.569525718688965, 14.335375785827637, 8.948848724365234, 13.598847389221191, 12.946420669555664, 15.63016128540039, 11.668030738830566, 12.144319534301758, 12.58213996887207, 12.914377212524414, 13.205886840820312, 12.47170639038086, 11.264212608337402, 13.108951568603516, 18.552490234375, 9.000441551208496], [11.772675514221191, 14.031179428100586, 10.477357864379883, 12.12995719909668, 11.235755920410156, 4.104297161102295, 10.4203519821167, 8.875117301940918, 9.516199111938477, 13.411870002746582, 11.234038352966309, 9.184343338012695, 9.040070533752441, 17.18611717224121, 11.165358543395996, 9.056754112243652, 11.672147750854492, 12.4907865524292, 16.401004791259766, 13.266392707824707, 12.282869338989258, 15.46630573272705, 15.275897026062012, 13.93717098236084, 13.833047866821289, 14.58759593963623, 16.432987213134766, 15.472724914550781, 12.329875946044922, 14.965670585632324, 15.701590538024902, 14.627708435058594, 13.317368507385254, 14.612459182739258, 15.105359077453613, 17.680419921875, 13.360724449157715, 17.681819915771484, 16.49281883239746, 15.189563751220703, 16.862655639648438, 14.142821311950684, 14.249690055847168, 11.836010932922363, 15.708307266235352, 12.756443977355957, 12.242218017578125, 10.722448348999023, 13.986518859863281, 4.163678169250488], [12.87726879119873, 17.841323852539062, 13.186196327209473, 12.099472999572754, 11.169539451599121, 12.759760856628418, 13.341447830200195, 12.58183765411377, 14.457738876342773, 12.15498161315918, 13.826112747192383, 8.914899826049805, 11.590784072875977, 9.916717529296875, 10.992671012878418, 11.256546020507812, 11.19715690612793, 9.804824829101562, 9.55437183380127, 11.903166770935059, 11.627939224243164, 10.484109878540039, 11.025567054748535, 12.00194263458252, 9.910489082336426, 12.030385971069336, 11.966192245483398, 13.163625717163086, 11.671869277954102, 13.363077163696289, 12.030056953430176, 16.39166259765625, 15.008811950683594, 12.18907356262207, 14.353607177734375, 13.498649597167969, 16.02094268798828, 14.84881591796875, 13.92265510559082, 13.9826078414917, 14.823899269104004, 13.533003807067871, 12.162103652954102, 13.291666984558105, 12.959336280822754, 12.681690216064453, 22.883602142333984, 12.51529312133789, 14.022333145141602, 14.94387149810791], [13.148938179016113, 12.657386779785156, 12.419540405273438, 16.946338653564453, 13.961007118225098, 18.50878143310547, 13.185548782348633, 13.43047046661377, 12.838485717773438, 13.440925598144531, 13.648222923278809, 14.109071731567383, 11.776681900024414, 13.570708274841309, 12.871057510375977, 12.34755802154541, 9.694701194763184, 10.020551681518555, 10.331177711486816, 12.959961891174316, 13.2402982711792, 12.499964714050293, 12.104150772094727, 16.40526008605957, 11.574545860290527, 15.23914909362793, 11.89445686340332, 14.370895385742188, 14.86596965789795, 13.47392749786377, 14.243635177612305, 15.46331787109375, 13.1215238571167, 16.90046501159668, 12.565850257873535, 15.554174423217773, 13.010428428649902, 15.954617500305176, 17.57940101623535, 14.219695091247559, 14.531118392944336, 12.980443954467773, 12.450936317443848, 13.816360473632812, 14.530418395996094, 12.954334259033203, 12.194252014160156, 13.913202285766602, 13.903958320617676, 13.93055248260498], [14.645808219909668, 12.115424156188965, 12.414342880249023, 12.998523712158203, 10.431635856628418, 12.082738876342773, 13.85926342010498, 12.234708786010742, 11.606481552124023, 12.752406120300293, 10.642748832702637, 15.967119216918945, 10.851066589355469, 11.319351196289062, 12.5336332321167, 13.558122634887695, 11.139020919799805, 11.68350887298584, 12.068564414978027, 12.858380317687988, 13.637093544006348, 15.210227966308594, 9.72079086303711, 15.78327465057373, 13.255199432373047, 13.022740364074707, 14.334750175476074, 16.35651397705078, 12.746589660644531, 14.287845611572266, 15.735806465148926, 11.251602172851562, 14.671658515930176, 12.985456466674805, 12.148066520690918, 13.539222717285156, 13.507906913757324, 14.307838439941406, 12.828848838806152, 13.39924144744873, 12.698943138122559, 12.579350471496582, 12.043009757995605, 13.830087661743164, 10.770999908447266, 13.234672546386719, 12.239526748657227, 12.26830005645752, 8.372130393981934, 11.969122886657715], [10.371431350708008, 15.608014106750488, 12.39346981048584, 10.775978088378906, 12.62907600402832, 11.08425521850586, 11.563294410705566, 13.499032974243164, 11.621952056884766, 10.764430046081543, 11.431344985961914, 10.321249961853027, 10.169055938720703, 8.93224048614502, 9.495115280151367, 11.271529197692871, 11.253325462341309, 9.020121574401855, 9.803417205810547, 11.087703704833984, 13.142940521240234, 11.5938720703125, 14.02580738067627, 13.876667976379395, 13.234214782714844, 9.970806121826172, 13.961225509643555, 13.726709365844727, 14.98838996887207, 12.548348426818848, 15.745502471923828, 12.817584037780762, 12.232365608215332, 13.39280891418457, 17.519319534301758, 13.992288589477539, 13.682276725769043, 15.727911949157715, 15.37291145324707, 15.14942741394043, 13.88892936706543, 11.765795707702637, 14.73096752166748, 13.202812194824219, 12.631129264831543, 14.321762084960938, 17.84708595275879, 11.75231647491455, 12.503108978271484, 15.167566299438477], [12.391254425048828, 12.597697257995605, 12.806474685668945, 12.331509590148926, 11.35702133178711, 11.740986824035645, 10.54671859741211, 11.569134712219238, 13.127395629882812, 12.009766578674316, 11.967816352844238, 11.722197532653809, 11.740389823913574, 11.504948616027832, 11.610330581665039, 10.491876602172852, 9.340316772460938, 11.621723175048828, 10.725687026977539, 12.345281600952148, 11.106369018554688, 14.526897430419922, 13.926435470581055, 14.75882339477539, 13.217384338378906, 13.24107837677002, 12.891263008117676, 13.755777359008789, 13.868940353393555, 14.340055465698242, 13.189894676208496, 13.051741600036621, 15.661321640014648, 13.785725593566895, 14.448210716247559, 9.800299644470215, 14.818471908569336, 14.467659950256348, 14.474185943603516, 18.138015747070312, 11.449216842651367, 11.93622875213623, 12.521794319152832, 14.458772659301758, 23.101024627685547, 13.968578338623047, 10.804445266723633, 13.81543254852295, 10.251968383789062, 13.532736778259277], [14.386575698852539, 15.610808372497559, 11.126286506652832, -53.23678970336914, 7.991793632507324, 6.783797264099121, 7.320488929748535, 3.0855650901794434, 3.178795099258423, 5.81630277633667, 4.052166938781738, 5.269028663635254, 5.606115818023682, 9.998907089233398, 9.259136199951172, 4.337843418121338, 8.587615013122559, 7.911198616027832, 9.781210899353027, 10.529157638549805, 12.683703422546387, 12.624846458435059, 7.472024917602539, 12.214737892150879, 14.73258113861084, 15.46681022644043, 6.905980110168457, 8.789162635803223, 11.72597599029541, 9.45784854888916, 5.955713272094727, 9.633529663085938, 6.882797718048096, 11.034499168395996, 9.425694465637207, 8.677281379699707, 6.720393180847168, 10.76583194732666, 9.980095863342285, 8.349187850952148, 9.957643508911133, 9.28843879699707, 12.523736953735352, -4.057375907897949, 5.493198871612549, 8.553479194641113, 9.516520500183105, 8.073466300964355, 10.758574485778809, 9.48981761932373], [10.191834449768066, 12.857900619506836, 11.373006820678711, 13.74806022644043, 11.481226921081543, 11.470463752746582, 13.090291976928711, 10.385581970214844, 11.700575828552246, 11.60993766784668, 10.969632148742676, 10.79659652709961, 9.728400230407715, 9.568475723266602, 10.510063171386719, 9.606660842895508, 11.522841453552246, 9.691093444824219, 11.792719841003418, 11.505678176879883, 12.692025184631348, 13.471992492675781, 12.549736022949219, 15.114784240722656, 11.72342586517334, 13.840567588806152, 13.757511138916016, 15.757682800292969, 13.944904327392578, 13.747333526611328, 15.729154586791992, 12.682353019714355, 15.518732070922852, 12.239912986755371, 11.356292724609375, 16.84537696838379, 14.834696769714355, 11.892614364624023, 11.893655776977539, 12.47275161743164, 14.405732154846191, 11.40616512298584, 10.575019836425781, 10.44278335571289, 13.181126594543457, 10.393229484558105, 11.764896392822266, 11.157369613647461, 10.727027893066406, 11.481959342956543], [14.94810962677002, 15.104958534240723, 8.952165603637695, 10.452690124511719, 11.952890396118164, 11.842645645141602, 11.35313892364502, 10.534805297851562, 6.043679714202881, 9.850199699401855, 12.682642936706543, 13.404728889465332, 9.242138862609863, 10.547281265258789, 10.52247142791748, 12.720630645751953, 12.981143951416016, 12.201227188110352, 10.2233247756958, 12.735363960266113, 12.779598236083984, 12.716968536376953, 14.977673530578613, 13.967418670654297, 14.797274589538574, 11.831079483032227, 14.096212387084961, 13.576543807983398, 14.449410438537598, 14.240058898925781, 13.081077575683594, 13.588337898254395, 15.540324211120605, 13.212239265441895, 14.019842147827148, 12.684320449829102, 12.80427074432373, 21.06460952758789, 15.790390014648438, 15.343857765197754, 15.884742736816406, 14.538251876831055, 15.193041801452637, 5.696125030517578, 18.019006729125977, 13.08808422088623, 13.701559066772461, 13.03807544708252, 14.266997337341309, 13.041318893432617], [11.707972526550293, 13.679276466369629, 13.262617111206055, 10.848250389099121, 12.801823616027832, 12.562612533569336, 13.942268371582031, 13.993281364440918, 12.91163444519043, 13.109786033630371, 10.157292366027832, 14.274322509765625, 12.387499809265137, 12.121589660644531, 14.934370994567871, 13.918659210205078, 11.986190795898438, 11.251255989074707, 5.295070648193359, 12.342851638793945, 14.428224563598633, 13.962626457214355, 14.105119705200195, 15.238911628723145, 14.571630477905273, 15.364324569702148, 16.621328353881836, 16.378063201904297, 13.517426490783691, 9.761475563049316, 13.867042541503906, 12.57533073425293, 12.522163391113281, 13.751872062683105, 12.468915939331055, 6.469598293304443, 10.393973350524902, 12.904450416564941, 11.697051048278809, 11.579225540161133, 11.006391525268555, 10.380317687988281, 10.473786354064941, 12.598376274108887, 11.474325180053711, 9.804206848144531, 11.051362991333008, 14.032658576965332, 7.965941905975342, 10.79646110534668], [12.915565490722656, 13.927591323852539, 12.141239166259766, 12.116331100463867, 12.176538467407227, 11.623610496520996, 12.402542114257812, 10.84006118774414, 13.444808006286621, 11.391013145446777, 12.168791770935059, 11.88796615600586, 10.946324348449707, 11.69970417022705, 13.301913261413574, 13.817952156066895, 12.583039283752441, 10.747775077819824, 14.071648597717285, 6.270101070404053, 14.908651351928711, 11.977880477905273, 12.022446632385254, 14.603636741638184, 13.052061080932617, 12.608792304992676, 12.852874755859375, 16.041343688964844, 14.23389720916748, 8.576742172241211, 14.718903541564941, 11.722891807556152, 13.24736499786377, 10.337098121643066, 13.091802597045898, 12.644098281860352, 9.578060150146484, 13.37066650390625, 3.865570068359375, 14.789576530456543, 12.214838027954102, 17.103103637695312, 10.585205078125, 11.189563751220703, 10.489933967590332, 10.880674362182617, 3.782946825027466, 11.684671401977539, 13.351266860961914, 10.553823471069336], [14.093647003173828, 13.357756614685059, 10.434289932250977, 11.64622688293457, 13.616833686828613, 8.78503131866455, 10.14950180053711, 12.286242485046387, 11.96768569946289, 12.955079078674316, 12.690800666809082, 11.640022277832031, 13.183526992797852, 11.383811950683594, 12.66065788269043, 11.034638404846191, 12.266819953918457, 9.251421928405762, 12.555378913879395, 13.080623626708984, 13.02100944519043, 13.9119291305542, 12.438602447509766, 15.870539665222168, 15.331465721130371, 13.284351348876953, 13.423649787902832, 15.794841766357422, 13.98888111114502, 14.429760932922363, 14.384628295898438, 13.300687789916992, 14.812013626098633, 11.899463653564453, 11.467208862304688, 14.973295211791992, 15.402084350585938, 14.426899909973145, 13.433110237121582, 15.175548553466797, 12.771174430847168, 9.781617164611816, 11.204689025878906, 14.258538246154785, 11.74928092956543, 11.355334281921387, 11.165143966674805, 10.869396209716797, 10.521219253540039, 11.244709968566895], [14.507881164550781, 10.963496208190918, 10.199066162109375, 10.47921371459961, 7.699528694152832, 13.066035270690918, 13.694119453430176, 13.010388374328613, 9.176719665527344, 13.475757598876953, 11.132938385009766, 12.310281753540039, 11.745697021484375, 11.938634872436523, 10.50324821472168, 14.156543731689453, 11.213314056396484, 9.082372665405273, 10.899624824523926, 12.84268569946289, 18.3760929107666, 16.776081085205078, 13.215079307556152, 13.830756187438965, 13.847848892211914, 13.945038795471191, 14.384984016418457, 11.876152992248535, 13.656119346618652, 13.893902778625488, 14.851665496826172, 12.742836952209473, 14.53776741027832, 12.222699165344238, 9.374069213867188, 12.478766441345215, 11.888683319091797, 14.222250938415527, 13.120489120483398, 15.189176559448242, 12.336770057678223, 12.515729904174805, 11.444039344787598, 11.720653533935547, 12.073982238769531, 15.222603797912598, 11.099807739257812, 15.40518856048584, 13.183713912963867, 13.048017501831055], [12.98922348022461, 12.062743186950684, 11.236064910888672, 12.688358306884766, 15.063980102539062, 9.739980697631836, 12.503861427307129, 11.682404518127441, 12.299337387084961, 11.91871452331543, 19.281530380249023, 15.785937309265137, 12.995244979858398, 13.1617431640625, 13.760639190673828, 11.166049003601074, 13.950669288635254, 13.61970329284668, 10.705092430114746, 12.032890319824219, 16.365808486938477, 12.420731544494629, 13.391022682189941, 22.21576690673828, 12.91353702545166, 14.493206024169922, 15.831531524658203, 15.696953773498535, 16.6209659576416, 15.340956687927246, 14.464224815368652, 15.96742057800293, 17.382673263549805, 15.164896965026855, 16.25963592529297, 15.468574523925781, 14.510164260864258, 8.682624816894531, 15.290826797485352, 10.987717628479004, 15.446648597717285, 13.074906349182129, 14.053099632263184, 12.615157127380371, 12.697413444519043, 13.858478546142578, 14.700586318969727, 12.55246353149414, 13.645397186279297, 12.717432022094727], [10.39417552947998, 12.300798416137695, 11.211753845214844, 11.706827163696289, 11.389001846313477, 11.658586502075195, 11.622480392456055, 11.800783157348633, 9.518593788146973, 12.65493106842041, 11.428482055664062, 12.215286254882812, 10.999955177307129, 10.782527923583984, 10.460968017578125, 10.660372734069824, 24.617572784423828, 10.518686294555664, 10.67399787902832, 11.41278076171875, 13.555296897888184, 10.328128814697266, 11.953667640686035, 12.894512176513672, 13.926265716552734, 12.885948181152344, 9.015081405639648, 12.075181007385254, 11.496546745300293, 9.591313362121582, 15.404309272766113, 12.533035278320312, 8.151144981384277, 10.129558563232422, 14.73328685760498, 9.87938404083252, 12.029457092285156, 12.040756225585938, 13.442461013793945, 12.751875877380371, 13.678380012512207, 9.721261024475098, 15.601090431213379, 13.349836349487305, 13.21810245513916, 11.9226655960083, 12.648650169372559, 11.844913482666016, 13.589522361755371, 10.903698921203613], [12.2720947265625, 20.177385330200195, 11.778388023376465, 12.064492225646973, 12.302116394042969, 12.062580108642578, 12.278059959411621, 12.35547924041748, 12.81979751586914, 11.444575309753418, 11.598132133483887, 11.988509178161621, 11.271477699279785, 11.426025390625, 12.03249740600586, 9.955914497375488, 12.393810272216797, 9.503966331481934, 8.899553298950195, 11.020347595214844, 12.303216934204102, 12.734384536743164, 12.168351173400879, 13.073575973510742, 12.846827507019043, 13.231695175170898, 14.117108345031738, 13.773444175720215, 16.38911247253418, 14.76382064819336, 14.12936019897461, 15.456132888793945, 15.003560066223145, 12.762964248657227, 15.193655014038086, 12.19530200958252, 15.454121589660645, 13.824416160583496, 13.55486011505127, 15.763381958007812, 16.24751091003418, 14.054584503173828, 13.274408340454102, 13.649785041809082, 12.513677597045898, 14.313919067382812, 14.354969024658203, 12.586692810058594, 13.006309509277344, 14.091726303100586]], numpy.dtype(\"float32\")), start_date=pandas.Timestamp(\"2019-01-07 06:00:00\", freq=\"H\"))"
      ]
     },
     "execution_count": 38,
     "metadata": {},
     "output_type": "execute_result"
    }
   ],
   "source": [
    "forecast_entry"
   ]
  },
  {
   "cell_type": "code",
   "execution_count": null,
   "metadata": {},
   "outputs": [],
   "source": []
  }
 ],
 "metadata": {
  "kernelspec": {
   "display_name": "Python 3",
   "language": "python",
   "name": "python3"
  },
  "language_info": {
   "codemirror_mode": {
    "name": "ipython",
    "version": 3
   },
   "file_extension": ".py",
   "mimetype": "text/x-python",
   "name": "python",
   "nbconvert_exporter": "python",
   "pygments_lexer": "ipython3",
   "version": "3.6.10"
  }
 },
 "nbformat": 4,
 "nbformat_minor": 2
}
