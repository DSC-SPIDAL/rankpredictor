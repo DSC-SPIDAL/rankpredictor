{
 "cells": [
  {
   "cell_type": "markdown",
   "metadata": {},
   "source": [
    "# DeepAR on laptime&rank dataset\n",
    "\n",
    "laptime&rank dataset\n",
    "<eventid, carids, laptime (totalcars x totallaps), rank (totalcars x totallaps)>; filled with NaN"
   ]
  },
  {
   "cell_type": "code",
   "execution_count": 1,
   "metadata": {},
   "outputs": [],
   "source": [
    "# Third-party imports\n",
    "%matplotlib inline\n",
    "import mxnet as mx\n",
    "from mxnet import gluon\n",
    "import numpy as np\n",
    "import pandas as pd\n",
    "import matplotlib.pyplot as plt\n",
    "import json"
   ]
  },
  {
   "cell_type": "markdown",
   "metadata": {},
   "source": [
    "## Datasets\n"
   ]
  },
  {
   "cell_type": "code",
   "execution_count": 2,
   "metadata": {},
   "outputs": [],
   "source": [
    "import pickle\n",
    "with open('laptime_rank-2018.pickle', 'rb') as f:\n",
    "    # The protocol version used is detected automatically, so we do not\n",
    "    # have to specify it.\n",
    "    global_carids, laptime_data = pickle.load(f, encoding='latin1')"
   ]
  },
  {
   "cell_type": "code",
   "execution_count": 3,
   "metadata": {},
   "outputs": [],
   "source": [
    "events = ['Phoenix','Indy500','Texas','Iowa','Pocono','Gateway']\n",
    "events_id={key:idx for idx, key in enumerate(events)}"
   ]
  },
  {
   "cell_type": "code",
   "execution_count": 4,
   "metadata": {},
   "outputs": [
    {
     "name": "stdout",
     "output_type": "stream",
     "text": [
      "events: ['Phoenix', 'Indy500', 'Texas', 'Iowa', 'Pocono', 'Gateway']\n"
     ]
    }
   ],
   "source": [
    "print(f\"events: {events}\")"
   ]
  },
  {
   "cell_type": "markdown",
   "metadata": {},
   "source": [
    "To download one of the built-in datasets, simply call get_dataset with one of the above names. GluonTS can re-use the saved dataset so that it does not need to be downloaded again: simply set `regenerate=False`."
   ]
  },
  {
   "cell_type": "code",
   "execution_count": 5,
   "metadata": {},
   "outputs": [
    {
     "data": {
      "text/plain": [
       "array([[26.0364, 24.6531, 24.3582, ...,     nan,     nan,     nan],\n",
       "       [62.1349, 66.7862,     nan, ...,     nan,     nan,     nan],\n",
       "       [28.33  , 26.3849, 25.3203, ...,     nan,     nan,     nan],\n",
       "       ...,\n",
       "       [64.83  , 58.0034,     nan, ...,     nan,     nan,     nan],\n",
       "       [28.0383, 26.1015, 25.6888, ...,     nan,     nan,     nan],\n",
       "       [27.296 , 26.2981, 25.0074, ...,     nan,     nan,     nan]],\n",
       "      dtype=float32)"
      ]
     },
     "execution_count": 5,
     "metadata": {},
     "output_type": "execute_result"
    }
   ],
   "source": [
    "laptime_data[2][2].astype(np.float32)"
   ]
  },
  {
   "cell_type": "code",
   "execution_count": 6,
   "metadata": {},
   "outputs": [],
   "source": [
    "# global configuration\n",
    "prediction_length = 50\n",
    "freq = \"1H\"\n",
    "cardinality = [len(global_carids)]\n",
    "TS_LAPTIME=2\n",
    "TS_RANK=3\n",
    "run_ts = TS_RANK"
   ]
  },
  {
   "cell_type": "code",
   "execution_count": 7,
   "metadata": {},
   "outputs": [],
   "source": [
    "from gluonts.dataset.common import ListDataset\n",
    "start = pd.Timestamp(\"01-01-2019\", freq=freq)  # can be different for each time series\n",
    "\n",
    "train_set = []\n",
    "test_set = []\n",
    "\n",
    "#_data: eventid, carids, laptime array\n",
    "for _data in laptime_data:\n",
    "    #_train = [{'target': x.astype(np.float32), 'start': start} \n",
    "    #        for x in _data[2][:, :-prediction_length]]\n",
    "    #_test = [{'target': x.astype(np.float32), 'start': start} \n",
    "    #        for x in _data[2]]\n",
    "    \n",
    "    #map rowid -> carno -> global_carid\n",
    "    #carids = list(_data[1].values())\n",
    "    #global_carid = global_carids[_data[1][rowid]]\n",
    "    \n",
    "    _train = [{'target': _data[run_ts][rowid, :-prediction_length].astype(np.float32), 'start': start, \n",
    "               'feat_static_cat': global_carids[_data[1][rowid]]}             \n",
    "            for rowid in range(_data[run_ts].shape[0]) ]\n",
    "    _test = [{'target': _data[run_ts][rowid, :].astype(np.float32), 'start': start, \n",
    "              'feat_static_cat': global_carids[_data[1][rowid]]} \n",
    "            for rowid in range(_data[run_ts].shape[0]) ]\n",
    "    \n",
    "    train_set.extend(_train)\n",
    "    test_set.extend(_test)\n",
    "\n"
   ]
  },
  {
   "cell_type": "code",
   "execution_count": 8,
   "metadata": {},
   "outputs": [],
   "source": [
    "# train dataset: cut the last window of length \"prediction_length\", add \"target\" and \"start\" fields\n",
    "train_ds = ListDataset(train_set, freq=freq)\n",
    "# test dataset: use the whole dataset, add \"target\" and \"start\" fields\n",
    "test_ds = ListDataset(test_set, freq=freq)"
   ]
  },
  {
   "cell_type": "markdown",
   "metadata": {},
   "source": [
    "In general, the datasets provided by GluonTS are objects that consists of three main members:\n",
    "\n",
    "- `dataset.train` is an iterable collection of data entries used for training. Each entry corresponds to one time series\n",
    "- `dataset.test` is an iterable collection of data entries used for inference. The test dataset is an extended version of the train dataset that contains a window in the end of each time series that was not seen during training. This window has length equal to the recommended prediction length.\n",
    "- `dataset.metadata` contains metadata of the dataset such as the frequency of the time series, a recommended prediction horizon, associated features, etc."
   ]
  },
  {
   "cell_type": "code",
   "execution_count": 9,
   "metadata": {},
   "outputs": [
    {
     "data": {
      "image/png": "[encoded data removed]",
      "text/plain": [
       "<Figure size 432x288 with 1 Axes>"
      ]
     },
     "metadata": {
      "needs_background": "light"
     },
     "output_type": "display_data"
    }
   ],
   "source": [
    "from gluonts.dataset.util import to_pandas\n",
    "entry = next(iter(train_ds))\n",
    "train_series = to_pandas(entry)\n",
    "train_series.plot()\n",
    "plt.grid(which=\"both\")\n",
    "plt.legend([\"train series\"], loc=\"upper left\")\n",
    "plt.show()"
   ]
  },
  {
   "cell_type": "code",
   "execution_count": 10,
   "metadata": {},
   "outputs": [
    {
     "data": {
      "image/png": "[encoded data removed]",
      "text/plain": [
       "<Figure size 432x288 with 1 Axes>"
      ]
     },
     "metadata": {
      "needs_background": "light"
     },
     "output_type": "display_data"
    }
   ],
   "source": [
    "entry = next(iter(test_ds))\n",
    "test_series = to_pandas(entry)\n",
    "test_series.plot()\n",
    "plt.axvline(train_series.index[-1], color='r') # end of train dataset\n",
    "plt.grid(which=\"both\")\n",
    "plt.legend([\"test series\", \"end of train series\"], loc=\"upper left\")\n",
    "plt.show()"
   ]
  },
  {
   "cell_type": "code",
   "execution_count": 11,
   "metadata": {},
   "outputs": [
    {
     "name": "stdout",
     "output_type": "stream",
     "text": [
      "Length of forecasting window in test dataset: 50\n",
      "Recommended prediction horizon: 50\n",
      "Frequency of the time series: 1H\n"
     ]
    }
   ],
   "source": [
    "print(f\"Length of forecasting window in test dataset: {len(test_series) - len(train_series)}\")\n",
    "print(f\"Recommended prediction horizon: {prediction_length}\")\n",
    "print(f\"Frequency of the time series: {freq}\")"
   ]
  },
  {
   "cell_type": "markdown",
   "metadata": {},
   "source": [
    "## Training an existing model (`Estimator`)\n",
    "\n",
    "GluonTS comes with a number of pre-built models. All the user needs to do is configure some hyperparameters. The existing models focus on (but are not limited to) probabilistic forecasting. Probabilistic forecasts are predictions in the form of a probability distribution, rather than simply a single point estimate.\n",
    "\n",
    "We will begin with GulonTS's pre-built feedforward neural network estimator, a simple but powerful forecasting model. We will use this model to demonstrate the process of training a model, producing forecasts, and evaluating the results.\n",
    "\n",
    "GluonTS's built-in feedforward neural network (`SimpleFeedForwardEstimator`) accepts an input window of length `context_length` and predicts the distribution of the values of the subsequent `prediction_length` values. In GluonTS parlance, the feedforward neural network model is an example of `Estimator`. In GluonTS, `Estimator` objects represent a forecasting model as well as details such as its coefficients, weights, etc.\n",
    "\n",
    "In general, each estimator (pre-built or custom) is configured by a number of hyperparameters that can be either common (but not binding) among all estimators (e.g., the `prediction_length`) or specific for the particular estimator (e.g., number of layers for a neural network or the stride in a CNN).\n",
    "\n",
    "Finally, each estimator is configured by a `Trainer`, which defines how the model will be trained i.e., the number of epochs, the learning rate, etc."
   ]
  },
  {
   "cell_type": "code",
   "execution_count": 12,
   "metadata": {},
   "outputs": [
    {
     "name": "stderr",
     "output_type": "stream",
     "text": [
      "INFO:root:Using GPU\n"
     ]
    }
   ],
   "source": [
    "from gluonts.model.deepar import DeepAREstimator\n",
    "from gluonts.trainer import Trainer"
   ]
  },
  {
   "cell_type": "code",
   "execution_count": 39,
   "metadata": {},
   "outputs": [],
   "source": [
    "estimator = DeepAREstimator(\n",
    "    prediction_length=prediction_length,\n",
    "    context_length=2*prediction_length,\n",
    "    use_feat_static_cat=True,\n",
    "    cardinality=cardinality,\n",
    "    freq=freq,\n",
    "    trainer=Trainer(ctx=\"gpu(2)\", \n",
    "                    epochs=1, \n",
    "                    learning_rate=1e-3, \n",
    "                    num_batches_per_epoch=64\n",
    "                   )\n",
    ")"
   ]
  },
  {
   "cell_type": "markdown",
   "metadata": {},
   "source": [
    "After specifying our estimator with all the necessary hyperparameters we can train it using our training dataset `dataset.train` by invoking the `train` method of the estimator. The training algorithm returns a fitted model (or a `Predictor` in GluonTS parlance) that can be used to construct forecasts."
   ]
  },
  {
   "cell_type": "code",
   "execution_count": 14,
   "metadata": {},
   "outputs": [
    {
     "name": "stderr",
     "output_type": "stream",
     "text": [
      "INFO:root:Start model training\n",
      "INFO:root:Epoch[0] Learning rate is 0.001\n",
      "  0%|          | 0/64 [00:00<?, ?it/s]INFO:root:Number of parameters in DeepARTrainingNetwork: 31483\n",
      "100%|██████████| 64/64 [00:16<00:00,  3.89it/s, avg_epoch_loss=2.1] \n",
      "INFO:root:Epoch[0] Elapsed time 16.439 seconds\n",
      "INFO:root:Epoch[0] Evaluation metric 'epoch_loss'=2.100863\n",
      "INFO:root:Loading parameters from best epoch (0)\n",
      "INFO:root:Final loss: 2.1008627768605947 (occurred at epoch 0)\n",
      "INFO:root:End model training\n"
     ]
    }
   ],
   "source": [
    "predictor = estimator.train(train_ds)"
   ]
  },
  {
   "cell_type": "markdown",
   "metadata": {},
   "source": [
    "With a predictor in hand, we can now predict the last window of the `dataset.test` and evaluate our model's performance.\n",
    "\n",
    "GluonTS comes with the `make_evaluation_predictions` function that automates the process of prediction and model evaluation. Roughly, this function performs the following steps:\n",
    "\n",
    "- Removes the final window of length `prediction_length` of the `dataset.test` that we want to predict\n",
    "- The estimator uses the remaining data to predict (in the form of sample paths) the \"future\" window that was just removed\n",
    "- The module outputs the forecast sample paths and the `dataset.test` (as python generator objects)"
   ]
  },
  {
   "cell_type": "code",
   "execution_count": 15,
   "metadata": {},
   "outputs": [],
   "source": [
    "from gluonts.evaluation.backtest import make_evaluation_predictions"
   ]
  },
  {
   "cell_type": "code",
   "execution_count": 16,
   "metadata": {},
   "outputs": [],
   "source": [
    "forecast_it, ts_it = make_evaluation_predictions(\n",
    "    dataset=test_ds,  # test dataset\n",
    "    predictor=predictor,  # predictor\n",
    "    num_samples=100,  # number of sample paths we want for evaluation\n",
    ")"
   ]
  },
  {
   "cell_type": "markdown",
   "metadata": {},
   "source": [
    "First, we can convert these generators to lists to ease the subsequent computations."
   ]
  },
  {
   "cell_type": "code",
   "execution_count": 17,
   "metadata": {},
   "outputs": [],
   "source": [
    "forecasts = list(forecast_it)\n",
    "tss = list(ts_it)"
   ]
  },
  {
   "cell_type": "markdown",
   "metadata": {},
   "source": [
    "We can examine the first element of these lists (that corresponds to the first time series of the dataset). Let's start with the list containing the time series, i.e., `tss`. We expect the first entry of `tss` to contain the (target of the) first time series of `dataset.test`."
   ]
  },
  {
   "cell_type": "code",
   "execution_count": 18,
   "metadata": {},
   "outputs": [],
   "source": [
    "# first entry of the time series list\n",
    "ts_entry = tss[0]"
   ]
  },
  {
   "cell_type": "code",
   "execution_count": 19,
   "metadata": {},
   "outputs": [
    {
     "data": {
      "text/plain": [
       "250"
      ]
     },
     "execution_count": 19,
     "metadata": {},
     "output_type": "execute_result"
    }
   ],
   "source": [
    "len(ts_entry)"
   ]
  },
  {
   "cell_type": "code",
   "execution_count": 20,
   "metadata": {},
   "outputs": [
    {
     "data": {
      "text/plain": [
       "array([4., 4., 4., 2., 2., 2., 1., 1., 1., 1.], dtype=float32)"
      ]
     },
     "execution_count": 20,
     "metadata": {},
     "output_type": "execute_result"
    }
   ],
   "source": [
    "# first 5 values of the time series (convert from pandas to numpy)\n",
    "np.array(ts_entry[-10:]).reshape(-1,)"
   ]
  },
  {
   "cell_type": "code",
   "execution_count": 21,
   "metadata": {},
   "outputs": [],
   "source": [
    "# first entry of dataset.test\n",
    "dataset_test_entry = next(iter(test_ds))"
   ]
  },
  {
   "cell_type": "code",
   "execution_count": 22,
   "metadata": {},
   "outputs": [
    {
     "data": {
      "text/plain": [
       "array([4., 4., 4., 2., 2., 2., 1., 1., 1., 1.], dtype=float32)"
      ]
     },
     "execution_count": 22,
     "metadata": {},
     "output_type": "execute_result"
    }
   ],
   "source": [
    "# first 5 values\n",
    "dataset_test_entry['target'][-10:]"
   ]
  },
  {
   "cell_type": "code",
   "execution_count": 23,
   "metadata": {},
   "outputs": [
    {
     "data": {
      "text/plain": [
       "250"
      ]
     },
     "execution_count": 23,
     "metadata": {},
     "output_type": "execute_result"
    }
   ],
   "source": [
    "len(tss[0])"
   ]
  },
  {
   "cell_type": "code",
   "execution_count": 24,
   "metadata": {},
   "outputs": [
    {
     "data": {
      "text/plain": [
       "(100, 50)"
      ]
     },
     "execution_count": 24,
     "metadata": {},
     "output_type": "execute_result"
    }
   ],
   "source": [
    "forecasts[0].samples.shape"
   ]
  },
  {
   "cell_type": "code",
   "execution_count": 25,
   "metadata": {},
   "outputs": [
    {
     "data": {
      "text/html": [
       "<div>\n",
       "<style scoped>\n",
       "    .dataframe tbody tr th:only-of-type {\n",
       "        vertical-align: middle;\n",
       "    }\n",
       "\n",
       "    .dataframe tbody tr th {\n",
       "        vertical-align: top;\n",
       "    }\n",
       "\n",
       "    .dataframe thead th {\n",
       "        text-align: right;\n",
       "    }\n",
       "</style>\n",
       "<table border=\"1\" class=\"dataframe\">\n",
       "  <thead>\n",
       "    <tr style=\"text-align: right;\">\n",
       "      <th></th>\n",
       "      <th>0</th>\n",
       "    </tr>\n",
       "  </thead>\n",
       "  <tbody>\n",
       "    <tr>\n",
       "      <th>2019-01-01 00:00:00</th>\n",
       "      <td>27.0</td>\n",
       "    </tr>\n",
       "    <tr>\n",
       "      <th>2019-01-01 01:00:00</th>\n",
       "      <td>24.0</td>\n",
       "    </tr>\n",
       "    <tr>\n",
       "      <th>2019-01-01 02:00:00</th>\n",
       "      <td>24.0</td>\n",
       "    </tr>\n",
       "    <tr>\n",
       "      <th>2019-01-01 03:00:00</th>\n",
       "      <td>24.0</td>\n",
       "    </tr>\n",
       "    <tr>\n",
       "      <th>2019-01-01 04:00:00</th>\n",
       "      <td>24.0</td>\n",
       "    </tr>\n",
       "    <tr>\n",
       "      <th>...</th>\n",
       "      <td>...</td>\n",
       "    </tr>\n",
       "    <tr>\n",
       "      <th>2019-01-09 03:00:00</th>\n",
       "      <td>2.0</td>\n",
       "    </tr>\n",
       "    <tr>\n",
       "      <th>2019-01-09 04:00:00</th>\n",
       "      <td>15.0</td>\n",
       "    </tr>\n",
       "    <tr>\n",
       "      <th>2019-01-09 05:00:00</th>\n",
       "      <td>17.0</td>\n",
       "    </tr>\n",
       "    <tr>\n",
       "      <th>2019-01-09 06:00:00</th>\n",
       "      <td>17.0</td>\n",
       "    </tr>\n",
       "    <tr>\n",
       "      <th>2019-01-09 07:00:00</th>\n",
       "      <td>17.0</td>\n",
       "    </tr>\n",
       "  </tbody>\n",
       "</table>\n",
       "<p>200 rows × 1 columns</p>\n",
       "</div>"
      ],
      "text/plain": [
       "                        0\n",
       "2019-01-01 00:00:00  27.0\n",
       "2019-01-01 01:00:00  24.0\n",
       "2019-01-01 02:00:00  24.0\n",
       "2019-01-01 03:00:00  24.0\n",
       "2019-01-01 04:00:00  24.0\n",
       "...                   ...\n",
       "2019-01-09 03:00:00   2.0\n",
       "2019-01-09 04:00:00  15.0\n",
       "2019-01-09 05:00:00  17.0\n",
       "2019-01-09 06:00:00  17.0\n",
       "2019-01-09 07:00:00  17.0\n",
       "\n",
       "[200 rows x 1 columns]"
      ]
     },
     "execution_count": 25,
     "metadata": {},
     "output_type": "execute_result"
    }
   ],
   "source": [
    "# Indy500 Car 12 WillPower\n",
    "ts_entry = tss[52]\n",
    "ts_entry"
   ]
  },
  {
   "cell_type": "markdown",
   "metadata": {},
   "source": [
    "The entries in the `forecast` list are a bit more complex. They are objects that contain all the sample paths in the form of `numpy.ndarray` with dimension `(num_samples, prediction_length)`, the start date of the forecast, the frequency of the time series, etc. We can access all these information by simply invoking the corresponding attribute of the forecast object."
   ]
  },
  {
   "cell_type": "code",
   "execution_count": 26,
   "metadata": {},
   "outputs": [],
   "source": [
    "# first entry of the forecast list\n",
    "forecast_entry = forecasts[52]"
   ]
  },
  {
   "cell_type": "code",
   "execution_count": 27,
   "metadata": {},
   "outputs": [
    {
     "data": {
      "text/plain": [
       "array([12.609041 , 14.857639 , 12.460515 , 15.205414 , 13.966553 ,\n",
       "       14.552215 , 14.004252 , 12.759359 , 13.831731 , 12.315809 ,\n",
       "       13.5128765, 13.265121 ,  6.3159614, 12.783538 , 12.542195 ,\n",
       "       11.921409 ,  8.690061 , 13.7592   , 11.138319 , 11.868011 ,\n",
       "       12.850292 , 12.406536 , 12.463973 , 12.479267 , 11.600293 ,\n",
       "       13.197301 , 17.822708 , 12.423469 , 13.429987 , 12.528228 ,\n",
       "       10.158975 , 12.870495 , 12.7072525, 16.298351 , 13.482619 ,\n",
       "       12.860258 , 16.144854 , 13.354847 , 13.695052 , 15.222259 ,\n",
       "       14.183968 ,  7.9932575, 12.268167 , 11.511748 , 12.470324 ,\n",
       "       10.838871 , 12.625419 ,  9.6190815, 10.3886175, 10.726427 ],\n",
       "      dtype=float32)"
      ]
     },
     "execution_count": 27,
     "metadata": {},
     "output_type": "execute_result"
    }
   ],
   "source": [
    "forecast_entry.samples[0,:]"
   ]
  },
  {
   "cell_type": "code",
   "execution_count": 28,
   "metadata": {},
   "outputs": [
    {
     "name": "stdout",
     "output_type": "stream",
     "text": [
      "Number of sample paths: 100\n",
      "Dimension of samples: (100, 50)\n",
      "Start date of the forecast window: 2019-01-07 06:00:00\n",
      "Frequency of the time series: 1H\n"
     ]
    }
   ],
   "source": [
    "print(f\"Number of sample paths: {forecast_entry.num_samples}\")\n",
    "print(f\"Dimension of samples: {forecast_entry.samples.shape}\")\n",
    "print(f\"Start date of the forecast window: {forecast_entry.start_date}\")\n",
    "print(f\"Frequency of the time series: {forecast_entry.freq}\")"
   ]
  },
  {
   "cell_type": "markdown",
   "metadata": {},
   "source": [
    "We can also do calculations to summarize the sample paths, such computing the mean or a quantile for each of the 48 time steps in the forecast window."
   ]
  },
  {
   "cell_type": "code",
   "execution_count": 29,
   "metadata": {},
   "outputs": [
    {
     "name": "stdout",
     "output_type": "stream",
     "text": [
      "Mean of the future window:\n",
      " [13.351933  13.430032  13.035907  12.573752  12.607952  12.431803\n",
      " 13.150517  13.040439  12.673831  12.539699  12.87422   12.752693\n",
      " 12.384979  12.378199  12.662849  12.723791  13.386626  12.053753\n",
      " 11.165609  12.42595   12.785395  12.613616  13.341313  12.839669\n",
      " 12.825244  12.215976  13.046068  12.575401  13.124974  12.570835\n",
      " 12.286119  12.187491  12.18065   11.941194  12.289546  11.7733755\n",
      " 11.493773  12.237122  11.847287  12.525093  11.582079  10.837931\n",
      " 10.236334  10.220241  10.523907  10.624568  10.053447  10.423648\n",
      " 10.378766  10.504932 ]\n",
      "0.5-quantile (median) of the future window:\n",
      " [13.019697  13.442818  12.8268385 12.087721  12.595896  12.543894\n",
      " 12.959172  12.809021  12.623326  12.4857855 12.682126  12.494748\n",
      " 12.504614  12.566085  12.542195  12.449027  13.407122  11.725311\n",
      " 11.138319  12.5051    12.5352    12.684471  13.034642  12.715641\n",
      " 12.554827  11.949671  12.701969  12.701547  13.089849  12.587446\n",
      " 12.406862  12.518386  12.13229   11.811192  12.241343  12.183382\n",
      " 11.917895  12.342235  11.902051  12.016188  11.895737  10.760524\n",
      " 10.581661  10.450704  10.726297  10.602342  10.274485  10.841686\n",
      " 10.289514  10.615704 ]\n"
     ]
    }
   ],
   "source": [
    "print(f\"Mean of the future window:\\n {forecast_entry.mean}\")\n",
    "print(f\"0.5-quantile (median) of the future window:\\n {forecast_entry.quantile(0.5)}\")"
   ]
  },
  {
   "cell_type": "markdown",
   "metadata": {},
   "source": [
    "`Forecast` objects have a `plot` method that can summarize the forecast paths as the mean, prediction intervals, etc. The prediction intervals are shaded in different colors as a \"fan chart\"."
   ]
  },
  {
   "cell_type": "code",
   "execution_count": 30,
   "metadata": {},
   "outputs": [],
   "source": [
    "def plot_prob_forecasts(ts_entry, forecast_entry):\n",
    "    plot_length = 150 \n",
    "    prediction_intervals = (50.0, 90.0)\n",
    "    legend = [\"observations\", \"median prediction\"] + [f\"{k}% prediction interval\" for k in prediction_intervals][::-1]\n",
    "\n",
    "    fig, ax = plt.subplots(1, 1, figsize=(10, 7))\n",
    "    ts_entry[-plot_length:].plot(ax=ax)  # plot the time series\n",
    "    forecast_entry.plot(prediction_intervals=prediction_intervals, color='g')\n",
    "    plt.grid(which=\"both\")\n",
    "    plt.legend(legend, loc=\"upper left\")\n",
    "    plt.show()"
   ]
  },
  {
   "cell_type": "code",
   "execution_count": 31,
   "metadata": {},
   "outputs": [
    {
     "data": {
      "image/png": "[encoded data removed]",
      "text/plain": [
       "<Figure size 720x504 with 1 Axes>"
      ]
     },
     "metadata": {
      "needs_background": "light"
     },
     "output_type": "display_data"
    }
   ],
   "source": [
    "plot_prob_forecasts(ts_entry, forecast_entry)"
   ]
  },
  {
   "cell_type": "markdown",
   "metadata": {},
   "source": [
    "We can also evaluate the quality of our forecasts numerically. In GluonTS, the `Evaluator` class can compute aggregate performance metrics, as well as metrics per time series (which can be useful for analyzing performance across heterogeneous time series)."
   ]
  },
  {
   "cell_type": "code",
   "execution_count": 32,
   "metadata": {},
   "outputs": [],
   "source": [
    "from gluonts.evaluation import Evaluator"
   ]
  },
  {
   "cell_type": "code",
   "execution_count": 33,
   "metadata": {},
   "outputs": [
    {
     "name": "stderr",
     "output_type": "stream",
     "text": [
      "Running evaluation: 100%|██████████| 153/153 [00:01<00:00, 139.62it/s]\n",
      "/scratch/hpda/anaconda3/envs/gluonts/lib/python3.6/site-packages/pandas/core/dtypes/cast.py:1289: UserWarning: Warning: converting a masked element to nan.\n",
      "  subarr = np.array(values, dtype=dtype, copy=copy)\n"
     ]
    }
   ],
   "source": [
    "evaluator = Evaluator(quantiles=[0.1, 0.5, 0.9])\n",
    "agg_metrics, item_metrics = evaluator(iter(tss), iter(forecasts), num_series=len(test_ds))"
   ]
  },
  {
   "cell_type": "markdown",
   "metadata": {},
   "source": [
    "Aggregate metrics aggregate both across time-steps and across time series."
   ]
  },
  {
   "cell_type": "code",
   "execution_count": 34,
   "metadata": {},
   "outputs": [
    {
     "name": "stdout",
     "output_type": "stream",
     "text": [
      "{\n",
      "    \"MSE\": 12.021410673912257,\n",
      "    \"abs_error\": 13300.203194141388,\n",
      "    \"abs_target_sum\": 55147.0,\n",
      "    \"abs_target_mean\": 10.214919583363173,\n",
      "    \"seasonal_error\": 2.6918673177312615,\n",
      "    \"MASE\": 1.2293183487266053,\n",
      "    \"sMAPE\": 0.31394052883241697,\n",
      "    \"MSIS\": 20.432425702149523,\n",
      "    \"QuantileLoss[0.1]\": 5833.859597754479,\n",
      "    \"Coverage[0.1]\": 0.09964083139004457,\n",
      "    \"QuantileLoss[0.5]\": 13300.203197300434,\n",
      "    \"Coverage[0.5]\": 0.30846328764160913,\n",
      "    \"QuantileLoss[0.9]\": 9252.701577317715,\n",
      "    \"Coverage[0.9]\": 0.6431915623079657,\n",
      "    \"RMSE\": 3.4671906024780723,\n",
      "    \"NRMSE\": 0.3394241701251387,\n",
      "    \"ND\": 0.2411772751761907,\n",
      "    \"wQuantileLoss[0.1]\": 0.10578743354587701,\n",
      "    \"wQuantileLoss[0.5]\": 0.2411772752334748,\n",
      "    \"wQuantileLoss[0.9]\": 0.1677825009033622,\n",
      "    \"mean_wQuantileLoss\": 0.17158240322757135,\n",
      "    \"MAE_Coverage\": 0.14956810622012687\n",
      "}\n"
     ]
    }
   ],
   "source": [
    "print(json.dumps(agg_metrics, indent=4))"
   ]
  },
  {
   "cell_type": "markdown",
   "metadata": {},
   "source": [
    "Individual metrics are aggregated only across time-steps."
   ]
  },
  {
   "cell_type": "code",
   "execution_count": 35,
   "metadata": {},
   "outputs": [
    {
     "data": {
      "text/html": [
       "<div>\n",
       "<style scoped>\n",
       "    .dataframe tbody tr th:only-of-type {\n",
       "        vertical-align: middle;\n",
       "    }\n",
       "\n",
       "    .dataframe tbody tr th {\n",
       "        vertical-align: top;\n",
       "    }\n",
       "\n",
       "    .dataframe thead th {\n",
       "        text-align: right;\n",
       "    }\n",
       "</style>\n",
       "<table border=\"1\" class=\"dataframe\">\n",
       "  <thead>\n",
       "    <tr style=\"text-align: right;\">\n",
       "      <th></th>\n",
       "      <th>item_id</th>\n",
       "      <th>MSE</th>\n",
       "      <th>abs_error</th>\n",
       "      <th>abs_target_sum</th>\n",
       "      <th>abs_target_mean</th>\n",
       "      <th>seasonal_error</th>\n",
       "      <th>MASE</th>\n",
       "      <th>sMAPE</th>\n",
       "      <th>MSIS</th>\n",
       "      <th>QuantileLoss[0.1]</th>\n",
       "      <th>Coverage[0.1]</th>\n",
       "      <th>QuantileLoss[0.5]</th>\n",
       "      <th>Coverage[0.5]</th>\n",
       "      <th>QuantileLoss[0.9]</th>\n",
       "      <th>Coverage[0.9]</th>\n",
       "    </tr>\n",
       "  </thead>\n",
       "  <tbody>\n",
       "    <tr>\n",
       "      <th>0</th>\n",
       "      <td>NaN</td>\n",
       "      <td>5.393252</td>\n",
       "      <td>102.661583</td>\n",
       "      <td>95.0</td>\n",
       "      <td>1.900000</td>\n",
       "      <td>2.039773</td>\n",
       "      <td>1.006598</td>\n",
       "      <td>0.809993</td>\n",
       "      <td>21.318465</td>\n",
       "      <td>97.140809</td>\n",
       "      <td>0.72</td>\n",
       "      <td>102.661586</td>\n",
       "      <td>0.76</td>\n",
       "      <td>31.395297</td>\n",
       "      <td>1.000000</td>\n",
       "    </tr>\n",
       "    <tr>\n",
       "      <th>1</th>\n",
       "      <td>NaN</td>\n",
       "      <td>4.831744</td>\n",
       "      <td>78.278183</td>\n",
       "      <td>807.0</td>\n",
       "      <td>19.682927</td>\n",
       "      <td>2.159091</td>\n",
       "      <td>0.884272</td>\n",
       "      <td>0.103712</td>\n",
       "      <td>3.321337</td>\n",
       "      <td>40.703464</td>\n",
       "      <td>0.00</td>\n",
       "      <td>78.278186</td>\n",
       "      <td>0.00</td>\n",
       "      <td>10.246677</td>\n",
       "      <td>0.829268</td>\n",
       "    </tr>\n",
       "    <tr>\n",
       "      <th>2</th>\n",
       "      <td>NaN</td>\n",
       "      <td>1.983144</td>\n",
       "      <td>45.780270</td>\n",
       "      <td>189.0</td>\n",
       "      <td>3.780000</td>\n",
       "      <td>2.312500</td>\n",
       "      <td>0.395937</td>\n",
       "      <td>0.260132</td>\n",
       "      <td>6.236571</td>\n",
       "      <td>12.865523</td>\n",
       "      <td>0.12</td>\n",
       "      <td>45.780267</td>\n",
       "      <td>0.62</td>\n",
       "      <td>38.361641</td>\n",
       "      <td>0.860000</td>\n",
       "    </tr>\n",
       "    <tr>\n",
       "      <th>3</th>\n",
       "      <td>NaN</td>\n",
       "      <td>1.485790</td>\n",
       "      <td>53.595257</td>\n",
       "      <td>118.0</td>\n",
       "      <td>2.360000</td>\n",
       "      <td>1.835227</td>\n",
       "      <td>0.584072</td>\n",
       "      <td>0.451233</td>\n",
       "      <td>3.956616</td>\n",
       "      <td>14.522511</td>\n",
       "      <td>0.32</td>\n",
       "      <td>53.595256</td>\n",
       "      <td>0.90</td>\n",
       "      <td>22.037156</td>\n",
       "      <td>1.000000</td>\n",
       "    </tr>\n",
       "    <tr>\n",
       "      <th>4</th>\n",
       "      <td>NaN</td>\n",
       "      <td>3.135085</td>\n",
       "      <td>84.683990</td>\n",
       "      <td>245.0</td>\n",
       "      <td>4.900000</td>\n",
       "      <td>2.113636</td>\n",
       "      <td>0.801311</td>\n",
       "      <td>0.296428</td>\n",
       "      <td>5.482303</td>\n",
       "      <td>21.094003</td>\n",
       "      <td>0.44</td>\n",
       "      <td>84.683996</td>\n",
       "      <td>1.00</td>\n",
       "      <td>33.133876</td>\n",
       "      <td>1.000000</td>\n",
       "    </tr>\n",
       "  </tbody>\n",
       "</table>\n",
       "</div>"
      ],
      "text/plain": [
       "   item_id       MSE   abs_error  abs_target_sum  abs_target_mean  \\\n",
       "0      NaN  5.393252  102.661583            95.0         1.900000   \n",
       "1      NaN  4.831744   78.278183           807.0        19.682927   \n",
       "2      NaN  1.983144   45.780270           189.0         3.780000   \n",
       "3      NaN  1.485790   53.595257           118.0         2.360000   \n",
       "4      NaN  3.135085   84.683990           245.0         4.900000   \n",
       "\n",
       "   seasonal_error      MASE     sMAPE       MSIS  QuantileLoss[0.1]  \\\n",
       "0        2.039773  1.006598  0.809993  21.318465          97.140809   \n",
       "1        2.159091  0.884272  0.103712   3.321337          40.703464   \n",
       "2        2.312500  0.395937  0.260132   6.236571          12.865523   \n",
       "3        1.835227  0.584072  0.451233   3.956616          14.522511   \n",
       "4        2.113636  0.801311  0.296428   5.482303          21.094003   \n",
       "\n",
       "   Coverage[0.1]  QuantileLoss[0.5]  Coverage[0.5]  QuantileLoss[0.9]  \\\n",
       "0           0.72         102.661586           0.76          31.395297   \n",
       "1           0.00          78.278186           0.00          10.246677   \n",
       "2           0.12          45.780267           0.62          38.361641   \n",
       "3           0.32          53.595256           0.90          22.037156   \n",
       "4           0.44          84.683996           1.00          33.133876   \n",
       "\n",
       "   Coverage[0.9]  \n",
       "0       1.000000  \n",
       "1       0.829268  \n",
       "2       0.860000  \n",
       "3       1.000000  \n",
       "4       1.000000  "
      ]
     },
     "execution_count": 35,
     "metadata": {},
     "output_type": "execute_result"
    }
   ],
   "source": [
    "item_metrics.head()"
   ]
  },
  {
   "cell_type": "code",
   "execution_count": 36,
   "metadata": {},
   "outputs": [
    {
     "data": {
      "image/png": "[encoded data removed]",
      "text/plain": [
       "<Figure size 432x288 with 1 Axes>"
      ]
     },
     "metadata": {
      "needs_background": "light"
     },
     "output_type": "display_data"
    }
   ],
   "source": [
    "item_metrics.plot(x='MSIS', y='MASE', kind='scatter')\n",
    "plt.grid(which=\"both\")\n",
    "plt.show()"
   ]
  },
  {
   "cell_type": "code",
   "execution_count": null,
   "metadata": {},
   "outputs": [],
   "source": []
  }
 ],
 "metadata": {
  "kernelspec": {
   "display_name": "Python 3",
   "language": "python",
   "name": "python3"
  },
  "language_info": {
   "codemirror_mode": {
    "name": "ipython",
    "version": 3
   },
   "file_extension": ".py",
   "mimetype": "text/x-python",
   "name": "python",
   "nbconvert_exporter": "python",
   "pygments_lexer": "ipython3",
   "version": "3.6.10"
  }
 },
 "nbformat": 4,
 "nbformat_minor": 2
}
