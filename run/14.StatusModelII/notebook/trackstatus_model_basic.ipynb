{
 "cells": [
  {
   "cell_type": "markdown",
   "metadata": {},
   "source": [
    "### yellowflag dataset\n",
    "\n",
    "build a yellowflag dataset across all the oval races\n",
    "\n",
    "duration distribution analysis. \n",
    "+ when it happens (use distance to normalize different races) \n",
    "+ how long of the caution laps\n"
   ]
  },
  {
   "cell_type": "code",
   "execution_count": 1,
   "metadata": {},
   "outputs": [],
   "source": [
    "%matplotlib inline\n",
    "import pandas as pd\n",
    "import numpy as np\n",
    "import matplotlib.pyplot as plt\n",
    "import os\n",
    "os.environ[\"CUDA_VISIBLE_DEVICES\"]=\"7\""
   ]
  },
  {
   "cell_type": "markdown",
   "metadata": {},
   "source": [
    "## Load Data"
   ]
  },
  {
   "cell_type": "code",
   "execution_count": 2,
   "metadata": {},
   "outputs": [
    {
     "data": {
      "text/plain": [
       "'/scratch/hpda/indycar/notebook/8.PitStopAnalysis'"
      ]
     },
     "execution_count": 2,
     "metadata": {},
     "output_type": "execute_result"
    }
   ],
   "source": [
    "import os\n",
    "os.getcwd()"
   ]
  },
  {
   "cell_type": "code",
   "execution_count": 3,
   "metadata": {},
   "outputs": [],
   "source": [
    "#\n",
    "# parameters\n",
    "#\n",
    "#year = '2017'\n",
    "year = '2018'\n",
    "#event = 'Toronto'\n",
    "#https://www.racing-reference.info/season-stats/2018/O/#\n",
    "events_totalmiles=[256,500,372,268,500,310]\n",
    "events_laplen = [1.022,2.5,1.5,0.894,2.5,1.25]\n",
    "events = ['Phoenix','Indy500','Texas','Iowa','Pocono','Gateway']\n",
    "events_id={key:idx for idx, key in enumerate(events)}\n",
    "#events = ['Indy500']\n",
    "#events = ['Phoenix']"
   ]
  },
  {
   "cell_type": "code",
   "execution_count": 4,
   "metadata": {},
   "outputs": [],
   "source": [
    "# make indy car completed_laps dataset\n",
    "# car_number, completed_laps, rank, elapsed_time, rank_diff, elapsed_time_diff \n",
    "def make_cl_data(dataset):\n",
    "\n",
    "    # pick up data with valid rank\n",
    "    rankdata = dataset.rename_axis('MyIdx').sort_values(by=['elapsed_time','MyIdx'], ascending=True)\n",
    "    rankdata = rankdata.drop_duplicates(subset=['car_number', 'completed_laps'], keep='first')\n",
    "\n",
    "    # resort by car_number, lap\n",
    "    uni_ds = rankdata.sort_values(by=['car_number', 'completed_laps', 'elapsed_time'], ascending=True)    \n",
    "    uni_ds = uni_ds.drop([\"unique_id\", \"best_lap\", \"current_status\", \"track_status\", \"lap_status\",\n",
    "                      \"laps_behind_leade\",\"laps_behind_prec\",\"overall_rank\",\"pit_stop_count\",\n",
    "                      \"last_pitted_lap\",\"start_position\",\"laps_led\"], axis=1)\n",
    "    \n",
    "    carnumber = set(uni_ds['car_number'])\n",
    "    print('cars:', carnumber)\n",
    "    print('#cars=', len(carnumber))\n",
    "   \n",
    "    # faster solution , uni_ds already sorted by car_number and lap\n",
    "    uni_ds['rank_diff'] = uni_ds['rank'].diff()\n",
    "    mask = uni_ds.car_number != uni_ds.car_number.shift(1)\n",
    "    uni_ds['rank_diff'][mask] = 0\n",
    "    \n",
    "    uni_ds['time_diff'] = uni_ds['elapsed_time'].diff()\n",
    "    mask = uni_ds.car_number != uni_ds.car_number.shift(1)\n",
    "    uni_ds['time_diff'][mask] = 0\n",
    "    \n",
    "    df = uni_ds[['car_number','completed_laps','rank','elapsed_time','rank_diff','time_diff']]\n",
    "    \n",
    "    return df\n",
    "\n",
    "def make_lapstatus_data(dataset):\n",
    "    final_lap = max(dataset.completed_laps)\n",
    "    total_laps = final_lap + 1\n",
    "\n",
    "    # get records for the cars that finish the race\n",
    "    completed_car_numbers= dataset[dataset.completed_laps == final_lap].car_number.values\n",
    "    completed_car_count = len(completed_car_numbers)\n",
    "\n",
    "    print('count of completed cars:', completed_car_count)\n",
    "    print('completed cars:', completed_car_numbers)\n",
    "    \n",
    "    #pick up one of them\n",
    "    onecar = dataset[dataset['car_number']==completed_car_numbers[0]]\n",
    "    onecar = onecar.drop_duplicates(subset=['car_number', 'completed_laps'], keep='first')\n",
    "    return onecar[['completed_laps','track_status']]\n",
    "    "
   ]
  },
  {
   "cell_type": "code",
   "execution_count": 5,
   "metadata": {},
   "outputs": [],
   "source": [
    "def load_data(event, year):\n",
    "    inputfile = '../data/final/C_'+ event +'-' + year + '-final.csv'\n",
    "    outputprefix = year +'-' + event + '-'\n",
    "    dataset = pd.read_csv(inputfile)\n",
    "    #dataset.info(verbose=True)    \n",
    "    \n",
    "    final_lap = max(dataset.completed_laps)\n",
    "    total_laps = final_lap + 1\n",
    "\n",
    "    # get records for the cars that finish the race\n",
    "    completed_car_numbers= dataset[dataset.completed_laps == final_lap].car_number.values\n",
    "    completed_car_count = len(completed_car_numbers)\n",
    "\n",
    "    print('count of completed cars:', completed_car_count)\n",
    "    print('completed cars:', completed_car_numbers)\n",
    "\n",
    "    #make a copy\n",
    "    alldata = dataset.copy()\n",
    "    dataset = dataset[dataset['car_number'].isin(completed_car_numbers)]\n",
    "    rankdata = alldata.rename_axis('MyIdx').sort_values(by=['elapsed_time','MyIdx'], ascending=True)\n",
    "    rankdata = rankdata.drop_duplicates(subset=['car_number', 'completed_laps'], keep='first')\n",
    "    \n",
    "    cldata = make_cl_data(dataset)\n",
    "    flagdata = make_lapstatus_data(dataset)\n",
    "    acldata = make_cl_data(alldata)\n",
    "\n",
    "    return alldata, rankdata, acldata, flagdata"
   ]
  },
  {
   "cell_type": "markdown",
   "metadata": {},
   "source": [
    "### overall view of laptime scatter plots\n",
    "\n"
   ]
  },
  {
   "cell_type": "code",
   "execution_count": 6,
   "metadata": {},
   "outputs": [],
   "source": [
    "def get_cardata(curcarno, ycol='time_diff'):\n",
    "    car = acldata[acldata['car_number']==curcarno]\n",
    "    #print(car['time_diff'].describe())\n",
    "    \n",
    "    cols=['completed_laps','rank','car_number','lap_status','track_status',\n",
    "    'pit_stop_count','current_status','start_position']\n",
    "    colid={key:idx for idx, key in enumerate(cols)}\n",
    "\n",
    "    cardata = rankdata[rankdata['car_number'] == curcarno]\n",
    "\n",
    "    carstatus = [[row[0], row[1],row[2],row[3],row[4],row[5],row[6],row[7]] for row in cardata[\n",
    "        ['completed_laps','rank','car_number','lap_status','track_status',\n",
    "        'pit_stop_count','current_status','start_position']].values]\n",
    "    \n",
    "    x = car['completed_laps'][1:].values\n",
    "    y = car[ycol][1:].values\n",
    "\n",
    "    pits=[]\n",
    "    yellowflags=[]\n",
    "    lastflag = 'x'\n",
    "    for row in carstatus:\n",
    "        lap = int(row[colid['completed_laps']])\n",
    "\n",
    "        if row[colid['lap_status']]=='P':\n",
    "            pits.append(lap)\n",
    "\n",
    "        if row[colid['track_status']]=='Y':\n",
    "            if lastflag != 'Y':       \n",
    "                #start\n",
    "                yellowflags.append(lap)\n",
    "        else:\n",
    "            if lastflag == 'Y':       \n",
    "                #end\n",
    "                yellowflags.append(lap)        \n",
    "        lastflag = row[colid['track_status']]\n",
    "\n",
    "    #pit lap\n",
    "    pits = np.array(pits)\n",
    "    #start, end lap\n",
    "    #\n",
    "    yellowflags = np.array(yellowflags)\n",
    "    if (yellowflags.shape[0] % 2)==1:\n",
    "        print('crash?:carno=', curcarno)\n",
    "        yellowflags = []\n",
    "    else:\n",
    "        yellowflags = np.array(yellowflags).reshape((-1,2))    \n",
    "    \n",
    "    return car, x, y, pits, yellowflags"
   ]
  },
  {
   "cell_type": "markdown",
   "metadata": {},
   "source": [
    "### bulid the dataset"
   ]
  },
  {
   "cell_type": "code",
   "execution_count": 7,
   "metadata": {},
   "outputs": [],
   "source": [
    "def get_stagedata(TRIM=2):\n",
    "    \"\"\"\n",
    "    input: acldata, rankdata, the whole dataset\n",
    "    output: stagedata['car_number','stage','start_lap','end_lap','start_rank','end_rank','yellowflag_raised']\n",
    "    \"\"\"\n",
    "    carlist = set(acldata['car_number'])\n",
    "    data = []\n",
    "    for curcarno in carlist:\n",
    "        car = acldata[acldata['car_number']==curcarno]\n",
    "        #print(car['time_diff'].describe())\n",
    "\n",
    "        cols=['completed_laps','rank','car_number','lap_status','track_status',\n",
    "        'pit_stop_count','current_status','start_position']\n",
    "        colid={key:idx for idx, key in enumerate(cols)}\n",
    "\n",
    "        cardata = rankdata[rankdata['car_number'] == curcarno]\n",
    "\n",
    "        carstatus = [[row[0], row[1],row[2],row[3],row[4],row[5],row[6],row[7]] for row in cardata[\n",
    "            ['completed_laps','rank','car_number','lap_status','track_status',\n",
    "            'pit_stop_count','current_status','start_position']].values]\n",
    "\n",
    "        pits=[]\n",
    "        yellowflags=[]\n",
    "        lastflag = 'x'\n",
    "        \n",
    "        stage = 0\n",
    "        start_lap = 0\n",
    "        pit_lap = -1\n",
    "        pit_in_caution = 0\n",
    "        yellowflag_raised = 0\n",
    "        for row in carstatus:\n",
    "            lap = int(row[colid['completed_laps']])\n",
    "            \n",
    "            if lap==0:\n",
    "                #hex2int\n",
    "                start_rank = int(row[colid['start_position']], 16)     \n",
    "            \n",
    "            if row[colid['track_status']]=='Y':\n",
    "                yellowflag_raised = 1\n",
    "                if lastflag != 'Y':       \n",
    "                    #start\n",
    "                    yellowflags.append(lap)\n",
    "            else:\n",
    "                if lastflag == 'Y':       \n",
    "                    #end\n",
    "                    yellowflags.append(lap)        \n",
    "            lastflag = row[colid['track_status']]\n",
    "            \n",
    "            if row[colid['lap_status']]=='P' and row[colid['current_status']]=='Active':\n",
    "                pits.append(lap)\n",
    "                end_lap = lap - TRIM\n",
    "                end_rank = carstatus[end_lap][colid['rank']]\n",
    "                \n",
    "                #pit_lap = lap  #current is pit lap\n",
    "                \n",
    "                #redefine pit_lap as the previous caution_lap\n",
    "                #pit_lap = yellowflags[-1]\n",
    "                #pit_in_caution = 1 if row[colid['track_status']]=='Y' else 0\n",
    "                if row[colid['track_status']]=='Y':\n",
    "                    pit_lap = yellowflags[-1]\n",
    "                    pit_in_caution = 1\n",
    "                else:\n",
    "                    pit_lap = lap\n",
    "                    pit_in_caution = 0\n",
    "                \n",
    "                #add one record\n",
    "                #stagedata['car_number','stage','start_lap','end_lap','start_rank','end_rank','yellowflag_raised']\n",
    "                data.append([curcarno,stage,start_lap, end_lap, pit_lap, pit_in_caution, \n",
    "                             start_rank, end_rank,yellowflag_raised])\n",
    "                # prepare for the next\n",
    "                stage += 1\n",
    "                start_lap = end_lap  # end_lap + 1?\n",
    "                start_rank = end_rank\n",
    "                yellowflag_raised = 1 if lastflag=='Y' else 0\n",
    "\n",
    "        #final\n",
    "        end_lap = carstatus[-1][colid['completed_laps']]\n",
    "        end_rank = carstatus[-1][colid['rank']]\n",
    "        #add one record\n",
    "        #stagedata['car_number','stage','start_lap','end_lap',pit_lap, pit_in_caution,'start_rank','end_rank']\n",
    "        #data.append([curcarno,stage,start_lap, end_lap, pit_lap, pit_in_caution, start_rank, end_rank])\n",
    "        \n",
    "        #pit lap\n",
    "        pits = np.array(pits)\n",
    "        #start, end lap\n",
    "        #\n",
    "        yellowflags = np.array(yellowflags)\n",
    "        if (yellowflags.shape[0] % 2)==1:\n",
    "            print('crash?:carno=', curcarno)\n",
    "            yellowflags = []\n",
    "        else:\n",
    "            yellowflags = np.array(yellowflags).reshape((-1,2))  \n",
    "            \n",
    "    data = np.array(data)\n",
    "    #['car_number','stage','start_lap','end_lap',pit_lap, pit_in_caution,'start_rank','end_rank']\n",
    "    df = pd.DataFrame({'car_number': data[:, 0], 'stage': data[:, 1],'start_lap': data[:, 2],\n",
    "                      'end_lap': data[:, 3], 'pit_lap': data[:, 4], 'pit_in_caution': data[:, 5],\n",
    "                       'start_rank': data[:, 6],'end_rank': data[:, 7],'yellowflag_raised':data[:,8]})\n",
    "    return df, data"
   ]
  },
  {
   "cell_type": "markdown",
   "metadata": {},
   "source": [
    "### events"
   ]
  },
  {
   "cell_type": "code",
   "execution_count": 8,
   "metadata": {},
   "outputs": [],
   "source": [
    "def extract_stint_features(stagedata):\n",
    "    \"\"\"\n",
    "    input: (alldata, rankdata, acldata, flagdata, stage, data)\n",
    "    \n",
    "    lap_distance    ; lap distance for this stint\n",
    "    start_lap\n",
    "    caution_distance\n",
    "    \n",
    "    eventid\n",
    "    car_number\n",
    "    stageid\n",
    "    \n",
    "    pit_in_caution; 1/0\n",
    "    yellowflag_raised ; 1/0\n",
    "    \n",
    "    start_position  ; #\n",
    "    start_rank  ;  #rank\n",
    "    end_rank\n",
    "    \"\"\"\n",
    "    #eventid = 0\n",
    "    cols=['lap_distance','start_lap','caution_distance',\n",
    "             'eventid','car_number','stageid',\n",
    "             'pit_in_caution', 'yellowflag_raised',\n",
    "             'start_position', 'start_rank', 'end_rank']\n",
    "    colid={key:idx for idx, key in enumerate(cols)}\n",
    "    \n",
    "    datacols = ['car_number','stage','start_lap','end_lap','pit_lap', \n",
    "                'pit_in_caution', 'start_rank','end_rank','yellowflag_raised']\n",
    "    datacolid={key:idx for idx, key in enumerate(datacols)}\n",
    "    \n",
    "    #maintain a <car,lap, (rank, stage)> index \n",
    "    idxcols = ['car_number','completed_laps','rank','stageid']\n",
    "    carindex = {}\n",
    "    \n",
    "    stagedf = pd.DataFrame([],columns=cols)\n",
    "    for event in stagedata.keys():\n",
    "        \n",
    "        eventid = events_id[event]\n",
    "        \n",
    "        alldata, rankdata, acldata, flagdata, stage, data = stagedata[event]\n",
    "        carlist = set(acldata['car_number'])\n",
    "        laplist = set(acldata['completed_laps'])\n",
    "        totalcars = len(carlist)\n",
    "        totallaps = len(laplist)\n",
    "\n",
    "        # init the index\n",
    "        #carindex[eventid] = np.array((totalcars, totallaps, 2))\n",
    "        carindex[eventid] = pd.DataFrame([],columns=idxcols)\n",
    "        \n",
    "        records = []\n",
    "        \n",
    "        laphist = []\n",
    "        rankhist = []\n",
    "        rankchghist = []        \n",
    "        #['car_number','stage','start_lap','end_lap',pit_lap, pit_in_caution, 'start_rank','end_rank']\n",
    "        for row in data:\n",
    "            # a new record\n",
    "            rec={}\n",
    "            #status, 'start_lap', start a new car\n",
    "            if row[datacolid['start_lap']] == 0:\n",
    "                start_position = row[datacolid['start_rank']]\n",
    "                laphist = []\n",
    "                rankhist = []\n",
    "                rankchghist = []\n",
    "            \n",
    "            #target \n",
    "            rec['lap_distance'] = row[datacolid['end_lap']] - row[datacolid['start_lap']] + 1\n",
    "            rec['start_lap'] = row[datacolid['start_lap']]\n",
    "            rec['caution_distance'] = row[datacolid['end_lap']] - row[datacolid['pit_lap']] + 1\n",
    "            \n",
    "            #features\n",
    "            rec['eventid'] = eventid\n",
    "            rec['car_number'] = row[datacolid['car_number']]\n",
    "            rec['stageid'] = row[datacolid['stage']]\n",
    "            \n",
    "            rec['pit_in_caution'] = row[datacolid['pit_in_caution']]\n",
    "            rec['yellowflag_raised'] = row[datacolid['yellowflag_raised']]\n",
    "            \n",
    "            rec['start_position'] = start_position\n",
    "            rec['start_rank'] = row[datacolid['start_rank']]\n",
    "            rec['end_rank'] = row[datacolid['end_rank']]\n",
    "            \n",
    "            \n",
    "            #add one record\n",
    "            records.append([rec[col] for col in cols])\n",
    "            \n",
    "            #update for the new stage\n",
    "            lapdata = rankdata[(rankdata['car_number']== rec['car_number']) & \n",
    "                               (rankdata['completed_laps']>=row[datacolid['start_lap']]) &\n",
    "                               (rankdata['completed_laps']<row[datacolid['end_lap']])\n",
    "                              ]\n",
    "            laphist.append(lapdata)\n",
    "            rankhist.extend(list(lapdata['rank']))\n",
    "            rankchghist.append(row[datacolid['end_rank']] - row[datacolid['start_rank']])\n",
    "            \n",
    "            # add to index, go through the lapdata\n",
    "            #or _lap in range(row[datacolid['start_lap']],row[datacolid['end_lap']]):\n",
    "            for index, row in lapdata.iterrows():\n",
    "                #carindex[eventid][rec['car_number'], row['completed_laps'], 0] = row['rank']\n",
    "                #carindex[eventid][rec['car_number'], row['completed_laps'], 1 = rec['stageid']\n",
    "                laprec = [rec['car_number'], row['completed_laps'], row['rank'],rec['stageid']]\n",
    "                df = pd.DataFrame([laprec],columns=idxcols)\n",
    "                carindex[eventid] = pd.concat([carindex[eventid], df], ignore_index=True)\n",
    "            \n",
    "          \n",
    "        # push this event into stage dataframe\n",
    "        print('event=%s, records=%d'%(event, len(records)))\n",
    "        df = pd.DataFrame(records,columns=cols)\n",
    "        stagedf = pd.concat([stagedf, df], ignore_index=True)\n",
    "        \n",
    "        #for the next new event\n",
    "        #eventid += 1\n",
    "        \n",
    "    return stagedf, carindex\n",
    "\n"
   ]
  },
  {
   "cell_type": "code",
   "execution_count": 17,
   "metadata": {},
   "outputs": [],
   "source": [
    "def extract_yellowflag_features(stagedata):\n",
    "    \"\"\"\n",
    "    input: (alldata, rankdata, acldata, flagdata, stage, data)\n",
    "\n",
    "    eventid\n",
    "    yellowflagid\n",
    "    start_lap\n",
    "    end_lap\n",
    "    \"\"\"\n",
    "    #eventid = 0\n",
    "    cols=['eventid','yellowflagid','start_lap','end_lap']\n",
    "    colid={key:idx for idx, key in enumerate(cols)}\n",
    "    \n",
    "    datacols = ['completed_laps','track_status']\n",
    "    datacolid={key:idx for idx, key in enumerate(datacols)}\n",
    "    \n",
    "    stagedf = pd.DataFrame([],columns=cols)\n",
    "    for event in stagedata.keys():\n",
    "        \n",
    "        eventid = events_id[event]\n",
    "        \n",
    "        alldata, rankdata, acldata, flagdata, stage, data = stagedata[event]\n",
    "        carlist = set(acldata['car_number'])\n",
    "        laplist = set(acldata['completed_laps'])\n",
    "        totalcars = len(carlist)\n",
    "        totallaps = len(laplist)\n",
    "\n",
    "        records = []\n",
    "        \n",
    "        data = flagdata.values\n",
    "        yellowflagid = 0\n",
    "        start_lap = -1\n",
    "        end_lap = -1\n",
    "        for row in data:\n",
    "            # a new record\n",
    "            rec={}\n",
    "            \n",
    "            if row[datacolid['completed_laps']] == 0:\n",
    "                continue\n",
    "                \n",
    "            if row[datacolid['track_status']] == 'Y':\n",
    "                if start_lap == -1:\n",
    "                    start_lap = row[datacolid['completed_laps']]\n",
    "                end_lap = row[datacolid['completed_laps']]\n",
    "            else:\n",
    "                if start_lap != -1:\n",
    "                    #add new record\n",
    "                    rec['eventid'] = eventid\n",
    "                    rec['yellowflagid'] = yellowflagid\n",
    "                    rec['start_lap'] = start_lap\n",
    "                    rec['end_lap'] = end_lap\n",
    "            \n",
    "                    records.append([rec[col] for col in cols])\n",
    "                    start_lap  = -1\n",
    "                    end_lap = -1\n",
    "                    yellowflagid += 1\n",
    "            \n",
    "        # check the final status\n",
    "        if start_lap != -1:\n",
    "            #add new record\n",
    "            rec['eventid'] = eventid\n",
    "            rec['yellowflagid'] = yellowflagid\n",
    "            rec['start_lap'] = start_lap\n",
    "            rec['end_lap'] = end_lap\n",
    "\n",
    "            records.append([rec[col] for col in cols])\n",
    "            \n",
    "        # push this event into stage dataframe\n",
    "        print('event=%s, records=%d'%(event, len(records)))\n",
    "        df = pd.DataFrame(records,columns=cols)\n",
    "        stagedf = pd.concat([stagedf, df], ignore_index=True)\n",
    "        \n",
    "    return stagedf"
   ]
  },
  {
   "cell_type": "markdown",
   "metadata": {},
   "source": [
    "### load data"
   ]
  },
  {
   "cell_type": "code",
   "execution_count": 13,
   "metadata": {},
   "outputs": [
    {
     "name": "stdout",
     "output_type": "stream",
     "text": [
      "count of completed cars: 11\n",
      "completed cars: [ 1  6 27  9 28  5 20 14 15 22 30]\n",
      "cars: {1, 5, 6, 9, 14, 15, 20, 22, 27, 28, 30}\n",
      "#cars= 11\n",
      "count of completed cars: 11\n",
      "completed cars: [ 1  6 27  9 28  5 20 14 15 22 30]\n",
      "cars: {1, 4, 5, 6, 9, 10, 12, 14, 15, 18, 19, 20, 21, 22, 23, 26, 27, 28, 30, 32, 59, 88, 98}\n",
      "#cars= 23\n",
      "Phoenix: carno=23, lapnum=251\n",
      "crash?:carno= 10\n",
      "crash?:carno= 19\n",
      "count of completed cars: 18\n",
      "completed cars: [12 20  9 27 28 22 29  1  6 15 66 98  4 88 25 60 64 23]\n"
     ]
    },
    {
     "name": "stderr",
     "output_type": "stream",
     "text": [
      "/scratch/hpda/anaconda3/envs/gluonts/lib/python3.6/site-packages/ipykernel_launcher.py:22: SettingWithCopyWarning: \n",
      "A value is trying to be set on a copy of a slice from a DataFrame\n",
      "\n",
      "See the caveats in the documentation: http://pandas.pydata.org/pandas-docs/stable/user_guide/indexing.html#returning-a-view-versus-a-copy\n",
      "/scratch/hpda/anaconda3/envs/gluonts/lib/python3.6/site-packages/ipykernel_launcher.py:26: SettingWithCopyWarning: \n",
      "A value is trying to be set on a copy of a slice from a DataFrame\n",
      "\n",
      "See the caveats in the documentation: http://pandas.pydata.org/pandas-docs/stable/user_guide/indexing.html#returning-a-view-versus-a-copy\n"
     ]
    },
    {
     "name": "stdout",
     "output_type": "stream",
     "text": [
      "cars: {64, 1, 66, 98, 4, 6, 9, 12, 60, 15, 20, 22, 23, 88, 25, 27, 28, 29}\n",
      "#cars= 18\n",
      "count of completed cars: 18\n",
      "completed cars: [12 20  9 27 28 22 29  1  6 15 66 98  4 88 25 60 64 23]\n",
      "cars: {1, 3, 4, 6, 7, 9, 10, 12, 13, 14, 15, 17, 18, 19, 20, 21, 22, 23, 24, 25, 26, 27, 28, 29, 30, 32, 33, 59, 60, 64, 66, 88, 98}\n",
      "#cars= 33\n",
      "Indy500: carno=33, lapnum=201\n",
      "crash?:carno= 3\n",
      "crash?:carno= 24\n",
      "crash?:carno= 33\n",
      "count of completed cars: 9\n",
      "completed cars: [ 9 22 27  5 28 15 30 18 10]\n",
      "cars: {5, 9, 10, 15, 18, 22, 27, 28, 30}\n",
      "#cars= 9\n",
      "count of completed cars: 9\n",
      "completed cars: [ 9 22 27  5 28 15 30 18 10]\n",
      "cars: {1, 3, 4, 5, 6, 7, 9, 10, 12, 14, 15, 18, 19, 20, 21, 22, 23, 25, 26, 27, 28, 30, 47, 55, 57, 59, 60, 68, 73, 83, 88, 98}\n",
      "#cars= 32\n",
      "Texas: carno=32, lapnum=249\n",
      "crash?:carno= 12\n",
      "crash?:carno= 19\n",
      "count of completed cars: 5\n",
      "completed cars: [ 5 21 30  1  6]\n",
      "cars: {1, 5, 6, 21, 30}\n",
      "#cars= 5\n",
      "count of completed cars: 5\n",
      "completed cars: [ 5 21 30  1  6]\n",
      "cars: {1, 4, 5, 6, 9, 10, 12, 14, 15, 18, 19, 20, 21, 22, 23, 26, 27, 28, 30, 59, 88, 98}\n",
      "#cars= 22\n",
      "Iowa: carno=22, lapnum=301\n",
      "crash?:carno= 28\n",
      "count of completed cars: 4\n",
      "completed cars: [27 12  9 18]\n",
      "cars: {9, 18, 27, 12}\n",
      "#cars= 4\n",
      "count of completed cars: 4\n",
      "completed cars: [27 12  9 18]\n",
      "cars: {1, 4, 5, 6, 9, 10, 12, 14, 15, 18, 19, 20, 21, 22, 23, 26, 27, 28, 30, 59, 88, 98}\n",
      "#cars= 22\n",
      "Pocono: carno=22, lapnum=201\n",
      "count of completed cars: 8\n",
      "completed cars: [12 27  9 22 26 21  1 10]\n",
      "cars: {1, 9, 10, 12, 21, 22, 26, 27}\n",
      "#cars= 8\n",
      "count of completed cars: 8\n",
      "completed cars: [12 27  9 22 26 21  1 10]\n",
      "cars: {1, 4, 5, 9, 10, 12, 14, 15, 18, 19, 20, 21, 22, 23, 26, 27, 28, 30, 59, 88, 98}\n",
      "#cars= 21\n",
      "Gateway: carno=21, lapnum=249\n",
      "crash?:carno= 28\n"
     ]
    }
   ],
   "source": [
    "stagedata = {}\n",
    "traindata = None\n",
    "for event in events:\n",
    "    #alldata, rankdata, acldata, flagdata\n",
    "    stagedata[event] = load_data(event, year)\n",
    "    \n",
    "    alldata, rankdata, acldata, flagdata = stagedata[event]\n",
    "    carlist = set(acldata['car_number'])\n",
    "    laplist = set(acldata['completed_laps'])\n",
    "    print('%s: carno=%d, lapnum=%d'%(event, len(carlist), len(laplist)))\n",
    "    \n",
    "    stage, data = get_stagedata(0)\n",
    "    stagedata[event] = (alldata, rankdata, acldata, flagdata, stage, data)\n",
    "    \n",
    "    if traindata is None:\n",
    "        traindata = data\n",
    "    else:\n",
    "        traindata = np.vstack((traindata, data))"
   ]
  },
  {
   "cell_type": "code",
   "execution_count": 16,
   "metadata": {},
   "outputs": [
    {
     "data": {
      "text/plain": [
       "(201, 2)"
      ]
     },
     "execution_count": 16,
     "metadata": {},
     "output_type": "execute_result"
    }
   ],
   "source": [
    "stagedata['Indy500'][3].values.shape"
   ]
  },
  {
   "cell_type": "code",
   "execution_count": 18,
   "metadata": {},
   "outputs": [
    {
     "name": "stdout",
     "output_type": "stream",
     "text": [
      "event=Phoenix, records=2\n",
      "event=Indy500, records=7\n",
      "event=Texas, records=3\n",
      "event=Iowa, records=2\n",
      "event=Pocono, records=2\n",
      "event=Gateway, records=2\n"
     ]
    }
   ],
   "source": [
    "yflagdf = extract_yellowflag_features(stagedata)"
   ]
  },
  {
   "cell_type": "code",
   "execution_count": 19,
   "metadata": {},
   "outputs": [],
   "source": [
    "yflagdf.to_csv('yellowflag-v0-%s.csv'%year)"
   ]
  },
  {
   "cell_type": "code",
   "execution_count": 20,
   "metadata": {},
   "outputs": [
    {
     "name": "stdout",
     "output_type": "stream",
     "text": [
      "<class 'pandas.core.frame.DataFrame'>\n",
      "RangeIndex: 18 entries, 0 to 17\n",
      "Data columns (total 4 columns):\n",
      "eventid         18 non-null object\n",
      "yellowflagid    18 non-null object\n",
      "start_lap       18 non-null object\n",
      "end_lap         18 non-null object\n",
      "dtypes: object(4)\n",
      "memory usage: 704.0+ bytes\n"
     ]
    }
   ],
   "source": [
    "yflagdf.info(verbose=True)"
   ]
  },
  {
   "cell_type": "code",
   "execution_count": 21,
   "metadata": {},
   "outputs": [
    {
     "data": {
      "text/html": [
       "<div>\n",
       "<style scoped>\n",
       "    .dataframe tbody tr th:only-of-type {\n",
       "        vertical-align: middle;\n",
       "    }\n",
       "\n",
       "    .dataframe tbody tr th {\n",
       "        vertical-align: top;\n",
       "    }\n",
       "\n",
       "    .dataframe thead th {\n",
       "        text-align: right;\n",
       "    }\n",
       "</style>\n",
       "<table border=\"1\" class=\"dataframe\">\n",
       "  <thead>\n",
       "    <tr style=\"text-align: right;\">\n",
       "      <th></th>\n",
       "      <th>eventid</th>\n",
       "      <th>yellowflagid</th>\n",
       "      <th>start_lap</th>\n",
       "      <th>end_lap</th>\n",
       "    </tr>\n",
       "  </thead>\n",
       "  <tbody>\n",
       "    <tr>\n",
       "      <th>0</th>\n",
       "      <td>0</td>\n",
       "      <td>0</td>\n",
       "      <td>41</td>\n",
       "      <td>49</td>\n",
       "    </tr>\n",
       "    <tr>\n",
       "      <th>1</th>\n",
       "      <td>0</td>\n",
       "      <td>0</td>\n",
       "      <td>229</td>\n",
       "      <td>242</td>\n",
       "    </tr>\n",
       "    <tr>\n",
       "      <th>2</th>\n",
       "      <td>1</td>\n",
       "      <td>0</td>\n",
       "      <td>48</td>\n",
       "      <td>54</td>\n",
       "    </tr>\n",
       "    <tr>\n",
       "      <th>3</th>\n",
       "      <td>1</td>\n",
       "      <td>0</td>\n",
       "      <td>58</td>\n",
       "      <td>62</td>\n",
       "    </tr>\n",
       "    <tr>\n",
       "      <th>4</th>\n",
       "      <td>1</td>\n",
       "      <td>0</td>\n",
       "      <td>68</td>\n",
       "      <td>72</td>\n",
       "    </tr>\n",
       "    <tr>\n",
       "      <th>5</th>\n",
       "      <td>1</td>\n",
       "      <td>0</td>\n",
       "      <td>139</td>\n",
       "      <td>144</td>\n",
       "    </tr>\n",
       "    <tr>\n",
       "      <th>6</th>\n",
       "      <td>1</td>\n",
       "      <td>0</td>\n",
       "      <td>146</td>\n",
       "      <td>152</td>\n",
       "    </tr>\n",
       "    <tr>\n",
       "      <th>7</th>\n",
       "      <td>1</td>\n",
       "      <td>0</td>\n",
       "      <td>154</td>\n",
       "      <td>160</td>\n",
       "    </tr>\n",
       "    <tr>\n",
       "      <th>8</th>\n",
       "      <td>1</td>\n",
       "      <td>0</td>\n",
       "      <td>188</td>\n",
       "      <td>192</td>\n",
       "    </tr>\n",
       "    <tr>\n",
       "      <th>9</th>\n",
       "      <td>2</td>\n",
       "      <td>0</td>\n",
       "      <td>7</td>\n",
       "      <td>13</td>\n",
       "    </tr>\n",
       "  </tbody>\n",
       "</table>\n",
       "</div>"
      ],
      "text/plain": [
       "  eventid yellowflagid start_lap end_lap\n",
       "0       0            0        41      49\n",
       "1       0            0       229     242\n",
       "2       1            0        48      54\n",
       "3       1            0        58      62\n",
       "4       1            0        68      72\n",
       "5       1            0       139     144\n",
       "6       1            0       146     152\n",
       "7       1            0       154     160\n",
       "8       1            0       188     192\n",
       "9       2            0         7      13"
      ]
     },
     "execution_count": 21,
     "metadata": {},
     "output_type": "execute_result"
    }
   ],
   "source": [
    "yflagdf.head(10)"
   ]
  },
  {
   "cell_type": "markdown",
   "metadata": {},
   "source": [
    "### pitstop analysis"
   ]
  },
  {
   "cell_type": "code",
   "execution_count": 35,
   "metadata": {},
   "outputs": [],
   "source": [
    "def get_distance_data(data, event=[]):\n",
    "    \"\"\"\n",
    "    data ; yflagdf\n",
    "    events_laplen = [1.022,2.5,1.5,0.894,2.5,1.25]\n",
    "    \n",
    "    return:\n",
    "    normal_stint   ; stint without yellow flags\n",
    "    \"\"\"\n",
    "    if event:\n",
    "        eventid = [events_id[x] for x in event]\n",
    "        data = data[data['eventid'].isin(eventid)]\n",
    "        \n",
    "    yf_laps = data[['eventid','start_lap','end_lap']].to_numpy()\n",
    "    ret_laplen = [events_laplen[x[0]]*(x[2] - x[1]) for x in yf_laps]\n",
    "    ret_lap =  [(x[2] - x[1]) for x in yf_laps]\n",
    "    \n",
    "    \n",
    "    return ret_laplen, ret_lap\n"
   ]
  },
  {
   "cell_type": "code",
   "execution_count": 36,
   "metadata": {},
   "outputs": [
    {
     "data": {
      "text/plain": [
       "<matplotlib.legend.Legend at 0x7f1f2027de80>"
      ]
     },
     "execution_count": 36,
     "metadata": {},
     "output_type": "execute_result"
    },
    {
     "data": {
      "image/png": "[encoded data removed]",
      "text/plain": [
       "<Figure size 432x288 with 1 Axes>"
      ]
     },
     "metadata": {
      "needs_background": "light"
     },
     "output_type": "display_data"
    }
   ],
   "source": [
    "# car 12, will power\n",
    "yflen, yflaps = get_distance_data(yflagdf,['Indy500'])\n",
    "plt.hist(yflen,label='normal')\n",
    "plt.xlabel('Distance(miles)')\n",
    "plt.ylabel('Frequence')\n",
    "plt.title('YellowLaps Length Distribution: Indy500')\n",
    "plt.legend(prop={'size': 10})"
   ]
  },
  {
   "cell_type": "code",
   "execution_count": 41,
   "metadata": {},
   "outputs": [
    {
     "data": {
      "text/plain": [
       "<matplotlib.legend.Legend at 0x7f1f20139f28>"
      ]
     },
     "execution_count": 41,
     "metadata": {},
     "output_type": "execute_result"
    },
    {
     "data": {
      "image/png": "[encoded data removed]",
      "text/plain": [
       "<Figure size 432x288 with 1 Axes>"
      ]
     },
     "metadata": {
      "needs_background": "light"
     },
     "output_type": "display_data"
    }
   ],
   "source": [
    "#get all data\n",
    "yflen2, yflaps2 = get_distance_data(yflagdf)\n",
    "plt.hist(yflen2,label='normal')\n",
    "plt.xlabel('Distance(miles)')\n",
    "plt.ylabel('Frequence')\n",
    "plt.title('YellowLaps Length Distribution: all races')\n",
    "plt.legend(prop={'size': 10})"
   ]
  },
  {
   "cell_type": "code",
   "execution_count": 38,
   "metadata": {},
   "outputs": [
    {
     "data": {
      "text/plain": [
       "[8.176,\n",
       " 13.286,\n",
       " 15.0,\n",
       " 10.0,\n",
       " 10.0,\n",
       " 12.5,\n",
       " 15.0,\n",
       " 15.0,\n",
       " 10.0,\n",
       " 9.0,\n",
       " 16.5,\n",
       " 13.5,\n",
       " 8.94,\n",
       " 4.47,\n",
       " 10.0,\n",
       " 10.0,\n",
       " 6.25,\n",
       " 11.25]"
      ]
     },
     "execution_count": 38,
     "metadata": {},
     "output_type": "execute_result"
    }
   ],
   "source": [
    "list(yflen2)"
   ]
  },
  {
   "cell_type": "code",
   "execution_count": 40,
   "metadata": {},
   "outputs": [
    {
     "data": {
      "text/plain": [
       "[8, 13, 6, 4, 4, 5, 6, 6, 4, 6, 11, 9, 10, 5, 4, 4, 5, 9]"
      ]
     },
     "execution_count": 40,
     "metadata": {},
     "output_type": "execute_result"
    }
   ],
   "source": [
    "list(yflaps2)"
   ]
  },
  {
   "cell_type": "markdown",
   "metadata": {},
   "source": [
    "### normalized comparison"
   ]
  },
  {
   "cell_type": "code",
   "execution_count": 51,
   "metadata": {},
   "outputs": [
    {
     "data": {
      "text/plain": [
       "<matplotlib.legend.Legend at 0x7f1f1fd518d0>"
      ]
     },
     "execution_count": 51,
     "metadata": {},
     "output_type": "execute_result"
    },
    {
     "data": {
      "image/png": "[encoded data removed]",
      "text/plain": [
       "<Figure size 432x288 with 1 Axes>"
      ]
     },
     "metadata": {
      "needs_background": "light"
     },
     "output_type": "display_data"
    }
   ],
   "source": [
    "#normalize the comparison\n",
    "import math\n",
    "bins = range(math.floor(min(yflen2)),math.ceil(max(yflen2)))\n",
    "yflen2, yflaps2 = get_distance_data(yflagdf,['Indy500']) \n",
    "n, bins, patches = plt.hist(yflen2,bins=bins, label='Indy500', density=True,histtype='stepfilled')\n",
    "\n",
    "other_events=set(events).difference(set(['Indy500']))\n",
    "yflen2, yflaps2 = get_distance_data(yflagdf,other_events)  \n",
    "n2, bins2, patches2 = plt.hist(yflen2,bins=bins,label='others', alpha=0.7,density=True,histtype='stepfilled')\n",
    "plt.xlabel('Distance(miles)')\n",
    "plt.ylabel('Frequence')\n",
    "plt.title('YellowLaps Length Distribution Comparison')\n",
    "plt.legend(prop={'size': 10},loc=\"upper left\")"
   ]
  },
  {
   "cell_type": "markdown",
   "metadata": {},
   "source": [
    "### conclusion\n",
    "\n"
   ]
  },
  {
   "cell_type": "code",
   "execution_count": null,
   "metadata": {},
   "outputs": [],
   "source": []
  }
 ],
 "metadata": {
  "kernelspec": {
   "display_name": "Python 3",
   "language": "python",
   "name": "python3"
  },
  "language_info": {
   "codemirror_mode": {
    "name": "ipython",
    "version": 3
   },
   "file_extension": ".py",
   "mimetype": "text/x-python",
   "name": "python",
   "nbconvert_exporter": "python",
   "pygments_lexer": "ipython3",
   "version": "3.6.10"
  }
 },
 "nbformat": 4,
 "nbformat_minor": 2
}
