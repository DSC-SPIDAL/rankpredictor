{
 "cells": [
  {
   "cell_type": "markdown",
   "metadata": {},
   "source": [
    "### RankForecasting-shortterm-paper-joint\n",
    "basedon :stint-test-strategy-shortterm\n",
    "    \n",
    "+ comparing models: naive, deepar, oracle, pitmodel"
   ]
  },
  {
   "cell_type": "code",
   "execution_count": 1,
   "metadata": {},
   "outputs": [
    {
     "name": "stderr",
     "output_type": "stream",
     "text": [
      "INFO:root:Using GPU\n",
      "INFO:root:Using GPU\n",
      "INFO:root:Using GPU\n",
      "INFO:root:Using GPU\n",
      "INFO:root:Using GPU\n"
     ]
    }
   ],
   "source": [
    "%load_ext autoreload\n",
    "%autoreload 2\n",
    "\n",
    "%matplotlib inline\n",
    "import pandas as pd\n",
    "import numpy as np\n",
    "import matplotlib.pyplot as plt\n",
    "import os,sys\n",
    "import mxnet as mx\n",
    "from mxnet import gluon\n",
    "import pickle\n",
    "import json\n",
    "import random\n",
    "import inspect\n",
    "from scipy import stats\n",
    "from sklearn.metrics import mean_squared_error\n",
    "from gluonts.dataset.common import ListDataset\n",
    "from gluonts.dataset.util import to_pandas\n",
    "from pathlib import Path\n",
    "from gluonts.model.deepar import DeepAREstimator\n",
    "from gluonts.model.deep_factor import DeepFactorEstimator\n",
    "from gluonts.model.deepstate import DeepStateEstimator\n",
    "from gluonts.trainer import Trainer\n",
    "from gluonts.model.simple_feedforward import SimpleFeedForwardEstimator\n",
    "from gluonts.evaluation.backtest import make_evaluation_predictions\n",
    "from gluonts.evaluation import Evaluator, MultivariateEvaluator\n",
    "from gluonts.distribution.multivariate_gaussian import MultivariateGaussianOutput\n",
    "from gluonts.model.predictor import Predictor\n",
    "from gluonts.model.prophet import ProphetPredictor\n",
    "from gluonts.model.r_forecast import RForecastPredictor\n",
    "from indycar.model.NaivePredictor import NaivePredictor\n",
    "from indycar.model.ZeroPredictor import ZeroPredictor\n",
    "from pandas.plotting import register_matplotlib_converters\n",
    "from gluonts.model.forecast import SampleForecast\n",
    "register_matplotlib_converters()\n",
    "\n",
    "#from indycar.model.stint_predictor_fastrun import *\n",
    "import indycar.model.stint_simulator_shortterm_pitmodel_joint as stint"
   ]
  },
  {
   "cell_type": "code",
   "execution_count": 2,
   "metadata": {},
   "outputs": [],
   "source": [
    "def simulation(datasetid, testevent, taskid, runts, expid, predictionlen, \n",
    "               datamode, loopcnt, featuremode = stint.FEATURE_STATUS,\n",
    "              pitmodel = 0, model = 'oracle', inlapmode=0):\n",
    "    #\n",
    "    # configurataion\n",
    "    #\n",
    "    # model path:  <_dataset_id>/<_task_id>-<trainid>/\n",
    "    #_dataset_id = 'indy2013-2018-nocarid'\n",
    "    \n",
    "    stint._inlap_status = inlapmode\n",
    "    \n",
    "    stint.init(pitmodel)\n",
    "    stint._dataset_id = datasetid\n",
    "    stint._test_event = testevent\n",
    "    #_test_event = 'Indy500-2019'\n",
    "\n",
    "    stint._feature_mode = featuremode\n",
    "    stint._context_ratio = 0.\n",
    "\n",
    "    stint._task_id = taskid  # rank,laptime, the trained model's task\n",
    "    stint._run_ts = runts   #COL_LAPTIME,COL_RANK\n",
    "    stint._exp_id=expid  #rank, laptime, laptim2rank, timediff2rank... \n",
    "\n",
    "    stint._train_len = 40\n",
    "    #stint._debug_carlist = [12]\n",
    "    print(f'Start simulation: datasetid={datasetid},test_event={testevent},feature_mode={featuremode},task_id={taskid},run_ts={runts}')\n",
    "    \n",
    "    \n",
    "    predictor = stint.load_model(predictionlen, model,trainid='2018')\n",
    "\n",
    "    ret2 = {}\n",
    "    for i in range(loopcnt):\n",
    "        #df, full_samples, full_tss\n",
    "        ret2[i] = stint.run_simulation_shortterm(predictor, predictionlen, stint.freq, datamode=datamode)\n",
    "\n",
    "    acc = []\n",
    "    for i in ret2.keys():\n",
    "        df = ret2[i][0]\n",
    "        _x = stint.get_evalret_shortterm(df)\n",
    "        acc.append(_x)\n",
    "\n",
    "    b = np.array(acc)\n",
    "    print(np.mean(b, axis=0))\n",
    "    \n",
    "    #save keys\n",
    "    #stint._pitmodel.save_keys('pitmodel-keys.pickle')\n",
    "    \n",
    "    return b, ret2"
   ]
  },
  {
   "cell_type": "code",
   "execution_count": 3,
   "metadata": {},
   "outputs": [],
   "source": [
    "def test_pitmodel(modelfile, testevent, runts, loopcnt=10, model='oracle', inlapmode=0,featuremode = stint.FEATURE_PITAGE):\n",
    "    #pitmodel-m60-mlp-e500-l10-10-5-student-d0.1.pickle\n",
    "    \n",
    "    #lapmode = {0:'noinlap', 1:'inlap',2:'outlap'}\n",
    "    \n",
    "    #dataset = 'indy2013-2018%s-nocarid-context40'%('' if inlapmode==0 else '-inlapstatus')\n",
    "    dataset = 'indy2013-2018-%s-%s-nocarid-context40'%(\n",
    "                #lapmode[inlapmode],\n",
    "                'jointtrain',\n",
    "                'pitage' if featuremode==stint.FEATURE_PITAGE else 'nopitage'\n",
    "                )\n",
    "    #try:\n",
    "    if True:\n",
    "        if runts == 'RANK':\n",
    "            acc, ret = simulation(dataset, testevent, \n",
    "                        'rank',stint.COL_RANK,'rank',\n",
    "                       2, stint.MODE_ORACLE_LAPONLY,loopcnt, \n",
    "                          pitmodel=modelfile, model=model, inlapmode=inlapmode,featuremode =featuremode)        \n",
    "        else:\n",
    "            acc, ret = simulation(dataset, testevent, \n",
    "                            'timediff',stint.COL_TIMEDIFF,'timediff2rank',\n",
    "                           2, stint.MODE_ORACLE_LAPONLY,loopcnt, \n",
    "                              pitmodel=modelfile, model=model, inlapmode=inlapmode,featuremode =featuremode)\n",
    "    #except:\n",
    "    #    acc, ret = [],[]\n",
    "        \n",
    "    #print(np.mean(acc, axis=0))\n",
    "    return acc, ret"
   ]
  },
  {
   "cell_type": "code",
   "execution_count": 4,
   "metadata": {},
   "outputs": [],
   "source": [
    "def plot_prob_forecasts_ex(ts_entry, forecast_entry, ts2, outputfile):\n",
    "\n",
    "    plot_length = int(forecast_entry[0].samples.shape[1] *1.2) \n",
    "    prediction_intervals = (50.0, 90.0)\n",
    "    legend = [\"observations\", \"median prediction\"] + [f\"{k}% prediction interval\" for k in prediction_intervals][::-1]\n",
    "\n",
    "    figcnt = len(ts_entry)\n",
    "    for idx in range(figcnt):\n",
    "        fig, axs = plt.subplots(1, 1, figsize=(20, 7))\n",
    "        #ts_entry[idx][-plot_length:].plot(ax=axs)  # plot the time series\n",
    "        #forecast_entry[idx].plot(prediction_intervals=prediction_intervals, color='g')\n",
    "        ts_entry[idx].iloc[-plot_length:,0].plot(ax=axs, linewidth=1)  # plot the time series\n",
    "        \n",
    "        ts2.iloc[-plot_length:,0].plot(ax=axs, linewidth=1, label='CurRank')  # plot the time series\n",
    "        \n",
    "        forecast_entry[idx].copy_dim(0).plot(prediction_intervals=prediction_intervals, color='g')\n",
    "        \n",
    "        plt.ylabel('Rank position')\n",
    "        plt.xlabel('Lap')\n",
    "        \n",
    "        laps = range(1, 200, 20)\n",
    "        \n",
    "        #axs.set_xticks(laps)\n",
    "        #axs.set_xticklabels([1+x*30 for x in range(7)])\n",
    "        #axs.set_xticklabels(laps)\n",
    "        \n",
    "        plt.grid(which=\"both\")\n",
    "        plt.legend(legend, loc=\"upper left\")\n",
    "        plt.savefig(outputfile + '-%d.pdf'%idx)\n",
    "        plt.show()"
   ]
  },
  {
   "cell_type": "code",
   "execution_count": 5,
   "metadata": {},
   "outputs": [],
   "source": [
    "def prisk(full_samples, full_tss, verbose = False):\n",
    "    carlist = full_tss.keys()\n",
    "    tss = []\n",
    "    forecasts = []\n",
    "    forecasts_mean = []\n",
    "    freq = '1min'\n",
    "    start = pd.Timestamp(\"01-01-2019\", freq=freq) \n",
    "\n",
    "    for car in carlist:\n",
    "        testcar = car\n",
    "        fc = SampleForecast(samples = full_samples[testcar][:, 12:], freq=freq, start_date=start + 12)\n",
    "\n",
    "        samples = np.mean(full_samples[testcar][:, 12:], axis =0, keepdims=True)\n",
    "        fc_mean = SampleForecast(samples = samples, freq=freq, start_date=start + 12)\n",
    "\n",
    "        index = pd.date_range(start='2019-01-01 00:00:00', freq = 'T', periods = len(full_tss[testcar]))\n",
    "        ts = pd.DataFrame(index = index, data = full_tss[testcar])    \n",
    "\n",
    "        tss.append(ts)\n",
    "        forecasts.append(fc)\n",
    "        forecasts_mean.append(fc_mean)\n",
    "\n",
    "    evaluator = Evaluator(quantiles=[0.1, 0.5, 0.9]) \n",
    "    agg_metrics, item_metrics = evaluator(iter(tss), iter(forecasts), num_series=len(tss))\n",
    "    if verbose:\n",
    "        print(json.dumps(agg_metrics, indent=4))  \n",
    "    \n",
    "    print(agg_metrics[\"wQuantileLoss[0.1]\"], agg_metrics[\"wQuantileLoss[0.5]\"],agg_metrics[\"wQuantileLoss[0.9]\"])\n",
    "    \n",
    "    return agg_metrics"
   ]
  },
  {
   "cell_type": "code",
   "execution_count": 6,
   "metadata": {},
   "outputs": [],
   "source": [
    "#quick test\n",
    "if False:\n",
    "    fmodestr = {stint.FEATURE_PITAGE:'pitage',stint.FEATURE_STATUS:'nopitage'}\n",
    "    lapstr = {0:'noinlap',1:'inlap',2:'outlap'}\n",
    "\n",
    "    fmode = stint.FEATURE_STATUS\n",
    "    lapmode = 0\n",
    "    year = '2018'\n",
    "    runts = 'RANK'\n",
    "    mid = 'oracle-%s-%s-%s-%s'%(runts, year, 'joint', fmodestr[fmode])\n",
    "    acc, ret = test_pitmodel('oracle', 'Indy500-%s'%year, runts, loopcnt=1,inlapmode=lapmode,featuremode = fmode)\n",
    "    pret = prisk(ret[0][1], ret[0][2])\n",
    "\n",
    "    #sys.exit(0)"
   ]
  },
  {
   "cell_type": "markdown",
   "metadata": {},
   "source": [
    "### test low mode"
   ]
  },
  {
   "cell_type": "code",
   "execution_count": 7,
   "metadata": {},
   "outputs": [],
   "source": [
    "acc, ret, pret = {}, {}, {}"
   ]
  },
  {
   "cell_type": "code",
   "execution_count": 8,
   "metadata": {},
   "outputs": [
    {
     "name": "stderr",
     "output_type": "stream",
     "text": [
      "/N/u/pengb/hpda/indycar/predictor/src/indycar/model/stint_simulator_shortterm_pitmodel_joint.py:199: SettingWithCopyWarning: \n",
      "A value is trying to be set on a copy of a slice from a DataFrame\n",
      "\n",
      "See the caveats in the documentation: http://pandas.pydata.org/pandas-docs/stable/user_guide/indexing.html#returning-a-view-versus-a-copy\n",
      "  uni_ds['rank_diff'][mask] = 0\n",
      "/N/u/pengb/hpda/indycar/predictor/src/indycar/model/stint_simulator_shortterm_pitmodel_joint.py:203: SettingWithCopyWarning: \n",
      "A value is trying to be set on a copy of a slice from a DataFrame\n",
      "\n",
      "See the caveats in the documentation: http://pandas.pydata.org/pandas-docs/stable/user_guide/indexing.html#returning-a-view-versus-a-copy\n",
      "  uni_ds['time_diff'][mask] = 0\n",
      "INFO:root:Using GPU\n"
     ]
    },
    {
     "name": "stdout",
     "output_type": "stream",
     "text": [
      "init: load dataset laptime_rank_timediff_pit-oracle-Indy500_2013_2019_v9_p0.pickle with 7 races, 58 cars\n",
      "Start simulation: datasetid=indy2013-2018-jointtrain-nopitage-nocarid-context40,test_event=Indy500-2018,feature_mode=2,task_id=timediff,run_ts=4\n",
      "predicting model=oracle, plen=2\n",
      "loading model...done!, ctx:gpu(0)\n"
     ]
    },
    {
     "name": "stderr",
     "output_type": "stream",
     "text": [
      "/scratch_ssd/hpda/anaconda3/envs/gluonts/lib/python3.6/site-packages/ipykernel_launcher.py:10: DeprecationWarning: elementwise comparison failed; this will raise an error in the future.\n",
      "  # Remove the CWD from sys.path while we load stuff.\n",
      "/scratch_ssd/hpda/anaconda3/envs/gluonts/lib/python3.6/site-packages/ipykernel_launcher.py:11: FutureWarning: Addition/subtraction of integers and integer-arrays to Timestamp is deprecated, will be removed in a future version.  Instead of adding/subtracting `n`, use `n * self.freq`\n",
      "  # This is added back by InteractiveShellApp.init_path()\n",
      "/scratch_ssd/hpda/anaconda3/envs/gluonts/lib/python3.6/site-packages/ipykernel_launcher.py:14: FutureWarning: Addition/subtraction of integers and integer-arrays to Timestamp is deprecated, will be removed in a future version.  Instead of adding/subtracting `n`, use `n * self.freq`\n",
      "  \n",
      "\r",
      "Running evaluation:   0%|          | 0/33 [00:00<?, ?it/s]"
     ]
    },
    {
     "name": "stdout",
     "output_type": "stream",
     "text": [
      "model: acc={0.01}, mae={9.79}, rmse={11.98},r2={-1.00}, \n",
      "            naive: acc={0.94}, mae={1.59}, rmse={4.55},r2={0.71}\n",
      "[[ 1.06382979e-02  9.78838951e+00  1.19788984e+01 -1.00341167e+00]\n",
      " [ 9.36170213e-01  1.58951311e+00  4.54713146e+00  7.11323485e-01]]\n"
     ]
    },
    {
     "name": "stderr",
     "output_type": "stream",
     "text": [
      "Running evaluation: 100%|██████████| 33/33 [00:00<00:00, 112.85it/s]\n",
      "/N/u/pengb/hpda/indycar/predictor/src/indycar/model/stint_simulator_shortterm_pitmodel_joint.py:199: SettingWithCopyWarning: \n",
      "A value is trying to be set on a copy of a slice from a DataFrame\n",
      "\n",
      "See the caveats in the documentation: http://pandas.pydata.org/pandas-docs/stable/user_guide/indexing.html#returning-a-view-versus-a-copy\n",
      "  uni_ds['rank_diff'][mask] = 0\n",
      "/N/u/pengb/hpda/indycar/predictor/src/indycar/model/stint_simulator_shortterm_pitmodel_joint.py:203: SettingWithCopyWarning: \n",
      "A value is trying to be set on a copy of a slice from a DataFrame\n",
      "\n",
      "See the caveats in the documentation: http://pandas.pydata.org/pandas-docs/stable/user_guide/indexing.html#returning-a-view-versus-a-copy\n",
      "  uni_ds['time_diff'][mask] = 0\n"
     ]
    },
    {
     "name": "stdout",
     "output_type": "stream",
     "text": [
      "0.23336215281530318 0.5759753593429158 0.22356533016319027\n"
     ]
    },
    {
     "name": "stderr",
     "output_type": "stream",
     "text": [
      "INFO:root:Using GPU\n"
     ]
    },
    {
     "name": "stdout",
     "output_type": "stream",
     "text": [
      "init: load dataset laptime_rank_timediff_pit-oracle-Indy500_2013_2019_v9_p1.pickle with 7 races, 58 cars\n",
      "Start simulation: datasetid=indy2013-2018-jointtrain-nopitage-nocarid-context40,test_event=Indy500-2018,feature_mode=2,task_id=timediff,run_ts=4\n",
      "predicting model=oracle, plen=2\n",
      "loading model...done!, ctx:gpu(0)\n"
     ]
    },
    {
     "name": "stderr",
     "output_type": "stream",
     "text": [
      "/scratch_ssd/hpda/anaconda3/envs/gluonts/lib/python3.6/site-packages/ipykernel_launcher.py:10: DeprecationWarning: elementwise comparison failed; this will raise an error in the future.\n",
      "  # Remove the CWD from sys.path while we load stuff.\n",
      "/scratch_ssd/hpda/anaconda3/envs/gluonts/lib/python3.6/site-packages/ipykernel_launcher.py:11: FutureWarning: Addition/subtraction of integers and integer-arrays to Timestamp is deprecated, will be removed in a future version.  Instead of adding/subtracting `n`, use `n * self.freq`\n",
      "  # This is added back by InteractiveShellApp.init_path()\n",
      "/scratch_ssd/hpda/anaconda3/envs/gluonts/lib/python3.6/site-packages/ipykernel_launcher.py:14: FutureWarning: Addition/subtraction of integers and integer-arrays to Timestamp is deprecated, will be removed in a future version.  Instead of adding/subtracting `n`, use `n * self.freq`\n",
      "  \n",
      "\r",
      "Running evaluation:   0%|          | 0/33 [00:00<?, ?it/s]"
     ]
    },
    {
     "name": "stdout",
     "output_type": "stream",
     "text": [
      "model: acc={0.01}, mae={9.65}, rmse={11.87},r2={-0.97}, \n",
      "            naive: acc={0.87}, mae={2.84}, rmse={6.19},r2={0.46}\n",
      "[[ 1.06382979e-02  9.65131086e+00  1.18680006e+01 -9.66489142e-01]\n",
      " [ 8.72340426e-01  2.84044944e+00  6.19081717e+00  4.64903155e-01]]\n"
     ]
    },
    {
     "name": "stderr",
     "output_type": "stream",
     "text": [
      "Running evaluation: 100%|██████████| 33/33 [00:00<00:00, 135.04it/s]\n",
      "/N/u/pengb/hpda/indycar/predictor/src/indycar/model/stint_simulator_shortterm_pitmodel_joint.py:199: SettingWithCopyWarning: \n",
      "A value is trying to be set on a copy of a slice from a DataFrame\n",
      "\n",
      "See the caveats in the documentation: http://pandas.pydata.org/pandas-docs/stable/user_guide/indexing.html#returning-a-view-versus-a-copy\n",
      "  uni_ds['rank_diff'][mask] = 0\n",
      "/N/u/pengb/hpda/indycar/predictor/src/indycar/model/stint_simulator_shortterm_pitmodel_joint.py:203: SettingWithCopyWarning: \n",
      "A value is trying to be set on a copy of a slice from a DataFrame\n",
      "\n",
      "See the caveats in the documentation: http://pandas.pydata.org/pandas-docs/stable/user_guide/indexing.html#returning-a-view-versus-a-copy\n",
      "  uni_ds['time_diff'][mask] = 0\n"
     ]
    },
    {
     "name": "stdout",
     "output_type": "stream",
     "text": [
      "0.23495623041175837 0.566424402896358 0.212814762779639\n"
     ]
    },
    {
     "name": "stderr",
     "output_type": "stream",
     "text": [
      "INFO:root:Using GPU\n"
     ]
    },
    {
     "name": "stdout",
     "output_type": "stream",
     "text": [
      "init: load dataset laptime_rank_timediff_pit-oracle-Indy500_2013_2019_v9_p2.pickle with 7 races, 58 cars\n",
      "Start simulation: datasetid=indy2013-2018-jointtrain-nopitage-nocarid-context40,test_event=Indy500-2018,feature_mode=2,task_id=timediff,run_ts=4\n",
      "predicting model=oracle, plen=2\n",
      "loading model...done!, ctx:gpu(0)\n"
     ]
    },
    {
     "name": "stderr",
     "output_type": "stream",
     "text": [
      "/scratch_ssd/hpda/anaconda3/envs/gluonts/lib/python3.6/site-packages/ipykernel_launcher.py:10: DeprecationWarning: elementwise comparison failed; this will raise an error in the future.\n",
      "  # Remove the CWD from sys.path while we load stuff.\n",
      "/scratch_ssd/hpda/anaconda3/envs/gluonts/lib/python3.6/site-packages/ipykernel_launcher.py:11: FutureWarning: Addition/subtraction of integers and integer-arrays to Timestamp is deprecated, will be removed in a future version.  Instead of adding/subtracting `n`, use `n * self.freq`\n",
      "  # This is added back by InteractiveShellApp.init_path()\n",
      "/scratch_ssd/hpda/anaconda3/envs/gluonts/lib/python3.6/site-packages/ipykernel_launcher.py:14: FutureWarning: Addition/subtraction of integers and integer-arrays to Timestamp is deprecated, will be removed in a future version.  Instead of adding/subtracting `n`, use `n * self.freq`\n",
      "  \n",
      "\r",
      "Running evaluation:   0%|          | 0/33 [00:00<?, ?it/s]"
     ]
    },
    {
     "name": "stdout",
     "output_type": "stream",
     "text": [
      "model: acc={0.02}, mae={9.64}, rmse={11.89},r2={-0.97}, \n",
      "            naive: acc={0.94}, mae={1.59}, rmse={4.55},r2={0.71}\n",
      "[[ 0.0212766   9.63520599 11.88844843 -0.97327126]\n",
      " [ 0.93617021  1.58951311  4.54713146  0.71132349]]\n"
     ]
    },
    {
     "name": "stderr",
     "output_type": "stream",
     "text": [
      "Running evaluation: 100%|██████████| 33/33 [00:00<00:00, 58.78it/s]\n",
      "/N/u/pengb/hpda/indycar/predictor/src/indycar/model/stint_simulator_shortterm_pitmodel_joint.py:199: SettingWithCopyWarning: \n",
      "A value is trying to be set on a copy of a slice from a DataFrame\n",
      "\n",
      "See the caveats in the documentation: http://pandas.pydata.org/pandas-docs/stable/user_guide/indexing.html#returning-a-view-versus-a-copy\n",
      "  uni_ds['rank_diff'][mask] = 0\n",
      "/N/u/pengb/hpda/indycar/predictor/src/indycar/model/stint_simulator_shortterm_pitmodel_joint.py:203: SettingWithCopyWarning: \n",
      "A value is trying to be set on a copy of a slice from a DataFrame\n",
      "\n",
      "See the caveats in the documentation: http://pandas.pydata.org/pandas-docs/stable/user_guide/indexing.html#returning-a-view-versus-a-copy\n",
      "  uni_ds['time_diff'][mask] = 0\n"
     ]
    },
    {
     "name": "stdout",
     "output_type": "stream",
     "text": [
      "0.233494542310602 0.572152274937858 0.22315735437155512\n"
     ]
    },
    {
     "name": "stderr",
     "output_type": "stream",
     "text": [
      "INFO:root:Using GPU\n"
     ]
    },
    {
     "name": "stdout",
     "output_type": "stream",
     "text": [
      "init: load dataset laptime_rank_timediff_pit-oracle-Indy500_2013_2019_v9_p0.pickle with 7 races, 58 cars\n",
      "Start simulation: datasetid=indy2013-2018-jointtrain-nopitage-nocarid-context40,test_event=Indy500-2019,feature_mode=2,task_id=timediff,run_ts=4\n",
      "predicting model=oracle, plen=2\n",
      "loading model...done!, ctx:gpu(0)\n",
      "a short ts: carid=88，len=4\n"
     ]
    },
    {
     "name": "stderr",
     "output_type": "stream",
     "text": [
      "/scratch_ssd/hpda/anaconda3/envs/gluonts/lib/python3.6/site-packages/ipykernel_launcher.py:10: DeprecationWarning: elementwise comparison failed; this will raise an error in the future.\n",
      "  # Remove the CWD from sys.path while we load stuff.\n",
      "/scratch_ssd/hpda/anaconda3/envs/gluonts/lib/python3.6/site-packages/ipykernel_launcher.py:11: FutureWarning: Addition/subtraction of integers and integer-arrays to Timestamp is deprecated, will be removed in a future version.  Instead of adding/subtracting `n`, use `n * self.freq`\n",
      "  # This is added back by InteractiveShellApp.init_path()\n",
      "/scratch_ssd/hpda/anaconda3/envs/gluonts/lib/python3.6/site-packages/ipykernel_launcher.py:14: FutureWarning: Addition/subtraction of integers and integer-arrays to Timestamp is deprecated, will be removed in a future version.  Instead of adding/subtracting `n`, use `n * self.freq`\n",
      "  \n",
      "\r",
      "Running evaluation:   0%|          | 0/32 [00:00<?, ?it/s]"
     ]
    },
    {
     "name": "stdout",
     "output_type": "stream",
     "text": [
      "model: acc={0.02}, mae={10.08}, rmse={12.41},r2={-1.01}, \n",
      "            naive: acc={0.94}, mae={1.65}, rmse={4.77},r2={0.70}\n",
      "[[ 0.0212766  10.07994315 12.4050059  -1.00970053]\n",
      " [ 0.93617021  1.65251377  4.77022208  0.70282341]]\n"
     ]
    },
    {
     "name": "stderr",
     "output_type": "stream",
     "text": [
      "Running evaluation: 100%|██████████| 32/32 [00:00<00:00, 69.38it/s]\n"
     ]
    },
    {
     "name": "stdout",
     "output_type": "stream",
     "text": [
      "0.24179706108688484 0.5780228907862753 0.2265064067328716\n"
     ]
    },
    {
     "name": "stderr",
     "output_type": "stream",
     "text": [
      "/N/u/pengb/hpda/indycar/predictor/src/indycar/model/stint_simulator_shortterm_pitmodel_joint.py:199: SettingWithCopyWarning: \n",
      "A value is trying to be set on a copy of a slice from a DataFrame\n",
      "\n",
      "See the caveats in the documentation: http://pandas.pydata.org/pandas-docs/stable/user_guide/indexing.html#returning-a-view-versus-a-copy\n",
      "  uni_ds['rank_diff'][mask] = 0\n",
      "/N/u/pengb/hpda/indycar/predictor/src/indycar/model/stint_simulator_shortterm_pitmodel_joint.py:203: SettingWithCopyWarning: \n",
      "A value is trying to be set on a copy of a slice from a DataFrame\n",
      "\n",
      "See the caveats in the documentation: http://pandas.pydata.org/pandas-docs/stable/user_guide/indexing.html#returning-a-view-versus-a-copy\n",
      "  uni_ds['time_diff'][mask] = 0\n",
      "INFO:root:Using GPU\n"
     ]
    },
    {
     "name": "stdout",
     "output_type": "stream",
     "text": [
      "init: load dataset laptime_rank_timediff_pit-oracle-Indy500_2013_2019_v9_p1.pickle with 7 races, 58 cars\n",
      "Start simulation: datasetid=indy2013-2018-jointtrain-nopitage-nocarid-context40,test_event=Indy500-2019,feature_mode=2,task_id=timediff,run_ts=4\n",
      "predicting model=oracle, plen=2\n",
      "loading model...done!, ctx:gpu(0)\n",
      "a short ts: carid=88，len=4\n"
     ]
    },
    {
     "name": "stderr",
     "output_type": "stream",
     "text": [
      "/scratch_ssd/hpda/anaconda3/envs/gluonts/lib/python3.6/site-packages/ipykernel_launcher.py:10: DeprecationWarning: elementwise comparison failed; this will raise an error in the future.\n",
      "  # Remove the CWD from sys.path while we load stuff.\n",
      "/scratch_ssd/hpda/anaconda3/envs/gluonts/lib/python3.6/site-packages/ipykernel_launcher.py:11: FutureWarning: Addition/subtraction of integers and integer-arrays to Timestamp is deprecated, will be removed in a future version.  Instead of adding/subtracting `n`, use `n * self.freq`\n",
      "  # This is added back by InteractiveShellApp.init_path()\n",
      "/scratch_ssd/hpda/anaconda3/envs/gluonts/lib/python3.6/site-packages/ipykernel_launcher.py:14: FutureWarning: Addition/subtraction of integers and integer-arrays to Timestamp is deprecated, will be removed in a future version.  Instead of adding/subtracting `n`, use `n * self.freq`\n",
      "  \n",
      "\r",
      "Running evaluation:   0%|          | 0/32 [00:00<?, ?it/s]"
     ]
    },
    {
     "name": "stdout",
     "output_type": "stream",
     "text": [
      "model: acc={0.01}, mae={9.87}, rmse={12.24},r2={-0.96}, \n",
      "            naive: acc={0.87}, mae={2.61}, rmse={6.13},r2={0.51}\n",
      "[[ 1.06382979e-02  9.87280156e+00  1.22406294e+01 -9.56793039e-01]\n",
      " [ 8.72340426e-01  2.60721265e+00  6.12741481e+00  5.09666053e-01]]\n"
     ]
    },
    {
     "name": "stderr",
     "output_type": "stream",
     "text": [
      "Running evaluation: 100%|██████████| 32/32 [00:00<00:00, 109.11it/s]\n",
      "/N/u/pengb/hpda/indycar/predictor/src/indycar/model/stint_simulator_shortterm_pitmodel_joint.py:199: SettingWithCopyWarning: \n",
      "A value is trying to be set on a copy of a slice from a DataFrame\n",
      "\n",
      "See the caveats in the documentation: http://pandas.pydata.org/pandas-docs/stable/user_guide/indexing.html#returning-a-view-versus-a-copy\n",
      "  uni_ds['rank_diff'][mask] = 0\n",
      "/N/u/pengb/hpda/indycar/predictor/src/indycar/model/stint_simulator_shortterm_pitmodel_joint.py:203: SettingWithCopyWarning: \n",
      "A value is trying to be set on a copy of a slice from a DataFrame\n",
      "\n",
      "See the caveats in the documentation: http://pandas.pydata.org/pandas-docs/stable/user_guide/indexing.html#returning-a-view-versus-a-copy\n",
      "  uni_ds['time_diff'][mask] = 0\n"
     ]
    },
    {
     "name": "stdout",
     "output_type": "stream",
     "text": [
      "0.23138505136379736 0.5576605958444795 0.20730208753221685\n"
     ]
    },
    {
     "name": "stderr",
     "output_type": "stream",
     "text": [
      "INFO:root:Using GPU\n"
     ]
    },
    {
     "name": "stdout",
     "output_type": "stream",
     "text": [
      "init: load dataset laptime_rank_timediff_pit-oracle-Indy500_2013_2019_v9_p2.pickle with 7 races, 58 cars\n",
      "Start simulation: datasetid=indy2013-2018-jointtrain-nopitage-nocarid-context40,test_event=Indy500-2019,feature_mode=2,task_id=timediff,run_ts=4\n",
      "predicting model=oracle, plen=2\n",
      "loading model...done!, ctx:gpu(0)\n",
      "a short ts: carid=88，len=4\n"
     ]
    },
    {
     "name": "stderr",
     "output_type": "stream",
     "text": [
      "/scratch_ssd/hpda/anaconda3/envs/gluonts/lib/python3.6/site-packages/ipykernel_launcher.py:10: DeprecationWarning: elementwise comparison failed; this will raise an error in the future.\n",
      "  # Remove the CWD from sys.path while we load stuff.\n",
      "/scratch_ssd/hpda/anaconda3/envs/gluonts/lib/python3.6/site-packages/ipykernel_launcher.py:11: FutureWarning: Addition/subtraction of integers and integer-arrays to Timestamp is deprecated, will be removed in a future version.  Instead of adding/subtracting `n`, use `n * self.freq`\n",
      "  # This is added back by InteractiveShellApp.init_path()\n",
      "/scratch_ssd/hpda/anaconda3/envs/gluonts/lib/python3.6/site-packages/ipykernel_launcher.py:14: FutureWarning: Addition/subtraction of integers and integer-arrays to Timestamp is deprecated, will be removed in a future version.  Instead of adding/subtracting `n`, use `n * self.freq`\n",
      "  \n",
      "\r",
      "Running evaluation:   0%|          | 0/32 [00:00<?, ?it/s]"
     ]
    },
    {
     "name": "stdout",
     "output_type": "stream",
     "text": [
      "model: acc={0.04}, mae={9.80}, rmse={12.11},r2={-0.92}, \n",
      "            naive: acc={0.94}, mae={1.65}, rmse={4.77},r2={0.70}\n",
      "[[ 0.03723404  9.80067508 12.10962833 -0.91513338]\n",
      " [ 0.93617021  1.65251377  4.77022208  0.70282341]]\n"
     ]
    },
    {
     "name": "stderr",
     "output_type": "stream",
     "text": [
      "Running evaluation: 100%|██████████| 32/32 [00:00<00:00, 109.20it/s]\n",
      "/N/u/pengb/hpda/indycar/predictor/src/indycar/model/stint_simulator_shortterm_pitmodel_joint.py:199: SettingWithCopyWarning: \n",
      "A value is trying to be set on a copy of a slice from a DataFrame\n",
      "\n",
      "See the caveats in the documentation: http://pandas.pydata.org/pandas-docs/stable/user_guide/indexing.html#returning-a-view-versus-a-copy\n",
      "  uni_ds['rank_diff'][mask] = 0\n",
      "/N/u/pengb/hpda/indycar/predictor/src/indycar/model/stint_simulator_shortterm_pitmodel_joint.py:203: SettingWithCopyWarning: \n",
      "A value is trying to be set on a copy of a slice from a DataFrame\n",
      "\n",
      "See the caveats in the documentation: http://pandas.pydata.org/pandas-docs/stable/user_guide/indexing.html#returning-a-view-versus-a-copy\n",
      "  uni_ds['time_diff'][mask] = 0\n"
     ]
    },
    {
     "name": "stdout",
     "output_type": "stream",
     "text": [
      "0.24142817008074072 0.5716711251175688 0.22662367009906312\n"
     ]
    },
    {
     "name": "stderr",
     "output_type": "stream",
     "text": [
      "INFO:root:Using GPU\n"
     ]
    },
    {
     "name": "stdout",
     "output_type": "stream",
     "text": [
      "init: load dataset laptime_rank_timediff_pit-oracle-Indy500_2013_2019_v9_p0.pickle with 7 races, 58 cars\n",
      "Start simulation: datasetid=indy2013-2018-jointtrain-nopitage-nocarid-context40,test_event=Indy500-2018,feature_mode=2,task_id=rank,run_ts=1\n",
      "predicting model=oracle, plen=2\n",
      "loading model...done!, ctx:gpu(0)\n"
     ]
    },
    {
     "name": "stderr",
     "output_type": "stream",
     "text": [
      "/scratch_ssd/hpda/anaconda3/envs/gluonts/lib/python3.6/site-packages/ipykernel_launcher.py:10: DeprecationWarning: elementwise comparison failed; this will raise an error in the future.\n",
      "  # Remove the CWD from sys.path while we load stuff.\n",
      "/scratch_ssd/hpda/anaconda3/envs/gluonts/lib/python3.6/site-packages/ipykernel_launcher.py:11: FutureWarning: Addition/subtraction of integers and integer-arrays to Timestamp is deprecated, will be removed in a future version.  Instead of adding/subtracting `n`, use `n * self.freq`\n",
      "  # This is added back by InteractiveShellApp.init_path()\n",
      "/scratch_ssd/hpda/anaconda3/envs/gluonts/lib/python3.6/site-packages/ipykernel_launcher.py:14: FutureWarning: Addition/subtraction of integers and integer-arrays to Timestamp is deprecated, will be removed in a future version.  Instead of adding/subtracting `n`, use `n * self.freq`\n",
      "  \n",
      "\r",
      "Running evaluation:   0%|          | 0/33 [00:00<?, ?it/s]"
     ]
    },
    {
     "name": "stdout",
     "output_type": "stream",
     "text": [
      "model: acc={0.65}, mae={1.78}, rmse={3.38},r2={0.84}, \n",
      "            naive: acc={0.72}, mae={1.34}, rmse={3.25},r2={0.85}\n",
      "[[0.64893617 1.77977528 3.3804904  0.84045035]\n",
      " [0.71808511 1.33932584 3.24896987 0.85262365]]\n"
     ]
    },
    {
     "name": "stderr",
     "output_type": "stream",
     "text": [
      "Running evaluation: 100%|██████████| 33/33 [00:00<00:00, 117.56it/s]\n",
      "/N/u/pengb/hpda/indycar/predictor/src/indycar/model/stint_simulator_shortterm_pitmodel_joint.py:199: SettingWithCopyWarning: \n",
      "A value is trying to be set on a copy of a slice from a DataFrame\n",
      "\n",
      "See the caveats in the documentation: http://pandas.pydata.org/pandas-docs/stable/user_guide/indexing.html#returning-a-view-versus-a-copy\n",
      "  uni_ds['rank_diff'][mask] = 0\n",
      "/N/u/pengb/hpda/indycar/predictor/src/indycar/model/stint_simulator_shortterm_pitmodel_joint.py:203: SettingWithCopyWarning: \n",
      "A value is trying to be set on a copy of a slice from a DataFrame\n",
      "\n",
      "See the caveats in the documentation: http://pandas.pydata.org/pandas-docs/stable/user_guide/indexing.html#returning-a-view-versus-a-copy\n",
      "  uni_ds['time_diff'][mask] = 0\n"
     ]
    },
    {
     "name": "stdout",
     "output_type": "stream",
     "text": [
      "0.07521074246190425 0.1397519723332973 0.08799038149789257\n"
     ]
    },
    {
     "name": "stderr",
     "output_type": "stream",
     "text": [
      "INFO:root:Using GPU\n"
     ]
    },
    {
     "name": "stdout",
     "output_type": "stream",
     "text": [
      "init: load dataset laptime_rank_timediff_pit-oracle-Indy500_2013_2019_v9_p1.pickle with 7 races, 58 cars\n",
      "Start simulation: datasetid=indy2013-2018-jointtrain-nopitage-nocarid-context40,test_event=Indy500-2018,feature_mode=2,task_id=rank,run_ts=1\n",
      "predicting model=oracle, plen=2\n",
      "loading model...done!, ctx:gpu(0)\n"
     ]
    },
    {
     "name": "stderr",
     "output_type": "stream",
     "text": [
      "/scratch_ssd/hpda/anaconda3/envs/gluonts/lib/python3.6/site-packages/ipykernel_launcher.py:10: DeprecationWarning: elementwise comparison failed; this will raise an error in the future.\n",
      "  # Remove the CWD from sys.path while we load stuff.\n",
      "/scratch_ssd/hpda/anaconda3/envs/gluonts/lib/python3.6/site-packages/ipykernel_launcher.py:11: FutureWarning: Addition/subtraction of integers and integer-arrays to Timestamp is deprecated, will be removed in a future version.  Instead of adding/subtracting `n`, use `n * self.freq`\n",
      "  # This is added back by InteractiveShellApp.init_path()\n",
      "/scratch_ssd/hpda/anaconda3/envs/gluonts/lib/python3.6/site-packages/ipykernel_launcher.py:14: FutureWarning: Addition/subtraction of integers and integer-arrays to Timestamp is deprecated, will be removed in a future version.  Instead of adding/subtracting `n`, use `n * self.freq`\n",
      "  \n",
      "\r",
      "Running evaluation:   0%|          | 0/33 [00:00<?, ?it/s]"
     ]
    },
    {
     "name": "stdout",
     "output_type": "stream",
     "text": [
      "model: acc={0.73}, mae={1.75}, rmse={3.13},r2={0.86}, \n",
      "            naive: acc={0.72}, mae={1.34}, rmse={3.25},r2={0.85}\n",
      "[[0.7287234  1.74531835 3.12977725 0.86323868]\n",
      " [0.71808511 1.33932584 3.24896987 0.85262365]]\n"
     ]
    },
    {
     "name": "stderr",
     "output_type": "stream",
     "text": [
      "Running evaluation: 100%|██████████| 33/33 [00:00<00:00, 113.35it/s]\n",
      "/N/u/pengb/hpda/indycar/predictor/src/indycar/model/stint_simulator_shortterm_pitmodel_joint.py:199: SettingWithCopyWarning: \n",
      "A value is trying to be set on a copy of a slice from a DataFrame\n",
      "\n",
      "See the caveats in the documentation: http://pandas.pydata.org/pandas-docs/stable/user_guide/indexing.html#returning-a-view-versus-a-copy\n",
      "  uni_ds['rank_diff'][mask] = 0\n",
      "/N/u/pengb/hpda/indycar/predictor/src/indycar/model/stint_simulator_shortterm_pitmodel_joint.py:203: SettingWithCopyWarning: \n",
      "A value is trying to be set on a copy of a slice from a DataFrame\n",
      "\n",
      "See the caveats in the documentation: http://pandas.pydata.org/pandas-docs/stable/user_guide/indexing.html#returning-a-view-versus-a-copy\n",
      "  uni_ds['time_diff'][mask] = 0\n"
     ]
    },
    {
     "name": "stdout",
     "output_type": "stream",
     "text": [
      "0.07223603155733276 0.14003566410893764 0.08622608883605316\n"
     ]
    },
    {
     "name": "stderr",
     "output_type": "stream",
     "text": [
      "INFO:root:Using GPU\n"
     ]
    },
    {
     "name": "stdout",
     "output_type": "stream",
     "text": [
      "init: load dataset laptime_rank_timediff_pit-oracle-Indy500_2013_2019_v9_p2.pickle with 7 races, 58 cars\n",
      "Start simulation: datasetid=indy2013-2018-jointtrain-nopitage-nocarid-context40,test_event=Indy500-2018,feature_mode=2,task_id=rank,run_ts=1\n",
      "predicting model=oracle, plen=2\n",
      "loading model...done!, ctx:gpu(0)\n"
     ]
    },
    {
     "name": "stderr",
     "output_type": "stream",
     "text": [
      "/scratch_ssd/hpda/anaconda3/envs/gluonts/lib/python3.6/site-packages/ipykernel_launcher.py:10: DeprecationWarning: elementwise comparison failed; this will raise an error in the future.\n",
      "  # Remove the CWD from sys.path while we load stuff.\n",
      "/scratch_ssd/hpda/anaconda3/envs/gluonts/lib/python3.6/site-packages/ipykernel_launcher.py:11: FutureWarning: Addition/subtraction of integers and integer-arrays to Timestamp is deprecated, will be removed in a future version.  Instead of adding/subtracting `n`, use `n * self.freq`\n",
      "  # This is added back by InteractiveShellApp.init_path()\n",
      "/scratch_ssd/hpda/anaconda3/envs/gluonts/lib/python3.6/site-packages/ipykernel_launcher.py:14: FutureWarning: Addition/subtraction of integers and integer-arrays to Timestamp is deprecated, will be removed in a future version.  Instead of adding/subtracting `n`, use `n * self.freq`\n",
      "  \n",
      "\r",
      "Running evaluation:   0%|          | 0/33 [00:00<?, ?it/s]"
     ]
    },
    {
     "name": "stdout",
     "output_type": "stream",
     "text": [
      "model: acc={0.66}, mae={1.78}, rmse={3.40},r2={0.84}, \n",
      "            naive: acc={0.72}, mae={1.34}, rmse={3.25},r2={0.85}\n",
      "[[0.66489362 1.77677903 3.40274179 0.83834303]\n",
      " [0.71808511 1.33932584 3.24896987 0.85262365]]\n"
     ]
    },
    {
     "name": "stderr",
     "output_type": "stream",
     "text": [
      "Running evaluation: 100%|██████████| 33/33 [00:00<00:00, 147.81it/s]\n",
      "/N/u/pengb/hpda/indycar/predictor/src/indycar/model/stint_simulator_shortterm_pitmodel_joint.py:199: SettingWithCopyWarning: \n",
      "A value is trying to be set on a copy of a slice from a DataFrame\n",
      "\n",
      "See the caveats in the documentation: http://pandas.pydata.org/pandas-docs/stable/user_guide/indexing.html#returning-a-view-versus-a-copy\n",
      "  uni_ds['rank_diff'][mask] = 0\n",
      "/N/u/pengb/hpda/indycar/predictor/src/indycar/model/stint_simulator_shortterm_pitmodel_joint.py:203: SettingWithCopyWarning: \n",
      "A value is trying to be set on a copy of a slice from a DataFrame\n",
      "\n",
      "See the caveats in the documentation: http://pandas.pydata.org/pandas-docs/stable/user_guide/indexing.html#returning-a-view-versus-a-copy\n",
      "  uni_ds['time_diff'][mask] = 0\n"
     ]
    },
    {
     "name": "stdout",
     "output_type": "stream",
     "text": [
      "0.075278288122771 0.13981951799416406 0.08766886415216686\n"
     ]
    },
    {
     "name": "stderr",
     "output_type": "stream",
     "text": [
      "INFO:root:Using GPU\n"
     ]
    },
    {
     "name": "stdout",
     "output_type": "stream",
     "text": [
      "init: load dataset laptime_rank_timediff_pit-oracle-Indy500_2013_2019_v9_p0.pickle with 7 races, 58 cars\n",
      "Start simulation: datasetid=indy2013-2018-jointtrain-nopitage-nocarid-context40,test_event=Indy500-2019,feature_mode=2,task_id=rank,run_ts=1\n",
      "predicting model=oracle, plen=2\n",
      "loading model...done!, ctx:gpu(0)\n",
      "a short ts: carid=88，len=4\n"
     ]
    },
    {
     "name": "stderr",
     "output_type": "stream",
     "text": [
      "/scratch_ssd/hpda/anaconda3/envs/gluonts/lib/python3.6/site-packages/ipykernel_launcher.py:10: DeprecationWarning: elementwise comparison failed; this will raise an error in the future.\n",
      "  # Remove the CWD from sys.path while we load stuff.\n",
      "/scratch_ssd/hpda/anaconda3/envs/gluonts/lib/python3.6/site-packages/ipykernel_launcher.py:11: FutureWarning: Addition/subtraction of integers and integer-arrays to Timestamp is deprecated, will be removed in a future version.  Instead of adding/subtracting `n`, use `n * self.freq`\n",
      "  # This is added back by InteractiveShellApp.init_path()\n",
      "/scratch_ssd/hpda/anaconda3/envs/gluonts/lib/python3.6/site-packages/ipykernel_launcher.py:14: FutureWarning: Addition/subtraction of integers and integer-arrays to Timestamp is deprecated, will be removed in a future version.  Instead of adding/subtracting `n`, use `n * self.freq`\n",
      "  \n",
      "\r",
      "Running evaluation:   0%|          | 0/32 [00:00<?, ?it/s]"
     ]
    },
    {
     "name": "stdout",
     "output_type": "stream",
     "text": [
      "model: acc={0.69}, mae={1.67}, rmse={3.24},r2={0.86}, \n",
      "            naive: acc={0.73}, mae={1.16}, rmse={3.05},r2={0.88}\n",
      "[[0.68617021 1.66779179 3.24430162 0.86253889]\n",
      " [0.73404255 1.16255107 3.05012312 0.87850116]]\n"
     ]
    },
    {
     "name": "stderr",
     "output_type": "stream",
     "text": [
      "Running evaluation: 100%|██████████| 32/32 [00:00<00:00, 146.35it/s]\n",
      "/N/u/pengb/hpda/indycar/predictor/src/indycar/model/stint_simulator_shortterm_pitmodel_joint.py:199: SettingWithCopyWarning: \n",
      "A value is trying to be set on a copy of a slice from a DataFrame\n",
      "\n",
      "See the caveats in the documentation: http://pandas.pydata.org/pandas-docs/stable/user_guide/indexing.html#returning-a-view-versus-a-copy\n",
      "  uni_ds['rank_diff'][mask] = 0\n",
      "/N/u/pengb/hpda/indycar/predictor/src/indycar/model/stint_simulator_shortterm_pitmodel_joint.py:203: SettingWithCopyWarning: \n",
      "A value is trying to be set on a copy of a slice from a DataFrame\n",
      "\n",
      "See the caveats in the documentation: http://pandas.pydata.org/pandas-docs/stable/user_guide/indexing.html#returning-a-view-versus-a-copy\n",
      "  uni_ds['time_diff'][mask] = 0\n"
     ]
    },
    {
     "name": "stdout",
     "output_type": "stream",
     "text": [
      "0.06118949027080509 0.11783746808848498 0.07815603356663857\n"
     ]
    },
    {
     "name": "stderr",
     "output_type": "stream",
     "text": [
      "INFO:root:Using GPU\n"
     ]
    },
    {
     "name": "stdout",
     "output_type": "stream",
     "text": [
      "init: load dataset laptime_rank_timediff_pit-oracle-Indy500_2013_2019_v9_p1.pickle with 7 races, 58 cars\n",
      "Start simulation: datasetid=indy2013-2018-jointtrain-nopitage-nocarid-context40,test_event=Indy500-2019,feature_mode=2,task_id=rank,run_ts=1\n",
      "predicting model=oracle, plen=2\n",
      "loading model...done!, ctx:gpu(0)\n",
      "a short ts: carid=88，len=4\n"
     ]
    },
    {
     "name": "stderr",
     "output_type": "stream",
     "text": [
      "/scratch_ssd/hpda/anaconda3/envs/gluonts/lib/python3.6/site-packages/ipykernel_launcher.py:10: DeprecationWarning: elementwise comparison failed; this will raise an error in the future.\n",
      "  # Remove the CWD from sys.path while we load stuff.\n",
      "/scratch_ssd/hpda/anaconda3/envs/gluonts/lib/python3.6/site-packages/ipykernel_launcher.py:11: FutureWarning: Addition/subtraction of integers and integer-arrays to Timestamp is deprecated, will be removed in a future version.  Instead of adding/subtracting `n`, use `n * self.freq`\n",
      "  # This is added back by InteractiveShellApp.init_path()\n",
      "/scratch_ssd/hpda/anaconda3/envs/gluonts/lib/python3.6/site-packages/ipykernel_launcher.py:14: FutureWarning: Addition/subtraction of integers and integer-arrays to Timestamp is deprecated, will be removed in a future version.  Instead of adding/subtracting `n`, use `n * self.freq`\n",
      "  \n",
      "\r",
      "Running evaluation:   0%|          | 0/32 [00:00<?, ?it/s]"
     ]
    },
    {
     "name": "stdout",
     "output_type": "stream",
     "text": [
      "model: acc={0.68}, mae={1.63}, rmse={3.03},r2={0.88}, \n",
      "            naive: acc={0.73}, mae={1.16}, rmse={3.05},r2={0.88}\n",
      "[[0.67553191 1.62941908 3.02972776 0.88012059]\n",
      " [0.73404255 1.16255107 3.05012312 0.87850116]]\n"
     ]
    },
    {
     "name": "stderr",
     "output_type": "stream",
     "text": [
      "Running evaluation: 100%|██████████| 32/32 [00:00<00:00, 137.83it/s]\n",
      "/N/u/pengb/hpda/indycar/predictor/src/indycar/model/stint_simulator_shortterm_pitmodel_joint.py:199: SettingWithCopyWarning: \n",
      "A value is trying to be set on a copy of a slice from a DataFrame\n",
      "\n",
      "See the caveats in the documentation: http://pandas.pydata.org/pandas-docs/stable/user_guide/indexing.html#returning-a-view-versus-a-copy\n",
      "  uni_ds['rank_diff'][mask] = 0\n",
      "/N/u/pengb/hpda/indycar/predictor/src/indycar/model/stint_simulator_shortterm_pitmodel_joint.py:203: SettingWithCopyWarning: \n",
      "A value is trying to be set on a copy of a slice from a DataFrame\n",
      "\n",
      "See the caveats in the documentation: http://pandas.pydata.org/pandas-docs/stable/user_guide/indexing.html#returning-a-view-versus-a-copy\n",
      "  uni_ds['time_diff'][mask] = 0\n"
     ]
    },
    {
     "name": "stdout",
     "output_type": "stream",
     "text": [
      "0.05870985867321388 0.116408320813026 0.07344595502461308\n"
     ]
    },
    {
     "name": "stderr",
     "output_type": "stream",
     "text": [
      "INFO:root:Using GPU\n"
     ]
    },
    {
     "name": "stdout",
     "output_type": "stream",
     "text": [
      "init: load dataset laptime_rank_timediff_pit-oracle-Indy500_2013_2019_v9_p2.pickle with 7 races, 58 cars\n",
      "Start simulation: datasetid=indy2013-2018-jointtrain-nopitage-nocarid-context40,test_event=Indy500-2019,feature_mode=2,task_id=rank,run_ts=1\n",
      "predicting model=oracle, plen=2\n",
      "loading model...done!, ctx:gpu(0)\n",
      "a short ts: carid=88，len=4\n"
     ]
    },
    {
     "name": "stderr",
     "output_type": "stream",
     "text": [
      "/scratch_ssd/hpda/anaconda3/envs/gluonts/lib/python3.6/site-packages/ipykernel_launcher.py:10: DeprecationWarning: elementwise comparison failed; this will raise an error in the future.\n",
      "  # Remove the CWD from sys.path while we load stuff.\n",
      "/scratch_ssd/hpda/anaconda3/envs/gluonts/lib/python3.6/site-packages/ipykernel_launcher.py:11: FutureWarning: Addition/subtraction of integers and integer-arrays to Timestamp is deprecated, will be removed in a future version.  Instead of adding/subtracting `n`, use `n * self.freq`\n",
      "  # This is added back by InteractiveShellApp.init_path()\n",
      "/scratch_ssd/hpda/anaconda3/envs/gluonts/lib/python3.6/site-packages/ipykernel_launcher.py:14: FutureWarning: Addition/subtraction of integers and integer-arrays to Timestamp is deprecated, will be removed in a future version.  Instead of adding/subtracting `n`, use `n * self.freq`\n",
      "  \n",
      "\r",
      "Running evaluation:   0%|          | 0/32 [00:00<?, ?it/s]"
     ]
    },
    {
     "name": "stdout",
     "output_type": "stream",
     "text": [
      "model: acc={0.66}, mae={1.68}, rmse={3.25},r2={0.86}, \n",
      "            naive: acc={0.73}, mae={1.16}, rmse={3.05},r2={0.88}\n",
      "[[0.65957447 1.67738497 3.25026476 0.86203311]\n",
      " [0.73404255 1.16255107 3.05012312 0.87850116]]\n"
     ]
    },
    {
     "name": "stderr",
     "output_type": "stream",
     "text": [
      "\r",
      "Running evaluation: 100%|██████████| 32/32 [00:00<00:00, 119.50it/s]"
     ]
    },
    {
     "name": "stdout",
     "output_type": "stream",
     "text": [
      "0.06122857805953559 0.11808176676805061 0.07837101640465632\n"
     ]
    },
    {
     "name": "stderr",
     "output_type": "stream",
     "text": [
      "\n"
     ]
    }
   ],
   "source": [
    "fmodestr = {stint.FEATURE_PITAGE:'pitage',stint.FEATURE_STATUS:'nopitage'}\n",
    "lapstr = {0:'noinlap',1:'inlap',2:'outlap'}\n",
    "\n",
    "fmode = stint.FEATURE_STATUS\n",
    "for runts in ['TIMEDIFF','RANK']:\n",
    "    for year in ['2018','2019']:\n",
    "        for lapmode in [0,1,2]:\n",
    "            mid = 'oracle-%s-%s-%s-%s'%(runts, year, lapstr[lapmode], fmodestr[fmode])\n",
    "            acc[mid], ret[mid] = test_pitmodel('oracle', 'Indy500-%s'%year, runts, loopcnt=1,inlapmode=lapmode,featuremode = fmode)\n",
    "            if acc[mid] != []:\n",
    "                pret[mid] = prisk(ret[mid][0][1], ret[mid][0][2])\n",
    "            else:\n",
    "                pret[mid] = []\n"
   ]
  },
  {
   "cell_type": "code",
   "execution_count": 9,
   "metadata": {},
   "outputs": [
    {
     "data": {
      "text/plain": [
       "{'oracle-TIMEDIFF-2018-noinlap-nopitage': array([[[ 1.06382979e-02,  9.78838951e+00,  1.19788984e+01,\n",
       "          -1.00341167e+00],\n",
       "         [ 9.36170213e-01,  1.58951311e+00,  4.54713146e+00,\n",
       "           7.11323485e-01]]]),\n",
       " 'oracle-TIMEDIFF-2018-inlap-nopitage': array([[[ 1.06382979e-02,  9.65131086e+00,  1.18680006e+01,\n",
       "          -9.66489142e-01],\n",
       "         [ 8.72340426e-01,  2.84044944e+00,  6.19081717e+00,\n",
       "           4.64903155e-01]]]),\n",
       " 'oracle-TIMEDIFF-2018-outlap-nopitage': array([[[ 0.0212766 ,  9.63520599, 11.88844843, -0.97327126],\n",
       "         [ 0.93617021,  1.58951311,  4.54713146,  0.71132349]]]),\n",
       " 'oracle-TIMEDIFF-2019-noinlap-nopitage': array([[[ 0.0212766 , 10.07994315, 12.4050059 , -1.00970053],\n",
       "         [ 0.93617021,  1.65251377,  4.77022208,  0.70282341]]]),\n",
       " 'oracle-TIMEDIFF-2019-inlap-nopitage': array([[[ 1.06382979e-02,  9.87280156e+00,  1.22406294e+01,\n",
       "          -9.56793039e-01],\n",
       "         [ 8.72340426e-01,  2.60721265e+00,  6.12741481e+00,\n",
       "           5.09666053e-01]]]),\n",
       " 'oracle-TIMEDIFF-2019-outlap-nopitage': array([[[ 0.03723404,  9.80067508, 12.10962833, -0.91513338],\n",
       "         [ 0.93617021,  1.65251377,  4.77022208,  0.70282341]]]),\n",
       " 'oracle-RANK-2018-noinlap-nopitage': array([[[0.64893617, 1.77977528, 3.3804904 , 0.84045035],\n",
       "         [0.71808511, 1.33932584, 3.24896987, 0.85262365]]]),\n",
       " 'oracle-RANK-2018-inlap-nopitage': array([[[0.7287234 , 1.74531835, 3.12977725, 0.86323868],\n",
       "         [0.71808511, 1.33932584, 3.24896987, 0.85262365]]]),\n",
       " 'oracle-RANK-2018-outlap-nopitage': array([[[0.66489362, 1.77677903, 3.40274179, 0.83834303],\n",
       "         [0.71808511, 1.33932584, 3.24896987, 0.85262365]]]),\n",
       " 'oracle-RANK-2019-noinlap-nopitage': array([[[0.68617021, 1.66779179, 3.24430162, 0.86253889],\n",
       "         [0.73404255, 1.16255107, 3.05012312, 0.87850116]]]),\n",
       " 'oracle-RANK-2019-inlap-nopitage': array([[[0.67553191, 1.62941908, 3.02972776, 0.88012059],\n",
       "         [0.73404255, 1.16255107, 3.05012312, 0.87850116]]]),\n",
       " 'oracle-RANK-2019-outlap-nopitage': array([[[0.65957447, 1.67738497, 3.25026476, 0.86203311],\n",
       "         [0.73404255, 1.16255107, 3.05012312, 0.87850116]]])}"
      ]
     },
     "execution_count": 9,
     "metadata": {},
     "output_type": "execute_result"
    }
   ],
   "source": [
    "acc"
   ]
  },
  {
   "cell_type": "code",
   "execution_count": 10,
   "metadata": {},
   "outputs": [
    {
     "ename": "SystemExit",
     "evalue": "0",
     "output_type": "error",
     "traceback": [
      "An exception has occurred, use %tb to see the full traceback.\n",
      "\u001b[0;31mSystemExit\u001b[0m\u001b[0;31m:\u001b[0m 0\n"
     ]
    },
    {
     "name": "stderr",
     "output_type": "stream",
     "text": [
      "/scratch_ssd/hpda/anaconda3/envs/gluonts/lib/python3.6/site-packages/IPython/core/interactiveshell.py:3339: UserWarning: To exit: use 'exit', 'quit', or Ctrl-D.\n",
      "  warn(\"To exit: use 'exit', 'quit', or Ctrl-D.\", stacklevel=1)\n"
     ]
    }
   ],
   "source": [
    "sys.exit(0)"
   ]
  },
  {
   "cell_type": "code",
   "execution_count": null,
   "metadata": {},
   "outputs": [],
   "source": [
    "acc"
   ]
  },
  {
   "cell_type": "code",
   "execution_count": null,
   "metadata": {},
   "outputs": [],
   "source": [
    "for year in [2018,2019]:\n",
    "    print(np.mean(acc[f'pitmodel-RANK-{year}-inlap-nopitage'], axis=0))\n",
    "    \n",
    "for year in [2018,2019]:\n",
    "    print(np.mean(acc[f'pitmodel-RANK-{year}-inlap-pitage'], axis=0))\n",
    "    "
   ]
  },
  {
   "cell_type": "code",
   "execution_count": null,
   "metadata": {},
   "outputs": [],
   "source": [
    "for year in [2018,2019]:\n",
    "    print(np.mean(acc[f'pitmodel-TIMEDIFF-{year}-inlap-nopitage'], axis=0))\n",
    "    \n",
    "for year in [2018,2019]:\n",
    "    print(np.mean(acc[f'pitmodel-TIMEDIFF-{year}-inlap-pitage'], axis=0))"
   ]
  },
  {
   "cell_type": "code",
   "execution_count": null,
   "metadata": {},
   "outputs": [],
   "source": [
    "for year in [2018,2019]:\n",
    "    print(np.mean(acc[f'oracle-RANK-{year}-inlap-nopitage'], axis=0))\n",
    "    \n",
    "for year in [2018,2019]:\n",
    "    print(np.mean(acc[f'oracle-RANK-{year}-inlap-pitage'], axis=0))    "
   ]
  },
  {
   "cell_type": "code",
   "execution_count": null,
   "metadata": {},
   "outputs": [],
   "source": [
    "for year in [2018,2019]:\n",
    "    print(np.mean(acc[f'oracle-TIMEDIFF-{year}-inlap-nopitage'], axis=0))\n",
    "    \n",
    "for year in [2018,2019]:\n",
    "    print(np.mean(acc[f'oracle-TIMEDIFF-{year}-inlap-pitage'], axis=0)) "
   ]
  },
  {
   "cell_type": "markdown",
   "metadata": {},
   "source": [
    "### conclusion\n",
    "\n",
    "best model:\n",
    "\n",
    "  oracle : \n",
    "  \n",
    "     oracle-TIMEDIFF-{year}-inlap-nopitage  ; best mae\n",
    "     oracle-RANK-{year}-inlap-pitage        ; best top1acc\n",
    "     \n",
    "  pitmodel:\n",
    "  \n",
    "     pitmodel-RANK-{year}-inlap-nopitage    ; best mae & top1acc (pitage a little bit less)"
   ]
  },
  {
   "cell_type": "markdown",
   "metadata": {},
   "source": [
    "### test pred models"
   ]
  },
  {
   "cell_type": "code",
   "execution_count": null,
   "metadata": {},
   "outputs": [],
   "source": [
    "mid = 'oracle-2019'\n",
    "_ = prisk(ret[mid][0][1], ret[mid][0][2])"
   ]
  },
  {
   "cell_type": "code",
   "execution_count": null,
   "metadata": {},
   "outputs": [],
   "source": [
    "mid = 'deepar-2019'\n",
    "_ = prisk(ret[mid][0][1], ret[mid][0][2])"
   ]
  },
  {
   "cell_type": "code",
   "execution_count": null,
   "metadata": {},
   "outputs": [],
   "source": [
    "mid = 'pitmodel-2019-test'\n",
    "acc[mid], ret[mid] = test_pitmodel('pitmodel-m65-mlp-dsel-e500-l10-10-5-student-d0.1.pickle', 'Indy500-2019', 'RANK',loopcnt=1)\n",
    "_ = prisk(ret[mid][0][1], ret[mid][0][2])"
   ]
  },
  {
   "cell_type": "code",
   "execution_count": null,
   "metadata": {},
   "outputs": [],
   "source": []
  },
  {
   "cell_type": "code",
   "execution_count": null,
   "metadata": {},
   "outputs": [],
   "source": [
    "mid = 'currank-2019'\n",
    "acc[mid], ret[mid] = test_pitmodel('pitmodel-m65-mlp-dsel-e500-l10-10-5-student-d0.1.pickle', 'Indy500-2019', 'RANK',loopcnt=1,model='naive')\n",
    "_ = prisk(ret[mid][0][1], ret[mid][0][2])"
   ]
  },
  {
   "cell_type": "code",
   "execution_count": null,
   "metadata": {},
   "outputs": [],
   "source": [
    "_ = prisk(ret[mid][0][1], ret[mid][0][2])"
   ]
  },
  {
   "cell_type": "code",
   "execution_count": null,
   "metadata": {},
   "outputs": [],
   "source": [
    "mid = 'pitmodel-2018'\n",
    "full_samples,full_tss = ret[mid][0][1], ret[mid][0][2]\n",
    "testcar = 12\n",
    "freq = '1min'\n",
    "start = pd.Timestamp(\"01-01-2019\", freq=freq) \n",
    "fc = SampleForecast(samples = full_samples[testcar][:, 12:], freq=freq, start_date=start + 12)\n",
    "index = pd.date_range(start='2019-01-01 00:00:00', freq = 'T', periods = len(full_tss[testcar]))\n",
    "ts = pd.DataFrame(index = index, data = full_tss[testcar])\n",
    "\n",
    "tss2 = np.zeros_like(full_tss[testcar])\n",
    "tss2[2:] = full_tss[testcar][:-2]\n",
    "index2 = pd.date_range(start='2019-01-01 00:00:00', freq = 'T', periods = len(full_tss[testcar]))\n",
    "\n",
    "ts2 = pd.DataFrame(index = index2, data = tss2)\n",
    "\n",
    "plot_prob_forecasts_ex([ts], [fc], ts2,'output-car12')"
   ]
  },
  {
   "cell_type": "code",
   "execution_count": null,
   "metadata": {},
   "outputs": [],
   "source": [
    "%debug"
   ]
  },
  {
   "cell_type": "code",
   "execution_count": null,
   "metadata": {},
   "outputs": [],
   "source": [
    "ret.keys()"
   ]
  },
  {
   "cell_type": "code",
   "execution_count": null,
   "metadata": {},
   "outputs": [],
   "source": [
    "np.mean(acc['pitmodel-RANK-2018-inlap-nopitage'],axis=0)"
   ]
  },
  {
   "cell_type": "code",
   "execution_count": null,
   "metadata": {},
   "outputs": [],
   "source": [
    "np.mean(acc['pitmodel-RANK-2019-inlap-nopitage'],axis=0)"
   ]
  },
  {
   "cell_type": "code",
   "execution_count": null,
   "metadata": {},
   "outputs": [],
   "source": [
    "pret['pitmodel-RANK-2018-inlap-nopitage']"
   ]
  },
  {
   "cell_type": "code",
   "execution_count": null,
   "metadata": {},
   "outputs": [],
   "source": [
    "pret['pitmodel-RANK-2019-inlap-nopitage']"
   ]
  },
  {
   "cell_type": "markdown",
   "metadata": {},
   "source": [
    "### save result df"
   ]
  },
  {
   "cell_type": "code",
   "execution_count": null,
   "metadata": {},
   "outputs": [],
   "source": [
    "df = ret['oracle-2018'][0][0]\n",
    "df.to_csv('result-shorterm_l2_2018_oracle.csv')"
   ]
  },
  {
   "cell_type": "code",
   "execution_count": null,
   "metadata": {},
   "outputs": [],
   "source": [
    "df = ret['pitmodel-2018'][0][0]\n",
    "df.to_csv('result-shorterm_l2_2018_pitmodel.csv')"
   ]
  },
  {
   "cell_type": "code",
   "execution_count": null,
   "metadata": {},
   "outputs": [],
   "source": [
    "df = ret['pitmodel-2018'][0][0]\n",
    "df.to_csv('result-shorterm_l2_2018_pitmodel.csv')"
   ]
  },
  {
   "cell_type": "code",
   "execution_count": null,
   "metadata": {},
   "outputs": [],
   "source": [
    "import numpy as np\n",
    "c = np.zeros((5,10))\n",
    "a = np.array([[1,2,3],[3,4,5]])"
   ]
  },
  {
   "cell_type": "code",
   "execution_count": null,
   "metadata": {},
   "outputs": [],
   "source": [
    "c[1:3,:3] = a"
   ]
  },
  {
   "cell_type": "code",
   "execution_count": null,
   "metadata": {},
   "outputs": [],
   "source": [
    "c\n"
   ]
  },
  {
   "cell_type": "code",
   "execution_count": null,
   "metadata": {},
   "outputs": [],
   "source": []
  }
 ],
 "metadata": {
  "kernelspec": {
   "display_name": "Python 3",
   "language": "python",
   "name": "python3"
  },
  "language_info": {
   "codemirror_mode": {
    "name": "ipython",
    "version": 3
   },
   "file_extension": ".py",
   "mimetype": "text/x-python",
   "name": "python",
   "nbconvert_exporter": "python",
   "pygments_lexer": "ipython3",
   "version": "3.6.10"
  }
 },
 "nbformat": 4,
 "nbformat_minor": 4
}
