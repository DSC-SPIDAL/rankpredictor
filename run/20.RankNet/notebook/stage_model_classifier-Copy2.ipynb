{
 "cells": [
  {
   "cell_type": "markdown",
   "metadata": {},
   "source": [
    "### stage_model_classifier\n",
    "\n",
    "base: 14./stage_model_classifier_withneighbor-newfeatures\n",
    "\n",
    "prediction models of sign classifiers on stage dataset\n",
    "\n",
    "data format:\n",
    "    target , eventid ,    car_number,    stageid,     features..."
   ]
  },
  {
   "cell_type": "code",
   "execution_count": 1,
   "metadata": {},
   "outputs": [],
   "source": [
    "%matplotlib inline\n",
    "\n",
    "import pandas as pd\n",
    "import numpy as np\n",
    "import matplotlib.pyplot as plt\n",
    "import random\n"
   ]
  },
  {
   "cell_type": "code",
   "execution_count": 2,
   "metadata": {},
   "outputs": [],
   "source": [
    "from sklearn.model_selection import train_test_split\n",
    "from sklearn.pipeline import Pipeline\n",
    "from sklearn.svm import LinearSVC, SVC\n",
    "from sklearn.linear_model import LogisticRegression\n",
    "from sklearn.ensemble import RandomForestClassifier\n",
    "from sklearn import metrics\n",
    "import xgboost as xgb\n"
   ]
  },
  {
   "cell_type": "code",
   "execution_count": 3,
   "metadata": {},
   "outputs": [],
   "source": [
    "# bulid regression model\n",
    "#classifiers = ['currank','avgrank','dice','lr','lrl1','lsvc','lsvcl2','rf','lrbias','xgb']\n",
    "classifiers = ['currank','avgrank','dice','lr','lsvc','lsvcl2','rf','lrbias','xgb']\n",
    "train_x, train_y, test_x, test_y = None, None, None, None\n",
    "\n",
    "def get_classifier(classifier = 'lr'):\n",
    "    \n",
    "    class_weight = None\n",
    "    \n",
    "    if classifier == \"lsvc\":\n",
    "        clf = LinearSVC(penalty='l1',dual=False, tol=1e-3, class_weight=class_weight )\n",
    "    elif classifier == \"lsvcl2\":\n",
    "        clf = LinearSVC(penalty='l2', tol=1e-4, class_weight=class_weight)\n",
    "    elif classifier == 'rf':\n",
    "        #clf = RandomForestClassifier(n_estimators=100, n_jobs=4,criterion='entropy', min_samples_split=1,class_weight = class_weight)\n",
    "        clf = RandomForestClassifier(n_estimators=100, n_jobs=-1,criterion='entropy', class_weight = class_weight)\n",
    "    elif classifier == 'lr':\n",
    "        clf = LogisticRegression(class_weight = class_weight, n_jobs=-1, fit_intercept = False, verbose = 0)\n",
    "    elif classifier == 'lrbias':\n",
    "        clf = LogisticRegression(class_weight = class_weight, n_jobs=-1, fit_intercept = True, verbose = 1)\n",
    "    elif classifier == 'lrl1':\n",
    "        clf = LogisticRegression(class_weight = class_weight, penalty='l1',n_jobs=-1)\n",
    "    elif classifier == 'xgb':\n",
    "        clf = xgb.XGBClassifier(booster = 'gbtree', nthread = -1, subsample = 1, \n",
    "                                n_estimators = 600, colsample_bytree = 1, max_depth = 6, min_child_weight = 1)\n",
    "    elif classifier == 'dice':\n",
    "        clf = RandomDice('1234')\n",
    "    elif classifier == 'currank':\n",
    "        clf = CurRank()\n",
    "    elif classifier == 'avgrank':\n",
    "        clf = AverageRank()        \n",
    "    else:\n",
    "        clf = None\n",
    "        \n",
    "    return clf\n",
    "\n",
    "\n",
    "class CurRank():\n",
    "    \"\"\"\n",
    "    predict with current rank\n",
    "    \"\"\"\n",
    "    def __init__(self):\n",
    "        pass\n",
    "    def fit(self, x, y):\n",
    "        pass\n",
    "    def predict(self, test_x):\n",
    "        pred_y = [0 for x in range(test_x.shape[0])]\n",
    "        return np.array(pred_y)\n",
    "    \n",
    "class AverageRank():\n",
    "    \"\"\"\n",
    "    print('[*] predict with average rankchg (change_in_rank_all):idx = 15')\n",
    "    change_in_rank_all = test[:,15]\n",
    "    pred_y_avg = np.array([1 if x > 0 else (-1 if x < 0 else 0) for x in change_in_rank_all])\n",
    "    \"\"\"\n",
    "    def __init__(self):\n",
    "        pass\n",
    "    def fit(self, x, y):\n",
    "        pass\n",
    "    def predict(self, test_x):\n",
    "        pred_y = []\n",
    "        for x in test_x:\n",
    "            #13, change_in_rank_all\n",
    "            pred_y.append(x[13])\n",
    "        pred_y_avg = np.array([1 if x > 0 else (-1 if x < 0 else 0) for x in pred_y])\n",
    "        return np.array(pred_y_avg)   \n",
    "\n",
    "class RandomDice():\n",
    "    \"\"\"\n",
    "    a random dice model\n",
    "    \"\"\"\n",
    "    def __init__(self, seed='1234'):\n",
    "        self.dist = []\n",
    "        self.val = []\n",
    "        random.seed(seed)\n",
    "    \n",
    "    def fit(self, x, y):\n",
    "        total = y.shape[0]\n",
    "        yval = set(y)\n",
    "        \n",
    "        ratio = 0.\n",
    "        for val in yval:\n",
    "            self.val.append(val)\n",
    "            ratio += np.sum(y==val)*1.0 / total\n",
    "            self.dist.append(ratio)\n",
    "            \n",
    "    def predict(self, test_x):\n",
    "        pred_y = []\n",
    "        for x in test_x:\n",
    "            dice = random.random()\n",
    "            #search in self.dist\n",
    "            find_idx = -1\n",
    "            for idx, ratio in enumerate(self.dist):\n",
    "                if dice <= ratio:\n",
    "                    find_idx = idx\n",
    "                    break\n",
    "            \n",
    "            #or the last one match\n",
    "            pred_y.append(self.val[find_idx])\n",
    "            \n",
    "        return np.array(pred_y)\n",
    "\n",
    "def evaluate(test_y, pred_y):\n",
    "    precision = metrics.precision_score(test_y, pred_y, average=None) \n",
    "    recall = metrics.recall_score(test_y, pred_y, average=None)\n",
    "    f1 = metrics.f1_score(test_y, pred_y, average=None)\n",
    "    accuracy = metrics.accuracy_score(test_y, pred_y)\n",
    "    print('precision=%s, recall=%s, f1=%s, accuracy=%.2f'%(precision,recall, f1, accuracy))\n",
    "    return accuracy\n",
    "    \n",
    "#\n",
    "#features\n",
    "#    cols=[Myidx, 'target','eventid','car_number','stageid',\n",
    "#             'firststage','pit_in_caution','start_position',\n",
    "#             'start_rank','start_rank_ratio','top_pack','bottom_pack',\n",
    "#             'average_rank','average_rank_all',\n",
    "#             'change_in_rank','change_in_rank_all','rate_of_change','rate_of_change_all']    \n",
    "def split_by_eventid(stagedata, eventid):\n",
    "    \"\"\"\n",
    "    split by eventid\n",
    "    \"\"\"\n",
    "    #if not eventid in stagedata:\n",
    "    #    print('error, %d not found in stagedata'%eventid)\n",
    "    #    return\n",
    "    \n",
    "    train = stagedata[stagedata['eventid'] != eventid].to_numpy()\n",
    "    test  = stagedata[stagedata['eventid'] == eventid].to_numpy()\n",
    "\n",
    "    #2:car_number\n",
    "    train_x = train[:,2:]\n",
    "    train_y = np.array([1 if x > 0 else (-1 if x < 0 else 0) for x in train[:,1]])\n",
    "    test_x = test[:,2:]\n",
    "    test_y = np.array([1 if x > 0 else (-1 if x < 0 else 0) for x in test[:,1]])\n",
    "    \n",
    "    return train, test, train_x, train_y, test_x, test_y\n",
    "\n",
    "\n",
    "def split_by_stageid(stagedata, stageid):\n",
    "    \"\"\"\n",
    "    split by stageid\n",
    "    \"\"\"\n",
    "    #if not eventid in stagedata:\n",
    "    #    print('error, %d not found in stagedata'%eventid)\n",
    "    #    return\n",
    "    \n",
    "    train = stagedata[stagedata['stageid'] <= stageid].to_numpy()\n",
    "    test  = stagedata[stagedata['stageid'] > stageid].to_numpy()\n",
    "\n",
    "    train_x = train[:,2:]\n",
    "    train_y = np.array([1 if x > 0 else (-1 if x < 0 else 0) for x in train[:,1]])\n",
    "    test_x = test[:,2:]\n",
    "    test_y = np.array([1 if x > 0 else (-1 if x < 0 else 0) for x in test[:,1]])\n",
    "    \n",
    "    return train, test, train_x, train_y, test_x, test_y\n",
    "\n",
    "\n",
    "### baseline\n",
    "def baseline_model():\n",
    "    #1. predict with current rank, rankchg = 0\n",
    "    print('[*] predict with current rank, rankchg = 0')\n",
    "    pred_y_simple = np.zeros_like(test_y)\n",
    "    score1 = evaluate(test_y, pred_y_simple)\n",
    "\n",
    "    #2. predict with average rankchg (change_in_rank_all):idx = 15\n",
    "    print('[*] predict with average rankchg (change_in_rank_all):idx = 15')\n",
    "    change_in_rank_all = test[:,15]\n",
    "    pred_y_avg = np.array([1 if x > 0 else (-1 if x < 0 else 0) for x in change_in_rank_all])\n",
    "    score2 = evaluate(test_y, pred_y_avg)\n",
    "    return score1, score2\n",
    "\n",
    "def classifier_model(name='lr'):\n",
    "    ### test learning models\n",
    "    print('[*] predict with %s model'%name)\n",
    "    clf = get_classifier(name)\n",
    "    clf.fit(train_x, train_y)\n",
    "\n",
    "    pred_y = clf.predict(test_x)\n",
    "    score = evaluate(test_y, pred_y)\n",
    "    return score"
   ]
  },
  {
   "cell_type": "code",
   "execution_count": 4,
   "metadata": {},
   "outputs": [],
   "source": [
    "def test_20182019():\n",
    "    global train_x, train_y, test_x, test_y\n",
    "    \n",
    "    ### fix train\n",
    "    cols = ['runid','trainsize','testsize','testdistribution']\n",
    "    cols.extend(classifiers)\n",
    "    print('cols:%s'%cols)\n",
    "    retdf = pd.DataFrame([],columns=cols)\n",
    "\n",
    "\n",
    "    events = set(stagedata['eventid'])\n",
    "\n",
    "    years = ['2013','2014','2015','2016','2017','2018','2019']\n",
    "    #events = ['Indy500']\n",
    "    eventsname = [f'Indy500-{x}' for x in years]\n",
    "    events_id={key:idx for idx, key in enumerate(eventsname)}\n",
    "\n",
    "    #first \n",
    "    eventid = events_id['Indy500-2018']\n",
    "    ignore_eventid = events_id['Indy500-2019']\n",
    "    stdata_2018 = stagedata[stagedata['eventid']!=ignore_eventid]\n",
    "\n",
    "    print('Testset = %s'%eventsname[eventid])\n",
    "\n",
    "    train, test, train_x, train_y, test_x, test_y = split_by_eventid(stdata_2018, eventid)\n",
    "    test_distribution = '+:%d,0:%d,-:%d'%(np.sum(test_y>0),np.sum(test_y==0),np.sum(test_y<0))\n",
    "    #print('Testset by stageid= %s, trainsize=%d, testsize=%d, dist=%s'%\n",
    "    #      (stageid, train_x.shape[0], test_x.shape[0], test_distribution))\n",
    "\n",
    "    #record\n",
    "    rec = [eventsname[eventid],train_x.shape[0],test_x.shape[0],test_distribution]\n",
    "\n",
    "    acc = [0 for x in range(len(classifiers))]\n",
    "    for idx, clf in enumerate(classifiers):\n",
    "        acc[idx] = classifier_model(clf)\n",
    "\n",
    "    rec.extend(acc)\n",
    "    print('rec:%s'%rec)\n",
    "\n",
    "    #new df\n",
    "    df = pd.DataFrame([rec],columns=cols)\n",
    "    retdf = pd.concat([retdf, df])        \n",
    "\n",
    "\n",
    "    eventid = events_id['Indy500-2019']\n",
    "    ignore_eventid = events_id['Indy500-2018']\n",
    "    stdata_2019 = stagedata[stagedata['eventid']!=ignore_eventid]\n",
    "\n",
    "    print('Testset = %s'%eventsname[eventid])\n",
    "\n",
    "    train2, test2, train_x2, train_y2, test_x, test_y = split_by_eventid(stdata_2019, eventid)\n",
    "    test_distribution = '+:%d,0:%d,-:%d'%(np.sum(test_y>0),np.sum(test_y==0),np.sum(test_y<0))\n",
    "\n",
    "    #record\n",
    "    rec = [eventsname[eventid],train_x.shape[0],test_x.shape[0],test_distribution]\n",
    "\n",
    "    acc = [0 for x in range(len(classifiers))]\n",
    "    for idx, clf in enumerate(classifiers):\n",
    "        acc[idx] = classifier_model(clf)\n",
    "\n",
    "    rec.extend(acc)\n",
    "    print('rec:%s'%rec)\n",
    "\n",
    "    #new df\n",
    "    df = pd.DataFrame([rec],columns=cols)\n",
    "    retdf = pd.concat([retdf, df]) \n",
    "    \n",
    "    retdf.to_csv(f'stint_classifier_result_{suffix}.csv', float_format='%.3f')\n",
    "    return retdf\n",
    "\n",
    "def test_cv():\n",
    "    global train_x, train_y, test_x, test_y\n",
    "    \n",
    "    cols = ['runid','trainsize','testsize','testdistribution']\n",
    "    cols.extend(classifiers)\n",
    "    print('cols:%s'%cols)\n",
    "    retdf = pd.DataFrame([],columns=cols)\n",
    "\n",
    "\n",
    "    events = set(stagedata['eventid'])\n",
    "\n",
    "    years = ['2013','2014','2015','2016','2017','2018','2019']\n",
    "    #events = ['Indy500']\n",
    "    eventsname = [f'Indy500-{x}' for x in years]\n",
    "    events_id={key:idx for idx, key in enumerate(eventsname)}\n",
    "\n",
    "\n",
    "    for eventid in events:\n",
    "        print('Testset = %s'%eventsname[eventid])\n",
    "\n",
    "        train, test, train_x, train_y, test_x, test_y = split_by_eventid(stagedata, eventid)\n",
    "        test_distribution = '+:%d,0:%d,-:%d'%(np.sum(test_y>0),np.sum(test_y==0),np.sum(test_y<0))\n",
    "        #print('Testset by stageid= %s, trainsize=%d, testsize=%d, dist=%s'%\n",
    "        #      (stageid, train_x.shape[0], test_x.shape[0], test_distribution))\n",
    "\n",
    "        #record\n",
    "        rec = [eventsname[eventid],train_x.shape[0],test_x.shape[0],test_distribution]\n",
    "\n",
    "        acc = [0 for x in range(len(classifiers))]\n",
    "        for idx, clf in enumerate(classifiers):\n",
    "            acc[idx] = classifier_model(clf)\n",
    "\n",
    "        rec.extend(acc)\n",
    "        print('rec:%s'%rec)\n",
    "\n",
    "        #new df\n",
    "        df = pd.DataFrame([rec],columns=cols)\n",
    "        retdf = pd.concat([retdf, df])        \n",
    "\n",
    "    retdf.to_csv('crossvalid_stagedata_classifier_%s.csv'%suffix, float_format='%.3f')\n",
    "    #df_event = retdf\n",
    "    return retdf"
   ]
  },
  {
   "cell_type": "markdown",
   "metadata": {},
   "source": [
    "### test oracle with stintlen"
   ]
  },
  {
   "cell_type": "code",
   "execution_count": 15,
   "metadata": {},
   "outputs": [
    {
     "name": "stdout",
     "output_type": "stream",
     "text": [
      "<class 'pandas.core.frame.DataFrame'>\n",
      "RangeIndex: 1522 entries, 0 to 1521\n",
      "Data columns (total 36 columns):\n",
      "Unnamed: 0                   1522 non-null int64\n",
      "target                       1522 non-null int64\n",
      "stint_len                    1522 non-null int64\n",
      "eventid                      1522 non-null int64\n",
      "car_number                   1522 non-null int64\n",
      "stageid                      1522 non-null int64\n",
      "firststage                   1522 non-null int64\n",
      "pit_in_caution               1522 non-null int64\n",
      "start_position               1522 non-null int64\n",
      "start_rank                   1522 non-null int64\n",
      "start_rank_ratio             1522 non-null float64\n",
      "top_pack                     1522 non-null int64\n",
      "bottom_pack                  1522 non-null int64\n",
      "average_rank                 1522 non-null float64\n",
      "average_rank_all             1522 non-null float64\n",
      "change_in_rank               1522 non-null int64\n",
      "change_in_rank_all           1522 non-null float64\n",
      "rate_of_change               1522 non-null int64\n",
      "rate_of_change_all           1522 non-null float64\n",
      "laptime_green_mean_prev      1522 non-null float64\n",
      "laptime_green_std_prev       1522 non-null float64\n",
      "laptime_green_mean_all       1522 non-null float64\n",
      "laptime_green_std_all        1522 non-null float64\n",
      "laptime_mean_prev            1522 non-null float64\n",
      "laptime_std_prev             1522 non-null float64\n",
      "laptime_mean_all             1522 non-null float64\n",
      "laptime_std_all              1522 non-null float64\n",
      "laps_prev                    1522 non-null int64\n",
      "laps_after_last_pitstop      1522 non-null int64\n",
      "pittime_prev                 1522 non-null float64\n",
      "prev_nb0_change_in_rank      1522 non-null int64\n",
      "prev_nb1_change_in_rank      1522 non-null int64\n",
      "prev_nb2_change_in_rank      1522 non-null int64\n",
      "follow_nb0_change_in_rank    1522 non-null int64\n",
      "follow_nb1_change_in_rank    1522 non-null int64\n",
      "follow_nb2_change_in_rank    1522 non-null int64\n",
      "dtypes: float64(14), int64(22)\n",
      "memory usage: 428.2 KB\n"
     ]
    }
   ],
   "source": [
    "#load data\n",
    "_trim = 0\n",
    "_include_final = True\n",
    "_include_stintlen = True\n",
    "include_str = '1' if _include_final else '0'\n",
    "stint_str = '1' if _include_stintlen else ''\n",
    "suffix = f'indy500-2013-2019-end{include_str}{stint_str}-t{_trim}'\n",
    "output_file = f'stage-indy500-2013-2019-end{include_str}{stint_str}-t{_trim}.csv'\n",
    "stagedata = pd.read_csv(output_file)\n",
    "\n",
    "stagedata.fillna(0, inplace=True)\n",
    "stagedata.info()"
   ]
  },
  {
   "cell_type": "code",
   "execution_count": 6,
   "metadata": {},
   "outputs": [
    {
     "data": {
      "text/html": [
       "<div>\n",
       "<style scoped>\n",
       "    .dataframe tbody tr th:only-of-type {\n",
       "        vertical-align: middle;\n",
       "    }\n",
       "\n",
       "    .dataframe tbody tr th {\n",
       "        vertical-align: top;\n",
       "    }\n",
       "\n",
       "    .dataframe thead th {\n",
       "        text-align: right;\n",
       "    }\n",
       "</style>\n",
       "<table border=\"1\" class=\"dataframe\">\n",
       "  <thead>\n",
       "    <tr style=\"text-align: right;\">\n",
       "      <th></th>\n",
       "      <th>Unnamed: 0</th>\n",
       "      <th>target</th>\n",
       "      <th>stint_len</th>\n",
       "      <th>eventid</th>\n",
       "      <th>car_number</th>\n",
       "      <th>stageid</th>\n",
       "      <th>firststage</th>\n",
       "      <th>pit_in_caution</th>\n",
       "      <th>start_position</th>\n",
       "      <th>start_rank</th>\n",
       "      <th>...</th>\n",
       "      <th>laptime_std_all</th>\n",
       "      <th>laps_prev</th>\n",
       "      <th>laps_after_last_pitstop</th>\n",
       "      <th>pittime_prev</th>\n",
       "      <th>prev_nb0_change_in_rank</th>\n",
       "      <th>prev_nb1_change_in_rank</th>\n",
       "      <th>prev_nb2_change_in_rank</th>\n",
       "      <th>follow_nb0_change_in_rank</th>\n",
       "      <th>follow_nb1_change_in_rank</th>\n",
       "      <th>follow_nb2_change_in_rank</th>\n",
       "    </tr>\n",
       "  </thead>\n",
       "  <tbody>\n",
       "    <tr>\n",
       "      <th>0</th>\n",
       "      <td>1</td>\n",
       "      <td>-12</td>\n",
       "      <td>27</td>\n",
       "      <td>0</td>\n",
       "      <td>1</td>\n",
       "      <td>1</td>\n",
       "      <td>1</td>\n",
       "      <td>0</td>\n",
       "      <td>7</td>\n",
       "      <td>15</td>\n",
       "      <td>...</td>\n",
       "      <td>22.910400</td>\n",
       "      <td>31</td>\n",
       "      <td>31</td>\n",
       "      <td>66.08150</td>\n",
       "      <td>2</td>\n",
       "      <td>8</td>\n",
       "      <td>0</td>\n",
       "      <td>14</td>\n",
       "      <td>6</td>\n",
       "      <td>3</td>\n",
       "    </tr>\n",
       "    <tr>\n",
       "      <th>1</th>\n",
       "      <td>2</td>\n",
       "      <td>14</td>\n",
       "      <td>32</td>\n",
       "      <td>0</td>\n",
       "      <td>1</td>\n",
       "      <td>2</td>\n",
       "      <td>1</td>\n",
       "      <td>1</td>\n",
       "      <td>7</td>\n",
       "      <td>3</td>\n",
       "      <td>...</td>\n",
       "      <td>23.822858</td>\n",
       "      <td>27</td>\n",
       "      <td>27</td>\n",
       "      <td>62.06770</td>\n",
       "      <td>-19</td>\n",
       "      <td>-21</td>\n",
       "      <td>0</td>\n",
       "      <td>-3</td>\n",
       "      <td>-21</td>\n",
       "      <td>-17</td>\n",
       "    </tr>\n",
       "    <tr>\n",
       "      <th>2</th>\n",
       "      <td>3</td>\n",
       "      <td>-7</td>\n",
       "      <td>32</td>\n",
       "      <td>0</td>\n",
       "      <td>1</td>\n",
       "      <td>3</td>\n",
       "      <td>1</td>\n",
       "      <td>0</td>\n",
       "      <td>7</td>\n",
       "      <td>17</td>\n",
       "      <td>...</td>\n",
       "      <td>21.857882</td>\n",
       "      <td>32</td>\n",
       "      <td>32</td>\n",
       "      <td>91.23935</td>\n",
       "      <td>11</td>\n",
       "      <td>-2</td>\n",
       "      <td>-3</td>\n",
       "      <td>7</td>\n",
       "      <td>17</td>\n",
       "      <td>19</td>\n",
       "    </tr>\n",
       "    <tr>\n",
       "      <th>3</th>\n",
       "      <td>4</td>\n",
       "      <td>5</td>\n",
       "      <td>30</td>\n",
       "      <td>0</td>\n",
       "      <td>1</td>\n",
       "      <td>4</td>\n",
       "      <td>1</td>\n",
       "      <td>0</td>\n",
       "      <td>7</td>\n",
       "      <td>10</td>\n",
       "      <td>...</td>\n",
       "      <td>19.394133</td>\n",
       "      <td>32</td>\n",
       "      <td>32</td>\n",
       "      <td>61.19415</td>\n",
       "      <td>-15</td>\n",
       "      <td>-9</td>\n",
       "      <td>-6</td>\n",
       "      <td>0</td>\n",
       "      <td>4</td>\n",
       "      <td>-6</td>\n",
       "    </tr>\n",
       "    <tr>\n",
       "      <th>4</th>\n",
       "      <td>5</td>\n",
       "      <td>-3</td>\n",
       "      <td>29</td>\n",
       "      <td>0</td>\n",
       "      <td>1</td>\n",
       "      <td>5</td>\n",
       "      <td>1</td>\n",
       "      <td>0</td>\n",
       "      <td>7</td>\n",
       "      <td>15</td>\n",
       "      <td>...</td>\n",
       "      <td>17.737505</td>\n",
       "      <td>30</td>\n",
       "      <td>30</td>\n",
       "      <td>60.85410</td>\n",
       "      <td>-3</td>\n",
       "      <td>0</td>\n",
       "      <td>0</td>\n",
       "      <td>-3</td>\n",
       "      <td>-3</td>\n",
       "      <td>0</td>\n",
       "    </tr>\n",
       "  </tbody>\n",
       "</table>\n",
       "<p>5 rows × 36 columns</p>\n",
       "</div>"
      ],
      "text/plain": [
       "   Unnamed: 0  target  stint_len  eventid  car_number  stageid  firststage  \\\n",
       "0           1     -12         27        0           1        1           1   \n",
       "1           2      14         32        0           1        2           1   \n",
       "2           3      -7         32        0           1        3           1   \n",
       "3           4       5         30        0           1        4           1   \n",
       "4           5      -3         29        0           1        5           1   \n",
       "\n",
       "   pit_in_caution  start_position  start_rank  ...  laptime_std_all  \\\n",
       "0               0               7          15  ...        22.910400   \n",
       "1               1               7           3  ...        23.822858   \n",
       "2               0               7          17  ...        21.857882   \n",
       "3               0               7          10  ...        19.394133   \n",
       "4               0               7          15  ...        17.737505   \n",
       "\n",
       "   laps_prev  laps_after_last_pitstop  pittime_prev  prev_nb0_change_in_rank  \\\n",
       "0         31                       31      66.08150                        2   \n",
       "1         27                       27      62.06770                      -19   \n",
       "2         32                       32      91.23935                       11   \n",
       "3         32                       32      61.19415                      -15   \n",
       "4         30                       30      60.85410                       -3   \n",
       "\n",
       "   prev_nb1_change_in_rank  prev_nb2_change_in_rank  \\\n",
       "0                        8                        0   \n",
       "1                      -21                        0   \n",
       "2                       -2                       -3   \n",
       "3                       -9                       -6   \n",
       "4                        0                        0   \n",
       "\n",
       "   follow_nb0_change_in_rank  follow_nb1_change_in_rank  \\\n",
       "0                         14                          6   \n",
       "1                         -3                        -21   \n",
       "2                          7                         17   \n",
       "3                          0                          4   \n",
       "4                         -3                         -3   \n",
       "\n",
       "   follow_nb2_change_in_rank  \n",
       "0                          3  \n",
       "1                        -17  \n",
       "2                         19  \n",
       "3                         -6  \n",
       "4                          0  \n",
       "\n",
       "[5 rows x 36 columns]"
      ]
     },
     "execution_count": 6,
     "metadata": {},
     "output_type": "execute_result"
    }
   ],
   "source": [
    "stagedata.head(5)"
   ]
  },
  {
   "cell_type": "code",
   "execution_count": 7,
   "metadata": {},
   "outputs": [
    {
     "name": "stdout",
     "output_type": "stream",
     "text": [
      "cols:['runid', 'trainsize', 'testsize', 'testdistribution', 'currank', 'avgrank', 'dice', 'lr', 'lsvc', 'lsvcl2', 'rf', 'lrbias', 'xgb']\n",
      "Testset = Indy500-2013\n",
      "[*] predict with currank model\n",
      "precision=[0.         0.14871795 0.        ], recall=[0. 1. 0.], f1=[0.         0.25892857 0.        ], accuracy=0.15\n",
      "[*] predict with avgrank model\n",
      "precision=[0.40425532 0.33333333 0.22972973], recall=[0.3877551  0.31034483 0.25      ], f1=[0.39583333 0.32142857 0.23943662], accuracy=0.33\n",
      "[*] predict with dice model\n",
      "precision=[0.46902655 0.2173913  0.27118644], recall=[0.54081633 0.17241379 0.23529412], f1=[0.50236967 0.19230769 0.2519685 ], accuracy=0.38\n",
      "[*] predict with lr model\n"
     ]
    },
    {
     "name": "stderr",
     "output_type": "stream",
     "text": [
      "/scratch_ssd/hpda/anaconda3/envs/gluonts/lib/python3.6/site-packages/sklearn/metrics/_classification.py:1272: UndefinedMetricWarning: Precision is ill-defined and being set to 0.0 in labels with no predicted samples. Use `zero_division` parameter to control this behavior.\n",
      "  _warn_prf(average, modifier, msg_start, len(result))\n"
     ]
    },
    {
     "name": "stdout",
     "output_type": "stream",
     "text": [
      "precision=[0.61538462 0.5        0.6031746 ], recall=[0.81632653 0.03448276 0.55882353], f1=[0.70175439 0.06451613 0.58015267], accuracy=0.61\n",
      "[*] predict with lsvc model\n"
     ]
    },
    {
     "name": "stderr",
     "output_type": "stream",
     "text": [
      "/scratch_ssd/hpda/anaconda3/envs/gluonts/lib/python3.6/site-packages/sklearn/svm/_base.py:947: ConvergenceWarning: Liblinear failed to converge, increase the number of iterations.\n",
      "  \"the number of iterations.\", ConvergenceWarning)\n"
     ]
    },
    {
     "name": "stdout",
     "output_type": "stream",
     "text": [
      "precision=[0.625 0.5   0.6  ], recall=[0.81632653 0.03448276 0.57352941], f1=[0.7079646  0.06451613 0.58646617], accuracy=0.62\n",
      "[*] predict with lsvcl2 model\n"
     ]
    },
    {
     "name": "stderr",
     "output_type": "stream",
     "text": [
      "/scratch_ssd/hpda/anaconda3/envs/gluonts/lib/python3.6/site-packages/sklearn/svm/_base.py:947: ConvergenceWarning: Liblinear failed to converge, increase the number of iterations.\n",
      "  \"the number of iterations.\", ConvergenceWarning)\n"
     ]
    },
    {
     "name": "stdout",
     "output_type": "stream",
     "text": [
      "precision=[0.56441718 0.25       0.57142857], recall=[0.93877551 0.03448276 0.23529412], f1=[0.70498084 0.06060606 0.33333333], accuracy=0.56\n",
      "[*] predict with rf model\n",
      "precision=[0.6259542  0.66666667 0.60655738], recall=[0.83673469 0.06896552 0.54411765], f1=[0.71615721 0.125      0.57364341], accuracy=0.62\n",
      "[*] predict with lrbias model\n"
     ]
    },
    {
     "name": "stderr",
     "output_type": "stream",
     "text": [
      "[Parallel(n_jobs=-1)]: Using backend LokyBackend with 20 concurrent workers.\n",
      "[Parallel(n_jobs=-1)]: Done   1 out of   1 | elapsed:    0.4s finished\n"
     ]
    },
    {
     "name": "stdout",
     "output_type": "stream",
     "text": [
      "precision=[0.62015504 0.5        0.609375  ], recall=[0.81632653 0.03448276 0.57352941], f1=[0.70484581 0.06451613 0.59090909], accuracy=0.62\n",
      "[*] predict with xgb model\n",
      "precision=[0.66393443 0.5        0.60869565], recall=[0.82653061 0.06896552 0.61764706], f1=[0.73636364 0.12121212 0.61313869], accuracy=0.64\n",
      "rec:['Indy500-2013', 1327, 195, '+:68,0:29,-:98', 0.14871794871794872, 0.3282051282051282, 0.37948717948717947, 0.6102564102564103, 0.6153846153846154, 0.558974358974359, 0.6205128205128205, 0.6153846153846154, 0.6410256410256411]\n",
      "Testset = Indy500-2014\n",
      "[*] predict with currank model\n",
      "precision=[0.         0.19111111 0.        ], recall=[0. 1. 0.], f1=[0.         0.32089552 0.        ], accuracy=0.19\n",
      "[*] predict with avgrank model\n",
      "precision=[0.47058824 0.24242424 0.2739726 ], recall=[0.47058824 0.18604651 0.31746032], f1=[0.47058824 0.21052632 0.29411765], accuracy=0.37\n",
      "[*] predict with dice model\n",
      "precision=[0.51908397 0.07407407 0.29850746], recall=[0.57142857 0.04651163 0.31746032], f1=[0.544      0.05714286 0.30769231], accuracy=0.40\n",
      "[*] predict with lr model\n"
     ]
    },
    {
     "name": "stderr",
     "output_type": "stream",
     "text": [
      "/scratch_ssd/hpda/anaconda3/envs/gluonts/lib/python3.6/site-packages/sklearn/metrics/_classification.py:1272: UndefinedMetricWarning: Precision is ill-defined and being set to 0.0 in labels with no predicted samples. Use `zero_division` parameter to control this behavior.\n",
      "  _warn_prf(average, modifier, msg_start, len(result))\n"
     ]
    },
    {
     "name": "stdout",
     "output_type": "stream",
     "text": [
      "precision=[0.70967742 0.41666667 0.4494382 ], recall=[0.7394958  0.11627907 0.63492063], f1=[0.72427984 0.18181818 0.52631579], accuracy=0.59\n",
      "[*] predict with lsvc model\n"
     ]
    },
    {
     "name": "stderr",
     "output_type": "stream",
     "text": [
      "/scratch_ssd/hpda/anaconda3/envs/gluonts/lib/python3.6/site-packages/sklearn/svm/_base.py:947: ConvergenceWarning: Liblinear failed to converge, increase the number of iterations.\n",
      "  \"the number of iterations.\", ConvergenceWarning)\n"
     ]
    },
    {
     "name": "stdout",
     "output_type": "stream",
     "text": [
      "precision=[0.7109375  0.4        0.44827586], recall=[0.76470588 0.09302326 0.61904762], f1=[0.73684211 0.1509434  0.52      ], accuracy=0.60\n",
      "[*] predict with lsvcl2 model\n"
     ]
    },
    {
     "name": "stderr",
     "output_type": "stream",
     "text": [
      "/scratch_ssd/hpda/anaconda3/envs/gluonts/lib/python3.6/site-packages/sklearn/svm/_base.py:947: ConvergenceWarning: Liblinear failed to converge, increase the number of iterations.\n",
      "  \"the number of iterations.\", ConvergenceWarning)\n"
     ]
    },
    {
     "name": "stdout",
     "output_type": "stream",
     "text": [
      "precision=[0.86666667 0.2038835  0.42056075], recall=[0.1092437  0.48837209 0.71428571], f1=[0.19402985 0.28767123 0.52941176], accuracy=0.35\n",
      "[*] predict with rf model\n",
      "precision=[0.70769231 0.8        0.4       ], recall=[0.77310924 0.09302326 0.57142857], f1=[0.73895582 0.16666667 0.47058824], accuracy=0.59\n",
      "[*] predict with lrbias model\n"
     ]
    },
    {
     "name": "stderr",
     "output_type": "stream",
     "text": [
      "[Parallel(n_jobs=-1)]: Using backend LokyBackend with 20 concurrent workers.\n",
      "[Parallel(n_jobs=-1)]: Done   1 out of   1 | elapsed:    0.5s finished\n"
     ]
    },
    {
     "name": "stdout",
     "output_type": "stream",
     "text": [
      "precision=[0.712      0.41666667 0.45454545], recall=[0.74789916 0.11627907 0.63492063], f1=[0.7295082  0.18181818 0.52980132], accuracy=0.60\n",
      "[*] predict with xgb model\n",
      "precision=[0.66129032 0.26666667 0.40697674], recall=[0.68907563 0.09302326 0.55555556], f1=[0.67489712 0.13793103 0.46979866], accuracy=0.54\n",
      "rec:['Indy500-2014', 1297, 225, '+:63,0:43,-:119', 0.19111111111111112, 0.37333333333333335, 0.4, 0.5911111111111111, 0.5955555555555555, 0.3511111111111111, 0.5866666666666667, 0.5955555555555555, 0.5377777777777778]\n",
      "Testset = Indy500-2015\n",
      "[*] predict with currank model\n",
      "precision=[0.         0.13333333 0.        ], recall=[0. 1. 0.], f1=[0.         0.23529412 0.        ], accuracy=0.13\n",
      "[*] predict with avgrank model\n",
      "precision=[0.27472527 0.2173913  0.24691358], recall=[0.26315789 0.19230769 0.27027027], f1=[0.2688172  0.20408163 0.25806452], accuracy=0.26\n",
      "[*] predict with dice model\n",
      "precision=[0.53508772 0.125      0.40350877], recall=[0.64210526 0.11538462 0.31081081], f1=[0.58373206 0.12       0.35114504], accuracy=0.45\n",
      "[*] predict with lr model\n"
     ]
    },
    {
     "name": "stderr",
     "output_type": "stream",
     "text": [
      "/scratch_ssd/hpda/anaconda3/envs/gluonts/lib/python3.6/site-packages/sklearn/metrics/_classification.py:1272: UndefinedMetricWarning: Precision is ill-defined and being set to 0.0 in labels with no predicted samples. Use `zero_division` parameter to control this behavior.\n",
      "  _warn_prf(average, modifier, msg_start, len(result))\n"
     ]
    },
    {
     "name": "stdout",
     "output_type": "stream",
     "text": [
      "precision=[0.66371681 1.         0.625     ], recall=[0.78947368 0.07692308 0.67567568], f1=[0.72115385 0.14285714 0.64935065], accuracy=0.65\n",
      "[*] predict with lsvc model\n"
     ]
    },
    {
     "name": "stderr",
     "output_type": "stream",
     "text": [
      "/scratch_ssd/hpda/anaconda3/envs/gluonts/lib/python3.6/site-packages/sklearn/svm/_base.py:947: ConvergenceWarning: Liblinear failed to converge, increase the number of iterations.\n",
      "  \"the number of iterations.\", ConvergenceWarning)\n"
     ]
    },
    {
     "name": "stdout",
     "output_type": "stream",
     "text": [
      "precision=[0.67924528 1.         0.60227273], recall=[0.75789474 0.03846154 0.71621622], f1=[0.71641791 0.07407407 0.65432099], accuracy=0.65\n",
      "[*] predict with lsvcl2 model\n"
     ]
    },
    {
     "name": "stderr",
     "output_type": "stream",
     "text": [
      "/scratch_ssd/hpda/anaconda3/envs/gluonts/lib/python3.6/site-packages/sklearn/svm/_base.py:947: ConvergenceWarning: Liblinear failed to converge, increase the number of iterations.\n",
      "  \"the number of iterations.\", ConvergenceWarning)\n",
      "/scratch_ssd/hpda/anaconda3/envs/gluonts/lib/python3.6/site-packages/sklearn/metrics/_classification.py:1272: UndefinedMetricWarning: Precision is ill-defined and being set to 0.0 in labels with no predicted samples. Use `zero_division` parameter to control this behavior.\n",
      "  _warn_prf(average, modifier, msg_start, len(result))\n"
     ]
    },
    {
     "name": "stdout",
     "output_type": "stream",
     "text": [
      "precision=[0.60447761 0.         0.60655738], recall=[0.85263158 0.         0.5       ], f1=[0.70742358 0.         0.54814815], accuracy=0.61\n",
      "[*] predict with rf model\n",
      "precision=[0.65517241 0.66666667 0.67105263], recall=[0.8        0.07692308 0.68918919], f1=[0.72037915 0.13793103 0.68      ], accuracy=0.66\n",
      "[*] predict with lrbias model\n"
     ]
    },
    {
     "name": "stderr",
     "output_type": "stream",
     "text": [
      "[Parallel(n_jobs=-1)]: Using backend LokyBackend with 20 concurrent workers.\n",
      "[Parallel(n_jobs=-1)]: Done   1 out of   1 | elapsed:    0.4s finished\n"
     ]
    },
    {
     "name": "stdout",
     "output_type": "stream",
     "text": [
      "precision=[0.66371681 1.         0.625     ], recall=[0.78947368 0.07692308 0.67567568], f1=[0.72115385 0.14285714 0.64935065], accuracy=0.65\n",
      "[*] predict with xgb model\n",
      "precision=[0.68032787 0.5        0.71641791], recall=[0.87368421 0.11538462 0.64864865], f1=[0.76497696 0.1875     0.68085106], accuracy=0.69\n",
      "rec:['Indy500-2015', 1327, 195, '+:74,0:26,-:95', 0.13333333333333333, 0.2564102564102564, 0.4461538461538462, 0.6512820512820513, 0.6461538461538462, 0.6051282051282051, 0.6615384615384615, 0.6512820512820513, 0.6871794871794872]\n",
      "Testset = Indy500-2016\n",
      "[*] predict with currank model\n",
      "precision=[0.         0.12598425 0.        ], recall=[0. 1. 0.], f1=[0.         0.22377622 0.        ], accuracy=0.13\n",
      "[*] predict with avgrank model\n",
      "precision=[0.42519685 0.25       0.31313131], recall=[0.43548387 0.21875    0.31632653], f1=[0.43027888 0.23333333 0.31472081], accuracy=0.36\n",
      "[*] predict with dice model\n",
      "precision=[0.49342105 0.05714286 0.47761194], recall=[0.60483871 0.0625     0.32653061], f1=[0.54347826 0.05970149 0.38787879], accuracy=0.43\n",
      "[*] predict with lr model\n"
     ]
    },
    {
     "name": "stderr",
     "output_type": "stream",
     "text": [
      "/scratch_ssd/hpda/anaconda3/envs/gluonts/lib/python3.6/site-packages/sklearn/metrics/_classification.py:1272: UndefinedMetricWarning: Precision is ill-defined and being set to 0.0 in labels with no predicted samples. Use `zero_division` parameter to control this behavior.\n",
      "  _warn_prf(average, modifier, msg_start, len(result))\n"
     ]
    },
    {
     "name": "stdout",
     "output_type": "stream",
     "text": [
      "precision=[0.625      0.38461538 0.69863014], recall=[0.84677419 0.15625    0.52040816], f1=[0.71917808 0.22222222 0.59649123], accuracy=0.63\n",
      "[*] predict with lsvc model\n"
     ]
    },
    {
     "name": "stderr",
     "output_type": "stream",
     "text": [
      "/scratch_ssd/hpda/anaconda3/envs/gluonts/lib/python3.6/site-packages/sklearn/svm/_base.py:947: ConvergenceWarning: Liblinear failed to converge, increase the number of iterations.\n",
      "  \"the number of iterations.\", ConvergenceWarning)\n"
     ]
    },
    {
     "name": "stdout",
     "output_type": "stream",
     "text": [
      "precision=[0.61235955 0.66666667 0.71232877], recall=[0.87903226 0.0625     0.53061224], f1=[0.7218543  0.11428571 0.60818713], accuracy=0.64\n",
      "[*] predict with lsvcl2 model\n"
     ]
    },
    {
     "name": "stderr",
     "output_type": "stream",
     "text": [
      "/scratch_ssd/hpda/anaconda3/envs/gluonts/lib/python3.6/site-packages/sklearn/svm/_base.py:947: ConvergenceWarning: Liblinear failed to converge, increase the number of iterations.\n",
      "  \"the number of iterations.\", ConvergenceWarning)\n"
     ]
    },
    {
     "name": "stdout",
     "output_type": "stream",
     "text": [
      "precision=[1.    0.124 0.5  ], recall=[0.01612903 0.96875    0.01020408], f1=[0.03174603 0.21985816 0.02      ], accuracy=0.13\n",
      "[*] predict with rf model\n",
      "precision=[0.65853659 0.42857143 0.71084337], recall=[0.87096774 0.09375    0.60204082], f1=[0.75       0.15384615 0.6519337 ], accuracy=0.67\n",
      "[*] predict with lrbias model\n"
     ]
    },
    {
     "name": "stderr",
     "output_type": "stream",
     "text": [
      "[Parallel(n_jobs=-1)]: Using backend LokyBackend with 20 concurrent workers.\n",
      "[Parallel(n_jobs=-1)]: Done   1 out of   1 | elapsed:    0.5s finished\n"
     ]
    },
    {
     "name": "stdout",
     "output_type": "stream",
     "text": [
      "precision=[0.62650602 0.42857143 0.68918919], recall=[0.83870968 0.1875     0.52040816], f1=[0.71724138 0.26086957 0.59302326], accuracy=0.63\n",
      "[*] predict with xgb model\n",
      "precision=[0.69444444 0.4375     0.69148936], recall=[0.80645161 0.21875    0.66326531], f1=[0.74626866 0.29166667 0.67708333], accuracy=0.68\n",
      "rec:['Indy500-2016', 1268, 254, '+:98,0:32,-:124', 0.12598425196850394, 0.36220472440944884, 0.42913385826771655, 0.6338582677165354, 0.6417322834645669, 0.13385826771653545, 0.6692913385826772, 0.6338582677165354, 0.6771653543307087]\n",
      "Testset = Indy500-2017\n",
      "[*] predict with currank model\n",
      "precision=[0.         0.19758065 0.        ], recall=[0. 1. 0.], f1=[0.         0.32996633 0.        ], accuracy=0.20\n",
      "[*] predict with avgrank model\n",
      "precision=[0.37931034 0.23404255 0.18823529], recall=[0.34645669 0.2244898  0.22222222], f1=[0.36213992 0.22916667 0.20382166], accuracy=0.29\n",
      "[*] predict with dice model\n",
      "precision=[0.46575342 0.16666667 0.23611111], recall=[0.53543307 0.10204082 0.23611111], f1=[0.4981685  0.12658228 0.23611111], accuracy=0.36\n",
      "[*] predict with lr model\n"
     ]
    },
    {
     "name": "stderr",
     "output_type": "stream",
     "text": [
      "/scratch_ssd/hpda/anaconda3/envs/gluonts/lib/python3.6/site-packages/sklearn/metrics/_classification.py:1272: UndefinedMetricWarning: Precision is ill-defined and being set to 0.0 in labels with no predicted samples. Use `zero_division` parameter to control this behavior.\n",
      "  _warn_prf(average, modifier, msg_start, len(result))\n"
     ]
    },
    {
     "name": "stdout",
     "output_type": "stream",
     "text": [
      "precision=[0.74074074 0.19774011 0.34090909], recall=[0.15748031 0.71428571 0.20833333], f1=[0.25974026 0.30973451 0.25862069], accuracy=0.28\n",
      "[*] predict with lsvc model\n"
     ]
    },
    {
     "name": "stderr",
     "output_type": "stream",
     "text": [
      "/scratch_ssd/hpda/anaconda3/envs/gluonts/lib/python3.6/site-packages/sklearn/svm/_base.py:947: ConvergenceWarning: Liblinear failed to converge, increase the number of iterations.\n",
      "  \"the number of iterations.\", ConvergenceWarning)\n"
     ]
    },
    {
     "name": "stdout",
     "output_type": "stream",
     "text": [
      "precision=[0.74074074 0.20118343 0.40384615], recall=[0.15748031 0.69387755 0.29166667], f1=[0.25974026 0.31192661 0.33870968], accuracy=0.30\n",
      "[*] predict with lsvcl2 model\n"
     ]
    },
    {
     "name": "stderr",
     "output_type": "stream",
     "text": [
      "/scratch_ssd/hpda/anaconda3/envs/gluonts/lib/python3.6/site-packages/sklearn/svm/_base.py:947: ConvergenceWarning: Liblinear failed to converge, increase the number of iterations.\n",
      "  \"the number of iterations.\", ConvergenceWarning)\n"
     ]
    },
    {
     "name": "stdout",
     "output_type": "stream",
     "text": [
      "precision=[0.54347826 0.4        0.76923077], recall=[0.98425197 0.04081633 0.13888889], f1=[0.70028011 0.07407407 0.23529412], accuracy=0.55\n",
      "[*] predict with rf model\n",
      "precision=[0.62758621 0.47222222 0.53731343], recall=[0.71653543 0.34693878 0.5       ], f1=[0.66911765 0.4        0.51798561], accuracy=0.58\n",
      "[*] predict with lrbias model\n"
     ]
    },
    {
     "name": "stderr",
     "output_type": "stream",
     "text": [
      "[Parallel(n_jobs=-1)]: Using backend LokyBackend with 20 concurrent workers.\n",
      "[Parallel(n_jobs=-1)]: Done   1 out of   1 | elapsed:    0.5s finished\n"
     ]
    },
    {
     "name": "stdout",
     "output_type": "stream",
     "text": [
      "precision=[0.77777778 0.19883041 0.34      ], recall=[0.16535433 0.69387755 0.23611111], f1=[0.27272727 0.30909091 0.27868852], accuracy=0.29\n",
      "[*] predict with xgb model\n",
      "precision=[0.73636364 0.47272727 0.55421687], recall=[0.63779528 0.53061224 0.63888889], f1=[0.6835443  0.5        0.59354839], accuracy=0.62\n",
      "rec:['Indy500-2017', 1274, 248, '+:72,0:49,-:127', 0.1975806451612903, 0.2862903225806452, 0.3629032258064516, 0.28225806451612906, 0.3024193548387097, 0.5524193548387096, 0.5806451612903226, 0.2903225806451613, 0.6169354838709677]\n",
      "Testset = Indy500-2018\n",
      "[*] predict with currank model\n",
      "precision=[0.        0.1005291 0.       ], recall=[0. 1. 0.], f1=[0.         0.18269231 0.        ], accuracy=0.10\n",
      "[*] predict with avgrank model\n",
      "precision=[0.38947368 0.29411765 0.23376623], recall=[0.37755102 0.26315789 0.25      ], f1=[0.38341969 0.27777778 0.24161074], accuracy=0.32\n",
      "[*] predict with dice model\n",
      "precision=[0.47706422 0.12       0.32727273], recall=[0.53061224 0.15789474 0.25      ], f1=[0.50241546 0.13636364 0.28346457], accuracy=0.39\n",
      "[*] predict with lr model\n"
     ]
    },
    {
     "name": "stderr",
     "output_type": "stream",
     "text": [
      "/scratch_ssd/hpda/anaconda3/envs/gluonts/lib/python3.6/site-packages/sklearn/metrics/_classification.py:1272: UndefinedMetricWarning: Precision is ill-defined and being set to 0.0 in labels with no predicted samples. Use `zero_division` parameter to control this behavior.\n",
      "  _warn_prf(average, modifier, msg_start, len(result))\n"
     ]
    },
    {
     "name": "stdout",
     "output_type": "stream",
     "text": [
      "precision=[0.65648855 0.22222222 0.73469388], recall=[0.87755102 0.10526316 0.5       ], f1=[0.7510917  0.14285714 0.59504132], accuracy=0.66\n",
      "[*] predict with lsvc model\n"
     ]
    },
    {
     "name": "stderr",
     "output_type": "stream",
     "text": [
      "/scratch_ssd/hpda/anaconda3/envs/gluonts/lib/python3.6/site-packages/sklearn/svm/_base.py:947: ConvergenceWarning: Liblinear failed to converge, increase the number of iterations.\n",
      "  \"the number of iterations.\", ConvergenceWarning)\n"
     ]
    },
    {
     "name": "stdout",
     "output_type": "stream",
     "text": [
      "precision=[0.64137931 0.33333333 0.80487805], recall=[0.94897959 0.05263158 0.45833333], f1=[0.7654321  0.09090909 0.5840708 ], accuracy=0.67\n",
      "[*] predict with lsvcl2 model\n"
     ]
    },
    {
     "name": "stderr",
     "output_type": "stream",
     "text": [
      "/scratch_ssd/hpda/anaconda3/envs/gluonts/lib/python3.6/site-packages/sklearn/svm/_base.py:947: ConvergenceWarning: Liblinear failed to converge, increase the number of iterations.\n",
      "  \"the number of iterations.\", ConvergenceWarning)\n",
      "/scratch_ssd/hpda/anaconda3/envs/gluonts/lib/python3.6/site-packages/sklearn/metrics/_classification.py:1272: UndefinedMetricWarning: Precision is ill-defined and being set to 0.0 in labels with no predicted samples. Use `zero_division` parameter to control this behavior.\n",
      "  _warn_prf(average, modifier, msg_start, len(result))\n"
     ]
    },
    {
     "name": "stdout",
     "output_type": "stream",
     "text": [
      "precision=[0.53551913 0.         1.        ], recall=[1.         0.         0.08333333], f1=[0.6975089  0.         0.15384615], accuracy=0.55\n",
      "[*] predict with rf model\n",
      "precision=[0.65116279 0.25       0.69642857], recall=[0.85714286 0.05263158 0.54166667], f1=[0.74008811 0.08695652 0.609375  ], accuracy=0.66\n",
      "[*] predict with lrbias model\n"
     ]
    },
    {
     "name": "stderr",
     "output_type": "stream",
     "text": [
      "[Parallel(n_jobs=-1)]: Using backend LokyBackend with 20 concurrent workers.\n",
      "[Parallel(n_jobs=-1)]: Done   1 out of   1 | elapsed:    0.5s finished\n"
     ]
    },
    {
     "name": "stdout",
     "output_type": "stream",
     "text": [
      "precision=[0.65151515 0.2        0.76595745], recall=[0.87755102 0.10526316 0.5       ], f1=[0.74782609 0.13793103 0.60504202], accuracy=0.66\n",
      "[*] predict with xgb model\n",
      "precision=[0.71134021 0.42857143 0.65384615], recall=[0.70408163 0.31578947 0.70833333], f1=[0.70769231 0.36363636 0.68      ], accuracy=0.67\n",
      "rec:['Indy500-2018', 1333, 189, '+:72,0:19,-:98', 0.10052910052910052, 0.31746031746031744, 0.3862433862433862, 0.656084656084656, 0.671957671957672, 0.5502645502645502, 0.656084656084656, 0.656084656084656, 0.6666666666666666]\n",
      "Testset = Indy500-2019\n",
      "[*] predict with currank model\n",
      "precision=[0.         0.15277778 0.        ], recall=[0. 1. 0.], f1=[0.         0.26506024 0.        ], accuracy=0.15\n",
      "[*] predict with avgrank model\n",
      "precision=[0.46428571 0.34482759 0.24      ], recall=[0.44444444 0.3030303  0.27272727], f1=[0.45414847 0.32258065 0.25531915], accuracy=0.37\n",
      "[*] predict with dice model\n",
      "precision=[0.59349593 0.33333333 0.34848485], recall=[0.62393162 0.27272727 0.34848485], f1=[0.60833333 0.3        0.34848485], accuracy=0.49\n",
      "[*] predict with lr model\n"
     ]
    },
    {
     "name": "stderr",
     "output_type": "stream",
     "text": [
      "/scratch_ssd/hpda/anaconda3/envs/gluonts/lib/python3.6/site-packages/sklearn/metrics/_classification.py:1272: UndefinedMetricWarning: Precision is ill-defined and being set to 0.0 in labels with no predicted samples. Use `zero_division` parameter to control this behavior.\n",
      "  _warn_prf(average, modifier, msg_start, len(result))\n"
     ]
    },
    {
     "name": "stdout",
     "output_type": "stream",
     "text": [
      "precision=[0.66666667 0.44444444 0.54666667], recall=[0.75213675 0.12121212 0.62121212], f1=[0.70682731 0.19047619 0.58156028], accuracy=0.62\n",
      "[*] predict with lsvc model\n"
     ]
    },
    {
     "name": "stderr",
     "output_type": "stream",
     "text": [
      "/scratch_ssd/hpda/anaconda3/envs/gluonts/lib/python3.6/site-packages/sklearn/svm/_base.py:947: ConvergenceWarning: Liblinear failed to converge, increase the number of iterations.\n",
      "  \"the number of iterations.\", ConvergenceWarning)\n"
     ]
    },
    {
     "name": "stdout",
     "output_type": "stream",
     "text": [
      "precision=[0.65384615 0.66666667 0.51807229], recall=[0.72649573 0.06060606 0.65151515], f1=[0.68825911 0.11111111 0.57718121], accuracy=0.60\n",
      "[*] predict with lsvcl2 model\n"
     ]
    },
    {
     "name": "stderr",
     "output_type": "stream",
     "text": [
      "/scratch_ssd/hpda/anaconda3/envs/gluonts/lib/python3.6/site-packages/sklearn/svm/_base.py:947: ConvergenceWarning: Liblinear failed to converge, increase the number of iterations.\n",
      "  \"the number of iterations.\", ConvergenceWarning)\n"
     ]
    },
    {
     "name": "stdout",
     "output_type": "stream",
     "text": [
      "precision=[0.64705882 0.33333333 0.625     ], recall=[0.84615385 0.15151515 0.45454545], f1=[0.73333333 0.20833333 0.52631579], accuracy=0.62\n",
      "[*] predict with rf model\n",
      "precision=[0.63414634 0.66666667 0.51724138], recall=[0.66666667 0.12121212 0.68181818], f1=[0.65       0.20512821 0.58823529], accuracy=0.59\n",
      "[*] predict with lrbias model\n"
     ]
    },
    {
     "name": "stderr",
     "output_type": "stream",
     "text": [
      "[Parallel(n_jobs=-1)]: Using backend LokyBackend with 20 concurrent workers.\n",
      "[Parallel(n_jobs=-1)]: Done   1 out of   1 | elapsed:    0.4s finished\n"
     ]
    },
    {
     "name": "stdout",
     "output_type": "stream",
     "text": [
      "precision=[0.66412214 0.5        0.53246753], recall=[0.74358974 0.12121212 0.62121212], f1=[0.7016129  0.19512195 0.57342657], accuracy=0.61\n",
      "[*] predict with xgb model\n",
      "precision=[0.63909774 0.5        0.53623188], recall=[0.72649573 0.21212121 0.56060606], f1=[0.68       0.29787234 0.54814815], accuracy=0.60\n",
      "rec:['Indy500-2019', 1306, 216, '+:66,0:33,-:117', 0.1527777777777778, 0.37037037037037035, 0.4861111111111111, 0.6157407407407407, 0.6018518518518519, 0.6203703703703703, 0.5879629629629629, 0.6111111111111112, 0.5972222222222222]\n"
     ]
    }
   ],
   "source": [
    "df_event = test_cv()"
   ]
  },
  {
   "cell_type": "code",
   "execution_count": 16,
   "metadata": {},
   "outputs": [
    {
     "name": "stdout",
     "output_type": "stream",
     "text": [
      "cols:['runid', 'trainsize', 'testsize', 'testdistribution', 'currank', 'avgrank', 'dice', 'lr', 'lsvc', 'lsvcl2', 'rf', 'lrbias', 'xgb']\n",
      "Testset = Indy500-2018\n",
      "[*] predict with currank model\n",
      "precision=[0.        0.1005291 0.       ], recall=[0. 1. 0.], f1=[0.         0.18269231 0.        ], accuracy=0.10\n",
      "[*] predict with avgrank model\n",
      "precision=[0.38947368 0.29411765 0.23376623], recall=[0.37755102 0.26315789 0.25      ], f1=[0.38341969 0.27777778 0.24161074], accuracy=0.32\n",
      "[*] predict with dice model\n",
      "precision=[0.47222222 0.12       0.32142857], recall=[0.52040816 0.15789474 0.25      ], f1=[0.49514563 0.13636364 0.28125   ], accuracy=0.38\n",
      "[*] predict with lr model\n",
      "precision=[0.67669173 0.25       0.79166667], recall=[0.91836735 0.10526316 0.52777778], f1=[0.77922078 0.14814815 0.63333333], accuracy=0.69\n",
      "[*] predict with lsvc model\n"
     ]
    },
    {
     "name": "stderr",
     "output_type": "stream",
     "text": [
      "/scratch_ssd/hpda/anaconda3/envs/gluonts/lib/python3.6/site-packages/sklearn/metrics/_classification.py:1272: UndefinedMetricWarning: Precision is ill-defined and being set to 0.0 in labels with no predicted samples. Use `zero_division` parameter to control this behavior.\n",
      "  _warn_prf(average, modifier, msg_start, len(result))\n",
      "/scratch_ssd/hpda/anaconda3/envs/gluonts/lib/python3.6/site-packages/sklearn/svm/_base.py:947: ConvergenceWarning: Liblinear failed to converge, increase the number of iterations.\n",
      "  \"the number of iterations.\", ConvergenceWarning)\n",
      "/scratch_ssd/hpda/anaconda3/envs/gluonts/lib/python3.6/site-packages/sklearn/metrics/_classification.py:1272: UndefinedMetricWarning: Precision is ill-defined and being set to 0.0 in labels with no predicted samples. Use `zero_division` parameter to control this behavior.\n",
      "  _warn_prf(average, modifier, msg_start, len(result))\n"
     ]
    },
    {
     "name": "stdout",
     "output_type": "stream",
     "text": [
      "precision=[0.625      0.         0.83783784], recall=[0.96938776 0.         0.43055556], f1=[0.76       0.         0.56880734], accuracy=0.67\n",
      "[*] predict with lsvcl2 model\n"
     ]
    },
    {
     "name": "stderr",
     "output_type": "stream",
     "text": [
      "/scratch_ssd/hpda/anaconda3/envs/gluonts/lib/python3.6/site-packages/sklearn/svm/_base.py:947: ConvergenceWarning: Liblinear failed to converge, increase the number of iterations.\n",
      "  \"the number of iterations.\", ConvergenceWarning)\n",
      "/scratch_ssd/hpda/anaconda3/envs/gluonts/lib/python3.6/site-packages/sklearn/metrics/_classification.py:1272: UndefinedMetricWarning: Precision is ill-defined and being set to 0.0 in labels with no predicted samples. Use `zero_division` parameter to control this behavior.\n",
      "  _warn_prf(average, modifier, msg_start, len(result))\n"
     ]
    },
    {
     "name": "stdout",
     "output_type": "stream",
     "text": [
      "precision=[0.71428571 0.         0.40993789], recall=[0.20408163 0.         0.91666667], f1=[0.31746032 0.         0.56652361], accuracy=0.46\n",
      "[*] predict with rf model\n",
      "precision=[0.67479675 0.5        0.67741935], recall=[0.84693878 0.10526316 0.58333333], f1=[0.75113122 0.17391304 0.62686567], accuracy=0.67\n",
      "[*] predict with lrbias model\n",
      "precision=[0.6641791 0.        0.7755102], recall=[0.90816327 0.         0.52777778], f1=[0.76724138 0.         0.62809917], accuracy=0.67\n",
      "[*] predict with xgb model\n"
     ]
    },
    {
     "name": "stderr",
     "output_type": "stream",
     "text": [
      "[Parallel(n_jobs=-1)]: Using backend LokyBackend with 20 concurrent workers.\n",
      "[Parallel(n_jobs=-1)]: Done   1 out of   1 | elapsed:    0.1s finished\n"
     ]
    },
    {
     "name": "stdout",
     "output_type": "stream",
     "text": [
      "precision=[0.6969697  0.35294118 0.65753425], recall=[0.70408163 0.31578947 0.66666667], f1=[0.70050761 0.33333333 0.66206897], accuracy=0.65\n",
      "rec:['Indy500-2018', 1117, 189, '+:72,0:19,-:98', 0.10052910052910052, 0.31746031746031744, 0.38095238095238093, 0.6878306878306878, 0.6666666666666666, 0.455026455026455, 0.671957671957672, 0.671957671957672, 0.6507936507936508]\n",
      "Testset = Indy500-2019\n",
      "[*] predict with currank model\n",
      "precision=[0.         0.15277778 0.        ], recall=[0. 1. 0.], f1=[0.         0.26506024 0.        ], accuracy=0.15\n",
      "[*] predict with avgrank model\n",
      "precision=[0.46428571 0.34482759 0.24      ], recall=[0.44444444 0.3030303  0.27272727], f1=[0.45414847 0.32258065 0.25531915], accuracy=0.37\n",
      "[*] predict with dice model\n",
      "precision=[0.59349593 0.3125     0.3442623 ], recall=[0.62393162 0.3030303  0.31818182], f1=[0.60833333 0.30769231 0.33070866], accuracy=0.48\n",
      "[*] predict with lr model\n",
      "precision=[0.67153285 0.5        0.57971014], recall=[0.78632479 0.15151515 0.60606061], f1=[0.72440945 0.23255814 0.59259259], accuracy=0.63\n",
      "[*] predict with lsvc model\n"
     ]
    },
    {
     "name": "stderr",
     "output_type": "stream",
     "text": [
      "/scratch_ssd/hpda/anaconda3/envs/gluonts/lib/python3.6/site-packages/sklearn/metrics/_classification.py:1272: UndefinedMetricWarning: Precision is ill-defined and being set to 0.0 in labels with no predicted samples. Use `zero_division` parameter to control this behavior.\n",
      "  _warn_prf(average, modifier, msg_start, len(result))\n",
      "/scratch_ssd/hpda/anaconda3/envs/gluonts/lib/python3.6/site-packages/sklearn/svm/_base.py:947: ConvergenceWarning: Liblinear failed to converge, increase the number of iterations.\n",
      "  \"the number of iterations.\", ConvergenceWarning)\n"
     ]
    },
    {
     "name": "stdout",
     "output_type": "stream",
     "text": [
      "precision=[0.64150943 0.5        0.63636364], recall=[0.87179487 0.03030303 0.53030303], f1=[0.73913043 0.05714286 0.5785124 ], accuracy=0.64\n",
      "[*] predict with lsvcl2 model\n"
     ]
    },
    {
     "name": "stderr",
     "output_type": "stream",
     "text": [
      "/scratch_ssd/hpda/anaconda3/envs/gluonts/lib/python3.6/site-packages/sklearn/svm/_base.py:947: ConvergenceWarning: Liblinear failed to converge, increase the number of iterations.\n",
      "  \"the number of iterations.\", ConvergenceWarning)\n"
     ]
    },
    {
     "name": "stdout",
     "output_type": "stream",
     "text": [
      "precision=[0.58988764 0.27777778 0.65      ], recall=[0.8974359  0.15151515 0.1969697 ], f1=[0.71186441 0.19607843 0.30232558], accuracy=0.57\n",
      "[*] predict with rf model\n",
      "precision=[0.64566929 0.625      0.54320988], recall=[0.7008547  0.15151515 0.66666667], f1=[0.67213115 0.24390244 0.59863946], accuracy=0.61\n",
      "[*] predict with lrbias model\n",
      "precision=[0.67391304 0.44444444 0.57971014], recall=[0.79487179 0.12121212 0.60606061], f1=[0.72941176 0.19047619 0.59259259], accuracy=0.63\n",
      "[*] predict with xgb model\n"
     ]
    },
    {
     "name": "stderr",
     "output_type": "stream",
     "text": [
      "[Parallel(n_jobs=-1)]: Using backend LokyBackend with 20 concurrent workers.\n",
      "[Parallel(n_jobs=-1)]: Done   1 out of   1 | elapsed:    0.1s finished\n"
     ]
    },
    {
     "name": "stdout",
     "output_type": "stream",
     "text": [
      "precision=[0.66666667 0.5        0.57142857], recall=[0.76923077 0.27272727 0.54545455], f1=[0.71428571 0.35294118 0.55813953], accuracy=0.62\n",
      "rec:['Indy500-2019', 1117, 216, '+:66,0:33,-:117', 0.1527777777777778, 0.37037037037037035, 0.48148148148148145, 0.6342592592592593, 0.6388888888888888, 0.5694444444444444, 0.6064814814814815, 0.6342592592592593, 0.625]\n"
     ]
    }
   ],
   "source": [
    "retdf_oracle = test_20182019()"
   ]
  },
  {
   "cell_type": "code",
   "execution_count": 9,
   "metadata": {},
   "outputs": [
    {
     "data": {
      "text/html": [
       "<div>\n",
       "<style scoped>\n",
       "    .dataframe tbody tr th:only-of-type {\n",
       "        vertical-align: middle;\n",
       "    }\n",
       "\n",
       "    .dataframe tbody tr th {\n",
       "        vertical-align: top;\n",
       "    }\n",
       "\n",
       "    .dataframe thead th {\n",
       "        text-align: right;\n",
       "    }\n",
       "</style>\n",
       "<table border=\"1\" class=\"dataframe\">\n",
       "  <thead>\n",
       "    <tr style=\"text-align: right;\">\n",
       "      <th></th>\n",
       "      <th>runid</th>\n",
       "      <th>trainsize</th>\n",
       "      <th>testsize</th>\n",
       "      <th>testdistribution</th>\n",
       "      <th>currank</th>\n",
       "      <th>avgrank</th>\n",
       "      <th>dice</th>\n",
       "      <th>lr</th>\n",
       "      <th>lsvc</th>\n",
       "      <th>lsvcl2</th>\n",
       "      <th>rf</th>\n",
       "      <th>lrbias</th>\n",
       "      <th>xgb</th>\n",
       "    </tr>\n",
       "  </thead>\n",
       "  <tbody>\n",
       "    <tr>\n",
       "      <th>0</th>\n",
       "      <td>Indy500-2018</td>\n",
       "      <td>1117</td>\n",
       "      <td>189</td>\n",
       "      <td>+:72,0:19,-:98</td>\n",
       "      <td>0.100529</td>\n",
       "      <td>0.31746</td>\n",
       "      <td>0.380952</td>\n",
       "      <td>0.687831</td>\n",
       "      <td>0.666667</td>\n",
       "      <td>0.634921</td>\n",
       "      <td>0.687831</td>\n",
       "      <td>0.671958</td>\n",
       "      <td>0.650794</td>\n",
       "    </tr>\n",
       "    <tr>\n",
       "      <th>0</th>\n",
       "      <td>Indy500-2019</td>\n",
       "      <td>1117</td>\n",
       "      <td>216</td>\n",
       "      <td>+:66,0:33,-:117</td>\n",
       "      <td>0.152778</td>\n",
       "      <td>0.37037</td>\n",
       "      <td>0.481481</td>\n",
       "      <td>0.634259</td>\n",
       "      <td>0.638889</td>\n",
       "      <td>0.560185</td>\n",
       "      <td>0.587963</td>\n",
       "      <td>0.634259</td>\n",
       "      <td>0.625000</td>\n",
       "    </tr>\n",
       "  </tbody>\n",
       "</table>\n",
       "</div>"
      ],
      "text/plain": [
       "          runid trainsize testsize testdistribution   currank  avgrank  \\\n",
       "0  Indy500-2018      1117      189   +:72,0:19,-:98  0.100529  0.31746   \n",
       "0  Indy500-2019      1117      216  +:66,0:33,-:117  0.152778  0.37037   \n",
       "\n",
       "       dice        lr      lsvc    lsvcl2        rf    lrbias       xgb  \n",
       "0  0.380952  0.687831  0.666667  0.634921  0.687831  0.671958  0.650794  \n",
       "0  0.481481  0.634259  0.638889  0.560185  0.587963  0.634259  0.625000  "
      ]
     },
     "execution_count": 9,
     "metadata": {},
     "output_type": "execute_result"
    }
   ],
   "source": [
    "retdf_oracle"
   ]
  },
  {
   "cell_type": "markdown",
   "metadata": {},
   "source": [
    "### test normal without stint_len"
   ]
  },
  {
   "cell_type": "code",
   "execution_count": 10,
   "metadata": {},
   "outputs": [
    {
     "name": "stdout",
     "output_type": "stream",
     "text": [
      "<class 'pandas.core.frame.DataFrame'>\n",
      "RangeIndex: 1522 entries, 0 to 1521\n",
      "Data columns (total 36 columns):\n",
      "Unnamed: 0                   1522 non-null int64\n",
      "target                       1522 non-null int64\n",
      "stint_len                    1522 non-null int64\n",
      "eventid                      1522 non-null int64\n",
      "car_number                   1522 non-null int64\n",
      "stageid                      1522 non-null int64\n",
      "firststage                   1522 non-null int64\n",
      "pit_in_caution               1522 non-null int64\n",
      "start_position               1522 non-null int64\n",
      "start_rank                   1522 non-null int64\n",
      "start_rank_ratio             1522 non-null float64\n",
      "top_pack                     1522 non-null int64\n",
      "bottom_pack                  1522 non-null int64\n",
      "average_rank                 1522 non-null float64\n",
      "average_rank_all             1522 non-null float64\n",
      "change_in_rank               1522 non-null int64\n",
      "change_in_rank_all           1522 non-null float64\n",
      "rate_of_change               1522 non-null int64\n",
      "rate_of_change_all           1522 non-null float64\n",
      "laptime_green_mean_prev      1522 non-null float64\n",
      "laptime_green_std_prev       1522 non-null float64\n",
      "laptime_green_mean_all       1522 non-null float64\n",
      "laptime_green_std_all        1522 non-null float64\n",
      "laptime_mean_prev            1522 non-null float64\n",
      "laptime_std_prev             1522 non-null float64\n",
      "laptime_mean_all             1522 non-null float64\n",
      "laptime_std_all              1522 non-null float64\n",
      "laps_prev                    1522 non-null int64\n",
      "laps_after_last_pitstop      1522 non-null int64\n",
      "pittime_prev                 1522 non-null float64\n",
      "prev_nb0_change_in_rank      1522 non-null int64\n",
      "prev_nb1_change_in_rank      1522 non-null int64\n",
      "prev_nb2_change_in_rank      1522 non-null int64\n",
      "follow_nb0_change_in_rank    1522 non-null int64\n",
      "follow_nb1_change_in_rank    1522 non-null int64\n",
      "follow_nb2_change_in_rank    1522 non-null int64\n",
      "dtypes: float64(14), int64(22)\n",
      "memory usage: 428.2 KB\n"
     ]
    }
   ],
   "source": [
    "#load data\n",
    "_trim = 0\n",
    "_include_final = True\n",
    "_include_stintlen = False\n",
    "include_str = '1' if _include_final else '0'\n",
    "stint_str = '1' if _include_stintlen else ''\n",
    "suffix = f'indy500-2013-2019-end{include_str}{stint_str}-t{_trim}'\n",
    "output_file = f'stage-indy500-2013-2019-end{include_str}{stint_str}-t{_trim}.csv'\n",
    "stagedata = pd.read_csv(output_file)\n",
    "\n",
    "stagedata.fillna(0, inplace=True)\n",
    "stagedata.info()"
   ]
  },
  {
   "cell_type": "code",
   "execution_count": 11,
   "metadata": {},
   "outputs": [
    {
     "name": "stdout",
     "output_type": "stream",
     "text": [
      "cols:['runid', 'trainsize', 'testsize', 'testdistribution', 'currank', 'avgrank', 'dice', 'lr', 'lsvc', 'lsvcl2', 'rf', 'lrbias', 'xgb']\n",
      "Testset = Indy500-2013\n",
      "[*] predict with currank model\n",
      "precision=[0.         0.14871795 0.        ], recall=[0. 1. 0.], f1=[0.         0.25892857 0.        ], accuracy=0.15\n",
      "[*] predict with avgrank model\n",
      "precision=[0.40425532 0.33333333 0.22972973], recall=[0.3877551  0.31034483 0.25      ], f1=[0.39583333 0.32142857 0.23943662], accuracy=0.33\n",
      "[*] predict with dice model\n",
      "precision=[0.46902655 0.2173913  0.27118644], recall=[0.54081633 0.17241379 0.23529412], f1=[0.50236967 0.19230769 0.2519685 ], accuracy=0.38\n",
      "[*] predict with lr model\n"
     ]
    },
    {
     "name": "stderr",
     "output_type": "stream",
     "text": [
      "/scratch_ssd/hpda/anaconda3/envs/gluonts/lib/python3.6/site-packages/sklearn/metrics/_classification.py:1272: UndefinedMetricWarning: Precision is ill-defined and being set to 0.0 in labels with no predicted samples. Use `zero_division` parameter to control this behavior.\n",
      "  _warn_prf(average, modifier, msg_start, len(result))\n"
     ]
    },
    {
     "name": "stdout",
     "output_type": "stream",
     "text": [
      "precision=[0.61538462 0.5        0.6031746 ], recall=[0.81632653 0.03448276 0.55882353], f1=[0.70175439 0.06451613 0.58015267], accuracy=0.61\n",
      "[*] predict with lsvc model\n"
     ]
    },
    {
     "name": "stderr",
     "output_type": "stream",
     "text": [
      "/scratch_ssd/hpda/anaconda3/envs/gluonts/lib/python3.6/site-packages/sklearn/svm/_base.py:947: ConvergenceWarning: Liblinear failed to converge, increase the number of iterations.\n",
      "  \"the number of iterations.\", ConvergenceWarning)\n"
     ]
    },
    {
     "name": "stdout",
     "output_type": "stream",
     "text": [
      "precision=[0.62015504 0.5        0.609375  ], recall=[0.81632653 0.03448276 0.57352941], f1=[0.70484581 0.06451613 0.59090909], accuracy=0.62\n",
      "[*] predict with lsvcl2 model\n"
     ]
    },
    {
     "name": "stderr",
     "output_type": "stream",
     "text": [
      "/scratch_ssd/hpda/anaconda3/envs/gluonts/lib/python3.6/site-packages/sklearn/svm/_base.py:947: ConvergenceWarning: Liblinear failed to converge, increase the number of iterations.\n",
      "  \"the number of iterations.\", ConvergenceWarning)\n",
      "/scratch_ssd/hpda/anaconda3/envs/gluonts/lib/python3.6/site-packages/sklearn/metrics/_classification.py:1272: UndefinedMetricWarning: Precision is ill-defined and being set to 0.0 in labels with no predicted samples. Use `zero_division` parameter to control this behavior.\n",
      "  _warn_prf(average, modifier, msg_start, len(result))\n"
     ]
    },
    {
     "name": "stdout",
     "output_type": "stream",
     "text": [
      "precision=[0.5984252  0.         0.48529412], recall=[0.7755102  0.         0.48529412], f1=[0.67555556 0.         0.48529412], accuracy=0.56\n",
      "[*] predict with rf model\n",
      "precision=[0.64122137 1.         0.64516129], recall=[0.85714286 0.06896552 0.58823529], f1=[0.73362445 0.12903226 0.61538462], accuracy=0.65\n",
      "[*] predict with lrbias model\n"
     ]
    },
    {
     "name": "stderr",
     "output_type": "stream",
     "text": [
      "[Parallel(n_jobs=-1)]: Using backend LokyBackend with 20 concurrent workers.\n",
      "[Parallel(n_jobs=-1)]: Done   1 out of   1 | elapsed:    0.4s finished\n"
     ]
    },
    {
     "name": "stdout",
     "output_type": "stream",
     "text": [
      "precision=[0.62015504 0.5        0.609375  ], recall=[0.81632653 0.03448276 0.57352941], f1=[0.70484581 0.06451613 0.59090909], accuracy=0.62\n",
      "[*] predict with xgb model\n",
      "precision=[0.66393443 0.5        0.60869565], recall=[0.82653061 0.06896552 0.61764706], f1=[0.73636364 0.12121212 0.61313869], accuracy=0.64\n",
      "rec:['Indy500-2013', 1327, 195, '+:68,0:29,-:98', 0.14871794871794872, 0.3282051282051282, 0.37948717948717947, 0.6102564102564103, 0.6153846153846154, 0.558974358974359, 0.6461538461538462, 0.6153846153846154, 0.6410256410256411]\n",
      "Testset = Indy500-2014\n",
      "[*] predict with currank model\n",
      "precision=[0.         0.19111111 0.        ], recall=[0. 1. 0.], f1=[0.         0.32089552 0.        ], accuracy=0.19\n",
      "[*] predict with avgrank model\n",
      "precision=[0.47058824 0.24242424 0.2739726 ], recall=[0.47058824 0.18604651 0.31746032], f1=[0.47058824 0.21052632 0.29411765], accuracy=0.37\n",
      "[*] predict with dice model\n",
      "precision=[0.51908397 0.07407407 0.29850746], recall=[0.57142857 0.04651163 0.31746032], f1=[0.544      0.05714286 0.30769231], accuracy=0.40\n",
      "[*] predict with lr model\n",
      "precision=[0.70967742 0.41666667 0.4494382 ], recall=[0.7394958  0.11627907 0.63492063], f1=[0.72427984 0.18181818 0.52631579], accuracy=0.59\n",
      "[*] predict with lsvc model\n"
     ]
    },
    {
     "name": "stderr",
     "output_type": "stream",
     "text": [
      "/scratch_ssd/hpda/anaconda3/envs/gluonts/lib/python3.6/site-packages/sklearn/metrics/_classification.py:1272: UndefinedMetricWarning: Precision is ill-defined and being set to 0.0 in labels with no predicted samples. Use `zero_division` parameter to control this behavior.\n",
      "  _warn_prf(average, modifier, msg_start, len(result))\n",
      "/scratch_ssd/hpda/anaconda3/envs/gluonts/lib/python3.6/site-packages/sklearn/svm/_base.py:947: ConvergenceWarning: Liblinear failed to converge, increase the number of iterations.\n",
      "  \"the number of iterations.\", ConvergenceWarning)\n"
     ]
    },
    {
     "name": "stdout",
     "output_type": "stream",
     "text": [
      "precision=[0.7109375  0.4        0.44827586], recall=[0.76470588 0.09302326 0.61904762], f1=[0.73684211 0.1509434  0.52      ], accuracy=0.60\n",
      "[*] predict with lsvcl2 model\n"
     ]
    },
    {
     "name": "stderr",
     "output_type": "stream",
     "text": [
      "/scratch_ssd/hpda/anaconda3/envs/gluonts/lib/python3.6/site-packages/sklearn/svm/_base.py:947: ConvergenceWarning: Liblinear failed to converge, increase the number of iterations.\n",
      "  \"the number of iterations.\", ConvergenceWarning)\n"
     ]
    },
    {
     "name": "stdout",
     "output_type": "stream",
     "text": [
      "precision=[0.54326923 0.4        0.66666667], recall=[0.94957983 0.04651163 0.12698413], f1=[0.6911315  0.08333333 0.21333333], accuracy=0.55\n",
      "[*] predict with rf model\n",
      "precision=[0.70992366 0.42857143 0.45977011], recall=[0.78151261 0.06976744 0.63492063], f1=[0.744      0.12       0.53333333], accuracy=0.60\n",
      "[*] predict with lrbias model\n",
      "precision=[0.712      0.41666667 0.45454545], recall=[0.74789916 0.11627907 0.63492063], f1=[0.7295082  0.18181818 0.52980132], accuracy=0.60\n",
      "[*] predict with xgb model\n"
     ]
    },
    {
     "name": "stderr",
     "output_type": "stream",
     "text": [
      "[Parallel(n_jobs=-1)]: Using backend LokyBackend with 20 concurrent workers.\n",
      "[Parallel(n_jobs=-1)]: Done   1 out of   1 | elapsed:    0.1s finished\n"
     ]
    },
    {
     "name": "stdout",
     "output_type": "stream",
     "text": [
      "precision=[0.66129032 0.26666667 0.40697674], recall=[0.68907563 0.09302326 0.55555556], f1=[0.67489712 0.13793103 0.46979866], accuracy=0.54\n",
      "rec:['Indy500-2014', 1297, 225, '+:63,0:43,-:119', 0.19111111111111112, 0.37333333333333335, 0.4, 0.5911111111111111, 0.5955555555555555, 0.5466666666666666, 0.6044444444444445, 0.5955555555555555, 0.5377777777777778]\n",
      "Testset = Indy500-2015\n",
      "[*] predict with currank model\n",
      "precision=[0.         0.13333333 0.        ], recall=[0. 1. 0.], f1=[0.         0.23529412 0.        ], accuracy=0.13\n",
      "[*] predict with avgrank model\n",
      "precision=[0.27472527 0.2173913  0.24691358], recall=[0.26315789 0.19230769 0.27027027], f1=[0.2688172  0.20408163 0.25806452], accuracy=0.26\n",
      "[*] predict with dice model\n",
      "precision=[0.53508772 0.125      0.40350877], recall=[0.64210526 0.11538462 0.31081081], f1=[0.58373206 0.12       0.35114504], accuracy=0.45\n",
      "[*] predict with lr model\n",
      "precision=[0.66371681 1.         0.625     ], recall=[0.78947368 0.07692308 0.67567568], f1=[0.72115385 0.14285714 0.64935065], accuracy=0.65\n",
      "[*] predict with lsvc model\n"
     ]
    },
    {
     "name": "stderr",
     "output_type": "stream",
     "text": [
      "/scratch_ssd/hpda/anaconda3/envs/gluonts/lib/python3.6/site-packages/sklearn/metrics/_classification.py:1272: UndefinedMetricWarning: Precision is ill-defined and being set to 0.0 in labels with no predicted samples. Use `zero_division` parameter to control this behavior.\n",
      "  _warn_prf(average, modifier, msg_start, len(result))\n",
      "/scratch_ssd/hpda/anaconda3/envs/gluonts/lib/python3.6/site-packages/sklearn/svm/_base.py:947: ConvergenceWarning: Liblinear failed to converge, increase the number of iterations.\n",
      "  \"the number of iterations.\", ConvergenceWarning)\n"
     ]
    },
    {
     "name": "stdout",
     "output_type": "stream",
     "text": [
      "precision=[0.67924528 1.         0.60227273], recall=[0.75789474 0.03846154 0.71621622], f1=[0.71641791 0.07407407 0.65432099], accuracy=0.65\n",
      "[*] predict with lsvcl2 model\n"
     ]
    },
    {
     "name": "stderr",
     "output_type": "stream",
     "text": [
      "/scratch_ssd/hpda/anaconda3/envs/gluonts/lib/python3.6/site-packages/sklearn/svm/_base.py:947: ConvergenceWarning: Liblinear failed to converge, increase the number of iterations.\n",
      "  \"the number of iterations.\", ConvergenceWarning)\n",
      "/scratch_ssd/hpda/anaconda3/envs/gluonts/lib/python3.6/site-packages/sklearn/metrics/_classification.py:1272: UndefinedMetricWarning: Precision is ill-defined and being set to 0.0 in labels with no predicted samples. Use `zero_division` parameter to control this behavior.\n",
      "  _warn_prf(average, modifier, msg_start, len(result))\n"
     ]
    },
    {
     "name": "stdout",
     "output_type": "stream",
     "text": [
      "precision=[0.54487179 0.         0.53846154], recall=[0.89473684 0.         0.28378378], f1=[0.67729084 0.         0.37168142], accuracy=0.54\n",
      "[*] predict with rf model\n",
      "precision=[0.66141732 0.75       0.75      ], recall=[0.88421053 0.11538462 0.64864865], f1=[0.75675676 0.2        0.69565217], accuracy=0.69\n",
      "[*] predict with lrbias model\n",
      "precision=[0.66371681 1.         0.625     ], recall=[0.78947368 0.07692308 0.67567568], f1=[0.72115385 0.14285714 0.64935065], accuracy=0.65\n",
      "[*] predict with xgb model\n"
     ]
    },
    {
     "name": "stderr",
     "output_type": "stream",
     "text": [
      "[Parallel(n_jobs=-1)]: Using backend LokyBackend with 20 concurrent workers.\n",
      "[Parallel(n_jobs=-1)]: Done   1 out of   1 | elapsed:    0.1s finished\n"
     ]
    },
    {
     "name": "stdout",
     "output_type": "stream",
     "text": [
      "precision=[0.68032787 0.5        0.71641791], recall=[0.87368421 0.11538462 0.64864865], f1=[0.76497696 0.1875     0.68085106], accuracy=0.69\n",
      "rec:['Indy500-2015', 1327, 195, '+:74,0:26,-:95', 0.13333333333333333, 0.2564102564102564, 0.4461538461538462, 0.6512820512820513, 0.6461538461538462, 0.5435897435897435, 0.6923076923076923, 0.6512820512820513, 0.6871794871794872]\n",
      "Testset = Indy500-2016\n",
      "[*] predict with currank model\n",
      "precision=[0.         0.12598425 0.        ], recall=[0. 1. 0.], f1=[0.         0.22377622 0.        ], accuracy=0.13\n",
      "[*] predict with avgrank model\n",
      "precision=[0.42519685 0.25       0.31313131], recall=[0.43548387 0.21875    0.31632653], f1=[0.43027888 0.23333333 0.31472081], accuracy=0.36\n",
      "[*] predict with dice model\n",
      "precision=[0.49342105 0.05714286 0.47761194], recall=[0.60483871 0.0625     0.32653061], f1=[0.54347826 0.05970149 0.38787879], accuracy=0.43\n",
      "[*] predict with lr model\n",
      "precision=[0.625      0.38461538 0.69863014], recall=[0.84677419 0.15625    0.52040816], f1=[0.71917808 0.22222222 0.59649123], accuracy=0.63\n",
      "[*] predict with lsvc model\n"
     ]
    },
    {
     "name": "stderr",
     "output_type": "stream",
     "text": [
      "/scratch_ssd/hpda/anaconda3/envs/gluonts/lib/python3.6/site-packages/sklearn/metrics/_classification.py:1272: UndefinedMetricWarning: Precision is ill-defined and being set to 0.0 in labels with no predicted samples. Use `zero_division` parameter to control this behavior.\n",
      "  _warn_prf(average, modifier, msg_start, len(result))\n",
      "/scratch_ssd/hpda/anaconda3/envs/gluonts/lib/python3.6/site-packages/sklearn/svm/_base.py:947: ConvergenceWarning: Liblinear failed to converge, increase the number of iterations.\n",
      "  \"the number of iterations.\", ConvergenceWarning)\n"
     ]
    },
    {
     "name": "stdout",
     "output_type": "stream",
     "text": [
      "precision=[0.61235955 0.5        0.7027027 ], recall=[0.87903226 0.03125    0.53061224], f1=[0.7218543  0.05882353 0.60465116], accuracy=0.64\n",
      "[*] predict with lsvcl2 model\n"
     ]
    },
    {
     "name": "stderr",
     "output_type": "stream",
     "text": [
      "/scratch_ssd/hpda/anaconda3/envs/gluonts/lib/python3.6/site-packages/sklearn/svm/_base.py:947: ConvergenceWarning: Liblinear failed to converge, increase the number of iterations.\n",
      "  \"the number of iterations.\", ConvergenceWarning)\n",
      "/scratch_ssd/hpda/anaconda3/envs/gluonts/lib/python3.6/site-packages/sklearn/metrics/_classification.py:1272: UndefinedMetricWarning: Precision is ill-defined and being set to 0.0 in labels with no predicted samples. Use `zero_division` parameter to control this behavior.\n",
      "  _warn_prf(average, modifier, msg_start, len(result))\n"
     ]
    },
    {
     "name": "stdout",
     "output_type": "stream",
     "text": [
      "precision=[0.60555556 0.         0.72972973], recall=[0.87903226 0.         0.55102041], f1=[0.71710526 0.         0.62790698], accuracy=0.64\n",
      "[*] predict with rf model\n",
      "precision=[0.63690476 0.5        0.7       ], recall=[0.86290323 0.09375    0.57142857], f1=[0.73287671 0.15789474 0.62921348], accuracy=0.65\n",
      "[*] predict with lrbias model\n",
      "precision=[0.62650602 0.42857143 0.68918919], recall=[0.83870968 0.1875     0.52040816], f1=[0.71724138 0.26086957 0.59302326], accuracy=0.63\n",
      "[*] predict with xgb model\n"
     ]
    },
    {
     "name": "stderr",
     "output_type": "stream",
     "text": [
      "[Parallel(n_jobs=-1)]: Using backend LokyBackend with 20 concurrent workers.\n",
      "[Parallel(n_jobs=-1)]: Done   1 out of   1 | elapsed:    0.1s finished\n"
     ]
    },
    {
     "name": "stdout",
     "output_type": "stream",
     "text": [
      "precision=[0.69444444 0.4375     0.69148936], recall=[0.80645161 0.21875    0.66326531], f1=[0.74626866 0.29166667 0.67708333], accuracy=0.68\n",
      "rec:['Indy500-2016', 1268, 254, '+:98,0:32,-:124', 0.12598425196850394, 0.36220472440944884, 0.42913385826771655, 0.6338582677165354, 0.6377952755905512, 0.6417322834645669, 0.6535433070866141, 0.6338582677165354, 0.6771653543307087]\n",
      "Testset = Indy500-2017\n",
      "[*] predict with currank model\n",
      "precision=[0.         0.19758065 0.        ], recall=[0. 1. 0.], f1=[0.         0.32996633 0.        ], accuracy=0.20\n",
      "[*] predict with avgrank model\n",
      "precision=[0.37931034 0.23404255 0.18823529], recall=[0.34645669 0.2244898  0.22222222], f1=[0.36213992 0.22916667 0.20382166], accuracy=0.29\n",
      "[*] predict with dice model\n",
      "precision=[0.46575342 0.16666667 0.23611111], recall=[0.53543307 0.10204082 0.23611111], f1=[0.4981685  0.12658228 0.23611111], accuracy=0.36\n",
      "[*] predict with lr model\n",
      "precision=[0.74074074 0.19774011 0.34090909], recall=[0.15748031 0.71428571 0.20833333], f1=[0.25974026 0.30973451 0.25862069], accuracy=0.28\n",
      "[*] predict with lsvc model\n"
     ]
    },
    {
     "name": "stderr",
     "output_type": "stream",
     "text": [
      "/scratch_ssd/hpda/anaconda3/envs/gluonts/lib/python3.6/site-packages/sklearn/metrics/_classification.py:1272: UndefinedMetricWarning: Precision is ill-defined and being set to 0.0 in labels with no predicted samples. Use `zero_division` parameter to control this behavior.\n",
      "  _warn_prf(average, modifier, msg_start, len(result))\n",
      "/scratch_ssd/hpda/anaconda3/envs/gluonts/lib/python3.6/site-packages/sklearn/svm/_base.py:947: ConvergenceWarning: Liblinear failed to converge, increase the number of iterations.\n",
      "  \"the number of iterations.\", ConvergenceWarning)\n"
     ]
    },
    {
     "name": "stdout",
     "output_type": "stream",
     "text": [
      "precision=[0.74074074 0.20238095 0.41509434], recall=[0.15748031 0.69387755 0.30555556], f1=[0.25974026 0.31336406 0.352     ], accuracy=0.31\n",
      "[*] predict with lsvcl2 model\n"
     ]
    },
    {
     "name": "stderr",
     "output_type": "stream",
     "text": [
      "/scratch_ssd/hpda/anaconda3/envs/gluonts/lib/python3.6/site-packages/sklearn/svm/_base.py:947: ConvergenceWarning: Liblinear failed to converge, increase the number of iterations.\n",
      "  \"the number of iterations.\", ConvergenceWarning)\n"
     ]
    },
    {
     "name": "stdout",
     "output_type": "stream",
     "text": [
      "precision=[0.73684211 0.18918919 0.4       ], recall=[0.22047244 0.71428571 0.13888889], f1=[0.33939394 0.2991453  0.20618557], accuracy=0.29\n",
      "[*] predict with rf model\n",
      "precision=[0.65413534 0.47619048 0.56164384], recall=[0.68503937 0.40816327 0.56944444], f1=[0.66923077 0.43956044 0.56551724], accuracy=0.60\n",
      "[*] predict with lrbias model\n",
      "precision=[0.77777778 0.19883041 0.34      ], recall=[0.16535433 0.69387755 0.23611111], f1=[0.27272727 0.30909091 0.27868852], accuracy=0.29\n",
      "[*] predict with xgb model\n"
     ]
    },
    {
     "name": "stderr",
     "output_type": "stream",
     "text": [
      "[Parallel(n_jobs=-1)]: Using backend LokyBackend with 20 concurrent workers.\n",
      "[Parallel(n_jobs=-1)]: Done   1 out of   1 | elapsed:    0.1s finished\n"
     ]
    },
    {
     "name": "stdout",
     "output_type": "stream",
     "text": [
      "precision=[0.73636364 0.47272727 0.55421687], recall=[0.63779528 0.53061224 0.63888889], f1=[0.6835443  0.5        0.59354839], accuracy=0.62\n",
      "rec:['Indy500-2017', 1274, 248, '+:72,0:49,-:127', 0.1975806451612903, 0.2862903225806452, 0.3629032258064516, 0.28225806451612906, 0.3064516129032258, 0.29435483870967744, 0.5967741935483871, 0.2903225806451613, 0.6169354838709677]\n",
      "Testset = Indy500-2018\n",
      "[*] predict with currank model\n",
      "precision=[0.        0.1005291 0.       ], recall=[0. 1. 0.], f1=[0.         0.18269231 0.        ], accuracy=0.10\n",
      "[*] predict with avgrank model\n",
      "precision=[0.38947368 0.29411765 0.23376623], recall=[0.37755102 0.26315789 0.25      ], f1=[0.38341969 0.27777778 0.24161074], accuracy=0.32\n",
      "[*] predict with dice model\n",
      "precision=[0.47706422 0.12       0.32727273], recall=[0.53061224 0.15789474 0.25      ], f1=[0.50241546 0.13636364 0.28346457], accuracy=0.39\n",
      "[*] predict with lr model\n",
      "precision=[0.65648855 0.22222222 0.73469388], recall=[0.87755102 0.10526316 0.5       ], f1=[0.7510917  0.14285714 0.59504132], accuracy=0.66\n",
      "[*] predict with lsvc model\n"
     ]
    },
    {
     "name": "stderr",
     "output_type": "stream",
     "text": [
      "/scratch_ssd/hpda/anaconda3/envs/gluonts/lib/python3.6/site-packages/sklearn/metrics/_classification.py:1272: UndefinedMetricWarning: Precision is ill-defined and being set to 0.0 in labels with no predicted samples. Use `zero_division` parameter to control this behavior.\n",
      "  _warn_prf(average, modifier, msg_start, len(result))\n",
      "/scratch_ssd/hpda/anaconda3/envs/gluonts/lib/python3.6/site-packages/sklearn/svm/_base.py:947: ConvergenceWarning: Liblinear failed to converge, increase the number of iterations.\n",
      "  \"the number of iterations.\", ConvergenceWarning)\n"
     ]
    },
    {
     "name": "stdout",
     "output_type": "stream",
     "text": [
      "precision=[0.64137931 0.33333333 0.80487805], recall=[0.94897959 0.05263158 0.45833333], f1=[0.7654321  0.09090909 0.5840708 ], accuracy=0.67\n",
      "[*] predict with lsvcl2 model\n"
     ]
    },
    {
     "name": "stderr",
     "output_type": "stream",
     "text": [
      "/scratch_ssd/hpda/anaconda3/envs/gluonts/lib/python3.6/site-packages/sklearn/svm/_base.py:947: ConvergenceWarning: Liblinear failed to converge, increase the number of iterations.\n",
      "  \"the number of iterations.\", ConvergenceWarning)\n",
      "/scratch_ssd/hpda/anaconda3/envs/gluonts/lib/python3.6/site-packages/sklearn/metrics/_classification.py:1272: UndefinedMetricWarning: Precision is ill-defined and being set to 0.0 in labels with no predicted samples. Use `zero_division` parameter to control this behavior.\n",
      "  _warn_prf(average, modifier, msg_start, len(result))\n"
     ]
    },
    {
     "name": "stdout",
     "output_type": "stream",
     "text": [
      "precision=[0.76       0.         0.51754386], recall=[0.58163265 0.         0.81944444], f1=[0.65895954 0.         0.6344086 ], accuracy=0.61\n",
      "[*] predict with rf model\n",
      "precision=[0.66666667 1.         0.76470588], recall=[0.91836735 0.15789474 0.54166667], f1=[0.77253219 0.27272727 0.63414634], accuracy=0.70\n",
      "[*] predict with lrbias model\n",
      "precision=[0.65151515 0.2        0.76595745], recall=[0.87755102 0.10526316 0.5       ], f1=[0.74782609 0.13793103 0.60504202], accuracy=0.66\n",
      "[*] predict with xgb model\n"
     ]
    },
    {
     "name": "stderr",
     "output_type": "stream",
     "text": [
      "[Parallel(n_jobs=-1)]: Using backend LokyBackend with 20 concurrent workers.\n",
      "[Parallel(n_jobs=-1)]: Done   1 out of   1 | elapsed:    0.1s finished\n"
     ]
    },
    {
     "name": "stdout",
     "output_type": "stream",
     "text": [
      "precision=[0.71134021 0.42857143 0.65384615], recall=[0.70408163 0.31578947 0.70833333], f1=[0.70769231 0.36363636 0.68      ], accuracy=0.67\n",
      "rec:['Indy500-2018', 1333, 189, '+:72,0:19,-:98', 0.10052910052910052, 0.31746031746031744, 0.3862433862433862, 0.656084656084656, 0.671957671957672, 0.6137566137566137, 0.6984126984126984, 0.656084656084656, 0.6666666666666666]\n",
      "Testset = Indy500-2019\n",
      "[*] predict with currank model\n",
      "precision=[0.         0.15277778 0.        ], recall=[0. 1. 0.], f1=[0.         0.26506024 0.        ], accuracy=0.15\n",
      "[*] predict with avgrank model\n",
      "precision=[0.46428571 0.34482759 0.24      ], recall=[0.44444444 0.3030303  0.27272727], f1=[0.45414847 0.32258065 0.25531915], accuracy=0.37\n",
      "[*] predict with dice model\n",
      "precision=[0.59349593 0.33333333 0.34848485], recall=[0.62393162 0.27272727 0.34848485], f1=[0.60833333 0.3        0.34848485], accuracy=0.49\n",
      "[*] predict with lr model\n",
      "precision=[0.66666667 0.44444444 0.54666667], recall=[0.75213675 0.12121212 0.62121212], f1=[0.70682731 0.19047619 0.58156028], accuracy=0.62\n",
      "[*] predict with lsvc model\n"
     ]
    },
    {
     "name": "stderr",
     "output_type": "stream",
     "text": [
      "/scratch_ssd/hpda/anaconda3/envs/gluonts/lib/python3.6/site-packages/sklearn/metrics/_classification.py:1272: UndefinedMetricWarning: Precision is ill-defined and being set to 0.0 in labels with no predicted samples. Use `zero_division` parameter to control this behavior.\n",
      "  _warn_prf(average, modifier, msg_start, len(result))\n",
      "/scratch_ssd/hpda/anaconda3/envs/gluonts/lib/python3.6/site-packages/sklearn/svm/_base.py:947: ConvergenceWarning: Liblinear failed to converge, increase the number of iterations.\n",
      "  \"the number of iterations.\", ConvergenceWarning)\n"
     ]
    },
    {
     "name": "stdout",
     "output_type": "stream",
     "text": [
      "precision=[0.64885496 0.66666667 0.51219512], recall=[0.72649573 0.06060606 0.63636364], f1=[0.68548387 0.11111111 0.56756757], accuracy=0.60\n",
      "[*] predict with lsvcl2 model\n"
     ]
    },
    {
     "name": "stderr",
     "output_type": "stream",
     "text": [
      "/scratch_ssd/hpda/anaconda3/envs/gluonts/lib/python3.6/site-packages/sklearn/svm/_base.py:947: ConvergenceWarning: Liblinear failed to converge, increase the number of iterations.\n",
      "  \"the number of iterations.\", ConvergenceWarning)\n",
      "/scratch_ssd/hpda/anaconda3/envs/gluonts/lib/python3.6/site-packages/sklearn/metrics/_classification.py:1272: UndefinedMetricWarning: Precision is ill-defined and being set to 0.0 in labels with no predicted samples. Use `zero_division` parameter to control this behavior.\n",
      "  _warn_prf(average, modifier, msg_start, len(result))\n"
     ]
    },
    {
     "name": "stdout",
     "output_type": "stream",
     "text": [
      "precision=[0.65359477 0.         0.65079365], recall=[0.85470085 0.         0.62121212], f1=[0.74074074 0.         0.63565891], accuracy=0.65\n",
      "[*] predict with rf model\n",
      "precision=[0.65       0.66666667 0.52222222], recall=[0.66666667 0.12121212 0.71212121], f1=[0.65822785 0.20512821 0.6025641 ], accuracy=0.60\n",
      "[*] predict with lrbias model\n",
      "precision=[0.66412214 0.5        0.53246753], recall=[0.74358974 0.12121212 0.62121212], f1=[0.7016129  0.19512195 0.57342657], accuracy=0.61\n",
      "[*] predict with xgb model\n"
     ]
    },
    {
     "name": "stderr",
     "output_type": "stream",
     "text": [
      "[Parallel(n_jobs=-1)]: Using backend LokyBackend with 20 concurrent workers.\n",
      "[Parallel(n_jobs=-1)]: Done   1 out of   1 | elapsed:    0.1s finished\n"
     ]
    },
    {
     "name": "stdout",
     "output_type": "stream",
     "text": [
      "precision=[0.63909774 0.5        0.53623188], recall=[0.72649573 0.21212121 0.56060606], f1=[0.68       0.29787234 0.54814815], accuracy=0.60\n",
      "rec:['Indy500-2019', 1306, 216, '+:66,0:33,-:117', 0.1527777777777778, 0.37037037037037035, 0.4861111111111111, 0.6157407407407407, 0.5972222222222222, 0.6527777777777778, 0.5972222222222222, 0.6111111111111112, 0.5972222222222222]\n"
     ]
    }
   ],
   "source": [
    "df_event = test_cv()"
   ]
  },
  {
   "cell_type": "code",
   "execution_count": 12,
   "metadata": {},
   "outputs": [
    {
     "data": {
      "text/html": [
       "<div>\n",
       "<style scoped>\n",
       "    .dataframe tbody tr th:only-of-type {\n",
       "        vertical-align: middle;\n",
       "    }\n",
       "\n",
       "    .dataframe tbody tr th {\n",
       "        vertical-align: top;\n",
       "    }\n",
       "\n",
       "    .dataframe thead th {\n",
       "        text-align: right;\n",
       "    }\n",
       "</style>\n",
       "<table border=\"1\" class=\"dataframe\">\n",
       "  <thead>\n",
       "    <tr style=\"text-align: right;\">\n",
       "      <th></th>\n",
       "      <th>runid</th>\n",
       "      <th>trainsize</th>\n",
       "      <th>testsize</th>\n",
       "      <th>testdistribution</th>\n",
       "      <th>currank</th>\n",
       "      <th>avgrank</th>\n",
       "      <th>dice</th>\n",
       "      <th>lr</th>\n",
       "      <th>lsvc</th>\n",
       "      <th>lsvcl2</th>\n",
       "      <th>rf</th>\n",
       "      <th>lrbias</th>\n",
       "      <th>xgb</th>\n",
       "    </tr>\n",
       "  </thead>\n",
       "  <tbody>\n",
       "    <tr>\n",
       "      <th>0</th>\n",
       "      <td>Indy500-2013</td>\n",
       "      <td>1327</td>\n",
       "      <td>195</td>\n",
       "      <td>+:68,0:29,-:98</td>\n",
       "      <td>0.148718</td>\n",
       "      <td>0.328205</td>\n",
       "      <td>0.379487</td>\n",
       "      <td>0.610256</td>\n",
       "      <td>0.615385</td>\n",
       "      <td>0.558974</td>\n",
       "      <td>0.646154</td>\n",
       "      <td>0.615385</td>\n",
       "      <td>0.641026</td>\n",
       "    </tr>\n",
       "    <tr>\n",
       "      <th>0</th>\n",
       "      <td>Indy500-2014</td>\n",
       "      <td>1297</td>\n",
       "      <td>225</td>\n",
       "      <td>+:63,0:43,-:119</td>\n",
       "      <td>0.191111</td>\n",
       "      <td>0.373333</td>\n",
       "      <td>0.400000</td>\n",
       "      <td>0.591111</td>\n",
       "      <td>0.595556</td>\n",
       "      <td>0.546667</td>\n",
       "      <td>0.604444</td>\n",
       "      <td>0.595556</td>\n",
       "      <td>0.537778</td>\n",
       "    </tr>\n",
       "    <tr>\n",
       "      <th>0</th>\n",
       "      <td>Indy500-2015</td>\n",
       "      <td>1327</td>\n",
       "      <td>195</td>\n",
       "      <td>+:74,0:26,-:95</td>\n",
       "      <td>0.133333</td>\n",
       "      <td>0.256410</td>\n",
       "      <td>0.446154</td>\n",
       "      <td>0.651282</td>\n",
       "      <td>0.646154</td>\n",
       "      <td>0.543590</td>\n",
       "      <td>0.692308</td>\n",
       "      <td>0.651282</td>\n",
       "      <td>0.687179</td>\n",
       "    </tr>\n",
       "    <tr>\n",
       "      <th>0</th>\n",
       "      <td>Indy500-2016</td>\n",
       "      <td>1268</td>\n",
       "      <td>254</td>\n",
       "      <td>+:98,0:32,-:124</td>\n",
       "      <td>0.125984</td>\n",
       "      <td>0.362205</td>\n",
       "      <td>0.429134</td>\n",
       "      <td>0.633858</td>\n",
       "      <td>0.637795</td>\n",
       "      <td>0.641732</td>\n",
       "      <td>0.653543</td>\n",
       "      <td>0.633858</td>\n",
       "      <td>0.677165</td>\n",
       "    </tr>\n",
       "    <tr>\n",
       "      <th>0</th>\n",
       "      <td>Indy500-2017</td>\n",
       "      <td>1274</td>\n",
       "      <td>248</td>\n",
       "      <td>+:72,0:49,-:127</td>\n",
       "      <td>0.197581</td>\n",
       "      <td>0.286290</td>\n",
       "      <td>0.362903</td>\n",
       "      <td>0.282258</td>\n",
       "      <td>0.306452</td>\n",
       "      <td>0.294355</td>\n",
       "      <td>0.596774</td>\n",
       "      <td>0.290323</td>\n",
       "      <td>0.616935</td>\n",
       "    </tr>\n",
       "    <tr>\n",
       "      <th>0</th>\n",
       "      <td>Indy500-2018</td>\n",
       "      <td>1333</td>\n",
       "      <td>189</td>\n",
       "      <td>+:72,0:19,-:98</td>\n",
       "      <td>0.100529</td>\n",
       "      <td>0.317460</td>\n",
       "      <td>0.386243</td>\n",
       "      <td>0.656085</td>\n",
       "      <td>0.671958</td>\n",
       "      <td>0.613757</td>\n",
       "      <td>0.698413</td>\n",
       "      <td>0.656085</td>\n",
       "      <td>0.666667</td>\n",
       "    </tr>\n",
       "    <tr>\n",
       "      <th>0</th>\n",
       "      <td>Indy500-2019</td>\n",
       "      <td>1306</td>\n",
       "      <td>216</td>\n",
       "      <td>+:66,0:33,-:117</td>\n",
       "      <td>0.152778</td>\n",
       "      <td>0.370370</td>\n",
       "      <td>0.486111</td>\n",
       "      <td>0.615741</td>\n",
       "      <td>0.597222</td>\n",
       "      <td>0.652778</td>\n",
       "      <td>0.597222</td>\n",
       "      <td>0.611111</td>\n",
       "      <td>0.597222</td>\n",
       "    </tr>\n",
       "  </tbody>\n",
       "</table>\n",
       "</div>"
      ],
      "text/plain": [
       "          runid trainsize testsize testdistribution   currank   avgrank  \\\n",
       "0  Indy500-2013      1327      195   +:68,0:29,-:98  0.148718  0.328205   \n",
       "0  Indy500-2014      1297      225  +:63,0:43,-:119  0.191111  0.373333   \n",
       "0  Indy500-2015      1327      195   +:74,0:26,-:95  0.133333  0.256410   \n",
       "0  Indy500-2016      1268      254  +:98,0:32,-:124  0.125984  0.362205   \n",
       "0  Indy500-2017      1274      248  +:72,0:49,-:127  0.197581  0.286290   \n",
       "0  Indy500-2018      1333      189   +:72,0:19,-:98  0.100529  0.317460   \n",
       "0  Indy500-2019      1306      216  +:66,0:33,-:117  0.152778  0.370370   \n",
       "\n",
       "       dice        lr      lsvc    lsvcl2        rf    lrbias       xgb  \n",
       "0  0.379487  0.610256  0.615385  0.558974  0.646154  0.615385  0.641026  \n",
       "0  0.400000  0.591111  0.595556  0.546667  0.604444  0.595556  0.537778  \n",
       "0  0.446154  0.651282  0.646154  0.543590  0.692308  0.651282  0.687179  \n",
       "0  0.429134  0.633858  0.637795  0.641732  0.653543  0.633858  0.677165  \n",
       "0  0.362903  0.282258  0.306452  0.294355  0.596774  0.290323  0.616935  \n",
       "0  0.386243  0.656085  0.671958  0.613757  0.698413  0.656085  0.666667  \n",
       "0  0.486111  0.615741  0.597222  0.652778  0.597222  0.611111  0.597222  "
      ]
     },
     "execution_count": 12,
     "metadata": {},
     "output_type": "execute_result"
    }
   ],
   "source": [
    "df_event"
   ]
  },
  {
   "cell_type": "code",
   "execution_count": 13,
   "metadata": {},
   "outputs": [
    {
     "name": "stdout",
     "output_type": "stream",
     "text": [
      "cols:['runid', 'trainsize', 'testsize', 'testdistribution', 'currank', 'avgrank', 'dice', 'lr', 'lsvc', 'lsvcl2', 'rf', 'lrbias', 'xgb']\n",
      "Testset = Indy500-2018\n",
      "[*] predict with currank model\n",
      "precision=[0.        0.1005291 0.       ], recall=[0. 1. 0.], f1=[0.         0.18269231 0.        ], accuracy=0.10\n",
      "[*] predict with avgrank model\n",
      "precision=[0.38947368 0.29411765 0.23376623], recall=[0.37755102 0.26315789 0.25      ], f1=[0.38341969 0.27777778 0.24161074], accuracy=0.32\n",
      "[*] predict with dice model\n",
      "precision=[0.47222222 0.12       0.32142857], recall=[0.52040816 0.15789474 0.25      ], f1=[0.49514563 0.13636364 0.28125   ], accuracy=0.38\n",
      "[*] predict with lr model\n",
      "precision=[0.67669173 0.25       0.79166667], recall=[0.91836735 0.10526316 0.52777778], f1=[0.77922078 0.14814815 0.63333333], accuracy=0.69\n",
      "[*] predict with lsvc model\n"
     ]
    },
    {
     "name": "stderr",
     "output_type": "stream",
     "text": [
      "/scratch_ssd/hpda/anaconda3/envs/gluonts/lib/python3.6/site-packages/sklearn/metrics/_classification.py:1272: UndefinedMetricWarning: Precision is ill-defined and being set to 0.0 in labels with no predicted samples. Use `zero_division` parameter to control this behavior.\n",
      "  _warn_prf(average, modifier, msg_start, len(result))\n",
      "/scratch_ssd/hpda/anaconda3/envs/gluonts/lib/python3.6/site-packages/sklearn/svm/_base.py:947: ConvergenceWarning: Liblinear failed to converge, increase the number of iterations.\n",
      "  \"the number of iterations.\", ConvergenceWarning)\n",
      "/scratch_ssd/hpda/anaconda3/envs/gluonts/lib/python3.6/site-packages/sklearn/metrics/_classification.py:1272: UndefinedMetricWarning: Precision is ill-defined and being set to 0.0 in labels with no predicted samples. Use `zero_division` parameter to control this behavior.\n",
      "  _warn_prf(average, modifier, msg_start, len(result))\n"
     ]
    },
    {
     "name": "stdout",
     "output_type": "stream",
     "text": [
      "precision=[0.625      0.         0.83783784], recall=[0.96938776 0.         0.43055556], f1=[0.76       0.         0.56880734], accuracy=0.67\n",
      "[*] predict with lsvcl2 model\n"
     ]
    },
    {
     "name": "stderr",
     "output_type": "stream",
     "text": [
      "/scratch_ssd/hpda/anaconda3/envs/gluonts/lib/python3.6/site-packages/sklearn/svm/_base.py:947: ConvergenceWarning: Liblinear failed to converge, increase the number of iterations.\n",
      "  \"the number of iterations.\", ConvergenceWarning)\n"
     ]
    },
    {
     "name": "stdout",
     "output_type": "stream",
     "text": [
      "precision=[0.61594203 0.20689655 0.90909091], recall=[0.86734694 0.31578947 0.27777778], f1=[0.72033898 0.25       0.42553191], accuracy=0.59\n",
      "[*] predict with rf model\n",
      "precision=[0.672      1.         0.70967742], recall=[0.85714286 0.10526316 0.61111111], f1=[0.75336323 0.19047619 0.65671642], accuracy=0.69\n",
      "[*] predict with lrbias model\n",
      "precision=[0.6641791 0.        0.7755102], recall=[0.90816327 0.         0.52777778], f1=[0.76724138 0.         0.62809917], accuracy=0.67\n",
      "[*] predict with xgb model\n"
     ]
    },
    {
     "name": "stderr",
     "output_type": "stream",
     "text": [
      "[Parallel(n_jobs=-1)]: Using backend LokyBackend with 20 concurrent workers.\n",
      "[Parallel(n_jobs=-1)]: Done   1 out of   1 | elapsed:    0.2s finished\n"
     ]
    },
    {
     "name": "stdout",
     "output_type": "stream",
     "text": [
      "precision=[0.6969697  0.35294118 0.65753425], recall=[0.70408163 0.31578947 0.66666667], f1=[0.70050761 0.33333333 0.66206897], accuracy=0.65\n",
      "rec:['Indy500-2018', 1117, 189, '+:72,0:19,-:98', 0.10052910052910052, 0.31746031746031744, 0.38095238095238093, 0.6878306878306878, 0.6666666666666666, 0.5873015873015873, 0.6878306878306878, 0.671957671957672, 0.6507936507936508]\n",
      "Testset = Indy500-2019\n",
      "[*] predict with currank model\n",
      "precision=[0.         0.15277778 0.        ], recall=[0. 1. 0.], f1=[0.         0.26506024 0.        ], accuracy=0.15\n",
      "[*] predict with avgrank model\n",
      "precision=[0.46428571 0.34482759 0.24      ], recall=[0.44444444 0.3030303  0.27272727], f1=[0.45414847 0.32258065 0.25531915], accuracy=0.37\n",
      "[*] predict with dice model\n",
      "precision=[0.59349593 0.3125     0.3442623 ], recall=[0.62393162 0.3030303  0.31818182], f1=[0.60833333 0.30769231 0.33070866], accuracy=0.48\n",
      "[*] predict with lr model\n",
      "precision=[0.67153285 0.5        0.57971014], recall=[0.78632479 0.15151515 0.60606061], f1=[0.72440945 0.23255814 0.59259259], accuracy=0.63\n",
      "[*] predict with lsvc model\n"
     ]
    },
    {
     "name": "stderr",
     "output_type": "stream",
     "text": [
      "/scratch_ssd/hpda/anaconda3/envs/gluonts/lib/python3.6/site-packages/sklearn/metrics/_classification.py:1272: UndefinedMetricWarning: Precision is ill-defined and being set to 0.0 in labels with no predicted samples. Use `zero_division` parameter to control this behavior.\n",
      "  _warn_prf(average, modifier, msg_start, len(result))\n",
      "/scratch_ssd/hpda/anaconda3/envs/gluonts/lib/python3.6/site-packages/sklearn/svm/_base.py:947: ConvergenceWarning: Liblinear failed to converge, increase the number of iterations.\n",
      "  \"the number of iterations.\", ConvergenceWarning)\n"
     ]
    },
    {
     "name": "stdout",
     "output_type": "stream",
     "text": [
      "precision=[0.64375    0.5        0.64814815], recall=[0.88034188 0.03030303 0.53030303], f1=[0.74368231 0.05714286 0.58333333], accuracy=0.64\n",
      "[*] predict with lsvcl2 model\n"
     ]
    },
    {
     "name": "stderr",
     "output_type": "stream",
     "text": [
      "/scratch_ssd/hpda/anaconda3/envs/gluonts/lib/python3.6/site-packages/sklearn/svm/_base.py:947: ConvergenceWarning: Liblinear failed to converge, increase the number of iterations.\n",
      "  \"the number of iterations.\", ConvergenceWarning)\n",
      "/scratch_ssd/hpda/anaconda3/envs/gluonts/lib/python3.6/site-packages/sklearn/metrics/_classification.py:1272: UndefinedMetricWarning: Precision is ill-defined and being set to 0.0 in labels with no predicted samples. Use `zero_division` parameter to control this behavior.\n",
      "  _warn_prf(average, modifier, msg_start, len(result))\n"
     ]
    },
    {
     "name": "stdout",
     "output_type": "stream",
     "text": [
      "precision=[0.73239437 0.         0.40689655], recall=[0.44444444 0.         0.89393939], f1=[0.55319149 0.         0.55924171], accuracy=0.51\n",
      "[*] predict with rf model\n",
      "precision=[0.64393939 0.8        0.55696203], recall=[0.72649573 0.12121212 0.66666667], f1=[0.68273092 0.21052632 0.60689655], accuracy=0.62\n",
      "[*] predict with lrbias model\n",
      "precision=[0.67391304 0.44444444 0.57971014], recall=[0.79487179 0.12121212 0.60606061], f1=[0.72941176 0.19047619 0.59259259], accuracy=0.63\n",
      "[*] predict with xgb model\n"
     ]
    },
    {
     "name": "stderr",
     "output_type": "stream",
     "text": [
      "[Parallel(n_jobs=-1)]: Using backend LokyBackend with 20 concurrent workers.\n",
      "[Parallel(n_jobs=-1)]: Done   1 out of   1 | elapsed:    0.1s finished\n"
     ]
    },
    {
     "name": "stdout",
     "output_type": "stream",
     "text": [
      "precision=[0.66666667 0.5        0.57142857], recall=[0.76923077 0.27272727 0.54545455], f1=[0.71428571 0.35294118 0.55813953], accuracy=0.62\n",
      "rec:['Indy500-2019', 1117, 216, '+:66,0:33,-:117', 0.1527777777777778, 0.37037037037037035, 0.48148148148148145, 0.6342592592592593, 0.6435185185185185, 0.5138888888888888, 0.6157407407407407, 0.6342592592592593, 0.625]\n"
     ]
    }
   ],
   "source": [
    "retdf = test_20182019()"
   ]
  },
  {
   "cell_type": "code",
   "execution_count": 14,
   "metadata": {},
   "outputs": [
    {
     "data": {
      "text/html": [
       "<div>\n",
       "<style scoped>\n",
       "    .dataframe tbody tr th:only-of-type {\n",
       "        vertical-align: middle;\n",
       "    }\n",
       "\n",
       "    .dataframe tbody tr th {\n",
       "        vertical-align: top;\n",
       "    }\n",
       "\n",
       "    .dataframe thead th {\n",
       "        text-align: right;\n",
       "    }\n",
       "</style>\n",
       "<table border=\"1\" class=\"dataframe\">\n",
       "  <thead>\n",
       "    <tr style=\"text-align: right;\">\n",
       "      <th></th>\n",
       "      <th>runid</th>\n",
       "      <th>trainsize</th>\n",
       "      <th>testsize</th>\n",
       "      <th>testdistribution</th>\n",
       "      <th>currank</th>\n",
       "      <th>avgrank</th>\n",
       "      <th>dice</th>\n",
       "      <th>lr</th>\n",
       "      <th>lsvc</th>\n",
       "      <th>lsvcl2</th>\n",
       "      <th>rf</th>\n",
       "      <th>lrbias</th>\n",
       "      <th>xgb</th>\n",
       "    </tr>\n",
       "  </thead>\n",
       "  <tbody>\n",
       "    <tr>\n",
       "      <th>0</th>\n",
       "      <td>Indy500-2018</td>\n",
       "      <td>1117</td>\n",
       "      <td>189</td>\n",
       "      <td>+:72,0:19,-:98</td>\n",
       "      <td>0.100529</td>\n",
       "      <td>0.31746</td>\n",
       "      <td>0.380952</td>\n",
       "      <td>0.687831</td>\n",
       "      <td>0.666667</td>\n",
       "      <td>0.587302</td>\n",
       "      <td>0.687831</td>\n",
       "      <td>0.671958</td>\n",
       "      <td>0.650794</td>\n",
       "    </tr>\n",
       "    <tr>\n",
       "      <th>0</th>\n",
       "      <td>Indy500-2019</td>\n",
       "      <td>1117</td>\n",
       "      <td>216</td>\n",
       "      <td>+:66,0:33,-:117</td>\n",
       "      <td>0.152778</td>\n",
       "      <td>0.37037</td>\n",
       "      <td>0.481481</td>\n",
       "      <td>0.634259</td>\n",
       "      <td>0.643519</td>\n",
       "      <td>0.513889</td>\n",
       "      <td>0.615741</td>\n",
       "      <td>0.634259</td>\n",
       "      <td>0.625000</td>\n",
       "    </tr>\n",
       "  </tbody>\n",
       "</table>\n",
       "</div>"
      ],
      "text/plain": [
       "          runid trainsize testsize testdistribution   currank  avgrank  \\\n",
       "0  Indy500-2018      1117      189   +:72,0:19,-:98  0.100529  0.31746   \n",
       "0  Indy500-2019      1117      216  +:66,0:33,-:117  0.152778  0.37037   \n",
       "\n",
       "       dice        lr      lsvc    lsvcl2        rf    lrbias       xgb  \n",
       "0  0.380952  0.687831  0.666667  0.587302  0.687831  0.671958  0.650794  \n",
       "0  0.481481  0.634259  0.643519  0.513889  0.615741  0.634259  0.625000  "
      ]
     },
     "execution_count": 14,
     "metadata": {},
     "output_type": "execute_result"
    }
   ],
   "source": [
    "retdf"
   ]
  },
  {
   "cell_type": "code",
   "execution_count": 17,
   "metadata": {},
   "outputs": [
    {
     "data": {
      "text/html": [
       "<div>\n",
       "<style scoped>\n",
       "    .dataframe tbody tr th:only-of-type {\n",
       "        vertical-align: middle;\n",
       "    }\n",
       "\n",
       "    .dataframe tbody tr th {\n",
       "        vertical-align: top;\n",
       "    }\n",
       "\n",
       "    .dataframe thead th {\n",
       "        text-align: right;\n",
       "    }\n",
       "</style>\n",
       "<table border=\"1\" class=\"dataframe\">\n",
       "  <thead>\n",
       "    <tr style=\"text-align: right;\">\n",
       "      <th></th>\n",
       "      <th>runid</th>\n",
       "      <th>trainsize</th>\n",
       "      <th>testsize</th>\n",
       "      <th>testdistribution</th>\n",
       "      <th>currank</th>\n",
       "      <th>avgrank</th>\n",
       "      <th>dice</th>\n",
       "      <th>lr</th>\n",
       "      <th>lsvc</th>\n",
       "      <th>lsvcl2</th>\n",
       "      <th>rf</th>\n",
       "      <th>lrbias</th>\n",
       "      <th>xgb</th>\n",
       "    </tr>\n",
       "  </thead>\n",
       "  <tbody>\n",
       "    <tr>\n",
       "      <th>0</th>\n",
       "      <td>Indy500-2018</td>\n",
       "      <td>1117</td>\n",
       "      <td>189</td>\n",
       "      <td>+:72,0:19,-:98</td>\n",
       "      <td>0.100529</td>\n",
       "      <td>0.31746</td>\n",
       "      <td>0.380952</td>\n",
       "      <td>0.687831</td>\n",
       "      <td>0.666667</td>\n",
       "      <td>0.455026</td>\n",
       "      <td>0.671958</td>\n",
       "      <td>0.671958</td>\n",
       "      <td>0.650794</td>\n",
       "    </tr>\n",
       "    <tr>\n",
       "      <th>0</th>\n",
       "      <td>Indy500-2019</td>\n",
       "      <td>1117</td>\n",
       "      <td>216</td>\n",
       "      <td>+:66,0:33,-:117</td>\n",
       "      <td>0.152778</td>\n",
       "      <td>0.37037</td>\n",
       "      <td>0.481481</td>\n",
       "      <td>0.634259</td>\n",
       "      <td>0.638889</td>\n",
       "      <td>0.569444</td>\n",
       "      <td>0.606481</td>\n",
       "      <td>0.634259</td>\n",
       "      <td>0.625000</td>\n",
       "    </tr>\n",
       "  </tbody>\n",
       "</table>\n",
       "</div>"
      ],
      "text/plain": [
       "          runid trainsize testsize testdistribution   currank  avgrank  \\\n",
       "0  Indy500-2018      1117      189   +:72,0:19,-:98  0.100529  0.31746   \n",
       "0  Indy500-2019      1117      216  +:66,0:33,-:117  0.152778  0.37037   \n",
       "\n",
       "       dice        lr      lsvc    lsvcl2        rf    lrbias       xgb  \n",
       "0  0.380952  0.687831  0.666667  0.455026  0.671958  0.671958  0.650794  \n",
       "0  0.481481  0.634259  0.638889  0.569444  0.606481  0.634259  0.625000  "
      ]
     },
     "execution_count": 17,
     "metadata": {},
     "output_type": "execute_result"
    }
   ],
   "source": [
    "retdf_oracle"
   ]
  },
  {
   "cell_type": "code",
   "execution_count": null,
   "metadata": {},
   "outputs": [],
   "source": []
  }
 ],
 "metadata": {
  "kernelspec": {
   "display_name": "Python 3",
   "language": "python",
   "name": "python3"
  },
  "language_info": {
   "codemirror_mode": {
    "name": "ipython",
    "version": 3
   },
   "file_extension": ".py",
   "mimetype": "text/x-python",
   "name": "python",
   "nbconvert_exporter": "python",
   "pygments_lexer": "ipython3",
   "version": "3.6.10"
  }
 },
 "nbformat": 4,
 "nbformat_minor": 2
}
