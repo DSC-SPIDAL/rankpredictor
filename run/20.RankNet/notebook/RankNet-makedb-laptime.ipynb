{
 "cells": [
  {
   "cell_type": "markdown",
   "metadata": {},
   "source": [
    "### RankNet-makedb-laptime\n",
    "\n",
    "build laptime dataset from raw log files\n",
    "\n",
    "base: 18./laptime_rank_timediff_dataset\n",
    "\n",
    "create laptime dataset only, no gluonts.\n",
    "\n",
    "+ add lap2nextpit as target, this is as the same as a stacked lstm model when set prediction_length=1\n",
    "+ add lap_instint to dynamic features(pitage)\n",
    "+ add support for historical data, indy500 for different years\n",
    "+ add track and lap status as target, preparing for StatusModel with deepAR\n",
    "\n",
    "this notebook focuses on create the training set, while laptime2rank-evaluate will have testset codes specified for rank calculation\n",
    "\n",
    "+ add new features, caution_laps_instint,lap_instint\n",
    "\n",
    "Build a time series dataset across all the oval races, including laptime, rank. When this dataset aims to be used in forecasting, covariates of the racing status can not be included, such as track_status and lap_status. However, they can be used in oracle test to tell the upper bound of performance of the predictor.\n",
    "\n",
    "Change to a new dataset format that following telemetry dataset.\n",
    "\n",
    "raw:\n",
    "+  [(eventid, carids: carno -> rowid, datalist)]\n",
    "\n",
    "datalist := [datalist_entry] in shape of #car_number\n",
    "\n",
    "datalist_entry := [[laptime, rank, track_status, lap_status]], in shape of #totallaps x #featureCnt (padded by nan)"
   ]
  },
  {
   "cell_type": "code",
   "execution_count": 1,
   "metadata": {},
   "outputs": [],
   "source": [
    "%matplotlib inline\n",
    "import pandas as pd\n",
    "import numpy as np\n",
    "import matplotlib.pyplot as plt\n",
    "import os,sys\n",
    "import random\n",
    "import mxnet as mx\n",
    "from mxnet import gluon\n",
    "import pickle\n",
    "import json\n",
    "from gluonts.dataset.common import ListDataset\n",
    "from gluonts.dataset.util import to_pandas\n",
    "from pandas.plotting import register_matplotlib_converters\n",
    "register_matplotlib_converters()"
   ]
  },
  {
   "cell_type": "markdown",
   "metadata": {},
   "source": [
    "## Load Data"
   ]
  },
  {
   "cell_type": "code",
   "execution_count": 2,
   "metadata": {},
   "outputs": [
    {
     "data": {
      "text/plain": [
       "'/scratch_hdd/hpda/indycar/notebook/19.RankNet'"
      ]
     },
     "execution_count": 2,
     "metadata": {},
     "output_type": "execute_result"
    }
   ],
   "source": [
    "import os\n",
    "os.getcwd()"
   ]
  },
  {
   "cell_type": "code",
   "execution_count": 3,
   "metadata": {},
   "outputs": [],
   "source": [
    "# make indy car completed_laps dataset\n",
    "# car_number, completed_laps, rank, elapsed_time, rank_diff, elapsed_time_diff \n",
    "def make_cl_data(dataset):\n",
    "\n",
    "    # pick up data with valid rank\n",
    "    rankdata = dataset.rename_axis('MyIdx').sort_values(by=['elapsed_time','MyIdx'], ascending=True)\n",
    "    rankdata = rankdata.drop_duplicates(subset=['car_number', 'completed_laps'], keep='first')\n",
    "\n",
    "    # resort by car_number, lap\n",
    "    uni_ds = rankdata.sort_values(by=['car_number', 'completed_laps', 'elapsed_time'], ascending=True)    \n",
    "    #uni_ds = uni_ds.drop([\"unique_id\", \"best_lap\", \"current_status\", \"track_status\", \"lap_status\",\n",
    "    #                  \"laps_behind_leade\",\"laps_behind_prec\",\"overall_rank\",\"pit_stop_count\",\n",
    "    #                  \"last_pitted_lap\",\"start_position\",\"laps_led\"], axis=1)\n",
    "    \n",
    "    uni_ds = uni_ds.drop([\"unique_id\", \"best_lap\", \n",
    "                      \"laps_behind_leade\",\"laps_behind_prec\",\"overall_rank\",\"pit_stop_count\",\n",
    "                      \"last_pitted_lap\",\"start_position\",\"laps_led\"], axis=1)\n",
    "        \n",
    "    carnumber = set(uni_ds['car_number'])\n",
    "    print('cars:', carnumber)\n",
    "    print('#cars=', len(carnumber))\n",
    "   \n",
    "    # faster solution , uni_ds already sorted by car_number and lap\n",
    "    uni_ds['rank_diff'] = uni_ds['rank'].diff()\n",
    "    mask = uni_ds.car_number != uni_ds.car_number.shift(1)\n",
    "    uni_ds['rank_diff'][mask] = 0\n",
    "    \n",
    "    uni_ds['time_diff'] = uni_ds['elapsed_time'].diff()\n",
    "    mask = uni_ds.car_number != uni_ds.car_number.shift(1)\n",
    "    uni_ds['time_diff'][mask] = 0\n",
    "    \n",
    "    #df = uni_ds[['car_number','completed_laps','rank','elapsed_time','rank_diff','time_diff']]\n",
    "    #df = uni_ds[['car_number','completed_laps','rank',\n",
    "    #             'rank_diff','time_diff',\"current_status\", \"track_status\", \"lap_status\",'elapsed_time']]\n",
    "    \n",
    "    df = uni_ds[['car_number','completed_laps','time_diff','rank','track_status', 'lap_status','elapsed_time']]\n",
    "    \n",
    "    return df\n",
    "\n",
    "def make_lapstatus_data(dataset):\n",
    "    final_lap = max(dataset.completed_laps)\n",
    "    total_laps = final_lap + 1\n",
    "\n",
    "    # get records for the cars that finish the race\n",
    "    completed_car_numbers= dataset[dataset.completed_laps == final_lap].car_number.values\n",
    "    completed_car_count = len(completed_car_numbers)\n",
    "\n",
    "    print('count of completed cars:', completed_car_count)\n",
    "    print('completed cars:', completed_car_numbers)\n",
    "    \n",
    "    #pick up one of them\n",
    "    onecar = dataset[dataset['car_number']==completed_car_numbers[0]]\n",
    "    onecar = onecar.drop_duplicates(subset=['car_number', 'completed_laps'], keep='first')\n",
    "    return onecar[['completed_laps','track_status']]\n",
    "    "
   ]
  },
  {
   "cell_type": "code",
   "execution_count": 4,
   "metadata": {},
   "outputs": [],
   "source": [
    "def load_data(event, year=0):\n",
    "    #inputfile = '../data/final/C_'+ event +'-' + year + '-final.csv'\n",
    "    if year>0:\n",
    "        inputfile = '../data/final/C_'+ event +'-' + year + '.csv'\n",
    "    else:\n",
    "        inputfile = '../data/final/C_'+ event +'.csv'\n",
    "    \n",
    "    #outputprefix = year +'-' + event + '-'\n",
    "    dataset = pd.read_csv(inputfile)\n",
    "    #dataset.info(verbose=True)    \n",
    "    \n",
    "    final_lap = max(dataset.completed_laps)\n",
    "    total_laps = final_lap + 1\n",
    "\n",
    "    # get records for the cars that finish the race\n",
    "    completed_car_numbers= dataset[dataset.completed_laps == final_lap].car_number.values\n",
    "    completed_car_count = len(completed_car_numbers)\n",
    "\n",
    "    print('count of completed cars:', completed_car_count)\n",
    "    print('completed cars:', completed_car_numbers)\n",
    "\n",
    "    #make a copy\n",
    "    alldata = dataset.copy()\n",
    "    dataset = dataset[dataset['car_number'].isin(completed_car_numbers)]\n",
    "    rankdata = alldata.rename_axis('MyIdx').sort_values(by=['elapsed_time','MyIdx'], ascending=True)\n",
    "    rankdata = rankdata.drop_duplicates(subset=['car_number', 'completed_laps'], keep='first')\n",
    "    \n",
    "    cldata = make_cl_data(dataset)\n",
    "    flagdata = make_lapstatus_data(dataset)\n",
    "    acldata = make_cl_data(alldata)\n",
    "\n",
    "    return alldata, rankdata, acldata, flagdata"
   ]
  },
  {
   "cell_type": "markdown",
   "metadata": {},
   "source": [
    "### overall view of laptime scatter plots\n",
    "\n"
   ]
  },
  {
   "cell_type": "code",
   "execution_count": 5,
   "metadata": {},
   "outputs": [],
   "source": [
    "def get_cardata(curcarno, ycol='time_diff'):\n",
    "    car = acldata[acldata['car_number']==curcarno]\n",
    "    #print(car['time_diff'].describe())\n",
    "    \n",
    "    cols=['completed_laps','rank','car_number','lap_status','track_status',\n",
    "    'pit_stop_count','current_status','start_position']\n",
    "    colid={key:idx for idx, key in enumerate(cols)}\n",
    "\n",
    "    cardata = rankdata[rankdata['car_number'] == curcarno]\n",
    "\n",
    "    carstatus = [[row[0], row[1],row[2],row[3],row[4],row[5],row[6],row[7]] for row in cardata[\n",
    "        ['completed_laps','rank','car_number','lap_status','track_status',\n",
    "        'pit_stop_count','current_status','start_position']].values]\n",
    "    \n",
    "    x = car['completed_laps'][1:].values\n",
    "    y = car[ycol][1:].values\n",
    "\n",
    "    pits=[]\n",
    "    yellowflags=[]\n",
    "    lastflag = 'x'\n",
    "    for row in carstatus:\n",
    "        lap = int(row[colid['completed_laps']])\n",
    "\n",
    "        if row[colid['lap_status']]=='P':\n",
    "            pits.append(lap)\n",
    "\n",
    "        if row[colid['track_status']]=='Y':\n",
    "            if lastflag != 'Y':       \n",
    "                #start\n",
    "                yellowflags.append(lap)\n",
    "        else:\n",
    "            if lastflag == 'Y':       \n",
    "                #end\n",
    "                yellowflags.append(lap)        \n",
    "        lastflag = row[colid['track_status']]\n",
    "\n",
    "    #pit lap\n",
    "    pits = np.array(pits)\n",
    "    #start, end lap\n",
    "    #\n",
    "    yellowflags = np.array(yellowflags)\n",
    "    if (yellowflags.shape[0] % 2)==1:\n",
    "        print('crash?:carno=', curcarno)\n",
    "        yellowflags = []\n",
    "    else:\n",
    "        yellowflags = np.array(yellowflags).reshape((-1,2))    \n",
    "    \n",
    "    return car, x, y, pits, yellowflags"
   ]
  },
  {
   "cell_type": "markdown",
   "metadata": {},
   "source": [
    "### bulid the dataset"
   ]
  },
  {
   "cell_type": "code",
   "execution_count": 6,
   "metadata": {},
   "outputs": [],
   "source": [
    "def nan_helper(y):\n",
    "    \"\"\"Helper to handle indices and logical indices of NaNs.\n",
    "\n",
    "    Input:\n",
    "        - y, 1d numpy array with possible NaNs\n",
    "    Output:\n",
    "        - nans, logical indices of NaNs\n",
    "        - index, a function, with signature indices= index(logical_indices),\n",
    "          to convert logical indices of NaNs to 'equivalent' indices\n",
    "    Example:\n",
    "        >>> # linear interpolation of NaNs\n",
    "        >>> nans, x= nan_helper(y)\n",
    "        >>> y[nans]= np.interp(x(nans), x(~nans), y[~nans])\n",
    "    \"\"\"\n",
    "\n",
    "    return np.isnan(y), lambda z: z.nonzero()[0]\n",
    "\n",
    "def get_lap2nextpit(lap_status, maxlap=200):\n",
    "    \"\"\"\n",
    "    input:\n",
    "        lapstatus  ; array of 0/1 indicating pitstops for each lap, nan means incomplete race\n",
    "        maxlap     ; the max lap number of the race\n",
    "    output:\n",
    "        lap2nextpit ; array of the lap gap to the next pit for each lap\n",
    "    \n",
    "    \"\"\"\n",
    "    \n",
    "    #pitstops = np.where(lap_status==1)[0]\n",
    "                    \n",
    "    pitstops = list(np.where(lap_status==1)[0])\n",
    "    #if not len(lap_status) < maxlap:\n",
    "    nans, x= nan_helper(lap_status)\n",
    "    nan_count = np.sum(nans)      \n",
    "    if nan_count == 0:\n",
    "        #complete cars\n",
    "        # the last stint, to the end\n",
    "        pitstops.append(maxlap)\n",
    "    \n",
    "    lap2nextpit = np.zeros_like(lap_status)\n",
    "    lap2nextpit[:] = np.nan\n",
    "    \n",
    "    #guard\n",
    "    if len(pitstops)==0:\n",
    "        return lap2nextpit\n",
    "    \n",
    "    idx = 0\n",
    "    for lap in range(len(lap_status)):\n",
    "        if lap < pitstops[idx]:\n",
    "            lap2nextpit[lap] = pitstops[idx] - lap\n",
    "        else:\n",
    "            idx += 1\n",
    "            if idx < len(pitstops):\n",
    "                lap2nextpit[lap] = pitstops[idx] - lap\n",
    "            else:\n",
    "                break\n",
    "            \n",
    "    return lap2nextpit\n"
   ]
  },
  {
   "cell_type": "code",
   "execution_count": 7,
   "metadata": {},
   "outputs": [],
   "source": [
    "def get_lapdata(acldata):\n",
    "    \"\"\"\n",
    "    input:\n",
    "        acldata['car_number','completed_laps','time_diff','rank','track_status', 'lap_status','elapsed_time']\n",
    "    \n",
    "        timediff: [car_number, completed_laps] -> elapsed time diff to leader\n",
    "    output:\n",
    "        lapdata = acldata[['car_number','completed_laps',\n",
    "                           'time_diff','rank','track_status', 'lap_status','time_behind']].to_numpy()\n",
    "    \"\"\"\n",
    "    COL_COMPLETED_LAPS = 1\n",
    "    COL_ELAPSED_TIME = 6\n",
    "    \n",
    "    maxlap = np.max(acldata['completed_laps'].values)\n",
    "    #'car_number','completed_laps','time_diff','rank','track_status', 'lap_status','time_behind'\n",
    "    time_behind = []\n",
    "    \n",
    "    for lap in range(1, maxlap+1):\n",
    "        this_lap = acldata[acldata['completed_laps']==lap][\n",
    "            ['car_number','completed_laps','time_diff','rank',\n",
    "             'track_status', 'lap_status','elapsed_time']].values\n",
    "        \n",
    "        min_elapsed_time = np.nanmin(this_lap[:,COL_ELAPSED_TIME].astype(np.float))\n",
    "        #print(f'lap:{lap}, min_elapsed_time:{min_elapsed_time}')\n",
    "        \n",
    "        for row in this_lap:\n",
    "            car_number = int(row[0])\n",
    "            time_diff = row[2]\n",
    "            rank = row[3]\n",
    "            track_status = row[4]\n",
    "            lap_status = row[5]\n",
    "            \n",
    "            timebehind = float(row[COL_ELAPSED_TIME]) - min_elapsed_time\n",
    "            #\n",
    "            time_behind.append([car_number, lap, time_diff,rank,track_status, lap_status,\n",
    "                                timebehind, float(row[COL_ELAPSED_TIME])])\n",
    "    \n",
    "    #return\n",
    "    lapdata = np.array(time_behind)\n",
    "    return lapdata\n",
    "\n",
    "\n",
    "\n",
    "# features: laptime, rank, track_status, lap_status, timediff\n",
    "LAPTIME = 0\n",
    "RANK = 1\n",
    "TRACK_STATUS = 2\n",
    "LAP_STATUS = 3\n",
    "TIME_BEHIND = 4\n",
    "CAUTION_LAPS_INSTINT = 5 \n",
    "LAPS_INSTINT = 6\n",
    "ELAPSED_TIME = 7\n",
    "LAP2NEXTPIT = 8\n",
    "\n",
    "_featureCnt = 9\n",
    "        \n",
    "def get_laptime_dataset(stagedata, inlap_status = 0):\n",
    "    \"\"\"\n",
    "    #add caution_laps_instint, laps_instint\n",
    "    \n",
    "    input: (alldata, rankdata, acldata, flagdata)\n",
    "    output: laptime & rank data\n",
    "    \n",
    "    [(\n",
    "    eventid,\n",
    "    carids : rowid -> carno,\n",
    "    datalist: #car_number x features x #totallaps (padded by Nan)\n",
    "        entry: [[laptime, rank, track_status, lap_status,\n",
    "                caution_laps_instint, laps_instint]]\n",
    "    )]\n",
    "    \"\"\"\n",
    "    laptime_data = []\n",
    "    for event in stagedata.keys():\n",
    "        \n",
    "        print(f'start event: {event}')\n",
    "        \n",
    "        laptime_rec = []\n",
    "        eventid = events_id[event]\n",
    "        \n",
    "        alldata, rankdata, acldata, flagdata = stagedata[event]\n",
    "        carlist = set(acldata['car_number'])\n",
    "        laplist = set(acldata['completed_laps'])\n",
    "        totalcars = len(carlist)\n",
    "        totallaps = len(laplist)\n",
    "        \n",
    "\n",
    "\n",
    "        #carnumber -> carid\n",
    "        carids={key:idx for idx, key in enumerate(carlist)}\n",
    "        decode_carids={idx:key for idx, key in enumerate(carlist)}\n",
    "\n",
    "        #init\n",
    "        lap_instint = {carids[x]:0 for x in carlist}\n",
    "        caution_instint = {carids[x]:0 for x in carlist}        \n",
    "        \n",
    "        #array: car_number x lap\n",
    "        #laptime = np.zeros((totalcars, totallaps-1))\n",
    "        #rank = np.zeros((totalcars, totallaps-1))\n",
    "        laptime = np.empty((totalcars, totallaps-1))\n",
    "        rank = np.empty((totalcars, totallaps-1))\n",
    "        laptime[:] = np.NaN\n",
    "        rank[:] = np.NaN\n",
    "        \n",
    "\n",
    "        datalist = np.empty((totalcars, _featureCnt, totallaps-1))\n",
    "        datalist[:] = np.NaN\n",
    "        \n",
    "        #lapdata = acldata[['car_number','completed_laps',\n",
    "        #                   'time_diff','rank','track_status', 'lap_status','elapsed_time']].to_numpy()\n",
    "        \n",
    "        #'car_number','completed_laps','time_diff','rank','track_status', 'lap_status','time_behind'\n",
    "        lapdata = get_lapdata(acldata)\n",
    "        \n",
    "        \n",
    "        for row in lapdata:\n",
    "            #completed_laps\n",
    "            if int(row[1]) == 0:\n",
    "                continue\n",
    "                \n",
    "            #add to data array\n",
    "            car_number = carids[int(row[0])]\n",
    "            completed_laps = int(row[1])-1\n",
    "            time_diff = float(row[2])\n",
    "            rank = int(row[3])\n",
    "            track_status = 1 if row[4]=='Y' else 0\n",
    "            lap_status = 1 if row[5]=='P' else 0\n",
    "            time_behind = float(row[6])\n",
    "            \n",
    "            datalist[car_number, LAPTIME, completed_laps] = time_diff\n",
    "            datalist[car_number, RANK, completed_laps] = rank\n",
    "            datalist[car_number, TRACK_STATUS, completed_laps] = track_status\n",
    "            datalist[car_number, LAP_STATUS, completed_laps] = lap_status\n",
    "            datalist[car_number, TIME_BEHIND, completed_laps] = time_behind\n",
    "\n",
    "            datalist[car_number, ELAPSED_TIME, completed_laps] = float(row[7])\n",
    "\n",
    "            \n",
    "            #stint status\n",
    "            if track_status == 1:\n",
    "                caution_instint[car_number] += 1\n",
    "            lap_instint[car_number] += 1\n",
    "            if lap_status == 1:\n",
    "                #new stint\n",
    "                lap_instint[car_number] = 0\n",
    "                caution_instint[car_number] = 0\n",
    "                \n",
    "                # add inlap feature into lap_Status\n",
    "                # set the previous lap to inlap status\n",
    "                \n",
    "                # what does it mean?\n",
    "                \n",
    "                if (inlap_status!=0):\n",
    "                    if inlap_status == 1:\n",
    "                        # set the previous lap of 'P'\n",
    "                        if completed_laps > 0:\n",
    "                            #datalist[car_number, LAP_STATUS, completed_laps-1] = INLAP_STATUS\n",
    "                            datalist[car_number, LAP_STATUS, completed_laps-1] = 1\n",
    "                    else:\n",
    "                        # set the next lap of 'P'\n",
    "                        if completed_laps +1 < totallaps:\n",
    "                            #datalist[car_number, LAP_STATUS, completed_laps-1] = INLAP_STATUS\n",
    "                            datalist[car_number, LAP_STATUS, completed_laps + 1] = 1\n",
    "                \n",
    "            \n",
    "            datalist[car_number, LAPS_INSTINT, completed_laps] = lap_instint[car_number]\n",
    "            datalist[car_number, CAUTION_LAPS_INSTINT, completed_laps] = caution_instint[car_number]\n",
    "                \n",
    "\n",
    "                \n",
    "        #update lap2nextpit in datalist\n",
    "        for caridx in range(datalist.shape[0]):\n",
    "            lap_status = datalist[caridx, LAP_STATUS, :]\n",
    "            #pit status\n",
    "            lap2nextpit = get_lap2nextpit(lap_status)\n",
    "            datalist[caridx, LAP2NEXTPIT, :] = lap2nextpit        \n",
    "                \n",
    "        #add one record\n",
    "        laptime_data.append([eventid, decode_carids, datalist])\n",
    "        # push this event into stage dataframe\n",
    "        print('event=%s, records=%s'%(event, datalist.shape))\n",
    "        \n",
    "    \n",
    "    return laptime_data"
   ]
  },
  {
   "cell_type": "markdown",
   "metadata": {},
   "source": [
    "### load data"
   ]
  },
  {
   "cell_type": "code",
   "execution_count": 8,
   "metadata": {},
   "outputs": [
    {
     "name": "stdout",
     "output_type": "stream",
     "text": [
      "count of completed cars: 19\n",
      "completed cars: [11 26  1 25 19  3  2 77 83 20 22  8 14  9 18 55 78  5 12]\n",
      "cars: {1, 2, 3, 5, 8, 9, 11, 12, 77, 14, 78, 18, 19, 20, 83, 22, 55, 25, 26}\n",
      "#cars= 19\n",
      "count of completed cars: 19\n",
      "completed cars: [11 26  1 25 19  3  2 77 83 20 22  8 14  9 18 55 78  5 12]\n",
      "cars: {1, 2, 3, 4, 5, 6, 7, 8, 9, 10, 11, 12, 14, 15, 16, 18, 19, 20, 21, 22, 25, 26, 27, 41, 55, 60, 63, 77, 78, 81, 83, 91, 98}\n",
      "#cars= 33\n",
      "Indy500-2013: carno=33, lapnum=201\n",
      "count of completed cars: 20\n",
      "completed cars: [28  3 25 34  2 26 11 12 22 21 16 77 68  5 17 33 18  8 14 98]\n",
      "cars: {33, 2, 3, 34, 5, 68, 98, 8, 11, 12, 77, 14, 16, 17, 18, 21, 22, 25, 26, 28}\n",
      "#cars= 20\n",
      "count of completed cars: 20\n",
      "completed cars: [28  3 25 34  2 26 11 12 22 21 16 77 68  5 17 33 18  8 14 98]\n"
     ]
    },
    {
     "name": "stderr",
     "output_type": "stream",
     "text": [
      "/scratch_ssd/hpda/anaconda3/envs/gluonts/lib/python3.6/site-packages/ipykernel_launcher.py:26: SettingWithCopyWarning: \n",
      "A value is trying to be set on a copy of a slice from a DataFrame\n",
      "\n",
      "See the caveats in the documentation: http://pandas.pydata.org/pandas-docs/stable/user_guide/indexing.html#returning-a-view-versus-a-copy\n",
      "/scratch_ssd/hpda/anaconda3/envs/gluonts/lib/python3.6/site-packages/ipykernel_launcher.py:30: SettingWithCopyWarning: \n",
      "A value is trying to be set on a copy of a slice from a DataFrame\n",
      "\n",
      "See the caveats in the documentation: http://pandas.pydata.org/pandas-docs/stable/user_guide/indexing.html#returning-a-view-versus-a-copy\n"
     ]
    },
    {
     "name": "stdout",
     "output_type": "stream",
     "text": [
      "cars: {2, 3, 5, 6, 7, 8, 9, 10, 11, 12, 14, 15, 16, 17, 18, 19, 20, 21, 22, 25, 26, 27, 28, 33, 34, 41, 63, 67, 68, 77, 83, 91, 98}\n",
      "#cars= 33\n",
      "Indy500-2014: carno=33, lapnum=201\n",
      "count of completed cars: 20\n",
      "completed cars: [ 2  1 83  9 15 27  3  6 21 22 11  5 14 24 28 98 48  7 29 26]\n",
      "cars: {1, 2, 3, 98, 5, 6, 7, 9, 11, 14, 15, 48, 83, 21, 22, 24, 26, 27, 28, 29}\n",
      "#cars= 20\n",
      "count of completed cars: 20\n",
      "completed cars: [ 2  1 83  9 15 27  3  6 21 22 11  5 14 24 28 98 48  7 29 26]\n",
      "cars: {1, 2, 3, 4, 5, 6, 7, 8, 9, 10, 11, 14, 15, 17, 18, 19, 20, 21, 22, 24, 25, 26, 27, 28, 29, 32, 41, 43, 48, 63, 83, 88, 98}\n",
      "#cars= 33\n",
      "Indy500-2015: carno=33, lapnum=201\n",
      "count of completed cars: 17\n",
      "completed cars: [98 26 21 10 42  6  5  9 11 12  3 77 27 15  8 41 35]\n",
      "cars: {98, 3, 35, 5, 6, 8, 9, 10, 11, 12, 41, 42, 15, 77, 21, 26, 27}\n",
      "#cars= 17\n",
      "count of completed cars: 17\n",
      "completed cars: [98 26 21 10 42  6  5  9 11 12  3 77 27 15  8 41 35]\n",
      "cars: {2, 3, 4, 5, 6, 7, 8, 9, 10, 11, 12, 14, 15, 16, 18, 19, 20, 21, 22, 24, 25, 26, 27, 28, 29, 35, 41, 42, 61, 63, 77, 88, 98}\n",
      "#cars= 33\n",
      "Indy500-2016: carno=33, lapnum=201\n",
      "count of completed cars: 16\n",
      "completed cars: [26  3 19  8 10 22 98 27 88 14 20 15  7  1 17 21]\n",
      "cars: {1, 98, 3, 7, 8, 10, 14, 15, 17, 19, 20, 21, 22, 88, 26, 27}\n",
      "#cars= 16\n",
      "count of completed cars: 16\n",
      "completed cars: [26  3 19  8 10 22 98 27 88 14 20 15  7  1 17 21]\n",
      "cars: {1, 2, 3, 4, 5, 7, 8, 9, 10, 11, 12, 14, 15, 16, 17, 18, 19, 20, 21, 22, 24, 26, 27, 28, 29, 40, 44, 50, 63, 77, 83, 88, 98}\n",
      "#cars= 33\n",
      "Indy500-2017: carno=33, lapnum=201\n",
      "count of completed cars: 18\n",
      "completed cars: [12 20  9 27 28 22 29  1  6 15 66 98  4 88 25 60 64 23]\n",
      "cars: {64, 1, 66, 98, 4, 6, 9, 12, 60, 15, 20, 22, 23, 88, 25, 27, 28, 29}\n",
      "#cars= 18\n",
      "count of completed cars: 18\n",
      "completed cars: [12 20  9 27 28 22 29  1  6 15 66 98  4 88 25 60 64 23]\n",
      "cars: {1, 3, 4, 6, 7, 9, 10, 12, 13, 14, 15, 17, 18, 19, 20, 21, 22, 23, 24, 25, 26, 27, 28, 29, 30, 32, 33, 59, 60, 64, 66, 88, 98}\n",
      "#cars= 33\n",
      "Indy500-2018: carno=33, lapnum=201\n",
      "count of completed cars: 17\n",
      "completed cars: [22 27 30  2 12 20 19 28 14 25  5 33 63 21  4 39  9]\n",
      "cars: {33, 2, 4, 5, 39, 9, 12, 14, 19, 20, 21, 22, 25, 27, 28, 30, 63}\n",
      "#cars= 17\n",
      "count of completed cars: 17\n",
      "completed cars: [22 27 30  2 12 20 19 28 14 25  5 33 63 21  4 39  9]\n",
      "cars: {2, 3, 4, 5, 7, 9, 10, 12, 14, 15, 18, 19, 20, 21, 22, 23, 24, 25, 26, 27, 28, 30, 32, 33, 39, 42, 48, 60, 63, 77, 81, 88, 98}\n",
      "#cars= 33\n",
      "Indy500-2019: carno=33, lapnum=201\n"
     ]
    }
   ],
   "source": [
    "stagedata = {}\n",
    "global_carids = {}\n",
    "traindata = None\n",
    "cur_carid = 0\n",
    "\n",
    "#inlap status = \n",
    "# 0 , no inlap\n",
    "# 1 , set previous lap\n",
    "# 2 , set the next lap\n",
    "_inlap_status = 2\n",
    "\n",
    "years = ['2013','2014','2015','2016','2017','2018','2019']\n",
    "#years = ['2013','2014','2015','2016','2017','2018']\n",
    "#events = ['Indy500']\n",
    "events = [f'Indy500-{x}' for x in years]\n",
    "events_id={key:idx for idx, key in enumerate(events)}\n",
    "\n",
    "dbid = f'Indy500_{years[0]}_{years[-1]}_v{_featureCnt}_p{_inlap_status}'\n",
    "\n",
    "for event in events:\n",
    "    #dataid = f'{event}-{year}'\n",
    "    #alldata, rankdata, acldata, flagdata\n",
    "    stagedata[event] = load_data(event)\n",
    "\n",
    "    alldata, rankdata, acldata, flagdata = stagedata[event]\n",
    "    carlist = set(acldata['car_number'])\n",
    "    laplist = set(acldata['completed_laps'])\n",
    "    print('%s: carno=%d, lapnum=%d'%(event, len(carlist), len(laplist)))\n",
    "\n",
    "    #build the carid map\n",
    "    for car in carlist:\n",
    "        if car not in global_carids:\n",
    "            global_carids[car] = cur_carid\n",
    "            cur_carid += 1\n",
    "    \n"
   ]
  },
  {
   "cell_type": "code",
   "execution_count": 9,
   "metadata": {},
   "outputs": [
    {
     "name": "stdout",
     "output_type": "stream",
     "text": [
      "start event: Indy500-2013\n",
      "event=Indy500-2013, records=(33, 9, 200)\n",
      "start event: Indy500-2014\n",
      "event=Indy500-2014, records=(33, 9, 200)\n",
      "start event: Indy500-2015\n",
      "event=Indy500-2015, records=(33, 9, 200)\n",
      "start event: Indy500-2016\n",
      "event=Indy500-2016, records=(33, 9, 200)\n",
      "start event: Indy500-2017\n",
      "event=Indy500-2017, records=(33, 9, 200)\n",
      "start event: Indy500-2018\n",
      "event=Indy500-2018, records=(33, 9, 200)\n",
      "start event: Indy500-2019\n",
      "event=Indy500-2019, records=(33, 9, 200)\n"
     ]
    }
   ],
   "source": [
    "laptime_data = get_laptime_dataset(stagedata,inlap_status = _inlap_status)"
   ]
  },
  {
   "cell_type": "code",
   "execution_count": 10,
   "metadata": {},
   "outputs": [
    {
     "name": "stdout",
     "output_type": "stream",
     "text": [
      "laptime_rank_timediff_pit-oracle-Indy500_2013_2019_v9_p2.pickle\n"
     ]
    }
   ],
   "source": [
    "import pickle\n",
    "#stintdf.to_csv('laptime-%s.csv'%year)\n",
    "savefile = f'laptime_rank_timediff_pit-oracle-{dbid}.pickle' \n",
    "print(savefile)\n",
    "with open(savefile, 'wb') as f:\n",
    "    #pack [global_carids, laptime_data]\n",
    "    savedata = [global_carids, laptime_data]\n",
    "    # Pickle the 'data' dictionary using the highest protocol available.\n",
    "    pickle.dump(savedata, f, pickle.HIGHEST_PROTOCOL)"
   ]
  },
  {
   "cell_type": "markdown",
   "metadata": {},
   "source": [
    "### test"
   ]
  },
  {
   "cell_type": "code",
   "execution_count": 11,
   "metadata": {},
   "outputs": [
    {
     "ename": "SystemExit",
     "evalue": "0",
     "output_type": "error",
     "traceback": [
      "An exception has occurred, use %tb to see the full traceback.\n",
      "\u001b[0;31mSystemExit\u001b[0m\u001b[0;31m:\u001b[0m 0\n"
     ]
    },
    {
     "name": "stderr",
     "output_type": "stream",
     "text": [
      "/scratch_ssd/hpda/anaconda3/envs/gluonts/lib/python3.6/site-packages/IPython/core/interactiveshell.py:3339: UserWarning: To exit: use 'exit', 'quit', or Ctrl-D.\n",
      "  warn(\"To exit: use 'exit', 'quit', or Ctrl-D.\", stacklevel=1)\n"
     ]
    }
   ],
   "source": [
    "sys.exit(0)"
   ]
  },
  {
   "cell_type": "code",
   "execution_count": null,
   "metadata": {},
   "outputs": [],
   "source": [
    "lapstatusA = laptime_data[-1][2][1,3,:]\n",
    "#lapstatusA = laptime_data[-1][2][0,3,:]\n",
    "lapstatusA"
   ]
  },
  {
   "cell_type": "code",
   "execution_count": null,
   "metadata": {},
   "outputs": [],
   "source": [
    "lap2nextpit = laptime_data[-1][2][1,8,:]\n",
    "#lap2nextpit = laptime_data[-1][2][0,8,:]\n",
    "lap2nextpit"
   ]
  },
  {
   "cell_type": "code",
   "execution_count": null,
   "metadata": {},
   "outputs": [],
   "source": [
    "#with open('laptime_rank_timediff_fulltest-oracle-%s.pickle'%year, 'rb') as f:\n",
    "with open(f'laptime_rank_timediff_pit-oracle-{dbid}.pickle', 'rb') as f:\n",
    "    # The protocol version used is detected automatically, so we do not\n",
    "    # have to specify it.\n",
    "    global_carids, laptime_data = pickle.load(f, encoding='latin1') "
   ]
  },
  {
   "cell_type": "code",
   "execution_count": null,
   "metadata": {},
   "outputs": [],
   "source": []
  },
  {
   "cell_type": "code",
   "execution_count": null,
   "metadata": {},
   "outputs": [],
   "source": [
    "def test_a(a, bitflag):\n",
    "    return (a & bitflag) ==  bitflag\n",
    "\n",
    "test_a(5, 4)\n"
   ]
  },
  {
   "cell_type": "code",
   "execution_count": null,
   "metadata": {},
   "outputs": [],
   "source": [
    "mat = np.random.randint(5, size=(10,2, 5)).astype(np.float)\n",
    "mat[2,1,0] = np.nan\n",
    "_idx = np.array([0,1,2,8])\n",
    "selmat = mat[_idx]\n",
    "selmat[:,1,:]"
   ]
  },
  {
   "cell_type": "code",
   "execution_count": null,
   "metadata": {},
   "outputs": [],
   "source": [
    "mask = np.isnan(selmat[:,1,:])\n",
    "mask"
   ]
  },
  {
   "cell_type": "code",
   "execution_count": null,
   "metadata": {},
   "outputs": [],
   "source": [
    "true_rank.shape"
   ]
  },
  {
   "cell_type": "code",
   "execution_count": null,
   "metadata": {},
   "outputs": [],
   "source": [
    "idx = np.argsort(selmat[:,1,:], axis=0)\n",
    "true_rank = np.argsort(idx, axis=0).astype(np.float)\n",
    "true_rank[mask] = np.nan\n",
    "true_rank"
   ]
  },
  {
   "cell_type": "code",
   "execution_count": null,
   "metadata": {},
   "outputs": [],
   "source": [
    "selmat[:,1,:] = true_rank\n",
    "selmat"
   ]
  },
  {
   "cell_type": "code",
   "execution_count": null,
   "metadata": {},
   "outputs": [],
   "source": [
    "mat[_idx]"
   ]
  },
  {
   "cell_type": "code",
   "execution_count": null,
   "metadata": {},
   "outputs": [],
   "source": [
    "mat[_idx] = selmat"
   ]
  },
  {
   "cell_type": "code",
   "execution_count": null,
   "metadata": {},
   "outputs": [],
   "source": [
    "mat[_idx]"
   ]
  },
  {
   "cell_type": "code",
   "execution_count": null,
   "metadata": {},
   "outputs": [],
   "source": [
    "freq, prediction_length, cardinality = 0,0,0\n",
    "\n",
    "def load_dataset(inputfile):\n",
    "    global freq, prediction_length, cardinality\n",
    "\n",
    "    with open(inputfile, 'rb') as f:\n",
    "        # have to specify it.\n",
    "        freq, prediction_length, cardinality,train_ds, test_ds = pickle.load(f, encoding='latin1')\n",
    "    \n",
    "    print(f\"number of cars: {cardinality}\")\n",
    "    \n",
    "    return train_ds, test_ds\n",
    "\n",
    "train_ds, test_ds = load_dataset('rank-oracle-noip-eid-all-all-f1min-t30-rIndy500-gluonts-indy-2018.pickle')"
   ]
  },
  {
   "cell_type": "code",
   "execution_count": null,
   "metadata": {},
   "outputs": [],
   "source": [
    "ds_iter =  iter(test_ds)\n",
    "rec = next(ds_iter)\n",
    "rec"
   ]
  },
  {
   "cell_type": "code",
   "execution_count": null,
   "metadata": {},
   "outputs": [],
   "source": [
    "def debug_get_ranklist(train_ds):\n",
    "    ds_iter =  iter(train_ds)\n",
    "    ranklist = []\n",
    "    for idx in range(len(train_ds)):\n",
    "        rec = next(ds_iter)\n",
    "\n",
    "        if rec['feat_static_cat'][1] == 0:\n",
    "            ranklist.append(rec['target'][0])\n",
    "\n",
    "    return np.array(sorted(ranklist))"
   ]
  },
  {
   "cell_type": "code",
   "execution_count": null,
   "metadata": {},
   "outputs": [],
   "source": [
    "len(ranklist)"
   ]
  },
  {
   "cell_type": "code",
   "execution_count": null,
   "metadata": {},
   "outputs": [],
   "source": [
    "rank_train, rank_ds = get_testds(True)"
   ]
  },
  {
   "cell_type": "code",
   "execution_count": null,
   "metadata": {},
   "outputs": [],
   "source": [
    "rawrank_train, rawrank_ds = get_testds(False)"
   ]
  },
  {
   "cell_type": "code",
   "execution_count": null,
   "metadata": {},
   "outputs": [],
   "source": [
    "debug_get_ranklist(rank_train)"
   ]
  },
  {
   "cell_type": "code",
   "execution_count": null,
   "metadata": {},
   "outputs": [],
   "source": [
    "debug_get_ranklist(rawrank_train)"
   ]
  },
  {
   "cell_type": "code",
   "execution_count": null,
   "metadata": {},
   "outputs": [],
   "source": [
    "debug_get_ranklist(train_ds)"
   ]
  },
  {
   "cell_type": "code",
   "execution_count": null,
   "metadata": {},
   "outputs": [],
   "source": [
    " #alldata, rankdata, acldata, flagdata = stagedata['Indy500-2011']"
   ]
  },
  {
   "cell_type": "code",
   "execution_count": null,
   "metadata": {},
   "outputs": [],
   "source": [
    "set(acldata.car_number.values)"
   ]
  },
  {
   "cell_type": "code",
   "execution_count": null,
   "metadata": {},
   "outputs": [],
   "source": [
    "acldata"
   ]
  },
  {
   "cell_type": "code",
   "execution_count": null,
   "metadata": {},
   "outputs": [],
   "source": [
    "acldata[acldata['completed_laps']==187]"
   ]
  },
  {
   "cell_type": "code",
   "execution_count": null,
   "metadata": {},
   "outputs": [],
   "source": [
    "print(','.join(list(sorted(rankdata[rankdata['completed_laps']==186].car_number.values))))\n",
    "print(','.join(list(sorted(rankdata[rankdata['completed_laps']==187].car_number.values))))\n",
    "print(','.join(list(sorted(rankdata[rankdata['completed_laps']==188].car_number.values))))\n",
    "print(','.join(list(sorted(rankdata[rankdata['completed_laps']==189].car_number.values))))\n"
   ]
  },
  {
   "cell_type": "code",
   "execution_count": null,
   "metadata": {},
   "outputs": [],
   "source": [
    "alldata, rankdata, acldata, flagdata = stagedata['Indy500-2014']"
   ]
  },
  {
   "cell_type": "code",
   "execution_count": null,
   "metadata": {},
   "outputs": [],
   "source": [
    "kannan = rankdata[rankdata['car_number']==10]\n",
    "kannan[(kannan['completed_laps'] > 60) & (kannan['completed_laps']<70)]"
   ]
  },
  {
   "cell_type": "code",
   "execution_count": null,
   "metadata": {},
   "outputs": [],
   "source": [
    "alldata, rankdata, acldata, flagdata = stagedata['Indy500-2013']\n",
    "rankdata[(rankdata['car_number']==16) & (rankdata['completed_laps']<10)]"
   ]
  },
  {
   "cell_type": "code",
   "execution_count": null,
   "metadata": {},
   "outputs": [],
   "source": [
    "rankdata[(rankdata['car_number']==16) & (rankdata['completed_laps']>88)& (rankdata['completed_laps']<97)]"
   ]
  },
  {
   "cell_type": "code",
   "execution_count": null,
   "metadata": {},
   "outputs": [],
   "source": [
    "car16 = acldata[acldata['car_number']==16]\n"
   ]
  },
  {
   "cell_type": "code",
   "execution_count": null,
   "metadata": {},
   "outputs": [],
   "source": [
    "for idx in range(len(car16)):\n",
    "    if(car16.iloc[idx].lap_status == 'P'):\n",
    "        print(car16.iloc[idx].completed_laps)"
   ]
  },
  {
   "cell_type": "code",
   "execution_count": null,
   "metadata": {},
   "outputs": [],
   "source": [
    "for idx in range(len(car16)):\n",
    "    if(car16.iloc[idx].track_status == 'Y'):\n",
    "        print(car16.iloc[idx].completed_laps)"
   ]
  },
  {
   "cell_type": "code",
   "execution_count": null,
   "metadata": {},
   "outputs": [],
   "source": [
    "### check the inlap\n",
    "alldata, rankdata, acldata, flagdata = stagedata['Indy500-2018']\n",
    "car12 = acldata[acldata['car_number']==12]\n",
    "for idx in range(len(car12)):\n",
    "    if(car12.iloc[idx].lap_status == 'P'):\n",
    "        print(car12.iloc[idx].completed_laps)"
   ]
  },
  {
   "cell_type": "code",
   "execution_count": null,
   "metadata": {},
   "outputs": [],
   "source": [
    "pitlap = 32\n",
    "rankdata[(rankdata['car_number']==12) & (rankdata['completed_laps']>=pitlap -2) & ((rankdata['completed_laps']<=pitlap+2))]"
   ]
  },
  {
   "cell_type": "code",
   "execution_count": null,
   "metadata": {},
   "outputs": [],
   "source": [
    "pitlap = 50\n",
    "rankdata[(rankdata['car_number']==12) & (rankdata['completed_laps']>=pitlap -2) & ((rankdata['completed_laps']<=pitlap+2))]"
   ]
  },
  {
   "cell_type": "code",
   "execution_count": null,
   "metadata": {},
   "outputs": [],
   "source": [
    "pitlap = 94\n",
    "rankdata[(rankdata['car_number']==12) & (rankdata['completed_laps']>=pitlap -2) & ((rankdata['completed_laps']<=pitlap+2))]"
   ]
  },
  {
   "cell_type": "code",
   "execution_count": null,
   "metadata": {},
   "outputs": [],
   "source": []
  }
 ],
 "metadata": {
  "kernelspec": {
   "display_name": "Python 3",
   "language": "python",
   "name": "python3"
  },
  "language_info": {
   "codemirror_mode": {
    "name": "ipython",
    "version": 3
   },
   "file_extension": ".py",
   "mimetype": "text/x-python",
   "name": "python",
   "nbconvert_exporter": "python",
   "pygments_lexer": "ipython3",
   "version": "3.6.10"
  }
 },
 "nbformat": 4,
 "nbformat_minor": 2
}
