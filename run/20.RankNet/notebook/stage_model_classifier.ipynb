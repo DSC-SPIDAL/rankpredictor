{
 "cells": [
  {
   "cell_type": "markdown",
   "metadata": {},
   "source": [
    "### stage_model_classifier\n",
    "\n",
    "base: 14./stage_model_classifier_withneighbor-newfeatures\n",
    "\n",
    "prediction models of sign classifiers on stage dataset\n",
    "\n",
    "data format:\n",
    "    target , eventid ,    car_number,    stageid,     features..."
   ]
  },
  {
   "cell_type": "code",
   "execution_count": 1,
   "metadata": {},
   "outputs": [],
   "source": [
    "%matplotlib inline\n",
    "\n",
    "import pandas as pd\n",
    "import numpy as np\n",
    "import matplotlib.pyplot as plt\n",
    "import random\n"
   ]
  },
  {
   "cell_type": "code",
   "execution_count": 2,
   "metadata": {},
   "outputs": [],
   "source": [
    "from sklearn.model_selection import train_test_split\n",
    "from sklearn.pipeline import Pipeline\n",
    "from sklearn.svm import LinearSVC, SVC\n",
    "from sklearn.linear_model import LogisticRegression\n",
    "from sklearn.ensemble import RandomForestClassifier\n",
    "from sklearn import metrics\n",
    "import xgboost as xgb\n"
   ]
  },
  {
   "cell_type": "code",
   "execution_count": 3,
   "metadata": {},
   "outputs": [],
   "source": [
    "# bulid regression model\n",
    "#classifiers = ['currank','avgrank','dice','lr','lrl1','lsvc','lsvcl2','rf','lrbias','xgb']\n",
    "classifiers = ['currank','avgrank','dice','lr','lsvc','lsvcl2','rf','lrbias','xgb']\n",
    "train_x, train_y, test_x, test_y = None, None, None, None\n",
    "\n",
    "def get_classifier(classifier = 'lr'):\n",
    "    \n",
    "    class_weight = None\n",
    "    \n",
    "    if classifier == \"lsvc\":\n",
    "        clf = LinearSVC(penalty='l1',dual=False, tol=1e-3, class_weight=class_weight )\n",
    "    elif classifier == \"lsvcl2\":\n",
    "        clf = LinearSVC(penalty='l2', tol=1e-4, class_weight=class_weight)\n",
    "    elif classifier == 'rf':\n",
    "        #clf = RandomForestClassifier(n_estimators=100, n_jobs=4,criterion='entropy', min_samples_split=1,class_weight = class_weight)\n",
    "        clf = RandomForestClassifier(n_estimators=100, n_jobs=-1,criterion='entropy', class_weight = class_weight)\n",
    "    elif classifier == 'lr':\n",
    "        clf = LogisticRegression(class_weight = class_weight, n_jobs=-1, fit_intercept = False, verbose = 0)\n",
    "    elif classifier == 'lrbias':\n",
    "        clf = LogisticRegression(class_weight = class_weight, n_jobs=-1, fit_intercept = True, verbose = 1)\n",
    "    elif classifier == 'lrl1':\n",
    "        clf = LogisticRegression(class_weight = class_weight, penalty='l1',n_jobs=-1)\n",
    "    elif classifier == 'xgb':\n",
    "        clf = xgb.XGBClassifier(booster = 'gbtree', nthread = -1, subsample = 1, \n",
    "                                n_estimators = 600, colsample_bytree = 1, max_depth = 6, min_child_weight = 1)\n",
    "    elif classifier == 'dice':\n",
    "        clf = RandomDice('1234')\n",
    "    elif classifier == 'currank':\n",
    "        clf = CurRank()\n",
    "    elif classifier == 'avgrank':\n",
    "        clf = AverageRank()        \n",
    "    else:\n",
    "        clf = None\n",
    "        \n",
    "    return clf\n",
    "\n",
    "\n",
    "class CurRank():\n",
    "    \"\"\"\n",
    "    predict with current rank\n",
    "    \"\"\"\n",
    "    def __init__(self):\n",
    "        pass\n",
    "    def fit(self, x, y):\n",
    "        pass\n",
    "    def predict(self, test_x):\n",
    "        pred_y = [0 for x in range(test_x.shape[0])]\n",
    "        return np.array(pred_y)\n",
    "    \n",
    "class AverageRank():\n",
    "    \"\"\"\n",
    "    print('[*] predict with average rankchg (change_in_rank_all):idx = 15')\n",
    "    change_in_rank_all = test[:,15]\n",
    "    pred_y_avg = np.array([1 if x > 0 else (-1 if x < 0 else 0) for x in change_in_rank_all])\n",
    "    \"\"\"\n",
    "    def __init__(self):\n",
    "        pass\n",
    "    def fit(self, x, y):\n",
    "        pass\n",
    "    def predict(self, test_x):\n",
    "        pred_y = []\n",
    "        for x in test_x:\n",
    "            #13, change_in_rank_all\n",
    "            pred_y.append(x[13])\n",
    "        pred_y_avg = np.array([1 if x > 0 else (-1 if x < 0 else 0) for x in pred_y])\n",
    "        return np.array(pred_y_avg)   \n",
    "\n",
    "class RandomDice():\n",
    "    \"\"\"\n",
    "    a random dice model\n",
    "    \"\"\"\n",
    "    def __init__(self, seed='1234'):\n",
    "        self.dist = []\n",
    "        self.val = []\n",
    "        random.seed(seed)\n",
    "    \n",
    "    def fit(self, x, y):\n",
    "        total = y.shape[0]\n",
    "        yval = set(y)\n",
    "        \n",
    "        ratio = 0.\n",
    "        for val in yval:\n",
    "            self.val.append(val)\n",
    "            ratio += np.sum(y==val)*1.0 / total\n",
    "            self.dist.append(ratio)\n",
    "            \n",
    "    def predict(self, test_x):\n",
    "        pred_y = []\n",
    "        for x in test_x:\n",
    "            dice = random.random()\n",
    "            #search in self.dist\n",
    "            find_idx = -1\n",
    "            for idx, ratio in enumerate(self.dist):\n",
    "                if dice <= ratio:\n",
    "                    find_idx = idx\n",
    "                    break\n",
    "            \n",
    "            #or the last one match\n",
    "            pred_y.append(self.val[find_idx])\n",
    "            \n",
    "        return np.array(pred_y)\n",
    "\n",
    "def evaluate(test_y, pred_y):\n",
    "    precision = metrics.precision_score(test_y, pred_y, average=None) \n",
    "    recall = metrics.recall_score(test_y, pred_y, average=None)\n",
    "    f1 = metrics.f1_score(test_y, pred_y, average=None)\n",
    "    accuracy = metrics.accuracy_score(test_y, pred_y)\n",
    "    print('precision=%s, recall=%s, f1=%s, accuracy=%.2f'%(precision,recall, f1, accuracy))\n",
    "    return accuracy\n",
    "    \n",
    "#\n",
    "#features\n",
    "#    cols=[Myidx, 'target','eventid','car_number','stageid',\n",
    "#             'firststage','pit_in_caution','start_position',\n",
    "#             'start_rank','start_rank_ratio','top_pack','bottom_pack',\n",
    "#             'average_rank','average_rank_all',\n",
    "#             'change_in_rank','change_in_rank_all','rate_of_change','rate_of_change_all']    \n",
    "def split_by_eventid(stagedata, eventid):\n",
    "    \"\"\"\n",
    "    split by eventid\n",
    "    \"\"\"\n",
    "    #if not eventid in stagedata:\n",
    "    #    print('error, %d not found in stagedata'%eventid)\n",
    "    #    return\n",
    "    \n",
    "    train = stagedata[stagedata['eventid'] != eventid].to_numpy()\n",
    "    test  = stagedata[stagedata['eventid'] == eventid].to_numpy()\n",
    "\n",
    "    #2:car_number\n",
    "    train_x = train[:,2:]\n",
    "    train_y = np.array([1 if x > 0 else (-1 if x < 0 else 0) for x in train[:,1]])\n",
    "    test_x = test[:,2:]\n",
    "    test_y = np.array([1 if x > 0 else (-1 if x < 0 else 0) for x in test[:,1]])\n",
    "    \n",
    "    return train, test, train_x, train_y, test_x, test_y\n",
    "\n",
    "\n",
    "def split_by_stageid(stagedata, stageid):\n",
    "    \"\"\"\n",
    "    split by stageid\n",
    "    \"\"\"\n",
    "    #if not eventid in stagedata:\n",
    "    #    print('error, %d not found in stagedata'%eventid)\n",
    "    #    return\n",
    "    \n",
    "    train = stagedata[stagedata['stageid'] <= stageid].to_numpy()\n",
    "    test  = stagedata[stagedata['stageid'] > stageid].to_numpy()\n",
    "\n",
    "    train_x = train[:,2:]\n",
    "    train_y = np.array([1 if x > 0 else (-1 if x < 0 else 0) for x in train[:,1]])\n",
    "    test_x = test[:,2:]\n",
    "    test_y = np.array([1 if x > 0 else (-1 if x < 0 else 0) for x in test[:,1]])\n",
    "    \n",
    "    return train, test, train_x, train_y, test_x, test_y\n",
    "\n",
    "\n",
    "### baseline\n",
    "def baseline_model():\n",
    "    #1. predict with current rank, rankchg = 0\n",
    "    print('[*] predict with current rank, rankchg = 0')\n",
    "    pred_y_simple = np.zeros_like(test_y)\n",
    "    score1 = evaluate(test_y, pred_y_simple)\n",
    "\n",
    "    #2. predict with average rankchg (change_in_rank_all):idx = 15\n",
    "    print('[*] predict with average rankchg (change_in_rank_all):idx = 15')\n",
    "    change_in_rank_all = test[:,15]\n",
    "    pred_y_avg = np.array([1 if x > 0 else (-1 if x < 0 else 0) for x in change_in_rank_all])\n",
    "    score2 = evaluate(test_y, pred_y_avg)\n",
    "    return score1, score2\n",
    "\n",
    "def classifier_model(name='lr'):\n",
    "    ### test learning models\n",
    "    print('[*] predict with %s model'%name)\n",
    "    clf = get_classifier(name)\n",
    "    clf.fit(train_x, train_y)\n",
    "\n",
    "    pred_y = clf.predict(test_x)\n",
    "    score = evaluate(test_y, pred_y)\n",
    "    return score"
   ]
  },
  {
   "cell_type": "code",
   "execution_count": 4,
   "metadata": {},
   "outputs": [],
   "source": [
    "def test_20182019():\n",
    "    global train_x, train_y, test_x, test_y\n",
    "    \n",
    "    ### fix train\n",
    "    cols = ['runid','trainsize','testsize','testdistribution']\n",
    "    cols.extend(classifiers)\n",
    "    print('cols:%s'%cols)\n",
    "    retdf = pd.DataFrame([],columns=cols)\n",
    "\n",
    "\n",
    "    events = set(stagedata['eventid'])\n",
    "\n",
    "    years = ['2013','2014','2015','2016','2017','2018','2019']\n",
    "    #events = ['Indy500']\n",
    "    eventsname = [f'Indy500-{x}' for x in years]\n",
    "    events_id={key:idx for idx, key in enumerate(eventsname)}\n",
    "\n",
    "    #first \n",
    "    eventid = events_id['Indy500-2018']\n",
    "    ignore_eventid = events_id['Indy500-2019']\n",
    "    stdata_2018 = stagedata[stagedata['eventid']!=ignore_eventid]\n",
    "\n",
    "    print('Testset = %s'%eventsname[eventid])\n",
    "\n",
    "    train, test, train_x, train_y, test_x, test_y = split_by_eventid(stdata_2018, eventid)\n",
    "    test_distribution = '+:%d,0:%d,-:%d'%(np.sum(test_y>0),np.sum(test_y==0),np.sum(test_y<0))\n",
    "    #print('Testset by stageid= %s, trainsize=%d, testsize=%d, dist=%s'%\n",
    "    #      (stageid, train_x.shape[0], test_x.shape[0], test_distribution))\n",
    "\n",
    "    #record\n",
    "    rec = [eventsname[eventid],train_x.shape[0],test_x.shape[0],test_distribution]\n",
    "\n",
    "    acc = [0 for x in range(len(classifiers))]\n",
    "    for idx, clf in enumerate(classifiers):\n",
    "        acc[idx] = classifier_model(clf)\n",
    "\n",
    "    rec.extend(acc)\n",
    "    print('rec:%s'%rec)\n",
    "\n",
    "    #new df\n",
    "    df = pd.DataFrame([rec],columns=cols)\n",
    "    retdf = pd.concat([retdf, df])        \n",
    "\n",
    "\n",
    "    eventid = events_id['Indy500-2019']\n",
    "    ignore_eventid = events_id['Indy500-2018']\n",
    "    stdata_2019 = stagedata[stagedata['eventid']!=ignore_eventid]\n",
    "\n",
    "    print('Testset = %s'%eventsname[eventid])\n",
    "\n",
    "    train2, test2, train_x2, train_y2, test_x, test_y = split_by_eventid(stdata_2019, eventid)\n",
    "    test_distribution = '+:%d,0:%d,-:%d'%(np.sum(test_y>0),np.sum(test_y==0),np.sum(test_y<0))\n",
    "\n",
    "    #record\n",
    "    rec = [eventsname[eventid],train_x.shape[0],test_x.shape[0],test_distribution]\n",
    "\n",
    "    acc = [0 for x in range(len(classifiers))]\n",
    "    for idx, clf in enumerate(classifiers):\n",
    "        acc[idx] = classifier_model(clf)\n",
    "\n",
    "    rec.extend(acc)\n",
    "    print('rec:%s'%rec)\n",
    "\n",
    "    #new df\n",
    "    df = pd.DataFrame([rec],columns=cols)\n",
    "    retdf = pd.concat([retdf, df]) \n",
    "    \n",
    "    retdf.to_csv(f'stint_classifier_result_{suffix}.csv', float_format='%.3f')\n",
    "    return retdf\n",
    "\n",
    "def test_cv():\n",
    "    global train_x, train_y, test_x, test_y\n",
    "    \n",
    "    cols = ['runid','trainsize','testsize','testdistribution']\n",
    "    cols.extend(classifiers)\n",
    "    print('cols:%s'%cols)\n",
    "    retdf = pd.DataFrame([],columns=cols)\n",
    "\n",
    "\n",
    "    events = set(stagedata['eventid'])\n",
    "\n",
    "    years = ['2013','2014','2015','2016','2017','2018','2019']\n",
    "    #events = ['Indy500']\n",
    "    eventsname = [f'Indy500-{x}' for x in years]\n",
    "    events_id={key:idx for idx, key in enumerate(eventsname)}\n",
    "\n",
    "\n",
    "    for eventid in events:\n",
    "        print('Testset = %s'%eventsname[eventid])\n",
    "\n",
    "        train, test, train_x, train_y, test_x, test_y = split_by_eventid(stagedata, eventid)\n",
    "        test_distribution = '+:%d,0:%d,-:%d'%(np.sum(test_y>0),np.sum(test_y==0),np.sum(test_y<0))\n",
    "        #print('Testset by stageid= %s, trainsize=%d, testsize=%d, dist=%s'%\n",
    "        #      (stageid, train_x.shape[0], test_x.shape[0], test_distribution))\n",
    "\n",
    "        #record\n",
    "        rec = [eventsname[eventid],train_x.shape[0],test_x.shape[0],test_distribution]\n",
    "\n",
    "        acc = [0 for x in range(len(classifiers))]\n",
    "        for idx, clf in enumerate(classifiers):\n",
    "            acc[idx] = classifier_model(clf)\n",
    "\n",
    "        rec.extend(acc)\n",
    "        print('rec:%s'%rec)\n",
    "\n",
    "        #new df\n",
    "        df = pd.DataFrame([rec],columns=cols)\n",
    "        retdf = pd.concat([retdf, df])        \n",
    "\n",
    "    retdf.to_csv('crossvalid_stagedata_classifier_%s.csv'%suffix, float_format='%.3f')\n",
    "    #df_event = retdf\n",
    "    return retdf"
   ]
  },
  {
   "cell_type": "markdown",
   "metadata": {},
   "source": [
    "### test oracle with stintlen"
   ]
  },
  {
   "cell_type": "code",
   "execution_count": 5,
   "metadata": {},
   "outputs": [
    {
     "name": "stdout",
     "output_type": "stream",
     "text": [
      "<class 'pandas.core.frame.DataFrame'>\n",
      "RangeIndex: 1522 entries, 0 to 1521\n",
      "Data columns (total 37 columns):\n",
      "Unnamed: 0                   1522 non-null int64\n",
      "target                       1522 non-null int64\n",
      "start_lap                    1522 non-null int64\n",
      "stint_len                    1522 non-null int64\n",
      "eventid                      1522 non-null int64\n",
      "car_number                   1522 non-null int64\n",
      "stageid                      1522 non-null int64\n",
      "firststage                   1522 non-null int64\n",
      "pit_in_caution               1522 non-null int64\n",
      "start_position               1522 non-null int64\n",
      "start_rank                   1522 non-null int64\n",
      "start_rank_ratio             1522 non-null float64\n",
      "top_pack                     1522 non-null int64\n",
      "bottom_pack                  1522 non-null int64\n",
      "average_rank                 1522 non-null float64\n",
      "average_rank_all             1522 non-null float64\n",
      "change_in_rank               1522 non-null int64\n",
      "change_in_rank_all           1522 non-null float64\n",
      "rate_of_change               1522 non-null int64\n",
      "rate_of_change_all           1522 non-null float64\n",
      "laptime_green_mean_prev      1522 non-null float64\n",
      "laptime_green_std_prev       1522 non-null float64\n",
      "laptime_green_mean_all       1522 non-null float64\n",
      "laptime_green_std_all        1522 non-null float64\n",
      "laptime_mean_prev            1522 non-null float64\n",
      "laptime_std_prev             1522 non-null float64\n",
      "laptime_mean_all             1522 non-null float64\n",
      "laptime_std_all              1522 non-null float64\n",
      "laps_prev                    1522 non-null int64\n",
      "laps_after_last_pitstop      1522 non-null int64\n",
      "pittime_prev                 1522 non-null float64\n",
      "prev_nb0_change_in_rank      1522 non-null int64\n",
      "prev_nb1_change_in_rank      1522 non-null int64\n",
      "prev_nb2_change_in_rank      1522 non-null int64\n",
      "follow_nb0_change_in_rank    1522 non-null int64\n",
      "follow_nb1_change_in_rank    1522 non-null int64\n",
      "follow_nb2_change_in_rank    1522 non-null int64\n",
      "dtypes: float64(14), int64(23)\n",
      "memory usage: 440.1 KB\n"
     ]
    }
   ],
   "source": [
    "#load data\n",
    "_trim = 0\n",
    "_include_final = True\n",
    "_include_stintlen = True\n",
    "include_str = '1' if _include_final else '0'\n",
    "stint_str = '1' if _include_stintlen else ''\n",
    "suffix = f'indy500-2013-2019-end{include_str}{stint_str}-t{_trim}'\n",
    "output_file = f'stage-indy500-2013-2019-end{include_str}{stint_str}-t{_trim}.csv'\n",
    "stagedata = pd.read_csv(output_file)\n",
    "\n",
    "stagedata.fillna(0, inplace=True)\n",
    "stagedata.info()"
   ]
  },
  {
   "cell_type": "code",
   "execution_count": 6,
   "metadata": {},
   "outputs": [
    {
     "data": {
      "text/html": [
       "<div>\n",
       "<style scoped>\n",
       "    .dataframe tbody tr th:only-of-type {\n",
       "        vertical-align: middle;\n",
       "    }\n",
       "\n",
       "    .dataframe tbody tr th {\n",
       "        vertical-align: top;\n",
       "    }\n",
       "\n",
       "    .dataframe thead th {\n",
       "        text-align: right;\n",
       "    }\n",
       "</style>\n",
       "<table border=\"1\" class=\"dataframe\">\n",
       "  <thead>\n",
       "    <tr style=\"text-align: right;\">\n",
       "      <th></th>\n",
       "      <th>Unnamed: 0</th>\n",
       "      <th>target</th>\n",
       "      <th>start_lap</th>\n",
       "      <th>stint_len</th>\n",
       "      <th>eventid</th>\n",
       "      <th>car_number</th>\n",
       "      <th>stageid</th>\n",
       "      <th>firststage</th>\n",
       "      <th>pit_in_caution</th>\n",
       "      <th>start_position</th>\n",
       "      <th>...</th>\n",
       "      <th>laptime_std_all</th>\n",
       "      <th>laps_prev</th>\n",
       "      <th>laps_after_last_pitstop</th>\n",
       "      <th>pittime_prev</th>\n",
       "      <th>prev_nb0_change_in_rank</th>\n",
       "      <th>prev_nb1_change_in_rank</th>\n",
       "      <th>prev_nb2_change_in_rank</th>\n",
       "      <th>follow_nb0_change_in_rank</th>\n",
       "      <th>follow_nb1_change_in_rank</th>\n",
       "      <th>follow_nb2_change_in_rank</th>\n",
       "    </tr>\n",
       "  </thead>\n",
       "  <tbody>\n",
       "    <tr>\n",
       "      <th>0</th>\n",
       "      <td>1</td>\n",
       "      <td>-12</td>\n",
       "      <td>31</td>\n",
       "      <td>27</td>\n",
       "      <td>0</td>\n",
       "      <td>1</td>\n",
       "      <td>1</td>\n",
       "      <td>1</td>\n",
       "      <td>0</td>\n",
       "      <td>7</td>\n",
       "      <td>...</td>\n",
       "      <td>22.910400</td>\n",
       "      <td>31</td>\n",
       "      <td>31</td>\n",
       "      <td>66.08150</td>\n",
       "      <td>2</td>\n",
       "      <td>8</td>\n",
       "      <td>0</td>\n",
       "      <td>14</td>\n",
       "      <td>6</td>\n",
       "      <td>3</td>\n",
       "    </tr>\n",
       "    <tr>\n",
       "      <th>1</th>\n",
       "      <td>2</td>\n",
       "      <td>14</td>\n",
       "      <td>58</td>\n",
       "      <td>32</td>\n",
       "      <td>0</td>\n",
       "      <td>1</td>\n",
       "      <td>2</td>\n",
       "      <td>1</td>\n",
       "      <td>1</td>\n",
       "      <td>7</td>\n",
       "      <td>...</td>\n",
       "      <td>23.822858</td>\n",
       "      <td>27</td>\n",
       "      <td>27</td>\n",
       "      <td>62.06770</td>\n",
       "      <td>-19</td>\n",
       "      <td>-21</td>\n",
       "      <td>0</td>\n",
       "      <td>-3</td>\n",
       "      <td>-21</td>\n",
       "      <td>-17</td>\n",
       "    </tr>\n",
       "    <tr>\n",
       "      <th>2</th>\n",
       "      <td>3</td>\n",
       "      <td>-7</td>\n",
       "      <td>90</td>\n",
       "      <td>32</td>\n",
       "      <td>0</td>\n",
       "      <td>1</td>\n",
       "      <td>3</td>\n",
       "      <td>1</td>\n",
       "      <td>0</td>\n",
       "      <td>7</td>\n",
       "      <td>...</td>\n",
       "      <td>21.857882</td>\n",
       "      <td>32</td>\n",
       "      <td>32</td>\n",
       "      <td>91.23935</td>\n",
       "      <td>11</td>\n",
       "      <td>-2</td>\n",
       "      <td>-3</td>\n",
       "      <td>7</td>\n",
       "      <td>17</td>\n",
       "      <td>19</td>\n",
       "    </tr>\n",
       "    <tr>\n",
       "      <th>3</th>\n",
       "      <td>4</td>\n",
       "      <td>5</td>\n",
       "      <td>122</td>\n",
       "      <td>30</td>\n",
       "      <td>0</td>\n",
       "      <td>1</td>\n",
       "      <td>4</td>\n",
       "      <td>1</td>\n",
       "      <td>0</td>\n",
       "      <td>7</td>\n",
       "      <td>...</td>\n",
       "      <td>19.394133</td>\n",
       "      <td>32</td>\n",
       "      <td>32</td>\n",
       "      <td>61.19415</td>\n",
       "      <td>-15</td>\n",
       "      <td>-9</td>\n",
       "      <td>-6</td>\n",
       "      <td>0</td>\n",
       "      <td>4</td>\n",
       "      <td>-6</td>\n",
       "    </tr>\n",
       "    <tr>\n",
       "      <th>4</th>\n",
       "      <td>5</td>\n",
       "      <td>-3</td>\n",
       "      <td>152</td>\n",
       "      <td>29</td>\n",
       "      <td>0</td>\n",
       "      <td>1</td>\n",
       "      <td>5</td>\n",
       "      <td>1</td>\n",
       "      <td>0</td>\n",
       "      <td>7</td>\n",
       "      <td>...</td>\n",
       "      <td>17.737505</td>\n",
       "      <td>30</td>\n",
       "      <td>30</td>\n",
       "      <td>60.85410</td>\n",
       "      <td>-3</td>\n",
       "      <td>0</td>\n",
       "      <td>0</td>\n",
       "      <td>-3</td>\n",
       "      <td>-3</td>\n",
       "      <td>0</td>\n",
       "    </tr>\n",
       "  </tbody>\n",
       "</table>\n",
       "<p>5 rows × 37 columns</p>\n",
       "</div>"
      ],
      "text/plain": [
       "   Unnamed: 0  target  start_lap  stint_len  eventid  car_number  stageid  \\\n",
       "0           1     -12         31         27        0           1        1   \n",
       "1           2      14         58         32        0           1        2   \n",
       "2           3      -7         90         32        0           1        3   \n",
       "3           4       5        122         30        0           1        4   \n",
       "4           5      -3        152         29        0           1        5   \n",
       "\n",
       "   firststage  pit_in_caution  start_position  ...  laptime_std_all  \\\n",
       "0           1               0               7  ...        22.910400   \n",
       "1           1               1               7  ...        23.822858   \n",
       "2           1               0               7  ...        21.857882   \n",
       "3           1               0               7  ...        19.394133   \n",
       "4           1               0               7  ...        17.737505   \n",
       "\n",
       "   laps_prev  laps_after_last_pitstop  pittime_prev  prev_nb0_change_in_rank  \\\n",
       "0         31                       31      66.08150                        2   \n",
       "1         27                       27      62.06770                      -19   \n",
       "2         32                       32      91.23935                       11   \n",
       "3         32                       32      61.19415                      -15   \n",
       "4         30                       30      60.85410                       -3   \n",
       "\n",
       "   prev_nb1_change_in_rank  prev_nb2_change_in_rank  \\\n",
       "0                        8                        0   \n",
       "1                      -21                        0   \n",
       "2                       -2                       -3   \n",
       "3                       -9                       -6   \n",
       "4                        0                        0   \n",
       "\n",
       "   follow_nb0_change_in_rank  follow_nb1_change_in_rank  \\\n",
       "0                         14                          6   \n",
       "1                         -3                        -21   \n",
       "2                          7                         17   \n",
       "3                          0                          4   \n",
       "4                         -3                         -3   \n",
       "\n",
       "   follow_nb2_change_in_rank  \n",
       "0                          3  \n",
       "1                        -17  \n",
       "2                         19  \n",
       "3                         -6  \n",
       "4                          0  \n",
       "\n",
       "[5 rows x 37 columns]"
      ]
     },
     "execution_count": 6,
     "metadata": {},
     "output_type": "execute_result"
    }
   ],
   "source": [
    "stagedata.head(5)"
   ]
  },
  {
   "cell_type": "code",
   "execution_count": 7,
   "metadata": {},
   "outputs": [
    {
     "name": "stdout",
     "output_type": "stream",
     "text": [
      "cols:['runid', 'trainsize', 'testsize', 'testdistribution', 'currank', 'avgrank', 'dice', 'lr', 'lsvc', 'lsvcl2', 'rf', 'lrbias', 'xgb']\n",
      "Testset = Indy500-2013\n",
      "[*] predict with currank model\n",
      "precision=[0.         0.14871795 0.        ], recall=[0. 1. 0.], f1=[0.         0.25892857 0.        ], accuracy=0.15\n",
      "[*] predict with avgrank model\n",
      "precision=[0.         0.         0.34871795], recall=[0. 0. 1.], f1=[0.         0.         0.51711027], accuracy=0.35\n",
      "[*] predict with dice model\n",
      "precision=[0.46902655 0.2173913  0.27118644], recall=[0.54081633 0.17241379 0.23529412], f1=[0.50236967 0.19230769 0.2519685 ], accuracy=0.38\n",
      "[*] predict with lr model\n"
     ]
    },
    {
     "name": "stderr",
     "output_type": "stream",
     "text": [
      "/scratch_ssd/hpda/anaconda3/envs/gluonts/lib/python3.6/site-packages/sklearn/metrics/_classification.py:1272: UndefinedMetricWarning: Precision is ill-defined and being set to 0.0 in labels with no predicted samples. Use `zero_division` parameter to control this behavior.\n",
      "  _warn_prf(average, modifier, msg_start, len(result))\n"
     ]
    },
    {
     "name": "stdout",
     "output_type": "stream",
     "text": [
      "precision=[0.62015504 0.33333333 0.6031746 ], recall=[0.81632653 0.03448276 0.55882353], f1=[0.70484581 0.0625     0.58015267], accuracy=0.61\n",
      "[*] predict with lsvc model\n"
     ]
    },
    {
     "name": "stderr",
     "output_type": "stream",
     "text": [
      "/scratch_ssd/hpda/anaconda3/envs/gluonts/lib/python3.6/site-packages/sklearn/svm/_base.py:947: ConvergenceWarning: Liblinear failed to converge, increase the number of iterations.\n",
      "  \"the number of iterations.\", ConvergenceWarning)\n"
     ]
    },
    {
     "name": "stdout",
     "output_type": "stream",
     "text": [
      "precision=[0.62307692 0.5        0.61904762], recall=[0.82653061 0.03448276 0.57352941], f1=[0.71052632 0.06451613 0.59541985], accuracy=0.62\n",
      "[*] predict with lsvcl2 model\n"
     ]
    },
    {
     "name": "stderr",
     "output_type": "stream",
     "text": [
      "/scratch_ssd/hpda/anaconda3/envs/gluonts/lib/python3.6/site-packages/sklearn/svm/_base.py:947: ConvergenceWarning: Liblinear failed to converge, increase the number of iterations.\n",
      "  \"the number of iterations.\", ConvergenceWarning)\n"
     ]
    },
    {
     "name": "stdout",
     "output_type": "stream",
     "text": [
      "precision=[0.76623377 0.23728814 0.57627119], recall=[0.60204082 0.48275862 0.5       ], f1=[0.67428571 0.31818182 0.53543307], accuracy=0.55\n",
      "[*] predict with rf model\n",
      "precision=[0.62015504 1.         0.59375   ], recall=[0.81632653 0.06896552 0.55882353], f1=[0.70484581 0.12903226 0.57575758], accuracy=0.62\n",
      "[*] predict with lrbias model\n"
     ]
    },
    {
     "name": "stderr",
     "output_type": "stream",
     "text": [
      "[Parallel(n_jobs=-1)]: Using backend LokyBackend with 20 concurrent workers.\n",
      "[Parallel(n_jobs=-1)]: Done   1 out of   1 | elapsed:    0.8s finished\n"
     ]
    },
    {
     "name": "stdout",
     "output_type": "stream",
     "text": [
      "precision=[0.62992126 0.4        0.6031746 ], recall=[0.81632653 0.06896552 0.55882353], f1=[0.71111111 0.11764706 0.58015267], accuracy=0.62\n",
      "[*] predict with xgb model\n",
      "precision=[0.67226891 0.5        0.61428571], recall=[0.81632653 0.10344828 0.63235294], f1=[0.73732719 0.17142857 0.62318841], accuracy=0.65\n",
      "rec:['Indy500-2013', 1327, 195, '+:68,0:29,-:98', 0.14871794871794872, 0.3487179487179487, 0.37948717948717947, 0.6102564102564103, 0.6205128205128205, 0.5487179487179488, 0.6153846153846154, 0.6153846153846154, 0.6461538461538462]\n",
      "Testset = Indy500-2014\n",
      "[*] predict with currank model\n",
      "precision=[0.         0.19111111 0.        ], recall=[0. 1. 0.], f1=[0.         0.32089552 0.        ], accuracy=0.19\n",
      "[*] predict with avgrank model\n",
      "precision=[0.   0.   0.28], recall=[0. 0. 1.], f1=[0.     0.     0.4375], accuracy=0.28\n",
      "[*] predict with dice model\n",
      "precision=[0.51908397 0.07407407 0.29850746], recall=[0.57142857 0.04651163 0.31746032], f1=[0.544      0.05714286 0.30769231], accuracy=0.40\n",
      "[*] predict with lr model\n"
     ]
    },
    {
     "name": "stderr",
     "output_type": "stream",
     "text": [
      "/scratch_ssd/hpda/anaconda3/envs/gluonts/lib/python3.6/site-packages/sklearn/metrics/_classification.py:1272: UndefinedMetricWarning: Precision is ill-defined and being set to 0.0 in labels with no predicted samples. Use `zero_division` parameter to control this behavior.\n",
      "  _warn_prf(average, modifier, msg_start, len(result))\n"
     ]
    },
    {
     "name": "stdout",
     "output_type": "stream",
     "text": [
      "precision=[0.7        0.4        0.44705882], recall=[0.76470588 0.09302326 0.6031746 ], f1=[0.73092369 0.1509434  0.51351351], accuracy=0.59\n",
      "[*] predict with lsvc model\n"
     ]
    },
    {
     "name": "stderr",
     "output_type": "stream",
     "text": [
      "/scratch_ssd/hpda/anaconda3/envs/gluonts/lib/python3.6/site-packages/sklearn/svm/_base.py:947: ConvergenceWarning: Liblinear failed to converge, increase the number of iterations.\n",
      "  \"the number of iterations.\", ConvergenceWarning)\n"
     ]
    },
    {
     "name": "stdout",
     "output_type": "stream",
     "text": [
      "precision=[0.70542636 0.4        0.44186047], recall=[0.76470588 0.09302326 0.6031746 ], f1=[0.73387097 0.1509434  0.51006711], accuracy=0.59\n",
      "[*] predict with lsvcl2 model\n"
     ]
    },
    {
     "name": "stderr",
     "output_type": "stream",
     "text": [
      "/scratch_ssd/hpda/anaconda3/envs/gluonts/lib/python3.6/site-packages/sklearn/svm/_base.py:947: ConvergenceWarning: Liblinear failed to converge, increase the number of iterations.\n",
      "  \"the number of iterations.\", ConvergenceWarning)\n"
     ]
    },
    {
     "name": "stdout",
     "output_type": "stream",
     "text": [
      "precision=[0.71774194 1.         0.42424242], recall=[0.74789916 0.04651163 0.66666667], f1=[0.73251029 0.08888889 0.51851852], accuracy=0.59\n",
      "[*] predict with rf model\n",
      "precision=[0.68461538 0.8        0.37777778], recall=[0.74789916 0.09302326 0.53968254], f1=[0.71485944 0.16666667 0.44444444], accuracy=0.56\n",
      "[*] predict with lrbias model\n"
     ]
    },
    {
     "name": "stderr",
     "output_type": "stream",
     "text": [
      "[Parallel(n_jobs=-1)]: Using backend LokyBackend with 20 concurrent workers.\n",
      "[Parallel(n_jobs=-1)]: Done   1 out of   1 | elapsed:    0.6s finished\n"
     ]
    },
    {
     "name": "stdout",
     "output_type": "stream",
     "text": [
      "precision=[0.69924812 0.4        0.46341463], recall=[0.78151261 0.09302326 0.6031746 ], f1=[0.73809524 0.1509434  0.52413793], accuracy=0.60\n",
      "[*] predict with xgb model\n",
      "precision=[0.72321429 0.46666667 0.44897959], recall=[0.68067227 0.1627907  0.6984127 ], f1=[0.7012987  0.24137931 0.54658385], accuracy=0.59\n",
      "rec:['Indy500-2014', 1297, 225, '+:63,0:43,-:119', 0.19111111111111112, 0.28, 0.4, 0.5911111111111111, 0.5911111111111111, 0.5911111111111111, 0.5644444444444444, 0.6, 0.5866666666666667]\n",
      "Testset = Indy500-2015\n",
      "[*] predict with currank model\n",
      "precision=[0.         0.13333333 0.        ], recall=[0. 1. 0.], f1=[0.         0.23529412 0.        ], accuracy=0.13\n",
      "[*] predict with avgrank model\n",
      "precision=[0.         0.         0.37948718], recall=[0. 0. 1.], f1=[0.         0.         0.55018587], accuracy=0.38\n",
      "[*] predict with dice model\n",
      "precision=[0.53508772 0.125      0.40350877], recall=[0.64210526 0.11538462 0.31081081], f1=[0.58373206 0.12       0.35114504], accuracy=0.45\n",
      "[*] predict with lr model\n"
     ]
    },
    {
     "name": "stderr",
     "output_type": "stream",
     "text": [
      "/scratch_ssd/hpda/anaconda3/envs/gluonts/lib/python3.6/site-packages/sklearn/metrics/_classification.py:1272: UndefinedMetricWarning: Precision is ill-defined and being set to 0.0 in labels with no predicted samples. Use `zero_division` parameter to control this behavior.\n",
      "  _warn_prf(average, modifier, msg_start, len(result))\n"
     ]
    },
    {
     "name": "stdout",
     "output_type": "stream",
     "text": [
      "precision=[0.67567568 1.         0.62195122], recall=[0.78947368 0.07692308 0.68918919], f1=[0.72815534 0.14285714 0.65384615], accuracy=0.66\n",
      "[*] predict with lsvc model\n"
     ]
    },
    {
     "name": "stderr",
     "output_type": "stream",
     "text": [
      "/scratch_ssd/hpda/anaconda3/envs/gluonts/lib/python3.6/site-packages/sklearn/svm/_base.py:947: ConvergenceWarning: Liblinear failed to converge, increase the number of iterations.\n",
      "  \"the number of iterations.\", ConvergenceWarning)\n"
     ]
    },
    {
     "name": "stdout",
     "output_type": "stream",
     "text": [
      "precision=[0.67592593 1.         0.61627907], recall=[0.76842105 0.03846154 0.71621622], f1=[0.71921182 0.07407407 0.6625    ], accuracy=0.65\n",
      "[*] predict with lsvcl2 model\n"
     ]
    },
    {
     "name": "stderr",
     "output_type": "stream",
     "text": [
      "/scratch_ssd/hpda/anaconda3/envs/gluonts/lib/python3.6/site-packages/sklearn/svm/_base.py:947: ConvergenceWarning: Liblinear failed to converge, increase the number of iterations.\n",
      "  \"the number of iterations.\", ConvergenceWarning)\n",
      "/scratch_ssd/hpda/anaconda3/envs/gluonts/lib/python3.6/site-packages/sklearn/metrics/_classification.py:1272: UndefinedMetricWarning: Precision is ill-defined and being set to 0.0 in labels with no predicted samples. Use `zero_division` parameter to control this behavior.\n",
      "  _warn_prf(average, modifier, msg_start, len(result))\n"
     ]
    },
    {
     "name": "stdout",
     "output_type": "stream",
     "text": [
      "precision=[0.73584906 0.         0.47183099], recall=[0.41052632 0.         0.90540541], f1=[0.52702703 0.         0.62037037], accuracy=0.54\n",
      "[*] predict with rf model\n",
      "precision=[0.66393443 0.75       0.71014493], recall=[0.85263158 0.11538462 0.66216216], f1=[0.74654378 0.2        0.68531469], accuracy=0.68\n",
      "[*] predict with lrbias model\n"
     ]
    },
    {
     "name": "stderr",
     "output_type": "stream",
     "text": [
      "[Parallel(n_jobs=-1)]: Using backend LokyBackend with 20 concurrent workers.\n",
      "[Parallel(n_jobs=-1)]: Done   1 out of   1 | elapsed:    0.6s finished\n"
     ]
    },
    {
     "name": "stdout",
     "output_type": "stream",
     "text": [
      "precision=[0.67567568 1.         0.62195122], recall=[0.78947368 0.07692308 0.68918919], f1=[0.72815534 0.14285714 0.65384615], accuracy=0.66\n",
      "[*] predict with xgb model\n",
      "precision=[0.65322581 0.42857143 0.703125  ], recall=[0.85263158 0.11538462 0.60810811], f1=[0.73972603 0.18181818 0.65217391], accuracy=0.66\n",
      "rec:['Indy500-2015', 1327, 195, '+:74,0:26,-:95', 0.13333333333333333, 0.37948717948717947, 0.4461538461538462, 0.6564102564102564, 0.6512820512820513, 0.5435897435897435, 0.6820512820512821, 0.6564102564102564, 0.6615384615384615]\n",
      "Testset = Indy500-2016\n",
      "[*] predict with currank model\n",
      "precision=[0.         0.12598425 0.        ], recall=[0. 1. 0.], f1=[0.         0.22377622 0.        ], accuracy=0.13\n",
      "[*] predict with avgrank model\n",
      "precision=[0.         0.         0.38582677], recall=[0. 0. 1.], f1=[0.         0.         0.55681818], accuracy=0.39\n",
      "[*] predict with dice model\n",
      "precision=[0.49342105 0.05714286 0.47761194], recall=[0.60483871 0.0625     0.32653061], f1=[0.54347826 0.05970149 0.38787879], accuracy=0.43\n",
      "[*] predict with lr model\n"
     ]
    },
    {
     "name": "stderr",
     "output_type": "stream",
     "text": [
      "/scratch_ssd/hpda/anaconda3/envs/gluonts/lib/python3.6/site-packages/sklearn/metrics/_classification.py:1272: UndefinedMetricWarning: Precision is ill-defined and being set to 0.0 in labels with no predicted samples. Use `zero_division` parameter to control this behavior.\n",
      "  _warn_prf(average, modifier, msg_start, len(result))\n"
     ]
    },
    {
     "name": "stdout",
     "output_type": "stream",
     "text": [
      "precision=[0.63414634 0.33333333 0.66666667], recall=[0.83870968 0.09375    0.55102041], f1=[0.72222222 0.14634146 0.60335196], accuracy=0.63\n",
      "[*] predict with lsvc model\n"
     ]
    },
    {
     "name": "stderr",
     "output_type": "stream",
     "text": [
      "/scratch_ssd/hpda/anaconda3/envs/gluonts/lib/python3.6/site-packages/sklearn/svm/_base.py:947: ConvergenceWarning: Liblinear failed to converge, increase the number of iterations.\n",
      "  \"the number of iterations.\", ConvergenceWarning)\n"
     ]
    },
    {
     "name": "stdout",
     "output_type": "stream",
     "text": [
      "precision=[0.62068966 0.5        0.72222222], recall=[0.87096774 0.125      0.53061224], f1=[0.72483221 0.2        0.61176471], accuracy=0.65\n",
      "[*] predict with lsvcl2 model\n"
     ]
    },
    {
     "name": "stderr",
     "output_type": "stream",
     "text": [
      "/scratch_ssd/hpda/anaconda3/envs/gluonts/lib/python3.6/site-packages/sklearn/svm/_base.py:947: ConvergenceWarning: Liblinear failed to converge, increase the number of iterations.\n",
      "  \"the number of iterations.\", ConvergenceWarning)\n"
     ]
    },
    {
     "name": "stdout",
     "output_type": "stream",
     "text": [
      "precision=[0.63125    0.08333333 0.63414634], recall=[0.81451613 0.03125    0.53061224], f1=[0.71126761 0.04545455 0.57777778], accuracy=0.61\n",
      "[*] predict with rf model\n",
      "precision=[0.64327485 0.75       0.72151899], recall=[0.88709677 0.09375    0.58163265], f1=[0.74576271 0.16666667 0.6440678 ], accuracy=0.67\n",
      "[*] predict with lrbias model\n"
     ]
    },
    {
     "name": "stderr",
     "output_type": "stream",
     "text": [
      "[Parallel(n_jobs=-1)]: Using backend LokyBackend with 20 concurrent workers.\n",
      "[Parallel(n_jobs=-1)]: Done   1 out of   1 | elapsed:    0.5s finished\n"
     ]
    },
    {
     "name": "stdout",
     "output_type": "stream",
     "text": [
      "precision=[0.63030303 0.4        0.67088608], recall=[0.83870968 0.125      0.54081633], f1=[0.71972318 0.19047619 0.59887006], accuracy=0.63\n",
      "[*] predict with xgb model\n",
      "precision=[0.6796875  0.41176471 0.62385321], recall=[0.7016129  0.21875    0.69387755], f1=[0.69047619 0.28571429 0.65700483], accuracy=0.64\n",
      "rec:['Indy500-2016', 1268, 254, '+:98,0:32,-:124', 0.12598425196850394, 0.3858267716535433, 0.42913385826771655, 0.6338582677165354, 0.6456692913385826, 0.6062992125984252, 0.6692913385826772, 0.6338582677165354, 0.6377952755905512]\n",
      "Testset = Indy500-2017\n",
      "[*] predict with currank model\n",
      "precision=[0.         0.19758065 0.        ], recall=[0. 1. 0.], f1=[0.         0.32996633 0.        ], accuracy=0.20\n",
      "[*] predict with avgrank model\n",
      "precision=[0.         0.         0.29032258], recall=[0. 0. 1.], f1=[0.   0.   0.45], accuracy=0.29\n",
      "[*] predict with dice model\n",
      "precision=[0.46575342 0.16666667 0.23611111], recall=[0.53543307 0.10204082 0.23611111], f1=[0.4981685  0.12658228 0.23611111], accuracy=0.36\n",
      "[*] predict with lr model\n"
     ]
    },
    {
     "name": "stderr",
     "output_type": "stream",
     "text": [
      "/scratch_ssd/hpda/anaconda3/envs/gluonts/lib/python3.6/site-packages/sklearn/metrics/_classification.py:1272: UndefinedMetricWarning: Precision is ill-defined and being set to 0.0 in labels with no predicted samples. Use `zero_division` parameter to control this behavior.\n",
      "  _warn_prf(average, modifier, msg_start, len(result))\n"
     ]
    },
    {
     "name": "stdout",
     "output_type": "stream",
     "text": [
      "precision=[0.76       0.19886364 0.34042553], recall=[0.1496063  0.71428571 0.22222222], f1=[0.25       0.31111111 0.26890756], accuracy=0.28\n",
      "[*] predict with lsvc model\n"
     ]
    },
    {
     "name": "stderr",
     "output_type": "stream",
     "text": [
      "/scratch_ssd/hpda/anaconda3/envs/gluonts/lib/python3.6/site-packages/sklearn/svm/_base.py:947: ConvergenceWarning: Liblinear failed to converge, increase the number of iterations.\n",
      "  \"the number of iterations.\", ConvergenceWarning)\n"
     ]
    },
    {
     "name": "stdout",
     "output_type": "stream",
     "text": [
      "precision=[0.75862069 0.20606061 0.42592593], recall=[0.17322835 0.69387755 0.31944444], f1=[0.28205128 0.31775701 0.36507937], accuracy=0.32\n",
      "[*] predict with lsvcl2 model\n"
     ]
    },
    {
     "name": "stderr",
     "output_type": "stream",
     "text": [
      "/scratch_ssd/hpda/anaconda3/envs/gluonts/lib/python3.6/site-packages/sklearn/svm/_base.py:947: ConvergenceWarning: Liblinear failed to converge, increase the number of iterations.\n",
      "  \"the number of iterations.\", ConvergenceWarning)\n"
     ]
    },
    {
     "name": "stdout",
     "output_type": "stream",
     "text": [
      "precision=[0.84210526 0.18888889 0.30612245], recall=[0.12598425 0.69387755 0.20833333], f1=[0.21917808 0.29694323 0.24793388], accuracy=0.26\n",
      "[*] predict with rf model\n",
      "precision=[0.63157895 0.51724138 0.53731343], recall=[0.75590551 0.30612245 0.5       ], f1=[0.68817204 0.38461538 0.51798561], accuracy=0.59\n",
      "[*] predict with lrbias model\n"
     ]
    },
    {
     "name": "stderr",
     "output_type": "stream",
     "text": [
      "[Parallel(n_jobs=-1)]: Using backend LokyBackend with 20 concurrent workers.\n",
      "[Parallel(n_jobs=-1)]: Done   1 out of   1 | elapsed:    0.6s finished\n"
     ]
    },
    {
     "name": "stdout",
     "output_type": "stream",
     "text": [
      "precision=[0.76       0.2        0.35416667], recall=[0.1496063  0.71428571 0.23611111], f1=[0.25       0.3125     0.28333333], accuracy=0.29\n",
      "[*] predict with xgb model\n",
      "precision=[0.73636364 0.43859649 0.54320988], recall=[0.63779528 0.51020408 0.61111111], f1=[0.6835443  0.47169811 0.5751634 ], accuracy=0.60\n",
      "rec:['Indy500-2017', 1274, 248, '+:72,0:49,-:127', 0.1975806451612903, 0.2903225806451613, 0.3629032258064516, 0.28225806451612906, 0.3185483870967742, 0.2620967741935484, 0.592741935483871, 0.2862903225806452, 0.6048387096774194]\n",
      "Testset = Indy500-2018\n",
      "[*] predict with currank model\n",
      "precision=[0.        0.1005291 0.       ], recall=[0. 1. 0.], f1=[0.         0.18269231 0.        ], accuracy=0.10\n",
      "[*] predict with avgrank model\n",
      "precision=[0.         0.         0.38095238], recall=[0. 0. 1.], f1=[0.         0.         0.55172414], accuracy=0.38\n",
      "[*] predict with dice model\n",
      "precision=[0.47706422 0.12       0.32727273], recall=[0.53061224 0.15789474 0.25      ], f1=[0.50241546 0.13636364 0.28346457], accuracy=0.39\n",
      "[*] predict with lr model\n"
     ]
    },
    {
     "name": "stderr",
     "output_type": "stream",
     "text": [
      "/scratch_ssd/hpda/anaconda3/envs/gluonts/lib/python3.6/site-packages/sklearn/metrics/_classification.py:1272: UndefinedMetricWarning: Precision is ill-defined and being set to 0.0 in labels with no predicted samples. Use `zero_division` parameter to control this behavior.\n",
      "  _warn_prf(average, modifier, msg_start, len(result))\n"
     ]
    },
    {
     "name": "stdout",
     "output_type": "stream",
     "text": [
      "precision=[0.64661654 0.125      0.72916667], recall=[0.87755102 0.05263158 0.48611111], f1=[0.74458874 0.07407407 0.58333333], accuracy=0.65\n",
      "[*] predict with lsvc model\n"
     ]
    },
    {
     "name": "stderr",
     "output_type": "stream",
     "text": [
      "/scratch_ssd/hpda/anaconda3/envs/gluonts/lib/python3.6/site-packages/sklearn/svm/_base.py:947: ConvergenceWarning: Liblinear failed to converge, increase the number of iterations.\n",
      "  \"the number of iterations.\", ConvergenceWarning)\n"
     ]
    },
    {
     "name": "stdout",
     "output_type": "stream",
     "text": [
      "precision=[0.63888889 0.33333333 0.78571429], recall=[0.93877551 0.05263158 0.45833333], f1=[0.76033058 0.09090909 0.57894737], accuracy=0.67\n",
      "[*] predict with lsvcl2 model\n"
     ]
    },
    {
     "name": "stderr",
     "output_type": "stream",
     "text": [
      "/scratch_ssd/hpda/anaconda3/envs/gluonts/lib/python3.6/site-packages/sklearn/svm/_base.py:947: ConvergenceWarning: Liblinear failed to converge, increase the number of iterations.\n",
      "  \"the number of iterations.\", ConvergenceWarning)\n",
      "/scratch_ssd/hpda/anaconda3/envs/gluonts/lib/python3.6/site-packages/sklearn/metrics/_classification.py:1272: UndefinedMetricWarning: Precision is ill-defined and being set to 0.0 in labels with no predicted samples. Use `zero_division` parameter to control this behavior.\n",
      "  _warn_prf(average, modifier, msg_start, len(result))\n"
     ]
    },
    {
     "name": "stdout",
     "output_type": "stream",
     "text": [
      "precision=[0.69387755 0.11428571 0.        ], recall=[0.34693878 0.84210526 0.        ], f1=[0.46258503 0.20125786 0.        ], accuracy=0.26\n",
      "[*] predict with rf model\n",
      "precision=[0.63970588 1.         0.70588235], recall=[0.8877551  0.10526316 0.5       ], f1=[0.74358974 0.19047619 0.58536585], accuracy=0.66\n",
      "[*] predict with lrbias model\n"
     ]
    },
    {
     "name": "stderr",
     "output_type": "stream",
     "text": [
      "[Parallel(n_jobs=-1)]: Using backend LokyBackend with 20 concurrent workers.\n",
      "[Parallel(n_jobs=-1)]: Done   1 out of   1 | elapsed:    0.4s finished\n"
     ]
    },
    {
     "name": "stdout",
     "output_type": "stream",
     "text": [
      "precision=[0.65185185 0.125      0.76086957], recall=[0.89795918 0.05263158 0.48611111], f1=[0.75536481 0.07407407 0.59322034], accuracy=0.66\n",
      "[*] predict with xgb model\n",
      "precision=[0.66972477 0.4        0.67142857], recall=[0.74489796 0.21052632 0.65277778], f1=[0.70531401 0.27586207 0.66197183], accuracy=0.66\n",
      "rec:['Indy500-2018', 1333, 189, '+:72,0:19,-:98', 0.10052910052910052, 0.38095238095238093, 0.3862433862433862, 0.6455026455026455, 0.6666666666666666, 0.26455026455026454, 0.6613756613756614, 0.656084656084656, 0.656084656084656]\n",
      "Testset = Indy500-2019\n",
      "[*] predict with currank model\n",
      "precision=[0.         0.15277778 0.        ], recall=[0. 1. 0.], f1=[0.         0.26506024 0.        ], accuracy=0.15\n",
      "[*] predict with avgrank model\n",
      "precision=[0.         0.         0.30555556], recall=[0. 0. 1.], f1=[0.         0.         0.46808511], accuracy=0.31\n",
      "[*] predict with dice model\n",
      "precision=[0.59349593 0.33333333 0.34848485], recall=[0.62393162 0.27272727 0.34848485], f1=[0.60833333 0.3        0.34848485], accuracy=0.49\n",
      "[*] predict with lr model\n"
     ]
    },
    {
     "name": "stderr",
     "output_type": "stream",
     "text": [
      "/scratch_ssd/hpda/anaconda3/envs/gluonts/lib/python3.6/site-packages/sklearn/metrics/_classification.py:1272: UndefinedMetricWarning: Precision is ill-defined and being set to 0.0 in labels with no predicted samples. Use `zero_division` parameter to control this behavior.\n",
      "  _warn_prf(average, modifier, msg_start, len(result))\n"
     ]
    },
    {
     "name": "stdout",
     "output_type": "stream",
     "text": [
      "precision=[0.66911765 0.5        0.55555556], recall=[0.77777778 0.12121212 0.60606061], f1=[0.71936759 0.19512195 0.57971014], accuracy=0.62\n",
      "[*] predict with lsvc model\n"
     ]
    },
    {
     "name": "stderr",
     "output_type": "stream",
     "text": [
      "/scratch_ssd/hpda/anaconda3/envs/gluonts/lib/python3.6/site-packages/sklearn/svm/_base.py:947: ConvergenceWarning: Liblinear failed to converge, increase the number of iterations.\n",
      "  \"the number of iterations.\", ConvergenceWarning)\n"
     ]
    },
    {
     "name": "stdout",
     "output_type": "stream",
     "text": [
      "precision=[0.64179104 0.5        0.525     ], recall=[0.73504274 0.03030303 0.63636364], f1=[0.68525896 0.05714286 0.57534247], accuracy=0.60\n",
      "[*] predict with lsvcl2 model\n"
     ]
    },
    {
     "name": "stderr",
     "output_type": "stream",
     "text": [
      "/scratch_ssd/hpda/anaconda3/envs/gluonts/lib/python3.6/site-packages/sklearn/svm/_base.py:947: ConvergenceWarning: Liblinear failed to converge, increase the number of iterations.\n",
      "  \"the number of iterations.\", ConvergenceWarning)\n",
      "/scratch_ssd/hpda/anaconda3/envs/gluonts/lib/python3.6/site-packages/sklearn/metrics/_classification.py:1272: UndefinedMetricWarning: Precision is ill-defined and being set to 0.0 in labels with no predicted samples. Use `zero_division` parameter to control this behavior.\n",
      "  _warn_prf(average, modifier, msg_start, len(result))\n"
     ]
    },
    {
     "name": "stdout",
     "output_type": "stream",
     "text": [
      "precision=[0.81578947 0.         0.34831461], recall=[0.26495726 0.         0.93939394], f1=[0.4        0.         0.50819672], accuracy=0.43\n",
      "[*] predict with rf model\n",
      "precision=[0.63076923 0.66666667 0.525     ], recall=[0.7008547  0.12121212 0.63636364], f1=[0.66396761 0.20512821 0.57534247], accuracy=0.59\n",
      "[*] predict with lrbias model\n"
     ]
    },
    {
     "name": "stderr",
     "output_type": "stream",
     "text": [
      "[Parallel(n_jobs=-1)]: Using backend LokyBackend with 20 concurrent workers.\n",
      "[Parallel(n_jobs=-1)]: Done   1 out of   1 | elapsed:    0.5s finished\n"
     ]
    },
    {
     "name": "stdout",
     "output_type": "stream",
     "text": [
      "precision=[0.65441176 0.42857143 0.53424658], recall=[0.76068376 0.09090909 0.59090909], f1=[0.70355731 0.15       0.56115108], accuracy=0.61\n",
      "[*] predict with xgb model\n",
      "precision=[0.65       0.46666667 0.59016393], recall=[0.77777778 0.21212121 0.54545455], f1=[0.70817121 0.29166667 0.56692913], accuracy=0.62\n",
      "rec:['Indy500-2019', 1306, 216, '+:66,0:33,-:117', 0.1527777777777778, 0.3055555555555556, 0.4861111111111111, 0.625, 0.5972222222222222, 0.4305555555555556, 0.5925925925925926, 0.6064814814814815, 0.6203703703703703]\n"
     ]
    }
   ],
   "source": [
    "df_event = test_cv()"
   ]
  },
  {
   "cell_type": "code",
   "execution_count": 8,
   "metadata": {},
   "outputs": [
    {
     "name": "stdout",
     "output_type": "stream",
     "text": [
      "cols:['runid', 'trainsize', 'testsize', 'testdistribution', 'currank', 'avgrank', 'dice', 'lr', 'lsvc', 'lsvcl2', 'rf', 'lrbias', 'xgb']\n",
      "Testset = Indy500-2018\n",
      "[*] predict with currank model\n",
      "precision=[0.        0.1005291 0.       ], recall=[0. 1. 0.], f1=[0.         0.18269231 0.        ], accuracy=0.10\n",
      "[*] predict with avgrank model\n",
      "precision=[0.         0.         0.38095238], recall=[0. 0. 1.], f1=[0.         0.         0.55172414], accuracy=0.38\n",
      "[*] predict with dice model\n",
      "precision=[0.47222222 0.12       0.32142857], recall=[0.52040816 0.15789474 0.25      ], f1=[0.49514563 0.13636364 0.28125   ], accuracy=0.38\n",
      "[*] predict with lr model\n"
     ]
    },
    {
     "name": "stderr",
     "output_type": "stream",
     "text": [
      "/scratch_ssd/hpda/anaconda3/envs/gluonts/lib/python3.6/site-packages/sklearn/metrics/_classification.py:1272: UndefinedMetricWarning: Precision is ill-defined and being set to 0.0 in labels with no predicted samples. Use `zero_division` parameter to control this behavior.\n",
      "  _warn_prf(average, modifier, msg_start, len(result))\n"
     ]
    },
    {
     "name": "stdout",
     "output_type": "stream",
     "text": [
      "precision=[0.67164179 0.14285714 0.79166667], recall=[0.91836735 0.05263158 0.52777778], f1=[0.77586207 0.07692308 0.63333333], accuracy=0.68\n",
      "[*] predict with lsvc model\n"
     ]
    },
    {
     "name": "stderr",
     "output_type": "stream",
     "text": [
      "/scratch_ssd/hpda/anaconda3/envs/gluonts/lib/python3.6/site-packages/sklearn/svm/_base.py:947: ConvergenceWarning: Liblinear failed to converge, increase the number of iterations.\n",
      "  \"the number of iterations.\", ConvergenceWarning)\n",
      "/scratch_ssd/hpda/anaconda3/envs/gluonts/lib/python3.6/site-packages/sklearn/metrics/_classification.py:1272: UndefinedMetricWarning: Precision is ill-defined and being set to 0.0 in labels with no predicted samples. Use `zero_division` parameter to control this behavior.\n",
      "  _warn_prf(average, modifier, msg_start, len(result))\n"
     ]
    },
    {
     "name": "stdout",
     "output_type": "stream",
     "text": [
      "precision=[0.62745098 0.         0.86111111], recall=[0.97959184 0.         0.43055556], f1=[0.76494024 0.         0.57407407], accuracy=0.67\n",
      "[*] predict with lsvcl2 model\n"
     ]
    },
    {
     "name": "stderr",
     "output_type": "stream",
     "text": [
      "/scratch_ssd/hpda/anaconda3/envs/gluonts/lib/python3.6/site-packages/sklearn/svm/_base.py:947: ConvergenceWarning: Liblinear failed to converge, increase the number of iterations.\n",
      "  \"the number of iterations.\", ConvergenceWarning)\n",
      "/scratch_ssd/hpda/anaconda3/envs/gluonts/lib/python3.6/site-packages/sklearn/metrics/_classification.py:1272: UndefinedMetricWarning: Precision is ill-defined and being set to 0.0 in labels with no predicted samples. Use `zero_division` parameter to control this behavior.\n",
      "  _warn_prf(average, modifier, msg_start, len(result))\n"
     ]
    },
    {
     "name": "stdout",
     "output_type": "stream",
     "text": [
      "precision=[0.69791667 0.         0.53763441], recall=[0.68367347 0.         0.69444444], f1=[0.69072165 0.         0.60606061], accuracy=0.62\n",
      "[*] predict with rf model\n",
      "precision=[0.66129032 1.         0.66666667], recall=[0.83673469 0.10526316 0.58333333], f1=[0.73873874 0.19047619 0.62222222], accuracy=0.67\n",
      "[*] predict with lrbias model\n"
     ]
    },
    {
     "name": "stderr",
     "output_type": "stream",
     "text": [
      "[Parallel(n_jobs=-1)]: Using backend LokyBackend with 20 concurrent workers.\n",
      "[Parallel(n_jobs=-1)]: Done   1 out of   1 | elapsed:    0.5s finished\n"
     ]
    },
    {
     "name": "stdout",
     "output_type": "stream",
     "text": [
      "precision=[0.67910448 0.14285714 0.8125    ], recall=[0.92857143 0.05263158 0.54166667], f1=[0.78448276 0.07692308 0.65      ], accuracy=0.69\n",
      "[*] predict with xgb model\n",
      "precision=[0.67889908 0.375      0.671875  ], recall=[0.75510204 0.31578947 0.59722222], f1=[0.71497585 0.34285714 0.63235294], accuracy=0.65\n",
      "rec:['Indy500-2018', 1117, 189, '+:72,0:19,-:98', 0.10052910052910052, 0.38095238095238093, 0.38095238095238093, 0.6825396825396826, 0.671957671957672, 0.6190476190476191, 0.6666666666666666, 0.6931216931216931, 0.6507936507936508]\n",
      "Testset = Indy500-2019\n",
      "[*] predict with currank model\n",
      "precision=[0.         0.15277778 0.        ], recall=[0. 1. 0.], f1=[0.         0.26506024 0.        ], accuracy=0.15\n",
      "[*] predict with avgrank model\n",
      "precision=[0.         0.         0.30555556], recall=[0. 0. 1.], f1=[0.         0.         0.46808511], accuracy=0.31\n",
      "[*] predict with dice model\n",
      "precision=[0.59349593 0.3125     0.3442623 ], recall=[0.62393162 0.3030303  0.31818182], f1=[0.60833333 0.30769231 0.33070866], accuracy=0.48\n",
      "[*] predict with lr model\n"
     ]
    },
    {
     "name": "stderr",
     "output_type": "stream",
     "text": [
      "/scratch_ssd/hpda/anaconda3/envs/gluonts/lib/python3.6/site-packages/sklearn/metrics/_classification.py:1272: UndefinedMetricWarning: Precision is ill-defined and being set to 0.0 in labels with no predicted samples. Use `zero_division` parameter to control this behavior.\n",
      "  _warn_prf(average, modifier, msg_start, len(result))\n"
     ]
    },
    {
     "name": "stdout",
     "output_type": "stream",
     "text": [
      "precision=[0.65957447 0.375      0.56716418], recall=[0.79487179 0.09090909 0.57575758], f1=[0.72093023 0.14634146 0.57142857], accuracy=0.62\n",
      "[*] predict with lsvc model\n"
     ]
    },
    {
     "name": "stderr",
     "output_type": "stream",
     "text": [
      "/scratch_ssd/hpda/anaconda3/envs/gluonts/lib/python3.6/site-packages/sklearn/svm/_base.py:947: ConvergenceWarning: Liblinear failed to converge, increase the number of iterations.\n",
      "  \"the number of iterations.\", ConvergenceWarning)\n"
     ]
    },
    {
     "name": "stdout",
     "output_type": "stream",
     "text": [
      "precision=[0.63414634 0.5        0.66      ], recall=[0.88888889 0.03030303 0.5       ], f1=[0.74021352 0.05714286 0.56896552], accuracy=0.64\n",
      "[*] predict with lsvcl2 model\n"
     ]
    },
    {
     "name": "stderr",
     "output_type": "stream",
     "text": [
      "/scratch_ssd/hpda/anaconda3/envs/gluonts/lib/python3.6/site-packages/sklearn/svm/_base.py:947: ConvergenceWarning: Liblinear failed to converge, increase the number of iterations.\n",
      "  \"the number of iterations.\", ConvergenceWarning)\n"
     ]
    },
    {
     "name": "stdout",
     "output_type": "stream",
     "text": [
      "precision=[0.55897436 0.27777778 0.66666667], recall=[0.93162393 0.15151515 0.03030303], f1=[0.69871795 0.19607843 0.05797101], accuracy=0.54\n",
      "[*] predict with rf model\n",
      "precision=[0.624      0.83333333 0.49411765], recall=[0.66666667 0.15151515 0.63636364], f1=[0.6446281  0.25641026 0.55629139], accuracy=0.58\n",
      "[*] predict with lrbias model\n"
     ]
    },
    {
     "name": "stderr",
     "output_type": "stream",
     "text": [
      "[Parallel(n_jobs=-1)]: Using backend LokyBackend with 20 concurrent workers.\n",
      "[Parallel(n_jobs=-1)]: Done   1 out of   1 | elapsed:    0.5s finished\n"
     ]
    },
    {
     "name": "stdout",
     "output_type": "stream",
     "text": [
      "precision=[0.66906475 0.5        0.56521739], recall=[0.79487179 0.12121212 0.59090909], f1=[0.7265625  0.19512195 0.57777778], accuracy=0.63\n",
      "[*] predict with xgb model\n",
      "precision=[0.65034965 0.40909091 0.56862745], recall=[0.79487179 0.27272727 0.43939394], f1=[0.71538462 0.32727273 0.4957265 ], accuracy=0.61\n",
      "rec:['Indy500-2019', 1117, 216, '+:66,0:33,-:117', 0.1527777777777778, 0.3055555555555556, 0.48148148148148145, 0.6203703703703703, 0.6388888888888888, 0.5370370370370371, 0.5787037037037037, 0.6296296296296297, 0.6064814814814815]\n"
     ]
    }
   ],
   "source": [
    "retdf_oracle = test_20182019()"
   ]
  },
  {
   "cell_type": "code",
   "execution_count": 9,
   "metadata": {},
   "outputs": [
    {
     "data": {
      "text/html": [
       "<div>\n",
       "<style scoped>\n",
       "    .dataframe tbody tr th:only-of-type {\n",
       "        vertical-align: middle;\n",
       "    }\n",
       "\n",
       "    .dataframe tbody tr th {\n",
       "        vertical-align: top;\n",
       "    }\n",
       "\n",
       "    .dataframe thead th {\n",
       "        text-align: right;\n",
       "    }\n",
       "</style>\n",
       "<table border=\"1\" class=\"dataframe\">\n",
       "  <thead>\n",
       "    <tr style=\"text-align: right;\">\n",
       "      <th></th>\n",
       "      <th>runid</th>\n",
       "      <th>trainsize</th>\n",
       "      <th>testsize</th>\n",
       "      <th>testdistribution</th>\n",
       "      <th>currank</th>\n",
       "      <th>avgrank</th>\n",
       "      <th>dice</th>\n",
       "      <th>lr</th>\n",
       "      <th>lsvc</th>\n",
       "      <th>lsvcl2</th>\n",
       "      <th>rf</th>\n",
       "      <th>lrbias</th>\n",
       "      <th>xgb</th>\n",
       "    </tr>\n",
       "  </thead>\n",
       "  <tbody>\n",
       "    <tr>\n",
       "      <th>0</th>\n",
       "      <td>Indy500-2018</td>\n",
       "      <td>1117</td>\n",
       "      <td>189</td>\n",
       "      <td>+:72,0:19,-:98</td>\n",
       "      <td>0.100529</td>\n",
       "      <td>0.380952</td>\n",
       "      <td>0.380952</td>\n",
       "      <td>0.68254</td>\n",
       "      <td>0.671958</td>\n",
       "      <td>0.619048</td>\n",
       "      <td>0.666667</td>\n",
       "      <td>0.693122</td>\n",
       "      <td>0.650794</td>\n",
       "    </tr>\n",
       "    <tr>\n",
       "      <th>0</th>\n",
       "      <td>Indy500-2019</td>\n",
       "      <td>1117</td>\n",
       "      <td>216</td>\n",
       "      <td>+:66,0:33,-:117</td>\n",
       "      <td>0.152778</td>\n",
       "      <td>0.305556</td>\n",
       "      <td>0.481481</td>\n",
       "      <td>0.62037</td>\n",
       "      <td>0.638889</td>\n",
       "      <td>0.537037</td>\n",
       "      <td>0.578704</td>\n",
       "      <td>0.629630</td>\n",
       "      <td>0.606481</td>\n",
       "    </tr>\n",
       "  </tbody>\n",
       "</table>\n",
       "</div>"
      ],
      "text/plain": [
       "          runid trainsize testsize testdistribution   currank   avgrank  \\\n",
       "0  Indy500-2018      1117      189   +:72,0:19,-:98  0.100529  0.380952   \n",
       "0  Indy500-2019      1117      216  +:66,0:33,-:117  0.152778  0.305556   \n",
       "\n",
       "       dice       lr      lsvc    lsvcl2        rf    lrbias       xgb  \n",
       "0  0.380952  0.68254  0.671958  0.619048  0.666667  0.693122  0.650794  \n",
       "0  0.481481  0.62037  0.638889  0.537037  0.578704  0.629630  0.606481  "
      ]
     },
     "execution_count": 9,
     "metadata": {},
     "output_type": "execute_result"
    }
   ],
   "source": [
    "retdf_oracle"
   ]
  },
  {
   "cell_type": "markdown",
   "metadata": {},
   "source": [
    "### test normal without stint_len"
   ]
  },
  {
   "cell_type": "code",
   "execution_count": 10,
   "metadata": {},
   "outputs": [
    {
     "name": "stdout",
     "output_type": "stream",
     "text": [
      "<class 'pandas.core.frame.DataFrame'>\n",
      "RangeIndex: 1522 entries, 0 to 1521\n",
      "Data columns (total 37 columns):\n",
      "Unnamed: 0                   1522 non-null int64\n",
      "target                       1522 non-null int64\n",
      "start_lap                    1522 non-null int64\n",
      "stint_len                    1522 non-null int64\n",
      "eventid                      1522 non-null int64\n",
      "car_number                   1522 non-null int64\n",
      "stageid                      1522 non-null int64\n",
      "firststage                   1522 non-null int64\n",
      "pit_in_caution               1522 non-null int64\n",
      "start_position               1522 non-null int64\n",
      "start_rank                   1522 non-null int64\n",
      "start_rank_ratio             1522 non-null float64\n",
      "top_pack                     1522 non-null int64\n",
      "bottom_pack                  1522 non-null int64\n",
      "average_rank                 1522 non-null float64\n",
      "average_rank_all             1522 non-null float64\n",
      "change_in_rank               1522 non-null int64\n",
      "change_in_rank_all           1522 non-null float64\n",
      "rate_of_change               1522 non-null int64\n",
      "rate_of_change_all           1522 non-null float64\n",
      "laptime_green_mean_prev      1522 non-null float64\n",
      "laptime_green_std_prev       1522 non-null float64\n",
      "laptime_green_mean_all       1522 non-null float64\n",
      "laptime_green_std_all        1522 non-null float64\n",
      "laptime_mean_prev            1522 non-null float64\n",
      "laptime_std_prev             1522 non-null float64\n",
      "laptime_mean_all             1522 non-null float64\n",
      "laptime_std_all              1522 non-null float64\n",
      "laps_prev                    1522 non-null int64\n",
      "laps_after_last_pitstop      1522 non-null int64\n",
      "pittime_prev                 1522 non-null float64\n",
      "prev_nb0_change_in_rank      1522 non-null int64\n",
      "prev_nb1_change_in_rank      1522 non-null int64\n",
      "prev_nb2_change_in_rank      1522 non-null int64\n",
      "follow_nb0_change_in_rank    1522 non-null int64\n",
      "follow_nb1_change_in_rank    1522 non-null int64\n",
      "follow_nb2_change_in_rank    1522 non-null int64\n",
      "dtypes: float64(14), int64(23)\n",
      "memory usage: 440.1 KB\n"
     ]
    }
   ],
   "source": [
    "#load data\n",
    "_trim = 0\n",
    "_include_final = True\n",
    "_include_stintlen = False\n",
    "include_str = '1' if _include_final else '0'\n",
    "stint_str = '1' if _include_stintlen else ''\n",
    "suffix = f'indy500-2013-2019-end{include_str}{stint_str}-t{_trim}'\n",
    "output_file = f'stage-indy500-2013-2019-end{include_str}{stint_str}-t{_trim}.csv'\n",
    "stagedata = pd.read_csv(output_file)\n",
    "\n",
    "stagedata.fillna(0, inplace=True)\n",
    "stagedata.info()"
   ]
  },
  {
   "cell_type": "code",
   "execution_count": 11,
   "metadata": {},
   "outputs": [
    {
     "name": "stdout",
     "output_type": "stream",
     "text": [
      "cols:['runid', 'trainsize', 'testsize', 'testdistribution', 'currank', 'avgrank', 'dice', 'lr', 'lsvc', 'lsvcl2', 'rf', 'lrbias', 'xgb']\n",
      "Testset = Indy500-2013\n",
      "[*] predict with currank model\n",
      "precision=[0.         0.14871795 0.        ], recall=[0. 1. 0.], f1=[0.         0.25892857 0.        ], accuracy=0.15\n",
      "[*] predict with avgrank model\n",
      "precision=[0.         0.         0.34871795], recall=[0. 0. 1.], f1=[0.         0.         0.51711027], accuracy=0.35\n",
      "[*] predict with dice model\n",
      "precision=[0.46902655 0.2173913  0.27118644], recall=[0.54081633 0.17241379 0.23529412], f1=[0.50236967 0.19230769 0.2519685 ], accuracy=0.38\n",
      "[*] predict with lr model\n"
     ]
    },
    {
     "name": "stderr",
     "output_type": "stream",
     "text": [
      "/scratch_ssd/hpda/anaconda3/envs/gluonts/lib/python3.6/site-packages/sklearn/metrics/_classification.py:1272: UndefinedMetricWarning: Precision is ill-defined and being set to 0.0 in labels with no predicted samples. Use `zero_division` parameter to control this behavior.\n",
      "  _warn_prf(average, modifier, msg_start, len(result))\n"
     ]
    },
    {
     "name": "stdout",
     "output_type": "stream",
     "text": [
      "precision=[0.62015504 0.33333333 0.6031746 ], recall=[0.81632653 0.03448276 0.55882353], f1=[0.70484581 0.0625     0.58015267], accuracy=0.61\n",
      "[*] predict with lsvc model\n"
     ]
    },
    {
     "name": "stderr",
     "output_type": "stream",
     "text": [
      "/scratch_ssd/hpda/anaconda3/envs/gluonts/lib/python3.6/site-packages/sklearn/svm/_base.py:947: ConvergenceWarning: Liblinear failed to converge, increase the number of iterations.\n",
      "  \"the number of iterations.\", ConvergenceWarning)\n"
     ]
    },
    {
     "name": "stdout",
     "output_type": "stream",
     "text": [
      "precision=[0.62307692 0.5        0.61904762], recall=[0.82653061 0.03448276 0.57352941], f1=[0.71052632 0.06451613 0.59541985], accuracy=0.62\n",
      "[*] predict with lsvcl2 model\n"
     ]
    },
    {
     "name": "stderr",
     "output_type": "stream",
     "text": [
      "/scratch_ssd/hpda/anaconda3/envs/gluonts/lib/python3.6/site-packages/sklearn/svm/_base.py:947: ConvergenceWarning: Liblinear failed to converge, increase the number of iterations.\n",
      "  \"the number of iterations.\", ConvergenceWarning)\n"
     ]
    },
    {
     "name": "stdout",
     "output_type": "stream",
     "text": [
      "precision=[0.59398496 0.27272727 0.60784314], recall=[0.80612245 0.10344828 0.45588235], f1=[0.68398268 0.15       0.5210084 ], accuracy=0.58\n",
      "[*] predict with rf model\n",
      "precision=[0.62406015 1.         0.61666667], recall=[0.84693878 0.06896552 0.54411765], f1=[0.71861472 0.12903226 0.578125  ], accuracy=0.63\n",
      "[*] predict with lrbias model\n"
     ]
    },
    {
     "name": "stderr",
     "output_type": "stream",
     "text": [
      "[Parallel(n_jobs=-1)]: Using backend LokyBackend with 20 concurrent workers.\n",
      "[Parallel(n_jobs=-1)]: Done   1 out of   1 | elapsed:    0.4s finished\n"
     ]
    },
    {
     "name": "stdout",
     "output_type": "stream",
     "text": [
      "precision=[0.62992126 0.4        0.6031746 ], recall=[0.81632653 0.06896552 0.55882353], f1=[0.71111111 0.11764706 0.58015267], accuracy=0.62\n",
      "[*] predict with xgb model\n",
      "precision=[0.67226891 0.5        0.61428571], recall=[0.81632653 0.10344828 0.63235294], f1=[0.73732719 0.17142857 0.62318841], accuracy=0.65\n",
      "rec:['Indy500-2013', 1327, 195, '+:68,0:29,-:98', 0.14871794871794872, 0.3487179487179487, 0.37948717948717947, 0.6102564102564103, 0.6205128205128205, 0.5794871794871795, 0.6256410256410256, 0.6153846153846154, 0.6461538461538462]\n",
      "Testset = Indy500-2014\n",
      "[*] predict with currank model\n",
      "precision=[0.         0.19111111 0.        ], recall=[0. 1. 0.], f1=[0.         0.32089552 0.        ], accuracy=0.19\n",
      "[*] predict with avgrank model\n",
      "precision=[0.   0.   0.28], recall=[0. 0. 1.], f1=[0.     0.     0.4375], accuracy=0.28\n",
      "[*] predict with dice model\n",
      "precision=[0.51908397 0.07407407 0.29850746], recall=[0.57142857 0.04651163 0.31746032], f1=[0.544      0.05714286 0.30769231], accuracy=0.40\n",
      "[*] predict with lr model\n",
      "precision=[0.7        0.4        0.44705882], recall=[0.76470588 0.09302326 0.6031746 ], f1=[0.73092369 0.1509434  0.51351351], accuracy=0.59\n",
      "[*] predict with lsvc model\n"
     ]
    },
    {
     "name": "stderr",
     "output_type": "stream",
     "text": [
      "/scratch_ssd/hpda/anaconda3/envs/gluonts/lib/python3.6/site-packages/sklearn/metrics/_classification.py:1272: UndefinedMetricWarning: Precision is ill-defined and being set to 0.0 in labels with no predicted samples. Use `zero_division` parameter to control this behavior.\n",
      "  _warn_prf(average, modifier, msg_start, len(result))\n",
      "/scratch_ssd/hpda/anaconda3/envs/gluonts/lib/python3.6/site-packages/sklearn/svm/_base.py:947: ConvergenceWarning: Liblinear failed to converge, increase the number of iterations.\n",
      "  \"the number of iterations.\", ConvergenceWarning)\n"
     ]
    },
    {
     "name": "stdout",
     "output_type": "stream",
     "text": [
      "precision=[0.70542636 0.4        0.44186047], recall=[0.76470588 0.09302326 0.6031746 ], f1=[0.73387097 0.1509434  0.51006711], accuracy=0.59\n",
      "[*] predict with lsvcl2 model\n"
     ]
    },
    {
     "name": "stderr",
     "output_type": "stream",
     "text": [
      "/scratch_ssd/hpda/anaconda3/envs/gluonts/lib/python3.6/site-packages/sklearn/svm/_base.py:947: ConvergenceWarning: Liblinear failed to converge, increase the number of iterations.\n",
      "  \"the number of iterations.\", ConvergenceWarning)\n"
     ]
    },
    {
     "name": "stdout",
     "output_type": "stream",
     "text": [
      "precision=[0.73809524 0.33333333 0.36296296], recall=[0.5210084  0.04651163 0.77777778], f1=[0.61083744 0.08163265 0.49494949], accuracy=0.50\n",
      "[*] predict with rf model\n",
      "precision=[0.70542636 0.375      0.43181818], recall=[0.76470588 0.06976744 0.6031746 ], f1=[0.73387097 0.11764706 0.50331126], accuracy=0.59\n",
      "[*] predict with lrbias model\n",
      "precision=[0.69924812 0.4        0.46341463], recall=[0.78151261 0.09302326 0.6031746 ], f1=[0.73809524 0.1509434  0.52413793], accuracy=0.60\n",
      "[*] predict with xgb model\n"
     ]
    },
    {
     "name": "stderr",
     "output_type": "stream",
     "text": [
      "[Parallel(n_jobs=-1)]: Using backend LokyBackend with 20 concurrent workers.\n",
      "[Parallel(n_jobs=-1)]: Done   1 out of   1 | elapsed:    0.1s finished\n"
     ]
    },
    {
     "name": "stdout",
     "output_type": "stream",
     "text": [
      "precision=[0.72321429 0.46666667 0.44897959], recall=[0.68067227 0.1627907  0.6984127 ], f1=[0.7012987  0.24137931 0.54658385], accuracy=0.59\n",
      "rec:['Indy500-2014', 1297, 225, '+:63,0:43,-:119', 0.19111111111111112, 0.28, 0.4, 0.5911111111111111, 0.5911111111111111, 0.5022222222222222, 0.5866666666666667, 0.6, 0.5866666666666667]\n",
      "Testset = Indy500-2015\n",
      "[*] predict with currank model\n",
      "precision=[0.         0.13333333 0.        ], recall=[0. 1. 0.], f1=[0.         0.23529412 0.        ], accuracy=0.13\n",
      "[*] predict with avgrank model\n",
      "precision=[0.         0.         0.37948718], recall=[0. 0. 1.], f1=[0.         0.         0.55018587], accuracy=0.38\n",
      "[*] predict with dice model\n",
      "precision=[0.53508772 0.125      0.40350877], recall=[0.64210526 0.11538462 0.31081081], f1=[0.58373206 0.12       0.35114504], accuracy=0.45\n",
      "[*] predict with lr model\n",
      "precision=[0.67567568 1.         0.62195122], recall=[0.78947368 0.07692308 0.68918919], f1=[0.72815534 0.14285714 0.65384615], accuracy=0.66\n",
      "[*] predict with lsvc model\n"
     ]
    },
    {
     "name": "stderr",
     "output_type": "stream",
     "text": [
      "/scratch_ssd/hpda/anaconda3/envs/gluonts/lib/python3.6/site-packages/sklearn/metrics/_classification.py:1272: UndefinedMetricWarning: Precision is ill-defined and being set to 0.0 in labels with no predicted samples. Use `zero_division` parameter to control this behavior.\n",
      "  _warn_prf(average, modifier, msg_start, len(result))\n",
      "/scratch_ssd/hpda/anaconda3/envs/gluonts/lib/python3.6/site-packages/sklearn/svm/_base.py:947: ConvergenceWarning: Liblinear failed to converge, increase the number of iterations.\n",
      "  \"the number of iterations.\", ConvergenceWarning)\n"
     ]
    },
    {
     "name": "stdout",
     "output_type": "stream",
     "text": [
      "precision=[0.67592593 1.         0.61627907], recall=[0.76842105 0.03846154 0.71621622], f1=[0.71921182 0.07407407 0.6625    ], accuracy=0.65\n",
      "[*] predict with lsvcl2 model\n"
     ]
    },
    {
     "name": "stderr",
     "output_type": "stream",
     "text": [
      "/scratch_ssd/hpda/anaconda3/envs/gluonts/lib/python3.6/site-packages/sklearn/svm/_base.py:947: ConvergenceWarning: Liblinear failed to converge, increase the number of iterations.\n",
      "  \"the number of iterations.\", ConvergenceWarning)\n"
     ]
    },
    {
     "name": "stdout",
     "output_type": "stream",
     "text": [
      "precision=[0.65217391 0.         0.40350877], recall=[0.15789474 0.         0.93243243], f1=[0.25423729 0.         0.56326531], accuracy=0.43\n",
      "[*] predict with rf model\n",
      "precision=[0.640625  1.        0.6984127], recall=[0.86315789 0.15384615 0.59459459], f1=[0.73542601 0.26666667 0.64233577], accuracy=0.67\n",
      "[*] predict with lrbias model\n",
      "precision=[0.67567568 1.         0.62195122], recall=[0.78947368 0.07692308 0.68918919], f1=[0.72815534 0.14285714 0.65384615], accuracy=0.66\n",
      "[*] predict with xgb model\n"
     ]
    },
    {
     "name": "stderr",
     "output_type": "stream",
     "text": [
      "[Parallel(n_jobs=-1)]: Using backend LokyBackend with 20 concurrent workers.\n",
      "[Parallel(n_jobs=-1)]: Done   1 out of   1 | elapsed:    0.1s finished\n"
     ]
    },
    {
     "name": "stdout",
     "output_type": "stream",
     "text": [
      "precision=[0.65322581 0.42857143 0.703125  ], recall=[0.85263158 0.11538462 0.60810811], f1=[0.73972603 0.18181818 0.65217391], accuracy=0.66\n",
      "rec:['Indy500-2015', 1327, 195, '+:74,0:26,-:95', 0.13333333333333333, 0.37948717948717947, 0.4461538461538462, 0.6564102564102564, 0.6512820512820513, 0.4307692307692308, 0.6666666666666666, 0.6564102564102564, 0.6615384615384615]\n",
      "Testset = Indy500-2016\n",
      "[*] predict with currank model\n",
      "precision=[0.         0.12598425 0.        ], recall=[0. 1. 0.], f1=[0.         0.22377622 0.        ], accuracy=0.13\n",
      "[*] predict with avgrank model\n",
      "precision=[0.         0.         0.38582677], recall=[0. 0. 1.], f1=[0.         0.         0.55681818], accuracy=0.39\n",
      "[*] predict with dice model\n",
      "precision=[0.49342105 0.05714286 0.47761194], recall=[0.60483871 0.0625     0.32653061], f1=[0.54347826 0.05970149 0.38787879], accuracy=0.43\n",
      "[*] predict with lr model\n",
      "precision=[0.63414634 0.33333333 0.66666667], recall=[0.83870968 0.09375    0.55102041], f1=[0.72222222 0.14634146 0.60335196], accuracy=0.63\n",
      "[*] predict with lsvc model\n"
     ]
    },
    {
     "name": "stderr",
     "output_type": "stream",
     "text": [
      "/scratch_ssd/hpda/anaconda3/envs/gluonts/lib/python3.6/site-packages/sklearn/metrics/_classification.py:1272: UndefinedMetricWarning: Precision is ill-defined and being set to 0.0 in labels with no predicted samples. Use `zero_division` parameter to control this behavior.\n",
      "  _warn_prf(average, modifier, msg_start, len(result))\n",
      "/scratch_ssd/hpda/anaconda3/envs/gluonts/lib/python3.6/site-packages/sklearn/svm/_base.py:947: ConvergenceWarning: Liblinear failed to converge, increase the number of iterations.\n",
      "  \"the number of iterations.\", ConvergenceWarning)\n"
     ]
    },
    {
     "name": "stdout",
     "output_type": "stream",
     "text": [
      "precision=[0.62068966 0.5        0.72222222], recall=[0.87096774 0.125      0.53061224], f1=[0.72483221 0.2        0.61176471], accuracy=0.65\n",
      "[*] predict with lsvcl2 model\n"
     ]
    },
    {
     "name": "stderr",
     "output_type": "stream",
     "text": [
      "/scratch_ssd/hpda/anaconda3/envs/gluonts/lib/python3.6/site-packages/sklearn/svm/_base.py:947: ConvergenceWarning: Liblinear failed to converge, increase the number of iterations.\n",
      "  \"the number of iterations.\", ConvergenceWarning)\n"
     ]
    },
    {
     "name": "stdout",
     "output_type": "stream",
     "text": [
      "precision=[0.50617284 0.4        0.83333333], recall=[0.99193548 0.0625     0.05102041], f1=[0.67029973 0.10810811 0.09615385], accuracy=0.51\n",
      "[*] predict with rf model\n",
      "precision=[0.64071856 0.5        0.7037037 ], recall=[0.86290323 0.09375    0.58163265], f1=[0.73539519 0.15789474 0.63687151], accuracy=0.66\n",
      "[*] predict with lrbias model\n",
      "precision=[0.63030303 0.4        0.67088608], recall=[0.83870968 0.125      0.54081633], f1=[0.71972318 0.19047619 0.59887006], accuracy=0.63\n",
      "[*] predict with xgb model\n"
     ]
    },
    {
     "name": "stderr",
     "output_type": "stream",
     "text": [
      "[Parallel(n_jobs=-1)]: Using backend LokyBackend with 20 concurrent workers.\n",
      "[Parallel(n_jobs=-1)]: Done   1 out of   1 | elapsed:    0.1s finished\n"
     ]
    },
    {
     "name": "stdout",
     "output_type": "stream",
     "text": [
      "precision=[0.6796875  0.41176471 0.62385321], recall=[0.7016129  0.21875    0.69387755], f1=[0.69047619 0.28571429 0.65700483], accuracy=0.64\n",
      "rec:['Indy500-2016', 1268, 254, '+:98,0:32,-:124', 0.12598425196850394, 0.3858267716535433, 0.42913385826771655, 0.6338582677165354, 0.6456692913385826, 0.5118110236220472, 0.65748031496063, 0.6338582677165354, 0.6377952755905512]\n",
      "Testset = Indy500-2017\n",
      "[*] predict with currank model\n",
      "precision=[0.         0.19758065 0.        ], recall=[0. 1. 0.], f1=[0.         0.32996633 0.        ], accuracy=0.20\n",
      "[*] predict with avgrank model\n",
      "precision=[0.         0.         0.29032258], recall=[0. 0. 1.], f1=[0.   0.   0.45], accuracy=0.29\n",
      "[*] predict with dice model\n",
      "precision=[0.46575342 0.16666667 0.23611111], recall=[0.53543307 0.10204082 0.23611111], f1=[0.4981685  0.12658228 0.23611111], accuracy=0.36\n",
      "[*] predict with lr model\n",
      "precision=[0.76       0.19886364 0.34042553], recall=[0.1496063  0.71428571 0.22222222], f1=[0.25       0.31111111 0.26890756], accuracy=0.28\n",
      "[*] predict with lsvc model\n"
     ]
    },
    {
     "name": "stderr",
     "output_type": "stream",
     "text": [
      "/scratch_ssd/hpda/anaconda3/envs/gluonts/lib/python3.6/site-packages/sklearn/metrics/_classification.py:1272: UndefinedMetricWarning: Precision is ill-defined and being set to 0.0 in labels with no predicted samples. Use `zero_division` parameter to control this behavior.\n",
      "  _warn_prf(average, modifier, msg_start, len(result))\n",
      "/scratch_ssd/hpda/anaconda3/envs/gluonts/lib/python3.6/site-packages/sklearn/svm/_base.py:947: ConvergenceWarning: Liblinear failed to converge, increase the number of iterations.\n",
      "  \"the number of iterations.\", ConvergenceWarning)\n"
     ]
    },
    {
     "name": "stdout",
     "output_type": "stream",
     "text": [
      "precision=[0.75862069 0.20606061 0.42592593], recall=[0.17322835 0.69387755 0.31944444], f1=[0.28205128 0.31775701 0.36507937], accuracy=0.32\n",
      "[*] predict with lsvcl2 model\n"
     ]
    },
    {
     "name": "stderr",
     "output_type": "stream",
     "text": [
      "/scratch_ssd/hpda/anaconda3/envs/gluonts/lib/python3.6/site-packages/sklearn/svm/_base.py:947: ConvergenceWarning: Liblinear failed to converge, increase the number of iterations.\n",
      "  \"the number of iterations.\", ConvergenceWarning)\n"
     ]
    },
    {
     "name": "stdout",
     "output_type": "stream",
     "text": [
      "precision=[1.         0.22047244 0.42105263], recall=[0.05511811 0.57142857 0.66666667], f1=[0.10447761 0.31818182 0.51612903], accuracy=0.33\n",
      "[*] predict with rf model\n",
      "precision=[0.62745098 0.48148148 0.57352941], recall=[0.75590551 0.26530612 0.54166667], f1=[0.68571429 0.34210526 0.55714286], accuracy=0.60\n",
      "[*] predict with lrbias model\n",
      "precision=[0.76       0.2        0.35416667], recall=[0.1496063  0.71428571 0.23611111], f1=[0.25       0.3125     0.28333333], accuracy=0.29\n",
      "[*] predict with xgb model\n"
     ]
    },
    {
     "name": "stderr",
     "output_type": "stream",
     "text": [
      "[Parallel(n_jobs=-1)]: Using backend LokyBackend with 20 concurrent workers.\n",
      "[Parallel(n_jobs=-1)]: Done   1 out of   1 | elapsed:    0.1s finished\n"
     ]
    },
    {
     "name": "stdout",
     "output_type": "stream",
     "text": [
      "precision=[0.73636364 0.43859649 0.54320988], recall=[0.63779528 0.51020408 0.61111111], f1=[0.6835443  0.47169811 0.5751634 ], accuracy=0.60\n",
      "rec:['Indy500-2017', 1274, 248, '+:72,0:49,-:127', 0.1975806451612903, 0.2903225806451613, 0.3629032258064516, 0.28225806451612906, 0.3185483870967742, 0.3346774193548387, 0.5967741935483871, 0.2862903225806452, 0.6048387096774194]\n",
      "Testset = Indy500-2018\n",
      "[*] predict with currank model\n",
      "precision=[0.        0.1005291 0.       ], recall=[0. 1. 0.], f1=[0.         0.18269231 0.        ], accuracy=0.10\n",
      "[*] predict with avgrank model\n",
      "precision=[0.         0.         0.38095238], recall=[0. 0. 1.], f1=[0.         0.         0.55172414], accuracy=0.38\n",
      "[*] predict with dice model\n",
      "precision=[0.47706422 0.12       0.32727273], recall=[0.53061224 0.15789474 0.25      ], f1=[0.50241546 0.13636364 0.28346457], accuracy=0.39\n",
      "[*] predict with lr model\n",
      "precision=[0.64661654 0.125      0.72916667], recall=[0.87755102 0.05263158 0.48611111], f1=[0.74458874 0.07407407 0.58333333], accuracy=0.65\n",
      "[*] predict with lsvc model\n"
     ]
    },
    {
     "name": "stderr",
     "output_type": "stream",
     "text": [
      "/scratch_ssd/hpda/anaconda3/envs/gluonts/lib/python3.6/site-packages/sklearn/metrics/_classification.py:1272: UndefinedMetricWarning: Precision is ill-defined and being set to 0.0 in labels with no predicted samples. Use `zero_division` parameter to control this behavior.\n",
      "  _warn_prf(average, modifier, msg_start, len(result))\n",
      "/scratch_ssd/hpda/anaconda3/envs/gluonts/lib/python3.6/site-packages/sklearn/svm/_base.py:947: ConvergenceWarning: Liblinear failed to converge, increase the number of iterations.\n",
      "  \"the number of iterations.\", ConvergenceWarning)\n"
     ]
    },
    {
     "name": "stdout",
     "output_type": "stream",
     "text": [
      "precision=[0.63888889 0.33333333 0.78571429], recall=[0.93877551 0.05263158 0.45833333], f1=[0.76033058 0.09090909 0.57894737], accuracy=0.67\n",
      "[*] predict with lsvcl2 model\n"
     ]
    },
    {
     "name": "stderr",
     "output_type": "stream",
     "text": [
      "/scratch_ssd/hpda/anaconda3/envs/gluonts/lib/python3.6/site-packages/sklearn/svm/_base.py:947: ConvergenceWarning: Liblinear failed to converge, increase the number of iterations.\n",
      "  \"the number of iterations.\", ConvergenceWarning)\n",
      "/scratch_ssd/hpda/anaconda3/envs/gluonts/lib/python3.6/site-packages/sklearn/metrics/_classification.py:1272: UndefinedMetricWarning: Precision is ill-defined and being set to 0.0 in labels with no predicted samples. Use `zero_division` parameter to control this behavior.\n",
      "  _warn_prf(average, modifier, msg_start, len(result))\n"
     ]
    },
    {
     "name": "stdout",
     "output_type": "stream",
     "text": [
      "precision=[0.68686869 0.         0.57777778], recall=[0.69387755 0.         0.72222222], f1=[0.69035533 0.         0.64197531], accuracy=0.63\n",
      "[*] predict with rf model\n",
      "precision=[0.64492754 0.66666667 0.72916667], recall=[0.90816327 0.10526316 0.48611111], f1=[0.75423729 0.18181818 0.58333333], accuracy=0.67\n",
      "[*] predict with lrbias model\n",
      "precision=[0.65185185 0.125      0.76086957], recall=[0.89795918 0.05263158 0.48611111], f1=[0.75536481 0.07407407 0.59322034], accuracy=0.66\n",
      "[*] predict with xgb model\n"
     ]
    },
    {
     "name": "stderr",
     "output_type": "stream",
     "text": [
      "[Parallel(n_jobs=-1)]: Using backend LokyBackend with 20 concurrent workers.\n",
      "[Parallel(n_jobs=-1)]: Done   1 out of   1 | elapsed:    0.1s finished\n"
     ]
    },
    {
     "name": "stdout",
     "output_type": "stream",
     "text": [
      "precision=[0.66972477 0.4        0.67142857], recall=[0.74489796 0.21052632 0.65277778], f1=[0.70531401 0.27586207 0.66197183], accuracy=0.66\n",
      "rec:['Indy500-2018', 1333, 189, '+:72,0:19,-:98', 0.10052910052910052, 0.38095238095238093, 0.3862433862433862, 0.6455026455026455, 0.6666666666666666, 0.6349206349206349, 0.6666666666666666, 0.656084656084656, 0.656084656084656]\n",
      "Testset = Indy500-2019\n",
      "[*] predict with currank model\n",
      "precision=[0.         0.15277778 0.        ], recall=[0. 1. 0.], f1=[0.         0.26506024 0.        ], accuracy=0.15\n",
      "[*] predict with avgrank model\n",
      "precision=[0.         0.         0.30555556], recall=[0. 0. 1.], f1=[0.         0.         0.46808511], accuracy=0.31\n",
      "[*] predict with dice model\n",
      "precision=[0.59349593 0.33333333 0.34848485], recall=[0.62393162 0.27272727 0.34848485], f1=[0.60833333 0.3        0.34848485], accuracy=0.49\n",
      "[*] predict with lr model\n",
      "precision=[0.66911765 0.5        0.55555556], recall=[0.77777778 0.12121212 0.60606061], f1=[0.71936759 0.19512195 0.57971014], accuracy=0.62\n",
      "[*] predict with lsvc model\n"
     ]
    },
    {
     "name": "stderr",
     "output_type": "stream",
     "text": [
      "/scratch_ssd/hpda/anaconda3/envs/gluonts/lib/python3.6/site-packages/sklearn/metrics/_classification.py:1272: UndefinedMetricWarning: Precision is ill-defined and being set to 0.0 in labels with no predicted samples. Use `zero_division` parameter to control this behavior.\n",
      "  _warn_prf(average, modifier, msg_start, len(result))\n",
      "/scratch_ssd/hpda/anaconda3/envs/gluonts/lib/python3.6/site-packages/sklearn/svm/_base.py:947: ConvergenceWarning: Liblinear failed to converge, increase the number of iterations.\n",
      "  \"the number of iterations.\", ConvergenceWarning)\n"
     ]
    },
    {
     "name": "stdout",
     "output_type": "stream",
     "text": [
      "precision=[0.64179104 0.5        0.525     ], recall=[0.73504274 0.03030303 0.63636364], f1=[0.68525896 0.05714286 0.57534247], accuracy=0.60\n",
      "[*] predict with lsvcl2 model\n"
     ]
    },
    {
     "name": "stderr",
     "output_type": "stream",
     "text": [
      "/scratch_ssd/hpda/anaconda3/envs/gluonts/lib/python3.6/site-packages/sklearn/svm/_base.py:947: ConvergenceWarning: Liblinear failed to converge, increase the number of iterations.\n",
      "  \"the number of iterations.\", ConvergenceWarning)\n"
     ]
    },
    {
     "name": "stdout",
     "output_type": "stream",
     "text": [
      "precision=[0.68831169 0.08333333 0.41732283], recall=[0.45299145 0.03030303 0.8030303 ], f1=[0.54639175 0.04444444 0.5492228 ], accuracy=0.50\n",
      "[*] predict with rf model\n",
      "precision=[0.64705882 0.66666667 0.50549451], recall=[0.65811966 0.12121212 0.6969697 ], f1=[0.65254237 0.20512821 0.58598726], accuracy=0.59\n",
      "[*] predict with lrbias model\n",
      "precision=[0.65441176 0.42857143 0.53424658], recall=[0.76068376 0.09090909 0.59090909], f1=[0.70355731 0.15       0.56115108], accuracy=0.61\n",
      "[*] predict with xgb model\n"
     ]
    },
    {
     "name": "stderr",
     "output_type": "stream",
     "text": [
      "[Parallel(n_jobs=-1)]: Using backend LokyBackend with 20 concurrent workers.\n",
      "[Parallel(n_jobs=-1)]: Done   1 out of   1 | elapsed:    0.1s finished\n"
     ]
    },
    {
     "name": "stdout",
     "output_type": "stream",
     "text": [
      "precision=[0.65       0.46666667 0.59016393], recall=[0.77777778 0.21212121 0.54545455], f1=[0.70817121 0.29166667 0.56692913], accuracy=0.62\n",
      "rec:['Indy500-2019', 1306, 216, '+:66,0:33,-:117', 0.1527777777777778, 0.3055555555555556, 0.4861111111111111, 0.625, 0.5972222222222222, 0.49537037037037035, 0.5879629629629629, 0.6064814814814815, 0.6203703703703703]\n"
     ]
    }
   ],
   "source": [
    "df_event = test_cv()"
   ]
  },
  {
   "cell_type": "code",
   "execution_count": 12,
   "metadata": {},
   "outputs": [
    {
     "data": {
      "text/html": [
       "<div>\n",
       "<style scoped>\n",
       "    .dataframe tbody tr th:only-of-type {\n",
       "        vertical-align: middle;\n",
       "    }\n",
       "\n",
       "    .dataframe tbody tr th {\n",
       "        vertical-align: top;\n",
       "    }\n",
       "\n",
       "    .dataframe thead th {\n",
       "        text-align: right;\n",
       "    }\n",
       "</style>\n",
       "<table border=\"1\" class=\"dataframe\">\n",
       "  <thead>\n",
       "    <tr style=\"text-align: right;\">\n",
       "      <th></th>\n",
       "      <th>runid</th>\n",
       "      <th>trainsize</th>\n",
       "      <th>testsize</th>\n",
       "      <th>testdistribution</th>\n",
       "      <th>currank</th>\n",
       "      <th>avgrank</th>\n",
       "      <th>dice</th>\n",
       "      <th>lr</th>\n",
       "      <th>lsvc</th>\n",
       "      <th>lsvcl2</th>\n",
       "      <th>rf</th>\n",
       "      <th>lrbias</th>\n",
       "      <th>xgb</th>\n",
       "    </tr>\n",
       "  </thead>\n",
       "  <tbody>\n",
       "    <tr>\n",
       "      <th>0</th>\n",
       "      <td>Indy500-2013</td>\n",
       "      <td>1327</td>\n",
       "      <td>195</td>\n",
       "      <td>+:68,0:29,-:98</td>\n",
       "      <td>0.148718</td>\n",
       "      <td>0.348718</td>\n",
       "      <td>0.379487</td>\n",
       "      <td>0.610256</td>\n",
       "      <td>0.620513</td>\n",
       "      <td>0.579487</td>\n",
       "      <td>0.625641</td>\n",
       "      <td>0.615385</td>\n",
       "      <td>0.646154</td>\n",
       "    </tr>\n",
       "    <tr>\n",
       "      <th>0</th>\n",
       "      <td>Indy500-2014</td>\n",
       "      <td>1297</td>\n",
       "      <td>225</td>\n",
       "      <td>+:63,0:43,-:119</td>\n",
       "      <td>0.191111</td>\n",
       "      <td>0.280000</td>\n",
       "      <td>0.400000</td>\n",
       "      <td>0.591111</td>\n",
       "      <td>0.591111</td>\n",
       "      <td>0.502222</td>\n",
       "      <td>0.586667</td>\n",
       "      <td>0.600000</td>\n",
       "      <td>0.586667</td>\n",
       "    </tr>\n",
       "    <tr>\n",
       "      <th>0</th>\n",
       "      <td>Indy500-2015</td>\n",
       "      <td>1327</td>\n",
       "      <td>195</td>\n",
       "      <td>+:74,0:26,-:95</td>\n",
       "      <td>0.133333</td>\n",
       "      <td>0.379487</td>\n",
       "      <td>0.446154</td>\n",
       "      <td>0.656410</td>\n",
       "      <td>0.651282</td>\n",
       "      <td>0.430769</td>\n",
       "      <td>0.666667</td>\n",
       "      <td>0.656410</td>\n",
       "      <td>0.661538</td>\n",
       "    </tr>\n",
       "    <tr>\n",
       "      <th>0</th>\n",
       "      <td>Indy500-2016</td>\n",
       "      <td>1268</td>\n",
       "      <td>254</td>\n",
       "      <td>+:98,0:32,-:124</td>\n",
       "      <td>0.125984</td>\n",
       "      <td>0.385827</td>\n",
       "      <td>0.429134</td>\n",
       "      <td>0.633858</td>\n",
       "      <td>0.645669</td>\n",
       "      <td>0.511811</td>\n",
       "      <td>0.657480</td>\n",
       "      <td>0.633858</td>\n",
       "      <td>0.637795</td>\n",
       "    </tr>\n",
       "    <tr>\n",
       "      <th>0</th>\n",
       "      <td>Indy500-2017</td>\n",
       "      <td>1274</td>\n",
       "      <td>248</td>\n",
       "      <td>+:72,0:49,-:127</td>\n",
       "      <td>0.197581</td>\n",
       "      <td>0.290323</td>\n",
       "      <td>0.362903</td>\n",
       "      <td>0.282258</td>\n",
       "      <td>0.318548</td>\n",
       "      <td>0.334677</td>\n",
       "      <td>0.596774</td>\n",
       "      <td>0.286290</td>\n",
       "      <td>0.604839</td>\n",
       "    </tr>\n",
       "    <tr>\n",
       "      <th>0</th>\n",
       "      <td>Indy500-2018</td>\n",
       "      <td>1333</td>\n",
       "      <td>189</td>\n",
       "      <td>+:72,0:19,-:98</td>\n",
       "      <td>0.100529</td>\n",
       "      <td>0.380952</td>\n",
       "      <td>0.386243</td>\n",
       "      <td>0.645503</td>\n",
       "      <td>0.666667</td>\n",
       "      <td>0.634921</td>\n",
       "      <td>0.666667</td>\n",
       "      <td>0.656085</td>\n",
       "      <td>0.656085</td>\n",
       "    </tr>\n",
       "    <tr>\n",
       "      <th>0</th>\n",
       "      <td>Indy500-2019</td>\n",
       "      <td>1306</td>\n",
       "      <td>216</td>\n",
       "      <td>+:66,0:33,-:117</td>\n",
       "      <td>0.152778</td>\n",
       "      <td>0.305556</td>\n",
       "      <td>0.486111</td>\n",
       "      <td>0.625000</td>\n",
       "      <td>0.597222</td>\n",
       "      <td>0.495370</td>\n",
       "      <td>0.587963</td>\n",
       "      <td>0.606481</td>\n",
       "      <td>0.620370</td>\n",
       "    </tr>\n",
       "  </tbody>\n",
       "</table>\n",
       "</div>"
      ],
      "text/plain": [
       "          runid trainsize testsize testdistribution   currank   avgrank  \\\n",
       "0  Indy500-2013      1327      195   +:68,0:29,-:98  0.148718  0.348718   \n",
       "0  Indy500-2014      1297      225  +:63,0:43,-:119  0.191111  0.280000   \n",
       "0  Indy500-2015      1327      195   +:74,0:26,-:95  0.133333  0.379487   \n",
       "0  Indy500-2016      1268      254  +:98,0:32,-:124  0.125984  0.385827   \n",
       "0  Indy500-2017      1274      248  +:72,0:49,-:127  0.197581  0.290323   \n",
       "0  Indy500-2018      1333      189   +:72,0:19,-:98  0.100529  0.380952   \n",
       "0  Indy500-2019      1306      216  +:66,0:33,-:117  0.152778  0.305556   \n",
       "\n",
       "       dice        lr      lsvc    lsvcl2        rf    lrbias       xgb  \n",
       "0  0.379487  0.610256  0.620513  0.579487  0.625641  0.615385  0.646154  \n",
       "0  0.400000  0.591111  0.591111  0.502222  0.586667  0.600000  0.586667  \n",
       "0  0.446154  0.656410  0.651282  0.430769  0.666667  0.656410  0.661538  \n",
       "0  0.429134  0.633858  0.645669  0.511811  0.657480  0.633858  0.637795  \n",
       "0  0.362903  0.282258  0.318548  0.334677  0.596774  0.286290  0.604839  \n",
       "0  0.386243  0.645503  0.666667  0.634921  0.666667  0.656085  0.656085  \n",
       "0  0.486111  0.625000  0.597222  0.495370  0.587963  0.606481  0.620370  "
      ]
     },
     "execution_count": 12,
     "metadata": {},
     "output_type": "execute_result"
    }
   ],
   "source": [
    "df_event"
   ]
  },
  {
   "cell_type": "code",
   "execution_count": 13,
   "metadata": {},
   "outputs": [
    {
     "name": "stdout",
     "output_type": "stream",
     "text": [
      "cols:['runid', 'trainsize', 'testsize', 'testdistribution', 'currank', 'avgrank', 'dice', 'lr', 'lsvc', 'lsvcl2', 'rf', 'lrbias', 'xgb']\n",
      "Testset = Indy500-2018\n",
      "[*] predict with currank model\n",
      "precision=[0.        0.1005291 0.       ], recall=[0. 1. 0.], f1=[0.         0.18269231 0.        ], accuracy=0.10\n",
      "[*] predict with avgrank model\n",
      "precision=[0.         0.         0.38095238], recall=[0. 0. 1.], f1=[0.         0.         0.55172414], accuracy=0.38\n",
      "[*] predict with dice model\n",
      "precision=[0.47222222 0.12       0.32142857], recall=[0.52040816 0.15789474 0.25      ], f1=[0.49514563 0.13636364 0.28125   ], accuracy=0.38\n",
      "[*] predict with lr model\n",
      "precision=[0.67164179 0.14285714 0.79166667], recall=[0.91836735 0.05263158 0.52777778], f1=[0.77586207 0.07692308 0.63333333], accuracy=0.68\n",
      "[*] predict with lsvc model\n"
     ]
    },
    {
     "name": "stderr",
     "output_type": "stream",
     "text": [
      "/scratch_ssd/hpda/anaconda3/envs/gluonts/lib/python3.6/site-packages/sklearn/metrics/_classification.py:1272: UndefinedMetricWarning: Precision is ill-defined and being set to 0.0 in labels with no predicted samples. Use `zero_division` parameter to control this behavior.\n",
      "  _warn_prf(average, modifier, msg_start, len(result))\n",
      "/scratch_ssd/hpda/anaconda3/envs/gluonts/lib/python3.6/site-packages/sklearn/svm/_base.py:947: ConvergenceWarning: Liblinear failed to converge, increase the number of iterations.\n",
      "  \"the number of iterations.\", ConvergenceWarning)\n",
      "/scratch_ssd/hpda/anaconda3/envs/gluonts/lib/python3.6/site-packages/sklearn/metrics/_classification.py:1272: UndefinedMetricWarning: Precision is ill-defined and being set to 0.0 in labels with no predicted samples. Use `zero_division` parameter to control this behavior.\n",
      "  _warn_prf(average, modifier, msg_start, len(result))\n"
     ]
    },
    {
     "name": "stdout",
     "output_type": "stream",
     "text": [
      "precision=[0.62745098 0.         0.86111111], recall=[0.97959184 0.         0.43055556], f1=[0.76494024 0.         0.57407407], accuracy=0.67\n",
      "[*] predict with lsvcl2 model\n"
     ]
    },
    {
     "name": "stderr",
     "output_type": "stream",
     "text": [
      "/scratch_ssd/hpda/anaconda3/envs/gluonts/lib/python3.6/site-packages/sklearn/svm/_base.py:947: ConvergenceWarning: Liblinear failed to converge, increase the number of iterations.\n",
      "  \"the number of iterations.\", ConvergenceWarning)\n",
      "/scratch_ssd/hpda/anaconda3/envs/gluonts/lib/python3.6/site-packages/sklearn/metrics/_classification.py:1272: UndefinedMetricWarning: Precision is ill-defined and being set to 0.0 in labels with no predicted samples. Use `zero_division` parameter to control this behavior.\n",
      "  _warn_prf(average, modifier, msg_start, len(result))\n"
     ]
    },
    {
     "name": "stdout",
     "output_type": "stream",
     "text": [
      "precision=[0.73529412 0.         0.41935484], recall=[0.25510204 0.         0.90277778], f1=[0.37878788 0.         0.57268722], accuracy=0.48\n",
      "[*] predict with rf model\n",
      "precision=[0.64122137 1.         0.67857143], recall=[0.85714286 0.10526316 0.52777778], f1=[0.73362445 0.19047619 0.59375   ], accuracy=0.66\n",
      "[*] predict with lrbias model\n",
      "precision=[0.67910448 0.14285714 0.8125    ], recall=[0.92857143 0.05263158 0.54166667], f1=[0.78448276 0.07692308 0.65      ], accuracy=0.69\n",
      "[*] predict with xgb model\n"
     ]
    },
    {
     "name": "stderr",
     "output_type": "stream",
     "text": [
      "[Parallel(n_jobs=-1)]: Using backend LokyBackend with 20 concurrent workers.\n",
      "[Parallel(n_jobs=-1)]: Done   1 out of   1 | elapsed:    0.1s finished\n"
     ]
    },
    {
     "name": "stdout",
     "output_type": "stream",
     "text": [
      "precision=[0.67889908 0.375      0.671875  ], recall=[0.75510204 0.31578947 0.59722222], f1=[0.71497585 0.34285714 0.63235294], accuracy=0.65\n",
      "rec:['Indy500-2018', 1117, 189, '+:72,0:19,-:98', 0.10052910052910052, 0.38095238095238093, 0.38095238095238093, 0.6825396825396826, 0.671957671957672, 0.47619047619047616, 0.656084656084656, 0.6931216931216931, 0.6507936507936508]\n",
      "Testset = Indy500-2019\n",
      "[*] predict with currank model\n",
      "precision=[0.         0.15277778 0.        ], recall=[0. 1. 0.], f1=[0.         0.26506024 0.        ], accuracy=0.15\n",
      "[*] predict with avgrank model\n",
      "precision=[0.         0.         0.30555556], recall=[0. 0. 1.], f1=[0.         0.         0.46808511], accuracy=0.31\n",
      "[*] predict with dice model\n",
      "precision=[0.59349593 0.3125     0.3442623 ], recall=[0.62393162 0.3030303  0.31818182], f1=[0.60833333 0.30769231 0.33070866], accuracy=0.48\n",
      "[*] predict with lr model\n",
      "precision=[0.65957447 0.375      0.56716418], recall=[0.79487179 0.09090909 0.57575758], f1=[0.72093023 0.14634146 0.57142857], accuracy=0.62\n",
      "[*] predict with lsvc model\n"
     ]
    },
    {
     "name": "stderr",
     "output_type": "stream",
     "text": [
      "/scratch_ssd/hpda/anaconda3/envs/gluonts/lib/python3.6/site-packages/sklearn/metrics/_classification.py:1272: UndefinedMetricWarning: Precision is ill-defined and being set to 0.0 in labels with no predicted samples. Use `zero_division` parameter to control this behavior.\n",
      "  _warn_prf(average, modifier, msg_start, len(result))\n",
      "/scratch_ssd/hpda/anaconda3/envs/gluonts/lib/python3.6/site-packages/sklearn/svm/_base.py:947: ConvergenceWarning: Liblinear failed to converge, increase the number of iterations.\n",
      "  \"the number of iterations.\", ConvergenceWarning)\n"
     ]
    },
    {
     "name": "stdout",
     "output_type": "stream",
     "text": [
      "precision=[0.63414634 0.5        0.66      ], recall=[0.88888889 0.03030303 0.5       ], f1=[0.74021352 0.05714286 0.56896552], accuracy=0.64\n",
      "[*] predict with lsvcl2 model\n"
     ]
    },
    {
     "name": "stderr",
     "output_type": "stream",
     "text": [
      "/scratch_ssd/hpda/anaconda3/envs/gluonts/lib/python3.6/site-packages/sklearn/svm/_base.py:947: ConvergenceWarning: Liblinear failed to converge, increase the number of iterations.\n",
      "  \"the number of iterations.\", ConvergenceWarning)\n",
      "/scratch_ssd/hpda/anaconda3/envs/gluonts/lib/python3.6/site-packages/sklearn/metrics/_classification.py:1272: UndefinedMetricWarning: Precision is ill-defined and being set to 0.0 in labels with no predicted samples. Use `zero_division` parameter to control this behavior.\n",
      "  _warn_prf(average, modifier, msg_start, len(result))\n"
     ]
    },
    {
     "name": "stdout",
     "output_type": "stream",
     "text": [
      "precision=[0.73529412 0.         0.39864865], recall=[0.42735043 0.         0.89393939], f1=[0.54054054 0.         0.55140187], accuracy=0.50\n",
      "[*] predict with rf model\n",
      "precision=[0.632      0.71428571 0.51190476], recall=[0.67521368 0.15151515 0.65151515], f1=[0.65289256 0.25       0.57333333], accuracy=0.59\n",
      "[*] predict with lrbias model\n",
      "precision=[0.66906475 0.5        0.56521739], recall=[0.79487179 0.12121212 0.59090909], f1=[0.7265625  0.19512195 0.57777778], accuracy=0.63\n",
      "[*] predict with xgb model\n"
     ]
    },
    {
     "name": "stderr",
     "output_type": "stream",
     "text": [
      "[Parallel(n_jobs=-1)]: Using backend LokyBackend with 20 concurrent workers.\n",
      "[Parallel(n_jobs=-1)]: Done   1 out of   1 | elapsed:    0.1s finished\n"
     ]
    },
    {
     "name": "stdout",
     "output_type": "stream",
     "text": [
      "precision=[0.65034965 0.40909091 0.56862745], recall=[0.79487179 0.27272727 0.43939394], f1=[0.71538462 0.32727273 0.4957265 ], accuracy=0.61\n",
      "rec:['Indy500-2019', 1117, 216, '+:66,0:33,-:117', 0.1527777777777778, 0.3055555555555556, 0.48148148148148145, 0.6203703703703703, 0.6388888888888888, 0.5046296296296297, 0.5879629629629629, 0.6296296296296297, 0.6064814814814815]\n"
     ]
    }
   ],
   "source": [
    "retdf = test_20182019()"
   ]
  },
  {
   "cell_type": "code",
   "execution_count": 14,
   "metadata": {},
   "outputs": [
    {
     "data": {
      "text/html": [
       "<div>\n",
       "<style scoped>\n",
       "    .dataframe tbody tr th:only-of-type {\n",
       "        vertical-align: middle;\n",
       "    }\n",
       "\n",
       "    .dataframe tbody tr th {\n",
       "        vertical-align: top;\n",
       "    }\n",
       "\n",
       "    .dataframe thead th {\n",
       "        text-align: right;\n",
       "    }\n",
       "</style>\n",
       "<table border=\"1\" class=\"dataframe\">\n",
       "  <thead>\n",
       "    <tr style=\"text-align: right;\">\n",
       "      <th></th>\n",
       "      <th>runid</th>\n",
       "      <th>trainsize</th>\n",
       "      <th>testsize</th>\n",
       "      <th>testdistribution</th>\n",
       "      <th>currank</th>\n",
       "      <th>avgrank</th>\n",
       "      <th>dice</th>\n",
       "      <th>lr</th>\n",
       "      <th>lsvc</th>\n",
       "      <th>lsvcl2</th>\n",
       "      <th>rf</th>\n",
       "      <th>lrbias</th>\n",
       "      <th>xgb</th>\n",
       "    </tr>\n",
       "  </thead>\n",
       "  <tbody>\n",
       "    <tr>\n",
       "      <th>0</th>\n",
       "      <td>Indy500-2018</td>\n",
       "      <td>1117</td>\n",
       "      <td>189</td>\n",
       "      <td>+:72,0:19,-:98</td>\n",
       "      <td>0.100529</td>\n",
       "      <td>0.380952</td>\n",
       "      <td>0.380952</td>\n",
       "      <td>0.68254</td>\n",
       "      <td>0.671958</td>\n",
       "      <td>0.47619</td>\n",
       "      <td>0.656085</td>\n",
       "      <td>0.693122</td>\n",
       "      <td>0.650794</td>\n",
       "    </tr>\n",
       "    <tr>\n",
       "      <th>0</th>\n",
       "      <td>Indy500-2019</td>\n",
       "      <td>1117</td>\n",
       "      <td>216</td>\n",
       "      <td>+:66,0:33,-:117</td>\n",
       "      <td>0.152778</td>\n",
       "      <td>0.305556</td>\n",
       "      <td>0.481481</td>\n",
       "      <td>0.62037</td>\n",
       "      <td>0.638889</td>\n",
       "      <td>0.50463</td>\n",
       "      <td>0.587963</td>\n",
       "      <td>0.629630</td>\n",
       "      <td>0.606481</td>\n",
       "    </tr>\n",
       "  </tbody>\n",
       "</table>\n",
       "</div>"
      ],
      "text/plain": [
       "          runid trainsize testsize testdistribution   currank   avgrank  \\\n",
       "0  Indy500-2018      1117      189   +:72,0:19,-:98  0.100529  0.380952   \n",
       "0  Indy500-2019      1117      216  +:66,0:33,-:117  0.152778  0.305556   \n",
       "\n",
       "       dice       lr      lsvc   lsvcl2        rf    lrbias       xgb  \n",
       "0  0.380952  0.68254  0.671958  0.47619  0.656085  0.693122  0.650794  \n",
       "0  0.481481  0.62037  0.638889  0.50463  0.587963  0.629630  0.606481  "
      ]
     },
     "execution_count": 14,
     "metadata": {},
     "output_type": "execute_result"
    }
   ],
   "source": [
    "retdf"
   ]
  },
  {
   "cell_type": "code",
   "execution_count": 15,
   "metadata": {},
   "outputs": [
    {
     "data": {
      "text/html": [
       "<div>\n",
       "<style scoped>\n",
       "    .dataframe tbody tr th:only-of-type {\n",
       "        vertical-align: middle;\n",
       "    }\n",
       "\n",
       "    .dataframe tbody tr th {\n",
       "        vertical-align: top;\n",
       "    }\n",
       "\n",
       "    .dataframe thead th {\n",
       "        text-align: right;\n",
       "    }\n",
       "</style>\n",
       "<table border=\"1\" class=\"dataframe\">\n",
       "  <thead>\n",
       "    <tr style=\"text-align: right;\">\n",
       "      <th></th>\n",
       "      <th>runid</th>\n",
       "      <th>trainsize</th>\n",
       "      <th>testsize</th>\n",
       "      <th>testdistribution</th>\n",
       "      <th>currank</th>\n",
       "      <th>avgrank</th>\n",
       "      <th>dice</th>\n",
       "      <th>lr</th>\n",
       "      <th>lsvc</th>\n",
       "      <th>lsvcl2</th>\n",
       "      <th>rf</th>\n",
       "      <th>lrbias</th>\n",
       "      <th>xgb</th>\n",
       "    </tr>\n",
       "  </thead>\n",
       "  <tbody>\n",
       "    <tr>\n",
       "      <th>0</th>\n",
       "      <td>Indy500-2018</td>\n",
       "      <td>1117</td>\n",
       "      <td>189</td>\n",
       "      <td>+:72,0:19,-:98</td>\n",
       "      <td>0.100529</td>\n",
       "      <td>0.380952</td>\n",
       "      <td>0.380952</td>\n",
       "      <td>0.68254</td>\n",
       "      <td>0.671958</td>\n",
       "      <td>0.619048</td>\n",
       "      <td>0.666667</td>\n",
       "      <td>0.693122</td>\n",
       "      <td>0.650794</td>\n",
       "    </tr>\n",
       "    <tr>\n",
       "      <th>0</th>\n",
       "      <td>Indy500-2019</td>\n",
       "      <td>1117</td>\n",
       "      <td>216</td>\n",
       "      <td>+:66,0:33,-:117</td>\n",
       "      <td>0.152778</td>\n",
       "      <td>0.305556</td>\n",
       "      <td>0.481481</td>\n",
       "      <td>0.62037</td>\n",
       "      <td>0.638889</td>\n",
       "      <td>0.537037</td>\n",
       "      <td>0.578704</td>\n",
       "      <td>0.629630</td>\n",
       "      <td>0.606481</td>\n",
       "    </tr>\n",
       "  </tbody>\n",
       "</table>\n",
       "</div>"
      ],
      "text/plain": [
       "          runid trainsize testsize testdistribution   currank   avgrank  \\\n",
       "0  Indy500-2018      1117      189   +:72,0:19,-:98  0.100529  0.380952   \n",
       "0  Indy500-2019      1117      216  +:66,0:33,-:117  0.152778  0.305556   \n",
       "\n",
       "       dice       lr      lsvc    lsvcl2        rf    lrbias       xgb  \n",
       "0  0.380952  0.68254  0.671958  0.619048  0.666667  0.693122  0.650794  \n",
       "0  0.481481  0.62037  0.638889  0.537037  0.578704  0.629630  0.606481  "
      ]
     },
     "execution_count": 15,
     "metadata": {},
     "output_type": "execute_result"
    }
   ],
   "source": [
    "retdf_oracle"
   ]
  },
  {
   "cell_type": "code",
   "execution_count": null,
   "metadata": {},
   "outputs": [],
   "source": []
  }
 ],
 "metadata": {
  "kernelspec": {
   "display_name": "Python 3",
   "language": "python",
   "name": "python3"
  },
  "language_info": {
   "codemirror_mode": {
    "name": "ipython",
    "version": 3
   },
   "file_extension": ".py",
   "mimetype": "text/x-python",
   "name": "python",
   "nbconvert_exporter": "python",
   "pygments_lexer": "ipython3",
   "version": "3.6.10"
  }
 },
 "nbformat": 4,
 "nbformat_minor": 2
}
