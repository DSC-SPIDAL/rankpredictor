{
 "cells": [
  {
   "cell_type": "markdown",
   "metadata": {},
   "source": [
    "### MLP-pitmodel\n",
    "\n",
    "base: 18./ make_pitstop_dataset-nextpit\n",
    "\n",
    "build a pitstop dataset with <cautions_laps, pitage, gap2nextpit>\n",
    "gluonts interface of Dataset = Iterable[DataEntry], DataEntry = Dict(str, any)\n",
    "\n",
    "+ input pitstop dataset, remove pitstops with pit_oncaution = 1, refer to lapstatus_dataset-fastrun\n",
    "+ context_length = 1, prediction_length = 1\n",
    "+ target : gap to nextpit\n",
    "+ covariates are: cautions_laps, pitage, (carid, eid)\n",
    "+ modeling the distribution of nextpit-gap\n"
   ]
  },
  {
   "cell_type": "code",
   "execution_count": 19,
   "metadata": {},
   "outputs": [
    {
     "name": "stdout",
     "output_type": "stream",
     "text": [
      "The autoreload extension is already loaded. To reload it, use:\n",
      "  %reload_ext autoreload\n"
     ]
    }
   ],
   "source": [
    "%load_ext autoreload\n",
    "%autoreload 2\n",
    "\n",
    "%matplotlib inline\n",
    "import pandas as pd\n",
    "import numpy as np\n",
    "import matplotlib.pyplot as plt\n",
    "import os,sys\n",
    "import random\n",
    "import mxnet as mx\n",
    "from mxnet import gluon\n",
    "import pickle\n",
    "import json\n",
    "from gluonts.dataset.common import ListDataset\n",
    "from gluonts.dataset.util import to_pandas\n",
    "from pandas.plotting import register_matplotlib_converters\n",
    "register_matplotlib_converters()\n",
    "\n",
    "import inspect\n",
    "from scipy import stats\n",
    "from pathlib import Path \n",
    "from sklearn.metrics import mean_squared_error, mean_absolute_error, r2_score\n",
    "from gluonts.dataset.util import to_pandas\n",
    "from pathlib import Path\n",
    "from gluonts.trainer import Trainer\n",
    "from gluonts.evaluation.backtest import make_evaluation_predictions\n",
    "from gluonts.evaluation import Evaluator, MultivariateEvaluator\n",
    "from gluonts.model.predictor import Predictor\n",
    "from gluonts.distribution.neg_binomial import NegativeBinomialOutput\n",
    "from gluonts.distribution.student_t import StudentTOutput\n",
    "from gluonts.model.forecast import SampleForecast\n",
    "\n",
    "from indycar.model.mlp import MLPEstimator"
   ]
  },
  {
   "cell_type": "code",
   "execution_count": 2,
   "metadata": {},
   "outputs": [
    {
     "data": {
      "text/plain": [
       "'/scratch_hdd/hpda/indycar/notebook/19.RankNet'"
      ]
     },
     "execution_count": 2,
     "metadata": {},
     "output_type": "execute_result"
    }
   ],
   "source": [
    "import os\n",
    "os.getcwd()"
   ]
  },
  {
   "cell_type": "code",
   "execution_count": 3,
   "metadata": {},
   "outputs": [],
   "source": [
    "\n",
    "def nan_helper(y):\n",
    "    \"\"\"Helper to handle indices and logical indices of NaNs.\n",
    "\n",
    "    Input:\n",
    "        - y, 1d numpy array with possible NaNs\n",
    "    Output:\n",
    "        - nans, logical indices of NaNs\n",
    "        - index, a function, with signature indices= index(logical_indices),\n",
    "          to convert logical indices of NaNs to 'equivalent' indices\n",
    "    Example:\n",
    "        >>> # linear interpolation of NaNs\n",
    "        >>> nans, x= nan_helper(y)\n",
    "        >>> y[nans]= np.interp(x(nans), x(~nans), y[~nans])\n",
    "    \"\"\"\n",
    "\n",
    "    return np.isnan(y), lambda z: z.nonzero()[0]\n",
    "\n",
    "def test_flag(a, bitflag):\n",
    "    return (a & bitflag) ==  bitflag\n",
    "\n",
    "#\n",
    "# remove NaN at the tail\n",
    "# there should be no nans in the middle of the ts\n",
    "COL_LAPTIME=0\n",
    "COL_RANK=1\n",
    "COL_TRACKSTATUS=2\n",
    "COL_LAPSTATUS=3\n",
    "COL_TIMEDIFF=4\n",
    "COL_CAUTION_LAPS_INSTINT=5\n",
    "COL_LAPS_INSTINT= 6\n",
    "COL_ELAPSED_TIME= 7\n",
    "COL_LAP2NEXTPIT = 8\n",
    "\n",
    "\n",
    "MODE_ORACLE = 0\n",
    "MODE_NOLAP = 1\n",
    "MODE_NOTRACK = 2\n",
    "MODE_TESTZERO = 4\n",
    "MODE_TESTCURTRACK = 8\n",
    "#MODE_STR={MODE_ORACLE:'oracle', MODE_NOLAP:'nolap',MODE_NOTRACK:'notrack',MODE_TEST:'test'}\n",
    "\n",
    "def split_ts(rec, carno, eid):\n",
    "    \"\"\"\n",
    "    input: \n",
    "        ts\n",
    "    output:\n",
    "        nextpit records\n",
    "    \"\"\"\n",
    "    output = []\n",
    "    pitstops = np.where(rec[COL_LAPSTATUS,:] == 1)[0]\n",
    "    \n",
    "    if len(pitstops)==0:\n",
    "        print('no pit ts')\n",
    "        return output\n",
    "    \n",
    "    #pit_oncaution = np.zeros_like((pitstops))\n",
    "    #for pit in pitstops:\n",
    "    #    if rec[COL_TRACKSTATUS,:] == 1:\n",
    "    #        pit_oncaution = 1\n",
    "    pit_oncaution = np.zeros_like((rec[COL_LAP2NEXTPIT,:]))\n",
    "    stint_len = np.zeros_like((rec[COL_LAP2NEXTPIT,:]))\n",
    "    pos = 0\n",
    "    for pit in pitstops:\n",
    "        if rec[COL_TRACKSTATUS,pit] == 1:\n",
    "            #next pit is oncaution\n",
    "            # set pos -> pit as oncaution\n",
    "            pit_oncaution[pos:pit] = 1\n",
    "        else:\n",
    "            pit_oncaution[pos:pit] = 0\n",
    "            \n",
    "        stint_len[pos:pit] = pit - pos\n",
    "        pos = pit\n",
    "        \n",
    "            \n",
    "    #prepare output : lap2nextpit, CAUTION_LAPS_INSTINT,LAPS_INSTINT, pit_oncaution, carno, eid, lap, stintlen\n",
    "    totallen = pitstops[-1]\n",
    "    #output = np.zeros((totallen, 6 ))\n",
    "    #for idx in range(totallen):\n",
    "    #    output[idx, 0] = rec[COL_LAP2NEXTPIT ,idx]\n",
    "    #    output[idx, 1] = rec[COL_CAUTION_LAPS_INSTINT ,idx]\n",
    "    #    output[idx, 2] = rec[COL_LAPS_INSTINT ,idx]\n",
    "    #    output[idx, 3] = pit_oncaution[idx]\n",
    "    #    output[idx, 4] = carno\n",
    "    #    output[idx, 5] = eid\n",
    "        \n",
    "    for idx in range(totallen):\n",
    "        output.append([ rec[COL_LAP2NEXTPIT ,idx]\n",
    "                        ,rec[COL_CAUTION_LAPS_INSTINT ,idx]\n",
    "                        ,rec[COL_LAPS_INSTINT ,idx]\n",
    "                        ,pit_oncaution[idx]\n",
    "                        ,carno\n",
    "                        ,eid\n",
    "                        ,idx\n",
    "                        ,stint_len[idx]\n",
    "                      ])\n",
    "        \n",
    "    return output\n",
    "\n",
    "def make_dataset_byevent(test_event = 'Indy500-2018'):\n",
    "    \"\"\"\n",
    "    split the ts to train and test part by the ratio\n",
    "    \n",
    "    oracle_mode: false to simulate prediction in real by \n",
    "        set the covariates of track and lap status as nan in the testset\n",
    "            \n",
    "    \n",
    "    \"\"\"    \n",
    "    useeid = False\n",
    "    run_ts = COL_LAP2NEXTPIT\n",
    "    train_set = []\n",
    "    test_set = []\n",
    "    \n",
    "    #_data: eventid, carids, datalist[carnumbers, features, lapnumber]->[laptime, rank, track, lap]]\n",
    "    for _data in laptime_data:\n",
    "        _train = []\n",
    "        _test = []\n",
    "        \n",
    "        if events[_data[0]] == test_event:\n",
    "            test_mode = True\n",
    "        else:\n",
    "            test_mode = False\n",
    "            \n",
    "        # process for each ts\n",
    "        for rowid in range(_data[2].shape[0]):\n",
    "            # rec[features, lapnumber] -> [laptime, rank, track_status, lap_status,timediff]]\n",
    "            rec = _data[2][rowid].copy()\n",
    "            \n",
    "            #remove nan(only tails)\n",
    "            nans, x= nan_helper(rec[run_ts,:])\n",
    "            nan_count = np.sum(nans)             \n",
    "            rec = rec[:, ~np.isnan(rec[run_ts,:])]\n",
    "            \n",
    "            # remove short ts\n",
    "            totallen = rec.shape[1]\n",
    "            \n",
    "            carno = _data[1][rowid]\n",
    "            carid = global_carids[_data[1][rowid]]\n",
    "            \n",
    "            eid = _data[0]\n",
    "            \n",
    "            # all go to train set\n",
    "            output = split_ts(rec, carno, eid)\n",
    "            #if len(output) == 0:\n",
    "            #    continue\n",
    "            \n",
    "            test_rec_cnt = 0\n",
    "            if not test_mode:\n",
    "                _train.extend(output)\n",
    "                \n",
    "            else:\n",
    "                _test.extend(output)\n",
    "                test_rec_cnt += 1\n",
    "            \n",
    "            #add one ts\n",
    "            print(f'carno:{carno}, totallen:{totallen}, nancount:{nan_count}, test_reccnt:{test_rec_cnt}')\n",
    "\n",
    "        train_set.extend(_train)\n",
    "        test_set.extend(_test)\n",
    "\n",
    "    print(f'train len:{len(train_set)}, test len:{len(test_set)}')\n",
    "    \n",
    "    return train_set, test_set\n",
    "\n",
    "def save_dataset(datafile,freq, prediction_length, cardinality, train_ds, test_ds):\n",
    "    with open(datafile, 'wb') as f:\n",
    "        #pack [global_carids, laptime_data]\n",
    "        savedata = [freq, prediction_length, cardinality, train_ds, test_ds]\n",
    "        #savedata = [freq, train_set, test_set]\n",
    "        # Pickle the 'data' dictionary using the highest protocol available.\n",
    "        pickle.dump(savedata, f, pickle.HIGHEST_PROTOCOL)"
   ]
  },
  {
   "cell_type": "markdown",
   "metadata": {},
   "source": [
    "### create dbs"
   ]
  },
  {
   "cell_type": "code",
   "execution_count": 4,
   "metadata": {},
   "outputs": [],
   "source": [
    "_inlap_status = 0\n",
    "#years = ['2013','2014','2015','2016','2017','2018','2019']\n",
    "years = ['2013','2014','2015','2016','2017','2018','2019']\n",
    "#events = ['Indy500']\n",
    "events = [f'Indy500-{x}' for x in years]\n",
    "events_id={key:idx for idx, key in enumerate(events)}\n",
    "dbid = f'Indy500_{years[0]}_{years[-1]}_v9_p{_inlap_status}'\n",
    "testevent = 'Indy500-2018'\n",
    "# start from here\n",
    "import pickle\n",
    "#with open('laptime_rank_timediff_fulltest-oracle-%s.pickle'%year, 'rb') as f:\n",
    "with open(f'laptime_rank_timediff_pit-oracle-{dbid}.pickle', 'rb') as f:\n",
    "    # The protocol version used is detected automatically, so we do not\n",
    "    # have to specify it.\n",
    "    global_carids, laptime_data = pickle.load(f, encoding='latin1') "
   ]
  },
  {
   "cell_type": "code",
   "execution_count": 5,
   "metadata": {},
   "outputs": [
    {
     "name": "stdout",
     "output_type": "stream",
     "text": [
      "carno:1, totallen:200, nancount:0, test_reccnt:0\n",
      "carno:2, totallen:200, nancount:0, test_reccnt:0\n",
      "carno:3, totallen:200, nancount:0, test_reccnt:0\n",
      "no pit ts\n",
      "carno:4, totallen:0, nancount:200, test_reccnt:0\n",
      "carno:5, totallen:200, nancount:0, test_reccnt:0\n",
      "no pit ts\n",
      "carno:6, totallen:30, nancount:170, test_reccnt:0\n",
      "carno:7, totallen:177, nancount:23, test_reccnt:0\n",
      "carno:8, totallen:200, nancount:0, test_reccnt:0\n",
      "carno:9, totallen:200, nancount:0, test_reccnt:0\n",
      "carno:10, totallen:187, nancount:13, test_reccnt:0\n",
      "carno:11, totallen:200, nancount:0, test_reccnt:0\n",
      "carno:12, totallen:200, nancount:0, test_reccnt:0\n",
      "carno:14, totallen:200, nancount:0, test_reccnt:0\n",
      "carno:15, totallen:170, nancount:30, test_reccnt:0\n",
      "carno:16, totallen:179, nancount:21, test_reccnt:0\n",
      "carno:18, totallen:200, nancount:0, test_reccnt:0\n",
      "carno:19, totallen:200, nancount:0, test_reccnt:0\n",
      "carno:20, totallen:200, nancount:0, test_reccnt:0\n",
      "carno:21, totallen:170, nancount:30, test_reccnt:0\n",
      "carno:22, totallen:200, nancount:0, test_reccnt:0\n",
      "carno:25, totallen:200, nancount:0, test_reccnt:0\n",
      "carno:26, totallen:200, nancount:0, test_reccnt:0\n",
      "carno:27, totallen:191, nancount:9, test_reccnt:0\n",
      "carno:41, totallen:178, nancount:22, test_reccnt:0\n",
      "carno:55, totallen:200, nancount:0, test_reccnt:0\n",
      "carno:60, totallen:168, nancount:32, test_reccnt:0\n",
      "carno:63, totallen:45, nancount:155, test_reccnt:0\n",
      "carno:77, totallen:200, nancount:0, test_reccnt:0\n",
      "carno:78, totallen:200, nancount:0, test_reccnt:0\n",
      "carno:81, totallen:182, nancount:18, test_reccnt:0\n",
      "carno:83, totallen:200, nancount:0, test_reccnt:0\n",
      "carno:91, totallen:43, nancount:157, test_reccnt:0\n",
      "carno:98, totallen:167, nancount:33, test_reccnt:0\n",
      "carno:2, totallen:200, nancount:0, test_reccnt:0\n",
      "carno:3, totallen:200, nancount:0, test_reccnt:0\n",
      "carno:5, totallen:200, nancount:0, test_reccnt:0\n",
      "carno:6, totallen:169, nancount:31, test_reccnt:0\n",
      "carno:7, totallen:189, nancount:11, test_reccnt:0\n",
      "carno:8, totallen:200, nancount:0, test_reccnt:0\n",
      "carno:9, totallen:152, nancount:48, test_reccnt:0\n",
      "carno:10, totallen:175, nancount:25, test_reccnt:0\n",
      "carno:11, totallen:200, nancount:0, test_reccnt:0\n",
      "carno:12, totallen:200, nancount:0, test_reccnt:0\n",
      "carno:14, totallen:200, nancount:0, test_reccnt:0\n",
      "carno:15, totallen:43, nancount:157, test_reccnt:0\n",
      "carno:16, totallen:200, nancount:0, test_reccnt:0\n",
      "carno:17, totallen:200, nancount:0, test_reccnt:0\n",
      "carno:18, totallen:200, nancount:0, test_reccnt:0\n",
      "carno:19, totallen:193, nancount:7, test_reccnt:0\n",
      "carno:20, totallen:169, nancount:31, test_reccnt:0\n",
      "carno:21, totallen:200, nancount:0, test_reccnt:0\n",
      "carno:22, totallen:200, nancount:0, test_reccnt:0\n",
      "carno:25, totallen:200, nancount:0, test_reccnt:0\n",
      "carno:26, totallen:200, nancount:0, test_reccnt:0\n",
      "carno:27, totallen:169, nancount:31, test_reccnt:0\n",
      "carno:28, totallen:200, nancount:0, test_reccnt:0\n",
      "carno:33, totallen:200, nancount:0, test_reccnt:0\n",
      "carno:34, totallen:200, nancount:0, test_reccnt:0\n",
      "carno:41, totallen:187, nancount:13, test_reccnt:0\n",
      "carno:63, totallen:184, nancount:16, test_reccnt:0\n",
      "carno:67, totallen:122, nancount:78, test_reccnt:0\n",
      "carno:68, totallen:200, nancount:0, test_reccnt:0\n",
      "carno:77, totallen:200, nancount:0, test_reccnt:0\n",
      "carno:83, totallen:148, nancount:52, test_reccnt:0\n",
      "carno:91, totallen:86, nancount:114, test_reccnt:0\n",
      "carno:98, totallen:200, nancount:0, test_reccnt:0\n",
      "carno:1, totallen:200, nancount:0, test_reccnt:0\n",
      "carno:2, totallen:200, nancount:0, test_reccnt:0\n",
      "carno:3, totallen:200, nancount:0, test_reccnt:0\n",
      "carno:4, totallen:169, nancount:31, test_reccnt:0\n",
      "carno:5, totallen:200, nancount:0, test_reccnt:0\n",
      "carno:6, totallen:200, nancount:0, test_reccnt:0\n",
      "carno:7, totallen:200, nancount:0, test_reccnt:0\n",
      "no pit ts\n",
      "carno:8, totallen:0, nancount:200, test_reccnt:0\n",
      "carno:9, totallen:200, nancount:0, test_reccnt:0\n",
      "carno:10, totallen:149, nancount:51, test_reccnt:0\n",
      "carno:11, totallen:200, nancount:0, test_reccnt:0\n",
      "carno:14, totallen:200, nancount:0, test_reccnt:0\n",
      "carno:15, totallen:200, nancount:0, test_reccnt:0\n",
      "carno:17, totallen:169, nancount:31, test_reccnt:0\n",
      "carno:18, totallen:115, nancount:85, test_reccnt:0\n",
      "carno:19, totallen:115, nancount:85, test_reccnt:0\n",
      "carno:20, totallen:100, nancount:100, test_reccnt:0\n",
      "carno:21, totallen:200, nancount:0, test_reccnt:0\n",
      "carno:22, totallen:200, nancount:0, test_reccnt:0\n",
      "carno:24, totallen:200, nancount:0, test_reccnt:0\n",
      "carno:25, totallen:197, nancount:3, test_reccnt:0\n",
      "carno:26, totallen:200, nancount:0, test_reccnt:0\n",
      "carno:27, totallen:200, nancount:0, test_reccnt:0\n",
      "carno:28, totallen:200, nancount:0, test_reccnt:0\n",
      "carno:29, totallen:200, nancount:0, test_reccnt:0\n",
      "carno:32, totallen:99, nancount:101, test_reccnt:0\n",
      "carno:41, totallen:169, nancount:31, test_reccnt:0\n",
      "no pit ts\n",
      "carno:43, totallen:0, nancount:200, test_reccnt:0\n",
      "carno:48, totallen:200, nancount:0, test_reccnt:0\n",
      "carno:63, totallen:178, nancount:22, test_reccnt:0\n",
      "carno:83, totallen:200, nancount:0, test_reccnt:0\n",
      "carno:88, totallen:61, nancount:139, test_reccnt:0\n",
      "carno:98, totallen:200, nancount:0, test_reccnt:0\n",
      "carno:2, totallen:47, nancount:153, test_reccnt:0\n",
      "carno:3, totallen:200, nancount:0, test_reccnt:0\n",
      "carno:4, totallen:99, nancount:101, test_reccnt:0\n",
      "carno:5, totallen:200, nancount:0, test_reccnt:0\n",
      "carno:6, totallen:200, nancount:0, test_reccnt:0\n",
      "carno:7, totallen:125, nancount:75, test_reccnt:0\n",
      "carno:8, totallen:200, nancount:0, test_reccnt:0\n",
      "carno:9, totallen:200, nancount:0, test_reccnt:0\n",
      "carno:10, totallen:200, nancount:0, test_reccnt:0\n",
      "carno:11, totallen:200, nancount:0, test_reccnt:0\n",
      "carno:12, totallen:200, nancount:0, test_reccnt:0\n",
      "carno:14, totallen:162, nancount:38, test_reccnt:0\n",
      "carno:15, totallen:200, nancount:0, test_reccnt:0\n",
      "carno:16, totallen:192, nancount:8, test_reccnt:0\n",
      "carno:18, totallen:114, nancount:86, test_reccnt:0\n",
      "carno:19, totallen:193, nancount:7, test_reccnt:0\n",
      "carno:20, totallen:97, nancount:103, test_reccnt:0\n",
      "carno:21, totallen:200, nancount:0, test_reccnt:0\n",
      "carno:22, totallen:193, nancount:7, test_reccnt:0\n",
      "carno:24, totallen:65, nancount:135, test_reccnt:0\n",
      "carno:25, totallen:108, nancount:92, test_reccnt:0\n",
      "carno:26, totallen:200, nancount:0, test_reccnt:0\n",
      "carno:27, totallen:200, nancount:0, test_reccnt:0\n",
      "carno:28, totallen:167, nancount:33, test_reccnt:0\n",
      "carno:29, totallen:179, nancount:21, test_reccnt:0\n",
      "carno:35, totallen:200, nancount:0, test_reccnt:0\n",
      "carno:41, totallen:200, nancount:0, test_reccnt:0\n",
      "carno:42, totallen:200, nancount:0, test_reccnt:0\n",
      "carno:61, totallen:190, nancount:10, test_reccnt:0\n",
      "carno:63, totallen:195, nancount:5, test_reccnt:0\n",
      "carno:77, totallen:200, nancount:0, test_reccnt:0\n",
      "carno:88, totallen:194, nancount:6, test_reccnt:0\n",
      "carno:98, totallen:200, nancount:0, test_reccnt:0\n",
      "carno:1, totallen:200, nancount:0, test_reccnt:0\n",
      "carno:2, totallen:184, nancount:16, test_reccnt:0\n",
      "carno:3, totallen:200, nancount:0, test_reccnt:0\n",
      "carno:4, totallen:56, nancount:144, test_reccnt:0\n",
      "carno:5, totallen:167, nancount:33, test_reccnt:0\n",
      "carno:7, totallen:200, nancount:0, test_reccnt:0\n",
      "carno:8, totallen:200, nancount:0, test_reccnt:0\n",
      "no pit ts\n",
      "carno:9, totallen:28, nancount:172, test_reccnt:0\n",
      "carno:10, totallen:200, nancount:0, test_reccnt:0\n",
      "carno:11, totallen:174, nancount:26, test_reccnt:0\n",
      "carno:12, totallen:167, nancount:33, test_reccnt:0\n",
      "carno:14, totallen:200, nancount:0, test_reccnt:0\n",
      "carno:15, totallen:200, nancount:0, test_reccnt:0\n",
      "carno:16, totallen:167, nancount:33, test_reccnt:0\n",
      "carno:17, totallen:200, nancount:0, test_reccnt:0\n",
      "carno:18, totallen:167, nancount:33, test_reccnt:0\n",
      "carno:19, totallen:200, nancount:0, test_reccnt:0\n",
      "carno:20, totallen:200, nancount:0, test_reccnt:0\n",
      "carno:21, totallen:200, nancount:0, test_reccnt:0\n",
      "carno:22, totallen:200, nancount:0, test_reccnt:0\n",
      "carno:24, totallen:113, nancount:87, test_reccnt:0\n",
      "carno:26, totallen:200, nancount:0, test_reccnt:0\n",
      "carno:27, totallen:200, nancount:0, test_reccnt:0\n",
      "carno:28, totallen:112, nancount:88, test_reccnt:0\n",
      "carno:29, totallen:167, nancount:33, test_reccnt:0\n",
      "carno:40, totallen:133, nancount:67, test_reccnt:0\n",
      "carno:44, totallen:97, nancount:103, test_reccnt:0\n",
      "carno:50, totallen:56, nancount:144, test_reccnt:0\n",
      "carno:63, totallen:186, nancount:14, test_reccnt:0\n",
      "carno:77, totallen:33, nancount:167, test_reccnt:0\n",
      "carno:83, totallen:123, nancount:77, test_reccnt:0\n",
      "carno:88, totallen:200, nancount:0, test_reccnt:0\n",
      "carno:98, totallen:200, nancount:0, test_reccnt:0\n",
      "carno:1, totallen:200, nancount:0, test_reccnt:1\n",
      "carno:3, totallen:145, nancount:55, test_reccnt:1\n",
      "carno:4, totallen:200, nancount:0, test_reccnt:1\n",
      "carno:6, totallen:200, nancount:0, test_reccnt:1\n",
      "carno:7, totallen:184, nancount:16, test_reccnt:1\n",
      "carno:9, totallen:200, nancount:0, test_reccnt:1\n",
      "carno:10, totallen:52, nancount:148, test_reccnt:1\n",
      "carno:12, totallen:200, nancount:0, test_reccnt:1\n",
      "carno:13, totallen:49, nancount:151, test_reccnt:1\n",
      "carno:14, totallen:171, nancount:29, test_reccnt:1\n",
      "carno:15, totallen:200, nancount:0, test_reccnt:1\n",
      "carno:17, totallen:190, nancount:10, test_reccnt:1\n",
      "carno:18, totallen:132, nancount:68, test_reccnt:1\n",
      "carno:19, totallen:196, nancount:4, test_reccnt:1\n",
      "carno:20, totallen:200, nancount:0, test_reccnt:1\n",
      "carno:21, totallen:190, nancount:10, test_reccnt:1\n",
      "carno:22, totallen:200, nancount:0, test_reccnt:1\n",
      "carno:23, totallen:200, nancount:0, test_reccnt:1\n",
      "carno:24, totallen:124, nancount:76, test_reccnt:1\n",
      "carno:25, totallen:200, nancount:0, test_reccnt:1\n",
      "carno:26, totallen:189, nancount:11, test_reccnt:1\n",
      "carno:27, totallen:200, nancount:0, test_reccnt:1\n",
      "carno:28, totallen:200, nancount:0, test_reccnt:1\n",
      "carno:29, totallen:200, nancount:0, test_reccnt:1\n",
      "no pit ts\n",
      "carno:30, totallen:32, nancount:168, test_reccnt:1\n",
      "carno:32, totallen:109, nancount:91, test_reccnt:1\n",
      "carno:33, totallen:45, nancount:155, test_reccnt:1\n",
      "carno:59, totallen:195, nancount:5, test_reccnt:1\n",
      "carno:60, totallen:200, nancount:0, test_reccnt:1\n",
      "carno:64, totallen:200, nancount:0, test_reccnt:1\n",
      "carno:66, totallen:200, nancount:0, test_reccnt:1\n",
      "carno:88, totallen:200, nancount:0, test_reccnt:1\n",
      "carno:98, totallen:200, nancount:0, test_reccnt:1\n",
      "carno:2, totallen:200, nancount:0, test_reccnt:0\n",
      "carno:3, totallen:184, nancount:16, test_reccnt:0\n",
      "carno:4, totallen:200, nancount:0, test_reccnt:0\n",
      "carno:5, totallen:200, nancount:0, test_reccnt:0\n",
      "carno:7, totallen:183, nancount:17, test_reccnt:0\n",
      "carno:9, totallen:200, nancount:0, test_reccnt:0\n",
      "carno:10, totallen:169, nancount:31, test_reccnt:0\n",
      "carno:12, totallen:200, nancount:0, test_reccnt:0\n",
      "carno:14, totallen:200, nancount:0, test_reccnt:0\n",
      "carno:15, totallen:169, nancount:31, test_reccnt:0\n",
      "carno:18, totallen:169, nancount:31, test_reccnt:0\n",
      "carno:19, totallen:200, nancount:0, test_reccnt:0\n",
      "carno:20, totallen:200, nancount:0, test_reccnt:0\n",
      "carno:21, totallen:200, nancount:0, test_reccnt:0\n",
      "carno:22, totallen:200, nancount:0, test_reccnt:0\n",
      "carno:23, totallen:181, nancount:19, test_reccnt:0\n",
      "carno:24, totallen:184, nancount:16, test_reccnt:0\n",
      "carno:25, totallen:200, nancount:0, test_reccnt:0\n",
      "carno:26, totallen:169, nancount:31, test_reccnt:0\n",
      "carno:27, totallen:200, nancount:0, test_reccnt:0\n",
      "carno:28, totallen:200, nancount:0, test_reccnt:0\n",
      "carno:30, totallen:200, nancount:0, test_reccnt:0\n",
      "carno:32, totallen:66, nancount:134, test_reccnt:0\n",
      "carno:33, totallen:200, nancount:0, test_reccnt:0\n",
      "carno:39, totallen:200, nancount:0, test_reccnt:0\n",
      "carno:42, totallen:183, nancount:17, test_reccnt:0\n",
      "carno:48, totallen:184, nancount:16, test_reccnt:0\n",
      "carno:60, totallen:184, nancount:16, test_reccnt:0\n",
      "carno:63, totallen:200, nancount:0, test_reccnt:0\n",
      "carno:77, totallen:184, nancount:16, test_reccnt:0\n",
      "carno:81, totallen:54, nancount:146, test_reccnt:0\n",
      "no pit ts\n",
      "carno:88, totallen:0, nancount:200, test_reccnt:0\n",
      "carno:98, totallen:180, nancount:20, test_reccnt:0\n",
      "train len:30284, test len:4920\n"
     ]
    }
   ],
   "source": [
    "train, test =  make_dataset_byevent(test_event = 'Indy500-2018')\n",
    "#prepare output : lap2nextpit, CAUTION_LAPS_INSTINT,LAPS_INSTINT, pit_oncaution, carno, eid, lap\n",
    "df_train = pd.DataFrame(train,columns=['lap2nextpit', 'caution_laps','pitage', 'pit_oncaution', \n",
    "                 'carno','eid','lap','stint_len'])\n",
    "df_test = pd.DataFrame(test,columns=['lap2nextpit', 'caution_laps','pitage', 'pit_oncaution', \n",
    "                 'carno','eid','lap','stint_len'])\n",
    "\n"
   ]
  },
  {
   "cell_type": "code",
   "execution_count": 6,
   "metadata": {},
   "outputs": [],
   "source": [
    "datafile = f'pitstop_nextpit_dataset-{dbid}-t{testevent}.pickle'\n",
    "with open(datafile, 'wb') as f:\n",
    "    savedata = [df_train, df_test, events, testevent]\n",
    "    pickle.dump(savedata, f, pickle.HIGHEST_PROTOCOL)"
   ]
  },
  {
   "cell_type": "code",
   "execution_count": 7,
   "metadata": {},
   "outputs": [
    {
     "data": {
      "text/html": [
       "<div>\n",
       "<style scoped>\n",
       "    .dataframe tbody tr th:only-of-type {\n",
       "        vertical-align: middle;\n",
       "    }\n",
       "\n",
       "    .dataframe tbody tr th {\n",
       "        vertical-align: top;\n",
       "    }\n",
       "\n",
       "    .dataframe thead th {\n",
       "        text-align: right;\n",
       "    }\n",
       "</style>\n",
       "<table border=\"1\" class=\"dataframe\">\n",
       "  <thead>\n",
       "    <tr style=\"text-align: right;\">\n",
       "      <th></th>\n",
       "      <th>lap2nextpit</th>\n",
       "      <th>caution_laps</th>\n",
       "      <th>pitage</th>\n",
       "      <th>pit_oncaution</th>\n",
       "      <th>carno</th>\n",
       "      <th>eid</th>\n",
       "      <th>lap</th>\n",
       "      <th>stint_len</th>\n",
       "    </tr>\n",
       "  </thead>\n",
       "  <tbody>\n",
       "    <tr>\n",
       "      <th>0</th>\n",
       "      <td>30.0</td>\n",
       "      <td>0.0</td>\n",
       "      <td>1.0</td>\n",
       "      <td>0.0</td>\n",
       "      <td>1</td>\n",
       "      <td>0</td>\n",
       "      <td>0</td>\n",
       "      <td>30.0</td>\n",
       "    </tr>\n",
       "    <tr>\n",
       "      <th>1</th>\n",
       "      <td>29.0</td>\n",
       "      <td>0.0</td>\n",
       "      <td>2.0</td>\n",
       "      <td>0.0</td>\n",
       "      <td>1</td>\n",
       "      <td>0</td>\n",
       "      <td>1</td>\n",
       "      <td>30.0</td>\n",
       "    </tr>\n",
       "    <tr>\n",
       "      <th>2</th>\n",
       "      <td>28.0</td>\n",
       "      <td>0.0</td>\n",
       "      <td>3.0</td>\n",
       "      <td>0.0</td>\n",
       "      <td>1</td>\n",
       "      <td>0</td>\n",
       "      <td>2</td>\n",
       "      <td>30.0</td>\n",
       "    </tr>\n",
       "    <tr>\n",
       "      <th>3</th>\n",
       "      <td>27.0</td>\n",
       "      <td>1.0</td>\n",
       "      <td>4.0</td>\n",
       "      <td>0.0</td>\n",
       "      <td>1</td>\n",
       "      <td>0</td>\n",
       "      <td>3</td>\n",
       "      <td>30.0</td>\n",
       "    </tr>\n",
       "    <tr>\n",
       "      <th>4</th>\n",
       "      <td>26.0</td>\n",
       "      <td>2.0</td>\n",
       "      <td>5.0</td>\n",
       "      <td>0.0</td>\n",
       "      <td>1</td>\n",
       "      <td>0</td>\n",
       "      <td>4</td>\n",
       "      <td>30.0</td>\n",
       "    </tr>\n",
       "    <tr>\n",
       "      <th>...</th>\n",
       "      <td>...</td>\n",
       "      <td>...</td>\n",
       "      <td>...</td>\n",
       "      <td>...</td>\n",
       "      <td>...</td>\n",
       "      <td>...</td>\n",
       "      <td>...</td>\n",
       "      <td>...</td>\n",
       "    </tr>\n",
       "    <tr>\n",
       "      <th>30279</th>\n",
       "      <td>2.0</td>\n",
       "      <td>0.0</td>\n",
       "      <td>0.0</td>\n",
       "      <td>1.0</td>\n",
       "      <td>98</td>\n",
       "      <td>6</td>\n",
       "      <td>174</td>\n",
       "      <td>2.0</td>\n",
       "    </tr>\n",
       "    <tr>\n",
       "      <th>30280</th>\n",
       "      <td>1.0</td>\n",
       "      <td>1.0</td>\n",
       "      <td>1.0</td>\n",
       "      <td>1.0</td>\n",
       "      <td>98</td>\n",
       "      <td>6</td>\n",
       "      <td>175</td>\n",
       "      <td>2.0</td>\n",
       "    </tr>\n",
       "    <tr>\n",
       "      <th>30281</th>\n",
       "      <td>2.0</td>\n",
       "      <td>0.0</td>\n",
       "      <td>0.0</td>\n",
       "      <td>1.0</td>\n",
       "      <td>98</td>\n",
       "      <td>6</td>\n",
       "      <td>176</td>\n",
       "      <td>2.0</td>\n",
       "    </tr>\n",
       "    <tr>\n",
       "      <th>30282</th>\n",
       "      <td>1.0</td>\n",
       "      <td>1.0</td>\n",
       "      <td>1.0</td>\n",
       "      <td>1.0</td>\n",
       "      <td>98</td>\n",
       "      <td>6</td>\n",
       "      <td>177</td>\n",
       "      <td>2.0</td>\n",
       "    </tr>\n",
       "    <tr>\n",
       "      <th>30283</th>\n",
       "      <td>1.0</td>\n",
       "      <td>0.0</td>\n",
       "      <td>0.0</td>\n",
       "      <td>1.0</td>\n",
       "      <td>98</td>\n",
       "      <td>6</td>\n",
       "      <td>178</td>\n",
       "      <td>1.0</td>\n",
       "    </tr>\n",
       "  </tbody>\n",
       "</table>\n",
       "<p>30284 rows × 8 columns</p>\n",
       "</div>"
      ],
      "text/plain": [
       "       lap2nextpit  caution_laps  pitage  pit_oncaution  carno  eid  lap  \\\n",
       "0             30.0           0.0     1.0            0.0      1    0    0   \n",
       "1             29.0           0.0     2.0            0.0      1    0    1   \n",
       "2             28.0           0.0     3.0            0.0      1    0    2   \n",
       "3             27.0           1.0     4.0            0.0      1    0    3   \n",
       "4             26.0           2.0     5.0            0.0      1    0    4   \n",
       "...            ...           ...     ...            ...    ...  ...  ...   \n",
       "30279          2.0           0.0     0.0            1.0     98    6  174   \n",
       "30280          1.0           1.0     1.0            1.0     98    6  175   \n",
       "30281          2.0           0.0     0.0            1.0     98    6  176   \n",
       "30282          1.0           1.0     1.0            1.0     98    6  177   \n",
       "30283          1.0           0.0     0.0            1.0     98    6  178   \n",
       "\n",
       "       stint_len  \n",
       "0           30.0  \n",
       "1           30.0  \n",
       "2           30.0  \n",
       "3           30.0  \n",
       "4           30.0  \n",
       "...          ...  \n",
       "30279        2.0  \n",
       "30280        2.0  \n",
       "30281        2.0  \n",
       "30282        2.0  \n",
       "30283        1.0  \n",
       "\n",
       "[30284 rows x 8 columns]"
      ]
     },
     "execution_count": 7,
     "metadata": {},
     "output_type": "execute_result"
    }
   ],
   "source": [
    "df_train"
   ]
  },
  {
   "cell_type": "code",
   "execution_count": 8,
   "metadata": {},
   "outputs": [],
   "source": [
    "#make gluonts\n",
    "from sklearn.preprocessing import StandardScaler,MinMaxScaler\n",
    "\n",
    "def makedb(data, scaler='standard', perm = True):\n",
    "    db = []\n",
    "    start = pd.Timestamp(\"01-01-2019\", freq='1min')  # can be different for each time series\n",
    "    \n",
    "    scalers = {'minmax':MinMaxScaler(), 'standard':StandardScaler()}\n",
    "    \n",
    "    if isinstance(scaler, str):\n",
    "        if scaler in scalers:\n",
    "            scaler = scalers[scaler]\n",
    "            scaler.fit(data)\n",
    "            df = scaler.transform(data)\n",
    "        else:\n",
    "            # no scaler\n",
    "            df = data\n",
    "    else:\n",
    "        #use input scaler\n",
    "        #scaler.fit(data)\n",
    "        df = scaler.transform(data)\n",
    "        \n",
    "    \n",
    "    #permute\n",
    "    if perm:\n",
    "        perm = np.random.permutation(len(df))\n",
    "        df = df[perm]\n",
    "    \n",
    "    for x in df:\n",
    "        \n",
    "        #db.append({'target':np.array(x[0]), 'feat':[np.array(x[1]),np.array(x[2])]})\n",
    "        db.append({'target':np.array([x[0]]), 'feat':np.array([x[1],x[2]]),\n",
    "                  \"start\":start, 'forecast_start':start})\n",
    "        #db.append({'target':np.array(x[0]).reshape((1,-1)), 'feat':[np.array(x[1]).reshape((1,-1)),np.array(x[2]).reshape((1,-1))]})\n",
    "        \n",
    "    return db, scaler, df\n"
   ]
  },
  {
   "cell_type": "code",
   "execution_count": 9,
   "metadata": {},
   "outputs": [],
   "source": [
    "def make_fulltestdb(scaler, maxgap=60):\n",
    "    db = []\n",
    "    start = pd.Timestamp(\"01-01-2019\", freq='1min')  # can be different for each time series\n",
    "\n",
    "    data = []\n",
    "    for caution_lap in range(maxgap):\n",
    "        for pitage in range(caution_lap, maxgap):\n",
    "            data.append([0.,caution_lap, pitage ])\n",
    "    data = np.array(data)\n",
    "    \n",
    "    if not isinstance(scaler, str):\n",
    "        df = scaler.transform(data)\n",
    "    else:\n",
    "        df = data\n",
    "    \n",
    "    #data\n",
    "    print(f'make full testdb: {len(df)} records')\n",
    "    for x in df:\n",
    "        db.append({'target':np.array([x[0]]), 'feat':np.array([x[1],x[2]]),\n",
    "                  \"start\":start, 'forecast_start':start})\n",
    "            \n",
    "    return db, scaler, df, data"
   ]
  },
  {
   "cell_type": "code",
   "execution_count": 10,
   "metadata": {},
   "outputs": [
    {
     "name": "stdout",
     "output_type": "stream",
     "text": [
      "24973 13976\n"
     ]
    }
   ],
   "source": [
    "train_sel = df_train[(df_train['pit_oncaution']==0) &(df_train['stint_len']>23)]\n",
    "train_sel_2013_2017 = train_sel[train_sel['eid']<5]\n",
    "train_all_2013_2017 = df_train[df_train['eid']<5]\n",
    "\n",
    "print(len(train_all_2013_2017), len(train_sel_2013_2017))    \n",
    "\n",
    "test_sel = df_test[(df_test['pit_oncaution']==0) &(df_test['stint_len']>23)]\n",
    "test_all = df_test\n",
    "\n",
    "#test_all = df_test[(df_test['stint_len']>23)]\n",
    "#datafile = f'pitstop_nextpit_dataset-{dbid}-t{testevent}-sel.pickle'\n",
    "#with open(datafile, 'wb') as f:\n",
    "#    savedata = [train_sel, test_sel, events, testevent]\n",
    "#    pickle.dump(savedata, f, pickle.HIGHEST_PROTOCOL)\n",
    "#    \n",
    "#print(len(train_sel), len(test_sel))    "
   ]
  },
  {
   "cell_type": "code",
   "execution_count": 11,
   "metadata": {},
   "outputs": [],
   "source": [
    "_data = {}\n",
    "#model store\n",
    "p, t, s, e = {}, {} ,{}, {}\n",
    "\n",
    "# negbin, use no sclaer\n",
    "#train_ds, scaler = makedb(train_sel[['lap2nextpit','caution_laps','pitage']].values, scaler='')\n",
    "#train_ds, scaler = makedb(train_sel[['lap2nextpit','caution_laps','pitage']].values, scaler='minmax')\n",
    "train_ds, scaler, train_set = makedb(train_sel[['lap2nextpit','caution_laps','pitage']].values, scaler='standard')\n",
    "test_ds, _, test_set = makedb(test_sel[['lap2nextpit','caution_laps','pitage']].values, scaler, perm=False)\n",
    "\n",
    "# selected db\n",
    "trainset = train_sel_2013_2017[['lap2nextpit','caution_laps','pitage']].values\n",
    "testset = test_sel[['lap2nextpit','caution_laps','pitage']].values\n",
    "train_ds, scaler, _ = makedb(trainset, scaler='standard')\n",
    "test_ds, _, _ = makedb(testset, scaler, perm=False)\n",
    "\n",
    "_data['sel'] = [trainset, testset, train_ds, test_ds, scaler]\n",
    "\n",
    "\n",
    "# selected db\n",
    "trainset = train_all_2013_2017[['lap2nextpit','caution_laps','pitage']].values\n",
    "testset = test_all[['lap2nextpit','caution_laps','pitage']].values\n",
    "train_ds, scaler, _ = makedb(trainset, scaler='standard')\n",
    "test_ds, _, _ = makedb(testset, scaler, perm=False)\n",
    "\n",
    "_data['all'] = [trainset, testset, train_ds, test_ds, scaler]\n"
   ]
  },
  {
   "cell_type": "markdown",
   "metadata": {},
   "source": [
    "### train"
   ]
  },
  {
   "cell_type": "code",
   "execution_count": 12,
   "metadata": {},
   "outputs": [],
   "source": [
    "def train_model(epochs, layers=[10,10,5], output = 'student', dropout = .5, id='all'):\n",
    "    distr_outputs ={'student':StudentTOutput(),  \n",
    "                    'negbin':NegativeBinomialOutput() \n",
    "                   }\n",
    "    if not output in distr_outputs:\n",
    "        print(f'distr_output: {output} not found error.')\n",
    "        return\n",
    "    \n",
    "    distr_output = distr_outputs[output]\n",
    "    \n",
    "    modelid = 'mlp-d%s-e%s-l%s-%s-d%s'%(id, epochs, '-'.join([str(x) for x in layers]), output, dropout)\n",
    "    \n",
    "    estimator = MLPEstimator(\n",
    "        num_hidden_dimensions=layers,\n",
    "        prediction_length=1,\n",
    "        context_length=1,\n",
    "        freq='1min',\n",
    "        dropout = dropout,\n",
    "        distr_output = distr_output,\n",
    "        trainer=Trainer(ctx=\"gpu(0)\", \n",
    "                        batch_size = 32,\n",
    "                        epochs= epochs,\n",
    "                        learning_rate=1e-3,\n",
    "                        hybridize=False,\n",
    "                        num_batches_per_epoch=100\n",
    "                       )\n",
    "    )    \n",
    "\n",
    "    predictor = estimator.train(train_ds)\n",
    "\n",
    "    return predictor, modelid"
   ]
  },
  {
   "cell_type": "code",
   "execution_count": 17,
   "metadata": {},
   "outputs": [],
   "source": [
    "def eval_model(predictor, test_ds):\n",
    "    forecast_it, ts_it = make_evaluation_predictions(\n",
    "        dataset=test_ds,  # test dataset    \n",
    "        predictor=predictor,  # predictor                                  \n",
    "        num_samples=100,  # number of sample paths we want for evaluation \n",
    "    )\n",
    "\n",
    "    forecasts = list(forecast_it)\n",
    "    tss = list(ts_it)     \n",
    "    evaluator = Evaluator(quantiles=[0.1, 0.5, 0.9]) \n",
    "    agg_metrics, item_metrics = evaluator(iter(tss), iter(forecasts), num_series=len(test_ds))\n",
    "    print(json.dumps(agg_metrics, indent=4)) \n",
    "    return tss, forecasts, agg_metrics\n",
    "\n",
    "\n",
    "def raw_eval(tss, forecasts):\n",
    "    \"\"\"\n",
    "    scaler\n",
    "    \"\"\"\n",
    "    rec = np.zeros((3))\n",
    "\n",
    "    truth, pred = [],[]\n",
    "    #go through the dataset\n",
    "    for idx in range(len(tss)):\n",
    "        rec[0] = list(tss[idx].values)[0]\n",
    "    \n",
    "        if isinstance(scaler, str):\n",
    "            truth.append(int(rec[0]))\n",
    "        else:\n",
    "            truth.append(int(scaler.inverse_transform(rec)[0]))\n",
    "    \n",
    "        rec[0] = np.mean(forecasts[idx].samples)\n",
    "        \n",
    "        if isinstance(scaler, str):\n",
    "            pred.append(int(rec[0]))    \n",
    "        else:\n",
    "            pred.append(int(scaler.inverse_transform(rec)[0]))        \n",
    "\n",
    "    #get mae\n",
    "    mae = mean_absolute_error(truth, pred)\n",
    "    print('mae = ', mae)\n",
    "    return mae\n",
    "    \n",
    "\n",
    "def save_model(predictor, outdir):\n",
    "    if not os.path.exists(outdir):\n",
    "        os.mkdir(outdir)\n",
    "    \n",
    "    predictor.serialize(Path(outdir)) \n",
    "\n",
    "def get_pred(tss, forecasts, idx,raw_forecast = False):\n",
    "    rec = np.zeros((3))\n",
    "    rec[0] = list(tss[idx].values)[0]\n",
    "    \n",
    "    if isinstance(scaler, str):\n",
    "        truth = int(rec[0])\n",
    "    else:\n",
    "        truth = int(scaler.inverse_transform(rec)[0])\n",
    "    \n",
    "    ret = []\n",
    "    for sample in forecasts[idx].samples:\n",
    "        rec[0] = sample\n",
    "        if isinstance(scaler, str) or raw_forecast:\n",
    "            ret.append(int(rec[0]))    \n",
    "        else:\n",
    "            ret.append(int(scaler.inverse_transform(rec)[0]))    \n",
    "        \n",
    "    print('idx:', idx, 't:', truth, 'p:', int(np.mean(ret)))\n",
    "    plt.hist(ret, bins=range(min(ret),max(ret)+1), alpha=0.7, label='%s'%idx)\n",
    "    return truth, ret\n",
    "\n",
    "def run_test(tss, forecasts, testlist, raw_forecast = False):\n",
    "    for idx in testlist:\n",
    "        get_pred(tss, forecasts, idx, raw_forecast)\n",
    "    plt.legend()"
   ]
  },
  {
   "cell_type": "code",
   "execution_count": 14,
   "metadata": {},
   "outputs": [],
   "source": [
    "### pitmodel\n",
    "class PitModel():\n",
    "    \"\"\"\n",
    "     <caution_lap, pitage> -> [distribution]    \n",
    "     distribution := sorted cdf [val:probability, val2:p2, ...]\n",
    "         [0,:] -> val\n",
    "         [1,:] -> cdf p\n",
    "         \n",
    "     no scaler, raw feat and target\n",
    "    \n",
    "    \"\"\"\n",
    "    def __init__(self, modelfile=''):\n",
    "        self.model = {}\n",
    "        self.name = ''\n",
    "        \n",
    "        if modelfile:\n",
    "            self.load_model(modelfile)\n",
    "                \n",
    "    def load_model(self, modelfile):\n",
    "        with open(modelfile, 'rb') as f:\n",
    "            self.name, self.model = pickle.load(f, encoding='latin1')\n",
    "            print(f'init model:{self.name}')\n",
    "        \n",
    "    def save_model(self, modelname, test_ds, forecasts, scaler):\n",
    "        \n",
    "        model = {}\n",
    "        \n",
    "        #get the sclaer for the first column(lap2nextpit)\n",
    "        sc, scf = '', ''\n",
    "        if isinstance(scaler, StandardScaler):\n",
    "            sc = StandardScaler()\n",
    "            sc.scale_ = scaler.scale_[0]\n",
    "            sc.mean_ = scaler.mean_[0]\n",
    "            sc.var_ = scaler.var_[0]\n",
    "\n",
    "            scf = StandardScaler()\n",
    "            scf.scale_ = scaler.scale_[1:]\n",
    "            scf.mean_ = scaler.mean_[1:]\n",
    "            scf.var_ = scaler.var_[1:]\n",
    "\n",
    "        \n",
    "        for idx, rec in enumerate(test_ds):\n",
    "            feat = rec[1:]\n",
    "                \n",
    "            key = '-'.join([str(int(x)) for x in feat])\n",
    "            \n",
    "            if not key in model:\n",
    "            \n",
    "                samples = forecasts[idx].samples.reshape(-1)\n",
    "                \n",
    "                if not isinstance(sc, str):\n",
    "                    samples = sc.inverse_transform(samples)\n",
    "                \n",
    "                #force to prediction to be valid lap2nextpit\n",
    "                samples = samples.astype(int)\n",
    "                samples = samples[samples > 0]\n",
    "\n",
    "                #\n",
    "                valset = set(list(samples))\n",
    "                plen = len(valset)\n",
    "                distr = np.zeros((2, plen))\n",
    "                distr[0, :] = sorted(valset)\n",
    "                smap = {val:id for id, val in enumerate(distr[0, :])}\n",
    "                for s in samples:\n",
    "                    distr[1,smap[s]] += 1\n",
    "                tsum = np.sum(distr[1,:])\n",
    "                distr[1, :] /= tsum\n",
    "                distr[1, :] = np.cumsum(distr[1, :])\n",
    "\n",
    "                model[key] = distr\n",
    "                \n",
    "        #save model\n",
    "        self.model = model\n",
    "        self.name = modelname\n",
    "        with open(modelname, 'wb') as f:\n",
    "            savedata = [self.name, self.model]\n",
    "            pickle.dump(savedata, f, pickle.HIGHEST_PROTOCOL)        \n",
    "        print(f'save model {modelname} with {len(self.model)} keys.')\n",
    "                \n",
    "    def predict(self, *args):\n",
    "        key = '-'.join([str(int(x)) for x in args])\n",
    "        #if key in self.model:\n",
    "        try:\n",
    "            distr = self.model[key]\n",
    "            \n",
    "            #[0, 1.)\n",
    "            p = np.random.random()  \n",
    "            i = np.sum(distr[1,:] < p)\n",
    "            \n",
    "            return distr[0,i]\n",
    "        except:\n",
    "            #exception\n",
    "            #todo, backto special model\n",
    "            print(f'ERROR: key {key} not found in model')\n",
    "                       \n",
    "    def forecast_ds(self, test_ds, forecasts):\n",
    "        \"\"\"\n",
    "        test_ds as testset, the unsclaed input\n",
    "        forecasts ; the template\n",
    "        \"\"\"\n",
    "        \n",
    "        plen = len(test_ds)\n",
    "        sample_cnt = forecasts[0].samples.shape[0]\n",
    "        assert(plen == len(forecasts))\n",
    "        \n",
    "\n",
    "        #build a new forecasts object\n",
    "        nf = []\n",
    "        for fc in forecasts:\n",
    "            nfc = SampleForecast(samples = np.zeros_like(fc.samples), \n",
    "                                 freq=fc.freq, start_date=fc.start_date)\n",
    "            nf.append(nfc)\n",
    "        \n",
    "        for idx, rec in enumerate(test_ds):\n",
    "            feat = rec[1:]\n",
    "                    \n",
    "            onecast = np.zeros((sample_cnt))\n",
    "            for i in range(sample_cnt):\n",
    "                onecast[i] = self.predict(feat[0], feat[[1]])\n",
    "        \n",
    "            nf[idx].samples = onecast\n",
    "\n",
    "        return nf\n",
    "    \n",
    "\n",
    "def save_full_pitmodel(mid, runid, maxgap=60):\n",
    "    \"\"\"\n",
    "    input:\n",
    "        p[mid]; predictor\n",
    "        runid ; 'all' or 'sel' of the trainning set\n",
    "    \"\"\"\n",
    "    \n",
    "    #get scaler\n",
    "    scaler = _data[runid][4]\n",
    "\n",
    "    # make full test set\n",
    "    test_ds, _, _, test_all = make_fulltestdb(scaler, maxgap = maxgap)\n",
    "\n",
    "    tss,forecasts, _ = eval_model(p[mid], test_ds)\n",
    "\n",
    "    pitmodel = PitModel()\n",
    "\n",
    "    pitmodel.save_model(f'pitmodel-m{maxgap}-{mid}.pickle', test_all, forecasts, scaler)\n"
   ]
  },
  {
   "cell_type": "markdown",
   "metadata": {},
   "source": [
    "### best model output"
   ]
  },
  {
   "cell_type": "code",
   "execution_count": 15,
   "metadata": {},
   "outputs": [],
   "source": [
    "trainset, testset, train_ds, test_ds, scaler = _data['all']"
   ]
  },
  {
   "cell_type": "code",
   "execution_count": 20,
   "metadata": {},
   "outputs": [
    {
     "name": "stdout",
     "output_type": "stream",
     "text": [
      "mae =  7.2231707317073175\n",
      "idx: 31 t: 18 p: 24\n",
      "idx: 816 t: 20 p: 11\n",
      "idx: 846 t: 21 p: 17\n",
      "idx: 856 t: 11 p: 9\n"
     ]
    },
    {
     "data": {
      "image/png": "[encoded data removed]",
      "text/plain": [
       "<Figure size 432x288 with 1 Axes>"
      ]
     },
     "metadata": {
      "needs_background": "light"
     },
     "output_type": "display_data"
    }
   ],
   "source": [
    "pm, mid = train_model(500,dropout = 0.1)\n",
    "t[mid],s[mid], e[mid] = eval_model(pm, test_ds)\n",
    "p[mid] = pm\n",
    "\n",
    "mae = raw_eval(t[mid],s[mid])\n",
    "\n",
    "run_test(t[mid], s[mid], [31,816,846,856])"
   ]
  },
  {
   "cell_type": "code",
   "execution_count": 21,
   "metadata": {},
   "outputs": [
    {
     "name": "stdout",
     "output_type": "stream",
     "text": [
      "idx: 31 t: 18 p: 24\n",
      "idx: 816 t: 20 p: 11\n",
      "idx: 846 t: 21 p: 17\n",
      "idx: 856 t: 11 p: 9\n"
     ]
    },
    {
     "data": {
      "image/png": "[encoded data removed]",
      "text/plain": [
       "<Figure size 432x288 with 1 Axes>"
      ]
     },
     "metadata": {
      "needs_background": "light"
     },
     "output_type": "display_data"
    }
   ],
   "source": [
    "run_test(t[mid], s[mid], [31,816,846,856])"
   ]
  },
  {
   "cell_type": "code",
   "execution_count": 26,
   "metadata": {},
   "outputs": [
    {
     "name": "stdout",
     "output_type": "stream",
     "text": [
      "make full testdb: 1830 records\n"
     ]
    },
    {
     "name": "stderr",
     "output_type": "stream",
     "text": [
      "Running evaluation: 100%|██████████| 1830/1830 [00:10<00:00, 170.78it/s]\n"
     ]
    },
    {
     "name": "stdout",
     "output_type": "stream",
     "text": [
      "{\n",
      "    \"MSE\": 0.7731969228788884,\n",
      "    \"abs_error\": 1333.656721007439,\n",
      "    \"abs_target_sum\": 2966.1651649956075,\n",
      "    \"abs_target_mean\": 1.6208552814183648,\n",
      "    \"seasonal_error\": NaN,\n",
      "    \"MASE\": NaN,\n",
      "    \"sMAPE\": 0.6198420666028964,\n",
      "    \"MSIS\": NaN,\n",
      "    \"QuantileLoss[0.1]\": 546.8604449627725,\n",
      "    \"Coverage[0.1]\": 0.44808743169398907,\n",
      "    \"QuantileLoss[0.5]\": 1333.656721007439,\n",
      "    \"Coverage[0.5]\": 0.7524590163934426,\n",
      "    \"QuantileLoss[0.9]\": 760.8667135679584,\n",
      "    \"Coverage[0.9]\": 0.7912568306010929,\n",
      "    \"RMSE\": 0.8793161677570182,\n",
      "    \"NRMSE\": 0.5425013434805563,\n",
      "    \"ND\": 0.44962321611292133,\n",
      "    \"wQuantileLoss[0.1]\": 0.1843661477170582,\n",
      "    \"wQuantileLoss[0.5]\": 0.44962321611292133,\n",
      "    \"wQuantileLoss[0.9]\": 0.256515288678837,\n",
      "    \"mean_wQuantileLoss\": 0.2968348841696055,\n",
      "    \"MAE_Coverage\": 0.23642987249544625\n",
      "}\n",
      "save model pitmodel-m60-mlp-dall-e500-l10-10-5-student-d0.1.pickle with 1830 keys.\n"
     ]
    }
   ],
   "source": [
    "save_full_pitmodel(mid, 'all')"
   ]
  },
  {
   "cell_type": "code",
   "execution_count": 28,
   "metadata": {},
   "outputs": [
    {
     "name": "stderr",
     "output_type": "stream",
     "text": [
      "Running evaluation: 100%|██████████| 3638/3638 [00:19<00:00, 182.28it/s]\n"
     ]
    },
    {
     "name": "stdout",
     "output_type": "stream",
     "text": [
      "{\n",
      "    \"MSE\": 0.40147687182793795,\n",
      "    \"abs_error\": 1727.264953942361,\n",
      "    \"abs_target_sum\": 3779.0495181689503,\n",
      "    \"abs_target_mean\": 1.03877117046975,\n",
      "    \"seasonal_error\": NaN,\n",
      "    \"MASE\": NaN,\n",
      "    \"sMAPE\": 0.7341374790495121,\n",
      "    \"MSIS\": NaN,\n",
      "    \"QuantileLoss[0.1]\": 613.4820881473909,\n",
      "    \"Coverage[0.1]\": 0.07174271577789995,\n",
      "    \"QuantileLoss[0.5]\": 1727.264953942361,\n",
      "    \"Coverage[0.5]\": 0.19461242440901594,\n",
      "    \"QuantileLoss[0.9]\": 1598.6573588345072,\n",
      "    \"Coverage[0.9]\": 0.44310060472787244,\n",
      "    \"RMSE\": 0.6336220259965226,\n",
      "    \"NRMSE\": 0.6099726715653727,\n",
      "    \"ND\": 0.45706332918846393,\n",
      "    \"wQuantileLoss[0.1]\": 0.1623376685586907,\n",
      "    \"wQuantileLoss[0.5]\": 0.45706332918846393,\n",
      "    \"wQuantileLoss[0.9]\": 0.42303159859336775,\n",
      "    \"mean_wQuantileLoss\": 0.34747753211350746,\n",
      "    \"MAE_Coverage\": 0.2635147516950706\n",
      "}\n",
      "mae =  4.658878504672897\n",
      "idx: 31 t: 31 p: 27\n",
      "idx: 816 t: 44 p: 28\n",
      "idx: 846 t: 14 p: 9\n",
      "idx: 856 t: 4 p: 1\n"
     ]
    },
    {
     "data": {
      "image/png": "[encoded data removed]",
      "text/plain": [
       "<Figure size 432x288 with 1 Axes>"
      ]
     },
     "metadata": {
      "needs_background": "light"
     },
     "output_type": "display_data"
    }
   ],
   "source": [
    "runid = 'sel'\n",
    "#trainset, testset, train_ds, test_ds, scaler = _data[runid]\n",
    "#pm, mid = train_model(500,dropout = 0.1, id = runid)\n",
    "t[mid],s[mid], e[mid] = eval_model(pm,test_ds)\n",
    "p[mid] = pm\n",
    "mae = raw_eval(t[mid],s[mid])\n",
    "run_test(t[mid], s[mid], [31,816,846,856])"
   ]
  },
  {
   "cell_type": "code",
   "execution_count": 29,
   "metadata": {},
   "outputs": [
    {
     "name": "stdout",
     "output_type": "stream",
     "text": [
      "idx: 31 t: 31 p: 27\n",
      "idx: 816 t: 44 p: 28\n",
      "idx: 846 t: 14 p: 9\n",
      "idx: 856 t: 4 p: 1\n"
     ]
    },
    {
     "data": {
      "image/png": "[encoded data removed]",
      "text/plain": [
       "<Figure size 432x288 with 1 Axes>"
      ]
     },
     "metadata": {
      "needs_background": "light"
     },
     "output_type": "display_data"
    }
   ],
   "source": [
    "run_test(t[mid], s[mid], [31,816,846,856])"
   ]
  },
  {
   "cell_type": "code",
   "execution_count": 30,
   "metadata": {},
   "outputs": [
    {
     "data": {
      "text/plain": [
       "4920"
      ]
     },
     "execution_count": 30,
     "metadata": {},
     "output_type": "execute_result"
    }
   ],
   "source": [
    "len(test_all)"
   ]
  },
  {
   "cell_type": "code",
   "execution_count": 31,
   "metadata": {},
   "outputs": [
    {
     "name": "stdout",
     "output_type": "stream",
     "text": [
      "make full testdb: 2145 records\n"
     ]
    },
    {
     "name": "stderr",
     "output_type": "stream",
     "text": [
      "Running evaluation: 100%|██████████| 2145/2145 [00:12<00:00, 174.72it/s]\n"
     ]
    },
    {
     "name": "stdout",
     "output_type": "stream",
     "text": [
      "{\n",
      "    \"MSE\": 1.4126874378783432,\n",
      "    \"abs_error\": 2116.3819956522934,\n",
      "    \"abs_target_sum\": 3779.5638833230714,\n",
      "    \"abs_target_mean\": 1.7620344444396603,\n",
      "    \"seasonal_error\": NaN,\n",
      "    \"MASE\": NaN,\n",
      "    \"sMAPE\": 0.7475020353194095,\n",
      "    \"MSIS\": NaN,\n",
      "    \"QuantileLoss[0.1]\": 2419.7226531269066,\n",
      "    \"Coverage[0.1]\": 0.627972027972028,\n",
      "    \"QuantileLoss[0.5]\": 2116.3819956522934,\n",
      "    \"Coverage[0.5]\": 0.661072261072261,\n",
      "    \"QuantileLoss[0.9]\": 1264.6830327334515,\n",
      "    \"Coverage[0.9]\": 0.6881118881118881,\n",
      "    \"RMSE\": 1.1885652854926998,\n",
      "    \"NRMSE\": 0.67454145930199,\n",
      "    \"ND\": 0.559954021412525,\n",
      "    \"wQuantileLoss[0.1]\": 0.6402121323583598,\n",
      "    \"wQuantileLoss[0.5]\": 0.559954021412525,\n",
      "    \"wQuantileLoss[0.9]\": 0.3346108365342712,\n",
      "    \"mean_wQuantileLoss\": 0.5115923301017187,\n",
      "    \"MAE_Coverage\": 0.3003108003108003\n",
      "}\n",
      "save model pitmodel-m65-mlp-dsel-e500-l10-10-5-student-d0.1.pickle with 2145 keys.\n"
     ]
    }
   ],
   "source": [
    "#mid =  'mlp-dsel-e500-l10-10-5-student-d0.1'\n",
    "save_full_pitmodel(mid, 'sel', maxgap=65)"
   ]
  },
  {
   "cell_type": "code",
   "execution_count": null,
   "metadata": {},
   "outputs": [],
   "source": [
    "sys.exit(0)"
   ]
  },
  {
   "cell_type": "markdown",
   "metadata": {},
   "source": [
    "### test and tuning"
   ]
  },
  {
   "cell_type": "code",
   "execution_count": null,
   "metadata": {},
   "outputs": [],
   "source": [
    "s.keys()"
   ]
  },
  {
   "cell_type": "code",
   "execution_count": null,
   "metadata": {},
   "outputs": [],
   "source": [
    "pm, mid = train_model(500,dropout = 0.1)\n",
    "t[mid],s[mid], e[mid] = eval_model(pm)\n",
    "p[mid] = pm\n",
    "run_test(t[mid], s[mid], [31,816,846,856])"
   ]
  },
  {
   "cell_type": "code",
   "execution_count": null,
   "metadata": {},
   "outputs": [],
   "source": [
    "run_test(t[mid], s[mid], [31,816,846,856])"
   ]
  },
  {
   "cell_type": "code",
   "execution_count": null,
   "metadata": {},
   "outputs": [],
   "source": [
    "pm, mid = train_model(2000,dropout = 0.1)\n",
    "t[mid],s[mid], e[mid] = eval_model(pm)\n",
    "p[mid] = pm\n",
    "save_model(p[mid], mid)\n",
    "run_test(t[mid], s[mid], [31,816,846,856])"
   ]
  },
  {
   "cell_type": "code",
   "execution_count": null,
   "metadata": {},
   "outputs": [],
   "source": [
    "mid"
   ]
  },
  {
   "cell_type": "code",
   "execution_count": null,
   "metadata": {},
   "outputs": [],
   "source": [
    "t.keys()"
   ]
  },
  {
   "cell_type": "code",
   "execution_count": null,
   "metadata": {},
   "outputs": [],
   "source": [
    "pm, mid = train_model(200,dropout = 0.1, layers=[8,4])\n",
    "t[mid],s[mid], e[mid] = eval_model(pm)\n",
    "p[mid] = pm\n",
    "run_test(t[mid], s[mid], [31,816,846,856])"
   ]
  },
  {
   "cell_type": "code",
   "execution_count": null,
   "metadata": {},
   "outputs": [],
   "source": [
    "e={}"
   ]
  },
  {
   "cell_type": "code",
   "execution_count": null,
   "metadata": {},
   "outputs": [],
   "source": [
    "t[mid],s[mid], e[mid] = eval_model(pm)\n",
    "p[mid] = pm\n",
    "run_test(t[mid], s[mid], [31,816,846,856])"
   ]
  },
  {
   "cell_type": "code",
   "execution_count": null,
   "metadata": {},
   "outputs": [],
   "source": [
    "pm, mid = train_model(500, layers=[10,5])\n",
    "t[mid],s[mid] = eval_model(pm)\n",
    "p[mid] = pm"
   ]
  },
  {
   "cell_type": "code",
   "execution_count": null,
   "metadata": {},
   "outputs": [],
   "source": [
    "pm, mid = train_model(500, layers=[32,16,8,4])\n",
    "t[mid],s[mid] = eval_model(pm)\n",
    "p[mid] = pm"
   ]
  },
  {
   "cell_type": "code",
   "execution_count": null,
   "metadata": {},
   "outputs": [],
   "source": [
    "run_test(t[mid], s[mid], [31,816,846,856])"
   ]
  },
  {
   "cell_type": "code",
   "execution_count": null,
   "metadata": {},
   "outputs": [],
   "source": [
    "pm, mid = train_model(2000, layers=[32,16,8,4])\n",
    "t[mid],s[mid] = eval_model(pm)\n",
    "p[mid] = pm\n",
    "run_test(t[mid], s[mid], [31,816,846,856])"
   ]
  },
  {
   "cell_type": "markdown",
   "metadata": {},
   "source": [
    "### test"
   ]
  },
  {
   "cell_type": "code",
   "execution_count": null,
   "metadata": {},
   "outputs": [],
   "source": [
    "trec = next(iter(train_ds))\n",
    "trec\n"
   ]
  },
  {
   "cell_type": "code",
   "execution_count": null,
   "metadata": {},
   "outputs": [],
   "source": [
    "run_test(tss, forecasts, [31,816,846,856])"
   ]
  },
  {
   "cell_type": "code",
   "execution_count": null,
   "metadata": {},
   "outputs": [],
   "source": [
    "test_sel.iloc[816]"
   ]
  },
  {
   "cell_type": "code",
   "execution_count": null,
   "metadata": {},
   "outputs": [],
   "source": [
    "test_sel.iloc[836]"
   ]
  },
  {
   "cell_type": "code",
   "execution_count": null,
   "metadata": {},
   "outputs": [],
   "source": [
    "t[mid],s[mid] = eval_model(pm)"
   ]
  },
  {
   "cell_type": "code",
   "execution_count": null,
   "metadata": {},
   "outputs": [],
   "source": [
    "get_pred(t[mid],s[mid], 816)"
   ]
  },
  {
   "cell_type": "code",
   "execution_count": null,
   "metadata": {},
   "outputs": [],
   "source": [
    "next(iter(test_ds))"
   ]
  },
  {
   "cell_type": "code",
   "execution_count": null,
   "metadata": {},
   "outputs": [],
   "source": [
    "scaler"
   ]
  },
  {
   "cell_type": "code",
   "execution_count": null,
   "metadata": {},
   "outputs": [],
   "source": [
    "pm, mid = train_model(2,dropout = 0.1)\n",
    "#t[mid],s[mid], e[mid] = eval_model(pm)\n",
    "p[mid] = pm\n",
    "#run_test(t[mid], s[mid], [31,816,846,856])\n",
    "\n",
    "#mid = 'mlp-e2000-l10-10-5-student-d0.1'\n",
    "save_model(p[mid], mid)"
   ]
  },
  {
   "cell_type": "markdown",
   "metadata": {},
   "source": [
    "### test pitmodel"
   ]
  },
  {
   "cell_type": "code",
   "execution_count": null,
   "metadata": {},
   "outputs": [],
   "source": [
    "_scaler = scaler"
   ]
  },
  {
   "cell_type": "code",
   "execution_count": null,
   "metadata": {},
   "outputs": [],
   "source": [
    "id = 'mlp-e2000-l10-10-5-student-d0.1'\n",
    "t[id],s[id], e[id] = eval_model(p[id])"
   ]
  },
  {
   "cell_type": "code",
   "execution_count": null,
   "metadata": {},
   "outputs": [],
   "source": [
    "forecasts = s[id]\n",
    "tss = t[id]\n",
    "\n",
    "scaler = _scaler\n",
    "testset = test_sel[['lap2nextpit','caution_laps','pitage']].values\n",
    "\n",
    "pitmodel = PitModel()\n",
    "\n",
    "pitmodel.save_model('pitmodel_test', testset, forecasts, scaler)"
   ]
  },
  {
   "cell_type": "code",
   "execution_count": null,
   "metadata": {},
   "outputs": [],
   "source": [
    "newcasts = pitmodel.forecast_ds(testset, forecasts)\n",
    "scaler = _scaler\n",
    "run_test(tss, newcasts, [31,816,846,856],raw_forecast=True)"
   ]
  },
  {
   "cell_type": "code",
   "execution_count": null,
   "metadata": {},
   "outputs": [],
   "source": [
    "plt.plot(pitmodel.model['0-0'][0,:], pitmodel.model['0-0'][1,:])"
   ]
  },
  {
   "cell_type": "code",
   "execution_count": null,
   "metadata": {},
   "outputs": [],
   "source": [
    "plt.plot(pitmodel.model['10-13'][0,:], pitmodel.model['10-13'][1,:])"
   ]
  },
  {
   "cell_type": "code",
   "execution_count": null,
   "metadata": {},
   "outputs": [],
   "source": [
    "pitmodel.model['0-0'][0,:]"
   ]
  },
  {
   "cell_type": "code",
   "execution_count": null,
   "metadata": {},
   "outputs": [],
   "source": [
    "scaler = _scaler\n",
    "test_all = df_test[['lap2nextpit','caution_laps','pitage']].values\n",
    "test_ds, _, test_set = makedb(test_all, scaler, perm=False)\n",
    "\n",
    "id = 'mlp-e2000-l10-10-5-student-d0.1'\n",
    "t[id],s[id], e[id] = eval_model(p[id])\n",
    "forecasts = s[id]\n",
    "tss = t[id]\n",
    "\n",
    "pitmodel = PitModel()\n",
    "\n",
    "pitmodel.save_model(f'mlp-{id}.pickle', test_all, forecasts, scaler)\n"
   ]
  },
  {
   "cell_type": "code",
   "execution_count": null,
   "metadata": {},
   "outputs": [],
   "source": [
    "len(forecasts)"
   ]
  },
  {
   "cell_type": "code",
   "execution_count": null,
   "metadata": {},
   "outputs": [],
   "source": [
    "testall_set"
   ]
  },
  {
   "cell_type": "code",
   "execution_count": null,
   "metadata": {},
   "outputs": [],
   "source": [
    "scaler = _scaler\n",
    "maxgap = 60\n",
    "test_ds, _, test_set, test_all = make_fulltestdb(scaler, maxgap = maxgap)\n",
    "\n",
    "id = 'mlp-e2000-l10-10-5-student-d0.1'\n",
    "\n",
    "t[id],s[id], e[id] = eval_model(p[id])\n",
    "forecasts = s[id]\n",
    "tss = t[id]\n",
    "\n",
    "pitmodel = PitModel()\n",
    "\n",
    "pitmodel.save_model(f'pitmodel-m{maxgap}-{id}.pickle', test_all, forecasts, scaler)"
   ]
  },
  {
   "cell_type": "code",
   "execution_count": null,
   "metadata": {},
   "outputs": [],
   "source": [
    "pitmodel.model['0-0'][0,:]"
   ]
  },
  {
   "cell_type": "code",
   "execution_count": null,
   "metadata": {},
   "outputs": [],
   "source": [
    "plt.plot(pitmodel.model['0-0'][0,:], pitmodel.model['0-0'][1,:])"
   ]
  },
  {
   "cell_type": "code",
   "execution_count": null,
   "metadata": {},
   "outputs": [],
   "source": [
    "t.keys()"
   ]
  },
  {
   "cell_type": "code",
   "execution_count": null,
   "metadata": {},
   "outputs": [],
   "source": [
    "t['mlp-dsel-e500-l10-10-5-student-d0.1'][0]"
   ]
  },
  {
   "cell_type": "code",
   "execution_count": null,
   "metadata": {},
   "outputs": [],
   "source": []
  }
 ],
 "metadata": {
  "kernelspec": {
   "display_name": "Python 3",
   "language": "python",
   "name": "python3"
  },
  "language_info": {
   "codemirror_mode": {
    "name": "ipython",
    "version": 3
   },
   "file_extension": ".py",
   "mimetype": "text/x-python",
   "name": "python",
   "nbconvert_exporter": "python",
   "pygments_lexer": "ipython3",
   "version": "3.6.10"
  }
 },
 "nbformat": 4,
 "nbformat_minor": 2
}
