{
 "cells": [
  {
   "cell_type": "markdown",
   "metadata": {},
   "source": [
    "### stage_model_classifier\n",
    "\n",
    "base: 14./stage_model_classifier_withneighbor-newfeatures\n",
    "\n",
    "prediction models of sign classifiers on stage dataset\n",
    "\n",
    "data format:\n",
    "    target , eventid ,    car_number,    stageid,     features..."
   ]
  },
  {
   "cell_type": "code",
   "execution_count": 1,
   "metadata": {},
   "outputs": [],
   "source": [
    "%matplotlib inline\n",
    "\n",
    "import pandas as pd\n",
    "import numpy as np\n",
    "import matplotlib.pyplot as plt\n",
    "import random\n"
   ]
  },
  {
   "cell_type": "code",
   "execution_count": 2,
   "metadata": {},
   "outputs": [],
   "source": [
    "from sklearn.model_selection import train_test_split\n",
    "from sklearn.pipeline import Pipeline\n",
    "from sklearn.svm import LinearSVC, SVC\n",
    "from sklearn.linear_model import LogisticRegression\n",
    "from sklearn.ensemble import RandomForestClassifier\n",
    "from sklearn import metrics\n",
    "import xgboost as xgb\n"
   ]
  },
  {
   "cell_type": "code",
   "execution_count": 3,
   "metadata": {},
   "outputs": [],
   "source": [
    "# bulid regression model\n",
    "#classifiers = ['currank','avgrank','dice','lr','lrl1','lsvc','lsvcl2','rf','lrbias','xgb']\n",
    "classifiers = ['currank','avgrank','dice','lr','lsvc','lsvcl2','rf','lrbias','xgb']\n",
    "def get_classifier(classifier = 'lr'):\n",
    "    \n",
    "    class_weight = None\n",
    "    \n",
    "    if classifier == \"lsvc\":\n",
    "        clf = LinearSVC(penalty='l1',dual=False, tol=1e-3, class_weight=class_weight )\n",
    "    elif classifier == \"lsvcl2\":\n",
    "        clf = LinearSVC(penalty='l2', tol=1e-4, class_weight=class_weight)\n",
    "    elif classifier == 'rf':\n",
    "        #clf = RandomForestClassifier(n_estimators=100, n_jobs=4,criterion='entropy', min_samples_split=1,class_weight = class_weight)\n",
    "        clf = RandomForestClassifier(n_estimators=100, n_jobs=-1,criterion='entropy', class_weight = class_weight)\n",
    "    elif classifier == 'lr':\n",
    "        clf = LogisticRegression(class_weight = class_weight, n_jobs=-1, fit_intercept = False, verbose = 0)\n",
    "    elif classifier == 'lrbias':\n",
    "        clf = LogisticRegression(class_weight = class_weight, n_jobs=-1, fit_intercept = True, verbose = 1)\n",
    "    elif classifier == 'lrl1':\n",
    "        clf = LogisticRegression(class_weight = class_weight, penalty='l1',n_jobs=-1)\n",
    "    elif classifier == 'xgb':\n",
    "        clf = xgb.XGBClassifier(booster = 'gbtree', nthread = -1, subsample = 1, \n",
    "                                n_estimators = 600, colsample_bytree = 1, max_depth = 6, min_child_weight = 1)\n",
    "    elif classifier == 'dice':\n",
    "        clf = RandomDice('1234')\n",
    "    elif classifier == 'currank':\n",
    "        clf = CurRank()\n",
    "    elif classifier == 'avgrank':\n",
    "        clf = AverageRank()        \n",
    "    else:\n",
    "        clf = None\n",
    "        \n",
    "    return clf\n",
    "\n",
    "\n",
    "class CurRank():\n",
    "    \"\"\"\n",
    "    predict with current rank\n",
    "    \"\"\"\n",
    "    def __init__(self):\n",
    "        pass\n",
    "    def fit(self, x, y):\n",
    "        pass\n",
    "    def predict(self, test_x):\n",
    "        pred_y = [0 for x in range(test_x.shape[0])]\n",
    "        return np.array(pred_y)\n",
    "    \n",
    "class AverageRank():\n",
    "    \"\"\"\n",
    "    print('[*] predict with average rankchg (change_in_rank_all):idx = 15')\n",
    "    change_in_rank_all = test[:,15]\n",
    "    pred_y_avg = np.array([1 if x > 0 else (-1 if x < 0 else 0) for x in change_in_rank_all])\n",
    "    \"\"\"\n",
    "    def __init__(self):\n",
    "        pass\n",
    "    def fit(self, x, y):\n",
    "        pass\n",
    "    def predict(self, test_x):\n",
    "        pred_y = []\n",
    "        for x in test_x:\n",
    "            #13, change_in_rank_all\n",
    "            pred_y.append(x[13])\n",
    "        pred_y_avg = np.array([1 if x > 0 else (-1 if x < 0 else 0) for x in pred_y])\n",
    "        return np.array(pred_y_avg)   \n",
    "\n",
    "class RandomDice():\n",
    "    \"\"\"\n",
    "    a random dice model\n",
    "    \"\"\"\n",
    "    def __init__(self, seed='1234'):\n",
    "        self.dist = []\n",
    "        self.val = []\n",
    "        random.seed(seed)\n",
    "    \n",
    "    def fit(self, x, y):\n",
    "        total = y.shape[0]\n",
    "        yval = set(y)\n",
    "        \n",
    "        ratio = 0.\n",
    "        for val in yval:\n",
    "            self.val.append(val)\n",
    "            ratio += np.sum(y==val)*1.0 / total\n",
    "            self.dist.append(ratio)\n",
    "            \n",
    "    def predict(self, test_x):\n",
    "        pred_y = []\n",
    "        for x in test_x:\n",
    "            dice = random.random()\n",
    "            #search in self.dist\n",
    "            find_idx = -1\n",
    "            for idx, ratio in enumerate(self.dist):\n",
    "                if dice <= ratio:\n",
    "                    find_idx = idx\n",
    "                    break\n",
    "            \n",
    "            #or the last one match\n",
    "            pred_y.append(self.val[find_idx])\n",
    "            \n",
    "        return np.array(pred_y)\n",
    "\n",
    "def evaluate(test_y, pred_y):\n",
    "    precision = metrics.precision_score(test_y, pred_y, average=None) \n",
    "    recall = metrics.recall_score(test_y, pred_y, average=None)\n",
    "    f1 = metrics.f1_score(test_y, pred_y, average=None)\n",
    "    accuracy = metrics.accuracy_score(test_y, pred_y)\n",
    "    print('precision=%s, recall=%s, f1=%s, accuracy=%.2f'%(precision,recall, f1, accuracy))\n",
    "    return accuracy\n",
    "    \n",
    "#\n",
    "#features\n",
    "#    cols=[Myidx, 'target','eventid','car_number','stageid',\n",
    "#             'firststage','pit_in_caution','start_position',\n",
    "#             'start_rank','start_rank_ratio','top_pack','bottom_pack',\n",
    "#             'average_rank','average_rank_all',\n",
    "#             'change_in_rank','change_in_rank_all','rate_of_change','rate_of_change_all']    \n",
    "def split_by_eventid(stagedata, eventid):\n",
    "    \"\"\"\n",
    "    split by eventid\n",
    "    \"\"\"\n",
    "    #if not eventid in stagedata:\n",
    "    #    print('error, %d not found in stagedata'%eventid)\n",
    "    #    return\n",
    "    \n",
    "    train = stagedata[stagedata['eventid'] != eventid].to_numpy()\n",
    "    test  = stagedata[stagedata['eventid'] == eventid].to_numpy()\n",
    "\n",
    "    #2:car_number\n",
    "    train_x = train[:,2:]\n",
    "    train_y = np.array([1 if x > 0 else (-1 if x < 0 else 0) for x in train[:,1]])\n",
    "    test_x = test[:,2:]\n",
    "    test_y = np.array([1 if x > 0 else (-1 if x < 0 else 0) for x in test[:,1]])\n",
    "    \n",
    "    return train, test, train_x, train_y, test_x, test_y\n",
    "\n",
    "\n",
    "def split_by_stageid(stagedata, stageid):\n",
    "    \"\"\"\n",
    "    split by stageid\n",
    "    \"\"\"\n",
    "    #if not eventid in stagedata:\n",
    "    #    print('error, %d not found in stagedata'%eventid)\n",
    "    #    return\n",
    "    \n",
    "    train = stagedata[stagedata['stageid'] <= stageid].to_numpy()\n",
    "    test  = stagedata[stagedata['stageid'] > stageid].to_numpy()\n",
    "\n",
    "    train_x = train[:,2:]\n",
    "    train_y = np.array([1 if x > 0 else (-1 if x < 0 else 0) for x in train[:,1]])\n",
    "    test_x = test[:,2:]\n",
    "    test_y = np.array([1 if x > 0 else (-1 if x < 0 else 0) for x in test[:,1]])\n",
    "    \n",
    "    return train, test, train_x, train_y, test_x, test_y\n",
    "\n",
    "\n",
    "### baseline\n",
    "def baseline_model():\n",
    "    #1. predict with current rank, rankchg = 0\n",
    "    print('[*] predict with current rank, rankchg = 0')\n",
    "    pred_y_simple = np.zeros_like(test_y)\n",
    "    score1 = evaluate(test_y, pred_y_simple)\n",
    "\n",
    "    #2. predict with average rankchg (change_in_rank_all):idx = 15\n",
    "    print('[*] predict with average rankchg (change_in_rank_all):idx = 15')\n",
    "    change_in_rank_all = test[:,15]\n",
    "    pred_y_avg = np.array([1 if x > 0 else (-1 if x < 0 else 0) for x in change_in_rank_all])\n",
    "    score2 = evaluate(test_y, pred_y_avg)\n",
    "    return score1, score2\n",
    "\n",
    "def classifier_model(name='lr'):\n",
    "    ### test learning models\n",
    "    print('[*] predict with %s model'%name)\n",
    "    clf = get_classifier(name)\n",
    "    clf.fit(train_x, train_y)\n",
    "\n",
    "    pred_y = clf.predict(test_x)\n",
    "    score = evaluate(test_y, pred_y)\n",
    "    return score"
   ]
  },
  {
   "cell_type": "code",
   "execution_count": 4,
   "metadata": {},
   "outputs": [
    {
     "name": "stdout",
     "output_type": "stream",
     "text": [
      "<class 'pandas.core.frame.DataFrame'>\n",
      "RangeIndex: 1313 entries, 0 to 1312\n",
      "Data columns (total 35 columns):\n",
      "Unnamed: 0                   1313 non-null int64\n",
      "target                       1313 non-null int64\n",
      "eventid                      1313 non-null int64\n",
      "car_number                   1313 non-null int64\n",
      "stageid                      1313 non-null int64\n",
      "firststage                   1313 non-null int64\n",
      "pit_in_caution               1313 non-null int64\n",
      "start_position               1313 non-null int64\n",
      "start_rank                   1313 non-null int64\n",
      "start_rank_ratio             1313 non-null float64\n",
      "top_pack                     1313 non-null int64\n",
      "bottom_pack                  1313 non-null int64\n",
      "average_rank                 1313 non-null float64\n",
      "average_rank_all             1313 non-null float64\n",
      "change_in_rank               1313 non-null int64\n",
      "change_in_rank_all           1313 non-null float64\n",
      "rate_of_change               1313 non-null int64\n",
      "rate_of_change_all           1313 non-null float64\n",
      "laptime_green_mean_prev      1313 non-null float64\n",
      "laptime_green_std_prev       1313 non-null float64\n",
      "laptime_green_mean_all       1313 non-null float64\n",
      "laptime_green_std_all        1313 non-null float64\n",
      "laptime_mean_prev            1313 non-null float64\n",
      "laptime_std_prev             1313 non-null float64\n",
      "laptime_mean_all             1313 non-null float64\n",
      "laptime_std_all              1313 non-null float64\n",
      "laps_prev                    1313 non-null int64\n",
      "laps_after_last_pitstop      1313 non-null int64\n",
      "pittime_prev                 1313 non-null float64\n",
      "prev_nb0_change_in_rank      1313 non-null int64\n",
      "prev_nb1_change_in_rank      1313 non-null int64\n",
      "prev_nb2_change_in_rank      1313 non-null int64\n",
      "follow_nb0_change_in_rank    1313 non-null int64\n",
      "follow_nb1_change_in_rank    1313 non-null int64\n",
      "follow_nb2_change_in_rank    1313 non-null int64\n",
      "dtypes: float64(14), int64(21)\n",
      "memory usage: 359.1 KB\n"
     ]
    }
   ],
   "source": [
    "#load data\n",
    "_trim = 0\n",
    "_include_final = False\n",
    "include_str = '1' if _include_final else '0'\n",
    "suffix = f'indy500-2013-2019-end{include_str}-t{_trim}'\n",
    "output_file = f'stage-indy500-2013-2019-end{include_str}-t{_trim}.csv'\n",
    "stagedata = pd.read_csv(output_file)\n",
    "\n",
    "\n",
    "stagedata.fillna(0, inplace=True)\n",
    "stagedata.info()"
   ]
  },
  {
   "cell_type": "code",
   "execution_count": 5,
   "metadata": {},
   "outputs": [
    {
     "data": {
      "text/html": [
       "<div>\n",
       "<style scoped>\n",
       "    .dataframe tbody tr th:only-of-type {\n",
       "        vertical-align: middle;\n",
       "    }\n",
       "\n",
       "    .dataframe tbody tr th {\n",
       "        vertical-align: top;\n",
       "    }\n",
       "\n",
       "    .dataframe thead th {\n",
       "        text-align: right;\n",
       "    }\n",
       "</style>\n",
       "<table border=\"1\" class=\"dataframe\">\n",
       "  <thead>\n",
       "    <tr style=\"text-align: right;\">\n",
       "      <th></th>\n",
       "      <th>Unnamed: 0</th>\n",
       "      <th>target</th>\n",
       "      <th>eventid</th>\n",
       "      <th>car_number</th>\n",
       "      <th>stageid</th>\n",
       "      <th>firststage</th>\n",
       "      <th>pit_in_caution</th>\n",
       "      <th>start_position</th>\n",
       "      <th>start_rank</th>\n",
       "      <th>start_rank_ratio</th>\n",
       "      <th>...</th>\n",
       "      <th>laptime_std_all</th>\n",
       "      <th>laps_prev</th>\n",
       "      <th>laps_after_last_pitstop</th>\n",
       "      <th>pittime_prev</th>\n",
       "      <th>prev_nb0_change_in_rank</th>\n",
       "      <th>prev_nb1_change_in_rank</th>\n",
       "      <th>prev_nb2_change_in_rank</th>\n",
       "      <th>follow_nb0_change_in_rank</th>\n",
       "      <th>follow_nb1_change_in_rank</th>\n",
       "      <th>follow_nb2_change_in_rank</th>\n",
       "    </tr>\n",
       "  </thead>\n",
       "  <tbody>\n",
       "    <tr>\n",
       "      <th>0</th>\n",
       "      <td>1</td>\n",
       "      <td>-12</td>\n",
       "      <td>0</td>\n",
       "      <td>1</td>\n",
       "      <td>1</td>\n",
       "      <td>1</td>\n",
       "      <td>0</td>\n",
       "      <td>7</td>\n",
       "      <td>15</td>\n",
       "      <td>0.454545</td>\n",
       "      <td>...</td>\n",
       "      <td>22.910400</td>\n",
       "      <td>31</td>\n",
       "      <td>31</td>\n",
       "      <td>66.08150</td>\n",
       "      <td>2</td>\n",
       "      <td>8</td>\n",
       "      <td>0</td>\n",
       "      <td>14</td>\n",
       "      <td>6</td>\n",
       "      <td>3</td>\n",
       "    </tr>\n",
       "    <tr>\n",
       "      <th>1</th>\n",
       "      <td>2</td>\n",
       "      <td>14</td>\n",
       "      <td>0</td>\n",
       "      <td>1</td>\n",
       "      <td>2</td>\n",
       "      <td>1</td>\n",
       "      <td>1</td>\n",
       "      <td>7</td>\n",
       "      <td>3</td>\n",
       "      <td>0.090909</td>\n",
       "      <td>...</td>\n",
       "      <td>23.822858</td>\n",
       "      <td>27</td>\n",
       "      <td>27</td>\n",
       "      <td>62.06770</td>\n",
       "      <td>-19</td>\n",
       "      <td>-21</td>\n",
       "      <td>0</td>\n",
       "      <td>-3</td>\n",
       "      <td>-21</td>\n",
       "      <td>-17</td>\n",
       "    </tr>\n",
       "    <tr>\n",
       "      <th>2</th>\n",
       "      <td>3</td>\n",
       "      <td>-7</td>\n",
       "      <td>0</td>\n",
       "      <td>1</td>\n",
       "      <td>3</td>\n",
       "      <td>1</td>\n",
       "      <td>0</td>\n",
       "      <td>7</td>\n",
       "      <td>17</td>\n",
       "      <td>0.515152</td>\n",
       "      <td>...</td>\n",
       "      <td>21.857882</td>\n",
       "      <td>32</td>\n",
       "      <td>32</td>\n",
       "      <td>91.23935</td>\n",
       "      <td>11</td>\n",
       "      <td>-2</td>\n",
       "      <td>-3</td>\n",
       "      <td>7</td>\n",
       "      <td>17</td>\n",
       "      <td>19</td>\n",
       "    </tr>\n",
       "    <tr>\n",
       "      <th>3</th>\n",
       "      <td>4</td>\n",
       "      <td>5</td>\n",
       "      <td>0</td>\n",
       "      <td>1</td>\n",
       "      <td>4</td>\n",
       "      <td>1</td>\n",
       "      <td>0</td>\n",
       "      <td>7</td>\n",
       "      <td>10</td>\n",
       "      <td>0.303030</td>\n",
       "      <td>...</td>\n",
       "      <td>19.394133</td>\n",
       "      <td>32</td>\n",
       "      <td>32</td>\n",
       "      <td>61.19415</td>\n",
       "      <td>-15</td>\n",
       "      <td>-9</td>\n",
       "      <td>-6</td>\n",
       "      <td>0</td>\n",
       "      <td>4</td>\n",
       "      <td>-6</td>\n",
       "    </tr>\n",
       "    <tr>\n",
       "      <th>4</th>\n",
       "      <td>5</td>\n",
       "      <td>-3</td>\n",
       "      <td>0</td>\n",
       "      <td>1</td>\n",
       "      <td>5</td>\n",
       "      <td>1</td>\n",
       "      <td>0</td>\n",
       "      <td>7</td>\n",
       "      <td>15</td>\n",
       "      <td>0.454545</td>\n",
       "      <td>...</td>\n",
       "      <td>17.737505</td>\n",
       "      <td>30</td>\n",
       "      <td>30</td>\n",
       "      <td>60.85410</td>\n",
       "      <td>-3</td>\n",
       "      <td>0</td>\n",
       "      <td>0</td>\n",
       "      <td>-3</td>\n",
       "      <td>-3</td>\n",
       "      <td>0</td>\n",
       "    </tr>\n",
       "  </tbody>\n",
       "</table>\n",
       "<p>5 rows × 35 columns</p>\n",
       "</div>"
      ],
      "text/plain": [
       "   Unnamed: 0  target  eventid  car_number  stageid  firststage  \\\n",
       "0           1     -12        0           1        1           1   \n",
       "1           2      14        0           1        2           1   \n",
       "2           3      -7        0           1        3           1   \n",
       "3           4       5        0           1        4           1   \n",
       "4           5      -3        0           1        5           1   \n",
       "\n",
       "   pit_in_caution  start_position  start_rank  start_rank_ratio  ...  \\\n",
       "0               0               7          15          0.454545  ...   \n",
       "1               1               7           3          0.090909  ...   \n",
       "2               0               7          17          0.515152  ...   \n",
       "3               0               7          10          0.303030  ...   \n",
       "4               0               7          15          0.454545  ...   \n",
       "\n",
       "   laptime_std_all  laps_prev  laps_after_last_pitstop  pittime_prev  \\\n",
       "0        22.910400         31                       31      66.08150   \n",
       "1        23.822858         27                       27      62.06770   \n",
       "2        21.857882         32                       32      91.23935   \n",
       "3        19.394133         32                       32      61.19415   \n",
       "4        17.737505         30                       30      60.85410   \n",
       "\n",
       "   prev_nb0_change_in_rank  prev_nb1_change_in_rank  prev_nb2_change_in_rank  \\\n",
       "0                        2                        8                        0   \n",
       "1                      -19                      -21                        0   \n",
       "2                       11                       -2                       -3   \n",
       "3                      -15                       -9                       -6   \n",
       "4                       -3                        0                        0   \n",
       "\n",
       "   follow_nb0_change_in_rank  follow_nb1_change_in_rank  \\\n",
       "0                         14                          6   \n",
       "1                         -3                        -21   \n",
       "2                          7                         17   \n",
       "3                          0                          4   \n",
       "4                         -3                         -3   \n",
       "\n",
       "   follow_nb2_change_in_rank  \n",
       "0                          3  \n",
       "1                        -17  \n",
       "2                         19  \n",
       "3                         -6  \n",
       "4                          0  \n",
       "\n",
       "[5 rows x 35 columns]"
      ]
     },
     "execution_count": 5,
     "metadata": {},
     "output_type": "execute_result"
    }
   ],
   "source": [
    "stagedata.head(5)"
   ]
  },
  {
   "cell_type": "code",
   "execution_count": 6,
   "metadata": {},
   "outputs": [
    {
     "name": "stdout",
     "output_type": "stream",
     "text": [
      "cols:['runid', 'trainsize', 'testsize', 'testdistribution', 'currank', 'avgrank', 'dice', 'lr', 'lsvc', 'lsvcl2', 'rf', 'lrbias', 'xgb']\n",
      "Testset = Indy500-2013\n",
      "[*] predict with currank model\n",
      "precision=[0.        0.1626506 0.       ], recall=[0. 1. 0.], f1=[0.         0.27979275 0.        ], accuracy=0.16\n",
      "[*] predict with avgrank model\n",
      "precision=[0.37777778 0.         0.25      ], recall=[0.425      0.         0.30508475], f1=[0.4        0.         0.27480916], accuracy=0.31\n",
      "[*] predict with dice model\n",
      "precision=[0.43617021 0.15789474 0.30188679], recall=[0.5125     0.11111111 0.27118644], f1=[0.47126437 0.13043478 0.28571429], accuracy=0.36\n",
      "[*] predict with lr model\n"
     ]
    },
    {
     "name": "stderr",
     "output_type": "stream",
     "text": [
      "/scratch_ssd/hpda/anaconda3/envs/gluonts/lib/python3.6/site-packages/sklearn/metrics/_classification.py:1272: UndefinedMetricWarning: Precision is ill-defined and being set to 0.0 in labels with no predicted samples. Use `zero_division` parameter to control this behavior.\n",
      "  _warn_prf(average, modifier, msg_start, len(result))\n"
     ]
    },
    {
     "name": "stdout",
     "output_type": "stream",
     "text": [
      "precision=[0.58095238 0.         0.53333333], recall=[0.7625     0.         0.54237288], f1=[0.65945946 0.         0.53781513], accuracy=0.56\n",
      "[*] predict with lsvc model\n"
     ]
    },
    {
     "name": "stderr",
     "output_type": "stream",
     "text": [
      "/scratch_ssd/hpda/anaconda3/envs/gluonts/lib/python3.6/site-packages/sklearn/svm/_base.py:947: ConvergenceWarning: Liblinear failed to converge, increase the number of iterations.\n",
      "  \"the number of iterations.\", ConvergenceWarning)\n",
      "/scratch_ssd/hpda/anaconda3/envs/gluonts/lib/python3.6/site-packages/sklearn/metrics/_classification.py:1272: UndefinedMetricWarning: Precision is ill-defined and being set to 0.0 in labels with no predicted samples. Use `zero_division` parameter to control this behavior.\n",
      "  _warn_prf(average, modifier, msg_start, len(result))\n"
     ]
    },
    {
     "name": "stdout",
     "output_type": "stream",
     "text": [
      "precision=[0.58181818 0.         0.53571429], recall=[0.8        0.         0.50847458], f1=[0.67368421 0.         0.52173913], accuracy=0.57\n",
      "[*] predict with lsvcl2 model\n"
     ]
    },
    {
     "name": "stderr",
     "output_type": "stream",
     "text": [
      "/scratch_ssd/hpda/anaconda3/envs/gluonts/lib/python3.6/site-packages/sklearn/svm/_base.py:947: ConvergenceWarning: Liblinear failed to converge, increase the number of iterations.\n",
      "  \"the number of iterations.\", ConvergenceWarning)\n"
     ]
    },
    {
     "name": "stdout",
     "output_type": "stream",
     "text": [
      "precision=[0.54961832 0.25       0.59259259], recall=[0.9        0.07407407 0.27118644], f1=[0.68246445 0.11428571 0.37209302], accuracy=0.54\n",
      "[*] predict with rf model\n",
      "precision=[0.57272727 1.         0.52727273], recall=[0.7875     0.03703704 0.49152542], f1=[0.66315789 0.07142857 0.50877193], accuracy=0.56\n",
      "[*] predict with lrbias model\n"
     ]
    },
    {
     "name": "stderr",
     "output_type": "stream",
     "text": [
      "[Parallel(n_jobs=-1)]: Using backend LokyBackend with 20 concurrent workers.\n",
      "[Parallel(n_jobs=-1)]: Done   1 out of   1 | elapsed:    0.4s finished\n"
     ]
    },
    {
     "name": "stdout",
     "output_type": "stream",
     "text": [
      "precision=[0.57009346 0.         0.51724138], recall=[0.7625     0.         0.50847458], f1=[0.65240642 0.         0.51282051], accuracy=0.55\n",
      "[*] predict with xgb model\n",
      "precision=[0.55855856 0.4        0.52      ], recall=[0.775      0.07407407 0.44067797], f1=[0.64921466 0.125      0.47706422], accuracy=0.54\n",
      "rec:['Indy500-2013', 1147, 166, '+:59,0:27,-:80', 0.16265060240963855, 0.3132530120481928, 0.3614457831325301, 0.5602409638554217, 0.5662650602409639, 0.5421686746987951, 0.5602409638554217, 0.5481927710843374, 0.5421686746987951]\n",
      "Testset = Indy500-2014\n",
      "[*] predict with currank model\n",
      "precision=[0.         0.16923077 0.        ], recall=[0. 1. 0.], f1=[0.         0.28947368 0.        ], accuracy=0.17\n",
      "[*] predict with avgrank model\n",
      "precision=[0.42391304 0.1        0.22580645], recall=[0.37142857 0.03030303 0.36842105], f1=[0.39593909 0.04651163 0.28      ], accuracy=0.31\n",
      "[*] predict with dice model\n",
      "precision=[0.5625     0.         0.37096774], recall=[0.6        0.         0.40350877], f1=[0.58064516 0.         0.38655462], accuracy=0.44\n",
      "[*] predict with lr model\n"
     ]
    },
    {
     "name": "stderr",
     "output_type": "stream",
     "text": [
      "/scratch_ssd/hpda/anaconda3/envs/gluonts/lib/python3.6/site-packages/sklearn/metrics/_classification.py:1272: UndefinedMetricWarning: Precision is ill-defined and being set to 0.0 in labels with no predicted samples. Use `zero_division` parameter to control this behavior.\n",
      "  _warn_prf(average, modifier, msg_start, len(result))\n"
     ]
    },
    {
     "name": "stdout",
     "output_type": "stream",
     "text": [
      "precision=[0.70175439 0.75       0.48051948], recall=[0.76190476 0.09090909 0.64912281], f1=[0.73059361 0.16216216 0.55223881], accuracy=0.62\n",
      "[*] predict with lsvc model\n"
     ]
    },
    {
     "name": "stderr",
     "output_type": "stream",
     "text": [
      "/scratch_ssd/hpda/anaconda3/envs/gluonts/lib/python3.6/site-packages/sklearn/svm/_base.py:947: ConvergenceWarning: Liblinear failed to converge, increase the number of iterations.\n",
      "  \"the number of iterations.\", ConvergenceWarning)\n"
     ]
    },
    {
     "name": "stdout",
     "output_type": "stream",
     "text": [
      "precision=[0.69565217 0.4        0.48      ], recall=[0.76190476 0.06060606 0.63157895], f1=[0.72727273 0.10526316 0.54545455], accuracy=0.61\n",
      "[*] predict with lsvcl2 model\n"
     ]
    },
    {
     "name": "stderr",
     "output_type": "stream",
     "text": [
      "/scratch_ssd/hpda/anaconda3/envs/gluonts/lib/python3.6/site-packages/sklearn/svm/_base.py:947: ConvergenceWarning: Liblinear failed to converge, increase the number of iterations.\n",
      "  \"the number of iterations.\", ConvergenceWarning)\n"
     ]
    },
    {
     "name": "stdout",
     "output_type": "stream",
     "text": [
      "precision=[0.84615385 0.35714286 0.36619718], recall=[0.31428571 0.15151515 0.9122807 ], f1=[0.45833333 0.21276596 0.52261307], accuracy=0.46\n",
      "[*] predict with rf model\n",
      "precision=[0.6952381  0.6        0.44705882], recall=[0.6952381  0.09090909 0.66666667], f1=[0.6952381  0.15789474 0.53521127], accuracy=0.58\n",
      "[*] predict with lrbias model\n"
     ]
    },
    {
     "name": "stderr",
     "output_type": "stream",
     "text": [
      "[Parallel(n_jobs=-1)]: Using backend LokyBackend with 20 concurrent workers.\n",
      "[Parallel(n_jobs=-1)]: Done   1 out of   1 | elapsed:    0.5s finished\n"
     ]
    },
    {
     "name": "stdout",
     "output_type": "stream",
     "text": [
      "precision=[0.69565217 0.75       0.47368421], recall=[0.76190476 0.09090909 0.63157895], f1=[0.72727273 0.16216216 0.54135338], accuracy=0.61\n",
      "[*] predict with xgb model\n",
      "precision=[0.70833333 0.3125     0.44578313], recall=[0.64761905 0.15151515 0.64912281], f1=[0.67661692 0.20408163 0.52857143], accuracy=0.56\n",
      "rec:['Indy500-2014', 1118, 195, '+:57,0:33,-:105', 0.16923076923076924, 0.3128205128205128, 0.441025641025641, 0.6153846153846154, 0.6051282051282051, 0.46153846153846156, 0.5846153846153846, 0.6102564102564103, 0.5641025641025641]\n",
      "Testset = Indy500-2015\n",
      "[*] predict with currank model\n",
      "precision=[0.        0.1257485 0.       ], recall=[0. 1. 0.], f1=[0.         0.22340426 0.        ], accuracy=0.13\n",
      "[*] predict with avgrank model\n",
      "precision=[0.34666667 0.15384615 0.24050633], recall=[0.32911392 0.0952381  0.28358209], f1=[0.33766234 0.11764706 0.26027397], accuracy=0.28\n",
      "[*] predict with dice model\n",
      "precision=[0.5        0.13636364 0.45098039], recall=[0.59493671 0.14285714 0.34328358], f1=[0.5433526  0.13953488 0.38983051], accuracy=0.44\n",
      "[*] predict with lr model\n"
     ]
    },
    {
     "name": "stderr",
     "output_type": "stream",
     "text": [
      "/scratch_ssd/hpda/anaconda3/envs/gluonts/lib/python3.6/site-packages/sklearn/metrics/_classification.py:1272: UndefinedMetricWarning: Precision is ill-defined and being set to 0.0 in labels with no predicted samples. Use `zero_division` parameter to control this behavior.\n",
      "  _warn_prf(average, modifier, msg_start, len(result))\n"
     ]
    },
    {
     "name": "stdout",
     "output_type": "stream",
     "text": [
      "precision=[0.61627907 0.         0.57142857], recall=[0.67088608 0.         0.65671642], f1=[0.64242424 0.         0.61111111], accuracy=0.58\n",
      "[*] predict with lsvc model\n"
     ]
    },
    {
     "name": "stderr",
     "output_type": "stream",
     "text": [
      "/scratch_ssd/hpda/anaconda3/envs/gluonts/lib/python3.6/site-packages/sklearn/svm/_base.py:947: ConvergenceWarning: Liblinear failed to converge, increase the number of iterations.\n",
      "  \"the number of iterations.\", ConvergenceWarning)\n",
      "/scratch_ssd/hpda/anaconda3/envs/gluonts/lib/python3.6/site-packages/sklearn/metrics/_classification.py:1272: UndefinedMetricWarning: Precision is ill-defined and being set to 0.0 in labels with no predicted samples. Use `zero_division` parameter to control this behavior.\n",
      "  _warn_prf(average, modifier, msg_start, len(result))\n"
     ]
    },
    {
     "name": "stdout",
     "output_type": "stream",
     "text": [
      "precision=[0.59574468 0.         0.57534247], recall=[0.70886076 0.         0.62686567], f1=[0.64739884 0.         0.6       ], accuracy=0.59\n",
      "[*] predict with lsvcl2 model\n"
     ]
    },
    {
     "name": "stderr",
     "output_type": "stream",
     "text": [
      "/scratch_ssd/hpda/anaconda3/envs/gluonts/lib/python3.6/site-packages/sklearn/svm/_base.py:947: ConvergenceWarning: Liblinear failed to converge, increase the number of iterations.\n",
      "  \"the number of iterations.\", ConvergenceWarning)\n",
      "/scratch_ssd/hpda/anaconda3/envs/gluonts/lib/python3.6/site-packages/sklearn/metrics/_classification.py:1272: UndefinedMetricWarning: Precision is ill-defined and being set to 0.0 in labels with no predicted samples. Use `zero_division` parameter to control this behavior.\n",
      "  _warn_prf(average, modifier, msg_start, len(result))\n"
     ]
    },
    {
     "name": "stdout",
     "output_type": "stream",
     "text": [
      "precision=[0.84615385 0.         0.46099291], recall=[0.27848101 0.         0.97014925], f1=[0.41904762 0.         0.625     ], accuracy=0.52\n",
      "[*] predict with rf model\n"
     ]
    },
    {
     "name": "stderr",
     "output_type": "stream",
     "text": [
      "/scratch_ssd/hpda/anaconda3/envs/gluonts/lib/python3.6/site-packages/sklearn/metrics/_classification.py:1272: UndefinedMetricWarning: Precision is ill-defined and being set to 0.0 in labels with no predicted samples. Use `zero_division` parameter to control this behavior.\n",
      "  _warn_prf(average, modifier, msg_start, len(result))\n",
      "[Parallel(n_jobs=-1)]: Using backend LokyBackend with 20 concurrent workers.\n"
     ]
    },
    {
     "name": "stdout",
     "output_type": "stream",
     "text": [
      "precision=[0.65263158 0.         0.68055556], recall=[0.78481013 0.         0.73134328], f1=[0.71264368 0.         0.70503597], accuracy=0.66\n",
      "[*] predict with lrbias model\n"
     ]
    },
    {
     "name": "stderr",
     "output_type": "stream",
     "text": [
      "[Parallel(n_jobs=-1)]: Done   1 out of   1 | elapsed:    0.4s finished\n"
     ]
    },
    {
     "name": "stdout",
     "output_type": "stream",
     "text": [
      "precision=[0.61363636 0.         0.57142857], recall=[0.6835443  0.         0.65671642], f1=[0.64670659 0.         0.61111111], accuracy=0.59\n",
      "[*] predict with xgb model\n",
      "precision=[0.60638298 0.         0.67692308], recall=[0.72151899 0.         0.65671642], f1=[0.65895954 0.         0.66666667], accuracy=0.60\n",
      "rec:['Indy500-2015', 1146, 167, '+:67,0:21,-:79', 0.12574850299401197, 0.281437125748503, 0.437125748502994, 0.5808383233532934, 0.5868263473053892, 0.5209580838323353, 0.6646706586826348, 0.5868263473053892, 0.6047904191616766]\n",
      "Testset = Indy500-2016\n",
      "[*] predict with currank model\n",
      "precision=[0.         0.11946903 0.        ], recall=[0. 1. 0.], f1=[0.         0.21343874 0.        ], accuracy=0.12\n",
      "[*] predict with avgrank model\n",
      "precision=[0.37614679 0.06666667 0.28431373], recall=[0.36607143 0.03703704 0.33333333], f1=[0.37104072 0.04761905 0.30687831], accuracy=0.31\n",
      "[*] predict with dice model\n",
      "precision=[0.51145038 0.15625    0.41269841], recall=[0.59821429 0.18518519 0.29885057], f1=[0.55144033 0.16949153 0.34666667], accuracy=0.43\n",
      "[*] predict with lr model\n"
     ]
    },
    {
     "name": "stderr",
     "output_type": "stream",
     "text": [
      "/scratch_ssd/hpda/anaconda3/envs/gluonts/lib/python3.6/site-packages/sklearn/metrics/_classification.py:1272: UndefinedMetricWarning: Precision is ill-defined and being set to 0.0 in labels with no predicted samples. Use `zero_division` parameter to control this behavior.\n",
      "  _warn_prf(average, modifier, msg_start, len(result))\n"
     ]
    },
    {
     "name": "stdout",
     "output_type": "stream",
     "text": [
      "precision=[0.63636364 0.2        0.66176471], recall=[0.8125     0.11111111 0.51724138], f1=[0.71372549 0.14285714 0.58064516], accuracy=0.62\n",
      "[*] predict with lsvc model\n"
     ]
    },
    {
     "name": "stderr",
     "output_type": "stream",
     "text": [
      "/scratch_ssd/hpda/anaconda3/envs/gluonts/lib/python3.6/site-packages/sklearn/svm/_base.py:947: ConvergenceWarning: Liblinear failed to converge, increase the number of iterations.\n",
      "  \"the number of iterations.\", ConvergenceWarning)\n",
      "/scratch_ssd/hpda/anaconda3/envs/gluonts/lib/python3.6/site-packages/sklearn/metrics/_classification.py:1272: UndefinedMetricWarning: Precision is ill-defined and being set to 0.0 in labels with no predicted samples. Use `zero_division` parameter to control this behavior.\n",
      "  _warn_prf(average, modifier, msg_start, len(result))\n"
     ]
    },
    {
     "name": "stdout",
     "output_type": "stream",
     "text": [
      "precision=[0.58709677 0.         0.6056338 ], recall=[0.8125     0.         0.49425287], f1=[0.68164794 0.         0.5443038 ], accuracy=0.59\n",
      "[*] predict with lsvcl2 model\n"
     ]
    },
    {
     "name": "stderr",
     "output_type": "stream",
     "text": [
      "/scratch_ssd/hpda/anaconda3/envs/gluonts/lib/python3.6/site-packages/sklearn/svm/_base.py:947: ConvergenceWarning: Liblinear failed to converge, increase the number of iterations.\n",
      "  \"the number of iterations.\", ConvergenceWarning)\n"
     ]
    },
    {
     "name": "stdout",
     "output_type": "stream",
     "text": [
      "precision=[0.52358491 0.         0.84615385], recall=[0.99107143 0.         0.12643678], f1=[0.68518519 0.         0.22      ], accuracy=0.54\n",
      "[*] predict with rf model\n",
      "precision=[0.62686567 0.         0.59550562], recall=[0.75      0.        0.6091954], f1=[0.68292683 0.         0.60227273], accuracy=0.61\n",
      "[*] predict with lrbias model\n"
     ]
    },
    {
     "name": "stderr",
     "output_type": "stream",
     "text": [
      "[Parallel(n_jobs=-1)]: Using backend LokyBackend with 20 concurrent workers.\n",
      "[Parallel(n_jobs=-1)]: Done   1 out of   1 | elapsed:    0.4s finished\n"
     ]
    },
    {
     "name": "stdout",
     "output_type": "stream",
     "text": [
      "precision=[0.61333333 0.2        0.68852459], recall=[0.82142857 0.11111111 0.48275862], f1=[0.70229008 0.14285714 0.56756757], accuracy=0.61\n",
      "[*] predict with xgb model\n",
      "precision=[0.61344538 0.16666667 0.54736842], recall=[0.65178571 0.07407407 0.59770115], f1=[0.63203463 0.1025641  0.57142857], accuracy=0.56\n",
      "rec:['Indy500-2016', 1087, 226, '+:87,0:27,-:112', 0.11946902654867257, 0.3141592920353982, 0.4336283185840708, 0.6150442477876106, 0.5929203539823009, 0.5398230088495575, 0.6061946902654868, 0.6061946902654868, 0.5619469026548672]\n",
      "Testset = Indy500-2017\n",
      "[*] predict with currank model\n",
      "precision=[0.         0.20465116 0.        ], recall=[0. 1. 0.], f1=[0.         0.33976834 0.        ], accuracy=0.20\n",
      "[*] predict with avgrank model\n",
      "precision=[0.42857143 0.33333333 0.25641026], recall=[0.48571429 0.13636364 0.3030303 ], f1=[0.45535714 0.19354839 0.27777778], accuracy=0.36\n",
      "[*] predict with dice model\n",
      "precision=[0.5        0.16666667 0.28985507], recall=[0.58095238 0.09090909 0.3030303 ], f1=[0.53744493 0.11764706 0.2962963 ], accuracy=0.40\n",
      "[*] predict with lr model\n"
     ]
    },
    {
     "name": "stderr",
     "output_type": "stream",
     "text": [
      "/scratch_ssd/hpda/anaconda3/envs/gluonts/lib/python3.6/site-packages/sklearn/metrics/_classification.py:1272: UndefinedMetricWarning: Precision is ill-defined and being set to 0.0 in labels with no predicted samples. Use `zero_division` parameter to control this behavior.\n",
      "  _warn_prf(average, modifier, msg_start, len(result))\n"
     ]
    },
    {
     "name": "stdout",
     "output_type": "stream",
     "text": [
      "precision=[0.75609756 0.20134228 0.44      ], recall=[0.2952381  0.68181818 0.16666667], f1=[0.42465753 0.31088083 0.24175824], accuracy=0.33\n",
      "[*] predict with lsvc model\n"
     ]
    },
    {
     "name": "stderr",
     "output_type": "stream",
     "text": [
      "/scratch_ssd/hpda/anaconda3/envs/gluonts/lib/python3.6/site-packages/sklearn/svm/_base.py:947: ConvergenceWarning: Liblinear failed to converge, increase the number of iterations.\n",
      "  \"the number of iterations.\", ConvergenceWarning)\n"
     ]
    },
    {
     "name": "stdout",
     "output_type": "stream",
     "text": [
      "precision=[0.76190476 0.20805369 0.5       ], recall=[0.3047619  0.70454545 0.18181818], f1=[0.43537415 0.32124352 0.26666667], accuracy=0.35\n",
      "[*] predict with lsvcl2 model\n"
     ]
    },
    {
     "name": "stderr",
     "output_type": "stream",
     "text": [
      "/scratch_ssd/hpda/anaconda3/envs/gluonts/lib/python3.6/site-packages/sklearn/svm/_base.py:947: ConvergenceWarning: Liblinear failed to converge, increase the number of iterations.\n",
      "  \"the number of iterations.\", ConvergenceWarning)\n"
     ]
    },
    {
     "name": "stdout",
     "output_type": "stream",
     "text": [
      "precision=[0.88888889 0.19672131 0.43478261], recall=[0.07619048 0.81818182 0.15151515], f1=[0.14035088 0.31718062 0.2247191 ], accuracy=0.25\n",
      "[*] predict with rf model\n",
      "precision=[0.57758621 0.37209302 0.60714286], recall=[0.63809524 0.36363636 0.51515152], f1=[0.60633484 0.36781609 0.55737705], accuracy=0.54\n",
      "[*] predict with lrbias model\n"
     ]
    },
    {
     "name": "stderr",
     "output_type": "stream",
     "text": [
      "[Parallel(n_jobs=-1)]: Using backend LokyBackend with 20 concurrent workers.\n",
      "[Parallel(n_jobs=-1)]: Done   1 out of   1 | elapsed:    0.5s finished\n"
     ]
    },
    {
     "name": "stdout",
     "output_type": "stream",
     "text": [
      "precision=[0.72093023 0.20134228 0.43478261], recall=[0.2952381  0.68181818 0.15151515], f1=[0.41891892 0.31088083 0.2247191 ], accuracy=0.33\n",
      "[*] predict with xgb model\n",
      "precision=[0.65277778 0.29347826 0.56862745], recall=[0.44761905 0.61363636 0.43939394], f1=[0.53107345 0.39705882 0.4957265 ], accuracy=0.48\n",
      "rec:['Indy500-2017', 1098, 215, '+:66,0:44,-:105', 0.20465116279069767, 0.3581395348837209, 0.3953488372093023, 0.33488372093023255, 0.3488372093023256, 0.25116279069767444, 0.5441860465116279, 0.3302325581395349, 0.4790697674418605]\n",
      "Testset = Indy500-2018\n",
      "[*] predict with currank model\n",
      "precision=[0.         0.10062893 0.        ], recall=[0. 1. 0.], f1=[0.         0.18285714 0.        ], accuracy=0.10\n",
      "[*] predict with avgrank model\n",
      "precision=[0.34615385 0.         0.22222222], recall=[0.34177215 0.         0.25      ], f1=[0.34394904 0.         0.23529412], accuracy=0.27\n",
      "[*] predict with dice model\n",
      "precision=[0.53333333 0.19047619 0.41666667], recall=[0.60759494 0.25       0.3125    ], f1=[0.56804734 0.21621622 0.35714286], accuracy=0.45\n",
      "[*] predict with lr model\n"
     ]
    },
    {
     "name": "stderr",
     "output_type": "stream",
     "text": [
      "/scratch_ssd/hpda/anaconda3/envs/gluonts/lib/python3.6/site-packages/sklearn/metrics/_classification.py:1272: UndefinedMetricWarning: Precision is ill-defined and being set to 0.0 in labels with no predicted samples. Use `zero_division` parameter to control this behavior.\n",
      "  _warn_prf(average, modifier, msg_start, len(result))\n"
     ]
    },
    {
     "name": "stdout",
     "output_type": "stream",
     "text": [
      "precision=[0.62280702 0.         0.72727273], recall=[0.89873418 0.         0.5       ], f1=[0.7357513  0.         0.59259259], accuracy=0.65\n",
      "[*] predict with lsvc model\n"
     ]
    },
    {
     "name": "stderr",
     "output_type": "stream",
     "text": [
      "/scratch_ssd/hpda/anaconda3/envs/gluonts/lib/python3.6/site-packages/sklearn/svm/_base.py:947: ConvergenceWarning: Liblinear failed to converge, increase the number of iterations.\n",
      "  \"the number of iterations.\", ConvergenceWarning)\n",
      "/scratch_ssd/hpda/anaconda3/envs/gluonts/lib/python3.6/site-packages/sklearn/metrics/_classification.py:1272: UndefinedMetricWarning: Precision is ill-defined and being set to 0.0 in labels with no predicted samples. Use `zero_division` parameter to control this behavior.\n",
      "  _warn_prf(average, modifier, msg_start, len(result))\n"
     ]
    },
    {
     "name": "stdout",
     "output_type": "stream",
     "text": [
      "precision=[0.60683761 0.         0.71428571], recall=[0.89873418 0.         0.46875   ], f1=[0.7244898  0.         0.56603774], accuracy=0.64\n",
      "[*] predict with lsvcl2 model\n"
     ]
    },
    {
     "name": "stderr",
     "output_type": "stream",
     "text": [
      "/scratch_ssd/hpda/anaconda3/envs/gluonts/lib/python3.6/site-packages/sklearn/svm/_base.py:947: ConvergenceWarning: Liblinear failed to converge, increase the number of iterations.\n",
      "  \"the number of iterations.\", ConvergenceWarning)\n",
      "/scratch_ssd/hpda/anaconda3/envs/gluonts/lib/python3.6/site-packages/sklearn/metrics/_classification.py:1272: UndefinedMetricWarning: Precision is ill-defined and being set to 0.0 in labels with no predicted samples. Use `zero_division` parameter to control this behavior.\n",
      "  _warn_prf(average, modifier, msg_start, len(result))\n"
     ]
    },
    {
     "name": "stdout",
     "output_type": "stream",
     "text": [
      "precision=[0.70833333 0.         0.51351351], recall=[0.43037975 0.         0.890625  ], f1=[0.53543307 0.         0.65142857], accuracy=0.57\n",
      "[*] predict with rf model\n"
     ]
    },
    {
     "name": "stderr",
     "output_type": "stream",
     "text": [
      "/scratch_ssd/hpda/anaconda3/envs/gluonts/lib/python3.6/site-packages/sklearn/metrics/_classification.py:1272: UndefinedMetricWarning: Precision is ill-defined and being set to 0.0 in labels with no predicted samples. Use `zero_division` parameter to control this behavior.\n",
      "  _warn_prf(average, modifier, msg_start, len(result))\n",
      "[Parallel(n_jobs=-1)]: Using backend LokyBackend with 20 concurrent workers.\n"
     ]
    },
    {
     "name": "stdout",
     "output_type": "stream",
     "text": [
      "precision=[0.63106796 0.         0.67857143], recall=[0.82278481 0.         0.59375   ], f1=[0.71428571 0.         0.63333333], accuracy=0.65\n",
      "[*] predict with lrbias model\n"
     ]
    },
    {
     "name": "stderr",
     "output_type": "stream",
     "text": [
      "[Parallel(n_jobs=-1)]: Done   1 out of   1 | elapsed:    0.5s finished\n",
      "/scratch_ssd/hpda/anaconda3/envs/gluonts/lib/python3.6/site-packages/sklearn/metrics/_classification.py:1272: UndefinedMetricWarning: Precision is ill-defined and being set to 0.0 in labels with no predicted samples. Use `zero_division` parameter to control this behavior.\n",
      "  _warn_prf(average, modifier, msg_start, len(result))\n"
     ]
    },
    {
     "name": "stdout",
     "output_type": "stream",
     "text": [
      "precision=[0.6173913  0.         0.72727273], recall=[0.89873418 0.         0.5       ], f1=[0.73195876 0.         0.59259259], accuracy=0.65\n",
      "[*] predict with xgb model\n",
      "precision=[0.5974026  0.4        0.55844156], recall=[0.58227848 0.125      0.671875  ], f1=[0.58974359 0.19047619 0.60992908], accuracy=0.57\n",
      "rec:['Indy500-2018', 1154, 159, '+:64,0:16,-:79', 0.10062893081761007, 0.27044025157232704, 0.4528301886792453, 0.6477987421383647, 0.6352201257861635, 0.5723270440251572, 0.6477987421383647, 0.6477987421383647, 0.5723270440251572]\n",
      "Testset = Indy500-2019\n",
      "[*] predict with currank model\n",
      "precision=[0.         0.15135135 0.        ], recall=[0. 1. 0.], f1=[0.        0.2629108 0.       ], accuracy=0.15\n",
      "[*] predict with avgrank model\n",
      "precision=[0.45783133 0.14285714 0.21052632], recall=[0.38383838 0.03571429 0.34482759], f1=[0.41758242 0.05714286 0.26143791], accuracy=0.32\n",
      "[*] predict with dice model\n",
      "precision=[0.53333333 0.15       0.26666667], recall=[0.56565657 0.10714286 0.27586207], f1=[0.54901961 0.125      0.27118644], accuracy=0.41\n",
      "[*] predict with lr model\n",
      "precision=[0.64485981 0.5        0.55263158], recall=[0.6969697  0.03571429 0.72413793], f1=[0.66990291 0.06666667 0.62686567], accuracy=0.61\n",
      "[*] predict with lsvc model\n"
     ]
    },
    {
     "name": "stderr",
     "output_type": "stream",
     "text": [
      "/scratch_ssd/hpda/anaconda3/envs/gluonts/lib/python3.6/site-packages/sklearn/svm/_base.py:947: ConvergenceWarning: Liblinear failed to converge, increase the number of iterations.\n",
      "  \"the number of iterations.\", ConvergenceWarning)\n"
     ]
    },
    {
     "name": "stdout",
     "output_type": "stream",
     "text": [
      "precision=[0.67647059 1.         0.56790123], recall=[0.6969697  0.07142857 0.79310345], f1=[0.68656716 0.13333333 0.6618705 ], accuracy=0.63\n",
      "[*] predict with lsvcl2 model\n"
     ]
    },
    {
     "name": "stderr",
     "output_type": "stream",
     "text": [
      "/scratch_ssd/hpda/anaconda3/envs/gluonts/lib/python3.6/site-packages/sklearn/svm/_base.py:947: ConvergenceWarning: Liblinear failed to converge, increase the number of iterations.\n",
      "  \"the number of iterations.\", ConvergenceWarning)\n",
      "/scratch_ssd/hpda/anaconda3/envs/gluonts/lib/python3.6/site-packages/sklearn/metrics/_classification.py:1272: UndefinedMetricWarning: Precision is ill-defined and being set to 0.0 in labels with no predicted samples. Use `zero_division` parameter to control this behavior.\n",
      "  _warn_prf(average, modifier, msg_start, len(result))\n"
     ]
    },
    {
     "name": "stdout",
     "output_type": "stream",
     "text": [
      "precision=[0.63793103 0.         0.56521739], recall=[0.74747475 0.         0.67241379], f1=[0.68837209 0.         0.61417323], accuracy=0.61\n",
      "[*] predict with rf model\n"
     ]
    },
    {
     "name": "stderr",
     "output_type": "stream",
     "text": [
      "/scratch_ssd/hpda/anaconda3/envs/gluonts/lib/python3.6/site-packages/sklearn/metrics/_classification.py:1272: UndefinedMetricWarning: Precision is ill-defined and being set to 0.0 in labels with no predicted samples. Use `zero_division` parameter to control this behavior.\n",
      "  _warn_prf(average, modifier, msg_start, len(result))\n",
      "[Parallel(n_jobs=-1)]: Using backend LokyBackend with 20 concurrent workers.\n"
     ]
    },
    {
     "name": "stdout",
     "output_type": "stream",
     "text": [
      "precision=[0.61607143 0.         0.50684932], recall=[0.6969697  0.         0.63793103], f1=[0.65402844 0.         0.5648855 ], accuracy=0.57\n",
      "[*] predict with lrbias model\n"
     ]
    },
    {
     "name": "stderr",
     "output_type": "stream",
     "text": [
      "[Parallel(n_jobs=-1)]: Done   1 out of   1 | elapsed:    0.4s finished\n"
     ]
    },
    {
     "name": "stdout",
     "output_type": "stream",
     "text": [
      "precision=[0.6509434  0.         0.55128205], recall=[0.6969697  0.         0.74137931], f1=[0.67317073 0.         0.63235294], accuracy=0.61\n",
      "[*] predict with xgb model\n",
      "precision=[0.64150943 0.2        0.54054054], recall=[0.68686869 0.03571429 0.68965517], f1=[0.66341463 0.06060606 0.60606061], accuracy=0.59\n",
      "rec:['Indy500-2019', 1128, 185, '+:58,0:28,-:99', 0.15135135135135136, 0.31891891891891894, 0.40540540540540543, 0.6054054054054054, 0.6324324324324324, 0.6108108108108108, 0.572972972972973, 0.6054054054054054, 0.5891891891891892]\n"
     ]
    }
   ],
   "source": [
    "cols = ['runid','trainsize','testsize','testdistribution']\n",
    "cols.extend(classifiers)\n",
    "print('cols:%s'%cols)\n",
    "retdf = pd.DataFrame([],columns=cols)\n",
    "\n",
    "\n",
    "events = set(stagedata['eventid'])\n",
    "\n",
    "years = ['2013','2014','2015','2016','2017','2018','2019']\n",
    "#events = ['Indy500']\n",
    "eventsname = [f'Indy500-{x}' for x in years]\n",
    "events_id={key:idx for idx, key in enumerate(eventsname)}\n",
    "\n",
    "\n",
    "for eventid in events:\n",
    "    print('Testset = %s'%eventsname[eventid])\n",
    "    \n",
    "    train, test, train_x, train_y, test_x, test_y = split_by_eventid(stagedata, eventid)\n",
    "    test_distribution = '+:%d,0:%d,-:%d'%(np.sum(test_y>0),np.sum(test_y==0),np.sum(test_y<0))\n",
    "    #print('Testset by stageid= %s, trainsize=%d, testsize=%d, dist=%s'%\n",
    "    #      (stageid, train_x.shape[0], test_x.shape[0], test_distribution))\n",
    "    \n",
    "    #record\n",
    "    rec = [eventsname[eventid],train_x.shape[0],test_x.shape[0],test_distribution]\n",
    "    \n",
    "    acc = [0 for x in range(len(classifiers))]\n",
    "    for idx, clf in enumerate(classifiers):\n",
    "        acc[idx] = classifier_model(clf)\n",
    "\n",
    "    rec.extend(acc)\n",
    "    print('rec:%s'%rec)\n",
    "    \n",
    "    #new df\n",
    "    df = pd.DataFrame([rec],columns=cols)\n",
    "    retdf = pd.concat([retdf, df])        \n",
    "    \n",
    "retdf.to_csv('crossvalid_stagedata_splitbyevent%s.csv'%suffix)\n",
    "df_event = retdf"
   ]
  },
  {
   "cell_type": "code",
   "execution_count": 7,
   "metadata": {},
   "outputs": [
    {
     "data": {
      "text/html": [
       "<div>\n",
       "<style scoped>\n",
       "    .dataframe tbody tr th:only-of-type {\n",
       "        vertical-align: middle;\n",
       "    }\n",
       "\n",
       "    .dataframe tbody tr th {\n",
       "        vertical-align: top;\n",
       "    }\n",
       "\n",
       "    .dataframe thead th {\n",
       "        text-align: right;\n",
       "    }\n",
       "</style>\n",
       "<table border=\"1\" class=\"dataframe\">\n",
       "  <thead>\n",
       "    <tr style=\"text-align: right;\">\n",
       "      <th></th>\n",
       "      <th>runid</th>\n",
       "      <th>trainsize</th>\n",
       "      <th>testsize</th>\n",
       "      <th>testdistribution</th>\n",
       "      <th>currank</th>\n",
       "      <th>avgrank</th>\n",
       "      <th>dice</th>\n",
       "      <th>lr</th>\n",
       "      <th>lsvc</th>\n",
       "      <th>lsvcl2</th>\n",
       "      <th>rf</th>\n",
       "      <th>lrbias</th>\n",
       "      <th>xgb</th>\n",
       "    </tr>\n",
       "  </thead>\n",
       "  <tbody>\n",
       "    <tr>\n",
       "      <th>0</th>\n",
       "      <td>Indy500-2013</td>\n",
       "      <td>1147</td>\n",
       "      <td>166</td>\n",
       "      <td>+:59,0:27,-:80</td>\n",
       "      <td>0.162651</td>\n",
       "      <td>0.313253</td>\n",
       "      <td>0.361446</td>\n",
       "      <td>0.560241</td>\n",
       "      <td>0.566265</td>\n",
       "      <td>0.542169</td>\n",
       "      <td>0.560241</td>\n",
       "      <td>0.548193</td>\n",
       "      <td>0.542169</td>\n",
       "    </tr>\n",
       "    <tr>\n",
       "      <th>0</th>\n",
       "      <td>Indy500-2014</td>\n",
       "      <td>1118</td>\n",
       "      <td>195</td>\n",
       "      <td>+:57,0:33,-:105</td>\n",
       "      <td>0.169231</td>\n",
       "      <td>0.312821</td>\n",
       "      <td>0.441026</td>\n",
       "      <td>0.615385</td>\n",
       "      <td>0.605128</td>\n",
       "      <td>0.461538</td>\n",
       "      <td>0.584615</td>\n",
       "      <td>0.610256</td>\n",
       "      <td>0.564103</td>\n",
       "    </tr>\n",
       "    <tr>\n",
       "      <th>0</th>\n",
       "      <td>Indy500-2015</td>\n",
       "      <td>1146</td>\n",
       "      <td>167</td>\n",
       "      <td>+:67,0:21,-:79</td>\n",
       "      <td>0.125749</td>\n",
       "      <td>0.281437</td>\n",
       "      <td>0.437126</td>\n",
       "      <td>0.580838</td>\n",
       "      <td>0.586826</td>\n",
       "      <td>0.520958</td>\n",
       "      <td>0.664671</td>\n",
       "      <td>0.586826</td>\n",
       "      <td>0.604790</td>\n",
       "    </tr>\n",
       "    <tr>\n",
       "      <th>0</th>\n",
       "      <td>Indy500-2016</td>\n",
       "      <td>1087</td>\n",
       "      <td>226</td>\n",
       "      <td>+:87,0:27,-:112</td>\n",
       "      <td>0.119469</td>\n",
       "      <td>0.314159</td>\n",
       "      <td>0.433628</td>\n",
       "      <td>0.615044</td>\n",
       "      <td>0.592920</td>\n",
       "      <td>0.539823</td>\n",
       "      <td>0.606195</td>\n",
       "      <td>0.606195</td>\n",
       "      <td>0.561947</td>\n",
       "    </tr>\n",
       "    <tr>\n",
       "      <th>0</th>\n",
       "      <td>Indy500-2017</td>\n",
       "      <td>1098</td>\n",
       "      <td>215</td>\n",
       "      <td>+:66,0:44,-:105</td>\n",
       "      <td>0.204651</td>\n",
       "      <td>0.358140</td>\n",
       "      <td>0.395349</td>\n",
       "      <td>0.334884</td>\n",
       "      <td>0.348837</td>\n",
       "      <td>0.251163</td>\n",
       "      <td>0.544186</td>\n",
       "      <td>0.330233</td>\n",
       "      <td>0.479070</td>\n",
       "    </tr>\n",
       "    <tr>\n",
       "      <th>0</th>\n",
       "      <td>Indy500-2018</td>\n",
       "      <td>1154</td>\n",
       "      <td>159</td>\n",
       "      <td>+:64,0:16,-:79</td>\n",
       "      <td>0.100629</td>\n",
       "      <td>0.270440</td>\n",
       "      <td>0.452830</td>\n",
       "      <td>0.647799</td>\n",
       "      <td>0.635220</td>\n",
       "      <td>0.572327</td>\n",
       "      <td>0.647799</td>\n",
       "      <td>0.647799</td>\n",
       "      <td>0.572327</td>\n",
       "    </tr>\n",
       "    <tr>\n",
       "      <th>0</th>\n",
       "      <td>Indy500-2019</td>\n",
       "      <td>1128</td>\n",
       "      <td>185</td>\n",
       "      <td>+:58,0:28,-:99</td>\n",
       "      <td>0.151351</td>\n",
       "      <td>0.318919</td>\n",
       "      <td>0.405405</td>\n",
       "      <td>0.605405</td>\n",
       "      <td>0.632432</td>\n",
       "      <td>0.610811</td>\n",
       "      <td>0.572973</td>\n",
       "      <td>0.605405</td>\n",
       "      <td>0.589189</td>\n",
       "    </tr>\n",
       "  </tbody>\n",
       "</table>\n",
       "</div>"
      ],
      "text/plain": [
       "          runid trainsize testsize testdistribution   currank   avgrank  \\\n",
       "0  Indy500-2013      1147      166   +:59,0:27,-:80  0.162651  0.313253   \n",
       "0  Indy500-2014      1118      195  +:57,0:33,-:105  0.169231  0.312821   \n",
       "0  Indy500-2015      1146      167   +:67,0:21,-:79  0.125749  0.281437   \n",
       "0  Indy500-2016      1087      226  +:87,0:27,-:112  0.119469  0.314159   \n",
       "0  Indy500-2017      1098      215  +:66,0:44,-:105  0.204651  0.358140   \n",
       "0  Indy500-2018      1154      159   +:64,0:16,-:79  0.100629  0.270440   \n",
       "0  Indy500-2019      1128      185   +:58,0:28,-:99  0.151351  0.318919   \n",
       "\n",
       "       dice        lr      lsvc    lsvcl2        rf    lrbias       xgb  \n",
       "0  0.361446  0.560241  0.566265  0.542169  0.560241  0.548193  0.542169  \n",
       "0  0.441026  0.615385  0.605128  0.461538  0.584615  0.610256  0.564103  \n",
       "0  0.437126  0.580838  0.586826  0.520958  0.664671  0.586826  0.604790  \n",
       "0  0.433628  0.615044  0.592920  0.539823  0.606195  0.606195  0.561947  \n",
       "0  0.395349  0.334884  0.348837  0.251163  0.544186  0.330233  0.479070  \n",
       "0  0.452830  0.647799  0.635220  0.572327  0.647799  0.647799  0.572327  \n",
       "0  0.405405  0.605405  0.632432  0.610811  0.572973  0.605405  0.589189  "
      ]
     },
     "execution_count": 7,
     "metadata": {},
     "output_type": "execute_result"
    }
   ],
   "source": [
    "df_event"
   ]
  },
  {
   "cell_type": "code",
   "execution_count": 8,
   "metadata": {},
   "outputs": [
    {
     "data": {
      "text/html": [
       "<div>\n",
       "<style scoped>\n",
       "    .dataframe tbody tr th:only-of-type {\n",
       "        vertical-align: middle;\n",
       "    }\n",
       "\n",
       "    .dataframe tbody tr th {\n",
       "        vertical-align: top;\n",
       "    }\n",
       "\n",
       "    .dataframe thead th {\n",
       "        text-align: right;\n",
       "    }\n",
       "</style>\n",
       "<table border=\"1\" class=\"dataframe\">\n",
       "  <thead>\n",
       "    <tr style=\"text-align: right;\">\n",
       "      <th></th>\n",
       "      <th>Unnamed: 0</th>\n",
       "      <th>target</th>\n",
       "      <th>eventid</th>\n",
       "      <th>car_number</th>\n",
       "      <th>stageid</th>\n",
       "      <th>firststage</th>\n",
       "      <th>pit_in_caution</th>\n",
       "      <th>start_position</th>\n",
       "      <th>start_rank</th>\n",
       "      <th>start_rank_ratio</th>\n",
       "      <th>...</th>\n",
       "      <th>laptime_std_all</th>\n",
       "      <th>laps_prev</th>\n",
       "      <th>laps_after_last_pitstop</th>\n",
       "      <th>pittime_prev</th>\n",
       "      <th>prev_nb0_change_in_rank</th>\n",
       "      <th>prev_nb1_change_in_rank</th>\n",
       "      <th>prev_nb2_change_in_rank</th>\n",
       "      <th>follow_nb0_change_in_rank</th>\n",
       "      <th>follow_nb1_change_in_rank</th>\n",
       "      <th>follow_nb2_change_in_rank</th>\n",
       "    </tr>\n",
       "  </thead>\n",
       "  <tbody>\n",
       "    <tr>\n",
       "      <th>1002</th>\n",
       "      <td>1172</td>\n",
       "      <td>2</td>\n",
       "      <td>5</td>\n",
       "      <td>12</td>\n",
       "      <td>1</td>\n",
       "      <td>1</td>\n",
       "      <td>0</td>\n",
       "      <td>3</td>\n",
       "      <td>4</td>\n",
       "      <td>0.121212</td>\n",
       "      <td>...</td>\n",
       "      <td>8.527139</td>\n",
       "      <td>32</td>\n",
       "      <td>32</td>\n",
       "      <td>66.10705</td>\n",
       "      <td>-1</td>\n",
       "      <td>0</td>\n",
       "      <td>0</td>\n",
       "      <td>0</td>\n",
       "      <td>-3</td>\n",
       "      <td>-5</td>\n",
       "    </tr>\n",
       "    <tr>\n",
       "      <th>1003</th>\n",
       "      <td>1173</td>\n",
       "      <td>-5</td>\n",
       "      <td>5</td>\n",
       "      <td>12</td>\n",
       "      <td>2</td>\n",
       "      <td>1</td>\n",
       "      <td>1</td>\n",
       "      <td>3</td>\n",
       "      <td>6</td>\n",
       "      <td>0.181818</td>\n",
       "      <td>...</td>\n",
       "      <td>11.242669</td>\n",
       "      <td>18</td>\n",
       "      <td>18</td>\n",
       "      <td>61.85245</td>\n",
       "      <td>-6</td>\n",
       "      <td>-5</td>\n",
       "      <td>0</td>\n",
       "      <td>6</td>\n",
       "      <td>3</td>\n",
       "      <td>3</td>\n",
       "    </tr>\n",
       "    <tr>\n",
       "      <th>1004</th>\n",
       "      <td>1174</td>\n",
       "      <td>1</td>\n",
       "      <td>5</td>\n",
       "      <td>12</td>\n",
       "      <td>3</td>\n",
       "      <td>1</td>\n",
       "      <td>0</td>\n",
       "      <td>3</td>\n",
       "      <td>1</td>\n",
       "      <td>0.030303</td>\n",
       "      <td>...</td>\n",
       "      <td>23.296174</td>\n",
       "      <td>44</td>\n",
       "      <td>44</td>\n",
       "      <td>117.01525</td>\n",
       "      <td>0</td>\n",
       "      <td>0</td>\n",
       "      <td>0</td>\n",
       "      <td>-3</td>\n",
       "      <td>3</td>\n",
       "      <td>3</td>\n",
       "    </tr>\n",
       "    <tr>\n",
       "      <th>1005</th>\n",
       "      <td>1175</td>\n",
       "      <td>6</td>\n",
       "      <td>5</td>\n",
       "      <td>12</td>\n",
       "      <td>4</td>\n",
       "      <td>1</td>\n",
       "      <td>0</td>\n",
       "      <td>3</td>\n",
       "      <td>2</td>\n",
       "      <td>0.060606</td>\n",
       "      <td>...</td>\n",
       "      <td>20.554273</td>\n",
       "      <td>35</td>\n",
       "      <td>35</td>\n",
       "      <td>59.24225</td>\n",
       "      <td>-3</td>\n",
       "      <td>0</td>\n",
       "      <td>0</td>\n",
       "      <td>2</td>\n",
       "      <td>1</td>\n",
       "      <td>0</td>\n",
       "    </tr>\n",
       "  </tbody>\n",
       "</table>\n",
       "<p>4 rows × 35 columns</p>\n",
       "</div>"
      ],
      "text/plain": [
       "      Unnamed: 0  target  eventid  car_number  stageid  firststage  \\\n",
       "1002        1172       2        5          12        1           1   \n",
       "1003        1173      -5        5          12        2           1   \n",
       "1004        1174       1        5          12        3           1   \n",
       "1005        1175       6        5          12        4           1   \n",
       "\n",
       "      pit_in_caution  start_position  start_rank  start_rank_ratio  ...  \\\n",
       "1002               0               3           4          0.121212  ...   \n",
       "1003               1               3           6          0.181818  ...   \n",
       "1004               0               3           1          0.030303  ...   \n",
       "1005               0               3           2          0.060606  ...   \n",
       "\n",
       "      laptime_std_all  laps_prev  laps_after_last_pitstop  pittime_prev  \\\n",
       "1002         8.527139         32                       32      66.10705   \n",
       "1003        11.242669         18                       18      61.85245   \n",
       "1004        23.296174         44                       44     117.01525   \n",
       "1005        20.554273         35                       35      59.24225   \n",
       "\n",
       "      prev_nb0_change_in_rank  prev_nb1_change_in_rank  \\\n",
       "1002                       -1                        0   \n",
       "1003                       -6                       -5   \n",
       "1004                        0                        0   \n",
       "1005                       -3                        0   \n",
       "\n",
       "      prev_nb2_change_in_rank  follow_nb0_change_in_rank  \\\n",
       "1002                        0                          0   \n",
       "1003                        0                          6   \n",
       "1004                        0                         -3   \n",
       "1005                        0                          2   \n",
       "\n",
       "      follow_nb1_change_in_rank  follow_nb2_change_in_rank  \n",
       "1002                         -3                         -5  \n",
       "1003                          3                          3  \n",
       "1004                          3                          3  \n",
       "1005                          1                          0  \n",
       "\n",
       "[4 rows x 35 columns]"
      ]
     },
     "execution_count": 8,
     "metadata": {},
     "output_type": "execute_result"
    }
   ],
   "source": [
    "stagedata[(stagedata['eventid']==5) & (stagedata['car_number']==12)]"
   ]
  },
  {
   "cell_type": "code",
   "execution_count": 9,
   "metadata": {},
   "outputs": [
    {
     "name": "stdout",
     "output_type": "stream",
     "text": [
      "cols:['runid', 'trainsize', 'testsize', 'testdistribution', 'currank', 'avgrank', 'dice', 'lr', 'lsvc', 'lsvcl2', 'rf', 'lrbias', 'xgb']\n",
      "Testset = Indy500-2018\n",
      "[*] predict with currank model\n",
      "precision=[0.         0.10062893 0.        ], recall=[0. 1. 0.], f1=[0.         0.18285714 0.        ], accuracy=0.10\n",
      "[*] predict with avgrank model\n",
      "precision=[0.34615385 0.         0.22222222], recall=[0.34177215 0.         0.25      ], f1=[0.34394904 0.         0.23529412], accuracy=0.27\n",
      "[*] predict with dice model\n",
      "precision=[0.53333333 0.19047619 0.41666667], recall=[0.60759494 0.25       0.3125    ], f1=[0.56804734 0.21621622 0.35714286], accuracy=0.45\n",
      "[*] predict with lr model\n"
     ]
    },
    {
     "name": "stderr",
     "output_type": "stream",
     "text": [
      "/scratch_ssd/hpda/anaconda3/envs/gluonts/lib/python3.6/site-packages/sklearn/metrics/_classification.py:1272: UndefinedMetricWarning: Precision is ill-defined and being set to 0.0 in labels with no predicted samples. Use `zero_division` parameter to control this behavior.\n",
      "  _warn_prf(average, modifier, msg_start, len(result))\n"
     ]
    },
    {
     "name": "stdout",
     "output_type": "stream",
     "text": [
      "precision=[0.64150943 0.         0.71153846], recall=[0.86075949 0.         0.578125  ], f1=[0.73513514 0.         0.63793103], accuracy=0.66\n",
      "[*] predict with lsvc model\n"
     ]
    },
    {
     "name": "stderr",
     "output_type": "stream",
     "text": [
      "/scratch_ssd/hpda/anaconda3/envs/gluonts/lib/python3.6/site-packages/sklearn/svm/_base.py:947: ConvergenceWarning: Liblinear failed to converge, increase the number of iterations.\n",
      "  \"the number of iterations.\", ConvergenceWarning)\n",
      "/scratch_ssd/hpda/anaconda3/envs/gluonts/lib/python3.6/site-packages/sklearn/metrics/_classification.py:1272: UndefinedMetricWarning: Precision is ill-defined and being set to 0.0 in labels with no predicted samples. Use `zero_division` parameter to control this behavior.\n",
      "  _warn_prf(average, modifier, msg_start, len(result))\n"
     ]
    },
    {
     "name": "stdout",
     "output_type": "stream",
     "text": [
      "precision=[0.6509434  0.         0.73584906], recall=[0.87341772 0.         0.609375  ], f1=[0.74594595 0.         0.66666667], accuracy=0.68\n",
      "[*] predict with lsvcl2 model\n"
     ]
    },
    {
     "name": "stderr",
     "output_type": "stream",
     "text": [
      "/scratch_ssd/hpda/anaconda3/envs/gluonts/lib/python3.6/site-packages/sklearn/svm/_base.py:947: ConvergenceWarning: Liblinear failed to converge, increase the number of iterations.\n",
      "  \"the number of iterations.\", ConvergenceWarning)\n",
      "/scratch_ssd/hpda/anaconda3/envs/gluonts/lib/python3.6/site-packages/sklearn/metrics/_classification.py:1272: UndefinedMetricWarning: Precision is ill-defined and being set to 0.0 in labels with no predicted samples. Use `zero_division` parameter to control this behavior.\n",
      "  _warn_prf(average, modifier, msg_start, len(result))\n"
     ]
    },
    {
     "name": "stdout",
     "output_type": "stream",
     "text": [
      "precision=[0.66304348 0.         0.64179104], recall=[0.7721519 0.        0.671875 ], f1=[0.71345029 0.         0.65648855], accuracy=0.65\n",
      "[*] predict with rf model\n"
     ]
    },
    {
     "name": "stderr",
     "output_type": "stream",
     "text": [
      "/scratch_ssd/hpda/anaconda3/envs/gluonts/lib/python3.6/site-packages/sklearn/metrics/_classification.py:1272: UndefinedMetricWarning: Precision is ill-defined and being set to 0.0 in labels with no predicted samples. Use `zero_division` parameter to control this behavior.\n",
      "  _warn_prf(average, modifier, msg_start, len(result))\n",
      "[Parallel(n_jobs=-1)]: Using backend LokyBackend with 20 concurrent workers.\n"
     ]
    },
    {
     "name": "stdout",
     "output_type": "stream",
     "text": [
      "precision=[0.63265306 0.         0.6557377 ], recall=[0.78481013 0.         0.625     ], f1=[0.70056497 0.         0.64      ], accuracy=0.64\n",
      "[*] predict with lrbias model\n"
     ]
    },
    {
     "name": "stderr",
     "output_type": "stream",
     "text": [
      "[Parallel(n_jobs=-1)]: Done   1 out of   1 | elapsed:    0.4s finished\n"
     ]
    },
    {
     "name": "stdout",
     "output_type": "stream",
     "text": [
      "precision=[0.63551402 0.         0.70588235], recall=[0.86075949 0.         0.5625    ], f1=[0.7311828  0.         0.62608696], accuracy=0.65\n",
      "[*] predict with xgb model\n",
      "precision=[0.65217391 0.125      0.53658537], recall=[0.56962025 0.0625     0.6875    ], f1=[0.60810811 0.08333333 0.60273973], accuracy=0.57\n",
      "rec:['Indy500-2018', 969, 159, '+:64,0:16,-:79', 0.10062893081761007, 0.27044025157232704, 0.4528301886792453, 0.660377358490566, 0.6792452830188679, 0.6540880503144654, 0.6415094339622641, 0.6540880503144654, 0.5660377358490566]\n",
      "Testset = Indy500-2019\n",
      "[*] predict with currank model\n",
      "precision=[0.         0.15135135 0.        ], recall=[0. 1. 0.], f1=[0.        0.2629108 0.       ], accuracy=0.15\n",
      "[*] predict with avgrank model\n",
      "precision=[0.45783133 0.14285714 0.21052632], recall=[0.38383838 0.03571429 0.34482759], f1=[0.41758242 0.05714286 0.26143791], accuracy=0.32\n",
      "[*] predict with dice model\n",
      "precision=[0.53333333 0.125      0.26785714], recall=[0.56565657 0.10714286 0.25862069], f1=[0.54901961 0.11538462 0.26315789], accuracy=0.40\n",
      "[*] predict with lr model\n"
     ]
    },
    {
     "name": "stderr",
     "output_type": "stream",
     "text": [
      "/scratch_ssd/hpda/anaconda3/envs/gluonts/lib/python3.6/site-packages/sklearn/metrics/_classification.py:1272: UndefinedMetricWarning: Precision is ill-defined and being set to 0.0 in labels with no predicted samples. Use `zero_division` parameter to control this behavior.\n",
      "  _warn_prf(average, modifier, msg_start, len(result))\n"
     ]
    },
    {
     "name": "stdout",
     "output_type": "stream",
     "text": [
      "precision=[0.65454545 0.5        0.57534247], recall=[0.72727273 0.03571429 0.72413793], f1=[0.68899522 0.06666667 0.64122137], accuracy=0.62\n",
      "[*] predict with lsvc model\n"
     ]
    },
    {
     "name": "stderr",
     "output_type": "stream",
     "text": [
      "/scratch_ssd/hpda/anaconda3/envs/gluonts/lib/python3.6/site-packages/sklearn/svm/_base.py:947: ConvergenceWarning: Liblinear failed to converge, increase the number of iterations.\n",
      "  \"the number of iterations.\", ConvergenceWarning)\n"
     ]
    },
    {
     "name": "stdout",
     "output_type": "stream",
     "text": [
      "precision=[0.65454545 1.         0.58108108], recall=[0.72727273 0.03571429 0.74137931], f1=[0.68899522 0.06896552 0.65151515], accuracy=0.63\n",
      "[*] predict with lsvcl2 model\n"
     ]
    },
    {
     "name": "stderr",
     "output_type": "stream",
     "text": [
      "/scratch_ssd/hpda/anaconda3/envs/gluonts/lib/python3.6/site-packages/sklearn/svm/_base.py:947: ConvergenceWarning: Liblinear failed to converge, increase the number of iterations.\n",
      "  \"the number of iterations.\", ConvergenceWarning)\n"
     ]
    },
    {
     "name": "stdout",
     "output_type": "stream",
     "text": [
      "precision=[0.672      0.25       0.61538462], recall=[0.84848485 0.07142857 0.55172414], f1=[0.75       0.11111111 0.58181818], accuracy=0.64\n",
      "[*] predict with rf model\n"
     ]
    },
    {
     "name": "stderr",
     "output_type": "stream",
     "text": [
      "/scratch_ssd/hpda/anaconda3/envs/gluonts/lib/python3.6/site-packages/sklearn/metrics/_classification.py:1272: UndefinedMetricWarning: Precision is ill-defined and being set to 0.0 in labels with no predicted samples. Use `zero_division` parameter to control this behavior.\n",
      "  _warn_prf(average, modifier, msg_start, len(result))\n",
      "[Parallel(n_jobs=-1)]: Using backend LokyBackend with 20 concurrent workers.\n"
     ]
    },
    {
     "name": "stdout",
     "output_type": "stream",
     "text": [
      "precision=[0.64761905 0.         0.55      ], recall=[0.68686869 0.         0.75862069], f1=[0.66666667 0.         0.63768116], accuracy=0.61\n",
      "[*] predict with lrbias model\n"
     ]
    },
    {
     "name": "stderr",
     "output_type": "stream",
     "text": [
      "[Parallel(n_jobs=-1)]: Done   1 out of   1 | elapsed:    0.5s finished\n"
     ]
    },
    {
     "name": "stdout",
     "output_type": "stream",
     "text": [
      "precision=[0.65178571 0.5        0.57746479], recall=[0.73737374 0.03571429 0.70689655], f1=[0.69194313 0.06666667 0.63565891], accuracy=0.62\n",
      "[*] predict with xgb model\n",
      "precision=[0.67346939 0.15789474 0.52941176], recall=[0.66666667 0.10714286 0.62068966], f1=[0.67005076 0.12765957 0.57142857], accuracy=0.57\n",
      "rec:['Indy500-2019', 969, 185, '+:58,0:28,-:99', 0.15135135135135136, 0.31891891891891894, 0.4, 0.6216216216216216, 0.6270270270270271, 0.6378378378378379, 0.6054054054054054, 0.6216216216216216, 0.5675675675675675]\n"
     ]
    },
    {
     "data": {
      "text/html": [
       "<div>\n",
       "<style scoped>\n",
       "    .dataframe tbody tr th:only-of-type {\n",
       "        vertical-align: middle;\n",
       "    }\n",
       "\n",
       "    .dataframe tbody tr th {\n",
       "        vertical-align: top;\n",
       "    }\n",
       "\n",
       "    .dataframe thead th {\n",
       "        text-align: right;\n",
       "    }\n",
       "</style>\n",
       "<table border=\"1\" class=\"dataframe\">\n",
       "  <thead>\n",
       "    <tr style=\"text-align: right;\">\n",
       "      <th></th>\n",
       "      <th>runid</th>\n",
       "      <th>trainsize</th>\n",
       "      <th>testsize</th>\n",
       "      <th>testdistribution</th>\n",
       "      <th>currank</th>\n",
       "      <th>avgrank</th>\n",
       "      <th>dice</th>\n",
       "      <th>lr</th>\n",
       "      <th>lsvc</th>\n",
       "      <th>lsvcl2</th>\n",
       "      <th>rf</th>\n",
       "      <th>lrbias</th>\n",
       "      <th>xgb</th>\n",
       "    </tr>\n",
       "  </thead>\n",
       "  <tbody>\n",
       "    <tr>\n",
       "      <th>0</th>\n",
       "      <td>Indy500-2018</td>\n",
       "      <td>969</td>\n",
       "      <td>159</td>\n",
       "      <td>+:64,0:16,-:79</td>\n",
       "      <td>0.100629</td>\n",
       "      <td>0.270440</td>\n",
       "      <td>0.45283</td>\n",
       "      <td>0.660377</td>\n",
       "      <td>0.679245</td>\n",
       "      <td>0.654088</td>\n",
       "      <td>0.641509</td>\n",
       "      <td>0.654088</td>\n",
       "      <td>0.566038</td>\n",
       "    </tr>\n",
       "    <tr>\n",
       "      <th>0</th>\n",
       "      <td>Indy500-2019</td>\n",
       "      <td>969</td>\n",
       "      <td>185</td>\n",
       "      <td>+:58,0:28,-:99</td>\n",
       "      <td>0.151351</td>\n",
       "      <td>0.318919</td>\n",
       "      <td>0.40000</td>\n",
       "      <td>0.621622</td>\n",
       "      <td>0.627027</td>\n",
       "      <td>0.637838</td>\n",
       "      <td>0.605405</td>\n",
       "      <td>0.621622</td>\n",
       "      <td>0.567568</td>\n",
       "    </tr>\n",
       "  </tbody>\n",
       "</table>\n",
       "</div>"
      ],
      "text/plain": [
       "          runid trainsize testsize testdistribution   currank   avgrank  \\\n",
       "0  Indy500-2018       969      159   +:64,0:16,-:79  0.100629  0.270440   \n",
       "0  Indy500-2019       969      185   +:58,0:28,-:99  0.151351  0.318919   \n",
       "\n",
       "      dice        lr      lsvc    lsvcl2        rf    lrbias       xgb  \n",
       "0  0.45283  0.660377  0.679245  0.654088  0.641509  0.654088  0.566038  \n",
       "0  0.40000  0.621622  0.627027  0.637838  0.605405  0.621622  0.567568  "
      ]
     },
     "execution_count": 9,
     "metadata": {},
     "output_type": "execute_result"
    }
   ],
   "source": [
    "### fix train\n",
    "#load data\n",
    "_trim = 0\n",
    "_include_final = False\n",
    "include_str = '1' if _include_final else '0'\n",
    "suffix = f'indy500-2013-2019-end{include_str}-t{_trim}'\n",
    "output_file = f'stage-indy500-2013-2019-end{include_str}-t{_trim}.csv'\n",
    "stagedata = pd.read_csv(output_file)\n",
    "stagedata.fillna(0, inplace=True)\n",
    "#stagedata.info()\n",
    "\n",
    "cols = ['runid','trainsize','testsize','testdistribution']\n",
    "cols.extend(classifiers)\n",
    "print('cols:%s'%cols)\n",
    "retdf = pd.DataFrame([],columns=cols)\n",
    "\n",
    "\n",
    "events = set(stagedata['eventid'])\n",
    "\n",
    "years = ['2013','2014','2015','2016','2017','2018','2019']\n",
    "#events = ['Indy500']\n",
    "eventsname = [f'Indy500-{x}' for x in years]\n",
    "events_id={key:idx for idx, key in enumerate(eventsname)}\n",
    "\n",
    "#first \n",
    "eventid = events_id['Indy500-2018']\n",
    "ignore_eventid = events_id['Indy500-2019']\n",
    "stdata_2018 = stagedata[stagedata['eventid']!=ignore_eventid]\n",
    "\n",
    "print('Testset = %s'%eventsname[eventid])\n",
    "\n",
    "train, test, train_x, train_y, test_x, test_y = split_by_eventid(stdata_2018, eventid)\n",
    "test_distribution = '+:%d,0:%d,-:%d'%(np.sum(test_y>0),np.sum(test_y==0),np.sum(test_y<0))\n",
    "#print('Testset by stageid= %s, trainsize=%d, testsize=%d, dist=%s'%\n",
    "#      (stageid, train_x.shape[0], test_x.shape[0], test_distribution))\n",
    "\n",
    "#record\n",
    "rec = [eventsname[eventid],train_x.shape[0],test_x.shape[0],test_distribution]\n",
    "\n",
    "acc = [0 for x in range(len(classifiers))]\n",
    "for idx, clf in enumerate(classifiers):\n",
    "    acc[idx] = classifier_model(clf)\n",
    "\n",
    "rec.extend(acc)\n",
    "print('rec:%s'%rec)\n",
    "\n",
    "#new df\n",
    "df = pd.DataFrame([rec],columns=cols)\n",
    "retdf = pd.concat([retdf, df])        \n",
    "\n",
    "\n",
    "eventid = events_id['Indy500-2019']\n",
    "ignore_eventid = events_id['Indy500-2018']\n",
    "stdata_2019 = stagedata[stagedata['eventid']!=ignore_eventid]\n",
    "\n",
    "print('Testset = %s'%eventsname[eventid])\n",
    "\n",
    "train2, test2, train_x2, train_y2, test_x, test_y = split_by_eventid(stdata_2019, eventid)\n",
    "test_distribution = '+:%d,0:%d,-:%d'%(np.sum(test_y>0),np.sum(test_y==0),np.sum(test_y<0))\n",
    "\n",
    "#record\n",
    "rec = [eventsname[eventid],train_x.shape[0],test_x.shape[0],test_distribution]\n",
    "\n",
    "acc = [0 for x in range(len(classifiers))]\n",
    "for idx, clf in enumerate(classifiers):\n",
    "    acc[idx] = classifier_model(clf)\n",
    "\n",
    "rec.extend(acc)\n",
    "print('rec:%s'%rec)\n",
    "\n",
    "#new df\n",
    "df = pd.DataFrame([rec],columns=cols)\n",
    "retdf = pd.concat([retdf, df]) \n",
    "retdf"
   ]
  },
  {
   "cell_type": "code",
   "execution_count": 10,
   "metadata": {},
   "outputs": [],
   "source": [
    "retdf.to_csv(f'stint_classifier_result_t2013-2017_t{_trim}.csv', float_format='%.3f')"
   ]
  },
  {
   "cell_type": "code",
   "execution_count": null,
   "metadata": {},
   "outputs": [],
   "source": []
  }
 ],
 "metadata": {
  "kernelspec": {
   "display_name": "Python 3",
   "language": "python",
   "name": "python3"
  },
  "language_info": {
   "codemirror_mode": {
    "name": "ipython",
    "version": 3
   },
   "file_extension": ".py",
   "mimetype": "text/x-python",
   "name": "python",
   "nbconvert_exporter": "python",
   "pygments_lexer": "ipython3",
   "version": "3.6.10"
  }
 },
 "nbformat": 4,
 "nbformat_minor": 2
}
