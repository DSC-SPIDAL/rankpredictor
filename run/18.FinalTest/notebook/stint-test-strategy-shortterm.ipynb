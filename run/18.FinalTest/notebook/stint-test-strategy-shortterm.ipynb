{
 "cells": [
  {
   "cell_type": "code",
   "execution_count": 1,
   "metadata": {},
   "outputs": [
    {
     "name": "stderr",
     "output_type": "stream",
     "text": [
      "INFO:root:Using GPU\n",
      "INFO:root:Using GPU\n",
      "INFO:root:Using GPU\n",
      "INFO:root:Using GPU\n",
      "INFO:root:Using GPU\n"
     ]
    }
   ],
   "source": [
    "%load_ext autoreload\n",
    "%autoreload 2\n",
    "\n",
    "%matplotlib inline\n",
    "import pandas as pd\n",
    "import numpy as np\n",
    "import matplotlib.pyplot as plt\n",
    "import os,sys\n",
    "import mxnet as mx\n",
    "from mxnet import gluon\n",
    "import pickle\n",
    "import json\n",
    "import random\n",
    "import inspect\n",
    "from scipy import stats\n",
    "from sklearn.metrics import mean_squared_error\n",
    "from gluonts.dataset.common import ListDataset\n",
    "from gluonts.dataset.util import to_pandas\n",
    "from pathlib import Path\n",
    "from gluonts.model.deepar import DeepAREstimator\n",
    "from gluonts.model.deep_factor import DeepFactorEstimator\n",
    "from gluonts.model.deepstate import DeepStateEstimator\n",
    "from gluonts.trainer import Trainer\n",
    "from gluonts.model.simple_feedforward import SimpleFeedForwardEstimator\n",
    "from gluonts.evaluation.backtest import make_evaluation_predictions\n",
    "from gluonts.evaluation import Evaluator, MultivariateEvaluator\n",
    "from gluonts.distribution.multivariate_gaussian import MultivariateGaussianOutput\n",
    "from gluonts.model.predictor import Predictor\n",
    "from gluonts.model.prophet import ProphetPredictor\n",
    "from gluonts.model.r_forecast import RForecastPredictor\n",
    "from indycar.model.NaivePredictor import NaivePredictor\n",
    "from indycar.model.ZeroPredictor import ZeroPredictor\n",
    "from pandas.plotting import register_matplotlib_converters\n",
    "register_matplotlib_converters()\n",
    "\n",
    "#from indycar.model.stint_predictor_fastrun import *\n",
    "import indycar.model.stint_simulator_shortterm_pitmodel as stint"
   ]
  },
  {
   "cell_type": "code",
   "execution_count": 18,
   "metadata": {},
   "outputs": [],
   "source": [
    "def simulation(datasetid, testevent, taskid, runts, expid, predictionlen, \n",
    "               datamode, loopcnt, featuremode = stint.FEATURE_STATUS,\n",
    "              pitmodel = 0):\n",
    "    #\n",
    "    # configurataion\n",
    "    #\n",
    "    # model path:  <_dataset_id>/<_task_id>-<trainid>/\n",
    "    #_dataset_id = 'indy2013-2018-nocarid'\n",
    "    stint.init(pitmodel)\n",
    "    stint._dataset_id = datasetid\n",
    "    stint._test_event = testevent\n",
    "    #_test_event = 'Indy500-2019'\n",
    "\n",
    "    stint._feature_mode = featuremode\n",
    "    stint._context_ratio = 0.\n",
    "\n",
    "    stint._task_id = taskid  # rank,laptime, the trained model's task\n",
    "    stint._run_ts = runts   #COL_LAPTIME,COL_RANK\n",
    "    stint._exp_id=expid  #rank, laptime, laptim2rank, timediff2rank... \n",
    "\n",
    "    stint._train_len = 40\n",
    "    predictor = stint.load_model(predictionlen, 'oracle',trainid='2018')\n",
    "\n",
    "    ret2 = {}\n",
    "    for i in range(loopcnt):\n",
    "        ret2[i] = stint.run_simulation_shortterm(predictor, predictionlen, stint.freq, datamode=datamode)\n",
    "\n",
    "    acc = []\n",
    "    for i in ret2.keys():\n",
    "        df = ret2[i]\n",
    "        _x = stint.get_evalret_shortterm(df)\n",
    "        acc.append(_x)\n",
    "\n",
    "    b = np.array(acc)\n",
    "    print(np.mean(b, axis=0))\n",
    "    \n",
    "    #save keys\n",
    "    stint._pitmodel.save_keys('pitmodel-keys.pickle')\n",
    "    \n",
    "    return b, ret2"
   ]
  },
  {
   "cell_type": "code",
   "execution_count": 28,
   "metadata": {},
   "outputs": [],
   "source": [
    "def test_pitmodel(modelfile, testevent, runts, loopcnt=10):\n",
    "    #pitmodel-m60-mlp-e500-l10-10-5-student-d0.1.pickle\n",
    "    if runts == 'RANK':\n",
    "        acc, ret = simulation('indy2013-2018-nocarid-context40', testevent, \n",
    "                    'rank',stint.COL_RANK,'rank',\n",
    "                   2, stint.MODE_ORACLE_LAPONLY,loopcnt, \n",
    "                      pitmodel=modelfile)        \n",
    "    else:\n",
    "        acc, ret = simulation('indy2013-2018-nocarid-context40', testevent, \n",
    "                        'timediff',stint.COL_TIMEDIFF,'timediff2rank',\n",
    "                       2, stint.MODE_ORACLE_LAPONLY,loopcnt, \n",
    "                          pitmodel=modelfile)\n",
    "\n",
    "    print(np.mean(acc, axis=0)  )"
   ]
  },
  {
   "cell_type": "markdown",
   "metadata": {},
   "source": [
    "### test low mode"
   ]
  },
  {
   "cell_type": "code",
   "execution_count": 16,
   "metadata": {},
   "outputs": [
    {
     "name": "stderr",
     "output_type": "stream",
     "text": [
      "/N/u/pengb/hpda/indycar/predictor/src/indycar/model/stint_simulator_shortterm_pitmodel.py:196: SettingWithCopyWarning: \n",
      "A value is trying to be set on a copy of a slice from a DataFrame\n",
      "\n",
      "See the caveats in the documentation: http://pandas.pydata.org/pandas-docs/stable/user_guide/indexing.html#returning-a-view-versus-a-copy\n",
      "  uni_ds['rank_diff'][mask] = 0\n",
      "/N/u/pengb/hpda/indycar/predictor/src/indycar/model/stint_simulator_shortterm_pitmodel.py:200: SettingWithCopyWarning: \n",
      "A value is trying to be set on a copy of a slice from a DataFrame\n",
      "\n",
      "See the caveats in the documentation: http://pandas.pydata.org/pandas-docs/stable/user_guide/indexing.html#returning-a-view-versus-a-copy\n",
      "  uni_ds['time_diff'][mask] = 0\n",
      "INFO:root:Using GPU\n"
     ]
    },
    {
     "name": "stdout",
     "output_type": "stream",
     "text": [
      "init: load dataset with 7 races, 58 cars\n",
      "init pitmodel as PitModelSimple\n",
      "predicting model=oracle, plen=2\n",
      "loading model...done!, ctx:gpu(0)\n",
      "pred: acc=0.7287234042553191, mae=1.5602996254681647, rmse=10.925468164794008,r2=0.847462547292267, acc_naive=0.7180851063829787, mae_naive=1.3393258426966292\n",
      "[ 0.7287234   1.56029963 10.92546816  0.84746255]\n",
      "save keys to pitmodel-keys.pickle.\n"
     ]
    }
   ],
   "source": [
    "acc, ret = simulation('indy2013-2018', 'Indy500-2018', \n",
    "                    'timediff',stint.COL_TIMEDIFF,'timediff2rank',\n",
    "                   2, stint.MODE_ORACLE_LAPONLY,1, pitmodel=1)"
   ]
  },
  {
   "cell_type": "code",
   "execution_count": 19,
   "metadata": {},
   "outputs": [
    {
     "name": "stderr",
     "output_type": "stream",
     "text": [
      "/N/u/pengb/hpda/indycar/predictor/src/indycar/model/stint_simulator_shortterm_pitmodel.py:196: SettingWithCopyWarning: \n",
      "A value is trying to be set on a copy of a slice from a DataFrame\n",
      "\n",
      "See the caveats in the documentation: http://pandas.pydata.org/pandas-docs/stable/user_guide/indexing.html#returning-a-view-versus-a-copy\n",
      "  uni_ds['rank_diff'][mask] = 0\n",
      "/N/u/pengb/hpda/indycar/predictor/src/indycar/model/stint_simulator_shortterm_pitmodel.py:200: SettingWithCopyWarning: \n",
      "A value is trying to be set on a copy of a slice from a DataFrame\n",
      "\n",
      "See the caveats in the documentation: http://pandas.pydata.org/pandas-docs/stable/user_guide/indexing.html#returning-a-view-versus-a-copy\n",
      "  uni_ds['time_diff'][mask] = 0\n",
      "INFO:root:Using GPU\n"
     ]
    },
    {
     "name": "stdout",
     "output_type": "stream",
     "text": [
      "init: load dataset with 7 races, 58 cars\n",
      "init pitmodel as PitModelSimple\n",
      "predicting model=oracle, plen=2\n",
      "loading model...done!, ctx:gpu(0)\n",
      "pred: acc=0.7287234042553191, mae=1.3808988764044945, rmse=10.080149812734083,r2=0.8592645777595582, acc_naive=0.7180851063829787, mae_naive=1.3393258426966292\n",
      "pred: acc=0.75, mae=1.3632958801498127, rmse=10.107490636704119,r2=0.8588828550195882, acc_naive=0.7180851063829787, mae_naive=1.3393258426966292\n",
      "pred: acc=0.7340425531914894, mae=1.4359550561797754, rmse=11.026591760299626,r2=0.8460506960622409, acc_naive=0.7180851063829787, mae_naive=1.3393258426966292\n",
      "pred: acc=0.7819148936170213, mae=1.4067415730337078, rmse=10.686142322097378,r2=0.8508039285366618, acc_naive=0.7180851063829787, mae_naive=1.3393258426966292\n",
      "pred: acc=0.7287234042553191, mae=1.3966292134831462, rmse=10.644569288389514,r2=0.8513843562645613, acc_naive=0.7180851063829787, mae_naive=1.3393258426966292\n",
      "pred: acc=0.7553191489361702, mae=1.3677902621722846, rmse=10.015355805243445,r2=0.8601692083625008, acc_naive=0.7180851063829787, mae_naive=1.3393258426966292\n",
      "pred: acc=0.7287234042553191, mae=1.404868913857678, rmse=10.255430711610487,r2=0.8568173689608465, acc_naive=0.7180851063829787, mae_naive=1.3393258426966292\n",
      "pred: acc=0.7393617021276596, mae=1.4262172284644195, rmse=10.961423220973783,r2=0.8469605557438132, acc_naive=0.7180851063829787, mae_naive=1.3393258426966292\n",
      "pred: acc=0.7340425531914894, mae=1.4104868913857678, rmse=10.526966292134832,r2=0.8530262869542953, acc_naive=0.7180851063829787, mae_naive=1.3393258426966292\n",
      "pred: acc=0.75, mae=1.3722846441947565, rmse=9.776779026217229,r2=0.8635001314496361, acc_naive=0.7180851063829787, mae_naive=1.3393258426966292\n",
      "[ 0.74308511  1.39651685 10.40808989  0.854686  ]\n",
      "save keys to pitmodel-keys.pickle.\n"
     ]
    },
    {
     "data": {
      "text/plain": [
       "array([ 0.74308511,  1.39651685, 10.40808989,  0.854686  ])"
      ]
     },
     "execution_count": 19,
     "metadata": {},
     "output_type": "execute_result"
    }
   ],
   "source": [
    "acc, ret = simulation('indy2013-2018-nocarid-context40', 'Indy500-2018', \n",
    "                    'timediff',stint.COL_TIMEDIFF,'timediff2rank',\n",
    "                   2, stint.MODE_ORACLE_LAPONLY,10, pitmodel=1)\n",
    "\n",
    "np.mean(acc, axis=0)    "
   ]
  },
  {
   "cell_type": "code",
   "execution_count": 22,
   "metadata": {},
   "outputs": [
    {
     "name": "stderr",
     "output_type": "stream",
     "text": [
      "/N/u/pengb/hpda/indycar/predictor/src/indycar/model/stint_simulator_shortterm_pitmodel.py:196: SettingWithCopyWarning: \n",
      "A value is trying to be set on a copy of a slice from a DataFrame\n",
      "\n",
      "See the caveats in the documentation: http://pandas.pydata.org/pandas-docs/stable/user_guide/indexing.html#returning-a-view-versus-a-copy\n",
      "  uni_ds['rank_diff'][mask] = 0\n",
      "/N/u/pengb/hpda/indycar/predictor/src/indycar/model/stint_simulator_shortterm_pitmodel.py:200: SettingWithCopyWarning: \n",
      "A value is trying to be set on a copy of a slice from a DataFrame\n",
      "\n",
      "See the caveats in the documentation: http://pandas.pydata.org/pandas-docs/stable/user_guide/indexing.html#returning-a-view-versus-a-copy\n",
      "  uni_ds['time_diff'][mask] = 0\n",
      "INFO:root:Using GPU\n"
     ]
    },
    {
     "name": "stdout",
     "output_type": "stream",
     "text": [
      "init: load dataset with 7 races, 58 cars\n",
      "init pitmodel as PitModelSimple\n",
      "predicting model=oracle, plen=2\n",
      "loading model...done!, ctx:gpu(0)\n",
      "pred: acc=0.7606382978723404, mae=1.3367041198501872, rmse=10.076404494382022,r2=0.8593168685458554, acc_naive=0.7180851063829787, mae_naive=1.3393258426966292\n",
      "pred: acc=0.7553191489361702, mae=1.3531835205992508, rmse=10.110861423220975,r2=0.8588357933119206, acc_naive=0.7180851063829787, mae_naive=1.3393258426966292\n",
      "pred: acc=0.7446808510638298, mae=1.357677902621723, rmse=10.21123595505618,r2=0.8574344002391542, acc_naive=0.7180851063829787, mae_naive=1.3393258426966292\n",
      "pred: acc=0.723404255319149, mae=1.3565543071161048, rmse=10.198876404494381,r2=0.8576069598339351, acc_naive=0.7180851063829787, mae_naive=1.3393258426966292\n",
      "pred: acc=0.7553191489361702, mae=1.347565543071161, rmse=10.105992509363295,r2=0.8589037713341071, acc_naive=0.7180851063829787, mae_naive=1.3393258426966292\n",
      "pred: acc=0.7340425531914894, mae=1.3269662921348315, rmse=9.734831460674158,r2=0.8640857882561654, acc_naive=0.7180851063829787, mae_naive=1.3393258426966292\n",
      "pred: acc=0.7553191489361702, mae=1.3662921348314607, rmse=10.312359550561798,r2=0.8560225490091282, acc_naive=0.7180851063829787, mae_naive=1.3393258426966292\n",
      "pred: acc=0.7606382978723404, mae=1.349438202247191, rmse=10.139700374531834,r2=0.8584331542574318, acc_naive=0.7180851063829787, mae_naive=1.3393258426966292\n",
      "pred: acc=0.7393617021276596, mae=1.3426966292134832, rmse=10.241947565543072,r2=0.8570056157915167, acc_naive=0.7180851063829787, mae_naive=1.3393258426966292\n",
      "pred: acc=0.7393617021276596, mae=1.3468164794007491, rmse=10.286142322097378,r2=0.856388584513209, acc_naive=0.7180851063829787, mae_naive=1.3393258426966292\n",
      "[ 0.74680851  1.34838951 10.14183521  0.85840335]\n",
      "save keys to pitmodel-keys.pickle.\n"
     ]
    },
    {
     "data": {
      "text/plain": [
       "array([ 0.74680851,  1.34838951, 10.14183521,  0.85840335])"
      ]
     },
     "execution_count": 22,
     "metadata": {},
     "output_type": "execute_result"
    }
   ],
   "source": [
    "acc, ret = simulation('indy2013-2018-nocarid-context40', 'Indy500-2018', \n",
    "                    'rank',stint.COL_RANK,'rank',\n",
    "                   2, stint.MODE_ORACLE_LAPONLY,10, \n",
    "                      pitmodel=1)\n",
    "\n",
    "np.mean(acc, axis=0) "
   ]
  },
  {
   "cell_type": "code",
   "execution_count": 7,
   "metadata": {},
   "outputs": [
    {
     "name": "stderr",
     "output_type": "stream",
     "text": [
      "INFO:root:Using GPU\n"
     ]
    },
    {
     "name": "stdout",
     "output_type": "stream",
     "text": [
      "init: load dataset with 7 races, 58 cars\n",
      "init pitmodel as PitModelSimple\n",
      "predicting model=oracle, plen=2\n",
      "loading model...done!, ctx:gpu(0)\n",
      "pred: acc=0.7553191489361702, mae=1.3614232209737829, rmse=9.75692883895131,r2=0.8637772726170116, acc_naive=0.7180851063829787, mae_naive=1.3393258426966292\n",
      "pred: acc=0.7553191489361702, mae=1.3464419475655431, rmse=9.806367041198502,r2=0.8630870342378878, acc_naive=0.7180851063829787, mae_naive=1.3393258426966292\n",
      "pred: acc=0.7287234042553191, mae=1.3842696629213482, rmse=10.260299625468164,r2=0.8567493909386601, acc_naive=0.7180851063829787, mae_naive=1.3393258426966292\n",
      "pred: acc=0.7287234042553191, mae=1.3737827715355806, rmse=9.913483146067415,r2=0.8615915177497862, acc_naive=0.7180851063829787, mae_naive=1.3393258426966292\n",
      "pred: acc=0.7606382978723404, mae=1.3749063670411985, rmse=9.912734082397003,r2=0.8616019759070457, acc_naive=0.7180851063829787, mae_naive=1.3393258426966292\n",
      "pred: acc=0.7446808510638298, mae=1.3636704119850187, rmse=9.710486891385768,r2=0.8644256783670976, acc_naive=0.7180851063829787, mae_naive=1.3393258426966292\n",
      "pred: acc=0.7446808510638298, mae=1.39812734082397, rmse=10.392883895131087,r2=0.8548982971037371, acc_naive=0.7180851063829787, mae_naive=1.3393258426966292\n",
      "pred: acc=0.75, mae=1.3932584269662922, rmse=10.393258426966293,r2=0.8548930680251074, acc_naive=0.7180851063829787, mae_naive=1.3393258426966292\n",
      "pred: acc=0.75, mae=1.3711610486891386, rmse=10.110861423220975,r2=0.8588357933119207, acc_naive=0.7180851063829787, mae_naive=1.3393258426966292\n",
      "pred: acc=0.75, mae=1.348314606741573, rmse=9.878277153558052,r2=0.8620830511409805, acc_naive=0.7180851063829787, mae_naive=1.3393258426966292\n",
      "[ 0.74680851  1.37153558 10.01355805  0.86019431]\n"
     ]
    },
    {
     "data": {
      "text/plain": [
       "array([ 0.74680851,  1.37153558, 10.01355805,  0.86019431])"
      ]
     },
     "execution_count": 7,
     "metadata": {},
     "output_type": "execute_result"
    }
   ],
   "source": [
    "acc, ret = simulation('indy2013-2018-nocarid-context40', 'Indy500-2018', \n",
    "                    'timediff',stint.COL_TIMEDIFF,'timediff2rank',\n",
    "                   2, stint.MODE_ORACLE_LAPONLY,10)\n",
    "\n",
    "np.mean(acc, axis=0)    "
   ]
  },
  {
   "cell_type": "code",
   "execution_count": 20,
   "metadata": {},
   "outputs": [
    {
     "name": "stderr",
     "output_type": "stream",
     "text": [
      "/N/u/pengb/hpda/indycar/predictor/src/indycar/model/stint_simulator_shortterm_pitmodel.py:196: SettingWithCopyWarning: \n",
      "A value is trying to be set on a copy of a slice from a DataFrame\n",
      "\n",
      "See the caveats in the documentation: http://pandas.pydata.org/pandas-docs/stable/user_guide/indexing.html#returning-a-view-versus-a-copy\n",
      "  uni_ds['rank_diff'][mask] = 0\n",
      "/N/u/pengb/hpda/indycar/predictor/src/indycar/model/stint_simulator_shortterm_pitmodel.py:200: SettingWithCopyWarning: \n",
      "A value is trying to be set on a copy of a slice from a DataFrame\n",
      "\n",
      "See the caveats in the documentation: http://pandas.pydata.org/pandas-docs/stable/user_guide/indexing.html#returning-a-view-versus-a-copy\n",
      "  uni_ds['time_diff'][mask] = 0\n",
      "INFO:root:Using GPU\n"
     ]
    },
    {
     "name": "stdout",
     "output_type": "stream",
     "text": [
      "init: load dataset with 7 races, 58 cars\n",
      "init model:pitmodel-m60-mlp-e2000-l10-10-5-student-d0.1.pickle\n",
      "init pitmodel as PitModelMLP(pitmodel)\n",
      "predicting model=oracle, plen=2\n",
      "loading model...done!, ctx:gpu(0)\n",
      "pred: acc=0.7340425531914894, mae=1.4737827715355805, rmse=11.305992509363296,r2=0.8421498034044654, acc_naive=0.7180851063829787, mae_naive=1.3393258426966292\n",
      "pred: acc=0.75, mae=1.506741573033708, rmse=12.033333333333333,r2=0.8319949327055378, acc_naive=0.7180851063829787, mae_naive=1.3393258426966292\n",
      "pred: acc=0.7340425531914894, mae=1.5149812734082397, rmse=11.677528089887641,r2=0.8369625574037773, acc_naive=0.7180851063829787, mae_naive=1.3393258426966292\n",
      "pred: acc=0.7021276595744681, mae=1.4865168539325844, rmse=11.740449438202248,r2=0.8360840721939835, acc_naive=0.7180851063829787, mae_naive=1.3393258426966292\n",
      "pred: acc=0.7340425531914894, mae=1.497003745318352, rmse=11.920224719101123,r2=0.833574114451715, acc_naive=0.7180851063829787, mae_naive=1.3393258426966292\n",
      "pred: acc=0.723404255319149, mae=1.4325842696629214, rmse=11.154681647940075,r2=0.8442623511708747, acc_naive=0.7180851063829787, mae_naive=1.3393258426966292\n",
      "pred: acc=0.75, mae=1.4786516853932585, rmse=11.498876404494382,r2=0.8394568279101566, acc_naive=0.7180851063829787, mae_naive=1.3393258426966292\n",
      "pred: acc=0.7074468085106383, mae=1.497752808988764, rmse=11.976029962546816,r2=0.832794981735886, acc_naive=0.7180851063829787, mae_naive=1.3393258426966292\n",
      "pred: acc=0.7446808510638298, mae=1.4910112359550562, rmse=11.649438202247191,r2=0.8373547383010069, acc_naive=0.7180851063829787, mae_naive=1.3393258426966292\n",
      "pred: acc=0.7287234042553191, mae=1.494007490636704, rmse=11.668539325842696,r2=0.8370880552908908, acc_naive=0.7180851063829787, mae_naive=1.3393258426966292\n",
      "[ 0.73085106  1.48730337 11.66250936  0.83717224]\n",
      "save keys to pitmodel-keys.pickle.\n"
     ]
    },
    {
     "data": {
      "text/plain": [
       "array([ 0.73085106,  1.48730337, 11.66250936,  0.83717224])"
      ]
     },
     "execution_count": 20,
     "metadata": {},
     "output_type": "execute_result"
    }
   ],
   "source": [
    "acc, ret = simulation('indy2013-2018-nocarid-context40', 'Indy500-2018', \n",
    "                    'timediff',stint.COL_TIMEDIFF,'timediff2rank',\n",
    "                   2, stint.MODE_ORACLE_LAPONLY,10, \n",
    "                      pitmodel='pitmodel-m60-mlp-e2000-l10-10-5-student-d0.1.pickle')\n",
    "\n",
    "np.mean(acc, axis=0)    "
   ]
  },
  {
   "cell_type": "code",
   "execution_count": 21,
   "metadata": {},
   "outputs": [
    {
     "name": "stderr",
     "output_type": "stream",
     "text": [
      "/N/u/pengb/hpda/indycar/predictor/src/indycar/model/stint_simulator_shortterm_pitmodel.py:196: SettingWithCopyWarning: \n",
      "A value is trying to be set on a copy of a slice from a DataFrame\n",
      "\n",
      "See the caveats in the documentation: http://pandas.pydata.org/pandas-docs/stable/user_guide/indexing.html#returning-a-view-versus-a-copy\n",
      "  uni_ds['rank_diff'][mask] = 0\n",
      "/N/u/pengb/hpda/indycar/predictor/src/indycar/model/stint_simulator_shortterm_pitmodel.py:200: SettingWithCopyWarning: \n",
      "A value is trying to be set on a copy of a slice from a DataFrame\n",
      "\n",
      "See the caveats in the documentation: http://pandas.pydata.org/pandas-docs/stable/user_guide/indexing.html#returning-a-view-versus-a-copy\n",
      "  uni_ds['time_diff'][mask] = 0\n",
      "INFO:root:Using GPU\n"
     ]
    },
    {
     "name": "stdout",
     "output_type": "stream",
     "text": [
      "init: load dataset with 7 races, 58 cars\n",
      "init model:pitmodel-m60-mlp-e2000-l10-10-5-student-d0.1.pickle\n",
      "init pitmodel as PitModelMLP(pitmodel)\n",
      "predicting model=oracle, plen=2\n",
      "loading model...done!, ctx:gpu(0)\n",
      "pred: acc=0.723404255319149, mae=1.3584269662921349, rmse=9.975280898876404,r2=0.8607287197758815, acc_naive=0.7180851063829787, mae_naive=1.3393258426966292\n",
      "pred: acc=0.7659574468085106, mae=1.353558052434457, rmse=10.010486891385767,r2=0.8602371863846872, acc_naive=0.7180851063829787, mae_naive=1.3393258426966292\n",
      "pred: acc=0.7393617021276596, mae=1.3707865168539326, rmse=10.177902621722847,r2=0.8578997882371998, acc_naive=0.7180851063829787, mae_naive=1.3393258426966292\n",
      "pred: acc=0.7553191489361702, mae=1.3610486891385767, rmse=10.017977528089888,r2=0.8601326048120927, acc_naive=0.7180851063829787, mae_naive=1.3393258426966292\n",
      "pred: acc=0.7287234042553191, mae=1.3910112359550562, rmse=10.482022471910112,r2=0.8536537763898624, acc_naive=0.7180851063829787, mae_naive=1.3393258426966292\n",
      "pred: acc=0.7553191489361702, mae=1.3647940074906366, rmse=10.131835205992509,r2=0.858542964908656, acc_naive=0.7180851063829787, mae_naive=1.3393258426966292\n",
      "pred: acc=0.723404255319149, mae=1.3790262172284644, rmse=10.355805243445692,r2=0.8554159758880799, acc_naive=0.7180851063829787, mae_naive=1.3393258426966292\n",
      "pred: acc=0.7340425531914894, mae=1.3614232209737829, rmse=10.053558052434457,r2=0.8596358423422688, acc_naive=0.7180851063829787, mae_naive=1.3393258426966292\n",
      "pred: acc=0.75, mae=1.3610486891385767, rmse=10.147940074906368,r2=0.8583181145275778, acc_naive=0.7180851063829787, mae_naive=1.3393258426966292\n",
      "pred: acc=0.7446808510638298, mae=1.353932584269663, rmse=10.152059925093633,r2=0.8582605946626508, acc_naive=0.7180851063829787, mae_naive=1.3393258426966292\n",
      "[ 0.74202128  1.36550562 10.15048689  0.85828256]\n",
      "save keys to pitmodel-keys.pickle.\n"
     ]
    },
    {
     "data": {
      "text/plain": [
       "array([ 0.74202128,  1.36550562, 10.15048689,  0.85828256])"
      ]
     },
     "execution_count": 21,
     "metadata": {},
     "output_type": "execute_result"
    }
   ],
   "source": [
    "acc, ret = simulation('indy2013-2018-nocarid-context40', 'Indy500-2018', \n",
    "                    'rank',stint.COL_RANK,'rank',\n",
    "                   2, stint.MODE_ORACLE_LAPONLY,10, \n",
    "                      pitmodel='pitmodel-m60-mlp-e2000-l10-10-5-student-d0.1.pickle')\n",
    "\n",
    "np.mean(acc, axis=0)   "
   ]
  },
  {
   "cell_type": "code",
   "execution_count": 26,
   "metadata": {},
   "outputs": [
    {
     "name": "stderr",
     "output_type": "stream",
     "text": [
      "/N/u/pengb/hpda/indycar/predictor/src/indycar/model/stint_simulator_shortterm_pitmodel.py:196: SettingWithCopyWarning: \n",
      "A value is trying to be set on a copy of a slice from a DataFrame\n",
      "\n",
      "See the caveats in the documentation: http://pandas.pydata.org/pandas-docs/stable/user_guide/indexing.html#returning-a-view-versus-a-copy\n",
      "  uni_ds['rank_diff'][mask] = 0\n",
      "/N/u/pengb/hpda/indycar/predictor/src/indycar/model/stint_simulator_shortterm_pitmodel.py:200: SettingWithCopyWarning: \n",
      "A value is trying to be set on a copy of a slice from a DataFrame\n",
      "\n",
      "See the caveats in the documentation: http://pandas.pydata.org/pandas-docs/stable/user_guide/indexing.html#returning-a-view-versus-a-copy\n",
      "  uni_ds['time_diff'][mask] = 0\n",
      "INFO:root:Using GPU\n"
     ]
    },
    {
     "name": "stdout",
     "output_type": "stream",
     "text": [
      "init: load dataset with 7 races, 58 cars\n",
      "init pitmodel as PitModelSimple\n",
      "predicting model=oracle, plen=2\n",
      "loading model...done!, ctx:gpu(0)\n",
      "a short ts: carid=88，len=4\n",
      "a short ts: carid=88，len=4\n",
      "a short ts: carid=88，len=4\n",
      "a short ts: carid=88，len=4\n",
      "a short ts: carid=88，len=4\n",
      "a short ts: carid=88，len=4\n",
      "a short ts: carid=88，len=4\n",
      "a short ts: carid=88，len=4\n",
      "a short ts: carid=88，len=4\n",
      "a short ts: carid=88，len=4\n",
      "pred: acc=0.7606382978723404, mae=1.1970154556759638, rmse=9.0506306626399,r2=0.881800336506643, acc_naive=0.7340425531914894, mae_naive=1.1625510747912595\n",
      "pred: acc=0.7659574468085106, mae=1.2023449991117428, rmse=9.161129863208386,r2=0.8803572361515049, acc_naive=0.7340425531914894, mae_naive=1.1625510747912595\n",
      "pred: acc=0.7446808510638298, mae=1.20305560490318, rmse=9.107479125954876,r2=0.8810579054557681, acc_naive=0.7340425531914894, mae_naive=1.1625510747912595\n",
      "pred: acc=0.7287234042553191, mae=1.2005684846331497, rmse=9.183513945638657,r2=0.8800649039252229, acc_naive=0.7340425531914894, mae_naive=1.1625510747912595\n",
      "pred: acc=0.7446808510638298, mae=1.195949546988808, rmse=9.070172321904424,r2=0.8815451258329048, acc_naive=0.7340425531914894, mae_naive=1.1625510747912595\n",
      "pred: acc=0.7287234042553191, mae=1.2037662106946172, rmse=9.072659442174453,r2=0.881512644474429, acc_naive=0.7340425531914894, mae_naive=1.1625510747912595\n",
      "pred: acc=0.7393617021276596, mae=1.2058980280689287, rmse=9.333807070527625,r2=0.8781021018344722, acc_naive=0.7340425531914894, mae_naive=1.1625510747912595\n",
      "pred: acc=0.7393617021276596, mae=1.1998578788417125, rmse=9.15722153135548,r2=0.8804082782862526, acc_naive=0.7340425531914894, mae_naive=1.1625510747912595\n",
      "pred: acc=0.7127659574468085, mae=1.194173032510215, rmse=9.060579143720021,r2=0.8816704110727399, acc_naive=0.7340425531914894, mae_naive=1.1625510747912595\n",
      "pred: acc=0.7393617021276596, mae=1.180671522472908, rmse=8.775626221353704,r2=0.8853918467152505, acc_naive=0.7340425531914894, mae_naive=1.1625510747912595\n",
      "[0.74042553 1.19833008 9.09728193 0.88119108]\n",
      "save keys to pitmodel-keys.pickle.\n"
     ]
    },
    {
     "data": {
      "text/plain": [
       "array([0.74042553, 1.19833008, 9.09728193, 0.88119108])"
      ]
     },
     "execution_count": 26,
     "metadata": {},
     "output_type": "execute_result"
    }
   ],
   "source": [
    "acc, ret = simulation('indy2013-2018-nocarid-context40', 'Indy500-2019', \n",
    "                    'rank',stint.COL_RANK,'rank',\n",
    "                   2, stint.MODE_ORACLE_LAPONLY,10, \n",
    "                      pitmodel=1)\n",
    "\n",
    "np.mean(acc, axis=0)  "
   ]
  },
  {
   "cell_type": "code",
   "execution_count": 27,
   "metadata": {},
   "outputs": [
    {
     "name": "stderr",
     "output_type": "stream",
     "text": [
      "/N/u/pengb/hpda/indycar/predictor/src/indycar/model/stint_simulator_shortterm_pitmodel.py:196: SettingWithCopyWarning: \n",
      "A value is trying to be set on a copy of a slice from a DataFrame\n",
      "\n",
      "See the caveats in the documentation: http://pandas.pydata.org/pandas-docs/stable/user_guide/indexing.html#returning-a-view-versus-a-copy\n",
      "  uni_ds['rank_diff'][mask] = 0\n",
      "/N/u/pengb/hpda/indycar/predictor/src/indycar/model/stint_simulator_shortterm_pitmodel.py:200: SettingWithCopyWarning: \n",
      "A value is trying to be set on a copy of a slice from a DataFrame\n",
      "\n",
      "See the caveats in the documentation: http://pandas.pydata.org/pandas-docs/stable/user_guide/indexing.html#returning-a-view-versus-a-copy\n",
      "  uni_ds['time_diff'][mask] = 0\n",
      "INFO:root:Using GPU\n"
     ]
    },
    {
     "name": "stdout",
     "output_type": "stream",
     "text": [
      "init: load dataset with 7 races, 58 cars\n",
      "init pitmodel as PitModelSimple\n",
      "predicting model=oracle, plen=2\n",
      "loading model...done!, ctx:gpu(0)\n",
      "a short ts: carid=88，len=4\n",
      "a short ts: carid=88，len=4\n",
      "a short ts: carid=88，len=4\n",
      "a short ts: carid=88，len=4\n",
      "a short ts: carid=88，len=4\n",
      "a short ts: carid=88，len=4\n",
      "a short ts: carid=88，len=4\n",
      "a short ts: carid=88，len=4\n",
      "a short ts: carid=88，len=4\n",
      "a short ts: carid=88，len=4\n",
      "pred: acc=0.7553191489361702, mae=1.1948836383016521, rmse=9.027535974418191,r2=0.882101949121061, acc_naive=0.7340425531914894, mae_naive=1.1625510747912595\n",
      "pred: acc=0.7446808510638298, mae=1.1966601527802452, rmse=9.067329898738675,r2=0.8815822473854485, acc_naive=0.7340425531914894, mae_naive=1.1625510747912595\n",
      "pred: acc=0.723404255319149, mae=1.20305560490318, rmse=9.092201101438977,r2=0.8812574338006907, acc_naive=0.7340425531914894, mae_naive=1.1625510747912595\n",
      "pred: acc=0.7393617021276596, mae=1.1824480369515011, rmse=8.89856102327234,r2=0.8837863395677334, acc_naive=0.7340425531914894, mae_naive=1.1625510747912595\n",
      "pred: acc=0.7446808510638298, mae=1.1860010659086873, rmse=8.890389056670811,r2=0.8838930640312967, acc_naive=0.7340425531914894, mae_naive=1.1625510747912595\n",
      "pred: acc=0.7393617021276596, mae=1.1913306093444662, rmse=9.145141232901048,r2=0.8805660448845635, acc_naive=0.7340425531914894, mae_naive=1.1625510747912595\n",
      "pred: acc=0.7606382978723404, mae=1.1799609166814709, rmse=8.761058802629242,r2=0.8855820946720372, acc_naive=0.7340425531914894, mae_naive=1.1625510747912595\n",
      "pred: acc=0.7340425531914894, mae=1.1803162195771895, rmse=8.99769053117783,r2=0.8824917254227702, acc_naive=0.7340425531914894, mae_naive=1.1625510747912595\n",
      "pred: acc=0.75, mae=1.1909753064487476, rmse=8.95185645763013,r2=0.8830903104575382, acc_naive=0.7340425531914894, mae_naive=1.1625510747912595\n",
      "pred: acc=0.7446808510638298, mae=1.1796056137857525, rmse=8.963226150293124,r2=0.8829418242473632, acc_naive=0.7340425531914894, mae_naive=1.1625510747912595\n",
      "[0.74361702 1.18852372 8.97949902 0.8827293 ]\n",
      "save keys to pitmodel-keys.pickle.\n"
     ]
    },
    {
     "data": {
      "text/plain": [
       "array([0.74361702, 1.18852372, 8.97949902, 0.8827293 ])"
      ]
     },
     "execution_count": 27,
     "metadata": {},
     "output_type": "execute_result"
    }
   ],
   "source": [
    "acc, ret = simulation('indy2013-2018-nocarid-context40', 'Indy500-2019', \n",
    "                    'rank',stint.COL_RANK,'rank',\n",
    "                   2, stint.MODE_ORACLE_LAPONLY,10, \n",
    "                      pitmodel=0)\n",
    "\n",
    "np.mean(acc, axis=0)  "
   ]
  },
  {
   "cell_type": "code",
   "execution_count": 23,
   "metadata": {},
   "outputs": [
    {
     "name": "stderr",
     "output_type": "stream",
     "text": [
      "/N/u/pengb/hpda/indycar/predictor/src/indycar/model/stint_simulator_shortterm_pitmodel.py:196: SettingWithCopyWarning: \n",
      "A value is trying to be set on a copy of a slice from a DataFrame\n",
      "\n",
      "See the caveats in the documentation: http://pandas.pydata.org/pandas-docs/stable/user_guide/indexing.html#returning-a-view-versus-a-copy\n",
      "  uni_ds['rank_diff'][mask] = 0\n",
      "/N/u/pengb/hpda/indycar/predictor/src/indycar/model/stint_simulator_shortterm_pitmodel.py:200: SettingWithCopyWarning: \n",
      "A value is trying to be set on a copy of a slice from a DataFrame\n",
      "\n",
      "See the caveats in the documentation: http://pandas.pydata.org/pandas-docs/stable/user_guide/indexing.html#returning-a-view-versus-a-copy\n",
      "  uni_ds['time_diff'][mask] = 0\n",
      "INFO:root:Using GPU\n"
     ]
    },
    {
     "name": "stdout",
     "output_type": "stream",
     "text": [
      "init: load dataset with 7 races, 58 cars\n",
      "init model:pitmodel-m60-mlp-e2000-l10-10-5-student-d0.1.pickle\n",
      "init pitmodel as PitModelMLP(pitmodel)\n",
      "predicting model=oracle, plen=2\n",
      "loading model...done!, ctx:gpu(0)\n",
      "a short ts: carid=88，len=4\n",
      "a short ts: carid=88，len=4\n",
      "a short ts: carid=88，len=4\n",
      "a short ts: carid=88，len=4\n",
      "a short ts: carid=88，len=4\n",
      "a short ts: carid=88，len=4\n",
      "a short ts: carid=88，len=4\n",
      "a short ts: carid=88，len=4\n",
      "a short ts: carid=88，len=4\n",
      "a short ts: carid=88，len=4\n",
      "pred: acc=0.7180851063829787, mae=1.2027003020074614, rmse=9.012968555693728,r2=0.8822921970778477, acc_naive=0.7340425531914894, mae_naive=1.1625510747912595\n",
      "pred: acc=0.7393617021276596, mae=1.193107123823059, rmse=8.978504174809025,r2=0.8827422959024406, acc_naive=0.7340425531914894, mae_naive=1.1625510747912595\n",
      "pred: acc=0.7127659574468085, mae=1.2240184757505774, rmse=9.484455498312311,r2=0.8761346595496537, acc_naive=0.7340425531914894, mae_naive=1.1625510747912595\n",
      "pred: acc=0.7393617021276596, mae=1.2094510570261148, rmse=9.135192751820927,r2=0.8806959703184666, acc_naive=0.7340425531914894, mae_naive=1.1625510747912595\n",
      "pred: acc=0.7340425531914894, mae=1.2019896962160241, rmse=9.0811867116717,r2=0.8814012798167977, acc_naive=0.7340425531914894, mae_naive=1.1625510747912595\n",
      "pred: acc=0.7446808510638298, mae=1.2041215135903358, rmse=9.225084384437734,r2=0.8795220012192706, acc_naive=0.7340425531914894, mae_naive=1.1625510747912595\n",
      "pred: acc=0.7180851063829787, mae=1.2062533309646473, rmse=9.082963226150293,r2=0.8813780788464579, acc_naive=0.7340425531914894, mae_naive=1.1625510747912595\n",
      "pred: acc=0.7712765957446809, mae=1.1920412151359034, rmse=8.883638301652159,r2=0.8839812277185881, acc_naive=0.7340425531914894, mae_naive=1.1625510747912595\n",
      "pred: acc=0.7712765957446809, mae=1.2062533309646473, rmse=9.248179072659442,r2=0.8792203886048526, acc_naive=0.7340425531914894, mae_naive=1.1625510747912595\n",
      "pred: acc=0.7553191489361702, mae=1.2080298454432403, rmse=9.129863208385148,r2=0.8807655732294861, acc_naive=0.7340425531914894, mae_naive=1.1625510747912595\n",
      "[0.74042553 1.20479659 9.12620359 0.88081337]\n",
      "save keys to pitmodel-keys.pickle.\n"
     ]
    },
    {
     "data": {
      "text/plain": [
       "array([0.74042553, 1.20479659, 9.12620359, 0.88081337])"
      ]
     },
     "execution_count": 23,
     "metadata": {},
     "output_type": "execute_result"
    }
   ],
   "source": [
    "acc, ret = simulation('indy2013-2018-nocarid-context40', 'Indy500-2019', \n",
    "                    'rank',stint.COL_RANK,'rank',\n",
    "                   2, stint.MODE_ORACLE_LAPONLY,10, \n",
    "                      pitmodel='pitmodel-m60-mlp-e2000-l10-10-5-student-d0.1.pickle')\n",
    "\n",
    "np.mean(acc, axis=0)   "
   ]
  },
  {
   "cell_type": "code",
   "execution_count": 24,
   "metadata": {},
   "outputs": [
    {
     "name": "stderr",
     "output_type": "stream",
     "text": [
      "/N/u/pengb/hpda/indycar/predictor/src/indycar/model/stint_simulator_shortterm_pitmodel.py:196: SettingWithCopyWarning: \n",
      "A value is trying to be set on a copy of a slice from a DataFrame\n",
      "\n",
      "See the caveats in the documentation: http://pandas.pydata.org/pandas-docs/stable/user_guide/indexing.html#returning-a-view-versus-a-copy\n",
      "  uni_ds['rank_diff'][mask] = 0\n",
      "/N/u/pengb/hpda/indycar/predictor/src/indycar/model/stint_simulator_shortterm_pitmodel.py:200: SettingWithCopyWarning: \n",
      "A value is trying to be set on a copy of a slice from a DataFrame\n",
      "\n",
      "See the caveats in the documentation: http://pandas.pydata.org/pandas-docs/stable/user_guide/indexing.html#returning-a-view-versus-a-copy\n",
      "  uni_ds['time_diff'][mask] = 0\n",
      "INFO:root:Using GPU\n"
     ]
    },
    {
     "name": "stdout",
     "output_type": "stream",
     "text": [
      "init: load dataset with 7 races, 58 cars\n",
      "init model:pitmodel-m60-mlp-e2000-l10-10-5-student-d0.1.pickle\n",
      "init pitmodel as PitModelMLP(pitmodel)\n",
      "predicting model=oracle, plen=2\n",
      "loading model...done!, ctx:gpu(0)\n",
      "a short ts: carid=88，len=4\n",
      "a short ts: carid=88，len=4\n",
      "a short ts: carid=88，len=4\n",
      "a short ts: carid=88，len=4\n",
      "a short ts: carid=88，len=4\n",
      "a short ts: carid=88，len=4\n",
      "a short ts: carid=88，len=4\n",
      "a short ts: carid=88，len=4\n",
      "a short ts: carid=88，len=4\n",
      "a short ts: carid=88，len=4\n",
      "pred: acc=0.6914893617021277, mae=1.368271451412329, rmse=10.354592289927163,r2=0.8647708242771993, acc_naive=0.7340425531914894, mae_naive=1.1625510747912595\n",
      "pred: acc=0.675531914893617, mae=1.307869959140167, rmse=9.465979747734943,r2=0.876375949641188, acc_naive=0.7340425531914894, mae_naive=1.1625510747912595\n",
      "pred: acc=0.6808510638297872, mae=1.2947237519985788, rmse=9.857168235921122,r2=0.871267095972355, acc_naive=0.7340425531914894, mae_naive=1.1625510747912595\n",
      "pred: acc=0.6648936170212766, mae=1.3661396340380174, rmse=10.23592112275715,r2=0.8663206490959007, acc_naive=0.7340425531914894, mae_naive=1.1625510747912595\n",
      "pred: acc=0.6968085106382979, mae=1.259904068218156, rmse=9.036773849706876,r2=0.8819813040752937, acc_naive=0.7340425531914894, mae_naive=1.1625510747912595\n",
      "pred: acc=0.7021276595744681, mae=1.3519275182092734, rmse=10.136791614851662,r2=0.8676152632408638, acc_naive=0.7340425531914894, mae_naive=1.1625510747912595\n",
      "pred: acc=0.6861702127659575, mae=1.3444661573991827, rmse=9.963403801740984,r2=0.8698796779460324, acc_naive=0.7340425531914894, mae_naive=1.1625510747912595\n",
      "pred: acc=0.675531914893617, mae=1.3089358678273229, rmse=10.064309824125067,r2=0.8685618628307293, acc_naive=0.7340425531914894, mae_naive=1.1625510747912595\n",
      "pred: acc=0.6968085106382979, mae=1.303606324391544, rmse=9.807781133416237,r2=0.8719120829478025, acc_naive=0.7340425531914894, mae_naive=1.1625510747912595\n",
      "pred: acc=0.6861702127659575, mae=1.30964647361876, rmse=9.56617516432759,r2=0.875067414914021, acc_naive=0.7340425531914894, mae_naive=1.1625510747912595\n",
      "[0.6856383  1.32154912 9.84888968 0.87137521]\n",
      "save keys to pitmodel-keys.pickle.\n"
     ]
    },
    {
     "data": {
      "text/plain": [
       "array([0.6856383 , 1.32154912, 9.84888968, 0.87137521])"
      ]
     },
     "execution_count": 24,
     "metadata": {},
     "output_type": "execute_result"
    }
   ],
   "source": [
    "acc, ret = simulation('indy2013-2018-nocarid-context40', 'Indy500-2019', \n",
    "                    'timediff',stint.COL_TIMEDIFF,'timediff2rank',\n",
    "                   2, stint.MODE_ORACLE_LAPONLY,10, \n",
    "                      pitmodel='pitmodel-m60-mlp-e2000-l10-10-5-student-d0.1.pickle')\n",
    "\n",
    "np.mean(acc, axis=0)    "
   ]
  },
  {
   "cell_type": "markdown",
   "metadata": {},
   "source": [
    "### test"
   ]
  },
  {
   "cell_type": "code",
   "execution_count": 36,
   "metadata": {},
   "outputs": [
    {
     "data": {
      "text/plain": [
       "array([ 0.70904255,  1.56734082, 10.99475655,  0.84649517])"
      ]
     },
     "execution_count": 36,
     "metadata": {},
     "output_type": "execute_result"
    }
   ],
   "source": [
    "np.mean(acc, axis=0)"
   ]
  },
  {
   "cell_type": "code",
   "execution_count": 12,
   "metadata": {},
   "outputs": [
    {
     "data": {
      "text/plain": [
       "0.7393617021276596"
      ]
     },
     "execution_count": 12,
     "metadata": {},
     "output_type": "execute_result"
    }
   ],
   "source": [
    "139./188"
   ]
  },
  {
   "cell_type": "code",
   "execution_count": 27,
   "metadata": {},
   "outputs": [
    {
     "name": "stdout",
     "output_type": "stream",
     "text": [
      "pred: acc=0.6968085106382979, mae=1.5872659176029962,45.08510638297872, rmse=11.434831460674157,r2=0.8403510003558398, acc_naive=0.7180851063829787, mae_naive=1.3393258426966292, 38.04255319148936\n"
     ]
    },
    {
     "data": {
      "text/plain": [
       "(0.6968085106382979,\n",
       " 1.5872659176029962,\n",
       " 11.434831460674157,\n",
       " 0.8403510003558398)"
      ]
     },
     "execution_count": 27,
     "metadata": {},
     "output_type": "execute_result"
    }
   ],
   "source": [
    "stint.get_evalret_shortterm(df)"
   ]
  },
  {
   "cell_type": "code",
   "execution_count": 15,
   "metadata": {},
   "outputs": [
    {
     "data": {
      "text/html": [
       "<div>\n",
       "<style scoped>\n",
       "    .dataframe tbody tr th:only-of-type {\n",
       "        vertical-align: middle;\n",
       "    }\n",
       "\n",
       "    .dataframe tbody tr th {\n",
       "        vertical-align: top;\n",
       "    }\n",
       "\n",
       "    .dataframe thead th {\n",
       "        text-align: right;\n",
       "    }\n",
       "</style>\n",
       "<table border=\"1\" class=\"dataframe\">\n",
       "  <thead>\n",
       "    <tr style=\"text-align: right;\">\n",
       "      <th></th>\n",
       "      <th>carno</th>\n",
       "      <th>startlap</th>\n",
       "      <th>startrank</th>\n",
       "      <th>endrank</th>\n",
       "      <th>diff</th>\n",
       "      <th>sign</th>\n",
       "      <th>pred_endrank</th>\n",
       "      <th>pred_diff</th>\n",
       "      <th>pred_sign</th>\n",
       "    </tr>\n",
       "  </thead>\n",
       "  <tbody>\n",
       "    <tr>\n",
       "      <th>0</th>\n",
       "      <td>1</td>\n",
       "      <td>10</td>\n",
       "      <td>3.0</td>\n",
       "      <td>3.0</td>\n",
       "      <td>0.0</td>\n",
       "      <td>0</td>\n",
       "      <td>3.0</td>\n",
       "      <td>0.0</td>\n",
       "      <td>0</td>\n",
       "    </tr>\n",
       "    <tr>\n",
       "      <th>1</th>\n",
       "      <td>3</td>\n",
       "      <td>10</td>\n",
       "      <td>7.0</td>\n",
       "      <td>7.0</td>\n",
       "      <td>0.0</td>\n",
       "      <td>0</td>\n",
       "      <td>7.0</td>\n",
       "      <td>0.0</td>\n",
       "      <td>0</td>\n",
       "    </tr>\n",
       "    <tr>\n",
       "      <th>2</th>\n",
       "      <td>4</td>\n",
       "      <td>10</td>\n",
       "      <td>12.0</td>\n",
       "      <td>12.0</td>\n",
       "      <td>0.0</td>\n",
       "      <td>0</td>\n",
       "      <td>12.0</td>\n",
       "      <td>0.0</td>\n",
       "      <td>0</td>\n",
       "    </tr>\n",
       "    <tr>\n",
       "      <th>3</th>\n",
       "      <td>6</td>\n",
       "      <td>10</td>\n",
       "      <td>15.0</td>\n",
       "      <td>15.0</td>\n",
       "      <td>0.0</td>\n",
       "      <td>0</td>\n",
       "      <td>15.0</td>\n",
       "      <td>0.0</td>\n",
       "      <td>0</td>\n",
       "    </tr>\n",
       "    <tr>\n",
       "      <th>4</th>\n",
       "      <td>7</td>\n",
       "      <td>10</td>\n",
       "      <td>28.0</td>\n",
       "      <td>28.0</td>\n",
       "      <td>0.0</td>\n",
       "      <td>0</td>\n",
       "      <td>29.0</td>\n",
       "      <td>1.0</td>\n",
       "      <td>1</td>\n",
       "    </tr>\n",
       "    <tr>\n",
       "      <th>...</th>\n",
       "      <td>...</td>\n",
       "      <td>...</td>\n",
       "      <td>...</td>\n",
       "      <td>...</td>\n",
       "      <td>...</td>\n",
       "      <td>...</td>\n",
       "      <td>...</td>\n",
       "      <td>...</td>\n",
       "      <td>...</td>\n",
       "    </tr>\n",
       "    <tr>\n",
       "      <th>5335</th>\n",
       "      <td>60</td>\n",
       "      <td>197</td>\n",
       "      <td>15.0</td>\n",
       "      <td>15.0</td>\n",
       "      <td>0.0</td>\n",
       "      <td>0</td>\n",
       "      <td>15.0</td>\n",
       "      <td>0.0</td>\n",
       "      <td>0</td>\n",
       "    </tr>\n",
       "    <tr>\n",
       "      <th>5336</th>\n",
       "      <td>64</td>\n",
       "      <td>197</td>\n",
       "      <td>16.0</td>\n",
       "      <td>16.0</td>\n",
       "      <td>0.0</td>\n",
       "      <td>0</td>\n",
       "      <td>14.0</td>\n",
       "      <td>-2.0</td>\n",
       "      <td>-1</td>\n",
       "    </tr>\n",
       "    <tr>\n",
       "      <th>5337</th>\n",
       "      <td>66</td>\n",
       "      <td>197</td>\n",
       "      <td>10.0</td>\n",
       "      <td>10.0</td>\n",
       "      <td>0.0</td>\n",
       "      <td>0</td>\n",
       "      <td>16.0</td>\n",
       "      <td>6.0</td>\n",
       "      <td>1</td>\n",
       "    </tr>\n",
       "    <tr>\n",
       "      <th>5338</th>\n",
       "      <td>88</td>\n",
       "      <td>197</td>\n",
       "      <td>13.0</td>\n",
       "      <td>13.0</td>\n",
       "      <td>0.0</td>\n",
       "      <td>0</td>\n",
       "      <td>12.0</td>\n",
       "      <td>-1.0</td>\n",
       "      <td>-1</td>\n",
       "    </tr>\n",
       "    <tr>\n",
       "      <th>5339</th>\n",
       "      <td>98</td>\n",
       "      <td>197</td>\n",
       "      <td>11.0</td>\n",
       "      <td>11.0</td>\n",
       "      <td>0.0</td>\n",
       "      <td>0</td>\n",
       "      <td>10.0</td>\n",
       "      <td>-1.0</td>\n",
       "      <td>-1</td>\n",
       "    </tr>\n",
       "  </tbody>\n",
       "</table>\n",
       "<p>5340 rows × 9 columns</p>\n",
       "</div>"
      ],
      "text/plain": [
       "      carno  startlap  startrank  endrank  diff  sign  pred_endrank  \\\n",
       "0         1        10        3.0      3.0   0.0     0           3.0   \n",
       "1         3        10        7.0      7.0   0.0     0           7.0   \n",
       "2         4        10       12.0     12.0   0.0     0          12.0   \n",
       "3         6        10       15.0     15.0   0.0     0          15.0   \n",
       "4         7        10       28.0     28.0   0.0     0          29.0   \n",
       "...     ...       ...        ...      ...   ...   ...           ...   \n",
       "5335     60       197       15.0     15.0   0.0     0          15.0   \n",
       "5336     64       197       16.0     16.0   0.0     0          14.0   \n",
       "5337     66       197       10.0     10.0   0.0     0          16.0   \n",
       "5338     88       197       13.0     13.0   0.0     0          12.0   \n",
       "5339     98       197       11.0     11.0   0.0     0          10.0   \n",
       "\n",
       "      pred_diff  pred_sign  \n",
       "0           0.0          0  \n",
       "1           0.0          0  \n",
       "2           0.0          0  \n",
       "3           0.0          0  \n",
       "4           1.0          1  \n",
       "...         ...        ...  \n",
       "5335        0.0          0  \n",
       "5336       -2.0         -1  \n",
       "5337        6.0          1  \n",
       "5338       -1.0         -1  \n",
       "5339       -1.0         -1  \n",
       "\n",
       "[5340 rows x 9 columns]"
      ]
     },
     "execution_count": 15,
     "metadata": {},
     "output_type": "execute_result"
    }
   ],
   "source": [
    "df"
   ]
  },
  {
   "cell_type": "code",
   "execution_count": 23,
   "metadata": {},
   "outputs": [
    {
     "name": "stderr",
     "output_type": "stream",
     "text": [
      "[autoreload of indycar.model.stint_simulator_shortterm failed: Traceback (most recent call last):\n",
      "  File \"/scratch_ssd/hpda/anaconda3/envs/gluonts/lib/python3.6/site-packages/IPython/extensions/autoreload.py\", line 245, in check\n",
      "    superreload(m, reload, self.old_objects)\n",
      "  File \"/scratch_ssd/hpda/anaconda3/envs/gluonts/lib/python3.6/site-packages/IPython/extensions/autoreload.py\", line 394, in superreload\n",
      "    module = reload(module)\n",
      "  File \"/scratch_ssd/hpda/anaconda3/envs/gluonts/lib/python3.6/imp.py\", line 315, in reload\n",
      "    return importlib.reload(module)\n",
      "  File \"/scratch_ssd/hpda/anaconda3/envs/gluonts/lib/python3.6/importlib/__init__.py\", line 166, in reload\n",
      "    _bootstrap._exec(spec, module)\n",
      "  File \"<frozen importlib._bootstrap>\", line 618, in _exec\n",
      "  File \"<frozen importlib._bootstrap_external>\", line 674, in exec_module\n",
      "  File \"<frozen importlib._bootstrap_external>\", line 781, in get_code\n",
      "  File \"<frozen importlib._bootstrap_external>\", line 741, in source_to_code\n",
      "  File \"<frozen importlib._bootstrap>\", line 219, in _call_with_frames_removed\n",
      "  File \"/N/u/pengb/hpda/indycar/predictor/src/indycar/model/stint_simulator_shortterm.py\", line 3675\n",
      "    n_correct = top1_naive[top1_naive['startrank']==top1_naive['endrank']]\n",
      "            ^\n",
      "SyntaxError: invalid syntax\n",
      "]\n"
     ]
    },
    {
     "data": {
      "text/plain": [
       "0.0"
      ]
     },
     "execution_count": 23,
     "metadata": {},
     "output_type": "execute_result"
    }
   ],
   "source": [
    "np.sum(df[['diff']].values.reshape(-1))"
   ]
  },
  {
   "cell_type": "code",
   "execution_count": 37,
   "metadata": {},
   "outputs": [
    {
     "name": "stderr",
     "output_type": "stream",
     "text": [
      "/N/u/pengb/hpda/indycar/predictor/src/indycar/model/stint_simulator_shortterm.py:196: SettingWithCopyWarning: \n",
      "A value is trying to be set on a copy of a slice from a DataFrame\n",
      "\n",
      "See the caveats in the documentation: http://pandas.pydata.org/pandas-docs/stable/user_guide/indexing.html#returning-a-view-versus-a-copy\n",
      "  uni_ds['rank_diff'][mask] = 0\n",
      "/N/u/pengb/hpda/indycar/predictor/src/indycar/model/stint_simulator_shortterm.py:200: SettingWithCopyWarning: \n",
      "A value is trying to be set on a copy of a slice from a DataFrame\n",
      "\n",
      "See the caveats in the documentation: http://pandas.pydata.org/pandas-docs/stable/user_guide/indexing.html#returning-a-view-versus-a-copy\n",
      "  uni_ds['time_diff'][mask] = 0\n",
      "INFO:root:Using GPU\n"
     ]
    },
    {
     "name": "stdout",
     "output_type": "stream",
     "text": [
      "init: load dataset with 7 races, 58 cars\n",
      "predicting model=oracle, plen=2\n",
      "loading model...done!, ctx:gpu(0)\n",
      "pred: acc=0.7287234042553191, mae=1.3966292134831462, rmse=10.328838951310862,r2=0.8557924695494202, acc_naive=0.7180851063829787, mae_naive=1.3393258426966292\n",
      "[ 0.7287234   1.39662921 10.32883895  0.85579247]\n",
      "pred: acc=0.7287234042553191, mae=1.3966292134831462, rmse=10.328838951310862,r2=0.8557924695494202, acc_naive=0.7180851063829787, mae_naive=1.3393258426966292\n"
     ]
    },
    {
     "data": {
      "text/plain": [
       "(0.7287234042553191,\n",
       " 1.3966292134831462,\n",
       " 10.328838951310862,\n",
       " 0.8557924695494202)"
      ]
     },
     "execution_count": 37,
     "metadata": {},
     "output_type": "execute_result"
    }
   ],
   "source": [
    "acc, ret = simulation('indy2013-2018-nocarid-context40', 'Indy500-2018', \n",
    "                    'timediff',stint.COL_TIMEDIFF,'timediff2rank',\n",
    "                   2, stint.MODE_ORACLE_LAPONLY,1)\n",
    "df  = ret[0]\n",
    "stint.get_evalret_shortterm(df)"
   ]
  },
  {
   "cell_type": "code",
   "execution_count": 29,
   "metadata": {},
   "outputs": [
    {
     "name": "stderr",
     "output_type": "stream",
     "text": [
      "/N/u/pengb/hpda/indycar/predictor/src/indycar/model/stint_simulator_shortterm_pitmodel.py:196: SettingWithCopyWarning: \n",
      "A value is trying to be set on a copy of a slice from a DataFrame\n",
      "\n",
      "See the caveats in the documentation: http://pandas.pydata.org/pandas-docs/stable/user_guide/indexing.html#returning-a-view-versus-a-copy\n",
      "  uni_ds['rank_diff'][mask] = 0\n",
      "/N/u/pengb/hpda/indycar/predictor/src/indycar/model/stint_simulator_shortterm_pitmodel.py:200: SettingWithCopyWarning: \n",
      "A value is trying to be set on a copy of a slice from a DataFrame\n",
      "\n",
      "See the caveats in the documentation: http://pandas.pydata.org/pandas-docs/stable/user_guide/indexing.html#returning-a-view-versus-a-copy\n",
      "  uni_ds['time_diff'][mask] = 0\n",
      "INFO:root:Using GPU\n"
     ]
    },
    {
     "name": "stdout",
     "output_type": "stream",
     "text": [
      "init: load dataset with 7 races, 58 cars\n",
      "init model:pitmodel-m60-mlp-e500-l10-10-5-student-d0.1.pickle\n",
      "init pitmodel as PitModelMLP(pitmodel)\n",
      "predicting model=oracle, plen=2\n",
      "loading model...done!, ctx:gpu(0)\n",
      "pred: acc=0.7021276595744681, mae=1.4232209737827715, rmse=10.70374531835206,r2=0.8505581618410647, acc_naive=0.7180851063829787, mae_naive=1.3393258426966292\n",
      "pred: acc=0.7074468085106383, mae=1.4389513108614231, rmse=10.834831460674158,r2=0.8487279843206605, acc_naive=0.7180851063829787, mae_naive=1.3393258426966292\n",
      "pred: acc=0.7021276595744681, mae=1.4344569288389513, rmse=10.96816479400749,r2=0.8468664323284782, acc_naive=0.7180851063829787, mae_naive=1.3393258426966292\n",
      "pred: acc=0.7127659574468085, mae=1.4265917602996254, rmse=10.789887640449438,r2=0.8493554737562277, acc_naive=0.7180851063829787, mae_naive=1.3393258426966292\n",
      "pred: acc=0.6968085106382979, mae=1.4340823970037453, rmse=10.894756554307117,r2=0.8478913317399044, acc_naive=0.7180851063829787, mae_naive=1.3393258426966292\n",
      "pred: acc=0.7021276595744681, mae=1.4348314606741572, rmse=10.825468164794007,r2=0.8488587112864038, acc_naive=0.7180851063829787, mae_naive=1.3393258426966292\n",
      "pred: acc=0.7021276595744681, mae=1.4299625468164794, rmse=10.848689138576779,r2=0.8485345084113607, acc_naive=0.7180851063829787, mae_naive=1.3393258426966292\n",
      "pred: acc=0.7074468085106383, mae=1.4389513108614231, rmse=10.88501872659176,r2=0.8480272877842774, acc_naive=0.7180851063829787, mae_naive=1.3393258426966292\n",
      "pred: acc=0.7180851063829787, mae=1.4262172284644195, rmse=10.776029962546817,r2=0.8495489496655275, acc_naive=0.7180851063829787, mae_naive=1.3393258426966292\n",
      "pred: acc=0.6968085106382979, mae=1.4299625468164794, rmse=10.831460674157304,r2=0.8487750460283281, acc_naive=0.7180851063829787, mae_naive=1.3393258426966292\n",
      "[ 0.70478723  1.43172285 10.83580524  0.84871439]\n",
      "save keys to pitmodel-keys.pickle.\n",
      "[ 0.70478723  1.43172285 10.83580524  0.84871439]\n"
     ]
    }
   ],
   "source": [
    "#def test_pitmodel(modelfile, testevent, runts, loopcnt=10):\n",
    "test_pitmodel('pitmodel-m60-mlp-e500-l10-10-5-student-d0.1.pickle', 'Indy500-2018', 'RANK')"
   ]
  },
  {
   "cell_type": "code",
   "execution_count": 31,
   "metadata": {},
   "outputs": [
    {
     "name": "stderr",
     "output_type": "stream",
     "text": [
      "INFO:root:Using GPU\n"
     ]
    },
    {
     "name": "stdout",
     "output_type": "stream",
     "text": [
      "init: load dataset with 7 races, 58 cars\n",
      "init model:pitmodel-m60-mlp-e500-l10-10-5-student-d0.1.pickle\n",
      "init pitmodel as PitModelMLP(pitmodel)\n",
      "predicting model=oracle, plen=2\n",
      "loading model...done!, ctx:gpu(0)\n",
      "a short ts: carid=88，len=4\n",
      "a short ts: carid=88，len=4\n",
      "a short ts: carid=88，len=4\n",
      "a short ts: carid=88，len=4\n",
      "a short ts: carid=88，len=4\n",
      "a short ts: carid=88，len=4\n",
      "a short ts: carid=88，len=4\n",
      "a short ts: carid=88，len=4\n",
      "a short ts: carid=88，len=4\n",
      "a short ts: carid=88，len=4\n",
      "pred: acc=0.7127659574468085, mae=1.268786640611121, rmse=9.469888079587848,r2=0.8763249075064403, acc_naive=0.7340425531914894, mae_naive=1.1625510747912595\n",
      "pred: acc=0.75, mae=1.270563155089714, rmse=9.501154734411086,r2=0.8759165704284592, acc_naive=0.7340425531914894, mae_naive=1.1625510747912595\n",
      "pred: acc=0.6648936170212766, mae=1.2844199680227393, rmse=9.609877420500977,r2=0.8744966710436608, acc_naive=0.7340425531914894, mae_naive=1.1625510747912595\n",
      "pred: acc=0.7393617021276596, mae=1.2719843666725883, rmse=9.547699413750221,r2=0.8753087050055554, acc_naive=0.7340425531914894, mae_naive=1.1625510747912595\n",
      "pred: acc=0.7127659574468085, mae=1.2680760348196838, rmse=9.453544146384793,r2=0.8765383564335669, acc_naive=0.7340425531914894, mae_naive=1.1625510747912595\n",
      "pred: acc=0.7393617021276596, mae=1.2631017942796234, rmse=9.452478237697637,r2=0.8765522770157709, acc_naive=0.7340425531914894, mae_naive=1.1625510747912595\n",
      "pred: acc=0.7287234042553191, mae=1.2694972464025582, rmse=9.516077456031267,r2=0.8757216822776045, acc_naive=0.7340425531914894, mae_naive=1.1625510747912595\n",
      "pred: acc=0.7127659574468085, mae=1.25635103926097, rmse=9.3753775093267,r2=0.87755919912852, acc_naive=0.7340425531914894, mae_naive=1.1625510747912595\n",
      "pred: acc=0.7393617021276596, mae=1.2766033043169303, rmse=9.532421389234322,r2=0.875508233350478, acc_naive=0.7340425531914894, mae_naive=1.1625510747912595\n",
      "pred: acc=0.7127659574468085, mae=1.2645230058624979, rmse=9.547699413750221,r2=0.8753087050055554, acc_naive=0.7340425531914894, mae_naive=1.1625510747912595\n",
      "[0.7212766  1.26939066 9.50062178 0.87592353]\n",
      "save keys to pitmodel-keys.pickle.\n",
      "[0.7212766  1.26939066 9.50062178 0.87592353]\n"
     ]
    }
   ],
   "source": [
    "test_pitmodel('pitmodel-m60-mlp-e500-l10-10-5-student-d0.1.pickle', 'Indy500-2019', 'RANK')"
   ]
  },
  {
   "cell_type": "code",
   "execution_count": 36,
   "metadata": {},
   "outputs": [
    {
     "name": "stderr",
     "output_type": "stream",
     "text": [
      "INFO:root:Using GPU\n"
     ]
    },
    {
     "name": "stdout",
     "output_type": "stream",
     "text": [
      "init: load dataset with 7 races, 58 cars\n",
      "init model:pitmodel-m65-mlp-dsel-e500-l10-10-5-student-d0.1.pickle\n",
      "init pitmodel as PitModelMLP(pitmodel)\n",
      "predicting model=oracle, plen=2\n",
      "loading model...done!, ctx:gpu(0)\n",
      "ERROR: key 14-45 not found in model\n",
      "ERROR: key 14-45 not found in model\n",
      "ERROR: key 14-45 not found in model\n",
      "ERROR: key 14-45 not found in model\n",
      "ERROR: key 14-45 not found in model\n",
      "ERROR: key 14-45 not found in model\n",
      "ERROR: key 14-45 not found in model\n",
      "ERROR: key 14-45 not found in model\n",
      "ERROR: key 14-45 not found in model\n",
      "ERROR: key 14-45 not found in model\n",
      "pred: acc=0.7659574468085106, mae=1.3292134831460674, rmse=9.690262172284644,r2=0.8647080486131028, acc_naive=0.7180851063829787, mae_naive=1.3393258426966292\n",
      "pred: acc=0.7606382978723404, mae=1.3370786516853932, rmse=9.88314606741573,r2=0.862015073118794, acc_naive=0.7180851063829787, mae_naive=1.3393258426966292\n",
      "pred: acc=0.75, mae=1.341573033707865, rmse=10.004494382022472,r2=0.8603208516427628, acc_naive=0.7180851063829787, mae_naive=1.3393258426966292\n",
      "pred: acc=0.7553191489361702, mae=1.3385767790262173, rmse=9.976404494382022,r2=0.8607130325399923, acc_naive=0.7180851063829787, mae_naive=1.3393258426966292\n",
      "pred: acc=0.75, mae=1.3367041198501872, rmse=10.041573033707865,r2=0.8598031728584199, acc_naive=0.7180851063829787, mae_naive=1.3393258426966292\n",
      "pred: acc=0.75, mae=1.3359550561797753, rmse=9.808988764044944,r2=0.8630504306874798, acc_naive=0.7180851063829787, mae_naive=1.3393258426966292\n",
      "pred: acc=0.7446808510638298, mae=1.3460674157303372, rmse=10.061048689138577,r2=0.8595312607696742, acc_naive=0.7180851063829787, mae_naive=1.3393258426966292\n",
      "pred: acc=0.7446808510638298, mae=1.3528089887640449, rmse=10.135205992509363,r2=0.8584959032009885, acc_naive=0.7180851063829787, mae_naive=1.3393258426966292\n",
      "pred: acc=0.723404255319149, mae=1.350561797752809, rmse=10.063295880149813,r2=0.8594998862978959, acc_naive=0.7180851063829787, mae_naive=1.3393258426966292\n",
      "pred: acc=0.7659574468085106, mae=1.347940074906367, rmse=10.049812734082398,r2=0.859688133128566, acc_naive=0.7180851063829787, mae_naive=1.3393258426966292\n",
      "[0.75106383 1.34164794 9.97142322 0.86078258]\n",
      "save keys to pitmodel-keys.pickle.\n",
      "[0.75106383 1.34164794 9.97142322 0.86078258]\n"
     ]
    }
   ],
   "source": [
    "test_pitmodel('pitmodel-m65-mlp-dsel-e500-l10-10-5-student-d0.1.pickle', 'Indy500-2018', 'RANK')"
   ]
  },
  {
   "cell_type": "code",
   "execution_count": 35,
   "metadata": {},
   "outputs": [
    {
     "name": "stdout",
     "output_type": "stream",
     "text": [
      "> \u001b[0;32m/N/u/pengb/hpda/indycar/predictor/src/indycar/model/stint_simulator_shortterm_pitmodel.py\u001b[0m(1799)\u001b[0;36mupdate_onets\u001b[0;34m()\u001b[0m\n",
      "\u001b[0;32m   1797 \u001b[0;31m        \u001b[0mpred_pit_laps\u001b[0m \u001b[0;34m=\u001b[0m \u001b[0m_pitmodel\u001b[0m\u001b[0;34m.\u001b[0m\u001b[0mpredict\u001b[0m\u001b[0;34m(\u001b[0m\u001b[0mcaution_laps_instint\u001b[0m\u001b[0;34m,\u001b[0m \u001b[0mlaps_instint\u001b[0m\u001b[0;34m)\u001b[0m\u001b[0;34m\u001b[0m\u001b[0;34m\u001b[0m\u001b[0m\n",
      "\u001b[0m\u001b[0;32m   1798 \u001b[0;31m\u001b[0;34m\u001b[0m\u001b[0m\n",
      "\u001b[0m\u001b[0;32m-> 1799 \u001b[0;31m        \u001b[0mnextpos\u001b[0m \u001b[0;34m=\u001b[0m \u001b[0mcurpos\u001b[0m \u001b[0;34m+\u001b[0m \u001b[0mpred_pit_laps\u001b[0m \u001b[0;34m-\u001b[0m \u001b[0mlaps_instint\u001b[0m\u001b[0;34m\u001b[0m\u001b[0;34m\u001b[0m\u001b[0m\n",
      "\u001b[0m\u001b[0;32m   1800 \u001b[0;31m\u001b[0;34m\u001b[0m\u001b[0m\n",
      "\u001b[0m\u001b[0;32m   1801 \u001b[0;31m        \u001b[0;32mif\u001b[0m \u001b[0mnextpos\u001b[0m \u001b[0;34m>=\u001b[0m \u001b[0mtotallen\u001b[0m\u001b[0;34m:\u001b[0m\u001b[0;34m\u001b[0m\u001b[0;34m\u001b[0m\u001b[0m\n",
      "\u001b[0m\n",
      "ipdb> p _pitmodel.keys()\n",
      "*** TypeError: 'dict' object is not callable\n",
      "ipdb> p _pitmodel.keys\n",
      "{}\n",
      "ipdb> p _pitmodel.model.keys()\n",
      "dict_keys(['0-0', '0-1', '0-2', '0-3', '0-4', '0-5', '0-6', '0-7', '0-8', '0-9', '0-10', '0-11', '0-12', '0-13', '0-14', '0-15', '0-16', '0-17', '0-18', '0-19', '0-20', '0-21', '0-22', '0-23', '0-24', '0-25', '0-26', '0-27', '0-28', '0-29', '0-30', '0-31', '0-32', '0-33', '0-34', '0-35', '0-36', '0-37', '0-38', '0-39', '0-40', '0-41', '0-42', '0-43', '0-44', '0-45', '0-46', '0-47', '0-48', '0-49', '0-50', '0-51', '0-52', '0-53', '0-54', '0-55', '0-56', '0-57', '0-58', '0-59', '0-60', '0-61', '0-62', '0-63', '0-64', '1-1', '1-2', '1-3', '1-4', '1-5', '1-6', '1-7', '1-8', '1-9', '1-10', '1-11', '1-12', '1-13', '1-14', '1-15', '1-16', '1-17', '1-18', '1-19', '1-20', '1-21', '1-22', '1-23', '1-24', '1-25', '1-26', '1-27', '1-28', '1-29', '1-30', '1-31', '1-32', '1-33', '1-34', '1-35', '1-36', '1-37', '1-38', '1-39', '1-40', '1-41', '1-42', '1-43', '1-44', '1-45', '1-46', '1-47', '1-48', '1-49', '1-50', '1-51', '1-52', '1-53', '1-54', '1-55', '1-56', '1-57', '1-58', '1-59', '1-60', '1-61', '1-62', '1-63', '1-64', '2-2', '2-3', '2-4', '2-5', '2-6', '2-7', '2-8', '2-9', '2-10', '2-11', '2-12', '2-13', '2-14', '2-15', '2-16', '2-17', '2-18', '2-19', '2-20', '2-21', '2-22', '2-23', '2-24', '2-25', '2-26', '2-27', '2-28', '2-29', '2-30', '2-31', '2-32', '2-33', '2-34', '2-35', '2-36', '2-37', '2-38', '2-39', '2-40', '2-41', '2-42', '2-43', '2-44', '2-45', '2-46', '2-47', '2-48', '2-49', '2-50', '2-51', '2-52', '2-53', '2-54', '2-55', '2-56', '2-57', '2-58', '2-59', '2-60', '2-61', '2-62', '2-63', '2-64', '3-3', '3-4', '3-5', '3-6', '3-7', '3-8', '3-9', '3-10', '3-11', '3-12', '3-13', '3-14', '3-15', '3-16', '3-17', '3-18', '3-19', '3-20', '3-21', '3-22', '3-23', '3-24', '3-25', '3-26', '3-27', '3-28', '3-29', '3-30', '3-31', '3-32', '3-33', '3-34', '3-35', '3-36', '3-37', '3-38', '3-39', '3-40', '3-41', '3-42', '3-43', '3-44', '3-45', '3-46', '3-47', '3-48', '3-49', '3-50', '3-51', '3-52', '3-53', '3-54', '3-55', '3-56', '3-57', '3-58', '3-59', '3-60', '3-61', '3-62', '3-63', '3-64', '4-4', '4-5', '4-6', '4-7', '4-8', '4-9', '4-10', '4-11', '4-12', '4-13', '4-14', '4-15', '4-16', '4-17', '4-18', '4-19', '4-20', '4-21', '4-22', '4-23', '4-24', '4-25', '4-26', '4-27', '4-28', '4-29', '4-30', '4-31', '4-32', '4-33', '4-34', '4-35', '4-36', '4-37', '4-38', '4-39', '4-40', '4-41', '4-42', '4-43', '4-44', '4-45', '4-46', '4-47', '4-48', '4-49', '4-50', '4-51', '4-52', '4-53', '4-54', '4-55', '4-56', '4-57', '4-58', '4-59', '4-60', '4-61', '4-62', '4-63', '4-64', '5-5', '5-6', '5-7', '5-8', '5-9', '5-10', '5-11', '5-12', '5-13', '5-14', '5-15', '5-16', '5-17', '5-18', '5-19', '5-20', '5-21', '5-22', '5-23', '5-24', '5-25', '5-26', '5-27', '5-28', '5-29', '5-30', '5-31', '5-32', '5-33', '5-34', '5-35', '5-36', '5-37', '5-38', '5-39', '5-40', '5-41', '5-42', '5-43', '5-44', '5-45', '5-46', '5-47', '5-48', '5-49', '5-50', '5-51', '5-52', '5-53', '5-54', '5-55', '5-56', '5-57', '5-58', '5-59', '5-60', '5-61', '5-62', '5-63', '5-64', '6-6', '6-7', '6-8', '6-9', '6-10', '6-11', '6-12', '6-13', '6-14', '6-15', '6-16', '6-17', '6-18', '6-19', '6-20', '6-21', '6-22', '6-23', '6-24', '6-25', '6-26', '6-27', '6-28', '6-29', '6-30', '6-31', '6-32', '6-33', '6-34', '6-35', '6-36', '6-37', '6-38', '6-39', '6-40', '6-41', '6-42', '6-43', '6-44', '6-45', '6-46', '6-47', '6-48', '6-49', '6-50', '6-51', '6-52', '6-53', '6-54', '6-55', '6-56', '6-57', '6-58', '6-59', '6-60', '6-61', '6-62', '6-63', '6-64', '7-7', '7-8', '7-9', '7-10', '7-11', '7-12', '7-13', '7-14', '7-15', '7-16', '7-17', '7-18', '7-19', '7-20', '7-21', '7-22', '7-23', '7-24', '7-25', '7-26', '7-27', '7-28', '7-29', '7-30', '7-31', '7-32', '7-33', '7-34', '7-35', '7-36', '7-37', '7-38', '7-39', '7-40', '7-41', '7-42', '7-43', '7-44', '7-45', '7-46', '7-47', '7-48', '7-49', '7-50', '7-51', '7-52', '7-53', '7-54', '7-55', '7-56', '7-57', '7-58', '7-59', '7-60', '7-61', '7-62', '7-63', '7-64', '8-8', '8-9', '8-10', '8-11', '8-12', '8-13', '8-14', '8-15', '8-16', '8-17', '8-18', '8-19', '8-20', '8-21', '8-22', '8-23', '8-24', '8-25', '8-26', '8-27', '8-28', '8-29', '8-30', '8-31', '8-32', '8-33', '8-34', '8-35', '8-36', '8-37', '8-38', '8-39', '8-40', '8-41', '8-42', '8-43', '8-44', '8-45', '8-46', '8-47', '8-48', '8-49', '8-50', '8-51', '8-52', '8-53', '8-54', '8-55', '8-56', '8-57', '8-58', '8-59', '8-60', '8-61', '8-62', '8-63', '8-64', '9-9', '9-10', '9-11', '9-12', '9-13', '9-14', '9-15', '9-16', '9-17', '9-18', '9-19', '9-20', '9-21', '9-22', '9-23', '9-24', '9-25', '9-26', '9-27', '9-28', '9-29', '9-30', '9-31', '9-32', '9-33', '9-34', '9-35', '9-36', '9-37', '9-38', '9-39', '9-40', '9-41', '9-42', '9-43', '9-44', '9-45', '9-46', '9-47', '9-48', '9-49', '9-50', '9-51', '9-52', '9-53', '9-54', '9-55', '9-56', '9-57', '9-58', '9-59', '9-60', '9-61', '9-62', '9-63', '9-64', '10-10', '10-11', '10-12', '10-13', '10-14', '10-15', '10-16', '10-17', '10-18', '10-19', '10-20', '10-21', '10-22', '10-23', '10-24', '10-25', '10-26', '10-27', '10-28', '10-29', '10-30', '10-31', '10-32', '10-33', '10-34', '10-35', '10-36', '10-37', '10-38', '10-39', '10-40', '10-41', '10-42', '10-43', '10-44', '10-45', '10-46', '10-47', '10-48', '10-49', '10-50', '10-51', '10-52', '10-53', '10-54', '10-55', '10-56', '10-57', '10-58', '10-59', '10-60', '10-61', '10-62', '10-63', '10-64', '11-11', '11-12', '11-13', '11-14', '11-15', '11-16', '11-17', '11-18', '11-19', '11-20', '11-21', '11-22', '11-23', '11-24', '11-25', '11-26', '11-27', '11-28', '11-29', '11-30', '11-31', '11-32', '11-33', '11-34', '11-35', '11-36', '11-37', '11-38', '11-39', '11-40', '11-41', '11-42', '11-43', '11-44', '11-45', '11-46', '11-47', '11-48', '11-49', '11-50', '11-51', '11-52', '11-53', '11-54', '11-55', '11-56', '11-57', '11-58', '11-59', '11-60', '11-61', '11-62', '11-63', '11-64', '12-12', '12-13', '12-14', '12-15', '12-16', '12-17', '12-18', '12-19', '12-20', '12-21', '12-22', '12-23', '12-24', '12-25', '12-26', '12-27', '12-28', '12-29', '12-30', '12-31', '12-32', '12-33', '12-34', '12-35', '12-36', '12-37', '12-38', '12-39', '12-40', '12-41', '12-42', '12-43', '12-44', '12-45', '12-46', '12-47', '12-48', '12-49', '12-50', '12-51', '12-52', '12-53', '12-54', '12-55', '12-56', '12-57', '12-58', '12-59', '12-60', '12-61', '12-62', '12-63', '12-64', '13-13', '13-14', '13-15', '13-16', '13-17', '13-18', '13-19', '13-20', '13-21', '13-22', '13-23', '13-24', '13-25', '13-26', '13-27', '13-28', '13-29', '13-30', '13-31', '13-32', '13-33', '13-34', '13-35', '13-36', '13-37', '13-38', '13-39', '13-40', '13-41', '13-42', '13-43', '13-44', '13-45', '13-46', '13-47', '13-48', '13-49', '13-50', '13-51', '13-52', '13-53', '13-54', '13-55', '13-56', '13-57', '13-58', '13-59', '13-60', '13-61', '13-62', '13-63', '13-64', '14-14', '14-15', '14-16', '14-17', '14-18', '14-19', '14-20', '14-21', '14-22', '14-23', '14-24', '14-25', '14-26', '14-27', '14-28', '14-29', '14-30', '14-31', '14-32', '14-33', '14-34', '14-35', '14-36', '14-37', '14-38', '14-39', '14-40', '14-41', '14-42', '14-43', '14-44', '14-45', '14-46', '14-47', '14-48', '14-49', '14-50', '14-51', '14-52', '14-53', '14-54', '14-55', '14-56', '14-57', '14-58', '14-59', '14-60', '14-61', '14-62', '14-63', '14-64', '15-15', '15-16', '15-17', '15-18', '15-19', '15-20', '15-21', '15-22', '15-23', '15-24', '15-25', '15-26', '15-27', '15-28', '15-29', '15-30', '15-31', '15-32', '15-33', '15-34', '15-35', '15-36', '15-37', '15-38', '15-39', '15-40', '15-41', '15-42', '15-43', '15-44', '15-45', '15-46', '15-47', '15-48', '15-49', '15-50', '15-51', '15-52', '15-53', '15-54', '15-55', '15-56', '15-57', '15-58', '15-59', '15-60', '15-61', '15-62', '15-63', '15-64', '16-16', '16-17', '16-18', '16-19', '16-20', '16-21', '16-22', '16-23', '16-24', '16-25', '16-26', '16-27', '16-28', '16-29', '16-30', '16-31', '16-32', '16-33', '16-34', '16-35', '16-36', '16-37', '16-38', '16-39', '16-40', '16-41', '16-42', '16-43', '16-44', '16-45', '16-46', '16-47', '16-48', '16-49', '16-50', '16-51', '16-52', '16-53', '16-54', '16-55', '16-56', '16-57', '16-58', '16-59', '16-60', '16-61', '16-62', '16-63', '16-64', '17-17', '17-18', '17-19', '17-20', '17-21', '17-22', '17-23', '17-24', '17-25', '17-26', '17-27', '17-28', '17-29', '17-30', '17-31', '17-32', '17-33', '17-34', '17-35', '17-36', '17-37', '17-38', '17-39', '17-40', '17-41', '17-42', '17-43', '17-44', '17-45', '17-46', '17-47', '17-48', '17-49', '17-50', '17-51', '17-52', '17-53', '17-54', '17-55', '17-56', '17-57', '17-58', '17-59', '17-60', '17-61', '17-62', '17-63', '17-64', '18-18', '18-19', '18-20', '18-21', '18-22', '18-23', '18-24', '18-25', '18-26', '18-27', '18-28', '18-29', '18-30', '18-31', '18-32', '18-33', '18-34', '18-35', '18-36', '18-37', '18-38', '18-39', '18-40', '18-41', '18-42', '18-43', '18-44', '18-45', '18-46', '18-47', '18-48', '18-49', '18-50', '18-51', '18-52', '18-53', '18-54', '18-55', '18-56', '18-57', '18-58', '18-59', '18-60', '18-61', '18-62', '18-63', '18-64', '19-19', '19-20', '19-21', '19-22', '19-23', '19-24', '19-25', '19-26', '19-27', '19-28', '19-29', '19-30', '19-31', '19-32', '19-33', '19-34', '19-35', '19-36', '19-37', '19-38', '19-39', '19-40', '19-41', '19-42', '19-43', '19-44', '19-45', '19-46', '19-47', '19-48', '19-49', '19-50', '19-51', '19-52', '19-53', '19-54', '19-55', '19-56', '19-57', '19-58', '19-59', '19-60', '19-61', '19-62', '19-63', '19-64', '20-20', '20-21', '20-22', '20-23', '20-24', '20-25', '20-26', '20-27', '20-28', '20-29', '20-30', '20-31', '20-32', '20-33', '20-34', '20-35', '20-36', '20-37', '20-38', '20-39', '20-40', '20-41', '20-42', '20-43', '20-44', '20-45', '20-46', '20-47', '20-48', '20-49', '20-50', '20-51', '20-52', '20-53', '20-54', '20-55', '20-56', '20-57', '20-58', '20-59', '20-60', '20-61', '20-62', '20-63', '20-64', '21-21', '21-22', '21-23', '21-24', '21-25', '21-26', '21-27', '21-28', '21-29', '21-30', '21-31', '21-32', '21-33', '21-34', '21-35', '21-36', '21-37', '21-38', '21-39', '21-40', '21-41', '21-42', '21-43', '21-44', '21-45', '21-46', '21-47', '21-48', '21-49', '21-50', '21-51', '21-52', '21-53', '21-54', '21-55', '21-56', '21-57', '21-58', '21-59', '21-60', '21-61', '21-62', '21-63', '21-64', '22-22', '22-23', '22-24', '22-25', '22-26', '22-27', '22-28', '22-29', '22-30', '22-31', '22-32', '22-33', '22-34', '22-35', '22-36', '22-37', '22-38', '22-39', '22-40', '22-41', '22-42', '22-43', '22-44', '22-45', '22-46', '22-47', '22-48', '22-49', '22-50', '22-51', '22-52', '22-53', '22-54', '22-55', '22-56', '22-57', '22-58', '22-59', '22-60', '22-61', '22-62', '22-63', '22-64', '23-23', '23-24', '23-25', '23-26', '23-27', '23-28', '23-29', '23-30', '23-31', '23-32', '23-33', '23-34', '23-35', '23-36', '23-37', '23-38', '23-39', '23-40', '23-41', '23-42', '23-43', '23-44', '23-45', '23-46', '23-47', '23-48', '23-49', '23-50', '23-51', '23-52', '23-53', '23-54', '23-55', '23-56', '23-57', '23-58', '23-59', '23-60', '23-61', '23-62', '23-63', '23-64', '24-24', '24-25', '24-26', '24-27', '24-28', '24-29', '24-30', '24-31', '24-32', '24-33', '24-34', '24-35', '24-36', '24-37', '24-38', '24-39', '24-40', '24-41', '24-42', '24-43', '24-44', '24-45', '24-46', '24-47', '24-48', '24-49', '24-50', '24-51', '24-52', '24-53', '24-54', '24-55', '24-56', '24-57', '24-58', '24-59', '24-60', '24-61', '24-62', '24-63', '24-64', '25-25', '25-26', '25-27', '25-28', '25-29', '25-30', '25-31', '25-32', '25-33', '25-34', '25-35', '25-36', '25-37', '25-38', '25-39', '25-40', '25-41', '25-42', '25-43', '25-44', '25-45', '25-46', '25-47', '25-48', '25-49', '25-50', '25-51', '25-52', '25-53', '25-54', '25-55', '25-56', '25-57', '25-58', '25-59', '25-60', '25-61', '25-62', '25-63', '25-64', '26-26', '26-27', '26-28', '26-29', '26-30', '26-31', '26-32', '26-33', '26-34', '26-35', '26-36', '26-37', '26-38', '26-39', '26-40', '26-41', '26-42', '26-43', '26-44', '26-45', '26-46', '26-47', '26-48', '26-49', '26-50', '26-51', '26-52', '26-53', '26-54', '26-55', '26-56', '26-57', '26-58', '26-59', '26-60', '26-61', '26-62', '26-63', '26-64', '27-27', '27-28', '27-29', '27-30', '27-31', '27-32', '27-33', '27-34', '27-35', '27-36', '27-37', '27-38', '27-39', '27-40', '27-41', '27-42', '27-43', '27-44', '27-45', '27-46', '27-47', '27-48', '27-49', '27-50', '27-51', '27-52', '27-53', '27-54', '27-55', '27-56', '27-57', '27-58', '27-59', '27-60', '27-61', '27-62', '27-63', '27-64', '28-28', '28-29', '28-30', '28-31', '28-32', '28-33', '28-34', '28-35', '28-36', '28-37', '28-38', '28-39', '28-40', '28-41', '28-42', '28-43', '28-44', '28-45', '28-46', '28-47', '28-48', '28-49', '28-50', '28-51', '28-52', '28-53', '28-54', '28-55', '28-56', '28-57', '28-58', '28-59', '28-60', '28-61', '28-62', '28-63', '28-64', '29-29', '29-30', '29-31', '29-32', '29-33', '29-34', '29-35', '29-36', '29-37', '29-38', '29-39', '29-40', '29-41', '29-42', '29-43', '29-44', '29-45', '29-46', '29-47', '29-48', '29-49', '29-50', '29-51', '29-52', '29-53', '29-54', '29-55', '29-56', '29-57', '29-58', '29-59', '29-60', '29-61', '29-62', '29-63', '29-64', '30-30', '30-31', '30-32', '30-33', '30-34', '30-35', '30-36', '30-37', '30-38', '30-39', '30-40', '30-41', '30-42', '30-43', '30-44', '30-45', '30-46', '30-47', '30-48', '30-49', '30-50', '30-51', '30-52', '30-53', '30-54', '30-55', '30-56', '30-57', '30-58', '30-59', '30-60', '30-61', '30-62', '30-63', '30-64', '31-31', '31-32', '31-33', '31-34', '31-35', '31-36', '31-37', '31-38', '31-39', '31-40', '31-41', '31-42', '31-43', '31-44', '31-45', '31-46', '31-47', '31-48', '31-49', '31-50', '31-51', '31-52', '31-53', '31-54', '31-55', '31-56', '31-57', '31-58', '31-59', '31-60', '31-61', '31-62', '31-63', '31-64', '32-32', '32-33', '32-34', '32-35', '32-36', '32-37', '32-38', '32-39', '32-40', '32-41', '32-42', '32-43', '32-44', '32-45', '32-46', '32-47', '32-48', '32-49', '32-50', '32-51', '32-52', '32-53', '32-54', '32-55', '32-56', '32-57', '32-58', '32-59', '32-60', '32-61', '32-62', '32-63', '32-64', '33-33', '33-34', '33-35', '33-36', '33-37', '33-38', '33-39', '33-40', '33-41', '33-42', '33-43', '33-44', '33-45', '33-46', '33-47', '33-48', '33-49', '33-50', '33-51', '33-52', '33-53', '33-54', '33-55', '33-56', '33-57', '33-58', '33-59', '33-60', '33-61', '33-62', '33-63', '33-64', '34-34', '34-35', '34-36', '34-37', '34-38', '34-39', '34-40', '34-41', '34-42', '34-43', '34-44', '34-45', '34-46', '34-47', '34-48', '34-49', '34-50', '34-51', '34-52', '34-53', '34-54', '34-55', '34-56', '34-57', '34-58', '34-59', '34-60', '34-61', '34-62', '34-63', '34-64', '35-35', '35-36', '35-37', '35-38', '35-39', '35-40', '35-41', '35-42', '35-43', '35-44', '35-45', '35-46', '35-47', '35-48', '35-49', '35-50', '35-51', '35-52', '35-53', '35-54', '35-55', '35-56', '35-57', '35-58', '35-59', '35-60', '35-61', '35-62', '35-63', '35-64', '36-36', '36-37', '36-38', '36-39', '36-40', '36-41', '36-42', '36-43', '36-44', '36-45', '36-46', '36-47', '36-48', '36-49', '36-50', '36-51', '36-52', '36-53', '36-54', '36-55', '36-56', '36-57', '36-58', '36-59', '36-60', '36-61', '36-62', '36-63', '36-64', '37-37', '37-38', '37-39', '37-40', '37-41', '37-42', '37-43', '37-44', '37-45', '37-46', '37-47', '37-48', '37-49', '37-50', '37-51', '37-52', '37-53', '37-54', '37-55', '37-56', '37-57', '37-58', '37-59', '37-60', '37-61', '37-62', '37-63', '37-64', '38-38', '38-39', '38-40', '38-41', '38-42', '38-43', '38-44', '38-45', '38-46', '38-47', '38-48', '38-49', '38-50', '38-51', '38-52', '38-53', '38-54', '38-55', '38-56', '38-57', '38-58', '38-59', '38-60', '38-61', '38-62', '38-63', '38-64', '39-39', '39-40', '39-41', '39-42', '39-43', '39-44', '39-45', '39-46', '39-47', '39-48', '39-49', '39-50', '39-51', '39-52', '39-53', '39-54', '39-55', '39-56', '39-57', '39-58', '39-59', '39-60', '39-61', '39-62', '39-63', '39-64', '40-40', '40-41', '40-42', '40-43', '40-44', '40-45', '40-46', '40-47', '40-48', '40-49', '40-50', '40-51', '40-52', '40-53', '40-54', '40-55', '40-56', '40-57', '40-58', '40-59', '40-60', '40-61', '40-62', '40-63', '40-64', '41-41', '41-42', '41-43', '41-44', '41-45', '41-46', '41-47', '41-48', '41-49', '41-50', '41-51', '41-52', '41-53', '41-54', '41-55', '41-56', '41-57', '41-58', '41-59', '41-60', '41-61', '41-62', '41-63', '41-64', '42-42', '42-43', '42-44', '42-45', '42-46', '42-47', '42-48', '42-49', '42-50', '42-51', '42-52', '42-53', '42-54', '42-55', '42-56', '42-57', '42-58', '42-59', '42-60', '42-61', '42-62', '42-63', '42-64', '43-43', '43-44', '43-45', '43-46', '43-47', '43-48', '43-49', '43-50', '43-51', '43-52', '43-53', '43-54', '43-55', '43-56', '43-57', '43-58', '43-59', '43-60', '43-61', '43-62', '43-63', '43-64', '44-44', '44-45', '44-46', '44-47', '44-48', '44-49', '44-50', '44-51', '44-52', '44-53', '44-54', '44-55', '44-56', '44-57', '44-58', '44-59', '44-60', '44-61', '44-62', '44-63', '44-64', '45-45', '45-46', '45-47', '45-48', '45-49', '45-50', '45-51', '45-52', '45-53', '45-54', '45-55', '45-56', '45-57', '45-58', '45-59', '45-60', '45-61', '45-62', '45-63', '45-64', '46-46', '46-47', '46-48', '46-49', '46-50', '46-51', '46-52', '46-53', '46-54', '46-55', '46-56', '46-57', '46-58', '46-59', '46-60', '46-61', '46-62', '46-63', '46-64', '47-47', '47-48', '47-49', '47-50', '47-51', '47-52', '47-53', '47-54', '47-55', '47-56', '47-57', '47-58', '47-59', '47-60', '47-61', '47-62', '47-63', '47-64', '48-48', '48-49', '48-50', '48-51', '48-52', '48-53', '48-54', '48-55', '48-56', '48-57', '48-58', '48-59', '48-60', '48-61', '48-62', '48-63', '48-64', '49-49', '49-50', '49-51', '49-52', '49-53', '49-54', '49-55', '49-56', '49-57', '49-58', '49-59', '49-60', '49-61', '49-62', '49-63', '49-64', '50-50', '50-51', '50-52', '50-53', '50-54', '50-55', '50-56', '50-57', '50-58', '50-59', '50-60', '50-61', '50-62', '50-63', '50-64', '51-51', '51-52', '51-53', '51-54', '51-55', '51-56', '51-57', '51-58', '51-59', '51-60', '51-61', '51-62', '51-63', '51-64', '52-52', '52-53', '52-54', '52-55', '52-56', '52-57', '52-58', '52-59', '52-60', '52-61', '52-62', '52-63', '52-64', '53-53', '53-54', '53-55', '53-56', '53-57', '53-58', '53-59', '53-60', '53-61', '53-62', '53-63', '53-64', '54-54', '54-55', '54-56', '54-57', '54-58', '54-59', '54-60', '54-61', '54-62', '54-63', '54-64', '55-55', '55-56', '55-57', '55-58', '55-59', '55-60', '55-61', '55-62', '55-63', '55-64', '56-56', '56-57', '56-58', '56-59', '56-60', '56-61', '56-62', '56-63', '56-64', '57-57', '57-58', '57-59', '57-60', '57-61', '57-62', '57-63', '57-64', '58-58', '58-59', '58-60', '58-61', '58-62', '58-63', '58-64', '59-59', '59-60', '59-61', '59-62', '59-63', '59-64', '60-60', '60-61', '60-62', '60-63', '60-64', '61-61', '61-62', '61-63', '61-64', '62-62', '62-63', '62-64', '63-63', '63-64', '64-64'])\n"
     ]
    },
    {
     "name": "stdout",
     "output_type": "stream",
     "text": [
      "ipdb> p _pitmodel.model['14-45']\n",
      "array([], shape=(2, 0), dtype=float64)\n",
      "ipdb> quit\n"
     ]
    }
   ],
   "source": [
    "%debug"
   ]
  },
  {
   "cell_type": "code",
   "execution_count": 37,
   "metadata": {},
   "outputs": [
    {
     "name": "stderr",
     "output_type": "stream",
     "text": [
      "/N/u/pengb/hpda/indycar/predictor/src/indycar/model/stint_simulator_shortterm_pitmodel.py:196: SettingWithCopyWarning: \n",
      "A value is trying to be set on a copy of a slice from a DataFrame\n",
      "\n",
      "See the caveats in the documentation: http://pandas.pydata.org/pandas-docs/stable/user_guide/indexing.html#returning-a-view-versus-a-copy\n",
      "  uni_ds['rank_diff'][mask] = 0\n",
      "/N/u/pengb/hpda/indycar/predictor/src/indycar/model/stint_simulator_shortterm_pitmodel.py:200: SettingWithCopyWarning: \n",
      "A value is trying to be set on a copy of a slice from a DataFrame\n",
      "\n",
      "See the caveats in the documentation: http://pandas.pydata.org/pandas-docs/stable/user_guide/indexing.html#returning-a-view-versus-a-copy\n",
      "  uni_ds['time_diff'][mask] = 0\n",
      "INFO:root:Using GPU\n"
     ]
    },
    {
     "name": "stdout",
     "output_type": "stream",
     "text": [
      "init: load dataset with 7 races, 58 cars\n",
      "init model:pitmodel-m60-mlp-dsel-e500-l10-10-5-student-d0.1.pickle\n",
      "init pitmodel as PitModelMLP(pitmodel)\n",
      "predicting model=oracle, plen=2\n",
      "loading model...done!, ctx:gpu(0)\n",
      "a short ts: carid=88，len=4\n",
      "a short ts: carid=88，len=4\n",
      "a short ts: carid=88，len=4\n",
      "a short ts: carid=88，len=4\n",
      "a short ts: carid=88，len=4\n",
      "a short ts: carid=88，len=4\n",
      "a short ts: carid=88，len=4\n",
      "a short ts: carid=88，len=4\n",
      "a short ts: carid=88，len=4\n",
      "a short ts: carid=88，len=4\n",
      "pred: acc=0.7393617021276596, mae=1.1842245514300942, rmse=8.790904245869603,r2=0.8851923183703279, acc_naive=0.7340425531914894, mae_naive=1.1625510747912595\n",
      "pred: acc=0.7287234042553191, mae=1.1998578788417125, rmse=9.142654112631018,r2=0.8805985262430391, acc_naive=0.7340425531914894, mae_naive=1.1625510747912595\n",
      "pred: acc=0.75, mae=1.1863563688044056, rmse=8.849529223663174,r2=0.884426686349113, acc_naive=0.7340425531914894, mae_naive=1.1625510747912595\n",
      "pred: acc=0.7553191489361702, mae=1.1970154556759638, rmse=9.09895185645763,r2=0.8811692701133993, acc_naive=0.7340425531914894, mae_naive=1.1625510747912595\n",
      "pred: acc=0.7340425531914894, mae=1.1980813643631196, rmse=9.027180671522473,r2=0.882106589315129, acc_naive=0.7340425531914894, mae_naive=1.1625510747912595\n",
      "pred: acc=0.7553191489361702, mae=1.18529046011725, rmse=8.978504174809025,r2=0.8827422959024406, acc_naive=0.7340425531914894, mae_naive=1.1625510747912595\n",
      "pred: acc=0.75, mae=1.1945283354059335, rmse=9.059513235032865,r2=0.8816843316549438, acc_naive=0.7340425531914894, mae_naive=1.1625510747912595\n",
      "pred: acc=0.7446808510638298, mae=1.1927518209273407, rmse=9.091135192751821,r2=0.8812713543828946, acc_naive=0.7340425531914894, mae_naive=1.1625510747912595\n",
      "pred: acc=0.75, mae=1.1803162195771895, rmse=8.987742050097708,r2=0.8826216508566734, acc_naive=0.7340425531914894, mae_naive=1.1625510747912595\n",
      "pred: acc=0.7340425531914894, mae=1.1955942440930893, rmse=8.9799253863919,r2=0.8827237351261688, acc_naive=0.7340425531914894, mae_naive=1.1625510747912595\n",
      "[0.74414894 1.19140167 9.00060401 0.88245368]\n",
      "save keys to pitmodel-keys.pickle.\n",
      "[0.74414894 1.19140167 9.00060401 0.88245368]\n"
     ]
    }
   ],
   "source": [
    "test_pitmodel('pitmodel-m60-mlp-dsel-e500-l10-10-5-student-d0.1.pickle', 'Indy500-2019', 'RANK')"
   ]
  },
  {
   "cell_type": "code",
   "execution_count": 38,
   "metadata": {},
   "outputs": [
    {
     "name": "stderr",
     "output_type": "stream",
     "text": [
      "/N/u/pengb/hpda/indycar/predictor/src/indycar/model/stint_simulator_shortterm_pitmodel.py:196: SettingWithCopyWarning: \n",
      "A value is trying to be set on a copy of a slice from a DataFrame\n",
      "\n",
      "See the caveats in the documentation: http://pandas.pydata.org/pandas-docs/stable/user_guide/indexing.html#returning-a-view-versus-a-copy\n",
      "  uni_ds['rank_diff'][mask] = 0\n",
      "/N/u/pengb/hpda/indycar/predictor/src/indycar/model/stint_simulator_shortterm_pitmodel.py:200: SettingWithCopyWarning: \n",
      "A value is trying to be set on a copy of a slice from a DataFrame\n",
      "\n",
      "See the caveats in the documentation: http://pandas.pydata.org/pandas-docs/stable/user_guide/indexing.html#returning-a-view-versus-a-copy\n",
      "  uni_ds['time_diff'][mask] = 0\n",
      "INFO:root:Using GPU\n"
     ]
    },
    {
     "name": "stdout",
     "output_type": "stream",
     "text": [
      "init: load dataset with 7 races, 58 cars\n",
      "init model:pitmodel-m65-mlp-dsel-e500-l10-10-5-student-d0.1.pickle\n",
      "init pitmodel as PitModelMLP(pitmodel)\n",
      "predicting model=oracle, plen=2\n",
      "loading model...done!, ctx:gpu(0)\n",
      "ERROR: key 14-45 not found in model\n",
      "ERROR: key 14-45 not found in model\n",
      "ERROR: key 14-45 not found in model\n",
      "ERROR: key 14-45 not found in model\n",
      "ERROR: key 14-45 not found in model\n",
      "ERROR: key 14-45 not found in model\n",
      "ERROR: key 14-45 not found in model\n",
      "ERROR: key 14-45 not found in model\n",
      "ERROR: key 14-45 not found in model\n",
      "ERROR: key 14-45 not found in model\n",
      "pred: acc=0.776595744680851, mae=1.3644194756554306, rmse=9.961048689138577,r2=0.860927424763811, acc_naive=0.7180851063829787, mae_naive=1.3393258426966292\n",
      "pred: acc=0.7446808510638298, mae=1.3318352059925094, rmse=9.822471910112359,r2=0.8628621838568096, acc_naive=0.7180851063829787, mae_naive=1.3393258426966292\n",
      "pred: acc=0.7446808510638298, mae=1.352434456928839, rmse=10.367041198501873,r2=0.8552591035291882, acc_naive=0.7180851063829787, mae_naive=1.3393258426966292\n",
      "pred: acc=0.7553191489361702, mae=1.3715355805243445, rmse=10.348689138576779,r2=0.8555153283820448, acc_naive=0.7180851063829787, mae_naive=1.3393258426966292\n",
      "pred: acc=0.7712765957446809, mae=1.3104868913857677, rmse=9.7625468164794,r2=0.8636988364375657, acc_naive=0.7180851063829787, mae_naive=1.3393258426966292\n",
      "pred: acc=0.7287234042553191, mae=1.4033707865168539, rmse=10.616104868913858,r2=0.8517817662404206, acc_naive=0.7180851063829787, mae_naive=1.3393258426966292\n",
      "pred: acc=0.7393617021276596, mae=1.351685393258427, rmse=9.96179775280899,r2=0.8609169666065516, acc_naive=0.7180851063829787, mae_naive=1.3393258426966292\n",
      "pred: acc=0.776595744680851, mae=1.3775280898876405, rmse=10.491011235955057,r2=0.8535282785027489, acc_naive=0.7180851063829787, mae_naive=1.3393258426966292\n",
      "pred: acc=0.7659574468085106, mae=1.3790262172284644, rmse=10.208614232209738,r2=0.8574710037895623, acc_naive=0.7180851063829787, mae_naive=1.3393258426966292\n",
      "pred: acc=0.7553191489361702, mae=1.3629213483146068, rmse=10.104494382022471,r2=0.8589246876486261, acc_naive=0.7180851063829787, mae_naive=1.3393258426966292\n",
      "[ 0.75585106  1.36052434 10.16438202  0.85808856]\n",
      "save keys to pitmodel-keys.pickle.\n",
      "[ 0.75585106  1.36052434 10.16438202  0.85808856]\n"
     ]
    },
    {
     "name": "stderr",
     "output_type": "stream",
     "text": [
      "/N/u/pengb/hpda/indycar/predictor/src/indycar/model/stint_simulator_shortterm_pitmodel.py:196: SettingWithCopyWarning: \n",
      "A value is trying to be set on a copy of a slice from a DataFrame\n",
      "\n",
      "See the caveats in the documentation: http://pandas.pydata.org/pandas-docs/stable/user_guide/indexing.html#returning-a-view-versus-a-copy\n",
      "  uni_ds['rank_diff'][mask] = 0\n",
      "/N/u/pengb/hpda/indycar/predictor/src/indycar/model/stint_simulator_shortterm_pitmodel.py:200: SettingWithCopyWarning: \n",
      "A value is trying to be set on a copy of a slice from a DataFrame\n",
      "\n",
      "See the caveats in the documentation: http://pandas.pydata.org/pandas-docs/stable/user_guide/indexing.html#returning-a-view-versus-a-copy\n",
      "  uni_ds['time_diff'][mask] = 0\n",
      "INFO:root:Using GPU\n"
     ]
    },
    {
     "name": "stdout",
     "output_type": "stream",
     "text": [
      "init: load dataset with 7 races, 58 cars\n",
      "init model:pitmodel-m65-mlp-dsel-e500-l10-10-5-student-d0.1.pickle\n",
      "init pitmodel as PitModelMLP(pitmodel)\n",
      "predicting model=oracle, plen=2\n",
      "loading model...done!, ctx:gpu(0)\n",
      "a short ts: carid=88，len=4\n",
      "a short ts: carid=88，len=4\n",
      "a short ts: carid=88，len=4\n",
      "a short ts: carid=88，len=4\n",
      "a short ts: carid=88，len=4\n",
      "a short ts: carid=88，len=4\n",
      "a short ts: carid=88，len=4\n",
      "a short ts: carid=88，len=4\n",
      "a short ts: carid=88，len=4\n",
      "a short ts: carid=88，len=4\n",
      "pred: acc=0.7021276595744681, mae=1.2360987742050098, rmse=8.706342156688576,r2=0.8862966845585043, acc_naive=0.7340425531914894, mae_naive=1.1625510747912595\n",
      "pred: acc=0.6914893617021277, mae=1.2151359033576123, rmse=8.676496713448214,r2=0.8866864608602136, acc_naive=0.7340425531914894, mae_naive=1.1625510747912595\n",
      "pred: acc=0.7021276595744681, mae=1.2158465091490496, rmse=8.516610410374845,r2=0.8887745481907994, acc_naive=0.7340425531914894, mae_naive=1.1625510747912595\n",
      "pred: acc=0.6861702127659575, mae=1.2460472552851305, rmse=8.940842067862853,r2=0.8832341564736452, acc_naive=0.7340425531914894, mae_naive=1.1625510747912595\n",
      "pred: acc=0.6914893617021277, mae=1.2407177118493515, rmse=8.824302718067152,r2=0.8847561401279388, acc_naive=0.7340425531914894, mae_naive=1.1625510747912595\n",
      "pred: acc=0.6968085106382979, mae=1.2400071060579143, rmse=8.903179960916681,r2=0.8837260170448499, acc_naive=0.7340425531914894, mae_naive=1.1625510747912595\n",
      "pred: acc=0.723404255319149, mae=1.1948836383016521, rmse=8.507017232190442,r2=0.8888998334306345, acc_naive=0.7340425531914894, mae_naive=1.1625510747912595\n",
      "pred: acc=0.6808510638297872, mae=1.2595487653224373, rmse=8.97459584295612,r2=0.8827933380371882, acc_naive=0.7340425531914894, mae_naive=1.1625510747912595\n",
      "pred: acc=0.7180851063829787, mae=1.2058980280689287, rmse=8.397583940309113,r2=0.8903290132035687, acc_naive=0.7340425531914894, mae_naive=1.1625510747912595\n",
      "pred: acc=0.7021276595744681, mae=1.2087404512346775, rmse=8.647717178895007,r2=0.8870623165797191, acc_naive=0.7340425531914894, mae_naive=1.1625510747912595\n",
      "[0.69946809 1.22629241 8.70946882 0.88625585]\n",
      "save keys to pitmodel-keys.pickle.\n",
      "[0.69946809 1.22629241 8.70946882 0.88625585]\n"
     ]
    }
   ],
   "source": [
    "test_pitmodel('pitmodel-m65-mlp-dsel-e500-l10-10-5-student-d0.1.pickle', 'Indy500-2018', 'TIMEDIFF')\n",
    "test_pitmodel('pitmodel-m65-mlp-dsel-e500-l10-10-5-student-d0.1.pickle', 'Indy500-2019', 'TIMEDIFF')"
   ]
  },
  {
   "cell_type": "code",
   "execution_count": null,
   "metadata": {},
   "outputs": [],
   "source": []
  }
 ],
 "metadata": {
  "kernelspec": {
   "display_name": "Python 3",
   "language": "python",
   "name": "python3"
  },
  "language_info": {
   "codemirror_mode": {
    "name": "ipython",
    "version": 3
   },
   "file_extension": ".py",
   "mimetype": "text/x-python",
   "name": "python",
   "nbconvert_exporter": "python",
   "pygments_lexer": "ipython3",
   "version": "3.6.10"
  }
 },
 "nbformat": 4,
 "nbformat_minor": 4
}
