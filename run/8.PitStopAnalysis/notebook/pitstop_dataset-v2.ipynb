{
 "cells": [
  {
   "cell_type": "markdown",
   "metadata": {},
   "source": [
    "### pitstop dataset\n",
    "\n",
    "build a pitstop dataset across all the oval races\n",
    "\n",
    "gap distribution analysis. \n",
    "+ comparison with normalized histgram\n",
    "+ no yellow flag, pure racing stint\n",
    "+ yellow flag raised, pitstop at green flag\n",
    "+ yellow flag raised, pitstop at caution flag"
   ]
  },
  {
   "cell_type": "code",
   "execution_count": 1,
   "metadata": {},
   "outputs": [],
   "source": [
    "%matplotlib inline\n",
    "import pandas as pd\n",
    "import numpy as np\n",
    "import matplotlib.pyplot as plt\n",
    "import os\n",
    "os.environ[\"CUDA_VISIBLE_DEVICES\"]=\"7\""
   ]
  },
  {
   "cell_type": "markdown",
   "metadata": {},
   "source": [
    "## Load Data"
   ]
  },
  {
   "cell_type": "code",
   "execution_count": 2,
   "metadata": {},
   "outputs": [
    {
     "data": {
      "text/plain": [
       "'/scratch/hpda/indycar/predictor/notebook/8.PitStopAnalysis'"
      ]
     },
     "execution_count": 2,
     "metadata": {},
     "output_type": "execute_result"
    }
   ],
   "source": [
    "import os\n",
    "os.getcwd()"
   ]
  },
  {
   "cell_type": "code",
   "execution_count": 3,
   "metadata": {},
   "outputs": [],
   "source": [
    "#\n",
    "# parameters\n",
    "#\n",
    "#year = '2017'\n",
    "year = '2018'\n",
    "#event = 'Toronto'\n",
    "#https://www.racing-reference.info/season-stats/2018/O/#\n",
    "events_totalmiles=[256,500,372,268,500,310]\n",
    "events_laplen = [1.022,2.5,1.5,0.894,2.5,1.25]\n",
    "events = ['Phoenix','Indy500','Texas','Iowa','Pocono','Gateway']\n",
    "events_id={key:idx for idx, key in enumerate(events)}\n",
    "#events = ['Indy500']\n",
    "#events = ['Phoenix']"
   ]
  },
  {
   "cell_type": "code",
   "execution_count": 4,
   "metadata": {},
   "outputs": [],
   "source": [
    "# make indy car completed_laps dataset\n",
    "# car_number, completed_laps, rank, elapsed_time, rank_diff, elapsed_time_diff \n",
    "def make_cl_data(dataset):\n",
    "\n",
    "    # pick up data with valid rank\n",
    "    rankdata = dataset.rename_axis('MyIdx').sort_values(by=['elapsed_time','MyIdx'], ascending=True)\n",
    "    rankdata = rankdata.drop_duplicates(subset=['car_number', 'completed_laps'], keep='first')\n",
    "\n",
    "    # resort by car_number, lap\n",
    "    uni_ds = rankdata.sort_values(by=['car_number', 'completed_laps', 'elapsed_time'], ascending=True)    \n",
    "    uni_ds = uni_ds.drop([\"unique_id\", \"best_lap\", \"current_status\", \"track_status\", \"lap_status\",\n",
    "                      \"laps_behind_leade\",\"laps_behind_prec\",\"overall_rank\",\"pit_stop_count\",\n",
    "                      \"last_pitted_lap\",\"start_position\",\"laps_led\"], axis=1)\n",
    "    \n",
    "    carnumber = set(uni_ds['car_number'])\n",
    "    print('cars:', carnumber)\n",
    "    print('#cars=', len(carnumber))\n",
    "   \n",
    "    # faster solution , uni_ds already sorted by car_number and lap\n",
    "    uni_ds['rank_diff'] = uni_ds['rank'].diff()\n",
    "    mask = uni_ds.car_number != uni_ds.car_number.shift(1)\n",
    "    uni_ds['rank_diff'][mask] = 0\n",
    "    \n",
    "    uni_ds['time_diff'] = uni_ds['elapsed_time'].diff()\n",
    "    mask = uni_ds.car_number != uni_ds.car_number.shift(1)\n",
    "    uni_ds['time_diff'][mask] = 0\n",
    "    \n",
    "    df = uni_ds[['car_number','completed_laps','rank','elapsed_time','rank_diff','time_diff']]\n",
    "    \n",
    "    return df\n",
    "\n",
    "def make_lapstatus_data(dataset):\n",
    "    final_lap = max(dataset.completed_laps)\n",
    "    total_laps = final_lap + 1\n",
    "\n",
    "    # get records for the cars that finish the race\n",
    "    completed_car_numbers= dataset[dataset.completed_laps == final_lap].car_number.values\n",
    "    completed_car_count = len(completed_car_numbers)\n",
    "\n",
    "    print('count of completed cars:', completed_car_count)\n",
    "    print('completed cars:', completed_car_numbers)\n",
    "    \n",
    "    #pick up one of them\n",
    "    onecar = dataset[dataset['car_number']==completed_car_numbers[0]]\n",
    "    onecar = onecar.drop_duplicates(subset=['car_number', 'completed_laps'], keep='first')\n",
    "    return onecar[['completed_laps','track_status']]\n",
    "    "
   ]
  },
  {
   "cell_type": "code",
   "execution_count": 5,
   "metadata": {},
   "outputs": [],
   "source": [
    "def load_data(event, year):\n",
    "    inputfile = '../data/final/C_'+ event +'-' + year + '-final.csv'\n",
    "    outputprefix = year +'-' + event + '-'\n",
    "    dataset = pd.read_csv(inputfile)\n",
    "    #dataset.info(verbose=True)    \n",
    "    \n",
    "    final_lap = max(dataset.completed_laps)\n",
    "    total_laps = final_lap + 1\n",
    "\n",
    "    # get records for the cars that finish the race\n",
    "    completed_car_numbers= dataset[dataset.completed_laps == final_lap].car_number.values\n",
    "    completed_car_count = len(completed_car_numbers)\n",
    "\n",
    "    print('count of completed cars:', completed_car_count)\n",
    "    print('completed cars:', completed_car_numbers)\n",
    "\n",
    "    #make a copy\n",
    "    alldata = dataset.copy()\n",
    "    dataset = dataset[dataset['car_number'].isin(completed_car_numbers)]\n",
    "    rankdata = alldata.rename_axis('MyIdx').sort_values(by=['elapsed_time','MyIdx'], ascending=True)\n",
    "    rankdata = rankdata.drop_duplicates(subset=['car_number', 'completed_laps'], keep='first')\n",
    "    \n",
    "    cldata = make_cl_data(dataset)\n",
    "    flagdata = make_lapstatus_data(dataset)\n",
    "    acldata = make_cl_data(alldata)\n",
    "\n",
    "    return alldata, rankdata, acldata, flagdata"
   ]
  },
  {
   "cell_type": "markdown",
   "metadata": {},
   "source": [
    "### overall view of laptime scatter plots\n",
    "\n"
   ]
  },
  {
   "cell_type": "code",
   "execution_count": 6,
   "metadata": {},
   "outputs": [],
   "source": [
    "def get_cardata(curcarno, ycol='time_diff'):\n",
    "    car = acldata[acldata['car_number']==curcarno]\n",
    "    #print(car['time_diff'].describe())\n",
    "    \n",
    "    cols=['completed_laps','rank','car_number','lap_status','track_status',\n",
    "    'pit_stop_count','current_status','start_position']\n",
    "    colid={key:idx for idx, key in enumerate(cols)}\n",
    "\n",
    "    cardata = rankdata[rankdata['car_number'] == curcarno]\n",
    "\n",
    "    carstatus = [[row[0], row[1],row[2],row[3],row[4],row[5],row[6],row[7]] for row in cardata[\n",
    "        ['completed_laps','rank','car_number','lap_status','track_status',\n",
    "        'pit_stop_count','current_status','start_position']].values]\n",
    "    \n",
    "    x = car['completed_laps'][1:].values\n",
    "    y = car[ycol][1:].values\n",
    "\n",
    "    pits=[]\n",
    "    yellowflags=[]\n",
    "    lastflag = 'x'\n",
    "    for row in carstatus:\n",
    "        lap = int(row[colid['completed_laps']])\n",
    "\n",
    "        if row[colid['lap_status']]=='P':\n",
    "            pits.append(lap)\n",
    "\n",
    "        if row[colid['track_status']]=='Y':\n",
    "            if lastflag != 'Y':       \n",
    "                #start\n",
    "                yellowflags.append(lap)\n",
    "        else:\n",
    "            if lastflag == 'Y':       \n",
    "                #end\n",
    "                yellowflags.append(lap)        \n",
    "        lastflag = row[colid['track_status']]\n",
    "\n",
    "    #pit lap\n",
    "    pits = np.array(pits)\n",
    "    #start, end lap\n",
    "    #\n",
    "    yellowflags = np.array(yellowflags)\n",
    "    if (yellowflags.shape[0] % 2)==1:\n",
    "        print('crash?:carno=', curcarno)\n",
    "        yellowflags = []\n",
    "    else:\n",
    "        yellowflags = np.array(yellowflags).reshape((-1,2))    \n",
    "    \n",
    "    return car, x, y, pits, yellowflags"
   ]
  },
  {
   "cell_type": "markdown",
   "metadata": {},
   "source": [
    "### bulid the dataset"
   ]
  },
  {
   "cell_type": "code",
   "execution_count": 7,
   "metadata": {},
   "outputs": [],
   "source": [
    "def get_stagedata(TRIM=2):\n",
    "    \"\"\"\n",
    "    input: acldata, rankdata, the whole dataset\n",
    "    output: stagedata['car_number','stage','start_lap','end_lap','start_rank','end_rank','yellowflag_raised']\n",
    "    \"\"\"\n",
    "    carlist = set(acldata['car_number'])\n",
    "    data = []\n",
    "    for curcarno in carlist:\n",
    "        car = acldata[acldata['car_number']==curcarno]\n",
    "        #print(car['time_diff'].describe())\n",
    "\n",
    "        cols=['completed_laps','rank','car_number','lap_status','track_status',\n",
    "        'pit_stop_count','current_status','start_position']\n",
    "        colid={key:idx for idx, key in enumerate(cols)}\n",
    "\n",
    "        cardata = rankdata[rankdata['car_number'] == curcarno]\n",
    "\n",
    "        carstatus = [[row[0], row[1],row[2],row[3],row[4],row[5],row[6],row[7]] for row in cardata[\n",
    "            ['completed_laps','rank','car_number','lap_status','track_status',\n",
    "            'pit_stop_count','current_status','start_position']].values]\n",
    "\n",
    "        pits=[]\n",
    "        yellowflags=[]\n",
    "        lastflag = 'x'\n",
    "        \n",
    "        stage = 0\n",
    "        start_lap = 0\n",
    "        pit_lap = -1\n",
    "        pit_in_caution = 0\n",
    "        yellowflag_raised = 0\n",
    "        for row in carstatus:\n",
    "            lap = int(row[colid['completed_laps']])\n",
    "            \n",
    "            if lap==0:\n",
    "                #hex2int\n",
    "                start_rank = int(row[colid['start_position']], 16)     \n",
    "            \n",
    "            if row[colid['track_status']]=='Y':\n",
    "                yellowflag_raised = 1\n",
    "                if lastflag != 'Y':       \n",
    "                    #start\n",
    "                    yellowflags.append(lap)\n",
    "            else:\n",
    "                if lastflag == 'Y':       \n",
    "                    #end\n",
    "                    yellowflags.append(lap)        \n",
    "            lastflag = row[colid['track_status']]\n",
    "            \n",
    "            if row[colid['lap_status']]=='P' and row[colid['current_status']]=='Active':\n",
    "                pits.append(lap)\n",
    "                end_lap = lap - TRIM\n",
    "                end_rank = carstatus[end_lap][colid['rank']]\n",
    "                \n",
    "                #pit_lap = lap  #current is pit lap\n",
    "                \n",
    "                #redefine pit_lap as the previous caution_lap\n",
    "                #pit_lap = yellowflags[-1]\n",
    "                #pit_in_caution = 1 if row[colid['track_status']]=='Y' else 0\n",
    "                if row[colid['track_status']]=='Y':\n",
    "                    pit_lap = yellowflags[-1]\n",
    "                    pit_in_caution = 1\n",
    "                else:\n",
    "                    pit_lap = lap\n",
    "                    pit_in_caution = 0\n",
    "                \n",
    "                #add one record\n",
    "                #stagedata['car_number','stage','start_lap','end_lap','start_rank','end_rank','yellowflag_raised']\n",
    "                data.append([curcarno,stage,start_lap, end_lap, pit_lap, pit_in_caution, \n",
    "                             start_rank, end_rank,yellowflag_raised])\n",
    "                # prepare for the next\n",
    "                stage += 1\n",
    "                start_lap = end_lap  # end_lap + 1?\n",
    "                start_rank = end_rank\n",
    "                yellowflag_raised = 1 if lastflag=='Y' else 0\n",
    "\n",
    "        #final\n",
    "        end_lap = carstatus[-1][colid['completed_laps']]\n",
    "        end_rank = carstatus[-1][colid['rank']]\n",
    "        #add one record\n",
    "        #stagedata['car_number','stage','start_lap','end_lap',pit_lap, pit_in_caution,'start_rank','end_rank']\n",
    "        #data.append([curcarno,stage,start_lap, end_lap, pit_lap, pit_in_caution, start_rank, end_rank])\n",
    "        \n",
    "        #pit lap\n",
    "        pits = np.array(pits)\n",
    "        #start, end lap\n",
    "        #\n",
    "        yellowflags = np.array(yellowflags)\n",
    "        if (yellowflags.shape[0] % 2)==1:\n",
    "            print('crash?:carno=', curcarno)\n",
    "            yellowflags = []\n",
    "        else:\n",
    "            yellowflags = np.array(yellowflags).reshape((-1,2))  \n",
    "            \n",
    "    data = np.array(data)\n",
    "    #['car_number','stage','start_lap','end_lap',pit_lap, pit_in_caution,'start_rank','end_rank']\n",
    "    df = pd.DataFrame({'car_number': data[:, 0], 'stage': data[:, 1],'start_lap': data[:, 2],\n",
    "                      'end_lap': data[:, 3], 'pit_lap': data[:, 4], 'pit_in_caution': data[:, 5],\n",
    "                       'start_rank': data[:, 6],'end_rank': data[:, 7],'yellowflag_raised':data[:,8]})\n",
    "    return df, data"
   ]
  },
  {
   "cell_type": "markdown",
   "metadata": {},
   "source": [
    "### events"
   ]
  },
  {
   "cell_type": "code",
   "execution_count": 8,
   "metadata": {},
   "outputs": [],
   "source": [
    "def extract_stint_features(stagedata):\n",
    "    \"\"\"\n",
    "    input: (alldata, rankdata, acldata, flagdata, stage, data)\n",
    "    \n",
    "    lap_distance    ; lap distance for this stint\n",
    "    start_lap\n",
    "    caution_distance\n",
    "    \n",
    "    eventid\n",
    "    car_number\n",
    "    stageid\n",
    "    \n",
    "    pit_in_caution; 1/0\n",
    "    yellowflag_raised ; 1/0\n",
    "    \n",
    "    start_position  ; #\n",
    "    start_rank  ;  #rank\n",
    "    end_rank\n",
    "    \"\"\"\n",
    "    #eventid = 0\n",
    "    cols=['lap_distance','start_lap','caution_distance',\n",
    "             'eventid','car_number','stageid',\n",
    "             'pit_in_caution', 'yellowflag_raised',\n",
    "             'start_position', 'start_rank', 'end_rank']\n",
    "    colid={key:idx for idx, key in enumerate(cols)}\n",
    "    \n",
    "    datacols = ['car_number','stage','start_lap','end_lap','pit_lap', \n",
    "                'pit_in_caution', 'start_rank','end_rank','yellowflag_raised']\n",
    "    datacolid={key:idx for idx, key in enumerate(datacols)}\n",
    "    \n",
    "    #maintain a <car,lap, (rank, stage)> index \n",
    "    idxcols = ['car_number','completed_laps','rank','stageid']\n",
    "    carindex = {}\n",
    "    \n",
    "    stagedf = pd.DataFrame([],columns=cols)\n",
    "    for event in stagedata.keys():\n",
    "        \n",
    "        eventid = events_id[event]\n",
    "        \n",
    "        alldata, rankdata, acldata, flagdata, stage, data = stagedata[event]\n",
    "        carlist = set(acldata['car_number'])\n",
    "        laplist = set(acldata['completed_laps'])\n",
    "        totalcars = len(carlist)\n",
    "        totallaps = len(laplist)\n",
    "\n",
    "        # init the index\n",
    "        #carindex[eventid] = np.array((totalcars, totallaps, 2))\n",
    "        carindex[eventid] = pd.DataFrame([],columns=idxcols)\n",
    "        \n",
    "        records = []\n",
    "        \n",
    "        laphist = []\n",
    "        rankhist = []\n",
    "        rankchghist = []        \n",
    "        #['car_number','stage','start_lap','end_lap',pit_lap, pit_in_caution, 'start_rank','end_rank']\n",
    "        for row in data:\n",
    "            # a new record\n",
    "            rec={}\n",
    "            #status, 'start_lap', start a new car\n",
    "            if row[datacolid['start_lap']] == 0:\n",
    "                start_position = row[datacolid['start_rank']]\n",
    "                laphist = []\n",
    "                rankhist = []\n",
    "                rankchghist = []\n",
    "            \n",
    "            #target \n",
    "            rec['lap_distance'] = row[datacolid['end_lap']] - row[datacolid['start_lap']] + 1\n",
    "            rec['start_lap'] = row[datacolid['start_lap']]\n",
    "            rec['caution_distance'] = row[datacolid['end_lap']] - row[datacolid['pit_lap']] + 1\n",
    "            \n",
    "            #features\n",
    "            rec['eventid'] = eventid\n",
    "            rec['car_number'] = row[datacolid['car_number']]\n",
    "            rec['stageid'] = row[datacolid['stage']]\n",
    "            \n",
    "            rec['pit_in_caution'] = row[datacolid['pit_in_caution']]\n",
    "            rec['yellowflag_raised'] = row[datacolid['yellowflag_raised']]\n",
    "            \n",
    "            rec['start_position'] = start_position\n",
    "            rec['start_rank'] = row[datacolid['start_rank']]\n",
    "            rec['end_rank'] = row[datacolid['end_rank']]\n",
    "            \n",
    "            \n",
    "            #add one record\n",
    "            records.append([rec[col] for col in cols])\n",
    "            \n",
    "            #update for the new stage\n",
    "            lapdata = rankdata[(rankdata['car_number']== rec['car_number']) & \n",
    "                               (rankdata['completed_laps']>=row[datacolid['start_lap']]) &\n",
    "                               (rankdata['completed_laps']<row[datacolid['end_lap']])\n",
    "                              ]\n",
    "            laphist.append(lapdata)\n",
    "            rankhist.extend(list(lapdata['rank']))\n",
    "            rankchghist.append(row[datacolid['end_rank']] - row[datacolid['start_rank']])\n",
    "            \n",
    "            # add to index, go through the lapdata\n",
    "            #or _lap in range(row[datacolid['start_lap']],row[datacolid['end_lap']]):\n",
    "            for index, row in lapdata.iterrows():\n",
    "                #carindex[eventid][rec['car_number'], row['completed_laps'], 0] = row['rank']\n",
    "                #carindex[eventid][rec['car_number'], row['completed_laps'], 1 = rec['stageid']\n",
    "                laprec = [rec['car_number'], row['completed_laps'], row['rank'],rec['stageid']]\n",
    "                df = pd.DataFrame([laprec],columns=idxcols)\n",
    "                carindex[eventid] = pd.concat([carindex[eventid], df], ignore_index=True)\n",
    "            \n",
    "          \n",
    "        # push this event into stage dataframe\n",
    "        print('event=%s, records=%d'%(event, len(records)))\n",
    "        df = pd.DataFrame(records,columns=cols)\n",
    "        stagedf = pd.concat([stagedf, df], ignore_index=True)\n",
    "        \n",
    "        #for the next new event\n",
    "        #eventid += 1\n",
    "        \n",
    "    return stagedf, carindex"
   ]
  },
  {
   "cell_type": "markdown",
   "metadata": {},
   "source": [
    "### load data"
   ]
  },
  {
   "cell_type": "code",
   "execution_count": 9,
   "metadata": {},
   "outputs": [
    {
     "name": "stdout",
     "output_type": "stream",
     "text": [
      "('count of completed cars:', 11)\n",
      "('completed cars:', array([ 1,  6, 27,  9, 28,  5, 20, 14, 15, 22, 30]))\n",
      "('cars:', set([1, 5, 6, 9, 14, 15, 20, 22, 27, 28, 30]))\n",
      "('#cars=', 11)\n",
      "('count of completed cars:', 11)\n",
      "('completed cars:', array([ 1,  6, 27,  9, 28,  5, 20, 14, 15, 22, 30]))\n",
      "('cars:', set([1, 4, 5, 6, 9, 10, 12, 14, 15, 18, 19, 20, 21, 22, 23, 26, 27, 28, 30, 32, 59, 88, 98]))\n",
      "('#cars=', 23)\n"
     ]
    },
    {
     "name": "stderr",
     "output_type": "stream",
     "text": [
      "/scratch/hpda/anaconda3/envs/py2/lib/python2.7/site-packages/ipykernel_launcher.py:22: SettingWithCopyWarning: \n",
      "A value is trying to be set on a copy of a slice from a DataFrame\n",
      "\n",
      "See the caveats in the documentation: http://pandas.pydata.org/pandas-docs/stable/indexing.html#indexing-view-versus-copy\n",
      "/scratch/hpda/anaconda3/envs/py2/lib/python2.7/site-packages/ipykernel_launcher.py:26: SettingWithCopyWarning: \n",
      "A value is trying to be set on a copy of a slice from a DataFrame\n",
      "\n",
      "See the caveats in the documentation: http://pandas.pydata.org/pandas-docs/stable/indexing.html#indexing-view-versus-copy\n"
     ]
    },
    {
     "name": "stdout",
     "output_type": "stream",
     "text": [
      "Phoenix: carno=23, lapnum=251\n",
      "('crash?:carno=', 10)\n",
      "('crash?:carno=', 19)\n",
      "('count of completed cars:', 18)\n",
      "('completed cars:', array([12, 20,  9, 27, 28, 22, 29,  1,  6, 15, 66, 98,  4, 88, 25, 60, 64,\n",
      "       23]))\n",
      "('cars:', set([64, 1, 66, 4, 6, 9, 12, 98, 15, 60, 20, 22, 23, 88, 25, 27, 28, 29]))\n",
      "('#cars=', 18)\n",
      "('count of completed cars:', 18)\n",
      "('completed cars:', array([12, 20,  9, 27, 28, 22, 29,  1,  6, 15, 66, 98,  4, 88, 25, 60, 64,\n",
      "       23]))\n",
      "('cars:', set([1, 3, 4, 6, 7, 9, 10, 12, 13, 14, 15, 17, 18, 19, 20, 21, 22, 23, 24, 25, 26, 27, 28, 29, 30, 32, 33, 59, 60, 64, 66, 88, 98]))\n",
      "('#cars=', 33)\n",
      "Indy500: carno=33, lapnum=201\n",
      "('crash?:carno=', 3)\n",
      "('crash?:carno=', 24)\n",
      "('crash?:carno=', 33)\n",
      "('count of completed cars:', 9)\n",
      "('completed cars:', array([ 9, 22, 27,  5, 28, 15, 30, 18, 10]))\n",
      "('cars:', set([5, 9, 10, 15, 18, 22, 27, 28, 30]))\n",
      "('#cars=', 9)\n",
      "('count of completed cars:', 9)\n",
      "('completed cars:', array([ 9, 22, 27,  5, 28, 15, 30, 18, 10]))\n",
      "('cars:', set([1, 3, 4, 5, 6, 7, 9, 10, 12, 14, 15, 18, 19, 20, 21, 22, 23, 25, 26, 27, 28, 30, 47, 55, 57, 59, 60, 68, 73, 83, 88, 98]))\n",
      "('#cars=', 32)\n",
      "Texas: carno=32, lapnum=249\n",
      "('crash?:carno=', 12)\n",
      "('crash?:carno=', 19)\n",
      "('count of completed cars:', 5)\n",
      "('completed cars:', array([ 5, 21, 30,  1,  6]))\n",
      "('cars:', set([1, 30, 5, 6, 21]))\n",
      "('#cars=', 5)\n",
      "('count of completed cars:', 5)\n",
      "('completed cars:', array([ 5, 21, 30,  1,  6]))\n",
      "('cars:', set([1, 4, 5, 6, 9, 10, 12, 14, 15, 18, 19, 20, 21, 22, 23, 26, 27, 28, 30, 59, 88, 98]))\n",
      "('#cars=', 22)\n",
      "Iowa: carno=22, lapnum=301\n",
      "('crash?:carno=', 28)\n",
      "('count of completed cars:', 4)\n",
      "('completed cars:', array([27, 12,  9, 18]))\n",
      "('cars:', set([9, 18, 27, 12]))\n",
      "('#cars=', 4)\n",
      "('count of completed cars:', 4)\n",
      "('completed cars:', array([27, 12,  9, 18]))\n",
      "('cars:', set([1, 4, 5, 6, 9, 10, 12, 14, 15, 18, 19, 20, 21, 22, 23, 26, 27, 28, 30, 59, 88, 98]))\n",
      "('#cars=', 22)\n",
      "Pocono: carno=22, lapnum=201\n",
      "('count of completed cars:', 8)\n",
      "('completed cars:', array([12, 27,  9, 22, 26, 21,  1, 10]))\n",
      "('cars:', set([1, 9, 10, 12, 21, 22, 26, 27]))\n",
      "('#cars=', 8)\n",
      "('count of completed cars:', 8)\n",
      "('completed cars:', array([12, 27,  9, 22, 26, 21,  1, 10]))\n",
      "('cars:', set([1, 98, 59, 4, 5, 9, 10, 12, 14, 15, 18, 19, 20, 21, 22, 23, 88, 26, 27, 28, 30]))\n",
      "('#cars=', 21)\n",
      "Gateway: carno=21, lapnum=249\n",
      "('crash?:carno=', 28)\n"
     ]
    }
   ],
   "source": [
    "stagedata = {}\n",
    "traindata = None\n",
    "for event in events:\n",
    "    #alldata, rankdata, acldata, flagdata\n",
    "    stagedata[event] = load_data(event, year)\n",
    "    \n",
    "    alldata, rankdata, acldata, flagdata = stagedata[event]\n",
    "    carlist = set(acldata['car_number'])\n",
    "    laplist = set(acldata['completed_laps'])\n",
    "    print('%s: carno=%d, lapnum=%d'%(event, len(carlist), len(laplist)))\n",
    "    \n",
    "    stage, data = get_stagedata(0)\n",
    "    stagedata[event] = (alldata, rankdata, acldata, flagdata, stage, data)\n",
    "    \n",
    "    if traindata is None:\n",
    "        traindata = data\n",
    "    else:\n",
    "        traindata = np.vstack((traindata, data))"
   ]
  },
  {
   "cell_type": "code",
   "execution_count": 10,
   "metadata": {},
   "outputs": [
    {
     "name": "stdout",
     "output_type": "stream",
     "text": [
      "event=Iowa, records=83\n",
      "event=Phoenix, records=89\n",
      "event=Indy500, records=189\n",
      "event=Pocono, records=104\n",
      "event=Gateway, records=83\n",
      "event=Texas, records=95\n"
     ]
    }
   ],
   "source": [
    "stintdf, carindex = extract_stint_features(stagedata)"
   ]
  },
  {
   "cell_type": "code",
   "execution_count": 11,
   "metadata": {},
   "outputs": [],
   "source": [
    "#stagedf0.reset_index(inplace=True)\n",
    "#stagedf = update_neighbor(stagedf0, carindex) "
   ]
  },
  {
   "cell_type": "code",
   "execution_count": 12,
   "metadata": {},
   "outputs": [],
   "source": [
    "#stintdf = stintdf.drop(columns=['start_lap'])"
   ]
  },
  {
   "cell_type": "code",
   "execution_count": 13,
   "metadata": {},
   "outputs": [],
   "source": [
    "stintdf.to_csv('stint-v2-%s.csv'%year)"
   ]
  },
  {
   "cell_type": "code",
   "execution_count": 14,
   "metadata": {},
   "outputs": [
    {
     "name": "stdout",
     "output_type": "stream",
     "text": [
      "<class 'pandas.core.frame.DataFrame'>\n",
      "RangeIndex: 643 entries, 0 to 642\n",
      "Data columns (total 11 columns):\n",
      "lap_distance         643 non-null object\n",
      "start_lap            643 non-null object\n",
      "caution_distance     643 non-null object\n",
      "eventid              643 non-null object\n",
      "car_number           643 non-null object\n",
      "stageid              643 non-null object\n",
      "pit_in_caution       643 non-null object\n",
      "yellowflag_raised    643 non-null object\n",
      "start_position       643 non-null object\n",
      "start_rank           643 non-null object\n",
      "end_rank             643 non-null object\n",
      "dtypes: object(11)\n",
      "memory usage: 55.3+ KB\n"
     ]
    }
   ],
   "source": [
    "stintdf.info(verbose=True)"
   ]
  },
  {
   "cell_type": "code",
   "execution_count": 15,
   "metadata": {},
   "outputs": [
    {
     "data": {
      "text/html": [
       "<div>\n",
       "<style scoped>\n",
       "    .dataframe tbody tr th:only-of-type {\n",
       "        vertical-align: middle;\n",
       "    }\n",
       "\n",
       "    .dataframe tbody tr th {\n",
       "        vertical-align: top;\n",
       "    }\n",
       "\n",
       "    .dataframe thead th {\n",
       "        text-align: right;\n",
       "    }\n",
       "</style>\n",
       "<table border=\"1\" class=\"dataframe\">\n",
       "  <thead>\n",
       "    <tr style=\"text-align: right;\">\n",
       "      <th></th>\n",
       "      <th>lap_distance</th>\n",
       "      <th>start_lap</th>\n",
       "      <th>caution_distance</th>\n",
       "      <th>eventid</th>\n",
       "      <th>car_number</th>\n",
       "      <th>stageid</th>\n",
       "      <th>pit_in_caution</th>\n",
       "      <th>yellowflag_raised</th>\n",
       "      <th>start_position</th>\n",
       "      <th>start_rank</th>\n",
       "      <th>end_rank</th>\n",
       "    </tr>\n",
       "  </thead>\n",
       "  <tbody>\n",
       "    <tr>\n",
       "      <th>0</th>\n",
       "      <td>81</td>\n",
       "      <td>0</td>\n",
       "      <td>1</td>\n",
       "      <td>3</td>\n",
       "      <td>1</td>\n",
       "      <td>0</td>\n",
       "      <td>0</td>\n",
       "      <td>0</td>\n",
       "      <td>2</td>\n",
       "      <td>2</td>\n",
       "      <td>1</td>\n",
       "    </tr>\n",
       "    <tr>\n",
       "      <th>1</th>\n",
       "      <td>63</td>\n",
       "      <td>80</td>\n",
       "      <td>4</td>\n",
       "      <td>3</td>\n",
       "      <td>1</td>\n",
       "      <td>1</td>\n",
       "      <td>1</td>\n",
       "      <td>1</td>\n",
       "      <td>2</td>\n",
       "      <td>1</td>\n",
       "      <td>1</td>\n",
       "    </tr>\n",
       "    <tr>\n",
       "      <th>2</th>\n",
       "      <td>83</td>\n",
       "      <td>142</td>\n",
       "      <td>1</td>\n",
       "      <td>3</td>\n",
       "      <td>1</td>\n",
       "      <td>2</td>\n",
       "      <td>0</td>\n",
       "      <td>1</td>\n",
       "      <td>2</td>\n",
       "      <td>1</td>\n",
       "      <td>3</td>\n",
       "    </tr>\n",
       "    <tr>\n",
       "      <th>3</th>\n",
       "      <td>74</td>\n",
       "      <td>224</td>\n",
       "      <td>4</td>\n",
       "      <td>3</td>\n",
       "      <td>1</td>\n",
       "      <td>3</td>\n",
       "      <td>1</td>\n",
       "      <td>1</td>\n",
       "      <td>2</td>\n",
       "      <td>3</td>\n",
       "      <td>2</td>\n",
       "    </tr>\n",
       "    <tr>\n",
       "      <th>4</th>\n",
       "      <td>77</td>\n",
       "      <td>0</td>\n",
       "      <td>1</td>\n",
       "      <td>3</td>\n",
       "      <td>5</td>\n",
       "      <td>0</td>\n",
       "      <td>0</td>\n",
       "      <td>0</td>\n",
       "      <td>11</td>\n",
       "      <td>11</td>\n",
       "      <td>6</td>\n",
       "    </tr>\n",
       "    <tr>\n",
       "      <th>5</th>\n",
       "      <td>67</td>\n",
       "      <td>76</td>\n",
       "      <td>5</td>\n",
       "      <td>3</td>\n",
       "      <td>5</td>\n",
       "      <td>1</td>\n",
       "      <td>1</td>\n",
       "      <td>1</td>\n",
       "      <td>11</td>\n",
       "      <td>6</td>\n",
       "      <td>4</td>\n",
       "    </tr>\n",
       "    <tr>\n",
       "      <th>6</th>\n",
       "      <td>82</td>\n",
       "      <td>142</td>\n",
       "      <td>1</td>\n",
       "      <td>3</td>\n",
       "      <td>5</td>\n",
       "      <td>2</td>\n",
       "      <td>0</td>\n",
       "      <td>1</td>\n",
       "      <td>11</td>\n",
       "      <td>4</td>\n",
       "      <td>7</td>\n",
       "    </tr>\n",
       "    <tr>\n",
       "      <th>7</th>\n",
       "      <td>80</td>\n",
       "      <td>0</td>\n",
       "      <td>1</td>\n",
       "      <td>3</td>\n",
       "      <td>6</td>\n",
       "      <td>0</td>\n",
       "      <td>0</td>\n",
       "      <td>0</td>\n",
       "      <td>7</td>\n",
       "      <td>7</td>\n",
       "      <td>3</td>\n",
       "    </tr>\n",
       "    <tr>\n",
       "      <th>8</th>\n",
       "      <td>68</td>\n",
       "      <td>79</td>\n",
       "      <td>10</td>\n",
       "      <td>3</td>\n",
       "      <td>6</td>\n",
       "      <td>1</td>\n",
       "      <td>1</td>\n",
       "      <td>1</td>\n",
       "      <td>7</td>\n",
       "      <td>3</td>\n",
       "      <td>6</td>\n",
       "    </tr>\n",
       "    <tr>\n",
       "      <th>9</th>\n",
       "      <td>79</td>\n",
       "      <td>146</td>\n",
       "      <td>1</td>\n",
       "      <td>3</td>\n",
       "      <td>6</td>\n",
       "      <td>2</td>\n",
       "      <td>0</td>\n",
       "      <td>1</td>\n",
       "      <td>7</td>\n",
       "      <td>6</td>\n",
       "      <td>4</td>\n",
       "    </tr>\n",
       "  </tbody>\n",
       "</table>\n",
       "</div>"
      ],
      "text/plain": [
       "  lap_distance start_lap caution_distance eventid car_number stageid  \\\n",
       "0           81         0                1       3          1       0   \n",
       "1           63        80                4       3          1       1   \n",
       "2           83       142                1       3          1       2   \n",
       "3           74       224                4       3          1       3   \n",
       "4           77         0                1       3          5       0   \n",
       "5           67        76                5       3          5       1   \n",
       "6           82       142                1       3          5       2   \n",
       "7           80         0                1       3          6       0   \n",
       "8           68        79               10       3          6       1   \n",
       "9           79       146                1       3          6       2   \n",
       "\n",
       "  pit_in_caution yellowflag_raised start_position start_rank end_rank  \n",
       "0              0                 0              2          2        1  \n",
       "1              1                 1              2          1        1  \n",
       "2              0                 1              2          1        3  \n",
       "3              1                 1              2          3        2  \n",
       "4              0                 0             11         11        6  \n",
       "5              1                 1             11          6        4  \n",
       "6              0                 1             11          4        7  \n",
       "7              0                 0              7          7        3  \n",
       "8              1                 1              7          3        6  \n",
       "9              0                 1              7          6        4  "
      ]
     },
     "execution_count": 15,
     "metadata": {},
     "output_type": "execute_result"
    }
   ],
   "source": [
    "stintdf.head(10)"
   ]
  },
  {
   "cell_type": "markdown",
   "metadata": {},
   "source": [
    "### pitstop analysis"
   ]
  },
  {
   "cell_type": "code",
   "execution_count": 26,
   "metadata": {},
   "outputs": [],
   "source": [
    "def get_distance_data(data, event=[],car_number=[]):\n",
    "    \"\"\"\n",
    "    data ; stintdf\n",
    "    events_laplen = [1.022,2.5,1.5,0.894,2.5,1.25]\n",
    "    \n",
    "    return:\n",
    "    normal_stint   ; stint without yellow flags\n",
    "    yellow_stint   ; yellow flag raised and stop in normal lap\n",
    "    caution_stint  ; yellow flag raised and stop in caution lap\n",
    "    \n",
    "    \"\"\"\n",
    "    if car_number:\n",
    "        data = data[data['car_number'].isin(car_number)]\n",
    "    if event:\n",
    "        eventid = [events_id[x] for x in event]\n",
    "        data = data[data['eventid'].isin(eventid)]\n",
    "        \n",
    "    car = data\n",
    "    \n",
    "    normal_stint = car[(car['pit_in_caution']==0) & (car['yellowflag_raised']==0)][['eventid','lap_distance']].to_numpy()\n",
    "    normal_laplen = [events_laplen[x[0]]*x[1] for x in normal_stint]\n",
    "    \n",
    "    yellow_stint = car[(car['pit_in_caution']==0) & (car['yellowflag_raised']==1)][['eventid','lap_distance']].to_numpy()\n",
    "    yellow_laplen = [events_laplen[x[0]]*x[1] for x in yellow_stint]\n",
    "    \n",
    "    # distance to the previous pitstop lap\n",
    "    caution_stint = car[car['pit_in_caution']==1][['eventid','lap_distance']].to_numpy()\n",
    "    caution_laplen = [events_laplen[x[0]]*x[1] for x in caution_stint]\n",
    "    \n",
    "    # distance to the first caution lap\n",
    "    caution_stint = car[car['pit_in_caution']==1][['eventid','caution_distance']].to_numpy()\n",
    "    caution_laplen2 = [events_laplen[x[0]]*x[1] for x in caution_stint]\n",
    "  \n",
    "    \n",
    "    #plot it\n",
    "    return normal_laplen, yellow_laplen, caution_laplen, caution_laplen2\n"
   ]
  },
  {
   "cell_type": "code",
   "execution_count": 34,
   "metadata": {},
   "outputs": [
    {
     "data": {
      "text/plain": [
       "<matplotlib.legend.Legend at 0x7ff824268e90>"
      ]
     },
     "execution_count": 34,
     "metadata": {},
     "output_type": "execute_result"
    },
    {
     "data": {
      "image/png": "[encoded data removed]",
      "text/plain": [
       "<Figure size 432x288 with 1 Axes>"
      ]
     },
     "metadata": {
      "needs_background": "light"
     },
     "output_type": "display_data"
    }
   ],
   "source": [
    "# car 12, will power\n",
    "set(rankdata[rankdata['car_number']==12]['last_pitted_lap'])\n",
    "nlap, ylap, clap, clap2 = get_distance_data(stintdf, car_number=[12])\n",
    "plt.hist(nlap,label='normal')\n",
    "plt.hist(clap, alpha=0.7,label='caution')\n",
    "plt.hist(clap2, alpha=0.7,label='caution_ex')\n",
    "plt.xlabel('Distance(miles)')\n",
    "plt.ylabel('Frequence')\n",
    "plt.title('Stint Distance Distribution: car 12, will power')\n",
    "plt.legend(prop={'size': 10})"
   ]
  },
  {
   "cell_type": "code",
   "execution_count": 35,
   "metadata": {},
   "outputs": [
    {
     "data": {
      "text/plain": [
       "<matplotlib.legend.Legend at 0x7ff8241d2d50>"
      ]
     },
     "execution_count": 35,
     "metadata": {},
     "output_type": "execute_result"
    },
    {
     "data": {
      "image/png": "[encoded data removed]",
      "text/plain": [
       "<Figure size 432x288 with 1 Axes>"
      ]
     },
     "metadata": {
      "needs_background": "light"
     },
     "output_type": "display_data"
    }
   ],
   "source": [
    "#get all data\n",
    "carno_set = set(stintdf['car_number'].values)\n",
    "normal_dist,yellow_dist, caution_dist,caution_dist2  = get_distance_data(stintdf, car_number=carno_set)    \n",
    "plt.hist(normal_dist,label='normal')\n",
    "plt.hist(caution_dist,alpha=0.7,label='caution')\n",
    "plt.hist(caution_dist2,alpha=0.7,label='caution_ex')\n",
    "plt.xlabel('Distance(miles)')\n",
    "plt.ylabel('Frequence')\n",
    "plt.title('Stint Distance Distribution: all cars')\n",
    "plt.legend(prop={'size': 10})"
   ]
  },
  {
   "cell_type": "code",
   "execution_count": 36,
   "metadata": {},
   "outputs": [
    {
     "data": {
      "text/plain": [
       "(array([19., 34., 25., 36., 56.,  4., 16., 11., 29.,  7.]),\n",
       " array([ 1.25 ,  3.125,  5.   ,  6.875,  8.75 , 10.625, 12.5  , 14.375,\n",
       "        16.25 , 18.125, 20.   ]),\n",
       " <a list of 10 Patch objects>)"
      ]
     },
     "execution_count": 36,
     "metadata": {},
     "output_type": "execute_result"
    },
    {
     "data": {
      "image/png": "[encoded data removed]",
      "text/plain": [
       "<Figure size 432x288 with 1 Axes>"
      ]
     },
     "metadata": {
      "needs_background": "light"
     },
     "output_type": "display_data"
    }
   ],
   "source": [
    "plt.hist(caution_dist2,alpha=0.7)"
   ]
  },
  {
   "cell_type": "code",
   "execution_count": 37,
   "metadata": {},
   "outputs": [
    {
     "data": {
      "text/plain": [
       "(array([ 2.,  0., 22.,  0., 28.,  5.,  0.,  5.,  7.,  6.]),\n",
       " array([ 2.5 ,  4.25,  6.  ,  7.75,  9.5 , 11.25, 13.  , 14.75, 16.5 ,\n",
       "        18.25, 20.  ]),\n",
       " <a list of 10 Patch objects>)"
      ]
     },
     "execution_count": 37,
     "metadata": {},
     "output_type": "execute_result"
    },
    {
     "data": {
      "image/png": "[encoded data removed]",
      "text/plain": [
       "<Figure size 432x288 with 1 Axes>"
      ]
     },
     "metadata": {
      "needs_background": "light"
     },
     "output_type": "display_data"
    }
   ],
   "source": [
    "#get all data for one event\n",
    "carno_set = set(stintdf['car_number'].values)\n",
    "event_set = ['Indy500']\n",
    "normal_dist,yellow_dist,caution_dist,caution_dist2 = get_distance_data(stintdf, event=event_set, car_number=carno_set) \n",
    "plt.hist(normal_dist)\n",
    "plt.hist(caution_dist,alpha=0.7)\n",
    "plt.hist(caution_dist2,alpha=0.7)"
   ]
  },
  {
   "cell_type": "code",
   "execution_count": 38,
   "metadata": {},
   "outputs": [
    {
     "data": {
      "text/plain": [
       "<matplotlib.legend.Legend at 0x7ff823ff1d90>"
      ]
     },
     "execution_count": 38,
     "metadata": {},
     "output_type": "execute_result"
    },
    {
     "data": {
      "image/png": "[encoded data removed]",
      "text/plain": [
       "<Figure size 432x288 with 1 Axes>"
      ]
     },
     "metadata": {
      "needs_background": "light"
     },
     "output_type": "display_data"
    }
   ],
   "source": [
    "# the top drivers\n",
    "#https://www.racing-reference.info/dquery2.jsp\n",
    "top_cars=[9,1,12,27,28,18,5,30]\n",
    "normal_dist,yellow_dist,caution_dist,caution_dist2 = get_distance_data(stintdf, car_number=top_cars)  \n",
    "plt.hist(normal_dist,label='normal')\n",
    "plt.hist(caution_dist,alpha=0.7,label='caution')\n",
    "plt.hist(caution_dist2,alpha=0.7,label='caution_ex')\n",
    "plt.xlabel('Distance(miles)')\n",
    "plt.ylabel('Frequence')\n",
    "plt.title('Stint Distance Distribution: top 8 drivers')\n",
    "plt.legend(prop={'size': 10})"
   ]
  },
  {
   "cell_type": "code",
   "execution_count": 39,
   "metadata": {},
   "outputs": [
    {
     "data": {
      "text/plain": [
       "<matplotlib.legend.Legend at 0x7ff8242aaf90>"
      ]
     },
     "execution_count": 39,
     "metadata": {},
     "output_type": "execute_result"
    },
    {
     "data": {
      "image/png": "[encoded data removed]",
      "text/plain": [
       "<Figure size 432x288 with 1 Axes>"
      ]
     },
     "metadata": {
      "needs_background": "light"
     },
     "output_type": "display_data"
    }
   ],
   "source": [
    "other_cars=set(carno_set).difference(set(top_cars))\n",
    "normal_dist,yellow_dist,caution_dist,caution_dist2 = get_distance_data(stintdf, car_number=other_cars)  \n",
    "plt.hist(normal_dist,label='normal')\n",
    "plt.hist(caution_dist,alpha=0.7,label='caution')\n",
    "plt.hist(caution_dist2,alpha=0.7,label='caution_ex')\n",
    "plt.xlabel('Distance(miles)')\n",
    "plt.ylabel('Frequence')\n",
    "plt.title('Stint Distance Distribution: other drivers')\n",
    "plt.legend(prop={'size': 10})"
   ]
  },
  {
   "cell_type": "code",
   "execution_count": 41,
   "metadata": {},
   "outputs": [
    {
     "data": {
      "text/plain": [
       "(array([10., 24., 18., 27., 41.,  3., 14., 11., 20.,  7.]),\n",
       " array([ 1.25 ,  3.125,  5.   ,  6.875,  8.75 , 10.625, 12.5  , 14.375,\n",
       "        16.25 , 18.125, 20.   ]),\n",
       " <a list of 10 Patch objects>)"
      ]
     },
     "execution_count": 41,
     "metadata": {},
     "output_type": "execute_result"
    },
    {
     "data": {
      "image/png": "[encoded data removed]",
      "text/plain": [
       "<Figure size 432x288 with 2 Axes>"
      ]
     },
     "metadata": {
      "needs_background": "light"
     },
     "output_type": "display_data"
    }
   ],
   "source": [
    "# subplot comparison\n",
    "fig, axs = plt.subplots(2, 1)\n",
    "#get all data\n",
    "carno_set = set(stintdf['car_number'].values)\n",
    "normal_dist,yellow_dist,caution_dist,caution_dist2 = get_distance_data(stintdf, car_number=carno_set)    \n",
    "#axs[0].hist(normal_dist)\n",
    "#axs[0].hist(caution_dist,alpha=0.7)\n",
    "# the top drivers\n",
    "#https://www.racing-reference.info/dquery2.jsp\n",
    "top_cars=[9,1,12,27,28,18,5,30]\n",
    "normal_dist,yellow_dist,caution_dist,caution_dist2 = get_distance_data(stintdf, car_number=top_cars)  \n",
    "axs[0].hist(normal_dist)\n",
    "axs[0].hist(caution_dist,alpha=0.7)\n",
    "axs[0].hist(caution_dist2,alpha=0.7)\n",
    "# the other cars\n",
    "other_cars=set(carno_set).difference(set(top_cars))\n",
    "normal_dist,yellow_dist,caution_dist,caution_dist2 = get_distance_data(stintdf, car_number=other_cars)  \n",
    "axs[1].hist(normal_dist)\n",
    "axs[1].hist(caution_dist,alpha=0.7)\n",
    "axs[1].hist(caution_dist2,alpha=0.7)"
   ]
  },
  {
   "cell_type": "code",
   "execution_count": 42,
   "metadata": {},
   "outputs": [
    {
     "name": "stderr",
     "output_type": "stream",
     "text": [
      "/scratch/hpda/anaconda3/envs/py2/lib/python2.7/site-packages/matplotlib/axes/_axes.py:6571: UserWarning: The 'normed' kwarg is deprecated, and has been replaced by the 'density' kwarg.\n",
      "  warnings.warn(\"The 'normed' kwarg is deprecated, and has been \"\n",
      "/scratch/hpda/anaconda3/envs/py2/lib/python2.7/site-packages/ipykernel_launcher.py:16: MatplotlibDeprecationWarning: scipy.stats.norm.pdf\n",
      "  app.launch_new_instance()\n",
      "/scratch/hpda/anaconda3/envs/py2/lib/python2.7/site-packages/ipykernel_launcher.py:20: MatplotlibDeprecationWarning: scipy.stats.norm.pdf\n"
     ]
    },
    {
     "data": {
      "image/png": "[encoded data removed]",
      "text/plain": [
       "<Figure size 432x288 with 1 Axes>"
      ]
     },
     "metadata": {
      "needs_background": "light"
     },
     "output_type": "display_data"
    }
   ],
   "source": [
    "# fit the data with normal distribution\n",
    "from scipy.stats import norm\n",
    "import matplotlib.mlab as mlab\n",
    "\n",
    "#get all data\n",
    "carno_set = set(stintdf['car_number'].values)\n",
    "normal_dist,yellow_dist,caution_dist,_ = get_distance_data(stintdf, car_number=carno_set)    \n",
    "\n",
    "# best fit of data\n",
    "(mu, sigma) = norm.fit(normal_dist)\n",
    "\n",
    "# the histogram of the data\n",
    "n, bins, patches = plt.hist(normal_dist, 60,normed=1, alpha=0.7)\n",
    "\n",
    "# add a 'best fit' line\n",
    "y = mlab.normpdf( bins, mu, sigma)\n",
    "l = plt.plot(bins, y, 'r--', linewidth=2)\n",
    "\n",
    "\n",
    "y = mlab.normpdf( bins, mu+4, sigma/2)\n",
    "l = plt.plot(bins, y, 'g--', linewidth=2)\n",
    "\n",
    "\n",
    "#plot\n",
    "plt.xlabel('Distance(miles)')\n",
    "plt.ylabel('Probability')\n",
    "plt.title(r'$\\mathrm{Histogram\\ of\\ StintDistance:}\\ \\mu=%.3f,\\ \\sigma=%.3f$' %(mu, sigma))\n",
    "plt.grid(True)\n"
   ]
  },
  {
   "cell_type": "markdown",
   "metadata": {},
   "source": [
    "### normalized comparison"
   ]
  },
  {
   "cell_type": "code",
   "execution_count": 31,
   "metadata": {},
   "outputs": [
    {
     "data": {
      "text/plain": [
       "<matplotlib.legend.Legend at 0x7ff8243f7490>"
      ]
     },
     "execution_count": 31,
     "metadata": {},
     "output_type": "execute_result"
    },
    {
     "data": {
      "image/png": "[encoded data removed]",
      "text/plain": [
       "<Figure size 432x288 with 1 Axes>"
      ]
     },
     "metadata": {
      "needs_background": "light"
     },
     "output_type": "display_data"
    }
   ],
   "source": [
    "#normalize the comparison\n",
    "bins = range(0,130, 5)\n",
    "top_cars=[9,1,12,27,28,18,5,30]\n",
    "normal_dist,yellow_dist,caution_dist,caution_dist2 = get_distance_data(stintdf, car_number=top_cars)  \n",
    "n, bins, patches = plt.hist(normal_dist,bins=bins, label='top8', density=True,histtype='stepfilled')\n",
    "\n",
    "other_cars=set(carno_set).difference(set(top_cars))\n",
    "normal_dist,yellow_dist,caution_dist,caution_dist2 = get_distance_data(stintdf, car_number=other_cars)  \n",
    "n2, bins2, patches2 = plt.hist(normal_dist,bins=bins,label='others', alpha=0.7,density=True,histtype='stepfilled')\n",
    "plt.xlabel('Distance(miles)')\n",
    "plt.ylabel('Frequence')\n",
    "plt.title('Stint Distance Distribution: Normal Race Stints')\n",
    "plt.legend(prop={'size': 10})"
   ]
  },
  {
   "cell_type": "code",
   "execution_count": 32,
   "metadata": {},
   "outputs": [
    {
     "data": {
      "text/plain": [
       "<matplotlib.legend.Legend at 0x7ff824369c50>"
      ]
     },
     "execution_count": 32,
     "metadata": {},
     "output_type": "execute_result"
    },
    {
     "data": {
      "image/png": "[encoded data removed]",
      "text/plain": [
       "<Figure size 432x288 with 1 Axes>"
      ]
     },
     "metadata": {
      "needs_background": "light"
     },
     "output_type": "display_data"
    }
   ],
   "source": [
    "#normalize the comparison\n",
    "bins = range(0,130, 5)\n",
    "top_cars=[9,1,12,27,28,18,5,30]\n",
    "normal_dist,yellow_dist,caution_dist,caution_dist2 = get_distance_data(stintdf, car_number=top_cars)  \n",
    "n, bins, patches = plt.hist(yellow_dist,bins=bins, label='top8', density=True,histtype='stepfilled')\n",
    "\n",
    "\n",
    "other_cars=set(carno_set).difference(set(top_cars))\n",
    "normal_dist,yellow_dist,caution_dist,caution_dist2 = get_distance_data(stintdf, car_number=other_cars)  \n",
    "n2, bins2, patches2 = plt.hist(yellow_dist,bins=bins,label='others', alpha=0.7,density=True,histtype='stepfilled')\n",
    "plt.xlabel('Distance(miles)')\n",
    "plt.ylabel('Frequence')\n",
    "plt.title('Stint Distance Distribution: YelowFlag Raised Stints')\n",
    "plt.legend(prop={'size': 10})"
   ]
  },
  {
   "cell_type": "code",
   "execution_count": 33,
   "metadata": {},
   "outputs": [
    {
     "data": {
      "text/plain": [
       "<matplotlib.legend.Legend at 0x7ff824422cd0>"
      ]
     },
     "execution_count": 33,
     "metadata": {},
     "output_type": "execute_result"
    },
    {
     "data": {
      "image/png": "[encoded data removed]",
      "text/plain": [
       "<Figure size 432x288 with 1 Axes>"
      ]
     },
     "metadata": {
      "needs_background": "light"
     },
     "output_type": "display_data"
    }
   ],
   "source": [
    "#normalize the comparison\n",
    "bins = range(0,130, 5)\n",
    "top_cars=[9,1,12,27,28,18,5,30]\n",
    "normal_dist,yellow_dist,caution_dist,caution_dist2 = get_distance_data(stintdf, car_number=top_cars)  \n",
    "n, bins, patches = plt.hist(caution_dist,bins=bins, label='top8', density=True,histtype='stepfilled')\n",
    "\n",
    "other_cars=set(carno_set).difference(set(top_cars))\n",
    "normal_dist,yellow_dist,caution_dist,caution_dist2 = get_distance_data(stintdf, car_number=other_cars)  \n",
    "n2, bins2, patches2 = plt.hist(caution_dist,bins=bins,label='others', alpha=0.7,density=True,histtype='stepfilled')\n",
    "plt.xlabel('Distance(miles)')\n",
    "plt.ylabel('Frequence')\n",
    "plt.title('Stint Distance Distribution: CautionPit Stints')\n",
    "plt.legend(prop={'size': 10})"
   ]
  },
  {
   "cell_type": "markdown",
   "metadata": {},
   "source": [
    "### conclusion\n",
    "\n",
    "normal_stints seem to be a single side exponential distribution or beta.\n",
    "\n",
    "drivers prefer to drive as far as they can"
   ]
  },
  {
   "cell_type": "code",
   "execution_count": null,
   "metadata": {},
   "outputs": [],
   "source": []
  }
 ],
 "metadata": {
  "kernelspec": {
   "display_name": "Python 2",
   "language": "python",
   "name": "python2"
  },
  "language_info": {
   "codemirror_mode": {
    "name": "ipython",
    "version": 2
   },
   "file_extension": ".py",
   "mimetype": "text/x-python",
   "name": "python",
   "nbconvert_exporter": "python",
   "pygments_lexer": "ipython2",
   "version": "2.7.17"
  }
 },
 "nbformat": 4,
 "nbformat_minor": 2
}
